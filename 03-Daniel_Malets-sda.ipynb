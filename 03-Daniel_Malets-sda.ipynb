{
 "cells": [
  {
   "cell_type": "markdown",
   "id": "f64c74a3",
   "metadata": {},
   "source": [
    "Hi Daniel. I'm Svetlana and will review your project. I've added all my comments to new cells with different coloring. Please don't delete my comments.\n",
    "\n",
    "\n",
    "The first time I see a mistake, I'll just point it out and let you find it and fix it yourself. In a real job, your boss will do the same, and I'm trying to prepare you to work as an Data Analyst. But if you can't handle this task yet, I'll give you a more accurate hint at the next check.\n",
    "\n",
    "<div class=\"alert alert-success\" role=\"alert\">\n",
    "Reviewer's comment v. 1:\n",
    "    \n",
    "If you did something great I'm using green color for my comment\n",
    "</div>\n",
    "\n",
    "<div class=\"alert alert-warning\" role=\"alert\">\n",
    "Reviewer's comment v. 1:\n",
    "    \n",
    "If I want to give you advice or think that something can be improved, then I'll use yellow. This is an optional recommendation.\n",
    "</div>\n",
    "\n",
    "<div class=\"alert alert-danger\" role=\"alert\">\n",
    "Reviewer's comment v. 1:\n",
    "    \n",
    "If the topic requires some extra work so I can accept it then the color will be red\n",
    "</div>\n",
    "\n",
    "## Review v. 1<a class=\"tocSkip\">\n",
    "\n",
    "Unfortunately, due to temporary problems on the server, the previous review was not saved.\n",
    "    \n",
    "You've worked really hard and submitted a solid project. While there's room for improvement, on the whole, your project is looking good. There are few things that need to be corrected in your project. They're mostly minor issues that are easy to fix. \"Improve\" comments mean that there are tiny corrections which could help you to make your project better. One more time and you'll have it!"
   ]
  },
  {
   "cell_type": "markdown",
   "id": "00b960d3",
   "metadata": {},
   "source": [
    "<div class=\"alert alert-info\"> <b>Student comment:</b> <br />\n",
    "I very much appreciate all of your input and time invested into the detailed comments, Svetlana. Thank you! <br />\n",
    "I have added conclusions to each section, and have answered all of the red comment blocks. <br />\n",
    "Hope it's better now 🤠"
   ]
  },
  {
   "cell_type": "markdown",
   "id": "041efcfa",
   "metadata": {},
   "source": [
    "## Review v. 2<a class=\"tocSkip\">\n",
    "\n",
    "All your hard work has paid off, and now your project is perfect! I'm glad to say that your project has been accepted. Keep up the good work, and good luck on the next sprint!"
   ]
  },
  {
   "cell_type": "code",
   "execution_count": 1,
   "id": "5d8fdd71",
   "metadata": {},
   "outputs": [
    {
     "name": "stdout",
     "output_type": "stream",
     "text": [
      "Defaulting to user installation because normal site-packages is not writeable\n",
      "Collecting pandas\n",
      "  Downloading pandas-1.3.0-cp37-cp37m-manylinux_2_5_x86_64.manylinux1_x86_64.whl (10.8 MB)\n",
      "\u001b[K     |████████████████████████████████| 10.8 MB 15.6 MB/s eta 0:00:01\n",
      "\u001b[?25hRequirement already satisfied, skipping upgrade: python-dateutil>=2.7.3 in /opt/conda/lib/python3.7/site-packages (from pandas) (2.8.1)\n",
      "Requirement already satisfied, skipping upgrade: pytz>=2017.3 in /opt/conda/lib/python3.7/site-packages (from pandas) (2021.1)\n",
      "Requirement already satisfied, skipping upgrade: numpy>=1.17.3 in /opt/conda/lib/python3.7/site-packages (from pandas) (1.19.5)\n",
      "Requirement already satisfied, skipping upgrade: six>=1.5 in /opt/conda/lib/python3.7/site-packages (from python-dateutil>=2.7.3->pandas) (1.15.0)\n",
      "Installing collected packages: pandas\n",
      "Successfully installed pandas-1.3.0\n"
     ]
    }
   ],
   "source": [
    "!pip install --upgrade pandas"
   ]
  },
  {
   "cell_type": "code",
   "execution_count": 2,
   "id": "7ef69808",
   "metadata": {},
   "outputs": [],
   "source": [
    "import pandas as pd\n",
    "import numpy as np\n",
    "import scipy.stats as st\n",
    "import matplotlib.pyplot as plt\n",
    "import matplotlib.colors as mcolors\n",
    "import os.path, io\n",
    "from functools import reduce\n",
    "from IPython.display import display, display_html\n",
    "from IPython.display import Markdown as md"
   ]
  },
  {
   "cell_type": "markdown",
   "id": "55c7fe20",
   "metadata": {},
   "source": [
    "The aim of this project is to analyse and compare Megaline's (a Telecom operator) user plans:  \n",
    " \\- Surf and Ultimate.  \n",
    "Check client's usage, and determine which plan brings in more revenue."
   ]
  },
  {
   "cell_type": "markdown",
   "id": "124a8683",
   "metadata": {},
   "source": [
    "<a class=\"anchor\" id=\"0_toc\"></a>\n",
    "# Table of Contents\n",
    "***\n",
    "\n",
    "1. [Datasets](#1_data_files)\n",
    "2. [Preprocess](#2_preprocess)\n",
    "    1. [Plans](#2_1-plans)\n",
    "    2. [Users](#2_2-users)\n",
    "    3. [Calls](#2_3-calls)\n",
    "    4. [Messages](#2_4-messages)\n",
    "    5. [Internet](#2_5-internet)\n",
    "    <br />[Conclusions](#2_preprocess-conclusions)\n",
    "3. [Data Structure](#3_data_structure)\n",
    "    1. [Monthly calls usage](#3_1-monthly_calls)\n",
    "    2. [Monthly messages usage](#3_2-monthly_messages)\n",
    "    3. [Monthly internet usage](#3_3-monthly_internet)\n",
    "    4. [Monthly revenue by user](#3_4-monthly_revenue)\n",
    "    5. [Average revenue per user](#3_5-avg_user_revenue)\n",
    "    6. [Total usage by plan](#3_6-total_usage)\n",
    "    7. [Excess usage by plan](#3_7-excess_usage)\n",
    "    <br />[Conclusions](#3_data_structure-conclusions)\n",
    "4. [Analysis](#4_analysis)\n",
    "    1. [Outliers](#4_1-outliers)\n",
    "    2. [Descriptive statistics](#4_2-stats)\n",
    "    3. [Plots](#4_3-plots)\n",
    "    <br />[Conclusions](#4_analysis-conclusions)\n",
    "5. [Hypotheses testing](#5_hypotheses)\n",
    "    1. [Surf / Ultimate Plans hypothesis](#5_1-plans_hypothesis)\n",
    "    2. [NY-NJ hypothesis](#5_2-ny_nj_hypothesis)\n",
    "    <br />[Conclusions](#5_hypotheses-conclusions)\n",
    "6. [Conclusions](#6_conclusions)"
   ]
  },
  {
   "cell_type": "markdown",
   "id": "2c6a3f38",
   "metadata": {},
   "source": [
    "<div class=\"alert alert-success\" role=\"alert\">\n",
    "Reviewer's comment v. 1:\n",
    "    \n",
    "Well done that you formulated a goal of the project.\n",
    "</div>"
   ]
  },
  {
   "cell_type": "markdown",
   "id": "aaeca607",
   "metadata": {},
   "source": [
    "<a class=\"anchor\" id=\"1_data_files\"></a>\n",
    "## Parse Datasets\n",
    "***\n",
    "[back to Table of Contents](#0_toc)"
   ]
  },
  {
   "cell_type": "code",
   "execution_count": 3,
   "id": "ca585538",
   "metadata": {},
   "outputs": [],
   "source": [
    "dataset_files = [\n",
    "    'megaline_calls.csv',\n",
    "    'megaline_internet.csv',\n",
    "    'megaline_messages.csv',\n",
    "    'megaline_plans.csv',\n",
    "    'megaline_users.csv'\n",
    "]"
   ]
  },
  {
   "cell_type": "code",
   "execution_count": 4,
   "id": "d7fd725a",
   "metadata": {},
   "outputs": [],
   "source": [
    "def print_file_metadata(filepath):\n",
    "    \"\"\"Prints metadata related to files\"\"\"\n",
    "    \n",
    "    try:\n",
    "        !du -m \"$filepath\"      # filesize in MiB\n",
    "        !stat -c %y \"$filepath\" # date, filename\n",
    "        !file \"$filepath\"       # file type, encoding\n",
    "        !wc -l \"$filepath\"      # line count\n",
    "        !head -n3 \"$filepath\"   # file preview\n",
    "    except Exception as e:\n",
    "        print(e)"
   ]
  },
  {
   "cell_type": "code",
   "execution_count": 5,
   "id": "8f7984eb",
   "metadata": {},
   "outputs": [],
   "source": [
    "def load_files(files):\n",
    "    \"\"\"Returns parsed DataFrames\"\"\"\n",
    "    \n",
    "    def load_file(file):\n",
    "        display(md(f'\\n***\\n#### Loading {file}..\\n\\n'))\n",
    "        \n",
    "        filepath = f'/datasets/{file}'\n",
    "        if not os.path.isfile(filepath):\n",
    "            filepath = file\n",
    "            \n",
    "        print_file_metadata(filepath)\n",
    "        \n",
    "        return pd.read_csv(filepath)\n",
    "    \n",
    "    return [load_file(file) for file in files]"
   ]
  },
  {
   "cell_type": "markdown",
   "id": "eb5a7902",
   "metadata": {},
   "source": [
    "<div class=\"alert alert-success\" role=\"alert\">\n",
    "Reviewer's comment v. 1:\n",
    "    \n",
    "Well done for writing a separate functions\n",
    "</div>"
   ]
  },
  {
   "cell_type": "code",
   "execution_count": 6,
   "id": "0bda4011",
   "metadata": {
    "scrolled": false
   },
   "outputs": [
    {
     "data": {
      "text/markdown": [
       "\n",
       "***\n",
       "#### Loading megaline_calls.csv..\n",
       "\n"
      ],
      "text/plain": [
       "<IPython.core.display.Markdown object>"
      ]
     },
     "metadata": {},
     "output_type": "display_data"
    },
    {
     "name": "stdout",
     "output_type": "stream",
     "text": [
      "4\t/datasets/megaline_calls.csv\n",
      "2020-03-06 14:20:36.045115188 +0000\n",
      "/bin/bash: file: command not found\n",
      "137736 /datasets/megaline_calls.csv\n",
      "id,user_id,call_date,duration\n",
      "1000_93,1000,2018-12-27,8.52\n",
      "1000_145,1000,2018-12-27,13.66\n"
     ]
    },
    {
     "data": {
      "text/markdown": [
       "\n",
       "***\n",
       "#### Loading megaline_internet.csv..\n",
       "\n"
      ],
      "text/plain": [
       "<IPython.core.display.Markdown object>"
      ]
     },
     "metadata": {},
     "output_type": "display_data"
    },
    {
     "name": "stdout",
     "output_type": "stream",
     "text": [
      "4\t/datasets/megaline_internet.csv\n",
      "2020-03-06 14:20:35.704904803 +0000\n",
      "/bin/bash: file: command not found\n",
      "104826 /datasets/megaline_internet.csv\n",
      "id,user_id,session_date,mb_used\n",
      "1000_13,1000,2018-12-29,89.86\n",
      "1000_204,1000,2018-12-31,0.0\n"
     ]
    },
    {
     "data": {
      "text/markdown": [
       "\n",
       "***\n",
       "#### Loading megaline_messages.csv..\n",
       "\n"
      ],
      "text/plain": [
       "<IPython.core.display.Markdown object>"
      ]
     },
     "metadata": {},
     "output_type": "display_data"
    },
    {
     "name": "stdout",
     "output_type": "stream",
     "text": [
      "2\t/datasets/megaline_messages.csv\n",
      "2020-03-06 14:20:35.216904498 +0000\n",
      "/bin/bash: file: command not found\n",
      "76052 /datasets/megaline_messages.csv\n",
      "id,user_id,message_date\n",
      "1000_125,1000,2018-12-27\n",
      "1000_160,1000,2018-12-31\n"
     ]
    },
    {
     "data": {
      "text/markdown": [
       "\n",
       "***\n",
       "#### Loading megaline_plans.csv..\n",
       "\n"
      ],
      "text/plain": [
       "<IPython.core.display.Markdown object>"
      ]
     },
     "metadata": {},
     "output_type": "display_data"
    },
    {
     "name": "stdout",
     "output_type": "stream",
     "text": [
      "1\t/datasets/megaline_plans.csv\n",
      "2020-04-28 10:29:13.372396972 +0000\n",
      "/bin/bash: file: command not found\n",
      "2 /datasets/megaline_plans.csv\n",
      "messages_included,mb_per_month_included,minutes_included,usd_monthly_pay,usd_per_gb,usd_per_message,usd_per_minute,plan_name\n",
      "50,15360,500,20,10,0.03,0.03,surf\n",
      "1000,30720,3000,70,7,0.01,0.01,ultimate"
     ]
    },
    {
     "data": {
      "text/markdown": [
       "\n",
       "***\n",
       "#### Loading megaline_users.csv..\n",
       "\n"
      ],
      "text/plain": [
       "<IPython.core.display.Markdown object>"
      ]
     },
     "metadata": {},
     "output_type": "display_data"
    },
    {
     "name": "stdout",
     "output_type": "stream",
     "text": [
      "1\t/datasets/megaline_users.csv\n",
      "2020-08-06 11:48:28.903935292 +0000\n",
      "/bin/bash: file: command not found\n",
      "500 /datasets/megaline_users.csv\n",
      "user_id,first_name,last_name,age,city,reg_date,plan,churn_date\n",
      "1000,Anamaria,Bauer,45,\"Atlanta-Sandy Springs-Roswell, GA MSA\",2018-12-24,ultimate,\n",
      "1001,Mickey,Wilkerson,28,\"Seattle-Tacoma-Bellevue, WA MSA\",2018-08-13,surf,\n"
     ]
    }
   ],
   "source": [
    "calls_df, internet_df, messages_df, plans_df, users_df = load_files(dataset_files)"
   ]
  },
  {
   "cell_type": "markdown",
   "id": "1bcff583",
   "metadata": {},
   "source": [
    "All of the .csv files have been successfully loaded into memory."
   ]
  },
  {
   "cell_type": "markdown",
   "id": "81d2094e",
   "metadata": {},
   "source": [
    "<a class=\"anchor\" id=\"2_preprocess\"></a>\n",
    "## Preprocess\n",
    "***\n",
    "[back to Table of Contents](#0_toc)\n",
    "1. [Plans](#2_1-plans)\n",
    "2. [Users](#2_2-users)\n",
    "3. [Calls](#2_3-calls)\n",
    "4. [Messages](#2_4-messages)\n",
    "5. [Internet](#2_5-internet)\n",
    "<br />[Conclusions](#2_preprocess-conclusions)"
   ]
  },
  {
   "cell_type": "code",
   "execution_count": 7,
   "id": "acb61a20",
   "metadata": {},
   "outputs": [],
   "source": [
    "def dataset_info(df, head=2, info=True, describe=True, na=True, nunique=True):\n",
    "    \"\"\"Displays a detailed overview of a dataframe\"\"\"\n",
    "    \n",
    "    output = []\n",
    "    \n",
    "    if head:\n",
    "        output.append(df.head(head))\n",
    "        \n",
    "    if describe:\n",
    "        output.append(df.describe())\n",
    "              \n",
    "    display(*output)\n",
    "    output.clear()\n",
    "    \n",
    "    df.info()\n",
    "    print()\n",
    "        \n",
    "    if na:\n",
    "        print(f'missing values:\\n\\n{df.isna().sum()}\\n')\n",
    "        \n",
    "    if nunique:\n",
    "        print(f'unique values:\\n\\n{df.nunique()}\\n')"
   ]
  },
  {
   "cell_type": "markdown",
   "id": "85711a2c",
   "metadata": {},
   "source": [
    "<a class=\"anchor\" id=\"2_1-plans\"></a>\n",
    "### Plans\n",
    "[back to Preprocess](#2_preprocess)\n",
    "\n",
    "Carrier policy is to round up call usage to minutes,  \n",
    "and to round up total monthly internet usage to gigabytes."
   ]
  },
  {
   "cell_type": "markdown",
   "id": "6ab5de50",
   "metadata": {},
   "source": [
    "- __Surf__  \n",
    "    Monthly charge: \\$20  \n",
    "    500 monthly minutes, 50 texts, and 15 GB of data  \n",
    "    After exceeding the package limits:  \n",
    "        1 minute: 3 cents  \n",
    "        1 text message: 3 cents  \n",
    "        1 GB of data: $10  \n",
    "       \n",
    "- __Ultimate__  \n",
    "    Monthly charge: \\$70  \n",
    "    3000 monthly minutes, 1000 text messages, and 30 GB of data  \n",
    "    After exceeding the package limits:  \n",
    "        1 minute: 1 cent  \n",
    "        1 text message: 1 cent  \n",
    "        1 GB of data: $7"
   ]
  },
  {
   "cell_type": "markdown",
   "id": "e897e91c",
   "metadata": {},
   "source": [
    "    plan_name — calling plan name\n",
    "    usd_monthly_fee — monthly charge in US dollars\n",
    "    minutes_included — monthly minute allowance\n",
    "    messages_included — monthly text allowance\n",
    "    mb_per_month_included — data volume allowance (in megabytes)\n",
    "    usd_per_minute — price per minute after exceeding the package limits\n",
    "        (e.g., if the package includes 100 minutes, the 101st minute will be charged)\n",
    "    usd_per_message — price per text after exceeding the package limits\n",
    "    usd_per_gb — price per extra gigabyte of data after exceeding the package limits (1 GB = 1024 megabytes)"
   ]
  },
  {
   "cell_type": "markdown",
   "id": "b06d394f",
   "metadata": {},
   "source": [
    "<div class=\"alert alert-success\" role=\"alert\">\n",
    "Reviewer's comment v. 1:\n",
    "    \n",
    "Ok :)\n",
    "</div>"
   ]
  },
  {
   "cell_type": "code",
   "execution_count": 8,
   "id": "e92d6cb0",
   "metadata": {},
   "outputs": [
    {
     "data": {
      "text/html": [
       "<div>\n",
       "<style scoped>\n",
       "    .dataframe tbody tr th:only-of-type {\n",
       "        vertical-align: middle;\n",
       "    }\n",
       "\n",
       "    .dataframe tbody tr th {\n",
       "        vertical-align: top;\n",
       "    }\n",
       "\n",
       "    .dataframe thead th {\n",
       "        text-align: right;\n",
       "    }\n",
       "</style>\n",
       "<table border=\"1\" class=\"dataframe\">\n",
       "  <thead>\n",
       "    <tr style=\"text-align: right;\">\n",
       "      <th></th>\n",
       "      <th>messages_included</th>\n",
       "      <th>mb_per_month_included</th>\n",
       "      <th>minutes_included</th>\n",
       "      <th>usd_monthly_pay</th>\n",
       "      <th>usd_per_gb</th>\n",
       "      <th>usd_per_message</th>\n",
       "      <th>usd_per_minute</th>\n",
       "      <th>plan_name</th>\n",
       "    </tr>\n",
       "  </thead>\n",
       "  <tbody>\n",
       "    <tr>\n",
       "      <th>0</th>\n",
       "      <td>50</td>\n",
       "      <td>15360</td>\n",
       "      <td>500</td>\n",
       "      <td>20</td>\n",
       "      <td>10</td>\n",
       "      <td>0.03</td>\n",
       "      <td>0.03</td>\n",
       "      <td>surf</td>\n",
       "    </tr>\n",
       "    <tr>\n",
       "      <th>1</th>\n",
       "      <td>1000</td>\n",
       "      <td>30720</td>\n",
       "      <td>3000</td>\n",
       "      <td>70</td>\n",
       "      <td>7</td>\n",
       "      <td>0.01</td>\n",
       "      <td>0.01</td>\n",
       "      <td>ultimate</td>\n",
       "    </tr>\n",
       "  </tbody>\n",
       "</table>\n",
       "</div>"
      ],
      "text/plain": [
       "   messages_included  mb_per_month_included  minutes_included  \\\n",
       "0                 50                  15360               500   \n",
       "1               1000                  30720              3000   \n",
       "\n",
       "   usd_monthly_pay  usd_per_gb  usd_per_message  usd_per_minute plan_name  \n",
       "0               20          10             0.03            0.03      surf  \n",
       "1               70           7             0.01            0.01  ultimate  "
      ]
     },
     "metadata": {},
     "output_type": "display_data"
    },
    {
     "name": "stdout",
     "output_type": "stream",
     "text": [
      "<class 'pandas.core.frame.DataFrame'>\n",
      "RangeIndex: 2 entries, 0 to 1\n",
      "Data columns (total 8 columns):\n",
      " #   Column                 Non-Null Count  Dtype  \n",
      "---  ------                 --------------  -----  \n",
      " 0   messages_included      2 non-null      int64  \n",
      " 1   mb_per_month_included  2 non-null      int64  \n",
      " 2   minutes_included       2 non-null      int64  \n",
      " 3   usd_monthly_pay        2 non-null      int64  \n",
      " 4   usd_per_gb             2 non-null      int64  \n",
      " 5   usd_per_message        2 non-null      float64\n",
      " 6   usd_per_minute         2 non-null      float64\n",
      " 7   plan_name              2 non-null      object \n",
      "dtypes: float64(2), int64(5), object(1)\n",
      "memory usage: 256.0+ bytes\n",
      "\n"
     ]
    }
   ],
   "source": [
    "dataset_info(plans_df, describe=False, na=False, nunique=False)"
   ]
  },
  {
   "cell_type": "markdown",
   "id": "83edee8f",
   "metadata": {},
   "source": [
    "Converting mb_per_month_included to gb_per_month_included,  \n",
    "since user is billed per GB."
   ]
  },
  {
   "cell_type": "code",
   "execution_count": 9,
   "id": "fc1e12a9",
   "metadata": {},
   "outputs": [],
   "source": [
    "plans_df['gb_per_month_included'] = (plans_df['mb_per_month_included'] / 1024).astype('int')\n",
    "plans_df.drop('mb_per_month_included', axis=1, inplace=True)"
   ]
  },
  {
   "cell_type": "markdown",
   "id": "d90d0e84",
   "metadata": {},
   "source": [
    "<div class=\"alert alert-warning\" role=\"alert\">\n",
    "Reviewer's comment v. 1:\n",
    "    \n",
    "It will be better to take into account that 1 Gb = 1024 Mb.\n",
    "</div>"
   ]
  },
  {
   "cell_type": "markdown",
   "id": "843e1784",
   "metadata": {},
   "source": [
    "<div class=\"alert alert-info\"> <b>Student comment:</b> <br />\n",
    "I agree with you that it should be 1024, and I have changed it now. <br />\n",
    "\n",
    "The project description on the platform says that: <br />\n",
    "\"Megaline rounds seconds up to minutes, and megabytes to gigabytes\" <br />\n",
    "Technically a megabyte (MB) is base 10, and a mebibyte (MiB) is base 2, <br />\n",
    "but the bottom line is that network traffic is measured with MiB, so 1024 as you suggested :)\n",
    "    \n",
    "\\- https://blog.digilentinc.com/mib-vs-mb-whats-the-difference/\n",
    "</div>"
   ]
  },
  {
   "cell_type": "markdown",
   "id": "069c1bb6",
   "metadata": {},
   "source": [
    "<div class=\"alert alert-success\" role=\"alert\">\n",
    "Reviewer's comment v. 2:\n",
    "    \n",
    "👍👍👍\n",
    "</div>"
   ]
  },
  {
   "cell_type": "code",
   "execution_count": 10,
   "id": "4f82c1d4",
   "metadata": {},
   "outputs": [
    {
     "data": {
      "text/html": [
       "<div>\n",
       "<style scoped>\n",
       "    .dataframe tbody tr th:only-of-type {\n",
       "        vertical-align: middle;\n",
       "    }\n",
       "\n",
       "    .dataframe tbody tr th {\n",
       "        vertical-align: top;\n",
       "    }\n",
       "\n",
       "    .dataframe thead th {\n",
       "        text-align: right;\n",
       "    }\n",
       "</style>\n",
       "<table border=\"1\" class=\"dataframe\">\n",
       "  <thead>\n",
       "    <tr style=\"text-align: right;\">\n",
       "      <th></th>\n",
       "      <th>messages_included</th>\n",
       "      <th>minutes_included</th>\n",
       "      <th>usd_monthly_pay</th>\n",
       "      <th>usd_per_gb</th>\n",
       "      <th>usd_per_message</th>\n",
       "      <th>usd_per_minute</th>\n",
       "      <th>plan_name</th>\n",
       "      <th>gb_per_month_included</th>\n",
       "    </tr>\n",
       "  </thead>\n",
       "  <tbody>\n",
       "    <tr>\n",
       "      <th>0</th>\n",
       "      <td>50</td>\n",
       "      <td>500</td>\n",
       "      <td>20</td>\n",
       "      <td>10</td>\n",
       "      <td>0.03</td>\n",
       "      <td>0.03</td>\n",
       "      <td>surf</td>\n",
       "      <td>15</td>\n",
       "    </tr>\n",
       "    <tr>\n",
       "      <th>1</th>\n",
       "      <td>1000</td>\n",
       "      <td>3000</td>\n",
       "      <td>70</td>\n",
       "      <td>7</td>\n",
       "      <td>0.01</td>\n",
       "      <td>0.01</td>\n",
       "      <td>ultimate</td>\n",
       "      <td>30</td>\n",
       "    </tr>\n",
       "  </tbody>\n",
       "</table>\n",
       "</div>"
      ],
      "text/plain": [
       "   messages_included  minutes_included  usd_monthly_pay  usd_per_gb  \\\n",
       "0                 50               500               20          10   \n",
       "1               1000              3000               70           7   \n",
       "\n",
       "   usd_per_message  usd_per_minute plan_name  gb_per_month_included  \n",
       "0             0.03            0.03      surf                     15  \n",
       "1             0.01            0.01  ultimate                     30  "
      ]
     },
     "execution_count": 10,
     "metadata": {},
     "output_type": "execute_result"
    }
   ],
   "source": [
    "plans_df"
   ]
  },
  {
   "cell_type": "markdown",
   "id": "5d44fb40",
   "metadata": {},
   "source": [
    "<a class=\"anchor\" id=\"2_2-users\"></a>\n",
    "### Users\n",
    "[back to Preprocess](#2_preprocess)"
   ]
  },
  {
   "cell_type": "markdown",
   "id": "4a09efae",
   "metadata": {},
   "source": [
    "    user_id — unique user identifier\n",
    "    first_name — user's name\n",
    "    last_name — user's last name\n",
    "    age — user's age (years)\n",
    "    reg_date — subscription date (dd, mm, yy)\n",
    "    churn_date — the date the user stopped using the service\n",
    "        (if the value is missing, the calling plan was being used when this data was retrieved)\n",
    "    city — user's city of residence\n",
    "    plan — calling plan name"
   ]
  },
  {
   "cell_type": "markdown",
   "id": "51834d30",
   "metadata": {},
   "source": [
    "<div class=\"alert alert-success\" role=\"alert\">\n",
    "Reviewer's comment v. 1:\n",
    "    \n",
    "Good job that you clearly described the data fields.\n",
    "</div>"
   ]
  },
  {
   "cell_type": "code",
   "execution_count": 11,
   "id": "5be29cbe",
   "metadata": {},
   "outputs": [
    {
     "data": {
      "text/html": [
       "<div>\n",
       "<style scoped>\n",
       "    .dataframe tbody tr th:only-of-type {\n",
       "        vertical-align: middle;\n",
       "    }\n",
       "\n",
       "    .dataframe tbody tr th {\n",
       "        vertical-align: top;\n",
       "    }\n",
       "\n",
       "    .dataframe thead th {\n",
       "        text-align: right;\n",
       "    }\n",
       "</style>\n",
       "<table border=\"1\" class=\"dataframe\">\n",
       "  <thead>\n",
       "    <tr style=\"text-align: right;\">\n",
       "      <th></th>\n",
       "      <th>user_id</th>\n",
       "      <th>first_name</th>\n",
       "      <th>last_name</th>\n",
       "      <th>age</th>\n",
       "      <th>city</th>\n",
       "      <th>reg_date</th>\n",
       "      <th>plan</th>\n",
       "      <th>churn_date</th>\n",
       "    </tr>\n",
       "  </thead>\n",
       "  <tbody>\n",
       "    <tr>\n",
       "      <th>0</th>\n",
       "      <td>1000</td>\n",
       "      <td>Anamaria</td>\n",
       "      <td>Bauer</td>\n",
       "      <td>45</td>\n",
       "      <td>Atlanta-Sandy Springs-Roswell, GA MSA</td>\n",
       "      <td>2018-12-24</td>\n",
       "      <td>ultimate</td>\n",
       "      <td>NaN</td>\n",
       "    </tr>\n",
       "    <tr>\n",
       "      <th>1</th>\n",
       "      <td>1001</td>\n",
       "      <td>Mickey</td>\n",
       "      <td>Wilkerson</td>\n",
       "      <td>28</td>\n",
       "      <td>Seattle-Tacoma-Bellevue, WA MSA</td>\n",
       "      <td>2018-08-13</td>\n",
       "      <td>surf</td>\n",
       "      <td>NaN</td>\n",
       "    </tr>\n",
       "  </tbody>\n",
       "</table>\n",
       "</div>"
      ],
      "text/plain": [
       "   user_id first_name  last_name  age                                   city  \\\n",
       "0     1000   Anamaria      Bauer   45  Atlanta-Sandy Springs-Roswell, GA MSA   \n",
       "1     1001     Mickey  Wilkerson   28        Seattle-Tacoma-Bellevue, WA MSA   \n",
       "\n",
       "     reg_date      plan churn_date  \n",
       "0  2018-12-24  ultimate        NaN  \n",
       "1  2018-08-13      surf        NaN  "
      ]
     },
     "metadata": {},
     "output_type": "display_data"
    },
    {
     "data": {
      "text/html": [
       "<div>\n",
       "<style scoped>\n",
       "    .dataframe tbody tr th:only-of-type {\n",
       "        vertical-align: middle;\n",
       "    }\n",
       "\n",
       "    .dataframe tbody tr th {\n",
       "        vertical-align: top;\n",
       "    }\n",
       "\n",
       "    .dataframe thead th {\n",
       "        text-align: right;\n",
       "    }\n",
       "</style>\n",
       "<table border=\"1\" class=\"dataframe\">\n",
       "  <thead>\n",
       "    <tr style=\"text-align: right;\">\n",
       "      <th></th>\n",
       "      <th>user_id</th>\n",
       "      <th>age</th>\n",
       "    </tr>\n",
       "  </thead>\n",
       "  <tbody>\n",
       "    <tr>\n",
       "      <th>count</th>\n",
       "      <td>500.000000</td>\n",
       "      <td>500.000000</td>\n",
       "    </tr>\n",
       "    <tr>\n",
       "      <th>mean</th>\n",
       "      <td>1249.500000</td>\n",
       "      <td>45.486000</td>\n",
       "    </tr>\n",
       "    <tr>\n",
       "      <th>std</th>\n",
       "      <td>144.481833</td>\n",
       "      <td>16.972269</td>\n",
       "    </tr>\n",
       "    <tr>\n",
       "      <th>min</th>\n",
       "      <td>1000.000000</td>\n",
       "      <td>18.000000</td>\n",
       "    </tr>\n",
       "    <tr>\n",
       "      <th>25%</th>\n",
       "      <td>1124.750000</td>\n",
       "      <td>30.000000</td>\n",
       "    </tr>\n",
       "    <tr>\n",
       "      <th>50%</th>\n",
       "      <td>1249.500000</td>\n",
       "      <td>46.000000</td>\n",
       "    </tr>\n",
       "    <tr>\n",
       "      <th>75%</th>\n",
       "      <td>1374.250000</td>\n",
       "      <td>61.000000</td>\n",
       "    </tr>\n",
       "    <tr>\n",
       "      <th>max</th>\n",
       "      <td>1499.000000</td>\n",
       "      <td>75.000000</td>\n",
       "    </tr>\n",
       "  </tbody>\n",
       "</table>\n",
       "</div>"
      ],
      "text/plain": [
       "           user_id         age\n",
       "count   500.000000  500.000000\n",
       "mean   1249.500000   45.486000\n",
       "std     144.481833   16.972269\n",
       "min    1000.000000   18.000000\n",
       "25%    1124.750000   30.000000\n",
       "50%    1249.500000   46.000000\n",
       "75%    1374.250000   61.000000\n",
       "max    1499.000000   75.000000"
      ]
     },
     "metadata": {},
     "output_type": "display_data"
    },
    {
     "name": "stdout",
     "output_type": "stream",
     "text": [
      "<class 'pandas.core.frame.DataFrame'>\n",
      "RangeIndex: 500 entries, 0 to 499\n",
      "Data columns (total 8 columns):\n",
      " #   Column      Non-Null Count  Dtype \n",
      "---  ------      --------------  ----- \n",
      " 0   user_id     500 non-null    int64 \n",
      " 1   first_name  500 non-null    object\n",
      " 2   last_name   500 non-null    object\n",
      " 3   age         500 non-null    int64 \n",
      " 4   city        500 non-null    object\n",
      " 5   reg_date    500 non-null    object\n",
      " 6   plan        500 non-null    object\n",
      " 7   churn_date  34 non-null     object\n",
      "dtypes: int64(2), object(6)\n",
      "memory usage: 31.4+ KB\n",
      "\n",
      "missing values:\n",
      "\n",
      "user_id         0\n",
      "first_name      0\n",
      "last_name       0\n",
      "age             0\n",
      "city            0\n",
      "reg_date        0\n",
      "plan            0\n",
      "churn_date    466\n",
      "dtype: int64\n",
      "\n",
      "unique values:\n",
      "\n",
      "user_id       500\n",
      "first_name    458\n",
      "last_name     399\n",
      "age            58\n",
      "city           73\n",
      "reg_date      266\n",
      "plan            2\n",
      "churn_date     29\n",
      "dtype: int64\n",
      "\n"
     ]
    }
   ],
   "source": [
    "dataset_info(users_df)"
   ]
  },
  {
   "cell_type": "markdown",
   "id": "1cfa7b8c",
   "metadata": {},
   "source": [
    "churn_date missing values can be null, it is not an error (means plan was in use when snapshot of data was taken).  \n",
    "reg_date and churn_date should be converted to datetime dtype,  \n",
    "introduce plan_id instead of plan."
   ]
  },
  {
   "cell_type": "markdown",
   "id": "ae0e4fa5",
   "metadata": {},
   "source": [
    "<div class=\"alert alert-success\" role=\"alert\">\n",
    "Reviewer's comment v. 1:\n",
    "    \n",
    "Yes, you are right :)\n",
    "</div>"
   ]
  },
  {
   "cell_type": "code",
   "execution_count": 12,
   "id": "3a4a040c",
   "metadata": {},
   "outputs": [],
   "source": [
    "users_df['reg_date'] = pd.to_datetime(users_df['reg_date'])"
   ]
  },
  {
   "cell_type": "code",
   "execution_count": 13,
   "id": "cd542e29",
   "metadata": {},
   "outputs": [],
   "source": [
    "users_df['churn_date'] = pd.to_datetime(users_df['churn_date'])"
   ]
  },
  {
   "cell_type": "code",
   "execution_count": 14,
   "id": "c26ecc14",
   "metadata": {},
   "outputs": [
    {
     "data": {
      "text/plain": [
       "surf        339\n",
       "ultimate    161\n",
       "Name: plan, dtype: int64"
      ]
     },
     "metadata": {},
     "output_type": "display_data"
    },
    {
     "data": {
      "image/png": "[encoded data removed]",
      "text/plain": [
       "<Figure size 432x288 with 1 Axes>"
      ]
     },
     "metadata": {},
     "output_type": "display_data"
    }
   ],
   "source": [
    "display(users_df['plan'].value_counts())\n",
    "users_df['plan'].value_counts().plot.pie(autopct='%.1f%%', legend=True);"
   ]
  },
  {
   "cell_type": "markdown",
   "id": "b4d28f47",
   "metadata": {},
   "source": [
    "There are at least twice as much 'Surf' plan users as there are 'Ultimate' plan users."
   ]
  },
  {
   "cell_type": "markdown",
   "id": "02a4b52e",
   "metadata": {},
   "source": [
    "<div class=\"alert alert-success\" role=\"alert\">\n",
    "Reviewer's comment v. 1:\n",
    "    \n",
    "Yes, Surf is the most popular plan.\n",
    "</div>"
   ]
  },
  {
   "cell_type": "code",
   "execution_count": 15,
   "id": "8e425b5f",
   "metadata": {},
   "outputs": [],
   "source": [
    "plan_ids = pd.Series(index=plans_df['plan_name'].values, data=plans_df['plan_name'].index)\n",
    "users_df['plan_id'] = users_df['plan'].apply(lambda x:plan_ids[x])\n",
    "users_df.drop('plan', axis=1, inplace=True)\n",
    "del plan_ids"
   ]
  },
  {
   "cell_type": "markdown",
   "id": "e226530e",
   "metadata": {},
   "source": [
    "<div class=\"alert alert-success\" role=\"alert\">\n",
    "Reviewer's comment v. 1:\n",
    "    \n",
    "It's a good idea to use lambda function.\n",
    "</div>"
   ]
  },
  {
   "cell_type": "code",
   "execution_count": 16,
   "id": "f4430227",
   "metadata": {
    "scrolled": true
   },
   "outputs": [
    {
     "data": {
      "text/html": [
       "<div>\n",
       "<style scoped>\n",
       "    .dataframe tbody tr th:only-of-type {\n",
       "        vertical-align: middle;\n",
       "    }\n",
       "\n",
       "    .dataframe tbody tr th {\n",
       "        vertical-align: top;\n",
       "    }\n",
       "\n",
       "    .dataframe thead th {\n",
       "        text-align: right;\n",
       "    }\n",
       "</style>\n",
       "<table border=\"1\" class=\"dataframe\">\n",
       "  <thead>\n",
       "    <tr style=\"text-align: right;\">\n",
       "      <th></th>\n",
       "      <th>user_id</th>\n",
       "      <th>first_name</th>\n",
       "      <th>last_name</th>\n",
       "      <th>age</th>\n",
       "      <th>city</th>\n",
       "      <th>reg_date</th>\n",
       "      <th>churn_date</th>\n",
       "      <th>plan_id</th>\n",
       "    </tr>\n",
       "  </thead>\n",
       "  <tbody>\n",
       "    <tr>\n",
       "      <th>0</th>\n",
       "      <td>1000</td>\n",
       "      <td>Anamaria</td>\n",
       "      <td>Bauer</td>\n",
       "      <td>45</td>\n",
       "      <td>Atlanta-Sandy Springs-Roswell, GA MSA</td>\n",
       "      <td>2018-12-24</td>\n",
       "      <td>NaT</td>\n",
       "      <td>1</td>\n",
       "    </tr>\n",
       "    <tr>\n",
       "      <th>1</th>\n",
       "      <td>1001</td>\n",
       "      <td>Mickey</td>\n",
       "      <td>Wilkerson</td>\n",
       "      <td>28</td>\n",
       "      <td>Seattle-Tacoma-Bellevue, WA MSA</td>\n",
       "      <td>2018-08-13</td>\n",
       "      <td>NaT</td>\n",
       "      <td>0</td>\n",
       "    </tr>\n",
       "  </tbody>\n",
       "</table>\n",
       "</div>"
      ],
      "text/plain": [
       "   user_id first_name  last_name  age                                   city  \\\n",
       "0     1000   Anamaria      Bauer   45  Atlanta-Sandy Springs-Roswell, GA MSA   \n",
       "1     1001     Mickey  Wilkerson   28        Seattle-Tacoma-Bellevue, WA MSA   \n",
       "\n",
       "    reg_date churn_date  plan_id  \n",
       "0 2018-12-24        NaT        1  \n",
       "1 2018-08-13        NaT        0  "
      ]
     },
     "execution_count": 16,
     "metadata": {},
     "output_type": "execute_result"
    }
   ],
   "source": [
    "users_df.head(2)"
   ]
  },
  {
   "cell_type": "markdown",
   "id": "0b1e8de1",
   "metadata": {},
   "source": [
    "<a class=\"anchor\" id=\"2_3-calls\"></a>\n",
    "### Calls\n",
    "[back to Preprocess](#2_preprocess)"
   ]
  },
  {
   "cell_type": "code",
   "execution_count": 17,
   "id": "ee0ba6e6",
   "metadata": {},
   "outputs": [
    {
     "data": {
      "text/html": [
       "<div>\n",
       "<style scoped>\n",
       "    .dataframe tbody tr th:only-of-type {\n",
       "        vertical-align: middle;\n",
       "    }\n",
       "\n",
       "    .dataframe tbody tr th {\n",
       "        vertical-align: top;\n",
       "    }\n",
       "\n",
       "    .dataframe thead th {\n",
       "        text-align: right;\n",
       "    }\n",
       "</style>\n",
       "<table border=\"1\" class=\"dataframe\">\n",
       "  <thead>\n",
       "    <tr style=\"text-align: right;\">\n",
       "      <th></th>\n",
       "      <th>id</th>\n",
       "      <th>user_id</th>\n",
       "      <th>call_date</th>\n",
       "      <th>duration</th>\n",
       "    </tr>\n",
       "  </thead>\n",
       "  <tbody>\n",
       "    <tr>\n",
       "      <th>0</th>\n",
       "      <td>1000_93</td>\n",
       "      <td>1000</td>\n",
       "      <td>2018-12-27</td>\n",
       "      <td>8.52</td>\n",
       "    </tr>\n",
       "    <tr>\n",
       "      <th>1</th>\n",
       "      <td>1000_145</td>\n",
       "      <td>1000</td>\n",
       "      <td>2018-12-27</td>\n",
       "      <td>13.66</td>\n",
       "    </tr>\n",
       "  </tbody>\n",
       "</table>\n",
       "</div>"
      ],
      "text/plain": [
       "         id  user_id   call_date  duration\n",
       "0   1000_93     1000  2018-12-27      8.52\n",
       "1  1000_145     1000  2018-12-27     13.66"
      ]
     },
     "metadata": {},
     "output_type": "display_data"
    },
    {
     "data": {
      "text/html": [
       "<div>\n",
       "<style scoped>\n",
       "    .dataframe tbody tr th:only-of-type {\n",
       "        vertical-align: middle;\n",
       "    }\n",
       "\n",
       "    .dataframe tbody tr th {\n",
       "        vertical-align: top;\n",
       "    }\n",
       "\n",
       "    .dataframe thead th {\n",
       "        text-align: right;\n",
       "    }\n",
       "</style>\n",
       "<table border=\"1\" class=\"dataframe\">\n",
       "  <thead>\n",
       "    <tr style=\"text-align: right;\">\n",
       "      <th></th>\n",
       "      <th>user_id</th>\n",
       "      <th>duration</th>\n",
       "    </tr>\n",
       "  </thead>\n",
       "  <tbody>\n",
       "    <tr>\n",
       "      <th>count</th>\n",
       "      <td>137735.000000</td>\n",
       "      <td>137735.000000</td>\n",
       "    </tr>\n",
       "    <tr>\n",
       "      <th>mean</th>\n",
       "      <td>1247.658046</td>\n",
       "      <td>6.745927</td>\n",
       "    </tr>\n",
       "    <tr>\n",
       "      <th>std</th>\n",
       "      <td>139.416268</td>\n",
       "      <td>5.839241</td>\n",
       "    </tr>\n",
       "    <tr>\n",
       "      <th>min</th>\n",
       "      <td>1000.000000</td>\n",
       "      <td>0.000000</td>\n",
       "    </tr>\n",
       "    <tr>\n",
       "      <th>25%</th>\n",
       "      <td>1128.000000</td>\n",
       "      <td>1.290000</td>\n",
       "    </tr>\n",
       "    <tr>\n",
       "      <th>50%</th>\n",
       "      <td>1247.000000</td>\n",
       "      <td>5.980000</td>\n",
       "    </tr>\n",
       "    <tr>\n",
       "      <th>75%</th>\n",
       "      <td>1365.000000</td>\n",
       "      <td>10.690000</td>\n",
       "    </tr>\n",
       "    <tr>\n",
       "      <th>max</th>\n",
       "      <td>1499.000000</td>\n",
       "      <td>37.600000</td>\n",
       "    </tr>\n",
       "  </tbody>\n",
       "</table>\n",
       "</div>"
      ],
      "text/plain": [
       "             user_id       duration\n",
       "count  137735.000000  137735.000000\n",
       "mean     1247.658046       6.745927\n",
       "std       139.416268       5.839241\n",
       "min      1000.000000       0.000000\n",
       "25%      1128.000000       1.290000\n",
       "50%      1247.000000       5.980000\n",
       "75%      1365.000000      10.690000\n",
       "max      1499.000000      37.600000"
      ]
     },
     "metadata": {},
     "output_type": "display_data"
    },
    {
     "name": "stdout",
     "output_type": "stream",
     "text": [
      "<class 'pandas.core.frame.DataFrame'>\n",
      "RangeIndex: 137735 entries, 0 to 137734\n",
      "Data columns (total 4 columns):\n",
      " #   Column     Non-Null Count   Dtype  \n",
      "---  ------     --------------   -----  \n",
      " 0   id         137735 non-null  object \n",
      " 1   user_id    137735 non-null  int64  \n",
      " 2   call_date  137735 non-null  object \n",
      " 3   duration   137735 non-null  float64\n",
      "dtypes: float64(1), int64(1), object(2)\n",
      "memory usage: 4.2+ MB\n",
      "\n",
      "missing values:\n",
      "\n",
      "id           0\n",
      "user_id      0\n",
      "call_date    0\n",
      "duration     0\n",
      "dtype: int64\n",
      "\n",
      "unique values:\n",
      "\n",
      "id           137735\n",
      "user_id         481\n",
      "call_date       351\n",
      "duration       2802\n",
      "dtype: int64\n",
      "\n"
     ]
    }
   ],
   "source": [
    "dataset_info(calls_df)"
   ]
  },
  {
   "cell_type": "markdown",
   "id": "180acb16",
   "metadata": {},
   "source": [
    "No missing values.  \n",
    "Converting call_date dtype to datetime,  \n",
    "Rounding up duration in order to sync to carrier's policy."
   ]
  },
  {
   "cell_type": "code",
   "execution_count": 18,
   "id": "78ffcdf6",
   "metadata": {},
   "outputs": [],
   "source": [
    "calls_df['call_date'] = pd.to_datetime(calls_df['call_date'])"
   ]
  },
  {
   "cell_type": "markdown",
   "id": "2116abfa",
   "metadata": {},
   "source": [
    "<div class=\"alert alert-info\"> <b>Student comment</b> <br />\n",
    "Explaining zero duration calls before rounding up and dropping:\n",
    "</div>"
   ]
  },
  {
   "cell_type": "code",
   "execution_count": 19,
   "id": "44ba24ed",
   "metadata": {},
   "outputs": [
    {
     "name": "stdout",
     "output_type": "stream",
     "text": [
      "There are 26834 (19.5%) calls of 0 duration.\n",
      "There are 5725 (4.2%) calls lasting between a second and a minute.\n"
     ]
    }
   ],
   "source": [
    "empty_calls = calls_df.query('duration == 0')\n",
    "print(f\"There are {len(empty_calls)} ({len(empty_calls)/len(calls_df):.1%}) calls of 0 duration.\")\n",
    "\n",
    "less_than_1_minute_calls = len(calls_df.query('0 < duration < 1'))\n",
    "print(f\"There are {less_than_1_minute_calls} ({less_than_1_minute_calls/len(calls_df):.1%}) \"\n",
    "      \"calls lasting between a second and a minute.\")"
   ]
  },
  {
   "cell_type": "markdown",
   "id": "b4bd092f",
   "metadata": {},
   "source": [
    "zero duration calls take up a large portion of total calls logged (~20%), this warrants further investigation.  \n",
    "It could be a result of a bug in the system, in which case the data engineering team should be notified.  \n",
    "Another possible cause could be that the system is logging calls which were simply unanswered (i.e. not connected).  \n",
    "In either case, for the purpose of this report - zero duration calls are not chargeable, and corresponding entries can be dropped."
   ]
  },
  {
   "cell_type": "markdown",
   "id": "4c7c5dd7",
   "metadata": {},
   "source": [
    "<div class=\"alert alert-success\" role=\"alert\">\n",
    "Reviewer's comment v. 2:\n",
    "    \n",
    "Yes, it's can be a technical errors or unanswered calls.\n",
    "</div>"
   ]
  },
  {
   "cell_type": "code",
   "execution_count": 20,
   "id": "e0b9c2d0",
   "metadata": {},
   "outputs": [],
   "source": [
    "calls_df['duration'] = np.ceil(calls_df['duration']).astype('int')"
   ]
  },
  {
   "cell_type": "markdown",
   "id": "cf44c459",
   "metadata": {},
   "source": [
    "<div class=\"alert alert-success\" role=\"alert\">\n",
    "Reviewer's comment v. 1:\n",
    "    \n",
    "Yes, it's correct that you have used .ceil to round up data.\n",
    "</div>"
   ]
  },
  {
   "cell_type": "code",
   "execution_count": 21,
   "id": "49cd91f7",
   "metadata": {},
   "outputs": [],
   "source": [
    "## review v. 1 code - irrelevant\n",
    "## There are calls with 0 duration,  \n",
    "## they are not chargeable and should be removed to a separate dataframe, as to not interrupt further analysis."
   ]
  },
  {
   "cell_type": "code",
   "execution_count": 22,
   "id": "ca3d87c1",
   "metadata": {},
   "outputs": [],
   "source": [
    "## empty_calls = calls_df.query('duration == 0')\n",
    "## print(f'amount of calls of 0 duration: {len(empty_calls)} ({(len(empty_calls) / len(calls_df)):.1%})')"
   ]
  },
  {
   "cell_type": "markdown",
   "id": "bc6fd0ca",
   "metadata": {},
   "source": [
    "<div class=\"alert alert-danger\" role=\"alert\">\n",
    "Reviewer's comment v. 1:\n",
    "    \n",
    "Could you please explain a possible reasons of a zero duration calls?\n",
    "</div>"
   ]
  },
  {
   "cell_type": "markdown",
   "id": "92b47ffd",
   "metadata": {},
   "source": [
    "<div class=\"alert alert-success\" role=\"alert\">\n",
    "Reviewer's comment v. 2:\n",
    "    \n",
    "You have made a reasonable explanation :)\n",
    "</div>"
   ]
  },
  {
   "cell_type": "code",
   "execution_count": 23,
   "id": "9a1b7963",
   "metadata": {},
   "outputs": [],
   "source": [
    "calls_df.drop(empty_calls.index, inplace=True)"
   ]
  },
  {
   "cell_type": "markdown",
   "id": "53877e58",
   "metadata": {},
   "source": [
    "<a class=\"anchor\" id=\"2_4-messages\"></a>\n",
    "### Messages\n",
    "[back to Preprocess](#2_preprocess)"
   ]
  },
  {
   "cell_type": "code",
   "execution_count": 24,
   "id": "57ec8653",
   "metadata": {
    "scrolled": false
   },
   "outputs": [
    {
     "data": {
      "text/html": [
       "<div>\n",
       "<style scoped>\n",
       "    .dataframe tbody tr th:only-of-type {\n",
       "        vertical-align: middle;\n",
       "    }\n",
       "\n",
       "    .dataframe tbody tr th {\n",
       "        vertical-align: top;\n",
       "    }\n",
       "\n",
       "    .dataframe thead th {\n",
       "        text-align: right;\n",
       "    }\n",
       "</style>\n",
       "<table border=\"1\" class=\"dataframe\">\n",
       "  <thead>\n",
       "    <tr style=\"text-align: right;\">\n",
       "      <th></th>\n",
       "      <th>id</th>\n",
       "      <th>user_id</th>\n",
       "      <th>message_date</th>\n",
       "    </tr>\n",
       "  </thead>\n",
       "  <tbody>\n",
       "    <tr>\n",
       "      <th>0</th>\n",
       "      <td>1000_125</td>\n",
       "      <td>1000</td>\n",
       "      <td>2018-12-27</td>\n",
       "    </tr>\n",
       "    <tr>\n",
       "      <th>1</th>\n",
       "      <td>1000_160</td>\n",
       "      <td>1000</td>\n",
       "      <td>2018-12-31</td>\n",
       "    </tr>\n",
       "  </tbody>\n",
       "</table>\n",
       "</div>"
      ],
      "text/plain": [
       "         id  user_id message_date\n",
       "0  1000_125     1000   2018-12-27\n",
       "1  1000_160     1000   2018-12-31"
      ]
     },
     "metadata": {},
     "output_type": "display_data"
    },
    {
     "name": "stdout",
     "output_type": "stream",
     "text": [
      "<class 'pandas.core.frame.DataFrame'>\n",
      "RangeIndex: 76051 entries, 0 to 76050\n",
      "Data columns (total 3 columns):\n",
      " #   Column        Non-Null Count  Dtype \n",
      "---  ------        --------------  ----- \n",
      " 0   id            76051 non-null  object\n",
      " 1   user_id       76051 non-null  int64 \n",
      " 2   message_date  76051 non-null  object\n",
      "dtypes: int64(1), object(2)\n",
      "memory usage: 1.7+ MB\n",
      "\n",
      "missing values:\n",
      "\n",
      "id              0\n",
      "user_id         0\n",
      "message_date    0\n",
      "dtype: int64\n",
      "\n",
      "unique values:\n",
      "\n",
      "id              76051\n",
      "user_id           402\n",
      "message_date      351\n",
      "dtype: int64\n",
      "\n"
     ]
    }
   ],
   "source": [
    "dataset_info(messages_df, describe=False)"
   ]
  },
  {
   "cell_type": "markdown",
   "id": "2f6ab648",
   "metadata": {},
   "source": [
    "No missing values.  \n",
    "Converting message_date dtype to datetime."
   ]
  },
  {
   "cell_type": "code",
   "execution_count": 25,
   "id": "3a32fecf",
   "metadata": {},
   "outputs": [],
   "source": [
    "messages_df['message_date'] = pd.to_datetime(messages_df['message_date'])"
   ]
  },
  {
   "cell_type": "markdown",
   "id": "da005b6d",
   "metadata": {},
   "source": [
    "<div class=\"alert alert-success\" role=\"alert\">\n",
    "Reviewer's comment v. 1:\n",
    "    \n",
    "Yes, we don't have a missing values.\n",
    "</div>"
   ]
  },
  {
   "cell_type": "markdown",
   "id": "2d2a7754",
   "metadata": {},
   "source": [
    "<a class=\"anchor\" id=\"2_5-internet\"></a>\n",
    "### Internet\n",
    "[back to Preprocess](#2_preprocess)"
   ]
  },
  {
   "cell_type": "code",
   "execution_count": 26,
   "id": "da07572b",
   "metadata": {},
   "outputs": [
    {
     "data": {
      "text/html": [
       "<div>\n",
       "<style scoped>\n",
       "    .dataframe tbody tr th:only-of-type {\n",
       "        vertical-align: middle;\n",
       "    }\n",
       "\n",
       "    .dataframe tbody tr th {\n",
       "        vertical-align: top;\n",
       "    }\n",
       "\n",
       "    .dataframe thead th {\n",
       "        text-align: right;\n",
       "    }\n",
       "</style>\n",
       "<table border=\"1\" class=\"dataframe\">\n",
       "  <thead>\n",
       "    <tr style=\"text-align: right;\">\n",
       "      <th></th>\n",
       "      <th>id</th>\n",
       "      <th>user_id</th>\n",
       "      <th>session_date</th>\n",
       "      <th>mb_used</th>\n",
       "    </tr>\n",
       "  </thead>\n",
       "  <tbody>\n",
       "    <tr>\n",
       "      <th>0</th>\n",
       "      <td>1000_13</td>\n",
       "      <td>1000</td>\n",
       "      <td>2018-12-29</td>\n",
       "      <td>89.86</td>\n",
       "    </tr>\n",
       "    <tr>\n",
       "      <th>1</th>\n",
       "      <td>1000_204</td>\n",
       "      <td>1000</td>\n",
       "      <td>2018-12-31</td>\n",
       "      <td>0.00</td>\n",
       "    </tr>\n",
       "  </tbody>\n",
       "</table>\n",
       "</div>"
      ],
      "text/plain": [
       "         id  user_id session_date  mb_used\n",
       "0   1000_13     1000   2018-12-29    89.86\n",
       "1  1000_204     1000   2018-12-31     0.00"
      ]
     },
     "metadata": {},
     "output_type": "display_data"
    },
    {
     "data": {
      "text/html": [
       "<div>\n",
       "<style scoped>\n",
       "    .dataframe tbody tr th:only-of-type {\n",
       "        vertical-align: middle;\n",
       "    }\n",
       "\n",
       "    .dataframe tbody tr th {\n",
       "        vertical-align: top;\n",
       "    }\n",
       "\n",
       "    .dataframe thead th {\n",
       "        text-align: right;\n",
       "    }\n",
       "</style>\n",
       "<table border=\"1\" class=\"dataframe\">\n",
       "  <thead>\n",
       "    <tr style=\"text-align: right;\">\n",
       "      <th></th>\n",
       "      <th>user_id</th>\n",
       "      <th>mb_used</th>\n",
       "    </tr>\n",
       "  </thead>\n",
       "  <tbody>\n",
       "    <tr>\n",
       "      <th>count</th>\n",
       "      <td>104825.000000</td>\n",
       "      <td>104825.000000</td>\n",
       "    </tr>\n",
       "    <tr>\n",
       "      <th>mean</th>\n",
       "      <td>1242.496361</td>\n",
       "      <td>366.713701</td>\n",
       "    </tr>\n",
       "    <tr>\n",
       "      <th>std</th>\n",
       "      <td>142.053913</td>\n",
       "      <td>277.170542</td>\n",
       "    </tr>\n",
       "    <tr>\n",
       "      <th>min</th>\n",
       "      <td>1000.000000</td>\n",
       "      <td>0.000000</td>\n",
       "    </tr>\n",
       "    <tr>\n",
       "      <th>25%</th>\n",
       "      <td>1122.000000</td>\n",
       "      <td>136.080000</td>\n",
       "    </tr>\n",
       "    <tr>\n",
       "      <th>50%</th>\n",
       "      <td>1236.000000</td>\n",
       "      <td>343.980000</td>\n",
       "    </tr>\n",
       "    <tr>\n",
       "      <th>75%</th>\n",
       "      <td>1367.000000</td>\n",
       "      <td>554.610000</td>\n",
       "    </tr>\n",
       "    <tr>\n",
       "      <th>max</th>\n",
       "      <td>1499.000000</td>\n",
       "      <td>1693.470000</td>\n",
       "    </tr>\n",
       "  </tbody>\n",
       "</table>\n",
       "</div>"
      ],
      "text/plain": [
       "             user_id        mb_used\n",
       "count  104825.000000  104825.000000\n",
       "mean     1242.496361     366.713701\n",
       "std       142.053913     277.170542\n",
       "min      1000.000000       0.000000\n",
       "25%      1122.000000     136.080000\n",
       "50%      1236.000000     343.980000\n",
       "75%      1367.000000     554.610000\n",
       "max      1499.000000    1693.470000"
      ]
     },
     "metadata": {},
     "output_type": "display_data"
    },
    {
     "name": "stdout",
     "output_type": "stream",
     "text": [
      "<class 'pandas.core.frame.DataFrame'>\n",
      "RangeIndex: 104825 entries, 0 to 104824\n",
      "Data columns (total 4 columns):\n",
      " #   Column        Non-Null Count   Dtype  \n",
      "---  ------        --------------   -----  \n",
      " 0   id            104825 non-null  object \n",
      " 1   user_id       104825 non-null  int64  \n",
      " 2   session_date  104825 non-null  object \n",
      " 3   mb_used       104825 non-null  float64\n",
      "dtypes: float64(1), int64(1), object(2)\n",
      "memory usage: 3.2+ MB\n",
      "\n",
      "missing values:\n",
      "\n",
      "id              0\n",
      "user_id         0\n",
      "session_date    0\n",
      "mb_used         0\n",
      "dtype: int64\n",
      "\n",
      "unique values:\n",
      "\n",
      "id              104825\n",
      "user_id            489\n",
      "session_date       351\n",
      "mb_used          57624\n",
      "dtype: int64\n",
      "\n"
     ]
    }
   ],
   "source": [
    "dataset_info(internet_df)"
   ]
  },
  {
   "cell_type": "markdown",
   "id": "dfe3d128",
   "metadata": {},
   "source": [
    "No missing values.  \n",
    "Converting session_date dtype to datetime.  \n",
    "mb_used will not be rounded up at this time,  \n",
    "Monthly usage will be rounded up later on in the analysis, as per carrier's billing policy."
   ]
  },
  {
   "cell_type": "code",
   "execution_count": 27,
   "id": "831fd827",
   "metadata": {},
   "outputs": [],
   "source": [
    "internet_df['session_date'] = pd.to_datetime(internet_df['session_date'])"
   ]
  },
  {
   "cell_type": "markdown",
   "id": "68d5c717",
   "metadata": {},
   "source": [
    "<div class=\"alert alert-info\"> <b>Student comment</b> <br />\n",
    "Explaining 0mb internet sessions before dropping:\n",
    "</div>"
   ]
  },
  {
   "cell_type": "code",
   "execution_count": 28,
   "id": "a1f17bd6",
   "metadata": {},
   "outputs": [
    {
     "name": "stdout",
     "output_type": "stream",
     "text": [
      "There are 13747 (13.1%) internet sessions of 0mb.\n",
      "There are 82 (0.1%) internet sessions of more than 0mb but less than 1mb.\n"
     ]
    }
   ],
   "source": [
    "empty_internet = internet_df.query('mb_used == 0')\n",
    "print(f\"There are {len(empty_internet)} ({len(empty_internet)/len(internet_df):.1%}) internet sessions of 0mb.\")\n",
    "\n",
    "less_than_1_mb_traffic = len(internet_df.query('0 < mb_used < 1'))\n",
    "print(f\"There are {less_than_1_mb_traffic} ({less_than_1_mb_traffic/len(internet_df):.1%}) \"\n",
    "      \"internet sessions of more than 0mb but less than 1mb.\")"
   ]
  },
  {
   "cell_type": "markdown",
   "id": "86e8c8ca",
   "metadata": {},
   "source": [
    "0mb internet sessions could be caused by an issue, perhaps resembling the issue of zero duration calls.  \n",
    "Should be reported as a bug to the engineering team, or at least discuss it with the originator of the data.\n",
    "\n",
    "For this report's purpose, which is about revenue, it can be dropped altogether since there is are no charges if there is no usage."
   ]
  },
  {
   "cell_type": "code",
   "execution_count": 29,
   "id": "fd188e1d",
   "metadata": {},
   "outputs": [],
   "source": [
    "internet_df.drop(empty_internet.index, inplace=True)"
   ]
  },
  {
   "cell_type": "markdown",
   "id": "d020e104",
   "metadata": {},
   "source": [
    "<div class=\"alert alert-danger\" role=\"alert\">\n",
    "Reviewer's comment v. 1:\n",
    "    \n",
    "Could you please explain why we have a zero internet usage?\n",
    "</div>"
   ]
  },
  {
   "cell_type": "markdown",
   "id": "578630bb",
   "metadata": {},
   "source": [
    "<div class=\"alert alert-success\" role=\"alert\">\n",
    "Reviewer's comment v. 2:\n",
    "    \n",
    "Ok :)\n",
    "</div>"
   ]
  },
  {
   "cell_type": "markdown",
   "id": "426b02d9",
   "metadata": {},
   "source": [
    "<a class=\"anchor\" id=\"2_preprocess-conclusions\"></a>\n",
    "### Conclusions\n",
    "[back to Preprocess](#2_preprocess)"
   ]
  },
  {
   "cell_type": "markdown",
   "id": "06e4ef11",
   "metadata": {},
   "source": [
    "All data sets have been processed and checked, data types adjusted and missing values answered for.  \n",
    "Removed 0 duration calls and 0mb internet sessions entries, since it does not affect revenue.  \n",
    "Ignoring unneeded columns."
   ]
  },
  {
   "cell_type": "markdown",
   "id": "d5e83613",
   "metadata": {},
   "source": [
    "<a class=\"anchor\" id=\"3_data_structure\"></a>\n",
    "## Data structure\n",
    "***\n",
    "[back to Table of Contents](#0_toc)\n",
    "1. [Monthly calls usage](#3_1-monthly_calls)\n",
    "2. [Monthly messages usage](#3_2-monthly_messages)\n",
    "3. [Monthly internet usage](#3_3-monthly_internet)\n",
    "4. [Monthly revenue by user](#3_4-monthly_revenue)\n",
    "5. [Average revenue per user](#3_5-avg_user_revenue)\n",
    "6. [Total usage by plan](#3_6-total_usage)\n",
    "7. [Excess usage by plan](#3_7-excess_usage)\n",
    "<br />[Conclusions](#3_data_structure-conclusions)"
   ]
  },
  {
   "cell_type": "markdown",
   "id": "cdf49a63",
   "metadata": {},
   "source": [
    "Before breaking up data by month, checking which years are represented in the data."
   ]
  },
  {
   "cell_type": "code",
   "execution_count": 30,
   "id": "27c460a2",
   "metadata": {},
   "outputs": [
    {
     "data": {
      "text/plain": [
       "2018    110901\n",
       "Name: call_date, dtype: int64"
      ]
     },
     "metadata": {},
     "output_type": "display_data"
    },
    {
     "data": {
      "text/plain": [
       "2018    76051\n",
       "Name: message_date, dtype: int64"
      ]
     },
     "metadata": {},
     "output_type": "display_data"
    },
    {
     "data": {
      "text/plain": [
       "2018    91078\n",
       "Name: session_date, dtype: int64"
      ]
     },
     "metadata": {},
     "output_type": "display_data"
    }
   ],
   "source": [
    "display(\n",
    "    calls_df['call_date'].dt.year.value_counts(),\n",
    "    messages_df['message_date'].dt.year.value_counts(),\n",
    "    internet_df['session_date'].dt.year.value_counts())"
   ]
  },
  {
   "cell_type": "markdown",
   "id": "a75ac12d",
   "metadata": {},
   "source": [
    "All the samples are from the year 2018,  \n",
    "so there is no need to split by year and month, only by month will suffice."
   ]
  },
  {
   "cell_type": "markdown",
   "id": "32f904d7",
   "metadata": {},
   "source": [
    "<div class=\"alert alert-success\" role=\"alert\">\n",
    "Reviewer's comment v. 1:\n",
    "    \n",
    "Ok :)\n",
    "</div>"
   ]
  },
  {
   "cell_type": "markdown",
   "id": "c729962e",
   "metadata": {},
   "source": [
    "<a class=\"anchor\" id=\"3_1-monthly_calls\"></a>\n",
    "### Monthly calls usage\n",
    "[back to Data structure](#3_data_structure)"
   ]
  },
  {
   "cell_type": "code",
   "execution_count": 31,
   "id": "22c89f23",
   "metadata": {},
   "outputs": [],
   "source": [
    "calls_df['month'] = calls_df['call_date'].dt.month"
   ]
  },
  {
   "cell_type": "code",
   "execution_count": 32,
   "id": "a7f14a2f",
   "metadata": {},
   "outputs": [
    {
     "data": {
      "text/html": [
       "<div>\n",
       "<style scoped>\n",
       "    .dataframe tbody tr th:only-of-type {\n",
       "        vertical-align: middle;\n",
       "    }\n",
       "\n",
       "    .dataframe tbody tr th {\n",
       "        vertical-align: top;\n",
       "    }\n",
       "\n",
       "    .dataframe thead th {\n",
       "        text-align: right;\n",
       "    }\n",
       "</style>\n",
       "<table border=\"1\" class=\"dataframe\">\n",
       "  <thead>\n",
       "    <tr style=\"text-align: right;\">\n",
       "      <th></th>\n",
       "      <th></th>\n",
       "      <th>calls</th>\n",
       "      <th>calls_duration</th>\n",
       "    </tr>\n",
       "    <tr>\n",
       "      <th>user_id</th>\n",
       "      <th>month</th>\n",
       "      <th></th>\n",
       "      <th></th>\n",
       "    </tr>\n",
       "  </thead>\n",
       "  <tbody>\n",
       "    <tr>\n",
       "      <th>1000</th>\n",
       "      <th>12</th>\n",
       "      <td>16</td>\n",
       "      <td>124</td>\n",
       "    </tr>\n",
       "    <tr>\n",
       "      <th rowspan=\"4\" valign=\"top\">1001</th>\n",
       "      <th>8</th>\n",
       "      <td>22</td>\n",
       "      <td>182</td>\n",
       "    </tr>\n",
       "    <tr>\n",
       "      <th>9</th>\n",
       "      <td>38</td>\n",
       "      <td>315</td>\n",
       "    </tr>\n",
       "    <tr>\n",
       "      <th>10</th>\n",
       "      <td>47</td>\n",
       "      <td>393</td>\n",
       "    </tr>\n",
       "    <tr>\n",
       "      <th>11</th>\n",
       "      <td>49</td>\n",
       "      <td>426</td>\n",
       "    </tr>\n",
       "  </tbody>\n",
       "</table>\n",
       "</div>"
      ],
      "text/plain": [
       "               calls  calls_duration\n",
       "user_id month                       \n",
       "1000    12        16             124\n",
       "1001    8         22             182\n",
       "        9         38             315\n",
       "        10        47             393\n",
       "        11        49             426"
      ]
     },
     "execution_count": 32,
     "metadata": {},
     "output_type": "execute_result"
    }
   ],
   "source": [
    "calls_usage = calls_df.pivot_table(\n",
    "    index=['user_id', 'month'],\n",
    "    values='duration',\n",
    "    aggfunc=['count', 'sum'],\n",
    ")\n",
    "calls_usage.columns = ['calls', 'calls_duration']\n",
    "calls_usage.head()"
   ]
  },
  {
   "cell_type": "markdown",
   "id": "4bcfe15f",
   "metadata": {},
   "source": [
    "<a class=\"anchor\" id=\"3_2-monthly_messages\"></a>\n",
    "### Monthly messages usage\n",
    "[back to Data structure](#3_data_structure)"
   ]
  },
  {
   "cell_type": "code",
   "execution_count": 33,
   "id": "b38b875a",
   "metadata": {},
   "outputs": [],
   "source": [
    "messages_df['month'] = messages_df['message_date'].dt.month"
   ]
  },
  {
   "cell_type": "code",
   "execution_count": 34,
   "id": "9a59aa52",
   "metadata": {},
   "outputs": [
    {
     "data": {
      "text/html": [
       "<div>\n",
       "<style scoped>\n",
       "    .dataframe tbody tr th:only-of-type {\n",
       "        vertical-align: middle;\n",
       "    }\n",
       "\n",
       "    .dataframe tbody tr th {\n",
       "        vertical-align: top;\n",
       "    }\n",
       "\n",
       "    .dataframe thead th {\n",
       "        text-align: right;\n",
       "    }\n",
       "</style>\n",
       "<table border=\"1\" class=\"dataframe\">\n",
       "  <thead>\n",
       "    <tr style=\"text-align: right;\">\n",
       "      <th></th>\n",
       "      <th></th>\n",
       "      <th>messages</th>\n",
       "    </tr>\n",
       "    <tr>\n",
       "      <th>user_id</th>\n",
       "      <th>month</th>\n",
       "      <th></th>\n",
       "    </tr>\n",
       "  </thead>\n",
       "  <tbody>\n",
       "    <tr>\n",
       "      <th>1000</th>\n",
       "      <th>12</th>\n",
       "      <td>11</td>\n",
       "    </tr>\n",
       "    <tr>\n",
       "      <th rowspan=\"4\" valign=\"top\">1001</th>\n",
       "      <th>8</th>\n",
       "      <td>30</td>\n",
       "    </tr>\n",
       "    <tr>\n",
       "      <th>9</th>\n",
       "      <td>44</td>\n",
       "    </tr>\n",
       "    <tr>\n",
       "      <th>10</th>\n",
       "      <td>53</td>\n",
       "    </tr>\n",
       "    <tr>\n",
       "      <th>11</th>\n",
       "      <td>36</td>\n",
       "    </tr>\n",
       "  </tbody>\n",
       "</table>\n",
       "</div>"
      ],
      "text/plain": [
       "               messages\n",
       "user_id month          \n",
       "1000    12           11\n",
       "1001    8            30\n",
       "        9            44\n",
       "        10           53\n",
       "        11           36"
      ]
     },
     "execution_count": 34,
     "metadata": {},
     "output_type": "execute_result"
    }
   ],
   "source": [
    "messages_usage = messages_df.pivot_table(\n",
    "    index=['user_id', 'month'],\n",
    "    values='id',\n",
    "    aggfunc='count',\n",
    ")\n",
    "messages_usage.columns = ['messages']\n",
    "messages_usage.head()"
   ]
  },
  {
   "cell_type": "markdown",
   "id": "33729b5c",
   "metadata": {},
   "source": [
    "<a class=\"anchor\" id=\"3_3-monthly_internet\"></a>\n",
    "### Monthly internet usage\n",
    "[back to Data structure](#3_data_structure)\n",
    "\n",
    "\\* rounding up monthly usage (nearest thousand)"
   ]
  },
  {
   "cell_type": "code",
   "execution_count": 35,
   "id": "e1bf2af6",
   "metadata": {},
   "outputs": [],
   "source": [
    "internet_df['month'] = internet_df['session_date'].dt.month"
   ]
  },
  {
   "cell_type": "code",
   "execution_count": 36,
   "id": "15bb8bf9",
   "metadata": {
    "scrolled": false
   },
   "outputs": [
    {
     "data": {
      "text/html": [
       "<div>\n",
       "<style scoped>\n",
       "    .dataframe tbody tr th:only-of-type {\n",
       "        vertical-align: middle;\n",
       "    }\n",
       "\n",
       "    .dataframe tbody tr th {\n",
       "        vertical-align: top;\n",
       "    }\n",
       "\n",
       "    .dataframe thead th {\n",
       "        text-align: right;\n",
       "    }\n",
       "</style>\n",
       "<table border=\"1\" class=\"dataframe\">\n",
       "  <thead>\n",
       "    <tr style=\"text-align: right;\">\n",
       "      <th></th>\n",
       "      <th></th>\n",
       "      <th>gb_used</th>\n",
       "    </tr>\n",
       "    <tr>\n",
       "      <th>user_id</th>\n",
       "      <th>month</th>\n",
       "      <th></th>\n",
       "    </tr>\n",
       "  </thead>\n",
       "  <tbody>\n",
       "    <tr>\n",
       "      <th>1000</th>\n",
       "      <th>12</th>\n",
       "      <td>2</td>\n",
       "    </tr>\n",
       "    <tr>\n",
       "      <th rowspan=\"4\" valign=\"top\">1001</th>\n",
       "      <th>8</th>\n",
       "      <td>7</td>\n",
       "    </tr>\n",
       "    <tr>\n",
       "      <th>9</th>\n",
       "      <td>14</td>\n",
       "    </tr>\n",
       "    <tr>\n",
       "      <th>10</th>\n",
       "      <td>22</td>\n",
       "    </tr>\n",
       "    <tr>\n",
       "      <th>11</th>\n",
       "      <td>19</td>\n",
       "    </tr>\n",
       "  </tbody>\n",
       "</table>\n",
       "</div>"
      ],
      "text/plain": [
       "               gb_used\n",
       "user_id month         \n",
       "1000    12           2\n",
       "1001    8            7\n",
       "        9           14\n",
       "        10          22\n",
       "        11          19"
      ]
     },
     "execution_count": 36,
     "metadata": {},
     "output_type": "execute_result"
    }
   ],
   "source": [
    "internet_usage = internet_df.pivot_table(\n",
    "    index=['user_id', 'month'],\n",
    "    values='mb_used',\n",
    "    aggfunc='sum',\n",
    ")\n",
    "internet_usage = np.ceil(internet_usage / 1024).astype('int')\n",
    "internet_usage.columns = ['gb_used']\n",
    "internet_usage.head()"
   ]
  },
  {
   "cell_type": "markdown",
   "id": "29df0f92",
   "metadata": {},
   "source": [
    "<div class=\"alert alert-warning\" role=\"alert\">\n",
    "Reviewer's comment v. 1:\n",
    "    \n",
    "Could you please take into account that 1 Gb = 1024 Mb?\n",
    "</div>"
   ]
  },
  {
   "cell_type": "markdown",
   "id": "7e2307f9",
   "metadata": {},
   "source": [
    "<div class=\"alert alert-success\" role=\"alert\">\n",
    "Reviewer's comment v. 2:\n",
    "    \n",
    "👍👍👍\n",
    "</div>"
   ]
  },
  {
   "cell_type": "markdown",
   "id": "f994676e",
   "metadata": {},
   "source": [
    "<a class=\"anchor\" id=\"3_4-monthly_revenue\"></a>\n",
    "### Monthly revenue by user\n",
    "[back to Data structure](#3_data_structure)"
   ]
  },
  {
   "cell_type": "code",
   "execution_count": 37,
   "id": "a47cb981",
   "metadata": {},
   "outputs": [
    {
     "data": {
      "text/html": [
       "<div>\n",
       "<style scoped>\n",
       "    .dataframe tbody tr th:only-of-type {\n",
       "        vertical-align: middle;\n",
       "    }\n",
       "\n",
       "    .dataframe tbody tr th {\n",
       "        vertical-align: top;\n",
       "    }\n",
       "\n",
       "    .dataframe thead th {\n",
       "        text-align: right;\n",
       "    }\n",
       "</style>\n",
       "<table border=\"1\" class=\"dataframe\">\n",
       "  <thead>\n",
       "    <tr style=\"text-align: right;\">\n",
       "      <th></th>\n",
       "      <th>plan_id</th>\n",
       "    </tr>\n",
       "    <tr>\n",
       "      <th>user_id</th>\n",
       "      <th></th>\n",
       "    </tr>\n",
       "  </thead>\n",
       "  <tbody>\n",
       "    <tr>\n",
       "      <th>1000</th>\n",
       "      <td>1</td>\n",
       "    </tr>\n",
       "  </tbody>\n",
       "</table>\n",
       "</div>"
      ],
      "text/plain": [
       "         plan_id\n",
       "user_id         \n",
       "1000           1"
      ]
     },
     "execution_count": 37,
     "metadata": {},
     "output_type": "execute_result"
    }
   ],
   "source": [
    "users_plan_ref = users_df[['plan_id', 'user_id']].set_index('user_id')\n",
    "users_plan_ref.head(1)"
   ]
  },
  {
   "cell_type": "code",
   "execution_count": 38,
   "id": "ffe00b85",
   "metadata": {},
   "outputs": [],
   "source": [
    "def add_plan_id(df):\n",
    "    assert 'user_id' in df\n",
    "    return pd.concat([\n",
    "        df,\n",
    "        df.apply(lambda x:users_plan_ref.loc[x['user_id']], axis=1)\n",
    "    ], axis=1)"
   ]
  },
  {
   "cell_type": "code",
   "execution_count": 39,
   "id": "2931216b",
   "metadata": {},
   "outputs": [],
   "source": [
    "def calculate_excess(row, plan_details=None):\n",
    "    \"\"\"\"\"\"\n",
    "\n",
    "    # print(row)\n",
    "    if not isinstance(plan_details, pd.DataFrame):\n",
    "        user_id, month = row.name\n",
    "        user_plan_id = users_df.query('user_id == @user_id')['plan_id'].values[0]\n",
    "        plan_details = plans_df.iloc[user_plan_id]\n",
    "    \n",
    "    excess_calls_duration = max(row['calls_duration'] - plan_details['minutes_included'], 0)\n",
    "    excess_messages = max(row['messages'] - plan_details['messages_included'], 0)\n",
    "    excess_traffic = max(row['gb_used'] - plan_details['gb_per_month_included'], 0)\n",
    "    \n",
    "    # print(excess_calls_duration, excess_messages, excess_traffic)\n",
    "    return [excess_calls_duration, excess_messages, excess_traffic]"
   ]
  },
  {
   "cell_type": "code",
   "execution_count": 40,
   "id": "4375ae33",
   "metadata": {},
   "outputs": [],
   "source": [
    "def calculate_revenue(row):\n",
    "    \"\"\"\"\"\"\n",
    "    \n",
    "    # print(row)\n",
    "    user_id, month = row.name\n",
    "    user_plan_id = users_df.query('user_id == @user_id')['plan_id'].values[0]\n",
    "    plan_details = plans_df.iloc[user_plan_id]\n",
    "    \n",
    "    plan_cost = plan_details['usd_monthly_pay']\n",
    "    \n",
    "    excess_calls_duration, \\\n",
    "    excess_messages, \\\n",
    "    excess_traffic = calculate_excess(row, plan_details=plan_details)\n",
    "    \n",
    "    calls_bill = excess_calls_duration * plan_details['usd_per_minute']\n",
    "    messages_bill = excess_messages * plan_details['usd_per_message']\n",
    "    traffic_bill = excess_traffic * plan_details['usd_per_gb']\n",
    "    \n",
    "    # print(calls_bill, messages_bill, traffic_bill, plan_cost)\n",
    "    bills = [calls_bill, messages_bill, traffic_bill, plan_cost]\n",
    "    \n",
    "    return [*bills, sum(bills)]"
   ]
  },
  {
   "cell_type": "markdown",
   "id": "843e2785",
   "metadata": {},
   "source": [
    "#### Monthly usage per user"
   ]
  },
  {
   "cell_type": "markdown",
   "id": "2e7bd83b",
   "metadata": {},
   "source": [
    "<div class=\"alert alert-danger\" role=\"alert\">\n",
    "Reviewer's comment v. 1:\n",
    "    \n",
    "Could  you please explain why you have used this method to join tables? Is it correct?\n",
    "</div>"
   ]
  },
  {
   "cell_type": "code",
   "execution_count": 41,
   "id": "6d648d2b",
   "metadata": {
    "scrolled": false
   },
   "outputs": [],
   "source": [
    "# usage_df = pd.concat([calls_usage, messages_usage, internet_usage], axis=1)\n",
    "# usage_df"
   ]
  },
  {
   "cell_type": "markdown",
   "id": "6b9adc47",
   "metadata": {},
   "source": [
    "<div class=\"alert alert-info\"> <b>Student comment:</b> <br />\n",
    "After you have pointed it out, I re-read about merge, join and concat,  <br />\n",
    "and realised it was a mistake (joined frames horizontally regardless of either 'user_id' or 'month' columns).\n",
    "<br />\n",
    "If all dataframes don't contain the same users and months, the result would different than intended.\n",
    "</div>"
   ]
  },
  {
   "cell_type": "markdown",
   "id": "12b1ae75",
   "metadata": {},
   "source": [
    "<div class=\"alert alert-success\" role=\"alert\">\n",
    "Reviewer's comment v. 2:\n",
    "    \n",
    "Ok :)\n",
    "</div>"
   ]
  },
  {
   "cell_type": "code",
   "execution_count": 42,
   "id": "1ee3a45f",
   "metadata": {},
   "outputs": [
    {
     "data": {
      "text/html": [
       "<div>\n",
       "<style scoped>\n",
       "    .dataframe tbody tr th:only-of-type {\n",
       "        vertical-align: middle;\n",
       "    }\n",
       "\n",
       "    .dataframe tbody tr th {\n",
       "        vertical-align: top;\n",
       "    }\n",
       "\n",
       "    .dataframe thead th {\n",
       "        text-align: right;\n",
       "    }\n",
       "</style>\n",
       "<table border=\"1\" class=\"dataframe\">\n",
       "  <thead>\n",
       "    <tr style=\"text-align: right;\">\n",
       "      <th></th>\n",
       "      <th></th>\n",
       "      <th>calls</th>\n",
       "      <th>calls_duration</th>\n",
       "      <th>messages</th>\n",
       "      <th>gb_used</th>\n",
       "    </tr>\n",
       "    <tr>\n",
       "      <th>user_id</th>\n",
       "      <th>month</th>\n",
       "      <th></th>\n",
       "      <th></th>\n",
       "      <th></th>\n",
       "      <th></th>\n",
       "    </tr>\n",
       "  </thead>\n",
       "  <tbody>\n",
       "    <tr>\n",
       "      <th>1000</th>\n",
       "      <th>12</th>\n",
       "      <td>16.0</td>\n",
       "      <td>124.0</td>\n",
       "      <td>11.0</td>\n",
       "      <td>2.0</td>\n",
       "    </tr>\n",
       "    <tr>\n",
       "      <th rowspan=\"4\" valign=\"top\">1001</th>\n",
       "      <th>8</th>\n",
       "      <td>22.0</td>\n",
       "      <td>182.0</td>\n",
       "      <td>30.0</td>\n",
       "      <td>7.0</td>\n",
       "    </tr>\n",
       "    <tr>\n",
       "      <th>9</th>\n",
       "      <td>38.0</td>\n",
       "      <td>315.0</td>\n",
       "      <td>44.0</td>\n",
       "      <td>14.0</td>\n",
       "    </tr>\n",
       "    <tr>\n",
       "      <th>10</th>\n",
       "      <td>47.0</td>\n",
       "      <td>393.0</td>\n",
       "      <td>53.0</td>\n",
       "      <td>22.0</td>\n",
       "    </tr>\n",
       "    <tr>\n",
       "      <th>11</th>\n",
       "      <td>49.0</td>\n",
       "      <td>426.0</td>\n",
       "      <td>36.0</td>\n",
       "      <td>19.0</td>\n",
       "    </tr>\n",
       "    <tr>\n",
       "      <th>...</th>\n",
       "      <th>...</th>\n",
       "      <td>...</td>\n",
       "      <td>...</td>\n",
       "      <td>...</td>\n",
       "      <td>...</td>\n",
       "    </tr>\n",
       "    <tr>\n",
       "      <th>1407</th>\n",
       "      <th>11</th>\n",
       "      <td>NaN</td>\n",
       "      <td>NaN</td>\n",
       "      <td>1.0</td>\n",
       "      <td>1.0</td>\n",
       "    </tr>\n",
       "    <tr>\n",
       "      <th>1482</th>\n",
       "      <th>10</th>\n",
       "      <td>NaN</td>\n",
       "      <td>NaN</td>\n",
       "      <td>2.0</td>\n",
       "      <td>NaN</td>\n",
       "    </tr>\n",
       "    <tr>\n",
       "      <th>1094</th>\n",
       "      <th>10</th>\n",
       "      <td>NaN</td>\n",
       "      <td>NaN</td>\n",
       "      <td>NaN</td>\n",
       "      <td>2.0</td>\n",
       "    </tr>\n",
       "    <tr>\n",
       "      <th>1108</th>\n",
       "      <th>12</th>\n",
       "      <td>NaN</td>\n",
       "      <td>NaN</td>\n",
       "      <td>NaN</td>\n",
       "      <td>1.0</td>\n",
       "    </tr>\n",
       "    <tr>\n",
       "      <th>1311</th>\n",
       "      <th>6</th>\n",
       "      <td>NaN</td>\n",
       "      <td>NaN</td>\n",
       "      <td>NaN</td>\n",
       "      <td>2.0</td>\n",
       "    </tr>\n",
       "  </tbody>\n",
       "</table>\n",
       "<p>2293 rows × 4 columns</p>\n",
       "</div>"
      ],
      "text/plain": [
       "               calls  calls_duration  messages  gb_used\n",
       "user_id month                                          \n",
       "1000    12      16.0           124.0      11.0      2.0\n",
       "1001    8       22.0           182.0      30.0      7.0\n",
       "        9       38.0           315.0      44.0     14.0\n",
       "        10      47.0           393.0      53.0     22.0\n",
       "        11      49.0           426.0      36.0     19.0\n",
       "...              ...             ...       ...      ...\n",
       "1407    11       NaN             NaN       1.0      1.0\n",
       "1482    10       NaN             NaN       2.0      NaN\n",
       "1094    10       NaN             NaN       NaN      2.0\n",
       "1108    12       NaN             NaN       NaN      1.0\n",
       "1311    6        NaN             NaN       NaN      2.0\n",
       "\n",
       "[2293 rows x 4 columns]"
      ]
     },
     "execution_count": 42,
     "metadata": {},
     "output_type": "execute_result"
    }
   ],
   "source": [
    "usage_df = reduce(\n",
    "    lambda left,right: pd.merge(left, right, how='outer', on=['user_id', 'month']),\n",
    "    [calls_usage, messages_usage, internet_usage])\n",
    "usage_df"
   ]
  },
  {
   "cell_type": "code",
   "execution_count": 43,
   "id": "f25898d6",
   "metadata": {
    "scrolled": false
   },
   "outputs": [
    {
     "data": {
      "text/plain": [
       "calls              37\n",
       "calls_duration     37\n",
       "messages          487\n",
       "gb_used            16\n",
       "dtype: int64"
      ]
     },
     "execution_count": 43,
     "metadata": {},
     "output_type": "execute_result"
    }
   ],
   "source": [
    "usage_df.isna().sum()"
   ]
  },
  {
   "cell_type": "markdown",
   "id": "0eb68957",
   "metadata": {},
   "source": [
    "Missing values is due to the join of several sources of data (calls, messages, net).  \n",
    "A person could have used, in the same month, one type of comunication and not the other.  \n",
    "Defaulting to 0."
   ]
  },
  {
   "cell_type": "markdown",
   "id": "378075c9",
   "metadata": {},
   "source": [
    "<div class=\"alert alert-success\" role=\"alert\">\n",
    "Reviewer's comment v. 2:\n",
    "    \n",
    "Yes, you are right :)\n",
    "</div>"
   ]
  },
  {
   "cell_type": "code",
   "execution_count": 44,
   "id": "3100f988",
   "metadata": {
    "scrolled": false
   },
   "outputs": [
    {
     "data": {
      "text/plain": [
       "calls             0\n",
       "calls_duration    0\n",
       "messages          0\n",
       "gb_used           0\n",
       "dtype: int64"
      ]
     },
     "execution_count": 44,
     "metadata": {},
     "output_type": "execute_result"
    }
   ],
   "source": [
    "usage_df.fillna(0, inplace=True)\n",
    "usage_df = usage_df.astype('int')\n",
    "usage_df.isna().sum()"
   ]
  },
  {
   "cell_type": "markdown",
   "id": "d1ca0b45",
   "metadata": {},
   "source": [
    "#### Monthly revenue per user"
   ]
  },
  {
   "cell_type": "code",
   "execution_count": 45,
   "id": "f959402a",
   "metadata": {
    "scrolled": false
   },
   "outputs": [
    {
     "data": {
      "text/html": [
       "<div>\n",
       "<style scoped>\n",
       "    .dataframe tbody tr th:only-of-type {\n",
       "        vertical-align: middle;\n",
       "    }\n",
       "\n",
       "    .dataframe tbody tr th {\n",
       "        vertical-align: top;\n",
       "    }\n",
       "\n",
       "    .dataframe thead th {\n",
       "        text-align: right;\n",
       "    }\n",
       "</style>\n",
       "<table border=\"1\" class=\"dataframe\">\n",
       "  <thead>\n",
       "    <tr style=\"text-align: right;\">\n",
       "      <th></th>\n",
       "      <th></th>\n",
       "      <th>calls</th>\n",
       "      <th>messages</th>\n",
       "      <th>internet</th>\n",
       "      <th>plan_price</th>\n",
       "      <th>total</th>\n",
       "    </tr>\n",
       "    <tr>\n",
       "      <th>user_id</th>\n",
       "      <th>month</th>\n",
       "      <th></th>\n",
       "      <th></th>\n",
       "      <th></th>\n",
       "      <th></th>\n",
       "      <th></th>\n",
       "    </tr>\n",
       "  </thead>\n",
       "  <tbody>\n",
       "    <tr>\n",
       "      <th>1000</th>\n",
       "      <th>12</th>\n",
       "      <td>0.0</td>\n",
       "      <td>0.00</td>\n",
       "      <td>0.0</td>\n",
       "      <td>70.0</td>\n",
       "      <td>70.00</td>\n",
       "    </tr>\n",
       "    <tr>\n",
       "      <th rowspan=\"4\" valign=\"top\">1001</th>\n",
       "      <th>8</th>\n",
       "      <td>0.0</td>\n",
       "      <td>0.00</td>\n",
       "      <td>0.0</td>\n",
       "      <td>20.0</td>\n",
       "      <td>20.00</td>\n",
       "    </tr>\n",
       "    <tr>\n",
       "      <th>9</th>\n",
       "      <td>0.0</td>\n",
       "      <td>0.00</td>\n",
       "      <td>0.0</td>\n",
       "      <td>20.0</td>\n",
       "      <td>20.00</td>\n",
       "    </tr>\n",
       "    <tr>\n",
       "      <th>10</th>\n",
       "      <td>0.0</td>\n",
       "      <td>0.09</td>\n",
       "      <td>70.0</td>\n",
       "      <td>20.0</td>\n",
       "      <td>90.09</td>\n",
       "    </tr>\n",
       "    <tr>\n",
       "      <th>11</th>\n",
       "      <td>0.0</td>\n",
       "      <td>0.00</td>\n",
       "      <td>40.0</td>\n",
       "      <td>20.0</td>\n",
       "      <td>60.00</td>\n",
       "    </tr>\n",
       "    <tr>\n",
       "      <th>...</th>\n",
       "      <th>...</th>\n",
       "      <td>...</td>\n",
       "      <td>...</td>\n",
       "      <td>...</td>\n",
       "      <td>...</td>\n",
       "      <td>...</td>\n",
       "    </tr>\n",
       "    <tr>\n",
       "      <th>1407</th>\n",
       "      <th>11</th>\n",
       "      <td>0.0</td>\n",
       "      <td>0.00</td>\n",
       "      <td>0.0</td>\n",
       "      <td>70.0</td>\n",
       "      <td>70.00</td>\n",
       "    </tr>\n",
       "    <tr>\n",
       "      <th>1482</th>\n",
       "      <th>10</th>\n",
       "      <td>0.0</td>\n",
       "      <td>0.00</td>\n",
       "      <td>0.0</td>\n",
       "      <td>70.0</td>\n",
       "      <td>70.00</td>\n",
       "    </tr>\n",
       "    <tr>\n",
       "      <th>1094</th>\n",
       "      <th>10</th>\n",
       "      <td>0.0</td>\n",
       "      <td>0.00</td>\n",
       "      <td>0.0</td>\n",
       "      <td>20.0</td>\n",
       "      <td>20.00</td>\n",
       "    </tr>\n",
       "    <tr>\n",
       "      <th>1108</th>\n",
       "      <th>12</th>\n",
       "      <td>0.0</td>\n",
       "      <td>0.00</td>\n",
       "      <td>0.0</td>\n",
       "      <td>70.0</td>\n",
       "      <td>70.00</td>\n",
       "    </tr>\n",
       "    <tr>\n",
       "      <th>1311</th>\n",
       "      <th>6</th>\n",
       "      <td>0.0</td>\n",
       "      <td>0.00</td>\n",
       "      <td>0.0</td>\n",
       "      <td>70.0</td>\n",
       "      <td>70.00</td>\n",
       "    </tr>\n",
       "  </tbody>\n",
       "</table>\n",
       "<p>2293 rows × 5 columns</p>\n",
       "</div>"
      ],
      "text/plain": [
       "               calls  messages  internet  plan_price  total\n",
       "user_id month                                              \n",
       "1000    12       0.0      0.00       0.0        70.0  70.00\n",
       "1001    8        0.0      0.00       0.0        20.0  20.00\n",
       "        9        0.0      0.00       0.0        20.0  20.00\n",
       "        10       0.0      0.09      70.0        20.0  90.09\n",
       "        11       0.0      0.00      40.0        20.0  60.00\n",
       "...              ...       ...       ...         ...    ...\n",
       "1407    11       0.0      0.00       0.0        70.0  70.00\n",
       "1482    10       0.0      0.00       0.0        70.0  70.00\n",
       "1094    10       0.0      0.00       0.0        20.0  20.00\n",
       "1108    12       0.0      0.00       0.0        70.0  70.00\n",
       "1311    6        0.0      0.00       0.0        70.0  70.00\n",
       "\n",
       "[2293 rows x 5 columns]"
      ]
     },
     "execution_count": 45,
     "metadata": {},
     "output_type": "execute_result"
    }
   ],
   "source": [
    "revenue_df = usage_df.apply(calculate_revenue, axis=1, result_type='expand')\n",
    "revenue_df.columns = ['calls', 'messages', 'internet', 'plan_price', 'total']\n",
    "revenue_df"
   ]
  },
  {
   "cell_type": "markdown",
   "id": "93d1b8a9",
   "metadata": {},
   "source": [
    "<div class=\"alert alert-success\" role=\"alert\">\n",
    "Reviewer's comment v. 1:\n",
    "    \n",
    "👍👍👍\n",
    "</div>"
   ]
  },
  {
   "cell_type": "markdown",
   "id": "5a9c7496",
   "metadata": {},
   "source": [
    "<a class=\"anchor\" id=\"3_5-avg_user_revenue\"></a>\n",
    "### Average revenue per user\n",
    "[back to Data structure](#3_data_structure)"
   ]
  },
  {
   "cell_type": "code",
   "execution_count": 46,
   "id": "4777ce55",
   "metadata": {},
   "outputs": [
    {
     "data": {
      "text/plain": [
       "plan_name\n",
       "surf        95491.18\n",
       "ultimate    52066.00\n",
       "Name: total, dtype: float64"
      ]
     },
     "execution_count": 46,
     "metadata": {},
     "output_type": "execute_result"
    }
   ],
   "source": [
    "total_revenue = (\n",
    "    add_plan_id(revenue_df.reset_index())\n",
    "     .groupby(['plan_id', 'user_id'])\n",
    "     .sum()\n",
    "     ['total']\n",
    "     .groupby('plan_id')\n",
    "     .sum())\n",
    "total_revenue = total_revenue.to_frame().T\n",
    "total_revenue.columns = plans_df['plan_name']\n",
    "total_revenue = total_revenue.squeeze()\n",
    "total_revenue"
   ]
  },
  {
   "cell_type": "markdown",
   "id": "94b09cd9",
   "metadata": {},
   "source": [
    "Total revenue by plan, averaged per user:"
   ]
  },
  {
   "cell_type": "code",
   "execution_count": 47,
   "id": "dee4cfaa",
   "metadata": {},
   "outputs": [
    {
     "data": {
      "text/plain": [
       "0    339\n",
       "1    161\n",
       "Name: plan_id, dtype: int64"
      ]
     },
     "execution_count": 47,
     "metadata": {},
     "output_type": "execute_result"
    }
   ],
   "source": [
    "users_df['plan_id'].value_counts()"
   ]
  },
  {
   "cell_type": "code",
   "execution_count": 48,
   "id": "509a476a",
   "metadata": {},
   "outputs": [
    {
     "data": {
      "text/plain": [
       "array([281.68489676, 323.39130435])"
      ]
     },
     "execution_count": 48,
     "metadata": {},
     "output_type": "execute_result"
    }
   ],
   "source": [
    "total_revenue.values / users_df['plan_id'].value_counts().values"
   ]
  },
  {
   "cell_type": "markdown",
   "id": "7c519c0b",
   "metadata": {},
   "source": [
    "Average revenue is 295 per user for the 'Surf' plan,  \n",
    "and 325 per user for the 'Ultimate' plan."
   ]
  },
  {
   "cell_type": "markdown",
   "id": "41c5ab98",
   "metadata": {},
   "source": [
    "<div class=\"alert alert-success\" role=\"alert\">\n",
    "Reviewer's comment v. 1:\n",
    "    \n",
    "Yes, you are right :)\n",
    "</div>"
   ]
  },
  {
   "cell_type": "markdown",
   "id": "e1f58593",
   "metadata": {},
   "source": [
    "<a class=\"anchor\" id=\"3_6-total_usage\"></a>\n",
    "### Total usage by plan\n",
    "[back to Data structure](#3_data_structure)"
   ]
  },
  {
   "cell_type": "code",
   "execution_count": 49,
   "id": "83cc1d0a",
   "metadata": {},
   "outputs": [],
   "source": [
    "monthly_usage = (\n",
    "    add_plan_id(usage_df.reset_index())\n",
    "     .groupby(['plan_id', 'user_id'])\n",
    "     .sum()\n",
    "     [['calls_duration', 'messages', 'gb_used']])"
   ]
  },
  {
   "cell_type": "code",
   "execution_count": 50,
   "id": "796eff75",
   "metadata": {},
   "outputs": [
    {
     "data": {
      "text/html": [
       "<div>\n",
       "<style scoped>\n",
       "    .dataframe tbody tr th:only-of-type {\n",
       "        vertical-align: middle;\n",
       "    }\n",
       "\n",
       "    .dataframe tbody tr th {\n",
       "        vertical-align: top;\n",
       "    }\n",
       "\n",
       "    .dataframe thead th {\n",
       "        text-align: right;\n",
       "    }\n",
       "</style>\n",
       "<table border=\"1\" class=\"dataframe\">\n",
       "  <thead>\n",
       "    <tr style=\"text-align: right;\">\n",
       "      <th>plan_id</th>\n",
       "      <th>0</th>\n",
       "      <th>1</th>\n",
       "    </tr>\n",
       "  </thead>\n",
       "  <tbody>\n",
       "    <tr>\n",
       "      <th>calls_duration</th>\n",
       "      <td>0.685148</td>\n",
       "      <td>0.314852</td>\n",
       "    </tr>\n",
       "    <tr>\n",
       "      <th>gb_used</th>\n",
       "      <td>0.677877</td>\n",
       "      <td>0.322123</td>\n",
       "    </tr>\n",
       "    <tr>\n",
       "      <th>messages</th>\n",
       "      <td>0.644489</td>\n",
       "      <td>0.355511</td>\n",
       "    </tr>\n",
       "  </tbody>\n",
       "</table>\n",
       "</div>"
      ],
      "text/plain": [
       "plan_id                0         1\n",
       "calls_duration  0.685148  0.314852\n",
       "gb_used         0.677877  0.322123\n",
       "messages        0.644489  0.355511"
      ]
     },
     "execution_count": 50,
     "metadata": {},
     "output_type": "execute_result"
    }
   ],
   "source": [
    "monthly_usage.pivot_table(\n",
    "    index='plan_id',\n",
    "    aggfunc='sum',\n",
    ").agg(lambda x:x/sum(x)).T"
   ]
  },
  {
   "cell_type": "code",
   "execution_count": 51,
   "id": "7f2c3b6a",
   "metadata": {},
   "outputs": [
    {
     "data": {
      "text/html": [
       "<div>\n",
       "<style scoped>\n",
       "    .dataframe tbody tr th:only-of-type {\n",
       "        vertical-align: middle;\n",
       "    }\n",
       "\n",
       "    .dataframe tbody tr th {\n",
       "        vertical-align: top;\n",
       "    }\n",
       "\n",
       "    .dataframe thead th {\n",
       "        text-align: right;\n",
       "    }\n",
       "</style>\n",
       "<table border=\"1\" class=\"dataframe\">\n",
       "  <thead>\n",
       "    <tr style=\"text-align: right;\">\n",
       "      <th></th>\n",
       "      <th>surf</th>\n",
       "      <th>ultimate</th>\n",
       "      <th>All</th>\n",
       "    </tr>\n",
       "  </thead>\n",
       "  <tbody>\n",
       "    <tr>\n",
       "      <th>calls_duration</th>\n",
       "      <td>674423</td>\n",
       "      <td>309924</td>\n",
       "      <td>984347</td>\n",
       "    </tr>\n",
       "    <tr>\n",
       "      <th>gb_used</th>\n",
       "      <td>26223</td>\n",
       "      <td>12461</td>\n",
       "      <td>38684</td>\n",
       "    </tr>\n",
       "    <tr>\n",
       "      <th>messages</th>\n",
       "      <td>49014</td>\n",
       "      <td>27037</td>\n",
       "      <td>76051</td>\n",
       "    </tr>\n",
       "  </tbody>\n",
       "</table>\n",
       "</div>"
      ],
      "text/plain": [
       "                  surf  ultimate     All\n",
       "calls_duration  674423    309924  984347\n",
       "gb_used          26223     12461   38684\n",
       "messages         49014     27037   76051"
      ]
     },
     "execution_count": 51,
     "metadata": {},
     "output_type": "execute_result"
    }
   ],
   "source": [
    "total_usage_by_plan = monthly_usage.pivot_table(\n",
    "    index='plan_id',\n",
    "    aggfunc='sum',\n",
    "    margins=True\n",
    ").T\n",
    "total_usage_by_plan.columns = plans_df['plan_name'].to_list() + ['All']\n",
    "total_usage_by_plan"
   ]
  },
  {
   "cell_type": "code",
   "execution_count": 52,
   "id": "fbfbecf0",
   "metadata": {
    "scrolled": true
   },
   "outputs": [
    {
     "data": {
      "text/html": [
       "<div>\n",
       "<style scoped>\n",
       "    .dataframe tbody tr th:only-of-type {\n",
       "        vertical-align: middle;\n",
       "    }\n",
       "\n",
       "    .dataframe tbody tr th {\n",
       "        vertical-align: top;\n",
       "    }\n",
       "\n",
       "    .dataframe thead th {\n",
       "        text-align: right;\n",
       "    }\n",
       "</style>\n",
       "<table border=\"1\" class=\"dataframe\">\n",
       "  <thead>\n",
       "    <tr style=\"text-align: right;\">\n",
       "      <th>plan_name</th>\n",
       "      <th>surf</th>\n",
       "      <th>ultimate</th>\n",
       "    </tr>\n",
       "  </thead>\n",
       "  <tbody>\n",
       "    <tr>\n",
       "      <th>calls_duration</th>\n",
       "      <td>0.685148</td>\n",
       "      <td>0.314852</td>\n",
       "    </tr>\n",
       "    <tr>\n",
       "      <th>gb_used</th>\n",
       "      <td>0.677877</td>\n",
       "      <td>0.322123</td>\n",
       "    </tr>\n",
       "    <tr>\n",
       "      <th>messages</th>\n",
       "      <td>0.644489</td>\n",
       "      <td>0.355511</td>\n",
       "    </tr>\n",
       "  </tbody>\n",
       "</table>\n",
       "</div>"
      ],
      "text/plain": [
       "plan_name           surf  ultimate\n",
       "calls_duration  0.685148  0.314852\n",
       "gb_used         0.677877  0.322123\n",
       "messages        0.644489  0.355511"
      ]
     },
     "execution_count": 52,
     "metadata": {},
     "output_type": "execute_result"
    }
   ],
   "source": [
    "total_usage_by_plan_percent = monthly_usage.pivot_table(\n",
    "    index='plan_id',\n",
    "    aggfunc='sum',\n",
    ").agg(lambda x:x/sum(x)).T\n",
    "total_usage_by_plan_percent.columns = plans_df['plan_name']\n",
    "total_usage_by_plan_percent"
   ]
  },
  {
   "cell_type": "markdown",
   "id": "cf92e392",
   "metadata": {},
   "source": [
    "2/3 of total usage volume is by 'Surf' plan customers."
   ]
  },
  {
   "cell_type": "markdown",
   "id": "09e38c3f",
   "metadata": {},
   "source": [
    "<div class=\"alert alert-success\" role=\"alert\">\n",
    "Reviewer's comment v. 1:\n",
    "    \n",
    "It's a good idea to analyse proporion in usage volume between these two plans.\n",
    "</div>"
   ]
  },
  {
   "cell_type": "markdown",
   "id": "c5d05a78",
   "metadata": {},
   "source": [
    "<a class=\"anchor\" id=\"3_7-excess_usage\"></a>\n",
    "### Excess usage by plan\n",
    "[back to Data structure](#3_data_structure)"
   ]
  },
  {
   "cell_type": "code",
   "execution_count": 53,
   "id": "bf23b401",
   "metadata": {},
   "outputs": [
    {
     "data": {
      "text/html": [
       "<div>\n",
       "<style scoped>\n",
       "    .dataframe tbody tr th:only-of-type {\n",
       "        vertical-align: middle;\n",
       "    }\n",
       "\n",
       "    .dataframe tbody tr th {\n",
       "        vertical-align: top;\n",
       "    }\n",
       "\n",
       "    .dataframe thead th {\n",
       "        text-align: right;\n",
       "    }\n",
       "</style>\n",
       "<table border=\"1\" class=\"dataframe\">\n",
       "  <thead>\n",
       "    <tr style=\"text-align: right;\">\n",
       "      <th></th>\n",
       "      <th></th>\n",
       "      <th>calls_duration</th>\n",
       "      <th>messages</th>\n",
       "      <th>gb_used</th>\n",
       "    </tr>\n",
       "    <tr>\n",
       "      <th>user_id</th>\n",
       "      <th>month</th>\n",
       "      <th></th>\n",
       "      <th></th>\n",
       "      <th></th>\n",
       "    </tr>\n",
       "  </thead>\n",
       "  <tbody>\n",
       "    <tr>\n",
       "      <th>1000</th>\n",
       "      <th>12</th>\n",
       "      <td>0</td>\n",
       "      <td>0</td>\n",
       "      <td>0</td>\n",
       "    </tr>\n",
       "    <tr>\n",
       "      <th rowspan=\"2\" valign=\"top\">1001</th>\n",
       "      <th>8</th>\n",
       "      <td>0</td>\n",
       "      <td>0</td>\n",
       "      <td>0</td>\n",
       "    </tr>\n",
       "    <tr>\n",
       "      <th>9</th>\n",
       "      <td>0</td>\n",
       "      <td>0</td>\n",
       "      <td>0</td>\n",
       "    </tr>\n",
       "  </tbody>\n",
       "</table>\n",
       "</div>"
      ],
      "text/plain": [
       "               calls_duration  messages  gb_used\n",
       "user_id month                                   \n",
       "1000    12                  0         0        0\n",
       "1001    8                   0         0        0\n",
       "        9                   0         0        0"
      ]
     },
     "execution_count": 53,
     "metadata": {},
     "output_type": "execute_result"
    }
   ],
   "source": [
    "excess_usage = usage_df.apply(calculate_excess, axis=1, result_type='expand')\n",
    "excess_usage.columns = ['calls_duration', 'messages', 'gb_used']\n",
    "excess_usage.head(3)"
   ]
  },
  {
   "cell_type": "code",
   "execution_count": 54,
   "id": "2802d40c",
   "metadata": {},
   "outputs": [],
   "source": [
    "total_monthly_excess = (\n",
    "    add_plan_id(excess_usage.reset_index())\n",
    "     .groupby(['plan_id', 'user_id'])\n",
    "     .sum()\n",
    "     [['calls_duration', 'messages', 'gb_used']])"
   ]
  },
  {
   "cell_type": "code",
   "execution_count": 55,
   "id": "18df1783",
   "metadata": {},
   "outputs": [
    {
     "data": {
      "text/html": [
       "<div>\n",
       "<style scoped>\n",
       "    .dataframe tbody tr th:only-of-type {\n",
       "        vertical-align: middle;\n",
       "    }\n",
       "\n",
       "    .dataframe tbody tr th {\n",
       "        vertical-align: top;\n",
       "    }\n",
       "\n",
       "    .dataframe thead th {\n",
       "        text-align: right;\n",
       "    }\n",
       "</style>\n",
       "<table border=\"1\" class=\"dataframe\">\n",
       "  <thead>\n",
       "    <tr style=\"text-align: right;\">\n",
       "      <th>plan_name</th>\n",
       "      <th>surf</th>\n",
       "      <th>ultimate</th>\n",
       "    </tr>\n",
       "  </thead>\n",
       "  <tbody>\n",
       "    <tr>\n",
       "      <th>calls_duration</th>\n",
       "      <td>290.315315</td>\n",
       "      <td>0.000000</td>\n",
       "    </tr>\n",
       "    <tr>\n",
       "      <th>messages</th>\n",
       "      <td>33.126126</td>\n",
       "      <td>0.000000</td>\n",
       "    </tr>\n",
       "    <tr>\n",
       "      <th>gb_used</th>\n",
       "      <td>18.258258</td>\n",
       "      <td>1.515924</td>\n",
       "    </tr>\n",
       "  </tbody>\n",
       "</table>\n",
       "</div>"
      ],
      "text/plain": [
       "plan_name             surf  ultimate\n",
       "calls_duration  290.315315  0.000000\n",
       "messages         33.126126  0.000000\n",
       "gb_used          18.258258  1.515924"
      ]
     },
     "execution_count": 55,
     "metadata": {},
     "output_type": "execute_result"
    }
   ],
   "source": [
    "avg_excess_usage = total_monthly_excess.groupby('plan_id').mean().T\n",
    "avg_excess_usage.columns = plans_df['plan_name']\n",
    "avg_excess_usage"
   ]
  },
  {
   "cell_type": "code",
   "execution_count": 56,
   "id": "2a1e6a54",
   "metadata": {},
   "outputs": [
    {
     "data": {
      "text/html": [
       "<div>\n",
       "<style scoped>\n",
       "    .dataframe tbody tr th:only-of-type {\n",
       "        vertical-align: middle;\n",
       "    }\n",
       "\n",
       "    .dataframe tbody tr th {\n",
       "        vertical-align: top;\n",
       "    }\n",
       "\n",
       "    .dataframe thead th {\n",
       "        text-align: right;\n",
       "    }\n",
       "</style>\n",
       "<table border=\"1\" class=\"dataframe\">\n",
       "  <thead>\n",
       "    <tr style=\"text-align: right;\">\n",
       "      <th>plan_name</th>\n",
       "      <th>surf</th>\n",
       "      <th>ultimate</th>\n",
       "    </tr>\n",
       "  </thead>\n",
       "  <tbody>\n",
       "    <tr>\n",
       "      <th>calls_duration</th>\n",
       "      <td>1.000000</td>\n",
       "      <td>0.000000</td>\n",
       "    </tr>\n",
       "    <tr>\n",
       "      <th>messages</th>\n",
       "      <td>1.000000</td>\n",
       "      <td>0.000000</td>\n",
       "    </tr>\n",
       "    <tr>\n",
       "      <th>gb_used</th>\n",
       "      <td>0.923338</td>\n",
       "      <td>0.076662</td>\n",
       "    </tr>\n",
       "  </tbody>\n",
       "</table>\n",
       "</div>"
      ],
      "text/plain": [
       "plan_name           surf  ultimate\n",
       "calls_duration  1.000000  0.000000\n",
       "messages        1.000000  0.000000\n",
       "gb_used         0.923338  0.076662"
      ]
     },
     "execution_count": 56,
     "metadata": {},
     "output_type": "execute_result"
    }
   ],
   "source": [
    "avg_excess_usage.T.agg(lambda x:x/sum(x)).T"
   ]
  },
  {
   "cell_type": "markdown",
   "id": "4246495c",
   "metadata": {},
   "source": [
    "'Surf' plan customers are constantly exceeding the limits of their plan,  \n",
    "as opposed to 'Ultimate' customers which almost never do (exception being internet traffic)."
   ]
  },
  {
   "cell_type": "markdown",
   "id": "f673345f",
   "metadata": {},
   "source": [
    "<div class=\"alert alert-success\" role=\"alert\">\n",
    "Reviewer's comment v. 1:\n",
    "    \n",
    "Yes, you have made a correct conclusion :)\n",
    "</div>"
   ]
  },
  {
   "cell_type": "markdown",
   "id": "5ff8ffa9",
   "metadata": {},
   "source": [
    "<a class=\"anchor\" id=\"3_data_structure-conclusions\"></a>\n",
    "### Conclusions\n",
    "[back to Data structure](#3_data_structure)\n",
    "\n",
    "Usage of services (calls, messages and internet) data has been grouped by user and month.\n",
    "\n",
    "These are the observed findings:\n",
    "- There are twice as much 'Surf' users as there are 'Ultimate' users\n",
    "- Volume of usage is also 2x larger for 'Surf' users than for 'Ultimate' users\n",
    "- 'Surf' users exceed plan limits much more often than 'Ultimate' users\n",
    "- avg. monthly user revenue:  \n",
    "    \\- Surf - \\\\$295  \n",
    "    \\- Ultimate - \\\\$325"
   ]
  },
  {
   "cell_type": "markdown",
   "id": "1ec4473d",
   "metadata": {},
   "source": [
    "<a class=\"anchor\" id=\"4_analysis\"></a>\n",
    "## Analysis\n",
    "***\n",
    "[back to Table of Contents](#0_toc)\n",
    "1. [Outliers](#4_1-outliers)\n",
    "2. [Descriptive statistics](#4_2-stats)\n",
    "3. [Plots](#4_3-plots)\n",
    "<br />[Conclusions](#4_analysis-conclusions)"
   ]
  },
  {
   "cell_type": "code",
   "execution_count": 57,
   "id": "0c616d2b",
   "metadata": {},
   "outputs": [
    {
     "data": {
      "text/html": [
       "<div>\n",
       "<style scoped>\n",
       "    .dataframe tbody tr th:only-of-type {\n",
       "        vertical-align: middle;\n",
       "    }\n",
       "\n",
       "    .dataframe tbody tr th {\n",
       "        vertical-align: top;\n",
       "    }\n",
       "\n",
       "    .dataframe thead th {\n",
       "        text-align: right;\n",
       "    }\n",
       "</style>\n",
       "<table border=\"1\" class=\"dataframe\">\n",
       "  <thead>\n",
       "    <tr style=\"text-align: right;\">\n",
       "      <th></th>\n",
       "      <th></th>\n",
       "      <th>calls_duration</th>\n",
       "      <th>messages</th>\n",
       "      <th>gb_used</th>\n",
       "    </tr>\n",
       "    <tr>\n",
       "      <th>plan_id</th>\n",
       "      <th>user_id</th>\n",
       "      <th></th>\n",
       "      <th></th>\n",
       "      <th></th>\n",
       "    </tr>\n",
       "  </thead>\n",
       "  <tbody>\n",
       "    <tr>\n",
       "      <th>0</th>\n",
       "      <th>1001</th>\n",
       "      <td>345</td>\n",
       "      <td>41</td>\n",
       "      <td>16</td>\n",
       "    </tr>\n",
       "    <tr>\n",
       "      <th>1</th>\n",
       "      <th>1000</th>\n",
       "      <td>124</td>\n",
       "      <td>11</td>\n",
       "      <td>2</td>\n",
       "    </tr>\n",
       "  </tbody>\n",
       "</table>\n",
       "</div>"
      ],
      "text/plain": [
       "                 calls_duration  messages  gb_used\n",
       "plan_id user_id                                   \n",
       "0       1001                345        41       16\n",
       "1       1000                124        11        2"
      ]
     },
     "execution_count": 57,
     "metadata": {},
     "output_type": "execute_result"
    }
   ],
   "source": [
    "avg_monthly_usage = (\n",
    "    add_plan_id(usage_df.reset_index())\n",
    "     .groupby(['plan_id', 'user_id'])\n",
    "     .mean()\n",
    "     [['calls_duration', 'messages', 'gb_used']]\n",
    "     .astype('int'))\n",
    "avg_monthly_usage.groupby('plan_id').head(1)"
   ]
  },
  {
   "cell_type": "markdown",
   "id": "c64cf566",
   "metadata": {},
   "source": [
    "<a class=\"anchor\" id=\"4_1-outliers\"></a>\n",
    "### Outliers\n",
    "[back to Analysis](#4_analysis)"
   ]
  },
  {
   "cell_type": "code",
   "execution_count": 58,
   "id": "41d74aef",
   "metadata": {},
   "outputs": [],
   "source": [
    "def calculate_descriptive_stats(series):\n",
    "    \"\"\"\n",
    "    Returns a Tuple of:\n",
    "      lower extreme,\n",
    "      upper extreme,\n",
    "      IQR\n",
    "      Q1,\n",
    "      Q3\n",
    "    \"\"\"\n",
    "    \n",
    "    q1 = series.quantile(0.25)\n",
    "    q3 = series.quantile(0.75)\n",
    "    iqr = q3 - q1\n",
    "    \n",
    "    limits = [\n",
    "        max(q1 - (1.5 * iqr), series.min()),\n",
    "        min(q3 + (1.5 * iqr), series.max())\n",
    "    ]\n",
    "    \n",
    "    return limits[0], limits[1], iqr, q1, q3"
   ]
  },
  {
   "cell_type": "code",
   "execution_count": 59,
   "id": "ae340289",
   "metadata": {
    "scrolled": true
   },
   "outputs": [
    {
     "data": {
      "image/png": "[encoded data removed]",
      "text/plain": [
       "<Figure size 864x288 with 2 Axes>"
      ]
     },
     "metadata": {
      "needs_background": "light"
     },
     "output_type": "display_data"
    }
   ],
   "source": [
    "fig, axes = plt.subplots(1,2, figsize=(12,4))\n",
    "\n",
    "for plan_id in plans_df.index:\n",
    "    plan_df = avg_monthly_usage.loc[plan_id]\n",
    "    plan_df.plot(kind='box', ax=axes[plan_id]);\n",
    "    axes[plan_id].set_title(plans_df.loc[plan_id]['plan_name'])\n",
    "    \n",
    "    # print(monthly_usage.columns)\n",
    "    for index, column in enumerate(avg_monthly_usage.columns):\n",
    "        series = plan_df[column]\n",
    "        lower_extreme, upper_extreme, _, _, _ = calculate_descriptive_stats(series)\n",
    "        axes[plan_id].hlines([lower_extreme, upper_extreme], color='red', xmin=index + 0.8, xmax=index + 1.2)\n",
    "    \n",
    "\n",
    "    fig.tight_layout()"
   ]
  },
  {
   "cell_type": "markdown",
   "id": "0f6dd259",
   "metadata": {},
   "source": [
    "<div class=\"alert alert-danger\" role=\"alert\">\n",
    "Reviewer's comment v. 1:\n",
    "    \n",
    "Could you please clearly analyse graphs? Please note that this applies to all other graphs too.\n",
    "</div>"
   ]
  },
  {
   "cell_type": "markdown",
   "id": "f5ce5e5e",
   "metadata": {},
   "source": [
    "<div class=\"alert alert-info\"> <b>Student comment:</b> <br />\n",
    "I am not sure how should I verbalise the graphs for this exercise, so I'll attempt a very verbose description of what I see.  \n",
    "</div>"
   ]
  },
  {
   "cell_type": "code",
   "execution_count": 60,
   "id": "7b634661",
   "metadata": {},
   "outputs": [],
   "source": [
    "import warnings\n",
    "warnings.filterwarnings(\"ignore\", category=np.VisibleDeprecationWarning)"
   ]
  },
  {
   "cell_type": "code",
   "execution_count": 61,
   "id": "92d7a6e3",
   "metadata": {},
   "outputs": [
    {
     "data": {
      "image/png": "[encoded data removed]",
      "text/plain": [
       "<Figure size 432x288 with 1 Axes>"
      ]
     },
     "metadata": {
      "needs_background": "light"
     },
     "output_type": "display_data"
    },
    {
     "data": {
      "image/png": "[encoded data removed]",
      "text/plain": [
       "<Figure size 432x288 with 1 Axes>"
      ]
     },
     "metadata": {
      "needs_background": "light"
     },
     "output_type": "display_data"
    },
    {
     "data": {
      "image/png": "[encoded data removed]",
      "text/plain": [
       "<Figure size 432x288 with 1 Axes>"
      ]
     },
     "metadata": {
      "needs_background": "light"
     },
     "output_type": "display_data"
    }
   ],
   "source": [
    "for index, column in enumerate(avg_monthly_usage.columns):\n",
    "    series = avg_monthly_usage[column]\n",
    "    plt.boxplot([avg_monthly_usage[column][0], avg_monthly_usage[column][1]], labels=plans_df['plan_name'])\n",
    "    plt.title(column)\n",
    "    plt.grid(True)\n",
    "    plt.show();"
   ]
  },
  {
   "cell_type": "markdown",
   "id": "1b91ed0c",
   "metadata": {},
   "source": [
    "Description of plots:\n",
    "- call duration:  \n",
    "range of values is 0-900 for surf, 0-800 for ultimate  \n",
    "median is a bit higher for ultimate (400+), as oppoosed to surf (400-)  \n",
    "IQR is about the same  \n",
    "there are visible upper outliers for both plans  \n",
    "both look approximately normally distributed  \n",
    "- messages:\n",
    "range of values is 0-110 for surf, 0-130 for ultimate  \n",
    "median is higher for ultimate (30+), as opposed to surf (30-)  \n",
    "IQR is bigger for ultimate  \n",
    "there are upper extreme outliers for both plans  \n",
    "both appear to be right-skewed, ultimate is more dispersed  \n",
    "- internet (gb used):\n",
    "range of values is similar between plans, surf is approximately 5-28, and ultimate is approximately 2-28  \n",
    "median is higher for surf  \n",
    "IQR is bigger for ultimate  \n",
    "there are upper and lower outliers for both plans  \n",
    "both look approximately normally distributed  "
   ]
  },
  {
   "cell_type": "markdown",
   "id": "d7a69e11",
   "metadata": {},
   "source": [
    "<div class=\"alert alert-success\" role=\"alert\">\n",
    "Reviewer's comment v. 2:\n",
    "    \n",
    "Well done that you plotted boxplots and described an outliers in details.\n",
    "</div>"
   ]
  },
  {
   "cell_type": "markdown",
   "id": "f96ee12d",
   "metadata": {},
   "source": [
    "Detected outliers, checking ratio:"
   ]
  },
  {
   "cell_type": "code",
   "execution_count": 62,
   "id": "c834c502",
   "metadata": {},
   "outputs": [],
   "source": [
    "def detect_outliers(df):\n",
    "    \"\"\"\"\"\"\n",
    "    \n",
    "    for column in df.columns:\n",
    "        series = df[column]\n",
    "        lower_extreme, upper_extreme, _, _, _ = calculate_descriptive_stats(series)\n",
    "        outliers = series[(series < lower_extreme) | (series > upper_extreme)]\n",
    "        len(outliers) / len(series)\n",
    "        print(f'{series.name} outliers: {len(outliers)} ({len(outliers)/len(series):.2%})')\n",
    "        print(f'lower extreme: {lower_extreme}  upper extreme: {upper_extreme}')\n",
    "        print(outliers, '\\n')"
   ]
  },
  {
   "cell_type": "code",
   "execution_count": 63,
   "id": "b7ed1b7a",
   "metadata": {},
   "outputs": [
    {
     "name": "stdout",
     "output_type": "stream",
     "text": [
      "calls_duration outliers: 8 (1.63%)\n",
      "lower extreme: 0  upper extreme: 893.125\n",
      "plan_id  user_id\n",
      "0        1003       1104\n",
      "         1118        909\n",
      "         1240        999\n",
      "         1324       1055\n",
      "         1365       1040\n",
      "1        1329       1030\n",
      "         1382       1054\n",
      "         1412        947\n",
      "Name: calls_duration, dtype: int64 \n",
      "\n",
      "messages outliers: 11 (2.24%)\n",
      "lower extreme: 0  upper extreme: 118.375\n",
      "plan_id  user_id\n",
      "0        1052       159\n",
      "         1076       123\n",
      "         1119       122\n",
      "         1324       130\n",
      "         1328       137\n",
      "         1381       156\n",
      "         1470       132\n",
      "1        1132       143\n",
      "         1229       125\n",
      "         1230       126\n",
      "         1303       148\n",
      "Name: messages, dtype: int64 \n",
      "\n",
      "gb_used outliers: 22 (4.49%)\n",
      "lower extreme: 2.125  upper extreme: 29.125\n",
      "plan_id  user_id\n",
      "0        1034        1\n",
      "         1119        1\n",
      "         1121       34\n",
      "         1147       32\n",
      "         1240       34\n",
      "         1268       31\n",
      "         1292       39\n",
      "         1306        1\n",
      "         1323        2\n",
      "         1340        1\n",
      "         1379       44\n",
      "         1418       30\n",
      "         1452        1\n",
      "         1470        0\n",
      "         1481        2\n",
      "1        1000        2\n",
      "         1028       35\n",
      "         1038       34\n",
      "         1108        1\n",
      "         1144       30\n",
      "         1186        2\n",
      "         1490       31\n",
      "Name: gb_used, dtype: int64 \n",
      "\n"
     ]
    }
   ],
   "source": [
    "detect_outliers(avg_monthly_usage)"
   ]
  },
  {
   "cell_type": "markdown",
   "id": "d882543a",
   "metadata": {},
   "source": [
    "Outliers are within a reasonable threshold,  \n",
    "removing for further statistically convenient analysis."
   ]
  },
  {
   "cell_type": "code",
   "execution_count": 64,
   "id": "56ffb45c",
   "metadata": {},
   "outputs": [],
   "source": [
    "def remove_outliers(df):\n",
    "    queries = []\n",
    "    \n",
    "    for column in df.columns:\n",
    "        series = df[column]\n",
    "        lower_extreme, upper_extreme, _, _, _ = calculate_descriptive_stats(series)\n",
    "        queries.append(f'({lower_extreme} <= {column} <= {upper_extreme})')\n",
    "        \n",
    "    query = ' and '.join(queries)\n",
    "    # print(query)\n",
    "    \n",
    "    result = df.query(query)\n",
    "    outliers_count = len(df) - len(result)\n",
    "    \n",
    "    if outliers_count <= 0:\n",
    "        print('No outliers detected.')\n",
    "        return df\n",
    "    \n",
    "    print(f'Removed {outliers_count} ({outliers_count/len(df):.2%}) outliers [{len(df)} -> {len(result)}].')\n",
    "    return result"
   ]
  },
  {
   "cell_type": "code",
   "execution_count": 65,
   "id": "f7b38c32",
   "metadata": {},
   "outputs": [
    {
     "name": "stdout",
     "output_type": "stream",
     "text": [
      "Removed 37 (7.55%) outliers [490 -> 453].\n"
     ]
    }
   ],
   "source": [
    "avg_monthly_usage_filtered = remove_outliers(avg_monthly_usage)"
   ]
  },
  {
   "cell_type": "markdown",
   "id": "65bc272f",
   "metadata": {},
   "source": [
    "<div class=\"alert alert-success\" role=\"alert\">\n",
    "Reviewer's comment v. 1:\n",
    "    \n",
    "It's great that you clearly analysed an outliers and removed them. It's a good idea to check the percentage of an outliers in data.\n",
    "</div>"
   ]
  },
  {
   "cell_type": "markdown",
   "id": "874c2ea6",
   "metadata": {},
   "source": [
    "<a class=\"anchor\" id=\"4_2-stats\"></a>\n",
    "### Descriptive Statistics\n",
    "[back to Analysis](#4_analysis)"
   ]
  },
  {
   "cell_type": "code",
   "execution_count": 66,
   "id": "bf9dab96",
   "metadata": {},
   "outputs": [
    {
     "data": {
      "text/html": [
       "<div>\n",
       "<style scoped>\n",
       "    .dataframe tbody tr th:only-of-type {\n",
       "        vertical-align: middle;\n",
       "    }\n",
       "\n",
       "    .dataframe tbody tr th {\n",
       "        vertical-align: top;\n",
       "    }\n",
       "\n",
       "    .dataframe thead th {\n",
       "        text-align: right;\n",
       "    }\n",
       "</style>\n",
       "<table border=\"1\" class=\"dataframe\">\n",
       "  <thead>\n",
       "    <tr style=\"text-align: right;\">\n",
       "      <th></th>\n",
       "      <th>calls_duration</th>\n",
       "      <th>messages</th>\n",
       "      <th>gb_used</th>\n",
       "    </tr>\n",
       "  </thead>\n",
       "  <tbody>\n",
       "    <tr>\n",
       "      <th>count</th>\n",
       "      <td>453.000000</td>\n",
       "      <td>453.000000</td>\n",
       "      <td>453.000000</td>\n",
       "    </tr>\n",
       "    <tr>\n",
       "      <th>mean</th>\n",
       "      <td>403.975717</td>\n",
       "      <td>31.988962</td>\n",
       "      <td>15.558499</td>\n",
       "    </tr>\n",
       "    <tr>\n",
       "      <th>std</th>\n",
       "      <td>178.022786</td>\n",
       "      <td>27.888088</td>\n",
       "      <td>4.837560</td>\n",
       "    </tr>\n",
       "    <tr>\n",
       "      <th>min</th>\n",
       "      <td>0.000000</td>\n",
       "      <td>0.000000</td>\n",
       "      <td>3.000000</td>\n",
       "    </tr>\n",
       "    <tr>\n",
       "      <th>25%</th>\n",
       "      <td>289.000000</td>\n",
       "      <td>9.000000</td>\n",
       "      <td>13.000000</td>\n",
       "    </tr>\n",
       "    <tr>\n",
       "      <th>50%</th>\n",
       "      <td>402.000000</td>\n",
       "      <td>27.000000</td>\n",
       "      <td>16.000000</td>\n",
       "    </tr>\n",
       "    <tr>\n",
       "      <th>75%</th>\n",
       "      <td>528.000000</td>\n",
       "      <td>51.000000</td>\n",
       "      <td>19.000000</td>\n",
       "    </tr>\n",
       "    <tr>\n",
       "      <th>max</th>\n",
       "      <td>889.000000</td>\n",
       "      <td>118.000000</td>\n",
       "      <td>29.000000</td>\n",
       "    </tr>\n",
       "  </tbody>\n",
       "</table>\n",
       "</div>"
      ],
      "text/plain": [
       "       calls_duration    messages     gb_used\n",
       "count      453.000000  453.000000  453.000000\n",
       "mean       403.975717   31.988962   15.558499\n",
       "std        178.022786   27.888088    4.837560\n",
       "min          0.000000    0.000000    3.000000\n",
       "25%        289.000000    9.000000   13.000000\n",
       "50%        402.000000   27.000000   16.000000\n",
       "75%        528.000000   51.000000   19.000000\n",
       "max        889.000000  118.000000   29.000000"
      ]
     },
     "execution_count": 66,
     "metadata": {},
     "output_type": "execute_result"
    }
   ],
   "source": [
    "avg_monthly_usage_filtered.describe()"
   ]
  },
  {
   "cell_type": "code",
   "execution_count": 67,
   "id": "ed566a43",
   "metadata": {},
   "outputs": [
    {
     "data": {
      "text/plain": [
       "calls_duration    31622.151728\n",
       "messages            776.028576\n",
       "gb_used              23.350331\n",
       "dtype: float64"
      ]
     },
     "execution_count": 67,
     "metadata": {},
     "output_type": "execute_result"
    }
   ],
   "source": [
    "np.var(avg_monthly_usage_filtered)"
   ]
  },
  {
   "cell_type": "markdown",
   "id": "d622514d",
   "metadata": {},
   "source": [
    "<div class=\"alert alert-danger\" role=\"alert\">\n",
    "Reviewer's comment v. 1:\n",
    "    \n",
    "Well done that you calculated the mean, variance and standard deviation for both plans, but please analyse it and make a corresponding conclusions.\n",
    "</div>"
   ]
  },
  {
   "cell_type": "markdown",
   "id": "8fe7b7c0",
   "metadata": {},
   "source": [
    "The statistics reaffirm what the boxplots have shown, only in a more precise way.  \n",
    "The mean of calls is >> mean of messages > mean of gb used,  \n",
    "and also the variance is much bigger for calls than it is for messages,  \n",
    "and bigger for messages than it is for gb used.  \n",
    "\n",
    "The same is also true for the dispersion (variance),  standard deviation (since it is the squared root of variance),  min/max, quartiles and IQR.  \n",
    "The range of values for calls is much bigger than that of messages, which is bigger than that of gb used."
   ]
  },
  {
   "cell_type": "markdown",
   "id": "e3aeeebe",
   "metadata": {},
   "source": [
    "<div class=\"alert alert-success\" role=\"alert\">\n",
    "Reviewer's comment v. 2:\n",
    "    \n",
    "It will be better to explain how these statistics have influence on the data. What does it mean if the variance is much bigger for calls than it is for messages?\n",
    "</div>"
   ]
  },
  {
   "cell_type": "markdown",
   "id": "80283b3d",
   "metadata": {},
   "source": [
    "<a class=\"anchor\" id=\"4_3-plots\"></a>\n",
    "### Plots\n",
    "[back to Analysis](#4_analysis)"
   ]
  },
  {
   "cell_type": "code",
   "execution_count": 68,
   "id": "a1d14850",
   "metadata": {},
   "outputs": [],
   "source": [
    "# this function should be refactored to a class,\n",
    "# unmaintainable, bad practice. big no-no for production.\n",
    "\n",
    "def iter_plot(df, apply, shape=None, **kwargs):\n",
    "    \"\"\"\"\"\"\n",
    "    \n",
    "    plt_params = ['title']\n",
    "    plt_deferred = {}\n",
    "    \n",
    "    ax_count = 0\n",
    "    ax_params = ['axtitle', 'xlabel', 'ylabel']\n",
    "    ax_deferred = {}\n",
    "\n",
    "    def parse_kwargs():\n",
    "        nonlocal ax_deferred\n",
    "        \n",
    "        for k in ax_params:\n",
    "            if k in kwargs:\n",
    "                ax_deferred[k] = kwargs.pop(k)\n",
    "                \n",
    "    def apply_ax(ax, series):\n",
    "        nonlocal ax_deferred\n",
    "        \n",
    "        if 'axtitle' in ax_deferred:\n",
    "            title = ax_deferred['axtitle']\n",
    "            \n",
    "            if isinstance(title, dict):\n",
    "                ax.set_title(title.get(series.name) or '')\n",
    "            elif callable(title):\n",
    "                ax.set_title(title(series))\n",
    "            \n",
    "        if 'xlabel' in ax_deferred:\n",
    "            ax.set_xlabel(ax_deferred['xlabel'])\n",
    "            \n",
    "        if 'ylabel' in ax_deferred:\n",
    "            ax.set_ylabel(ax_deferred['ylabel'])\n",
    "        \n",
    "        for k, v in ax_deferred.items():\n",
    "            kwargs[k] = ax_deferred[k]\n",
    "            \n",
    "        ax_deferred.clear()\n",
    "        \n",
    "    def plot_series(series):\n",
    "        # print(series.name, series)\n",
    "        \n",
    "        nonlocal ax_count\n",
    "        ax = axes[ax_count]\n",
    "            \n",
    "        parse_kwargs()\n",
    "        apply(series, ax, **kwargs)\n",
    "        apply_ax(ax, series)\n",
    "        \n",
    "        ax_count += 1\n",
    "        ax_count %= shape[1]\n",
    "        \n",
    "    def plot_dataframe(df):\n",
    "        # print(df.name, df.columns)\n",
    "        \n",
    "        for _, series in df.items():\n",
    "            series.group = df.name if hasattr(df, 'name') else None\n",
    "            plot_series(series)\n",
    "            \n",
    "    for k in plt_params:\n",
    "        if k in kwargs:\n",
    "            plt_deferred[k] = kwargs.pop(k)\n",
    "            \n",
    "    if isinstance(df, pd.core.groupby.DataFrameGroupBy):\n",
    "        if not shape:\n",
    "            # shape = len(df), len(df.obj.columns) # multiple rows\n",
    "            shape = (1, len(df.obj.columns))\n",
    "            \n",
    "        fig, axes = plt.subplots(*shape)\n",
    "            \n",
    "        for group_name, group in df:\n",
    "            group.name = group_name\n",
    "            plot_dataframe(group)\n",
    "    else:\n",
    "        if not shape:\n",
    "            shape = (1, len(df.columns))\n",
    "            \n",
    "        fig, axes = plt.subplots(*shape)\n",
    "        plot_dataframe(df)\n",
    "        \n",
    "    fig.tight_layout(pad=3)\n",
    "    \n",
    "    if 'title' in plt_deferred:\n",
    "        fig.suptitle(plt_deferred['title'])"
   ]
  },
  {
   "cell_type": "code",
   "execution_count": 69,
   "id": "7049924c",
   "metadata": {},
   "outputs": [],
   "source": [
    "def plot_frequency_hist(df, **kwargs):\n",
    "    \"\"\"\"\"\"\n",
    "    \n",
    "    iter_plot(\n",
    "        df,\n",
    "        lambda series, ax, **args: (series\n",
    "                                       .rename(plans_df.loc[series.group, 'plan_name'])\n",
    "                                       .hist(density=True, ax=ax, **args, legend='True')),\n",
    "        **kwargs\n",
    "    )"
   ]
  },
  {
   "cell_type": "code",
   "execution_count": 70,
   "id": "50f24a2a",
   "metadata": {},
   "outputs": [],
   "source": [
    "def plot_box(df, tick_labels=None, figsize=None):\n",
    "    fig, axes = plt.subplots(1, len(df.columns), figsize=figsize)\n",
    "    flat_axes = axes.flatten()\n",
    "    \n",
    "    for col_i, column in enumerate(df.columns):\n",
    "        ax = flat_axes[col_i]\n",
    "        ax.boxplot([\n",
    "            df[column][0],\n",
    "            df[column][1]\n",
    "        ], vert=False)\n",
    "        ax.set_title(column)\n",
    "        ax.set_yticklabels(tick_labels)\n",
    "        \n",
    "    fig.tight_layout()\n",
    "    plt.show();"
   ]
  },
  {
   "cell_type": "code",
   "execution_count": 71,
   "id": "758c1b8c",
   "metadata": {
    "scrolled": true
   },
   "outputs": [
    {
     "data": {
      "image/png": "[encoded data removed]",
      "text/plain": [
       "<Figure size 1008x288 with 3 Axes>"
      ]
     },
     "metadata": {
      "needs_background": "light"
     },
     "output_type": "display_data"
    }
   ],
   "source": [
    "plot_frequency_hist(\n",
    "    avg_monthly_usage_filtered.groupby('plan_id'),\n",
    "    alpha=.7,\n",
    "    figsize=(14,4),\n",
    "    title='Monthly average usage',\n",
    "    axtitle=lambda series: series.name,\n",
    "    ylabel='Frequency Density'\n",
    ")"
   ]
  },
  {
   "cell_type": "markdown",
   "id": "eb89b2eb",
   "metadata": {},
   "source": [
    "<div class=\"alert alert-danger\" role=\"alert\">\n",
    "Reviewer's comment v. 1:\n",
    "    \n",
    "Please analyse graphs clearly.\n",
    "</div>"
   ]
  },
  {
   "cell_type": "markdown",
   "id": "d698c903",
   "metadata": {},
   "source": [
    "Visual description of the plots:  \n",
    "\\* the numbers are rough approximations\n",
    "- calls_duration:  \n",
    "  Ultimate plan has more customers with a larger avg. calls' duration,  \n",
    "  Ultimate has most customers at 500, Surf at 300.\n",
    "- messages:  \n",
    "  Surf has most customers at 10, Ultimate at ~10 also but less frequent than Surf,  \n",
    "  Ultimate has more customers at around 60-70 and 90-110 than Surf.\n",
    "- gb_used:  \n",
    "  Surf has more customers with a larger avg. traffic volume,  \n",
    "  Surf has most customers at 16-18, Ultimate at 13-17."
   ]
  },
  {
   "cell_type": "markdown",
   "id": "a0a91072",
   "metadata": {},
   "source": [
    "<div class=\"alert alert-success\" role=\"alert\">\n",
    "Reviewer's comment v. 2:\n",
    "    \n",
    "An excellent analysis of the graphs 👍👍👍\n",
    "</div>"
   ]
  },
  {
   "cell_type": "markdown",
   "id": "528652a5",
   "metadata": {},
   "source": [
    "<div class=\"alert alert-warning\" role=\"alert\">\n",
    "Reviewer's comment v. 1:\n",
    "    \n",
    "Please note that you can avoid warnings (if necessary) by using the code below.\n",
    "</div>"
   ]
  },
  {
   "cell_type": "code",
   "execution_count": 72,
   "id": "cd5bdfd4",
   "metadata": {},
   "outputs": [],
   "source": [
    "import sys\n",
    "import warnings\n",
    "if not sys.warnoptions:\n",
    "       warnings.simplefilter(\"ignore\")"
   ]
  },
  {
   "cell_type": "code",
   "execution_count": 73,
   "id": "c2173a2a",
   "metadata": {},
   "outputs": [
    {
     "data": {
      "image/png": "[encoded data removed]",
      "text/plain": [
       "<Figure size 1008x288 with 3 Axes>"
      ]
     },
     "metadata": {
      "needs_background": "light"
     },
     "output_type": "display_data"
    }
   ],
   "source": [
    "plot_box(avg_monthly_usage_filtered, tick_labels=plans_df['plan_name'], figsize=(14,4))"
   ]
  },
  {
   "cell_type": "markdown",
   "id": "f6d31cf0",
   "metadata": {},
   "source": [
    "'calls_duration' and 'gb_used' are normally distributed, while 'messages' is right-skewed.  \n",
    "There are some differences between the plans, but overall distribution is similar."
   ]
  },
  {
   "cell_type": "markdown",
   "id": "6b9c7024",
   "metadata": {},
   "source": [
    "<div class=\"alert alert-danger\" role=\"alert\">\n",
    "Reviewer's comment v. 1:\n",
    "    \n",
    "Well done that you plot boxplot, but please describe outliers in more details.\n",
    "</div>"
   ]
  },
  {
   "cell_type": "markdown",
   "id": "18f78bb0",
   "metadata": {},
   "source": [
    "<div class=\"alert alert-success\" role=\"alert\">\n",
    "Reviewer's comment v. 2:\n",
    "    \n",
    "Yes, you are right :)\n",
    "</div>"
   ]
  },
  {
   "cell_type": "code",
   "execution_count": 74,
   "id": "ac379ca2",
   "metadata": {},
   "outputs": [
    {
     "data": {
      "text/html": [
       "<div>\n",
       "<style scoped>\n",
       "    .dataframe tbody tr th:only-of-type {\n",
       "        vertical-align: middle;\n",
       "    }\n",
       "\n",
       "    .dataframe tbody tr th {\n",
       "        vertical-align: top;\n",
       "    }\n",
       "\n",
       "    .dataframe thead th {\n",
       "        text-align: right;\n",
       "    }\n",
       "</style>\n",
       "<table border=\"1\" class=\"dataframe\">\n",
       "  <thead>\n",
       "    <tr style=\"text-align: right;\">\n",
       "      <th>plan_id</th>\n",
       "      <th>0</th>\n",
       "      <th>1</th>\n",
       "    </tr>\n",
       "  </thead>\n",
       "  <tbody>\n",
       "    <tr>\n",
       "      <th>calls_duration</th>\n",
       "      <td>402.793548</td>\n",
       "      <td>406.538462</td>\n",
       "    </tr>\n",
       "    <tr>\n",
       "      <th>messages</th>\n",
       "      <td>30.419355</td>\n",
       "      <td>35.391608</td>\n",
       "    </tr>\n",
       "    <tr>\n",
       "      <th>gb_used</th>\n",
       "      <td>15.593548</td>\n",
       "      <td>15.482517</td>\n",
       "    </tr>\n",
       "  </tbody>\n",
       "</table>\n",
       "</div>"
      ],
      "text/plain": [
       "plan_id                  0           1\n",
       "calls_duration  402.793548  406.538462\n",
       "messages         30.419355   35.391608\n",
       "gb_used          15.593548   15.482517"
      ]
     },
     "execution_count": 74,
     "metadata": {},
     "output_type": "execute_result"
    }
   ],
   "source": [
    "avg_monthly_usage_filtered.groupby('plan_id').mean().T"
   ]
  },
  {
   "cell_type": "code",
   "execution_count": 75,
   "id": "e7dc4766",
   "metadata": {
    "scrolled": false
   },
   "outputs": [
    {
     "name": "stdout",
     "output_type": "stream",
     "text": [
      "calls_duration outliers: 1 (0.22%)\n",
      "lower extreme: 0  upper extreme: 886.5\n",
      "plan_id  user_id\n",
      "0        1326       889\n",
      "Name: calls_duration, dtype: int64 \n",
      "\n",
      "messages outliers: 1 (0.22%)\n",
      "lower extreme: 0  upper extreme: 114.0\n",
      "plan_id  user_id\n",
      "1        1435       118\n",
      "Name: messages, dtype: int64 \n",
      "\n",
      "gb_used outliers: 5 (1.10%)\n",
      "lower extreme: 4.0  upper extreme: 28.0\n",
      "plan_id  user_id\n",
      "0        1194       29\n",
      "         1201       29\n",
      "         1215       29\n",
      "         1259        3\n",
      "         1293       29\n",
      "Name: gb_used, dtype: int64 \n",
      "\n"
     ]
    }
   ],
   "source": [
    "detect_outliers(avg_monthly_usage_filtered)"
   ]
  },
  {
   "cell_type": "markdown",
   "id": "f1864910",
   "metadata": {},
   "source": [
    "Since outliers were already removed, the underlying series has changed,  \n",
    "and now the outlier detection mechanism detects new outliers.  \n",
    "This mechanism is not perfect, and the new outliers will not be removed,  \n",
    "as they are relatively close to the extremes."
   ]
  },
  {
   "cell_type": "markdown",
   "id": "11bca615",
   "metadata": {},
   "source": [
    "<div class=\"alert alert-success\" role=\"alert\">\n",
    "Reviewer's comment v. 2:\n",
    "    \n",
    "Yes, we shouldn't remove these new outliers.\n",
    "</div>"
   ]
  },
  {
   "cell_type": "markdown",
   "id": "be224f12",
   "metadata": {},
   "source": [
    "### Revenue plot"
   ]
  },
  {
   "cell_type": "code",
   "execution_count": 76,
   "id": "0d0e08d1",
   "metadata": {},
   "outputs": [
    {
     "data": {
      "text/plain": [
       "plan_id  user_id\n",
       "0        1001        50\n",
       "         1002        33\n",
       "         1003       158\n",
       "         1004        76\n",
       "         1005        40\n",
       "                   ... \n",
       "1        1482        70\n",
       "         1487        70\n",
       "         1490       114\n",
       "         1493        70\n",
       "         1497        70\n",
       "Name: total, Length: 490, dtype: int64"
      ]
     },
     "execution_count": 76,
     "metadata": {},
     "output_type": "execute_result"
    }
   ],
   "source": [
    "avg_monthly_rev = (\n",
    "    add_plan_id(revenue_df.reset_index())\n",
    "     .groupby(['plan_id', 'user_id'])\n",
    "     ['total']\n",
    "     .mean()\n",
    "     .astype('int')\n",
    "     .groupby('plan_id'))\n",
    "avg_monthly_rev.obj"
   ]
  },
  {
   "cell_type": "code",
   "execution_count": 77,
   "id": "fa5404d9",
   "metadata": {},
   "outputs": [
    {
     "data": {
      "image/png": "[encoded data removed]",
      "text/plain": [
       "<Figure size 432x288 with 1 Axes>"
      ]
     },
     "metadata": {
      "needs_background": "light"
     },
     "output_type": "display_data"
    }
   ],
   "source": [
    "plt.boxplot([avg_monthly_rev.obj[0], avg_monthly_rev.obj[1]], vert=False)\n",
    "plt.yticks([1,2], plans_df['plan_name'])\n",
    "plt.title('Average monthly user revenue')\n",
    "plt.text(230, 2.4,\n",
    "         f\"{plans_df['plan_name'][1]} mean: {avg_monthly_rev.mean()[1]:.1f}\\n\"\\\n",
    "         f\"{plans_df['plan_name'][0]} mean: {avg_monthly_rev.mean()[0]:.1f}\",\n",
    "         verticalalignment='top',\n",
    "         bbox={'boxstyle': 'round', 'facecolor': 'white', 'alpha': 0.5})\n",
    "plt.show();"
   ]
  },
  {
   "cell_type": "markdown",
   "id": "923d7db0",
   "metadata": {},
   "source": [
    "The dispersion of Ultimate is much smaller than that of Surf,  \n",
    "There are many more Surf users of varying avg. monthly revenue,  \n",
    "while Ultimate users are more condensed around the median (~70).  \n",
    "There are many upper extreme outliers (users with unusually high revenue) on both plans.\n",
    "\n",
    "Ultimate's mean and median are greater than Surf's,  \n",
    "which means that 'Ultimate' plan users are bringing in more revenue on average."
   ]
  },
  {
   "cell_type": "markdown",
   "id": "14e88fc2",
   "metadata": {},
   "source": [
    "<div class=\"alert alert-danger\" role=\"alert\">\n",
    "Reviewer's comment v. 1:\n",
    "    \n",
    "Could you please add a conclusion for each part of the project?\n",
    "</div>"
   ]
  },
  {
   "cell_type": "markdown",
   "id": "30bc1755",
   "metadata": {},
   "source": [
    "<a class=\"anchor\" id=\"4_analysis-conclusions\"></a>\n",
    "### Conclusions\n",
    "[back to Analysis](#4_analysis)\n",
    "\n",
    "Outliers have been detected for calls, messages and internet usage, and removed.  \n",
    "The distributions have been identified for each column, compared between 'Surf' and 'Ultimate' users,  \n",
    "the overall the average usage patterns look similar,  \n",
    "but the Ultimate plan generates more revenue on average."
   ]
  },
  {
   "cell_type": "markdown",
   "id": "0ecf3275",
   "metadata": {},
   "source": [
    "<div class=\"alert alert-success\" role=\"alert\">\n",
    "Reviewer's comment v. 2:\n",
    "    \n",
    "Well done that you clearly described main results of this part of the project.\n",
    "</div>"
   ]
  },
  {
   "cell_type": "markdown",
   "id": "8b293961",
   "metadata": {},
   "source": [
    "<a class=\"anchor\" id=\"5_hypotheses\"></a>\n",
    "## Testing Hypotheses\n",
    "***\n",
    "[back to Table of Contents](#0_toc)\n",
    "<br />[Conclusions](#5_hypotheses-conclusions)\n",
    "\n",
    "\n",
    "There are 2 hypotheses to test:\n",
    "1. [The average revenue from users of Ultimate and Surf calling plans differs.](#5_1-plans_hypothesis)\n",
    "2. [The average revenue from users in NY-NJ area is different from that of the users from other regions.](#5_2-ny_nj_hypothesis)\n",
    "\n",
    "When testing for difference between populations, null hypothesis should be their equality, and the alternative should be that they differ.  \n",
    "\n",
    "Setting the threshold for statistical significance to be .05,  \n",
    "and testing using Student's t-test:  \n",
    "\n",
    "a significance level of .05 signifies a 5% risk of deciding that an effect exists when it does not exist.  \n",
    "\\- https://statisticsbyjim.com/hypothesis-testing/hypothesis-tests-significance-levels-alpha-p-values/"
   ]
  },
  {
   "cell_type": "code",
   "execution_count": 78,
   "id": "15aabfce",
   "metadata": {},
   "outputs": [],
   "source": [
    "def test_hypothesis(df, equal_var=True, alpha=.05):\n",
    "    \"\"\"\"\"\"\n",
    "    \n",
    "    groups = [v for k,v in list(df)]\n",
    "    \n",
    "    results = st.ttest_ind(groups[0], groups[1], equal_var=equal_var)\n",
    "    print(f'p-value: {results.pvalue}\\nis p-value < alpha ?\\n\\t{results.pvalue < alpha}')\n",
    "\n",
    "    if results.pvalue < alpha:\n",
    "        print(\"We reject the null hypothesis\")\n",
    "    else:\n",
    "        print(\"We can't reject the null hypothesis\")"
   ]
  },
  {
   "cell_type": "markdown",
   "id": "10c695f4",
   "metadata": {},
   "source": [
    "<a class=\"anchor\" id=\"5_1-plans_hypothesis\"></a>\n",
    "### 'Surf' / 'Ultimate' Plans hypothesis\n",
    "[back to Hypotheses](#5_hypotheses)\n",
    "\n",
    "null hypothesis: The average revenue from users of Ultimate and Surf calling plans is equal.  \n",
    "alternative hypothesis: The average revenue from users of Ultimate and Surf calling plans differs."
   ]
  },
  {
   "cell_type": "markdown",
   "id": "8f6f4efb",
   "metadata": {},
   "source": [
    "<div class=\"alert alert-success\" role=\"alert\">\n",
    "Reviewer's comment v. 1:\n",
    "    \n",
    "Good job that you formulated the null and alternative hypotheses explicitly.\n",
    "</div>"
   ]
  },
  {
   "cell_type": "code",
   "execution_count": 79,
   "id": "f0ffbe0c",
   "metadata": {},
   "outputs": [
    {
     "data": {
      "text/plain": [
       "plan_id\n",
       "0    1888.636384\n",
       "1      53.863930\n",
       "Name: total, dtype: float64"
      ]
     },
     "execution_count": 79,
     "metadata": {},
     "output_type": "execute_result"
    }
   ],
   "source": [
    "avg_monthly_rev.apply(lambda x:np.var(x))"
   ]
  },
  {
   "cell_type": "markdown",
   "id": "cfed40b0",
   "metadata": {},
   "source": [
    "the variance differes greatly,  \n",
    "threshold for statistical significance will be set at .05"
   ]
  },
  {
   "cell_type": "code",
   "execution_count": 80,
   "id": "6bcff5ed",
   "metadata": {},
   "outputs": [
    {
     "name": "stdout",
     "output_type": "stream",
     "text": [
      "p-value: 2.7489012368011817e-08\n",
      "is p-value < alpha ?\n",
      "\tTrue\n",
      "We reject the null hypothesis\n"
     ]
    }
   ],
   "source": [
    "test_hypothesis(avg_monthly_rev, equal_var=False, alpha=.05)"
   ]
  },
  {
   "cell_type": "markdown",
   "id": "5bc3e0ac",
   "metadata": {},
   "source": [
    "Resulting p-value is less than the .05 threshold  \n",
    "\\- which means result is statistically significant,  \n",
    "and therefore reject the null hypothesis and accept the alternative hypothesis."
   ]
  },
  {
   "cell_type": "markdown",
   "id": "f6fbd42a",
   "metadata": {},
   "source": [
    "the _accepted hypothesis_ is:  \n",
    "alernative hypothesis - \"The average revenue from users of Ultimate and Surf calling plans differs\"."
   ]
  },
  {
   "cell_type": "markdown",
   "id": "6c2e9e58",
   "metadata": {},
   "source": [
    "<div class=\"alert alert-success\" role=\"alert\">\n",
    "Reviewer's comment v. 1:\n",
    "    \n",
    "Yes, you right. We have a statistically significant differences in the average revenue from users of Ultimate and Surf plans.\n",
    "</div>"
   ]
  },
  {
   "cell_type": "markdown",
   "id": "1c1314e9",
   "metadata": {},
   "source": [
    "<a class=\"anchor\" id=\"5_2-ny_nj_hypothesis\"></a>\n",
    "### NY-NJ hypothesis\n",
    "[back to Hypotheses](#5_hypotheses)\n",
    "\n",
    "null hypothesis: The average revenue from users in NY-NJ area is equal to that of the users from other regions.  \n",
    "alternative hypothesis: The average revenue from users in NY-NJ area is different from that of the users from other regions."
   ]
  },
  {
   "cell_type": "markdown",
   "id": "423e7ade",
   "metadata": {},
   "source": [
    "<div class=\"alert alert-success\" role=\"alert\">\n",
    "Reviewer's comment v. 1:\n",
    "    \n",
    "Hypotheses formulation is correct :)\n",
    "</div>"
   ]
  },
  {
   "cell_type": "code",
   "execution_count": 81,
   "id": "5539101b",
   "metadata": {},
   "outputs": [
    {
     "data": {
      "text/html": [
       "<div>\n",
       "<style scoped>\n",
       "    .dataframe tbody tr th:only-of-type {\n",
       "        vertical-align: middle;\n",
       "    }\n",
       "\n",
       "    .dataframe tbody tr th {\n",
       "        vertical-align: top;\n",
       "    }\n",
       "\n",
       "    .dataframe thead th {\n",
       "        text-align: right;\n",
       "    }\n",
       "</style>\n",
       "<table border=\"1\" class=\"dataframe\">\n",
       "  <thead>\n",
       "    <tr style=\"text-align: right;\">\n",
       "      <th></th>\n",
       "      <th>user_id</th>\n",
       "      <th>calls</th>\n",
       "      <th>messages</th>\n",
       "      <th>internet</th>\n",
       "      <th>plan_price</th>\n",
       "      <th>total</th>\n",
       "      <th>city</th>\n",
       "    </tr>\n",
       "  </thead>\n",
       "  <tbody>\n",
       "    <tr>\n",
       "      <th>0</th>\n",
       "      <td>1000</td>\n",
       "      <td>0.0</td>\n",
       "      <td>0.000</td>\n",
       "      <td>0.0</td>\n",
       "      <td>70.0</td>\n",
       "      <td>70.000</td>\n",
       "      <td>Atlanta-Sandy Springs-Roswell, GA MSA</td>\n",
       "    </tr>\n",
       "    <tr>\n",
       "      <th>1</th>\n",
       "      <td>1001</td>\n",
       "      <td>0.0</td>\n",
       "      <td>0.018</td>\n",
       "      <td>30.0</td>\n",
       "      <td>20.0</td>\n",
       "      <td>50.018</td>\n",
       "      <td>Seattle-Tacoma-Bellevue, WA MSA</td>\n",
       "    </tr>\n",
       "  </tbody>\n",
       "</table>\n",
       "</div>"
      ],
      "text/plain": [
       "   user_id  calls  messages  internet  plan_price   total  \\\n",
       "0     1000    0.0     0.000       0.0        70.0  70.000   \n",
       "1     1001    0.0     0.018      30.0        20.0  50.018   \n",
       "\n",
       "                                    city  \n",
       "0  Atlanta-Sandy Springs-Roswell, GA MSA  \n",
       "1        Seattle-Tacoma-Bellevue, WA MSA  "
      ]
     },
     "execution_count": 81,
     "metadata": {},
     "output_type": "execute_result"
    }
   ],
   "source": [
    "cities_avg_monthly_revenue = (revenue_df.groupby('user_id').mean()\n",
    "                  .merge(users_df[['user_id', 'city']], on='user_id'))\n",
    "cities_avg_monthly_revenue.head(2)"
   ]
  },
  {
   "cell_type": "code",
   "execution_count": 82,
   "id": "3172344f",
   "metadata": {},
   "outputs": [
    {
     "data": {
      "text/plain": [
       "msa    user_id\n",
       "NY-NJ  1014       29.420000\n",
       "       1022       56.125000\n",
       "       1024       21.920000\n",
       "       1027       33.333333\n",
       "       1031       70.000000\n",
       "                    ...    \n",
       "Other  1492       25.000000\n",
       "       1493       70.000000\n",
       "       1496       28.000000\n",
       "       1497       70.000000\n",
       "       1499       55.000000\n",
       "Name: total, Length: 490, dtype: float64"
      ]
     },
     "execution_count": 82,
     "metadata": {},
     "output_type": "execute_result"
    }
   ],
   "source": [
    "avg_monthly_rev_by_msa = (cities_avg_monthly_revenue\n",
    "                          .groupby([\n",
    "                              pd.Series(\n",
    "                                  np.where(\n",
    "                                      cities_avg_monthly_revenue['city'].str.endswith('NY-NJ-PA MSA'),\n",
    "                                      'NY-NJ',\n",
    "                                      'Other'),\n",
    "                                  name='msa'),\n",
    "                              'user_id'])\n",
    "                          ['total']\n",
    "                          .mean()\n",
    "                          .groupby('msa'))\n",
    "avg_monthly_rev_by_msa.obj"
   ]
  },
  {
   "cell_type": "code",
   "execution_count": 83,
   "id": "5d6d7598",
   "metadata": {
    "scrolled": true
   },
   "outputs": [
    {
     "data": {
      "text/plain": [
       "msa\n",
       "NY-NJ    1058.478488\n",
       "Other    1397.160725\n",
       "Name: total, dtype: float64"
      ]
     },
     "execution_count": 83,
     "metadata": {},
     "output_type": "execute_result"
    }
   ],
   "source": [
    "avg_monthly_rev_by_msa.apply(lambda x:np.var(x))"
   ]
  },
  {
   "cell_type": "markdown",
   "id": "72a08db2",
   "metadata": {},
   "source": [
    "The variance appears to be similar,  \n",
    "threshold for statistical significance will be set at .05"
   ]
  },
  {
   "cell_type": "code",
   "execution_count": 84,
   "id": "c48fc4ce",
   "metadata": {},
   "outputs": [
    {
     "name": "stdout",
     "output_type": "stream",
     "text": [
      "p-value: 0.48043818838129104\n",
      "is p-value < alpha ?\n",
      "\tFalse\n",
      "We can't reject the null hypothesis\n"
     ]
    }
   ],
   "source": [
    "test_hypothesis(avg_monthly_rev_by_msa, equal_var=True, alpha=.05)"
   ]
  },
  {
   "cell_type": "markdown",
   "id": "1589ada7",
   "metadata": {},
   "source": [
    "Resulting p-value is above the .05 threshold,   \n",
    "\\- meaning the result is not statistically significant  \n",
    "fail to reject the null hypothesis."
   ]
  },
  {
   "cell_type": "markdown",
   "id": "58b1c4ac",
   "metadata": {},
   "source": [
    "The _accepted hypothesis_ is:  \n",
    "null hypothesis - \"The average revenue from users in NY-NJ area is equal to that of the users from other regions\"."
   ]
  },
  {
   "cell_type": "markdown",
   "id": "72f66ec5",
   "metadata": {},
   "source": [
    "<div class=\"alert alert-success\" role=\"alert\">\n",
    "Reviewer's comment v. 1:\n",
    "    \n",
    "You are right, there is no a statistically significant differences in the average revenue from users in NY-NJ area and users from other regions. I suppose that the differences can be due to different data preparation.\n",
    "</div>"
   ]
  },
  {
   "cell_type": "markdown",
   "id": "477454b0",
   "metadata": {},
   "source": [
    "<a class=\"anchor\" id=\"5_hypotheses-conclusions\"></a>\n",
    "### Conclusions\n",
    "[back to Testing Hypotheses](#5_hypotheses)\n",
    "\n",
    "Found out that the average revenue differs between the different plans,  \n",
    "and that there are no exceptional differences between the average revenue of various areas of residence (tested for NY-NY area vs. the general population)."
   ]
  },
  {
   "cell_type": "markdown",
   "id": "ba555509",
   "metadata": {},
   "source": [
    "<a class=\"anchor\" id=\"6_conclusions\"></a>\n",
    "## Overall Conclusions\n",
    "***\n",
    "[back to Table of Contents](#0_toc)"
   ]
  },
  {
   "cell_type": "markdown",
   "id": "145fd1b5",
   "metadata": {},
   "source": [
    "By doing statistical hypothesis testing, the following conclusions are made:\n",
    "1. Revenue generated from 'Surf' plan customers is different to 'Ultimate' plan customers\n",
    "2. The user's area of residence has little to no effect on revenue"
   ]
  },
  {
   "cell_type": "markdown",
   "id": "75db82a8",
   "metadata": {},
   "source": [
    "By analysing the data, it is evident that there are more 'Surf' customers and the total revenue is higher compared to 'Ultimate' total revenue,  \n",
    "'Surf' plan customers are using 2 times more data than 'Ultimate' plan customers,  \n",
    "and are almost always exceeding their monthly plan limits (via calls, messages and internet traffic).  \n",
    "\n",
    "Despite all that, the revenue plot shows that 'Ultimate' plan customers bring in more revenue on average.\n",
    "\n",
    "In the short-term, since the are more 'Surf' customers, increasing their usage patterns might bring in more revenue,  \n",
    "but in the long-term, attracting more 'Ultimate' customers or converting existing 'Surf' customers to the 'Ultimate' plan will be more profitable."
   ]
  },
  {
   "cell_type": "markdown",
   "id": "6b61469f",
   "metadata": {},
   "source": [
    "To conclude, 'Ultimate' plan seems to be the more profitable avenue worth pursuing."
   ]
  },
  {
   "cell_type": "markdown",
   "id": "035d2d7c",
   "metadata": {},
   "source": [
    "<div class=\"alert alert-success\" role=\"alert\">\n",
    "Reviewer's comment v. 1:\n",
    "    \n",
    "Definitely, for the operator, the Smart tariff will be more profitable, while maintaining the current limits on the subscription fee.\n",
    "</div>"
   ]
  },
  {
   "cell_type": "markdown",
   "id": "fd3724a4",
   "metadata": {},
   "source": [
    "<div class=\"alert alert-warning\" role=\"alert\">\n",
    "Reviewer's comment v. 1:\n",
    "    \n",
    "It will be better to describe all main results of the project (data preparation, anomalies, main findings and so on).\n",
    "    \n",
    "The conclusion is intended to help the reader understand why your research should matter to them after they have finished reading the paper. A conclusion is not merely a summary of your points or a re-statement of your research problem but a synthesis of key points. \n",
    "</div>"
   ]
  },
  {
   "cell_type": "markdown",
   "id": "0e035643",
   "metadata": {},
   "source": [
    "<div class=\"alert alert-info\"><b>Student comment:</b> <br />\n",
    "Could you please give me a few examples of what such a synthesis might look like? <br />\n",
    "Doesn't have to be too elaborated, just a few key points specific to these findings. <br /><br /> Thank you :)\n",
    "</div>"
   ]
  },
  {
   "cell_type": "markdown",
   "id": "0039b26b",
   "metadata": {},
   "source": [
    "<div class=\"alert alert-success\" role=\"alert\">\n",
    "Reviewer's comment v. 2:\n",
    "    \n",
    "Please see the following links: https://www.indeed.com/career-advice/career-development/how-to-write-a-conclusion, https://www.time4writing.com/writing-resources/writing-a-good-conclusion-paragraph/, https://www.javatpoint.com/how-to-write-a-conclusion-for-a-project\n",
    "</div>"
   ]
  },
  {
   "cell_type": "code",
   "execution_count": null,
   "id": "7423baf8",
   "metadata": {},
   "outputs": [],
   "source": []
  }
 ],
 "metadata": {
  "ExecuteTimeLog": [
   {
    "duration": 10352,
    "start_time": "2021-06-30T21:19:45.851Z"
   },
   {
    "duration": 1281,
    "start_time": "2021-06-30T21:19:56.206Z"
   },
   {
    "duration": 4,
    "start_time": "2021-06-30T21:19:57.490Z"
   },
   {
    "duration": 10,
    "start_time": "2021-06-30T21:19:57.497Z"
   },
   {
    "duration": 9,
    "start_time": "2021-06-30T21:19:57.509Z"
   },
   {
    "duration": 22041,
    "start_time": "2021-06-30T21:19:57.520Z"
   },
   {
    "duration": 6,
    "start_time": "2021-06-30T21:20:19.565Z"
   },
   {
    "duration": 35,
    "start_time": "2021-06-30T21:20:19.574Z"
   },
   {
    "duration": 8,
    "start_time": "2021-06-30T21:20:19.612Z"
   },
   {
    "duration": 16,
    "start_time": "2021-06-30T21:20:19.623Z"
   },
   {
    "duration": 236,
    "start_time": "2021-06-30T21:20:19.642Z"
   },
   {
    "duration": 6,
    "start_time": "2021-06-30T21:20:19.880Z"
   },
   {
    "duration": 10,
    "start_time": "2021-06-30T21:20:19.888Z"
   },
   {
    "duration": 161,
    "start_time": "2021-06-30T21:20:19.900Z"
   },
   {
    "duration": 24,
    "start_time": "2021-06-30T21:20:20.064Z"
   },
   {
    "duration": 20,
    "start_time": "2021-06-30T21:20:20.090Z"
   },
   {
    "duration": 369,
    "start_time": "2021-06-30T21:20:20.113Z"
   },
   {
    "duration": 33,
    "start_time": "2021-06-30T21:20:20.485Z"
   },
   {
    "duration": 6,
    "start_time": "2021-06-30T21:20:20.520Z"
   },
   {
    "duration": 18,
    "start_time": "2021-06-30T21:20:20.528Z"
   },
   {
    "duration": 48,
    "start_time": "2021-06-30T21:20:20.549Z"
   },
   {
    "duration": 275,
    "start_time": "2021-06-30T21:20:20.600Z"
   },
   {
    "duration": 19,
    "start_time": "2021-06-30T21:20:20.881Z"
   },
   {
    "duration": 344,
    "start_time": "2021-06-30T21:20:20.904Z"
   },
   {
    "duration": 45,
    "start_time": "2021-06-30T21:20:21.251Z"
   },
   {
    "duration": 10,
    "start_time": "2021-06-30T21:20:21.299Z"
   },
   {
    "duration": 15,
    "start_time": "2021-06-30T21:20:21.312Z"
   },
   {
    "duration": 76,
    "start_time": "2021-06-30T21:20:21.329Z"
   },
   {
    "duration": 18,
    "start_time": "2021-06-30T21:20:21.408Z"
   },
   {
    "duration": 87,
    "start_time": "2021-06-30T21:20:21.428Z"
   },
   {
    "duration": 14,
    "start_time": "2021-06-30T21:20:21.518Z"
   },
   {
    "duration": 54,
    "start_time": "2021-06-30T21:20:21.534Z"
   },
   {
    "duration": 16,
    "start_time": "2021-06-30T21:20:21.590Z"
   },
   {
    "duration": 29,
    "start_time": "2021-06-30T21:20:21.608Z"
   },
   {
    "duration": 4,
    "start_time": "2021-06-30T21:20:21.639Z"
   },
   {
    "duration": 38,
    "start_time": "2021-06-30T21:20:21.645Z"
   },
   {
    "duration": 7,
    "start_time": "2021-06-30T21:20:21.686Z"
   },
   {
    "duration": 50,
    "start_time": "2021-06-30T21:20:21.695Z"
   },
   {
    "duration": 8,
    "start_time": "2021-06-30T21:20:21.747Z"
   },
   {
    "duration": 28,
    "start_time": "2021-06-30T21:20:21.757Z"
   },
   {
    "duration": 11763,
    "start_time": "2021-06-30T21:20:21.788Z"
   },
   {
    "duration": 10,
    "start_time": "2021-06-30T21:20:33.554Z"
   },
   {
    "duration": 818,
    "start_time": "2021-06-30T21:20:33.566Z"
   },
   {
    "duration": 7,
    "start_time": "2021-06-30T21:20:34.387Z"
   },
   {
    "duration": 18,
    "start_time": "2021-06-30T21:20:34.396Z"
   },
   {
    "duration": 687,
    "start_time": "2021-06-30T21:20:34.417Z"
   },
   {
    "duration": 21,
    "start_time": "2021-06-30T21:20:35.107Z"
   },
   {
    "duration": 54,
    "start_time": "2021-06-30T21:20:35.131Z"
   },
   {
    "duration": 21,
    "start_time": "2021-06-30T21:20:35.188Z"
   },
   {
    "duration": 6348,
    "start_time": "2021-06-30T21:20:35.211Z"
   },
   {
    "duration": 771,
    "start_time": "2021-06-30T21:20:41.561Z"
   },
   {
    "duration": 14,
    "start_time": "2021-06-30T21:20:42.334Z"
   },
   {
    "duration": 35,
    "start_time": "2021-06-30T21:20:42.350Z"
   },
   {
    "duration": 732,
    "start_time": "2021-06-30T21:20:42.388Z"
   },
   {
    "duration": 5,
    "start_time": "2021-06-30T21:20:43.122Z"
   },
   {
    "duration": 824,
    "start_time": "2021-06-30T21:20:43.130Z"
   },
   {
    "duration": 6,
    "start_time": "2021-06-30T21:20:43.956Z"
   },
   {
    "duration": 32,
    "start_time": "2021-06-30T21:20:43.965Z"
   },
   {
    "duration": 5,
    "start_time": "2021-06-30T21:20:44.000Z"
   },
   {
    "duration": 27,
    "start_time": "2021-06-30T21:20:44.008Z"
   },
   {
    "duration": 64,
    "start_time": "2021-06-30T21:20:44.037Z"
   },
   {
    "duration": 10,
    "start_time": "2021-06-30T21:20:44.104Z"
   },
   {
    "duration": 22,
    "start_time": "2021-06-30T21:20:44.117Z"
   },
   {
    "duration": 41,
    "start_time": "2021-06-30T21:20:44.142Z"
   },
   {
    "duration": 6,
    "start_time": "2021-06-30T21:20:44.185Z"
   },
   {
    "duration": 1412,
    "start_time": "2021-06-30T21:20:44.194Z"
   },
   {
    "duration": 977,
    "start_time": "2021-06-30T21:20:45.608Z"
   },
   {
    "duration": 13,
    "start_time": "2021-06-30T21:20:46.594Z"
   },
   {
    "duration": 729,
    "start_time": "2021-06-30T21:20:46.610Z"
   },
   {
    "duration": 249,
    "start_time": "2021-06-30T21:20:47.342Z"
   },
   {
    "duration": 6,
    "start_time": "2021-06-30T21:20:47.593Z"
   },
   {
    "duration": 16,
    "start_time": "2021-06-30T21:20:47.601Z"
   },
   {
    "duration": 7,
    "start_time": "2021-06-30T21:20:47.620Z"
   },
   {
    "duration": 60,
    "start_time": "2021-06-30T21:20:47.630Z"
   },
   {
    "duration": 19,
    "start_time": "2021-06-30T21:20:47.693Z"
   },
   {
    "duration": 12,
    "start_time": "2021-06-30T21:20:47.714Z"
   },
   {
    "duration": 8,
    "start_time": "2021-06-30T21:20:47.728Z"
   },
   {
    "duration": 10028,
    "start_time": "2021-07-01T13:24:30.750Z"
   },
   {
    "duration": 1376,
    "start_time": "2021-07-01T13:24:40.781Z"
   },
   {
    "duration": 3,
    "start_time": "2021-07-01T13:24:42.160Z"
   },
   {
    "duration": 11,
    "start_time": "2021-07-01T13:24:42.165Z"
   },
   {
    "duration": 8,
    "start_time": "2021-07-01T13:24:42.179Z"
   },
   {
    "duration": 22222,
    "start_time": "2021-07-01T13:24:42.189Z"
   },
   {
    "duration": 7,
    "start_time": "2021-07-01T13:25:04.414Z"
   },
   {
    "duration": 34,
    "start_time": "2021-07-01T13:25:04.425Z"
   },
   {
    "duration": 9,
    "start_time": "2021-07-01T13:25:04.462Z"
   },
   {
    "duration": 19,
    "start_time": "2021-07-01T13:25:04.474Z"
   },
   {
    "duration": 270,
    "start_time": "2021-07-01T13:25:04.496Z"
   },
   {
    "duration": 7,
    "start_time": "2021-07-01T13:25:04.769Z"
   },
   {
    "duration": 583,
    "start_time": "2021-07-01T13:25:04.780Z"
   },
   {
    "duration": 565,
    "start_time": "2021-07-01T13:25:05.366Z"
   },
   {
    "duration": 188,
    "start_time": "2021-07-01T13:25:05.933Z"
   },
   {
    "duration": 479,
    "start_time": "2021-07-01T13:25:06.124Z"
   },
   {
    "duration": 406,
    "start_time": "2021-07-01T13:25:06.606Z"
   },
   {
    "duration": 58,
    "start_time": "2021-07-01T13:25:07.015Z"
   },
   {
    "duration": 6,
    "start_time": "2021-07-01T13:25:07.075Z"
   },
   {
    "duration": 20,
    "start_time": "2021-07-01T13:25:07.084Z"
   },
   {
    "duration": 23,
    "start_time": "2021-07-01T13:25:07.107Z"
   },
   {
    "duration": 267,
    "start_time": "2021-07-01T13:25:07.133Z"
   },
   {
    "duration": 19,
    "start_time": "2021-07-01T13:25:07.406Z"
   },
   {
    "duration": 515,
    "start_time": "2021-07-01T13:25:07.428Z"
   },
   {
    "duration": 24,
    "start_time": "2021-07-01T13:25:07.946Z"
   },
   {
    "duration": 11,
    "start_time": "2021-07-01T13:25:07.973Z"
   },
   {
    "duration": 15,
    "start_time": "2021-07-01T13:25:07.986Z"
   },
   {
    "duration": 88,
    "start_time": "2021-07-01T13:25:08.004Z"
   },
   {
    "duration": 21,
    "start_time": "2021-07-01T13:25:08.094Z"
   },
   {
    "duration": 86,
    "start_time": "2021-07-01T13:25:08.117Z"
   },
   {
    "duration": 14,
    "start_time": "2021-07-01T13:25:08.206Z"
   },
   {
    "duration": 53,
    "start_time": "2021-07-01T13:25:08.223Z"
   },
   {
    "duration": 16,
    "start_time": "2021-07-01T13:25:08.279Z"
   },
   {
    "duration": 37,
    "start_time": "2021-07-01T13:25:08.298Z"
   },
   {
    "duration": 4,
    "start_time": "2021-07-01T13:25:08.354Z"
   },
   {
    "duration": 21,
    "start_time": "2021-07-01T13:25:08.360Z"
   },
   {
    "duration": 30,
    "start_time": "2021-07-01T13:25:08.383Z"
   },
   {
    "duration": 70,
    "start_time": "2021-07-01T13:25:08.415Z"
   },
   {
    "duration": 8,
    "start_time": "2021-07-01T13:25:08.487Z"
   },
   {
    "duration": 23,
    "start_time": "2021-07-01T13:25:08.497Z"
   },
   {
    "duration": 12319,
    "start_time": "2021-07-01T13:25:08.523Z"
   },
   {
    "duration": 14,
    "start_time": "2021-07-01T13:25:20.844Z"
   },
   {
    "duration": 776,
    "start_time": "2021-07-01T13:25:20.860Z"
   },
   {
    "duration": 6,
    "start_time": "2021-07-01T13:25:21.638Z"
   },
   {
    "duration": 6,
    "start_time": "2021-07-01T13:25:21.655Z"
   },
   {
    "duration": 692,
    "start_time": "2021-07-01T13:25:21.663Z"
   },
   {
    "duration": 21,
    "start_time": "2021-07-01T13:25:22.358Z"
   },
   {
    "duration": 40,
    "start_time": "2021-07-01T13:25:22.382Z"
   },
   {
    "duration": 48,
    "start_time": "2021-07-01T13:25:22.424Z"
   },
   {
    "duration": 6504,
    "start_time": "2021-07-01T13:25:22.474Z"
   },
   {
    "duration": 751,
    "start_time": "2021-07-01T13:25:28.981Z"
   },
   {
    "duration": 24,
    "start_time": "2021-07-01T13:25:29.735Z"
   },
   {
    "duration": 29,
    "start_time": "2021-07-01T13:25:29.762Z"
   },
   {
    "duration": 679,
    "start_time": "2021-07-01T13:25:29.793Z"
   },
   {
    "duration": 6,
    "start_time": "2021-07-01T13:25:30.474Z"
   },
   {
    "duration": 831,
    "start_time": "2021-07-01T13:25:30.482Z"
   },
   {
    "duration": 5,
    "start_time": "2021-07-01T13:25:31.315Z"
   },
   {
    "duration": 36,
    "start_time": "2021-07-01T13:25:31.323Z"
   },
   {
    "duration": 8,
    "start_time": "2021-07-01T13:25:31.361Z"
   },
   {
    "duration": 37,
    "start_time": "2021-07-01T13:25:31.371Z"
   },
   {
    "duration": 26,
    "start_time": "2021-07-01T13:25:31.410Z"
   },
   {
    "duration": 12,
    "start_time": "2021-07-01T13:25:31.454Z"
   },
   {
    "duration": 31,
    "start_time": "2021-07-01T13:25:31.469Z"
   },
   {
    "duration": 33,
    "start_time": "2021-07-01T13:25:31.503Z"
   },
   {
    "duration": 20,
    "start_time": "2021-07-01T13:25:31.538Z"
   },
   {
    "duration": 1296,
    "start_time": "2021-07-01T13:25:31.560Z"
   },
   {
    "duration": 892,
    "start_time": "2021-07-01T13:25:32.859Z"
   },
   {
    "duration": 14,
    "start_time": "2021-07-01T13:25:33.759Z"
   },
   {
    "duration": 705,
    "start_time": "2021-07-01T13:25:33.776Z"
   },
   {
    "duration": 319,
    "start_time": "2021-07-01T13:25:34.484Z"
   },
   {
    "duration": 5,
    "start_time": "2021-07-01T13:25:34.806Z"
   },
   {
    "duration": 21,
    "start_time": "2021-07-01T13:25:34.813Z"
   },
   {
    "duration": 24,
    "start_time": "2021-07-01T13:25:34.837Z"
   },
   {
    "duration": 25,
    "start_time": "2021-07-01T13:25:34.864Z"
   },
   {
    "duration": 18,
    "start_time": "2021-07-01T13:25:34.892Z"
   },
   {
    "duration": 50,
    "start_time": "2021-07-01T13:25:34.912Z"
   },
   {
    "duration": 17,
    "start_time": "2021-07-01T13:25:34.965Z"
   },
   {
    "duration": 3945,
    "start_time": "2021-07-01T14:42:01.447Z"
   },
   {
    "duration": 1235,
    "start_time": "2021-07-01T14:42:05.395Z"
   },
   {
    "duration": 3,
    "start_time": "2021-07-01T14:42:06.633Z"
   },
   {
    "duration": 18,
    "start_time": "2021-07-01T14:42:06.639Z"
   },
   {
    "duration": 13,
    "start_time": "2021-07-01T14:42:06.660Z"
   },
   {
    "duration": 22040,
    "start_time": "2021-07-01T14:42:06.675Z"
   },
   {
    "duration": 6,
    "start_time": "2021-07-01T14:42:28.718Z"
   },
   {
    "duration": 36,
    "start_time": "2021-07-01T14:42:28.728Z"
   },
   {
    "duration": 12,
    "start_time": "2021-07-01T14:42:28.767Z"
   },
   {
    "duration": 13,
    "start_time": "2021-07-01T14:42:28.782Z"
   },
   {
    "duration": 243,
    "start_time": "2021-07-01T14:42:28.798Z"
   },
   {
    "duration": 5,
    "start_time": "2021-07-01T14:42:29.044Z"
   },
   {
    "duration": 9,
    "start_time": "2021-07-01T14:42:29.052Z"
   },
   {
    "duration": 149,
    "start_time": "2021-07-01T14:42:29.063Z"
   },
   {
    "duration": 13,
    "start_time": "2021-07-01T14:42:29.214Z"
   },
   {
    "duration": 29,
    "start_time": "2021-07-01T14:42:29.229Z"
   },
   {
    "duration": 319,
    "start_time": "2021-07-01T14:42:29.260Z"
   },
   {
    "duration": 48,
    "start_time": "2021-07-01T14:42:29.583Z"
   },
   {
    "duration": 9,
    "start_time": "2021-07-01T14:42:29.656Z"
   },
   {
    "duration": 23,
    "start_time": "2021-07-01T14:42:29.668Z"
   },
   {
    "duration": 59,
    "start_time": "2021-07-01T14:42:29.695Z"
   },
   {
    "duration": 274,
    "start_time": "2021-07-01T14:42:29.758Z"
   },
   {
    "duration": 20,
    "start_time": "2021-07-01T14:42:30.038Z"
   },
   {
    "duration": 792,
    "start_time": "2021-07-01T14:42:30.062Z"
   },
   {
    "duration": 25,
    "start_time": "2021-07-01T14:42:30.856Z"
   },
   {
    "duration": 10,
    "start_time": "2021-07-01T14:42:30.884Z"
   },
   {
    "duration": 26,
    "start_time": "2021-07-01T14:42:30.896Z"
   },
   {
    "duration": 74,
    "start_time": "2021-07-01T14:42:30.925Z"
   },
   {
    "duration": 19,
    "start_time": "2021-07-01T14:42:31.001Z"
   },
   {
    "duration": 83,
    "start_time": "2021-07-01T14:42:31.023Z"
   },
   {
    "duration": 14,
    "start_time": "2021-07-01T14:42:31.109Z"
   },
   {
    "duration": 52,
    "start_time": "2021-07-01T14:42:31.126Z"
   },
   {
    "duration": 17,
    "start_time": "2021-07-01T14:42:31.181Z"
   },
   {
    "duration": 54,
    "start_time": "2021-07-01T14:42:31.201Z"
   },
   {
    "duration": 4,
    "start_time": "2021-07-01T14:42:31.257Z"
   },
   {
    "duration": 13,
    "start_time": "2021-07-01T14:42:31.264Z"
   },
   {
    "duration": 21,
    "start_time": "2021-07-01T14:42:31.280Z"
   },
   {
    "duration": 53,
    "start_time": "2021-07-01T14:42:31.304Z"
   },
   {
    "duration": 7,
    "start_time": "2021-07-01T14:42:31.360Z"
   },
   {
    "duration": 29,
    "start_time": "2021-07-01T14:42:31.370Z"
   },
   {
    "duration": 12363,
    "start_time": "2021-07-01T14:42:31.402Z"
   },
   {
    "duration": 10,
    "start_time": "2021-07-01T14:42:43.767Z"
   },
   {
    "duration": 759,
    "start_time": "2021-07-01T14:42:43.779Z"
   },
   {
    "duration": 15,
    "start_time": "2021-07-01T14:42:44.540Z"
   },
   {
    "duration": 6,
    "start_time": "2021-07-01T14:42:44.558Z"
   },
   {
    "duration": 674,
    "start_time": "2021-07-01T14:42:44.567Z"
   },
   {
    "duration": 29,
    "start_time": "2021-07-01T14:42:45.243Z"
   },
   {
    "duration": 34,
    "start_time": "2021-07-01T14:42:45.274Z"
   },
   {
    "duration": 49,
    "start_time": "2021-07-01T14:42:45.310Z"
   },
   {
    "duration": 6315,
    "start_time": "2021-07-01T14:42:45.362Z"
   },
   {
    "duration": 721,
    "start_time": "2021-07-01T14:42:51.680Z"
   },
   {
    "duration": 13,
    "start_time": "2021-07-01T14:42:52.403Z"
   },
   {
    "duration": 36,
    "start_time": "2021-07-01T14:42:52.419Z"
   },
   {
    "duration": 663,
    "start_time": "2021-07-01T14:42:52.458Z"
   },
   {
    "duration": 5,
    "start_time": "2021-07-01T14:42:53.123Z"
   },
   {
    "duration": 799,
    "start_time": "2021-07-01T14:42:53.130Z"
   },
   {
    "duration": 5,
    "start_time": "2021-07-01T14:42:53.932Z"
   },
   {
    "duration": 35,
    "start_time": "2021-07-01T14:42:53.939Z"
   },
   {
    "duration": 18,
    "start_time": "2021-07-01T14:42:53.977Z"
   },
   {
    "duration": 49,
    "start_time": "2021-07-01T14:42:53.997Z"
   },
   {
    "duration": 31,
    "start_time": "2021-07-01T14:42:54.049Z"
   },
   {
    "duration": 12,
    "start_time": "2021-07-01T14:42:54.083Z"
   },
   {
    "duration": 15,
    "start_time": "2021-07-01T14:42:54.097Z"
   },
   {
    "duration": 30,
    "start_time": "2021-07-01T14:42:54.114Z"
   },
   {
    "duration": 22,
    "start_time": "2021-07-01T14:42:54.146Z"
   },
   {
    "duration": 1337,
    "start_time": "2021-07-01T14:42:54.171Z"
   },
   {
    "duration": 925,
    "start_time": "2021-07-01T14:42:55.511Z"
   },
   {
    "duration": 20,
    "start_time": "2021-07-01T14:42:56.444Z"
   },
   {
    "duration": 721,
    "start_time": "2021-07-01T14:42:56.466Z"
   },
   {
    "duration": 252,
    "start_time": "2021-07-01T14:42:57.189Z"
   },
   {
    "duration": 13,
    "start_time": "2021-07-01T14:42:57.444Z"
   },
   {
    "duration": 16,
    "start_time": "2021-07-01T14:42:57.460Z"
   },
   {
    "duration": 20,
    "start_time": "2021-07-01T14:42:57.478Z"
   },
   {
    "duration": 33,
    "start_time": "2021-07-01T14:42:57.500Z"
   },
   {
    "duration": 34,
    "start_time": "2021-07-01T14:42:57.536Z"
   },
   {
    "duration": 9,
    "start_time": "2021-07-01T14:42:57.572Z"
   },
   {
    "duration": 11,
    "start_time": "2021-07-01T14:42:57.583Z"
   },
   {
    "duration": 87294,
    "start_time": "2021-07-02T18:48:41.385Z"
   },
   {
    "duration": 3543,
    "start_time": "2021-07-02T18:50:08.682Z"
   },
   {
    "duration": 4,
    "start_time": "2021-07-02T18:50:12.228Z"
   },
   {
    "duration": 24,
    "start_time": "2021-07-02T18:50:12.236Z"
   },
   {
    "duration": 11,
    "start_time": "2021-07-02T18:50:12.264Z"
   },
   {
    "duration": 26468,
    "start_time": "2021-07-02T18:50:12.280Z"
   },
   {
    "duration": 9,
    "start_time": "2021-07-02T18:50:38.751Z"
   },
   {
    "duration": 37,
    "start_time": "2021-07-02T18:50:38.769Z"
   },
   {
    "duration": 8,
    "start_time": "2021-07-02T18:50:38.809Z"
   },
   {
    "duration": 54,
    "start_time": "2021-07-02T18:50:38.820Z"
   },
   {
    "duration": 221,
    "start_time": "2021-07-02T18:50:38.877Z"
   },
   {
    "duration": 6,
    "start_time": "2021-07-02T18:50:39.100Z"
   },
   {
    "duration": 10,
    "start_time": "2021-07-02T18:50:39.108Z"
   },
   {
    "duration": 82956,
    "start_time": "2021-07-02T18:50:39.120Z"
   },
   {
    "duration": 16,
    "start_time": "2021-07-02T18:52:02.078Z"
   },
   {
    "duration": 27,
    "start_time": "2021-07-02T18:52:02.097Z"
   },
   {
    "duration": 387,
    "start_time": "2021-07-02T18:52:02.127Z"
   },
   {
    "duration": 31,
    "start_time": "2021-07-02T18:52:02.516Z"
   },
   {
    "duration": 27,
    "start_time": "2021-07-02T18:52:02.549Z"
   },
   {
    "duration": 41,
    "start_time": "2021-07-02T18:52:02.579Z"
   },
   {
    "duration": 29,
    "start_time": "2021-07-02T18:52:02.623Z"
   },
   {
    "duration": 246,
    "start_time": "2021-07-02T18:52:02.655Z"
   },
   {
    "duration": 17,
    "start_time": "2021-07-02T18:52:02.907Z"
   },
   {
    "duration": 291,
    "start_time": "2021-07-02T18:52:02.928Z"
   },
   {
    "duration": 35,
    "start_time": "2021-07-02T18:52:03.222Z"
   },
   {
    "duration": 13,
    "start_time": "2021-07-02T18:52:03.262Z"
   },
   {
    "duration": 17,
    "start_time": "2021-07-02T18:52:03.278Z"
   },
   {
    "duration": 90,
    "start_time": "2021-07-02T18:52:03.298Z"
   },
   {
    "duration": 20,
    "start_time": "2021-07-02T18:52:03.391Z"
   },
   {
    "duration": 88,
    "start_time": "2021-07-02T18:52:03.413Z"
   },
   {
    "duration": 14,
    "start_time": "2021-07-02T18:52:03.504Z"
   },
   {
    "duration": 72,
    "start_time": "2021-07-02T18:52:03.521Z"
   },
   {
    "duration": 16,
    "start_time": "2021-07-02T18:52:03.596Z"
   },
   {
    "duration": 42,
    "start_time": "2021-07-02T18:52:03.615Z"
   },
   {
    "duration": 13,
    "start_time": "2021-07-02T18:52:03.663Z"
   },
   {
    "duration": 10,
    "start_time": "2021-07-02T18:52:03.679Z"
   },
   {
    "duration": 9,
    "start_time": "2021-07-02T18:52:03.692Z"
   },
   {
    "duration": 12,
    "start_time": "2021-07-02T18:52:03.703Z"
   },
   {
    "duration": 6,
    "start_time": "2021-07-02T18:52:03.717Z"
   },
   {
    "duration": 80,
    "start_time": "2021-07-02T18:52:03.725Z"
   },
   {
    "duration": 9,
    "start_time": "2021-07-02T18:52:03.808Z"
   },
   {
    "duration": 11,
    "start_time": "2021-07-02T18:52:03.820Z"
   },
   {
    "duration": 11177,
    "start_time": "2021-07-02T18:52:03.834Z"
   },
   {
    "duration": 877,
    "start_time": "2021-07-02T18:52:15.013Z"
   },
   {
    "duration": 6,
    "start_time": "2021-07-02T18:52:15.892Z"
   },
   {
    "duration": 9,
    "start_time": "2021-07-02T18:52:15.900Z"
   },
   {
    "duration": 776,
    "start_time": "2021-07-02T18:52:15.911Z"
   },
   {
    "duration": 22,
    "start_time": "2021-07-02T18:52:16.689Z"
   },
   {
    "duration": 61,
    "start_time": "2021-07-02T18:52:16.714Z"
   },
   {
    "duration": 21,
    "start_time": "2021-07-02T18:52:16.777Z"
   },
   {
    "duration": 5486,
    "start_time": "2021-07-02T18:52:16.800Z"
   },
   {
    "duration": 895,
    "start_time": "2021-07-02T18:52:22.289Z"
   },
   {
    "duration": 15,
    "start_time": "2021-07-02T18:52:23.187Z"
   },
   {
    "duration": 17,
    "start_time": "2021-07-02T18:52:23.204Z"
   },
   {
    "duration": 948,
    "start_time": "2021-07-02T18:52:23.224Z"
   },
   {
    "duration": 6,
    "start_time": "2021-07-02T18:52:24.176Z"
   },
   {
    "duration": 1014,
    "start_time": "2021-07-02T18:52:24.185Z"
   },
   {
    "duration": 6,
    "start_time": "2021-07-02T18:52:25.203Z"
   },
   {
    "duration": 24,
    "start_time": "2021-07-02T18:52:25.212Z"
   },
   {
    "duration": 10,
    "start_time": "2021-07-02T18:52:25.260Z"
   },
   {
    "duration": 25,
    "start_time": "2021-07-02T18:52:25.273Z"
   },
   {
    "duration": 23,
    "start_time": "2021-07-02T18:52:25.301Z"
   },
   {
    "duration": 41,
    "start_time": "2021-07-02T18:52:25.326Z"
   },
   {
    "duration": 86,
    "start_time": "2021-07-02T18:52:25.374Z"
   },
   {
    "duration": 23,
    "start_time": "2021-07-02T18:52:25.462Z"
   },
   {
    "duration": 13,
    "start_time": "2021-07-02T18:52:25.488Z"
   },
   {
    "duration": 1399,
    "start_time": "2021-07-02T18:52:25.503Z"
   },
   {
    "duration": 869,
    "start_time": "2021-07-02T18:52:26.910Z"
   },
   {
    "duration": 12,
    "start_time": "2021-07-02T18:52:27.782Z"
   },
   {
    "duration": 632,
    "start_time": "2021-07-02T18:52:27.796Z"
   },
   {
    "duration": 282,
    "start_time": "2021-07-02T18:52:28.430Z"
   },
   {
    "duration": 5,
    "start_time": "2021-07-02T18:52:28.715Z"
   },
   {
    "duration": 10,
    "start_time": "2021-07-02T18:52:28.723Z"
   },
   {
    "duration": 15,
    "start_time": "2021-07-02T18:52:28.756Z"
   },
   {
    "duration": 23,
    "start_time": "2021-07-02T18:52:28.774Z"
   },
   {
    "duration": 16,
    "start_time": "2021-07-02T18:52:28.800Z"
   },
   {
    "duration": 45,
    "start_time": "2021-07-02T18:52:28.819Z"
   },
   {
    "duration": 13,
    "start_time": "2021-07-02T18:52:28.867Z"
   },
   {
    "duration": 67551,
    "start_time": "2021-07-02T19:43:26.033Z"
   },
   {
    "duration": 1586,
    "start_time": "2021-07-02T19:44:33.587Z"
   },
   {
    "duration": 4,
    "start_time": "2021-07-02T19:44:35.175Z"
   },
   {
    "duration": 12,
    "start_time": "2021-07-02T19:44:35.181Z"
   },
   {
    "duration": 11,
    "start_time": "2021-07-02T19:44:35.195Z"
   },
   {
    "duration": 22204,
    "start_time": "2021-07-02T19:44:35.208Z"
   },
   {
    "duration": 8,
    "start_time": "2021-07-02T19:44:57.415Z"
   },
   {
    "duration": 29,
    "start_time": "2021-07-02T19:44:57.427Z"
   },
   {
    "duration": 6,
    "start_time": "2021-07-02T19:44:57.460Z"
   },
   {
    "duration": 19,
    "start_time": "2021-07-02T19:44:57.469Z"
   },
   {
    "duration": 238,
    "start_time": "2021-07-02T19:44:57.491Z"
   },
   {
    "duration": 5,
    "start_time": "2021-07-02T19:44:57.731Z"
   },
   {
    "duration": 8,
    "start_time": "2021-07-02T19:44:57.739Z"
   },
   {
    "duration": 74467,
    "start_time": "2021-07-02T19:44:57.750Z"
   },
   {
    "duration": 13,
    "start_time": "2021-07-02T19:46:12.220Z"
   },
   {
    "duration": 32,
    "start_time": "2021-07-02T19:46:12.236Z"
   },
   {
    "duration": 357,
    "start_time": "2021-07-02T19:46:12.271Z"
   },
   {
    "duration": 30,
    "start_time": "2021-07-02T19:46:12.631Z"
   },
   {
    "duration": 6,
    "start_time": "2021-07-02T19:46:12.664Z"
   },
   {
    "duration": 23,
    "start_time": "2021-07-02T19:46:12.672Z"
   },
   {
    "duration": 23,
    "start_time": "2021-07-02T19:46:12.697Z"
   },
   {
    "duration": 254,
    "start_time": "2021-07-02T19:46:12.722Z"
   },
   {
    "duration": 17,
    "start_time": "2021-07-02T19:46:12.982Z"
   },
   {
    "duration": 313,
    "start_time": "2021-07-02T19:46:13.003Z"
   },
   {
    "duration": 23,
    "start_time": "2021-07-02T19:46:13.318Z"
   },
   {
    "duration": 20,
    "start_time": "2021-07-02T19:46:13.343Z"
   },
   {
    "duration": 15,
    "start_time": "2021-07-02T19:46:13.365Z"
   },
   {
    "duration": 84,
    "start_time": "2021-07-02T19:46:13.383Z"
   },
   {
    "duration": 21,
    "start_time": "2021-07-02T19:46:13.469Z"
   },
   {
    "duration": 86,
    "start_time": "2021-07-02T19:46:13.492Z"
   },
   {
    "duration": 14,
    "start_time": "2021-07-02T19:46:13.581Z"
   },
   {
    "duration": 31,
    "start_time": "2021-07-02T19:46:13.597Z"
   },
   {
    "duration": 36,
    "start_time": "2021-07-02T19:46:13.630Z"
   },
   {
    "duration": 28,
    "start_time": "2021-07-02T19:46:13.668Z"
   },
   {
    "duration": 13,
    "start_time": "2021-07-02T19:46:13.699Z"
   },
   {
    "duration": 43,
    "start_time": "2021-07-02T19:46:13.715Z"
   },
   {
    "duration": 6,
    "start_time": "2021-07-02T19:46:13.760Z"
   },
   {
    "duration": 9,
    "start_time": "2021-07-02T19:46:13.769Z"
   },
   {
    "duration": 6,
    "start_time": "2021-07-02T19:46:13.781Z"
   },
   {
    "duration": 68,
    "start_time": "2021-07-02T19:46:13.789Z"
   },
   {
    "duration": 11,
    "start_time": "2021-07-02T19:46:13.860Z"
   },
   {
    "duration": 11,
    "start_time": "2021-07-02T19:46:13.874Z"
   },
   {
    "duration": 13876,
    "start_time": "2021-07-02T19:46:13.888Z"
   },
   {
    "duration": 622,
    "start_time": "2021-07-02T19:46:27.766Z"
   },
   {
    "duration": 6,
    "start_time": "2021-07-02T19:46:28.390Z"
   },
   {
    "duration": 16,
    "start_time": "2021-07-02T19:46:28.398Z"
   },
   {
    "duration": 562,
    "start_time": "2021-07-02T19:46:28.417Z"
   },
   {
    "duration": 19,
    "start_time": "2021-07-02T19:46:28.982Z"
   },
   {
    "duration": 34,
    "start_time": "2021-07-02T19:46:29.003Z"
   },
   {
    "duration": 20,
    "start_time": "2021-07-02T19:46:29.055Z"
   },
   {
    "duration": 5056,
    "start_time": "2021-07-02T19:46:29.077Z"
   },
   {
    "duration": 614,
    "start_time": "2021-07-02T19:46:34.135Z"
   },
   {
    "duration": 12,
    "start_time": "2021-07-02T19:46:34.752Z"
   },
   {
    "duration": 14,
    "start_time": "2021-07-02T19:46:34.767Z"
   },
   {
    "duration": 574,
    "start_time": "2021-07-02T19:46:34.783Z"
   },
   {
    "duration": 6,
    "start_time": "2021-07-02T19:46:35.360Z"
   },
   {
    "duration": 790,
    "start_time": "2021-07-02T19:46:35.369Z"
   },
   {
    "duration": 6,
    "start_time": "2021-07-02T19:46:36.163Z"
   },
   {
    "duration": 21,
    "start_time": "2021-07-02T19:46:36.172Z"
   },
   {
    "duration": 7,
    "start_time": "2021-07-02T19:46:36.196Z"
   },
   {
    "duration": 54,
    "start_time": "2021-07-02T19:46:36.206Z"
   },
   {
    "duration": 24,
    "start_time": "2021-07-02T19:46:36.263Z"
   },
   {
    "duration": 18,
    "start_time": "2021-07-02T19:46:36.289Z"
   },
   {
    "duration": 105,
    "start_time": "2021-07-02T19:46:36.310Z"
   },
   {
    "duration": 11,
    "start_time": "2021-07-02T19:46:36.417Z"
   },
   {
    "duration": 24,
    "start_time": "2021-07-02T19:46:36.431Z"
   },
   {
    "duration": 1333,
    "start_time": "2021-07-02T19:46:36.458Z"
   },
   {
    "duration": 922,
    "start_time": "2021-07-02T19:46:37.798Z"
   },
   {
    "duration": 12,
    "start_time": "2021-07-02T19:46:38.723Z"
   },
   {
    "duration": 555,
    "start_time": "2021-07-02T19:46:38.756Z"
   },
   {
    "duration": 261,
    "start_time": "2021-07-02T19:46:39.314Z"
   },
   {
    "duration": 5,
    "start_time": "2021-07-02T19:46:39.577Z"
   },
   {
    "duration": 10,
    "start_time": "2021-07-02T19:46:39.584Z"
   },
   {
    "duration": 8,
    "start_time": "2021-07-02T19:46:39.596Z"
   },
   {
    "duration": 58,
    "start_time": "2021-07-02T19:46:39.606Z"
   },
   {
    "duration": 15,
    "start_time": "2021-07-02T19:46:39.666Z"
   },
   {
    "duration": 8,
    "start_time": "2021-07-02T19:46:39.684Z"
   },
   {
    "duration": 8,
    "start_time": "2021-07-02T19:46:39.694Z"
   },
   {
    "duration": 6,
    "start_time": "2021-07-02T20:34:14.743Z"
   },
   {
    "duration": 883,
    "start_time": "2021-07-02T20:34:15.212Z"
   },
   {
    "duration": 55106,
    "start_time": "2021-07-04T07:56:40.373Z"
   },
   {
    "duration": 1080,
    "start_time": "2021-07-04T07:57:35.481Z"
   },
   {
    "duration": 2,
    "start_time": "2021-07-04T07:57:36.563Z"
   },
   {
    "duration": 10,
    "start_time": "2021-07-04T07:57:36.566Z"
   },
   {
    "duration": 7,
    "start_time": "2021-07-04T07:57:36.578Z"
   },
   {
    "duration": 15300,
    "start_time": "2021-07-04T07:57:36.587Z"
   },
   {
    "duration": 5,
    "start_time": "2021-07-04T07:57:51.889Z"
   },
   {
    "duration": 26,
    "start_time": "2021-07-04T07:57:51.896Z"
   },
   {
    "duration": 4,
    "start_time": "2021-07-04T07:57:51.924Z"
   },
   {
    "duration": 18,
    "start_time": "2021-07-04T07:57:51.930Z"
   },
   {
    "duration": 27,
    "start_time": "2021-07-04T07:57:51.949Z"
   },
   {
    "duration": 5,
    "start_time": "2021-07-04T07:57:51.992Z"
   },
   {
    "duration": 14,
    "start_time": "2021-07-04T07:57:51.999Z"
   },
   {
    "duration": 54604,
    "start_time": "2021-07-04T07:57:52.015Z"
   },
   {
    "duration": 7,
    "start_time": "2021-07-04T07:58:46.621Z"
   },
   {
    "duration": 14,
    "start_time": "2021-07-04T07:58:46.630Z"
   },
   {
    "duration": 108,
    "start_time": "2021-07-04T07:58:46.645Z"
   },
   {
    "duration": 20,
    "start_time": "2021-07-04T07:58:46.755Z"
   },
   {
    "duration": 24,
    "start_time": "2021-07-04T07:58:46.776Z"
   },
   {
    "duration": 4,
    "start_time": "2021-07-04T07:58:46.802Z"
   },
   {
    "duration": 11,
    "start_time": "2021-07-04T07:58:46.808Z"
   },
   {
    "duration": 6,
    "start_time": "2021-07-04T07:58:46.821Z"
   },
   {
    "duration": 19,
    "start_time": "2021-07-04T07:58:46.831Z"
   },
   {
    "duration": 59,
    "start_time": "2021-07-04T07:58:46.853Z"
   },
   {
    "duration": 10,
    "start_time": "2021-07-04T07:58:46.914Z"
   },
   {
    "duration": 81,
    "start_time": "2021-07-04T07:58:46.925Z"
   },
   {
    "duration": 15,
    "start_time": "2021-07-04T07:58:47.008Z"
   },
   {
    "duration": 10,
    "start_time": "2021-07-04T07:58:47.025Z"
   },
   {
    "duration": 12,
    "start_time": "2021-07-04T07:58:47.036Z"
   },
   {
    "duration": 60,
    "start_time": "2021-07-04T07:58:47.049Z"
   },
   {
    "duration": 12,
    "start_time": "2021-07-04T07:58:47.111Z"
   },
   {
    "duration": 38,
    "start_time": "2021-07-04T07:58:47.125Z"
   },
   {
    "duration": 26,
    "start_time": "2021-07-04T07:58:47.165Z"
   },
   {
    "duration": 31,
    "start_time": "2021-07-04T07:58:47.193Z"
   },
   {
    "duration": 11,
    "start_time": "2021-07-04T07:58:47.226Z"
   },
   {
    "duration": 18,
    "start_time": "2021-07-04T07:58:47.238Z"
   },
   {
    "duration": 6,
    "start_time": "2021-07-04T07:58:47.257Z"
   },
   {
    "duration": 27,
    "start_time": "2021-07-04T07:58:47.264Z"
   },
   {
    "duration": 4,
    "start_time": "2021-07-04T07:58:47.294Z"
   },
   {
    "duration": 11,
    "start_time": "2021-07-04T07:58:47.300Z"
   },
   {
    "duration": 10,
    "start_time": "2021-07-04T07:58:47.312Z"
   },
   {
    "duration": 26,
    "start_time": "2021-07-04T07:58:47.323Z"
   },
   {
    "duration": 5,
    "start_time": "2021-07-04T07:58:47.351Z"
   },
   {
    "duration": 11,
    "start_time": "2021-07-04T07:58:47.357Z"
   },
   {
    "duration": 5863,
    "start_time": "2021-07-04T07:58:47.369Z"
   },
   {
    "duration": 374,
    "start_time": "2021-07-04T07:58:53.234Z"
   },
   {
    "duration": 5,
    "start_time": "2021-07-04T07:58:53.609Z"
   },
   {
    "duration": 12,
    "start_time": "2021-07-04T07:58:53.615Z"
   },
   {
    "duration": 304,
    "start_time": "2021-07-04T07:58:53.628Z"
   },
   {
    "duration": 13,
    "start_time": "2021-07-04T07:58:53.934Z"
   },
   {
    "duration": 25,
    "start_time": "2021-07-04T07:58:53.949Z"
   },
   {
    "duration": 28,
    "start_time": "2021-07-04T07:58:53.975Z"
   },
   {
    "duration": 3074,
    "start_time": "2021-07-04T07:58:54.005Z"
   },
   {
    "duration": 320,
    "start_time": "2021-07-04T07:58:57.081Z"
   },
   {
    "duration": 9,
    "start_time": "2021-07-04T07:58:57.403Z"
   },
   {
    "duration": 11,
    "start_time": "2021-07-04T07:58:57.413Z"
   },
   {
    "duration": 268,
    "start_time": "2021-07-04T07:58:57.426Z"
   },
   {
    "duration": 3,
    "start_time": "2021-07-04T07:58:57.695Z"
   },
   {
    "duration": 563,
    "start_time": "2021-07-04T07:58:57.699Z"
   },
   {
    "duration": 2,
    "start_time": "2021-07-04T07:58:58.264Z"
   },
   {
    "duration": 429,
    "start_time": "2021-07-04T07:58:58.267Z"
   },
   {
    "duration": 3,
    "start_time": "2021-07-04T07:58:58.698Z"
   },
   {
    "duration": 21,
    "start_time": "2021-07-04T07:58:58.703Z"
   },
   {
    "duration": 5,
    "start_time": "2021-07-04T07:58:58.725Z"
   },
   {
    "duration": 18,
    "start_time": "2021-07-04T07:58:58.732Z"
   },
   {
    "duration": 21,
    "start_time": "2021-07-04T07:58:58.751Z"
   },
   {
    "duration": 4,
    "start_time": "2021-07-04T07:58:58.774Z"
   },
   {
    "duration": 9,
    "start_time": "2021-07-04T07:58:58.794Z"
   },
   {
    "duration": 9,
    "start_time": "2021-07-04T07:58:58.804Z"
   },
   {
    "duration": 11,
    "start_time": "2021-07-04T07:58:58.814Z"
   },
   {
    "duration": 715,
    "start_time": "2021-07-04T07:58:58.826Z"
   },
   {
    "duration": 2,
    "start_time": "2021-07-04T07:58:59.543Z"
   },
   {
    "duration": 496,
    "start_time": "2021-07-04T07:58:59.547Z"
   },
   {
    "duration": 8,
    "start_time": "2021-07-04T07:59:00.045Z"
   },
   {
    "duration": 16,
    "start_time": "2021-07-04T07:59:00.054Z"
   },
   {
    "duration": 354,
    "start_time": "2021-07-04T07:59:00.072Z"
   },
   {
    "duration": 149,
    "start_time": "2021-07-04T07:59:00.428Z"
   },
   {
    "duration": 4,
    "start_time": "2021-07-04T07:59:00.578Z"
   },
   {
    "duration": 13,
    "start_time": "2021-07-04T07:59:00.584Z"
   },
   {
    "duration": 18,
    "start_time": "2021-07-04T07:59:00.599Z"
   },
   {
    "duration": 25,
    "start_time": "2021-07-04T07:59:00.618Z"
   },
   {
    "duration": 14,
    "start_time": "2021-07-04T07:59:00.645Z"
   },
   {
    "duration": 8,
    "start_time": "2021-07-04T07:59:00.661Z"
   },
   {
    "duration": 8,
    "start_time": "2021-07-04T07:59:00.670Z"
   }
  ],
  "kernelspec": {
   "display_name": "Python 3",
   "language": "python",
   "name": "python3"
  },
  "language_info": {
   "codemirror_mode": {
    "name": "ipython",
    "version": 3
   },
   "file_extension": ".py",
   "mimetype": "text/x-python",
   "name": "python",
   "nbconvert_exporter": "python",
   "pygments_lexer": "ipython3",
   "version": "3.8.10"
  },
  "toc": {
   "base_numbering": 1,
   "nav_menu": {},
   "number_sections": true,
   "sideBar": true,
   "skip_h1_title": true,
   "title_cell": "Table of Contents",
   "title_sidebar": "Contents",
   "toc_cell": false,
   "toc_position": {},
   "toc_section_display": true,
   "toc_window_display": false
  }
 },
 "nbformat": 4,
 "nbformat_minor": 5
}
