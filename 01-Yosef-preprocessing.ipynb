{
 "cells": [
  {
   "cell_type": "markdown",
   "id": "82598d68",
   "metadata": {},
   "source": [
    "<div style=\"border-radius: 15px; border: 3px solid indigo; padding: 15px;\">\n",
    "<b> Reviewer's comment</b>\n",
    "    \n",
    "Hello, my name is Sveta Nosova and I am going to review this project. \n",
    "\n",
    "Before we start, I want to pay your attention to the color marking:\n",
    "    \n",
    "<div class=\"alert alert-success\" style=\"border-radius: 15px; box-shadow: 4px 4px 4px; border: 1px solid \">\n",
    "<b> Reviewer's comment</b>\n",
    "    \n",
    "Great solutions and ideas that can and should be used in the future are in green comments.   \n",
    "</div>    \n",
    "    \n",
    "    \n",
    "<div class=\"alert alert-warning\" style=\"border-radius: 15px; box-shadow: 4px 4px 4px; border: 1px solid \">\n",
    "<b> Reviewer's comment</b>\n",
    "\n",
    "Yellow color indicates what should be optimized. This is not necessary, but it will be great if you make changes to this project.\n",
    "</div>      \n",
    "    \n",
    "    \n",
    "<div class=\"alert alert-danger\" style=\"border-radius: 15px; box-shadow: 4px 4px 4px; border: 1px solid \">\n",
    "<b> Reviewer's comment</b>\n",
    "\n",
    "Issues that need to be corrected to get right results are indicated in red comments. Note that the project cannot be accepted until these issues are resolved.\n",
    "</div>    \n",
    "\n",
    "<hr>\n",
    "    \n",
    "**Please, use some color other than those listed to highlight answers to my comments.**\n",
    "I would also ask you **not to change, move or delete my comments** so that it would be easier for me to navigate during the next review.\n",
    "    \n",
    "In addition, my comments are defined as headings. \n",
    "They can mess up the content, however, they are convenient, since you can immediately go to them. I will remove the headings from my comments in the next review. \n",
    "   \n",
    "    \n",
    "    \n",
    "<hr>\n",
    "    \n",
    "**A few words about the project:** you did a good job, everything is clear and neat, there is an analysis and intermediate conclusions. I still have some questions, I have written them in my comments. I've also left there some recommendations for improving the project.\n",
    "    \n",
    "\n",
    "I have noticed that you are not using all the opportunities of Markdown cell. You can learn more about this [here](https://sqlbak.com/blog/jupyter-notebook-markdown-cheatsheet) and [here](https://medium.com/analytics-vidhya/the-ultimate-markdown-guide-for-jupyter-notebook-d5e5abf728fd).\n",
    "    \n",
    "I will wait for the project for a second review :)\n",
    "    \n",
    "<hr style=\"border-top: 3px solid purple; \"></hr>\n",
    "\n",
    "You can leave comments using this code inside a Markdown cell:\n",
    "    \n",
    "    \n",
    "    <div class=\"alert alert-info\">\n",
    "    <h2> Student's comment</h2>\n",
    "\n",
    "    Your text here. \n",
    "    </div>\n",
    "\n",
    "    \n",
    "    \n",
    "    <font color='red'> This code is used to change text color. </font>     \n",
    "\n",
    "<font color='red'> It will look like this. </font> \n",
    "    \n",
    "If you don't want your comments to be headings, replace **h2** with **b** or just add `<a class=\"tocSkip\">` after the phrase *Student's comment*.\n",
    "</div>"
   ]
  },
  {
   "cell_type": "markdown",
   "id": "7952524f",
   "metadata": {},
   "source": [
    "<div style=\"border-radius: 15px; border: 3px solid indigo; padding: 15px;\">\n",
    "<b> Reviewer's comment 2</b>\n",
    "\n",
    "\n",
    "Yosef, thank you for correcting your project! :) \n",
    "    \n",
    "    \n",
    "I've left new comments titled as **Reviewer's comment 2**. The headings from the old comments are removed. I've also left a little bit more detailed comment about the missing values. I hope it will help. What is more, you can find an example of using the dictionary we are asked about. \n",
    "    \n",
    "</div>\n",
    "<hr>\n",
    "<div style=\"border-radius: 15px; border: 3px solid indigo; padding: 15px;\">\n",
    "<b> Reviewer's comment 3</b>\n",
    "\n",
    "\n",
    "Thank you for sending the corrected version of the project. You've done a great job, I really appreciate it and happy to see the results 😊 I've left a few comments titled as **Reviewer's comment 3**. Check them out, I've shown a very concise way of Nan-s replacement. \n",
    "    \n",
    "\n",
    "Your project has passed code review. Congratulations! 😊\n",
    "    \n",
    "    \n",
    "<hr>\n",
    "Here are some recommendations:\n",
    "    \n",
    "- Try to write not only working, but also optimal code, as I mentioned in the lemmatization section.\n",
    "\n",
    "- Do not forget to add titles and labels on your graphs. \n",
    "    \n",
    "<hr>\n",
    "    \n",
    "Good luck! 😊   \n",
    "</div>"
   ]
  },
  {
   "cell_type": "markdown",
   "id": "7f80d924",
   "metadata": {},
   "source": [
    "# Project 1 - Data Preprocessing."
   ]
  },
  {
   "cell_type": "markdown",
   "id": "b8757886",
   "metadata": {},
   "source": [
    "## Project description"
   ]
  },
  {
   "cell_type": "markdown",
   "id": "cca0e5b2",
   "metadata": {},
   "source": [
    "The project is to prepare a report for a bank’s loan division. I’ll need to find out if a customer’s marital status and number of children have an impact on whether they will default on a loan. The bank already has some data on customers’ credit worthiness.\n",
    "The report will be considered when building a credit score for a potential customer. A credit score is used to evaluate the ability of a potential borrower to repay their loan."
   ]
  },
  {
   "cell_type": "markdown",
   "id": "58163b45",
   "metadata": {},
   "source": [
    "## The Data:"
   ]
  },
  {
   "cell_type": "markdown",
   "id": "c0e821be",
   "metadata": {},
   "source": [
    "### The dataset is composed from the next columns:     \n",
    "   __children:__ the number of children in the family    \n",
    "   __days_employed:__ how long the customer has been working     \n",
    "   __dob_years:__ the customer’s age     \n",
    "   __education:__ the customer’s education level     \n",
    "   __education_id:__ identifier for the customer’s education    \n",
    "   __family_status:__ the customer’s marital status    \n",
    "   __family_status_id:__ identifier for the customer’s marital status     \n",
    "   __gender:__ the customer’s gender    \n",
    "   __income_type:__ the customer’s income type    \n",
    "   __debt:__ whether the customer has ever defaulted on a loan     \n",
    "   __total_income:__ monthly income     \n",
    "   __purpose:__ reason for taking out a loan     "
   ]
  },
  {
   "cell_type": "markdown",
   "id": "38a6243c",
   "metadata": {},
   "source": [
    "<div class=\"alert alert-danger\" style=\"border-radius: 15px; box-shadow: 4px 4px 4px; border: 1px solid \">\n",
    "<b> Reviewer's comment</b>\n",
    "    \n",
    "First things first. The introduction is the initial paragraph that each project, each essay or any article should have. It is important to write an introductory part, because it gives an idea about the content of the project. Please, add project and data descriptions. \n",
    "</div>"
   ]
  },
  {
   "cell_type": "markdown",
   "id": "0bd930f0",
   "metadata": {},
   "source": [
    "\n",
    "\n",
    "<div class=\"alert alert-info\" style=\"border-radius: 15px; box-shadow: 4px 4px 4px; border: 1px solid \">\n",
    "<h2> Student's comment</h2>\n",
    "\n",
    "thank you - i have added \n",
    "</div>"
   ]
  },
  {
   "cell_type": "markdown",
   "id": "3f461584",
   "metadata": {},
   "source": [
    "<div class=\"alert alert-success\" style=\"border-radius: 15px; box-shadow: 4px 4px 4px; border: 1px solid \">\n",
    "<b> Reviewer's comment 2</b>\n",
    "    \n",
    "That's much better 👍\n",
    "</div>"
   ]
  },
  {
   "cell_type": "markdown",
   "id": "4cafe345",
   "metadata": {},
   "source": [
    "#### import libraries:"
   ]
  },
  {
   "cell_type": "code",
   "execution_count": 213,
   "id": "fb04ea87",
   "metadata": {},
   "outputs": [],
   "source": [
    "import pandas as pd\n",
    "import numpy as np"
   ]
  },
  {
   "cell_type": "markdown",
   "id": "4f7f2afd",
   "metadata": {},
   "source": [
    "#### read dataset:"
   ]
  },
  {
   "cell_type": "code",
   "execution_count": 214,
   "id": "ceb43c03",
   "metadata": {},
   "outputs": [],
   "source": [
    "try:\n",
    "    df= pd.read_csv(\"credit_scoring_eng.csv\",na_values=\"null\")\n",
    "except Exception as e:\n",
    "    df=pd.read_csv(\"/datasets/credit_scoring_eng.csv\",na_values=\"null\")"
   ]
  },
  {
   "cell_type": "markdown",
   "id": "ec6aa586",
   "metadata": {},
   "source": [
    "<div class=\"alert alert-success\" style=\"border-radius: 15px; box-shadow: 4px 4px 4px; border: 1px solid \">\n",
    "<b> Reviewer's comment</b>\n",
    "    \n",
    "It's very good that you use `try-except`. Another good practice is to add `else` and `finally`. Thus, `try` block allows us to handle some error. The `except` block catches the exceptions. `else` does something if there's no error. `finally` is to be executed in any case, whether there is an exception or not (it is useful when you definitely need to do something, for example, to close a file). \n",
    "    \n",
    "    \n",
    "Look at this code snippet:    \n",
    "</div>\n",
    "\n",
    "```python\n",
    "\n",
    "try:\n",
    "    # Try to do smth here.\n",
    "except Exception as e:\n",
    "    # Handle an instance of SomeException.\n",
    "    # So we deal with the expected error.\n",
    "else:\n",
    "    # Do smth if there is no exception.\n",
    "finally:\n",
    "    # Do something no matter what.\n",
    "    \n",
    "```"
   ]
  },
  {
   "cell_type": "markdown",
   "id": "87eb937f",
   "metadata": {},
   "source": [
    "### exploring the dataset:"
   ]
  },
  {
   "cell_type": "markdown",
   "id": "016b0986",
   "metadata": {},
   "source": [
    "#### dataset size:"
   ]
  },
  {
   "cell_type": "code",
   "execution_count": 215,
   "id": "a3f0cf2e",
   "metadata": {},
   "outputs": [
    {
     "data": {
      "text/plain": [
       "(21525, 12)"
      ]
     },
     "execution_count": 215,
     "metadata": {},
     "output_type": "execute_result"
    }
   ],
   "source": [
    "df.shape"
   ]
  },
  {
   "cell_type": "code",
   "execution_count": 216,
   "id": "66be8d1b",
   "metadata": {},
   "outputs": [
    {
     "data": {
      "text/html": [
       "<div>\n",
       "<style scoped>\n",
       "    .dataframe tbody tr th:only-of-type {\n",
       "        vertical-align: middle;\n",
       "    }\n",
       "\n",
       "    .dataframe tbody tr th {\n",
       "        vertical-align: top;\n",
       "    }\n",
       "\n",
       "    .dataframe thead th {\n",
       "        text-align: right;\n",
       "    }\n",
       "</style>\n",
       "<table border=\"1\" class=\"dataframe\">\n",
       "  <thead>\n",
       "    <tr style=\"text-align: right;\">\n",
       "      <th></th>\n",
       "      <th>children</th>\n",
       "      <th>days_employed</th>\n",
       "      <th>dob_years</th>\n",
       "      <th>education</th>\n",
       "      <th>education_id</th>\n",
       "      <th>family_status</th>\n",
       "      <th>family_status_id</th>\n",
       "      <th>gender</th>\n",
       "      <th>income_type</th>\n",
       "      <th>debt</th>\n",
       "      <th>total_income</th>\n",
       "      <th>purpose</th>\n",
       "    </tr>\n",
       "  </thead>\n",
       "  <tbody>\n",
       "    <tr>\n",
       "      <th>0</th>\n",
       "      <td>1</td>\n",
       "      <td>-8437.673028</td>\n",
       "      <td>42</td>\n",
       "      <td>bachelor's degree</td>\n",
       "      <td>0</td>\n",
       "      <td>married</td>\n",
       "      <td>0</td>\n",
       "      <td>F</td>\n",
       "      <td>employee</td>\n",
       "      <td>0</td>\n",
       "      <td>40620.102</td>\n",
       "      <td>purchase of the house</td>\n",
       "    </tr>\n",
       "    <tr>\n",
       "      <th>1</th>\n",
       "      <td>1</td>\n",
       "      <td>-4024.803754</td>\n",
       "      <td>36</td>\n",
       "      <td>secondary education</td>\n",
       "      <td>1</td>\n",
       "      <td>married</td>\n",
       "      <td>0</td>\n",
       "      <td>F</td>\n",
       "      <td>employee</td>\n",
       "      <td>0</td>\n",
       "      <td>17932.802</td>\n",
       "      <td>car purchase</td>\n",
       "    </tr>\n",
       "    <tr>\n",
       "      <th>2</th>\n",
       "      <td>0</td>\n",
       "      <td>-5623.422610</td>\n",
       "      <td>33</td>\n",
       "      <td>Secondary Education</td>\n",
       "      <td>1</td>\n",
       "      <td>married</td>\n",
       "      <td>0</td>\n",
       "      <td>M</td>\n",
       "      <td>employee</td>\n",
       "      <td>0</td>\n",
       "      <td>23341.752</td>\n",
       "      <td>purchase of the house</td>\n",
       "    </tr>\n",
       "    <tr>\n",
       "      <th>3</th>\n",
       "      <td>3</td>\n",
       "      <td>-4124.747207</td>\n",
       "      <td>32</td>\n",
       "      <td>secondary education</td>\n",
       "      <td>1</td>\n",
       "      <td>married</td>\n",
       "      <td>0</td>\n",
       "      <td>M</td>\n",
       "      <td>employee</td>\n",
       "      <td>0</td>\n",
       "      <td>42820.568</td>\n",
       "      <td>supplementary education</td>\n",
       "    </tr>\n",
       "    <tr>\n",
       "      <th>4</th>\n",
       "      <td>0</td>\n",
       "      <td>340266.072047</td>\n",
       "      <td>53</td>\n",
       "      <td>secondary education</td>\n",
       "      <td>1</td>\n",
       "      <td>civil partnership</td>\n",
       "      <td>1</td>\n",
       "      <td>F</td>\n",
       "      <td>retiree</td>\n",
       "      <td>0</td>\n",
       "      <td>25378.572</td>\n",
       "      <td>to have a wedding</td>\n",
       "    </tr>\n",
       "  </tbody>\n",
       "</table>\n",
       "</div>"
      ],
      "text/plain": [
       "   children  days_employed  dob_years            education  education_id  \\\n",
       "0         1   -8437.673028         42    bachelor's degree             0   \n",
       "1         1   -4024.803754         36  secondary education             1   \n",
       "2         0   -5623.422610         33  Secondary Education             1   \n",
       "3         3   -4124.747207         32  secondary education             1   \n",
       "4         0  340266.072047         53  secondary education             1   \n",
       "\n",
       "       family_status  family_status_id gender income_type  debt  total_income  \\\n",
       "0            married                 0      F    employee     0     40620.102   \n",
       "1            married                 0      F    employee     0     17932.802   \n",
       "2            married                 0      M    employee     0     23341.752   \n",
       "3            married                 0      M    employee     0     42820.568   \n",
       "4  civil partnership                 1      F     retiree     0     25378.572   \n",
       "\n",
       "                   purpose  \n",
       "0    purchase of the house  \n",
       "1             car purchase  \n",
       "2    purchase of the house  \n",
       "3  supplementary education  \n",
       "4        to have a wedding  "
      ]
     },
     "execution_count": 216,
     "metadata": {},
     "output_type": "execute_result"
    }
   ],
   "source": [
    "df.head()"
   ]
  },
  {
   "cell_type": "code",
   "execution_count": 217,
   "id": "d61af3fc",
   "metadata": {},
   "outputs": [
    {
     "data": {
      "text/html": [
       "<div>\n",
       "<style scoped>\n",
       "    .dataframe tbody tr th:only-of-type {\n",
       "        vertical-align: middle;\n",
       "    }\n",
       "\n",
       "    .dataframe tbody tr th {\n",
       "        vertical-align: top;\n",
       "    }\n",
       "\n",
       "    .dataframe thead th {\n",
       "        text-align: right;\n",
       "    }\n",
       "</style>\n",
       "<table border=\"1\" class=\"dataframe\">\n",
       "  <thead>\n",
       "    <tr style=\"text-align: right;\">\n",
       "      <th></th>\n",
       "      <th>children</th>\n",
       "      <th>days_employed</th>\n",
       "      <th>dob_years</th>\n",
       "      <th>education</th>\n",
       "      <th>education_id</th>\n",
       "      <th>family_status</th>\n",
       "      <th>family_status_id</th>\n",
       "      <th>gender</th>\n",
       "      <th>income_type</th>\n",
       "      <th>debt</th>\n",
       "      <th>total_income</th>\n",
       "      <th>purpose</th>\n",
       "    </tr>\n",
       "  </thead>\n",
       "  <tbody>\n",
       "    <tr>\n",
       "      <th>21520</th>\n",
       "      <td>1</td>\n",
       "      <td>-4529.316663</td>\n",
       "      <td>43</td>\n",
       "      <td>secondary education</td>\n",
       "      <td>1</td>\n",
       "      <td>civil partnership</td>\n",
       "      <td>1</td>\n",
       "      <td>F</td>\n",
       "      <td>business</td>\n",
       "      <td>0</td>\n",
       "      <td>35966.698</td>\n",
       "      <td>housing transactions</td>\n",
       "    </tr>\n",
       "    <tr>\n",
       "      <th>21521</th>\n",
       "      <td>0</td>\n",
       "      <td>343937.404131</td>\n",
       "      <td>67</td>\n",
       "      <td>secondary education</td>\n",
       "      <td>1</td>\n",
       "      <td>married</td>\n",
       "      <td>0</td>\n",
       "      <td>F</td>\n",
       "      <td>retiree</td>\n",
       "      <td>0</td>\n",
       "      <td>24959.969</td>\n",
       "      <td>purchase of a car</td>\n",
       "    </tr>\n",
       "    <tr>\n",
       "      <th>21522</th>\n",
       "      <td>1</td>\n",
       "      <td>-2113.346888</td>\n",
       "      <td>38</td>\n",
       "      <td>secondary education</td>\n",
       "      <td>1</td>\n",
       "      <td>civil partnership</td>\n",
       "      <td>1</td>\n",
       "      <td>M</td>\n",
       "      <td>employee</td>\n",
       "      <td>1</td>\n",
       "      <td>14347.610</td>\n",
       "      <td>property</td>\n",
       "    </tr>\n",
       "    <tr>\n",
       "      <th>21523</th>\n",
       "      <td>3</td>\n",
       "      <td>-3112.481705</td>\n",
       "      <td>38</td>\n",
       "      <td>secondary education</td>\n",
       "      <td>1</td>\n",
       "      <td>married</td>\n",
       "      <td>0</td>\n",
       "      <td>M</td>\n",
       "      <td>employee</td>\n",
       "      <td>1</td>\n",
       "      <td>39054.888</td>\n",
       "      <td>buying my own car</td>\n",
       "    </tr>\n",
       "    <tr>\n",
       "      <th>21524</th>\n",
       "      <td>2</td>\n",
       "      <td>-1984.507589</td>\n",
       "      <td>40</td>\n",
       "      <td>secondary education</td>\n",
       "      <td>1</td>\n",
       "      <td>married</td>\n",
       "      <td>0</td>\n",
       "      <td>F</td>\n",
       "      <td>employee</td>\n",
       "      <td>0</td>\n",
       "      <td>13127.587</td>\n",
       "      <td>to buy a car</td>\n",
       "    </tr>\n",
       "  </tbody>\n",
       "</table>\n",
       "</div>"
      ],
      "text/plain": [
       "       children  days_employed  dob_years            education  education_id  \\\n",
       "21520         1   -4529.316663         43  secondary education             1   \n",
       "21521         0  343937.404131         67  secondary education             1   \n",
       "21522         1   -2113.346888         38  secondary education             1   \n",
       "21523         3   -3112.481705         38  secondary education             1   \n",
       "21524         2   -1984.507589         40  secondary education             1   \n",
       "\n",
       "           family_status  family_status_id gender income_type  debt  \\\n",
       "21520  civil partnership                 1      F    business     0   \n",
       "21521            married                 0      F     retiree     0   \n",
       "21522  civil partnership                 1      M    employee     1   \n",
       "21523            married                 0      M    employee     1   \n",
       "21524            married                 0      F    employee     0   \n",
       "\n",
       "       total_income               purpose  \n",
       "21520     35966.698  housing transactions  \n",
       "21521     24959.969     purchase of a car  \n",
       "21522     14347.610              property  \n",
       "21523     39054.888     buying my own car  \n",
       "21524     13127.587          to buy a car  "
      ]
     },
     "execution_count": 217,
     "metadata": {},
     "output_type": "execute_result"
    }
   ],
   "source": [
    "df.tail()"
   ]
  },
  {
   "cell_type": "code",
   "execution_count": 218,
   "id": "755ebfec",
   "metadata": {},
   "outputs": [
    {
     "name": "stdout",
     "output_type": "stream",
     "text": [
      "<class 'pandas.core.frame.DataFrame'>\n",
      "RangeIndex: 21525 entries, 0 to 21524\n",
      "Data columns (total 12 columns):\n",
      " #   Column            Non-Null Count  Dtype  \n",
      "---  ------            --------------  -----  \n",
      " 0   children          21525 non-null  int64  \n",
      " 1   days_employed     19351 non-null  float64\n",
      " 2   dob_years         21525 non-null  int64  \n",
      " 3   education         21525 non-null  object \n",
      " 4   education_id      21525 non-null  int64  \n",
      " 5   family_status     21525 non-null  object \n",
      " 6   family_status_id  21525 non-null  int64  \n",
      " 7   gender            21525 non-null  object \n",
      " 8   income_type       21525 non-null  object \n",
      " 9   debt              21525 non-null  int64  \n",
      " 10  total_income      19351 non-null  float64\n",
      " 11  purpose           21525 non-null  object \n",
      "dtypes: float64(2), int64(5), object(5)\n",
      "memory usage: 2.0+ MB\n"
     ]
    }
   ],
   "source": [
    "df.info()"
   ]
  },
  {
   "cell_type": "markdown",
   "id": "6a609689",
   "metadata": {},
   "source": [
    "#### we already see that:\n",
    "    * there are null values in 'days_employed','total_income' columns.\n",
    "    * 'days_employed' and 'total income' represented as float. there is no logic in this, so we will covert it to int.\n",
    "    * there are negative values in days_employed - it's not logical too.\n",
    "    * the column name \"dob_years\" is very strange, lets change it to \"age\"."
   ]
  },
  {
   "cell_type": "markdown",
   "id": "5fad6c3c",
   "metadata": {},
   "source": [
    "<div class=\"alert alert-success\" style=\"border-radius: 15px; box-shadow: 4px 4px 4px; border: 1px solid \">\n",
    "<b> Reviewer's comment</b>\n",
    "    \n",
    "Nice introduction.\n",
    "</div>"
   ]
  },
  {
   "cell_type": "code",
   "execution_count": 219,
   "id": "57581f5c",
   "metadata": {},
   "outputs": [],
   "source": [
    "df.rename(columns={'dob_years':'age'},inplace=True)"
   ]
  },
  {
   "cell_type": "code",
   "execution_count": 220,
   "id": "5727cfb5",
   "metadata": {},
   "outputs": [
    {
     "data": {
      "text/plain": [
       "Index(['children', 'days_employed', 'age', 'education', 'education_id',\n",
       "       'family_status', 'family_status_id', 'gender', 'income_type', 'debt',\n",
       "       'total_income', 'purpose'],\n",
       "      dtype='object')"
      ]
     },
     "execution_count": 220,
     "metadata": {},
     "output_type": "execute_result"
    }
   ],
   "source": [
    "df.columns"
   ]
  },
  {
   "cell_type": "markdown",
   "id": "acb2faf8",
   "metadata": {},
   "source": [
    "#### how much null values are in the dataset ?"
   ]
  },
  {
   "cell_type": "code",
   "execution_count": 221,
   "id": "4cb1e3b2",
   "metadata": {},
   "outputs": [
    {
     "data": {
      "text/plain": [
       "children               0\n",
       "days_employed       2174\n",
       "age                    0\n",
       "education              0\n",
       "education_id           0\n",
       "family_status          0\n",
       "family_status_id       0\n",
       "gender                 0\n",
       "income_type            0\n",
       "debt                   0\n",
       "total_income        2174\n",
       "purpose                0\n",
       "dtype: int64"
      ]
     },
     "execution_count": 221,
     "metadata": {},
     "output_type": "execute_result"
    }
   ],
   "source": [
    "df.isnull().sum()"
   ]
  },
  {
   "cell_type": "markdown",
   "id": "ffb1eafe",
   "metadata": {},
   "source": [
    "#### 2174 values are missing in two columns."
   ]
  },
  {
   "cell_type": "markdown",
   "id": "4a1b01ad",
   "metadata": {},
   "source": [
    "<div class=\"alert alert-success\" style=\"border-radius: 15px; box-shadow: 4px 4px 4px; border: 1px solid \">\n",
    "<b> Reviewer's comment</b>\n",
    "    \n",
    "Yes, we have a lot of missing values here. But it's ok. We can handle them. By the way, it is much better to see the percentage of missing values. For this purpose you can use the code below:\n",
    "</div>"
   ]
  },
  {
   "cell_type": "code",
   "execution_count": 222,
   "id": "265c67f0",
   "metadata": {},
   "outputs": [
    {
     "name": "stdout",
     "output_type": "stream",
     "text": [
      "Missing values: \n",
      "\n",
      "children         -          0%\n",
      "days_employed    -         10%\n",
      "age              -          0%\n",
      "education        -          0%\n",
      "education_id     -          0%\n",
      "family_status    -          0%\n",
      "family_status_id -          0%\n",
      "gender           -          0%\n",
      "income_type      -          0%\n",
      "debt             -          0%\n",
      "total_income     -         10%\n",
      "purpose          -          0%\n"
     ]
    }
   ],
   "source": [
    "# REVIEWER'S CODE\n",
    "\n",
    "def missing_vals(df):\n",
    "    print('Missing values: \\n')\n",
    "    for col in df.columns:\n",
    "        pct_missing = np.mean(df[col].isnull())\n",
    "        print('{:<16} - {:>10}%'.format(col, round(pct_missing*100)))\n",
    "        \n",
    "missing_vals(df)"
   ]
  },
  {
   "cell_type": "code",
   "execution_count": 223,
   "id": "23594315",
   "metadata": {},
   "outputs": [
    {
     "data": {
      "text/plain": [
       "children             0.000000\n",
       "days_employed       10.099884\n",
       "age                  0.000000\n",
       "education            0.000000\n",
       "education_id         0.000000\n",
       "family_status        0.000000\n",
       "family_status_id     0.000000\n",
       "gender               0.000000\n",
       "income_type          0.000000\n",
       "debt                 0.000000\n",
       "total_income        10.099884\n",
       "purpose              0.000000\n",
       "dtype: float64"
      ]
     },
     "execution_count": 223,
     "metadata": {},
     "output_type": "execute_result"
    }
   ],
   "source": [
    "# REVIEWER'S CODE\n",
    "\n",
    "# Another way:\n",
    "df.isnull().sum()*100/len(df)"
   ]
  },
  {
   "cell_type": "markdown",
   "id": "4edbe65b",
   "metadata": {},
   "source": [
    "### lets check artifacts in the data:\n",
    "#### we will check minimum and maximum values to every numeric column:"
   ]
  },
  {
   "cell_type": "code",
   "execution_count": 224,
   "id": "6b8786fe",
   "metadata": {},
   "outputs": [
    {
     "data": {
      "text/html": [
       "<div>\n",
       "<style scoped>\n",
       "    .dataframe tbody tr th:only-of-type {\n",
       "        vertical-align: middle;\n",
       "    }\n",
       "\n",
       "    .dataframe tbody tr th {\n",
       "        vertical-align: top;\n",
       "    }\n",
       "\n",
       "    .dataframe thead th {\n",
       "        text-align: right;\n",
       "    }\n",
       "</style>\n",
       "<table border=\"1\" class=\"dataframe\">\n",
       "  <thead>\n",
       "    <tr style=\"text-align: right;\">\n",
       "      <th></th>\n",
       "      <th>children</th>\n",
       "      <th>days_employed</th>\n",
       "      <th>age</th>\n",
       "      <th>education_id</th>\n",
       "      <th>family_status_id</th>\n",
       "      <th>debt</th>\n",
       "      <th>total_income</th>\n",
       "    </tr>\n",
       "  </thead>\n",
       "  <tbody>\n",
       "    <tr>\n",
       "      <th>min</th>\n",
       "      <td>-1.0</td>\n",
       "      <td>-18388.949901</td>\n",
       "      <td>0.0</td>\n",
       "      <td>0.0</td>\n",
       "      <td>0.0</td>\n",
       "      <td>0.0</td>\n",
       "      <td>3306.762</td>\n",
       "    </tr>\n",
       "    <tr>\n",
       "      <th>max</th>\n",
       "      <td>20.0</td>\n",
       "      <td>401755.400475</td>\n",
       "      <td>75.0</td>\n",
       "      <td>4.0</td>\n",
       "      <td>4.0</td>\n",
       "      <td>1.0</td>\n",
       "      <td>362496.645</td>\n",
       "    </tr>\n",
       "  </tbody>\n",
       "</table>\n",
       "</div>"
      ],
      "text/plain": [
       "     children  days_employed   age  education_id  family_status_id  debt  \\\n",
       "min      -1.0  -18388.949901   0.0           0.0               0.0   0.0   \n",
       "max      20.0  401755.400475  75.0           4.0               4.0   1.0   \n",
       "\n",
       "     total_income  \n",
       "min      3306.762  \n",
       "max    362496.645  "
      ]
     },
     "execution_count": 224,
     "metadata": {},
     "output_type": "execute_result"
    }
   ],
   "source": [
    "df.describe().loc[['min','max'],:]"
   ]
  },
  {
   "cell_type": "markdown",
   "id": "1068d24d",
   "metadata": {},
   "source": [
    "#### problems:\n",
    "    * negative number of children - solution: we would turn it to 0.\n",
    "    * (the maximum number of children, 20, is strange too. we will deal with it later).\n",
    "    * negative and fractional number of days_employed.\n",
    "    * 0 value in the age of the costumer -maybe it happend because someone put 0 instead of null.  \n",
    "      solution: we would replace it with the median, because the median less affected from extreme values. \n",
    "      we will do it to every value less than 18 in the age category.\n",
    "    * another problem is the huge number in \"days_employed\" - the max number here is 401755 days, \n",
    "      which means this man worked above 1000 years :)"
   ]
  },
  {
   "cell_type": "markdown",
   "id": "114eeb9a",
   "metadata": {},
   "source": [
    "#### first lets check how much incorrect values we have in the age column (i take 18 as the age someone could get a loan):"
   ]
  },
  {
   "cell_type": "code",
   "execution_count": 225,
   "id": "0188f927",
   "metadata": {},
   "outputs": [
    {
     "data": {
      "text/plain": [
       "101"
      ]
     },
     "execution_count": 225,
     "metadata": {},
     "output_type": "execute_result"
    }
   ],
   "source": [
    "(df.loc[:,'age']<=18).sum()"
   ]
  },
  {
   "cell_type": "markdown",
   "id": "81b5da13",
   "metadata": {},
   "source": [
    "#### because it's only 101 from above 21000 rows, i let myself use the madian value to replace the non correct age values:"
   ]
  },
  {
   "cell_type": "code",
   "execution_count": 226,
   "id": "0633492c",
   "metadata": {},
   "outputs": [],
   "source": [
    "df.loc[:,'age'] = df.loc[:,'age'].apply(lambda x: df['age'].median() if x<18 else x)"
   ]
  },
  {
   "cell_type": "markdown",
   "id": "c1c47b70",
   "metadata": {},
   "source": [
    "<div class=\"alert alert-warning\" style=\"border-radius: 15px; box-shadow: 4px 4px 4px; border: 1px solid \">\n",
    "<b> Reviewer's comment</b>\n",
    "    \n",
    "\n",
    "Fortunately, there are only 101 values. If we had more, it would not be a good idea to replace them with the median. The median age is about 40, right? So we can receive 100 40 years old students or 100 40 years old employees with a few months of job experience. It may cause some questions. \n",
    "    \n",
    "    \n",
    "**A piece of advice:** before replacing values with median or whatever, make sure that they arose accidentally. Sometimes Nan-s and outliers carry important information. \n",
    "\n",
    "</div>"
   ]
  },
  {
   "cell_type": "markdown",
   "id": "067c6a01",
   "metadata": {},
   "source": [
    "\n",
    "\n",
    "<div class=\"alert alert-info\" style=\"border-radius: 15px; box-shadow: 4px 4px 4px; border: 1px solid \">\n",
    "<h2> Student's comment</h2>\n",
    "\n",
    "good advice!\n",
    "</div>"
   ]
  },
  {
   "cell_type": "markdown",
   "id": "7bd4e682",
   "metadata": {},
   "source": [
    "#### lets fix the children numbers:"
   ]
  },
  {
   "cell_type": "code",
   "execution_count": 227,
   "id": "93d3c4a5",
   "metadata": {},
   "outputs": [],
   "source": [
    "df.loc[:,'children'] = df['children'].apply(lambda x: 0 if x<0 else x)"
   ]
  },
  {
   "cell_type": "code",
   "execution_count": 228,
   "id": "a0b8d16f",
   "metadata": {},
   "outputs": [
    {
     "data": {
      "text/html": [
       "<div>\n",
       "<style scoped>\n",
       "    .dataframe tbody tr th:only-of-type {\n",
       "        vertical-align: middle;\n",
       "    }\n",
       "\n",
       "    .dataframe tbody tr th {\n",
       "        vertical-align: top;\n",
       "    }\n",
       "\n",
       "    .dataframe thead th {\n",
       "        text-align: right;\n",
       "    }\n",
       "</style>\n",
       "<table border=\"1\" class=\"dataframe\">\n",
       "  <thead>\n",
       "    <tr style=\"text-align: right;\">\n",
       "      <th></th>\n",
       "      <th>children</th>\n",
       "      <th>days_employed</th>\n",
       "      <th>age</th>\n",
       "      <th>education_id</th>\n",
       "      <th>family_status_id</th>\n",
       "      <th>debt</th>\n",
       "      <th>total_income</th>\n",
       "    </tr>\n",
       "  </thead>\n",
       "  <tbody>\n",
       "    <tr>\n",
       "      <th>min</th>\n",
       "      <td>0.0</td>\n",
       "      <td>-18388.949901</td>\n",
       "      <td>19.0</td>\n",
       "      <td>0.0</td>\n",
       "      <td>0.0</td>\n",
       "      <td>0.0</td>\n",
       "      <td>3306.762</td>\n",
       "    </tr>\n",
       "    <tr>\n",
       "      <th>max</th>\n",
       "      <td>20.0</td>\n",
       "      <td>401755.400475</td>\n",
       "      <td>75.0</td>\n",
       "      <td>4.0</td>\n",
       "      <td>4.0</td>\n",
       "      <td>1.0</td>\n",
       "      <td>362496.645</td>\n",
       "    </tr>\n",
       "  </tbody>\n",
       "</table>\n",
       "</div>"
      ],
      "text/plain": [
       "     children  days_employed   age  education_id  family_status_id  debt  \\\n",
       "min       0.0  -18388.949901  19.0           0.0               0.0   0.0   \n",
       "max      20.0  401755.400475  75.0           4.0               4.0   1.0   \n",
       "\n",
       "     total_income  \n",
       "min      3306.762  \n",
       "max    362496.645  "
      ]
     },
     "execution_count": 228,
     "metadata": {},
     "output_type": "execute_result"
    }
   ],
   "source": [
    "df.describe().loc[['min','max'],:]"
   ]
  },
  {
   "cell_type": "markdown",
   "id": "b33d4966",
   "metadata": {},
   "source": [
    "### lets fix the negative values in \"days employed\":"
   ]
  },
  {
   "cell_type": "markdown",
   "id": "d83b7365",
   "metadata": {},
   "source": [
    "#### why there are negative values in days? \n",
    "    * my hypothesis is that there was made a calculation on the days column, maybe kind of \"normalization\". it's explains the fractional values and the negative values. \n",
    "    * maybe there was a similar calculation on the income column, that's explains the fractional values there too.\n"
   ]
  },
  {
   "cell_type": "markdown",
   "id": "9ffec45b",
   "metadata": {},
   "source": [
    "<div class=\"alert alert-success\" style=\"border-radius: 15px; box-shadow: 4px 4px 4px; border: 1px solid \">\n",
    "<b> Reviewer's comment</b>\n",
    "    \n",
    "\n",
    "Good thoughts. It could also be a dash instead of minus. \n",
    "</div>\n",
    "\n",
    "<div class=\"alert alert-danger\" style=\"border-radius: 15px; box-shadow: 4px 4px 4px; border: 1px solid \">\n",
    "<b> Reviewer's comment</b>\n",
    "    \n",
    "\n",
    "What do you think about the huge values in `days_employed` column? Could you give an answer?\n",
    "</div>"
   ]
  },
  {
   "cell_type": "markdown",
   "id": "4354921a",
   "metadata": {},
   "source": [
    "\n",
    "\n",
    "<div class=\"alert alert-info\" style=\"border-radius: 15px; box-shadow: 4px 4px 4px; border: 1px solid \">\n",
    "<h2> Student's comment</h2>\n",
    "\n",
    "You right! i added section below.\n",
    "</div>"
   ]
  },
  {
   "cell_type": "markdown",
   "id": "752082cb",
   "metadata": {},
   "source": [
    "#### I dont know exactly what calculation it was, anyway I would try to turn all the days to their absolute values, this is my best guess to fix it."
   ]
  },
  {
   "cell_type": "code",
   "execution_count": 229,
   "id": "c07a539a",
   "metadata": {},
   "outputs": [
    {
     "data": {
      "text/html": [
       "<div>\n",
       "<style scoped>\n",
       "    .dataframe tbody tr th:only-of-type {\n",
       "        vertical-align: middle;\n",
       "    }\n",
       "\n",
       "    .dataframe tbody tr th {\n",
       "        vertical-align: top;\n",
       "    }\n",
       "\n",
       "    .dataframe thead th {\n",
       "        text-align: right;\n",
       "    }\n",
       "</style>\n",
       "<table border=\"1\" class=\"dataframe\">\n",
       "  <thead>\n",
       "    <tr style=\"text-align: right;\">\n",
       "      <th></th>\n",
       "      <th>children</th>\n",
       "      <th>days_employed</th>\n",
       "      <th>age</th>\n",
       "      <th>education</th>\n",
       "      <th>education_id</th>\n",
       "      <th>family_status</th>\n",
       "      <th>family_status_id</th>\n",
       "      <th>gender</th>\n",
       "      <th>income_type</th>\n",
       "      <th>debt</th>\n",
       "      <th>total_income</th>\n",
       "      <th>purpose</th>\n",
       "    </tr>\n",
       "  </thead>\n",
       "  <tbody>\n",
       "    <tr>\n",
       "      <th>0</th>\n",
       "      <td>1</td>\n",
       "      <td>8437.673028</td>\n",
       "      <td>42.0</td>\n",
       "      <td>bachelor's degree</td>\n",
       "      <td>0</td>\n",
       "      <td>married</td>\n",
       "      <td>0</td>\n",
       "      <td>F</td>\n",
       "      <td>employee</td>\n",
       "      <td>0</td>\n",
       "      <td>40620.102</td>\n",
       "      <td>purchase of the house</td>\n",
       "    </tr>\n",
       "    <tr>\n",
       "      <th>1</th>\n",
       "      <td>1</td>\n",
       "      <td>4024.803754</td>\n",
       "      <td>36.0</td>\n",
       "      <td>secondary education</td>\n",
       "      <td>1</td>\n",
       "      <td>married</td>\n",
       "      <td>0</td>\n",
       "      <td>F</td>\n",
       "      <td>employee</td>\n",
       "      <td>0</td>\n",
       "      <td>17932.802</td>\n",
       "      <td>car purchase</td>\n",
       "    </tr>\n",
       "    <tr>\n",
       "      <th>2</th>\n",
       "      <td>0</td>\n",
       "      <td>5623.422610</td>\n",
       "      <td>33.0</td>\n",
       "      <td>Secondary Education</td>\n",
       "      <td>1</td>\n",
       "      <td>married</td>\n",
       "      <td>0</td>\n",
       "      <td>M</td>\n",
       "      <td>employee</td>\n",
       "      <td>0</td>\n",
       "      <td>23341.752</td>\n",
       "      <td>purchase of the house</td>\n",
       "    </tr>\n",
       "    <tr>\n",
       "      <th>3</th>\n",
       "      <td>3</td>\n",
       "      <td>4124.747207</td>\n",
       "      <td>32.0</td>\n",
       "      <td>secondary education</td>\n",
       "      <td>1</td>\n",
       "      <td>married</td>\n",
       "      <td>0</td>\n",
       "      <td>M</td>\n",
       "      <td>employee</td>\n",
       "      <td>0</td>\n",
       "      <td>42820.568</td>\n",
       "      <td>supplementary education</td>\n",
       "    </tr>\n",
       "    <tr>\n",
       "      <th>4</th>\n",
       "      <td>0</td>\n",
       "      <td>340266.072047</td>\n",
       "      <td>53.0</td>\n",
       "      <td>secondary education</td>\n",
       "      <td>1</td>\n",
       "      <td>civil partnership</td>\n",
       "      <td>1</td>\n",
       "      <td>F</td>\n",
       "      <td>retiree</td>\n",
       "      <td>0</td>\n",
       "      <td>25378.572</td>\n",
       "      <td>to have a wedding</td>\n",
       "    </tr>\n",
       "  </tbody>\n",
       "</table>\n",
       "</div>"
      ],
      "text/plain": [
       "   children  days_employed   age            education  education_id  \\\n",
       "0         1    8437.673028  42.0    bachelor's degree             0   \n",
       "1         1    4024.803754  36.0  secondary education             1   \n",
       "2         0    5623.422610  33.0  Secondary Education             1   \n",
       "3         3    4124.747207  32.0  secondary education             1   \n",
       "4         0  340266.072047  53.0  secondary education             1   \n",
       "\n",
       "       family_status  family_status_id gender income_type  debt  total_income  \\\n",
       "0            married                 0      F    employee     0     40620.102   \n",
       "1            married                 0      F    employee     0     17932.802   \n",
       "2            married                 0      M    employee     0     23341.752   \n",
       "3            married                 0      M    employee     0     42820.568   \n",
       "4  civil partnership                 1      F     retiree     0     25378.572   \n",
       "\n",
       "                   purpose  \n",
       "0    purchase of the house  \n",
       "1             car purchase  \n",
       "2    purchase of the house  \n",
       "3  supplementary education  \n",
       "4        to have a wedding  "
      ]
     },
     "execution_count": 229,
     "metadata": {},
     "output_type": "execute_result"
    }
   ],
   "source": [
    "df['days_employed'] = df['days_employed'].abs()\n",
    "df.head()"
   ]
  },
  {
   "cell_type": "markdown",
   "id": "c59b7e20",
   "metadata": {},
   "source": [
    "<div class=\"alert alert-success\" style=\"border-radius: 15px; box-shadow: 4px 4px 4px; border: 1px solid \">\n",
    "<b> Reviewer's comment</b>\n",
    "    \n",
    "\n",
    "It's a good guess as they seem to be normal apart from these minuses.\n",
    "</div>"
   ]
  },
  {
   "cell_type": "markdown",
   "id": "a8cffdbf",
   "metadata": {},
   "source": [
    "### lets fix the huge numbers in \"days employed\""
   ]
  },
  {
   "cell_type": "markdown",
   "id": "262f09c8",
   "metadata": {},
   "source": [
    "I haven't any idea what is the cause of this huge numbers (as i said before, maybe there was a kind of calculation on this column).\n",
    "anyway, i would confine the maximum days:\n",
    "there are like 260 days of work in a year, i will take the maximum years of work to 60. \n",
    "that's means 260*60 =15600 maximum days."
   ]
  },
  {
   "cell_type": "markdown",
   "id": "6427cd73",
   "metadata": {},
   "source": [
    "<div class=\"alert alert-success\" style=\"border-radius: 15px; box-shadow: 4px 4px 4px; border: 1px solid \">\n",
    "<b> Reviewer's comment 2</b>\n",
    "    \n",
    "\n",
    "I have two hypotheses: these values represent hours or we deal with missing values that transformed into anomalies when the table was downloaded/merged. Such a big value (300000) can denote infinity in days variables in the datasets. XNA/XAP can also denote NA values. \n",
    "</div>\n"
   ]
  },
  {
   "cell_type": "code",
   "execution_count": 230,
   "id": "e721741e",
   "metadata": {},
   "outputs": [],
   "source": [
    "df['days_employed'] = df['days_employed'].apply(lambda x: 15600 if x>15600 else x)"
   ]
  },
  {
   "cell_type": "code",
   "execution_count": 231,
   "id": "8c3eda24",
   "metadata": {},
   "outputs": [
    {
     "data": {
      "text/html": [
       "<div>\n",
       "<style scoped>\n",
       "    .dataframe tbody tr th:only-of-type {\n",
       "        vertical-align: middle;\n",
       "    }\n",
       "\n",
       "    .dataframe tbody tr th {\n",
       "        vertical-align: top;\n",
       "    }\n",
       "\n",
       "    .dataframe thead th {\n",
       "        text-align: right;\n",
       "    }\n",
       "</style>\n",
       "<table border=\"1\" class=\"dataframe\">\n",
       "  <thead>\n",
       "    <tr style=\"text-align: right;\">\n",
       "      <th></th>\n",
       "      <th>children</th>\n",
       "      <th>days_employed</th>\n",
       "      <th>age</th>\n",
       "      <th>education_id</th>\n",
       "      <th>family_status_id</th>\n",
       "      <th>debt</th>\n",
       "      <th>total_income</th>\n",
       "    </tr>\n",
       "  </thead>\n",
       "  <tbody>\n",
       "    <tr>\n",
       "      <th>min</th>\n",
       "      <td>0.0</td>\n",
       "      <td>24.141633</td>\n",
       "      <td>19.0</td>\n",
       "      <td>0.0</td>\n",
       "      <td>0.0</td>\n",
       "      <td>0.0</td>\n",
       "      <td>3306.762</td>\n",
       "    </tr>\n",
       "    <tr>\n",
       "      <th>max</th>\n",
       "      <td>20.0</td>\n",
       "      <td>15600.000000</td>\n",
       "      <td>75.0</td>\n",
       "      <td>4.0</td>\n",
       "      <td>4.0</td>\n",
       "      <td>1.0</td>\n",
       "      <td>362496.645</td>\n",
       "    </tr>\n",
       "  </tbody>\n",
       "</table>\n",
       "</div>"
      ],
      "text/plain": [
       "     children  days_employed   age  education_id  family_status_id  debt  \\\n",
       "min       0.0      24.141633  19.0           0.0               0.0   0.0   \n",
       "max      20.0   15600.000000  75.0           4.0               4.0   1.0   \n",
       "\n",
       "     total_income  \n",
       "min      3306.762  \n",
       "max    362496.645  "
      ]
     },
     "execution_count": 231,
     "metadata": {},
     "output_type": "execute_result"
    }
   ],
   "source": [
    "df.describe().loc[['min','max'],:]"
   ]
  },
  {
   "cell_type": "markdown",
   "id": "2e99708f",
   "metadata": {},
   "source": [
    "## Lowercase Strings"
   ]
  },
  {
   "cell_type": "markdown",
   "id": "da80d047",
   "metadata": {},
   "source": [
    "### there are some cases in the dataset of lower-upper case problems, like in the \"education\" column:"
   ]
  },
  {
   "cell_type": "code",
   "execution_count": 232,
   "id": "1c4604f7",
   "metadata": {},
   "outputs": [
    {
     "data": {
      "text/plain": [
       "secondary education    13750\n",
       "bachelor's degree       4718\n",
       "SECONDARY EDUCATION      772\n",
       "Secondary Education      711\n",
       "some college             668\n",
       "BACHELOR'S DEGREE        274\n",
       "Bachelor's Degree        268\n",
       "primary education        250\n",
       "Some College              47\n",
       "SOME COLLEGE              29\n",
       "PRIMARY EDUCATION         17\n",
       "Primary Education         15\n",
       "graduate degree            4\n",
       "Graduate Degree            1\n",
       "GRADUATE DEGREE            1\n",
       "Name: education, dtype: int64"
      ]
     },
     "execution_count": 232,
     "metadata": {},
     "output_type": "execute_result"
    }
   ],
   "source": [
    "df.education.value_counts()"
   ]
  },
  {
   "cell_type": "markdown",
   "id": "2680b949",
   "metadata": {},
   "source": [
    "### so, before we remove duplicates or anything else, we will make all the dataframe lowercase.\n",
    "(I don't see here \"case sensitive\" data, so i could do it)"
   ]
  },
  {
   "cell_type": "code",
   "execution_count": 233,
   "id": "e131a6b0",
   "metadata": {},
   "outputs": [],
   "source": [
    "from pandas.api.types import is_string_dtype\n",
    "\n",
    "for column in df.columns:\n",
    "    if is_string_dtype(df[column]):\n",
    "        df[column] = df[column].str.lower() "
   ]
  },
  {
   "cell_type": "markdown",
   "id": "1dc565aa",
   "metadata": {},
   "source": [
    "### lets check it:"
   ]
  },
  {
   "cell_type": "code",
   "execution_count": 234,
   "id": "c7f6d212",
   "metadata": {},
   "outputs": [
    {
     "data": {
      "text/plain": [
       "secondary education    15233\n",
       "bachelor's degree       5260\n",
       "some college             744\n",
       "primary education        282\n",
       "graduate degree            6\n",
       "Name: education, dtype: int64"
      ]
     },
     "execution_count": 234,
     "metadata": {},
     "output_type": "execute_result"
    }
   ],
   "source": [
    "df.education.value_counts()"
   ]
  },
  {
   "cell_type": "markdown",
   "id": "1e64e761",
   "metadata": {},
   "source": [
    "### great !"
   ]
  },
  {
   "cell_type": "markdown",
   "id": "d0cce1ea",
   "metadata": {},
   "source": [
    "## Delete duplicate data"
   ]
  },
  {
   "cell_type": "markdown",
   "id": "7c88fea3",
   "metadata": {},
   "source": [
    "#### Possible reasons why duplicate data was present\n",
    "    * human error\n",
    "    * customers providing information at different points in time\n",
    "    * combining two sources of data"
   ]
  },
  {
   "cell_type": "markdown",
   "id": "38c9ec3f",
   "metadata": {},
   "source": [
    "### the possiboility that duplicated rows are not of the same loaner in our dataset is very low (because the exact return of so many features) so we could remove the duplicated rows now. "
   ]
  },
  {
   "cell_type": "markdown",
   "id": "f10e2201",
   "metadata": {},
   "source": [
    "#### lets see how much duplicated rows we have:"
   ]
  },
  {
   "cell_type": "markdown",
   "id": "0971c597",
   "metadata": {},
   "source": [
    "#### we will check and delete only if all the row is duplicated, because if only part of the row is duplicated it's not indicates on wrong data."
   ]
  },
  {
   "cell_type": "code",
   "execution_count": 235,
   "id": "1ec121e9",
   "metadata": {},
   "outputs": [
    {
     "data": {
      "text/plain": [
       "72"
      ]
     },
     "execution_count": 235,
     "metadata": {},
     "output_type": "execute_result"
    }
   ],
   "source": [
    "df.duplicated().sum()"
   ]
  },
  {
   "cell_type": "markdown",
   "id": "13ad2edf",
   "metadata": {},
   "source": [
    "<div class=\"alert alert-danger\" style=\"border-radius: 15px; box-shadow: 4px 4px 4px; border: 1px solid \">\n",
    "<b> Reviewer's comment</b>\n",
    "    \n",
    "\n",
    "It makes sense to lowercase the strings first.\n",
    "</div>"
   ]
  },
  {
   "cell_type": "markdown",
   "id": "a6e3fb10",
   "metadata": {},
   "source": [
    "\n",
    "\n",
    "<div class=\"alert alert-info\" style=\"border-radius: 15px; box-shadow: 4px 4px 4px; border: 1px solid \">\n",
    "<h2> Student's comment</h2>\n",
    "\n",
    "You right! i did it now.\n",
    "</div>"
   ]
  },
  {
   "cell_type": "markdown",
   "id": "337e41cb",
   "metadata": {},
   "source": [
    "<div class=\"alert alert-success\" style=\"border-radius: 15px; box-shadow: 4px 4px 4px; border: 1px solid \">\n",
    "<b> Reviewer's comment 2</b>\n",
    "    \n",
    "\n",
    "Good 👍 \n",
    "</div>"
   ]
  },
  {
   "cell_type": "markdown",
   "id": "6c19aef7",
   "metadata": {},
   "source": [
    "#### lets drop them and reset the index:"
   ]
  },
  {
   "cell_type": "code",
   "execution_count": 236,
   "id": "5d0565d0",
   "metadata": {},
   "outputs": [
    {
     "data": {
      "text/html": [
       "<div>\n",
       "<style scoped>\n",
       "    .dataframe tbody tr th:only-of-type {\n",
       "        vertical-align: middle;\n",
       "    }\n",
       "\n",
       "    .dataframe tbody tr th {\n",
       "        vertical-align: top;\n",
       "    }\n",
       "\n",
       "    .dataframe thead th {\n",
       "        text-align: right;\n",
       "    }\n",
       "</style>\n",
       "<table border=\"1\" class=\"dataframe\">\n",
       "  <thead>\n",
       "    <tr style=\"text-align: right;\">\n",
       "      <th></th>\n",
       "      <th>children</th>\n",
       "      <th>days_employed</th>\n",
       "      <th>age</th>\n",
       "      <th>education</th>\n",
       "      <th>education_id</th>\n",
       "      <th>family_status</th>\n",
       "      <th>family_status_id</th>\n",
       "      <th>gender</th>\n",
       "      <th>income_type</th>\n",
       "      <th>debt</th>\n",
       "      <th>total_income</th>\n",
       "      <th>purpose</th>\n",
       "    </tr>\n",
       "  </thead>\n",
       "  <tbody>\n",
       "    <tr>\n",
       "      <th>0</th>\n",
       "      <td>1</td>\n",
       "      <td>8437.673028</td>\n",
       "      <td>42.0</td>\n",
       "      <td>bachelor's degree</td>\n",
       "      <td>0</td>\n",
       "      <td>married</td>\n",
       "      <td>0</td>\n",
       "      <td>f</td>\n",
       "      <td>employee</td>\n",
       "      <td>0</td>\n",
       "      <td>40620.102</td>\n",
       "      <td>purchase of the house</td>\n",
       "    </tr>\n",
       "    <tr>\n",
       "      <th>1</th>\n",
       "      <td>1</td>\n",
       "      <td>4024.803754</td>\n",
       "      <td>36.0</td>\n",
       "      <td>secondary education</td>\n",
       "      <td>1</td>\n",
       "      <td>married</td>\n",
       "      <td>0</td>\n",
       "      <td>f</td>\n",
       "      <td>employee</td>\n",
       "      <td>0</td>\n",
       "      <td>17932.802</td>\n",
       "      <td>car purchase</td>\n",
       "    </tr>\n",
       "    <tr>\n",
       "      <th>2</th>\n",
       "      <td>0</td>\n",
       "      <td>5623.422610</td>\n",
       "      <td>33.0</td>\n",
       "      <td>secondary education</td>\n",
       "      <td>1</td>\n",
       "      <td>married</td>\n",
       "      <td>0</td>\n",
       "      <td>m</td>\n",
       "      <td>employee</td>\n",
       "      <td>0</td>\n",
       "      <td>23341.752</td>\n",
       "      <td>purchase of the house</td>\n",
       "    </tr>\n",
       "    <tr>\n",
       "      <th>3</th>\n",
       "      <td>3</td>\n",
       "      <td>4124.747207</td>\n",
       "      <td>32.0</td>\n",
       "      <td>secondary education</td>\n",
       "      <td>1</td>\n",
       "      <td>married</td>\n",
       "      <td>0</td>\n",
       "      <td>m</td>\n",
       "      <td>employee</td>\n",
       "      <td>0</td>\n",
       "      <td>42820.568</td>\n",
       "      <td>supplementary education</td>\n",
       "    </tr>\n",
       "    <tr>\n",
       "      <th>4</th>\n",
       "      <td>0</td>\n",
       "      <td>15600.000000</td>\n",
       "      <td>53.0</td>\n",
       "      <td>secondary education</td>\n",
       "      <td>1</td>\n",
       "      <td>civil partnership</td>\n",
       "      <td>1</td>\n",
       "      <td>f</td>\n",
       "      <td>retiree</td>\n",
       "      <td>0</td>\n",
       "      <td>25378.572</td>\n",
       "      <td>to have a wedding</td>\n",
       "    </tr>\n",
       "    <tr>\n",
       "      <th>...</th>\n",
       "      <td>...</td>\n",
       "      <td>...</td>\n",
       "      <td>...</td>\n",
       "      <td>...</td>\n",
       "      <td>...</td>\n",
       "      <td>...</td>\n",
       "      <td>...</td>\n",
       "      <td>...</td>\n",
       "      <td>...</td>\n",
       "      <td>...</td>\n",
       "      <td>...</td>\n",
       "      <td>...</td>\n",
       "    </tr>\n",
       "    <tr>\n",
       "      <th>21448</th>\n",
       "      <td>1</td>\n",
       "      <td>4529.316663</td>\n",
       "      <td>43.0</td>\n",
       "      <td>secondary education</td>\n",
       "      <td>1</td>\n",
       "      <td>civil partnership</td>\n",
       "      <td>1</td>\n",
       "      <td>f</td>\n",
       "      <td>business</td>\n",
       "      <td>0</td>\n",
       "      <td>35966.698</td>\n",
       "      <td>housing transactions</td>\n",
       "    </tr>\n",
       "    <tr>\n",
       "      <th>21449</th>\n",
       "      <td>0</td>\n",
       "      <td>15600.000000</td>\n",
       "      <td>67.0</td>\n",
       "      <td>secondary education</td>\n",
       "      <td>1</td>\n",
       "      <td>married</td>\n",
       "      <td>0</td>\n",
       "      <td>f</td>\n",
       "      <td>retiree</td>\n",
       "      <td>0</td>\n",
       "      <td>24959.969</td>\n",
       "      <td>purchase of a car</td>\n",
       "    </tr>\n",
       "    <tr>\n",
       "      <th>21450</th>\n",
       "      <td>1</td>\n",
       "      <td>2113.346888</td>\n",
       "      <td>38.0</td>\n",
       "      <td>secondary education</td>\n",
       "      <td>1</td>\n",
       "      <td>civil partnership</td>\n",
       "      <td>1</td>\n",
       "      <td>m</td>\n",
       "      <td>employee</td>\n",
       "      <td>1</td>\n",
       "      <td>14347.610</td>\n",
       "      <td>property</td>\n",
       "    </tr>\n",
       "    <tr>\n",
       "      <th>21451</th>\n",
       "      <td>3</td>\n",
       "      <td>3112.481705</td>\n",
       "      <td>38.0</td>\n",
       "      <td>secondary education</td>\n",
       "      <td>1</td>\n",
       "      <td>married</td>\n",
       "      <td>0</td>\n",
       "      <td>m</td>\n",
       "      <td>employee</td>\n",
       "      <td>1</td>\n",
       "      <td>39054.888</td>\n",
       "      <td>buying my own car</td>\n",
       "    </tr>\n",
       "    <tr>\n",
       "      <th>21452</th>\n",
       "      <td>2</td>\n",
       "      <td>1984.507589</td>\n",
       "      <td>40.0</td>\n",
       "      <td>secondary education</td>\n",
       "      <td>1</td>\n",
       "      <td>married</td>\n",
       "      <td>0</td>\n",
       "      <td>f</td>\n",
       "      <td>employee</td>\n",
       "      <td>0</td>\n",
       "      <td>13127.587</td>\n",
       "      <td>to buy a car</td>\n",
       "    </tr>\n",
       "  </tbody>\n",
       "</table>\n",
       "<p>21453 rows × 12 columns</p>\n",
       "</div>"
      ],
      "text/plain": [
       "       children  days_employed   age            education  education_id  \\\n",
       "0             1    8437.673028  42.0    bachelor's degree             0   \n",
       "1             1    4024.803754  36.0  secondary education             1   \n",
       "2             0    5623.422610  33.0  secondary education             1   \n",
       "3             3    4124.747207  32.0  secondary education             1   \n",
       "4             0   15600.000000  53.0  secondary education             1   \n",
       "...         ...            ...   ...                  ...           ...   \n",
       "21448         1    4529.316663  43.0  secondary education             1   \n",
       "21449         0   15600.000000  67.0  secondary education             1   \n",
       "21450         1    2113.346888  38.0  secondary education             1   \n",
       "21451         3    3112.481705  38.0  secondary education             1   \n",
       "21452         2    1984.507589  40.0  secondary education             1   \n",
       "\n",
       "           family_status  family_status_id gender income_type  debt  \\\n",
       "0                married                 0      f    employee     0   \n",
       "1                married                 0      f    employee     0   \n",
       "2                married                 0      m    employee     0   \n",
       "3                married                 0      m    employee     0   \n",
       "4      civil partnership                 1      f     retiree     0   \n",
       "...                  ...               ...    ...         ...   ...   \n",
       "21448  civil partnership                 1      f    business     0   \n",
       "21449            married                 0      f     retiree     0   \n",
       "21450  civil partnership                 1      m    employee     1   \n",
       "21451            married                 0      m    employee     1   \n",
       "21452            married                 0      f    employee     0   \n",
       "\n",
       "       total_income                  purpose  \n",
       "0         40620.102    purchase of the house  \n",
       "1         17932.802             car purchase  \n",
       "2         23341.752    purchase of the house  \n",
       "3         42820.568  supplementary education  \n",
       "4         25378.572        to have a wedding  \n",
       "...             ...                      ...  \n",
       "21448     35966.698     housing transactions  \n",
       "21449     24959.969        purchase of a car  \n",
       "21450     14347.610                 property  \n",
       "21451     39054.888        buying my own car  \n",
       "21452     13127.587             to buy a car  \n",
       "\n",
       "[21453 rows x 12 columns]"
      ]
     },
     "execution_count": 236,
     "metadata": {},
     "output_type": "execute_result"
    }
   ],
   "source": [
    "df = df.drop_duplicates()\n",
    "df = df.reset_index(drop=True)\n",
    "df"
   ]
  },
  {
   "cell_type": "markdown",
   "id": "bd903fc8",
   "metadata": {},
   "source": [
    "### Identify and fill in missing values"
   ]
  },
  {
   "cell_type": "markdown",
   "id": "5ee1bd6c",
   "metadata": {},
   "source": [
    "#### lets check the columns for missing values:"
   ]
  },
  {
   "cell_type": "code",
   "execution_count": 237,
   "id": "95df8431",
   "metadata": {},
   "outputs": [
    {
     "data": {
      "text/plain": [
       "children               0\n",
       "days_employed       2102\n",
       "age                    0\n",
       "education              0\n",
       "education_id           0\n",
       "family_status          0\n",
       "family_status_id       0\n",
       "gender                 0\n",
       "income_type            0\n",
       "debt                   0\n",
       "total_income        2102\n",
       "purpose                0\n",
       "dtype: int64"
      ]
     },
     "execution_count": 237,
     "metadata": {},
     "output_type": "execute_result"
    }
   ],
   "source": [
    "df.isnull().sum()"
   ]
  },
  {
   "cell_type": "markdown",
   "id": "d68078c1",
   "metadata": {},
   "source": [
    "#### in 'days_employed' and 'total_income' there are both 2102 null values. lets see if the null values are in the same rows in the both columns:"
   ]
  },
  {
   "cell_type": "code",
   "execution_count": 238,
   "id": "f7a40401",
   "metadata": {},
   "outputs": [
    {
     "data": {
      "text/plain": [
       "2102"
      ]
     },
     "execution_count": 238,
     "metadata": {},
     "output_type": "execute_result"
    }
   ],
   "source": [
    "len(df[(df['days_employed'].isna()) & (df['total_income'].isna())])"
   ]
  },
  {
   "cell_type": "markdown",
   "id": "dc93be90",
   "metadata": {},
   "source": [
    "#### the answer 2102 says that the missing values in both columns are in the same rows! "
   ]
  },
  {
   "cell_type": "markdown",
   "id": "24be8bdd",
   "metadata": {},
   "source": [
    "#### Intresting: there where 2174 null values before, but when we removed duplicates, the number reduced to 2102. all the 72 duplicted rows had null values too! "
   ]
  },
  {
   "cell_type": "markdown",
   "id": "1885c86a",
   "metadata": {},
   "source": [
    "<div class=\"alert alert-success\" style=\"border-radius: 15px; box-shadow: 4px 4px 4px; border: 1px solid \">\n",
    "<b> Reviewer's comment</b>\n",
    "    \n",
    "\n",
    "That's a good observation.\n",
    "</div>"
   ]
  },
  {
   "cell_type": "markdown",
   "id": "d0692cba",
   "metadata": {},
   "source": [
    "### Possible reason these missing values were present is that there was a combinining of two data sets\n",
    "    * the fact that the data is missing on both columns on the same rows is reinforces this hypothesis.  \n",
    "    * second, the fact that all the duplicated rows we removed had missing values too, reinforces this \n",
    "    hypothesis.all that missing and duplicated data came from the same source.\n"
   ]
  },
  {
   "cell_type": "markdown",
   "id": "cab96392",
   "metadata": {},
   "source": [
    "<div class=\"alert alert-success\" style=\"border-radius: 15px; box-shadow: 4px 4px 4px; border: 1px solid \">\n",
    "<b> Reviewer's comment</b>\n",
    "    \n",
    "\n",
    "I like this idea. It can also explain such a difference between values in the `days_employed` column.\n",
    "</div>"
   ]
  },
  {
   "cell_type": "markdown",
   "id": "be84b8ac",
   "metadata": {},
   "source": [
    "#### we could deal with the missing values in two ways:\n",
    "#### delete the rows with the missing values or fill in.\n",
    "#### we choose to fill in.\n",
    "#### we would fill the values according to 2-3 characteristics of the client, like income type, education, and age group.\n",
    "#### first lets create new column \"age group\". first we will see visualy how the age column divided:\n"
   ]
  },
  {
   "cell_type": "code",
   "execution_count": 239,
   "id": "54811378",
   "metadata": {},
   "outputs": [
    {
     "data": {
      "image/png": "[encoded data removed]",
      "text/plain": [
       "<Figure size 576x360 with 1 Axes>"
      ]
     },
     "metadata": {
      "needs_background": "light"
     },
     "output_type": "display_data"
    }
   ],
   "source": [
    "import matplotlib.pyplot as plt\n",
    "\n",
    "fig,axes = plt.subplots(nrows=1, ncols=1,figsize=(8,5));\n",
    "axes.hist(df['age'],bins=60);\n",
    "axes.set_xlabel('age');\n",
    "axes.set_ylabel('count');\n",
    "axes.set_title('Age histogram');"
   ]
  },
  {
   "cell_type": "markdown",
   "id": "2c521dd8",
   "metadata": {},
   "source": [
    "### these white lines are strange but in general it's roughly the normal distribution.\n",
    "### we will devide to 4 age groups [19-30,30-45,45-60,60+]\n"
   ]
  },
  {
   "cell_type": "code",
   "execution_count": 240,
   "id": "02550975",
   "metadata": {},
   "outputs": [],
   "source": [
    "df['age_group']=pd.cut(df['age'], bins=  [18,30,45,60,120], include_lowest=True, labels=['19-30 yo', '30-45 yo', '45-60 yo','60+yo'])"
   ]
  },
  {
   "cell_type": "markdown",
   "id": "1272b993",
   "metadata": {},
   "source": [
    "<div class=\"alert alert-success\" style=\"border-radius: 15px; box-shadow: 4px 4px 4px; border: 1px solid \">\n",
    "<h2> Reviewer's comment 3</h2>\n",
    "    \n",
    "Good solution 👍\n",
    "</div>"
   ]
  },
  {
   "cell_type": "code",
   "execution_count": 241,
   "id": "69c65165",
   "metadata": {},
   "outputs": [
    {
     "data": {
      "text/html": [
       "<div>\n",
       "<style scoped>\n",
       "    .dataframe tbody tr th:only-of-type {\n",
       "        vertical-align: middle;\n",
       "    }\n",
       "\n",
       "    .dataframe tbody tr th {\n",
       "        vertical-align: top;\n",
       "    }\n",
       "\n",
       "    .dataframe thead th {\n",
       "        text-align: right;\n",
       "    }\n",
       "</style>\n",
       "<table border=\"1\" class=\"dataframe\">\n",
       "  <thead>\n",
       "    <tr style=\"text-align: right;\">\n",
       "      <th></th>\n",
       "      <th>children</th>\n",
       "      <th>days_employed</th>\n",
       "      <th>age</th>\n",
       "      <th>education</th>\n",
       "      <th>education_id</th>\n",
       "      <th>family_status</th>\n",
       "      <th>family_status_id</th>\n",
       "      <th>gender</th>\n",
       "      <th>income_type</th>\n",
       "      <th>debt</th>\n",
       "      <th>total_income</th>\n",
       "      <th>purpose</th>\n",
       "      <th>age_group</th>\n",
       "    </tr>\n",
       "  </thead>\n",
       "  <tbody>\n",
       "    <tr>\n",
       "      <th>0</th>\n",
       "      <td>1</td>\n",
       "      <td>8437.673028</td>\n",
       "      <td>42.0</td>\n",
       "      <td>bachelor's degree</td>\n",
       "      <td>0</td>\n",
       "      <td>married</td>\n",
       "      <td>0</td>\n",
       "      <td>f</td>\n",
       "      <td>employee</td>\n",
       "      <td>0</td>\n",
       "      <td>40620.102</td>\n",
       "      <td>purchase of the house</td>\n",
       "      <td>30-45 yo</td>\n",
       "    </tr>\n",
       "    <tr>\n",
       "      <th>1</th>\n",
       "      <td>1</td>\n",
       "      <td>4024.803754</td>\n",
       "      <td>36.0</td>\n",
       "      <td>secondary education</td>\n",
       "      <td>1</td>\n",
       "      <td>married</td>\n",
       "      <td>0</td>\n",
       "      <td>f</td>\n",
       "      <td>employee</td>\n",
       "      <td>0</td>\n",
       "      <td>17932.802</td>\n",
       "      <td>car purchase</td>\n",
       "      <td>30-45 yo</td>\n",
       "    </tr>\n",
       "    <tr>\n",
       "      <th>2</th>\n",
       "      <td>0</td>\n",
       "      <td>5623.422610</td>\n",
       "      <td>33.0</td>\n",
       "      <td>secondary education</td>\n",
       "      <td>1</td>\n",
       "      <td>married</td>\n",
       "      <td>0</td>\n",
       "      <td>m</td>\n",
       "      <td>employee</td>\n",
       "      <td>0</td>\n",
       "      <td>23341.752</td>\n",
       "      <td>purchase of the house</td>\n",
       "      <td>30-45 yo</td>\n",
       "    </tr>\n",
       "    <tr>\n",
       "      <th>3</th>\n",
       "      <td>3</td>\n",
       "      <td>4124.747207</td>\n",
       "      <td>32.0</td>\n",
       "      <td>secondary education</td>\n",
       "      <td>1</td>\n",
       "      <td>married</td>\n",
       "      <td>0</td>\n",
       "      <td>m</td>\n",
       "      <td>employee</td>\n",
       "      <td>0</td>\n",
       "      <td>42820.568</td>\n",
       "      <td>supplementary education</td>\n",
       "      <td>30-45 yo</td>\n",
       "    </tr>\n",
       "    <tr>\n",
       "      <th>4</th>\n",
       "      <td>0</td>\n",
       "      <td>15600.000000</td>\n",
       "      <td>53.0</td>\n",
       "      <td>secondary education</td>\n",
       "      <td>1</td>\n",
       "      <td>civil partnership</td>\n",
       "      <td>1</td>\n",
       "      <td>f</td>\n",
       "      <td>retiree</td>\n",
       "      <td>0</td>\n",
       "      <td>25378.572</td>\n",
       "      <td>to have a wedding</td>\n",
       "      <td>45-60 yo</td>\n",
       "    </tr>\n",
       "  </tbody>\n",
       "</table>\n",
       "</div>"
      ],
      "text/plain": [
       "   children  days_employed   age            education  education_id  \\\n",
       "0         1    8437.673028  42.0    bachelor's degree             0   \n",
       "1         1    4024.803754  36.0  secondary education             1   \n",
       "2         0    5623.422610  33.0  secondary education             1   \n",
       "3         3    4124.747207  32.0  secondary education             1   \n",
       "4         0   15600.000000  53.0  secondary education             1   \n",
       "\n",
       "       family_status  family_status_id gender income_type  debt  total_income  \\\n",
       "0            married                 0      f    employee     0     40620.102   \n",
       "1            married                 0      f    employee     0     17932.802   \n",
       "2            married                 0      m    employee     0     23341.752   \n",
       "3            married                 0      m    employee     0     42820.568   \n",
       "4  civil partnership                 1      f     retiree     0     25378.572   \n",
       "\n",
       "                   purpose age_group  \n",
       "0    purchase of the house  30-45 yo  \n",
       "1             car purchase  30-45 yo  \n",
       "2    purchase of the house  30-45 yo  \n",
       "3  supplementary education  30-45 yo  \n",
       "4        to have a wedding  45-60 yo  "
      ]
     },
     "execution_count": 241,
     "metadata": {},
     "output_type": "execute_result"
    }
   ],
   "source": [
    "df.head()"
   ]
  },
  {
   "cell_type": "markdown",
   "id": "728c9964",
   "metadata": {},
   "source": [
    "#### now we will try to find the average income, based on age group, income type and education:"
   ]
  },
  {
   "cell_type": "code",
   "execution_count": 242,
   "id": "7903b11c",
   "metadata": {},
   "outputs": [
    {
     "data": {
      "text/plain": [
       "age_group  income_type  education          \n",
       "19-30 yo   business     bachelor's degree      33252.239348\n",
       "                        graduate degree                 NaN\n",
       "                        primary education      26728.738375\n",
       "                        secondary education    26521.547644\n",
       "                        some college           27842.983762\n",
       "                                                   ...     \n",
       "60+yo      unemployed   bachelor's degree               NaN\n",
       "                        graduate degree                 NaN\n",
       "                        primary education               NaN\n",
       "                        secondary education             NaN\n",
       "                        some college                    NaN\n",
       "Name: total_income, Length: 160, dtype: float64"
      ]
     },
     "execution_count": 242,
     "metadata": {},
     "output_type": "execute_result"
    }
   ],
   "source": [
    "income_averages= df.groupby(['age_group','income_type','education'])['total_income'].mean()\n",
    "income_averages"
   ]
  },
  {
   "cell_type": "markdown",
   "id": "473f0504",
   "metadata": {},
   "source": [
    "<div class=\"alert alert-success\" style=\"border-radius: 15px; box-shadow: 4px 4px 4px; border: 1px solid \">\n",
    "<h2> Reviewer's comment 3</h2>\n",
    "    \n",
    "It's ok to see Nan-s here as we do not have enough data for some groups. \n",
    "</div>"
   ]
  },
  {
   "cell_type": "markdown",
   "id": "64ed5ead",
   "metadata": {},
   "source": [
    "### because it's a multi index, we grab values with a tuple like this:"
   ]
  },
  {
   "cell_type": "code",
   "execution_count": 243,
   "id": "1ab52e91",
   "metadata": {},
   "outputs": [
    {
     "data": {
      "text/plain": [
       "33252.23934760702"
      ]
     },
     "execution_count": 243,
     "metadata": {},
     "output_type": "execute_result"
    }
   ],
   "source": [
    "income_averages[(\"19-30 yo\",\"business\",\"bachelor's degree\")]"
   ]
  },
  {
   "cell_type": "code",
   "execution_count": 244,
   "id": "a6e63014",
   "metadata": {},
   "outputs": [],
   "source": [
    "def fill_null_total_income(row):\n",
    "    if pd.isnull(row['total_income']):\n",
    "        return income_averages.loc[(row['age_group'],row['income_type'],row['education'])]\n",
    "    else:\n",
    "        return row['total_income']\n",
    "        \n",
    "df.loc[:,'total_income'] = df.apply(fill_null_total_income,axis=1)"
   ]
  },
  {
   "cell_type": "markdown",
   "id": "c4ec510c",
   "metadata": {},
   "source": [
    "<div class=\"alert alert-success\" style=\"border-radius: 15px; box-shadow: 4px 4px 4px; border: 1px solid \">\n",
    "<h2> Reviewer's comment 3</h2>\n",
    "    \n",
    "You've got it! Wonderful! 😉\n",
    "</div>"
   ]
  },
  {
   "cell_type": "markdown",
   "id": "164d3b83",
   "metadata": {},
   "source": [
    "### lets see the results in the column \"total income\":"
   ]
  },
  {
   "cell_type": "code",
   "execution_count": 245,
   "id": "699469fd",
   "metadata": {},
   "outputs": [
    {
     "name": "stdout",
     "output_type": "stream",
     "text": [
      "<class 'pandas.core.frame.DataFrame'>\n",
      "RangeIndex: 21453 entries, 0 to 21452\n",
      "Data columns (total 13 columns):\n",
      " #   Column            Non-Null Count  Dtype   \n",
      "---  ------            --------------  -----   \n",
      " 0   children          21453 non-null  int64   \n",
      " 1   days_employed     19351 non-null  float64 \n",
      " 2   age               21453 non-null  float64 \n",
      " 3   education         21453 non-null  object  \n",
      " 4   education_id      21453 non-null  int64   \n",
      " 5   family_status     21453 non-null  object  \n",
      " 6   family_status_id  21453 non-null  int64   \n",
      " 7   gender            21453 non-null  object  \n",
      " 8   income_type       21453 non-null  object  \n",
      " 9   debt              21453 non-null  int64   \n",
      " 10  total_income      21451 non-null  float64 \n",
      " 11  purpose           21453 non-null  object  \n",
      " 12  age_group         21453 non-null  category\n",
      "dtypes: category(1), float64(3), int64(4), object(5)\n",
      "memory usage: 2.0+ MB\n"
     ]
    }
   ],
   "source": [
    "df.info()"
   ]
  },
  {
   "cell_type": "markdown",
   "id": "53befc86",
   "metadata": {},
   "source": [
    "### there are now only 2 values missing! we have big enough dataset, so we could drop it:"
   ]
  },
  {
   "cell_type": "markdown",
   "id": "e5fe3a50",
   "metadata": {},
   "source": [
    "<div class=\"alert alert-success\" style=\"border-radius: 15px; box-shadow: 4px 4px 4px; border: 1px solid \">\n",
    "<h2> Reviewer's comment 3</h2>\n",
    "    \n",
    "Yes and it's still ok, it's just a very small group. \n",
    "</div>"
   ]
  },
  {
   "cell_type": "code",
   "execution_count": 246,
   "id": "5a9b320e",
   "metadata": {},
   "outputs": [
    {
     "name": "stdout",
     "output_type": "stream",
     "text": [
      "<class 'pandas.core.frame.DataFrame'>\n",
      "Int64Index: 21451 entries, 0 to 21452\n",
      "Data columns (total 13 columns):\n",
      " #   Column            Non-Null Count  Dtype   \n",
      "---  ------            --------------  -----   \n",
      " 0   children          21451 non-null  int64   \n",
      " 1   days_employed     19351 non-null  float64 \n",
      " 2   age               21451 non-null  float64 \n",
      " 3   education         21451 non-null  object  \n",
      " 4   education_id      21451 non-null  int64   \n",
      " 5   family_status     21451 non-null  object  \n",
      " 6   family_status_id  21451 non-null  int64   \n",
      " 7   gender            21451 non-null  object  \n",
      " 8   income_type       21451 non-null  object  \n",
      " 9   debt              21451 non-null  int64   \n",
      " 10  total_income      21451 non-null  float64 \n",
      " 11  purpose           21451 non-null  object  \n",
      " 12  age_group         21451 non-null  category\n",
      "dtypes: category(1), float64(3), int64(4), object(5)\n",
      "memory usage: 2.1+ MB\n"
     ]
    }
   ],
   "source": [
    "df = df.dropna(subset=['total_income'])\n",
    "df.info()"
   ]
  },
  {
   "cell_type": "markdown",
   "id": "9ba23bed",
   "metadata": {},
   "source": [
    "### Let's do the same process to \"days_employed\" column. now we will do it based on age group, family status and gender:"
   ]
  },
  {
   "cell_type": "code",
   "execution_count": 247,
   "id": "503c3347",
   "metadata": {},
   "outputs": [
    {
     "data": {
      "text/plain": [
       "age_group  family_status      gender\n",
       "19-30 yo   civil partnership  f          1272.269141\n",
       "                              m          1191.283910\n",
       "                              xna        2358.600502\n",
       "           divorced           f          1320.091758\n",
       "                              m          1955.937061\n",
       "                              xna                NaN\n",
       "           married            f          1458.096006\n",
       "                              m          1390.976463\n",
       "                              xna                NaN\n",
       "           unmarried          f          1136.224837\n",
       "                              m          1111.788322\n",
       "                              xna                NaN\n",
       "           widow / widower    f          1415.583126\n",
       "                              m                  NaN\n",
       "                              xna                NaN\n",
       "30-45 yo   civil partnership  f          2459.674544\n",
       "                              m          2399.953488\n",
       "                              xna                NaN\n",
       "           divorced           f          2442.686613\n",
       "                              m          2372.749856\n",
       "                              xna                NaN\n",
       "           married            f          2541.521806\n",
       "                              m          2371.371959\n",
       "                              xna                NaN\n",
       "           unmarried          f          2349.142271\n",
       "                              m          1963.271107\n",
       "                              xna                NaN\n",
       "           widow / widower    f          3468.667074\n",
       "                              m          2108.709241\n",
       "                              xna                NaN\n",
       "45-60 yo   civil partnership  f          7280.226067\n",
       "                              m          4455.339388\n",
       "                              xna                NaN\n",
       "           divorced           f          6921.867437\n",
       "                              m          3245.536541\n",
       "                              xna                NaN\n",
       "           married            f          7562.728762\n",
       "                              m          4793.582032\n",
       "                              xna                NaN\n",
       "           unmarried          f          7188.775191\n",
       "                              m          3903.426622\n",
       "                              xna                NaN\n",
       "           widow / widower    f          9507.727368\n",
       "                              m          7971.109003\n",
       "                              xna                NaN\n",
       "60+yo      civil partnership  f         13877.462065\n",
       "                              m         12205.617454\n",
       "                              xna                NaN\n",
       "           divorced           f         12553.306154\n",
       "                              m          8872.261122\n",
       "                              xna                NaN\n",
       "           married            f         13913.365102\n",
       "                              m         11605.619432\n",
       "                              xna                NaN\n",
       "           unmarried          f         13469.400793\n",
       "                              m         11498.254169\n",
       "                              xna                NaN\n",
       "           widow / widower    f         13314.541421\n",
       "                              m         12860.730967\n",
       "                              xna                NaN\n",
       "Name: days_employed, dtype: float64"
      ]
     },
     "execution_count": 247,
     "metadata": {},
     "output_type": "execute_result"
    }
   ],
   "source": [
    "days_averages= df.groupby(['age_group','family_status','gender'])['days_employed'].mean()\n",
    "days_averages"
   ]
  },
  {
   "cell_type": "code",
   "execution_count": 248,
   "id": "f5d7bb17",
   "metadata": {},
   "outputs": [
    {
     "name": "stderr",
     "output_type": "stream",
     "text": [
      "/home/yosef/.local/lib/python3.8/site-packages/pandas/core/indexing.py:1676: SettingWithCopyWarning: \n",
      "A value is trying to be set on a copy of a slice from a DataFrame.\n",
      "Try using .loc[row_indexer,col_indexer] = value instead\n",
      "\n",
      "See the caveats in the documentation: https://pandas.pydata.org/pandas-docs/stable/user_guide/indexing.html#returning-a-view-versus-a-copy\n",
      "  self._setitem_single_column(ilocs[0], value, pi)\n"
     ]
    }
   ],
   "source": [
    "def fill_null_days_employed(row):\n",
    "    if pd.isnull(row['days_employed']):\n",
    "        return days_averages.loc[(row['age_group'],row['family_status'],row['gender'])]\n",
    "    else:\n",
    "        return row['days_employed']\n",
    "        \n",
    "df.loc[:,'days_employed'] = df.apply(fill_null_days_employed,axis=1)"
   ]
  },
  {
   "cell_type": "markdown",
   "id": "01e13c7f",
   "metadata": {},
   "source": [
    "<div class=\"alert alert-success\" style=\"border-radius: 15px; box-shadow: 4px 4px 4px; border: 1px solid \">\n",
    "<h2> Reviewer's comment 3</h2>\n",
    "    \n",
    "By the way, warnings can be disabled:\n",
    "</div>\n",
    "\n",
    "```python\n",
    "\n",
    "import warnings\n",
    "warnings.filterwarnings('ignore')\n",
    "```"
   ]
  },
  {
   "cell_type": "markdown",
   "id": "2e40a042",
   "metadata": {},
   "source": []
  },
  {
   "cell_type": "code",
   "execution_count": 249,
   "id": "5e2b4b67",
   "metadata": {},
   "outputs": [
    {
     "name": "stdout",
     "output_type": "stream",
     "text": [
      "<class 'pandas.core.frame.DataFrame'>\n",
      "Int64Index: 21451 entries, 0 to 21452\n",
      "Data columns (total 13 columns):\n",
      " #   Column            Non-Null Count  Dtype   \n",
      "---  ------            --------------  -----   \n",
      " 0   children          21451 non-null  int64   \n",
      " 1   days_employed     21451 non-null  float64 \n",
      " 2   age               21451 non-null  float64 \n",
      " 3   education         21451 non-null  object  \n",
      " 4   education_id      21451 non-null  int64   \n",
      " 5   family_status     21451 non-null  object  \n",
      " 6   family_status_id  21451 non-null  int64   \n",
      " 7   gender            21451 non-null  object  \n",
      " 8   income_type       21451 non-null  object  \n",
      " 9   debt              21451 non-null  int64   \n",
      " 10  total_income      21451 non-null  float64 \n",
      " 11  purpose           21451 non-null  object  \n",
      " 12  age_group         21451 non-null  category\n",
      "dtypes: category(1), float64(3), int64(4), object(5)\n",
      "memory usage: 2.1+ MB\n"
     ]
    }
   ],
   "source": [
    "df.info()"
   ]
  },
  {
   "cell_type": "code",
   "execution_count": 250,
   "id": "e4bf7a0a",
   "metadata": {},
   "outputs": [
    {
     "data": {
      "text/plain": [
       "children            0\n",
       "days_employed       0\n",
       "age                 0\n",
       "education           0\n",
       "education_id        0\n",
       "family_status       0\n",
       "family_status_id    0\n",
       "gender              0\n",
       "income_type         0\n",
       "debt                0\n",
       "total_income        0\n",
       "purpose             0\n",
       "age_group           0\n",
       "dtype: int64"
      ]
     },
     "execution_count": 250,
     "metadata": {},
     "output_type": "execute_result"
    }
   ],
   "source": [
    "df.isnull().sum()"
   ]
  },
  {
   "cell_type": "markdown",
   "id": "0af650b7",
   "metadata": {},
   "source": [
    "### So we filled all the null values, based on several clients parameters!"
   ]
  },
  {
   "cell_type": "markdown",
   "id": "b0fd1ca0",
   "metadata": {},
   "source": [
    "<div class=\"alert alert-success\" style=\"border-radius: 15px; box-shadow: 4px 4px 4px; border: 1px solid \">\n",
    "<h2> Reviewer's comment 3</h2>\n",
    "    \n",
    "Yosef, let me show a laconic example of gaps replacement. :\n",
    "    \n",
    "    \n",
    "    df['total_income'] = df.groupby(['age_group','income_type','education'])['total_income'].apply(lambda x: x.fillna(x.median()))\n",
    "\n",
    "    \n",
    "Same, but with no lambda:\n",
    "    \n",
    "    \n",
    "    df['total_income'] = df['total_income'].fillna(df.groupby(['age_group','income_type','education'])['total_income'].transform('median'))\n",
    "\n",
    "\n",
    "</div>"
   ]
  },
  {
   "cell_type": "markdown",
   "id": "7f30a44d",
   "metadata": {},
   "source": [
    "<div class=\"alert alert-success\" style=\"border-radius: 15px; box-shadow: 4px 4px 4px; border: 1px solid \">\n",
    "<b> Reviewer's comment</b>\n",
    "    \n",
    "Excellent! :) \n",
    "</div>\n",
    "\n",
    "<div class=\"alert alert-danger\" style=\"border-radius: 15px; box-shadow: 4px 4px 4px; border: 1px solid \">\n",
    "<b> Reviewer's comment</b>\n",
    "    \n",
    "Since we have such an opportunity, let's try to replace Nan-s with the median (or mean), but taken according to 2-3 characteristics of the client? It can be done with groupby method. \n",
    "</div>\n",
    "\n",
    "<div class=\"alert alert-danger\" style=\"border-radius: 15px; box-shadow: 4px 4px 4px; border: 1px solid \">\n",
    "<b> Reviewer's comment 2</b>\n",
    "    \n",
    "I'll try to leave a more detailed comment. I want you to take median income or median job experience according to several clients parameters. These parameters can be income type + education + age group. Thus, employee under 25 with higher education may have one total income and one job experice, while employee under 25 but without higher education may have completely another job experience as he or she started the career earlier. And we can see the same result depending on the age. As a rule, as people get older and more experienced, they earn more. Note that I suggest you to create age groups before doing this as a more reasonable approach than just using the age. \n",
    "</div>"
   ]
  },
  {
   "cell_type": "code",
   "execution_count": 251,
   "id": "fbe24e06",
   "metadata": {},
   "outputs": [
    {
     "data": {
      "text/plain": [
       "array(['employee', 'retiree', 'business', 'civil servant', 'unemployed',\n",
       "       'student', 'entrepreneur', 'paternity / maternity leave'],\n",
       "      dtype=object)"
      ]
     },
     "execution_count": 251,
     "metadata": {},
     "output_type": "execute_result"
    }
   ],
   "source": [
    "df.income_type.unique()"
   ]
  },
  {
   "cell_type": "markdown",
   "id": "92924370",
   "metadata": {},
   "source": [
    "### Replace the real number data type with the integer type"
   ]
  },
  {
   "cell_type": "markdown",
   "id": "b7c31708",
   "metadata": {},
   "source": [
    "there is no reasoning to remain fractional values in date and in the total income:"
   ]
  },
  {
   "cell_type": "code",
   "execution_count": 252,
   "id": "9094c5cd",
   "metadata": {},
   "outputs": [],
   "source": [
    "df.loc[:,'days_employed'] = df.loc[:,'days_employed'].astype('int64')"
   ]
  },
  {
   "cell_type": "code",
   "execution_count": 253,
   "id": "1d6201d6",
   "metadata": {},
   "outputs": [],
   "source": [
    "df.loc[:,'total_income'] = df.loc[:,'total_income'].astype('int64')"
   ]
  },
  {
   "cell_type": "code",
   "execution_count": 254,
   "id": "1b7fa272",
   "metadata": {},
   "outputs": [
    {
     "name": "stdout",
     "output_type": "stream",
     "text": [
      "<class 'pandas.core.frame.DataFrame'>\n",
      "Int64Index: 21451 entries, 0 to 21452\n",
      "Data columns (total 13 columns):\n",
      " #   Column            Non-Null Count  Dtype   \n",
      "---  ------            --------------  -----   \n",
      " 0   children          21451 non-null  int64   \n",
      " 1   days_employed     21451 non-null  int64   \n",
      " 2   age               21451 non-null  float64 \n",
      " 3   education         21451 non-null  object  \n",
      " 4   education_id      21451 non-null  int64   \n",
      " 5   family_status     21451 non-null  object  \n",
      " 6   family_status_id  21451 non-null  int64   \n",
      " 7   gender            21451 non-null  object  \n",
      " 8   income_type       21451 non-null  object  \n",
      " 9   debt              21451 non-null  int64   \n",
      " 10  total_income      21451 non-null  int64   \n",
      " 11  purpose           21451 non-null  object  \n",
      " 12  age_group         21451 non-null  category\n",
      "dtypes: category(1), float64(1), int64(6), object(5)\n",
      "memory usage: 2.1+ MB\n"
     ]
    }
   ],
   "source": [
    "df.info()"
   ]
  },
  {
   "cell_type": "code",
   "execution_count": 255,
   "id": "b15cd1ce",
   "metadata": {},
   "outputs": [
    {
     "data": {
      "text/html": [
       "<div>\n",
       "<style scoped>\n",
       "    .dataframe tbody tr th:only-of-type {\n",
       "        vertical-align: middle;\n",
       "    }\n",
       "\n",
       "    .dataframe tbody tr th {\n",
       "        vertical-align: top;\n",
       "    }\n",
       "\n",
       "    .dataframe thead th {\n",
       "        text-align: right;\n",
       "    }\n",
       "</style>\n",
       "<table border=\"1\" class=\"dataframe\">\n",
       "  <thead>\n",
       "    <tr style=\"text-align: right;\">\n",
       "      <th></th>\n",
       "      <th>children</th>\n",
       "      <th>days_employed</th>\n",
       "      <th>age</th>\n",
       "      <th>education</th>\n",
       "      <th>education_id</th>\n",
       "      <th>family_status</th>\n",
       "      <th>family_status_id</th>\n",
       "      <th>gender</th>\n",
       "      <th>income_type</th>\n",
       "      <th>debt</th>\n",
       "      <th>total_income</th>\n",
       "      <th>purpose</th>\n",
       "      <th>age_group</th>\n",
       "    </tr>\n",
       "  </thead>\n",
       "  <tbody>\n",
       "    <tr>\n",
       "      <th>0</th>\n",
       "      <td>1</td>\n",
       "      <td>8437</td>\n",
       "      <td>42.0</td>\n",
       "      <td>bachelor's degree</td>\n",
       "      <td>0</td>\n",
       "      <td>married</td>\n",
       "      <td>0</td>\n",
       "      <td>f</td>\n",
       "      <td>employee</td>\n",
       "      <td>0</td>\n",
       "      <td>40620</td>\n",
       "      <td>purchase of the house</td>\n",
       "      <td>30-45 yo</td>\n",
       "    </tr>\n",
       "    <tr>\n",
       "      <th>1</th>\n",
       "      <td>1</td>\n",
       "      <td>4024</td>\n",
       "      <td>36.0</td>\n",
       "      <td>secondary education</td>\n",
       "      <td>1</td>\n",
       "      <td>married</td>\n",
       "      <td>0</td>\n",
       "      <td>f</td>\n",
       "      <td>employee</td>\n",
       "      <td>0</td>\n",
       "      <td>17932</td>\n",
       "      <td>car purchase</td>\n",
       "      <td>30-45 yo</td>\n",
       "    </tr>\n",
       "    <tr>\n",
       "      <th>2</th>\n",
       "      <td>0</td>\n",
       "      <td>5623</td>\n",
       "      <td>33.0</td>\n",
       "      <td>secondary education</td>\n",
       "      <td>1</td>\n",
       "      <td>married</td>\n",
       "      <td>0</td>\n",
       "      <td>m</td>\n",
       "      <td>employee</td>\n",
       "      <td>0</td>\n",
       "      <td>23341</td>\n",
       "      <td>purchase of the house</td>\n",
       "      <td>30-45 yo</td>\n",
       "    </tr>\n",
       "    <tr>\n",
       "      <th>3</th>\n",
       "      <td>3</td>\n",
       "      <td>4124</td>\n",
       "      <td>32.0</td>\n",
       "      <td>secondary education</td>\n",
       "      <td>1</td>\n",
       "      <td>married</td>\n",
       "      <td>0</td>\n",
       "      <td>m</td>\n",
       "      <td>employee</td>\n",
       "      <td>0</td>\n",
       "      <td>42820</td>\n",
       "      <td>supplementary education</td>\n",
       "      <td>30-45 yo</td>\n",
       "    </tr>\n",
       "    <tr>\n",
       "      <th>4</th>\n",
       "      <td>0</td>\n",
       "      <td>15600</td>\n",
       "      <td>53.0</td>\n",
       "      <td>secondary education</td>\n",
       "      <td>1</td>\n",
       "      <td>civil partnership</td>\n",
       "      <td>1</td>\n",
       "      <td>f</td>\n",
       "      <td>retiree</td>\n",
       "      <td>0</td>\n",
       "      <td>25378</td>\n",
       "      <td>to have a wedding</td>\n",
       "      <td>45-60 yo</td>\n",
       "    </tr>\n",
       "  </tbody>\n",
       "</table>\n",
       "</div>"
      ],
      "text/plain": [
       "   children  days_employed   age            education  education_id  \\\n",
       "0         1           8437  42.0    bachelor's degree             0   \n",
       "1         1           4024  36.0  secondary education             1   \n",
       "2         0           5623  33.0  secondary education             1   \n",
       "3         3           4124  32.0  secondary education             1   \n",
       "4         0          15600  53.0  secondary education             1   \n",
       "\n",
       "       family_status  family_status_id gender income_type  debt  total_income  \\\n",
       "0            married                 0      f    employee     0         40620   \n",
       "1            married                 0      f    employee     0         17932   \n",
       "2            married                 0      m    employee     0         23341   \n",
       "3            married                 0      m    employee     0         42820   \n",
       "4  civil partnership                 1      f     retiree     0         25378   \n",
       "\n",
       "                   purpose age_group  \n",
       "0    purchase of the house  30-45 yo  \n",
       "1             car purchase  30-45 yo  \n",
       "2    purchase of the house  30-45 yo  \n",
       "3  supplementary education  30-45 yo  \n",
       "4        to have a wedding  45-60 yo  "
      ]
     },
     "execution_count": 255,
     "metadata": {},
     "output_type": "execute_result"
    }
   ],
   "source": [
    "df.head()"
   ]
  },
  {
   "cell_type": "markdown",
   "id": "1b8e88a8",
   "metadata": {},
   "source": [
    "### lets explore the values in some other columns:"
   ]
  },
  {
   "cell_type": "markdown",
   "id": "01270efa",
   "metadata": {},
   "source": [
    "### gender"
   ]
  },
  {
   "cell_type": "code",
   "execution_count": 256,
   "id": "3c08670d",
   "metadata": {},
   "outputs": [
    {
     "data": {
      "text/plain": [
       "f      14172\n",
       "m       7278\n",
       "xna        1\n",
       "Name: gender, dtype: int64"
      ]
     },
     "execution_count": 256,
     "metadata": {},
     "output_type": "execute_result"
    }
   ],
   "source": [
    "df['gender'].value_counts()"
   ]
  },
  {
   "cell_type": "markdown",
   "id": "9a244bee",
   "metadata": {},
   "source": [
    "#### intresting : there are twice women than men in the dataset!"
   ]
  },
  {
   "cell_type": "markdown",
   "id": "b5181f6e",
   "metadata": {},
   "source": [
    "### children"
   ]
  },
  {
   "cell_type": "code",
   "execution_count": 257,
   "id": "5968393c",
   "metadata": {},
   "outputs": [
    {
     "data": {
      "text/plain": [
       "0     14135\n",
       "1      4808\n",
       "2      2052\n",
       "3       330\n",
       "20       76\n",
       "4        41\n",
       "5         9\n",
       "Name: children, dtype: int64"
      ]
     },
     "execution_count": 257,
     "metadata": {},
     "output_type": "execute_result"
    }
   ],
   "source": [
    "df['children'].value_counts()"
   ]
  },
  {
   "cell_type": "markdown",
   "id": "95a48ad2",
   "metadata": {},
   "source": [
    "#### it's clearly a problem - there are not any children from 5 to 20, and suprisingly there are 76 with 20 ? \n",
    "    * maybe 20 was a code number for null.\n",
    "    * we would replace it with the median: "
   ]
  },
  {
   "cell_type": "markdown",
   "id": "fd691a93",
   "metadata": {},
   "source": [
    "<div class=\"alert alert-danger\" style=\"border-radius: 15px; box-shadow: 4px 4px 4px; border: 1px solid \">\n",
    "<b> Reviewer's comment</b>\n",
    "    \n",
    "\n",
    "Considering the lack of clients with the number of children from 9 to 19, I suppose that 20 is a mistake. It could be just 2. What do you think about it?\n",
    "</div>"
   ]
  },
  {
   "cell_type": "markdown",
   "id": "fcbbd216",
   "metadata": {},
   "source": [
    "\n",
    "\n",
    "<div class=\"alert alert-info\" style=\"border-radius: 15px; box-shadow: 4px 4px 4px; border: 1px solid \">\n",
    "<h2> Student's comment</h2>\n",
    "\n",
    "if there weren't 2 children, i was say so too. but because there is a 2, and the number of families is logical, i tend to think that 20 is a \"code number\" to a null.        \n",
    "(and second: there aren't null values in this column!)       \n",
    "so i think it's logical assamption.     \n",
    "and if you right, why it couldn't be a 0 and not 2 ?       \n",
    "but if needed i will fix it.     \n",
    "</div>"
   ]
  },
  {
   "cell_type": "markdown",
   "id": "a754ba32",
   "metadata": {},
   "source": [
    "<div class=\"alert alert-success\" style=\"border-radius: 15px; box-shadow: 4px 4px 4px; border: 1px solid \">\n",
    "<b> Reviewer's comment 2</b>\n",
    "    \n",
    "\n",
    "Yes! :) We do not have missing values in this column and the dataset is pretty much dirty. That's a good issue to think about. So it can be either 2, or 0. I just wanted to pay your attention. This column is quite ambivalent too 😊\n",
    "</div>"
   ]
  },
  {
   "cell_type": "code",
   "execution_count": 286,
   "id": "25236254",
   "metadata": {},
   "outputs": [],
   "source": [
    "df.loc[:,'children'] = df.loc[:,'children'].apply(lambda x: df.loc[:,'children'].median() if x==20 else x)\n",
    "df.loc[:,'children'] = df.loc[:,'children'].astype('int8')"
   ]
  },
  {
   "cell_type": "code",
   "execution_count": 259,
   "id": "82817f45",
   "metadata": {},
   "outputs": [
    {
     "data": {
      "text/plain": [
       "0    14211\n",
       "1     4808\n",
       "2     2052\n",
       "3      330\n",
       "4       41\n",
       "5        9\n",
       "Name: children, dtype: int64"
      ]
     },
     "execution_count": 259,
     "metadata": {},
     "output_type": "execute_result"
    }
   ],
   "source": [
    "df['children'].value_counts()"
   ]
  },
  {
   "cell_type": "markdown",
   "id": "3efc3044",
   "metadata": {},
   "source": [
    "#### it's seems better!"
   ]
  },
  {
   "cell_type": "markdown",
   "id": "8101ce69",
   "metadata": {},
   "source": [
    "### debt"
   ]
  },
  {
   "cell_type": "code",
   "execution_count": 260,
   "id": "f2b2dd83",
   "metadata": {},
   "outputs": [
    {
     "data": {
      "text/plain": [
       "0    19710\n",
       "1     1741\n",
       "Name: debt, dtype: int64"
      ]
     },
     "execution_count": 260,
     "metadata": {},
     "output_type": "execute_result"
    }
   ],
   "source": [
    "df['debt'].value_counts()"
   ]
  },
  {
   "cell_type": "code",
   "execution_count": 261,
   "id": "df3ff82a",
   "metadata": {},
   "outputs": [
    {
     "data": {
      "text/plain": [
       "0.09"
      ]
     },
     "execution_count": 261,
     "metadata": {},
     "output_type": "execute_result"
    }
   ],
   "source": [
    "#lets check how much defaulted their loan\n",
    "np.round(1741/19732,2)"
   ]
  },
  {
   "cell_type": "markdown",
   "id": "7eba4255",
   "metadata": {},
   "source": [
    "#### like 9% from the dataset defaulted their loan."
   ]
  },
  {
   "cell_type": "markdown",
   "id": "76e6a8ea",
   "metadata": {},
   "source": [
    "### education"
   ]
  },
  {
   "cell_type": "code",
   "execution_count": 262,
   "id": "ef29e31e",
   "metadata": {},
   "outputs": [
    {
     "data": {
      "text/plain": [
       "secondary education    15171\n",
       "bachelor's degree       5249\n",
       "some college             744\n",
       "primary education        281\n",
       "graduate degree            6\n",
       "Name: education, dtype: int64"
      ]
     },
     "execution_count": 262,
     "metadata": {},
     "output_type": "execute_result"
    }
   ],
   "source": [
    "df.education.value_counts()"
   ]
  },
  {
   "cell_type": "code",
   "execution_count": 263,
   "id": "d492ecff",
   "metadata": {},
   "outputs": [
    {
     "data": {
      "text/plain": [
       "1    15171\n",
       "0     5249\n",
       "2      744\n",
       "3      281\n",
       "4        6\n",
       "Name: education_id, dtype: int64"
      ]
     },
     "execution_count": 263,
     "metadata": {},
     "output_type": "execute_result"
    }
   ],
   "source": [
    "df.education_id.value_counts()"
   ]
  },
  {
   "cell_type": "markdown",
   "id": "e5fab259",
   "metadata": {},
   "source": [
    "### income type"
   ]
  },
  {
   "cell_type": "code",
   "execution_count": 264,
   "id": "4d9d9fbd",
   "metadata": {},
   "outputs": [
    {
     "data": {
      "text/plain": [
       "employee                       11083\n",
       "business                        5078\n",
       "retiree                         3829\n",
       "civil servant                   1456\n",
       "unemployed                         2\n",
       "entrepreneur                       1\n",
       "paternity / maternity leave        1\n",
       "student                            1\n",
       "Name: income_type, dtype: int64"
      ]
     },
     "execution_count": 264,
     "metadata": {},
     "output_type": "execute_result"
    }
   ],
   "source": [
    "df.income_type.value_counts()"
   ]
  },
  {
   "cell_type": "markdown",
   "id": "070bc403",
   "metadata": {},
   "source": [
    "### family status"
   ]
  },
  {
   "cell_type": "code",
   "execution_count": 265,
   "id": "8a94b51d",
   "metadata": {},
   "outputs": [
    {
     "data": {
      "text/plain": [
       "married              12338\n",
       "civil partnership     4149\n",
       "unmarried             2810\n",
       "divorced              1195\n",
       "widow / widower        959\n",
       "Name: family_status, dtype: int64"
      ]
     },
     "execution_count": 265,
     "metadata": {},
     "output_type": "execute_result"
    }
   ],
   "source": [
    "df.family_status.value_counts()"
   ]
  },
  {
   "cell_type": "code",
   "execution_count": 266,
   "id": "51ceecde",
   "metadata": {},
   "outputs": [
    {
     "data": {
      "text/plain": [
       "0    12338\n",
       "1     4149\n",
       "4     2810\n",
       "3     1195\n",
       "2      959\n",
       "Name: family_status_id, dtype: int64"
      ]
     },
     "execution_count": 266,
     "metadata": {},
     "output_type": "execute_result"
    }
   ],
   "source": [
    "df.family_status_id.value_counts()"
   ]
  },
  {
   "cell_type": "markdown",
   "id": "f18decf7",
   "metadata": {},
   "source": [
    "### purpose"
   ]
  },
  {
   "cell_type": "code",
   "execution_count": 267,
   "id": "fcd80ed3",
   "metadata": {},
   "outputs": [
    {
     "data": {
      "text/plain": [
       "wedding ceremony                            791\n",
       "having a wedding                            767\n",
       "to have a wedding                           764\n",
       "real estate transactions                    675\n",
       "buy commercial real estate                  661\n",
       "housing transactions                        652\n",
       "buying property for renting out             651\n",
       "transactions with commercial real estate    650\n",
       "housing                                     646\n",
       "purchase of the house                       646\n",
       "purchase of the house for my family         638\n",
       "construction of own property                635\n",
       "property                                    633\n",
       "transactions with my real estate            627\n",
       "building a real estate                      624\n",
       "buy real estate                             621\n",
       "purchase of my own house                    620\n",
       "building a property                         619\n",
       "housing renovation                          607\n",
       "buy residential real estate                 605\n",
       "buying my own car                           505\n",
       "going to university                         496\n",
       "car                                         494\n",
       "second-hand car purchase                    486\n",
       "cars                                        478\n",
       "to own a car                                478\n",
       "buying a second-hand car                    478\n",
       "to buy a car                                471\n",
       "car purchase                                461\n",
       "supplementary education                     460\n",
       "purchase of a car                           455\n",
       "university education                        452\n",
       "education                                   447\n",
       "to get a supplementary education            446\n",
       "getting an education                        442\n",
       "profile education                           436\n",
       "getting higher education                    426\n",
       "to become educated                          408\n",
       "Name: purpose, dtype: int64"
      ]
     },
     "execution_count": 267,
     "metadata": {},
     "output_type": "execute_result"
    }
   ],
   "source": [
    "df.purpose.value_counts()"
   ]
  },
  {
   "cell_type": "markdown",
   "id": "13777460",
   "metadata": {},
   "source": [
    "#### there are clearly many overlapping here, we would Categorize all this to:\n",
    "#### wedding,commercial real estate,housing, car, education"
   ]
  },
  {
   "cell_type": "markdown",
   "id": "30337c4a",
   "metadata": {},
   "source": [
    "<div class=\"alert alert-success\" style=\"border-radius: 15px; box-shadow: 4px 4px 4px; border: 1px solid \">\n",
    "<b> Reviewer's comment</b>\n",
    "    \n",
    "\n",
    "I agree with the categories.\n",
    "</div>"
   ]
  },
  {
   "cell_type": "code",
   "execution_count": 268,
   "id": "ff8eacb0",
   "metadata": {},
   "outputs": [
    {
     "name": "stderr",
     "output_type": "stream",
     "text": [
      "/home/yosef/.local/lib/python3.8/site-packages/pandas/core/indexing.py:1597: SettingWithCopyWarning: \n",
      "A value is trying to be set on a copy of a slice from a DataFrame.\n",
      "Try using .loc[row_indexer,col_indexer] = value instead\n",
      "\n",
      "See the caveats in the documentation: https://pandas.pydata.org/pandas-docs/stable/user_guide/indexing.html#returning-a-view-versus-a-copy\n",
      "  self.obj[key] = value\n"
     ]
    },
    {
     "data": {
      "text/html": [
       "<div>\n",
       "<style scoped>\n",
       "    .dataframe tbody tr th:only-of-type {\n",
       "        vertical-align: middle;\n",
       "    }\n",
       "\n",
       "    .dataframe tbody tr th {\n",
       "        vertical-align: top;\n",
       "    }\n",
       "\n",
       "    .dataframe thead th {\n",
       "        text-align: right;\n",
       "    }\n",
       "</style>\n",
       "<table border=\"1\" class=\"dataframe\">\n",
       "  <thead>\n",
       "    <tr style=\"text-align: right;\">\n",
       "      <th></th>\n",
       "      <th>children</th>\n",
       "      <th>days_employed</th>\n",
       "      <th>age</th>\n",
       "      <th>education</th>\n",
       "      <th>education_id</th>\n",
       "      <th>family_status</th>\n",
       "      <th>family_status_id</th>\n",
       "      <th>gender</th>\n",
       "      <th>income_type</th>\n",
       "      <th>debt</th>\n",
       "      <th>total_income</th>\n",
       "      <th>purpose</th>\n",
       "      <th>age_group</th>\n",
       "      <th>purpose_reduced</th>\n",
       "    </tr>\n",
       "  </thead>\n",
       "  <tbody>\n",
       "    <tr>\n",
       "      <th>0</th>\n",
       "      <td>1</td>\n",
       "      <td>8437</td>\n",
       "      <td>42.0</td>\n",
       "      <td>bachelor's degree</td>\n",
       "      <td>0</td>\n",
       "      <td>married</td>\n",
       "      <td>0</td>\n",
       "      <td>f</td>\n",
       "      <td>employee</td>\n",
       "      <td>0</td>\n",
       "      <td>40620</td>\n",
       "      <td>purchase of the house</td>\n",
       "      <td>30-45 yo</td>\n",
       "      <td>housing</td>\n",
       "    </tr>\n",
       "    <tr>\n",
       "      <th>1</th>\n",
       "      <td>1</td>\n",
       "      <td>4024</td>\n",
       "      <td>36.0</td>\n",
       "      <td>secondary education</td>\n",
       "      <td>1</td>\n",
       "      <td>married</td>\n",
       "      <td>0</td>\n",
       "      <td>f</td>\n",
       "      <td>employee</td>\n",
       "      <td>0</td>\n",
       "      <td>17932</td>\n",
       "      <td>car purchase</td>\n",
       "      <td>30-45 yo</td>\n",
       "      <td>car</td>\n",
       "    </tr>\n",
       "    <tr>\n",
       "      <th>2</th>\n",
       "      <td>0</td>\n",
       "      <td>5623</td>\n",
       "      <td>33.0</td>\n",
       "      <td>secondary education</td>\n",
       "      <td>1</td>\n",
       "      <td>married</td>\n",
       "      <td>0</td>\n",
       "      <td>m</td>\n",
       "      <td>employee</td>\n",
       "      <td>0</td>\n",
       "      <td>23341</td>\n",
       "      <td>purchase of the house</td>\n",
       "      <td>30-45 yo</td>\n",
       "      <td>housing</td>\n",
       "    </tr>\n",
       "    <tr>\n",
       "      <th>3</th>\n",
       "      <td>3</td>\n",
       "      <td>4124</td>\n",
       "      <td>32.0</td>\n",
       "      <td>secondary education</td>\n",
       "      <td>1</td>\n",
       "      <td>married</td>\n",
       "      <td>0</td>\n",
       "      <td>m</td>\n",
       "      <td>employee</td>\n",
       "      <td>0</td>\n",
       "      <td>42820</td>\n",
       "      <td>supplementary education</td>\n",
       "      <td>30-45 yo</td>\n",
       "      <td>education</td>\n",
       "    </tr>\n",
       "    <tr>\n",
       "      <th>4</th>\n",
       "      <td>0</td>\n",
       "      <td>15600</td>\n",
       "      <td>53.0</td>\n",
       "      <td>secondary education</td>\n",
       "      <td>1</td>\n",
       "      <td>civil partnership</td>\n",
       "      <td>1</td>\n",
       "      <td>f</td>\n",
       "      <td>retiree</td>\n",
       "      <td>0</td>\n",
       "      <td>25378</td>\n",
       "      <td>to have a wedding</td>\n",
       "      <td>45-60 yo</td>\n",
       "      <td>wedding</td>\n",
       "    </tr>\n",
       "  </tbody>\n",
       "</table>\n",
       "</div>"
      ],
      "text/plain": [
       "   children  days_employed   age            education  education_id  \\\n",
       "0         1           8437  42.0    bachelor's degree             0   \n",
       "1         1           4024  36.0  secondary education             1   \n",
       "2         0           5623  33.0  secondary education             1   \n",
       "3         3           4124  32.0  secondary education             1   \n",
       "4         0          15600  53.0  secondary education             1   \n",
       "\n",
       "       family_status  family_status_id gender income_type  debt  total_income  \\\n",
       "0            married                 0      f    employee     0         40620   \n",
       "1            married                 0      f    employee     0         17932   \n",
       "2            married                 0      m    employee     0         23341   \n",
       "3            married                 0      m    employee     0         42820   \n",
       "4  civil partnership                 1      f     retiree     0         25378   \n",
       "\n",
       "                   purpose age_group purpose_reduced  \n",
       "0    purchase of the house  30-45 yo         housing  \n",
       "1             car purchase  30-45 yo             car  \n",
       "2    purchase of the house  30-45 yo         housing  \n",
       "3  supplementary education  30-45 yo       education  \n",
       "4        to have a wedding  45-60 yo         wedding  "
      ]
     },
     "execution_count": 268,
     "metadata": {},
     "output_type": "execute_result"
    }
   ],
   "source": [
    "import nltk\n",
    "#nltk.download('punkt')\n",
    "# nltk.download('wordnet')\n",
    "from nltk.tokenize import sent_tokenize, word_tokenize\n",
    "from nltk.stem import WordNetLemmatizer\n",
    "wordnet_lemmatizer = WordNetLemmatizer()\n",
    "\n",
    "def reduce_purpose(p):\n",
    "    words = word_tokenize(p)\n",
    "    words = [wordnet_lemmatizer.lemmatize(word) for word in words]\n",
    "    if 'wedding' in words:\n",
    "        return 'wedding'\n",
    "    elif 'car' in words:\n",
    "        return 'car'\n",
    "    elif 'education' in words or 'educated' in words or \"university\" in words:\n",
    "        return 'education'\n",
    "    elif p in ['real estate transactions', 'buy commercial real estate',\n",
    "               'buying property for renting out','housing transactions',\n",
    "               'transactions with commercial real estate','transactions with my real estate',\n",
    "                'building a real estate','buy real estate']:\n",
    "        return 'commercial real estate'\n",
    "    elif p in ['housing','purchase of the house','purchase of the house for my family',\n",
    "                'construction of own property','property','purchase of my own house','building a property',\n",
    "               'housing renovation','buy residential real estate']:\n",
    "        return 'housing'\n",
    "    else:\n",
    "        return np.nan\n",
    "\n",
    "df.loc[:,'purpose_reduced'] = df.loc[:,'purpose'].apply(reduce_purpose)\n",
    "df.head()\n",
    "    \n"
   ]
  },
  {
   "cell_type": "markdown",
   "id": "30958c72",
   "metadata": {},
   "source": [
    "<div class=\"alert alert-success\" style=\"border-radius: 15px; box-shadow: 4px 4px 4px; border: 1px solid \">\n",
    "<b> Reviewer's comment</b>\n",
    "\n",
    "Great job! :)    \n",
    "</div>\n",
    "\n",
    "\n",
    "<div class=\"alert alert-danger\" style=\"border-radius: 15px; box-shadow: 4px 4px 4px; border: 1px solid \">\n",
    "<b> Reviewer's comment</b>\n",
    "    \n",
    "\n",
    "You have the right logic here, but the solution is a little bit far from optimal. If you have millions of rows in the dataset and about 100 categories, it will be quite difficult  to make such a function. What you want to do here is to automate this process so that you would not have to create these lists manually. Try to use **lemmatizer** and **collections.Counter**. \n",
    "</div>"
   ]
  },
  {
   "cell_type": "markdown",
   "id": "e260c8dd",
   "metadata": {},
   "source": [
    "\n",
    "\n",
    "<div class=\"alert alert-info\" style=\"border-radius: 15px; box-shadow: 4px 4px 4px; border: 1px solid \">\n",
    "<h2> Student's comment</h2>\n",
    "The reason i didn't used it from the begining, because it will be hard to seperate the commercial and non commercial housing stuff. \n",
    "so because your comment i combined - what i could do with lemmatization i did, what i couldn't i have stayed as it was\n",
    "</div>"
   ]
  },
  {
   "cell_type": "markdown",
   "id": "b8c5a020",
   "metadata": {},
   "source": [
    "<div class=\"alert alert-warning\" style=\"border-radius: 15px; box-shadow: 4px 4px 4px; border: 1px solid \">\n",
    "<b> Reviewer's comment 2</b>\n",
    "    \n",
    "\n",
    "Your second solution is really better than the first one. You've already simplified the task. Another way is to combine residential and commercial real estate. Moreover, we can also search for a word *commercial* :) I've noticed that *housing* remains *housing* according to your code. Check out the example below. We can look for *hous* instead of *housing*. \n",
    "</div>"
   ]
  },
  {
   "cell_type": "code",
   "execution_count": 269,
   "id": "dff3e521",
   "metadata": {},
   "outputs": [
    {
     "data": {
      "text/plain": [
       "['housing', 'transaction']"
      ]
     },
     "execution_count": 269,
     "metadata": {},
     "output_type": "execute_result"
    }
   ],
   "source": [
    "# Reviewer's code\n",
    "\n",
    "words = ['housing', 'transaction']\n",
    "[wordnet_lemmatizer.lemmatize(word) for word in words]"
   ]
  },
  {
   "cell_type": "code",
   "execution_count": 270,
   "id": "39700647",
   "metadata": {},
   "outputs": [
    {
     "data": {
      "text/plain": [
       "['hous', 'transact']"
      ]
     },
     "execution_count": 270,
     "metadata": {},
     "output_type": "execute_result"
    }
   ],
   "source": [
    "# Reviewer's code\n",
    "\n",
    "from nltk.stem import SnowballStemmer\n",
    " \n",
    "english_stemmer = SnowballStemmer('english')\n",
    "\n",
    "words = ['housing', 'transaction']\n",
    "# [wordnet_lemmatizer.lemmatize(word) for word in words]\n",
    "[english_stemmer.stem(w) for w in words if w.isalpha()]"
   ]
  },
  {
   "cell_type": "markdown",
   "id": "eb8c7d1a",
   "metadata": {},
   "source": [
    "#### lets check we covered all possibilities:"
   ]
  },
  {
   "cell_type": "code",
   "execution_count": 271,
   "id": "43115cbf",
   "metadata": {},
   "outputs": [
    {
     "data": {
      "text/plain": [
       "0"
      ]
     },
     "execution_count": 271,
     "metadata": {},
     "output_type": "execute_result"
    }
   ],
   "source": [
    "df['purpose_reduced'].isnull().sum()"
   ]
  },
  {
   "cell_type": "code",
   "execution_count": 272,
   "id": "50fcdd5b",
   "metadata": {},
   "outputs": [
    {
     "data": {
      "text/plain": [
       "housing                   5649\n",
       "commercial real estate    5161\n",
       "car                       4306\n",
       "education                 4013\n",
       "wedding                   2322\n",
       "Name: purpose_reduced, dtype: int64"
      ]
     },
     "execution_count": 272,
     "metadata": {},
     "output_type": "execute_result"
    }
   ],
   "source": [
    "df['purpose_reduced'].value_counts()"
   ]
  },
  {
   "cell_type": "markdown",
   "id": "985f42ec",
   "metadata": {},
   "source": [
    "### lets categorize the income level too:"
   ]
  },
  {
   "cell_type": "code",
   "execution_count": 273,
   "id": "a52689f2",
   "metadata": {},
   "outputs": [
    {
     "data": {
      "text/plain": [
       "(3306, 362496)"
      ]
     },
     "execution_count": 273,
     "metadata": {},
     "output_type": "execute_result"
    }
   ],
   "source": [
    "(df['total_income'].min(),df['total_income'].max())"
   ]
  },
  {
   "cell_type": "markdown",
   "id": "d1922c85",
   "metadata": {},
   "source": [
    "#### the upper limit is very high, so it could be an outlier."
   ]
  },
  {
   "cell_type": "markdown",
   "id": "aa252600",
   "metadata": {},
   "source": [
    "### lets look on the speread of the data, so we could choose our categories ranges wisely:"
   ]
  },
  {
   "cell_type": "code",
   "execution_count": 274,
   "id": "72f1b129",
   "metadata": {},
   "outputs": [
    {
     "data": {
      "image/png": "[encoded data removed]",
      "text/plain": [
       "<Figure size 576x360 with 1 Axes>"
      ]
     },
     "metadata": {
      "needs_background": "light"
     },
     "output_type": "display_data"
    }
   ],
   "source": [
    "fig,axes = plt.subplots(nrows=1, ncols=1,figsize=(8,5));\n",
    "axes.hist(df['total_income'],bins=60);\n",
    "axes.set_xlabel('total income');\n",
    "axes.set_ylabel('count');\n",
    "axes.set_title('Total income histogram');"
   ]
  },
  {
   "cell_type": "markdown",
   "id": "9370c278",
   "metadata": {},
   "source": [
    "<div class=\"alert alert-success\" style=\"border-radius: 15px; box-shadow: 4px 4px 4px; border: 1px solid \">\n",
    "<b> Reviewer's comment</b>\n",
    "    \n",
    "\n",
    "Very good idea 👍 \n",
    "</div>\n",
    "\n",
    "<div class=\"alert alert-warning\" style=\"border-radius: 15px; box-shadow: 4px 4px 4px; border: 1px solid \">\n",
    "<b> Reviewer's comment</b>\n",
    "    \n",
    "\n",
    "Don't forget to add titles and axis labels so that the reader could easily understand what's going on in this graph. \n",
    "</div>"
   ]
  },
  {
   "cell_type": "markdown",
   "id": "20a76d28",
   "metadata": {},
   "source": [
    "\n",
    "<div class=\"alert alert-info\" style=\"border-radius: 15px; box-shadow: 4px 4px 4px; border: 1px solid \">\n",
    "<h2> Student's comment</h2>\n",
    "i did with seaborn now, it created it\n",
    "</div>"
   ]
  },
  {
   "cell_type": "markdown",
   "id": "8e8c8b76",
   "metadata": {},
   "source": [
    "<div class=\"alert alert-danger\" style=\"border-radius: 15px; box-shadow: 4px 4px 4px; border: 1px solid \">\n",
    "<b> Reviewer's comment 2</b>\n",
    "    \n",
    "\n",
    "Unfortunately, there's something wrong with the seaborn here. I think we have an old version which I cannot fix. Could you, please, plot this graph with matplotlib? I will not be able to accept the project if at least one cell doesn't work.\n",
    "    \n",
    "</div>\n",
    "\n",
    "<div class=\"alert alert-success\" style=\"border-radius: 15px; box-shadow: 4px 4px 4px; border: 1px solid \">\n",
    "<b> Reviewer's comment 2</b>\n",
    "    \n",
    "   \n",
    "You can use **set** method:\n",
    "</div>\n",
    "\n",
    "\n",
    "\n",
    "```python\n",
    "sns.histplot(data=df, x='total_income',binwidth=5000).set(title='The title', xlabel='X axis label', ylabel='Y axis label')\n",
    "```"
   ]
  },
  {
   "cell_type": "markdown",
   "id": "7f1099eb",
   "metadata": {},
   "source": [
    "\n",
    "<div class=\"alert alert-info\" style=\"border-radius: 15px; box-shadow: 4px 4px 4px; border: 1px solid \">\n",
    "<h2> Student's comment</h2>\n",
    "o.k. i did with matplotlib\n",
    "</div>"
   ]
  },
  {
   "cell_type": "markdown",
   "id": "56dd5718",
   "metadata": {},
   "source": [
    "### we see that this curve is right sqewed, and the most of the values are between 0 to 125000.\n",
    "so we will choose 5 income categories [0,30k,60k,90k,120k+]\n"
   ]
  },
  {
   "cell_type": "code",
   "execution_count": 275,
   "id": "2d928986",
   "metadata": {},
   "outputs": [
    {
     "name": "stderr",
     "output_type": "stream",
     "text": [
      "/home/yosef/.local/lib/python3.8/site-packages/pandas/core/indexing.py:1597: SettingWithCopyWarning: \n",
      "A value is trying to be set on a copy of a slice from a DataFrame.\n",
      "Try using .loc[row_indexer,col_indexer] = value instead\n",
      "\n",
      "See the caveats in the documentation: https://pandas.pydata.org/pandas-docs/stable/user_guide/indexing.html#returning-a-view-versus-a-copy\n",
      "  self.obj[key] = value\n",
      "/home/yosef/.local/lib/python3.8/site-packages/pandas/core/indexing.py:1676: SettingWithCopyWarning: \n",
      "A value is trying to be set on a copy of a slice from a DataFrame.\n",
      "Try using .loc[row_indexer,col_indexer] = value instead\n",
      "\n",
      "See the caveats in the documentation: https://pandas.pydata.org/pandas-docs/stable/user_guide/indexing.html#returning-a-view-versus-a-copy\n",
      "  self._setitem_single_column(ilocs[0], value, pi)\n"
     ]
    }
   ],
   "source": [
    "df.loc[:,'income_categories']=pd.cut(df.loc[:,'total_income'], bins= [0,30000,60000,90000,120000,float(\"inf\")], include_lowest=True, labels=['0-30k', '30-60k', '60-90k','90-120k','120k+'])"
   ]
  },
  {
   "cell_type": "markdown",
   "id": "35925db7",
   "metadata": {},
   "source": [
    "<div class=\"alert alert-success\" style=\"border-radius: 15px; box-shadow: 4px 4px 4px; border: 1px solid \">\n",
    "<b> Reviewer's comment</b>\n",
    "    \n",
    "\n",
    "Well done :)</div>"
   ]
  },
  {
   "cell_type": "code",
   "execution_count": 276,
   "id": "c9bc7484",
   "metadata": {},
   "outputs": [
    {
     "data": {
      "text/html": [
       "<div>\n",
       "<style scoped>\n",
       "    .dataframe tbody tr th:only-of-type {\n",
       "        vertical-align: middle;\n",
       "    }\n",
       "\n",
       "    .dataframe tbody tr th {\n",
       "        vertical-align: top;\n",
       "    }\n",
       "\n",
       "    .dataframe thead th {\n",
       "        text-align: right;\n",
       "    }\n",
       "</style>\n",
       "<table border=\"1\" class=\"dataframe\">\n",
       "  <thead>\n",
       "    <tr style=\"text-align: right;\">\n",
       "      <th></th>\n",
       "      <th>children</th>\n",
       "      <th>days_employed</th>\n",
       "      <th>age</th>\n",
       "      <th>education</th>\n",
       "      <th>education_id</th>\n",
       "      <th>family_status</th>\n",
       "      <th>family_status_id</th>\n",
       "      <th>gender</th>\n",
       "      <th>income_type</th>\n",
       "      <th>debt</th>\n",
       "      <th>total_income</th>\n",
       "      <th>purpose</th>\n",
       "      <th>age_group</th>\n",
       "      <th>purpose_reduced</th>\n",
       "      <th>income_categories</th>\n",
       "    </tr>\n",
       "  </thead>\n",
       "  <tbody>\n",
       "    <tr>\n",
       "      <th>0</th>\n",
       "      <td>1</td>\n",
       "      <td>8437</td>\n",
       "      <td>42.0</td>\n",
       "      <td>bachelor's degree</td>\n",
       "      <td>0</td>\n",
       "      <td>married</td>\n",
       "      <td>0</td>\n",
       "      <td>f</td>\n",
       "      <td>employee</td>\n",
       "      <td>0</td>\n",
       "      <td>40620</td>\n",
       "      <td>purchase of the house</td>\n",
       "      <td>30-45 yo</td>\n",
       "      <td>housing</td>\n",
       "      <td>30-60k</td>\n",
       "    </tr>\n",
       "    <tr>\n",
       "      <th>1</th>\n",
       "      <td>1</td>\n",
       "      <td>4024</td>\n",
       "      <td>36.0</td>\n",
       "      <td>secondary education</td>\n",
       "      <td>1</td>\n",
       "      <td>married</td>\n",
       "      <td>0</td>\n",
       "      <td>f</td>\n",
       "      <td>employee</td>\n",
       "      <td>0</td>\n",
       "      <td>17932</td>\n",
       "      <td>car purchase</td>\n",
       "      <td>30-45 yo</td>\n",
       "      <td>car</td>\n",
       "      <td>0-30k</td>\n",
       "    </tr>\n",
       "    <tr>\n",
       "      <th>2</th>\n",
       "      <td>0</td>\n",
       "      <td>5623</td>\n",
       "      <td>33.0</td>\n",
       "      <td>secondary education</td>\n",
       "      <td>1</td>\n",
       "      <td>married</td>\n",
       "      <td>0</td>\n",
       "      <td>m</td>\n",
       "      <td>employee</td>\n",
       "      <td>0</td>\n",
       "      <td>23341</td>\n",
       "      <td>purchase of the house</td>\n",
       "      <td>30-45 yo</td>\n",
       "      <td>housing</td>\n",
       "      <td>0-30k</td>\n",
       "    </tr>\n",
       "    <tr>\n",
       "      <th>3</th>\n",
       "      <td>3</td>\n",
       "      <td>4124</td>\n",
       "      <td>32.0</td>\n",
       "      <td>secondary education</td>\n",
       "      <td>1</td>\n",
       "      <td>married</td>\n",
       "      <td>0</td>\n",
       "      <td>m</td>\n",
       "      <td>employee</td>\n",
       "      <td>0</td>\n",
       "      <td>42820</td>\n",
       "      <td>supplementary education</td>\n",
       "      <td>30-45 yo</td>\n",
       "      <td>education</td>\n",
       "      <td>30-60k</td>\n",
       "    </tr>\n",
       "  </tbody>\n",
       "</table>\n",
       "</div>"
      ],
      "text/plain": [
       "   children  days_employed   age            education  education_id  \\\n",
       "0         1           8437  42.0    bachelor's degree             0   \n",
       "1         1           4024  36.0  secondary education             1   \n",
       "2         0           5623  33.0  secondary education             1   \n",
       "3         3           4124  32.0  secondary education             1   \n",
       "\n",
       "  family_status  family_status_id gender income_type  debt  total_income  \\\n",
       "0       married                 0      f    employee     0         40620   \n",
       "1       married                 0      f    employee     0         17932   \n",
       "2       married                 0      m    employee     0         23341   \n",
       "3       married                 0      m    employee     0         42820   \n",
       "\n",
       "                   purpose age_group purpose_reduced income_categories  \n",
       "0    purchase of the house  30-45 yo         housing            30-60k  \n",
       "1             car purchase  30-45 yo             car             0-30k  \n",
       "2    purchase of the house  30-45 yo         housing             0-30k  \n",
       "3  supplementary education  30-45 yo       education            30-60k  "
      ]
     },
     "execution_count": 276,
     "metadata": {},
     "output_type": "execute_result"
    }
   ],
   "source": [
    "df.head(4)"
   ]
  },
  {
   "cell_type": "markdown",
   "id": "46a7981c",
   "metadata": {},
   "source": [
    "<div class=\"alert alert-danger\" style=\"border-radius: 15px; box-shadow: 4px 4px 4px; border: 1px solid \">\n",
    "<b> Reviewer's comment</b>\n",
    "    \n",
    "\n",
    "We are asked to pay attention to dictionaries. A pair of columns `education` and `education_id` can be called a dictionary, since they are interchangeable and a dictionary (dict data structure) can be made with them. Is there anything else like this in the dataset? </div>"
   ]
  },
  {
   "cell_type": "markdown",
   "id": "fb781572",
   "metadata": {},
   "source": [
    "\n",
    "<div class=\"alert alert-info\" style=\"border-radius: 15px; box-shadow: 4px 4px 4px; border: 1px solid \">\n",
    "<h2> Student's comment</h2>\n",
    "Yes, of course there are family_status and family_status_id too. should i seperate all this columns from the table and do it as reference, or could stay it like it is ?\n",
    "</div>"
   ]
  },
  {
   "cell_type": "markdown",
   "id": "ffe37755",
   "metadata": {},
   "source": [
    "<div class=\"alert alert-success\" style=\"border-radius: 15px; box-shadow: 4px 4px 4px; border: 1px solid \">\n",
    "<b> Reviewer's comment 2</b>\n",
    "    \n",
    "\n",
    "No, that's ok. I'll just show you how we can use it. I'll place the code snippet below. </div>"
   ]
  },
  {
   "cell_type": "markdown",
   "id": "77e65470",
   "metadata": {},
   "source": [
    "## Answering questions:"
   ]
  },
  {
   "cell_type": "markdown",
   "id": "110f8855",
   "metadata": {},
   "source": [
    "### 1. Is there a connection between having kids and repaying a loan on time?"
   ]
  },
  {
   "cell_type": "markdown",
   "id": "26cb28fa",
   "metadata": {},
   "source": [
    "* in these questions we will use pivot table, with the 'debt' mean value to every classification on the index.\n",
    "* the numbers in the table represent the chance that someone wouldn't pay in time!\n",
    "* so 0.07 is 7% don't pay in time, and 93% that there will be payment in time."
   ]
  },
  {
   "cell_type": "code",
   "execution_count": 277,
   "id": "31ebca93",
   "metadata": {},
   "outputs": [
    {
     "data": {
      "text/html": [
       "<div>\n",
       "<style scoped>\n",
       "    .dataframe tbody tr th:only-of-type {\n",
       "        vertical-align: middle;\n",
       "    }\n",
       "\n",
       "    .dataframe tbody tr th {\n",
       "        vertical-align: top;\n",
       "    }\n",
       "\n",
       "    .dataframe thead th {\n",
       "        text-align: right;\n",
       "    }\n",
       "</style>\n",
       "<table border=\"1\" class=\"dataframe\">\n",
       "  <thead>\n",
       "    <tr style=\"text-align: right;\">\n",
       "      <th></th>\n",
       "      <th>debt</th>\n",
       "    </tr>\n",
       "    <tr>\n",
       "      <th>children</th>\n",
       "      <th></th>\n",
       "    </tr>\n",
       "  </thead>\n",
       "  <tbody>\n",
       "    <tr>\n",
       "      <th>0</th>\n",
       "      <td>0.075435</td>\n",
       "    </tr>\n",
       "    <tr>\n",
       "      <th>1</th>\n",
       "      <td>0.092346</td>\n",
       "    </tr>\n",
       "    <tr>\n",
       "      <th>2</th>\n",
       "      <td>0.094542</td>\n",
       "    </tr>\n",
       "    <tr>\n",
       "      <th>3</th>\n",
       "      <td>0.081818</td>\n",
       "    </tr>\n",
       "    <tr>\n",
       "      <th>4</th>\n",
       "      <td>0.097561</td>\n",
       "    </tr>\n",
       "    <tr>\n",
       "      <th>5</th>\n",
       "      <td>0.000000</td>\n",
       "    </tr>\n",
       "  </tbody>\n",
       "</table>\n",
       "</div>"
      ],
      "text/plain": [
       "              debt\n",
       "children          \n",
       "0         0.075435\n",
       "1         0.092346\n",
       "2         0.094542\n",
       "3         0.081818\n",
       "4         0.097561\n",
       "5         0.000000"
      ]
     },
     "execution_count": 277,
     "metadata": {},
     "output_type": "execute_result"
    }
   ],
   "source": [
    "pd.pivot_table(df,values='debt',index='children', aggfunc='mean')"
   ]
  },
  {
   "cell_type": "markdown",
   "id": "2a22cbc2",
   "metadata": {},
   "source": [
    "<div class=\"alert alert-success\" style=\"border-radius: 15px; box-shadow: 4px 4px 4px; border: 1px solid \">\n",
    "<b> Reviewer's comment</b>\n",
    "    \n",
    "It would be much better if you added the group size. You can also do this way:\n",
    "</div>"
   ]
  },
  {
   "cell_type": "code",
   "execution_count": 278,
   "id": "dcc8092f",
   "metadata": {},
   "outputs": [
    {
     "data": {
      "text/html": [
       "<div>\n",
       "<style scoped>\n",
       "    .dataframe tbody tr th:only-of-type {\n",
       "        vertical-align: middle;\n",
       "    }\n",
       "\n",
       "    .dataframe tbody tr th {\n",
       "        vertical-align: top;\n",
       "    }\n",
       "\n",
       "    .dataframe thead tr th {\n",
       "        text-align: left;\n",
       "    }\n",
       "\n",
       "    .dataframe thead tr:last-of-type th {\n",
       "        text-align: right;\n",
       "    }\n",
       "</style>\n",
       "<table border=\"1\" class=\"dataframe\">\n",
       "  <thead>\n",
       "    <tr>\n",
       "      <th></th>\n",
       "      <th colspan=\"3\" halign=\"left\">debt</th>\n",
       "    </tr>\n",
       "    <tr>\n",
       "      <th></th>\n",
       "      <th>count</th>\n",
       "      <th>sum</th>\n",
       "      <th>&lt;lambda_0&gt;</th>\n",
       "    </tr>\n",
       "    <tr>\n",
       "      <th>children</th>\n",
       "      <th></th>\n",
       "      <th></th>\n",
       "      <th></th>\n",
       "    </tr>\n",
       "  </thead>\n",
       "  <tbody>\n",
       "    <tr>\n",
       "      <th>0</th>\n",
       "      <td>14211</td>\n",
       "      <td>1072</td>\n",
       "      <td>7.543452</td>\n",
       "    </tr>\n",
       "    <tr>\n",
       "      <th>1</th>\n",
       "      <td>4808</td>\n",
       "      <td>444</td>\n",
       "      <td>9.234609</td>\n",
       "    </tr>\n",
       "    <tr>\n",
       "      <th>2</th>\n",
       "      <td>2052</td>\n",
       "      <td>194</td>\n",
       "      <td>9.454191</td>\n",
       "    </tr>\n",
       "    <tr>\n",
       "      <th>3</th>\n",
       "      <td>330</td>\n",
       "      <td>27</td>\n",
       "      <td>8.181818</td>\n",
       "    </tr>\n",
       "    <tr>\n",
       "      <th>4</th>\n",
       "      <td>41</td>\n",
       "      <td>4</td>\n",
       "      <td>9.756098</td>\n",
       "    </tr>\n",
       "    <tr>\n",
       "      <th>5</th>\n",
       "      <td>9</td>\n",
       "      <td>0</td>\n",
       "      <td>0.000000</td>\n",
       "    </tr>\n",
       "  </tbody>\n",
       "</table>\n",
       "</div>"
      ],
      "text/plain": [
       "           debt                 \n",
       "          count   sum <lambda_0>\n",
       "children                        \n",
       "0         14211  1072   7.543452\n",
       "1          4808   444   9.234609\n",
       "2          2052   194   9.454191\n",
       "3           330    27   8.181818\n",
       "4            41     4   9.756098\n",
       "5             9     0   0.000000"
      ]
     },
     "execution_count": 278,
     "metadata": {},
     "output_type": "execute_result"
    }
   ],
   "source": [
    "# Reviewer's code\n",
    "df.groupby('children').agg({'debt':['count', 'sum', lambda x: x.mean()*100]})"
   ]
  },
  {
   "cell_type": "code",
   "execution_count": 279,
   "id": "dc71da8d",
   "metadata": {},
   "outputs": [
    {
     "data": {
      "text/html": [
       "<div>\n",
       "<style scoped>\n",
       "    .dataframe tbody tr th:only-of-type {\n",
       "        vertical-align: middle;\n",
       "    }\n",
       "\n",
       "    .dataframe tbody tr th {\n",
       "        vertical-align: top;\n",
       "    }\n",
       "\n",
       "    .dataframe thead tr th {\n",
       "        text-align: left;\n",
       "    }\n",
       "\n",
       "    .dataframe thead tr:last-of-type th {\n",
       "        text-align: right;\n",
       "    }\n",
       "</style>\n",
       "<table border=\"1\" class=\"dataframe\">\n",
       "  <thead>\n",
       "    <tr>\n",
       "      <th></th>\n",
       "      <th colspan=\"3\" halign=\"left\">debt</th>\n",
       "    </tr>\n",
       "    <tr>\n",
       "      <th></th>\n",
       "      <th>count</th>\n",
       "      <th>sum</th>\n",
       "      <th>&lt;lambda_0&gt;</th>\n",
       "    </tr>\n",
       "    <tr>\n",
       "      <th>children</th>\n",
       "      <th></th>\n",
       "      <th></th>\n",
       "      <th></th>\n",
       "    </tr>\n",
       "  </thead>\n",
       "  <tbody>\n",
       "    <tr>\n",
       "      <th>0</th>\n",
       "      <td>14211</td>\n",
       "      <td>1072</td>\n",
       "      <td>7.54%</td>\n",
       "    </tr>\n",
       "    <tr>\n",
       "      <th>1</th>\n",
       "      <td>4808</td>\n",
       "      <td>444</td>\n",
       "      <td>9.23%</td>\n",
       "    </tr>\n",
       "    <tr>\n",
       "      <th>2</th>\n",
       "      <td>2052</td>\n",
       "      <td>194</td>\n",
       "      <td>9.45%</td>\n",
       "    </tr>\n",
       "    <tr>\n",
       "      <th>3</th>\n",
       "      <td>330</td>\n",
       "      <td>27</td>\n",
       "      <td>8.18%</td>\n",
       "    </tr>\n",
       "    <tr>\n",
       "      <th>4</th>\n",
       "      <td>41</td>\n",
       "      <td>4</td>\n",
       "      <td>9.76%</td>\n",
       "    </tr>\n",
       "    <tr>\n",
       "      <th>5</th>\n",
       "      <td>9</td>\n",
       "      <td>0</td>\n",
       "      <td>0.0%</td>\n",
       "    </tr>\n",
       "  </tbody>\n",
       "</table>\n",
       "</div>"
      ],
      "text/plain": [
       "           debt                 \n",
       "          count   sum <lambda_0>\n",
       "children                        \n",
       "0         14211  1072      7.54%\n",
       "1          4808   444      9.23%\n",
       "2          2052   194      9.45%\n",
       "3           330    27      8.18%\n",
       "4            41     4      9.76%\n",
       "5             9     0       0.0%"
      ]
     },
     "execution_count": 279,
     "metadata": {},
     "output_type": "execute_result"
    }
   ],
   "source": [
    "# Reviewer's code\n",
    "df.groupby('children').agg({'debt':['count', 'sum', lambda x: str(round(x.mean()*100,2)) +'%' ]})"
   ]
  },
  {
   "cell_type": "markdown",
   "id": "0ab151d5",
   "metadata": {},
   "source": [
    "\n",
    "<div class=\"alert alert-info\" style=\"border-radius: 15px; box-shadow: 4px 4px 4px; border: 1px solid \">\n",
    "<h2> Student's comment</h2>\n",
    "It's great ! thank you.\n",
    "</div>"
   ]
  },
  {
   "cell_type": "markdown",
   "id": "50404a75",
   "metadata": {},
   "source": [
    "### there is a little connection.\n",
    "we see that there are 7% chance that people without children wouldnt pay their loan, and people with children it's between 8%-10%. \n",
    "but i'm not sure that differences are statistically significant.\n",
    "      \n",
    "if there is a difference, the reasoning to this difference is that the children are one more expence so it harder to pay the loans.\n"
   ]
  },
  {
   "cell_type": "markdown",
   "id": "c15c0cfc",
   "metadata": {},
   "source": [
    "### Is there a connection between marital status and repaying a loan on time?"
   ]
  },
  {
   "cell_type": "code",
   "execution_count": 280,
   "id": "96e7d6bc",
   "metadata": {},
   "outputs": [
    {
     "data": {
      "text/html": [
       "<div>\n",
       "<style scoped>\n",
       "    .dataframe tbody tr th:only-of-type {\n",
       "        vertical-align: middle;\n",
       "    }\n",
       "\n",
       "    .dataframe tbody tr th {\n",
       "        vertical-align: top;\n",
       "    }\n",
       "\n",
       "    .dataframe thead th {\n",
       "        text-align: right;\n",
       "    }\n",
       "</style>\n",
       "<table border=\"1\" class=\"dataframe\">\n",
       "  <thead>\n",
       "    <tr style=\"text-align: right;\">\n",
       "      <th></th>\n",
       "      <th>debt</th>\n",
       "    </tr>\n",
       "    <tr>\n",
       "      <th>family_status</th>\n",
       "      <th></th>\n",
       "    </tr>\n",
       "  </thead>\n",
       "  <tbody>\n",
       "    <tr>\n",
       "      <th>civil partnership</th>\n",
       "      <td>0.093517</td>\n",
       "    </tr>\n",
       "    <tr>\n",
       "      <th>divorced</th>\n",
       "      <td>0.071130</td>\n",
       "    </tr>\n",
       "    <tr>\n",
       "      <th>married</th>\n",
       "      <td>0.075458</td>\n",
       "    </tr>\n",
       "    <tr>\n",
       "      <th>unmarried</th>\n",
       "      <td>0.097509</td>\n",
       "    </tr>\n",
       "    <tr>\n",
       "      <th>widow / widower</th>\n",
       "      <td>0.065693</td>\n",
       "    </tr>\n",
       "  </tbody>\n",
       "</table>\n",
       "</div>"
      ],
      "text/plain": [
       "                       debt\n",
       "family_status              \n",
       "civil partnership  0.093517\n",
       "divorced           0.071130\n",
       "married            0.075458\n",
       "unmarried          0.097509\n",
       "widow / widower    0.065693"
      ]
     },
     "execution_count": 280,
     "metadata": {},
     "output_type": "execute_result"
    }
   ],
   "source": [
    "pd.pivot_table(df,values='debt',index='family_status', aggfunc='mean')"
   ]
  },
  {
   "cell_type": "markdown",
   "id": "75c0fd32",
   "metadata": {},
   "source": [
    "<div class=\"alert alert-success\" style=\"border-radius: 15px; box-shadow: 4px 4px 4px; border: 1px solid \">\n",
    "<b> Reviewer's comment 2</b>\n",
    "    \n",
    "\n",
    "All right, we have pivot tables. The question about the dictionaries is based on the idea that 1. we don't need interchangeable columns in the dataset and 2. we should use numbers instead of str values when using some machine learning algorithms. Let's assume that we drop the **family_status** column after creating the dictionary, leaving only **family_status_id** in the dataset. Then we want to display the debt statistics. In order to make it clear we use dictionary to replace number with str values. That's all. So it's just a good example of using dicts for replacing values in the dataframe. And it is also a good example of saving these values in a small data structure. </div>"
   ]
  },
  {
   "cell_type": "markdown",
   "id": "ce3e22ba",
   "metadata": {},
   "source": [
    "\n",
    "<div class=\"alert alert-info\" style=\"border-radius: 15px; box-shadow: 4px 4px 4px; border: 1px solid \">\n",
    "<h2> Student's comment</h2>\n",
    "great!\n",
    "</div>"
   ]
  },
  {
   "cell_type": "code",
   "execution_count": 281,
   "id": "1c8b6026",
   "metadata": {},
   "outputs": [
    {
     "data": {
      "text/html": [
       "<div>\n",
       "<style scoped>\n",
       "    .dataframe tbody tr th:only-of-type {\n",
       "        vertical-align: middle;\n",
       "    }\n",
       "\n",
       "    .dataframe tbody tr th {\n",
       "        vertical-align: top;\n",
       "    }\n",
       "\n",
       "    .dataframe thead th {\n",
       "        text-align: right;\n",
       "    }\n",
       "</style>\n",
       "<table border=\"1\" class=\"dataframe\">\n",
       "  <thead>\n",
       "    <tr style=\"text-align: right;\">\n",
       "      <th></th>\n",
       "      <th>family_status_id</th>\n",
       "      <th>family_status</th>\n",
       "    </tr>\n",
       "  </thead>\n",
       "  <tbody>\n",
       "    <tr>\n",
       "      <th>0</th>\n",
       "      <td>0</td>\n",
       "      <td>married</td>\n",
       "    </tr>\n",
       "    <tr>\n",
       "      <th>1</th>\n",
       "      <td>1</td>\n",
       "      <td>civil partnership</td>\n",
       "    </tr>\n",
       "    <tr>\n",
       "      <th>2</th>\n",
       "      <td>2</td>\n",
       "      <td>widow / widower</td>\n",
       "    </tr>\n",
       "    <tr>\n",
       "      <th>3</th>\n",
       "      <td>3</td>\n",
       "      <td>divorced</td>\n",
       "    </tr>\n",
       "    <tr>\n",
       "      <th>4</th>\n",
       "      <td>4</td>\n",
       "      <td>unmarried</td>\n",
       "    </tr>\n",
       "  </tbody>\n",
       "</table>\n",
       "</div>"
      ],
      "text/plain": [
       "   family_status_id      family_status\n",
       "0                 0            married\n",
       "1                 1  civil partnership\n",
       "2                 2    widow / widower\n",
       "3                 3           divorced\n",
       "4                 4          unmarried"
      ]
     },
     "execution_count": 281,
     "metadata": {},
     "output_type": "execute_result"
    }
   ],
   "source": [
    "# Reviewer's code\n",
    "family_dict = df[['family_status_id', 'family_status']]\n",
    "family_dict = family_dict.drop_duplicates().reset_index(drop=True)\n",
    "family_dict"
   ]
  },
  {
   "cell_type": "code",
   "execution_count": 282,
   "id": "adb46d28",
   "metadata": {},
   "outputs": [
    {
     "data": {
      "text/html": [
       "<div>\n",
       "<style scoped>\n",
       "    .dataframe tbody tr th:only-of-type {\n",
       "        vertical-align: middle;\n",
       "    }\n",
       "\n",
       "    .dataframe tbody tr th {\n",
       "        vertical-align: top;\n",
       "    }\n",
       "\n",
       "    .dataframe thead tr th {\n",
       "        text-align: left;\n",
       "    }\n",
       "\n",
       "    .dataframe thead tr:last-of-type th {\n",
       "        text-align: right;\n",
       "    }\n",
       "</style>\n",
       "<table border=\"1\" class=\"dataframe\">\n",
       "  <thead>\n",
       "    <tr>\n",
       "      <th></th>\n",
       "      <th colspan=\"3\" halign=\"left\">debt</th>\n",
       "    </tr>\n",
       "    <tr>\n",
       "      <th></th>\n",
       "      <th>count</th>\n",
       "      <th>sum</th>\n",
       "      <th>mean</th>\n",
       "    </tr>\n",
       "    <tr>\n",
       "      <th>family_status_id</th>\n",
       "      <th></th>\n",
       "      <th></th>\n",
       "      <th></th>\n",
       "    </tr>\n",
       "  </thead>\n",
       "  <tbody>\n",
       "    <tr>\n",
       "      <th>0</th>\n",
       "      <td>12338</td>\n",
       "      <td>931</td>\n",
       "      <td>0.075458</td>\n",
       "    </tr>\n",
       "    <tr>\n",
       "      <th>1</th>\n",
       "      <td>4149</td>\n",
       "      <td>388</td>\n",
       "      <td>0.093517</td>\n",
       "    </tr>\n",
       "    <tr>\n",
       "      <th>2</th>\n",
       "      <td>959</td>\n",
       "      <td>63</td>\n",
       "      <td>0.065693</td>\n",
       "    </tr>\n",
       "    <tr>\n",
       "      <th>3</th>\n",
       "      <td>1195</td>\n",
       "      <td>85</td>\n",
       "      <td>0.071130</td>\n",
       "    </tr>\n",
       "    <tr>\n",
       "      <th>4</th>\n",
       "      <td>2810</td>\n",
       "      <td>274</td>\n",
       "      <td>0.097509</td>\n",
       "    </tr>\n",
       "  </tbody>\n",
       "</table>\n",
       "</div>"
      ],
      "text/plain": [
       "                   debt               \n",
       "                  count  sum      mean\n",
       "family_status_id                      \n",
       "0                 12338  931  0.075458\n",
       "1                  4149  388  0.093517\n",
       "2                   959   63  0.065693\n",
       "3                  1195   85  0.071130\n",
       "4                  2810  274  0.097509"
      ]
     },
     "metadata": {},
     "output_type": "display_data"
    },
    {
     "data": {
      "text/html": [
       "<div>\n",
       "<style scoped>\n",
       "    .dataframe tbody tr th:only-of-type {\n",
       "        vertical-align: middle;\n",
       "    }\n",
       "\n",
       "    .dataframe tbody tr th {\n",
       "        vertical-align: top;\n",
       "    }\n",
       "\n",
       "    .dataframe thead th {\n",
       "        text-align: right;\n",
       "    }\n",
       "</style>\n",
       "<table border=\"1\" class=\"dataframe\">\n",
       "  <thead>\n",
       "    <tr style=\"text-align: right;\">\n",
       "      <th></th>\n",
       "      <th>family_status_id</th>\n",
       "      <th>count</th>\n",
       "      <th>sum</th>\n",
       "      <th>mean</th>\n",
       "    </tr>\n",
       "  </thead>\n",
       "  <tbody>\n",
       "    <tr>\n",
       "      <th>0</th>\n",
       "      <td>married</td>\n",
       "      <td>12338</td>\n",
       "      <td>931</td>\n",
       "      <td>0.075458</td>\n",
       "    </tr>\n",
       "    <tr>\n",
       "      <th>1</th>\n",
       "      <td>civil partnership</td>\n",
       "      <td>4149</td>\n",
       "      <td>388</td>\n",
       "      <td>0.093517</td>\n",
       "    </tr>\n",
       "    <tr>\n",
       "      <th>2</th>\n",
       "      <td>widow / widower</td>\n",
       "      <td>959</td>\n",
       "      <td>63</td>\n",
       "      <td>0.065693</td>\n",
       "    </tr>\n",
       "    <tr>\n",
       "      <th>3</th>\n",
       "      <td>divorced</td>\n",
       "      <td>1195</td>\n",
       "      <td>85</td>\n",
       "      <td>0.071130</td>\n",
       "    </tr>\n",
       "    <tr>\n",
       "      <th>4</th>\n",
       "      <td>unmarried</td>\n",
       "      <td>2810</td>\n",
       "      <td>274</td>\n",
       "      <td>0.097509</td>\n",
       "    </tr>\n",
       "  </tbody>\n",
       "</table>\n",
       "</div>"
      ],
      "text/plain": [
       "    family_status_id  count  sum      mean\n",
       "0            married  12338  931  0.075458\n",
       "1  civil partnership   4149  388  0.093517\n",
       "2    widow / widower    959   63  0.065693\n",
       "3           divorced   1195   85  0.071130\n",
       "4          unmarried   2810  274  0.097509"
      ]
     },
     "execution_count": 282,
     "metadata": {},
     "output_type": "execute_result"
    }
   ],
   "source": [
    "# Reviewer's code\n",
    "\n",
    "a = df.groupby('family_status_id').agg({'debt':['count', 'sum', 'mean']})\n",
    "display(a)\n",
    "\n",
    "# Drop debt\n",
    "a.columns = a.columns.droplevel(0)\n",
    "\n",
    "# Replace\n",
    "a.reset_index().replace({'family_status_id': family_dict.family_status.to_dict()})"
   ]
  },
  {
   "cell_type": "markdown",
   "id": "12279174",
   "metadata": {},
   "source": [
    "### we see a little connection.\n",
    "    like before, i'm not sure that differences are statistically significant.\n",
    "    the most chances not to return their loans are of 'unmarried' and the low chances are of divorced and widows. \n",
    "    (is this an evidence that unmaried people are in general in bad economic situation more than others?)\n",
    "    "
   ]
  },
  {
   "cell_type": "markdown",
   "id": "594f980c",
   "metadata": {},
   "source": [
    "### Is there a connection between income level and repaying a loan on time?"
   ]
  },
  {
   "cell_type": "code",
   "execution_count": 283,
   "id": "56426483",
   "metadata": {},
   "outputs": [
    {
     "data": {
      "text/html": [
       "<div>\n",
       "<style scoped>\n",
       "    .dataframe tbody tr th:only-of-type {\n",
       "        vertical-align: middle;\n",
       "    }\n",
       "\n",
       "    .dataframe tbody tr th {\n",
       "        vertical-align: top;\n",
       "    }\n",
       "\n",
       "    .dataframe thead th {\n",
       "        text-align: right;\n",
       "    }\n",
       "</style>\n",
       "<table border=\"1\" class=\"dataframe\">\n",
       "  <thead>\n",
       "    <tr style=\"text-align: right;\">\n",
       "      <th></th>\n",
       "      <th>debt</th>\n",
       "    </tr>\n",
       "    <tr>\n",
       "      <th>income_categories</th>\n",
       "      <th></th>\n",
       "    </tr>\n",
       "  </thead>\n",
       "  <tbody>\n",
       "    <tr>\n",
       "      <th>0-30k</th>\n",
       "      <td>0.085411</td>\n",
       "    </tr>\n",
       "    <tr>\n",
       "      <th>30-60k</th>\n",
       "      <td>0.072820</td>\n",
       "    </tr>\n",
       "    <tr>\n",
       "      <th>60-90k</th>\n",
       "      <td>0.056285</td>\n",
       "    </tr>\n",
       "    <tr>\n",
       "      <th>90-120k</th>\n",
       "      <td>0.044444</td>\n",
       "    </tr>\n",
       "    <tr>\n",
       "      <th>120k+</th>\n",
       "      <td>0.081633</td>\n",
       "    </tr>\n",
       "  </tbody>\n",
       "</table>\n",
       "</div>"
      ],
      "text/plain": [
       "                       debt\n",
       "income_categories          \n",
       "0-30k              0.085411\n",
       "30-60k             0.072820\n",
       "60-90k             0.056285\n",
       "90-120k            0.044444\n",
       "120k+              0.081633"
      ]
     },
     "execution_count": 283,
     "metadata": {},
     "output_type": "execute_result"
    }
   ],
   "source": [
    "pd.pivot_table(df,values='debt',index='income_categories', aggfunc='mean')"
   ]
  },
  {
   "cell_type": "markdown",
   "id": "7498f92c",
   "metadata": {},
   "source": [
    "### the result is very intresting:\n",
    "    as long as the income makes higher, the chances to pay the loan on time increasing.\n",
    "    but it's not true to the very few people which are in the highest income category !\n",
    "    there the chances to pay on time are similar to the people in the lowest category!\n",
    "    * until now, it's the most effective factor ! the difference between 0-30k and 90-120k is like 4%! "
   ]
  },
  {
   "cell_type": "markdown",
   "id": "43cb6f83",
   "metadata": {},
   "source": [
    "### How do different loan purposes affect on-time loan repayment?"
   ]
  },
  {
   "cell_type": "code",
   "execution_count": 284,
   "id": "5ad19518",
   "metadata": {},
   "outputs": [
    {
     "data": {
      "text/html": [
       "<div>\n",
       "<style scoped>\n",
       "    .dataframe tbody tr th:only-of-type {\n",
       "        vertical-align: middle;\n",
       "    }\n",
       "\n",
       "    .dataframe tbody tr th {\n",
       "        vertical-align: top;\n",
       "    }\n",
       "\n",
       "    .dataframe thead th {\n",
       "        text-align: right;\n",
       "    }\n",
       "</style>\n",
       "<table border=\"1\" class=\"dataframe\">\n",
       "  <thead>\n",
       "    <tr style=\"text-align: right;\">\n",
       "      <th></th>\n",
       "      <th>debt</th>\n",
       "    </tr>\n",
       "    <tr>\n",
       "      <th>purpose_reduced</th>\n",
       "      <th></th>\n",
       "    </tr>\n",
       "  </thead>\n",
       "  <tbody>\n",
       "    <tr>\n",
       "      <th>car</th>\n",
       "      <td>0.093590</td>\n",
       "    </tr>\n",
       "    <tr>\n",
       "      <th>commercial real estate</th>\n",
       "      <td>0.076536</td>\n",
       "    </tr>\n",
       "    <tr>\n",
       "      <th>education</th>\n",
       "      <td>0.092200</td>\n",
       "    </tr>\n",
       "    <tr>\n",
       "      <th>housing</th>\n",
       "      <td>0.068508</td>\n",
       "    </tr>\n",
       "    <tr>\n",
       "      <th>wedding</th>\n",
       "      <td>0.080103</td>\n",
       "    </tr>\n",
       "  </tbody>\n",
       "</table>\n",
       "</div>"
      ],
      "text/plain": [
       "                            debt\n",
       "purpose_reduced                 \n",
       "car                     0.093590\n",
       "commercial real estate  0.076536\n",
       "education               0.092200\n",
       "housing                 0.068508\n",
       "wedding                 0.080103"
      ]
     },
     "execution_count": 284,
     "metadata": {},
     "output_type": "execute_result"
    }
   ],
   "source": [
    "pd.pivot_table(df,values='debt',index='purpose_reduced', aggfunc='mean')"
   ]
  },
  {
   "cell_type": "markdown",
   "id": "ecf0bc29",
   "metadata": {},
   "source": [
    "    1. we see that housing is the biggest chances to pay on time.\n",
    "    2. car and education are the lowest.\n",
    "    3. all the chances are between 6.8% - 9.5% that there wouldnt be payment in time."
   ]
  },
  {
   "cell_type": "markdown",
   "id": "a10a5c45",
   "metadata": {},
   "source": [
    "## Conclusion:"
   ]
  },
  {
   "cell_type": "markdown",
   "id": "41edd5a5",
   "metadata": {},
   "source": [
    "\n",
    "### the chances that someone wouldnt pay his loans in time are in general around 9%.\n",
    "### but there are some factors which ef\n",
    "### high income ? more chances to pay on time.\n",
    "### (95.6% to 90-120k income vs 91.6% to 0-30k)\n",
    "### divorced and widows are the best loan(93% pay on time) while unmarried are the worse(90.3%).\n",
    "### people without children have better chance to pay loan in time(92.4%). more children? smaller chance (people with 4 children have 90.2%).\n",
    "### there are better chances that a loan on housing would be paid in time(93.2%), than loans for car (90.6%) or education (90.8%)."
   ]
  },
  {
   "cell_type": "markdown",
   "id": "c7d2a858",
   "metadata": {},
   "source": [
    "<div class=\"alert alert-success\" style=\"border-radius: 15px; box-shadow: 4px 4px 4px; border: 1px solid \">\n",
    "<b> Reviewer's comment</b>\n",
    "    \n",
    "Good conclusion 👍\n",
    "</div>\n",
    "\n",
    "<div class=\"alert alert-danger\" style=\"border-radius: 15px; box-shadow: 4px 4px 4px; border: 1px solid \">\n",
    "<b> Reviewer's comment</b>\n",
    "    \n",
    "It would be great if you added the percentage of non-return on time for the most reliable and most irresponsible clients for each group. For example: the most reliable clients are people who take out a loan for housing (and percentage of non-return on time), and the most irresponsible are those who apply to the bank in order to get money to buy a car (and percentage). \n",
    "</div>"
   ]
  },
  {
   "cell_type": "markdown",
   "id": "47612a86",
   "metadata": {},
   "source": [
    "\n",
    "<div class=\"alert alert-info\" style=\"border-radius: 15px; box-shadow: 4px 4px 4px; border: 1px solid \">\n",
    "<h2> Student's comment</h2>\n",
    "I've added.\n",
    "</div>"
   ]
  },
  {
   "cell_type": "markdown",
   "id": "72bb5f17",
   "metadata": {},
   "source": [
    "<div style=\"border-radius: 15px; border: 3px solid indigo; padding: 15px;\">\n",
    "<h2> Overall conclusion <a class=\"tocSkip\"></h2>\n",
    " \n",
    "<div class=\"alert alert-success\" style=\"border-radius: 15px; box-shadow: 4px 4px 4px; border: 1px solid \">\n",
    "    \n",
    "You've done a really job! You've shown good analytical and coding skills. It's great that you use **pd.cut** and **pivot_table** methods, visualizations never hurt either. \n",
    "    \n",
    "</div>    \n",
    "    \n",
    "<div class=\"alert alert-danger\" style=\"border-radius: 15px; box-shadow: 4px 4px 4px; border: 1px solid \">\n",
    "    \n",
    "There are some issues that need to be fixed, but it will not take much time. As soon as you fix them I will accept the project. \n",
    "    \n",
    "</div>\n",
    "\n",
    "<div class=\"alert alert-info\" style=\"border-radius: 15px; box-shadow: 4px 4px 4px; border: 1px solid \">\n",
    "<h2> Student's comment</h2>\n",
    "It's great review! thank you.\n",
    "</div>    \n",
    "    \n",
    "</div>"
   ]
  }
 ],
 "metadata": {
  "ExecuteTimeLog": [
   {
    "duration": 810,
    "start_time": "2021-06-10T12:08:35.948Z"
   },
   {
    "duration": 345,
    "start_time": "2021-06-10T12:08:36.761Z"
   },
   {
    "duration": 18,
    "start_time": "2021-06-10T12:08:37.109Z"
   },
   {
    "duration": 27,
    "start_time": "2021-06-10T12:08:37.130Z"
   },
   {
    "duration": 40,
    "start_time": "2021-06-10T12:08:37.159Z"
   },
   {
    "duration": 17,
    "start_time": "2021-06-10T12:08:37.202Z"
   },
   {
    "duration": 5,
    "start_time": "2021-06-10T12:08:37.221Z"
   },
   {
    "duration": 6,
    "start_time": "2021-06-10T12:08:37.231Z"
   },
   {
    "duration": 61,
    "start_time": "2021-06-10T12:08:37.241Z"
   },
   {
    "duration": 86,
    "start_time": "2021-06-10T12:08:37.305Z"
   },
   {
    "duration": 8,
    "start_time": "2021-06-10T12:08:37.394Z"
   },
   {
    "duration": 110,
    "start_time": "2021-06-10T12:08:37.405Z"
   },
   {
    "duration": 17,
    "start_time": "2021-06-10T12:08:37.517Z"
   },
   {
    "duration": 68,
    "start_time": "2021-06-10T12:08:37.537Z"
   },
   {
    "duration": 20,
    "start_time": "2021-06-10T12:08:37.608Z"
   },
   {
    "duration": 27,
    "start_time": "2021-06-10T12:08:37.630Z"
   },
   {
    "duration": 79,
    "start_time": "2021-06-10T12:08:37.660Z"
   },
   {
    "duration": 13,
    "start_time": "2021-06-10T12:08:37.741Z"
   },
   {
    "duration": 35,
    "start_time": "2021-06-10T12:08:37.757Z"
   },
   {
    "duration": 9,
    "start_time": "2021-06-10T12:08:37.794Z"
   },
   {
    "duration": 11,
    "start_time": "2021-06-10T12:08:37.806Z"
   },
   {
    "duration": 13,
    "start_time": "2021-06-10T12:08:37.820Z"
   },
   {
    "duration": 54,
    "start_time": "2021-06-10T12:08:37.839Z"
   },
   {
    "duration": 7,
    "start_time": "2021-06-10T12:08:37.896Z"
   },
   {
    "duration": 8,
    "start_time": "2021-06-10T12:08:37.906Z"
   },
   {
    "duration": 26,
    "start_time": "2021-06-10T12:08:37.916Z"
   },
   {
    "duration": 56,
    "start_time": "2021-06-10T12:08:37.945Z"
   },
   {
    "duration": 27,
    "start_time": "2021-06-10T12:08:38.004Z"
   },
   {
    "duration": 30,
    "start_time": "2021-06-10T12:08:38.034Z"
   },
   {
    "duration": 67,
    "start_time": "2021-06-10T12:08:38.067Z"
   },
   {
    "duration": 11,
    "start_time": "2021-06-10T12:08:38.136Z"
   },
   {
    "duration": 19,
    "start_time": "2021-06-10T12:08:38.150Z"
   },
   {
    "duration": 22,
    "start_time": "2021-06-10T12:08:38.172Z"
   },
   {
    "duration": 24,
    "start_time": "2021-06-10T12:08:38.197Z"
   },
   {
    "duration": 26,
    "start_time": "2021-06-10T12:08:38.223Z"
   },
   {
    "duration": 22,
    "start_time": "2021-06-10T12:08:38.251Z"
   },
   {
    "duration": 17,
    "start_time": "2021-06-10T12:08:38.275Z"
   },
   {
    "duration": 19,
    "start_time": "2021-06-10T12:08:38.295Z"
   },
   {
    "duration": 17,
    "start_time": "2021-06-10T12:08:38.317Z"
   },
   {
    "duration": 22,
    "start_time": "2021-06-10T12:08:38.336Z"
   },
   {
    "duration": 27,
    "start_time": "2021-06-10T12:08:38.361Z"
   },
   {
    "duration": 37,
    "start_time": "2021-06-10T12:08:38.391Z"
   },
   {
    "duration": 9,
    "start_time": "2021-06-10T12:08:38.430Z"
   },
   {
    "duration": 47,
    "start_time": "2021-06-10T12:08:38.442Z"
   },
   {
    "duration": 10,
    "start_time": "2021-06-10T12:08:38.491Z"
   },
   {
    "duration": 571,
    "start_time": "2021-06-10T12:08:38.503Z"
   },
   {
    "duration": 15,
    "start_time": "2021-06-10T12:08:39.077Z"
   },
   {
    "duration": 45,
    "start_time": "2021-06-10T12:08:39.095Z"
   },
   {
    "duration": 53,
    "start_time": "2021-06-10T12:08:39.143Z"
   },
   {
    "duration": 27,
    "start_time": "2021-06-10T12:08:39.199Z"
   },
   {
    "duration": 25,
    "start_time": "2021-06-10T12:08:39.229Z"
   },
   {
    "duration": 23,
    "start_time": "2021-06-10T12:08:39.286Z"
   },
   {
    "duration": 22,
    "start_time": "2021-06-10T12:49:19.233Z"
   },
   {
    "duration": 21,
    "start_time": "2021-06-10T12:49:25.335Z"
   },
   {
    "duration": 19,
    "start_time": "2021-06-10T12:49:27.846Z"
   },
   {
    "duration": 3,
    "start_time": "2021-06-10T12:49:37.451Z"
   },
   {
    "duration": 272,
    "start_time": "2021-06-10T12:49:38.270Z"
   },
   {
    "duration": 6,
    "start_time": "2021-06-10T12:49:41.713Z"
   },
   {
    "duration": 25,
    "start_time": "2021-06-10T12:49:41.835Z"
   },
   {
    "duration": 25,
    "start_time": "2021-06-10T12:49:41.965Z"
   },
   {
    "duration": 23,
    "start_time": "2021-06-10T12:49:43.392Z"
   },
   {
    "duration": 7,
    "start_time": "2021-06-10T12:49:45.439Z"
   },
   {
    "duration": 7,
    "start_time": "2021-06-10T12:49:45.565Z"
   },
   {
    "duration": 18,
    "start_time": "2021-06-10T12:49:45.904Z"
   },
   {
    "duration": 21,
    "start_time": "2021-06-10T12:49:49.685Z"
   },
   {
    "duration": 18,
    "start_time": "2021-06-10T12:49:53.430Z"
   },
   {
    "duration": 26,
    "start_time": "2021-06-10T12:51:50.796Z"
   },
   {
    "duration": 23,
    "start_time": "2021-06-10T13:43:44.975Z"
   },
   {
    "duration": 22,
    "start_time": "2021-06-10T13:44:01.556Z"
   },
   {
    "duration": 3,
    "start_time": "2021-06-10T13:44:06.690Z"
   },
   {
    "duration": 336,
    "start_time": "2021-06-10T13:44:06.699Z"
   },
   {
    "duration": 5,
    "start_time": "2021-06-10T13:44:07.037Z"
   },
   {
    "duration": 40,
    "start_time": "2021-06-10T13:44:07.045Z"
   },
   {
    "duration": 17,
    "start_time": "2021-06-10T13:44:07.088Z"
   },
   {
    "duration": 17,
    "start_time": "2021-06-10T13:44:07.108Z"
   },
   {
    "duration": 6,
    "start_time": "2021-06-10T13:44:07.127Z"
   },
   {
    "duration": 9,
    "start_time": "2021-06-10T13:44:07.135Z"
   },
   {
    "duration": 45,
    "start_time": "2021-06-10T13:44:07.148Z"
   },
   {
    "duration": 21,
    "start_time": "2021-06-10T13:44:07.196Z"
   },
   {
    "duration": 14,
    "start_time": "2021-06-10T13:44:07.219Z"
   },
   {
    "duration": 82,
    "start_time": "2021-06-10T13:44:07.235Z"
   },
   {
    "duration": 6,
    "start_time": "2021-06-10T13:44:07.319Z"
   },
   {
    "duration": 110,
    "start_time": "2021-06-10T13:44:07.327Z"
   },
   {
    "duration": 15,
    "start_time": "2021-06-10T13:44:07.440Z"
   },
   {
    "duration": 65,
    "start_time": "2021-06-10T13:44:07.457Z"
   },
   {
    "duration": 21,
    "start_time": "2021-06-10T13:44:07.525Z"
   },
   {
    "duration": 50,
    "start_time": "2021-06-10T13:44:07.548Z"
   },
   {
    "duration": 95,
    "start_time": "2021-06-10T13:44:07.601Z"
   },
   {
    "duration": 13,
    "start_time": "2021-06-10T13:44:07.699Z"
   },
   {
    "duration": 8,
    "start_time": "2021-06-10T13:44:07.715Z"
   },
   {
    "duration": 5,
    "start_time": "2021-06-10T13:44:07.726Z"
   },
   {
    "duration": 53,
    "start_time": "2021-06-10T13:44:07.734Z"
   },
   {
    "duration": 9,
    "start_time": "2021-06-10T13:44:07.792Z"
   },
   {
    "duration": 15,
    "start_time": "2021-06-10T13:44:07.804Z"
   },
   {
    "duration": 8,
    "start_time": "2021-06-10T13:44:07.821Z"
   },
   {
    "duration": 7,
    "start_time": "2021-06-10T13:44:07.831Z"
   },
   {
    "duration": 17,
    "start_time": "2021-06-10T13:44:07.885Z"
   },
   {
    "duration": 17,
    "start_time": "2021-06-10T13:44:07.904Z"
   },
   {
    "duration": 13,
    "start_time": "2021-06-10T13:44:07.924Z"
   },
   {
    "duration": 50,
    "start_time": "2021-06-10T13:44:07.940Z"
   },
   {
    "duration": 59,
    "start_time": "2021-06-10T13:44:07.993Z"
   },
   {
    "duration": 32,
    "start_time": "2021-06-10T13:44:08.055Z"
   },
   {
    "duration": 9,
    "start_time": "2021-06-10T13:44:08.089Z"
   },
   {
    "duration": 11,
    "start_time": "2021-06-10T13:44:08.100Z"
   },
   {
    "duration": 21,
    "start_time": "2021-06-10T13:44:08.113Z"
   },
   {
    "duration": 13,
    "start_time": "2021-06-10T13:44:08.136Z"
   },
   {
    "duration": 43,
    "start_time": "2021-06-10T13:44:08.151Z"
   },
   {
    "duration": 11,
    "start_time": "2021-06-10T13:44:08.197Z"
   },
   {
    "duration": 20,
    "start_time": "2021-06-10T13:44:08.210Z"
   },
   {
    "duration": 13,
    "start_time": "2021-06-10T13:44:08.232Z"
   },
   {
    "duration": 14,
    "start_time": "2021-06-10T13:44:08.248Z"
   },
   {
    "duration": 12,
    "start_time": "2021-06-10T13:44:08.285Z"
   },
   {
    "duration": 39,
    "start_time": "2021-06-10T13:44:08.299Z"
   },
   {
    "duration": 11,
    "start_time": "2021-06-10T13:44:08.340Z"
   },
   {
    "duration": 40,
    "start_time": "2021-06-10T13:44:08.353Z"
   },
   {
    "duration": 21,
    "start_time": "2021-06-10T13:44:08.395Z"
   },
   {
    "duration": 515,
    "start_time": "2021-06-10T13:44:08.418Z"
   },
   {
    "duration": 9,
    "start_time": "2021-06-10T13:44:08.936Z"
   },
   {
    "duration": 44,
    "start_time": "2021-06-10T13:44:08.948Z"
   },
   {
    "duration": 24,
    "start_time": "2021-06-10T13:44:08.995Z"
   },
   {
    "duration": 26,
    "start_time": "2021-06-10T13:44:09.022Z"
   },
   {
    "duration": 47,
    "start_time": "2021-06-10T13:44:09.053Z"
   },
   {
    "duration": 22,
    "start_time": "2021-06-10T13:44:09.102Z"
   },
   {
    "duration": 20,
    "start_time": "2021-06-10T13:44:09.126Z"
   },
   {
    "duration": 54,
    "start_time": "2021-06-10T13:44:09.149Z"
   },
   {
    "duration": 7,
    "start_time": "2021-06-10T17:05:19.943Z"
   },
   {
    "duration": 3,
    "start_time": "2021-06-10T17:05:27.486Z"
   },
   {
    "duration": 289,
    "start_time": "2021-06-10T17:05:27.500Z"
   },
   {
    "duration": 6,
    "start_time": "2021-06-10T17:05:27.792Z"
   },
   {
    "duration": 35,
    "start_time": "2021-06-10T17:05:27.800Z"
   },
   {
    "duration": 19,
    "start_time": "2021-06-10T17:05:27.838Z"
   },
   {
    "duration": 34,
    "start_time": "2021-06-10T17:05:27.859Z"
   },
   {
    "duration": 5,
    "start_time": "2021-06-10T17:05:27.896Z"
   },
   {
    "duration": 12,
    "start_time": "2021-06-10T17:05:27.903Z"
   },
   {
    "duration": 15,
    "start_time": "2021-06-10T17:05:27.919Z"
   },
   {
    "duration": 59,
    "start_time": "2021-06-10T17:05:27.937Z"
   },
   {
    "duration": 15,
    "start_time": "2021-06-10T17:05:27.999Z"
   },
   {
    "duration": 81,
    "start_time": "2021-06-10T17:05:28.017Z"
   },
   {
    "duration": 7,
    "start_time": "2021-06-10T17:05:28.101Z"
   },
   {
    "duration": 118,
    "start_time": "2021-06-10T17:05:28.111Z"
   },
   {
    "duration": 16,
    "start_time": "2021-06-10T17:05:28.231Z"
   },
   {
    "duration": 75,
    "start_time": "2021-06-10T17:05:28.249Z"
   },
   {
    "duration": 20,
    "start_time": "2021-06-10T17:05:28.326Z"
   },
   {
    "duration": 54,
    "start_time": "2021-06-10T17:05:28.349Z"
   },
   {
    "duration": 50,
    "start_time": "2021-06-10T17:05:28.405Z"
   },
   {
    "duration": 39,
    "start_time": "2021-06-10T17:05:28.457Z"
   },
   {
    "duration": 15,
    "start_time": "2021-06-10T17:05:28.499Z"
   },
   {
    "duration": 13,
    "start_time": "2021-06-10T17:05:28.515Z"
   },
   {
    "duration": 9,
    "start_time": "2021-06-10T17:05:28.531Z"
   },
   {
    "duration": 47,
    "start_time": "2021-06-10T17:05:28.544Z"
   },
   {
    "duration": 12,
    "start_time": "2021-06-10T17:05:28.594Z"
   },
   {
    "duration": 8,
    "start_time": "2021-06-10T17:05:28.608Z"
   },
   {
    "duration": 9,
    "start_time": "2021-06-10T17:05:28.619Z"
   },
   {
    "duration": 66,
    "start_time": "2021-06-10T17:05:28.631Z"
   },
   {
    "duration": 16,
    "start_time": "2021-06-10T17:05:28.699Z"
   },
   {
    "duration": 13,
    "start_time": "2021-06-10T17:05:28.717Z"
   },
   {
    "duration": 12,
    "start_time": "2021-06-10T17:05:28.733Z"
   },
   {
    "duration": 7,
    "start_time": "2021-06-10T17:05:30.685Z"
   },
   {
    "duration": 466,
    "start_time": "2021-06-11T14:57:21.202Z"
   },
   {
    "duration": 822,
    "start_time": "2021-06-11T14:57:23.690Z"
   },
   {
    "duration": 291,
    "start_time": "2021-06-11T14:57:24.515Z"
   },
   {
    "duration": 16,
    "start_time": "2021-06-11T14:57:24.809Z"
   },
   {
    "duration": 20,
    "start_time": "2021-06-11T14:57:24.829Z"
   },
   {
    "duration": 17,
    "start_time": "2021-06-11T14:57:24.853Z"
   },
   {
    "duration": 49,
    "start_time": "2021-06-11T14:57:24.872Z"
   },
   {
    "duration": 9,
    "start_time": "2021-06-11T14:57:24.923Z"
   },
   {
    "duration": 15,
    "start_time": "2021-06-11T14:57:24.935Z"
   },
   {
    "duration": 18,
    "start_time": "2021-06-11T14:57:24.954Z"
   },
   {
    "duration": 60,
    "start_time": "2021-06-11T14:57:24.976Z"
   },
   {
    "duration": 20,
    "start_time": "2021-06-11T14:57:25.039Z"
   },
   {
    "duration": 68,
    "start_time": "2021-06-11T14:57:25.062Z"
   },
   {
    "duration": 7,
    "start_time": "2021-06-11T14:57:25.132Z"
   },
   {
    "duration": 114,
    "start_time": "2021-06-11T14:57:25.141Z"
   },
   {
    "duration": 16,
    "start_time": "2021-06-11T14:57:25.258Z"
   },
   {
    "duration": 67,
    "start_time": "2021-06-11T14:57:25.276Z"
   },
   {
    "duration": 27,
    "start_time": "2021-06-11T14:57:25.346Z"
   },
   {
    "duration": 44,
    "start_time": "2021-06-11T14:57:25.376Z"
   },
   {
    "duration": 68,
    "start_time": "2021-06-11T14:57:25.424Z"
   },
   {
    "duration": 27,
    "start_time": "2021-06-11T14:57:25.495Z"
   },
   {
    "duration": 107,
    "start_time": "2021-06-11T14:57:25.525Z"
   },
   {
    "duration": 17,
    "start_time": "2021-06-11T14:57:25.635Z"
   },
   {
    "duration": 57,
    "start_time": "2021-06-11T14:57:25.655Z"
   },
   {
    "duration": 58,
    "start_time": "2021-06-11T14:57:25.715Z"
   },
   {
    "duration": 12,
    "start_time": "2021-06-11T14:57:25.776Z"
   },
   {
    "duration": 12,
    "start_time": "2021-06-11T14:57:25.812Z"
   },
   {
    "duration": 5,
    "start_time": "2021-06-11T14:57:25.829Z"
   },
   {
    "duration": 9,
    "start_time": "2021-06-11T14:57:25.836Z"
   },
   {
    "duration": 9,
    "start_time": "2021-06-11T14:57:25.847Z"
   },
   {
    "duration": 36,
    "start_time": "2021-06-11T14:57:31.481Z"
   },
   {
    "duration": 7,
    "start_time": "2021-06-11T14:57:44.920Z"
   },
   {
    "duration": 6013,
    "start_time": "2021-06-11T15:21:30.057Z"
   },
   {
    "duration": 8,
    "start_time": "2021-06-11T15:21:39.299Z"
   },
   {
    "duration": 443,
    "start_time": "2021-06-11T15:23:22.030Z"
   },
   {
    "duration": 4,
    "start_time": "2021-06-11T15:23:43.660Z"
   },
   {
    "duration": 12,
    "start_time": "2021-06-11T15:23:47.237Z"
   },
   {
    "duration": 32,
    "start_time": "2021-06-11T15:25:32.041Z"
   },
   {
    "duration": 37,
    "start_time": "2021-06-11T15:25:56.246Z"
   },
   {
    "duration": 34,
    "start_time": "2021-06-11T15:26:26.676Z"
   },
   {
    "duration": 119,
    "start_time": "2021-06-11T15:27:05.460Z"
   },
   {
    "duration": 5,
    "start_time": "2021-06-11T15:27:10.153Z"
   },
   {
    "duration": 4,
    "start_time": "2021-06-11T15:29:43.369Z"
   },
   {
    "duration": 6,
    "start_time": "2021-06-11T15:29:48.278Z"
   },
   {
    "duration": 502,
    "start_time": "2021-06-11T15:32:17.069Z"
   },
   {
    "duration": 5,
    "start_time": "2021-06-11T15:32:21.401Z"
   },
   {
    "duration": 6,
    "start_time": "2021-06-11T15:35:52.595Z"
   },
   {
    "duration": 365,
    "start_time": "2021-06-11T15:41:05.182Z"
   },
   {
    "duration": 4,
    "start_time": "2021-06-11T15:41:08.662Z"
   },
   {
    "duration": 238,
    "start_time": "2021-06-11T15:41:08.670Z"
   },
   {
    "duration": 6,
    "start_time": "2021-06-11T15:41:08.911Z"
   },
   {
    "duration": 21,
    "start_time": "2021-06-11T15:41:08.920Z"
   },
   {
    "duration": 30,
    "start_time": "2021-06-11T15:41:08.944Z"
   },
   {
    "duration": 54,
    "start_time": "2021-06-11T15:41:08.977Z"
   },
   {
    "duration": 31,
    "start_time": "2021-06-11T15:41:09.034Z"
   },
   {
    "duration": 60,
    "start_time": "2021-06-11T15:41:09.068Z"
   },
   {
    "duration": 41,
    "start_time": "2021-06-11T15:41:09.132Z"
   },
   {
    "duration": 45,
    "start_time": "2021-06-11T15:41:09.176Z"
   },
   {
    "duration": 100,
    "start_time": "2021-06-11T15:41:09.224Z"
   },
   {
    "duration": 55,
    "start_time": "2021-06-11T15:41:09.326Z"
   },
   {
    "duration": 7,
    "start_time": "2021-06-11T15:41:09.384Z"
   },
   {
    "duration": 111,
    "start_time": "2021-06-11T15:41:09.393Z"
   },
   {
    "duration": 17,
    "start_time": "2021-06-11T15:41:09.506Z"
   },
   {
    "duration": 53,
    "start_time": "2021-06-11T15:41:09.525Z"
   },
   {
    "duration": 40,
    "start_time": "2021-06-11T15:41:09.580Z"
   },
   {
    "duration": 26,
    "start_time": "2021-06-11T15:41:09.623Z"
   },
   {
    "duration": 59,
    "start_time": "2021-06-11T15:41:09.651Z"
   },
   {
    "duration": 10,
    "start_time": "2021-06-11T15:41:09.713Z"
   },
   {
    "duration": 66,
    "start_time": "2021-06-11T15:41:09.725Z"
   },
   {
    "duration": 24,
    "start_time": "2021-06-11T15:41:09.794Z"
   },
   {
    "duration": 40,
    "start_time": "2021-06-11T15:41:09.821Z"
   },
   {
    "duration": 81,
    "start_time": "2021-06-11T15:41:09.866Z"
   },
   {
    "duration": 15,
    "start_time": "2021-06-11T15:41:09.950Z"
   },
   {
    "duration": 8,
    "start_time": "2021-06-11T15:41:09.968Z"
   },
   {
    "duration": 41,
    "start_time": "2021-06-11T15:41:09.978Z"
   },
   {
    "duration": 39,
    "start_time": "2021-06-11T15:41:10.022Z"
   },
   {
    "duration": 40,
    "start_time": "2021-06-11T15:41:10.063Z"
   },
   {
    "duration": 35,
    "start_time": "2021-06-11T15:41:10.106Z"
   },
   {
    "duration": 37,
    "start_time": "2021-06-11T15:41:10.144Z"
   },
   {
    "duration": 13,
    "start_time": "2021-06-11T15:41:10.184Z"
   },
   {
    "duration": 28,
    "start_time": "2021-06-11T15:41:10.199Z"
   },
   {
    "duration": 19,
    "start_time": "2021-06-11T15:41:10.230Z"
   },
   {
    "duration": 26,
    "start_time": "2021-06-11T15:41:10.251Z"
   },
   {
    "duration": 16,
    "start_time": "2021-06-11T15:41:10.280Z"
   },
   {
    "duration": 19,
    "start_time": "2021-06-11T15:41:10.298Z"
   },
   {
    "duration": 12,
    "start_time": "2021-06-11T15:41:10.319Z"
   },
   {
    "duration": 67,
    "start_time": "2021-06-11T15:41:10.333Z"
   },
   {
    "duration": 8,
    "start_time": "2021-06-11T15:41:10.408Z"
   },
   {
    "duration": 11,
    "start_time": "2021-06-11T15:41:10.418Z"
   },
   {
    "duration": 8,
    "start_time": "2021-06-11T15:41:10.431Z"
   },
   {
    "duration": 14,
    "start_time": "2021-06-11T15:41:10.442Z"
   },
   {
    "duration": 13,
    "start_time": "2021-06-11T15:41:10.458Z"
   },
   {
    "duration": 43,
    "start_time": "2021-06-11T15:41:10.473Z"
   },
   {
    "duration": 22,
    "start_time": "2021-06-11T15:41:10.518Z"
   },
   {
    "duration": 10,
    "start_time": "2021-06-11T15:41:10.542Z"
   },
   {
    "duration": 15,
    "start_time": "2021-06-11T15:41:10.554Z"
   },
   {
    "duration": 3084,
    "start_time": "2021-06-11T15:41:10.572Z"
   },
   {
    "duration": 6,
    "start_time": "2021-06-11T15:41:13.658Z"
   },
   {
    "duration": 16,
    "start_time": "2021-06-11T15:41:13.666Z"
   },
   {
    "duration": 30,
    "start_time": "2021-06-11T15:41:13.684Z"
   },
   {
    "duration": 14,
    "start_time": "2021-06-11T15:41:13.716Z"
   },
   {
    "duration": 11,
    "start_time": "2021-06-11T15:41:13.732Z"
   },
   {
    "duration": 650,
    "start_time": "2021-06-11T15:41:13.745Z"
   },
   {
    "duration": 304,
    "start_time": "2021-06-11T15:41:22.449Z"
   },
   {
    "duration": 338,
    "start_time": "2021-06-11T15:41:28.630Z"
   },
   {
    "duration": 333,
    "start_time": "2021-06-11T15:41:34.133Z"
   },
   {
    "duration": 556,
    "start_time": "2021-06-11T15:41:41.813Z"
   },
   {
    "duration": 233,
    "start_time": "2021-06-11T15:41:48.589Z"
   },
   {
    "duration": 349,
    "start_time": "2021-06-11T15:43:29.379Z"
   },
   {
    "duration": 376,
    "start_time": "2021-06-11T16:21:01.763Z"
   },
   {
    "duration": 24,
    "start_time": "2021-06-11T16:21:10.127Z"
   },
   {
    "duration": 31,
    "start_time": "2021-06-11T16:21:14.321Z"
   }
  ],
  "kernelspec": {
   "display_name": "Python 3",
   "language": "python",
   "name": "python3"
  },
  "language_info": {
   "codemirror_mode": {
    "name": "ipython",
    "version": 3
   },
   "file_extension": ".py",
   "mimetype": "text/x-python",
   "name": "python",
   "nbconvert_exporter": "python",
   "pygments_lexer": "ipython3",
   "version": "3.8.5"
  },
  "toc": {
   "base_numbering": 1,
   "nav_menu": {},
   "number_sections": true,
   "sideBar": true,
   "skip_h1_title": true,
   "title_cell": "Table of Contents",
   "title_sidebar": "Contents",
   "toc_cell": false,
   "toc_position": {
    "height": "calc(100% - 180px)",
    "left": "10px",
    "top": "150px",
    "width": "287px"
   },
   "toc_section_display": true,
   "toc_window_display": true
  }
 },
 "nbformat": 4,
 "nbformat_minor": 5
}
