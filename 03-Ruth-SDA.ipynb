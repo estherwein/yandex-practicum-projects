{
 "cells": [
  {
   "cell_type": "markdown",
   "id": "28b5b42f",
   "metadata": {},
   "source": [
    "Hello, Ruth!\n",
    "My name is Olga. I'm happy to reviewing your project today.\n",
    "\n",
    "You can find my comments in green, yellow or red boxes like this:\n",
    "\n",
    "\n",
    "<div class=\"alert alert-block alert-success\">\n",
    "<b>Reviewer's comment</b> <a class=\"tocSkip\"></a>\n",
    "    \n",
    "Success. Everything is done succesfully.\n",
    "</div>\n",
    "\n",
    "\n",
    "<div class=\"alert alert-block alert-warning\">\n",
    "<b>Reviewer's comment</b> <a class=\"tocSkip\"></a>\n",
    "    \n",
    "Remarks. Some recommendations.\n",
    "</div>\n",
    "\n",
    "\n",
    "<div class=\"alert alert-block alert-danger\">\n",
    "    \n",
    "<b>Reviewer's comment</b> <a class=\"tocSkip\"></a>\n",
    "    \n",
    "    \n",
    "Needs fixing. The block requires some corrections. Work can't be accepted with the red comments.\n",
    "</div>\n",
    "\n",
    "<b>Please don't remove my comments :)</b>\n",
    "\n",
    "You can answer me by using this: \n",
    "\n",
    "<div class=\"alert alert-block alert-info\">\n",
    "<b>Student answer.</b> <a class=\"tocSkip\"></a>\n",
    "</div>"
   ]
  },
  {
   "cell_type": "markdown",
   "id": "9c9703f5",
   "metadata": {},
   "source": [
    "<div class=\"alert alert-block alert-success\">\n",
    "<b>Overallv reviewer's comment</b> <a class=\"tocSkip\"></a>\n",
    "    \n",
    "Ruth, thank you for sending your project. I am really impressed with your project. I'm glad to say that you've done a really good job.\n",
    "\n",
    "You're really killing it in this course. It was a pleasure to review your work.    \n",
    "    \n",
    "I'm impressed with the project structure and code style in your project. Your syntax is are really good.\n",
    "    \n",
    "I especially liked the conclusions. They are very accurate and detailed. Such conclusions make our project informative and understandable.\n",
    "    \n",
    "Glad to say that your project  has been accepted.\n",
    "\n",
    "Keep up the good work, and good luck on the next sprint! :) \n",
    "    \n",
    "P.S. If you have a questions, please, write it and I try to answer. If not, resend me your project and I will accept it. :) \n",
    "    \n",
    "</div>"
   ]
  },
  {
   "cell_type": "markdown",
   "id": "ad8bc4c1",
   "metadata": {},
   "source": [
    "\n",
    "<div class=\"alert alert-block alert-info\">\n",
    "<b>Student answer.</b> thanks for the review and the nice words! really appreciate it  :)  I have one question, its more for my self, because I want to understand and learn. I used another test and not the t test because I understood from Anastasia and from the internet the ttest works on normal distribution. so I first checked the distribution with histograms. the question is, like in real life what I suppose to do? in this especific example? should check the distributions and them decide or just use ttest?<a class=\"tocSkip\"></a>\n",
    "</div>"
   ]
  },
  {
   "cell_type": "markdown",
   "id": "c2d32eb1",
   "metadata": {},
   "source": [
    "<div class=\"alert alert-block alert-success\">\n",
    "<b>Overallv reviewer's comment. V.2.</b> <a class=\"tocSkip\"></a>\n",
    "    \n",
    "Hello Ruth! So, you are right about ttest. We need normal distribution for them. Checking by histograms is a great variant. Also we can calculate, but graphs is clearer. Clients like graphs for their visuality and understandble. Easier look on graph than think about numbers. :) \n",
    "    \n",
    "In real life it depends on project. What do customers want? If they want overall picture, we use histograms. If they want calculations, we give them it. Often we make calculations for colleagues-analysts and graphs for clients.\n",
    "    \n",
    "   \n",
    "And of course, you can say at the meeting : \"I think we can use here t-test, because... Am I right? What our client prefer? Graphs or calculations?\" It is standard discussion before starting research.\n",
    "    \n",
    "I hope my answer helped. I see you read about the t test on the internet. Therefore, I will not write any sites for you. Classical books and tutorials about Theory of Probability and Mathematical Statistics can gave you more information. \n",
    "    \n",
    "    \n",
    "You're on the right track. Good luck! :)\n",
    "    \n",
    "</div>    "
   ]
  },
  {
   "cell_type": "markdown",
   "id": "e62c5e4f",
   "metadata": {},
   "source": [
    "We are going to carry out a preliminary analysis of the plans based on a relatively small client selection. We'll have the data on 500 Megaline clients: who the clients are, where they're from, which plan they use, and the number of calls they made and text messages they sent in 2018. Our job is to analyze clients behavior and determine which prepaid plan brings in more revenue."
   ]
  },
  {
   "cell_type": "markdown",
   "id": "97fc74fd",
   "metadata": {},
   "source": [
    "# Overview and studying the general information"
   ]
  },
  {
   "cell_type": "markdown",
   "id": "51a50644",
   "metadata": {},
   "source": [
    "Import all the necessaries libraries"
   ]
  },
  {
   "cell_type": "code",
   "execution_count": 1,
   "id": "054edea6",
   "metadata": {},
   "outputs": [],
   "source": [
    "import numpy as np\n",
    "import pandas as pd\n",
    "import matplotlib.pyplot as plt\n",
    "import seaborn as sns\n",
    "from scipy.stats import mannwhitneyu"
   ]
  },
  {
   "cell_type": "markdown",
   "id": "586c3f0c",
   "metadata": {},
   "source": [
    "Import all the necesaries files"
   ]
  },
  {
   "cell_type": "code",
   "execution_count": 2,
   "id": "a4a5d921",
   "metadata": {},
   "outputs": [],
   "source": [
    "try:\n",
    "    data_calls = pd.read_csv('megaline_calls.csv')\n",
    "    data_internet = pd.read_csv('megaline_internet.csv')\n",
    "    data_messages = pd.read_csv('megaline_messages.csv')\n",
    "    data_plans = pd.read_csv('megaline_plans.csv')\n",
    "    data_users = pd.read_csv('megaline_users.csv')\n",
    "except:\n",
    "    data_users = pd.read_csv ('/datasets/megaline_users.csv')\n",
    "    data_plans = pd.read_csv ('/datasets/megaline_plans.csv')\n",
    "    data_calls = pd.read_csv ('/datasets/megaline_calls.csv')\n",
    "    data_messages = pd.read_csv ('/datasets/megaline_messages.csv')\n",
    "    data_internet = pd.read_csv ('/datasets/megaline_internet.csv')"
   ]
  },
  {
   "cell_type": "markdown",
   "id": "1543dd9d",
   "metadata": {},
   "source": [
    "<div class=\"alert alert-block alert-success\">\n",
    "<b>Reviewer's comment</b> <a class=\"tocSkip\"></a>\n",
    "    \n",
    "Title and description is very a important part. We want to know what we have and our plans. Thank you for try/except. It help us to download datasets from dindifferent places. Let's go!\n",
    "</div>"
   ]
  },
  {
   "cell_type": "code",
   "execution_count": 3,
   "id": "a6281716",
   "metadata": {},
   "outputs": [
    {
     "data": {
      "text/html": [
       "<div>\n",
       "<style scoped>\n",
       "    .dataframe tbody tr th:only-of-type {\n",
       "        vertical-align: middle;\n",
       "    }\n",
       "\n",
       "    .dataframe tbody tr th {\n",
       "        vertical-align: top;\n",
       "    }\n",
       "\n",
       "    .dataframe thead th {\n",
       "        text-align: right;\n",
       "    }\n",
       "</style>\n",
       "<table border=\"1\" class=\"dataframe\">\n",
       "  <thead>\n",
       "    <tr style=\"text-align: right;\">\n",
       "      <th></th>\n",
       "      <th>id</th>\n",
       "      <th>user_id</th>\n",
       "      <th>call_date</th>\n",
       "      <th>duration</th>\n",
       "    </tr>\n",
       "  </thead>\n",
       "  <tbody>\n",
       "    <tr>\n",
       "      <td>0</td>\n",
       "      <td>1000_93</td>\n",
       "      <td>1000</td>\n",
       "      <td>2018-12-27</td>\n",
       "      <td>8.52</td>\n",
       "    </tr>\n",
       "    <tr>\n",
       "      <td>1</td>\n",
       "      <td>1000_145</td>\n",
       "      <td>1000</td>\n",
       "      <td>2018-12-27</td>\n",
       "      <td>13.66</td>\n",
       "    </tr>\n",
       "    <tr>\n",
       "      <td>2</td>\n",
       "      <td>1000_247</td>\n",
       "      <td>1000</td>\n",
       "      <td>2018-12-27</td>\n",
       "      <td>14.48</td>\n",
       "    </tr>\n",
       "    <tr>\n",
       "      <td>3</td>\n",
       "      <td>1000_309</td>\n",
       "      <td>1000</td>\n",
       "      <td>2018-12-28</td>\n",
       "      <td>5.76</td>\n",
       "    </tr>\n",
       "    <tr>\n",
       "      <td>4</td>\n",
       "      <td>1000_380</td>\n",
       "      <td>1000</td>\n",
       "      <td>2018-12-30</td>\n",
       "      <td>4.22</td>\n",
       "    </tr>\n",
       "  </tbody>\n",
       "</table>\n",
       "</div>"
      ],
      "text/plain": [
       "         id  user_id   call_date  duration\n",
       "0   1000_93     1000  2018-12-27      8.52\n",
       "1  1000_145     1000  2018-12-27     13.66\n",
       "2  1000_247     1000  2018-12-27     14.48\n",
       "3  1000_309     1000  2018-12-28      5.76\n",
       "4  1000_380     1000  2018-12-30      4.22"
      ]
     },
     "metadata": {},
     "output_type": "display_data"
    }
   ],
   "source": [
    "#Print the first rows from the table using the head() method.\n",
    "display(data_calls.head())"
   ]
  },
  {
   "cell_type": "code",
   "execution_count": 4,
   "id": "86ff79cd",
   "metadata": {},
   "outputs": [
    {
     "data": {
      "text/html": [
       "<div>\n",
       "<style scoped>\n",
       "    .dataframe tbody tr th:only-of-type {\n",
       "        vertical-align: middle;\n",
       "    }\n",
       "\n",
       "    .dataframe tbody tr th {\n",
       "        vertical-align: top;\n",
       "    }\n",
       "\n",
       "    .dataframe thead th {\n",
       "        text-align: right;\n",
       "    }\n",
       "</style>\n",
       "<table border=\"1\" class=\"dataframe\">\n",
       "  <thead>\n",
       "    <tr style=\"text-align: right;\">\n",
       "      <th></th>\n",
       "      <th>id</th>\n",
       "      <th>user_id</th>\n",
       "      <th>session_date</th>\n",
       "      <th>mb_used</th>\n",
       "    </tr>\n",
       "  </thead>\n",
       "  <tbody>\n",
       "    <tr>\n",
       "      <td>0</td>\n",
       "      <td>1000_13</td>\n",
       "      <td>1000</td>\n",
       "      <td>2018-12-29</td>\n",
       "      <td>89.86</td>\n",
       "    </tr>\n",
       "    <tr>\n",
       "      <td>1</td>\n",
       "      <td>1000_204</td>\n",
       "      <td>1000</td>\n",
       "      <td>2018-12-31</td>\n",
       "      <td>0.00</td>\n",
       "    </tr>\n",
       "    <tr>\n",
       "      <td>2</td>\n",
       "      <td>1000_379</td>\n",
       "      <td>1000</td>\n",
       "      <td>2018-12-28</td>\n",
       "      <td>660.40</td>\n",
       "    </tr>\n",
       "    <tr>\n",
       "      <td>3</td>\n",
       "      <td>1000_413</td>\n",
       "      <td>1000</td>\n",
       "      <td>2018-12-26</td>\n",
       "      <td>270.99</td>\n",
       "    </tr>\n",
       "    <tr>\n",
       "      <td>4</td>\n",
       "      <td>1000_442</td>\n",
       "      <td>1000</td>\n",
       "      <td>2018-12-27</td>\n",
       "      <td>880.22</td>\n",
       "    </tr>\n",
       "  </tbody>\n",
       "</table>\n",
       "</div>"
      ],
      "text/plain": [
       "         id  user_id session_date  mb_used\n",
       "0   1000_13     1000   2018-12-29    89.86\n",
       "1  1000_204     1000   2018-12-31     0.00\n",
       "2  1000_379     1000   2018-12-28   660.40\n",
       "3  1000_413     1000   2018-12-26   270.99\n",
       "4  1000_442     1000   2018-12-27   880.22"
      ]
     },
     "metadata": {},
     "output_type": "display_data"
    }
   ],
   "source": [
    "#Print the first rows from the table using the head() method.\n",
    "display(data_internet.head())"
   ]
  },
  {
   "cell_type": "code",
   "execution_count": 5,
   "id": "2a7be88e",
   "metadata": {},
   "outputs": [
    {
     "data": {
      "text/html": [
       "<div>\n",
       "<style scoped>\n",
       "    .dataframe tbody tr th:only-of-type {\n",
       "        vertical-align: middle;\n",
       "    }\n",
       "\n",
       "    .dataframe tbody tr th {\n",
       "        vertical-align: top;\n",
       "    }\n",
       "\n",
       "    .dataframe thead th {\n",
       "        text-align: right;\n",
       "    }\n",
       "</style>\n",
       "<table border=\"1\" class=\"dataframe\">\n",
       "  <thead>\n",
       "    <tr style=\"text-align: right;\">\n",
       "      <th></th>\n",
       "      <th>id</th>\n",
       "      <th>user_id</th>\n",
       "      <th>message_date</th>\n",
       "    </tr>\n",
       "  </thead>\n",
       "  <tbody>\n",
       "    <tr>\n",
       "      <td>0</td>\n",
       "      <td>1000_125</td>\n",
       "      <td>1000</td>\n",
       "      <td>2018-12-27</td>\n",
       "    </tr>\n",
       "    <tr>\n",
       "      <td>1</td>\n",
       "      <td>1000_160</td>\n",
       "      <td>1000</td>\n",
       "      <td>2018-12-31</td>\n",
       "    </tr>\n",
       "    <tr>\n",
       "      <td>2</td>\n",
       "      <td>1000_223</td>\n",
       "      <td>1000</td>\n",
       "      <td>2018-12-31</td>\n",
       "    </tr>\n",
       "    <tr>\n",
       "      <td>3</td>\n",
       "      <td>1000_251</td>\n",
       "      <td>1000</td>\n",
       "      <td>2018-12-27</td>\n",
       "    </tr>\n",
       "    <tr>\n",
       "      <td>4</td>\n",
       "      <td>1000_255</td>\n",
       "      <td>1000</td>\n",
       "      <td>2018-12-26</td>\n",
       "    </tr>\n",
       "  </tbody>\n",
       "</table>\n",
       "</div>"
      ],
      "text/plain": [
       "         id  user_id message_date\n",
       "0  1000_125     1000   2018-12-27\n",
       "1  1000_160     1000   2018-12-31\n",
       "2  1000_223     1000   2018-12-31\n",
       "3  1000_251     1000   2018-12-27\n",
       "4  1000_255     1000   2018-12-26"
      ]
     },
     "metadata": {},
     "output_type": "display_data"
    }
   ],
   "source": [
    "#Print the first rows from the table using the head() method.\n",
    "display(data_messages.head())"
   ]
  },
  {
   "cell_type": "code",
   "execution_count": 6,
   "id": "704fd217",
   "metadata": {},
   "outputs": [
    {
     "data": {
      "text/html": [
       "<div>\n",
       "<style scoped>\n",
       "    .dataframe tbody tr th:only-of-type {\n",
       "        vertical-align: middle;\n",
       "    }\n",
       "\n",
       "    .dataframe tbody tr th {\n",
       "        vertical-align: top;\n",
       "    }\n",
       "\n",
       "    .dataframe thead th {\n",
       "        text-align: right;\n",
       "    }\n",
       "</style>\n",
       "<table border=\"1\" class=\"dataframe\">\n",
       "  <thead>\n",
       "    <tr style=\"text-align: right;\">\n",
       "      <th></th>\n",
       "      <th>messages_included</th>\n",
       "      <th>mb_per_month_included</th>\n",
       "      <th>minutes_included</th>\n",
       "      <th>usd_monthly_pay</th>\n",
       "      <th>usd_per_gb</th>\n",
       "      <th>usd_per_message</th>\n",
       "      <th>usd_per_minute</th>\n",
       "      <th>plan_name</th>\n",
       "    </tr>\n",
       "  </thead>\n",
       "  <tbody>\n",
       "    <tr>\n",
       "      <td>0</td>\n",
       "      <td>50</td>\n",
       "      <td>15360</td>\n",
       "      <td>500</td>\n",
       "      <td>20</td>\n",
       "      <td>10</td>\n",
       "      <td>0.03</td>\n",
       "      <td>0.03</td>\n",
       "      <td>surf</td>\n",
       "    </tr>\n",
       "    <tr>\n",
       "      <td>1</td>\n",
       "      <td>1000</td>\n",
       "      <td>30720</td>\n",
       "      <td>3000</td>\n",
       "      <td>70</td>\n",
       "      <td>7</td>\n",
       "      <td>0.01</td>\n",
       "      <td>0.01</td>\n",
       "      <td>ultimate</td>\n",
       "    </tr>\n",
       "  </tbody>\n",
       "</table>\n",
       "</div>"
      ],
      "text/plain": [
       "   messages_included  mb_per_month_included  minutes_included  \\\n",
       "0                 50                  15360               500   \n",
       "1               1000                  30720              3000   \n",
       "\n",
       "   usd_monthly_pay  usd_per_gb  usd_per_message  usd_per_minute plan_name  \n",
       "0               20          10             0.03            0.03      surf  \n",
       "1               70           7             0.01            0.01  ultimate  "
      ]
     },
     "metadata": {},
     "output_type": "display_data"
    }
   ],
   "source": [
    "#Print the table.\n",
    "display(data_plans)"
   ]
  },
  {
   "cell_type": "code",
   "execution_count": 7,
   "id": "a88fae02",
   "metadata": {
    "scrolled": false
   },
   "outputs": [
    {
     "data": {
      "text/html": [
       "<div>\n",
       "<style scoped>\n",
       "    .dataframe tbody tr th:only-of-type {\n",
       "        vertical-align: middle;\n",
       "    }\n",
       "\n",
       "    .dataframe tbody tr th {\n",
       "        vertical-align: top;\n",
       "    }\n",
       "\n",
       "    .dataframe thead th {\n",
       "        text-align: right;\n",
       "    }\n",
       "</style>\n",
       "<table border=\"1\" class=\"dataframe\">\n",
       "  <thead>\n",
       "    <tr style=\"text-align: right;\">\n",
       "      <th></th>\n",
       "      <th>user_id</th>\n",
       "      <th>first_name</th>\n",
       "      <th>last_name</th>\n",
       "      <th>age</th>\n",
       "      <th>city</th>\n",
       "      <th>reg_date</th>\n",
       "      <th>plan</th>\n",
       "      <th>churn_date</th>\n",
       "    </tr>\n",
       "  </thead>\n",
       "  <tbody>\n",
       "    <tr>\n",
       "      <td>0</td>\n",
       "      <td>1000</td>\n",
       "      <td>Anamaria</td>\n",
       "      <td>Bauer</td>\n",
       "      <td>45</td>\n",
       "      <td>Atlanta-Sandy Springs-Roswell, GA MSA</td>\n",
       "      <td>2018-12-24</td>\n",
       "      <td>ultimate</td>\n",
       "      <td>NaN</td>\n",
       "    </tr>\n",
       "    <tr>\n",
       "      <td>1</td>\n",
       "      <td>1001</td>\n",
       "      <td>Mickey</td>\n",
       "      <td>Wilkerson</td>\n",
       "      <td>28</td>\n",
       "      <td>Seattle-Tacoma-Bellevue, WA MSA</td>\n",
       "      <td>2018-08-13</td>\n",
       "      <td>surf</td>\n",
       "      <td>NaN</td>\n",
       "    </tr>\n",
       "    <tr>\n",
       "      <td>2</td>\n",
       "      <td>1002</td>\n",
       "      <td>Carlee</td>\n",
       "      <td>Hoffman</td>\n",
       "      <td>36</td>\n",
       "      <td>Las Vegas-Henderson-Paradise, NV MSA</td>\n",
       "      <td>2018-10-21</td>\n",
       "      <td>surf</td>\n",
       "      <td>NaN</td>\n",
       "    </tr>\n",
       "    <tr>\n",
       "      <td>3</td>\n",
       "      <td>1003</td>\n",
       "      <td>Reynaldo</td>\n",
       "      <td>Jenkins</td>\n",
       "      <td>52</td>\n",
       "      <td>Tulsa, OK MSA</td>\n",
       "      <td>2018-01-28</td>\n",
       "      <td>surf</td>\n",
       "      <td>NaN</td>\n",
       "    </tr>\n",
       "    <tr>\n",
       "      <td>4</td>\n",
       "      <td>1004</td>\n",
       "      <td>Leonila</td>\n",
       "      <td>Thompson</td>\n",
       "      <td>40</td>\n",
       "      <td>Seattle-Tacoma-Bellevue, WA MSA</td>\n",
       "      <td>2018-05-23</td>\n",
       "      <td>surf</td>\n",
       "      <td>NaN</td>\n",
       "    </tr>\n",
       "  </tbody>\n",
       "</table>\n",
       "</div>"
      ],
      "text/plain": [
       "   user_id first_name  last_name  age                                   city  \\\n",
       "0     1000   Anamaria      Bauer   45  Atlanta-Sandy Springs-Roswell, GA MSA   \n",
       "1     1001     Mickey  Wilkerson   28        Seattle-Tacoma-Bellevue, WA MSA   \n",
       "2     1002     Carlee    Hoffman   36   Las Vegas-Henderson-Paradise, NV MSA   \n",
       "3     1003   Reynaldo    Jenkins   52                          Tulsa, OK MSA   \n",
       "4     1004    Leonila   Thompson   40        Seattle-Tacoma-Bellevue, WA MSA   \n",
       "\n",
       "     reg_date      plan churn_date  \n",
       "0  2018-12-24  ultimate        NaN  \n",
       "1  2018-08-13      surf        NaN  \n",
       "2  2018-10-21      surf        NaN  \n",
       "3  2018-01-28      surf        NaN  \n",
       "4  2018-05-23      surf        NaN  "
      ]
     },
     "metadata": {},
     "output_type": "display_data"
    }
   ],
   "source": [
    "#Print the first rows from the table using the head() method.\n",
    "display(data_users.head())"
   ]
  },
  {
   "cell_type": "markdown",
   "id": "7f4f8ac0",
   "metadata": {},
   "source": [
    "<div class=\"alert alert-block alert-success\">\n",
    "<b>Reviewer's comment</b> <a class=\"tocSkip\"></a>\n",
    "    \n",
    "Well done! We have basic information about our data. Let's do something!\n",
    "\n",
    "</div>"
   ]
  },
  {
   "cell_type": "markdown",
   "id": "417eaf71",
   "metadata": {},
   "source": [
    "# Preparing the data"
   ]
  },
  {
   "cell_type": "markdown",
   "id": "f8b06f2b",
   "metadata": {},
   "source": [
    "### Checking for missing values \n",
    "let's look for missing values in the next tables : \n",
    "\n",
    "*. data_calls\n",
    "*. data_internet \n",
    "*. data_messages \n",
    "*. data_users\n",
    "*. data_plans"
   ]
  },
  {
   "cell_type": "code",
   "execution_count": 8,
   "id": "2863fa95",
   "metadata": {},
   "outputs": [
    {
     "name": "stdout",
     "output_type": "stream",
     "text": [
      "data_calls table - using info()method\n",
      "\n",
      "<class 'pandas.core.frame.DataFrame'>\n",
      "RangeIndex: 137735 entries, 0 to 137734\n",
      "Data columns (total 4 columns):\n",
      "id           137735 non-null object\n",
      "user_id      137735 non-null int64\n",
      "call_date    137735 non-null object\n",
      "duration     137735 non-null float64\n",
      "dtypes: float64(1), int64(1), object(2)\n",
      "memory usage: 4.2+ MB\n"
     ]
    },
    {
     "data": {
      "text/plain": [
       "None"
      ]
     },
     "metadata": {},
     "output_type": "display_data"
    },
    {
     "name": "stdout",
     "output_type": "stream",
     "text": [
      "#Lets look for missing values\n"
     ]
    },
    {
     "data": {
      "text/plain": [
       "id           0\n",
       "user_id      0\n",
       "call_date    0\n",
       "duration     0\n",
       "dtype: int64"
      ]
     },
     "metadata": {},
     "output_type": "display_data"
    },
    {
     "name": "stdout",
     "output_type": "stream",
     "text": [
      "\n",
      "\n",
      "data_internet table - using info()method\n",
      "\n",
      "<class 'pandas.core.frame.DataFrame'>\n",
      "RangeIndex: 104825 entries, 0 to 104824\n",
      "Data columns (total 4 columns):\n",
      "id              104825 non-null object\n",
      "user_id         104825 non-null int64\n",
      "session_date    104825 non-null object\n",
      "mb_used         104825 non-null float64\n",
      "dtypes: float64(1), int64(1), object(2)\n",
      "memory usage: 3.2+ MB\n"
     ]
    },
    {
     "data": {
      "text/plain": [
       "None"
      ]
     },
     "metadata": {},
     "output_type": "display_data"
    },
    {
     "name": "stdout",
     "output_type": "stream",
     "text": [
      "#Lets look for missing values\n"
     ]
    },
    {
     "data": {
      "text/plain": [
       "id              0\n",
       "user_id         0\n",
       "session_date    0\n",
       "mb_used         0\n",
       "dtype: int64"
      ]
     },
     "metadata": {},
     "output_type": "display_data"
    },
    {
     "name": "stdout",
     "output_type": "stream",
     "text": [
      "\n",
      "\n",
      "data_messages table - using info()method\n",
      "\n",
      "<class 'pandas.core.frame.DataFrame'>\n",
      "RangeIndex: 76051 entries, 0 to 76050\n",
      "Data columns (total 3 columns):\n",
      "id              76051 non-null object\n",
      "user_id         76051 non-null int64\n",
      "message_date    76051 non-null object\n",
      "dtypes: int64(1), object(2)\n",
      "memory usage: 1.7+ MB\n"
     ]
    },
    {
     "data": {
      "text/plain": [
       "None"
      ]
     },
     "metadata": {},
     "output_type": "display_data"
    },
    {
     "name": "stdout",
     "output_type": "stream",
     "text": [
      "#Lets look for missing values\n"
     ]
    },
    {
     "data": {
      "text/plain": [
       "id              0\n",
       "user_id         0\n",
       "message_date    0\n",
       "dtype: int64"
      ]
     },
     "metadata": {},
     "output_type": "display_data"
    },
    {
     "name": "stdout",
     "output_type": "stream",
     "text": [
      "\n",
      "\n",
      "data_plans table - using info()method\n",
      "\n",
      "<class 'pandas.core.frame.DataFrame'>\n",
      "RangeIndex: 2 entries, 0 to 1\n",
      "Data columns (total 8 columns):\n",
      "messages_included        2 non-null int64\n",
      "mb_per_month_included    2 non-null int64\n",
      "minutes_included         2 non-null int64\n",
      "usd_monthly_pay          2 non-null int64\n",
      "usd_per_gb               2 non-null int64\n",
      "usd_per_message          2 non-null float64\n",
      "usd_per_minute           2 non-null float64\n",
      "plan_name                2 non-null object\n",
      "dtypes: float64(2), int64(5), object(1)\n",
      "memory usage: 256.0+ bytes\n"
     ]
    },
    {
     "data": {
      "text/plain": [
       "None"
      ]
     },
     "metadata": {},
     "output_type": "display_data"
    },
    {
     "name": "stdout",
     "output_type": "stream",
     "text": [
      "#Lets look for missing values\n"
     ]
    },
    {
     "data": {
      "text/plain": [
       "messages_included        0\n",
       "mb_per_month_included    0\n",
       "minutes_included         0\n",
       "usd_monthly_pay          0\n",
       "usd_per_gb               0\n",
       "usd_per_message          0\n",
       "usd_per_minute           0\n",
       "plan_name                0\n",
       "dtype: int64"
      ]
     },
     "metadata": {},
     "output_type": "display_data"
    },
    {
     "name": "stdout",
     "output_type": "stream",
     "text": [
      "\n",
      "\n",
      "data_users table - using info()method\n",
      "\n",
      "<class 'pandas.core.frame.DataFrame'>\n",
      "RangeIndex: 500 entries, 0 to 499\n",
      "Data columns (total 8 columns):\n",
      "user_id       500 non-null int64\n",
      "first_name    500 non-null object\n",
      "last_name     500 non-null object\n",
      "age           500 non-null int64\n",
      "city          500 non-null object\n",
      "reg_date      500 non-null object\n",
      "plan          500 non-null object\n",
      "churn_date    34 non-null object\n",
      "dtypes: int64(2), object(6)\n",
      "memory usage: 31.4+ KB\n"
     ]
    },
    {
     "data": {
      "text/plain": [
       "None"
      ]
     },
     "metadata": {},
     "output_type": "display_data"
    },
    {
     "name": "stdout",
     "output_type": "stream",
     "text": [
      "#Lets look for missing values\n"
     ]
    },
    {
     "data": {
      "text/plain": [
       "user_id         0\n",
       "first_name      0\n",
       "last_name       0\n",
       "age             0\n",
       "city            0\n",
       "reg_date        0\n",
       "plan            0\n",
       "churn_date    466\n",
       "dtype: int64"
      ]
     },
     "metadata": {},
     "output_type": "display_data"
    },
    {
     "name": "stdout",
     "output_type": "stream",
     "text": [
      "\n",
      "\n"
     ]
    }
   ],
   "source": [
    "dict = {'data_calls':data_calls,'data_internet':data_internet, 'data_messages':data_messages, 'data_plans':data_plans, 'data_users':data_users }\n",
    "\n",
    "for data in dict:\n",
    "    print(data,'table - using info()method')\n",
    "    print()\n",
    "    display(dict[data].info())\n",
    "    print('#Lets look for missing values')\n",
    "    display(dict[data].isnull().sum())\n",
    "    print()\n",
    "    print()   "
   ]
  },
  {
   "cell_type": "markdown",
   "id": "d13e25b9",
   "metadata": {},
   "source": [
    "#### In the table data_users we have missing values for the churn_date column. \n",
    "\n",
    "The description of this column is : the date the user stopped using the service (if the value is missing, the calling plan was being used when this data was retrieved. \n",
    "\n",
    "So, we can conclude that all the users were using the service at the times the data was collected. For this reason, these are not missin values. And we don't need to fill these missing values, maybe we can change there data type. Let's continue working on the data, and if we feel the data type change for the churn_date column is necesary we will make it.\n",
    "Looks good! There is not missing values \n",
    "\n",
    "\n",
    "#### The dates in all the tables's columns are a object type\n",
    "Maybe we should change the data type for these columns to date type"
   ]
  },
  {
   "cell_type": "markdown",
   "id": "1838a019",
   "metadata": {},
   "source": [
    "#### Excluding the churn_date column there are  no missing values\n",
    "Looks good! No missing values in our tables, we can continue with the data pre-processing"
   ]
  },
  {
   "cell_type": "markdown",
   "id": "2f3142c0",
   "metadata": {},
   "source": [
    "<div class=\"alert alert-block alert-success\">\n",
    "<b>Reviewer's comment</b> <a class=\"tocSkip\"></a>\n",
    "    \n",
    "You are right!\n",
    "</div>"
   ]
  },
  {
   "cell_type": "markdown",
   "id": "d4710d11",
   "metadata": {},
   "source": [
    "### Now let's check if there are weird values. "
   ]
  },
  {
   "cell_type": "markdown",
   "id": "63d4cbc2",
   "metadata": {},
   "source": [
    "#### Let's check what about the zeros in the duration and mb_used columns.\n",
    "\n",
    "data_calls table --> duration column — call duration (in minutes)\n",
    "\n",
    "data_internet --> mb_used - the volume of data spent during the session (in megabytes)\n",
    "\n",
    "Why? We maybe expect from the users to use the internet at less for a few times every month, and the durations call to be greater than 0 minutos."
   ]
  },
  {
   "cell_type": "code",
   "execution_count": 9,
   "id": "f76e9294",
   "metadata": {},
   "outputs": [
    {
     "name": "stdout",
     "output_type": "stream",
     "text": [
      "Counts of ceros in the duration column - data_calls table\n",
      "id           26834\n",
      "user_id      26834\n",
      "call_date    26834\n",
      "duration     26834\n",
      "dtype: int64\n",
      "\n",
      "Counts of ceros in the mb_used column - data_internet table\n",
      "id              13747\n",
      "user_id         13747\n",
      "session_date    13747\n",
      "mb_used         13747\n",
      "dtype: int64\n"
     ]
    }
   ],
   "source": [
    "#count() method to check counts of zeros in the duration column\n",
    "print('Counts of ceros in the duration column - data_calls table')\n",
    "print(data_calls[data_calls['duration'] == 0].count())\n",
    "print()\n",
    "#count() method to check counts of zeros in the mb_used column\n",
    "print('Counts of ceros in the mb_used column - data_internet table')\n",
    "print(data_internet[data_internet['mb_used']== 0].count())"
   ]
  },
  {
   "cell_type": "markdown",
   "id": "6271e87d",
   "metadata": {},
   "source": [
    "Let's see how much this is percentage:"
   ]
  },
  {
   "cell_type": "code",
   "execution_count": 10,
   "id": "a318c948",
   "metadata": {},
   "outputs": [
    {
     "name": "stdout",
     "output_type": "stream",
     "text": [
      "Percentage of rows with durations calls equals to zero seconds: 19.48233927469416\n",
      "\n",
      "Percentage of row with volume values of data spent equals to zero: 13.11423801574052\n"
     ]
    }
   ],
   "source": [
    "#calculating the percentahe of values equals to cero in the columns\n",
    "print('Percentage of rows with durations calls equals to zero seconds:',data_calls[data_calls['duration'] == 0]['id'].count()*100/len(data_calls))\n",
    "print()\n",
    "print('Percentage of row with volume values of data spent equals to zero:',data_internet[data_internet['mb_used'] == 0]['id'].count()*100/len(data_internet))\n"
   ]
  },
  {
   "cell_type": "markdown",
   "id": "6ee7aaaf",
   "metadata": {},
   "source": [
    "These percentage are really high, and it's obvious that we can't just delete all these rows. Also, they are not critical high. If the percentage of values that are equals to zero was 50% or more was really weird. But this is not the case. It's logical that 19,48% of calls were zero seconds,all these can be missing calls. And we should have clients that don't use they internet so much, for example clients from the golds ages(80+ ages) or just clients that didn't spend data during a specific session. \n",
    "To be sure that there is not something weird here let's print the counts of the value counts of user_id only for rows where the values equals to zero. If we find out that all these zeros come from just a few clients them we can say that there is something strange (maybe). \n",
    "\n",
    "Let's check!"
   ]
  },
  {
   "cell_type": "code",
   "execution_count": 11,
   "id": "ca1499dd",
   "metadata": {},
   "outputs": [
    {
     "name": "stdout",
     "output_type": "stream",
     "text": [
      "Number of users in data_calls table with durations calls equal to cero: 478\n",
      "Number of users in data_internet table with values of data spent equals to cero: 477\n"
     ]
    }
   ],
   "source": [
    "print('Number of users in data_calls table with durations calls equal to cero:',data_calls[data_calls['duration'] == 0]['user_id'].value_counts().count())\n",
    "print('Number of users in data_internet table with values of data spent equals to cero:',data_internet[data_internet['mb_used']==0]['user_id'].value_counts().count())"
   ]
  },
  {
   "cell_type": "markdown",
   "id": "a335d4c6",
   "metadata": {},
   "source": [
    "Looks good! We have the data on 500 Megaline clients, and it's logical that almost all of them make calls that are not answered and have sessions in where they don't spent data."
   ]
  },
  {
   "cell_type": "markdown",
   "id": "b2c4e47a",
   "metadata": {},
   "source": [
    "<div class=\"alert alert-block alert-success\">\n",
    "<b>Reviewer's comment</b> <a class=\"tocSkip\"></a>\n",
    "    \n",
    "Great research! You ideas are excellent! \n",
    "    \n",
    "Note. Some telecom operators can says: 0 second is 1 minute. Because call was made and answer doesn't matter. Main factor is making call. It is not fair for clients, but it can be.\n",
    "</div>"
   ]
  },
  {
   "cell_type": "markdown",
   "id": "f5d83212",
   "metadata": {},
   "source": [
    "### Looking for duplicate values "
   ]
  },
  {
   "cell_type": "code",
   "execution_count": 12,
   "id": "95f02acf",
   "metadata": {},
   "outputs": [
    {
     "name": "stdout",
     "output_type": "stream",
     "text": [
      "Duplicates in data_calls table: 0\n",
      "Duplicates in data_internet table: 0\n",
      "Duplicates in data_messages table: 0\n",
      "Duplicates in data_plans table: 0\n",
      "Duplicates in data_users table: 0\n"
     ]
    }
   ],
   "source": [
    "dict = {'data_calls':data_calls,'data_internet':data_internet, 'data_messages':data_messages, 'data_plans':data_plans, 'data_users':data_users }\n",
    "for data in dict :\n",
    "    print('Duplicates in {} table: {}'.format(data,dict[data].duplicated().sum()))\n",
    "    #print() "
   ]
  },
  {
   "cell_type": "markdown",
   "id": "a6d35588",
   "metadata": {},
   "source": [
    "There are no duplicates! We can continue working."
   ]
  },
  {
   "cell_type": "markdown",
   "id": "55e62e6e",
   "metadata": {},
   "source": [
    "<div class=\"alert alert-block alert-success\">\n",
    "<b>Reviewer's comment</b> <a class=\"tocSkip\"></a>\n",
    "    \n",
    "Great!\n",
    "</div>"
   ]
  },
  {
   "cell_type": "markdown",
   "id": "153d6bdb",
   "metadata": {},
   "source": [
    "### Convert the data to the necessary types\n",
    "The type of the dates values are object. Will use to_datetime() method to change the types.\n",
    "{format = '%Y-%m-%d'}"
   ]
  },
  {
   "cell_type": "code",
   "execution_count": 13,
   "id": "b6ec4400",
   "metadata": {},
   "outputs": [],
   "source": [
    "data_calls['call_date'] = pd.to_datetime(data_calls['call_date'], format='%Y-%m-%d')\n",
    "data_internet['session_date'] = pd.to_datetime(data_internet['session_date'], format='%Y-%m-%d')\n",
    "data_messages['message_date'] = pd.to_datetime(data_messages['message_date'], format='%Y-%m-%d')\n",
    "data_users['reg_date'] = pd.to_datetime(data_users['reg_date'], format='%Y-%m-%d')"
   ]
  },
  {
   "cell_type": "markdown",
   "id": "50f10cb3",
   "metadata": {},
   "source": [
    "We finish with the data pre-processing!\n",
    "\n",
    "The next step will be to organize the data in order to analizage all we have in an easier way. "
   ]
  },
  {
   "cell_type": "markdown",
   "id": "f00d02fc",
   "metadata": {},
   "source": [
    "<div class=\"alert alert-block alert-success\">\n",
    "<b>Reviewer's comment</b> <a class=\"tocSkip\"></a>\n",
    "    \n",
    "OK\n",
    "</div>"
   ]
  },
  {
   "cell_type": "markdown",
   "id": "2dfd7158",
   "metadata": {},
   "source": [
    "# Organize the data\n",
    "\n",
    "#### For each user, we will find:\n",
    "* The number of calls made and minutes used per month\n",
    "\n",
    "* The number of text messages sent per month\n",
    "\n",
    "* The volume of data per month\n",
    "\n",
    "* The monthly revenue from each user "
   ]
  },
  {
   "cell_type": "markdown",
   "id": "8e16d00e",
   "metadata": {},
   "source": [
    "### The number of calls made and minutes used per month"
   ]
  },
  {
   "cell_type": "markdown",
   "id": "a56255b4",
   "metadata": {},
   "source": [
    "**Note:** Megaline rounds seconds up to minutes. For calls, each individual call is rounded up: even if the call lasted just one second, it will be counted as one minute. \n",
    "Let's round our minutes!"
   ]
  },
  {
   "cell_type": "code",
   "execution_count": 14,
   "id": "5b859ee7",
   "metadata": {},
   "outputs": [],
   "source": [
    "# round our minutes \n",
    "data_calls['duration'] = np.ceil(data_calls['duration'])"
   ]
  },
  {
   "cell_type": "code",
   "execution_count": 15,
   "id": "4e152692",
   "metadata": {},
   "outputs": [],
   "source": [
    "#Add a month column to the data_calls column\n",
    "data_calls['month'] = data_calls['call_date'].dt.month"
   ]
  },
  {
   "cell_type": "code",
   "execution_count": 16,
   "id": "17236d2c",
   "metadata": {
    "scrolled": true
   },
   "outputs": [
    {
     "data": {
      "text/html": [
       "<div>\n",
       "<style scoped>\n",
       "    .dataframe tbody tr th:only-of-type {\n",
       "        vertical-align: middle;\n",
       "    }\n",
       "\n",
       "    .dataframe tbody tr th {\n",
       "        vertical-align: top;\n",
       "    }\n",
       "\n",
       "    .dataframe thead th {\n",
       "        text-align: right;\n",
       "    }\n",
       "</style>\n",
       "<table border=\"1\" class=\"dataframe\">\n",
       "  <thead>\n",
       "    <tr style=\"text-align: right;\">\n",
       "      <th></th>\n",
       "      <th>user_id</th>\n",
       "      <th>month</th>\n",
       "      <th>total calls</th>\n",
       "      <th>total minutes</th>\n",
       "    </tr>\n",
       "  </thead>\n",
       "  <tbody>\n",
       "    <tr>\n",
       "      <td>0</td>\n",
       "      <td>1000</td>\n",
       "      <td>12</td>\n",
       "      <td>16</td>\n",
       "      <td>124.0</td>\n",
       "    </tr>\n",
       "    <tr>\n",
       "      <td>1</td>\n",
       "      <td>1001</td>\n",
       "      <td>8</td>\n",
       "      <td>27</td>\n",
       "      <td>182.0</td>\n",
       "    </tr>\n",
       "    <tr>\n",
       "      <td>2</td>\n",
       "      <td>1001</td>\n",
       "      <td>9</td>\n",
       "      <td>49</td>\n",
       "      <td>315.0</td>\n",
       "    </tr>\n",
       "    <tr>\n",
       "      <td>3</td>\n",
       "      <td>1001</td>\n",
       "      <td>10</td>\n",
       "      <td>65</td>\n",
       "      <td>393.0</td>\n",
       "    </tr>\n",
       "    <tr>\n",
       "      <td>4</td>\n",
       "      <td>1001</td>\n",
       "      <td>11</td>\n",
       "      <td>64</td>\n",
       "      <td>426.0</td>\n",
       "    </tr>\n",
       "  </tbody>\n",
       "</table>\n",
       "</div>"
      ],
      "text/plain": [
       "   user_id  month  total calls  total minutes\n",
       "0     1000     12           16          124.0\n",
       "1     1001      8           27          182.0\n",
       "2     1001      9           49          315.0\n",
       "3     1001     10           65          393.0\n",
       "4     1001     11           64          426.0"
      ]
     },
     "metadata": {},
     "output_type": "display_data"
    }
   ],
   "source": [
    "#Making a pivot table with the number of calls made and minutes used per month for each user_id\n",
    "data_month_calls = data_calls.pivot_table(index=['user_id','month'], values = 'duration', aggfunc=['count','sum'])\n",
    "data_month_calls.columns = data_month_calls.columns.droplevel(1)\n",
    "data_month_calls.columns = ['total calls', 'total minutes'] \n",
    "data_month_calls.reset_index(inplace=True)\n",
    "\n",
    "#Let's take a look!\n",
    "display(data_month_calls.head())"
   ]
  },
  {
   "cell_type": "markdown",
   "id": "46ba8571",
   "metadata": {},
   "source": [
    "<div class=\"alert alert-block alert-warning\">\n",
    "<b>Reviewer's comment</b> <a class=\"tocSkip\"></a>\n",
    "    \n",
    "Well done! Remember, Megaline rounds seconds up to minutes. So, our minutes are int.\n",
    "</div>"
   ]
  },
  {
   "cell_type": "markdown",
   "id": "744b4cb5",
   "metadata": {},
   "source": [
    "### The number of text messages sent per month"
   ]
  },
  {
   "cell_type": "code",
   "execution_count": 17,
   "id": "b4bd079c",
   "metadata": {},
   "outputs": [],
   "source": [
    "#Add a month column to the data_messages column\n",
    "data_messages['month'] = data_messages['message_date'].dt.month"
   ]
  },
  {
   "cell_type": "code",
   "execution_count": 18,
   "id": "01721e3b",
   "metadata": {
    "scrolled": true
   },
   "outputs": [
    {
     "data": {
      "text/html": [
       "<div>\n",
       "<style scoped>\n",
       "    .dataframe tbody tr th:only-of-type {\n",
       "        vertical-align: middle;\n",
       "    }\n",
       "\n",
       "    .dataframe tbody tr th {\n",
       "        vertical-align: top;\n",
       "    }\n",
       "\n",
       "    .dataframe thead th {\n",
       "        text-align: right;\n",
       "    }\n",
       "</style>\n",
       "<table border=\"1\" class=\"dataframe\">\n",
       "  <thead>\n",
       "    <tr style=\"text-align: right;\">\n",
       "      <th></th>\n",
       "      <th>user_id</th>\n",
       "      <th>month</th>\n",
       "      <th>total messages</th>\n",
       "    </tr>\n",
       "  </thead>\n",
       "  <tbody>\n",
       "    <tr>\n",
       "      <td>0</td>\n",
       "      <td>1000</td>\n",
       "      <td>12</td>\n",
       "      <td>11</td>\n",
       "    </tr>\n",
       "    <tr>\n",
       "      <td>1</td>\n",
       "      <td>1001</td>\n",
       "      <td>8</td>\n",
       "      <td>30</td>\n",
       "    </tr>\n",
       "    <tr>\n",
       "      <td>2</td>\n",
       "      <td>1001</td>\n",
       "      <td>9</td>\n",
       "      <td>44</td>\n",
       "    </tr>\n",
       "    <tr>\n",
       "      <td>3</td>\n",
       "      <td>1001</td>\n",
       "      <td>10</td>\n",
       "      <td>53</td>\n",
       "    </tr>\n",
       "    <tr>\n",
       "      <td>4</td>\n",
       "      <td>1001</td>\n",
       "      <td>11</td>\n",
       "      <td>36</td>\n",
       "    </tr>\n",
       "  </tbody>\n",
       "</table>\n",
       "</div>"
      ],
      "text/plain": [
       "   user_id  month  total messages\n",
       "0     1000     12              11\n",
       "1     1001      8              30\n",
       "2     1001      9              44\n",
       "3     1001     10              53\n",
       "4     1001     11              36"
      ]
     },
     "metadata": {},
     "output_type": "display_data"
    }
   ],
   "source": [
    "#Making a pivot table with the number of number of text messages sent per month for each user_id\n",
    "data_month_messages = data_messages.pivot_table(index=['user_id','month'], values = 'message_date', aggfunc=['count'])\n",
    "data_month_messages.columns = data_month_messages.columns.droplevel(1)\n",
    "data_month_messages.columns = ['total messages'] \n",
    "data_month_messages.reset_index(inplace=True)\n",
    "\n",
    "#Let's take a look!\n",
    "display(data_month_messages.head())"
   ]
  },
  {
   "cell_type": "markdown",
   "id": "c21e00f8",
   "metadata": {},
   "source": [
    "<div class=\"alert alert-block alert-success\">\n",
    "<b>Reviewer's comment</b> <a class=\"tocSkip\"></a>\n",
    "    \n",
    "Very good! Such table is very detailed!</div>"
   ]
  },
  {
   "cell_type": "markdown",
   "id": "d114ec9a",
   "metadata": {},
   "source": [
    "### The volume of data per month"
   ]
  },
  {
   "cell_type": "code",
   "execution_count": 19,
   "id": "e8175550",
   "metadata": {},
   "outputs": [
    {
     "data": {
      "text/html": [
       "<div>\n",
       "<style scoped>\n",
       "    .dataframe tbody tr th:only-of-type {\n",
       "        vertical-align: middle;\n",
       "    }\n",
       "\n",
       "    .dataframe tbody tr th {\n",
       "        vertical-align: top;\n",
       "    }\n",
       "\n",
       "    .dataframe thead th {\n",
       "        text-align: right;\n",
       "    }\n",
       "</style>\n",
       "<table border=\"1\" class=\"dataframe\">\n",
       "  <thead>\n",
       "    <tr style=\"text-align: right;\">\n",
       "      <th></th>\n",
       "      <th>id</th>\n",
       "      <th>user_id</th>\n",
       "      <th>session_date</th>\n",
       "      <th>mb_used</th>\n",
       "      <th>month</th>\n",
       "    </tr>\n",
       "  </thead>\n",
       "  <tbody>\n",
       "    <tr>\n",
       "      <td>0</td>\n",
       "      <td>1000_13</td>\n",
       "      <td>1000</td>\n",
       "      <td>2018-12-29</td>\n",
       "      <td>89.86</td>\n",
       "      <td>12</td>\n",
       "    </tr>\n",
       "    <tr>\n",
       "      <td>1</td>\n",
       "      <td>1000_204</td>\n",
       "      <td>1000</td>\n",
       "      <td>2018-12-31</td>\n",
       "      <td>0.00</td>\n",
       "      <td>12</td>\n",
       "    </tr>\n",
       "    <tr>\n",
       "      <td>2</td>\n",
       "      <td>1000_379</td>\n",
       "      <td>1000</td>\n",
       "      <td>2018-12-28</td>\n",
       "      <td>660.40</td>\n",
       "      <td>12</td>\n",
       "    </tr>\n",
       "    <tr>\n",
       "      <td>3</td>\n",
       "      <td>1000_413</td>\n",
       "      <td>1000</td>\n",
       "      <td>2018-12-26</td>\n",
       "      <td>270.99</td>\n",
       "      <td>12</td>\n",
       "    </tr>\n",
       "    <tr>\n",
       "      <td>4</td>\n",
       "      <td>1000_442</td>\n",
       "      <td>1000</td>\n",
       "      <td>2018-12-27</td>\n",
       "      <td>880.22</td>\n",
       "      <td>12</td>\n",
       "    </tr>\n",
       "  </tbody>\n",
       "</table>\n",
       "</div>"
      ],
      "text/plain": [
       "         id  user_id session_date  mb_used  month\n",
       "0   1000_13     1000   2018-12-29    89.86     12\n",
       "1  1000_204     1000   2018-12-31     0.00     12\n",
       "2  1000_379     1000   2018-12-28   660.40     12\n",
       "3  1000_413     1000   2018-12-26   270.99     12\n",
       "4  1000_442     1000   2018-12-27   880.22     12"
      ]
     },
     "metadata": {},
     "output_type": "display_data"
    }
   ],
   "source": [
    "#Add a month column to the data_messages column\n",
    "data_internet['month'] = data_internet['session_date'].dt.month\n",
    "#let's take a look\n",
    "display(data_internet.head())"
   ]
  },
  {
   "cell_type": "code",
   "execution_count": 20,
   "id": "70ff0335",
   "metadata": {},
   "outputs": [
    {
     "data": {
      "text/html": [
       "<div>\n",
       "<style scoped>\n",
       "    .dataframe tbody tr th:only-of-type {\n",
       "        vertical-align: middle;\n",
       "    }\n",
       "\n",
       "    .dataframe tbody tr th {\n",
       "        vertical-align: top;\n",
       "    }\n",
       "\n",
       "    .dataframe thead th {\n",
       "        text-align: right;\n",
       "    }\n",
       "</style>\n",
       "<table border=\"1\" class=\"dataframe\">\n",
       "  <thead>\n",
       "    <tr style=\"text-align: right;\">\n",
       "      <th></th>\n",
       "      <th>user_id</th>\n",
       "      <th>month</th>\n",
       "      <th>total mb_used</th>\n",
       "    </tr>\n",
       "  </thead>\n",
       "  <tbody>\n",
       "    <tr>\n",
       "      <td>0</td>\n",
       "      <td>1000</td>\n",
       "      <td>12</td>\n",
       "      <td>1901.47</td>\n",
       "    </tr>\n",
       "    <tr>\n",
       "      <td>1</td>\n",
       "      <td>1001</td>\n",
       "      <td>8</td>\n",
       "      <td>6919.15</td>\n",
       "    </tr>\n",
       "    <tr>\n",
       "      <td>2</td>\n",
       "      <td>1001</td>\n",
       "      <td>9</td>\n",
       "      <td>13314.82</td>\n",
       "    </tr>\n",
       "    <tr>\n",
       "      <td>3</td>\n",
       "      <td>1001</td>\n",
       "      <td>10</td>\n",
       "      <td>22330.49</td>\n",
       "    </tr>\n",
       "    <tr>\n",
       "      <td>4</td>\n",
       "      <td>1001</td>\n",
       "      <td>11</td>\n",
       "      <td>18504.30</td>\n",
       "    </tr>\n",
       "  </tbody>\n",
       "</table>\n",
       "</div>"
      ],
      "text/plain": [
       "   user_id  month  total mb_used\n",
       "0     1000     12        1901.47\n",
       "1     1001      8        6919.15\n",
       "2     1001      9       13314.82\n",
       "3     1001     10       22330.49\n",
       "4     1001     11       18504.30"
      ]
     },
     "metadata": {},
     "output_type": "display_data"
    }
   ],
   "source": [
    "#Making a pivot table with the volumen of data spent per month for each user_id\n",
    "data_month_internet = data_internet.pivot_table(index=['user_id','month'], values = 'mb_used', aggfunc=['sum'])\n",
    "data_month_internet.columns = data_month_internet.columns.droplevel(1)\n",
    "data_month_internet.columns = ['total mb_used'] \n",
    "data_month_internet.reset_index(inplace=True)\n",
    "\n",
    "#let's take a look\n",
    "display(data_month_internet.head())"
   ]
  },
  {
   "cell_type": "markdown",
   "id": "095b24ae",
   "metadata": {},
   "source": [
    "**Note:** For web traffic, individual web sessions are not rounded up. Instead, the total for the month is rounded up. If someone uses 1025 megabytes this month, they will be charged for 2 gigabytes."
   ]
  },
  {
   "cell_type": "code",
   "execution_count": 21,
   "id": "09d99c26",
   "metadata": {
    "scrolled": true
   },
   "outputs": [
    {
     "data": {
      "text/html": [
       "<div>\n",
       "<style scoped>\n",
       "    .dataframe tbody tr th:only-of-type {\n",
       "        vertical-align: middle;\n",
       "    }\n",
       "\n",
       "    .dataframe tbody tr th {\n",
       "        vertical-align: top;\n",
       "    }\n",
       "\n",
       "    .dataframe thead th {\n",
       "        text-align: right;\n",
       "    }\n",
       "</style>\n",
       "<table border=\"1\" class=\"dataframe\">\n",
       "  <thead>\n",
       "    <tr style=\"text-align: right;\">\n",
       "      <th></th>\n",
       "      <th>user_id</th>\n",
       "      <th>month</th>\n",
       "      <th>total mb_used</th>\n",
       "      <th>total gigabytes</th>\n",
       "    </tr>\n",
       "  </thead>\n",
       "  <tbody>\n",
       "    <tr>\n",
       "      <td>0</td>\n",
       "      <td>1000</td>\n",
       "      <td>12</td>\n",
       "      <td>1901.47</td>\n",
       "      <td>2.0</td>\n",
       "    </tr>\n",
       "    <tr>\n",
       "      <td>1</td>\n",
       "      <td>1001</td>\n",
       "      <td>8</td>\n",
       "      <td>6919.15</td>\n",
       "      <td>7.0</td>\n",
       "    </tr>\n",
       "    <tr>\n",
       "      <td>2</td>\n",
       "      <td>1001</td>\n",
       "      <td>9</td>\n",
       "      <td>13314.82</td>\n",
       "      <td>14.0</td>\n",
       "    </tr>\n",
       "    <tr>\n",
       "      <td>3</td>\n",
       "      <td>1001</td>\n",
       "      <td>10</td>\n",
       "      <td>22330.49</td>\n",
       "      <td>23.0</td>\n",
       "    </tr>\n",
       "    <tr>\n",
       "      <td>4</td>\n",
       "      <td>1001</td>\n",
       "      <td>11</td>\n",
       "      <td>18504.30</td>\n",
       "      <td>19.0</td>\n",
       "    </tr>\n",
       "  </tbody>\n",
       "</table>\n",
       "</div>"
      ],
      "text/plain": [
       "   user_id  month  total mb_used  total gigabytes\n",
       "0     1000     12        1901.47              2.0\n",
       "1     1001      8        6919.15              7.0\n",
       "2     1001      9       13314.82             14.0\n",
       "3     1001     10       22330.49             23.0\n",
       "4     1001     11       18504.30             19.0"
      ]
     },
     "metadata": {},
     "output_type": "display_data"
    }
   ],
   "source": [
    "# Add a new column to data_month_internet table with round our megabytes to gigabytes\n",
    "data_month_internet['total gigabytes'] = np.ceil(data_month_internet['total mb_used'] * 0.001)\n",
    "\n",
    "#Let's take a look!\n",
    "display(data_month_internet.head())"
   ]
  },
  {
   "cell_type": "markdown",
   "id": "578f8929",
   "metadata": {},
   "source": [
    "<div class=\"alert alert-block alert-success\">\n",
    "<b>Reviewer's comment</b> <a class=\"tocSkip\"></a>\n",
    "    \n",
    "Great! You round up megabytes. Not good for client, but good for Megaline. :)\n",
    "    \n",
    "Note, that gb is int.\n",
    "</div>"
   ]
  },
  {
   "cell_type": "markdown",
   "id": "790cf762",
   "metadata": {},
   "source": [
    "### Let's put all the relevant data in the same table"
   ]
  },
  {
   "cell_type": "code",
   "execution_count": 22,
   "id": "8bb9493f",
   "metadata": {
    "scrolled": true
   },
   "outputs": [
    {
     "data": {
      "text/html": [
       "<div>\n",
       "<style scoped>\n",
       "    .dataframe tbody tr th:only-of-type {\n",
       "        vertical-align: middle;\n",
       "    }\n",
       "\n",
       "    .dataframe tbody tr th {\n",
       "        vertical-align: top;\n",
       "    }\n",
       "\n",
       "    .dataframe thead th {\n",
       "        text-align: right;\n",
       "    }\n",
       "</style>\n",
       "<table border=\"1\" class=\"dataframe\">\n",
       "  <thead>\n",
       "    <tr style=\"text-align: right;\">\n",
       "      <th></th>\n",
       "      <th>user_id</th>\n",
       "      <th>month</th>\n",
       "      <th>total calls</th>\n",
       "      <th>total minutes</th>\n",
       "      <th>total mb_used</th>\n",
       "      <th>total gigabytes</th>\n",
       "      <th>total messages</th>\n",
       "    </tr>\n",
       "  </thead>\n",
       "  <tbody>\n",
       "    <tr>\n",
       "      <td>2283</td>\n",
       "      <td>1194</td>\n",
       "      <td>12</td>\n",
       "      <td>0.0</td>\n",
       "      <td>0.0</td>\n",
       "      <td>31088.49</td>\n",
       "      <td>32.0</td>\n",
       "      <td>56.0</td>\n",
       "    </tr>\n",
       "    <tr>\n",
       "      <td>2284</td>\n",
       "      <td>1204</td>\n",
       "      <td>11</td>\n",
       "      <td>0.0</td>\n",
       "      <td>0.0</td>\n",
       "      <td>21346.95</td>\n",
       "      <td>22.0</td>\n",
       "      <td>42.0</td>\n",
       "    </tr>\n",
       "    <tr>\n",
       "      <td>2285</td>\n",
       "      <td>1204</td>\n",
       "      <td>12</td>\n",
       "      <td>0.0</td>\n",
       "      <td>0.0</td>\n",
       "      <td>36730.05</td>\n",
       "      <td>37.0</td>\n",
       "      <td>78.0</td>\n",
       "    </tr>\n",
       "    <tr>\n",
       "      <td>2286</td>\n",
       "      <td>1224</td>\n",
       "      <td>6</td>\n",
       "      <td>0.0</td>\n",
       "      <td>0.0</td>\n",
       "      <td>2966.21</td>\n",
       "      <td>3.0</td>\n",
       "      <td>5.0</td>\n",
       "    </tr>\n",
       "    <tr>\n",
       "      <td>2287</td>\n",
       "      <td>1311</td>\n",
       "      <td>6</td>\n",
       "      <td>0.0</td>\n",
       "      <td>0.0</td>\n",
       "      <td>1498.83</td>\n",
       "      <td>2.0</td>\n",
       "      <td>0.0</td>\n",
       "    </tr>\n",
       "    <tr>\n",
       "      <td>2288</td>\n",
       "      <td>1349</td>\n",
       "      <td>10</td>\n",
       "      <td>0.0</td>\n",
       "      <td>0.0</td>\n",
       "      <td>13093.55</td>\n",
       "      <td>14.0</td>\n",
       "      <td>76.0</td>\n",
       "    </tr>\n",
       "    <tr>\n",
       "      <td>2289</td>\n",
       "      <td>1349</td>\n",
       "      <td>11</td>\n",
       "      <td>0.0</td>\n",
       "      <td>0.0</td>\n",
       "      <td>17128.26</td>\n",
       "      <td>18.0</td>\n",
       "      <td>72.0</td>\n",
       "    </tr>\n",
       "    <tr>\n",
       "      <td>2290</td>\n",
       "      <td>1349</td>\n",
       "      <td>12</td>\n",
       "      <td>0.0</td>\n",
       "      <td>0.0</td>\n",
       "      <td>13039.91</td>\n",
       "      <td>14.0</td>\n",
       "      <td>61.0</td>\n",
       "    </tr>\n",
       "    <tr>\n",
       "      <td>2291</td>\n",
       "      <td>1361</td>\n",
       "      <td>5</td>\n",
       "      <td>0.0</td>\n",
       "      <td>0.0</td>\n",
       "      <td>1519.69</td>\n",
       "      <td>2.0</td>\n",
       "      <td>2.0</td>\n",
       "    </tr>\n",
       "    <tr>\n",
       "      <td>2292</td>\n",
       "      <td>1482</td>\n",
       "      <td>10</td>\n",
       "      <td>0.0</td>\n",
       "      <td>0.0</td>\n",
       "      <td>0.00</td>\n",
       "      <td>0.0</td>\n",
       "      <td>2.0</td>\n",
       "    </tr>\n",
       "  </tbody>\n",
       "</table>\n",
       "</div>"
      ],
      "text/plain": [
       "      user_id  month  total calls  total minutes  total mb_used  \\\n",
       "2283     1194     12          0.0            0.0       31088.49   \n",
       "2284     1204     11          0.0            0.0       21346.95   \n",
       "2285     1204     12          0.0            0.0       36730.05   \n",
       "2286     1224      6          0.0            0.0        2966.21   \n",
       "2287     1311      6          0.0            0.0        1498.83   \n",
       "2288     1349     10          0.0            0.0       13093.55   \n",
       "2289     1349     11          0.0            0.0       17128.26   \n",
       "2290     1349     12          0.0            0.0       13039.91   \n",
       "2291     1361      5          0.0            0.0        1519.69   \n",
       "2292     1482     10          0.0            0.0           0.00   \n",
       "\n",
       "      total gigabytes  total messages  \n",
       "2283             32.0            56.0  \n",
       "2284             22.0            42.0  \n",
       "2285             37.0            78.0  \n",
       "2286              3.0             5.0  \n",
       "2287              2.0             0.0  \n",
       "2288             14.0            76.0  \n",
       "2289             18.0            72.0  \n",
       "2290             14.0            61.0  \n",
       "2291              2.0             2.0  \n",
       "2292              0.0             2.0  "
      ]
     },
     "metadata": {},
     "output_type": "display_data"
    }
   ],
   "source": [
    "# create a new data frame starting with all users\n",
    "# merging tables in 2 steps\n",
    "data_revenues0 = pd.merge(left = data_month_calls , \n",
    "                right = data_month_internet, how='outer',on=['user_id', 'month']).fillna(0)\n",
    "\n",
    "data_revenues1 = pd.merge(left = data_revenues0 , \n",
    "                right = data_month_messages, how='outer',on=['user_id', 'month']).fillna(0)\n",
    "display(data_revenues1.tail(10))"
   ]
  },
  {
   "cell_type": "markdown",
   "id": "ac4b60fc",
   "metadata": {},
   "source": [
    "<div class=\"alert alert-block alert-success\">\n",
    "<b>Reviewer's comment</b> <a class=\"tocSkip\"></a>\n",
    "    \n",
    "This table has information about all users. Great! Let's add calls and minutes.\n",
    "</div>"
   ]
  },
  {
   "cell_type": "markdown",
   "id": "b72501a0",
   "metadata": {},
   "source": [
    "Now let's add the name of the plan that each user is using, this will help us later to calculate the monthly revenue from each user."
   ]
  },
  {
   "cell_type": "code",
   "execution_count": 23,
   "id": "a2761528",
   "metadata": {},
   "outputs": [
    {
     "data": {
      "text/html": [
       "<div>\n",
       "<style scoped>\n",
       "    .dataframe tbody tr th:only-of-type {\n",
       "        vertical-align: middle;\n",
       "    }\n",
       "\n",
       "    .dataframe tbody tr th {\n",
       "        vertical-align: top;\n",
       "    }\n",
       "\n",
       "    .dataframe thead th {\n",
       "        text-align: right;\n",
       "    }\n",
       "</style>\n",
       "<table border=\"1\" class=\"dataframe\">\n",
       "  <thead>\n",
       "    <tr style=\"text-align: right;\">\n",
       "      <th></th>\n",
       "      <th>user_id</th>\n",
       "      <th>plan</th>\n",
       "    </tr>\n",
       "  </thead>\n",
       "  <tbody>\n",
       "    <tr>\n",
       "      <td>495</td>\n",
       "      <td>1495</td>\n",
       "      <td>surf</td>\n",
       "    </tr>\n",
       "    <tr>\n",
       "      <td>496</td>\n",
       "      <td>1496</td>\n",
       "      <td>surf</td>\n",
       "    </tr>\n",
       "    <tr>\n",
       "      <td>497</td>\n",
       "      <td>1497</td>\n",
       "      <td>ultimate</td>\n",
       "    </tr>\n",
       "    <tr>\n",
       "      <td>498</td>\n",
       "      <td>1498</td>\n",
       "      <td>surf</td>\n",
       "    </tr>\n",
       "    <tr>\n",
       "      <td>499</td>\n",
       "      <td>1499</td>\n",
       "      <td>surf</td>\n",
       "    </tr>\n",
       "  </tbody>\n",
       "</table>\n",
       "</div>"
      ],
      "text/plain": [
       "     user_id      plan\n",
       "495     1495      surf\n",
       "496     1496      surf\n",
       "497     1497  ultimate\n",
       "498     1498      surf\n",
       "499     1499      surf"
      ]
     },
     "execution_count": 23,
     "metadata": {},
     "output_type": "execute_result"
    }
   ],
   "source": [
    "#Using loc to make a new table only with the user_id and plan to each user_id\n",
    "users_and_plans =  data_users.loc[:, ['user_id','plan']]\n",
    "#Let's check the last user_id we have\n",
    "users_and_plans.tail()"
   ]
  },
  {
   "cell_type": "markdown",
   "id": "df22cc52",
   "metadata": {},
   "source": [
    "<div class=\"alert alert-block alert-success\">\n",
    "<b>Reviewer's comment</b> <a class=\"tocSkip\"></a>\n",
    "    \n",
    "Well done!\n",
    "</div>"
   ]
  },
  {
   "cell_type": "markdown",
   "id": "0693bd59",
   "metadata": {},
   "source": [
    "Now it's time to make the last merge! \n",
    "\n",
    "merge() inner join  will discard only those rows that do not match.That's importan! We only want to use the data from the 500 clients we got in the data_users table, we want to work only with that clientes and in that way we can always come back to that table for referens and know from way we took the data. It's important to be organised!"
   ]
  },
  {
   "cell_type": "code",
   "execution_count": 24,
   "id": "58ab6f56",
   "metadata": {},
   "outputs": [
    {
     "data": {
      "text/html": [
       "<div>\n",
       "<style scoped>\n",
       "    .dataframe tbody tr th:only-of-type {\n",
       "        vertical-align: middle;\n",
       "    }\n",
       "\n",
       "    .dataframe tbody tr th {\n",
       "        vertical-align: top;\n",
       "    }\n",
       "\n",
       "    .dataframe thead th {\n",
       "        text-align: right;\n",
       "    }\n",
       "</style>\n",
       "<table border=\"1\" class=\"dataframe\">\n",
       "  <thead>\n",
       "    <tr style=\"text-align: right;\">\n",
       "      <th></th>\n",
       "      <th>user_id</th>\n",
       "      <th>month</th>\n",
       "      <th>total calls</th>\n",
       "      <th>total minutes</th>\n",
       "      <th>total mb_used</th>\n",
       "      <th>total gigabytes</th>\n",
       "      <th>total messages</th>\n",
       "      <th>plan</th>\n",
       "    </tr>\n",
       "  </thead>\n",
       "  <tbody>\n",
       "    <tr>\n",
       "      <td>2288</td>\n",
       "      <td>1204</td>\n",
       "      <td>11</td>\n",
       "      <td>0.0</td>\n",
       "      <td>0.0</td>\n",
       "      <td>21346.95</td>\n",
       "      <td>22.0</td>\n",
       "      <td>42.0</td>\n",
       "      <td>ultimate</td>\n",
       "    </tr>\n",
       "    <tr>\n",
       "      <td>2289</td>\n",
       "      <td>1204</td>\n",
       "      <td>12</td>\n",
       "      <td>0.0</td>\n",
       "      <td>0.0</td>\n",
       "      <td>36730.05</td>\n",
       "      <td>37.0</td>\n",
       "      <td>78.0</td>\n",
       "      <td>ultimate</td>\n",
       "    </tr>\n",
       "    <tr>\n",
       "      <td>2290</td>\n",
       "      <td>1349</td>\n",
       "      <td>10</td>\n",
       "      <td>0.0</td>\n",
       "      <td>0.0</td>\n",
       "      <td>13093.55</td>\n",
       "      <td>14.0</td>\n",
       "      <td>76.0</td>\n",
       "      <td>surf</td>\n",
       "    </tr>\n",
       "    <tr>\n",
       "      <td>2291</td>\n",
       "      <td>1349</td>\n",
       "      <td>11</td>\n",
       "      <td>0.0</td>\n",
       "      <td>0.0</td>\n",
       "      <td>17128.26</td>\n",
       "      <td>18.0</td>\n",
       "      <td>72.0</td>\n",
       "      <td>surf</td>\n",
       "    </tr>\n",
       "    <tr>\n",
       "      <td>2292</td>\n",
       "      <td>1349</td>\n",
       "      <td>12</td>\n",
       "      <td>0.0</td>\n",
       "      <td>0.0</td>\n",
       "      <td>13039.91</td>\n",
       "      <td>14.0</td>\n",
       "      <td>61.0</td>\n",
       "      <td>surf</td>\n",
       "    </tr>\n",
       "  </tbody>\n",
       "</table>\n",
       "</div>"
      ],
      "text/plain": [
       "      user_id  month  total calls  total minutes  total mb_used  \\\n",
       "2288     1204     11          0.0            0.0       21346.95   \n",
       "2289     1204     12          0.0            0.0       36730.05   \n",
       "2290     1349     10          0.0            0.0       13093.55   \n",
       "2291     1349     11          0.0            0.0       17128.26   \n",
       "2292     1349     12          0.0            0.0       13039.91   \n",
       "\n",
       "      total gigabytes  total messages      plan  \n",
       "2288             22.0            42.0  ultimate  \n",
       "2289             37.0            78.0  ultimate  \n",
       "2290             14.0            76.0      surf  \n",
       "2291             18.0            72.0      surf  \n",
       "2292             14.0            61.0      surf  "
      ]
     },
     "metadata": {},
     "output_type": "display_data"
    }
   ],
   "source": [
    "# merging tables for the last time! \n",
    "data_revenues = pd.merge(left = data_revenues1, \n",
    "                right = users_and_plans , how='inner', on=['user_id']).fillna(0)\n",
    "\n",
    "#Change month type from float64 to type int32\tInteger (-2147483648 to 2147483647)\n",
    "data_revenues['month'] = data_revenues['month'].astype(\"int32\")\n",
    "\n",
    "#let's check thats everthing looks good!\n",
    "display(data_revenues.tail())"
   ]
  },
  {
   "cell_type": "markdown",
   "id": "e98062c4",
   "metadata": {},
   "source": [
    "Almost there! Now we need to calculate the total cost and add the respective column to our table."
   ]
  },
  {
   "cell_type": "markdown",
   "id": "c174c8ae",
   "metadata": {},
   "source": [
    "<div class=\"alert alert-block alert-success\">\n",
    "<b>Reviewer's comment</b> <a class=\"tocSkip\"></a>\n",
    "    \n",
    "Inner join is a great choice for our dataset. Now we have plans in our dataset!\n",
    "</div>"
   ]
  },
  {
   "cell_type": "markdown",
   "id": "822c67c9",
   "metadata": {},
   "source": [
    "### Calculating the monthly revenue from each user "
   ]
  },
  {
   "cell_type": "markdown",
   "id": "814ced38",
   "metadata": {},
   "source": [
    "We will calculate the monthly revenue from each user and add a column with this values. The name of the column will be total_cost."
   ]
  },
  {
   "cell_type": "code",
   "execution_count": 25,
   "id": "3b270443",
   "metadata": {},
   "outputs": [],
   "source": [
    "def cost(row): \n",
    "    plan = row['plan']\n",
    "    minutes = row['total minutes']\n",
    "    message= row['total messages']\n",
    "    GB = row['total gigabytes']\n",
    "    \n",
    "    if plan == 'surf' :\n",
    "        monthly_charge = 20.0\n",
    "        if minutes > 500.0 :\n",
    "            cost_minutes = 0.3 * (minutes-500)\n",
    "        else :\n",
    "            cost_minutes = 0.0\n",
    "        if message > 50.0 :\n",
    "            cost_message = 0.3 * (message-50)\n",
    "        else :\n",
    "            cost_message = 0.0       \n",
    "        if GB > 15.0 :\n",
    "            cost_GB = 10.0 * (GB-15)\n",
    "        else :\n",
    "            cost_GB = 0.0      \n",
    "    else :\n",
    "        monthly_charge = 70.0\n",
    "        if minutes > 3000.0 :\n",
    "            cost_minutes = 0.1 * (minutes-3000)\n",
    "        else :\n",
    "            cost_minutes = 0.0\n",
    "        if message > 1000.0 :\n",
    "            cost_message = 0.1 * (message-1000)\n",
    "        else :\n",
    "            cost_message = 0.0        \n",
    "        if GB > 30.0 :\n",
    "            cost_GB = 7.0 * (GB-30)\n",
    "        else :\n",
    "            cost_GB = 0.0    \n",
    "    return monthly_charge+cost_minutes+cost_message+cost_GB      \n",
    "\n",
    "#Ussing apply()method to use the cost funtion\n",
    "data_revenues['total_cost'] = data_revenues.apply(cost, axis=1)"
   ]
  },
  {
   "cell_type": "code",
   "execution_count": 26,
   "id": "d6b06e02",
   "metadata": {
    "scrolled": true
   },
   "outputs": [
    {
     "data": {
      "text/html": [
       "<div>\n",
       "<style scoped>\n",
       "    .dataframe tbody tr th:only-of-type {\n",
       "        vertical-align: middle;\n",
       "    }\n",
       "\n",
       "    .dataframe tbody tr th {\n",
       "        vertical-align: top;\n",
       "    }\n",
       "\n",
       "    .dataframe thead th {\n",
       "        text-align: right;\n",
       "    }\n",
       "</style>\n",
       "<table border=\"1\" class=\"dataframe\">\n",
       "  <thead>\n",
       "    <tr style=\"text-align: right;\">\n",
       "      <th></th>\n",
       "      <th>user_id</th>\n",
       "      <th>month</th>\n",
       "      <th>total calls</th>\n",
       "      <th>total minutes</th>\n",
       "      <th>total mb_used</th>\n",
       "      <th>total gigabytes</th>\n",
       "      <th>total messages</th>\n",
       "      <th>plan</th>\n",
       "      <th>total_cost</th>\n",
       "    </tr>\n",
       "  </thead>\n",
       "  <tbody>\n",
       "    <tr>\n",
       "      <td>0</td>\n",
       "      <td>1000</td>\n",
       "      <td>12</td>\n",
       "      <td>16.0</td>\n",
       "      <td>124.0</td>\n",
       "      <td>1901.47</td>\n",
       "      <td>2.0</td>\n",
       "      <td>11.0</td>\n",
       "      <td>ultimate</td>\n",
       "      <td>70.0</td>\n",
       "    </tr>\n",
       "    <tr>\n",
       "      <td>1</td>\n",
       "      <td>1001</td>\n",
       "      <td>8</td>\n",
       "      <td>27.0</td>\n",
       "      <td>182.0</td>\n",
       "      <td>6919.15</td>\n",
       "      <td>7.0</td>\n",
       "      <td>30.0</td>\n",
       "      <td>surf</td>\n",
       "      <td>20.0</td>\n",
       "    </tr>\n",
       "    <tr>\n",
       "      <td>2</td>\n",
       "      <td>1001</td>\n",
       "      <td>9</td>\n",
       "      <td>49.0</td>\n",
       "      <td>315.0</td>\n",
       "      <td>13314.82</td>\n",
       "      <td>14.0</td>\n",
       "      <td>44.0</td>\n",
       "      <td>surf</td>\n",
       "      <td>20.0</td>\n",
       "    </tr>\n",
       "    <tr>\n",
       "      <td>3</td>\n",
       "      <td>1001</td>\n",
       "      <td>10</td>\n",
       "      <td>65.0</td>\n",
       "      <td>393.0</td>\n",
       "      <td>22330.49</td>\n",
       "      <td>23.0</td>\n",
       "      <td>53.0</td>\n",
       "      <td>surf</td>\n",
       "      <td>100.9</td>\n",
       "    </tr>\n",
       "    <tr>\n",
       "      <td>4</td>\n",
       "      <td>1001</td>\n",
       "      <td>11</td>\n",
       "      <td>64.0</td>\n",
       "      <td>426.0</td>\n",
       "      <td>18504.30</td>\n",
       "      <td>19.0</td>\n",
       "      <td>36.0</td>\n",
       "      <td>surf</td>\n",
       "      <td>60.0</td>\n",
       "    </tr>\n",
       "  </tbody>\n",
       "</table>\n",
       "</div>"
      ],
      "text/plain": [
       "   user_id  month  total calls  total minutes  total mb_used  total gigabytes  \\\n",
       "0     1000     12         16.0          124.0        1901.47              2.0   \n",
       "1     1001      8         27.0          182.0        6919.15              7.0   \n",
       "2     1001      9         49.0          315.0       13314.82             14.0   \n",
       "3     1001     10         65.0          393.0       22330.49             23.0   \n",
       "4     1001     11         64.0          426.0       18504.30             19.0   \n",
       "\n",
       "   total messages      plan  total_cost  \n",
       "0            11.0  ultimate        70.0  \n",
       "1            30.0      surf        20.0  \n",
       "2            44.0      surf        20.0  \n",
       "3            53.0      surf       100.9  \n",
       "4            36.0      surf        60.0  "
      ]
     },
     "metadata": {},
     "output_type": "display_data"
    }
   ],
   "source": [
    "#Let's take a look at our final table!\n",
    "display(data_revenues.head())"
   ]
  },
  {
   "cell_type": "markdown",
   "id": "e7f73168",
   "metadata": {},
   "source": [
    "<div class=\"alert alert-block alert-success\">\n",
    "<b>Reviewer's comment</b> <a class=\"tocSkip\"></a>\n",
    "    \n",
    "Excellent function! Now wehave all information about each user.\n",
    "</div>"
   ]
  },
  {
   "cell_type": "markdown",
   "id": "bc625839",
   "metadata": {},
   "source": [
    "# Analyzing the data\n",
    "\n",
    "We are ready to describe the customers' behavior. How will we do it?\n",
    "1. We will find the minutes, texts, and volume of data the users of each plan require per month. \n",
    "2. We will calculate the mean, dispersion, and standard deviation. \n",
    "3. We will plot histograms that will helps us to describe the distributions."
   ]
  },
  {
   "cell_type": "markdown",
   "id": "886ccfff",
   "metadata": {},
   "source": [
    "### Calculating the minutes, texts, and volume of data the users of each plan require per month"
   ]
  },
  {
   "cell_type": "code",
   "execution_count": 27,
   "id": "f79a3c1b",
   "metadata": {},
   "outputs": [
    {
     "data": {
      "text/html": [
       "<div>\n",
       "<style scoped>\n",
       "    .dataframe tbody tr th:only-of-type {\n",
       "        vertical-align: middle;\n",
       "    }\n",
       "\n",
       "    .dataframe tbody tr th {\n",
       "        vertical-align: top;\n",
       "    }\n",
       "\n",
       "    .dataframe thead th {\n",
       "        text-align: right;\n",
       "    }\n",
       "</style>\n",
       "<table border=\"1\" class=\"dataframe\">\n",
       "  <thead>\n",
       "    <tr style=\"text-align: right;\">\n",
       "      <th></th>\n",
       "      <th>plan</th>\n",
       "      <th>month</th>\n",
       "      <th>total gigabytes</th>\n",
       "      <th>total messages</th>\n",
       "      <th>total minutes</th>\n",
       "      <th>total_cost</th>\n",
       "    </tr>\n",
       "  </thead>\n",
       "  <tbody>\n",
       "    <tr>\n",
       "      <td>0</td>\n",
       "      <td>surf</td>\n",
       "      <td>1</td>\n",
       "      <td>5.000000</td>\n",
       "      <td>10.500000</td>\n",
       "      <td>203.000000</td>\n",
       "      <td>20.000000</td>\n",
       "    </tr>\n",
       "    <tr>\n",
       "      <td>1</td>\n",
       "      <td>surf</td>\n",
       "      <td>2</td>\n",
       "      <td>12.666667</td>\n",
       "      <td>12.000000</td>\n",
       "      <td>297.000000</td>\n",
       "      <td>47.300000</td>\n",
       "    </tr>\n",
       "    <tr>\n",
       "      <td>2</td>\n",
       "      <td>surf</td>\n",
       "      <td>3</td>\n",
       "      <td>13.782609</td>\n",
       "      <td>15.260870</td>\n",
       "      <td>330.000000</td>\n",
       "      <td>54.630435</td>\n",
       "    </tr>\n",
       "    <tr>\n",
       "      <td>3</td>\n",
       "      <td>surf</td>\n",
       "      <td>4</td>\n",
       "      <td>12.420000</td>\n",
       "      <td>17.400000</td>\n",
       "      <td>351.540000</td>\n",
       "      <td>52.106000</td>\n",
       "    </tr>\n",
       "    <tr>\n",
       "      <td>4</td>\n",
       "      <td>surf</td>\n",
       "      <td>5</td>\n",
       "      <td>14.454545</td>\n",
       "      <td>24.012987</td>\n",
       "      <td>399.584416</td>\n",
       "      <td>66.151948</td>\n",
       "    </tr>\n",
       "  </tbody>\n",
       "</table>\n",
       "</div>"
      ],
      "text/plain": [
       "   plan  month  total gigabytes  total messages  total minutes  total_cost\n",
       "0  surf      1         5.000000       10.500000     203.000000   20.000000\n",
       "1  surf      2        12.666667       12.000000     297.000000   47.300000\n",
       "2  surf      3        13.782609       15.260870     330.000000   54.630435\n",
       "3  surf      4        12.420000       17.400000     351.540000   52.106000\n",
       "4  surf      5        14.454545       24.012987     399.584416   66.151948"
      ]
     },
     "metadata": {},
     "output_type": "display_data"
    }
   ],
   "source": [
    "#creating a pivot table grouped by plan and months and calculating the means values\n",
    "mean_per_month = (\n",
    "    data_revenues\n",
    "    .pivot_table(index = ['plan','month'], values = ['total minutes','total messages','total gigabytes','total_cost']))\n",
    "#Eliminate the multilevel index\n",
    "mean_per_month.reset_index(inplace=True)\n",
    "# Fast look!\n",
    "display(mean_per_month.head())"
   ]
  },
  {
   "cell_type": "code",
   "execution_count": 28,
   "id": "4a0d0bf3",
   "metadata": {},
   "outputs": [
    {
     "data": {
      "text/html": [
       "<div>\n",
       "<style scoped>\n",
       "    .dataframe tbody tr th:only-of-type {\n",
       "        vertical-align: middle;\n",
       "    }\n",
       "\n",
       "    .dataframe tbody tr th {\n",
       "        vertical-align: top;\n",
       "    }\n",
       "\n",
       "    .dataframe thead th {\n",
       "        text-align: right;\n",
       "    }\n",
       "</style>\n",
       "<table border=\"1\" class=\"dataframe\">\n",
       "  <thead>\n",
       "    <tr style=\"text-align: right;\">\n",
       "      <th></th>\n",
       "      <th>plan</th>\n",
       "      <th>month</th>\n",
       "      <th>total gigabytes</th>\n",
       "      <th>total messages</th>\n",
       "      <th>total minutes</th>\n",
       "      <th>total_cost</th>\n",
       "    </tr>\n",
       "  </thead>\n",
       "  <tbody>\n",
       "    <tr>\n",
       "      <td>0</td>\n",
       "      <td>surf</td>\n",
       "      <td>1</td>\n",
       "      <td>5.000000</td>\n",
       "      <td>10.500000</td>\n",
       "      <td>203.000000</td>\n",
       "      <td>20.000000</td>\n",
       "    </tr>\n",
       "    <tr>\n",
       "      <td>1</td>\n",
       "      <td>surf</td>\n",
       "      <td>2</td>\n",
       "      <td>12.666667</td>\n",
       "      <td>12.000000</td>\n",
       "      <td>297.000000</td>\n",
       "      <td>47.300000</td>\n",
       "    </tr>\n",
       "    <tr>\n",
       "      <td>2</td>\n",
       "      <td>surf</td>\n",
       "      <td>3</td>\n",
       "      <td>13.782609</td>\n",
       "      <td>15.260870</td>\n",
       "      <td>330.000000</td>\n",
       "      <td>54.630435</td>\n",
       "    </tr>\n",
       "    <tr>\n",
       "      <td>3</td>\n",
       "      <td>surf</td>\n",
       "      <td>4</td>\n",
       "      <td>12.420000</td>\n",
       "      <td>17.400000</td>\n",
       "      <td>351.540000</td>\n",
       "      <td>52.106000</td>\n",
       "    </tr>\n",
       "    <tr>\n",
       "      <td>4</td>\n",
       "      <td>surf</td>\n",
       "      <td>5</td>\n",
       "      <td>14.454545</td>\n",
       "      <td>24.012987</td>\n",
       "      <td>399.584416</td>\n",
       "      <td>66.151948</td>\n",
       "    </tr>\n",
       "    <tr>\n",
       "      <td>5</td>\n",
       "      <td>surf</td>\n",
       "      <td>6</td>\n",
       "      <td>15.762887</td>\n",
       "      <td>25.298969</td>\n",
       "      <td>431.298969</td>\n",
       "      <td>67.092784</td>\n",
       "    </tr>\n",
       "    <tr>\n",
       "      <td>6</td>\n",
       "      <td>surf</td>\n",
       "      <td>7</td>\n",
       "      <td>17.297521</td>\n",
       "      <td>27.033058</td>\n",
       "      <td>449.983471</td>\n",
       "      <td>87.319008</td>\n",
       "    </tr>\n",
       "    <tr>\n",
       "      <td>7</td>\n",
       "      <td>surf</td>\n",
       "      <td>8</td>\n",
       "      <td>17.253086</td>\n",
       "      <td>28.777778</td>\n",
       "      <td>410.111111</td>\n",
       "      <td>83.632716</td>\n",
       "    </tr>\n",
       "    <tr>\n",
       "      <td>8</td>\n",
       "      <td>surf</td>\n",
       "      <td>9</td>\n",
       "      <td>17.072165</td>\n",
       "      <td>30.762887</td>\n",
       "      <td>414.226804</td>\n",
       "      <td>75.704639</td>\n",
       "    </tr>\n",
       "    <tr>\n",
       "      <td>9</td>\n",
       "      <td>surf</td>\n",
       "      <td>10</td>\n",
       "      <td>17.772152</td>\n",
       "      <td>33.839662</td>\n",
       "      <td>429.729958</td>\n",
       "      <td>86.575105</td>\n",
       "    </tr>\n",
       "    <tr>\n",
       "      <td>10</td>\n",
       "      <td>surf</td>\n",
       "      <td>11</td>\n",
       "      <td>16.837456</td>\n",
       "      <td>32.385159</td>\n",
       "      <td>423.325088</td>\n",
       "      <td>78.806007</td>\n",
       "    </tr>\n",
       "    <tr>\n",
       "      <td>11</td>\n",
       "      <td>surf</td>\n",
       "      <td>12</td>\n",
       "      <td>18.613208</td>\n",
       "      <td>38.600629</td>\n",
       "      <td>473.836478</td>\n",
       "      <td>99.344025</td>\n",
       "    </tr>\n",
       "  </tbody>\n",
       "</table>\n",
       "</div>"
      ],
      "text/plain": [
       "    plan  month  total gigabytes  total messages  total minutes  total_cost\n",
       "0   surf      1         5.000000       10.500000     203.000000   20.000000\n",
       "1   surf      2        12.666667       12.000000     297.000000   47.300000\n",
       "2   surf      3        13.782609       15.260870     330.000000   54.630435\n",
       "3   surf      4        12.420000       17.400000     351.540000   52.106000\n",
       "4   surf      5        14.454545       24.012987     399.584416   66.151948\n",
       "5   surf      6        15.762887       25.298969     431.298969   67.092784\n",
       "6   surf      7        17.297521       27.033058     449.983471   87.319008\n",
       "7   surf      8        17.253086       28.777778     410.111111   83.632716\n",
       "8   surf      9        17.072165       30.762887     414.226804   75.704639\n",
       "9   surf     10        17.772152       33.839662     429.729958   86.575105\n",
       "10  surf     11        16.837456       32.385159     423.325088   78.806007\n",
       "11  surf     12        18.613208       38.600629     473.836478   99.344025"
      ]
     },
     "metadata": {},
     "output_type": "display_data"
    }
   ],
   "source": [
    "# print the values for the surf plan so we can take a closer look\n",
    "display(mean_per_month.query('plan == \"surf\"'))"
   ]
  },
  {
   "cell_type": "markdown",
   "id": "e57933a7",
   "metadata": {},
   "source": [
    "Important! We can note that for the surf plan the values increise through the year! Maybe because more users subscribe for that plan through the year? Let's check!"
   ]
  },
  {
   "cell_type": "code",
   "execution_count": 29,
   "id": "4a39409c",
   "metadata": {
    "scrolled": true
   },
   "outputs": [
    {
     "data": {
      "text/html": [
       "<div>\n",
       "<style scoped>\n",
       "    .dataframe tbody tr th:only-of-type {\n",
       "        vertical-align: middle;\n",
       "    }\n",
       "\n",
       "    .dataframe tbody tr th {\n",
       "        vertical-align: top;\n",
       "    }\n",
       "\n",
       "    .dataframe thead th {\n",
       "        text-align: right;\n",
       "    }\n",
       "</style>\n",
       "<table border=\"1\" class=\"dataframe\">\n",
       "  <thead>\n",
       "    <tr style=\"text-align: right;\">\n",
       "      <th></th>\n",
       "      <th>plan</th>\n",
       "      <th>month</th>\n",
       "      <th>user_id</th>\n",
       "    </tr>\n",
       "  </thead>\n",
       "  <tbody>\n",
       "    <tr>\n",
       "      <td>0</td>\n",
       "      <td>surf</td>\n",
       "      <td>1</td>\n",
       "      <td>2</td>\n",
       "    </tr>\n",
       "    <tr>\n",
       "      <td>1</td>\n",
       "      <td>surf</td>\n",
       "      <td>2</td>\n",
       "      <td>9</td>\n",
       "    </tr>\n",
       "    <tr>\n",
       "      <td>2</td>\n",
       "      <td>surf</td>\n",
       "      <td>3</td>\n",
       "      <td>23</td>\n",
       "    </tr>\n",
       "    <tr>\n",
       "      <td>3</td>\n",
       "      <td>surf</td>\n",
       "      <td>4</td>\n",
       "      <td>50</td>\n",
       "    </tr>\n",
       "    <tr>\n",
       "      <td>4</td>\n",
       "      <td>surf</td>\n",
       "      <td>5</td>\n",
       "      <td>77</td>\n",
       "    </tr>\n",
       "  </tbody>\n",
       "</table>\n",
       "</div>"
      ],
      "text/plain": [
       "   plan  month  user_id\n",
       "0  surf      1        2\n",
       "1  surf      2        9\n",
       "2  surf      3       23\n",
       "3  surf      4       50\n",
       "4  surf      5       77"
      ]
     },
     "metadata": {},
     "output_type": "display_data"
    }
   ],
   "source": [
    "#creating the monthly_users to see monthly users per plan surf\n",
    "monthly_users_surf =  data_revenues.query('plan == \"surf\"').groupby(['plan','month']).agg({'user_id': 'count'}).reset_index()\n",
    "#Fast look!\n",
    "display(monthly_users_surf.head())"
   ]
  },
  {
   "cell_type": "markdown",
   "id": "a2960e8c",
   "metadata": {},
   "source": [
    "<div class=\"alert alert-block alert-success\">\n",
    "<b>Reviewer's comment</b> <a class=\"tocSkip\"></a>\n",
    "    \n",
    "You make a great calculations for monthes! Very good codefor queries. Let's check graphs!\n",
    "</div>"
   ]
  },
  {
   "cell_type": "markdown",
   "id": "9a4c785e",
   "metadata": {},
   "source": [
    "Okay! Let's look at this with the help of a graph!"
   ]
  },
  {
   "cell_type": "code",
   "execution_count": 30,
   "id": "e0894f4a",
   "metadata": {},
   "outputs": [
    {
     "data": {
      "image/png": "[encoded data removed]",
      "text/plain": [
       "<Figure size 432x288 with 1 Axes>"
      ]
     },
     "metadata": {
      "needs_background": "light"
     },
     "output_type": "display_data"
    }
   ],
   "source": [
    "xa = monthly_users_surf['month']\n",
    "ya = monthly_users_surf['user_id']\n",
    "plt.plot(xa, ya)\n",
    "plt.title('Number of clients by month for surf plan',fontsize=20)\n",
    "plt.show()"
   ]
  },
  {
   "cell_type": "markdown",
   "id": "c5ee6a2b",
   "metadata": {},
   "source": [
    "We were right! More people subscribed through the year to the surf plan. \n",
    "\n",
    "This could means that the plan became more and more popular. \n",
    "\n",
    "Also important! we are calculating here the means of the columns : total gigabytes, total messages, total minutes and total_cost. And we see how the values for all these columns rise through the year. So we can conclude that is not only the new clients subscriptions, the clients also spent in average more gigabytes, messages and minutes throught the year ,and for that reason also the total_cost rise through the year. This means that we have more clients and more spends of minutes,internet and messages through the year.\n",
    "\n",
    "After January, the average of the total_cost per month is greather that the monthly_charge for every month! And the average of the total_cost rise and rise through the year. Looks like a good business for the company!\n",
    "\n",
    "For the ultimate plan we see a rise in the values for the gigabytes, messages and minutes through the year ,but for the total_cost columns the values stay almost the same. Let's check if more users subscribe for the plan ultimate through the year."
   ]
  },
  {
   "cell_type": "markdown",
   "id": "0540af2e",
   "metadata": {},
   "source": [
    "<div class=\"alert alert-block alert-success\">\n",
    "<b>Reviewer's comment</b> <a class=\"tocSkip\"></a>\n",
    "    \n",
    "Yes, surf becomes more popular. Your notes are very important for our project.It help us to make right conclusions. :) </div>"
   ]
  },
  {
   "cell_type": "code",
   "execution_count": 31,
   "id": "5797cc33",
   "metadata": {},
   "outputs": [
    {
     "data": {
      "text/html": [
       "<div>\n",
       "<style scoped>\n",
       "    .dataframe tbody tr th:only-of-type {\n",
       "        vertical-align: middle;\n",
       "    }\n",
       "\n",
       "    .dataframe tbody tr th {\n",
       "        vertical-align: top;\n",
       "    }\n",
       "\n",
       "    .dataframe thead th {\n",
       "        text-align: right;\n",
       "    }\n",
       "</style>\n",
       "<table border=\"1\" class=\"dataframe\">\n",
       "  <thead>\n",
       "    <tr style=\"text-align: right;\">\n",
       "      <th></th>\n",
       "      <th>plan</th>\n",
       "      <th>month</th>\n",
       "      <th>total gigabytes</th>\n",
       "      <th>total messages</th>\n",
       "      <th>total minutes</th>\n",
       "      <th>total_cost</th>\n",
       "    </tr>\n",
       "  </thead>\n",
       "  <tbody>\n",
       "    <tr>\n",
       "      <td>12</td>\n",
       "      <td>ultimate</td>\n",
       "      <td>1</td>\n",
       "      <td>7.250000</td>\n",
       "      <td>15.500000</td>\n",
       "      <td>193.500000</td>\n",
       "      <td>70.000000</td>\n",
       "    </tr>\n",
       "    <tr>\n",
       "      <td>13</td>\n",
       "      <td>ultimate</td>\n",
       "      <td>2</td>\n",
       "      <td>17.571429</td>\n",
       "      <td>21.571429</td>\n",
       "      <td>403.142857</td>\n",
       "      <td>70.000000</td>\n",
       "    </tr>\n",
       "    <tr>\n",
       "      <td>14</td>\n",
       "      <td>ultimate</td>\n",
       "      <td>3</td>\n",
       "      <td>18.833333</td>\n",
       "      <td>20.250000</td>\n",
       "      <td>304.250000</td>\n",
       "      <td>75.833333</td>\n",
       "    </tr>\n",
       "    <tr>\n",
       "      <td>15</td>\n",
       "      <td>ultimate</td>\n",
       "      <td>4</td>\n",
       "      <td>16.476190</td>\n",
       "      <td>22.047619</td>\n",
       "      <td>336.857143</td>\n",
       "      <td>73.666667</td>\n",
       "    </tr>\n",
       "    <tr>\n",
       "      <td>16</td>\n",
       "      <td>ultimate</td>\n",
       "      <td>5</td>\n",
       "      <td>17.068966</td>\n",
       "      <td>32.103448</td>\n",
       "      <td>406.241379</td>\n",
       "      <td>70.965517</td>\n",
       "    </tr>\n",
       "    <tr>\n",
       "      <td>17</td>\n",
       "      <td>ultimate</td>\n",
       "      <td>6</td>\n",
       "      <td>15.829787</td>\n",
       "      <td>29.340426</td>\n",
       "      <td>370.957447</td>\n",
       "      <td>71.787234</td>\n",
       "    </tr>\n",
       "    <tr>\n",
       "      <td>18</td>\n",
       "      <td>ultimate</td>\n",
       "      <td>7</td>\n",
       "      <td>16.813559</td>\n",
       "      <td>32.830508</td>\n",
       "      <td>427.067797</td>\n",
       "      <td>72.135593</td>\n",
       "    </tr>\n",
       "    <tr>\n",
       "      <td>19</td>\n",
       "      <td>ultimate</td>\n",
       "      <td>8</td>\n",
       "      <td>18.380282</td>\n",
       "      <td>38.478873</td>\n",
       "      <td>421.436620</td>\n",
       "      <td>73.450704</td>\n",
       "    </tr>\n",
       "    <tr>\n",
       "      <td>20</td>\n",
       "      <td>ultimate</td>\n",
       "      <td>9</td>\n",
       "      <td>17.534884</td>\n",
       "      <td>37.895349</td>\n",
       "      <td>437.511628</td>\n",
       "      <td>72.360465</td>\n",
       "    </tr>\n",
       "    <tr>\n",
       "      <td>21</td>\n",
       "      <td>ultimate</td>\n",
       "      <td>10</td>\n",
       "      <td>18.084906</td>\n",
       "      <td>39.443396</td>\n",
       "      <td>450.735849</td>\n",
       "      <td>72.641509</td>\n",
       "    </tr>\n",
       "    <tr>\n",
       "      <td>22</td>\n",
       "      <td>ultimate</td>\n",
       "      <td>11</td>\n",
       "      <td>17.543307</td>\n",
       "      <td>38.606299</td>\n",
       "      <td>445.196850</td>\n",
       "      <td>71.984252</td>\n",
       "    </tr>\n",
       "    <tr>\n",
       "      <td>23</td>\n",
       "      <td>ultimate</td>\n",
       "      <td>12</td>\n",
       "      <td>18.841060</td>\n",
       "      <td>45.006623</td>\n",
       "      <td>459.099338</td>\n",
       "      <td>73.847682</td>\n",
       "    </tr>\n",
       "  </tbody>\n",
       "</table>\n",
       "</div>"
      ],
      "text/plain": [
       "        plan  month  total gigabytes  total messages  total minutes  \\\n",
       "12  ultimate      1         7.250000       15.500000     193.500000   \n",
       "13  ultimate      2        17.571429       21.571429     403.142857   \n",
       "14  ultimate      3        18.833333       20.250000     304.250000   \n",
       "15  ultimate      4        16.476190       22.047619     336.857143   \n",
       "16  ultimate      5        17.068966       32.103448     406.241379   \n",
       "17  ultimate      6        15.829787       29.340426     370.957447   \n",
       "18  ultimate      7        16.813559       32.830508     427.067797   \n",
       "19  ultimate      8        18.380282       38.478873     421.436620   \n",
       "20  ultimate      9        17.534884       37.895349     437.511628   \n",
       "21  ultimate     10        18.084906       39.443396     450.735849   \n",
       "22  ultimate     11        17.543307       38.606299     445.196850   \n",
       "23  ultimate     12        18.841060       45.006623     459.099338   \n",
       "\n",
       "    total_cost  \n",
       "12   70.000000  \n",
       "13   70.000000  \n",
       "14   75.833333  \n",
       "15   73.666667  \n",
       "16   70.965517  \n",
       "17   71.787234  \n",
       "18   72.135593  \n",
       "19   73.450704  \n",
       "20   72.360465  \n",
       "21   72.641509  \n",
       "22   71.984252  \n",
       "23   73.847682  "
      ]
     },
     "metadata": {},
     "output_type": "display_data"
    }
   ],
   "source": [
    "# print the values for the surf plan so we can take a closer look\n",
    "display(mean_per_month.query('plan == \"ultimate\"'))"
   ]
  },
  {
   "cell_type": "code",
   "execution_count": 32,
   "id": "c8e4fc89",
   "metadata": {},
   "outputs": [
    {
     "data": {
      "text/html": [
       "<div>\n",
       "<style scoped>\n",
       "    .dataframe tbody tr th:only-of-type {\n",
       "        vertical-align: middle;\n",
       "    }\n",
       "\n",
       "    .dataframe tbody tr th {\n",
       "        vertical-align: top;\n",
       "    }\n",
       "\n",
       "    .dataframe thead th {\n",
       "        text-align: right;\n",
       "    }\n",
       "</style>\n",
       "<table border=\"1\" class=\"dataframe\">\n",
       "  <thead>\n",
       "    <tr style=\"text-align: right;\">\n",
       "      <th></th>\n",
       "      <th>plan</th>\n",
       "      <th>month</th>\n",
       "      <th>user_id</th>\n",
       "    </tr>\n",
       "  </thead>\n",
       "  <tbody>\n",
       "    <tr>\n",
       "      <td>0</td>\n",
       "      <td>ultimate</td>\n",
       "      <td>1</td>\n",
       "      <td>4</td>\n",
       "    </tr>\n",
       "    <tr>\n",
       "      <td>1</td>\n",
       "      <td>ultimate</td>\n",
       "      <td>2</td>\n",
       "      <td>7</td>\n",
       "    </tr>\n",
       "    <tr>\n",
       "      <td>2</td>\n",
       "      <td>ultimate</td>\n",
       "      <td>3</td>\n",
       "      <td>12</td>\n",
       "    </tr>\n",
       "    <tr>\n",
       "      <td>3</td>\n",
       "      <td>ultimate</td>\n",
       "      <td>4</td>\n",
       "      <td>21</td>\n",
       "    </tr>\n",
       "    <tr>\n",
       "      <td>4</td>\n",
       "      <td>ultimate</td>\n",
       "      <td>5</td>\n",
       "      <td>29</td>\n",
       "    </tr>\n",
       "  </tbody>\n",
       "</table>\n",
       "</div>"
      ],
      "text/plain": [
       "       plan  month  user_id\n",
       "0  ultimate      1        4\n",
       "1  ultimate      2        7\n",
       "2  ultimate      3       12\n",
       "3  ultimate      4       21\n",
       "4  ultimate      5       29"
      ]
     },
     "metadata": {},
     "output_type": "display_data"
    }
   ],
   "source": [
    "#creating the monthly_users to see monthly users per plan ultimate\n",
    "monthly_users_ultimate =  data_revenues.query('plan == \"ultimate\"').groupby(['plan','month']).agg({'user_id': 'count'}).reset_index()\n",
    "#Fast look!\n",
    "display(monthly_users_ultimate.head())"
   ]
  },
  {
   "cell_type": "markdown",
   "id": "8f5accad",
   "metadata": {},
   "source": [
    "Okay! Let's look at this with the help of a graph!"
   ]
  },
  {
   "cell_type": "code",
   "execution_count": 33,
   "id": "72ded126",
   "metadata": {},
   "outputs": [
    {
     "data": {
      "image/png": "[encoded data removed]",
      "text/plain": [
       "<Figure size 432x288 with 1 Axes>"
      ]
     },
     "metadata": {
      "needs_background": "light"
     },
     "output_type": "display_data"
    }
   ],
   "source": [
    "xa = monthly_users_ultimate['month']\n",
    "ya = monthly_users_ultimate['user_id']\n",
    "plt.title('Number of clients by month for ultimate plan',fontsize=20)\n",
    "plt.plot(xa, ya)\n",
    "plt.show()"
   ]
  },
  {
   "cell_type": "markdown",
   "id": "c8167019",
   "metadata": {},
   "source": [
    "More people subscribed through the year to the ultimate plan also, the rise in the users counts is half of the rise that we saw in the surf plan. But still! It's really impressive. \n",
    "\n",
    "This could means that the plan became more and more popular. But not more that the surf plan. We finish the year with aprox. 140 clientes using the ultimate plan and aprox. 300 using the surf plan.\n",
    "\n",
    "But still, we are calculating here the means of the columns : total gigabytes, total messages, total minutes and total_cost.This means that we have more clients, that spends more and and more minutes,internet and messenges through the year in the ultimate plan, but! they don't pay more that the monthly_charge per month, and if they do is just a few dollars extra, nothing critical.\n"
   ]
  },
  {
   "cell_type": "markdown",
   "id": "9514af56",
   "metadata": {},
   "source": [
    "<div class=\"alert alert-block alert-success\">\n",
    "<b>Reviewer's comment</b> <a class=\"tocSkip\"></a>\n",
    "    \n",
    "Here the great conclusion too! We have growing too. Excellent result.</div>"
   ]
  },
  {
   "cell_type": "markdown",
   "id": "6b1edbd6",
   "metadata": {},
   "source": [
    "### Calculating the mean, dispersion, and standard deviation.\n",
    "**Note** : We use the data_revenues table. We created this table to organise all our important values. These table incluides the **sums** of the total calls,total minutes,total mb_used,total gigabytes,total messages and total_cost for each user_id in each month. "
   ]
  },
  {
   "cell_type": "markdown",
   "id": "817547b9",
   "metadata": {},
   "source": [
    "#### Surf plan"
   ]
  },
  {
   "cell_type": "code",
   "execution_count": 34,
   "id": "d08ae2d8",
   "metadata": {},
   "outputs": [
    {
     "data": {
      "text/html": [
       "<div>\n",
       "<style scoped>\n",
       "    .dataframe tbody tr th:only-of-type {\n",
       "        vertical-align: middle;\n",
       "    }\n",
       "\n",
       "    .dataframe tbody tr th {\n",
       "        vertical-align: top;\n",
       "    }\n",
       "\n",
       "    .dataframe thead th {\n",
       "        text-align: right;\n",
       "    }\n",
       "</style>\n",
       "<table border=\"1\" class=\"dataframe\">\n",
       "  <thead>\n",
       "    <tr style=\"text-align: right;\">\n",
       "      <th></th>\n",
       "      <th>user_id</th>\n",
       "      <th>month</th>\n",
       "      <th>total calls</th>\n",
       "      <th>total minutes</th>\n",
       "      <th>total mb_used</th>\n",
       "      <th>total gigabytes</th>\n",
       "      <th>total messages</th>\n",
       "      <th>total_cost</th>\n",
       "    </tr>\n",
       "  </thead>\n",
       "  <tbody>\n",
       "    <tr>\n",
       "      <td>count</td>\n",
       "      <td>1573.000000</td>\n",
       "      <td>1573.000000</td>\n",
       "      <td>1573.000000</td>\n",
       "      <td>1573.000000</td>\n",
       "      <td>1573.000000</td>\n",
       "      <td>1573.000000</td>\n",
       "      <td>1573.000000</td>\n",
       "      <td>1573.000000</td>\n",
       "    </tr>\n",
       "    <tr>\n",
       "      <td>mean</td>\n",
       "      <td>1242.755245</td>\n",
       "      <td>9.182454</td>\n",
       "      <td>59.811825</td>\n",
       "      <td>428.749523</td>\n",
       "      <td>16558.283490</td>\n",
       "      <td>17.037508</td>\n",
       "      <td>31.159568</td>\n",
       "      <td>82.099046</td>\n",
       "    </tr>\n",
       "    <tr>\n",
       "      <td>std</td>\n",
       "      <td>139.227939</td>\n",
       "      <td>2.468199</td>\n",
       "      <td>32.017989</td>\n",
       "      <td>234.453150</td>\n",
       "      <td>8013.513327</td>\n",
       "      <td>8.016395</td>\n",
       "      <td>33.566717</td>\n",
       "      <td>75.214553</td>\n",
       "    </tr>\n",
       "    <tr>\n",
       "      <td>min</td>\n",
       "      <td>1001.000000</td>\n",
       "      <td>1.000000</td>\n",
       "      <td>0.000000</td>\n",
       "      <td>0.000000</td>\n",
       "      <td>0.000000</td>\n",
       "      <td>0.000000</td>\n",
       "      <td>0.000000</td>\n",
       "      <td>20.000000</td>\n",
       "    </tr>\n",
       "    <tr>\n",
       "      <td>25%</td>\n",
       "      <td>1120.000000</td>\n",
       "      <td>8.000000</td>\n",
       "      <td>39.000000</td>\n",
       "      <td>272.000000</td>\n",
       "      <td>11986.520000</td>\n",
       "      <td>12.000000</td>\n",
       "      <td>3.000000</td>\n",
       "      <td>20.000000</td>\n",
       "    </tr>\n",
       "    <tr>\n",
       "      <td>50%</td>\n",
       "      <td>1245.000000</td>\n",
       "      <td>10.000000</td>\n",
       "      <td>60.000000</td>\n",
       "      <td>425.000000</td>\n",
       "      <td>16829.310000</td>\n",
       "      <td>17.000000</td>\n",
       "      <td>24.000000</td>\n",
       "      <td>60.000000</td>\n",
       "    </tr>\n",
       "    <tr>\n",
       "      <td>75%</td>\n",
       "      <td>1358.000000</td>\n",
       "      <td>11.000000</td>\n",
       "      <td>79.000000</td>\n",
       "      <td>576.000000</td>\n",
       "      <td>20999.610000</td>\n",
       "      <td>21.000000</td>\n",
       "      <td>47.000000</td>\n",
       "      <td>110.000000</td>\n",
       "    </tr>\n",
       "    <tr>\n",
       "      <td>max</td>\n",
       "      <td>1499.000000</td>\n",
       "      <td>12.000000</td>\n",
       "      <td>205.000000</td>\n",
       "      <td>1510.000000</td>\n",
       "      <td>70931.590000</td>\n",
       "      <td>71.000000</td>\n",
       "      <td>266.000000</td>\n",
       "      <td>783.700000</td>\n",
       "    </tr>\n",
       "  </tbody>\n",
       "</table>\n",
       "</div>"
      ],
      "text/plain": [
       "           user_id        month  total calls  total minutes  total mb_used  \\\n",
       "count  1573.000000  1573.000000  1573.000000    1573.000000    1573.000000   \n",
       "mean   1242.755245     9.182454    59.811825     428.749523   16558.283490   \n",
       "std     139.227939     2.468199    32.017989     234.453150    8013.513327   \n",
       "min    1001.000000     1.000000     0.000000       0.000000       0.000000   \n",
       "25%    1120.000000     8.000000    39.000000     272.000000   11986.520000   \n",
       "50%    1245.000000    10.000000    60.000000     425.000000   16829.310000   \n",
       "75%    1358.000000    11.000000    79.000000     576.000000   20999.610000   \n",
       "max    1499.000000    12.000000   205.000000    1510.000000   70931.590000   \n",
       "\n",
       "       total gigabytes  total messages   total_cost  \n",
       "count      1573.000000     1573.000000  1573.000000  \n",
       "mean         17.037508       31.159568    82.099046  \n",
       "std           8.016395       33.566717    75.214553  \n",
       "min           0.000000        0.000000    20.000000  \n",
       "25%          12.000000        3.000000    20.000000  \n",
       "50%          17.000000       24.000000    60.000000  \n",
       "75%          21.000000       47.000000   110.000000  \n",
       "max          71.000000      266.000000   783.700000  "
      ]
     },
     "metadata": {},
     "output_type": "display_data"
    },
    {
     "data": {
      "text/plain": [
       "'variance: '"
      ]
     },
     "metadata": {},
     "output_type": "display_data"
    },
    {
     "data": {
      "text/plain": [
       "user_id            1.938442e+04\n",
       "month              6.092007e+00\n",
       "total calls        1.025152e+03\n",
       "total minutes      5.496828e+04\n",
       "total mb_used      6.421640e+07\n",
       "total gigabytes    6.426259e+01\n",
       "total messages     1.126725e+03\n",
       "total_cost         5.657229e+03\n",
       "dtype: float64"
      ]
     },
     "metadata": {},
     "output_type": "display_data"
    }
   ],
   "source": [
    "#show statistic summary for surf\n",
    "display(data_revenues.query('plan == \"surf\"').describe(),'variance: ',\n",
    "data_revenues.query('plan == \"surf\"').var())"
   ]
  },
  {
   "cell_type": "markdown",
   "id": "7547a581",
   "metadata": {},
   "source": [
    "#### Ultimate plan"
   ]
  },
  {
   "cell_type": "code",
   "execution_count": 35,
   "id": "b70699ac",
   "metadata": {
    "scrolled": true
   },
   "outputs": [
    {
     "data": {
      "text/html": [
       "<div>\n",
       "<style scoped>\n",
       "    .dataframe tbody tr th:only-of-type {\n",
       "        vertical-align: middle;\n",
       "    }\n",
       "\n",
       "    .dataframe tbody tr th {\n",
       "        vertical-align: top;\n",
       "    }\n",
       "\n",
       "    .dataframe thead th {\n",
       "        text-align: right;\n",
       "    }\n",
       "</style>\n",
       "<table border=\"1\" class=\"dataframe\">\n",
       "  <thead>\n",
       "    <tr style=\"text-align: right;\">\n",
       "      <th></th>\n",
       "      <th>user_id</th>\n",
       "      <th>month</th>\n",
       "      <th>total calls</th>\n",
       "      <th>total minutes</th>\n",
       "      <th>total mb_used</th>\n",
       "      <th>total gigabytes</th>\n",
       "      <th>total messages</th>\n",
       "      <th>total_cost</th>\n",
       "    </tr>\n",
       "  </thead>\n",
       "  <tbody>\n",
       "    <tr>\n",
       "      <td>count</td>\n",
       "      <td>720.000000</td>\n",
       "      <td>720.000000</td>\n",
       "      <td>720.000000</td>\n",
       "      <td>720.000000</td>\n",
       "      <td>720.000000</td>\n",
       "      <td>720.000000</td>\n",
       "      <td>720.000000</td>\n",
       "      <td>720.000000</td>\n",
       "    </tr>\n",
       "    <tr>\n",
       "      <td>mean</td>\n",
       "      <td>1253.330556</td>\n",
       "      <td>9.151389</td>\n",
       "      <td>60.626389</td>\n",
       "      <td>430.450000</td>\n",
       "      <td>17214.699694</td>\n",
       "      <td>17.719444</td>\n",
       "      <td>37.551389</td>\n",
       "      <td>72.702778</td>\n",
       "    </tr>\n",
       "    <tr>\n",
       "      <td>std</td>\n",
       "      <td>150.915644</td>\n",
       "      <td>2.558495</td>\n",
       "      <td>33.242994</td>\n",
       "      <td>240.508762</td>\n",
       "      <td>7851.897435</td>\n",
       "      <td>7.865289</td>\n",
       "      <td>34.767179</td>\n",
       "      <td>12.673080</td>\n",
       "    </tr>\n",
       "    <tr>\n",
       "      <td>min</td>\n",
       "      <td>1000.000000</td>\n",
       "      <td>1.000000</td>\n",
       "      <td>0.000000</td>\n",
       "      <td>0.000000</td>\n",
       "      <td>0.000000</td>\n",
       "      <td>0.000000</td>\n",
       "      <td>0.000000</td>\n",
       "      <td>70.000000</td>\n",
       "    </tr>\n",
       "    <tr>\n",
       "      <td>25%</td>\n",
       "      <td>1126.000000</td>\n",
       "      <td>8.000000</td>\n",
       "      <td>36.000000</td>\n",
       "      <td>260.000000</td>\n",
       "      <td>12666.955000</td>\n",
       "      <td>13.000000</td>\n",
       "      <td>7.000000</td>\n",
       "      <td>70.000000</td>\n",
       "    </tr>\n",
       "    <tr>\n",
       "      <td>50%</td>\n",
       "      <td>1241.500000</td>\n",
       "      <td>10.000000</td>\n",
       "      <td>61.000000</td>\n",
       "      <td>424.000000</td>\n",
       "      <td>16858.340000</td>\n",
       "      <td>17.000000</td>\n",
       "      <td>30.000000</td>\n",
       "      <td>70.000000</td>\n",
       "    </tr>\n",
       "    <tr>\n",
       "      <td>75%</td>\n",
       "      <td>1401.000000</td>\n",
       "      <td>11.000000</td>\n",
       "      <td>80.000000</td>\n",
       "      <td>565.250000</td>\n",
       "      <td>21014.527500</td>\n",
       "      <td>22.000000</td>\n",
       "      <td>61.000000</td>\n",
       "      <td>70.000000</td>\n",
       "    </tr>\n",
       "    <tr>\n",
       "      <td>max</td>\n",
       "      <td>1497.000000</td>\n",
       "      <td>12.000000</td>\n",
       "      <td>191.000000</td>\n",
       "      <td>1369.000000</td>\n",
       "      <td>46595.330000</td>\n",
       "      <td>47.000000</td>\n",
       "      <td>166.000000</td>\n",
       "      <td>189.000000</td>\n",
       "    </tr>\n",
       "  </tbody>\n",
       "</table>\n",
       "</div>"
      ],
      "text/plain": [
       "           user_id       month  total calls  total minutes  total mb_used  \\\n",
       "count   720.000000  720.000000   720.000000     720.000000     720.000000   \n",
       "mean   1253.330556    9.151389    60.626389     430.450000   17214.699694   \n",
       "std     150.915644    2.558495    33.242994     240.508762    7851.897435   \n",
       "min    1000.000000    1.000000     0.000000       0.000000       0.000000   \n",
       "25%    1126.000000    8.000000    36.000000     260.000000   12666.955000   \n",
       "50%    1241.500000   10.000000    61.000000     424.000000   16858.340000   \n",
       "75%    1401.000000   11.000000    80.000000     565.250000   21014.527500   \n",
       "max    1497.000000   12.000000   191.000000    1369.000000   46595.330000   \n",
       "\n",
       "       total gigabytes  total messages  total_cost  \n",
       "count       720.000000      720.000000  720.000000  \n",
       "mean         17.719444       37.551389   72.702778  \n",
       "std           7.865289       34.767179   12.673080  \n",
       "min           0.000000        0.000000   70.000000  \n",
       "25%          13.000000        7.000000   70.000000  \n",
       "50%          17.000000       30.000000   70.000000  \n",
       "75%          22.000000       61.000000   70.000000  \n",
       "max          47.000000      166.000000  189.000000  "
      ]
     },
     "metadata": {},
     "output_type": "display_data"
    },
    {
     "data": {
      "text/plain": [
       "'variance:'"
      ]
     },
     "metadata": {},
     "output_type": "display_data"
    },
    {
     "data": {
      "text/plain": [
       "user_id            2.277553e+04\n",
       "month              6.545895e+00\n",
       "total calls        1.105097e+03\n",
       "total minutes      5.784446e+04\n",
       "total mb_used      6.165229e+07\n",
       "total gigabytes    6.186276e+01\n",
       "total messages     1.208757e+03\n",
       "total_cost         1.606069e+02\n",
       "dtype: float64"
      ]
     },
     "metadata": {},
     "output_type": "display_data"
    }
   ],
   "source": [
    "#show statistic summary for ultimate\n",
    "display(data_revenues.query('plan == \"ultimate\"').describe(), 'variance:',\n",
    "data_revenues.query('plan == \"ultimate\"').var())"
   ]
  },
  {
   "cell_type": "markdown",
   "id": "f7a3f936",
   "metadata": {},
   "source": [
    "Let's write down the variance for the total cost, we will maybe need this values later:\n",
    "* variance by plan for surf total minutes : 5.496828e+04\n",
    "* variance by plan ultimate for total minutes : 5.784446e+04\n",
    "\n",
    "Let's write down the mean for the total cost for each plan, we will maybe need this values later:\n",
    "* mean by plan for surf total cost : 82.099046\n",
    "* mean by plan ultimate for total cost : 72.702778\n",
    "\n",
    "We see that the differences between the means is not small , it's about approx. 10! Instead, all the means values for the rest of the columns are really similars for the two plans. Interesting! "
   ]
  },
  {
   "cell_type": "markdown",
   "id": "572a6824",
   "metadata": {},
   "source": [
    "<div class=\"alert alert-block alert-success\">\n",
    "<b>Reviewer's comment</b> <a class=\"tocSkip\"></a>\n",
    "    \n",
    "Intresting information about variance!</div>"
   ]
  },
  {
   "cell_type": "markdown",
   "id": "38e19c08",
   "metadata": {},
   "source": [
    "# Now it's time for some data visualization\n",
    "\n",
    "**Note** : We will use the data_revenues table, since we are looking to compare the data using all the sums of the values for the different behaviors (This is important! we are not using the mean of the different behaviors : total minutes, messages and data; we are using each behavior total and the total cost for each customer grouped by month and plan)"
   ]
  },
  {
   "cell_type": "markdown",
   "id": "b776689c",
   "metadata": {},
   "source": [
    "### Plotting graphs that will help us to understand the data"
   ]
  },
  {
   "cell_type": "markdown",
   "id": "d8b7382b",
   "metadata": {},
   "source": [
    "First, let's make some bar graphs to understand the numbers that we have. The bars graphs shows the values of the diferentes totals for each month by each plan. "
   ]
  },
  {
   "cell_type": "code",
   "execution_count": 36,
   "id": "83930987",
   "metadata": {},
   "outputs": [],
   "source": [
    "#creat a pivot table grouped by plan and months and calculating the sum of the values\n",
    "total_per_month_plan = data_revenues.pivot_table(index = ['plan','month'], values = ['total minutes','total messages','total gigabytes','total_cost'], aggfunc='sum')\n",
    "total_per_month_plan.reset_index(inplace=True)\n",
    "\n",
    "#Changing the names of our columns to make the work with them easier in the continue\n",
    "total_per_month_plan.columns = [\"plan\",\"month\",\"total_gigabytes\",\"total_messages\",\"total_minutes\",\"total_cost\"]"
   ]
  },
  {
   "cell_type": "code",
   "execution_count": 37,
   "id": "83c9bfea",
   "metadata": {},
   "outputs": [
    {
     "data": {
      "image/png": "[encoded data removed]",
      "text/plain": [
       "<Figure size 720x288 with 1 Axes>"
      ]
     },
     "metadata": {
      "needs_background": "light"
     },
     "output_type": "display_data"
    },
    {
     "data": {
      "image/png": "[encoded data removed]",
      "text/plain": [
       "<Figure size 720x288 with 1 Axes>"
      ]
     },
     "metadata": {
      "needs_background": "light"
     },
     "output_type": "display_data"
    },
    {
     "data": {
      "image/png": "[encoded data removed]",
      "text/plain": [
       "<Figure size 720x288 with 1 Axes>"
      ]
     },
     "metadata": {
      "needs_background": "light"
     },
     "output_type": "display_data"
    },
    {
     "data": {
      "image/png": "[encoded data removed]",
      "text/plain": [
       "<Figure size 720x288 with 1 Axes>"
      ]
     },
     "metadata": {
      "needs_background": "light"
     },
     "output_type": "display_data"
    }
   ],
   "source": [
    "features = [\"total_gigabytes\",\"total_messages\",\"total_minutes\",\"total_cost\"]\n",
    "for feature in features:\n",
    "    fig, ax = plt.subplots(figsize=(10,4))\n",
    "    x = sns.barplot(x = total_per_month_plan.month, y = total_per_month_plan[feature], hue = total_per_month_plan.plan)\n",
    "    plt.show()   "
   ]
  },
  {
   "cell_type": "markdown",
   "id": "3fdaa4c0",
   "metadata": {},
   "source": [
    "The surf plan values for calls minutes, data and messanges acroos the year were always higher than the values of the ultimate plan. Also the total cost!. Good to know! Just don't forget that the numbers of users using the surf plan are bigger."
   ]
  },
  {
   "cell_type": "markdown",
   "id": "d6dea4a5",
   "metadata": {},
   "source": [
    "<div class=\"alert alert-block alert-success\">\n",
    "<b>Reviewer's comment</b> <a class=\"tocSkip\"></a>\n",
    "    \n",
    "Excellent visualization! Very good that you compare plans on 1 graph. It gave to us more detailed information. \n",
    "Thank you for comment about the numbers of users using the surf plan are bigger. It is important.\n",
    "\n",
    "</div>"
   ]
  },
  {
   "cell_type": "markdown",
   "id": "530b6e52",
   "metadata": {},
   "source": [
    "### Creating histograms with a density scale"
   ]
  },
  {
   "cell_type": "markdown",
   "id": "ebee79f9",
   "metadata": {},
   "source": [
    "Let's plot histograms with a density scale for the distribution of the calls minutes, data and messages!"
   ]
  },
  {
   "cell_type": "code",
   "execution_count": 38,
   "id": "b6769059",
   "metadata": {},
   "outputs": [
    {
     "data": {
      "image/png": "[encoded data removed]",
      "text/plain": [
       "<Figure size 432x288 with 1 Axes>"
      ]
     },
     "metadata": {
      "needs_background": "light"
     },
     "output_type": "display_data"
    },
    {
     "data": {
      "image/png": "[encoded data removed]",
      "text/plain": [
       "<Figure size 432x288 with 1 Axes>"
      ]
     },
     "metadata": {
      "needs_background": "light"
     },
     "output_type": "display_data"
    },
    {
     "data": {
      "image/png": "[encoded data removed]",
      "text/plain": [
       "<Figure size 432x288 with 1 Axes>"
      ]
     },
     "metadata": {
      "needs_background": "light"
     },
     "output_type": "display_data"
    }
   ],
   "source": [
    "#Changing the names of the columns to make the work with them easier\n",
    "data_revenues.columns = ['user_id','month','total_calls','total_minutes','total_mb_used','total_gigabytes','total_messages','plan','total_cost']\n",
    "\n",
    "for x in ['total_minutes','total_gigabytes','total_messages']:\n",
    "    h1 = data_revenues.query('plan == \"surf\"')[x].hist( density=True, bins=40, alpha=0.5) \n",
    "    h2 = data_revenues.query('plan == \"ultimate\"')[x].hist(density=True, bins=40, alpha=0.5)\n",
    "    plt.title(x.replace('_', ' '),fontsize=20)\n",
    "    plt.show()"
   ]
  },
  {
   "cell_type": "markdown",
   "id": "4f7e18fd",
   "metadata": {},
   "source": [
    "There is a lot of outliers! "
   ]
  },
  {
   "cell_type": "markdown",
   "id": "16d98c61",
   "metadata": {},
   "source": [
    "<div class=\"alert alert-block alert-success\">\n",
    "<b>Reviewer's comment</b> <a class=\"tocSkip\"></a>\n",
    "    \n",
    "Yes, too much outliries!\n",
    "\n",
    "</div>"
   ]
  },
  {
   "cell_type": "markdown",
   "id": "1d928fbb",
   "metadata": {},
   "source": [
    "### Removing outliers and ploting histograms for distribution again"
   ]
  },
  {
   "cell_type": "code",
   "execution_count": 39,
   "id": "4b506922",
   "metadata": {},
   "outputs": [],
   "source": [
    "#First lets slices the data by plan!\n",
    "data_revenues_surf = data_revenues.query('plan == \"surf\"')\n",
    "data_revenues_ultimate = data_revenues.query('plan == \"ultimate\"')"
   ]
  },
  {
   "cell_type": "code",
   "execution_count": 40,
   "id": "86156d56",
   "metadata": {},
   "outputs": [
    {
     "data": {
      "text/html": [
       "<div>\n",
       "<style scoped>\n",
       "    .dataframe tbody tr th:only-of-type {\n",
       "        vertical-align: middle;\n",
       "    }\n",
       "\n",
       "    .dataframe tbody tr th {\n",
       "        vertical-align: top;\n",
       "    }\n",
       "\n",
       "    .dataframe thead th {\n",
       "        text-align: right;\n",
       "    }\n",
       "</style>\n",
       "<table border=\"1\" class=\"dataframe\">\n",
       "  <thead>\n",
       "    <tr style=\"text-align: right;\">\n",
       "      <th></th>\n",
       "      <th>user_id</th>\n",
       "      <th>month</th>\n",
       "      <th>total_calls</th>\n",
       "      <th>total_minutes</th>\n",
       "      <th>total_mb_used</th>\n",
       "      <th>total_gigabytes</th>\n",
       "      <th>total_messages</th>\n",
       "      <th>plan</th>\n",
       "      <th>total_cost</th>\n",
       "    </tr>\n",
       "  </thead>\n",
       "  <tbody>\n",
       "    <tr>\n",
       "      <td>1</td>\n",
       "      <td>1001</td>\n",
       "      <td>8</td>\n",
       "      <td>27.0</td>\n",
       "      <td>182.0</td>\n",
       "      <td>6919.15</td>\n",
       "      <td>7.0</td>\n",
       "      <td>30.0</td>\n",
       "      <td>surf</td>\n",
       "      <td>20.0</td>\n",
       "    </tr>\n",
       "    <tr>\n",
       "      <td>2</td>\n",
       "      <td>1001</td>\n",
       "      <td>9</td>\n",
       "      <td>49.0</td>\n",
       "      <td>315.0</td>\n",
       "      <td>13314.82</td>\n",
       "      <td>14.0</td>\n",
       "      <td>44.0</td>\n",
       "      <td>surf</td>\n",
       "      <td>20.0</td>\n",
       "    </tr>\n",
       "    <tr>\n",
       "      <td>3</td>\n",
       "      <td>1001</td>\n",
       "      <td>10</td>\n",
       "      <td>65.0</td>\n",
       "      <td>393.0</td>\n",
       "      <td>22330.49</td>\n",
       "      <td>23.0</td>\n",
       "      <td>53.0</td>\n",
       "      <td>surf</td>\n",
       "      <td>100.9</td>\n",
       "    </tr>\n",
       "    <tr>\n",
       "      <td>4</td>\n",
       "      <td>1001</td>\n",
       "      <td>11</td>\n",
       "      <td>64.0</td>\n",
       "      <td>426.0</td>\n",
       "      <td>18504.30</td>\n",
       "      <td>19.0</td>\n",
       "      <td>36.0</td>\n",
       "      <td>surf</td>\n",
       "      <td>60.0</td>\n",
       "    </tr>\n",
       "    <tr>\n",
       "      <td>5</td>\n",
       "      <td>1001</td>\n",
       "      <td>12</td>\n",
       "      <td>56.0</td>\n",
       "      <td>412.0</td>\n",
       "      <td>19369.18</td>\n",
       "      <td>20.0</td>\n",
       "      <td>44.0</td>\n",
       "      <td>surf</td>\n",
       "      <td>70.0</td>\n",
       "    </tr>\n",
       "  </tbody>\n",
       "</table>\n",
       "</div>"
      ],
      "text/plain": [
       "   user_id  month  total_calls  total_minutes  total_mb_used  total_gigabytes  \\\n",
       "1     1001      8         27.0          182.0        6919.15              7.0   \n",
       "2     1001      9         49.0          315.0       13314.82             14.0   \n",
       "3     1001     10         65.0          393.0       22330.49             23.0   \n",
       "4     1001     11         64.0          426.0       18504.30             19.0   \n",
       "5     1001     12         56.0          412.0       19369.18             20.0   \n",
       "\n",
       "   total_messages  plan  total_cost  \n",
       "1            30.0  surf        20.0  \n",
       "2            44.0  surf        20.0  \n",
       "3            53.0  surf       100.9  \n",
       "4            36.0  surf        60.0  \n",
       "5            44.0  surf        70.0  "
      ]
     },
     "metadata": {},
     "output_type": "display_data"
    },
    {
     "data": {
      "text/html": [
       "<div>\n",
       "<style scoped>\n",
       "    .dataframe tbody tr th:only-of-type {\n",
       "        vertical-align: middle;\n",
       "    }\n",
       "\n",
       "    .dataframe tbody tr th {\n",
       "        vertical-align: top;\n",
       "    }\n",
       "\n",
       "    .dataframe thead th {\n",
       "        text-align: right;\n",
       "    }\n",
       "</style>\n",
       "<table border=\"1\" class=\"dataframe\">\n",
       "  <thead>\n",
       "    <tr style=\"text-align: right;\">\n",
       "      <th></th>\n",
       "      <th>user_id</th>\n",
       "      <th>month</th>\n",
       "      <th>total_calls</th>\n",
       "      <th>total_minutes</th>\n",
       "      <th>total_mb_used</th>\n",
       "      <th>total_gigabytes</th>\n",
       "      <th>total_messages</th>\n",
       "      <th>plan</th>\n",
       "      <th>total_cost</th>\n",
       "    </tr>\n",
       "  </thead>\n",
       "  <tbody>\n",
       "    <tr>\n",
       "      <td>0</td>\n",
       "      <td>1000</td>\n",
       "      <td>12</td>\n",
       "      <td>16.0</td>\n",
       "      <td>124.0</td>\n",
       "      <td>1901.47</td>\n",
       "      <td>2.0</td>\n",
       "      <td>11.0</td>\n",
       "      <td>ultimate</td>\n",
       "      <td>70.0</td>\n",
       "    </tr>\n",
       "    <tr>\n",
       "      <td>19</td>\n",
       "      <td>1006</td>\n",
       "      <td>11</td>\n",
       "      <td>2.0</td>\n",
       "      <td>10.0</td>\n",
       "      <td>2068.37</td>\n",
       "      <td>3.0</td>\n",
       "      <td>15.0</td>\n",
       "      <td>ultimate</td>\n",
       "      <td>70.0</td>\n",
       "    </tr>\n",
       "    <tr>\n",
       "      <td>20</td>\n",
       "      <td>1006</td>\n",
       "      <td>12</td>\n",
       "      <td>9.0</td>\n",
       "      <td>59.0</td>\n",
       "      <td>32118.82</td>\n",
       "      <td>33.0</td>\n",
       "      <td>139.0</td>\n",
       "      <td>ultimate</td>\n",
       "      <td>91.0</td>\n",
       "    </tr>\n",
       "    <tr>\n",
       "      <td>26</td>\n",
       "      <td>1008</td>\n",
       "      <td>10</td>\n",
       "      <td>71.0</td>\n",
       "      <td>476.0</td>\n",
       "      <td>17106.99</td>\n",
       "      <td>18.0</td>\n",
       "      <td>21.0</td>\n",
       "      <td>ultimate</td>\n",
       "      <td>70.0</td>\n",
       "    </tr>\n",
       "    <tr>\n",
       "      <td>27</td>\n",
       "      <td>1008</td>\n",
       "      <td>11</td>\n",
       "      <td>63.0</td>\n",
       "      <td>446.0</td>\n",
       "      <td>23676.72</td>\n",
       "      <td>24.0</td>\n",
       "      <td>37.0</td>\n",
       "      <td>ultimate</td>\n",
       "      <td>70.0</td>\n",
       "    </tr>\n",
       "  </tbody>\n",
       "</table>\n",
       "</div>"
      ],
      "text/plain": [
       "    user_id  month  total_calls  total_minutes  total_mb_used  \\\n",
       "0      1000     12         16.0          124.0        1901.47   \n",
       "19     1006     11          2.0           10.0        2068.37   \n",
       "20     1006     12          9.0           59.0       32118.82   \n",
       "26     1008     10         71.0          476.0       17106.99   \n",
       "27     1008     11         63.0          446.0       23676.72   \n",
       "\n",
       "    total_gigabytes  total_messages      plan  total_cost  \n",
       "0               2.0            11.0  ultimate        70.0  \n",
       "19              3.0            15.0  ultimate        70.0  \n",
       "20             33.0           139.0  ultimate        91.0  \n",
       "26             18.0            21.0  ultimate        70.0  \n",
       "27             24.0            37.0  ultimate        70.0  "
      ]
     },
     "metadata": {},
     "output_type": "display_data"
    }
   ],
   "source": [
    "#clear data based on the IQR method\n",
    "columns=[\"total_gigabytes\",\"total_messages\",\"total_minutes\"]\n",
    "\n",
    "for x in columns:\n",
    "    Q1 = data_revenues_surf[x].quantile(0.25)\n",
    "    Q3 = data_revenues_surf[x].quantile(0.75)\n",
    "    IQR = Q3 - Q1       \n",
    "    #filter out the outliers\n",
    "    clear_data_surf = data_revenues_surf[~((data_revenues_surf[x] < (Q1 - 1.5 * IQR)) |(data_revenues_surf[x] > (Q3 + 1.5 * IQR)))]\n",
    " \n",
    "#Take a look!\n",
    "display(clear_data_surf.head())\n",
    "\n",
    "for x in columns:\n",
    "    Q1 = data_revenues_ultimate[x].quantile(0.25)\n",
    "    Q3 = data_revenues_ultimate[x].quantile(0.75)\n",
    "    IQR = Q3 - Q1       \n",
    "    #filter out the outliers\n",
    "    clear_data_ultimate = data_revenues_ultimate[~((data_revenues_ultimate[x] < (Q1 - 1.5 * IQR)) |(data_revenues_ultimate[x] > (Q3 + 1.5 * IQR)))]\n",
    " \n",
    "#Take a look!\n",
    "display(clear_data_ultimate.head())"
   ]
  },
  {
   "cell_type": "code",
   "execution_count": 41,
   "id": "1a4554a5",
   "metadata": {
    "scrolled": false
   },
   "outputs": [
    {
     "data": {
      "image/png": "[encoded data removed]",
      "text/plain": [
       "<Figure size 432x288 with 1 Axes>"
      ]
     },
     "metadata": {
      "needs_background": "light"
     },
     "output_type": "display_data"
    },
    {
     "data": {
      "image/png": "[encoded data removed]",
      "text/plain": [
       "<Figure size 432x288 with 1 Axes>"
      ]
     },
     "metadata": {
      "needs_background": "light"
     },
     "output_type": "display_data"
    },
    {
     "data": {
      "image/png": "[encoded data removed]",
      "text/plain": [
       "<Figure size 432x288 with 1 Axes>"
      ]
     },
     "metadata": {
      "needs_background": "light"
     },
     "output_type": "display_data"
    }
   ],
   "source": [
    "columns=[\"total_gigabytes\",\"total_messages\",\"total_minutes\"]\n",
    "\n",
    "for x in columns:\n",
    "    # matplotlib histogram for surf plan\n",
    "    plt.hist(clear_data_surf[x], color = 'blue', edgecolor = 'black', bins =10)        \n",
    "    # matplotlib histogram for ultimate plan\n",
    "    plt.hist(clear_data_ultimate[x], color = 'yellow', edgecolor = 'black', bins = 10)         \n",
    "   # Add labels\n",
    "    plt.title('Distribution of {}'.format(x.replace('_', ' ')),fontsize=15)\n",
    "    plt.ylabel('Counts') \n",
    "   #plot the histograms \n",
    "    plt.show()"
   ]
  },
  {
   "cell_type": "markdown",
   "id": "4cf3573d",
   "metadata": {},
   "source": [
    "We can see that the distribution of customer consumption for call duration, messaging and data is very similar in both plans, indicating that customers do not overuse even when they receive a package that is almost \"unlimited\" and their consumption is very similar to those with a limited package.\n",
    "\n",
    "We can maybe concluded that since customer consumption is similar in both plans, customers in the ultimate plan put more money into the company because they hardly use the resources allocated by the company. They consume almost the same as in the surf plan and the monthly charge of the ultimate plan is more than 3 times the monthly charge of the surf plan.\n",
    "\n",
    "But! \n",
    "1. Lets look at the averages for total_count values grouped by months and plans.Most pay attention that for half a year the average total_cost per month is heighter that 80 for the sorf plan! Even more that the monthly charge for the ultimate plan. Also! for 11 monts the clientes of the surf plan pay in average more that the monthly charge (20). Insted, the clientes of the ultimate plan pages aprox. 70 per month (the monthly charge). \n",
    "2. When we compared before the total average for total cost for each plan we saw thet the mean for surf total cost is 82.099046, while the mean for plan ultimate total cost is 72.702778 (Although that for all the rest of the columns the mean values are really similar for both plans)\n",
    "\n",
    "So, after taking in consideration all the information that we collected we can maybe conclude that since customer consumption is similar in both plans, customers in the surf plan put more money into the company because they use more resources allocated by their monthly plan (paying entra money for this). They consume is almost the same as the consumer consume of the ultimate plan clients, and they paid through the year an average of 10 dollars more that the ultimate plan clients.\n",
    "\n",
    "Taking all these considerations let's test our hypothesis."
   ]
  },
  {
   "cell_type": "markdown",
   "id": "a520a2de",
   "metadata": {},
   "source": [
    "<div class=\"alert alert-block alert-success\">\n",
    "<b>Reviewer's comment</b> <a class=\"tocSkip\"></a>\n",
    "    \n",
    "Yes, customer consumption is similar in both plans. Perhaps, company should revise their tariff plans.\n",
    "\n",
    "</div>"
   ]
  },
  {
   "cell_type": "markdown",
   "id": "a484ef26",
   "metadata": {},
   "source": [
    "# Testing the hypotheses\n",
    "\n",
    "Will test the next hypotheses:\n",
    "1. The average revenue from users of Ultimate and Surf calling plans differs.\n",
    "2. The average revenue from users in NY-NJ area is different from that of the users from other regions.\n",
    "\n",
    "You decide what alpha value to use.\n",
    "\n",
    "And explain:\n",
    "1. How you formulated the null and alternative hypotheses.\n",
    "2. What criterion you used to test the hypotheses and why.\n",
    "\n",
    "**Note** : We will use the data_revenues table, since we are looking to compare the data using all the sums of the values for the different behaviors (This is important! we are not using the mean of the different behaviors : total minutes, messages and data; we are using each behavior total and the total cost for each customer grouped by month and plan)"
   ]
  },
  {
   "cell_type": "markdown",
   "id": "0b753860",
   "metadata": {},
   "source": [
    "### Hipothesis 1: \n",
    "### The average revenue from users of Ultimate and Surf calling plans differs\n",
    "\n",
    "H0: The average revenue from users of Ultimate and Surf calling plans not differs\n",
    "\n",
    "H1: The average revenue from users of Ultimate and Surf calling plans differs"
   ]
  },
  {
   "cell_type": "code",
   "execution_count": 42,
   "id": "5e326c52",
   "metadata": {},
   "outputs": [
    {
     "data": {
      "image/png": "[encoded data removed]",
      "text/plain": [
       "<Figure size 432x288 with 1 Axes>"
      ]
     },
     "metadata": {
      "needs_background": "light"
     },
     "output_type": "display_data"
    },
    {
     "data": {
      "image/png": "[encoded data removed]",
      "text/plain": [
       "<Figure size 432x288 with 1 Axes>"
      ]
     },
     "metadata": {
      "needs_background": "light"
     },
     "output_type": "display_data"
    }
   ],
   "source": [
    "# matplotlib histogram for surf plan\n",
    "plt.hist(data_revenues_surf['total_cost'], color = 'orange', edgecolor = 'black', bins =10)        \n",
    "plt.title('Revenue distribution for surf plan',fontsize=15)\n",
    "plt.ylabel('Counts') \n",
    "#plot the histograms \n",
    "plt.show()\n",
    "\n",
    "# matplotlib histogram for ultimate plan\n",
    "plt.hist(data_revenues_ultimate['total_cost'], color = 'pink', edgecolor = 'black', bins = 10)         \n",
    "# Add labels\n",
    "plt.title('Revenue distribution for ultimate plan',fontsize=15)\n",
    "plt.ylabel('Counts') \n",
    "#plot the histograms \n",
    "plt.show()"
   ]
  },
  {
   "cell_type": "markdown",
   "id": "1fc8cfb5",
   "metadata": {},
   "source": [
    "The distribution of our data is no normal. And we have here two un-paired samples. For this reason we will use the Mann-Whitney U test.\n",
    "\n",
    "The Mann-Whitney U test is a nonparametric statistical significance test for determining whether two independent samples were drawn from a population with the same distribution."
   ]
  },
  {
   "cell_type": "markdown",
   "id": "e6d8d121",
   "metadata": {},
   "source": [
    "#### Now is time to use the Mann-Whitney U test!"
   ]
  },
  {
   "cell_type": "code",
   "execution_count": 43,
   "id": "a3b87856",
   "metadata": {},
   "outputs": [
    {
     "name": "stdout",
     "output_type": "stream",
     "text": [
      "496843.5\n",
      "Statistics=496843.500, p=0.000\n",
      "Different distribution ( We reject the null hypothesis )\n"
     ]
    }
   ],
   "source": [
    " # define the two independent samples\n",
    "ultimate = data_revenues_ultimate['total_cost']\n",
    "surf = data_revenues_surf['total_cost']\n",
    "\n",
    "# compare samples\n",
    "stat, p = mannwhitneyu(surf, ultimate)\n",
    "print(stat)\n",
    "print('Statistics=%.3f, p=%.3f' % (stat, p))\n",
    "\n",
    "# interpret\n",
    "alpha = 0.05\n",
    "if p > alpha:\n",
    "    print('Same distribution ( We cant reject the null hypothesis )')\n",
    "else:\n",
    "    print('Different distribution ( We reject the null hypothesis )')\n",
    "alpha = 0.05"
   ]
  },
  {
   "cell_type": "markdown",
   "id": "5d13e7ad",
   "metadata": {},
   "source": [
    "The p-value obtained is zero! \n",
    "\n",
    "This means the null hypothesis can be easily rejected - The average revenue from users of Ultimate and Surf calling plans not differs. \n",
    "\n",
    "What about the alternative hypothesis? We can accept the hypothesis because we have already proven there is a difference between the averages revenue for each plan."
   ]
  },
  {
   "cell_type": "markdown",
   "id": "e0163453",
   "metadata": {},
   "source": [
    "<div class=\"alert alert-block alert-success\">\n",
    "<b>Reviewer's comment</b> <a class=\"tocSkip\"></a>\n",
    "    \n",
    "Great! We choose criterion and alpha, formulate and check hypotheses. Excellent result! Very good, that you plot a graph for distribution.\n",
    "\n",
    "</div>"
   ]
  },
  {
   "cell_type": "markdown",
   "id": "bb99e87f",
   "metadata": {},
   "source": [
    "### Hipothesis 2: \n",
    "### The average revenue from users in NY-NJ area is different from that of the users from other regions.\n",
    "\n",
    "H0 : The average revenue from users in NY-NJ area is not different from that of the users from other regions\n",
    "\n",
    "H1: The average revenue from users in NY-NJ area is different from that of the users from other regions"
   ]
  },
  {
   "cell_type": "markdown",
   "id": "e2f4b453",
   "metadata": {},
   "source": [
    "#### First we will slice the data of the users using this area division : we are determining the two populations."
   ]
  },
  {
   "cell_type": "code",
   "execution_count": 44,
   "id": "b6601158",
   "metadata": {},
   "outputs": [],
   "source": [
    "#Definition of the two populations (two groups: NY-NJ, rest) by total cost\n",
    "data_ny_nj=data_users.loc[data_users['city'].str.contains(\"NY|NJ\", case=False)]\n",
    "data_for_rest=data_users[~data_users['city'].str.contains('NY|NJ')]\n",
    "\n",
    "#using reset_index() in the tables\n",
    "data_ny_nj.reset_index(inplace=True)\n",
    "data_for_rest.reset_index(inplace=True)"
   ]
  },
  {
   "cell_type": "code",
   "execution_count": 45,
   "id": "acd49777",
   "metadata": {},
   "outputs": [
    {
     "name": "stdout",
     "output_type": "stream",
     "text": [
      "NY-NJ area\n",
      "rows/user_id in data_ny_nj: 108\n"
     ]
    },
    {
     "data": {
      "text/html": [
       "<div>\n",
       "<style scoped>\n",
       "    .dataframe tbody tr th:only-of-type {\n",
       "        vertical-align: middle;\n",
       "    }\n",
       "\n",
       "    .dataframe tbody tr th {\n",
       "        vertical-align: top;\n",
       "    }\n",
       "\n",
       "    .dataframe thead th {\n",
       "        text-align: right;\n",
       "    }\n",
       "</style>\n",
       "<table border=\"1\" class=\"dataframe\">\n",
       "  <thead>\n",
       "    <tr style=\"text-align: right;\">\n",
       "      <th></th>\n",
       "      <th>index</th>\n",
       "      <th>user_id</th>\n",
       "      <th>first_name</th>\n",
       "      <th>last_name</th>\n",
       "      <th>age</th>\n",
       "      <th>city</th>\n",
       "      <th>reg_date</th>\n",
       "      <th>plan</th>\n",
       "      <th>churn_date</th>\n",
       "    </tr>\n",
       "  </thead>\n",
       "  <tbody>\n",
       "    <tr>\n",
       "      <td>0</td>\n",
       "      <td>9</td>\n",
       "      <td>1009</td>\n",
       "      <td>Gerry</td>\n",
       "      <td>Little</td>\n",
       "      <td>19</td>\n",
       "      <td>San Jose-Sunnyvale-Santa Clara, CA MSA</td>\n",
       "      <td>2018-04-22</td>\n",
       "      <td>surf</td>\n",
       "      <td>NaN</td>\n",
       "    </tr>\n",
       "    <tr>\n",
       "      <td>1</td>\n",
       "      <td>14</td>\n",
       "      <td>1014</td>\n",
       "      <td>Edmundo</td>\n",
       "      <td>Simon</td>\n",
       "      <td>61</td>\n",
       "      <td>New York-Newark-Jersey City, NY-NJ-PA MSA</td>\n",
       "      <td>2018-11-25</td>\n",
       "      <td>surf</td>\n",
       "      <td>NaN</td>\n",
       "    </tr>\n",
       "    <tr>\n",
       "      <td>2</td>\n",
       "      <td>22</td>\n",
       "      <td>1022</td>\n",
       "      <td>Bo</td>\n",
       "      <td>Snow</td>\n",
       "      <td>73</td>\n",
       "      <td>New York-Newark-Jersey City, NY-NJ-PA MSA</td>\n",
       "      <td>2018-04-20</td>\n",
       "      <td>surf</td>\n",
       "      <td>2018-09-07</td>\n",
       "    </tr>\n",
       "    <tr>\n",
       "      <td>3</td>\n",
       "      <td>24</td>\n",
       "      <td>1024</td>\n",
       "      <td>Yuki</td>\n",
       "      <td>Tyson</td>\n",
       "      <td>74</td>\n",
       "      <td>New York-Newark-Jersey City, NY-NJ-PA MSA</td>\n",
       "      <td>2018-08-21</td>\n",
       "      <td>surf</td>\n",
       "      <td>NaN</td>\n",
       "    </tr>\n",
       "    <tr>\n",
       "      <td>4</td>\n",
       "      <td>27</td>\n",
       "      <td>1027</td>\n",
       "      <td>Georgeanna</td>\n",
       "      <td>Cardenas</td>\n",
       "      <td>38</td>\n",
       "      <td>New York-Newark-Jersey City, NY-NJ-PA MSA</td>\n",
       "      <td>2018-06-26</td>\n",
       "      <td>surf</td>\n",
       "      <td>NaN</td>\n",
       "    </tr>\n",
       "  </tbody>\n",
       "</table>\n",
       "</div>"
      ],
      "text/plain": [
       "   index  user_id  first_name last_name  age  \\\n",
       "0      9     1009       Gerry    Little   19   \n",
       "1     14     1014     Edmundo     Simon   61   \n",
       "2     22     1022          Bo      Snow   73   \n",
       "3     24     1024        Yuki     Tyson   74   \n",
       "4     27     1027  Georgeanna  Cardenas   38   \n",
       "\n",
       "                                        city   reg_date  plan  churn_date  \n",
       "0     San Jose-Sunnyvale-Santa Clara, CA MSA 2018-04-22  surf         NaN  \n",
       "1  New York-Newark-Jersey City, NY-NJ-PA MSA 2018-11-25  surf         NaN  \n",
       "2  New York-Newark-Jersey City, NY-NJ-PA MSA 2018-04-20  surf  2018-09-07  \n",
       "3  New York-Newark-Jersey City, NY-NJ-PA MSA 2018-08-21  surf         NaN  \n",
       "4  New York-Newark-Jersey City, NY-NJ-PA MSA 2018-06-26  surf         NaN  "
      ]
     },
     "metadata": {},
     "output_type": "display_data"
    },
    {
     "name": "stdout",
     "output_type": "stream",
     "text": [
      "\n",
      "All the rest\n",
      "rows/user_id in data_for_rest: 397\n"
     ]
    },
    {
     "data": {
      "text/html": [
       "<div>\n",
       "<style scoped>\n",
       "    .dataframe tbody tr th:only-of-type {\n",
       "        vertical-align: middle;\n",
       "    }\n",
       "\n",
       "    .dataframe tbody tr th {\n",
       "        vertical-align: top;\n",
       "    }\n",
       "\n",
       "    .dataframe thead th {\n",
       "        text-align: right;\n",
       "    }\n",
       "</style>\n",
       "<table border=\"1\" class=\"dataframe\">\n",
       "  <thead>\n",
       "    <tr style=\"text-align: right;\">\n",
       "      <th></th>\n",
       "      <th>index</th>\n",
       "      <th>user_id</th>\n",
       "      <th>first_name</th>\n",
       "      <th>last_name</th>\n",
       "      <th>age</th>\n",
       "      <th>city</th>\n",
       "      <th>reg_date</th>\n",
       "      <th>plan</th>\n",
       "      <th>churn_date</th>\n",
       "    </tr>\n",
       "  </thead>\n",
       "  <tbody>\n",
       "    <tr>\n",
       "      <td>0</td>\n",
       "      <td>0</td>\n",
       "      <td>1000</td>\n",
       "      <td>Anamaria</td>\n",
       "      <td>Bauer</td>\n",
       "      <td>45</td>\n",
       "      <td>Atlanta-Sandy Springs-Roswell, GA MSA</td>\n",
       "      <td>2018-12-24</td>\n",
       "      <td>ultimate</td>\n",
       "      <td>NaN</td>\n",
       "    </tr>\n",
       "    <tr>\n",
       "      <td>1</td>\n",
       "      <td>1</td>\n",
       "      <td>1001</td>\n",
       "      <td>Mickey</td>\n",
       "      <td>Wilkerson</td>\n",
       "      <td>28</td>\n",
       "      <td>Seattle-Tacoma-Bellevue, WA MSA</td>\n",
       "      <td>2018-08-13</td>\n",
       "      <td>surf</td>\n",
       "      <td>NaN</td>\n",
       "    </tr>\n",
       "    <tr>\n",
       "      <td>2</td>\n",
       "      <td>2</td>\n",
       "      <td>1002</td>\n",
       "      <td>Carlee</td>\n",
       "      <td>Hoffman</td>\n",
       "      <td>36</td>\n",
       "      <td>Las Vegas-Henderson-Paradise, NV MSA</td>\n",
       "      <td>2018-10-21</td>\n",
       "      <td>surf</td>\n",
       "      <td>NaN</td>\n",
       "    </tr>\n",
       "    <tr>\n",
       "      <td>3</td>\n",
       "      <td>3</td>\n",
       "      <td>1003</td>\n",
       "      <td>Reynaldo</td>\n",
       "      <td>Jenkins</td>\n",
       "      <td>52</td>\n",
       "      <td>Tulsa, OK MSA</td>\n",
       "      <td>2018-01-28</td>\n",
       "      <td>surf</td>\n",
       "      <td>NaN</td>\n",
       "    </tr>\n",
       "    <tr>\n",
       "      <td>4</td>\n",
       "      <td>4</td>\n",
       "      <td>1004</td>\n",
       "      <td>Leonila</td>\n",
       "      <td>Thompson</td>\n",
       "      <td>40</td>\n",
       "      <td>Seattle-Tacoma-Bellevue, WA MSA</td>\n",
       "      <td>2018-05-23</td>\n",
       "      <td>surf</td>\n",
       "      <td>NaN</td>\n",
       "    </tr>\n",
       "  </tbody>\n",
       "</table>\n",
       "</div>"
      ],
      "text/plain": [
       "   index  user_id first_name  last_name  age  \\\n",
       "0      0     1000   Anamaria      Bauer   45   \n",
       "1      1     1001     Mickey  Wilkerson   28   \n",
       "2      2     1002     Carlee    Hoffman   36   \n",
       "3      3     1003   Reynaldo    Jenkins   52   \n",
       "4      4     1004    Leonila   Thompson   40   \n",
       "\n",
       "                                    city   reg_date      plan churn_date  \n",
       "0  Atlanta-Sandy Springs-Roswell, GA MSA 2018-12-24  ultimate        NaN  \n",
       "1        Seattle-Tacoma-Bellevue, WA MSA 2018-08-13      surf        NaN  \n",
       "2   Las Vegas-Henderson-Paradise, NV MSA 2018-10-21      surf        NaN  \n",
       "3                          Tulsa, OK MSA 2018-01-28      surf        NaN  \n",
       "4        Seattle-Tacoma-Bellevue, WA MSA 2018-05-23      surf        NaN  "
      ]
     },
     "metadata": {},
     "output_type": "display_data"
    }
   ],
   "source": [
    "#Let's look if everthing looks good for the data_ny_nj table!\n",
    "print('NY-NJ area')\n",
    "print('rows/user_id in data_ny_nj:',len(data_ny_nj))\n",
    "display(data_ny_nj.head())\n",
    "\n",
    "#Extra empty line\n",
    "print()\n",
    "\n",
    "#Let's look if everthing looks good for the data_for_rest table!\n",
    "print('All the rest')\n",
    "print('rows/user_id in data_for_rest:',len(data_for_rest))\n",
    "display(data_for_rest.head())\n"
   ]
  },
  {
   "cell_type": "markdown",
   "id": "d0390979",
   "metadata": {},
   "source": [
    "We can see the term NJ also contains the city of \"San Jose\", so we will create another command to remove this city for the data_ny_nj table. "
   ]
  },
  {
   "cell_type": "code",
   "execution_count": 46,
   "id": "3e4d91c7",
   "metadata": {},
   "outputs": [],
   "source": [
    "#Creating another command to remove \"San Jose\" this city\n",
    "data_ny_nj = data_ny_nj[~data_ny_nj['city'].str.contains('San Jose')]\n",
    "#using reset_index() in the tables\n",
    "data_ny_nj.reset_index(inplace=True)"
   ]
  },
  {
   "cell_type": "code",
   "execution_count": 47,
   "id": "03727ab9",
   "metadata": {
    "scrolled": false
   },
   "outputs": [
    {
     "name": "stdout",
     "output_type": "stream",
     "text": [
      "NY-NJ area\n",
      "rows/user_id in data_ny_nj: 103\n"
     ]
    },
    {
     "data": {
      "text/html": [
       "<div>\n",
       "<style scoped>\n",
       "    .dataframe tbody tr th:only-of-type {\n",
       "        vertical-align: middle;\n",
       "    }\n",
       "\n",
       "    .dataframe tbody tr th {\n",
       "        vertical-align: top;\n",
       "    }\n",
       "\n",
       "    .dataframe thead th {\n",
       "        text-align: right;\n",
       "    }\n",
       "</style>\n",
       "<table border=\"1\" class=\"dataframe\">\n",
       "  <thead>\n",
       "    <tr style=\"text-align: right;\">\n",
       "      <th></th>\n",
       "      <th>level_0</th>\n",
       "      <th>index</th>\n",
       "      <th>user_id</th>\n",
       "      <th>first_name</th>\n",
       "      <th>last_name</th>\n",
       "      <th>age</th>\n",
       "      <th>city</th>\n",
       "      <th>reg_date</th>\n",
       "      <th>plan</th>\n",
       "      <th>churn_date</th>\n",
       "    </tr>\n",
       "  </thead>\n",
       "  <tbody>\n",
       "    <tr>\n",
       "      <td>0</td>\n",
       "      <td>1</td>\n",
       "      <td>14</td>\n",
       "      <td>1014</td>\n",
       "      <td>Edmundo</td>\n",
       "      <td>Simon</td>\n",
       "      <td>61</td>\n",
       "      <td>New York-Newark-Jersey City, NY-NJ-PA MSA</td>\n",
       "      <td>2018-11-25</td>\n",
       "      <td>surf</td>\n",
       "      <td>NaN</td>\n",
       "    </tr>\n",
       "    <tr>\n",
       "      <td>1</td>\n",
       "      <td>2</td>\n",
       "      <td>22</td>\n",
       "      <td>1022</td>\n",
       "      <td>Bo</td>\n",
       "      <td>Snow</td>\n",
       "      <td>73</td>\n",
       "      <td>New York-Newark-Jersey City, NY-NJ-PA MSA</td>\n",
       "      <td>2018-04-20</td>\n",
       "      <td>surf</td>\n",
       "      <td>2018-09-07</td>\n",
       "    </tr>\n",
       "    <tr>\n",
       "      <td>2</td>\n",
       "      <td>3</td>\n",
       "      <td>24</td>\n",
       "      <td>1024</td>\n",
       "      <td>Yuki</td>\n",
       "      <td>Tyson</td>\n",
       "      <td>74</td>\n",
       "      <td>New York-Newark-Jersey City, NY-NJ-PA MSA</td>\n",
       "      <td>2018-08-21</td>\n",
       "      <td>surf</td>\n",
       "      <td>NaN</td>\n",
       "    </tr>\n",
       "    <tr>\n",
       "      <td>3</td>\n",
       "      <td>4</td>\n",
       "      <td>27</td>\n",
       "      <td>1027</td>\n",
       "      <td>Georgeanna</td>\n",
       "      <td>Cardenas</td>\n",
       "      <td>38</td>\n",
       "      <td>New York-Newark-Jersey City, NY-NJ-PA MSA</td>\n",
       "      <td>2018-06-26</td>\n",
       "      <td>surf</td>\n",
       "      <td>NaN</td>\n",
       "    </tr>\n",
       "    <tr>\n",
       "      <td>4</td>\n",
       "      <td>5</td>\n",
       "      <td>28</td>\n",
       "      <td>1028</td>\n",
       "      <td>Jefferey</td>\n",
       "      <td>Rasmussen</td>\n",
       "      <td>57</td>\n",
       "      <td>Philadelphia-Camden-Wilmington, PA-NJ-DE-MD MSA</td>\n",
       "      <td>2018-02-21</td>\n",
       "      <td>ultimate</td>\n",
       "      <td>NaN</td>\n",
       "    </tr>\n",
       "  </tbody>\n",
       "</table>\n",
       "</div>"
      ],
      "text/plain": [
       "   level_0  index  user_id  first_name  last_name  age  \\\n",
       "0        1     14     1014     Edmundo      Simon   61   \n",
       "1        2     22     1022          Bo       Snow   73   \n",
       "2        3     24     1024        Yuki      Tyson   74   \n",
       "3        4     27     1027  Georgeanna   Cardenas   38   \n",
       "4        5     28     1028    Jefferey  Rasmussen   57   \n",
       "\n",
       "                                              city   reg_date      plan  \\\n",
       "0        New York-Newark-Jersey City, NY-NJ-PA MSA 2018-11-25      surf   \n",
       "1        New York-Newark-Jersey City, NY-NJ-PA MSA 2018-04-20      surf   \n",
       "2        New York-Newark-Jersey City, NY-NJ-PA MSA 2018-08-21      surf   \n",
       "3        New York-Newark-Jersey City, NY-NJ-PA MSA 2018-06-26      surf   \n",
       "4  Philadelphia-Camden-Wilmington, PA-NJ-DE-MD MSA 2018-02-21  ultimate   \n",
       "\n",
       "   churn_date  \n",
       "0         NaN  \n",
       "1  2018-09-07  \n",
       "2         NaN  \n",
       "3         NaN  \n",
       "4         NaN  "
      ]
     },
     "metadata": {},
     "output_type": "display_data"
    }
   ],
   "source": [
    "#Let's look if everthing looks good!\n",
    "print('NY-NJ area')\n",
    "print('rows/user_id in data_ny_nj:',len(data_ny_nj))\n",
    "display(data_ny_nj.head())"
   ]
  },
  {
   "cell_type": "markdown",
   "id": "be9f10a5",
   "metadata": {},
   "source": [
    "#####  Merging the tables data_revenues and data_ny_nj.\n",
    "\n",
    "A left join of these two tables will return only the rows in which the left table (data_revenues) have matching keys (user_id) in the right table (data_ny_nj) using only keys from right table."
   ]
  },
  {
   "cell_type": "code",
   "execution_count": 48,
   "id": "aea405b9",
   "metadata": {},
   "outputs": [
    {
     "name": "stdout",
     "output_type": "stream",
     "text": [
      "users_id unique values for data_revenues_ny_nj table: 103\n"
     ]
    },
    {
     "data": {
      "text/html": [
       "<div>\n",
       "<style scoped>\n",
       "    .dataframe tbody tr th:only-of-type {\n",
       "        vertical-align: middle;\n",
       "    }\n",
       "\n",
       "    .dataframe tbody tr th {\n",
       "        vertical-align: top;\n",
       "    }\n",
       "\n",
       "    .dataframe thead th {\n",
       "        text-align: right;\n",
       "    }\n",
       "</style>\n",
       "<table border=\"1\" class=\"dataframe\">\n",
       "  <thead>\n",
       "    <tr style=\"text-align: right;\">\n",
       "      <th></th>\n",
       "      <th>user_id</th>\n",
       "      <th>month</th>\n",
       "      <th>total_calls</th>\n",
       "      <th>total_minutes</th>\n",
       "      <th>total_mb_used</th>\n",
       "      <th>total_gigabytes</th>\n",
       "      <th>total_messages</th>\n",
       "      <th>plan_x</th>\n",
       "      <th>total_cost</th>\n",
       "      <th>level_0</th>\n",
       "      <th>index</th>\n",
       "      <th>first_name</th>\n",
       "      <th>last_name</th>\n",
       "      <th>age</th>\n",
       "      <th>city</th>\n",
       "      <th>reg_date</th>\n",
       "      <th>plan_y</th>\n",
       "      <th>churn_date</th>\n",
       "    </tr>\n",
       "  </thead>\n",
       "  <tbody>\n",
       "    <tr>\n",
       "      <td>487</td>\n",
       "      <td>1089</td>\n",
       "      <td>12.0</td>\n",
       "      <td>0.0</td>\n",
       "      <td>0.0</td>\n",
       "      <td>16597.91</td>\n",
       "      <td>17.0</td>\n",
       "      <td>27.0</td>\n",
       "      <td>surf</td>\n",
       "      <td>40.0</td>\n",
       "      <td>23</td>\n",
       "      <td>89</td>\n",
       "      <td>Malena</td>\n",
       "      <td>Kelley</td>\n",
       "      <td>70</td>\n",
       "      <td>Philadelphia-Camden-Wilmington, PA-NJ-DE-MD MSA</td>\n",
       "      <td>2018-09-03</td>\n",
       "      <td>surf</td>\n",
       "      <td>NaN</td>\n",
       "    </tr>\n",
       "    <tr>\n",
       "      <td>488</td>\n",
       "      <td>1275</td>\n",
       "      <td>NaN</td>\n",
       "      <td>NaN</td>\n",
       "      <td>NaN</td>\n",
       "      <td>NaN</td>\n",
       "      <td>NaN</td>\n",
       "      <td>NaN</td>\n",
       "      <td>NaN</td>\n",
       "      <td>NaN</td>\n",
       "      <td>68</td>\n",
       "      <td>275</td>\n",
       "      <td>Elvie</td>\n",
       "      <td>Velazquez</td>\n",
       "      <td>33</td>\n",
       "      <td>New York-Newark-Jersey City, NY-NJ-PA MSA</td>\n",
       "      <td>2018-11-29</td>\n",
       "      <td>ultimate</td>\n",
       "      <td>NaN</td>\n",
       "    </tr>\n",
       "  </tbody>\n",
       "</table>\n",
       "</div>"
      ],
      "text/plain": [
       "     user_id  month  total_calls  total_minutes  total_mb_used  \\\n",
       "487     1089   12.0          0.0            0.0       16597.91   \n",
       "488     1275    NaN          NaN            NaN            NaN   \n",
       "\n",
       "     total_gigabytes  total_messages plan_x  total_cost  level_0  index  \\\n",
       "487             17.0            27.0   surf        40.0       23     89   \n",
       "488              NaN             NaN    NaN         NaN       68    275   \n",
       "\n",
       "    first_name  last_name  age  \\\n",
       "487     Malena     Kelley   70   \n",
       "488      Elvie  Velazquez   33   \n",
       "\n",
       "                                                city   reg_date    plan_y  \\\n",
       "487  Philadelphia-Camden-Wilmington, PA-NJ-DE-MD MSA 2018-09-03      surf   \n",
       "488        New York-Newark-Jersey City, NY-NJ-PA MSA 2018-11-29  ultimate   \n",
       "\n",
       "    churn_date  \n",
       "487        NaN  \n",
       "488        NaN  "
      ]
     },
     "metadata": {},
     "output_type": "display_data"
    }
   ],
   "source": [
    "# merging the tables with the merge() method\n",
    "data_revenues_ny_nj = pd.merge(left = data_revenues, right = data_ny_nj, how='right',on=['user_id'])\n",
    "\n",
    "#Let's look if everthing looks good!\n",
    "print('users_id unique values for data_revenues_ny_nj table:',data_revenues_ny_nj['user_id'].value_counts().count())\n",
    "display(data_revenues_ny_nj.tail(2))"
   ]
  },
  {
   "cell_type": "markdown",
   "id": "e41d10f3",
   "metadata": {},
   "source": [
    "We have the same numbers of users (103)! We didn't lose information with the merge. It's always good to check!"
   ]
  },
  {
   "cell_type": "markdown",
   "id": "2d8211ed",
   "metadata": {},
   "source": [
    "#####  Merging the tables data_revenues and data_ny_nj."
   ]
  },
  {
   "cell_type": "code",
   "execution_count": 49,
   "id": "754f605e",
   "metadata": {},
   "outputs": [
    {
     "name": "stdout",
     "output_type": "stream",
     "text": [
      "users_id unique values for data_revenues_ny_nj table: 397\n"
     ]
    },
    {
     "data": {
      "text/html": [
       "<div>\n",
       "<style scoped>\n",
       "    .dataframe tbody tr th:only-of-type {\n",
       "        vertical-align: middle;\n",
       "    }\n",
       "\n",
       "    .dataframe tbody tr th {\n",
       "        vertical-align: top;\n",
       "    }\n",
       "\n",
       "    .dataframe thead th {\n",
       "        text-align: right;\n",
       "    }\n",
       "</style>\n",
       "<table border=\"1\" class=\"dataframe\">\n",
       "  <thead>\n",
       "    <tr style=\"text-align: right;\">\n",
       "      <th></th>\n",
       "      <th>user_id</th>\n",
       "      <th>month</th>\n",
       "      <th>total_calls</th>\n",
       "      <th>total_minutes</th>\n",
       "      <th>total_mb_used</th>\n",
       "      <th>total_gigabytes</th>\n",
       "      <th>total_messages</th>\n",
       "      <th>plan_x</th>\n",
       "      <th>total_cost</th>\n",
       "      <th>index</th>\n",
       "      <th>first_name</th>\n",
       "      <th>last_name</th>\n",
       "      <th>age</th>\n",
       "      <th>city</th>\n",
       "      <th>reg_date</th>\n",
       "      <th>plan_y</th>\n",
       "      <th>churn_date</th>\n",
       "    </tr>\n",
       "  </thead>\n",
       "  <tbody>\n",
       "    <tr>\n",
       "      <td>1812</td>\n",
       "      <td>1463</td>\n",
       "      <td>NaN</td>\n",
       "      <td>NaN</td>\n",
       "      <td>NaN</td>\n",
       "      <td>NaN</td>\n",
       "      <td>NaN</td>\n",
       "      <td>NaN</td>\n",
       "      <td>NaN</td>\n",
       "      <td>NaN</td>\n",
       "      <td>463</td>\n",
       "      <td>Dinorah</td>\n",
       "      <td>Simmons</td>\n",
       "      <td>30</td>\n",
       "      <td>Atlanta-Sandy Springs-Roswell, GA MSA</td>\n",
       "      <td>2018-11-27</td>\n",
       "      <td>ultimate</td>\n",
       "      <td>NaN</td>\n",
       "    </tr>\n",
       "    <tr>\n",
       "      <td>1813</td>\n",
       "      <td>1473</td>\n",
       "      <td>NaN</td>\n",
       "      <td>NaN</td>\n",
       "      <td>NaN</td>\n",
       "      <td>NaN</td>\n",
       "      <td>NaN</td>\n",
       "      <td>NaN</td>\n",
       "      <td>NaN</td>\n",
       "      <td>NaN</td>\n",
       "      <td>473</td>\n",
       "      <td>Kirk</td>\n",
       "      <td>Velez</td>\n",
       "      <td>61</td>\n",
       "      <td>Louisville/Jefferson County, KY-IN MSA</td>\n",
       "      <td>2018-12-31</td>\n",
       "      <td>surf</td>\n",
       "      <td>NaN</td>\n",
       "    </tr>\n",
       "  </tbody>\n",
       "</table>\n",
       "</div>"
      ],
      "text/plain": [
       "      user_id  month  total_calls  total_minutes  total_mb_used  \\\n",
       "1812     1463    NaN          NaN            NaN            NaN   \n",
       "1813     1473    NaN          NaN            NaN            NaN   \n",
       "\n",
       "      total_gigabytes  total_messages plan_x  total_cost  index first_name  \\\n",
       "1812              NaN             NaN    NaN         NaN    463    Dinorah   \n",
       "1813              NaN             NaN    NaN         NaN    473       Kirk   \n",
       "\n",
       "     last_name  age                                    city   reg_date  \\\n",
       "1812   Simmons   30   Atlanta-Sandy Springs-Roswell, GA MSA 2018-11-27   \n",
       "1813     Velez   61  Louisville/Jefferson County, KY-IN MSA 2018-12-31   \n",
       "\n",
       "        plan_y churn_date  \n",
       "1812  ultimate        NaN  \n",
       "1813      surf        NaN  "
      ]
     },
     "metadata": {},
     "output_type": "display_data"
    }
   ],
   "source": [
    "# merging the tables with the merge() method\n",
    "data_revenues_rest = pd.merge(left = data_revenues, right = data_for_rest, how='right',on=['user_id'])\n",
    "\n",
    "#Let's look if everthing looks good!\n",
    "print('users_id unique values for data_revenues_ny_nj table:',data_revenues_rest['user_id'].value_counts().count())\n",
    "display(data_revenues_rest.tail(2))"
   ]
  },
  {
   "cell_type": "markdown",
   "id": "301bfd82",
   "metadata": {},
   "source": [
    "We have the same numbers of users (397) ! We didn't lose information with the merge. It's always good to check!"
   ]
  },
  {
   "cell_type": "markdown",
   "id": "eb5db3bf",
   "metadata": {},
   "source": [
    "Let's take a look at the renueve distribution of the this two samples."
   ]
  },
  {
   "cell_type": "code",
   "execution_count": 50,
   "id": "bd2628da",
   "metadata": {},
   "outputs": [
    {
     "data": {
      "image/png": "[encoded data removed]",
      "text/plain": [
       "<Figure size 432x288 with 1 Axes>"
      ]
     },
     "metadata": {
      "needs_background": "light"
     },
     "output_type": "display_data"
    },
    {
     "data": {
      "image/png": "[encoded data removed]",
      "text/plain": [
       "<Figure size 432x288 with 1 Axes>"
      ]
     },
     "metadata": {
      "needs_background": "light"
     },
     "output_type": "display_data"
    }
   ],
   "source": [
    "# matplotlib histogram for surf plan\n",
    "plt.hist(data_revenues_ny_nj['total_cost'], color = 'orange', edgecolor = 'black', bins =10)        \n",
    "plt.title('Revenue Distribution for the \"NY|NJ\" areas',fontsize=15)\n",
    "plt.ylabel('Counts') \n",
    "#plot the histograms \n",
    "plt.show()\n",
    "\n",
    "# matplotlib histogram for ultimate plan\n",
    "plt.hist(data_revenues_rest['total_cost'], color = 'pink', edgecolor = 'black', bins = 10)         \n",
    "# Add labels\n",
    "plt.title('Revenue Distribution for all the rest',fontsize=15)\n",
    "plt.ylabel('Counts') \n",
    "#plot the histograms \n",
    "plt.show()"
   ]
  },
  {
   "cell_type": "markdown",
   "id": "acbb7311",
   "metadata": {},
   "source": [
    "The distribution of our data is no normal. And we have here two un-paired samples.\n",
    "For this reason we will use the Mann-Whitney U test to assess whether there is a statistically significant difference between averages users renueve from NY-NJ area and the averages users renueve from other regions. "
   ]
  },
  {
   "cell_type": "markdown",
   "id": "09a52721",
   "metadata": {},
   "source": [
    "<div class=\"alert alert-block alert-success\">\n",
    "<b>Reviewer's comment</b> <a class=\"tocSkip\"></a>\n",
    "    \n",
    "Good merges and graphs!\n",
    "\n",
    "</div>"
   ]
  },
  {
   "cell_type": "markdown",
   "id": "711dd65d",
   "metadata": {},
   "source": [
    "#### Now is time to use the Mann-Whitney U test!"
   ]
  },
  {
   "cell_type": "code",
   "execution_count": 51,
   "id": "1572842d",
   "metadata": {},
   "outputs": [
    {
     "name": "stdout",
     "output_type": "stream",
     "text": [
      "415336.5\n",
      "Statistics=415336.500, p=0.014\n",
      "Different distribution ( We reject the null hypothesis )\n"
     ]
    }
   ],
   "source": [
    "# define the two independent samples\n",
    "ny_nj = data_revenues_ny_nj['total_cost']\n",
    "rest = data_revenues_rest['total_cost']\n",
    "\n",
    "# compare samples\n",
    "stat, p = mannwhitneyu(ny_nj, rest)\n",
    "print(stat)\n",
    "print('Statistics=%.3f, p=%.3f' % (stat, p))\n",
    "\n",
    "# interpret\n",
    "alpha = 0.05\n",
    "if p > alpha:\n",
    "    print('Same distribution ( We cant reject the null hypothesis )')\n",
    "else:\n",
    "    print('Different distribution ( We reject the null hypothesis )')\n",
    "alpha = 0.05"
   ]
  },
  {
   "cell_type": "markdown",
   "id": "b455d831",
   "metadata": {},
   "source": [
    "The p-value would  low enough to reject the null hypothesis in favor of the alternative.\n",
    "\n",
    "We reject the hypothesis that the average revenue from users in NY-NJ area is equal from that of the users from other regions.\n",
    "\n",
    "We can conclude that there are regions in the country were the average renueve is greater or smaller."
   ]
  },
  {
   "cell_type": "markdown",
   "id": "dd2d1117",
   "metadata": {},
   "source": [
    "<div class=\"alert alert-block alert-success\">\n",
    "<b>Reviewer's comment</b> <a class=\"tocSkip\"></a>\n",
    "    \n",
    "Very good step! We check our hypotheses and our research is complete.\n",
    "\n",
    "</div>"
   ]
  },
  {
   "cell_type": "markdown",
   "id": "7310ead0",
   "metadata": {},
   "source": [
    "# Overall conclusion"
   ]
  },
  {
   "cell_type": "markdown",
   "id": "15c1810a",
   "metadata": {},
   "source": [
    "First! We will recomence to the company to detecte in wich regions the average renueve is lowest and invest to inproe the numbers in these especific regions.\n",
    "\n",
    "And what more?\n",
    "We can conclude that the surf plan brings more clients and the average renueve from these users is grather that 82 per year. \n",
    "\n",
    "The plan surf users also use minutes, mesages and data pretty such like the ultimate users (and these users average renueve is 72 per year)\n",
    "\n",
    "Now it's depende in the ways the company wants to manage his clientes. Let's explains the options!\n",
    "1. The surf plan obviously makes more money for the company that the ultimate plan, because almost all the surf plan users exceed their monthly calls, messages and data volume. And in the end the average renueve of these clients is higher than the average renueve of the ultimate plan clients (while they spend in average the same minutes calls, data volume and messages). So, if the company wants to continue to make money from these clients (and also make money fron new clients) we recomende to patrocinate the surf plan. In this way the company will make good money from users that choose a cheep plan, but in the end they exceed their monthly calls, messages and data volume and pay extra money for that.\n",
    "2. The company can decide to explain to all the surf plan users why is convenient for them to move to the ultimate plan, and in this way these clients will save money. "
   ]
  },
  {
   "cell_type": "markdown",
   "id": "bfd8a9d8",
   "metadata": {},
   "source": [
    "<div class=\"alert alert-block alert-warning\">\n",
    "<b>Reviewer's comment</b> <a class=\"tocSkip\"></a>\n",
    "\n",
    "You did a great job. You did many researches in it. Detailed conclusion make your project completed. It is like a conclusion in a book: we want to know what's happened in a nutshell.\n",
    "\n",
    "</div>"
   ]
  }
 ],
 "metadata": {
  "ExecuteTimeLog": [
   {
    "duration": 88,
    "start_time": "2021-07-08T12:52:42.867Z"
   },
   {
    "duration": 1440,
    "start_time": "2021-07-08T12:53:24.542Z"
   },
   {
    "duration": 553,
    "start_time": "2021-07-08T12:53:25.985Z"
   },
   {
    "duration": 17,
    "start_time": "2021-07-08T12:53:26.541Z"
   },
   {
    "duration": 16,
    "start_time": "2021-07-08T12:53:26.561Z"
   },
   {
    "duration": 28,
    "start_time": "2021-07-08T12:53:26.579Z"
   },
   {
    "duration": 16,
    "start_time": "2021-07-08T12:53:26.609Z"
   },
   {
    "duration": 28,
    "start_time": "2021-07-08T12:53:26.628Z"
   },
   {
    "duration": 161,
    "start_time": "2021-07-08T12:53:26.659Z"
   },
   {
    "duration": 24,
    "start_time": "2021-07-08T12:53:26.823Z"
   },
   {
    "duration": 64,
    "start_time": "2021-07-08T12:53:26.850Z"
   },
   {
    "duration": 18,
    "start_time": "2021-07-08T12:53:26.916Z"
   },
   {
    "duration": 184,
    "start_time": "2021-07-08T12:53:26.937Z"
   },
   {
    "duration": 91,
    "start_time": "2021-07-08T12:53:27.123Z"
   },
   {
    "duration": 6,
    "start_time": "2021-07-08T12:53:27.217Z"
   },
   {
    "duration": 31,
    "start_time": "2021-07-08T12:53:27.226Z"
   },
   {
    "duration": 95,
    "start_time": "2021-07-08T12:53:27.260Z"
   },
   {
    "duration": 16,
    "start_time": "2021-07-08T12:53:27.358Z"
   },
   {
    "duration": 46,
    "start_time": "2021-07-08T12:53:27.377Z"
   },
   {
    "duration": 27,
    "start_time": "2021-07-08T12:53:27.425Z"
   },
   {
    "duration": 61,
    "start_time": "2021-07-08T12:53:27.454Z"
   },
   {
    "duration": 17,
    "start_time": "2021-07-08T12:53:27.518Z"
   },
   {
    "duration": 33,
    "start_time": "2021-07-08T12:53:27.537Z"
   },
   {
    "duration": 33,
    "start_time": "2021-07-08T12:53:27.575Z"
   },
   {
    "duration": 23,
    "start_time": "2021-07-08T12:53:27.612Z"
   },
   {
    "duration": 141,
    "start_time": "2021-07-08T12:53:27.638Z"
   },
   {
    "duration": 21,
    "start_time": "2021-07-08T12:53:27.781Z"
   },
   {
    "duration": 32,
    "start_time": "2021-07-08T12:53:27.804Z"
   },
   {
    "duration": 16,
    "start_time": "2021-07-08T12:53:27.838Z"
   },
   {
    "duration": 50,
    "start_time": "2021-07-08T12:53:27.856Z"
   },
   {
    "duration": 281,
    "start_time": "2021-07-08T12:53:27.909Z"
   },
   {
    "duration": 22,
    "start_time": "2021-07-08T12:53:28.192Z"
   },
   {
    "duration": 23,
    "start_time": "2021-07-08T12:53:28.217Z"
   },
   {
    "duration": 299,
    "start_time": "2021-07-08T12:53:28.242Z"
   },
   {
    "duration": 79,
    "start_time": "2021-07-08T12:53:28.543Z"
   },
   {
    "duration": 87,
    "start_time": "2021-07-08T12:53:28.625Z"
   },
   {
    "duration": 20,
    "start_time": "2021-07-08T12:53:28.715Z"
   },
   {
    "duration": 1895,
    "start_time": "2021-07-08T12:53:28.738Z"
   },
   {
    "duration": 1988,
    "start_time": "2021-07-08T12:53:30.635Z"
   },
   {
    "duration": 13,
    "start_time": "2021-07-08T12:53:32.626Z"
   },
   {
    "duration": 91,
    "start_time": "2021-07-08T12:53:32.642Z"
   },
   {
    "duration": 976,
    "start_time": "2021-07-08T12:53:32.736Z"
   },
   {
    "duration": 593,
    "start_time": "2021-07-08T12:53:33.715Z"
   },
   {
    "duration": 12,
    "start_time": "2021-07-08T12:53:34.311Z"
   },
   {
    "duration": 13,
    "start_time": "2021-07-08T12:53:34.326Z"
   },
   {
    "duration": 75,
    "start_time": "2021-07-08T12:53:34.342Z"
   },
   {
    "duration": 12,
    "start_time": "2021-07-08T12:53:34.420Z"
   },
   {
    "duration": 138,
    "start_time": "2021-07-08T12:53:34.434Z"
   },
   {
    "duration": 50,
    "start_time": "2021-07-08T12:53:34.575Z"
   },
   {
    "duration": 38,
    "start_time": "2021-07-08T12:53:34.628Z"
   },
   {
    "duration": 608,
    "start_time": "2021-07-08T12:53:34.669Z"
   },
   {
    "duration": 23,
    "start_time": "2021-07-08T12:53:35.280Z"
   }
  ],
  "kernelspec": {
   "display_name": "Python 3",
   "language": "python",
   "name": "python3"
  },
  "language_info": {
   "codemirror_mode": {
    "name": "ipython",
    "version": 3
   },
   "file_extension": ".py",
   "mimetype": "text/x-python",
   "name": "python",
   "nbconvert_exporter": "python",
   "pygments_lexer": "ipython3",
   "version": "3.8.8"
  },
  "toc": {
   "base_numbering": 1,
   "nav_menu": {},
   "number_sections": true,
   "sideBar": true,
   "skip_h1_title": true,
   "title_cell": "Table of Contents",
   "title_sidebar": "Contents",
   "toc_cell": false,
   "toc_position": {},
   "toc_section_display": true,
   "toc_window_display": false
  }
 },
 "nbformat": 4,
 "nbformat_minor": 5
}
