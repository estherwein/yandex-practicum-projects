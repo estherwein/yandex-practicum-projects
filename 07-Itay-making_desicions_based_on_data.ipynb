{
 "cells": [
  {
   "cell_type": "markdown",
   "metadata": {},
   "source": [
    "Hi Itay. I'm Svetlana and will review your project. I've added all my comments to new cells with different coloring. Please don't delete my comments.\n",
    "\n",
    "\n",
    "The first time I see a mistake, I'll just point it out and let you find it and fix it yourself. In a real job, your boss will do the same, and I'm trying to prepare you to work as an Data Analyst. But if you can't handle this task yet, I'll give you a more accurate hint at the next check.\n",
    "\n",
    "<div class=\"alert alert-success\" role=\"alert\">\n",
    "Reviewer's comment v. 1:\n",
    "    \n",
    "If you did something great I'm using green color for my comment\n",
    "</div>\n",
    "\n",
    "<div class=\"alert alert-warning\" role=\"alert\">\n",
    "Reviewer's comment v. 1:\n",
    "    \n",
    "If I want to give you advice or think that something can be improved, then I'll use yellow. This is an optional recommendation.\n",
    "</div>\n",
    "\n",
    "<div class=\"alert alert-danger\" role=\"alert\">\n",
    "Reviewer's comment v. 1:\n",
    "    \n",
    "If the topic requires some extra work so I can accept it then the color will be red\n",
    "</div>\n",
    "\n",
    "## Review v. 1<a class=\"tocSkip\">\n",
    "\n",
    "Thank you! Your project has been received. You've put a lot of work into this! But, unfortunately, your project is not quite ready for review. This is because the code doesn’t run because of error. One more time and you'll have it!\n",
    "    \n",
    "## Review v. 2<a class=\"tocSkip\">\n",
    "    \n",
    "Thank you for taking the time to correct your project! I really appreciate your hard work. There's still a minor issue with this part statistical tests. Here are a few more pointers to help you put the final touches on your project. Keep working, you've got this!\n",
    "    \n",
    "## Review v. 3<a class=\"tocSkip\">\n",
    "    \n",
    "Thank you so much for submitting your project! It seems like something went wrong and you sent a version without any changes. Please check it again. You're almost there!\n",
    "    \n",
    "## Review v. 4<a class=\"tocSkip\">\n",
    "    \n",
    "Now your project is a true \"A\". Congratulations! I'm glad to say that your project has been accepted.  Keep up the good work, and good luck on the next sprint!"
   ]
  },
  {
   "cell_type": "markdown",
   "metadata": {},
   "source": [
    "Project description\n",
    "\n",
    "You are an analyst at a big online store. Together with the marketing department, you've compiled a list of hypotheses that may help boost revenue.<br>\n",
    "**You need to prioritize these hypotheses, launch an A/B test, and analyze the results.**\n",
    "\n",
    "------------------------------------\n",
    "\n",
    "Description of the data\n",
    "Data used in the first part of the project\n",
    "/datasets/hypotheses_us.csv Download dataset\n",
    "\n",
    "    Hypotheses — brief descriptions of the hypotheses\n",
    "    Reach — user reach, on a scale of one to ten\n",
    "    Impact — impact on users, on a scale of one to ten\n",
    "    Confidence — confidence in the hypothesis, on a scale of one to ten\n",
    "    Effort — the resources required to test a hypothesis, on a scale of one to ten. The higher the Effort value, the more resource-intensive the test.\n",
    "\n",
    "Data used in the second part of the project\n",
    "/datasets/orders_us.csv Download dataset\n",
    "\n",
    "    transactionId — order identifier\n",
    "    visitorId — identifier of the user who placed the order\n",
    "    date — of the order\n",
    "    revenue — from the order\n",
    "    group — the A/B test group that the user belongs to\n",
    "\n",
    "/datasets/visits_us.csv Download dataset\n",
    "\n",
    "    date — date\n",
    "    group — A/B test group\n",
    "    visits — the number of visits on the date specified in the A/B test group specified\n",
    "\n",
    " \n",
    "\n",
    " Research plan:\n",
    "<a class=\"anchor\" id=\"table_of_contents\"></a>\n",
    "\n",
    "[table_of_contents](#table_of_contents)\n",
    "\n",
    "1. [look at general information of the data](#general_information)\n",
    "    * Load data\n",
    "    * Explore data\n",
    "2. [preprocess](#preprocess)\n",
    "    * Replace the column names (make them lowercase).\n",
    "    * Convert the data to the required types.\n",
    "    * Describe the columns where the data types have been changed and why.\n",
    "    * If necessary, decide how to deal with missing values:\n",
    "        ◦ Explain why you filled in the missing values as you did or why you decided to leave them blank.\n",
    "        ◦ Why do you think the values are missing? Give possible reasons.\n",
    "        ◦ Pay attention to the abbreviation TBD (to be determined). Specify how you intend to handle such cases.\n",
    "    * Calculate the total sales (the sum of sales in all regions) for each game and put these values in a separate column.\n",
    "3. [Prioritizing Hypotheses:](#Prioritizing_Hypotheses)\n",
    "    * Apply the ICE framework to prioritize hypotheses. Sort them in descending order of priority.\n",
    "    * Apply the RICE framework to prioritize hypotheses. Sort them in descending order of priority.\n",
    "    * Show how the prioritization of hypotheses changes when you use RICE instead of ICE. Provide an explanation for the changes.\n",
    "4. [A/B Test Analysis](#A/B_Test_Analysis)\n",
    "    * Graph cumulative revenue by group. Make conclusions and conjectures.\n",
    "    * Graph cumulative average order size by group. Make conclusions and conjectures.\n",
    "    * Graph the relative difference in cumulative average order size for group B compared with group A. Make conclusions and conjectures.\n",
    "    * Calculate each group's conversion rate as the ratio of orders to the number of visits for each day. Plot the daily conversion rates of the two groups and describe the difference. Draw conclusions and make conjectures.\n",
    "    * Plot a scatter chart of the number of orders per user. Make conclusions and conjectures.\n",
    "    * Calculate the 95th and 99th percentiles for the number of orders per user. Define the point at which a data point becomes an anomaly.\n",
    "    * Plot a scatter chart of order prices. Make conclusions and conjectures.\n",
    "    * Calculate the 95th and 99th percentiles of order prices. Define the point at which a data point becomes an anomaly.\n",
    "    * Find the statistical significance of the difference in conversion between the groups using the raw data. Make conclusions and conjectures.\n",
    "    * Find the statistical significance of the difference in average order size between the groups using the raw data. Make conclusions and conjectures.\n",
    "    * Find the statistical significance of the difference in conversion between the groups using the filtered data. Make conclusions and conjectures.\n",
    "    * Find the statistical significance of the difference in average order size between the groups using the filtered data. Make conclusions and conjectures.\n",
    "    * Make a decision based on the test results. The possible decisions are: 1. Stop the test, consider one of the groups the leader. 2. Stop the test, conclude that there is no difference between the groups. 3. Continue the test.\n",
    "\n",
    "Here’s what project reviewers look for when assessing your project:\n",
    "\n",
    "    How you prepare the data for analysis\n",
    "    How you prioritize hypotheses\n",
    "    How you interpret the resulting graphs\n",
    "    How you calculate statistical significance\n",
    "    What conclusions you draw based on the A/B test results\n",
    "    Whether you follow the project structure and keep the code tidy\n",
    "    The conclusions you make\n",
    "    Whether you leave comments at each step\n"
   ]
  },
  {
   "cell_type": "markdown",
   "metadata": {},
   "source": [
    "<div class=\"alert alert-success\" role=\"alert\">\n",
    "Reviewer's comment v. 1:\n",
    "    \n",
    "Good job that you clearly described the project.\n",
    "</div>"
   ]
  },
  {
   "cell_type": "markdown",
   "metadata": {},
   "source": [
    "<a class='anchor' id='general_information'></a>\n",
    "[Go back to the Table of Contents](#table_of_contents)\n",
    "## [General information](#general_information)"
   ]
  },
  {
   "cell_type": "code",
   "execution_count": 1,
   "metadata": {},
   "outputs": [
    {
     "name": "stdout",
     "output_type": "stream",
     "text": [
      "Defaulting to user installation because normal site-packages is not writeable\n",
      "Collecting plotly==5.1.0\n",
      "  Downloading plotly-5.1.0-py2.py3-none-any.whl (20.6 MB)\n",
      "\u001b[K     |████████████████████████████████| 20.6 MB 1.0 MB/s eta 0:00:01\n",
      "\u001b[?25hCollecting tenacity>=6.2.0\n",
      "  Downloading tenacity-8.0.1-py3-none-any.whl (24 kB)\n",
      "Requirement already satisfied: six in /opt/conda/lib/python3.7/site-packages (from plotly==5.1.0) (1.15.0)\n",
      "Installing collected packages: tenacity, plotly\n",
      "Successfully installed plotly-5.1.0 tenacity-8.0.1\n"
     ]
    }
   ],
   "source": [
    "!pip install plotly==5.1.0 "
   ]
  },
  {
   "cell_type": "code",
   "execution_count": 2,
   "metadata": {},
   "outputs": [
    {
     "name": "stdout",
     "output_type": "stream",
     "text": [
      "Defaulting to user installation because normal site-packages is not writeable\n",
      "Collecting sidetable\n",
      "  Downloading sidetable-0.9.0-py3-none-any.whl (17 kB)\n",
      "Collecting pandas>=1.0\n",
      "  Downloading pandas-1.3.2-cp37-cp37m-manylinux_2_17_x86_64.manylinux2014_x86_64.whl (11.3 MB)\n",
      "\u001b[K     |████████████████████████████████| 11.3 MB 1.4 MB/s eta 0:00:01\n",
      "\u001b[?25hRequirement already satisfied: pytz>=2017.3 in /opt/conda/lib/python3.7/site-packages (from pandas>=1.0->sidetable) (2021.1)\n",
      "Requirement already satisfied: numpy>=1.17.3 in /opt/conda/lib/python3.7/site-packages (from pandas>=1.0->sidetable) (1.19.5)\n",
      "Requirement already satisfied: python-dateutil>=2.7.3 in /opt/conda/lib/python3.7/site-packages (from pandas>=1.0->sidetable) (2.8.1)\n",
      "Requirement already satisfied: six>=1.5 in /opt/conda/lib/python3.7/site-packages (from python-dateutil>=2.7.3->pandas>=1.0->sidetable) (1.15.0)\n",
      "Installing collected packages: pandas, sidetable\n",
      "Successfully installed pandas-1.3.2 sidetable-0.9.0\n",
      "Note: you may need to restart the kernel to use updated packages.\n"
     ]
    }
   ],
   "source": [
    "pip install sidetable"
   ]
  },
  {
   "cell_type": "code",
   "execution_count": 3,
   "metadata": {},
   "outputs": [
    {
     "name": "stdout",
     "output_type": "stream",
     "text": [
      "Defaulting to user installation because normal site-packages is not writeable\n",
      "Collecting squarify\n",
      "  Downloading squarify-0.4.3-py3-none-any.whl (4.3 kB)\n",
      "Installing collected packages: squarify\n",
      "Successfully installed squarify-0.4.3\n",
      "Note: you may need to restart the kernel to use updated packages.\n"
     ]
    }
   ],
   "source": [
    "pip install squarify"
   ]
  },
  {
   "cell_type": "code",
   "execution_count": 4,
   "metadata": {},
   "outputs": [
    {
     "name": "stderr",
     "output_type": "stream",
     "text": [
      "/opt/conda/lib/python3.7/site-packages/statsmodels/tools/_testing.py:19: FutureWarning: pandas.util.testing is deprecated. Use the functions in the public API at pandas.testing instead.\n",
      "  import pandas.util.testing as tm\n"
     ]
    }
   ],
   "source": [
    "# Load relevant libraries\n",
    "import matplotlib.pyplot as plt\n",
    "import matplotlib.dates as mdates\n",
    "import numpy as np\n",
    "import pandas as pd\n",
    "import plotly\n",
    "import plotly.express as px\n",
    "import plotly.graph_objects as go\n",
    "import scipy.stats as stats\n",
    "import seaborn as sns\n",
    "import sidetable\n",
    "import squarify\n",
    "import warnings\n",
    "warnings.simplefilter ('ignore')\n",
    "\n",
    "from matplotlib.axes._axes import _log as matplotlib_axes_logger\n",
    "matplotlib_axes_logger.setLevel('ERROR')\n",
    "\n",
    "plt.rcParams['figure.figsize'] = [15,6]"
   ]
  },
  {
   "cell_type": "code",
   "execution_count": 5,
   "metadata": {},
   "outputs": [],
   "source": [
    "# Load data\n",
    "try:\n",
    "    visits_df = pd.read_csv('./visits_us.csv')\n",
    "    orders_df = pd.read_csv('./datasets/orders_us.csv.csv')\n",
    "    hypotheses_df = pd.read_csv('./hypotheses_us.csv')\n",
    "except:\n",
    "    visits_df = pd.read_csv('/datasets/visits_us.csv')\n",
    "    orders_df = pd.read_csv('/datasets/orders_us.csv')\n",
    "    hypotheses_df = pd.read_csv('/datasets/hypotheses_us.csv', sep=';')\n",
    "\n",
    "dfs = {'visits_df':visits_df, 'orders_df':orders_df,'hypotheses_df':hypotheses_df}"
   ]
  },
  {
   "cell_type": "markdown",
   "metadata": {},
   "source": [
    "<div class=\"alert alert-success\" role=\"alert\">\n",
    "Reviewer's comment v. 1:\n",
    "    \n",
    "It's useful practice to use try-except for the path to the file.\n",
    "</div>"
   ]
  },
  {
   "cell_type": "markdown",
   "metadata": {},
   "source": [
    "Lets explore the data:"
   ]
  },
  {
   "cell_type": "code",
   "execution_count": 6,
   "metadata": {},
   "outputs": [
    {
     "name": "stdout",
     "output_type": "stream",
     "text": [
      "visits_df\n",
      "<class 'pandas.core.frame.DataFrame'>\n",
      "RangeIndex: 62 entries, 0 to 61\n",
      "Data columns (total 3 columns):\n",
      " #   Column  Non-Null Count  Dtype \n",
      "---  ------  --------------  ----- \n",
      " 0   date    62 non-null     object\n",
      " 1   group   62 non-null     object\n",
      " 2   visits  62 non-null     int64 \n",
      "dtypes: int64(1), object(2)\n",
      "memory usage: 1.6+ KB\n"
     ]
    },
    {
     "data": {
      "text/html": [
       "<div>\n",
       "<style scoped>\n",
       "    .dataframe tbody tr th:only-of-type {\n",
       "        vertical-align: middle;\n",
       "    }\n",
       "\n",
       "    .dataframe tbody tr th {\n",
       "        vertical-align: top;\n",
       "    }\n",
       "\n",
       "    .dataframe thead th {\n",
       "        text-align: right;\n",
       "    }\n",
       "</style>\n",
       "<table border=\"1\" class=\"dataframe\">\n",
       "  <thead>\n",
       "    <tr style=\"text-align: right;\">\n",
       "      <th></th>\n",
       "      <th>date</th>\n",
       "      <th>group</th>\n",
       "      <th>visits</th>\n",
       "    </tr>\n",
       "  </thead>\n",
       "  <tbody>\n",
       "    <tr>\n",
       "      <th>0</th>\n",
       "      <td>2019-08-01</td>\n",
       "      <td>A</td>\n",
       "      <td>719</td>\n",
       "    </tr>\n",
       "    <tr>\n",
       "      <th>1</th>\n",
       "      <td>2019-08-02</td>\n",
       "      <td>A</td>\n",
       "      <td>619</td>\n",
       "    </tr>\n",
       "    <tr>\n",
       "      <th>2</th>\n",
       "      <td>2019-08-03</td>\n",
       "      <td>A</td>\n",
       "      <td>507</td>\n",
       "    </tr>\n",
       "    <tr>\n",
       "      <th>3</th>\n",
       "      <td>2019-08-04</td>\n",
       "      <td>A</td>\n",
       "      <td>717</td>\n",
       "    </tr>\n",
       "    <tr>\n",
       "      <th>4</th>\n",
       "      <td>2019-08-05</td>\n",
       "      <td>A</td>\n",
       "      <td>756</td>\n",
       "    </tr>\n",
       "  </tbody>\n",
       "</table>\n",
       "</div>"
      ],
      "text/plain": [
       "         date group  visits\n",
       "0  2019-08-01     A     719\n",
       "1  2019-08-02     A     619\n",
       "2  2019-08-03     A     507\n",
       "3  2019-08-04     A     717\n",
       "4  2019-08-05     A     756"
      ]
     },
     "metadata": {},
     "output_type": "display_data"
    },
    {
     "name": "stdout",
     "output_type": "stream",
     "text": [
      "\n",
      "orders_df\n",
      "<class 'pandas.core.frame.DataFrame'>\n",
      "RangeIndex: 1197 entries, 0 to 1196\n",
      "Data columns (total 5 columns):\n",
      " #   Column         Non-Null Count  Dtype  \n",
      "---  ------         --------------  -----  \n",
      " 0   transactionId  1197 non-null   int64  \n",
      " 1   visitorId      1197 non-null   int64  \n",
      " 2   date           1197 non-null   object \n",
      " 3   revenue        1197 non-null   float64\n",
      " 4   group          1197 non-null   object \n",
      "dtypes: float64(1), int64(2), object(2)\n",
      "memory usage: 46.9+ KB\n"
     ]
    },
    {
     "data": {
      "text/html": [
       "<div>\n",
       "<style scoped>\n",
       "    .dataframe tbody tr th:only-of-type {\n",
       "        vertical-align: middle;\n",
       "    }\n",
       "\n",
       "    .dataframe tbody tr th {\n",
       "        vertical-align: top;\n",
       "    }\n",
       "\n",
       "    .dataframe thead th {\n",
       "        text-align: right;\n",
       "    }\n",
       "</style>\n",
       "<table border=\"1\" class=\"dataframe\">\n",
       "  <thead>\n",
       "    <tr style=\"text-align: right;\">\n",
       "      <th></th>\n",
       "      <th>transactionId</th>\n",
       "      <th>visitorId</th>\n",
       "      <th>date</th>\n",
       "      <th>revenue</th>\n",
       "      <th>group</th>\n",
       "    </tr>\n",
       "  </thead>\n",
       "  <tbody>\n",
       "    <tr>\n",
       "      <th>0</th>\n",
       "      <td>3667963787</td>\n",
       "      <td>3312258926</td>\n",
       "      <td>2019-08-15</td>\n",
       "      <td>30.4</td>\n",
       "      <td>B</td>\n",
       "    </tr>\n",
       "    <tr>\n",
       "      <th>1</th>\n",
       "      <td>2804400009</td>\n",
       "      <td>3642806036</td>\n",
       "      <td>2019-08-15</td>\n",
       "      <td>15.2</td>\n",
       "      <td>B</td>\n",
       "    </tr>\n",
       "    <tr>\n",
       "      <th>2</th>\n",
       "      <td>2961555356</td>\n",
       "      <td>4069496402</td>\n",
       "      <td>2019-08-15</td>\n",
       "      <td>10.2</td>\n",
       "      <td>A</td>\n",
       "    </tr>\n",
       "    <tr>\n",
       "      <th>3</th>\n",
       "      <td>3797467345</td>\n",
       "      <td>1196621759</td>\n",
       "      <td>2019-08-15</td>\n",
       "      <td>155.1</td>\n",
       "      <td>B</td>\n",
       "    </tr>\n",
       "    <tr>\n",
       "      <th>4</th>\n",
       "      <td>2282983706</td>\n",
       "      <td>2322279887</td>\n",
       "      <td>2019-08-15</td>\n",
       "      <td>40.5</td>\n",
       "      <td>B</td>\n",
       "    </tr>\n",
       "  </tbody>\n",
       "</table>\n",
       "</div>"
      ],
      "text/plain": [
       "   transactionId   visitorId        date  revenue group\n",
       "0     3667963787  3312258926  2019-08-15     30.4     B\n",
       "1     2804400009  3642806036  2019-08-15     15.2     B\n",
       "2     2961555356  4069496402  2019-08-15     10.2     A\n",
       "3     3797467345  1196621759  2019-08-15    155.1     B\n",
       "4     2282983706  2322279887  2019-08-15     40.5     B"
      ]
     },
     "metadata": {},
     "output_type": "display_data"
    },
    {
     "name": "stdout",
     "output_type": "stream",
     "text": [
      "\n",
      "hypotheses_df\n",
      "<class 'pandas.core.frame.DataFrame'>\n",
      "RangeIndex: 9 entries, 0 to 8\n",
      "Data columns (total 5 columns):\n",
      " #   Column      Non-Null Count  Dtype \n",
      "---  ------      --------------  ----- \n",
      " 0   Hypothesis  9 non-null      object\n",
      " 1   Reach       9 non-null      int64 \n",
      " 2   Impact      9 non-null      int64 \n",
      " 3   Confidence  9 non-null      int64 \n",
      " 4   Effort      9 non-null      int64 \n",
      "dtypes: int64(4), object(1)\n",
      "memory usage: 488.0+ bytes\n"
     ]
    },
    {
     "data": {
      "text/html": [
       "<div>\n",
       "<style scoped>\n",
       "    .dataframe tbody tr th:only-of-type {\n",
       "        vertical-align: middle;\n",
       "    }\n",
       "\n",
       "    .dataframe tbody tr th {\n",
       "        vertical-align: top;\n",
       "    }\n",
       "\n",
       "    .dataframe thead th {\n",
       "        text-align: right;\n",
       "    }\n",
       "</style>\n",
       "<table border=\"1\" class=\"dataframe\">\n",
       "  <thead>\n",
       "    <tr style=\"text-align: right;\">\n",
       "      <th></th>\n",
       "      <th>Hypothesis</th>\n",
       "      <th>Reach</th>\n",
       "      <th>Impact</th>\n",
       "      <th>Confidence</th>\n",
       "      <th>Effort</th>\n",
       "    </tr>\n",
       "  </thead>\n",
       "  <tbody>\n",
       "    <tr>\n",
       "      <th>0</th>\n",
       "      <td>Add two new channels for attracting traffic. T...</td>\n",
       "      <td>3</td>\n",
       "      <td>10</td>\n",
       "      <td>8</td>\n",
       "      <td>6</td>\n",
       "    </tr>\n",
       "    <tr>\n",
       "      <th>1</th>\n",
       "      <td>Launch your own delivery service. This will sh...</td>\n",
       "      <td>2</td>\n",
       "      <td>5</td>\n",
       "      <td>4</td>\n",
       "      <td>10</td>\n",
       "    </tr>\n",
       "    <tr>\n",
       "      <th>2</th>\n",
       "      <td>Add product recommendation blocks to the store...</td>\n",
       "      <td>8</td>\n",
       "      <td>3</td>\n",
       "      <td>7</td>\n",
       "      <td>3</td>\n",
       "    </tr>\n",
       "    <tr>\n",
       "      <th>3</th>\n",
       "      <td>Change the category structure. This will incre...</td>\n",
       "      <td>8</td>\n",
       "      <td>3</td>\n",
       "      <td>3</td>\n",
       "      <td>8</td>\n",
       "    </tr>\n",
       "    <tr>\n",
       "      <th>4</th>\n",
       "      <td>Change the background color on the main page. ...</td>\n",
       "      <td>3</td>\n",
       "      <td>1</td>\n",
       "      <td>1</td>\n",
       "      <td>1</td>\n",
       "    </tr>\n",
       "  </tbody>\n",
       "</table>\n",
       "</div>"
      ],
      "text/plain": [
       "                                          Hypothesis  Reach  Impact  \\\n",
       "0  Add two new channels for attracting traffic. T...      3      10   \n",
       "1  Launch your own delivery service. This will sh...      2       5   \n",
       "2  Add product recommendation blocks to the store...      8       3   \n",
       "3  Change the category structure. This will incre...      8       3   \n",
       "4  Change the background color on the main page. ...      3       1   \n",
       "\n",
       "   Confidence  Effort  \n",
       "0           8       6  \n",
       "1           4      10  \n",
       "2           7       3  \n",
       "3           3       8  \n",
       "4           1       1  "
      ]
     },
     "metadata": {},
     "output_type": "display_data"
    },
    {
     "name": "stdout",
     "output_type": "stream",
     "text": [
      "\n"
     ]
    }
   ],
   "source": [
    "for df_name in dfs:\n",
    "    print(df_name)\n",
    "    dfs[df_name].info()\n",
    "    display(dfs[df_name].head())\n",
    "    print()"
   ]
  },
  {
   "cell_type": "markdown",
   "metadata": {},
   "source": [
    "We can see several columns that need to be changed to date type:\n",
    "\n",
    "visits_df: date\n",
    "\n",
    "order_df: date\n",
    "\n",
    "Change columns in hypotheses_df to lowercase"
   ]
  },
  {
   "cell_type": "markdown",
   "metadata": {},
   "source": [
    "<div class=\"alert alert-success\" role=\"alert\">\n",
    "Reviewer's comment v. 1:\n",
    "    \n",
    "Yes, it's necessary to change data type.\n",
    "</div>"
   ]
  },
  {
   "cell_type": "markdown",
   "metadata": {},
   "source": [
    "Lets look for duplicates.\n"
   ]
  },
  {
   "cell_type": "code",
   "execution_count": 7,
   "metadata": {},
   "outputs": [
    {
     "data": {
      "text/html": [
       "<div>\n",
       "<style scoped>\n",
       "    .dataframe tbody tr th:only-of-type {\n",
       "        vertical-align: middle;\n",
       "    }\n",
       "\n",
       "    .dataframe tbody tr th {\n",
       "        vertical-align: top;\n",
       "    }\n",
       "\n",
       "    .dataframe thead th {\n",
       "        text-align: right;\n",
       "    }\n",
       "</style>\n",
       "<table border=\"1\" class=\"dataframe\">\n",
       "  <thead>\n",
       "    <tr style=\"text-align: right;\">\n",
       "      <th></th>\n",
       "      <th>date</th>\n",
       "      <th>group</th>\n",
       "      <th>visits</th>\n",
       "    </tr>\n",
       "  </thead>\n",
       "  <tbody>\n",
       "  </tbody>\n",
       "</table>\n",
       "</div>"
      ],
      "text/plain": [
       "Empty DataFrame\n",
       "Columns: [date, group, visits]\n",
       "Index: []"
      ]
     },
     "metadata": {},
     "output_type": "display_data"
    },
    {
     "data": {
      "text/html": [
       "<div>\n",
       "<style scoped>\n",
       "    .dataframe tbody tr th:only-of-type {\n",
       "        vertical-align: middle;\n",
       "    }\n",
       "\n",
       "    .dataframe tbody tr th {\n",
       "        vertical-align: top;\n",
       "    }\n",
       "\n",
       "    .dataframe thead th {\n",
       "        text-align: right;\n",
       "    }\n",
       "</style>\n",
       "<table border=\"1\" class=\"dataframe\">\n",
       "  <thead>\n",
       "    <tr style=\"text-align: right;\">\n",
       "      <th></th>\n",
       "      <th>transactionId</th>\n",
       "      <th>visitorId</th>\n",
       "      <th>date</th>\n",
       "      <th>revenue</th>\n",
       "      <th>group</th>\n",
       "    </tr>\n",
       "  </thead>\n",
       "  <tbody>\n",
       "  </tbody>\n",
       "</table>\n",
       "</div>"
      ],
      "text/plain": [
       "Empty DataFrame\n",
       "Columns: [transactionId, visitorId, date, revenue, group]\n",
       "Index: []"
      ]
     },
     "metadata": {},
     "output_type": "display_data"
    },
    {
     "data": {
      "text/html": [
       "<div>\n",
       "<style scoped>\n",
       "    .dataframe tbody tr th:only-of-type {\n",
       "        vertical-align: middle;\n",
       "    }\n",
       "\n",
       "    .dataframe tbody tr th {\n",
       "        vertical-align: top;\n",
       "    }\n",
       "\n",
       "    .dataframe thead th {\n",
       "        text-align: right;\n",
       "    }\n",
       "</style>\n",
       "<table border=\"1\" class=\"dataframe\">\n",
       "  <thead>\n",
       "    <tr style=\"text-align: right;\">\n",
       "      <th></th>\n",
       "      <th>Hypothesis</th>\n",
       "      <th>Reach</th>\n",
       "      <th>Impact</th>\n",
       "      <th>Confidence</th>\n",
       "      <th>Effort</th>\n",
       "    </tr>\n",
       "  </thead>\n",
       "  <tbody>\n",
       "  </tbody>\n",
       "</table>\n",
       "</div>"
      ],
      "text/plain": [
       "Empty DataFrame\n",
       "Columns: [Hypothesis, Reach, Impact, Confidence, Effort]\n",
       "Index: []"
      ]
     },
     "metadata": {},
     "output_type": "display_data"
    }
   ],
   "source": [
    "for df_name in dfs:\n",
    "    display(dfs[df_name][dfs[df_name].duplicated()])\n"
   ]
  },
  {
   "cell_type": "markdown",
   "metadata": {},
   "source": [
    "Lets for check if any users are in both groups and if we find any remove them."
   ]
  },
  {
   "cell_type": "code",
   "execution_count": 8,
   "metadata": {},
   "outputs": [
    {
     "data": {
      "text/plain": [
       "A    31\n",
       "B    31\n",
       "Name: group, dtype: int64"
      ]
     },
     "execution_count": 8,
     "metadata": {},
     "output_type": "execute_result"
    }
   ],
   "source": [
    "visits_df['group'].value_counts()"
   ]
  },
  {
   "cell_type": "markdown",
   "metadata": {},
   "source": [
    "visits_df is fine, lets check orders_df"
   ]
  },
  {
   "cell_type": "code",
   "execution_count": 9,
   "metadata": {},
   "outputs": [
    {
     "data": {
      "text/plain": [
       "B    640\n",
       "A    557\n",
       "Name: group, dtype: int64"
      ]
     },
     "execution_count": 9,
     "metadata": {},
     "output_type": "execute_result"
    }
   ],
   "source": [
    "orders_df['group'].value_counts()"
   ]
  },
  {
   "cell_type": "code",
   "execution_count": 10,
   "metadata": {},
   "outputs": [
    {
     "data": {
      "text/plain": [
       "83"
      ]
     },
     "execution_count": 10,
     "metadata": {},
     "output_type": "execute_result"
    }
   ],
   "source": [
    "640-557"
   ]
  },
  {
   "cell_type": "markdown",
   "metadata": {},
   "source": [
    "We have a discrepancy. 83 users difference.<br>\n",
    "Lets explore some more"
   ]
  },
  {
   "cell_type": "code",
   "execution_count": 11,
   "metadata": {},
   "outputs": [
    {
     "data": {
      "text/plain": [
       "1    973\n",
       "2     58\n",
       "Name: group, dtype: int64"
      ]
     },
     "execution_count": 11,
     "metadata": {},
     "output_type": "execute_result"
    }
   ],
   "source": [
    "orders_pivot = pd.pivot_table(orders_df, values='group', index=['visitorId'], aggfunc='nunique').sort_values(by='visitorId').reset_index()\n",
    "orders_pivot.group.value_counts()"
   ]
  },
  {
   "cell_type": "markdown",
   "metadata": {},
   "source": [
    "58 users are in both groups. lets remove them."
   ]
  },
  {
   "cell_type": "markdown",
   "metadata": {},
   "source": [
    "There are no :\n",
    "* na values\n",
    "* no duplicates\n",
    "\n",
    "Need to fix:\n",
    "* visits_df: date\n",
    "* order_df: date\n",
    "* hypotheses_df columns to lower case\n",
    "* removing users that are in both groups in order_df"
   ]
  },
  {
   "cell_type": "markdown",
   "metadata": {},
   "source": [
    "<div class=\"alert alert-danger\" role=\"alert\">\n",
    "Reviewer's comment v. 1:\n",
    "    \n",
    "Please check are there any users belonging to both groups.\n",
    "</div>\n",
    "\n",
    "<div class=\"alert alert-block alert-info\">\n",
    "Checked for users in both and will remove in the preprocess.\n",
    "</div>"
   ]
  },
  {
   "cell_type": "markdown",
   "metadata": {},
   "source": [
    "<div class=\"alert alert-success\" role=\"alert\">\n",
    "Reviewer's comment v. 3:\n",
    "    \n",
    "Ok :)\n",
    "</div>"
   ]
  },
  {
   "cell_type": "markdown",
   "metadata": {},
   "source": [
    "<div class=\"alert alert-success\" role=\"alert\">\n",
    "Reviewer's comment v. 1:\n",
    "    \n",
    "Yes, we don't have a missing values and duplicates.\n",
    "</div>"
   ]
  },
  {
   "cell_type": "markdown",
   "metadata": {},
   "source": [
    "<a class='anchor' id='preprocess'></a>\n",
    "[Go back to the Table of Contents](#table_of_contents)\n",
    "## [preprocess](#preprocess)\n",
    "\n",
    "* [x] Change visits_df: date to date type\n",
    "* [x] Change order_df: date to date type\n",
    "* [x] hypotheses_df columns to lower case\n",
    "* [X] remove users from both groups in order_df"
   ]
  },
  {
   "cell_type": "code",
   "execution_count": 12,
   "metadata": {},
   "outputs": [
    {
     "name": "stdout",
     "output_type": "stream",
     "text": [
      "<class 'pandas.core.frame.DataFrame'>\n",
      "RangeIndex: 62 entries, 0 to 61\n",
      "Data columns (total 3 columns):\n",
      " #   Column  Non-Null Count  Dtype         \n",
      "---  ------  --------------  -----         \n",
      " 0   date    62 non-null     datetime64[ns]\n",
      " 1   group   62 non-null     object        \n",
      " 2   visits  62 non-null     int64         \n",
      "dtypes: datetime64[ns](1), int64(1), object(1)\n",
      "memory usage: 1.6+ KB\n",
      "<class 'pandas.core.frame.DataFrame'>\n",
      "RangeIndex: 1197 entries, 0 to 1196\n",
      "Data columns (total 5 columns):\n",
      " #   Column         Non-Null Count  Dtype         \n",
      "---  ------         --------------  -----         \n",
      " 0   transactionId  1197 non-null   int64         \n",
      " 1   visitorId      1197 non-null   int64         \n",
      " 2   date           1197 non-null   datetime64[ns]\n",
      " 3   revenue        1197 non-null   float64       \n",
      " 4   group          1197 non-null   object        \n",
      "dtypes: datetime64[ns](1), float64(1), int64(2), object(1)\n",
      "memory usage: 46.9+ KB\n"
     ]
    }
   ],
   "source": [
    "visits_df.date = pd.to_datetime(visits_df.date, format='%Y-%m-%d')\n",
    "orders_df.date = pd.to_datetime(orders_df.date, format='%Y-%m-%d')\n",
    "visits_df.info()\n",
    "orders_df.info()"
   ]
  },
  {
   "cell_type": "code",
   "execution_count": 13,
   "metadata": {},
   "outputs": [
    {
     "data": {
      "text/plain": [
       "Index(['hypothesis', 'reach', 'impact', 'confidence', 'effort'], dtype='object')"
      ]
     },
     "execution_count": 13,
     "metadata": {},
     "output_type": "execute_result"
    }
   ],
   "source": [
    "hypotheses_df.columns = hypotheses_df.columns.str.lower()\n",
    "hypotheses_df.columns"
   ]
  },
  {
   "cell_type": "markdown",
   "metadata": {},
   "source": [
    "Removing users from both groups in orders_df"
   ]
  },
  {
   "cell_type": "code",
   "execution_count": 14,
   "metadata": {},
   "outputs": [],
   "source": [
    "orders_a = orders_df.query('group == \"A\"')['visitorId'].to_list()\n",
    "orders_b = orders_df.query('group == \"B\"')['visitorId'].to_list()\n",
    "\n",
    "both = [x for x in orders_a if x in orders_b]\n",
    "\n",
    "orders_df = orders_df[~orders_df['visitorId'].isin(both)]"
   ]
  },
  {
   "cell_type": "markdown",
   "metadata": {},
   "source": [
    "<div class=\"alert alert-success\" role=\"alert\">\n",
    "Reviewer's comment v. 2:\n",
    "    \n",
    "Yes, it's necessary to remove users belonging to both groups.\n",
    "</div>"
   ]
  },
  {
   "cell_type": "markdown",
   "metadata": {},
   "source": [
    "We have cleaned the data and are ready to move forward.\n",
    "\n",
    "----------------\n",
    "<a class='anchor' id='Prioritizing_Hypotheses'></a>\n",
    "[Go back to the Table of Contents](#table_of_contents)\n",
    "## [Prioritizing Hypotheses:](#Prioritizing_Hypotheses)\n",
    "\n",
    "We need to prioretize our hypotheses, we will use **ICE** framework to do that.\n",
    "\n",
    "**ICE = impact * confidence * ease**<br>\n",
    "or<br>\n",
    "**ICE = (impact * confidence) / effort**"
   ]
  },
  {
   "cell_type": "code",
   "execution_count": 15,
   "metadata": {},
   "outputs": [
    {
     "data": {
      "text/html": [
       "<div>\n",
       "<style scoped>\n",
       "    .dataframe tbody tr th:only-of-type {\n",
       "        vertical-align: middle;\n",
       "    }\n",
       "\n",
       "    .dataframe tbody tr th {\n",
       "        vertical-align: top;\n",
       "    }\n",
       "\n",
       "    .dataframe thead th {\n",
       "        text-align: right;\n",
       "    }\n",
       "</style>\n",
       "<table border=\"1\" class=\"dataframe\">\n",
       "  <thead>\n",
       "    <tr style=\"text-align: right;\">\n",
       "      <th></th>\n",
       "      <th>hypothesis</th>\n",
       "      <th>reach</th>\n",
       "      <th>impact</th>\n",
       "      <th>confidence</th>\n",
       "      <th>effort</th>\n",
       "      <th>ICE</th>\n",
       "    </tr>\n",
       "  </thead>\n",
       "  <tbody>\n",
       "    <tr>\n",
       "      <th>8</th>\n",
       "      <td>Launch a promotion that gives users discounts ...</td>\n",
       "      <td>1</td>\n",
       "      <td>9</td>\n",
       "      <td>9</td>\n",
       "      <td>5</td>\n",
       "      <td>16.200000</td>\n",
       "    </tr>\n",
       "    <tr>\n",
       "      <th>0</th>\n",
       "      <td>Add two new channels for attracting traffic. T...</td>\n",
       "      <td>3</td>\n",
       "      <td>10</td>\n",
       "      <td>8</td>\n",
       "      <td>6</td>\n",
       "      <td>13.333333</td>\n",
       "    </tr>\n",
       "    <tr>\n",
       "      <th>7</th>\n",
       "      <td>Add a subscription form to all the main pages....</td>\n",
       "      <td>10</td>\n",
       "      <td>7</td>\n",
       "      <td>8</td>\n",
       "      <td>5</td>\n",
       "      <td>11.200000</td>\n",
       "    </tr>\n",
       "    <tr>\n",
       "      <th>6</th>\n",
       "      <td>Show banners with current offers and sales on ...</td>\n",
       "      <td>5</td>\n",
       "      <td>3</td>\n",
       "      <td>8</td>\n",
       "      <td>3</td>\n",
       "      <td>8.000000</td>\n",
       "    </tr>\n",
       "    <tr>\n",
       "      <th>2</th>\n",
       "      <td>Add product recommendation blocks to the store...</td>\n",
       "      <td>8</td>\n",
       "      <td>3</td>\n",
       "      <td>7</td>\n",
       "      <td>3</td>\n",
       "      <td>7.000000</td>\n",
       "    </tr>\n",
       "    <tr>\n",
       "      <th>1</th>\n",
       "      <td>Launch your own delivery service. This will sh...</td>\n",
       "      <td>2</td>\n",
       "      <td>5</td>\n",
       "      <td>4</td>\n",
       "      <td>10</td>\n",
       "      <td>2.000000</td>\n",
       "    </tr>\n",
       "    <tr>\n",
       "      <th>5</th>\n",
       "      <td>Add a customer review page. This will increase...</td>\n",
       "      <td>3</td>\n",
       "      <td>2</td>\n",
       "      <td>2</td>\n",
       "      <td>3</td>\n",
       "      <td>1.333333</td>\n",
       "    </tr>\n",
       "    <tr>\n",
       "      <th>3</th>\n",
       "      <td>Change the category structure. This will incre...</td>\n",
       "      <td>8</td>\n",
       "      <td>3</td>\n",
       "      <td>3</td>\n",
       "      <td>8</td>\n",
       "      <td>1.125000</td>\n",
       "    </tr>\n",
       "    <tr>\n",
       "      <th>4</th>\n",
       "      <td>Change the background color on the main page. ...</td>\n",
       "      <td>3</td>\n",
       "      <td>1</td>\n",
       "      <td>1</td>\n",
       "      <td>1</td>\n",
       "      <td>1.000000</td>\n",
       "    </tr>\n",
       "  </tbody>\n",
       "</table>\n",
       "</div>"
      ],
      "text/plain": [
       "                                          hypothesis  reach  impact  \\\n",
       "8  Launch a promotion that gives users discounts ...      1       9   \n",
       "0  Add two new channels for attracting traffic. T...      3      10   \n",
       "7  Add a subscription form to all the main pages....     10       7   \n",
       "6  Show banners with current offers and sales on ...      5       3   \n",
       "2  Add product recommendation blocks to the store...      8       3   \n",
       "1  Launch your own delivery service. This will sh...      2       5   \n",
       "5  Add a customer review page. This will increase...      3       2   \n",
       "3  Change the category structure. This will incre...      8       3   \n",
       "4  Change the background color on the main page. ...      3       1   \n",
       "\n",
       "   confidence  effort        ICE  \n",
       "8           9       5  16.200000  \n",
       "0           8       6  13.333333  \n",
       "7           8       5  11.200000  \n",
       "6           8       3   8.000000  \n",
       "2           7       3   7.000000  \n",
       "1           4      10   2.000000  \n",
       "5           2       3   1.333333  \n",
       "3           3       8   1.125000  \n",
       "4           1       1   1.000000  "
      ]
     },
     "execution_count": 15,
     "metadata": {},
     "output_type": "execute_result"
    }
   ],
   "source": [
    "hypotheses_df['ICE'] = (hypotheses_df['impact'] * hypotheses_df['confidence']) / hypotheses_df['effort']\n",
    "hypotheses_df.sort_values(by='ICE', ascending=False)"
   ]
  },
  {
   "cell_type": "markdown",
   "metadata": {},
   "source": [
    "Next we will apply **RICE** framwork to prioritize the hypotheses"
   ]
  },
  {
   "cell_type": "code",
   "execution_count": 16,
   "metadata": {},
   "outputs": [
    {
     "data": {
      "text/html": [
       "<div>\n",
       "<style scoped>\n",
       "    .dataframe tbody tr th:only-of-type {\n",
       "        vertical-align: middle;\n",
       "    }\n",
       "\n",
       "    .dataframe tbody tr th {\n",
       "        vertical-align: top;\n",
       "    }\n",
       "\n",
       "    .dataframe thead th {\n",
       "        text-align: right;\n",
       "    }\n",
       "</style>\n",
       "<table border=\"1\" class=\"dataframe\">\n",
       "  <thead>\n",
       "    <tr style=\"text-align: right;\">\n",
       "      <th></th>\n",
       "      <th>hypothesis</th>\n",
       "      <th>reach</th>\n",
       "      <th>impact</th>\n",
       "      <th>confidence</th>\n",
       "      <th>effort</th>\n",
       "      <th>ICE</th>\n",
       "      <th>RICE</th>\n",
       "    </tr>\n",
       "  </thead>\n",
       "  <tbody>\n",
       "    <tr>\n",
       "      <th>7</th>\n",
       "      <td>Add a subscription form to all the main pages....</td>\n",
       "      <td>10</td>\n",
       "      <td>7</td>\n",
       "      <td>8</td>\n",
       "      <td>5</td>\n",
       "      <td>11.200000</td>\n",
       "      <td>112.0</td>\n",
       "    </tr>\n",
       "    <tr>\n",
       "      <th>2</th>\n",
       "      <td>Add product recommendation blocks to the store...</td>\n",
       "      <td>8</td>\n",
       "      <td>3</td>\n",
       "      <td>7</td>\n",
       "      <td>3</td>\n",
       "      <td>7.000000</td>\n",
       "      <td>56.0</td>\n",
       "    </tr>\n",
       "    <tr>\n",
       "      <th>0</th>\n",
       "      <td>Add two new channels for attracting traffic. T...</td>\n",
       "      <td>3</td>\n",
       "      <td>10</td>\n",
       "      <td>8</td>\n",
       "      <td>6</td>\n",
       "      <td>13.333333</td>\n",
       "      <td>40.0</td>\n",
       "    </tr>\n",
       "    <tr>\n",
       "      <th>6</th>\n",
       "      <td>Show banners with current offers and sales on ...</td>\n",
       "      <td>5</td>\n",
       "      <td>3</td>\n",
       "      <td>8</td>\n",
       "      <td>3</td>\n",
       "      <td>8.000000</td>\n",
       "      <td>40.0</td>\n",
       "    </tr>\n",
       "    <tr>\n",
       "      <th>8</th>\n",
       "      <td>Launch a promotion that gives users discounts ...</td>\n",
       "      <td>1</td>\n",
       "      <td>9</td>\n",
       "      <td>9</td>\n",
       "      <td>5</td>\n",
       "      <td>16.200000</td>\n",
       "      <td>16.2</td>\n",
       "    </tr>\n",
       "    <tr>\n",
       "      <th>3</th>\n",
       "      <td>Change the category structure. This will incre...</td>\n",
       "      <td>8</td>\n",
       "      <td>3</td>\n",
       "      <td>3</td>\n",
       "      <td>8</td>\n",
       "      <td>1.125000</td>\n",
       "      <td>9.0</td>\n",
       "    </tr>\n",
       "    <tr>\n",
       "      <th>1</th>\n",
       "      <td>Launch your own delivery service. This will sh...</td>\n",
       "      <td>2</td>\n",
       "      <td>5</td>\n",
       "      <td>4</td>\n",
       "      <td>10</td>\n",
       "      <td>2.000000</td>\n",
       "      <td>4.0</td>\n",
       "    </tr>\n",
       "    <tr>\n",
       "      <th>5</th>\n",
       "      <td>Add a customer review page. This will increase...</td>\n",
       "      <td>3</td>\n",
       "      <td>2</td>\n",
       "      <td>2</td>\n",
       "      <td>3</td>\n",
       "      <td>1.333333</td>\n",
       "      <td>4.0</td>\n",
       "    </tr>\n",
       "    <tr>\n",
       "      <th>4</th>\n",
       "      <td>Change the background color on the main page. ...</td>\n",
       "      <td>3</td>\n",
       "      <td>1</td>\n",
       "      <td>1</td>\n",
       "      <td>1</td>\n",
       "      <td>1.000000</td>\n",
       "      <td>3.0</td>\n",
       "    </tr>\n",
       "  </tbody>\n",
       "</table>\n",
       "</div>"
      ],
      "text/plain": [
       "                                          hypothesis  reach  impact  \\\n",
       "7  Add a subscription form to all the main pages....     10       7   \n",
       "2  Add product recommendation blocks to the store...      8       3   \n",
       "0  Add two new channels for attracting traffic. T...      3      10   \n",
       "6  Show banners with current offers and sales on ...      5       3   \n",
       "8  Launch a promotion that gives users discounts ...      1       9   \n",
       "3  Change the category structure. This will incre...      8       3   \n",
       "1  Launch your own delivery service. This will sh...      2       5   \n",
       "5  Add a customer review page. This will increase...      3       2   \n",
       "4  Change the background color on the main page. ...      3       1   \n",
       "\n",
       "   confidence  effort        ICE   RICE  \n",
       "7           8       5  11.200000  112.0  \n",
       "2           7       3   7.000000   56.0  \n",
       "0           8       6  13.333333   40.0  \n",
       "6           8       3   8.000000   40.0  \n",
       "8           9       5  16.200000   16.2  \n",
       "3           3       8   1.125000    9.0  \n",
       "1           4      10   2.000000    4.0  \n",
       "5           2       3   1.333333    4.0  \n",
       "4           1       1   1.000000    3.0  "
      ]
     },
     "execution_count": 16,
     "metadata": {},
     "output_type": "execute_result"
    }
   ],
   "source": [
    "hypotheses_df['RICE'] = (hypotheses_df['reach'] * hypotheses_df['impact'] * hypotheses_df['confidence']) / hypotheses_df['effort']\n",
    "hypotheses_df.sort_values(by='RICE', ascending=False)"
   ]
  },
  {
   "cell_type": "markdown",
   "metadata": {},
   "source": [
    "We can see the diffecrence between the **ICE** and **RICE** frameworks.\n",
    "\n",
    "Hypotheses 7 in the **ICE: Add a subscription form to all the main pages..** was number three in the top scores.\n",
    "<br> Now is number 1 in the scores.\n",
    "\n",
    "Hypotheses 8 in the **ICE: Launch a promotion that gives users discounts..** was number one in the top scores.\n",
    "<br> Now is number 4 in the scores.\n",
    "\n",
    "The difference is the **reach** element. <br>\n",
    "10 for hypotheses 7 and 1 for hypotheses 8.\n",
    "\n",
    "According to **RICE** we can reach much more users with hypotheses 7."
   ]
  },
  {
   "cell_type": "markdown",
   "metadata": {},
   "source": [
    "<div class=\"alert alert-success\" role=\"alert\">\n",
    "Reviewer's comment v. 1:\n",
    "    \n",
    "You correctly calculated ICE scores and identified the highest priority hypotheses. It will be nice to show RICE and ICE scores on the same plot. This makes it easier to analyze.\n",
    "</div>"
   ]
  },
  {
   "cell_type": "markdown",
   "metadata": {},
   "source": [
    "<a class='anchor' id='A/B_Test_Analysis'></a>\n",
    "[Go back to the Table of Contents](#table_of_contents)\n",
    "## [A/B Test Analysis](#A/B_Test_Analysis)\n",
    "\n",
    "\n",
    "\n",
    "* Graph cumulative average order size by group. Make conclusions and conjectures.\n",
    "\n",
    "* Graph the relative difference in cumulative average order size for group B compared with group A. Make "
   ]
  },
  {
   "cell_type": "markdown",
   "metadata": {},
   "source": [
    "**Graph cumulative revenue by group. Make conclusions and conjectures.**\n",
    "\n",
    "Lets prepare the data to be able to answer these questions:\n",
    "We need to group by date and by group.<br> \n",
    "We will also do some extra work to help us answer future questions."
   ]
  },
  {
   "cell_type": "code",
   "execution_count": 17,
   "metadata": {},
   "outputs": [],
   "source": [
    "datesGroups = orders_df[['date','group']].drop_duplicates()\n",
    "\n",
    "ordersAggregated = datesGroups.apply(lambda x: orders_df[np.logical_and(orders_df['date'] <= x['date'],\n",
    "                            orders_df['group'] == x['group'])].agg({'date' : 'max',\n",
    "                                                                    'group' : 'max',\n",
    "                                                                    'transactionId' : pd.Series.nunique,\n",
    "                                                                    'visitorId' : pd.Series.nunique,\n",
    "                                                                    'revenue' : 'sum'}),\n",
    "                            axis=1).sort_values(by=['date','group'])"
   ]
  },
  {
   "cell_type": "markdown",
   "metadata": {},
   "source": [
    "We will do similar work on visits_df"
   ]
  },
  {
   "cell_type": "code",
   "execution_count": 18,
   "metadata": {},
   "outputs": [],
   "source": [
    "\n",
    "visitorsAggregated = datesGroups.apply(lambda x: visits_df[np.logical_and(visits_df['date'] <= x['date'],\n",
    "                                        visits_df['group'] == x['group'])].agg({'date' : 'max',\n",
    "                                                                               'group' : 'max',\n",
    "                                                                               'visits' : 'sum'}),\n",
    "                                       axis=1).sort_values(by=['date','group'])"
   ]
  },
  {
   "cell_type": "code",
   "execution_count": 19,
   "metadata": {},
   "outputs": [
    {
     "name": "stdout",
     "output_type": "stream",
     "text": [
      "        date group  orders  buyers  revenue  visitors\n",
      "0 2019-08-01     A      23      19   2266.6       719\n",
      "1 2019-08-01     B      17      17    967.2       713\n",
      "2 2019-08-02     A      42      36   3734.9      1338\n",
      "3 2019-08-02     B      40      39   3535.3      1294\n",
      "4 2019-08-03     A      66      60   5550.1      1845\n"
     ]
    }
   ],
   "source": [
    "cumulativeData = ordersAggregated.merge(visitorsAggregated, left_on=['date', 'group'], right_on=['date', 'group'])\n",
    "cumulativeData.columns = ['date', 'group', 'orders', 'buyers', 'revenue', 'visitors']\n",
    "print(cumulativeData.head(5))"
   ]
  },
  {
   "cell_type": "markdown",
   "metadata": {},
   "source": [
    "<div class=\"alert alert-warning\" role=\"alert\">\n",
    "Reviewer's comment v. 1:\n",
    "    \n",
    "Please note that you can avoid \"<matplotlib.legend.Legend at 0x7f5bf7a329d0>\" by using \";\" after code lines with graph.\n",
    "</div>"
   ]
  },
  {
   "cell_type": "code",
   "execution_count": 20,
   "metadata": {},
   "outputs": [],
   "source": [
    "# Time to plot:\n",
    "\n",
    "# DataFrame with cumulative orders and cumulative revenue by day, group A\n",
    "cumulativeRevenueA = cumulativeData[cumulativeData['group']=='A'][['date','revenue', 'orders']]\n",
    "\n",
    "# DataFrame with cumulative orders and cumulative revenue by day, group B\n",
    "cumulativeRevenueB = cumulativeData[cumulativeData['group']=='B'][['date','revenue', 'orders']]"
   ]
  },
  {
   "cell_type": "code",
   "execution_count": 21,
   "metadata": {},
   "outputs": [
    {
     "data": {
      "image/png": "[encoded data removed]",
      "text/plain": [
       "<Figure size 1080x432 with 1 Axes>"
      ]
     },
     "metadata": {
      "needs_background": "light"
     },
     "output_type": "display_data"
    }
   ],
   "source": [
    "fig, ax = plt.subplots()\n",
    "\n",
    "ax.set_title('Daily cumulative revenue for each group', size=15)\n",
    "ax.set_xlabel(\"Date\", labelpad=20, weight='bold', size=12)\n",
    "plt.xticks(rotation=45)\n",
    "ax.set_ylabel(\"Conversion\", labelpad=20, size=12)\n",
    "\n",
    "# xticks per day\n",
    "ax.xaxis.set_major_locator(mdates.DayLocator(interval=1))\n",
    "ax.xaxis.set_major_formatter(mdates.DateFormatter('%Y-%m-%d'))\n",
    "fig.autofmt_xdate()\n",
    "\n",
    "# plotting\n",
    "plt.plot(cumulativeRevenueA['date'], cumulativeRevenueA['revenue'], label='A')\n",
    "plt.plot(cumulativeRevenueB['date'],  cumulativeRevenueB['revenue'], label='B')\n",
    "plt.grid()\n",
    "plt.legend()\n",
    "plt.plot();"
   ]
  },
  {
   "cell_type": "markdown",
   "metadata": {},
   "source": [
    "<div class=\"alert alert-danger\" role=\"alert\">\n",
    "Reviewer's comment v. 1:\n",
    "    \n",
    "Could you please add the axis labels and the title to the graph?\n",
    "This applies to all other graphs too.\n",
    "</div>"
   ]
  },
  {
   "cell_type": "markdown",
   "metadata": {},
   "source": [
    "<div class=\"alert alert-success\" role=\"alert\">\n",
    "Reviewer's comment v. 2:\n",
    "    \n",
    "Great, now graph looks better :)\n",
    "</div>"
   ]
  },
  {
   "cell_type": "markdown",
   "metadata": {},
   "source": [
    "We can see that group B cumelative revenue is heigher and take a big difference around 2019-08-17\n",
    "\n",
    "--------------------------\n",
    "**Graphing cumulative average order size by group.**"
   ]
  },
  {
   "cell_type": "markdown",
   "metadata": {},
   "source": [
    "<div class=\"alert alert-danger\" role=\"alert\">\n",
    "Reviewer's comment v. 1:\n",
    "    \n",
    "During 17-18 of August we have increase of cumulative revenue for group B. Could you please explain it? (What is the possible reason of it)?\n",
    "</div>"
   ]
  },
  {
   "cell_type": "code",
   "execution_count": 22,
   "metadata": {},
   "outputs": [
    {
     "data": {
      "image/png": "[encoded data removed]",
      "text/plain": [
       "<Figure size 1080x432 with 1 Axes>"
      ]
     },
     "metadata": {
      "needs_background": "light"
     },
     "output_type": "display_data"
    }
   ],
   "source": [
    "fig, ax = plt.subplots()\n",
    "\n",
    "ax.set_title('Daily cumulative average purchase size', weight='bold', size=15)\n",
    "ax.set_xlabel(\"date\", labelpad=20, size=12)\n",
    "plt.xticks(rotation=45)\n",
    "ax.set_ylabel(\"average purchase size\", labelpad=20, size=12)\n",
    "\n",
    "# xticks per day\n",
    "ax.xaxis.set_major_locator(mdates.DayLocator(interval=1))\n",
    "ax.xaxis.set_major_formatter(mdates.DateFormatter('%Y-%m-%d'))\n",
    "fig.autofmt_xdate()\n",
    "\n",
    "# plotting\n",
    "plt.plot(cumulativeRevenueA['date'], cumulativeRevenueA['revenue']/cumulativeRevenueA['orders'], label='A')\n",
    "plt.plot(cumulativeRevenueB['date'], cumulativeRevenueB['revenue']/cumulativeRevenueB['orders'], label='B')\n",
    "plt.grid()\n",
    "plt.legend()\n",
    "plt.plot();"
   ]
  },
  {
   "cell_type": "markdown",
   "metadata": {},
   "source": [
    "Average cumelative revenue by order size shows again that group B has heigher revenue again in the same date(2019-08-17) we see a spike in revenue, this migh indicate an outlier.\n",
    "Other possibilities, a shopping day(though I couldn't find anything by goggeling on this date)<br>\n",
    "Or maybe a new service that launched on the website\n",
    "\n",
    "------------------------\n",
    "**Graph the relative difference in cumulative average order size for group B compared with group A.**"
   ]
  },
  {
   "cell_type": "markdown",
   "metadata": {},
   "source": [
    "<div class=\"alert alert-success\" role=\"alert\">\n",
    "Reviewer's comment v. 2:\n",
    "    \n",
    "Yes, the spike can be due to large orders.\n",
    "</div>"
   ]
  },
  {
   "cell_type": "markdown",
   "metadata": {},
   "source": [
    "<div class=\"alert alert-success\" role=\"alert\">\n",
    "Reviewer's comment v. 1:\n",
    "    \n",
    "Yes, you correctly noted that we have an outliers.\n",
    "</div>"
   ]
  },
  {
   "cell_type": "code",
   "execution_count": 23,
   "metadata": {},
   "outputs": [],
   "source": [
    "mergedCumulativeRevenue = cumulativeRevenueA.merge(cumulativeRevenueB, left_on='date', right_on='date', how='left', suffixes=['A', 'B'])"
   ]
  },
  {
   "cell_type": "code",
   "execution_count": 24,
   "metadata": {},
   "outputs": [
    {
     "data": {
      "image/png": "[encoded data removed]",
      "text/plain": [
       "<Figure size 1080x576 with 1 Axes>"
      ]
     },
     "metadata": {
      "needs_background": "light"
     },
     "output_type": "display_data"
    }
   ],
   "source": [
    "fig, ax = plt.subplots(figsize=(15,8))\n",
    "sns.lineplot(data=mergedCumulativeRevenue, x='date', \n",
    "             y=(mergedCumulativeRevenue['revenueB']/mergedCumulativeRevenue['ordersB'])/(mergedCumulativeRevenue['revenueA']/mergedCumulativeRevenue['ordersA'])-1)\n",
    "\n",
    "# Add labels platforms that used to be popular but now have zero sales\n",
    "ax.set_title('Relative difference between the cumulative average purchase size of group B', fontdict={'size':15})\n",
    "ax.set_ylabel('difference')\n",
    "ax.set_xlabel('date')\n",
    "\n",
    "# xticks per day\n",
    "ax.xaxis.set_major_locator(mdates.DayLocator(interval=1))\n",
    "ax.xaxis.set_major_formatter(mdates.DateFormatter('%Y-%m-%d'))\n",
    "fig.autofmt_xdate()\n",
    "\n",
    "# adding the X axis\n",
    "plt.axhline(y=0, color='black', linestyle='--') \n",
    "\n",
    "plt.show()"
   ]
  },
  {
   "cell_type": "markdown",
   "metadata": {},
   "source": [
    "This only strengthes our conclusion that group B has better revenue even when compared to the number of orders.\n",
    "\n",
    "------------------\n",
    "Calculate each group's conversion rate as the ratio of orders to the number of visits for each day. Plot the daily conversion rates of the two groups and describe the difference. "
   ]
  },
  {
   "cell_type": "markdown",
   "metadata": {},
   "source": [
    "<div class=\"alert alert-success\" role=\"alert\">\n",
    "Reviewer's comment v. 1:\n",
    "    \n",
    "Ok :)\n",
    "</div>"
   ]
  },
  {
   "cell_type": "code",
   "execution_count": 25,
   "metadata": {},
   "outputs": [],
   "source": [
    "cumulativeData['conversion'] = (\n",
    "    cumulativeData['orders'] / cumulativeData['visitors']\n",
    ")\n",
    "\n",
    "cumulativeDataA = cumulativeData[cumulativeData['group'] == 'A']\n",
    "cumulativeDataB = cumulativeData[cumulativeData['group'] == 'B']"
   ]
  },
  {
   "cell_type": "code",
   "execution_count": 26,
   "metadata": {},
   "outputs": [
    {
     "data": {
      "image/png": "[encoded data removed]",
      "text/plain": [
       "<Figure size 1008x504 with 1 Axes>"
      ]
     },
     "metadata": {
      "needs_background": "light"
     },
     "output_type": "display_data"
    }
   ],
   "source": [
    "fig, ax = plt.subplots()\n",
    "fig.set_size_inches(14,7)\n",
    "\n",
    "ax.set_title(\"Daily % conversion by group\", size=15)\n",
    "ax.set_xlabel(\"Date\", labelpad=20, size=12)\n",
    "ax.set_ylabel(\"Conversion\", labelpad=20, size=12)\n",
    "\n",
    "# xticks per day\n",
    "ax.xaxis.set_major_locator(mdates.DayLocator(interval=1))\n",
    "ax.xaxis.set_major_formatter(mdates.DateFormatter('%Y-%m-%d'))\n",
    "fig.autofmt_xdate()\n",
    "\n",
    "# plotting\n",
    "plt.plot(cumulativeDataA['date'], cumulativeDataA['conversion'], label='A')\n",
    "plt.plot(cumulativeDataB['date'], cumulativeDataB['conversion'], label='B')\n",
    "plt.grid()\n",
    "plt.legend()\n",
    "plt.xticks(rotation=45)\n",
    "\n",
    "plt.plot();"
   ]
  },
  {
   "cell_type": "markdown",
   "metadata": {},
   "source": [
    "Group B was the leader in conversion almost from the very beginning. It gained steadily and stabilized (0.034-0.03 = 0.004) ~13% higher than group A.\n",
    "\n",
    "-------------------------------\n",
    "**Plot a scatter chart of the number of orders per user. Make conclusions and conjectures.**"
   ]
  },
  {
   "cell_type": "markdown",
   "metadata": {},
   "source": [
    "<div class=\"alert alert-success\" role=\"alert\">\n",
    "Reviewer's comment v. 1:\n",
    "    \n",
    "Yes, the conversion rate is stabilized by the end of the test and group B is a leader.\n",
    "</div>"
   ]
  },
  {
   "cell_type": "code",
   "execution_count": 27,
   "metadata": {},
   "outputs": [
    {
     "name": "stdout",
     "output_type": "stream",
     "text": [
      "         userId  orders\n",
      "908  3967698036       3\n",
      "55    249864742       3\n",
      "478  2108163459       3\n",
      "687  2988190573       3\n",
      "890  3908431265       3\n",
      "138   611059232       3\n",
      "632  2742574263       3\n",
      "157   678354126       2\n",
      "323  1404560065       2\n",
      "452  1985475298       2\n"
     ]
    },
    {
     "data": {
      "image/png": "[encoded data removed]",
      "text/plain": [
       "<Figure size 1080x432 with 1 Axes>"
      ]
     },
     "metadata": {
      "needs_background": "light"
     },
     "output_type": "display_data"
    }
   ],
   "source": [
    "ordersByUsers = (\n",
    "    orders_df.drop(['group', 'revenue', 'date'], axis=1)\n",
    "    .groupby('visitorId', as_index=False)\n",
    "    .agg({'transactionId': pd.Series.nunique})\n",
    ")\n",
    "ordersByUsers.columns = ['userId', 'orders']\n",
    "\n",
    "print(ordersByUsers.sort_values(by='orders', ascending=False).head(10))\n",
    "\n",
    "# the range of numbers from 0 to the number of observations in ordersByUsers\n",
    "\n",
    "x_values = pd.Series(range(0,len(ordersByUsers)))\n",
    "\n",
    "plt.scatter(x_values, ordersByUsers['orders']) ;"
   ]
  },
  {
   "cell_type": "markdown",
   "metadata": {},
   "source": [
    "The majority of users order 1 item, 2 orders is much less likely. the outliers order 11.\n",
    "these need to be dealt with.\n",
    "\n",
    "-----------------\n",
    "**Calculate the 95th and 99th percentiles for the number of orders per user. Define the point at which a data point becomes an anomaly.**"
   ]
  },
  {
   "cell_type": "code",
   "execution_count": 28,
   "metadata": {},
   "outputs": [
    {
     "name": "stdout",
     "output_type": "stream",
     "text": [
      "[1. 1. 2.]\n"
     ]
    }
   ],
   "source": [
    "print(np.percentile(ordersByUsers['orders'], [90, 95, 99])) "
   ]
  },
  {
   "cell_type": "markdown",
   "metadata": {},
   "source": [
    "<div class=\"alert alert-success\" role=\"alert\">\n",
    "Reviewer's comment v. 1:\n",
    "    \n",
    "Excellent, the 90th, 95th and 99th percentiles of the number of orders per user were calculated correctly.\n",
    "</div>"
   ]
  },
  {
   "cell_type": "markdown",
   "metadata": {},
   "source": [
    "We can now see in precintile how much do these ourliers are relevant to our data, conclusion not so much.\n",
    "We also need to see the revenue to better understand the effects. maybe a lot of order but small revenue.<br>\n",
    "**We will define having more than 2 orders as the point where data becomes an anomaly.**\n",
    "\n",
    "\n",
    "---------------\n",
    "**Plot a scatter chart of order prices**"
   ]
  },
  {
   "cell_type": "markdown",
   "metadata": {},
   "source": [
    "<div class=\"alert alert-danger\" role=\"alert\">\n",
    "Reviewer's comment v. 1:\n",
    "    \n",
    "Could you please define the point at which a data point becomes an anomaly?\n",
    "</div>\n",
    "\n",
    "<div class=\"alert alert-block alert-info\">\n",
    "Defined the point data becomes and anomaly.\n",
    "</div>"
   ]
  },
  {
   "cell_type": "markdown",
   "metadata": {},
   "source": [
    "<div class=\"alert alert-success\" role=\"alert\">\n",
    "Reviewer's comment v. 2:\n",
    "    \n",
    "Yes, 2 orders can be considered as a boundary for an anomaly point.\n",
    "</div>"
   ]
  },
  {
   "cell_type": "code",
   "execution_count": 29,
   "metadata": {},
   "outputs": [
    {
     "data": {
      "image/png": "[encoded data removed]",
      "text/plain": [
       "<Figure size 720x360 with 1 Axes>"
      ]
     },
     "metadata": {
      "needs_background": "light"
     },
     "output_type": "display_data"
    }
   ],
   "source": [
    "x_values = pd.Series(range(0,len(ordersByUsers)))\n",
    "\n",
    "fig, ax = plt.subplots()\n",
    "fig.set_size_inches(10,5)\n",
    "\n",
    "ax.set_title('Number of orders per user', size=15)\n",
    "ax.set_xlabel('Amount of users', size=12)\n",
    "ax.set_ylabel('Amount of orders', size=12)\n",
    "\n",
    "plt.scatter(x_values, ordersByUsers['orders']);"
   ]
  },
  {
   "cell_type": "markdown",
   "metadata": {},
   "source": [
    "The outliers are even more noticable, and there effects are huge. but to be sure lets see in numbers to better understand in what values we should filter.\n",
    "\n",
    "---------------\n",
    "**Calculate the 95th and 99th percentiles of order prices. Define the point at which a data point becomes an anomaly.**"
   ]
  },
  {
   "cell_type": "code",
   "execution_count": 30,
   "metadata": {},
   "outputs": [
    {
     "name": "stdout",
     "output_type": "stream",
     "text": [
      "[280.8   414.275 830.3  ]\n"
     ]
    }
   ],
   "source": [
    "print(np.percentile(orders_df['revenue'], [90, 95, 99])) "
   ]
  },
  {
   "cell_type": "markdown",
   "metadata": {},
   "source": [
    "Between 90 and 95 we can see a big jump, 435-282 = 153. <br>\n",
    "153/ 282 = 0.54 the difference is more than 50%.<br>\n",
    "**The point where data become an anomaly are values larger than 435.54** \n",
    "\n",
    "\n",
    "--------------\n",
    "**Finding the statistical significance of the difference in conversion between the groups using the raw data.**\n",
    "\n",
    "We'll examine the statistical difference in conversion rate between the groups in the raw data.<br>\n",
    "H0 (our null hypothesis) is that there is no difference in conversion rate between the groups.<br>\n",
    "H1 (our alternative hypothesis) is that there is a difference in conversion between the two groups."
   ]
  },
  {
   "cell_type": "markdown",
   "metadata": {},
   "source": [
    "<div class=\"alert alert-danger\" role=\"alert\">\n",
    "Reviewer's comment v. 1:\n",
    "    \n",
    "Yes, correct values of percentiles of order prices. Please define the point at which a data point becomes an anomaly.\n",
    "</div>\n",
    "\n",
    "<div class=\"alert alert-block alert-info\">\n",
    "Defined the point data becomes an anomaly in revenue\n",
    "</div>"
   ]
  },
  {
   "cell_type": "markdown",
   "metadata": {},
   "source": [
    "<div class=\"alert alert-success\" role=\"alert\">\n",
    "Reviewer's comment v. 2:\n",
    "    \n",
    "You are right, this value can be considered as a boundary for an anomalies.\n",
    "</div>"
   ]
  },
  {
   "cell_type": "markdown",
   "metadata": {},
   "source": [
    "<div class=\"alert alert-danger\" role=\"alert\">\n",
    "Reviewer's comment v. 1:\n",
    "    \n",
    "Please formulate the null and alternative hypotheses explicitly.\n",
    "</div>\n",
    "<div class=\"alert alert-block alert-info\">\n",
    "Added the H0 and Null hyptohesis\n",
    "</div>"
   ]
  },
  {
   "cell_type": "markdown",
   "metadata": {},
   "source": [
    "<div class=\"alert alert-success\" role=\"alert\">\n",
    "Reviewer's comment v. 2:\n",
    "    \n",
    "Hypotheses formulation is correct :)\n",
    "</div>"
   ]
  },
  {
   "cell_type": "code",
   "execution_count": 31,
   "metadata": {},
   "outputs": [
    {
     "name": "stdout",
     "output_type": "stream",
     "text": [
      "0.00551\n",
      "0.160\n"
     ]
    }
   ],
   "source": [
    "ordersByUsersA = orders_df[orders_df['group']=='A'].groupby('visitorId', as_index=False).agg({'transactionId' : pd.Series.nunique})\n",
    "ordersByUsersA.columns = ['visitorId', 'orders']\n",
    "\n",
    "ordersByUsersB = orders_df[orders_df['group']=='B'].groupby('visitorId', as_index=False).agg({'transactionId' : pd.Series.nunique})\n",
    "ordersByUsersB.columns = ['visitorId', 'orders']\n",
    "\n",
    "sampleA = pd.concat([ordersByUsersA['orders'],pd.Series(0, index=np.arange(visits_df[visits_df['group']=='A']['visits'].sum() - len(ordersByUsersA['orders'])), name='orders')],axis=0)\n",
    "\n",
    "sampleB = pd.concat([ordersByUsersB['orders'],pd.Series(0, index=np.arange(visits_df[visits_df['group']=='B']['visits'].sum() - len(ordersByUsersB['orders'])), name='orders')],axis=0)\n",
    "\n",
    "print(\"{0:.5f}\".format(stats.mannwhitneyu(sampleA, sampleB)[1]))\n",
    "\n",
    "print(\"{0:.3f}\".format(sampleB.mean()/sampleA.mean()-1))"
   ]
  },
  {
   "cell_type": "markdown",
   "metadata": {},
   "source": [
    "<div class=\"alert alert-warning\" role=\"alert\">\n",
    "Reviewer's comment v. 2:\n",
    "    \n",
    "Could you please formulate a conclusion for this statistical test? I mean to formulate it in more detail \"reject the null hypothesis\" (just add information about conversion rate).\n",
    "</div>"
   ]
  },
  {
   "cell_type": "markdown",
   "metadata": {},
   "source": [
    "The p-value is less than 0.05 so we have to reject the null hypothesis <br>\n",
    "The ratio of mean is 16%\n",
    "\n",
    "------\n",
    "\n",
    "\n",
    "We found that the 95 precntile of users who orded have 2 orders <br>\n",
    "And that the 95 precntile of revenue from orders is 435.54.\n",
    "\n",
    "**Find the statistical significance of the difference in average order size between the groups using the raw data.**<br>\n",
    "H0 (our null hypothesis) is that there is no difference in average order size between the groups.<br>\n",
    "H1 (our alternative hypothesis) is that there is a difference in average order size between the two groups."
   ]
  },
  {
   "cell_type": "markdown",
   "metadata": {},
   "source": [
    "<div class=\"alert alert-danger\" role=\"alert\">\n",
    "Reviewer's comment v. 2:\n",
    "    \n",
    "Could you please add hypotheses formulation? Please note that this comment applies to all other statistical tests too.\n",
    "</div>"
   ]
  },
  {
   "cell_type": "markdown",
   "metadata": {},
   "source": [
    "<div class=\"alert alert-success\" role=\"alert\">\n",
    "Reviewer's comment v. 3:\n",
    "    \n",
    "👍👍👍\n",
    "</div>"
   ]
  },
  {
   "cell_type": "code",
   "execution_count": 32,
   "metadata": {},
   "outputs": [
    {
     "name": "stdout",
     "output_type": "stream",
     "text": [
      "0.431\n",
      "0.278\n"
     ]
    }
   ],
   "source": [
    "print('{0:.3f}'.format(stats.mannwhitneyu(orders_df[orders_df['group']=='A']['revenue'], orders_df[orders_df['group']=='B']['revenue'])[1]))\n",
    "print('{0:.3f}'.format(orders_df[orders_df['group']=='B']['revenue'].mean()/orders_df[orders_df['group']=='A']['revenue'].mean()-1))"
   ]
  },
  {
   "cell_type": "markdown",
   "metadata": {},
   "source": [
    "The p-value is greater than 0.05, so there's no reason to reject the null hypothesis.<br>\n",
    "The relative difference is 25.2%.  \n",
    "\n",
    "---------------\n",
    "**Find the statistical significance of the difference in average order size between the groups using the filtered data.**\n",
    "\n",
    "first lets filter."
   ]
  },
  {
   "cell_type": "markdown",
   "metadata": {},
   "source": [
    "<div class=\"alert alert-danger\" role=\"alert\">\n",
    "Reviewer's comment v. 1:\n",
    "    \n",
    "Please fix the error below (code doesn't run).\n",
    "</div>\n",
    "\n",
    "<div class=\"alert alert-block alert-info\">\n",
    "Sorry for that, fixed now.\n",
    "</div>"
   ]
  },
  {
   "cell_type": "markdown",
   "metadata": {},
   "source": [
    "<div class=\"alert alert-success\" role=\"alert\">\n",
    "Reviewer's comment v. 2:\n",
    "    \n",
    "Great, now it works :)\n",
    "</div>"
   ]
  },
  {
   "cell_type": "code",
   "execution_count": 33,
   "metadata": {},
   "outputs": [],
   "source": [
    "usersWithManyOrders = pd.concat(\n",
    "    [\n",
    "        ordersByUsersA[ordersByUsersA['orders'] > 2]['visitorId'],\n",
    "        ordersByUsersB[ordersByUsersB['orders'] > 2]['visitorId'],\n",
    "    ],\n",
    "    axis=0,\n",
    ")\n",
    "\n",
    "usersWithExpensiveOrders = orders_df[orders_df['revenue'] > 435.54]['visitorId']"
   ]
  },
  {
   "cell_type": "markdown",
   "metadata": {},
   "source": [
    "<div class=\"alert alert-danger\" role=\"alert\">\n",
    "Reviewer's comment v. 3:\n",
    "    \n",
    "Could you please add hypotheses formulation?\n",
    "</div>"
   ]
  },
  {
   "cell_type": "markdown",
   "metadata": {},
   "source": [
    "<div class=\"alert alert-warning\" role=\"alert\">\n",
    "Reviewer's comment v. 4:\n",
    "    \n",
    "I recommend to add hypotheses formulation for each of the statistical test (even if it's the same).\n",
    "</div>"
   ]
  },
  {
   "cell_type": "code",
   "execution_count": 34,
   "metadata": {},
   "outputs": [
    {
     "name": "stdout",
     "output_type": "stream",
     "text": [
      "0.00473\n",
      "0.189\n"
     ]
    }
   ],
   "source": [
    "abnormalUsers = pd.concat([usersWithManyOrders, usersWithExpensiveOrders], axis = 0).drop_duplicates().sort_values()\n",
    "\n",
    "sampleAFiltered = pd.concat([ordersByUsersA[np.logical_not(ordersByUsersA['visitorId'].isin(abnormalUsers))]['orders'],pd.Series(0, index=np.arange(visits_df[visits_df['group']=='A']['visits'].sum() - len(ordersByUsersA['orders'])),name='orders')],axis=0)\n",
    "\n",
    "sampleBFiltered = pd.concat([ordersByUsersB[np.logical_not(ordersByUsersB['visitorId'].isin(abnormalUsers))]['orders'],pd.Series(0, index=np.arange(visits_df[visits_df['group']=='B']['visits'].sum() - len(ordersByUsersB['orders'])),name='orders')],axis=0)\n",
    "\n",
    "usersWithExpensiveOrders = orders_df[orders_df['revenue'] > 10000]['visitorId']\n",
    "abnormalUsers = (\n",
    "    pd.concat([usersWithManyOrders, usersWithExpensiveOrders], axis=0)\n",
    "    .drop_duplicates()\n",
    "    .sort_values()\n",
    ")\n",
    "\n",
    "print(\"{0:.5f}\".format(stats.mannwhitneyu(sampleAFiltered, sampleBFiltered)[1]))\n",
    "print(\"{0:.3f}\".format(sampleBFiltered.mean()/sampleAFiltered.mean()-1))\n",
    "\n"
   ]
  },
  {
   "cell_type": "markdown",
   "metadata": {},
   "source": [
    "\n",
    "\n",
    "----------------------------\n",
    "Find the statistical significance of the difference in average order size between the groups using the filtered data."
   ]
  },
  {
   "cell_type": "markdown",
   "metadata": {},
   "source": [
    "<div class=\"alert alert-danger\" role=\"alert\">\n",
    "Reviewer's comment v. 3:\n",
    "    \n",
    "Could you please formulate the null and alternative hypotheses for all statistical tests?\n",
    "</div>"
   ]
  },
  {
   "cell_type": "markdown",
   "metadata": {},
   "source": [
    "<div class=\"alert alert-warning\" role=\"alert\">\n",
    "Reviewer's comment v. 4:\n",
    "    \n",
    "It will be better to formulate hypotheses for each of the statistical test.\n",
    "</div>"
   ]
  },
  {
   "cell_type": "code",
   "execution_count": 35,
   "metadata": {},
   "outputs": [
    {
     "name": "stdout",
     "output_type": "stream",
     "text": [
      "0.355\n",
      "-0.042\n"
     ]
    }
   ],
   "source": [
    "print('{0:.3f}'.format(stats.mannwhitneyu(\n",
    "    orders_df[np.logical_and(\n",
    "        orders_df['group']=='A',\n",
    "        np.logical_not(orders_df['visitorId'].isin(abnormalUsers)))]['revenue'],\n",
    "    orders_df[np.logical_and(\n",
    "        orders_df['group']=='B',\n",
    "        np.logical_not(orders_df['visitorId'].isin(abnormalUsers)))]['revenue'])[1]))\n",
    "\n",
    "print('{0:.3f}'.format(\n",
    "    orders_df[np.logical_and(orders_df['group']=='B',np.logical_not(orders_df['visitorId'].isin(abnormalUsers)))]['revenue'].mean()/\n",
    "    orders_df[np.logical_and(\n",
    "        orders_df['group']=='A',\n",
    "        np.logical_not(orders_df['visitorId'].isin(abnormalUsers)))]['revenue'].mean() - 1))"
   ]
  },
  {
   "cell_type": "markdown",
   "metadata": {},
   "source": [
    "The p-value is greater than 0.05, so there are no statistically significant differences between the groups' average order sizes.there's no reason to reject the null hypothesis.\n",
    "\n",
    "The difference has decreased dramaticly to 4.2%."
   ]
  },
  {
   "cell_type": "markdown",
   "metadata": {},
   "source": [
    "**Make a decision based on the test results.**\n",
    "\n",
    "* We saw when the data was raw that B was leading by 0.346 in conversion and avg revenue.\n",
    "* After filtering we saw that still group B was leading by 0.335 in conversion and avg revenue.\n",
    "\n",
    "We should stop the test and consider B the leading group.\n",
    "\n",
    "* we have prepared the data:\n",
    "    * change types for date\n",
    "    * found 58 users were both in A and B groups, we removed them.\n",
    "    * values to lower case in columns\n",
    "* There was an anomly on 2019-08-17, we couldn't find a reason bu possible: shopping day, a new service was launched.\n",
    "* The raw data revealed a statistically significant difference in conversion between the groups, as group B had 16% higher conversion.\n",
    "* The filtered data revealed a statistically significant difference in conversion between the groups, as group B had 18% higher conversion.\n",
    "* The raw data showed Group B had 27% lead over group A in terms of average order size.\n",
    "* The filtered data showed Group B's average order size is almost the same (-0.042) as group A's\n",
    "* Neither raw or filtered data revealed any statistically significant diffeences in average order size between the groups.\n",
    "\n",
    "**We conclude that we should stop the test and consider group B as the leading group in terms of conversion (+18%), as this is a crucial metric for our goal - boosting the revenue and this gap of 18% is a big enough increase in conversion to call group B the most succesful group**"
   ]
  },
  {
   "cell_type": "markdown",
   "metadata": {},
   "source": [
    "<div class=\"alert alert-block alert-info\">\n",
    "Thank you for your time an patience :)\n",
    "</div>"
   ]
  },
  {
   "cell_type": "markdown",
   "metadata": {},
   "source": [
    "<div class=\"alert alert-danger\" role=\"alert\">\n",
    "Reviewer's comment v. 2:\n",
    "    \n",
    "Could you please describe all main results of the project (data preparation, anomalies, main findings and so on)?\n",
    "    \n",
    "The conclusion is intended to help the reader understand why your research should matter to them after they have finished reading the paper. A conclusion is not merely a summary of your points or a re-statement of your research problem but a synthesis of key points. </div>"
   ]
  },
  {
   "cell_type": "markdown",
   "metadata": {},
   "source": [
    "<div class=\"alert alert-danger\" role=\"alert\">\n",
    "Reviewer's comment v. 3:\n",
    "    \n",
    "Please describe all main results of the project (data preparation, anomalies, main findings and so on) shortly. \n",
    "</div>"
   ]
  },
  {
   "cell_type": "markdown",
   "metadata": {},
   "source": [
    "<div class=\"alert alert-block alert-info\">\n",
    "I have added data preperation and anomalies.\n",
    "Not sure about \n",
    "</div>"
   ]
  },
  {
   "cell_type": "markdown",
   "metadata": {},
   "source": [
    "<div class=\"alert alert-success\" role=\"alert\">\n",
    "Reviewer's comment v. 4:\n",
    "    \n",
    "An excellent conclusion :) Yes, you are right, we can make a decision that group B is a leader.\n",
    "</div>"
   ]
  },
  {
   "cell_type": "code",
   "execution_count": null,
   "metadata": {},
   "outputs": [],
   "source": []
  }
 ],
 "metadata": {
  "ExecuteTimeLog": [
   {
    "duration": 6,
    "start_time": "2021-08-12T20:33:19.609Z"
   },
   {
    "duration": 12570,
    "start_time": "2021-08-12T20:34:53.210Z"
   },
   {
    "duration": 8209,
    "start_time": "2021-08-12T20:35:05.782Z"
   },
   {
    "duration": 3249,
    "start_time": "2021-08-12T20:35:13.993Z"
   },
   {
    "duration": 1225,
    "start_time": "2021-08-12T20:37:56.636Z"
   },
   {
    "duration": 625,
    "start_time": "2021-08-12T20:37:59.714Z"
   },
   {
    "duration": 85,
    "start_time": "2021-08-12T20:38:03.619Z"
   },
   {
    "duration": 236,
    "start_time": "2021-08-12T20:38:09.082Z"
   },
   {
    "duration": 340,
    "start_time": "2021-08-12T20:39:49.561Z"
   },
   {
    "duration": 6,
    "start_time": "2021-08-12T20:40:06.152Z"
   },
   {
    "duration": 4,
    "start_time": "2021-08-12T20:40:44.764Z"
   },
   {
    "duration": 621,
    "start_time": "2021-08-12T20:41:06.152Z"
   },
   {
    "duration": 78,
    "start_time": "2021-08-12T20:41:08.421Z"
   },
   {
    "duration": 243,
    "start_time": "2021-08-12T20:41:37.452Z"
   },
   {
    "duration": 141,
    "start_time": "2021-08-12T20:43:19.966Z"
   },
   {
    "duration": 36,
    "start_time": "2021-08-12T20:43:22.317Z"
   },
   {
    "duration": 239,
    "start_time": "2021-08-12T22:40:11.401Z"
   },
   {
    "duration": 4,
    "start_time": "2021-08-12T22:40:13.402Z"
   },
   {
    "duration": 255,
    "start_time": "2021-08-12T22:40:18.507Z"
   },
   {
    "duration": 5,
    "start_time": "2021-08-12T22:40:23.837Z"
   },
   {
    "duration": 3,
    "start_time": "2021-08-12T22:40:39.882Z"
   },
   {
    "duration": 4,
    "start_time": "2021-08-12T22:40:41.374Z"
   },
   {
    "duration": 3,
    "start_time": "2021-08-12T22:43:47.018Z"
   },
   {
    "duration": 4,
    "start_time": "2021-08-12T22:43:48.057Z"
   },
   {
    "duration": 280,
    "start_time": "2021-08-12T22:44:27.198Z"
   },
   {
    "duration": 10,
    "start_time": "2021-08-12T22:48:35.406Z"
   },
   {
    "duration": 17,
    "start_time": "2021-08-12T22:49:04.156Z"
   },
   {
    "duration": 454,
    "start_time": "2021-08-14T12:14:10.058Z"
   },
   {
    "duration": 19940,
    "start_time": "2021-08-14T12:14:14.899Z"
   },
   {
    "duration": 10421,
    "start_time": "2021-08-14T12:14:34.842Z"
   },
   {
    "duration": 4002,
    "start_time": "2021-08-14T12:14:45.266Z"
   },
   {
    "duration": 1712,
    "start_time": "2021-08-14T12:14:49.270Z"
   },
   {
    "duration": 174,
    "start_time": "2021-08-14T12:14:50.985Z"
   },
   {
    "duration": 63,
    "start_time": "2021-08-14T12:14:51.162Z"
   },
   {
    "duration": 70,
    "start_time": "2021-08-14T12:14:51.228Z"
   },
   {
    "duration": 28,
    "start_time": "2021-08-14T12:14:51.302Z"
   },
   {
    "duration": 50,
    "start_time": "2021-08-14T12:14:51.334Z"
   },
   {
    "duration": 12,
    "start_time": "2021-08-14T12:15:46.491Z"
   },
   {
    "duration": 14,
    "start_time": "2021-08-14T12:16:40.946Z"
   },
   {
    "duration": 18,
    "start_time": "2021-08-14T12:19:03.911Z"
   },
   {
    "duration": 20857,
    "start_time": "2021-08-16T00:01:36.848Z"
   },
   {
    "duration": 10818,
    "start_time": "2021-08-16T00:01:57.708Z"
   },
   {
    "duration": 4004,
    "start_time": "2021-08-16T00:02:08.529Z"
   },
   {
    "duration": 1844,
    "start_time": "2021-08-16T00:02:12.536Z"
   },
   {
    "duration": 173,
    "start_time": "2021-08-16T00:02:14.383Z"
   },
   {
    "duration": 60,
    "start_time": "2021-08-16T00:02:14.559Z"
   },
   {
    "duration": 56,
    "start_time": "2021-08-16T00:02:14.621Z"
   },
   {
    "duration": 28,
    "start_time": "2021-08-16T00:02:14.680Z"
   },
   {
    "duration": 9,
    "start_time": "2021-08-16T00:02:14.711Z"
   },
   {
    "duration": 57,
    "start_time": "2021-08-16T00:02:14.723Z"
   },
   {
    "duration": 20,
    "start_time": "2021-08-16T00:02:14.783Z"
   },
   {
    "duration": 569,
    "start_time": "2021-08-16T00:02:23.503Z"
   },
   {
    "duration": 457,
    "start_time": "2021-08-16T00:02:32.110Z"
   },
   {
    "duration": 257,
    "start_time": "2021-08-16T00:02:46.323Z"
   },
   {
    "duration": 258,
    "start_time": "2021-08-16T00:07:52.240Z"
   },
   {
    "duration": 372,
    "start_time": "2021-08-16T00:07:54.750Z"
   },
   {
    "duration": 346,
    "start_time": "2021-08-16T00:08:11.122Z"
   },
   {
    "duration": 191,
    "start_time": "2021-08-16T00:08:29.995Z"
   },
   {
    "duration": 16,
    "start_time": "2021-08-16T00:10:02.192Z"
   },
   {
    "duration": 312,
    "start_time": "2021-08-16T00:10:29.680Z"
   },
   {
    "duration": 578,
    "start_time": "2021-08-16T00:11:07.285Z"
   },
   {
    "duration": 377,
    "start_time": "2021-08-16T00:12:37.182Z"
   },
   {
    "duration": 367,
    "start_time": "2021-08-16T00:14:45.810Z"
   },
   {
    "duration": 8,
    "start_time": "2021-08-16T03:32:38.620Z"
   },
   {
    "duration": 401,
    "start_time": "2021-08-16T03:32:50.074Z"
   },
   {
    "duration": 289,
    "start_time": "2021-08-16T03:48:07.065Z"
   },
   {
    "duration": 392,
    "start_time": "2021-08-16T03:48:49.075Z"
   },
   {
    "duration": 373,
    "start_time": "2021-08-16T03:48:52.794Z"
   },
   {
    "duration": 6,
    "start_time": "2021-08-16T03:49:08.018Z"
   },
   {
    "duration": 10,
    "start_time": "2021-08-16T03:49:15.171Z"
   },
   {
    "duration": 492,
    "start_time": "2021-08-16T03:49:17.723Z"
   },
   {
    "duration": 6,
    "start_time": "2021-08-16T03:49:23.233Z"
   },
   {
    "duration": 431,
    "start_time": "2021-08-16T03:50:20.730Z"
   },
   {
    "duration": 278,
    "start_time": "2021-08-16T03:53:55.198Z"
   },
   {
    "duration": 226,
    "start_time": "2021-08-16T03:55:27.900Z"
   },
   {
    "duration": 377,
    "start_time": "2021-08-16T03:55:39.007Z"
   },
   {
    "duration": 603,
    "start_time": "2021-08-16T03:55:43.938Z"
   },
   {
    "duration": 6,
    "start_time": "2021-08-16T03:57:19.000Z"
   },
   {
    "duration": 471,
    "start_time": "2021-08-16T03:58:36.901Z"
   },
   {
    "duration": 237,
    "start_time": "2021-08-16T03:59:20.489Z"
   },
   {
    "duration": 213,
    "start_time": "2021-08-16T03:59:24.457Z"
   },
   {
    "duration": 6,
    "start_time": "2021-08-16T03:59:27.610Z"
   },
   {
    "duration": 266,
    "start_time": "2021-08-16T04:01:07.164Z"
   },
   {
    "duration": 6,
    "start_time": "2021-08-16T04:02:36.164Z"
   },
   {
    "duration": 14,
    "start_time": "2021-08-16T04:02:42.059Z"
   },
   {
    "duration": 14645,
    "start_time": "2021-08-16T09:32:37.837Z"
   },
   {
    "duration": 7075,
    "start_time": "2021-08-16T09:32:52.485Z"
   },
   {
    "duration": 2698,
    "start_time": "2021-08-16T09:32:59.562Z"
   },
   {
    "duration": 1287,
    "start_time": "2021-08-16T09:33:02.263Z"
   },
   {
    "duration": 184,
    "start_time": "2021-08-16T09:33:03.552Z"
   },
   {
    "duration": 40,
    "start_time": "2021-08-16T09:33:03.737Z"
   },
   {
    "duration": 17,
    "start_time": "2021-08-16T09:33:03.779Z"
   },
   {
    "duration": 18,
    "start_time": "2021-08-16T09:33:03.799Z"
   },
   {
    "duration": 9,
    "start_time": "2021-08-16T09:33:03.819Z"
   },
   {
    "duration": 12,
    "start_time": "2021-08-16T09:33:03.830Z"
   },
   {
    "duration": 14,
    "start_time": "2021-08-16T09:33:03.843Z"
   },
   {
    "duration": 187,
    "start_time": "2021-08-16T09:33:03.858Z"
   },
   {
    "duration": 122,
    "start_time": "2021-08-16T09:33:04.046Z"
   },
   {
    "duration": 22,
    "start_time": "2021-08-16T09:33:04.170Z"
   },
   {
    "duration": 263,
    "start_time": "2021-08-16T09:33:04.193Z"
   },
   {
    "duration": 259,
    "start_time": "2021-08-16T09:33:04.458Z"
   },
   {
    "duration": 7,
    "start_time": "2021-08-16T09:33:04.719Z"
   },
   {
    "duration": 420,
    "start_time": "2021-08-16T09:33:04.728Z"
   },
   {
    "duration": 276,
    "start_time": "2021-08-16T09:33:05.149Z"
   },
   {
    "duration": 436,
    "start_time": "2021-08-16T09:33:05.427Z"
   },
   {
    "duration": 5,
    "start_time": "2021-08-16T09:33:05.865Z"
   },
   {
    "duration": 384,
    "start_time": "2021-08-16T09:33:05.872Z"
   },
   {
    "duration": 4,
    "start_time": "2021-08-16T09:33:06.260Z"
   },
   {
    "duration": 30,
    "start_time": "2021-08-16T09:33:06.266Z"
   },
   {
    "duration": 315,
    "start_time": "2021-08-16T09:34:58.611Z"
   },
   {
    "duration": 209,
    "start_time": "2021-08-16T09:35:02.490Z"
   },
   {
    "duration": 259,
    "start_time": "2021-08-16T09:36:22.575Z"
   },
   {
    "duration": 3330,
    "start_time": "2021-08-16T09:37:02.620Z"
   },
   {
    "duration": 246,
    "start_time": "2021-08-16T09:37:26.081Z"
   },
   {
    "duration": 2814,
    "start_time": "2021-08-16T09:38:01.551Z"
   },
   {
    "duration": 58,
    "start_time": "2021-08-16T09:38:16.305Z"
   },
   {
    "duration": 242,
    "start_time": "2021-08-16T09:39:14.196Z"
   },
   {
    "duration": 2479,
    "start_time": "2021-08-16T09:40:09.286Z"
   },
   {
    "duration": 274,
    "start_time": "2021-08-16T09:40:41.932Z"
   },
   {
    "duration": 4267,
    "start_time": "2021-08-16T09:40:56.425Z"
   },
   {
    "duration": 77,
    "start_time": "2021-08-16T09:41:20.104Z"
   },
   {
    "duration": 259,
    "start_time": "2021-08-16T09:43:24.794Z"
   },
   {
    "duration": 283,
    "start_time": "2021-08-16T09:43:35.459Z"
   },
   {
    "duration": 71,
    "start_time": "2021-08-16T09:43:46.335Z"
   },
   {
    "duration": 70,
    "start_time": "2021-08-16T09:45:43.013Z"
   },
   {
    "duration": 74,
    "start_time": "2021-08-16T09:46:23.220Z"
   },
   {
    "duration": 73,
    "start_time": "2021-08-16T09:46:37.503Z"
   },
   {
    "duration": 56,
    "start_time": "2021-08-16T09:47:58.064Z"
   },
   {
    "duration": 21,
    "start_time": "2021-08-16T09:47:59.483Z"
   },
   {
    "duration": 12,
    "start_time": "2021-08-16T09:53:22.952Z"
   },
   {
    "duration": 16,
    "start_time": "2021-08-16T09:53:31.195Z"
   },
   {
    "duration": 301,
    "start_time": "2021-08-16T19:05:16.215Z"
   },
   {
    "duration": 23666,
    "start_time": "2021-08-16T19:05:21.225Z"
   },
   {
    "duration": 13712,
    "start_time": "2021-08-16T19:05:44.894Z"
   },
   {
    "duration": 4066,
    "start_time": "2021-08-16T19:05:58.610Z"
   },
   {
    "duration": 1759,
    "start_time": "2021-08-16T19:06:02.679Z"
   },
   {
    "duration": 149,
    "start_time": "2021-08-16T19:06:04.440Z"
   },
   {
    "duration": 555,
    "start_time": "2021-08-16T19:06:04.591Z"
   },
   {
    "duration": 238,
    "start_time": "2021-08-16T19:06:05.148Z"
   },
   {
    "duration": 375,
    "start_time": "2021-08-16T19:06:05.390Z"
   },
   {
    "duration": 430,
    "start_time": "2021-08-16T19:06:05.768Z"
   },
   {
    "duration": 1098,
    "start_time": "2021-08-16T19:06:06.201Z"
   },
   {
    "duration": 1597,
    "start_time": "2021-08-16T19:06:07.303Z"
   },
   {
    "duration": 928,
    "start_time": "2021-08-16T19:06:08.903Z"
   },
   {
    "duration": 593,
    "start_time": "2021-08-16T19:06:09.833Z"
   },
   {
    "duration": 48,
    "start_time": "2021-08-16T19:06:10.428Z"
   },
   {
    "duration": 426,
    "start_time": "2021-08-16T19:06:10.478Z"
   },
   {
    "duration": 397,
    "start_time": "2021-08-16T19:06:10.906Z"
   },
   {
    "duration": 9,
    "start_time": "2021-08-16T19:06:11.305Z"
   },
   {
    "duration": 542,
    "start_time": "2021-08-16T19:06:11.316Z"
   },
   {
    "duration": 547,
    "start_time": "2021-08-16T19:06:11.869Z"
   },
   {
    "duration": 481,
    "start_time": "2021-08-16T19:19:40.867Z"
   },
   {
    "duration": 2843,
    "start_time": "2021-08-16T19:19:55.324Z"
   },
   {
    "duration": 368,
    "start_time": "2021-08-16T19:20:25.106Z"
   },
   {
    "duration": 115,
    "start_time": "2021-08-16T19:20:43.493Z"
   },
   {
    "duration": 3055,
    "start_time": "2021-08-16T19:23:09.707Z"
   },
   {
    "duration": 3247,
    "start_time": "2021-08-16T19:23:12.765Z"
   },
   {
    "duration": 3222,
    "start_time": "2021-08-16T19:23:16.015Z"
   },
   {
    "duration": 6,
    "start_time": "2021-08-16T19:23:19.240Z"
   },
   {
    "duration": 160,
    "start_time": "2021-08-16T19:23:19.248Z"
   },
   {
    "duration": 61,
    "start_time": "2021-08-16T19:23:19.411Z"
   },
   {
    "duration": 22,
    "start_time": "2021-08-16T19:23:19.474Z"
   },
   {
    "duration": 31,
    "start_time": "2021-08-16T19:23:19.501Z"
   },
   {
    "duration": 7,
    "start_time": "2021-08-16T19:23:19.569Z"
   },
   {
    "duration": 37,
    "start_time": "2021-08-16T19:23:19.578Z"
   },
   {
    "duration": 24,
    "start_time": "2021-08-16T19:23:19.617Z"
   },
   {
    "duration": 297,
    "start_time": "2021-08-16T19:23:19.644Z"
   },
   {
    "duration": 223,
    "start_time": "2021-08-16T19:23:19.944Z"
   },
   {
    "duration": 14,
    "start_time": "2021-08-16T19:23:20.170Z"
   },
   {
    "duration": 412,
    "start_time": "2021-08-16T19:23:20.186Z"
   },
   {
    "duration": 403,
    "start_time": "2021-08-16T19:23:20.600Z"
   },
   {
    "duration": 8,
    "start_time": "2021-08-16T19:23:21.006Z"
   },
   {
    "duration": 573,
    "start_time": "2021-08-16T19:23:21.017Z"
   },
   {
    "duration": 458,
    "start_time": "2021-08-16T19:23:21.592Z"
   },
   {
    "duration": 591,
    "start_time": "2021-08-16T19:23:22.053Z"
   },
   {
    "duration": 22,
    "start_time": "2021-08-16T19:23:22.646Z"
   },
   {
    "duration": 507,
    "start_time": "2021-08-16T19:23:22.670Z"
   },
   {
    "duration": 5,
    "start_time": "2021-08-16T19:23:23.180Z"
   },
   {
    "duration": 113,
    "start_time": "2021-08-16T19:32:59.497Z"
   },
   {
    "duration": 161,
    "start_time": "2021-08-16T20:26:15.596Z"
   },
   {
    "duration": 26,
    "start_time": "2021-08-16T20:26:18.309Z"
   },
   {
    "duration": 13,
    "start_time": "2021-08-16T20:35:34.840Z"
   },
   {
    "duration": 8,
    "start_time": "2021-08-16T21:04:31.091Z"
   },
   {
    "duration": 24,
    "start_time": "2021-08-16T21:04:32.003Z"
   },
   {
    "duration": 7,
    "start_time": "2021-08-16T21:05:15.244Z"
   },
   {
    "duration": 23,
    "start_time": "2021-08-16T21:05:16.418Z"
   },
   {
    "duration": 6,
    "start_time": "2021-08-16T21:05:33.410Z"
   },
   {
    "duration": 380,
    "start_time": "2021-08-16T21:08:37.668Z"
   },
   {
    "duration": 120,
    "start_time": "2021-08-16T21:08:48.636Z"
   },
   {
    "duration": 25678,
    "start_time": "2021-08-17T10:03:42.219Z"
   },
   {
    "duration": 4679,
    "start_time": "2021-08-17T10:04:07.900Z"
   },
   {
    "duration": 4059,
    "start_time": "2021-08-17T10:04:12.583Z"
   },
   {
    "duration": 1688,
    "start_time": "2021-08-17T10:04:16.645Z"
   },
   {
    "duration": 154,
    "start_time": "2021-08-17T10:04:18.335Z"
   },
   {
    "duration": 60,
    "start_time": "2021-08-17T10:04:18.491Z"
   },
   {
    "duration": 23,
    "start_time": "2021-08-17T10:04:18.553Z"
   },
   {
    "duration": 28,
    "start_time": "2021-08-17T10:04:18.578Z"
   },
   {
    "duration": 6,
    "start_time": "2021-08-17T10:04:18.610Z"
   },
   {
    "duration": 16,
    "start_time": "2021-08-17T10:04:18.655Z"
   },
   {
    "duration": 18,
    "start_time": "2021-08-17T10:04:18.673Z"
   },
   {
    "duration": 287,
    "start_time": "2021-08-17T10:04:18.693Z"
   },
   {
    "duration": 217,
    "start_time": "2021-08-17T10:04:18.982Z"
   },
   {
    "duration": 14,
    "start_time": "2021-08-17T10:04:19.202Z"
   },
   {
    "duration": 431,
    "start_time": "2021-08-17T10:04:19.218Z"
   },
   {
    "duration": 367,
    "start_time": "2021-08-17T10:04:19.651Z"
   },
   {
    "duration": 9,
    "start_time": "2021-08-17T10:04:20.021Z"
   },
   {
    "duration": 401,
    "start_time": "2021-08-17T10:04:20.033Z"
   },
   {
    "duration": 535,
    "start_time": "2021-08-17T10:04:20.436Z"
   },
   {
    "duration": 424,
    "start_time": "2021-08-17T10:04:20.974Z"
   },
   {
    "duration": 5,
    "start_time": "2021-08-17T10:04:21.401Z"
   },
   {
    "duration": 427,
    "start_time": "2021-08-17T10:04:21.409Z"
   },
   {
    "duration": 6,
    "start_time": "2021-08-17T10:04:21.854Z"
   },
   {
    "duration": 134,
    "start_time": "2021-08-17T10:04:21.862Z"
   },
   {
    "duration": 13,
    "start_time": "2021-08-17T10:04:21.998Z"
   },
   {
    "duration": 3411,
    "start_time": "2021-08-17T10:04:22.014Z"
   },
   {
    "duration": 2369,
    "start_time": "2021-08-17T10:04:23.060Z"
   },
   {
    "duration": 2367,
    "start_time": "2021-08-17T10:04:23.063Z"
   },
   {
    "duration": 3335,
    "start_time": "2021-08-17T10:05:48.210Z"
   },
   {
    "duration": 3314,
    "start_time": "2021-08-17T10:05:51.548Z"
   },
   {
    "duration": 3164,
    "start_time": "2021-08-17T10:05:54.866Z"
   },
   {
    "duration": 1787,
    "start_time": "2021-08-17T10:05:58.033Z"
   },
   {
    "duration": 173,
    "start_time": "2021-08-17T10:05:59.822Z"
   },
   {
    "duration": 64,
    "start_time": "2021-08-17T10:05:59.997Z"
   },
   {
    "duration": 23,
    "start_time": "2021-08-17T10:06:00.063Z"
   },
   {
    "duration": 32,
    "start_time": "2021-08-17T10:06:00.089Z"
   },
   {
    "duration": 7,
    "start_time": "2021-08-17T10:06:00.157Z"
   },
   {
    "duration": 27,
    "start_time": "2021-08-17T10:06:00.167Z"
   },
   {
    "duration": 42,
    "start_time": "2021-08-17T10:06:00.197Z"
   },
   {
    "duration": 279,
    "start_time": "2021-08-17T10:06:00.242Z"
   },
   {
    "duration": 214,
    "start_time": "2021-08-17T10:06:00.523Z"
   },
   {
    "duration": 21,
    "start_time": "2021-08-17T10:06:00.739Z"
   },
   {
    "duration": 429,
    "start_time": "2021-08-17T10:06:00.763Z"
   },
   {
    "duration": 415,
    "start_time": "2021-08-17T10:06:01.195Z"
   },
   {
    "duration": 9,
    "start_time": "2021-08-17T10:06:01.613Z"
   },
   {
    "duration": 411,
    "start_time": "2021-08-17T10:06:01.625Z"
   },
   {
    "duration": 525,
    "start_time": "2021-08-17T10:06:02.038Z"
   },
   {
    "duration": 413,
    "start_time": "2021-08-17T10:06:02.565Z"
   },
   {
    "duration": 7,
    "start_time": "2021-08-17T10:06:02.982Z"
   },
   {
    "duration": 388,
    "start_time": "2021-08-17T10:06:02.992Z"
   },
   {
    "duration": 6,
    "start_time": "2021-08-17T10:06:03.383Z"
   },
   {
    "duration": 125,
    "start_time": "2021-08-17T10:06:03.391Z"
   },
   {
    "duration": 13,
    "start_time": "2021-08-17T10:06:03.518Z"
   },
   {
    "duration": 3441,
    "start_time": "2021-08-17T10:06:03.533Z"
   },
   {
    "duration": 2362,
    "start_time": "2021-08-17T10:06:04.615Z"
   },
   {
    "duration": 2361,
    "start_time": "2021-08-17T10:06:04.617Z"
   },
   {
    "duration": 102,
    "start_time": "2021-08-17T11:10:42.133Z"
   },
   {
    "duration": 3241,
    "start_time": "2021-08-17T11:44:47.707Z"
   },
   {
    "duration": 3205,
    "start_time": "2021-08-17T11:44:50.952Z"
   },
   {
    "duration": 3233,
    "start_time": "2021-08-17T11:44:54.161Z"
   },
   {
    "duration": 1948,
    "start_time": "2021-08-17T11:44:57.397Z"
   },
   {
    "duration": 148,
    "start_time": "2021-08-17T11:44:59.348Z"
   },
   {
    "duration": 84,
    "start_time": "2021-08-17T11:44:59.499Z"
   },
   {
    "duration": 29,
    "start_time": "2021-08-17T11:44:59.586Z"
   },
   {
    "duration": 28,
    "start_time": "2021-08-17T11:44:59.655Z"
   },
   {
    "duration": 7,
    "start_time": "2021-08-17T11:44:59.685Z"
   },
   {
    "duration": 60,
    "start_time": "2021-08-17T11:44:59.694Z"
   },
   {
    "duration": 26,
    "start_time": "2021-08-17T11:44:59.758Z"
   },
   {
    "duration": 288,
    "start_time": "2021-08-17T11:44:59.787Z"
   },
   {
    "duration": 219,
    "start_time": "2021-08-17T11:45:00.077Z"
   },
   {
    "duration": 15,
    "start_time": "2021-08-17T11:45:00.299Z"
   },
   {
    "duration": 425,
    "start_time": "2021-08-17T11:45:00.316Z"
   },
   {
    "duration": 379,
    "start_time": "2021-08-17T11:45:00.744Z"
   },
   {
    "duration": 10,
    "start_time": "2021-08-17T11:45:01.125Z"
   },
   {
    "duration": 458,
    "start_time": "2021-08-17T11:45:01.137Z"
   },
   {
    "duration": 523,
    "start_time": "2021-08-17T11:45:01.597Z"
   },
   {
    "duration": 421,
    "start_time": "2021-08-17T11:45:02.122Z"
   },
   {
    "duration": 11,
    "start_time": "2021-08-17T11:45:02.546Z"
   },
   {
    "duration": 349,
    "start_time": "2021-08-17T11:45:02.560Z"
   },
   {
    "duration": 6,
    "start_time": "2021-08-17T11:45:02.913Z"
   },
   {
    "duration": 124,
    "start_time": "2021-08-17T11:45:02.921Z"
   },
   {
    "duration": 12,
    "start_time": "2021-08-17T11:45:03.055Z"
   },
   {
    "duration": 4154,
    "start_time": "2021-08-17T11:45:03.070Z"
   },
   {
    "duration": 2387,
    "start_time": "2021-08-17T11:45:04.840Z"
   },
   {
    "duration": 2385,
    "start_time": "2021-08-17T11:45:04.843Z"
   },
   {
    "duration": 276,
    "start_time": "2021-08-17T14:08:46.809Z"
   },
   {
    "duration": 15329,
    "start_time": "2021-08-17T14:08:51.360Z"
   },
   {
    "duration": 7226,
    "start_time": "2021-08-17T14:09:06.691Z"
   },
   {
    "duration": 2932,
    "start_time": "2021-08-17T14:09:13.919Z"
   },
   {
    "duration": 1226,
    "start_time": "2021-08-17T14:09:16.853Z"
   },
   {
    "duration": 146,
    "start_time": "2021-08-17T14:09:18.080Z"
   },
   {
    "duration": 35,
    "start_time": "2021-08-17T14:09:18.227Z"
   },
   {
    "duration": 13,
    "start_time": "2021-08-17T14:09:18.264Z"
   },
   {
    "duration": 5,
    "start_time": "2021-08-17T14:09:35.209Z"
   },
   {
    "duration": 5,
    "start_time": "2021-08-17T14:11:03.273Z"
   },
   {
    "duration": 4,
    "start_time": "2021-08-17T14:11:59.802Z"
   },
   {
    "duration": 324,
    "start_time": "2021-08-17T14:12:55.562Z"
   },
   {
    "duration": 12,
    "start_time": "2021-08-17T14:13:00.963Z"
   },
   {
    "duration": 16,
    "start_time": "2021-08-17T14:15:52.649Z"
   },
   {
    "duration": 5,
    "start_time": "2021-08-17T14:15:52.984Z"
   },
   {
    "duration": 254,
    "start_time": "2021-08-17T14:15:54.864Z"
   },
   {
    "duration": 248,
    "start_time": "2021-08-17T14:16:08.593Z"
   },
   {
    "duration": 269,
    "start_time": "2021-08-17T14:16:13.886Z"
   },
   {
    "duration": 13,
    "start_time": "2021-08-17T14:16:19.267Z"
   },
   {
    "duration": 12,
    "start_time": "2021-08-17T14:16:33.377Z"
   },
   {
    "duration": 10,
    "start_time": "2021-08-17T14:16:34.218Z"
   },
   {
    "duration": 11,
    "start_time": "2021-08-17T14:16:36.116Z"
   },
   {
    "duration": 141,
    "start_time": "2021-08-17T14:16:46.438Z"
   },
   {
    "duration": 108,
    "start_time": "2021-08-17T14:16:48.429Z"
   },
   {
    "duration": 255,
    "start_time": "2021-08-17T14:17:04.056Z"
   },
   {
    "duration": 144,
    "start_time": "2021-08-17T14:17:09.371Z"
   },
   {
    "duration": 104,
    "start_time": "2021-08-17T14:17:09.926Z"
   },
   {
    "duration": 10,
    "start_time": "2021-08-17T14:17:11.606Z"
   },
   {
    "duration": 224,
    "start_time": "2021-08-17T14:17:13.003Z"
   },
   {
    "duration": 491,
    "start_time": "2021-08-17T14:18:05.570Z"
   },
   {
    "duration": 232,
    "start_time": "2021-08-17T14:18:16.559Z"
   },
   {
    "duration": 232,
    "start_time": "2021-08-17T14:18:29.093Z"
   },
   {
    "duration": 534,
    "start_time": "2021-08-17T14:22:21.299Z"
   },
   {
    "duration": 4,
    "start_time": "2021-08-17T14:23:02.521Z"
   },
   {
    "duration": 345,
    "start_time": "2021-08-17T14:23:20.513Z"
   },
   {
    "duration": 4,
    "start_time": "2021-08-17T14:23:39.587Z"
   },
   {
    "duration": 6,
    "start_time": "2021-08-17T14:23:47.148Z"
   },
   {
    "duration": 354,
    "start_time": "2021-08-17T14:23:48.754Z"
   },
   {
    "duration": 87,
    "start_time": "2021-08-17T14:25:01.957Z"
   },
   {
    "duration": 2331,
    "start_time": "2021-08-17T14:25:03.715Z"
   },
   {
    "duration": 2268,
    "start_time": "2021-08-17T14:25:06.049Z"
   },
   {
    "duration": 2023,
    "start_time": "2021-08-17T14:25:09.001Z"
   },
   {
    "duration": 4,
    "start_time": "2021-08-17T14:25:11.026Z"
   },
   {
    "duration": 156,
    "start_time": "2021-08-17T14:25:11.032Z"
   },
   {
    "duration": 2027,
    "start_time": "2021-08-17T14:25:45.458Z"
   },
   {
    "duration": 2040,
    "start_time": "2021-08-17T14:25:47.487Z"
   },
   {
    "duration": 2115,
    "start_time": "2021-08-17T14:25:49.529Z"
   },
   {
    "duration": 4,
    "start_time": "2021-08-17T14:25:51.647Z"
   },
   {
    "duration": 155,
    "start_time": "2021-08-17T14:25:51.654Z"
   },
   {
    "duration": 35,
    "start_time": "2021-08-17T14:25:51.810Z"
   },
   {
    "duration": 13,
    "start_time": "2021-08-17T14:25:51.847Z"
   },
   {
    "duration": 5,
    "start_time": "2021-08-17T14:25:51.862Z"
   },
   {
    "duration": 14,
    "start_time": "2021-08-17T14:25:51.868Z"
   },
   {
    "duration": 16,
    "start_time": "2021-08-17T14:25:51.884Z"
   },
   {
    "duration": 16,
    "start_time": "2021-08-17T14:25:51.902Z"
   },
   {
    "duration": 49,
    "start_time": "2021-08-17T14:25:51.920Z"
   },
   {
    "duration": 15,
    "start_time": "2021-08-17T14:25:51.971Z"
   },
   {
    "duration": 28,
    "start_time": "2021-08-17T14:25:51.989Z"
   },
   {
    "duration": 19,
    "start_time": "2021-08-17T14:25:52.019Z"
   },
   {
    "duration": 21,
    "start_time": "2021-08-17T14:25:52.041Z"
   },
   {
    "duration": 220,
    "start_time": "2021-08-17T14:25:52.064Z"
   },
   {
    "duration": 114,
    "start_time": "2021-08-17T14:25:52.285Z"
   },
   {
    "duration": 8,
    "start_time": "2021-08-17T14:25:52.401Z"
   },
   {
    "duration": 6,
    "start_time": "2021-08-17T14:25:59.444Z"
   },
   {
    "duration": 420,
    "start_time": "2021-08-17T14:26:38.016Z"
   },
   {
    "duration": 358,
    "start_time": "2021-08-17T14:33:27.685Z"
   },
   {
    "duration": 558,
    "start_time": "2021-08-17T14:36:38.226Z"
   },
   {
    "duration": 7,
    "start_time": "2021-08-17T14:36:46.191Z"
   },
   {
    "duration": 538,
    "start_time": "2021-08-17T14:36:47.293Z"
   },
   {
    "duration": 491,
    "start_time": "2021-08-17T14:37:43.715Z"
   },
   {
    "duration": 5,
    "start_time": "2021-08-17T14:37:46.715Z"
   },
   {
    "duration": 356,
    "start_time": "2021-08-17T14:37:48.265Z"
   },
   {
    "duration": 352,
    "start_time": "2021-08-17T14:38:02.891Z"
   },
   {
    "duration": 427,
    "start_time": "2021-08-17T14:38:17.649Z"
   },
   {
    "duration": 345,
    "start_time": "2021-08-17T14:39:18.412Z"
   },
   {
    "duration": 356,
    "start_time": "2021-08-17T14:39:28.036Z"
   },
   {
    "duration": 454,
    "start_time": "2021-08-17T14:39:43.836Z"
   },
   {
    "duration": 342,
    "start_time": "2021-08-17T14:39:54.608Z"
   },
   {
    "duration": 352,
    "start_time": "2021-08-17T14:39:59.320Z"
   },
   {
    "duration": 357,
    "start_time": "2021-08-17T14:40:11.513Z"
   },
   {
    "duration": 366,
    "start_time": "2021-08-17T14:40:17.297Z"
   },
   {
    "duration": 307,
    "start_time": "2021-08-17T14:42:21.764Z"
   },
   {
    "duration": 373,
    "start_time": "2021-08-17T14:42:29.006Z"
   },
   {
    "duration": 4,
    "start_time": "2021-08-17T14:42:32.734Z"
   },
   {
    "duration": 327,
    "start_time": "2021-08-17T14:42:35.823Z"
   },
   {
    "duration": 280,
    "start_time": "2021-08-17T14:42:51.974Z"
   },
   {
    "duration": 138,
    "start_time": "2021-08-17T16:56:35.110Z"
   },
   {
    "duration": 2946,
    "start_time": "2021-08-17T16:56:47.205Z"
   },
   {
    "duration": 8,
    "start_time": "2021-08-17T16:56:58.862Z"
   },
   {
    "duration": 3030,
    "start_time": "2021-08-17T16:57:01.436Z"
   },
   {
    "duration": 15,
    "start_time": "2021-08-17T16:57:12.885Z"
   },
   {
    "duration": 11,
    "start_time": "2021-08-17T16:57:20.075Z"
   },
   {
    "duration": 374,
    "start_time": "2021-08-17T17:00:01.705Z"
   },
   {
    "duration": 351,
    "start_time": "2021-08-17T17:00:14.620Z"
   },
   {
    "duration": 363,
    "start_time": "2021-08-17T17:00:18.059Z"
   },
   {
    "duration": 358,
    "start_time": "2021-08-17T17:00:26.979Z"
   },
   {
    "duration": 336,
    "start_time": "2021-08-17T17:00:48.396Z"
   },
   {
    "duration": 366,
    "start_time": "2021-08-17T17:01:01.958Z"
   },
   {
    "duration": 396,
    "start_time": "2021-08-17T17:01:07.288Z"
   },
   {
    "duration": 360,
    "start_time": "2021-08-17T17:01:13.968Z"
   },
   {
    "duration": 357,
    "start_time": "2021-08-17T17:01:27.007Z"
   },
   {
    "duration": 350,
    "start_time": "2021-08-17T17:01:32.696Z"
   },
   {
    "duration": 357,
    "start_time": "2021-08-17T17:01:40.287Z"
   },
   {
    "duration": 434,
    "start_time": "2021-08-17T17:01:47.775Z"
   },
   {
    "duration": 12150,
    "start_time": "2021-08-18T02:12:27.246Z"
   },
   {
    "duration": 6981,
    "start_time": "2021-08-18T02:12:39.398Z"
   },
   {
    "duration": 2767,
    "start_time": "2021-08-18T02:12:46.383Z"
   },
   {
    "duration": 1180,
    "start_time": "2021-08-18T02:12:49.152Z"
   },
   {
    "duration": 136,
    "start_time": "2021-08-18T02:12:50.333Z"
   },
   {
    "duration": 37,
    "start_time": "2021-08-18T02:12:50.470Z"
   },
   {
    "duration": 14,
    "start_time": "2021-08-18T02:12:50.510Z"
   },
   {
    "duration": 21,
    "start_time": "2021-08-18T02:12:50.527Z"
   },
   {
    "duration": 37,
    "start_time": "2021-08-18T02:12:50.549Z"
   },
   {
    "duration": 29,
    "start_time": "2021-08-18T02:12:50.588Z"
   },
   {
    "duration": 29,
    "start_time": "2021-08-18T02:12:50.618Z"
   },
   {
    "duration": 27,
    "start_time": "2021-08-18T02:12:50.649Z"
   },
   {
    "duration": 14,
    "start_time": "2021-08-18T02:12:50.677Z"
   },
   {
    "duration": 21,
    "start_time": "2021-08-18T02:12:50.692Z"
   },
   {
    "duration": 17,
    "start_time": "2021-08-18T02:12:50.714Z"
   },
   {
    "duration": 29,
    "start_time": "2021-08-18T02:12:50.732Z"
   },
   {
    "duration": 137,
    "start_time": "2021-08-18T02:12:50.763Z"
   },
   {
    "duration": 114,
    "start_time": "2021-08-18T02:12:50.901Z"
   },
   {
    "duration": 9,
    "start_time": "2021-08-18T02:12:51.016Z"
   },
   {
    "duration": 18,
    "start_time": "2021-08-18T02:12:51.026Z"
   },
   {
    "duration": 356,
    "start_time": "2021-08-18T02:12:51.045Z"
   },
   {
    "duration": 348,
    "start_time": "2021-08-18T02:12:51.404Z"
   },
   {
    "duration": 6,
    "start_time": "2021-08-18T02:12:51.753Z"
   },
   {
    "duration": 492,
    "start_time": "2021-08-18T02:12:51.760Z"
   },
   {
    "duration": 5,
    "start_time": "2021-08-18T02:12:52.254Z"
   },
   {
    "duration": 352,
    "start_time": "2021-08-18T02:12:52.261Z"
   },
   {
    "duration": 441,
    "start_time": "2021-08-18T02:12:52.614Z"
   },
   {
    "duration": 4,
    "start_time": "2021-08-18T02:12:53.056Z"
   },
   {
    "duration": 354,
    "start_time": "2021-08-18T02:12:53.061Z"
   },
   {
    "duration": 3,
    "start_time": "2021-08-18T02:12:53.417Z"
   },
   {
    "duration": 50,
    "start_time": "2021-08-18T02:12:53.421Z"
   },
   {
    "duration": 21,
    "start_time": "2021-08-18T02:12:53.473Z"
   },
   {
    "duration": 9,
    "start_time": "2021-08-18T02:12:53.496Z"
   },
   {
    "duration": 21,
    "start_time": "2021-08-18T02:12:53.507Z"
   },
   {
    "duration": 20,
    "start_time": "2021-08-18T02:12:53.530Z"
   },
   {
    "duration": 2338,
    "start_time": "2021-08-18T17:17:05.497Z"
   },
   {
    "duration": 2267,
    "start_time": "2021-08-18T17:17:07.837Z"
   },
   {
    "duration": 3048,
    "start_time": "2021-08-18T17:17:10.108Z"
   },
   {
    "duration": 1294,
    "start_time": "2021-08-18T17:17:13.158Z"
   },
   {
    "duration": 142,
    "start_time": "2021-08-18T17:17:14.454Z"
   },
   {
    "duration": 42,
    "start_time": "2021-08-18T17:17:14.598Z"
   },
   {
    "duration": 23,
    "start_time": "2021-08-18T17:17:14.643Z"
   },
   {
    "duration": 27,
    "start_time": "2021-08-18T17:17:14.668Z"
   },
   {
    "duration": 6,
    "start_time": "2021-08-18T17:17:14.696Z"
   },
   {
    "duration": 7,
    "start_time": "2021-08-18T17:17:14.704Z"
   },
   {
    "duration": 17,
    "start_time": "2021-08-18T17:17:14.712Z"
   },
   {
    "duration": 18,
    "start_time": "2021-08-18T17:17:14.731Z"
   },
   {
    "duration": 7,
    "start_time": "2021-08-18T17:17:14.751Z"
   },
   {
    "duration": 43,
    "start_time": "2021-08-18T17:17:14.760Z"
   },
   {
    "duration": 13,
    "start_time": "2021-08-18T17:17:14.805Z"
   },
   {
    "duration": 13,
    "start_time": "2021-08-18T17:17:14.820Z"
   },
   {
    "duration": 174,
    "start_time": "2021-08-18T17:17:14.835Z"
   },
   {
    "duration": 125,
    "start_time": "2021-08-18T17:17:15.012Z"
   },
   {
    "duration": 9,
    "start_time": "2021-08-18T17:17:15.139Z"
   },
   {
    "duration": 15,
    "start_time": "2021-08-18T17:17:15.150Z"
   },
   {
    "duration": 447,
    "start_time": "2021-08-18T17:17:15.166Z"
   },
   {
    "duration": 413,
    "start_time": "2021-08-18T17:17:15.617Z"
   },
   {
    "duration": 7,
    "start_time": "2021-08-18T17:17:16.032Z"
   },
   {
    "duration": 546,
    "start_time": "2021-08-18T17:17:16.041Z"
   },
   {
    "duration": 7,
    "start_time": "2021-08-18T17:17:16.592Z"
   },
   {
    "duration": 449,
    "start_time": "2021-08-18T17:17:16.601Z"
   },
   {
    "duration": 422,
    "start_time": "2021-08-18T17:17:17.052Z"
   },
   {
    "duration": 5,
    "start_time": "2021-08-18T17:17:17.476Z"
   },
   {
    "duration": 457,
    "start_time": "2021-08-18T17:17:17.483Z"
   },
   {
    "duration": 5,
    "start_time": "2021-08-18T17:17:17.942Z"
   },
   {
    "duration": 75,
    "start_time": "2021-08-18T17:17:17.949Z"
   },
   {
    "duration": 9,
    "start_time": "2021-08-18T17:17:18.026Z"
   },
   {
    "duration": 16,
    "start_time": "2021-08-18T17:17:18.037Z"
   },
   {
    "duration": 30,
    "start_time": "2021-08-18T17:17:18.055Z"
   },
   {
    "duration": 23,
    "start_time": "2021-08-18T17:17:18.087Z"
   },
   {
    "duration": 3832,
    "start_time": "2021-08-19T14:43:09.621Z"
   },
   {
    "duration": 12415,
    "start_time": "2021-08-19T14:43:13.455Z"
   },
   {
    "duration": 5715,
    "start_time": "2021-08-19T14:43:25.874Z"
   },
   {
    "duration": 2077,
    "start_time": "2021-08-19T14:43:31.593Z"
   },
   {
    "duration": 217,
    "start_time": "2021-08-19T14:43:33.673Z"
   },
   {
    "duration": 421,
    "start_time": "2021-08-19T14:43:33.893Z"
   },
   {
    "duration": 957,
    "start_time": "2021-08-19T14:43:34.317Z"
   },
   {
    "duration": 1175,
    "start_time": "2021-08-19T14:43:35.278Z"
   },
   {
    "duration": 464,
    "start_time": "2021-08-19T14:43:36.457Z"
   },
   {
    "duration": 406,
    "start_time": "2021-08-19T14:43:36.924Z"
   },
   {
    "duration": 320,
    "start_time": "2021-08-19T14:43:37.332Z"
   },
   {
    "duration": 29,
    "start_time": "2021-08-19T14:43:37.655Z"
   },
   {
    "duration": 9,
    "start_time": "2021-08-19T14:43:37.686Z"
   },
   {
    "duration": 22,
    "start_time": "2021-08-19T14:43:37.698Z"
   },
   {
    "duration": 46,
    "start_time": "2021-08-19T14:43:37.723Z"
   },
   {
    "duration": 19,
    "start_time": "2021-08-19T14:43:37.772Z"
   },
   {
    "duration": 282,
    "start_time": "2021-08-19T14:43:37.794Z"
   },
   {
    "duration": 237,
    "start_time": "2021-08-19T14:43:38.079Z"
   },
   {
    "duration": 13,
    "start_time": "2021-08-19T14:43:38.319Z"
   },
   {
    "duration": 35,
    "start_time": "2021-08-19T14:43:38.335Z"
   },
   {
    "duration": 653,
    "start_time": "2021-08-19T14:43:38.373Z"
   },
   {
    "duration": 625,
    "start_time": "2021-08-19T14:43:39.028Z"
   },
   {
    "duration": 9,
    "start_time": "2021-08-19T14:43:39.662Z"
   },
   {
    "duration": 760,
    "start_time": "2021-08-19T14:43:39.673Z"
   },
   {
    "duration": 8,
    "start_time": "2021-08-19T14:43:40.436Z"
   },
   {
    "duration": 630,
    "start_time": "2021-08-19T14:43:40.461Z"
   },
   {
    "duration": 676,
    "start_time": "2021-08-19T14:43:41.093Z"
   },
   {
    "duration": 6,
    "start_time": "2021-08-19T14:43:41.772Z"
   },
   {
    "duration": 458,
    "start_time": "2021-08-19T14:43:41.780Z"
   },
   {
    "duration": 6,
    "start_time": "2021-08-19T14:43:42.240Z"
   },
   {
    "duration": 125,
    "start_time": "2021-08-19T14:43:42.248Z"
   },
   {
    "duration": 12,
    "start_time": "2021-08-19T14:43:42.376Z"
   },
   {
    "duration": 9,
    "start_time": "2021-08-19T14:43:42.391Z"
   },
   {
    "duration": 23,
    "start_time": "2021-08-19T14:43:42.402Z"
   },
   {
    "duration": 30,
    "start_time": "2021-08-19T14:43:42.462Z"
   },
   {
    "duration": 11456,
    "start_time": "2021-08-20T11:01:37.636Z"
   },
   {
    "duration": 7215,
    "start_time": "2021-08-20T11:01:49.094Z"
   },
   {
    "duration": 2868,
    "start_time": "2021-08-20T11:01:56.311Z"
   },
   {
    "duration": 1244,
    "start_time": "2021-08-20T11:01:59.181Z"
   },
   {
    "duration": 136,
    "start_time": "2021-08-20T11:02:00.427Z"
   },
   {
    "duration": 38,
    "start_time": "2021-08-20T11:02:00.565Z"
   },
   {
    "duration": 14,
    "start_time": "2021-08-20T11:02:00.605Z"
   },
   {
    "duration": 5,
    "start_time": "2021-08-20T11:02:00.621Z"
   },
   {
    "duration": 9,
    "start_time": "2021-08-20T11:02:00.628Z"
   },
   {
    "duration": 17,
    "start_time": "2021-08-20T11:02:00.639Z"
   },
   {
    "duration": 19,
    "start_time": "2021-08-20T11:02:00.658Z"
   },
   {
    "duration": 17,
    "start_time": "2021-08-20T11:02:00.691Z"
   },
   {
    "duration": 11,
    "start_time": "2021-08-20T11:02:00.710Z"
   },
   {
    "duration": 27,
    "start_time": "2021-08-20T11:02:00.723Z"
   },
   {
    "duration": 28,
    "start_time": "2021-08-20T11:02:00.752Z"
   },
   {
    "duration": 18,
    "start_time": "2021-08-20T11:02:00.781Z"
   },
   {
    "duration": 161,
    "start_time": "2021-08-20T11:02:00.801Z"
   },
   {
    "duration": 113,
    "start_time": "2021-08-20T11:02:00.963Z"
   },
   {
    "duration": 21,
    "start_time": "2021-08-20T11:02:01.077Z"
   },
   {
    "duration": 6,
    "start_time": "2021-08-20T11:02:01.100Z"
   },
   {
    "duration": 377,
    "start_time": "2021-08-20T11:02:01.108Z"
   },
   {
    "duration": 355,
    "start_time": "2021-08-20T11:02:01.487Z"
   },
   {
    "duration": 6,
    "start_time": "2021-08-20T11:02:01.845Z"
   },
   {
    "duration": 490,
    "start_time": "2021-08-20T11:02:01.853Z"
   },
   {
    "duration": 5,
    "start_time": "2021-08-20T11:02:02.345Z"
   },
   {
    "duration": 369,
    "start_time": "2021-08-20T11:02:02.352Z"
   },
   {
    "duration": 435,
    "start_time": "2021-08-20T11:02:02.723Z"
   },
   {
    "duration": 4,
    "start_time": "2021-08-20T11:02:03.160Z"
   },
   {
    "duration": 359,
    "start_time": "2021-08-20T11:02:03.165Z"
   },
   {
    "duration": 4,
    "start_time": "2021-08-20T11:02:03.526Z"
   },
   {
    "duration": 74,
    "start_time": "2021-08-20T11:02:03.532Z"
   },
   {
    "duration": 8,
    "start_time": "2021-08-20T11:02:03.607Z"
   },
   {
    "duration": 5,
    "start_time": "2021-08-20T11:02:03.617Z"
   },
   {
    "duration": 14,
    "start_time": "2021-08-20T11:02:03.624Z"
   },
   {
    "duration": 10,
    "start_time": "2021-08-20T11:02:03.639Z"
   },
   {
    "duration": 2101,
    "start_time": "2021-08-20T11:04:01.966Z"
   },
   {
    "duration": 2195,
    "start_time": "2021-08-20T11:04:04.070Z"
   },
   {
    "duration": 2128,
    "start_time": "2021-08-20T11:04:06.268Z"
   },
   {
    "duration": 1233,
    "start_time": "2021-08-20T11:04:08.398Z"
   },
   {
    "duration": 137,
    "start_time": "2021-08-20T11:04:09.634Z"
   },
   {
    "duration": 37,
    "start_time": "2021-08-20T11:04:09.773Z"
   },
   {
    "duration": 15,
    "start_time": "2021-08-20T11:04:09.812Z"
   },
   {
    "duration": 6,
    "start_time": "2021-08-20T11:04:09.830Z"
   },
   {
    "duration": 5,
    "start_time": "2021-08-20T11:04:09.838Z"
   },
   {
    "duration": 5,
    "start_time": "2021-08-20T11:04:09.844Z"
   },
   {
    "duration": 42,
    "start_time": "2021-08-20T11:04:09.850Z"
   },
   {
    "duration": 19,
    "start_time": "2021-08-20T11:04:09.894Z"
   },
   {
    "duration": 7,
    "start_time": "2021-08-20T11:04:09.915Z"
   },
   {
    "duration": 12,
    "start_time": "2021-08-20T11:04:09.924Z"
   },
   {
    "duration": 10,
    "start_time": "2021-08-20T11:04:09.938Z"
   },
   {
    "duration": 42,
    "start_time": "2021-08-20T11:04:09.950Z"
   },
   {
    "duration": 144,
    "start_time": "2021-08-20T11:04:09.994Z"
   },
   {
    "duration": 118,
    "start_time": "2021-08-20T11:04:10.140Z"
   },
   {
    "duration": 9,
    "start_time": "2021-08-20T11:04:10.259Z"
   },
   {
    "duration": 22,
    "start_time": "2021-08-20T11:04:10.269Z"
   },
   {
    "duration": 365,
    "start_time": "2021-08-20T11:04:10.293Z"
   },
   {
    "duration": 356,
    "start_time": "2021-08-20T11:04:10.660Z"
   },
   {
    "duration": 6,
    "start_time": "2021-08-20T11:04:11.019Z"
   },
   {
    "duration": 484,
    "start_time": "2021-08-20T11:04:11.027Z"
   },
   {
    "duration": 6,
    "start_time": "2021-08-20T11:04:11.513Z"
   },
   {
    "duration": 359,
    "start_time": "2021-08-20T11:04:11.520Z"
   },
   {
    "duration": 451,
    "start_time": "2021-08-20T11:04:11.881Z"
   },
   {
    "duration": 4,
    "start_time": "2021-08-20T11:04:12.333Z"
   },
   {
    "duration": 292,
    "start_time": "2021-08-20T11:04:12.338Z"
   },
   {
    "duration": 3,
    "start_time": "2021-08-20T11:04:12.632Z"
   },
   {
    "duration": 57,
    "start_time": "2021-08-20T11:04:12.637Z"
   },
   {
    "duration": 7,
    "start_time": "2021-08-20T11:04:12.695Z"
   },
   {
    "duration": 10,
    "start_time": "2021-08-20T11:04:12.703Z"
   },
   {
    "duration": 18,
    "start_time": "2021-08-20T11:04:12.714Z"
   },
   {
    "duration": 18,
    "start_time": "2021-08-20T11:04:12.733Z"
   },
   {
    "duration": 11087,
    "start_time": "2021-08-20T17:49:34.365Z"
   },
   {
    "duration": 6906,
    "start_time": "2021-08-20T17:49:45.454Z"
   },
   {
    "duration": 2889,
    "start_time": "2021-08-20T17:49:52.361Z"
   },
   {
    "duration": 1192,
    "start_time": "2021-08-20T17:49:55.252Z"
   },
   {
    "duration": 133,
    "start_time": "2021-08-20T17:49:56.446Z"
   },
   {
    "duration": 35,
    "start_time": "2021-08-20T17:49:56.581Z"
   },
   {
    "duration": 13,
    "start_time": "2021-08-20T17:49:56.618Z"
   },
   {
    "duration": 4,
    "start_time": "2021-08-20T17:49:56.634Z"
   },
   {
    "duration": 7,
    "start_time": "2021-08-20T17:49:56.640Z"
   },
   {
    "duration": 7,
    "start_time": "2021-08-20T17:49:56.649Z"
   },
   {
    "duration": 37,
    "start_time": "2021-08-20T17:49:56.658Z"
   },
   {
    "duration": 16,
    "start_time": "2021-08-20T17:49:56.696Z"
   },
   {
    "duration": 6,
    "start_time": "2021-08-20T17:49:56.713Z"
   },
   {
    "duration": 13,
    "start_time": "2021-08-20T17:49:56.720Z"
   },
   {
    "duration": 14,
    "start_time": "2021-08-20T17:49:56.734Z"
   },
   {
    "duration": 12,
    "start_time": "2021-08-20T17:49:56.749Z"
   },
   {
    "duration": 156,
    "start_time": "2021-08-20T17:49:56.763Z"
   },
   {
    "duration": 114,
    "start_time": "2021-08-20T17:49:56.920Z"
   },
   {
    "duration": 9,
    "start_time": "2021-08-20T17:49:57.035Z"
   },
   {
    "duration": 8,
    "start_time": "2021-08-20T17:49:57.045Z"
   },
   {
    "duration": 379,
    "start_time": "2021-08-20T17:49:57.055Z"
   },
   {
    "duration": 346,
    "start_time": "2021-08-20T17:49:57.435Z"
   },
   {
    "duration": 10,
    "start_time": "2021-08-20T17:49:57.784Z"
   },
   {
    "duration": 450,
    "start_time": "2021-08-20T17:49:57.796Z"
   },
   {
    "duration": 5,
    "start_time": "2021-08-20T17:49:58.248Z"
   },
   {
    "duration": 354,
    "start_time": "2021-08-20T17:49:58.254Z"
   },
   {
    "duration": 442,
    "start_time": "2021-08-20T17:49:58.610Z"
   },
   {
    "duration": 4,
    "start_time": "2021-08-20T17:49:59.054Z"
   },
   {
    "duration": 305,
    "start_time": "2021-08-20T17:49:59.059Z"
   },
   {
    "duration": 4,
    "start_time": "2021-08-20T17:49:59.366Z"
   },
   {
    "duration": 59,
    "start_time": "2021-08-20T17:49:59.371Z"
   },
   {
    "duration": 7,
    "start_time": "2021-08-20T17:49:59.432Z"
   },
   {
    "duration": 5,
    "start_time": "2021-08-20T17:49:59.441Z"
   },
   {
    "duration": 14,
    "start_time": "2021-08-20T17:49:59.447Z"
   },
   {
    "duration": 32,
    "start_time": "2021-08-20T17:49:59.463Z"
   }
  ],
  "kernelspec": {
   "display_name": "Python 3",
   "language": "python",
   "name": "python3"
  },
  "language_info": {
   "codemirror_mode": {
    "name": "ipython",
    "version": 3
   },
   "file_extension": ".py",
   "mimetype": "text/x-python",
   "name": "python",
   "nbconvert_exporter": "python",
   "pygments_lexer": "ipython3",
   "version": "3.7.8"
  },
  "toc": {
   "base_numbering": 1,
   "nav_menu": {},
   "number_sections": true,
   "sideBar": true,
   "skip_h1_title": true,
   "title_cell": "Table of Contents",
   "title_sidebar": "Contents",
   "toc_cell": false,
   "toc_position": {},
   "toc_section_display": true,
   "toc_window_display": false
  }
 },
 "nbformat": 4,
 "nbformat_minor": 2
}
