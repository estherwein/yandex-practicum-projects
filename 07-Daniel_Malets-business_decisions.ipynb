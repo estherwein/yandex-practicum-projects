{
 "cells": [
  {
   "cell_type": "markdown",
   "id": "b3b4a7be",
   "metadata": {},
   "source": [
    "<hr style=\"border: 2px solid green;\" />\n",
    "\n",
    "Hello, Daniel!🤚 \n",
    "\n",
    "My name is Kseniya Vishnevskaya. I'm going to review your project 😊 \n",
    "\n",
    "✏️You can find my comments in <font color='green'>green</font>, <font color='orange'>yellow</font> or <font color='red'>red</font> boxes like this:\n",
    "\n",
    "<div style=\"border:solid green 2px; padding: 20px\"> <b>Success:</b><br>\n",
    "    I'm using green color if everything is done perfectly.</div>       \n",
    "<br>\n",
    "<div style=\"border:solid orange 2px; padding: 20px\"> <b>Remarks:</b><br>\n",
    "    if I can give some recommendations</div>   \n",
    "<br>\n",
    "<div style=\"border:solid red 2px; padding: 20px\"> <b>Needs fixing:</b><br>\n",
    "    if the block requires some corrections. Work can't be accepted with the red comments</div>\n",
    "\n",
    " \n",
    "Further in the file you can see my comments, try to take them into account when performing the next tasks. **Please, don't delete them.** :)\n",
    "\n",
    "Let's work on the project in dialogue: if you change something in the project or respond to my comments, write about it. It will be easier for me to track the changes if you highlight your comments:\n",
    "\n",
    "<div class=\"alert alert-info\" style=\"border:solid blue 2px; padding: 20px\"> <b>Student comment:</b> In the blue boxes you can leave comments and ask questions.</div>\n",
    "\n",
    "\n",
    "<hr style=\"border: 2px solid green;\" />"
   ]
  },
  {
   "cell_type": "markdown",
   "id": "b98b7b71",
   "metadata": {},
   "source": [
    "### <font color='orange'>General feedback</font>"
   ]
  },
  {
   "cell_type": "markdown",
   "id": "b11a14d1",
   "metadata": {},
   "source": [
    "<s><div style=\"border:solid red 2px; padding: 20px\"> <b>Needs fixing:</b><br>\n",
    "  Thank you for sending your project🙂. You've done a really good job on it! \n",
    "    I especially  liked the style, code formatting and the visualization you've made. \n",
    "However, you have some things to correct. But don't worry, you've got this :)</div>"
   ]
  },
  {
   "cell_type": "markdown",
   "id": "01241091",
   "metadata": {},
   "source": [
    "<div style=\"border:solid orange 2px; padding: 20px\"> <b>Remarks:</b><br>\n",
    "    There are some comments for further improvement. They don't mean that you did anything wrong, but they're things we wanted to point out that can help you further develop your skills. \n",
    "\n",
    "And also I leave several links that can help you to make your further projects even better:\n",
    "\n",
    " * A/B test\n",
    "        \n",
    " https://hbr.org/2017/06/a-refresher-on-ab-testing\n",
    "    \n",
    " https://towardsdatascience.com/the-math-behind-a-b-testing-with-example-code-part-1-of-2-7be752e1d06f\n",
    "\n",
    "\n",
    " * Interesting charts in matplotlib library:\n",
    "\n",
    "    <a>https://www.machinelearningplus.com/plots/top-50-matplotlib-visualizations-the-master-plots-python/</a>\n",
    "\n",
    "          \n",
    "* Statistical Tests:\n",
    "   \n",
    "     <a>https://towardsdatascience.com/what-are-the-commonly-used-statistical-tests-in-data-science-a95cfc2e6b5e</a>\n",
    "  \n",
    " https://machinelearningmastery.com/nonparametric-statistical-significance-tests-in-python/\n",
    "          \n",
    "\n",
    "* Some information about pandas:\n",
    "    \n",
    "     <a> https://towardsdatascience.com/style-pandas-dataframe-like-a-master-6b02bf6468b0</a>          \n",
    " \n",
    "\n",
    "</div>"
   ]
  },
  {
   "cell_type": "markdown",
   "id": "34a624c2",
   "metadata": {},
   "source": [
    "<div class=\"alert alert-info\" style=\"border:solid blue 2px; padding: 20px\"> <b>Student comment v.1:</b> <br />\n",
    "    Thank you Kseniya for your kind words. <br />\n",
    "    I very much appreciate and value your detailed comments. <br />\n",
    "    For this submission I have tried to apply all of the needed corrections where applicable.\n",
    "</div>"
   ]
  },
  {
   "cell_type": "markdown",
   "id": "48f15521",
   "metadata": {},
   "source": [
    "<font color='orange'>Daniel, thank you a lot, I'm glad to be helpful :)</font>"
   ]
  },
  {
   "cell_type": "markdown",
   "id": "b3c8a574",
   "metadata": {},
   "source": [
    "<div style=\"border:solid green 2px; padding: 20px\"> <b>Success V2:</b><br>\n",
    "     I really appreciate the corrections you sent in! 😊  Thanks for taking the time to do so. All your hard work has paid off, and now your project is perfect! I really like that you worked even on \"improve comments\".   Your project has been accepted and you can go to the next sprint! Congratulations! 🥳 </div> "
   ]
  },
  {
   "cell_type": "markdown",
   "id": "a4ca7a26",
   "metadata": {},
   "source": [
    "-----"
   ]
  },
  {
   "cell_type": "code",
   "execution_count": 77,
   "id": "533c3645",
   "metadata": {},
   "outputs": [],
   "source": [
    "!pip install -q --user --upgrade pandas\n",
    "!pip install -q --user --upgrade matplotlib\n",
    "!pip install -q --user --upgrade seaborn"
   ]
  },
  {
   "cell_type": "code",
   "execution_count": 2,
   "id": "6e4431b9",
   "metadata": {},
   "outputs": [],
   "source": [
    "import os\n",
    "import pandas as pd\n",
    "import numpy as np\n",
    "import matplotlib.pyplot as plt\n",
    "import seaborn as sns\n",
    "import scipy.stats as stats\n",
    "from IPython.display import display, Markdown"
   ]
  },
  {
   "cell_type": "code",
   "execution_count": 3,
   "id": "d5b9b099",
   "metadata": {},
   "outputs": [],
   "source": [
    "# pandas styling\n",
    "pd.set_option('display.max_columns', None)\n",
    "pd.set_option('max_colwidth', 120)\n",
    "pd.set_option('display.width', 500)\n",
    "\n",
    "# matplotlib styling\n",
    "plt.rcParams[\"figure.figsize\"] = (13, 7)"
   ]
  },
  {
   "cell_type": "markdown",
   "id": "14e063d4",
   "metadata": {},
   "source": [
    "<div style=\"border:solid green 2px; padding: 20px\"> <b>Success:</b><br>\n",
    "    Very well that you keep all libraries in a separate cell and use -q key to hide insalling outputs 👍  </div> "
   ]
  },
  {
   "cell_type": "markdown",
   "id": "2471a615",
   "metadata": {},
   "source": [
    "# A/B Testing analysis\n",
    "As an analyst of a big online store, I've compiled a list of hypotheses together with the marketing department.  \n",
    "We will prioritize those hypotheses, and conduct the top prioritized A/B test."
   ]
  },
  {
   "cell_type": "markdown",
   "id": "3057a38d",
   "metadata": {},
   "source": [
    "## Table of Contents\n",
    "- [Prioritizing Hypotheses](#Prioritizing-Hypotheses)\n",
    "    - [Preprocess](#Hypothesis_preprocess)\n",
    "    - [Priority](#Priority---ICE,-RICE)\n",
    "- [A/B Test Analysis](#A/B-Test-Analysis)\n",
    "    - [Preprocess](#AB_test_preprocess)\n",
    "        - [Orders](#Orders)\n",
    "        - [Visits](#Visits)\n",
    "        - [Compare](#Compare)\n",
    "    - [Analysis](#Analysis)\n",
    "        - [Aggregate data](#Aggregate-data)\n",
    "        - [Group cumulative revenue](#Group-cumulative-revenue)\n",
    "        - [Group cumulative avg. order size](#Group-cumulative-avg.-order-size)\n",
    "        - [Group cumulative avg. order size - relative difference](#Group-cumulative-avg.-order-size---relative-difference)\n",
    "        - [Group cumulative conversion ratio](#Group-cumulative-conversion-ratio)\n",
    "        - [Orders per user](#Orders-per-user)\n",
    "        - [Orders per user - percentiles](#Orders-per-user---percentiles)\n",
    "        - [Orders prices](#Orders-prices)\n",
    "        - [Orders prices - percentiles](#Orders-prices---percentiles)\n",
    "        - [Group conversion - raw data statistical significance](#Group-conversion---raw-data-statistical-significance)\n",
    "        - [Group avg. order size - raw data statistical significance](#Group-avg.-order-size---raw-data-statistical-significance)\n",
    "        - [Group conversion - filtered data statistical significance](#Group-conversion---filtered-data-statistical-significance)\n",
    "        - [Group avg. order size - filtered data statistical significance](#Group-avg.-order-size---filtered-data-statistical-significance)\n",
    "        - [Test continuation](#Test-continuation)"
   ]
  },
  {
   "cell_type": "markdown",
   "id": "e24b8d0d",
   "metadata": {},
   "source": [
    "<div style=\"border:solid green 2px; padding: 20px\"> <b>Success:</b><br>\n",
    "    Excellent work! Thank you for writing a description of the project, what tasks you are going to accomplish in the process and making the table of contents interactive  👍 </div> "
   ]
  },
  {
   "cell_type": "code",
   "execution_count": 4,
   "id": "32080531",
   "metadata": {},
   "outputs": [],
   "source": [
    "def find_file(filename):\n",
    "    \"\"\"Returns file path under /datasets directory, if exists, otherwise uses local dir\"\"\"\n",
    "    \n",
    "    filepath = f'/datasets/{filename}'\n",
    "    if not os.path.isfile(filepath):\n",
    "        filepath = filename\n",
    "        \n",
    "    return filepath\n",
    "\n",
    "# find_file('hypotheses_us.csv')"
   ]
  },
  {
   "cell_type": "code",
   "execution_count": 5,
   "id": "729f5aa1",
   "metadata": {},
   "outputs": [],
   "source": [
    "def file_info(filename):\n",
    "    \"\"\"Previews a file using unix commands\"\"\"\n",
    "    \n",
    "    path = find_file(filename)\n",
    "    \n",
    "    try:\n",
    "        !wc -lm \"$path\"\n",
    "        !cat \"$path\" | head -n2\n",
    "    except:\n",
    "        pass\n",
    "    \n",
    "# file_info('hypotheses_us.csv')"
   ]
  },
  {
   "cell_type": "code",
   "execution_count": 6,
   "id": "d91fa1dd",
   "metadata": {},
   "outputs": [],
   "source": [
    "def parse_csv(filename, **kwargs):\n",
    "    \"\"\"Returns a pandas DataFrame\"\"\"\n",
    "    \n",
    "    path = find_file(filename)\n",
    "    print(f'parsing {path}..')\n",
    "    return pd.read_csv(path, **kwargs)\n",
    "\n",
    "# parse_csv('hypotheses_us.csv', delimiter=';')"
   ]
  },
  {
   "cell_type": "code",
   "execution_count": 7,
   "id": "e1e01b42",
   "metadata": {},
   "outputs": [],
   "source": [
    "def parse_preview_frame(filename, nrows=10, preview=False, **kwargs):\n",
    "    \"\"\"\n",
    "    Parses a preview (n rows) from the file.\n",
    "    \n",
    "    Returns a pandas DataFrame.\n",
    "    \"\"\"\n",
    "    \n",
    "    path = find_file(filename)\n",
    "    df = parse_csv(path, nrows=nrows, **kwargs)\n",
    "    \n",
    "    if preview:\n",
    "        lines = 5\n",
    "        if isinstance(preview, int) and not isinstance(preview, bool):\n",
    "            lines = preview\n",
    "            \n",
    "        display(df.head(lines))\n",
    "        \n",
    "    return df\n",
    "\n",
    "# parse_preview_frame('hypotheses_us.csv', nrows=3, delimiter=';')"
   ]
  },
  {
   "cell_type": "code",
   "execution_count": 8,
   "id": "d698b15a",
   "metadata": {},
   "outputs": [],
   "source": [
    "def report(df):\n",
    "    \"\"\"Builds a report of a dataframe, detailing:\n",
    "    \n",
    "    - missing values\n",
    "    - duplicated values\n",
    "    \"\"\"\n",
    "    \n",
    "    name = f'\"{df}\"' if isinstance(df, str) else f'\"{df.name}\"' if hasattr(df, 'name') else ''\n",
    "    df = df if isinstance(df, pd.DataFrame) else globals()[df]\n",
    "    na = df.isna()\n",
    "    dp = df.duplicated()\n",
    "    \n",
    "    na_count = na.sum().sum()\n",
    "    dp_count = dp.sum()\n",
    "    \n",
    "    if na_count == 0 and dp_count == 0:\n",
    "        print(f'{name} dataframe has no missing values or duplicates.')\n",
    "    else:\n",
    "        report = f'#### {name} dataframe issues:\\n'\n",
    "        if na_count != 0:\n",
    "            report += f'- missing values: {na_count}\\n'\n",
    "            display(df[na.any(axis=1)].rename_axis('Missing values', axis='columns').head(3))\n",
    "        if dp_count != 0:\n",
    "            report += f'- duplicated values: {dp_count}'\n",
    "            display(df[dp].rename_axis('Duplicated values', axis='columns').head(3))\n",
    "            \n",
    "        display(Markdown(report))"
   ]
  },
  {
   "cell_type": "markdown",
   "id": "e9a367ed",
   "metadata": {},
   "source": [
    "<div style=\"border:solid green 2px; padding: 20px\"> <b>Success:</b><br>\n",
    "   Wow, well done for creating all functions at the beginning of the project and using docstring to annotate them! 😊 </div>       "
   ]
  },
  {
   "cell_type": "markdown",
   "id": "7a2605ad",
   "metadata": {},
   "source": [
    "## Prioritizing Hypotheses\n",
    "***\n",
    "[back](#Table-of-Contents)\n",
    "\n",
    "- [Preprocess](#Hypothesis_preprocess)\n",
    "- [Priority](#Priority---ICE,-RICE)"
   ]
  },
  {
   "cell_type": "markdown",
   "id": "2e572342",
   "metadata": {},
   "source": [
    "<a id=\"Hypothesis_preprocess\"></a>\n",
    "## Preprocess\n",
    "***\n",
    "[up](#Prioritizing-Hypotheses)\n",
    "\n",
    "Features:\n",
    "- Hypotheses — brief descriptions of the hypotheses\n",
    "- Reach — user reach, on a scale of one to ten\n",
    "- Impact — impact on users, on a scale of one to ten\n",
    "- Confidence — confidence in the hypothesis, on a scale of one to ten\n",
    "- Effort — the resources required to test a hypothesis, on a scale of one to ten.  \n",
    "The higher the Effort value, the more resource-intensive the test."
   ]
  },
  {
   "cell_type": "code",
   "execution_count": 9,
   "id": "ddc497c2",
   "metadata": {},
   "outputs": [
    {
     "name": "stdout",
     "output_type": "stream",
     "text": [
      "  9 888 /datasets/hypotheses_us.csv\n",
      "Hypothesis;Reach;Impact;Confidence;Effort\n",
      "Add two new channels for attracting traffic. This will bring 30% more users;3;10;8;6\n"
     ]
    }
   ],
   "source": [
    "filename = 'hypotheses_us.csv'\n",
    "file_info(filename)"
   ]
  },
  {
   "cell_type": "code",
   "execution_count": 10,
   "id": "079d40cb",
   "metadata": {},
   "outputs": [],
   "source": [
    "pd.set_option('display.max_columns', None)\n",
    "pd.set_option('max_colwidth', 120)\n",
    "pd.set_option('display.width', 500)"
   ]
  },
  {
   "cell_type": "code",
   "execution_count": 11,
   "id": "df740dfc",
   "metadata": {
    "scrolled": true
   },
   "outputs": [
    {
     "name": "stdout",
     "output_type": "stream",
     "text": [
      "parsing /datasets/hypotheses_us.csv..\n"
     ]
    },
    {
     "data": {
      "text/html": [
       "<div>\n",
       "<style scoped>\n",
       "    .dataframe tbody tr th:only-of-type {\n",
       "        vertical-align: middle;\n",
       "    }\n",
       "\n",
       "    .dataframe tbody tr th {\n",
       "        vertical-align: top;\n",
       "    }\n",
       "\n",
       "    .dataframe thead th {\n",
       "        text-align: right;\n",
       "    }\n",
       "</style>\n",
       "<table border=\"1\" class=\"dataframe\">\n",
       "  <thead>\n",
       "    <tr style=\"text-align: right;\">\n",
       "      <th></th>\n",
       "      <th>Hypothesis</th>\n",
       "      <th>Reach</th>\n",
       "      <th>Impact</th>\n",
       "      <th>Confidence</th>\n",
       "      <th>Effort</th>\n",
       "    </tr>\n",
       "  </thead>\n",
       "  <tbody>\n",
       "    <tr>\n",
       "      <th>0</th>\n",
       "      <td>Add two new channels for attracting traffic. This will bring 30% more users</td>\n",
       "      <td>3</td>\n",
       "      <td>10</td>\n",
       "      <td>8</td>\n",
       "      <td>6</td>\n",
       "    </tr>\n",
       "    <tr>\n",
       "      <th>1</th>\n",
       "      <td>Launch your own delivery service. This will shorten delivery time</td>\n",
       "      <td>2</td>\n",
       "      <td>5</td>\n",
       "      <td>4</td>\n",
       "      <td>10</td>\n",
       "    </tr>\n",
       "    <tr>\n",
       "      <th>2</th>\n",
       "      <td>Add product recommendation blocks to the store's site. This will increase conversion and average purchase size</td>\n",
       "      <td>8</td>\n",
       "      <td>3</td>\n",
       "      <td>7</td>\n",
       "      <td>3</td>\n",
       "    </tr>\n",
       "    <tr>\n",
       "      <th>3</th>\n",
       "      <td>Change the category structure. This will increase conversion since users will find the products they want more quickly</td>\n",
       "      <td>8</td>\n",
       "      <td>3</td>\n",
       "      <td>3</td>\n",
       "      <td>8</td>\n",
       "    </tr>\n",
       "    <tr>\n",
       "      <th>4</th>\n",
       "      <td>Change the background color on the main page. This will increase user engagement</td>\n",
       "      <td>3</td>\n",
       "      <td>1</td>\n",
       "      <td>1</td>\n",
       "      <td>1</td>\n",
       "    </tr>\n",
       "  </tbody>\n",
       "</table>\n",
       "</div>"
      ],
      "text/plain": [
       "                                                                                                               Hypothesis  Reach  Impact  Confidence  Effort\n",
       "0                                             Add two new channels for attracting traffic. This will bring 30% more users      3      10           8       6\n",
       "1                                                       Launch your own delivery service. This will shorten delivery time      2       5           4      10\n",
       "2          Add product recommendation blocks to the store's site. This will increase conversion and average purchase size      8       3           7       3\n",
       "3  Change the category structure. This will increase conversion since users will find the products they want more quickly      8       3           3       8\n",
       "4                                        Change the background color on the main page. This will increase user engagement      3       1           1       1"
      ]
     },
     "execution_count": 11,
     "metadata": {},
     "output_type": "execute_result"
    }
   ],
   "source": [
    "hypotheses_df = parse_csv(filename, delimiter=';')\n",
    "hypotheses_df.head()"
   ]
  },
  {
   "cell_type": "markdown",
   "id": "ba90b95c",
   "metadata": {},
   "source": [
    "<s><div style=\"border:solid orange 2px; padding: 20px\"> <b>Remarks:</b><br>\n",
    "    \n",
    "To show all the information in tables you can  extend the fields of the tables using: \n",
    "        \n",
    "`pd.set_option('display.max_columns', None)\n",
    "pd.set_option('max_colwidth', 120)\n",
    "pd.set_option('display.width', 500)`  \n",
    "\n",
    "in the cell with all library imports. </div>   "
   ]
  },
  {
   "cell_type": "markdown",
   "id": "b9f2550e",
   "metadata": {},
   "source": [
    "<div class=\"alert alert-info\" style=\"border:solid blue 2px; padding: 20px\"> <b>Student comment v.1:</b> <br />\n",
    "    That is much better, thanks 🙂\n",
    "</div>"
   ]
  },
  {
   "cell_type": "markdown",
   "id": "26a1689f",
   "metadata": {},
   "source": [
    "<div style=\"border:solid green 2px; padding: 20px\"> <b>Success V2:</b><br>\n",
    "    Very well!</div> "
   ]
  },
  {
   "cell_type": "code",
   "execution_count": 12,
   "id": "f6042439",
   "metadata": {},
   "outputs": [
    {
     "name": "stdout",
     "output_type": "stream",
     "text": [
      "<class 'pandas.core.frame.DataFrame'>\n",
      "RangeIndex: 9 entries, 0 to 8\n",
      "Data columns (total 5 columns):\n",
      " #   Column      Non-Null Count  Dtype \n",
      "---  ------      --------------  ----- \n",
      " 0   Hypothesis  9 non-null      object\n",
      " 1   Reach       9 non-null      int64 \n",
      " 2   Impact      9 non-null      int64 \n",
      " 3   Confidence  9 non-null      int64 \n",
      " 4   Effort      9 non-null      int64 \n",
      "dtypes: int64(4), object(1)\n",
      "memory usage: 488.0+ bytes\n"
     ]
    }
   ],
   "source": [
    "hypotheses_df.info(memory_usage=True)"
   ]
  },
  {
   "cell_type": "code",
   "execution_count": 13,
   "id": "00c0fa25",
   "metadata": {},
   "outputs": [
    {
     "data": {
      "text/html": [
       "<div>\n",
       "<style scoped>\n",
       "    .dataframe tbody tr th:only-of-type {\n",
       "        vertical-align: middle;\n",
       "    }\n",
       "\n",
       "    .dataframe tbody tr th {\n",
       "        vertical-align: top;\n",
       "    }\n",
       "\n",
       "    .dataframe thead th {\n",
       "        text-align: right;\n",
       "    }\n",
       "</style>\n",
       "<table border=\"1\" class=\"dataframe\">\n",
       "  <thead>\n",
       "    <tr style=\"text-align: right;\">\n",
       "      <th></th>\n",
       "      <th>Reach</th>\n",
       "      <th>Impact</th>\n",
       "      <th>Confidence</th>\n",
       "      <th>Effort</th>\n",
       "    </tr>\n",
       "  </thead>\n",
       "  <tbody>\n",
       "    <tr>\n",
       "      <th>count</th>\n",
       "      <td>9.000000</td>\n",
       "      <td>9.000000</td>\n",
       "      <td>9.000000</td>\n",
       "      <td>9.000000</td>\n",
       "    </tr>\n",
       "    <tr>\n",
       "      <th>mean</th>\n",
       "      <td>4.777778</td>\n",
       "      <td>4.777778</td>\n",
       "      <td>5.555556</td>\n",
       "      <td>4.888889</td>\n",
       "    </tr>\n",
       "    <tr>\n",
       "      <th>std</th>\n",
       "      <td>3.153481</td>\n",
       "      <td>3.192874</td>\n",
       "      <td>3.045944</td>\n",
       "      <td>2.803767</td>\n",
       "    </tr>\n",
       "    <tr>\n",
       "      <th>min</th>\n",
       "      <td>1.000000</td>\n",
       "      <td>1.000000</td>\n",
       "      <td>1.000000</td>\n",
       "      <td>1.000000</td>\n",
       "    </tr>\n",
       "    <tr>\n",
       "      <th>25%</th>\n",
       "      <td>3.000000</td>\n",
       "      <td>3.000000</td>\n",
       "      <td>3.000000</td>\n",
       "      <td>3.000000</td>\n",
       "    </tr>\n",
       "    <tr>\n",
       "      <th>50%</th>\n",
       "      <td>3.000000</td>\n",
       "      <td>3.000000</td>\n",
       "      <td>7.000000</td>\n",
       "      <td>5.000000</td>\n",
       "    </tr>\n",
       "    <tr>\n",
       "      <th>75%</th>\n",
       "      <td>8.000000</td>\n",
       "      <td>7.000000</td>\n",
       "      <td>8.000000</td>\n",
       "      <td>6.000000</td>\n",
       "    </tr>\n",
       "    <tr>\n",
       "      <th>max</th>\n",
       "      <td>10.000000</td>\n",
       "      <td>10.000000</td>\n",
       "      <td>9.000000</td>\n",
       "      <td>10.000000</td>\n",
       "    </tr>\n",
       "  </tbody>\n",
       "</table>\n",
       "</div>"
      ],
      "text/plain": [
       "           Reach     Impact  Confidence     Effort\n",
       "count   9.000000   9.000000    9.000000   9.000000\n",
       "mean    4.777778   4.777778    5.555556   4.888889\n",
       "std     3.153481   3.192874    3.045944   2.803767\n",
       "min     1.000000   1.000000    1.000000   1.000000\n",
       "25%     3.000000   3.000000    3.000000   3.000000\n",
       "50%     3.000000   3.000000    7.000000   5.000000\n",
       "75%     8.000000   7.000000    8.000000   6.000000\n",
       "max    10.000000  10.000000    9.000000  10.000000"
      ]
     },
     "execution_count": 13,
     "metadata": {},
     "output_type": "execute_result"
    }
   ],
   "source": [
    "hypotheses_df.describe()"
   ]
  },
  {
   "cell_type": "code",
   "execution_count": 14,
   "id": "aea14583",
   "metadata": {},
   "outputs": [
    {
     "name": "stdout",
     "output_type": "stream",
     "text": [
      " dataframe has no missing values or duplicates.\n"
     ]
    }
   ],
   "source": [
    "report(hypotheses_df)"
   ]
  },
  {
   "cell_type": "markdown",
   "id": "2a534c6a",
   "metadata": {},
   "source": [
    "<s><div style=\"border:solid red 2px; padding: 20px\"> <b>Needs fixing:</b><br>\n",
    "    Please write the conclusions here.</div>"
   ]
  },
  {
   "cell_type": "markdown",
   "id": "e6ee06c7",
   "metadata": {},
   "source": [
    "<div class=\"alert alert-info\" style=\"border:solid blue 2px; padding: 20px\"> <b>Student comment v.1:</b> <br />\n",
    "    Update below.\n",
    "</div>"
   ]
  },
  {
   "cell_type": "markdown",
   "id": "d95d5df1",
   "metadata": {},
   "source": [
    "Parsed data set has 9 different hypotheses in total, and each such hypothesis is a potential A/B test.  \n",
    "The features are scores of a metric, and it will enable us to prioritize which hypotheses are to be tested first.  \n",
    "Each of the metrics is on a scale of 1-10, with no noticeable exceptions or problems.  \n",
    "There are no missing values, nor duplicates."
   ]
  },
  {
   "cell_type": "markdown",
   "id": "1f063109",
   "metadata": {},
   "source": [
    "<div style=\"border:solid green 2px; padding: 20px\"> <b>Success V2:</b><br>\n",
    "   Thank you for the conclusions :)</div> "
   ]
  },
  {
   "cell_type": "markdown",
   "id": "55fbed6c",
   "metadata": {},
   "source": [
    "## Priority - ICE, RICE\n",
    "***\n",
    "[up](#Prioritizing-Hypotheses)"
   ]
  },
  {
   "cell_type": "code",
   "execution_count": 15,
   "id": "ae5c5d7d",
   "metadata": {},
   "outputs": [],
   "source": [
    "def high_score_metric(df, metric, title):\n",
    "    \"\"\"Prints selection info, filtered by max metric value\"\"\"\n",
    "    \n",
    "    max_idx = df[metric].idxmax()\n",
    "    max_row = df.iloc[max_idx]\n",
    "    \n",
    "    result = f\"Highest scoring {metric}: {max_row[metric]} <br />\" \\\n",
    "             f\"{title.capitalize()} #{max_idx} - {max_row[title]}\"\n",
    "        \n",
    "    display(Markdown(result))"
   ]
  },
  {
   "cell_type": "code",
   "execution_count": 16,
   "id": "84047cdd",
   "metadata": {},
   "outputs": [
    {
     "data": {
      "text/html": [
       "<div>\n",
       "<style scoped>\n",
       "    .dataframe tbody tr th:only-of-type {\n",
       "        vertical-align: middle;\n",
       "    }\n",
       "\n",
       "    .dataframe tbody tr th {\n",
       "        vertical-align: top;\n",
       "    }\n",
       "\n",
       "    .dataframe thead th {\n",
       "        text-align: right;\n",
       "    }\n",
       "</style>\n",
       "<table border=\"1\" class=\"dataframe\">\n",
       "  <thead>\n",
       "    <tr style=\"text-align: right;\">\n",
       "      <th></th>\n",
       "      <th>Hypothesis</th>\n",
       "      <th>Reach</th>\n",
       "      <th>Impact</th>\n",
       "      <th>Confidence</th>\n",
       "      <th>Effort</th>\n",
       "      <th>ICE</th>\n",
       "    </tr>\n",
       "  </thead>\n",
       "  <tbody>\n",
       "    <tr>\n",
       "      <th>8</th>\n",
       "      <td>Launch a promotion that gives users discounts on their birthdays</td>\n",
       "      <td>1</td>\n",
       "      <td>9</td>\n",
       "      <td>9</td>\n",
       "      <td>5</td>\n",
       "      <td>16.200000</td>\n",
       "    </tr>\n",
       "    <tr>\n",
       "      <th>0</th>\n",
       "      <td>Add two new channels for attracting traffic. This will bring 30% more users</td>\n",
       "      <td>3</td>\n",
       "      <td>10</td>\n",
       "      <td>8</td>\n",
       "      <td>6</td>\n",
       "      <td>13.333333</td>\n",
       "    </tr>\n",
       "    <tr>\n",
       "      <th>7</th>\n",
       "      <td>Add a subscription form to all the main pages. This will help you compile a mailing list</td>\n",
       "      <td>10</td>\n",
       "      <td>7</td>\n",
       "      <td>8</td>\n",
       "      <td>5</td>\n",
       "      <td>11.200000</td>\n",
       "    </tr>\n",
       "    <tr>\n",
       "      <th>6</th>\n",
       "      <td>Show banners with current offers and sales on the main page. This will boost conversion</td>\n",
       "      <td>5</td>\n",
       "      <td>3</td>\n",
       "      <td>8</td>\n",
       "      <td>3</td>\n",
       "      <td>8.000000</td>\n",
       "    </tr>\n",
       "    <tr>\n",
       "      <th>2</th>\n",
       "      <td>Add product recommendation blocks to the store's site. This will increase conversion and average purchase size</td>\n",
       "      <td>8</td>\n",
       "      <td>3</td>\n",
       "      <td>7</td>\n",
       "      <td>3</td>\n",
       "      <td>7.000000</td>\n",
       "    </tr>\n",
       "    <tr>\n",
       "      <th>1</th>\n",
       "      <td>Launch your own delivery service. This will shorten delivery time</td>\n",
       "      <td>2</td>\n",
       "      <td>5</td>\n",
       "      <td>4</td>\n",
       "      <td>10</td>\n",
       "      <td>2.000000</td>\n",
       "    </tr>\n",
       "    <tr>\n",
       "      <th>5</th>\n",
       "      <td>Add a customer review page. This will increase the number of orders</td>\n",
       "      <td>3</td>\n",
       "      <td>2</td>\n",
       "      <td>2</td>\n",
       "      <td>3</td>\n",
       "      <td>1.333333</td>\n",
       "    </tr>\n",
       "    <tr>\n",
       "      <th>3</th>\n",
       "      <td>Change the category structure. This will increase conversion since users will find the products they want more quickly</td>\n",
       "      <td>8</td>\n",
       "      <td>3</td>\n",
       "      <td>3</td>\n",
       "      <td>8</td>\n",
       "      <td>1.125000</td>\n",
       "    </tr>\n",
       "    <tr>\n",
       "      <th>4</th>\n",
       "      <td>Change the background color on the main page. This will increase user engagement</td>\n",
       "      <td>3</td>\n",
       "      <td>1</td>\n",
       "      <td>1</td>\n",
       "      <td>1</td>\n",
       "      <td>1.000000</td>\n",
       "    </tr>\n",
       "  </tbody>\n",
       "</table>\n",
       "</div>"
      ],
      "text/plain": [
       "                                                                                                               Hypothesis  Reach  Impact  Confidence  Effort        ICE\n",
       "8                                                        Launch a promotion that gives users discounts on their birthdays      1       9           9       5  16.200000\n",
       "0                                             Add two new channels for attracting traffic. This will bring 30% more users      3      10           8       6  13.333333\n",
       "7                                Add a subscription form to all the main pages. This will help you compile a mailing list     10       7           8       5  11.200000\n",
       "6                                 Show banners with current offers and sales on the main page. This will boost conversion      5       3           8       3   8.000000\n",
       "2          Add product recommendation blocks to the store's site. This will increase conversion and average purchase size      8       3           7       3   7.000000\n",
       "1                                                       Launch your own delivery service. This will shorten delivery time      2       5           4      10   2.000000\n",
       "5                                                     Add a customer review page. This will increase the number of orders      3       2           2       3   1.333333\n",
       "3  Change the category structure. This will increase conversion since users will find the products they want more quickly      8       3           3       8   1.125000\n",
       "4                                        Change the background color on the main page. This will increase user engagement      3       1           1       1   1.000000"
      ]
     },
     "execution_count": 16,
     "metadata": {},
     "output_type": "execute_result"
    }
   ],
   "source": [
    "hypotheses_df['ICE'] = hypotheses_df['Impact'] * hypotheses_df['Confidence'] / hypotheses_df['Effort']\n",
    "hypotheses_df.sort_values('ICE', ascending=False)"
   ]
  },
  {
   "cell_type": "code",
   "execution_count": 17,
   "id": "4d6bd84f",
   "metadata": {},
   "outputs": [
    {
     "data": {
      "text/markdown": [
       "Highest scoring ICE: 16.2 <br />Hypothesis #8 - Launch a promotion that gives users discounts on their birthdays"
      ],
      "text/plain": [
       "<IPython.core.display.Markdown object>"
      ]
     },
     "metadata": {},
     "output_type": "display_data"
    }
   ],
   "source": [
    "high_score_metric(hypotheses_df, metric='ICE', title='Hypothesis')"
   ]
  },
  {
   "cell_type": "code",
   "execution_count": 18,
   "id": "4fd53dbc",
   "metadata": {},
   "outputs": [
    {
     "data": {
      "text/html": [
       "<div>\n",
       "<style scoped>\n",
       "    .dataframe tbody tr th:only-of-type {\n",
       "        vertical-align: middle;\n",
       "    }\n",
       "\n",
       "    .dataframe tbody tr th {\n",
       "        vertical-align: top;\n",
       "    }\n",
       "\n",
       "    .dataframe thead th {\n",
       "        text-align: right;\n",
       "    }\n",
       "</style>\n",
       "<table border=\"1\" class=\"dataframe\">\n",
       "  <thead>\n",
       "    <tr style=\"text-align: right;\">\n",
       "      <th></th>\n",
       "      <th>Hypothesis</th>\n",
       "      <th>Reach</th>\n",
       "      <th>Impact</th>\n",
       "      <th>Confidence</th>\n",
       "      <th>Effort</th>\n",
       "      <th>ICE</th>\n",
       "      <th>RICE</th>\n",
       "    </tr>\n",
       "  </thead>\n",
       "  <tbody>\n",
       "    <tr>\n",
       "      <th>7</th>\n",
       "      <td>Add a subscription form to all the main pages. This will help you compile a mailing list</td>\n",
       "      <td>10</td>\n",
       "      <td>7</td>\n",
       "      <td>8</td>\n",
       "      <td>5</td>\n",
       "      <td>11.200000</td>\n",
       "      <td>112.0</td>\n",
       "    </tr>\n",
       "    <tr>\n",
       "      <th>2</th>\n",
       "      <td>Add product recommendation blocks to the store's site. This will increase conversion and average purchase size</td>\n",
       "      <td>8</td>\n",
       "      <td>3</td>\n",
       "      <td>7</td>\n",
       "      <td>3</td>\n",
       "      <td>7.000000</td>\n",
       "      <td>56.0</td>\n",
       "    </tr>\n",
       "    <tr>\n",
       "      <th>0</th>\n",
       "      <td>Add two new channels for attracting traffic. This will bring 30% more users</td>\n",
       "      <td>3</td>\n",
       "      <td>10</td>\n",
       "      <td>8</td>\n",
       "      <td>6</td>\n",
       "      <td>13.333333</td>\n",
       "      <td>40.0</td>\n",
       "    </tr>\n",
       "    <tr>\n",
       "      <th>6</th>\n",
       "      <td>Show banners with current offers and sales on the main page. This will boost conversion</td>\n",
       "      <td>5</td>\n",
       "      <td>3</td>\n",
       "      <td>8</td>\n",
       "      <td>3</td>\n",
       "      <td>8.000000</td>\n",
       "      <td>40.0</td>\n",
       "    </tr>\n",
       "    <tr>\n",
       "      <th>8</th>\n",
       "      <td>Launch a promotion that gives users discounts on their birthdays</td>\n",
       "      <td>1</td>\n",
       "      <td>9</td>\n",
       "      <td>9</td>\n",
       "      <td>5</td>\n",
       "      <td>16.200000</td>\n",
       "      <td>16.2</td>\n",
       "    </tr>\n",
       "    <tr>\n",
       "      <th>3</th>\n",
       "      <td>Change the category structure. This will increase conversion since users will find the products they want more quickly</td>\n",
       "      <td>8</td>\n",
       "      <td>3</td>\n",
       "      <td>3</td>\n",
       "      <td>8</td>\n",
       "      <td>1.125000</td>\n",
       "      <td>9.0</td>\n",
       "    </tr>\n",
       "    <tr>\n",
       "      <th>1</th>\n",
       "      <td>Launch your own delivery service. This will shorten delivery time</td>\n",
       "      <td>2</td>\n",
       "      <td>5</td>\n",
       "      <td>4</td>\n",
       "      <td>10</td>\n",
       "      <td>2.000000</td>\n",
       "      <td>4.0</td>\n",
       "    </tr>\n",
       "    <tr>\n",
       "      <th>5</th>\n",
       "      <td>Add a customer review page. This will increase the number of orders</td>\n",
       "      <td>3</td>\n",
       "      <td>2</td>\n",
       "      <td>2</td>\n",
       "      <td>3</td>\n",
       "      <td>1.333333</td>\n",
       "      <td>4.0</td>\n",
       "    </tr>\n",
       "    <tr>\n",
       "      <th>4</th>\n",
       "      <td>Change the background color on the main page. This will increase user engagement</td>\n",
       "      <td>3</td>\n",
       "      <td>1</td>\n",
       "      <td>1</td>\n",
       "      <td>1</td>\n",
       "      <td>1.000000</td>\n",
       "      <td>3.0</td>\n",
       "    </tr>\n",
       "  </tbody>\n",
       "</table>\n",
       "</div>"
      ],
      "text/plain": [
       "                                                                                                               Hypothesis  Reach  Impact  Confidence  Effort        ICE   RICE\n",
       "7                                Add a subscription form to all the main pages. This will help you compile a mailing list     10       7           8       5  11.200000  112.0\n",
       "2          Add product recommendation blocks to the store's site. This will increase conversion and average purchase size      8       3           7       3   7.000000   56.0\n",
       "0                                             Add two new channels for attracting traffic. This will bring 30% more users      3      10           8       6  13.333333   40.0\n",
       "6                                 Show banners with current offers and sales on the main page. This will boost conversion      5       3           8       3   8.000000   40.0\n",
       "8                                                        Launch a promotion that gives users discounts on their birthdays      1       9           9       5  16.200000   16.2\n",
       "3  Change the category structure. This will increase conversion since users will find the products they want more quickly      8       3           3       8   1.125000    9.0\n",
       "1                                                       Launch your own delivery service. This will shorten delivery time      2       5           4      10   2.000000    4.0\n",
       "5                                                     Add a customer review page. This will increase the number of orders      3       2           2       3   1.333333    4.0\n",
       "4                                        Change the background color on the main page. This will increase user engagement      3       1           1       1   1.000000    3.0"
      ]
     },
     "execution_count": 18,
     "metadata": {},
     "output_type": "execute_result"
    }
   ],
   "source": [
    "hypotheses_df['RICE'] = (\n",
    "    hypotheses_df['Reach'] \n",
    "    * hypotheses_df['Impact'] \n",
    "    * hypotheses_df['Confidence']\n",
    "    / hypotheses_df['Effort'])\n",
    "hypotheses_df.sort_values('RICE', ascending=False)"
   ]
  },
  {
   "cell_type": "code",
   "execution_count": 19,
   "id": "8aca0935",
   "metadata": {},
   "outputs": [
    {
     "data": {
      "text/markdown": [
       "Highest scoring RICE: 112.0 <br />Hypothesis #7 - Add a subscription form to all the main pages. This will help you compile a mailing list"
      ],
      "text/plain": [
       "<IPython.core.display.Markdown object>"
      ]
     },
     "metadata": {},
     "output_type": "display_data"
    }
   ],
   "source": [
    "high_score_metric(hypotheses_df, metric='RICE', title='Hypothesis')"
   ]
  },
  {
   "cell_type": "markdown",
   "id": "d27526ec",
   "metadata": {},
   "source": [
    " <div style=\"border:solid green 2px; padding: 20px\"> <b>Success:</b><br>\n",
    "    All the calculations are correct, well done. </div> "
   ]
  },
  {
   "cell_type": "code",
   "execution_count": 20,
   "id": "5b9d83b9",
   "metadata": {},
   "outputs": [
    {
     "data": {
      "image/png": "[encoded data removed]",
      "text/plain": [
       "<Figure size 936x504 with 1 Axes>"
      ]
     },
     "metadata": {
      "needs_background": "light"
     },
     "output_type": "display_data"
    }
   ],
   "source": [
    "ice_norm = (\n",
    "    (hypotheses_df['ICE'] - hypotheses_df['ICE'].min()) \n",
    "    / (hypotheses_df['ICE'].max() - hypotheses_df['ICE'].min()))\n",
    "rice_norm = (\n",
    "    (hypotheses_df['RICE'] - hypotheses_df['RICE'].min()) \n",
    "    / (hypotheses_df['RICE'].max() - hypotheses_df['RICE'].min()))\n",
    "\n",
    "norm = pd.DataFrame({'ICE': ice_norm, 'RICE': rice_norm}).sort_values(['RICE', 'ICE'], ascending=False)\n",
    "# print(norm)\n",
    "\n",
    "norm.plot.bar(rot=0)\n",
    "plt.title('Hypotheses ICE / RICE comparison')\n",
    "plt.ylabel('normalized score')\n",
    "plt.xlabel('hypothesis')\n",
    "plt.show()"
   ]
  },
  {
   "cell_type": "markdown",
   "id": "27f505bb",
   "metadata": {},
   "source": [
    "**ICE** is an acronym for **I**mpact * **C**onfidence * **E**ase (or 1/**E**ffort).  \n",
    "**RICE** is the same, only multiplied by **R**each.  \n",
    "Since the reach of hypothesis #7 is maximised (10/10), it's able to surpass the maximum ICE metric, which falls behind (due to small reach)."
   ]
  },
  {
   "cell_type": "markdown",
   "id": "a8cded4e",
   "metadata": {},
   "source": [
    "<div style=\"border:solid green 2px; padding: 20px\"> <b>Success:</b><br>\n",
    "    Ok, agree with you. Very reasonable point.</div>  "
   ]
  },
  {
   "cell_type": "markdown",
   "id": "5684d2a0",
   "metadata": {},
   "source": [
    "<s><div style=\"border:solid orange 2px; padding: 20px\"> <b>Remarks:</b><br>\n",
    "    You can also build a scatterplot for a better visualization.  I'll leave a sample code below.</div>   "
   ]
  },
  {
   "cell_type": "code",
   "execution_count": 21,
   "id": "333e2612",
   "metadata": {},
   "outputs": [
    {
     "data": {
      "image/png": "[encoded data removed]",
      "text/plain": [
       "<Figure size 720x432 with 1 Axes>"
      ]
     },
     "metadata": {
      "needs_background": "light"
     },
     "output_type": "display_data"
    }
   ],
   "source": [
    "#Reviewer's code\n",
    "import seaborn as sns\n",
    "plt.figure(figsize=(10,6))\n",
    "plt.title('Method ICE and RICE', size=15)\n",
    "sns.scatterplot(x=hypotheses_df['ICE'], y=hypotheses_df['RICE'])\n",
    "for line in range(0,hypotheses_df.shape[0]):\n",
    "     plt.text(hypotheses_df.ICE[line]+0.2, \n",
    "              hypotheses_df.RICE[line], \n",
    "              hypotheses_df.index[line], \n",
    "              horizontalalignment='left', size='medium', color='black', weight='semibold')\n",
    "plt.show()"
   ]
  },
  {
   "cell_type": "markdown",
   "id": "122b319e",
   "metadata": {},
   "source": [
    "<s><div style=\"border:solid red 2px; padding: 20px\"> <b>Needs fixing:</b><br>\n",
    "    Could you please write brief conclusions on this module ?</div>"
   ]
  },
  {
   "cell_type": "markdown",
   "id": "3cf3b275",
   "metadata": {},
   "source": [
    "<div class=\"alert alert-info\" style=\"border:solid blue 2px; padding: 20px\"> <b>Student comment v.1:</b> <br />\n",
    "    Update below.\n",
    "</div>"
   ]
  },
  {
   "cell_type": "markdown",
   "id": "ecadbc20",
   "metadata": {},
   "source": [
    "<div style=\"border:solid green 2px; padding: 20px\"> <b>Success V2:</b><br>\n",
    "    👍</div>       "
   ]
  },
  {
   "cell_type": "markdown",
   "id": "3ae19f9b",
   "metadata": {},
   "source": [
    "We parsed the hypotheses dataset, calculated ICE and RICE metrics,  \n",
    "and concluded that hypothesis #7 is worth testing first,  \n",
    "based on its RICE score (112) relative to all other htypotheses' scores.  \n",
    "\n",
    "\n",
    "**Chosen hypothesis:**  \n",
    "_Hypothesis #7_: \"Add a subscription form to all the main pages. This will help you compile a mailing list\"  \n",
    "\n",
    "It has maximum Reach, and will impact most users."
   ]
  },
  {
   "cell_type": "markdown",
   "id": "60907503",
   "metadata": {},
   "source": [
    "## A/B Test Analysis\n",
    "***\n",
    "[back](#Table-of-Contents)\n",
    "\n",
    "- [Preprocess](#AB_test_preprocess)\n",
    "    - [Orders](#Orders)\n",
    "    - [Visits](#Visits)\n",
    "    - [Compare](#Compare)\n",
    "- [Analysis](#Analysis)\n",
    "    - [Aggregate data](#Aggregate-data)\n",
    "    - [Group cumulative revenue](#Group-cumulative-revenue)\n",
    "    - [Group cumulative avg. order size](#Group-cumulative-avg.-order-size)\n",
    "    - [Group cumulative avg. order size - relative difference](#Group-cumulative-avg.-order-size---relative-difference)\n",
    "    - [Group cumulative conversion ratio](#Group-cumulative-conversion-ratio)\n",
    "    - [Orders per user](#Orders-per-user)\n",
    "    - [Orders per user - percentiles](#Orders-per-user---percentiles)\n",
    "    - [Orders prices](#Orders-prices)\n",
    "    - [Orders prices - percentiles](#Orders-prices---percentiles)\n",
    "    - [Group conversion - raw data statistical significance](#Group-conversion---raw-data-statistical-significance)\n",
    "    - [Group avg. order size - raw data statistical significance](#Group-avg.-order-size---raw-data-statistical-significance)\n",
    "    - [Group conversion - filtered data statistical significance](#Group-conversion---filtered-data-statistical-significance)\n",
    "    - [Group avg. order size - filtered data statistical significance](#Group-avg.-order-size---filtered-data-statistical-significance)\n",
    "    - [Test continuation](#Test-continuation)"
   ]
  },
  {
   "cell_type": "markdown",
   "id": "e57b7f8c",
   "metadata": {},
   "source": [
    "<a id=\"AB_test_preprocess\"></a>\n",
    "## Preprocess\n",
    "***\n",
    "[up](#A/B-Test-Analysis)\n",
    "\n",
    "- [Orders](#Orders)\n",
    "- [Visits](#Visits)\n",
    "- [Compare](#Compare)"
   ]
  },
  {
   "cell_type": "code",
   "execution_count": 22,
   "id": "fcfb7dd7",
   "metadata": {},
   "outputs": [],
   "source": [
    "def check_group_uniqueness(df):\n",
    "    \"\"\"\n",
    "    Searches for users which are in both Group A and Group B.\n",
    "    \n",
    "    Returns user ids.\n",
    "    \"\"\"\n",
    "    \n",
    "    user_ids = df.groupby('visitorId').agg({'group': 'nunique'}).query('group > 1').index\n",
    "    display(Markdown(\n",
    "        f'There are {len(user_ids)} users which are in both A and B groups.'))\n",
    "    return user_ids"
   ]
  },
  {
   "cell_type": "markdown",
   "id": "4fce65b5",
   "metadata": {},
   "source": [
    "### Orders\n",
    "***\n",
    "[up](#AB_test_preprocess)\n",
    "\n",
    "Features:\n",
    "- transactionId — order identifier\n",
    "- visitorId — identifier of the user who placed the order\n",
    "- date — of the order\n",
    "- revenue — from the order\n",
    "- group — the A/B test group that the user belongs to"
   ]
  },
  {
   "cell_type": "code",
   "execution_count": 23,
   "id": "fde32fe4",
   "metadata": {},
   "outputs": [
    {
     "name": "stdout",
     "output_type": "stream",
     "text": [
      " 1198 48854 /datasets/orders_us.csv\n",
      "transactionId,visitorId,date,revenue,group\n",
      "3667963787,3312258926,2019-08-15,30.4,B\n"
     ]
    }
   ],
   "source": [
    "filename = 'orders_us.csv'\n",
    "file_info(filename)"
   ]
  },
  {
   "cell_type": "code",
   "execution_count": 24,
   "id": "50991fd9",
   "metadata": {},
   "outputs": [
    {
     "name": "stdout",
     "output_type": "stream",
     "text": [
      "parsing /datasets/orders_us.csv..\n"
     ]
    },
    {
     "data": {
      "text/html": [
       "<div>\n",
       "<style scoped>\n",
       "    .dataframe tbody tr th:only-of-type {\n",
       "        vertical-align: middle;\n",
       "    }\n",
       "\n",
       "    .dataframe tbody tr th {\n",
       "        vertical-align: top;\n",
       "    }\n",
       "\n",
       "    .dataframe thead th {\n",
       "        text-align: right;\n",
       "    }\n",
       "</style>\n",
       "<table border=\"1\" class=\"dataframe\">\n",
       "  <thead>\n",
       "    <tr style=\"text-align: right;\">\n",
       "      <th></th>\n",
       "      <th>transactionId</th>\n",
       "      <th>visitorId</th>\n",
       "      <th>date</th>\n",
       "      <th>revenue</th>\n",
       "      <th>group</th>\n",
       "    </tr>\n",
       "  </thead>\n",
       "  <tbody>\n",
       "    <tr>\n",
       "      <th>0</th>\n",
       "      <td>3667963787</td>\n",
       "      <td>3312258926</td>\n",
       "      <td>2019-08-15</td>\n",
       "      <td>30.4</td>\n",
       "      <td>B</td>\n",
       "    </tr>\n",
       "    <tr>\n",
       "      <th>1</th>\n",
       "      <td>2804400009</td>\n",
       "      <td>3642806036</td>\n",
       "      <td>2019-08-15</td>\n",
       "      <td>15.2</td>\n",
       "      <td>B</td>\n",
       "    </tr>\n",
       "    <tr>\n",
       "      <th>2</th>\n",
       "      <td>2961555356</td>\n",
       "      <td>4069496402</td>\n",
       "      <td>2019-08-15</td>\n",
       "      <td>10.2</td>\n",
       "      <td>A</td>\n",
       "    </tr>\n",
       "    <tr>\n",
       "      <th>3</th>\n",
       "      <td>3797467345</td>\n",
       "      <td>1196621759</td>\n",
       "      <td>2019-08-15</td>\n",
       "      <td>155.1</td>\n",
       "      <td>B</td>\n",
       "    </tr>\n",
       "    <tr>\n",
       "      <th>4</th>\n",
       "      <td>2282983706</td>\n",
       "      <td>2322279887</td>\n",
       "      <td>2019-08-15</td>\n",
       "      <td>40.5</td>\n",
       "      <td>B</td>\n",
       "    </tr>\n",
       "  </tbody>\n",
       "</table>\n",
       "</div>"
      ],
      "text/plain": [
       "   transactionId   visitorId        date  revenue group\n",
       "0     3667963787  3312258926  2019-08-15     30.4     B\n",
       "1     2804400009  3642806036  2019-08-15     15.2     B\n",
       "2     2961555356  4069496402  2019-08-15     10.2     A\n",
       "3     3797467345  1196621759  2019-08-15    155.1     B\n",
       "4     2282983706  2322279887  2019-08-15     40.5     B"
      ]
     },
     "metadata": {},
     "output_type": "display_data"
    },
    {
     "name": "stdout",
     "output_type": "stream",
     "text": [
      "<class 'pandas.core.frame.DataFrame'>\n",
      "RangeIndex: 10 entries, 0 to 9\n",
      "Data columns (total 5 columns):\n",
      " #   Column         Non-Null Count  Dtype  \n",
      "---  ------         --------------  -----  \n",
      " 0   transactionId  10 non-null     int64  \n",
      " 1   visitorId      10 non-null     int64  \n",
      " 2   date           10 non-null     object \n",
      " 3   revenue        10 non-null     float64\n",
      " 4   group          10 non-null     object \n",
      "dtypes: float64(1), int64(2), object(2)\n",
      "memory usage: 528.0+ bytes\n"
     ]
    }
   ],
   "source": [
    "parse_preview_frame(filename, preview=True).info()"
   ]
  },
  {
   "cell_type": "markdown",
   "id": "ab46f0cf",
   "metadata": {},
   "source": [
    "<div style=\"border:solid orange 2px; padding: 20px\"> <b>Remarks:</b><br>\n",
    "     Please note that 64 bits is an excessive amount of space for storing your features.  Here you can read more about data type optimization: <br><a>https://medium.com/@vincentteyssier/optimizing-the-size-of-a-pandas-dataframe-for-low-memory-environment-5f07db3d72e</a>\n",
    "</div> "
   ]
  },
  {
   "cell_type": "code",
   "execution_count": 25,
   "id": "4d0b309b",
   "metadata": {},
   "outputs": [
    {
     "name": "stdout",
     "output_type": "stream",
     "text": [
      "parsing /datasets/orders_us.csv..\n",
      "parsing /datasets/orders_us.csv..\n"
     ]
    },
    {
     "data": {
      "text/html": [
       "<div>\n",
       "<style scoped>\n",
       "    .dataframe tbody tr th:only-of-type {\n",
       "        vertical-align: middle;\n",
       "    }\n",
       "\n",
       "    .dataframe tbody tr th {\n",
       "        vertical-align: top;\n",
       "    }\n",
       "\n",
       "    .dataframe thead th {\n",
       "        text-align: right;\n",
       "    }\n",
       "</style>\n",
       "<table border=\"1\" class=\"dataframe\">\n",
       "  <thead>\n",
       "    <tr style=\"text-align: right;\">\n",
       "      <th></th>\n",
       "      <th>transactionId</th>\n",
       "      <th>visitorId</th>\n",
       "      <th>date</th>\n",
       "      <th>revenue</th>\n",
       "      <th>group</th>\n",
       "    </tr>\n",
       "  </thead>\n",
       "  <tbody>\n",
       "    <tr>\n",
       "      <th>0</th>\n",
       "      <td>3667963787</td>\n",
       "      <td>3312258926</td>\n",
       "      <td>2019-08-15</td>\n",
       "      <td>30.4</td>\n",
       "      <td>B</td>\n",
       "    </tr>\n",
       "  </tbody>\n",
       "</table>\n",
       "</div>"
      ],
      "text/plain": [
       "   transactionId   visitorId        date  revenue group\n",
       "0     3667963787  3312258926  2019-08-15     30.4     B"
      ]
     },
     "metadata": {},
     "output_type": "display_data"
    },
    {
     "data": {
      "text/html": [
       "<div>\n",
       "<style scoped>\n",
       "    .dataframe tbody tr th:only-of-type {\n",
       "        vertical-align: middle;\n",
       "    }\n",
       "\n",
       "    .dataframe tbody tr th {\n",
       "        vertical-align: top;\n",
       "    }\n",
       "\n",
       "    .dataframe thead th {\n",
       "        text-align: right;\n",
       "    }\n",
       "</style>\n",
       "<table border=\"1\" class=\"dataframe\">\n",
       "  <thead>\n",
       "    <tr style=\"text-align: right;\">\n",
       "      <th></th>\n",
       "      <th>transactionId</th>\n",
       "      <th>visitorId</th>\n",
       "      <th>date</th>\n",
       "      <th>revenue</th>\n",
       "      <th>group</th>\n",
       "    </tr>\n",
       "  </thead>\n",
       "  <tbody>\n",
       "    <tr>\n",
       "      <th>0</th>\n",
       "      <td>-627003509</td>\n",
       "      <td>-982708370</td>\n",
       "      <td>2019-08-15</td>\n",
       "      <td>30.4</td>\n",
       "      <td>B</td>\n",
       "    </tr>\n",
       "  </tbody>\n",
       "</table>\n",
       "</div>"
      ],
      "text/plain": [
       "   transactionId  visitorId        date  revenue group\n",
       "0     -627003509 -982708370  2019-08-15     30.4     B"
      ]
     },
     "metadata": {},
     "output_type": "display_data"
    }
   ],
   "source": [
    "display(\n",
    "    parse_preview_frame('orders_us.csv').head(1),\n",
    "    parse_preview_frame('orders_us.csv', dtype={'transactionId': 'int32', 'visitorId': 'int32'}).head(1))"
   ]
  },
  {
   "cell_type": "markdown",
   "id": "bf3b6333",
   "metadata": {},
   "source": [
    "<div class=\"alert alert-info\" style=\"border:solid blue 2px; padding: 20px\"> <b>Student comment v.1:</b> <br />\n",
    "    Coming from a programming background, I always strive to efficiency and optimization of code, <br />\n",
    "    but have also many times prematurely optimized code, which lead to considerable time loss and little value. <br />\n",
    "    I try to strike a balance between optimized code and cost/value ratio, <br />\n",
    "    and nowadays tend to optimize when there is a proven need (via profiling or otherwise) to do so. <br /><br />\n",
    "    Specifically in this case, the total memory footprint is low (&lt; 1kb), and our systems aren't constrained by low memory. <br />\n",
    "    Furthermore, choosing int32 will actually alter the value, since the values are out of range for this type (example above).<br />\n",
    "    I believe that if I was to deal with a very large dataset, I would positively reconsider this.\n",
    "</div>"
   ]
  },
  {
   "cell_type": "markdown",
   "id": "1b02139b",
   "metadata": {},
   "source": [
    "<div style=\"border:solid green 2px; padding: 20px\"> <b>Success V2:</b><br>\n",
    "    Okay :) I give these recommendations in general for your future work and future projects, when the datasets will be larger and more complex.</div>       "
   ]
  },
  {
   "cell_type": "code",
   "execution_count": 26,
   "id": "7dad5629",
   "metadata": {},
   "outputs": [
    {
     "name": "stdout",
     "output_type": "stream",
     "text": [
      "parsing /datasets/orders_us.csv..\n"
     ]
    },
    {
     "data": {
      "text/html": [
       "<div>\n",
       "<style scoped>\n",
       "    .dataframe tbody tr th:only-of-type {\n",
       "        vertical-align: middle;\n",
       "    }\n",
       "\n",
       "    .dataframe tbody tr th {\n",
       "        vertical-align: top;\n",
       "    }\n",
       "\n",
       "    .dataframe thead th {\n",
       "        text-align: right;\n",
       "    }\n",
       "</style>\n",
       "<table border=\"1\" class=\"dataframe\">\n",
       "  <thead>\n",
       "    <tr style=\"text-align: right;\">\n",
       "      <th></th>\n",
       "      <th>transactionId</th>\n",
       "      <th>visitorId</th>\n",
       "      <th>date</th>\n",
       "      <th>revenue</th>\n",
       "      <th>group</th>\n",
       "    </tr>\n",
       "  </thead>\n",
       "  <tbody>\n",
       "    <tr>\n",
       "      <th>0</th>\n",
       "      <td>3667963787</td>\n",
       "      <td>3312258926</td>\n",
       "      <td>2019-08-15</td>\n",
       "      <td>30.4</td>\n",
       "      <td>B</td>\n",
       "    </tr>\n",
       "    <tr>\n",
       "      <th>1</th>\n",
       "      <td>2804400009</td>\n",
       "      <td>3642806036</td>\n",
       "      <td>2019-08-15</td>\n",
       "      <td>15.2</td>\n",
       "      <td>B</td>\n",
       "    </tr>\n",
       "    <tr>\n",
       "      <th>2</th>\n",
       "      <td>2961555356</td>\n",
       "      <td>4069496402</td>\n",
       "      <td>2019-08-15</td>\n",
       "      <td>10.2</td>\n",
       "      <td>A</td>\n",
       "    </tr>\n",
       "    <tr>\n",
       "      <th>3</th>\n",
       "      <td>3797467345</td>\n",
       "      <td>1196621759</td>\n",
       "      <td>2019-08-15</td>\n",
       "      <td>155.1</td>\n",
       "      <td>B</td>\n",
       "    </tr>\n",
       "    <tr>\n",
       "      <th>4</th>\n",
       "      <td>2282983706</td>\n",
       "      <td>2322279887</td>\n",
       "      <td>2019-08-15</td>\n",
       "      <td>40.5</td>\n",
       "      <td>B</td>\n",
       "    </tr>\n",
       "  </tbody>\n",
       "</table>\n",
       "</div>"
      ],
      "text/plain": [
       "   transactionId   visitorId       date  revenue group\n",
       "0     3667963787  3312258926 2019-08-15     30.4     B\n",
       "1     2804400009  3642806036 2019-08-15     15.2     B\n",
       "2     2961555356  4069496402 2019-08-15     10.2     A\n",
       "3     3797467345  1196621759 2019-08-15    155.1     B\n",
       "4     2282983706  2322279887 2019-08-15     40.5     B"
      ]
     },
     "execution_count": 26,
     "metadata": {},
     "output_type": "execute_result"
    }
   ],
   "source": [
    "# categorical dtype causes problems down the road (with aggregation). not using it.\n",
    "\n",
    "orders_df = parse_csv(filename, parse_dates=['date'])#, dtype={'group': 'category'})\n",
    "orders_df.head()"
   ]
  },
  {
   "cell_type": "code",
   "execution_count": 27,
   "id": "1d973a3b",
   "metadata": {},
   "outputs": [
    {
     "name": "stdout",
     "output_type": "stream",
     "text": [
      "<class 'pandas.core.frame.DataFrame'>\n",
      "RangeIndex: 1197 entries, 0 to 1196\n",
      "Data columns (total 5 columns):\n",
      " #   Column         Non-Null Count  Dtype         \n",
      "---  ------         --------------  -----         \n",
      " 0   transactionId  1197 non-null   int64         \n",
      " 1   visitorId      1197 non-null   int64         \n",
      " 2   date           1197 non-null   datetime64[ns]\n",
      " 3   revenue        1197 non-null   float64       \n",
      " 4   group          1197 non-null   object        \n",
      "dtypes: datetime64[ns](1), float64(1), int64(2), object(1)\n",
      "memory usage: 46.9+ KB\n"
     ]
    }
   ],
   "source": [
    "orders_df.info(memory_usage=True)"
   ]
  },
  {
   "cell_type": "code",
   "execution_count": 28,
   "id": "84837467",
   "metadata": {},
   "outputs": [
    {
     "name": "stdout",
     "output_type": "stream",
     "text": [
      " dataframe has no missing values or duplicates.\n"
     ]
    }
   ],
   "source": [
    "report(orders_df)"
   ]
  },
  {
   "cell_type": "markdown",
   "id": "e0066040",
   "metadata": {},
   "source": [
    "<div style=\"border:solid green 2px; padding: 20px\"> <b>Success:</b><br>\n",
    "  \n",
    "   I like that you use a variety of methods, including `head()`, `info()`  and  others when studying general information in tables. Also well done for checking for duplicates in the data.</div>  "
   ]
  },
  {
   "cell_type": "code",
   "execution_count": 29,
   "id": "b3aca140",
   "metadata": {},
   "outputs": [
    {
     "data": {
      "text/markdown": [
       "There are 58 users which are in both A and B groups."
      ],
      "text/plain": [
       "<IPython.core.display.Markdown object>"
      ]
     },
     "metadata": {},
     "output_type": "display_data"
    }
   ],
   "source": [
    "A_and_B_user_ids = check_group_uniqueness(orders_df)"
   ]
  },
  {
   "cell_type": "markdown",
   "id": "f7161e10",
   "metadata": {},
   "source": [
    "Removing all (entries of) users that are in both teams."
   ]
  },
  {
   "cell_type": "code",
   "execution_count": 30,
   "id": "4b5342b9",
   "metadata": {},
   "outputs": [
    {
     "data": {
      "text/markdown": [
       "Original \"orders\" dataframe size: 1197  \n",
       "Size after filter: 1016"
      ],
      "text/plain": [
       "<IPython.core.display.Markdown object>"
      ]
     },
     "metadata": {},
     "output_type": "display_data"
    },
    {
     "data": {
      "text/markdown": [
       "There are 0 users which are in both A and B groups."
      ],
      "text/plain": [
       "<IPython.core.display.Markdown object>"
      ]
     },
     "metadata": {},
     "output_type": "display_data"
    }
   ],
   "source": [
    "orders = orders_df[~orders_df['visitorId'].isin(A_and_B_user_ids)]\n",
    "display(Markdown(\n",
    "    f'Original \"orders\" dataframe size: {orders_df.shape[0]}  \\n' \\\n",
    "    f'Size after filter: {orders.shape[0]}'))\n",
    "check_group_uniqueness(orders);"
   ]
  },
  {
   "cell_type": "markdown",
   "id": "a6fdaaa1",
   "metadata": {},
   "source": [
    "<div style=\"border:solid green 2px; padding: 20px\"> <b>Success:</b><br>\n",
    "Great job, you found a significant bug that occurred when splitting into groups. I agree with your decision to exclude compromised users.</div>      "
   ]
  },
  {
   "cell_type": "markdown",
   "id": "ebeae25d",
   "metadata": {},
   "source": [
    "<s><div style=\"border:solid red 2px; padding: 20px\"> <b>Needs fixing:</b><br>\n",
    "   Please, write the conclusions here.</div>"
   ]
  },
  {
   "cell_type": "markdown",
   "id": "fc31b918",
   "metadata": {},
   "source": [
    "<div class=\"alert alert-info\" style=\"border:solid blue 2px; padding: 20px\"> <b>Student comment v.1:</b> <br />\n",
    "    Update below.\n",
    "</div>"
   ]
  },
  {
   "cell_type": "markdown",
   "id": "bf1e68b3",
   "metadata": {},
   "source": [
    "We have parsed the dataset containing user orders,  \n",
    "specifying the transaction id, user id, date of transaction, the sum of it and the group the user belonged to during testing (A / B).  \n",
    "\n",
    "There were no missing nor duplicated values,  \n",
    "but some of the users were found in both groups' records.  \n",
    "This will influence results and will affect the outcome, therefore said users' entries were removed from the table.\n",
    "\n",
    "This also in turn potentially affects the visits' data,  \n",
    "but there we don't have user identifiers which we can act upon.  "
   ]
  },
  {
   "cell_type": "markdown",
   "id": "f4d213dc",
   "metadata": {},
   "source": [
    "<div style=\"border:solid green 2px; padding: 20px\"> <b>Success V2:</b><br>\n",
    "    Perfect!</div> "
   ]
  },
  {
   "cell_type": "markdown",
   "id": "8a265d65",
   "metadata": {},
   "source": [
    "### Visits\n",
    "***\n",
    "[up](#AB_test_preprocess)"
   ]
  },
  {
   "cell_type": "code",
   "execution_count": 31,
   "id": "96a73ac7",
   "metadata": {},
   "outputs": [
    {
     "name": "stdout",
     "output_type": "stream",
     "text": [
      "  62 1133 /datasets/visits_us.csv\n",
      "date,group,visits\n",
      "2019-08-01,A,719\n"
     ]
    }
   ],
   "source": [
    "filename = 'visits_us.csv'\n",
    "file_info(filename)"
   ]
  },
  {
   "cell_type": "code",
   "execution_count": 32,
   "id": "f604f534",
   "metadata": {},
   "outputs": [
    {
     "name": "stdout",
     "output_type": "stream",
     "text": [
      "parsing /datasets/visits_us.csv..\n"
     ]
    },
    {
     "data": {
      "text/html": [
       "<div>\n",
       "<style scoped>\n",
       "    .dataframe tbody tr th:only-of-type {\n",
       "        vertical-align: middle;\n",
       "    }\n",
       "\n",
       "    .dataframe tbody tr th {\n",
       "        vertical-align: top;\n",
       "    }\n",
       "\n",
       "    .dataframe thead th {\n",
       "        text-align: right;\n",
       "    }\n",
       "</style>\n",
       "<table border=\"1\" class=\"dataframe\">\n",
       "  <thead>\n",
       "    <tr style=\"text-align: right;\">\n",
       "      <th></th>\n",
       "      <th>date</th>\n",
       "      <th>group</th>\n",
       "      <th>visits</th>\n",
       "    </tr>\n",
       "  </thead>\n",
       "  <tbody>\n",
       "    <tr>\n",
       "      <th>0</th>\n",
       "      <td>2019-08-01</td>\n",
       "      <td>A</td>\n",
       "      <td>719</td>\n",
       "    </tr>\n",
       "    <tr>\n",
       "      <th>1</th>\n",
       "      <td>2019-08-02</td>\n",
       "      <td>A</td>\n",
       "      <td>619</td>\n",
       "    </tr>\n",
       "    <tr>\n",
       "      <th>2</th>\n",
       "      <td>2019-08-03</td>\n",
       "      <td>A</td>\n",
       "      <td>507</td>\n",
       "    </tr>\n",
       "    <tr>\n",
       "      <th>3</th>\n",
       "      <td>2019-08-04</td>\n",
       "      <td>A</td>\n",
       "      <td>717</td>\n",
       "    </tr>\n",
       "    <tr>\n",
       "      <th>4</th>\n",
       "      <td>2019-08-05</td>\n",
       "      <td>A</td>\n",
       "      <td>756</td>\n",
       "    </tr>\n",
       "  </tbody>\n",
       "</table>\n",
       "</div>"
      ],
      "text/plain": [
       "         date group  visits\n",
       "0  2019-08-01     A     719\n",
       "1  2019-08-02     A     619\n",
       "2  2019-08-03     A     507\n",
       "3  2019-08-04     A     717\n",
       "4  2019-08-05     A     756"
      ]
     },
     "metadata": {},
     "output_type": "display_data"
    },
    {
     "name": "stdout",
     "output_type": "stream",
     "text": [
      "<class 'pandas.core.frame.DataFrame'>\n",
      "RangeIndex: 10 entries, 0 to 9\n",
      "Data columns (total 3 columns):\n",
      " #   Column  Non-Null Count  Dtype \n",
      "---  ------  --------------  ----- \n",
      " 0   date    10 non-null     object\n",
      " 1   group   10 non-null     object\n",
      " 2   visits  10 non-null     int64 \n",
      "dtypes: int64(1), object(2)\n",
      "memory usage: 368.0+ bytes\n"
     ]
    }
   ],
   "source": [
    "parse_preview_frame(filename, preview=True).info()"
   ]
  },
  {
   "cell_type": "code",
   "execution_count": 33,
   "id": "282fb1c3",
   "metadata": {},
   "outputs": [
    {
     "name": "stdout",
     "output_type": "stream",
     "text": [
      "parsing /datasets/visits_us.csv..\n"
     ]
    },
    {
     "data": {
      "text/html": [
       "<div>\n",
       "<style scoped>\n",
       "    .dataframe tbody tr th:only-of-type {\n",
       "        vertical-align: middle;\n",
       "    }\n",
       "\n",
       "    .dataframe tbody tr th {\n",
       "        vertical-align: top;\n",
       "    }\n",
       "\n",
       "    .dataframe thead th {\n",
       "        text-align: right;\n",
       "    }\n",
       "</style>\n",
       "<table border=\"1\" class=\"dataframe\">\n",
       "  <thead>\n",
       "    <tr style=\"text-align: right;\">\n",
       "      <th></th>\n",
       "      <th>date</th>\n",
       "      <th>group</th>\n",
       "      <th>visits</th>\n",
       "    </tr>\n",
       "  </thead>\n",
       "  <tbody>\n",
       "    <tr>\n",
       "      <th>0</th>\n",
       "      <td>2019-08-01</td>\n",
       "      <td>A</td>\n",
       "      <td>719</td>\n",
       "    </tr>\n",
       "    <tr>\n",
       "      <th>1</th>\n",
       "      <td>2019-08-02</td>\n",
       "      <td>A</td>\n",
       "      <td>619</td>\n",
       "    </tr>\n",
       "    <tr>\n",
       "      <th>2</th>\n",
       "      <td>2019-08-03</td>\n",
       "      <td>A</td>\n",
       "      <td>507</td>\n",
       "    </tr>\n",
       "    <tr>\n",
       "      <th>3</th>\n",
       "      <td>2019-08-04</td>\n",
       "      <td>A</td>\n",
       "      <td>717</td>\n",
       "    </tr>\n",
       "    <tr>\n",
       "      <th>4</th>\n",
       "      <td>2019-08-05</td>\n",
       "      <td>A</td>\n",
       "      <td>756</td>\n",
       "    </tr>\n",
       "  </tbody>\n",
       "</table>\n",
       "</div>"
      ],
      "text/plain": [
       "        date group  visits\n",
       "0 2019-08-01     A     719\n",
       "1 2019-08-02     A     619\n",
       "2 2019-08-03     A     507\n",
       "3 2019-08-04     A     717\n",
       "4 2019-08-05     A     756"
      ]
     },
     "execution_count": 33,
     "metadata": {},
     "output_type": "execute_result"
    }
   ],
   "source": [
    "visits_df = parse_csv(filename, parse_dates=['date'])#, dtype={'group': 'category'})\n",
    "visits_df.head()"
   ]
  },
  {
   "cell_type": "code",
   "execution_count": 34,
   "id": "57fb7e4d",
   "metadata": {},
   "outputs": [
    {
     "name": "stdout",
     "output_type": "stream",
     "text": [
      "<class 'pandas.core.frame.DataFrame'>\n",
      "RangeIndex: 62 entries, 0 to 61\n",
      "Data columns (total 3 columns):\n",
      " #   Column  Non-Null Count  Dtype         \n",
      "---  ------  --------------  -----         \n",
      " 0   date    62 non-null     datetime64[ns]\n",
      " 1   group   62 non-null     object        \n",
      " 2   visits  62 non-null     int64         \n",
      "dtypes: datetime64[ns](1), int64(1), object(1)\n",
      "memory usage: 1.6+ KB\n"
     ]
    }
   ],
   "source": [
    "visits_df.info()"
   ]
  },
  {
   "cell_type": "code",
   "execution_count": 35,
   "id": "d878a5ec",
   "metadata": {},
   "outputs": [
    {
     "data": {
      "text/html": [
       "<div>\n",
       "<style scoped>\n",
       "    .dataframe tbody tr th:only-of-type {\n",
       "        vertical-align: middle;\n",
       "    }\n",
       "\n",
       "    .dataframe tbody tr th {\n",
       "        vertical-align: top;\n",
       "    }\n",
       "\n",
       "    .dataframe thead th {\n",
       "        text-align: right;\n",
       "    }\n",
       "</style>\n",
       "<table border=\"1\" class=\"dataframe\">\n",
       "  <thead>\n",
       "    <tr style=\"text-align: right;\">\n",
       "      <th></th>\n",
       "      <th>visits</th>\n",
       "    </tr>\n",
       "  </thead>\n",
       "  <tbody>\n",
       "    <tr>\n",
       "      <th>count</th>\n",
       "      <td>62.000000</td>\n",
       "    </tr>\n",
       "    <tr>\n",
       "      <th>mean</th>\n",
       "      <td>607.290323</td>\n",
       "    </tr>\n",
       "    <tr>\n",
       "      <th>std</th>\n",
       "      <td>114.400560</td>\n",
       "    </tr>\n",
       "    <tr>\n",
       "      <th>min</th>\n",
       "      <td>361.000000</td>\n",
       "    </tr>\n",
       "    <tr>\n",
       "      <th>25%</th>\n",
       "      <td>534.000000</td>\n",
       "    </tr>\n",
       "    <tr>\n",
       "      <th>50%</th>\n",
       "      <td>624.500000</td>\n",
       "    </tr>\n",
       "    <tr>\n",
       "      <th>75%</th>\n",
       "      <td>710.500000</td>\n",
       "    </tr>\n",
       "    <tr>\n",
       "      <th>max</th>\n",
       "      <td>770.000000</td>\n",
       "    </tr>\n",
       "  </tbody>\n",
       "</table>\n",
       "</div>"
      ],
      "text/plain": [
       "           visits\n",
       "count   62.000000\n",
       "mean   607.290323\n",
       "std    114.400560\n",
       "min    361.000000\n",
       "25%    534.000000\n",
       "50%    624.500000\n",
       "75%    710.500000\n",
       "max    770.000000"
      ]
     },
     "execution_count": 35,
     "metadata": {},
     "output_type": "execute_result"
    }
   ],
   "source": [
    "visits_df.describe()"
   ]
  },
  {
   "cell_type": "code",
   "execution_count": 36,
   "id": "1f22e44c",
   "metadata": {},
   "outputs": [
    {
     "data": {
      "text/html": [
       "<div>\n",
       "<style scoped>\n",
       "    .dataframe tbody tr th:only-of-type {\n",
       "        vertical-align: middle;\n",
       "    }\n",
       "\n",
       "    .dataframe tbody tr th {\n",
       "        vertical-align: top;\n",
       "    }\n",
       "\n",
       "    .dataframe thead th {\n",
       "        text-align: right;\n",
       "    }\n",
       "</style>\n",
       "<table border=\"1\" class=\"dataframe\">\n",
       "  <thead>\n",
       "    <tr style=\"text-align: right;\">\n",
       "      <th></th>\n",
       "      <th>date</th>\n",
       "    </tr>\n",
       "  </thead>\n",
       "  <tbody>\n",
       "    <tr>\n",
       "      <th>count</th>\n",
       "      <td>62</td>\n",
       "    </tr>\n",
       "    <tr>\n",
       "      <th>mean</th>\n",
       "      <td>2019-08-16 00:00:00</td>\n",
       "    </tr>\n",
       "    <tr>\n",
       "      <th>min</th>\n",
       "      <td>2019-08-01 00:00:00</td>\n",
       "    </tr>\n",
       "    <tr>\n",
       "      <th>25%</th>\n",
       "      <td>2019-08-08 06:00:00</td>\n",
       "    </tr>\n",
       "    <tr>\n",
       "      <th>50%</th>\n",
       "      <td>2019-08-16 00:00:00</td>\n",
       "    </tr>\n",
       "    <tr>\n",
       "      <th>75%</th>\n",
       "      <td>2019-08-23 18:00:00</td>\n",
       "    </tr>\n",
       "    <tr>\n",
       "      <th>max</th>\n",
       "      <td>2019-08-31 00:00:00</td>\n",
       "    </tr>\n",
       "  </tbody>\n",
       "</table>\n",
       "</div>"
      ],
      "text/plain": [
       "                      date\n",
       "count                   62\n",
       "mean   2019-08-16 00:00:00\n",
       "min    2019-08-01 00:00:00\n",
       "25%    2019-08-08 06:00:00\n",
       "50%    2019-08-16 00:00:00\n",
       "75%    2019-08-23 18:00:00\n",
       "max    2019-08-31 00:00:00"
      ]
     },
     "execution_count": 36,
     "metadata": {},
     "output_type": "execute_result"
    }
   ],
   "source": [
    "visits_df.describe(include='datetime', datetime_is_numeric=True)"
   ]
  },
  {
   "cell_type": "code",
   "execution_count": 37,
   "id": "0f9246fe",
   "metadata": {},
   "outputs": [
    {
     "name": "stdout",
     "output_type": "stream",
     "text": [
      " dataframe has no missing values or duplicates.\n"
     ]
    }
   ],
   "source": [
    "report(visits_df)"
   ]
  },
  {
   "cell_type": "markdown",
   "id": "96b76710",
   "metadata": {},
   "source": [
    "Looking for duplicated values, without the 'visits' property:"
   ]
  },
  {
   "cell_type": "code",
   "execution_count": 38,
   "id": "4658acee",
   "metadata": {
    "scrolled": true
   },
   "outputs": [
    {
     "data": {
      "text/plain": [
       "0"
      ]
     },
     "execution_count": 38,
     "metadata": {},
     "output_type": "execute_result"
    }
   ],
   "source": [
    "visits_df[['date', 'group']].duplicated().sum()"
   ]
  },
  {
   "cell_type": "markdown",
   "id": "e1cd9aae",
   "metadata": {},
   "source": [
    "Checking for entries' count of each group:"
   ]
  },
  {
   "cell_type": "code",
   "execution_count": 39,
   "id": "1030e05a",
   "metadata": {},
   "outputs": [
    {
     "data": {
      "text/html": [
       "<div>\n",
       "<style scoped>\n",
       "    .dataframe tbody tr th:only-of-type {\n",
       "        vertical-align: middle;\n",
       "    }\n",
       "\n",
       "    .dataframe tbody tr th {\n",
       "        vertical-align: top;\n",
       "    }\n",
       "\n",
       "    .dataframe thead th {\n",
       "        text-align: right;\n",
       "    }\n",
       "</style>\n",
       "<table border=\"1\" class=\"dataframe\">\n",
       "  <thead>\n",
       "    <tr style=\"text-align: right;\">\n",
       "      <th></th>\n",
       "      <th>date</th>\n",
       "    </tr>\n",
       "    <tr>\n",
       "      <th>group</th>\n",
       "      <th></th>\n",
       "    </tr>\n",
       "  </thead>\n",
       "  <tbody>\n",
       "    <tr>\n",
       "      <th>A</th>\n",
       "      <td>31</td>\n",
       "    </tr>\n",
       "    <tr>\n",
       "      <th>B</th>\n",
       "      <td>31</td>\n",
       "    </tr>\n",
       "  </tbody>\n",
       "</table>\n",
       "</div>"
      ],
      "text/plain": [
       "       date\n",
       "group      \n",
       "A        31\n",
       "B        31"
      ]
     },
     "execution_count": 39,
     "metadata": {},
     "output_type": "execute_result"
    }
   ],
   "source": [
    "visits_df.groupby('group').agg({'date': 'count'})"
   ]
  },
  {
   "cell_type": "code",
   "execution_count": 40,
   "id": "39cd857f",
   "metadata": {},
   "outputs": [],
   "source": [
    "visits = visits_df\n",
    "del visits_df"
   ]
  },
  {
   "cell_type": "markdown",
   "id": "6411d1ad",
   "metadata": {},
   "source": [
    "<div style=\"border:solid green 2px; padding: 20px\"> <b>Success:</b><br>\n",
    "Great, we've looked at the general information about our data. Let's move on.</div>      "
   ]
  },
  {
   "cell_type": "markdown",
   "id": "389d0a50",
   "metadata": {},
   "source": [
    "<s><div style=\"border:solid red 2px; padding: 20px\"> <b>Needs fixing:</b><br>\n",
    "   Please leave more comments on your code and don't forget to write your conclusions.This is important because the conclusion is often the basis for judging the quality of the work as a whole.</div>"
   ]
  },
  {
   "cell_type": "markdown",
   "id": "451de6b1",
   "metadata": {},
   "source": [
    "<div class=\"alert alert-info\" style=\"border:solid blue 2px; padding: 20px\"> <b>Student comment v.1:</b> <br />\n",
    "    Update below.\n",
    "</div>"
   ]
  },
  {
   "cell_type": "markdown",
   "id": "4e9c371b",
   "metadata": {},
   "source": [
    "Visits dataset was imported successfully.  \n",
    "It contains a count of sum of daily visits, split by groups (A / B), spread over a single month (August 2019).  \n",
    "Both groups have 31 entries, 1 for each day of the month.  \n",
    "There are no missing values, nor duplicates."
   ]
  },
  {
   "cell_type": "markdown",
   "id": "f2d1756a",
   "metadata": {},
   "source": [
    "<div style=\"border:solid green 2px; padding: 20px\"> <b>Success V2:</b><br>\n",
    "    Thanks :)</div>    "
   ]
  },
  {
   "cell_type": "markdown",
   "id": "d66208ac",
   "metadata": {},
   "source": [
    "### Compare\n",
    "***\n",
    "[up](#AB_test_preprocess)"
   ]
  },
  {
   "cell_type": "code",
   "execution_count": 41,
   "id": "cc69d3ad",
   "metadata": {
    "scrolled": true
   },
   "outputs": [
    {
     "data": {
      "text/html": [
       "<div>\n",
       "<style scoped>\n",
       "    .dataframe tbody tr th:only-of-type {\n",
       "        vertical-align: middle;\n",
       "    }\n",
       "\n",
       "    .dataframe tbody tr th {\n",
       "        vertical-align: top;\n",
       "    }\n",
       "\n",
       "    .dataframe thead th {\n",
       "        text-align: right;\n",
       "    }\n",
       "</style>\n",
       "<table border=\"1\" class=\"dataframe\">\n",
       "  <thead>\n",
       "    <tr style=\"text-align: right;\">\n",
       "      <th></th>\n",
       "      <th>date</th>\n",
       "      <th>date</th>\n",
       "    </tr>\n",
       "  </thead>\n",
       "  <tbody>\n",
       "    <tr>\n",
       "      <th>count</th>\n",
       "      <td>1016</td>\n",
       "      <td>62</td>\n",
       "    </tr>\n",
       "    <tr>\n",
       "      <th>mean</th>\n",
       "      <td>2019-08-15 07:47:42.992125952</td>\n",
       "      <td>2019-08-16 00:00:00</td>\n",
       "    </tr>\n",
       "    <tr>\n",
       "      <th>min</th>\n",
       "      <td>2019-08-01 00:00:00</td>\n",
       "      <td>2019-08-01 00:00:00</td>\n",
       "    </tr>\n",
       "    <tr>\n",
       "      <th>25%</th>\n",
       "      <td>2019-08-07 00:00:00</td>\n",
       "      <td>2019-08-08 06:00:00</td>\n",
       "    </tr>\n",
       "    <tr>\n",
       "      <th>50%</th>\n",
       "      <td>2019-08-15 00:00:00</td>\n",
       "      <td>2019-08-16 00:00:00</td>\n",
       "    </tr>\n",
       "    <tr>\n",
       "      <th>75%</th>\n",
       "      <td>2019-08-23 00:00:00</td>\n",
       "      <td>2019-08-23 18:00:00</td>\n",
       "    </tr>\n",
       "    <tr>\n",
       "      <th>max</th>\n",
       "      <td>2019-08-31 00:00:00</td>\n",
       "      <td>2019-08-31 00:00:00</td>\n",
       "    </tr>\n",
       "  </tbody>\n",
       "</table>\n",
       "</div>"
      ],
      "text/plain": [
       "                                date                 date\n",
       "count                           1016                   62\n",
       "mean   2019-08-15 07:47:42.992125952  2019-08-16 00:00:00\n",
       "min              2019-08-01 00:00:00  2019-08-01 00:00:00\n",
       "25%              2019-08-07 00:00:00  2019-08-08 06:00:00\n",
       "50%              2019-08-15 00:00:00  2019-08-16 00:00:00\n",
       "75%              2019-08-23 00:00:00  2019-08-23 18:00:00\n",
       "max              2019-08-31 00:00:00  2019-08-31 00:00:00"
      ]
     },
     "metadata": {},
     "output_type": "display_data"
    },
    {
     "data": {
      "text/markdown": [
       "Do the dates coincide? True"
      ],
      "text/plain": [
       "<IPython.core.display.Markdown object>"
      ]
     },
     "metadata": {},
     "output_type": "display_data"
    }
   ],
   "source": [
    "orders_min_max = orders.describe(include='datetime', datetime_is_numeric=True)\n",
    "visits_min_max = visits.describe(include='datetime', datetime_is_numeric=True)\n",
    "are_dates_matching = (\n",
    "    orders_min_max.loc['min'][0] == visits_min_max.loc['min'][0] \n",
    "        and orders_min_max.loc['max'][0] == visits_min_max.loc['max'][0])\n",
    "display(\n",
    "    pd.concat([orders_min_max, visits_min_max], axis=1),\n",
    "    Markdown(f'Do the dates coincide? {are_dates_matching}'))"
   ]
  },
  {
   "cell_type": "markdown",
   "id": "f36dca27",
   "metadata": {},
   "source": [
    "both 'orders' dates and 'visits' dates match, we can continue to the analysis of the data."
   ]
  },
  {
   "cell_type": "markdown",
   "id": "78cf60e5",
   "metadata": {},
   "source": [
    "## Analysis\n",
    "***\n",
    "[up](#A/B-Test-Analysis)\n",
    "\n",
    "- [Aggregate data](#Aggregate-data)\n",
    "- [Group cumulative revenue](#Group-cumulative-revenue)\n",
    "- [Group cumulative avg. order size](#Group-cumulative-avg.-order-size)\n",
    "- [Group cumulative avg. order size - relative difference](#Group-cumulative-avg.-order-size---relative-difference)\n",
    "- [Group cumulative conversion ratio](#Group-cumulative-conversion-ratio)\n",
    "- [Orders per user](#Orders-per-user)\n",
    "- [Orders per user - percentiles](#Orders-per-user---percentiles)\n",
    "- [Orders prices](#Orders-prices)\n",
    "- [Orders prices - percentiles](#Orders-prices---percentiles)\n",
    "- [Group conversion - raw data statistical significance](#Group-conversion---raw-data-statistical-significance)\n",
    "- [Group avg. order size - raw data statistical significance](#Group-avg.-order-size---raw-data-statistical-significance)\n",
    "- [Group conversion - filtered data statistical significance](#Group-conversion---filtered-data-statistical-significance)\n",
    "- [Group avg. order size - filtered data statistical significance](#Group-avg.-order-size---filtered-data-statistical-significance)\n",
    "- [Test continuation](#Test-continuation)"
   ]
  },
  {
   "cell_type": "code",
   "execution_count": 42,
   "id": "63452018",
   "metadata": {},
   "outputs": [],
   "source": [
    "def select_group(df, group):\n",
    "    \"\"\"Returns a filtered dataframe, based on 'group' property\"\"\"\n",
    "    \n",
    "    return df[df['group'] == group]"
   ]
  },
  {
   "cell_type": "code",
   "execution_count": 43,
   "id": "93bba22c",
   "metadata": {},
   "outputs": [],
   "source": [
    "def count_ratio(df, col):\n",
    "    \"\"\"Returns an improved 'value_counts()' dataframe, specifying ratio\"\"\"\n",
    "    \n",
    "    return pd.concat([\n",
    "        df.value_counts(col).rename('count'),\n",
    "        df.value_counts(col, normalize=True).round(2).rename('ratio')\n",
    "    ], axis=1)"
   ]
  },
  {
   "cell_type": "markdown",
   "id": "abd48523",
   "metadata": {},
   "source": [
    "### Aggregate data\n",
    "***\n",
    "[up](#Analysis)"
   ]
  },
  {
   "cell_type": "markdown",
   "id": "826184fb",
   "metadata": {},
   "source": [
    "To answer the first few questions of this section,  \n",
    "we will have combine the raw data obtained,  \n",
    "and cumulatively calculate the revenue from orders and user visits, on a daily basis."
   ]
  },
  {
   "cell_type": "code",
   "execution_count": 44,
   "id": "b0810dc5",
   "metadata": {},
   "outputs": [
    {
     "data": {
      "text/html": [
       "<div>\n",
       "<style scoped>\n",
       "    .dataframe tbody tr th:only-of-type {\n",
       "        vertical-align: middle;\n",
       "    }\n",
       "\n",
       "    .dataframe tbody tr th {\n",
       "        vertical-align: top;\n",
       "    }\n",
       "\n",
       "    .dataframe thead th {\n",
       "        text-align: right;\n",
       "    }\n",
       "</style>\n",
       "<table border=\"1\" class=\"dataframe\">\n",
       "  <thead>\n",
       "    <tr style=\"text-align: right;\">\n",
       "      <th></th>\n",
       "      <th>transactionId</th>\n",
       "      <th>visitorId</th>\n",
       "      <th>date</th>\n",
       "      <th>revenue</th>\n",
       "      <th>group</th>\n",
       "    </tr>\n",
       "  </thead>\n",
       "  <tbody>\n",
       "    <tr>\n",
       "      <th>309</th>\n",
       "      <td>2727336513</td>\n",
       "      <td>2629148010</td>\n",
       "      <td>2019-08-19</td>\n",
       "      <td>45.4</td>\n",
       "      <td>A</td>\n",
       "    </tr>\n",
       "  </tbody>\n",
       "</table>\n",
       "</div>"
      ],
      "text/plain": [
       "     transactionId   visitorId       date  revenue group\n",
       "309     2727336513  2629148010 2019-08-19     45.4     A"
      ]
     },
     "execution_count": 44,
     "metadata": {},
     "output_type": "execute_result"
    }
   ],
   "source": [
    "orders.sample()"
   ]
  },
  {
   "cell_type": "code",
   "execution_count": 45,
   "id": "61ec91bb",
   "metadata": {},
   "outputs": [
    {
     "data": {
      "text/html": [
       "<div>\n",
       "<style scoped>\n",
       "    .dataframe tbody tr th:only-of-type {\n",
       "        vertical-align: middle;\n",
       "    }\n",
       "\n",
       "    .dataframe tbody tr th {\n",
       "        vertical-align: top;\n",
       "    }\n",
       "\n",
       "    .dataframe thead th {\n",
       "        text-align: right;\n",
       "    }\n",
       "</style>\n",
       "<table border=\"1\" class=\"dataframe\">\n",
       "  <thead>\n",
       "    <tr style=\"text-align: right;\">\n",
       "      <th></th>\n",
       "      <th>date</th>\n",
       "      <th>group</th>\n",
       "      <th>visits</th>\n",
       "    </tr>\n",
       "  </thead>\n",
       "  <tbody>\n",
       "    <tr>\n",
       "      <th>38</th>\n",
       "      <td>2019-08-08</td>\n",
       "      <td>B</td>\n",
       "      <td>654</td>\n",
       "    </tr>\n",
       "  </tbody>\n",
       "</table>\n",
       "</div>"
      ],
      "text/plain": [
       "         date group  visits\n",
       "38 2019-08-08     B     654"
      ]
     },
     "execution_count": 45,
     "metadata": {},
     "output_type": "execute_result"
    }
   ],
   "source": [
    "visits.sample()"
   ]
  },
  {
   "cell_type": "markdown",
   "id": "0bf4cc76",
   "metadata": {},
   "source": [
    "First we create a list of date and group values,  \n",
    "and then we will aggregate and merge values on this base dataframe."
   ]
  },
  {
   "cell_type": "code",
   "execution_count": 46,
   "id": "eb2a12ed",
   "metadata": {},
   "outputs": [
    {
     "data": {
      "text/html": [
       "<div>\n",
       "<style scoped>\n",
       "    .dataframe tbody tr th:only-of-type {\n",
       "        vertical-align: middle;\n",
       "    }\n",
       "\n",
       "    .dataframe tbody tr th {\n",
       "        vertical-align: top;\n",
       "    }\n",
       "\n",
       "    .dataframe thead th {\n",
       "        text-align: right;\n",
       "    }\n",
       "</style>\n",
       "<table border=\"1\" class=\"dataframe\">\n",
       "  <thead>\n",
       "    <tr style=\"text-align: right;\">\n",
       "      <th></th>\n",
       "      <th>date</th>\n",
       "      <th>group</th>\n",
       "    </tr>\n",
       "  </thead>\n",
       "  <tbody>\n",
       "    <tr>\n",
       "      <th>0</th>\n",
       "      <td>2019-08-01</td>\n",
       "      <td>A</td>\n",
       "    </tr>\n",
       "    <tr>\n",
       "      <th>1</th>\n",
       "      <td>2019-08-01</td>\n",
       "      <td>B</td>\n",
       "    </tr>\n",
       "    <tr>\n",
       "      <th>2</th>\n",
       "      <td>2019-08-02</td>\n",
       "      <td>A</td>\n",
       "    </tr>\n",
       "    <tr>\n",
       "      <th>3</th>\n",
       "      <td>2019-08-02</td>\n",
       "      <td>B</td>\n",
       "    </tr>\n",
       "    <tr>\n",
       "      <th>4</th>\n",
       "      <td>2019-08-03</td>\n",
       "      <td>B</td>\n",
       "    </tr>\n",
       "  </tbody>\n",
       "</table>\n",
       "</div>"
      ],
      "text/plain": [
       "        date group\n",
       "0 2019-08-01     A\n",
       "1 2019-08-01     B\n",
       "2 2019-08-02     A\n",
       "3 2019-08-02     B\n",
       "4 2019-08-03     B"
      ]
     },
     "execution_count": 46,
     "metadata": {},
     "output_type": "execute_result"
    }
   ],
   "source": [
    "dates_groups = orders[['date','group']].drop_duplicates().sort_values('date').reset_index(drop=True)\n",
    "dates_groups.head()"
   ]
  },
  {
   "cell_type": "markdown",
   "id": "52ce529f",
   "metadata": {},
   "source": [
    "Creating a cumulative orders dataframe, on a daily basis,  \n",
    "counting unique orders and users, and summing up purchase size."
   ]
  },
  {
   "cell_type": "code",
   "execution_count": 47,
   "id": "82b0bfdc",
   "metadata": {},
   "outputs": [
    {
     "data": {
      "text/html": [
       "<div>\n",
       "<style scoped>\n",
       "    .dataframe tbody tr th:only-of-type {\n",
       "        vertical-align: middle;\n",
       "    }\n",
       "\n",
       "    .dataframe tbody tr th {\n",
       "        vertical-align: top;\n",
       "    }\n",
       "\n",
       "    .dataframe thead th {\n",
       "        text-align: right;\n",
       "    }\n",
       "</style>\n",
       "<table border=\"1\" class=\"dataframe\">\n",
       "  <thead>\n",
       "    <tr style=\"text-align: right;\">\n",
       "      <th></th>\n",
       "      <th>date</th>\n",
       "      <th>group</th>\n",
       "      <th>orders</th>\n",
       "      <th>buyers</th>\n",
       "      <th>revenue</th>\n",
       "    </tr>\n",
       "  </thead>\n",
       "  <tbody>\n",
       "    <tr>\n",
       "      <th>0</th>\n",
       "      <td>2019-08-01</td>\n",
       "      <td>A</td>\n",
       "      <td>23</td>\n",
       "      <td>19</td>\n",
       "      <td>2266.6</td>\n",
       "    </tr>\n",
       "    <tr>\n",
       "      <th>1</th>\n",
       "      <td>2019-08-01</td>\n",
       "      <td>B</td>\n",
       "      <td>17</td>\n",
       "      <td>17</td>\n",
       "      <td>967.2</td>\n",
       "    </tr>\n",
       "    <tr>\n",
       "      <th>2</th>\n",
       "      <td>2019-08-02</td>\n",
       "      <td>A</td>\n",
       "      <td>42</td>\n",
       "      <td>36</td>\n",
       "      <td>3734.9</td>\n",
       "    </tr>\n",
       "  </tbody>\n",
       "</table>\n",
       "</div>"
      ],
      "text/plain": [
       "        date group  orders  buyers  revenue\n",
       "0 2019-08-01     A      23      19   2266.6\n",
       "1 2019-08-01     B      17      17    967.2\n",
       "2 2019-08-02     A      42      36   3734.9"
      ]
     },
     "execution_count": 47,
     "metadata": {},
     "output_type": "execute_result"
    }
   ],
   "source": [
    "orders_aggregated = dates_groups.apply(\n",
    "    lambda x: orders[(orders['date'] <= x['date']) & (orders['group'] == x['group'])].agg({\n",
    "        'date' : 'max', \n",
    "        'group' : 'max', \n",
    "        'transactionId' : 'nunique', \n",
    "        'visitorId' : 'nunique', \n",
    "        'revenue' : 'sum'\n",
    "    }), axis=1).sort_values(by=['date','group'])\n",
    "orders_aggregated.columns = ['date', 'group', 'orders', 'buyers', 'revenue']\n",
    "orders_aggregated.head(3)"
   ]
  },
  {
   "cell_type": "markdown",
   "id": "d0ab5e84",
   "metadata": {},
   "source": [
    "Creating a cumulative visits dataframe, on a daily basis,  \n",
    "summing up total number of visits per day."
   ]
  },
  {
   "cell_type": "code",
   "execution_count": 48,
   "id": "8c7e8a36",
   "metadata": {},
   "outputs": [
    {
     "data": {
      "text/html": [
       "<div>\n",
       "<style scoped>\n",
       "    .dataframe tbody tr th:only-of-type {\n",
       "        vertical-align: middle;\n",
       "    }\n",
       "\n",
       "    .dataframe tbody tr th {\n",
       "        vertical-align: top;\n",
       "    }\n",
       "\n",
       "    .dataframe thead th {\n",
       "        text-align: right;\n",
       "    }\n",
       "</style>\n",
       "<table border=\"1\" class=\"dataframe\">\n",
       "  <thead>\n",
       "    <tr style=\"text-align: right;\">\n",
       "      <th></th>\n",
       "      <th>date</th>\n",
       "      <th>group</th>\n",
       "      <th>visits</th>\n",
       "    </tr>\n",
       "  </thead>\n",
       "  <tbody>\n",
       "    <tr>\n",
       "      <th>0</th>\n",
       "      <td>2019-08-01</td>\n",
       "      <td>A</td>\n",
       "      <td>719</td>\n",
       "    </tr>\n",
       "    <tr>\n",
       "      <th>1</th>\n",
       "      <td>2019-08-01</td>\n",
       "      <td>B</td>\n",
       "      <td>713</td>\n",
       "    </tr>\n",
       "    <tr>\n",
       "      <th>2</th>\n",
       "      <td>2019-08-02</td>\n",
       "      <td>A</td>\n",
       "      <td>1338</td>\n",
       "    </tr>\n",
       "  </tbody>\n",
       "</table>\n",
       "</div>"
      ],
      "text/plain": [
       "        date group  visits\n",
       "0 2019-08-01     A     719\n",
       "1 2019-08-01     B     713\n",
       "2 2019-08-02     A    1338"
      ]
     },
     "execution_count": 48,
     "metadata": {},
     "output_type": "execute_result"
    }
   ],
   "source": [
    "visits_aggregated = dates_groups.apply(\n",
    "    lambda x: visits[(visits['date'] <= x['date']) & (visits['group'] == x['group'])].agg({\n",
    "        'date' : 'max',\n",
    "        'group' : 'max',\n",
    "        'visits' : 'sum'}),\n",
    "    axis=1).sort_values(by=['date','group'])\n",
    "visits_aggregated.head(3)"
   ]
  },
  {
   "cell_type": "markdown",
   "id": "a7c00a40",
   "metadata": {},
   "source": [
    "Merging previously created cumulative dataframes, into a single dataframe."
   ]
  },
  {
   "cell_type": "code",
   "execution_count": 49,
   "id": "175c4e12",
   "metadata": {},
   "outputs": [
    {
     "data": {
      "text/html": [
       "<div>\n",
       "<style scoped>\n",
       "    .dataframe tbody tr th:only-of-type {\n",
       "        vertical-align: middle;\n",
       "    }\n",
       "\n",
       "    .dataframe tbody tr th {\n",
       "        vertical-align: top;\n",
       "    }\n",
       "\n",
       "    .dataframe thead th {\n",
       "        text-align: right;\n",
       "    }\n",
       "</style>\n",
       "<table border=\"1\" class=\"dataframe\">\n",
       "  <thead>\n",
       "    <tr style=\"text-align: right;\">\n",
       "      <th></th>\n",
       "      <th>date</th>\n",
       "      <th>group</th>\n",
       "      <th>orders</th>\n",
       "      <th>buyers</th>\n",
       "      <th>revenue</th>\n",
       "      <th>visits</th>\n",
       "    </tr>\n",
       "  </thead>\n",
       "  <tbody>\n",
       "    <tr>\n",
       "      <th>0</th>\n",
       "      <td>2019-08-01</td>\n",
       "      <td>A</td>\n",
       "      <td>23</td>\n",
       "      <td>19</td>\n",
       "      <td>2266.6</td>\n",
       "      <td>719</td>\n",
       "    </tr>\n",
       "    <tr>\n",
       "      <th>1</th>\n",
       "      <td>2019-08-01</td>\n",
       "      <td>B</td>\n",
       "      <td>17</td>\n",
       "      <td>17</td>\n",
       "      <td>967.2</td>\n",
       "      <td>713</td>\n",
       "    </tr>\n",
       "    <tr>\n",
       "      <th>2</th>\n",
       "      <td>2019-08-02</td>\n",
       "      <td>A</td>\n",
       "      <td>42</td>\n",
       "      <td>36</td>\n",
       "      <td>3734.9</td>\n",
       "      <td>1338</td>\n",
       "    </tr>\n",
       "    <tr>\n",
       "      <th>3</th>\n",
       "      <td>2019-08-02</td>\n",
       "      <td>B</td>\n",
       "      <td>40</td>\n",
       "      <td>39</td>\n",
       "      <td>3535.3</td>\n",
       "      <td>1294</td>\n",
       "    </tr>\n",
       "    <tr>\n",
       "      <th>4</th>\n",
       "      <td>2019-08-03</td>\n",
       "      <td>A</td>\n",
       "      <td>66</td>\n",
       "      <td>60</td>\n",
       "      <td>5550.1</td>\n",
       "      <td>1845</td>\n",
       "    </tr>\n",
       "  </tbody>\n",
       "</table>\n",
       "</div>"
      ],
      "text/plain": [
       "        date group  orders  buyers  revenue  visits\n",
       "0 2019-08-01     A      23      19   2266.6     719\n",
       "1 2019-08-01     B      17      17    967.2     713\n",
       "2 2019-08-02     A      42      36   3734.9    1338\n",
       "3 2019-08-02     B      40      39   3535.3    1294\n",
       "4 2019-08-03     A      66      60   5550.1    1845"
      ]
     },
     "execution_count": 49,
     "metadata": {},
     "output_type": "execute_result"
    }
   ],
   "source": [
    "cumulative_data = orders_aggregated.merge(visits_aggregated, on=['date', 'group'])\n",
    "cumulative_data.head()"
   ]
  },
  {
   "cell_type": "markdown",
   "id": "8080a15d",
   "metadata": {},
   "source": [
    "<div style=\"border:solid green 2px; padding: 20px\"> <b>Success:</b><br>\n",
    "   Good job! We aggregated our data correctly in order to then plot the graphs 👍 </div>       "
   ]
  },
  {
   "cell_type": "markdown",
   "id": "39544ee8",
   "metadata": {},
   "source": [
    "<s><div style=\"border:solid red 2px; padding: 20px\"> <b>Needs fixing:</b><br>\n",
    "Please don't forget to comment your code. Could you please explain here what steps you take, what data you aggregate and for what purpose.</div>"
   ]
  },
  {
   "cell_type": "markdown",
   "id": "222ec799",
   "metadata": {},
   "source": [
    "<div class=\"alert alert-info\" style=\"border:solid blue 2px; padding: 20px\"> <b>Student comment v.1:</b> <br />\n",
    "    Added a general outline, and explanations on each action taken.\n",
    "</div>"
   ]
  },
  {
   "cell_type": "markdown",
   "id": "d04de783",
   "metadata": {},
   "source": [
    "<div style=\"border:solid green 2px; padding: 20px\"> <b>Success V2:</b><br>\n",
    "    Thank you for the explanations :)</div>     "
   ]
  },
  {
   "cell_type": "markdown",
   "id": "620baabd",
   "metadata": {},
   "source": [
    "### Group cumulative revenue\n",
    "***\n",
    "[up](#Analysis)\n",
    "\n",
    "Graph cumulative revenue by group.  \n",
    "Make conclusions and conjectures."
   ]
  },
  {
   "cell_type": "code",
   "execution_count": 50,
   "id": "17a350cb",
   "metadata": {},
   "outputs": [],
   "source": [
    "cumulative_revenue_A = select_group(cumulative_data, 'A')[['date', 'revenue', 'orders']]\n",
    "cumulative_revenue_B = select_group(cumulative_data, 'B')[['date', 'revenue', 'orders']]"
   ]
  },
  {
   "cell_type": "code",
   "execution_count": 51,
   "id": "16101944",
   "metadata": {},
   "outputs": [
    {
     "data": {
      "image/png": "[encoded data removed]",
      "text/plain": [
       "<Figure size 936x504 with 1 Axes>"
      ]
     },
     "metadata": {
      "needs_background": "light"
     },
     "output_type": "display_data"
    }
   ],
   "source": [
    "plt.plot(cumulative_revenue_A['date'], cumulative_revenue_A['revenue'], label='A')\n",
    "plt.plot(cumulative_revenue_B['date'], cumulative_revenue_B['revenue'], label='B')\n",
    "plt.legend()\n",
    "plt.margins(x=0)\n",
    "plt.title('Cumulative revenue by group')\n",
    "plt.xlabel('date')\n",
    "plt.ylabel('revenue')\n",
    "plt.grid()\n",
    "plt.show();"
   ]
  },
  {
   "cell_type": "markdown",
   "id": "4f60a48b",
   "metadata": {},
   "source": [
    "Revenue is rising steadily.  \n",
    "Both groups have spikes, with group B being more apparent.  \n",
    "This might hint at either a surge in the number of orders, or a few but very expensive purchases.  \n",
    "Group B is doing better."
   ]
  },
  {
   "cell_type": "markdown",
   "id": "b4dfd663",
   "metadata": {},
   "source": [
    "<div style=\"border:solid green 2px; padding: 20px\"> <b>Success:</b><br>\n",
    "That's a great assumption.</div>   "
   ]
  },
  {
   "cell_type": "markdown",
   "id": "a5a49879",
   "metadata": {},
   "source": [
    "### Group cumulative avg. order size\n",
    "***\n",
    "[up](#Analysis)\n",
    "\n",
    "Graph cumulative average order size by group.  \n",
    "Make conclusions and conjectures."
   ]
  },
  {
   "cell_type": "code",
   "execution_count": 52,
   "id": "ba227243",
   "metadata": {},
   "outputs": [
    {
     "data": {
      "image/png": "[encoded data removed]",
      "text/plain": [
       "<Figure size 936x504 with 1 Axes>"
      ]
     },
     "metadata": {
      "needs_background": "light"
     },
     "output_type": "display_data"
    }
   ],
   "source": [
    "plt.plot(cumulative_revenue_A['date'], cumulative_revenue_A['revenue'] / cumulative_revenue_A['orders'], label='A')\n",
    "plt.plot(cumulative_revenue_B['date'], cumulative_revenue_B['revenue'] / cumulative_revenue_B['orders'], label='B')\n",
    "plt.legend()\n",
    "plt.margins(x=0)\n",
    "plt.title('Cumulative avg. order size by group')\n",
    "plt.xlabel('date')\n",
    "plt.ylabel('avg. size')\n",
    "plt.axis([dates_groups['date'].min(), dates_groups['date'].max(), 0, 200])\n",
    "plt.grid()\n",
    "plt.show();"
   ]
  },
  {
   "cell_type": "markdown",
   "id": "49efba7f",
   "metadata": {},
   "source": [
    "Group A becomes steady towards the end of the test.  \n",
    "There can be seen 2 large spikes for group B, might be due to a few expensive purchases.  \n",
    "After that it seems as if the graph stabilized, with Group A having a slow increase, and Group B having a slow decrease."
   ]
  },
  {
   "cell_type": "markdown",
   "id": "ab47e7fe",
   "metadata": {},
   "source": [
    "<div style=\"border:solid green 2px; padding: 20px\"> <b>Success:</b><br>\n",
    "Quite correct observations. The appearance of the graph of group B after 19.08 is the so-called \"return to the average\". It is very typical for one-time powerful emissions.</div>       "
   ]
  },
  {
   "cell_type": "markdown",
   "id": "2d199fde",
   "metadata": {},
   "source": [
    "### Group cumulative avg. order size - relative difference\n",
    "***\n",
    "[up](#Analysis)\n",
    "\n",
    "Graph the relative difference in cumulative average order size for group B compared with group A.  \n",
    "Make conclusions and conjectures."
   ]
  },
  {
   "cell_type": "code",
   "execution_count": 53,
   "id": "8b965b55",
   "metadata": {},
   "outputs": [
    {
     "data": {
      "text/html": [
       "<div>\n",
       "<style scoped>\n",
       "    .dataframe tbody tr th:only-of-type {\n",
       "        vertical-align: middle;\n",
       "    }\n",
       "\n",
       "    .dataframe tbody tr th {\n",
       "        vertical-align: top;\n",
       "    }\n",
       "\n",
       "    .dataframe thead th {\n",
       "        text-align: right;\n",
       "    }\n",
       "</style>\n",
       "<table border=\"1\" class=\"dataframe\">\n",
       "  <thead>\n",
       "    <tr style=\"text-align: right;\">\n",
       "      <th></th>\n",
       "      <th>date</th>\n",
       "      <th>revenueA</th>\n",
       "      <th>ordersA</th>\n",
       "      <th>revenueB</th>\n",
       "      <th>ordersB</th>\n",
       "    </tr>\n",
       "  </thead>\n",
       "  <tbody>\n",
       "    <tr>\n",
       "      <th>20</th>\n",
       "      <td>2019-08-21</td>\n",
       "      <td>36004.2</td>\n",
       "      <td>329</td>\n",
       "      <td>61274.4</td>\n",
       "      <td>380</td>\n",
       "    </tr>\n",
       "  </tbody>\n",
       "</table>\n",
       "</div>"
      ],
      "text/plain": [
       "         date  revenueA  ordersA  revenueB  ordersB\n",
       "20 2019-08-21   36004.2      329   61274.4      380"
      ]
     },
     "execution_count": 53,
     "metadata": {},
     "output_type": "execute_result"
    }
   ],
   "source": [
    "merged_cumulative_revenue = cumulative_revenue_A.merge(\n",
    "    cumulative_revenue_B, on='date', how='left', suffixes=['A', 'B'])\n",
    "merged_cumulative_revenue.sample()"
   ]
  },
  {
   "cell_type": "code",
   "execution_count": 54,
   "id": "3bd6faa3",
   "metadata": {},
   "outputs": [
    {
     "data": {
      "image/png": "[encoded data removed]",
      "text/plain": [
       "<Figure size 936x504 with 1 Axes>"
      ]
     },
     "metadata": {
      "needs_background": "light"
     },
     "output_type": "display_data"
    }
   ],
   "source": [
    "x = merged_cumulative_revenue['date']\n",
    "y = ((merged_cumulative_revenue['revenueB'] / merged_cumulative_revenue['ordersB'])\n",
    "    / (merged_cumulative_revenue['revenueA'] / merged_cumulative_revenue['ordersA'])) - 1\n",
    "plt.plot(x, y)\n",
    "plt.axhline(y=0, color='black', linestyle='--')\n",
    "plt.margins(x=0)\n",
    "plt.title('Cumulative avg. order size - A/B relative difference')\n",
    "plt.xlabel('date')\n",
    "plt.ylabel('rel. difference')\n",
    "plt.grid()\n",
    "plt.show();"
   ]
  },
  {
   "cell_type": "markdown",
   "id": "26f70944",
   "metadata": {},
   "source": [
    "The difference first oscillates between positive and negative, and after a spike it becomes positive again and gradually decreases.  \n",
    "The spike is indicative of a possible outlier (big purchase)."
   ]
  },
  {
   "cell_type": "markdown",
   "id": "0c827f1c",
   "metadata": {},
   "source": [
    "<div style=\"border:solid green 2px; padding: 20px\"> <b>Success:</b><br>\n",
    "  Yes, totally agree with you 👍 </div>    "
   ]
  },
  {
   "cell_type": "markdown",
   "id": "5ad5fcd0",
   "metadata": {},
   "source": [
    "### Group cumulative conversion ratio\n",
    "***\n",
    "[up](#Analysis)\n",
    "\n",
    "Calculate each group's conversion rate as the ratio of orders to the number of visits for each day.  \n",
    "Plot the daily conversion rates of the two groups and describe the difference.  \n",
    "Draw conclusions and make conjectures."
   ]
  },
  {
   "cell_type": "code",
   "execution_count": 55,
   "id": "5945aada",
   "metadata": {},
   "outputs": [],
   "source": [
    "cumulative_data['conversion'] = cumulative_data['orders'] / cumulative_data['visits']\n",
    "cumulative_data_A = select_group(cumulative_data, 'A')\n",
    "cumulative_data_B = select_group(cumulative_data, 'B')"
   ]
  },
  {
   "cell_type": "code",
   "execution_count": 56,
   "id": "649061be",
   "metadata": {},
   "outputs": [
    {
     "data": {
      "text/plain": [
       "Timestamp('2019-08-01 00:00:00')"
      ]
     },
     "execution_count": 56,
     "metadata": {},
     "output_type": "execute_result"
    }
   ],
   "source": [
    "dates_groups['date'].min()"
   ]
  },
  {
   "cell_type": "code",
   "execution_count": 57,
   "id": "82c5d1b5",
   "metadata": {},
   "outputs": [
    {
     "data": {
      "image/png": "[encoded data removed]",
      "text/plain": [
       "<Figure size 936x504 with 1 Axes>"
      ]
     },
     "metadata": {
      "needs_background": "light"
     },
     "output_type": "display_data"
    }
   ],
   "source": [
    "plt.plot(cumulative_data_A['date'], cumulative_data_A['conversion'], label='A')\n",
    "plt.plot(cumulative_data_B['date'], cumulative_data_B['conversion'], label='B')\n",
    "plt.legend()\n",
    "plt.title('Cumulative conversion ratio')\n",
    "plt.xlabel('date')\n",
    "plt.ylabel('conversion')\n",
    "plt.axis([dates_groups['date'].min(), dates_groups['date'].max(), 0, 0.04])\n",
    "plt.grid()\n",
    "plt.show();"
   ]
  },
  {
   "cell_type": "markdown",
   "id": "4b4a6b63",
   "metadata": {},
   "source": [
    "Both groups show a spike in the beginning, then a fall and then they stabilize.  \n",
    "Group B is clearly doing better."
   ]
  },
  {
   "cell_type": "markdown",
   "id": "78234fd8",
   "metadata": {},
   "source": [
    "<div style=\"border:solid green 2px; padding: 20px\"> <b>Success:</b><br>\n",
    "The chart above is a very good illustration of not jumping to conclusions before the cumulative metrics have \"stabilized\". If the business gave us only 6-7 days to do this research, the result would be highly questionable. In such a case, it would be necessary to argue to the customer that the test should be continued. After 18.08 the metrics relatively stabilized.</div>"
   ]
  },
  {
   "cell_type": "markdown",
   "id": "50032309",
   "metadata": {},
   "source": [
    "### Orders per user\n",
    "***\n",
    "[up](#Analysis)\n",
    "\n",
    "Plot a scatter chart of the number of orders per user.  \n",
    "Make conclusions and conjectures."
   ]
  },
  {
   "cell_type": "code",
   "execution_count": 58,
   "id": "077c8aee",
   "metadata": {},
   "outputs": [
    {
     "data": {
      "text/html": [
       "<div>\n",
       "<style scoped>\n",
       "    .dataframe tbody tr th:only-of-type {\n",
       "        vertical-align: middle;\n",
       "    }\n",
       "\n",
       "    .dataframe tbody tr th {\n",
       "        vertical-align: top;\n",
       "    }\n",
       "\n",
       "    .dataframe thead th {\n",
       "        text-align: right;\n",
       "    }\n",
       "</style>\n",
       "<table border=\"1\" class=\"dataframe\">\n",
       "  <thead>\n",
       "    <tr style=\"text-align: right;\">\n",
       "      <th></th>\n",
       "      <th>transactionId</th>\n",
       "      <th>visitorId</th>\n",
       "      <th>date</th>\n",
       "      <th>revenue</th>\n",
       "      <th>group</th>\n",
       "    </tr>\n",
       "  </thead>\n",
       "  <tbody>\n",
       "    <tr>\n",
       "      <th>887</th>\n",
       "      <td>383287370</td>\n",
       "      <td>407706407</td>\n",
       "      <td>2019-08-05</td>\n",
       "      <td>30.6</td>\n",
       "      <td>B</td>\n",
       "    </tr>\n",
       "  </tbody>\n",
       "</table>\n",
       "</div>"
      ],
      "text/plain": [
       "     transactionId  visitorId       date  revenue group\n",
       "887      383287370  407706407 2019-08-05     30.6     B"
      ]
     },
     "execution_count": 58,
     "metadata": {},
     "output_type": "execute_result"
    }
   ],
   "source": [
    "orders.sample()"
   ]
  },
  {
   "cell_type": "code",
   "execution_count": 59,
   "id": "d03497a0",
   "metadata": {
    "scrolled": true
   },
   "outputs": [
    {
     "data": {
      "text/html": [
       "<div>\n",
       "<style scoped>\n",
       "    .dataframe tbody tr th:only-of-type {\n",
       "        vertical-align: middle;\n",
       "    }\n",
       "\n",
       "    .dataframe tbody tr th {\n",
       "        vertical-align: top;\n",
       "    }\n",
       "\n",
       "    .dataframe thead th {\n",
       "        text-align: right;\n",
       "    }\n",
       "</style>\n",
       "<table border=\"1\" class=\"dataframe\">\n",
       "  <thead>\n",
       "    <tr style=\"text-align: right;\">\n",
       "      <th></th>\n",
       "      <th>user_id</th>\n",
       "      <th>orders</th>\n",
       "    </tr>\n",
       "  </thead>\n",
       "  <tbody>\n",
       "    <tr>\n",
       "      <th>908</th>\n",
       "      <td>3967698036</td>\n",
       "      <td>3</td>\n",
       "    </tr>\n",
       "    <tr>\n",
       "      <th>55</th>\n",
       "      <td>249864742</td>\n",
       "      <td>3</td>\n",
       "    </tr>\n",
       "    <tr>\n",
       "      <th>478</th>\n",
       "      <td>2108163459</td>\n",
       "      <td>3</td>\n",
       "    </tr>\n",
       "  </tbody>\n",
       "</table>\n",
       "</div>"
      ],
      "text/plain": [
       "        user_id  orders\n",
       "908  3967698036       3\n",
       "55    249864742       3\n",
       "478  2108163459       3"
      ]
     },
     "execution_count": 59,
     "metadata": {},
     "output_type": "execute_result"
    }
   ],
   "source": [
    "orders_by_users = (orders[['transactionId', 'visitorId']]\n",
    "                   .groupby('visitorId', as_index=False)\n",
    "                   .agg({'transactionId': 'nunique'}))\n",
    "orders_by_users.columns = ['user_id', 'orders']\n",
    "orders_by_users.sort_values(by='orders', ascending=False).head(3)"
   ]
  },
  {
   "cell_type": "code",
   "execution_count": 60,
   "id": "f55ccda4",
   "metadata": {},
   "outputs": [
    {
     "data": {
      "text/html": [
       "<div>\n",
       "<style scoped>\n",
       "    .dataframe tbody tr th:only-of-type {\n",
       "        vertical-align: middle;\n",
       "    }\n",
       "\n",
       "    .dataframe tbody tr th {\n",
       "        vertical-align: top;\n",
       "    }\n",
       "\n",
       "    .dataframe thead th {\n",
       "        text-align: right;\n",
       "    }\n",
       "</style>\n",
       "<table border=\"1\" class=\"dataframe\">\n",
       "  <thead>\n",
       "    <tr style=\"text-align: right;\">\n",
       "      <th></th>\n",
       "      <th>count</th>\n",
       "      <th>ratio</th>\n",
       "    </tr>\n",
       "    <tr>\n",
       "      <th>orders</th>\n",
       "      <th></th>\n",
       "      <th></th>\n",
       "    </tr>\n",
       "  </thead>\n",
       "  <tbody>\n",
       "    <tr>\n",
       "      <th>1</th>\n",
       "      <td>937</td>\n",
       "      <td>0.96</td>\n",
       "    </tr>\n",
       "    <tr>\n",
       "      <th>2</th>\n",
       "      <td>29</td>\n",
       "      <td>0.03</td>\n",
       "    </tr>\n",
       "    <tr>\n",
       "      <th>3</th>\n",
       "      <td>7</td>\n",
       "      <td>0.01</td>\n",
       "    </tr>\n",
       "  </tbody>\n",
       "</table>\n",
       "</div>"
      ],
      "text/plain": [
       "        count  ratio\n",
       "orders              \n",
       "1         937   0.96\n",
       "2          29   0.03\n",
       "3           7   0.01"
      ]
     },
     "execution_count": 60,
     "metadata": {},
     "output_type": "execute_result"
    }
   ],
   "source": [
    "count_ratio(orders_by_users, 'orders')"
   ]
  },
  {
   "cell_type": "code",
   "execution_count": 61,
   "id": "7d64eafd",
   "metadata": {},
   "outputs": [
    {
     "data": {
      "image/png": "[encoded data removed]",
      "text/plain": [
       "<Figure size 936x504 with 1 Axes>"
      ]
     },
     "metadata": {
      "needs_background": "light"
     },
     "output_type": "display_data"
    }
   ],
   "source": [
    "plt.scatter(range(len(orders_by_users)), orders_by_users['orders'])\n",
    "plt.title('Orders by users')\n",
    "plt.xlabel('user')\n",
    "plt.ylabel('orders')\n",
    "plt.show();"
   ]
  },
  {
   "cell_type": "markdown",
   "id": "1a8a1ee7",
   "metadata": {},
   "source": [
    "Most users (96%) placed a single order,  \n",
    "a small share (3%) placed 2 orders,  \n",
    "and just a few (1%) placed 3 orders."
   ]
  },
  {
   "cell_type": "markdown",
   "id": "2df83a5c",
   "metadata": {},
   "source": [
    "### Orders per user - percentiles\n",
    "***\n",
    "[up](#Analysis)\n",
    "\n",
    "Calculate the 95th and 99th percentiles for the number of orders per user.  \n",
    "Define the point at which a data point becomes an anomaly."
   ]
  },
  {
   "cell_type": "code",
   "execution_count": 62,
   "id": "87ec2659",
   "metadata": {},
   "outputs": [
    {
     "data": {
      "text/plain": [
       "array([1., 1., 2.])"
      ]
     },
     "metadata": {},
     "output_type": "display_data"
    }
   ],
   "source": [
    "display(np.percentile(orders_by_users['orders'], [90, 95, 99]))"
   ]
  },
  {
   "cell_type": "markdown",
   "id": "93f0c8a9",
   "metadata": {},
   "source": [
    "Not more than 1% of the users placed 2 or more orders.  \n",
    "Setting the threshold at 5% - 1 order,\n",
    "users with 2 or 3 orders can be considered outliers."
   ]
  },
  {
   "cell_type": "markdown",
   "id": "2d000148",
   "metadata": {},
   "source": [
    "<div style=\"border:solid green 2px; padding: 20px\"> <b>Success:</b><br>\n",
    "Great, the outliers are detected. Thank you for the in-depth analysis.</div>       "
   ]
  },
  {
   "cell_type": "markdown",
   "id": "34fa1b8d",
   "metadata": {},
   "source": [
    "### Orders prices\n",
    "***\n",
    "[up](#Analysis)\n",
    "\n",
    "Plot a scatter chart of order prices.  \n",
    "Make conclusions and conjectures."
   ]
  },
  {
   "cell_type": "code",
   "execution_count": 63,
   "id": "04d3cb55",
   "metadata": {},
   "outputs": [],
   "source": [
    "# leaving this in place as documentation\n",
    "\n",
    "# plt.scatter(range(len(orders)), orders['revenue'])\n",
    "# plt.margins(x=0)\n",
    "# plt.title('Orders prices')\n",
    "# plt.xlabel('order')\n",
    "# plt.ylabel('price')\n",
    "# plt.show();\n",
    "\n",
    "# plt.scatter(range(len(orders)), orders['revenue'])\n",
    "# plt.ylim((0, 1500))\n",
    "# plt.margins(x=0)\n",
    "# plt.title('Orders prices')\n",
    "# plt.xlabel('order')\n",
    "# plt.ylabel('price')\n",
    "# plt.show();"
   ]
  },
  {
   "cell_type": "code",
   "execution_count": 64,
   "id": "b0a96bca",
   "metadata": {},
   "outputs": [
    {
     "data": {
      "image/png": "[encoded data removed]",
      "text/plain": [
       "<Figure size 936x504 with 2 Axes>"
      ]
     },
     "metadata": {
      "needs_background": "light"
     },
     "output_type": "display_data"
    }
   ],
   "source": [
    "plt.subplot(211)\n",
    "plt.scatter(range(len(orders)), orders['revenue'])\n",
    "plt.margins(x=0)\n",
    "plt.title('Orders prices')\n",
    "plt.xlabel('order')\n",
    "plt.ylabel('price')\n",
    "\n",
    "plt.subplot(212)\n",
    "sns.scatterplot(x=range(len(orders)), y=orders['revenue'], data=orders, hue='group', hue_order=['A', 'B'])\n",
    "plt.ylim((0, 1500))\n",
    "plt.margins(x=0)\n",
    "# plt.title('Orders prices')\n",
    "# plt.xlabel('order')\n",
    "# plt.ylabel('price')\n",
    "\n",
    "plt.tight_layout()\n",
    "plt.show();"
   ]
  },
  {
   "cell_type": "markdown",
   "id": "15af0248",
   "metadata": {},
   "source": [
    "There is an obvious outlier (very expensive order priced at ~20,000).  \n",
    "There are several orders above the average price, while most of the orders are below 500.  \n",
    "The amount from each group looks equally distributed."
   ]
  },
  {
   "cell_type": "markdown",
   "id": "a301f2dd",
   "metadata": {},
   "source": [
    "<div style=\"border:solid green 2px; padding: 20px\"> <b>Success:</b><br>\n",
    "I like that after plotting the outliers, you also plotted the graph with the y-axis limit. This way we can visually see better where most of the values are concentrated.</div>       "
   ]
  },
  {
   "cell_type": "markdown",
   "id": "a8296e0d",
   "metadata": {},
   "source": [
    "<div style=\"border:solid orange 2px; padding: 20px\"> <b>Remarks :</b><br>\n",
    "    Please, visit this link:\n",
    "        \n",
    "  https://www.kaggle.com/asimislam/tutorial-python-subplots\n",
    "            \n",
    " There are some information on how to make graphs using subplots :)\n",
    "\n",
    "If you use the seaborn library to build a scatterplot, you can do a different color breakdown of groups A and B for clarity using the `hue` parameter.\n",
    "\n",
    "This link can be useful:\n",
    " \n",
    " https://indianaiproduction.com/seaborn-scatter-plot/\n",
    "</div>  "
   ]
  },
  {
   "cell_type": "markdown",
   "id": "434174fc",
   "metadata": {},
   "source": [
    "<div class=\"alert alert-info\" style=\"border:solid blue 2px; padding: 20px\"> <b>Student comment v.1:</b> <br />\n",
    "    I have actually used both techniques extensively in previous projects, but have grown accustomed to work hard with matplotlib. <br />\n",
    "    I like the resulting plot with Seaborn better, and I should utilize it more. <br />\n",
    "    Thanks for reminding me 😊\n",
    "</div>"
   ]
  },
  {
   "cell_type": "markdown",
   "id": "62aaf8fc",
   "metadata": {},
   "source": [
    "<div style=\"border:solid green 2px; padding: 20px\"> <b>Success V2:</b><br>\n",
    "    Wow, now it looks really great! 😍</div>     "
   ]
  },
  {
   "cell_type": "markdown",
   "id": "8051fa76",
   "metadata": {},
   "source": [
    "### Orders prices - percentiles\n",
    "***\n",
    "[up](#Analysis)\n",
    "\n",
    "Calculate the 95th and 99th percentiles of order prices.  \n",
    "Define the point at which a data point becomes an anomaly."
   ]
  },
  {
   "cell_type": "code",
   "execution_count": 65,
   "id": "fd81f162",
   "metadata": {},
   "outputs": [
    {
     "data": {
      "text/plain": [
       "array([280.8  , 414.275, 830.3  ])"
      ]
     },
     "metadata": {},
     "output_type": "display_data"
    }
   ],
   "source": [
    "display(np.percentile(orders['revenue'], [90, 95, 99]))"
   ]
  },
  {
   "cell_type": "markdown",
   "id": "5d5eda4a",
   "metadata": {},
   "source": [
    "Not more than 10% of the orders are priced above 280,  \n",
    "not more than 5% of the orders are priced above 415,  \n",
    "and not more than 1% of the orders are priced above 831.  \n",
    "Setting the threshold at ~5% - 400."
   ]
  },
  {
   "cell_type": "markdown",
   "id": "4048e047",
   "metadata": {},
   "source": [
    "<div style=\"border:solid green 2px; padding: 20px\"> <b>Success:</b><br>\n",
    "   Perfect! 👍 </div>   "
   ]
  },
  {
   "cell_type": "markdown",
   "id": "92e6619b",
   "metadata": {},
   "source": [
    "### Group conversion - raw data statistical significance\n",
    "***\n",
    "[up](#Analysis)\n",
    "\n",
    "Find the statistical significance of the difference in conversion between the groups using the raw data.  \n",
    "Make conclusions and conjectures."
   ]
  },
  {
   "cell_type": "code",
   "execution_count": 66,
   "id": "18b2c350",
   "metadata": {},
   "outputs": [],
   "source": [
    "orders_by_users_A = (select_group(orders, 'A')\n",
    "                     .groupby('visitorId', as_index=False)\n",
    "                     .agg({'transactionId': 'nunique'}))\n",
    "orders_by_users_A.columns = ['user_id', 'orders']\n",
    "\n",
    "orders_by_users_B = (select_group(orders, 'B')\n",
    "                     .groupby('visitorId', as_index=False)\n",
    "                     .agg({'transactionId': 'nunique'}))\n",
    "orders_by_users_B.columns = ['user_id', 'orders']"
   ]
  },
  {
   "cell_type": "code",
   "execution_count": 67,
   "id": "42d7e6d9",
   "metadata": {},
   "outputs": [
    {
     "data": {
      "text/plain": [
       "(18736, 18916)"
      ]
     },
     "execution_count": 67,
     "metadata": {},
     "output_type": "execute_result"
    }
   ],
   "source": [
    "sample_A = pd.concat([\n",
    "    orders_by_users_A['orders'],\n",
    "    pd.Series(0, range(select_group(visits, 'A')['visits'].sum() - len(orders_by_users_A)))\n",
    "], axis=0).rename('orders')\n",
    "\n",
    "sample_B = pd.concat([\n",
    "    orders_by_users_B['orders'],\n",
    "    pd.Series(0, range(select_group(visits, 'B')['visits'].sum() - len(orders_by_users_B)))\n",
    "], axis=0).rename('orders')\n",
    "\n",
    "(len(sample_A), len(sample_B))"
   ]
  },
  {
   "cell_type": "markdown",
   "id": "e810056b",
   "metadata": {},
   "source": [
    "<div style=\"border:solid green 2px; padding: 20px\"> <b>Success:</b><br>\n",
    "    Well done, the samples are formed correctly 😊 </div>   "
   ]
  },
  {
   "cell_type": "markdown",
   "id": "063f6622",
   "metadata": {},
   "source": [
    "Testing whether Group A conversion rates and Group B conversion rates are similar. <br /><br />\n",
    "<center>null hypothesis: Group A conversion rates and Group B conversion rates are equal.  <br />\n",
    "alternative hypothesis: Group A conversion rates and Group B conversion rates differ.</center>\n",
    "\n",
    "$$H_0: F_{X_A}(x) = F_{X_B}(x)$$\n",
    "$$H_A: F_{X_A}(x) \\neq F_{X_B}(x)$$\n",
    "$$\\text{Significance level } \\alpha = 0.05$$"
   ]
  },
  {
   "cell_type": "markdown",
   "id": "51373d07",
   "metadata": {},
   "source": [
    "<s><div style=\"border:solid red 2px; padding: 20px\"> <b>Needs fixing:</b><br>\n",
    "   It's great that you used a mathematical approach to formulating hypotheses. But can you please formulate the null hypothesis and the alternative hypothesis in words in all tests?</div>"
   ]
  },
  {
   "cell_type": "markdown",
   "id": "d3245f2e",
   "metadata": {},
   "source": [
    "<div class=\"alert alert-info\" style=\"border:solid blue 2px; padding: 20px\"> <b>Student comment v.1:</b> <br />\n",
    "    Was so busy with the math formulation, that I forgot to verbalize the hypotheses 🤭<br />\n",
    "    Updated all relevant cells.\n",
    "</div>"
   ]
  },
  {
   "cell_type": "markdown",
   "id": "0a38d807",
   "metadata": {},
   "source": [
    "<div style=\"border:solid orange 2px; padding: 20px\"> <b>Remarks:</b><br>\n",
    "    Please, pay attention, that \"equal\" conception is not appliable in case of distributions. You can formulate hypotheses like this to sound more \"professional\":\n",
    "\n",
    "H0: Group A conversion rates and Group B conversion rates belong to the same statistical population\n",
    "\n",
    "H1: Group A conversion rates and Group B conversion rates don't belong to the same statistical population</div> "
   ]
  },
  {
   "cell_type": "code",
   "execution_count": 68,
   "id": "6938d011",
   "metadata": {},
   "outputs": [
    {
     "data": {
      "text/markdown": [
       "p-value: 0.0110  \n",
       "is p-value < alpha ? $~~$True"
      ],
      "text/plain": [
       "<IPython.core.display.Markdown object>"
      ]
     },
     "metadata": {},
     "output_type": "display_data"
    },
    {
     "data": {
      "text/markdown": [
       "Group B relative gain: 16%"
      ],
      "text/plain": [
       "<IPython.core.display.Markdown object>"
      ]
     },
     "metadata": {},
     "output_type": "display_data"
    }
   ],
   "source": [
    "alpha = .05\n",
    "pvalue = stats.mannwhitneyu(sample_A, sample_B, alternative='two-sided')[1]\n",
    "display(\n",
    "    Markdown(f'p-value: {pvalue:.4f}  \\nis p-value < alpha ? $~~${pvalue < alpha}'),\n",
    "    Markdown(f'Group B relative gain: {sample_B.mean() / sample_A.mean() - 1:.0%}'))"
   ]
  },
  {
   "cell_type": "markdown",
   "id": "223926f0",
   "metadata": {},
   "source": [
    "<s><div style=\"border:solid orange 2px; padding: 20px\"> <b>Remarks:</b><br>\n",
    "\n",
    "In this case, it's better to run a two-sided test using the `alternative = 'two-sided'` parameter, since it is important for us as researchers to check the results \"both ways\". \n",
    "\n",
    "I leave a link to the documentation, it will be useful (This is the new version of the library. This parameter is set by default there): \n",
    "\n",
    " https://docs.scipy.org/doc/scipy/reference/generated/scipy.stats.mannwhitneyu.html\n",
    "    \n",
    "But the Yandex.Practicum platform has an old version of the library - 1.4.1. \n",
    "\n",
    "It defaults to None (None: computes p-value half the size of the 'two-sided' p-value and a different U statistic. The default behavior is not the same as using 'less' or 'greater'; it only exists for backward compatibility and is deprecated.) Therefore, in order to get correct results, it is better to control this parameter by writing `alternative = 'two-sided'` manually.\n",
    "\n",
    "Old version of library:\n",
    "\n",
    "https://docs.scipy.org/doc/scipy-1.4.1/reference/generated/scipy.stats.mannwhitneyu.html\n",
    " \n",
    "</div>"
   ]
  },
  {
   "cell_type": "markdown",
   "id": "0e995c1b",
   "metadata": {},
   "source": [
    "<div class=\"alert alert-info\" style=\"border:solid blue 2px; padding: 20px\"> <b>Student comment v.1:</b> <br />\n",
    "    This I find very much important, as it could potentially lead to a wrong conclusion. <br />\n",
    "    Updated all relevant cells. Thanks.\n",
    "</div>"
   ]
  },
  {
   "cell_type": "markdown",
   "id": "30b5a072",
   "metadata": {},
   "source": [
    "<div style=\"border:solid green 2px; padding: 20px\"> <b>Success V2:</b><br>\n",
    "    👍</div>     "
   ]
  },
  {
   "cell_type": "code",
   "execution_count": 69,
   "id": "cc4de854",
   "metadata": {},
   "outputs": [
    {
     "data": {
      "text/plain": [
       "'1.4.1'"
      ]
     },
     "execution_count": 69,
     "metadata": {},
     "output_type": "execute_result"
    }
   ],
   "source": [
    "#Reviewer's code\n",
    "import scipy\n",
    "scipy.__version__"
   ]
  },
  {
   "cell_type": "markdown",
   "id": "38ea0883",
   "metadata": {},
   "source": [
    "p-value is within the threshold of statistical significance, we reject the null hypothesis.  \n",
    "Conversion rates are statistically different,  \n",
    "and group B's relative gain is 16%."
   ]
  },
  {
   "cell_type": "markdown",
   "id": "f3d06af3",
   "metadata": {},
   "source": [
    "### Group avg. order size - raw data statistical significance\n",
    "***\n",
    "[up](#Analysis)\n",
    "\n",
    "Find the statistical significance of the difference in average order size between the groups using the raw data.  \n",
    "Make conclusions and conjectures."
   ]
  },
  {
   "cell_type": "markdown",
   "id": "884f011d",
   "metadata": {},
   "source": [
    "Testing whether Group A average order size and Group B average order size are similar. <br /><br />\n",
    "<center>null hypothesis: Group A avg. order size and Group B avg. order size are equal.  <br />\n",
    "alternative hypothesis: Group A avg. order size and Group B avg. order size differ.</center>\n",
    "\n",
    "$$H_0: F_{X_A}(x) = F_{X_B}(x)$$\n",
    "$$H_A: F_{X_A}(x) \\neq F_{X_B}(x)$$\n",
    "$$\\text{Significance level } \\alpha = 0.05$$"
   ]
  },
  {
   "cell_type": "code",
   "execution_count": 70,
   "id": "3d5bf705",
   "metadata": {},
   "outputs": [],
   "source": [
    "sample_A = select_group(orders, 'A')['revenue']\n",
    "sample_B = select_group(orders, 'B')['revenue']"
   ]
  },
  {
   "cell_type": "code",
   "execution_count": 71,
   "id": "9f793a94",
   "metadata": {},
   "outputs": [
    {
     "data": {
      "text/markdown": [
       "p-value: 0.8622  \n",
       "is p-value < alpha ? $~~$False"
      ],
      "text/plain": [
       "<IPython.core.display.Markdown object>"
      ]
     },
     "metadata": {},
     "output_type": "display_data"
    },
    {
     "data": {
      "text/markdown": [
       "Group B relative gain: 28%"
      ],
      "text/plain": [
       "<IPython.core.display.Markdown object>"
      ]
     },
     "metadata": {},
     "output_type": "display_data"
    }
   ],
   "source": [
    "alpha = .05\n",
    "pvalue = stats.mannwhitneyu(sample_A, sample_B, alternative='two-sided')[1]\n",
    "display(\n",
    "    Markdown(f'p-value: {pvalue:.4f}  \\nis p-value < alpha ? $~~${pvalue < alpha}'),\n",
    "    Markdown(f'Group B relative gain: {sample_B.mean() / sample_A.mean() - 1:.0%}'))"
   ]
  },
  {
   "cell_type": "markdown",
   "id": "88de2ce9",
   "metadata": {},
   "source": [
    "p-value is not within the threshold of statistical significance, we can't reject the null hypothesis.  \n",
    "Average order size is statistically similar between the groups,  \n",
    "while group B's relative gain is at 28%."
   ]
  },
  {
   "cell_type": "markdown",
   "id": "9e5bf2f6",
   "metadata": {},
   "source": [
    "<s><div style=\"border:solid orange 2px; padding: 20px\"> <b>Remarks:</b><br>\n",
    "\n",
    " And there is a small error in the calculations, p_value is not exactly the same, again everything is tied to the parameter `alternative='two-sided'`</div>"
   ]
  },
  {
   "cell_type": "markdown",
   "id": "62d4d96d",
   "metadata": {},
   "source": [
    "### Group conversion - filtered data statistical significance\n",
    "***\n",
    "[up](#Analysis)\n",
    "\n",
    "Find the statistical significance of the difference in conversion between the groups using the filtered data.  \n",
    "Make conclusions and conjectures."
   ]
  },
  {
   "cell_type": "code",
   "execution_count": 72,
   "id": "78c8fbea",
   "metadata": {},
   "outputs": [
    {
     "data": {
      "text/plain": [
       "55     249864742\n",
       "82     366673373\n",
       "94     406208401\n",
       "118    522292794\n",
       "138    611059232\n",
       "dtype: int64"
      ]
     },
     "metadata": {},
     "output_type": "display_data"
    },
    {
     "data": {
      "text/plain": [
       "(91,)"
      ]
     },
     "metadata": {},
     "output_type": "display_data"
    }
   ],
   "source": [
    "users_with_many_orders = orders_by_users.query('orders >= 2')['user_id']\n",
    "users_with_expensive_orders = orders.query('revenue > 400')['visitorId']\n",
    "\n",
    "outliers_user_ids = pd.concat(\n",
    "    [users_with_many_orders, users_with_expensive_orders], axis=0).drop_duplicates()\n",
    "\n",
    "display(\n",
    "    outliers_user_ids.head(),\n",
    "    outliers_user_ids.shape)"
   ]
  },
  {
   "cell_type": "code",
   "execution_count": 73,
   "id": "918a85db",
   "metadata": {},
   "outputs": [
    {
     "data": {
      "text/plain": [
       "(18696, 18793)"
      ]
     },
     "execution_count": 73,
     "metadata": {},
     "output_type": "execute_result"
    }
   ],
   "source": [
    "orders_A_filtered = orders_by_users_A.query('user_id not in @outliers_user_ids')\n",
    "sample_A_filtered = pd.concat([\n",
    "    orders_A_filtered['orders'],\n",
    "    pd.Series(0, range(select_group(visits, 'A')['visits'].sum() - len(orders_by_users_A)))\n",
    "], axis=0).rename('orders')\n",
    "\n",
    "orders_B_filtered = orders_by_users_A.query('user_id not in @outliers_user_ids')\n",
    "sample_B_filtered = pd.concat([\n",
    "    orders_B_filtered['orders'],\n",
    "    pd.Series(0, range(select_group(visits, 'B')['visits'].sum() - len(orders_by_users_B)))\n",
    "], axis=0).rename('orders')\n",
    "\n",
    "(len(sample_A_filtered), len(sample_B_filtered))"
   ]
  },
  {
   "cell_type": "markdown",
   "id": "07b7066a",
   "metadata": {},
   "source": [
    "Testing whether filtered Group A conversion rates and filtered Group B conversion rates are similar. <br /><br />\n",
    "<center>null hypothesis: Group A conversion rates and Group B conversion rates are equal.  <br />\n",
    "alternative hypothesis: Group A conversion rates and Group B conversion rates differ.</center>\n",
    "\n",
    "$$H_0: F_{X_A}(x) = F_{X_B}(x)$$\n",
    "$$H_A: F_{X_A}(x) \\neq F_{X_B}(x)$$\n",
    "$$\\text{Significance level } \\alpha = 0.05$$"
   ]
  },
  {
   "cell_type": "code",
   "execution_count": 74,
   "id": "9e799153",
   "metadata": {
    "scrolled": true
   },
   "outputs": [
    {
     "data": {
      "text/markdown": [
       "p-value: 0.9407  \n",
       "is p-value < alpha ? $~~$False"
      ],
      "text/plain": [
       "<IPython.core.display.Markdown object>"
      ]
     },
     "metadata": {},
     "output_type": "display_data"
    },
    {
     "data": {
      "text/markdown": [
       "Group B relative gain: -1%"
      ],
      "text/plain": [
       "<IPython.core.display.Markdown object>"
      ]
     },
     "metadata": {},
     "output_type": "display_data"
    }
   ],
   "source": [
    "alpha = .05\n",
    "pvalue = stats.mannwhitneyu(sample_A_filtered, sample_B_filtered, alternative='two-sided')[1]\n",
    "display(\n",
    "    Markdown(f'p-value: {pvalue:.4f}  \\nis p-value < alpha ? $~~${pvalue < alpha}'),\n",
    "    Markdown(f'Group B relative gain: {sample_B_filtered.mean() / sample_A_filtered.mean() - 1:.0%}'))"
   ]
  },
  {
   "cell_type": "markdown",
   "id": "e83acce3",
   "metadata": {},
   "source": [
    "p-value is not within the threshold of statistical significance, we can't reject the null hypothesis.  \n",
    "The conversion rates for both groups are similar.  \n",
    "\n",
    "This is in stark contrast to the results we got with unfiltered raw data, where we concluded that the groups have different conversion rates."
   ]
  },
  {
   "cell_type": "markdown",
   "id": "04738923",
   "metadata": {},
   "source": [
    "### Group avg. order size - filtered data statistical significance\n",
    "***\n",
    "[up](#Analysis)"
   ]
  },
  {
   "cell_type": "code",
   "execution_count": 75,
   "id": "6c737db0",
   "metadata": {},
   "outputs": [],
   "source": [
    "sample_A = orders.query('group == \"A\" and visitorId not in @outliers_user_ids')['revenue']\n",
    "sample_B = orders.query('group == \"B\" and visitorId not in @outliers_user_ids')['revenue']"
   ]
  },
  {
   "cell_type": "markdown",
   "id": "98408fb6",
   "metadata": {},
   "source": [
    "Testing whether filtered Group A average order size and filtered Group B average order size are similar. <br /><br />\n",
    "<center>null hypothesis: Group A avg. order size and Group B avg. order size are equal.  <br />\n",
    "alternative hypothesis: Group A avg. order size and Group B avg. order size differ.</center>\n",
    "\n",
    "$$H_0: F_{X_A}(x) = F_{X_B}(x)$$\n",
    "$$H_A: F_{X_A}(x) \\neq F_{X_B}(x)$$\n",
    "$$\\text{Significance level } \\alpha = 0.05$$"
   ]
  },
  {
   "cell_type": "code",
   "execution_count": 76,
   "id": "d720771b",
   "metadata": {},
   "outputs": [
    {
     "data": {
      "text/markdown": [
       "p-value: 0.6566  \n",
       "is p-value < alpha ? $~~$False"
      ],
      "text/plain": [
       "<IPython.core.display.Markdown object>"
      ]
     },
     "metadata": {},
     "output_type": "display_data"
    },
    {
     "data": {
      "text/markdown": [
       "Group B relative gain: -6%"
      ],
      "text/plain": [
       "<IPython.core.display.Markdown object>"
      ]
     },
     "metadata": {},
     "output_type": "display_data"
    }
   ],
   "source": [
    "alpha = .05\n",
    "pvalue = stats.mannwhitneyu(sample_A, sample_B, alternative='two-sided')[1]\n",
    "display(\n",
    "    Markdown(f'p-value: {pvalue:.4f}  \\nis p-value < alpha ? $~~${pvalue < alpha}'),\n",
    "    Markdown(f'Group B relative gain: {sample_B.mean() / sample_A.mean() - 1:.0%}'))"
   ]
  },
  {
   "cell_type": "markdown",
   "id": "4307f2df",
   "metadata": {},
   "source": [
    "p-value is not within the threshold of statistical significance, we can't reject the null hypothesis.  \n",
    "Average order size is statistically similar between the groups.\n",
    "\n",
    "Group B has a 6% loss compared to Group A. "
   ]
  },
  {
   "cell_type": "markdown",
   "id": "dbf88e32",
   "metadata": {},
   "source": [
    "<s><div style=\"border:solid orange 2px; padding: 20px\"> <b>Remarks:</b><br>\n",
    "The filtered data calculation is also correct, except for `p_value`, see comments above.</div>"
   ]
  },
  {
   "cell_type": "markdown",
   "id": "00b9e18f",
   "metadata": {},
   "source": [
    "### Test continuation\n",
    "***\n",
    "[up](#Analysis)"
   ]
  },
  {
   "cell_type": "markdown",
   "id": "2e8d7508",
   "metadata": {},
   "source": [
    "Based on the results of filtered data's hypothesis testing,  \n",
    "Group A and Group B have similar conversion ratios and avg. purchase size.  \n",
    "Despite that, Group B falls short of Group A (1% loss on conversion, 6% loss on avg. purchase size).\n",
    "\n",
    "The graphs showing cumulative values indicate that the values have mostly stabilized,  \n",
    "so there is no use in continuing the tests - there is little chance for a drastic change.\n",
    "\n",
    "Both groups performed similarly."
   ]
  },
  {
   "cell_type": "markdown",
   "id": "ae246641",
   "metadata": {},
   "source": [
    "<div style=\"border:solid green 2px; padding: 20px\"> <b>Success:</b><br>\n",
    "    Very well! Thanks a lot for the conclusion 👍</div> "
   ]
  }
 ],
 "metadata": {
  "ExecuteTimeLog": [
   {
    "duration": 11027,
    "start_time": "2021-08-08T16:35:51.901Z"
   },
   {
    "duration": 4263,
    "start_time": "2021-08-08T16:36:09.441Z"
   },
   {
    "duration": 1283,
    "start_time": "2021-08-08T16:36:13.706Z"
   },
   {
    "duration": 3,
    "start_time": "2021-08-08T16:36:14.993Z"
   },
   {
    "duration": 15,
    "start_time": "2021-08-08T16:36:14.998Z"
   },
   {
    "duration": 6,
    "start_time": "2021-08-08T16:36:15.014Z"
   },
   {
    "duration": 5,
    "start_time": "2021-08-08T16:36:15.022Z"
   },
   {
    "duration": 7,
    "start_time": "2021-08-08T16:36:15.030Z"
   },
   {
    "duration": 1389,
    "start_time": "2021-08-08T16:36:15.039Z"
   },
   {
    "duration": 29,
    "start_time": "2021-08-08T16:36:16.430Z"
   },
   {
    "duration": 12,
    "start_time": "2021-08-08T16:36:16.462Z"
   },
   {
    "duration": 10,
    "start_time": "2021-08-08T16:36:16.476Z"
   },
   {
    "duration": 5,
    "start_time": "2021-08-08T16:36:16.488Z"
   },
   {
    "duration": 12,
    "start_time": "2021-08-08T16:36:16.494Z"
   },
   {
    "duration": 60,
    "start_time": "2021-08-08T16:36:16.507Z"
   },
   {
    "duration": 12,
    "start_time": "2021-08-08T16:36:16.569Z"
   },
   {
    "duration": 67,
    "start_time": "2021-08-08T16:36:16.582Z"
   },
   {
    "duration": 424,
    "start_time": "2021-08-08T16:36:16.650Z"
   },
   {
    "duration": 1372,
    "start_time": "2021-08-08T16:36:17.076Z"
   },
   {
    "duration": 85,
    "start_time": "2021-08-08T16:36:18.450Z"
   },
   {
    "duration": 14,
    "start_time": "2021-08-08T16:36:18.537Z"
   },
   {
    "duration": 10,
    "start_time": "2021-08-08T16:36:18.553Z"
   },
   {
    "duration": 6,
    "start_time": "2021-08-08T16:36:18.568Z"
   },
   {
    "duration": 3,
    "start_time": "2021-08-08T16:36:18.577Z"
   },
   {
    "duration": 68,
    "start_time": "2021-08-08T16:36:18.582Z"
   },
   {
    "duration": 117,
    "start_time": "2021-08-08T16:36:18.652Z"
   },
   {
    "duration": 1386,
    "start_time": "2021-08-08T16:36:18.771Z"
   },
   {
    "duration": 30,
    "start_time": "2021-08-08T16:36:20.159Z"
   },
   {
    "duration": 9,
    "start_time": "2021-08-08T16:36:20.191Z"
   },
   {
    "duration": 8,
    "start_time": "2021-08-08T16:36:20.202Z"
   },
   {
    "duration": 6,
    "start_time": "2021-08-08T16:36:20.211Z"
   },
   {
    "duration": 7,
    "start_time": "2021-08-08T16:36:20.219Z"
   },
   {
    "duration": 4,
    "start_time": "2021-08-08T16:36:20.227Z"
   },
   {
    "duration": 76,
    "start_time": "2021-08-08T16:36:20.232Z"
   },
   {
    "duration": 2,
    "start_time": "2021-08-08T16:36:20.310Z"
   },
   {
    "duration": 15,
    "start_time": "2021-08-08T16:36:20.314Z"
   },
   {
    "duration": 11,
    "start_time": "2021-08-08T16:36:20.331Z"
   },
   {
    "duration": 8,
    "start_time": "2021-08-08T16:36:20.343Z"
   },
   {
    "duration": 6,
    "start_time": "2021-08-08T16:36:20.353Z"
   },
   {
    "duration": 138,
    "start_time": "2021-08-08T16:36:20.360Z"
   },
   {
    "duration": 121,
    "start_time": "2021-08-08T16:36:20.500Z"
   },
   {
    "duration": 12,
    "start_time": "2021-08-08T16:36:20.623Z"
   },
   {
    "duration": 5,
    "start_time": "2021-08-08T16:36:20.637Z"
   },
   {
    "duration": 215,
    "start_time": "2021-08-08T16:36:20.644Z"
   },
   {
    "duration": 192,
    "start_time": "2021-08-08T16:36:20.861Z"
   },
   {
    "duration": 13,
    "start_time": "2021-08-08T16:36:21.054Z"
   },
   {
    "duration": 434,
    "start_time": "2021-08-08T16:36:21.068Z"
   },
   {
    "duration": 6,
    "start_time": "2021-08-08T16:36:21.503Z"
   },
   {
    "duration": 6,
    "start_time": "2021-08-08T16:36:21.511Z"
   },
   {
    "duration": 194,
    "start_time": "2021-08-08T16:36:21.519Z"
   },
   {
    "duration": 8,
    "start_time": "2021-08-08T16:36:21.714Z"
   },
   {
    "duration": 11,
    "start_time": "2021-08-08T16:36:21.724Z"
   },
   {
    "duration": 8,
    "start_time": "2021-08-08T16:36:21.737Z"
   },
   {
    "duration": 155,
    "start_time": "2021-08-08T16:36:21.747Z"
   },
   {
    "duration": 4,
    "start_time": "2021-08-08T16:36:21.904Z"
   },
   {
    "duration": 146,
    "start_time": "2021-08-08T16:36:21.909Z"
   },
   {
    "duration": 155,
    "start_time": "2021-08-08T16:36:22.057Z"
   },
   {
    "duration": 4,
    "start_time": "2021-08-08T16:36:22.214Z"
   },
   {
    "duration": 11,
    "start_time": "2021-08-08T16:36:22.220Z"
   },
   {
    "duration": 8,
    "start_time": "2021-08-08T16:36:22.233Z"
   },
   {
    "duration": 117,
    "start_time": "2021-08-08T16:36:22.242Z"
   },
   {
    "duration": 5,
    "start_time": "2021-08-08T16:36:22.361Z"
   },
   {
    "duration": 127,
    "start_time": "2021-08-08T16:36:22.367Z"
   },
   {
    "duration": 9,
    "start_time": "2021-08-08T16:36:22.496Z"
   },
   {
    "duration": 12,
    "start_time": "2021-08-08T16:36:22.507Z"
   },
   {
    "duration": 116,
    "start_time": "2021-08-08T16:36:22.520Z"
   },
   {
    "duration": 7,
    "start_time": "2021-08-08T16:36:22.638Z"
   },
   {
    "duration": 121,
    "start_time": "2021-08-08T16:36:22.650Z"
   },
   {
    "duration": 4,
    "start_time": "2021-08-08T16:52:42.544Z"
   },
   {
    "duration": 20,
    "start_time": "2021-08-08T16:52:43.743Z"
   },
   {
    "duration": 4355,
    "start_time": "2021-08-08T16:52:51.009Z"
   },
   {
    "duration": 4,
    "start_time": "2021-08-08T16:52:55.366Z"
   },
   {
    "duration": 6,
    "start_time": "2021-08-08T16:52:55.372Z"
   },
   {
    "duration": 4,
    "start_time": "2021-08-08T16:52:55.380Z"
   },
   {
    "duration": 4,
    "start_time": "2021-08-08T16:52:55.386Z"
   },
   {
    "duration": 4,
    "start_time": "2021-08-08T16:52:55.392Z"
   },
   {
    "duration": 6,
    "start_time": "2021-08-08T16:52:55.398Z"
   },
   {
    "duration": 1402,
    "start_time": "2021-08-08T16:52:55.407Z"
   },
   {
    "duration": 4,
    "start_time": "2021-08-08T16:52:56.812Z"
   },
   {
    "duration": 3,
    "start_time": "2021-08-08T16:52:58.407Z"
   },
   {
    "duration": 23,
    "start_time": "2021-08-08T16:52:59.254Z"
   },
   {
    "duration": 69,
    "start_time": "2021-08-08T16:55:16.596Z"
   },
   {
    "duration": 364,
    "start_time": "2021-08-08T17:06:28.068Z"
   },
   {
    "duration": 2238,
    "start_time": "2021-08-08T17:06:44.701Z"
   },
   {
    "duration": 2197,
    "start_time": "2021-08-08T17:07:51.910Z"
   },
   {
    "duration": 2543,
    "start_time": "2021-08-08T17:08:10.076Z"
   },
   {
    "duration": 2327,
    "start_time": "2021-08-08T17:08:21.365Z"
   },
   {
    "duration": 7,
    "start_time": "2021-08-08T17:08:59.379Z"
   },
   {
    "duration": 4425,
    "start_time": "2021-08-08T17:09:06.138Z"
   },
   {
    "duration": 3,
    "start_time": "2021-08-08T17:09:10.565Z"
   },
   {
    "duration": 5,
    "start_time": "2021-08-08T17:09:10.570Z"
   },
   {
    "duration": 4,
    "start_time": "2021-08-08T17:09:10.577Z"
   },
   {
    "duration": 5,
    "start_time": "2021-08-08T17:09:10.582Z"
   },
   {
    "duration": 4,
    "start_time": "2021-08-08T17:09:10.589Z"
   },
   {
    "duration": 5,
    "start_time": "2021-08-08T17:09:10.595Z"
   },
   {
    "duration": 1411,
    "start_time": "2021-08-08T17:09:10.602Z"
   },
   {
    "duration": 23,
    "start_time": "2021-08-08T17:09:12.015Z"
   },
   {
    "duration": 9,
    "start_time": "2021-08-08T17:09:12.040Z"
   },
   {
    "duration": 8,
    "start_time": "2021-08-08T17:09:12.050Z"
   },
   {
    "duration": 5,
    "start_time": "2021-08-08T17:09:12.059Z"
   },
   {
    "duration": 12,
    "start_time": "2021-08-08T17:09:12.065Z"
   },
   {
    "duration": 65,
    "start_time": "2021-08-08T17:09:12.079Z"
   },
   {
    "duration": 13,
    "start_time": "2021-08-08T17:09:12.146Z"
   },
   {
    "duration": 62,
    "start_time": "2021-08-08T17:09:12.161Z"
   },
   {
    "duration": 179,
    "start_time": "2021-08-08T17:09:12.225Z"
   },
   {
    "duration": 150,
    "start_time": "2021-08-08T17:09:16.948Z"
   },
   {
    "duration": 149,
    "start_time": "2021-08-08T17:10:05.938Z"
   },
   {
    "duration": 151,
    "start_time": "2021-08-08T17:12:32.641Z"
   },
   {
    "duration": 63,
    "start_time": "2021-08-08T18:30:16.031Z"
   },
   {
    "duration": 4386,
    "start_time": "2021-08-08T18:33:23.472Z"
   },
   {
    "duration": 3,
    "start_time": "2021-08-08T18:33:27.861Z"
   },
   {
    "duration": 3,
    "start_time": "2021-08-08T18:33:27.871Z"
   },
   {
    "duration": 4,
    "start_time": "2021-08-08T18:33:27.875Z"
   },
   {
    "duration": 5,
    "start_time": "2021-08-08T18:33:27.881Z"
   },
   {
    "duration": 4,
    "start_time": "2021-08-08T18:33:27.887Z"
   },
   {
    "duration": 5,
    "start_time": "2021-08-08T18:33:27.893Z"
   },
   {
    "duration": 1400,
    "start_time": "2021-08-08T18:33:27.901Z"
   },
   {
    "duration": 24,
    "start_time": "2021-08-08T18:33:29.304Z"
   },
   {
    "duration": 10,
    "start_time": "2021-08-08T18:33:29.329Z"
   },
   {
    "duration": 7,
    "start_time": "2021-08-08T18:33:29.341Z"
   },
   {
    "duration": 4,
    "start_time": "2021-08-08T18:33:29.350Z"
   },
   {
    "duration": 14,
    "start_time": "2021-08-08T18:33:29.356Z"
   },
   {
    "duration": 63,
    "start_time": "2021-08-08T18:33:29.372Z"
   },
   {
    "duration": 12,
    "start_time": "2021-08-08T18:33:29.437Z"
   },
   {
    "duration": 62,
    "start_time": "2021-08-08T18:33:29.451Z"
   },
   {
    "duration": 195,
    "start_time": "2021-08-08T18:33:29.516Z"
   },
   {
    "duration": 160,
    "start_time": "2021-08-08T18:33:29.713Z"
   },
   {
    "duration": 1417,
    "start_time": "2021-08-08T18:33:29.874Z"
   },
   {
    "duration": 53,
    "start_time": "2021-08-08T18:33:31.294Z"
   },
   {
    "duration": 14,
    "start_time": "2021-08-08T18:33:31.349Z"
   },
   {
    "duration": 9,
    "start_time": "2021-08-08T18:33:31.364Z"
   },
   {
    "duration": 6,
    "start_time": "2021-08-08T18:33:31.378Z"
   },
   {
    "duration": 4,
    "start_time": "2021-08-08T18:33:31.387Z"
   },
   {
    "duration": 62,
    "start_time": "2021-08-08T18:33:31.392Z"
   },
   {
    "duration": 120,
    "start_time": "2021-08-08T18:33:31.456Z"
   },
   {
    "duration": 1389,
    "start_time": "2021-08-08T18:33:31.578Z"
   },
   {
    "duration": 30,
    "start_time": "2021-08-08T18:33:32.969Z"
   },
   {
    "duration": 10,
    "start_time": "2021-08-08T18:33:33.001Z"
   },
   {
    "duration": 10,
    "start_time": "2021-08-08T18:33:33.012Z"
   },
   {
    "duration": 7,
    "start_time": "2021-08-08T18:33:33.023Z"
   },
   {
    "duration": 7,
    "start_time": "2021-08-08T18:33:33.032Z"
   },
   {
    "duration": 4,
    "start_time": "2021-08-08T18:33:33.040Z"
   },
   {
    "duration": 386,
    "start_time": "2021-08-08T18:33:33.046Z"
   },
   {
    "duration": 3,
    "start_time": "2021-08-08T18:33:33.433Z"
   },
   {
    "duration": 6,
    "start_time": "2021-08-08T18:33:33.437Z"
   },
   {
    "duration": 10,
    "start_time": "2021-08-08T18:33:33.445Z"
   },
   {
    "duration": 7,
    "start_time": "2021-08-08T18:33:33.457Z"
   },
   {
    "duration": 6,
    "start_time": "2021-08-08T18:33:33.466Z"
   },
   {
    "duration": 140,
    "start_time": "2021-08-08T18:33:33.474Z"
   },
   {
    "duration": 133,
    "start_time": "2021-08-08T18:33:33.615Z"
   },
   {
    "duration": 13,
    "start_time": "2021-08-08T18:33:33.750Z"
   },
   {
    "duration": 25,
    "start_time": "2021-08-08T18:33:33.764Z"
   },
   {
    "duration": 211,
    "start_time": "2021-08-08T18:33:33.791Z"
   },
   {
    "duration": 195,
    "start_time": "2021-08-08T18:33:34.004Z"
   },
   {
    "duration": 12,
    "start_time": "2021-08-08T18:33:34.200Z"
   },
   {
    "duration": 301,
    "start_time": "2021-08-08T18:33:34.214Z"
   },
   {
    "duration": 6,
    "start_time": "2021-08-08T18:33:34.517Z"
   },
   {
    "duration": 9,
    "start_time": "2021-08-08T18:33:34.524Z"
   },
   {
    "duration": 306,
    "start_time": "2021-08-08T18:33:34.534Z"
   },
   {
    "duration": 9,
    "start_time": "2021-08-08T18:33:34.842Z"
   },
   {
    "duration": 14,
    "start_time": "2021-08-08T18:33:34.853Z"
   },
   {
    "duration": 20,
    "start_time": "2021-08-08T18:33:34.868Z"
   },
   {
    "duration": 148,
    "start_time": "2021-08-08T18:33:34.890Z"
   },
   {
    "duration": 4,
    "start_time": "2021-08-08T18:33:35.040Z"
   },
   {
    "duration": 153,
    "start_time": "2021-08-08T18:33:35.046Z"
   },
   {
    "duration": 147,
    "start_time": "2021-08-08T18:33:35.201Z"
   },
   {
    "duration": 4,
    "start_time": "2021-08-08T18:33:35.350Z"
   },
   {
    "duration": 15,
    "start_time": "2021-08-08T18:33:35.356Z"
   },
   {
    "duration": 18,
    "start_time": "2021-08-08T18:33:35.372Z"
   },
   {
    "duration": 417,
    "start_time": "2021-08-08T18:33:35.391Z"
   },
   {
    "duration": 5,
    "start_time": "2021-08-08T18:33:35.809Z"
   },
   {
    "duration": 121,
    "start_time": "2021-08-08T18:33:35.816Z"
   },
   {
    "duration": 10,
    "start_time": "2021-08-08T18:33:35.939Z"
   },
   {
    "duration": 12,
    "start_time": "2021-08-08T18:33:35.950Z"
   },
   {
    "duration": 134,
    "start_time": "2021-08-08T18:33:44.610Z"
   },
   {
    "duration": 119,
    "start_time": "2021-08-08T18:34:26.757Z"
   },
   {
    "duration": 5,
    "start_time": "2021-08-08T18:45:14.003Z"
   },
   {
    "duration": 118,
    "start_time": "2021-08-08T18:46:15.629Z"
   },
   {
    "duration": 113,
    "start_time": "2021-08-08T18:46:26.580Z"
   },
   {
    "duration": 121,
    "start_time": "2021-08-08T18:47:07.075Z"
   },
   {
    "duration": 422,
    "start_time": "2021-08-08T18:47:15.106Z"
   },
   {
    "duration": 4479,
    "start_time": "2021-08-08T18:47:26.883Z"
   },
   {
    "duration": 3,
    "start_time": "2021-08-08T18:47:31.364Z"
   },
   {
    "duration": 8,
    "start_time": "2021-08-08T18:47:31.369Z"
   },
   {
    "duration": 9,
    "start_time": "2021-08-08T18:47:31.379Z"
   },
   {
    "duration": 14,
    "start_time": "2021-08-08T18:47:31.389Z"
   },
   {
    "duration": 13,
    "start_time": "2021-08-08T18:47:31.404Z"
   },
   {
    "duration": 7,
    "start_time": "2021-08-08T18:47:31.419Z"
   },
   {
    "duration": 1405,
    "start_time": "2021-08-08T18:47:31.428Z"
   },
   {
    "duration": 24,
    "start_time": "2021-08-08T18:47:32.835Z"
   },
   {
    "duration": 10,
    "start_time": "2021-08-08T18:47:32.861Z"
   },
   {
    "duration": 11,
    "start_time": "2021-08-08T18:47:32.873Z"
   },
   {
    "duration": 5,
    "start_time": "2021-08-08T18:47:32.886Z"
   },
   {
    "duration": 17,
    "start_time": "2021-08-08T18:47:32.892Z"
   },
   {
    "duration": 65,
    "start_time": "2021-08-08T18:47:32.911Z"
   },
   {
    "duration": 12,
    "start_time": "2021-08-08T18:47:32.978Z"
   },
   {
    "duration": 66,
    "start_time": "2021-08-08T18:47:32.991Z"
   },
   {
    "duration": 190,
    "start_time": "2021-08-08T18:47:33.059Z"
   },
   {
    "duration": 161,
    "start_time": "2021-08-08T18:47:33.251Z"
   },
   {
    "duration": 1402,
    "start_time": "2021-08-08T18:47:33.414Z"
   },
   {
    "duration": 56,
    "start_time": "2021-08-08T18:47:34.818Z"
   },
   {
    "duration": 14,
    "start_time": "2021-08-08T18:47:34.875Z"
   },
   {
    "duration": 9,
    "start_time": "2021-08-08T18:47:34.891Z"
   },
   {
    "duration": 6,
    "start_time": "2021-08-08T18:47:34.904Z"
   },
   {
    "duration": 3,
    "start_time": "2021-08-08T18:47:34.912Z"
   },
   {
    "duration": 103,
    "start_time": "2021-08-08T18:47:34.917Z"
   },
   {
    "duration": 119,
    "start_time": "2021-08-08T18:47:35.022Z"
   },
   {
    "duration": 1374,
    "start_time": "2021-08-08T18:47:35.142Z"
   },
   {
    "duration": 31,
    "start_time": "2021-08-08T18:47:36.518Z"
   },
   {
    "duration": 10,
    "start_time": "2021-08-08T18:47:36.551Z"
   },
   {
    "duration": 8,
    "start_time": "2021-08-08T18:47:36.562Z"
   },
   {
    "duration": 7,
    "start_time": "2021-08-08T18:47:36.572Z"
   },
   {
    "duration": 7,
    "start_time": "2021-08-08T18:47:36.580Z"
   },
   {
    "duration": 3,
    "start_time": "2021-08-08T18:47:36.589Z"
   },
   {
    "duration": 75,
    "start_time": "2021-08-08T18:47:36.594Z"
   },
   {
    "duration": 3,
    "start_time": "2021-08-08T18:47:36.670Z"
   },
   {
    "duration": 7,
    "start_time": "2021-08-08T18:47:36.675Z"
   },
   {
    "duration": 10,
    "start_time": "2021-08-08T18:47:36.684Z"
   },
   {
    "duration": 7,
    "start_time": "2021-08-08T18:47:36.695Z"
   },
   {
    "duration": 7,
    "start_time": "2021-08-08T18:47:36.703Z"
   },
   {
    "duration": 153,
    "start_time": "2021-08-08T18:47:36.712Z"
   },
   {
    "duration": 123,
    "start_time": "2021-08-08T18:47:36.866Z"
   },
   {
    "duration": 12,
    "start_time": "2021-08-08T18:47:36.991Z"
   },
   {
    "duration": 24,
    "start_time": "2021-08-08T18:47:37.004Z"
   },
   {
    "duration": 206,
    "start_time": "2021-08-08T18:47:37.029Z"
   },
   {
    "duration": 200,
    "start_time": "2021-08-08T18:47:37.237Z"
   },
   {
    "duration": 13,
    "start_time": "2021-08-08T18:47:37.438Z"
   },
   {
    "duration": 361,
    "start_time": "2021-08-08T18:47:37.452Z"
   },
   {
    "duration": 5,
    "start_time": "2021-08-08T18:47:37.815Z"
   },
   {
    "duration": 21,
    "start_time": "2021-08-08T18:47:37.822Z"
   },
   {
    "duration": 202,
    "start_time": "2021-08-08T18:47:37.844Z"
   },
   {
    "duration": 9,
    "start_time": "2021-08-08T18:47:38.047Z"
   },
   {
    "duration": 13,
    "start_time": "2021-08-08T18:47:38.057Z"
   },
   {
    "duration": 21,
    "start_time": "2021-08-08T18:47:38.071Z"
   },
   {
    "duration": 274,
    "start_time": "2021-08-08T18:47:38.093Z"
   },
   {
    "duration": 17,
    "start_time": "2021-08-08T18:47:38.369Z"
   },
   {
    "duration": 142,
    "start_time": "2021-08-08T18:47:38.387Z"
   },
   {
    "duration": 155,
    "start_time": "2021-08-08T18:47:38.531Z"
   },
   {
    "duration": 5,
    "start_time": "2021-08-08T18:47:38.687Z"
   },
   {
    "duration": 10,
    "start_time": "2021-08-08T18:47:38.694Z"
   },
   {
    "duration": 8,
    "start_time": "2021-08-08T18:47:38.706Z"
   },
   {
    "duration": 4440,
    "start_time": "2021-08-08T18:49:42.005Z"
   },
   {
    "duration": 3,
    "start_time": "2021-08-08T18:49:46.448Z"
   },
   {
    "duration": 6,
    "start_time": "2021-08-08T18:49:46.453Z"
   },
   {
    "duration": 4,
    "start_time": "2021-08-08T18:49:46.461Z"
   },
   {
    "duration": 8,
    "start_time": "2021-08-08T18:49:46.466Z"
   },
   {
    "duration": 4,
    "start_time": "2021-08-08T18:49:46.476Z"
   },
   {
    "duration": 7,
    "start_time": "2021-08-08T18:49:46.481Z"
   },
   {
    "duration": 1396,
    "start_time": "2021-08-08T18:49:46.490Z"
   },
   {
    "duration": 24,
    "start_time": "2021-08-08T18:49:47.888Z"
   },
   {
    "duration": 9,
    "start_time": "2021-08-08T18:49:47.914Z"
   },
   {
    "duration": 6,
    "start_time": "2021-08-08T18:49:47.925Z"
   },
   {
    "duration": 4,
    "start_time": "2021-08-08T18:49:47.933Z"
   },
   {
    "duration": 12,
    "start_time": "2021-08-08T18:49:47.938Z"
   },
   {
    "duration": 56,
    "start_time": "2021-08-08T18:49:47.951Z"
   },
   {
    "duration": 11,
    "start_time": "2021-08-08T18:49:48.008Z"
   },
   {
    "duration": 58,
    "start_time": "2021-08-08T18:49:48.020Z"
   },
   {
    "duration": 186,
    "start_time": "2021-08-08T18:49:48.079Z"
   },
   {
    "duration": 157,
    "start_time": "2021-08-08T18:49:48.267Z"
   },
   {
    "duration": 1390,
    "start_time": "2021-08-08T18:49:48.425Z"
   },
   {
    "duration": 54,
    "start_time": "2021-08-08T18:49:49.817Z"
   },
   {
    "duration": 13,
    "start_time": "2021-08-08T18:49:49.872Z"
   },
   {
    "duration": 10,
    "start_time": "2021-08-08T18:49:49.887Z"
   },
   {
    "duration": 6,
    "start_time": "2021-08-08T18:49:49.902Z"
   },
   {
    "duration": 4,
    "start_time": "2021-08-08T18:49:49.911Z"
   },
   {
    "duration": 65,
    "start_time": "2021-08-08T18:49:49.916Z"
   },
   {
    "duration": 126,
    "start_time": "2021-08-08T18:49:49.982Z"
   },
   {
    "duration": 1395,
    "start_time": "2021-08-08T18:49:50.109Z"
   },
   {
    "duration": 29,
    "start_time": "2021-08-08T18:49:51.506Z"
   },
   {
    "duration": 10,
    "start_time": "2021-08-08T18:49:51.537Z"
   },
   {
    "duration": 8,
    "start_time": "2021-08-08T18:49:51.548Z"
   },
   {
    "duration": 11,
    "start_time": "2021-08-08T18:49:51.557Z"
   },
   {
    "duration": 12,
    "start_time": "2021-08-08T18:49:51.570Z"
   },
   {
    "duration": 4,
    "start_time": "2021-08-08T18:49:51.583Z"
   },
   {
    "duration": 74,
    "start_time": "2021-08-08T18:49:51.589Z"
   },
   {
    "duration": 2,
    "start_time": "2021-08-08T18:49:51.665Z"
   },
   {
    "duration": 15,
    "start_time": "2021-08-08T18:49:51.669Z"
   },
   {
    "duration": 11,
    "start_time": "2021-08-08T18:49:51.685Z"
   },
   {
    "duration": 8,
    "start_time": "2021-08-08T18:49:51.698Z"
   },
   {
    "duration": 7,
    "start_time": "2021-08-08T18:49:51.707Z"
   },
   {
    "duration": 150,
    "start_time": "2021-08-08T18:49:51.716Z"
   },
   {
    "duration": 120,
    "start_time": "2021-08-08T18:49:51.868Z"
   },
   {
    "duration": 12,
    "start_time": "2021-08-08T18:49:51.989Z"
   },
   {
    "duration": 6,
    "start_time": "2021-08-08T18:49:52.003Z"
   },
   {
    "duration": 212,
    "start_time": "2021-08-08T18:49:52.010Z"
   },
   {
    "duration": 187,
    "start_time": "2021-08-08T18:49:52.224Z"
   },
   {
    "duration": 12,
    "start_time": "2021-08-08T18:49:52.412Z"
   },
   {
    "duration": 286,
    "start_time": "2021-08-08T18:49:52.425Z"
   },
   {
    "duration": 5,
    "start_time": "2021-08-08T18:49:52.713Z"
   },
   {
    "duration": 15,
    "start_time": "2021-08-08T18:49:52.720Z"
   },
   {
    "duration": 191,
    "start_time": "2021-08-08T18:49:52.736Z"
   },
   {
    "duration": 9,
    "start_time": "2021-08-08T18:49:52.929Z"
   },
   {
    "duration": 11,
    "start_time": "2021-08-08T18:49:52.939Z"
   },
   {
    "duration": 8,
    "start_time": "2021-08-08T18:49:52.952Z"
   },
   {
    "duration": 159,
    "start_time": "2021-08-08T18:49:52.962Z"
   },
   {
    "duration": 4,
    "start_time": "2021-08-08T18:49:53.122Z"
   },
   {
    "duration": 276,
    "start_time": "2021-08-08T18:49:53.128Z"
   },
   {
    "duration": 146,
    "start_time": "2021-08-08T18:49:53.405Z"
   },
   {
    "duration": 5,
    "start_time": "2021-08-08T18:49:53.552Z"
   },
   {
    "duration": 11,
    "start_time": "2021-08-08T18:49:53.558Z"
   },
   {
    "duration": 20,
    "start_time": "2021-08-08T18:49:53.570Z"
   },
   {
    "duration": 122,
    "start_time": "2021-08-08T18:50:13.385Z"
   },
   {
    "duration": 10,
    "start_time": "2021-08-08T18:50:31.218Z"
   },
   {
    "duration": 13,
    "start_time": "2021-08-08T18:50:33.034Z"
   },
   {
    "duration": 119,
    "start_time": "2021-08-08T18:50:38.007Z"
   },
   {
    "duration": 119,
    "start_time": "2021-08-08T18:50:58.129Z"
   },
   {
    "duration": 114,
    "start_time": "2021-08-08T18:51:05.609Z"
   },
   {
    "duration": 4442,
    "start_time": "2021-08-08T21:31:51.980Z"
   },
   {
    "duration": 1097,
    "start_time": "2021-08-08T21:31:56.424Z"
   },
   {
    "duration": 3,
    "start_time": "2021-08-08T21:31:57.523Z"
   },
   {
    "duration": 4,
    "start_time": "2021-08-08T21:31:57.528Z"
   },
   {
    "duration": 6,
    "start_time": "2021-08-08T21:31:57.533Z"
   },
   {
    "duration": 5,
    "start_time": "2021-08-08T21:31:57.541Z"
   },
   {
    "duration": 5,
    "start_time": "2021-08-08T21:31:57.548Z"
   },
   {
    "duration": 1384,
    "start_time": "2021-08-08T21:31:57.555Z"
   },
   {
    "duration": 27,
    "start_time": "2021-08-08T21:31:58.942Z"
   },
   {
    "duration": 10,
    "start_time": "2021-08-08T21:31:58.970Z"
   },
   {
    "duration": 7,
    "start_time": "2021-08-08T21:31:58.982Z"
   },
   {
    "duration": 4,
    "start_time": "2021-08-08T21:31:58.990Z"
   },
   {
    "duration": 12,
    "start_time": "2021-08-08T21:31:58.996Z"
   },
   {
    "duration": 68,
    "start_time": "2021-08-08T21:31:59.010Z"
   },
   {
    "duration": 12,
    "start_time": "2021-08-08T21:31:59.080Z"
   },
   {
    "duration": 92,
    "start_time": "2021-08-08T21:31:59.093Z"
   },
   {
    "duration": 409,
    "start_time": "2021-08-08T21:31:59.186Z"
   },
   {
    "duration": 223,
    "start_time": "2021-08-08T21:31:59.597Z"
   },
   {
    "duration": 1406,
    "start_time": "2021-08-08T21:31:59.821Z"
   },
   {
    "duration": 54,
    "start_time": "2021-08-08T21:32:01.229Z"
   },
   {
    "duration": 13,
    "start_time": "2021-08-08T21:32:01.285Z"
   },
   {
    "duration": 103,
    "start_time": "2021-08-08T21:32:01.299Z"
   },
   {
    "duration": 23,
    "start_time": "2021-08-08T21:32:01.405Z"
   },
   {
    "duration": 18,
    "start_time": "2021-08-08T21:32:01.431Z"
   },
   {
    "duration": 78,
    "start_time": "2021-08-08T21:32:01.451Z"
   },
   {
    "duration": 122,
    "start_time": "2021-08-08T21:32:01.531Z"
   },
   {
    "duration": 1378,
    "start_time": "2021-08-08T21:32:01.655Z"
   },
   {
    "duration": 29,
    "start_time": "2021-08-08T21:32:03.036Z"
   },
   {
    "duration": 11,
    "start_time": "2021-08-08T21:32:03.067Z"
   },
   {
    "duration": 9,
    "start_time": "2021-08-08T21:32:03.079Z"
   },
   {
    "duration": 9,
    "start_time": "2021-08-08T21:32:03.089Z"
   },
   {
    "duration": 9,
    "start_time": "2021-08-08T21:32:03.100Z"
   },
   {
    "duration": 3,
    "start_time": "2021-08-08T21:32:03.111Z"
   },
   {
    "duration": 69,
    "start_time": "2021-08-08T21:32:03.116Z"
   },
   {
    "duration": 2,
    "start_time": "2021-08-08T21:32:03.187Z"
   },
   {
    "duration": 5,
    "start_time": "2021-08-08T21:32:03.191Z"
   },
   {
    "duration": 10,
    "start_time": "2021-08-08T21:32:03.198Z"
   },
   {
    "duration": 7,
    "start_time": "2021-08-08T21:32:03.209Z"
   },
   {
    "duration": 15,
    "start_time": "2021-08-08T21:32:03.218Z"
   },
   {
    "duration": 153,
    "start_time": "2021-08-08T21:32:03.234Z"
   },
   {
    "duration": 125,
    "start_time": "2021-08-08T21:32:03.389Z"
   },
   {
    "duration": 12,
    "start_time": "2021-08-08T21:32:03.516Z"
   },
   {
    "duration": 8,
    "start_time": "2021-08-08T21:32:03.529Z"
   },
   {
    "duration": 212,
    "start_time": "2021-08-08T21:32:03.539Z"
   },
   {
    "duration": 197,
    "start_time": "2021-08-08T21:32:03.753Z"
   },
   {
    "duration": 13,
    "start_time": "2021-08-08T21:32:03.951Z"
   },
   {
    "duration": 334,
    "start_time": "2021-08-08T21:32:03.965Z"
   },
   {
    "duration": 5,
    "start_time": "2021-08-08T21:32:04.301Z"
   },
   {
    "duration": 9,
    "start_time": "2021-08-08T21:32:04.308Z"
   },
   {
    "duration": 197,
    "start_time": "2021-08-08T21:32:04.319Z"
   },
   {
    "duration": 8,
    "start_time": "2021-08-08T21:32:04.518Z"
   },
   {
    "duration": 11,
    "start_time": "2021-08-08T21:32:04.528Z"
   },
   {
    "duration": 8,
    "start_time": "2021-08-08T21:32:04.540Z"
   },
   {
    "duration": 167,
    "start_time": "2021-08-08T21:32:04.550Z"
   },
   {
    "duration": 5,
    "start_time": "2021-08-08T21:32:04.719Z"
   },
   {
    "duration": 153,
    "start_time": "2021-08-08T21:32:04.725Z"
   },
   {
    "duration": 147,
    "start_time": "2021-08-08T21:32:04.880Z"
   },
   {
    "duration": 4,
    "start_time": "2021-08-08T21:32:05.029Z"
   },
   {
    "duration": 12,
    "start_time": "2021-08-08T21:32:05.035Z"
   },
   {
    "duration": 8,
    "start_time": "2021-08-08T21:32:05.049Z"
   },
   {
    "duration": 119,
    "start_time": "2021-08-08T21:32:05.058Z"
   },
   {
    "duration": 5,
    "start_time": "2021-08-08T21:32:05.179Z"
   },
   {
    "duration": 125,
    "start_time": "2021-08-08T21:32:05.186Z"
   },
   {
    "duration": 11,
    "start_time": "2021-08-08T21:32:05.312Z"
   },
   {
    "duration": 13,
    "start_time": "2021-08-08T21:32:05.324Z"
   },
   {
    "duration": 115,
    "start_time": "2021-08-08T21:32:05.338Z"
   },
   {
    "duration": 8,
    "start_time": "2021-08-08T21:32:05.454Z"
   },
   {
    "duration": 112,
    "start_time": "2021-08-08T21:32:05.467Z"
   },
   {
    "duration": 333,
    "start_time": "2021-08-09T12:16:52.377Z"
   },
   {
    "duration": 18210,
    "start_time": "2021-08-09T12:16:57.101Z"
   },
   {
    "duration": 1863,
    "start_time": "2021-08-09T12:17:15.314Z"
   },
   {
    "duration": 4,
    "start_time": "2021-08-09T12:17:17.180Z"
   },
   {
    "duration": 13,
    "start_time": "2021-08-09T12:17:17.187Z"
   },
   {
    "duration": 8,
    "start_time": "2021-08-09T12:17:17.202Z"
   },
   {
    "duration": 8,
    "start_time": "2021-08-09T12:17:17.213Z"
   },
   {
    "duration": 32,
    "start_time": "2021-08-09T12:17:17.224Z"
   },
   {
    "duration": 1943,
    "start_time": "2021-08-09T12:17:17.262Z"
   },
   {
    "duration": 32,
    "start_time": "2021-08-09T12:17:19.209Z"
   },
   {
    "duration": 19,
    "start_time": "2021-08-09T12:17:19.244Z"
   },
   {
    "duration": 11,
    "start_time": "2021-08-09T12:17:19.267Z"
   },
   {
    "duration": 10,
    "start_time": "2021-08-09T12:17:19.281Z"
   },
   {
    "duration": 21,
    "start_time": "2021-08-09T12:17:19.293Z"
   },
   {
    "duration": 90,
    "start_time": "2021-08-09T12:17:19.317Z"
   },
   {
    "duration": 17,
    "start_time": "2021-08-09T12:17:19.409Z"
   },
   {
    "duration": 102,
    "start_time": "2021-08-09T12:17:19.429Z"
   },
   {
    "duration": 857,
    "start_time": "2021-08-09T12:17:19.533Z"
   },
   {
    "duration": 387,
    "start_time": "2021-08-09T12:17:20.392Z"
   },
   {
    "duration": 1941,
    "start_time": "2021-08-09T12:17:20.781Z"
   },
   {
    "duration": 109,
    "start_time": "2021-08-09T12:17:22.725Z"
   },
   {
    "duration": 22,
    "start_time": "2021-08-09T12:17:22.837Z"
   },
   {
    "duration": 112,
    "start_time": "2021-08-09T12:17:22.862Z"
   },
   {
    "duration": 8,
    "start_time": "2021-08-09T12:17:22.979Z"
   },
   {
    "duration": 8,
    "start_time": "2021-08-09T12:17:22.990Z"
   },
   {
    "duration": 101,
    "start_time": "2021-08-09T12:17:23.000Z"
   },
   {
    "duration": 182,
    "start_time": "2021-08-09T12:17:23.103Z"
   },
   {
    "duration": 1992,
    "start_time": "2021-08-09T12:17:23.287Z"
   },
   {
    "duration": 43,
    "start_time": "2021-08-09T12:17:25.281Z"
   },
   {
    "duration": 15,
    "start_time": "2021-08-09T12:17:25.327Z"
   },
   {
    "duration": 13,
    "start_time": "2021-08-09T12:17:25.344Z"
   },
   {
    "duration": 24,
    "start_time": "2021-08-09T12:17:25.360Z"
   },
   {
    "duration": 11,
    "start_time": "2021-08-09T12:17:25.386Z"
   },
   {
    "duration": 5,
    "start_time": "2021-08-09T12:17:25.400Z"
   },
   {
    "duration": 101,
    "start_time": "2021-08-09T12:17:25.407Z"
   },
   {
    "duration": 4,
    "start_time": "2021-08-09T12:17:25.510Z"
   },
   {
    "duration": 7,
    "start_time": "2021-08-09T12:17:25.516Z"
   },
   {
    "duration": 19,
    "start_time": "2021-08-09T12:17:25.525Z"
   },
   {
    "duration": 18,
    "start_time": "2021-08-09T12:17:25.546Z"
   },
   {
    "duration": 10,
    "start_time": "2021-08-09T12:17:25.567Z"
   },
   {
    "duration": 260,
    "start_time": "2021-08-09T12:17:25.579Z"
   },
   {
    "duration": 206,
    "start_time": "2021-08-09T12:17:25.842Z"
   },
   {
    "duration": 24,
    "start_time": "2021-08-09T12:17:26.056Z"
   },
   {
    "duration": 17,
    "start_time": "2021-08-09T12:17:26.082Z"
   },
   {
    "duration": 333,
    "start_time": "2021-08-09T12:17:26.102Z"
   },
   {
    "duration": 313,
    "start_time": "2021-08-09T12:17:26.438Z"
   },
   {
    "duration": 22,
    "start_time": "2021-08-09T12:17:26.753Z"
   },
   {
    "duration": 425,
    "start_time": "2021-08-09T12:17:26.778Z"
   },
   {
    "duration": 8,
    "start_time": "2021-08-09T12:17:27.205Z"
   },
   {
    "duration": 12,
    "start_time": "2021-08-09T12:17:27.216Z"
   },
   {
    "duration": 331,
    "start_time": "2021-08-09T12:17:27.230Z"
   },
   {
    "duration": 15,
    "start_time": "2021-08-09T12:17:27.564Z"
   },
   {
    "duration": 16,
    "start_time": "2021-08-09T12:17:27.581Z"
   },
   {
    "duration": 13,
    "start_time": "2021-08-09T12:17:27.600Z"
   },
   {
    "duration": 285,
    "start_time": "2021-08-09T12:17:27.615Z"
   },
   {
    "duration": 7,
    "start_time": "2021-08-09T12:17:27.902Z"
   },
   {
    "duration": 256,
    "start_time": "2021-08-09T12:17:27.911Z"
   },
   {
    "duration": 252,
    "start_time": "2021-08-09T12:17:28.170Z"
   },
   {
    "duration": 359,
    "start_time": "2021-08-09T12:18:20.873Z"
   },
   {
    "duration": 304,
    "start_time": "2021-08-09T12:19:07.879Z"
   },
   {
    "duration": 8046,
    "start_time": "2021-08-09T12:19:53.437Z"
   },
   {
    "duration": 4,
    "start_time": "2021-08-09T12:20:01.486Z"
   },
   {
    "duration": 40,
    "start_time": "2021-08-09T12:20:01.493Z"
   },
   {
    "duration": 23,
    "start_time": "2021-08-09T12:20:01.536Z"
   },
   {
    "duration": 67,
    "start_time": "2021-08-09T12:20:01.563Z"
   },
   {
    "duration": 50,
    "start_time": "2021-08-09T12:20:01.632Z"
   },
   {
    "duration": 76,
    "start_time": "2021-08-09T12:20:01.685Z"
   },
   {
    "duration": 3155,
    "start_time": "2021-08-09T12:20:01.767Z"
   },
   {
    "duration": 28,
    "start_time": "2021-08-09T12:20:04.926Z"
   },
   {
    "duration": 19,
    "start_time": "2021-08-09T12:20:04.957Z"
   },
   {
    "duration": 22,
    "start_time": "2021-08-09T12:20:04.978Z"
   },
   {
    "duration": 25,
    "start_time": "2021-08-09T12:20:05.002Z"
   },
   {
    "duration": 30,
    "start_time": "2021-08-09T12:20:05.030Z"
   },
   {
    "duration": 199,
    "start_time": "2021-08-09T12:20:05.063Z"
   },
   {
    "duration": 19,
    "start_time": "2021-08-09T12:20:05.265Z"
   },
   {
    "duration": 114,
    "start_time": "2021-08-09T12:20:05.286Z"
   },
   {
    "duration": 312,
    "start_time": "2021-08-09T12:20:05.403Z"
   },
   {
    "duration": 265,
    "start_time": "2021-08-09T12:20:05.718Z"
   },
   {
    "duration": 2139,
    "start_time": "2021-08-09T12:20:05.985Z"
   },
   {
    "duration": 77,
    "start_time": "2021-08-09T12:20:08.127Z"
   },
   {
    "duration": 18,
    "start_time": "2021-08-09T12:20:08.206Z"
   },
   {
    "duration": 17,
    "start_time": "2021-08-09T12:20:08.226Z"
   },
   {
    "duration": 17,
    "start_time": "2021-08-09T12:20:08.249Z"
   },
   {
    "duration": 8,
    "start_time": "2021-08-09T12:20:08.270Z"
   },
   {
    "duration": 275,
    "start_time": "2021-08-09T12:20:08.280Z"
   },
   {
    "duration": 226,
    "start_time": "2021-08-09T12:20:08.558Z"
   },
   {
    "duration": 2298,
    "start_time": "2021-08-09T12:20:08.787Z"
   },
   {
    "duration": 36,
    "start_time": "2021-08-09T12:20:11.087Z"
   },
   {
    "duration": 14,
    "start_time": "2021-08-09T12:20:11.126Z"
   },
   {
    "duration": 13,
    "start_time": "2021-08-09T12:20:11.142Z"
   },
   {
    "duration": 20,
    "start_time": "2021-08-09T12:20:11.158Z"
   },
   {
    "duration": 19,
    "start_time": "2021-08-09T12:20:11.180Z"
   },
   {
    "duration": 10,
    "start_time": "2021-08-09T12:20:11.202Z"
   },
   {
    "duration": 119,
    "start_time": "2021-08-09T12:20:11.214Z"
   },
   {
    "duration": 3,
    "start_time": "2021-08-09T12:20:11.336Z"
   },
   {
    "duration": 19,
    "start_time": "2021-08-09T12:20:11.341Z"
   },
   {
    "duration": 17,
    "start_time": "2021-08-09T12:20:11.363Z"
   },
   {
    "duration": 20,
    "start_time": "2021-08-09T12:20:11.382Z"
   },
   {
    "duration": 7,
    "start_time": "2021-08-09T12:20:11.405Z"
   },
   {
    "duration": 263,
    "start_time": "2021-08-09T12:20:11.414Z"
   },
   {
    "duration": 224,
    "start_time": "2021-08-09T12:20:11.680Z"
   },
   {
    "duration": 18,
    "start_time": "2021-08-09T12:20:11.906Z"
   },
   {
    "duration": 34,
    "start_time": "2021-08-09T12:20:11.926Z"
   },
   {
    "duration": 473,
    "start_time": "2021-08-09T12:20:11.967Z"
   },
   {
    "duration": 326,
    "start_time": "2021-08-09T12:20:12.443Z"
   },
   {
    "duration": 18,
    "start_time": "2021-08-09T12:20:12.772Z"
   },
   {
    "duration": 473,
    "start_time": "2021-08-09T12:20:12.792Z"
   },
   {
    "duration": 9,
    "start_time": "2021-08-09T12:20:13.268Z"
   },
   {
    "duration": 24,
    "start_time": "2021-08-09T12:20:13.279Z"
   },
   {
    "duration": 322,
    "start_time": "2021-08-09T12:20:13.305Z"
   },
   {
    "duration": 12,
    "start_time": "2021-08-09T12:20:13.630Z"
   },
   {
    "duration": 27,
    "start_time": "2021-08-09T12:20:13.656Z"
   },
   {
    "duration": 17,
    "start_time": "2021-08-09T12:20:13.685Z"
   },
   {
    "duration": 235,
    "start_time": "2021-08-09T12:20:13.704Z"
   },
   {
    "duration": 24,
    "start_time": "2021-08-09T12:20:13.941Z"
   },
   {
    "duration": 240,
    "start_time": "2021-08-09T12:20:13.968Z"
   },
   {
    "duration": 249,
    "start_time": "2021-08-09T12:20:14.211Z"
   },
   {
    "duration": 8,
    "start_time": "2021-08-09T12:20:14.463Z"
   },
   {
    "duration": 43,
    "start_time": "2021-08-09T12:20:14.473Z"
   },
   {
    "duration": 21,
    "start_time": "2021-08-09T12:20:14.519Z"
   },
   {
    "duration": 294,
    "start_time": "2021-08-09T12:20:24.694Z"
   },
   {
    "duration": 296,
    "start_time": "2021-08-09T12:21:02.797Z"
   },
   {
    "duration": 286,
    "start_time": "2021-08-09T12:21:09.685Z"
   },
   {
    "duration": 288,
    "start_time": "2021-08-09T12:21:19.806Z"
   },
   {
    "duration": 6,
    "start_time": "2021-08-09T12:21:45.134Z"
   },
   {
    "duration": 1845,
    "start_time": "2021-08-10T11:51:47.188Z"
   },
   {
    "duration": 5,
    "start_time": "2021-08-10T11:51:49.036Z"
   },
   {
    "duration": 16,
    "start_time": "2021-08-10T11:51:49.043Z"
   },
   {
    "duration": 7,
    "start_time": "2021-08-10T11:51:49.061Z"
   },
   {
    "duration": 6,
    "start_time": "2021-08-10T11:51:49.070Z"
   },
   {
    "duration": 9,
    "start_time": "2021-08-10T11:51:49.078Z"
   },
   {
    "duration": 11,
    "start_time": "2021-08-10T11:51:49.090Z"
   },
   {
    "duration": 1693,
    "start_time": "2021-08-10T11:51:49.104Z"
   },
   {
    "duration": 4,
    "start_time": "2021-08-10T11:51:50.800Z"
   },
   {
    "duration": 52,
    "start_time": "2021-08-10T11:51:50.807Z"
   },
   {
    "duration": 31,
    "start_time": "2021-08-10T11:51:50.862Z"
   },
   {
    "duration": 52,
    "start_time": "2021-08-10T11:51:50.896Z"
   },
   {
    "duration": 8,
    "start_time": "2021-08-10T11:51:50.951Z"
   },
   {
    "duration": 6,
    "start_time": "2021-08-10T11:51:50.962Z"
   },
   {
    "duration": 17,
    "start_time": "2021-08-10T11:51:50.971Z"
   },
   {
    "duration": 97,
    "start_time": "2021-08-10T11:51:50.991Z"
   },
   {
    "duration": 19,
    "start_time": "2021-08-10T11:51:51.090Z"
   },
   {
    "duration": 93,
    "start_time": "2021-08-10T11:51:51.112Z"
   },
   {
    "duration": 875,
    "start_time": "2021-08-10T11:51:51.207Z"
   },
   {
    "duration": 279,
    "start_time": "2021-08-10T11:51:52.085Z"
   },
   {
    "duration": 4,
    "start_time": "2021-08-10T11:51:52.366Z"
   },
   {
    "duration": 1724,
    "start_time": "2021-08-10T11:51:52.376Z"
   },
   {
    "duration": 51,
    "start_time": "2021-08-10T11:51:54.105Z"
   },
   {
    "duration": 71,
    "start_time": "2021-08-10T11:51:54.159Z"
   },
   {
    "duration": 26,
    "start_time": "2021-08-10T11:51:54.232Z"
   },
   {
    "duration": 18,
    "start_time": "2021-08-10T11:51:54.260Z"
   },
   {
    "duration": 11,
    "start_time": "2021-08-10T11:51:54.281Z"
   },
   {
    "duration": 172,
    "start_time": "2021-08-10T11:51:54.294Z"
   },
   {
    "duration": 204,
    "start_time": "2021-08-10T11:51:54.469Z"
   },
   {
    "duration": 1939,
    "start_time": "2021-08-10T11:51:54.675Z"
   },
   {
    "duration": 50,
    "start_time": "2021-08-10T11:51:56.616Z"
   },
   {
    "duration": 17,
    "start_time": "2021-08-10T11:51:56.670Z"
   },
   {
    "duration": 12,
    "start_time": "2021-08-10T11:51:56.689Z"
   },
   {
    "duration": 20,
    "start_time": "2021-08-10T11:51:56.703Z"
   },
   {
    "duration": 45,
    "start_time": "2021-08-10T11:51:56.725Z"
   },
   {
    "duration": 8,
    "start_time": "2021-08-10T11:51:56.772Z"
   },
   {
    "duration": 10,
    "start_time": "2021-08-10T11:51:56.783Z"
   },
   {
    "duration": 12,
    "start_time": "2021-08-10T11:51:56.796Z"
   },
   {
    "duration": 45,
    "start_time": "2021-08-10T11:51:56.810Z"
   },
   {
    "duration": 106,
    "start_time": "2021-08-10T11:51:56.857Z"
   },
   {
    "duration": 4,
    "start_time": "2021-08-10T11:51:56.965Z"
   },
   {
    "duration": 7,
    "start_time": "2021-08-10T11:51:56.971Z"
   },
   {
    "duration": 24,
    "start_time": "2021-08-10T11:51:56.980Z"
   },
   {
    "duration": 24,
    "start_time": "2021-08-10T11:51:57.007Z"
   },
   {
    "duration": 28,
    "start_time": "2021-08-10T11:51:57.033Z"
   },
   {
    "duration": 246,
    "start_time": "2021-08-10T11:51:57.063Z"
   },
   {
    "duration": 302,
    "start_time": "2021-08-10T11:51:57.312Z"
   },
   {
    "duration": 41,
    "start_time": "2021-08-10T11:51:57.617Z"
   },
   {
    "duration": 11,
    "start_time": "2021-08-10T11:51:57.661Z"
   },
   {
    "duration": 500,
    "start_time": "2021-08-10T11:51:57.675Z"
   },
   {
    "duration": 318,
    "start_time": "2021-08-10T11:51:58.178Z"
   },
   {
    "duration": 17,
    "start_time": "2021-08-10T11:51:58.498Z"
   },
   {
    "duration": 455,
    "start_time": "2021-08-10T11:51:58.517Z"
   },
   {
    "duration": 8,
    "start_time": "2021-08-10T11:51:58.975Z"
   },
   {
    "duration": 23,
    "start_time": "2021-08-10T11:51:58.985Z"
   },
   {
    "duration": 314,
    "start_time": "2021-08-10T11:51:59.010Z"
   },
   {
    "duration": 12,
    "start_time": "2021-08-10T11:51:59.327Z"
   },
   {
    "duration": 25,
    "start_time": "2021-08-10T11:51:59.341Z"
   },
   {
    "duration": 18,
    "start_time": "2021-08-10T11:51:59.368Z"
   },
   {
    "duration": 270,
    "start_time": "2021-08-10T11:51:59.389Z"
   },
   {
    "duration": 8,
    "start_time": "2021-08-10T11:51:59.662Z"
   },
   {
    "duration": 22,
    "start_time": "2021-08-10T11:51:59.673Z"
   },
   {
    "duration": 727,
    "start_time": "2021-08-10T11:51:59.698Z"
   },
   {
    "duration": 6,
    "start_time": "2021-08-10T11:52:00.428Z"
   },
   {
    "duration": 39,
    "start_time": "2021-08-10T11:52:00.436Z"
   },
   {
    "duration": 26,
    "start_time": "2021-08-10T11:52:00.477Z"
   },
   {
    "duration": 193,
    "start_time": "2021-08-10T11:52:00.510Z"
   },
   {
    "duration": 5,
    "start_time": "2021-08-10T11:52:00.707Z"
   },
   {
    "duration": 27,
    "start_time": "2021-08-10T11:52:00.715Z"
   },
   {
    "duration": 215,
    "start_time": "2021-08-10T11:52:00.745Z"
   },
   {
    "duration": 16,
    "start_time": "2021-08-10T11:52:00.963Z"
   },
   {
    "duration": 40,
    "start_time": "2021-08-10T11:52:00.982Z"
   },
   {
    "duration": 198,
    "start_time": "2021-08-10T11:52:01.024Z"
   },
   {
    "duration": 12,
    "start_time": "2021-08-10T11:52:01.224Z"
   },
   {
    "duration": 206,
    "start_time": "2021-08-10T11:52:01.238Z"
   },
   {
    "duration": 10880,
    "start_time": "2021-08-10T11:52:01.447Z"
   }
  ],
  "kernelspec": {
   "display_name": "Python 3",
   "language": "python",
   "name": "python3"
  },
  "language_info": {
   "codemirror_mode": {
    "name": "ipython",
    "version": 3
   },
   "file_extension": ".py",
   "mimetype": "text/x-python",
   "name": "python",
   "nbconvert_exporter": "python",
   "pygments_lexer": "ipython3",
   "version": "3.8.10"
  },
  "toc": {
   "base_numbering": 1,
   "nav_menu": {},
   "number_sections": true,
   "sideBar": true,
   "skip_h1_title": true,
   "title_cell": "Table of Contents",
   "title_sidebar": "Contents",
   "toc_cell": false,
   "toc_position": {},
   "toc_section_display": true,
   "toc_window_display": true
  }
 },
 "nbformat": 4,
 "nbformat_minor": 5
}
