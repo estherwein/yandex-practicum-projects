{
 "cells": [
  {
   "cell_type": "markdown",
   "id": "attached-grove",
   "metadata": {},
   "source": [
    "# Review\n",
    "\n",
    "Hi, there!\n",
    "\n",
    "My name is Alpamys and I am your code reviewer for this project. \n",
    "\n",
    "I want to set things up as following:\n",
    "<div class=\"alert alert-success\">\n",
    "<b>Reviewer's comment:</b> if everything is done succesfully\n",
    "</div>\n",
    "\n",
    "<div class=\"alert alert-warning\">\n",
    "<b>Reviewer's comment: </b> if I can give some recommendations\n",
    "</div>\n",
    "\n",
    "<div class=\"alert alert-danger\">\n",
    "<b>Reviewer's comment:</b> if the block requires some corrections.\n",
    "</div>    "
   ]
  },
  {
   "cell_type": "markdown",
   "id": "polyphonic-proceeding",
   "metadata": {},
   "source": [
    "\n",
    "<span style=\"color:orange\">\n",
    "\n",
    "**General feedback v.1**\n",
    "\n",
    "</span>\n",
    "<div style=\"border:solid orange 2px; padding: 40px\">\n",
    "\n",
    "First of all, I want to thank you for sending your project. You've done a really amazing job on it.\n",
    "\n",
    "Moreover, I loved how you were trying to go beyond and demonstrate some overperformance. \n",
    "    \n",
    "Table of contents - 🔥🔥🔥\n",
    "\n",
    "Unfortunately, your work can't be accepted due to some minor issues. \n",
    "    \n",
    "Here some general recommendations that can make your work even better\n",
    "* I would recommend not to underestimate introductory sections. It is the very first thing that the reader sees, thus we really want to create good first impression \n",
    "* It might be a good idea to use uniform style and figure size througout the work. By doing so we ensure the coherence between visualizations, so that they will seem to be telling the same big story. By the following [link](https://matplotlib.org/stable/gallery/style_sheets/style_sheets_reference.html) you can find gallery of maplotlib styles.\n",
    "* In some figures you've not provided any axis-labels. Please, make sure that each figure has it's title and X/Y-axis labels. Otherwise, we would get some nameless and uninterpretable visualization\n",
    "* I believe that you will find LaTeX very useful. [Here](https://towardsdatascience.com/write-markdown-latex-in-the-jupyter-notebook-10985edb91fd) you can find a great material on Markdowns & LaTeX.  \n",
    "* Hypothesis testing part of the research was weaker in contrast to other sections. Thus, I highly encourage to revise lectures on hypothesis testing\n",
    "\n",
    "Your work is impressive, however, please, keep in mind that even perfection has room for improvement. Thus, I really encourage you not to stop. Keep progressing!\n"
   ]
  },
  {
   "cell_type": "markdown",
   "id": "differential-pearl",
   "metadata": {},
   "source": [
    "<div class='alert alert-info'><b>Student comment:</b><br />\n",
    "Thank you very much, Alpamys, both for the kind words and for the thoughtful review. <br />\n",
    "I have read every word carefully, and tried to apply your suggestions, augmented by some of my own. <br />\n",
    "Looking forward to reading your new insights!\n",
    "</div>"
   ]
  },
  {
   "cell_type": "markdown",
   "id": "undefined-gazette",
   "metadata": {},
   "source": [
    "\n",
    "<span style=\"color:orange\">\n",
    "\n",
    "**General feedback v.2**\n",
    "\n",
    "</span>\n",
    "<div style=\"border:solid orange 2px; padding: 40px\">\n",
    "    \n",
    "Hi, Daniel!\n",
    "    \n",
    "Happy to see you again :)\n",
    "    \n",
    "Congratulation, your work is accepted!\n",
    "    \n",
    "Thank you for not leaving without attention any of my remarks! \n",
    "    \n",
    "You've significantly improved your work! Hope that my recommendations and suggestions were helpful!\n",
    "    \n",
    "On the whole, everything seems to be OK! Just make sure that you totally understand what advantages and disadvantages each hypothesis testing method has. For example, in this work you've use Mann-Whitney U test. However, you have anyways tested samples for equal variance, even if it's not required by the Mann-Whitney U test. The aforementioned test has its own assumptions that should be met, thus those assumptions should've been checked\n",
    "    \n",
    "https://statistics.laerd.com/spss-tutorials/mann-whitney-u-test-using-spss-statistics.php#:~:text=The%20Mann%2DWhitney%20U%20test,continuous%2C%20but%20not%20normally%20distributed.&text=The%20Mann%2DWhitney%20U%20test%20is%20often%20considered%20the%20nonparametric,is%20not%20always%20the%20case."
   ]
  },
  {
   "cell_type": "code",
   "execution_count": 1,
   "id": "lined-chemistry",
   "metadata": {
    "scrolled": true
   },
   "outputs": [],
   "source": [
    "!pip install -q --user --upgrade pandas\n",
    "!pip install -q --user --upgrade matplotlib-venn\n",
    "!pip install -q --user --upgrade seaborn"
   ]
  },
  {
   "cell_type": "markdown",
   "id": "saved-correspondence",
   "metadata": {},
   "source": [
    "<s>\n",
    "<font color='orange'><b><u>REMARK</u></b></font>\n",
    "<div class=\"alert alert-warning\" style=\"box-shadow: 4px 4px 4px\">\n",
    "    \n",
    "It's really great that you're including installation commands. \n",
    "    \n",
    "However, we can make even greater by hiding installation logs by using <b>-q</b> command\n",
    "    \n",
    "Usage example - <b>pip install -q --user --upgrade pandas</b>\n",
    "</s>"
   ]
  },
  {
   "cell_type": "code",
   "execution_count": 2,
   "id": "promotional-department",
   "metadata": {},
   "outputs": [],
   "source": [
    "import pandas as pd\n",
    "import numpy as np\n",
    "import scipy.stats as st\n",
    "import matplotlib.pyplot as plt\n",
    "import seaborn as sns\n",
    "import os\n",
    "from matplotlib_venn import venn3, venn3_circles\n",
    "from IPython.display import Markdown as md"
   ]
  },
  {
   "cell_type": "code",
   "execution_count": 3,
   "id": "finished-personal",
   "metadata": {},
   "outputs": [],
   "source": [
    "import sys\n",
    "import warnings\n",
    "if not sys.warnoptions:\n",
    "       warnings.simplefilter(\"ignore\")"
   ]
  },
  {
   "cell_type": "markdown",
   "id": "reported-ghana",
   "metadata": {},
   "source": [
    "# Gaming advertisement\n",
    "***\n",
    "##### commissioned by: \"Ice\" - online gaming store"
   ]
  },
  {
   "cell_type": "markdown",
   "id": "private-juvenile",
   "metadata": {},
   "source": [
    "This report aims to recognize patterns that show whether a game will succeed or fail (sales wise),  \n",
    "and recommend which platforms and genres should the store focus advertisement on for the next year.  \n",
    "\n",
    "Data operated on is from open-source online sources, packaged as a .csv file."
   ]
  },
  {
   "cell_type": "markdown",
   "id": "difficult-school",
   "metadata": {},
   "source": [
    "<font color='green'><b><u>REVIEW</u></b></font>\n",
    "<div class=\"alert alert-success\" style=\"box-shadow: 4px 4px 4px\">\n",
    "   \n",
    "I was really happy to see some introductory section!"
   ]
  },
  {
   "cell_type": "markdown",
   "id": "quality-animation",
   "metadata": {},
   "source": [
    "<s>\n",
    "<font color='orange'><b><u>REMARK</u></b></font>\n",
    "<div class=\"alert alert-warning\" style=\"box-shadow: 4px 4px 4px\">\n",
    "        \n",
    "By the following [link](https://edubirdie.com/blog/research-paper-introduction) you can find extensive explanation about the structure of a great research introduction. I really loved your notebook, however, introductory part is one of the weakest sections in this work despite the fact that it is one of the very first things that the reader sees.\n",
    "    \n",
    "Therefore, I really suggest to check out the post that can be found by the link above. I really believe that you'll become a good profession, thus let's fix your introductory sections to make your future works even greater 😉\n",
    "</s>"
   ]
  },
  {
   "cell_type": "markdown",
   "id": "suburban-intake",
   "metadata": {},
   "source": [
    "The Success of a Game - \n",
    "What does that mean, and how do we measure it?\n",
    "\n",
    "\n",
    "To answer that, it's needed to understand the mindset of gamers, and the history and current state of the gaming industry as a whole.  \n",
    "\n",
    "In this (digital) paper, we are going to explore relations between various gaming consoles,  \n",
    "different genres and and ratings (ESRB), \n",
    "and try to assess the weight of both user and critic ratings on the market performance of a title.\n",
    "\n",
    "Different gamers have different tastes, even more so when they are from different cultures, and even continents\\!  \n",
    "We will compare North America, Europe and Japan (biggest gaming markets),  \n",
    "and see what the gamers prefer."
   ]
  },
  {
   "cell_type": "markdown",
   "id": "presidential-marine",
   "metadata": {},
   "source": [
    "<font color='green'><b><u>REVIEW v.2</u></b></font>\n",
    "<div class=\"alert alert-success\" style=\"box-shadow: 4px 4px 4px\">\n",
    "    \n",
    "Huge progress💪"
   ]
  },
  {
   "cell_type": "markdown",
   "id": "postal-democrat",
   "metadata": {},
   "source": [
    "<a class=\"anchor\" id=\"0_toc\"></a>\n",
    "# Table of Contents\n",
    "***\n",
    "\n",
    "1. [Datasets](#1-data_files)\n",
    "    <br />&nbsp;&nbsp;[Overview](#1-data_overview)\n",
    "2. [Preprocess](#2-preprocess)\n",
    "    1. [Column names](#2-preprocess_columns)\n",
    "    2. [Duplicates](#2-preprocess_duplicates)\n",
    "    3. [Missing values](#2-preprocess_na)\n",
    "    4. [Data types](#2-preprocess_dtypes)\n",
    "    5. [Synthetic features](#2-preprocess_synthetic)\n",
    "    <br />[Conclusions](#2-preprocess_conclusions)\n",
    "3. [Analysis](#3-analysis)\n",
    "    1. [Titles per year](#3-analysis_year_release)\n",
    "    2. [Total sales by platform](#3-analysis_sales_by_platform)\n",
    "    3. [Top platforms' sales distribution by year](#3-analysis_sales_distribution)\n",
    "    4. [Potentially profitable platforms](#3-analysis_profitable_platforms)\n",
    "    5. [Reviews effect on sales](#3-analysis_reviews)\n",
    "    6. [Comparison of genres](#3-analysis_genres)\n",
    "    <br />[Conclusions](#3-analysis_conclusions)\n",
    "4. [Regional user profiles](#4-region_profiles)\n",
    "    1. [Top 5 platforms by region](#4-region_platforms)\n",
    "    2. [Top 5 genres by region](#4-region_genres)\n",
    "    3. [ESRB ratings](#4-region_esrb)\n",
    "    <br />[Conclusions](#4-region_conclusions)\n",
    "4. [Hypotheses testing](#5-hypotheses)\n",
    "    1. [User ratings of Xbox One and PC platforms](#5-platforms_user_ratings)\n",
    "    2. [User ratings of Action and Sports genres](#5-genres_user_ratings)\n",
    "    <br />[Conclusions](#5-hypotheses_conclusions)\n",
    "6. [Conclusions](#6-conclusions)"
   ]
  },
  {
   "cell_type": "markdown",
   "id": "static-thomas",
   "metadata": {},
   "source": [
    "<font color='green'><b><u>REVIEW</u></b></font>\n",
    "<div class=\"alert alert-success\" style=\"box-shadow: 4px 4px 4px\">\n",
    "😍"
   ]
  },
  {
   "cell_type": "markdown",
   "id": "beneficial-preserve",
   "metadata": {},
   "source": [
    "<a class=\"anchor\" id=\"1-data_files\"></a>\n",
    "## Parse Dataset\n",
    "***\n",
    "[back to Table of Contents](#0_toc)"
   ]
  },
  {
   "cell_type": "code",
   "execution_count": 4,
   "id": "hispanic-leadership",
   "metadata": {},
   "outputs": [],
   "source": [
    "filename = 'games.csv'"
   ]
  },
  {
   "cell_type": "code",
   "execution_count": 5,
   "id": "flying-occupation",
   "metadata": {},
   "outputs": [],
   "source": [
    "def print_file_metadata(filepath):\n",
    "    \"\"\"Prints metadata related to files\"\"\"\n",
    "    \n",
    "    try:\n",
    "        !du -m \"$filepath\"      # filesize in MiB\n",
    "        !stat -c %y \"$filepath\" # date, filename\n",
    "        !file \"$filepath\"       # file type, encoding\n",
    "        !wc -l \"$filepath\"      # line count\n",
    "        !head -n3 \"$filepath\"   # file preview\n",
    "    except Exception as e:\n",
    "        print(e)"
   ]
  },
  {
   "cell_type": "code",
   "execution_count": 6,
   "id": "religious-runner",
   "metadata": {},
   "outputs": [],
   "source": [
    "def load_file(file):\n",
    "    \"\"\"Returns a parsed DataFrame\"\"\"\n",
    "    \n",
    "    display(md(f'\\n***\\n#### Loading {file}..\\n\\n'))\n",
    "\n",
    "    filepath = f'/datasets/{file}'\n",
    "    if not os.path.isfile(filepath):\n",
    "        filepath = file\n",
    "\n",
    "    print_file_metadata(filepath)\n",
    "\n",
    "    return pd.read_csv(filepath)"
   ]
  },
  {
   "cell_type": "code",
   "execution_count": 7,
   "id": "personalized-cherry",
   "metadata": {},
   "outputs": [
    {
     "data": {
      "text/markdown": [
       "\n",
       "***\n",
       "#### Loading games.csv..\n",
       "\n"
      ],
      "text/plain": [
       "<IPython.core.display.Markdown object>"
      ]
     },
     "metadata": {},
     "output_type": "display_data"
    },
    {
     "name": "stdout",
     "output_type": "stream",
     "text": [
      "2\tgames.csv\n",
      "stat: illegal option -- c\n",
      "usage: stat [-FlLnqrsx] [-f format] [-t timefmt] [file ...]\n",
      "games.csv: UTF-8 Unicode text, with CRLF line terminators\n",
      "   16716 games.csv\n",
      "Name,Platform,Year_of_Release,Genre,NA_sales,EU_sales,JP_sales,Other_sales,Critic_Score,User_Score,Rating\n",
      "Wii Sports,Wii,2006.0,Sports,41.36,28.96,3.77,8.45,76.0,8,E\n",
      "Super Mario Bros.,NES,1985.0,Platform,29.08,3.58,6.81,0.77,,,\n"
     ]
    }
   ],
   "source": [
    "df = load_file('games.csv')"
   ]
  },
  {
   "cell_type": "markdown",
   "id": "powered-spanking",
   "metadata": {},
   "source": [
    "Dataset was parsed successfully."
   ]
  },
  {
   "cell_type": "markdown",
   "id": "insured-parking",
   "metadata": {},
   "source": [
    "<a class=\"anchor\" id=\"1-data_overview\"></a>\n",
    "### Overview\n",
    "[back to Table of Contents](#0_toc)"
   ]
  },
  {
   "cell_type": "code",
   "execution_count": 8,
   "id": "minus-iraqi",
   "metadata": {
    "scrolled": false
   },
   "outputs": [
    {
     "name": "stdout",
     "output_type": "stream",
     "text": [
      "<class 'pandas.core.frame.DataFrame'>\n",
      "RangeIndex: 16715 entries, 0 to 16714\n",
      "Data columns (total 11 columns):\n",
      " #   Column           Non-Null Count  Dtype  \n",
      "---  ------           --------------  -----  \n",
      " 0   Name             16713 non-null  object \n",
      " 1   Platform         16715 non-null  object \n",
      " 2   Year_of_Release  16446 non-null  float64\n",
      " 3   Genre            16713 non-null  object \n",
      " 4   NA_sales         16715 non-null  float64\n",
      " 5   EU_sales         16715 non-null  float64\n",
      " 6   JP_sales         16715 non-null  float64\n",
      " 7   Other_sales      16715 non-null  float64\n",
      " 8   Critic_Score     8137 non-null   float64\n",
      " 9   User_Score       10014 non-null  object \n",
      " 10  Rating           9949 non-null   object \n",
      "dtypes: float64(6), object(5)\n",
      "memory usage: 1.4+ MB\n"
     ]
    },
    {
     "data": {
      "text/markdown": [
       "<br />data preview:"
      ],
      "text/plain": [
       "<IPython.core.display.Markdown object>"
      ]
     },
     "metadata": {},
     "output_type": "display_data"
    },
    {
     "data": {
      "text/html": [
       "<div>\n",
       "<style scoped>\n",
       "    .dataframe tbody tr th:only-of-type {\n",
       "        vertical-align: middle;\n",
       "    }\n",
       "\n",
       "    .dataframe tbody tr th {\n",
       "        vertical-align: top;\n",
       "    }\n",
       "\n",
       "    .dataframe thead th {\n",
       "        text-align: right;\n",
       "    }\n",
       "</style>\n",
       "<table border=\"1\" class=\"dataframe\">\n",
       "  <thead>\n",
       "    <tr style=\"text-align: right;\">\n",
       "      <th></th>\n",
       "      <th>Name</th>\n",
       "      <th>Platform</th>\n",
       "      <th>Year_of_Release</th>\n",
       "      <th>Genre</th>\n",
       "      <th>NA_sales</th>\n",
       "      <th>EU_sales</th>\n",
       "      <th>JP_sales</th>\n",
       "      <th>Other_sales</th>\n",
       "      <th>Critic_Score</th>\n",
       "      <th>User_Score</th>\n",
       "      <th>Rating</th>\n",
       "    </tr>\n",
       "  </thead>\n",
       "  <tbody>\n",
       "    <tr>\n",
       "      <th>0</th>\n",
       "      <td>Wii Sports</td>\n",
       "      <td>Wii</td>\n",
       "      <td>2006.0</td>\n",
       "      <td>Sports</td>\n",
       "      <td>41.36</td>\n",
       "      <td>28.96</td>\n",
       "      <td>3.77</td>\n",
       "      <td>8.45</td>\n",
       "      <td>76.0</td>\n",
       "      <td>8</td>\n",
       "      <td>E</td>\n",
       "    </tr>\n",
       "    <tr>\n",
       "      <th>1</th>\n",
       "      <td>Super Mario Bros.</td>\n",
       "      <td>NES</td>\n",
       "      <td>1985.0</td>\n",
       "      <td>Platform</td>\n",
       "      <td>29.08</td>\n",
       "      <td>3.58</td>\n",
       "      <td>6.81</td>\n",
       "      <td>0.77</td>\n",
       "      <td>NaN</td>\n",
       "      <td>NaN</td>\n",
       "      <td>NaN</td>\n",
       "    </tr>\n",
       "    <tr>\n",
       "      <th>2</th>\n",
       "      <td>Mario Kart Wii</td>\n",
       "      <td>Wii</td>\n",
       "      <td>2008.0</td>\n",
       "      <td>Racing</td>\n",
       "      <td>15.68</td>\n",
       "      <td>12.76</td>\n",
       "      <td>3.79</td>\n",
       "      <td>3.29</td>\n",
       "      <td>82.0</td>\n",
       "      <td>8.3</td>\n",
       "      <td>E</td>\n",
       "    </tr>\n",
       "    <tr>\n",
       "      <th>3</th>\n",
       "      <td>Wii Sports Resort</td>\n",
       "      <td>Wii</td>\n",
       "      <td>2009.0</td>\n",
       "      <td>Sports</td>\n",
       "      <td>15.61</td>\n",
       "      <td>10.93</td>\n",
       "      <td>3.28</td>\n",
       "      <td>2.95</td>\n",
       "      <td>80.0</td>\n",
       "      <td>8</td>\n",
       "      <td>E</td>\n",
       "    </tr>\n",
       "    <tr>\n",
       "      <th>4</th>\n",
       "      <td>Pokemon Red/Pokemon Blue</td>\n",
       "      <td>GB</td>\n",
       "      <td>1996.0</td>\n",
       "      <td>Role-Playing</td>\n",
       "      <td>11.27</td>\n",
       "      <td>8.89</td>\n",
       "      <td>10.22</td>\n",
       "      <td>1.00</td>\n",
       "      <td>NaN</td>\n",
       "      <td>NaN</td>\n",
       "      <td>NaN</td>\n",
       "    </tr>\n",
       "  </tbody>\n",
       "</table>\n",
       "</div>"
      ],
      "text/plain": [
       "                       Name Platform  Year_of_Release         Genre  NA_sales  \\\n",
       "0                Wii Sports      Wii           2006.0        Sports     41.36   \n",
       "1         Super Mario Bros.      NES           1985.0      Platform     29.08   \n",
       "2            Mario Kart Wii      Wii           2008.0        Racing     15.68   \n",
       "3         Wii Sports Resort      Wii           2009.0        Sports     15.61   \n",
       "4  Pokemon Red/Pokemon Blue       GB           1996.0  Role-Playing     11.27   \n",
       "\n",
       "   EU_sales  JP_sales  Other_sales  Critic_Score User_Score Rating  \n",
       "0     28.96      3.77         8.45          76.0          8      E  \n",
       "1      3.58      6.81         0.77           NaN        NaN    NaN  \n",
       "2     12.76      3.79         3.29          82.0        8.3      E  \n",
       "3     10.93      3.28         2.95          80.0          8      E  \n",
       "4      8.89     10.22         1.00           NaN        NaN    NaN  "
      ]
     },
     "metadata": {},
     "output_type": "display_data"
    },
    {
     "data": {
      "text/markdown": [
       "shape: (16715, 11)"
      ],
      "text/plain": [
       "<IPython.core.display.Markdown object>"
      ]
     },
     "metadata": {},
     "output_type": "display_data"
    }
   ],
   "source": [
    "df.info()\n",
    "display(\n",
    "    md('<br />data preview:'),\n",
    "    df.head(),\n",
    "    md(f'shape: {df.shape}'),\n",
    ")"
   ]
  },
  {
   "cell_type": "markdown",
   "id": "turkish-works",
   "metadata": {},
   "source": [
    "Columns overview from the dataset's originator:\n",
    "\n",
    "- Name\n",
    "- Platform\n",
    "- Year_of_Release\n",
    "- Genre\n",
    "- NA_sales (North American sales in USD million)\n",
    "- EU_sales (sales in Europe in USD million)\n",
    "- JP_sales (sales in Japan in USD million)\n",
    "- Other_sales (sales in other countries in USD million)\n",
    "- Critic_Score (maximum of 100)\n",
    "- User_Score (maximum of 10)\n",
    "- Rating (ESRB)"
   ]
  },
  {
   "cell_type": "markdown",
   "id": "likely-template",
   "metadata": {},
   "source": [
    "ESRB ratings:  \n",
    "https://www.esrb.org/ratings-guide/  \n",
    "https://en.wikipedia.org/wiki/Entertainment_Software_Rating_Board  \n",
    "\n",
    "- Rating Pending (RP)\n",
    "- Early Childhood (EC) - defunct\n",
    "- Kids to Adults (K–A) - renamed to \"Everyone\" in 1998\n",
    "- Everyone (E) \n",
    "- Everyone 10+ (E10+) \n",
    "- Teen (T) \n",
    "- Mature 17+ (M)\n",
    "- Adults Only 18+ (AO) "
   ]
  },
  {
   "cell_type": "markdown",
   "id": "tired-coordination",
   "metadata": {},
   "source": [
    "<a class=\"anchor\" id=\"2-preprocess\"></a>\n",
    "## Preprocess\n",
    "***\n",
    "[back to Table of Contents](#0_toc)\n",
    "1. [Column names](#2-preprocess_columns)\n",
    "2. [Duplicates](#2-preprocess_duplicates)\n",
    "3. [Missing values](#2-preprocess_na)\n",
    "4. [Data types](#2-preprocess_dtypes)\n",
    "5. [Synthetic features](#2-preprocess_synthetic)\n",
    "<br />[Conclusions](#2-preprocess_conclusions)"
   ]
  },
  {
   "cell_type": "markdown",
   "id": "otherwise-metabolism",
   "metadata": {},
   "source": [
    "<a class=\"anchor\" id=\"2-preprocess_columns\"></a>\n",
    "### Column names\n",
    "[up](#2-preprocess)"
   ]
  },
  {
   "cell_type": "markdown",
   "id": "secondary-official",
   "metadata": {},
   "source": [
    "Normalizing names to lower case"
   ]
  },
  {
   "cell_type": "code",
   "execution_count": 9,
   "id": "illegal-warrior",
   "metadata": {},
   "outputs": [],
   "source": [
    "df.columns = df.columns.str.casefold()\n",
    "# df.columns"
   ]
  },
  {
   "cell_type": "markdown",
   "id": "severe-audio",
   "metadata": {},
   "source": [
    "<a class=\"anchor\" id=\"2-preprocess_duplicates\"></a>\n",
    "### Duplicates\n",
    "[up](#2-preprocess)"
   ]
  },
  {
   "cell_type": "code",
   "execution_count": 10,
   "id": "instrumental-notion",
   "metadata": {
    "scrolled": true
   },
   "outputs": [
    {
     "data": {
      "text/html": [
       "<div>\n",
       "<style scoped>\n",
       "    .dataframe tbody tr th:only-of-type {\n",
       "        vertical-align: middle;\n",
       "    }\n",
       "\n",
       "    .dataframe tbody tr th {\n",
       "        vertical-align: top;\n",
       "    }\n",
       "\n",
       "    .dataframe thead th {\n",
       "        text-align: right;\n",
       "    }\n",
       "</style>\n",
       "<table border=\"1\" class=\"dataframe\">\n",
       "  <thead>\n",
       "    <tr style=\"text-align: right;\">\n",
       "      <th></th>\n",
       "      <th>name</th>\n",
       "      <th>platform</th>\n",
       "      <th>year_of_release</th>\n",
       "      <th>genre</th>\n",
       "      <th>na_sales</th>\n",
       "      <th>eu_sales</th>\n",
       "      <th>jp_sales</th>\n",
       "      <th>other_sales</th>\n",
       "      <th>critic_score</th>\n",
       "      <th>user_score</th>\n",
       "      <th>rating</th>\n",
       "    </tr>\n",
       "  </thead>\n",
       "  <tbody>\n",
       "    <tr>\n",
       "      <th>604</th>\n",
       "      <td>Madden NFL 13</td>\n",
       "      <td>PS3</td>\n",
       "      <td>2012.0</td>\n",
       "      <td>Sports</td>\n",
       "      <td>2.11</td>\n",
       "      <td>0.22</td>\n",
       "      <td>0.00</td>\n",
       "      <td>0.23</td>\n",
       "      <td>83.0</td>\n",
       "      <td>5.5</td>\n",
       "      <td>E</td>\n",
       "    </tr>\n",
       "    <tr>\n",
       "      <th>659</th>\n",
       "      <td>NaN</td>\n",
       "      <td>GEN</td>\n",
       "      <td>1993.0</td>\n",
       "      <td>NaN</td>\n",
       "      <td>1.78</td>\n",
       "      <td>0.53</td>\n",
       "      <td>0.00</td>\n",
       "      <td>0.08</td>\n",
       "      <td>NaN</td>\n",
       "      <td>NaN</td>\n",
       "      <td>NaN</td>\n",
       "    </tr>\n",
       "    <tr>\n",
       "      <th>14244</th>\n",
       "      <td>NaN</td>\n",
       "      <td>GEN</td>\n",
       "      <td>1993.0</td>\n",
       "      <td>NaN</td>\n",
       "      <td>0.00</td>\n",
       "      <td>0.00</td>\n",
       "      <td>0.03</td>\n",
       "      <td>0.00</td>\n",
       "      <td>NaN</td>\n",
       "      <td>NaN</td>\n",
       "      <td>NaN</td>\n",
       "    </tr>\n",
       "    <tr>\n",
       "      <th>16230</th>\n",
       "      <td>Madden NFL 13</td>\n",
       "      <td>PS3</td>\n",
       "      <td>2012.0</td>\n",
       "      <td>Sports</td>\n",
       "      <td>0.00</td>\n",
       "      <td>0.01</td>\n",
       "      <td>0.00</td>\n",
       "      <td>0.00</td>\n",
       "      <td>83.0</td>\n",
       "      <td>5.5</td>\n",
       "      <td>E</td>\n",
       "    </tr>\n",
       "  </tbody>\n",
       "</table>\n",
       "</div>"
      ],
      "text/plain": [
       "                name platform  year_of_release   genre  na_sales  eu_sales  \\\n",
       "604    Madden NFL 13      PS3           2012.0  Sports      2.11      0.22   \n",
       "659              NaN      GEN           1993.0     NaN      1.78      0.53   \n",
       "14244            NaN      GEN           1993.0     NaN      0.00      0.00   \n",
       "16230  Madden NFL 13      PS3           2012.0  Sports      0.00      0.01   \n",
       "\n",
       "       jp_sales  other_sales  critic_score user_score rating  \n",
       "604        0.00         0.23          83.0        5.5      E  \n",
       "659        0.00         0.08           NaN        NaN    NaN  \n",
       "14244      0.03         0.00           NaN        NaN    NaN  \n",
       "16230      0.00         0.00          83.0        5.5      E  "
      ]
     },
     "execution_count": 10,
     "metadata": {},
     "output_type": "execute_result"
    }
   ],
   "source": [
    "duplicated = df[df[['name', 'platform', 'year_of_release']].duplicated(keep=False)]\n",
    "duplicated"
   ]
  },
  {
   "cell_type": "code",
   "execution_count": 11,
   "id": "formal-mileage",
   "metadata": {},
   "outputs": [],
   "source": [
    "df.drop(duplicated.iloc[-2:].index, inplace=True)\n",
    "del duplicated"
   ]
  },
  {
   "cell_type": "markdown",
   "id": "younger-house",
   "metadata": {},
   "source": [
    "<font color='green'><b><u>REVIEW</u></b></font>\n",
    "<div class=\"alert alert-success\" style=\"box-shadow: 4px 4px 4px\">\n",
    "    \n",
    "👍"
   ]
  },
  {
   "cell_type": "markdown",
   "id": "unique-married",
   "metadata": {},
   "source": [
    "<a class=\"anchor\" id=\"2-preprocess_na\"></a>\n",
    "### Missing values\n",
    "[up](#2-preprocess)"
   ]
  },
  {
   "cell_type": "code",
   "execution_count": 12,
   "id": "passing-spotlight",
   "metadata": {},
   "outputs": [],
   "source": [
    "def missing_values_summary(df, sort_values=True, hide_empty=False):\n",
    "    \"\"\"Displays a summary of missing values, including count and ratio\"\"\"\n",
    "    \n",
    "    missing_values_count = df.isna().sum().rename('count')\n",
    "    summary = pd.concat([\n",
    "        missing_values_count,\n",
    "        (missing_values_count / df.shape[0]).round(4).rename('ratio')\n",
    "    ], axis=1)\n",
    "    \n",
    "    if sort_values:\n",
    "        summary = summary.sort_values('count')\n",
    "        \n",
    "    if hide_empty:\n",
    "        summary = summary.query('count != 0')\n",
    "    \n",
    "    return summary\n",
    "\n",
    "# missing_values_summary(df)\n",
    "# missing_values_summary(df[['name', 'genre']])"
   ]
  },
  {
   "cell_type": "code",
   "execution_count": 13,
   "id": "certain-development",
   "metadata": {},
   "outputs": [],
   "source": [
    "def get_missing_values(df, *columns, show_count=False, show_sample=False):\n",
    "    \"\"\"Returns missing values entries for either columns\"\"\"\n",
    "    \n",
    "    assert columns, 'Must specify at least 1 column'\n",
    "        \n",
    "    results = df.query(' or '.join(f'{col}.isna()' for col in columns))\n",
    "        \n",
    "    if show_sample:\n",
    "        display(results.sample(show_sample))\n",
    "    \n",
    "    if show_count:\n",
    "        display(missing_values_summary(df[[*columns]]))\n",
    "        \n",
    "    return results\n",
    "\n",
    "# get_missing_values(df, 'year_of_release', show_count=True)\n",
    "# get_missing_values(df, 'name', 'genre', show_sample=True);"
   ]
  },
  {
   "cell_type": "code",
   "execution_count": 14,
   "id": "guided-footage",
   "metadata": {},
   "outputs": [],
   "source": [
    "def get_value_counts(series):\n",
    "    \"\"\"Returns value counts, with ratio\"\"\"\n",
    "    \n",
    "    assert isinstance(series, pd.Series), 'Must be of type pd.Series'\n",
    "    \n",
    "    return pd.concat([\n",
    "        series.value_counts().rename('count'),\n",
    "        series.value_counts(normalize=True).rename('ratio')\n",
    "    ], axis=1).sort_index()\n",
    "\n",
    "# get_value_counts(df['user_score'])"
   ]
  },
  {
   "cell_type": "code",
   "execution_count": 15,
   "id": "improved-edward",
   "metadata": {
    "scrolled": true
   },
   "outputs": [
    {
     "data": {
      "text/html": [
       "<div>\n",
       "<style scoped>\n",
       "    .dataframe tbody tr th:only-of-type {\n",
       "        vertical-align: middle;\n",
       "    }\n",
       "\n",
       "    .dataframe tbody tr th {\n",
       "        vertical-align: top;\n",
       "    }\n",
       "\n",
       "    .dataframe thead th {\n",
       "        text-align: right;\n",
       "    }\n",
       "</style>\n",
       "<table border=\"1\" class=\"dataframe\">\n",
       "  <thead>\n",
       "    <tr style=\"text-align: right;\">\n",
       "      <th></th>\n",
       "      <th>count</th>\n",
       "      <th>ratio</th>\n",
       "    </tr>\n",
       "  </thead>\n",
       "  <tbody>\n",
       "    <tr>\n",
       "      <th>name</th>\n",
       "      <td>1</td>\n",
       "      <td>0.0001</td>\n",
       "    </tr>\n",
       "    <tr>\n",
       "      <th>genre</th>\n",
       "      <td>1</td>\n",
       "      <td>0.0001</td>\n",
       "    </tr>\n",
       "    <tr>\n",
       "      <th>year_of_release</th>\n",
       "      <td>269</td>\n",
       "      <td>0.0161</td>\n",
       "    </tr>\n",
       "    <tr>\n",
       "      <th>user_score</th>\n",
       "      <td>6700</td>\n",
       "      <td>0.4009</td>\n",
       "    </tr>\n",
       "    <tr>\n",
       "      <th>rating</th>\n",
       "      <td>6765</td>\n",
       "      <td>0.4048</td>\n",
       "    </tr>\n",
       "    <tr>\n",
       "      <th>critic_score</th>\n",
       "      <td>8577</td>\n",
       "      <td>0.5132</td>\n",
       "    </tr>\n",
       "  </tbody>\n",
       "</table>\n",
       "</div>"
      ],
      "text/plain": [
       "                 count   ratio\n",
       "name                 1  0.0001\n",
       "genre                1  0.0001\n",
       "year_of_release    269  0.0161\n",
       "user_score        6700  0.4009\n",
       "rating            6765  0.4048\n",
       "critic_score      8577  0.5132"
      ]
     },
     "execution_count": 15,
     "metadata": {},
     "output_type": "execute_result"
    }
   ],
   "source": [
    "missing_values_summary(df, hide_empty=True)"
   ]
  },
  {
   "cell_type": "markdown",
   "id": "accurate-copyright",
   "metadata": {},
   "source": [
    "There are missing values present.  \n",
    "\n",
    "The source of this data is from various 'open source' locations,  \n",
    "and as such might be incomplete, or even erroneous. \n",
    "\n",
    "Further addressing each column in detail:"
   ]
  },
  {
   "cell_type": "markdown",
   "id": "convinced-width",
   "metadata": {},
   "source": [
    "<div class='alert alert-info'><b>Student comment:</b><br />\n",
    "Game data can be scraped (and empty values filled) from sites such as ign.com, gamespot.com, etc..  <br />\n",
    "but it is not a part of the learnt material for this project, and as such will not be used.\n",
    "</div>"
   ]
  },
  {
   "cell_type": "markdown",
   "id": "spatial-conversation",
   "metadata": {},
   "source": [
    "<font color='green'><b><u>REVIEW</u></b></font>\n",
    "<div class=\"alert alert-success\" style=\"box-shadow: 4px 4px 4px\">\n",
    "    \n",
    "Yeap, it is not part of this project. However, it is always up to you! \n",
    "    \n",
    "I would suggest always trying to go beyond of what's asked. That's how we can make huge progress, since we're trying to think outside the box."
   ]
  },
  {
   "cell_type": "markdown",
   "id": "standard-pregnancy",
   "metadata": {},
   "source": [
    "<div class='alert alert-info'><b>Student comment:</b><br />\n",
    "A point I forgot to addreass is that more importantly than whether I can or can not do this, is whether it should be done.  <br />\n",
    "Since the entries in question constitute of merely 1.6% of the data,  <br />\n",
    "wasting time and effort on this, in the context of this exercise, feels exaggerated.  <br /> \n",
    "If there is a chance of <i>significantly</i> improving the results of the analysis by doing this extra bit of work, <br /> then it should be done (if the time-frame permits it).\n",
    "    \n",
    "* p.s. even found an API (https://api-docs.igdb.com/),  \n",
    "    and a python wrapper around it (https://github.com/twitchtv/igdb-api-python), <br />\n",
    "ready to be used for this purpose :)\n",
    "</div>"
   ]
  },
  {
   "cell_type": "markdown",
   "id": "electronic-suspension",
   "metadata": {},
   "source": [
    "<font color='green'><b><u>REVIEW v.2</u></b></font>\n",
    "<div class=\"alert alert-success\" style=\"box-shadow: 4px 4px 4px\">\n",
    "    \n",
    "Can't disagree on that :)\n",
    "   \n",
    "As I mentioned earlier, it's always up to you! It's all about investing your time to sharpen your skills or acquire new ones. That's why I have suggested always trying to \"go beyond\" :)"
   ]
  },
  {
   "cell_type": "markdown",
   "id": "driving-hepatitis",
   "metadata": {},
   "source": [
    "#### 'name' and 'genre' columns"
   ]
  },
  {
   "cell_type": "markdown",
   "id": "unavailable-notification",
   "metadata": {},
   "source": [
    "There is a same amount of missing values for both columns, checking whether they are related."
   ]
  },
  {
   "cell_type": "code",
   "execution_count": 16,
   "id": "editorial-eating",
   "metadata": {},
   "outputs": [
    {
     "data": {
      "text/html": [
       "<div>\n",
       "<style scoped>\n",
       "    .dataframe tbody tr th:only-of-type {\n",
       "        vertical-align: middle;\n",
       "    }\n",
       "\n",
       "    .dataframe tbody tr th {\n",
       "        vertical-align: top;\n",
       "    }\n",
       "\n",
       "    .dataframe thead th {\n",
       "        text-align: right;\n",
       "    }\n",
       "</style>\n",
       "<table border=\"1\" class=\"dataframe\">\n",
       "  <thead>\n",
       "    <tr style=\"text-align: right;\">\n",
       "      <th></th>\n",
       "      <th>name</th>\n",
       "      <th>platform</th>\n",
       "      <th>year_of_release</th>\n",
       "      <th>genre</th>\n",
       "      <th>na_sales</th>\n",
       "      <th>eu_sales</th>\n",
       "      <th>jp_sales</th>\n",
       "      <th>other_sales</th>\n",
       "      <th>critic_score</th>\n",
       "      <th>user_score</th>\n",
       "      <th>rating</th>\n",
       "    </tr>\n",
       "  </thead>\n",
       "  <tbody>\n",
       "    <tr>\n",
       "      <th>659</th>\n",
       "      <td>NaN</td>\n",
       "      <td>GEN</td>\n",
       "      <td>1993.0</td>\n",
       "      <td>NaN</td>\n",
       "      <td>1.78</td>\n",
       "      <td>0.53</td>\n",
       "      <td>0.0</td>\n",
       "      <td>0.08</td>\n",
       "      <td>NaN</td>\n",
       "      <td>NaN</td>\n",
       "      <td>NaN</td>\n",
       "    </tr>\n",
       "  </tbody>\n",
       "</table>\n",
       "</div>"
      ],
      "text/plain": [
       "    name platform  year_of_release genre  na_sales  eu_sales  jp_sales  \\\n",
       "659  NaN      GEN           1993.0   NaN      1.78      0.53       0.0   \n",
       "\n",
       "     other_sales  critic_score user_score rating  \n",
       "659         0.08           NaN        NaN    NaN  "
      ]
     },
     "metadata": {},
     "output_type": "display_data"
    },
    {
     "data": {
      "text/html": [
       "<div>\n",
       "<style scoped>\n",
       "    .dataframe tbody tr th:only-of-type {\n",
       "        vertical-align: middle;\n",
       "    }\n",
       "\n",
       "    .dataframe tbody tr th {\n",
       "        vertical-align: top;\n",
       "    }\n",
       "\n",
       "    .dataframe thead th {\n",
       "        text-align: right;\n",
       "    }\n",
       "</style>\n",
       "<table border=\"1\" class=\"dataframe\">\n",
       "  <thead>\n",
       "    <tr style=\"text-align: right;\">\n",
       "      <th></th>\n",
       "      <th>count</th>\n",
       "      <th>ratio</th>\n",
       "    </tr>\n",
       "  </thead>\n",
       "  <tbody>\n",
       "    <tr>\n",
       "      <th>name</th>\n",
       "      <td>1</td>\n",
       "      <td>0.0001</td>\n",
       "    </tr>\n",
       "    <tr>\n",
       "      <th>genre</th>\n",
       "      <td>1</td>\n",
       "      <td>0.0001</td>\n",
       "    </tr>\n",
       "  </tbody>\n",
       "</table>\n",
       "</div>"
      ],
      "text/plain": [
       "       count   ratio\n",
       "name       1  0.0001\n",
       "genre      1  0.0001"
      ]
     },
     "metadata": {},
     "output_type": "display_data"
    }
   ],
   "source": [
    "name_genre_na = get_missing_values(df, 'name', 'genre', show_count=True, show_sample=1)"
   ]
  },
  {
   "cell_type": "markdown",
   "id": "numerous-european",
   "metadata": {},
   "source": [
    "Both of the above entries are missing various metrics, other than those checked.  \n",
    "Since it constitutes a miniscule portion of the data (less than 0.01%),  \n",
    "they can be safely removed, without adverse effects."
   ]
  },
  {
   "cell_type": "code",
   "execution_count": 17,
   "id": "intensive-blues",
   "metadata": {},
   "outputs": [
    {
     "name": "stdout",
     "output_type": "stream",
     "text": [
      "Were the rows dropped? True\n"
     ]
    }
   ],
   "source": [
    "df.drop(name_genre_na.index, inplace=True)\n",
    "# print('Were the columns dropped?', len(get_missing_values(df, 'name', 'genre')) == 0)\n",
    "print('Were the rows dropped?', len(get_missing_values(df, 'name', 'genre')) == 0)"
   ]
  },
  {
   "cell_type": "markdown",
   "id": "flexible-skill",
   "metadata": {},
   "source": [
    "<font color='green'><b><u>REVIEW</u></b></font>\n",
    "<div class=\"alert alert-success\" style=\"box-shadow: 4px 4px 4px\">\n",
    "    \n",
    "I agree with you!"
   ]
  },
  {
   "cell_type": "markdown",
   "id": "following-nickname",
   "metadata": {},
   "source": [
    "#### 'year_of_release' column"
   ]
  },
  {
   "cell_type": "code",
   "execution_count": 18,
   "id": "upper-eugene",
   "metadata": {},
   "outputs": [
    {
     "data": {
      "text/html": [
       "<div>\n",
       "<style scoped>\n",
       "    .dataframe tbody tr th:only-of-type {\n",
       "        vertical-align: middle;\n",
       "    }\n",
       "\n",
       "    .dataframe tbody tr th {\n",
       "        vertical-align: top;\n",
       "    }\n",
       "\n",
       "    .dataframe thead th {\n",
       "        text-align: right;\n",
       "    }\n",
       "</style>\n",
       "<table border=\"1\" class=\"dataframe\">\n",
       "  <thead>\n",
       "    <tr style=\"text-align: right;\">\n",
       "      <th></th>\n",
       "      <th>name</th>\n",
       "      <th>platform</th>\n",
       "      <th>year_of_release</th>\n",
       "      <th>genre</th>\n",
       "      <th>na_sales</th>\n",
       "      <th>eu_sales</th>\n",
       "      <th>jp_sales</th>\n",
       "      <th>other_sales</th>\n",
       "      <th>critic_score</th>\n",
       "      <th>user_score</th>\n",
       "      <th>rating</th>\n",
       "    </tr>\n",
       "  </thead>\n",
       "  <tbody>\n",
       "    <tr>\n",
       "      <th>9293</th>\n",
       "      <td>Disney's Cinderella: Magical Dreams</td>\n",
       "      <td>GBA</td>\n",
       "      <td>NaN</td>\n",
       "      <td>Platform</td>\n",
       "      <td>0.1</td>\n",
       "      <td>0.04</td>\n",
       "      <td>0.0</td>\n",
       "      <td>0.0</td>\n",
       "      <td>69.0</td>\n",
       "      <td>tbd</td>\n",
       "      <td>E</td>\n",
       "    </tr>\n",
       "  </tbody>\n",
       "</table>\n",
       "</div>"
      ],
      "text/plain": [
       "                                     name platform  year_of_release     genre  \\\n",
       "9293  Disney's Cinderella: Magical Dreams      GBA              NaN  Platform   \n",
       "\n",
       "      na_sales  eu_sales  jp_sales  other_sales  critic_score user_score  \\\n",
       "9293       0.1      0.04       0.0          0.0          69.0        tbd   \n",
       "\n",
       "     rating  \n",
       "9293      E  "
      ]
     },
     "metadata": {},
     "output_type": "display_data"
    },
    {
     "data": {
      "text/html": [
       "<div>\n",
       "<style scoped>\n",
       "    .dataframe tbody tr th:only-of-type {\n",
       "        vertical-align: middle;\n",
       "    }\n",
       "\n",
       "    .dataframe tbody tr th {\n",
       "        vertical-align: top;\n",
       "    }\n",
       "\n",
       "    .dataframe thead th {\n",
       "        text-align: right;\n",
       "    }\n",
       "</style>\n",
       "<table border=\"1\" class=\"dataframe\">\n",
       "  <thead>\n",
       "    <tr style=\"text-align: right;\">\n",
       "      <th></th>\n",
       "      <th>count</th>\n",
       "      <th>ratio</th>\n",
       "    </tr>\n",
       "  </thead>\n",
       "  <tbody>\n",
       "    <tr>\n",
       "      <th>year_of_release</th>\n",
       "      <td>269</td>\n",
       "      <td>0.0161</td>\n",
       "    </tr>\n",
       "  </tbody>\n",
       "</table>\n",
       "</div>"
      ],
      "text/plain": [
       "                 count   ratio\n",
       "year_of_release    269  0.0161"
      ]
     },
     "metadata": {},
     "output_type": "display_data"
    }
   ],
   "source": [
    "year_na = get_missing_values(df, 'year_of_release', show_count=True, show_sample=1)"
   ]
  },
  {
   "cell_type": "markdown",
   "id": "occupational-berlin",
   "metadata": {},
   "source": [
    "The missing values are due to an incomplete data set.  \n",
    "Over the next sections, games will be analysed by years,  \n",
    "and these entries will interrupt the process.\n",
    "\n",
    "It is a small portion of the dataset (< 2%), and can be safely removed."
   ]
  },
  {
   "cell_type": "code",
   "execution_count": 19,
   "id": "verified-ranking",
   "metadata": {},
   "outputs": [
    {
     "name": "stdout",
     "output_type": "stream",
     "text": [
      "Were the rows dropped? True\n"
     ]
    }
   ],
   "source": [
    "df.drop(year_na.index, inplace=True)\n",
    "# print('Were the columns dropped?', len(get_missing_values(df, 'year_of_release')) == 0)\n",
    "print('Were the rows dropped?', len(get_missing_values(df, 'year_of_release')) == 0)"
   ]
  },
  {
   "cell_type": "markdown",
   "id": "characteristic-bahrain",
   "metadata": {},
   "source": [
    "<font color='green'><b><u>REVIEW</u></b></font>\n",
    "<div class=\"alert alert-success\" style=\"box-shadow: 4px 4px 4px\">\n",
    "    \n",
    "It is a good idea to validate the changes"
   ]
  },
  {
   "cell_type": "markdown",
   "id": "complex-geometry",
   "metadata": {},
   "source": [
    "<s>\n",
    " <font color='orange'><b><u>REMARK</u></b></font>\n",
    "<div class=\"alert alert-warning\" style=\"box-shadow: 4px 4px 4px\">\n",
    "    \n",
    "Actually, we're dropping rows here ;)"
   ]
  },
  {
   "cell_type": "markdown",
   "id": "nuclear-double",
   "metadata": {},
   "source": [
    "#### 'user_score' column"
   ]
  },
  {
   "cell_type": "code",
   "execution_count": 20,
   "id": "rotary-honduras",
   "metadata": {},
   "outputs": [],
   "source": [
    "def review_missing_values_platforms_years(df, column, top=5):\n",
    "    return (df[df[column].isna()]\n",
    "            [['platform', 'year_of_release']]\n",
    "            .groupby('platform')\n",
    "            .agg(['min', 'max'])\n",
    "            .sort_values(('year_of_release', 'max'), ascending=False)\n",
    "            .head(top))"
   ]
  },
  {
   "cell_type": "code",
   "execution_count": 21,
   "id": "positive-minnesota",
   "metadata": {},
   "outputs": [
    {
     "data": {
      "text/html": [
       "<div>\n",
       "<style scoped>\n",
       "    .dataframe tbody tr th:only-of-type {\n",
       "        vertical-align: middle;\n",
       "    }\n",
       "\n",
       "    .dataframe tbody tr th {\n",
       "        vertical-align: top;\n",
       "    }\n",
       "\n",
       "    .dataframe thead th {\n",
       "        text-align: right;\n",
       "    }\n",
       "</style>\n",
       "<table border=\"1\" class=\"dataframe\">\n",
       "  <thead>\n",
       "    <tr style=\"text-align: right;\">\n",
       "      <th></th>\n",
       "      <th>name</th>\n",
       "      <th>platform</th>\n",
       "      <th>year_of_release</th>\n",
       "      <th>genre</th>\n",
       "      <th>na_sales</th>\n",
       "      <th>eu_sales</th>\n",
       "      <th>jp_sales</th>\n",
       "      <th>other_sales</th>\n",
       "      <th>critic_score</th>\n",
       "      <th>user_score</th>\n",
       "      <th>rating</th>\n",
       "    </tr>\n",
       "  </thead>\n",
       "  <tbody>\n",
       "    <tr>\n",
       "      <th>15464</th>\n",
       "      <td>Kawaii Koinu DS 3</td>\n",
       "      <td>DS</td>\n",
       "      <td>2010.0</td>\n",
       "      <td>Simulation</td>\n",
       "      <td>0.0</td>\n",
       "      <td>0.0</td>\n",
       "      <td>0.02</td>\n",
       "      <td>0.0</td>\n",
       "      <td>NaN</td>\n",
       "      <td>NaN</td>\n",
       "      <td>NaN</td>\n",
       "    </tr>\n",
       "  </tbody>\n",
       "</table>\n",
       "</div>"
      ],
      "text/plain": [
       "                    name platform  year_of_release       genre  na_sales  \\\n",
       "15464  Kawaii Koinu DS 3       DS           2010.0  Simulation       0.0   \n",
       "\n",
       "       eu_sales  jp_sales  other_sales  critic_score user_score rating  \n",
       "15464       0.0      0.02          0.0           NaN        NaN    NaN  "
      ]
     },
     "metadata": {},
     "output_type": "display_data"
    },
    {
     "data": {
      "text/html": [
       "<div>\n",
       "<style scoped>\n",
       "    .dataframe tbody tr th:only-of-type {\n",
       "        vertical-align: middle;\n",
       "    }\n",
       "\n",
       "    .dataframe tbody tr th {\n",
       "        vertical-align: top;\n",
       "    }\n",
       "\n",
       "    .dataframe thead th {\n",
       "        text-align: right;\n",
       "    }\n",
       "</style>\n",
       "<table border=\"1\" class=\"dataframe\">\n",
       "  <thead>\n",
       "    <tr style=\"text-align: right;\">\n",
       "      <th></th>\n",
       "      <th>count</th>\n",
       "      <th>ratio</th>\n",
       "    </tr>\n",
       "  </thead>\n",
       "  <tbody>\n",
       "    <tr>\n",
       "      <th>user_score</th>\n",
       "      <td>6605</td>\n",
       "      <td>0.4017</td>\n",
       "    </tr>\n",
       "  </tbody>\n",
       "</table>\n",
       "</div>"
      ],
      "text/plain": [
       "            count   ratio\n",
       "user_score   6605  0.4017"
      ]
     },
     "metadata": {},
     "output_type": "display_data"
    }
   ],
   "source": [
    "user_score_na = get_missing_values(df, 'user_score', show_count=True, show_sample=1)"
   ]
  },
  {
   "cell_type": "markdown",
   "id": "pressing-matthew",
   "metadata": {},
   "source": [
    "40% of the data has no user scores.  \n",
    "checking the range of values:"
   ]
  },
  {
   "cell_type": "code",
   "execution_count": 22,
   "id": "decreased-jason",
   "metadata": {},
   "outputs": [
    {
     "data": {
      "text/html": [
       "<div>\n",
       "<style scoped>\n",
       "    .dataframe tbody tr th:only-of-type {\n",
       "        vertical-align: middle;\n",
       "    }\n",
       "\n",
       "    .dataframe tbody tr th {\n",
       "        vertical-align: top;\n",
       "    }\n",
       "\n",
       "    .dataframe thead th {\n",
       "        text-align: right;\n",
       "    }\n",
       "</style>\n",
       "<table border=\"1\" class=\"dataframe\">\n",
       "  <thead>\n",
       "    <tr style=\"text-align: right;\">\n",
       "      <th></th>\n",
       "      <th>count</th>\n",
       "      <th>ratio</th>\n",
       "    </tr>\n",
       "  </thead>\n",
       "  <tbody>\n",
       "    <tr>\n",
       "      <th>tbd</th>\n",
       "      <td>2376</td>\n",
       "      <td>0.241513</td>\n",
       "    </tr>\n",
       "    <tr>\n",
       "      <th>7.8</th>\n",
       "      <td>322</td>\n",
       "      <td>0.032730</td>\n",
       "    </tr>\n",
       "    <tr>\n",
       "      <th>8</th>\n",
       "      <td>285</td>\n",
       "      <td>0.028969</td>\n",
       "    </tr>\n",
       "    <tr>\n",
       "      <th>8.2</th>\n",
       "      <td>276</td>\n",
       "      <td>0.028054</td>\n",
       "    </tr>\n",
       "    <tr>\n",
       "      <th>8.3</th>\n",
       "      <td>252</td>\n",
       "      <td>0.025615</td>\n",
       "    </tr>\n",
       "  </tbody>\n",
       "</table>\n",
       "</div>"
      ],
      "text/plain": [
       "     count     ratio\n",
       "tbd   2376  0.241513\n",
       "7.8    322  0.032730\n",
       "8      285  0.028969\n",
       "8.2    276  0.028054\n",
       "8.3    252  0.025615"
      ]
     },
     "metadata": {},
     "output_type": "display_data"
    },
    {
     "name": "stdout",
     "output_type": "stream",
     "text": [
      "shape: (96, 2)\n"
     ]
    }
   ],
   "source": [
    "user_score_value_counts = get_value_counts(df['user_score']).sort_values('count', ascending=False)\n",
    "display(user_score_value_counts.head())\n",
    "print(f'shape: {user_score_value_counts.shape}')"
   ]
  },
  {
   "cell_type": "markdown",
   "id": "arbitrary-institute",
   "metadata": {},
   "source": [
    "96 unique values (approx 0.0 - 10.0, matches the column description).  \n",
    "Contains a value 'tbd' (abbreviation of \"To be determined\"), which appears for 1/4 of the data.  \n",
    "'tbd' is a dummy value which equals no value in practice.  \n",
    "It can be replaced with NaN and treated as such."
   ]
  },
  {
   "cell_type": "code",
   "execution_count": 23,
   "id": "transparent-papua",
   "metadata": {},
   "outputs": [
    {
     "name": "stdout",
     "output_type": "stream",
     "text": [
      "Was the value replaced successfully? True\n"
     ]
    }
   ],
   "source": [
    "df['user_score'] = df['user_score'].where(df['user_score'] != 'tbd', np.NaN)\n",
    "print('Was the value replaced successfully?', 'tbd' not in get_value_counts(df['user_score']).index)"
   ]
  },
  {
   "cell_type": "markdown",
   "id": "voluntary-antenna",
   "metadata": {},
   "source": [
    "After replacing 'tbd' value, the true missing values count is at ~55%.  \n",
    "Using median to fill in missing values, by platform and genre:"
   ]
  },
  {
   "cell_type": "code",
   "execution_count": 24,
   "id": "sporting-insider",
   "metadata": {},
   "outputs": [
    {
     "data": {
      "text/markdown": [
       "#### Missing values"
      ],
      "text/plain": [
       "<IPython.core.display.Markdown object>"
      ]
     },
     "metadata": {},
     "output_type": "display_data"
    },
    {
     "data": {
      "text/html": [
       "<div>\n",
       "<style scoped>\n",
       "    .dataframe tbody tr th:only-of-type {\n",
       "        vertical-align: middle;\n",
       "    }\n",
       "\n",
       "    .dataframe tbody tr th {\n",
       "        vertical-align: top;\n",
       "    }\n",
       "\n",
       "    .dataframe thead tr th {\n",
       "        text-align: left;\n",
       "    }\n",
       "\n",
       "    .dataframe thead tr:last-of-type th {\n",
       "        text-align: right;\n",
       "    }\n",
       "</style>\n",
       "<table border=\"1\" class=\"dataframe\">\n",
       "  <thead>\n",
       "    <tr>\n",
       "      <th></th>\n",
       "      <th colspan=\"2\" halign=\"left\">year_of_release</th>\n",
       "    </tr>\n",
       "    <tr>\n",
       "      <th></th>\n",
       "      <th>min</th>\n",
       "      <th>max</th>\n",
       "    </tr>\n",
       "    <tr>\n",
       "      <th>platform</th>\n",
       "      <th></th>\n",
       "      <th></th>\n",
       "    </tr>\n",
       "  </thead>\n",
       "  <tbody>\n",
       "    <tr>\n",
       "      <th>XOne</th>\n",
       "      <td>2013.0</td>\n",
       "      <td>2016.0</td>\n",
       "    </tr>\n",
       "    <tr>\n",
       "      <th>3DS</th>\n",
       "      <td>2011.0</td>\n",
       "      <td>2016.0</td>\n",
       "    </tr>\n",
       "    <tr>\n",
       "      <th>X360</th>\n",
       "      <td>2005.0</td>\n",
       "      <td>2016.0</td>\n",
       "    </tr>\n",
       "    <tr>\n",
       "      <th>WiiU</th>\n",
       "      <td>2012.0</td>\n",
       "      <td>2016.0</td>\n",
       "    </tr>\n",
       "    <tr>\n",
       "      <th>Wii</th>\n",
       "      <td>2006.0</td>\n",
       "      <td>2016.0</td>\n",
       "    </tr>\n",
       "  </tbody>\n",
       "</table>\n",
       "</div>"
      ],
      "text/plain": [
       "         year_of_release        \n",
       "                     min     max\n",
       "platform                        \n",
       "XOne              2013.0  2016.0\n",
       "3DS               2011.0  2016.0\n",
       "X360              2005.0  2016.0\n",
       "WiiU              2012.0  2016.0\n",
       "Wii               2006.0  2016.0"
      ]
     },
     "metadata": {},
     "output_type": "display_data"
    },
    {
     "data": {
      "text/html": [
       "<div>\n",
       "<style scoped>\n",
       "    .dataframe tbody tr th:only-of-type {\n",
       "        vertical-align: middle;\n",
       "    }\n",
       "\n",
       "    .dataframe tbody tr th {\n",
       "        vertical-align: top;\n",
       "    }\n",
       "\n",
       "    .dataframe thead th {\n",
       "        text-align: right;\n",
       "    }\n",
       "</style>\n",
       "<table border=\"1\" class=\"dataframe\">\n",
       "  <thead>\n",
       "    <tr style=\"text-align: right;\">\n",
       "      <th></th>\n",
       "      <th>count</th>\n",
       "      <th>ratio</th>\n",
       "    </tr>\n",
       "  </thead>\n",
       "  <tbody>\n",
       "    <tr>\n",
       "      <th>user_score</th>\n",
       "      <td>8981</td>\n",
       "      <td>0.5462</td>\n",
       "    </tr>\n",
       "  </tbody>\n",
       "</table>\n",
       "</div>"
      ],
      "text/plain": [
       "            count   ratio\n",
       "user_score   8981  0.5462"
      ]
     },
     "metadata": {},
     "output_type": "display_data"
    }
   ],
   "source": [
    "display(\n",
    "    md('#### Missing values'),\n",
    "    review_missing_values_platforms_years(df, 'user_score'),\n",
    "    missing_values_summary(df[['user_score']]))"
   ]
  },
  {
   "cell_type": "markdown",
   "id": "empty-immunology",
   "metadata": {},
   "source": [
    "We can not fill in missing scores meaningfully, since about 50% of the column is missing.  \n",
    "If the amount missing would have been less than 10%, could try imputation techniques to fill  \n",
    "\\- perhaps grouped by platform and genre for optimal results."
   ]
  },
  {
   "cell_type": "markdown",
   "id": "friendly-teacher",
   "metadata": {},
   "source": [
    "<font color='green'><b><u>REVIEW</u></b></font>\n",
    "<div class=\"alert alert-success\" style=\"box-shadow: 4px 4px 4px\">\n",
    "    \n",
    "Totally agree! We can't meaningfully fill the missing values"
   ]
  },
  {
   "cell_type": "markdown",
   "id": "surprising-supervisor",
   "metadata": {},
   "source": [
    "#### 'critic_score' column"
   ]
  },
  {
   "cell_type": "code",
   "execution_count": 25,
   "id": "electrical-brunswick",
   "metadata": {},
   "outputs": [
    {
     "data": {
      "text/html": [
       "<div>\n",
       "<style scoped>\n",
       "    .dataframe tbody tr th:only-of-type {\n",
       "        vertical-align: middle;\n",
       "    }\n",
       "\n",
       "    .dataframe tbody tr th {\n",
       "        vertical-align: top;\n",
       "    }\n",
       "\n",
       "    .dataframe thead th {\n",
       "        text-align: right;\n",
       "    }\n",
       "</style>\n",
       "<table border=\"1\" class=\"dataframe\">\n",
       "  <thead>\n",
       "    <tr style=\"text-align: right;\">\n",
       "      <th></th>\n",
       "      <th>name</th>\n",
       "      <th>platform</th>\n",
       "      <th>year_of_release</th>\n",
       "      <th>genre</th>\n",
       "      <th>na_sales</th>\n",
       "      <th>eu_sales</th>\n",
       "      <th>jp_sales</th>\n",
       "      <th>other_sales</th>\n",
       "      <th>critic_score</th>\n",
       "      <th>user_score</th>\n",
       "      <th>rating</th>\n",
       "    </tr>\n",
       "  </thead>\n",
       "  <tbody>\n",
       "    <tr>\n",
       "      <th>0</th>\n",
       "      <td>Wii Sports</td>\n",
       "      <td>Wii</td>\n",
       "      <td>2006.0</td>\n",
       "      <td>Sports</td>\n",
       "      <td>41.36</td>\n",
       "      <td>28.96</td>\n",
       "      <td>3.77</td>\n",
       "      <td>8.45</td>\n",
       "      <td>76.0</td>\n",
       "      <td>8</td>\n",
       "      <td>E</td>\n",
       "    </tr>\n",
       "    <tr>\n",
       "      <th>1</th>\n",
       "      <td>Super Mario Bros.</td>\n",
       "      <td>NES</td>\n",
       "      <td>1985.0</td>\n",
       "      <td>Platform</td>\n",
       "      <td>29.08</td>\n",
       "      <td>3.58</td>\n",
       "      <td>6.81</td>\n",
       "      <td>0.77</td>\n",
       "      <td>NaN</td>\n",
       "      <td>NaN</td>\n",
       "      <td>NaN</td>\n",
       "    </tr>\n",
       "    <tr>\n",
       "      <th>2</th>\n",
       "      <td>Mario Kart Wii</td>\n",
       "      <td>Wii</td>\n",
       "      <td>2008.0</td>\n",
       "      <td>Racing</td>\n",
       "      <td>15.68</td>\n",
       "      <td>12.76</td>\n",
       "      <td>3.79</td>\n",
       "      <td>3.29</td>\n",
       "      <td>82.0</td>\n",
       "      <td>8.3</td>\n",
       "      <td>E</td>\n",
       "    </tr>\n",
       "    <tr>\n",
       "      <th>3</th>\n",
       "      <td>Wii Sports Resort</td>\n",
       "      <td>Wii</td>\n",
       "      <td>2009.0</td>\n",
       "      <td>Sports</td>\n",
       "      <td>15.61</td>\n",
       "      <td>10.93</td>\n",
       "      <td>3.28</td>\n",
       "      <td>2.95</td>\n",
       "      <td>80.0</td>\n",
       "      <td>8</td>\n",
       "      <td>E</td>\n",
       "    </tr>\n",
       "    <tr>\n",
       "      <th>4</th>\n",
       "      <td>Pokemon Red/Pokemon Blue</td>\n",
       "      <td>GB</td>\n",
       "      <td>1996.0</td>\n",
       "      <td>Role-Playing</td>\n",
       "      <td>11.27</td>\n",
       "      <td>8.89</td>\n",
       "      <td>10.22</td>\n",
       "      <td>1.00</td>\n",
       "      <td>NaN</td>\n",
       "      <td>NaN</td>\n",
       "      <td>NaN</td>\n",
       "    </tr>\n",
       "  </tbody>\n",
       "</table>\n",
       "</div>"
      ],
      "text/plain": [
       "                       name platform  year_of_release         genre  na_sales  \\\n",
       "0                Wii Sports      Wii           2006.0        Sports     41.36   \n",
       "1         Super Mario Bros.      NES           1985.0      Platform     29.08   \n",
       "2            Mario Kart Wii      Wii           2008.0        Racing     15.68   \n",
       "3         Wii Sports Resort      Wii           2009.0        Sports     15.61   \n",
       "4  Pokemon Red/Pokemon Blue       GB           1996.0  Role-Playing     11.27   \n",
       "\n",
       "   eu_sales  jp_sales  other_sales  critic_score user_score rating  \n",
       "0     28.96      3.77         8.45          76.0          8      E  \n",
       "1      3.58      6.81         0.77           NaN        NaN    NaN  \n",
       "2     12.76      3.79         3.29          82.0        8.3      E  \n",
       "3     10.93      3.28         2.95          80.0          8      E  \n",
       "4      8.89     10.22         1.00           NaN        NaN    NaN  "
      ]
     },
     "execution_count": 25,
     "metadata": {},
     "output_type": "execute_result"
    }
   ],
   "source": [
    "df.head()"
   ]
  },
  {
   "cell_type": "code",
   "execution_count": 26,
   "id": "unnecessary-rates",
   "metadata": {},
   "outputs": [
    {
     "data": {
      "text/html": [
       "<div>\n",
       "<style scoped>\n",
       "    .dataframe tbody tr th:only-of-type {\n",
       "        vertical-align: middle;\n",
       "    }\n",
       "\n",
       "    .dataframe tbody tr th {\n",
       "        vertical-align: top;\n",
       "    }\n",
       "\n",
       "    .dataframe thead th {\n",
       "        text-align: right;\n",
       "    }\n",
       "</style>\n",
       "<table border=\"1\" class=\"dataframe\">\n",
       "  <thead>\n",
       "    <tr style=\"text-align: right;\">\n",
       "      <th></th>\n",
       "      <th>name</th>\n",
       "      <th>platform</th>\n",
       "      <th>year_of_release</th>\n",
       "      <th>genre</th>\n",
       "      <th>na_sales</th>\n",
       "      <th>eu_sales</th>\n",
       "      <th>jp_sales</th>\n",
       "      <th>other_sales</th>\n",
       "      <th>critic_score</th>\n",
       "      <th>user_score</th>\n",
       "      <th>rating</th>\n",
       "    </tr>\n",
       "  </thead>\n",
       "  <tbody>\n",
       "    <tr>\n",
       "      <th>13842</th>\n",
       "      <td>King of Fighters: Maximum Impact Regulation A</td>\n",
       "      <td>PS2</td>\n",
       "      <td>2007.0</td>\n",
       "      <td>Fighting</td>\n",
       "      <td>0.0</td>\n",
       "      <td>0.0</td>\n",
       "      <td>0.04</td>\n",
       "      <td>0.0</td>\n",
       "      <td>NaN</td>\n",
       "      <td>NaN</td>\n",
       "      <td>NaN</td>\n",
       "    </tr>\n",
       "  </tbody>\n",
       "</table>\n",
       "</div>"
      ],
      "text/plain": [
       "                                                name platform  \\\n",
       "13842  King of Fighters: Maximum Impact Regulation A      PS2   \n",
       "\n",
       "       year_of_release     genre  na_sales  eu_sales  jp_sales  other_sales  \\\n",
       "13842           2007.0  Fighting       0.0       0.0      0.04          0.0   \n",
       "\n",
       "       critic_score user_score rating  \n",
       "13842           NaN        NaN    NaN  "
      ]
     },
     "metadata": {},
     "output_type": "display_data"
    },
    {
     "data": {
      "text/html": [
       "<div>\n",
       "<style scoped>\n",
       "    .dataframe tbody tr th:only-of-type {\n",
       "        vertical-align: middle;\n",
       "    }\n",
       "\n",
       "    .dataframe tbody tr th {\n",
       "        vertical-align: top;\n",
       "    }\n",
       "\n",
       "    .dataframe thead th {\n",
       "        text-align: right;\n",
       "    }\n",
       "</style>\n",
       "<table border=\"1\" class=\"dataframe\">\n",
       "  <thead>\n",
       "    <tr style=\"text-align: right;\">\n",
       "      <th></th>\n",
       "      <th>count</th>\n",
       "      <th>ratio</th>\n",
       "    </tr>\n",
       "  </thead>\n",
       "  <tbody>\n",
       "    <tr>\n",
       "      <th>critic_score</th>\n",
       "      <td>8461</td>\n",
       "      <td>0.5146</td>\n",
       "    </tr>\n",
       "  </tbody>\n",
       "</table>\n",
       "</div>"
      ],
      "text/plain": [
       "              count   ratio\n",
       "critic_score   8461  0.5146"
      ]
     },
     "metadata": {},
     "output_type": "display_data"
    }
   ],
   "source": [
    "critic_score_na = get_missing_values(df, 'critic_score', show_count=True, show_sample=1)"
   ]
  },
  {
   "cell_type": "markdown",
   "id": "anonymous-machine",
   "metadata": {},
   "source": [
    "Again, we can not fill in missing scores meaningfully, since about 50% of the column is missing."
   ]
  },
  {
   "cell_type": "markdown",
   "id": "deadly-carroll",
   "metadata": {},
   "source": [
    "<font color='green'><b><u>REVIEW</u></b></font>\n",
    "<div class=\"alert alert-success\" style=\"box-shadow: 4px 4px 4px\">\n",
    "    \n",
    "Yeap, we can't fill the missing values in a column that has more than 50% NaNs."
   ]
  },
  {
   "cell_type": "markdown",
   "id": "remarkable-tennessee",
   "metadata": {},
   "source": [
    "#### 'rating' column"
   ]
  },
  {
   "cell_type": "code",
   "execution_count": 27,
   "id": "exclusive-negative",
   "metadata": {},
   "outputs": [
    {
     "data": {
      "text/html": [
       "<div>\n",
       "<style scoped>\n",
       "    .dataframe tbody tr th:only-of-type {\n",
       "        vertical-align: middle;\n",
       "    }\n",
       "\n",
       "    .dataframe tbody tr th {\n",
       "        vertical-align: top;\n",
       "    }\n",
       "\n",
       "    .dataframe thead th {\n",
       "        text-align: right;\n",
       "    }\n",
       "</style>\n",
       "<table border=\"1\" class=\"dataframe\">\n",
       "  <thead>\n",
       "    <tr style=\"text-align: right;\">\n",
       "      <th></th>\n",
       "      <th>name</th>\n",
       "      <th>platform</th>\n",
       "      <th>year_of_release</th>\n",
       "      <th>genre</th>\n",
       "      <th>na_sales</th>\n",
       "      <th>eu_sales</th>\n",
       "      <th>jp_sales</th>\n",
       "      <th>other_sales</th>\n",
       "      <th>critic_score</th>\n",
       "      <th>user_score</th>\n",
       "      <th>rating</th>\n",
       "    </tr>\n",
       "  </thead>\n",
       "  <tbody>\n",
       "    <tr>\n",
       "      <th>1278</th>\n",
       "      <td>Wario Land II</td>\n",
       "      <td>GB</td>\n",
       "      <td>1997.0</td>\n",
       "      <td>Platform</td>\n",
       "      <td>0.7</td>\n",
       "      <td>0.35</td>\n",
       "      <td>0.39</td>\n",
       "      <td>0.04</td>\n",
       "      <td>NaN</td>\n",
       "      <td>NaN</td>\n",
       "      <td>NaN</td>\n",
       "    </tr>\n",
       "    <tr>\n",
       "      <th>14844</th>\n",
       "      <td>Totally Spies! Totally Party</td>\n",
       "      <td>PC</td>\n",
       "      <td>2008.0</td>\n",
       "      <td>Misc</td>\n",
       "      <td>0.0</td>\n",
       "      <td>0.02</td>\n",
       "      <td>0.00</td>\n",
       "      <td>0.00</td>\n",
       "      <td>NaN</td>\n",
       "      <td>NaN</td>\n",
       "      <td>NaN</td>\n",
       "    </tr>\n",
       "  </tbody>\n",
       "</table>\n",
       "</div>"
      ],
      "text/plain": [
       "                               name platform  year_of_release     genre  \\\n",
       "1278                  Wario Land II       GB           1997.0  Platform   \n",
       "14844  Totally Spies! Totally Party       PC           2008.0      Misc   \n",
       "\n",
       "       na_sales  eu_sales  jp_sales  other_sales  critic_score user_score  \\\n",
       "1278        0.7      0.35      0.39         0.04           NaN        NaN   \n",
       "14844       0.0      0.02      0.00         0.00           NaN        NaN   \n",
       "\n",
       "      rating  \n",
       "1278     NaN  \n",
       "14844    NaN  "
      ]
     },
     "metadata": {},
     "output_type": "display_data"
    },
    {
     "data": {
      "text/html": [
       "<div>\n",
       "<style scoped>\n",
       "    .dataframe tbody tr th:only-of-type {\n",
       "        vertical-align: middle;\n",
       "    }\n",
       "\n",
       "    .dataframe tbody tr th {\n",
       "        vertical-align: top;\n",
       "    }\n",
       "\n",
       "    .dataframe thead th {\n",
       "        text-align: right;\n",
       "    }\n",
       "</style>\n",
       "<table border=\"1\" class=\"dataframe\">\n",
       "  <thead>\n",
       "    <tr style=\"text-align: right;\">\n",
       "      <th></th>\n",
       "      <th>count</th>\n",
       "      <th>ratio</th>\n",
       "    </tr>\n",
       "  </thead>\n",
       "  <tbody>\n",
       "    <tr>\n",
       "      <th>rating</th>\n",
       "      <td>6676</td>\n",
       "      <td>0.406</td>\n",
       "    </tr>\n",
       "  </tbody>\n",
       "</table>\n",
       "</div>"
      ],
      "text/plain": [
       "        count  ratio\n",
       "rating   6676  0.406"
      ]
     },
     "metadata": {},
     "output_type": "display_data"
    }
   ],
   "source": [
    "rating_na = get_missing_values(df, 'rating', show_count=True, show_sample=2)"
   ]
  },
  {
   "cell_type": "markdown",
   "id": "noted-valve",
   "metadata": {},
   "source": [
    "'rating' column has 40% missing values."
   ]
  },
  {
   "cell_type": "code",
   "execution_count": 28,
   "id": "excess-trainer",
   "metadata": {},
   "outputs": [
    {
     "data": {
      "text/html": [
       "<div>\n",
       "<style scoped>\n",
       "    .dataframe tbody tr th:only-of-type {\n",
       "        vertical-align: middle;\n",
       "    }\n",
       "\n",
       "    .dataframe tbody tr th {\n",
       "        vertical-align: top;\n",
       "    }\n",
       "\n",
       "    .dataframe thead th {\n",
       "        text-align: right;\n",
       "    }\n",
       "</style>\n",
       "<table border=\"1\" class=\"dataframe\">\n",
       "  <thead>\n",
       "    <tr style=\"text-align: right;\">\n",
       "      <th></th>\n",
       "      <th>count</th>\n",
       "      <th>ratio</th>\n",
       "    </tr>\n",
       "  </thead>\n",
       "  <tbody>\n",
       "    <tr>\n",
       "      <th>AO</th>\n",
       "      <td>1</td>\n",
       "      <td>0.000102</td>\n",
       "    </tr>\n",
       "    <tr>\n",
       "      <th>E</th>\n",
       "      <td>3920</td>\n",
       "      <td>0.401351</td>\n",
       "    </tr>\n",
       "    <tr>\n",
       "      <th>E10+</th>\n",
       "      <td>1393</td>\n",
       "      <td>0.142623</td>\n",
       "    </tr>\n",
       "    <tr>\n",
       "      <th>EC</th>\n",
       "      <td>8</td>\n",
       "      <td>0.000819</td>\n",
       "    </tr>\n",
       "    <tr>\n",
       "      <th>K-A</th>\n",
       "      <td>3</td>\n",
       "      <td>0.000307</td>\n",
       "    </tr>\n",
       "    <tr>\n",
       "      <th>M</th>\n",
       "      <td>1536</td>\n",
       "      <td>0.157264</td>\n",
       "    </tr>\n",
       "    <tr>\n",
       "      <th>RP</th>\n",
       "      <td>1</td>\n",
       "      <td>0.000102</td>\n",
       "    </tr>\n",
       "    <tr>\n",
       "      <th>T</th>\n",
       "      <td>2905</td>\n",
       "      <td>0.297430</td>\n",
       "    </tr>\n",
       "  </tbody>\n",
       "</table>\n",
       "</div>"
      ],
      "text/plain": [
       "      count     ratio\n",
       "AO        1  0.000102\n",
       "E      3920  0.401351\n",
       "E10+   1393  0.142623\n",
       "EC        8  0.000819\n",
       "K-A       3  0.000307\n",
       "M      1536  0.157264\n",
       "RP        1  0.000102\n",
       "T      2905  0.297430"
      ]
     },
     "execution_count": 28,
     "metadata": {},
     "output_type": "execute_result"
    }
   ],
   "source": [
    "get_value_counts(df['rating'])"
   ]
  },
  {
   "cell_type": "markdown",
   "id": "consolidated-union",
   "metadata": {},
   "source": [
    "Filling in missing values with dummy value 'Unknown'."
   ]
  },
  {
   "cell_type": "code",
   "execution_count": 29,
   "id": "occasional-pound",
   "metadata": {},
   "outputs": [
    {
     "name": "stdout",
     "output_type": "stream",
     "text": [
      "Were missing values filled? True\n"
     ]
    }
   ],
   "source": [
    "df['rating'].fillna('Unknown', inplace=True)\n",
    "print('Were missing values filled?', df['rating'].isna().sum() == 0)"
   ]
  },
  {
   "cell_type": "markdown",
   "id": "african-muslim",
   "metadata": {},
   "source": [
    "<font color='green'><b><u>REVIEW</u></b></font>\n",
    "<div class=\"alert alert-success\" style=\"box-shadow: 4px 4px 4px\">\n",
    "    \n",
    "Good job!"
   ]
  },
  {
   "cell_type": "markdown",
   "id": "yellow-storm",
   "metadata": {},
   "source": [
    "<a class=\"anchor\" id=\"2-preprocess_dtypes\"></a>\n",
    "### Data types\n",
    "[up](#2-preprocess)"
   ]
  },
  {
   "cell_type": "code",
   "execution_count": 30,
   "id": "abandoned-leisure",
   "metadata": {},
   "outputs": [],
   "source": [
    "def dtypes(df):\n",
    "    \"\"\"Displays data types for each column, and corresponding unique values count\"\"\"\n",
    "    \n",
    "    return pd.concat([\n",
    "        df.dtypes.rename('dtype'),\n",
    "        df.nunique().rename('unique values')\n",
    "    ], axis=1)"
   ]
  },
  {
   "cell_type": "code",
   "execution_count": 31,
   "id": "wrapped-smoke",
   "metadata": {},
   "outputs": [],
   "source": [
    "def extract_categories(df, columns, inplace=False):\n",
    "    \"\"\"Returns a lookup table of categories, with corresponding ids\"\"\"\n",
    "    \n",
    "    def extract(series):\n",
    "        return pd.Series(series.unique(), name=series.name).sort_values().reset_index(drop=True)\n",
    "    \n",
    "    def invert(series):\n",
    "        return pd.Series(index=series.values, data=series.index, name=series.name)\n",
    "    \n",
    "    if not isinstance(columns, list):\n",
    "        columns = [columns]\n",
    "    \n",
    "    refs = [extract(df[col]) for col in columns]\n",
    "    \n",
    "    if inplace:\n",
    "        for i, column in enumerate(columns):\n",
    "            ref = invert(refs[i])\n",
    "            # print(df[column].apply(lambda x:ref[x]))\n",
    "            df[f'{column}_id'] = df[column].apply(lambda x:ref[x])\n",
    "            df.drop(column, axis=1, inplace=True)\n",
    "\n",
    "    return refs if len(refs) > 1 else refs[0]"
   ]
  },
  {
   "cell_type": "markdown",
   "id": "arranged-suffering",
   "metadata": {},
   "source": [
    "<font color='green'><b><u>REVIEW</u></b></font>\n",
    "<div class=\"alert alert-success\" style=\"box-shadow: 4px 4px 4px\">\n",
    "    \n",
    "I am really in love with your custom functions! Keep it up, it's a next level stuff!"
   ]
  },
  {
   "cell_type": "code",
   "execution_count": 32,
   "id": "valued-superior",
   "metadata": {},
   "outputs": [
    {
     "data": {
      "text/html": [
       "<div>\n",
       "<style scoped>\n",
       "    .dataframe tbody tr th:only-of-type {\n",
       "        vertical-align: middle;\n",
       "    }\n",
       "\n",
       "    .dataframe tbody tr th {\n",
       "        vertical-align: top;\n",
       "    }\n",
       "\n",
       "    .dataframe thead th {\n",
       "        text-align: right;\n",
       "    }\n",
       "</style>\n",
       "<table border=\"1\" class=\"dataframe\">\n",
       "  <thead>\n",
       "    <tr style=\"text-align: right;\">\n",
       "      <th></th>\n",
       "      <th>dtype</th>\n",
       "      <th>unique values</th>\n",
       "    </tr>\n",
       "  </thead>\n",
       "  <tbody>\n",
       "    <tr>\n",
       "      <th>name</th>\n",
       "      <td>object</td>\n",
       "      <td>11426</td>\n",
       "    </tr>\n",
       "    <tr>\n",
       "      <th>platform</th>\n",
       "      <td>object</td>\n",
       "      <td>31</td>\n",
       "    </tr>\n",
       "    <tr>\n",
       "      <th>year_of_release</th>\n",
       "      <td>float64</td>\n",
       "      <td>37</td>\n",
       "    </tr>\n",
       "    <tr>\n",
       "      <th>genre</th>\n",
       "      <td>object</td>\n",
       "      <td>12</td>\n",
       "    </tr>\n",
       "    <tr>\n",
       "      <th>na_sales</th>\n",
       "      <td>float64</td>\n",
       "      <td>401</td>\n",
       "    </tr>\n",
       "    <tr>\n",
       "      <th>eu_sales</th>\n",
       "      <td>float64</td>\n",
       "      <td>307</td>\n",
       "    </tr>\n",
       "    <tr>\n",
       "      <th>jp_sales</th>\n",
       "      <td>float64</td>\n",
       "      <td>244</td>\n",
       "    </tr>\n",
       "    <tr>\n",
       "      <th>other_sales</th>\n",
       "      <td>float64</td>\n",
       "      <td>155</td>\n",
       "    </tr>\n",
       "    <tr>\n",
       "      <th>critic_score</th>\n",
       "      <td>float64</td>\n",
       "      <td>81</td>\n",
       "    </tr>\n",
       "    <tr>\n",
       "      <th>user_score</th>\n",
       "      <td>object</td>\n",
       "      <td>95</td>\n",
       "    </tr>\n",
       "    <tr>\n",
       "      <th>rating</th>\n",
       "      <td>object</td>\n",
       "      <td>9</td>\n",
       "    </tr>\n",
       "  </tbody>\n",
       "</table>\n",
       "</div>"
      ],
      "text/plain": [
       "                   dtype  unique values\n",
       "name              object          11426\n",
       "platform          object             31\n",
       "year_of_release  float64             37\n",
       "genre             object             12\n",
       "na_sales         float64            401\n",
       "eu_sales         float64            307\n",
       "jp_sales         float64            244\n",
       "other_sales      float64            155\n",
       "critic_score     float64             81\n",
       "user_score        object             95\n",
       "rating            object              9"
      ]
     },
     "execution_count": 32,
     "metadata": {},
     "output_type": "execute_result"
    }
   ],
   "source": [
    "dtypes(df)"
   ]
  },
  {
   "cell_type": "code",
   "execution_count": 33,
   "id": "greek-ebony",
   "metadata": {},
   "outputs": [
    {
     "data": {
      "text/html": [
       "<div>\n",
       "<style scoped>\n",
       "    .dataframe tbody tr th:only-of-type {\n",
       "        vertical-align: middle;\n",
       "    }\n",
       "\n",
       "    .dataframe tbody tr th {\n",
       "        vertical-align: top;\n",
       "    }\n",
       "\n",
       "    .dataframe thead th {\n",
       "        text-align: right;\n",
       "    }\n",
       "</style>\n",
       "<table border=\"1\" class=\"dataframe\">\n",
       "  <thead>\n",
       "    <tr style=\"text-align: right;\">\n",
       "      <th></th>\n",
       "      <th>user_score</th>\n",
       "      <th>critic_score</th>\n",
       "    </tr>\n",
       "  </thead>\n",
       "  <tbody>\n",
       "    <tr>\n",
       "      <th>0</th>\n",
       "      <td>8</td>\n",
       "      <td>76.0</td>\n",
       "    </tr>\n",
       "  </tbody>\n",
       "</table>\n",
       "</div>"
      ],
      "text/plain": [
       "  user_score  critic_score\n",
       "0          8          76.0"
      ]
     },
     "execution_count": 33,
     "metadata": {},
     "output_type": "execute_result"
    }
   ],
   "source": [
    "df[['user_score', 'critic_score']].head(1)"
   ]
  },
  {
   "cell_type": "markdown",
   "id": "steady-investor",
   "metadata": {},
   "source": [
    "The following transformations will be made:\n",
    "- year_of_release -> int\n",
    "- user_score -> float\n",
    "- critic_score -> scale down to base 10 (like user_score)\n",
    "- platform -> categorization\n",
    "- genre -> categorization\n",
    "- rating -> categorization"
   ]
  },
  {
   "cell_type": "markdown",
   "id": "million-sheep",
   "metadata": {},
   "source": [
    "#### 'year_of_release' dtype transform"
   ]
  },
  {
   "cell_type": "code",
   "execution_count": 34,
   "id": "unusual-graham",
   "metadata": {},
   "outputs": [],
   "source": [
    "df['year_of_release'] = df['year_of_release'].astype('int')"
   ]
  },
  {
   "cell_type": "markdown",
   "id": "comparable-blair",
   "metadata": {},
   "source": [
    "#### 'user_score' dtype transform"
   ]
  },
  {
   "cell_type": "code",
   "execution_count": 35,
   "id": "south-method",
   "metadata": {},
   "outputs": [],
   "source": [
    "df['user_score'] = df['user_score'].astype('float')"
   ]
  },
  {
   "cell_type": "markdown",
   "id": "geographic-wildlife",
   "metadata": {},
   "source": [
    "#### 'critic_score' scale"
   ]
  },
  {
   "cell_type": "code",
   "execution_count": 36,
   "id": "artificial-behalf",
   "metadata": {},
   "outputs": [],
   "source": [
    "df['critic_score'] = df['critic_score'] / 10"
   ]
  },
  {
   "cell_type": "code",
   "execution_count": 37,
   "id": "internal-romania",
   "metadata": {},
   "outputs": [
    {
     "data": {
      "text/html": [
       "<div>\n",
       "<style scoped>\n",
       "    .dataframe tbody tr th:only-of-type {\n",
       "        vertical-align: middle;\n",
       "    }\n",
       "\n",
       "    .dataframe tbody tr th {\n",
       "        vertical-align: top;\n",
       "    }\n",
       "\n",
       "    .dataframe thead th {\n",
       "        text-align: right;\n",
       "    }\n",
       "</style>\n",
       "<table border=\"1\" class=\"dataframe\">\n",
       "  <thead>\n",
       "    <tr style=\"text-align: right;\">\n",
       "      <th></th>\n",
       "      <th>user_score</th>\n",
       "      <th>critic_score</th>\n",
       "    </tr>\n",
       "  </thead>\n",
       "  <tbody>\n",
       "    <tr>\n",
       "      <th>count</th>\n",
       "      <td>7462.000000</td>\n",
       "      <td>7982.000000</td>\n",
       "    </tr>\n",
       "    <tr>\n",
       "      <th>mean</th>\n",
       "      <td>7.126548</td>\n",
       "      <td>6.899261</td>\n",
       "    </tr>\n",
       "    <tr>\n",
       "      <th>std</th>\n",
       "      <td>1.499429</td>\n",
       "      <td>1.392005</td>\n",
       "    </tr>\n",
       "    <tr>\n",
       "      <th>min</th>\n",
       "      <td>0.000000</td>\n",
       "      <td>1.300000</td>\n",
       "    </tr>\n",
       "    <tr>\n",
       "      <th>25%</th>\n",
       "      <td>6.400000</td>\n",
       "      <td>6.000000</td>\n",
       "    </tr>\n",
       "    <tr>\n",
       "      <th>50%</th>\n",
       "      <td>7.500000</td>\n",
       "      <td>7.100000</td>\n",
       "    </tr>\n",
       "    <tr>\n",
       "      <th>75%</th>\n",
       "      <td>8.200000</td>\n",
       "      <td>7.900000</td>\n",
       "    </tr>\n",
       "    <tr>\n",
       "      <th>max</th>\n",
       "      <td>9.700000</td>\n",
       "      <td>9.800000</td>\n",
       "    </tr>\n",
       "  </tbody>\n",
       "</table>\n",
       "</div>"
      ],
      "text/plain": [
       "        user_score  critic_score\n",
       "count  7462.000000   7982.000000\n",
       "mean      7.126548      6.899261\n",
       "std       1.499429      1.392005\n",
       "min       0.000000      1.300000\n",
       "25%       6.400000      6.000000\n",
       "50%       7.500000      7.100000\n",
       "75%       8.200000      7.900000\n",
       "max       9.700000      9.800000"
      ]
     },
     "execution_count": 37,
     "metadata": {},
     "output_type": "execute_result"
    }
   ],
   "source": [
    "df[['user_score', 'critic_score']].describe()"
   ]
  },
  {
   "cell_type": "markdown",
   "id": "stone-gateway",
   "metadata": {},
   "source": [
    "#### 'platform' categorization"
   ]
  },
  {
   "cell_type": "code",
   "execution_count": 38,
   "id": "burning-signal",
   "metadata": {},
   "outputs": [
    {
     "data": {
      "text/plain": [
       "array(['Wii', 'NES', 'GB', 'DS', 'X360', 'PS3', 'PS2', 'SNES', 'GBA',\n",
       "       'PS4', '3DS', 'N64', 'PS', 'XB', 'PC', '2600', 'PSP', 'XOne',\n",
       "       'WiiU', 'GC', 'GEN', 'DC', 'PSV', 'SAT', 'SCD', 'WS', 'NG', 'TG16',\n",
       "       '3DO', 'GG', 'PCFX'], dtype=object)"
      ]
     },
     "execution_count": 38,
     "metadata": {},
     "output_type": "execute_result"
    }
   ],
   "source": [
    "df['platform'].unique()"
   ]
  },
  {
   "cell_type": "code",
   "execution_count": 39,
   "id": "entitled-column",
   "metadata": {},
   "outputs": [],
   "source": [
    "platform_ref = extract_categories(df, columns='platform', inplace=True)"
   ]
  },
  {
   "cell_type": "markdown",
   "id": "meaningful-abuse",
   "metadata": {},
   "source": [
    "#### 'genre' categorization"
   ]
  },
  {
   "cell_type": "code",
   "execution_count": 40,
   "id": "handy-gender",
   "metadata": {},
   "outputs": [
    {
     "data": {
      "text/plain": [
       "array(['Sports', 'Platform', 'Racing', 'Role-Playing', 'Puzzle', 'Misc',\n",
       "       'Shooter', 'Simulation', 'Action', 'Fighting', 'Adventure',\n",
       "       'Strategy'], dtype=object)"
      ]
     },
     "execution_count": 40,
     "metadata": {},
     "output_type": "execute_result"
    }
   ],
   "source": [
    "df['genre'].unique()"
   ]
  },
  {
   "cell_type": "code",
   "execution_count": 41,
   "id": "employed-legislature",
   "metadata": {},
   "outputs": [],
   "source": [
    "genre_ref = extract_categories(df, columns='genre', inplace=True)"
   ]
  },
  {
   "cell_type": "markdown",
   "id": "soviet-filing",
   "metadata": {},
   "source": [
    "<font color='green'><b><u>REVIEW</u></b></font>\n",
    "<div class=\"alert alert-success\" style=\"box-shadow: 4px 4px 4px\">\n",
    "    \n",
    "Well done!"
   ]
  },
  {
   "cell_type": "markdown",
   "id": "waiting-spectacular",
   "metadata": {},
   "source": [
    "#### 'rating' categorization"
   ]
  },
  {
   "cell_type": "code",
   "execution_count": 42,
   "id": "downtown-equipment",
   "metadata": {},
   "outputs": [
    {
     "data": {
      "text/plain": [
       "array(['E', 'Unknown', 'M', 'T', 'E10+', 'K-A', 'AO', 'EC', 'RP'],\n",
       "      dtype=object)"
      ]
     },
     "execution_count": 42,
     "metadata": {},
     "output_type": "execute_result"
    }
   ],
   "source": [
    "df['rating'].unique()"
   ]
  },
  {
   "cell_type": "code",
   "execution_count": 43,
   "id": "magnetic-reunion",
   "metadata": {},
   "outputs": [
    {
     "data": {
      "text/html": [
       "<div>\n",
       "<style scoped>\n",
       "    .dataframe tbody tr th:only-of-type {\n",
       "        vertical-align: middle;\n",
       "    }\n",
       "\n",
       "    .dataframe tbody tr th {\n",
       "        vertical-align: top;\n",
       "    }\n",
       "\n",
       "    .dataframe thead th {\n",
       "        text-align: right;\n",
       "    }\n",
       "</style>\n",
       "<table border=\"1\" class=\"dataframe\">\n",
       "  <thead>\n",
       "    <tr style=\"text-align: right;\">\n",
       "      <th></th>\n",
       "      <th>count</th>\n",
       "      <th>ratio</th>\n",
       "    </tr>\n",
       "  </thead>\n",
       "  <tbody>\n",
       "    <tr>\n",
       "      <th>AO</th>\n",
       "      <td>1</td>\n",
       "      <td>0.000061</td>\n",
       "    </tr>\n",
       "    <tr>\n",
       "      <th>E</th>\n",
       "      <td>3920</td>\n",
       "      <td>0.238399</td>\n",
       "    </tr>\n",
       "    <tr>\n",
       "      <th>E10+</th>\n",
       "      <td>1393</td>\n",
       "      <td>0.084717</td>\n",
       "    </tr>\n",
       "    <tr>\n",
       "      <th>EC</th>\n",
       "      <td>8</td>\n",
       "      <td>0.000487</td>\n",
       "    </tr>\n",
       "    <tr>\n",
       "      <th>K-A</th>\n",
       "      <td>3</td>\n",
       "      <td>0.000182</td>\n",
       "    </tr>\n",
       "    <tr>\n",
       "      <th>M</th>\n",
       "      <td>1536</td>\n",
       "      <td>0.093414</td>\n",
       "    </tr>\n",
       "    <tr>\n",
       "      <th>RP</th>\n",
       "      <td>1</td>\n",
       "      <td>0.000061</td>\n",
       "    </tr>\n",
       "    <tr>\n",
       "      <th>T</th>\n",
       "      <td>2905</td>\n",
       "      <td>0.176671</td>\n",
       "    </tr>\n",
       "    <tr>\n",
       "      <th>Unknown</th>\n",
       "      <td>6676</td>\n",
       "      <td>0.406009</td>\n",
       "    </tr>\n",
       "  </tbody>\n",
       "</table>\n",
       "</div>"
      ],
      "text/plain": [
       "         count     ratio\n",
       "AO           1  0.000061\n",
       "E         3920  0.238399\n",
       "E10+      1393  0.084717\n",
       "EC           8  0.000487\n",
       "K-A          3  0.000182\n",
       "M         1536  0.093414\n",
       "RP           1  0.000061\n",
       "T         2905  0.176671\n",
       "Unknown   6676  0.406009"
      ]
     },
     "execution_count": 43,
     "metadata": {},
     "output_type": "execute_result"
    }
   ],
   "source": [
    "get_value_counts(df['rating'])"
   ]
  },
  {
   "cell_type": "code",
   "execution_count": 44,
   "id": "substantial-substitute",
   "metadata": {},
   "outputs": [
    {
     "data": {
      "text/html": [
       "<div>\n",
       "<style scoped>\n",
       "    .dataframe tbody tr th:only-of-type {\n",
       "        vertical-align: middle;\n",
       "    }\n",
       "\n",
       "    .dataframe tbody tr th {\n",
       "        vertical-align: top;\n",
       "    }\n",
       "\n",
       "    .dataframe thead th {\n",
       "        text-align: right;\n",
       "    }\n",
       "</style>\n",
       "<table border=\"1\" class=\"dataframe\">\n",
       "  <thead>\n",
       "    <tr style=\"text-align: right;\">\n",
       "      <th></th>\n",
       "      <th>name</th>\n",
       "      <th>year_of_release</th>\n",
       "      <th>na_sales</th>\n",
       "      <th>eu_sales</th>\n",
       "      <th>jp_sales</th>\n",
       "      <th>other_sales</th>\n",
       "      <th>critic_score</th>\n",
       "      <th>user_score</th>\n",
       "      <th>rating</th>\n",
       "      <th>platform_id</th>\n",
       "      <th>genre_id</th>\n",
       "    </tr>\n",
       "  </thead>\n",
       "  <tbody>\n",
       "    <tr>\n",
       "      <th>875</th>\n",
       "      <td>Grand Theft Auto: San Andreas</td>\n",
       "      <td>2005</td>\n",
       "      <td>1.26</td>\n",
       "      <td>0.61</td>\n",
       "      <td>0.0</td>\n",
       "      <td>0.09</td>\n",
       "      <td>9.3</td>\n",
       "      <td>8.6</td>\n",
       "      <td>AO</td>\n",
       "      <td>29</td>\n",
       "      <td>0</td>\n",
       "    </tr>\n",
       "  </tbody>\n",
       "</table>\n",
       "</div>"
      ],
      "text/plain": [
       "                              name  year_of_release  na_sales  eu_sales  \\\n",
       "875  Grand Theft Auto: San Andreas             2005      1.26      0.61   \n",
       "\n",
       "     jp_sales  other_sales  critic_score  user_score rating  platform_id  \\\n",
       "875       0.0         0.09           9.3         8.6     AO           29   \n",
       "\n",
       "     genre_id  \n",
       "875         0  "
      ]
     },
     "execution_count": 44,
     "metadata": {},
     "output_type": "execute_result"
    }
   ],
   "source": [
    "df.query('rating == \"AO\"')"
   ]
  },
  {
   "cell_type": "markdown",
   "id": "missing-savings",
   "metadata": {},
   "source": [
    "'AO' (adults only) can be combined with 'M' (mature 17+) for the purposes of this analysis."
   ]
  },
  {
   "cell_type": "code",
   "execution_count": 45,
   "id": "still-feeding",
   "metadata": {},
   "outputs": [
    {
     "data": {
      "text/html": [
       "<div>\n",
       "<style scoped>\n",
       "    .dataframe tbody tr th:only-of-type {\n",
       "        vertical-align: middle;\n",
       "    }\n",
       "\n",
       "    .dataframe tbody tr th {\n",
       "        vertical-align: top;\n",
       "    }\n",
       "\n",
       "    .dataframe thead th {\n",
       "        text-align: right;\n",
       "    }\n",
       "</style>\n",
       "<table border=\"1\" class=\"dataframe\">\n",
       "  <thead>\n",
       "    <tr style=\"text-align: right;\">\n",
       "      <th></th>\n",
       "      <th>name</th>\n",
       "      <th>year_of_release</th>\n",
       "      <th>na_sales</th>\n",
       "      <th>eu_sales</th>\n",
       "      <th>jp_sales</th>\n",
       "      <th>other_sales</th>\n",
       "      <th>critic_score</th>\n",
       "      <th>user_score</th>\n",
       "      <th>rating</th>\n",
       "      <th>platform_id</th>\n",
       "      <th>genre_id</th>\n",
       "    </tr>\n",
       "  </thead>\n",
       "  <tbody>\n",
       "    <tr>\n",
       "      <th>4297</th>\n",
       "      <td>Nickelodeon Team Umizoomi</td>\n",
       "      <td>2011</td>\n",
       "      <td>0.42</td>\n",
       "      <td>0.0</td>\n",
       "      <td>0.0</td>\n",
       "      <td>0.03</td>\n",
       "      <td>NaN</td>\n",
       "      <td>NaN</td>\n",
       "      <td>EC</td>\n",
       "      <td>4</td>\n",
       "      <td>0</td>\n",
       "    </tr>\n",
       "    <tr>\n",
       "      <th>5034</th>\n",
       "      <td>Sesame Street: Elmo's A-to-Zoo Adventure</td>\n",
       "      <td>2010</td>\n",
       "      <td>0.35</td>\n",
       "      <td>0.0</td>\n",
       "      <td>0.0</td>\n",
       "      <td>0.02</td>\n",
       "      <td>NaN</td>\n",
       "      <td>NaN</td>\n",
       "      <td>EC</td>\n",
       "      <td>26</td>\n",
       "      <td>3</td>\n",
       "    </tr>\n",
       "  </tbody>\n",
       "</table>\n",
       "</div>"
      ],
      "text/plain": [
       "                                          name  year_of_release  na_sales  \\\n",
       "4297                 Nickelodeon Team Umizoomi             2011      0.42   \n",
       "5034  Sesame Street: Elmo's A-to-Zoo Adventure             2010      0.35   \n",
       "\n",
       "      eu_sales  jp_sales  other_sales  critic_score  user_score rating  \\\n",
       "4297       0.0       0.0         0.03           NaN         NaN     EC   \n",
       "5034       0.0       0.0         0.02           NaN         NaN     EC   \n",
       "\n",
       "      platform_id  genre_id  \n",
       "4297            4         0  \n",
       "5034           26         3  "
      ]
     },
     "execution_count": 45,
     "metadata": {},
     "output_type": "execute_result"
    }
   ],
   "source": [
    "df.query('rating == \"EC\"').sample(2)"
   ]
  },
  {
   "cell_type": "markdown",
   "id": "adopted-american",
   "metadata": {},
   "source": [
    "'EC' (early childhood) can be combined with 'E' (everyone)."
   ]
  },
  {
   "cell_type": "code",
   "execution_count": 46,
   "id": "respected-jurisdiction",
   "metadata": {},
   "outputs": [
    {
     "data": {
      "text/html": [
       "<div>\n",
       "<style scoped>\n",
       "    .dataframe tbody tr th:only-of-type {\n",
       "        vertical-align: middle;\n",
       "    }\n",
       "\n",
       "    .dataframe tbody tr th {\n",
       "        vertical-align: top;\n",
       "    }\n",
       "\n",
       "    .dataframe thead th {\n",
       "        text-align: right;\n",
       "    }\n",
       "</style>\n",
       "<table border=\"1\" class=\"dataframe\">\n",
       "  <thead>\n",
       "    <tr style=\"text-align: right;\">\n",
       "      <th></th>\n",
       "      <th>name</th>\n",
       "      <th>year_of_release</th>\n",
       "      <th>na_sales</th>\n",
       "      <th>eu_sales</th>\n",
       "      <th>jp_sales</th>\n",
       "      <th>other_sales</th>\n",
       "      <th>critic_score</th>\n",
       "      <th>user_score</th>\n",
       "      <th>rating</th>\n",
       "      <th>platform_id</th>\n",
       "      <th>genre_id</th>\n",
       "    </tr>\n",
       "  </thead>\n",
       "  <tbody>\n",
       "    <tr>\n",
       "      <th>656</th>\n",
       "      <td>Theme Hospital</td>\n",
       "      <td>1997</td>\n",
       "      <td>2.30</td>\n",
       "      <td>0.10</td>\n",
       "      <td>0.00</td>\n",
       "      <td>0.00</td>\n",
       "      <td>NaN</td>\n",
       "      <td>9.0</td>\n",
       "      <td>K-A</td>\n",
       "      <td>13</td>\n",
       "      <td>11</td>\n",
       "    </tr>\n",
       "    <tr>\n",
       "      <th>903</th>\n",
       "      <td>PaRappa The Rapper</td>\n",
       "      <td>1996</td>\n",
       "      <td>0.26</td>\n",
       "      <td>0.16</td>\n",
       "      <td>1.46</td>\n",
       "      <td>0.03</td>\n",
       "      <td>9.2</td>\n",
       "      <td>7.4</td>\n",
       "      <td>K-A</td>\n",
       "      <td>15</td>\n",
       "      <td>3</td>\n",
       "    </tr>\n",
       "    <tr>\n",
       "      <th>16681</th>\n",
       "      <td>Worms 2</td>\n",
       "      <td>1997</td>\n",
       "      <td>0.00</td>\n",
       "      <td>0.01</td>\n",
       "      <td>0.00</td>\n",
       "      <td>0.00</td>\n",
       "      <td>NaN</td>\n",
       "      <td>8.1</td>\n",
       "      <td>K-A</td>\n",
       "      <td>13</td>\n",
       "      <td>11</td>\n",
       "    </tr>\n",
       "  </tbody>\n",
       "</table>\n",
       "</div>"
      ],
      "text/plain": [
       "                     name  year_of_release  na_sales  eu_sales  jp_sales  \\\n",
       "656        Theme Hospital             1997      2.30      0.10      0.00   \n",
       "903    PaRappa The Rapper             1996      0.26      0.16      1.46   \n",
       "16681             Worms 2             1997      0.00      0.01      0.00   \n",
       "\n",
       "       other_sales  critic_score  user_score rating  platform_id  genre_id  \n",
       "656           0.00           NaN         9.0    K-A           13        11  \n",
       "903           0.03           9.2         7.4    K-A           15         3  \n",
       "16681         0.00           NaN         8.1    K-A           13        11  "
      ]
     },
     "execution_count": 46,
     "metadata": {},
     "output_type": "execute_result"
    }
   ],
   "source": [
    "df.query('rating == \"K-A\"')"
   ]
  },
  {
   "cell_type": "markdown",
   "id": "rational-origin",
   "metadata": {},
   "source": [
    "'K-A' (kids to adults) can be combined with 'E' (everyone)."
   ]
  },
  {
   "cell_type": "code",
   "execution_count": 47,
   "id": "separated-peoples",
   "metadata": {},
   "outputs": [
    {
     "data": {
      "text/html": [
       "<div>\n",
       "<style scoped>\n",
       "    .dataframe tbody tr th:only-of-type {\n",
       "        vertical-align: middle;\n",
       "    }\n",
       "\n",
       "    .dataframe tbody tr th {\n",
       "        vertical-align: top;\n",
       "    }\n",
       "\n",
       "    .dataframe thead th {\n",
       "        text-align: right;\n",
       "    }\n",
       "</style>\n",
       "<table border=\"1\" class=\"dataframe\">\n",
       "  <thead>\n",
       "    <tr style=\"text-align: right;\">\n",
       "      <th></th>\n",
       "      <th>name</th>\n",
       "      <th>year_of_release</th>\n",
       "      <th>na_sales</th>\n",
       "      <th>eu_sales</th>\n",
       "      <th>jp_sales</th>\n",
       "      <th>other_sales</th>\n",
       "      <th>critic_score</th>\n",
       "      <th>user_score</th>\n",
       "      <th>rating</th>\n",
       "      <th>platform_id</th>\n",
       "      <th>genre_id</th>\n",
       "    </tr>\n",
       "  </thead>\n",
       "  <tbody>\n",
       "    <tr>\n",
       "      <th>14270</th>\n",
       "      <td>Supreme Ruler: Cold War</td>\n",
       "      <td>2011</td>\n",
       "      <td>0.0</td>\n",
       "      <td>0.03</td>\n",
       "      <td>0.0</td>\n",
       "      <td>0.01</td>\n",
       "      <td>6.3</td>\n",
       "      <td>6.8</td>\n",
       "      <td>RP</td>\n",
       "      <td>13</td>\n",
       "      <td>11</td>\n",
       "    </tr>\n",
       "  </tbody>\n",
       "</table>\n",
       "</div>"
      ],
      "text/plain": [
       "                          name  year_of_release  na_sales  eu_sales  jp_sales  \\\n",
       "14270  Supreme Ruler: Cold War             2011       0.0      0.03       0.0   \n",
       "\n",
       "       other_sales  critic_score  user_score rating  platform_id  genre_id  \n",
       "14270         0.01           6.3         6.8     RP           13        11  "
      ]
     },
     "execution_count": 47,
     "metadata": {},
     "output_type": "execute_result"
    }
   ],
   "source": [
    "df.query('rating == \"RP\"')"
   ]
  },
  {
   "cell_type": "markdown",
   "id": "absolute-search",
   "metadata": {},
   "source": [
    "RP (rating pending) can be removed altogether (promotional material)."
   ]
  },
  {
   "cell_type": "code",
   "execution_count": 48,
   "id": "three-tumor",
   "metadata": {},
   "outputs": [],
   "source": [
    "df.drop(df[df['rating'] == 'RP'].index, inplace=True)"
   ]
  },
  {
   "cell_type": "code",
   "execution_count": 49,
   "id": "dimensional-ranch",
   "metadata": {},
   "outputs": [],
   "source": [
    "df['rating'].replace({\n",
    "    'AO': 'M',\n",
    "    'EC': 'E',\n",
    "    'K-A': 'E',\n",
    "}, inplace=True)"
   ]
  },
  {
   "cell_type": "code",
   "execution_count": 50,
   "id": "helpful-enemy",
   "metadata": {},
   "outputs": [
    {
     "data": {
      "text/markdown": [
       "Verification of operations:"
      ],
      "text/plain": [
       "<IPython.core.display.Markdown object>"
      ]
     },
     "metadata": {},
     "output_type": "display_data"
    },
    {
     "data": {
      "text/html": [
       "<div>\n",
       "<style scoped>\n",
       "    .dataframe tbody tr th:only-of-type {\n",
       "        vertical-align: middle;\n",
       "    }\n",
       "\n",
       "    .dataframe tbody tr th {\n",
       "        vertical-align: top;\n",
       "    }\n",
       "\n",
       "    .dataframe thead th {\n",
       "        text-align: right;\n",
       "    }\n",
       "</style>\n",
       "<table border=\"1\" class=\"dataframe\">\n",
       "  <thead>\n",
       "    <tr style=\"text-align: right;\">\n",
       "      <th></th>\n",
       "      <th>count</th>\n",
       "      <th>ratio</th>\n",
       "    </tr>\n",
       "  </thead>\n",
       "  <tbody>\n",
       "    <tr>\n",
       "      <th>E</th>\n",
       "      <td>3931</td>\n",
       "      <td>0.239083</td>\n",
       "    </tr>\n",
       "    <tr>\n",
       "      <th>E10+</th>\n",
       "      <td>1393</td>\n",
       "      <td>0.084722</td>\n",
       "    </tr>\n",
       "    <tr>\n",
       "      <th>M</th>\n",
       "      <td>1537</td>\n",
       "      <td>0.093480</td>\n",
       "    </tr>\n",
       "    <tr>\n",
       "      <th>T</th>\n",
       "      <td>2905</td>\n",
       "      <td>0.176682</td>\n",
       "    </tr>\n",
       "    <tr>\n",
       "      <th>Unknown</th>\n",
       "      <td>6676</td>\n",
       "      <td>0.406033</td>\n",
       "    </tr>\n",
       "  </tbody>\n",
       "</table>\n",
       "</div>"
      ],
      "text/plain": [
       "         count     ratio\n",
       "E         3931  0.239083\n",
       "E10+      1393  0.084722\n",
       "M         1537  0.093480\n",
       "T         2905  0.176682\n",
       "Unknown   6676  0.406033"
      ]
     },
     "metadata": {},
     "output_type": "display_data"
    }
   ],
   "source": [
    "display(\n",
    "    md('Verification of operations:'),\n",
    "    get_value_counts(df['rating']))"
   ]
  },
  {
   "cell_type": "code",
   "execution_count": 51,
   "id": "intended-jason",
   "metadata": {},
   "outputs": [],
   "source": [
    "rating_ref = extract_categories(df, columns='rating', inplace=True)"
   ]
  },
  {
   "cell_type": "markdown",
   "id": "mobile-villa",
   "metadata": {},
   "source": [
    "Overview of resulting dataframe:"
   ]
  },
  {
   "cell_type": "code",
   "execution_count": 52,
   "id": "chicken-appointment",
   "metadata": {
    "scrolled": true
   },
   "outputs": [
    {
     "data": {
      "text/html": [
       "<div>\n",
       "<style scoped>\n",
       "    .dataframe tbody tr th:only-of-type {\n",
       "        vertical-align: middle;\n",
       "    }\n",
       "\n",
       "    .dataframe tbody tr th {\n",
       "        vertical-align: top;\n",
       "    }\n",
       "\n",
       "    .dataframe thead th {\n",
       "        text-align: right;\n",
       "    }\n",
       "</style>\n",
       "<table border=\"1\" class=\"dataframe\">\n",
       "  <thead>\n",
       "    <tr style=\"text-align: right;\">\n",
       "      <th></th>\n",
       "      <th>name</th>\n",
       "      <th>year_of_release</th>\n",
       "      <th>na_sales</th>\n",
       "      <th>eu_sales</th>\n",
       "      <th>jp_sales</th>\n",
       "      <th>other_sales</th>\n",
       "      <th>critic_score</th>\n",
       "      <th>user_score</th>\n",
       "      <th>platform_id</th>\n",
       "      <th>genre_id</th>\n",
       "      <th>rating_id</th>\n",
       "    </tr>\n",
       "  </thead>\n",
       "  <tbody>\n",
       "    <tr>\n",
       "      <th>16407</th>\n",
       "      <td>Happy Dance Collection</td>\n",
       "      <td>2008</td>\n",
       "      <td>0.0</td>\n",
       "      <td>0.0</td>\n",
       "      <td>0.01</td>\n",
       "      <td>0.0</td>\n",
       "      <td>NaN</td>\n",
       "      <td>NaN</td>\n",
       "      <td>26</td>\n",
       "      <td>3</td>\n",
       "      <td>4</td>\n",
       "    </tr>\n",
       "  </tbody>\n",
       "</table>\n",
       "</div>"
      ],
      "text/plain": [
       "                         name  year_of_release  na_sales  eu_sales  jp_sales  \\\n",
       "16407  Happy Dance Collection             2008       0.0       0.0      0.01   \n",
       "\n",
       "       other_sales  critic_score  user_score  platform_id  genre_id  rating_id  \n",
       "16407          0.0           NaN         NaN           26         3          4  "
      ]
     },
     "metadata": {},
     "output_type": "display_data"
    },
    {
     "data": {
      "text/plain": [
       "name                object\n",
       "year_of_release      int64\n",
       "na_sales           float64\n",
       "eu_sales           float64\n",
       "jp_sales           float64\n",
       "other_sales        float64\n",
       "critic_score       float64\n",
       "user_score         float64\n",
       "platform_id          int64\n",
       "genre_id             int64\n",
       "rating_id            int64\n",
       "dtype: object"
      ]
     },
     "metadata": {},
     "output_type": "display_data"
    }
   ],
   "source": [
    "display(\n",
    "    df.sample(),\n",
    "    df.dtypes)"
   ]
  },
  {
   "cell_type": "markdown",
   "id": "continental-costa",
   "metadata": {},
   "source": [
    "<font color='green'><b><u>REVIEW</u></b></font>\n",
    "<div class=\"alert alert-success\" style=\"box-shadow: 4px 4px 4px\">\n",
    "    \n",
    "You have done an amazing job with <b>ratings</b> column. You've combined your skills with the domain knowledge to \"fix\" the column.\n",
    "    \n",
    "Nice!"
   ]
  },
  {
   "cell_type": "markdown",
   "id": "greenhouse-benjamin",
   "metadata": {},
   "source": [
    "<a class=\"anchor\" id=\"2-preprocess_synthetic\"></a>\n",
    "### Synthetic features\n",
    "[up](#2-preprocess)"
   ]
  },
  {
   "cell_type": "markdown",
   "id": "african-alias",
   "metadata": {},
   "source": [
    "Calculating the sum of total sales from all regions, per game."
   ]
  },
  {
   "cell_type": "code",
   "execution_count": 53,
   "id": "cellular-bulgarian",
   "metadata": {},
   "outputs": [],
   "source": [
    "df['total_sales'] = df[[col for col in df.columns if col.endswith('_sales')]].sum(axis=1)"
   ]
  },
  {
   "cell_type": "markdown",
   "id": "written-webmaster",
   "metadata": {},
   "source": [
    "Merging user_score and critic_score to a new unified metric, reviews_score."
   ]
  },
  {
   "cell_type": "markdown",
   "id": "driving-league",
   "metadata": {},
   "source": [
    "<s>\n",
    "<font color='orange'><b><u>REMARK</u></b></font>\n",
    "<div class=\"alert alert-warning\" style=\"box-shadow: 4px 4px 4px\">\n",
    "    \n",
    "Seems like you've somehow moved the cell that creates a new feature called <b>review_score</b> to somewhere else."
   ]
  },
  {
   "cell_type": "code",
   "execution_count": 54,
   "id": "italian-helen",
   "metadata": {},
   "outputs": [
    {
     "data": {
      "text/plain": [
       "user_score       NaN\n",
       "critic_score     8.5\n",
       "reviews_score    8.5\n",
       "dtype: float64"
      ]
     },
     "execution_count": 54,
     "metadata": {},
     "output_type": "execute_result"
    }
   ],
   "source": [
    "df[['user_score', 'critic_score']].query('user_score.isna() and not critic_score.isna()').iloc[0].agg(\n",
    "    lambda x:x.append(pd.Series(x.mean(), index=['reviews_score'])))"
   ]
  },
  {
   "cell_type": "markdown",
   "id": "architectural-argentina",
   "metadata": {},
   "source": [
    "Mean aggregation disregards missing values, and will skew the results.  \n",
    "Aggregating only non-missing values."
   ]
  },
  {
   "cell_type": "code",
   "execution_count": 55,
   "id": "accomplished-palestinian",
   "metadata": {},
   "outputs": [
    {
     "name": "stdout",
     "output_type": "stream",
     "text": [
      "Applied to 6892 rows.\n"
     ]
    }
   ],
   "source": [
    "df['reviews_score'] = (df[['user_score', 'critic_score']]\n",
    "                       .query('~user_score.isna() and ~critic_score.isna()')\n",
    "                       .agg('mean', axis=1))\n",
    "print(f\"Applied to {df['reviews_score'].count()} rows.\")"
   ]
  },
  {
   "cell_type": "markdown",
   "id": "yellow-development",
   "metadata": {},
   "source": [
    "Sum of missing values count, between the relevant columns:"
   ]
  },
  {
   "cell_type": "code",
   "execution_count": 56,
   "id": "sustainable-figure",
   "metadata": {},
   "outputs": [
    {
     "data": {
      "text/plain": [
       "0    6892\n",
       "2    1658\n",
       "3    7892\n",
       "dtype: int64"
      ]
     },
     "execution_count": 56,
     "metadata": {},
     "output_type": "execute_result"
    }
   ],
   "source": [
    "df[['reviews_score', 'user_score', 'critic_score']].isna().sum(axis=1).value_counts().sort_index()"
   ]
  },
  {
   "cell_type": "markdown",
   "id": "monthly-planner",
   "metadata": {},
   "source": [
    "<a class=\"anchor\" id=\"2-preprocess_conclusions\"></a>\n",
    "### Conclusions\n",
    "[up](#2-preprocess)\n",
    "\n",
    "* Column names normalized to lower case\n",
    "* Missing values:  \n",
    "&nbsp;&nbsp; year - removed rows  \n",
    "&nbsp;&nbsp; user / critic ratings - ignored  \n",
    "&nbsp;&nbsp; ESRB ratings - filled in with dummy value  \n",
    "* Data types:  \n",
    "&nbsp;&nbsp; platform, genre and ESRB ratings categorised and extracted to look up tables.  \n",
    "&nbsp;&nbsp; conversions:  \n",
    "&nbsp;&nbsp; &nbsp;&nbsp; year -> int  \n",
    "&nbsp;&nbsp; &nbsp;&nbsp; user score -> float  \n",
    "&nbsp;&nbsp; &nbsp;&nbsp; critic score -> scaled to 0-10  \n",
    "* Synthetic features:  \n",
    "&nbsp;&nbsp; calculated total_sales from regional sales  \n",
    "&nbsp;&nbsp; calculated reviews_score from mean of both user_score and critic_score"
   ]
  },
  {
   "cell_type": "markdown",
   "id": "driven-murder",
   "metadata": {},
   "source": [
    "<a class=\"anchor\" id=\"3-analysis\"></a>\n",
    "## Analysis\n",
    "***\n",
    "[back to Table of Contents](#0_toc)\n",
    "\n",
    "Searching for potentially profitable categories for the upcoming year,  \n",
    "exploring distributions and correlation of sales, platforms, genres and ratings.\n",
    "\n",
    "1. [Titles per year](#3-analysis_year_release)\n",
    "2. [Total sales by platform](#3-analysis_sales_by_platform)\n",
    "3. [Top platforms' sells distribution by year](#3-analysis_sales_distribution)\n",
    "4. [Potentially profitable platforms](#3-analysis_profitable_platforms)\n",
    "5. [Reviews effect on sales](#3-analysis_reviews)\n",
    "6. [Comparison of genres](#3-analysis_genres)\n",
    "<br />[Conclusions](#3-analysis_conclusions)"
   ]
  },
  {
   "cell_type": "code",
   "execution_count": 57,
   "id": "rough-upset",
   "metadata": {},
   "outputs": [],
   "source": [
    "def calculate_descriptive_stats(series):\n",
    "    \"\"\"\n",
    "    Returns a Tuple of:\n",
    "      lower extreme, upper extreme,\n",
    "      IQR, Q1, Q3\n",
    "    \"\"\"\n",
    "    \n",
    "    q1 = series.quantile(0.25)\n",
    "    q3 = series.quantile(0.75)\n",
    "    iqr = q3 - q1\n",
    "    lower_extreme = max(q1 - (1.5 * iqr), series.min())\n",
    "    upper_extreme = min(q3 + (1.5 * iqr), series.max())\n",
    "    \n",
    "    return lower_extreme, upper_extreme, iqr, q1, q3"
   ]
  },
  {
   "cell_type": "code",
   "execution_count": 58,
   "id": "ordered-chocolate",
   "metadata": {},
   "outputs": [],
   "source": [
    "def detect_outliers(df, verbose=False):\n",
    "    \"\"\"Detects potential outliers, using IQR method\"\"\"\n",
    "    \n",
    "    def detect(series):\n",
    "        lower_extreme, upper_extreme, _, _, _ = calculate_descriptive_stats(series)\n",
    "        outliers = series[(series < lower_extreme) | (series > upper_extreme)]\n",
    "        print(f'{series.name} outliers: {len(outliers)} ({len(outliers)/len(series):.2%})')\n",
    "        print(f'lower extreme: {lower_extreme}  upper extreme: {upper_extreme}')\n",
    "        \n",
    "        if verbose:\n",
    "            print(outliers)\n",
    "            \n",
    "        print()\n",
    "    \n",
    "    if isinstance(df, pd.DataFrame):\n",
    "        for column in df.columns:\n",
    "            detect(df[column])\n",
    "    elif isinstance(df, pd.Series):\n",
    "        detect(df)"
   ]
  },
  {
   "cell_type": "code",
   "execution_count": 59,
   "id": "legislative-parts",
   "metadata": {},
   "outputs": [],
   "source": [
    "plt.rcParams[\"figure.figsize\"] = (13,9)"
   ]
  },
  {
   "cell_type": "markdown",
   "id": "attended-coordination",
   "metadata": {},
   "source": [
    "<font color='green'><b><u>REVIEW v.2</u></b></font>\n",
    "<div class=\"alert alert-success\" style=\"box-shadow: 4px 4px 4px\">\n",
    "    \n",
    "Nice!\n",
    "    \n",
    "Also, you might want to discover your own template of visualizations that consists of figure size, plot style, text fonts, etc.\n",
    "    \n",
    "That's how you can emphasize your individuality and create your own recognizable style\n",
    "    \n",
    "Really hope that it will help!"
   ]
  },
  {
   "cell_type": "markdown",
   "id": "respected-qualification",
   "metadata": {},
   "source": [
    "<a class=\"anchor\" id=\"3-analysis_year_release\"></a>\n",
    "### Titles per year\n",
    "[up](#3-analysis)"
   ]
  },
  {
   "cell_type": "code",
   "execution_count": 60,
   "id": "threaded-memorabilia",
   "metadata": {},
   "outputs": [
    {
     "data": {
      "image/png": "[encoded data removed]",
      "text/plain": [
       "<Figure size 936x648 with 1 Axes>"
      ]
     },
     "metadata": {
      "needs_background": "light"
     },
     "output_type": "display_data"
    }
   ],
   "source": [
    "df['year_of_release'].value_counts().sort_index().plot.bar(\n",
    "    title='Title releases per Year', \n",
    "    xlabel='Year',\n",
    "    ylabel='Titles')\n",
    "plt.xticks(rotation=45, ha='right')\n",
    "plt.show();"
   ]
  },
  {
   "cell_type": "markdown",
   "id": "forward-heating",
   "metadata": {},
   "source": [
    "The gaming industry started to take off in the 90s."
   ]
  },
  {
   "cell_type": "markdown",
   "id": "regulated-anthony",
   "metadata": {},
   "source": [
    "<s>\n",
    "<font color='orange'><b><u>REMARK</u></b></font>\n",
    "<div class=\"alert alert-warning\" style=\"box-shadow: 4px 4px 4px\">\n",
    "    \n",
    "Note that figure title do not support Markdown. Therefore, we it is quite meaningless to include <b>#</b> at the begining of the title :)\n",
    "\n",
    "Here, I would suggest increasing the figure size. Figure size of (13, 9) always works good for me :)\n",
    "    \n",
    "Also, we might want to rotate X-axis ticks to increase readability. By the following [link](https://www.geeksforgeeks.org/rotate-axis-tick-labels-in-seaborn-and-matplotlib/) you can find how it can be done"
   ]
  },
  {
   "cell_type": "markdown",
   "id": "hourly-saturday",
   "metadata": {},
   "source": [
    "<s>\n",
    "<font color='orange'><b><u>REMARK</u></b></font>\n",
    "<div class=\"alert alert-warning\" style=\"box-shadow: 4px 4px 4px\">\n",
    "    \n",
    "It is highly recommended to provide comprehensive analysis after visualizations. For instance, here it's not too hard to see that the gaming industry began to take off after 90s. However, it is not clear how to interpret the full visualization. \n",
    "    \n",
    "* Why 90s were the start of the era of gaming industry?\n",
    "    \n",
    "* Why 2007-2010 years were the best year in terms of number of game releases?\n",
    "    \n",
    "* Why later number of releases has significantly dropped?\n",
    "    \n",
    "* Does it mean that gaming industry is dying nowadays?\n",
    "    \n",
    "As data analysts we really don't want to leave data analysis and interpretation to the reader or someone else."
   ]
  },
  {
   "cell_type": "markdown",
   "id": "strategic-salem",
   "metadata": {},
   "source": [
    "The above bar plot raises some interesting questions.  \n",
    "The exponentially growing tech industry of chips (and graphic chips),  \n",
    "made it possible for new and powerful home gaming consoles to see the light of day,  \n",
    "with Nintendo and Sony leading the way, and Microsoft following.  \n",
    "From the early 90's and up until the peak of the number of titles released in years 2008-2009,  \n",
    "gaming companies have released a growing number of titles each year,  \n",
    "which gradually decreased and became stable at ~600 yearly titles around the year 2012.  \n",
    "A possible explanation for this is that the companies producing the games decided to go for quality instead of quantity,  \n",
    "caring for their user's opinion and feedback.  \n",
    "Also, to combat gaming piracy and bootlegging,  \n",
    "which increased with the rise of faster and cheaper broadband connections,  \n",
    "many such developers resorted to an ecosystem of Virtual Goods, letting users spend money on in-game items,  \n",
    "making it a very profitable avenue.\n",
    "\n",
    "\\- https://en.wikipedia.org/wiki/Video_game#Industry  \n",
    "\\- https://techcrunch.com/2015/10/31/the-history-of-gaming-an-evolving-community/  \n",
    "\\- https://www.adroitmarketresearch.com/press-release/virtual-goods-market"
   ]
  },
  {
   "cell_type": "markdown",
   "id": "sonic-applicant",
   "metadata": {},
   "source": [
    "<s>\n",
    "<font color='red'><b><u>NEEDS FIXING</u></b></font>\n",
    "<div class=\"alert alert-danger\" style=\"box-shadow: 4px 4px 4px\">\n",
    "    \n",
    "Try to make sure that a visualization has it's title and X/Y-axis labels. "
   ]
  },
  {
   "cell_type": "markdown",
   "id": "statewide-safety",
   "metadata": {},
   "source": [
    "<font color='green'><b><u>REVIEW v.2</u></b></font>\n",
    "<div class=\"alert alert-success\" style=\"box-shadow: 4px 4px 4px\">\n",
    "    \n",
    "Here comes the comprehensive analysis. BAM!😁\n",
    "    \n",
    "Good job!"
   ]
  },
  {
   "cell_type": "code",
   "execution_count": 61,
   "id": "classified-consideration",
   "metadata": {},
   "outputs": [
    {
     "data": {
      "text/markdown": [
       "\\# of releases before 1990: 205  \n",
       "\\# of releases after 1990: 16237"
      ],
      "text/plain": [
       "<IPython.core.display.Markdown object>"
      ]
     },
     "metadata": {},
     "output_type": "display_data"
    }
   ],
   "source": [
    "display(\n",
    "    md(f\"\\# of releases before 1990: {len(df.query('year_of_release < 1990'))}  \\n\"\n",
    "       f\"\\# of releases after 1990: {len(df.query('year_of_release >= 1990'))}\"))"
   ]
  },
  {
   "cell_type": "markdown",
   "id": "internal-optimization",
   "metadata": {},
   "source": [
    "<a class=\"anchor\" id=\"3-analysis_sales_by_platform\"></a>\n",
    "### Total sales by platform\n",
    "[up](#3-analysis)"
   ]
  },
  {
   "cell_type": "code",
   "execution_count": 62,
   "id": "coastal-memorial",
   "metadata": {
    "scrolled": false
   },
   "outputs": [
    {
     "data": {
      "image/png": "[encoded data removed]",
      "text/plain": [
       "<Figure size 936x648 with 1 Axes>"
      ]
     },
     "metadata": {
      "needs_background": "light"
     },
     "output_type": "display_data"
    }
   ],
   "source": [
    "total_sales_by_platform = (df[['platform_id', 'total_sales']]\n",
    "                           .groupby('platform_id')\n",
    "                           .sum()\n",
    "                           .sort_values('total_sales'))\n",
    "total_sales_by_platform.plot.bar(\n",
    "    title='Sales by Platform',\n",
    "    xlabel='Platform',\n",
    "    ylabel='Revenue (mil.)',\n",
    "    legend=None)\n",
    "labels = [platform_ref[id] for id in total_sales_by_platform.index.values]\n",
    "plt.xticks(list(range(len(labels))), labels, rotation=45, ha='right')\n",
    "plt.show();"
   ]
  },
  {
   "cell_type": "markdown",
   "id": "immediate-milton",
   "metadata": {},
   "source": [
    "The highest grossing platforms appear to be, in order:\n",
    "* PS2\n",
    "* Xbox 360\n",
    "* PS3\n",
    "* Wii\n",
    "* DS\n",
    "* PS"
   ]
  },
  {
   "cell_type": "markdown",
   "id": "manual-remedy",
   "metadata": {},
   "source": [
    "<s>\n",
    "<font color='orange'><b><u>REMARK</u></b></font>\n",
    "<div class=\"alert alert-warning\" style=\"box-shadow: 4px 4px 4px\">\n",
    "    \n",
    "Same remarks as above - increased figure size, xticks rotation and comprehensive analysis"
   ]
  },
  {
   "cell_type": "markdown",
   "id": "sharing-sequence",
   "metadata": {},
   "source": [
    "The top platforms are from the end of the 90's (PS), and the start of the 21st century.  \n",
    "It coincides with the large number of titles released yearly,  \n",
    "meaning the platforms with the highest total sales are the ones which had most games released for over the very prolific period of 1990 - 2010."
   ]
  },
  {
   "cell_type": "markdown",
   "id": "inappropriate-patch",
   "metadata": {},
   "source": [
    "<a class=\"anchor\" id=\"3-analysis_sales_distribution\"></a>\n",
    "### Top platforms' sales distribution by year\n",
    "[up](#3-analysis)"
   ]
  },
  {
   "cell_type": "code",
   "execution_count": 63,
   "id": "drawn-visitor",
   "metadata": {},
   "outputs": [],
   "source": [
    "highest_grossing_platforms = total_sales_by_platform[-6:].index.values\n",
    "highest_grossing_platforms_slice = df.query('platform_id in @highest_grossing_platforms').copy()"
   ]
  },
  {
   "cell_type": "code",
   "execution_count": 64,
   "id": "israeli-vehicle",
   "metadata": {},
   "outputs": [
    {
     "data": {
      "image/png": "[encoded data removed]",
      "text/plain": [
       "<Figure size 864x720 with 12 Axes>"
      ]
     },
     "metadata": {
      "needs_background": "light"
     },
     "output_type": "display_data"
    }
   ],
   "source": [
    "#def plot_top_platforms_distributions():\n",
    "\n",
    "fig, axes = plt.subplots(3, 4, figsize=(12,10))\n",
    "flat_axes = axes.flat\n",
    "\n",
    "for i, platform_id in enumerate(highest_grossing_platforms):\n",
    "    # print(i*2, i*2 + 1)\n",
    "    ax_1 = flat_axes[i*2]\n",
    "    ax_2 = flat_axes[i*2 + 1]\n",
    "    platform_slice = highest_grossing_platforms_slice.query('platform_id == @platform_id')\n",
    "\n",
    "    platform_slice.hist('total_sales', density=True, orientation='horizontal', ax=ax_1)\n",
    "    ax_1.set_title(platform_ref[platform_id])\n",
    "    ax_1.set_xlabel('Count')\n",
    "    ax_1.set_ylabel('Revenue (mil.)')\n",
    "\n",
    "    lower_extreme, upper_extreme, _, _, _ = calculate_descriptive_stats(platform_slice['total_sales'])\n",
    "    platform_slice.boxplot('total_sales', ax=ax_2)\n",
    "    ax_2.set_title(platform_ref[platform_id])\n",
    "    ax_2.set_xticks([])\n",
    "    ax_2.set_ylabel('Revenue (mil.)')\n",
    "    ax_2.hlines([lower_extreme, upper_extreme], color='red', xmin=0.9, xmax=1.1)\n",
    "\n",
    "plt.suptitle('Total Sales distribution')\n",
    "fig.tight_layout()\n",
    "plt.show()"
   ]
  },
  {
   "cell_type": "markdown",
   "id": "welsh-newark",
   "metadata": {},
   "source": [
    "<font color='green'><b><u>REVIEW</u></b></font>\n",
    "<div class=\"alert alert-success\" style=\"box-shadow: 4px 4px 4px\">\n",
    "    \n",
    "💪\n",
    "    \n",
    "It's amazing that you already know how to use <b>plt.subplots</b> in combination with <b>for loop</b>"
   ]
  },
  {
   "cell_type": "markdown",
   "id": "occupational-queue",
   "metadata": {},
   "source": [
    "<s>\n",
    "<font color='orange'><b><u>REMARK</u></b></font>\n",
    "<div class=\"alert alert-warning\" style=\"box-shadow: 4px 4px 4px\">\n",
    "    \n",
    "The function above has been used only once. Not sure if we need to wrap up the code into a function, if the resulting function is being used only once."
   ]
  },
  {
   "cell_type": "markdown",
   "id": "lesser-distinction",
   "metadata": {},
   "source": [
    "<s>\n",
    "<font color='red'><b><u>NEEDS FIXING</u></b></font>\n",
    "<div class=\"alert alert-danger\" style=\"box-shadow: 4px 4px 4px\">\n",
    "    \n",
    "Even subplots need to have title and axis-labels."
   ]
  },
  {
   "cell_type": "markdown",
   "id": "frequent-wells",
   "metadata": {},
   "source": [
    "Many outliers are noticeable, exploring further:"
   ]
  },
  {
   "cell_type": "code",
   "execution_count": 65,
   "id": "military-helena",
   "metadata": {},
   "outputs": [
    {
     "name": "stdout",
     "output_type": "stream",
     "text": [
      "PS outliers: 114 (9.58%)\n",
      "lower extreme: 0.01  upper extreme: 1.485\n",
      "\n",
      "DS outliers: 232 (10.94%)\n",
      "lower extreme: 0.01  upper extreme: 0.6000000000000001\n",
      "\n",
      "Wii outliers: 134 (10.42%)\n",
      "lower extreme: 0.01  upper extreme: 1.0837499999999998\n",
      "\n",
      "PS3 outliers: 119 (9.12%)\n",
      "lower extreme: 0.0  upper extreme: 1.735\n",
      "\n",
      "X360 outliers: 127 (10.31%)\n",
      "lower extreme: 0.01  upper extreme: 1.76\n",
      "\n",
      "PS2 outliers: 248 (11.66%)\n",
      "lower extreme: 0.0  upper extreme: 1.2800000000000002\n",
      "\n"
     ]
    }
   ],
   "source": [
    "for platform_id in highest_grossing_platforms:\n",
    "    detect_outliers(highest_grossing_platforms_slice\n",
    "                    .query('platform_id == @platform_id')['total_sales']\n",
    "                    .rename(platform_ref[platform_id]))"
   ]
  },
  {
   "cell_type": "markdown",
   "id": "liberal-correction",
   "metadata": {},
   "source": [
    "Total sales is the target metric, outliers should not be removed unless it is irrational or erroneous data.  \n",
    "Games can be best sellers, i.e. outside of the upper extreme limit, and still be considered a legitimate entry."
   ]
  },
  {
   "cell_type": "code",
   "execution_count": 66,
   "id": "divided-consent",
   "metadata": {
    "scrolled": true
   },
   "outputs": [
    {
     "data": {
      "text/plain": [
       "array([1985, 1994, 1995, 1996, 1997, 1998, 1999, 2000, 2001, 2002, 2003,\n",
       "       2004, 2005, 2006, 2007, 2008, 2009, 2010, 2011, 2012, 2013, 2014,\n",
       "       2015, 2016])"
      ]
     },
     "execution_count": 66,
     "metadata": {},
     "output_type": "execute_result"
    }
   ],
   "source": [
    "highest_grossing_platforms_slice['year_of_release'].sort_values().unique()"
   ]
  },
  {
   "cell_type": "code",
   "execution_count": 67,
   "id": "altered-divorce",
   "metadata": {},
   "outputs": [
    {
     "data": {
      "text/html": [
       "<div>\n",
       "<style scoped>\n",
       "    .dataframe tbody tr th:only-of-type {\n",
       "        vertical-align: middle;\n",
       "    }\n",
       "\n",
       "    .dataframe tbody tr th {\n",
       "        vertical-align: top;\n",
       "    }\n",
       "\n",
       "    .dataframe thead th {\n",
       "        text-align: right;\n",
       "    }\n",
       "</style>\n",
       "<table border=\"1\" class=\"dataframe\">\n",
       "  <thead>\n",
       "    <tr style=\"text-align: right;\">\n",
       "      <th></th>\n",
       "      <th>name</th>\n",
       "      <th>year_of_release</th>\n",
       "      <th>na_sales</th>\n",
       "      <th>eu_sales</th>\n",
       "      <th>jp_sales</th>\n",
       "      <th>other_sales</th>\n",
       "      <th>critic_score</th>\n",
       "      <th>user_score</th>\n",
       "      <th>platform_id</th>\n",
       "      <th>genre_id</th>\n",
       "      <th>rating_id</th>\n",
       "      <th>total_sales</th>\n",
       "      <th>reviews_score</th>\n",
       "    </tr>\n",
       "  </thead>\n",
       "  <tbody>\n",
       "    <tr>\n",
       "      <th>0</th>\n",
       "      <td>Strongest Tokyo University Shogi DS</td>\n",
       "      <td>1985</td>\n",
       "      <td>0.0</td>\n",
       "      <td>0.0</td>\n",
       "      <td>0.02</td>\n",
       "      <td>0.0</td>\n",
       "      <td>NaN</td>\n",
       "      <td>NaN</td>\n",
       "      <td>4</td>\n",
       "      <td>0</td>\n",
       "      <td>4</td>\n",
       "      <td>0.02</td>\n",
       "      <td>NaN</td>\n",
       "    </tr>\n",
       "  </tbody>\n",
       "</table>\n",
       "</div>"
      ],
      "text/plain": [
       "                                  name  year_of_release  na_sales  eu_sales  \\\n",
       "0  Strongest Tokyo University Shogi DS             1985       0.0       0.0   \n",
       "\n",
       "   jp_sales  other_sales  critic_score  user_score  platform_id  genre_id  \\\n",
       "0      0.02          0.0           NaN         NaN            4         0   \n",
       "\n",
       "   rating_id  total_sales  reviews_score  \n",
       "0          4         0.02            NaN  "
      ]
     },
     "execution_count": 67,
     "metadata": {},
     "output_type": "execute_result"
    }
   ],
   "source": [
    "suspect_anomaly = (highest_grossing_platforms_slice\n",
    "                   .query('year_of_release == 1985')\n",
    "                   .reset_index(drop=True))\n",
    "suspect_anomaly"
   ]
  },
  {
   "cell_type": "code",
   "execution_count": 68,
   "id": "virgin-comparative",
   "metadata": {
    "scrolled": true
   },
   "outputs": [
    {
     "data": {
      "text/plain": [
       "'DS'"
      ]
     },
     "execution_count": 68,
     "metadata": {},
     "output_type": "execute_result"
    }
   ],
   "source": [
    "platform_ref[4]"
   ]
  },
  {
   "cell_type": "markdown",
   "id": "military-petite",
   "metadata": {},
   "source": [
    "the DS console did not exist in 1985, it is an anomaly. dropping the entry."
   ]
  },
  {
   "cell_type": "markdown",
   "id": "going-national",
   "metadata": {},
   "source": [
    "<font color='green'><b><u>REVIEW</u></b></font>\n",
    "<div class=\"alert alert-success\" style=\"box-shadow: 4px 4px 4px\">\n",
    "    \n",
    "👍"
   ]
  },
  {
   "cell_type": "code",
   "execution_count": 69,
   "id": "spectacular-pointer",
   "metadata": {},
   "outputs": [],
   "source": [
    "highest_grossing_platforms_slice.drop(\n",
    "    highest_grossing_platforms_slice.query('year_of_release == 1985').index, inplace=True)\n",
    "df.drop(suspect_anomaly.index, inplace=True)\n",
    "del suspect_anomaly"
   ]
  },
  {
   "cell_type": "code",
   "execution_count": 70,
   "id": "arctic-rover",
   "metadata": {},
   "outputs": [
    {
     "data": {
      "image/png": "[encoded data removed]",
      "text/plain": [
       "<Figure size 936x648 with 1 Axes>"
      ]
     },
     "metadata": {
      "needs_background": "light"
     },
     "output_type": "display_data"
    }
   ],
   "source": [
    "sns.histplot(\n",
    "    highest_grossing_platforms_slice.join(platform_ref, on='platform_id'),\n",
    "    x='year_of_release',\n",
    "    hue='platform',\n",
    "    kde=True,\n",
    "    edgecolor=\".3\",\n",
    "    linewidth=.5,\n",
    ")\n",
    "plt.title('Highest selling Platforms')\n",
    "plt.xlabel('Year')\n",
    "plt.ylabel('Tota sales')\n",
    "plt.show();"
   ]
  },
  {
   "cell_type": "markdown",
   "id": "adopted-reminder",
   "metadata": {},
   "source": [
    "The span in which a platform \"rise & fall\" (measured by revenue), seems to be ~10 years,  \n",
    "with overlap occuring:\n",
    "when one decreases in popularity, another one increases in parallel."
   ]
  },
  {
   "cell_type": "markdown",
   "id": "potential-sheep",
   "metadata": {},
   "source": [
    "Judging by these trends, it appears that the past 5 years should be a good range to look for the next wave of popular consoles."
   ]
  },
  {
   "cell_type": "markdown",
   "id": "adolescent-smart",
   "metadata": {},
   "source": [
    "<font color='green'><b><u>REVIEW</u></b></font>\n",
    "<div class=\"alert alert-success\" style=\"box-shadow: 4px 4px 4px\">\n",
    "\n",
    "Awesome visualization and nice analysis!"
   ]
  },
  {
   "cell_type": "markdown",
   "id": "strong-auditor",
   "metadata": {},
   "source": [
    "<s>\n",
    "<font color='orange'><b><u>REMARK</u></b></font>\n",
    "<div class=\"alert alert-warning\" style=\"box-shadow: 4px 4px 4px\">\n",
    "    \n",
    "Try to make the figure bigger. Also, kde plots are making the visualization messier, may be we should consider removing them"
   ]
  },
  {
   "cell_type": "markdown",
   "id": "eight-stewart",
   "metadata": {},
   "source": [
    "<div class='alert alert-info'><b>Student comment:</b><br />\n",
    "I have tried removing the kde parameter,  <br />\n",
    "but in my opinion - it then becomes harder to spot the overlap between one platform's increase, and the other's decrease.\n",
    "</div>"
   ]
  },
  {
   "cell_type": "markdown",
   "id": "entire-difference",
   "metadata": {},
   "source": [
    "<font color='green'><b><u>REVIEW v.2</u></b></font>\n",
    "<div class=\"alert alert-success\" style=\"box-shadow: 4px 4px 4px\">\n",
    "\n",
    "Okay, it's up to you again! \n",
    "    \n",
    "Just try to be carefull and avoid making plot \"messy\" and hardly readable"
   ]
  },
  {
   "cell_type": "code",
   "execution_count": 71,
   "id": "stuffed-kelly",
   "metadata": {},
   "outputs": [
    {
     "data": {
      "text/plain": [
       "[2012, 2013, 2014, 2015, 2016]"
      ]
     },
     "execution_count": 71,
     "metadata": {},
     "output_type": "execute_result"
    }
   ],
   "source": [
    "relevant_years = sorted(df['year_of_release'].unique())[-5:]\n",
    "relevant_years"
   ]
  },
  {
   "cell_type": "markdown",
   "id": "crucial-estimate",
   "metadata": {},
   "source": [
    "<s>\n",
    "<font color='orange'><b><u>REMARK</u></b></font>\n",
    "<div class=\"alert alert-warning\" style=\"box-shadow: 4px 4px 4px\">\n",
    "    \n",
    "It was absolutely correct to choose this range of years. However, it's quite unclear how you came up to this result. \n",
    "\n",
    "Please, share your analysis and conclusion on this specific range of years"
   ]
  },
  {
   "cell_type": "markdown",
   "id": "dated-marathon",
   "metadata": {},
   "source": [
    "By looking at PS and PS2 distributions above, it can be seen that PS has reached a peak in year '98, and then started decreasing.  \n",
    "In parallel, PS2 appeared and started increasing.  \n",
    "By the time the PS hit zero at around 2003, PS2 has reached its mid-life - and became the popular one.  \n",
    "Then the same has happened for PS2 and PS3 / Xbox 360.  \n",
    "\n",
    "The trend here is that once a newer generation console is released,  \n",
    "games for older generations consoles sell less, and games for the newest generation consoles sell more.  \n",
    "Looking at the plot, this transition process takes about 5 years (i.e. from PS1 median - 1998, to PS2 median - 2003)."
   ]
  },
  {
   "cell_type": "markdown",
   "id": "identified-pharmacy",
   "metadata": {},
   "source": [
    "<a class=\"anchor\" id=\"3-analysis_profitable_platforms\"></a>\n",
    "### Potentially profitable platforms\n",
    "[up](#3-analysis)\n",
    "\n",
    "Selecting only platforms which have releases within the relevant range, found above."
   ]
  },
  {
   "cell_type": "code",
   "execution_count": 72,
   "id": "absent-dialogue",
   "metadata": {},
   "outputs": [],
   "source": [
    "def filter_platforms_by_release_years(df, years):\n",
    "    \"\"\"Selects the platforms that have all their released titles within the specified years\"\"\"\n",
    "    \n",
    "    min_year = min(years)\n",
    "    max_year = max(years)\n",
    "    platform_years_min_max = df.groupby('platform_id')['year_of_release'].agg(['min', 'max'])\n",
    "    return platform_years_min_max.query('min >= @min_year and max <= @max_year').index.values"
   ]
  },
  {
   "cell_type": "code",
   "execution_count": 73,
   "id": "significant-dispatch",
   "metadata": {},
   "outputs": [
    {
     "data": {
      "text/plain": [
       "array([18, 27, 30])"
      ]
     },
     "execution_count": 73,
     "metadata": {},
     "output_type": "execute_result"
    }
   ],
   "source": [
    "potential_popular_platforms_ids = filter_platforms_by_release_years(df, relevant_years)\n",
    "potential_popular_platforms_ids"
   ]
  },
  {
   "cell_type": "code",
   "execution_count": 74,
   "id": "general-forth",
   "metadata": {},
   "outputs": [],
   "source": [
    "potential_popular_platforms_slice = (df\n",
    "                                     .query('platform_id in @potential_popular_platforms_ids')\n",
    "                                     .join(platform_ref, on='platform_id'))"
   ]
  },
  {
   "cell_type": "code",
   "execution_count": 75,
   "id": "consolidated-excitement",
   "metadata": {},
   "outputs": [
    {
     "data": {
      "image/png": "[encoded data removed]",
      "text/plain": [
       "<Figure size 936x648 with 1 Axes>"
      ]
     },
     "metadata": {
      "needs_background": "light"
     },
     "output_type": "display_data"
    }
   ],
   "source": [
    "sns.histplot(\n",
    "    potential_popular_platforms_slice,\n",
    "    x='year_of_release',\n",
    "    hue='platform_id',\n",
    "    kde=True,\n",
    "    palette=\"tab10\",\n",
    "    edgecolor=\".3\",\n",
    "    linewidth=.5,\n",
    ")\n",
    "plt.title('Newest platforms')\n",
    "plt.xlabel('Year')\n",
    "plt.ylabel('Sales (mil.)')\n",
    "plt.legend([platform_ref[id] for id in potential_popular_platforms_ids])\n",
    "plt.xticks(ticks=relevant_years, labels=relevant_years)\n",
    "plt.show();"
   ]
  },
  {
   "cell_type": "markdown",
   "id": "religious-grocery",
   "metadata": {},
   "source": [
    "Xbox One is the clear winner, with most sells,  \n",
    "and not too far behind is the runner-up PS4, both seeing increase in sells.  \n",
    "WiiU is left behind, with a decreasing curve."
   ]
  },
  {
   "cell_type": "markdown",
   "id": "anonymous-johnson",
   "metadata": {},
   "source": [
    "<font color='green'><b><u>REVIEW</u></b></font>\n",
    "<div class=\"alert alert-success\" style=\"box-shadow: 4px 4px 4px\">\n",
    "    \n",
    "Nice visualization!"
   ]
  },
  {
   "cell_type": "markdown",
   "id": "coordinated-jewel",
   "metadata": {},
   "source": [
    "<s>\n",
    "<font color='orange'><b><u>REMARK</u></b></font>\n",
    "<div class=\"alert alert-warning\" style=\"box-shadow: 4px 4px 4px\">\n",
    "    \n",
    "Does it mean that we are observing duopoly in the gaming market?\n",
    "    \n",
    "Also, kde plots might be excessive."
   ]
  },
  {
   "cell_type": "markdown",
   "id": "static-matrix",
   "metadata": {},
   "source": [
    "<div class='alert alert-info'><b>Student comment:</b><br />\n",
    "This indeed might be a duopoly, but if I understood you correctly,  <br />\n",
    "I think more research has to be done in order to draw general conclusions regarding the entire market.  <br />\n",
    "I would look at some more samples over other time spans,  <br />\n",
    "and then see if the same pattern occures for the same manufacturers (Microsoft and Sony).\n",
    "    \n",
    "I've again tried to remove the kde parameter, but the bars overlap and the trend is not being seen clearly.  <br />\n",
    "Also tried different colors and alpha levels, did not help much.  <br />\n",
    "If you have a nice solution, please share and I'll happily switch this, thanks.\n",
    "</div>"
   ]
  },
  {
   "cell_type": "markdown",
   "id": "dirty-prior",
   "metadata": {},
   "source": [
    "<font color='green'><b><u>REVIEW</u></b></font>\n",
    "<div class=\"alert alert-success\" style=\"box-shadow: 4px 4px 4px\">\n",
    "    \n",
    "Yeap, good reasoning!"
   ]
  },
  {
   "cell_type": "code",
   "execution_count": 76,
   "id": "southern-freight",
   "metadata": {},
   "outputs": [
    {
     "data": {
      "image/png": "[encoded data removed]",
      "text/plain": [
       "<Figure size 936x648 with 1 Axes>"
      ]
     },
     "metadata": {
      "needs_background": "light"
     },
     "output_type": "display_data"
    }
   ],
   "source": [
    "sns.boxplot(\n",
    "    data=potential_popular_platforms_slice,\n",
    "    y='total_sales',\n",
    "    x='platform'\n",
    ")\n",
    "# plt.ylim(0, 4)\n",
    "plt.title('Newest platforms Sells')\n",
    "plt.xlabel('Platform')\n",
    "plt.ylabel('Sales (mil.)')\n",
    "plt.show();"
   ]
  },
  {
   "cell_type": "code",
   "execution_count": 77,
   "id": "peripheral-jonathan",
   "metadata": {},
   "outputs": [
    {
     "data": {
      "image/png": "[encoded data removed]",
      "text/plain": [
       "<Figure size 936x648 with 1 Axes>"
      ]
     },
     "metadata": {
      "needs_background": "light"
     },
     "output_type": "display_data"
    }
   ],
   "source": [
    "sns.barplot(\n",
    "    data=potential_popular_platforms_slice,\n",
    "    x='platform',\n",
    "    y='total_sales'\n",
    ")\n",
    "plt.title('avg. Newest platforms Sells')\n",
    "plt.xlabel('Platform')\n",
    "plt.ylabel('Sales (mil.)')\n",
    "plt.show();"
   ]
  },
  {
   "cell_type": "markdown",
   "id": "promotional-beauty",
   "metadata": {},
   "source": [
    "The differences in sales between the 3 platforms are not significant (100k range),  \n",
    "in comparison to the differences of overall sales for the most successfull platforms (10's mil. range)."
   ]
  },
  {
   "cell_type": "markdown",
   "id": "exposed-statement",
   "metadata": {},
   "source": [
    "<s>\n",
    "<font color='orange'><b><u>REMARK</u></b></font>\n",
    "<div class=\"alert alert-warning\" style=\"box-shadow: 4px 4px 4px\">\n",
    "    \n",
    "Please, note that whiskers here denote the confidence intervals.\n",
    "    \n",
    "We see that the confidence intervals of sells by each platform visually overlap.\n",
    "    \n",
    "It might indicate that those samples are coming from the same population\n",
    "    \n",
    "In other words, statistically speaking, platform-wise difference in sales seems to be statistically insignificant"
   ]
  },
  {
   "cell_type": "markdown",
   "id": "better-martial",
   "metadata": {},
   "source": [
    "<div class='alert alert-info'><b>Student comment:</b><br />\n",
    "My problem with the box plot, is that when I tweak the ylim parameter,  <br />\n",
    "it skewes the y-axis and the visual interpretation may be different.  <br />\n",
    "Is zooming-in to ylim=(0,4), cutting off some outliers, valid?  <br />\n",
    "Since the whiskers would not overlap as much anymore, would that warrant different conclusions?  <br />\n",
    "To me it seems that the visual interpretation in this case is limited, and that some statistical method should be used in addition. \n",
    "</div>"
   ]
  },
  {
   "cell_type": "markdown",
   "id": "serious-crack",
   "metadata": {},
   "source": [
    "<font color='orange'><b><u>REMARK v.2</u></b></font>\n",
    "<div class=\"alert alert-warning\" style=\"box-shadow: 4px 4px 4px\">\n",
    "    \n",
    "Actually, limiting the y-axis won't solve the problem of outliers, it will just hide it :) By hiding the problem, we would never be able to find a solution. Also, note that nobody is asking for a perfect visualization that contains perfect box plots. Box-plots are the tool for inspection of the data distribution with built-in outlier detectors. \n",
    "Thus, I suggest using axis-wise limits only in extreme cases. Otherwise, we risk to come up with slightly different conclusion"
   ]
  },
  {
   "cell_type": "markdown",
   "id": "recent-young",
   "metadata": {},
   "source": [
    "<font color='orange'><b><u>REMARK v.2.</u></b></font>\n",
    "<div class=\"alert alert-warning\" style=\"box-shadow: 4px 4px 4px\">\n",
    "    \n",
    "Yeap, can't deny that visual interpretation is always limited compared to statistical tests.\n",
    "    \n",
    "However, note that whiskers in the barplot above highly overlap. That's why it might be valid to propose that samples are coming from the same population. \n",
    "    \n",
    "In most cases, if confidence intervals overlap, then the difference between samples is statistically insignificant"
   ]
  },
  {
   "cell_type": "markdown",
   "id": "vanilla-raising",
   "metadata": {},
   "source": [
    "<a class=\"anchor\" id=\"3-analysis_reviews\"></a>\n",
    "### Reviews effect on sales\n",
    "[up](#3-analysis)"
   ]
  },
  {
   "cell_type": "markdown",
   "id": "fewer-database",
   "metadata": {},
   "source": [
    "Merging user scores with critic scores (by average), for easier analysis."
   ]
  },
  {
   "cell_type": "code",
   "execution_count": 78,
   "id": "deadly-oasis",
   "metadata": {},
   "outputs": [],
   "source": [
    "def plot_platform_review_sales_scatter(platform_id):\n",
    "    platform_slice = potential_popular_platforms_slice.query('platform_id == @platform_id')\n",
    "    sns.scatterplot(\n",
    "        data=platform_slice,\n",
    "        x='reviews_score',\n",
    "        y='total_sales',\n",
    "    )\n",
    "    plt.title(f'{platform_ref[platform_id]} Sales / Reviews correlation')\n",
    "    plt.xlabel('Score')\n",
    "    plt.ylabel('Sales (mil.)')\n",
    "    plt.show()\n",
    "    return platform_slice"
   ]
  },
  {
   "cell_type": "code",
   "execution_count": 79,
   "id": "raising-liability",
   "metadata": {},
   "outputs": [
    {
     "data": {
      "image/png": "[encoded data removed]",
      "text/plain": [
       "<Figure size 936x648 with 1 Axes>"
      ]
     },
     "metadata": {
      "needs_background": "light"
     },
     "output_type": "display_data"
    }
   ],
   "source": [
    "ps4_slice = plot_platform_review_sales_scatter((platform_ref == 'PS4').idxmax())"
   ]
  },
  {
   "cell_type": "code",
   "execution_count": 80,
   "id": "violent-intelligence",
   "metadata": {},
   "outputs": [
    {
     "data": {
      "text/html": [
       "<div>\n",
       "<style scoped>\n",
       "    .dataframe tbody tr th:only-of-type {\n",
       "        vertical-align: middle;\n",
       "    }\n",
       "\n",
       "    .dataframe tbody tr th {\n",
       "        vertical-align: top;\n",
       "    }\n",
       "\n",
       "    .dataframe thead th {\n",
       "        text-align: right;\n",
       "    }\n",
       "</style>\n",
       "<table border=\"1\" class=\"dataframe\">\n",
       "  <thead>\n",
       "    <tr style=\"text-align: right;\">\n",
       "      <th></th>\n",
       "      <th>total_sales</th>\n",
       "      <th>reviews_score</th>\n",
       "    </tr>\n",
       "  </thead>\n",
       "  <tbody>\n",
       "    <tr>\n",
       "      <th>total_sales</th>\n",
       "      <td>1.000000</td>\n",
       "      <td>0.192338</td>\n",
       "    </tr>\n",
       "    <tr>\n",
       "      <th>reviews_score</th>\n",
       "      <td>0.192338</td>\n",
       "      <td>1.000000</td>\n",
       "    </tr>\n",
       "  </tbody>\n",
       "</table>\n",
       "</div>"
      ],
      "text/plain": [
       "               total_sales  reviews_score\n",
       "total_sales       1.000000       0.192338\n",
       "reviews_score     0.192338       1.000000"
      ]
     },
     "execution_count": 80,
     "metadata": {},
     "output_type": "execute_result"
    }
   ],
   "source": [
    "ps4_slice[['total_sales', 'reviews_score']].corr()"
   ]
  },
  {
   "cell_type": "markdown",
   "id": "leading-console",
   "metadata": {},
   "source": [
    "There appears to be a very weak positive correlation.  \n",
    "\\* Correlation, by itself, does not imply causation - can't draw conclusions regarding cause and effect."
   ]
  },
  {
   "cell_type": "markdown",
   "id": "convertible-lender",
   "metadata": {},
   "source": [
    "<font color='green'><b><u>REVIEW</u></b></font>\n",
    "<div class=\"alert alert-success\" style=\"box-shadow: 4px 4px 4px\">\n",
    "    \n",
    "Great point!"
   ]
  },
  {
   "cell_type": "code",
   "execution_count": 81,
   "id": "encouraging-venice",
   "metadata": {},
   "outputs": [
    {
     "data": {
      "text/html": [
       "<div>\n",
       "<style scoped>\n",
       "    .dataframe tbody tr th:only-of-type {\n",
       "        vertical-align: middle;\n",
       "    }\n",
       "\n",
       "    .dataframe tbody tr th {\n",
       "        vertical-align: top;\n",
       "    }\n",
       "\n",
       "    .dataframe thead th {\n",
       "        text-align: right;\n",
       "    }\n",
       "</style>\n",
       "<table border=\"1\" class=\"dataframe\">\n",
       "  <thead>\n",
       "    <tr style=\"text-align: right;\">\n",
       "      <th></th>\n",
       "      <th>total_sales</th>\n",
       "      <th>reviews_score</th>\n",
       "    </tr>\n",
       "  </thead>\n",
       "  <tbody>\n",
       "    <tr>\n",
       "      <th>total_sales</th>\n",
       "      <td>1.000000</td>\n",
       "      <td>0.393891</td>\n",
       "    </tr>\n",
       "    <tr>\n",
       "      <th>reviews_score</th>\n",
       "      <td>0.393891</td>\n",
       "      <td>1.000000</td>\n",
       "    </tr>\n",
       "  </tbody>\n",
       "</table>\n",
       "</div>"
      ],
      "text/plain": [
       "               total_sales  reviews_score\n",
       "total_sales       1.000000       0.393891\n",
       "reviews_score     0.393891       1.000000"
      ]
     },
     "metadata": {},
     "output_type": "display_data"
    },
    {
     "data": {
      "image/png": "[encoded data removed]",
      "text/plain": [
       "<Figure size 936x648 with 1 Axes>"
      ]
     },
     "metadata": {
      "needs_background": "light"
     },
     "output_type": "display_data"
    },
    {
     "data": {
      "text/html": [
       "<div>\n",
       "<style scoped>\n",
       "    .dataframe tbody tr th:only-of-type {\n",
       "        vertical-align: middle;\n",
       "    }\n",
       "\n",
       "    .dataframe tbody tr th {\n",
       "        vertical-align: top;\n",
       "    }\n",
       "\n",
       "    .dataframe thead th {\n",
       "        text-align: right;\n",
       "    }\n",
       "</style>\n",
       "<table border=\"1\" class=\"dataframe\">\n",
       "  <thead>\n",
       "    <tr style=\"text-align: right;\">\n",
       "      <th></th>\n",
       "      <th>total_sales</th>\n",
       "      <th>reviews_score</th>\n",
       "    </tr>\n",
       "  </thead>\n",
       "  <tbody>\n",
       "    <tr>\n",
       "      <th>total_sales</th>\n",
       "      <td>1.000000</td>\n",
       "      <td>0.178567</td>\n",
       "    </tr>\n",
       "    <tr>\n",
       "      <th>reviews_score</th>\n",
       "      <td>0.178567</td>\n",
       "      <td>1.000000</td>\n",
       "    </tr>\n",
       "  </tbody>\n",
       "</table>\n",
       "</div>"
      ],
      "text/plain": [
       "               total_sales  reviews_score\n",
       "total_sales       1.000000       0.178567\n",
       "reviews_score     0.178567       1.000000"
      ]
     },
     "metadata": {},
     "output_type": "display_data"
    },
    {
     "data": {
      "image/png": "[encoded data removed]",
      "text/plain": [
       "<Figure size 936x648 with 1 Axes>"
      ]
     },
     "metadata": {
      "needs_background": "light"
     },
     "output_type": "display_data"
    }
   ],
   "source": [
    "potential_platforms_ids = [id for id in potential_popular_platforms_ids if id != (platform_ref == 'PS4').idxmax()]\n",
    "# print(potential_platforms_ids)\n",
    "\n",
    "for platform_id in potential_platforms_ids:\n",
    "    display(potential_popular_platforms_slice\n",
    "            .query(f'platform_id == @platform_id')[['total_sales', 'reviews_score']]\n",
    "            .corr())\n",
    "    plot_platform_review_sales_scatter(platform_id)"
   ]
  },
  {
   "cell_type": "markdown",
   "id": "attempted-vaccine",
   "metadata": {},
   "source": [
    "WiiU's scores appear to have a weak positive correlation to sales,  \n",
    "while Xbox One has a very weak positive correlation."
   ]
  },
  {
   "cell_type": "markdown",
   "id": "identical-salmon",
   "metadata": {},
   "source": [
    "<a class=\"anchor\" id=\"3-analysis_genres\"></a>\n",
    "### Comparison of genres\n",
    "[up](#3-analysis)"
   ]
  },
  {
   "cell_type": "code",
   "execution_count": 82,
   "id": "above-tribe",
   "metadata": {},
   "outputs": [
    {
     "data": {
      "text/plain": [
       "0           Action\n",
       "1        Adventure\n",
       "2         Fighting\n",
       "3             Misc\n",
       "4         Platform\n",
       "5           Puzzle\n",
       "6           Racing\n",
       "7     Role-Playing\n",
       "8          Shooter\n",
       "9       Simulation\n",
       "10          Sports\n",
       "11        Strategy\n",
       "Name: genre, dtype: object"
      ]
     },
     "execution_count": 82,
     "metadata": {},
     "output_type": "execute_result"
    }
   ],
   "source": [
    "genre_ref"
   ]
  },
  {
   "cell_type": "code",
   "execution_count": 83,
   "id": "acquired-campus",
   "metadata": {},
   "outputs": [],
   "source": [
    "popular_genres_slice = potential_popular_platforms_slice.join(genre_ref, on='genre_id')"
   ]
  },
  {
   "cell_type": "code",
   "execution_count": 84,
   "id": "abandoned-economics",
   "metadata": {},
   "outputs": [
    {
     "data": {
      "image/png": "[encoded data removed]",
      "text/plain": [
       "<Figure size 936x648 with 1 Axes>"
      ]
     },
     "metadata": {
      "needs_background": "light"
     },
     "output_type": "display_data"
    }
   ],
   "source": [
    "# plt.ylim((0,4))\n",
    "sns.boxplot(data=popular_genres_slice.sort_values('genre'), x='genre', y='total_sales');"
   ]
  },
  {
   "cell_type": "code",
   "execution_count": 85,
   "id": "received-census",
   "metadata": {},
   "outputs": [
    {
     "data": {
      "text/html": [
       "<div>\n",
       "<style scoped>\n",
       "    .dataframe tbody tr th:only-of-type {\n",
       "        vertical-align: middle;\n",
       "    }\n",
       "\n",
       "    .dataframe tbody tr th {\n",
       "        vertical-align: top;\n",
       "    }\n",
       "\n",
       "    .dataframe thead th {\n",
       "        text-align: right;\n",
       "    }\n",
       "</style>\n",
       "<table border=\"1\" class=\"dataframe\">\n",
       "  <thead>\n",
       "    <tr style=\"text-align: right;\">\n",
       "      <th></th>\n",
       "      <th>count</th>\n",
       "      <th>mean</th>\n",
       "      <th>std</th>\n",
       "      <th>min</th>\n",
       "      <th>25%</th>\n",
       "      <th>50%</th>\n",
       "      <th>75%</th>\n",
       "      <th>max</th>\n",
       "    </tr>\n",
       "    <tr>\n",
       "      <th>genre</th>\n",
       "      <th></th>\n",
       "      <th></th>\n",
       "      <th></th>\n",
       "      <th></th>\n",
       "      <th></th>\n",
       "      <th></th>\n",
       "      <th></th>\n",
       "      <th></th>\n",
       "    </tr>\n",
       "  </thead>\n",
       "  <tbody>\n",
       "    <tr>\n",
       "      <th>Action</th>\n",
       "      <td>293.0</td>\n",
       "      <td>0.520410</td>\n",
       "      <td>1.096619</td>\n",
       "      <td>0.01</td>\n",
       "      <td>0.0500</td>\n",
       "      <td>0.150</td>\n",
       "      <td>0.5100</td>\n",
       "      <td>12.62</td>\n",
       "    </tr>\n",
       "    <tr>\n",
       "      <th>Adventure</th>\n",
       "      <td>45.0</td>\n",
       "      <td>0.204222</td>\n",
       "      <td>0.348819</td>\n",
       "      <td>0.01</td>\n",
       "      <td>0.0200</td>\n",
       "      <td>0.070</td>\n",
       "      <td>0.1800</td>\n",
       "      <td>1.66</td>\n",
       "    </tr>\n",
       "    <tr>\n",
       "      <th>Fighting</th>\n",
       "      <td>30.0</td>\n",
       "      <td>0.579000</td>\n",
       "      <td>1.003863</td>\n",
       "      <td>0.02</td>\n",
       "      <td>0.0825</td>\n",
       "      <td>0.185</td>\n",
       "      <td>0.7650</td>\n",
       "      <td>4.87</td>\n",
       "    </tr>\n",
       "    <tr>\n",
       "      <th>Misc</th>\n",
       "      <td>61.0</td>\n",
       "      <td>0.460328</td>\n",
       "      <td>0.862320</td>\n",
       "      <td>0.01</td>\n",
       "      <td>0.0300</td>\n",
       "      <td>0.190</td>\n",
       "      <td>0.4500</td>\n",
       "      <td>4.42</td>\n",
       "    </tr>\n",
       "    <tr>\n",
       "      <th>Platform</th>\n",
       "      <td>34.0</td>\n",
       "      <td>0.886765</td>\n",
       "      <td>1.251984</td>\n",
       "      <td>0.02</td>\n",
       "      <td>0.1000</td>\n",
       "      <td>0.340</td>\n",
       "      <td>1.2500</td>\n",
       "      <td>5.23</td>\n",
       "    </tr>\n",
       "    <tr>\n",
       "      <th>Puzzle</th>\n",
       "      <td>5.0</td>\n",
       "      <td>0.268000</td>\n",
       "      <td>0.516691</td>\n",
       "      <td>0.01</td>\n",
       "      <td>0.0200</td>\n",
       "      <td>0.020</td>\n",
       "      <td>0.1000</td>\n",
       "      <td>1.19</td>\n",
       "    </tr>\n",
       "    <tr>\n",
       "      <th>Racing</th>\n",
       "      <td>42.0</td>\n",
       "      <td>0.709524</td>\n",
       "      <td>1.224884</td>\n",
       "      <td>0.01</td>\n",
       "      <td>0.0625</td>\n",
       "      <td>0.245</td>\n",
       "      <td>0.6975</td>\n",
       "      <td>7.09</td>\n",
       "    </tr>\n",
       "    <tr>\n",
       "      <th>Role-Playing</th>\n",
       "      <td>72.0</td>\n",
       "      <td>0.589306</td>\n",
       "      <td>1.102054</td>\n",
       "      <td>0.01</td>\n",
       "      <td>0.0700</td>\n",
       "      <td>0.230</td>\n",
       "      <td>0.6225</td>\n",
       "      <td>7.17</td>\n",
       "    </tr>\n",
       "    <tr>\n",
       "      <th>Shooter</th>\n",
       "      <td>89.0</td>\n",
       "      <td>1.740449</td>\n",
       "      <td>2.336063</td>\n",
       "      <td>0.01</td>\n",
       "      <td>0.1500</td>\n",
       "      <td>0.760</td>\n",
       "      <td>2.4200</td>\n",
       "      <td>14.63</td>\n",
       "    </tr>\n",
       "    <tr>\n",
       "      <th>Simulation</th>\n",
       "      <td>11.0</td>\n",
       "      <td>0.192727</td>\n",
       "      <td>0.153107</td>\n",
       "      <td>0.01</td>\n",
       "      <td>0.0600</td>\n",
       "      <td>0.200</td>\n",
       "      <td>0.3400</td>\n",
       "      <td>0.42</td>\n",
       "    </tr>\n",
       "    <tr>\n",
       "      <th>Sports</th>\n",
       "      <td>92.0</td>\n",
       "      <td>0.929457</td>\n",
       "      <td>1.487540</td>\n",
       "      <td>0.01</td>\n",
       "      <td>0.1050</td>\n",
       "      <td>0.395</td>\n",
       "      <td>1.0350</td>\n",
       "      <td>8.58</td>\n",
       "    </tr>\n",
       "    <tr>\n",
       "      <th>Strategy</th>\n",
       "      <td>12.0</td>\n",
       "      <td>0.190000</td>\n",
       "      <td>0.300333</td>\n",
       "      <td>0.02</td>\n",
       "      <td>0.0550</td>\n",
       "      <td>0.090</td>\n",
       "      <td>0.1800</td>\n",
       "      <td>1.12</td>\n",
       "    </tr>\n",
       "  </tbody>\n",
       "</table>\n",
       "</div>"
      ],
      "text/plain": [
       "              count      mean       std   min     25%    50%     75%    max\n",
       "genre                                                                      \n",
       "Action        293.0  0.520410  1.096619  0.01  0.0500  0.150  0.5100  12.62\n",
       "Adventure      45.0  0.204222  0.348819  0.01  0.0200  0.070  0.1800   1.66\n",
       "Fighting       30.0  0.579000  1.003863  0.02  0.0825  0.185  0.7650   4.87\n",
       "Misc           61.0  0.460328  0.862320  0.01  0.0300  0.190  0.4500   4.42\n",
       "Platform       34.0  0.886765  1.251984  0.02  0.1000  0.340  1.2500   5.23\n",
       "Puzzle          5.0  0.268000  0.516691  0.01  0.0200  0.020  0.1000   1.19\n",
       "Racing         42.0  0.709524  1.224884  0.01  0.0625  0.245  0.6975   7.09\n",
       "Role-Playing   72.0  0.589306  1.102054  0.01  0.0700  0.230  0.6225   7.17\n",
       "Shooter        89.0  1.740449  2.336063  0.01  0.1500  0.760  2.4200  14.63\n",
       "Simulation     11.0  0.192727  0.153107  0.01  0.0600  0.200  0.3400   0.42\n",
       "Sports         92.0  0.929457  1.487540  0.01  0.1050  0.395  1.0350   8.58\n",
       "Strategy       12.0  0.190000  0.300333  0.02  0.0550  0.090  0.1800   1.12"
      ]
     },
     "execution_count": 85,
     "metadata": {},
     "output_type": "execute_result"
    }
   ],
   "source": [
    "popular_genres_slice.groupby('genre')['total_sales'].describe()"
   ]
  },
  {
   "cell_type": "markdown",
   "id": "covered-matter",
   "metadata": {},
   "source": [
    "The most profitable genres (Shooter, Platform and Sports) have positively skewed distributions:\n",
    "- lower median than mean\n",
    "- higher upper extreme\n",
    "- overall a larger range of values\n",
    "\n",
    "There are outliers that pull the average up (best sellers).  \n",
    "\\* Action (and to a lesser extent - Sports) has many outliers which are high grossing games,  \n",
    "&nbsp;&nbsp;but in general most of its other entries fail to reach those numbers."
   ]
  },
  {
   "cell_type": "markdown",
   "id": "constitutional-fisher",
   "metadata": {},
   "source": [
    "<font color='green'><b><u>REVIEW</u></b></font>\n",
    "<div class=\"alert alert-success\" style=\"box-shadow: 4px 4px 4px\">\n",
    "    \n",
    "Good job! Really loved your visuals and analysis"
   ]
  },
  {
   "cell_type": "markdown",
   "id": "crucial-quarterly",
   "metadata": {},
   "source": [
    "#### Best sellers of profitable genres:"
   ]
  },
  {
   "cell_type": "code",
   "execution_count": 86,
   "id": "modular-kitty",
   "metadata": {},
   "outputs": [],
   "source": [
    "def best_sellers(genre, top=2):\n",
    "    \"\"\"Display the top N best sellers from each genre\"\"\"\n",
    "    \n",
    "    return (popular_genres_slice\n",
    "            .query('genre == @genre')\n",
    "            .sort_values('total_sales', ascending=False)\n",
    "            .head(top)\n",
    "            [['name', 'genre', 'year_of_release', 'total_sales']])"
   ]
  },
  {
   "cell_type": "code",
   "execution_count": 87,
   "id": "serious-intro",
   "metadata": {},
   "outputs": [
    {
     "data": {
      "text/html": [
       "<div>\n",
       "<style scoped>\n",
       "    .dataframe tbody tr th:only-of-type {\n",
       "        vertical-align: middle;\n",
       "    }\n",
       "\n",
       "    .dataframe tbody tr th {\n",
       "        vertical-align: top;\n",
       "    }\n",
       "\n",
       "    .dataframe thead th {\n",
       "        text-align: right;\n",
       "    }\n",
       "</style>\n",
       "<table border=\"1\" class=\"dataframe\">\n",
       "  <thead>\n",
       "    <tr style=\"text-align: right;\">\n",
       "      <th></th>\n",
       "      <th>name</th>\n",
       "      <th>year_of_release</th>\n",
       "      <th>total_sales</th>\n",
       "    </tr>\n",
       "    <tr>\n",
       "      <th>genre</th>\n",
       "      <th></th>\n",
       "      <th></th>\n",
       "      <th></th>\n",
       "    </tr>\n",
       "  </thead>\n",
       "  <tbody>\n",
       "    <tr>\n",
       "      <th>Shooter</th>\n",
       "      <td>Call of Duty: Black Ops 3</td>\n",
       "      <td>2015</td>\n",
       "      <td>14.63</td>\n",
       "    </tr>\n",
       "    <tr>\n",
       "      <th>Shooter</th>\n",
       "      <td>Star Wars Battlefront (2015)</td>\n",
       "      <td>2015</td>\n",
       "      <td>7.98</td>\n",
       "    </tr>\n",
       "    <tr>\n",
       "      <th>Platform</th>\n",
       "      <td>New Super Mario Bros. U</td>\n",
       "      <td>2012</td>\n",
       "      <td>5.23</td>\n",
       "    </tr>\n",
       "    <tr>\n",
       "      <th>Platform</th>\n",
       "      <td>Super Mario 3D World</td>\n",
       "      <td>2013</td>\n",
       "      <td>4.32</td>\n",
       "    </tr>\n",
       "    <tr>\n",
       "      <th>Sports</th>\n",
       "      <td>FIFA 16</td>\n",
       "      <td>2015</td>\n",
       "      <td>8.58</td>\n",
       "    </tr>\n",
       "    <tr>\n",
       "      <th>Sports</th>\n",
       "      <td>FIFA 17</td>\n",
       "      <td>2016</td>\n",
       "      <td>7.60</td>\n",
       "    </tr>\n",
       "  </tbody>\n",
       "</table>\n",
       "</div>"
      ],
      "text/plain": [
       "                                  name  year_of_release  total_sales\n",
       "genre                                                               \n",
       "Shooter      Call of Duty: Black Ops 3             2015        14.63\n",
       "Shooter   Star Wars Battlefront (2015)             2015         7.98\n",
       "Platform       New Super Mario Bros. U             2012         5.23\n",
       "Platform          Super Mario 3D World             2013         4.32\n",
       "Sports                         FIFA 16             2015         8.58\n",
       "Sports                         FIFA 17             2016         7.60"
      ]
     },
     "execution_count": 87,
     "metadata": {},
     "output_type": "execute_result"
    }
   ],
   "source": [
    "pd.concat([\n",
    "    best_sellers('Shooter'),\n",
    "    best_sellers('Platform'),\n",
    "    best_sellers('Sports')\n",
    "]).set_index('genre')"
   ]
  },
  {
   "cell_type": "markdown",
   "id": "material-frontier",
   "metadata": {},
   "source": [
    "#### Best sellers of unprotifable genres:"
   ]
  },
  {
   "cell_type": "code",
   "execution_count": 88,
   "id": "aboriginal-civilian",
   "metadata": {
    "scrolled": true
   },
   "outputs": [
    {
     "data": {
      "text/html": [
       "<div>\n",
       "<style scoped>\n",
       "    .dataframe tbody tr th:only-of-type {\n",
       "        vertical-align: middle;\n",
       "    }\n",
       "\n",
       "    .dataframe tbody tr th {\n",
       "        vertical-align: top;\n",
       "    }\n",
       "\n",
       "    .dataframe thead th {\n",
       "        text-align: right;\n",
       "    }\n",
       "</style>\n",
       "<table border=\"1\" class=\"dataframe\">\n",
       "  <thead>\n",
       "    <tr style=\"text-align: right;\">\n",
       "      <th></th>\n",
       "      <th>name</th>\n",
       "      <th>year_of_release</th>\n",
       "      <th>total_sales</th>\n",
       "    </tr>\n",
       "    <tr>\n",
       "      <th>genre</th>\n",
       "      <th></th>\n",
       "      <th></th>\n",
       "      <th></th>\n",
       "    </tr>\n",
       "  </thead>\n",
       "  <tbody>\n",
       "    <tr>\n",
       "      <th>Adventure</th>\n",
       "      <td>Until Dawn</td>\n",
       "      <td>2015</td>\n",
       "      <td>1.66</td>\n",
       "    </tr>\n",
       "    <tr>\n",
       "      <th>Adventure</th>\n",
       "      <td>Rise of the Tomb Raider</td>\n",
       "      <td>2015</td>\n",
       "      <td>1.38</td>\n",
       "    </tr>\n",
       "    <tr>\n",
       "      <th>Strategy</th>\n",
       "      <td>Pikmin 3</td>\n",
       "      <td>2013</td>\n",
       "      <td>1.12</td>\n",
       "    </tr>\n",
       "    <tr>\n",
       "      <th>Strategy</th>\n",
       "      <td>Angry Birds Star Wars</td>\n",
       "      <td>2013</td>\n",
       "      <td>0.22</td>\n",
       "    </tr>\n",
       "    <tr>\n",
       "      <th>Puzzle</th>\n",
       "      <td>Captain Toad: Treasure Tracker</td>\n",
       "      <td>2014</td>\n",
       "      <td>1.19</td>\n",
       "    </tr>\n",
       "    <tr>\n",
       "      <th>Puzzle</th>\n",
       "      <td>Scribblenauts Unmasked: A DC Comics Adventure</td>\n",
       "      <td>2013</td>\n",
       "      <td>0.10</td>\n",
       "    </tr>\n",
       "  </tbody>\n",
       "</table>\n",
       "</div>"
      ],
      "text/plain": [
       "                                                    name  year_of_release  \\\n",
       "genre                                                                       \n",
       "Adventure                                     Until Dawn             2015   \n",
       "Adventure                        Rise of the Tomb Raider             2015   \n",
       "Strategy                                        Pikmin 3             2013   \n",
       "Strategy                           Angry Birds Star Wars             2013   \n",
       "Puzzle                    Captain Toad: Treasure Tracker             2014   \n",
       "Puzzle     Scribblenauts Unmasked: A DC Comics Adventure             2013   \n",
       "\n",
       "           total_sales  \n",
       "genre                   \n",
       "Adventure         1.66  \n",
       "Adventure         1.38  \n",
       "Strategy          1.12  \n",
       "Strategy          0.22  \n",
       "Puzzle            1.19  \n",
       "Puzzle            0.10  "
      ]
     },
     "execution_count": 88,
     "metadata": {},
     "output_type": "execute_result"
    }
   ],
   "source": [
    "pd.concat([\n",
    "    best_sellers('Adventure'),\n",
    "    best_sellers('Strategy'),\n",
    "    best_sellers('Puzzle')\n",
    "]).set_index('genre')"
   ]
  },
  {
   "cell_type": "markdown",
   "id": "optional-reviewer",
   "metadata": {},
   "source": [
    "If a genre has many best sellers, it will positively impact the mean and the distribution of the entire genre."
   ]
  },
  {
   "cell_type": "markdown",
   "id": "numeric-parcel",
   "metadata": {},
   "source": [
    "<s>\n",
    "<font color='orange'><b><u>REMARK</u></b></font>\n",
    "<div class=\"alert alert-warning\" style=\"box-shadow: 4px 4px 4px\">\n",
    "    \n",
    "Here we can add that due to bestsellers, mean and overall distribution become skewed. Thus, we might want to analyze genres after exclusion of bestsellers (a.k.a. outliers) or we might want to use box-plots with median rather than means"
   ]
  },
  {
   "cell_type": "markdown",
   "id": "classical-drill",
   "metadata": {},
   "source": [
    "<a class=\"anchor\" id=\"3-analysis_conclusions\"></a>\n",
    "### Conclusions\n",
    "[up](#3-analysis)\n",
    "\n",
    "* Home consoles started to appear and became common in the early 90’s.\n",
    "* Highest total grossing platforms up until 2017 were:  \n",
    "PS2, Xbox 360, PS3, Wii, DS and PS.\n",
    "* Looking at those platforms, the distributions of sales appear similar,  \n",
    "although they are spread across different ranges of years:\n",
    "PS being the oldest, and PS3 the newest.  \n",
    "It shows a trend of a new console rising in popularity within 5 years,  \n",
    "then another console appears and starts to climb, while the first one's popularity is continuously dropping  \n",
    "\\- in effect moving opposite to one another.\n",
    "* Taking into account this spotted trend, zoomed-in on the range of 2012-2016 (last 5 years),  \n",
    "which had no titles prior to that (new consoles):  \n",
    "Xbox One, PS4 and Wii U.  \n",
    "The sales plot showed that Xbox One and PS4 had stable increases in sales over the years,  \n",
    "Wii U had a small increase in the first year, and then plummeted over the following years  \n",
    "\\- making it a good candidate for targeted  advertising.\n",
    "* Checked correlation of reviews scores with sales for these 3 platforms,  \n",
    "and found out that while PS4 and Xbox One had very weak correlation,  \n",
    "Wii had somewhat weak correlation  \n",
    "\\- that might imply relation between Wii U’s bad reviews and plummeting sales,  \n",
    "&nbsp;&nbsp;but that can’t be concluded based on this alone, more statistical research should be conducted separately to answer this.\n",
    "* Genres with highest total sales are Shooter (by far), Platform and Sports.  \n",
    "Each of these genres has a mass of high grossing games, and some best sellers too.  \n",
    "Also the Action and Sports genres have many “Best Sell”-ing outliers, while most of their entries are only mediocre."
   ]
  },
  {
   "cell_type": "markdown",
   "id": "grateful-browse",
   "metadata": {},
   "source": [
    "<font color='green'><b><u>REVIEW</u></b></font>\n",
    "<div class=\"alert alert-success\" style=\"box-shadow: 4px 4px 4px\">\n",
    "    \n",
    "Terrific work so far!"
   ]
  },
  {
   "cell_type": "markdown",
   "id": "unexpected-directive",
   "metadata": {},
   "source": [
    "<a class=\"anchor\" id=\"4-region_profiles\"></a>\n",
    "## Regional user profiles\n",
    "***\n",
    "[back to Table of Contents](#0_toc)\n",
    "\n",
    "Splitting last 5 years' data by region, in order to provide finer targeted conclusions,  \n",
    "then exploring platforms, genres, ratings and its' correlation to sales.\n",
    "\n",
    "1. [Top 5 platforms by region](#4-region_platforms)\n",
    "2. [Top 5 genres by region](#4-region_genres)\n",
    "3. [ESRB ratings](#4-region_esrb)\n",
    "<br />[Conclusions](#4-region_conclusions)"
   ]
  },
  {
   "cell_type": "code",
   "execution_count": 89,
   "id": "complex-practitioner",
   "metadata": {},
   "outputs": [],
   "source": [
    "relevant_years_df = df.query('year_of_release in @relevant_years')"
   ]
  },
  {
   "cell_type": "code",
   "execution_count": 90,
   "id": "documented-fleece",
   "metadata": {},
   "outputs": [],
   "source": [
    "regions = {\n",
    "    'NA': 'North America',\n",
    "    'EU': 'Europe',\n",
    "    'JP': 'Japan'\n",
    "}\n",
    "region_columns = {region: f'{region.lower()}_sales' for region in regions.keys()}"
   ]
  },
  {
   "cell_type": "code",
   "execution_count": 91,
   "id": "unavailable-smoke",
   "metadata": {},
   "outputs": [],
   "source": [
    "def iterate_regions(df, func):\n",
    "    return [func(df, region) for region in region_columns.keys()]\n",
    "        \n",
    "# iterate_regions(df, lambda df, col, region:print(f'{region}: {col}'))"
   ]
  },
  {
   "cell_type": "code",
   "execution_count": 92,
   "id": "higher-therapy",
   "metadata": {},
   "outputs": [],
   "source": [
    "def plot_by_region(df, region, compare, top=5, xticks_rotation=45):\n",
    "    column = region_columns[region]\n",
    "    region_name = regions[region]\n",
    "    sorted_df = df[[compare, column]].groupby(compare).mean().sort_values(column, ascending=False)\n",
    "    \n",
    "    ax = sns.barplot(data=df, x=compare, y=column,\n",
    "                     order=sorted_df.index, ci=False)\n",
    "    plt.title(f'{region_name} top {top} {compare}s')\n",
    "    plt.ylabel('Sales (mil.)')\n",
    "    plt.xlabel(compare.capitalize())\n",
    "    plt.xticks(rotation=xticks_rotation, ha='right')\n",
    "    plt.draw()\n",
    "    \n",
    "    # xticks = ax.get_xticklabels()\n",
    "    # all_x_values = [label.get_text() for label in xticks]\n",
    "    top_x_values = sorted_df[:top]\n",
    "    \n",
    "    # for bar, xtick, x_value in zip(ax.patches, xticks, all_x_values):\n",
    "    #     if x_value in top_x_values.index:\n",
    "    #         xtick.set_color(bar.get_facecolor())\n",
    "    #         xtick.set_text(f'{xtick.get_text()} ({bar.get_height():.2f})')\n",
    "    \n",
    "    for i, bar in enumerate(ax.patches):\n",
    "        if i < top:\n",
    "            ax.annotate(format(bar.get_height(), '.2f'), \n",
    "                   (bar.get_x() + bar.get_width() / 2, \n",
    "                    bar.get_height()), ha='center', va='center',\n",
    "                   size=14, xytext=(0, -14),\n",
    "                   textcoords='offset points', color='white')\n",
    "\n",
    "    # ax.set_xticklabels(label.get_text() for label in xticks)\n",
    "    plt.show()\n",
    "    \n",
    "    return top_x_values\n",
    "    \n",
    "# plot_by_region(df.join(platform_ref, on='platform_id'), 'NA', compare='platform')\n",
    "# plot_by_region(df.join(genre_ref, on='genre_id'), 'NA', compare='genre')"
   ]
  },
  {
   "cell_type": "code",
   "execution_count": 93,
   "id": "arctic-colors",
   "metadata": {},
   "outputs": [],
   "source": [
    "def one_hot_encoding(df):\n",
    "    return (~pd.concat(df, axis=1).isna()).astype('int').T"
   ]
  },
  {
   "cell_type": "code",
   "execution_count": 94,
   "id": "muslim-parks",
   "metadata": {},
   "outputs": [],
   "source": [
    "def plot_venn(df, names):\n",
    "    \n",
    "    one_hot = one_hot_encoding(df)\n",
    "    # display(one_hot)\n",
    "    \n",
    "    v = venn3(\n",
    "            one_hot.values,\n",
    "            names if names else one_hot.index.to_list(),\n",
    "            subset_label_formatter=lambda x:None)\n",
    "    \n",
    "    _labels = { k: ''.join([str(i) for i in column.values]) \n",
    "               for k, column in one_hot.iteritems() }\n",
    "    \n",
    "    for k, label_id in _labels.items():\n",
    "        _previous = v.get_label_by_id(label_id).get_text()\n",
    "        label = v.get_label_by_id(label_id)\n",
    "        label.set_text(_previous + '\\n' + k if _previous else k)\n",
    "        label.set_size(12)\n",
    "        \n",
    "# plot_venn(top_platforms_by_region, regions.values())"
   ]
  },
  {
   "cell_type": "markdown",
   "id": "verified-porter",
   "metadata": {},
   "source": [
    "<a class=\"anchor\" id=\"4-region_platforms\"></a>\n",
    "### Top 5 platforms by region\n",
    "[up](#4-region_profiles)"
   ]
  },
  {
   "cell_type": "code",
   "execution_count": 95,
   "id": "checked-tampa",
   "metadata": {},
   "outputs": [
    {
     "data": {
      "image/png": "[encoded data removed]",
      "text/plain": [
       "<Figure size 936x648 with 1 Axes>"
      ]
     },
     "metadata": {
      "needs_background": "light"
     },
     "output_type": "display_data"
    },
    {
     "data": {
      "image/png": "[encoded data removed]",
      "text/plain": [
       "<Figure size 936x648 with 1 Axes>"
      ]
     },
     "metadata": {
      "needs_background": "light"
     },
     "output_type": "display_data"
    },
    {
     "data": {
      "image/png": "[encoded data removed]",
      "text/plain": [
       "<Figure size 936x648 with 1 Axes>"
      ]
     },
     "metadata": {
      "needs_background": "light"
     },
     "output_type": "display_data"
    }
   ],
   "source": [
    "top_platforms_by_region = iterate_regions(\n",
    "    relevant_years_df.join(platform_ref, on='platform_id'),\n",
    "    lambda df, region: plot_by_region(df, region, compare='platform'))"
   ]
  },
  {
   "cell_type": "markdown",
   "id": "miniature-happiness",
   "metadata": {},
   "source": [
    "<font color='green'><b><u>REVIEW</u></b></font>\n",
    "<div class=\"alert alert-success\" style=\"box-shadow: 4px 4px 4px\">\n",
    "    \n",
    "It is definitely great idea to reveal the top-5 platform shares. "
   ]
  },
  {
   "cell_type": "markdown",
   "id": "beneficial-chassis",
   "metadata": {},
   "source": [
    "<s>\n",
    "<font color='orange'><b><u>REMARK</u></b></font>\n",
    "<div class=\"alert alert-warning\" style=\"box-shadow: 4px 4px 4px\">\n",
    "    \n",
    "Not sure if it was OK to use colorful X-axis ticks. Some texts are hardly readable.\n",
    "    \n",
    "Also, I think that you might want to remove whiskers and add some annotations on barplots.\n",
    "    \n",
    "By the following [link](https://www.geeksforgeeks.org/how-to-annotate-bars-in-barplot-with-matplotlib-in-python/) you can find some useful material"
   ]
  },
  {
   "cell_type": "code",
   "execution_count": 96,
   "id": "certified-anchor",
   "metadata": {},
   "outputs": [
    {
     "data": {
      "image/png": "[encoded data removed]",
      "text/plain": [
       "<Figure size 936x648 with 1 Axes>"
      ]
     },
     "metadata": {},
     "output_type": "display_data"
    }
   ],
   "source": [
    "plot_venn(top_platforms_by_region, regions.values())\n",
    "plt.title('Top 5 Platforms - Region intersection');"
   ]
  },
  {
   "cell_type": "markdown",
   "id": "challenging-knowing",
   "metadata": {},
   "source": [
    "<font color='green'><b><u>REVIEW</u></b></font>\n",
    "<div class=\"alert alert-success\" style=\"box-shadow: 4px 4px 4px\">\n",
    "    \n",
    "Wonderful Venn diagram!"
   ]
  },
  {
   "cell_type": "code",
   "execution_count": 97,
   "id": "hidden-diving",
   "metadata": {
    "scrolled": true
   },
   "outputs": [
    {
     "data": {
      "text/html": [
       "<div>\n",
       "<style scoped>\n",
       "    .dataframe tbody tr th:only-of-type {\n",
       "        vertical-align: middle;\n",
       "    }\n",
       "\n",
       "    .dataframe tbody tr th {\n",
       "        vertical-align: top;\n",
       "    }\n",
       "\n",
       "    .dataframe thead th {\n",
       "        text-align: right;\n",
       "    }\n",
       "</style>\n",
       "<table border=\"1\" class=\"dataframe\">\n",
       "  <thead>\n",
       "    <tr style=\"text-align: right;\">\n",
       "      <th></th>\n",
       "      <th>North America</th>\n",
       "      <th>Europe</th>\n",
       "      <th>Japan</th>\n",
       "    </tr>\n",
       "  </thead>\n",
       "  <tbody>\n",
       "    <tr>\n",
       "      <th>total</th>\n",
       "      <td>590.97</td>\n",
       "      <td>506.81</td>\n",
       "      <td>192.58</td>\n",
       "    </tr>\n",
       "  </tbody>\n",
       "</table>\n",
       "</div>"
      ],
      "text/plain": [
       "       North America  Europe   Japan\n",
       "total         590.97  506.81  192.58"
      ]
     },
     "execution_count": 97,
     "metadata": {},
     "output_type": "execute_result"
    }
   ],
   "source": [
    "relevant_years_df[[*region_columns.values()]].sum().rename('total').to_frame().T.rename(\n",
    "    columns=dict(zip(region_columns.values(), regions.values())))"
   ]
  },
  {
   "cell_type": "markdown",
   "id": "harmful-framework",
   "metadata": {},
   "source": [
    "* North America and Europe are bigger markets than Japan by itself,  \n",
    "hence higher total sales.\n",
    "* Wii U is shared between North America and Japan,  \n",
    "PS3 is shared between Europe and Japan,  \n",
    "and North America and Europe share Xbox 360, Xbox One and PS4.\n",
    "* Wii is shared among all regions.\n",
    "\n",
    "\n",
    "* For North America, Xbox 360 and Xbox One take the lead (created by American Microsoft).\n",
    "* For Europe, PS4 (Japanese) and Xbox 360 (American) take the lead.\n",
    "* For Japan, 3DS and DS take the lead (created by Japanese Nintendo)."
   ]
  },
  {
   "cell_type": "markdown",
   "id": "accessory-cartoon",
   "metadata": {},
   "source": [
    "<a class=\"anchor\" id=\"4-region_genres\"></a>\n",
    "### Top 5 genres by region\n",
    "[up](#4-region_profiles)"
   ]
  },
  {
   "cell_type": "code",
   "execution_count": 98,
   "id": "monetary-texture",
   "metadata": {
    "scrolled": false
   },
   "outputs": [
    {
     "data": {
      "image/png": "[encoded data removed]",
      "text/plain": [
       "<Figure size 936x648 with 1 Axes>"
      ]
     },
     "metadata": {
      "needs_background": "light"
     },
     "output_type": "display_data"
    },
    {
     "data": {
      "image/png": "[encoded data removed]",
      "text/plain": [
       "<Figure size 936x648 with 1 Axes>"
      ]
     },
     "metadata": {
      "needs_background": "light"
     },
     "output_type": "display_data"
    },
    {
     "data": {
      "image/png": "[encoded data removed]",
      "text/plain": [
       "<Figure size 936x648 with 1 Axes>"
      ]
     },
     "metadata": {
      "needs_background": "light"
     },
     "output_type": "display_data"
    }
   ],
   "source": [
    "top_genres_by_platform = iterate_regions(\n",
    "    relevant_years_df.join(genre_ref, on='genre_id'),\n",
    "    lambda df, region: plot_by_region(df, region, compare='genre', xticks_rotation=30))"
   ]
  },
  {
   "cell_type": "code",
   "execution_count": 99,
   "id": "dominican-knight",
   "metadata": {
    "scrolled": false
   },
   "outputs": [
    {
     "data": {
      "image/png": "[encoded data removed]",
      "text/plain": [
       "<Figure size 936x648 with 1 Axes>"
      ]
     },
     "metadata": {},
     "output_type": "display_data"
    }
   ],
   "source": [
    "plot_venn(top_genres_by_platform, regions.values())\n",
    "plt.title('Top 5 Genres - Region intersection');"
   ]
  },
  {
   "cell_type": "markdown",
   "id": "unsigned-keyboard",
   "metadata": {},
   "source": [
    "* Platform is shared between all regions\n",
    "* Shooter and Sports are shared between North America and Europe\n",
    "* Fighting is shared between North America and Japan\n",
    "* Simulation is shared between Europe and Japan\n",
    "\n",
    "\n",
    "* For North America, Shooter (0.62) is the clear winner with almost twice as much revenue as the next genre - Sports (0.30).\n",
    "* For Europe, it's almost the same as North America, Shooter with 0.48 and Sports with 0.26.\n",
    "* Japan is completely different, Role-Playing being first with 0.18 and runner-up Simulation having 0.13."
   ]
  },
  {
   "cell_type": "markdown",
   "id": "medium-skill",
   "metadata": {},
   "source": [
    "<a class=\"anchor\" id=\"4-region_esrb\"></a>\n",
    "### ESRB ratings\n",
    "[up](#4-region_profiles)"
   ]
  },
  {
   "cell_type": "code",
   "execution_count": 100,
   "id": "incorrect-federal",
   "metadata": {},
   "outputs": [],
   "source": [
    "def plot_correlation_by_region(df, region, compare):\n",
    "    column = region_columns[region]\n",
    "    region_name = regions[region]\n",
    "    \n",
    "    ax = sns.scatterplot(data=df, x=compare, y=column)\n",
    "    plt.title(f'{region_name} sales by {compare}')\n",
    "    plt.ylabel('Sales (mil.)')\n",
    "    plt.xlabel(compare.capitalize())\n",
    "    plt.show()\n",
    "    \n",
    "# plot_correlation_by_region(df.join(rating_ref, on='rating_id'), 'NA', compare='rating')"
   ]
  },
  {
   "cell_type": "markdown",
   "id": "appropriate-circus",
   "metadata": {},
   "source": [
    "Removing 'Unknown' genre values."
   ]
  },
  {
   "cell_type": "code",
   "execution_count": 101,
   "id": "national-alabama",
   "metadata": {},
   "outputs": [],
   "source": [
    "ratings_df = relevant_years_df.join(rating_ref, on='rating_id')\n",
    "ratings_df = ratings_df.where(ratings_df['rating'] != 'Unknown', np.NaN).dropna()"
   ]
  },
  {
   "cell_type": "code",
   "execution_count": 102,
   "id": "breathing-theater",
   "metadata": {},
   "outputs": [
    {
     "data": {
      "image/png": "[encoded data removed]",
      "text/plain": [
       "<Figure size 936x648 with 1 Axes>"
      ]
     },
     "metadata": {
      "needs_background": "light"
     },
     "output_type": "display_data"
    },
    {
     "data": {
      "image/png": "[encoded data removed]",
      "text/plain": [
       "<Figure size 936x648 with 1 Axes>"
      ]
     },
     "metadata": {
      "needs_background": "light"
     },
     "output_type": "display_data"
    },
    {
     "data": {
      "image/png": "[encoded data removed]",
      "text/plain": [
       "<Figure size 936x648 with 1 Axes>"
      ]
     },
     "metadata": {
      "needs_background": "light"
     },
     "output_type": "display_data"
    }
   ],
   "source": [
    "iterate_regions(\n",
    "    ratings_df,\n",
    "    lambda df, region: plot_correlation_by_region(df, region, compare='rating'));"
   ]
  },
  {
   "cell_type": "markdown",
   "id": "italian-selling",
   "metadata": {},
   "source": [
    "It seems there are less total sales in Japan for 'M' rated games, in relation to the other ratings,  \n",
    "compared to North America and Europe.  \n",
    "Checking correlation matrix:"
   ]
  },
  {
   "cell_type": "code",
   "execution_count": 103,
   "id": "several-receiver",
   "metadata": {},
   "outputs": [
    {
     "data": {
      "text/markdown": [
       "ESRB Ratings to Region sales correlation:"
      ],
      "text/plain": [
       "<IPython.core.display.Markdown object>"
      ]
     },
     "metadata": {},
     "output_type": "display_data"
    },
    {
     "data": {
      "text/html": [
       "<div>\n",
       "<style scoped>\n",
       "    .dataframe tbody tr th:only-of-type {\n",
       "        vertical-align: middle;\n",
       "    }\n",
       "\n",
       "    .dataframe tbody tr th {\n",
       "        vertical-align: top;\n",
       "    }\n",
       "\n",
       "    .dataframe thead th {\n",
       "        text-align: right;\n",
       "    }\n",
       "</style>\n",
       "<table border=\"1\" class=\"dataframe\">\n",
       "  <thead>\n",
       "    <tr style=\"text-align: right;\">\n",
       "      <th></th>\n",
       "      <th>na_sales</th>\n",
       "      <th>eu_sales</th>\n",
       "      <th>jp_sales</th>\n",
       "    </tr>\n",
       "  </thead>\n",
       "  <tbody>\n",
       "    <tr>\n",
       "      <th>M</th>\n",
       "      <td>0.145718</td>\n",
       "      <td>0.129990</td>\n",
       "      <td>-0.057413</td>\n",
       "    </tr>\n",
       "    <tr>\n",
       "      <th>E</th>\n",
       "      <td>0.018979</td>\n",
       "      <td>0.055543</td>\n",
       "      <td>0.098676</td>\n",
       "    </tr>\n",
       "    <tr>\n",
       "      <th>E10+</th>\n",
       "      <td>-0.042125</td>\n",
       "      <td>-0.066310</td>\n",
       "      <td>-0.048630</td>\n",
       "    </tr>\n",
       "    <tr>\n",
       "      <th>T</th>\n",
       "      <td>-0.139752</td>\n",
       "      <td>-0.136141</td>\n",
       "      <td>0.011952</td>\n",
       "    </tr>\n",
       "  </tbody>\n",
       "</table>\n",
       "</div>"
      ],
      "text/plain": [
       "      na_sales  eu_sales  jp_sales\n",
       "M     0.145718  0.129990 -0.057413\n",
       "E     0.018979  0.055543  0.098676\n",
       "E10+ -0.042125 -0.066310 -0.048630\n",
       "T    -0.139752 -0.136141  0.011952"
      ]
     },
     "metadata": {},
     "output_type": "display_data"
    }
   ],
   "source": [
    "display(\n",
    "    md('ESRB Ratings to Region sales correlation:'),\n",
    "    (pd.concat([\n",
    "        ratings_df[['na_sales', 'eu_sales', 'jp_sales']],\n",
    "        pd.get_dummies(ratings_df['rating']),\n",
    "    ], axis=1)\n",
    "     .corr()\n",
    "     .loc[[*ratings_df['rating'].unique()]][[*region_columns.values()]]))"
   ]
  },
  {
   "cell_type": "markdown",
   "id": "formal-design",
   "metadata": {},
   "source": [
    "There is no correlation between ESRB ratings and sales."
   ]
  },
  {
   "cell_type": "markdown",
   "id": "portable-basin",
   "metadata": {},
   "source": [
    "<a class=\"anchor\" id=\"4-region_conclusions\"></a>\n",
    "### Conclusions\n",
    "\n",
    "* Most popular platforms over the past 5 years are:  \n",
    "Wii, Wii U, PS3, Xbox360, Xbox One, PS 4, 3DS and DS.  \n",
    "* There is some variation between the markets, and it is based on the titles being released and heavily promoted in different regions.  \n",
    "* Also, North America and Europe being continents - have higher total sales than Japan.  \n",
    "* Japanese gamers tend to like different genres than North Americans and Europeans, which have similar taste in games.  \n",
    "It may relate to the different culture of the gamers,  \n",
    "and also to the consoles and titles being available.\n",
    "* ESRB ratings have not been found to have a correlation to sales, in any region."
   ]
  },
  {
   "cell_type": "markdown",
   "id": "retained-argentina",
   "metadata": {},
   "source": [
    "<font color='green'><b><u>REVIEW</u></b></font>\n",
    "<div class=\"alert alert-success\" style=\"box-shadow: 4px 4px 4px\">\n",
    "    \n",
    "👍"
   ]
  },
  {
   "cell_type": "markdown",
   "id": "hindu-garden",
   "metadata": {},
   "source": [
    "<a class=\"anchor\" id=\"5-hypotheses\"></a>\n",
    "## Hypotheses\n",
    "***\n",
    "[back to Table of Contents](#0_toc)\n",
    "\n",
    "There are 2 hypotheses to be tested:\n",
    "1. [User ratings of Xbox One and PC platforms](#5-platforms_user_ratings)\n",
    "2. [User ratings of Action and Sports genres](#5-genres_user_ratings)\n",
    "<br />[Conclusions](#5-hypotheses_conclusions)\n",
    "\n",
    "a significance level of .05 signifies a 5% risk of deciding that an effect exists when it does not exist.  \n",
    "\\- https://statisticsbyjim.com/hypothesis-testing/hypothesis-tests-significance-levels-alpha-p-values/"
   ]
  },
  {
   "cell_type": "code",
   "execution_count": 104,
   "id": "mathematical-purchase",
   "metadata": {},
   "outputs": [],
   "source": [
    "def test_levene(df, center, alpha=.05, **kwargs):\n",
    "    \"\"\"Perform Levene test for equal variances.\"\"\"\n",
    "    \n",
    "    groups = [v for k,v in list(df)]\n",
    "    \n",
    "    results = st.levene(groups[0], groups[1], center=center, **kwargs)\n",
    "    print(f'p-value: {results.pvalue}\\nis p-value < alpha ?\\n\\t{results.pvalue < alpha}')\n",
    "\n",
    "    if results.pvalue < alpha:\n",
    "        print(\"We reject the null hypothesis\")\n",
    "    else:\n",
    "        print(\"We can't reject the null hypothesis\")"
   ]
  },
  {
   "cell_type": "code",
   "execution_count": 105,
   "id": "comprehensive-raising",
   "metadata": {},
   "outputs": [],
   "source": [
    "def test_mannwhitneyu(df, alpha=.05, **kwargs):\n",
    "    \"\"\"Perform the Mann-Whitney U rank test on two independent samples.\"\"\"\n",
    "    \n",
    "    groups = [v for k,v in list(df)]\n",
    "    \n",
    "    results = st.mannwhitneyu(groups[0], groups[1], **kwargs)\n",
    "    print(f'p-value: {results.pvalue}\\nis p-value < alpha ?\\n\\t{results.pvalue < alpha}')\n",
    "\n",
    "    if results.pvalue < alpha:\n",
    "        print(\"We reject the null hypothesis\")\n",
    "    else:\n",
    "        print(\"We can't reject the null hypothesis\")"
   ]
  },
  {
   "cell_type": "markdown",
   "id": "disciplinary-capital",
   "metadata": {},
   "source": [
    "<a class=\"anchor\" id=\"5-platforms_user_ratings\"></a>\n",
    "### Xbox One and PC - avg. user ratings hypothesis\n",
    "[up](#5-hypotheses)\n",
    "\n",
    "<!-- null hypothesis: The average user ratings of the Xbox One and PC platforms are the same.  \n",
    "alternative hypothesis: The average user ratings of the Xbox One and PC platforms differ. -->\n",
    "\n",
    "Testing whether Xbox One user ratings and PC user ratings belong to the same population.\n",
    "\n",
    "$$H_0: F_{X_{Xbox One}}(x) = F_{X_{PC}}(x)$$\n",
    "$$H_A: F_{X_{Xbox One}}(x) \\neq F_{X_{PC}}(x)$$\n",
    "$$\\text{Significance level } \\alpha = 0.05$$"
   ]
  },
  {
   "cell_type": "markdown",
   "id": "wired-virtue",
   "metadata": {},
   "source": [
    "<s>\n",
    "<font color='red'><b><u>NEEDS FIXING</u></b></font>\n",
    "<div class=\"alert alert-danger\" style=\"box-shadow: 4px 4px 4px\">\n",
    "    \n",
    "We can't prove that samples are statistically the same.\n",
    "    \n",
    "In fact, null hypothesis denotes belonging to the same population. Thus, if we fail to reject the null hypothesis, then we conclude that samples likely to belong to the same population. That's why sometimes it's being misinterpreted as \"samples are the same\""
   ]
  },
  {
   "cell_type": "markdown",
   "id": "selective-archive",
   "metadata": {},
   "source": [
    "<s>\n",
    "<font color='orange'><b><u>REMARK</u></b></font>\n",
    "<div class=\"alert alert-warning\" style=\"box-shadow: 4px 4px 4px\">\n",
    "    \n",
    "If you are familiar with mathematical formulations, then the next step for you might be learning some basic LateX syntax. For instance, we could've formulated hypotheses as following\n",
    "    \n",
    "$$H_0: \\mu_{\\text{Xbox}} = \\mu_{PC}$$\n",
    "$$H_A: \\mu_{\\text{Xbox}} \\neq \\mu_{PC}$$\n",
    "\n",
    "where $\\mu$ denotes the mean\n",
    "\n",
    "Null hypothesis - average user ratings for Xbox One and PC platforms come from the same population OR the difference between average user ratings between Xbox One and PC platforms are statistically insignificant\n",
    "    \n",
    "Alternative hypothesis - the difference average user ratings for Xbox One and PC platforms is statistically significant\n",
    "\n",
    "For this hypotheses significance level is:\n",
    "$$\\text{Significance level } \\alpha = 0.05$$\n",
    "    \n",
    "Some useful material on LateX can be found [here](https://www.overleaf.com/learn/latex/Learn_LaTeX_in_30_minutes)\n",
    "    \n",
    "<b>NOTE:</b> Please, note that some interpretation on mathematical formulations were included. Thus, use LateX if and only if you are familiar with mathematical formulations. And always try to provide some interpreation of math formulas"
   ]
  },
  {
   "cell_type": "markdown",
   "id": "standard-miracle",
   "metadata": {},
   "source": [
    "<font color='orange'><b><u>REMARK v.2</u></b></font>\n",
    "<div class=\"alert alert-warning\" style=\"box-shadow: 4px 4px 4px\">\n",
    "    \n",
    "Make sure to translate mathematical formulations into human language. Otherwise, people that are not familiar with it won't be able to understand what being tested"
   ]
  },
  {
   "cell_type": "code",
   "execution_count": 106,
   "id": "apart-floor",
   "metadata": {},
   "outputs": [],
   "source": [
    "test_platforms = ['XOne', 'PC']"
   ]
  },
  {
   "cell_type": "code",
   "execution_count": 107,
   "id": "jewish-graduation",
   "metadata": {
    "scrolled": true
   },
   "outputs": [],
   "source": [
    "ratings_platforms_df = (ratings_df\n",
    "                        .join(platform_ref, on='platform_id')\n",
    "                        .dropna()\n",
    "                        [['platform', 'user_score']]\n",
    "                        .query('platform in @test_platforms')\n",
    "                        .groupby('platform'))"
   ]
  },
  {
   "cell_type": "markdown",
   "id": "tropical-smart",
   "metadata": {},
   "source": [
    "Checking variance of platforms:"
   ]
  },
  {
   "cell_type": "code",
   "execution_count": 108,
   "id": "acoustic-optics",
   "metadata": {},
   "outputs": [
    {
     "data": {
      "text/plain": [
       "platform\n",
       "PC      2.820941\n",
       "XOne    1.780141\n",
       "Name: user_score, dtype: float64"
      ]
     },
     "execution_count": 108,
     "metadata": {},
     "output_type": "execute_result"
    }
   ],
   "source": [
    "ratings_platforms_df.apply(lambda x:np.var(x))['user_score']"
   ]
  },
  {
   "cell_type": "markdown",
   "id": "moderate-creation",
   "metadata": {},
   "source": [
    "<s>\n",
    "<font color='orange'><b><u>REMARK</u></b></font>\n",
    "<div class=\"alert alert-warning\" style=\"box-shadow: 4px 4px 4px\">\n",
    "   \n",
    "More scientific approach for variance comparison will be to use Levene's test. The documentation can be found [here](https://docs.scipy.org/doc/scipy/reference/generated/scipy.stats.levene.html)"
   ]
  },
  {
   "cell_type": "markdown",
   "id": "marine-translator",
   "metadata": {},
   "source": [
    "Checking whether the difference of variance is statistically significant:"
   ]
  },
  {
   "cell_type": "code",
   "execution_count": 109,
   "id": "rising-benchmark",
   "metadata": {},
   "outputs": [
    {
     "data": {
      "image/png": "[encoded data removed]",
      "text/plain": [
       "<Figure size 936x288 with 2 Axes>"
      ]
     },
     "metadata": {
      "needs_background": "light"
     },
     "output_type": "display_data"
    }
   ],
   "source": [
    "fig, axes = plt.subplots(1, 2, figsize=(13, 4))\n",
    "for i, (name, group) in enumerate(ratings_platforms_df):\n",
    "    ax = axes[i]\n",
    "    ax.set_title(name)\n",
    "    sns.kdeplot(data=group, x='user_score', ax=ax, fill=True)\n",
    "plt.suptitle('Distribution of platforms\\' population under test')\n",
    "plt.show();"
   ]
  },
  {
   "cell_type": "markdown",
   "id": "deadly-present",
   "metadata": {},
   "source": [
    "The distributions are similarly left-skewed.  \n",
    "Performing Levene test for variance equality, using center='median' as per documentation:  \n",
    "\"‘median’ : Recommended for skewed (non-normal) distributions\""
   ]
  },
  {
   "cell_type": "code",
   "execution_count": 110,
   "id": "appointed-mailing",
   "metadata": {},
   "outputs": [
    {
     "name": "stdout",
     "output_type": "stream",
     "text": [
      "p-value: 0.0038494473989192884\n",
      "is p-value < alpha ?\n",
      "\tTrue\n",
      "We reject the null hypothesis\n"
     ]
    }
   ],
   "source": [
    "test_levene(ratings_platforms_df['user_score'], center='median')"
   ]
  },
  {
   "cell_type": "markdown",
   "id": "killing-biotechnology",
   "metadata": {},
   "source": [
    "The small p-value suggests that the populations do not have equal variances."
   ]
  },
  {
   "cell_type": "markdown",
   "id": "raising-freeware",
   "metadata": {},
   "source": [
    "<font color='green'><b><u>REVIEW v.2</u></b></font>\n",
    "<div class=\"alert alert-success\" style=\"box-shadow: 4px 4px 4px\">\n",
    "\n",
    "Yeap, it's absolutely correct to use median for the test"
   ]
  },
  {
   "cell_type": "code",
   "execution_count": 111,
   "id": "wooden-crack",
   "metadata": {},
   "outputs": [],
   "source": [
    "# test_hypothesis(ratings_platforms_df['user_score'], equal_var=True, alpha=.05)\n",
    "\n",
    "# Resulting p-value is less than the .05 threshold\n",
    "# - which means result is statistically significant,\n",
    "# and therefore reject the null hypothesis and accept the alternative hypothesis.\n",
    "# the accepted hypothesis is:\n",
    "# alternative hypothesis - \"The average user ratings of the Xbox One and PC platforms differ\"."
   ]
  },
  {
   "cell_type": "markdown",
   "id": "under-object",
   "metadata": {},
   "source": [
    "<s>\n",
    "<font color='red'><b><u>NEEDS FIXING</u></b></font>\n",
    "<div class=\"alert alert-danger\" style=\"box-shadow: 4px 4px 4px\">\n",
    "    \n",
    "Actually, the difference between population variances is statistically significant, thus <b>equal_variance</b> parameter should be set to <b>False</b>. \n",
    "   \n",
    "That's why I have suggested to use Levene's statistical test, since visual analysis might be inaccurate\n",
    "    \n",
    "Moreover, we're not accepting the alternative hypothesis. We're just rejecting null hypothesis in favor of alternative hypothesis. In other words, in this particular case alternative hypothesis is more likely to be true\n",
    "    \n",
    "Some good explanation can be found [here](https://opentextbc.ca/researchmethods/chapter/understanding-null-hypothesis-testing/)"
   ]
  },
  {
   "cell_type": "markdown",
   "id": "electric-ethnic",
   "metadata": {},
   "source": [
    "<div class='alert alert-info'><b>Student comment:</b><br />\n",
    "After consulting numerous instructors on slack, and getting a handful of extra tips,  <br /> \n",
    "I've decided to perform the Mann-Whitney U rank test on two independent samples,  <br />\n",
    "since each sample (title) of a platform is independent of the other platform.\n",
    "</div>"
   ]
  },
  {
   "cell_type": "markdown",
   "id": "micro-aside",
   "metadata": {},
   "source": [
    "<font color='orange'><b><u>REMARK</u></b></font>\n",
    "<div class=\"alert alert-warning\" style=\"box-shadow: 4px 4px 4px\">\n",
    "    \n",
    "It's okay to use Mann-Whitney U rank test here. However, then testing for equal variance is quite meaningless, since it was the assumption of the Student's t-test.\n",
    "    \n",
    "Mann-Whitney test has other assumptions. You can find more [here](https://statistics.laerd.com/spss-tutorials/mann-whitney-u-test-using-spss-statistics.php)"
   ]
  },
  {
   "cell_type": "code",
   "execution_count": 112,
   "id": "rising-september",
   "metadata": {
    "scrolled": true
   },
   "outputs": [
    {
     "name": "stdout",
     "output_type": "stream",
     "text": [
      "p-value: 0.49226936484692985\n",
      "is p-value < alpha ?\n",
      "\tFalse\n",
      "We can't reject the null hypothesis\n"
     ]
    }
   ],
   "source": [
    "test_mannwhitneyu(ratings_platforms_df['user_score'])"
   ]
  },
  {
   "cell_type": "markdown",
   "id": "surrounded-drove",
   "metadata": {},
   "source": [
    "In conclusion: Samples are statistically likely to be from the same population."
   ]
  },
  {
   "cell_type": "markdown",
   "id": "ahead-packaging",
   "metadata": {},
   "source": [
    "<a class=\"anchor\" id=\"5-genres_user_ratings\"></a>\n",
    "### Action and Sports - avg. user ratings hypothesis\n",
    "[up](#5-hypotheses)\n",
    "\n",
    "<!-- null hypothesis: The average user ratings of Action and Sports genres are the same.  \n",
    "alternative hypothesis: The average user ratings of Action and Sports genres differ. -->\n",
    "\n",
    "Testing whether user ratings for the Action genre and user ratings for the Sports genre belong to the same population.\n",
    "\n",
    "$$H_0: F_{X_{Action}}(x) = F_{X_{Sports}}(x)$$\n",
    "$$H_A: F_{X_{Action}}(x) \\neq F_{X_{Sports}}(x)$$\n",
    "$$\\text{Significance level } \\alpha = 0.05$$"
   ]
  },
  {
   "cell_type": "markdown",
   "id": "royal-knitting",
   "metadata": {},
   "source": [
    "<s>\n",
    "<font color='red'><b><u>NEEDS FIXING</u></b></font>\n",
    "<div class=\"alert alert-danger\" style=\"box-shadow: 4px 4px 4px\">\n",
    "    \n",
    "The same issue with hypothesis formulations. We can't identify if the samples are identical, we just can say that if the difference between them is statistically insignificant\n",
    "   "
   ]
  },
  {
   "cell_type": "code",
   "execution_count": 1,
   "id": "exempt-appliance",
   "metadata": {},
   "outputs": [],
   "source": [
    "test_genres = ['Action', 'Sports']"
   ]
  },
  {
   "cell_type": "code",
   "execution_count": 114,
   "id": "broken-indication",
   "metadata": {},
   "outputs": [],
   "source": [
    "ratings_genres_df = (ratings_df\n",
    "                        .join(genre_ref, on='genre_id')\n",
    "                        .dropna()\n",
    "                        [['genre', 'user_score']]\n",
    "                        .query('genre in @test_genres')\n",
    "                        .groupby('genre'))"
   ]
  },
  {
   "cell_type": "code",
   "execution_count": 115,
   "id": "photographic-bulletin",
   "metadata": {},
   "outputs": [
    {
     "data": {
      "text/plain": [
       "genre\n",
       "Action    1.754061\n",
       "Sports    2.003287\n",
       "Name: user_score, dtype: float64"
      ]
     },
     "execution_count": 115,
     "metadata": {},
     "output_type": "execute_result"
    }
   ],
   "source": [
    "ratings_genres_df.apply(lambda x:np.var(x))['user_score']"
   ]
  },
  {
   "cell_type": "markdown",
   "id": "abroad-immigration",
   "metadata": {},
   "source": [
    "<s>\n",
    "<font color='red'><b><u>NEEDS FIXING</u></b></font>\n",
    "<div class=\"alert alert-danger\" style=\"box-shadow: 4px 4px 4px\">\n",
    "    \n",
    "Again, our 👀 analysis is inaccurate. I was also thinking that the difference between sample variances is statistically insignificant, however, it's not. That's why we shouldn't trust to our visual analysis skills and use more precise statistical tests (e.g. Levene's Test)"
   ]
  },
  {
   "cell_type": "markdown",
   "id": "based-young",
   "metadata": {},
   "source": [
    "Checking whether the difference of variance is statistically significant:"
   ]
  },
  {
   "cell_type": "code",
   "execution_count": 116,
   "id": "dried-restoration",
   "metadata": {},
   "outputs": [
    {
     "data": {
      "image/png": "[encoded data removed]",
      "text/plain": [
       "<Figure size 936x288 with 2 Axes>"
      ]
     },
     "metadata": {
      "needs_background": "light"
     },
     "output_type": "display_data"
    }
   ],
   "source": [
    "fig, axes = plt.subplots(1, 2, figsize=(13, 4))\n",
    "for i, (name, group) in enumerate(ratings_genres_df):\n",
    "    ax = axes[i]\n",
    "    ax.set_title(name)\n",
    "    sns.kdeplot(data=group, x='user_score', ax=ax, fill=True)\n",
    "plt.suptitle('Distribution of genres\\' population under test')\n",
    "plt.show();"
   ]
  },
  {
   "cell_type": "markdown",
   "id": "forty-manufacturer",
   "metadata": {},
   "source": [
    "The distributions are similarly left-skewed.  \n",
    "Performing Levene test for variance equality, using center='median' as per documentation:  \n",
    "\"‘median’ : Recommended for skewed (non-normal) distributions\""
   ]
  },
  {
   "cell_type": "code",
   "execution_count": 117,
   "id": "dutch-grain",
   "metadata": {},
   "outputs": [
    {
     "name": "stdout",
     "output_type": "stream",
     "text": [
      "p-value: 0.0038494473989192884\n",
      "is p-value < alpha ?\n",
      "\tTrue\n",
      "We reject the null hypothesis\n"
     ]
    }
   ],
   "source": [
    "test_levene(ratings_platforms_df['user_score'], center='median')"
   ]
  },
  {
   "cell_type": "markdown",
   "id": "asian-delight",
   "metadata": {},
   "source": [
    "The small p-value suggests that the populations do not have equal variances."
   ]
  },
  {
   "cell_type": "markdown",
   "id": "narrow-chapter",
   "metadata": {},
   "source": [
    "<s>\n",
    "<font color='orange'><b><u>REMARK</u></b></font>\n",
    "<div class=\"alert alert-warning\" style=\"box-shadow: 4px 4px 4px\">\n",
    "    \n",
    "Here we're again not accepting any of hypotheses. We're just failing to reject the null hypothesis"
   ]
  },
  {
   "cell_type": "markdown",
   "id": "subtle-juice",
   "metadata": {},
   "source": [
    "<div class='alert alert-info'><b>Student comment:</b><br />\n",
    "Same reasoning for changing this test as the previous one.\n",
    "</div>"
   ]
  },
  {
   "cell_type": "code",
   "execution_count": 118,
   "id": "monetary-tourist",
   "metadata": {},
   "outputs": [],
   "source": [
    "# test_hypothesis(ratings_genres_df['user_score'], equal_var=True, alpha=.05)\n",
    "\n",
    "# Resulting p-value is above the .05 threshold,\n",
    "# - meaning the result is not statistically significant\n",
    "# fail to reject the null hypothesis.\n",
    "\n",
    "# The accepted hypothesis is:\n",
    "# null hypothesis - \"The average user ratings of Action and Sports genres are the same\"."
   ]
  },
  {
   "cell_type": "code",
   "execution_count": 119,
   "id": "attempted-scene",
   "metadata": {},
   "outputs": [
    {
     "name": "stdout",
     "output_type": "stream",
     "text": [
      "p-value: 4.627432247663957e-16\n",
      "is p-value < alpha ?\n",
      "\tTrue\n",
      "We reject the null hypothesis\n"
     ]
    }
   ],
   "source": [
    "test_mannwhitneyu(ratings_genres_df['user_score'])"
   ]
  },
  {
   "cell_type": "markdown",
   "id": "modular-garage",
   "metadata": {},
   "source": [
    "In conclusion: Samples are statistically unlikely to be from the same population."
   ]
  },
  {
   "cell_type": "markdown",
   "id": "cellular-spectrum",
   "metadata": {},
   "source": [
    "<a class=\"anchor\" id=\"5-hypotheses_conclusions\"></a>\n",
    "### Conclusions\n",
    "[up](#5-hypotheses)\n",
    "\n",
    "Xbox One and PC samples are statistically likely to be from the same population.  \n",
    "Action and Sports samples, on the other hand, are statistically unlikely to be from the same population."
   ]
  },
  {
   "cell_type": "markdown",
   "id": "imperial-grain",
   "metadata": {},
   "source": [
    "<a class=\"anchor\" id=\"6-conclusions\"></a>\n",
    "## Overall Conclusions\n",
    "***\n",
    "[back to Table of Contents](#0_toc)"
   ]
  },
  {
   "cell_type": "markdown",
   "id": "indonesian-director",
   "metadata": {},
   "source": [
    "Highlighting the findings of the conducted analysis:\n",
    "* In general, most profitable consoles for the next year are presumed to be:  \n",
    "Xbox One, PS4 and Wii U  \n",
    "(based on research data up until 2016, prediction made for 2017).\n",
    "* More detailed review:\n",
    "    * North America:  \n",
    "    Xbox One, PS4 and Wii U (newer consoles)  \n",
    "    Xbox 360 and Wii (older consoles)\n",
    "    * Europe:  \n",
    "    PS4 and Xbox One (newer consoles)  \n",
    "    Xbox 360, PS3 and Wii (older consoles)\n",
    "    * Japan:  \n",
    "    3DS, Wii U (newer consoles)  \n",
    "    DS, PS3, Wii (older consoles)\n",
    "* Most consoles start to shine after 2-3 years,  \n",
    "peaking at 5 years when the technology behind them is well researched, ripe and used proficiently.  \n",
    "  After that, they slowly wither away and lose popularity in the span of another 5 years.\n",
    "* Worthwhile genres for North America and Europe pretty much overlap: Shooter, Sports and Platform.  \n",
    "North Americans also like Fighting games.  \n",
    "Europeans also like Racing.  \n",
    "Japan is a different market, favouring: Role Playing, Simulation, Platform and Fighting.  \n",
    "* ESRB ratings, user reviews and critic reviews show little correlation to sales performance.  \n",
    "  Behavioural research is needed in order to draw finer conclusions regarding reviews and potential buyers’ psychology.\n",
    "  \n",
    "The overall conclusion is to invest in advertisements targeting the popular genres per region, and the newer generation of consoles that have sells rising."
   ]
  },
  {
   "cell_type": "markdown",
   "id": "exclusive-national",
   "metadata": {},
   "source": [
    "<font color='green'><b><u>REVIEW</u></b></font>\n",
    "<div class=\"alert alert-success\" style=\"box-shadow: 4px 4px 4px\">\n",
    "    \n",
    "Really good conclusion that has brief summary of the research."
   ]
  }
 ],
 "metadata": {
  "ExecuteTimeLog": [
   {
    "duration": 19957,
    "start_time": "2021-07-06T19:50:10.373Z"
   },
   {
    "duration": 1600,
    "start_time": "2021-07-06T19:51:29.710Z"
   },
   {
    "duration": 3,
    "start_time": "2021-07-06T19:51:31.313Z"
   },
   {
    "duration": 3,
    "start_time": "2021-07-06T20:05:38.827Z"
   },
   {
    "duration": 11,
    "start_time": "2021-07-06T20:05:39.250Z"
   },
   {
    "duration": 5,
    "start_time": "2021-07-06T20:05:40.269Z"
   },
   {
    "duration": 4800,
    "start_time": "2021-07-06T20:05:42.519Z"
   },
   {
    "duration": 275,
    "start_time": "2021-07-06T20:05:59.504Z"
   },
   {
    "duration": 261,
    "start_time": "2021-07-06T20:06:45.668Z"
   },
   {
    "duration": 321,
    "start_time": "2021-07-06T20:06:52.867Z"
   },
   {
    "duration": 4,
    "start_time": "2021-07-06T20:07:11.622Z"
   },
   {
    "duration": 4,
    "start_time": "2021-07-06T20:07:26.821Z"
   },
   {
    "duration": 6,
    "start_time": "2021-07-06T20:10:26.690Z"
   },
   {
    "duration": 7,
    "start_time": "2021-07-06T20:10:27.196Z"
   },
   {
    "duration": 5,
    "start_time": "2021-07-06T20:10:27.591Z"
   },
   {
    "duration": 22,
    "start_time": "2021-07-06T20:10:28.822Z"
   },
   {
    "duration": 37,
    "start_time": "2021-07-06T20:17:44.190Z"
   },
   {
    "duration": 18,
    "start_time": "2021-07-06T20:17:45.188Z"
   },
   {
    "duration": 31,
    "start_time": "2021-07-06T20:17:46.690Z"
   },
   {
    "duration": 15,
    "start_time": "2021-07-06T20:17:50.186Z"
   },
   {
    "duration": 593,
    "start_time": "2021-07-06T20:21:06.474Z"
   },
   {
    "duration": 385,
    "start_time": "2021-07-06T20:21:14.113Z"
   },
   {
    "duration": 1711,
    "start_time": "2021-07-06T20:21:17.405Z"
   },
   {
    "duration": 1703,
    "start_time": "2021-07-06T20:21:25.507Z"
   },
   {
    "duration": 2,
    "start_time": "2021-07-06T20:21:27.211Z"
   },
   {
    "duration": 5,
    "start_time": "2021-07-06T20:21:42.800Z"
   },
   {
    "duration": 4,
    "start_time": "2021-07-06T20:21:43.047Z"
   },
   {
    "duration": 4,
    "start_time": "2021-07-06T20:21:44.863Z"
   },
   {
    "duration": 10,
    "start_time": "2021-07-06T20:21:45.055Z"
   },
   {
    "duration": 5,
    "start_time": "2021-07-06T20:21:45.243Z"
   },
   {
    "duration": 4516,
    "start_time": "2021-07-06T20:21:45.424Z"
   },
   {
    "duration": 313,
    "start_time": "2021-07-06T20:21:49.944Z"
   },
   {
    "duration": 4,
    "start_time": "2021-07-06T20:21:50.260Z"
   },
   {
    "duration": 44,
    "start_time": "2021-07-06T20:21:50.266Z"
   },
   {
    "duration": 7,
    "start_time": "2021-07-06T20:21:50.313Z"
   },
   {
    "duration": 11,
    "start_time": "2021-07-06T20:21:50.322Z"
   },
   {
    "duration": 23,
    "start_time": "2021-07-06T20:21:50.335Z"
   },
   {
    "duration": 15,
    "start_time": "2021-07-06T20:21:50.362Z"
   },
   {
    "duration": 32,
    "start_time": "2021-07-06T20:21:50.380Z"
   },
   {
    "duration": 39,
    "start_time": "2021-07-06T20:21:52.033Z"
   },
   {
    "duration": 17,
    "start_time": "2021-07-06T20:21:53.521Z"
   },
   {
    "duration": 33,
    "start_time": "2021-07-06T20:21:55.940Z"
   },
   {
    "duration": 14,
    "start_time": "2021-07-06T20:21:57.874Z"
   },
   {
    "duration": 8,
    "start_time": "2021-07-06T20:21:59.993Z"
   },
   {
    "duration": 34,
    "start_time": "2021-07-06T20:22:00.293Z"
   },
   {
    "duration": 17,
    "start_time": "2021-07-06T20:22:01.708Z"
   },
   {
    "duration": 15,
    "start_time": "2021-07-06T20:22:20.059Z"
   },
   {
    "duration": 145,
    "start_time": "2021-07-06T20:22:20.917Z"
   },
   {
    "duration": 22,
    "start_time": "2021-07-06T20:25:19.452Z"
   },
   {
    "duration": 20,
    "start_time": "2021-07-06T20:30:01.851Z"
   },
   {
    "duration": 34,
    "start_time": "2021-07-06T20:30:08.415Z"
   },
   {
    "duration": 39,
    "start_time": "2021-07-06T20:31:31.472Z"
   },
   {
    "duration": 14,
    "start_time": "2021-07-06T20:31:32.224Z"
   },
   {
    "duration": 8,
    "start_time": "2021-07-06T20:31:33.373Z"
   },
   {
    "duration": 4,
    "start_time": "2021-07-06T20:31:34.864Z"
   },
   {
    "duration": 9,
    "start_time": "2021-07-06T20:31:35.998Z"
   },
   {
    "duration": 25,
    "start_time": "2021-07-06T20:31:36.869Z"
   },
   {
    "duration": 11,
    "start_time": "2021-07-06T20:32:57.506Z"
   },
   {
    "duration": 6,
    "start_time": "2021-07-06T20:33:10.843Z"
   },
   {
    "duration": 8,
    "start_time": "2021-07-06T20:33:13.146Z"
   },
   {
    "duration": 5,
    "start_time": "2021-07-06T20:33:17.761Z"
   },
   {
    "duration": 36,
    "start_time": "2021-07-06T20:33:27.632Z"
   },
   {
    "duration": 7,
    "start_time": "2021-07-06T20:33:39.983Z"
   },
   {
    "duration": 103,
    "start_time": "2021-07-06T20:34:11.814Z"
   },
   {
    "duration": 9,
    "start_time": "2021-07-06T20:34:13.340Z"
   },
   {
    "duration": 101,
    "start_time": "2021-07-06T20:34:14.187Z"
   },
   {
    "duration": 7,
    "start_time": "2021-07-06T20:34:16.486Z"
   },
   {
    "duration": 16,
    "start_time": "2021-07-06T20:34:18.924Z"
   },
   {
    "duration": 20,
    "start_time": "2021-07-06T20:34:21.634Z"
   },
   {
    "duration": 19,
    "start_time": "2021-07-06T20:34:25.080Z"
   },
   {
    "duration": 22,
    "start_time": "2021-07-06T20:34:36.572Z"
   },
   {
    "duration": 19,
    "start_time": "2021-07-06T20:34:40.860Z"
   },
   {
    "duration": 7,
    "start_time": "2021-07-06T20:36:50.739Z"
   },
   {
    "duration": 10,
    "start_time": "2021-07-06T20:36:57.028Z"
   },
   {
    "duration": 8,
    "start_time": "2021-07-06T20:36:57.261Z"
   },
   {
    "duration": 118,
    "start_time": "2021-07-06T20:36:57.486Z"
   },
   {
    "duration": 99,
    "start_time": "2021-07-06T20:36:57.728Z"
   },
   {
    "duration": 20,
    "start_time": "2021-07-06T20:36:58.488Z"
   },
   {
    "duration": 8,
    "start_time": "2021-07-06T20:37:00.225Z"
   },
   {
    "duration": 5,
    "start_time": "2021-07-06T20:41:58.025Z"
   },
   {
    "duration": 6,
    "start_time": "2021-07-06T20:41:59.322Z"
   },
   {
    "duration": 1488,
    "start_time": "2021-07-06T20:44:01.483Z"
   },
   {
    "duration": 717,
    "start_time": "2021-07-06T20:44:08.374Z"
   },
   {
    "duration": 795,
    "start_time": "2021-07-06T20:44:21.062Z"
   },
   {
    "duration": 505,
    "start_time": "2021-07-06T20:44:35.117Z"
   },
   {
    "duration": 237,
    "start_time": "2021-07-06T20:55:59.041Z"
   },
   {
    "duration": 511,
    "start_time": "2021-07-06T20:56:07.816Z"
   },
   {
    "duration": 9,
    "start_time": "2021-07-06T20:57:31.343Z"
   },
   {
    "duration": 8,
    "start_time": "2021-07-06T20:57:31.884Z"
   },
   {
    "duration": 3318,
    "start_time": "2021-07-06T20:57:34.242Z"
   },
   {
    "duration": 45,
    "start_time": "2021-07-06T20:57:42.291Z"
   },
   {
    "duration": 8,
    "start_time": "2021-07-06T20:57:52.444Z"
   },
   {
    "duration": 20,
    "start_time": "2021-07-06T20:57:55.289Z"
   },
   {
    "duration": 5,
    "start_time": "2021-07-06T20:57:57.958Z"
   },
   {
    "duration": 7,
    "start_time": "2021-07-06T21:00:14.787Z"
   },
   {
    "duration": 5,
    "start_time": "2021-07-06T21:00:15.398Z"
   },
   {
    "duration": 11,
    "start_time": "2021-07-06T21:00:15.711Z"
   },
   {
    "duration": 9,
    "start_time": "2021-07-06T21:00:16.014Z"
   },
   {
    "duration": 513,
    "start_time": "2021-07-06T21:00:18.354Z"
   },
   {
    "duration": 330,
    "start_time": "2021-07-06T21:05:27.106Z"
   },
   {
    "duration": 395,
    "start_time": "2021-07-06T21:05:27.438Z"
   },
   {
    "duration": 365,
    "start_time": "2021-07-06T21:05:54.400Z"
   },
   {
    "duration": 440,
    "start_time": "2021-07-06T21:05:59.981Z"
   },
   {
    "duration": 294,
    "start_time": "2021-07-06T21:06:03.397Z"
   },
   {
    "duration": 449,
    "start_time": "2021-07-06T21:06:08.359Z"
   },
   {
    "duration": 562,
    "start_time": "2021-07-06T21:06:15.253Z"
   },
   {
    "duration": 600,
    "start_time": "2021-07-06T21:06:23.152Z"
   },
   {
    "duration": 323,
    "start_time": "2021-07-06T21:06:33.537Z"
   },
   {
    "duration": 460,
    "start_time": "2021-07-06T21:06:38.416Z"
   },
   {
    "duration": 323,
    "start_time": "2021-07-06T21:06:43.353Z"
   },
   {
    "duration": 311,
    "start_time": "2021-07-06T21:06:53.372Z"
   },
   {
    "duration": 394,
    "start_time": "2021-07-06T21:06:57.870Z"
   },
   {
    "duration": 318,
    "start_time": "2021-07-06T21:07:05.410Z"
   },
   {
    "duration": 394,
    "start_time": "2021-07-06T21:07:11.434Z"
   },
   {
    "duration": 434,
    "start_time": "2021-07-06T21:07:22.054Z"
   },
   {
    "duration": 320,
    "start_time": "2021-07-06T21:08:21.856Z"
   },
   {
    "duration": 465,
    "start_time": "2021-07-06T21:08:26.337Z"
   },
   {
    "duration": 13,
    "start_time": "2021-07-06T21:12:05.403Z"
   },
   {
    "duration": 5,
    "start_time": "2021-07-06T21:12:05.686Z"
   },
   {
    "duration": 501,
    "start_time": "2021-07-06T21:12:07.247Z"
   },
   {
    "duration": 12,
    "start_time": "2021-07-06T21:12:10.160Z"
   },
   {
    "duration": 1058,
    "start_time": "2021-07-06T21:12:45.217Z"
   },
   {
    "duration": 6,
    "start_time": "2021-07-06T21:12:58.745Z"
   },
   {
    "duration": 7,
    "start_time": "2021-07-06T21:13:12.653Z"
   },
   {
    "duration": 7,
    "start_time": "2021-07-06T21:13:13.253Z"
   },
   {
    "duration": 655,
    "start_time": "2021-07-06T21:13:14.575Z"
   },
   {
    "duration": 665,
    "start_time": "2021-07-06T21:13:20.982Z"
   },
   {
    "duration": 773,
    "start_time": "2021-07-06T21:13:37.498Z"
   },
   {
    "duration": 53,
    "start_time": "2021-07-06T21:13:38.337Z"
   },
   {
    "duration": 4,
    "start_time": "2021-07-06T21:14:28.408Z"
   },
   {
    "duration": 28,
    "start_time": "2021-07-06T21:14:28.843Z"
   },
   {
    "duration": 26,
    "start_time": "2021-07-06T21:14:35.371Z"
   },
   {
    "duration": 8,
    "start_time": "2021-07-06T21:17:41.067Z"
   },
   {
    "duration": 4,
    "start_time": "2021-07-06T21:17:57.017Z"
   },
   {
    "duration": 5,
    "start_time": "2021-07-06T21:17:57.589Z"
   },
   {
    "duration": 13,
    "start_time": "2021-07-06T21:17:58.237Z"
   },
   {
    "duration": 4,
    "start_time": "2021-07-06T21:17:59.831Z"
   },
   {
    "duration": 6,
    "start_time": "2021-07-06T21:18:00.384Z"
   },
   {
    "duration": 2468,
    "start_time": "2021-07-06T21:18:08.613Z"
   },
   {
    "duration": 191,
    "start_time": "2021-07-06T21:23:04.322Z"
   },
   {
    "duration": 16,
    "start_time": "2021-07-06T21:23:04.528Z"
   },
   {
    "duration": 2691,
    "start_time": "2021-07-06T21:23:05.912Z"
   },
   {
    "duration": 207,
    "start_time": "2021-07-06T21:23:08.609Z"
   },
   {
    "duration": 6,
    "start_time": "2021-07-06T21:23:10.252Z"
   },
   {
    "duration": 19,
    "start_time": "2021-07-06T21:23:12.545Z"
   },
   {
    "duration": 1444,
    "start_time": "2021-07-06T21:23:13.546Z"
   },
   {
    "duration": 185,
    "start_time": "2021-07-06T21:23:34.137Z"
   },
   {
    "duration": 5,
    "start_time": "2021-07-06T21:25:48.422Z"
   },
   {
    "duration": 4,
    "start_time": "2021-07-06T21:31:03.143Z"
   },
   {
    "duration": 14,
    "start_time": "2021-07-06T21:31:05.170Z"
   },
   {
    "duration": 12,
    "start_time": "2021-07-06T21:31:07.023Z"
   },
   {
    "duration": 7,
    "start_time": "2021-07-06T21:34:06.745Z"
   },
   {
    "duration": 12907,
    "start_time": "2021-07-07T15:31:21.908Z"
   },
   {
    "duration": 6758,
    "start_time": "2021-07-07T15:31:39.053Z"
   },
   {
    "duration": 5,
    "start_time": "2021-07-08T16:41:42.543Z"
   }
  ],
  "kernelspec": {
   "display_name": "Python 3",
   "language": "python",
   "name": "python3"
  },
  "language_info": {
   "codemirror_mode": {
    "name": "ipython",
    "version": 3
   },
   "file_extension": ".py",
   "mimetype": "text/x-python",
   "name": "python",
   "nbconvert_exporter": "python",
   "pygments_lexer": "ipython3",
   "version": "3.8.10"
  },
  "toc": {
   "base_numbering": 1,
   "nav_menu": {},
   "number_sections": true,
   "sideBar": true,
   "skip_h1_title": true,
   "title_cell": "Table of Contents",
   "title_sidebar": "Contents",
   "toc_cell": false,
   "toc_position": {},
   "toc_section_display": true,
   "toc_window_display": false
  }
 },
 "nbformat": 4,
 "nbformat_minor": 5
}
