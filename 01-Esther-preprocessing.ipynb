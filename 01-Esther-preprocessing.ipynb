{
 "cells": [
  {
   "cell_type": "markdown",
   "metadata": {},
   "source": [
    "<hr style=\"border: 2px solid green;\" />\n",
    "\n",
    "Hello, Esther!🤚 \n",
    "\n",
    "My name is Kseniya Vishnevskaya. I'm going to review your project 😊 \n",
    "\n",
    "✏️You can find my comments in <font color='green'>green</font>, <font color='orange'>yellow</font> or <font color='red'>red</font> boxes like this:\n",
    "\n",
    "<div style=\"border:solid green 2px; padding: 20px\"> <b>Success:</b><br>\n",
    "    I'm using green color if everything is done perfectly.</div>       \n",
    "<br>\n",
    "<div style=\"border:solid orange 2px; padding: 20px\"> <b>Remarks:</b><br>\n",
    "    if I can give some recommendations</div>   \n",
    "<br>\n",
    "<div style=\"border:solid red 2px; padding: 20px\"> <b>Needs fixing:</b><br>\n",
    "    if the block requires some corrections. Work can't be accepted with the red comments</div>\n",
    " \n",
    "Further in the file you can see my comments, try to take them into account when performing the next tasks. **Please, don't delete them.** :)\n",
    "\n",
    "Let's work on the project in dialogue: if you change something in the project or respond to my comments, write about it. It will be easier for me to track the changes if you highlight your comments:\n",
    "\n",
    "<div class=\"alert alert-info\" style=\"border:solid blue 2px; padding: 20px\"> <b>Student comment:</b> In the blue boxes you can leave comments and ask questions.</div>\n",
    "\n",
    "\n",
    "<hr style=\"border: 2px solid green;\" />"
   ]
  },
  {
   "cell_type": "markdown",
   "metadata": {},
   "source": [
    "### <font color='orange'>General feedback</font>"
   ]
  },
  {
   "cell_type": "markdown",
   "metadata": {},
   "source": [
    "<div style=\"border:solid red 2px; padding: 20px\"> <b>Needs fixing:</b><br>\n",
    "    <s>Thank you for submitting your project 🙂  I'm glad to say that you executed your project really well. I especially liked the style, code formatting, detailed conclusions and function writing. But there are few things that need to be corrected in your project. They're mostly minor issues that are easy to fix.</div>"
   ]
  },
  {
   "cell_type": "markdown",
   "metadata": {},
   "source": [
    "<div style=\"border:solid orange 2px; padding: 20px\"> <b>Remarks:</b><br>\n",
    "    There are some comments for further improvement. They don't mean that you did anything wrong, but they're things we wanted to point out that can help you further develop your skills. \n",
    "\n",
    "And also I leave several links that can help you to make your further projects even better:\n",
    "\n",
    "* Text formatting:\n",
    "<a>https://medium.com/analytics-vidhya/the-ultimate-markdown-guide-for-jupyter-notebook-d5e5abf728fd</a>\n",
    "\n",
    "*  How to deal with missing data:\n",
    "<a>https://towardsdatascience.com/how-to-deal-with-missing-data-in-python-1f74a9112d93</a>\n",
    "\n",
    "*  How to edit text in jupyter notebook using Markdown:\n",
    "<a>https://www.earthdatascience.org/courses/intro-to-earth-data-science/file-formats/use-text-files/format-text-with-markdown-jupyter-notebook/</a> \n",
    "    \n",
    "   \n",
    "</div>"
   ]
  },
  {
   "cell_type": "markdown",
   "metadata": {},
   "source": [
    "<div class=\"alert alert-info\" style=\"border:solid blue 2px; padding: 20px\"> <b>Student comment:</b> Hi Kseniya! Thank you so much for reviewing the project! Thanks for the feedback and comments. I will try to respond and correct any comment.</div>"
   ]
  },
  {
   "cell_type": "markdown",
   "metadata": {},
   "source": [
    "<div style=\"border:solid green 2px; padding: 20px\"> <b>Success V2:</b><br>\n",
    "    Thanks for sending in your project with corrections 😊. It's clear you've put a lot of effort into it. You've done a really good job! Glad to say that your project  has been accepted.  Good luck on the next sprint! :) </div>   "
   ]
  },
  {
   "cell_type": "markdown",
   "metadata": {},
   "source": [
    "# Analyzing borrowers’ risk of defaulting\n",
    "\n",
    "Your project is to prepare a report for a bank’s loan division. You’ll need to find out if a customer’s marital status and number of children has an impact on whether they will default on a loan. The bank already has some data on customers’ credit worthiness.\n",
    "\n",
    "Your report will be considered when building a **credit scoring** of a potential customer. A ** credit scoring ** is used to evaluate the ability of a potential borrower to repay their loan.\n",
    "\n",
    "Description of the data:\n",
    "* <strong><em> children </em></strong> : the number of children in the family\n",
    "* <strong><em> days_employed </em></strong> : how long the customer has been working\n",
    "* <strong><em> dob_years </em></strong> : the customer’s age\n",
    "* <strong><em> education </em></strong> : the customer’s education level\n",
    "* <strong><em> education_id </em></strong> : identifier for the customer’s education\n",
    "* <strong><em> family_status </em></strong> : the customer’s marital status\n",
    "* <strong><em> family_status_id </em></strong> : identifier for the customer’s marital status\n",
    "* <strong><em> gender </em></strong> : the customer’s gender\n",
    "* <strong><em> income_type </em></strong> : the customer’s income type\n",
    "* <strong><em> debt </em></strong> : whether the customer has ever defaulted on a loan\n",
    "* <strong><em> total_income </em></strong> : monthly income\n",
    "* <strong><em> purpose </em></strong> : reason for taking out a loan"
   ]
  },
  {
   "cell_type": "markdown",
   "metadata": {},
   "source": [
    "<div style=\"border:solid orange 2px; padding: 20px\"> <b>Remarks:</b><br>\n",
    "   <s> Well done for not forgetting the title and description of the project task :). But it is also important to include a description of the data to be worked with.</div> "
   ]
  },
  {
   "cell_type": "markdown",
   "metadata": {},
   "source": [
    "<div class=\"alert alert-info\" style=\"border:solid blue 2px; padding: 20px\"> <b>Student comment:</b> I agree with you. But even that I did not write :(. It was already embedded in the project notebook.\n",
    "I have added the values I will work with...</div>"
   ]
  },
  {
   "cell_type": "markdown",
   "metadata": {},
   "source": [
    "<div style=\"border:solid green 2px; padding: 20px\"> <b>Success 2:</b><br>\n",
    "    👍</div>  "
   ]
  },
  {
   "cell_type": "markdown",
   "metadata": {},
   "source": [
    "## Open the data file and have a look at the general information. "
   ]
  },
  {
   "cell_type": "code",
   "execution_count": 2,
   "metadata": {},
   "outputs": [
    {
     "data": {
      "text/html": [
       "<div>\n",
       "<style scoped>\n",
       "    .dataframe tbody tr th:only-of-type {\n",
       "        vertical-align: middle;\n",
       "    }\n",
       "\n",
       "    .dataframe tbody tr th {\n",
       "        vertical-align: top;\n",
       "    }\n",
       "\n",
       "    .dataframe thead th {\n",
       "        text-align: right;\n",
       "    }\n",
       "</style>\n",
       "<table border=\"1\" class=\"dataframe\">\n",
       "  <thead>\n",
       "    <tr style=\"text-align: right;\">\n",
       "      <th></th>\n",
       "      <th>children</th>\n",
       "      <th>days_employed</th>\n",
       "      <th>dob_years</th>\n",
       "      <th>education</th>\n",
       "      <th>education_id</th>\n",
       "      <th>family_status</th>\n",
       "      <th>family_status_id</th>\n",
       "      <th>gender</th>\n",
       "      <th>income_type</th>\n",
       "      <th>debt</th>\n",
       "      <th>total_income</th>\n",
       "      <th>purpose</th>\n",
       "    </tr>\n",
       "  </thead>\n",
       "  <tbody>\n",
       "    <tr>\n",
       "      <td>0</td>\n",
       "      <td>1</td>\n",
       "      <td>-8437.673028</td>\n",
       "      <td>42</td>\n",
       "      <td>bachelor's degree</td>\n",
       "      <td>0</td>\n",
       "      <td>married</td>\n",
       "      <td>0</td>\n",
       "      <td>F</td>\n",
       "      <td>employee</td>\n",
       "      <td>0</td>\n",
       "      <td>40620.102</td>\n",
       "      <td>purchase of the house</td>\n",
       "    </tr>\n",
       "    <tr>\n",
       "      <td>1</td>\n",
       "      <td>1</td>\n",
       "      <td>-4024.803754</td>\n",
       "      <td>36</td>\n",
       "      <td>secondary education</td>\n",
       "      <td>1</td>\n",
       "      <td>married</td>\n",
       "      <td>0</td>\n",
       "      <td>F</td>\n",
       "      <td>employee</td>\n",
       "      <td>0</td>\n",
       "      <td>17932.802</td>\n",
       "      <td>car purchase</td>\n",
       "    </tr>\n",
       "    <tr>\n",
       "      <td>2</td>\n",
       "      <td>0</td>\n",
       "      <td>-5623.422610</td>\n",
       "      <td>33</td>\n",
       "      <td>Secondary Education</td>\n",
       "      <td>1</td>\n",
       "      <td>married</td>\n",
       "      <td>0</td>\n",
       "      <td>M</td>\n",
       "      <td>employee</td>\n",
       "      <td>0</td>\n",
       "      <td>23341.752</td>\n",
       "      <td>purchase of the house</td>\n",
       "    </tr>\n",
       "    <tr>\n",
       "      <td>3</td>\n",
       "      <td>3</td>\n",
       "      <td>-4124.747207</td>\n",
       "      <td>32</td>\n",
       "      <td>secondary education</td>\n",
       "      <td>1</td>\n",
       "      <td>married</td>\n",
       "      <td>0</td>\n",
       "      <td>M</td>\n",
       "      <td>employee</td>\n",
       "      <td>0</td>\n",
       "      <td>42820.568</td>\n",
       "      <td>supplementary education</td>\n",
       "    </tr>\n",
       "    <tr>\n",
       "      <td>4</td>\n",
       "      <td>0</td>\n",
       "      <td>340266.072047</td>\n",
       "      <td>53</td>\n",
       "      <td>secondary education</td>\n",
       "      <td>1</td>\n",
       "      <td>civil partnership</td>\n",
       "      <td>1</td>\n",
       "      <td>F</td>\n",
       "      <td>retiree</td>\n",
       "      <td>0</td>\n",
       "      <td>25378.572</td>\n",
       "      <td>to have a wedding</td>\n",
       "    </tr>\n",
       "  </tbody>\n",
       "</table>\n",
       "</div>"
      ],
      "text/plain": [
       "   children  days_employed  dob_years            education  education_id  \\\n",
       "0         1   -8437.673028         42    bachelor's degree             0   \n",
       "1         1   -4024.803754         36  secondary education             1   \n",
       "2         0   -5623.422610         33  Secondary Education             1   \n",
       "3         3   -4124.747207         32  secondary education             1   \n",
       "4         0  340266.072047         53  secondary education             1   \n",
       "\n",
       "       family_status  family_status_id gender income_type  debt  total_income  \\\n",
       "0            married                 0      F    employee     0     40620.102   \n",
       "1            married                 0      F    employee     0     17932.802   \n",
       "2            married                 0      M    employee     0     23341.752   \n",
       "3            married                 0      M    employee     0     42820.568   \n",
       "4  civil partnership                 1      F     retiree     0     25378.572   \n",
       "\n",
       "                   purpose  \n",
       "0    purchase of the house  \n",
       "1             car purchase  \n",
       "2    purchase of the house  \n",
       "3  supplementary education  \n",
       "4        to have a wedding  "
      ]
     },
     "execution_count": 2,
     "metadata": {},
     "output_type": "execute_result"
    }
   ],
   "source": [
    "import pandas as pd\n",
    "credit_scor = pd.read_csv('/datasets/credit_scoring_eng.csv')\n",
    "credit_scor.head()"
   ]
  },
  {
   "cell_type": "markdown",
   "metadata": {},
   "source": [
    "<div class=\"alert alert-info\" style=\"border:solid blue 2px; padding: 20px\"> <b>Student comment:</b> I tried to refer from here to a comment you wrote to me in section <strong><em> 1.1. Conclusions </em></strong> </div>"
   ]
  },
  {
   "cell_type": "markdown",
   "metadata": {},
   "source": [
    "# Checking the data by columns:"
   ]
  },
  {
   "cell_type": "code",
   "execution_count": 3,
   "metadata": {},
   "outputs": [
    {
     "data": {
      "text/plain": [
       " 0     14149\n",
       " 1      4818\n",
       " 2      2055\n",
       " 3       330\n",
       " 20       76\n",
       "-1        47\n",
       " 4        41\n",
       " 5         9\n",
       "Name: children, dtype: int64"
      ]
     },
     "execution_count": 3,
     "metadata": {},
     "output_type": "execute_result"
    }
   ],
   "source": [
    "#Check how many unique values there are in children column\n",
    "credit_scor['children'].value_counts()"
   ]
  },
  {
   "cell_type": "code",
   "execution_count": 4,
   "metadata": {},
   "outputs": [
    {
     "data": {
      "text/plain": [
       "0.5714285714285714"
      ]
     },
     "execution_count": 4,
     "metadata": {},
     "output_type": "execute_result"
    }
   ],
   "source": [
    "#Since there are illogical values, check what percentage they constitute of all people\n",
    "illogical_values = ((76+47)/21525)*100\n",
    "illogical_values"
   ]
  },
  {
   "cell_type": "markdown",
   "metadata": {},
   "source": [
    "Test result:\n",
    "* In the 'children' column there are some with 20 children and some with -1 child. These values together constitute 0.57% of the total values."
   ]
  },
  {
   "cell_type": "code",
   "execution_count": 5,
   "metadata": {},
   "outputs": [
    {
     "data": {
      "text/plain": [
       "children               0\n",
       "days_employed       2174\n",
       "dob_years              0\n",
       "education              0\n",
       "education_id           0\n",
       "family_status          0\n",
       "family_status_id       0\n",
       "gender                 0\n",
       "income_type            0\n",
       "debt                   0\n",
       "total_income        2174\n",
       "purpose                0\n",
       "dtype: int64"
      ]
     },
     "execution_count": 5,
     "metadata": {},
     "output_type": "execute_result"
    }
   ],
   "source": [
    "#Check where missing values are\n",
    "credit_scor.isnull().sum()"
   ]
  },
  {
   "cell_type": "markdown",
   "metadata": {},
   "source": [
    "Test result:\n",
    "* Columns 'days_employed' and 'total_income' contain NaN values"
   ]
  },
  {
   "cell_type": "code",
   "execution_count": 6,
   "metadata": {},
   "outputs": [
    {
     "name": "stdout",
     "output_type": "stream",
     "text": [
      "<class 'pandas.core.frame.DataFrame'>\n",
      "RangeIndex: 21525 entries, 0 to 21524\n",
      "Data columns (total 12 columns):\n",
      "children            21525 non-null int64\n",
      "days_employed       19351 non-null float64\n",
      "dob_years           21525 non-null int64\n",
      "education           21525 non-null object\n",
      "education_id        21525 non-null int64\n",
      "family_status       21525 non-null object\n",
      "family_status_id    21525 non-null int64\n",
      "gender              21525 non-null object\n",
      "income_type         21525 non-null object\n",
      "debt                21525 non-null int64\n",
      "total_income        19351 non-null float64\n",
      "purpose             21525 non-null object\n",
      "dtypes: float64(2), int64(5), object(5)\n",
      "memory usage: 2.0+ MB\n"
     ]
    }
   ],
   "source": [
    "#Check the type of each column\n",
    "credit_scor.info()"
   ]
  },
  {
   "cell_type": "markdown",
   "metadata": {},
   "source": [
    "Test result:\n",
    "* In the 'days_employed' column the value appears in float even though days should be an integer.\n",
    "* Some cells contain negative values (from looking at the table).\n",
    "* Sometimes the number of working days is greater than a person's age (from looking at the table)."
   ]
  },
  {
   "cell_type": "code",
   "execution_count": 7,
   "metadata": {},
   "outputs": [
    {
     "data": {
      "text/plain": [
       "dob_years\n",
       "0      68\n",
       "19      0\n",
       "20     12\n",
       "21     39\n",
       "22     45\n",
       "23     98\n",
       "24    119\n",
       "25    164\n",
       "26    264\n",
       "27    350\n",
       "28    333\n",
       "29    430\n",
       "30    494\n",
       "31    538\n",
       "32    484\n",
       "33    562\n",
       "34    592\n",
       "35    581\n",
       "36    543\n",
       "37    605\n",
       "38    523\n",
       "39    464\n",
       "40    511\n",
       "41    415\n",
       "42    453\n",
       "43    321\n",
       "44    309\n",
       "45    281\n",
       "46    249\n",
       "47    172\n",
       "48    158\n",
       "49    181\n",
       "50    188\n",
       "51    123\n",
       "52    101\n",
       "53     83\n",
       "54     90\n",
       "55     62\n",
       "56    144\n",
       "57     58\n",
       "58     42\n",
       "59     84\n",
       "60     49\n",
       "61     50\n",
       "62     51\n",
       "63     18\n",
       "64     41\n",
       "65      6\n",
       "66      8\n",
       "67      5\n",
       "68      6\n",
       "69     23\n",
       "70      5\n",
       "71      1\n",
       "72      3\n",
       "73      1\n",
       "74      0\n",
       "75      0\n",
       "Name: children, dtype: int64"
      ]
     },
     "execution_count": 7,
     "metadata": {},
     "output_type": "execute_result"
    }
   ],
   "source": [
    "#Check for illogical values (eg age under 18 with children)\n",
    "credit_scor.groupby('dob_years')['children'].sum()"
   ]
  },
  {
   "cell_type": "markdown",
   "metadata": {},
   "source": [
    "Test result:\n",
    "* Some of those who are 0 years old, have children"
   ]
  },
  {
   "cell_type": "code",
   "execution_count": 9,
   "metadata": {},
   "outputs": [
    {
     "data": {
      "text/plain": [
       "secondary education    13750\n",
       "bachelor's degree       4718\n",
       "SECONDARY EDUCATION      772\n",
       "Secondary Education      711\n",
       "some college             668\n",
       "BACHELOR'S DEGREE        274\n",
       "Bachelor's Degree        268\n",
       "primary education        250\n",
       "Some College              47\n",
       "SOME COLLEGE              29\n",
       "PRIMARY EDUCATION         17\n",
       "Primary Education         15\n",
       "graduate degree            4\n",
       "Graduate Degree            1\n",
       "GRADUATE DEGREE            1\n",
       "Name: education, dtype: int64"
      ]
     },
     "execution_count": 9,
     "metadata": {},
     "output_type": "execute_result"
    }
   ],
   "source": [
    "#Check the different levels of education\n",
    "credit_scor['education'].value_counts()"
   ]
  },
  {
   "cell_type": "markdown",
   "metadata": {},
   "source": [
    "Test result:\n",
    "* In the 'education' column has a total of 5 types of education, but since there are entries with uppercase and lowercase letters it is considered that there are many more types of education."
   ]
  },
  {
   "cell_type": "code",
   "execution_count": 10,
   "metadata": {},
   "outputs": [
    {
     "data": {
      "text/plain": [
       "wedding ceremony                            797\n",
       "having a wedding                            777\n",
       "to have a wedding                           774\n",
       "real estate transactions                    676\n",
       "buy commercial real estate                  664\n",
       "housing transactions                        653\n",
       "buying property for renting out             653\n",
       "transactions with commercial real estate    651\n",
       "housing                                     647\n",
       "purchase of the house                       647\n",
       "purchase of the house for my family         641\n",
       "construction of own property                635\n",
       "property                                    634\n",
       "transactions with my real estate            630\n",
       "building a real estate                      626\n",
       "buy real estate                             624\n",
       "building a property                         620\n",
       "purchase of my own house                    620\n",
       "housing renovation                          612\n",
       "buy residential real estate                 607\n",
       "buying my own car                           505\n",
       "going to university                         496\n",
       "car                                         495\n",
       "second-hand car purchase                    489\n",
       "to own a car                                480\n",
       "buying a second-hand car                    479\n",
       "cars                                        478\n",
       "to buy a car                                472\n",
       "car purchase                                462\n",
       "supplementary education                     462\n",
       "purchase of a car                           455\n",
       "university education                        453\n",
       "to get a supplementary education            447\n",
       "education                                   447\n",
       "getting an education                        443\n",
       "profile education                           436\n",
       "getting higher education                    426\n",
       "to become educated                          412\n",
       "Name: purpose, dtype: int64"
      ]
     },
     "execution_count": 10,
     "metadata": {},
     "output_type": "execute_result"
    }
   ],
   "source": [
    "#Check the different types of purpose\n",
    "credit_scor['purpose'].value_counts()"
   ]
  },
  {
   "cell_type": "markdown",
   "metadata": {},
   "source": [
    "Test result:\n",
    "* The 'purpose' column has many types of purposes, but if we collect all the purposes we can see that in total there are only 4 purposes written in different variations (wedding, car, education, housing)."
   ]
  },
  {
   "cell_type": "code",
   "execution_count": 11,
   "metadata": {},
   "outputs": [
    {
     "data": {
      "text/html": [
       "<div>\n",
       "<style scoped>\n",
       "    .dataframe tbody tr th:only-of-type {\n",
       "        vertical-align: middle;\n",
       "    }\n",
       "\n",
       "    .dataframe tbody tr th {\n",
       "        vertical-align: top;\n",
       "    }\n",
       "\n",
       "    .dataframe thead th {\n",
       "        text-align: right;\n",
       "    }\n",
       "</style>\n",
       "<table border=\"1\" class=\"dataframe\">\n",
       "  <thead>\n",
       "    <tr style=\"text-align: right;\">\n",
       "      <th></th>\n",
       "      <th>children</th>\n",
       "      <th>days_employed</th>\n",
       "      <th>dob_years</th>\n",
       "      <th>education</th>\n",
       "      <th>education_id</th>\n",
       "      <th>family_status</th>\n",
       "      <th>family_status_id</th>\n",
       "      <th>gender</th>\n",
       "      <th>income_type</th>\n",
       "      <th>debt</th>\n",
       "      <th>total_income</th>\n",
       "      <th>purpose</th>\n",
       "    </tr>\n",
       "  </thead>\n",
       "  <tbody>\n",
       "    <tr>\n",
       "      <td>2849</td>\n",
       "      <td>0</td>\n",
       "      <td>NaN</td>\n",
       "      <td>41</td>\n",
       "      <td>secondary education</td>\n",
       "      <td>1</td>\n",
       "      <td>married</td>\n",
       "      <td>0</td>\n",
       "      <td>F</td>\n",
       "      <td>employee</td>\n",
       "      <td>0</td>\n",
       "      <td>NaN</td>\n",
       "      <td>purchase of the house for my family</td>\n",
       "    </tr>\n",
       "    <tr>\n",
       "      <td>4182</td>\n",
       "      <td>1</td>\n",
       "      <td>NaN</td>\n",
       "      <td>34</td>\n",
       "      <td>BACHELOR'S DEGREE</td>\n",
       "      <td>0</td>\n",
       "      <td>civil partnership</td>\n",
       "      <td>1</td>\n",
       "      <td>F</td>\n",
       "      <td>employee</td>\n",
       "      <td>0</td>\n",
       "      <td>NaN</td>\n",
       "      <td>wedding ceremony</td>\n",
       "    </tr>\n",
       "    <tr>\n",
       "      <td>4851</td>\n",
       "      <td>0</td>\n",
       "      <td>NaN</td>\n",
       "      <td>60</td>\n",
       "      <td>secondary education</td>\n",
       "      <td>1</td>\n",
       "      <td>civil partnership</td>\n",
       "      <td>1</td>\n",
       "      <td>F</td>\n",
       "      <td>retiree</td>\n",
       "      <td>0</td>\n",
       "      <td>NaN</td>\n",
       "      <td>wedding ceremony</td>\n",
       "    </tr>\n",
       "    <tr>\n",
       "      <td>5557</td>\n",
       "      <td>0</td>\n",
       "      <td>NaN</td>\n",
       "      <td>58</td>\n",
       "      <td>secondary education</td>\n",
       "      <td>1</td>\n",
       "      <td>civil partnership</td>\n",
       "      <td>1</td>\n",
       "      <td>F</td>\n",
       "      <td>retiree</td>\n",
       "      <td>0</td>\n",
       "      <td>NaN</td>\n",
       "      <td>to have a wedding</td>\n",
       "    </tr>\n",
       "    <tr>\n",
       "      <td>7808</td>\n",
       "      <td>0</td>\n",
       "      <td>NaN</td>\n",
       "      <td>57</td>\n",
       "      <td>secondary education</td>\n",
       "      <td>1</td>\n",
       "      <td>civil partnership</td>\n",
       "      <td>1</td>\n",
       "      <td>F</td>\n",
       "      <td>retiree</td>\n",
       "      <td>0</td>\n",
       "      <td>NaN</td>\n",
       "      <td>having a wedding</td>\n",
       "    </tr>\n",
       "    <tr>\n",
       "      <td>8583</td>\n",
       "      <td>0</td>\n",
       "      <td>NaN</td>\n",
       "      <td>58</td>\n",
       "      <td>bachelor's degree</td>\n",
       "      <td>0</td>\n",
       "      <td>unmarried</td>\n",
       "      <td>4</td>\n",
       "      <td>F</td>\n",
       "      <td>retiree</td>\n",
       "      <td>0</td>\n",
       "      <td>NaN</td>\n",
       "      <td>supplementary education</td>\n",
       "    </tr>\n",
       "    <tr>\n",
       "      <td>9238</td>\n",
       "      <td>2</td>\n",
       "      <td>NaN</td>\n",
       "      <td>34</td>\n",
       "      <td>secondary education</td>\n",
       "      <td>1</td>\n",
       "      <td>married</td>\n",
       "      <td>0</td>\n",
       "      <td>F</td>\n",
       "      <td>employee</td>\n",
       "      <td>0</td>\n",
       "      <td>NaN</td>\n",
       "      <td>buying property for renting out</td>\n",
       "    </tr>\n",
       "    <tr>\n",
       "      <td>9528</td>\n",
       "      <td>0</td>\n",
       "      <td>NaN</td>\n",
       "      <td>66</td>\n",
       "      <td>secondary education</td>\n",
       "      <td>1</td>\n",
       "      <td>widow / widower</td>\n",
       "      <td>2</td>\n",
       "      <td>F</td>\n",
       "      <td>retiree</td>\n",
       "      <td>0</td>\n",
       "      <td>NaN</td>\n",
       "      <td>transactions with my real estate</td>\n",
       "    </tr>\n",
       "    <tr>\n",
       "      <td>9627</td>\n",
       "      <td>0</td>\n",
       "      <td>NaN</td>\n",
       "      <td>56</td>\n",
       "      <td>secondary education</td>\n",
       "      <td>1</td>\n",
       "      <td>married</td>\n",
       "      <td>0</td>\n",
       "      <td>F</td>\n",
       "      <td>retiree</td>\n",
       "      <td>0</td>\n",
       "      <td>NaN</td>\n",
       "      <td>transactions with my real estate</td>\n",
       "    </tr>\n",
       "    <tr>\n",
       "      <td>10462</td>\n",
       "      <td>0</td>\n",
       "      <td>NaN</td>\n",
       "      <td>62</td>\n",
       "      <td>secondary education</td>\n",
       "      <td>1</td>\n",
       "      <td>married</td>\n",
       "      <td>0</td>\n",
       "      <td>F</td>\n",
       "      <td>retiree</td>\n",
       "      <td>0</td>\n",
       "      <td>NaN</td>\n",
       "      <td>buy commercial real estate</td>\n",
       "    </tr>\n",
       "    <tr>\n",
       "      <td>10697</td>\n",
       "      <td>0</td>\n",
       "      <td>NaN</td>\n",
       "      <td>40</td>\n",
       "      <td>secondary education</td>\n",
       "      <td>1</td>\n",
       "      <td>civil partnership</td>\n",
       "      <td>1</td>\n",
       "      <td>F</td>\n",
       "      <td>business</td>\n",
       "      <td>0</td>\n",
       "      <td>NaN</td>\n",
       "      <td>to have a wedding</td>\n",
       "    </tr>\n",
       "    <tr>\n",
       "      <td>10864</td>\n",
       "      <td>0</td>\n",
       "      <td>NaN</td>\n",
       "      <td>62</td>\n",
       "      <td>secondary education</td>\n",
       "      <td>1</td>\n",
       "      <td>married</td>\n",
       "      <td>0</td>\n",
       "      <td>F</td>\n",
       "      <td>retiree</td>\n",
       "      <td>0</td>\n",
       "      <td>NaN</td>\n",
       "      <td>housing renovation</td>\n",
       "    </tr>\n",
       "    <tr>\n",
       "      <td>10994</td>\n",
       "      <td>0</td>\n",
       "      <td>NaN</td>\n",
       "      <td>62</td>\n",
       "      <td>secondary education</td>\n",
       "      <td>1</td>\n",
       "      <td>married</td>\n",
       "      <td>0</td>\n",
       "      <td>F</td>\n",
       "      <td>retiree</td>\n",
       "      <td>0</td>\n",
       "      <td>NaN</td>\n",
       "      <td>housing renovation</td>\n",
       "    </tr>\n",
       "    <tr>\n",
       "      <td>11791</td>\n",
       "      <td>0</td>\n",
       "      <td>NaN</td>\n",
       "      <td>47</td>\n",
       "      <td>secondary education</td>\n",
       "      <td>1</td>\n",
       "      <td>married</td>\n",
       "      <td>0</td>\n",
       "      <td>F</td>\n",
       "      <td>employee</td>\n",
       "      <td>0</td>\n",
       "      <td>NaN</td>\n",
       "      <td>building a property</td>\n",
       "    </tr>\n",
       "    <tr>\n",
       "      <td>12373</td>\n",
       "      <td>0</td>\n",
       "      <td>NaN</td>\n",
       "      <td>58</td>\n",
       "      <td>secondary education</td>\n",
       "      <td>1</td>\n",
       "      <td>married</td>\n",
       "      <td>0</td>\n",
       "      <td>M</td>\n",
       "      <td>employee</td>\n",
       "      <td>0</td>\n",
       "      <td>NaN</td>\n",
       "      <td>buy real estate</td>\n",
       "    </tr>\n",
       "    <tr>\n",
       "      <td>12375</td>\n",
       "      <td>1</td>\n",
       "      <td>NaN</td>\n",
       "      <td>37</td>\n",
       "      <td>secondary education</td>\n",
       "      <td>1</td>\n",
       "      <td>married</td>\n",
       "      <td>0</td>\n",
       "      <td>F</td>\n",
       "      <td>employee</td>\n",
       "      <td>0</td>\n",
       "      <td>NaN</td>\n",
       "      <td>buy real estate</td>\n",
       "    </tr>\n",
       "    <tr>\n",
       "      <td>12736</td>\n",
       "      <td>0</td>\n",
       "      <td>NaN</td>\n",
       "      <td>59</td>\n",
       "      <td>secondary education</td>\n",
       "      <td>1</td>\n",
       "      <td>married</td>\n",
       "      <td>0</td>\n",
       "      <td>F</td>\n",
       "      <td>retiree</td>\n",
       "      <td>0</td>\n",
       "      <td>NaN</td>\n",
       "      <td>to become educated</td>\n",
       "    </tr>\n",
       "    <tr>\n",
       "      <td>13025</td>\n",
       "      <td>1</td>\n",
       "      <td>NaN</td>\n",
       "      <td>44</td>\n",
       "      <td>secondary education</td>\n",
       "      <td>1</td>\n",
       "      <td>married</td>\n",
       "      <td>0</td>\n",
       "      <td>F</td>\n",
       "      <td>employee</td>\n",
       "      <td>0</td>\n",
       "      <td>NaN</td>\n",
       "      <td>second-hand car purchase</td>\n",
       "    </tr>\n",
       "    <tr>\n",
       "      <td>13639</td>\n",
       "      <td>0</td>\n",
       "      <td>NaN</td>\n",
       "      <td>64</td>\n",
       "      <td>secondary education</td>\n",
       "      <td>1</td>\n",
       "      <td>married</td>\n",
       "      <td>0</td>\n",
       "      <td>F</td>\n",
       "      <td>retiree</td>\n",
       "      <td>0</td>\n",
       "      <td>NaN</td>\n",
       "      <td>car</td>\n",
       "    </tr>\n",
       "    <tr>\n",
       "      <td>13773</td>\n",
       "      <td>0</td>\n",
       "      <td>NaN</td>\n",
       "      <td>35</td>\n",
       "      <td>secondary education</td>\n",
       "      <td>1</td>\n",
       "      <td>civil partnership</td>\n",
       "      <td>1</td>\n",
       "      <td>F</td>\n",
       "      <td>employee</td>\n",
       "      <td>0</td>\n",
       "      <td>NaN</td>\n",
       "      <td>to have a wedding</td>\n",
       "    </tr>\n",
       "    <tr>\n",
       "      <td>13878</td>\n",
       "      <td>1</td>\n",
       "      <td>NaN</td>\n",
       "      <td>31</td>\n",
       "      <td>secondary education</td>\n",
       "      <td>1</td>\n",
       "      <td>married</td>\n",
       "      <td>0</td>\n",
       "      <td>F</td>\n",
       "      <td>business</td>\n",
       "      <td>0</td>\n",
       "      <td>NaN</td>\n",
       "      <td>purchase of the house</td>\n",
       "    </tr>\n",
       "    <tr>\n",
       "      <td>13942</td>\n",
       "      <td>0</td>\n",
       "      <td>NaN</td>\n",
       "      <td>44</td>\n",
       "      <td>secondary education</td>\n",
       "      <td>1</td>\n",
       "      <td>married</td>\n",
       "      <td>0</td>\n",
       "      <td>F</td>\n",
       "      <td>employee</td>\n",
       "      <td>0</td>\n",
       "      <td>NaN</td>\n",
       "      <td>car purchase</td>\n",
       "    </tr>\n",
       "    <tr>\n",
       "      <td>14432</td>\n",
       "      <td>2</td>\n",
       "      <td>NaN</td>\n",
       "      <td>36</td>\n",
       "      <td>bachelor's degree</td>\n",
       "      <td>0</td>\n",
       "      <td>married</td>\n",
       "      <td>0</td>\n",
       "      <td>F</td>\n",
       "      <td>civil servant</td>\n",
       "      <td>0</td>\n",
       "      <td>NaN</td>\n",
       "      <td>getting an education</td>\n",
       "    </tr>\n",
       "    <tr>\n",
       "      <td>14832</td>\n",
       "      <td>0</td>\n",
       "      <td>NaN</td>\n",
       "      <td>50</td>\n",
       "      <td>secondary education</td>\n",
       "      <td>1</td>\n",
       "      <td>unmarried</td>\n",
       "      <td>4</td>\n",
       "      <td>F</td>\n",
       "      <td>employee</td>\n",
       "      <td>0</td>\n",
       "      <td>NaN</td>\n",
       "      <td>property</td>\n",
       "    </tr>\n",
       "    <tr>\n",
       "      <td>15091</td>\n",
       "      <td>0</td>\n",
       "      <td>NaN</td>\n",
       "      <td>58</td>\n",
       "      <td>secondary education</td>\n",
       "      <td>1</td>\n",
       "      <td>civil partnership</td>\n",
       "      <td>1</td>\n",
       "      <td>M</td>\n",
       "      <td>employee</td>\n",
       "      <td>0</td>\n",
       "      <td>NaN</td>\n",
       "      <td>having a wedding</td>\n",
       "    </tr>\n",
       "    <tr>\n",
       "      <td>15188</td>\n",
       "      <td>0</td>\n",
       "      <td>NaN</td>\n",
       "      <td>60</td>\n",
       "      <td>secondary education</td>\n",
       "      <td>1</td>\n",
       "      <td>married</td>\n",
       "      <td>0</td>\n",
       "      <td>M</td>\n",
       "      <td>employee</td>\n",
       "      <td>0</td>\n",
       "      <td>NaN</td>\n",
       "      <td>buy real estate</td>\n",
       "    </tr>\n",
       "    <tr>\n",
       "      <td>15273</td>\n",
       "      <td>0</td>\n",
       "      <td>NaN</td>\n",
       "      <td>57</td>\n",
       "      <td>secondary education</td>\n",
       "      <td>1</td>\n",
       "      <td>civil partnership</td>\n",
       "      <td>1</td>\n",
       "      <td>F</td>\n",
       "      <td>retiree</td>\n",
       "      <td>0</td>\n",
       "      <td>NaN</td>\n",
       "      <td>wedding ceremony</td>\n",
       "    </tr>\n",
       "    <tr>\n",
       "      <td>16176</td>\n",
       "      <td>0</td>\n",
       "      <td>NaN</td>\n",
       "      <td>47</td>\n",
       "      <td>secondary education</td>\n",
       "      <td>1</td>\n",
       "      <td>married</td>\n",
       "      <td>0</td>\n",
       "      <td>F</td>\n",
       "      <td>employee</td>\n",
       "      <td>0</td>\n",
       "      <td>NaN</td>\n",
       "      <td>housing renovation</td>\n",
       "    </tr>\n",
       "    <tr>\n",
       "      <td>16378</td>\n",
       "      <td>0</td>\n",
       "      <td>NaN</td>\n",
       "      <td>46</td>\n",
       "      <td>secondary education</td>\n",
       "      <td>1</td>\n",
       "      <td>married</td>\n",
       "      <td>0</td>\n",
       "      <td>F</td>\n",
       "      <td>employee</td>\n",
       "      <td>0</td>\n",
       "      <td>NaN</td>\n",
       "      <td>university education</td>\n",
       "    </tr>\n",
       "    <tr>\n",
       "      <td>16902</td>\n",
       "      <td>2</td>\n",
       "      <td>NaN</td>\n",
       "      <td>39</td>\n",
       "      <td>secondary education</td>\n",
       "      <td>1</td>\n",
       "      <td>civil partnership</td>\n",
       "      <td>1</td>\n",
       "      <td>F</td>\n",
       "      <td>employee</td>\n",
       "      <td>0</td>\n",
       "      <td>NaN</td>\n",
       "      <td>to have a wedding</td>\n",
       "    </tr>\n",
       "    <tr>\n",
       "      <td>16904</td>\n",
       "      <td>1</td>\n",
       "      <td>NaN</td>\n",
       "      <td>32</td>\n",
       "      <td>bachelor's degree</td>\n",
       "      <td>0</td>\n",
       "      <td>married</td>\n",
       "      <td>0</td>\n",
       "      <td>F</td>\n",
       "      <td>employee</td>\n",
       "      <td>0</td>\n",
       "      <td>NaN</td>\n",
       "      <td>buying a second-hand car</td>\n",
       "    </tr>\n",
       "    <tr>\n",
       "      <td>17379</td>\n",
       "      <td>0</td>\n",
       "      <td>NaN</td>\n",
       "      <td>54</td>\n",
       "      <td>bachelor's degree</td>\n",
       "      <td>0</td>\n",
       "      <td>married</td>\n",
       "      <td>0</td>\n",
       "      <td>M</td>\n",
       "      <td>business</td>\n",
       "      <td>0</td>\n",
       "      <td>NaN</td>\n",
       "      <td>transactions with commercial real estate</td>\n",
       "    </tr>\n",
       "    <tr>\n",
       "      <td>17755</td>\n",
       "      <td>1</td>\n",
       "      <td>NaN</td>\n",
       "      <td>43</td>\n",
       "      <td>secondary education</td>\n",
       "      <td>1</td>\n",
       "      <td>married</td>\n",
       "      <td>0</td>\n",
       "      <td>M</td>\n",
       "      <td>employee</td>\n",
       "      <td>0</td>\n",
       "      <td>NaN</td>\n",
       "      <td>to become educated</td>\n",
       "    </tr>\n",
       "    <tr>\n",
       "      <td>17774</td>\n",
       "      <td>1</td>\n",
       "      <td>NaN</td>\n",
       "      <td>40</td>\n",
       "      <td>secondary education</td>\n",
       "      <td>1</td>\n",
       "      <td>civil partnership</td>\n",
       "      <td>1</td>\n",
       "      <td>F</td>\n",
       "      <td>business</td>\n",
       "      <td>0</td>\n",
       "      <td>NaN</td>\n",
       "      <td>building a real estate</td>\n",
       "    </tr>\n",
       "    <tr>\n",
       "      <td>18328</td>\n",
       "      <td>0</td>\n",
       "      <td>NaN</td>\n",
       "      <td>29</td>\n",
       "      <td>bachelor's degree</td>\n",
       "      <td>0</td>\n",
       "      <td>married</td>\n",
       "      <td>0</td>\n",
       "      <td>M</td>\n",
       "      <td>employee</td>\n",
       "      <td>0</td>\n",
       "      <td>NaN</td>\n",
       "      <td>buy residential real estate</td>\n",
       "    </tr>\n",
       "    <tr>\n",
       "      <td>18349</td>\n",
       "      <td>1</td>\n",
       "      <td>NaN</td>\n",
       "      <td>30</td>\n",
       "      <td>bachelor's degree</td>\n",
       "      <td>0</td>\n",
       "      <td>married</td>\n",
       "      <td>0</td>\n",
       "      <td>F</td>\n",
       "      <td>civil servant</td>\n",
       "      <td>0</td>\n",
       "      <td>NaN</td>\n",
       "      <td>purchase of the house for my family</td>\n",
       "    </tr>\n",
       "    <tr>\n",
       "      <td>18428</td>\n",
       "      <td>0</td>\n",
       "      <td>NaN</td>\n",
       "      <td>64</td>\n",
       "      <td>secondary education</td>\n",
       "      <td>1</td>\n",
       "      <td>married</td>\n",
       "      <td>0</td>\n",
       "      <td>F</td>\n",
       "      <td>retiree</td>\n",
       "      <td>0</td>\n",
       "      <td>NaN</td>\n",
       "      <td>housing</td>\n",
       "    </tr>\n",
       "    <tr>\n",
       "      <td>18521</td>\n",
       "      <td>0</td>\n",
       "      <td>NaN</td>\n",
       "      <td>56</td>\n",
       "      <td>secondary education</td>\n",
       "      <td>1</td>\n",
       "      <td>civil partnership</td>\n",
       "      <td>1</td>\n",
       "      <td>F</td>\n",
       "      <td>employee</td>\n",
       "      <td>0</td>\n",
       "      <td>NaN</td>\n",
       "      <td>to have a wedding</td>\n",
       "    </tr>\n",
       "    <tr>\n",
       "      <td>18563</td>\n",
       "      <td>0</td>\n",
       "      <td>NaN</td>\n",
       "      <td>54</td>\n",
       "      <td>secondary education</td>\n",
       "      <td>1</td>\n",
       "      <td>married</td>\n",
       "      <td>0</td>\n",
       "      <td>F</td>\n",
       "      <td>employee</td>\n",
       "      <td>0</td>\n",
       "      <td>NaN</td>\n",
       "      <td>transactions with my real estate</td>\n",
       "    </tr>\n",
       "    <tr>\n",
       "      <td>18755</td>\n",
       "      <td>0</td>\n",
       "      <td>NaN</td>\n",
       "      <td>58</td>\n",
       "      <td>secondary education</td>\n",
       "      <td>1</td>\n",
       "      <td>married</td>\n",
       "      <td>0</td>\n",
       "      <td>F</td>\n",
       "      <td>retiree</td>\n",
       "      <td>0</td>\n",
       "      <td>NaN</td>\n",
       "      <td>to become educated</td>\n",
       "    </tr>\n",
       "    <tr>\n",
       "      <td>19041</td>\n",
       "      <td>0</td>\n",
       "      <td>NaN</td>\n",
       "      <td>56</td>\n",
       "      <td>secondary education</td>\n",
       "      <td>1</td>\n",
       "      <td>civil partnership</td>\n",
       "      <td>1</td>\n",
       "      <td>F</td>\n",
       "      <td>employee</td>\n",
       "      <td>0</td>\n",
       "      <td>NaN</td>\n",
       "      <td>having a wedding</td>\n",
       "    </tr>\n",
       "    <tr>\n",
       "      <td>19184</td>\n",
       "      <td>0</td>\n",
       "      <td>NaN</td>\n",
       "      <td>46</td>\n",
       "      <td>secondary education</td>\n",
       "      <td>1</td>\n",
       "      <td>married</td>\n",
       "      <td>0</td>\n",
       "      <td>F</td>\n",
       "      <td>employee</td>\n",
       "      <td>0</td>\n",
       "      <td>NaN</td>\n",
       "      <td>to own a car</td>\n",
       "    </tr>\n",
       "    <tr>\n",
       "      <td>19321</td>\n",
       "      <td>0</td>\n",
       "      <td>NaN</td>\n",
       "      <td>23</td>\n",
       "      <td>secondary education</td>\n",
       "      <td>1</td>\n",
       "      <td>unmarried</td>\n",
       "      <td>4</td>\n",
       "      <td>F</td>\n",
       "      <td>employee</td>\n",
       "      <td>0</td>\n",
       "      <td>NaN</td>\n",
       "      <td>second-hand car purchase</td>\n",
       "    </tr>\n",
       "    <tr>\n",
       "      <td>19387</td>\n",
       "      <td>0</td>\n",
       "      <td>NaN</td>\n",
       "      <td>38</td>\n",
       "      <td>bachelor's degree</td>\n",
       "      <td>0</td>\n",
       "      <td>civil partnership</td>\n",
       "      <td>1</td>\n",
       "      <td>F</td>\n",
       "      <td>business</td>\n",
       "      <td>0</td>\n",
       "      <td>NaN</td>\n",
       "      <td>having a wedding</td>\n",
       "    </tr>\n",
       "    <tr>\n",
       "      <td>19688</td>\n",
       "      <td>0</td>\n",
       "      <td>NaN</td>\n",
       "      <td>61</td>\n",
       "      <td>secondary education</td>\n",
       "      <td>1</td>\n",
       "      <td>married</td>\n",
       "      <td>0</td>\n",
       "      <td>F</td>\n",
       "      <td>retiree</td>\n",
       "      <td>0</td>\n",
       "      <td>NaN</td>\n",
       "      <td>real estate transactions</td>\n",
       "    </tr>\n",
       "    <tr>\n",
       "      <td>19832</td>\n",
       "      <td>0</td>\n",
       "      <td>NaN</td>\n",
       "      <td>48</td>\n",
       "      <td>secondary education</td>\n",
       "      <td>1</td>\n",
       "      <td>married</td>\n",
       "      <td>0</td>\n",
       "      <td>F</td>\n",
       "      <td>employee</td>\n",
       "      <td>0</td>\n",
       "      <td>NaN</td>\n",
       "      <td>housing renovation</td>\n",
       "    </tr>\n",
       "    <tr>\n",
       "      <td>19946</td>\n",
       "      <td>0</td>\n",
       "      <td>NaN</td>\n",
       "      <td>57</td>\n",
       "      <td>secondary education</td>\n",
       "      <td>1</td>\n",
       "      <td>married</td>\n",
       "      <td>0</td>\n",
       "      <td>F</td>\n",
       "      <td>employee</td>\n",
       "      <td>0</td>\n",
       "      <td>NaN</td>\n",
       "      <td>second-hand car purchase</td>\n",
       "    </tr>\n",
       "    <tr>\n",
       "      <td>20116</td>\n",
       "      <td>0</td>\n",
       "      <td>NaN</td>\n",
       "      <td>57</td>\n",
       "      <td>secondary education</td>\n",
       "      <td>1</td>\n",
       "      <td>civil partnership</td>\n",
       "      <td>1</td>\n",
       "      <td>M</td>\n",
       "      <td>retiree</td>\n",
       "      <td>0</td>\n",
       "      <td>NaN</td>\n",
       "      <td>wedding ceremony</td>\n",
       "    </tr>\n",
       "    <tr>\n",
       "      <td>20165</td>\n",
       "      <td>0</td>\n",
       "      <td>NaN</td>\n",
       "      <td>42</td>\n",
       "      <td>secondary education</td>\n",
       "      <td>1</td>\n",
       "      <td>married</td>\n",
       "      <td>0</td>\n",
       "      <td>F</td>\n",
       "      <td>employee</td>\n",
       "      <td>0</td>\n",
       "      <td>NaN</td>\n",
       "      <td>purchase of the house for my family</td>\n",
       "    </tr>\n",
       "    <tr>\n",
       "      <td>20702</td>\n",
       "      <td>0</td>\n",
       "      <td>NaN</td>\n",
       "      <td>64</td>\n",
       "      <td>secondary education</td>\n",
       "      <td>1</td>\n",
       "      <td>married</td>\n",
       "      <td>0</td>\n",
       "      <td>F</td>\n",
       "      <td>retiree</td>\n",
       "      <td>0</td>\n",
       "      <td>NaN</td>\n",
       "      <td>supplementary education</td>\n",
       "    </tr>\n",
       "    <tr>\n",
       "      <td>21032</td>\n",
       "      <td>0</td>\n",
       "      <td>NaN</td>\n",
       "      <td>60</td>\n",
       "      <td>secondary education</td>\n",
       "      <td>1</td>\n",
       "      <td>married</td>\n",
       "      <td>0</td>\n",
       "      <td>F</td>\n",
       "      <td>retiree</td>\n",
       "      <td>0</td>\n",
       "      <td>NaN</td>\n",
       "      <td>to become educated</td>\n",
       "    </tr>\n",
       "    <tr>\n",
       "      <td>21132</td>\n",
       "      <td>0</td>\n",
       "      <td>NaN</td>\n",
       "      <td>47</td>\n",
       "      <td>secondary education</td>\n",
       "      <td>1</td>\n",
       "      <td>married</td>\n",
       "      <td>0</td>\n",
       "      <td>F</td>\n",
       "      <td>employee</td>\n",
       "      <td>0</td>\n",
       "      <td>NaN</td>\n",
       "      <td>housing renovation</td>\n",
       "    </tr>\n",
       "    <tr>\n",
       "      <td>21281</td>\n",
       "      <td>1</td>\n",
       "      <td>NaN</td>\n",
       "      <td>30</td>\n",
       "      <td>bachelor's degree</td>\n",
       "      <td>0</td>\n",
       "      <td>married</td>\n",
       "      <td>0</td>\n",
       "      <td>F</td>\n",
       "      <td>employee</td>\n",
       "      <td>0</td>\n",
       "      <td>NaN</td>\n",
       "      <td>buy commercial real estate</td>\n",
       "    </tr>\n",
       "    <tr>\n",
       "      <td>21415</td>\n",
       "      <td>0</td>\n",
       "      <td>NaN</td>\n",
       "      <td>54</td>\n",
       "      <td>secondary education</td>\n",
       "      <td>1</td>\n",
       "      <td>married</td>\n",
       "      <td>0</td>\n",
       "      <td>F</td>\n",
       "      <td>retiree</td>\n",
       "      <td>0</td>\n",
       "      <td>NaN</td>\n",
       "      <td>housing transactions</td>\n",
       "    </tr>\n",
       "  </tbody>\n",
       "</table>\n",
       "</div>"
      ],
      "text/plain": [
       "       children  days_employed  dob_years            education  education_id  \\\n",
       "2849          0            NaN         41  secondary education             1   \n",
       "4182          1            NaN         34    BACHELOR'S DEGREE             0   \n",
       "4851          0            NaN         60  secondary education             1   \n",
       "5557          0            NaN         58  secondary education             1   \n",
       "7808          0            NaN         57  secondary education             1   \n",
       "8583          0            NaN         58    bachelor's degree             0   \n",
       "9238          2            NaN         34  secondary education             1   \n",
       "9528          0            NaN         66  secondary education             1   \n",
       "9627          0            NaN         56  secondary education             1   \n",
       "10462         0            NaN         62  secondary education             1   \n",
       "10697         0            NaN         40  secondary education             1   \n",
       "10864         0            NaN         62  secondary education             1   \n",
       "10994         0            NaN         62  secondary education             1   \n",
       "11791         0            NaN         47  secondary education             1   \n",
       "12373         0            NaN         58  secondary education             1   \n",
       "12375         1            NaN         37  secondary education             1   \n",
       "12736         0            NaN         59  secondary education             1   \n",
       "13025         1            NaN         44  secondary education             1   \n",
       "13639         0            NaN         64  secondary education             1   \n",
       "13773         0            NaN         35  secondary education             1   \n",
       "13878         1            NaN         31  secondary education             1   \n",
       "13942         0            NaN         44  secondary education             1   \n",
       "14432         2            NaN         36    bachelor's degree             0   \n",
       "14832         0            NaN         50  secondary education             1   \n",
       "15091         0            NaN         58  secondary education             1   \n",
       "15188         0            NaN         60  secondary education             1   \n",
       "15273         0            NaN         57  secondary education             1   \n",
       "16176         0            NaN         47  secondary education             1   \n",
       "16378         0            NaN         46  secondary education             1   \n",
       "16902         2            NaN         39  secondary education             1   \n",
       "16904         1            NaN         32    bachelor's degree             0   \n",
       "17379         0            NaN         54    bachelor's degree             0   \n",
       "17755         1            NaN         43  secondary education             1   \n",
       "17774         1            NaN         40  secondary education             1   \n",
       "18328         0            NaN         29    bachelor's degree             0   \n",
       "18349         1            NaN         30    bachelor's degree             0   \n",
       "18428         0            NaN         64  secondary education             1   \n",
       "18521         0            NaN         56  secondary education             1   \n",
       "18563         0            NaN         54  secondary education             1   \n",
       "18755         0            NaN         58  secondary education             1   \n",
       "19041         0            NaN         56  secondary education             1   \n",
       "19184         0            NaN         46  secondary education             1   \n",
       "19321         0            NaN         23  secondary education             1   \n",
       "19387         0            NaN         38    bachelor's degree             0   \n",
       "19688         0            NaN         61  secondary education             1   \n",
       "19832         0            NaN         48  secondary education             1   \n",
       "19946         0            NaN         57  secondary education             1   \n",
       "20116         0            NaN         57  secondary education             1   \n",
       "20165         0            NaN         42  secondary education             1   \n",
       "20702         0            NaN         64  secondary education             1   \n",
       "21032         0            NaN         60  secondary education             1   \n",
       "21132         0            NaN         47  secondary education             1   \n",
       "21281         1            NaN         30    bachelor's degree             0   \n",
       "21415         0            NaN         54  secondary education             1   \n",
       "\n",
       "           family_status  family_status_id gender    income_type  debt  \\\n",
       "2849             married                 0      F       employee     0   \n",
       "4182   civil partnership                 1      F       employee     0   \n",
       "4851   civil partnership                 1      F        retiree     0   \n",
       "5557   civil partnership                 1      F        retiree     0   \n",
       "7808   civil partnership                 1      F        retiree     0   \n",
       "8583           unmarried                 4      F        retiree     0   \n",
       "9238             married                 0      F       employee     0   \n",
       "9528     widow / widower                 2      F        retiree     0   \n",
       "9627             married                 0      F        retiree     0   \n",
       "10462            married                 0      F        retiree     0   \n",
       "10697  civil partnership                 1      F       business     0   \n",
       "10864            married                 0      F        retiree     0   \n",
       "10994            married                 0      F        retiree     0   \n",
       "11791            married                 0      F       employee     0   \n",
       "12373            married                 0      M       employee     0   \n",
       "12375            married                 0      F       employee     0   \n",
       "12736            married                 0      F        retiree     0   \n",
       "13025            married                 0      F       employee     0   \n",
       "13639            married                 0      F        retiree     0   \n",
       "13773  civil partnership                 1      F       employee     0   \n",
       "13878            married                 0      F       business     0   \n",
       "13942            married                 0      F       employee     0   \n",
       "14432            married                 0      F  civil servant     0   \n",
       "14832          unmarried                 4      F       employee     0   \n",
       "15091  civil partnership                 1      M       employee     0   \n",
       "15188            married                 0      M       employee     0   \n",
       "15273  civil partnership                 1      F        retiree     0   \n",
       "16176            married                 0      F       employee     0   \n",
       "16378            married                 0      F       employee     0   \n",
       "16902  civil partnership                 1      F       employee     0   \n",
       "16904            married                 0      F       employee     0   \n",
       "17379            married                 0      M       business     0   \n",
       "17755            married                 0      M       employee     0   \n",
       "17774  civil partnership                 1      F       business     0   \n",
       "18328            married                 0      M       employee     0   \n",
       "18349            married                 0      F  civil servant     0   \n",
       "18428            married                 0      F        retiree     0   \n",
       "18521  civil partnership                 1      F       employee     0   \n",
       "18563            married                 0      F       employee     0   \n",
       "18755            married                 0      F        retiree     0   \n",
       "19041  civil partnership                 1      F       employee     0   \n",
       "19184            married                 0      F       employee     0   \n",
       "19321          unmarried                 4      F       employee     0   \n",
       "19387  civil partnership                 1      F       business     0   \n",
       "19688            married                 0      F        retiree     0   \n",
       "19832            married                 0      F       employee     0   \n",
       "19946            married                 0      F       employee     0   \n",
       "20116  civil partnership                 1      M        retiree     0   \n",
       "20165            married                 0      F       employee     0   \n",
       "20702            married                 0      F        retiree     0   \n",
       "21032            married                 0      F        retiree     0   \n",
       "21132            married                 0      F       employee     0   \n",
       "21281            married                 0      F       employee     0   \n",
       "21415            married                 0      F        retiree     0   \n",
       "\n",
       "       total_income                                   purpose  \n",
       "2849            NaN       purchase of the house for my family  \n",
       "4182            NaN                          wedding ceremony  \n",
       "4851            NaN                          wedding ceremony  \n",
       "5557            NaN                         to have a wedding  \n",
       "7808            NaN                          having a wedding  \n",
       "8583            NaN                   supplementary education  \n",
       "9238            NaN           buying property for renting out  \n",
       "9528            NaN          transactions with my real estate  \n",
       "9627            NaN          transactions with my real estate  \n",
       "10462           NaN                buy commercial real estate  \n",
       "10697           NaN                         to have a wedding  \n",
       "10864           NaN                        housing renovation  \n",
       "10994           NaN                        housing renovation  \n",
       "11791           NaN                       building a property  \n",
       "12373           NaN                           buy real estate  \n",
       "12375           NaN                           buy real estate  \n",
       "12736           NaN                        to become educated  \n",
       "13025           NaN                  second-hand car purchase  \n",
       "13639           NaN                                       car  \n",
       "13773           NaN                         to have a wedding  \n",
       "13878           NaN                     purchase of the house  \n",
       "13942           NaN                              car purchase  \n",
       "14432           NaN                      getting an education  \n",
       "14832           NaN                                  property  \n",
       "15091           NaN                          having a wedding  \n",
       "15188           NaN                           buy real estate  \n",
       "15273           NaN                          wedding ceremony  \n",
       "16176           NaN                        housing renovation  \n",
       "16378           NaN                      university education  \n",
       "16902           NaN                         to have a wedding  \n",
       "16904           NaN                  buying a second-hand car  \n",
       "17379           NaN  transactions with commercial real estate  \n",
       "17755           NaN                        to become educated  \n",
       "17774           NaN                    building a real estate  \n",
       "18328           NaN               buy residential real estate  \n",
       "18349           NaN       purchase of the house for my family  \n",
       "18428           NaN                                   housing  \n",
       "18521           NaN                         to have a wedding  \n",
       "18563           NaN          transactions with my real estate  \n",
       "18755           NaN                        to become educated  \n",
       "19041           NaN                          having a wedding  \n",
       "19184           NaN                              to own a car  \n",
       "19321           NaN                  second-hand car purchase  \n",
       "19387           NaN                          having a wedding  \n",
       "19688           NaN                  real estate transactions  \n",
       "19832           NaN                        housing renovation  \n",
       "19946           NaN                  second-hand car purchase  \n",
       "20116           NaN                          wedding ceremony  \n",
       "20165           NaN       purchase of the house for my family  \n",
       "20702           NaN                   supplementary education  \n",
       "21032           NaN                        to become educated  \n",
       "21132           NaN                        housing renovation  \n",
       "21281           NaN                buy commercial real estate  \n",
       "21415           NaN                      housing transactions  "
      ]
     },
     "execution_count": 11,
     "metadata": {},
     "output_type": "execute_result"
    }
   ],
   "source": [
    "#Check for repeated rows\n",
    "credit_scor.duplicated().sum()\n",
    "credit_scor[credit_scor.duplicated()]"
   ]
  },
  {
   "cell_type": "markdown",
   "metadata": {},
   "source": [
    "Test result:\n",
    "* There are 54 repeating rows"
   ]
  },
  {
   "cell_type": "markdown",
   "metadata": {},
   "source": [
    "<div style=\"border:solid orange 2px; padding: 20px\"> <b>Remarks:</b><br>\n",
    "\n",
    "*  Best practice: for convenience, it is common to keep all libraries used in code in a separate cell.\n",
    "Please visit this link, there is a collection of interesting notebooks:\n",
    "<a>https://gist.github.com/ocoyawale/54d92fd4bf92508a2a6e482b5fa480fd</a>\n",
    "        \n",
    "* I see that the numbering of the code cells does not start from 1. Before submitting the project, it is best to restart the notebook to check that all code cells are running correctly (`Kernel > Restart & Run All on the toolbar`).\n",
    "    \n",
    "</div>   "
   ]
  },
  {
   "cell_type": "markdown",
   "metadata": {},
   "source": [
    "### Summary of problem"
   ]
  },
  {
   "cell_type": "markdown",
   "metadata": {},
   "source": [
    "1. In the 'children' column there are some with 20 children and some with -1 child, using the method: credit_scor['children'].value_counts()\n",
    "\n",
    "2. Columns 'days_emplpyed' contain NaN values, using the method: credit_scor.isnull().sum()\n",
    "\n",
    "3. Three more problems in column 'days_employed': *Some cells contain negative values. *Sometimes the number of working days is greater than a person's age. *In the 'days_employed' column the value appears in float even though days should be an integer, using the method: credit_scor.info()\n",
    "\n",
    "4. In the 'dob_year' column there are people aged 0, although some have children, it does not make sense, using the method credit_scor.groupby('dob_years')['children'].sum()\n",
    "\n",
    "5. In the 'education' column has a total of 5 types of education, using the method: credit_scor['education'].value_counts() , but since there are entries with uppercase and lowercase letters it is considered that there are many more types of education.\n",
    "\n",
    "6. Column 'total_income' contain NaN values, using the method: credit_scor.isnull().sum()\n",
    "\n",
    "7. The 'purpose' column has many types of purposes using the method: credit_scor['purpose'].value_counts() , but if we collect all the purposes we can see that in total there are only 4 purposes written in different variations.\n",
    "\n",
    "8. There are duplicates rows, using the method: credit_scor.duplicated().sum()"
   ]
  },
  {
   "cell_type": "markdown",
   "metadata": {},
   "source": [
    "<div style=\"border:solid green 2px; padding: 20px\"> <b>Success:</b><br>\n",
    "    You've done a great job of sorting out the data description and writing detailed conclusions. Well done! 😊</div>    "
   ]
  },
  {
   "cell_type": "markdown",
   "metadata": {},
   "source": [
    "<div style=\"border:solid red 2px; padding: 20px\"> <b>Needs fixing:</b><br>\n",
    "  <s>  But it is better to run the code from your output in the module where you analyse the data, rather than writing it as text in the output, because different datasets can run in the same notebook and it is important to have a full set of checks. Please, fix it. </div>"
   ]
  },
  {
   "cell_type": "markdown",
   "metadata": {},
   "source": [
    "<div class=\"alert alert-info\" style=\"border:solid blue 2px; padding: 20px\"> <b>Student comment:</b> I'm not sure I understood that comment. I will try to write here what I understood: Do you actually want to see all the tests I did to find out the problems?\n",
    "If that is indeed the answer then I tried to make it above. </div>"
   ]
  },
  {
   "cell_type": "markdown",
   "metadata": {},
   "source": [
    "<div style=\"border:solid orange 2px; padding: 20px\"> <b>Remarks 2:</b><br>\n",
    "    Yes, that's right, you did well to show the checks you did to identify problems in the data. But what I meant was that it is not formally accepted to write code in the conclusions, because the conclusions are most often read by customers who don't understand anything about code.  </div>  "
   ]
  },
  {
   "cell_type": "markdown",
   "metadata": {},
   "source": [
    "## Data preprocessing"
   ]
  },
  {
   "cell_type": "markdown",
   "metadata": {},
   "source": [
    "### Processing missing values"
   ]
  },
  {
   "cell_type": "markdown",
   "metadata": {},
   "source": [
    "1. Since there are only 123 people with a number of children does not make sense, using the method: credit_scor['children'].value_counts() , it's about half a percent, I decided to delete these people from the list. \n",
    "*The reason why there are ilogic number of children can be due to misleading data entry, where 20 can be 2 and -1 can be one child."
   ]
  },
  {
   "cell_type": "code",
   "execution_count": 12,
   "metadata": {},
   "outputs": [],
   "source": [
    "credit_scor.drop(credit_scor[credit_scor['children'] == 20].index, inplace=True)\n",
    "credit_scor.drop(credit_scor[credit_scor['children'] == -1].index, inplace=True)"
   ]
  },
  {
   "cell_type": "markdown",
   "metadata": {},
   "source": [
    "<div style=\"border:solid red 2px; padding: 20px\"> <b>Needs fixing:</b><br>\n",
    "   <s> I agree that these values are wrong and should be deleted but in that case it is worth checking what percentage of this data is in the dataframe. </div>"
   ]
  },
  {
   "cell_type": "markdown",
   "metadata": {},
   "source": [
    "<div class=\"alert alert-info\" style=\"border:solid blue 2px; padding: 20px\"> <b>Student comment:</b> Agree with you. I tried to check the percentage it above. Do you have a more elegant method? </div>"
   ]
  },
  {
   "cell_type": "markdown",
   "metadata": {},
   "source": [
    "<div style=\"border:solid orange 2px; padding: 20px\"> <b>Remarks v2:</b><br>\n",
    "    I meant something like this: <code>len(credit_scor[credit_scor['children'] == 20])/ len(credit_scor['children']) </code>\n",
    "    This is to avoid accidentally deleting a large amount of data (usually not more than 5%)</div>   "
   ]
  },
  {
   "cell_type": "markdown",
   "metadata": {},
   "source": [
    "2. & 3. Despite the many problems there are in the days_employed column, it does not need its data for further analysis. I will not delete it because they may need it for other purposes.\n",
    "I will change negative values to positive ones.\n",
    "I will arrange it by filling in the missing values on mean or median days.\n",
    "*The reason there are negative values can be due to misleading data entry. The reason there are missing values could be either because the person has never worked or because he does not want to disclose this information to the bank."
   ]
  },
  {
   "cell_type": "code",
   "execution_count": 13,
   "metadata": {},
   "outputs": [],
   "source": [
    "#Change negative values to positive ones\n",
    "credit_scor['days_employed'] = credit_scor['days_employed'].abs()"
   ]
  },
  {
   "cell_type": "code",
   "execution_count": 14,
   "metadata": {},
   "outputs": [],
   "source": [
    "#Filling the missing values with mean or median days\n",
    "mean_days_employed = credit_scor['days_employed'].mean()\n",
    "median_days_employed = credit_scor['days_employed'].median()\n",
    "\n",
    "#Both results do not make much sense\n",
    "#The average shows that a person works for about 260 years, the median shows a job of 10 years"
   ]
  },
  {
   "cell_type": "code",
   "execution_count": 15,
   "metadata": {},
   "outputs": [],
   "source": [
    "#I decided to fill the missing values on average days depending on the age of the person.\n",
    "#At first I find the average number of working days depending on age\n",
    "age_dependent_work = credit_scor.groupby('dob_years')['days_employed'].median()\n",
    "\n",
    "#Then I fill the missing values with 0, so after that I will fill in the average of working days\n",
    "credit_scor['days_employed'] = credit_scor['days_employed'].fillna(0)\n",
    "\n",
    "#A function that returns the average working days depends on the age of the employee\n",
    "def total_days_employed(row):\n",
    "    dob_years = row['dob_years']\n",
    "    days_employed = row['days_employed']\n",
    "    \n",
    "    if days_employed == 0:\n",
    "        return age_dependent_work.loc[row['dob_years']]\n",
    "    return days_employed\n",
    "        \n",
    "credit_scor['total_days_employed'] = credit_scor.apply(total_days_employed, axis=1)"
   ]
  },
  {
   "cell_type": "markdown",
   "metadata": {},
   "source": [
    "<div style=\"border:solid green 2px; padding: 20px\"> <b>Success:</b><br>\n",
    "    It's great that you wrote a function to fill in the missing values of average days employed depending on the age of the person 👍 </div> "
   ]
  },
  {
   "cell_type": "markdown",
   "metadata": {},
   "source": [
    "6. It is difficult to know how to fill in the missing values of the 'total_income' column. Since filling them in on average is not fair because they may not really have income, on the other hand, it could be that this value was not entered by mistake and therefore, putting them to zero is also incorrect because they may have income in another bank. Therefore, they should be questioned and as soon as they have to check if they deserve a loan they will have to find out directly in front of them if they have income or not."
   ]
  },
  {
   "cell_type": "code",
   "execution_count": 16,
   "metadata": {},
   "outputs": [],
   "source": [
    "#Change the missing values of total_income to -1\n",
    "credit_scor['total_income'] = credit_scor['total_income'].fillna(-1)"
   ]
  },
  {
   "cell_type": "markdown",
   "metadata": {},
   "source": [
    "### Conclusion"
   ]
  },
  {
   "cell_type": "markdown",
   "metadata": {},
   "source": [
    "I tried to fill in missing entries without almost hurting the table data and how it would affect future analysis."
   ]
  },
  {
   "cell_type": "markdown",
   "metadata": {},
   "source": [
    "<div style=\"border:solid green 2px; padding: 20px\"> <b>Success:</b><br>\n",
    "    You have done well in processing missing values. I like that you make assumptions and justify them logically. </div> "
   ]
  },
  {
   "cell_type": "markdown",
   "metadata": {},
   "source": [
    "### Data type replacement"
   ]
  },
  {
   "cell_type": "markdown",
   "metadata": {},
   "source": [
    "2. & 3. Replace data type of total_days_employed from real numbers to integers. The type of total_days_employed is float and I replace to int."
   ]
  },
  {
   "cell_type": "code",
   "execution_count": 17,
   "metadata": {},
   "outputs": [],
   "source": [
    "#Change the type of days to an integer\n",
    "credit_scor['total_days_employed'] = credit_scor['total_days_employed'].astype(int)"
   ]
  },
  {
   "cell_type": "markdown",
   "metadata": {},
   "source": [
    "4. Since according to the rest of the data it seems that the people whose age is 0, this is a mistake (for example because some of them have children or are married). I will change the age to the average age."
   ]
  },
  {
   "cell_type": "code",
   "execution_count": 18,
   "metadata": {},
   "outputs": [],
   "source": [
    "#At first find the average age\n",
    "dob_years_ave = credit_scor['dob_years'].mean()\n",
    "\n",
    "#Then insert the average for all values that are 0 in dob_years column\n",
    "credit_scor.loc[credit_scor['dob_years'] == 0, 'dob_years'] = dob_years_ave\n",
    "credit_scor['dob_years'] = credit_scor['dob_years'].astype(int)"
   ]
  },
  {
   "cell_type": "markdown",
   "metadata": {},
   "source": [
    "5. Change all uppercase to lowercase letters in the 'education' column."
   ]
  },
  {
   "cell_type": "code",
   "execution_count": 19,
   "metadata": {},
   "outputs": [],
   "source": [
    "credit_scor['education'] = credit_scor['education'].str.lower()"
   ]
  },
  {
   "cell_type": "markdown",
   "metadata": {},
   "source": [
    "### Conclusion"
   ]
  },
  {
   "cell_type": "markdown",
   "metadata": {},
   "source": [
    "Modify and replace data according to problems so that the table can then be analyzed in an orderly manner."
   ]
  },
  {
   "cell_type": "markdown",
   "metadata": {},
   "source": [
    "<div style=\"border:solid green 2px; padding: 20px\"> <b>Success:</b><br>\n",
    "    Well, it's all good here. 🙂 </div>"
   ]
  },
  {
   "cell_type": "markdown",
   "metadata": {},
   "source": [
    "<div style=\"border:solid orange 2px; padding: 20px\"> <b>Remarks:</b><br>\n",
    "    Please visit this link, there is information on how to optimise data types and downsize them: \n",
    "    <a>https://vincentteyssier.medium.com/optimizing-the-size-of-a-pandas-dataframe-for-low-memory-environment-5f07db3d72e</a>\n",
    "</div> "
   ]
  },
  {
   "cell_type": "markdown",
   "metadata": {},
   "source": [
    "### Processing duplicates"
   ]
  },
  {
   "cell_type": "markdown",
   "metadata": {},
   "source": [
    "8. I have found repetitive rows using the method: credit_scor.duplicated().sum(), therefore, I remove the repeating rows so as not to affect the analysis of the table.\n",
    "*The reason why there are repetitive rows can be due to the fact that they entered the rows twice by mistake or that the customer contacted the bank on two different occasions."
   ]
  },
  {
   "cell_type": "code",
   "execution_count": 20,
   "metadata": {},
   "outputs": [
    {
     "data": {
      "text/plain": [
       "0"
      ]
     },
     "execution_count": 20,
     "metadata": {},
     "output_type": "execute_result"
    }
   ],
   "source": [
    "credit_scor.drop_duplicates(inplace=True)\n",
    "credit_scor.duplicated().sum()"
   ]
  },
  {
   "cell_type": "markdown",
   "metadata": {},
   "source": [
    "<div style=\"border:solid red 2px; padding: 20px\"> <b>Needs fixing:</b><br>\n",
    "    <s>Please, don't forget to run the code to count the number of duplicates :) </div>"
   ]
  },
  {
   "cell_type": "markdown",
   "metadata": {},
   "source": [
    "<div class=\"alert alert-info\" style=\"border:solid blue 2px; padding: 20px\"> <b>Student comment:</b> Absolutely right. I added the run code above </div>"
   ]
  },
  {
   "cell_type": "markdown",
   "metadata": {},
   "source": [
    "<div style=\"border:solid orange 2px; padding: 20px\"> <b>Remarks V2:</b><br>\n",
    "    It's great that you checked for duplicates after deletion. I see that in line 9 you counted the number of duplicates, but the calculation overlapped with the table that you then output. It is important to see this number 54, because the number of duplicates can change if you use a different dataset. </div> "
   ]
  },
  {
   "cell_type": "markdown",
   "metadata": {},
   "source": [
    "### Conclusion"
   ]
  },
  {
   "cell_type": "markdown",
   "metadata": {},
   "source": [
    "If there was an identification detail such as an ID number or name and date of birth, it could be said with certainty that these are repetitive rows and that it is the same person. At the same time, the chance that there are two people with the exact same data in the table with 2100 people is small, so the chance is that these are repetitive rows."
   ]
  },
  {
   "cell_type": "markdown",
   "metadata": {},
   "source": [
    "<div style=\"border:solid green 2px; padding: 20px\"> <b>Success:</b><br>\n",
    "   Good guess :) </div>"
   ]
  },
  {
   "cell_type": "markdown",
   "metadata": {},
   "source": [
    "### Categorizing Data"
   ]
  },
  {
   "cell_type": "markdown",
   "metadata": {},
   "source": [
    "7. Because there are supposedly many reasons for taking a loan, it can be seen that they all have several keywords that are related to the same topic and therefore each category can be put into a certain category. I will use the Lemmatization method to put each purpose into its own category. I preferred the Lemmatization method because it is more accurate and advanced."
   ]
  },
  {
   "cell_type": "code",
   "execution_count": 21,
   "metadata": {},
   "outputs": [],
   "source": [
    "import nltk\n",
    "from nltk.stem import WordNetLemmatizer\n",
    "import pandas as pd\n",
    "wordnet_lemma = WordNetLemmatizer()\n",
    "def purpose_category(purpose):\n",
    "    words=nltk.word_tokenize(purpose)\n",
    "    lemmas=[wordnet_lemma.lemmatize(w, pos='n') for w in words]\n",
    "    for lemma in lemmas:\n",
    "        if lemma == 'wedding':\n",
    "            return 'wedding_expenses'\n",
    "        if lemma in ['car', 'cars']:\n",
    "            return 'car_expenses'\n",
    "        if lemma in ['estate', 'housing', 'house', 'property']:\n",
    "            return 'housing_expenses'\n",
    "        if lemma in ['university', 'education', 'educated']:\n",
    "            return 'education_expenses'\n",
    "credit_scor['purpose_category'] = credit_scor['purpose'].apply(purpose_category)"
   ]
  },
  {
   "cell_type": "markdown",
   "metadata": {},
   "source": [
    "In order to determine who has children and who does not have children, I will put the children's column in a function that returns yes or no, depending on the number of children."
   ]
  },
  {
   "cell_type": "code",
   "execution_count": 22,
   "metadata": {},
   "outputs": [],
   "source": [
    "#Yes or no children category\n",
    "def children_yes_no(children):\n",
    "    if children >= 1:\n",
    "        return 'yes'\n",
    "    return 'no'\n",
    "credit_scor['children_yes_no'] = credit_scor['children'].apply(children_yes_no)"
   ]
  },
  {
   "cell_type": "markdown",
   "metadata": {},
   "source": [
    "In order to determine what the income level is, one must understand how many people there are in each household and then divide the total income by the number of people and understand what the income level is."
   ]
  },
  {
   "cell_type": "code",
   "execution_count": 23,
   "metadata": {},
   "outputs": [],
   "source": [
    "#number of people in a household\n",
    "def number_of_people(row):\n",
    "    children = row['children']\n",
    "    family_status_id = row['family_status_id']\n",
    "    if family_status_id == 0:\n",
    "        return 2 + children\n",
    "    if family_status_id == 1:\n",
    "        return 2 + children\n",
    "    if family_status_id == 2:\n",
    "        return 1 + children\n",
    "    if family_status_id == 3:\n",
    "        return 1 + children\n",
    "    if family_status_id == 4:\n",
    "        return 1 + children\n",
    "    \n",
    "credit_scor['number_of_people'] = credit_scor.apply(number_of_people, axis=1)"
   ]
  },
  {
   "cell_type": "markdown",
   "metadata": {},
   "source": [
    "In order to determine the level of income I use the data of the total income and divide by the total number of people. The level of income is determined approximately by the level of per capita income in Israel."
   ]
  },
  {
   "cell_type": "code",
   "execution_count": 24,
   "metadata": {},
   "outputs": [],
   "source": [
    "#income level category\n",
    "def income_level(row):\n",
    "    total_income = row['total_income']\n",
    "    number_of_people = row['number_of_people']\n",
    "    \n",
    "    if 0 <= total_income / number_of_people <= 3000:\n",
    "        return 'low income'\n",
    "    if 3001 <= total_income / number_of_people <= 8000:\n",
    "        return 'lower middle income'\n",
    "    if 8001 <= total_income / number_of_people <= 15000:\n",
    "        return 'upper middle income'\n",
    "    if total_income / number_of_people >= 15001:\n",
    "        return 'high income'\n",
    "    return 'unknonw'\n",
    "\n",
    "credit_scor['income_level'] = credit_scor.apply(income_level, axis=1)"
   ]
  },
  {
   "cell_type": "markdown",
   "metadata": {},
   "source": [
    "### Conclusion"
   ]
  },
  {
   "cell_type": "markdown",
   "metadata": {},
   "source": [
    "I divided into categories according to logic. At the same time, a division into other categories (such as income_level) can lead to different results, so in order to know for sure how to make the division I must rely on the bank's criteria for what is considered high or low income and whether there is reference to the number of persons in the household."
   ]
  },
  {
   "cell_type": "markdown",
   "metadata": {},
   "source": [
    "<div style=\"border:solid green 2px; padding: 20px\"> <b>Success:</b><br>\n",
    "   I really liked your idea of segmenting bank customers by income. You took into account the composition of the family, which helped you know the average income per person.  </div>"
   ]
  },
  {
   "cell_type": "markdown",
   "metadata": {},
   "source": [
    "<div style=\"border:solid orange 2px; padding: 20px\"> <b>Remarks:</b><br>\n",
    "    To categorise the income, I can also suggest using the <code>describe()</code> method, it will indicate the quartile boundaries, which helps to divide the data into equal parts. And equal parts are more convenient to compare with each other :) </div> "
   ]
  },
  {
   "cell_type": "markdown",
   "metadata": {},
   "source": [
    "<div class=\"alert alert-info\" style=\"border:solid blue 2px; padding: 20px\"> <b>Student comment:</b> Grate! I did'nt know this method, it could have helped me a lot. I wanted to use it now but I realized it would change some of my conclusions so I will save it for next time. Thanks! </div>"
   ]
  },
  {
   "cell_type": "markdown",
   "metadata": {},
   "source": [
    "<div style=\"border:solid green 2px; padding: 20px\"> <b>Success V2:</b><br>\n",
    "   😊 </div>"
   ]
  },
  {
   "cell_type": "code",
   "execution_count": 25,
   "metadata": {},
   "outputs": [
    {
     "data": {
      "text/html": [
       "<div>\n",
       "<style scoped>\n",
       "    .dataframe tbody tr th:only-of-type {\n",
       "        vertical-align: middle;\n",
       "    }\n",
       "\n",
       "    .dataframe tbody tr th {\n",
       "        vertical-align: top;\n",
       "    }\n",
       "\n",
       "    .dataframe thead th {\n",
       "        text-align: right;\n",
       "    }\n",
       "</style>\n",
       "<table border=\"1\" class=\"dataframe\">\n",
       "  <thead>\n",
       "    <tr style=\"text-align: right;\">\n",
       "      <th></th>\n",
       "      <th>income_level</th>\n",
       "    </tr>\n",
       "    <tr>\n",
       "      <th>income_level</th>\n",
       "      <th></th>\n",
       "    </tr>\n",
       "  </thead>\n",
       "  <tbody>\n",
       "    <tr>\n",
       "      <td>high income</td>\n",
       "      <td>6280</td>\n",
       "    </tr>\n",
       "    <tr>\n",
       "      <td>low income</td>\n",
       "      <td>369</td>\n",
       "    </tr>\n",
       "    <tr>\n",
       "      <td>lower middle income</td>\n",
       "      <td>5438</td>\n",
       "    </tr>\n",
       "    <tr>\n",
       "      <td>unknonw</td>\n",
       "      <td>2094</td>\n",
       "    </tr>\n",
       "    <tr>\n",
       "      <td>upper middle income</td>\n",
       "      <td>7150</td>\n",
       "    </tr>\n",
       "  </tbody>\n",
       "</table>\n",
       "</div>"
      ],
      "text/plain": [
       "                     income_level\n",
       "income_level                     \n",
       "high income                  6280\n",
       "low income                    369\n",
       "lower middle income          5438\n",
       "unknonw                      2094\n",
       "upper middle income          7150"
      ]
     },
     "execution_count": 25,
     "metadata": {},
     "output_type": "execute_result"
    }
   ],
   "source": [
    "credit_scor.groupby('income_level').agg({'income_level':'count'})"
   ]
  },
  {
   "cell_type": "markdown",
   "metadata": {},
   "source": [
    "## Answer these questions"
   ]
  },
  {
   "cell_type": "markdown",
   "metadata": {},
   "source": [
    "- Is there a relation between having kids and repaying a loan on time?"
   ]
  },
  {
   "cell_type": "code",
   "execution_count": 26,
   "metadata": {},
   "outputs": [
    {
     "data": {
      "text/html": [
       "<div>\n",
       "<style scoped>\n",
       "    .dataframe tbody tr th:only-of-type {\n",
       "        vertical-align: middle;\n",
       "    }\n",
       "\n",
       "    .dataframe tbody tr th {\n",
       "        vertical-align: top;\n",
       "    }\n",
       "\n",
       "    .dataframe thead tr th {\n",
       "        text-align: left;\n",
       "    }\n",
       "\n",
       "    .dataframe thead tr:last-of-type th {\n",
       "        text-align: right;\n",
       "    }\n",
       "</style>\n",
       "<table border=\"1\" class=\"dataframe\">\n",
       "  <thead>\n",
       "    <tr>\n",
       "      <th></th>\n",
       "      <th>count</th>\n",
       "      <th>sum</th>\n",
       "      <th>mean</th>\n",
       "    </tr>\n",
       "    <tr>\n",
       "      <th></th>\n",
       "      <th>debt</th>\n",
       "      <th>debt</th>\n",
       "      <th>debt</th>\n",
       "    </tr>\n",
       "    <tr>\n",
       "      <th>children_yes_no</th>\n",
       "      <th></th>\n",
       "      <th></th>\n",
       "      <th></th>\n",
       "    </tr>\n",
       "  </thead>\n",
       "  <tbody>\n",
       "    <tr>\n",
       "      <td>no</td>\n",
       "      <td>14091</td>\n",
       "      <td>1063</td>\n",
       "      <td>0.075438</td>\n",
       "    </tr>\n",
       "    <tr>\n",
       "      <td>yes</td>\n",
       "      <td>7240</td>\n",
       "      <td>669</td>\n",
       "      <td>0.092403</td>\n",
       "    </tr>\n",
       "  </tbody>\n",
       "</table>\n",
       "</div>"
      ],
      "text/plain": [
       "                 count   sum      mean\n",
       "                  debt  debt      debt\n",
       "children_yes_no                       \n",
       "no               14091  1063  0.075438\n",
       "yes               7240   669  0.092403"
      ]
     },
     "execution_count": 26,
     "metadata": {},
     "output_type": "execute_result"
    }
   ],
   "source": [
    "pivot_children = credit_scor.pivot_table(index = 'children_yes_no', values = 'debt', aggfunc = ['count', 'sum', 'mean'])\n",
    "pivot_children"
   ]
  },
  {
   "cell_type": "code",
   "execution_count": 52,
   "metadata": {},
   "outputs": [
    {
     "data": {
      "text/html": [
       "<div>\n",
       "<style scoped>\n",
       "    .dataframe tbody tr th:only-of-type {\n",
       "        vertical-align: middle;\n",
       "    }\n",
       "\n",
       "    .dataframe tbody tr th {\n",
       "        vertical-align: top;\n",
       "    }\n",
       "\n",
       "    .dataframe thead tr th {\n",
       "        text-align: left;\n",
       "    }\n",
       "\n",
       "    .dataframe thead tr:last-of-type th {\n",
       "        text-align: right;\n",
       "    }\n",
       "</style>\n",
       "<table border=\"1\" class=\"dataframe\">\n",
       "  <thead>\n",
       "    <tr>\n",
       "      <th></th>\n",
       "      <th>count</th>\n",
       "      <th>sum</th>\n",
       "      <th>mean</th>\n",
       "    </tr>\n",
       "    <tr>\n",
       "      <th></th>\n",
       "      <th>debt</th>\n",
       "      <th>debt</th>\n",
       "      <th>debt</th>\n",
       "    </tr>\n",
       "    <tr>\n",
       "      <th>children</th>\n",
       "      <th></th>\n",
       "      <th></th>\n",
       "      <th></th>\n",
       "    </tr>\n",
       "  </thead>\n",
       "  <tbody>\n",
       "    <tr>\n",
       "      <td>0</td>\n",
       "      <td>14091</td>\n",
       "      <td>1063</td>\n",
       "      <td>0.075438</td>\n",
       "    </tr>\n",
       "    <tr>\n",
       "      <td>1</td>\n",
       "      <td>4808</td>\n",
       "      <td>444</td>\n",
       "      <td>0.092346</td>\n",
       "    </tr>\n",
       "    <tr>\n",
       "      <td>2</td>\n",
       "      <td>2052</td>\n",
       "      <td>194</td>\n",
       "      <td>0.094542</td>\n",
       "    </tr>\n",
       "    <tr>\n",
       "      <td>3</td>\n",
       "      <td>330</td>\n",
       "      <td>27</td>\n",
       "      <td>0.081818</td>\n",
       "    </tr>\n",
       "    <tr>\n",
       "      <td>4</td>\n",
       "      <td>41</td>\n",
       "      <td>4</td>\n",
       "      <td>0.097561</td>\n",
       "    </tr>\n",
       "    <tr>\n",
       "      <td>5</td>\n",
       "      <td>9</td>\n",
       "      <td>0</td>\n",
       "      <td>0.000000</td>\n",
       "    </tr>\n",
       "    <tr>\n",
       "      <td>All</td>\n",
       "      <td>21331</td>\n",
       "      <td>1732</td>\n",
       "      <td>0.081196</td>\n",
       "    </tr>\n",
       "  </tbody>\n",
       "</table>\n",
       "</div>"
      ],
      "text/plain": [
       "          count   sum      mean\n",
       "           debt  debt      debt\n",
       "children                       \n",
       "0         14091  1063  0.075438\n",
       "1          4808   444  0.092346\n",
       "2          2052   194  0.094542\n",
       "3           330    27  0.081818\n",
       "4            41     4  0.097561\n",
       "5             9     0  0.000000\n",
       "All       21331  1732  0.081196"
      ]
     },
     "execution_count": 52,
     "metadata": {},
     "output_type": "execute_result"
    }
   ],
   "source": [
    "pivot_children1 = pd.pivot_table(credit_scor, index = 'children', columns = 'debt', values='family_' aggfunc = ['count', 'sum', 'mean'], margins=True)\n",
    "pivot_children1"
   ]
  },
  {
   "cell_type": "markdown",
   "metadata": {},
   "source": [
    "It can be seen that there is a relative relationship between having children or not and repaying a loan on time. People who have children are almost 2% more behind in repaying the loan than those who do not have children."
   ]
  },
  {
   "cell_type": "markdown",
   "metadata": {},
   "source": [
    "### Conclusion"
   ]
  },
  {
   "cell_type": "markdown",
   "metadata": {},
   "source": [
    "There is a connection between children and the ability to repay a loan on time. But since there is no significant difference it is necessary to take into account additional parameters."
   ]
  },
  {
   "cell_type": "markdown",
   "metadata": {},
   "source": [
    "<div style=\"border:solid orange 2px; padding: 20px\"> <b>Remarks:</b>\n",
    "\n",
    "* To avoid making additional calculations for the debtors' share column, I can give you a hint on how to generate a summary table quickly. The <code>columns</code> parameter should be omitted, the <code>values</code> parameter should be set to the debt column, and the <code>aggfunc</code> parameter should be set to the function list ['count', 'sum', 'mean']. The result will be three columns: the total number of borrowers, the number of debtors and the proportion of debtors.\n",
    "    \n",
    "* You could also make a summary table, grouped by the number of children, to see how the number of children affects the loan repayment on time.\n",
    " </div> "
   ]
  },
  {
   "cell_type": "markdown",
   "metadata": {},
   "source": [
    "<div class=\"alert alert-info\" style=\"border:solid blue 2px; padding: 20px\"> <b>Student comment:</b><br>\n",
    "\n",
    "* Wow, I love it! I did not know that it can be used in such a way, it looks much better!\n",
    "\n",
    "* Agree with you, but some people had a really small amount of a certain number of children (e.g. only a few individuals had five children) so it was not unequivocal enough to determine if the amount of children affects the ability to repay a loan so I preferred not to get into it.\n",
    "</div>"
   ]
  },
  {
   "cell_type": "markdown",
   "metadata": {},
   "source": [
    "- Is there a relation between marital status and repaying a loan on time?"
   ]
  },
  {
   "cell_type": "code",
   "execution_count": 25,
   "metadata": {},
   "outputs": [
    {
     "data": {
      "text/html": [
       "<div>\n",
       "<style scoped>\n",
       "    .dataframe tbody tr th:only-of-type {\n",
       "        vertical-align: middle;\n",
       "    }\n",
       "\n",
       "    .dataframe tbody tr th {\n",
       "        vertical-align: top;\n",
       "    }\n",
       "\n",
       "    .dataframe thead tr th {\n",
       "        text-align: left;\n",
       "    }\n",
       "\n",
       "    .dataframe thead tr:last-of-type th {\n",
       "        text-align: right;\n",
       "    }\n",
       "</style>\n",
       "<table border=\"1\" class=\"dataframe\">\n",
       "  <thead>\n",
       "    <tr>\n",
       "      <th></th>\n",
       "      <th>count</th>\n",
       "      <th>sum</th>\n",
       "      <th>mean</th>\n",
       "    </tr>\n",
       "    <tr>\n",
       "      <th></th>\n",
       "      <th>debt</th>\n",
       "      <th>debt</th>\n",
       "      <th>debt</th>\n",
       "    </tr>\n",
       "    <tr>\n",
       "      <th>family_status</th>\n",
       "      <th></th>\n",
       "      <th></th>\n",
       "      <th></th>\n",
       "    </tr>\n",
       "  </thead>\n",
       "  <tbody>\n",
       "    <tr>\n",
       "      <td>civil partnership</td>\n",
       "      <td>4134</td>\n",
       "      <td>385</td>\n",
       "      <td>0.093130</td>\n",
       "    </tr>\n",
       "    <tr>\n",
       "      <td>divorced</td>\n",
       "      <td>1189</td>\n",
       "      <td>84</td>\n",
       "      <td>0.070648</td>\n",
       "    </tr>\n",
       "    <tr>\n",
       "      <td>married</td>\n",
       "      <td>12261</td>\n",
       "      <td>927</td>\n",
       "      <td>0.075606</td>\n",
       "    </tr>\n",
       "    <tr>\n",
       "      <td>unmarried</td>\n",
       "      <td>2796</td>\n",
       "      <td>273</td>\n",
       "      <td>0.097639</td>\n",
       "    </tr>\n",
       "    <tr>\n",
       "      <td>widow / widower</td>\n",
       "      <td>951</td>\n",
       "      <td>63</td>\n",
       "      <td>0.066246</td>\n",
       "    </tr>\n",
       "  </tbody>\n",
       "</table>\n",
       "</div>"
      ],
      "text/plain": [
       "                   count  sum      mean\n",
       "                    debt debt      debt\n",
       "family_status                          \n",
       "civil partnership   4134  385  0.093130\n",
       "divorced            1189   84  0.070648\n",
       "married            12261  927  0.075606\n",
       "unmarried           2796  273  0.097639\n",
       "widow / widower      951   63  0.066246"
      ]
     },
     "execution_count": 25,
     "metadata": {},
     "output_type": "execute_result"
    }
   ],
   "source": [
    "pivot_family_status = credit_scor.pivot_table(index = 'family_status', values = 'debt', aggfunc = ['count', 'sum', 'mean'])\n",
    "pivot_family_status"
   ]
  },
  {
   "cell_type": "markdown",
   "metadata": {},
   "source": [
    "It can be seen that there is a connection between family status and the ability to repay a loan, with widows / widowers having the least difficulty repaying a loan on time, while unmarried and civil partnership have the most difficulty repaying a loan on time."
   ]
  },
  {
   "cell_type": "markdown",
   "metadata": {},
   "source": [
    "### Conclusion"
   ]
  },
  {
   "cell_type": "markdown",
   "metadata": {},
   "source": [
    "Here, too, there is a connection between family status and the ability to repay a loan on time, but additional parameters need to be taken into account."
   ]
  },
  {
   "cell_type": "markdown",
   "metadata": {},
   "source": [
    "<div style=\"border:solid green 2px; padding: 20px\"> <b>Success:</b><br>\n",
    "   Great!  </div>"
   ]
  },
  {
   "cell_type": "markdown",
   "metadata": {},
   "source": [
    "- Is there a relation between income level and repaying a loan on time?"
   ]
  },
  {
   "cell_type": "code",
   "execution_count": 26,
   "metadata": {},
   "outputs": [
    {
     "data": {
      "text/html": [
       "<div>\n",
       "<style scoped>\n",
       "    .dataframe tbody tr th:only-of-type {\n",
       "        vertical-align: middle;\n",
       "    }\n",
       "\n",
       "    .dataframe tbody tr th {\n",
       "        vertical-align: top;\n",
       "    }\n",
       "\n",
       "    .dataframe thead tr th {\n",
       "        text-align: left;\n",
       "    }\n",
       "\n",
       "    .dataframe thead tr:last-of-type th {\n",
       "        text-align: right;\n",
       "    }\n",
       "</style>\n",
       "<table border=\"1\" class=\"dataframe\">\n",
       "  <thead>\n",
       "    <tr>\n",
       "      <th></th>\n",
       "      <th>count</th>\n",
       "      <th>sum</th>\n",
       "      <th>mean</th>\n",
       "    </tr>\n",
       "    <tr>\n",
       "      <th></th>\n",
       "      <th>debt</th>\n",
       "      <th>debt</th>\n",
       "      <th>debt</th>\n",
       "    </tr>\n",
       "    <tr>\n",
       "      <th>income_level</th>\n",
       "      <th></th>\n",
       "      <th></th>\n",
       "      <th></th>\n",
       "    </tr>\n",
       "  </thead>\n",
       "  <tbody>\n",
       "    <tr>\n",
       "      <td>high income</td>\n",
       "      <td>6280</td>\n",
       "      <td>477</td>\n",
       "      <td>0.075955</td>\n",
       "    </tr>\n",
       "    <tr>\n",
       "      <td>low income</td>\n",
       "      <td>369</td>\n",
       "      <td>30</td>\n",
       "      <td>0.081301</td>\n",
       "    </tr>\n",
       "    <tr>\n",
       "      <td>lower middle income</td>\n",
       "      <td>5438</td>\n",
       "      <td>482</td>\n",
       "      <td>0.088636</td>\n",
       "    </tr>\n",
       "    <tr>\n",
       "      <td>unknonw</td>\n",
       "      <td>2094</td>\n",
       "      <td>170</td>\n",
       "      <td>0.081184</td>\n",
       "    </tr>\n",
       "    <tr>\n",
       "      <td>upper middle income</td>\n",
       "      <td>7150</td>\n",
       "      <td>573</td>\n",
       "      <td>0.080140</td>\n",
       "    </tr>\n",
       "  </tbody>\n",
       "</table>\n",
       "</div>"
      ],
      "text/plain": [
       "                    count  sum      mean\n",
       "                     debt debt      debt\n",
       "income_level                            \n",
       "high income          6280  477  0.075955\n",
       "low income            369   30  0.081301\n",
       "lower middle income  5438  482  0.088636\n",
       "unknonw              2094  170  0.081184\n",
       "upper middle income  7150  573  0.080140"
      ]
     },
     "execution_count": 26,
     "metadata": {},
     "output_type": "execute_result"
    }
   ],
   "source": [
    "pivot_income_level = credit_scor.pivot_table(index = 'income_level', values = 'debt', aggfunc = ['count', 'sum', 'mean'])\n",
    "pivot_income_level"
   ]
  },
  {
   "cell_type": "markdown",
   "metadata": {},
   "source": [
    "It is almost impossible to deduce which income levels indicate the ability to repay on time, the percentages are really similar at all income levels."
   ]
  },
  {
   "cell_type": "markdown",
   "metadata": {},
   "source": [
    "### Conclusion"
   ]
  },
  {
   "cell_type": "markdown",
   "metadata": {},
   "source": [
    "It may be that there is really no connection between the level of income and the ability to repay, but before such a conclusion can be drawn, one must check whether these are really the criteria for deciding which income indicates the level of income."
   ]
  },
  {
   "cell_type": "markdown",
   "metadata": {},
   "source": [
    "<div style=\"border:solid orange 2px; padding: 20px\"> <b>Remarks:</b><br>\n",
    "    Please note that the low-income group is very small in volume, i.e. there is not enough data to reliably estimate the percentage obtained. That is why for such a group it is better to say that there is not enough data to estimate it. That is why I suggested above to divide into equal numbers of groups to make it easier to compare the percentages. </div> "
   ]
  },
  {
   "cell_type": "markdown",
   "metadata": {},
   "source": [
    "<div class=\"alert alert-info\" style=\"border:solid blue 2px; padding: 20px\"> <b>Student comment:</b><br>\n",
    "Thanks for the important comment! I will consider it from now on.\n",
    "</div>"
   ]
  },
  {
   "cell_type": "markdown",
   "metadata": {},
   "source": [
    "- How do different loan purposes affect on-time repayment of the loan?"
   ]
  },
  {
   "cell_type": "code",
   "execution_count": 27,
   "metadata": {},
   "outputs": [
    {
     "data": {
      "text/html": [
       "<div>\n",
       "<style scoped>\n",
       "    .dataframe tbody tr th:only-of-type {\n",
       "        vertical-align: middle;\n",
       "    }\n",
       "\n",
       "    .dataframe tbody tr th {\n",
       "        vertical-align: top;\n",
       "    }\n",
       "\n",
       "    .dataframe thead tr th {\n",
       "        text-align: left;\n",
       "    }\n",
       "\n",
       "    .dataframe thead tr:last-of-type th {\n",
       "        text-align: right;\n",
       "    }\n",
       "</style>\n",
       "<table border=\"1\" class=\"dataframe\">\n",
       "  <thead>\n",
       "    <tr>\n",
       "      <th></th>\n",
       "      <th>count</th>\n",
       "      <th>sum</th>\n",
       "      <th>mean</th>\n",
       "    </tr>\n",
       "    <tr>\n",
       "      <th></th>\n",
       "      <th>debt</th>\n",
       "      <th>debt</th>\n",
       "      <th>debt</th>\n",
       "    </tr>\n",
       "    <tr>\n",
       "      <th>purpose_category</th>\n",
       "      <th></th>\n",
       "      <th></th>\n",
       "      <th></th>\n",
       "    </tr>\n",
       "  </thead>\n",
       "  <tbody>\n",
       "    <tr>\n",
       "      <td>car_expenses</td>\n",
       "      <td>4279</td>\n",
       "      <td>400</td>\n",
       "      <td>0.093480</td>\n",
       "    </tr>\n",
       "    <tr>\n",
       "      <td>education_expenses</td>\n",
       "      <td>3988</td>\n",
       "      <td>369</td>\n",
       "      <td>0.092528</td>\n",
       "    </tr>\n",
       "    <tr>\n",
       "      <td>housing_expenses</td>\n",
       "      <td>10751</td>\n",
       "      <td>780</td>\n",
       "      <td>0.072551</td>\n",
       "    </tr>\n",
       "    <tr>\n",
       "      <td>wedding_expenses</td>\n",
       "      <td>2313</td>\n",
       "      <td>183</td>\n",
       "      <td>0.079118</td>\n",
       "    </tr>\n",
       "  </tbody>\n",
       "</table>\n",
       "</div>"
      ],
      "text/plain": [
       "                    count  sum      mean\n",
       "                     debt debt      debt\n",
       "purpose_category                        \n",
       "car_expenses         4279  400  0.093480\n",
       "education_expenses   3988  369  0.092528\n",
       "housing_expenses    10751  780  0.072551\n",
       "wedding_expenses     2313  183  0.079118"
      ]
     },
     "execution_count": 27,
     "metadata": {},
     "output_type": "execute_result"
    }
   ],
   "source": [
    "pivot_purpose_category = credit_scor.pivot_table(index = 'purpose_category', values = 'debt', aggfunc = \n",
    "                                                 ['count', 'sum', 'mean'])\n",
    "pivot_purpose_category"
   ]
  },
  {
   "cell_type": "markdown",
   "metadata": {},
   "source": [
    "It can be seen that those whose purpose is to purchase a car or education, it is more difficult for them to repay the loan on time."
   ]
  },
  {
   "cell_type": "markdown",
   "metadata": {},
   "source": [
    "### Conclusion"
   ]
  },
  {
   "cell_type": "markdown",
   "metadata": {},
   "source": [
    "Here too the conclusion is not unequivocal sience the differences are not significant and additional parameters need to be considered. But if we just look at it, the purpose of the loan may be serious, buying a car is a luxury and people who take out a loan to buy a car are a little irresponsible. People who take out a loan for education are usually students who have difficulty repaying a loan because they work less."
   ]
  },
  {
   "cell_type": "markdown",
   "metadata": {},
   "source": [
    "<div style=\"border:solid green 2px; padding: 20px\"> <b>Success:</b><br>\n",
    "   Yes, I totally agree with you :)  </div>"
   ]
  },
  {
   "cell_type": "markdown",
   "metadata": {},
   "source": [
    "## General conclusion"
   ]
  },
  {
   "cell_type": "markdown",
   "metadata": {},
   "source": [
    "* **Original conclusion:**\n",
    "\n",
    "As I have already mentioned, the conclusions from the data analysis are not unequivocal since each time I referred to one parameter in relation to another parameter. In order to draw more accurate conclusions it is necessary to combine several parameters and then the analysis will be more accurate. For example, to score on a parameter and then in the end each customer gets a certain score considering all the parameters and it will be easier to decide whether to give him a loan and under what conditions."
   ]
  },
  {
   "cell_type": "markdown",
   "metadata": {},
   "source": [
    "* **Conclusion after changes:**\n",
    "\n",
    "In this project, a dataset was obtained containing personal information regarding the bank's customers. The aim of the project was to preprocessing the data and arrange it in such a way that it could be analyzed afterwards.\n",
    "Using different methods, missing values were found and problems were discovered in the dataset.\n",
    "\n",
    "The problems discovered were illogical number of children, illogical number of working days in relation to the employee's age, some of the working days were given in negative numbers and most of them were of the float type. In addition, it was necessary to correct the different levels of education and change the values to lower case, categorize the popurpose column into several main purpose that contain all the types of purpose mentioned, and overcome the problem of repeatative rows.\n",
    "\n",
    "In some cases it was necessary to decide what could be disposed of and which data were more or less significant for the analysis, and in some cases it was difficult to decide what could be done with the data without checking it with the provider who gave the data. \n",
    "\n",
    "After arranging the data and within the existing limitations, we moved on to the phase of analyzing the data in order to allow the bank to determine certain criteria of customers who are at risk of not repaying the loan on time. In this project, one criterion is examined each time, which affects the client's ability to repay a loan on time. Among the relationships examined were the relationship between the level of income and the ability to repay on time, people with or without children, marital status and the purpose of taking the loan.\n",
    "\n",
    "In general it can be seen (above) that these parameters are related to the customer's repayment ability, for example different purposes for taking a loan causes different risks in its repayment ability, or, people with children will have more difficulty in repaying the loan compared to people without children. However, at the same time, when the customer comes to the bank to receive a loan, it is necessary to weigh all the data in order to determine the situation of each customer individually."
   ]
  },
  {
   "cell_type": "markdown",
   "metadata": {},
   "source": [
    "<div style=\"border:solid green 2px; padding: 20px\"> <b>Success:</b><br>\n",
    "   That's right, a more comprehensive assessment needs a broader toolkit. But since this is our first project, we are working with the knowledge we have in reserve. There are more exciting adventures ahead 😉  </div>"
   ]
  },
  {
   "cell_type": "markdown",
   "metadata": {},
   "source": [
    "<div style=\"border:solid red 2px; padding: 20px\"> <b>Needs fixing:</b><br>\n",
    "  <s> The final conclusion should be a brief overview of your work, so it's better to describe everything you learned about the data. Please write more about what you researched and what results you got in the process, as the final conclusion is the first thing people read and is often the basis for judging the quality of the work as a whole. </div>"
   ]
  },
  {
   "cell_type": "markdown",
   "metadata": {},
   "source": [
    "<div class=\"alert alert-info\" style=\"border:solid blue 2px; padding: 20px\"> <b>Student comment:</b><br>\n",
    "Totally agree. I tried to write a broader conclusion based on your comment ...\n",
    "</div>"
   ]
  },
  {
   "cell_type": "markdown",
   "metadata": {},
   "source": [
    "<div style=\"border:solid orange 2px; padding: 20px\"> <b>Remarks V2:</b><br>\n",
    "    Well done, you you wrote detailed conclusions. Thanks a lot for your work! 🙂 But in analytics, it is also very important to back up your words with numbers.  </div>   \n"
   ]
  },
  {
   "cell_type": "markdown",
   "metadata": {},
   "source": [
    "<div class=\"alert alert-info\" style=\"border:solid blue 2px; padding: 20px\"> <b>Student comment:</b><br>\n",
    "Thanks so much for all the comments! I took to my attention and hope I understood them all.\n",
    "As for the recommendations, I copied the links you referred me to and will slowly learn more about the \"wonders\" of notebook:)\n",
    "</div>"
   ]
  },
  {
   "cell_type": "markdown",
   "metadata": {},
   "source": [
    "## Project Readiness Checklist\n",
    "\n",
    "Put 'x' in the completed points. Then press Shift + Enter."
   ]
  },
  {
   "cell_type": "markdown",
   "metadata": {},
   "source": [
    "- [x]  file open;\n",
    "- [x]  file examined;\n",
    "- [x]  missing values defined;\n",
    "- [x]  missing values are filled;\n",
    "- [x]  an explanation of which missing value types were detected;\n",
    "- [x]  explanation for the possible causes of missing values;\n",
    "- [x]  an explanation of how the blanks are filled;\n",
    "- [x]  replaced the real data type with an integer;\n",
    "- [x]  an explanation of which method is used to change the data type and why;\n",
    "- [x]  duplicates deleted;\n",
    "- [x]  an explanation of which method is used to find and remove duplicates;\n",
    "- [x]  description of the possible reasons for the appearance of duplicates in the data;\n",
    "- [x]  data is categorized;\n",
    "- [x]  an explanation of the principle of data categorization;\n",
    "- [x]  an answer to the question \"Is there a relation between having kids and repaying a loan on time?\";\n",
    "- [x]  an answer to the question \" Is there a relation between marital status and repaying a loan on time?\";\n",
    "- [x]  an answer to the question \" Is there a relation between income level and repaying a loan on time?\";\n",
    "- [x]  an answer to the question \" How do different loan purposes affect on-time repayment of the loan?\"\n",
    "- [x]  conclusions are present on each stage;\n",
    "- [x]  a general conclusion is made."
   ]
  },
  {
   "cell_type": "code",
   "execution_count": null,
   "metadata": {},
   "outputs": [],
   "source": []
  }
 ],
 "metadata": {
  "ExecuteTimeLog": [
   {
    "duration": 907,
    "start_time": "2021-06-14T11:59:25.830Z"
   },
   {
    "duration": 72,
    "start_time": "2021-06-14T11:59:59.415Z"
   },
   {
    "duration": 15,
    "start_time": "2021-06-14T12:04:45.880Z"
   },
   {
    "duration": 26,
    "start_time": "2021-06-14T12:50:49.092Z"
   },
   {
    "duration": 105,
    "start_time": "2021-06-14T12:59:41.885Z"
   },
   {
    "duration": 26,
    "start_time": "2021-06-14T12:59:47.200Z"
   },
   {
    "duration": 29,
    "start_time": "2021-06-14T13:00:19.255Z"
   },
   {
    "duration": 21,
    "start_time": "2021-06-14T13:02:05.675Z"
   },
   {
    "duration": 19,
    "start_time": "2021-06-14T13:02:24.772Z"
   },
   {
    "duration": 18,
    "start_time": "2021-06-14T13:02:53.124Z"
   },
   {
    "duration": 18,
    "start_time": "2021-06-14T13:03:17.186Z"
   },
   {
    "duration": 17,
    "start_time": "2021-06-14T13:05:14.184Z"
   },
   {
    "duration": 19,
    "start_time": "2021-06-14T13:05:19.746Z"
   },
   {
    "duration": 448,
    "start_time": "2021-06-14T13:05:50.947Z"
   },
   {
    "duration": 23,
    "start_time": "2021-06-14T13:06:01.615Z"
   },
   {
    "duration": 19,
    "start_time": "2021-06-14T13:06:14.487Z"
   },
   {
    "duration": 20,
    "start_time": "2021-06-14T13:06:34.444Z"
   },
   {
    "duration": 23,
    "start_time": "2021-06-14T13:06:55.671Z"
   },
   {
    "duration": 421,
    "start_time": "2021-06-14T13:07:26.647Z"
   },
   {
    "duration": 20,
    "start_time": "2021-06-14T13:07:36.823Z"
   },
   {
    "duration": 29,
    "start_time": "2021-06-14T13:08:02.419Z"
   },
   {
    "duration": 29,
    "start_time": "2021-06-14T13:08:38.835Z"
   },
   {
    "duration": 33,
    "start_time": "2021-06-14T13:08:53.730Z"
   },
   {
    "duration": 16,
    "start_time": "2021-06-14T13:09:33.958Z"
   },
   {
    "duration": 19,
    "start_time": "2021-06-14T13:09:39.038Z"
   },
   {
    "duration": 18,
    "start_time": "2021-06-14T13:09:49.781Z"
   },
   {
    "duration": 317,
    "start_time": "2021-06-14T13:10:30.383Z"
   },
   {
    "duration": 17,
    "start_time": "2021-06-14T13:10:49.691Z"
   },
   {
    "duration": 20,
    "start_time": "2021-06-14T13:14:26.923Z"
   },
   {
    "duration": 24,
    "start_time": "2021-06-14T13:15:09.677Z"
   },
   {
    "duration": 337,
    "start_time": "2021-06-14T13:15:31.007Z"
   },
   {
    "duration": 21,
    "start_time": "2021-06-14T13:15:47.608Z"
   },
   {
    "duration": 31,
    "start_time": "2021-06-14T13:17:01.618Z"
   },
   {
    "duration": 30,
    "start_time": "2021-06-14T13:17:08.624Z"
   },
   {
    "duration": 288,
    "start_time": "2021-06-14T13:18:32.005Z"
   },
   {
    "duration": 29,
    "start_time": "2021-06-14T13:18:37.152Z"
   },
   {
    "duration": 30,
    "start_time": "2021-06-14T13:18:53.859Z"
   },
   {
    "duration": 27,
    "start_time": "2021-06-14T13:19:11.180Z"
   },
   {
    "duration": 21,
    "start_time": "2021-06-14T13:20:25.162Z"
   },
   {
    "duration": 20,
    "start_time": "2021-06-14T13:22:42.572Z"
   },
   {
    "duration": 21,
    "start_time": "2021-06-14T13:23:13.504Z"
   },
   {
    "duration": 25,
    "start_time": "2021-06-14T13:24:24.578Z"
   },
   {
    "duration": 26,
    "start_time": "2021-06-14T13:24:44.268Z"
   },
   {
    "duration": 44,
    "start_time": "2021-06-14T13:25:29.215Z"
   },
   {
    "duration": 27,
    "start_time": "2021-06-14T13:53:01.139Z"
   },
   {
    "duration": 25,
    "start_time": "2021-06-14T13:53:25.524Z"
   },
   {
    "duration": 22,
    "start_time": "2021-06-14T13:53:53.245Z"
   },
   {
    "duration": 27,
    "start_time": "2021-06-14T13:54:13.202Z"
   },
   {
    "duration": 24,
    "start_time": "2021-06-14T13:54:47.563Z"
   },
   {
    "duration": 29,
    "start_time": "2021-06-14T13:56:52.836Z"
   },
   {
    "duration": 20,
    "start_time": "2021-06-14T13:57:43.208Z"
   },
   {
    "duration": 26,
    "start_time": "2021-06-14T14:03:58.420Z"
   },
   {
    "duration": 22,
    "start_time": "2021-06-14T14:08:00.097Z"
   },
   {
    "duration": 345,
    "start_time": "2021-06-14T14:08:15.040Z"
   },
   {
    "duration": 19,
    "start_time": "2021-06-14T14:08:35.700Z"
   },
   {
    "duration": 22,
    "start_time": "2021-06-14T14:12:34.235Z"
   },
   {
    "duration": 24,
    "start_time": "2021-06-14T14:12:45.029Z"
   },
   {
    "duration": 16,
    "start_time": "2021-06-14T14:12:53.154Z"
   },
   {
    "duration": 14,
    "start_time": "2021-06-14T14:13:08.529Z"
   },
   {
    "duration": 4,
    "start_time": "2021-06-14T14:15:43.574Z"
   },
   {
    "duration": 5,
    "start_time": "2021-06-14T17:23:26.847Z"
   },
   {
    "duration": 5,
    "start_time": "2021-06-14T17:23:30.188Z"
   },
   {
    "duration": 18,
    "start_time": "2021-06-14T17:23:50.203Z"
   },
   {
    "duration": 7,
    "start_time": "2021-06-14T17:25:53.409Z"
   },
   {
    "duration": 9,
    "start_time": "2021-06-14T17:26:06.535Z"
   },
   {
    "duration": 9,
    "start_time": "2021-06-14T17:36:10.838Z"
   },
   {
    "duration": 9,
    "start_time": "2021-06-14T17:36:15.172Z"
   },
   {
    "duration": 13,
    "start_time": "2021-06-14T17:36:34.963Z"
   },
   {
    "duration": 15,
    "start_time": "2021-06-14T17:36:48.840Z"
   },
   {
    "duration": 14,
    "start_time": "2021-06-14T17:36:54.747Z"
   },
   {
    "duration": 7,
    "start_time": "2021-06-14T17:45:00.651Z"
   },
   {
    "duration": 8,
    "start_time": "2021-06-14T17:45:55.971Z"
   },
   {
    "duration": 316,
    "start_time": "2021-06-14T17:47:00.637Z"
   },
   {
    "duration": 15,
    "start_time": "2021-06-14T17:47:14.943Z"
   },
   {
    "duration": 16,
    "start_time": "2021-06-14T17:47:35.453Z"
   },
   {
    "duration": 5,
    "start_time": "2021-06-14T17:48:25.522Z"
   },
   {
    "duration": 11,
    "start_time": "2021-06-14T17:54:50.813Z"
   },
   {
    "duration": 8,
    "start_time": "2021-06-14T17:55:13.298Z"
   },
   {
    "duration": 362,
    "start_time": "2021-06-14T17:55:35.295Z"
   },
   {
    "duration": 10,
    "start_time": "2021-06-14T17:55:40.596Z"
   },
   {
    "duration": 9,
    "start_time": "2021-06-14T17:55:53.519Z"
   },
   {
    "duration": 8,
    "start_time": "2021-06-14T17:56:00.389Z"
   },
   {
    "duration": 9,
    "start_time": "2021-06-14T17:56:56.283Z"
   },
   {
    "duration": 333,
    "start_time": "2021-06-14T21:39:59.002Z"
   },
   {
    "duration": 254,
    "start_time": "2021-06-14T21:40:32.972Z"
   },
   {
    "duration": 260,
    "start_time": "2021-06-14T21:40:42.623Z"
   },
   {
    "duration": 845,
    "start_time": "2021-06-14T21:40:55.840Z"
   },
   {
    "duration": 16,
    "start_time": "2021-06-14T21:41:03.462Z"
   },
   {
    "duration": 13,
    "start_time": "2021-06-14T21:41:06.633Z"
   },
   {
    "duration": 5,
    "start_time": "2021-06-14T21:41:09.686Z"
   },
   {
    "duration": 10,
    "start_time": "2021-06-14T21:41:11.532Z"
   },
   {
    "duration": 9,
    "start_time": "2021-06-14T21:41:14.068Z"
   },
   {
    "duration": 341,
    "start_time": "2021-06-14T21:44:34.982Z"
   },
   {
    "duration": 4942,
    "start_time": "2021-06-14T21:47:03.349Z"
   },
   {
    "duration": 6372,
    "start_time": "2021-06-14T21:52:40.512Z"
   },
   {
    "duration": 6,
    "start_time": "2021-06-14T21:52:51.033Z"
   },
   {
    "duration": 6,
    "start_time": "2021-06-14T21:53:02.959Z"
   },
   {
    "duration": 4752,
    "start_time": "2021-06-14T21:53:17.106Z"
   },
   {
    "duration": 10,
    "start_time": "2021-06-14T21:54:25.022Z"
   },
   {
    "duration": 10,
    "start_time": "2021-06-14T21:55:09.152Z"
   },
   {
    "duration": 8,
    "start_time": "2021-06-14T21:55:13.764Z"
   },
   {
    "duration": 10,
    "start_time": "2021-06-14T21:55:25.971Z"
   },
   {
    "duration": 889,
    "start_time": "2021-06-15T08:19:35.269Z"
   },
   {
    "duration": 534,
    "start_time": "2021-06-15T09:15:54.510Z"
   },
   {
    "duration": 10,
    "start_time": "2021-06-15T09:16:13.170Z"
   },
   {
    "duration": 335,
    "start_time": "2021-06-15T09:16:36.085Z"
   },
   {
    "duration": 8919,
    "start_time": "2021-06-15T09:17:03.832Z"
   },
   {
    "duration": 22,
    "start_time": "2021-06-15T09:18:18.217Z"
   },
   {
    "duration": 13,
    "start_time": "2021-06-15T09:18:20.762Z"
   },
   {
    "duration": 9523,
    "start_time": "2021-06-15T09:18:23.496Z"
   },
   {
    "duration": 18,
    "start_time": "2021-06-15T09:19:24.708Z"
   },
   {
    "duration": 411,
    "start_time": "2021-06-15T09:21:33.941Z"
   },
   {
    "duration": 355,
    "start_time": "2021-06-15T09:21:56.123Z"
   },
   {
    "duration": 27,
    "start_time": "2021-06-15T09:22:14.529Z"
   },
   {
    "duration": 15,
    "start_time": "2021-06-15T09:22:24.759Z"
   },
   {
    "duration": 15,
    "start_time": "2021-06-15T09:22:43.907Z"
   },
   {
    "duration": 16,
    "start_time": "2021-06-15T09:22:47.450Z"
   },
   {
    "duration": 11,
    "start_time": "2021-06-15T09:23:13.297Z"
   },
   {
    "duration": 12,
    "start_time": "2021-06-15T09:23:30.020Z"
   },
   {
    "duration": 11,
    "start_time": "2021-06-15T09:23:49.073Z"
   },
   {
    "duration": 418,
    "start_time": "2021-06-15T09:25:39.612Z"
   },
   {
    "duration": 11,
    "start_time": "2021-06-15T09:25:45.416Z"
   },
   {
    "duration": 10,
    "start_time": "2021-06-15T09:25:53.027Z"
   },
   {
    "duration": 9,
    "start_time": "2021-06-15T09:27:48.368Z"
   },
   {
    "duration": 9,
    "start_time": "2021-06-15T09:27:58.062Z"
   },
   {
    "duration": 14,
    "start_time": "2021-06-15T09:32:09.239Z"
   },
   {
    "duration": 17,
    "start_time": "2021-06-15T09:32:44.492Z"
   },
   {
    "duration": 9,
    "start_time": "2021-06-15T09:32:59.092Z"
   },
   {
    "duration": 9,
    "start_time": "2021-06-15T09:33:34.789Z"
   },
   {
    "duration": 10,
    "start_time": "2021-06-15T09:35:30.213Z"
   },
   {
    "duration": 7,
    "start_time": "2021-06-15T09:36:03.258Z"
   },
   {
    "duration": 225,
    "start_time": "2021-06-15T09:36:15.632Z"
   },
   {
    "duration": 11,
    "start_time": "2021-06-15T09:36:31.689Z"
   },
   {
    "duration": 9,
    "start_time": "2021-06-15T09:37:31.390Z"
   },
   {
    "duration": 21,
    "start_time": "2021-06-15T09:44:14.078Z"
   },
   {
    "duration": 19,
    "start_time": "2021-06-15T09:44:34.985Z"
   },
   {
    "duration": 27,
    "start_time": "2021-06-15T09:44:37.613Z"
   },
   {
    "duration": 9532,
    "start_time": "2021-06-15T09:46:15.606Z"
   },
   {
    "duration": 9,
    "start_time": "2021-06-15T09:46:37.845Z"
   },
   {
    "duration": 17,
    "start_time": "2021-06-15T09:47:09.969Z"
   },
   {
    "duration": 21,
    "start_time": "2021-06-15T09:47:13.154Z"
   },
   {
    "duration": 381,
    "start_time": "2021-06-15T09:47:25.027Z"
   },
   {
    "duration": 20,
    "start_time": "2021-06-15T09:47:31.540Z"
   },
   {
    "duration": 20,
    "start_time": "2021-06-15T09:47:58.056Z"
   },
   {
    "duration": 46,
    "start_time": "2021-06-15T09:49:51.138Z"
   },
   {
    "duration": 49,
    "start_time": "2021-06-15T09:51:05.813Z"
   },
   {
    "duration": 70,
    "start_time": "2021-06-15T09:51:22.008Z"
   },
   {
    "duration": 434,
    "start_time": "2021-06-15T09:59:08.821Z"
   },
   {
    "duration": 391,
    "start_time": "2021-06-15T09:59:46.119Z"
   },
   {
    "duration": 373,
    "start_time": "2021-06-15T09:59:54.342Z"
   },
   {
    "duration": 417,
    "start_time": "2021-06-15T10:01:33.690Z"
   },
   {
    "duration": 360,
    "start_time": "2021-06-15T10:01:51.837Z"
   },
   {
    "duration": 358,
    "start_time": "2021-06-15T10:03:13.559Z"
   },
   {
    "duration": 8862,
    "start_time": "2021-06-15T10:03:22.121Z"
   },
   {
    "duration": -8586,
    "start_time": "2021-06-15T10:04:09.787Z"
   },
   {
    "duration": 8797,
    "start_time": "2021-06-15T10:04:08.040Z"
   },
   {
    "duration": 8824,
    "start_time": "2021-06-15T10:04:29.960Z"
   },
   {
    "duration": 8935,
    "start_time": "2021-06-15T10:04:54.764Z"
   },
   {
    "duration": 14,
    "start_time": "2021-06-15T10:05:40.841Z"
   },
   {
    "duration": 85,
    "start_time": "2021-06-15T10:06:01.550Z"
   },
   {
    "duration": 18,
    "start_time": "2021-06-15T10:06:12.897Z"
   },
   {
    "duration": 14,
    "start_time": "2021-06-15T10:06:21.562Z"
   },
   {
    "duration": 121,
    "start_time": "2021-06-15T10:07:46.698Z"
   },
   {
    "duration": 17,
    "start_time": "2021-06-15T10:08:09.916Z"
   },
   {
    "duration": 385,
    "start_time": "2021-06-15T10:08:29.950Z"
   },
   {
    "duration": 360,
    "start_time": "2021-06-15T10:08:39.865Z"
   },
   {
    "duration": 902,
    "start_time": "2021-06-15T10:08:49.617Z"
   },
   {
    "duration": 22,
    "start_time": "2021-06-15T10:08:58.419Z"
   },
   {
    "duration": 14,
    "start_time": "2021-06-15T10:09:04.455Z"
   },
   {
    "duration": 373,
    "start_time": "2021-06-15T10:09:09.162Z"
   },
   {
    "duration": 364,
    "start_time": "2021-06-15T10:09:10.805Z"
   },
   {
    "duration": 13,
    "start_time": "2021-06-15T10:09:25.038Z"
   },
   {
    "duration": 14,
    "start_time": "2021-06-15T10:09:27.622Z"
   },
   {
    "duration": 339,
    "start_time": "2021-06-15T10:09:43.478Z"
   },
   {
    "duration": 3,
    "start_time": "2021-06-15T10:09:55.517Z"
   },
   {
    "duration": 7,
    "start_time": "2021-06-15T10:10:17.794Z"
   },
   {
    "duration": 18,
    "start_time": "2021-06-15T10:10:25.792Z"
   },
   {
    "duration": 359,
    "start_time": "2021-06-15T10:11:22.815Z"
   },
   {
    "duration": 361,
    "start_time": "2021-06-15T10:12:28.674Z"
   },
   {
    "duration": 308,
    "start_time": "2021-06-15T10:12:38.380Z"
   },
   {
    "duration": 18,
    "start_time": "2021-06-15T10:13:08.623Z"
   },
   {
    "duration": 16,
    "start_time": "2021-06-15T10:13:15.555Z"
   },
   {
    "duration": 134,
    "start_time": "2021-06-15T10:18:31.991Z"
   },
   {
    "duration": 119,
    "start_time": "2021-06-15T10:18:47.796Z"
   },
   {
    "duration": 139,
    "start_time": "2021-06-15T10:18:54.354Z"
   },
   {
    "duration": 118,
    "start_time": "2021-06-15T10:20:50.893Z"
   },
   {
    "duration": 8811,
    "start_time": "2021-06-15T10:20:55.689Z"
   },
   {
    "duration": 9287,
    "start_time": "2021-06-15T10:21:27.162Z"
   },
   {
    "duration": 9167,
    "start_time": "2021-06-15T10:21:51.554Z"
   },
   {
    "duration": 19,
    "start_time": "2021-06-15T10:22:26.469Z"
   },
   {
    "duration": 39,
    "start_time": "2021-06-15T10:22:39.191Z"
   },
   {
    "duration": 9207,
    "start_time": "2021-06-15T10:26:15.869Z"
   },
   {
    "duration": 9622,
    "start_time": "2021-06-15T10:26:40.316Z"
   },
   {
    "duration": 79,
    "start_time": "2021-06-15T10:27:29.497Z"
   },
   {
    "duration": 25,
    "start_time": "2021-06-15T10:27:46.766Z"
   },
   {
    "duration": 25,
    "start_time": "2021-06-15T10:28:21.448Z"
   },
   {
    "duration": 125,
    "start_time": "2021-06-15T10:28:39.946Z"
   },
   {
    "duration": 46,
    "start_time": "2021-06-15T10:29:12.490Z"
   },
   {
    "duration": 18,
    "start_time": "2021-06-15T10:29:18.385Z"
   },
   {
    "duration": 17,
    "start_time": "2021-06-15T10:29:21.020Z"
   },
   {
    "duration": 18,
    "start_time": "2021-06-15T10:29:44.638Z"
   },
   {
    "duration": 2408,
    "start_time": "2021-06-15T10:29:59.170Z"
   },
   {
    "duration": 11,
    "start_time": "2021-06-15T10:30:42.597Z"
   },
   {
    "duration": 363,
    "start_time": "2021-06-15T10:31:21.410Z"
   },
   {
    "duration": 12,
    "start_time": "2021-06-15T10:31:37.301Z"
   },
   {
    "duration": 127,
    "start_time": "2021-06-15T10:32:03.384Z"
   },
   {
    "duration": 134,
    "start_time": "2021-06-15T10:32:18.385Z"
   },
   {
    "duration": 474,
    "start_time": "2021-06-15T10:32:32.941Z"
   },
   {
    "duration": 12,
    "start_time": "2021-06-15T10:32:45.025Z"
   },
   {
    "duration": 23,
    "start_time": "2021-06-15T10:32:53.629Z"
   },
   {
    "duration": 10,
    "start_time": "2021-06-15T10:32:56.658Z"
   },
   {
    "duration": 19,
    "start_time": "2021-06-15T10:33:19.616Z"
   },
   {
    "duration": 9,
    "start_time": "2021-06-15T10:34:31.617Z"
   },
   {
    "duration": 73,
    "start_time": "2021-06-15T10:35:01.552Z"
   },
   {
    "duration": 360,
    "start_time": "2021-06-15T10:43:03.719Z"
   },
   {
    "duration": 373,
    "start_time": "2021-06-15T10:43:27.494Z"
   },
   {
    "duration": 393,
    "start_time": "2021-06-15T10:43:47.364Z"
   },
   {
    "duration": 372,
    "start_time": "2021-06-15T10:45:40.921Z"
   },
   {
    "duration": 5,
    "start_time": "2021-06-15T10:45:56.410Z"
   },
   {
    "duration": 373,
    "start_time": "2021-06-15T10:55:28.683Z"
   },
   {
    "duration": 5,
    "start_time": "2021-06-15T10:55:37.816Z"
   },
   {
    "duration": 367,
    "start_time": "2021-06-15T10:55:57.084Z"
   },
   {
    "duration": 47,
    "start_time": "2021-06-15T10:58:12.920Z"
   },
   {
    "duration": 23,
    "start_time": "2021-06-15T10:58:27.767Z"
   },
   {
    "duration": 377,
    "start_time": "2021-06-15T10:58:43.393Z"
   },
   {
    "duration": 22,
    "start_time": "2021-06-15T10:58:46.144Z"
   },
   {
    "duration": 76,
    "start_time": "2021-06-15T10:58:59.750Z"
   },
   {
    "duration": 8,
    "start_time": "2021-06-15T11:00:57.467Z"
   },
   {
    "duration": 3,
    "start_time": "2021-06-15T11:02:33.387Z"
   },
   {
    "duration": 105,
    "start_time": "2021-06-15T11:03:04.815Z"
   },
   {
    "duration": 118,
    "start_time": "2021-06-15T11:04:00.542Z"
   },
   {
    "duration": 20,
    "start_time": "2021-06-15T11:04:07.857Z"
   },
   {
    "duration": 43,
    "start_time": "2021-06-15T11:08:39.038Z"
   },
   {
    "duration": 28,
    "start_time": "2021-06-15T11:09:15.807Z"
   },
   {
    "duration": 22,
    "start_time": "2021-06-15T11:09:24.648Z"
   },
   {
    "duration": 26,
    "start_time": "2021-06-15T11:09:31.238Z"
   },
   {
    "duration": 358,
    "start_time": "2021-06-15T11:09:55.369Z"
   },
   {
    "duration": 350,
    "start_time": "2021-06-15T11:10:22.197Z"
   },
   {
    "duration": 14,
    "start_time": "2021-06-15T11:10:46.322Z"
   },
   {
    "duration": 31,
    "start_time": "2021-06-15T11:10:52.806Z"
   },
   {
    "duration": 23,
    "start_time": "2021-06-15T11:11:02.838Z"
   },
   {
    "duration": 26,
    "start_time": "2021-06-15T11:11:09.513Z"
   },
   {
    "duration": 27,
    "start_time": "2021-06-15T11:11:19.638Z"
   },
   {
    "duration": 366,
    "start_time": "2021-06-15T11:11:45.892Z"
   },
   {
    "duration": 3,
    "start_time": "2021-06-15T11:11:53.089Z"
   },
   {
    "duration": 22,
    "start_time": "2021-06-15T11:17:03.843Z"
   },
   {
    "duration": 29,
    "start_time": "2021-06-15T11:17:15.125Z"
   },
   {
    "duration": 59,
    "start_time": "2021-06-15T11:25:54.890Z"
   },
   {
    "duration": 11,
    "start_time": "2021-06-15T11:26:56.477Z"
   },
   {
    "duration": 6,
    "start_time": "2021-06-15T11:32:21.243Z"
   },
   {
    "duration": 9,
    "start_time": "2021-06-15T11:39:35.361Z"
   },
   {
    "duration": 357,
    "start_time": "2021-06-15T11:42:11.148Z"
   },
   {
    "duration": 16,
    "start_time": "2021-06-15T11:44:01.174Z"
   },
   {
    "duration": 14,
    "start_time": "2021-06-15T11:44:19.834Z"
   },
   {
    "duration": 8,
    "start_time": "2021-06-15T11:44:42.683Z"
   },
   {
    "duration": 7,
    "start_time": "2021-06-15T12:39:14.235Z"
   },
   {
    "duration": 24,
    "start_time": "2021-06-15T12:39:35.254Z"
   },
   {
    "duration": 9,
    "start_time": "2021-06-15T12:40:23.459Z"
   },
   {
    "duration": 6,
    "start_time": "2021-06-15T12:40:44.149Z"
   },
   {
    "duration": 23,
    "start_time": "2021-06-15T12:40:58.541Z"
   },
   {
    "duration": 16,
    "start_time": "2021-06-15T12:48:43.802Z"
   },
   {
    "duration": 6,
    "start_time": "2021-06-15T12:49:40.302Z"
   },
   {
    "duration": 22,
    "start_time": "2021-06-15T12:50:01.752Z"
   },
   {
    "duration": 10,
    "start_time": "2021-06-15T12:51:51.587Z"
   },
   {
    "duration": 394,
    "start_time": "2021-06-15T14:34:55.181Z"
   },
   {
    "duration": 1316,
    "start_time": "2021-06-15T15:55:35.970Z"
   },
   {
    "duration": 6,
    "start_time": "2021-06-15T15:56:04.011Z"
   },
   {
    "duration": 446,
    "start_time": "2021-06-15T15:56:18.663Z"
   },
   {
    "duration": 430,
    "start_time": "2021-06-15T15:56:56.086Z"
   },
   {
    "duration": 391,
    "start_time": "2021-06-15T16:07:26.497Z"
   },
   {
    "duration": 343,
    "start_time": "2021-06-15T16:07:40.576Z"
   },
   {
    "duration": 376,
    "start_time": "2021-06-15T16:08:08.158Z"
   },
   {
    "duration": 368,
    "start_time": "2021-06-15T16:08:20.547Z"
   },
   {
    "duration": 3,
    "start_time": "2021-06-15T16:09:20.198Z"
   },
   {
    "duration": 298,
    "start_time": "2021-06-15T16:09:55.770Z"
   },
   {
    "duration": 6,
    "start_time": "2021-06-15T16:10:37.378Z"
   },
   {
    "duration": 5,
    "start_time": "2021-06-15T16:10:52.684Z"
   },
   {
    "duration": 6,
    "start_time": "2021-06-15T16:11:05.134Z"
   },
   {
    "duration": 5,
    "start_time": "2021-06-15T16:11:14.954Z"
   },
   {
    "duration": 3,
    "start_time": "2021-06-15T17:29:34.596Z"
   },
   {
    "duration": 3,
    "start_time": "2021-06-15T17:29:36.313Z"
   },
   {
    "duration": 4,
    "start_time": "2021-06-15T17:29:40.901Z"
   },
   {
    "duration": 359,
    "start_time": "2021-06-15T17:32:40.433Z"
   },
   {
    "duration": 350,
    "start_time": "2021-06-15T17:32:56.728Z"
   },
   {
    "duration": 3,
    "start_time": "2021-06-15T17:33:03.193Z"
   },
   {
    "duration": 347,
    "start_time": "2021-06-15T17:33:08.023Z"
   },
   {
    "duration": 4,
    "start_time": "2021-06-15T17:33:14.961Z"
   },
   {
    "duration": 356,
    "start_time": "2021-06-15T17:33:20.174Z"
   },
   {
    "duration": 367,
    "start_time": "2021-06-15T17:33:40.771Z"
   },
   {
    "duration": 327,
    "start_time": "2021-06-15T17:33:55.560Z"
   },
   {
    "duration": 381,
    "start_time": "2021-06-15T17:34:29.394Z"
   },
   {
    "duration": 3,
    "start_time": "2021-06-15T17:34:34.916Z"
   },
   {
    "duration": 333,
    "start_time": "2021-06-15T17:34:41.030Z"
   },
   {
    "duration": 304,
    "start_time": "2021-06-15T17:34:55.139Z"
   },
   {
    "duration": 359,
    "start_time": "2021-06-15T17:37:34.098Z"
   },
   {
    "duration": 330,
    "start_time": "2021-06-15T17:37:38.187Z"
   },
   {
    "duration": 771,
    "start_time": "2021-06-15T17:38:03.855Z"
   },
   {
    "duration": 113,
    "start_time": "2021-06-15T17:38:25.764Z"
   },
   {
    "duration": 385,
    "start_time": "2021-06-15T17:38:28.954Z"
   },
   {
    "duration": 371,
    "start_time": "2021-06-15T17:40:59.658Z"
   },
   {
    "duration": 360,
    "start_time": "2021-06-15T17:48:21.079Z"
   },
   {
    "duration": 351,
    "start_time": "2021-06-15T17:48:32.687Z"
   },
   {
    "duration": 351,
    "start_time": "2021-06-15T17:48:37.231Z"
   },
   {
    "duration": 78,
    "start_time": "2021-06-15T17:48:46.413Z"
   },
   {
    "duration": 14,
    "start_time": "2021-06-15T17:48:51.757Z"
   },
   {
    "duration": 13,
    "start_time": "2021-06-15T17:48:54.235Z"
   },
   {
    "duration": 7,
    "start_time": "2021-06-15T17:48:58.759Z"
   },
   {
    "duration": 16,
    "start_time": "2021-06-15T17:49:01.717Z"
   },
   {
    "duration": 24,
    "start_time": "2021-06-15T17:49:04.681Z"
   },
   {
    "duration": 10,
    "start_time": "2021-06-15T17:49:09.404Z"
   },
   {
    "duration": 9,
    "start_time": "2021-06-15T17:49:15.268Z"
   },
   {
    "duration": 6,
    "start_time": "2021-06-15T17:50:40.105Z"
   },
   {
    "duration": 364,
    "start_time": "2021-06-15T17:52:40.323Z"
   },
   {
    "duration": 9,
    "start_time": "2021-06-15T17:53:35.661Z"
   },
   {
    "duration": 322,
    "start_time": "2021-06-15T17:54:05.209Z"
   },
   {
    "duration": 9,
    "start_time": "2021-06-15T17:54:25.442Z"
   },
   {
    "duration": 97,
    "start_time": "2021-06-15T17:54:35.521Z"
   },
   {
    "duration": 115,
    "start_time": "2021-06-15T17:54:40.386Z"
   },
   {
    "duration": 142,
    "start_time": "2021-06-15T17:55:42.955Z"
   },
   {
    "duration": 122,
    "start_time": "2021-06-15T17:55:54.808Z"
   },
   {
    "duration": 112,
    "start_time": "2021-06-15T17:56:29.004Z"
   },
   {
    "duration": 130,
    "start_time": "2021-06-15T17:56:42.343Z"
   },
   {
    "duration": 117,
    "start_time": "2021-06-15T17:56:53.825Z"
   },
   {
    "duration": 372,
    "start_time": "2021-06-15T17:57:16.481Z"
   },
   {
    "duration": 9,
    "start_time": "2021-06-15T19:26:36.990Z"
   },
   {
    "duration": 9,
    "start_time": "2021-06-15T19:30:08.839Z"
   },
   {
    "duration": 7,
    "start_time": "2021-06-15T19:30:11.996Z"
   },
   {
    "duration": 10,
    "start_time": "2021-06-15T19:30:18.086Z"
   },
   {
    "duration": 8,
    "start_time": "2021-06-15T19:30:44.938Z"
   },
   {
    "duration": 13,
    "start_time": "2021-06-15T19:33:19.778Z"
   },
   {
    "duration": 8,
    "start_time": "2021-06-15T19:33:31.767Z"
   },
   {
    "duration": 636,
    "start_time": "2021-06-15T19:37:27.325Z"
   },
   {
    "duration": 625,
    "start_time": "2021-06-15T19:38:21.746Z"
   },
   {
    "duration": 22,
    "start_time": "2021-06-15T19:38:41.211Z"
   },
   {
    "duration": 27,
    "start_time": "2021-06-15T19:38:50.141Z"
   },
   {
    "duration": 669,
    "start_time": "2021-06-15T19:39:43.656Z"
   },
   {
    "duration": 656,
    "start_time": "2021-06-15T19:40:06.042Z"
   },
   {
    "duration": 647,
    "start_time": "2021-06-15T19:41:16.089Z"
   },
   {
    "duration": 655,
    "start_time": "2021-06-15T19:41:47.421Z"
   },
   {
    "duration": 652,
    "start_time": "2021-06-15T19:45:43.743Z"
   },
   {
    "duration": 16,
    "start_time": "2021-06-15T19:46:36.096Z"
   },
   {
    "duration": 646,
    "start_time": "2021-06-15T19:48:52.227Z"
   },
   {
    "duration": 9601,
    "start_time": "2021-06-15T19:52:05.844Z"
   },
   {
    "duration": 691,
    "start_time": "2021-06-15T19:55:15.477Z"
   },
   {
    "duration": 687,
    "start_time": "2021-06-15T20:00:22.519Z"
   },
   {
    "duration": 10,
    "start_time": "2021-06-15T20:01:17.224Z"
   },
   {
    "duration": 660,
    "start_time": "2021-06-15T20:03:10.275Z"
   },
   {
    "duration": 682,
    "start_time": "2021-06-15T20:03:39.417Z"
   },
   {
    "duration": 692,
    "start_time": "2021-06-15T20:04:31.898Z"
   },
   {
    "duration": -8750,
    "start_time": "2021-06-15T20:05:26.473Z"
   },
   {
    "duration": 5,
    "start_time": "2021-06-15T20:05:41.433Z"
   },
   {
    "duration": 678,
    "start_time": "2021-06-15T20:05:50.406Z"
   },
   {
    "duration": 6,
    "start_time": "2021-06-15T20:05:59.622Z"
   },
   {
    "duration": 656,
    "start_time": "2021-06-15T20:06:04.916Z"
   },
   {
    "duration": 8,
    "start_time": "2021-06-15T20:06:16.006Z"
   },
   {
    "duration": 7,
    "start_time": "2021-06-15T20:06:19.255Z"
   },
   {
    "duration": 31,
    "start_time": "2021-06-15T20:06:29.709Z"
   },
   {
    "duration": 655,
    "start_time": "2021-06-15T20:06:52.271Z"
   },
   {
    "duration": 6,
    "start_time": "2021-06-15T20:06:58.458Z"
   },
   {
    "duration": 28,
    "start_time": "2021-06-15T20:07:08.876Z"
   },
   {
    "duration": 9,
    "start_time": "2021-06-15T20:08:14.428Z"
   },
   {
    "duration": 355,
    "start_time": "2021-06-15T20:08:24.559Z"
   },
   {
    "duration": 76,
    "start_time": "2021-06-15T20:08:38.023Z"
   },
   {
    "duration": 16,
    "start_time": "2021-06-15T20:08:43.233Z"
   },
   {
    "duration": 15,
    "start_time": "2021-06-15T20:08:50.832Z"
   },
   {
    "duration": 356,
    "start_time": "2021-06-15T20:08:54.485Z"
   },
   {
    "duration": 19,
    "start_time": "2021-06-15T20:08:59.775Z"
   },
   {
    "duration": 29,
    "start_time": "2021-06-15T20:09:05.160Z"
   },
   {
    "duration": 6,
    "start_time": "2021-06-15T20:09:22.491Z"
   },
   {
    "duration": 8926,
    "start_time": "2021-06-15T20:10:16.973Z"
   },
   {
    "duration": 8827,
    "start_time": "2021-06-15T20:11:14.603Z"
   },
   {
    "duration": 9,
    "start_time": "2021-06-15T20:11:39.346Z"
   },
   {
    "duration": 221,
    "start_time": "2021-06-15T20:12:32.931Z"
   },
   {
    "duration": 11,
    "start_time": "2021-06-15T20:14:26.321Z"
   },
   {
    "duration": 9838,
    "start_time": "2021-06-15T20:14:42.362Z"
   },
   {
    "duration": 9,
    "start_time": "2021-06-15T20:15:12.208Z"
   },
   {
    "duration": 14,
    "start_time": "2021-06-15T20:15:27.868Z"
   },
   {
    "duration": 10,
    "start_time": "2021-06-15T20:18:40.348Z"
   },
   {
    "duration": 18,
    "start_time": "2021-06-15T20:18:44.616Z"
   },
   {
    "duration": 9142,
    "start_time": "2021-06-15T20:18:59.425Z"
   },
   {
    "duration": 8423,
    "start_time": "2021-06-15T20:19:10.459Z"
   },
   {
    "duration": 7069,
    "start_time": "2021-06-15T20:28:26.738Z"
   },
   {
    "duration": 8,
    "start_time": "2021-06-15T20:29:02.670Z"
   },
   {
    "duration": 6906,
    "start_time": "2021-06-15T20:29:09.844Z"
   },
   {
    "duration": 11,
    "start_time": "2021-06-15T20:30:04.098Z"
   },
   {
    "duration": 13,
    "start_time": "2021-06-15T20:30:15.289Z"
   },
   {
    "duration": 788,
    "start_time": "2021-06-15T20:31:05.473Z"
   },
   {
    "duration": 867,
    "start_time": "2021-06-15T20:32:14.866Z"
   },
   {
    "duration": 625,
    "start_time": "2021-06-15T20:32:32.283Z"
   },
   {
    "duration": 6820,
    "start_time": "2021-06-15T20:33:41.276Z"
   },
   {
    "duration": 7,
    "start_time": "2021-06-15T20:34:23.907Z"
   },
   {
    "duration": 6816,
    "start_time": "2021-06-15T20:34:27.656Z"
   },
   {
    "duration": 732,
    "start_time": "2021-06-15T20:35:19.029Z"
   },
   {
    "duration": 1066,
    "start_time": "2021-06-15T20:36:07.933Z"
   },
   {
    "duration": 745,
    "start_time": "2021-06-15T20:36:47.813Z"
   },
   {
    "duration": 751,
    "start_time": "2021-06-15T20:37:11.275Z"
   },
   {
    "duration": 864,
    "start_time": "2021-06-15T20:37:48.153Z"
   },
   {
    "duration": 10,
    "start_time": "2021-06-15T20:38:39.165Z"
   },
   {
    "duration": 639,
    "start_time": "2021-06-15T20:39:05.633Z"
   },
   {
    "duration": 735,
    "start_time": "2021-06-15T20:39:13.382Z"
   },
   {
    "duration": 4,
    "start_time": "2021-06-15T20:40:31.811Z"
   },
   {
    "duration": 735,
    "start_time": "2021-06-15T20:40:40.075Z"
   },
   {
    "duration": 3,
    "start_time": "2021-06-15T20:40:59.423Z"
   },
   {
    "duration": 76,
    "start_time": "2021-06-15T20:41:04.277Z"
   },
   {
    "duration": 4,
    "start_time": "2021-06-15T20:41:10.897Z"
   },
   {
    "duration": 641,
    "start_time": "2021-06-15T20:41:14.902Z"
   },
   {
    "duration": 5,
    "start_time": "2021-06-15T20:41:29.250Z"
   },
   {
    "duration": 775,
    "start_time": "2021-06-15T20:41:38.002Z"
   },
   {
    "duration": 825,
    "start_time": "2021-06-16T09:08:29.019Z"
   },
   {
    "duration": 16,
    "start_time": "2021-06-16T09:08:40.940Z"
   },
   {
    "duration": 12,
    "start_time": "2021-06-16T09:08:48.948Z"
   },
   {
    "duration": 17,
    "start_time": "2021-06-16T09:09:12.089Z"
   },
   {
    "duration": 14,
    "start_time": "2021-06-16T09:09:17.045Z"
   },
   {
    "duration": 25,
    "start_time": "2021-06-16T09:09:20.082Z"
   },
   {
    "duration": 6,
    "start_time": "2021-06-16T09:09:48.316Z"
   },
   {
    "duration": 5,
    "start_time": "2021-06-16T09:09:57.264Z"
   },
   {
    "duration": 27,
    "start_time": "2021-06-16T09:10:33.108Z"
   },
   {
    "duration": 6,
    "start_time": "2021-06-16T09:21:19.380Z"
   },
   {
    "duration": 15,
    "start_time": "2021-06-16T09:21:54.323Z"
   },
   {
    "duration": 104,
    "start_time": "2021-06-16T09:29:01.687Z"
   },
   {
    "duration": 7581,
    "start_time": "2021-06-16T09:29:27.173Z"
   },
   {
    "duration": 1318,
    "start_time": "2021-06-16T09:29:52.174Z"
   },
   {
    "duration": 2401,
    "start_time": "2021-06-16T09:30:15.196Z"
   },
   {
    "duration": 4980,
    "start_time": "2021-06-16T09:31:00.044Z"
   },
   {
    "duration": 2949,
    "start_time": "2021-06-16T09:31:25.606Z"
   },
   {
    "duration": 3028,
    "start_time": "2021-06-16T09:32:35.889Z"
   },
   {
    "duration": 11,
    "start_time": "2021-06-16T09:32:52.270Z"
   },
   {
    "duration": 10,
    "start_time": "2021-06-16T09:33:13.208Z"
   },
   {
    "duration": 13,
    "start_time": "2021-06-16T09:53:28.403Z"
   },
   {
    "duration": 8,
    "start_time": "2021-06-16T09:53:48.967Z"
   },
   {
    "duration": 9,
    "start_time": "2021-06-16T09:54:01.979Z"
   },
   {
    "duration": 288,
    "start_time": "2021-06-16T09:54:52.956Z"
   },
   {
    "duration": 9,
    "start_time": "2021-06-16T09:54:56.591Z"
   },
   {
    "duration": 8,
    "start_time": "2021-06-16T09:55:27.341Z"
   },
   {
    "duration": 7,
    "start_time": "2021-06-16T09:58:09.639Z"
   },
   {
    "duration": 11,
    "start_time": "2021-06-16T09:58:15.260Z"
   },
   {
    "duration": 11,
    "start_time": "2021-06-16T10:00:11.779Z"
   },
   {
    "duration": 10,
    "start_time": "2021-06-16T10:07:17.370Z"
   },
   {
    "duration": 9,
    "start_time": "2021-06-16T10:07:24.818Z"
   },
   {
    "duration": 11,
    "start_time": "2021-06-16T10:07:30.884Z"
   },
   {
    "duration": 3,
    "start_time": "2021-06-16T10:13:54.514Z"
   },
   {
    "duration": 3,
    "start_time": "2021-06-16T10:14:00.440Z"
   },
   {
    "duration": 3,
    "start_time": "2021-06-16T10:21:21.087Z"
   },
   {
    "duration": 3,
    "start_time": "2021-06-16T10:21:27.102Z"
   },
   {
    "duration": 9,
    "start_time": "2021-06-16T10:21:49.125Z"
   },
   {
    "duration": 3,
    "start_time": "2021-06-16T10:22:01.679Z"
   },
   {
    "duration": 9,
    "start_time": "2021-06-16T10:22:04.020Z"
   },
   {
    "duration": 3,
    "start_time": "2021-06-16T10:22:48.772Z"
   },
   {
    "duration": 8,
    "start_time": "2021-06-16T10:22:50.927Z"
   },
   {
    "duration": 16,
    "start_time": "2021-06-16T10:25:06.876Z"
   },
   {
    "duration": 22,
    "start_time": "2021-06-16T10:27:24.940Z"
   },
   {
    "duration": 20,
    "start_time": "2021-06-16T10:31:38.450Z"
   },
   {
    "duration": 5,
    "start_time": "2021-06-16T10:39:54.903Z"
   },
   {
    "duration": 5,
    "start_time": "2021-06-16T10:39:59.440Z"
   },
   {
    "duration": 7,
    "start_time": "2021-06-16T10:40:55.620Z"
   },
   {
    "duration": 7,
    "start_time": "2021-06-16T10:41:30.202Z"
   },
   {
    "duration": 7,
    "start_time": "2021-06-16T10:41:36.863Z"
   },
   {
    "duration": 6,
    "start_time": "2021-06-16T10:42:40.968Z"
   },
   {
    "duration": 30,
    "start_time": "2021-06-16T10:43:18.752Z"
   },
   {
    "duration": 5,
    "start_time": "2021-06-16T10:43:27.877Z"
   },
   {
    "duration": 6,
    "start_time": "2021-06-16T10:46:38.607Z"
   },
   {
    "duration": 19,
    "start_time": "2021-06-16T10:54:07.214Z"
   },
   {
    "duration": 16,
    "start_time": "2021-06-16T10:54:19.059Z"
   },
   {
    "duration": 15,
    "start_time": "2021-06-16T10:54:49.821Z"
   },
   {
    "duration": 10,
    "start_time": "2021-06-16T10:55:17.933Z"
   },
   {
    "duration": 9,
    "start_time": "2021-06-16T10:55:30.605Z"
   },
   {
    "duration": 10,
    "start_time": "2021-06-16T10:55:51.642Z"
   },
   {
    "duration": 8,
    "start_time": "2021-06-16T10:57:27.929Z"
   },
   {
    "duration": 6,
    "start_time": "2021-06-16T10:57:30.988Z"
   },
   {
    "duration": 699,
    "start_time": "2021-06-16T11:01:27.502Z"
   },
   {
    "duration": 736,
    "start_time": "2021-06-16T11:01:50.769Z"
   },
   {
    "duration": 715,
    "start_time": "2021-06-16T11:02:13.575Z"
   },
   {
    "duration": 1315,
    "start_time": "2021-06-16T11:04:56.159Z"
   },
   {
    "duration": 736,
    "start_time": "2021-06-16T11:05:33.399Z"
   },
   {
    "duration": 379,
    "start_time": "2021-06-16T11:05:47.794Z"
   },
   {
    "duration": 289,
    "start_time": "2021-06-16T11:06:09.303Z"
   },
   {
    "duration": 76,
    "start_time": "2021-06-16T11:06:20.745Z"
   },
   {
    "duration": 18,
    "start_time": "2021-06-16T11:06:28.271Z"
   },
   {
    "duration": 5,
    "start_time": "2021-06-16T11:06:31.394Z"
   },
   {
    "duration": 5,
    "start_time": "2021-06-16T11:06:33.604Z"
   },
   {
    "duration": 747,
    "start_time": "2021-06-16T11:06:45.349Z"
   },
   {
    "duration": 712,
    "start_time": "2021-06-16T11:07:10.644Z"
   },
   {
    "duration": 9,
    "start_time": "2021-06-16T11:10:33.749Z"
   },
   {
    "duration": 6,
    "start_time": "2021-06-16T11:12:21.302Z"
   },
   {
    "duration": 7,
    "start_time": "2021-06-16T11:12:28.463Z"
   },
   {
    "duration": 3,
    "start_time": "2021-06-16T11:12:39.332Z"
   },
   {
    "duration": 298,
    "start_time": "2021-06-16T11:12:50.711Z"
   },
   {
    "duration": 7184,
    "start_time": "2021-06-16T11:13:07.296Z"
   },
   {
    "duration": -8210,
    "start_time": "2021-06-16T11:13:22.692Z"
   },
   {
    "duration": 560,
    "start_time": "2021-06-16T11:13:52.484Z"
   },
   {
    "duration": 17,
    "start_time": "2021-06-16T11:14:15.076Z"
   },
   {
    "duration": 6639,
    "start_time": "2021-06-16T11:14:17.617Z"
   },
   {
    "duration": -8169,
    "start_time": "2021-06-16T11:14:32.428Z"
   },
   {
    "duration": 74,
    "start_time": "2021-06-16T11:14:31.878Z"
   },
   {
    "duration": 14,
    "start_time": "2021-06-16T11:14:36.305Z"
   },
   {
    "duration": 3,
    "start_time": "2021-06-16T11:14:45.180Z"
   },
   {
    "duration": 16,
    "start_time": "2021-06-16T11:14:48.389Z"
   },
   {
    "duration": 4,
    "start_time": "2021-06-16T11:14:50.823Z"
   },
   {
    "duration": 6,
    "start_time": "2021-06-16T11:14:53.620Z"
   },
   {
    "duration": 732,
    "start_time": "2021-06-16T11:14:57.325Z"
   },
   {
    "duration": 822,
    "start_time": "2021-06-16T11:17:46.166Z"
   },
   {
    "duration": 5,
    "start_time": "2021-06-16T11:18:03.117Z"
   },
   {
    "duration": 8,
    "start_time": "2021-06-16T11:20:40.768Z"
   },
   {
    "duration": -8060,
    "start_time": "2021-06-16T11:21:44.346Z"
   },
   {
    "duration": 56,
    "start_time": "2021-06-16T11:21:49.380Z"
   },
   {
    "duration": 19,
    "start_time": "2021-06-16T11:22:26.418Z"
   },
   {
    "duration": 9,
    "start_time": "2021-06-16T11:23:14.678Z"
   },
   {
    "duration": 318,
    "start_time": "2021-06-16T11:23:33.863Z"
   },
   {
    "duration": 15,
    "start_time": "2021-06-16T11:23:38.478Z"
   },
   {
    "duration": 10,
    "start_time": "2021-06-16T11:23:44.818Z"
   },
   {
    "duration": 16,
    "start_time": "2021-06-16T11:26:31.070Z"
   },
   {
    "duration": 5,
    "start_time": "2021-06-16T11:29:46.490Z"
   },
   {
    "duration": 3,
    "start_time": "2021-06-16T11:30:47.681Z"
   },
   {
    "duration": 3,
    "start_time": "2021-06-16T11:31:14.770Z"
   },
   {
    "duration": 2988,
    "start_time": "2021-06-16T11:36:56.918Z"
   },
   {
    "duration": 31,
    "start_time": "2021-06-16T11:38:59.512Z"
   },
   {
    "duration": 3,
    "start_time": "2021-06-16T11:39:13.237Z"
   },
   {
    "duration": 27,
    "start_time": "2021-06-16T11:39:18.431Z"
   },
   {
    "duration": 30,
    "start_time": "2021-06-16T11:39:42.866Z"
   },
   {
    "duration": 36,
    "start_time": "2021-06-16T11:43:35.694Z"
   },
   {
    "duration": 3,
    "start_time": "2021-06-16T11:55:23.819Z"
   },
   {
    "duration": 638,
    "start_time": "2021-06-16T12:10:32.197Z"
   },
   {
    "duration": 5,
    "start_time": "2021-06-16T12:11:20.453Z"
   },
   {
    "duration": 30,
    "start_time": "2021-06-16T12:11:42.995Z"
   },
   {
    "duration": 12,
    "start_time": "2021-06-16T12:17:45.932Z"
   },
   {
    "duration": 39,
    "start_time": "2021-06-16T12:17:58.786Z"
   },
   {
    "duration": 118,
    "start_time": "2021-06-16T12:18:48.480Z"
   },
   {
    "duration": 18,
    "start_time": "2021-06-16T12:19:08.899Z"
   },
   {
    "duration": 11,
    "start_time": "2021-06-16T12:19:28.798Z"
   },
   {
    "duration": -7949,
    "start_time": "2021-06-16T12:23:24.557Z"
   },
   {
    "duration": 6831,
    "start_time": "2021-06-16T12:23:25.499Z"
   },
   {
    "duration": 5,
    "start_time": "2021-06-16T12:23:38.005Z"
   },
   {
    "duration": 11,
    "start_time": "2021-06-16T12:23:48.552Z"
   },
   {
    "duration": -8021,
    "start_time": "2021-06-16T12:42:22.628Z"
   },
   {
    "duration": 10,
    "start_time": "2021-06-16T12:42:15.200Z"
   },
   {
    "duration": 4,
    "start_time": "2021-06-16T12:45:31.460Z"
   },
   {
    "duration": 733,
    "start_time": "2021-06-16T12:53:01.936Z"
   },
   {
    "duration": 503,
    "start_time": "2021-06-16T12:53:12.255Z"
   },
   {
    "duration": 592,
    "start_time": "2021-06-16T12:53:28.104Z"
   },
   {
    "duration": 603,
    "start_time": "2021-06-16T12:53:52.622Z"
   },
   {
    "duration": 612,
    "start_time": "2021-06-16T12:56:18.425Z"
   },
   {
    "duration": 596,
    "start_time": "2021-06-16T12:56:40.321Z"
   },
   {
    "duration": 602,
    "start_time": "2021-06-16T12:58:22.978Z"
   },
   {
    "duration": 621,
    "start_time": "2021-06-16T12:59:20.897Z"
   },
   {
    "duration": 635,
    "start_time": "2021-06-16T12:59:26.623Z"
   },
   {
    "duration": 755,
    "start_time": "2021-06-16T13:01:00.290Z"
   },
   {
    "duration": 643,
    "start_time": "2021-06-16T13:03:24.498Z"
   },
   {
    "duration": 625,
    "start_time": "2021-06-16T13:04:04.760Z"
   },
   {
    "duration": 634,
    "start_time": "2021-06-16T13:04:51.105Z"
   },
   {
    "duration": 747,
    "start_time": "2021-06-16T13:05:28.769Z"
   },
   {
    "duration": 1074,
    "start_time": "2021-06-16T13:05:34.856Z"
   },
   {
    "duration": 657,
    "start_time": "2021-06-16T13:14:30.949Z"
   },
   {
    "duration": 668,
    "start_time": "2021-06-16T13:14:45.751Z"
   },
   {
    "duration": 620,
    "start_time": "2021-06-16T13:16:03.722Z"
   },
   {
    "duration": 10,
    "start_time": "2021-06-16T13:20:52.100Z"
   },
   {
    "duration": 12,
    "start_time": "2021-06-16T13:21:20.441Z"
   },
   {
    "duration": 10,
    "start_time": "2021-06-16T13:21:41.831Z"
   },
   {
    "duration": 17,
    "start_time": "2021-06-16T13:34:04.107Z"
   },
   {
    "duration": 24,
    "start_time": "2021-06-16T13:34:15.035Z"
   },
   {
    "duration": 126,
    "start_time": "2021-06-16T13:35:05.831Z"
   },
   {
    "duration": 20,
    "start_time": "2021-06-16T13:35:10.878Z"
   },
   {
    "duration": 22,
    "start_time": "2021-06-16T13:35:47.741Z"
   },
   {
    "duration": 11,
    "start_time": "2021-06-16T14:12:23.802Z"
   },
   {
    "duration": 43,
    "start_time": "2021-06-16T14:12:54.629Z"
   },
   {
    "duration": 695,
    "start_time": "2021-06-16T14:14:21.393Z"
   },
   {
    "duration": 33,
    "start_time": "2021-06-16T14:14:31.282Z"
   },
   {
    "duration": 36,
    "start_time": "2021-06-16T14:14:47.643Z"
   },
   {
    "duration": 47,
    "start_time": "2021-06-16T14:16:23.385Z"
   },
   {
    "duration": 282,
    "start_time": "2021-06-16T14:18:23.300Z"
   },
   {
    "duration": 308,
    "start_time": "2021-06-16T14:18:32.911Z"
   },
   {
    "duration": 10,
    "start_time": "2021-06-16T14:18:55.805Z"
   },
   {
    "duration": 291,
    "start_time": "2021-06-16T14:19:28.498Z"
   },
   {
    "duration": 28,
    "start_time": "2021-06-16T14:19:32.355Z"
   },
   {
    "duration": 92,
    "start_time": "2021-06-16T14:20:28.987Z"
   },
   {
    "duration": 18,
    "start_time": "2021-06-16T14:20:32.074Z"
   },
   {
    "duration": 21,
    "start_time": "2021-06-16T14:20:47.072Z"
   },
   {
    "duration": 26,
    "start_time": "2021-06-16T14:22:48.742Z"
   },
   {
    "duration": 25,
    "start_time": "2021-06-16T14:22:56.975Z"
   },
   {
    "duration": 27,
    "start_time": "2021-06-16T14:23:17.587Z"
   },
   {
    "duration": 21,
    "start_time": "2021-06-16T14:23:29.644Z"
   },
   {
    "duration": 19,
    "start_time": "2021-06-16T14:24:27.654Z"
   },
   {
    "duration": 16,
    "start_time": "2021-06-16T14:25:38.400Z"
   },
   {
    "duration": 27,
    "start_time": "2021-06-16T14:26:36.099Z"
   },
   {
    "duration": 21,
    "start_time": "2021-06-16T14:27:04.991Z"
   },
   {
    "duration": 28,
    "start_time": "2021-06-16T14:28:48.089Z"
   },
   {
    "duration": 6,
    "start_time": "2021-06-16T14:30:24.734Z"
   },
   {
    "duration": 12,
    "start_time": "2021-06-16T14:30:27.990Z"
   },
   {
    "duration": 10,
    "start_time": "2021-06-16T14:32:05.345Z"
   },
   {
    "duration": 16,
    "start_time": "2021-06-16T14:33:18.546Z"
   },
   {
    "duration": 92,
    "start_time": "2021-06-16T14:33:52.307Z"
   },
   {
    "duration": 1126,
    "start_time": "2021-06-16T14:34:04.701Z"
   },
   {
    "duration": 26,
    "start_time": "2021-06-16T14:34:16.529Z"
   },
   {
    "duration": 22,
    "start_time": "2021-06-16T14:34:27.469Z"
   },
   {
    "duration": 21,
    "start_time": "2021-06-16T14:34:30.477Z"
   },
   {
    "duration": 29,
    "start_time": "2021-06-16T14:35:34.765Z"
   },
   {
    "duration": 31,
    "start_time": "2021-06-16T14:36:04.562Z"
   },
   {
    "duration": 23,
    "start_time": "2021-06-16T14:36:11.867Z"
   },
   {
    "duration": 27,
    "start_time": "2021-06-16T14:36:15.027Z"
   },
   {
    "duration": 28,
    "start_time": "2021-06-16T14:36:31.603Z"
   },
   {
    "duration": 28,
    "start_time": "2021-06-16T14:37:07.422Z"
   },
   {
    "duration": 4,
    "start_time": "2021-06-16T14:40:49.624Z"
   },
   {
    "duration": 4,
    "start_time": "2021-06-16T14:40:57.068Z"
   },
   {
    "duration": 6,
    "start_time": "2021-06-16T14:41:06.123Z"
   },
   {
    "duration": 5,
    "start_time": "2021-06-16T14:41:08.171Z"
   },
   {
    "duration": 755,
    "start_time": "2021-06-16T14:45:15.601Z"
   },
   {
    "duration": 5,
    "start_time": "2021-06-16T14:46:13.517Z"
   },
   {
    "duration": 28,
    "start_time": "2021-06-16T14:50:27.618Z"
   },
   {
    "duration": 5,
    "start_time": "2021-06-16T14:50:30.851Z"
   },
   {
    "duration": 5,
    "start_time": "2021-06-16T14:50:33.184Z"
   },
   {
    "duration": 721,
    "start_time": "2021-06-16T14:50:35.539Z"
   },
   {
    "duration": 4,
    "start_time": "2021-06-16T14:50:37.220Z"
   },
   {
    "duration": 5,
    "start_time": "2021-06-16T14:50:40.661Z"
   },
   {
    "duration": 5,
    "start_time": "2021-06-16T14:52:45.262Z"
   },
   {
    "duration": 5,
    "start_time": "2021-06-16T14:56:06.366Z"
   },
   {
    "duration": 11,
    "start_time": "2021-06-16T15:02:58.168Z"
   },
   {
    "duration": 10,
    "start_time": "2021-06-16T15:03:00.533Z"
   },
   {
    "duration": 14,
    "start_time": "2021-06-16T15:03:43.585Z"
   },
   {
    "duration": 16,
    "start_time": "2021-06-16T15:03:45.723Z"
   },
   {
    "duration": 287,
    "start_time": "2021-06-16T15:04:45.067Z"
   },
   {
    "duration": 35,
    "start_time": "2021-06-16T15:05:07.382Z"
   },
   {
    "duration": 3033,
    "start_time": "2021-06-16T15:05:51.437Z"
   },
   {
    "duration": 2975,
    "start_time": "2021-06-16T15:05:59.057Z"
   },
   {
    "duration": 3092,
    "start_time": "2021-06-16T15:07:12.414Z"
   },
   {
    "duration": 11,
    "start_time": "2021-06-16T15:08:31.462Z"
   },
   {
    "duration": 612,
    "start_time": "2021-06-16T15:11:10.333Z"
   },
   {
    "duration": 607,
    "start_time": "2021-06-16T15:13:52.431Z"
   },
   {
    "duration": 622,
    "start_time": "2021-06-16T15:13:54.603Z"
   },
   {
    "duration": 25,
    "start_time": "2021-06-16T15:14:42.035Z"
   },
   {
    "duration": 32,
    "start_time": "2021-06-16T15:14:45.606Z"
   },
   {
    "duration": 29,
    "start_time": "2021-06-16T15:20:04.981Z"
   },
   {
    "duration": 600,
    "start_time": "2021-06-16T15:25:05.012Z"
   },
   {
    "duration": 651,
    "start_time": "2021-06-16T15:27:47.025Z"
   },
   {
    "duration": 28,
    "start_time": "2021-06-16T15:29:30.173Z"
   },
   {
    "duration": 28,
    "start_time": "2021-06-16T15:30:35.396Z"
   },
   {
    "duration": 71,
    "start_time": "2021-06-16T15:30:54.605Z"
   },
   {
    "duration": 26,
    "start_time": "2021-06-16T15:34:14.081Z"
   },
   {
    "duration": 8021,
    "start_time": "2021-06-16T15:34:30.886Z"
   },
   {
    "duration": 599,
    "start_time": "2021-06-16T15:35:10.628Z"
   },
   {
    "duration": 629,
    "start_time": "2021-06-16T15:35:36.450Z"
   },
   {
    "duration": 635,
    "start_time": "2021-06-16T15:36:28.974Z"
   },
   {
    "duration": 16,
    "start_time": "2021-06-16T15:37:54.749Z"
   },
   {
    "duration": 71,
    "start_time": "2021-06-16T15:38:02.549Z"
   },
   {
    "duration": 16,
    "start_time": "2021-06-16T15:38:07.096Z"
   },
   {
    "duration": 5,
    "start_time": "2021-06-16T15:38:08.955Z"
   },
   {
    "duration": 6,
    "start_time": "2021-06-16T15:38:11.071Z"
   },
   {
    "duration": 713,
    "start_time": "2021-06-16T15:38:16.612Z"
   },
   {
    "duration": 6,
    "start_time": "2021-06-16T15:38:19.496Z"
   },
   {
    "duration": 6,
    "start_time": "2021-06-16T15:38:22.588Z"
   },
   {
    "duration": 11,
    "start_time": "2021-06-16T15:38:26.706Z"
   },
   {
    "duration": 14,
    "start_time": "2021-06-16T15:38:30.646Z"
   },
   {
    "duration": 27,
    "start_time": "2021-06-16T15:38:33.264Z"
   },
   {
    "duration": 2937,
    "start_time": "2021-06-16T15:38:37.039Z"
   },
   {
    "duration": 10,
    "start_time": "2021-06-16T15:38:45.790Z"
   },
   {
    "duration": 603,
    "start_time": "2021-06-16T15:38:49.704Z"
   },
   {
    "duration": 636,
    "start_time": "2021-06-16T15:38:59.001Z"
   },
   {
    "duration": 597,
    "start_time": "2021-06-16T15:39:08.308Z"
   },
   {
    "duration": 27,
    "start_time": "2021-06-16T16:15:16.467Z"
   },
   {
    "duration": 828,
    "start_time": "2021-06-16T19:15:45.521Z"
   },
   {
    "duration": 17,
    "start_time": "2021-06-16T19:15:46.353Z"
   },
   {
    "duration": 5,
    "start_time": "2021-06-16T19:15:46.373Z"
   },
   {
    "duration": 8,
    "start_time": "2021-06-16T19:15:46.380Z"
   },
   {
    "duration": 722,
    "start_time": "2021-06-16T19:15:46.408Z"
   },
   {
    "duration": 5,
    "start_time": "2021-06-16T19:15:47.132Z"
   },
   {
    "duration": 8,
    "start_time": "2021-06-16T19:15:47.139Z"
   },
   {
    "duration": 12,
    "start_time": "2021-06-16T19:15:47.151Z"
   },
   {
    "duration": 19,
    "start_time": "2021-06-16T19:15:47.166Z"
   },
   {
    "duration": 50,
    "start_time": "2021-06-16T19:15:47.187Z"
   },
   {
    "duration": 5894,
    "start_time": "2021-06-16T19:15:47.240Z"
   },
   {
    "duration": 10,
    "start_time": "2021-06-16T19:15:53.136Z"
   },
   {
    "duration": 609,
    "start_time": "2021-06-16T19:15:53.149Z"
   },
   {
    "duration": 624,
    "start_time": "2021-06-16T19:15:53.760Z"
   },
   {
    "duration": 53,
    "start_time": "2021-06-16T19:15:54.386Z"
   },
   {
    "duration": 26,
    "start_time": "2021-06-16T19:15:54.442Z"
   },
   {
    "duration": 50,
    "start_time": "2021-06-16T19:15:54.470Z"
   },
   {
    "duration": 25,
    "start_time": "2021-06-16T19:15:54.522Z"
   },
   {
    "duration": 9,
    "start_time": "2021-06-16T19:44:29.779Z"
   },
   {
    "duration": 24,
    "start_time": "2021-06-16T20:03:24.199Z"
   },
   {
    "duration": 43,
    "start_time": "2021-06-16T20:13:43.704Z"
   },
   {
    "duration": 37,
    "start_time": "2021-06-16T20:16:31.807Z"
   },
   {
    "duration": 15,
    "start_time": "2021-06-16T20:22:43.866Z"
   },
   {
    "duration": 545,
    "start_time": "2021-06-16T21:11:19.816Z"
   },
   {
    "duration": 6350,
    "start_time": "2021-06-16T21:11:45.440Z"
   },
   {
    "duration": 35,
    "start_time": "2021-06-16T21:12:06.743Z"
   },
   {
    "duration": 44,
    "start_time": "2021-06-16T21:12:11.782Z"
   },
   {
    "duration": 870,
    "start_time": "2021-06-16T21:58:42.421Z"
   },
   {
    "duration": 17,
    "start_time": "2021-06-16T21:58:43.295Z"
   },
   {
    "duration": 4,
    "start_time": "2021-06-16T21:58:43.316Z"
   },
   {
    "duration": 12,
    "start_time": "2021-06-16T21:58:43.323Z"
   },
   {
    "duration": 735,
    "start_time": "2021-06-16T21:58:43.338Z"
   },
   {
    "duration": 6,
    "start_time": "2021-06-16T21:58:44.075Z"
   },
   {
    "duration": 25,
    "start_time": "2021-06-16T21:58:44.084Z"
   },
   {
    "duration": 13,
    "start_time": "2021-06-16T21:58:44.113Z"
   },
   {
    "duration": 21,
    "start_time": "2021-06-16T21:58:44.128Z"
   },
   {
    "duration": 30,
    "start_time": "2021-06-16T21:58:44.151Z"
   },
   {
    "duration": 5904,
    "start_time": "2021-06-16T21:58:44.183Z"
   },
   {
    "duration": 11,
    "start_time": "2021-06-16T21:58:50.089Z"
   },
   {
    "duration": 682,
    "start_time": "2021-06-16T21:58:50.102Z"
   },
   {
    "duration": 677,
    "start_time": "2021-06-16T21:58:50.786Z"
   },
   {
    "duration": 44,
    "start_time": "2021-06-16T21:58:51.466Z"
   },
   {
    "duration": 27,
    "start_time": "2021-06-16T21:58:51.513Z"
   },
   {
    "duration": 27,
    "start_time": "2021-06-16T21:58:51.543Z"
   },
   {
    "duration": 35,
    "start_time": "2021-06-16T21:58:51.573Z"
   },
   {
    "duration": 27,
    "start_time": "2021-06-16T21:58:51.611Z"
   },
   {
    "duration": 803,
    "start_time": "2021-06-17T07:17:50.077Z"
   },
   {
    "duration": 17,
    "start_time": "2021-06-17T07:17:50.883Z"
   },
   {
    "duration": 4,
    "start_time": "2021-06-17T07:17:50.903Z"
   },
   {
    "duration": 11,
    "start_time": "2021-06-17T07:17:50.910Z"
   },
   {
    "duration": 1032,
    "start_time": "2021-06-17T07:17:50.924Z"
   },
   {
    "duration": 4,
    "start_time": "2021-06-17T07:17:51.958Z"
   },
   {
    "duration": 12,
    "start_time": "2021-06-17T07:17:51.964Z"
   },
   {
    "duration": 27,
    "start_time": "2021-06-17T07:17:51.979Z"
   },
   {
    "duration": 13,
    "start_time": "2021-06-17T07:17:52.009Z"
   },
   {
    "duration": 29,
    "start_time": "2021-06-17T07:17:52.025Z"
   },
   {
    "duration": 5521,
    "start_time": "2021-06-17T07:17:52.057Z"
   },
   {
    "duration": 10,
    "start_time": "2021-06-17T07:17:57.580Z"
   },
   {
    "duration": 657,
    "start_time": "2021-06-17T07:17:57.593Z"
   },
   {
    "duration": 590,
    "start_time": "2021-06-17T07:17:58.252Z"
   },
   {
    "duration": 18,
    "start_time": "2021-06-17T07:17:58.845Z"
   },
   {
    "duration": 49,
    "start_time": "2021-06-17T07:17:58.866Z"
   },
   {
    "duration": 26,
    "start_time": "2021-06-17T07:17:58.917Z"
   },
   {
    "duration": 25,
    "start_time": "2021-06-17T07:17:58.945Z"
   },
   {
    "duration": 52,
    "start_time": "2021-06-17T07:17:58.972Z"
   },
   {
    "duration": 904,
    "start_time": "2021-06-17T07:32:02.374Z"
   },
   {
    "duration": 19,
    "start_time": "2021-06-17T07:32:03.281Z"
   },
   {
    "duration": 6,
    "start_time": "2021-06-17T07:32:03.304Z"
   },
   {
    "duration": 13,
    "start_time": "2021-06-17T07:32:03.313Z"
   },
   {
    "duration": 697,
    "start_time": "2021-06-17T07:32:03.328Z"
   },
   {
    "duration": 6,
    "start_time": "2021-06-17T07:32:04.028Z"
   },
   {
    "duration": 26,
    "start_time": "2021-06-17T07:32:04.037Z"
   },
   {
    "duration": 15,
    "start_time": "2021-06-17T07:32:04.068Z"
   },
   {
    "duration": 29,
    "start_time": "2021-06-17T07:32:04.086Z"
   },
   {
    "duration": 34,
    "start_time": "2021-06-17T07:32:04.117Z"
   },
   {
    "duration": 5650,
    "start_time": "2021-06-17T07:32:04.153Z"
   },
   {
    "duration": 10,
    "start_time": "2021-06-17T07:32:09.806Z"
   },
   {
    "duration": 578,
    "start_time": "2021-06-17T07:32:09.818Z"
   },
   {
    "duration": 588,
    "start_time": "2021-06-17T07:32:10.401Z"
   },
   {
    "duration": 23,
    "start_time": "2021-06-17T07:32:10.992Z"
   },
   {
    "duration": 33,
    "start_time": "2021-06-17T07:32:11.017Z"
   },
   {
    "duration": 52,
    "start_time": "2021-06-17T07:32:11.052Z"
   },
   {
    "duration": 26,
    "start_time": "2021-06-17T07:32:11.106Z"
   },
   {
    "duration": 26,
    "start_time": "2021-06-17T07:32:11.135Z"
   },
   {
    "duration": 845,
    "start_time": "2021-06-17T11:58:01.620Z"
   },
   {
    "duration": 10,
    "start_time": "2021-06-17T11:58:12.130Z"
   },
   {
    "duration": 10,
    "start_time": "2021-06-17T11:58:23.100Z"
   },
   {
    "duration": 17,
    "start_time": "2021-06-17T11:58:39.260Z"
   },
   {
    "duration": 15,
    "start_time": "2021-06-17T11:58:43.638Z"
   },
   {
    "duration": 14,
    "start_time": "2021-06-17T11:59:00.130Z"
   },
   {
    "duration": 15,
    "start_time": "2021-06-17T11:59:07.279Z"
   },
   {
    "duration": 11,
    "start_time": "2021-06-17T11:59:30.756Z"
   },
   {
    "duration": 66,
    "start_time": "2021-06-17T12:06:17.413Z"
   },
   {
    "duration": 8,
    "start_time": "2021-06-17T12:06:34.018Z"
   },
   {
    "duration": 356,
    "start_time": "2021-06-17T12:13:59.111Z"
   },
   {
    "duration": 8,
    "start_time": "2021-06-17T12:14:04.271Z"
   },
   {
    "duration": 8,
    "start_time": "2021-06-17T12:18:23.153Z"
   },
   {
    "duration": 272,
    "start_time": "2021-06-17T12:21:16.088Z"
   },
   {
    "duration": 270,
    "start_time": "2021-06-17T12:21:28.813Z"
   },
   {
    "duration": 254,
    "start_time": "2021-06-17T12:21:58.031Z"
   },
   {
    "duration": 3,
    "start_time": "2021-06-17T12:22:22.094Z"
   },
   {
    "duration": 3,
    "start_time": "2021-06-17T12:22:45.671Z"
   },
   {
    "duration": 6,
    "start_time": "2021-06-17T12:23:01.028Z"
   },
   {
    "duration": 267,
    "start_time": "2021-06-17T12:23:19.582Z"
   },
   {
    "duration": 6,
    "start_time": "2021-06-17T12:23:26.222Z"
   },
   {
    "duration": 5,
    "start_time": "2021-06-17T12:27:41.968Z"
   },
   {
    "duration": 6,
    "start_time": "2021-06-17T12:27:48.753Z"
   },
   {
    "duration": 5,
    "start_time": "2021-06-17T12:28:39.721Z"
   },
   {
    "duration": 15,
    "start_time": "2021-06-17T12:41:41.611Z"
   },
   {
    "duration": 10,
    "start_time": "2021-06-17T12:45:54.416Z"
   },
   {
    "duration": 12,
    "start_time": "2021-06-17T12:46:21.397Z"
   },
   {
    "duration": 10,
    "start_time": "2021-06-17T12:46:29.368Z"
   },
   {
    "duration": 9,
    "start_time": "2021-06-17T12:46:38.230Z"
   },
   {
    "duration": 9,
    "start_time": "2021-06-17T12:48:09.704Z"
   },
   {
    "duration": 11,
    "start_time": "2021-06-17T12:53:01.286Z"
   },
   {
    "duration": 11,
    "start_time": "2021-06-17T12:54:16.435Z"
   },
   {
    "duration": 11,
    "start_time": "2021-06-17T12:54:18.374Z"
   },
   {
    "duration": 22,
    "start_time": "2021-06-17T12:55:17.927Z"
   },
   {
    "duration": 22,
    "start_time": "2021-06-17T12:55:22.451Z"
   },
   {
    "duration": 21,
    "start_time": "2021-06-17T12:55:27.535Z"
   },
   {
    "duration": 22,
    "start_time": "2021-06-17T12:55:30.341Z"
   },
   {
    "duration": 64,
    "start_time": "2021-06-17T12:58:45.196Z"
   },
   {
    "duration": 65,
    "start_time": "2021-06-17T12:59:04.964Z"
   },
   {
    "duration": 68,
    "start_time": "2021-06-17T13:00:32.027Z"
   },
   {
    "duration": 7479,
    "start_time": "2021-06-17T13:12:36.046Z"
   },
   {
    "duration": 8118,
    "start_time": "2021-06-17T13:13:07.868Z"
   },
   {
    "duration": 8508,
    "start_time": "2021-06-17T13:13:30.545Z"
   },
   {
    "duration": 23,
    "start_time": "2021-06-17T13:14:03.924Z"
   },
   {
    "duration": 12,
    "start_time": "2021-06-17T13:14:05.599Z"
   },
   {
    "duration": 17,
    "start_time": "2021-06-17T13:21:15.301Z"
   },
   {
    "duration": 5,
    "start_time": "2021-06-17T13:21:19.928Z"
   },
   {
    "duration": 6,
    "start_time": "2021-06-17T13:21:22.103Z"
   },
   {
    "duration": 711,
    "start_time": "2021-06-17T13:21:24.578Z"
   },
   {
    "duration": 5,
    "start_time": "2021-06-17T13:21:27.711Z"
   },
   {
    "duration": 5,
    "start_time": "2021-06-17T13:21:30.739Z"
   },
   {
    "duration": 10,
    "start_time": "2021-06-17T13:21:33.285Z"
   },
   {
    "duration": 14,
    "start_time": "2021-06-17T13:21:36.869Z"
   },
   {
    "duration": 26,
    "start_time": "2021-06-17T13:22:57.692Z"
   },
   {
    "duration": 45,
    "start_time": "2021-06-17T13:23:19.885Z"
   },
   {
    "duration": 5706,
    "start_time": "2021-06-17T13:23:32.226Z"
   },
   {
    "duration": 10,
    "start_time": "2021-06-17T13:23:37.935Z"
   },
   {
    "duration": 587,
    "start_time": "2021-06-17T13:23:37.955Z"
   },
   {
    "duration": 681,
    "start_time": "2021-06-17T13:23:43.987Z"
   },
   {
    "duration": 598,
    "start_time": "2021-06-17T13:24:15.422Z"
   },
   {
    "duration": -9155,
    "start_time": "2021-06-17T13:24:57.597Z"
   },
   {
    "duration": 13,
    "start_time": "2021-06-17T13:25:00.773Z"
   },
   {
    "duration": 43,
    "start_time": "2021-06-17T13:30:45.830Z"
   },
   {
    "duration": 6648,
    "start_time": "2021-06-17T13:32:17.519Z"
   },
   {
    "duration": 6430,
    "start_time": "2021-06-17T13:32:40.927Z"
   },
   {
    "duration": 43,
    "start_time": "2021-06-17T13:32:52.817Z"
   },
   {
    "duration": 43,
    "start_time": "2021-06-17T13:39:46.801Z"
   },
   {
    "duration": 50,
    "start_time": "2021-06-17T13:40:12.472Z"
   },
   {
    "duration": -9151,
    "start_time": "2021-06-17T13:40:35.595Z"
   },
   {
    "duration": 45,
    "start_time": "2021-06-17T13:40:33.149Z"
   },
   {
    "duration": 89,
    "start_time": "2021-06-17T13:47:58.324Z"
   },
   {
    "duration": 767,
    "start_time": "2021-06-17T15:08:37.502Z"
   },
   {
    "duration": 7,
    "start_time": "2021-06-17T15:08:38.272Z"
   },
   {
    "duration": 18,
    "start_time": "2021-06-17T15:08:38.282Z"
   },
   {
    "duration": 21,
    "start_time": "2021-06-17T15:08:38.302Z"
   },
   {
    "duration": 14,
    "start_time": "2021-06-17T15:08:38.325Z"
   },
   {
    "duration": 11,
    "start_time": "2021-06-17T15:08:38.355Z"
   },
   {
    "duration": 14,
    "start_time": "2021-06-17T15:08:38.369Z"
   },
   {
    "duration": 14,
    "start_time": "2021-06-17T15:08:38.388Z"
   },
   {
    "duration": 101,
    "start_time": "2021-06-17T15:08:38.406Z"
   },
   {
    "duration": 18,
    "start_time": "2021-06-17T15:08:38.511Z"
   },
   {
    "duration": 24,
    "start_time": "2021-06-17T15:08:38.531Z"
   },
   {
    "duration": 9,
    "start_time": "2021-06-17T15:08:38.558Z"
   },
   {
    "duration": 739,
    "start_time": "2021-06-17T15:08:38.570Z"
   },
   {
    "duration": 5,
    "start_time": "2021-06-17T15:08:39.312Z"
   },
   {
    "duration": 13,
    "start_time": "2021-06-17T15:08:39.320Z"
   },
   {
    "duration": 27,
    "start_time": "2021-06-17T15:08:39.335Z"
   },
   {
    "duration": 17,
    "start_time": "2021-06-17T15:08:39.364Z"
   },
   {
    "duration": 74,
    "start_time": "2021-06-17T15:08:39.384Z"
   },
   {
    "duration": 6040,
    "start_time": "2021-06-17T15:08:39.461Z"
   },
   {
    "duration": 12,
    "start_time": "2021-06-17T15:08:45.503Z"
   },
   {
    "duration": 608,
    "start_time": "2021-06-17T15:08:45.518Z"
   },
   {
    "duration": 613,
    "start_time": "2021-06-17T15:08:46.129Z"
   },
   {
    "duration": 22,
    "start_time": "2021-06-17T15:08:46.747Z"
   },
   {
    "duration": 44,
    "start_time": "2021-06-17T15:08:46.772Z"
   },
   {
    "duration": 70,
    "start_time": "2021-06-17T15:08:46.818Z"
   },
   {
    "duration": 41,
    "start_time": "2021-06-17T15:08:46.890Z"
   },
   {
    "duration": 59,
    "start_time": "2021-06-17T15:08:46.933Z"
   },
   {
    "duration": 96,
    "start_time": "2021-06-18T08:10:40.621Z"
   },
   {
    "duration": 320,
    "start_time": "2021-06-18T08:14:02.953Z"
   },
   {
    "duration": 809,
    "start_time": "2021-06-18T08:14:11.173Z"
   },
   {
    "duration": 7,
    "start_time": "2021-06-18T08:14:11.985Z"
   },
   {
    "duration": 12,
    "start_time": "2021-06-18T08:14:11.994Z"
   },
   {
    "duration": 20,
    "start_time": "2021-06-18T08:14:12.008Z"
   },
   {
    "duration": 32,
    "start_time": "2021-06-18T08:14:12.030Z"
   },
   {
    "duration": 9,
    "start_time": "2021-06-18T08:14:12.064Z"
   },
   {
    "duration": 15,
    "start_time": "2021-06-18T08:14:12.076Z"
   },
   {
    "duration": 9,
    "start_time": "2021-06-18T08:14:12.095Z"
   },
   {
    "duration": 16,
    "start_time": "2021-06-18T08:14:12.107Z"
   },
   {
    "duration": 64,
    "start_time": "2021-06-18T08:14:12.154Z"
   },
   {
    "duration": 35,
    "start_time": "2021-06-18T08:14:12.220Z"
   },
   {
    "duration": 4,
    "start_time": "2021-06-18T08:14:12.258Z"
   },
   {
    "duration": 17,
    "start_time": "2021-06-18T08:14:12.264Z"
   },
   {
    "duration": 692,
    "start_time": "2021-06-18T08:14:12.284Z"
   },
   {
    "duration": 4,
    "start_time": "2021-06-18T08:14:12.979Z"
   },
   {
    "duration": 34,
    "start_time": "2021-06-18T08:14:12.986Z"
   },
   {
    "duration": 16,
    "start_time": "2021-06-18T08:14:13.022Z"
   },
   {
    "duration": 25,
    "start_time": "2021-06-18T08:14:13.040Z"
   },
   {
    "duration": 48,
    "start_time": "2021-06-18T08:14:13.068Z"
   },
   {
    "duration": 5619,
    "start_time": "2021-06-18T08:14:13.119Z"
   },
   {
    "duration": 15,
    "start_time": "2021-06-18T08:14:18.740Z"
   },
   {
    "duration": 576,
    "start_time": "2021-06-18T08:14:18.758Z"
   },
   {
    "duration": 592,
    "start_time": "2021-06-18T08:14:19.339Z"
   },
   {
    "duration": 26,
    "start_time": "2021-06-18T08:14:19.934Z"
   },
   {
    "duration": 43,
    "start_time": "2021-06-18T08:14:19.962Z"
   },
   {
    "duration": 70,
    "start_time": "2021-06-18T08:14:20.007Z"
   },
   {
    "duration": 44,
    "start_time": "2021-06-18T08:14:20.079Z"
   },
   {
    "duration": 67,
    "start_time": "2021-06-18T08:14:20.125Z"
   },
   {
    "duration": 41,
    "start_time": "2021-06-18T08:19:51.506Z"
   },
   {
    "duration": 30,
    "start_time": "2021-06-18T08:21:46.003Z"
   },
   {
    "duration": 70,
    "start_time": "2021-06-18T08:21:50.923Z"
   },
   {
    "duration": 7,
    "start_time": "2021-06-18T08:21:50.996Z"
   },
   {
    "duration": 14,
    "start_time": "2021-06-18T08:21:51.006Z"
   },
   {
    "duration": 32,
    "start_time": "2021-06-18T08:21:51.022Z"
   },
   {
    "duration": 15,
    "start_time": "2021-06-18T08:21:51.056Z"
   },
   {
    "duration": 9,
    "start_time": "2021-06-18T08:21:51.073Z"
   },
   {
    "duration": 24,
    "start_time": "2021-06-18T08:21:51.084Z"
   },
   {
    "duration": 26,
    "start_time": "2021-06-18T08:21:51.111Z"
   },
   {
    "duration": 77,
    "start_time": "2021-06-18T08:21:51.140Z"
   },
   {
    "duration": 22,
    "start_time": "2021-06-18T08:21:54.609Z"
   },
   {
    "duration": 70,
    "start_time": "2021-06-18T08:38:21.609Z"
   },
   {
    "duration": 8,
    "start_time": "2021-06-18T08:38:21.682Z"
   },
   {
    "duration": 5,
    "start_time": "2021-06-18T08:38:21.694Z"
   },
   {
    "duration": 16,
    "start_time": "2021-06-18T08:38:21.702Z"
   },
   {
    "duration": 38,
    "start_time": "2021-06-18T08:38:21.720Z"
   },
   {
    "duration": 9,
    "start_time": "2021-06-18T08:38:21.760Z"
   },
   {
    "duration": 10,
    "start_time": "2021-06-18T08:38:21.771Z"
   },
   {
    "duration": 9,
    "start_time": "2021-06-18T08:38:21.784Z"
   },
   {
    "duration": 106,
    "start_time": "2021-06-18T08:38:21.796Z"
   },
   {
    "duration": 8,
    "start_time": "2021-06-18T08:39:48.005Z"
   },
   {
    "duration": 7,
    "start_time": "2021-06-18T08:39:56.705Z"
   },
   {
    "duration": 9,
    "start_time": "2021-06-18T08:40:37.085Z"
   },
   {
    "duration": 87,
    "start_time": "2021-06-18T08:47:13.085Z"
   },
   {
    "duration": 836,
    "start_time": "2021-06-18T08:48:53.132Z"
   },
   {
    "duration": 8,
    "start_time": "2021-06-18T08:48:53.970Z"
   },
   {
    "duration": 7,
    "start_time": "2021-06-18T08:48:53.981Z"
   },
   {
    "duration": 16,
    "start_time": "2021-06-18T08:48:53.990Z"
   },
   {
    "duration": 15,
    "start_time": "2021-06-18T08:48:54.009Z"
   },
   {
    "duration": 37,
    "start_time": "2021-06-18T08:48:54.026Z"
   },
   {
    "duration": 9,
    "start_time": "2021-06-18T08:48:54.065Z"
   },
   {
    "duration": 11,
    "start_time": "2021-06-18T08:48:54.078Z"
   },
   {
    "duration": 100,
    "start_time": "2021-06-18T08:48:54.092Z"
   },
   {
    "duration": 17,
    "start_time": "2021-06-18T08:48:54.194Z"
   },
   {
    "duration": 4,
    "start_time": "2021-06-18T08:48:54.213Z"
   },
   {
    "duration": 12,
    "start_time": "2021-06-18T08:48:54.220Z"
   },
   {
    "duration": 828,
    "start_time": "2021-06-18T08:48:54.255Z"
   },
   {
    "duration": 5,
    "start_time": "2021-06-18T08:48:55.085Z"
   },
   {
    "duration": 12,
    "start_time": "2021-06-18T08:48:55.092Z"
   },
   {
    "duration": 17,
    "start_time": "2021-06-18T08:48:55.106Z"
   },
   {
    "duration": 32,
    "start_time": "2021-06-18T08:48:55.125Z"
   },
   {
    "duration": 44,
    "start_time": "2021-06-18T08:48:55.159Z"
   },
   {
    "duration": 5614,
    "start_time": "2021-06-18T08:48:55.205Z"
   },
   {
    "duration": 11,
    "start_time": "2021-06-18T08:49:00.822Z"
   },
   {
    "duration": 612,
    "start_time": "2021-06-18T08:49:00.836Z"
   },
   {
    "duration": 598,
    "start_time": "2021-06-18T08:49:01.451Z"
   },
   {
    "duration": 21,
    "start_time": "2021-06-18T08:49:02.056Z"
   },
   {
    "duration": 63,
    "start_time": "2021-06-18T08:49:02.081Z"
   },
   {
    "duration": 45,
    "start_time": "2021-06-18T08:49:02.155Z"
   },
   {
    "duration": 69,
    "start_time": "2021-06-18T08:49:02.203Z"
   },
   {
    "duration": 45,
    "start_time": "2021-06-18T08:49:02.275Z"
   },
   {
    "duration": 760,
    "start_time": "2021-06-18T09:18:45.806Z"
   },
   {
    "duration": 7,
    "start_time": "2021-06-18T09:18:46.569Z"
   },
   {
    "duration": 7,
    "start_time": "2021-06-18T09:18:46.579Z"
   },
   {
    "duration": 17,
    "start_time": "2021-06-18T09:18:46.589Z"
   },
   {
    "duration": 13,
    "start_time": "2021-06-18T09:18:46.609Z"
   },
   {
    "duration": 10,
    "start_time": "2021-06-18T09:18:46.655Z"
   },
   {
    "duration": 10,
    "start_time": "2021-06-18T09:18:46.667Z"
   },
   {
    "duration": 15,
    "start_time": "2021-06-18T09:18:46.681Z"
   },
   {
    "duration": 101,
    "start_time": "2021-06-18T09:18:46.699Z"
   },
   {
    "duration": 16,
    "start_time": "2021-06-18T09:18:46.802Z"
   },
   {
    "duration": 4,
    "start_time": "2021-06-18T09:18:46.820Z"
   },
   {
    "duration": 29,
    "start_time": "2021-06-18T09:18:46.827Z"
   },
   {
    "duration": 720,
    "start_time": "2021-06-18T09:18:46.858Z"
   },
   {
    "duration": 4,
    "start_time": "2021-06-18T09:18:47.581Z"
   },
   {
    "duration": 17,
    "start_time": "2021-06-18T09:18:47.588Z"
   },
   {
    "duration": 22,
    "start_time": "2021-06-18T09:18:47.607Z"
   },
   {
    "duration": 26,
    "start_time": "2021-06-18T09:18:47.631Z"
   },
   {
    "duration": 63,
    "start_time": "2021-06-18T09:18:47.659Z"
   },
   {
    "duration": 5921,
    "start_time": "2021-06-18T09:18:47.724Z"
   },
   {
    "duration": 13,
    "start_time": "2021-06-18T09:18:53.648Z"
   },
   {
    "duration": 614,
    "start_time": "2021-06-18T09:18:53.663Z"
   },
   {
    "duration": 747,
    "start_time": "2021-06-18T09:18:54.280Z"
   },
   {
    "duration": 28,
    "start_time": "2021-06-18T09:18:55.031Z"
   },
   {
    "duration": 41,
    "start_time": "2021-06-18T09:18:55.062Z"
   },
   {
    "duration": 68,
    "start_time": "2021-06-18T09:18:55.105Z"
   },
   {
    "duration": 44,
    "start_time": "2021-06-18T09:18:55.176Z"
   },
   {
    "duration": 70,
    "start_time": "2021-06-18T09:18:55.223Z"
   },
   {
    "duration": 313,
    "start_time": "2021-06-18T11:47:20.003Z"
   },
   {
    "duration": 864,
    "start_time": "2021-06-18T11:47:31.171Z"
   },
   {
    "duration": 10,
    "start_time": "2021-06-18T11:47:35.841Z"
   },
   {
    "duration": 6,
    "start_time": "2021-06-18T11:47:38.365Z"
   },
   {
    "duration": 13,
    "start_time": "2021-06-18T11:47:40.479Z"
   },
   {
    "duration": 15,
    "start_time": "2021-06-18T11:47:43.564Z"
   },
   {
    "duration": 10,
    "start_time": "2021-06-18T11:47:46.867Z"
   },
   {
    "duration": 316,
    "start_time": "2021-06-18T11:48:01.473Z"
   },
   {
    "duration": 10,
    "start_time": "2021-06-18T11:48:16.960Z"
   },
   {
    "duration": 10,
    "start_time": "2021-06-18T11:48:19.398Z"
   },
   {
    "duration": 61,
    "start_time": "2021-06-18T11:48:22.563Z"
   },
   {
    "duration": 17,
    "start_time": "2021-06-18T11:48:30.927Z"
   },
   {
    "duration": 5,
    "start_time": "2021-06-18T11:48:35.456Z"
   },
   {
    "duration": 7,
    "start_time": "2021-06-18T11:48:37.380Z"
   },
   {
    "duration": 707,
    "start_time": "2021-06-18T11:48:39.622Z"
   },
   {
    "duration": 6,
    "start_time": "2021-06-18T11:48:42.235Z"
   },
   {
    "duration": 5,
    "start_time": "2021-06-18T11:48:44.831Z"
   },
   {
    "duration": 11,
    "start_time": "2021-06-18T11:48:46.781Z"
   },
   {
    "duration": 14,
    "start_time": "2021-06-18T11:48:48.699Z"
   },
   {
    "duration": 44,
    "start_time": "2021-06-18T11:48:52.595Z"
   },
   {
    "duration": 5552,
    "start_time": "2021-06-18T11:48:58.210Z"
   },
   {
    "duration": 10,
    "start_time": "2021-06-18T11:49:03.765Z"
   },
   {
    "duration": 668,
    "start_time": "2021-06-18T11:49:03.784Z"
   },
   {
    "duration": 563,
    "start_time": "2021-06-18T11:49:04.734Z"
   },
   {
    "duration": 20,
    "start_time": "2021-06-18T11:49:08.154Z"
   },
   {
    "duration": 41,
    "start_time": "2021-06-18T11:49:10.892Z"
   },
   {
    "duration": 353,
    "start_time": "2021-06-18T11:49:44.038Z"
   },
   {
    "duration": 302,
    "start_time": "2021-06-18T11:49:57.946Z"
   },
   {
    "duration": 287,
    "start_time": "2021-06-18T11:50:02.554Z"
   },
   {
    "duration": 29,
    "start_time": "2021-06-18T11:50:20.569Z"
   },
   {
    "duration": 33,
    "start_time": "2021-06-18T11:50:38.390Z"
   },
   {
    "duration": 33,
    "start_time": "2021-06-18T11:50:41.394Z"
   },
   {
    "duration": 41,
    "start_time": "2021-06-18T11:50:49.472Z"
   },
   {
    "duration": 18,
    "start_time": "2021-06-18T12:03:22.809Z"
   },
   {
    "duration": 18,
    "start_time": "2021-06-18T12:03:46.512Z"
   },
   {
    "duration": 265,
    "start_time": "2021-06-18T12:04:24.422Z"
   },
   {
    "duration": 27,
    "start_time": "2021-06-18T12:04:38.725Z"
   },
   {
    "duration": 312,
    "start_time": "2021-06-18T12:06:08.807Z"
   },
   {
    "duration": 305,
    "start_time": "2021-06-18T12:06:39.833Z"
   },
   {
    "duration": 244,
    "start_time": "2021-06-18T12:06:48.927Z"
   },
   {
    "duration": 103,
    "start_time": "2021-06-18T12:08:07.163Z"
   },
   {
    "duration": 93,
    "start_time": "2021-06-18T12:08:15.425Z"
   },
   {
    "duration": 99,
    "start_time": "2021-06-18T12:08:20.660Z"
   },
   {
    "duration": 321,
    "start_time": "2021-06-18T12:08:50.938Z"
   },
   {
    "duration": 294,
    "start_time": "2021-06-18T12:08:57.304Z"
   },
   {
    "duration": 235,
    "start_time": "2021-06-18T12:09:07.157Z"
   },
   {
    "duration": 26,
    "start_time": "2021-06-18T12:09:33.081Z"
   },
   {
    "duration": 58,
    "start_time": "2021-06-18T12:09:56.378Z"
   },
   {
    "duration": 5281,
    "start_time": "2021-06-18T12:10:28.691Z"
   },
   {
    "duration": 60,
    "start_time": "2021-06-18T12:11:03.332Z"
   },
   {
    "duration": 309,
    "start_time": "2021-06-18T12:11:42.491Z"
   },
   {
    "duration": 63,
    "start_time": "2021-06-18T12:11:57.685Z"
   }
  ],
  "kernelspec": {
   "display_name": "Python 3",
   "language": "python",
   "name": "python3"
  },
  "language_info": {
   "codemirror_mode": {
    "name": "ipython",
    "version": 3
   },
   "file_extension": ".py",
   "mimetype": "text/x-python",
   "name": "python",
   "nbconvert_exporter": "python",
   "pygments_lexer": "ipython3",
   "version": "3.7.8"
  },
  "toc": {
   "base_numbering": 1,
   "nav_menu": {},
   "number_sections": true,
   "sideBar": true,
   "skip_h1_title": true,
   "title_cell": "Table of Contents",
   "title_sidebar": "Contents",
   "toc_cell": false,
   "toc_position": {},
   "toc_section_display": true,
   "toc_window_display": false
  }
 },
 "nbformat": 4,
 "nbformat_minor": 2
}
