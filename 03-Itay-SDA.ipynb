{
 "cells": [
  {
   "cell_type": "markdown",
   "metadata": {},
   "source": [
    "Hi Itay. I'm Svetlana and will review your project. I've added all my comments to new cells with different coloring. Please don't delete my comments.\n",
    "\n",
    "\n",
    "The first time I see a mistake, I'll just point it out and let you find it and fix it yourself. In a real job, your boss will do the same, and I'm trying to prepare you to work as an Data Analyst. But if you can't handle this task yet, I'll give you a more accurate hint at the next check.\n",
    "\n",
    "<div class=\"alert alert-success\" role=\"alert\">\n",
    "Reviewer's comment v. 1:\n",
    "    \n",
    "If you did something great I'm using green color for my comment\n",
    "</div>\n",
    "\n",
    "<div class=\"alert alert-warning\" role=\"alert\">\n",
    "Reviewer's comment v. 1:\n",
    "    \n",
    "If I want to give you advice or think that something can be improved, then I'll use yellow. This is an optional recommendation.\n",
    "</div>\n",
    "\n",
    "<div class=\"alert alert-danger\" role=\"alert\">\n",
    "Reviewer's comment v. 1:\n",
    "    \n",
    "If the topic requires some extra work so I can accept it then the color will be red\n",
    "</div>\n",
    "\n",
    "## Review v. 1<a class=\"tocSkip\">\n",
    "\n",
    "You've worked really hard and submitted a solid project. While there's room for improvement, on the whole, your project is looking good. I've found some tiny mistakes in your project. They'll be easy to fix. There are also some comments for improvement. They don’t mean that you’ve done anything wrong, but they’re things we wanted to point out that can help you further develop your skills. You're almost there!\n",
    "    \n",
    "## Review v. 2<a class=\"tocSkip\">\n",
    "    \n",
    "Thanks for sending in your project with corrections. It's clear you've put a lot of effort into it. There's still a minor issue with this part data analysis. Here are a few more pointers to help you put the final touches on your project. Keep working on it, you are improving!\n",
    "    \n",
    "## Review v. 3<a class=\"tocSkip\">\n",
    "    \n",
    "Thank you for sending your work again. It seems like something went wrong and you sent a version without any changes. Please check it again. One more time and you'll have it!\n",
    "    \n",
    "## Review v. 4<a class=\"tocSkip\">\n",
    "    \n",
    "All your hard work has paid off, and now your project is perfect! I'm glad to say that your project has been accepted. Keep at it. You're improving every day!"
   ]
  },
  {
   "cell_type": "markdown",
   "metadata": {},
   "source": [
    "# Research on megaline surffing plans \n",
    "\n",
    "The company offers its clients two prepaid plans, Surf and Ultimate. The commercial department wants to know which of the plans brings in more revenue in order to adjust the advertising budget. \n",
    "\n",
    "carry out a preliminary analysis of the plans based on a relatively small client selection. You'll have the data on 500 Megaline clients: who the clients are, where they're from, which plan they use, and the number of calls they made and text messages they sent in 2018. Your job is to analyze clients' behavior and determine which prepaid plan brings in more revenue. \n",
    "\n",
    "Research plan:\n",
    "<a class=\"anchor\" id=\"table_of_contents\"></a>\n",
    "\n",
    "[table_of_contents](#table_of_contents)\n",
    "\n",
    "1. [look at general information of the data](#look_at_general_information_of_the_data)\n",
    "2. [preprocess](#preprocess)\n",
    "    * clean na\n",
    "    * remove duplicates\n",
    "    * convert datatypes \n",
    "    * Find and eliminate errors in the data\n",
    "    * Explain what errors you found and how you removed them\n",
    "    * The number of calls made and minutes used per month\n",
    "    * The number of text messages sent per month\n",
    "    * The volume of data per month\n",
    "    * The monthly revenue from each user\n",
    "3. [Analyze the data:](#Analyz_the_data)\n",
    "    * **seems redundent since we are requested to analyze in step 2, the monthly revenue for each user**\n",
    "        **Which require us to calculate the below**\n",
    "        * Find the total minutes call for each user per month \n",
    "        * Find the total messages  for each user per month\n",
    "        * Find the total volume of data for each user per month\n",
    "    * Calculate \n",
    "        * the mean\n",
    "        * dispersion\n",
    "        * standard deviation\n",
    "    * Plot histograms\n",
    "    * Describe the distributions\n",
    "4. [Test the hypotheses:](#test_the_hypotheses)\n",
    "    * The average revenue from users of Ultimate and Surf calling plans differs.\n",
    "    * The average revenue from users in NY-NJ area is different from that of the users from other regions\n",
    "    * Explain:\n",
    "        * How you formulated the null and alternative hypotheses.\n",
    "        * What criterion you used to test the hypotheses and why.\n",
    "5. Write an overall conclusion:\n"
   ]
  },
  {
   "cell_type": "markdown",
   "metadata": {},
   "source": [
    "<div class=\"alert alert-warning\" role=\"alert\">\n",
    "Reviewer's comment v. 1:\n",
    "    \n",
    "Well done that you described the project, but it will be better to formulate a goal of the project.\n",
    "\n",
    "A project goal describes the projects impact. The project goal provides the link between the project and its direct effects.\n",
    "\n",
    "A well-formulated project goal:\n",
    "\n",
    "- Provides a concrete description of the project’s effects at the impact level;\n",
    "\n",
    "- Provides the link between the project (the project objective) to the overarching goals.\n",
    "</div>"
   ]
  },
  {
   "cell_type": "markdown",
   "metadata": {},
   "source": [
    "<!-- 2. preprocess\n",
    "    * clean na\n",
    "    * remove duplicates\n",
    "    * convert datatypes \n",
    "    * Find and eliminate errors in the data\n",
    "    * Explain what errors you found and how you removed them\n",
    "3. Analyze the data:\n",
    "    * Find the total minutes call for **each user per month**\n",
    "    * Find the total messages  for **each user per month**\n",
    "    * Find the total volume of data for **each user per month**\n",
    "    * Calculate \n",
    "        * the mean\n",
    "        * dispersion\n",
    "        * standard deviation\n",
    "    * Plot histograms\n",
    "    * Describe the distributions\n",
    "4. Test the hypotheses:\n",
    "    * The average revenue from users of Ultimate and Surf calling plans differs.\n",
    "    * The average revenue from users in NY-NJ area is different from that of the users from other regions\n",
    "    * Explain:\n",
    "        * How you formulated the null and alternative hypotheses.\n",
    "        * What criterion you used to test the hypotheses and why.\n",
    "5. Write an overall conclusion:\n",
    "\n",
    " -->"
   ]
  },
  {
   "cell_type": "code",
   "execution_count": 1,
   "metadata": {},
   "outputs": [],
   "source": [
    "import numpy as np\n",
    "import pandas as pd\n",
    "import matplotlib.pyplot as plt"
   ]
  },
  {
   "cell_type": "code",
   "execution_count": 2,
   "metadata": {},
   "outputs": [],
   "source": [
    "try:\n",
    "    calls_df = pd.read_csv('itay/datasets/megaline_calls.csv')\n",
    "    internet_df = pd.read_csv('itay/datasets/megaline_internet.csv')\n",
    "    messages_df = pd.read_csv('itay/datasets/megaline_messages.csv')\n",
    "    plans_df = pd.read_csv('itay/datasets/megaline_plans.csv')\n",
    "    users_df = pd.read_csv('itay/datasets/megaline_users.csv')\n",
    "except:\n",
    "    calls_df = pd.read_csv('/datasets/megaline_calls.csv')\n",
    "    internet_df = pd.read_csv('/datasets/megaline_internet.csv')\n",
    "    messages_df = pd.read_csv('/datasets/megaline_messages.csv')\n",
    "    plans_df = pd.read_csv('/datasets/megaline_plans.csv')\n",
    "    users_df = pd.read_csv('/datasets/megaline_users.csv')\n",
    "    \n",
    "df_dict = {'calls_df':calls_df, \n",
    "           'internet_df': internet_df,\n",
    "           'messages_df': messages_df,\n",
    "           'plans_df':plans_df,\n",
    "           'users_df':users_df}"
   ]
  },
  {
   "cell_type": "markdown",
   "metadata": {},
   "source": [
    "<div class=\"alert alert-success\" role=\"alert\">\n",
    "Reviewer's comment v. 1:\n",
    "    \n",
    "Well done for using try-except for the path to the file.\n",
    "</div>"
   ]
  },
  {
   "cell_type": "markdown",
   "metadata": {},
   "source": [
    "<a class=\"anchor\" id=\"look_at_general_information_of_the_data\"></a>\n",
    "[Go back to the Table of Contents](#table_of_contents)\n",
    "## [look at general information of the data](#look_at_general_information_of_the_data)"
   ]
  },
  {
   "cell_type": "code",
   "execution_count": 3,
   "metadata": {},
   "outputs": [
    {
     "name": "stdout",
     "output_type": "stream",
     "text": [
      "calls_df\n",
      "<class 'pandas.core.frame.DataFrame'>\n",
      "RangeIndex: 137735 entries, 0 to 137734\n",
      "Data columns (total 4 columns):\n",
      "id           137735 non-null object\n",
      "user_id      137735 non-null int64\n",
      "call_date    137735 non-null object\n",
      "duration     137735 non-null float64\n",
      "dtypes: float64(1), int64(1), object(2)\n",
      "memory usage: 4.2+ MB\n",
      "\n",
      "internet_df\n",
      "<class 'pandas.core.frame.DataFrame'>\n",
      "RangeIndex: 104825 entries, 0 to 104824\n",
      "Data columns (total 4 columns):\n",
      "id              104825 non-null object\n",
      "user_id         104825 non-null int64\n",
      "session_date    104825 non-null object\n",
      "mb_used         104825 non-null float64\n",
      "dtypes: float64(1), int64(1), object(2)\n",
      "memory usage: 3.2+ MB\n",
      "\n",
      "messages_df\n",
      "<class 'pandas.core.frame.DataFrame'>\n",
      "RangeIndex: 76051 entries, 0 to 76050\n",
      "Data columns (total 3 columns):\n",
      "id              76051 non-null object\n",
      "user_id         76051 non-null int64\n",
      "message_date    76051 non-null object\n",
      "dtypes: int64(1), object(2)\n",
      "memory usage: 1.7+ MB\n",
      "\n",
      "plans_df\n",
      "<class 'pandas.core.frame.DataFrame'>\n",
      "RangeIndex: 2 entries, 0 to 1\n",
      "Data columns (total 8 columns):\n",
      "messages_included        2 non-null int64\n",
      "mb_per_month_included    2 non-null int64\n",
      "minutes_included         2 non-null int64\n",
      "usd_monthly_pay          2 non-null int64\n",
      "usd_per_gb               2 non-null int64\n",
      "usd_per_message          2 non-null float64\n",
      "usd_per_minute           2 non-null float64\n",
      "plan_name                2 non-null object\n",
      "dtypes: float64(2), int64(5), object(1)\n",
      "memory usage: 256.0+ bytes\n",
      "\n",
      "users_df\n",
      "<class 'pandas.core.frame.DataFrame'>\n",
      "RangeIndex: 500 entries, 0 to 499\n",
      "Data columns (total 8 columns):\n",
      "user_id       500 non-null int64\n",
      "first_name    500 non-null object\n",
      "last_name     500 non-null object\n",
      "age           500 non-null int64\n",
      "city          500 non-null object\n",
      "reg_date      500 non-null object\n",
      "plan          500 non-null object\n",
      "churn_date    34 non-null object\n",
      "dtypes: int64(2), object(6)\n",
      "memory usage: 31.4+ KB\n",
      "\n"
     ]
    }
   ],
   "source": [
    "for df in df_dict:\n",
    "    print(df)\n",
    "    df_dict[df].info()\n",
    "    print()"
   ]
  },
  {
   "cell_type": "code",
   "execution_count": 4,
   "metadata": {},
   "outputs": [
    {
     "name": "stdout",
     "output_type": "stream",
     "text": [
      "             user_id       duration\n",
      "count  137735.000000  137735.000000\n",
      "mean     1247.658046       6.745927\n",
      "std       139.416268       5.839241\n",
      "min      1000.000000       0.000000\n",
      "25%      1128.000000       1.290000\n",
      "50%      1247.000000       5.980000\n",
      "75%      1365.000000      10.690000\n",
      "max      1499.000000      37.600000\n",
      "              id   call_date\n",
      "count     137735      137735\n",
      "unique    137735         351\n",
      "top     1042_368  2018-12-27\n",
      "freq           1        1091\n"
     ]
    },
    {
     "data": {
      "text/html": [
       "<div>\n",
       "<style scoped>\n",
       "    .dataframe tbody tr th:only-of-type {\n",
       "        vertical-align: middle;\n",
       "    }\n",
       "\n",
       "    .dataframe tbody tr th {\n",
       "        vertical-align: top;\n",
       "    }\n",
       "\n",
       "    .dataframe thead th {\n",
       "        text-align: right;\n",
       "    }\n",
       "</style>\n",
       "<table border=\"1\" class=\"dataframe\">\n",
       "  <thead>\n",
       "    <tr style=\"text-align: right;\">\n",
       "      <th></th>\n",
       "      <th>id</th>\n",
       "      <th>user_id</th>\n",
       "      <th>call_date</th>\n",
       "      <th>duration</th>\n",
       "    </tr>\n",
       "  </thead>\n",
       "  <tbody>\n",
       "    <tr>\n",
       "      <td>0</td>\n",
       "      <td>1000_93</td>\n",
       "      <td>1000</td>\n",
       "      <td>2018-12-27</td>\n",
       "      <td>8.52</td>\n",
       "    </tr>\n",
       "    <tr>\n",
       "      <td>1</td>\n",
       "      <td>1000_145</td>\n",
       "      <td>1000</td>\n",
       "      <td>2018-12-27</td>\n",
       "      <td>13.66</td>\n",
       "    </tr>\n",
       "    <tr>\n",
       "      <td>2</td>\n",
       "      <td>1000_247</td>\n",
       "      <td>1000</td>\n",
       "      <td>2018-12-27</td>\n",
       "      <td>14.48</td>\n",
       "    </tr>\n",
       "    <tr>\n",
       "      <td>3</td>\n",
       "      <td>1000_309</td>\n",
       "      <td>1000</td>\n",
       "      <td>2018-12-28</td>\n",
       "      <td>5.76</td>\n",
       "    </tr>\n",
       "    <tr>\n",
       "      <td>4</td>\n",
       "      <td>1000_380</td>\n",
       "      <td>1000</td>\n",
       "      <td>2018-12-30</td>\n",
       "      <td>4.22</td>\n",
       "    </tr>\n",
       "    <tr>\n",
       "      <td>5</td>\n",
       "      <td>1000_388</td>\n",
       "      <td>1000</td>\n",
       "      <td>2018-12-31</td>\n",
       "      <td>2.20</td>\n",
       "    </tr>\n",
       "    <tr>\n",
       "      <td>6</td>\n",
       "      <td>1000_510</td>\n",
       "      <td>1000</td>\n",
       "      <td>2018-12-27</td>\n",
       "      <td>5.75</td>\n",
       "    </tr>\n",
       "  </tbody>\n",
       "</table>\n",
       "</div>"
      ],
      "text/plain": [
       "         id  user_id   call_date  duration\n",
       "0   1000_93     1000  2018-12-27      8.52\n",
       "1  1000_145     1000  2018-12-27     13.66\n",
       "2  1000_247     1000  2018-12-27     14.48\n",
       "3  1000_309     1000  2018-12-28      5.76\n",
       "4  1000_380     1000  2018-12-30      4.22\n",
       "5  1000_388     1000  2018-12-31      2.20\n",
       "6  1000_510     1000  2018-12-27      5.75"
      ]
     },
     "execution_count": 4,
     "metadata": {},
     "output_type": "execute_result"
    }
   ],
   "source": [
    "print(calls_df.describe())\n",
    "print(calls_df.describe(include='object'))\n",
    "calls_df.head(7)"
   ]
  },
  {
   "cell_type": "code",
   "execution_count": 5,
   "metadata": {
    "scrolled": true
   },
   "outputs": [
    {
     "name": "stdout",
     "output_type": "stream",
     "text": [
      "            user_id\n",
      "count  76051.000000\n",
      "mean    1245.972768\n",
      "std      139.843635\n",
      "min     1000.000000\n",
      "25%     1123.000000\n",
      "50%     1251.000000\n",
      "75%     1362.000000\n",
      "max     1497.000000\n",
      "              id message_date\n",
      "count      76051        76051\n",
      "unique     76051          351\n",
      "top     1075_189   2018-12-28\n",
      "freq           1          702\n"
     ]
    },
    {
     "data": {
      "text/html": [
       "<div>\n",
       "<style scoped>\n",
       "    .dataframe tbody tr th:only-of-type {\n",
       "        vertical-align: middle;\n",
       "    }\n",
       "\n",
       "    .dataframe tbody tr th {\n",
       "        vertical-align: top;\n",
       "    }\n",
       "\n",
       "    .dataframe thead th {\n",
       "        text-align: right;\n",
       "    }\n",
       "</style>\n",
       "<table border=\"1\" class=\"dataframe\">\n",
       "  <thead>\n",
       "    <tr style=\"text-align: right;\">\n",
       "      <th></th>\n",
       "      <th>id</th>\n",
       "      <th>user_id</th>\n",
       "      <th>message_date</th>\n",
       "    </tr>\n",
       "  </thead>\n",
       "  <tbody>\n",
       "    <tr>\n",
       "      <td>0</td>\n",
       "      <td>1000_125</td>\n",
       "      <td>1000</td>\n",
       "      <td>2018-12-27</td>\n",
       "    </tr>\n",
       "    <tr>\n",
       "      <td>1</td>\n",
       "      <td>1000_160</td>\n",
       "      <td>1000</td>\n",
       "      <td>2018-12-31</td>\n",
       "    </tr>\n",
       "    <tr>\n",
       "      <td>2</td>\n",
       "      <td>1000_223</td>\n",
       "      <td>1000</td>\n",
       "      <td>2018-12-31</td>\n",
       "    </tr>\n",
       "    <tr>\n",
       "      <td>3</td>\n",
       "      <td>1000_251</td>\n",
       "      <td>1000</td>\n",
       "      <td>2018-12-27</td>\n",
       "    </tr>\n",
       "    <tr>\n",
       "      <td>4</td>\n",
       "      <td>1000_255</td>\n",
       "      <td>1000</td>\n",
       "      <td>2018-12-26</td>\n",
       "    </tr>\n",
       "    <tr>\n",
       "      <td>5</td>\n",
       "      <td>1000_346</td>\n",
       "      <td>1000</td>\n",
       "      <td>2018-12-29</td>\n",
       "    </tr>\n",
       "    <tr>\n",
       "      <td>6</td>\n",
       "      <td>1000_386</td>\n",
       "      <td>1000</td>\n",
       "      <td>2018-12-30</td>\n",
       "    </tr>\n",
       "  </tbody>\n",
       "</table>\n",
       "</div>"
      ],
      "text/plain": [
       "         id  user_id message_date\n",
       "0  1000_125     1000   2018-12-27\n",
       "1  1000_160     1000   2018-12-31\n",
       "2  1000_223     1000   2018-12-31\n",
       "3  1000_251     1000   2018-12-27\n",
       "4  1000_255     1000   2018-12-26\n",
       "5  1000_346     1000   2018-12-29\n",
       "6  1000_386     1000   2018-12-30"
      ]
     },
     "execution_count": 5,
     "metadata": {},
     "output_type": "execute_result"
    }
   ],
   "source": [
    "print(messages_df.describe())\n",
    "print(messages_df.describe(include='object'))\n",
    "messages_df.head(7)"
   ]
  },
  {
   "cell_type": "code",
   "execution_count": 6,
   "metadata": {},
   "outputs": [
    {
     "name": "stdout",
     "output_type": "stream",
     "text": [
      "             user_id        mb_used\n",
      "count  104825.000000  104825.000000\n",
      "mean     1242.496361     366.713701\n",
      "std       142.053913     277.170542\n",
      "min      1000.000000       0.000000\n",
      "25%      1122.000000     136.080000\n",
      "50%      1236.000000     343.980000\n",
      "75%      1367.000000     554.610000\n",
      "max      1499.000000    1693.470000\n",
      "              id session_date\n",
      "count     104825       104825\n",
      "unique    104825          351\n",
      "top     1028_322   2018-12-24\n",
      "freq           1          851\n"
     ]
    },
    {
     "data": {
      "text/html": [
       "<div>\n",
       "<style scoped>\n",
       "    .dataframe tbody tr th:only-of-type {\n",
       "        vertical-align: middle;\n",
       "    }\n",
       "\n",
       "    .dataframe tbody tr th {\n",
       "        vertical-align: top;\n",
       "    }\n",
       "\n",
       "    .dataframe thead th {\n",
       "        text-align: right;\n",
       "    }\n",
       "</style>\n",
       "<table border=\"1\" class=\"dataframe\">\n",
       "  <thead>\n",
       "    <tr style=\"text-align: right;\">\n",
       "      <th></th>\n",
       "      <th>id</th>\n",
       "      <th>user_id</th>\n",
       "      <th>session_date</th>\n",
       "      <th>mb_used</th>\n",
       "    </tr>\n",
       "  </thead>\n",
       "  <tbody>\n",
       "    <tr>\n",
       "      <td>0</td>\n",
       "      <td>1000_13</td>\n",
       "      <td>1000</td>\n",
       "      <td>2018-12-29</td>\n",
       "      <td>89.86</td>\n",
       "    </tr>\n",
       "    <tr>\n",
       "      <td>1</td>\n",
       "      <td>1000_204</td>\n",
       "      <td>1000</td>\n",
       "      <td>2018-12-31</td>\n",
       "      <td>0.00</td>\n",
       "    </tr>\n",
       "    <tr>\n",
       "      <td>2</td>\n",
       "      <td>1000_379</td>\n",
       "      <td>1000</td>\n",
       "      <td>2018-12-28</td>\n",
       "      <td>660.40</td>\n",
       "    </tr>\n",
       "    <tr>\n",
       "      <td>3</td>\n",
       "      <td>1000_413</td>\n",
       "      <td>1000</td>\n",
       "      <td>2018-12-26</td>\n",
       "      <td>270.99</td>\n",
       "    </tr>\n",
       "    <tr>\n",
       "      <td>4</td>\n",
       "      <td>1000_442</td>\n",
       "      <td>1000</td>\n",
       "      <td>2018-12-27</td>\n",
       "      <td>880.22</td>\n",
       "    </tr>\n",
       "  </tbody>\n",
       "</table>\n",
       "</div>"
      ],
      "text/plain": [
       "         id  user_id session_date  mb_used\n",
       "0   1000_13     1000   2018-12-29    89.86\n",
       "1  1000_204     1000   2018-12-31     0.00\n",
       "2  1000_379     1000   2018-12-28   660.40\n",
       "3  1000_413     1000   2018-12-26   270.99\n",
       "4  1000_442     1000   2018-12-27   880.22"
      ]
     },
     "execution_count": 6,
     "metadata": {},
     "output_type": "execute_result"
    }
   ],
   "source": [
    "print(internet_df.describe())\n",
    "print(internet_df.describe(include='object'))\n",
    "internet_df.head()"
   ]
  },
  {
   "cell_type": "code",
   "execution_count": 7,
   "metadata": {},
   "outputs": [
    {
     "name": "stdout",
     "output_type": "stream",
     "text": [
      "       messages_included  mb_per_month_included  minutes_included  \\\n",
      "count           2.000000               2.000000          2.000000   \n",
      "mean          525.000000           23040.000000       1750.000000   \n",
      "std           671.751442           10861.160159       1767.766953   \n",
      "min            50.000000           15360.000000        500.000000   \n",
      "25%           287.500000           19200.000000       1125.000000   \n",
      "50%           525.000000           23040.000000       1750.000000   \n",
      "75%           762.500000           26880.000000       2375.000000   \n",
      "max          1000.000000           30720.000000       3000.000000   \n",
      "\n",
      "       usd_monthly_pay  usd_per_gb  usd_per_message  usd_per_minute  \n",
      "count         2.000000     2.00000         2.000000        2.000000  \n",
      "mean         45.000000     8.50000         0.020000        0.020000  \n",
      "std          35.355339     2.12132         0.014142        0.014142  \n",
      "min          20.000000     7.00000         0.010000        0.010000  \n",
      "25%          32.500000     7.75000         0.015000        0.015000  \n",
      "50%          45.000000     8.50000         0.020000        0.020000  \n",
      "75%          57.500000     9.25000         0.025000        0.025000  \n",
      "max          70.000000    10.00000         0.030000        0.030000  \n",
      "       plan_name\n",
      "count          2\n",
      "unique         2\n",
      "top         surf\n",
      "freq           1\n"
     ]
    },
    {
     "data": {
      "text/html": [
       "<div>\n",
       "<style scoped>\n",
       "    .dataframe tbody tr th:only-of-type {\n",
       "        vertical-align: middle;\n",
       "    }\n",
       "\n",
       "    .dataframe tbody tr th {\n",
       "        vertical-align: top;\n",
       "    }\n",
       "\n",
       "    .dataframe thead th {\n",
       "        text-align: right;\n",
       "    }\n",
       "</style>\n",
       "<table border=\"1\" class=\"dataframe\">\n",
       "  <thead>\n",
       "    <tr style=\"text-align: right;\">\n",
       "      <th></th>\n",
       "      <th>messages_included</th>\n",
       "      <th>mb_per_month_included</th>\n",
       "      <th>minutes_included</th>\n",
       "      <th>usd_monthly_pay</th>\n",
       "      <th>usd_per_gb</th>\n",
       "      <th>usd_per_message</th>\n",
       "      <th>usd_per_minute</th>\n",
       "      <th>plan_name</th>\n",
       "    </tr>\n",
       "  </thead>\n",
       "  <tbody>\n",
       "    <tr>\n",
       "      <td>0</td>\n",
       "      <td>50</td>\n",
       "      <td>15360</td>\n",
       "      <td>500</td>\n",
       "      <td>20</td>\n",
       "      <td>10</td>\n",
       "      <td>0.03</td>\n",
       "      <td>0.03</td>\n",
       "      <td>surf</td>\n",
       "    </tr>\n",
       "    <tr>\n",
       "      <td>1</td>\n",
       "      <td>1000</td>\n",
       "      <td>30720</td>\n",
       "      <td>3000</td>\n",
       "      <td>70</td>\n",
       "      <td>7</td>\n",
       "      <td>0.01</td>\n",
       "      <td>0.01</td>\n",
       "      <td>ultimate</td>\n",
       "    </tr>\n",
       "  </tbody>\n",
       "</table>\n",
       "</div>"
      ],
      "text/plain": [
       "   messages_included  mb_per_month_included  minutes_included  \\\n",
       "0                 50                  15360               500   \n",
       "1               1000                  30720              3000   \n",
       "\n",
       "   usd_monthly_pay  usd_per_gb  usd_per_message  usd_per_minute plan_name  \n",
       "0               20          10             0.03            0.03      surf  \n",
       "1               70           7             0.01            0.01  ultimate  "
      ]
     },
     "execution_count": 7,
     "metadata": {},
     "output_type": "execute_result"
    }
   ],
   "source": [
    "print(plans_df.describe())\n",
    "print(plans_df.describe(include='object'))\n",
    "plans_df.head()"
   ]
  },
  {
   "cell_type": "code",
   "execution_count": 8,
   "metadata": {},
   "outputs": [
    {
     "name": "stdout",
     "output_type": "stream",
     "text": [
      "           user_id         age\n",
      "count   500.000000  500.000000\n",
      "mean   1249.500000   45.486000\n",
      "std     144.481833   16.972269\n",
      "min    1000.000000   18.000000\n",
      "25%    1124.750000   30.000000\n",
      "50%    1249.500000   46.000000\n",
      "75%    1374.250000   61.000000\n",
      "max    1499.000000   75.000000\n",
      "       first_name last_name                                       city  \\\n",
      "count         500       500                                        500   \n",
      "unique        458       399                                         73   \n",
      "top        Jasper  Thompson  New York-Newark-Jersey City, NY-NJ-PA MSA   \n",
      "freq            3         3                                         80   \n",
      "\n",
      "          reg_date  plan  churn_date  \n",
      "count          500   500          34  \n",
      "unique         266     2          29  \n",
      "top     2018-03-08  surf  2018-12-18  \n",
      "freq             5   339           3  \n"
     ]
    },
    {
     "data": {
      "text/html": [
       "<div>\n",
       "<style scoped>\n",
       "    .dataframe tbody tr th:only-of-type {\n",
       "        vertical-align: middle;\n",
       "    }\n",
       "\n",
       "    .dataframe tbody tr th {\n",
       "        vertical-align: top;\n",
       "    }\n",
       "\n",
       "    .dataframe thead th {\n",
       "        text-align: right;\n",
       "    }\n",
       "</style>\n",
       "<table border=\"1\" class=\"dataframe\">\n",
       "  <thead>\n",
       "    <tr style=\"text-align: right;\">\n",
       "      <th></th>\n",
       "      <th>user_id</th>\n",
       "      <th>first_name</th>\n",
       "      <th>last_name</th>\n",
       "      <th>age</th>\n",
       "      <th>city</th>\n",
       "      <th>reg_date</th>\n",
       "      <th>plan</th>\n",
       "      <th>churn_date</th>\n",
       "    </tr>\n",
       "  </thead>\n",
       "  <tbody>\n",
       "    <tr>\n",
       "      <td>0</td>\n",
       "      <td>1000</td>\n",
       "      <td>Anamaria</td>\n",
       "      <td>Bauer</td>\n",
       "      <td>45</td>\n",
       "      <td>Atlanta-Sandy Springs-Roswell, GA MSA</td>\n",
       "      <td>2018-12-24</td>\n",
       "      <td>ultimate</td>\n",
       "      <td>NaN</td>\n",
       "    </tr>\n",
       "    <tr>\n",
       "      <td>1</td>\n",
       "      <td>1001</td>\n",
       "      <td>Mickey</td>\n",
       "      <td>Wilkerson</td>\n",
       "      <td>28</td>\n",
       "      <td>Seattle-Tacoma-Bellevue, WA MSA</td>\n",
       "      <td>2018-08-13</td>\n",
       "      <td>surf</td>\n",
       "      <td>NaN</td>\n",
       "    </tr>\n",
       "    <tr>\n",
       "      <td>2</td>\n",
       "      <td>1002</td>\n",
       "      <td>Carlee</td>\n",
       "      <td>Hoffman</td>\n",
       "      <td>36</td>\n",
       "      <td>Las Vegas-Henderson-Paradise, NV MSA</td>\n",
       "      <td>2018-10-21</td>\n",
       "      <td>surf</td>\n",
       "      <td>NaN</td>\n",
       "    </tr>\n",
       "    <tr>\n",
       "      <td>3</td>\n",
       "      <td>1003</td>\n",
       "      <td>Reynaldo</td>\n",
       "      <td>Jenkins</td>\n",
       "      <td>52</td>\n",
       "      <td>Tulsa, OK MSA</td>\n",
       "      <td>2018-01-28</td>\n",
       "      <td>surf</td>\n",
       "      <td>NaN</td>\n",
       "    </tr>\n",
       "    <tr>\n",
       "      <td>4</td>\n",
       "      <td>1004</td>\n",
       "      <td>Leonila</td>\n",
       "      <td>Thompson</td>\n",
       "      <td>40</td>\n",
       "      <td>Seattle-Tacoma-Bellevue, WA MSA</td>\n",
       "      <td>2018-05-23</td>\n",
       "      <td>surf</td>\n",
       "      <td>NaN</td>\n",
       "    </tr>\n",
       "  </tbody>\n",
       "</table>\n",
       "</div>"
      ],
      "text/plain": [
       "   user_id first_name  last_name  age                                   city  \\\n",
       "0     1000   Anamaria      Bauer   45  Atlanta-Sandy Springs-Roswell, GA MSA   \n",
       "1     1001     Mickey  Wilkerson   28        Seattle-Tacoma-Bellevue, WA MSA   \n",
       "2     1002     Carlee    Hoffman   36   Las Vegas-Henderson-Paradise, NV MSA   \n",
       "3     1003   Reynaldo    Jenkins   52                          Tulsa, OK MSA   \n",
       "4     1004    Leonila   Thompson   40        Seattle-Tacoma-Bellevue, WA MSA   \n",
       "\n",
       "     reg_date      plan churn_date  \n",
       "0  2018-12-24  ultimate        NaN  \n",
       "1  2018-08-13      surf        NaN  \n",
       "2  2018-10-21      surf        NaN  \n",
       "3  2018-01-28      surf        NaN  \n",
       "4  2018-05-23      surf        NaN  "
      ]
     },
     "execution_count": 8,
     "metadata": {},
     "output_type": "execute_result"
    }
   ],
   "source": [
    "print(users_df.describe())\n",
    "print(users_df.describe(include='object'))\n",
    "users_df.head()"
   ]
  },
  {
   "cell_type": "markdown",
   "metadata": {},
   "source": [
    "**general information conclusion:**\n",
    "\n",
    "* calls:\n",
    "    * convert call_date => date\n",
    "* internet:\n",
    "    * convert session_date => date\n",
    "* messages:\n",
    "    * convert message_date => date\n",
    "* plans:\n",
    "* users:\n",
    "    * 500 users\n",
    "    * churn date seems to have na values\n",
    "    * convert reg_date => date"
   ]
  },
  {
   "cell_type": "markdown",
   "metadata": {},
   "source": [
    "<div class=\"alert alert-success\" role=\"alert\">\n",
    "Reviewer's comment v. 1:\n",
    "    \n",
    "Ok, data is downloaded and ready for the further analysis.\n",
    "</div>"
   ]
  },
  {
   "cell_type": "markdown",
   "metadata": {},
   "source": [
    "<a class=\"anchor\" id=\"preprocess\"></a>\n",
    "[back to Table of Contents](#table_of_contents)\n",
    "\n",
    "## [preprocess](#preprocess)\n",
    "\n",
    "\n",
    "1. [x] [clean na](#clean_na)\n",
    "1. [x] [remove duplicates](#remove_duplicates)\n",
    "1. [x] [convert datatypes](#convert_datatypes)\n",
    "1. [x] [Find and eliminate errors in the data](#Find_and_eliminate_errors_in_the_data)\n",
    "1. [x] [Explain what errors you found and how you removed them](#Explain_what_errors_you_found_and_how_you_removed_them)\n",
    "1. [For each user, find](#For_each_user_find):\n",
    "    * [x] [The number of calls made and minutes used per month](#The_number_of_calls_made_and_minutes_used_per_month)\n",
    "    * [x] [The number of text messages sent per month](#The_number_of_text_messages_sent_per_month)\n",
    "    * [x] [The volume of data per month](#The_volume_of_data_per_month)\n",
    "    * [ ] [The monthly revenue from each user](#The_monthly_revenue_from_each_user)"
   ]
  },
  {
   "cell_type": "markdown",
   "metadata": {},
   "source": [
    "<a class=\"anchor\" id=\"clean_na\"></a>\n",
    "[back to preprocess Table of Contents](#preprocess)\n",
    "\n",
    "### [Clean na]((#clean_na))"
   ]
  },
  {
   "cell_type": "code",
   "execution_count": 9,
   "metadata": {},
   "outputs": [
    {
     "name": "stdout",
     "output_type": "stream",
     "text": [
      "calls_df\n",
      "id           0\n",
      "user_id      0\n",
      "call_date    0\n",
      "duration     0\n",
      "dtype: int64 \n",
      "\n",
      "internet_df\n",
      "id              0\n",
      "user_id         0\n",
      "session_date    0\n",
      "mb_used         0\n",
      "dtype: int64 \n",
      "\n",
      "messages_df\n",
      "id              0\n",
      "user_id         0\n",
      "message_date    0\n",
      "dtype: int64 \n",
      "\n",
      "plans_df\n",
      "messages_included        0\n",
      "mb_per_month_included    0\n",
      "minutes_included         0\n",
      "usd_monthly_pay          0\n",
      "usd_per_gb               0\n",
      "usd_per_message          0\n",
      "usd_per_minute           0\n",
      "plan_name                0\n",
      "dtype: int64 \n",
      "\n",
      "users_df\n",
      "user_id         0\n",
      "first_name      0\n",
      "last_name       0\n",
      "age             0\n",
      "city            0\n",
      "reg_date        0\n",
      "plan            0\n",
      "churn_date    466\n",
      "dtype: int64 \n",
      "\n"
     ]
    }
   ],
   "source": [
    "# check na\n",
    "for df in df_dict:\n",
    "    print(df)\n",
    "    print(df_dict[df].isnull().sum(), '\\n')"
   ]
  },
  {
   "cell_type": "markdown",
   "metadata": {},
   "source": [
    "**Clean na conclusion**\n",
    "\n",
    "Only churn has na since these users are still active."
   ]
  },
  {
   "cell_type": "markdown",
   "metadata": {},
   "source": [
    "<div class=\"alert alert-success\" role=\"alert\">\n",
    "Reviewer's comment v. 1:\n",
    "    \n",
    "Yes, you correctly note that NaN values in the churn_date are due to fact that users are still active.\n",
    "</div>"
   ]
  },
  {
   "cell_type": "markdown",
   "metadata": {},
   "source": [
    "<a class=\"anchor\" id=\"remove_duplicates\"></a>\n",
    "[back to **Preprocess** Table of Contents](#preprocess)\n",
    "### [remove duplicates](#remove_duplicates)"
   ]
  },
  {
   "cell_type": "code",
   "execution_count": 10,
   "metadata": {},
   "outputs": [
    {
     "name": "stdout",
     "output_type": "stream",
     "text": [
      "calls_df\n",
      "Empty DataFrame\n",
      "Columns: [id, user_id, call_date, duration]\n",
      "Index: [] \n",
      "\n",
      "internet_df\n",
      "Empty DataFrame\n",
      "Columns: [id, user_id, session_date, mb_used]\n",
      "Index: [] \n",
      "\n",
      "messages_df\n",
      "Empty DataFrame\n",
      "Columns: [id, user_id, message_date]\n",
      "Index: [] \n",
      "\n",
      "plans_df\n",
      "Empty DataFrame\n",
      "Columns: [messages_included, mb_per_month_included, minutes_included, usd_monthly_pay, usd_per_gb, usd_per_message, usd_per_minute, plan_name]\n",
      "Index: [] \n",
      "\n",
      "users_df\n",
      "Empty DataFrame\n",
      "Columns: [user_id, first_name, last_name, age, city, reg_date, plan, churn_date]\n",
      "Index: [] \n",
      "\n"
     ]
    }
   ],
   "source": [
    "# check for duplicates:\n",
    "\n",
    "for df in df_dict:\n",
    "    print(df)\n",
    "    print(df_dict[df][df_dict[df].duplicated()],'\\n')"
   ]
  },
  {
   "cell_type": "markdown",
   "metadata": {},
   "source": [
    "**Duplicates conclusion**\n",
    "\n",
    "No duplicates"
   ]
  },
  {
   "cell_type": "markdown",
   "metadata": {},
   "source": [
    "<div class=\"alert alert-success\" role=\"alert\">\n",
    "Reviewer's comment v. 1:\n",
    "    \n",
    "Great, we don't have duplicates.\n",
    "</div>"
   ]
  },
  {
   "cell_type": "markdown",
   "metadata": {},
   "source": [
    "**Find and eliminate errors in the data**\n",
    "\n",
    "calls:\n",
    "* duration negative or too short or too long\n",
    "* call_date: too far in the past, in the future\n",
    "\n",
    "internet:\n",
    "* session_date too far in the past, or in the future\n",
    "* mb_used: negative or data too big\n",
    "\n",
    "messages:\n",
    "* message_date too far in the past, or in the future\n",
    "\n",
    "users:\n",
    "* first_name: empty or too long\n",
    "* last_name: empty or too long\n",
    "* age: below 18 or too old(above 130)\n",
    "* city: empty or too long\n",
    "* reg_date: too far in the past or in the future\n",
    "* plan: something other than ultimate or surf"
   ]
  },
  {
   "cell_type": "markdown",
   "metadata": {},
   "source": [
    "<div class=\"alert alert-success\" role=\"alert\">\n",
    "Reviewer's comment v. 1:\n",
    "    \n",
    "Ok :)\n",
    "</div>"
   ]
  },
  {
   "cell_type": "markdown",
   "metadata": {},
   "source": [
    "<a class='anchor' id='convert_datatypes'></a>\n",
    "[back to Preprocess Table of Contents](#preprocess)\n",
    "### [convert datatypes](#convert_datatypes)"
   ]
  },
  {
   "cell_type": "code",
   "execution_count": 11,
   "metadata": {},
   "outputs": [],
   "source": [
    "calls_df['call_date'] = pd.to_datetime(calls_df['call_date'], format='%Y-%m-%d')\n",
    "internet_df['session_date'] = pd.to_datetime(internet_df['session_date'], format='%Y-%m-%d')\n",
    "messages_df['message_date'] = pd.to_datetime(messages_df['message_date'], format='%Y-%m-%d')\n",
    "users_df['reg_date'] = pd.to_datetime(users_df['reg_date'], format='%Y-%m-%d')\n",
    "users_df.churn_date=pd.to_datetime(users_df.churn_date, errors='coerce', format='%Y-%m-%d')"
   ]
  },
  {
   "cell_type": "markdown",
   "metadata": {},
   "source": [
    "**Convert Datatype conculsion**\n",
    "\n",
    "Will probably have to convert again since I will change float number and round them"
   ]
  },
  {
   "cell_type": "markdown",
   "metadata": {},
   "source": [
    "<div class=\"alert alert-success\" role=\"alert\">\n",
    "Reviewer's comment v. 1:\n",
    "    \n",
    "It's great that you brought the data to the desired formats.\n",
    "</div>"
   ]
  },
  {
   "cell_type": "markdown",
   "metadata": {},
   "source": [
    "<a class='anchor' id='Find_and_eliminate_errors_in_the_data'></a>\n",
    "[back to Preprocess Table of Contents](#preprocess)\n",
    "\n",
    "### [Find and eliminate errors in the data](#Find_and_eliminate_errors_in_the_data)"
   ]
  },
  {
   "cell_type": "markdown",
   "metadata": {},
   "source": [
    "<div class=\"alert alert-success\" role=\"alert\">\n",
    "Reviewer's comment v. 1:\n",
    "    \n",
    "Please note that you can avoid warnings (if necessary) by using the code below.\n",
    "</div>"
   ]
  },
  {
   "cell_type": "code",
   "execution_count": 12,
   "metadata": {},
   "outputs": [],
   "source": [
    "import sys\n",
    "import warnings\n",
    "if not sys.warnoptions:\n",
    "       warnings.simplefilter(\"ignore\")"
   ]
  },
  {
   "cell_type": "code",
   "execution_count": 13,
   "metadata": {},
   "outputs": [
    {
     "data": {
      "text/html": [
       "<div>\n",
       "<style scoped>\n",
       "    .dataframe tbody tr th:only-of-type {\n",
       "        vertical-align: middle;\n",
       "    }\n",
       "\n",
       "    .dataframe tbody tr th {\n",
       "        vertical-align: top;\n",
       "    }\n",
       "\n",
       "    .dataframe thead th {\n",
       "        text-align: right;\n",
       "    }\n",
       "</style>\n",
       "<table border=\"1\" class=\"dataframe\">\n",
       "  <thead>\n",
       "    <tr style=\"text-align: right;\">\n",
       "      <th></th>\n",
       "      <th>id</th>\n",
       "      <th>user_id</th>\n",
       "      <th>call_date</th>\n",
       "      <th>duration</th>\n",
       "    </tr>\n",
       "  </thead>\n",
       "  <tbody>\n",
       "    <tr>\n",
       "      <td>0</td>\n",
       "      <td>1000_93</td>\n",
       "      <td>1000</td>\n",
       "      <td>2018-12-27</td>\n",
       "      <td>9</td>\n",
       "    </tr>\n",
       "    <tr>\n",
       "      <td>1</td>\n",
       "      <td>1000_145</td>\n",
       "      <td>1000</td>\n",
       "      <td>2018-12-27</td>\n",
       "      <td>14</td>\n",
       "    </tr>\n",
       "    <tr>\n",
       "      <td>2</td>\n",
       "      <td>1000_247</td>\n",
       "      <td>1000</td>\n",
       "      <td>2018-12-27</td>\n",
       "      <td>15</td>\n",
       "    </tr>\n",
       "    <tr>\n",
       "      <td>3</td>\n",
       "      <td>1000_309</td>\n",
       "      <td>1000</td>\n",
       "      <td>2018-12-28</td>\n",
       "      <td>6</td>\n",
       "    </tr>\n",
       "    <tr>\n",
       "      <td>4</td>\n",
       "      <td>1000_380</td>\n",
       "      <td>1000</td>\n",
       "      <td>2018-12-30</td>\n",
       "      <td>5</td>\n",
       "    </tr>\n",
       "    <tr>\n",
       "      <td>...</td>\n",
       "      <td>...</td>\n",
       "      <td>...</td>\n",
       "      <td>...</td>\n",
       "      <td>...</td>\n",
       "    </tr>\n",
       "    <tr>\n",
       "      <td>137730</td>\n",
       "      <td>1499_199</td>\n",
       "      <td>1499</td>\n",
       "      <td>2018-11-21</td>\n",
       "      <td>9</td>\n",
       "    </tr>\n",
       "    <tr>\n",
       "      <td>137731</td>\n",
       "      <td>1499_200</td>\n",
       "      <td>1499</td>\n",
       "      <td>2018-10-20</td>\n",
       "      <td>11</td>\n",
       "    </tr>\n",
       "    <tr>\n",
       "      <td>137732</td>\n",
       "      <td>1499_201</td>\n",
       "      <td>1499</td>\n",
       "      <td>2018-09-21</td>\n",
       "      <td>9</td>\n",
       "    </tr>\n",
       "    <tr>\n",
       "      <td>137733</td>\n",
       "      <td>1499_202</td>\n",
       "      <td>1499</td>\n",
       "      <td>2018-10-10</td>\n",
       "      <td>1</td>\n",
       "    </tr>\n",
       "    <tr>\n",
       "      <td>137734</td>\n",
       "      <td>1499_203</td>\n",
       "      <td>1499</td>\n",
       "      <td>2018-12-29</td>\n",
       "      <td>14</td>\n",
       "    </tr>\n",
       "  </tbody>\n",
       "</table>\n",
       "<p>110901 rows × 4 columns</p>\n",
       "</div>"
      ],
      "text/plain": [
       "              id  user_id  call_date  duration\n",
       "0        1000_93     1000 2018-12-27         9\n",
       "1       1000_145     1000 2018-12-27        14\n",
       "2       1000_247     1000 2018-12-27        15\n",
       "3       1000_309     1000 2018-12-28         6\n",
       "4       1000_380     1000 2018-12-30         5\n",
       "...          ...      ...        ...       ...\n",
       "137730  1499_199     1499 2018-11-21         9\n",
       "137731  1499_200     1499 2018-10-20        11\n",
       "137732  1499_201     1499 2018-09-21         9\n",
       "137733  1499_202     1499 2018-10-10         1\n",
       "137734  1499_203     1499 2018-12-29        14\n",
       "\n",
       "[110901 rows x 4 columns]"
      ]
     },
     "execution_count": 13,
     "metadata": {},
     "output_type": "execute_result"
    }
   ],
   "source": [
    "# calls_df\n",
    "# calls_df['duration'].value_counts() # looks fine\n",
    "# len(calls_df[calls_df['duration'] != 0]) #  26834\n",
    "# 26834 / len(calls_df)* 100               #  19.48 % to change\n",
    "\n",
    "calls_df = calls_df[calls_df['duration'] != 0]\n",
    "\n",
    "calls_df['duration'] = calls_df['duration'].apply(np.ceil)\n",
    "calls_df['duration'] = calls_df['duration'].apply(np.int64)\n",
    "calls_df"
   ]
  },
  {
   "cell_type": "code",
   "execution_count": 14,
   "metadata": {},
   "outputs": [],
   "source": [
    "# internet_df\n",
    "\n",
    "# internet_df['session_date'].sort_values() # looks fine\n",
    "# internet_df['mb_used'].sort_values()      # looks fine\n",
    "# internet_df['mb_used'].sort_values()\n",
    "# internet_df['mb_used'].value_counts()\n",
    "# no negative values, values look reseonable \n",
    "# zero values 13747\n",
    "\n",
    "13747 / len(internet_df) *100 # about 13 precent are zero\n",
    "internet_df.query('0.01 > mb_used > 0')\n",
    "\n",
    "internet_df = internet_df.query('mb_used != 0') # removing all values == 0"
   ]
  },
  {
   "cell_type": "code",
   "execution_count": 15,
   "metadata": {},
   "outputs": [
    {
     "data": {
      "text/plain": [
       "10897   2018-01-15\n",
       "10731   2018-01-15\n",
       "10944   2018-01-16\n",
       "11144   2018-01-16\n",
       "31693   2018-01-16\n",
       "           ...    \n",
       "9992    2018-12-31\n",
       "5185    2018-12-31\n",
       "23844   2018-12-31\n",
       "5200    2018-12-31\n",
       "14069   2018-12-31\n",
       "Name: message_date, Length: 76051, dtype: datetime64[ns]"
      ]
     },
     "execution_count": 15,
     "metadata": {},
     "output_type": "execute_result"
    }
   ],
   "source": [
    "# messages_df\n",
    "\n",
    "messages_df['message_date'].sort_values() # looks fine"
   ]
  },
  {
   "cell_type": "code",
   "execution_count": 16,
   "metadata": {},
   "outputs": [
    {
     "data": {
      "text/plain": [
       "surf        339\n",
       "ultimate    161\n",
       "Name: plan, dtype: int64"
      ]
     },
     "execution_count": 16,
     "metadata": {},
     "output_type": "execute_result"
    }
   ],
   "source": [
    "# users_df\n",
    "\n",
    "# users_df.query('first_name == \"\"') # looks fine\n",
    "# users_df.query('last_name == \"\"') # looks fine\n",
    "# users_df['age'].sort_values() # looks fine\n",
    "# users_df[users_df['city'] == \"\"] # looks fine\n",
    "users_df['plan'].value_counts() # looks fine"
   ]
  },
  {
   "cell_type": "markdown",
   "metadata": {},
   "source": []
  },
  {
   "cell_type": "markdown",
   "metadata": {},
   "source": [
    "<a class='anchor' id='Explain_what_errors_you_found_and_how_you_removed_them'></a>\n",
    "[Back to Preprocess Table of Contents](#preprocess)\n",
    "### [Explain what errors you found and how you removed them](#Explain_what_errors_you_found_and_how_you_removed_them)\n"
   ]
  },
  {
   "cell_type": "code",
   "execution_count": 17,
   "metadata": {},
   "outputs": [
    {
     "data": {
      "text/plain": [
       "surf        339\n",
       "ultimate    161\n",
       "Name: plan, dtype: int64"
      ]
     },
     "execution_count": 17,
     "metadata": {},
     "output_type": "execute_result"
    }
   ],
   "source": [
    "# users_df.query('first_name == \"\"') # looks fine\n",
    "# users_df.query('last_name == \"\"') # looks fine\n",
    "# users_df['age'].sort_values() # looks fine\n",
    "# users_df[users_df['city'] == \"\"] # looks fine\n",
    "users_df['plan'].value_counts() # looks fine"
   ]
  },
  {
   "cell_type": "markdown",
   "metadata": {},
   "source": [
    "**preprocessing cleaning conclusions:**\n",
    "\n",
    "* calls\n",
    "    * duation: \n",
    "        * 26834 zero minutes calls\n",
    "            * **maybe** a call that didn't connect is still registed as a call\n",
    "            * about 19%\n",
    "            * dropped all zero values\n",
    "                * since I suspect these are calls that didn't connect, so not counting them\n",
    "            * rounded up all values and turned to integer.\n",
    "* internet\n",
    "    * mb_used:\n",
    "        * 13747 values are zero:\n",
    "            * **maybe** data transfered is below  0.01\n",
    "            * about 13%\n",
    "            * removed all values == 0\n",
    "            * reason: not much can be done since we have willing to lose 13%\n"
   ]
  },
  {
   "cell_type": "markdown",
   "metadata": {},
   "source": [
    "<div class=\"alert alert-success\" role=\"alert\">\n",
    "Reviewer's comment v. 1:\n",
    "    \n",
    "Yes, a reasonable explanations of a zero duration calls and internet usage.\n",
    "</div>"
   ]
  },
  {
   "cell_type": "markdown",
   "metadata": {},
   "source": [
    "<a class='anchor' id='For_each_user_find'></a>\n",
    "[Back to Preprocess Table of Contents](#preprocess)\n",
    "\n",
    "### [For each user, find](#For_each_user_find)"
   ]
  },
  {
   "cell_type": "markdown",
   "metadata": {},
   "source": [
    "<a class='anchor' id='The_number_of_calls_made_and_minutes_used_per_month'></a>\n",
    "[Back to Preprocess Table of Contents](#preprocess)\n",
    "\n",
    "[The number of calls made and minutes used per month](#The_number_of_calls_made_and_minutes_used_per_month)"
   ]
  },
  {
   "cell_type": "markdown",
   "metadata": {},
   "source": [
    "<div class=\"alert alert-success\" role=\"alert\">\n",
    "Reviewer's comment v. 1:\n",
    "    \n",
    "Please note that you can avoid warnings (if necessary) by using the code below.\n",
    "</div>"
   ]
  },
  {
   "cell_type": "code",
   "execution_count": 18,
   "metadata": {},
   "outputs": [],
   "source": [
    "import sys\n",
    "import warnings\n",
    "if not sys.warnoptions:\n",
    "       warnings.simplefilter(\"ignore\")"
   ]
  },
  {
   "cell_type": "code",
   "execution_count": 19,
   "metadata": {},
   "outputs": [
    {
     "data": {
      "text/html": [
       "<div>\n",
       "<style scoped>\n",
       "    .dataframe tbody tr th:only-of-type {\n",
       "        vertical-align: middle;\n",
       "    }\n",
       "\n",
       "    .dataframe tbody tr th {\n",
       "        vertical-align: top;\n",
       "    }\n",
       "\n",
       "    .dataframe thead th {\n",
       "        text-align: right;\n",
       "    }\n",
       "</style>\n",
       "<table border=\"1\" class=\"dataframe\">\n",
       "  <thead>\n",
       "    <tr style=\"text-align: right;\">\n",
       "      <th></th>\n",
       "      <th>user_id</th>\n",
       "      <th>month</th>\n",
       "      <th>calls_count</th>\n",
       "      <th>calls_sum</th>\n",
       "    </tr>\n",
       "  </thead>\n",
       "  <tbody>\n",
       "    <tr>\n",
       "      <td>0</td>\n",
       "      <td>1000</td>\n",
       "      <td>12</td>\n",
       "      <td>16</td>\n",
       "      <td>124</td>\n",
       "    </tr>\n",
       "    <tr>\n",
       "      <td>1</td>\n",
       "      <td>1001</td>\n",
       "      <td>8</td>\n",
       "      <td>22</td>\n",
       "      <td>182</td>\n",
       "    </tr>\n",
       "    <tr>\n",
       "      <td>2</td>\n",
       "      <td>1001</td>\n",
       "      <td>9</td>\n",
       "      <td>38</td>\n",
       "      <td>315</td>\n",
       "    </tr>\n",
       "    <tr>\n",
       "      <td>3</td>\n",
       "      <td>1001</td>\n",
       "      <td>10</td>\n",
       "      <td>47</td>\n",
       "      <td>393</td>\n",
       "    </tr>\n",
       "    <tr>\n",
       "      <td>4</td>\n",
       "      <td>1001</td>\n",
       "      <td>11</td>\n",
       "      <td>49</td>\n",
       "      <td>426</td>\n",
       "    </tr>\n",
       "    <tr>\n",
       "      <td>...</td>\n",
       "      <td>...</td>\n",
       "      <td>...</td>\n",
       "      <td>...</td>\n",
       "      <td>...</td>\n",
       "    </tr>\n",
       "    <tr>\n",
       "      <td>2251</td>\n",
       "      <td>1498</td>\n",
       "      <td>12</td>\n",
       "      <td>32</td>\n",
       "      <td>339</td>\n",
       "    </tr>\n",
       "    <tr>\n",
       "      <td>2252</td>\n",
       "      <td>1499</td>\n",
       "      <td>9</td>\n",
       "      <td>35</td>\n",
       "      <td>346</td>\n",
       "    </tr>\n",
       "    <tr>\n",
       "      <td>2253</td>\n",
       "      <td>1499</td>\n",
       "      <td>10</td>\n",
       "      <td>41</td>\n",
       "      <td>385</td>\n",
       "    </tr>\n",
       "    <tr>\n",
       "      <td>2254</td>\n",
       "      <td>1499</td>\n",
       "      <td>11</td>\n",
       "      <td>39</td>\n",
       "      <td>308</td>\n",
       "    </tr>\n",
       "    <tr>\n",
       "      <td>2255</td>\n",
       "      <td>1499</td>\n",
       "      <td>12</td>\n",
       "      <td>56</td>\n",
       "      <td>496</td>\n",
       "    </tr>\n",
       "  </tbody>\n",
       "</table>\n",
       "<p>2256 rows × 4 columns</p>\n",
       "</div>"
      ],
      "text/plain": [
       "      user_id  month  calls_count  calls_sum\n",
       "0        1000     12           16        124\n",
       "1        1001      8           22        182\n",
       "2        1001      9           38        315\n",
       "3        1001     10           47        393\n",
       "4        1001     11           49        426\n",
       "...       ...    ...          ...        ...\n",
       "2251     1498     12           32        339\n",
       "2252     1499      9           35        346\n",
       "2253     1499     10           41        385\n",
       "2254     1499     11           39        308\n",
       "2255     1499     12           56        496\n",
       "\n",
       "[2256 rows x 4 columns]"
      ]
     },
     "execution_count": 19,
     "metadata": {},
     "output_type": "execute_result"
    }
   ],
   "source": [
    "calls_df['month'] = calls_df['call_date'].dt.month\n",
    "calls_gby_user_month = calls_df.groupby([\"user_id\",\"month\"]).agg({\"duration\":[\"count\",\"sum\"]})\n",
    "calls_gby_user_month.columns = calls_gby_user_month.columns.droplevel(0)\n",
    "calls_gby_user_month.columns = ['calls_count','calls_sum']\n",
    "\n",
    "calls_gby_user_month.reset_index(inplace=True)\n",
    "calls_gby_user_month\n"
   ]
  },
  {
   "cell_type": "markdown",
   "metadata": {},
   "source": [
    "<a class='anchor' id='The_number_of_text_messages_sent_per_month'></a>\n",
    "[Back to Preprocess Table of Contents](#preprocess)\n",
    "\n",
    "[The number of text messages sent per month](#The_number_of_text_messages_sent_per_month)\n"
   ]
  },
  {
   "cell_type": "code",
   "execution_count": 20,
   "metadata": {},
   "outputs": [
    {
     "data": {
      "text/html": [
       "<div>\n",
       "<style scoped>\n",
       "    .dataframe tbody tr th:only-of-type {\n",
       "        vertical-align: middle;\n",
       "    }\n",
       "\n",
       "    .dataframe tbody tr th {\n",
       "        vertical-align: top;\n",
       "    }\n",
       "\n",
       "    .dataframe thead th {\n",
       "        text-align: right;\n",
       "    }\n",
       "</style>\n",
       "<table border=\"1\" class=\"dataframe\">\n",
       "  <thead>\n",
       "    <tr style=\"text-align: right;\">\n",
       "      <th></th>\n",
       "      <th>user_id</th>\n",
       "      <th>month</th>\n",
       "      <th>msg_count</th>\n",
       "    </tr>\n",
       "  </thead>\n",
       "  <tbody>\n",
       "    <tr>\n",
       "      <td>0</td>\n",
       "      <td>1000</td>\n",
       "      <td>12</td>\n",
       "      <td>11</td>\n",
       "    </tr>\n",
       "    <tr>\n",
       "      <td>1</td>\n",
       "      <td>1001</td>\n",
       "      <td>8</td>\n",
       "      <td>30</td>\n",
       "    </tr>\n",
       "    <tr>\n",
       "      <td>2</td>\n",
       "      <td>1001</td>\n",
       "      <td>9</td>\n",
       "      <td>44</td>\n",
       "    </tr>\n",
       "    <tr>\n",
       "      <td>3</td>\n",
       "      <td>1001</td>\n",
       "      <td>10</td>\n",
       "      <td>53</td>\n",
       "    </tr>\n",
       "    <tr>\n",
       "      <td>4</td>\n",
       "      <td>1001</td>\n",
       "      <td>11</td>\n",
       "      <td>36</td>\n",
       "    </tr>\n",
       "    <tr>\n",
       "      <td>...</td>\n",
       "      <td>...</td>\n",
       "      <td>...</td>\n",
       "      <td>...</td>\n",
       "    </tr>\n",
       "    <tr>\n",
       "      <td>1801</td>\n",
       "      <td>1496</td>\n",
       "      <td>9</td>\n",
       "      <td>21</td>\n",
       "    </tr>\n",
       "    <tr>\n",
       "      <td>1802</td>\n",
       "      <td>1496</td>\n",
       "      <td>10</td>\n",
       "      <td>18</td>\n",
       "    </tr>\n",
       "    <tr>\n",
       "      <td>1803</td>\n",
       "      <td>1496</td>\n",
       "      <td>11</td>\n",
       "      <td>13</td>\n",
       "    </tr>\n",
       "    <tr>\n",
       "      <td>1804</td>\n",
       "      <td>1496</td>\n",
       "      <td>12</td>\n",
       "      <td>11</td>\n",
       "    </tr>\n",
       "    <tr>\n",
       "      <td>1805</td>\n",
       "      <td>1497</td>\n",
       "      <td>12</td>\n",
       "      <td>50</td>\n",
       "    </tr>\n",
       "  </tbody>\n",
       "</table>\n",
       "<p>1806 rows × 3 columns</p>\n",
       "</div>"
      ],
      "text/plain": [
       "      user_id  month  msg_count\n",
       "0        1000     12         11\n",
       "1        1001      8         30\n",
       "2        1001      9         44\n",
       "3        1001     10         53\n",
       "4        1001     11         36\n",
       "...       ...    ...        ...\n",
       "1801     1496      9         21\n",
       "1802     1496     10         18\n",
       "1803     1496     11         13\n",
       "1804     1496     12         11\n",
       "1805     1497     12         50\n",
       "\n",
       "[1806 rows x 3 columns]"
      ]
     },
     "execution_count": 20,
     "metadata": {},
     "output_type": "execute_result"
    }
   ],
   "source": [
    "messages_df['month'] = messages_df['message_date'].dt.month\n",
    "msg_gby_user_month = messages_df.groupby([\"user_id\",\"month\"]).agg({\"id\":[\"count\"]})\n",
    "msg_gby_user_month.columns = msg_gby_user_month.columns.droplevel(0)\n",
    "msg_gby_user_month.columns = ['msg_count']\n",
    "\n",
    "msg_gby_user_month.reset_index(inplace=True)\n",
    "msg_gby_user_month"
   ]
  },
  {
   "cell_type": "markdown",
   "metadata": {},
   "source": [
    "<a class='anchor' id='The_volume_of_data_per_month'></a>\n",
    "[Back to Preprocess Table of Contents](#preprocess)\n",
    "\n",
    "[The volume of data per month](#The_volume_of_data_per_month)"
   ]
  },
  {
   "cell_type": "code",
   "execution_count": 21,
   "metadata": {},
   "outputs": [
    {
     "data": {
      "text/html": [
       "<div>\n",
       "<style scoped>\n",
       "    .dataframe tbody tr th:only-of-type {\n",
       "        vertical-align: middle;\n",
       "    }\n",
       "\n",
       "    .dataframe tbody tr th {\n",
       "        vertical-align: top;\n",
       "    }\n",
       "\n",
       "    .dataframe thead th {\n",
       "        text-align: right;\n",
       "    }\n",
       "</style>\n",
       "<table border=\"1\" class=\"dataframe\">\n",
       "  <thead>\n",
       "    <tr style=\"text-align: right;\">\n",
       "      <th></th>\n",
       "      <th>user_id</th>\n",
       "      <th>month</th>\n",
       "      <th>GB_used</th>\n",
       "    </tr>\n",
       "  </thead>\n",
       "  <tbody>\n",
       "    <tr>\n",
       "      <td>0</td>\n",
       "      <td>1000</td>\n",
       "      <td>12</td>\n",
       "      <td>2</td>\n",
       "    </tr>\n",
       "    <tr>\n",
       "      <td>1</td>\n",
       "      <td>1001</td>\n",
       "      <td>8</td>\n",
       "      <td>7</td>\n",
       "    </tr>\n",
       "    <tr>\n",
       "      <td>2</td>\n",
       "      <td>1001</td>\n",
       "      <td>9</td>\n",
       "      <td>14</td>\n",
       "    </tr>\n",
       "    <tr>\n",
       "      <td>3</td>\n",
       "      <td>1001</td>\n",
       "      <td>10</td>\n",
       "      <td>22</td>\n",
       "    </tr>\n",
       "    <tr>\n",
       "      <td>4</td>\n",
       "      <td>1001</td>\n",
       "      <td>11</td>\n",
       "      <td>19</td>\n",
       "    </tr>\n",
       "    <tr>\n",
       "      <td>...</td>\n",
       "      <td>...</td>\n",
       "      <td>...</td>\n",
       "      <td>...</td>\n",
       "    </tr>\n",
       "    <tr>\n",
       "      <td>2272</td>\n",
       "      <td>1498</td>\n",
       "      <td>12</td>\n",
       "      <td>23</td>\n",
       "    </tr>\n",
       "    <tr>\n",
       "      <td>2273</td>\n",
       "      <td>1499</td>\n",
       "      <td>9</td>\n",
       "      <td>13</td>\n",
       "    </tr>\n",
       "    <tr>\n",
       "      <td>2274</td>\n",
       "      <td>1499</td>\n",
       "      <td>10</td>\n",
       "      <td>20</td>\n",
       "    </tr>\n",
       "    <tr>\n",
       "      <td>2275</td>\n",
       "      <td>1499</td>\n",
       "      <td>11</td>\n",
       "      <td>17</td>\n",
       "    </tr>\n",
       "    <tr>\n",
       "      <td>2276</td>\n",
       "      <td>1499</td>\n",
       "      <td>12</td>\n",
       "      <td>22</td>\n",
       "    </tr>\n",
       "  </tbody>\n",
       "</table>\n",
       "<p>2277 rows × 3 columns</p>\n",
       "</div>"
      ],
      "text/plain": [
       "      user_id  month  GB_used\n",
       "0        1000     12        2\n",
       "1        1001      8        7\n",
       "2        1001      9       14\n",
       "3        1001     10       22\n",
       "4        1001     11       19\n",
       "...       ...    ...      ...\n",
       "2272     1498     12       23\n",
       "2273     1499      9       13\n",
       "2274     1499     10       20\n",
       "2275     1499     11       17\n",
       "2276     1499     12       22\n",
       "\n",
       "[2277 rows x 3 columns]"
      ]
     },
     "execution_count": 21,
     "metadata": {},
     "output_type": "execute_result"
    }
   ],
   "source": [
    "internet_df['month'] = internet_df['session_date'].dt.month\n",
    "web_gby_user_month = internet_df.groupby([\"user_id\",\"month\"]).agg({\"mb_used\":[\"sum\"]})\n",
    "web_gby_user_month.columns = web_gby_user_month.columns.droplevel(0)\n",
    "web_gby_user_month.columns = ['GB_used']\n",
    "\n",
    "#convert to GB\n",
    "web_gby_user_month['GB_used'] = web_gby_user_month['GB_used'] / 1024\n",
    "web_gby_user_month['GB_used'] = web_gby_user_month['GB_used'].apply(np.ceil)\n",
    "web_gby_user_month = web_gby_user_month.astype({'GB_used':'int64'})\n",
    "\n",
    "web_gby_user_month.reset_index(inplace=True)\n",
    "web_gby_user_month\n"
   ]
  },
  {
   "cell_type": "code",
   "execution_count": 22,
   "metadata": {},
   "outputs": [
    {
     "data": {
      "text/plain": [
       "'rows number for calls:'"
      ]
     },
     "metadata": {},
     "output_type": "display_data"
    },
    {
     "data": {
      "text/plain": [
       "2256"
      ]
     },
     "metadata": {},
     "output_type": "display_data"
    },
    {
     "data": {
      "text/plain": [
       "'rows number for msg:'"
      ]
     },
     "metadata": {},
     "output_type": "display_data"
    },
    {
     "data": {
      "text/plain": [
       "1806"
      ]
     },
     "metadata": {},
     "output_type": "display_data"
    },
    {
     "data": {
      "text/plain": [
       "'rows number for web:'"
      ]
     },
     "metadata": {},
     "output_type": "display_data"
    },
    {
     "data": {
      "text/plain": [
       "2277"
      ]
     },
     "metadata": {},
     "output_type": "display_data"
    }
   ],
   "source": [
    "display('rows number for calls:', len(calls_gby_user_month),\n",
    "        'rows number for msg:', len(msg_gby_user_month),\n",
    "        'rows number for web:', len(web_gby_user_month),\n",
    "        )\n"
   ]
  },
  {
   "cell_type": "markdown",
   "metadata": {},
   "source": [
    "The best way to ensure we merge everything correctly is by using how='outer'\n",
    "\n",
    "**Next we will merge**"
   ]
  },
  {
   "cell_type": "markdown",
   "metadata": {},
   "source": [
    "<a class='anchor' id='The_monthly_revenue_from_each_user'></a>\n",
    "[Back to Preprocess Table of Contents](#preprocess)\n",
    "\n",
    "[The monthly revenue from each user](#The_monthly_revenue_from_each_user)"
   ]
  },
  {
   "cell_type": "markdown",
   "metadata": {},
   "source": [
    "<div class=\"alert alert-danger\" role=\"alert\">\n",
    "Reviewer's comment v. 1:\n",
    "    \n",
    "Please note that before joining the tables, you need to check the number of client IDs in each table to select the correct connection method.\n",
    "</div>"
   ]
  },
  {
   "cell_type": "markdown",
   "metadata": {},
   "source": [
    "<div class=\"alert alert-info\" role=\"alert\">\n",
    "Not sure I understood.\n",
    "    \n",
    "connection method of merge of groupby?\n",
    "\n",
    "Your just expecting to see the number of user_id?\n",
    "</div>"
   ]
  },
  {
   "cell_type": "markdown",
   "metadata": {},
   "source": [
    "<div class=\"alert alert-danger\" role=\"alert\">\n",
    "Reviewer's comment v. 2:\n",
    "    \n",
    "I mean to check the number of rows in the output (after merging) table. Please printed out the following information:\n",
    "    \n",
    "In total, information is provided for ??? subscribers.\n",
    "Information on the messages is provided by ??? subscribers.\n",
    "Information on calls is provided by ??? subscribers.\n",
    "Information on the volume of Internet traffic is provided by ??? subscribers.\n",
    "    \n",
    "So, what is the expected number of rows in the output table?\n",
    "</div>"
   ]
  },
  {
   "cell_type": "markdown",
   "metadata": {},
   "source": [
    "<div class=\"alert alert-success\" role=\"alert\">\n",
    "Reviewer's comment v. 3:\n",
    "    \n",
    "Ok :)\n",
    "</div>"
   ]
  },
  {
   "cell_type": "code",
   "execution_count": 23,
   "metadata": {},
   "outputs": [
    {
     "data": {
      "text/html": [
       "<div>\n",
       "<style scoped>\n",
       "    .dataframe tbody tr th:only-of-type {\n",
       "        vertical-align: middle;\n",
       "    }\n",
       "\n",
       "    .dataframe tbody tr th {\n",
       "        vertical-align: top;\n",
       "    }\n",
       "\n",
       "    .dataframe thead th {\n",
       "        text-align: right;\n",
       "    }\n",
       "</style>\n",
       "<table border=\"1\" class=\"dataframe\">\n",
       "  <thead>\n",
       "    <tr style=\"text-align: right;\">\n",
       "      <th></th>\n",
       "      <th>user_id</th>\n",
       "      <th>first_name</th>\n",
       "      <th>last_name</th>\n",
       "      <th>age</th>\n",
       "      <th>city</th>\n",
       "      <th>reg_date</th>\n",
       "      <th>plan</th>\n",
       "      <th>churn_date</th>\n",
       "      <th>month</th>\n",
       "      <th>calls_count</th>\n",
       "      <th>calls_sum</th>\n",
       "      <th>msg_count</th>\n",
       "      <th>GB_used</th>\n",
       "    </tr>\n",
       "  </thead>\n",
       "  <tbody>\n",
       "    <tr>\n",
       "      <td>0</td>\n",
       "      <td>1000</td>\n",
       "      <td>Anamaria</td>\n",
       "      <td>Bauer</td>\n",
       "      <td>45</td>\n",
       "      <td>Atlanta-Sandy Springs-Roswell, GA MSA</td>\n",
       "      <td>2018-12-24</td>\n",
       "      <td>ultimate</td>\n",
       "      <td>NaT</td>\n",
       "      <td>12</td>\n",
       "      <td>16.0</td>\n",
       "      <td>124.0</td>\n",
       "      <td>11.0</td>\n",
       "      <td>2.0</td>\n",
       "    </tr>\n",
       "    <tr>\n",
       "      <td>1</td>\n",
       "      <td>1001</td>\n",
       "      <td>Mickey</td>\n",
       "      <td>Wilkerson</td>\n",
       "      <td>28</td>\n",
       "      <td>Seattle-Tacoma-Bellevue, WA MSA</td>\n",
       "      <td>2018-08-13</td>\n",
       "      <td>surf</td>\n",
       "      <td>NaT</td>\n",
       "      <td>8</td>\n",
       "      <td>22.0</td>\n",
       "      <td>182.0</td>\n",
       "      <td>30.0</td>\n",
       "      <td>7.0</td>\n",
       "    </tr>\n",
       "    <tr>\n",
       "      <td>2</td>\n",
       "      <td>1001</td>\n",
       "      <td>Mickey</td>\n",
       "      <td>Wilkerson</td>\n",
       "      <td>28</td>\n",
       "      <td>Seattle-Tacoma-Bellevue, WA MSA</td>\n",
       "      <td>2018-08-13</td>\n",
       "      <td>surf</td>\n",
       "      <td>NaT</td>\n",
       "      <td>9</td>\n",
       "      <td>38.0</td>\n",
       "      <td>315.0</td>\n",
       "      <td>44.0</td>\n",
       "      <td>14.0</td>\n",
       "    </tr>\n",
       "    <tr>\n",
       "      <td>3</td>\n",
       "      <td>1001</td>\n",
       "      <td>Mickey</td>\n",
       "      <td>Wilkerson</td>\n",
       "      <td>28</td>\n",
       "      <td>Seattle-Tacoma-Bellevue, WA MSA</td>\n",
       "      <td>2018-08-13</td>\n",
       "      <td>surf</td>\n",
       "      <td>NaT</td>\n",
       "      <td>10</td>\n",
       "      <td>47.0</td>\n",
       "      <td>393.0</td>\n",
       "      <td>53.0</td>\n",
       "      <td>22.0</td>\n",
       "    </tr>\n",
       "    <tr>\n",
       "      <td>4</td>\n",
       "      <td>1001</td>\n",
       "      <td>Mickey</td>\n",
       "      <td>Wilkerson</td>\n",
       "      <td>28</td>\n",
       "      <td>Seattle-Tacoma-Bellevue, WA MSA</td>\n",
       "      <td>2018-08-13</td>\n",
       "      <td>surf</td>\n",
       "      <td>NaT</td>\n",
       "      <td>11</td>\n",
       "      <td>49.0</td>\n",
       "      <td>426.0</td>\n",
       "      <td>36.0</td>\n",
       "      <td>19.0</td>\n",
       "    </tr>\n",
       "    <tr>\n",
       "      <td>...</td>\n",
       "      <td>...</td>\n",
       "      <td>...</td>\n",
       "      <td>...</td>\n",
       "      <td>...</td>\n",
       "      <td>...</td>\n",
       "      <td>...</td>\n",
       "      <td>...</td>\n",
       "      <td>...</td>\n",
       "      <td>...</td>\n",
       "      <td>...</td>\n",
       "      <td>...</td>\n",
       "      <td>...</td>\n",
       "      <td>...</td>\n",
       "    </tr>\n",
       "    <tr>\n",
       "      <td>2288</td>\n",
       "      <td>1498</td>\n",
       "      <td>Scot</td>\n",
       "      <td>Williamson</td>\n",
       "      <td>51</td>\n",
       "      <td>New York-Newark-Jersey City, NY-NJ-PA MSA</td>\n",
       "      <td>2018-02-04</td>\n",
       "      <td>surf</td>\n",
       "      <td>NaT</td>\n",
       "      <td>12</td>\n",
       "      <td>32.0</td>\n",
       "      <td>339.0</td>\n",
       "      <td>NaN</td>\n",
       "      <td>23.0</td>\n",
       "    </tr>\n",
       "    <tr>\n",
       "      <td>2289</td>\n",
       "      <td>1499</td>\n",
       "      <td>Shena</td>\n",
       "      <td>Dickson</td>\n",
       "      <td>37</td>\n",
       "      <td>Orlando-Kissimmee-Sanford, FL MSA</td>\n",
       "      <td>2018-05-06</td>\n",
       "      <td>surf</td>\n",
       "      <td>NaT</td>\n",
       "      <td>9</td>\n",
       "      <td>35.0</td>\n",
       "      <td>346.0</td>\n",
       "      <td>NaN</td>\n",
       "      <td>13.0</td>\n",
       "    </tr>\n",
       "    <tr>\n",
       "      <td>2290</td>\n",
       "      <td>1499</td>\n",
       "      <td>Shena</td>\n",
       "      <td>Dickson</td>\n",
       "      <td>37</td>\n",
       "      <td>Orlando-Kissimmee-Sanford, FL MSA</td>\n",
       "      <td>2018-05-06</td>\n",
       "      <td>surf</td>\n",
       "      <td>NaT</td>\n",
       "      <td>10</td>\n",
       "      <td>41.0</td>\n",
       "      <td>385.0</td>\n",
       "      <td>NaN</td>\n",
       "      <td>20.0</td>\n",
       "    </tr>\n",
       "    <tr>\n",
       "      <td>2291</td>\n",
       "      <td>1499</td>\n",
       "      <td>Shena</td>\n",
       "      <td>Dickson</td>\n",
       "      <td>37</td>\n",
       "      <td>Orlando-Kissimmee-Sanford, FL MSA</td>\n",
       "      <td>2018-05-06</td>\n",
       "      <td>surf</td>\n",
       "      <td>NaT</td>\n",
       "      <td>11</td>\n",
       "      <td>39.0</td>\n",
       "      <td>308.0</td>\n",
       "      <td>NaN</td>\n",
       "      <td>17.0</td>\n",
       "    </tr>\n",
       "    <tr>\n",
       "      <td>2292</td>\n",
       "      <td>1499</td>\n",
       "      <td>Shena</td>\n",
       "      <td>Dickson</td>\n",
       "      <td>37</td>\n",
       "      <td>Orlando-Kissimmee-Sanford, FL MSA</td>\n",
       "      <td>2018-05-06</td>\n",
       "      <td>surf</td>\n",
       "      <td>NaT</td>\n",
       "      <td>12</td>\n",
       "      <td>56.0</td>\n",
       "      <td>496.0</td>\n",
       "      <td>NaN</td>\n",
       "      <td>22.0</td>\n",
       "    </tr>\n",
       "  </tbody>\n",
       "</table>\n",
       "<p>2293 rows × 13 columns</p>\n",
       "</div>"
      ],
      "text/plain": [
       "      user_id first_name   last_name  age  \\\n",
       "0        1000   Anamaria       Bauer   45   \n",
       "1        1001     Mickey   Wilkerson   28   \n",
       "2        1001     Mickey   Wilkerson   28   \n",
       "3        1001     Mickey   Wilkerson   28   \n",
       "4        1001     Mickey   Wilkerson   28   \n",
       "...       ...        ...         ...  ...   \n",
       "2288     1498       Scot  Williamson   51   \n",
       "2289     1499      Shena     Dickson   37   \n",
       "2290     1499      Shena     Dickson   37   \n",
       "2291     1499      Shena     Dickson   37   \n",
       "2292     1499      Shena     Dickson   37   \n",
       "\n",
       "                                           city   reg_date      plan  \\\n",
       "0         Atlanta-Sandy Springs-Roswell, GA MSA 2018-12-24  ultimate   \n",
       "1               Seattle-Tacoma-Bellevue, WA MSA 2018-08-13      surf   \n",
       "2               Seattle-Tacoma-Bellevue, WA MSA 2018-08-13      surf   \n",
       "3               Seattle-Tacoma-Bellevue, WA MSA 2018-08-13      surf   \n",
       "4               Seattle-Tacoma-Bellevue, WA MSA 2018-08-13      surf   \n",
       "...                                         ...        ...       ...   \n",
       "2288  New York-Newark-Jersey City, NY-NJ-PA MSA 2018-02-04      surf   \n",
       "2289          Orlando-Kissimmee-Sanford, FL MSA 2018-05-06      surf   \n",
       "2290          Orlando-Kissimmee-Sanford, FL MSA 2018-05-06      surf   \n",
       "2291          Orlando-Kissimmee-Sanford, FL MSA 2018-05-06      surf   \n",
       "2292          Orlando-Kissimmee-Sanford, FL MSA 2018-05-06      surf   \n",
       "\n",
       "     churn_date  month  calls_count  calls_sum  msg_count  GB_used  \n",
       "0           NaT     12         16.0      124.0       11.0      2.0  \n",
       "1           NaT      8         22.0      182.0       30.0      7.0  \n",
       "2           NaT      9         38.0      315.0       44.0     14.0  \n",
       "3           NaT     10         47.0      393.0       53.0     22.0  \n",
       "4           NaT     11         49.0      426.0       36.0     19.0  \n",
       "...         ...    ...          ...        ...        ...      ...  \n",
       "2288        NaT     12         32.0      339.0        NaN     23.0  \n",
       "2289        NaT      9         35.0      346.0        NaN     13.0  \n",
       "2290        NaT     10         41.0      385.0        NaN     20.0  \n",
       "2291        NaT     11         39.0      308.0        NaN     17.0  \n",
       "2292        NaT     12         56.0      496.0        NaN     22.0  \n",
       "\n",
       "[2293 rows x 13 columns]"
      ]
     },
     "execution_count": 23,
     "metadata": {},
     "output_type": "execute_result"
    }
   ],
   "source": [
    "# 1. merge df\n",
    "\n",
    "calls_msg_merged = calls_gby_user_month.merge(msg_gby_user_month, on=['user_id','month'], how='outer')\n",
    "calls_msg_web_merged = calls_msg_merged.merge(web_gby_user_month, on=['user_id','month'], how='outer')\n",
    "\n",
    "users_calls_msg_web_merged = users_df.merge(calls_msg_web_merged, on=['user_id'])\n",
    "users_calls_msg_web_merged\n"
   ]
  },
  {
   "cell_type": "code",
   "execution_count": 24,
   "metadata": {},
   "outputs": [
    {
     "data": {
      "text/html": [
       "<div>\n",
       "<style scoped>\n",
       "    .dataframe tbody tr th:only-of-type {\n",
       "        vertical-align: middle;\n",
       "    }\n",
       "\n",
       "    .dataframe tbody tr th {\n",
       "        vertical-align: top;\n",
       "    }\n",
       "\n",
       "    .dataframe thead th {\n",
       "        text-align: right;\n",
       "    }\n",
       "</style>\n",
       "<table border=\"1\" class=\"dataframe\">\n",
       "  <thead>\n",
       "    <tr style=\"text-align: right;\">\n",
       "      <th></th>\n",
       "      <th>user_id</th>\n",
       "      <th>first_name</th>\n",
       "      <th>last_name</th>\n",
       "      <th>age</th>\n",
       "      <th>city</th>\n",
       "      <th>reg_date</th>\n",
       "      <th>plan</th>\n",
       "      <th>churn_date</th>\n",
       "      <th>month</th>\n",
       "      <th>calls_count</th>\n",
       "      <th>calls_sum</th>\n",
       "      <th>msg_count</th>\n",
       "      <th>GB_used</th>\n",
       "    </tr>\n",
       "  </thead>\n",
       "  <tbody>\n",
       "    <tr>\n",
       "      <td>0</td>\n",
       "      <td>1000</td>\n",
       "      <td>Anamaria</td>\n",
       "      <td>Bauer</td>\n",
       "      <td>45</td>\n",
       "      <td>Atlanta-Sandy Springs-Roswell, GA MSA</td>\n",
       "      <td>2018-12-24</td>\n",
       "      <td>ultimate</td>\n",
       "      <td>0</td>\n",
       "      <td>12</td>\n",
       "      <td>16</td>\n",
       "      <td>124</td>\n",
       "      <td>11</td>\n",
       "      <td>2</td>\n",
       "    </tr>\n",
       "    <tr>\n",
       "      <td>1</td>\n",
       "      <td>1001</td>\n",
       "      <td>Mickey</td>\n",
       "      <td>Wilkerson</td>\n",
       "      <td>28</td>\n",
       "      <td>Seattle-Tacoma-Bellevue, WA MSA</td>\n",
       "      <td>2018-08-13</td>\n",
       "      <td>surf</td>\n",
       "      <td>0</td>\n",
       "      <td>8</td>\n",
       "      <td>22</td>\n",
       "      <td>182</td>\n",
       "      <td>30</td>\n",
       "      <td>7</td>\n",
       "    </tr>\n",
       "    <tr>\n",
       "      <td>2</td>\n",
       "      <td>1001</td>\n",
       "      <td>Mickey</td>\n",
       "      <td>Wilkerson</td>\n",
       "      <td>28</td>\n",
       "      <td>Seattle-Tacoma-Bellevue, WA MSA</td>\n",
       "      <td>2018-08-13</td>\n",
       "      <td>surf</td>\n",
       "      <td>0</td>\n",
       "      <td>9</td>\n",
       "      <td>38</td>\n",
       "      <td>315</td>\n",
       "      <td>44</td>\n",
       "      <td>14</td>\n",
       "    </tr>\n",
       "    <tr>\n",
       "      <td>3</td>\n",
       "      <td>1001</td>\n",
       "      <td>Mickey</td>\n",
       "      <td>Wilkerson</td>\n",
       "      <td>28</td>\n",
       "      <td>Seattle-Tacoma-Bellevue, WA MSA</td>\n",
       "      <td>2018-08-13</td>\n",
       "      <td>surf</td>\n",
       "      <td>0</td>\n",
       "      <td>10</td>\n",
       "      <td>47</td>\n",
       "      <td>393</td>\n",
       "      <td>53</td>\n",
       "      <td>22</td>\n",
       "    </tr>\n",
       "    <tr>\n",
       "      <td>4</td>\n",
       "      <td>1001</td>\n",
       "      <td>Mickey</td>\n",
       "      <td>Wilkerson</td>\n",
       "      <td>28</td>\n",
       "      <td>Seattle-Tacoma-Bellevue, WA MSA</td>\n",
       "      <td>2018-08-13</td>\n",
       "      <td>surf</td>\n",
       "      <td>0</td>\n",
       "      <td>11</td>\n",
       "      <td>49</td>\n",
       "      <td>426</td>\n",
       "      <td>36</td>\n",
       "      <td>19</td>\n",
       "    </tr>\n",
       "    <tr>\n",
       "      <td>...</td>\n",
       "      <td>...</td>\n",
       "      <td>...</td>\n",
       "      <td>...</td>\n",
       "      <td>...</td>\n",
       "      <td>...</td>\n",
       "      <td>...</td>\n",
       "      <td>...</td>\n",
       "      <td>...</td>\n",
       "      <td>...</td>\n",
       "      <td>...</td>\n",
       "      <td>...</td>\n",
       "      <td>...</td>\n",
       "      <td>...</td>\n",
       "    </tr>\n",
       "    <tr>\n",
       "      <td>2288</td>\n",
       "      <td>1498</td>\n",
       "      <td>Scot</td>\n",
       "      <td>Williamson</td>\n",
       "      <td>51</td>\n",
       "      <td>New York-Newark-Jersey City, NY-NJ-PA MSA</td>\n",
       "      <td>2018-02-04</td>\n",
       "      <td>surf</td>\n",
       "      <td>0</td>\n",
       "      <td>12</td>\n",
       "      <td>32</td>\n",
       "      <td>339</td>\n",
       "      <td>0</td>\n",
       "      <td>23</td>\n",
       "    </tr>\n",
       "    <tr>\n",
       "      <td>2289</td>\n",
       "      <td>1499</td>\n",
       "      <td>Shena</td>\n",
       "      <td>Dickson</td>\n",
       "      <td>37</td>\n",
       "      <td>Orlando-Kissimmee-Sanford, FL MSA</td>\n",
       "      <td>2018-05-06</td>\n",
       "      <td>surf</td>\n",
       "      <td>0</td>\n",
       "      <td>9</td>\n",
       "      <td>35</td>\n",
       "      <td>346</td>\n",
       "      <td>0</td>\n",
       "      <td>13</td>\n",
       "    </tr>\n",
       "    <tr>\n",
       "      <td>2290</td>\n",
       "      <td>1499</td>\n",
       "      <td>Shena</td>\n",
       "      <td>Dickson</td>\n",
       "      <td>37</td>\n",
       "      <td>Orlando-Kissimmee-Sanford, FL MSA</td>\n",
       "      <td>2018-05-06</td>\n",
       "      <td>surf</td>\n",
       "      <td>0</td>\n",
       "      <td>10</td>\n",
       "      <td>41</td>\n",
       "      <td>385</td>\n",
       "      <td>0</td>\n",
       "      <td>20</td>\n",
       "    </tr>\n",
       "    <tr>\n",
       "      <td>2291</td>\n",
       "      <td>1499</td>\n",
       "      <td>Shena</td>\n",
       "      <td>Dickson</td>\n",
       "      <td>37</td>\n",
       "      <td>Orlando-Kissimmee-Sanford, FL MSA</td>\n",
       "      <td>2018-05-06</td>\n",
       "      <td>surf</td>\n",
       "      <td>0</td>\n",
       "      <td>11</td>\n",
       "      <td>39</td>\n",
       "      <td>308</td>\n",
       "      <td>0</td>\n",
       "      <td>17</td>\n",
       "    </tr>\n",
       "    <tr>\n",
       "      <td>2292</td>\n",
       "      <td>1499</td>\n",
       "      <td>Shena</td>\n",
       "      <td>Dickson</td>\n",
       "      <td>37</td>\n",
       "      <td>Orlando-Kissimmee-Sanford, FL MSA</td>\n",
       "      <td>2018-05-06</td>\n",
       "      <td>surf</td>\n",
       "      <td>0</td>\n",
       "      <td>12</td>\n",
       "      <td>56</td>\n",
       "      <td>496</td>\n",
       "      <td>0</td>\n",
       "      <td>22</td>\n",
       "    </tr>\n",
       "  </tbody>\n",
       "</table>\n",
       "<p>2293 rows × 13 columns</p>\n",
       "</div>"
      ],
      "text/plain": [
       "      user_id first_name   last_name  age  \\\n",
       "0        1000   Anamaria       Bauer   45   \n",
       "1        1001     Mickey   Wilkerson   28   \n",
       "2        1001     Mickey   Wilkerson   28   \n",
       "3        1001     Mickey   Wilkerson   28   \n",
       "4        1001     Mickey   Wilkerson   28   \n",
       "...       ...        ...         ...  ...   \n",
       "2288     1498       Scot  Williamson   51   \n",
       "2289     1499      Shena     Dickson   37   \n",
       "2290     1499      Shena     Dickson   37   \n",
       "2291     1499      Shena     Dickson   37   \n",
       "2292     1499      Shena     Dickson   37   \n",
       "\n",
       "                                           city   reg_date      plan  \\\n",
       "0         Atlanta-Sandy Springs-Roswell, GA MSA 2018-12-24  ultimate   \n",
       "1               Seattle-Tacoma-Bellevue, WA MSA 2018-08-13      surf   \n",
       "2               Seattle-Tacoma-Bellevue, WA MSA 2018-08-13      surf   \n",
       "3               Seattle-Tacoma-Bellevue, WA MSA 2018-08-13      surf   \n",
       "4               Seattle-Tacoma-Bellevue, WA MSA 2018-08-13      surf   \n",
       "...                                         ...        ...       ...   \n",
       "2288  New York-Newark-Jersey City, NY-NJ-PA MSA 2018-02-04      surf   \n",
       "2289          Orlando-Kissimmee-Sanford, FL MSA 2018-05-06      surf   \n",
       "2290          Orlando-Kissimmee-Sanford, FL MSA 2018-05-06      surf   \n",
       "2291          Orlando-Kissimmee-Sanford, FL MSA 2018-05-06      surf   \n",
       "2292          Orlando-Kissimmee-Sanford, FL MSA 2018-05-06      surf   \n",
       "\n",
       "     churn_date  month  calls_count  calls_sum  msg_count  GB_used  \n",
       "0             0     12           16        124         11        2  \n",
       "1             0      8           22        182         30        7  \n",
       "2             0      9           38        315         44       14  \n",
       "3             0     10           47        393         53       22  \n",
       "4             0     11           49        426         36       19  \n",
       "...         ...    ...          ...        ...        ...      ...  \n",
       "2288          0     12           32        339          0       23  \n",
       "2289          0      9           35        346          0       13  \n",
       "2290          0     10           41        385          0       20  \n",
       "2291          0     11           39        308          0       17  \n",
       "2292          0     12           56        496          0       22  \n",
       "\n",
       "[2293 rows x 13 columns]"
      ]
     },
     "execution_count": 24,
     "metadata": {},
     "output_type": "execute_result"
    }
   ],
   "source": [
    "# 2. fill na\n",
    "# users_calls_msg_web_merged.isnull().sum()\n",
    "users_calls_msg_web_merged.fillna(0,inplace=True)\n",
    "users_calls_msg_web_merged = users_calls_msg_web_merged.astype({\n",
    "    'calls_count':'int',\n",
    "    'calls_sum':'int',\n",
    "    'msg_count':'int',\n",
    "    'GB_used':'int'})\n",
    "users_calls_msg_web_merged"
   ]
  },
  {
   "cell_type": "code",
   "execution_count": 25,
   "metadata": {},
   "outputs": [
    {
     "data": {
      "text/html": [
       "<div>\n",
       "<style scoped>\n",
       "    .dataframe tbody tr th:only-of-type {\n",
       "        vertical-align: middle;\n",
       "    }\n",
       "\n",
       "    .dataframe tbody tr th {\n",
       "        vertical-align: top;\n",
       "    }\n",
       "\n",
       "    .dataframe thead th {\n",
       "        text-align: right;\n",
       "    }\n",
       "</style>\n",
       "<table border=\"1\" class=\"dataframe\">\n",
       "  <thead>\n",
       "    <tr style=\"text-align: right;\">\n",
       "      <th></th>\n",
       "      <th>messages_included</th>\n",
       "      <th>mb_per_month_included</th>\n",
       "      <th>minutes_included</th>\n",
       "      <th>usd_monthly_pay</th>\n",
       "      <th>usd_per_gb</th>\n",
       "      <th>usd_per_message</th>\n",
       "      <th>usd_per_minute</th>\n",
       "      <th>plan_name</th>\n",
       "      <th>gb_per_month_included</th>\n",
       "    </tr>\n",
       "  </thead>\n",
       "  <tbody>\n",
       "    <tr>\n",
       "      <td>0</td>\n",
       "      <td>50</td>\n",
       "      <td>15360</td>\n",
       "      <td>500</td>\n",
       "      <td>20</td>\n",
       "      <td>10</td>\n",
       "      <td>0.03</td>\n",
       "      <td>0.03</td>\n",
       "      <td>surf</td>\n",
       "      <td>15</td>\n",
       "    </tr>\n",
       "    <tr>\n",
       "      <td>1</td>\n",
       "      <td>1000</td>\n",
       "      <td>30720</td>\n",
       "      <td>3000</td>\n",
       "      <td>70</td>\n",
       "      <td>7</td>\n",
       "      <td>0.01</td>\n",
       "      <td>0.01</td>\n",
       "      <td>ultimate</td>\n",
       "      <td>30</td>\n",
       "    </tr>\n",
       "  </tbody>\n",
       "</table>\n",
       "</div>"
      ],
      "text/plain": [
       "   messages_included  mb_per_month_included  minutes_included  \\\n",
       "0                 50                  15360               500   \n",
       "1               1000                  30720              3000   \n",
       "\n",
       "   usd_monthly_pay  usd_per_gb  usd_per_message  usd_per_minute plan_name  \\\n",
       "0               20          10             0.03            0.03      surf   \n",
       "1               70           7             0.01            0.01  ultimate   \n",
       "\n",
       "   gb_per_month_included  \n",
       "0                     15  \n",
       "1                     30  "
      ]
     },
     "execution_count": 25,
     "metadata": {},
     "output_type": "execute_result"
    }
   ],
   "source": [
    "# add gb_per_month_included in plan_df\n",
    "plans_df['gb_per_month_included'] = plans_df['mb_per_month_included'] / 1024\n",
    "plans_df = plans_df.astype({'gb_per_month_included':'int'})\n",
    "plans_df"
   ]
  },
  {
   "cell_type": "code",
   "execution_count": 26,
   "metadata": {},
   "outputs": [
    {
     "data": {
      "text/plain": [
       "0        0.00\n",
       "1458     0.00\n",
       "1457     0.00\n",
       "1456     0.00\n",
       "1455     0.00\n",
       "        ...  \n",
       "1129    21.36\n",
       "1701    21.81\n",
       "1489    24.12\n",
       "1703    25.71\n",
       "1271    30.30\n",
       "Name: calls_rev, Length: 2293, dtype: float64"
      ]
     },
     "execution_count": 26,
     "metadata": {},
     "output_type": "execute_result"
    }
   ],
   "source": [
    "# 3. calculate revenue\n",
    "\n",
    "def calculate_revenue(row, user_col, included_col, price_col):\n",
    "    \n",
    "    user_usage = row[user_col] # usage of user\n",
    "\n",
    "    #     getting data from plan\n",
    "    plan = plans_df[plans_df['plan_name'] == row['plan']]\n",
    "    included = plan[included_col].values[0]\n",
    "    price = plan[price_col].values[0] \n",
    "    \n",
    "    # calculating\n",
    "    usage_diff = included - user_usage\n",
    "    if usage_diff < 0:\n",
    "        return abs(usage_diff * price)\n",
    "    return 0\n",
    "\n",
    "def calc_total_rev(row):\n",
    "    plan = plans_df[plans_df['plan_name'] == row['plan']]\n",
    "    return plan['usd_monthly_pay'].values[0] + row['calls_rev'] + row['msg_rev'] + row['web_rev']\n",
    "    \n",
    "    \n",
    "# slow execuation, not sure why\n",
    "users_calls_msg_web_merged['calls_rev'] = users_calls_msg_web_merged.apply(\n",
    "    calculate_revenue,\n",
    "    args=['calls_sum','minutes_included', 'usd_per_minute'],\n",
    "    axis=1)\n",
    "users_calls_msg_web_merged['calls_rev'].sort_values()"
   ]
  },
  {
   "cell_type": "code",
   "execution_count": 27,
   "metadata": {},
   "outputs": [],
   "source": [
    "users_calls_msg_web_merged['msg_rev'] = users_calls_msg_web_merged.apply(\n",
    "    calculate_revenue,\n",
    "    args=['msg_count','messages_included', 'usd_per_message'],\n",
    "    axis=1)\n"
   ]
  },
  {
   "cell_type": "code",
   "execution_count": 28,
   "metadata": {},
   "outputs": [],
   "source": [
    "users_calls_msg_web_merged['web_rev'] = users_calls_msg_web_merged.apply(\n",
    "    calculate_revenue,\n",
    "    args=['GB_used','gb_per_month_included', 'usd_per_gb'],\n",
    "    axis=1)\n"
   ]
  },
  {
   "cell_type": "code",
   "execution_count": 29,
   "metadata": {},
   "outputs": [
    {
     "data": {
      "text/html": [
       "<div>\n",
       "<style scoped>\n",
       "    .dataframe tbody tr th:only-of-type {\n",
       "        vertical-align: middle;\n",
       "    }\n",
       "\n",
       "    .dataframe tbody tr th {\n",
       "        vertical-align: top;\n",
       "    }\n",
       "\n",
       "    .dataframe thead th {\n",
       "        text-align: right;\n",
       "    }\n",
       "</style>\n",
       "<table border=\"1\" class=\"dataframe\">\n",
       "  <thead>\n",
       "    <tr style=\"text-align: right;\">\n",
       "      <th></th>\n",
       "      <th>user_id</th>\n",
       "      <th>first_name</th>\n",
       "      <th>last_name</th>\n",
       "      <th>age</th>\n",
       "      <th>city</th>\n",
       "      <th>reg_date</th>\n",
       "      <th>plan</th>\n",
       "      <th>churn_date</th>\n",
       "      <th>month</th>\n",
       "      <th>calls_count</th>\n",
       "      <th>calls_sum</th>\n",
       "      <th>msg_count</th>\n",
       "      <th>GB_used</th>\n",
       "      <th>calls_rev</th>\n",
       "      <th>msg_rev</th>\n",
       "      <th>web_rev</th>\n",
       "      <th>total_rev</th>\n",
       "    </tr>\n",
       "  </thead>\n",
       "  <tbody>\n",
       "    <tr>\n",
       "      <td>0</td>\n",
       "      <td>1000</td>\n",
       "      <td>Anamaria</td>\n",
       "      <td>Bauer</td>\n",
       "      <td>45</td>\n",
       "      <td>Atlanta-Sandy Springs-Roswell, GA MSA</td>\n",
       "      <td>2018-12-24</td>\n",
       "      <td>ultimate</td>\n",
       "      <td>0</td>\n",
       "      <td>12</td>\n",
       "      <td>16</td>\n",
       "      <td>124</td>\n",
       "      <td>11</td>\n",
       "      <td>2</td>\n",
       "      <td>0.0</td>\n",
       "      <td>0.00</td>\n",
       "      <td>0</td>\n",
       "      <td>70.00</td>\n",
       "    </tr>\n",
       "    <tr>\n",
       "      <td>1</td>\n",
       "      <td>1001</td>\n",
       "      <td>Mickey</td>\n",
       "      <td>Wilkerson</td>\n",
       "      <td>28</td>\n",
       "      <td>Seattle-Tacoma-Bellevue, WA MSA</td>\n",
       "      <td>2018-08-13</td>\n",
       "      <td>surf</td>\n",
       "      <td>0</td>\n",
       "      <td>8</td>\n",
       "      <td>22</td>\n",
       "      <td>182</td>\n",
       "      <td>30</td>\n",
       "      <td>7</td>\n",
       "      <td>0.0</td>\n",
       "      <td>0.00</td>\n",
       "      <td>0</td>\n",
       "      <td>20.00</td>\n",
       "    </tr>\n",
       "    <tr>\n",
       "      <td>2</td>\n",
       "      <td>1001</td>\n",
       "      <td>Mickey</td>\n",
       "      <td>Wilkerson</td>\n",
       "      <td>28</td>\n",
       "      <td>Seattle-Tacoma-Bellevue, WA MSA</td>\n",
       "      <td>2018-08-13</td>\n",
       "      <td>surf</td>\n",
       "      <td>0</td>\n",
       "      <td>9</td>\n",
       "      <td>38</td>\n",
       "      <td>315</td>\n",
       "      <td>44</td>\n",
       "      <td>14</td>\n",
       "      <td>0.0</td>\n",
       "      <td>0.00</td>\n",
       "      <td>0</td>\n",
       "      <td>20.00</td>\n",
       "    </tr>\n",
       "    <tr>\n",
       "      <td>3</td>\n",
       "      <td>1001</td>\n",
       "      <td>Mickey</td>\n",
       "      <td>Wilkerson</td>\n",
       "      <td>28</td>\n",
       "      <td>Seattle-Tacoma-Bellevue, WA MSA</td>\n",
       "      <td>2018-08-13</td>\n",
       "      <td>surf</td>\n",
       "      <td>0</td>\n",
       "      <td>10</td>\n",
       "      <td>47</td>\n",
       "      <td>393</td>\n",
       "      <td>53</td>\n",
       "      <td>22</td>\n",
       "      <td>0.0</td>\n",
       "      <td>0.09</td>\n",
       "      <td>70</td>\n",
       "      <td>90.09</td>\n",
       "    </tr>\n",
       "    <tr>\n",
       "      <td>4</td>\n",
       "      <td>1001</td>\n",
       "      <td>Mickey</td>\n",
       "      <td>Wilkerson</td>\n",
       "      <td>28</td>\n",
       "      <td>Seattle-Tacoma-Bellevue, WA MSA</td>\n",
       "      <td>2018-08-13</td>\n",
       "      <td>surf</td>\n",
       "      <td>0</td>\n",
       "      <td>11</td>\n",
       "      <td>49</td>\n",
       "      <td>426</td>\n",
       "      <td>36</td>\n",
       "      <td>19</td>\n",
       "      <td>0.0</td>\n",
       "      <td>0.00</td>\n",
       "      <td>40</td>\n",
       "      <td>60.00</td>\n",
       "    </tr>\n",
       "    <tr>\n",
       "      <td>...</td>\n",
       "      <td>...</td>\n",
       "      <td>...</td>\n",
       "      <td>...</td>\n",
       "      <td>...</td>\n",
       "      <td>...</td>\n",
       "      <td>...</td>\n",
       "      <td>...</td>\n",
       "      <td>...</td>\n",
       "      <td>...</td>\n",
       "      <td>...</td>\n",
       "      <td>...</td>\n",
       "      <td>...</td>\n",
       "      <td>...</td>\n",
       "      <td>...</td>\n",
       "      <td>...</td>\n",
       "      <td>...</td>\n",
       "      <td>...</td>\n",
       "    </tr>\n",
       "    <tr>\n",
       "      <td>2288</td>\n",
       "      <td>1498</td>\n",
       "      <td>Scot</td>\n",
       "      <td>Williamson</td>\n",
       "      <td>51</td>\n",
       "      <td>New York-Newark-Jersey City, NY-NJ-PA MSA</td>\n",
       "      <td>2018-02-04</td>\n",
       "      <td>surf</td>\n",
       "      <td>0</td>\n",
       "      <td>12</td>\n",
       "      <td>32</td>\n",
       "      <td>339</td>\n",
       "      <td>0</td>\n",
       "      <td>23</td>\n",
       "      <td>0.0</td>\n",
       "      <td>0.00</td>\n",
       "      <td>80</td>\n",
       "      <td>100.00</td>\n",
       "    </tr>\n",
       "    <tr>\n",
       "      <td>2289</td>\n",
       "      <td>1499</td>\n",
       "      <td>Shena</td>\n",
       "      <td>Dickson</td>\n",
       "      <td>37</td>\n",
       "      <td>Orlando-Kissimmee-Sanford, FL MSA</td>\n",
       "      <td>2018-05-06</td>\n",
       "      <td>surf</td>\n",
       "      <td>0</td>\n",
       "      <td>9</td>\n",
       "      <td>35</td>\n",
       "      <td>346</td>\n",
       "      <td>0</td>\n",
       "      <td>13</td>\n",
       "      <td>0.0</td>\n",
       "      <td>0.00</td>\n",
       "      <td>0</td>\n",
       "      <td>20.00</td>\n",
       "    </tr>\n",
       "    <tr>\n",
       "      <td>2290</td>\n",
       "      <td>1499</td>\n",
       "      <td>Shena</td>\n",
       "      <td>Dickson</td>\n",
       "      <td>37</td>\n",
       "      <td>Orlando-Kissimmee-Sanford, FL MSA</td>\n",
       "      <td>2018-05-06</td>\n",
       "      <td>surf</td>\n",
       "      <td>0</td>\n",
       "      <td>10</td>\n",
       "      <td>41</td>\n",
       "      <td>385</td>\n",
       "      <td>0</td>\n",
       "      <td>20</td>\n",
       "      <td>0.0</td>\n",
       "      <td>0.00</td>\n",
       "      <td>50</td>\n",
       "      <td>70.00</td>\n",
       "    </tr>\n",
       "    <tr>\n",
       "      <td>2291</td>\n",
       "      <td>1499</td>\n",
       "      <td>Shena</td>\n",
       "      <td>Dickson</td>\n",
       "      <td>37</td>\n",
       "      <td>Orlando-Kissimmee-Sanford, FL MSA</td>\n",
       "      <td>2018-05-06</td>\n",
       "      <td>surf</td>\n",
       "      <td>0</td>\n",
       "      <td>11</td>\n",
       "      <td>39</td>\n",
       "      <td>308</td>\n",
       "      <td>0</td>\n",
       "      <td>17</td>\n",
       "      <td>0.0</td>\n",
       "      <td>0.00</td>\n",
       "      <td>20</td>\n",
       "      <td>40.00</td>\n",
       "    </tr>\n",
       "    <tr>\n",
       "      <td>2292</td>\n",
       "      <td>1499</td>\n",
       "      <td>Shena</td>\n",
       "      <td>Dickson</td>\n",
       "      <td>37</td>\n",
       "      <td>Orlando-Kissimmee-Sanford, FL MSA</td>\n",
       "      <td>2018-05-06</td>\n",
       "      <td>surf</td>\n",
       "      <td>0</td>\n",
       "      <td>12</td>\n",
       "      <td>56</td>\n",
       "      <td>496</td>\n",
       "      <td>0</td>\n",
       "      <td>22</td>\n",
       "      <td>0.0</td>\n",
       "      <td>0.00</td>\n",
       "      <td>70</td>\n",
       "      <td>90.00</td>\n",
       "    </tr>\n",
       "  </tbody>\n",
       "</table>\n",
       "<p>2293 rows × 17 columns</p>\n",
       "</div>"
      ],
      "text/plain": [
       "      user_id first_name   last_name  age  \\\n",
       "0        1000   Anamaria       Bauer   45   \n",
       "1        1001     Mickey   Wilkerson   28   \n",
       "2        1001     Mickey   Wilkerson   28   \n",
       "3        1001     Mickey   Wilkerson   28   \n",
       "4        1001     Mickey   Wilkerson   28   \n",
       "...       ...        ...         ...  ...   \n",
       "2288     1498       Scot  Williamson   51   \n",
       "2289     1499      Shena     Dickson   37   \n",
       "2290     1499      Shena     Dickson   37   \n",
       "2291     1499      Shena     Dickson   37   \n",
       "2292     1499      Shena     Dickson   37   \n",
       "\n",
       "                                           city   reg_date      plan  \\\n",
       "0         Atlanta-Sandy Springs-Roswell, GA MSA 2018-12-24  ultimate   \n",
       "1               Seattle-Tacoma-Bellevue, WA MSA 2018-08-13      surf   \n",
       "2               Seattle-Tacoma-Bellevue, WA MSA 2018-08-13      surf   \n",
       "3               Seattle-Tacoma-Bellevue, WA MSA 2018-08-13      surf   \n",
       "4               Seattle-Tacoma-Bellevue, WA MSA 2018-08-13      surf   \n",
       "...                                         ...        ...       ...   \n",
       "2288  New York-Newark-Jersey City, NY-NJ-PA MSA 2018-02-04      surf   \n",
       "2289          Orlando-Kissimmee-Sanford, FL MSA 2018-05-06      surf   \n",
       "2290          Orlando-Kissimmee-Sanford, FL MSA 2018-05-06      surf   \n",
       "2291          Orlando-Kissimmee-Sanford, FL MSA 2018-05-06      surf   \n",
       "2292          Orlando-Kissimmee-Sanford, FL MSA 2018-05-06      surf   \n",
       "\n",
       "     churn_date  month  calls_count  calls_sum  msg_count  GB_used  calls_rev  \\\n",
       "0             0     12           16        124         11        2        0.0   \n",
       "1             0      8           22        182         30        7        0.0   \n",
       "2             0      9           38        315         44       14        0.0   \n",
       "3             0     10           47        393         53       22        0.0   \n",
       "4             0     11           49        426         36       19        0.0   \n",
       "...         ...    ...          ...        ...        ...      ...        ...   \n",
       "2288          0     12           32        339          0       23        0.0   \n",
       "2289          0      9           35        346          0       13        0.0   \n",
       "2290          0     10           41        385          0       20        0.0   \n",
       "2291          0     11           39        308          0       17        0.0   \n",
       "2292          0     12           56        496          0       22        0.0   \n",
       "\n",
       "      msg_rev  web_rev  total_rev  \n",
       "0        0.00        0      70.00  \n",
       "1        0.00        0      20.00  \n",
       "2        0.00        0      20.00  \n",
       "3        0.09       70      90.09  \n",
       "4        0.00       40      60.00  \n",
       "...       ...      ...        ...  \n",
       "2288     0.00       80     100.00  \n",
       "2289     0.00        0      20.00  \n",
       "2290     0.00       50      70.00  \n",
       "2291     0.00       20      40.00  \n",
       "2292     0.00       70      90.00  \n",
       "\n",
       "[2293 rows x 17 columns]"
      ]
     },
     "execution_count": 29,
     "metadata": {},
     "output_type": "execute_result"
    }
   ],
   "source": [
    "users_calls_msg_web_merged['total_rev'] = users_calls_msg_web_merged.apply(calc_total_rev, axis=1) \n",
    "users_calls_msg_web_merged\n"
   ]
  },
  {
   "cell_type": "markdown",
   "metadata": {},
   "source": [
    "**Conclusion**\n",
    "\n",
    "After merging we have created a DF that holds users with each part of the package they are paying, Plus the revenue they pay.\n",
    "\n",
    "We have found that there is no 1 to 1 connection between messages and calls and web.\n",
    "some users just use we some just use calls and some just messages.\n",
    "\n",
    "So we had na values which we treated as zeros so they won't affect user revenue that month.\n",
    "\n"
   ]
  },
  {
   "cell_type": "markdown",
   "metadata": {},
   "source": [
    "<div class=\"alert alert-danger\" role=\"alert\">\n",
    "Reviewer's comment v. 1:\n",
    "    \n",
    "Could you please add a conclusion to this part of the project?\n",
    "</div>"
   ]
  },
  {
   "cell_type": "markdown",
   "metadata": {},
   "source": [
    "<div class=\"alert alert-success\" role=\"alert\">\n",
    "Reviewer's comment v. 2:\n",
    "    \n",
    "Well done that you summed up main results of this part of the project.\n",
    "</div>"
   ]
  },
  {
   "cell_type": "markdown",
   "metadata": {},
   "source": [
    "\n",
    "<a class='anchor' id='Analyz_the_data'></a>\n",
    "\n",
    "[Back to table of content](#table_of_contents)\n",
    "## [Analyze the data:](#Analyz_the_data)\n",
    "* [x] Calculate \n",
    "    * [x] the mean\n",
    "    * [x] dispersion\n",
    "    * [x] standard deviation\n",
    "* [x] Plot histograms\n",
    "* [x] Describe the distributions"
   ]
  },
  {
   "cell_type": "markdown",
   "metadata": {},
   "source": [
    "**Caculate: mean, dispersion, std**"
   ]
  },
  {
   "cell_type": "code",
   "execution_count": 30,
   "metadata": {},
   "outputs": [
    {
     "data": {
      "text/plain": [
       "'surf'"
      ]
     },
     "metadata": {},
     "output_type": "display_data"
    },
    {
     "data": {
      "text/html": [
       "<div>\n",
       "<style scoped>\n",
       "    .dataframe tbody tr th:only-of-type {\n",
       "        vertical-align: middle;\n",
       "    }\n",
       "\n",
       "    .dataframe tbody tr th {\n",
       "        vertical-align: top;\n",
       "    }\n",
       "\n",
       "    .dataframe thead th {\n",
       "        text-align: right;\n",
       "    }\n",
       "</style>\n",
       "<table border=\"1\" class=\"dataframe\">\n",
       "  <thead>\n",
       "    <tr style=\"text-align: right;\">\n",
       "      <th></th>\n",
       "      <th>user_id</th>\n",
       "      <th>age</th>\n",
       "      <th>month</th>\n",
       "      <th>calls_count</th>\n",
       "      <th>calls_sum</th>\n",
       "      <th>msg_count</th>\n",
       "      <th>GB_used</th>\n",
       "      <th>calls_rev</th>\n",
       "      <th>msg_rev</th>\n",
       "      <th>web_rev</th>\n",
       "      <th>total_rev</th>\n",
       "    </tr>\n",
       "  </thead>\n",
       "  <tbody>\n",
       "    <tr>\n",
       "      <td>count</td>\n",
       "      <td>1573.000000</td>\n",
       "      <td>1573.000000</td>\n",
       "      <td>1573.000000</td>\n",
       "      <td>1573.000000</td>\n",
       "      <td>1573.000000</td>\n",
       "      <td>1573.000000</td>\n",
       "      <td>1573.000000</td>\n",
       "      <td>1573.000000</td>\n",
       "      <td>1573.000000</td>\n",
       "      <td>1573.000000</td>\n",
       "      <td>1573.000000</td>\n",
       "    </tr>\n",
       "    <tr>\n",
       "      <td>mean</td>\n",
       "      <td>1242.755245</td>\n",
       "      <td>44.379530</td>\n",
       "      <td>9.182454</td>\n",
       "      <td>48.237127</td>\n",
       "      <td>428.749523</td>\n",
       "      <td>31.159568</td>\n",
       "      <td>16.670693</td>\n",
       "      <td>1.843770</td>\n",
       "      <td>0.210381</td>\n",
       "      <td>38.652257</td>\n",
       "      <td>60.706408</td>\n",
       "    </tr>\n",
       "    <tr>\n",
       "      <td>std</td>\n",
       "      <td>139.227939</td>\n",
       "      <td>16.646535</td>\n",
       "      <td>2.468199</td>\n",
       "      <td>25.927288</td>\n",
       "      <td>234.453150</td>\n",
       "      <td>33.566717</td>\n",
       "      <td>7.847522</td>\n",
       "      <td>3.765744</td>\n",
       "      <td>0.584127</td>\n",
       "      <td>54.456269</td>\n",
       "      <td>55.388042</td>\n",
       "    </tr>\n",
       "    <tr>\n",
       "      <td>min</td>\n",
       "      <td>1001.000000</td>\n",
       "      <td>18.000000</td>\n",
       "      <td>1.000000</td>\n",
       "      <td>0.000000</td>\n",
       "      <td>0.000000</td>\n",
       "      <td>0.000000</td>\n",
       "      <td>0.000000</td>\n",
       "      <td>0.000000</td>\n",
       "      <td>0.000000</td>\n",
       "      <td>0.000000</td>\n",
       "      <td>20.000000</td>\n",
       "    </tr>\n",
       "    <tr>\n",
       "      <td>25%</td>\n",
       "      <td>1120.000000</td>\n",
       "      <td>29.000000</td>\n",
       "      <td>8.000000</td>\n",
       "      <td>31.000000</td>\n",
       "      <td>272.000000</td>\n",
       "      <td>3.000000</td>\n",
       "      <td>12.000000</td>\n",
       "      <td>0.000000</td>\n",
       "      <td>0.000000</td>\n",
       "      <td>0.000000</td>\n",
       "      <td>20.000000</td>\n",
       "    </tr>\n",
       "    <tr>\n",
       "      <td>50%</td>\n",
       "      <td>1245.000000</td>\n",
       "      <td>45.000000</td>\n",
       "      <td>10.000000</td>\n",
       "      <td>48.000000</td>\n",
       "      <td>425.000000</td>\n",
       "      <td>24.000000</td>\n",
       "      <td>17.000000</td>\n",
       "      <td>0.000000</td>\n",
       "      <td>0.000000</td>\n",
       "      <td>20.000000</td>\n",
       "      <td>40.360000</td>\n",
       "    </tr>\n",
       "    <tr>\n",
       "      <td>75%</td>\n",
       "      <td>1358.000000</td>\n",
       "      <td>59.000000</td>\n",
       "      <td>11.000000</td>\n",
       "      <td>64.000000</td>\n",
       "      <td>576.000000</td>\n",
       "      <td>47.000000</td>\n",
       "      <td>21.000000</td>\n",
       "      <td>2.280000</td>\n",
       "      <td>0.000000</td>\n",
       "      <td>60.000000</td>\n",
       "      <td>80.360000</td>\n",
       "    </tr>\n",
       "    <tr>\n",
       "      <td>max</td>\n",
       "      <td>1499.000000</td>\n",
       "      <td>75.000000</td>\n",
       "      <td>12.000000</td>\n",
       "      <td>167.000000</td>\n",
       "      <td>1510.000000</td>\n",
       "      <td>266.000000</td>\n",
       "      <td>70.000000</td>\n",
       "      <td>30.300000</td>\n",
       "      <td>6.480000</td>\n",
       "      <td>550.000000</td>\n",
       "      <td>590.370000</td>\n",
       "    </tr>\n",
       "  </tbody>\n",
       "</table>\n",
       "</div>"
      ],
      "text/plain": [
       "           user_id          age        month  calls_count    calls_sum  \\\n",
       "count  1573.000000  1573.000000  1573.000000  1573.000000  1573.000000   \n",
       "mean   1242.755245    44.379530     9.182454    48.237127   428.749523   \n",
       "std     139.227939    16.646535     2.468199    25.927288   234.453150   \n",
       "min    1001.000000    18.000000     1.000000     0.000000     0.000000   \n",
       "25%    1120.000000    29.000000     8.000000    31.000000   272.000000   \n",
       "50%    1245.000000    45.000000    10.000000    48.000000   425.000000   \n",
       "75%    1358.000000    59.000000    11.000000    64.000000   576.000000   \n",
       "max    1499.000000    75.000000    12.000000   167.000000  1510.000000   \n",
       "\n",
       "         msg_count      GB_used    calls_rev      msg_rev      web_rev  \\\n",
       "count  1573.000000  1573.000000  1573.000000  1573.000000  1573.000000   \n",
       "mean     31.159568    16.670693     1.843770     0.210381    38.652257   \n",
       "std      33.566717     7.847522     3.765744     0.584127    54.456269   \n",
       "min       0.000000     0.000000     0.000000     0.000000     0.000000   \n",
       "25%       3.000000    12.000000     0.000000     0.000000     0.000000   \n",
       "50%      24.000000    17.000000     0.000000     0.000000    20.000000   \n",
       "75%      47.000000    21.000000     2.280000     0.000000    60.000000   \n",
       "max     266.000000    70.000000    30.300000     6.480000   550.000000   \n",
       "\n",
       "         total_rev  \n",
       "count  1573.000000  \n",
       "mean     60.706408  \n",
       "std      55.388042  \n",
       "min      20.000000  \n",
       "25%      20.000000  \n",
       "50%      40.360000  \n",
       "75%      80.360000  \n",
       "max     590.370000  "
      ]
     },
     "metadata": {},
     "output_type": "display_data"
    },
    {
     "data": {
      "text/plain": [
       "'ultimate'"
      ]
     },
     "metadata": {},
     "output_type": "display_data"
    },
    {
     "data": {
      "text/html": [
       "<div>\n",
       "<style scoped>\n",
       "    .dataframe tbody tr th:only-of-type {\n",
       "        vertical-align: middle;\n",
       "    }\n",
       "\n",
       "    .dataframe tbody tr th {\n",
       "        vertical-align: top;\n",
       "    }\n",
       "\n",
       "    .dataframe thead th {\n",
       "        text-align: right;\n",
       "    }\n",
       "</style>\n",
       "<table border=\"1\" class=\"dataframe\">\n",
       "  <thead>\n",
       "    <tr style=\"text-align: right;\">\n",
       "      <th></th>\n",
       "      <th>user_id</th>\n",
       "      <th>age</th>\n",
       "      <th>month</th>\n",
       "      <th>calls_count</th>\n",
       "      <th>calls_sum</th>\n",
       "      <th>msg_count</th>\n",
       "      <th>GB_used</th>\n",
       "      <th>calls_rev</th>\n",
       "      <th>msg_rev</th>\n",
       "      <th>web_rev</th>\n",
       "      <th>total_rev</th>\n",
       "    </tr>\n",
       "  </thead>\n",
       "  <tbody>\n",
       "    <tr>\n",
       "      <td>count</td>\n",
       "      <td>720.000000</td>\n",
       "      <td>720.000000</td>\n",
       "      <td>720.000000</td>\n",
       "      <td>720.000000</td>\n",
       "      <td>720.000000</td>\n",
       "      <td>720.000000</td>\n",
       "      <td>720.000000</td>\n",
       "      <td>720.0</td>\n",
       "      <td>720.0</td>\n",
       "      <td>720.000000</td>\n",
       "      <td>720.000000</td>\n",
       "    </tr>\n",
       "    <tr>\n",
       "      <td>mean</td>\n",
       "      <td>1253.330556</td>\n",
       "      <td>47.719444</td>\n",
       "      <td>9.151389</td>\n",
       "      <td>48.644444</td>\n",
       "      <td>430.450000</td>\n",
       "      <td>37.551389</td>\n",
       "      <td>17.306944</td>\n",
       "      <td>0.0</td>\n",
       "      <td>0.0</td>\n",
       "      <td>2.313889</td>\n",
       "      <td>72.313889</td>\n",
       "    </tr>\n",
       "    <tr>\n",
       "      <td>std</td>\n",
       "      <td>150.915644</td>\n",
       "      <td>16.804088</td>\n",
       "      <td>2.558495</td>\n",
       "      <td>26.811166</td>\n",
       "      <td>240.508762</td>\n",
       "      <td>34.767179</td>\n",
       "      <td>7.670108</td>\n",
       "      <td>0.0</td>\n",
       "      <td>0.0</td>\n",
       "      <td>11.395108</td>\n",
       "      <td>11.395108</td>\n",
       "    </tr>\n",
       "    <tr>\n",
       "      <td>min</td>\n",
       "      <td>1000.000000</td>\n",
       "      <td>18.000000</td>\n",
       "      <td>1.000000</td>\n",
       "      <td>0.000000</td>\n",
       "      <td>0.000000</td>\n",
       "      <td>0.000000</td>\n",
       "      <td>0.000000</td>\n",
       "      <td>0.0</td>\n",
       "      <td>0.0</td>\n",
       "      <td>0.000000</td>\n",
       "      <td>70.000000</td>\n",
       "    </tr>\n",
       "    <tr>\n",
       "      <td>25%</td>\n",
       "      <td>1126.000000</td>\n",
       "      <td>34.000000</td>\n",
       "      <td>8.000000</td>\n",
       "      <td>30.000000</td>\n",
       "      <td>260.000000</td>\n",
       "      <td>7.000000</td>\n",
       "      <td>13.000000</td>\n",
       "      <td>0.0</td>\n",
       "      <td>0.0</td>\n",
       "      <td>0.000000</td>\n",
       "      <td>70.000000</td>\n",
       "    </tr>\n",
       "    <tr>\n",
       "      <td>50%</td>\n",
       "      <td>1241.500000</td>\n",
       "      <td>48.500000</td>\n",
       "      <td>10.000000</td>\n",
       "      <td>48.000000</td>\n",
       "      <td>424.000000</td>\n",
       "      <td>30.000000</td>\n",
       "      <td>17.000000</td>\n",
       "      <td>0.0</td>\n",
       "      <td>0.0</td>\n",
       "      <td>0.000000</td>\n",
       "      <td>70.000000</td>\n",
       "    </tr>\n",
       "    <tr>\n",
       "      <td>75%</td>\n",
       "      <td>1401.000000</td>\n",
       "      <td>64.000000</td>\n",
       "      <td>11.000000</td>\n",
       "      <td>64.000000</td>\n",
       "      <td>565.250000</td>\n",
       "      <td>61.000000</td>\n",
       "      <td>21.000000</td>\n",
       "      <td>0.0</td>\n",
       "      <td>0.0</td>\n",
       "      <td>0.000000</td>\n",
       "      <td>70.000000</td>\n",
       "    </tr>\n",
       "    <tr>\n",
       "      <td>max</td>\n",
       "      <td>1497.000000</td>\n",
       "      <td>75.000000</td>\n",
       "      <td>12.000000</td>\n",
       "      <td>156.000000</td>\n",
       "      <td>1369.000000</td>\n",
       "      <td>166.000000</td>\n",
       "      <td>46.000000</td>\n",
       "      <td>0.0</td>\n",
       "      <td>0.0</td>\n",
       "      <td>112.000000</td>\n",
       "      <td>182.000000</td>\n",
       "    </tr>\n",
       "  </tbody>\n",
       "</table>\n",
       "</div>"
      ],
      "text/plain": [
       "           user_id         age       month  calls_count    calls_sum  \\\n",
       "count   720.000000  720.000000  720.000000   720.000000   720.000000   \n",
       "mean   1253.330556   47.719444    9.151389    48.644444   430.450000   \n",
       "std     150.915644   16.804088    2.558495    26.811166   240.508762   \n",
       "min    1000.000000   18.000000    1.000000     0.000000     0.000000   \n",
       "25%    1126.000000   34.000000    8.000000    30.000000   260.000000   \n",
       "50%    1241.500000   48.500000   10.000000    48.000000   424.000000   \n",
       "75%    1401.000000   64.000000   11.000000    64.000000   565.250000   \n",
       "max    1497.000000   75.000000   12.000000   156.000000  1369.000000   \n",
       "\n",
       "        msg_count     GB_used  calls_rev  msg_rev     web_rev   total_rev  \n",
       "count  720.000000  720.000000      720.0    720.0  720.000000  720.000000  \n",
       "mean    37.551389   17.306944        0.0      0.0    2.313889   72.313889  \n",
       "std     34.767179    7.670108        0.0      0.0   11.395108   11.395108  \n",
       "min      0.000000    0.000000        0.0      0.0    0.000000   70.000000  \n",
       "25%      7.000000   13.000000        0.0      0.0    0.000000   70.000000  \n",
       "50%     30.000000   17.000000        0.0      0.0    0.000000   70.000000  \n",
       "75%     61.000000   21.000000        0.0      0.0    0.000000   70.000000  \n",
       "max    166.000000   46.000000        0.0      0.0  112.000000  182.000000  "
      ]
     },
     "metadata": {},
     "output_type": "display_data"
    },
    {
     "data": {
      "text/plain": [
       "720.0"
      ]
     },
     "execution_count": 30,
     "metadata": {},
     "output_type": "execute_result"
    }
   ],
   "source": [
    "surf_stat = users_calls_msg_web_merged.query('plan == \"surf\"').describe()\n",
    "ultimate_stat = users_calls_msg_web_merged.query('plan == \"ultimate\"').describe()                                        \n",
    "display('surf', surf_stat, 'ultimate',ultimate_stat)\n",
    "ultimate_stat['calls_sum']['count']"
   ]
  },
  {
   "cell_type": "code",
   "execution_count": 31,
   "metadata": {},
   "outputs": [
    {
     "data": {
      "text/html": [
       "<div>\n",
       "<style scoped>\n",
       "    .dataframe tbody tr th:only-of-type {\n",
       "        vertical-align: middle;\n",
       "    }\n",
       "\n",
       "    .dataframe tbody tr th {\n",
       "        vertical-align: top;\n",
       "    }\n",
       "\n",
       "    .dataframe thead th {\n",
       "        text-align: right;\n",
       "    }\n",
       "</style>\n",
       "<table border=\"1\" class=\"dataframe\">\n",
       "  <thead>\n",
       "    <tr style=\"text-align: right;\">\n",
       "      <th></th>\n",
       "      <th>plan</th>\n",
       "      <th>calls_sum_mean</th>\n",
       "      <th>msg_count_mean</th>\n",
       "      <th>GB_used_mean</th>\n",
       "      <th>total_rev_mean</th>\n",
       "      <th>calls_sum_std</th>\n",
       "      <th>msg_count_std</th>\n",
       "      <th>GB_used_std</th>\n",
       "      <th>total_rev_std</th>\n",
       "      <th>calls_sum_50%</th>\n",
       "      <th>msg_count_50%</th>\n",
       "      <th>GB_used_50%</th>\n",
       "      <th>total_rev_50%</th>\n",
       "    </tr>\n",
       "  </thead>\n",
       "  <tbody>\n",
       "    <tr>\n",
       "      <td>0</td>\n",
       "      <td>surf</td>\n",
       "      <td>428.749523</td>\n",
       "      <td>31.159568</td>\n",
       "      <td>16.670693</td>\n",
       "      <td>60.706408</td>\n",
       "      <td>234.453150</td>\n",
       "      <td>33.566717</td>\n",
       "      <td>7.847522</td>\n",
       "      <td>55.388042</td>\n",
       "      <td>425.0</td>\n",
       "      <td>24.0</td>\n",
       "      <td>17.0</td>\n",
       "      <td>40.36</td>\n",
       "    </tr>\n",
       "    <tr>\n",
       "      <td>1</td>\n",
       "      <td>ultimate</td>\n",
       "      <td>430.450000</td>\n",
       "      <td>37.551389</td>\n",
       "      <td>17.306944</td>\n",
       "      <td>72.313889</td>\n",
       "      <td>240.508762</td>\n",
       "      <td>34.767179</td>\n",
       "      <td>7.670108</td>\n",
       "      <td>11.395108</td>\n",
       "      <td>424.0</td>\n",
       "      <td>30.0</td>\n",
       "      <td>17.0</td>\n",
       "      <td>70.00</td>\n",
       "    </tr>\n",
       "  </tbody>\n",
       "</table>\n",
       "</div>"
      ],
      "text/plain": [
       "       plan  calls_sum_mean  msg_count_mean  GB_used_mean  total_rev_mean  \\\n",
       "0      surf      428.749523       31.159568     16.670693       60.706408   \n",
       "1  ultimate      430.450000       37.551389     17.306944       72.313889   \n",
       "\n",
       "   calls_sum_std  msg_count_std  GB_used_std  total_rev_std  calls_sum_50%  \\\n",
       "0     234.453150      33.566717     7.847522      55.388042          425.0   \n",
       "1     240.508762      34.767179     7.670108      11.395108          424.0   \n",
       "\n",
       "   msg_count_50%  GB_used_50%  total_rev_50%  \n",
       "0           24.0         17.0          40.36  \n",
       "1           30.0         17.0          70.00  "
      ]
     },
     "metadata": {},
     "output_type": "display_data"
    },
    {
     "data": {
      "text/plain": [
       "'variance'"
      ]
     },
     "metadata": {},
     "output_type": "display_data"
    },
    {
     "data": {
      "text/html": [
       "<div>\n",
       "<style scoped>\n",
       "    .dataframe tbody tr th:only-of-type {\n",
       "        vertical-align: middle;\n",
       "    }\n",
       "\n",
       "    .dataframe tbody tr th {\n",
       "        vertical-align: top;\n",
       "    }\n",
       "\n",
       "    .dataframe thead th {\n",
       "        text-align: right;\n",
       "    }\n",
       "</style>\n",
       "<table border=\"1\" class=\"dataframe\">\n",
       "  <thead>\n",
       "    <tr style=\"text-align: right;\">\n",
       "      <th></th>\n",
       "      <th>calls_sum_std</th>\n",
       "      <th>msg_count_std</th>\n",
       "      <th>GB_used_std</th>\n",
       "      <th>total_rev_std</th>\n",
       "    </tr>\n",
       "  </thead>\n",
       "  <tbody>\n",
       "    <tr>\n",
       "      <td>0</td>\n",
       "      <td>54968.279461</td>\n",
       "      <td>1126.724522</td>\n",
       "      <td>61.58360</td>\n",
       "      <td>3067.835152</td>\n",
       "    </tr>\n",
       "    <tr>\n",
       "      <td>1</td>\n",
       "      <td>57844.464812</td>\n",
       "      <td>1208.756744</td>\n",
       "      <td>58.83055</td>\n",
       "      <td>129.848486</td>\n",
       "    </tr>\n",
       "  </tbody>\n",
       "</table>\n",
       "</div>"
      ],
      "text/plain": [
       "   calls_sum_std  msg_count_std  GB_used_std  total_rev_std\n",
       "0   54968.279461    1126.724522     61.58360    3067.835152\n",
       "1   57844.464812    1208.756744     58.83055     129.848486"
      ]
     },
     "metadata": {},
     "output_type": "display_data"
    }
   ],
   "source": [
    "# lets merge in an easy way to compare\n",
    "merged_plans_stat = pd.DataFrame(['surf', 'ultimate'], columns=['plan'])\n",
    "columns_stat = ['calls_sum', 'msg_count','GB_used', 'total_rev']\n",
    "index_describe = ['mean', 'std','50%']\n",
    "for index in index_describe:\n",
    "    for col in columns_stat:\n",
    "        merged_plans_stat[col+'_'+index] = pd.Series(data=[surf_stat[col][index],ultimate_stat[col][index]])\n",
    "\n",
    "display(merged_plans_stat)\n",
    "display('variance', merged_plans_stat[['calls_sum_std', 'msg_count_std','GB_used_std','total_rev_std']]**2)"
   ]
  },
  {
   "cell_type": "markdown",
   "metadata": {},
   "source": [
    "We observe that the biggest disperssion is in the ultimate msg count in relation to the mean.\n",
    "\n",
    "followed by total_rev_std in the surf plan, this tells us there are a lot of users that go beyon there plan meaning more profits from surf plan.\n",
    "\n",
    "The heighst mean difference is again in the msg_count_mean.\n",
    "\n",
    "\n",
    "\n"
   ]
  },
  {
   "cell_type": "markdown",
   "metadata": {},
   "source": [
    "<div class=\"alert alert-danger\" role=\"alert\">\n",
    "Reviewer's comment v. 1:\n",
    "    \n",
    "Well done that you calculated the mean, variance and standard deviation for both plans, but please analyse it and make a corresponding conclusions.\n",
    "</div>"
   ]
  },
  {
   "cell_type": "markdown",
   "metadata": {},
   "source": [
    "<div class=\"alert alert-info\" role=\"alert\">\n",
    "What does analyze mean?\n",
    "\n",
    "What do you expect to see, graphs, correlation?\n",
    "</div>"
   ]
  },
  {
   "cell_type": "markdown",
   "metadata": {},
   "source": [
    "<div class=\"alert alert-danger\" role=\"alert\">\n",
    "Reviewer's comment v. 2:\n",
    "    \n",
    "I mean to compare calculated values for both plans, describe typical values for these plans. What does this or that variance value mean? Which of the plans is characterized by the largest dispersion of values and where are the average values for the number of messages and calls higher?\n",
    "</div>"
   ]
  },
  {
   "cell_type": "markdown",
   "metadata": {},
   "source": [
    "<div class=\"alert alert-success\" role=\"alert\">\n",
    "Reviewer's comment v. 3:\n",
    "    \n",
    "Yes, you correctly noted that high std in the surf plan tells us there are a lot of users that go beyond their plan.\n",
    "</div>"
   ]
  },
  {
   "cell_type": "markdown",
   "metadata": {},
   "source": [
    "**Plot histograms**"
   ]
  },
  {
   "cell_type": "code",
   "execution_count": 32,
   "metadata": {},
   "outputs": [
    {
     "name": "stdout",
     "output_type": "stream",
     "text": [
      "575.25\n",
      "719.0\n",
      "1112.3499999999995\n"
     ]
    },
    {
     "data": {
      "text/plain": [
       "Text(0, 0.5, 'freq')"
      ]
     },
     "execution_count": 32,
     "metadata": {},
     "output_type": "execute_result"
    },
    {
     "data": {
      "image/png": "[encoded data removed]",
      "text/plain": [
       "<Figure size 432x288 with 1 Axes>"
      ]
     },
     "metadata": {
      "needs_background": "light"
     },
     "output_type": "display_data"
    }
   ],
   "source": [
    "print(calls_gby_user_month['calls_sum'].quantile(0.75))\n",
    "print(calls_gby_user_month['calls_sum'].quantile(0.90))\n",
    "print(calls_gby_user_month['calls_sum'].quantile(0.99))\n",
    "calls_gby_user_month['calls_sum'].hist(bins=100)\n",
    "plt.title('calls duration for each user per month')\n",
    "plt.xlabel(\"call duration\")\n",
    "plt.ylabel(\"freq\")"
   ]
  },
  {
   "cell_type": "markdown",
   "metadata": {},
   "source": [
    "Analysis:\n",
    "\n",
    "* months with below 100 min have a larg part in the frequence of calls\n",
    "    * some users might have very short calls just to infrom the other party.\n",
    "* the frequnce of calls with duration bigger than 620 drops sharply and from there has a steady decline\n",
    "* mean duration per month is 436\n",
    "* median 429\n",
    "* the histogram is skewed left, but not to much."
   ]
  },
  {
   "cell_type": "markdown",
   "metadata": {},
   "source": [
    "<div class=\"alert alert-danger\" role=\"alert\">\n",
    "Reviewer's comment v. 1:\n",
    "    \n",
    "Please note that as Data Analyst you should describe graphs in details and make a corresponding conclusion. Here it will be nice to describe the type of distribution, an outliers and so on.\n",
    "    \n",
    "Please see the following link how graphs can be described: http://explainwell.org/index.php/table-of-contents-handle-numbers/phrases-and-6-analysis-steps-to-interpret-a-graph/\n",
    "</div>"
   ]
  },
  {
   "cell_type": "markdown",
   "metadata": {},
   "source": [
    "<div class=\"alert alert-success\" role=\"alert\">\n",
    "Reviewer's comment v. 2:\n",
    "    \n",
    "Yes, you correctly described main characteristics of the distribution.\n",
    "</div>"
   ]
  },
  {
   "cell_type": "code",
   "execution_count": 33,
   "metadata": {},
   "outputs": [
    {
     "name": "stdout",
     "output_type": "stream",
     "text": [
      "21.0\n",
      "26.0\n",
      "38.0\n"
     ]
    },
    {
     "data": {
      "text/plain": [
       "Text(0, 0.5, 'freq')"
      ]
     },
     "execution_count": 33,
     "metadata": {},
     "output_type": "execute_result"
    },
    {
     "data": {
      "image/png": "[encoded data removed]",
      "text/plain": [
       "<Figure size 432x288 with 1 Axes>"
      ]
     },
     "metadata": {
      "needs_background": "light"
     },
     "output_type": "display_data"
    }
   ],
   "source": [
    "print(web_gby_user_month['GB_used'].quantile(0.75))\n",
    "print(web_gby_user_month['GB_used'].quantile(0.90))\n",
    "print(web_gby_user_month['GB_used'].quantile(0.99))\n",
    "web_gby_user_month['GB_used'].hist(bins=100)\n",
    "plt.title('web traffic volume for each user per month')\n",
    "plt.xlabel(\"web traffic volume\")\n",
    "plt.ylabel(\"freq\")"
   ]
  },
  {
   "cell_type": "code",
   "execution_count": 34,
   "metadata": {},
   "outputs": [
    {
     "name": "stdout",
     "output_type": "stream",
     "text": [
      "59.0\n",
      "85.0\n",
      "150.0\n"
     ]
    },
    {
     "data": {
      "text/plain": [
       "Text(0, 0.5, 'freq')"
      ]
     },
     "execution_count": 34,
     "metadata": {},
     "output_type": "execute_result"
    },
    {
     "data": {
      "image/png": "[encoded data removed]",
      "text/plain": [
       "<Figure size 432x288 with 1 Axes>"
      ]
     },
     "metadata": {
      "needs_background": "light"
     },
     "output_type": "display_data"
    }
   ],
   "source": [
    "print(msg_gby_user_month['msg_count'].quantile(0.75))\n",
    "print(msg_gby_user_month['msg_count'].quantile(0.90))\n",
    "print(msg_gby_user_month['msg_count'].quantile(0.99))\n",
    "msg_gby_user_month['msg_count'].hist(bins=100)\n",
    "plt.title('messages count for each user per month')\n",
    "plt.xlabel(\"messages count\")\n",
    "plt.ylabel(\"freq\")"
   ]
  },
  {
   "cell_type": "code",
   "execution_count": 35,
   "metadata": {},
   "outputs": [
    {
     "data": {
      "image/png": "[encoded data removed]",
      "text/plain": [
       "<Figure size 504x504 with 1 Axes>"
      ]
     },
     "metadata": {
      "needs_background": "light"
     },
     "output_type": "display_data"
    },
    {
     "data": {
      "image/png": "[encoded data removed]",
      "text/plain": [
       "<Figure size 504x504 with 1 Axes>"
      ]
     },
     "metadata": {
      "needs_background": "light"
     },
     "output_type": "display_data"
    },
    {
     "data": {
      "image/png": "[encoded data removed]",
      "text/plain": [
       "<Figure size 504x504 with 1 Axes>"
      ]
     },
     "metadata": {
      "needs_background": "light"
     },
     "output_type": "display_data"
    },
    {
     "data": {
      "image/png": "[encoded data removed]",
      "text/plain": [
       "<Figure size 504x504 with 1 Axes>"
      ]
     },
     "metadata": {
      "needs_background": "light"
     },
     "output_type": "display_data"
    },
    {
     "data": {
      "image/png": "[encoded data removed]",
      "text/plain": [
       "<Figure size 504x504 with 1 Axes>"
      ]
     },
     "metadata": {
      "needs_background": "light"
     },
     "output_type": "display_data"
    }
   ],
   "source": [
    "numeric_col = ['calls_count', 'calls_sum', 'msg_count','GB_used','total_rev']\n",
    "for col in numeric_col:\n",
    "    fig, ax = plt.subplots(figsize=(7,7))\n",
    "    users_calls_msg_web_merged.boxplot(by='month', column=col, ax=ax);"
   ]
  },
  {
   "cell_type": "markdown",
   "metadata": {},
   "source": [
    "**Analyze data Conclusions**\n",
    "\n",
    "For all columns as the year progress more outliers emerge\n",
    "\n",
    "This tells us more users are joining\n",
    "\n",
    "* calls:\n",
    "    * mean duration per month is 436\n",
    "    * median 429\n",
    "    * the histogram is skewed left, but not to much.\n",
    "    * outliers:\n",
    "        * start from 59GB\n",
    "        \n",
    "* internet:\n",
    "    * mean web trafic volum per month: 11.25 GB\n",
    "    * median: 8 GB, big difference between mean and median\n",
    "    * histogram is heavily skewed to the left.\n",
    "    * outliers:\n",
    "        * from 20 GB the frequence drops\n",
    "* messages:\n",
    "    * mean number of messages per month is 42\n",
    "    * median 34\n",
    "    * histogram is skewed to the left\n",
    "    * outliers:\n",
    "    * It seems that even the outliers are kinda low in numbers (150 messages?)\n",
    "perhaps more messages are sent through the internet \n",
    "and users with high number of messages are older less accustomed to internet messaging\n",
    "    "
   ]
  },
  {
   "cell_type": "markdown",
   "metadata": {},
   "source": [
    "<div class=\"alert alert-danger\" role=\"alert\">\n",
    "Reviewer's comment v. 1:\n",
    "    \n",
    "Could you please analyse an outliers?\n",
    "    \n",
    "Please see for details: https://towardsdatascience.com/ways-to-detect-and-remove-the-outliers-404d16608dba, https://towardsdatascience.com/master-the-art-of-subplots-in-python-45f7884f3d2e\n",
    "</div>"
   ]
  },
  {
   "cell_type": "markdown",
   "metadata": {},
   "source": [
    "<div class=\"alert alert-danger\" role=\"alert\">\n",
    "Reviewer's comment v. 2:\n",
    "    \n",
    "I recommend to use boxplots for more detailed analysis of an outliers.\n",
    "    \n",
    "Please see for details: https://towardsdatascience.com/create-and-customize-boxplots-with-pythons-matplotlib-to-get-lots-of-insights-from-your-data-d561c9883643\n",
    "</div>"
   ]
  },
  {
   "cell_type": "markdown",
   "metadata": {},
   "source": [
    "<div class=\"alert alert-success\" role=\"alert\">\n",
    "Reviewer's comment v. 3:\n",
    "    \n",
    "Well done that you plotted boxplots and described an outliers in details.\n",
    "</div>"
   ]
  },
  {
   "cell_type": "markdown",
   "metadata": {},
   "source": [
    "<a class='anchor' id='test_the_hypotheses'></a>\n",
    "\n",
    "[Back to table of content](#table_of_contents)\n",
    "\n",
    "## [Test the hypotheses:](#test_the_hypotheses)\n",
    "* [x] [The average revenue from users of Ultimate and Surf calling plans differs](#avg_rev_plans)\n",
    "* [x] [The average revenue from users in NY-NJ area is different from that of the users from other regions](#avg_rev_location)\n",
    "* Explain:\n",
    "    * [x] How you formulated the null and alternative hypotheses.\n",
    "    * [x] What criterion you used to test the hypotheses and why."
   ]
  },
  {
   "cell_type": "markdown",
   "metadata": {},
   "source": [
    "<a class='anchor' id='avg_rev_plans'></a>\n",
    "\n",
    "### [The average revenue from users of Ultimate and Surf calling plans differs](#avg_rev_plans)"
   ]
  },
  {
   "cell_type": "markdown",
   "metadata": {},
   "source": [
    "**Null Hypotheses :** \n",
    "\n",
    "$\\Large\\mu$$_{surf}$ - $\\Large\\mu$$_{ultimate}$ =0 \n",
    "\n",
    "**Alternative:**\n",
    "\n",
    "**$\\Large\\mu$$_{surf}$** - **$\\Large\\mu$$_{ultimate}$** != 0    \n",
    "\n",
    "$\\Large\\alpha$ = $\\Large5\\%$"
   ]
  },
  {
   "cell_type": "markdown",
   "metadata": {},
   "source": [
    "The requested null hypotheses request we check the difference\n",
    "\n",
    "hence we check if the mean is different than 0\n",
    "\n",
    "and our critical statistical significance is decided at 0.05"
   ]
  },
  {
   "cell_type": "markdown",
   "metadata": {},
   "source": [
    "<div class=\"alert alert-success\" role=\"alert\">\n",
    "Reviewer's comment v. 1:\n",
    "    \n",
    "Yes, hypotheses formulation is correct :)\n",
    "</div>"
   ]
  },
  {
   "cell_type": "code",
   "execution_count": 36,
   "metadata": {},
   "outputs": [
    {
     "data": {
      "text/plain": [
       "New York-Newark-Jersey City, NY-NJ-PA MSA          377\n",
       "Los Angeles-Long Beach-Anaheim, CA MSA             132\n",
       "Chicago-Naperville-Elgin, IL-IN-WI MSA              94\n",
       "Dallas-Fort Worth-Arlington, TX MSA                 88\n",
       "Philadelphia-Camden-Wilmington, PA-NJ-DE-MD MSA     82\n",
       "                                                  ... \n",
       "Omaha-Council Bluffs, NE-IA MSA                      3\n",
       "Jacksonville, FL MSA                                 2\n",
       "Raleigh-Cary, NC MSA                                 2\n",
       "El Paso, TX MSA                                      2\n",
       "Cape Coral-Fort Myers, FL MSA                        1\n",
       "Name: city, Length: 73, dtype: int64"
      ]
     },
     "execution_count": 36,
     "metadata": {},
     "output_type": "execute_result"
    }
   ],
   "source": [
    "users_calls_msg_web_merged['city'].value_counts()"
   ]
  },
  {
   "cell_type": "code",
   "execution_count": 37,
   "metadata": {},
   "outputs": [
    {
     "name": "stdout",
     "output_type": "stream",
     "text": [
      "p-value:  3.17039054811355e-15\n",
      "We reject the null hypothesis\n"
     ]
    }
   ],
   "source": [
    "from scipy import stats as st\n",
    "\n",
    "alpha = 0.05\n",
    "\n",
    "surf_rev= users_calls_msg_web_merged.query(\"plan=='surf'\")[\"total_rev\"]\n",
    "ultimate_rev= users_calls_msg_web_merged.query(\"plan=='ultimate'\")[\"total_rev\"]\n",
    "\n",
    "results = st.ttest_ind(surf_rev, ultimate_rev, equal_var=False)\n",
    "\n",
    "print('p-value: ', results.pvalue)\n",
    "\n",
    "if results.pvalue < alpha:\n",
    "    print(\"We reject the null hypothesis\")\n",
    "else:\n",
    "    print(\"We can't reject the null hypothesis\") \n"
   ]
  },
  {
   "cell_type": "markdown",
   "metadata": {},
   "source": [
    "Conclusion:\n",
    "\n",
    "pvalue is smaller than 0.05, and we have enough evidence that there is difference between the means.\n",
    "\n",
    "hence we reject the null hypothesis."
   ]
  },
  {
   "cell_type": "markdown",
   "metadata": {},
   "source": [
    "<div class=\"alert alert-danger\" role=\"alert\">\n",
    "Reviewer's comment v. 1:\n",
    "    \n",
    "Please make a conclusion about statistical test result.\n",
    "</div>"
   ]
  },
  {
   "cell_type": "markdown",
   "metadata": {},
   "source": [
    "<div class=\"alert alert-success\" role=\"alert\">\n",
    "Reviewer's comment v. 2:\n",
    "    \n",
    "Yes, you right. We have a statistically significant differences in the average revenue from users of Ultimate and Surf plans.\n",
    "</div>"
   ]
  },
  {
   "cell_type": "markdown",
   "metadata": {},
   "source": [
    "<a class='anchor' id='avg_rev_location'></a>\n",
    "\n",
    "[Back to test the hypotheses table of content](#test_the_hypotheses)\n",
    "\n",
    "### [The average revenue from users in NY-NJ area is different from that of the users from other regions](#avg_rev_location) "
   ]
  },
  {
   "cell_type": "markdown",
   "metadata": {},
   "source": [
    "**Null :**\n",
    "\n",
    "$\\Large\\mu$$_{ny-nj}$ - $\\Large\\mu$$_{not(ny-nj)}$ =0 \n",
    "\n",
    "    \n",
    "**Alternative:**\n",
    "\n",
    "**$\\Large\\mu$$_{ny-nj}$** - **$\\Large\\mu$$_{not(ny-nj)}$** != 0    \n",
    "\n",
    "$\\Large\\alpha$ = $\\Large5\\%$"
   ]
  },
  {
   "cell_type": "markdown",
   "metadata": {},
   "source": [
    "<div class=\"alert alert-success\" role=\"alert\">\n",
    "Reviewer's comment v. 1:\n",
    "    \n",
    "It's great that you formulated the null and alternative hypotheses explicitly.\n",
    "</div>"
   ]
  },
  {
   "cell_type": "markdown",
   "metadata": {},
   "source": [
    "The null suggests there is no difference between the regions\n",
    "\n",
    "The alternative suggest there is a difference\n",
    "\n",
    "and our critical statistical significance is decided at 0.05"
   ]
  },
  {
   "cell_type": "code",
   "execution_count": 38,
   "metadata": {},
   "outputs": [
    {
     "data": {
      "text/plain": [
       "'Seattle-Tacoma-Bellevue, WA MSA'"
      ]
     },
     "execution_count": 38,
     "metadata": {},
     "output_type": "execute_result"
    }
   ],
   "source": [
    "users_df.loc[users_df['user_id'] == 1001,'city'].values[0]"
   ]
  },
  {
   "cell_type": "code",
   "execution_count": 39,
   "metadata": {},
   "outputs": [
    {
     "name": "stdout",
     "output_type": "stream",
     "text": [
      "p-value:  0.44104821081481804\n",
      "We can't reject the null hypothesis\n"
     ]
    }
   ],
   "source": [
    "def get_city(user_id):\n",
    "    return users_df.loc[users_df['user_id'] == user_id,'city'].values[0]\n",
    "\n",
    "alpha = 0.05\n",
    "users_calls_msg_web_gby_userid = users_calls_msg_web_merged.groupby('user_id').mean().drop(['month'], axis='columns').reset_index()\n",
    "users_calls_msg_web_gby_userid\n",
    "users_calls_msg_web_gby_userid['city'] = users_calls_msg_web_gby_userid['user_id'].apply(get_city)\n",
    "users_calls_msg_web_gby_userid['city'] = users_calls_msg_web_gby_userid['city'].str.lower()\n",
    "\n",
    "mask = users_calls_msg_web_gby_userid['city'].str.contains(r'ny-nj')\n",
    "revese_mask = mask.apply(lambda v: not v)\n",
    "region_ny_nj_rev = users_calls_msg_web_gby_userid.loc[mask, 'total_rev']\n",
    "region_rest = users_calls_msg_web_gby_userid.loc[revese_mask, 'total_rev']\n",
    "\n",
    "results = st.ttest_ind(region_ny_nj_rev, region_rest, equal_var=False)\n",
    "\n",
    "print('p-value: ', results.pvalue)\n",
    "\n",
    "if results.pvalue < alpha:\n",
    "    print(\"We reject the null hypothesis\")\n",
    "else:\n",
    "    print(\"We can't reject the null hypothesis\") "
   ]
  },
  {
   "cell_type": "markdown",
   "metadata": {},
   "source": [
    "Conclusion:\n",
    "\n",
    "pvalue is bigger than 0.05, and we don't have enough evidence that there is difference between the means.\n",
    "\n",
    "hence we can't reject the null hypothesis."
   ]
  },
  {
   "cell_type": "markdown",
   "metadata": {},
   "source": [
    "<div class=\"alert alert-danger\" role=\"alert\">\n",
    "Reviewer's comment v. 1:\n",
    "    \n",
    "Could you please check this statistical test?\n",
    "</div>"
   ]
  },
  {
   "cell_type": "markdown",
   "metadata": {},
   "source": [
    "<div class=\"alert alert-success\" role=\"alert\">\n",
    "Reviewer's comment v. 2:\n",
    "    \n",
    "You are right, there is no a statistically significant differences in the average revenue from users in NY-NJ area and users from other regions. I suppose that the differences can be due to different data preparation.\n",
    "</div>"
   ]
  },
  {
   "cell_type": "markdown",
   "metadata": {},
   "source": [
    "## Over all conclusions:"
   ]
  },
  {
   "cell_type": "markdown",
   "metadata": {},
   "source": [
    "We have 5 data frames all data frames are related to users dataframe\n",
    "* general information conclusion:\n",
    "  most of the data looks fine just needed to change the types\n",
    "* after anaylzing the data we can see that most users do not exceed the limit of their plan\n",
    "* most of the data is skewed to the right, with very long tails on web traffic\n",
    "* most users are \"surf\"\n",
    "* the mean rev of each plan seems to be the same\n",
    "    * meaning profits from ultimate are not higher than surf\n",
    "* the mean rev between regions NY-NJ doesn't seem different than other regions."
   ]
  },
  {
   "cell_type": "markdown",
   "metadata": {},
   "source": [
    "<div class=\"alert alert-warning\" role=\"alert\">\n",
    "Reviewer's comment v. 1:\n",
    "    \n",
    "It will be better to describe all main results of the project (data preparation, anomalies, main findings and so on).\n",
    "    \n",
    "The conclusion is intended to help the reader understand why your research should matter to them after they have finished reading the paper. A conclusion is not merely a summary of your points or a re-statement of your research problem but a synthesis of key points. \n",
    "</div>"
   ]
  },
  {
   "cell_type": "markdown",
   "metadata": {},
   "source": [
    "<div class=\"alert alert-info\" role=\"alert\">\n",
    "Sorry for bad submission, hopefully I fixed all the problems.\n",
    "    \n",
    "Thanks for being patient :)\n",
    "</div>"
   ]
  },
  {
   "cell_type": "markdown",
   "metadata": {},
   "source": [
    "<div class=\"alert alert-success\" role=\"alert\">\n",
    "Reviewer's comment v. 3:\n",
    "    \n",
    "Keep up the good work, and good luck on the next sprint! 😃\n",
    "</div>"
   ]
  },
  {
   "cell_type": "code",
   "execution_count": null,
   "metadata": {},
   "outputs": [],
   "source": []
  }
 ],
 "metadata": {
  "ExecuteTimeLog": [
   {
    "duration": 118,
    "start_time": "2021-06-30T10:03:15.568Z"
   },
   {
    "duration": 714,
    "start_time": "2021-06-30T10:03:16.100Z"
   },
   {
    "duration": 1082,
    "start_time": "2021-06-30T10:03:25.630Z"
   },
   {
    "duration": 6160,
    "start_time": "2021-06-30T10:03:27.650Z"
   },
   {
    "duration": 651,
    "start_time": "2021-06-30T10:04:16.826Z"
   },
   {
    "duration": 369,
    "start_time": "2021-06-30T10:06:05.979Z"
   },
   {
    "duration": 646,
    "start_time": "2021-06-30T10:06:08.140Z"
   },
   {
    "duration": 386,
    "start_time": "2021-06-30T10:06:08.842Z"
   },
   {
    "duration": 90,
    "start_time": "2021-06-30T10:06:13.970Z"
   },
   {
    "duration": 37,
    "start_time": "2021-06-30T10:06:40.434Z"
   },
   {
    "duration": 105,
    "start_time": "2021-06-30T10:06:49.520Z"
   },
   {
    "duration": 18,
    "start_time": "2021-06-30T10:07:28.063Z"
   },
   {
    "duration": 58,
    "start_time": "2021-06-30T10:07:40.334Z"
   },
   {
    "duration": 59,
    "start_time": "2021-06-30T10:07:47.408Z"
   },
   {
    "duration": 397,
    "start_time": "2021-06-30T10:11:55.306Z"
   },
   {
    "duration": 660,
    "start_time": "2021-06-30T10:12:03.350Z"
   },
   {
    "duration": 402,
    "start_time": "2021-06-30T10:12:04.546Z"
   },
   {
    "duration": 79,
    "start_time": "2021-06-30T10:12:14.291Z"
   },
   {
    "duration": 33,
    "start_time": "2021-06-30T10:18:27.660Z"
   },
   {
    "duration": 390,
    "start_time": "2021-06-30T10:18:41.206Z"
   },
   {
    "duration": 217,
    "start_time": "2021-06-30T10:19:01.175Z"
   },
   {
    "duration": 220,
    "start_time": "2021-06-30T10:19:09.293Z"
   },
   {
    "duration": 243,
    "start_time": "2021-06-30T10:19:35.396Z"
   },
   {
    "duration": 57,
    "start_time": "2021-06-30T10:23:07.745Z"
   },
   {
    "duration": 109,
    "start_time": "2021-06-30T10:23:11.562Z"
   },
   {
    "duration": 205,
    "start_time": "2021-06-30T10:23:15.115Z"
   },
   {
    "duration": 67,
    "start_time": "2021-06-30T10:23:17.611Z"
   },
   {
    "duration": 78,
    "start_time": "2021-06-30T10:23:21.403Z"
   },
   {
    "duration": 79,
    "start_time": "2021-06-30T10:26:29.762Z"
   },
   {
    "duration": 297,
    "start_time": "2021-06-30T10:27:37.081Z"
   },
   {
    "duration": 124,
    "start_time": "2021-06-30T10:28:58.724Z"
   },
   {
    "duration": 82,
    "start_time": "2021-06-30T10:34:38.862Z"
   },
   {
    "duration": 255,
    "start_time": "2021-06-30T10:36:04.274Z"
   },
   {
    "duration": 227,
    "start_time": "2021-06-30T10:36:16.184Z"
   },
   {
    "duration": 166,
    "start_time": "2021-06-30T10:36:34.131Z"
   },
   {
    "duration": 50,
    "start_time": "2021-06-30T12:39:16.733Z"
   },
   {
    "duration": 9268,
    "start_time": "2021-06-30T12:41:37.182Z"
   },
   {
    "duration": 64,
    "start_time": "2021-06-30T12:42:56.128Z"
   },
   {
    "duration": 65,
    "start_time": "2021-06-30T12:44:31.108Z"
   },
   {
    "duration": 64,
    "start_time": "2021-06-30T12:44:37.020Z"
   },
   {
    "duration": 247,
    "start_time": "2021-06-30T12:45:07.090Z"
   },
   {
    "duration": 156,
    "start_time": "2021-06-30T12:45:26.115Z"
   },
   {
    "duration": 29,
    "start_time": "2021-06-30T12:49:48.010Z"
   },
   {
    "duration": 980,
    "start_time": "2021-06-30T12:50:11.688Z"
   },
   {
    "duration": 689,
    "start_time": "2021-06-30T12:50:12.671Z"
   },
   {
    "duration": 62,
    "start_time": "2021-06-30T12:50:13.363Z"
   },
   {
    "duration": 270,
    "start_time": "2021-06-30T12:50:13.429Z"
   },
   {
    "duration": 171,
    "start_time": "2021-06-30T12:50:13.702Z"
   },
   {
    "duration": 291,
    "start_time": "2021-06-30T12:50:13.876Z"
   },
   {
    "duration": 80,
    "start_time": "2021-06-30T12:50:14.169Z"
   },
   {
    "duration": 91,
    "start_time": "2021-06-30T12:50:14.252Z"
   },
   {
    "duration": 75,
    "start_time": "2021-06-30T12:50:14.347Z"
   },
   {
    "duration": 225,
    "start_time": "2021-06-30T12:50:14.425Z"
   },
   {
    "duration": 46,
    "start_time": "2021-06-30T12:50:14.652Z"
   },
   {
    "duration": 25,
    "start_time": "2021-06-30T12:50:21.859Z"
   },
   {
    "duration": 75,
    "start_time": "2021-06-30T12:56:19.935Z"
   },
   {
    "duration": 44,
    "start_time": "2021-06-30T13:09:57.353Z"
   },
   {
    "duration": 433,
    "start_time": "2021-06-30T13:11:49.076Z"
   },
   {
    "duration": 14,
    "start_time": "2021-06-30T13:12:10.614Z"
   },
   {
    "duration": 37,
    "start_time": "2021-06-30T13:19:01.990Z"
   },
   {
    "duration": 5874,
    "start_time": "2021-06-30T13:21:16.182Z"
   },
   {
    "duration": 3115,
    "start_time": "2021-06-30T13:21:50.649Z"
   },
   {
    "duration": 3647,
    "start_time": "2021-06-30T13:25:36.892Z"
   },
   {
    "duration": 3054,
    "start_time": "2021-06-30T13:26:01.600Z"
   },
   {
    "duration": 3255,
    "start_time": "2021-06-30T13:26:25.855Z"
   },
   {
    "duration": 3180,
    "start_time": "2021-06-30T13:27:28.903Z"
   },
   {
    "duration": 32,
    "start_time": "2021-06-30T13:30:35.746Z"
   },
   {
    "duration": 19,
    "start_time": "2021-06-30T13:43:41.062Z"
   },
   {
    "duration": 25,
    "start_time": "2021-06-30T13:44:22.561Z"
   },
   {
    "duration": 20,
    "start_time": "2021-06-30T13:45:13.667Z"
   },
   {
    "duration": 29,
    "start_time": "2021-06-30T13:45:53.251Z"
   },
   {
    "duration": 30,
    "start_time": "2021-06-30T13:46:10.825Z"
   },
   {
    "duration": 27,
    "start_time": "2021-06-30T13:46:26.640Z"
   },
   {
    "duration": 20,
    "start_time": "2021-06-30T13:48:34.873Z"
   },
   {
    "duration": 20,
    "start_time": "2021-06-30T13:48:40.502Z"
   },
   {
    "duration": 28,
    "start_time": "2021-06-30T13:48:52.253Z"
   },
   {
    "duration": 20,
    "start_time": "2021-06-30T13:49:08.738Z"
   },
   {
    "duration": 18,
    "start_time": "2021-06-30T13:49:33.154Z"
   },
   {
    "duration": 16,
    "start_time": "2021-06-30T13:53:13.860Z"
   },
   {
    "duration": 24,
    "start_time": "2021-06-30T13:53:34.652Z"
   },
   {
    "duration": 358,
    "start_time": "2021-06-30T13:53:51.365Z"
   },
   {
    "duration": 34,
    "start_time": "2021-06-30T13:53:54.842Z"
   },
   {
    "duration": 8,
    "start_time": "2021-06-30T13:54:13.773Z"
   },
   {
    "duration": 9,
    "start_time": "2021-06-30T13:54:32.813Z"
   },
   {
    "duration": 19,
    "start_time": "2021-06-30T13:55:09.624Z"
   },
   {
    "duration": 10,
    "start_time": "2021-06-30T13:57:10.902Z"
   },
   {
    "duration": 13,
    "start_time": "2021-06-30T13:57:20.787Z"
   },
   {
    "duration": 118,
    "start_time": "2021-06-30T13:57:38.502Z"
   },
   {
    "duration": 117,
    "start_time": "2021-06-30T13:57:42.800Z"
   },
   {
    "duration": 116,
    "start_time": "2021-06-30T13:57:46.840Z"
   },
   {
    "duration": 12,
    "start_time": "2021-06-30T13:57:53.370Z"
   },
   {
    "duration": 8,
    "start_time": "2021-06-30T13:59:01.117Z"
   },
   {
    "duration": 12,
    "start_time": "2021-06-30T13:59:36.932Z"
   },
   {
    "duration": 11,
    "start_time": "2021-06-30T14:00:02.646Z"
   },
   {
    "duration": 560,
    "start_time": "2021-06-30T14:25:27.759Z"
   },
   {
    "duration": 568,
    "start_time": "2021-06-30T14:26:41.410Z"
   },
   {
    "duration": 21,
    "start_time": "2021-06-30T14:28:01.376Z"
   },
   {
    "duration": 20,
    "start_time": "2021-06-30T14:30:05.268Z"
   },
   {
    "duration": 16,
    "start_time": "2021-06-30T14:30:11.428Z"
   },
   {
    "duration": 9,
    "start_time": "2021-06-30T14:42:50.421Z"
   },
   {
    "duration": 6,
    "start_time": "2021-06-30T14:43:19.212Z"
   },
   {
    "duration": 6,
    "start_time": "2021-06-30T14:43:24.227Z"
   },
   {
    "duration": 29,
    "start_time": "2021-06-30T17:49:06.531Z"
   },
   {
    "duration": 20,
    "start_time": "2021-06-30T17:49:28.904Z"
   },
   {
    "duration": 19,
    "start_time": "2021-06-30T17:50:04.669Z"
   },
   {
    "duration": 32,
    "start_time": "2021-06-30T17:50:12.578Z"
   },
   {
    "duration": 28,
    "start_time": "2021-06-30T17:51:40.403Z"
   },
   {
    "duration": 839,
    "start_time": "2021-06-30T17:52:51.551Z"
   },
   {
    "duration": 53,
    "start_time": "2021-06-30T17:53:06.882Z"
   },
   {
    "duration": 6,
    "start_time": "2021-06-30T17:53:26.438Z"
   },
   {
    "duration": 436,
    "start_time": "2021-06-30T17:57:17.424Z"
   },
   {
    "duration": 54,
    "start_time": "2021-06-30T17:57:30.258Z"
   },
   {
    "duration": 51,
    "start_time": "2021-06-30T17:57:43.724Z"
   },
   {
    "duration": 391,
    "start_time": "2021-06-30T17:57:45.968Z"
   },
   {
    "duration": 917,
    "start_time": "2021-06-30T17:58:04.788Z"
   },
   {
    "duration": 884,
    "start_time": "2021-06-30T17:58:05.710Z"
   },
   {
    "duration": 58,
    "start_time": "2021-06-30T17:58:06.597Z"
   },
   {
    "duration": 271,
    "start_time": "2021-06-30T17:58:06.658Z"
   },
   {
    "duration": 132,
    "start_time": "2021-06-30T17:58:06.931Z"
   },
   {
    "duration": 236,
    "start_time": "2021-06-30T17:58:07.066Z"
   },
   {
    "duration": 60,
    "start_time": "2021-06-30T17:58:07.305Z"
   },
   {
    "duration": 90,
    "start_time": "2021-06-30T17:58:07.369Z"
   },
   {
    "duration": 67,
    "start_time": "2021-06-30T17:58:07.462Z"
   },
   {
    "duration": 188,
    "start_time": "2021-06-30T17:58:07.532Z"
   },
   {
    "duration": 61,
    "start_time": "2021-06-30T17:58:07.722Z"
   },
   {
    "duration": 34,
    "start_time": "2021-06-30T17:58:07.786Z"
   },
   {
    "duration": 3264,
    "start_time": "2021-06-30T17:58:07.822Z"
   },
   {
    "duration": 798,
    "start_time": "2021-06-30T17:58:11.088Z"
   },
   {
    "duration": 490,
    "start_time": "2021-06-30T17:58:11.888Z"
   },
   {
    "duration": 888,
    "start_time": "2021-06-30T17:58:11.494Z"
   },
   {
    "duration": 888,
    "start_time": "2021-06-30T17:58:11.496Z"
   },
   {
    "duration": 889,
    "start_time": "2021-06-30T17:58:11.497Z"
   },
   {
    "duration": 889,
    "start_time": "2021-06-30T17:58:11.499Z"
   },
   {
    "duration": 890,
    "start_time": "2021-06-30T17:58:11.500Z"
   },
   {
    "duration": 3544,
    "start_time": "2021-06-30T18:01:35.566Z"
   },
   {
    "duration": 882,
    "start_time": "2021-06-30T18:04:42.341Z"
   },
   {
    "duration": 598,
    "start_time": "2021-06-30T18:04:43.225Z"
   },
   {
    "duration": 56,
    "start_time": "2021-06-30T18:04:43.825Z"
   },
   {
    "duration": 333,
    "start_time": "2021-06-30T18:04:43.883Z"
   },
   {
    "duration": 123,
    "start_time": "2021-06-30T18:04:44.219Z"
   },
   {
    "duration": 218,
    "start_time": "2021-06-30T18:04:44.344Z"
   },
   {
    "duration": 74,
    "start_time": "2021-06-30T18:04:44.564Z"
   },
   {
    "duration": 79,
    "start_time": "2021-06-30T18:04:44.642Z"
   },
   {
    "duration": 50,
    "start_time": "2021-06-30T18:04:44.724Z"
   },
   {
    "duration": 202,
    "start_time": "2021-06-30T18:04:44.777Z"
   },
   {
    "duration": 69,
    "start_time": "2021-06-30T18:04:44.981Z"
   },
   {
    "duration": 42,
    "start_time": "2021-06-30T18:04:45.052Z"
   },
   {
    "duration": 3163,
    "start_time": "2021-06-30T18:04:45.096Z"
   },
   {
    "duration": 1344,
    "start_time": "2021-06-30T18:04:48.261Z"
   },
   {
    "duration": 994,
    "start_time": "2021-06-30T18:04:48.614Z"
   },
   {
    "duration": 993,
    "start_time": "2021-06-30T18:04:48.616Z"
   },
   {
    "duration": 893,
    "start_time": "2021-06-30T18:04:48.718Z"
   },
   {
    "duration": 894,
    "start_time": "2021-06-30T18:04:48.719Z"
   },
   {
    "duration": 893,
    "start_time": "2021-06-30T18:04:48.721Z"
   },
   {
    "duration": 201,
    "start_time": "2021-06-30T18:05:35.573Z"
   },
   {
    "duration": 897,
    "start_time": "2021-06-30T18:06:10.044Z"
   },
   {
    "duration": 716,
    "start_time": "2021-06-30T18:06:10.944Z"
   },
   {
    "duration": 57,
    "start_time": "2021-06-30T18:06:11.663Z"
   },
   {
    "duration": 260,
    "start_time": "2021-06-30T18:06:11.723Z"
   },
   {
    "duration": 119,
    "start_time": "2021-06-30T18:06:11.985Z"
   },
   {
    "duration": 233,
    "start_time": "2021-06-30T18:06:12.110Z"
   },
   {
    "duration": 74,
    "start_time": "2021-06-30T18:06:12.346Z"
   },
   {
    "duration": 86,
    "start_time": "2021-06-30T18:06:12.422Z"
   },
   {
    "duration": 48,
    "start_time": "2021-06-30T18:06:12.513Z"
   },
   {
    "duration": 195,
    "start_time": "2021-06-30T18:06:12.564Z"
   },
   {
    "duration": 70,
    "start_time": "2021-06-30T18:06:12.762Z"
   },
   {
    "duration": 14,
    "start_time": "2021-06-30T18:06:12.835Z"
   },
   {
    "duration": 3187,
    "start_time": "2021-06-30T18:06:12.851Z"
   },
   {
    "duration": 859,
    "start_time": "2021-06-30T18:06:16.041Z"
   },
   {
    "duration": 24,
    "start_time": "2021-06-30T18:06:16.902Z"
   },
   {
    "duration": 38,
    "start_time": "2021-06-30T18:06:16.928Z"
   },
   {
    "duration": 39,
    "start_time": "2021-06-30T18:06:16.969Z"
   },
   {
    "duration": 23,
    "start_time": "2021-06-30T18:06:17.010Z"
   },
   {
    "duration": 13,
    "start_time": "2021-06-30T18:06:17.036Z"
   },
   {
    "duration": 77,
    "start_time": "2021-06-30T18:06:58.605Z"
   },
   {
    "duration": 942,
    "start_time": "2021-06-30T18:07:06.270Z"
   },
   {
    "duration": 679,
    "start_time": "2021-06-30T18:07:07.214Z"
   },
   {
    "duration": 60,
    "start_time": "2021-06-30T18:07:07.896Z"
   },
   {
    "duration": 272,
    "start_time": "2021-06-30T18:07:07.960Z"
   },
   {
    "duration": 128,
    "start_time": "2021-06-30T18:07:08.235Z"
   },
   {
    "duration": 218,
    "start_time": "2021-06-30T18:07:08.365Z"
   },
   {
    "duration": 71,
    "start_time": "2021-06-30T18:07:08.586Z"
   },
   {
    "duration": 89,
    "start_time": "2021-06-30T18:07:08.662Z"
   },
   {
    "duration": 72,
    "start_time": "2021-06-30T18:07:08.754Z"
   },
   {
    "duration": 182,
    "start_time": "2021-06-30T18:07:08.828Z"
   },
   {
    "duration": 60,
    "start_time": "2021-06-30T18:07:09.013Z"
   },
   {
    "duration": 38,
    "start_time": "2021-06-30T18:07:09.076Z"
   },
   {
    "duration": 3199,
    "start_time": "2021-06-30T18:07:09.116Z"
   },
   {
    "duration": 773,
    "start_time": "2021-06-30T18:07:12.317Z"
   },
   {
    "duration": 29,
    "start_time": "2021-06-30T18:07:13.093Z"
   },
   {
    "duration": 39,
    "start_time": "2021-06-30T18:07:13.125Z"
   },
   {
    "duration": 47,
    "start_time": "2021-06-30T18:07:13.167Z"
   },
   {
    "duration": 25,
    "start_time": "2021-06-30T18:07:13.217Z"
   },
   {
    "duration": 13,
    "start_time": "2021-06-30T18:07:13.246Z"
   },
   {
    "duration": 869,
    "start_time": "2021-06-30T18:07:48.744Z"
   },
   {
    "duration": 589,
    "start_time": "2021-06-30T18:07:49.615Z"
   },
   {
    "duration": 57,
    "start_time": "2021-06-30T18:07:50.207Z"
   },
   {
    "duration": 246,
    "start_time": "2021-06-30T18:07:50.266Z"
   },
   {
    "duration": 117,
    "start_time": "2021-06-30T18:07:50.514Z"
   },
   {
    "duration": 195,
    "start_time": "2021-06-30T18:07:50.633Z"
   },
   {
    "duration": 81,
    "start_time": "2021-06-30T18:07:50.830Z"
   },
   {
    "duration": 62,
    "start_time": "2021-06-30T18:07:50.915Z"
   },
   {
    "duration": 71,
    "start_time": "2021-06-30T18:07:50.980Z"
   },
   {
    "duration": 178,
    "start_time": "2021-06-30T18:07:51.053Z"
   },
   {
    "duration": 59,
    "start_time": "2021-06-30T18:07:51.233Z"
   },
   {
    "duration": 19,
    "start_time": "2021-06-30T18:07:51.309Z"
   },
   {
    "duration": 3200,
    "start_time": "2021-06-30T18:07:51.331Z"
   },
   {
    "duration": 36,
    "start_time": "2021-06-30T18:07:54.534Z"
   },
   {
    "duration": 38,
    "start_time": "2021-06-30T18:07:54.572Z"
   },
   {
    "duration": 35,
    "start_time": "2021-06-30T18:07:54.612Z"
   },
   {
    "duration": 16,
    "start_time": "2021-06-30T18:07:54.649Z"
   },
   {
    "duration": 48,
    "start_time": "2021-06-30T18:07:54.667Z"
   },
   {
    "duration": 11,
    "start_time": "2021-06-30T18:07:54.718Z"
   },
   {
    "duration": 21,
    "start_time": "2021-06-30T18:08:30.361Z"
   },
   {
    "duration": 145,
    "start_time": "2021-06-30T18:08:35.065Z"
   },
   {
    "duration": 608,
    "start_time": "2021-06-30T18:34:08.969Z"
   },
   {
    "duration": 9386,
    "start_time": "2021-06-30T18:34:16.534Z"
   },
   {
    "duration": 145,
    "start_time": "2021-06-30T18:34:59.292Z"
   },
   {
    "duration": 2505,
    "start_time": "2021-06-30T18:35:21.749Z"
   },
   {
    "duration": 1715,
    "start_time": "2021-06-30T18:35:58.215Z"
   },
   {
    "duration": 492,
    "start_time": "2021-06-30T18:37:42.163Z"
   },
   {
    "duration": 403,
    "start_time": "2021-06-30T18:37:50.307Z"
   },
   {
    "duration": 48,
    "start_time": "2021-06-30T18:38:08.436Z"
   },
   {
    "duration": 4,
    "start_time": "2021-06-30T20:21:46.010Z"
   },
   {
    "duration": 622,
    "start_time": "2021-06-30T20:21:46.395Z"
   },
   {
    "duration": 56,
    "start_time": "2021-06-30T20:21:48.481Z"
   },
   {
    "duration": 232,
    "start_time": "2021-06-30T20:21:51.012Z"
   },
   {
    "duration": 107,
    "start_time": "2021-06-30T20:21:53.088Z"
   },
   {
    "duration": 175,
    "start_time": "2021-06-30T20:21:53.480Z"
   },
   {
    "duration": 65,
    "start_time": "2021-06-30T20:21:55.030Z"
   },
   {
    "duration": 62,
    "start_time": "2021-06-30T20:21:57.007Z"
   },
   {
    "duration": 46,
    "start_time": "2021-06-30T20:22:01.311Z"
   },
   {
    "duration": 154,
    "start_time": "2021-06-30T20:22:20.492Z"
   },
   {
    "duration": 77,
    "start_time": "2021-06-30T20:22:49.356Z"
   },
   {
    "duration": 13,
    "start_time": "2021-06-30T20:22:56.135Z"
   },
   {
    "duration": 3000,
    "start_time": "2021-06-30T20:22:59.743Z"
   },
   {
    "duration": 36,
    "start_time": "2021-06-30T20:24:02.367Z"
   },
   {
    "duration": 132,
    "start_time": "2021-06-30T20:24:19.195Z"
   },
   {
    "duration": 32,
    "start_time": "2021-06-30T20:24:31.600Z"
   },
   {
    "duration": 18,
    "start_time": "2021-06-30T20:24:33.904Z"
   },
   {
    "duration": 11,
    "start_time": "2021-06-30T20:24:45.967Z"
   },
   {
    "duration": 3,
    "start_time": "2021-06-30T20:26:34.709Z"
   },
   {
    "duration": 867,
    "start_time": "2021-07-01T08:12:37.991Z"
   },
   {
    "duration": 610,
    "start_time": "2021-07-01T08:12:38.861Z"
   },
   {
    "duration": 98,
    "start_time": "2021-07-01T08:12:39.474Z"
   },
   {
    "duration": 264,
    "start_time": "2021-07-01T08:12:39.575Z"
   },
   {
    "duration": 119,
    "start_time": "2021-07-01T08:12:39.841Z"
   },
   {
    "duration": 198,
    "start_time": "2021-07-01T08:12:39.962Z"
   },
   {
    "duration": 54,
    "start_time": "2021-07-01T08:12:40.167Z"
   },
   {
    "duration": 84,
    "start_time": "2021-07-01T08:12:40.224Z"
   },
   {
    "duration": 69,
    "start_time": "2021-07-01T08:12:40.311Z"
   },
   {
    "duration": 165,
    "start_time": "2021-07-01T08:12:40.383Z"
   },
   {
    "duration": 92,
    "start_time": "2021-07-01T08:12:40.551Z"
   },
   {
    "duration": 28,
    "start_time": "2021-07-01T08:12:40.645Z"
   },
   {
    "duration": 3168,
    "start_time": "2021-07-01T08:12:40.675Z"
   },
   {
    "duration": 151,
    "start_time": "2021-07-01T08:12:43.845Z"
   },
   {
    "duration": 19,
    "start_time": "2021-07-01T08:12:43.999Z"
   },
   {
    "duration": 58,
    "start_time": "2021-07-01T08:12:44.021Z"
   },
   {
    "duration": 15,
    "start_time": "2021-07-01T08:12:44.082Z"
   },
   {
    "duration": 10,
    "start_time": "2021-07-01T08:12:44.100Z"
   },
   {
    "duration": 22,
    "start_time": "2021-07-01T08:19:45.821Z"
   },
   {
    "duration": 22,
    "start_time": "2021-07-01T08:21:52.518Z"
   },
   {
    "duration": 22,
    "start_time": "2021-07-01T08:22:08.636Z"
   },
   {
    "duration": 24,
    "start_time": "2021-07-01T08:25:38.671Z"
   },
   {
    "duration": 451,
    "start_time": "2021-07-01T08:26:16.870Z"
   },
   {
    "duration": 22,
    "start_time": "2021-07-01T08:26:40.564Z"
   },
   {
    "duration": 359,
    "start_time": "2021-07-01T08:27:22.072Z"
   },
   {
    "duration": 4,
    "start_time": "2021-07-01T08:27:38.541Z"
   },
   {
    "duration": 5,
    "start_time": "2021-07-01T08:27:42.435Z"
   },
   {
    "duration": 25,
    "start_time": "2021-07-01T08:27:58.994Z"
   },
   {
    "duration": 19,
    "start_time": "2021-07-01T08:28:28.090Z"
   },
   {
    "duration": 5,
    "start_time": "2021-07-01T08:28:28.676Z"
   },
   {
    "duration": 4,
    "start_time": "2021-07-01T08:28:41.190Z"
   },
   {
    "duration": 24,
    "start_time": "2021-07-01T08:28:41.982Z"
   },
   {
    "duration": 8015,
    "start_time": "2021-07-01T08:30:49.284Z"
   },
   {
    "duration": -23,
    "start_time": "2021-07-01T08:30:57.325Z"
   },
   {
    "duration": 15,
    "start_time": "2021-07-01T08:31:05.918Z"
   },
   {
    "duration": 19,
    "start_time": "2021-07-01T08:31:07.164Z"
   },
   {
    "duration": 307,
    "start_time": "2021-07-01T08:33:58.923Z"
   },
   {
    "duration": 4,
    "start_time": "2021-07-01T08:34:27.353Z"
   },
   {
    "duration": 654,
    "start_time": "2021-07-01T08:34:27.363Z"
   },
   {
    "duration": 57,
    "start_time": "2021-07-01T08:34:28.019Z"
   },
   {
    "duration": 347,
    "start_time": "2021-07-01T08:34:28.080Z"
   },
   {
    "duration": 137,
    "start_time": "2021-07-01T08:34:28.431Z"
   },
   {
    "duration": 210,
    "start_time": "2021-07-01T08:34:28.571Z"
   },
   {
    "duration": 85,
    "start_time": "2021-07-01T08:34:28.784Z"
   },
   {
    "duration": 60,
    "start_time": "2021-07-01T08:34:28.872Z"
   },
   {
    "duration": 74,
    "start_time": "2021-07-01T08:34:28.936Z"
   },
   {
    "duration": 162,
    "start_time": "2021-07-01T08:34:29.013Z"
   },
   {
    "duration": 91,
    "start_time": "2021-07-01T08:34:29.177Z"
   },
   {
    "duration": 12,
    "start_time": "2021-07-01T08:34:29.271Z"
   },
   {
    "duration": 3048,
    "start_time": "2021-07-01T08:34:29.285Z"
   },
   {
    "duration": 145,
    "start_time": "2021-07-01T08:34:32.336Z"
   },
   {
    "duration": 20,
    "start_time": "2021-07-01T08:34:32.483Z"
   },
   {
    "duration": 31,
    "start_time": "2021-07-01T08:34:32.505Z"
   },
   {
    "duration": 43,
    "start_time": "2021-07-01T08:34:32.538Z"
   },
   {
    "duration": 12,
    "start_time": "2021-07-01T08:34:32.584Z"
   },
   {
    "duration": 29,
    "start_time": "2021-07-01T08:34:32.599Z"
   },
   {
    "duration": 55,
    "start_time": "2021-07-01T08:34:32.631Z"
   },
   {
    "duration": 31,
    "start_time": "2021-07-01T08:34:48.048Z"
   },
   {
    "duration": 13,
    "start_time": "2021-07-01T08:34:52.530Z"
   },
   {
    "duration": 16,
    "start_time": "2021-07-01T08:35:14.522Z"
   },
   {
    "duration": 409,
    "start_time": "2021-07-01T08:35:15.273Z"
   },
   {
    "duration": 14,
    "start_time": "2021-07-01T08:35:21.606Z"
   },
   {
    "duration": 4,
    "start_time": "2021-07-01T08:35:42.514Z"
   },
   {
    "duration": 31,
    "start_time": "2021-07-01T08:36:05.867Z"
   },
   {
    "duration": 20,
    "start_time": "2021-07-01T08:37:02.737Z"
   },
   {
    "duration": 7,
    "start_time": "2021-07-01T08:37:03.440Z"
   },
   {
    "duration": 14,
    "start_time": "2021-07-01T08:37:09.903Z"
   },
   {
    "duration": 17,
    "start_time": "2021-07-01T08:38:20.159Z"
   },
   {
    "duration": 22,
    "start_time": "2021-07-01T08:38:26.540Z"
   },
   {
    "duration": 21,
    "start_time": "2021-07-01T08:39:22.261Z"
   },
   {
    "duration": 16,
    "start_time": "2021-07-01T08:39:24.276Z"
   },
   {
    "duration": 6,
    "start_time": "2021-07-01T08:46:38.909Z"
   },
   {
    "duration": 19,
    "start_time": "2021-07-01T08:46:44.207Z"
   },
   {
    "duration": 173,
    "start_time": "2021-07-01T08:47:14.849Z"
   },
   {
    "duration": 6,
    "start_time": "2021-07-01T08:47:24.708Z"
   },
   {
    "duration": 18,
    "start_time": "2021-07-01T08:47:28.330Z"
   },
   {
    "duration": 22,
    "start_time": "2021-07-01T08:48:21.480Z"
   },
   {
    "duration": 10,
    "start_time": "2021-07-01T08:48:24.059Z"
   },
   {
    "duration": 18,
    "start_time": "2021-07-01T08:48:24.586Z"
   },
   {
    "duration": 15,
    "start_time": "2021-07-01T08:50:55.966Z"
   },
   {
    "duration": 296,
    "start_time": "2021-07-01T08:51:42.699Z"
   },
   {
    "duration": 45,
    "start_time": "2021-07-01T08:51:54.044Z"
   },
   {
    "duration": 21,
    "start_time": "2021-07-01T08:52:06.699Z"
   },
   {
    "duration": 15,
    "start_time": "2021-07-01T08:52:09.723Z"
   },
   {
    "duration": 15,
    "start_time": "2021-07-01T08:52:14.649Z"
   },
   {
    "duration": 61,
    "start_time": "2021-07-01T08:52:21.491Z"
   },
   {
    "duration": 64,
    "start_time": "2021-07-01T08:52:30.658Z"
   },
   {
    "duration": 7689,
    "start_time": "2021-07-01T08:56:15.317Z"
   },
   {
    "duration": 65,
    "start_time": "2021-07-01T08:56:32.497Z"
   },
   {
    "duration": 8270,
    "start_time": "2021-07-01T08:56:42.633Z"
   },
   {
    "duration": 8250,
    "start_time": "2021-07-01T08:57:16.361Z"
   },
   {
    "duration": 9022,
    "start_time": "2021-07-01T08:57:58.090Z"
   },
   {
    "duration": 363,
    "start_time": "2021-07-01T08:58:45.817Z"
   },
   {
    "duration": 368,
    "start_time": "2021-07-01T08:58:51.949Z"
   },
   {
    "duration": 83,
    "start_time": "2021-07-01T08:58:59.567Z"
   },
   {
    "duration": 81,
    "start_time": "2021-07-01T08:59:00.447Z"
   },
   {
    "duration": 84,
    "start_time": "2021-07-01T08:59:07.409Z"
   },
   {
    "duration": 80,
    "start_time": "2021-07-01T08:59:29.364Z"
   },
   {
    "duration": 92,
    "start_time": "2021-07-01T09:00:00.929Z"
   },
   {
    "duration": 89,
    "start_time": "2021-07-01T09:00:18.920Z"
   },
   {
    "duration": 107,
    "start_time": "2021-07-01T09:04:08.395Z"
   },
   {
    "duration": 111,
    "start_time": "2021-07-01T09:05:32.995Z"
   },
   {
    "duration": 593,
    "start_time": "2021-07-01T09:07:13.088Z"
   },
   {
    "duration": 654,
    "start_time": "2021-07-01T09:09:18.513Z"
   },
   {
    "duration": 7833,
    "start_time": "2021-07-01T09:11:01.302Z"
   },
   {
    "duration": 575,
    "start_time": "2021-07-01T09:11:10.150Z"
   },
   {
    "duration": 561,
    "start_time": "2021-07-01T09:11:55.546Z"
   },
   {
    "duration": 3380,
    "start_time": "2021-07-01T09:15:18.562Z"
   },
   {
    "duration": 30239,
    "start_time": "2021-07-01T09:15:33.422Z"
   },
   {
    "duration": 769,
    "start_time": "2021-07-01T09:16:30.367Z"
   },
   {
    "duration": 1185,
    "start_time": "2021-07-01T09:16:53.300Z"
   },
   {
    "duration": 12,
    "start_time": "2021-07-01T14:36:33.288Z"
   },
   {
    "duration": 4,
    "start_time": "2021-07-01T14:39:22.800Z"
   },
   {
    "duration": 6,
    "start_time": "2021-07-01T14:39:27.380Z"
   },
   {
    "duration": 268,
    "start_time": "2021-07-01T14:39:33.229Z"
   },
   {
    "duration": 5,
    "start_time": "2021-07-01T14:43:43.152Z"
   },
   {
    "duration": 6,
    "start_time": "2021-07-01T14:43:58.744Z"
   },
   {
    "duration": 5,
    "start_time": "2021-07-01T14:44:17.479Z"
   },
   {
    "duration": 9,
    "start_time": "2021-07-01T14:49:40.433Z"
   },
   {
    "duration": 300,
    "start_time": "2021-07-01T14:50:22.252Z"
   },
   {
    "duration": 8,
    "start_time": "2021-07-01T14:50:36.836Z"
   },
   {
    "duration": 4709,
    "start_time": "2021-07-01T14:50:48.637Z"
   },
   {
    "duration": 4988,
    "start_time": "2021-07-01T14:51:04.152Z"
   },
   {
    "duration": 8,
    "start_time": "2021-07-01T14:51:15.876Z"
   },
   {
    "duration": 7,
    "start_time": "2021-07-01T14:51:27.642Z"
   },
   {
    "duration": 381,
    "start_time": "2021-07-01T14:51:43.632Z"
   },
   {
    "duration": 6,
    "start_time": "2021-07-01T14:51:46.711Z"
   },
   {
    "duration": 315,
    "start_time": "2021-07-01T14:52:51.433Z"
   },
   {
    "duration": 16,
    "start_time": "2021-07-01T14:52:58.583Z"
   },
   {
    "duration": 9,
    "start_time": "2021-07-01T14:53:45.331Z"
   },
   {
    "duration": 358,
    "start_time": "2021-07-01T14:54:01.803Z"
   },
   {
    "duration": 9,
    "start_time": "2021-07-01T14:54:46.635Z"
   },
   {
    "duration": 8,
    "start_time": "2021-07-01T14:54:53.204Z"
   },
   {
    "duration": 5,
    "start_time": "2021-07-01T14:55:25.256Z"
   },
   {
    "duration": 4,
    "start_time": "2021-07-01T14:55:26.512Z"
   },
   {
    "duration": 32,
    "start_time": "2021-07-01T14:55:27.359Z"
   },
   {
    "duration": 8,
    "start_time": "2021-07-01T14:55:56.789Z"
   },
   {
    "duration": 2467,
    "start_time": "2021-07-01T14:57:53.552Z"
   },
   {
    "duration": 15,
    "start_time": "2021-07-01T14:57:56.021Z"
   },
   {
    "duration": 13,
    "start_time": "2021-07-01T15:05:15.414Z"
   },
   {
    "duration": 15,
    "start_time": "2021-07-01T15:09:37.327Z"
   },
   {
    "duration": 9089,
    "start_time": "2021-07-01T15:19:52.412Z"
   },
   {
    "duration": 32,
    "start_time": "2021-07-01T15:20:30.016Z"
   },
   {
    "duration": 23,
    "start_time": "2021-07-01T15:48:53.777Z"
   },
   {
    "duration": 19,
    "start_time": "2021-07-01T16:35:25.572Z"
   },
   {
    "duration": 5,
    "start_time": "2021-07-01T16:36:11.320Z"
   },
   {
    "duration": 283,
    "start_time": "2021-07-01T16:36:20.823Z"
   },
   {
    "duration": 5,
    "start_time": "2021-07-01T16:36:25.901Z"
   },
   {
    "duration": 5,
    "start_time": "2021-07-01T16:39:32.284Z"
   },
   {
    "duration": 14,
    "start_time": "2021-07-01T16:39:34.364Z"
   },
   {
    "duration": 996,
    "start_time": "2021-07-02T08:12:27.157Z"
   },
   {
    "duration": 605,
    "start_time": "2021-07-02T08:12:28.158Z"
   },
   {
    "duration": 63,
    "start_time": "2021-07-02T08:12:28.768Z"
   },
   {
    "duration": 283,
    "start_time": "2021-07-02T08:12:28.834Z"
   },
   {
    "duration": 131,
    "start_time": "2021-07-02T08:12:29.119Z"
   },
   {
    "duration": 258,
    "start_time": "2021-07-02T08:12:29.256Z"
   },
   {
    "duration": 85,
    "start_time": "2021-07-02T08:12:29.517Z"
   },
   {
    "duration": 80,
    "start_time": "2021-07-02T08:12:29.606Z"
   },
   {
    "duration": 76,
    "start_time": "2021-07-02T08:12:29.691Z"
   },
   {
    "duration": 186,
    "start_time": "2021-07-02T08:12:29.770Z"
   },
   {
    "duration": 98,
    "start_time": "2021-07-02T08:12:29.958Z"
   },
   {
    "duration": 17,
    "start_time": "2021-07-02T08:12:30.059Z"
   },
   {
    "duration": 3044,
    "start_time": "2021-07-02T08:12:30.078Z"
   },
   {
    "duration": 150,
    "start_time": "2021-07-02T08:12:33.124Z"
   },
   {
    "duration": 18,
    "start_time": "2021-07-02T08:12:33.276Z"
   },
   {
    "duration": 40,
    "start_time": "2021-07-02T08:12:33.296Z"
   },
   {
    "duration": 16,
    "start_time": "2021-07-02T08:12:33.354Z"
   },
   {
    "duration": 10,
    "start_time": "2021-07-02T08:12:33.373Z"
   },
   {
    "duration": 24,
    "start_time": "2021-07-02T08:12:33.385Z"
   },
   {
    "duration": 60,
    "start_time": "2021-07-02T08:12:33.411Z"
   },
   {
    "duration": 31,
    "start_time": "2021-07-02T08:12:33.474Z"
   },
   {
    "duration": 13,
    "start_time": "2021-07-02T08:12:33.508Z"
   },
   {
    "duration": 44,
    "start_time": "2021-07-02T08:12:33.528Z"
   },
   {
    "duration": 29,
    "start_time": "2021-07-02T08:12:33.576Z"
   },
   {
    "duration": 46,
    "start_time": "2021-07-02T08:12:33.608Z"
   },
   {
    "duration": 22,
    "start_time": "2021-07-02T08:12:33.658Z"
   },
   {
    "duration": 28,
    "start_time": "2021-07-02T08:12:33.683Z"
   },
   {
    "duration": 46,
    "start_time": "2021-07-02T08:12:33.714Z"
   },
   {
    "duration": 24,
    "start_time": "2021-07-02T08:12:33.763Z"
   },
   {
    "duration": 136,
    "start_time": "2021-07-02T08:12:33.789Z"
   },
   {
    "duration": 583,
    "start_time": "2021-07-02T08:12:33.928Z"
   },
   {
    "duration": 568,
    "start_time": "2021-07-02T08:12:34.514Z"
   },
   {
    "duration": 561,
    "start_time": "2021-07-02T08:12:35.085Z"
   },
   {
    "duration": 4,
    "start_time": "2021-07-02T08:12:35.653Z"
   },
   {
    "duration": 28,
    "start_time": "2021-07-02T08:12:35.660Z"
   },
   {
    "duration": 327,
    "start_time": "2021-07-02T08:13:47.281Z"
   },
   {
    "duration": 892,
    "start_time": "2021-07-02T08:14:08.376Z"
   },
   {
    "duration": 556,
    "start_time": "2021-07-02T08:14:09.271Z"
   },
   {
    "duration": 59,
    "start_time": "2021-07-02T08:14:09.830Z"
   },
   {
    "duration": 251,
    "start_time": "2021-07-02T08:14:09.893Z"
   },
   {
    "duration": 120,
    "start_time": "2021-07-02T08:14:10.147Z"
   },
   {
    "duration": 305,
    "start_time": "2021-07-02T08:14:10.270Z"
   },
   {
    "duration": 76,
    "start_time": "2021-07-02T08:14:10.578Z"
   },
   {
    "duration": 66,
    "start_time": "2021-07-02T08:14:10.659Z"
   },
   {
    "duration": 71,
    "start_time": "2021-07-02T08:14:10.729Z"
   },
   {
    "duration": 176,
    "start_time": "2021-07-02T08:14:10.802Z"
   },
   {
    "duration": 99,
    "start_time": "2021-07-02T08:14:10.981Z"
   },
   {
    "duration": 16,
    "start_time": "2021-07-02T08:14:11.083Z"
   },
   {
    "duration": 3212,
    "start_time": "2021-07-02T08:14:11.101Z"
   },
   {
    "duration": 182,
    "start_time": "2021-07-02T08:14:14.315Z"
   },
   {
    "duration": 19,
    "start_time": "2021-07-02T08:14:14.499Z"
   },
   {
    "duration": 61,
    "start_time": "2021-07-02T08:14:14.521Z"
   },
   {
    "duration": 16,
    "start_time": "2021-07-02T08:14:14.585Z"
   },
   {
    "duration": 11,
    "start_time": "2021-07-02T08:14:14.604Z"
   },
   {
    "duration": 57,
    "start_time": "2021-07-02T08:14:14.617Z"
   },
   {
    "duration": 23,
    "start_time": "2021-07-02T08:14:14.677Z"
   },
   {
    "duration": 54,
    "start_time": "2021-07-02T08:14:14.703Z"
   },
   {
    "duration": 16,
    "start_time": "2021-07-02T08:14:14.760Z"
   },
   {
    "duration": 20,
    "start_time": "2021-07-02T08:14:14.781Z"
   },
   {
    "duration": 22,
    "start_time": "2021-07-02T08:14:14.804Z"
   },
   {
    "duration": 17,
    "start_time": "2021-07-02T08:14:14.855Z"
   },
   {
    "duration": 18,
    "start_time": "2021-07-02T08:14:14.875Z"
   },
   {
    "duration": 20,
    "start_time": "2021-07-02T08:14:14.895Z"
   },
   {
    "duration": 44,
    "start_time": "2021-07-02T08:14:14.917Z"
   },
   {
    "duration": 19,
    "start_time": "2021-07-02T08:14:14.964Z"
   },
   {
    "duration": 146,
    "start_time": "2021-07-02T08:14:14.986Z"
   },
   {
    "duration": 596,
    "start_time": "2021-07-02T08:14:15.134Z"
   },
   {
    "duration": 587,
    "start_time": "2021-07-02T08:14:15.732Z"
   },
   {
    "duration": 575,
    "start_time": "2021-07-02T08:14:16.321Z"
   },
   {
    "duration": 26,
    "start_time": "2021-07-02T08:14:16.898Z"
   },
   {
    "duration": 39,
    "start_time": "2021-07-02T08:14:16.927Z"
   },
   {
    "duration": 37,
    "start_time": "2021-07-02T08:27:41.729Z"
   },
   {
    "duration": 25,
    "start_time": "2021-07-02T08:27:46.457Z"
   },
   {
    "duration": 8,
    "start_time": "2021-07-02T08:28:04.493Z"
   },
   {
    "duration": 26,
    "start_time": "2021-07-02T08:28:39.954Z"
   },
   {
    "duration": 21,
    "start_time": "2021-07-02T08:28:47.547Z"
   },
   {
    "duration": 358,
    "start_time": "2021-07-02T08:28:54.427Z"
   },
   {
    "duration": 8,
    "start_time": "2021-07-02T08:29:03.999Z"
   },
   {
    "duration": 36,
    "start_time": "2021-07-02T08:29:38.475Z"
   },
   {
    "duration": 9,
    "start_time": "2021-07-02T08:31:16.674Z"
   },
   {
    "duration": 10,
    "start_time": "2021-07-02T08:31:34.536Z"
   },
   {
    "duration": 3189,
    "start_time": "2021-07-02T08:31:45.191Z"
   },
   {
    "duration": 6,
    "start_time": "2021-07-02T08:31:51.207Z"
   },
   {
    "duration": 10,
    "start_time": "2021-07-02T08:32:33.268Z"
   },
   {
    "duration": 11,
    "start_time": "2021-07-02T08:32:52.495Z"
   },
   {
    "duration": 46,
    "start_time": "2021-07-02T08:35:30.851Z"
   },
   {
    "duration": 47,
    "start_time": "2021-07-02T08:36:28.155Z"
   },
   {
    "duration": 45,
    "start_time": "2021-07-02T08:37:06.721Z"
   },
   {
    "duration": 41,
    "start_time": "2021-07-02T08:37:20.539Z"
   },
   {
    "duration": 41,
    "start_time": "2021-07-02T08:37:31.584Z"
   },
   {
    "duration": 47,
    "start_time": "2021-07-02T08:39:36.901Z"
   },
   {
    "duration": 39,
    "start_time": "2021-07-02T08:41:17.344Z"
   },
   {
    "duration": 24,
    "start_time": "2021-07-02T08:41:20.880Z"
   },
   {
    "duration": 14,
    "start_time": "2021-07-02T08:43:43.973Z"
   },
   {
    "duration": 13,
    "start_time": "2021-07-02T08:44:27.098Z"
   },
   {
    "duration": 263,
    "start_time": "2021-07-02T08:45:19.133Z"
   },
   {
    "duration": 39,
    "start_time": "2021-07-02T08:45:20.942Z"
   },
   {
    "duration": 22,
    "start_time": "2021-07-02T08:45:34.362Z"
   },
   {
    "duration": 39,
    "start_time": "2021-07-02T08:46:30.362Z"
   },
   {
    "duration": 22,
    "start_time": "2021-07-02T08:46:31.874Z"
   },
   {
    "duration": 42,
    "start_time": "2021-07-02T08:46:42.149Z"
   },
   {
    "duration": 24,
    "start_time": "2021-07-02T08:46:42.528Z"
   },
   {
    "duration": 41,
    "start_time": "2021-07-02T08:50:58.020Z"
   },
   {
    "duration": 23,
    "start_time": "2021-07-02T08:50:58.656Z"
   },
   {
    "duration": 43,
    "start_time": "2021-07-02T08:51:55.010Z"
   },
   {
    "duration": 23,
    "start_time": "2021-07-02T08:51:55.448Z"
   },
   {
    "duration": 296,
    "start_time": "2021-07-02T08:56:57.461Z"
   },
   {
    "duration": 22,
    "start_time": "2021-07-02T08:56:58.097Z"
   },
   {
    "duration": 43,
    "start_time": "2021-07-02T08:57:05.950Z"
   },
   {
    "duration": 22,
    "start_time": "2021-07-02T08:57:08.224Z"
   },
   {
    "duration": 44,
    "start_time": "2021-07-02T08:57:47.951Z"
   },
   {
    "duration": 21,
    "start_time": "2021-07-02T08:57:48.526Z"
   },
   {
    "duration": 66,
    "start_time": "2021-07-02T08:58:48.000Z"
   },
   {
    "duration": 30,
    "start_time": "2021-07-02T08:58:49.264Z"
   },
   {
    "duration": 51,
    "start_time": "2021-07-02T08:59:12.976Z"
   },
   {
    "duration": 25,
    "start_time": "2021-07-02T08:59:14.139Z"
   },
   {
    "duration": 28,
    "start_time": "2021-07-02T08:59:45.847Z"
   },
   {
    "duration": 18729,
    "start_time": "2021-07-02T09:01:01.091Z"
   },
   {
    "duration": 32,
    "start_time": "2021-07-02T09:01:19.823Z"
   },
   {
    "duration": 17755,
    "start_time": "2021-07-02T09:04:07.662Z"
   },
   {
    "duration": 22,
    "start_time": "2021-07-02T09:04:25.420Z"
   },
   {
    "duration": 33,
    "start_time": "2021-07-02T09:06:01.875Z"
   },
   {
    "duration": 20,
    "start_time": "2021-07-02T09:06:02.491Z"
   },
   {
    "duration": 41,
    "start_time": "2021-07-02T09:10:17.930Z"
   },
   {
    "duration": 15,
    "start_time": "2021-07-02T09:10:18.742Z"
   },
   {
    "duration": 4,
    "start_time": "2021-07-02T09:25:41.801Z"
   },
   {
    "duration": 493,
    "start_time": "2021-07-02T09:25:53.262Z"
   },
   {
    "duration": 4,
    "start_time": "2021-07-02T09:25:58.436Z"
   },
   {
    "duration": 5,
    "start_time": "2021-07-02T09:25:59.431Z"
   },
   {
    "duration": 5629,
    "start_time": "2021-07-02T09:26:11.549Z"
   },
   {
    "duration": 27,
    "start_time": "2021-07-02T09:26:30.032Z"
   },
   {
    "duration": 4,
    "start_time": "2021-07-02T09:27:01.505Z"
   },
   {
    "duration": 7,
    "start_time": "2021-07-02T09:27:05.770Z"
   },
   {
    "duration": 3,
    "start_time": "2021-07-02T09:27:15.610Z"
   },
   {
    "duration": 8,
    "start_time": "2021-07-02T09:27:17.083Z"
   },
   {
    "duration": 10,
    "start_time": "2021-07-02T09:30:32.568Z"
   },
   {
    "duration": 3,
    "start_time": "2021-07-02T09:40:29.298Z"
   },
   {
    "duration": 9,
    "start_time": "2021-07-02T09:52:02.937Z"
   },
   {
    "duration": 5096,
    "start_time": "2021-07-02T09:55:37.997Z"
   },
   {
    "duration": 812,
    "start_time": "2021-07-02T09:55:42.283Z"
   },
   {
    "duration": 4,
    "start_time": "2021-07-02T09:55:59.417Z"
   },
   {
    "duration": 5218,
    "start_time": "2021-07-02T09:56:00.694Z"
   },
   {
    "duration": 4931,
    "start_time": "2021-07-02T09:56:44.580Z"
   },
   {
    "duration": 8,
    "start_time": "2021-07-02T09:56:54.032Z"
   },
   {
    "duration": 4,
    "start_time": "2021-07-02T09:57:52.484Z"
   },
   {
    "duration": 8,
    "start_time": "2021-07-02T09:57:53.862Z"
   },
   {
    "duration": 847,
    "start_time": "2021-07-02T10:01:16.472Z"
   },
   {
    "duration": 845,
    "start_time": "2021-07-02T10:01:16.477Z"
   },
   {
    "duration": 845,
    "start_time": "2021-07-02T10:01:16.479Z"
   },
   {
    "duration": 846,
    "start_time": "2021-07-02T10:01:16.481Z"
   },
   {
    "duration": 846,
    "start_time": "2021-07-02T10:01:16.483Z"
   },
   {
    "duration": 846,
    "start_time": "2021-07-02T10:01:16.485Z"
   },
   {
    "duration": 845,
    "start_time": "2021-07-02T10:01:16.487Z"
   },
   {
    "duration": 844,
    "start_time": "2021-07-02T10:01:16.489Z"
   },
   {
    "duration": 843,
    "start_time": "2021-07-02T10:01:16.491Z"
   },
   {
    "duration": 843,
    "start_time": "2021-07-02T10:01:16.493Z"
   },
   {
    "duration": 839,
    "start_time": "2021-07-02T10:01:16.498Z"
   },
   {
    "duration": 838,
    "start_time": "2021-07-02T10:01:16.500Z"
   },
   {
    "duration": 776,
    "start_time": "2021-07-02T10:01:16.564Z"
   },
   {
    "duration": 776,
    "start_time": "2021-07-02T10:01:16.566Z"
   },
   {
    "duration": 774,
    "start_time": "2021-07-02T10:01:16.569Z"
   },
   {
    "duration": 773,
    "start_time": "2021-07-02T10:01:16.571Z"
   },
   {
    "duration": 773,
    "start_time": "2021-07-02T10:01:16.573Z"
   },
   {
    "duration": 773,
    "start_time": "2021-07-02T10:01:16.575Z"
   },
   {
    "duration": 766,
    "start_time": "2021-07-02T10:01:16.583Z"
   },
   {
    "duration": 769,
    "start_time": "2021-07-02T10:01:16.585Z"
   },
   {
    "duration": 770,
    "start_time": "2021-07-02T10:01:16.586Z"
   },
   {
    "duration": 770,
    "start_time": "2021-07-02T10:01:16.588Z"
   },
   {
    "duration": 770,
    "start_time": "2021-07-02T10:01:16.589Z"
   },
   {
    "duration": 771,
    "start_time": "2021-07-02T10:01:16.590Z"
   },
   {
    "duration": 771,
    "start_time": "2021-07-02T10:01:16.592Z"
   },
   {
    "duration": 770,
    "start_time": "2021-07-02T10:01:16.594Z"
   },
   {
    "duration": 766,
    "start_time": "2021-07-02T10:01:16.599Z"
   },
   {
    "duration": 767,
    "start_time": "2021-07-02T10:01:16.600Z"
   },
   {
    "duration": 766,
    "start_time": "2021-07-02T10:01:16.602Z"
   },
   {
    "duration": 766,
    "start_time": "2021-07-02T10:01:16.603Z"
   },
   {
    "duration": 766,
    "start_time": "2021-07-02T10:01:16.605Z"
   },
   {
    "duration": 766,
    "start_time": "2021-07-02T10:01:16.606Z"
   },
   {
    "duration": 767,
    "start_time": "2021-07-02T10:01:16.607Z"
   },
   {
    "duration": 4,
    "start_time": "2021-07-02T10:02:09.861Z"
   },
   {
    "duration": 510,
    "start_time": "2021-07-02T10:02:09.869Z"
   },
   {
    "duration": 56,
    "start_time": "2021-07-02T10:02:10.382Z"
   },
   {
    "duration": 205,
    "start_time": "2021-07-02T10:02:10.442Z"
   },
   {
    "duration": 109,
    "start_time": "2021-07-02T10:02:10.655Z"
   },
   {
    "duration": 189,
    "start_time": "2021-07-02T10:02:10.766Z"
   },
   {
    "duration": 53,
    "start_time": "2021-07-02T10:02:10.958Z"
   },
   {
    "duration": 88,
    "start_time": "2021-07-02T10:02:11.013Z"
   },
   {
    "duration": 66,
    "start_time": "2021-07-02T10:02:11.104Z"
   },
   {
    "duration": 158,
    "start_time": "2021-07-02T10:02:11.174Z"
   },
   {
    "duration": 82,
    "start_time": "2021-07-02T10:02:11.335Z"
   },
   {
    "duration": 12,
    "start_time": "2021-07-02T10:02:11.420Z"
   },
   {
    "duration": 20,
    "start_time": "2021-07-02T10:02:11.434Z"
   },
   {
    "duration": 151,
    "start_time": "2021-07-02T10:02:11.456Z"
   },
   {
    "duration": 18,
    "start_time": "2021-07-02T10:02:11.610Z"
   },
   {
    "duration": 47,
    "start_time": "2021-07-02T10:02:11.631Z"
   },
   {
    "duration": 16,
    "start_time": "2021-07-02T10:02:11.680Z"
   },
   {
    "duration": 10,
    "start_time": "2021-07-02T10:02:11.699Z"
   },
   {
    "duration": 53,
    "start_time": "2021-07-02T10:02:11.711Z"
   },
   {
    "duration": 23,
    "start_time": "2021-07-02T10:02:11.766Z"
   },
   {
    "duration": 13,
    "start_time": "2021-07-02T10:02:11.791Z"
   },
   {
    "duration": 19,
    "start_time": "2021-07-02T10:02:11.807Z"
   },
   {
    "duration": 6872,
    "start_time": "2021-07-02T10:02:11.829Z"
   },
   {
    "duration": 850,
    "start_time": "2021-07-02T10:02:17.854Z"
   },
   {
    "duration": 850,
    "start_time": "2021-07-02T10:02:17.855Z"
   },
   {
    "duration": 850,
    "start_time": "2021-07-02T10:02:17.856Z"
   },
   {
    "duration": 850,
    "start_time": "2021-07-02T10:02:17.858Z"
   },
   {
    "duration": 850,
    "start_time": "2021-07-02T10:02:17.859Z"
   },
   {
    "duration": 847,
    "start_time": "2021-07-02T10:02:17.863Z"
   },
   {
    "duration": 847,
    "start_time": "2021-07-02T10:02:17.865Z"
   },
   {
    "duration": 847,
    "start_time": "2021-07-02T10:02:17.866Z"
   },
   {
    "duration": 847,
    "start_time": "2021-07-02T10:02:17.867Z"
   },
   {
    "duration": 847,
    "start_time": "2021-07-02T10:02:17.869Z"
   },
   {
    "duration": 4,
    "start_time": "2021-07-02T10:03:19.760Z"
   },
   {
    "duration": 542,
    "start_time": "2021-07-02T10:03:19.766Z"
   },
   {
    "duration": 57,
    "start_time": "2021-07-02T10:03:20.312Z"
   },
   {
    "duration": 225,
    "start_time": "2021-07-02T10:03:20.373Z"
   },
   {
    "duration": 106,
    "start_time": "2021-07-02T10:03:20.601Z"
   },
   {
    "duration": 193,
    "start_time": "2021-07-02T10:03:20.709Z"
   },
   {
    "duration": 74,
    "start_time": "2021-07-02T10:03:20.904Z"
   },
   {
    "duration": 78,
    "start_time": "2021-07-02T10:03:20.982Z"
   },
   {
    "duration": 49,
    "start_time": "2021-07-02T10:03:21.063Z"
   },
   {
    "duration": 166,
    "start_time": "2021-07-02T10:03:21.114Z"
   },
   {
    "duration": 97,
    "start_time": "2021-07-02T10:03:21.282Z"
   },
   {
    "duration": 16,
    "start_time": "2021-07-02T10:03:21.382Z"
   },
   {
    "duration": 4,
    "start_time": "2021-07-02T10:03:21.401Z"
   },
   {
    "duration": 166,
    "start_time": "2021-07-02T10:03:21.408Z"
   },
   {
    "duration": 21,
    "start_time": "2021-07-02T10:03:21.577Z"
   },
   {
    "duration": 60,
    "start_time": "2021-07-02T10:03:21.601Z"
   },
   {
    "duration": 18,
    "start_time": "2021-07-02T10:03:21.664Z"
   },
   {
    "duration": 13,
    "start_time": "2021-07-02T10:03:21.684Z"
   },
   {
    "duration": 63,
    "start_time": "2021-07-02T10:03:21.700Z"
   },
   {
    "duration": 25,
    "start_time": "2021-07-02T10:03:21.766Z"
   },
   {
    "duration": 16,
    "start_time": "2021-07-02T10:03:21.794Z"
   },
   {
    "duration": 51,
    "start_time": "2021-07-02T10:03:21.813Z"
   },
   {
    "duration": 20,
    "start_time": "2021-07-02T10:03:21.868Z"
   },
   {
    "duration": 14,
    "start_time": "2021-07-02T10:03:21.891Z"
   },
   {
    "duration": 18,
    "start_time": "2021-07-02T10:03:21.907Z"
   },
   {
    "duration": 20,
    "start_time": "2021-07-02T10:03:21.955Z"
   },
   {
    "duration": 9,
    "start_time": "2021-07-02T10:03:21.977Z"
   },
   {
    "duration": 21,
    "start_time": "2021-07-02T10:03:21.988Z"
   },
   {
    "duration": 143,
    "start_time": "2021-07-02T10:03:22.011Z"
   },
   {
    "duration": 597,
    "start_time": "2021-07-02T10:03:22.157Z"
   },
   {
    "duration": 645,
    "start_time": "2021-07-02T10:03:22.756Z"
   },
   {
    "duration": 551,
    "start_time": "2021-07-02T10:03:23.403Z"
   },
   {
    "duration": 4,
    "start_time": "2021-07-02T10:04:02.910Z"
   },
   {
    "duration": 9,
    "start_time": "2021-07-02T10:04:04.788Z"
   },
   {
    "duration": 154391,
    "start_time": "2021-07-02T10:04:09.914Z"
   },
   {
    "duration": 17,
    "start_time": "2021-07-02T10:08:56.075Z"
   },
   {
    "duration": 8,
    "start_time": "2021-07-02T10:09:46.841Z"
   },
   {
    "duration": 290,
    "start_time": "2021-07-02T10:09:55.176Z"
   },
   {
    "duration": 256,
    "start_time": "2021-07-02T10:10:47.235Z"
   },
   {
    "duration": 7,
    "start_time": "2021-07-02T10:11:03.126Z"
   },
   {
    "duration": 10,
    "start_time": "2021-07-02T10:11:49.535Z"
   },
   {
    "duration": 8,
    "start_time": "2021-07-02T10:11:59.562Z"
   },
   {
    "duration": 7,
    "start_time": "2021-07-02T10:12:12.566Z"
   },
   {
    "duration": 4,
    "start_time": "2021-07-02T10:12:16.214Z"
   },
   {
    "duration": 104399,
    "start_time": "2021-07-02T10:12:19.979Z"
   },
   {
    "duration": 25,
    "start_time": "2021-07-02T10:14:08.411Z"
   },
   {
    "duration": 34,
    "start_time": "2021-07-02T10:15:16.118Z"
   },
   {
    "duration": 22,
    "start_time": "2021-07-02T10:15:18.787Z"
   },
   {
    "duration": 21,
    "start_time": "2021-07-02T10:16:02.233Z"
   },
   {
    "duration": 104523,
    "start_time": "2021-07-02T10:16:16.234Z"
   },
   {
    "duration": 17,
    "start_time": "2021-07-02T10:18:06.550Z"
   },
   {
    "duration": 270,
    "start_time": "2021-07-02T10:39:11.077Z"
   },
   {
    "duration": 22,
    "start_time": "2021-07-02T10:39:20.143Z"
   },
   {
    "duration": 1596,
    "start_time": "2021-07-02T10:44:15.087Z"
   },
   {
    "duration": 1240,
    "start_time": "2021-07-02T10:44:33.362Z"
   },
   {
    "duration": 34,
    "start_time": "2021-07-02T10:45:19.994Z"
   },
   {
    "duration": 16,
    "start_time": "2021-07-02T10:45:27.283Z"
   },
   {
    "duration": 855,
    "start_time": "2021-07-02T10:50:29.016Z"
   },
   {
    "duration": 563,
    "start_time": "2021-07-02T10:50:29.874Z"
   },
   {
    "duration": 58,
    "start_time": "2021-07-02T10:50:30.440Z"
   },
   {
    "duration": 275,
    "start_time": "2021-07-02T10:50:30.502Z"
   },
   {
    "duration": 133,
    "start_time": "2021-07-02T10:50:30.780Z"
   },
   {
    "duration": 237,
    "start_time": "2021-07-02T10:50:30.917Z"
   },
   {
    "duration": 57,
    "start_time": "2021-07-02T10:50:31.157Z"
   },
   {
    "duration": 92,
    "start_time": "2021-07-02T10:50:31.220Z"
   },
   {
    "duration": 60,
    "start_time": "2021-07-02T10:50:31.315Z"
   },
   {
    "duration": 177,
    "start_time": "2021-07-02T10:50:31.377Z"
   },
   {
    "duration": 97,
    "start_time": "2021-07-02T10:50:31.557Z"
   },
   {
    "duration": 16,
    "start_time": "2021-07-02T10:50:31.656Z"
   },
   {
    "duration": 3,
    "start_time": "2021-07-02T10:50:31.674Z"
   },
   {
    "duration": 155,
    "start_time": "2021-07-02T10:50:31.679Z"
   },
   {
    "duration": 30,
    "start_time": "2021-07-02T10:50:31.837Z"
   },
   {
    "duration": 34,
    "start_time": "2021-07-02T10:50:31.869Z"
   },
   {
    "duration": 16,
    "start_time": "2021-07-02T10:50:31.905Z"
   },
   {
    "duration": 38,
    "start_time": "2021-07-02T10:50:31.923Z"
   },
   {
    "duration": 32,
    "start_time": "2021-07-02T10:50:31.963Z"
   },
   {
    "duration": 31,
    "start_time": "2021-07-02T10:50:31.999Z"
   },
   {
    "duration": 14,
    "start_time": "2021-07-02T10:50:32.053Z"
   },
   {
    "duration": 16,
    "start_time": "2021-07-02T10:50:32.070Z"
   },
   {
    "duration": 25,
    "start_time": "2021-07-02T10:50:32.091Z"
   },
   {
    "duration": 44,
    "start_time": "2021-07-02T10:50:32.119Z"
   },
   {
    "duration": 17,
    "start_time": "2021-07-02T10:50:32.165Z"
   },
   {
    "duration": 22,
    "start_time": "2021-07-02T10:50:32.185Z"
   },
   {
    "duration": 45,
    "start_time": "2021-07-02T10:50:32.209Z"
   },
   {
    "duration": 16,
    "start_time": "2021-07-02T10:50:32.257Z"
   },
   {
    "duration": 126,
    "start_time": "2021-07-02T10:50:32.276Z"
   },
   {
    "duration": 601,
    "start_time": "2021-07-02T10:50:32.405Z"
   },
   {
    "duration": 625,
    "start_time": "2021-07-02T10:50:33.009Z"
   },
   {
    "duration": 572,
    "start_time": "2021-07-02T10:50:33.637Z"
   },
   {
    "duration": 8,
    "start_time": "2021-07-02T10:50:34.212Z"
   },
   {
    "duration": 47,
    "start_time": "2021-07-02T10:50:34.222Z"
   },
   {
    "duration": 444,
    "start_time": "2021-07-02T10:50:34.272Z"
   },
   {
    "duration": 985,
    "start_time": "2021-07-02T10:50:33.734Z"
   },
   {
    "duration": 333,
    "start_time": "2021-07-02T11:04:13.710Z"
   },
   {
    "duration": 828,
    "start_time": "2021-07-02T11:04:42.405Z"
   },
   {
    "duration": 542,
    "start_time": "2021-07-02T11:04:43.236Z"
   },
   {
    "duration": 54,
    "start_time": "2021-07-02T11:04:43.781Z"
   },
   {
    "duration": 235,
    "start_time": "2021-07-02T11:04:43.838Z"
   },
   {
    "duration": 118,
    "start_time": "2021-07-02T11:04:44.075Z"
   },
   {
    "duration": 215,
    "start_time": "2021-07-02T11:04:44.196Z"
   },
   {
    "duration": 94,
    "start_time": "2021-07-02T11:04:44.414Z"
   },
   {
    "duration": 104,
    "start_time": "2021-07-02T11:04:44.514Z"
   },
   {
    "duration": 65,
    "start_time": "2021-07-02T11:04:44.622Z"
   },
   {
    "duration": 176,
    "start_time": "2021-07-02T11:04:44.690Z"
   },
   {
    "duration": 61,
    "start_time": "2021-07-02T11:04:44.869Z"
   },
   {
    "duration": 34,
    "start_time": "2021-07-02T11:04:44.932Z"
   },
   {
    "duration": 146,
    "start_time": "2021-07-02T11:04:44.968Z"
   },
   {
    "duration": 39,
    "start_time": "2021-07-02T11:04:45.117Z"
   },
   {
    "duration": 37,
    "start_time": "2021-07-02T11:04:45.159Z"
   },
   {
    "duration": 19,
    "start_time": "2021-07-02T11:04:45.199Z"
   },
   {
    "duration": 40,
    "start_time": "2021-07-02T11:04:45.221Z"
   },
   {
    "duration": 51,
    "start_time": "2021-07-02T11:04:45.264Z"
   },
   {
    "duration": 30,
    "start_time": "2021-07-02T11:04:45.318Z"
   },
   {
    "duration": 13,
    "start_time": "2021-07-02T11:04:45.351Z"
   },
   {
    "duration": 21,
    "start_time": "2021-07-02T11:04:45.367Z"
   },
   {
    "duration": 22,
    "start_time": "2021-07-02T11:04:45.391Z"
   },
   {
    "duration": 13,
    "start_time": "2021-07-02T11:04:45.418Z"
   },
   {
    "duration": 18,
    "start_time": "2021-07-02T11:04:45.456Z"
   },
   {
    "duration": 23,
    "start_time": "2021-07-02T11:04:45.476Z"
   },
   {
    "duration": 10,
    "start_time": "2021-07-02T11:04:45.501Z"
   },
   {
    "duration": 55,
    "start_time": "2021-07-02T11:04:45.513Z"
   },
   {
    "duration": 122,
    "start_time": "2021-07-02T11:04:45.570Z"
   },
   {
    "duration": 598,
    "start_time": "2021-07-02T11:04:45.694Z"
   },
   {
    "duration": 645,
    "start_time": "2021-07-02T11:04:46.294Z"
   },
   {
    "duration": 580,
    "start_time": "2021-07-02T11:04:46.942Z"
   },
   {
    "duration": 8,
    "start_time": "2021-07-02T11:04:47.524Z"
   },
   {
    "duration": 45,
    "start_time": "2021-07-02T11:04:47.535Z"
   },
   {
    "duration": 425,
    "start_time": "2021-07-02T11:04:47.583Z"
   },
   {
    "duration": 1000,
    "start_time": "2021-07-02T11:04:47.011Z"
   },
   {
    "duration": 865,
    "start_time": "2021-07-02T11:05:20.539Z"
   },
   {
    "duration": 556,
    "start_time": "2021-07-02T11:05:21.406Z"
   },
   {
    "duration": 54,
    "start_time": "2021-07-02T11:05:21.965Z"
   },
   {
    "duration": 235,
    "start_time": "2021-07-02T11:05:22.022Z"
   },
   {
    "duration": 128,
    "start_time": "2021-07-02T11:05:22.260Z"
   },
   {
    "duration": 200,
    "start_time": "2021-07-02T11:05:22.390Z"
   },
   {
    "duration": 78,
    "start_time": "2021-07-02T11:05:22.592Z"
   },
   {
    "duration": 60,
    "start_time": "2021-07-02T11:05:22.674Z"
   },
   {
    "duration": 47,
    "start_time": "2021-07-02T11:05:22.756Z"
   },
   {
    "duration": 196,
    "start_time": "2021-07-02T11:05:22.805Z"
   },
   {
    "duration": 78,
    "start_time": "2021-07-02T11:05:23.003Z"
   },
   {
    "duration": 16,
    "start_time": "2021-07-02T11:05:23.083Z"
   },
   {
    "duration": 155,
    "start_time": "2021-07-02T11:05:23.101Z"
   },
   {
    "duration": 23,
    "start_time": "2021-07-02T11:05:23.259Z"
   },
   {
    "duration": 38,
    "start_time": "2021-07-02T11:05:23.284Z"
   },
   {
    "duration": 47,
    "start_time": "2021-07-02T11:05:23.324Z"
   },
   {
    "duration": 10,
    "start_time": "2021-07-02T11:05:23.373Z"
   },
   {
    "duration": 29,
    "start_time": "2021-07-02T11:05:23.386Z"
   },
   {
    "duration": 60,
    "start_time": "2021-07-02T11:05:23.418Z"
   },
   {
    "duration": 14,
    "start_time": "2021-07-02T11:05:23.480Z"
   },
   {
    "duration": 28,
    "start_time": "2021-07-02T11:05:23.496Z"
   },
   {
    "duration": 35,
    "start_time": "2021-07-02T11:05:23.527Z"
   },
   {
    "duration": 14,
    "start_time": "2021-07-02T11:05:23.566Z"
   },
   {
    "duration": 32,
    "start_time": "2021-07-02T11:05:23.583Z"
   },
   {
    "duration": 37,
    "start_time": "2021-07-02T11:05:23.617Z"
   },
   {
    "duration": 10,
    "start_time": "2021-07-02T11:05:23.657Z"
   },
   {
    "duration": 27,
    "start_time": "2021-07-02T11:05:23.669Z"
   },
   {
    "duration": 128,
    "start_time": "2021-07-02T11:05:23.699Z"
   },
   {
    "duration": 633,
    "start_time": "2021-07-02T11:05:23.829Z"
   },
   {
    "duration": 661,
    "start_time": "2021-07-02T11:05:24.465Z"
   },
   {
    "duration": 554,
    "start_time": "2021-07-02T11:05:25.128Z"
   },
   {
    "duration": 8,
    "start_time": "2021-07-02T11:05:25.685Z"
   },
   {
    "duration": 28,
    "start_time": "2021-07-02T11:05:25.696Z"
   },
   {
    "duration": 83,
    "start_time": "2021-07-02T11:05:25.727Z"
   },
   {
    "duration": 16,
    "start_time": "2021-07-02T11:05:25.812Z"
   },
   {
    "duration": 55,
    "start_time": "2021-07-02T11:39:25.005Z"
   },
   {
    "duration": 381,
    "start_time": "2021-07-02T19:06:39.690Z"
   },
   {
    "duration": 971,
    "start_time": "2021-07-02T19:06:53.787Z"
   },
   {
    "duration": 667,
    "start_time": "2021-07-02T19:06:54.762Z"
   },
   {
    "duration": 5,
    "start_time": "2021-07-02T19:07:13.668Z"
   },
   {
    "duration": 640,
    "start_time": "2021-07-02T19:07:13.676Z"
   },
   {
    "duration": 75,
    "start_time": "2021-07-02T19:07:14.320Z"
   },
   {
    "duration": 295,
    "start_time": "2021-07-02T19:07:14.399Z"
   },
   {
    "duration": 190,
    "start_time": "2021-07-02T19:07:14.697Z"
   },
   {
    "duration": 243,
    "start_time": "2021-07-02T19:07:14.891Z"
   },
   {
    "duration": 81,
    "start_time": "2021-07-02T19:07:15.138Z"
   },
   {
    "duration": 77,
    "start_time": "2021-07-02T19:07:15.222Z"
   },
   {
    "duration": 85,
    "start_time": "2021-07-02T19:07:15.302Z"
   },
   {
    "duration": 178,
    "start_time": "2021-07-02T19:07:15.390Z"
   },
   {
    "duration": 83,
    "start_time": "2021-07-02T19:07:15.571Z"
   },
   {
    "duration": 31,
    "start_time": "2021-07-02T19:07:15.656Z"
   },
   {
    "duration": 164,
    "start_time": "2021-07-02T19:07:15.689Z"
   },
   {
    "duration": 33,
    "start_time": "2021-07-02T19:07:15.856Z"
   },
   {
    "duration": 37,
    "start_time": "2021-07-02T19:07:15.891Z"
   },
   {
    "duration": 16,
    "start_time": "2021-07-02T19:07:15.931Z"
   },
   {
    "duration": 8,
    "start_time": "2021-07-02T19:07:15.949Z"
   },
   {
    "duration": 372,
    "start_time": "2021-07-02T19:07:21.377Z"
   },
   {
    "duration": 13,
    "start_time": "2021-07-02T19:08:25.930Z"
   },
   {
    "duration": 383,
    "start_time": "2021-07-02T19:08:51.832Z"
   },
   {
    "duration": 341,
    "start_time": "2021-07-02T19:09:01.625Z"
   },
   {
    "duration": 638,
    "start_time": "2021-07-02T19:13:33.605Z"
   },
   {
    "duration": 608,
    "start_time": "2021-07-02T19:14:04.724Z"
   },
   {
    "duration": 659,
    "start_time": "2021-07-02T19:15:03.232Z"
   },
   {
    "duration": 7465,
    "start_time": "2021-07-02T19:16:45.558Z"
   },
   {
    "duration": -110,
    "start_time": "2021-07-02T19:17:06.554Z"
   },
   {
    "duration": 6,
    "start_time": "2021-07-02T19:17:09.936Z"
   },
   {
    "duration": 18,
    "start_time": "2021-07-02T19:17:17.018Z"
   },
   {
    "duration": 469,
    "start_time": "2021-07-02T19:18:29.072Z"
   },
   {
    "duration": 50,
    "start_time": "2021-07-02T19:18:56.180Z"
   },
   {
    "duration": 353,
    "start_time": "2021-07-02T19:21:51.061Z"
   },
   {
    "duration": 20,
    "start_time": "2021-07-02T19:22:06.656Z"
   },
   {
    "duration": 319,
    "start_time": "2021-07-02T19:22:50.811Z"
   },
   {
    "duration": 326,
    "start_time": "2021-07-02T19:22:57.025Z"
   },
   {
    "duration": 45,
    "start_time": "2021-07-02T19:23:03.212Z"
   },
   {
    "duration": 41,
    "start_time": "2021-07-02T19:24:41.255Z"
   },
   {
    "duration": 601,
    "start_time": "2021-07-02T19:31:49.049Z"
   },
   {
    "duration": 591,
    "start_time": "2021-07-02T19:33:37.259Z"
   },
   {
    "duration": 586,
    "start_time": "2021-07-02T19:33:45.951Z"
   },
   {
    "duration": 609,
    "start_time": "2021-07-02T19:35:18.536Z"
   },
   {
    "duration": 641,
    "start_time": "2021-07-02T19:35:57.793Z"
   },
   {
    "duration": 622,
    "start_time": "2021-07-02T19:36:16.297Z"
   },
   {
    "duration": 644,
    "start_time": "2021-07-02T19:36:23.955Z"
   },
   {
    "duration": 621,
    "start_time": "2021-07-02T19:36:39.211Z"
   },
   {
    "duration": 631,
    "start_time": "2021-07-02T19:36:47.154Z"
   },
   {
    "duration": 663,
    "start_time": "2021-07-02T19:37:08.822Z"
   },
   {
    "duration": 626,
    "start_time": "2021-07-02T19:37:15.092Z"
   },
   {
    "duration": 53,
    "start_time": "2021-07-02T19:41:40.011Z"
   },
   {
    "duration": 40,
    "start_time": "2021-07-02T19:42:02.322Z"
   },
   {
    "duration": 47,
    "start_time": "2021-07-02T19:42:15.840Z"
   },
   {
    "duration": 37,
    "start_time": "2021-07-02T19:43:51.840Z"
   },
   {
    "duration": 343,
    "start_time": "2021-07-02T19:44:29.053Z"
   },
   {
    "duration": 303,
    "start_time": "2021-07-02T19:44:44.583Z"
   },
   {
    "duration": 325,
    "start_time": "2021-07-02T19:44:53.202Z"
   },
   {
    "duration": 63,
    "start_time": "2021-07-02T19:45:18.010Z"
   },
   {
    "duration": 74,
    "start_time": "2021-07-02T19:46:18.442Z"
   },
   {
    "duration": 34,
    "start_time": "2021-07-02T19:47:00.369Z"
   },
   {
    "duration": 19,
    "start_time": "2021-07-02T19:49:16.802Z"
   },
   {
    "duration": 270,
    "start_time": "2021-07-03T07:45:50.950Z"
   },
   {
    "duration": 571,
    "start_time": "2021-07-03T07:45:59.447Z"
   },
   {
    "duration": 928,
    "start_time": "2021-07-03T07:46:00.020Z"
   },
   {
    "duration": 34,
    "start_time": "2021-07-03T07:46:00.950Z"
   },
   {
    "duration": 135,
    "start_time": "2021-07-03T07:46:00.986Z"
   },
   {
    "duration": 89,
    "start_time": "2021-07-03T07:46:01.123Z"
   },
   {
    "duration": 121,
    "start_time": "2021-07-03T07:46:01.214Z"
   },
   {
    "duration": 29,
    "start_time": "2021-07-03T07:46:01.337Z"
   },
   {
    "duration": 49,
    "start_time": "2021-07-03T07:46:01.368Z"
   },
   {
    "duration": 31,
    "start_time": "2021-07-03T07:46:01.419Z"
   },
   {
    "duration": 122,
    "start_time": "2021-07-03T07:46:01.452Z"
   },
   {
    "duration": 43,
    "start_time": "2021-07-03T07:46:01.575Z"
   },
   {
    "duration": 9,
    "start_time": "2021-07-03T07:46:01.620Z"
   },
   {
    "duration": 88,
    "start_time": "2021-07-03T07:46:01.631Z"
   },
   {
    "duration": 15,
    "start_time": "2021-07-03T07:46:01.720Z"
   },
   {
    "duration": 21,
    "start_time": "2021-07-03T07:46:01.736Z"
   },
   {
    "duration": 16,
    "start_time": "2021-07-03T07:46:01.759Z"
   },
   {
    "duration": 5,
    "start_time": "2021-07-03T07:46:01.791Z"
   },
   {
    "duration": 341,
    "start_time": "2021-07-03T07:46:01.797Z"
   },
   {
    "duration": 27,
    "start_time": "2021-07-03T07:46:02.140Z"
   },
   {
    "duration": 45,
    "start_time": "2021-07-03T07:46:02.168Z"
   },
   {
    "duration": 22,
    "start_time": "2021-07-03T07:46:02.214Z"
   },
   {
    "duration": 1156,
    "start_time": "2021-07-03T07:46:29.257Z"
   },
   {
    "duration": 1027,
    "start_time": "2021-07-03T07:46:43.503Z"
   },
   {
    "duration": 34,
    "start_time": "2021-07-03T07:47:01.352Z"
   },
   {
    "duration": 30,
    "start_time": "2021-07-03T07:47:28.924Z"
   },
   {
    "duration": 60,
    "start_time": "2021-07-03T07:48:42.322Z"
   },
   {
    "duration": 2,
    "start_time": "2021-07-03T07:54:45.861Z"
   },
   {
    "duration": 412,
    "start_time": "2021-07-03T07:54:45.867Z"
   },
   {
    "duration": 35,
    "start_time": "2021-07-03T07:54:46.281Z"
   },
   {
    "duration": 142,
    "start_time": "2021-07-03T07:54:46.318Z"
   },
   {
    "duration": 72,
    "start_time": "2021-07-03T07:54:46.461Z"
   },
   {
    "duration": 121,
    "start_time": "2021-07-03T07:54:46.535Z"
   },
   {
    "duration": 39,
    "start_time": "2021-07-03T07:54:46.657Z"
   },
   {
    "duration": 31,
    "start_time": "2021-07-03T07:54:46.697Z"
   },
   {
    "duration": 33,
    "start_time": "2021-07-03T07:54:46.729Z"
   },
   {
    "duration": 27,
    "start_time": "2021-07-03T07:54:46.765Z"
   },
   {
    "duration": 74,
    "start_time": "2021-07-03T07:54:46.794Z"
   },
   {
    "duration": 34,
    "start_time": "2021-07-03T07:54:46.869Z"
   },
   {
    "duration": 17,
    "start_time": "2021-07-03T07:54:46.905Z"
   },
   {
    "duration": 11,
    "start_time": "2021-07-03T07:54:46.923Z"
   },
   {
    "duration": 5,
    "start_time": "2021-07-03T07:54:46.935Z"
   },
   {
    "duration": 319,
    "start_time": "2021-07-03T07:54:46.941Z"
   },
   {
    "duration": 46,
    "start_time": "2021-07-03T07:54:47.261Z"
   },
   {
    "duration": 31,
    "start_time": "2021-07-03T07:54:47.309Z"
   },
   {
    "duration": 24,
    "start_time": "2021-07-03T07:54:47.341Z"
   },
   {
    "duration": 60,
    "start_time": "2021-07-03T07:55:05.376Z"
   },
   {
    "duration": 957,
    "start_time": "2021-07-03T15:37:33.791Z"
   },
   {
    "duration": 611,
    "start_time": "2021-07-03T15:37:34.751Z"
   },
   {
    "duration": 67,
    "start_time": "2021-07-03T15:37:35.365Z"
   },
   {
    "duration": 415,
    "start_time": "2021-07-03T15:37:35.435Z"
   },
   {
    "duration": 148,
    "start_time": "2021-07-03T15:37:35.852Z"
   },
   {
    "duration": 232,
    "start_time": "2021-07-03T15:37:36.002Z"
   },
   {
    "duration": 80,
    "start_time": "2021-07-03T15:37:36.237Z"
   },
   {
    "duration": 65,
    "start_time": "2021-07-03T15:37:36.321Z"
   },
   {
    "duration": 88,
    "start_time": "2021-07-03T15:37:36.388Z"
   },
   {
    "duration": 40,
    "start_time": "2021-07-03T15:37:36.478Z"
   },
   {
    "duration": 146,
    "start_time": "2021-07-03T15:37:36.521Z"
   },
   {
    "duration": 21,
    "start_time": "2021-07-03T15:37:36.669Z"
   },
   {
    "duration": 36,
    "start_time": "2021-07-03T15:37:36.709Z"
   },
   {
    "duration": 17,
    "start_time": "2021-07-03T15:37:36.748Z"
   },
   {
    "duration": 8,
    "start_time": "2021-07-03T15:37:36.768Z"
   },
   {
    "duration": 688,
    "start_time": "2021-07-03T15:37:36.778Z"
   },
   {
    "duration": 56,
    "start_time": "2021-07-03T15:37:37.468Z"
   },
   {
    "duration": 49,
    "start_time": "2021-07-03T15:37:37.526Z"
   },
   {
    "duration": 34,
    "start_time": "2021-07-03T15:37:53.955Z"
   },
   {
    "duration": 42,
    "start_time": "2021-07-03T15:42:02.106Z"
   },
   {
    "duration": 588,
    "start_time": "2021-07-03T15:42:17.591Z"
   },
   {
    "duration": 391,
    "start_time": "2021-07-03T15:43:13.069Z"
   },
   {
    "duration": 373,
    "start_time": "2021-07-03T15:45:31.175Z"
   },
   {
    "duration": 4,
    "start_time": "2021-07-03T15:45:37.838Z"
   },
   {
    "duration": 42,
    "start_time": "2021-07-03T15:47:19.703Z"
   },
   {
    "duration": 34,
    "start_time": "2021-07-03T15:47:39.466Z"
   },
   {
    "duration": 362,
    "start_time": "2021-07-03T15:48:04.047Z"
   },
   {
    "duration": 354,
    "start_time": "2021-07-03T15:48:16.355Z"
   },
   {
    "duration": 408,
    "start_time": "2021-07-03T15:49:00.839Z"
   },
   {
    "duration": 374,
    "start_time": "2021-07-03T15:49:05.573Z"
   },
   {
    "duration": 355,
    "start_time": "2021-07-03T15:49:47.077Z"
   },
   {
    "duration": 5,
    "start_time": "2021-07-03T15:50:19.404Z"
   },
   {
    "duration": 438,
    "start_time": "2021-07-03T15:50:26.910Z"
   },
   {
    "duration": 8,
    "start_time": "2021-07-03T15:50:51.406Z"
   },
   {
    "duration": 9,
    "start_time": "2021-07-03T15:51:02.314Z"
   },
   {
    "duration": 9,
    "start_time": "2021-07-03T15:51:09.607Z"
   },
   {
    "duration": 365,
    "start_time": "2021-07-03T15:51:17.119Z"
   },
   {
    "duration": 340,
    "start_time": "2021-07-03T15:51:19.589Z"
   },
   {
    "duration": 5,
    "start_time": "2021-07-03T15:52:41.286Z"
   },
   {
    "duration": 21,
    "start_time": "2021-07-03T15:52:45.332Z"
   },
   {
    "duration": 9,
    "start_time": "2021-07-03T15:53:12.010Z"
   },
   {
    "duration": 24,
    "start_time": "2021-07-03T15:53:19.528Z"
   },
   {
    "duration": 20,
    "start_time": "2021-07-03T15:53:46.749Z"
   },
   {
    "duration": 25,
    "start_time": "2021-07-03T15:54:07.758Z"
   },
   {
    "duration": 44,
    "start_time": "2021-07-03T15:54:17.188Z"
   },
   {
    "duration": 25,
    "start_time": "2021-07-03T16:07:30.642Z"
   },
   {
    "duration": 31,
    "start_time": "2021-07-03T16:07:42.181Z"
   },
   {
    "duration": 60,
    "start_time": "2021-07-03T16:08:14.224Z"
   },
   {
    "duration": 39,
    "start_time": "2021-07-03T16:09:14.059Z"
   },
   {
    "duration": 350,
    "start_time": "2021-07-03T16:09:35.882Z"
   },
   {
    "duration": 38,
    "start_time": "2021-07-03T16:09:45.213Z"
   },
   {
    "duration": 29,
    "start_time": "2021-07-03T16:09:56.876Z"
   },
   {
    "duration": 402,
    "start_time": "2021-07-03T16:10:05.836Z"
   },
   {
    "duration": 367,
    "start_time": "2021-07-03T16:10:25.930Z"
   },
   {
    "duration": 28,
    "start_time": "2021-07-03T16:10:28.325Z"
   },
   {
    "duration": 19,
    "start_time": "2021-07-03T16:12:04.228Z"
   },
   {
    "duration": 34,
    "start_time": "2021-07-03T16:12:12.874Z"
   },
   {
    "duration": 742,
    "start_time": "2021-07-03T16:18:15.015Z"
   },
   {
    "duration": 34,
    "start_time": "2021-07-03T16:18:18.728Z"
   },
   {
    "duration": 363,
    "start_time": "2021-07-03T16:18:19.599Z"
   },
   {
    "duration": 32,
    "start_time": "2021-07-03T16:18:56.365Z"
   },
   {
    "duration": 117,
    "start_time": "2021-07-03T16:23:42.277Z"
   },
   {
    "duration": 41,
    "start_time": "2021-07-03T16:23:47.112Z"
   },
   {
    "duration": 41,
    "start_time": "2021-07-03T16:23:53.906Z"
   },
   {
    "duration": 43,
    "start_time": "2021-07-03T16:23:59.823Z"
   },
   {
    "duration": 4,
    "start_time": "2021-07-03T16:24:16.244Z"
   },
   {
    "duration": 645,
    "start_time": "2021-07-03T16:24:16.252Z"
   },
   {
    "duration": 58,
    "start_time": "2021-07-03T16:24:16.901Z"
   },
   {
    "duration": 246,
    "start_time": "2021-07-03T16:24:16.963Z"
   },
   {
    "duration": 132,
    "start_time": "2021-07-03T16:24:17.212Z"
   },
   {
    "duration": 213,
    "start_time": "2021-07-03T16:24:17.346Z"
   },
   {
    "duration": 71,
    "start_time": "2021-07-03T16:24:17.562Z"
   },
   {
    "duration": 76,
    "start_time": "2021-07-03T16:24:17.637Z"
   },
   {
    "duration": 54,
    "start_time": "2021-07-03T16:24:17.715Z"
   },
   {
    "duration": 37,
    "start_time": "2021-07-03T16:24:17.771Z"
   },
   {
    "duration": 131,
    "start_time": "2021-07-03T16:24:17.810Z"
   },
   {
    "duration": 20,
    "start_time": "2021-07-03T16:24:17.943Z"
   },
   {
    "duration": 58,
    "start_time": "2021-07-03T16:24:17.966Z"
   },
   {
    "duration": 17,
    "start_time": "2021-07-03T16:24:18.027Z"
   },
   {
    "duration": 7,
    "start_time": "2021-07-03T16:24:18.047Z"
   },
   {
    "duration": 683,
    "start_time": "2021-07-03T16:24:18.056Z"
   },
   {
    "duration": 42,
    "start_time": "2021-07-03T16:24:18.742Z"
   },
   {
    "duration": 65,
    "start_time": "2021-07-03T16:24:18.786Z"
   },
   {
    "duration": 34,
    "start_time": "2021-07-03T16:24:34.156Z"
   },
   {
    "duration": 33,
    "start_time": "2021-07-03T16:25:12.276Z"
   },
   {
    "duration": 42,
    "start_time": "2021-07-03T16:25:16.646Z"
   },
   {
    "duration": 347,
    "start_time": "2021-07-03T16:25:24.837Z"
   },
   {
    "duration": 368,
    "start_time": "2021-07-03T16:25:34.174Z"
   },
   {
    "duration": 32,
    "start_time": "2021-07-03T16:25:42.843Z"
   },
   {
    "duration": 38,
    "start_time": "2021-07-03T16:38:48.765Z"
   },
   {
    "duration": 41,
    "start_time": "2021-07-03T16:39:06.555Z"
   },
   {
    "duration": 346,
    "start_time": "2021-07-03T16:39:26.231Z"
   },
   {
    "duration": 40,
    "start_time": "2021-07-03T16:39:31.004Z"
   },
   {
    "duration": 42,
    "start_time": "2021-07-03T16:40:07.759Z"
   },
   {
    "duration": 39,
    "start_time": "2021-07-03T16:42:45.146Z"
   },
   {
    "duration": 21,
    "start_time": "2021-07-03T16:43:10.869Z"
   },
   {
    "duration": 48,
    "start_time": "2021-07-03T16:43:18.365Z"
   },
   {
    "duration": 14,
    "start_time": "2021-07-03T18:06:33.844Z"
   },
   {
    "duration": 4,
    "start_time": "2021-07-03T18:06:43.782Z"
   },
   {
    "duration": 603,
    "start_time": "2021-07-03T18:06:43.789Z"
   },
   {
    "duration": 57,
    "start_time": "2021-07-03T18:06:44.395Z"
   },
   {
    "duration": 219,
    "start_time": "2021-07-03T18:06:44.455Z"
   },
   {
    "duration": 131,
    "start_time": "2021-07-03T18:06:44.678Z"
   },
   {
    "duration": 196,
    "start_time": "2021-07-03T18:06:44.812Z"
   },
   {
    "duration": 64,
    "start_time": "2021-07-03T18:06:45.012Z"
   },
   {
    "duration": 86,
    "start_time": "2021-07-03T18:06:45.079Z"
   },
   {
    "duration": 21,
    "start_time": "2021-07-03T18:06:52.724Z"
   },
   {
    "duration": 362,
    "start_time": "2021-07-03T18:08:48.660Z"
   },
   {
    "duration": 42,
    "start_time": "2021-07-03T18:08:55.861Z"
   },
   {
    "duration": 45,
    "start_time": "2021-07-03T18:09:05.160Z"
   },
   {
    "duration": 45,
    "start_time": "2021-07-03T18:09:14.349Z"
   },
   {
    "duration": 46,
    "start_time": "2021-07-03T18:09:45.742Z"
   },
   {
    "duration": 48,
    "start_time": "2021-07-03T18:09:52.666Z"
   },
   {
    "duration": 46,
    "start_time": "2021-07-03T18:10:05.139Z"
   },
   {
    "duration": 106,
    "start_time": "2021-07-03T18:10:12.924Z"
   },
   {
    "duration": 56,
    "start_time": "2021-07-03T18:10:16.583Z"
   },
   {
    "duration": 105,
    "start_time": "2021-07-03T18:14:22.049Z"
   },
   {
    "duration": 427,
    "start_time": "2021-07-03T18:14:26.854Z"
   },
   {
    "duration": 2435,
    "start_time": "2021-07-03T18:14:36.955Z"
   },
   {
    "duration": 146,
    "start_time": "2021-07-03T18:14:54.418Z"
   },
   {
    "duration": 389,
    "start_time": "2021-07-03T18:15:18.609Z"
   },
   {
    "duration": 114,
    "start_time": "2021-07-03T18:16:05.832Z"
   },
   {
    "duration": 59,
    "start_time": "2021-07-03T18:16:09.511Z"
   },
   {
    "duration": 59,
    "start_time": "2021-07-03T18:16:17.660Z"
   },
   {
    "duration": 153,
    "start_time": "2021-07-03T18:16:26.998Z"
   },
   {
    "duration": 155,
    "start_time": "2021-07-03T18:17:01.247Z"
   },
   {
    "duration": 61,
    "start_time": "2021-07-03T18:19:01.571Z"
   },
   {
    "duration": 22,
    "start_time": "2021-07-03T18:20:41.811Z"
   },
   {
    "duration": 19,
    "start_time": "2021-07-03T18:21:03.033Z"
   },
   {
    "duration": 6,
    "start_time": "2021-07-03T18:21:10.614Z"
   },
   {
    "duration": 16,
    "start_time": "2021-07-03T18:21:29.211Z"
   },
   {
    "duration": 21,
    "start_time": "2021-07-03T18:22:17.135Z"
   },
   {
    "duration": 31,
    "start_time": "2021-07-03T19:16:06.859Z"
   },
   {
    "duration": 178,
    "start_time": "2021-07-03T19:22:30.193Z"
   },
   {
    "duration": 823,
    "start_time": "2021-07-03T19:48:29.735Z"
   },
   {
    "duration": 383,
    "start_time": "2021-07-03T20:14:21.830Z"
   },
   {
    "duration": 763,
    "start_time": "2021-07-03T20:14:45.840Z"
   },
   {
    "duration": 589,
    "start_time": "2021-07-03T20:15:16.737Z"
   },
   {
    "duration": 202,
    "start_time": "2021-07-03T20:15:32.170Z"
   },
   {
    "duration": 591,
    "start_time": "2021-07-03T20:15:39.699Z"
   },
   {
    "duration": 886,
    "start_time": "2021-07-03T20:16:10.294Z"
   },
   {
    "duration": 890,
    "start_time": "2021-07-03T20:16:16.579Z"
   },
   {
    "duration": 592,
    "start_time": "2021-07-03T20:17:18.096Z"
   },
   {
    "duration": 603,
    "start_time": "2021-07-03T20:18:11.903Z"
   },
   {
    "duration": 619,
    "start_time": "2021-07-03T20:18:50.284Z"
   },
   {
    "duration": 594,
    "start_time": "2021-07-03T20:19:13.400Z"
   },
   {
    "duration": 706,
    "start_time": "2021-07-03T20:19:49.371Z"
   },
   {
    "duration": 573,
    "start_time": "2021-07-03T20:20:09.112Z"
   },
   {
    "duration": 584,
    "start_time": "2021-07-03T20:20:32.217Z"
   },
   {
    "duration": 571,
    "start_time": "2021-07-03T20:20:40.574Z"
   },
   {
    "duration": 52,
    "start_time": "2021-07-03T20:23:38.557Z"
   },
   {
    "duration": 116,
    "start_time": "2021-07-03T20:25:28.426Z"
   },
   {
    "duration": 470,
    "start_time": "2021-07-03T20:25:56.959Z"
   },
   {
    "duration": 389,
    "start_time": "2021-07-03T20:27:11.458Z"
   },
   {
    "duration": 427,
    "start_time": "2021-07-03T20:27:34.093Z"
   },
   {
    "duration": 405,
    "start_time": "2021-07-03T20:27:36.735Z"
   },
   {
    "duration": 521,
    "start_time": "2021-07-03T20:28:55.597Z"
   },
   {
    "duration": 433,
    "start_time": "2021-07-03T20:29:00.114Z"
   },
   {
    "duration": 379,
    "start_time": "2021-07-03T20:29:11.815Z"
   },
   {
    "duration": 55,
    "start_time": "2021-07-03T20:29:23.330Z"
   },
   {
    "duration": 806,
    "start_time": "2021-07-03T20:29:30.163Z"
   },
   {
    "duration": 51,
    "start_time": "2021-07-03T20:29:43.959Z"
   },
   {
    "duration": 52,
    "start_time": "2021-07-03T20:29:48.217Z"
   },
   {
    "duration": 54,
    "start_time": "2021-07-03T20:34:25.918Z"
   },
   {
    "duration": 8708,
    "start_time": "2021-07-03T20:36:35.120Z"
   },
   {
    "duration": 41,
    "start_time": "2021-07-03T20:36:50.622Z"
   },
   {
    "duration": 369,
    "start_time": "2021-07-03T20:40:07.830Z"
   },
   {
    "duration": 10958,
    "start_time": "2021-07-03T20:40:14.310Z"
   },
   {
    "duration": 49,
    "start_time": "2021-07-03T20:40:26.149Z"
   },
   {
    "duration": 9000,
    "start_time": "2021-07-03T20:41:49.439Z"
   },
   {
    "duration": 8974,
    "start_time": "2021-07-03T20:41:59.959Z"
   },
   {
    "duration": 50,
    "start_time": "2021-07-03T20:42:28.335Z"
   },
   {
    "duration": 47,
    "start_time": "2021-07-03T20:42:39.208Z"
   },
   {
    "duration": 46,
    "start_time": "2021-07-03T20:43:34.689Z"
   },
   {
    "duration": 29,
    "start_time": "2021-07-03T20:50:49.835Z"
   },
   {
    "duration": 38,
    "start_time": "2021-07-03T20:52:06.199Z"
   },
   {
    "duration": 37,
    "start_time": "2021-07-03T20:55:28.926Z"
   },
   {
    "duration": 21,
    "start_time": "2021-07-03T20:58:41.188Z"
   },
   {
    "duration": 237,
    "start_time": "2021-07-03T21:02:06.711Z"
   },
   {
    "duration": 4,
    "start_time": "2021-07-03T21:03:17.750Z"
   },
   {
    "duration": 588,
    "start_time": "2021-07-03T21:03:17.757Z"
   },
   {
    "duration": 55,
    "start_time": "2021-07-03T21:03:18.348Z"
   },
   {
    "duration": 227,
    "start_time": "2021-07-03T21:03:18.406Z"
   },
   {
    "duration": 118,
    "start_time": "2021-07-03T21:03:18.635Z"
   },
   {
    "duration": 208,
    "start_time": "2021-07-03T21:03:18.755Z"
   },
   {
    "duration": 76,
    "start_time": "2021-07-03T21:03:18.966Z"
   },
   {
    "duration": 78,
    "start_time": "2021-07-03T21:03:19.045Z"
   },
   {
    "duration": 48,
    "start_time": "2021-07-03T21:03:19.126Z"
   },
   {
    "duration": 189,
    "start_time": "2021-07-03T21:03:19.176Z"
   },
   {
    "duration": 80,
    "start_time": "2021-07-03T21:03:19.367Z"
   },
   {
    "duration": 133,
    "start_time": "2021-07-03T21:03:19.450Z"
   },
   {
    "duration": 34,
    "start_time": "2021-07-03T21:03:19.585Z"
   },
   {
    "duration": 17,
    "start_time": "2021-07-03T21:03:19.621Z"
   },
   {
    "duration": 8,
    "start_time": "2021-07-03T21:03:19.641Z"
   },
   {
    "duration": 21,
    "start_time": "2021-07-03T21:03:19.651Z"
   },
   {
    "duration": 61,
    "start_time": "2021-07-03T21:03:27.253Z"
   },
   {
    "duration": 41,
    "start_time": "2021-07-03T21:03:41.406Z"
   },
   {
    "duration": 58,
    "start_time": "2021-07-03T21:04:11.301Z"
   },
   {
    "duration": 39,
    "start_time": "2021-07-03T21:04:26.232Z"
   },
   {
    "duration": 59,
    "start_time": "2021-07-03T21:05:49.707Z"
   },
   {
    "duration": 14,
    "start_time": "2021-07-03T21:14:29.880Z"
   },
   {
    "duration": 25,
    "start_time": "2021-07-03T21:16:11.944Z"
   },
   {
    "duration": 40,
    "start_time": "2021-07-03T21:16:15.963Z"
   },
   {
    "duration": 14,
    "start_time": "2021-07-03T21:16:46.139Z"
   },
   {
    "duration": 4,
    "start_time": "2021-07-03T21:23:13.726Z"
   },
   {
    "duration": 598,
    "start_time": "2021-07-03T21:23:13.734Z"
   },
   {
    "duration": 59,
    "start_time": "2021-07-03T21:23:14.335Z"
   },
   {
    "duration": 218,
    "start_time": "2021-07-03T21:23:14.398Z"
   },
   {
    "duration": 132,
    "start_time": "2021-07-03T21:23:14.619Z"
   },
   {
    "duration": 219,
    "start_time": "2021-07-03T21:23:14.753Z"
   },
   {
    "duration": 73,
    "start_time": "2021-07-03T21:23:14.974Z"
   },
   {
    "duration": 92,
    "start_time": "2021-07-03T21:23:15.050Z"
   },
   {
    "duration": 70,
    "start_time": "2021-07-03T21:23:15.145Z"
   },
   {
    "duration": 165,
    "start_time": "2021-07-03T21:23:15.217Z"
   },
   {
    "duration": 85,
    "start_time": "2021-07-03T21:23:15.385Z"
   },
   {
    "duration": 148,
    "start_time": "2021-07-03T21:23:15.472Z"
   },
   {
    "duration": 17,
    "start_time": "2021-07-03T21:23:15.622Z"
   },
   {
    "duration": 21,
    "start_time": "2021-07-03T21:23:15.642Z"
   },
   {
    "duration": 15,
    "start_time": "2021-07-03T21:23:15.666Z"
   },
   {
    "duration": 43,
    "start_time": "2021-07-03T21:23:15.684Z"
   },
   {
    "duration": 76,
    "start_time": "2021-07-03T21:23:15.730Z"
   },
   {
    "duration": 42,
    "start_time": "2021-07-03T21:23:15.809Z"
   },
   {
    "duration": 66,
    "start_time": "2021-07-03T21:23:15.854Z"
   },
   {
    "duration": 120,
    "start_time": "2021-07-03T21:23:22.492Z"
   },
   {
    "duration": 56,
    "start_time": "2021-07-03T21:23:44.640Z"
   },
   {
    "duration": 24,
    "start_time": "2021-07-03T21:24:25.398Z"
   },
   {
    "duration": 32,
    "start_time": "2021-07-03T21:24:36.948Z"
   },
   {
    "duration": 8382,
    "start_time": "2021-07-03T21:54:29.230Z"
   },
   {
    "duration": 475,
    "start_time": "2021-07-03T21:54:50.055Z"
   },
   {
    "duration": 439,
    "start_time": "2021-07-03T21:55:15.309Z"
   },
   {
    "duration": 5,
    "start_time": "2021-07-03T21:55:18.808Z"
   },
   {
    "duration": 6,
    "start_time": "2021-07-03T21:55:25.411Z"
   },
   {
    "duration": 5,
    "start_time": "2021-07-03T21:55:34.215Z"
   },
   {
    "duration": 6,
    "start_time": "2021-07-03T21:55:45.088Z"
   },
   {
    "duration": 12,
    "start_time": "2021-07-03T21:56:22.408Z"
   },
   {
    "duration": 121,
    "start_time": "2021-07-03T22:07:13.522Z"
   },
   {
    "duration": 358,
    "start_time": "2021-07-03T22:07:19.210Z"
   },
   {
    "duration": 145,
    "start_time": "2021-07-03T22:08:44.394Z"
   },
   {
    "duration": 772,
    "start_time": "2021-07-03T22:08:53.132Z"
   },
   {
    "duration": 11834,
    "start_time": "2021-07-03T22:09:30.726Z"
   },
   {
    "duration": 3415,
    "start_time": "2021-07-03T22:10:02.252Z"
   },
   {
    "duration": 366,
    "start_time": "2021-07-03T22:11:13.791Z"
   },
   {
    "duration": 32,
    "start_time": "2021-07-03T22:11:41.320Z"
   },
   {
    "duration": 30,
    "start_time": "2021-07-03T22:12:43.310Z"
   },
   {
    "duration": 3449,
    "start_time": "2021-07-03T22:12:48.293Z"
   },
   {
    "duration": 4566,
    "start_time": "2021-07-03T22:13:04.858Z"
   },
   {
    "duration": 640,
    "start_time": "2021-07-03T22:13:22.393Z"
   },
   {
    "duration": 3963,
    "start_time": "2021-07-03T22:13:27.596Z"
   },
   {
    "duration": 3787,
    "start_time": "2021-07-03T22:13:52.600Z"
   },
   {
    "duration": 3752,
    "start_time": "2021-07-03T22:14:12.233Z"
   },
   {
    "duration": 626,
    "start_time": "2021-07-03T22:14:36.602Z"
   },
   {
    "duration": 2814,
    "start_time": "2021-07-03T22:14:57.722Z"
   },
   {
    "duration": 5482,
    "start_time": "2021-07-03T22:17:47.804Z"
   },
   {
    "duration": 401,
    "start_time": "2021-07-03T22:22:46.198Z"
   },
   {
    "duration": 16,
    "start_time": "2021-07-03T22:22:55.189Z"
   },
   {
    "duration": 377,
    "start_time": "2021-07-03T22:23:14.035Z"
   },
   {
    "duration": 340,
    "start_time": "2021-07-03T22:24:08.327Z"
   },
   {
    "duration": 18,
    "start_time": "2021-07-03T22:24:14.635Z"
   },
   {
    "duration": 8569,
    "start_time": "2021-07-03T22:24:31.581Z"
   },
   {
    "duration": 10688,
    "start_time": "2021-07-03T22:36:30.489Z"
   },
   {
    "duration": 10706,
    "start_time": "2021-07-03T22:38:22.617Z"
   },
   {
    "duration": 2765,
    "start_time": "2021-07-03T22:40:06.833Z"
   },
   {
    "duration": 2752,
    "start_time": "2021-07-03T22:40:13.722Z"
   },
   {
    "duration": 2743,
    "start_time": "2021-07-03T22:40:16.477Z"
   },
   {
    "duration": 2759,
    "start_time": "2021-07-03T22:40:31.410Z"
   },
   {
    "duration": 2592,
    "start_time": "2021-07-03T22:40:50.095Z"
   },
   {
    "duration": 2753,
    "start_time": "2021-07-03T22:42:05.802Z"
   },
   {
    "duration": 4,
    "start_time": "2021-07-03T22:43:43.051Z"
   },
   {
    "duration": 587,
    "start_time": "2021-07-03T22:43:43.058Z"
   },
   {
    "duration": 54,
    "start_time": "2021-07-03T22:43:43.649Z"
   },
   {
    "duration": 226,
    "start_time": "2021-07-03T22:43:43.706Z"
   },
   {
    "duration": 120,
    "start_time": "2021-07-03T22:43:43.935Z"
   },
   {
    "duration": 196,
    "start_time": "2021-07-03T22:43:44.058Z"
   },
   {
    "duration": 72,
    "start_time": "2021-07-03T22:43:44.256Z"
   },
   {
    "duration": 78,
    "start_time": "2021-07-03T22:43:44.332Z"
   },
   {
    "duration": 48,
    "start_time": "2021-07-03T22:43:44.413Z"
   },
   {
    "duration": 185,
    "start_time": "2021-07-03T22:43:44.463Z"
   },
   {
    "duration": 80,
    "start_time": "2021-07-03T22:43:44.650Z"
   },
   {
    "duration": 136,
    "start_time": "2021-07-03T22:43:44.732Z"
   },
   {
    "duration": 17,
    "start_time": "2021-07-03T22:43:44.870Z"
   },
   {
    "duration": 32,
    "start_time": "2021-07-03T22:43:44.890Z"
   },
   {
    "duration": 8,
    "start_time": "2021-07-03T22:43:44.925Z"
   },
   {
    "duration": 12,
    "start_time": "2021-07-03T22:43:44.935Z"
   },
   {
    "duration": 100,
    "start_time": "2021-07-03T22:43:44.950Z"
   },
   {
    "duration": 56,
    "start_time": "2021-07-03T22:43:45.053Z"
   },
   {
    "duration": 53,
    "start_time": "2021-07-03T22:43:45.111Z"
   },
   {
    "duration": 54,
    "start_time": "2021-07-03T22:43:45.166Z"
   },
   {
    "duration": 30,
    "start_time": "2021-07-03T22:43:45.222Z"
   },
   {
    "duration": 19,
    "start_time": "2021-07-03T22:43:45.255Z"
   },
   {
    "duration": 2879,
    "start_time": "2021-07-03T22:44:30.031Z"
   },
   {
    "duration": 2803,
    "start_time": "2021-07-03T22:44:44.190Z"
   },
   {
    "duration": 2727,
    "start_time": "2021-07-03T22:45:00.187Z"
   },
   {
    "duration": 2577,
    "start_time": "2021-07-03T22:45:18.030Z"
   },
   {
    "duration": 2638,
    "start_time": "2021-07-03T22:45:56.807Z"
   },
   {
    "duration": 4,
    "start_time": "2021-07-03T22:48:07.731Z"
   },
   {
    "duration": 630,
    "start_time": "2021-07-03T22:48:07.738Z"
   },
   {
    "duration": 56,
    "start_time": "2021-07-03T22:48:08.371Z"
   },
   {
    "duration": 217,
    "start_time": "2021-07-03T22:48:08.430Z"
   },
   {
    "duration": 132,
    "start_time": "2021-07-03T22:48:08.649Z"
   },
   {
    "duration": 215,
    "start_time": "2021-07-03T22:48:08.783Z"
   },
   {
    "duration": 63,
    "start_time": "2021-07-03T22:48:09.000Z"
   },
   {
    "duration": 94,
    "start_time": "2021-07-03T22:48:09.067Z"
   },
   {
    "duration": 70,
    "start_time": "2021-07-03T22:48:09.165Z"
   },
   {
    "duration": 177,
    "start_time": "2021-07-03T22:48:09.238Z"
   },
   {
    "duration": 62,
    "start_time": "2021-07-03T22:48:09.418Z"
   },
   {
    "duration": 141,
    "start_time": "2021-07-03T22:48:09.482Z"
   },
   {
    "duration": 17,
    "start_time": "2021-07-03T22:48:09.625Z"
   },
   {
    "duration": 16,
    "start_time": "2021-07-03T22:48:09.645Z"
   },
   {
    "duration": 19,
    "start_time": "2021-07-03T22:48:09.663Z"
   },
   {
    "duration": 31,
    "start_time": "2021-07-03T22:48:09.684Z"
   },
   {
    "duration": 68,
    "start_time": "2021-07-03T22:48:09.717Z"
   },
   {
    "duration": 52,
    "start_time": "2021-07-03T22:48:09.787Z"
   },
   {
    "duration": 74,
    "start_time": "2021-07-03T22:48:09.841Z"
   },
   {
    "duration": 26,
    "start_time": "2021-07-03T22:48:09.917Z"
   },
   {
    "duration": 28,
    "start_time": "2021-07-03T22:48:09.946Z"
   },
   {
    "duration": 43,
    "start_time": "2021-07-03T22:48:09.977Z"
   },
   {
    "duration": 2818,
    "start_time": "2021-07-03T22:48:16.062Z"
   },
   {
    "duration": 2776,
    "start_time": "2021-07-03T22:48:18.883Z"
   },
   {
    "duration": 2742,
    "start_time": "2021-07-03T22:48:21.662Z"
   },
   {
    "duration": 2814,
    "start_time": "2021-07-03T22:48:29.795Z"
   },
   {
    "duration": 2797,
    "start_time": "2021-07-03T22:48:35.151Z"
   },
   {
    "duration": 46,
    "start_time": "2021-07-03T23:01:52.601Z"
   },
   {
    "duration": 26,
    "start_time": "2021-07-03T23:05:09.164Z"
   },
   {
    "duration": 26,
    "start_time": "2021-07-03T23:05:26.588Z"
   },
   {
    "duration": 36,
    "start_time": "2021-07-03T23:05:46.037Z"
   },
   {
    "duration": 59,
    "start_time": "2021-07-03T23:06:00.904Z"
   },
   {
    "duration": 57,
    "start_time": "2021-07-03T23:06:26.081Z"
   },
   {
    "duration": 57,
    "start_time": "2021-07-03T23:06:36.892Z"
   },
   {
    "duration": 4,
    "start_time": "2021-07-03T23:06:56.331Z"
   },
   {
    "duration": 587,
    "start_time": "2021-07-03T23:06:56.338Z"
   },
   {
    "duration": 55,
    "start_time": "2021-07-03T23:06:56.928Z"
   },
   {
    "duration": 241,
    "start_time": "2021-07-03T23:06:56.986Z"
   },
   {
    "duration": 186,
    "start_time": "2021-07-03T23:06:57.230Z"
   },
   {
    "duration": 258,
    "start_time": "2021-07-03T23:06:57.419Z"
   },
   {
    "duration": 74,
    "start_time": "2021-07-03T23:06:57.682Z"
   },
   {
    "duration": 87,
    "start_time": "2021-07-03T23:06:57.760Z"
   },
   {
    "duration": 72,
    "start_time": "2021-07-03T23:06:57.850Z"
   },
   {
    "duration": 171,
    "start_time": "2021-07-03T23:06:57.925Z"
   },
   {
    "duration": 63,
    "start_time": "2021-07-03T23:06:58.110Z"
   },
   {
    "duration": 148,
    "start_time": "2021-07-03T23:06:58.175Z"
   },
   {
    "duration": 20,
    "start_time": "2021-07-03T23:06:58.326Z"
   },
   {
    "duration": 18,
    "start_time": "2021-07-03T23:06:58.349Z"
   },
   {
    "duration": 44,
    "start_time": "2021-07-03T23:06:58.370Z"
   },
   {
    "duration": 11,
    "start_time": "2021-07-03T23:06:58.417Z"
   },
   {
    "duration": 91,
    "start_time": "2021-07-03T23:06:58.431Z"
   },
   {
    "duration": 39,
    "start_time": "2021-07-03T23:06:58.524Z"
   },
   {
    "duration": 74,
    "start_time": "2021-07-03T23:06:58.567Z"
   },
   {
    "duration": 67,
    "start_time": "2021-07-03T23:06:58.644Z"
   },
   {
    "duration": 53,
    "start_time": "2021-07-03T23:06:58.714Z"
   },
   {
    "duration": 18,
    "start_time": "2021-07-03T23:06:58.770Z"
   },
   {
    "duration": 2828,
    "start_time": "2021-07-03T23:06:58.790Z"
   },
   {
    "duration": 2823,
    "start_time": "2021-07-03T23:07:01.621Z"
   },
   {
    "duration": 2802,
    "start_time": "2021-07-03T23:07:04.446Z"
   },
   {
    "duration": 2663,
    "start_time": "2021-07-03T23:07:07.250Z"
   },
   {
    "duration": 2740,
    "start_time": "2021-07-03T23:07:23.876Z"
   },
   {
    "duration": 866,
    "start_time": "2021-07-04T12:40:27.898Z"
   },
   {
    "duration": 606,
    "start_time": "2021-07-04T12:40:28.767Z"
   },
   {
    "duration": 55,
    "start_time": "2021-07-04T12:40:29.376Z"
   },
   {
    "duration": 275,
    "start_time": "2021-07-04T12:40:29.434Z"
   },
   {
    "duration": 133,
    "start_time": "2021-07-04T12:40:29.712Z"
   },
   {
    "duration": 238,
    "start_time": "2021-07-04T12:40:29.847Z"
   },
   {
    "duration": 75,
    "start_time": "2021-07-04T12:40:30.088Z"
   },
   {
    "duration": 59,
    "start_time": "2021-07-04T12:40:30.167Z"
   },
   {
    "duration": 75,
    "start_time": "2021-07-04T12:40:30.229Z"
   },
   {
    "duration": 204,
    "start_time": "2021-07-04T12:40:30.307Z"
   },
   {
    "duration": 86,
    "start_time": "2021-07-04T12:40:30.513Z"
   },
   {
    "duration": 150,
    "start_time": "2021-07-04T12:40:30.602Z"
   },
   {
    "duration": 26,
    "start_time": "2021-07-04T12:40:30.761Z"
   },
   {
    "duration": 32,
    "start_time": "2021-07-04T12:40:30.790Z"
   },
   {
    "duration": 11,
    "start_time": "2021-07-04T12:40:30.825Z"
   },
   {
    "duration": 29,
    "start_time": "2021-07-04T12:40:30.839Z"
   },
   {
    "duration": 101,
    "start_time": "2021-07-04T12:40:30.871Z"
   },
   {
    "duration": 56,
    "start_time": "2021-07-04T12:40:30.975Z"
   },
   {
    "duration": 99,
    "start_time": "2021-07-04T12:40:31.035Z"
   },
   {
    "duration": 114,
    "start_time": "2021-07-04T12:40:31.137Z"
   },
   {
    "duration": 102,
    "start_time": "2021-07-04T12:40:31.262Z"
   },
   {
    "duration": 29,
    "start_time": "2021-07-04T12:40:31.367Z"
   },
   {
    "duration": 2825,
    "start_time": "2021-07-04T12:40:31.403Z"
   },
   {
    "duration": 2717,
    "start_time": "2021-07-04T12:40:34.231Z"
   },
   {
    "duration": 2738,
    "start_time": "2021-07-04T12:40:36.951Z"
   },
   {
    "duration": 2801,
    "start_time": "2021-07-04T12:40:39.692Z"
   },
   {
    "duration": 18,
    "start_time": "2021-07-04T12:40:42.496Z"
   },
   {
    "duration": 539,
    "start_time": "2021-07-04T12:43:35.177Z"
   },
   {
    "duration": 422,
    "start_time": "2021-07-04T12:43:50.405Z"
   },
   {
    "duration": 8342,
    "start_time": "2021-07-04T12:44:03.365Z"
   },
   {
    "duration": 39,
    "start_time": "2021-07-04T12:54:23.005Z"
   },
   {
    "duration": 848,
    "start_time": "2021-07-04T12:56:12.383Z"
   },
   {
    "duration": 16,
    "start_time": "2021-07-04T12:56:39.155Z"
   },
   {
    "duration": 9,
    "start_time": "2021-07-04T13:11:40.529Z"
   },
   {
    "duration": 10,
    "start_time": "2021-07-04T13:12:31.694Z"
   },
   {
    "duration": 39,
    "start_time": "2021-07-04T13:12:52.413Z"
   },
   {
    "duration": 11,
    "start_time": "2021-07-04T13:23:00.658Z"
   },
   {
    "duration": 9,
    "start_time": "2021-07-04T13:23:20.501Z"
   },
   {
    "duration": 12,
    "start_time": "2021-07-04T13:24:27.611Z"
   },
   {
    "duration": 14,
    "start_time": "2021-07-04T13:39:28.484Z"
   },
   {
    "duration": 12,
    "start_time": "2021-07-04T13:39:35.419Z"
   },
   {
    "duration": 908,
    "start_time": "2021-07-04T13:40:52.419Z"
   },
   {
    "duration": 592,
    "start_time": "2021-07-04T13:40:53.330Z"
   },
   {
    "duration": 58,
    "start_time": "2021-07-04T13:40:53.925Z"
   },
   {
    "duration": 258,
    "start_time": "2021-07-04T13:40:53.985Z"
   },
   {
    "duration": 125,
    "start_time": "2021-07-04T13:40:54.246Z"
   },
   {
    "duration": 224,
    "start_time": "2021-07-04T13:40:54.373Z"
   },
   {
    "duration": 81,
    "start_time": "2021-07-04T13:40:54.600Z"
   },
   {
    "duration": 82,
    "start_time": "2021-07-04T13:40:54.683Z"
   },
   {
    "duration": 49,
    "start_time": "2021-07-04T13:40:54.773Z"
   },
   {
    "duration": 215,
    "start_time": "2021-07-04T13:40:54.825Z"
   },
   {
    "duration": 81,
    "start_time": "2021-07-04T13:40:55.043Z"
   },
   {
    "duration": 151,
    "start_time": "2021-07-04T13:40:55.127Z"
   },
   {
    "duration": 26,
    "start_time": "2021-07-04T13:40:55.280Z"
   },
   {
    "duration": 18,
    "start_time": "2021-07-04T13:40:55.309Z"
   },
   {
    "duration": 33,
    "start_time": "2021-07-04T13:40:55.330Z"
   },
   {
    "duration": 10,
    "start_time": "2021-07-04T13:40:55.366Z"
   },
   {
    "duration": 90,
    "start_time": "2021-07-04T13:40:55.379Z"
   },
   {
    "duration": 42,
    "start_time": "2021-07-04T13:40:55.471Z"
   },
   {
    "duration": 78,
    "start_time": "2021-07-04T13:40:55.515Z"
   },
   {
    "duration": 74,
    "start_time": "2021-07-04T13:40:55.595Z"
   },
   {
    "duration": 95,
    "start_time": "2021-07-04T13:40:55.672Z"
   },
   {
    "duration": 26,
    "start_time": "2021-07-04T13:40:55.770Z"
   },
   {
    "duration": 2877,
    "start_time": "2021-07-04T13:40:55.799Z"
   },
   {
    "duration": 2787,
    "start_time": "2021-07-04T13:40:58.679Z"
   },
   {
    "duration": 2807,
    "start_time": "2021-07-04T13:41:01.469Z"
   },
   {
    "duration": 2751,
    "start_time": "2021-07-04T13:41:04.279Z"
   },
   {
    "duration": 13,
    "start_time": "2021-07-04T13:41:07.035Z"
   },
   {
    "duration": 9638,
    "start_time": "2021-07-04T13:41:07.065Z"
   },
   {
    "duration": 13,
    "start_time": "2021-07-04T13:41:16.694Z"
   },
   {
    "duration": 9,
    "start_time": "2021-07-04T13:41:16.699Z"
   },
   {
    "duration": 4,
    "start_time": "2021-07-04T13:41:16.707Z"
   },
   {
    "duration": 3,
    "start_time": "2021-07-04T13:41:16.710Z"
   },
   {
    "duration": 2,
    "start_time": "2021-07-04T13:41:16.713Z"
   },
   {
    "duration": 1,
    "start_time": "2021-07-04T13:41:16.716Z"
   },
   {
    "duration": 8519,
    "start_time": "2021-07-04T13:44:41.453Z"
   },
   {
    "duration": 925,
    "start_time": "2021-07-04T13:50:25.251Z"
   },
   {
    "duration": 771,
    "start_time": "2021-07-04T13:50:26.178Z"
   },
   {
    "duration": 86,
    "start_time": "2021-07-04T13:50:26.953Z"
   },
   {
    "duration": 257,
    "start_time": "2021-07-04T13:50:27.042Z"
   },
   {
    "duration": 131,
    "start_time": "2021-07-04T13:50:27.301Z"
   },
   {
    "duration": 236,
    "start_time": "2021-07-04T13:50:27.436Z"
   },
   {
    "duration": 56,
    "start_time": "2021-07-04T13:50:27.676Z"
   },
   {
    "duration": 86,
    "start_time": "2021-07-04T13:50:27.735Z"
   },
   {
    "duration": 76,
    "start_time": "2021-07-04T13:50:27.825Z"
   },
   {
    "duration": 200,
    "start_time": "2021-07-04T13:50:27.904Z"
   },
   {
    "duration": 88,
    "start_time": "2021-07-04T13:50:28.106Z"
   },
   {
    "duration": 137,
    "start_time": "2021-07-04T13:50:28.197Z"
   },
   {
    "duration": 40,
    "start_time": "2021-07-04T13:50:28.337Z"
   },
   {
    "duration": 23,
    "start_time": "2021-07-04T13:50:28.380Z"
   },
   {
    "duration": 11,
    "start_time": "2021-07-04T13:50:28.406Z"
   },
   {
    "duration": 42,
    "start_time": "2021-07-04T13:50:28.420Z"
   },
   {
    "duration": 73,
    "start_time": "2021-07-04T13:50:28.464Z"
   },
   {
    "duration": 57,
    "start_time": "2021-07-04T13:50:28.539Z"
   },
   {
    "duration": 73,
    "start_time": "2021-07-04T13:50:28.598Z"
   },
   {
    "duration": 57,
    "start_time": "2021-07-04T13:50:28.674Z"
   },
   {
    "duration": 77,
    "start_time": "2021-07-04T13:50:28.734Z"
   },
   {
    "duration": 18,
    "start_time": "2021-07-04T13:50:28.813Z"
   },
   {
    "duration": 2727,
    "start_time": "2021-07-04T13:50:28.836Z"
   },
   {
    "duration": 2736,
    "start_time": "2021-07-04T13:50:31.566Z"
   },
   {
    "duration": 2715,
    "start_time": "2021-07-04T13:50:34.305Z"
   },
   {
    "duration": 2712,
    "start_time": "2021-07-04T13:50:37.022Z"
   },
   {
    "duration": 25,
    "start_time": "2021-07-04T13:50:39.736Z"
   },
   {
    "duration": 121,
    "start_time": "2021-07-04T13:50:39.764Z"
   },
   {
    "duration": 8084,
    "start_time": "2021-07-04T13:50:39.888Z"
   },
   {
    "duration": 36,
    "start_time": "2021-07-04T13:50:47.939Z"
   },
   {
    "duration": 30,
    "start_time": "2021-07-04T13:50:47.946Z"
   },
   {
    "duration": 27,
    "start_time": "2021-07-04T13:50:47.951Z"
   },
   {
    "duration": 25,
    "start_time": "2021-07-04T13:50:47.955Z"
   },
   {
    "duration": 22,
    "start_time": "2021-07-04T13:50:47.959Z"
   },
   {
    "duration": 361,
    "start_time": "2021-07-04T13:52:47.259Z"
   },
   {
    "duration": 585,
    "start_time": "2021-07-04T13:52:58.897Z"
   },
   {
    "duration": 610,
    "start_time": "2021-07-04T13:53:01.504Z"
   },
   {
    "duration": 586,
    "start_time": "2021-07-04T13:53:06.661Z"
   },
   {
    "duration": 599,
    "start_time": "2021-07-04T13:53:10.381Z"
   },
   {
    "duration": 1256,
    "start_time": "2021-07-04T13:57:31.249Z"
   },
   {
    "duration": 597,
    "start_time": "2021-07-04T13:57:32.508Z"
   },
   {
    "duration": 57,
    "start_time": "2021-07-04T13:57:33.108Z"
   },
   {
    "duration": 241,
    "start_time": "2021-07-04T13:57:33.168Z"
   },
   {
    "duration": 124,
    "start_time": "2021-07-04T13:57:33.412Z"
   },
   {
    "duration": 243,
    "start_time": "2021-07-04T13:57:33.538Z"
   },
   {
    "duration": 92,
    "start_time": "2021-07-04T13:57:33.783Z"
   },
   {
    "duration": 85,
    "start_time": "2021-07-04T13:57:33.879Z"
   },
   {
    "duration": 49,
    "start_time": "2021-07-04T13:57:33.967Z"
   },
   {
    "duration": 215,
    "start_time": "2021-07-04T13:57:34.019Z"
   },
   {
    "duration": 95,
    "start_time": "2021-07-04T13:57:34.237Z"
   },
   {
    "duration": 168,
    "start_time": "2021-07-04T13:57:34.335Z"
   },
   {
    "duration": 28,
    "start_time": "2021-07-04T13:57:34.506Z"
   },
   {
    "duration": 37,
    "start_time": "2021-07-04T13:57:34.537Z"
   },
   {
    "duration": 12,
    "start_time": "2021-07-04T13:57:34.578Z"
   },
   {
    "duration": 12,
    "start_time": "2021-07-04T13:57:34.593Z"
   },
   {
    "duration": 107,
    "start_time": "2021-07-04T13:57:34.608Z"
   },
   {
    "duration": 57,
    "start_time": "2021-07-04T13:57:34.717Z"
   },
   {
    "duration": 52,
    "start_time": "2021-07-04T13:57:34.777Z"
   },
   {
    "duration": 85,
    "start_time": "2021-07-04T13:57:34.831Z"
   },
   {
    "duration": 72,
    "start_time": "2021-07-04T13:57:34.918Z"
   },
   {
    "duration": 19,
    "start_time": "2021-07-04T13:57:34.993Z"
   },
   {
    "duration": 4185,
    "start_time": "2021-07-04T13:57:35.017Z"
   },
   {
    "duration": 4616,
    "start_time": "2021-07-04T13:57:39.206Z"
   },
   {
    "duration": 2937,
    "start_time": "2021-07-04T13:57:43.825Z"
   },
   {
    "duration": 2811,
    "start_time": "2021-07-04T13:57:46.765Z"
   },
   {
    "duration": 13,
    "start_time": "2021-07-04T13:57:49.578Z"
   },
   {
    "duration": 133,
    "start_time": "2021-07-04T13:57:49.593Z"
   },
   {
    "duration": 906,
    "start_time": "2021-07-04T13:57:49.729Z"
   },
   {
    "duration": 971,
    "start_time": "2021-07-04T13:57:50.638Z"
   },
   {
    "duration": 852,
    "start_time": "2021-07-04T13:57:51.612Z"
   },
   {
    "duration": 12,
    "start_time": "2021-07-04T13:57:52.467Z"
   },
   {
    "duration": 666,
    "start_time": "2021-07-04T13:57:52.483Z"
   },
   {
    "duration": 24,
    "start_time": "2021-07-04T13:57:53.152Z"
   },
   {
    "duration": 874,
    "start_time": "2021-07-05T11:07:31.198Z"
   },
   {
    "duration": 644,
    "start_time": "2021-07-05T11:07:32.075Z"
   },
   {
    "duration": 56,
    "start_time": "2021-07-05T11:07:32.722Z"
   },
   {
    "duration": 255,
    "start_time": "2021-07-05T11:07:32.781Z"
   },
   {
    "duration": 124,
    "start_time": "2021-07-05T11:07:33.038Z"
   },
   {
    "duration": 216,
    "start_time": "2021-07-05T11:07:33.167Z"
   },
   {
    "duration": 57,
    "start_time": "2021-07-05T11:07:33.385Z"
   },
   {
    "duration": 60,
    "start_time": "2021-07-05T11:07:33.469Z"
   },
   {
    "duration": 71,
    "start_time": "2021-07-05T11:07:33.532Z"
   },
   {
    "duration": 204,
    "start_time": "2021-07-05T11:07:33.606Z"
   },
   {
    "duration": 82,
    "start_time": "2021-07-05T11:07:33.812Z"
   },
   {
    "duration": 138,
    "start_time": "2021-07-05T11:07:33.896Z"
   },
   {
    "duration": 36,
    "start_time": "2021-07-05T11:07:34.037Z"
   },
   {
    "duration": 17,
    "start_time": "2021-07-05T11:07:34.076Z"
   },
   {
    "duration": 8,
    "start_time": "2021-07-05T11:07:34.095Z"
   },
   {
    "duration": 21,
    "start_time": "2021-07-05T11:07:34.105Z"
   },
   {
    "duration": 85,
    "start_time": "2021-07-05T11:07:34.129Z"
   },
   {
    "duration": 53,
    "start_time": "2021-07-05T11:07:34.216Z"
   },
   {
    "duration": 51,
    "start_time": "2021-07-05T11:07:34.271Z"
   },
   {
    "duration": 83,
    "start_time": "2021-07-05T11:07:34.324Z"
   },
   {
    "duration": 70,
    "start_time": "2021-07-05T11:07:34.410Z"
   },
   {
    "duration": 19,
    "start_time": "2021-07-05T11:07:34.483Z"
   },
   {
    "duration": 2724,
    "start_time": "2021-07-05T11:07:34.506Z"
   },
   {
    "duration": 2705,
    "start_time": "2021-07-05T11:07:37.232Z"
   },
   {
    "duration": 2647,
    "start_time": "2021-07-05T11:07:39.939Z"
   },
   {
    "duration": 2681,
    "start_time": "2021-07-05T11:07:42.588Z"
   },
   {
    "duration": 14,
    "start_time": "2021-07-05T11:07:45.271Z"
   },
   {
    "duration": 120,
    "start_time": "2021-07-05T11:07:45.288Z"
   },
   {
    "duration": 606,
    "start_time": "2021-07-05T11:07:45.411Z"
   },
   {
    "duration": 686,
    "start_time": "2021-07-05T11:07:46.020Z"
   },
   {
    "duration": 580,
    "start_time": "2021-07-05T11:07:46.709Z"
   },
   {
    "duration": 9,
    "start_time": "2021-07-05T11:07:47.291Z"
   },
   {
    "duration": 484,
    "start_time": "2021-07-05T11:07:47.302Z"
   },
   {
    "duration": 12,
    "start_time": "2021-07-05T11:07:47.788Z"
   },
   {
    "duration": 931,
    "start_time": "2021-07-05T11:34:39.337Z"
   },
   {
    "duration": 638,
    "start_time": "2021-07-05T11:34:40.271Z"
   },
   {
    "duration": 57,
    "start_time": "2021-07-05T11:34:40.912Z"
   },
   {
    "duration": 248,
    "start_time": "2021-07-05T11:34:40.972Z"
   },
   {
    "duration": 119,
    "start_time": "2021-07-05T11:34:41.222Z"
   },
   {
    "duration": 198,
    "start_time": "2021-07-05T11:34:41.343Z"
   },
   {
    "duration": 66,
    "start_time": "2021-07-05T11:34:41.543Z"
   },
   {
    "duration": 85,
    "start_time": "2021-07-05T11:34:41.613Z"
   },
   {
    "duration": 67,
    "start_time": "2021-07-05T11:34:41.701Z"
   },
   {
    "duration": 200,
    "start_time": "2021-07-05T11:34:41.771Z"
   },
   {
    "duration": 69,
    "start_time": "2021-07-05T11:34:41.973Z"
   },
   {
    "duration": 149,
    "start_time": "2021-07-05T11:34:42.044Z"
   },
   {
    "duration": 23,
    "start_time": "2021-07-05T11:34:42.196Z"
   },
   {
    "duration": 18,
    "start_time": "2021-07-05T11:34:42.221Z"
   },
   {
    "duration": 30,
    "start_time": "2021-07-05T11:34:42.241Z"
   },
   {
    "duration": 9,
    "start_time": "2021-07-05T11:34:42.274Z"
   },
   {
    "duration": 94,
    "start_time": "2021-07-05T11:34:42.285Z"
   },
   {
    "duration": 40,
    "start_time": "2021-07-05T11:34:42.381Z"
   },
   {
    "duration": 70,
    "start_time": "2021-07-05T11:34:42.423Z"
   },
   {
    "duration": 72,
    "start_time": "2021-07-05T11:34:42.496Z"
   },
   {
    "duration": 52,
    "start_time": "2021-07-05T11:34:42.571Z"
   },
   {
    "duration": 18,
    "start_time": "2021-07-05T11:34:42.626Z"
   },
   {
    "duration": 2677,
    "start_time": "2021-07-05T11:34:42.668Z"
   },
   {
    "duration": 2928,
    "start_time": "2021-07-05T11:34:45.348Z"
   },
   {
    "duration": 2745,
    "start_time": "2021-07-05T11:34:48.278Z"
   },
   {
    "duration": 2704,
    "start_time": "2021-07-05T11:34:51.025Z"
   },
   {
    "duration": 16,
    "start_time": "2021-07-05T11:34:53.731Z"
   },
   {
    "duration": 122,
    "start_time": "2021-07-05T11:34:53.769Z"
   },
   {
    "duration": 724,
    "start_time": "2021-07-05T11:34:53.894Z"
   },
   {
    "duration": 665,
    "start_time": "2021-07-05T11:34:54.620Z"
   },
   {
    "duration": 737,
    "start_time": "2021-07-05T11:34:55.288Z"
   },
   {
    "duration": 11,
    "start_time": "2021-07-05T11:34:56.028Z"
   },
   {
    "duration": 732,
    "start_time": "2021-07-05T11:34:56.042Z"
   },
   {
    "duration": 13,
    "start_time": "2021-07-05T11:34:56.776Z"
   },
   {
    "duration": 4,
    "start_time": "2021-07-05T12:14:24.042Z"
   },
   {
    "duration": 126,
    "start_time": "2021-07-05T12:14:24.387Z"
   },
   {
    "duration": 5,
    "start_time": "2021-07-05T13:25:20.203Z"
   },
   {
    "duration": 58,
    "start_time": "2021-07-05T13:25:20.700Z"
   },
   {
    "duration": 860,
    "start_time": "2021-07-05T13:25:43.494Z"
   },
   {
    "duration": 619,
    "start_time": "2021-07-05T13:25:44.357Z"
   },
   {
    "duration": 54,
    "start_time": "2021-07-05T13:25:44.979Z"
   },
   {
    "duration": 240,
    "start_time": "2021-07-05T13:25:45.036Z"
   },
   {
    "duration": 116,
    "start_time": "2021-07-05T13:25:45.279Z"
   },
   {
    "duration": 209,
    "start_time": "2021-07-05T13:25:45.397Z"
   },
   {
    "duration": 75,
    "start_time": "2021-07-05T13:25:45.608Z"
   },
   {
    "duration": 82,
    "start_time": "2021-07-05T13:25:45.687Z"
   },
   {
    "duration": 47,
    "start_time": "2021-07-05T13:25:45.772Z"
   },
   {
    "duration": 211,
    "start_time": "2021-07-05T13:25:45.821Z"
   },
   {
    "duration": 85,
    "start_time": "2021-07-05T13:25:46.035Z"
   },
   {
    "duration": 4,
    "start_time": "2021-07-05T13:25:46.122Z"
   },
   {
    "duration": 156,
    "start_time": "2021-07-05T13:25:46.128Z"
   },
   {
    "duration": 26,
    "start_time": "2021-07-05T13:25:46.287Z"
   },
   {
    "duration": 18,
    "start_time": "2021-07-05T13:25:46.316Z"
   },
   {
    "duration": 33,
    "start_time": "2021-07-05T13:25:46.336Z"
   },
   {
    "duration": 9,
    "start_time": "2021-07-05T13:25:46.372Z"
   },
   {
    "duration": 8,
    "start_time": "2021-07-05T13:25:46.384Z"
   },
   {
    "duration": 86,
    "start_time": "2021-07-05T13:25:46.395Z"
   },
   {
    "duration": 40,
    "start_time": "2021-07-05T13:25:46.483Z"
   },
   {
    "duration": 71,
    "start_time": "2021-07-05T13:25:46.526Z"
   },
   {
    "duration": 104,
    "start_time": "2021-07-05T13:25:46.600Z"
   },
   {
    "duration": 67,
    "start_time": "2021-07-05T13:25:46.711Z"
   },
   {
    "duration": 19,
    "start_time": "2021-07-05T13:25:46.781Z"
   },
   {
    "duration": 2725,
    "start_time": "2021-07-05T13:25:46.803Z"
   },
   {
    "duration": 2726,
    "start_time": "2021-07-05T13:25:49.530Z"
   },
   {
    "duration": 2695,
    "start_time": "2021-07-05T13:25:52.259Z"
   },
   {
    "duration": 2671,
    "start_time": "2021-07-05T13:25:54.956Z"
   },
   {
    "duration": 13,
    "start_time": "2021-07-05T13:25:57.629Z"
   },
   {
    "duration": 124,
    "start_time": "2021-07-05T13:25:57.644Z"
   },
   {
    "duration": 612,
    "start_time": "2021-07-05T13:25:57.771Z"
   },
   {
    "duration": 668,
    "start_time": "2021-07-05T13:25:58.385Z"
   },
   {
    "duration": 567,
    "start_time": "2021-07-05T13:25:59.056Z"
   },
   {
    "duration": 9,
    "start_time": "2021-07-05T13:25:59.626Z"
   },
   {
    "duration": 459,
    "start_time": "2021-07-05T13:25:59.637Z"
   },
   {
    "duration": 13,
    "start_time": "2021-07-05T13:26:00.098Z"
   },
   {
    "duration": 653,
    "start_time": "2021-07-05T14:36:27.016Z"
   },
   {
    "duration": 430,
    "start_time": "2021-07-05T14:36:27.671Z"
   },
   {
    "duration": 37,
    "start_time": "2021-07-05T14:36:28.103Z"
   },
   {
    "duration": 142,
    "start_time": "2021-07-05T14:36:28.143Z"
   },
   {
    "duration": 90,
    "start_time": "2021-07-05T14:36:28.288Z"
   },
   {
    "duration": 136,
    "start_time": "2021-07-05T14:36:28.380Z"
   },
   {
    "duration": 41,
    "start_time": "2021-07-05T14:36:28.518Z"
   },
   {
    "duration": 34,
    "start_time": "2021-07-05T14:36:28.561Z"
   },
   {
    "duration": 53,
    "start_time": "2021-07-05T14:36:28.597Z"
   },
   {
    "duration": 115,
    "start_time": "2021-07-05T14:36:28.651Z"
   },
   {
    "duration": 43,
    "start_time": "2021-07-05T14:36:28.767Z"
   },
   {
    "duration": 2,
    "start_time": "2021-07-05T14:36:28.812Z"
   },
   {
    "duration": 97,
    "start_time": "2021-07-05T14:36:28.816Z"
   },
   {
    "duration": 17,
    "start_time": "2021-07-05T14:36:28.915Z"
   },
   {
    "duration": 17,
    "start_time": "2021-07-05T14:36:28.934Z"
   },
   {
    "duration": 5,
    "start_time": "2021-07-05T14:36:28.953Z"
   },
   {
    "duration": 9,
    "start_time": "2021-07-05T14:36:28.959Z"
   },
   {
    "duration": 6,
    "start_time": "2021-07-05T14:36:28.969Z"
   },
   {
    "duration": 65,
    "start_time": "2021-07-05T14:36:28.977Z"
   },
   {
    "duration": 26,
    "start_time": "2021-07-05T14:36:29.043Z"
   },
   {
    "duration": 32,
    "start_time": "2021-07-05T14:36:29.070Z"
   },
   {
    "duration": 53,
    "start_time": "2021-07-05T14:36:29.103Z"
   },
   {
    "duration": 35,
    "start_time": "2021-07-05T14:36:29.159Z"
   },
   {
    "duration": 11,
    "start_time": "2021-07-05T14:36:29.196Z"
   },
   {
    "duration": 1474,
    "start_time": "2021-07-05T14:36:29.209Z"
   },
   {
    "duration": 1429,
    "start_time": "2021-07-05T14:36:30.685Z"
   },
   {
    "duration": 1414,
    "start_time": "2021-07-05T14:36:32.115Z"
   },
   {
    "duration": 1440,
    "start_time": "2021-07-05T14:36:33.530Z"
   },
   {
    "duration": 55,
    "start_time": "2021-07-05T14:36:34.972Z"
   },
   {
    "duration": 317,
    "start_time": "2021-07-05T14:36:35.041Z"
   },
   {
    "duration": 364,
    "start_time": "2021-07-05T14:36:35.359Z"
   },
   {
    "duration": 301,
    "start_time": "2021-07-05T14:36:35.725Z"
   },
   {
    "duration": 13,
    "start_time": "2021-07-05T14:36:36.028Z"
   },
   {
    "duration": 368,
    "start_time": "2021-07-05T14:36:36.042Z"
   },
   {
    "duration": 8,
    "start_time": "2021-07-05T14:37:41.180Z"
   },
   {
    "duration": 8,
    "start_time": "2021-07-05T14:37:43.812Z"
   },
   {
    "duration": 21,
    "start_time": "2021-07-05T14:41:25.966Z"
   },
   {
    "duration": 10,
    "start_time": "2021-07-05T14:41:28.615Z"
   },
   {
    "duration": 23,
    "start_time": "2021-07-05T14:42:24.892Z"
   },
   {
    "duration": 10,
    "start_time": "2021-07-05T14:42:46.061Z"
   },
   {
    "duration": 6,
    "start_time": "2021-07-05T14:44:07.652Z"
   },
   {
    "duration": 310,
    "start_time": "2021-07-05T14:44:37.200Z"
   },
   {
    "duration": 23,
    "start_time": "2021-07-05T14:44:42.185Z"
   },
   {
    "duration": 10,
    "start_time": "2021-07-05T14:45:04.013Z"
   },
   {
    "duration": 7,
    "start_time": "2021-07-05T14:50:53.704Z"
   },
   {
    "duration": 141,
    "start_time": "2021-07-05T14:52:01.510Z"
   },
   {
    "duration": 256,
    "start_time": "2021-07-05T14:52:05.275Z"
   },
   {
    "duration": 20,
    "start_time": "2021-07-05T14:52:30.432Z"
   },
   {
    "duration": 7077,
    "start_time": "2021-07-05T14:53:56.403Z"
   },
   {
    "duration": 18,
    "start_time": "2021-07-05T14:54:21.536Z"
   },
   {
    "duration": 9,
    "start_time": "2021-07-05T14:59:10.567Z"
   },
   {
    "duration": 7,
    "start_time": "2021-07-05T14:59:22.033Z"
   },
   {
    "duration": 269,
    "start_time": "2021-07-05T14:59:30.553Z"
   },
   {
    "duration": 18,
    "start_time": "2021-07-05T14:59:48.626Z"
   },
   {
    "duration": 20,
    "start_time": "2021-07-05T15:00:30.659Z"
   },
   {
    "duration": 7162,
    "start_time": "2021-07-05T15:08:29.395Z"
   },
   {
    "duration": 6,
    "start_time": "2021-07-05T15:09:09.056Z"
   },
   {
    "duration": 5,
    "start_time": "2021-07-05T15:09:23.664Z"
   },
   {
    "duration": 7385,
    "start_time": "2021-07-05T15:09:49.440Z"
   },
   {
    "duration": 6593,
    "start_time": "2021-07-05T15:10:05.108Z"
   },
   {
    "duration": 18,
    "start_time": "2021-07-05T15:10:32.621Z"
   },
   {
    "duration": 10,
    "start_time": "2021-07-05T15:10:40.170Z"
   },
   {
    "duration": 10,
    "start_time": "2021-07-05T15:10:45.591Z"
   },
   {
    "duration": 252,
    "start_time": "2021-07-05T15:10:57.532Z"
   },
   {
    "duration": 7099,
    "start_time": "2021-07-05T15:11:10.092Z"
   },
   {
    "duration": 288,
    "start_time": "2021-07-05T15:12:07.751Z"
   },
   {
    "duration": 10,
    "start_time": "2021-07-05T15:12:21.245Z"
   },
   {
    "duration": 9,
    "start_time": "2021-07-05T15:12:44.602Z"
   },
   {
    "duration": 9,
    "start_time": "2021-07-05T15:12:46.968Z"
   },
   {
    "duration": 2,
    "start_time": "2021-07-05T15:13:00.680Z"
   },
   {
    "duration": 8,
    "start_time": "2021-07-05T15:13:13.038Z"
   },
   {
    "duration": 5,
    "start_time": "2021-07-05T15:13:30.071Z"
   },
   {
    "duration": 7,
    "start_time": "2021-07-05T15:13:42.119Z"
   },
   {
    "duration": 9,
    "start_time": "2021-07-05T15:13:58.897Z"
   },
   {
    "duration": 10,
    "start_time": "2021-07-05T15:14:04.682Z"
   },
   {
    "duration": 23,
    "start_time": "2021-07-05T15:14:29.832Z"
   },
   {
    "duration": 5,
    "start_time": "2021-07-05T15:14:46.004Z"
   },
   {
    "duration": 17,
    "start_time": "2021-07-05T15:15:02.635Z"
   },
   {
    "duration": 8,
    "start_time": "2021-07-05T15:15:07.441Z"
   },
   {
    "duration": 17,
    "start_time": "2021-07-05T15:15:10.297Z"
   },
   {
    "duration": 262,
    "start_time": "2021-07-05T15:15:23.065Z"
   },
   {
    "duration": 250,
    "start_time": "2021-07-05T15:15:36.993Z"
   },
   {
    "duration": 18,
    "start_time": "2021-07-05T15:15:56.824Z"
   },
   {
    "duration": 244,
    "start_time": "2021-07-05T15:16:02.918Z"
   },
   {
    "duration": 18,
    "start_time": "2021-07-05T15:16:25.699Z"
   },
   {
    "duration": 257,
    "start_time": "2021-07-05T15:16:37.088Z"
   },
   {
    "duration": 175,
    "start_time": "2021-07-05T15:16:44.777Z"
   },
   {
    "duration": 167,
    "start_time": "2021-07-05T15:17:36.571Z"
   },
   {
    "duration": 85,
    "start_time": "2021-07-05T15:35:24.285Z"
   },
   {
    "duration": 80,
    "start_time": "2021-07-05T15:35:50.505Z"
   },
   {
    "duration": 80,
    "start_time": "2021-07-05T15:36:08.736Z"
   },
   {
    "duration": 78,
    "start_time": "2021-07-05T15:36:23.232Z"
   },
   {
    "duration": 83,
    "start_time": "2021-07-05T15:36:34.352Z"
   },
   {
    "duration": 353,
    "start_time": "2021-07-05T15:52:04.612Z"
   },
   {
    "duration": 283,
    "start_time": "2021-07-05T15:52:18.088Z"
   },
   {
    "duration": 292,
    "start_time": "2021-07-05T15:52:29.641Z"
   },
   {
    "duration": 465,
    "start_time": "2021-07-05T15:52:36.150Z"
   },
   {
    "duration": 288,
    "start_time": "2021-07-05T15:54:03.578Z"
   },
   {
    "duration": 479,
    "start_time": "2021-07-05T15:56:59.267Z"
   },
   {
    "duration": 418,
    "start_time": "2021-07-05T15:57:37.663Z"
   },
   {
    "duration": 311,
    "start_time": "2021-07-05T15:57:51.975Z"
   },
   {
    "duration": 312,
    "start_time": "2021-07-05T15:58:02.506Z"
   },
   {
    "duration": 307,
    "start_time": "2021-07-05T15:58:10.049Z"
   },
   {
    "duration": 314,
    "start_time": "2021-07-05T15:58:22.727Z"
   },
   {
    "duration": 428,
    "start_time": "2021-07-05T16:00:35.776Z"
   },
   {
    "duration": 613,
    "start_time": "2021-07-06T15:56:27.524Z"
   },
   {
    "duration": 424,
    "start_time": "2021-07-06T15:56:28.139Z"
   },
   {
    "duration": 34,
    "start_time": "2021-07-06T15:56:28.565Z"
   },
   {
    "duration": 133,
    "start_time": "2021-07-06T15:56:28.601Z"
   },
   {
    "duration": 66,
    "start_time": "2021-07-06T15:56:28.735Z"
   },
   {
    "duration": 127,
    "start_time": "2021-07-06T15:56:28.803Z"
   },
   {
    "duration": 34,
    "start_time": "2021-07-06T15:56:28.932Z"
   },
   {
    "duration": 33,
    "start_time": "2021-07-06T15:56:28.968Z"
   },
   {
    "duration": 55,
    "start_time": "2021-07-06T15:56:29.003Z"
   },
   {
    "duration": 108,
    "start_time": "2021-07-06T15:56:29.060Z"
   },
   {
    "duration": 40,
    "start_time": "2021-07-06T15:56:29.170Z"
   },
   {
    "duration": 2,
    "start_time": "2021-07-06T15:56:29.211Z"
   },
   {
    "duration": 92,
    "start_time": "2021-07-06T15:56:29.215Z"
   },
   {
    "duration": 16,
    "start_time": "2021-07-06T15:56:29.309Z"
   },
   {
    "duration": 19,
    "start_time": "2021-07-06T15:56:29.326Z"
   },
   {
    "duration": 4,
    "start_time": "2021-07-06T15:56:29.347Z"
   },
   {
    "duration": 9,
    "start_time": "2021-07-06T15:56:29.353Z"
   },
   {
    "duration": 6,
    "start_time": "2021-07-06T15:56:29.363Z"
   },
   {
    "duration": 45,
    "start_time": "2021-07-06T15:56:29.370Z"
   },
   {
    "duration": 37,
    "start_time": "2021-07-06T15:56:29.416Z"
   },
   {
    "duration": 28,
    "start_time": "2021-07-06T15:56:29.455Z"
   },
   {
    "duration": 30,
    "start_time": "2021-07-06T15:56:29.485Z"
   },
   {
    "duration": 43,
    "start_time": "2021-07-06T15:56:29.518Z"
   },
   {
    "duration": 10,
    "start_time": "2021-07-06T15:56:29.563Z"
   },
   {
    "duration": 1435,
    "start_time": "2021-07-06T15:56:29.575Z"
   },
   {
    "duration": 1383,
    "start_time": "2021-07-06T15:56:31.011Z"
   },
   {
    "duration": 1395,
    "start_time": "2021-07-06T15:56:32.395Z"
   },
   {
    "duration": 1386,
    "start_time": "2021-07-06T15:56:33.791Z"
   },
   {
    "duration": 66,
    "start_time": "2021-07-06T15:56:35.179Z"
   },
   {
    "duration": 313,
    "start_time": "2021-07-06T15:56:35.247Z"
   },
   {
    "duration": 342,
    "start_time": "2021-07-06T15:56:35.562Z"
   },
   {
    "duration": 292,
    "start_time": "2021-07-06T15:56:35.905Z"
   },
   {
    "duration": 6,
    "start_time": "2021-07-06T15:56:36.198Z"
   },
   {
    "duration": 363,
    "start_time": "2021-07-06T15:56:36.205Z"
   },
   {
    "duration": 4,
    "start_time": "2021-07-06T15:56:36.569Z"
   },
   {
    "duration": 191,
    "start_time": "2021-07-06T15:56:36.574Z"
   },
   {
    "duration": 3,
    "start_time": "2021-07-06T16:05:40.057Z"
   },
   {
    "duration": 482,
    "start_time": "2021-07-06T16:05:40.062Z"
   },
   {
    "duration": 35,
    "start_time": "2021-07-06T16:05:40.546Z"
   },
   {
    "duration": 143,
    "start_time": "2021-07-06T16:05:40.582Z"
   },
   {
    "duration": 71,
    "start_time": "2021-07-06T16:05:40.727Z"
   },
   {
    "duration": 121,
    "start_time": "2021-07-06T16:05:40.799Z"
   },
   {
    "duration": 48,
    "start_time": "2021-07-06T16:05:40.922Z"
   },
   {
    "duration": 53,
    "start_time": "2021-07-06T16:05:40.972Z"
   },
   {
    "duration": 59,
    "start_time": "2021-07-06T16:05:41.027Z"
   },
   {
    "duration": 99,
    "start_time": "2021-07-06T16:05:41.087Z"
   },
   {
    "duration": 39,
    "start_time": "2021-07-06T16:05:41.188Z"
   },
   {
    "duration": 13,
    "start_time": "2021-07-06T16:05:41.228Z"
   },
   {
    "duration": 85,
    "start_time": "2021-07-06T16:05:41.243Z"
   },
   {
    "duration": 11,
    "start_time": "2021-07-06T16:05:41.330Z"
   },
   {
    "duration": 36,
    "start_time": "2021-07-06T16:05:41.342Z"
   },
   {
    "duration": 13,
    "start_time": "2021-07-06T16:05:41.379Z"
   },
   {
    "duration": 24,
    "start_time": "2021-07-06T16:05:41.394Z"
   },
   {
    "duration": 19,
    "start_time": "2021-07-06T16:05:41.420Z"
   },
   {
    "duration": 46,
    "start_time": "2021-07-06T16:05:41.441Z"
   },
   {
    "duration": 24,
    "start_time": "2021-07-06T16:05:41.489Z"
   },
   {
    "duration": 37,
    "start_time": "2021-07-06T16:05:41.514Z"
   },
   {
    "duration": 30,
    "start_time": "2021-07-06T16:05:41.553Z"
   },
   {
    "duration": 29,
    "start_time": "2021-07-06T16:05:41.584Z"
   },
   {
    "duration": 27,
    "start_time": "2021-07-06T16:05:41.615Z"
   },
   {
    "duration": 1408,
    "start_time": "2021-07-06T16:05:41.643Z"
   },
   {
    "duration": 1403,
    "start_time": "2021-07-06T16:05:43.052Z"
   },
   {
    "duration": 1511,
    "start_time": "2021-07-06T16:05:44.456Z"
   },
   {
    "duration": 1385,
    "start_time": "2021-07-06T16:05:45.968Z"
   },
   {
    "duration": 56,
    "start_time": "2021-07-06T16:05:47.354Z"
   },
   {
    "duration": 323,
    "start_time": "2021-07-06T16:05:47.412Z"
   },
   {
    "duration": 312,
    "start_time": "2021-07-06T16:05:47.736Z"
   },
   {
    "duration": 295,
    "start_time": "2021-07-06T16:05:48.052Z"
   },
   {
    "duration": 5,
    "start_time": "2021-07-06T16:05:48.349Z"
   },
   {
    "duration": 23,
    "start_time": "2021-07-06T16:05:48.355Z"
   },
   {
    "duration": 15,
    "start_time": "2021-07-06T16:05:48.379Z"
   },
   {
    "duration": 180,
    "start_time": "2021-07-06T16:05:48.395Z"
   },
   {
    "duration": 891,
    "start_time": "2021-07-08T12:16:24.499Z"
   },
   {
    "duration": 602,
    "start_time": "2021-07-08T12:16:25.393Z"
   },
   {
    "duration": 56,
    "start_time": "2021-07-08T12:16:25.998Z"
   },
   {
    "duration": 269,
    "start_time": "2021-07-08T12:16:26.057Z"
   },
   {
    "duration": 129,
    "start_time": "2021-07-08T12:16:26.328Z"
   },
   {
    "duration": 211,
    "start_time": "2021-07-08T12:16:26.459Z"
   },
   {
    "duration": 57,
    "start_time": "2021-07-08T12:16:26.672Z"
   },
   {
    "duration": 94,
    "start_time": "2021-07-08T12:16:26.734Z"
   },
   {
    "duration": 79,
    "start_time": "2021-07-08T12:16:26.833Z"
   },
   {
    "duration": 204,
    "start_time": "2021-07-08T12:16:26.915Z"
   },
   {
    "duration": 88,
    "start_time": "2021-07-08T12:16:27.122Z"
   },
   {
    "duration": 4,
    "start_time": "2021-07-08T12:16:27.212Z"
   },
   {
    "duration": 149,
    "start_time": "2021-07-08T12:16:27.218Z"
   },
   {
    "duration": 27,
    "start_time": "2021-07-08T12:16:27.370Z"
   },
   {
    "duration": 17,
    "start_time": "2021-07-08T12:16:27.399Z"
   },
   {
    "duration": 7,
    "start_time": "2021-07-08T12:16:27.418Z"
   },
   {
    "duration": 8,
    "start_time": "2021-07-08T12:16:27.427Z"
   },
   {
    "duration": 5,
    "start_time": "2021-07-08T12:16:27.468Z"
   },
   {
    "duration": 83,
    "start_time": "2021-07-08T12:16:27.490Z"
   },
   {
    "duration": 42,
    "start_time": "2021-07-08T12:16:27.576Z"
   },
   {
    "duration": 81,
    "start_time": "2021-07-08T12:16:27.620Z"
   },
   {
    "duration": 72,
    "start_time": "2021-07-08T12:16:27.703Z"
   },
   {
    "duration": 55,
    "start_time": "2021-07-08T12:16:27.781Z"
   },
   {
    "duration": 45,
    "start_time": "2021-07-08T12:16:27.839Z"
   },
   {
    "duration": 2880,
    "start_time": "2021-07-08T12:16:27.886Z"
   },
   {
    "duration": 3015,
    "start_time": "2021-07-08T12:16:30.770Z"
   },
   {
    "duration": 2863,
    "start_time": "2021-07-08T12:16:33.787Z"
   },
   {
    "duration": 2898,
    "start_time": "2021-07-08T12:16:36.652Z"
   },
   {
    "duration": 135,
    "start_time": "2021-07-08T12:16:39.553Z"
   },
   {
    "duration": 648,
    "start_time": "2021-07-08T12:16:39.691Z"
   },
   {
    "duration": 690,
    "start_time": "2021-07-08T12:16:40.342Z"
   },
   {
    "duration": 593,
    "start_time": "2021-07-08T12:16:41.035Z"
   },
   {
    "duration": 9,
    "start_time": "2021-07-08T12:16:41.630Z"
   },
   {
    "duration": 452,
    "start_time": "2021-07-08T12:16:41.642Z"
   },
   {
    "duration": 7,
    "start_time": "2021-07-08T12:16:42.096Z"
   },
   {
    "duration": 396,
    "start_time": "2021-07-08T12:16:42.105Z"
   },
   {
    "duration": 899,
    "start_time": "2021-07-08T12:45:29.931Z"
   },
   {
    "duration": 641,
    "start_time": "2021-07-08T12:45:30.833Z"
   },
   {
    "duration": 57,
    "start_time": "2021-07-08T12:45:31.477Z"
   },
   {
    "duration": 288,
    "start_time": "2021-07-08T12:45:31.537Z"
   },
   {
    "duration": 122,
    "start_time": "2021-07-08T12:45:31.827Z"
   },
   {
    "duration": 190,
    "start_time": "2021-07-08T12:45:31.951Z"
   },
   {
    "duration": 91,
    "start_time": "2021-07-08T12:45:32.143Z"
   },
   {
    "duration": 103,
    "start_time": "2021-07-08T12:45:32.239Z"
   },
   {
    "duration": 66,
    "start_time": "2021-07-08T12:45:32.345Z"
   },
   {
    "duration": 192,
    "start_time": "2021-07-08T12:45:32.414Z"
   },
   {
    "duration": 78,
    "start_time": "2021-07-08T12:45:32.610Z"
   },
   {
    "duration": 4,
    "start_time": "2021-07-08T12:45:32.690Z"
   },
   {
    "duration": 143,
    "start_time": "2021-07-08T12:45:32.696Z"
   },
   {
    "duration": 31,
    "start_time": "2021-07-08T12:45:32.841Z"
   },
   {
    "duration": 15,
    "start_time": "2021-07-08T12:45:32.875Z"
   },
   {
    "duration": 7,
    "start_time": "2021-07-08T12:45:32.893Z"
   },
   {
    "duration": 14,
    "start_time": "2021-07-08T12:45:32.903Z"
   },
   {
    "duration": 5,
    "start_time": "2021-07-08T12:45:32.920Z"
   },
   {
    "duration": 99,
    "start_time": "2021-07-08T12:45:32.927Z"
   },
   {
    "duration": 55,
    "start_time": "2021-07-08T12:45:33.029Z"
   },
   {
    "duration": 50,
    "start_time": "2021-07-08T12:45:33.086Z"
   },
   {
    "duration": 76,
    "start_time": "2021-07-08T12:45:33.138Z"
   },
   {
    "duration": 69,
    "start_time": "2021-07-08T12:45:33.218Z"
   },
   {
    "duration": 19,
    "start_time": "2021-07-08T12:45:33.305Z"
   },
   {
    "duration": 2769,
    "start_time": "2021-07-08T12:45:33.326Z"
   },
   {
    "duration": 2625,
    "start_time": "2021-07-08T12:45:36.097Z"
   },
   {
    "duration": 2615,
    "start_time": "2021-07-08T12:45:38.725Z"
   },
   {
    "duration": 2647,
    "start_time": "2021-07-08T12:45:41.343Z"
   },
   {
    "duration": 117,
    "start_time": "2021-07-08T12:45:43.993Z"
   },
   {
    "duration": 902,
    "start_time": "2021-07-08T12:45:44.112Z"
   },
   {
    "duration": 955,
    "start_time": "2021-07-08T12:45:45.017Z"
   },
   {
    "duration": 830,
    "start_time": "2021-07-08T12:45:45.975Z"
   },
   {
    "duration": 11,
    "start_time": "2021-07-08T12:45:46.808Z"
   },
   {
    "duration": 478,
    "start_time": "2021-07-08T12:45:46.823Z"
   },
   {
    "duration": 7,
    "start_time": "2021-07-08T12:45:47.304Z"
   },
   {
    "duration": 388,
    "start_time": "2021-07-08T12:45:47.314Z"
   },
   {
    "duration": 118,
    "start_time": "2021-07-08T12:57:29.073Z"
   },
   {
    "duration": 109,
    "start_time": "2021-07-08T12:57:39.212Z"
   },
   {
    "duration": 127,
    "start_time": "2021-07-08T12:57:44.621Z"
   },
   {
    "duration": 118,
    "start_time": "2021-07-08T13:22:04.630Z"
   },
   {
    "duration": 6,
    "start_time": "2021-07-08T13:23:00.153Z"
   },
   {
    "duration": 21,
    "start_time": "2021-07-08T13:23:05.944Z"
   },
   {
    "duration": 41,
    "start_time": "2021-07-08T13:24:01.261Z"
   },
   {
    "duration": 148,
    "start_time": "2021-07-08T13:24:57.519Z"
   },
   {
    "duration": 44,
    "start_time": "2021-07-08T13:25:02.895Z"
   },
   {
    "duration": 39,
    "start_time": "2021-07-08T13:25:27.430Z"
   },
   {
    "duration": 120,
    "start_time": "2021-07-08T13:27:56.941Z"
   },
   {
    "duration": 126,
    "start_time": "2021-07-08T13:28:11.392Z"
   },
   {
    "duration": 126,
    "start_time": "2021-07-08T13:28:18.397Z"
   },
   {
    "duration": 124,
    "start_time": "2021-07-08T13:28:21.797Z"
   },
   {
    "duration": 138,
    "start_time": "2021-07-08T13:28:24.262Z"
   },
   {
    "duration": 127,
    "start_time": "2021-07-08T13:28:34.788Z"
   },
   {
    "duration": 475,
    "start_time": "2021-07-08T13:30:27.646Z"
   },
   {
    "duration": 9,
    "start_time": "2021-07-08T13:30:34.133Z"
   },
   {
    "duration": 364,
    "start_time": "2021-07-08T13:30:41.910Z"
   },
   {
    "duration": 141,
    "start_time": "2021-07-08T13:31:34.463Z"
   },
   {
    "duration": 135,
    "start_time": "2021-07-08T13:32:03.128Z"
   },
   {
    "duration": 544,
    "start_time": "2021-07-08T13:32:09.880Z"
   },
   {
    "duration": 493,
    "start_time": "2021-07-08T13:32:59.227Z"
   },
   {
    "duration": 580,
    "start_time": "2021-07-08T13:33:07.180Z"
   },
   {
    "duration": 536,
    "start_time": "2021-07-08T13:33:40.251Z"
   },
   {
    "duration": 130,
    "start_time": "2021-07-08T13:42:54.938Z"
   },
   {
    "duration": 127,
    "start_time": "2021-07-08T13:43:04.365Z"
   },
   {
    "duration": 26,
    "start_time": "2021-07-08T13:51:48.506Z"
   },
   {
    "duration": 39,
    "start_time": "2021-07-08T13:57:19.456Z"
   },
   {
    "duration": 33,
    "start_time": "2021-07-08T14:00:44.761Z"
   },
   {
    "duration": 40,
    "start_time": "2021-07-08T14:07:35.465Z"
   },
   {
    "duration": 47,
    "start_time": "2021-07-08T14:13:58.029Z"
   },
   {
    "duration": 1705,
    "start_time": "2021-07-08T14:35:43.664Z"
   },
   {
    "duration": 154,
    "start_time": "2021-07-08T14:36:37.570Z"
   },
   {
    "duration": 6879,
    "start_time": "2021-07-08T14:36:43.944Z"
   },
   {
    "duration": 2920,
    "start_time": "2021-07-08T14:38:03.496Z"
   },
   {
    "duration": 15,
    "start_time": "2021-07-08T14:42:33.239Z"
   },
   {
    "duration": 13,
    "start_time": "2021-07-08T14:43:05.164Z"
   },
   {
    "duration": 1321,
    "start_time": "2021-07-08T16:49:29.813Z"
   },
   {
    "duration": 863,
    "start_time": "2021-07-08T16:49:31.137Z"
   },
   {
    "duration": 111,
    "start_time": "2021-07-08T16:49:32.004Z"
   },
   {
    "duration": 278,
    "start_time": "2021-07-08T16:49:32.172Z"
   },
   {
    "duration": 159,
    "start_time": "2021-07-08T16:49:32.452Z"
   },
   {
    "duration": 769,
    "start_time": "2021-07-08T16:49:32.614Z"
   },
   {
    "duration": 177,
    "start_time": "2021-07-08T16:49:33.392Z"
   },
   {
    "duration": 135,
    "start_time": "2021-07-08T16:49:33.572Z"
   },
   {
    "duration": 162,
    "start_time": "2021-07-08T16:49:33.711Z"
   },
   {
    "duration": 287,
    "start_time": "2021-07-08T16:49:33.876Z"
   },
   {
    "duration": 209,
    "start_time": "2021-07-08T16:49:34.167Z"
   },
   {
    "duration": 8,
    "start_time": "2021-07-08T16:49:34.379Z"
   },
   {
    "duration": 329,
    "start_time": "2021-07-08T16:49:34.390Z"
   },
   {
    "duration": 86,
    "start_time": "2021-07-08T16:49:34.721Z"
   },
   {
    "duration": 86,
    "start_time": "2021-07-08T16:49:34.811Z"
   },
   {
    "duration": 11,
    "start_time": "2021-07-08T16:49:34.900Z"
   },
   {
    "duration": 66,
    "start_time": "2021-07-08T16:49:34.914Z"
   },
   {
    "duration": 4,
    "start_time": "2021-07-08T16:49:34.983Z"
   },
   {
    "duration": 192,
    "start_time": "2021-07-08T16:49:34.990Z"
   },
   {
    "duration": 108,
    "start_time": "2021-07-08T16:49:35.185Z"
   },
   {
    "duration": 185,
    "start_time": "2021-07-08T16:49:35.295Z"
   },
   {
    "duration": 31,
    "start_time": "2021-07-08T16:49:35.483Z"
   },
   {
    "duration": 256,
    "start_time": "2021-07-08T16:49:35.516Z"
   },
   {
    "duration": 141,
    "start_time": "2021-07-08T16:49:35.775Z"
   },
   {
    "duration": 82,
    "start_time": "2021-07-08T16:49:35.919Z"
   },
   {
    "duration": 7398,
    "start_time": "2021-07-08T16:49:36.009Z"
   },
   {
    "duration": 7266,
    "start_time": "2021-07-08T16:49:43.412Z"
   },
   {
    "duration": 7200,
    "start_time": "2021-07-08T16:49:50.682Z"
   },
   {
    "duration": 7119,
    "start_time": "2021-07-08T16:49:57.885Z"
   },
   {
    "duration": 396,
    "start_time": "2021-07-08T16:50:05.006Z"
   },
   {
    "duration": 175,
    "start_time": "2021-07-08T16:50:05.407Z"
   },
   {
    "duration": 1515,
    "start_time": "2021-07-08T16:50:05.584Z"
   },
   {
    "duration": 1665,
    "start_time": "2021-07-08T16:50:07.101Z"
   },
   {
    "duration": 1507,
    "start_time": "2021-07-08T16:50:08.778Z"
   },
   {
    "duration": 3316,
    "start_time": "2021-07-08T16:50:10.288Z"
   },
   {
    "duration": 11,
    "start_time": "2021-07-08T16:50:13.607Z"
   },
   {
    "duration": 576,
    "start_time": "2021-07-08T16:50:13.621Z"
   },
   {
    "duration": 7,
    "start_time": "2021-07-08T16:50:14.201Z"
   },
   {
    "duration": 404,
    "start_time": "2021-07-08T16:50:14.210Z"
   },
   {
    "duration": 961,
    "start_time": "2021-07-08T16:57:35.642Z"
   },
   {
    "duration": 655,
    "start_time": "2021-07-08T16:57:36.606Z"
   },
   {
    "duration": 68,
    "start_time": "2021-07-08T16:57:37.264Z"
   },
   {
    "duration": 281,
    "start_time": "2021-07-08T16:57:37.337Z"
   },
   {
    "duration": 123,
    "start_time": "2021-07-08T16:57:37.621Z"
   },
   {
    "duration": 213,
    "start_time": "2021-07-08T16:57:37.747Z"
   },
   {
    "duration": 63,
    "start_time": "2021-07-08T16:57:37.967Z"
   },
   {
    "duration": 96,
    "start_time": "2021-07-08T16:57:38.036Z"
   },
   {
    "duration": 71,
    "start_time": "2021-07-08T16:57:38.136Z"
   },
   {
    "duration": 207,
    "start_time": "2021-07-08T16:57:38.210Z"
   },
   {
    "duration": 92,
    "start_time": "2021-07-08T16:57:38.419Z"
   },
   {
    "duration": 4,
    "start_time": "2021-07-08T16:57:38.514Z"
   },
   {
    "duration": 156,
    "start_time": "2021-07-08T16:57:38.520Z"
   },
   {
    "duration": 24,
    "start_time": "2021-07-08T16:57:38.679Z"
   },
   {
    "duration": 17,
    "start_time": "2021-07-08T16:57:38.706Z"
   },
   {
    "duration": 8,
    "start_time": "2021-07-08T16:57:38.726Z"
   },
   {
    "duration": 38,
    "start_time": "2021-07-08T16:57:38.736Z"
   },
   {
    "duration": 6,
    "start_time": "2021-07-08T16:57:38.777Z"
   },
   {
    "duration": 91,
    "start_time": "2021-07-08T16:57:38.785Z"
   },
   {
    "duration": 42,
    "start_time": "2021-07-08T16:57:38.879Z"
   },
   {
    "duration": 71,
    "start_time": "2021-07-08T16:57:38.923Z"
   },
   {
    "duration": 13,
    "start_time": "2021-07-08T16:57:38.996Z"
   },
   {
    "duration": 91,
    "start_time": "2021-07-08T16:57:39.013Z"
   },
   {
    "duration": 73,
    "start_time": "2021-07-08T16:57:39.107Z"
   },
   {
    "duration": 18,
    "start_time": "2021-07-08T16:57:39.183Z"
   },
   {
    "duration": 2919,
    "start_time": "2021-07-08T16:57:39.204Z"
   },
   {
    "duration": 2925,
    "start_time": "2021-07-08T16:57:42.126Z"
   },
   {
    "duration": 2790,
    "start_time": "2021-07-08T16:57:45.054Z"
   },
   {
    "duration": 2888,
    "start_time": "2021-07-08T16:57:47.847Z"
   },
   {
    "duration": 150,
    "start_time": "2021-07-08T16:57:50.737Z"
   },
   {
    "duration": 47,
    "start_time": "2021-07-08T16:57:50.889Z"
   },
   {
    "duration": 633,
    "start_time": "2021-07-08T16:57:50.967Z"
   },
   {
    "duration": 686,
    "start_time": "2021-07-08T16:57:51.603Z"
   },
   {
    "duration": 579,
    "start_time": "2021-07-08T16:57:52.291Z"
   },
   {
    "duration": 2962,
    "start_time": "2021-07-08T16:57:52.873Z"
   },
   {
    "duration": 11,
    "start_time": "2021-07-08T16:57:55.838Z"
   },
   {
    "duration": 519,
    "start_time": "2021-07-08T16:57:55.869Z"
   },
   {
    "duration": 7,
    "start_time": "2021-07-08T16:57:56.390Z"
   },
   {
    "duration": 382,
    "start_time": "2021-07-08T16:57:56.399Z"
   }
  ],
  "kernelspec": {
   "display_name": "Python 3",
   "language": "python",
   "name": "python3"
  },
  "language_info": {
   "codemirror_mode": {
    "name": "ipython",
    "version": 3
   },
   "file_extension": ".py",
   "mimetype": "text/x-python",
   "name": "python",
   "nbconvert_exporter": "python",
   "pygments_lexer": "ipython3",
   "version": "3.7.8"
  },
  "toc": {
   "base_numbering": 1,
   "nav_menu": {},
   "number_sections": true,
   "sideBar": true,
   "skip_h1_title": true,
   "title_cell": "Table of Contents",
   "title_sidebar": "Contents",
   "toc_cell": false,
   "toc_position": {},
   "toc_section_display": true,
   "toc_window_display": true
  }
 },
 "nbformat": 4,
 "nbformat_minor": 2
}
