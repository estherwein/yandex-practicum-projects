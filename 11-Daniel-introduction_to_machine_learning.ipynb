{
 "cells": [
  {
   "cell_type": "markdown",
   "id": "ac4ddd63",
   "metadata": {},
   "source": [
    "# Review\n",
    "Hi, my name is Dmitry and I will be reviewing your project.\n",
    "  \n",
    "You can find my comments in colored markdown cells:\n",
    "  \n",
    "<div class=\"alert alert-success\">\n",
    "  If everything is done successfully.\n",
    "</div>\n",
    "  \n",
    "<div class=\"alert alert-warning\">\n",
    "  If I have some (optional) suggestions, or questions to think about, or general comments.\n",
    "</div>\n",
    "  \n",
    "<div class=\"alert alert-danger\">\n",
    "  If a section requires some corrections. Work can't be accepted with red comments.\n",
    "</div>\n",
    "  \n",
    "Please don't remove my comments, as it will make further review iterations much harder for me.\n",
    "  \n",
    "Feel free to reply to my comments or ask questions using the following template:\n",
    "  \n",
    "<div class=\"alert alert-info\">\n",
    "  For your comments and questions.\n",
    "</div>\n",
    "  \n",
    "First of all, thank you for turning in the project! You did a great job! The project is accepted. Good luck on the next sprint!"
   ]
  },
  {
   "cell_type": "code",
   "execution_count": 1,
   "id": "5362c263",
   "metadata": {},
   "outputs": [],
   "source": [
    "!pip install -q --user --upgrade pandas sklearn"
   ]
  },
  {
   "cell_type": "code",
   "execution_count": 2,
   "id": "ae9de36d",
   "metadata": {},
   "outputs": [],
   "source": [
    "import os, warnings\n",
    "import pandas as pd\n",
    "import numpy as np\n",
    "import matplotlib.pyplot as plt\n",
    "from timeit import default_timer as timer\n",
    "from IPython.display import display, Markdown\n",
    "\n",
    "from sklearn.model_selection import train_test_split\n",
    "from sklearn.model_selection import GridSearchCV\n",
    "\n",
    "from sklearn.tree import DecisionTreeClassifier\n",
    "from sklearn.ensemble import RandomForestClassifier\n",
    "from sklearn.linear_model import LogisticRegression\n",
    "\n",
    "from sklearn.dummy import DummyClassifier\n",
    "from sklearn.metrics import accuracy_score, confusion_matrix, plot_confusion_matrix, \\\n",
    "                            f1_score, recall_score, precision_score, matthews_corrcoef"
   ]
  },
  {
   "cell_type": "markdown",
   "id": "fcfd74df",
   "metadata": {},
   "source": [
    "# User behaviour classification\n",
    "#### \\- comissioned by: Mobile carrier \"Megaline\"\n",
    "***\n",
    "\n",
    "Mobile carrier Megaline found out that many of their users use legacy plans.  \n",
    "They wish to recommend them to move to their newer plans: Smart or Ultra.  \n",
    "In order to develop such a system,  \n",
    "we will create classification models which will process the characteristics of users who already use the plans,  \n",
    "and will decide which plan fits the legacy users based this.\n",
    "\n",
    "Our target accuracy for this exercise is  at least 0.75."
   ]
  },
  {
   "cell_type": "markdown",
   "id": "3c7bd9b8",
   "metadata": {},
   "source": [
    "<br>\n",
    "\n",
    "## Table of Contents\n",
    "- [Load dataset](#Load-dataset)\n",
    "- [Split dataset](#Split-dataset)\n",
    "- [Classification models](#Classification-models)\n",
    "    - [Logistic Regression Classifier](#Logistic-Regression-Classifier)\n",
    "    - [Decision Tree Classifier](#Decision-Tree-Classifier)\n",
    "    - [Random Forest Classifier](#Random-Forest-Classifier)\n",
    "    - [Models comparison](#Models-comparison)  \n",
    "- [Sanity check](#Sanity-check)\n",
    "- [Conclusions](#Conclusions)"
   ]
  },
  {
   "cell_type": "markdown",
   "id": "e7997310",
   "metadata": {},
   "source": [
    "<br>\n",
    "\n",
    "## Load dataset\n",
    "***\n",
    "[back](#Table-of-Contents)"
   ]
  },
  {
   "cell_type": "markdown",
   "id": "bb2c5848",
   "metadata": {},
   "source": [
    "Each entry contains monthly behaviour of a user.  \n",
    "Columns' description:\n",
    "- сalls — number of calls\n",
    "- minutes — total call duration in minutes\n",
    "- messages — number of text messages\n",
    "- mb_used — Internet traffic used in MB\n",
    "- is_ultra — plan for the current month (Ultra - 1, Smart - 0)"
   ]
  },
  {
   "cell_type": "code",
   "execution_count": 3,
   "id": "eaa7181d",
   "metadata": {},
   "outputs": [],
   "source": [
    "def find_file(filename):\n",
    "    \"\"\"Returns file path under /datasets directory, if exists, otherwise uses local dir\"\"\"\n",
    "    \n",
    "    filepath = f'/datasets/{filename}'\n",
    "    if not os.path.isfile(filepath):\n",
    "        filepath = filename\n",
    "        \n",
    "    return filepath\n",
    "\n",
    "# find_file('users_behavior.csv')"
   ]
  },
  {
   "cell_type": "code",
   "execution_count": 4,
   "id": "a21bc12f",
   "metadata": {},
   "outputs": [],
   "source": [
    "filename = find_file('users_behavior.csv')"
   ]
  },
  {
   "cell_type": "code",
   "execution_count": 5,
   "id": "22dfbad0",
   "metadata": {},
   "outputs": [
    {
     "name": "stdout",
     "output_type": "stream",
     "text": [
      "    3215    3215  134358 users_behavior.csv\n",
      "calls,minutes,messages,mb_used,is_ultra\n",
      "40.0,311.8999999999999,83.0,19915.42,0\n",
      "85.0,516.75,56.0,22696.96,0\n"
     ]
    }
   ],
   "source": [
    "!wc \"$filename\"\n",
    "!head -n3 \"$filename\""
   ]
  },
  {
   "cell_type": "code",
   "execution_count": 6,
   "id": "e8df1dd0",
   "metadata": {},
   "outputs": [],
   "source": [
    "df = pd.read_csv(filename)"
   ]
  },
  {
   "cell_type": "code",
   "execution_count": 7,
   "id": "d17a62b0",
   "metadata": {},
   "outputs": [
    {
     "data": {
      "text/html": [
       "<div>\n",
       "<style scoped>\n",
       "    .dataframe tbody tr th:only-of-type {\n",
       "        vertical-align: middle;\n",
       "    }\n",
       "\n",
       "    .dataframe tbody tr th {\n",
       "        vertical-align: top;\n",
       "    }\n",
       "\n",
       "    .dataframe thead th {\n",
       "        text-align: right;\n",
       "    }\n",
       "</style>\n",
       "<table border=\"1\" class=\"dataframe\">\n",
       "  <thead>\n",
       "    <tr style=\"text-align: right;\">\n",
       "      <th></th>\n",
       "      <th>calls</th>\n",
       "      <th>minutes</th>\n",
       "      <th>messages</th>\n",
       "      <th>mb_used</th>\n",
       "      <th>is_ultra</th>\n",
       "    </tr>\n",
       "  </thead>\n",
       "  <tbody>\n",
       "    <tr>\n",
       "      <th>0</th>\n",
       "      <td>40.0</td>\n",
       "      <td>311.90</td>\n",
       "      <td>83.0</td>\n",
       "      <td>19915.42</td>\n",
       "      <td>0</td>\n",
       "    </tr>\n",
       "    <tr>\n",
       "      <th>1</th>\n",
       "      <td>85.0</td>\n",
       "      <td>516.75</td>\n",
       "      <td>56.0</td>\n",
       "      <td>22696.96</td>\n",
       "      <td>0</td>\n",
       "    </tr>\n",
       "    <tr>\n",
       "      <th>2</th>\n",
       "      <td>77.0</td>\n",
       "      <td>467.66</td>\n",
       "      <td>86.0</td>\n",
       "      <td>21060.45</td>\n",
       "      <td>0</td>\n",
       "    </tr>\n",
       "    <tr>\n",
       "      <th>3</th>\n",
       "      <td>106.0</td>\n",
       "      <td>745.53</td>\n",
       "      <td>81.0</td>\n",
       "      <td>8437.39</td>\n",
       "      <td>1</td>\n",
       "    </tr>\n",
       "    <tr>\n",
       "      <th>4</th>\n",
       "      <td>66.0</td>\n",
       "      <td>418.74</td>\n",
       "      <td>1.0</td>\n",
       "      <td>14502.75</td>\n",
       "      <td>0</td>\n",
       "    </tr>\n",
       "  </tbody>\n",
       "</table>\n",
       "</div>"
      ],
      "text/plain": [
       "   calls  minutes  messages   mb_used  is_ultra\n",
       "0   40.0   311.90      83.0  19915.42         0\n",
       "1   85.0   516.75      56.0  22696.96         0\n",
       "2   77.0   467.66      86.0  21060.45         0\n",
       "3  106.0   745.53      81.0   8437.39         1\n",
       "4   66.0   418.74       1.0  14502.75         0"
      ]
     },
     "execution_count": 7,
     "metadata": {},
     "output_type": "execute_result"
    }
   ],
   "source": [
    "df.head()"
   ]
  },
  {
   "cell_type": "code",
   "execution_count": 8,
   "id": "07bfbe15",
   "metadata": {},
   "outputs": [
    {
     "data": {
      "text/plain": [
       "(3214, 5)"
      ]
     },
     "execution_count": 8,
     "metadata": {},
     "output_type": "execute_result"
    }
   ],
   "source": [
    "df.shape"
   ]
  },
  {
   "cell_type": "markdown",
   "id": "838f8aa4",
   "metadata": {},
   "source": [
    "We have 3214 observations, and 5 features.  \n",
    "Out of all features, 'is_ultra' is our target feature."
   ]
  },
  {
   "cell_type": "code",
   "execution_count": 9,
   "id": "01a7527c",
   "metadata": {},
   "outputs": [
    {
     "name": "stdout",
     "output_type": "stream",
     "text": [
      "<class 'pandas.core.frame.DataFrame'>\n",
      "RangeIndex: 3214 entries, 0 to 3213\n",
      "Data columns (total 5 columns):\n",
      " #   Column    Non-Null Count  Dtype  \n",
      "---  ------    --------------  -----  \n",
      " 0   calls     3214 non-null   float64\n",
      " 1   minutes   3214 non-null   float64\n",
      " 2   messages  3214 non-null   float64\n",
      " 3   mb_used   3214 non-null   float64\n",
      " 4   is_ultra  3214 non-null   int64  \n",
      "dtypes: float64(4), int64(1)\n",
      "memory usage: 125.7 KB\n"
     ]
    }
   ],
   "source": [
    "df.info(memory_usage='deep')"
   ]
  },
  {
   "cell_type": "code",
   "execution_count": 10,
   "id": "2cc3f294",
   "metadata": {
    "scrolled": true
   },
   "outputs": [
    {
     "data": {
      "text/html": [
       "<div>\n",
       "<style scoped>\n",
       "    .dataframe tbody tr th:only-of-type {\n",
       "        vertical-align: middle;\n",
       "    }\n",
       "\n",
       "    .dataframe tbody tr th {\n",
       "        vertical-align: top;\n",
       "    }\n",
       "\n",
       "    .dataframe thead th {\n",
       "        text-align: right;\n",
       "    }\n",
       "</style>\n",
       "<table border=\"1\" class=\"dataframe\">\n",
       "  <thead>\n",
       "    <tr style=\"text-align: right;\">\n",
       "      <th></th>\n",
       "      <th>calls</th>\n",
       "      <th>minutes</th>\n",
       "      <th>messages</th>\n",
       "      <th>mb_used</th>\n",
       "      <th>is_ultra</th>\n",
       "    </tr>\n",
       "  </thead>\n",
       "  <tbody>\n",
       "    <tr>\n",
       "      <th>count</th>\n",
       "      <td>3214.000000</td>\n",
       "      <td>3214.000000</td>\n",
       "      <td>3214.000000</td>\n",
       "      <td>3214.000000</td>\n",
       "      <td>3214.000000</td>\n",
       "    </tr>\n",
       "    <tr>\n",
       "      <th>mean</th>\n",
       "      <td>63.038892</td>\n",
       "      <td>438.208787</td>\n",
       "      <td>38.281269</td>\n",
       "      <td>17207.673836</td>\n",
       "      <td>0.306472</td>\n",
       "    </tr>\n",
       "    <tr>\n",
       "      <th>std</th>\n",
       "      <td>33.236368</td>\n",
       "      <td>234.569872</td>\n",
       "      <td>36.148326</td>\n",
       "      <td>7570.968246</td>\n",
       "      <td>0.461100</td>\n",
       "    </tr>\n",
       "    <tr>\n",
       "      <th>min</th>\n",
       "      <td>0.000000</td>\n",
       "      <td>0.000000</td>\n",
       "      <td>0.000000</td>\n",
       "      <td>0.000000</td>\n",
       "      <td>0.000000</td>\n",
       "    </tr>\n",
       "    <tr>\n",
       "      <th>25%</th>\n",
       "      <td>40.000000</td>\n",
       "      <td>274.575000</td>\n",
       "      <td>9.000000</td>\n",
       "      <td>12491.902500</td>\n",
       "      <td>0.000000</td>\n",
       "    </tr>\n",
       "    <tr>\n",
       "      <th>50%</th>\n",
       "      <td>62.000000</td>\n",
       "      <td>430.600000</td>\n",
       "      <td>30.000000</td>\n",
       "      <td>16943.235000</td>\n",
       "      <td>0.000000</td>\n",
       "    </tr>\n",
       "    <tr>\n",
       "      <th>75%</th>\n",
       "      <td>82.000000</td>\n",
       "      <td>571.927500</td>\n",
       "      <td>57.000000</td>\n",
       "      <td>21424.700000</td>\n",
       "      <td>1.000000</td>\n",
       "    </tr>\n",
       "    <tr>\n",
       "      <th>max</th>\n",
       "      <td>244.000000</td>\n",
       "      <td>1632.060000</td>\n",
       "      <td>224.000000</td>\n",
       "      <td>49745.730000</td>\n",
       "      <td>1.000000</td>\n",
       "    </tr>\n",
       "  </tbody>\n",
       "</table>\n",
       "</div>"
      ],
      "text/plain": [
       "             calls      minutes     messages       mb_used     is_ultra\n",
       "count  3214.000000  3214.000000  3214.000000   3214.000000  3214.000000\n",
       "mean     63.038892   438.208787    38.281269  17207.673836     0.306472\n",
       "std      33.236368   234.569872    36.148326   7570.968246     0.461100\n",
       "min       0.000000     0.000000     0.000000      0.000000     0.000000\n",
       "25%      40.000000   274.575000     9.000000  12491.902500     0.000000\n",
       "50%      62.000000   430.600000    30.000000  16943.235000     0.000000\n",
       "75%      82.000000   571.927500    57.000000  21424.700000     1.000000\n",
       "max     244.000000  1632.060000   224.000000  49745.730000     1.000000"
      ]
     },
     "execution_count": 10,
     "metadata": {},
     "output_type": "execute_result"
    }
   ],
   "source": [
    "df.describe()"
   ]
  },
  {
   "cell_type": "markdown",
   "id": "1339c118",
   "metadata": {},
   "source": [
    "There are no illogical values (negative numbers, extreme outliers)."
   ]
  },
  {
   "cell_type": "code",
   "execution_count": 11,
   "id": "624818e2",
   "metadata": {},
   "outputs": [
    {
     "data": {
      "text/plain": [
       "calls       0\n",
       "minutes     0\n",
       "messages    0\n",
       "mb_used     0\n",
       "is_ultra    0\n",
       "dtype: int64"
      ]
     },
     "execution_count": 11,
     "metadata": {},
     "output_type": "execute_result"
    }
   ],
   "source": [
    "df.isna().sum()"
   ]
  },
  {
   "cell_type": "markdown",
   "id": "de460c74",
   "metadata": {},
   "source": [
    "There are no missing values."
   ]
  },
  {
   "cell_type": "code",
   "execution_count": 12,
   "id": "4fd5f86f",
   "metadata": {},
   "outputs": [
    {
     "data": {
      "text/html": [
       "<div>\n",
       "<style scoped>\n",
       "    .dataframe tbody tr th:only-of-type {\n",
       "        vertical-align: middle;\n",
       "    }\n",
       "\n",
       "    .dataframe tbody tr th {\n",
       "        vertical-align: top;\n",
       "    }\n",
       "\n",
       "    .dataframe thead th {\n",
       "        text-align: right;\n",
       "    }\n",
       "</style>\n",
       "<table border=\"1\" class=\"dataframe\">\n",
       "  <thead>\n",
       "    <tr style=\"text-align: right;\">\n",
       "      <th></th>\n",
       "      <th>calls</th>\n",
       "      <th>minutes</th>\n",
       "      <th>messages</th>\n",
       "      <th>mb_used</th>\n",
       "      <th>is_ultra</th>\n",
       "    </tr>\n",
       "  </thead>\n",
       "  <tbody>\n",
       "  </tbody>\n",
       "</table>\n",
       "</div>"
      ],
      "text/plain": [
       "Empty DataFrame\n",
       "Columns: [calls, minutes, messages, mb_used, is_ultra]\n",
       "Index: []"
      ]
     },
     "execution_count": 12,
     "metadata": {},
     "output_type": "execute_result"
    }
   ],
   "source": [
    "df[df.duplicated(keep=False)]"
   ]
  },
  {
   "cell_type": "code",
   "execution_count": 13,
   "id": "27f88190",
   "metadata": {},
   "outputs": [
    {
     "data": {
      "text/plain": [
       "0"
      ]
     },
     "execution_count": 13,
     "metadata": {},
     "output_type": "execute_result"
    }
   ],
   "source": [
    "df.duplicated().sum()"
   ]
  },
  {
   "cell_type": "markdown",
   "id": "3ecefb6b",
   "metadata": {},
   "source": [
    "There are no duplicated entries."
   ]
  },
  {
   "cell_type": "markdown",
   "id": "d8fa6dd1",
   "metadata": {},
   "source": [
    "<div class=\"alert alert-success\">\n",
    "<b>Reviewer's comment</b>\n",
    "  \n",
    "Alright, the data was loaded and inspected!\n",
    "  \n",
    "</div>"
   ]
  },
  {
   "cell_type": "markdown",
   "id": "ef85eb71",
   "metadata": {},
   "source": [
    "<br>\n",
    "\n",
    "## Split dataset\n",
    "***\n",
    "[back](#Table-of-Contents)"
   ]
  },
  {
   "cell_type": "markdown",
   "id": "1c3ce66a",
   "metadata": {},
   "source": [
    "Data should be split into Features and Target feature (is_ultra), for the consumption of ML models.  \n",
    "Also, we should split it into 3 different sets:\n",
    "- Training (60%)\n",
    "- Validation (20%)\n",
    "- Testing (20%)\n",
    "\n",
    "We split the data in this way in order to avoid leaking knowledge about the test set into the model settings,  \n",
    "while in the process of tweaking the model's hyperparameters.  \n",
    "\\- https://scikit-learn.org/stable/modules/cross_validation.html"
   ]
  },
  {
   "cell_type": "code",
   "execution_count": 14,
   "id": "e765013b",
   "metadata": {},
   "outputs": [],
   "source": [
    "def split_dataset(df, *args, random_state=42):\n",
    "    \"\"\"Splits a dataset to portions. (train/valid/test)\"\"\"\n",
    "    \n",
    "    assert sum(args) <= 1, \"Arguments' sum must be <= 1\"\n",
    "    \n",
    "    cumsum = (np.cumsum(args) * df.shape[0]).astype('int')\n",
    "    # print(cumsum) # defines on which index to split\n",
    "    \n",
    "    return [n for n in np.split(df.sample(frac=1, random_state=random_state), cumsum) if len(n) != 0]"
   ]
  },
  {
   "cell_type": "code",
   "execution_count": 15,
   "id": "7f44e97f",
   "metadata": {},
   "outputs": [],
   "source": [
    "train_df, valid_df, test_df = split_dataset(df, .6, .2, .2)"
   ]
  },
  {
   "cell_type": "code",
   "execution_count": 16,
   "id": "76b74a84",
   "metadata": {},
   "outputs": [],
   "source": [
    "train_X = train_df.drop('is_ultra', axis=1)\n",
    "train_y = train_df['is_ultra']"
   ]
  },
  {
   "cell_type": "code",
   "execution_count": 17,
   "id": "f0d9d54f",
   "metadata": {},
   "outputs": [],
   "source": [
    "valid_X = valid_df.drop('is_ultra', axis=1)\n",
    "valid_y = valid_df['is_ultra']"
   ]
  },
  {
   "cell_type": "code",
   "execution_count": 18,
   "id": "5aef1632",
   "metadata": {},
   "outputs": [],
   "source": [
    "test_X = test_df.drop('is_ultra', axis=1)\n",
    "test_y = test_df['is_ultra']"
   ]
  },
  {
   "cell_type": "code",
   "execution_count": 19,
   "id": "ac7d9bfe",
   "metadata": {
    "scrolled": true
   },
   "outputs": [
    {
     "name": "stdout",
     "output_type": "stream",
     "text": [
      "Training:\tshape=(1928, 4)\tproportion=0.6\n",
      "Validation:\tshape=(643, 4)\tproportion=0.2\n",
      "Testing:\tshape=(643, 4)\tproportion=0.2\n"
     ]
    }
   ],
   "source": [
    "print(f'Training:\\tshape={train_X.shape}\\tproportion={round(train_df.shape[0]/df.shape[0], 2)}', \n",
    "      f'Validation:\\tshape={valid_X.shape}\\tproportion={round(valid_df.shape[0]/df.shape[0], 2)}', \n",
    "      f'Testing:\\tshape={test_X.shape}\\tproportion={round(test_df.shape[0]/df.shape[0], 2)}', sep='\\n')"
   ]
  },
  {
   "cell_type": "markdown",
   "id": "5102a98f",
   "metadata": {},
   "source": [
    "<div class=\"alert alert-success\">\n",
    "<b>Reviewer's comment</b>\n",
    "  \n",
    "The data was split into train, validation and set. The proportions of the sets are reasonable.\n",
    "  \n",
    "</div>"
   ]
  },
  {
   "cell_type": "markdown",
   "id": "3716e39a",
   "metadata": {},
   "source": [
    "<br>\n",
    "\n",
    "## Classification models\n",
    "***\n",
    "[back](#Table-of-Contents)"
   ]
  },
  {
   "cell_type": "markdown",
   "id": "7cb01782",
   "metadata": {},
   "source": [
    "This task is of classification type ('is_ultra' either 1 or 0), will train and compare following models:\n",
    "- [Logistic Regression Classifier](#Logistic-Regression-Classifier)\n",
    "- [Decision Tree Classifier](#Decision-Tree-Classifier)\n",
    "- [Random Forest Classifier](#Random-Forest-Classifier)\n",
    "\n",
    "[Models comparison](#Models-comparison)  \n",
    "Accuracy (correct answers / all answers) is an appropriate success metric for this classification task."
   ]
  },
  {
   "cell_type": "markdown",
   "id": "af40863c",
   "metadata": {},
   "source": [
    "We will be using 'GridSearchCV' to automatically search for the best possible combination of hyperparameters of each model.  \n",
    "This warrants a different data split, since it does the Cross-Validation internally on the training data."
   ]
  },
  {
   "cell_type": "markdown",
   "id": "0b23b9a9",
   "metadata": {},
   "source": [
    "<div class=\"alert alert-success\">\n",
    "<b>Reviewer's comment</b>\n",
    "  \n",
    "Yeah, sure, if we use cross-validation, the validation set is not needed!\n",
    "  \n",
    "</div>"
   ]
  },
  {
   "cell_type": "code",
   "execution_count": 20,
   "id": "333ad09c",
   "metadata": {},
   "outputs": [],
   "source": [
    "def generate_model_report(model, params, data, **kwargs):\n",
    "    \"\"\"\n",
    "    Runs GridSearchCV and reports CV and Test accuracy.\n",
    "    \n",
    "    Returns GridSearchCV object, scores datafreame, CV best score, Test score, and run time in milliseconds.\n",
    "    \"\"\"\n",
    "    \n",
    "    assert data != None and len(data) == 4, ''\n",
    "    X_train, y_train, X_test, y_test = data\n",
    "    \n",
    "    kwargs['estimator'] = model\n",
    "    kwargs['param_grid'] = params\n",
    "    \n",
    "    start_time = timer()\n",
    "    \n",
    "    gscv = GridSearchCV(**kwargs)\n",
    "    \n",
    "    with warnings.catch_warnings():\n",
    "        warnings.simplefilter('ignore')\n",
    "        display(gscv.fit(X_train, y_train))\n",
    "        \n",
    "    scores = pd.DataFrame(gscv.cv_results_)\n",
    "    test_score = gscv.best_estimator_.score(X_test, y_test)\n",
    "    \n",
    "    end_time = timer()\n",
    "    run_time = (end_time - start_time) * 1000\n",
    "    \n",
    "    # display(scores.nlargest(3, 'mean_test_score'))\n",
    "    display(Markdown(f'_Best estimator_: {gscv.best_estimator_}  \\n\\\n",
    "                        _CV accuracy_: {gscv.best_score_}  \\n\\\n",
    "                        _Test accuracy_: {test_score}'))\n",
    "    \n",
    "    return gscv, scores, gscv.best_score_, test_score, run_time"
   ]
  },
  {
   "cell_type": "code",
   "execution_count": 21,
   "id": "cda053da",
   "metadata": {},
   "outputs": [],
   "source": [
    "# # tests generate_model_report function\n",
    "\n",
    "# %%time\n",
    "# a, b, c, d, e = generate_model_report(\n",
    "#     lr_model, \n",
    "#     {\n",
    "#         'tol': [1],\n",
    "#     },\n",
    "#     [X_train, y_train, X_test, y_test],\n",
    "#     cv=5, scoring='accuracy', error_score=0,\n",
    "#     n_jobs=-1, verbose=1)"
   ]
  },
  {
   "cell_type": "code",
   "execution_count": 22,
   "id": "2950eaf9",
   "metadata": {},
   "outputs": [],
   "source": [
    "X_train, X_test, y_train, y_test = train_test_split(\n",
    "    df.drop('is_ultra', axis=1),\n",
    "    df['is_ultra'],\n",
    "    test_size=.2,\n",
    "    random_state=12345)"
   ]
  },
  {
   "cell_type": "code",
   "execution_count": 23,
   "id": "6d0e81c4",
   "metadata": {},
   "outputs": [
    {
     "name": "stdout",
     "output_type": "stream",
     "text": [
      "Training:\tshape=(2571, 4)\tproportion=0.8\n",
      "Testing:\tshape=(643, 4)\tproportion=0.2\n"
     ]
    }
   ],
   "source": [
    "print(f'Training:\\tshape={X_train.shape}\\tproportion={round(X_train.shape[0]/df.shape[0], 2)}',\n",
    "      f'Testing:\\tshape={X_test.shape}\\tproportion={round(X_test.shape[0]/df.shape[0], 2)}', sep='\\n')"
   ]
  },
  {
   "cell_type": "markdown",
   "id": "614717ba",
   "metadata": {},
   "source": [
    "### Logistic Regression Classifier\n",
    "[up](#Classification-models)"
   ]
  },
  {
   "cell_type": "markdown",
   "id": "ecb8f034",
   "metadata": {},
   "source": [
    "Model's documentation will help us to ascertain the possible range of values for the hyperparameters.  \n",
    "Setting 'random_state' to a constant value, so experiment results are reproducible."
   ]
  },
  {
   "cell_type": "code",
   "execution_count": 24,
   "id": "93ba3ba5",
   "metadata": {},
   "outputs": [],
   "source": [
    "# LogisticRegression?"
   ]
  },
  {
   "cell_type": "code",
   "execution_count": 25,
   "id": "eac45307",
   "metadata": {},
   "outputs": [],
   "source": [
    "lr_model = LogisticRegression(random_state=12345)"
   ]
  },
  {
   "cell_type": "code",
   "execution_count": 26,
   "id": "5341d4a6",
   "metadata": {},
   "outputs": [
    {
     "data": {
      "text/plain": [
       "{'C': 1.0,\n",
       " 'class_weight': None,\n",
       " 'dual': False,\n",
       " 'fit_intercept': True,\n",
       " 'intercept_scaling': 1,\n",
       " 'l1_ratio': None,\n",
       " 'max_iter': 100,\n",
       " 'multi_class': 'auto',\n",
       " 'n_jobs': None,\n",
       " 'penalty': 'l2',\n",
       " 'random_state': 12345,\n",
       " 'solver': 'lbfgs',\n",
       " 'tol': 0.0001,\n",
       " 'verbose': 0,\n",
       " 'warm_start': False}"
      ]
     },
     "execution_count": 26,
     "metadata": {},
     "output_type": "execute_result"
    }
   ],
   "source": [
    "lr_model.get_params()"
   ]
  },
  {
   "cell_type": "code",
   "execution_count": 27,
   "id": "f57ea7a2",
   "metadata": {
    "scrolled": false
   },
   "outputs": [
    {
     "name": "stdout",
     "output_type": "stream",
     "text": [
      "Fitting 5 folds for each of 2000 candidates, totalling 10000 fits\n"
     ]
    },
    {
     "data": {
      "text/plain": [
       "GridSearchCV(cv=5, error_score=0,\n",
       "             estimator=LogisticRegression(random_state=12345), n_jobs=-1,\n",
       "             param_grid={'C': [0.1, 0.3, 0.5, 0.7, 1],\n",
       "                         'max_iter': [10, 50, 100, 300, 1000],\n",
       "                         'penalty': ['l1', 'l2', 'elasticnet', 'none'],\n",
       "                         'solver': ['newton-cg', 'lbfgs', 'liblinear', 'sag',\n",
       "                                    'saga'],\n",
       "                         'tol': [1, 0.1, 0.01, 0.001]},\n",
       "             scoring='accuracy', verbose=1)"
      ]
     },
     "metadata": {},
     "output_type": "display_data"
    },
    {
     "data": {
      "text/markdown": [
       "_Best estimator_: LogisticRegression(C=0.1, max_iter=50, penalty='none', random_state=12345,\n",
       "                   solver='newton-cg', tol=0.1)  \n",
       "                        _CV accuracy_: 0.7452366740961807  \n",
       "                        _Test accuracy_: 0.7573872472783826"
      ],
      "text/plain": [
       "<IPython.core.display.Markdown object>"
      ]
     },
     "metadata": {},
     "output_type": "display_data"
    },
    {
     "name": "stdout",
     "output_type": "stream",
     "text": [
      "CPU times: user 5.28 s, sys: 315 ms, total: 5.59 s\n",
      "Wall time: 28.1 s\n"
     ]
    }
   ],
   "source": [
    "%%time\n",
    "lr_gscv, lr_scores, lr_cv_accuracy, lr_test_accuracy, lr_run_time = generate_model_report(\n",
    "    lr_model, \n",
    "    {\n",
    "        'penalty': ['l1', 'l2', 'elasticnet', 'none'],\n",
    "        'tol': [1, 0.1, 0.01, 0.001],\n",
    "        'C': [0.1, 0.3, 0.5, 0.7, 1],\n",
    "        'solver': ['newton-cg', 'lbfgs', 'liblinear', 'sag', 'saga'],\n",
    "        'max_iter': [10, 50, 100, 300, 1000],\n",
    "    },\n",
    "    [X_train, y_train, X_test, y_test],\n",
    "    cv=5, scoring='accuracy', error_score=0,\n",
    "    n_jobs=-1, verbose=1)"
   ]
  },
  {
   "cell_type": "markdown",
   "id": "c01c9f30",
   "metadata": {},
   "source": [
    "### Decision Tree Classifier\n",
    "[up](#Classification-models)"
   ]
  },
  {
   "cell_type": "code",
   "execution_count": 28,
   "id": "370e0745",
   "metadata": {},
   "outputs": [],
   "source": [
    "# DecisionTreeClassifier?"
   ]
  },
  {
   "cell_type": "code",
   "execution_count": 29,
   "id": "5f39b0de",
   "metadata": {},
   "outputs": [],
   "source": [
    "dt_model = DecisionTreeClassifier(random_state=12345)"
   ]
  },
  {
   "cell_type": "code",
   "execution_count": 30,
   "id": "aa300325",
   "metadata": {},
   "outputs": [
    {
     "data": {
      "text/plain": [
       "{'ccp_alpha': 0.0,\n",
       " 'class_weight': None,\n",
       " 'criterion': 'gini',\n",
       " 'max_depth': None,\n",
       " 'max_features': None,\n",
       " 'max_leaf_nodes': None,\n",
       " 'min_impurity_decrease': 0.0,\n",
       " 'min_impurity_split': None,\n",
       " 'min_samples_leaf': 1,\n",
       " 'min_samples_split': 2,\n",
       " 'min_weight_fraction_leaf': 0.0,\n",
       " 'random_state': 12345,\n",
       " 'splitter': 'best'}"
      ]
     },
     "execution_count": 30,
     "metadata": {},
     "output_type": "execute_result"
    }
   ],
   "source": [
    "dt_model.get_params()"
   ]
  },
  {
   "cell_type": "code",
   "execution_count": 31,
   "id": "45db7e04",
   "metadata": {
    "scrolled": true
   },
   "outputs": [
    {
     "name": "stdout",
     "output_type": "stream",
     "text": [
      "Fitting 5 folds for each of 144 candidates, totalling 720 fits\n"
     ]
    },
    {
     "data": {
      "text/plain": [
       "GridSearchCV(cv=5, error_score=0,\n",
       "             estimator=DecisionTreeClassifier(random_state=12345), n_jobs=-1,\n",
       "             param_grid={'criterion': ['gini', 'entropy'],\n",
       "                         'max_depth': [1, 5, 10, 15],\n",
       "                         'min_impurity_decrease': [0.0, 0.01, 0.001],\n",
       "                         'min_samples_leaf': [1, 3, 5],\n",
       "                         'splitter': ['best', 'random']},\n",
       "             scoring='accuracy', verbose=1)"
      ]
     },
     "metadata": {},
     "output_type": "display_data"
    },
    {
     "data": {
      "text/markdown": [
       "_Best estimator_: DecisionTreeClassifier(criterion='entropy', max_depth=15,\n",
       "                       min_impurity_decrease=0.001, random_state=12345,\n",
       "                       splitter='random')  \n",
       "                        _CV accuracy_: 0.8028008008764308  \n",
       "                        _Test accuracy_: 0.7822706065318819"
      ],
      "text/plain": [
       "<IPython.core.display.Markdown object>"
      ]
     },
     "metadata": {},
     "output_type": "display_data"
    },
    {
     "name": "stdout",
     "output_type": "stream",
     "text": [
      "CPU times: user 922 ms, sys: 77.8 ms, total: 1e+03 ms\n",
      "Wall time: 1 s\n"
     ]
    }
   ],
   "source": [
    "%%time\n",
    "dt_gscv, dt_scores, dt_cv_accuracy, dt_test_accuracy, dt_run_time = generate_model_report(\n",
    "    dt_model, \n",
    "    {\n",
    "        'criterion': ['gini', 'entropy'],\n",
    "        'splitter': ['best', 'random'],\n",
    "        'max_depth': [1, 5, 10, 15], # range(20), # range(0, 51, 2),\n",
    "        'min_samples_leaf': [1, 3, 5], # range(1,6),\n",
    "        'min_impurity_decrease': [.0, .01, .001],\n",
    "        # 'ccp_alpha': [.0, .01, .03, .05, .1, .5, .7],\n",
    "    },\n",
    "    [X_train, y_train, X_test, y_test],\n",
    "    cv=5, scoring='accuracy', error_score=0,\n",
    "    n_jobs=-1, verbose=1)"
   ]
  },
  {
   "cell_type": "markdown",
   "id": "1398ba34",
   "metadata": {},
   "source": [
    "### Random Forest Classifier\n",
    "[up](#Classification-models)"
   ]
  },
  {
   "cell_type": "code",
   "execution_count": 32,
   "id": "a9923016",
   "metadata": {},
   "outputs": [],
   "source": [
    "# RandomForestClassifier?"
   ]
  },
  {
   "cell_type": "code",
   "execution_count": 33,
   "id": "7084151f",
   "metadata": {},
   "outputs": [],
   "source": [
    "rf_model = RandomForestClassifier(random_state=12345)"
   ]
  },
  {
   "cell_type": "code",
   "execution_count": 34,
   "id": "df608305",
   "metadata": {},
   "outputs": [
    {
     "data": {
      "text/plain": [
       "{'bootstrap': True,\n",
       " 'ccp_alpha': 0.0,\n",
       " 'class_weight': None,\n",
       " 'criterion': 'gini',\n",
       " 'max_depth': None,\n",
       " 'max_features': 'auto',\n",
       " 'max_leaf_nodes': None,\n",
       " 'max_samples': None,\n",
       " 'min_impurity_decrease': 0.0,\n",
       " 'min_impurity_split': None,\n",
       " 'min_samples_leaf': 1,\n",
       " 'min_samples_split': 2,\n",
       " 'min_weight_fraction_leaf': 0.0,\n",
       " 'n_estimators': 100,\n",
       " 'n_jobs': None,\n",
       " 'oob_score': False,\n",
       " 'random_state': 12345,\n",
       " 'verbose': 0,\n",
       " 'warm_start': False}"
      ]
     },
     "execution_count": 34,
     "metadata": {},
     "output_type": "execute_result"
    }
   ],
   "source": [
    "rf_model.get_params()"
   ]
  },
  {
   "cell_type": "code",
   "execution_count": 35,
   "id": "e3549128",
   "metadata": {},
   "outputs": [
    {
     "name": "stdout",
     "output_type": "stream",
     "text": [
      "Fitting 5 folds for each of 72 candidates, totalling 360 fits\n"
     ]
    },
    {
     "data": {
      "text/plain": [
       "GridSearchCV(cv=5, error_score=0,\n",
       "             estimator=RandomForestClassifier(random_state=12345), n_jobs=-1,\n",
       "             param_grid={'criterion': ['gini', 'entropy'],\n",
       "                         'max_depth': [1, 5, 10, 15],\n",
       "                         'min_impurity_decrease': [0.0, 0.01, 0.001],\n",
       "                         'min_samples_leaf': [1, 3, 5]},\n",
       "             scoring='accuracy', verbose=1)"
      ]
     },
     "metadata": {},
     "output_type": "display_data"
    },
    {
     "data": {
      "text/markdown": [
       "_Best estimator_: RandomForestClassifier(criterion='entropy', max_depth=10,\n",
       "                       min_impurity_decrease=0.001, min_samples_leaf=3,\n",
       "                       random_state=12345)  \n",
       "                        _CV accuracy_: 0.8203067507838767  \n",
       "                        _Test accuracy_: 0.7993779160186625"
      ],
      "text/plain": [
       "<IPython.core.display.Markdown object>"
      ]
     },
     "metadata": {},
     "output_type": "display_data"
    },
    {
     "name": "stdout",
     "output_type": "stream",
     "text": [
      "CPU times: user 1.16 s, sys: 77.6 ms, total: 1.24 s\n",
      "Wall time: 15.4 s\n"
     ]
    }
   ],
   "source": [
    "%%time\n",
    "rf_gscv, rf_scores, rf_cv_accuracy, rf_test_accuracy, rf_run_time = generate_model_report(\n",
    "    rf_model, \n",
    "    {\n",
    "        'criterion': ['gini', 'entropy'],\n",
    "        'max_depth': [1, 5, 10, 15], # range(20),\n",
    "        'min_samples_leaf': [1, 3, 5], # range(1,6),\n",
    "        'min_impurity_decrease': [.0, .01, .001],\n",
    "    },\n",
    "    [X_train, y_train, X_test, y_test],\n",
    "    cv=5, scoring='accuracy', error_score=0,\n",
    "    n_jobs=-1, verbose=1)"
   ]
  },
  {
   "cell_type": "markdown",
   "id": "62628d5f",
   "metadata": {},
   "source": [
    "### Models comparison\n",
    "[up](#Classification-models)"
   ]
  },
  {
   "cell_type": "code",
   "execution_count": 36,
   "id": "814e02bf",
   "metadata": {},
   "outputs": [],
   "source": [
    "test_scores = pd.DataFrame(\n",
    "    [\n",
    "        [lr_cv_accuracy, lr_test_accuracy, lr_run_time / 1_000],\n",
    "        [dt_cv_accuracy, dt_test_accuracy, dt_run_time / 1_000],\n",
    "        [rf_cv_accuracy, rf_test_accuracy, rf_run_time / 1_000],\n",
    "    ],\n",
    "    columns=['CV (accuracy)', 'Test (accuracy)', 'Time (s)'], \n",
    "    index=['Logistic Regression', 'Decision Tree', 'Random Forest'])"
   ]
  },
  {
   "cell_type": "code",
   "execution_count": 37,
   "id": "9e4b173d",
   "metadata": {},
   "outputs": [
    {
     "data": {
      "text/html": [
       "<div>\n",
       "<style scoped>\n",
       "    .dataframe tbody tr th:only-of-type {\n",
       "        vertical-align: middle;\n",
       "    }\n",
       "\n",
       "    .dataframe tbody tr th {\n",
       "        vertical-align: top;\n",
       "    }\n",
       "\n",
       "    .dataframe thead th {\n",
       "        text-align: right;\n",
       "    }\n",
       "</style>\n",
       "<table border=\"1\" class=\"dataframe\">\n",
       "  <thead>\n",
       "    <tr style=\"text-align: right;\">\n",
       "      <th></th>\n",
       "      <th>CV (accuracy)</th>\n",
       "      <th>Test (accuracy)</th>\n",
       "      <th>Time (s)</th>\n",
       "    </tr>\n",
       "  </thead>\n",
       "  <tbody>\n",
       "    <tr>\n",
       "      <th>Random Forest</th>\n",
       "      <td>0.820307</td>\n",
       "      <td>0.799378</td>\n",
       "      <td>15.361006</td>\n",
       "    </tr>\n",
       "    <tr>\n",
       "      <th>Decision Tree</th>\n",
       "      <td>0.802801</td>\n",
       "      <td>0.782271</td>\n",
       "      <td>1.003154</td>\n",
       "    </tr>\n",
       "    <tr>\n",
       "      <th>Logistic Regression</th>\n",
       "      <td>0.745237</td>\n",
       "      <td>0.757387</td>\n",
       "      <td>28.137575</td>\n",
       "    </tr>\n",
       "  </tbody>\n",
       "</table>\n",
       "</div>"
      ],
      "text/plain": [
       "                     CV (accuracy)  Test (accuracy)   Time (s)\n",
       "Random Forest             0.820307         0.799378  15.361006\n",
       "Decision Tree             0.802801         0.782271   1.003154\n",
       "Logistic Regression       0.745237         0.757387  28.137575"
      ]
     },
     "execution_count": 37,
     "metadata": {},
     "output_type": "execute_result"
    }
   ],
   "source": [
    "test_scores.sort_values(by='Test (accuracy)', ascending=False)"
   ]
  },
  {
   "cell_type": "markdown",
   "id": "668ae461",
   "metadata": {},
   "source": [
    "Random Forest classifier had the best test accuracy on the given dataset,  \n",
    "but Decision Tree classifier had the best time (<1s).  \n",
    "Logistic Regression performed worse on all metrics.\n",
    "\n",
    "Which is better depends on the business requirements.  \n",
    "If we need the absolute best accuracy we would have to improve the test accuracy since Random Forest's 0.79 is quite low,  \n",
    "and if we need the fastest algorithm we would use the Decision Tree classifier in this case."
   ]
  },
  {
   "cell_type": "markdown",
   "id": "482ca030",
   "metadata": {},
   "source": [
    "<div class=\"alert alert-warning\">\n",
    "<b>Reviewer's comment</b>\n",
    "  \n",
    "Very nice, you tried a couple of different models and tuned their hyperparameters using k-fold cross-validation. It's a good idea to also measure the runtime of the models, but it seems that your comparison is not fair, because if we calculate the number of hyperparameter values tried for each model, it turns out that logistic regression was tried with ~2000 different hyperparameter tuples, while other models were tried with just about ~100 different hyperparameter tuples, an order of magnitude lower. As it is possible to vary this number arbitrarily, I think a better measure would be the trainining time and prediction time of an already tuned model. If you check that, you'll find out that logistic regression is actually the fastest.\n",
    "  \n",
    "</div>"
   ]
  },
  {
   "cell_type": "markdown",
   "id": "d0c54ce8",
   "metadata": {},
   "source": [
    "<br>\n",
    "\n",
    "## Sanity check\n",
    "***\n",
    "[back](#Table-of-Contents)\n",
    "\n",
    "We would like to check that our model performs better than chance."
   ]
  },
  {
   "cell_type": "code",
   "execution_count": 38,
   "id": "62e485ff",
   "metadata": {},
   "outputs": [],
   "source": [
    "def score_metrics(y_true, y_pred):\n",
    "    \"\"\"Returns a map of different metrics.\"\"\"\n",
    "    \n",
    "    cm = confusion_matrix(y_true, y_pred)\n",
    "    \n",
    "    with warnings.catch_warnings():\n",
    "        warnings.simplefilter('ignore')\n",
    "        \n",
    "        return {'accuracy': accuracy_score(y_true, y_pred),\n",
    "                'confusion_matrix': {'tn': cm[0, 0], 'fp': cm[0, 1],\n",
    "                                     'fn': cm[1, 0], 'tp': cm[1, 1]},\n",
    "                'recall': recall_score(y_true, y_pred),\n",
    "                'precision': precision_score(y_true, y_pred),\n",
    "                'f1_score': f1_score(y_true, y_pred),\n",
    "                'matthews_corrcoef': matthews_corrcoef(y_true, y_pred)}"
   ]
  },
  {
   "cell_type": "code",
   "execution_count": 39,
   "id": "b03be0fa",
   "metadata": {},
   "outputs": [],
   "source": [
    "def metrics_report(model, test_data):\n",
    "    \"\"\"\n",
    "    Creates a report of different metrics.\n",
    "    Also plots a confusion matrix.\n",
    "    \"\"\"\n",
    "    \n",
    "    X_test, y_test = test_data\n",
    "    y_pred = model.predict(X_test)\n",
    "    display(score_metrics(y_test, y_pred))\n",
    "    plt.show(plot_confusion_matrix(estimator=model, X=X_test, y_true=y_test, cmap='Blues', \n",
    "                                   normalize='all', values_format='.2g'))"
   ]
  },
  {
   "cell_type": "code",
   "execution_count": 40,
   "id": "c4dc4cc0",
   "metadata": {
    "scrolled": true
   },
   "outputs": [
    {
     "data": {
      "text/html": [
       "<div>\n",
       "<style scoped>\n",
       "    .dataframe tbody tr th:only-of-type {\n",
       "        vertical-align: middle;\n",
       "    }\n",
       "\n",
       "    .dataframe tbody tr th {\n",
       "        vertical-align: top;\n",
       "    }\n",
       "\n",
       "    .dataframe thead th {\n",
       "        text-align: right;\n",
       "    }\n",
       "</style>\n",
       "<table border=\"1\" class=\"dataframe\">\n",
       "  <thead>\n",
       "    <tr style=\"text-align: right;\">\n",
       "      <th></th>\n",
       "      <th>count</th>\n",
       "      <th>ratio</th>\n",
       "    </tr>\n",
       "  </thead>\n",
       "  <tbody>\n",
       "    <tr>\n",
       "      <th>0</th>\n",
       "      <td>1782</td>\n",
       "      <td>0.69</td>\n",
       "    </tr>\n",
       "    <tr>\n",
       "      <th>1</th>\n",
       "      <td>789</td>\n",
       "      <td>0.31</td>\n",
       "    </tr>\n",
       "  </tbody>\n",
       "</table>\n",
       "</div>"
      ],
      "text/plain": [
       "   count  ratio\n",
       "0   1782   0.69\n",
       "1    789   0.31"
      ]
     },
     "execution_count": 40,
     "metadata": {},
     "output_type": "execute_result"
    }
   ],
   "source": [
    "y_train.apply(\n",
    "    ['value_counts', lambda x:x.value_counts(normalize=True).round(2)]).set_axis(['count', 'ratio'], axis=1)"
   ]
  },
  {
   "cell_type": "code",
   "execution_count": 41,
   "id": "09c7eb14",
   "metadata": {},
   "outputs": [
    {
     "data": {
      "text/html": [
       "<div>\n",
       "<style scoped>\n",
       "    .dataframe tbody tr th:only-of-type {\n",
       "        vertical-align: middle;\n",
       "    }\n",
       "\n",
       "    .dataframe tbody tr th {\n",
       "        vertical-align: top;\n",
       "    }\n",
       "\n",
       "    .dataframe thead th {\n",
       "        text-align: right;\n",
       "    }\n",
       "</style>\n",
       "<table border=\"1\" class=\"dataframe\">\n",
       "  <thead>\n",
       "    <tr style=\"text-align: right;\">\n",
       "      <th></th>\n",
       "      <th>count</th>\n",
       "      <th>ratio</th>\n",
       "    </tr>\n",
       "  </thead>\n",
       "  <tbody>\n",
       "    <tr>\n",
       "      <th>0</th>\n",
       "      <td>447</td>\n",
       "      <td>0.7</td>\n",
       "    </tr>\n",
       "    <tr>\n",
       "      <th>1</th>\n",
       "      <td>196</td>\n",
       "      <td>0.3</td>\n",
       "    </tr>\n",
       "  </tbody>\n",
       "</table>\n",
       "</div>"
      ],
      "text/plain": [
       "   count  ratio\n",
       "0    447    0.7\n",
       "1    196    0.3"
      ]
     },
     "execution_count": 41,
     "metadata": {},
     "output_type": "execute_result"
    }
   ],
   "source": [
    "y_test.apply(\n",
    "    ['value_counts', lambda x:x.value_counts(normalize=True).round(2)]).set_axis(['count', 'ratio'], axis=1)"
   ]
  },
  {
   "cell_type": "markdown",
   "id": "164a47a8",
   "metadata": {},
   "source": [
    "Our target feature shows class imbalance (70% of the values are 0, 30% are 1).  \n",
    "In order to be certain that our selected model performs better than a constant model,  \n",
    "we will use a dummy model as a baseline for accuracy, and compare that with the accuracy of our best performing models."
   ]
  },
  {
   "cell_type": "code",
   "execution_count": 42,
   "id": "8c2e2920",
   "metadata": {},
   "outputs": [
    {
     "data": {
      "text/markdown": [
       "__Baseline (dummy model)__"
      ],
      "text/plain": [
       "<IPython.core.display.Markdown object>"
      ]
     },
     "metadata": {},
     "output_type": "display_data"
    },
    {
     "data": {
      "text/plain": [
       "{'accuracy': 0.6951788491446346,\n",
       " 'confusion_matrix': {'tn': 447, 'fp': 0, 'fn': 196, 'tp': 0},\n",
       " 'recall': 0.0,\n",
       " 'precision': 0.0,\n",
       " 'f1_score': 0.0,\n",
       " 'matthews_corrcoef': 0.0}"
      ]
     },
     "metadata": {},
     "output_type": "display_data"
    },
    {
     "data": {
      "image/png": "[encoded data removed]",
      "text/plain": [
       "<Figure size 432x288 with 2 Axes>"
      ]
     },
     "metadata": {
      "needs_background": "light"
     },
     "output_type": "display_data"
    }
   ],
   "source": [
    "display(Markdown('__Baseline (dummy model)__'))\n",
    "metrics_report(\n",
    "    DummyClassifier(strategy='most_frequent', random_state=12345).fit(X_train, y_train), [X_test, y_test])"
   ]
  },
  {
   "cell_type": "markdown",
   "id": "ff52310e",
   "metadata": {},
   "source": [
    "Baseline model accuracy is 0.6951788491446346.  \n",
    "We need out model to perform at least better than the dummy model."
   ]
  },
  {
   "cell_type": "code",
   "execution_count": 43,
   "id": "a34dd35a",
   "metadata": {},
   "outputs": [
    {
     "data": {
      "text/markdown": [
       "__Logistic Regression__"
      ],
      "text/plain": [
       "<IPython.core.display.Markdown object>"
      ]
     },
     "metadata": {},
     "output_type": "display_data"
    },
    {
     "data": {
      "text/plain": [
       "{'accuracy': 0.7573872472783826,\n",
       " 'confusion_matrix': {'tn': 441, 'fp': 6, 'fn': 150, 'tp': 46},\n",
       " 'recall': 0.23469387755102042,\n",
       " 'precision': 0.8846153846153846,\n",
       " 'f1_score': 0.37096774193548393,\n",
       " 'matthews_corrcoef': 0.373603553985608}"
      ]
     },
     "metadata": {},
     "output_type": "display_data"
    },
    {
     "data": {
      "image/png": "[encoded data removed]",
      "text/plain": [
       "<Figure size 432x288 with 2 Axes>"
      ]
     },
     "metadata": {
      "needs_background": "light"
     },
     "output_type": "display_data"
    }
   ],
   "source": [
    "display(Markdown('__Logistic Regression__'))\n",
    "metrics_report(lr_gscv.best_estimator_, [X_test, y_test])"
   ]
  },
  {
   "cell_type": "code",
   "execution_count": 44,
   "id": "91a9b56a",
   "metadata": {},
   "outputs": [
    {
     "data": {
      "text/markdown": [
       "__Decision Tree__"
      ],
      "text/plain": [
       "<IPython.core.display.Markdown object>"
      ]
     },
     "metadata": {},
     "output_type": "display_data"
    },
    {
     "data": {
      "text/plain": [
       "{'accuracy': 0.7822706065318819,\n",
       " 'confusion_matrix': {'tn': 410, 'fp': 37, 'fn': 103, 'tp': 93},\n",
       " 'recall': 0.4744897959183674,\n",
       " 'precision': 0.7153846153846154,\n",
       " 'f1_score': 0.5705521472392638,\n",
       " 'matthews_corrcoef': 0.4489753201149668}"
      ]
     },
     "metadata": {},
     "output_type": "display_data"
    },
    {
     "data": {
      "image/png": "[encoded data removed]",
      "text/plain": [
       "<Figure size 432x288 with 2 Axes>"
      ]
     },
     "metadata": {
      "needs_background": "light"
     },
     "output_type": "display_data"
    }
   ],
   "source": [
    "display(Markdown('__Decision Tree__'))\n",
    "metrics_report(dt_gscv.best_estimator_, [X_test, y_test])"
   ]
  },
  {
   "cell_type": "code",
   "execution_count": 45,
   "id": "ae224ab3",
   "metadata": {},
   "outputs": [
    {
     "data": {
      "text/markdown": [
       "__Random Forest__"
      ],
      "text/plain": [
       "<IPython.core.display.Markdown object>"
      ]
     },
     "metadata": {},
     "output_type": "display_data"
    },
    {
     "data": {
      "text/plain": [
       "{'accuracy': 0.7993779160186625,\n",
       " 'confusion_matrix': {'tn': 411, 'fp': 36, 'fn': 93, 'tp': 103},\n",
       " 'recall': 0.5255102040816326,\n",
       " 'precision': 0.7410071942446043,\n",
       " 'f1_score': 0.6149253731343284,\n",
       " 'matthews_corrcoef': 0.4976145529118351}"
      ]
     },
     "metadata": {},
     "output_type": "display_data"
    },
    {
     "data": {
      "image/png": "[encoded data removed]",
      "text/plain": [
       "<Figure size 432x288 with 2 Axes>"
      ]
     },
     "metadata": {
      "needs_background": "light"
     },
     "output_type": "display_data"
    }
   ],
   "source": [
    "display(Markdown('__Random Forest__'))\n",
    "metrics_report(rf_gscv.best_estimator_, [X_test, y_test])"
   ]
  },
  {
   "cell_type": "markdown",
   "id": "5f972707",
   "metadata": {},
   "source": [
    "<br>\n",
    "\n",
    "## Conclusions\n",
    "***\n",
    "[back](#Table-of-Contents)"
   ]
  },
  {
   "cell_type": "code",
   "execution_count": 46,
   "id": "5f89a371",
   "metadata": {},
   "outputs": [
    {
     "name": "stdout",
     "output_type": "stream",
     "text": [
      "Selected model:\n",
      "\tRandomForestClassifier(criterion='entropy', max_depth=10,\n",
      "                       min_impurity_decrease=0.001, min_samples_leaf=3,\n",
      "                       random_state=12345)\n",
      "\n",
      "Score:\t0.7993779160186625\n"
     ]
    }
   ],
   "source": [
    "print(f'Selected model:\\n\\t{rf_gscv.best_estimator_}\\n\\nScore:\\t{rf_test_accuracy}')"
   ]
  },
  {
   "cell_type": "markdown",
   "id": "e6f8a6f5",
   "metadata": {},
   "source": [
    "'Random Forest' model shows the best metrics, which solidifies our choice of it."
   ]
  },
  {
   "cell_type": "markdown",
   "id": "57047917",
   "metadata": {},
   "source": [
    "The results are less than optimal, and the accuracy is still pretty low.  \n",
    "Our model's performance should be further improved by applying trying different combinations of hyperparameters, and apply different techniques of data preprocessing (normalization, feature engineering etc..).  \n",
    "Also, other (more modern) model types can be considered,  \n",
    "and GPU-acceleration utilized to facilitate rapid development and experimentation."
   ]
  },
  {
   "cell_type": "markdown",
   "id": "78a2f591",
   "metadata": {},
   "source": [
    "<div class=\"alert alert-success\">\n",
    "<b>Reviewer's comment</b>\n",
    "  \n",
    "Ok, great, you compared your models to a simple constant baseline. It's important to have a baseline to make sure that the models did learn something non-trivial. As you noted, due to class imbalance, a constant model always predicting the majority class is a better baseline than a constant model. Due to the classes having 70:30 proportion, such a model gets 0.7 accuracy for free. For this reason, accuracy is a poor choice of metric for highly imblanced data. The other metrics and ways to mitigate the imbalance problem will be explored further in the next project.\n",
    "  \n",
    "</div>"
   ]
  },
  {
   "cell_type": "code",
   "execution_count": null,
   "id": "1cbf33e3",
   "metadata": {},
   "outputs": [],
   "source": []
  }
 ],
 "metadata": {
  "ExecuteTimeLog": [
   {
    "duration": 15,
    "start_time": "2021-09-13T12:08:38.548Z"
   },
   {
    "duration": 5,
    "start_time": "2021-09-13T12:08:58.325Z"
   },
   {
    "duration": 6,
    "start_time": "2021-09-13T12:09:09.109Z"
   }
  ],
  "kernelspec": {
   "display_name": "Python 3",
   "language": "python",
   "name": "python3"
  },
  "language_info": {
   "codemirror_mode": {
    "name": "ipython",
    "version": 3
   },
   "file_extension": ".py",
   "mimetype": "text/x-python",
   "name": "python",
   "nbconvert_exporter": "python",
   "pygments_lexer": "ipython3",
   "version": "3.8.10"
  },
  "toc": {
   "base_numbering": 1,
   "nav_menu": {},
   "number_sections": true,
   "sideBar": true,
   "skip_h1_title": true,
   "title_cell": "Table of Contents",
   "title_sidebar": "Contents",
   "toc_cell": false,
   "toc_position": {},
   "toc_section_display": true,
   "toc_window_display": false
  }
 },
 "nbformat": 4,
 "nbformat_minor": 5
}
