{
 "cells": [
  {
   "cell_type": "markdown",
   "metadata": {},
   "source": [
    "Hello, my name is Margarita Iankova. I'm going to review your project!\n",
    "\n",
    "You can find my comments in <span style=\"color:green\">green</span>,<span style=\"color:blue\">blue</span> or <span style=\"color:red\">red</span> boxes like this:\n",
    "\n",
    "<div class=\"alert alert-success\" style=\"box-shadow: 4px 4px 4px\">\n",
    "<b>Success:</b> if everything is done succesfully\n",
    "</div>\n",
    "\n",
    "<div class=\"alert alert-warning\" style=\"box-shadow: 4px 4px 4px\">\n",
    "<b>Remarks:</b> if I can give some recommendations\n",
    "</div>\n",
    "\n",
    "<div class=\"alert alert-danger\" style=\"box-shadow: 4px 4px 4px\">\n",
    "<b>Needs fixing:</b> if the block requires some corrections. Work can't be accepted with the red comments.\n",
    "</div>\n",
    "\n",
    "\n",
    "# General feedback\n",
    "\n",
    "Thank you for sending your project. You've done a really good job on it! \n",
    "\n",
    "I would like to praise you for the structured code and very detailed comments on each step. It turned out really good research\n",
    "\n",
    "There are also some comments for improvement. There are very few of them, you will fix them quickly. Good luck! 🍀\n",
    "\n",
    "# General feedback №2\n",
    "\n",
    "Thanks for sending in your project with corrections. I'm happy to say, that now your project has been accepted! Keep it up!\n"
   ]
  },
  {
   "cell_type": "markdown",
   "metadata": {},
   "source": [
    "  \n",
    "# Analyzing borrowers’ risk of defaulting\n",
    "\n",
    "Your project is to prepare a report for a bank’s loan division. You’ll need to find out if a customer’s marital status and number of children has an impact on whether they will default on a loan. The bank already has some data on customers’ credit worthiness.\n",
    "\n",
    "Your report will be considered when building a **credit scoring** of a potential customer. A ** credit scoring ** is used to evaluate the ability of a potential borrower to repay their loan."
   ]
  },
  {
   "cell_type": "markdown",
   "metadata": {},
   "source": [
    "## Import Pandas library of functions."
   ]
  },
  {
   "cell_type": "markdown",
   "metadata": {},
   "source": [
    "***"
   ]
  },
  {
   "cell_type": "code",
   "execution_count": 51,
   "metadata": {},
   "outputs": [],
   "source": [
    "# Importing pandas libarary.\n",
    "import pandas as pd\n",
    "\n",
    "# Importing NLTK library\n",
    "import nltk\n",
    "\n",
    "# Import SnowballStemmer from nltk.\n",
    "from nltk.stem import SnowballStemmer\n",
    "\n",
    "#Setting stemmer to english.\n",
    "english_stemmer = SnowballStemmer('english')"
   ]
  },
  {
   "cell_type": "markdown",
   "metadata": {},
   "source": [
    "## Open the data file and have a look at the general information. "
   ]
  },
  {
   "cell_type": "code",
   "execution_count": 52,
   "metadata": {},
   "outputs": [
    {
     "data": {
      "text/html": [
       "<div>\n",
       "<style scoped>\n",
       "    .dataframe tbody tr th:only-of-type {\n",
       "        vertical-align: middle;\n",
       "    }\n",
       "\n",
       "    .dataframe tbody tr th {\n",
       "        vertical-align: top;\n",
       "    }\n",
       "\n",
       "    .dataframe thead th {\n",
       "        text-align: right;\n",
       "    }\n",
       "</style>\n",
       "<table border=\"1\" class=\"dataframe\">\n",
       "  <thead>\n",
       "    <tr style=\"text-align: right;\">\n",
       "      <th></th>\n",
       "      <th>children</th>\n",
       "      <th>days_employed</th>\n",
       "      <th>dob_years</th>\n",
       "      <th>education</th>\n",
       "      <th>education_id</th>\n",
       "      <th>family_status</th>\n",
       "      <th>family_status_id</th>\n",
       "      <th>gender</th>\n",
       "      <th>income_type</th>\n",
       "      <th>debt</th>\n",
       "      <th>total_income</th>\n",
       "      <th>purpose</th>\n",
       "    </tr>\n",
       "  </thead>\n",
       "  <tbody>\n",
       "    <tr>\n",
       "      <td>0</td>\n",
       "      <td>1</td>\n",
       "      <td>-8437.673028</td>\n",
       "      <td>42</td>\n",
       "      <td>bachelor's degree</td>\n",
       "      <td>0</td>\n",
       "      <td>married</td>\n",
       "      <td>0</td>\n",
       "      <td>F</td>\n",
       "      <td>employee</td>\n",
       "      <td>0</td>\n",
       "      <td>40620.102</td>\n",
       "      <td>purchase of the house</td>\n",
       "    </tr>\n",
       "    <tr>\n",
       "      <td>1</td>\n",
       "      <td>1</td>\n",
       "      <td>-4024.803754</td>\n",
       "      <td>36</td>\n",
       "      <td>secondary education</td>\n",
       "      <td>1</td>\n",
       "      <td>married</td>\n",
       "      <td>0</td>\n",
       "      <td>F</td>\n",
       "      <td>employee</td>\n",
       "      <td>0</td>\n",
       "      <td>17932.802</td>\n",
       "      <td>car purchase</td>\n",
       "    </tr>\n",
       "    <tr>\n",
       "      <td>2</td>\n",
       "      <td>0</td>\n",
       "      <td>-5623.422610</td>\n",
       "      <td>33</td>\n",
       "      <td>Secondary Education</td>\n",
       "      <td>1</td>\n",
       "      <td>married</td>\n",
       "      <td>0</td>\n",
       "      <td>M</td>\n",
       "      <td>employee</td>\n",
       "      <td>0</td>\n",
       "      <td>23341.752</td>\n",
       "      <td>purchase of the house</td>\n",
       "    </tr>\n",
       "    <tr>\n",
       "      <td>3</td>\n",
       "      <td>3</td>\n",
       "      <td>-4124.747207</td>\n",
       "      <td>32</td>\n",
       "      <td>secondary education</td>\n",
       "      <td>1</td>\n",
       "      <td>married</td>\n",
       "      <td>0</td>\n",
       "      <td>M</td>\n",
       "      <td>employee</td>\n",
       "      <td>0</td>\n",
       "      <td>42820.568</td>\n",
       "      <td>supplementary education</td>\n",
       "    </tr>\n",
       "    <tr>\n",
       "      <td>4</td>\n",
       "      <td>0</td>\n",
       "      <td>340266.072047</td>\n",
       "      <td>53</td>\n",
       "      <td>secondary education</td>\n",
       "      <td>1</td>\n",
       "      <td>civil partnership</td>\n",
       "      <td>1</td>\n",
       "      <td>F</td>\n",
       "      <td>retiree</td>\n",
       "      <td>0</td>\n",
       "      <td>25378.572</td>\n",
       "      <td>to have a wedding</td>\n",
       "    </tr>\n",
       "    <tr>\n",
       "      <td>5</td>\n",
       "      <td>0</td>\n",
       "      <td>-926.185831</td>\n",
       "      <td>27</td>\n",
       "      <td>bachelor's degree</td>\n",
       "      <td>0</td>\n",
       "      <td>civil partnership</td>\n",
       "      <td>1</td>\n",
       "      <td>M</td>\n",
       "      <td>business</td>\n",
       "      <td>0</td>\n",
       "      <td>40922.170</td>\n",
       "      <td>purchase of the house</td>\n",
       "    </tr>\n",
       "    <tr>\n",
       "      <td>6</td>\n",
       "      <td>0</td>\n",
       "      <td>-2879.202052</td>\n",
       "      <td>43</td>\n",
       "      <td>bachelor's degree</td>\n",
       "      <td>0</td>\n",
       "      <td>married</td>\n",
       "      <td>0</td>\n",
       "      <td>F</td>\n",
       "      <td>business</td>\n",
       "      <td>0</td>\n",
       "      <td>38484.156</td>\n",
       "      <td>housing transactions</td>\n",
       "    </tr>\n",
       "    <tr>\n",
       "      <td>7</td>\n",
       "      <td>0</td>\n",
       "      <td>-152.779569</td>\n",
       "      <td>50</td>\n",
       "      <td>SECONDARY EDUCATION</td>\n",
       "      <td>1</td>\n",
       "      <td>married</td>\n",
       "      <td>0</td>\n",
       "      <td>M</td>\n",
       "      <td>employee</td>\n",
       "      <td>0</td>\n",
       "      <td>21731.829</td>\n",
       "      <td>education</td>\n",
       "    </tr>\n",
       "    <tr>\n",
       "      <td>8</td>\n",
       "      <td>2</td>\n",
       "      <td>-6929.865299</td>\n",
       "      <td>35</td>\n",
       "      <td>BACHELOR'S DEGREE</td>\n",
       "      <td>0</td>\n",
       "      <td>civil partnership</td>\n",
       "      <td>1</td>\n",
       "      <td>F</td>\n",
       "      <td>employee</td>\n",
       "      <td>0</td>\n",
       "      <td>15337.093</td>\n",
       "      <td>having a wedding</td>\n",
       "    </tr>\n",
       "    <tr>\n",
       "      <td>9</td>\n",
       "      <td>0</td>\n",
       "      <td>-2188.756445</td>\n",
       "      <td>41</td>\n",
       "      <td>secondary education</td>\n",
       "      <td>1</td>\n",
       "      <td>married</td>\n",
       "      <td>0</td>\n",
       "      <td>M</td>\n",
       "      <td>employee</td>\n",
       "      <td>0</td>\n",
       "      <td>23108.150</td>\n",
       "      <td>purchase of the house for my family</td>\n",
       "    </tr>\n",
       "  </tbody>\n",
       "</table>\n",
       "</div>"
      ],
      "text/plain": [
       "   children  days_employed  dob_years            education  education_id  \\\n",
       "0         1   -8437.673028         42    bachelor's degree             0   \n",
       "1         1   -4024.803754         36  secondary education             1   \n",
       "2         0   -5623.422610         33  Secondary Education             1   \n",
       "3         3   -4124.747207         32  secondary education             1   \n",
       "4         0  340266.072047         53  secondary education             1   \n",
       "5         0    -926.185831         27    bachelor's degree             0   \n",
       "6         0   -2879.202052         43    bachelor's degree             0   \n",
       "7         0    -152.779569         50  SECONDARY EDUCATION             1   \n",
       "8         2   -6929.865299         35    BACHELOR'S DEGREE             0   \n",
       "9         0   -2188.756445         41  secondary education             1   \n",
       "\n",
       "       family_status  family_status_id gender income_type  debt  total_income  \\\n",
       "0            married                 0      F    employee     0     40620.102   \n",
       "1            married                 0      F    employee     0     17932.802   \n",
       "2            married                 0      M    employee     0     23341.752   \n",
       "3            married                 0      M    employee     0     42820.568   \n",
       "4  civil partnership                 1      F     retiree     0     25378.572   \n",
       "5  civil partnership                 1      M    business     0     40922.170   \n",
       "6            married                 0      F    business     0     38484.156   \n",
       "7            married                 0      M    employee     0     21731.829   \n",
       "8  civil partnership                 1      F    employee     0     15337.093   \n",
       "9            married                 0      M    employee     0     23108.150   \n",
       "\n",
       "                               purpose  \n",
       "0                purchase of the house  \n",
       "1                         car purchase  \n",
       "2                purchase of the house  \n",
       "3              supplementary education  \n",
       "4                    to have a wedding  \n",
       "5                purchase of the house  \n",
       "6                 housing transactions  \n",
       "7                            education  \n",
       "8                     having a wedding  \n",
       "9  purchase of the house for my family  "
      ]
     },
     "execution_count": 52,
     "metadata": {},
     "output_type": "execute_result"
    }
   ],
   "source": [
    "# Utilizing try-except mathod in order to be able to load the 'credit_scoring_eng.csv' on the platform,\n",
    "# as well as on my local computer.\n",
    "\n",
    "try:\n",
    "    #saving the data provided in the .csv in the variable credit_scoring(locally)\n",
    "    credit_scoring = pd.read_csv('credit_scoring_eng.csv')\n",
    "    \n",
    "except:\n",
    "    \n",
    "    #saving the data provided in the .csv in the variable credit_scoring(platform)\n",
    "    credit_scoring = pd.read_csv('/datasets/credit_scoring_eng.csv')\n",
    "    \n",
    "#printing the first 10 rows of the table to take a look at the data.\n",
    "credit_scoring.head(10)"
   ]
  },
  {
   "cell_type": "code",
   "execution_count": 53,
   "metadata": {},
   "outputs": [],
   "source": [
    "# Making a copy of the data so it could be manipulated without affecting the original variable, \n",
    "# in case something will go wrong.\n",
    "credit_scoring_copy = credit_scoring.copy(deep=True)"
   ]
  },
  {
   "cell_type": "markdown",
   "metadata": {},
   "source": [
    "<div class=\"alert alert-warning\" style=\"box-shadow: 4px 4px 4px\">\n",
    "<b>Remarks:</b> I advise you to read the materials on this link <a href=\"https://www.geeksforgeeks.org/difference-between-shallow-copy-vs-deep-copy-in-pandas-dataframes/#:~:text=A%20deep%20copy%20of%20a,objects%20found%20in%20the%20original.\">Shallow copy VS Deep copy</a><br>\n",
    "    \n",
    "In this case, if you change new DataFrame credit_scoring_copy the old one credit_scoring will also be changed\n",
    "</div>"
   ]
  },
  {
   "cell_type": "markdown",
   "metadata": {},
   "source": [
    "#### First we'll take a look at the data."
   ]
  },
  {
   "cell_type": "code",
   "execution_count": 54,
   "metadata": {},
   "outputs": [
    {
     "name": "stdout",
     "output_type": "stream",
     "text": [
      "<class 'pandas.core.frame.DataFrame'>\n",
      "RangeIndex: 21525 entries, 0 to 21524\n",
      "Data columns (total 12 columns):\n",
      "children            21525 non-null int64\n",
      "days_employed       19351 non-null float64\n",
      "dob_years           21525 non-null int64\n",
      "education           21525 non-null object\n",
      "education_id        21525 non-null int64\n",
      "family_status       21525 non-null object\n",
      "family_status_id    21525 non-null int64\n",
      "gender              21525 non-null object\n",
      "income_type         21525 non-null object\n",
      "debt                21525 non-null int64\n",
      "total_income        19351 non-null float64\n",
      "purpose             21525 non-null object\n",
      "dtypes: float64(2), int64(5), object(5)\n",
      "memory usage: 2.0+ MB\n"
     ]
    }
   ],
   "source": [
    "# Let's first take a closer look at the whole data set and look for any missing values as well as the data types.\n",
    "credit_scoring_copy.info()"
   ]
  },
  {
   "cell_type": "markdown",
   "metadata": {},
   "source": [
    "<div class=\"alert alert-block alert-info\">\n",
    "As we can see, the 'days_employed' column and the 'total_income' column are both missing values.\n",
    "</div>"
   ]
  },
  {
   "cell_type": "code",
   "execution_count": 55,
   "metadata": {},
   "outputs": [
    {
     "data": {
      "text/html": [
       "<div>\n",
       "<style scoped>\n",
       "    .dataframe tbody tr th:only-of-type {\n",
       "        vertical-align: middle;\n",
       "    }\n",
       "\n",
       "    .dataframe tbody tr th {\n",
       "        vertical-align: top;\n",
       "    }\n",
       "\n",
       "    .dataframe thead th {\n",
       "        text-align: right;\n",
       "    }\n",
       "</style>\n",
       "<table border=\"1\" class=\"dataframe\">\n",
       "  <thead>\n",
       "    <tr style=\"text-align: right;\">\n",
       "      <th></th>\n",
       "      <th>children</th>\n",
       "      <th>days_employed</th>\n",
       "      <th>dob_years</th>\n",
       "      <th>education_id</th>\n",
       "      <th>family_status_id</th>\n",
       "      <th>debt</th>\n",
       "      <th>total_income</th>\n",
       "    </tr>\n",
       "  </thead>\n",
       "  <tbody>\n",
       "    <tr>\n",
       "      <td>count</td>\n",
       "      <td>21525.000000</td>\n",
       "      <td>19351.000000</td>\n",
       "      <td>21525.000000</td>\n",
       "      <td>21525.000000</td>\n",
       "      <td>21525.000000</td>\n",
       "      <td>21525.000000</td>\n",
       "      <td>19351.000000</td>\n",
       "    </tr>\n",
       "    <tr>\n",
       "      <td>mean</td>\n",
       "      <td>0.538908</td>\n",
       "      <td>63046.497661</td>\n",
       "      <td>43.293380</td>\n",
       "      <td>0.817236</td>\n",
       "      <td>0.972544</td>\n",
       "      <td>0.080883</td>\n",
       "      <td>26787.568355</td>\n",
       "    </tr>\n",
       "    <tr>\n",
       "      <td>std</td>\n",
       "      <td>1.381587</td>\n",
       "      <td>140827.311974</td>\n",
       "      <td>12.574584</td>\n",
       "      <td>0.548138</td>\n",
       "      <td>1.420324</td>\n",
       "      <td>0.272661</td>\n",
       "      <td>16475.450632</td>\n",
       "    </tr>\n",
       "    <tr>\n",
       "      <td>min</td>\n",
       "      <td>-1.000000</td>\n",
       "      <td>-18388.949901</td>\n",
       "      <td>0.000000</td>\n",
       "      <td>0.000000</td>\n",
       "      <td>0.000000</td>\n",
       "      <td>0.000000</td>\n",
       "      <td>3306.762000</td>\n",
       "    </tr>\n",
       "    <tr>\n",
       "      <td>25%</td>\n",
       "      <td>0.000000</td>\n",
       "      <td>-2747.423625</td>\n",
       "      <td>33.000000</td>\n",
       "      <td>1.000000</td>\n",
       "      <td>0.000000</td>\n",
       "      <td>0.000000</td>\n",
       "      <td>16488.504500</td>\n",
       "    </tr>\n",
       "    <tr>\n",
       "      <td>50%</td>\n",
       "      <td>0.000000</td>\n",
       "      <td>-1203.369529</td>\n",
       "      <td>42.000000</td>\n",
       "      <td>1.000000</td>\n",
       "      <td>0.000000</td>\n",
       "      <td>0.000000</td>\n",
       "      <td>23202.870000</td>\n",
       "    </tr>\n",
       "    <tr>\n",
       "      <td>75%</td>\n",
       "      <td>1.000000</td>\n",
       "      <td>-291.095954</td>\n",
       "      <td>53.000000</td>\n",
       "      <td>1.000000</td>\n",
       "      <td>1.000000</td>\n",
       "      <td>0.000000</td>\n",
       "      <td>32549.611000</td>\n",
       "    </tr>\n",
       "    <tr>\n",
       "      <td>max</td>\n",
       "      <td>20.000000</td>\n",
       "      <td>401755.400475</td>\n",
       "      <td>75.000000</td>\n",
       "      <td>4.000000</td>\n",
       "      <td>4.000000</td>\n",
       "      <td>1.000000</td>\n",
       "      <td>362496.645000</td>\n",
       "    </tr>\n",
       "  </tbody>\n",
       "</table>\n",
       "</div>"
      ],
      "text/plain": [
       "           children  days_employed     dob_years  education_id  \\\n",
       "count  21525.000000   19351.000000  21525.000000  21525.000000   \n",
       "mean       0.538908   63046.497661     43.293380      0.817236   \n",
       "std        1.381587  140827.311974     12.574584      0.548138   \n",
       "min       -1.000000  -18388.949901      0.000000      0.000000   \n",
       "25%        0.000000   -2747.423625     33.000000      1.000000   \n",
       "50%        0.000000   -1203.369529     42.000000      1.000000   \n",
       "75%        1.000000    -291.095954     53.000000      1.000000   \n",
       "max       20.000000  401755.400475     75.000000      4.000000   \n",
       "\n",
       "       family_status_id          debt   total_income  \n",
       "count      21525.000000  21525.000000   19351.000000  \n",
       "mean           0.972544      0.080883   26787.568355  \n",
       "std            1.420324      0.272661   16475.450632  \n",
       "min            0.000000      0.000000    3306.762000  \n",
       "25%            0.000000      0.000000   16488.504500  \n",
       "50%            0.000000      0.000000   23202.870000  \n",
       "75%            1.000000      0.000000   32549.611000  \n",
       "max            4.000000      1.000000  362496.645000  "
      ]
     },
     "execution_count": 55,
     "metadata": {},
     "output_type": "execute_result"
    }
   ],
   "source": [
    "# We can now use describe() to get even more details about our data.\n",
    "credit_scoring_copy.describe()"
   ]
  },
  {
   "cell_type": "markdown",
   "metadata": {},
   "source": [
    "<div class=\"alert alert-block alert-info\">\n",
    "\n",
    " - That's interesting, we have a value of -1 in the 'children' column, and a maximum value of 20(:flushed:), which is not realistic.\n",
    " - Along with those negative values we have seen previously, there is a very high value at 'days_employed'.\n",
    "</div>"
   ]
  },
  {
   "cell_type": "code",
   "execution_count": 56,
   "metadata": {},
   "outputs": [
    {
     "data": {
      "text/html": [
       "<div>\n",
       "<style scoped>\n",
       "    .dataframe tbody tr th:only-of-type {\n",
       "        vertical-align: middle;\n",
       "    }\n",
       "\n",
       "    .dataframe tbody tr th {\n",
       "        vertical-align: top;\n",
       "    }\n",
       "\n",
       "    .dataframe thead th {\n",
       "        text-align: right;\n",
       "    }\n",
       "</style>\n",
       "<table border=\"1\" class=\"dataframe\">\n",
       "  <thead>\n",
       "    <tr style=\"text-align: right;\">\n",
       "      <th></th>\n",
       "      <th>education</th>\n",
       "      <th>family_status</th>\n",
       "      <th>gender</th>\n",
       "      <th>income_type</th>\n",
       "      <th>purpose</th>\n",
       "    </tr>\n",
       "  </thead>\n",
       "  <tbody>\n",
       "    <tr>\n",
       "      <td>count</td>\n",
       "      <td>21525</td>\n",
       "      <td>21525</td>\n",
       "      <td>21525</td>\n",
       "      <td>21525</td>\n",
       "      <td>21525</td>\n",
       "    </tr>\n",
       "    <tr>\n",
       "      <td>unique</td>\n",
       "      <td>15</td>\n",
       "      <td>5</td>\n",
       "      <td>3</td>\n",
       "      <td>8</td>\n",
       "      <td>38</td>\n",
       "    </tr>\n",
       "    <tr>\n",
       "      <td>top</td>\n",
       "      <td>secondary education</td>\n",
       "      <td>married</td>\n",
       "      <td>F</td>\n",
       "      <td>employee</td>\n",
       "      <td>wedding ceremony</td>\n",
       "    </tr>\n",
       "    <tr>\n",
       "      <td>freq</td>\n",
       "      <td>13750</td>\n",
       "      <td>12380</td>\n",
       "      <td>14236</td>\n",
       "      <td>11119</td>\n",
       "      <td>797</td>\n",
       "    </tr>\n",
       "  </tbody>\n",
       "</table>\n",
       "</div>"
      ],
      "text/plain": [
       "                  education family_status gender income_type           purpose\n",
       "count                 21525         21525  21525       21525             21525\n",
       "unique                   15             5      3           8                38\n",
       "top     secondary education       married      F    employee  wedding ceremony\n",
       "freq                  13750         12380  14236       11119               797"
      ]
     },
     "execution_count": 56,
     "metadata": {},
     "output_type": "execute_result"
    }
   ],
   "source": [
    "# Using describe() method to check for all 'object' types.\n",
    "credit_scoring_copy.describe(include='object')"
   ]
  },
  {
   "cell_type": "markdown",
   "metadata": {},
   "source": [
    "### Conclusion"
   ]
  },
  {
   "cell_type": "markdown",
   "metadata": {},
   "source": [
    "<div class=\"alert alert-block alert-info\">\n",
    "\n",
    "Upon first glance of the data, we can see that days_employed has some strange negative values,<br>\n",
    "how can someone work negative amount of time?<br>\n",
    "To better understand this, we need to take a closer look at the data.<br>\n",
    "A number of the values are also unrealistically high. (Ex. row number 4), is it a typo?<br>\n",
    "Is there a procedure in place when putting that data into the bank's system?<br> \n",
    "Maybe it represents something internal,<br>\n",
    "or is it some sort of technical malfunction?\n",
    "</div>"
   ]
  },
  {
   "cell_type": "markdown",
   "metadata": {},
   "source": [
    "<div class=\"alert alert-success\" style=\"box-shadow: 4px 4px 4px\">\n",
    "<b>Success:</b> Agree, good points!\n",
    "</div>\n",
    "\n",
    "<div class=\"alert alert-warning\" style=\"box-shadow: 4px 4px 4px\">\n",
    "<b>Remarks:</b> What about general information? Step 3.1.1 logically should be here, this is not critical, but it is better to show information about the data at the very first step\n",
    "</div>"
   ]
  },
  {
   "cell_type": "markdown",
   "metadata": {},
   "source": [
    "<div class=\"alert alert-block alert-info\">\n",
    "\n",
    " I would first try to contact whoever provided the data and ask them <br>\n",
    "    About the missing income data at the total_income column. (As well as days_employed to make sense of it.)\n",
    "    <br>\n",
    "    However, that's not an option at the moment.<br>\n",
    " Let's see what we can do with those missing values.\n",
    "</div>"
   ]
  },
  {
   "cell_type": "markdown",
   "metadata": {},
   "source": [
    "<div class=\"alert alert-success\" style=\"box-shadow: 4px 4px 4px\">\n",
    "<b>Success:</b> Well done, you are carefully looking at the data! \n",
    "    <br> It is a good idea to write to the person responsible for the conscience of the dataset, but what if this is not possible? \n",
    "    <br>Unfortunately, this happens in real life😥\n",
    "</div>"
   ]
  },
  {
   "cell_type": "markdown",
   "metadata": {},
   "source": [
    "***"
   ]
  },
  {
   "cell_type": "markdown",
   "metadata": {},
   "source": [
    "## Data Pre-Processing"
   ]
  },
  {
   "cell_type": "markdown",
   "metadata": {},
   "source": [
    "### Processing missing values"
   ]
  },
  {
   "cell_type": "markdown",
   "metadata": {},
   "source": [
    "#### Let's look at 'days_employed' column."
   ]
  },
  {
   "cell_type": "code",
   "execution_count": 57,
   "metadata": {},
   "outputs": [
    {
     "data": {
      "text/plain": [
       "15906"
      ]
     },
     "execution_count": 57,
     "metadata": {},
     "output_type": "execute_result"
    }
   ],
   "source": [
    "# Checking how many negative values there are in 'days_employed'.\n",
    "sum(credit_scoring_copy['days_employed'] < 0)"
   ]
  },
  {
   "cell_type": "markdown",
   "metadata": {},
   "source": [
    "<div class=\"alert alert-block alert-info\">\n",
    "\n",
    "15906 values are negative in this column.<br>\n",
    "    Let's take a look at the precantage.\n",
    "</div>"
   ]
  },
  {
   "cell_type": "code",
   "execution_count": 58,
   "metadata": {},
   "outputs": [
    {
     "data": {
      "text/plain": [
       "0.7389547038327526"
      ]
     },
     "execution_count": 58,
     "metadata": {},
     "output_type": "execute_result"
    }
   ],
   "source": [
    "# Checking the precentage of negative values in 'days_employed'.\n",
    "sum(credit_scoring_copy['days_employed'] < 0) / len(credit_scoring_copy)"
   ]
  },
  {
   "cell_type": "markdown",
   "metadata": {},
   "source": [
    "<div class=\"alert alert-block alert-info\">\n",
    "\n",
    " - Almost 74% of all values are negative.\n",
    "</div>"
   ]
  },
  {
   "cell_type": "code",
   "execution_count": 59,
   "metadata": {},
   "outputs": [
    {
     "data": {
      "text/plain": [
       "False    19351\n",
       "True      2174\n",
       "Name: days_employed, dtype: int64"
      ]
     },
     "execution_count": 59,
     "metadata": {},
     "output_type": "execute_result"
    }
   ],
   "source": [
    "# determinig how many missing values there are in 'days_employed'.\n",
    "credit_scoring_copy['days_employed'].isnull().value_counts()"
   ]
  },
  {
   "cell_type": "code",
   "execution_count": 60,
   "metadata": {},
   "outputs": [
    {
     "data": {
      "text/plain": [
       "False    0.899001\n",
       "True     0.100999\n",
       "Name: total_income, dtype: float64"
      ]
     },
     "execution_count": 60,
     "metadata": {},
     "output_type": "execute_result"
    }
   ],
   "source": [
    "# checking the precentage of missing values from total values.\n",
    "credit_scoring_copy['total_income'].isnull().value_counts() / len(credit_scoring_copy)"
   ]
  },
  {
   "cell_type": "markdown",
   "metadata": {},
   "source": [
    "<div class=\"alert alert-block alert-info\">\n",
    "\n",
    "2174 values are missing in 'days_employed' column.<br>\n",
    "Which are 10% of total values.\n",
    "</div>"
   ]
  },
  {
   "cell_type": "markdown",
   "metadata": {},
   "source": [
    "<div class=\"alert alert-success\" style=\"box-shadow: 4px 4px 4px\">\n",
    "<b>Success:</b> I like your approach to handling gaps - it's useful to know the percentage of valid and invalid values\n",
    "</div>"
   ]
  },
  {
   "cell_type": "markdown",
   "metadata": {},
   "source": [
    "<div class=\"alert alert-block alert-info\">\n",
    "\n",
    "Combining missing values and negative values in 'days_employed', we have<br>\n",
    "84% of values that are not useable at their current state.<br>\n",
    "    We'll need to change the negative numbers to their positive state.\n",
    "    \n",
    "</div>"
   ]
  },
  {
   "cell_type": "code",
   "execution_count": 61,
   "metadata": {},
   "outputs": [
    {
     "data": {
      "text/html": [
       "<div>\n",
       "<style scoped>\n",
       "    .dataframe tbody tr th:only-of-type {\n",
       "        vertical-align: middle;\n",
       "    }\n",
       "\n",
       "    .dataframe tbody tr th {\n",
       "        vertical-align: top;\n",
       "    }\n",
       "\n",
       "    .dataframe thead th {\n",
       "        text-align: right;\n",
       "    }\n",
       "</style>\n",
       "<table border=\"1\" class=\"dataframe\">\n",
       "  <thead>\n",
       "    <tr style=\"text-align: right;\">\n",
       "      <th></th>\n",
       "      <th>children</th>\n",
       "      <th>days_employed</th>\n",
       "      <th>dob_years</th>\n",
       "      <th>education_id</th>\n",
       "      <th>family_status_id</th>\n",
       "      <th>debt</th>\n",
       "      <th>total_income</th>\n",
       "    </tr>\n",
       "  </thead>\n",
       "  <tbody>\n",
       "    <tr>\n",
       "      <td>count</td>\n",
       "      <td>21525.000000</td>\n",
       "      <td>19351.000000</td>\n",
       "      <td>21525.000000</td>\n",
       "      <td>21525.000000</td>\n",
       "      <td>21525.000000</td>\n",
       "      <td>21525.000000</td>\n",
       "      <td>19351.000000</td>\n",
       "    </tr>\n",
       "    <tr>\n",
       "      <td>mean</td>\n",
       "      <td>0.538908</td>\n",
       "      <td>66914.728907</td>\n",
       "      <td>43.293380</td>\n",
       "      <td>0.817236</td>\n",
       "      <td>0.972544</td>\n",
       "      <td>0.080883</td>\n",
       "      <td>26787.568355</td>\n",
       "    </tr>\n",
       "    <tr>\n",
       "      <td>std</td>\n",
       "      <td>1.381587</td>\n",
       "      <td>139030.880527</td>\n",
       "      <td>12.574584</td>\n",
       "      <td>0.548138</td>\n",
       "      <td>1.420324</td>\n",
       "      <td>0.272661</td>\n",
       "      <td>16475.450632</td>\n",
       "    </tr>\n",
       "    <tr>\n",
       "      <td>min</td>\n",
       "      <td>-1.000000</td>\n",
       "      <td>24.141633</td>\n",
       "      <td>0.000000</td>\n",
       "      <td>0.000000</td>\n",
       "      <td>0.000000</td>\n",
       "      <td>0.000000</td>\n",
       "      <td>3306.762000</td>\n",
       "    </tr>\n",
       "    <tr>\n",
       "      <td>25%</td>\n",
       "      <td>0.000000</td>\n",
       "      <td>927.009265</td>\n",
       "      <td>33.000000</td>\n",
       "      <td>1.000000</td>\n",
       "      <td>0.000000</td>\n",
       "      <td>0.000000</td>\n",
       "      <td>16488.504500</td>\n",
       "    </tr>\n",
       "    <tr>\n",
       "      <td>50%</td>\n",
       "      <td>0.000000</td>\n",
       "      <td>2194.220567</td>\n",
       "      <td>42.000000</td>\n",
       "      <td>1.000000</td>\n",
       "      <td>0.000000</td>\n",
       "      <td>0.000000</td>\n",
       "      <td>23202.870000</td>\n",
       "    </tr>\n",
       "    <tr>\n",
       "      <td>75%</td>\n",
       "      <td>1.000000</td>\n",
       "      <td>5537.882441</td>\n",
       "      <td>53.000000</td>\n",
       "      <td>1.000000</td>\n",
       "      <td>1.000000</td>\n",
       "      <td>0.000000</td>\n",
       "      <td>32549.611000</td>\n",
       "    </tr>\n",
       "    <tr>\n",
       "      <td>max</td>\n",
       "      <td>20.000000</td>\n",
       "      <td>401755.400475</td>\n",
       "      <td>75.000000</td>\n",
       "      <td>4.000000</td>\n",
       "      <td>4.000000</td>\n",
       "      <td>1.000000</td>\n",
       "      <td>362496.645000</td>\n",
       "    </tr>\n",
       "  </tbody>\n",
       "</table>\n",
       "</div>"
      ],
      "text/plain": [
       "           children  days_employed     dob_years  education_id  \\\n",
       "count  21525.000000   19351.000000  21525.000000  21525.000000   \n",
       "mean       0.538908   66914.728907     43.293380      0.817236   \n",
       "std        1.381587  139030.880527     12.574584      0.548138   \n",
       "min       -1.000000      24.141633      0.000000      0.000000   \n",
       "25%        0.000000     927.009265     33.000000      1.000000   \n",
       "50%        0.000000    2194.220567     42.000000      1.000000   \n",
       "75%        1.000000    5537.882441     53.000000      1.000000   \n",
       "max       20.000000  401755.400475     75.000000      4.000000   \n",
       "\n",
       "       family_status_id          debt   total_income  \n",
       "count      21525.000000  21525.000000   19351.000000  \n",
       "mean           0.972544      0.080883   26787.568355  \n",
       "std            1.420324      0.272661   16475.450632  \n",
       "min            0.000000      0.000000    3306.762000  \n",
       "25%            0.000000      0.000000   16488.504500  \n",
       "50%            0.000000      0.000000   23202.870000  \n",
       "75%            1.000000      0.000000   32549.611000  \n",
       "max            4.000000      1.000000  362496.645000  "
      ]
     },
     "execution_count": 61,
     "metadata": {},
     "output_type": "execute_result"
    }
   ],
   "source": [
    "# Changing values that are negative to absolute value in 'days_employed'.\n",
    "credit_scoring_copy['days_employed'] = credit_scoring_copy['days_employed'].abs()\n",
    "\n",
    "# Utilizing describe once again now that 'days_employed' has no negative values.\n",
    "credit_scoring_copy.describe()"
   ]
  },
  {
   "cell_type": "markdown",
   "metadata": {},
   "source": [
    "<div class=\"alert alert-block alert-info\">\n",
    "\n",
    "Here are a few things to consider:<br>\n",
    "    - The mean is so high that it is impossible to work that many days in a lifetime, indicating that there are some fairly large outliers that push it towards the top.<br>\n",
    "    - A second evidence for it is the 50% line or the median, which is a normal and reasonable value.<br>\n",
    "    - In addition, if we take a look at the 'std' line (standard division), we could see that the value is excessively high, which means we have values scattered all over the place.<br>\n",
    "    - And finally, when we look at 'max', we see '401755', which is impossible no matter what, it means that someone has worked non-stop for 1,100 years! (I would rather not be that person).<br>\n",
    "    The following things come to mind when thinking about this,<br>\n",
    "    - Maybe 'days_employed' does not describe days at all.<br>\n",
    "    - Maybe the data got mixed up with another?<br>\n",
    "    - Maybe the data was corrupted somewhere during the process?<br>\n",
    "    \n",
    "</div>"
   ]
  },
  {
   "cell_type": "markdown",
   "metadata": {},
   "source": [
    "<div class=\"alert alert-block alert-info\">\n",
    "Okay, if I take into account the questions that need to be answered,<br>\n",
    "As far as days_employed is concerned, I'm inclined to ignore it,<br>\n",
    "Since it doesn't contain anything of use to me now but may be in the future,<br>\n",
    "Therefore, I will not drop it, just ignore it for now.<br>\n",
    "</div>"
   ]
  },
  {
   "cell_type": "markdown",
   "metadata": {},
   "source": [
    "<div class=\"alert alert-danger\" style=\"box-shadow: 4px 4px 4px\">\n",
    "<s><b>Needs fixing:</b> Hint: Negative values ​​are allowed. It is enough to apply the abs() method to them. But this is not the only problem with this column, I advise you to check the outliers<s>\n",
    "</div>\n",
    "    \n",
    "<div class=\"alert alert-success\" style=\"box-shadow: 4px 4px 4px\">\n",
    "<b>Success #2:</b> Now everything is ok 👌\n",
    "</div>"
   ]
  },
  {
   "cell_type": "markdown",
   "metadata": {},
   "source": [
    " <div class=\"alert alert-block alert-info\">\n",
    "However, the 'total_income' column is important to me and to answering the questions, so let's dig in.\n",
    "</div>"
   ]
  },
  {
   "cell_type": "markdown",
   "metadata": {},
   "source": [
    "#### Let's look at 'total_income' columns."
   ]
  },
  {
   "cell_type": "code",
   "execution_count": 62,
   "metadata": {},
   "outputs": [
    {
     "data": {
      "text/plain": [
       "False    19351\n",
       "True      2174\n",
       "Name: total_income, dtype: int64"
      ]
     },
     "execution_count": 62,
     "metadata": {},
     "output_type": "execute_result"
    }
   ],
   "source": [
    "# determinig how many missing values there are in 'total_income'.\n",
    "credit_scoring_copy['total_income'].isnull().value_counts()"
   ]
  },
  {
   "cell_type": "markdown",
   "metadata": {},
   "source": [
    "<div class=\"alert alert-block alert-info\">\n",
    "\n",
    "There are 2174 missing values in the total_income column, interesting.. it's the same amount as in 'days_employed' <br>\n",
    " - Are they conected?\n",
    "</div>"
   ]
  },
  {
   "cell_type": "code",
   "execution_count": 63,
   "metadata": {
    "scrolled": true
   },
   "outputs": [
    {
     "data": {
      "text/plain": [
       "False    0.899001\n",
       "True     0.100999\n",
       "Name: total_income, dtype: float64"
      ]
     },
     "execution_count": 63,
     "metadata": {},
     "output_type": "execute_result"
    }
   ],
   "source": [
    "# checking the precentage of missing values from total values.\n",
    "credit_scoring_copy['total_income'].isnull().value_counts() / len(credit_scoring_copy)"
   ]
  },
  {
   "cell_type": "markdown",
   "metadata": {},
   "source": [
    "<div class=\"alert alert-block alert-info\">\n",
    "\n",
    " - We have about 10% of missing values in 'total_income'.\n",
    " - Because it is a quantetive value, it would be wise to fill it with the median() or the mean() of the column,<br>\n",
    "    but not before we check the connection between 'days_employed' and 'total_income'.\n",
    "</div>"
   ]
  },
  {
   "cell_type": "code",
   "execution_count": 64,
   "metadata": {},
   "outputs": [],
   "source": [
    "# Checking for the missing values in 'total_income' and saving into 'connected_missing_values' variable.\n",
    "connected_missing_values = credit_scoring_copy[credit_scoring_copy['total_income'].isnull()]"
   ]
  },
  {
   "cell_type": "code",
   "execution_count": 65,
   "metadata": {},
   "outputs": [
    {
     "data": {
      "text/plain": [
       "2174"
      ]
     },
     "execution_count": 65,
     "metadata": {},
     "output_type": "execute_result"
    }
   ],
   "source": [
    "# Checking that all the mising values in 'days_employed' apear in the table.\n",
    "connected_missing_values['days_employed'].isnull().count()"
   ]
  },
  {
   "cell_type": "markdown",
   "metadata": {},
   "source": [
    "<div class=\"alert alert-block alert-info\">\n",
    "\n",
    "In fact, all the missing values in this table are in both columns at the same row.<Br>\n",
    "There may be a link between the missing values in the 'total_income' column and the 'days_employed' column.<Br>\n",
    "I should investigate, however, the data is so weird at the 'days_employed' column, and it has nothing to do with the information I'm looking for,<Br> \n",
    "so I'll ignore it for now.<Br> \n",
    "In a real life situation, I would ask those who supplied the data where all the values came from.\n",
    "</div>"
   ]
  },
  {
   "cell_type": "markdown",
   "metadata": {},
   "source": [
    "<div class=\"alert alert-success\" style=\"box-shadow: 4px 4px 4px\">\n",
    "<b>Success:</b> Good reasoning 👍\n",
    "</div>"
   ]
  },
  {
   "cell_type": "markdown",
   "metadata": {},
   "source": [
    "#### Let's take a look at the 'children' column."
   ]
  },
  {
   "cell_type": "code",
   "execution_count": 66,
   "metadata": {
    "scrolled": true
   },
   "outputs": [
    {
     "data": {
      "text/plain": [
       " 0     14149\n",
       " 1      4818\n",
       " 2      2055\n",
       " 3       330\n",
       " 20       76\n",
       "-1        47\n",
       " 4        41\n",
       " 5         9\n",
       "Name: children, dtype: int64"
      ]
     },
     "execution_count": 66,
     "metadata": {},
     "output_type": "execute_result"
    }
   ],
   "source": [
    "# Looking at 'children' column to see the different values and counts.\n",
    "credit_scoring_copy['children'].value_counts()"
   ]
  },
  {
   "cell_type": "code",
   "execution_count": 67,
   "metadata": {},
   "outputs": [
    {
     "data": {
      "text/html": [
       "<div>\n",
       "<style scoped>\n",
       "    .dataframe tbody tr th:only-of-type {\n",
       "        vertical-align: middle;\n",
       "    }\n",
       "\n",
       "    .dataframe tbody tr th {\n",
       "        vertical-align: top;\n",
       "    }\n",
       "\n",
       "    .dataframe thead th {\n",
       "        text-align: right;\n",
       "    }\n",
       "</style>\n",
       "<table border=\"1\" class=\"dataframe\">\n",
       "  <thead>\n",
       "    <tr style=\"text-align: right;\">\n",
       "      <th></th>\n",
       "      <th>children</th>\n",
       "      <th>days_employed</th>\n",
       "      <th>dob_years</th>\n",
       "      <th>education</th>\n",
       "      <th>education_id</th>\n",
       "      <th>family_status</th>\n",
       "      <th>family_status_id</th>\n",
       "      <th>gender</th>\n",
       "      <th>income_type</th>\n",
       "      <th>debt</th>\n",
       "      <th>total_income</th>\n",
       "      <th>purpose</th>\n",
       "    </tr>\n",
       "  </thead>\n",
       "  <tbody>\n",
       "    <tr>\n",
       "      <td>606</td>\n",
       "      <td>20</td>\n",
       "      <td>880.221113</td>\n",
       "      <td>21</td>\n",
       "      <td>secondary education</td>\n",
       "      <td>1</td>\n",
       "      <td>married</td>\n",
       "      <td>0</td>\n",
       "      <td>M</td>\n",
       "      <td>business</td>\n",
       "      <td>0</td>\n",
       "      <td>23253.578</td>\n",
       "      <td>purchase of the house</td>\n",
       "    </tr>\n",
       "    <tr>\n",
       "      <td>720</td>\n",
       "      <td>20</td>\n",
       "      <td>855.595512</td>\n",
       "      <td>44</td>\n",
       "      <td>secondary education</td>\n",
       "      <td>1</td>\n",
       "      <td>married</td>\n",
       "      <td>0</td>\n",
       "      <td>F</td>\n",
       "      <td>business</td>\n",
       "      <td>0</td>\n",
       "      <td>18079.798</td>\n",
       "      <td>buy real estate</td>\n",
       "    </tr>\n",
       "    <tr>\n",
       "      <td>1074</td>\n",
       "      <td>20</td>\n",
       "      <td>3310.411598</td>\n",
       "      <td>56</td>\n",
       "      <td>secondary education</td>\n",
       "      <td>1</td>\n",
       "      <td>married</td>\n",
       "      <td>0</td>\n",
       "      <td>F</td>\n",
       "      <td>employee</td>\n",
       "      <td>1</td>\n",
       "      <td>36722.966</td>\n",
       "      <td>getting an education</td>\n",
       "    </tr>\n",
       "    <tr>\n",
       "      <td>2510</td>\n",
       "      <td>20</td>\n",
       "      <td>2714.161249</td>\n",
       "      <td>59</td>\n",
       "      <td>bachelor's degree</td>\n",
       "      <td>0</td>\n",
       "      <td>widow / widower</td>\n",
       "      <td>2</td>\n",
       "      <td>F</td>\n",
       "      <td>employee</td>\n",
       "      <td>0</td>\n",
       "      <td>42315.974</td>\n",
       "      <td>transactions with commercial real estate</td>\n",
       "    </tr>\n",
       "    <tr>\n",
       "      <td>2941</td>\n",
       "      <td>20</td>\n",
       "      <td>2161.591519</td>\n",
       "      <td>0</td>\n",
       "      <td>secondary education</td>\n",
       "      <td>1</td>\n",
       "      <td>married</td>\n",
       "      <td>0</td>\n",
       "      <td>F</td>\n",
       "      <td>employee</td>\n",
       "      <td>0</td>\n",
       "      <td>31958.391</td>\n",
       "      <td>to buy a car</td>\n",
       "    </tr>\n",
       "    <tr>\n",
       "      <td>3302</td>\n",
       "      <td>20</td>\n",
       "      <td>NaN</td>\n",
       "      <td>35</td>\n",
       "      <td>secondary education</td>\n",
       "      <td>1</td>\n",
       "      <td>unmarried</td>\n",
       "      <td>4</td>\n",
       "      <td>F</td>\n",
       "      <td>civil servant</td>\n",
       "      <td>0</td>\n",
       "      <td>NaN</td>\n",
       "      <td>profile education</td>\n",
       "    </tr>\n",
       "    <tr>\n",
       "      <td>3396</td>\n",
       "      <td>20</td>\n",
       "      <td>NaN</td>\n",
       "      <td>56</td>\n",
       "      <td>bachelor's degree</td>\n",
       "      <td>0</td>\n",
       "      <td>married</td>\n",
       "      <td>0</td>\n",
       "      <td>F</td>\n",
       "      <td>business</td>\n",
       "      <td>0</td>\n",
       "      <td>NaN</td>\n",
       "      <td>university education</td>\n",
       "    </tr>\n",
       "    <tr>\n",
       "      <td>3671</td>\n",
       "      <td>20</td>\n",
       "      <td>913.161503</td>\n",
       "      <td>23</td>\n",
       "      <td>secondary education</td>\n",
       "      <td>1</td>\n",
       "      <td>unmarried</td>\n",
       "      <td>4</td>\n",
       "      <td>F</td>\n",
       "      <td>employee</td>\n",
       "      <td>0</td>\n",
       "      <td>16200.879</td>\n",
       "      <td>buying a second-hand car</td>\n",
       "    </tr>\n",
       "    <tr>\n",
       "      <td>3697</td>\n",
       "      <td>20</td>\n",
       "      <td>2907.910616</td>\n",
       "      <td>40</td>\n",
       "      <td>secondary education</td>\n",
       "      <td>1</td>\n",
       "      <td>civil partnership</td>\n",
       "      <td>1</td>\n",
       "      <td>M</td>\n",
       "      <td>employee</td>\n",
       "      <td>0</td>\n",
       "      <td>18460.911</td>\n",
       "      <td>buying a second-hand car</td>\n",
       "    </tr>\n",
       "    <tr>\n",
       "      <td>3735</td>\n",
       "      <td>20</td>\n",
       "      <td>805.044438</td>\n",
       "      <td>26</td>\n",
       "      <td>bachelor's degree</td>\n",
       "      <td>0</td>\n",
       "      <td>unmarried</td>\n",
       "      <td>4</td>\n",
       "      <td>M</td>\n",
       "      <td>employee</td>\n",
       "      <td>0</td>\n",
       "      <td>21952.103</td>\n",
       "      <td>housing renovation</td>\n",
       "    </tr>\n",
       "  </tbody>\n",
       "</table>\n",
       "</div>"
      ],
      "text/plain": [
       "      children  days_employed  dob_years            education  education_id  \\\n",
       "606         20     880.221113         21  secondary education             1   \n",
       "720         20     855.595512         44  secondary education             1   \n",
       "1074        20    3310.411598         56  secondary education             1   \n",
       "2510        20    2714.161249         59    bachelor's degree             0   \n",
       "2941        20    2161.591519          0  secondary education             1   \n",
       "3302        20            NaN         35  secondary education             1   \n",
       "3396        20            NaN         56    bachelor's degree             0   \n",
       "3671        20     913.161503         23  secondary education             1   \n",
       "3697        20    2907.910616         40  secondary education             1   \n",
       "3735        20     805.044438         26    bachelor's degree             0   \n",
       "\n",
       "          family_status  family_status_id gender    income_type  debt  \\\n",
       "606             married                 0      M       business     0   \n",
       "720             married                 0      F       business     0   \n",
       "1074            married                 0      F       employee     1   \n",
       "2510    widow / widower                 2      F       employee     0   \n",
       "2941            married                 0      F       employee     0   \n",
       "3302          unmarried                 4      F  civil servant     0   \n",
       "3396            married                 0      F       business     0   \n",
       "3671          unmarried                 4      F       employee     0   \n",
       "3697  civil partnership                 1      M       employee     0   \n",
       "3735          unmarried                 4      M       employee     0   \n",
       "\n",
       "      total_income                                   purpose  \n",
       "606      23253.578                     purchase of the house  \n",
       "720      18079.798                           buy real estate  \n",
       "1074     36722.966                      getting an education  \n",
       "2510     42315.974  transactions with commercial real estate  \n",
       "2941     31958.391                              to buy a car  \n",
       "3302           NaN                         profile education  \n",
       "3396           NaN                      university education  \n",
       "3671     16200.879                  buying a second-hand car  \n",
       "3697     18460.911                  buying a second-hand car  \n",
       "3735     21952.103                        housing renovation  "
      ]
     },
     "execution_count": 67,
     "metadata": {},
     "output_type": "execute_result"
    }
   ],
   "source": [
    "# Checking to see the rows with 'children' = 20.\n",
    "credit_scoring_copy[credit_scoring_copy['children'] == 20].head(10)"
   ]
  },
  {
   "cell_type": "markdown",
   "metadata": {},
   "source": [
    "<div class=\"alert alert-block alert-info\">\n",
    "There are two things that going on here:<br>\n",
    "    - there are 76 rows of 20 children, which is non-realistic and my guess would be a typo of 2.<br>\n",
    "    - there are 47 rows of -1 children, which is non-realistic and my guess would be a typo of 1.<br>\n",
    "    these errors don't count for much of the data so I feel comterable to make the changes.\n",
    "</div>"
   ]
  },
  {
   "cell_type": "markdown",
   "metadata": {},
   "source": [
    "<div class=\"alert alert-success\" style=\"box-shadow: 4px 4px 4px\">\n",
    "<b>Success:</b> Agree\n",
    "</div>"
   ]
  },
  {
   "cell_type": "markdown",
   "metadata": {},
   "source": [
    "***"
   ]
  },
  {
   "cell_type": "markdown",
   "metadata": {},
   "source": [
    "#### Dealing with problematic columns."
   ]
  },
  {
   "cell_type": "markdown",
   "metadata": {},
   "source": [
    "<div class=\"alert alert-block alert-info\">\n",
    "    Let's start with the 'total_income' and 'children' columns.<br>\n",
    "    The first column is 'total_income':<br>\n",
    "    - We know there are missing values, we know it's a quantitative variable.<br>\n",
    "    - We will use the mean() or the median() to fill in the data, <br>\n",
    "    - It would be wise to determine if there are any outliers that can influence the data.<br>\n",
    "    - It would also be wise to do it by 'gender' since men and women are paid differently, unfortunately.\n",
    "</div>"
   ]
  },
  {
   "cell_type": "markdown",
   "metadata": {},
   "source": [
    "#### Mean() by 'gender'."
   ]
  },
  {
   "cell_type": "code",
   "execution_count": 68,
   "metadata": {},
   "outputs": [
    {
     "data": {
      "text/plain": [
       "gender\n",
       "F      24655.604757\n",
       "M      30907.144369\n",
       "XNA    32624.825000\n",
       "Name: total_income, dtype: float64"
      ]
     },
     "execution_count": 68,
     "metadata": {},
     "output_type": "execute_result"
    }
   ],
   "source": [
    "# Checking the .mean() of 'total_income' by 'gender'.\n",
    "credit_scoring_copy.groupby('gender')['total_income'].mean()"
   ]
  },
  {
   "cell_type": "markdown",
   "metadata": {},
   "source": [
    "#### Median()) by 'gender'."
   ]
  },
  {
   "cell_type": "code",
   "execution_count": 69,
   "metadata": {},
   "outputs": [
    {
     "data": {
      "text/plain": [
       "gender\n",
       "F      21464.845\n",
       "M      26834.295\n",
       "XNA    32624.825\n",
       "Name: total_income, dtype: float64"
      ]
     },
     "execution_count": 69,
     "metadata": {},
     "output_type": "execute_result"
    }
   ],
   "source": [
    "# Checking the .median() of 'total_income' by 'gender'.\n",
    "credit_scoring_copy.groupby('gender')['total_income'].median()"
   ]
  },
  {
   "cell_type": "markdown",
   "metadata": {},
   "source": [
    "<div class=\"alert alert-block alert-info\">\n",
    "\n",
    "Due to the higher mean than median, it appears that there are some outliers that pull the data up.<br>\n",
    "As the median is more representative of the data than the mean, I will fill in the missing values with the median.<br>\n",
    "Let's look at the row with 'XNA' as the gender.\n",
    "</div>"
   ]
  },
  {
   "cell_type": "markdown",
   "metadata": {},
   "source": [
    "#### Let's look at the one row with 'XNA' as 'gender'."
   ]
  },
  {
   "cell_type": "code",
   "execution_count": 70,
   "metadata": {},
   "outputs": [
    {
     "data": {
      "text/html": [
       "<div>\n",
       "<style scoped>\n",
       "    .dataframe tbody tr th:only-of-type {\n",
       "        vertical-align: middle;\n",
       "    }\n",
       "\n",
       "    .dataframe tbody tr th {\n",
       "        vertical-align: top;\n",
       "    }\n",
       "\n",
       "    .dataframe thead th {\n",
       "        text-align: right;\n",
       "    }\n",
       "</style>\n",
       "<table border=\"1\" class=\"dataframe\">\n",
       "  <thead>\n",
       "    <tr style=\"text-align: right;\">\n",
       "      <th></th>\n",
       "      <th>children</th>\n",
       "      <th>days_employed</th>\n",
       "      <th>dob_years</th>\n",
       "      <th>education</th>\n",
       "      <th>education_id</th>\n",
       "      <th>family_status</th>\n",
       "      <th>family_status_id</th>\n",
       "      <th>gender</th>\n",
       "      <th>income_type</th>\n",
       "      <th>debt</th>\n",
       "      <th>total_income</th>\n",
       "      <th>purpose</th>\n",
       "    </tr>\n",
       "  </thead>\n",
       "  <tbody>\n",
       "    <tr>\n",
       "      <td>10701</td>\n",
       "      <td>0</td>\n",
       "      <td>2358.600502</td>\n",
       "      <td>24</td>\n",
       "      <td>some college</td>\n",
       "      <td>2</td>\n",
       "      <td>civil partnership</td>\n",
       "      <td>1</td>\n",
       "      <td>XNA</td>\n",
       "      <td>business</td>\n",
       "      <td>0</td>\n",
       "      <td>32624.825</td>\n",
       "      <td>buy real estate</td>\n",
       "    </tr>\n",
       "  </tbody>\n",
       "</table>\n",
       "</div>"
      ],
      "text/plain": [
       "       children  days_employed  dob_years     education  education_id  \\\n",
       "10701         0    2358.600502         24  some college             2   \n",
       "\n",
       "           family_status  family_status_id gender income_type  debt  \\\n",
       "10701  civil partnership                 1    XNA    business     0   \n",
       "\n",
       "       total_income          purpose  \n",
       "10701     32624.825  buy real estate  "
      ]
     },
     "execution_count": 70,
     "metadata": {},
     "output_type": "execute_result"
    }
   ],
   "source": [
    "# Taking a look at the row with 'gender' = XNA\n",
    "credit_scoring_copy[credit_scoring['gender'] == 'XNA']"
   ]
  },
  {
   "cell_type": "markdown",
   "metadata": {},
   "source": [
    "<div class=\"alert alert-block alert-info\">\n",
    "\n",
    "Due to the fact that it is just one row, I will allow myself to change the gender to M because the total income is closer to the mean() and to the median() of M.\n",
    "</div>"
   ]
  },
  {
   "cell_type": "markdown",
   "metadata": {},
   "source": [
    "<div class=\"alert alert-success\" style=\"box-shadow: 4px 4px 4px\">\n",
    "<b>Success:</b> Analyzing total_income separately by gender is a very sensible approach.\n",
    "I'm impressed with your method for changing the XNA value!\n",
    "</div>"
   ]
  },
  {
   "cell_type": "markdown",
   "metadata": {},
   "source": [
    "#### Changing 'XNA' in 'gender' to 'M'"
   ]
  },
  {
   "cell_type": "code",
   "execution_count": 71,
   "metadata": {},
   "outputs": [],
   "source": [
    "# Changing 'XNA' to 'M'\n",
    "credit_scoring_copy.loc[10701] = credit_scoring_copy.loc[10701].replace('XNA', \"M\")"
   ]
  },
  {
   "cell_type": "code",
   "execution_count": 72,
   "metadata": {},
   "outputs": [
    {
     "data": {
      "text/plain": [
       "F    14236\n",
       "M     7289\n",
       "Name: gender, dtype: int64"
      ]
     },
     "execution_count": 72,
     "metadata": {},
     "output_type": "execute_result"
    }
   ],
   "source": [
    "# Checking that the change happend.\n",
    "credit_scoring_copy['gender'].value_counts()"
   ]
  },
  {
   "cell_type": "markdown",
   "metadata": {},
   "source": [
    "#### Assigning variables with median by gender to fill the missing data in 'total_income'."
   ]
  },
  {
   "cell_type": "code",
   "execution_count": 73,
   "metadata": {},
   "outputs": [],
   "source": [
    "# Assigning the median by gender to the variable 'total_income_median'.\n",
    "total_income_median = credit_scoring_copy.groupby('gender')['total_income'].median()"
   ]
  },
  {
   "cell_type": "code",
   "execution_count": 74,
   "metadata": {},
   "outputs": [
    {
     "data": {
      "text/plain": [
       "21464.845"
      ]
     },
     "execution_count": 74,
     "metadata": {},
     "output_type": "execute_result"
    }
   ],
   "source": [
    "# Assigning the median by 'F' to the variable 'total_income_median_f'.\n",
    "total_income_median_f = total_income_median.iloc[0]\n",
    "\n",
    "# Checking to verify the assignment.\n",
    "total_income_median_f"
   ]
  },
  {
   "cell_type": "code",
   "execution_count": 75,
   "metadata": {},
   "outputs": [
    {
     "data": {
      "text/plain": [
       "26838.552000000003"
      ]
     },
     "execution_count": 75,
     "metadata": {},
     "output_type": "execute_result"
    }
   ],
   "source": [
    "# Assigning the median by 'M' to the variable 'total_income_median_m'.\n",
    "total_income_median_m = total_income_median.iloc[1]\n",
    "\n",
    "# Checking to verify the assignment.\n",
    "total_income_median_m"
   ]
  },
  {
   "cell_type": "markdown",
   "metadata": {},
   "source": [
    "#### Filling the missing values in 'total_income' by 'gender'."
   ]
  },
  {
   "cell_type": "code",
   "execution_count": 76,
   "metadata": {},
   "outputs": [
    {
     "data": {
      "text/plain": [
       "total_income    0\n",
       "dtype: int64"
      ]
     },
     "execution_count": 76,
     "metadata": {},
     "output_type": "execute_result"
    }
   ],
   "source": [
    "# Filling missing values with gender 'F' with the median of gender 'F'.\n",
    "credit_scoring_copy.loc[credit_scoring_copy['gender'] == 'F', ['total_income']] = credit_scoring_copy.loc[credit_scoring_copy['gender'] == 'F', ['total_income']].fillna(total_income_median_f)\n",
    "\n",
    "\n",
    "# checking to see if there are more missing values with the gender 'F'.\n",
    "credit_scoring_copy.loc[credit_scoring_copy['gender'] == 'F', ['total_income']].isnull().sum()"
   ]
  },
  {
   "cell_type": "code",
   "execution_count": 77,
   "metadata": {},
   "outputs": [
    {
     "data": {
      "text/plain": [
       "total_income    0\n",
       "dtype: int64"
      ]
     },
     "execution_count": 77,
     "metadata": {},
     "output_type": "execute_result"
    }
   ],
   "source": [
    "# Filling missing values with gender F with the median of gender 'M'.\n",
    "credit_scoring_copy.loc[credit_scoring_copy['gender'] == 'M', ['total_income']] = credit_scoring_copy.loc[credit_scoring_copy['gender'] == 'M', ['total_income']].fillna(total_income_median_m)\n",
    "\n",
    "\n",
    "# checking to see if there are more missing values with the gender 'M'.\n",
    "credit_scoring_copy.loc[credit_scoring_copy['gender'] == 'M', ['total_income']].isnull().sum()"
   ]
  },
  {
   "cell_type": "markdown",
   "metadata": {},
   "source": [
    "<div class=\"alert alert-block alert-info\">\n",
    "\n",
    "No more missing values in 'total_income'.<br>\n",
    "Missing values have been filled by 'gender' with the median of that gender.\n",
    "</div>"
   ]
  },
  {
   "cell_type": "markdown",
   "metadata": {},
   "source": [
    "<div class=\"alert alert-success\" style=\"box-shadow: 4px 4px 4px\">\n",
    "<b>Success:</b> Good job! Indeed, in this case, it is more correct to fill in the gaps with the median rather than the average\n",
    "</div>"
   ]
  },
  {
   "cell_type": "markdown",
   "metadata": {},
   "source": [
    "#### Changing values in 'children' column.."
   ]
  },
  {
   "cell_type": "code",
   "execution_count": 78,
   "metadata": {},
   "outputs": [
    {
     "data": {
      "text/plain": [
       " 0    14149\n",
       " 1     4818\n",
       " 2     2131\n",
       " 3      330\n",
       "-1       47\n",
       " 4       41\n",
       " 5        9\n",
       "Name: children, dtype: int64"
      ]
     },
     "execution_count": 78,
     "metadata": {},
     "output_type": "execute_result"
    }
   ],
   "source": [
    "# Changing rows with 20 children to 2.\n",
    "credit_scoring_copy.loc[credit_scoring_copy['children'] == 20] = credit_scoring_copy.loc[credit_scoring_copy['children'] == 20].replace(20, 2)\n",
    "\n",
    "#Checking the change\n",
    "credit_scoring_copy['children'].value_counts()"
   ]
  },
  {
   "cell_type": "code",
   "execution_count": 79,
   "metadata": {},
   "outputs": [
    {
     "data": {
      "text/plain": [
       "0    14149\n",
       "1     4865\n",
       "2     2131\n",
       "3      330\n",
       "4       41\n",
       "5        9\n",
       "Name: children, dtype: int64"
      ]
     },
     "execution_count": 79,
     "metadata": {},
     "output_type": "execute_result"
    }
   ],
   "source": [
    "# Changing rows with -1 children to 1.\n",
    "credit_scoring_copy.loc[credit_scoring_copy['children'] == -1] = credit_scoring_copy.loc[credit_scoring_copy['children'] == -1].replace(-1, 1)\n",
    "\n",
    "#Checking the change\n",
    "credit_scoring_copy['children'].value_counts()"
   ]
  },
  {
   "cell_type": "markdown",
   "metadata": {},
   "source": [
    "<div class=\"alert alert-block alert-info\">\n",
    "All the values in 'children' are now normal.\n",
    "</div>"
   ]
  },
  {
   "cell_type": "markdown",
   "metadata": {},
   "source": [
    "<div class=\"alert alert-success\" style=\"box-shadow: 4px 4px 4px\">\n",
    "<b>Success:</b> 👍\n",
    "</div>"
   ]
  },
  {
   "cell_type": "markdown",
   "metadata": {},
   "source": [
    "#### Filling missing values for 'days_employed'"
   ]
  },
  {
   "cell_type": "markdown",
   "metadata": {},
   "source": [
    "<div class=\"alert alert-block alert-info\">\n",
    "Because of the outliers that pull the data towards the top, I'll fill the missing values with the median of 'days_employed' as it is a reasonable number.<br>\n",
    "    These missing values only account for 10% of the data so there won't be much of effect to it.\n",
    "</div>"
   ]
  },
  {
   "cell_type": "code",
   "execution_count": 80,
   "metadata": {},
   "outputs": [
    {
     "data": {
      "text/plain": [
       "0"
      ]
     },
     "execution_count": 80,
     "metadata": {},
     "output_type": "execute_result"
    }
   ],
   "source": [
    "# Assigning the median of 'days_employed' into the variale 'days_employed_median'.\n",
    "days_employed_median = credit_scoring_copy['days_employed'].median()\n",
    "\n",
    "# Filling missing values in 'days_employed' with the median of 'days_employed'.\n",
    "credit_scoring_copy['days_employed'] = credit_scoring_copy['days_employed'].fillna(days_employed_median)\n",
    "\n",
    "\n",
    "# checking to see if there are more missing values in 'days_employed'.\n",
    "credit_scoring_copy['days_employed'].isnull().sum()"
   ]
  },
  {
   "cell_type": "markdown",
   "metadata": {},
   "source": [
    "<div class=\"alert alert-block alert-info\">\n",
    "No missing values at 'days_employed'.\n",
    "</div>"
   ]
  },
  {
   "cell_type": "markdown",
   "metadata": {},
   "source": [
    "### Conclusion"
   ]
  },
  {
   "cell_type": "markdown",
   "metadata": {},
   "source": [
    "<div class=\"alert alert-block alert-info\">\n",
    "\n",
    "In the 'days_employed' and 'total_income' columns, the missing values appear on the same rows.<br>\n",
    "It appears that there is a problem with the data of these loan seekers,<br>\n",
    "It could be a problem with exporting, an issue with entering the data,<br>\n",
    "It is impossible to know without further investigation at this point.<br>\n",
    "Also, there were some values in 'children' that didn't make much sense, and my best guess is that they are typos.<br>\n",
    "As a result of addressing the weird values within the 'children' column, as well as the missing values within <br>'total_income', The data can be investigated further.\n",
    "</div>"
   ]
  },
  {
   "cell_type": "markdown",
   "metadata": {},
   "source": [
    " <div class=\"alert alert-danger\" style=\"box-shadow: 4px 4px 4px\">\n",
    "<s><b>Needs fixing:</b> What about days_employed column? All the nan valuues should be processed here\n",
    "</div> \n",
    "\n",
    "    \n",
    "<div class=\"alert alert-success\" style=\"box-shadow: 4px 4px 4px\">\n",
    "<b>Success #2:</b> Well done!\n",
    "</div>"
   ]
  },
  {
   "cell_type": "markdown",
   "metadata": {},
   "source": [
    "***"
   ]
  },
  {
   "cell_type": "markdown",
   "metadata": {},
   "source": [
    "### Data type replacement"
   ]
  },
  {
   "cell_type": "markdown",
   "metadata": {},
   "source": [
    "<div class=\"alert alert-block alert-info\">\n",
    "\n",
    "- For 'total_income' it would be better to change the data type from float to integer.<br>\n",
    "With such big numbers, there is little meaning in the numbers after the decimal point.<br>\n",
    "Working with it as an integer would be easier.<br>\n",
    "- Also, I would change the type of the debt column to 'bool' since there are only 2 options in this column.<br>\n",
    "- Finally, Having the data in 'days_employed' as a flot has very little meaning, so we better change it to int so it would be easier to work with (and on the eyes).<br>\n",
    "- For the other columns, I don't see a reason to change their data type, at least for now.<br>\n",
    "</div>"
   ]
  },
  {
   "cell_type": "code",
   "execution_count": 81,
   "metadata": {},
   "outputs": [
    {
     "name": "stdout",
     "output_type": "stream",
     "text": [
      "<class 'pandas.core.frame.DataFrame'>\n",
      "RangeIndex: 21525 entries, 0 to 21524\n",
      "Data columns (total 12 columns):\n",
      "children            21525 non-null int64\n",
      "days_employed       21525 non-null int64\n",
      "dob_years           21525 non-null int64\n",
      "education           21525 non-null object\n",
      "education_id        21525 non-null int64\n",
      "family_status       21525 non-null object\n",
      "family_status_id    21525 non-null int64\n",
      "gender              21525 non-null object\n",
      "income_type         21525 non-null object\n",
      "debt                21525 non-null bool\n",
      "total_income        21525 non-null int64\n",
      "purpose             21525 non-null object\n",
      "dtypes: bool(1), int64(6), object(5)\n",
      "memory usage: 1.8+ MB\n"
     ]
    }
   ],
   "source": [
    "# Changing data type from float to integer for the 'total_income' column.\n",
    "# Changing data type from int to bool for the 'debt' column.\n",
    "# Changing data type from float to integer for the 'days_employed' column.\n",
    "credit_scoring_copy = credit_scoring_copy.astype({'total_income':'int' , 'debt':'bool', 'days_employed':'int'})\n",
    "credit_scoring_copy.info()"
   ]
  },
  {
   "cell_type": "markdown",
   "metadata": {},
   "source": [
    "<div class=\"alert alert-block alert-info\">\n",
    "\n",
    "All types are changed to their correct state.\n",
    "</div>"
   ]
  },
  {
   "cell_type": "markdown",
   "metadata": {},
   "source": [
    "<div class=\"alert alert-success\" style=\"box-shadow: 4px 4px 4px\">\n",
    "<b>Success:</b> Well done!\n",
    "</div>"
   ]
  },
  {
   "cell_type": "markdown",
   "metadata": {},
   "source": [
    "### Conclusion"
   ]
  },
  {
   "cell_type": "markdown",
   "metadata": {},
   "source": [
    "<div class=\"alert alert-block alert-info\">\n",
    "The only columns that needed changing were the 'total_income' column, 'days_employed' and 'debt' column.<br>\n",
    "I choose the as_type() method because the values were already numbers so there was<br>\n",
    "no need to convert them to numeric and than to the right type.\n",
    "</div>"
   ]
  },
  {
   "cell_type": "markdown",
   "metadata": {},
   "source": [
    " <div class=\"alert alert-danger\" style=\"box-shadow: 4px 4px 4px\">\n",
    "<s><b>Needs fixing:</b> there is one more column, the values ​​of which should be changed to the int type. But first fill in the missing values in it) <s>\n",
    "</div> \n",
    "    \n",
    "    \n",
    "<div class=\"alert alert-success\" style=\"box-shadow: 4px 4px 4px\">\n",
    "<b>Success:</b> Agree 👍👍👍\n",
    "</div>"
   ]
  },
  {
   "cell_type": "markdown",
   "metadata": {},
   "source": [
    "***"
   ]
  },
  {
   "cell_type": "markdown",
   "metadata": {},
   "source": [
    "### Processing duplicates"
   ]
  },
  {
   "cell_type": "markdown",
   "metadata": {},
   "source": [
    "#### Looking for duplicates"
   ]
  },
  {
   "cell_type": "markdown",
   "metadata": {},
   "source": [
    "<div class=\"alert alert-block alert-info\">\n",
    "In terms of duplicates in this data, I want to look for entire rows that are duplicated.<br>\n",
    "It would not mean much if there is a duplicate in a single column as this data describes people<br>\n",
    "It wouldn't mean much if 2 people are earning the same salary, but if the whole row is exactly the same<br>\n",
    "it means we are taking this person into account twice.\n",
    "</div>"
   ]
  },
  {
   "cell_type": "code",
   "execution_count": 82,
   "metadata": {
    "scrolled": true
   },
   "outputs": [
    {
     "data": {
      "text/plain": [
       "54"
      ]
     },
     "execution_count": 82,
     "metadata": {},
     "output_type": "execute_result"
    }
   ],
   "source": [
    "# Checking for the amount of duplicated rows.\n",
    "credit_scoring_copy.duplicated().sum()"
   ]
  },
  {
   "cell_type": "markdown",
   "metadata": {},
   "source": [
    "<div class=\"alert alert-block alert-info\">\n",
    "There are 54 dupliactes in the data.\n",
    "</div>"
   ]
  },
  {
   "cell_type": "code",
   "execution_count": 83,
   "metadata": {},
   "outputs": [
    {
     "data": {
      "text/html": [
       "<div>\n",
       "<style scoped>\n",
       "    .dataframe tbody tr th:only-of-type {\n",
       "        vertical-align: middle;\n",
       "    }\n",
       "\n",
       "    .dataframe tbody tr th {\n",
       "        vertical-align: top;\n",
       "    }\n",
       "\n",
       "    .dataframe thead th {\n",
       "        text-align: right;\n",
       "    }\n",
       "</style>\n",
       "<table border=\"1\" class=\"dataframe\">\n",
       "  <thead>\n",
       "    <tr style=\"text-align: right;\">\n",
       "      <th></th>\n",
       "      <th>children</th>\n",
       "      <th>days_employed</th>\n",
       "      <th>dob_years</th>\n",
       "      <th>education</th>\n",
       "      <th>education_id</th>\n",
       "      <th>family_status</th>\n",
       "      <th>family_status_id</th>\n",
       "      <th>gender</th>\n",
       "      <th>income_type</th>\n",
       "      <th>debt</th>\n",
       "      <th>total_income</th>\n",
       "      <th>purpose</th>\n",
       "    </tr>\n",
       "  </thead>\n",
       "  <tbody>\n",
       "    <tr>\n",
       "      <td>2849</td>\n",
       "      <td>0</td>\n",
       "      <td>2194</td>\n",
       "      <td>41</td>\n",
       "      <td>secondary education</td>\n",
       "      <td>1</td>\n",
       "      <td>married</td>\n",
       "      <td>0</td>\n",
       "      <td>F</td>\n",
       "      <td>employee</td>\n",
       "      <td>False</td>\n",
       "      <td>21464</td>\n",
       "      <td>purchase of the house for my family</td>\n",
       "    </tr>\n",
       "    <tr>\n",
       "      <td>4182</td>\n",
       "      <td>1</td>\n",
       "      <td>2194</td>\n",
       "      <td>34</td>\n",
       "      <td>BACHELOR'S DEGREE</td>\n",
       "      <td>0</td>\n",
       "      <td>civil partnership</td>\n",
       "      <td>1</td>\n",
       "      <td>F</td>\n",
       "      <td>employee</td>\n",
       "      <td>False</td>\n",
       "      <td>21464</td>\n",
       "      <td>wedding ceremony</td>\n",
       "    </tr>\n",
       "    <tr>\n",
       "      <td>4851</td>\n",
       "      <td>0</td>\n",
       "      <td>2194</td>\n",
       "      <td>60</td>\n",
       "      <td>secondary education</td>\n",
       "      <td>1</td>\n",
       "      <td>civil partnership</td>\n",
       "      <td>1</td>\n",
       "      <td>F</td>\n",
       "      <td>retiree</td>\n",
       "      <td>False</td>\n",
       "      <td>21464</td>\n",
       "      <td>wedding ceremony</td>\n",
       "    </tr>\n",
       "    <tr>\n",
       "      <td>5557</td>\n",
       "      <td>0</td>\n",
       "      <td>2194</td>\n",
       "      <td>58</td>\n",
       "      <td>secondary education</td>\n",
       "      <td>1</td>\n",
       "      <td>civil partnership</td>\n",
       "      <td>1</td>\n",
       "      <td>F</td>\n",
       "      <td>retiree</td>\n",
       "      <td>False</td>\n",
       "      <td>21464</td>\n",
       "      <td>to have a wedding</td>\n",
       "    </tr>\n",
       "    <tr>\n",
       "      <td>7808</td>\n",
       "      <td>0</td>\n",
       "      <td>2194</td>\n",
       "      <td>57</td>\n",
       "      <td>secondary education</td>\n",
       "      <td>1</td>\n",
       "      <td>civil partnership</td>\n",
       "      <td>1</td>\n",
       "      <td>F</td>\n",
       "      <td>retiree</td>\n",
       "      <td>False</td>\n",
       "      <td>21464</td>\n",
       "      <td>having a wedding</td>\n",
       "    </tr>\n",
       "    <tr>\n",
       "      <td>8583</td>\n",
       "      <td>0</td>\n",
       "      <td>2194</td>\n",
       "      <td>58</td>\n",
       "      <td>bachelor's degree</td>\n",
       "      <td>0</td>\n",
       "      <td>unmarried</td>\n",
       "      <td>4</td>\n",
       "      <td>F</td>\n",
       "      <td>retiree</td>\n",
       "      <td>False</td>\n",
       "      <td>21464</td>\n",
       "      <td>supplementary education</td>\n",
       "    </tr>\n",
       "    <tr>\n",
       "      <td>9238</td>\n",
       "      <td>2</td>\n",
       "      <td>2194</td>\n",
       "      <td>34</td>\n",
       "      <td>secondary education</td>\n",
       "      <td>1</td>\n",
       "      <td>married</td>\n",
       "      <td>0</td>\n",
       "      <td>F</td>\n",
       "      <td>employee</td>\n",
       "      <td>False</td>\n",
       "      <td>21464</td>\n",
       "      <td>buying property for renting out</td>\n",
       "    </tr>\n",
       "    <tr>\n",
       "      <td>9528</td>\n",
       "      <td>0</td>\n",
       "      <td>2194</td>\n",
       "      <td>66</td>\n",
       "      <td>secondary education</td>\n",
       "      <td>1</td>\n",
       "      <td>widow / widower</td>\n",
       "      <td>2</td>\n",
       "      <td>F</td>\n",
       "      <td>retiree</td>\n",
       "      <td>False</td>\n",
       "      <td>21464</td>\n",
       "      <td>transactions with my real estate</td>\n",
       "    </tr>\n",
       "    <tr>\n",
       "      <td>9627</td>\n",
       "      <td>0</td>\n",
       "      <td>2194</td>\n",
       "      <td>56</td>\n",
       "      <td>secondary education</td>\n",
       "      <td>1</td>\n",
       "      <td>married</td>\n",
       "      <td>0</td>\n",
       "      <td>F</td>\n",
       "      <td>retiree</td>\n",
       "      <td>False</td>\n",
       "      <td>21464</td>\n",
       "      <td>transactions with my real estate</td>\n",
       "    </tr>\n",
       "    <tr>\n",
       "      <td>10462</td>\n",
       "      <td>0</td>\n",
       "      <td>2194</td>\n",
       "      <td>62</td>\n",
       "      <td>secondary education</td>\n",
       "      <td>1</td>\n",
       "      <td>married</td>\n",
       "      <td>0</td>\n",
       "      <td>F</td>\n",
       "      <td>retiree</td>\n",
       "      <td>False</td>\n",
       "      <td>21464</td>\n",
       "      <td>buy commercial real estate</td>\n",
       "    </tr>\n",
       "  </tbody>\n",
       "</table>\n",
       "</div>"
      ],
      "text/plain": [
       "       children  days_employed  dob_years            education  education_id  \\\n",
       "2849          0           2194         41  secondary education             1   \n",
       "4182          1           2194         34    BACHELOR'S DEGREE             0   \n",
       "4851          0           2194         60  secondary education             1   \n",
       "5557          0           2194         58  secondary education             1   \n",
       "7808          0           2194         57  secondary education             1   \n",
       "8583          0           2194         58    bachelor's degree             0   \n",
       "9238          2           2194         34  secondary education             1   \n",
       "9528          0           2194         66  secondary education             1   \n",
       "9627          0           2194         56  secondary education             1   \n",
       "10462         0           2194         62  secondary education             1   \n",
       "\n",
       "           family_status  family_status_id gender income_type   debt  \\\n",
       "2849             married                 0      F    employee  False   \n",
       "4182   civil partnership                 1      F    employee  False   \n",
       "4851   civil partnership                 1      F     retiree  False   \n",
       "5557   civil partnership                 1      F     retiree  False   \n",
       "7808   civil partnership                 1      F     retiree  False   \n",
       "8583           unmarried                 4      F     retiree  False   \n",
       "9238             married                 0      F    employee  False   \n",
       "9528     widow / widower                 2      F     retiree  False   \n",
       "9627             married                 0      F     retiree  False   \n",
       "10462            married                 0      F     retiree  False   \n",
       "\n",
       "       total_income                              purpose  \n",
       "2849          21464  purchase of the house for my family  \n",
       "4182          21464                     wedding ceremony  \n",
       "4851          21464                     wedding ceremony  \n",
       "5557          21464                    to have a wedding  \n",
       "7808          21464                     having a wedding  \n",
       "8583          21464              supplementary education  \n",
       "9238          21464      buying property for renting out  \n",
       "9528          21464     transactions with my real estate  \n",
       "9627          21464     transactions with my real estate  \n",
       "10462         21464           buy commercial real estate  "
      ]
     },
     "execution_count": 83,
     "metadata": {},
     "output_type": "execute_result"
    }
   ],
   "source": [
    "# taking a look at these row.\n",
    "credit_scoring_copy[credit_scoring_copy.duplicated()].head(10)"
   ]
  },
  {
   "cell_type": "markdown",
   "metadata": {},
   "source": [
    "<div class=\"alert alert-block alert-info\">\n",
    "At row [4182], the 'education' column has a capitalized value.<br>\n",
    "I think it would be a smart move to change all string(object) columns to lower or upper case according to their needs<br>\n",
    "Then they would be taken into account if there are more duplicates in the data.\n",
    "</div>"
   ]
  },
  {
   "cell_type": "markdown",
   "metadata": {},
   "source": [
    "<div class=\"alert alert-success\" style=\"box-shadow: 4px 4px 4px\">\n",
    "<b>Success:</b> Good idea\n",
    "</div>"
   ]
  },
  {
   "cell_type": "markdown",
   "metadata": {},
   "source": [
    "#### Changing each column t to lower or upper case words"
   ]
  },
  {
   "cell_type": "code",
   "execution_count": 84,
   "metadata": {},
   "outputs": [],
   "source": [
    "# Changing each column that has an obeject type to lower or upper case words, to make it easier to find duplicates.\n",
    "\n",
    "# Changing 'education' to lower case.\n",
    "credit_scoring_copy['education'] = credit_scoring_copy['education'].str.lower()\n",
    "\n",
    "# Changing 'family_status' to lower case.\n",
    "credit_scoring_copy['family_status'] = credit_scoring_copy['family_status'].str.lower()\n",
    "\n",
    "# Changing 'gender' to upper case.\n",
    "credit_scoring_copy['gender'] = credit_scoring_copy['gender'].str.upper()\n",
    "\n",
    "# Changing 'income_type' to lower case.\n",
    "credit_scoring_copy['income_type'] = credit_scoring_copy['income_type'].str.lower()\n",
    "\n",
    "# Changing 'purpose' to lower case.\n",
    "credit_scoring_copy['purpose'] = credit_scoring_copy['purpose'].str.lower()"
   ]
  },
  {
   "cell_type": "code",
   "execution_count": 85,
   "metadata": {
    "scrolled": true
   },
   "outputs": [
    {
     "data": {
      "text/plain": [
       "71"
      ]
     },
     "execution_count": 85,
     "metadata": {},
     "output_type": "execute_result"
    }
   ],
   "source": [
    "# Checking for the amount of duplicated rows.\n",
    "credit_scoring_copy.duplicated().sum()"
   ]
  },
  {
   "cell_type": "markdown",
   "metadata": {},
   "source": [
    "<div class=\"alert alert-block alert-info\">\n",
    "Now we found 71 duplicates in the data. :)\n",
    "</div>"
   ]
  },
  {
   "cell_type": "markdown",
   "metadata": {},
   "source": [
    "#### Dropping duplicates"
   ]
  },
  {
   "cell_type": "code",
   "execution_count": 86,
   "metadata": {},
   "outputs": [],
   "source": [
    "# Dropping the duplicates, and reseting the index of the table.\n",
    "credit_scoring_copy = credit_scoring_copy.drop_duplicates().reset_index(drop=True)"
   ]
  },
  {
   "cell_type": "code",
   "execution_count": 87,
   "metadata": {},
   "outputs": [
    {
     "data": {
      "text/plain": [
       "0"
      ]
     },
     "execution_count": 87,
     "metadata": {},
     "output_type": "execute_result"
    }
   ],
   "source": [
    "# Checking if there are any other duplicates\n",
    "credit_scoring_copy.duplicated().sum()"
   ]
  },
  {
   "cell_type": "markdown",
   "metadata": {},
   "source": [
    "<div class=\"alert alert-block alert-info\">\n",
    "No duplicates.\n",
    "</div>"
   ]
  },
  {
   "cell_type": "markdown",
   "metadata": {},
   "source": [
    "### Conclusion"
   ]
  },
  {
   "cell_type": "markdown",
   "metadata": {},
   "source": [
    "<div class=\"alert alert-block alert-info\">\n",
    "We have examined the data to see whether any of the rows are duplicates,<br>\n",
    "to avoid counting the same person twice.<br>\n",
    "Our search for duplicates turned up 54, when we looked at the data closely<br>\n",
    "it turned out that some values were in uppercase and others in lowercase in 'education'.<br>\n",
    "I decided to deal with that by making each column that has a string in it lower or upper case according to what it needs.<br>\n",
    "71 duplicate rows were found when we looked for them again, which indicates that the process we used helped<br>\n",
    "to gain a better understanding of the data.<br>\n",
    "When we found the duplicates, we dropped them, so now there aren't any.\n",
    "</div>"
   ]
  },
  {
   "cell_type": "markdown",
   "metadata": {},
   "source": [
    "<div class=\"alert alert-success\" style=\"box-shadow: 4px 4px 4px\">\n",
    "<b>Success:</b> Excellent! Converting to the same case helped to detect all duplicates\n",
    "</div>"
   ]
  },
  {
   "cell_type": "markdown",
   "metadata": {},
   "source": [
    "***"
   ]
  },
  {
   "cell_type": "markdown",
   "metadata": {},
   "source": [
    "### Categorizing Data"
   ]
  },
  {
   "cell_type": "markdown",
   "metadata": {},
   "source": [
    "<div class=\"alert alert-block alert-info\">\n",
    "As I considered the best way to categorize the data, I looked at the questions I wish to answer<br> and decided it would be most helpful if I use the following categories:<br>\n",
    "    - Parent and Not-Parent (first question)<br>\n",
    "    - Married and Not-Married (second question)<br>\n",
    "    - Level of income (third question)<br>\n",
    "    - The purpose category of the loan (fourth question).\n",
    "</div>"
   ]
  },
  {
   "cell_type": "markdown",
   "metadata": {},
   "source": [
    "#### Categorazing by Parents and Not-Parents"
   ]
  },
  {
   "cell_type": "code",
   "execution_count": 88,
   "metadata": {},
   "outputs": [
    {
     "data": {
      "text/plain": [
       "Not-Parent    14091\n",
       "Parent         7363\n",
       "Name: is_parent, dtype: int64"
      ]
     },
     "execution_count": 88,
     "metadata": {},
     "output_type": "execute_result"
    }
   ],
   "source": [
    "# a function that takes the number of children and returns if a parent or not.\n",
    "def is_parent(value):\n",
    "    if value == 0:\n",
    "        return 'Not-Parent'\n",
    "    return 'Parent'\n",
    "\n",
    "# Applying is_parent function to the 'children' column.\n",
    "credit_scoring_copy['is_parent'] = credit_scoring_copy['children'].apply(is_parent)\n",
    "\n",
    "#looking at the number of rows for 'is_parent' column.\n",
    "credit_scoring_copy['is_parent'].value_counts()"
   ]
  },
  {
   "cell_type": "markdown",
   "metadata": {},
   "source": [
    "<div class=\"alert alert-block alert-info\">\n",
    "I find it interesting that almost twice as many people who seek loans don't have children as those who do.\n",
    "</div>"
   ]
  },
  {
   "cell_type": "markdown",
   "metadata": {},
   "source": [
    "<div class=\"alert alert-success\" style=\"box-shadow: 4px 4px 4px\">\n",
    "<b>Success:</b> 😮 \n",
    "</div>"
   ]
  },
  {
   "cell_type": "markdown",
   "metadata": {},
   "source": [
    "#### Categorazing by Married and not married"
   ]
  },
  {
   "cell_type": "code",
   "execution_count": 89,
   "metadata": {},
   "outputs": [
    {
     "data": {
      "text/plain": [
       "Married        12339\n",
       "Not-Married     9115\n",
       "Name: is_married, dtype: int64"
      ]
     },
     "execution_count": 89,
     "metadata": {},
     "output_type": "execute_result"
    }
   ],
   "source": [
    "# a function that takes the 'family_status_id' and returns if married or not.\n",
    "\n",
    "def is_married(value):\n",
    "    if value == 0:\n",
    "        return 'Married'\n",
    "    return 'Not-Married'\n",
    "\n",
    "# Applying is_married function to the 'children' column.\n",
    "credit_scoring_copy['is_married'] = credit_scoring_copy['family_status_id'].apply(is_married)\n",
    "\n",
    "#looking at the number of rows for 'is_married' column.\n",
    "credit_scoring_copy['is_married'].value_counts()"
   ]
  },
  {
   "cell_type": "markdown",
   "metadata": {},
   "source": [
    "<div class=\"alert alert-block alert-info\">\n",
    "Most of the people who seek a loan are married.\n",
    "</div>"
   ]
  },
  {
   "cell_type": "markdown",
   "metadata": {},
   "source": [
    "#### Categorazing by Income bases"
   ]
  },
  {
   "cell_type": "code",
   "execution_count": 90,
   "metadata": {},
   "outputs": [
    {
     "data": {
      "text/plain": [
       "Average Income                8166\n",
       "Below Average Income          6443\n",
       "Higher Than Average Income    3107\n",
       "High Income                   2812\n",
       "Low Income                     926\n",
       "Name: income_level, dtype: int64"
      ]
     },
     "execution_count": 90,
     "metadata": {},
     "output_type": "execute_result"
    }
   ],
   "source": [
    "# a function that takes 'total_income' and returns the level of income.\n",
    "\n",
    "def income_level(value):\n",
    "    if value < 10000:\n",
    "        return 'Low Income'\n",
    "    elif value < 20000:\n",
    "        return 'Below Average Income'\n",
    "    elif value < 30000:\n",
    "        return 'Average Income'\n",
    "    elif value < 40000:\n",
    "        return 'Higher Than Average Income'\n",
    "    elif value > 40000:\n",
    "        return 'High Income'\n",
    "\n",
    "# Applying income_level function to the 'total_income' column.    \n",
    "credit_scoring_copy['income_level'] = credit_scoring_copy['total_income'].apply(income_level)\n",
    "\n",
    "#looking at the number of rows for each 'income_level'.\n",
    "credit_scoring_copy['income_level'].value_counts()"
   ]
  },
  {
   "cell_type": "markdown",
   "metadata": {},
   "source": [
    "<div class=\"alert alert-block alert-info\">\n",
    "Most of the loan seekers come from the average to below average income bracket,<br> each of them being larger than the others combined.\n",
    "</div>"
   ]
  },
  {
   "cell_type": "markdown",
   "metadata": {},
   "source": [
    "#### Categorazing by Purpose (stemming) "
   ]
  },
  {
   "cell_type": "code",
   "execution_count": 91,
   "metadata": {},
   "outputs": [
    {
     "data": {
      "text/plain": [
       "wedding ceremony                            791\n",
       "having a wedding                            768\n",
       "to have a wedding                           765\n",
       "real estate transactions                    675\n",
       "buy commercial real estate                  661\n",
       "housing transactions                        652\n",
       "buying property for renting out             651\n",
       "transactions with commercial real estate    650\n",
       "housing                                     646\n",
       "purchase of the house                       646\n",
       "purchase of the house for my family         638\n",
       "construction of own property                635\n",
       "property                                    633\n",
       "transactions with my real estate            627\n",
       "building a real estate                      624\n",
       "buy real estate                             621\n",
       "purchase of my own house                    620\n",
       "building a property                         619\n",
       "housing renovation                          607\n",
       "buy residential real estate                 606\n",
       "buying my own car                           505\n",
       "going to university                         496\n",
       "car                                         494\n",
       "second-hand car purchase                    486\n",
       "to own a car                                478\n",
       "cars                                        478\n",
       "buying a second-hand car                    478\n",
       "to buy a car                                471\n",
       "car purchase                                461\n",
       "supplementary education                     460\n",
       "purchase of a car                           455\n",
       "university education                        452\n",
       "education                                   447\n",
       "to get a supplementary education            446\n",
       "getting an education                        442\n",
       "profile education                           436\n",
       "getting higher education                    426\n",
       "to become educated                          408\n",
       "Name: purpose, dtype: int64"
      ]
     },
     "execution_count": 91,
     "metadata": {},
     "output_type": "execute_result"
    }
   ],
   "source": [
    "# Checking to see the different values in 'purpose'.\n",
    "credit_scoring_copy['purpose'].value_counts()"
   ]
  },
  {
   "cell_type": "code",
   "execution_count": 92,
   "metadata": {},
   "outputs": [
    {
     "name": "stdout",
     "output_type": "stream",
     "text": [
      "Source word - wedding, after stemming - wed\n",
      "Source word - estate, after stemming - estat\n",
      "Source word - housing, after stemming - hous\n",
      "Source word - house, after stemming - hous\n",
      "Source word - property, after stemming - properti\n",
      "Source word - car, after stemming - car\n",
      "Source word - university, after stemming - univers\n",
      "Source word - education, after stemming - educ\n"
     ]
    }
   ],
   "source": [
    "# Creating a list of words that apear in all of the values to be stemmed.\n",
    "words = [\"wedding\", \"estate\", \"housing\", \"house\", \"property\", \"car\", \"university\", \"education\"]\n",
    "for word in words:\n",
    "    print(\n",
    "        'Source word - {}, after stemming - {}'.format(\n",
    "            word, english_stemmer.stem(word)\n",
    "        )\n",
    "    )"
   ]
  },
  {
   "cell_type": "code",
   "execution_count": 93,
   "metadata": {},
   "outputs": [
    {
     "data": {
      "text/plain": [
       "Housing      10811\n",
       "Car           4306\n",
       "Education     4013\n",
       "Wedding       2324\n",
       "Name: purpose_category, dtype: int64"
      ]
     },
     "execution_count": 93,
     "metadata": {},
     "output_type": "execute_result"
    }
   ],
   "source": [
    "# a function to determine the purpose category of the loan, by stemming the 'purpose' string from the data.\n",
    "def purpose_category(queries):\n",
    "    for query in queries.split(\" \"):\n",
    "        stemmed_word = english_stemmer.stem(query)\n",
    "        if stemmed_word == 'wed':\n",
    "            return 'Wedding'\n",
    "        elif stemmed_word == 'estat':\n",
    "            return 'Housing'\n",
    "        elif stemmed_word == 'hous':\n",
    "            return 'Housing'\n",
    "        elif stemmed_word == 'properti':\n",
    "            return 'Housing'\n",
    "        elif stemmed_word == 'car':\n",
    "            return 'Car'\n",
    "        elif stemmed_word == 'univers':\n",
    "            return 'Education'\n",
    "        elif stemmed_word == 'educ':\n",
    "            return 'Education'\n",
    "\n",
    "# Creating a new column 'purpose_category' in the data.\n",
    "credit_scoring_copy['purpose_category'] = credit_scoring_copy['purpose'].apply(purpose_category)\n",
    "\n",
    "#looking at the number of rows for each 'purpose_category'.\n",
    "credit_scoring_copy['purpose_category'].value_counts()"
   ]
  },
  {
   "cell_type": "markdown",
   "metadata": {},
   "source": [
    "<div class=\"alert alert-block alert-info\">\n",
    "It's interesting to observe that at first glance, one would think that 'Weddings' were the most frequent reason for borrowing money,<br> but a closer look at the data reveals that 'Housing' is the most frequent category and equal to all the others combined.\n",
    "</div>"
   ]
  },
  {
   "cell_type": "markdown",
   "metadata": {},
   "source": [
    "<div class=\"alert alert-success\" style=\"box-shadow: 4px 4px 4px\">\n",
    "<b>Success:</b> unfortunately, many people cannot afford to buy a house without a loan 😔 \n",
    "</div>"
   ]
  },
  {
   "cell_type": "markdown",
   "metadata": {},
   "source": [
    "### Conclusion"
   ]
  },
  {
   "cell_type": "markdown",
   "metadata": {},
   "source": [
    "<div class=\"alert alert-block alert-info\">\n",
    "The categorization of the data has inspired a hypothesis for me at this point.<br>\n",
    "    - Due to the fact that most of the loan seekers are <br>\n",
    "    - married without children,<br> \n",
    "    - have an average or below average income<br>\n",
    "    And seeking a loan that is connected with housing. <br>\n",
    "    I tend to think that these loan applicants are young couples looking to start a family,<br>\n",
    "    They are planning to buy a house after getting married, but they have not yet had children,<br>\n",
    "    but that is something that I would need to look into and it is out of the scope of the task.\n",
    "</div>"
   ]
  },
  {
   "cell_type": "markdown",
   "metadata": {},
   "source": [
    "<div class=\"alert alert-success\" style=\"box-shadow: 4px 4px 4px\">\n",
    "<b>Success:</b> I really enjoy reading your conclusions) \n",
    "</div>"
   ]
  },
  {
   "cell_type": "markdown",
   "metadata": {},
   "source": [
    "***"
   ]
  },
  {
   "cell_type": "markdown",
   "metadata": {},
   "source": [
    "## Answer these questions"
   ]
  },
  {
   "cell_type": "markdown",
   "metadata": {},
   "source": [
    "### Is there a relation between having kids and repaying a loan on time?"
   ]
  },
  {
   "cell_type": "code",
   "execution_count": 94,
   "metadata": {},
   "outputs": [
    {
     "data": {
      "text/plain": [
       "is_parent\n",
       "Not-Parent    1063.0\n",
       "Parent         678.0\n",
       "Name: debt, dtype: float64"
      ]
     },
     "execution_count": 94,
     "metadata": {},
     "output_type": "execute_result"
    }
   ],
   "source": [
    "# Looking at the data, grouped by is that person is a parent and if that person is in debt.\n",
    "credit_scoring_copy.groupby('is_parent')['debt'].sum().sort_values(ascending=False)"
   ]
  },
  {
   "cell_type": "code",
   "execution_count": 95,
   "metadata": {},
   "outputs": [
    {
     "data": {
      "text/plain": [
       "children\n",
       "0    1063.0\n",
       "1     445.0\n",
       "2     202.0\n",
       "3      27.0\n",
       "4       4.0\n",
       "5       0.0\n",
       "Name: debt, dtype: float64"
      ]
     },
     "execution_count": 95,
     "metadata": {},
     "output_type": "execute_result"
    }
   ],
   "source": [
    "# Looking at the data, grouped by number of 'children' and if that person is in debt.\n",
    "credit_scoring_copy.groupby('children')['debt'].sum().sort_values(ascending=False)"
   ]
  },
  {
   "cell_type": "markdown",
   "metadata": {},
   "source": [
    "### Conclusion"
   ]
  },
  {
   "cell_type": "markdown",
   "metadata": {},
   "source": [
    "<div class=\"alert alert-block alert-info\">\n",
    "By looking at the data, grouped according to if that person is a parent and if they are in debt,<br>\n",
    "According to the data, people that have children pay their dues on time more often.<br>\n",
    "We can also devise that people that have more kids are less likley to default on a loan, but do they take the same amount of loans?<br>\n",
    "Being a parent puts a lot of pressure on you to provide for your children,<br>\n",
    "You are responsible for your child.\n",
    "</div>"
   ]
  },
  {
   "cell_type": "markdown",
   "metadata": {},
   "source": [
    "<div class=\"alert alert-warning\" style=\"box-shadow: 4px 4px 4px\">\n",
    "<b>Remarks:</b> Here you can also look at the relationship between the number of children and repaying a loan\n",
    "</div>"
   ]
  },
  {
   "cell_type": "markdown",
   "metadata": {},
   "source": [
    "***"
   ]
  },
  {
   "cell_type": "markdown",
   "metadata": {},
   "source": [
    "### Is there a relation between marital status and repaying a loan on time?"
   ]
  },
  {
   "cell_type": "code",
   "execution_count": 96,
   "metadata": {},
   "outputs": [
    {
     "data": {
      "text/plain": [
       "is_married\n",
       "Married        931.0\n",
       "Not-Married    810.0\n",
       "Name: debt, dtype: float64"
      ]
     },
     "execution_count": 96,
     "metadata": {},
     "output_type": "execute_result"
    }
   ],
   "source": [
    "# Looking at the data, grouped by is that person is married and if that person is in debt.\n",
    "credit_scoring_copy.groupby('is_married')['debt'].sum().sort_values(ascending=False)"
   ]
  },
  {
   "cell_type": "markdown",
   "metadata": {},
   "source": [
    "### Conclusion"
   ]
  },
  {
   "cell_type": "markdown",
   "metadata": {},
   "source": [
    "<div class=\"alert alert-block alert-info\">\n",
    "Analyzing the data, grouped by whether a person is married and if a person is in debt,<br>\n",
    "People who are married are more likely to default on a loan, that is interesting<br>\n",
    "because you would expect them to pay on time because of their financial power compared to singles,<br>\n",
    "widows ,widowers or divorced.<br>\n",
    "Perhaps there is a connection between the income level of that couple, the purpose of the loan, or even their age.\n",
    "</div>"
   ]
  },
  {
   "cell_type": "markdown",
   "metadata": {},
   "source": [
    "<div class=\"alert alert-success\" style=\"box-shadow: 4px 4px 4px\">\n",
    "<b>Success:</b> Yes, most likely, marital status is not the only feature that affects loan default.\n",
    "</div>"
   ]
  },
  {
   "cell_type": "markdown",
   "metadata": {},
   "source": [
    "### Is there a relation between income level and repaying a loan on time?"
   ]
  },
  {
   "cell_type": "code",
   "execution_count": 97,
   "metadata": {},
   "outputs": [
    {
     "data": {
      "text/plain": [
       "income_level\n",
       "Average Income                697.0\n",
       "Below Average Income          550.0\n",
       "Higher Than Average Income    242.0\n",
       "High Income                   194.0\n",
       "Low Income                     58.0\n",
       "Name: debt, dtype: float64"
      ]
     },
     "execution_count": 97,
     "metadata": {},
     "output_type": "execute_result"
    }
   ],
   "source": [
    "# Looking at the data, grouped by income level of that person and if that person is in debt.\n",
    "credit_scoring_copy.groupby('income_level')['debt'].sum().sort_values(ascending=False)"
   ]
  },
  {
   "cell_type": "markdown",
   "metadata": {},
   "source": [
    "### Conclusion"
   ]
  },
  {
   "cell_type": "markdown",
   "metadata": {},
   "source": [
    "<div class=\"alert alert-block alert-info\">\n",
    "If we look at the data grouped by income level of the person and if that person has debt,<br>\n",
    "It is interesting to see that people with low income levels are more likely to pay on time.<br>\n",
    "One would expect higher-income people to pay their dues on time because they have more disposable income,<br>\n",
    "However, the data indicates otherwise.<br>\n",
    "The purpose of the loan or perhaps the fact that psychologically the more money you earn, the higher the quality of your life,<br> \n",
    "could explain this phenomenon, because you need to maintain that expensive quality of life.\n",
    "</div>"
   ]
  },
  {
   "cell_type": "markdown",
   "metadata": {},
   "source": [
    "<div class=\"alert alert-success\" style=\"box-shadow: 4px 4px 4px\">\n",
    "<b>Success:</b> Good arguments\n",
    "</div>"
   ]
  },
  {
   "cell_type": "markdown",
   "metadata": {},
   "source": [
    "### How do different loan purposes affect on-time repayment of the loan?"
   ]
  },
  {
   "cell_type": "code",
   "execution_count": 98,
   "metadata": {},
   "outputs": [
    {
     "data": {
      "text/plain": [
       "purpose_category\n",
       "Housing      782.0\n",
       "Car          403.0\n",
       "Education    370.0\n",
       "Wedding      186.0\n",
       "Name: debt, dtype: float64"
      ]
     },
     "execution_count": 98,
     "metadata": {},
     "output_type": "execute_result"
    }
   ],
   "source": [
    "# Looking at the data, grouped by 'purpose' of that loan and if that person is in debt.\n",
    "# Saved into 'loan_debt_sum' variable.\n",
    "loan_debt_sum = credit_scoring_copy.groupby('purpose_category')['debt'].sum().sort_values(ascending=False)\n",
    "loan_debt_sum"
   ]
  },
  {
   "cell_type": "code",
   "execution_count": 99,
   "metadata": {},
   "outputs": [
    {
     "data": {
      "text/plain": [
       "purpose_category\n",
       "Housing      10811\n",
       "Car           4306\n",
       "Education     4013\n",
       "Wedding       2324\n",
       "Name: debt, dtype: int64"
      ]
     },
     "execution_count": 99,
     "metadata": {},
     "output_type": "execute_result"
    }
   ],
   "source": [
    "# Looking at the data, grouped by 'purpose' and counting the number of loans in each category.\n",
    "# Saved into 'loan_debt_count' variable.\n",
    "loan_debt_count = credit_scoring_copy.groupby('purpose_category')['debt'].count().sort_values(ascending=False)\n",
    "loan_debt_count"
   ]
  },
  {
   "cell_type": "code",
   "execution_count": 100,
   "metadata": {},
   "outputs": [
    {
     "data": {
      "text/plain": [
       "purpose_category\n",
       "Housing      0.138248\n",
       "Wedding      0.124946\n",
       "Education    0.108459\n",
       "Car          0.106849\n",
       "Name: debt, dtype: float64"
      ]
     },
     "execution_count": 100,
     "metadata": {},
     "output_type": "execute_result"
    }
   ],
   "source": [
    "# Dividing 'loan_debt_count' by 'loan_debt_sum' to get the percent and saving to 'loan_debt_percent'.\n",
    "loan_debt_percent = loan_debt_count / loan_debt_sum / 100\n",
    "loan_debt_percent.sort_values(ascending=False)"
   ]
  },
  {
   "cell_type": "markdown",
   "metadata": {},
   "source": [
    "### Conclusion"
   ]
  },
  {
   "cell_type": "markdown",
   "metadata": {},
   "source": [
    "<div class=\"alert alert-block alert-info\">\n",
    "In looking at the data, grouped according to the purpose of the loan and if the borrower is in debt,<br>\n",
    "As can be seen, the people most likely to default on a loan are those who borrow for housing,<br>\n",
    "However, it is also more likely since it is the most common loan people take.<br>\n",
    "It would be also interesting to see that there is a correspondents between the number of defaults and<br>\n",
    "the frequency of that loan, for example the loans the are the most popular are:<br>\n",
    "- Housing<br>\n",
    "- Car<br>\n",
    "- Education<br>\n",
    "- Wedding<br>\n",
    "and the numbers of defaults are descending in that exact order.\n",
    "</div>"
   ]
  },
  {
   "cell_type": "markdown",
   "metadata": {},
   "source": [
    "<div class=\"alert alert-block alert-info\">\n",
    "The percentage of default in each category tells a different story!<br>\n",
    "- Housing still has the highest default rate, but that makes sense because it is the category with the highest number of loans.<br>\n",
    "- As weddings comes second to housing in terms of defaults, maybe the bank should take caution when granting a loan for a wedding, as it's the least number of loans but with the highest amount of defaults (after housing)<br>\n",
    "- In terms of percentages and total loan amounts, Education and Cars are pretty close together.\n",
    "</div>"
   ]
  },
  {
   "cell_type": "markdown",
   "metadata": {},
   "source": [
    "<div class=\"alert alert-success\" style=\"box-shadow: 4px 4px 4px\">\n",
    "<b>Success:</b> Good!\n",
    "    <br> Besides, it would be interesting to compare the percentage of defaults\n",
    " to the total number of loan applicants by group (optional, just for you)\n",
    "</div>"
   ]
  },
  {
   "cell_type": "markdown",
   "metadata": {},
   "source": [
    "## General conclusion"
   ]
  },
  {
   "cell_type": "markdown",
   "metadata": {},
   "source": [
    "<div class=\"alert alert-block alert-info\">\n",
    "In spite of the fact that the data might initially appear to indicate one thing,<br>\n",
    "After you have processed and cleaned the data, you come up with different conclusions.<br>\n",
    "It is interesting to see and learn from this dataset, and I think I have only scratched the surface\n",
    "with my investigation,<br> \n",
    "however, I do believe that there is much more that would be accounted for if a person defaults on his loan than what we are given in this dataset.<br>\n",
    "There might be even more connections between the different columns of that data,<br> \n",
    "We didn't look if there is a connection between age and loan default, for example.\n",
    "and we still don't understand the 'days_employed' column, and we don't know if it has some sort of impact on our findings.\n",
    "\n",
    "</div>"
   ]
  },
  {
   "cell_type": "markdown",
   "metadata": {},
   "source": [
    "<div class=\"alert alert-success\" style=\"box-shadow: 4px 4px 4px\">\n",
    "<b>Success:</b> You have done a good research and come to interesting conclusions, keep it up!"
   ]
  },
  {
   "cell_type": "markdown",
   "metadata": {},
   "source": [
    "## Project Readiness Checklist\n",
    "\n",
    "Put 'x' in the completed points. Then press Shift + Enter."
   ]
  },
  {
   "cell_type": "markdown",
   "metadata": {},
   "source": [
    "- [x]  file open;\n",
    "- [x]  file examined;\n",
    "- [x]  missing values defined;\n",
    "- [x]  missing values are filled;\n",
    "- [x]  an explanation of which missing value types were detected;\n",
    "- [x]  explanation for the possible causes of missing values;\n",
    "- [x]  an explanation of how the blanks are filled;\n",
    "- [x]  replaced the real data type with an integer;\n",
    "- [x]  an explanation of which method is used to change the data type and why;\n",
    "- [x]  duplicates deleted;\n",
    "- [x]  an explanation of which method is used to find and remove duplicates;\n",
    "- [x]  description of the possible reasons for the appearance of duplicates in the data;\n",
    "- [x]  data is categorized;\n",
    "- [x]  an explanation of the principle of data categorization;\n",
    "- [x]  an answer to the question \"Is there a relation between having kids and repaying a loan on time?\";\n",
    "- [x]  an answer to the question \" Is there a relation between marital status and repaying a loan on time?\";\n",
    "- [x]   an answer to the question \" Is there a relation between income level and repaying a loan on time?\";\n",
    "- [x]  an answer to the question \" How do different loan purposes affect on-time repayment of the loan?\"\n",
    "- [x]  conclusions are present on each stage;\n",
    "- [x]  a general conclusion is made."
   ]
  }
 ],
 "metadata": {
  "ExecuteTimeLog": [
   {
    "duration": 1610,
    "start_time": "2021-06-19T06:26:50.382Z"
   },
   {
    "duration": 374,
    "start_time": "2021-06-19T06:26:51.995Z"
   },
   {
    "duration": 5,
    "start_time": "2021-06-19T06:26:52.373Z"
   },
   {
    "duration": 16,
    "start_time": "2021-06-19T06:26:52.381Z"
   },
   {
    "duration": 45,
    "start_time": "2021-06-19T06:26:52.400Z"
   },
   {
    "duration": 69,
    "start_time": "2021-06-19T06:26:52.447Z"
   },
   {
    "duration": 8,
    "start_time": "2021-06-19T06:26:52.519Z"
   },
   {
    "duration": 9,
    "start_time": "2021-06-19T06:26:52.532Z"
   },
   {
    "duration": 42,
    "start_time": "2021-06-19T06:26:52.544Z"
   },
   {
    "duration": 15,
    "start_time": "2021-06-19T06:26:52.589Z"
   },
   {
    "duration": 8,
    "start_time": "2021-06-19T06:26:52.607Z"
   },
   {
    "duration": 8,
    "start_time": "2021-06-19T06:26:52.618Z"
   },
   {
    "duration": 7,
    "start_time": "2021-06-19T06:26:52.629Z"
   },
   {
    "duration": 7,
    "start_time": "2021-06-19T06:26:52.638Z"
   },
   {
    "duration": 9,
    "start_time": "2021-06-19T06:26:52.685Z"
   },
   {
    "duration": 23,
    "start_time": "2021-06-19T06:26:52.697Z"
   },
   {
    "duration": 10,
    "start_time": "2021-06-19T06:26:52.722Z"
   },
   {
    "duration": 9,
    "start_time": "2021-06-19T06:26:52.735Z"
   },
   {
    "duration": 18,
    "start_time": "2021-06-19T06:26:52.786Z"
   },
   {
    "duration": 15,
    "start_time": "2021-06-19T06:26:52.807Z"
   },
   {
    "duration": 9,
    "start_time": "2021-06-19T06:26:52.825Z"
   },
   {
    "duration": 7,
    "start_time": "2021-06-19T06:26:52.837Z"
   },
   {
    "duration": 6,
    "start_time": "2021-06-19T06:26:52.887Z"
   },
   {
    "duration": 8,
    "start_time": "2021-06-19T06:26:52.896Z"
   },
   {
    "duration": 26,
    "start_time": "2021-06-19T06:26:52.906Z"
   },
   {
    "duration": 55,
    "start_time": "2021-06-19T06:26:52.934Z"
   },
   {
    "duration": 29,
    "start_time": "2021-06-19T06:26:52.991Z"
   },
   {
    "duration": 31,
    "start_time": "2021-06-19T06:26:53.023Z"
   },
   {
    "duration": 12,
    "start_time": "2021-06-19T06:26:53.084Z"
   },
   {
    "duration": 20,
    "start_time": "2021-06-19T06:26:53.099Z"
   },
   {
    "duration": 31,
    "start_time": "2021-06-19T06:26:53.122Z"
   },
   {
    "duration": 56,
    "start_time": "2021-06-19T06:26:53.186Z"
   },
   {
    "duration": 42,
    "start_time": "2021-06-19T06:26:53.244Z"
   },
   {
    "duration": 27,
    "start_time": "2021-06-19T06:26:53.289Z"
   },
   {
    "duration": 23,
    "start_time": "2021-06-19T06:26:53.318Z"
   },
   {
    "duration": 17,
    "start_time": "2021-06-19T06:26:53.343Z"
   },
   {
    "duration": 21,
    "start_time": "2021-06-19T06:26:53.387Z"
   },
   {
    "duration": 22,
    "start_time": "2021-06-19T06:26:53.411Z"
   },
   {
    "duration": 52,
    "start_time": "2021-06-19T06:26:53.436Z"
   },
   {
    "duration": 7,
    "start_time": "2021-06-19T06:26:53.491Z"
   },
   {
    "duration": 991,
    "start_time": "2021-06-19T06:26:53.500Z"
   },
   {
    "duration": 16,
    "start_time": "2021-06-19T06:26:54.494Z"
   },
   {
    "duration": 11,
    "start_time": "2021-06-19T06:26:54.512Z"
   },
   {
    "duration": 10,
    "start_time": "2021-06-19T06:26:54.525Z"
   },
   {
    "duration": 51,
    "start_time": "2021-06-19T06:26:54.538Z"
   },
   {
    "duration": 99,
    "start_time": "2021-06-19T06:58:57.064Z"
   },
   {
    "duration": 127,
    "start_time": "2021-06-19T07:26:11.523Z"
   },
   {
    "duration": 17,
    "start_time": "2021-06-19T07:26:17.053Z"
   },
   {
    "duration": 1576,
    "start_time": "2021-06-19T08:37:31.943Z"
   },
   {
    "duration": 277,
    "start_time": "2021-06-19T08:37:33.522Z"
   },
   {
    "duration": 3,
    "start_time": "2021-06-19T08:37:33.802Z"
   },
   {
    "duration": 20,
    "start_time": "2021-06-19T08:37:33.809Z"
   },
   {
    "duration": 72,
    "start_time": "2021-06-19T08:37:33.831Z"
   },
   {
    "duration": 52,
    "start_time": "2021-06-19T08:37:33.906Z"
   },
   {
    "duration": 30,
    "start_time": "2021-06-19T08:37:33.961Z"
   },
   {
    "duration": 9,
    "start_time": "2021-06-19T08:37:33.995Z"
   },
   {
    "duration": 11,
    "start_time": "2021-06-19T08:37:34.006Z"
   },
   {
    "duration": 18,
    "start_time": "2021-06-19T08:37:34.020Z"
   },
   {
    "duration": 48,
    "start_time": "2021-06-19T08:37:34.040Z"
   },
   {
    "duration": 14,
    "start_time": "2021-06-19T08:37:34.091Z"
   },
   {
    "duration": 7,
    "start_time": "2021-06-19T08:37:34.109Z"
   },
   {
    "duration": 8,
    "start_time": "2021-06-19T08:37:34.119Z"
   },
   {
    "duration": 12,
    "start_time": "2021-06-19T08:37:34.130Z"
   },
   {
    "duration": 23,
    "start_time": "2021-06-19T08:37:34.186Z"
   },
   {
    "duration": 9,
    "start_time": "2021-06-19T08:37:34.212Z"
   },
   {
    "duration": 10,
    "start_time": "2021-06-19T08:37:34.223Z"
   },
   {
    "duration": 61,
    "start_time": "2021-06-19T08:37:34.235Z"
   },
   {
    "duration": 18,
    "start_time": "2021-06-19T08:37:34.298Z"
   },
   {
    "duration": 9,
    "start_time": "2021-06-19T08:37:34.319Z"
   },
   {
    "duration": 9,
    "start_time": "2021-06-19T08:37:34.330Z"
   },
   {
    "duration": 6,
    "start_time": "2021-06-19T08:37:34.345Z"
   },
   {
    "duration": 35,
    "start_time": "2021-06-19T08:37:34.354Z"
   },
   {
    "duration": 26,
    "start_time": "2021-06-19T08:37:34.392Z"
   },
   {
    "duration": 24,
    "start_time": "2021-06-19T08:37:34.420Z"
   },
   {
    "duration": 63,
    "start_time": "2021-06-19T08:37:34.447Z"
   },
   {
    "duration": 29,
    "start_time": "2021-06-19T08:37:34.513Z"
   },
   {
    "duration": 40,
    "start_time": "2021-06-19T08:37:34.546Z"
   },
   {
    "duration": 26,
    "start_time": "2021-06-19T08:37:34.589Z"
   },
   {
    "duration": 68,
    "start_time": "2021-06-19T08:37:34.618Z"
   },
   {
    "duration": 56,
    "start_time": "2021-06-19T08:37:34.690Z"
   },
   {
    "duration": 46,
    "start_time": "2021-06-19T08:37:34.749Z"
   },
   {
    "duration": 30,
    "start_time": "2021-06-19T08:37:34.798Z"
   },
   {
    "duration": 62,
    "start_time": "2021-06-19T08:37:34.831Z"
   },
   {
    "duration": 20,
    "start_time": "2021-06-19T08:37:34.896Z"
   },
   {
    "duration": 21,
    "start_time": "2021-06-19T08:37:34.919Z"
   },
   {
    "duration": 65,
    "start_time": "2021-06-19T08:37:34.943Z"
   },
   {
    "duration": 13,
    "start_time": "2021-06-19T08:37:35.011Z"
   },
   {
    "duration": 13,
    "start_time": "2021-06-19T08:37:35.026Z"
   },
   {
    "duration": 1002,
    "start_time": "2021-06-19T08:37:35.041Z"
   },
   {
    "duration": 18,
    "start_time": "2021-06-19T08:37:36.045Z"
   },
   {
    "duration": 27,
    "start_time": "2021-06-19T08:37:36.065Z"
   },
   {
    "duration": 10,
    "start_time": "2021-06-19T08:37:36.094Z"
   },
   {
    "duration": 12,
    "start_time": "2021-06-19T08:37:36.106Z"
   },
   {
    "duration": 1492,
    "start_time": "2021-06-22T07:41:54.650Z"
   },
   {
    "duration": 246,
    "start_time": "2021-06-22T07:41:56.145Z"
   },
   {
    "duration": 5,
    "start_time": "2021-06-22T07:41:56.394Z"
   },
   {
    "duration": 28,
    "start_time": "2021-06-22T07:41:56.402Z"
   },
   {
    "duration": 47,
    "start_time": "2021-06-22T07:41:56.432Z"
   },
   {
    "duration": 66,
    "start_time": "2021-06-22T07:41:56.481Z"
   },
   {
    "duration": 8,
    "start_time": "2021-06-22T07:41:56.550Z"
   },
   {
    "duration": 9,
    "start_time": "2021-06-22T07:41:56.562Z"
   },
   {
    "duration": 18,
    "start_time": "2021-06-22T07:41:56.574Z"
   },
   {
    "duration": 34,
    "start_time": "2021-06-22T07:41:56.595Z"
   },
   {
    "duration": 8,
    "start_time": "2021-06-22T07:43:45.197Z"
   },
   {
    "duration": 8,
    "start_time": "2021-06-22T07:43:58.384Z"
   },
   {
    "duration": 442,
    "start_time": "2021-06-22T07:45:30.994Z"
   },
   {
    "duration": 7,
    "start_time": "2021-06-22T07:45:36.518Z"
   },
   {
    "duration": 424,
    "start_time": "2021-06-22T07:46:26.401Z"
   },
   {
    "duration": 288,
    "start_time": "2021-06-22T07:46:36.100Z"
   },
   {
    "duration": 8,
    "start_time": "2021-06-22T07:46:42.612Z"
   },
   {
    "duration": 7,
    "start_time": "2021-06-22T07:48:07.338Z"
   },
   {
    "duration": 48,
    "start_time": "2021-06-22T07:55:25.991Z"
   },
   {
    "duration": 7,
    "start_time": "2021-06-22T08:17:16.902Z"
   },
   {
    "duration": 9,
    "start_time": "2021-06-22T08:18:10.992Z"
   },
   {
    "duration": 13,
    "start_time": "2021-06-22T08:18:30.544Z"
   },
   {
    "duration": 9,
    "start_time": "2021-06-22T08:18:40.938Z"
   },
   {
    "duration": 343,
    "start_time": "2021-06-22T08:22:13.553Z"
   },
   {
    "duration": 1485,
    "start_time": "2021-06-22T08:22:38.943Z"
   },
   {
    "duration": 387,
    "start_time": "2021-06-22T08:22:40.431Z"
   },
   {
    "duration": 5,
    "start_time": "2021-06-22T08:22:40.821Z"
   },
   {
    "duration": 21,
    "start_time": "2021-06-22T08:22:40.830Z"
   },
   {
    "duration": 47,
    "start_time": "2021-06-22T08:22:40.854Z"
   },
   {
    "duration": 62,
    "start_time": "2021-06-22T08:22:40.904Z"
   },
   {
    "duration": 8,
    "start_time": "2021-06-22T08:22:40.969Z"
   },
   {
    "duration": 11,
    "start_time": "2021-06-22T08:22:40.981Z"
   },
   {
    "duration": 8,
    "start_time": "2021-06-22T08:22:41.024Z"
   },
   {
    "duration": 14,
    "start_time": "2021-06-22T08:22:41.034Z"
   },
   {
    "duration": 48,
    "start_time": "2021-06-22T08:22:41.050Z"
   },
   {
    "duration": 8,
    "start_time": "2021-06-22T08:22:41.124Z"
   },
   {
    "duration": 8,
    "start_time": "2021-06-22T08:22:41.134Z"
   },
   {
    "duration": 5,
    "start_time": "2021-06-22T08:22:41.145Z"
   },
   {
    "duration": 8,
    "start_time": "2021-06-22T08:22:41.152Z"
   },
   {
    "duration": 11,
    "start_time": "2021-06-22T08:22:41.162Z"
   },
   {
    "duration": 66,
    "start_time": "2021-06-22T08:22:41.176Z"
   },
   {
    "duration": 11,
    "start_time": "2021-06-22T08:22:41.244Z"
   },
   {
    "duration": 12,
    "start_time": "2021-06-22T08:22:41.258Z"
   },
   {
    "duration": 19,
    "start_time": "2021-06-22T08:22:41.273Z"
   },
   {
    "duration": 18,
    "start_time": "2021-06-22T08:22:41.324Z"
   },
   {
    "duration": 12,
    "start_time": "2021-06-22T08:22:41.345Z"
   },
   {
    "duration": 11,
    "start_time": "2021-06-22T08:22:41.363Z"
   },
   {
    "duration": 18,
    "start_time": "2021-06-22T08:22:41.377Z"
   },
   {
    "duration": 30,
    "start_time": "2021-06-22T08:22:41.398Z"
   },
   {
    "duration": 26,
    "start_time": "2021-06-22T08:22:41.432Z"
   },
   {
    "duration": 24,
    "start_time": "2021-06-22T08:22:41.460Z"
   },
   {
    "duration": 30,
    "start_time": "2021-06-22T08:22:41.524Z"
   },
   {
    "duration": 28,
    "start_time": "2021-06-22T08:22:41.557Z"
   },
   {
    "duration": 43,
    "start_time": "2021-06-22T08:22:41.588Z"
   },
   {
    "duration": 12,
    "start_time": "2021-06-22T08:22:45.141Z"
   },
   {
    "duration": 22,
    "start_time": "2021-06-22T08:22:59.013Z"
   },
   {
    "duration": 1500,
    "start_time": "2021-06-22T08:25:28.651Z"
   },
   {
    "duration": 496,
    "start_time": "2021-06-22T08:25:30.153Z"
   },
   {
    "duration": 5,
    "start_time": "2021-06-22T08:25:30.652Z"
   },
   {
    "duration": 18,
    "start_time": "2021-06-22T08:25:30.660Z"
   },
   {
    "duration": 69,
    "start_time": "2021-06-22T08:25:30.680Z"
   },
   {
    "duration": 48,
    "start_time": "2021-06-22T08:25:30.752Z"
   },
   {
    "duration": 9,
    "start_time": "2021-06-22T08:25:30.825Z"
   },
   {
    "duration": 22,
    "start_time": "2021-06-22T08:25:30.838Z"
   },
   {
    "duration": 19,
    "start_time": "2021-06-22T08:25:30.863Z"
   },
   {
    "duration": 22,
    "start_time": "2021-06-22T08:25:30.885Z"
   },
   {
    "duration": 64,
    "start_time": "2021-06-22T08:25:30.909Z"
   },
   {
    "duration": 10,
    "start_time": "2021-06-22T08:25:30.976Z"
   },
   {
    "duration": 37,
    "start_time": "2021-06-22T08:25:30.989Z"
   },
   {
    "duration": 6,
    "start_time": "2021-06-22T08:25:31.028Z"
   },
   {
    "duration": 18,
    "start_time": "2021-06-22T08:25:31.037Z"
   },
   {
    "duration": 27,
    "start_time": "2021-06-22T08:25:31.057Z"
   },
   {
    "duration": 53,
    "start_time": "2021-06-22T08:25:31.087Z"
   },
   {
    "duration": 17,
    "start_time": "2021-06-22T08:25:31.143Z"
   },
   {
    "duration": 19,
    "start_time": "2021-06-22T08:25:31.162Z"
   },
   {
    "duration": 22,
    "start_time": "2021-06-22T08:25:31.184Z"
   },
   {
    "duration": 15,
    "start_time": "2021-06-22T08:25:31.224Z"
   },
   {
    "duration": 10,
    "start_time": "2021-06-22T08:25:31.242Z"
   },
   {
    "duration": 20,
    "start_time": "2021-06-22T08:25:31.257Z"
   },
   {
    "duration": 11,
    "start_time": "2021-06-22T08:25:31.280Z"
   },
   {
    "duration": 12,
    "start_time": "2021-06-22T08:25:31.293Z"
   },
   {
    "duration": 25,
    "start_time": "2021-06-22T08:25:31.324Z"
   },
   {
    "duration": 30,
    "start_time": "2021-06-22T08:25:31.352Z"
   },
   {
    "duration": 52,
    "start_time": "2021-06-22T08:25:31.385Z"
   },
   {
    "duration": 28,
    "start_time": "2021-06-22T08:25:31.439Z"
   },
   {
    "duration": 9,
    "start_time": "2021-06-22T08:25:31.469Z"
   },
   {
    "duration": 55,
    "start_time": "2021-06-22T08:25:31.480Z"
   },
   {
    "duration": 20,
    "start_time": "2021-06-22T08:25:31.537Z"
   },
   {
    "duration": 32,
    "start_time": "2021-06-22T08:25:31.559Z"
   },
   {
    "duration": 80,
    "start_time": "2021-06-22T08:25:31.593Z"
   },
   {
    "duration": 22,
    "start_time": "2021-06-22T08:25:31.675Z"
   },
   {
    "duration": 41,
    "start_time": "2021-06-22T08:25:31.699Z"
   },
   {
    "duration": 22,
    "start_time": "2021-06-22T08:25:31.742Z"
   },
   {
    "duration": 17,
    "start_time": "2021-06-22T08:25:31.767Z"
   },
   {
    "duration": 48,
    "start_time": "2021-06-22T08:25:31.787Z"
   },
   {
    "duration": 38,
    "start_time": "2021-06-22T08:25:31.837Z"
   },
   {
    "duration": 14,
    "start_time": "2021-06-22T08:25:31.878Z"
   },
   {
    "duration": 12,
    "start_time": "2021-06-22T08:25:31.894Z"
   },
   {
    "duration": 994,
    "start_time": "2021-06-22T08:25:31.924Z"
   },
   {
    "duration": 17,
    "start_time": "2021-06-22T08:25:32.923Z"
   },
   {
    "duration": 15,
    "start_time": "2021-06-22T08:25:32.942Z"
   },
   {
    "duration": 10,
    "start_time": "2021-06-22T08:25:32.959Z"
   },
   {
    "duration": 12,
    "start_time": "2021-06-22T08:25:32.971Z"
   },
   {
    "duration": 9,
    "start_time": "2021-06-22T08:27:43.869Z"
   },
   {
    "duration": 5,
    "start_time": "2021-06-22T08:41:49.488Z"
   },
   {
    "duration": 33,
    "start_time": "2021-06-22T08:41:55.384Z"
   },
   {
    "duration": 8,
    "start_time": "2021-06-22T08:42:06.241Z"
   },
   {
    "duration": 9,
    "start_time": "2021-06-22T08:42:14.125Z"
   },
   {
    "duration": 10,
    "start_time": "2021-06-22T08:53:53.983Z"
   },
   {
    "duration": 10,
    "start_time": "2021-06-22T08:53:56.311Z"
   },
   {
    "duration": 7,
    "start_time": "2021-06-22T08:54:11.689Z"
   },
   {
    "duration": 7,
    "start_time": "2021-06-22T08:54:34.036Z"
   },
   {
    "duration": 7,
    "start_time": "2021-06-22T08:54:51.857Z"
   },
   {
    "duration": 7,
    "start_time": "2021-06-22T08:54:55.365Z"
   },
   {
    "duration": 7,
    "start_time": "2021-06-22T08:55:33.692Z"
   },
   {
    "duration": 8,
    "start_time": "2021-06-22T08:57:25.083Z"
   },
   {
    "duration": 1573,
    "start_time": "2021-06-22T09:14:58.717Z"
   },
   {
    "duration": 1464,
    "start_time": "2021-06-22T09:15:00.292Z"
   },
   {
    "duration": 5,
    "start_time": "2021-06-22T09:15:01.759Z"
   },
   {
    "duration": 20,
    "start_time": "2021-06-22T09:15:01.767Z"
   },
   {
    "duration": 66,
    "start_time": "2021-06-22T09:15:01.790Z"
   },
   {
    "duration": 70,
    "start_time": "2021-06-22T09:15:01.858Z"
   },
   {
    "duration": 21,
    "start_time": "2021-06-22T09:15:01.930Z"
   },
   {
    "duration": 17,
    "start_time": "2021-06-22T09:15:01.955Z"
   },
   {
    "duration": 24,
    "start_time": "2021-06-22T09:15:01.975Z"
   },
   {
    "duration": 29,
    "start_time": "2021-06-22T09:15:02.001Z"
   },
   {
    "duration": 55,
    "start_time": "2021-06-22T09:15:02.032Z"
   },
   {
    "duration": 8,
    "start_time": "2021-06-22T09:15:02.089Z"
   },
   {
    "duration": 30,
    "start_time": "2021-06-22T09:15:02.099Z"
   },
   {
    "duration": 6,
    "start_time": "2021-06-22T09:15:02.131Z"
   },
   {
    "duration": 9,
    "start_time": "2021-06-22T09:15:02.140Z"
   },
   {
    "duration": 13,
    "start_time": "2021-06-22T09:15:02.151Z"
   },
   {
    "duration": 36,
    "start_time": "2021-06-22T09:15:02.166Z"
   },
   {
    "duration": 10,
    "start_time": "2021-06-22T09:15:02.225Z"
   },
   {
    "duration": 23,
    "start_time": "2021-06-22T09:15:02.237Z"
   },
   {
    "duration": 23,
    "start_time": "2021-06-22T09:15:02.263Z"
   },
   {
    "duration": 35,
    "start_time": "2021-06-22T09:15:02.289Z"
   },
   {
    "duration": 12,
    "start_time": "2021-06-22T09:15:02.326Z"
   },
   {
    "duration": 16,
    "start_time": "2021-06-22T09:15:02.348Z"
   },
   {
    "duration": 11,
    "start_time": "2021-06-22T09:15:02.368Z"
   },
   {
    "duration": 15,
    "start_time": "2021-06-22T09:15:02.381Z"
   },
   {
    "duration": 42,
    "start_time": "2021-06-22T09:15:02.399Z"
   },
   {
    "duration": 23,
    "start_time": "2021-06-22T09:15:02.443Z"
   },
   {
    "duration": 27,
    "start_time": "2021-06-22T09:15:02.468Z"
   },
   {
    "duration": 29,
    "start_time": "2021-06-22T09:15:02.525Z"
   },
   {
    "duration": 10,
    "start_time": "2021-06-22T09:15:02.557Z"
   },
   {
    "duration": 63,
    "start_time": "2021-06-22T09:15:02.569Z"
   },
   {
    "duration": 22,
    "start_time": "2021-06-22T09:15:02.634Z"
   },
   {
    "duration": 71,
    "start_time": "2021-06-22T09:15:02.659Z"
   },
   {
    "duration": 57,
    "start_time": "2021-06-22T09:15:02.733Z"
   },
   {
    "duration": 47,
    "start_time": "2021-06-22T09:15:02.792Z"
   },
   {
    "duration": 34,
    "start_time": "2021-06-22T09:15:02.842Z"
   },
   {
    "duration": 23,
    "start_time": "2021-06-22T09:15:02.879Z"
   },
   {
    "duration": 18,
    "start_time": "2021-06-22T09:15:02.925Z"
   },
   {
    "duration": 26,
    "start_time": "2021-06-22T09:15:02.945Z"
   },
   {
    "duration": 61,
    "start_time": "2021-06-22T09:15:02.973Z"
   },
   {
    "duration": 17,
    "start_time": "2021-06-22T09:15:03.037Z"
   },
   {
    "duration": 13,
    "start_time": "2021-06-22T09:15:03.057Z"
   },
   {
    "duration": 1139,
    "start_time": "2021-06-22T09:15:03.073Z"
   },
   {
    "duration": 22,
    "start_time": "2021-06-22T09:15:04.215Z"
   },
   {
    "duration": 10,
    "start_time": "2021-06-22T09:15:04.239Z"
   },
   {
    "duration": 14,
    "start_time": "2021-06-22T09:15:04.251Z"
   },
   {
    "duration": 12,
    "start_time": "2021-06-22T09:15:04.267Z"
   },
   {
    "duration": 51,
    "start_time": "2021-06-22T09:15:04.282Z"
   },
   {
    "duration": 17,
    "start_time": "2021-06-22T09:15:04.336Z"
   },
   {
    "duration": 31,
    "start_time": "2021-06-22T09:15:04.356Z"
   },
   {
    "duration": 9,
    "start_time": "2021-06-22T09:15:04.390Z"
   },
   {
    "duration": 305,
    "start_time": "2021-06-22T09:15:04.402Z"
   },
   {
    "duration": 9,
    "start_time": "2021-06-22T09:15:04.711Z"
   },
   {
    "duration": 21,
    "start_time": "2021-06-22T09:15:04.723Z"
   },
   {
    "duration": 62,
    "start_time": "2021-06-22T09:15:04.746Z"
   },
   {
    "duration": 63,
    "start_time": "2021-06-22T09:15:04.810Z"
   },
   {
    "duration": 11,
    "start_time": "2021-06-22T09:15:04.875Z"
   },
   {
    "duration": 40,
    "start_time": "2021-06-22T09:15:04.889Z"
   },
   {
    "duration": 8,
    "start_time": "2021-06-22T09:15:04.932Z"
   },
   {
    "duration": 14,
    "start_time": "2021-06-22T09:15:04.942Z"
   },
   {
    "duration": 69,
    "start_time": "2021-06-22T09:15:04.958Z"
   },
   {
    "duration": 8,
    "start_time": "2021-06-22T09:15:05.029Z"
   },
   {
    "duration": 13,
    "start_time": "2021-06-22T09:15:05.039Z"
   },
   {
    "duration": 7,
    "start_time": "2021-06-22T09:15:05.054Z"
   },
   {
    "duration": 19,
    "start_time": "2021-06-22T09:15:05.064Z"
   },
   {
    "duration": 15,
    "start_time": "2021-06-22T09:15:05.086Z"
   },
   {
    "duration": 40,
    "start_time": "2021-06-22T09:15:05.103Z"
   },
   {
    "duration": 9,
    "start_time": "2021-06-22T09:15:05.151Z"
   },
   {
    "duration": 11,
    "start_time": "2021-06-22T09:15:05.163Z"
   },
   {
    "duration": 56,
    "start_time": "2021-06-22T09:15:05.177Z"
   },
   {
    "duration": 19,
    "start_time": "2021-06-22T09:15:05.236Z"
   },
   {
    "duration": 9,
    "start_time": "2021-06-22T09:15:05.258Z"
   },
   {
    "duration": 8,
    "start_time": "2021-06-22T09:15:05.270Z"
   },
   {
    "duration": 7,
    "start_time": "2021-06-22T09:15:05.280Z"
   },
   {
    "duration": 38,
    "start_time": "2021-06-22T09:15:05.289Z"
   },
   {
    "duration": 25,
    "start_time": "2021-06-22T09:15:05.330Z"
   },
   {
    "duration": 21,
    "start_time": "2021-06-22T09:15:05.357Z"
   },
   {
    "duration": 59,
    "start_time": "2021-06-22T09:15:05.381Z"
   },
   {
    "duration": 29,
    "start_time": "2021-06-22T09:15:05.442Z"
   },
   {
    "duration": 8,
    "start_time": "2021-06-22T09:15:05.473Z"
   },
   {
    "duration": 54,
    "start_time": "2021-06-22T09:15:05.483Z"
   },
   {
    "duration": 19,
    "start_time": "2021-06-22T09:15:05.539Z"
   },
   {
    "duration": 33,
    "start_time": "2021-06-22T09:15:05.561Z"
   },
   {
    "duration": 74,
    "start_time": "2021-06-22T09:15:05.596Z"
   },
   {
    "duration": 22,
    "start_time": "2021-06-22T09:15:05.672Z"
   },
   {
    "duration": 49,
    "start_time": "2021-06-22T09:15:05.697Z"
   },
   {
    "duration": 22,
    "start_time": "2021-06-22T09:15:05.748Z"
   },
   {
    "duration": 16,
    "start_time": "2021-06-22T09:15:05.772Z"
   },
   {
    "duration": 43,
    "start_time": "2021-06-22T09:15:05.791Z"
   },
   {
    "duration": 24,
    "start_time": "2021-06-22T09:15:05.836Z"
   },
   {
    "duration": 16,
    "start_time": "2021-06-22T09:15:05.862Z"
   },
   {
    "duration": 11,
    "start_time": "2021-06-22T09:15:05.880Z"
   },
   {
    "duration": 1049,
    "start_time": "2021-06-22T09:15:05.926Z"
   },
   {
    "duration": 18,
    "start_time": "2021-06-22T09:15:06.978Z"
   },
   {
    "duration": 30,
    "start_time": "2021-06-22T09:15:06.998Z"
   },
   {
    "duration": 26,
    "start_time": "2021-06-22T09:15:07.030Z"
   },
   {
    "duration": 19,
    "start_time": "2021-06-22T09:15:07.058Z"
   },
   {
    "duration": 15,
    "start_time": "2021-06-22T09:15:07.080Z"
   },
   {
    "duration": 27,
    "start_time": "2021-06-22T09:15:07.097Z"
   },
   {
    "duration": 8,
    "start_time": "2021-06-22T09:15:07.126Z"
   },
   {
    "duration": 4,
    "start_time": "2021-06-22T09:36:11.222Z"
   },
   {
    "duration": 658,
    "start_time": "2021-06-22T09:36:11.229Z"
   },
   {
    "duration": 5,
    "start_time": "2021-06-22T09:36:11.890Z"
   },
   {
    "duration": 22,
    "start_time": "2021-06-22T09:36:11.898Z"
   },
   {
    "duration": 45,
    "start_time": "2021-06-22T09:36:11.924Z"
   },
   {
    "duration": 69,
    "start_time": "2021-06-22T09:36:11.971Z"
   },
   {
    "duration": 9,
    "start_time": "2021-06-22T09:36:12.044Z"
   },
   {
    "duration": 18,
    "start_time": "2021-06-22T09:36:12.055Z"
   },
   {
    "duration": 18,
    "start_time": "2021-06-22T09:36:12.076Z"
   },
   {
    "duration": 10,
    "start_time": "2021-06-22T09:36:12.097Z"
   },
   {
    "duration": 48,
    "start_time": "2021-06-22T09:36:12.125Z"
   },
   {
    "duration": 8,
    "start_time": "2021-06-22T09:36:12.176Z"
   },
   {
    "duration": 41,
    "start_time": "2021-06-22T09:36:12.186Z"
   },
   {
    "duration": 8,
    "start_time": "2021-06-22T09:36:12.230Z"
   },
   {
    "duration": 16,
    "start_time": "2021-06-22T09:36:12.240Z"
   },
   {
    "duration": 18,
    "start_time": "2021-06-22T09:36:12.258Z"
   },
   {
    "duration": 47,
    "start_time": "2021-06-22T09:36:12.278Z"
   },
   {
    "duration": 18,
    "start_time": "2021-06-22T09:36:12.328Z"
   },
   {
    "duration": 9,
    "start_time": "2021-06-22T09:36:12.351Z"
   },
   {
    "duration": 20,
    "start_time": "2021-06-22T09:36:12.363Z"
   },
   {
    "duration": 43,
    "start_time": "2021-06-22T09:36:12.386Z"
   },
   {
    "duration": 10,
    "start_time": "2021-06-22T09:36:12.431Z"
   },
   {
    "duration": 10,
    "start_time": "2021-06-22T09:36:12.443Z"
   },
   {
    "duration": 5,
    "start_time": "2021-06-22T09:36:12.456Z"
   },
   {
    "duration": 8,
    "start_time": "2021-06-22T09:36:12.463Z"
   },
   {
    "duration": 75,
    "start_time": "2021-06-22T09:36:12.475Z"
   },
   {
    "duration": 27,
    "start_time": "2021-06-22T09:36:12.553Z"
   },
   {
    "duration": 54,
    "start_time": "2021-06-22T09:36:12.583Z"
   },
   {
    "duration": 31,
    "start_time": "2021-06-22T09:36:12.640Z"
   },
   {
    "duration": 9,
    "start_time": "2021-06-22T09:36:12.673Z"
   },
   {
    "duration": 58,
    "start_time": "2021-06-22T09:36:12.685Z"
   },
   {
    "duration": 23,
    "start_time": "2021-06-22T09:36:12.746Z"
   },
   {
    "duration": 63,
    "start_time": "2021-06-22T09:36:12.772Z"
   },
   {
    "duration": 53,
    "start_time": "2021-06-22T09:36:12.837Z"
   },
   {
    "duration": 46,
    "start_time": "2021-06-22T09:36:12.893Z"
   },
   {
    "duration": 26,
    "start_time": "2021-06-22T09:36:12.942Z"
   },
   {
    "duration": 22,
    "start_time": "2021-06-22T09:36:12.971Z"
   },
   {
    "duration": 18,
    "start_time": "2021-06-22T09:36:13.025Z"
   },
   {
    "duration": 19,
    "start_time": "2021-06-22T09:36:13.046Z"
   },
   {
    "duration": 57,
    "start_time": "2021-06-22T09:36:13.068Z"
   },
   {
    "duration": 12,
    "start_time": "2021-06-22T09:36:13.128Z"
   },
   {
    "duration": 11,
    "start_time": "2021-06-22T09:36:13.142Z"
   },
   {
    "duration": 1042,
    "start_time": "2021-06-22T09:36:13.155Z"
   },
   {
    "duration": 30,
    "start_time": "2021-06-22T09:36:14.199Z"
   },
   {
    "duration": 9,
    "start_time": "2021-06-22T09:36:14.231Z"
   },
   {
    "duration": 16,
    "start_time": "2021-06-22T09:36:14.243Z"
   },
   {
    "duration": 21,
    "start_time": "2021-06-22T09:36:14.261Z"
   },
   {
    "duration": 16,
    "start_time": "2021-06-22T09:36:14.284Z"
   },
   {
    "duration": 10,
    "start_time": "2021-06-22T09:36:14.324Z"
   },
   {
    "duration": 9,
    "start_time": "2021-06-22T09:36:14.336Z"
   }
  ],
  "kernelspec": {
   "display_name": "Python 3",
   "language": "python",
   "name": "python3"
  },
  "language_info": {
   "codemirror_mode": {
    "name": "ipython",
    "version": 3
   },
   "file_extension": ".py",
   "mimetype": "text/x-python",
   "name": "python",
   "nbconvert_exporter": "python",
   "pygments_lexer": "ipython3",
   "version": "3.8.8"
  },
  "toc": {
   "base_numbering": 1,
   "nav_menu": {},
   "number_sections": true,
   "sideBar": true,
   "skip_h1_title": true,
   "title_cell": "Table of Contents",
   "title_sidebar": "Contents",
   "toc_cell": false,
   "toc_position": {},
   "toc_section_display": true,
   "toc_window_display": false
  }
 },
 "nbformat": 4,
 "nbformat_minor": 2
}
