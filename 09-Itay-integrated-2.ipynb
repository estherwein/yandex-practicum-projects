{
 "cells": [
  {
   "cell_type": "markdown",
   "metadata": {},
   "source": [
    "<div style=\"border:solid green 2px; padding: 20px\">\n",
    "<b>Hello, Itay!</b>\n",
    "\n",
    "My name is Grigoriy Gusarov and I'm going to review your project.\n",
    "\n",
    "My main goal is not to show that any mistakes have been made somewhere, but to share my experience that will help you in your further work. Further in the file you can see my comments, try to take them into account when performing the next tasks. **Please, don't delete them.**\n",
    "\n",
    "\n",
    "You can find my comments in <font color='green'>green</font>, <font color='orange'>yellow</font> or <font color='red'>red</font> boxes like this:\n",
    "\n",
    "<div class=\"alert alert-success\">\n",
    "<b>Reviewer's comment:</b> if everything is done succesfully\n",
    "</div>\n",
    "\n",
    "<div class=\"alert alert-warning\">\n",
    "<b>Reviewer's comment: </b> if I can give some recommendations\n",
    "</div>\n",
    "\n",
    "<div class=\"alert alert-danger\">\n",
    "<b>Reviewer's comment:</b> if the block requires some corrections. Work can't be accepted with the red comments.\n",
    "</div>\n",
    "\n",
    "    \n",
    "Let's work on the project in dialogue: if you change something in the project or respond to my comments, write about it. It will be easier for me to track the changes if you highlight your comments:\n",
    "    \n",
    "<div class=\"alert alert-info\"> <b>Student's comment:</b> For example like this.</div>"
   ]
  },
  {
   "cell_type": "markdown",
   "metadata": {},
   "source": [
    "### <font color='orange'>General feedback</font>\n",
    "Thank you for sending your project! Great job, you've submitted very solid research. Please, pay attention to the statistical hypotheses formulations and hardcoding issues.\n",
    "\n",
    "**Update**:<br>\n",
    "Thank you for the update! Great job, all issues had been eliminated. Your project has been accepted, congratulations!"
   ]
  },
  {
   "cell_type": "markdown",
   "metadata": {},
   "source": [
    "<div class=\"alert alert-warning\">\n",
    "<b>Reviewer's comment: </b> Additional links:\n",
    "    <ul>\n",
    "        <li>Plotly cheat sheet: <a>https://images.plot.ly/plotly-documentation/images/python_cheat_sheet.pdf</a></li>\n",
    "        <li>Pingouin. Sometimes it's more convenient than scipy: <a>https://pingouin-stats.org/#</a></li>\n",
    "        <li>Sweetviz <a>https://towardsdatascience.com/sweetviz-automated-eda-in-python-a97e4cabacde</a></li>\n",
    "    </ul>\n",
    "</div>"
   ]
  },
  {
   "cell_type": "markdown",
   "metadata": {},
   "source": [
    "---"
   ]
  },
  {
   "cell_type": "markdown",
   "metadata": {},
   "source": [
    "You work at a startup that sells food products. You need to investigate user behavior for the company's app.\n",
    "\n",
    "Description of the data:\n",
    "* EventName — event name\n",
    "* DeviceIDHash — unique user identifier\n",
    "* EventTimestamp — event time\n",
    "* ExpId — experiment number: 246 and 247 are the control groups, 248 is the test group\n",
    "\n",
    "Research plan:\n",
    "<a class=\"anchor\" id=\"table_of_contents\"></a>\n",
    "\n",
    "[table_of_contents](#table_of_contents)\n",
    "\n",
    "1. [look at general information of the data](#general_information)\n",
    "    * Load libraries and install packages.\n",
    "    * Load data\n",
    "2. [preprocess](#preprocess)\n",
    "    * [x] Rename the columns in a way that's convenient for you \n",
    "    * [x] Check types \n",
    "    * [x] Check missing values\n",
    "    * [x] Look for duplicates\n",
    "    * [x] Check for anomalies(very larg, very small, incorrect data)\n",
    "3. [Data analysis:](#Data_analysis)\n",
    "    * [x] How many events are in the logs?\n",
    "    * [x] How many users are in the logs?\n",
    "    * [x] What's the average number of events per user?\n",
    "    * [x] What period of time does the data cover? Find the maximum and the minimum date. Plot a histogram by date and \n",
    "    time. \n",
    "    * [x] Did you lose many events and users when excluding the older data?\n",
    "    * [x] Make sure you have users from all three experimental groups\n",
    "    \n",
    "4. [Study the event funnel](#Study_the_event_funnel)\n",
    "\n",
    "    * [x] See what events are in the logs and their frequency of occurrence. Sort them by frequency.\n",
    "    * [x] Find the number of users who performed each of these actions. Sort the events by the number of users. Calculate the proportion of users who performed the action at least once.\n",
    "    * [x] In what order do you think the actions took place. Are all of them part of a single sequence? You don't need to take them into account when calculating the funnel.\n",
    "    * [x] Use the event funnel to find the share of users that proceed from each stage to the next. (For instance, for the sequence of events A → B → C, calculate the ratio of users at stage B to the number of users at stage A and the ratio of users at stage C to the number at stage B.)\n",
    "    * [x] At what stage do you lose the most users?\n",
    "    * [x] What share of users make the entire journey from their first event to payment?\n",
    "    \n",
    "5. [Study the results of the experiment](#Study_the_results_of_the_experiment)\n",
    "    * [x] How many users are there in each group?\n",
    "    * [x] We have two control groups in the A/A test, where we check our mechanisms and calculations. See if there is a statistically significant difference between samples 246 and 247.\n",
    "    * [x] Select the most popular event. In each of the control groups, find the number of users who performed this action. Find their share. Check whether the difference between the groups is statistically significant. Repeat the procedure for all other events (it will save time if you create a special function for this test). Can you confirm that the groups were split properly?\n",
    "    * [x] Do the same thing for the group with altered fonts. Compare the results with those of each of the control groups for each event in isolation. Compare the results with the combined results for the control groups. What conclusions can you draw from the experiment?\n",
    "    * [x] What significance level have you set to test the statistical hypotheses mentioned above? Calculate how many statistical hypothesis tests you carried out. With a statistical significance level of 0.1, one in 10 results could be false. What should the significance level be? If you want to change it, run through the previous steps again and check your conclusions."
   ]
  },
  {
   "cell_type": "markdown",
   "metadata": {},
   "source": [
    "<a class='anchor' id='general_information'></a>\n",
    "[Go back to the Table of Contents](#table_of_contents)\n",
    "## [look at general information of the data](#general_information)"
   ]
  },
  {
   "cell_type": "code",
   "execution_count": 27,
   "metadata": {},
   "outputs": [],
   "source": [
    "# !pip install -q --user --upgrade pandas\n",
    "# !pip install -q --user --upgrade matplotlib\n",
    "# !pip install -q --user --upgrade seaborn\n",
    "!pip install -q --user --upgrade plotly"
   ]
  },
  {
   "cell_type": "code",
   "execution_count": 28,
   "metadata": {},
   "outputs": [],
   "source": [
    "import sys\n",
    "import warnings\n",
    "if not sys.warnoptions:\n",
    "    warnings.simplefilter(\"ignore\")"
   ]
  },
  {
   "cell_type": "code",
   "execution_count": 29,
   "metadata": {},
   "outputs": [],
   "source": [
    "import numpy as np\n",
    "import pandas as pd\n",
    "import matplotlib\n",
    "import matplotlib.pyplot as plt\n",
    "import seaborn as sns\n",
    "import plotly\n",
    "import plotly.express as px\n",
    "import plotly.graph_objects as go\n",
    "from datetime import datetime\n",
    "from scipy import stats as st\n",
    "import math as mth\n",
    "\n",
    "pd.options.display.max_colwidth = 120\n",
    "\n",
    "sns.set(rc={\"figure.figsize\":(10, 6)})\n"
   ]
  },
  {
   "cell_type": "code",
   "execution_count": 30,
   "metadata": {},
   "outputs": [],
   "source": [
    "try:\n",
    "    users_df = pd.read_csv ('/datasets/logs_exp_us.csv', sep='\\t')\n",
    "except:  \n",
    "    users_df = pd.read_csv ('/datasets/logs_exp_us.csv', sep='\\t')"
   ]
  },
  {
   "cell_type": "markdown",
   "metadata": {},
   "source": [
    "<div class=\"alert alert-success\">\n",
    "<b>Reviewer's comment:</b> Okay, nice start.\n",
    "</div>"
   ]
  },
  {
   "cell_type": "markdown",
   "metadata": {},
   "source": [
    "<a class='anchor' id='preprocess'></a>\n",
    "[Go back to the Table of Contents](#table_of_contents)\n",
    "## [preprocess](#preprocess)"
   ]
  },
  {
   "cell_type": "code",
   "execution_count": 31,
   "metadata": {},
   "outputs": [
    {
     "data": {
      "text/html": [
       "<div>\n",
       "<style scoped>\n",
       "    .dataframe tbody tr th:only-of-type {\n",
       "        vertical-align: middle;\n",
       "    }\n",
       "\n",
       "    .dataframe tbody tr th {\n",
       "        vertical-align: top;\n",
       "    }\n",
       "\n",
       "    .dataframe thead th {\n",
       "        text-align: right;\n",
       "    }\n",
       "</style>\n",
       "<table border=\"1\" class=\"dataframe\">\n",
       "  <thead>\n",
       "    <tr style=\"text-align: right;\">\n",
       "      <th></th>\n",
       "      <th>EventName</th>\n",
       "      <th>DeviceIDHash</th>\n",
       "      <th>EventTimestamp</th>\n",
       "      <th>ExpId</th>\n",
       "    </tr>\n",
       "  </thead>\n",
       "  <tbody>\n",
       "    <tr>\n",
       "      <td>0</td>\n",
       "      <td>MainScreenAppear</td>\n",
       "      <td>4575588528974610257</td>\n",
       "      <td>1564029816</td>\n",
       "      <td>246</td>\n",
       "    </tr>\n",
       "    <tr>\n",
       "      <td>1</td>\n",
       "      <td>MainScreenAppear</td>\n",
       "      <td>7416695313311560658</td>\n",
       "      <td>1564053102</td>\n",
       "      <td>246</td>\n",
       "    </tr>\n",
       "    <tr>\n",
       "      <td>2</td>\n",
       "      <td>PaymentScreenSuccessful</td>\n",
       "      <td>3518123091307005509</td>\n",
       "      <td>1564054127</td>\n",
       "      <td>248</td>\n",
       "    </tr>\n",
       "    <tr>\n",
       "      <td>3</td>\n",
       "      <td>CartScreenAppear</td>\n",
       "      <td>3518123091307005509</td>\n",
       "      <td>1564054127</td>\n",
       "      <td>248</td>\n",
       "    </tr>\n",
       "    <tr>\n",
       "      <td>4</td>\n",
       "      <td>PaymentScreenSuccessful</td>\n",
       "      <td>6217807653094995999</td>\n",
       "      <td>1564055322</td>\n",
       "      <td>248</td>\n",
       "    </tr>\n",
       "  </tbody>\n",
       "</table>\n",
       "</div>"
      ],
      "text/plain": [
       "                 EventName         DeviceIDHash  EventTimestamp  ExpId\n",
       "0         MainScreenAppear  4575588528974610257      1564029816    246\n",
       "1         MainScreenAppear  7416695313311560658      1564053102    246\n",
       "2  PaymentScreenSuccessful  3518123091307005509      1564054127    248\n",
       "3         CartScreenAppear  3518123091307005509      1564054127    248\n",
       "4  PaymentScreenSuccessful  6217807653094995999      1564055322    248"
      ]
     },
     "execution_count": 31,
     "metadata": {},
     "output_type": "execute_result"
    }
   ],
   "source": [
    "users_df.head()"
   ]
  },
  {
   "cell_type": "markdown",
   "metadata": {},
   "source": [
    "Some obesrvations:\n",
    "* We see column names are camel cased, we will change it to lower and a dash between\n",
    "* **EventName** are camel cased, we need to check all values are the same.\n",
    "\n",
    "----------------\n",
    "### Rename the columns"
   ]
  },
  {
   "cell_type": "code",
   "execution_count": 32,
   "metadata": {},
   "outputs": [
    {
     "data": {
      "text/html": [
       "<div>\n",
       "<style scoped>\n",
       "    .dataframe tbody tr th:only-of-type {\n",
       "        vertical-align: middle;\n",
       "    }\n",
       "\n",
       "    .dataframe tbody tr th {\n",
       "        vertical-align: top;\n",
       "    }\n",
       "\n",
       "    .dataframe thead th {\n",
       "        text-align: right;\n",
       "    }\n",
       "</style>\n",
       "<table border=\"1\" class=\"dataframe\">\n",
       "  <thead>\n",
       "    <tr style=\"text-align: right;\">\n",
       "      <th></th>\n",
       "      <th>event_name</th>\n",
       "      <th>user_id</th>\n",
       "      <th>timestamp</th>\n",
       "      <th>expid</th>\n",
       "    </tr>\n",
       "  </thead>\n",
       "  <tbody>\n",
       "    <tr>\n",
       "      <td>0</td>\n",
       "      <td>MainScreenAppear</td>\n",
       "      <td>4575588528974610257</td>\n",
       "      <td>1564029816</td>\n",
       "      <td>246</td>\n",
       "    </tr>\n",
       "    <tr>\n",
       "      <td>1</td>\n",
       "      <td>MainScreenAppear</td>\n",
       "      <td>7416695313311560658</td>\n",
       "      <td>1564053102</td>\n",
       "      <td>246</td>\n",
       "    </tr>\n",
       "    <tr>\n",
       "      <td>2</td>\n",
       "      <td>PaymentScreenSuccessful</td>\n",
       "      <td>3518123091307005509</td>\n",
       "      <td>1564054127</td>\n",
       "      <td>248</td>\n",
       "    </tr>\n",
       "    <tr>\n",
       "      <td>3</td>\n",
       "      <td>CartScreenAppear</td>\n",
       "      <td>3518123091307005509</td>\n",
       "      <td>1564054127</td>\n",
       "      <td>248</td>\n",
       "    </tr>\n",
       "    <tr>\n",
       "      <td>4</td>\n",
       "      <td>PaymentScreenSuccessful</td>\n",
       "      <td>6217807653094995999</td>\n",
       "      <td>1564055322</td>\n",
       "      <td>248</td>\n",
       "    </tr>\n",
       "  </tbody>\n",
       "</table>\n",
       "</div>"
      ],
      "text/plain": [
       "                event_name              user_id   timestamp  expid\n",
       "0         MainScreenAppear  4575588528974610257  1564029816    246\n",
       "1         MainScreenAppear  7416695313311560658  1564053102    246\n",
       "2  PaymentScreenSuccessful  3518123091307005509  1564054127    248\n",
       "3         CartScreenAppear  3518123091307005509  1564054127    248\n",
       "4  PaymentScreenSuccessful  6217807653094995999  1564055322    248"
      ]
     },
     "execution_count": 32,
     "metadata": {},
     "output_type": "execute_result"
    }
   ],
   "source": [
    "users_df.columns = ['event_name','user_id','timestamp','expid']\n",
    "users_df.head()"
   ]
  },
  {
   "cell_type": "markdown",
   "metadata": {},
   "source": [
    "<div class=\"alert alert-warning\">\n",
    "<s><b>Reviewer's comment: </b> Please, pay attention to data frame formatting in your project. Don't forget to use head(), tail(), or sample() when outputting large tables. If you leave everything \"as is\", when you save the project to github, all the tables will expand to their full length and take up most of the project. Plus, the jupyter notebook wastes extra resources when loading such tables. \n",
    "</div>"
   ]
  },
  {
   "cell_type": "markdown",
   "metadata": {},
   "source": [
    "<div class=\"alert alert-info\"> <b>Student's comment:</b> Thanks for the heads up, added head().</div>"
   ]
  },
  {
   "cell_type": "markdown",
   "metadata": {},
   "source": [
    "Changed column names.\n",
    "\n",
    "------------\n",
    "### Check types"
   ]
  },
  {
   "cell_type": "code",
   "execution_count": 33,
   "metadata": {},
   "outputs": [
    {
     "name": "stdout",
     "output_type": "stream",
     "text": [
      "<class 'pandas.core.frame.DataFrame'>\n",
      "RangeIndex: 244126 entries, 0 to 244125\n",
      "Data columns (total 4 columns):\n",
      "event_name    244126 non-null object\n",
      "user_id       244126 non-null int64\n",
      "timestamp     244126 non-null int64\n",
      "expid         244126 non-null int64\n",
      "dtypes: int64(3), object(1)\n",
      "memory usage: 7.5+ MB\n"
     ]
    }
   ],
   "source": [
    "users_df.info()"
   ]
  },
  {
   "cell_type": "markdown",
   "metadata": {},
   "source": [
    "* **EventName**: type of event.\n",
    "* **DeviceDHash**: gives a number for the device to be able to track\n",
    "* **EventTimestamp**: number that represents date in seconds, **should be converted to proper date time**\n",
    "* **Expid**: experiment number: 246 and 247 are the control groups, 248 is the test group\n",
    "\n",
    "----------\n",
    "**Next** lets fix types."
   ]
  },
  {
   "cell_type": "code",
   "execution_count": 34,
   "metadata": {},
   "outputs": [
    {
     "data": {
      "text/html": [
       "<div>\n",
       "<style scoped>\n",
       "    .dataframe tbody tr th:only-of-type {\n",
       "        vertical-align: middle;\n",
       "    }\n",
       "\n",
       "    .dataframe tbody tr th {\n",
       "        vertical-align: top;\n",
       "    }\n",
       "\n",
       "    .dataframe thead th {\n",
       "        text-align: right;\n",
       "    }\n",
       "</style>\n",
       "<table border=\"1\" class=\"dataframe\">\n",
       "  <thead>\n",
       "    <tr style=\"text-align: right;\">\n",
       "      <th></th>\n",
       "      <th>event_name</th>\n",
       "      <th>user_id</th>\n",
       "      <th>timestamp</th>\n",
       "      <th>expid</th>\n",
       "    </tr>\n",
       "  </thead>\n",
       "  <tbody>\n",
       "    <tr>\n",
       "      <td>0</td>\n",
       "      <td>MainScreenAppear</td>\n",
       "      <td>4575588528974610257</td>\n",
       "      <td>2019-07-25 04:43:36</td>\n",
       "      <td>246</td>\n",
       "    </tr>\n",
       "    <tr>\n",
       "      <td>1</td>\n",
       "      <td>MainScreenAppear</td>\n",
       "      <td>7416695313311560658</td>\n",
       "      <td>2019-07-25 11:11:42</td>\n",
       "      <td>246</td>\n",
       "    </tr>\n",
       "    <tr>\n",
       "      <td>2</td>\n",
       "      <td>PaymentScreenSuccessful</td>\n",
       "      <td>3518123091307005509</td>\n",
       "      <td>2019-07-25 11:28:47</td>\n",
       "      <td>248</td>\n",
       "    </tr>\n",
       "    <tr>\n",
       "      <td>3</td>\n",
       "      <td>CartScreenAppear</td>\n",
       "      <td>3518123091307005509</td>\n",
       "      <td>2019-07-25 11:28:47</td>\n",
       "      <td>248</td>\n",
       "    </tr>\n",
       "    <tr>\n",
       "      <td>4</td>\n",
       "      <td>PaymentScreenSuccessful</td>\n",
       "      <td>6217807653094995999</td>\n",
       "      <td>2019-07-25 11:48:42</td>\n",
       "      <td>248</td>\n",
       "    </tr>\n",
       "  </tbody>\n",
       "</table>\n",
       "</div>"
      ],
      "text/plain": [
       "                event_name              user_id           timestamp  expid\n",
       "0         MainScreenAppear  4575588528974610257 2019-07-25 04:43:36    246\n",
       "1         MainScreenAppear  7416695313311560658 2019-07-25 11:11:42    246\n",
       "2  PaymentScreenSuccessful  3518123091307005509 2019-07-25 11:28:47    248\n",
       "3         CartScreenAppear  3518123091307005509 2019-07-25 11:28:47    248\n",
       "4  PaymentScreenSuccessful  6217807653094995999 2019-07-25 11:48:42    248"
      ]
     },
     "execution_count": 34,
     "metadata": {},
     "output_type": "execute_result"
    }
   ],
   "source": [
    "users_df['timestamp'] = users_df['timestamp'].apply(lambda x: datetime.fromtimestamp(x))\n",
    "users_df.head()"
   ]
  },
  {
   "cell_type": "markdown",
   "metadata": {},
   "source": [
    "### Check missing values"
   ]
  },
  {
   "cell_type": "code",
   "execution_count": 9,
   "metadata": {},
   "outputs": [
    {
     "data": {
      "text/plain": [
       "event_name    0\n",
       "user_id       0\n",
       "timestamp     0\n",
       "expid         0\n",
       "dtype: int64"
      ]
     },
     "execution_count": 9,
     "metadata": {},
     "output_type": "execute_result"
    }
   ],
   "source": [
    "users_df.isna().sum()"
   ]
  },
  {
   "cell_type": "markdown",
   "metadata": {},
   "source": [
    "We have no missing values.\n",
    "\n",
    "-------------\n",
    "### Look for duplicates"
   ]
  },
  {
   "cell_type": "code",
   "execution_count": 10,
   "metadata": {},
   "outputs": [
    {
     "data": {
      "text/plain": [
       "413"
      ]
     },
     "execution_count": 10,
     "metadata": {},
     "output_type": "execute_result"
    }
   ],
   "source": [
    "users_df.duplicated().sum()"
   ]
  },
  {
   "cell_type": "code",
   "execution_count": 35,
   "metadata": {},
   "outputs": [
    {
     "data": {
      "text/plain": [
       "0.16917493425526162"
      ]
     },
     "execution_count": 35,
     "metadata": {},
     "output_type": "execute_result"
    }
   ],
   "source": [
    "users_df.duplicated().sum() / len(users_df) * 100"
   ]
  },
  {
   "cell_type": "markdown",
   "metadata": {},
   "source": [
    "<div class=\"alert alert-danger\">\n",
    "<s><b>Reviewer's comment:</b> Hardcoded constant. Please, use variables.\n",
    "</div>"
   ]
  },
  {
   "cell_type": "markdown",
   "metadata": {},
   "source": [
    "<div class=\"alert alert-info\"> <b>Student's comment:</b> Fixed hard code issues.</div>"
   ]
  },
  {
   "cell_type": "markdown",
   "metadata": {},
   "source": [
    "We have 413 duplicated values, since we have 244126 rows and just 413 it affects 0.16% which is very low but let's keep exploring duplicates so we make sure the proportions of experiment group stay the same."
   ]
  },
  {
   "cell_type": "code",
   "execution_count": 36,
   "metadata": {},
   "outputs": [],
   "source": [
    "users_duplicated = users_df[users_df.duplicated()]"
   ]
  },
  {
   "cell_type": "code",
   "execution_count": 37,
   "metadata": {},
   "outputs": [
    {
     "data": {
      "text/plain": [
       "247    1.265823\n",
       "248    0.000000\n",
       "246   -1.265823\n",
       "Name: expid, dtype: float64"
      ]
     },
     "execution_count": 37,
     "metadata": {},
     "output_type": "execute_result"
    }
   ],
   "source": [
    "expid_by_user_id = users_duplicated.drop_duplicates(subset=['user_id']).expid.value_counts() \n",
    "expid_by_user_id = expid_by_user_id / users_duplicated.user_id.nunique() * 100 \n",
    "expid_by_user_id - expid_by_user_id.loc[248]"
   ]
  },
  {
   "cell_type": "markdown",
   "metadata": {},
   "source": [
    "The proprtions difference are very small, close to 1 precent in the duplicates and since we are dealing in just 0.16% of our entire data, removing will not affects our experiments results."
   ]
  },
  {
   "cell_type": "code",
   "execution_count": 38,
   "metadata": {},
   "outputs": [
    {
     "name": "stdout",
     "output_type": "stream",
     "text": [
      "0\n",
      "<class 'pandas.core.frame.DataFrame'>\n",
      "Int64Index: 243713 entries, 0 to 244125\n",
      "Data columns (total 4 columns):\n",
      "event_name    243713 non-null object\n",
      "user_id       243713 non-null int64\n",
      "timestamp     243713 non-null datetime64[ns]\n",
      "expid         243713 non-null int64\n",
      "dtypes: datetime64[ns](1), int64(2), object(1)\n",
      "memory usage: 9.3+ MB\n"
     ]
    }
   ],
   "source": [
    "users_df = users_df.drop_duplicates()\n",
    "print(users_df.duplicated().sum())\n",
    "users_df.info()"
   ]
  },
  {
   "cell_type": "markdown",
   "metadata": {},
   "source": [
    "### Check for anomalies"
   ]
  },
  {
   "cell_type": "code",
   "execution_count": 39,
   "metadata": {},
   "outputs": [
    {
     "data": {
      "text/html": [
       "<div>\n",
       "<style scoped>\n",
       "    .dataframe tbody tr th:only-of-type {\n",
       "        vertical-align: middle;\n",
       "    }\n",
       "\n",
       "    .dataframe tbody tr th {\n",
       "        vertical-align: top;\n",
       "    }\n",
       "\n",
       "    .dataframe thead th {\n",
       "        text-align: right;\n",
       "    }\n",
       "</style>\n",
       "<table border=\"1\" class=\"dataframe\">\n",
       "  <thead>\n",
       "    <tr style=\"text-align: right;\">\n",
       "      <th></th>\n",
       "      <th>event_name</th>\n",
       "      <th>user_id</th>\n",
       "      <th>timestamp</th>\n",
       "      <th>expid</th>\n",
       "    </tr>\n",
       "  </thead>\n",
       "  <tbody>\n",
       "    <tr>\n",
       "      <td>count</td>\n",
       "      <td>243713</td>\n",
       "      <td>2.437130e+05</td>\n",
       "      <td>243713</td>\n",
       "      <td>243713.000000</td>\n",
       "    </tr>\n",
       "    <tr>\n",
       "      <td>unique</td>\n",
       "      <td>5</td>\n",
       "      <td>NaN</td>\n",
       "      <td>176654</td>\n",
       "      <td>NaN</td>\n",
       "    </tr>\n",
       "    <tr>\n",
       "      <td>top</td>\n",
       "      <td>MainScreenAppear</td>\n",
       "      <td>NaN</td>\n",
       "      <td>2019-08-01 14:40:35</td>\n",
       "      <td>NaN</td>\n",
       "    </tr>\n",
       "    <tr>\n",
       "      <td>freq</td>\n",
       "      <td>119101</td>\n",
       "      <td>NaN</td>\n",
       "      <td>9</td>\n",
       "      <td>NaN</td>\n",
       "    </tr>\n",
       "    <tr>\n",
       "      <td>first</td>\n",
       "      <td>NaN</td>\n",
       "      <td>NaN</td>\n",
       "      <td>2019-07-25 04:43:36</td>\n",
       "      <td>NaN</td>\n",
       "    </tr>\n",
       "    <tr>\n",
       "      <td>last</td>\n",
       "      <td>NaN</td>\n",
       "      <td>NaN</td>\n",
       "      <td>2019-08-07 21:15:17</td>\n",
       "      <td>NaN</td>\n",
       "    </tr>\n",
       "    <tr>\n",
       "      <td>mean</td>\n",
       "      <td>NaN</td>\n",
       "      <td>4.627963e+18</td>\n",
       "      <td>NaN</td>\n",
       "      <td>247.022161</td>\n",
       "    </tr>\n",
       "    <tr>\n",
       "      <td>std</td>\n",
       "      <td>NaN</td>\n",
       "      <td>2.642723e+18</td>\n",
       "      <td>NaN</td>\n",
       "      <td>0.824420</td>\n",
       "    </tr>\n",
       "    <tr>\n",
       "      <td>min</td>\n",
       "      <td>NaN</td>\n",
       "      <td>6.888747e+15</td>\n",
       "      <td>NaN</td>\n",
       "      <td>246.000000</td>\n",
       "    </tr>\n",
       "    <tr>\n",
       "      <td>25%</td>\n",
       "      <td>NaN</td>\n",
       "      <td>2.372212e+18</td>\n",
       "      <td>NaN</td>\n",
       "      <td>246.000000</td>\n",
       "    </tr>\n",
       "    <tr>\n",
       "      <td>50%</td>\n",
       "      <td>NaN</td>\n",
       "      <td>4.623192e+18</td>\n",
       "      <td>NaN</td>\n",
       "      <td>247.000000</td>\n",
       "    </tr>\n",
       "    <tr>\n",
       "      <td>75%</td>\n",
       "      <td>NaN</td>\n",
       "      <td>6.932517e+18</td>\n",
       "      <td>NaN</td>\n",
       "      <td>248.000000</td>\n",
       "    </tr>\n",
       "    <tr>\n",
       "      <td>max</td>\n",
       "      <td>NaN</td>\n",
       "      <td>9.222603e+18</td>\n",
       "      <td>NaN</td>\n",
       "      <td>248.000000</td>\n",
       "    </tr>\n",
       "  </tbody>\n",
       "</table>\n",
       "</div>"
      ],
      "text/plain": [
       "              event_name       user_id            timestamp          expid\n",
       "count             243713  2.437130e+05               243713  243713.000000\n",
       "unique                 5           NaN               176654            NaN\n",
       "top     MainScreenAppear           NaN  2019-08-01 14:40:35            NaN\n",
       "freq              119101           NaN                    9            NaN\n",
       "first                NaN           NaN  2019-07-25 04:43:36            NaN\n",
       "last                 NaN           NaN  2019-08-07 21:15:17            NaN\n",
       "mean                 NaN  4.627963e+18                  NaN     247.022161\n",
       "std                  NaN  2.642723e+18                  NaN       0.824420\n",
       "min                  NaN  6.888747e+15                  NaN     246.000000\n",
       "25%                  NaN  2.372212e+18                  NaN     246.000000\n",
       "50%                  NaN  4.623192e+18                  NaN     247.000000\n",
       "75%                  NaN  6.932517e+18                  NaN     248.000000\n",
       "max                  NaN  9.222603e+18                  NaN     248.000000"
      ]
     },
     "execution_count": 39,
     "metadata": {},
     "output_type": "execute_result"
    }
   ],
   "source": [
    "users_df.describe(include='all')"
   ]
  },
  {
   "cell_type": "markdown",
   "metadata": {},
   "source": [
    "We have no abnormal dates or wrong values in expid.<br>\n",
    "We do observe that the earliest date is 2019-07-25.<br>\n",
    "The latest date is 2019-08-07.\n",
    "\n",
    "-----\n",
    "**Next** lets check values in event_name to see if we have abnormal values there."
   ]
  },
  {
   "cell_type": "code",
   "execution_count": 40,
   "metadata": {},
   "outputs": [
    {
     "data": {
      "text/plain": [
       "MainScreenAppear           119101\n",
       "OffersScreenAppear          46808\n",
       "CartScreenAppear            42668\n",
       "PaymentScreenSuccessful     34118\n",
       "Tutorial                     1018\n",
       "Name: event_name, dtype: int64"
      ]
     },
     "execution_count": 40,
     "metadata": {},
     "output_type": "execute_result"
    }
   ],
   "source": [
    "users_df.event_name.value_counts()"
   ]
  },
  {
   "cell_type": "markdown",
   "metadata": {},
   "source": [
    "We have 5 values, all with the same camel case pattern and all with reasnobale values.\n",
    "\n",
    "**Summary:**\n",
    "* We renamed columns.\n",
    "* Checked missing values, there were none.\n",
    "* Looked for duplicates and found 413, made sure removing them will affect our data minamily, removed duplicates.\n",
    "* Checked for anomalies, values were fine.\n",
    "\n"
   ]
  },
  {
   "cell_type": "markdown",
   "metadata": {},
   "source": [
    "<div class=\"alert alert-success\">\n",
    "<b>Reviewer's comment:</b> Well done, now we are fully prepaired for the further steps.\n",
    "</div>"
   ]
  },
  {
   "cell_type": "markdown",
   "metadata": {},
   "source": [
    "\n",
    "<div class=\"alert alert-danger\">\n",
    "<s><b>Reviewer's comment:</b> Please, add summary for this part.\n",
    "</div>\n",
    "\n",
    "<div class=\"alert alert-info\"> <b>Student's comment:</b> Added Summary.</div>\n"
   ]
  },
  {
   "cell_type": "markdown",
   "metadata": {},
   "source": [
    "<a class='anchor' id='Data_analysis'></a>\n",
    "[Go back to the Table of Contents](#table_of_contents)\n",
    "## [Data analysis:](#Data_analysis)\n",
    "\n",
    "\n",
    "### How many events are in the logs?"
   ]
  },
  {
   "cell_type": "code",
   "execution_count": 41,
   "metadata": {},
   "outputs": [
    {
     "name": "stdout",
     "output_type": "stream",
     "text": [
      "MainScreenAppear           119101\n",
      "OffersScreenAppear          46808\n",
      "CartScreenAppear            42668\n",
      "PaymentScreenSuccessful     34118\n",
      "Tutorial                     1018\n",
      "Name: event_name, dtype: int64\n"
     ]
    },
    {
     "data": {
      "text/plain": [
       "243713"
      ]
     },
     "execution_count": 41,
     "metadata": {},
     "output_type": "execute_result"
    }
   ],
   "source": [
    "print(users_df.event_name.value_counts())\n",
    "sum(users_df.event_name.value_counts())"
   ]
  },
  {
   "cell_type": "markdown",
   "metadata": {},
   "source": [
    "We see the MainScreenAppear is the most frequent event, makes sense since this a user entry point.\n",
    "\n",
    "Not including the **Tutorial** From there we see a decline in event numbers, make sense since this is what we would expect from a funnel.\n",
    "\n",
    "-------\n",
    "### How many users are in the logs?"
   ]
  },
  {
   "cell_type": "code",
   "execution_count": 42,
   "metadata": {},
   "outputs": [
    {
     "data": {
      "text/plain": [
       "7551"
      ]
     },
     "execution_count": 42,
     "metadata": {},
     "output_type": "execute_result"
    }
   ],
   "source": [
    "num_uniqe_users = users_df.user_id.nunique()\n",
    "num_uniqe_users"
   ]
  },
  {
   "cell_type": "markdown",
   "metadata": {},
   "source": [
    "Compared to the number of actions <br>\n",
    "7551 / 243713 * 100 = 3%, makes sense since each user can do a lot of different actions while browsing a website.\n",
    "\n",
    "-----\n",
    "### What's the average number of events per user?<br>\n",
    "The average is the number of actions / number of unique users"
   ]
  },
  {
   "cell_type": "code",
   "execution_count": 51,
   "metadata": {},
   "outputs": [
    {
     "data": {
      "text/plain": [
       "32.27559263673685"
      ]
     },
     "execution_count": 51,
     "metadata": {},
     "output_type": "execute_result"
    }
   ],
   "source": [
    "events_per_user = len(users_df) / num_uniqe_users\n",
    "events_per_user"
   ]
  },
  {
   "cell_type": "markdown",
   "metadata": {},
   "source": [
    "32 actions seems about right but we must be carfule about outliers.\n",
    "Lets look at quantile."
   ]
  },
  {
   "cell_type": "code",
   "execution_count": 44,
   "metadata": {},
   "outputs": [
    {
     "data": {
      "text/html": [
       "<div>\n",
       "<style scoped>\n",
       "    .dataframe tbody tr th:only-of-type {\n",
       "        vertical-align: middle;\n",
       "    }\n",
       "\n",
       "    .dataframe tbody tr th {\n",
       "        vertical-align: top;\n",
       "    }\n",
       "\n",
       "    .dataframe thead th {\n",
       "        text-align: right;\n",
       "    }\n",
       "</style>\n",
       "<table border=\"1\" class=\"dataframe\">\n",
       "  <thead>\n",
       "    <tr style=\"text-align: right;\">\n",
       "      <th></th>\n",
       "      <th>user_id</th>\n",
       "      <th>event_name</th>\n",
       "    </tr>\n",
       "  </thead>\n",
       "  <tbody>\n",
       "    <tr>\n",
       "      <td>0</td>\n",
       "      <td>6888746892508752</td>\n",
       "      <td>1</td>\n",
       "    </tr>\n",
       "    <tr>\n",
       "      <td>1</td>\n",
       "      <td>6909561520679493</td>\n",
       "      <td>5</td>\n",
       "    </tr>\n",
       "    <tr>\n",
       "      <td>2</td>\n",
       "      <td>6922444491712477</td>\n",
       "      <td>47</td>\n",
       "    </tr>\n",
       "    <tr>\n",
       "      <td>3</td>\n",
       "      <td>7435777799948366</td>\n",
       "      <td>6</td>\n",
       "    </tr>\n",
       "    <tr>\n",
       "      <td>4</td>\n",
       "      <td>7702139951469979</td>\n",
       "      <td>137</td>\n",
       "    </tr>\n",
       "    <tr>\n",
       "      <td>...</td>\n",
       "      <td>...</td>\n",
       "      <td>...</td>\n",
       "    </tr>\n",
       "    <tr>\n",
       "      <td>7546</td>\n",
       "      <td>9217594193087726423</td>\n",
       "      <td>9</td>\n",
       "    </tr>\n",
       "    <tr>\n",
       "      <td>7547</td>\n",
       "      <td>9219463515465815368</td>\n",
       "      <td>17</td>\n",
       "    </tr>\n",
       "    <tr>\n",
       "      <td>7548</td>\n",
       "      <td>9220879493065341500</td>\n",
       "      <td>7</td>\n",
       "    </tr>\n",
       "    <tr>\n",
       "      <td>7549</td>\n",
       "      <td>9221926045299980007</td>\n",
       "      <td>7</td>\n",
       "    </tr>\n",
       "    <tr>\n",
       "      <td>7550</td>\n",
       "      <td>9222603179720523844</td>\n",
       "      <td>59</td>\n",
       "    </tr>\n",
       "  </tbody>\n",
       "</table>\n",
       "<p>7551 rows × 2 columns</p>\n",
       "</div>"
      ],
      "text/plain": [
       "                  user_id  event_name\n",
       "0        6888746892508752           1\n",
       "1        6909561520679493           5\n",
       "2        6922444491712477          47\n",
       "3        7435777799948366           6\n",
       "4        7702139951469979         137\n",
       "...                   ...         ...\n",
       "7546  9217594193087726423           9\n",
       "7547  9219463515465815368          17\n",
       "7548  9220879493065341500           7\n",
       "7549  9221926045299980007           7\n",
       "7550  9222603179720523844          59\n",
       "\n",
       "[7551 rows x 2 columns]"
      ]
     },
     "metadata": {},
     "output_type": "display_data"
    },
    {
     "data": {
      "text/plain": [
       "1.0"
      ]
     },
     "metadata": {},
     "output_type": "display_data"
    },
    {
     "data": {
      "text/plain": [
       "200.5"
      ]
     },
     "execution_count": 44,
     "metadata": {},
     "output_type": "execute_result"
    }
   ],
   "source": [
    "users_events = users_df.groupby('user_id').event_name.count()\n",
    "users_events = users_events.reset_index()\n",
    "display(users_events, users_events.event_name.quantile(0.01))\n",
    "users_events.event_name.quantile(0.99)"
   ]
  },
  {
   "cell_type": "code",
   "execution_count": 45,
   "metadata": {},
   "outputs": [
    {
     "data": {
      "application/vnd.plotly.v1+json": {
       "config": {
        "plotlyServerURL": "https://plot.ly"
       },
       "data": [
        {
         "alignmentgroup": "True",
         "box": {
          "visible": true
         },
         "hovertemplate": "event_name=%{x}<extra></extra>",
         "legendgroup": "",
         "marker": {
          "color": "#636efa"
         },
         "name": "",
         "offsetgroup": "",
         "orientation": "h",
         "points": "all",
         "scalegroup": "True",
         "showlegend": false,
         "type": "violin",
         "x": [
          1,
          5,
          47,
          6,
          137,
          10,
          9,
          29,
          10,
          126,
          79,
          1,
          13,
          12,
          25,
          5,
          9,
          29,
          8,
          24,
          46,
          3,
          3,
          54,
          26,
          44,
          17,
          25,
          42,
          14,
          31,
          26,
          33,
          24,
          23,
          35,
          30,
          18,
          61,
          7,
          5,
          34,
          20,
          5,
          25,
          13,
          21,
          47,
          6,
          71,
          12,
          12,
          69,
          6,
          4,
          4,
          73,
          14,
          98,
          14,
          24,
          24,
          23,
          18,
          52,
          5,
          3,
          33,
          39,
          139,
          30,
          49,
          9,
          27,
          58,
          16,
          32,
          2,
          19,
          19,
          26,
          15,
          6,
          23,
          25,
          30,
          4,
          8,
          39,
          12,
          15,
          20,
          44,
          3,
          5,
          7,
          22,
          19,
          14,
          4,
          7,
          33,
          23,
          105,
          35,
          16,
          30,
          10,
          27,
          59,
          33,
          35,
          19,
          51,
          12,
          12,
          20,
          9,
          34,
          28,
          4,
          6,
          5,
          24,
          17,
          42,
          59,
          15,
          23,
          4,
          90,
          1,
          18,
          58,
          60,
          31,
          2,
          41,
          31,
          3,
          54,
          4,
          39,
          36,
          34,
          3,
          24,
          1998,
          36,
          7,
          18,
          10,
          7,
          165,
          51,
          36,
          15,
          44,
          25,
          109,
          10,
          26,
          23,
          6,
          41,
          39,
          12,
          6,
          15,
          19,
          6,
          27,
          17,
          28,
          7,
          5,
          9,
          66,
          23,
          29,
          71,
          20,
          21,
          7,
          77,
          41,
          32,
          4,
          56,
          7,
          51,
          16,
          9,
          19,
          2,
          43,
          10,
          47,
          24,
          35,
          10,
          40,
          3,
          19,
          28,
          11,
          6,
          8,
          19,
          126,
          15,
          8,
          13,
          3,
          11,
          11,
          208,
          26,
          14,
          27,
          5,
          27,
          19,
          22,
          4,
          4,
          18,
          16,
          25,
          17,
          245,
          7,
          14,
          159,
          78,
          43,
          46,
          50,
          25,
          57,
          67,
          2,
          11,
          7,
          4,
          13,
          299,
          26,
          28,
          56,
          44,
          21,
          39,
          13,
          9,
          28,
          15,
          17,
          48,
          31,
          27,
          28,
          17,
          23,
          47,
          25,
          87,
          31,
          67,
          77,
          31,
          4,
          21,
          19,
          24,
          8,
          10,
          38,
          14,
          9,
          70,
          23,
          21,
          6,
          44,
          1,
          9,
          26,
          32,
          19,
          4,
          8,
          1,
          19,
          15,
          68,
          33,
          5,
          79,
          30,
          10,
          13,
          60,
          8,
          6,
          27,
          95,
          45,
          56,
          66,
          3,
          1,
          53,
          5,
          5,
          15,
          83,
          8,
          21,
          5,
          20,
          60,
          57,
          11,
          15,
          57,
          67,
          96,
          15,
          1,
          24,
          128,
          21,
          9,
          14,
          11,
          46,
          3,
          2,
          11,
          10,
          24,
          18,
          4,
          10,
          5,
          53,
          45,
          6,
          18,
          3,
          19,
          11,
          10,
          45,
          8,
          8,
          33,
          41,
          15,
          18,
          49,
          52,
          63,
          83,
          9,
          14,
          78,
          67,
          83,
          4,
          20,
          7,
          18,
          27,
          27,
          14,
          24,
          67,
          18,
          136,
          14,
          4,
          13,
          72,
          7,
          58,
          22,
          29,
          17,
          5,
          55,
          33,
          233,
          3,
          32,
          22,
          31,
          4,
          48,
          13,
          51,
          39,
          10,
          17,
          40,
          4,
          33,
          78,
          8,
          63,
          21,
          34,
          20,
          5,
          40,
          3,
          4,
          13,
          15,
          23,
          20,
          11,
          15,
          13,
          33,
          11,
          92,
          47,
          29,
          2,
          17,
          18,
          40,
          9,
          53,
          80,
          4,
          54,
          6,
          14,
          57,
          6,
          26,
          18,
          30,
          25,
          3,
          9,
          159,
          10,
          43,
          13,
          10,
          16,
          25,
          26,
          9,
          8,
          23,
          22,
          42,
          10,
          7,
          19,
          14,
          51,
          238,
          313,
          51,
          6,
          12,
          122,
          4,
          27,
          30,
          31,
          121,
          22,
          31,
          1,
          43,
          123,
          1,
          17,
          41,
          12,
          14,
          20,
          31,
          60,
          41,
          24,
          17,
          44,
          54,
          22,
          11,
          8,
          8,
          67,
          9,
          13,
          29,
          39,
          22,
          31,
          11,
          32,
          89,
          9,
          5,
          14,
          6,
          16,
          25,
          85,
          65,
          496,
          100,
          29,
          6,
          4,
          17,
          89,
          8,
          19,
          47,
          3,
          8,
          23,
          4,
          36,
          5,
          5,
          19,
          5,
          8,
          30,
          43,
          4,
          34,
          18,
          62,
          18,
          14,
          43,
          74,
          21,
          42,
          51,
          9,
          25,
          32,
          26,
          1,
          44,
          58,
          44,
          87,
          26,
          65,
          17,
          4,
          51,
          4,
          22,
          44,
          12,
          7,
          5,
          17,
          30,
          25,
          60,
          18,
          26,
          20,
          39,
          18,
          26,
          61,
          53,
          70,
          23,
          7,
          2,
          19,
          30,
          10,
          17,
          21,
          1,
          21,
          7,
          2,
          16,
          5,
          26,
          5,
          11,
          29,
          36,
          25,
          142,
          28,
          31,
          4,
          106,
          33,
          30,
          60,
          103,
          18,
          59,
          7,
          39,
          11,
          9,
          18,
          8,
          36,
          17,
          37,
          41,
          12,
          5,
          60,
          47,
          45,
          11,
          12,
          12,
          5,
          84,
          21,
          16,
          25,
          29,
          38,
          6,
          14,
          10,
          26,
          14,
          23,
          37,
          57,
          16,
          6,
          6,
          27,
          23,
          11,
          52,
          4,
          243,
          14,
          6,
          10,
          17,
          23,
          38,
          73,
          47,
          34,
          3,
          12,
          76,
          52,
          10,
          5,
          11,
          16,
          58,
          8,
          9,
          39,
          16,
          60,
          3,
          25,
          4,
          44,
          51,
          13,
          44,
          13,
          18,
          29,
          26,
          42,
          17,
          35,
          6,
          8,
          53,
          38,
          50,
          98,
          9,
          68,
          13,
          15,
          3,
          22,
          45,
          19,
          5,
          9,
          4,
          44,
          1,
          25,
          20,
          13,
          21,
          2,
          41,
          13,
          37,
          22,
          30,
          17,
          51,
          5,
          7,
          50,
          71,
          20,
          156,
          101,
          15,
          5,
          110,
          28,
          33,
          14,
          25,
          7,
          20,
          69,
          14,
          25,
          127,
          6,
          1,
          6,
          25,
          19,
          83,
          11,
          8,
          12,
          10,
          15,
          12,
          46,
          7,
          12,
          13,
          27,
          40,
          43,
          18,
          8,
          5,
          9,
          79,
          8,
          21,
          1,
          18,
          59,
          7,
          3,
          16,
          6,
          17,
          57,
          10,
          7,
          5,
          3,
          13,
          10,
          3,
          24,
          37,
          31,
          5,
          45,
          47,
          8,
          15,
          11,
          130,
          5,
          17,
          7,
          15,
          16,
          18,
          7,
          179,
          26,
          34,
          2,
          9,
          20,
          6,
          7,
          7,
          118,
          11,
          33,
          17,
          100,
          98,
          8,
          34,
          21,
          854,
          62,
          43,
          57,
          24,
          46,
          2,
          28,
          26,
          37,
          26,
          8,
          1,
          4,
          8,
          103,
          33,
          38,
          46,
          28,
          5,
          84,
          12,
          25,
          29,
          10,
          9,
          18,
          1,
          6,
          24,
          59,
          11,
          7,
          12,
          21,
          29,
          6,
          661,
          41,
          13,
          48,
          16,
          33,
          11,
          37,
          3,
          12,
          3,
          28,
          31,
          22,
          25,
          23,
          17,
          4,
          12,
          16,
          13,
          9,
          27,
          18,
          19,
          20,
          27,
          13,
          4,
          6,
          37,
          59,
          3,
          25,
          39,
          5,
          94,
          16,
          22,
          4,
          1,
          5,
          87,
          11,
          7,
          8,
          5,
          6,
          31,
          5,
          53,
          23,
          14,
          43,
          92,
          7,
          23,
          15,
          4,
          49,
          38,
          2,
          59,
          14,
          1,
          15,
          18,
          6,
          12,
          95,
          3,
          102,
          76,
          103,
          13,
          11,
          42,
          76,
          7,
          26,
          39,
          68,
          15,
          41,
          7,
          6,
          12,
          31,
          32,
          6,
          1,
          3,
          29,
          17,
          55,
          7,
          28,
          23,
          38,
          20,
          15,
          34,
          14,
          19,
          170,
          3,
          53,
          28,
          87,
          21,
          103,
          22,
          22,
          32,
          15,
          20,
          17,
          16,
          31,
          61,
          67,
          16,
          3,
          5,
          39,
          7,
          5,
          5,
          31,
          17,
          5,
          15,
          25,
          34,
          8,
          24,
          3,
          5,
          14,
          9,
          32,
          3,
          9,
          2,
          8,
          26,
          10,
          10,
          5,
          8,
          5,
          15,
          8,
          6,
          5,
          5,
          22,
          17,
          43,
          48,
          8,
          3,
          30,
          15,
          5,
          6,
          17,
          15,
          28,
          72,
          25,
          4,
          15,
          13,
          16,
          26,
          12,
          44,
          4,
          45,
          14,
          31,
          25,
          5,
          31,
          23,
          27,
          24,
          12,
          8,
          63,
          18,
          5,
          4,
          90,
          33,
          32,
          30,
          34,
          9,
          26,
          31,
          36,
          32,
          128,
          5,
          12,
          3,
          12,
          4,
          36,
          7,
          52,
          9,
          191,
          2,
          25,
          35,
          43,
          14,
          42,
          20,
          7,
          13,
          50,
          23,
          65,
          7,
          22,
          9,
          6,
          58,
          25,
          42,
          6,
          10,
          29,
          16,
          15,
          15,
          16,
          2,
          12,
          35,
          4,
          31,
          23,
          41,
          45,
          9,
          4,
          62,
          34,
          38,
          5,
          16,
          89,
          3,
          17,
          11,
          37,
          12,
          4,
          24,
          65,
          65,
          19,
          22,
          267,
          7,
          7,
          23,
          37,
          41,
          16,
          35,
          26,
          55,
          6,
          82,
          7,
          3,
          40,
          127,
          109,
          66,
          164,
          3,
          1,
          65,
          77,
          30,
          50,
          28,
          37,
          6,
          15,
          9,
          23,
          4,
          25,
          41,
          13,
          24,
          14,
          39,
          30,
          71,
          26,
          29,
          3,
          56,
          43,
          45,
          51,
          9,
          62,
          9,
          19,
          94,
          26,
          6,
          15,
          31,
          11,
          18,
          52,
          69,
          6,
          179,
          13,
          28,
          88,
          12,
          65,
          8,
          15,
          12,
          75,
          23,
          31,
          4,
          73,
          5,
          58,
          3,
          8,
          21,
          8,
          28,
          12,
          35,
          5,
          21,
          18,
          9,
          208,
          14,
          37,
          11,
          5,
          5,
          5,
          13,
          24,
          4,
          94,
          31,
          29,
          42,
          16,
          13,
          71,
          5,
          18,
          10,
          60,
          33,
          13,
          3,
          22,
          6,
          37,
          90,
          24,
          36,
          16,
          8,
          8,
          11,
          108,
          6,
          13,
          60,
          12,
          10,
          28,
          6,
          5,
          50,
          65,
          20,
          2,
          39,
          19,
          16,
          63,
          15,
          18,
          9,
          7,
          9,
          105,
          102,
          1,
          20,
          30,
          7,
          14,
          32,
          25,
          12,
          93,
          23,
          16,
          26,
          50,
          33,
          8,
          9,
          10,
          24,
          8,
          13,
          77,
          37,
          30,
          1,
          46,
          32,
          7,
          15,
          57,
          10,
          18,
          6,
          2,
          59,
          29,
          170,
          28,
          11,
          1,
          15,
          7,
          32,
          20,
          30,
          9,
          13,
          21,
          19,
          14,
          10,
          21,
          59,
          19,
          14,
          80,
          24,
          8,
          113,
          68,
          7,
          2,
          5,
          220,
          31,
          13,
          7,
          20,
          6,
          68,
          54,
          7,
          8,
          36,
          67,
          10,
          15,
          24,
          31,
          22,
          88,
          24,
          103,
          65,
          51,
          44,
          32,
          5,
          23,
          1,
          22,
          226,
          2,
          12,
          108,
          6,
          10,
          35,
          16,
          8,
          36,
          26,
          10,
          5,
          11,
          10,
          19,
          14,
          18,
          24,
          74,
          6,
          20,
          19,
          21,
          89,
          44,
          31,
          1221,
          18,
          3,
          8,
          50,
          111,
          1,
          1,
          74,
          22,
          12,
          20,
          75,
          27,
          16,
          22,
          1,
          15,
          10,
          43,
          4,
          24,
          11,
          10,
          11,
          9,
          15,
          10,
          29,
          21,
          62,
          38,
          17,
          33,
          34,
          6,
          26,
          22,
          47,
          24,
          2,
          4,
          32,
          17,
          13,
          27,
          33,
          5,
          33,
          5,
          10,
          41,
          19,
          84,
          18,
          7,
          36,
          23,
          2,
          66,
          24,
          1,
          19,
          17,
          39,
          4,
          69,
          21,
          14,
          71,
          18,
          14,
          46,
          12,
          17,
          78,
          16,
          31,
          2,
          4,
          7,
          5,
          66,
          6,
          20,
          11,
          29,
          37,
          59,
          63,
          40,
          6,
          116,
          28,
          40,
          321,
          61,
          6,
          17,
          6,
          53,
          57,
          29,
          34,
          19,
          75,
          5,
          4,
          13,
          55,
          14,
          27,
          36,
          26,
          2,
          14,
          13,
          14,
          64,
          3,
          21,
          29,
          49,
          2,
          30,
          38,
          11,
          25,
          16,
          24,
          29,
          8,
          31,
          17,
          13,
          5,
          27,
          4,
          1,
          6,
          29,
          42,
          60,
          20,
          28,
          25,
          3,
          41,
          38,
          8,
          24,
          35,
          17,
          17,
          56,
          45,
          28,
          63,
          67,
          26,
          21,
          42,
          41,
          15,
          9,
          10,
          23,
          45,
          2,
          29,
          15,
          50,
          11,
          14,
          39,
          6,
          11,
          2,
          152,
          22,
          24,
          42,
          7,
          40,
          106,
          36,
          42,
          52,
          20,
          16,
          729,
          3,
          47,
          15,
          142,
          20,
          35,
          4,
          5,
          23,
          11,
          37,
          8,
          71,
          26,
          95,
          28,
          48,
          73,
          20,
          18,
          16,
          10,
          33,
          9,
          5,
          5,
          14,
          15,
          1,
          8,
          2,
          33,
          8,
          1,
          5,
          42,
          52,
          4,
          16,
          10,
          25,
          15,
          6,
          47,
          5,
          7,
          5,
          19,
          42,
          88,
          51,
          12,
          16,
          2,
          8,
          15,
          21,
          3,
          5,
          26,
          9,
          7,
          34,
          21,
          15,
          18,
          9,
          36,
          23,
          9,
          27,
          1,
          14,
          6,
          15,
          42,
          12,
          11,
          17,
          84,
          12,
          60,
          7,
          17,
          4,
          20,
          64,
          15,
          93,
          23,
          62,
          6,
          8,
          13,
          20,
          13,
          7,
          8,
          16,
          4,
          50,
          16,
          38,
          27,
          6,
          8,
          7,
          6,
          13,
          10,
          33,
          12,
          6,
          16,
          18,
          20,
          4,
          29,
          29,
          23,
          1,
          52,
          16,
          63,
          34,
          3,
          19,
          15,
          20,
          133,
          101,
          40,
          12,
          23,
          9,
          51,
          38,
          19,
          18,
          58,
          2,
          5,
          12,
          6,
          27,
          2,
          28,
          39,
          5,
          8,
          25,
          68,
          21,
          8,
          7,
          18,
          27,
          13,
          7,
          29,
          124,
          17,
          28,
          26,
          14,
          19,
          21,
          3,
          45,
          18,
          124,
          42,
          11,
          73,
          6,
          11,
          19,
          2,
          10,
          5,
          90,
          27,
          29,
          3,
          27,
          8,
          33,
          64,
          2,
          11,
          7,
          7,
          44,
          31,
          20,
          38,
          18,
          45,
          45,
          24,
          15,
          32,
          7,
          10,
          2,
          2,
          9,
          28,
          1,
          27,
          5,
          16,
          5,
          15,
          33,
          4,
          26,
          1,
          75,
          21,
          81,
          9,
          23,
          7,
          54,
          26,
          23,
          28,
          58,
          19,
          12,
          15,
          116,
          175,
          39,
          53,
          658,
          27,
          11,
          31,
          5,
          37,
          13,
          2,
          6,
          35,
          34,
          7,
          17,
          8,
          4,
          41,
          4,
          156,
          62,
          27,
          19,
          13,
          44,
          36,
          10,
          2,
          16,
          55,
          3,
          29,
          19,
          39,
          7,
          23,
          33,
          50,
          6,
          83,
          100,
          26,
          11,
          33,
          43,
          28,
          27,
          89,
          9,
          19,
          192,
          34,
          53,
          6,
          78,
          15,
          47,
          14,
          53,
          32,
          134,
          7,
          14,
          37,
          24,
          50,
          7,
          62,
          9,
          15,
          3,
          65,
          28,
          36,
          10,
          55,
          33,
          51,
          16,
          1,
          6,
          38,
          25,
          22,
          2,
          5,
          119,
          19,
          10,
          33,
          36,
          18,
          24,
          20,
          5,
          11,
          22,
          11,
          61,
          42,
          11,
          30,
          14,
          28,
          13,
          2,
          195,
          18,
          17,
          18,
          94,
          81,
          2,
          10,
          10,
          33,
          19,
          20,
          203,
          9,
          26,
          279,
          18,
          28,
          1,
          45,
          21,
          10,
          5,
          38,
          2,
          19,
          25,
          67,
          42,
          8,
          7,
          2,
          23,
          25,
          6,
          9,
          33,
          4,
          18,
          7,
          9,
          59,
          4,
          12,
          81,
          10,
          29,
          41,
          30,
          61,
          10,
          17,
          58,
          54,
          40,
          12,
          11,
          9,
          32,
          29,
          10,
          5,
          17,
          3,
          10,
          7,
          5,
          26,
          6,
          5,
          32,
          3,
          13,
          12,
          18,
          38,
          15,
          17,
          57,
          46,
          42,
          14,
          19,
          26,
          49,
          62,
          49,
          8,
          3,
          16,
          2,
          3,
          18,
          48,
          39,
          16,
          5,
          4,
          5,
          172,
          72,
          50,
          10,
          2,
          7,
          5,
          30,
          17,
          86,
          25,
          26,
          42,
          18,
          48,
          12,
          12,
          53,
          17,
          45,
          7,
          7,
          11,
          13,
          4,
          24,
          19,
          24,
          29,
          30,
          12,
          18,
          28,
          38,
          10,
          9,
          33,
          21,
          5,
          54,
          167,
          27,
          31,
          29,
          18,
          52,
          18,
          5,
          66,
          5,
          29,
          3,
          3,
          2,
          21,
          4,
          31,
          7,
          1,
          23,
          70,
          26,
          14,
          3,
          83,
          69,
          14,
          3,
          25,
          4,
          19,
          14,
          34,
          42,
          102,
          35,
          12,
          65,
          68,
          57,
          20,
          7,
          34,
          42,
          3,
          10,
          17,
          47,
          60,
          19,
          3,
          38,
          35,
          12,
          20,
          35,
          2,
          19,
          47,
          7,
          6,
          43,
          12,
          50,
          15,
          5,
          15,
          28,
          26,
          36,
          43,
          9,
          14,
          6,
          6,
          21,
          31,
          43,
          40,
          2,
          7,
          58,
          39,
          7,
          26,
          4,
          18,
          43,
          121,
          47,
          36,
          84,
          10,
          8,
          20,
          5,
          20,
          32,
          7,
          20,
          3,
          28,
          21,
          7,
          6,
          15,
          7,
          20,
          20,
          25,
          20,
          22,
          81,
          6,
          14,
          4,
          38,
          8,
          79,
          21,
          5,
          4,
          1,
          27,
          9,
          23,
          8,
          30,
          80,
          30,
          529,
          4,
          12,
          28,
          172,
          15,
          17,
          27,
          8,
          24,
          29,
          30,
          9,
          17,
          19,
          4,
          9,
          9,
          32,
          30,
          16,
          14,
          34,
          54,
          55,
          12,
          3,
          32,
          16,
          26,
          22,
          21,
          5,
          12,
          34,
          8,
          15,
          234,
          12,
          2,
          12,
          76,
          57,
          73,
          8,
          78,
          14,
          62,
          30,
          52,
          44,
          6,
          31,
          106,
          14,
          79,
          38,
          19,
          45,
          39,
          41,
          15,
          6,
          42,
          14,
          45,
          3,
          8,
          16,
          5,
          11,
          11,
          54,
          6,
          8,
          153,
          4,
          12,
          20,
          3,
          29,
          72,
          37,
          28,
          7,
          22,
          85,
          5,
          11,
          13,
          45,
          81,
          35,
          36,
          7,
          14,
          4,
          56,
          36,
          17,
          3,
          4,
          12,
          44,
          4,
          15,
          10,
          8,
          23,
          6,
          489,
          8,
          18,
          6,
          6,
          35,
          30,
          8,
          14,
          11,
          26,
          72,
          22,
          51,
          8,
          8,
          53,
          34,
          29,
          10,
          7,
          30,
          31,
          19,
          7,
          4,
          12,
          5,
          3,
          28,
          29,
          7,
          34,
          19,
          28,
          46,
          10,
          29,
          29,
          19,
          6,
          20,
          2,
          56,
          15,
          87,
          3,
          2,
          31,
          102,
          99,
          5,
          12,
          24,
          34,
          1,
          70,
          17,
          6,
          7,
          8,
          3,
          61,
          19,
          15,
          21,
          4,
          43,
          45,
          43,
          32,
          8,
          16,
          43,
          40,
          24,
          16,
          16,
          22,
          54,
          39,
          5,
          173,
          28,
          54,
          93,
          67,
          3,
          11,
          24,
          11,
          18,
          53,
          80,
          29,
          12,
          15,
          17,
          11,
          21,
          211,
          82,
          4,
          14,
          28,
          23,
          62,
          20,
          89,
          25,
          17,
          21,
          17,
          5,
          103,
          23,
          9,
          15,
          91,
          46,
          46,
          6,
          16,
          50,
          28,
          11,
          136,
          15,
          110,
          48,
          32,
          38,
          58,
          229,
          8,
          42,
          8,
          8,
          9,
          15,
          53,
          76,
          71,
          7,
          3,
          4,
          9,
          149,
          5,
          28,
          7,
          7,
          27,
          34,
          9,
          71,
          29,
          42,
          57,
          9,
          14,
          16,
          74,
          40,
          17,
          11,
          12,
          18,
          18,
          5,
          20,
          67,
          18,
          14,
          5,
          47,
          48,
          25,
          11,
          30,
          12,
          3,
          23,
          9,
          2,
          52,
          55,
          7,
          4,
          23,
          47,
          6,
          22,
          22,
          57,
          29,
          30,
          68,
          56,
          30,
          11,
          16,
          7,
          36,
          7,
          24,
          33,
          19,
          13,
          13,
          11,
          35,
          9,
          7,
          43,
          110,
          20,
          24,
          11,
          44,
          133,
          35,
          64,
          11,
          13,
          29,
          17,
          26,
          75,
          3,
          4,
          7,
          413,
          13,
          8,
          36,
          5,
          24,
          14,
          15,
          9,
          32,
          28,
          24,
          81,
          8,
          3,
          26,
          24,
          34,
          13,
          12,
          32,
          6,
          32,
          16,
          9,
          17,
          7,
          18,
          55,
          12,
          7,
          24,
          13,
          65,
          14,
          6,
          4,
          17,
          30,
          33,
          56,
          23,
          37,
          7,
          9,
          11,
          11,
          43,
          9,
          4,
          18,
          29,
          18,
          10,
          6,
          15,
          32,
          36,
          57,
          33,
          23,
          7,
          5,
          119,
          43,
          38,
          7,
          14,
          4,
          18,
          101,
          6,
          24,
          125,
          55,
          19,
          43,
          95,
          28,
          10,
          7,
          16,
          42,
          5,
          29,
          8,
          38,
          19,
          3,
          38,
          54,
          17,
          3,
          8,
          65,
          5,
          109,
          42,
          5,
          24,
          46,
          56,
          16,
          2,
          4,
          23,
          10,
          1,
          1186,
          62,
          3,
          21,
          15,
          13,
          9,
          2,
          1,
          118,
          9,
          79,
          20,
          6,
          8,
          23,
          11,
          27,
          38,
          35,
          6,
          56,
          38,
          12,
          55,
          222,
          65,
          11,
          19,
          42,
          52,
          2,
          12,
          32,
          20,
          46,
          239,
          13,
          130,
          17,
          214,
          8,
          98,
          18,
          28,
          7,
          2,
          19,
          9,
          1,
          15,
          9,
          62,
          24,
          77,
          23,
          1,
          42,
          16,
          27,
          27,
          28,
          18,
          10,
          18,
          8,
          119,
          3,
          12,
          1,
          16,
          8,
          75,
          16,
          30,
          66,
          59,
          27,
          8,
          2,
          10,
          12,
          90,
          34,
          18,
          17,
          181,
          39,
          31,
          7,
          13,
          27,
          15,
          17,
          10,
          36,
          48,
          118,
          8,
          12,
          16,
          27,
          42,
          8,
          18,
          7,
          28,
          66,
          36,
          11,
          17,
          10,
          2,
          40,
          22,
          32,
          49,
          14,
          17,
          8,
          48,
          3,
          30,
          46,
          69,
          59,
          25,
          27,
          8,
          64,
          37,
          198,
          3,
          1,
          35,
          33,
          21,
          8,
          20,
          11,
          44,
          47,
          46,
          9,
          1,
          35,
          188,
          30,
          5,
          9,
          12,
          8,
          53,
          2,
          68,
          6,
          702,
          6,
          14,
          18,
          2,
          41,
          46,
          22,
          3,
          30,
          17,
          26,
          16,
          13,
          22,
          39,
          18,
          14,
          17,
          80,
          15,
          54,
          35,
          2,
          10,
          29,
          1,
          29,
          13,
          17,
          13,
          15,
          30,
          5,
          20,
          12,
          9,
          8,
          16,
          54,
          14,
          36,
          31,
          9,
          5,
          51,
          20,
          32,
          77,
          21,
          7,
          29,
          31,
          35,
          47,
          7,
          27,
          15,
          22,
          14,
          91,
          25,
          25,
          9,
          12,
          3,
          15,
          29,
          39,
          17,
          7,
          16,
          27,
          48,
          4,
          10,
          34,
          20,
          3,
          5,
          22,
          21,
          8,
          661,
          59,
          38,
          99,
          17,
          6,
          42,
          6,
          70,
          12,
          16,
          4,
          26,
          10,
          8,
          9,
          8,
          35,
          34,
          98,
          23,
          39,
          160,
          48,
          14,
          83,
          18,
          19,
          20,
          12,
          19,
          29,
          8,
          27,
          4,
          25,
          26,
          25,
          19,
          11,
          18,
          9,
          25,
          51,
          22,
          14,
          59,
          62,
          18,
          7,
          15,
          31,
          29,
          12,
          26,
          19,
          33,
          62,
          4,
          8,
          22,
          17,
          11,
          18,
          10,
          9,
          33,
          16,
          42,
          91,
          31,
          16,
          5,
          29,
          10,
          3,
          8,
          13,
          27,
          83,
          46,
          2,
          15,
          3,
          6,
          42,
          7,
          37,
          41,
          24,
          6,
          35,
          25,
          12,
          132,
          4,
          3,
          36,
          3,
          38,
          60,
          27,
          15,
          8,
          4,
          8,
          56,
          4,
          69,
          24,
          10,
          15,
          16,
          9,
          39,
          4,
          9,
          16,
          4,
          8,
          10,
          11,
          29,
          8,
          75,
          32,
          20,
          70,
          11,
          73,
          87,
          40,
          23,
          12,
          5,
          4,
          16,
          5,
          13,
          131,
          9,
          83,
          41,
          87,
          36,
          1,
          29,
          107,
          5,
          15,
          25,
          4,
          6,
          22,
          2,
          11,
          199,
          132,
          7,
          25,
          10,
          20,
          7,
          14,
          40,
          1,
          23,
          61,
          38,
          8,
          33,
          4,
          3,
          42,
          43,
          6,
          24,
          27,
          56,
          22,
          37,
          12,
          20,
          13,
          27,
          14,
          6,
          17,
          38,
          18,
          36,
          12,
          16,
          18,
          22,
          27,
          93,
          14,
          5,
          19,
          7,
          5,
          67,
          20,
          5,
          18,
          10,
          51,
          5,
          38,
          29,
          9,
          34,
          49,
          18,
          10,
          11,
          121,
          7,
          83,
          19,
          33,
          3,
          81,
          44,
          10,
          11,
          3,
          33,
          22,
          4,
          15,
          27,
          17,
          9,
          50,
          5,
          37,
          7,
          13,
          14,
          50,
          9,
          87,
          6,
          7,
          47,
          7,
          55,
          89,
          28,
          6,
          191,
          23,
          25,
          50,
          15,
          12,
          61,
          25,
          21,
          90,
          20,
          569,
          7,
          23,
          2,
          44,
          18,
          12,
          23,
          27,
          1,
          50,
          3,
          30,
          32,
          6,
          9,
          42,
          8,
          48,
          8,
          120,
          36,
          27,
          55,
          40,
          3,
          29,
          45,
          10,
          55,
          25,
          6,
          37,
          3,
          14,
          19,
          29,
          56,
          28,
          4,
          3,
          30,
          13,
          178,
          17,
          16,
          21,
          39,
          46,
          34,
          68,
          77,
          81,
          11,
          14,
          10,
          30,
          6,
          26,
          13,
          99,
          8,
          22,
          26,
          9,
          21,
          40,
          43,
          39,
          3,
          4,
          117,
          8,
          61,
          5,
          5,
          8,
          6,
          47,
          10,
          23,
          1,
          4,
          9,
          9,
          10,
          10,
          1,
          32,
          18,
          112,
          13,
          17,
          38,
          4,
          54,
          15,
          34,
          10,
          4,
          10,
          19,
          21,
          28,
          3,
          10,
          12,
          23,
          32,
          2,
          16,
          4,
          10,
          8,
          12,
          36,
          14,
          37,
          15,
          22,
          7,
          58,
          11,
          8,
          20,
          10,
          14,
          37,
          21,
          46,
          57,
          28,
          1,
          11,
          1,
          30,
          47,
          16,
          6,
          17,
          12,
          6,
          17,
          3,
          38,
          9,
          13,
          29,
          4,
          7,
          73,
          16,
          115,
          22,
          28,
          24,
          73,
          1,
          87,
          44,
          64,
          48,
          14,
          7,
          62,
          7,
          418,
          30,
          22,
          43,
          24,
          18,
          20,
          62,
          9,
          30,
          40,
          78,
          14,
          50,
          12,
          15,
          111,
          58,
          14,
          43,
          19,
          27,
          16,
          18,
          9,
          6,
          25,
          17,
          1,
          33,
          20,
          22,
          17,
          10,
          12,
          25,
          61,
          2,
          5,
          28,
          52,
          19,
          33,
          18,
          60,
          14,
          14,
          5,
          14,
          28,
          6,
          16,
          8,
          12,
          28,
          29,
          19,
          34,
          18,
          15,
          21,
          9,
          8,
          73,
          47,
          44,
          34,
          4,
          17,
          15,
          75,
          30,
          9,
          16,
          2,
          13,
          12,
          23,
          29,
          81,
          26,
          44,
          10,
          34,
          46,
          52,
          12,
          24,
          15,
          22,
          51,
          12,
          58,
          380,
          33,
          99,
          7,
          3,
          13,
          7,
          4,
          40,
          49,
          8,
          28,
          66,
          33,
          10,
          101,
          39,
          112,
          32,
          26,
          12,
          7,
          104,
          29,
          40,
          45,
          20,
          88,
          23,
          20,
          11,
          28,
          39,
          55,
          29,
          6,
          11,
          23,
          40,
          15,
          32,
          8,
          17,
          4,
          10,
          11,
          109,
          9,
          21,
          28,
          55,
          27,
          11,
          59,
          2,
          50,
          16,
          29,
          42,
          46,
          2,
          13,
          9,
          48,
          3,
          35,
          24,
          4,
          17,
          15,
          1,
          21,
          7,
          67,
          11,
          9,
          40,
          25,
          46,
          21,
          5,
          35,
          102,
          14,
          14,
          19,
          11,
          10,
          9,
          8,
          13,
          8,
          28,
          18,
          13,
          26,
          29,
          24,
          28,
          16,
          7,
          9,
          86,
          110,
          183,
          12,
          33,
          11,
          33,
          3,
          1,
          109,
          21,
          18,
          9,
          25,
          55,
          35,
          7,
          31,
          10,
          7,
          39,
          9,
          4,
          11,
          3,
          8,
          7,
          9,
          30,
          6,
          2,
          57,
          39,
          27,
          15,
          13,
          6,
          11,
          30,
          210,
          32,
          42,
          16,
          62,
          63,
          7,
          8,
          15,
          65,
          12,
          4,
          7,
          28,
          127,
          13,
          22,
          37,
          70,
          20,
          12,
          16,
          64,
          7,
          2,
          124,
          14,
          7,
          19,
          14,
          2,
          79,
          27,
          57,
          18,
          47,
          59,
          3,
          21,
          128,
          4,
          7,
          6,
          12,
          2,
          31,
          39,
          6,
          45,
          18,
          3,
          7,
          29,
          77,
          8,
          27,
          31,
          39,
          39,
          7,
          271,
          5,
          24,
          6,
          5,
          70,
          14,
          78,
          20,
          16,
          12,
          36,
          59,
          88,
          68,
          12,
          32,
          11,
          28,
          3,
          5,
          4,
          3,
          10,
          18,
          35,
          111,
          14,
          68,
          2,
          1,
          15,
          82,
          13,
          32,
          4,
          16,
          28,
          38,
          28,
          8,
          226,
          215,
          47,
          31,
          14,
          13,
          12,
          12,
          5,
          23,
          8,
          42,
          9,
          2,
          38,
          4,
          116,
          18,
          2,
          51,
          40,
          15,
          19,
          8,
          19,
          17,
          23,
          23,
          19,
          48,
          3,
          266,
          28,
          13,
          37,
          114,
          55,
          14,
          9,
          4,
          14,
          6,
          21,
          15,
          27,
          4,
          19,
          11,
          116,
          35,
          5,
          41,
          19,
          38,
          8,
          25,
          19,
          7,
          28,
          9,
          2,
          16,
          15,
          28,
          19,
          99,
          26,
          28,
          5,
          45,
          1768,
          38,
          22,
          18,
          50,
          3,
          23,
          35,
          27,
          3,
          35,
          17,
          34,
          21,
          24,
          14,
          55,
          9,
          37,
          62,
          51,
          101,
          25,
          10,
          22,
          24,
          38,
          130,
          12,
          33,
          17,
          9,
          34,
          52,
          15,
          18,
          32,
          18,
          30,
          11,
          7,
          44,
          50,
          48,
          8,
          6,
          3,
          15,
          22,
          251,
          3,
          20,
          67,
          13,
          35,
          63,
          5,
          65,
          16,
          15,
          51,
          18,
          17,
          14,
          17,
          10,
          52,
          55,
          60,
          33,
          24,
          41,
          25,
          43,
          11,
          21,
          25,
          29,
          39,
          6,
          24,
          385,
          30,
          4,
          5,
          5,
          6,
          824,
          10,
          1,
          7,
          13,
          5,
          56,
          12,
          7,
          18,
          6,
          52,
          11,
          11,
          15,
          54,
          9,
          12,
          1,
          28,
          2,
          14,
          15,
          10,
          23,
          3,
          16,
          32,
          1,
          18,
          14,
          8,
          77,
          12,
          21,
          6,
          16,
          28,
          18,
          59,
          42,
          33,
          20,
          5,
          31,
          34,
          10,
          4,
          2,
          20,
          5,
          5,
          30,
          22,
          20,
          36,
          16,
          26,
          4,
          27,
          20,
          32,
          6,
          3,
          27,
          9,
          42,
          22,
          42,
          18,
          3,
          85,
          8,
          41,
          2,
          19,
          25,
          17,
          11,
          67,
          16,
          25,
          26,
          4,
          12,
          26,
          3,
          6,
          6,
          18,
          95,
          31,
          53,
          23,
          47,
          293,
          5,
          16,
          3,
          27,
          29,
          28,
          18,
          22,
          8,
          11,
          46,
          40,
          6,
          70,
          10,
          22,
          10,
          12,
          5,
          45,
          5,
          11,
          24,
          51,
          58,
          10,
          16,
          23,
          16,
          11,
          3,
          39,
          18,
          165,
          10,
          18,
          36,
          12,
          28,
          13,
          20,
          31,
          22,
          23,
          5,
          27,
          20,
          46,
          42,
          21,
          26,
          84,
          14,
          15,
          80,
          6,
          19,
          74,
          35,
          29,
          9,
          75,
          7,
          30,
          55,
          11,
          142,
          72,
          6,
          84,
          1,
          51,
          66,
          15,
          9,
          34,
          7,
          132,
          66,
          18,
          150,
          89,
          6,
          23,
          9,
          134,
          26,
          22,
          14,
          28,
          7,
          38,
          26,
          68,
          53,
          23,
          24,
          7,
          50,
          102,
          7,
          61,
          104,
          82,
          17,
          64,
          10,
          35,
          21,
          38,
          65,
          49,
          43,
          40,
          51,
          69,
          12,
          30,
          2,
          5,
          12,
          3,
          12,
          54,
          16,
          57,
          38,
          60,
          17,
          93,
          64,
          93,
          56,
          107,
          11,
          23,
          64,
          18,
          9,
          7,
          3,
          25,
          40,
          33,
          9,
          5,
          6,
          38,
          15,
          223,
          10,
          14,
          6,
          19,
          3,
          84,
          39,
          7,
          34,
          59,
          5,
          9,
          13,
          35,
          25,
          5,
          43,
          25,
          9,
          42,
          31,
          22,
          14,
          8,
          7,
          68,
          69,
          14,
          44,
          51,
          4,
          7,
          6,
          19,
          5,
          86,
          54,
          9,
          2,
          8,
          24,
          9,
          37,
          4,
          49,
          42,
          9,
          32,
          47,
          27,
          3,
          57,
          62,
          6,
          14,
          33,
          65,
          25,
          4,
          37,
          23,
          49,
          53,
          22,
          20,
          37,
          6,
          26,
          39,
          3,
          21,
          88,
          4,
          2,
          50,
          48,
          45,
          46,
          20,
          20,
          16,
          14,
          13,
          42,
          20,
          26,
          54,
          2,
          32,
          27,
          153,
          3,
          69,
          2,
          73,
          26,
          11,
          3,
          9,
          60,
          67,
          10,
          11,
          38,
          40,
          28,
          1,
          15,
          51,
          1,
          58,
          18,
          51,
          31,
          20,
          7,
          131,
          118,
          13,
          64,
          66,
          90,
          33,
          25,
          13,
          5,
          13,
          15,
          5,
          32,
          81,
          64,
          48,
          28,
          2,
          7,
          11,
          9,
          21,
          11,
          56,
          4,
          11,
          207,
          106,
          31,
          21,
          41,
          15,
          3,
          6,
          4,
          41,
          62,
          14,
          11,
          29,
          5,
          41,
          57,
          7,
          21,
          69,
          31,
          158,
          23,
          4,
          5,
          11,
          35,
          11,
          40,
          23,
          37,
          31,
          4,
          9,
          18,
          58,
          29,
          3,
          6,
          11,
          51,
          56,
          22,
          19,
          1,
          2,
          9,
          11,
          6,
          8,
          7,
          260,
          19,
          10,
          14,
          17,
          24,
          3,
          37,
          11,
          47,
          4,
          29,
          20,
          7,
          25,
          20,
          11,
          46,
          240,
          4,
          18,
          161,
          11,
          84,
          12,
          7,
          9,
          26,
          3,
          168,
          36,
          55,
          17,
          14,
          40,
          13,
          13,
          17,
          12,
          25,
          10,
          8,
          1,
          22,
          18,
          17,
          2,
          10,
          165,
          13,
          50,
          18,
          6,
          10,
          40,
          37,
          15,
          13,
          37,
          39,
          23,
          2,
          34,
          56,
          29,
          31,
          31,
          22,
          15,
          35,
          20,
          9,
          98,
          32,
          19,
          8,
          17,
          31,
          11,
          8,
          92,
          18,
          4,
          8,
          2,
          2,
          36,
          5,
          27,
          84,
          88,
          18,
          64,
          5,
          30,
          4,
          145,
          44,
          14,
          20,
          26,
          4,
          15,
          27,
          35,
          40,
          6,
          27,
          37,
          7,
          20,
          4,
          117,
          71,
          5,
          2,
          59,
          74,
          2,
          16,
          64,
          3,
          34,
          10,
          46,
          3,
          63,
          4,
          28,
          27,
          17,
          28,
          21,
          5,
          11,
          27,
          5,
          39,
          26,
          48,
          4,
          5,
          54,
          28,
          22,
          9,
          1,
          13,
          321,
          66,
          24,
          18,
          8,
          15,
          27,
          34,
          15,
          8,
          91,
          11,
          24,
          40,
          13,
          15,
          120,
          15,
          18,
          13,
          16,
          24,
          25,
          14,
          14,
          11,
          20,
          18,
          19,
          29,
          52,
          27,
          20,
          7,
          4,
          33,
          9,
          19,
          11,
          20,
          9,
          29,
          33,
          41,
          21,
          12,
          44,
          9,
          10,
          50,
          5,
          11,
          28,
          41,
          82,
          15,
          25,
          4,
          41,
          9,
          32,
          4,
          3,
          191,
          72,
          14,
          1,
          6,
          26,
          2,
          25,
          8,
          27,
          18,
          89,
          25,
          15,
          31,
          44,
          4,
          33,
          6,
          37,
          5,
          12,
          11,
          4,
          32,
          10,
          26,
          10,
          21,
          81,
          6,
          18,
          3,
          104,
          19,
          4,
          87,
          23,
          26,
          11,
          20,
          22,
          27,
          10,
          45,
          8,
          29,
          6,
          2,
          7,
          45,
          16,
          5,
          14,
          10,
          49,
          11,
          13,
          15,
          17,
          163,
          7,
          21,
          9,
          130,
          83,
          16,
          1,
          13,
          30,
          28,
          16,
          20,
          10,
          10,
          27,
          33,
          29,
          10,
          38,
          6,
          46,
          13,
          23,
          7,
          1,
          35,
          8,
          20,
          40,
          10,
          31,
          159,
          19,
          10,
          9,
          9,
          32,
          39,
          40,
          5,
          4,
          16,
          7,
          18,
          11,
          15,
          39,
          27,
          4,
          66,
          2,
          33,
          18,
          136,
          42,
          61,
          16,
          6,
          121,
          32,
          12,
          27,
          28,
          30,
          23,
          5,
          10,
          7,
          29,
          51,
          1,
          12,
          6,
          21,
          27,
          4,
          21,
          37,
          5,
          50,
          27,
          36,
          8,
          25,
          6,
          30,
          6,
          14,
          61,
          33,
          9,
          19,
          22,
          15,
          181,
          12,
          5,
          8,
          1,
          15,
          22,
          21,
          14,
          34,
          4,
          61,
          70,
          28,
          8,
          7,
          4,
          34,
          5,
          9,
          12,
          5,
          26,
          67,
          9,
          13,
          9,
          40,
          30,
          35,
          2,
          34,
          53,
          87,
          18,
          48,
          33,
          83,
          6,
          6,
          78,
          30,
          50,
          6,
          38,
          13,
          67,
          10,
          21,
          28,
          21,
          21,
          40,
          35,
          10,
          9,
          27,
          26,
          6,
          9,
          25,
          21,
          6,
          7,
          62,
          4,
          32,
          65,
          7,
          12,
          21,
          55,
          19,
          19,
          29,
          8,
          5,
          53,
          2,
          48,
          19,
          44,
          6,
          16,
          7,
          34,
          6,
          32,
          33,
          8,
          3,
          5,
          94,
          93,
          9,
          6,
          31,
          10,
          14,
          28,
          32,
          4,
          48,
          21,
          6,
          14,
          24,
          35,
          29,
          27,
          9,
          6,
          32,
          15,
          15,
          63,
          17,
          35,
          27,
          5,
          15,
          9,
          16,
          20,
          29,
          3,
          46,
          16,
          16,
          7,
          12,
          26,
          4,
          32,
          38,
          28,
          185,
          41,
          7,
          15,
          19,
          4,
          7,
          7,
          34,
          35,
          24,
          10,
          14,
          1,
          24,
          19,
          67,
          30,
          9,
          126,
          9,
          21,
          24,
          37,
          29,
          6,
          4,
          15,
          8,
          15,
          2,
          39,
          36,
          27,
          27,
          11,
          20,
          48,
          90,
          9,
          49,
          74,
          36,
          20,
          38,
          32,
          10,
          7,
          12,
          38,
          15,
          34,
          14,
          32,
          8,
          2,
          52,
          41,
          73,
          35,
          6,
          13,
          18,
          7,
          114,
          55,
          49,
          11,
          51,
          25,
          40,
          11,
          44,
          70,
          97,
          21,
          47,
          10,
          10,
          20,
          8,
          12,
          20,
          21,
          12,
          21,
          4,
          40,
          37,
          13,
          13,
          35,
          69,
          73,
          78,
          10,
          54,
          173,
          15,
          4,
          27,
          64,
          70,
          11,
          26,
          65,
          3,
          4,
          71,
          37,
          56,
          23,
          125,
          6,
          6,
          63,
          585,
          15,
          11,
          70,
          37,
          16,
          12,
          5,
          25,
          1,
          12,
          28,
          162,
          10,
          19,
          29,
          3,
          22,
          16,
          15,
          8,
          11,
          8,
          7,
          11,
          7,
          28,
          23,
          46,
          39,
          9,
          33,
          212,
          68,
          3,
          27,
          36,
          8,
          22,
          3,
          3,
          6,
          22,
          35,
          30,
          8,
          3,
          53,
          37,
          5,
          12,
          110,
          51,
          20,
          34,
          18,
          21,
          24,
          37,
          44,
          23,
          18,
          74,
          85,
          10,
          68,
          21,
          16,
          75,
          27,
          111,
          14,
          14,
          53,
          63,
          23,
          23,
          14,
          8,
          31,
          9,
          25,
          6,
          3,
          26,
          38,
          24,
          6,
          8,
          18,
          9,
          28,
          6,
          40,
          22,
          58,
          149,
          28,
          24,
          28,
          2,
          6,
          46,
          13,
          17,
          11,
          5,
          14,
          46,
          44,
          15,
          18,
          8,
          36,
          2,
          5,
          15,
          27,
          66,
          21,
          37,
          26,
          7,
          56,
          80,
          14,
          14,
          5,
          85,
          28,
          46,
          8,
          6,
          13,
          5,
          40,
          59,
          27,
          18,
          24,
          14,
          16,
          40,
          34,
          65,
          20,
          91,
          8,
          24,
          37,
          38,
          17,
          10,
          10,
          11,
          38,
          44,
          71,
          12,
          51,
          1,
          34,
          43,
          52,
          66,
          16,
          47,
          24,
          38,
          74,
          22,
          90,
          18,
          19,
          14,
          3,
          60,
          6,
          44,
          3,
          15,
          4,
          36,
          22,
          202,
          17,
          127,
          33,
          3,
          25,
          22,
          40,
          16,
          85,
          34,
          6,
          14,
          169,
          10,
          3,
          56,
          4,
          12,
          2,
          33,
          4,
          49,
          6,
          6,
          25,
          17,
          10,
          16,
          10,
          16,
          58,
          12,
          26,
          42,
          33,
          26,
          19,
          29,
          49,
          51,
          15,
          12,
          36,
          194,
          8,
          11,
          10,
          10,
          14,
          3,
          33,
          6,
          115,
          10,
          7,
          22,
          24,
          28,
          23,
          32,
          11,
          29,
          41,
          13,
          15,
          20,
          8,
          35,
          16,
          4,
          16,
          6,
          2307,
          54,
          34,
          3,
          15,
          14,
          52,
          29,
          14,
          10,
          14,
          36,
          11,
          84,
          4,
          39,
          165,
          23,
          22,
          39,
          8,
          11,
          3,
          25,
          26,
          90,
          19,
          58,
          17,
          18,
          21,
          17,
          44,
          4,
          32,
          22,
          6,
          48,
          3,
          17,
          6,
          93,
          27,
          4,
          7,
          10,
          25,
          14,
          15,
          96,
          11,
          12,
          13,
          52,
          25,
          17,
          10,
          20,
          60,
          15,
          8,
          27,
          83,
          4,
          49,
          53,
          4,
          47,
          2,
          72,
          33,
          36,
          54,
          104,
          13,
          23,
          3,
          5,
          10,
          71,
          3,
          4,
          12,
          15,
          9,
          15,
          13,
          4,
          7,
          7,
          5,
          6,
          4,
          2,
          5,
          9,
          27,
          18,
          58,
          10,
          7,
          42,
          27,
          17,
          8,
          186,
          37,
          2,
          89,
          61,
          60,
          1,
          2,
          26,
          6,
          31,
          18,
          22,
          80,
          86,
          35,
          14,
          47,
          18,
          19,
          30,
          20,
          15,
          29,
          15,
          8,
          28,
          12,
          19,
          35,
          28,
          2,
          39,
          16,
          40,
          26,
          6,
          6,
          56,
          12,
          12,
          34,
          4,
          31,
          11,
          5,
          85,
          64,
          10,
          19,
          25,
          10,
          45,
          12,
          113,
          43,
          5,
          28,
          46,
          21,
          47,
          30,
          10,
          30,
          42,
          18,
          3,
          29,
          4,
          4,
          180,
          7,
          42,
          94,
          32,
          16,
          6,
          32,
          12,
          9,
          6,
          28,
          40,
          121,
          55,
          24,
          28,
          36,
          5,
          8,
          8,
          44,
          9,
          11,
          44,
          21,
          40,
          11,
          9,
          9,
          193,
          216,
          17,
          19,
          56,
          41,
          74,
          14,
          6,
          62,
          6,
          48,
          9,
          8,
          20,
          18,
          468,
          54,
          74,
          33,
          15,
          4,
          51,
          30,
          18,
          39,
          12,
          25,
          17,
          15,
          61,
          10,
          82,
          2,
          62,
          7,
          17,
          16,
          16,
          65,
          33,
          10,
          3,
          37,
          5,
          4,
          22,
          15,
          34,
          32,
          28,
          11,
          60,
          30,
          34,
          55,
          53,
          8,
          37,
          10,
          8,
          63,
          7,
          11,
          19,
          44,
          59,
          7,
          1,
          8,
          44,
          1,
          21,
          12,
          68,
          4,
          38,
          83,
          11,
          15,
          15,
          32,
          78,
          7,
          81,
          23,
          20,
          64,
          19,
          12,
          23,
          7,
          11,
          37,
          4,
          31,
          208,
          32,
          16,
          2,
          1,
          16,
          41,
          62,
          2,
          105,
          17,
          9,
          20,
          15,
          27,
          4,
          33,
          12,
          20,
          54,
          14,
          62,
          28,
          2,
          8,
          13,
          8,
          69,
          168,
          10,
          160,
          86,
          32,
          10,
          18,
          24,
          3,
          44,
          20,
          25,
          5,
          87,
          21,
          13,
          15,
          41,
          13,
          2,
          6,
          33,
          12,
          13,
          14,
          3,
          55,
          28,
          27,
          18,
          15,
          25,
          32,
          2,
          18,
          10,
          62,
          15,
          8,
          38,
          13,
          81,
          24,
          10,
          13,
          22,
          33,
          41,
          9,
          36,
          17,
          13,
          17,
          10,
          4,
          79,
          15,
          5,
          15,
          23,
          24,
          91,
          10,
          13,
          13,
          38,
          43,
          9,
          11,
          36,
          2,
          17,
          6,
          22,
          46,
          62,
          5,
          12,
          83,
          31,
          14,
          37,
          11,
          19,
          9,
          2,
          42,
          19,
          4,
          29,
          9,
          12,
          5,
          58,
          120,
          29,
          49,
          284,
          16,
          15,
          16,
          4,
          26,
          11,
          99,
          21,
          34,
          22,
          30,
          30,
          46,
          7,
          16,
          17,
          129,
          47,
          12,
          33,
          66,
          7,
          25,
          13,
          8,
          5,
          24,
          56,
          24,
          76,
          2,
          6,
          45,
          21,
          18,
          13,
          25,
          6,
          12,
          76,
          18,
          63,
          38,
          59,
          16,
          58,
          45,
          1439,
          22,
          13,
          8,
          39,
          22,
          1,
          13,
          21,
          36,
          10,
          10,
          8,
          8,
          44,
          44,
          65,
          35,
          26,
          23,
          31,
          74,
          30,
          15,
          33,
          11,
          22,
          8,
          27,
          5,
          16,
          6,
          48,
          3,
          5,
          34,
          29,
          38,
          21,
          13,
          8,
          121,
          59,
          34,
          24,
          12,
          46,
          13,
          22,
          109,
          8,
          61,
          12,
          4,
          26,
          37,
          39,
          4,
          35,
          3,
          7,
          44,
          48,
          22,
          4,
          124,
          33,
          8,
          9,
          21,
          15,
          29,
          26,
          6,
          35,
          7,
          3,
          132,
          24,
          6,
          45,
          12,
          14,
          25,
          17,
          62,
          24,
          29,
          7,
          118,
          44,
          4,
          29,
          23,
          20,
          9,
          62,
          27,
          15,
          3,
          27,
          6,
          21,
          13,
          20,
          1,
          23,
          2,
          3,
          15,
          11,
          27,
          19,
          22,
          14,
          56,
          18,
          20,
          37,
          26,
          2,
          13,
          32,
          35,
          46,
          20,
          64,
          24,
          46,
          76,
          20,
          2,
          32,
          19,
          5,
          27,
          6,
          6,
          59,
          199,
          8,
          60,
          5,
          63,
          8,
          8,
          15,
          113,
          16,
          76,
          4,
          10,
          25,
          43,
          19,
          26,
          11,
          32,
          14,
          8,
          24,
          233,
          12,
          51,
          23,
          33,
          42,
          26,
          30,
          9,
          28,
          14,
          51,
          14,
          2,
          6,
          7,
          34,
          16,
          54,
          24,
          3,
          16,
          2,
          16,
          23,
          2,
          42,
          9,
          2,
          29,
          12,
          14,
          47,
          48,
          36,
          21,
          9,
          35,
          25,
          15,
          14,
          22,
          38,
          29,
          104,
          37,
          7,
          31,
          8,
          32,
          6,
          23,
          18,
          16,
          8,
          31,
          31,
          192,
          18,
          12,
          10,
          4,
          22,
          17,
          147,
          12,
          1,
          26,
          8,
          47,
          43,
          16,
          23,
          76,
          28,
          30,
          25,
          3,
          6,
          3,
          10,
          55,
          5,
          56,
          38,
          29,
          30,
          22,
          71,
          5,
          12,
          17,
          27,
          4,
          71,
          12,
          21,
          24,
          5,
          70,
          21,
          27,
          8,
          12,
          73,
          22,
          36,
          3,
          154,
          15,
          7,
          89,
          21,
          42,
          55,
          28,
          43,
          34,
          23,
          11,
          8,
          1,
          16,
          86,
          60,
          12,
          28,
          61,
          6,
          39,
          12,
          21,
          58,
          37,
          20,
          28,
          34,
          29,
          7,
          5,
          18,
          88,
          250,
          3,
          10,
          37,
          33,
          89,
          52,
          3,
          18,
          26,
          65,
          6,
          5,
          32,
          31,
          6,
          7,
          10,
          14,
          144,
          82,
          20,
          1,
          18,
          10,
          106,
          48,
          27,
          29,
          7,
          26,
          4,
          70,
          20,
          44,
          40,
          10,
          4,
          7,
          42,
          29,
          71,
          28,
          14,
          15,
          41,
          10,
          6,
          30,
          22,
          18,
          8,
          34,
          4,
          87,
          40,
          9,
          86,
          66,
          18,
          2,
          33,
          50,
          1,
          64,
          27,
          12,
          8,
          29,
          26,
          6,
          25,
          40,
          24,
          16,
          14,
          6,
          32,
          29,
          9,
          3,
          11,
          3,
          4,
          20,
          12,
          7,
          29,
          174,
          11,
          31,
          27,
          156,
          16,
          64,
          2,
          20,
          11,
          11,
          59,
          10,
          16,
          22,
          35,
          5,
          15,
          38,
          43,
          21,
          38,
          32,
          3,
          47,
          15,
          18,
          23,
          2,
          5,
          46,
          36,
          1,
          27,
          15,
          51,
          235,
          9,
          42,
          14,
          26,
          59,
          40,
          6,
          65,
          21,
          79,
          63,
          92,
          45,
          27,
          1,
          8,
          15,
          17,
          10,
          41,
          34,
          14,
          3,
          8,
          48,
          112,
          24,
          36,
          21,
          50,
          16,
          43,
          15,
          21,
          42,
          19,
          30,
          14,
          13,
          62,
          3,
          26,
          45,
          10,
          51,
          32,
          7,
          17,
          5,
          4,
          19,
          3,
          18,
          122,
          16,
          4,
          10,
          4,
          34,
          4,
          6,
          5,
          10,
          27,
          29,
          7,
          11,
          30,
          3,
          17,
          33,
          3,
          20,
          2,
          6,
          45,
          46,
          8,
          30,
          8,
          33,
          22,
          32,
          42,
          45,
          30,
          11,
          105,
          208,
          6,
          45,
          1,
          33,
          31,
          38,
          31,
          34,
          16,
          20,
          30,
          13,
          9,
          79,
          19,
          66,
          26,
          38,
          2,
          12,
          1,
          16,
          9,
          13,
          24,
          15,
          32,
          54,
          25,
          81,
          15,
          39,
          104,
          8,
          51,
          12,
          12,
          2,
          14,
          37,
          14,
          32,
          48,
          29,
          38,
          48,
          4,
          13,
          8,
          34,
          28,
          40,
          21,
          14,
          7,
          55,
          3,
          28,
          137,
          60,
          15,
          19,
          87,
          4,
          15,
          13,
          38,
          7,
          36,
          2,
          4,
          8,
          15,
          198,
          7,
          2,
          16,
          52,
          7,
          14,
          8,
          11,
          9,
          12,
          14,
          6,
          16,
          4,
          13,
          37,
          28,
          3,
          40,
          43,
          45,
          62,
          29,
          41,
          13,
          45,
          34,
          10,
          21,
          17,
          12,
          12,
          10,
          127,
          2,
          7,
          40,
          11,
          4,
          50,
          66,
          23,
          14,
          4,
          67,
          17,
          60,
          54,
          7,
          8,
          48,
          3,
          10,
          3,
          25,
          6,
          52,
          6,
          16,
          48,
          52,
          4,
          4,
          13,
          31,
          3,
          11,
          22,
          11,
          5,
          18,
          17,
          11,
          11,
          62,
          12,
          46,
          7,
          85,
          37,
          19,
          65,
          132,
          7,
          26,
          52,
          18,
          76,
          270,
          9,
          30,
          5,
          24,
          32,
          45,
          29,
          20,
          13,
          12,
          1,
          23,
          56,
          19,
          39,
          11,
          60,
          20,
          21,
          15,
          36,
          24,
          19,
          27,
          888,
          5,
          24,
          20,
          21,
          82,
          3,
          4,
          2,
          12,
          5,
          13,
          43,
          26,
          37,
          3,
          19,
          18,
          25,
          18,
          6,
          40,
          6,
          58,
          32,
          40,
          29,
          16,
          10,
          68,
          9,
          7,
          12,
          19,
          20,
          29,
          13,
          69,
          6,
          106,
          78,
          51,
          2,
          2,
          3,
          24,
          16,
          25,
          25,
          62,
          65,
          25,
          12,
          7,
          43,
          42,
          4,
          50,
          32,
          17,
          3,
          2,
          14,
          35,
          37,
          5,
          10,
          4,
          4,
          19,
          26,
          2,
          6,
          21,
          9,
          10,
          37,
          13,
          18,
          29,
          19,
          6,
          30,
          140,
          23,
          8,
          18,
          21,
          35,
          9,
          34,
          12,
          18,
          45,
          6,
          18,
          3,
          15,
          82,
          9,
          10,
          40,
          5,
          39,
          45,
          39,
          15,
          29,
          28,
          27,
          48,
          16,
          4,
          6,
          24,
          93,
          91,
          3,
          13,
          2,
          18,
          3,
          19,
          55,
          15,
          5,
          7,
          19,
          50,
          68,
          7,
          40,
          49,
          12,
          218,
          60,
          67,
          9,
          22,
          90,
          16,
          11,
          8,
          43,
          9,
          41,
          9,
          19,
          11,
          27,
          24,
          6,
          4,
          13,
          1,
          25,
          88,
          34,
          38,
          6,
          36,
          21,
          35,
          26,
          5,
          3,
          15,
          5,
          17,
          21,
          39,
          33,
          29,
          40,
          28,
          22,
          14,
          17,
          126,
          54,
          47,
          7,
          19,
          40,
          32,
          9,
          43,
          27,
          32,
          7,
          20,
          21,
          9,
          12,
          39,
          1,
          7,
          3,
          5,
          12,
          125,
          29,
          23,
          17,
          43,
          3,
          5,
          16,
          19,
          20,
          11,
          129,
          8,
          1,
          19,
          266,
          21,
          7,
          116,
          22,
          7,
          43,
          32,
          98,
          46,
          66,
          18,
          1,
          4,
          112,
          29,
          9,
          30,
          30,
          37,
          27,
          6,
          19,
          22,
          19,
          18,
          7,
          57,
          40,
          34,
          59,
          15,
          8,
          4,
          62,
          4,
          34,
          15,
          6,
          20,
          8,
          10,
          43,
          57,
          25,
          19,
          28,
          15,
          35,
          10,
          98,
          50,
          53,
          37,
          6,
          5,
          15,
          13,
          12,
          15,
          6,
          6,
          52,
          30,
          7,
          69,
          1,
          94,
          9,
          26,
          19,
          121,
          8,
          83,
          58,
          5,
          9,
          32,
          18,
          28,
          7,
          7,
          16,
          14,
          18,
          24,
          13,
          5,
          42,
          39,
          30,
          11,
          20,
          3,
          10,
          95,
          26,
          54,
          76,
          63,
          15,
          5,
          6,
          8,
          9,
          14,
          20,
          12,
          755,
          42,
          37,
          5,
          14,
          76,
          4,
          30,
          45,
          48,
          62,
          12,
          9,
          64,
          26,
          6,
          60,
          23,
          52,
          11,
          29,
          34,
          80,
          42,
          39,
          11,
          4,
          18,
          22,
          16,
          44,
          109,
          3,
          2,
          7,
          17,
          1,
          4,
          35,
          38,
          8,
          53,
          22,
          11,
          3,
          5,
          77,
          555,
          1,
          68,
          5,
          12,
          3,
          63,
          13,
          32,
          14,
          24,
          12,
          3,
          46,
          24,
          1,
          1,
          75,
          14,
          5,
          50,
          302,
          26,
          36,
          9,
          25,
          2,
          2,
          71,
          10,
          27,
          24,
          7,
          10,
          19,
          4,
          60,
          9,
          4,
          8,
          29,
          70,
          6,
          59,
          10,
          5,
          11,
          16,
          8,
          23,
          33,
          11,
          6,
          23,
          23,
          27,
          13,
          29,
          2,
          34,
          35,
          10,
          4,
          38,
          63,
          19,
          16,
          12,
          16,
          13,
          26,
          26,
          5,
          60,
          9,
          34,
          3,
          14,
          7,
          23,
          28,
          125,
          14,
          17,
          25,
          3,
          54,
          37,
          45,
          145,
          46,
          50,
          20,
          54,
          32,
          29,
          9,
          12,
          12,
          2,
          132,
          22,
          3,
          1,
          34,
          39,
          10,
          56,
          22,
          17,
          6,
          363,
          10,
          12,
          108,
          3,
          2,
          28,
          7,
          92,
          11,
          36,
          16,
          27,
          20,
          21,
          12,
          2,
          30,
          9,
          5,
          5,
          9,
          15,
          27,
          10,
          6,
          20,
          4,
          9,
          11,
          5,
          11,
          2,
          32,
          41,
          39,
          34,
          52,
          32,
          7,
          27,
          17,
          22,
          111,
          10,
          32,
          10,
          5,
          105,
          4,
          51,
          11,
          37,
          64,
          5,
          23,
          18,
          14,
          20,
          4,
          28,
          58,
          7,
          16,
          25,
          10,
          57,
          25,
          8,
          15,
          7,
          85,
          19,
          79,
          70,
          12,
          56,
          8,
          10,
          9,
          17,
          93,
          9,
          37,
          15,
          31,
          73,
          20,
          11,
          6,
          95,
          28,
          26,
          63,
          15,
          26,
          13,
          7,
          62,
          19,
          98,
          11,
          6,
          8,
          13,
          11,
          4,
          26,
          17,
          46,
          38,
          21,
          38,
          5,
          37,
          29,
          10,
          76,
          22,
          56,
          23,
          32,
          23,
          72,
          24,
          13,
          8,
          34,
          10,
          21,
          13,
          32,
          22,
          26,
          55,
          2,
          8,
          2,
          10,
          17,
          9,
          17,
          14,
          6,
          39,
          6,
          5,
          16,
          33,
          17,
          13,
          15,
          20,
          19,
          9,
          13,
          25,
          6,
          74,
          35,
          2,
          23,
          52,
          32,
          5,
          14,
          9,
          57,
          11,
          12,
          87,
          18,
          10,
          35,
          28,
          54,
          148,
          10,
          4,
          12,
          18,
          40,
          41,
          23,
          20,
          19,
          19,
          8,
          48,
          21,
          16,
          10,
          57,
          6,
          46,
          68,
          6,
          48,
          38,
          19,
          36,
          12,
          7,
          6,
          9,
          10,
          31,
          6,
          31,
          32,
          11,
          35,
          9,
          22,
          8,
          4,
          14,
          15,
          29,
          30,
          60,
          33,
          24,
          65,
          15,
          17,
          8,
          29,
          7,
          37,
          16,
          4,
          17,
          26,
          24,
          16,
          11,
          48,
          13,
          50,
          5,
          11,
          14,
          28,
          13,
          57,
          52,
          23,
          14,
          5,
          21,
          14,
          13,
          16,
          3,
          87,
          4,
          16,
          6,
          129,
          18,
          85,
          7,
          25,
          26,
          3,
          15,
          14,
          34,
          38,
          9,
          7,
          2,
          35,
          14,
          9,
          29,
          62,
          27,
          8,
          22,
          6,
          13,
          16,
          19,
          12,
          50,
          15,
          108,
          16,
          54,
          8,
          5,
          7,
          23,
          7,
          20,
          26,
          40,
          40,
          17,
          15,
          21,
          7,
          5,
          56,
          5,
          3,
          7,
          25,
          45,
          14,
          12,
          191,
          61,
          46,
          12,
          24,
          80,
          79,
          4,
          30,
          46,
          79,
          78,
          3,
          5,
          19,
          51,
          25,
          36,
          28,
          35,
          56,
          6,
          14,
          6,
          10,
          16,
          28,
          15,
          19,
          41,
          17,
          40,
          104,
          25,
          5,
          14,
          16,
          55,
          34,
          1,
          43,
          5,
          17,
          68,
          19,
          13,
          41,
          61,
          15,
          35,
          13,
          166,
          12,
          25,
          13,
          51,
          52,
          1,
          6,
          27,
          44,
          73,
          24,
          14,
          4,
          6,
          19,
          5,
          62,
          1,
          2,
          19,
          35,
          48,
          39,
          8,
          9,
          5,
          25,
          12,
          24,
          31,
          18,
          27,
          41,
          148,
          66,
          15,
          15,
          5,
          22,
          17,
          51,
          3,
          40,
          5,
          14,
          9,
          3,
          45,
          35,
          1,
          6,
          12,
          19,
          9,
          12,
          14,
          51,
          45,
          36,
          26,
          16,
          37,
          55,
          2,
          119,
          44,
          26,
          14,
          27,
          19,
          103,
          50,
          12,
          15,
          10,
          73,
          20,
          87,
          26,
          9,
          40,
          26,
          14,
          47,
          18,
          13,
          57,
          79,
          34,
          27,
          103,
          14,
          36,
          1,
          11,
          5,
          3,
          19,
          11,
          2,
          30,
          29,
          32,
          18,
          21,
          4,
          80,
          20,
          9,
          20,
          21,
          16,
          5,
          81,
          32,
          25,
          8,
          10,
          51,
          2,
          8,
          34,
          8,
          2,
          134,
          17,
          17,
          364,
          14,
          15,
          30,
          18,
          29,
          10,
          5,
          37,
          14,
          52,
          59,
          40,
          4,
          27,
          6,
          40,
          49,
          5,
          13,
          17,
          7,
          103,
          39,
          20,
          26,
          20,
          18,
          8,
          23,
          8,
          43,
          5,
          16,
          48,
          33,
          41,
          43,
          13,
          38,
          49,
          50,
          67,
          26,
          8,
          23,
          264,
          54,
          65,
          36,
          69,
          43,
          51,
          22,
          43,
          5,
          14,
          95,
          46,
          18,
          78,
          20,
          6,
          37,
          2,
          3,
          74,
          8,
          50,
          38,
          2,
          73,
          11,
          35,
          6,
          13,
          18,
          32,
          5,
          8,
          6,
          3,
          26,
          14,
          28,
          42,
          95,
          4,
          22,
          5,
          13,
          9,
          24,
          9,
          9,
          8,
          56,
          3,
          17,
          7,
          27,
          5,
          7,
          10,
          21,
          16,
          33,
          21,
          74,
          5,
          11,
          5,
          17,
          134,
          7,
          12,
          4,
          7,
          64,
          10,
          26,
          35,
          33,
          14,
          85,
          9,
          4,
          19,
          37,
          12,
          65,
          32,
          25,
          16,
          51,
          40,
          13,
          4,
          95,
          35,
          62,
          21,
          46,
          4,
          21,
          17,
          26,
          28,
          54,
          21,
          16,
          30,
          2,
          34,
          7,
          16,
          29,
          9,
          19,
          32,
          42,
          29,
          7,
          34,
          3,
          11,
          42,
          8,
          65,
          126,
          37,
          10,
          283,
          89,
          11,
          45,
          23,
          7,
          49,
          23,
          8,
          4,
          136,
          67,
          54,
          36,
          9,
          15,
          8,
          17,
          11,
          4,
          58,
          47,
          1,
          27,
          7,
          51,
          22,
          17,
          25,
          31,
          9,
          8,
          8,
          31,
          14,
          1,
          4,
          33,
          21,
          18,
          16,
          8,
          2,
          29,
          9,
          24,
          5,
          14,
          87,
          12,
          26,
          110,
          58,
          3,
          15,
          10,
          48,
          64,
          14,
          74,
          43,
          8,
          98,
          12,
          11,
          134,
          5,
          5,
          1,
          7,
          25,
          5,
          3,
          7,
          45,
          54,
          25,
          59,
          135,
          8,
          10,
          229,
          9,
          8,
          43,
          3,
          36,
          33,
          5,
          51,
          64,
          10,
          10,
          117,
          21,
          81,
          15,
          33,
          43,
          7,
          84,
          7,
          46,
          36,
          10,
          2,
          24,
          9,
          17,
          7,
          7,
          59
         ],
         "x0": " ",
         "xaxis": "x",
         "y0": " ",
         "yaxis": "y"
        }
       ],
       "layout": {
        "legend": {
         "tracegroupgap": 0
        },
        "margin": {
         "t": 60
        },
        "template": {
         "data": {
          "bar": [
           {
            "error_x": {
             "color": "#2a3f5f"
            },
            "error_y": {
             "color": "#2a3f5f"
            },
            "marker": {
             "line": {
              "color": "#E5ECF6",
              "width": 0.5
             },
             "pattern": {
              "fillmode": "overlay",
              "size": 10,
              "solidity": 0.2
             }
            },
            "type": "bar"
           }
          ],
          "barpolar": [
           {
            "marker": {
             "line": {
              "color": "#E5ECF6",
              "width": 0.5
             },
             "pattern": {
              "fillmode": "overlay",
              "size": 10,
              "solidity": 0.2
             }
            },
            "type": "barpolar"
           }
          ],
          "carpet": [
           {
            "aaxis": {
             "endlinecolor": "#2a3f5f",
             "gridcolor": "white",
             "linecolor": "white",
             "minorgridcolor": "white",
             "startlinecolor": "#2a3f5f"
            },
            "baxis": {
             "endlinecolor": "#2a3f5f",
             "gridcolor": "white",
             "linecolor": "white",
             "minorgridcolor": "white",
             "startlinecolor": "#2a3f5f"
            },
            "type": "carpet"
           }
          ],
          "choropleth": [
           {
            "colorbar": {
             "outlinewidth": 0,
             "ticks": ""
            },
            "type": "choropleth"
           }
          ],
          "contour": [
           {
            "colorbar": {
             "outlinewidth": 0,
             "ticks": ""
            },
            "colorscale": [
             [
              0,
              "#0d0887"
             ],
             [
              0.1111111111,
              "#46039f"
             ],
             [
              0.2222222222,
              "#7201a8"
             ],
             [
              0.3333333333,
              "#9c179e"
             ],
             [
              0.4444444444,
              "#bd3786"
             ],
             [
              0.5555555556,
              "#d8576b"
             ],
             [
              0.6666666667,
              "#ed7953"
             ],
             [
              0.7777777778,
              "#fb9f3a"
             ],
             [
              0.8888888889,
              "#fdca26"
             ],
             [
              1,
              "#f0f921"
             ]
            ],
            "type": "contour"
           }
          ],
          "contourcarpet": [
           {
            "colorbar": {
             "outlinewidth": 0,
             "ticks": ""
            },
            "type": "contourcarpet"
           }
          ],
          "heatmap": [
           {
            "colorbar": {
             "outlinewidth": 0,
             "ticks": ""
            },
            "colorscale": [
             [
              0,
              "#0d0887"
             ],
             [
              0.1111111111,
              "#46039f"
             ],
             [
              0.2222222222,
              "#7201a8"
             ],
             [
              0.3333333333,
              "#9c179e"
             ],
             [
              0.4444444444,
              "#bd3786"
             ],
             [
              0.5555555556,
              "#d8576b"
             ],
             [
              0.6666666667,
              "#ed7953"
             ],
             [
              0.7777777778,
              "#fb9f3a"
             ],
             [
              0.8888888889,
              "#fdca26"
             ],
             [
              1,
              "#f0f921"
             ]
            ],
            "type": "heatmap"
           }
          ],
          "heatmapgl": [
           {
            "colorbar": {
             "outlinewidth": 0,
             "ticks": ""
            },
            "colorscale": [
             [
              0,
              "#0d0887"
             ],
             [
              0.1111111111,
              "#46039f"
             ],
             [
              0.2222222222,
              "#7201a8"
             ],
             [
              0.3333333333,
              "#9c179e"
             ],
             [
              0.4444444444,
              "#bd3786"
             ],
             [
              0.5555555556,
              "#d8576b"
             ],
             [
              0.6666666667,
              "#ed7953"
             ],
             [
              0.7777777778,
              "#fb9f3a"
             ],
             [
              0.8888888889,
              "#fdca26"
             ],
             [
              1,
              "#f0f921"
             ]
            ],
            "type": "heatmapgl"
           }
          ],
          "histogram": [
           {
            "marker": {
             "pattern": {
              "fillmode": "overlay",
              "size": 10,
              "solidity": 0.2
             }
            },
            "type": "histogram"
           }
          ],
          "histogram2d": [
           {
            "colorbar": {
             "outlinewidth": 0,
             "ticks": ""
            },
            "colorscale": [
             [
              0,
              "#0d0887"
             ],
             [
              0.1111111111,
              "#46039f"
             ],
             [
              0.2222222222,
              "#7201a8"
             ],
             [
              0.3333333333,
              "#9c179e"
             ],
             [
              0.4444444444,
              "#bd3786"
             ],
             [
              0.5555555556,
              "#d8576b"
             ],
             [
              0.6666666667,
              "#ed7953"
             ],
             [
              0.7777777778,
              "#fb9f3a"
             ],
             [
              0.8888888889,
              "#fdca26"
             ],
             [
              1,
              "#f0f921"
             ]
            ],
            "type": "histogram2d"
           }
          ],
          "histogram2dcontour": [
           {
            "colorbar": {
             "outlinewidth": 0,
             "ticks": ""
            },
            "colorscale": [
             [
              0,
              "#0d0887"
             ],
             [
              0.1111111111,
              "#46039f"
             ],
             [
              0.2222222222,
              "#7201a8"
             ],
             [
              0.3333333333,
              "#9c179e"
             ],
             [
              0.4444444444,
              "#bd3786"
             ],
             [
              0.5555555556,
              "#d8576b"
             ],
             [
              0.6666666667,
              "#ed7953"
             ],
             [
              0.7777777778,
              "#fb9f3a"
             ],
             [
              0.8888888889,
              "#fdca26"
             ],
             [
              1,
              "#f0f921"
             ]
            ],
            "type": "histogram2dcontour"
           }
          ],
          "mesh3d": [
           {
            "colorbar": {
             "outlinewidth": 0,
             "ticks": ""
            },
            "type": "mesh3d"
           }
          ],
          "parcoords": [
           {
            "line": {
             "colorbar": {
              "outlinewidth": 0,
              "ticks": ""
             }
            },
            "type": "parcoords"
           }
          ],
          "pie": [
           {
            "automargin": true,
            "type": "pie"
           }
          ],
          "scatter": [
           {
            "marker": {
             "colorbar": {
              "outlinewidth": 0,
              "ticks": ""
             }
            },
            "type": "scatter"
           }
          ],
          "scatter3d": [
           {
            "line": {
             "colorbar": {
              "outlinewidth": 0,
              "ticks": ""
             }
            },
            "marker": {
             "colorbar": {
              "outlinewidth": 0,
              "ticks": ""
             }
            },
            "type": "scatter3d"
           }
          ],
          "scattercarpet": [
           {
            "marker": {
             "colorbar": {
              "outlinewidth": 0,
              "ticks": ""
             }
            },
            "type": "scattercarpet"
           }
          ],
          "scattergeo": [
           {
            "marker": {
             "colorbar": {
              "outlinewidth": 0,
              "ticks": ""
             }
            },
            "type": "scattergeo"
           }
          ],
          "scattergl": [
           {
            "marker": {
             "colorbar": {
              "outlinewidth": 0,
              "ticks": ""
             }
            },
            "type": "scattergl"
           }
          ],
          "scattermapbox": [
           {
            "marker": {
             "colorbar": {
              "outlinewidth": 0,
              "ticks": ""
             }
            },
            "type": "scattermapbox"
           }
          ],
          "scatterpolar": [
           {
            "marker": {
             "colorbar": {
              "outlinewidth": 0,
              "ticks": ""
             }
            },
            "type": "scatterpolar"
           }
          ],
          "scatterpolargl": [
           {
            "marker": {
             "colorbar": {
              "outlinewidth": 0,
              "ticks": ""
             }
            },
            "type": "scatterpolargl"
           }
          ],
          "scatterternary": [
           {
            "marker": {
             "colorbar": {
              "outlinewidth": 0,
              "ticks": ""
             }
            },
            "type": "scatterternary"
           }
          ],
          "surface": [
           {
            "colorbar": {
             "outlinewidth": 0,
             "ticks": ""
            },
            "colorscale": [
             [
              0,
              "#0d0887"
             ],
             [
              0.1111111111,
              "#46039f"
             ],
             [
              0.2222222222,
              "#7201a8"
             ],
             [
              0.3333333333,
              "#9c179e"
             ],
             [
              0.4444444444,
              "#bd3786"
             ],
             [
              0.5555555556,
              "#d8576b"
             ],
             [
              0.6666666667,
              "#ed7953"
             ],
             [
              0.7777777778,
              "#fb9f3a"
             ],
             [
              0.8888888889,
              "#fdca26"
             ],
             [
              1,
              "#f0f921"
             ]
            ],
            "type": "surface"
           }
          ],
          "table": [
           {
            "cells": {
             "fill": {
              "color": "#EBF0F8"
             },
             "line": {
              "color": "white"
             }
            },
            "header": {
             "fill": {
              "color": "#C8D4E3"
             },
             "line": {
              "color": "white"
             }
            },
            "type": "table"
           }
          ]
         },
         "layout": {
          "annotationdefaults": {
           "arrowcolor": "#2a3f5f",
           "arrowhead": 0,
           "arrowwidth": 1
          },
          "autotypenumbers": "strict",
          "coloraxis": {
           "colorbar": {
            "outlinewidth": 0,
            "ticks": ""
           }
          },
          "colorscale": {
           "diverging": [
            [
             0,
             "#8e0152"
            ],
            [
             0.1,
             "#c51b7d"
            ],
            [
             0.2,
             "#de77ae"
            ],
            [
             0.3,
             "#f1b6da"
            ],
            [
             0.4,
             "#fde0ef"
            ],
            [
             0.5,
             "#f7f7f7"
            ],
            [
             0.6,
             "#e6f5d0"
            ],
            [
             0.7,
             "#b8e186"
            ],
            [
             0.8,
             "#7fbc41"
            ],
            [
             0.9,
             "#4d9221"
            ],
            [
             1,
             "#276419"
            ]
           ],
           "sequential": [
            [
             0,
             "#0d0887"
            ],
            [
             0.1111111111,
             "#46039f"
            ],
            [
             0.2222222222,
             "#7201a8"
            ],
            [
             0.3333333333,
             "#9c179e"
            ],
            [
             0.4444444444,
             "#bd3786"
            ],
            [
             0.5555555556,
             "#d8576b"
            ],
            [
             0.6666666667,
             "#ed7953"
            ],
            [
             0.7777777778,
             "#fb9f3a"
            ],
            [
             0.8888888889,
             "#fdca26"
            ],
            [
             1,
             "#f0f921"
            ]
           ],
           "sequentialminus": [
            [
             0,
             "#0d0887"
            ],
            [
             0.1111111111,
             "#46039f"
            ],
            [
             0.2222222222,
             "#7201a8"
            ],
            [
             0.3333333333,
             "#9c179e"
            ],
            [
             0.4444444444,
             "#bd3786"
            ],
            [
             0.5555555556,
             "#d8576b"
            ],
            [
             0.6666666667,
             "#ed7953"
            ],
            [
             0.7777777778,
             "#fb9f3a"
            ],
            [
             0.8888888889,
             "#fdca26"
            ],
            [
             1,
             "#f0f921"
            ]
           ]
          },
          "colorway": [
           "#636efa",
           "#EF553B",
           "#00cc96",
           "#ab63fa",
           "#FFA15A",
           "#19d3f3",
           "#FF6692",
           "#B6E880",
           "#FF97FF",
           "#FECB52"
          ],
          "font": {
           "color": "#2a3f5f"
          },
          "geo": {
           "bgcolor": "white",
           "lakecolor": "white",
           "landcolor": "#E5ECF6",
           "showlakes": true,
           "showland": true,
           "subunitcolor": "white"
          },
          "hoverlabel": {
           "align": "left"
          },
          "hovermode": "closest",
          "mapbox": {
           "style": "light"
          },
          "paper_bgcolor": "white",
          "plot_bgcolor": "#E5ECF6",
          "polar": {
           "angularaxis": {
            "gridcolor": "white",
            "linecolor": "white",
            "ticks": ""
           },
           "bgcolor": "#E5ECF6",
           "radialaxis": {
            "gridcolor": "white",
            "linecolor": "white",
            "ticks": ""
           }
          },
          "scene": {
           "xaxis": {
            "backgroundcolor": "#E5ECF6",
            "gridcolor": "white",
            "gridwidth": 2,
            "linecolor": "white",
            "showbackground": true,
            "ticks": "",
            "zerolinecolor": "white"
           },
           "yaxis": {
            "backgroundcolor": "#E5ECF6",
            "gridcolor": "white",
            "gridwidth": 2,
            "linecolor": "white",
            "showbackground": true,
            "ticks": "",
            "zerolinecolor": "white"
           },
           "zaxis": {
            "backgroundcolor": "#E5ECF6",
            "gridcolor": "white",
            "gridwidth": 2,
            "linecolor": "white",
            "showbackground": true,
            "ticks": "",
            "zerolinecolor": "white"
           }
          },
          "shapedefaults": {
           "line": {
            "color": "#2a3f5f"
           }
          },
          "ternary": {
           "aaxis": {
            "gridcolor": "white",
            "linecolor": "white",
            "ticks": ""
           },
           "baxis": {
            "gridcolor": "white",
            "linecolor": "white",
            "ticks": ""
           },
           "bgcolor": "#E5ECF6",
           "caxis": {
            "gridcolor": "white",
            "linecolor": "white",
            "ticks": ""
           }
          },
          "title": {
           "x": 0.05
          },
          "xaxis": {
           "automargin": true,
           "gridcolor": "white",
           "linecolor": "white",
           "ticks": "",
           "title": {
            "standoff": 15
           },
           "zerolinecolor": "white",
           "zerolinewidth": 2
          },
          "yaxis": {
           "automargin": true,
           "gridcolor": "white",
           "linecolor": "white",
           "ticks": "",
           "title": {
            "standoff": 15
           },
           "zerolinecolor": "white",
           "zerolinewidth": 2
          }
         }
        },
        "title": {
         "text": "Distribution of The Events Counts per User",
         "x": 0.5,
         "xanchor": "center",
         "y": 0.95,
         "yanchor": "top"
        },
        "violinmode": "group",
        "xaxis": {
         "anchor": "y",
         "domain": [
          0,
          1
         ],
         "title": {
          "text": "event_name"
         }
        },
        "yaxis": {
         "anchor": "x",
         "domain": [
          0,
          1
         ]
        }
       }
      },
      "text/html": [
       "<div>                            <div id=\"6a673697-3a53-44d7-8589-bd119178a8bc\" class=\"plotly-graph-div\" style=\"height:525px; width:100%;\"></div>            <script type=\"text/javascript\">                require([\"plotly\"], function(Plotly) {                    window.PLOTLYENV=window.PLOTLYENV || {};                                    if (document.getElementById(\"6a673697-3a53-44d7-8589-bd119178a8bc\")) {                    Plotly.newPlot(                        \"6a673697-3a53-44d7-8589-bd119178a8bc\",                        [{\"alignmentgroup\":\"True\",\"box\":{\"visible\":true},\"hovertemplate\":\"event_name=%{x}<extra></extra>\",\"legendgroup\":\"\",\"marker\":{\"color\":\"#636efa\"},\"name\":\"\",\"offsetgroup\":\"\",\"orientation\":\"h\",\"points\":\"all\",\"scalegroup\":\"True\",\"showlegend\":false,\"type\":\"violin\",\"x\":[1,5,47,6,137,10,9,29,10,126,79,1,13,12,25,5,9,29,8,24,46,3,3,54,26,44,17,25,42,14,31,26,33,24,23,35,30,18,61,7,5,34,20,5,25,13,21,47,6,71,12,12,69,6,4,4,73,14,98,14,24,24,23,18,52,5,3,33,39,139,30,49,9,27,58,16,32,2,19,19,26,15,6,23,25,30,4,8,39,12,15,20,44,3,5,7,22,19,14,4,7,33,23,105,35,16,30,10,27,59,33,35,19,51,12,12,20,9,34,28,4,6,5,24,17,42,59,15,23,4,90,1,18,58,60,31,2,41,31,3,54,4,39,36,34,3,24,1998,36,7,18,10,7,165,51,36,15,44,25,109,10,26,23,6,41,39,12,6,15,19,6,27,17,28,7,5,9,66,23,29,71,20,21,7,77,41,32,4,56,7,51,16,9,19,2,43,10,47,24,35,10,40,3,19,28,11,6,8,19,126,15,8,13,3,11,11,208,26,14,27,5,27,19,22,4,4,18,16,25,17,245,7,14,159,78,43,46,50,25,57,67,2,11,7,4,13,299,26,28,56,44,21,39,13,9,28,15,17,48,31,27,28,17,23,47,25,87,31,67,77,31,4,21,19,24,8,10,38,14,9,70,23,21,6,44,1,9,26,32,19,4,8,1,19,15,68,33,5,79,30,10,13,60,8,6,27,95,45,56,66,3,1,53,5,5,15,83,8,21,5,20,60,57,11,15,57,67,96,15,1,24,128,21,9,14,11,46,3,2,11,10,24,18,4,10,5,53,45,6,18,3,19,11,10,45,8,8,33,41,15,18,49,52,63,83,9,14,78,67,83,4,20,7,18,27,27,14,24,67,18,136,14,4,13,72,7,58,22,29,17,5,55,33,233,3,32,22,31,4,48,13,51,39,10,17,40,4,33,78,8,63,21,34,20,5,40,3,4,13,15,23,20,11,15,13,33,11,92,47,29,2,17,18,40,9,53,80,4,54,6,14,57,6,26,18,30,25,3,9,159,10,43,13,10,16,25,26,9,8,23,22,42,10,7,19,14,51,238,313,51,6,12,122,4,27,30,31,121,22,31,1,43,123,1,17,41,12,14,20,31,60,41,24,17,44,54,22,11,8,8,67,9,13,29,39,22,31,11,32,89,9,5,14,6,16,25,85,65,496,100,29,6,4,17,89,8,19,47,3,8,23,4,36,5,5,19,5,8,30,43,4,34,18,62,18,14,43,74,21,42,51,9,25,32,26,1,44,58,44,87,26,65,17,4,51,4,22,44,12,7,5,17,30,25,60,18,26,20,39,18,26,61,53,70,23,7,2,19,30,10,17,21,1,21,7,2,16,5,26,5,11,29,36,25,142,28,31,4,106,33,30,60,103,18,59,7,39,11,9,18,8,36,17,37,41,12,5,60,47,45,11,12,12,5,84,21,16,25,29,38,6,14,10,26,14,23,37,57,16,6,6,27,23,11,52,4,243,14,6,10,17,23,38,73,47,34,3,12,76,52,10,5,11,16,58,8,9,39,16,60,3,25,4,44,51,13,44,13,18,29,26,42,17,35,6,8,53,38,50,98,9,68,13,15,3,22,45,19,5,9,4,44,1,25,20,13,21,2,41,13,37,22,30,17,51,5,7,50,71,20,156,101,15,5,110,28,33,14,25,7,20,69,14,25,127,6,1,6,25,19,83,11,8,12,10,15,12,46,7,12,13,27,40,43,18,8,5,9,79,8,21,1,18,59,7,3,16,6,17,57,10,7,5,3,13,10,3,24,37,31,5,45,47,8,15,11,130,5,17,7,15,16,18,7,179,26,34,2,9,20,6,7,7,118,11,33,17,100,98,8,34,21,854,62,43,57,24,46,2,28,26,37,26,8,1,4,8,103,33,38,46,28,5,84,12,25,29,10,9,18,1,6,24,59,11,7,12,21,29,6,661,41,13,48,16,33,11,37,3,12,3,28,31,22,25,23,17,4,12,16,13,9,27,18,19,20,27,13,4,6,37,59,3,25,39,5,94,16,22,4,1,5,87,11,7,8,5,6,31,5,53,23,14,43,92,7,23,15,4,49,38,2,59,14,1,15,18,6,12,95,3,102,76,103,13,11,42,76,7,26,39,68,15,41,7,6,12,31,32,6,1,3,29,17,55,7,28,23,38,20,15,34,14,19,170,3,53,28,87,21,103,22,22,32,15,20,17,16,31,61,67,16,3,5,39,7,5,5,31,17,5,15,25,34,8,24,3,5,14,9,32,3,9,2,8,26,10,10,5,8,5,15,8,6,5,5,22,17,43,48,8,3,30,15,5,6,17,15,28,72,25,4,15,13,16,26,12,44,4,45,14,31,25,5,31,23,27,24,12,8,63,18,5,4,90,33,32,30,34,9,26,31,36,32,128,5,12,3,12,4,36,7,52,9,191,2,25,35,43,14,42,20,7,13,50,23,65,7,22,9,6,58,25,42,6,10,29,16,15,15,16,2,12,35,4,31,23,41,45,9,4,62,34,38,5,16,89,3,17,11,37,12,4,24,65,65,19,22,267,7,7,23,37,41,16,35,26,55,6,82,7,3,40,127,109,66,164,3,1,65,77,30,50,28,37,6,15,9,23,4,25,41,13,24,14,39,30,71,26,29,3,56,43,45,51,9,62,9,19,94,26,6,15,31,11,18,52,69,6,179,13,28,88,12,65,8,15,12,75,23,31,4,73,5,58,3,8,21,8,28,12,35,5,21,18,9,208,14,37,11,5,5,5,13,24,4,94,31,29,42,16,13,71,5,18,10,60,33,13,3,22,6,37,90,24,36,16,8,8,11,108,6,13,60,12,10,28,6,5,50,65,20,2,39,19,16,63,15,18,9,7,9,105,102,1,20,30,7,14,32,25,12,93,23,16,26,50,33,8,9,10,24,8,13,77,37,30,1,46,32,7,15,57,10,18,6,2,59,29,170,28,11,1,15,7,32,20,30,9,13,21,19,14,10,21,59,19,14,80,24,8,113,68,7,2,5,220,31,13,7,20,6,68,54,7,8,36,67,10,15,24,31,22,88,24,103,65,51,44,32,5,23,1,22,226,2,12,108,6,10,35,16,8,36,26,10,5,11,10,19,14,18,24,74,6,20,19,21,89,44,31,1221,18,3,8,50,111,1,1,74,22,12,20,75,27,16,22,1,15,10,43,4,24,11,10,11,9,15,10,29,21,62,38,17,33,34,6,26,22,47,24,2,4,32,17,13,27,33,5,33,5,10,41,19,84,18,7,36,23,2,66,24,1,19,17,39,4,69,21,14,71,18,14,46,12,17,78,16,31,2,4,7,5,66,6,20,11,29,37,59,63,40,6,116,28,40,321,61,6,17,6,53,57,29,34,19,75,5,4,13,55,14,27,36,26,2,14,13,14,64,3,21,29,49,2,30,38,11,25,16,24,29,8,31,17,13,5,27,4,1,6,29,42,60,20,28,25,3,41,38,8,24,35,17,17,56,45,28,63,67,26,21,42,41,15,9,10,23,45,2,29,15,50,11,14,39,6,11,2,152,22,24,42,7,40,106,36,42,52,20,16,729,3,47,15,142,20,35,4,5,23,11,37,8,71,26,95,28,48,73,20,18,16,10,33,9,5,5,14,15,1,8,2,33,8,1,5,42,52,4,16,10,25,15,6,47,5,7,5,19,42,88,51,12,16,2,8,15,21,3,5,26,9,7,34,21,15,18,9,36,23,9,27,1,14,6,15,42,12,11,17,84,12,60,7,17,4,20,64,15,93,23,62,6,8,13,20,13,7,8,16,4,50,16,38,27,6,8,7,6,13,10,33,12,6,16,18,20,4,29,29,23,1,52,16,63,34,3,19,15,20,133,101,40,12,23,9,51,38,19,18,58,2,5,12,6,27,2,28,39,5,8,25,68,21,8,7,18,27,13,7,29,124,17,28,26,14,19,21,3,45,18,124,42,11,73,6,11,19,2,10,5,90,27,29,3,27,8,33,64,2,11,7,7,44,31,20,38,18,45,45,24,15,32,7,10,2,2,9,28,1,27,5,16,5,15,33,4,26,1,75,21,81,9,23,7,54,26,23,28,58,19,12,15,116,175,39,53,658,27,11,31,5,37,13,2,6,35,34,7,17,8,4,41,4,156,62,27,19,13,44,36,10,2,16,55,3,29,19,39,7,23,33,50,6,83,100,26,11,33,43,28,27,89,9,19,192,34,53,6,78,15,47,14,53,32,134,7,14,37,24,50,7,62,9,15,3,65,28,36,10,55,33,51,16,1,6,38,25,22,2,5,119,19,10,33,36,18,24,20,5,11,22,11,61,42,11,30,14,28,13,2,195,18,17,18,94,81,2,10,10,33,19,20,203,9,26,279,18,28,1,45,21,10,5,38,2,19,25,67,42,8,7,2,23,25,6,9,33,4,18,7,9,59,4,12,81,10,29,41,30,61,10,17,58,54,40,12,11,9,32,29,10,5,17,3,10,7,5,26,6,5,32,3,13,12,18,38,15,17,57,46,42,14,19,26,49,62,49,8,3,16,2,3,18,48,39,16,5,4,5,172,72,50,10,2,7,5,30,17,86,25,26,42,18,48,12,12,53,17,45,7,7,11,13,4,24,19,24,29,30,12,18,28,38,10,9,33,21,5,54,167,27,31,29,18,52,18,5,66,5,29,3,3,2,21,4,31,7,1,23,70,26,14,3,83,69,14,3,25,4,19,14,34,42,102,35,12,65,68,57,20,7,34,42,3,10,17,47,60,19,3,38,35,12,20,35,2,19,47,7,6,43,12,50,15,5,15,28,26,36,43,9,14,6,6,21,31,43,40,2,7,58,39,7,26,4,18,43,121,47,36,84,10,8,20,5,20,32,7,20,3,28,21,7,6,15,7,20,20,25,20,22,81,6,14,4,38,8,79,21,5,4,1,27,9,23,8,30,80,30,529,4,12,28,172,15,17,27,8,24,29,30,9,17,19,4,9,9,32,30,16,14,34,54,55,12,3,32,16,26,22,21,5,12,34,8,15,234,12,2,12,76,57,73,8,78,14,62,30,52,44,6,31,106,14,79,38,19,45,39,41,15,6,42,14,45,3,8,16,5,11,11,54,6,8,153,4,12,20,3,29,72,37,28,7,22,85,5,11,13,45,81,35,36,7,14,4,56,36,17,3,4,12,44,4,15,10,8,23,6,489,8,18,6,6,35,30,8,14,11,26,72,22,51,8,8,53,34,29,10,7,30,31,19,7,4,12,5,3,28,29,7,34,19,28,46,10,29,29,19,6,20,2,56,15,87,3,2,31,102,99,5,12,24,34,1,70,17,6,7,8,3,61,19,15,21,4,43,45,43,32,8,16,43,40,24,16,16,22,54,39,5,173,28,54,93,67,3,11,24,11,18,53,80,29,12,15,17,11,21,211,82,4,14,28,23,62,20,89,25,17,21,17,5,103,23,9,15,91,46,46,6,16,50,28,11,136,15,110,48,32,38,58,229,8,42,8,8,9,15,53,76,71,7,3,4,9,149,5,28,7,7,27,34,9,71,29,42,57,9,14,16,74,40,17,11,12,18,18,5,20,67,18,14,5,47,48,25,11,30,12,3,23,9,2,52,55,7,4,23,47,6,22,22,57,29,30,68,56,30,11,16,7,36,7,24,33,19,13,13,11,35,9,7,43,110,20,24,11,44,133,35,64,11,13,29,17,26,75,3,4,7,413,13,8,36,5,24,14,15,9,32,28,24,81,8,3,26,24,34,13,12,32,6,32,16,9,17,7,18,55,12,7,24,13,65,14,6,4,17,30,33,56,23,37,7,9,11,11,43,9,4,18,29,18,10,6,15,32,36,57,33,23,7,5,119,43,38,7,14,4,18,101,6,24,125,55,19,43,95,28,10,7,16,42,5,29,8,38,19,3,38,54,17,3,8,65,5,109,42,5,24,46,56,16,2,4,23,10,1,1186,62,3,21,15,13,9,2,1,118,9,79,20,6,8,23,11,27,38,35,6,56,38,12,55,222,65,11,19,42,52,2,12,32,20,46,239,13,130,17,214,8,98,18,28,7,2,19,9,1,15,9,62,24,77,23,1,42,16,27,27,28,18,10,18,8,119,3,12,1,16,8,75,16,30,66,59,27,8,2,10,12,90,34,18,17,181,39,31,7,13,27,15,17,10,36,48,118,8,12,16,27,42,8,18,7,28,66,36,11,17,10,2,40,22,32,49,14,17,8,48,3,30,46,69,59,25,27,8,64,37,198,3,1,35,33,21,8,20,11,44,47,46,9,1,35,188,30,5,9,12,8,53,2,68,6,702,6,14,18,2,41,46,22,3,30,17,26,16,13,22,39,18,14,17,80,15,54,35,2,10,29,1,29,13,17,13,15,30,5,20,12,9,8,16,54,14,36,31,9,5,51,20,32,77,21,7,29,31,35,47,7,27,15,22,14,91,25,25,9,12,3,15,29,39,17,7,16,27,48,4,10,34,20,3,5,22,21,8,661,59,38,99,17,6,42,6,70,12,16,4,26,10,8,9,8,35,34,98,23,39,160,48,14,83,18,19,20,12,19,29,8,27,4,25,26,25,19,11,18,9,25,51,22,14,59,62,18,7,15,31,29,12,26,19,33,62,4,8,22,17,11,18,10,9,33,16,42,91,31,16,5,29,10,3,8,13,27,83,46,2,15,3,6,42,7,37,41,24,6,35,25,12,132,4,3,36,3,38,60,27,15,8,4,8,56,4,69,24,10,15,16,9,39,4,9,16,4,8,10,11,29,8,75,32,20,70,11,73,87,40,23,12,5,4,16,5,13,131,9,83,41,87,36,1,29,107,5,15,25,4,6,22,2,11,199,132,7,25,10,20,7,14,40,1,23,61,38,8,33,4,3,42,43,6,24,27,56,22,37,12,20,13,27,14,6,17,38,18,36,12,16,18,22,27,93,14,5,19,7,5,67,20,5,18,10,51,5,38,29,9,34,49,18,10,11,121,7,83,19,33,3,81,44,10,11,3,33,22,4,15,27,17,9,50,5,37,7,13,14,50,9,87,6,7,47,7,55,89,28,6,191,23,25,50,15,12,61,25,21,90,20,569,7,23,2,44,18,12,23,27,1,50,3,30,32,6,9,42,8,48,8,120,36,27,55,40,3,29,45,10,55,25,6,37,3,14,19,29,56,28,4,3,30,13,178,17,16,21,39,46,34,68,77,81,11,14,10,30,6,26,13,99,8,22,26,9,21,40,43,39,3,4,117,8,61,5,5,8,6,47,10,23,1,4,9,9,10,10,1,32,18,112,13,17,38,4,54,15,34,10,4,10,19,21,28,3,10,12,23,32,2,16,4,10,8,12,36,14,37,15,22,7,58,11,8,20,10,14,37,21,46,57,28,1,11,1,30,47,16,6,17,12,6,17,3,38,9,13,29,4,7,73,16,115,22,28,24,73,1,87,44,64,48,14,7,62,7,418,30,22,43,24,18,20,62,9,30,40,78,14,50,12,15,111,58,14,43,19,27,16,18,9,6,25,17,1,33,20,22,17,10,12,25,61,2,5,28,52,19,33,18,60,14,14,5,14,28,6,16,8,12,28,29,19,34,18,15,21,9,8,73,47,44,34,4,17,15,75,30,9,16,2,13,12,23,29,81,26,44,10,34,46,52,12,24,15,22,51,12,58,380,33,99,7,3,13,7,4,40,49,8,28,66,33,10,101,39,112,32,26,12,7,104,29,40,45,20,88,23,20,11,28,39,55,29,6,11,23,40,15,32,8,17,4,10,11,109,9,21,28,55,27,11,59,2,50,16,29,42,46,2,13,9,48,3,35,24,4,17,15,1,21,7,67,11,9,40,25,46,21,5,35,102,14,14,19,11,10,9,8,13,8,28,18,13,26,29,24,28,16,7,9,86,110,183,12,33,11,33,3,1,109,21,18,9,25,55,35,7,31,10,7,39,9,4,11,3,8,7,9,30,6,2,57,39,27,15,13,6,11,30,210,32,42,16,62,63,7,8,15,65,12,4,7,28,127,13,22,37,70,20,12,16,64,7,2,124,14,7,19,14,2,79,27,57,18,47,59,3,21,128,4,7,6,12,2,31,39,6,45,18,3,7,29,77,8,27,31,39,39,7,271,5,24,6,5,70,14,78,20,16,12,36,59,88,68,12,32,11,28,3,5,4,3,10,18,35,111,14,68,2,1,15,82,13,32,4,16,28,38,28,8,226,215,47,31,14,13,12,12,5,23,8,42,9,2,38,4,116,18,2,51,40,15,19,8,19,17,23,23,19,48,3,266,28,13,37,114,55,14,9,4,14,6,21,15,27,4,19,11,116,35,5,41,19,38,8,25,19,7,28,9,2,16,15,28,19,99,26,28,5,45,1768,38,22,18,50,3,23,35,27,3,35,17,34,21,24,14,55,9,37,62,51,101,25,10,22,24,38,130,12,33,17,9,34,52,15,18,32,18,30,11,7,44,50,48,8,6,3,15,22,251,3,20,67,13,35,63,5,65,16,15,51,18,17,14,17,10,52,55,60,33,24,41,25,43,11,21,25,29,39,6,24,385,30,4,5,5,6,824,10,1,7,13,5,56,12,7,18,6,52,11,11,15,54,9,12,1,28,2,14,15,10,23,3,16,32,1,18,14,8,77,12,21,6,16,28,18,59,42,33,20,5,31,34,10,4,2,20,5,5,30,22,20,36,16,26,4,27,20,32,6,3,27,9,42,22,42,18,3,85,8,41,2,19,25,17,11,67,16,25,26,4,12,26,3,6,6,18,95,31,53,23,47,293,5,16,3,27,29,28,18,22,8,11,46,40,6,70,10,22,10,12,5,45,5,11,24,51,58,10,16,23,16,11,3,39,18,165,10,18,36,12,28,13,20,31,22,23,5,27,20,46,42,21,26,84,14,15,80,6,19,74,35,29,9,75,7,30,55,11,142,72,6,84,1,51,66,15,9,34,7,132,66,18,150,89,6,23,9,134,26,22,14,28,7,38,26,68,53,23,24,7,50,102,7,61,104,82,17,64,10,35,21,38,65,49,43,40,51,69,12,30,2,5,12,3,12,54,16,57,38,60,17,93,64,93,56,107,11,23,64,18,9,7,3,25,40,33,9,5,6,38,15,223,10,14,6,19,3,84,39,7,34,59,5,9,13,35,25,5,43,25,9,42,31,22,14,8,7,68,69,14,44,51,4,7,6,19,5,86,54,9,2,8,24,9,37,4,49,42,9,32,47,27,3,57,62,6,14,33,65,25,4,37,23,49,53,22,20,37,6,26,39,3,21,88,4,2,50,48,45,46,20,20,16,14,13,42,20,26,54,2,32,27,153,3,69,2,73,26,11,3,9,60,67,10,11,38,40,28,1,15,51,1,58,18,51,31,20,7,131,118,13,64,66,90,33,25,13,5,13,15,5,32,81,64,48,28,2,7,11,9,21,11,56,4,11,207,106,31,21,41,15,3,6,4,41,62,14,11,29,5,41,57,7,21,69,31,158,23,4,5,11,35,11,40,23,37,31,4,9,18,58,29,3,6,11,51,56,22,19,1,2,9,11,6,8,7,260,19,10,14,17,24,3,37,11,47,4,29,20,7,25,20,11,46,240,4,18,161,11,84,12,7,9,26,3,168,36,55,17,14,40,13,13,17,12,25,10,8,1,22,18,17,2,10,165,13,50,18,6,10,40,37,15,13,37,39,23,2,34,56,29,31,31,22,15,35,20,9,98,32,19,8,17,31,11,8,92,18,4,8,2,2,36,5,27,84,88,18,64,5,30,4,145,44,14,20,26,4,15,27,35,40,6,27,37,7,20,4,117,71,5,2,59,74,2,16,64,3,34,10,46,3,63,4,28,27,17,28,21,5,11,27,5,39,26,48,4,5,54,28,22,9,1,13,321,66,24,18,8,15,27,34,15,8,91,11,24,40,13,15,120,15,18,13,16,24,25,14,14,11,20,18,19,29,52,27,20,7,4,33,9,19,11,20,9,29,33,41,21,12,44,9,10,50,5,11,28,41,82,15,25,4,41,9,32,4,3,191,72,14,1,6,26,2,25,8,27,18,89,25,15,31,44,4,33,6,37,5,12,11,4,32,10,26,10,21,81,6,18,3,104,19,4,87,23,26,11,20,22,27,10,45,8,29,6,2,7,45,16,5,14,10,49,11,13,15,17,163,7,21,9,130,83,16,1,13,30,28,16,20,10,10,27,33,29,10,38,6,46,13,23,7,1,35,8,20,40,10,31,159,19,10,9,9,32,39,40,5,4,16,7,18,11,15,39,27,4,66,2,33,18,136,42,61,16,6,121,32,12,27,28,30,23,5,10,7,29,51,1,12,6,21,27,4,21,37,5,50,27,36,8,25,6,30,6,14,61,33,9,19,22,15,181,12,5,8,1,15,22,21,14,34,4,61,70,28,8,7,4,34,5,9,12,5,26,67,9,13,9,40,30,35,2,34,53,87,18,48,33,83,6,6,78,30,50,6,38,13,67,10,21,28,21,21,40,35,10,9,27,26,6,9,25,21,6,7,62,4,32,65,7,12,21,55,19,19,29,8,5,53,2,48,19,44,6,16,7,34,6,32,33,8,3,5,94,93,9,6,31,10,14,28,32,4,48,21,6,14,24,35,29,27,9,6,32,15,15,63,17,35,27,5,15,9,16,20,29,3,46,16,16,7,12,26,4,32,38,28,185,41,7,15,19,4,7,7,34,35,24,10,14,1,24,19,67,30,9,126,9,21,24,37,29,6,4,15,8,15,2,39,36,27,27,11,20,48,90,9,49,74,36,20,38,32,10,7,12,38,15,34,14,32,8,2,52,41,73,35,6,13,18,7,114,55,49,11,51,25,40,11,44,70,97,21,47,10,10,20,8,12,20,21,12,21,4,40,37,13,13,35,69,73,78,10,54,173,15,4,27,64,70,11,26,65,3,4,71,37,56,23,125,6,6,63,585,15,11,70,37,16,12,5,25,1,12,28,162,10,19,29,3,22,16,15,8,11,8,7,11,7,28,23,46,39,9,33,212,68,3,27,36,8,22,3,3,6,22,35,30,8,3,53,37,5,12,110,51,20,34,18,21,24,37,44,23,18,74,85,10,68,21,16,75,27,111,14,14,53,63,23,23,14,8,31,9,25,6,3,26,38,24,6,8,18,9,28,6,40,22,58,149,28,24,28,2,6,46,13,17,11,5,14,46,44,15,18,8,36,2,5,15,27,66,21,37,26,7,56,80,14,14,5,85,28,46,8,6,13,5,40,59,27,18,24,14,16,40,34,65,20,91,8,24,37,38,17,10,10,11,38,44,71,12,51,1,34,43,52,66,16,47,24,38,74,22,90,18,19,14,3,60,6,44,3,15,4,36,22,202,17,127,33,3,25,22,40,16,85,34,6,14,169,10,3,56,4,12,2,33,4,49,6,6,25,17,10,16,10,16,58,12,26,42,33,26,19,29,49,51,15,12,36,194,8,11,10,10,14,3,33,6,115,10,7,22,24,28,23,32,11,29,41,13,15,20,8,35,16,4,16,6,2307,54,34,3,15,14,52,29,14,10,14,36,11,84,4,39,165,23,22,39,8,11,3,25,26,90,19,58,17,18,21,17,44,4,32,22,6,48,3,17,6,93,27,4,7,10,25,14,15,96,11,12,13,52,25,17,10,20,60,15,8,27,83,4,49,53,4,47,2,72,33,36,54,104,13,23,3,5,10,71,3,4,12,15,9,15,13,4,7,7,5,6,4,2,5,9,27,18,58,10,7,42,27,17,8,186,37,2,89,61,60,1,2,26,6,31,18,22,80,86,35,14,47,18,19,30,20,15,29,15,8,28,12,19,35,28,2,39,16,40,26,6,6,56,12,12,34,4,31,11,5,85,64,10,19,25,10,45,12,113,43,5,28,46,21,47,30,10,30,42,18,3,29,4,4,180,7,42,94,32,16,6,32,12,9,6,28,40,121,55,24,28,36,5,8,8,44,9,11,44,21,40,11,9,9,193,216,17,19,56,41,74,14,6,62,6,48,9,8,20,18,468,54,74,33,15,4,51,30,18,39,12,25,17,15,61,10,82,2,62,7,17,16,16,65,33,10,3,37,5,4,22,15,34,32,28,11,60,30,34,55,53,8,37,10,8,63,7,11,19,44,59,7,1,8,44,1,21,12,68,4,38,83,11,15,15,32,78,7,81,23,20,64,19,12,23,7,11,37,4,31,208,32,16,2,1,16,41,62,2,105,17,9,20,15,27,4,33,12,20,54,14,62,28,2,8,13,8,69,168,10,160,86,32,10,18,24,3,44,20,25,5,87,21,13,15,41,13,2,6,33,12,13,14,3,55,28,27,18,15,25,32,2,18,10,62,15,8,38,13,81,24,10,13,22,33,41,9,36,17,13,17,10,4,79,15,5,15,23,24,91,10,13,13,38,43,9,11,36,2,17,6,22,46,62,5,12,83,31,14,37,11,19,9,2,42,19,4,29,9,12,5,58,120,29,49,284,16,15,16,4,26,11,99,21,34,22,30,30,46,7,16,17,129,47,12,33,66,7,25,13,8,5,24,56,24,76,2,6,45,21,18,13,25,6,12,76,18,63,38,59,16,58,45,1439,22,13,8,39,22,1,13,21,36,10,10,8,8,44,44,65,35,26,23,31,74,30,15,33,11,22,8,27,5,16,6,48,3,5,34,29,38,21,13,8,121,59,34,24,12,46,13,22,109,8,61,12,4,26,37,39,4,35,3,7,44,48,22,4,124,33,8,9,21,15,29,26,6,35,7,3,132,24,6,45,12,14,25,17,62,24,29,7,118,44,4,29,23,20,9,62,27,15,3,27,6,21,13,20,1,23,2,3,15,11,27,19,22,14,56,18,20,37,26,2,13,32,35,46,20,64,24,46,76,20,2,32,19,5,27,6,6,59,199,8,60,5,63,8,8,15,113,16,76,4,10,25,43,19,26,11,32,14,8,24,233,12,51,23,33,42,26,30,9,28,14,51,14,2,6,7,34,16,54,24,3,16,2,16,23,2,42,9,2,29,12,14,47,48,36,21,9,35,25,15,14,22,38,29,104,37,7,31,8,32,6,23,18,16,8,31,31,192,18,12,10,4,22,17,147,12,1,26,8,47,43,16,23,76,28,30,25,3,6,3,10,55,5,56,38,29,30,22,71,5,12,17,27,4,71,12,21,24,5,70,21,27,8,12,73,22,36,3,154,15,7,89,21,42,55,28,43,34,23,11,8,1,16,86,60,12,28,61,6,39,12,21,58,37,20,28,34,29,7,5,18,88,250,3,10,37,33,89,52,3,18,26,65,6,5,32,31,6,7,10,14,144,82,20,1,18,10,106,48,27,29,7,26,4,70,20,44,40,10,4,7,42,29,71,28,14,15,41,10,6,30,22,18,8,34,4,87,40,9,86,66,18,2,33,50,1,64,27,12,8,29,26,6,25,40,24,16,14,6,32,29,9,3,11,3,4,20,12,7,29,174,11,31,27,156,16,64,2,20,11,11,59,10,16,22,35,5,15,38,43,21,38,32,3,47,15,18,23,2,5,46,36,1,27,15,51,235,9,42,14,26,59,40,6,65,21,79,63,92,45,27,1,8,15,17,10,41,34,14,3,8,48,112,24,36,21,50,16,43,15,21,42,19,30,14,13,62,3,26,45,10,51,32,7,17,5,4,19,3,18,122,16,4,10,4,34,4,6,5,10,27,29,7,11,30,3,17,33,3,20,2,6,45,46,8,30,8,33,22,32,42,45,30,11,105,208,6,45,1,33,31,38,31,34,16,20,30,13,9,79,19,66,26,38,2,12,1,16,9,13,24,15,32,54,25,81,15,39,104,8,51,12,12,2,14,37,14,32,48,29,38,48,4,13,8,34,28,40,21,14,7,55,3,28,137,60,15,19,87,4,15,13,38,7,36,2,4,8,15,198,7,2,16,52,7,14,8,11,9,12,14,6,16,4,13,37,28,3,40,43,45,62,29,41,13,45,34,10,21,17,12,12,10,127,2,7,40,11,4,50,66,23,14,4,67,17,60,54,7,8,48,3,10,3,25,6,52,6,16,48,52,4,4,13,31,3,11,22,11,5,18,17,11,11,62,12,46,7,85,37,19,65,132,7,26,52,18,76,270,9,30,5,24,32,45,29,20,13,12,1,23,56,19,39,11,60,20,21,15,36,24,19,27,888,5,24,20,21,82,3,4,2,12,5,13,43,26,37,3,19,18,25,18,6,40,6,58,32,40,29,16,10,68,9,7,12,19,20,29,13,69,6,106,78,51,2,2,3,24,16,25,25,62,65,25,12,7,43,42,4,50,32,17,3,2,14,35,37,5,10,4,4,19,26,2,6,21,9,10,37,13,18,29,19,6,30,140,23,8,18,21,35,9,34,12,18,45,6,18,3,15,82,9,10,40,5,39,45,39,15,29,28,27,48,16,4,6,24,93,91,3,13,2,18,3,19,55,15,5,7,19,50,68,7,40,49,12,218,60,67,9,22,90,16,11,8,43,9,41,9,19,11,27,24,6,4,13,1,25,88,34,38,6,36,21,35,26,5,3,15,5,17,21,39,33,29,40,28,22,14,17,126,54,47,7,19,40,32,9,43,27,32,7,20,21,9,12,39,1,7,3,5,12,125,29,23,17,43,3,5,16,19,20,11,129,8,1,19,266,21,7,116,22,7,43,32,98,46,66,18,1,4,112,29,9,30,30,37,27,6,19,22,19,18,7,57,40,34,59,15,8,4,62,4,34,15,6,20,8,10,43,57,25,19,28,15,35,10,98,50,53,37,6,5,15,13,12,15,6,6,52,30,7,69,1,94,9,26,19,121,8,83,58,5,9,32,18,28,7,7,16,14,18,24,13,5,42,39,30,11,20,3,10,95,26,54,76,63,15,5,6,8,9,14,20,12,755,42,37,5,14,76,4,30,45,48,62,12,9,64,26,6,60,23,52,11,29,34,80,42,39,11,4,18,22,16,44,109,3,2,7,17,1,4,35,38,8,53,22,11,3,5,77,555,1,68,5,12,3,63,13,32,14,24,12,3,46,24,1,1,75,14,5,50,302,26,36,9,25,2,2,71,10,27,24,7,10,19,4,60,9,4,8,29,70,6,59,10,5,11,16,8,23,33,11,6,23,23,27,13,29,2,34,35,10,4,38,63,19,16,12,16,13,26,26,5,60,9,34,3,14,7,23,28,125,14,17,25,3,54,37,45,145,46,50,20,54,32,29,9,12,12,2,132,22,3,1,34,39,10,56,22,17,6,363,10,12,108,3,2,28,7,92,11,36,16,27,20,21,12,2,30,9,5,5,9,15,27,10,6,20,4,9,11,5,11,2,32,41,39,34,52,32,7,27,17,22,111,10,32,10,5,105,4,51,11,37,64,5,23,18,14,20,4,28,58,7,16,25,10,57,25,8,15,7,85,19,79,70,12,56,8,10,9,17,93,9,37,15,31,73,20,11,6,95,28,26,63,15,26,13,7,62,19,98,11,6,8,13,11,4,26,17,46,38,21,38,5,37,29,10,76,22,56,23,32,23,72,24,13,8,34,10,21,13,32,22,26,55,2,8,2,10,17,9,17,14,6,39,6,5,16,33,17,13,15,20,19,9,13,25,6,74,35,2,23,52,32,5,14,9,57,11,12,87,18,10,35,28,54,148,10,4,12,18,40,41,23,20,19,19,8,48,21,16,10,57,6,46,68,6,48,38,19,36,12,7,6,9,10,31,6,31,32,11,35,9,22,8,4,14,15,29,30,60,33,24,65,15,17,8,29,7,37,16,4,17,26,24,16,11,48,13,50,5,11,14,28,13,57,52,23,14,5,21,14,13,16,3,87,4,16,6,129,18,85,7,25,26,3,15,14,34,38,9,7,2,35,14,9,29,62,27,8,22,6,13,16,19,12,50,15,108,16,54,8,5,7,23,7,20,26,40,40,17,15,21,7,5,56,5,3,7,25,45,14,12,191,61,46,12,24,80,79,4,30,46,79,78,3,5,19,51,25,36,28,35,56,6,14,6,10,16,28,15,19,41,17,40,104,25,5,14,16,55,34,1,43,5,17,68,19,13,41,61,15,35,13,166,12,25,13,51,52,1,6,27,44,73,24,14,4,6,19,5,62,1,2,19,35,48,39,8,9,5,25,12,24,31,18,27,41,148,66,15,15,5,22,17,51,3,40,5,14,9,3,45,35,1,6,12,19,9,12,14,51,45,36,26,16,37,55,2,119,44,26,14,27,19,103,50,12,15,10,73,20,87,26,9,40,26,14,47,18,13,57,79,34,27,103,14,36,1,11,5,3,19,11,2,30,29,32,18,21,4,80,20,9,20,21,16,5,81,32,25,8,10,51,2,8,34,8,2,134,17,17,364,14,15,30,18,29,10,5,37,14,52,59,40,4,27,6,40,49,5,13,17,7,103,39,20,26,20,18,8,23,8,43,5,16,48,33,41,43,13,38,49,50,67,26,8,23,264,54,65,36,69,43,51,22,43,5,14,95,46,18,78,20,6,37,2,3,74,8,50,38,2,73,11,35,6,13,18,32,5,8,6,3,26,14,28,42,95,4,22,5,13,9,24,9,9,8,56,3,17,7,27,5,7,10,21,16,33,21,74,5,11,5,17,134,7,12,4,7,64,10,26,35,33,14,85,9,4,19,37,12,65,32,25,16,51,40,13,4,95,35,62,21,46,4,21,17,26,28,54,21,16,30,2,34,7,16,29,9,19,32,42,29,7,34,3,11,42,8,65,126,37,10,283,89,11,45,23,7,49,23,8,4,136,67,54,36,9,15,8,17,11,4,58,47,1,27,7,51,22,17,25,31,9,8,8,31,14,1,4,33,21,18,16,8,2,29,9,24,5,14,87,12,26,110,58,3,15,10,48,64,14,74,43,8,98,12,11,134,5,5,1,7,25,5,3,7,45,54,25,59,135,8,10,229,9,8,43,3,36,33,5,51,64,10,10,117,21,81,15,33,43,7,84,7,46,36,10,2,24,9,17,7,7,59],\"x0\":\" \",\"xaxis\":\"x\",\"y0\":\" \",\"yaxis\":\"y\"}],                        {\"legend\":{\"tracegroupgap\":0},\"margin\":{\"t\":60},\"template\":{\"data\":{\"bar\":[{\"error_x\":{\"color\":\"#2a3f5f\"},\"error_y\":{\"color\":\"#2a3f5f\"},\"marker\":{\"line\":{\"color\":\"#E5ECF6\",\"width\":0.5},\"pattern\":{\"fillmode\":\"overlay\",\"size\":10,\"solidity\":0.2}},\"type\":\"bar\"}],\"barpolar\":[{\"marker\":{\"line\":{\"color\":\"#E5ECF6\",\"width\":0.5},\"pattern\":{\"fillmode\":\"overlay\",\"size\":10,\"solidity\":0.2}},\"type\":\"barpolar\"}],\"carpet\":[{\"aaxis\":{\"endlinecolor\":\"#2a3f5f\",\"gridcolor\":\"white\",\"linecolor\":\"white\",\"minorgridcolor\":\"white\",\"startlinecolor\":\"#2a3f5f\"},\"baxis\":{\"endlinecolor\":\"#2a3f5f\",\"gridcolor\":\"white\",\"linecolor\":\"white\",\"minorgridcolor\":\"white\",\"startlinecolor\":\"#2a3f5f\"},\"type\":\"carpet\"}],\"choropleth\":[{\"colorbar\":{\"outlinewidth\":0,\"ticks\":\"\"},\"type\":\"choropleth\"}],\"contour\":[{\"colorbar\":{\"outlinewidth\":0,\"ticks\":\"\"},\"colorscale\":[[0.0,\"#0d0887\"],[0.1111111111111111,\"#46039f\"],[0.2222222222222222,\"#7201a8\"],[0.3333333333333333,\"#9c179e\"],[0.4444444444444444,\"#bd3786\"],[0.5555555555555556,\"#d8576b\"],[0.6666666666666666,\"#ed7953\"],[0.7777777777777778,\"#fb9f3a\"],[0.8888888888888888,\"#fdca26\"],[1.0,\"#f0f921\"]],\"type\":\"contour\"}],\"contourcarpet\":[{\"colorbar\":{\"outlinewidth\":0,\"ticks\":\"\"},\"type\":\"contourcarpet\"}],\"heatmap\":[{\"colorbar\":{\"outlinewidth\":0,\"ticks\":\"\"},\"colorscale\":[[0.0,\"#0d0887\"],[0.1111111111111111,\"#46039f\"],[0.2222222222222222,\"#7201a8\"],[0.3333333333333333,\"#9c179e\"],[0.4444444444444444,\"#bd3786\"],[0.5555555555555556,\"#d8576b\"],[0.6666666666666666,\"#ed7953\"],[0.7777777777777778,\"#fb9f3a\"],[0.8888888888888888,\"#fdca26\"],[1.0,\"#f0f921\"]],\"type\":\"heatmap\"}],\"heatmapgl\":[{\"colorbar\":{\"outlinewidth\":0,\"ticks\":\"\"},\"colorscale\":[[0.0,\"#0d0887\"],[0.1111111111111111,\"#46039f\"],[0.2222222222222222,\"#7201a8\"],[0.3333333333333333,\"#9c179e\"],[0.4444444444444444,\"#bd3786\"],[0.5555555555555556,\"#d8576b\"],[0.6666666666666666,\"#ed7953\"],[0.7777777777777778,\"#fb9f3a\"],[0.8888888888888888,\"#fdca26\"],[1.0,\"#f0f921\"]],\"type\":\"heatmapgl\"}],\"histogram\":[{\"marker\":{\"pattern\":{\"fillmode\":\"overlay\",\"size\":10,\"solidity\":0.2}},\"type\":\"histogram\"}],\"histogram2d\":[{\"colorbar\":{\"outlinewidth\":0,\"ticks\":\"\"},\"colorscale\":[[0.0,\"#0d0887\"],[0.1111111111111111,\"#46039f\"],[0.2222222222222222,\"#7201a8\"],[0.3333333333333333,\"#9c179e\"],[0.4444444444444444,\"#bd3786\"],[0.5555555555555556,\"#d8576b\"],[0.6666666666666666,\"#ed7953\"],[0.7777777777777778,\"#fb9f3a\"],[0.8888888888888888,\"#fdca26\"],[1.0,\"#f0f921\"]],\"type\":\"histogram2d\"}],\"histogram2dcontour\":[{\"colorbar\":{\"outlinewidth\":0,\"ticks\":\"\"},\"colorscale\":[[0.0,\"#0d0887\"],[0.1111111111111111,\"#46039f\"],[0.2222222222222222,\"#7201a8\"],[0.3333333333333333,\"#9c179e\"],[0.4444444444444444,\"#bd3786\"],[0.5555555555555556,\"#d8576b\"],[0.6666666666666666,\"#ed7953\"],[0.7777777777777778,\"#fb9f3a\"],[0.8888888888888888,\"#fdca26\"],[1.0,\"#f0f921\"]],\"type\":\"histogram2dcontour\"}],\"mesh3d\":[{\"colorbar\":{\"outlinewidth\":0,\"ticks\":\"\"},\"type\":\"mesh3d\"}],\"parcoords\":[{\"line\":{\"colorbar\":{\"outlinewidth\":0,\"ticks\":\"\"}},\"type\":\"parcoords\"}],\"pie\":[{\"automargin\":true,\"type\":\"pie\"}],\"scatter\":[{\"marker\":{\"colorbar\":{\"outlinewidth\":0,\"ticks\":\"\"}},\"type\":\"scatter\"}],\"scatter3d\":[{\"line\":{\"colorbar\":{\"outlinewidth\":0,\"ticks\":\"\"}},\"marker\":{\"colorbar\":{\"outlinewidth\":0,\"ticks\":\"\"}},\"type\":\"scatter3d\"}],\"scattercarpet\":[{\"marker\":{\"colorbar\":{\"outlinewidth\":0,\"ticks\":\"\"}},\"type\":\"scattercarpet\"}],\"scattergeo\":[{\"marker\":{\"colorbar\":{\"outlinewidth\":0,\"ticks\":\"\"}},\"type\":\"scattergeo\"}],\"scattergl\":[{\"marker\":{\"colorbar\":{\"outlinewidth\":0,\"ticks\":\"\"}},\"type\":\"scattergl\"}],\"scattermapbox\":[{\"marker\":{\"colorbar\":{\"outlinewidth\":0,\"ticks\":\"\"}},\"type\":\"scattermapbox\"}],\"scatterpolar\":[{\"marker\":{\"colorbar\":{\"outlinewidth\":0,\"ticks\":\"\"}},\"type\":\"scatterpolar\"}],\"scatterpolargl\":[{\"marker\":{\"colorbar\":{\"outlinewidth\":0,\"ticks\":\"\"}},\"type\":\"scatterpolargl\"}],\"scatterternary\":[{\"marker\":{\"colorbar\":{\"outlinewidth\":0,\"ticks\":\"\"}},\"type\":\"scatterternary\"}],\"surface\":[{\"colorbar\":{\"outlinewidth\":0,\"ticks\":\"\"},\"colorscale\":[[0.0,\"#0d0887\"],[0.1111111111111111,\"#46039f\"],[0.2222222222222222,\"#7201a8\"],[0.3333333333333333,\"#9c179e\"],[0.4444444444444444,\"#bd3786\"],[0.5555555555555556,\"#d8576b\"],[0.6666666666666666,\"#ed7953\"],[0.7777777777777778,\"#fb9f3a\"],[0.8888888888888888,\"#fdca26\"],[1.0,\"#f0f921\"]],\"type\":\"surface\"}],\"table\":[{\"cells\":{\"fill\":{\"color\":\"#EBF0F8\"},\"line\":{\"color\":\"white\"}},\"header\":{\"fill\":{\"color\":\"#C8D4E3\"},\"line\":{\"color\":\"white\"}},\"type\":\"table\"}]},\"layout\":{\"annotationdefaults\":{\"arrowcolor\":\"#2a3f5f\",\"arrowhead\":0,\"arrowwidth\":1},\"autotypenumbers\":\"strict\",\"coloraxis\":{\"colorbar\":{\"outlinewidth\":0,\"ticks\":\"\"}},\"colorscale\":{\"diverging\":[[0,\"#8e0152\"],[0.1,\"#c51b7d\"],[0.2,\"#de77ae\"],[0.3,\"#f1b6da\"],[0.4,\"#fde0ef\"],[0.5,\"#f7f7f7\"],[0.6,\"#e6f5d0\"],[0.7,\"#b8e186\"],[0.8,\"#7fbc41\"],[0.9,\"#4d9221\"],[1,\"#276419\"]],\"sequential\":[[0.0,\"#0d0887\"],[0.1111111111111111,\"#46039f\"],[0.2222222222222222,\"#7201a8\"],[0.3333333333333333,\"#9c179e\"],[0.4444444444444444,\"#bd3786\"],[0.5555555555555556,\"#d8576b\"],[0.6666666666666666,\"#ed7953\"],[0.7777777777777778,\"#fb9f3a\"],[0.8888888888888888,\"#fdca26\"],[1.0,\"#f0f921\"]],\"sequentialminus\":[[0.0,\"#0d0887\"],[0.1111111111111111,\"#46039f\"],[0.2222222222222222,\"#7201a8\"],[0.3333333333333333,\"#9c179e\"],[0.4444444444444444,\"#bd3786\"],[0.5555555555555556,\"#d8576b\"],[0.6666666666666666,\"#ed7953\"],[0.7777777777777778,\"#fb9f3a\"],[0.8888888888888888,\"#fdca26\"],[1.0,\"#f0f921\"]]},\"colorway\":[\"#636efa\",\"#EF553B\",\"#00cc96\",\"#ab63fa\",\"#FFA15A\",\"#19d3f3\",\"#FF6692\",\"#B6E880\",\"#FF97FF\",\"#FECB52\"],\"font\":{\"color\":\"#2a3f5f\"},\"geo\":{\"bgcolor\":\"white\",\"lakecolor\":\"white\",\"landcolor\":\"#E5ECF6\",\"showlakes\":true,\"showland\":true,\"subunitcolor\":\"white\"},\"hoverlabel\":{\"align\":\"left\"},\"hovermode\":\"closest\",\"mapbox\":{\"style\":\"light\"},\"paper_bgcolor\":\"white\",\"plot_bgcolor\":\"#E5ECF6\",\"polar\":{\"angularaxis\":{\"gridcolor\":\"white\",\"linecolor\":\"white\",\"ticks\":\"\"},\"bgcolor\":\"#E5ECF6\",\"radialaxis\":{\"gridcolor\":\"white\",\"linecolor\":\"white\",\"ticks\":\"\"}},\"scene\":{\"xaxis\":{\"backgroundcolor\":\"#E5ECF6\",\"gridcolor\":\"white\",\"gridwidth\":2,\"linecolor\":\"white\",\"showbackground\":true,\"ticks\":\"\",\"zerolinecolor\":\"white\"},\"yaxis\":{\"backgroundcolor\":\"#E5ECF6\",\"gridcolor\":\"white\",\"gridwidth\":2,\"linecolor\":\"white\",\"showbackground\":true,\"ticks\":\"\",\"zerolinecolor\":\"white\"},\"zaxis\":{\"backgroundcolor\":\"#E5ECF6\",\"gridcolor\":\"white\",\"gridwidth\":2,\"linecolor\":\"white\",\"showbackground\":true,\"ticks\":\"\",\"zerolinecolor\":\"white\"}},\"shapedefaults\":{\"line\":{\"color\":\"#2a3f5f\"}},\"ternary\":{\"aaxis\":{\"gridcolor\":\"white\",\"linecolor\":\"white\",\"ticks\":\"\"},\"baxis\":{\"gridcolor\":\"white\",\"linecolor\":\"white\",\"ticks\":\"\"},\"bgcolor\":\"#E5ECF6\",\"caxis\":{\"gridcolor\":\"white\",\"linecolor\":\"white\",\"ticks\":\"\"}},\"title\":{\"x\":0.05},\"xaxis\":{\"automargin\":true,\"gridcolor\":\"white\",\"linecolor\":\"white\",\"ticks\":\"\",\"title\":{\"standoff\":15},\"zerolinecolor\":\"white\",\"zerolinewidth\":2},\"yaxis\":{\"automargin\":true,\"gridcolor\":\"white\",\"linecolor\":\"white\",\"ticks\":\"\",\"title\":{\"standoff\":15},\"zerolinecolor\":\"white\",\"zerolinewidth\":2}}},\"title\":{\"text\":\"Distribution of The Events Counts per User\",\"x\":0.5,\"xanchor\":\"center\",\"y\":0.95,\"yanchor\":\"top\"},\"violinmode\":\"group\",\"xaxis\":{\"anchor\":\"y\",\"domain\":[0.0,1.0],\"title\":{\"text\":\"event_name\"}},\"yaxis\":{\"anchor\":\"x\",\"domain\":[0.0,1.0]}},                        {\"responsive\": true}                    ).then(function(){\n",
       "                            \n",
       "var gd = document.getElementById('6a673697-3a53-44d7-8589-bd119178a8bc');\n",
       "var x = new MutationObserver(function (mutations, observer) {{\n",
       "        var display = window.getComputedStyle(gd).display;\n",
       "        if (!display || display === 'none') {{\n",
       "            console.log([gd, 'removed!']);\n",
       "            Plotly.purge(gd);\n",
       "            observer.disconnect();\n",
       "        }}\n",
       "}});\n",
       "\n",
       "// Listen for the removal of the full notebook cells\n",
       "var notebookContainer = gd.closest('#notebook-container');\n",
       "if (notebookContainer) {{\n",
       "    x.observe(notebookContainer, {childList: true});\n",
       "}}\n",
       "\n",
       "// Listen for the clearing of the current output cell\n",
       "var outputEl = gd.closest('.output');\n",
       "if (outputEl) {{\n",
       "    x.observe(outputEl, {childList: true});\n",
       "}}\n",
       "\n",
       "                        })                };                });            </script>        </div>"
      ]
     },
     "metadata": {},
     "output_type": "display_data"
    }
   ],
   "source": [
    "fig = px.violin(users_events, x=\"event_name\", box=True, points='all',\n",
    "                )\n",
    "fig.update_layout(\n",
    "                  title={'text': \"Distribution of The Events Counts per User\",'y':0.95,'x':0.5,\n",
    "                         'xanchor': 'center','yanchor': 'top'}\n",
    "                 )\n",
    "fig.show()"
   ]
  },
  {
   "cell_type": "markdown",
   "metadata": {},
   "source": [
    "We have users that preform 1 action and 99 precntile 200 we have even users that preform 2300 (sounds like a bot)<br>\n",
    "Theses values can skew our data\n",
    "\n",
    "----\n",
    "Lets clean and find the avg."
   ]
  },
  {
   "cell_type": "markdown",
   "metadata": {},
   "source": [
    "<div class=\"alert alert-success\">\n",
    "<b>Reviewer's comment:</b> Good point! Since the data is highly skewed it would be necessary to use mode or median.\n",
    "</div>\n"
   ]
  },
  {
   "cell_type": "code",
   "execution_count": 49,
   "metadata": {},
   "outputs": [
    {
     "name": "stdout",
     "output_type": "stream",
     "text": [
      "Lower bound: -33.0\n",
      "Upper bound: 79.0\n"
     ]
    },
    {
     "data": {
      "text/plain": [
       "22.906857873065455"
      ]
     },
     "execution_count": 49,
     "metadata": {},
     "output_type": "execute_result"
    }
   ],
   "source": [
    "def calc_lower_upper_bounds(df, col_name):\n",
    "    # calculate Q1 and Q3\n",
    "    Q1 = df[col_name].quantile(.25)\n",
    "    Q3 = df[col_name].quantile(.75)\n",
    "\n",
    "    # calculate IQR\n",
    "    IQR = Q3-Q1\n",
    "    # calculate upper and lower bounds for outlier detection\n",
    "    outlier_lower_bound = Q1 - 1.5*IQR\n",
    "    outlier_upper_bound = Q3 + 1.5*IQR\n",
    "\n",
    "    print('Lower bound:', outlier_lower_bound) # don't need this, no value is negative\n",
    "    print('Upper bound:', outlier_upper_bound)\n",
    "    return {'lower_bound':outlier_lower_bound, 'upper_bound':outlier_upper_bound}\n",
    "\n",
    "lower_bound, upper_bound = calc_lower_upper_bounds(users_events, 'event_name').values()\n",
    "filtered_users = users_events.query('event_name < @upper_bound & event_name > @lower_bound')\n",
    "filtered_users.event_name.mean()\n"
   ]
  },
  {
   "cell_type": "code",
   "execution_count": 52,
   "metadata": {},
   "outputs": [
    {
     "data": {
      "text/plain": [
       "0.29027305150108007"
      ]
     },
     "execution_count": 52,
     "metadata": {},
     "output_type": "execute_result"
    }
   ],
   "source": [
    "(events_per_user - filtered_users.event_name.mean())/events_per_user"
   ]
  },
  {
   "cell_type": "markdown",
   "metadata": {},
   "source": [
    "from 32 to about 23 events per user.\n",
    "\n",
    "This is a big drop, close to 30%, outliers affects our data a lot.\n",
    "\n",
    "\n",
    "-----\n",
    "### What period of time does the data cover? \n",
    "* Find the maximum and the minimum date. "
   ]
  },
  {
   "cell_type": "code",
   "execution_count": 60,
   "metadata": {},
   "outputs": [
    {
     "name": "stdout",
     "output_type": "stream",
     "text": [
      "2019-08-07 21:15:17\n",
      "2019-07-25 04:43:36\n",
      "13 days 16:31:41 328.52805555555557\n"
     ]
    }
   ],
   "source": [
    "print(users_df.timestamp.max())\n",
    "print(users_df.timestamp.min())\n",
    "time_diff = users_df.timestamp.max() - users_df.timestamp.min()\n",
    "time_diff_hours = time_diff / np.timedelta64(1, 'h')\n",
    "print(time_diff, time_diff_hours)"
   ]
  },
  {
   "cell_type": "code",
   "execution_count": 61,
   "metadata": {},
   "outputs": [
    {
     "data": {
      "text/plain": [
       "22.98433839152922"
      ]
     },
     "execution_count": 61,
     "metadata": {},
     "output_type": "execute_result"
    }
   ],
   "source": [
    "num_uniqe_users / time_diff_hours"
   ]
  },
  {
   "cell_type": "markdown",
   "metadata": {},
   "source": [
    "<div class=\"alert alert-danger\">\n",
    "<s><b>Reviewer's comment:</b> The dame hardcode issue.\n",
    "</div>\n",
    "\n",
    "<div class=\"alert alert-info\"> <b>Student's comment:</b> Fixed hard code issue.</div>"
   ]
  },
  {
   "cell_type": "markdown",
   "metadata": {},
   "source": [
    "We had about 23 users per hour.\n",
    "\n",
    "------\n",
    "Lets add a date column."
   ]
  },
  {
   "cell_type": "code",
   "execution_count": 62,
   "metadata": {},
   "outputs": [
    {
     "data": {
      "text/html": [
       "<div>\n",
       "<style scoped>\n",
       "    .dataframe tbody tr th:only-of-type {\n",
       "        vertical-align: middle;\n",
       "    }\n",
       "\n",
       "    .dataframe tbody tr th {\n",
       "        vertical-align: top;\n",
       "    }\n",
       "\n",
       "    .dataframe thead th {\n",
       "        text-align: right;\n",
       "    }\n",
       "</style>\n",
       "<table border=\"1\" class=\"dataframe\">\n",
       "  <thead>\n",
       "    <tr style=\"text-align: right;\">\n",
       "      <th></th>\n",
       "      <th>event_name</th>\n",
       "      <th>user_id</th>\n",
       "      <th>timestamp</th>\n",
       "      <th>expid</th>\n",
       "      <th>date</th>\n",
       "    </tr>\n",
       "  </thead>\n",
       "  <tbody>\n",
       "    <tr>\n",
       "      <td>0</td>\n",
       "      <td>MainScreenAppear</td>\n",
       "      <td>4575588528974610257</td>\n",
       "      <td>2019-07-25 04:43:36</td>\n",
       "      <td>246</td>\n",
       "      <td>2019-07-25</td>\n",
       "    </tr>\n",
       "    <tr>\n",
       "      <td>1</td>\n",
       "      <td>MainScreenAppear</td>\n",
       "      <td>7416695313311560658</td>\n",
       "      <td>2019-07-25 11:11:42</td>\n",
       "      <td>246</td>\n",
       "      <td>2019-07-25</td>\n",
       "    </tr>\n",
       "    <tr>\n",
       "      <td>2</td>\n",
       "      <td>PaymentScreenSuccessful</td>\n",
       "      <td>3518123091307005509</td>\n",
       "      <td>2019-07-25 11:28:47</td>\n",
       "      <td>248</td>\n",
       "      <td>2019-07-25</td>\n",
       "    </tr>\n",
       "    <tr>\n",
       "      <td>3</td>\n",
       "      <td>CartScreenAppear</td>\n",
       "      <td>3518123091307005509</td>\n",
       "      <td>2019-07-25 11:28:47</td>\n",
       "      <td>248</td>\n",
       "      <td>2019-07-25</td>\n",
       "    </tr>\n",
       "    <tr>\n",
       "      <td>4</td>\n",
       "      <td>PaymentScreenSuccessful</td>\n",
       "      <td>6217807653094995999</td>\n",
       "      <td>2019-07-25 11:48:42</td>\n",
       "      <td>248</td>\n",
       "      <td>2019-07-25</td>\n",
       "    </tr>\n",
       "  </tbody>\n",
       "</table>\n",
       "</div>"
      ],
      "text/plain": [
       "                event_name              user_id           timestamp  expid  \\\n",
       "0         MainScreenAppear  4575588528974610257 2019-07-25 04:43:36    246   \n",
       "1         MainScreenAppear  7416695313311560658 2019-07-25 11:11:42    246   \n",
       "2  PaymentScreenSuccessful  3518123091307005509 2019-07-25 11:28:47    248   \n",
       "3         CartScreenAppear  3518123091307005509 2019-07-25 11:28:47    248   \n",
       "4  PaymentScreenSuccessful  6217807653094995999 2019-07-25 11:48:42    248   \n",
       "\n",
       "        date  \n",
       "0 2019-07-25  \n",
       "1 2019-07-25  \n",
       "2 2019-07-25  \n",
       "3 2019-07-25  \n",
       "4 2019-07-25  "
      ]
     },
     "execution_count": 62,
     "metadata": {},
     "output_type": "execute_result"
    }
   ],
   "source": [
    "users_df['date'] = pd.to_datetime(users_df.timestamp.dt.date)\n",
    "users_df.head()"
   ]
  },
  {
   "cell_type": "markdown",
   "metadata": {},
   "source": [
    "Lets visualize our number of actions per date."
   ]
  },
  {
   "cell_type": "code",
   "execution_count": 98,
   "metadata": {},
   "outputs": [
    {
     "data": {
      "text/html": [
       "<div>\n",
       "<style scoped>\n",
       "    .dataframe tbody tr th:only-of-type {\n",
       "        vertical-align: middle;\n",
       "    }\n",
       "\n",
       "    .dataframe tbody tr th {\n",
       "        vertical-align: top;\n",
       "    }\n",
       "\n",
       "    .dataframe thead th {\n",
       "        text-align: right;\n",
       "    }\n",
       "</style>\n",
       "<table border=\"1\" class=\"dataframe\">\n",
       "  <thead>\n",
       "    <tr style=\"text-align: right;\">\n",
       "      <th></th>\n",
       "      <th>date</th>\n",
       "      <th>event_count</th>\n",
       "      <th>user_count</th>\n",
       "      <th>pos</th>\n",
       "    </tr>\n",
       "  </thead>\n",
       "  <tbody>\n",
       "    <tr>\n",
       "      <td>0</td>\n",
       "      <td>2019-07-25</td>\n",
       "      <td>9</td>\n",
       "      <td>7</td>\n",
       "      <td>0</td>\n",
       "    </tr>\n",
       "    <tr>\n",
       "      <td>1</td>\n",
       "      <td>2019-07-26</td>\n",
       "      <td>31</td>\n",
       "      <td>22</td>\n",
       "      <td>1</td>\n",
       "    </tr>\n",
       "    <tr>\n",
       "      <td>2</td>\n",
       "      <td>2019-07-27</td>\n",
       "      <td>55</td>\n",
       "      <td>39</td>\n",
       "      <td>2</td>\n",
       "    </tr>\n",
       "    <tr>\n",
       "      <td>3</td>\n",
       "      <td>2019-07-28</td>\n",
       "      <td>105</td>\n",
       "      <td>69</td>\n",
       "      <td>3</td>\n",
       "    </tr>\n",
       "    <tr>\n",
       "      <td>4</td>\n",
       "      <td>2019-07-29</td>\n",
       "      <td>184</td>\n",
       "      <td>135</td>\n",
       "      <td>4</td>\n",
       "    </tr>\n",
       "    <tr>\n",
       "      <td>5</td>\n",
       "      <td>2019-07-30</td>\n",
       "      <td>412</td>\n",
       "      <td>296</td>\n",
       "      <td>5</td>\n",
       "    </tr>\n",
       "    <tr>\n",
       "      <td>6</td>\n",
       "      <td>2019-07-31</td>\n",
       "      <td>2030</td>\n",
       "      <td>924</td>\n",
       "      <td>6</td>\n",
       "    </tr>\n",
       "    <tr>\n",
       "      <td>7</td>\n",
       "      <td>2019-08-01</td>\n",
       "      <td>36141</td>\n",
       "      <td>3703</td>\n",
       "      <td>7</td>\n",
       "    </tr>\n",
       "    <tr>\n",
       "      <td>8</td>\n",
       "      <td>2019-08-02</td>\n",
       "      <td>35554</td>\n",
       "      <td>3647</td>\n",
       "      <td>8</td>\n",
       "    </tr>\n",
       "    <tr>\n",
       "      <td>9</td>\n",
       "      <td>2019-08-03</td>\n",
       "      <td>33282</td>\n",
       "      <td>3482</td>\n",
       "      <td>9</td>\n",
       "    </tr>\n",
       "    <tr>\n",
       "      <td>10</td>\n",
       "      <td>2019-08-04</td>\n",
       "      <td>32968</td>\n",
       "      <td>3527</td>\n",
       "      <td>10</td>\n",
       "    </tr>\n",
       "    <tr>\n",
       "      <td>11</td>\n",
       "      <td>2019-08-05</td>\n",
       "      <td>36058</td>\n",
       "      <td>3802</td>\n",
       "      <td>11</td>\n",
       "    </tr>\n",
       "    <tr>\n",
       "      <td>12</td>\n",
       "      <td>2019-08-06</td>\n",
       "      <td>35788</td>\n",
       "      <td>3922</td>\n",
       "      <td>12</td>\n",
       "    </tr>\n",
       "    <tr>\n",
       "      <td>13</td>\n",
       "      <td>2019-08-07</td>\n",
       "      <td>31096</td>\n",
       "      <td>3651</td>\n",
       "      <td>13</td>\n",
       "    </tr>\n",
       "  </tbody>\n",
       "</table>\n",
       "</div>"
      ],
      "text/plain": [
       "         date  event_count  user_count  pos\n",
       "0  2019-07-25            9           7    0\n",
       "1  2019-07-26           31          22    1\n",
       "2  2019-07-27           55          39    2\n",
       "3  2019-07-28          105          69    3\n",
       "4  2019-07-29          184         135    4\n",
       "5  2019-07-30          412         296    5\n",
       "6  2019-07-31         2030         924    6\n",
       "7  2019-08-01        36141        3703    7\n",
       "8  2019-08-02        35554        3647    8\n",
       "9  2019-08-03        33282        3482    9\n",
       "10 2019-08-04        32968        3527   10\n",
       "11 2019-08-05        36058        3802   11\n",
       "12 2019-08-06        35788        3922   12\n",
       "13 2019-08-07        31096        3651   13"
      ]
     },
     "metadata": {},
     "output_type": "display_data"
    }
   ],
   "source": [
    "users_pt_date = users_df.pivot_table(index = 'date', values=['event_name','user_id'], aggfunc={'event_name':'count','user_id':'nunique'})\n",
    "users_pt_date = users_pt_date.reset_index()\n",
    "users_pt_date['pos'] = [0,1,2,3,4,5,6,7,8,9,10,11,12,13]\n",
    "users_pt_date.columns = ['date','event_count','user_count','pos']\n",
    "x_dates = users_pt_date['date'].dt.strftime('%Y-%m-%d')\n",
    "display(users_pt_date)\n"
   ]
  },
  {
   "cell_type": "code",
   "execution_count": 109,
   "metadata": {},
   "outputs": [
    {
     "data": {
      "image/png": "[encoded data removed]",
      "text/plain": [
       "<Figure size 1440x720 with 1 Axes>"
      ]
     },
     "metadata": {},
     "output_type": "display_data"
    }
   ],
   "source": [
    "fig, ax = plt.subplots(figsize=(20,10))\n",
    "sns.barplot(x = users_pt_date.date, y = users_pt_date.event_count)\n",
    "ax.set_xticklabels(labels=x_dates, rotation=45, ha='right')\n",
    "for row in users_pt_date.itertuples():\n",
    "    ax.text(row.pos - 0.25, row.event_count + 200 ,s=row.event_count)\n",
    "\n",
    "plt.title('Number of events per day')\n",
    "plt.xticks(rotation=45);"
   ]
  },
  {
   "cell_type": "markdown",
   "metadata": {},
   "source": [
    "We had a big spike in number of actions on \n",
    "\n",
    "---\n",
    "Lets check number of users."
   ]
  },
  {
   "cell_type": "code",
   "execution_count": 106,
   "metadata": {},
   "outputs": [
    {
     "name": "stdout",
     "output_type": "stream",
     "text": [
      "0\n",
      "1\n",
      "2\n",
      "3\n",
      "4\n",
      "5\n",
      "6\n",
      "7\n",
      "8\n",
      "9\n",
      "10\n",
      "11\n",
      "12\n",
      "13\n"
     ]
    },
    {
     "data": {
      "image/png": "[encoded data removed]",
      "text/plain": [
       "<Figure size 1440x720 with 1 Axes>"
      ]
     },
     "metadata": {},
     "output_type": "display_data"
    }
   ],
   "source": [
    "fig, ax = plt.subplots(figsize=(20,10))\n",
    "sns.barplot(x = users_pt_date.index, y = users_pt_date.user_count)\n",
    "\n",
    "x_dates = users_pt_date['date'].dt.strftime('%Y-%m-%d')\n",
    "ax.set_xticklabels(labels=x_dates, rotation=45, ha='right')\n",
    "\n",
    "for row in users_pt_date.itertuples():\n",
    "    ax.text(row.pos - 0.25, row.user_count + 20,s=row.user_count)\n",
    "plt.title('Number of users per day');"
   ]
  },
  {
   "cell_type": "markdown",
   "metadata": {},
   "source": [
    "<div class=\"alert alert-warning\">\n",
    "<b>Reviewer's comment: </b> Small hint: you can improve your barplot with values adding. Check this link:<a>https://robertmitchellv.com/blog-bar-chart-annotations-pandas-mpl.html</a>\n",
    "</div>\n",
    "\n",
    "<div class=\"alert alert-info\">\n",
    "Added values to bars\n",
    "</div>"
   ]
  },
  {
   "cell_type": "markdown",
   "metadata": {},
   "source": [
    "Our take away so far:\n",
    "We see a big spike on 2019-08-01, in users and actions.\n",
    "\n",
    "From that date we see the number of actions is close to 10 times the number of users.<br>\n",
    "\n",
    "--------------\n",
    "Our experiments require to have data with the same proprtions we see that from 2019-08-01 to 2019-08-08 our data in each date has similar number of users and similar number of event, if we include data prior to 2019-08-01 our experiments might be affected. <br>\n",
    "We should exclude data from 2019-07-31 (not including) backward,and see how it affects our data."
   ]
  },
  {
   "cell_type": "code",
   "execution_count": 110,
   "metadata": {},
   "outputs": [
    {
     "data": {
      "text/html": [
       "<div>\n",
       "<style scoped>\n",
       "    .dataframe tbody tr th:only-of-type {\n",
       "        vertical-align: middle;\n",
       "    }\n",
       "\n",
       "    .dataframe tbody tr th {\n",
       "        vertical-align: top;\n",
       "    }\n",
       "\n",
       "    .dataframe thead th {\n",
       "        text-align: right;\n",
       "    }\n",
       "</style>\n",
       "<table border=\"1\" class=\"dataframe\">\n",
       "  <thead>\n",
       "    <tr style=\"text-align: right;\">\n",
       "      <th></th>\n",
       "      <th>event_name</th>\n",
       "      <th>user_id</th>\n",
       "      <th>timestamp</th>\n",
       "      <th>expid</th>\n",
       "      <th>date</th>\n",
       "    </tr>\n",
       "  </thead>\n",
       "  <tbody>\n",
       "    <tr>\n",
       "      <td>2828</td>\n",
       "      <td>Tutorial</td>\n",
       "      <td>3737462046622621720</td>\n",
       "      <td>2019-08-01 00:07:28</td>\n",
       "      <td>246</td>\n",
       "      <td>2019-08-01</td>\n",
       "    </tr>\n",
       "    <tr>\n",
       "      <td>2829</td>\n",
       "      <td>MainScreenAppear</td>\n",
       "      <td>3737462046622621720</td>\n",
       "      <td>2019-08-01 00:08:00</td>\n",
       "      <td>246</td>\n",
       "      <td>2019-08-01</td>\n",
       "    </tr>\n",
       "    <tr>\n",
       "      <td>2830</td>\n",
       "      <td>MainScreenAppear</td>\n",
       "      <td>3737462046622621720</td>\n",
       "      <td>2019-08-01 00:08:55</td>\n",
       "      <td>246</td>\n",
       "      <td>2019-08-01</td>\n",
       "    </tr>\n",
       "    <tr>\n",
       "      <td>2831</td>\n",
       "      <td>OffersScreenAppear</td>\n",
       "      <td>3737462046622621720</td>\n",
       "      <td>2019-08-01 00:08:58</td>\n",
       "      <td>246</td>\n",
       "      <td>2019-08-01</td>\n",
       "    </tr>\n",
       "    <tr>\n",
       "      <td>2832</td>\n",
       "      <td>MainScreenAppear</td>\n",
       "      <td>1433840883824088890</td>\n",
       "      <td>2019-08-01 00:08:59</td>\n",
       "      <td>247</td>\n",
       "      <td>2019-08-01</td>\n",
       "    </tr>\n",
       "  </tbody>\n",
       "</table>\n",
       "</div>"
      ],
      "text/plain": [
       "              event_name              user_id           timestamp  expid  \\\n",
       "2828            Tutorial  3737462046622621720 2019-08-01 00:07:28    246   \n",
       "2829    MainScreenAppear  3737462046622621720 2019-08-01 00:08:00    246   \n",
       "2830    MainScreenAppear  3737462046622621720 2019-08-01 00:08:55    246   \n",
       "2831  OffersScreenAppear  3737462046622621720 2019-08-01 00:08:58    246   \n",
       "2832    MainScreenAppear  1433840883824088890 2019-08-01 00:08:59    247   \n",
       "\n",
       "           date  \n",
       "2828 2019-08-01  \n",
       "2829 2019-08-01  \n",
       "2830 2019-08-01  \n",
       "2831 2019-08-01  \n",
       "2832 2019-08-01  "
      ]
     },
     "metadata": {},
     "output_type": "display_data"
    },
    {
     "name": "stdout",
     "output_type": "stream",
     "text": [
      "Number of events before 2019-07-31: 2826\n",
      "Precentage of number of event filtered: 1.159560630741897\n",
      "Number of users before 2019-07-31: 1492\n",
      "Percentage of users filtered: 19.758972321546814\n",
      "Are the total number of event after filtering is as expected? : True\n"
     ]
    }
   ],
   "source": [
    "users_filtered_by_date = users_df[users_df['date'] > '2019-07-31']\n",
    "display(users_filtered_by_date.head())\n",
    "\n",
    "# checking to make sure the number of events and users is as expected.\n",
    "num_events_before = users_pt_date.loc[0:6].event_count.sum()\n",
    "num_users_before = users_pt_date.loc[0:6].user_count.sum()\n",
    "print('Number of events before 2019-07-31:',num_events_before)\n",
    "print('Precentage of number of event filtered:', num_events_before / len(users_df) * 100)\n",
    "print('Number of users before 2019-07-31:', num_users_before )\n",
    "print('Percentage of users filtered:', num_users_before / num_uniqe_users * 100)\n",
    "print('Are the total number of event after filtering is as expected? :',(len(users_df) - num_events_before) == len(users_filtered_by_date))"
   ]
  },
  {
   "cell_type": "markdown",
   "metadata": {},
   "source": [
    "<div class=\"alert alert-danger\">\n",
    "<s><b>Reviewer's comment:</b> Result are correct, but again, hardcoded constants 796 and 7551.\n",
    "</div>\n",
    "\n",
    "<div class=\"alert alert-info\">\n",
    "Fixed hard coded issue\n",
    "</div>"
   ]
  },
  {
   "cell_type": "markdown",
   "metadata": {},
   "source": [
    "### Did you lose many events and users when excluding the older data?\n",
    "    \n",
    "After filtering a concern arises that our prvious question, **Average number of events per user** has a different result.\n",
    "\n",
    "But since we filtered out 796 which are about 0.32 the affects are neglegible. <br>\n",
    "Our precentage of users is much bigger, 19.75%.\n",
    "**We should make sure the proportions of our experiment groups stay close.**"
   ]
  },
  {
   "cell_type": "code",
   "execution_count": 111,
   "metadata": {},
   "outputs": [
    {
     "data": {
      "text/plain": [
       "248    0.000000\n",
       "247   -0.318556\n",
       "246   -0.703478\n",
       "Name: expid, dtype: float64"
      ]
     },
     "execution_count": 111,
     "metadata": {},
     "output_type": "execute_result"
    }
   ],
   "source": [
    "expid_by_user_id = users_filtered_by_date.drop_duplicates(subset=['user_id']).expid.value_counts()\n",
    "expid_by_user_id = expid_by_user_id / users_filtered_by_date.user_id.nunique() * 100 \n",
    "expid_by_user_id - expid_by_user_id.loc[248]\n"
   ]
  },
  {
   "cell_type": "markdown",
   "metadata": {},
   "source": [
    "First we see we have all three experiment groups.\n",
    "\n",
    "Next we see the proprtions between the groups are still close, difference is less than 1%.<br>\n",
    "Since our experiments needs to have statistical significance of more than 1% to 5% our data is still relevent for our experiments.\n",
    "\n",
    "Lets continue studying the event funnel."
   ]
  },
  {
   "cell_type": "markdown",
   "metadata": {},
   "source": [
    "### Conclusion\n",
    "We made sure we have occurences from all 5 events<br>\n",
    "After finding the number of users 7551. We found out the average number of events per user,\n",
    "after excluding outliers we found 23 events per users\n",
    "\n",
    "In order to work on the experiments we nned to make sure the proportions of our groups are similar, in user size and in events size.<br>\n",
    "After examing the data, we found that data stabalizes in numbers from 2019-08-01 forward.<br>\n",
    "We made sure we didn't lose many users less than 1%"
   ]
  },
  {
   "cell_type": "markdown",
   "metadata": {},
   "source": [
    "<div class=\"alert alert-success\">\n",
    "<b>Reviewer's comment:</b> Good job, let's look at the funnel analysis.\n",
    "</div>"
   ]
  },
  {
   "cell_type": "markdown",
   "metadata": {},
   "source": [
    "<a class='anchor' id='Study_the_event_funnel'></a>\n",
    "[Go back to the Table of Contents](#table_of_contents)\n",
    "## [Study the event funnel](#Study_the_event_funnel)\n",
    "\n",
    "### See what events are in the logs and their frequency of occurrence. Sort them by frequency."
   ]
  },
  {
   "cell_type": "code",
   "execution_count": 112,
   "metadata": {},
   "outputs": [
    {
     "name": "stdout",
     "output_type": "stream",
     "text": [
      "MainScreenAppear           117328\n",
      "OffersScreenAppear          46333\n",
      "CartScreenAppear            42303\n",
      "PaymentScreenSuccessful     33918\n",
      "Tutorial                     1005\n",
      "Name: event_name, dtype: int64\n",
      "MainScreenAppear           48.706655\n",
      "OffersScreenAppear         19.234330\n",
      "CartScreenAppear           17.561346\n",
      "PaymentScreenSuccessful    14.080461\n",
      "Tutorial                    0.417208\n",
      "Name: event_name, dtype: float64\n"
     ]
    }
   ],
   "source": [
    "print(users_filtered_by_date.event_name.value_counts())\n",
    "print(users_filtered_by_date.event_name.value_counts() / users_filtered_by_date.event_name.value_counts().sum() * 100)"
   ]
  },
  {
   "cell_type": "markdown",
   "metadata": {},
   "source": [
    "As we have seen before we have 5 different values. the most frequent is **MainScreenAppear** 118578.<br>\n",
    "Make sense since this is our website entery point.<br>\n",
    "We see the **Tutorial** event has the least number of values, less than 0.5%.\n",
    "\n",
    "----------------\n",
    "### Find the number of users who performed each of these actions. Sort the events by the number of users. Calculate the proportion of users who performed the action at least once.\n"
   ]
  },
  {
   "cell_type": "code",
   "execution_count": 117,
   "metadata": {},
   "outputs": [
    {
     "name": "stdout",
     "output_type": "stream",
     "text": [
      "event_name\n",
      "MainScreenAppear           7419\n",
      "OffersScreenAppear         4593\n",
      "CartScreenAppear           3734\n",
      "PaymentScreenSuccessful    3539\n",
      "Tutorial                    840\n",
      "Name: user_id, dtype: int64\n",
      "----------------\n",
      "Precent of users who go through each event\n"
     ]
    },
    {
     "data": {
      "text/plain": [
       "event_name\n",
       "MainScreenAppear           98.473586\n",
       "OffersScreenAppear         60.963632\n",
       "CartScreenAppear           49.561986\n",
       "PaymentScreenSuccessful    46.973719\n",
       "Tutorial                   11.149456\n",
       "Name: user_id, dtype: float64"
      ]
     },
     "execution_count": 117,
     "metadata": {},
     "output_type": "execute_result"
    }
   ],
   "source": [
    "print(users_filtered_by_date.groupby(['event_name'])['user_id'].nunique().sort_values(ascending=False))\n",
    "print('----------------')\n",
    "print('Precent of users who go through each event')\n",
    "users_filtered_by_date.groupby(['event_name'])['user_id'].nunique().sort_values(ascending=False) / users_filtered_by_date.user_id.nunique() * 100"
   ]
  },
  {
   "cell_type": "markdown",
   "metadata": {},
   "source": [
    "<div class=\"alert alert-warning\">\n",
    "<b>Reviewer's comment: </b> Small hint: you can format ratio values as actual percentages: <a>https://stackoverflow.com/a/36175424/11664121</a>. In this case you will alter only a dataframe formatting rules, but not data.\n",
    "</div>"
   ]
  },
  {
   "cell_type": "markdown",
   "metadata": {},
   "source": [
    "Since we see **Tutorial** has the least amount in users and in events and more importantly **Tutorial** has no logical flow in our funnel( a user can do a tutorial at each stage), we will remove it."
   ]
  },
  {
   "cell_type": "markdown",
   "metadata": {},
   "source": [
    "<div class=\"alert alert-success\">\n",
    "<b>Reviewer's comment:</b> Yes, that's it.\n",
    "</div>"
   ]
  },
  {
   "cell_type": "code",
   "execution_count": 118,
   "metadata": {},
   "outputs": [
    {
     "data": {
      "text/html": [
       "<div>\n",
       "<style scoped>\n",
       "    .dataframe tbody tr th:only-of-type {\n",
       "        vertical-align: middle;\n",
       "    }\n",
       "\n",
       "    .dataframe tbody tr th {\n",
       "        vertical-align: top;\n",
       "    }\n",
       "\n",
       "    .dataframe thead th {\n",
       "        text-align: right;\n",
       "    }\n",
       "</style>\n",
       "<table border=\"1\" class=\"dataframe\">\n",
       "  <thead>\n",
       "    <tr style=\"text-align: right;\">\n",
       "      <th></th>\n",
       "      <th>event_name</th>\n",
       "      <th>user_id</th>\n",
       "      <th>timestamp</th>\n",
       "      <th>expid</th>\n",
       "      <th>date</th>\n",
       "    </tr>\n",
       "  </thead>\n",
       "  <tbody>\n",
       "    <tr>\n",
       "      <td>197263</td>\n",
       "      <td>MainScreenAppear</td>\n",
       "      <td>6888746892508752</td>\n",
       "      <td>2019-08-06 14:06:34</td>\n",
       "      <td>246</td>\n",
       "      <td>2019-08-06</td>\n",
       "    </tr>\n",
       "    <tr>\n",
       "      <td>209196</td>\n",
       "      <td>MainScreenAppear</td>\n",
       "      <td>6909561520679493</td>\n",
       "      <td>2019-08-06 18:52:54</td>\n",
       "      <td>247</td>\n",
       "      <td>2019-08-06</td>\n",
       "    </tr>\n",
       "    <tr>\n",
       "      <td>209199</td>\n",
       "      <td>PaymentScreenSuccessful</td>\n",
       "      <td>6909561520679493</td>\n",
       "      <td>2019-08-06 18:52:58</td>\n",
       "      <td>247</td>\n",
       "      <td>2019-08-06</td>\n",
       "    </tr>\n",
       "    <tr>\n",
       "      <td>209200</td>\n",
       "      <td>CartScreenAppear</td>\n",
       "      <td>6909561520679493</td>\n",
       "      <td>2019-08-06 18:52:58</td>\n",
       "      <td>247</td>\n",
       "      <td>2019-08-06</td>\n",
       "    </tr>\n",
       "    <tr>\n",
       "      <td>209201</td>\n",
       "      <td>MainScreenAppear</td>\n",
       "      <td>6909561520679493</td>\n",
       "      <td>2019-08-06 18:52:58</td>\n",
       "      <td>247</td>\n",
       "      <td>2019-08-06</td>\n",
       "    </tr>\n",
       "  </tbody>\n",
       "</table>\n",
       "</div>"
      ],
      "text/plain": [
       "                     event_name           user_id           timestamp  expid  \\\n",
       "197263         MainScreenAppear  6888746892508752 2019-08-06 14:06:34    246   \n",
       "209196         MainScreenAppear  6909561520679493 2019-08-06 18:52:54    247   \n",
       "209199  PaymentScreenSuccessful  6909561520679493 2019-08-06 18:52:58    247   \n",
       "209200         CartScreenAppear  6909561520679493 2019-08-06 18:52:58    247   \n",
       "209201         MainScreenAppear  6909561520679493 2019-08-06 18:52:58    247   \n",
       "\n",
       "             date  \n",
       "197263 2019-08-06  \n",
       "209196 2019-08-06  \n",
       "209199 2019-08-06  \n",
       "209200 2019-08-06  \n",
       "209201 2019-08-06  "
      ]
     },
     "execution_count": 118,
     "metadata": {},
     "output_type": "execute_result"
    }
   ],
   "source": [
    "sorted_data = users_filtered_by_date[users_filtered_by_date['event_name']!='Tutorial'].sort_values(by=['user_id','timestamp'])\n",
    "sorted_data.head()"
   ]
  },
  {
   "cell_type": "markdown",
   "metadata": {},
   "source": [
    "### In what order do you think the actions took place. Are all of them part of a single sequence? You don't need to take them into account when calculating the funnel.\n",
    "    "
   ]
  },
  {
   "cell_type": "code",
   "execution_count": 116,
   "metadata": {},
   "outputs": [
    {
     "data": {
      "text/html": [
       "<div>\n",
       "<style scoped>\n",
       "    .dataframe tbody tr th:only-of-type {\n",
       "        vertical-align: middle;\n",
       "    }\n",
       "\n",
       "    .dataframe tbody tr th {\n",
       "        vertical-align: top;\n",
       "    }\n",
       "\n",
       "    .dataframe thead th {\n",
       "        text-align: right;\n",
       "    }\n",
       "</style>\n",
       "<table border=\"1\" class=\"dataframe\">\n",
       "  <thead>\n",
       "    <tr style=\"text-align: right;\">\n",
       "      <th></th>\n",
       "      <th>user</th>\n",
       "      <th>path</th>\n",
       "    </tr>\n",
       "  </thead>\n",
       "  <tbody>\n",
       "    <tr>\n",
       "      <td>0</td>\n",
       "      <td>6888746892508752</td>\n",
       "      <td>[MainScreenAppear]</td>\n",
       "    </tr>\n",
       "    <tr>\n",
       "      <td>1</td>\n",
       "      <td>6909561520679493</td>\n",
       "      <td>[MainScreenAppear, PaymentScreenSuccessful, CartScreenAppear, OffersScreenAppear]</td>\n",
       "    </tr>\n",
       "    <tr>\n",
       "      <td>2</td>\n",
       "      <td>6922444491712477</td>\n",
       "      <td>[MainScreenAppear, PaymentScreenSuccessful, CartScreenAppear, OffersScreenAppear]</td>\n",
       "    </tr>\n",
       "    <tr>\n",
       "      <td>3</td>\n",
       "      <td>7435777799948366</td>\n",
       "      <td>[MainScreenAppear]</td>\n",
       "    </tr>\n",
       "    <tr>\n",
       "      <td>4</td>\n",
       "      <td>7702139951469979</td>\n",
       "      <td>[MainScreenAppear, OffersScreenAppear, CartScreenAppear, PaymentScreenSuccessful]</td>\n",
       "    </tr>\n",
       "  </tbody>\n",
       "</table>\n",
       "</div>"
      ],
      "text/plain": [
       "               user  \\\n",
       "0  6888746892508752   \n",
       "1  6909561520679493   \n",
       "2  6922444491712477   \n",
       "3  7435777799948366   \n",
       "4  7702139951469979   \n",
       "\n",
       "                                                                                path  \n",
       "0                                                                 [MainScreenAppear]  \n",
       "1  [MainScreenAppear, PaymentScreenSuccessful, CartScreenAppear, OffersScreenAppear]  \n",
       "2  [MainScreenAppear, PaymentScreenSuccessful, CartScreenAppear, OffersScreenAppear]  \n",
       "3                                                                 [MainScreenAppear]  \n",
       "4  [MainScreenAppear, OffersScreenAppear, CartScreenAppear, PaymentScreenSuccessful]  "
      ]
     },
     "execution_count": 116,
     "metadata": {},
     "output_type": "execute_result"
    }
   ],
   "source": [
    "def sequence(df, user):\n",
    "    sorted_user = df[df['user_id'] == user].sort_values(by = ['user_id','timestamp'])\n",
    "    return sorted_user['event_name'].drop_duplicates().to_list()\n",
    "\n",
    "sequence_empty = []\n",
    "for id in sorted_data.user_id.unique():\n",
    "    sequence_empty.append([id,sequence(users_filtered_by_date, id)])\n",
    "    \n",
    "path_data = pd.DataFrame(sequence_empty,columns = ['user','path'])\n",
    "path_data.head()"
   ]
  },
  {
   "cell_type": "code",
   "execution_count": 119,
   "metadata": {},
   "outputs": [
    {
     "data": {
      "text/plain": [
       "[MainScreenAppear]                                                                             2701\n",
       "[MainScreenAppear, OffersScreenAppear]                                                          760\n",
       "[MainScreenAppear, OffersScreenAppear, PaymentScreenSuccessful, CartScreenAppear]               706\n",
       "[MainScreenAppear, PaymentScreenSuccessful, CartScreenAppear, OffersScreenAppear]               657\n",
       "[MainScreenAppear, OffersScreenAppear, CartScreenAppear, PaymentScreenSuccessful]               652\n",
       "                                                                                               ... \n",
       "[PaymentScreenSuccessful, MainScreenAppear, OffersScreenAppear, CartScreenAppear]                 1\n",
       "[Tutorial, MainScreenAppear, CartScreenAppear, PaymentScreenSuccessful]                           1\n",
       "[CartScreenAppear, MainScreenAppear, Tutorial, OffersScreenAppear, PaymentScreenSuccessful]       1\n",
       "[PaymentScreenSuccessful, OffersScreenAppear, CartScreenAppear, MainScreenAppear]                 1\n",
       "[PaymentScreenSuccessful, MainScreenAppear, CartScreenAppear, OffersScreenAppear]                 1\n",
       "Name: path, Length: 72, dtype: int64"
      ]
     },
     "execution_count": 119,
     "metadata": {},
     "output_type": "execute_result"
    }
   ],
   "source": [
    "path_data['path'].value_counts()"
   ]
  },
  {
   "cell_type": "markdown",
   "metadata": {},
   "source": [
    "We can see That usesrs that just enter the website and do nothing else are the most common, people might also enter and go back and forth between events.<br> This list will help us identify weird event flows, like \n",
    "**[MainScreenAppear, PaymentScreenSuccessful, CartScreenAppear, OffersScreenAppear]**<br>\n",
    "We should check if our team to make sure the windows that open automaticly for the users make sense."
   ]
  },
  {
   "cell_type": "markdown",
   "metadata": {},
   "source": [
    "### Use the event funnel to find the share of users that proceed from each stage to the next. (For instance, for the sequence of events A → B → C, calculate the ratio of users at stage B to the number of users at stage A and the ratio of users at stage C to the number at stage B.)\n",
    "    "
   ]
  },
  {
   "cell_type": "code",
   "execution_count": 120,
   "metadata": {},
   "outputs": [
    {
     "data": {
      "text/html": [
       "<div>\n",
       "<style scoped>\n",
       "    .dataframe tbody tr th:only-of-type {\n",
       "        vertical-align: middle;\n",
       "    }\n",
       "\n",
       "    .dataframe tbody tr th {\n",
       "        vertical-align: top;\n",
       "    }\n",
       "\n",
       "    .dataframe thead th {\n",
       "        text-align: right;\n",
       "    }\n",
       "</style>\n",
       "<table border=\"1\" class=\"dataframe\">\n",
       "  <thead>\n",
       "    <tr style=\"text-align: right;\">\n",
       "      <th></th>\n",
       "      <th>event_name</th>\n",
       "      <th>expid</th>\n",
       "      <th>user_id</th>\n",
       "    </tr>\n",
       "  </thead>\n",
       "  <tbody>\n",
       "    <tr>\n",
       "      <td>1</td>\n",
       "      <td>MainScreenAppear</td>\n",
       "      <td>246</td>\n",
       "      <td>2450</td>\n",
       "    </tr>\n",
       "    <tr>\n",
       "      <td>2</td>\n",
       "      <td>OffersScreenAppear</td>\n",
       "      <td>246</td>\n",
       "      <td>1542</td>\n",
       "    </tr>\n",
       "    <tr>\n",
       "      <td>0</td>\n",
       "      <td>CartScreenAppear</td>\n",
       "      <td>246</td>\n",
       "      <td>1266</td>\n",
       "    </tr>\n",
       "    <tr>\n",
       "      <td>3</td>\n",
       "      <td>PaymentScreenSuccessful</td>\n",
       "      <td>246</td>\n",
       "      <td>1200</td>\n",
       "    </tr>\n",
       "  </tbody>\n",
       "</table>\n",
       "</div>"
      ],
      "text/plain": [
       "                event_name  expid  user_id\n",
       "1         MainScreenAppear    246     2450\n",
       "2       OffersScreenAppear    246     1542\n",
       "0         CartScreenAppear    246     1266\n",
       "3  PaymentScreenSuccessful    246     1200"
      ]
     },
     "metadata": {},
     "output_type": "display_data"
    },
    {
     "data": {
      "text/html": [
       "<div>\n",
       "<style scoped>\n",
       "    .dataframe tbody tr th:only-of-type {\n",
       "        vertical-align: middle;\n",
       "    }\n",
       "\n",
       "    .dataframe tbody tr th {\n",
       "        vertical-align: top;\n",
       "    }\n",
       "\n",
       "    .dataframe thead th {\n",
       "        text-align: right;\n",
       "    }\n",
       "</style>\n",
       "<table border=\"1\" class=\"dataframe\">\n",
       "  <thead>\n",
       "    <tr style=\"text-align: right;\">\n",
       "      <th></th>\n",
       "      <th>event_name</th>\n",
       "      <th>expid</th>\n",
       "      <th>user_id</th>\n",
       "    </tr>\n",
       "  </thead>\n",
       "  <tbody>\n",
       "    <tr>\n",
       "      <td>1</td>\n",
       "      <td>MainScreenAppear</td>\n",
       "      <td>247</td>\n",
       "      <td>2476</td>\n",
       "    </tr>\n",
       "    <tr>\n",
       "      <td>2</td>\n",
       "      <td>OffersScreenAppear</td>\n",
       "      <td>247</td>\n",
       "      <td>1520</td>\n",
       "    </tr>\n",
       "    <tr>\n",
       "      <td>0</td>\n",
       "      <td>CartScreenAppear</td>\n",
       "      <td>247</td>\n",
       "      <td>1238</td>\n",
       "    </tr>\n",
       "    <tr>\n",
       "      <td>3</td>\n",
       "      <td>PaymentScreenSuccessful</td>\n",
       "      <td>247</td>\n",
       "      <td>1158</td>\n",
       "    </tr>\n",
       "  </tbody>\n",
       "</table>\n",
       "</div>"
      ],
      "text/plain": [
       "                event_name  expid  user_id\n",
       "1         MainScreenAppear    247     2476\n",
       "2       OffersScreenAppear    247     1520\n",
       "0         CartScreenAppear    247     1238\n",
       "3  PaymentScreenSuccessful    247     1158"
      ]
     },
     "metadata": {},
     "output_type": "display_data"
    },
    {
     "data": {
      "text/html": [
       "<div>\n",
       "<style scoped>\n",
       "    .dataframe tbody tr th:only-of-type {\n",
       "        vertical-align: middle;\n",
       "    }\n",
       "\n",
       "    .dataframe tbody tr th {\n",
       "        vertical-align: top;\n",
       "    }\n",
       "\n",
       "    .dataframe thead th {\n",
       "        text-align: right;\n",
       "    }\n",
       "</style>\n",
       "<table border=\"1\" class=\"dataframe\">\n",
       "  <thead>\n",
       "    <tr style=\"text-align: right;\">\n",
       "      <th></th>\n",
       "      <th>event_name</th>\n",
       "      <th>expid</th>\n",
       "      <th>user_id</th>\n",
       "    </tr>\n",
       "  </thead>\n",
       "  <tbody>\n",
       "    <tr>\n",
       "      <td>1</td>\n",
       "      <td>MainScreenAppear</td>\n",
       "      <td>248</td>\n",
       "      <td>2493</td>\n",
       "    </tr>\n",
       "    <tr>\n",
       "      <td>2</td>\n",
       "      <td>OffersScreenAppear</td>\n",
       "      <td>248</td>\n",
       "      <td>1531</td>\n",
       "    </tr>\n",
       "    <tr>\n",
       "      <td>0</td>\n",
       "      <td>CartScreenAppear</td>\n",
       "      <td>248</td>\n",
       "      <td>1230</td>\n",
       "    </tr>\n",
       "    <tr>\n",
       "      <td>3</td>\n",
       "      <td>PaymentScreenSuccessful</td>\n",
       "      <td>248</td>\n",
       "      <td>1181</td>\n",
       "    </tr>\n",
       "  </tbody>\n",
       "</table>\n",
       "</div>"
      ],
      "text/plain": [
       "                event_name  expid  user_id\n",
       "1         MainScreenAppear    248     2493\n",
       "2       OffersScreenAppear    248     1531\n",
       "0         CartScreenAppear    248     1230\n",
       "3  PaymentScreenSuccessful    248     1181"
      ]
     },
     "metadata": {},
     "output_type": "display_data"
    }
   ],
   "source": [
    "funnel_by_groups=[]\n",
    "for expid in sorted_data.expid.unique():\n",
    "    group=sorted_data[sorted_data.expid == expid].groupby(['event_name','expid'])['user_id'].nunique().reset_index().sort_values(by='user_id',ascending=False)\n",
    "    display(group)\n",
    "    funnel_by_groups.append(group)"
   ]
  },
  {
   "cell_type": "code",
   "execution_count": 121,
   "metadata": {},
   "outputs": [
    {
     "data": {
      "text/html": [
       "<div>\n",
       "<style scoped>\n",
       "    .dataframe tbody tr th:only-of-type {\n",
       "        vertical-align: middle;\n",
       "    }\n",
       "\n",
       "    .dataframe tbody tr th {\n",
       "        vertical-align: top;\n",
       "    }\n",
       "\n",
       "    .dataframe thead th {\n",
       "        text-align: right;\n",
       "    }\n",
       "</style>\n",
       "<table border=\"1\" class=\"dataframe\">\n",
       "  <thead>\n",
       "    <tr style=\"text-align: right;\">\n",
       "      <th></th>\n",
       "      <th>event_name</th>\n",
       "      <th>expid</th>\n",
       "      <th>user_id</th>\n",
       "    </tr>\n",
       "  </thead>\n",
       "  <tbody>\n",
       "    <tr>\n",
       "      <td>1</td>\n",
       "      <td>MainScreenAppear</td>\n",
       "      <td>246</td>\n",
       "      <td>2450</td>\n",
       "    </tr>\n",
       "    <tr>\n",
       "      <td>2</td>\n",
       "      <td>OffersScreenAppear</td>\n",
       "      <td>246</td>\n",
       "      <td>1542</td>\n",
       "    </tr>\n",
       "    <tr>\n",
       "      <td>0</td>\n",
       "      <td>CartScreenAppear</td>\n",
       "      <td>246</td>\n",
       "      <td>1266</td>\n",
       "    </tr>\n",
       "    <tr>\n",
       "      <td>3</td>\n",
       "      <td>PaymentScreenSuccessful</td>\n",
       "      <td>246</td>\n",
       "      <td>1200</td>\n",
       "    </tr>\n",
       "    <tr>\n",
       "      <td>1</td>\n",
       "      <td>MainScreenAppear</td>\n",
       "      <td>247</td>\n",
       "      <td>2476</td>\n",
       "    </tr>\n",
       "    <tr>\n",
       "      <td>2</td>\n",
       "      <td>OffersScreenAppear</td>\n",
       "      <td>247</td>\n",
       "      <td>1520</td>\n",
       "    </tr>\n",
       "    <tr>\n",
       "      <td>0</td>\n",
       "      <td>CartScreenAppear</td>\n",
       "      <td>247</td>\n",
       "      <td>1238</td>\n",
       "    </tr>\n",
       "    <tr>\n",
       "      <td>3</td>\n",
       "      <td>PaymentScreenSuccessful</td>\n",
       "      <td>247</td>\n",
       "      <td>1158</td>\n",
       "    </tr>\n",
       "    <tr>\n",
       "      <td>1</td>\n",
       "      <td>MainScreenAppear</td>\n",
       "      <td>248</td>\n",
       "      <td>2493</td>\n",
       "    </tr>\n",
       "    <tr>\n",
       "      <td>2</td>\n",
       "      <td>OffersScreenAppear</td>\n",
       "      <td>248</td>\n",
       "      <td>1531</td>\n",
       "    </tr>\n",
       "    <tr>\n",
       "      <td>0</td>\n",
       "      <td>CartScreenAppear</td>\n",
       "      <td>248</td>\n",
       "      <td>1230</td>\n",
       "    </tr>\n",
       "    <tr>\n",
       "      <td>3</td>\n",
       "      <td>PaymentScreenSuccessful</td>\n",
       "      <td>248</td>\n",
       "      <td>1181</td>\n",
       "    </tr>\n",
       "  </tbody>\n",
       "</table>\n",
       "</div>"
      ],
      "text/plain": [
       "                event_name  expid  user_id\n",
       "1         MainScreenAppear    246     2450\n",
       "2       OffersScreenAppear    246     1542\n",
       "0         CartScreenAppear    246     1266\n",
       "3  PaymentScreenSuccessful    246     1200\n",
       "1         MainScreenAppear    247     2476\n",
       "2       OffersScreenAppear    247     1520\n",
       "0         CartScreenAppear    247     1238\n",
       "3  PaymentScreenSuccessful    247     1158\n",
       "1         MainScreenAppear    248     2493\n",
       "2       OffersScreenAppear    248     1531\n",
       "0         CartScreenAppear    248     1230\n",
       "3  PaymentScreenSuccessful    248     1181"
      ]
     },
     "execution_count": 121,
     "metadata": {},
     "output_type": "execute_result"
    }
   ],
   "source": [
    "funnel_by_groups=pd.concat(funnel_by_groups)\n",
    "funnel_by_groups"
   ]
  },
  {
   "cell_type": "code",
   "execution_count": 127,
   "metadata": {},
   "outputs": [
    {
     "data": {
      "application/vnd.plotly.v1+json": {
       "config": {
        "plotlyServerURL": "https://plot.ly"
       },
       "data": [
        {
         "hovertemplate": "expid=246<br>user_id=%{x}<br>event_name=%{y}<extra></extra>",
         "legendgroup": "246",
         "marker": {
          "color": "#636efa"
         },
         "name": "246",
         "orientation": "h",
         "showlegend": true,
         "type": "funnel",
         "x": [
          2450,
          1542,
          1266,
          1200
         ],
         "xaxis": "x",
         "y": [
          "MainScreenAppear",
          "OffersScreenAppear",
          "CartScreenAppear",
          "PaymentScreenSuccessful"
         ],
         "yaxis": "y"
        },
        {
         "hovertemplate": "expid=247<br>user_id=%{x}<br>event_name=%{y}<extra></extra>",
         "legendgroup": "247",
         "marker": {
          "color": "#EF553B"
         },
         "name": "247",
         "orientation": "h",
         "showlegend": true,
         "type": "funnel",
         "x": [
          2476,
          1520,
          1238,
          1158
         ],
         "xaxis": "x",
         "y": [
          "MainScreenAppear",
          "OffersScreenAppear",
          "CartScreenAppear",
          "PaymentScreenSuccessful"
         ],
         "yaxis": "y"
        },
        {
         "hovertemplate": "expid=248<br>user_id=%{x}<br>event_name=%{y}<extra></extra>",
         "legendgroup": "248",
         "marker": {
          "color": "#00cc96"
         },
         "name": "248",
         "orientation": "h",
         "showlegend": true,
         "type": "funnel",
         "x": [
          2493,
          1531,
          1230,
          1181
         ],
         "xaxis": "x",
         "y": [
          "MainScreenAppear",
          "OffersScreenAppear",
          "CartScreenAppear",
          "PaymentScreenSuccessful"
         ],
         "yaxis": "y"
        }
       ],
       "layout": {
        "legend": {
         "title": {
          "text": "expid"
         },
         "tracegroupgap": 0
        },
        "template": {
         "data": {
          "bar": [
           {
            "error_x": {
             "color": "#2a3f5f"
            },
            "error_y": {
             "color": "#2a3f5f"
            },
            "marker": {
             "line": {
              "color": "#E5ECF6",
              "width": 0.5
             },
             "pattern": {
              "fillmode": "overlay",
              "size": 10,
              "solidity": 0.2
             }
            },
            "type": "bar"
           }
          ],
          "barpolar": [
           {
            "marker": {
             "line": {
              "color": "#E5ECF6",
              "width": 0.5
             },
             "pattern": {
              "fillmode": "overlay",
              "size": 10,
              "solidity": 0.2
             }
            },
            "type": "barpolar"
           }
          ],
          "carpet": [
           {
            "aaxis": {
             "endlinecolor": "#2a3f5f",
             "gridcolor": "white",
             "linecolor": "white",
             "minorgridcolor": "white",
             "startlinecolor": "#2a3f5f"
            },
            "baxis": {
             "endlinecolor": "#2a3f5f",
             "gridcolor": "white",
             "linecolor": "white",
             "minorgridcolor": "white",
             "startlinecolor": "#2a3f5f"
            },
            "type": "carpet"
           }
          ],
          "choropleth": [
           {
            "colorbar": {
             "outlinewidth": 0,
             "ticks": ""
            },
            "type": "choropleth"
           }
          ],
          "contour": [
           {
            "colorbar": {
             "outlinewidth": 0,
             "ticks": ""
            },
            "colorscale": [
             [
              0,
              "#0d0887"
             ],
             [
              0.1111111111,
              "#46039f"
             ],
             [
              0.2222222222,
              "#7201a8"
             ],
             [
              0.3333333333,
              "#9c179e"
             ],
             [
              0.4444444444,
              "#bd3786"
             ],
             [
              0.5555555556,
              "#d8576b"
             ],
             [
              0.6666666667,
              "#ed7953"
             ],
             [
              0.7777777778,
              "#fb9f3a"
             ],
             [
              0.8888888889,
              "#fdca26"
             ],
             [
              1,
              "#f0f921"
             ]
            ],
            "type": "contour"
           }
          ],
          "contourcarpet": [
           {
            "colorbar": {
             "outlinewidth": 0,
             "ticks": ""
            },
            "type": "contourcarpet"
           }
          ],
          "heatmap": [
           {
            "colorbar": {
             "outlinewidth": 0,
             "ticks": ""
            },
            "colorscale": [
             [
              0,
              "#0d0887"
             ],
             [
              0.1111111111,
              "#46039f"
             ],
             [
              0.2222222222,
              "#7201a8"
             ],
             [
              0.3333333333,
              "#9c179e"
             ],
             [
              0.4444444444,
              "#bd3786"
             ],
             [
              0.5555555556,
              "#d8576b"
             ],
             [
              0.6666666667,
              "#ed7953"
             ],
             [
              0.7777777778,
              "#fb9f3a"
             ],
             [
              0.8888888889,
              "#fdca26"
             ],
             [
              1,
              "#f0f921"
             ]
            ],
            "type": "heatmap"
           }
          ],
          "heatmapgl": [
           {
            "colorbar": {
             "outlinewidth": 0,
             "ticks": ""
            },
            "colorscale": [
             [
              0,
              "#0d0887"
             ],
             [
              0.1111111111,
              "#46039f"
             ],
             [
              0.2222222222,
              "#7201a8"
             ],
             [
              0.3333333333,
              "#9c179e"
             ],
             [
              0.4444444444,
              "#bd3786"
             ],
             [
              0.5555555556,
              "#d8576b"
             ],
             [
              0.6666666667,
              "#ed7953"
             ],
             [
              0.7777777778,
              "#fb9f3a"
             ],
             [
              0.8888888889,
              "#fdca26"
             ],
             [
              1,
              "#f0f921"
             ]
            ],
            "type": "heatmapgl"
           }
          ],
          "histogram": [
           {
            "marker": {
             "pattern": {
              "fillmode": "overlay",
              "size": 10,
              "solidity": 0.2
             }
            },
            "type": "histogram"
           }
          ],
          "histogram2d": [
           {
            "colorbar": {
             "outlinewidth": 0,
             "ticks": ""
            },
            "colorscale": [
             [
              0,
              "#0d0887"
             ],
             [
              0.1111111111,
              "#46039f"
             ],
             [
              0.2222222222,
              "#7201a8"
             ],
             [
              0.3333333333,
              "#9c179e"
             ],
             [
              0.4444444444,
              "#bd3786"
             ],
             [
              0.5555555556,
              "#d8576b"
             ],
             [
              0.6666666667,
              "#ed7953"
             ],
             [
              0.7777777778,
              "#fb9f3a"
             ],
             [
              0.8888888889,
              "#fdca26"
             ],
             [
              1,
              "#f0f921"
             ]
            ],
            "type": "histogram2d"
           }
          ],
          "histogram2dcontour": [
           {
            "colorbar": {
             "outlinewidth": 0,
             "ticks": ""
            },
            "colorscale": [
             [
              0,
              "#0d0887"
             ],
             [
              0.1111111111,
              "#46039f"
             ],
             [
              0.2222222222,
              "#7201a8"
             ],
             [
              0.3333333333,
              "#9c179e"
             ],
             [
              0.4444444444,
              "#bd3786"
             ],
             [
              0.5555555556,
              "#d8576b"
             ],
             [
              0.6666666667,
              "#ed7953"
             ],
             [
              0.7777777778,
              "#fb9f3a"
             ],
             [
              0.8888888889,
              "#fdca26"
             ],
             [
              1,
              "#f0f921"
             ]
            ],
            "type": "histogram2dcontour"
           }
          ],
          "mesh3d": [
           {
            "colorbar": {
             "outlinewidth": 0,
             "ticks": ""
            },
            "type": "mesh3d"
           }
          ],
          "parcoords": [
           {
            "line": {
             "colorbar": {
              "outlinewidth": 0,
              "ticks": ""
             }
            },
            "type": "parcoords"
           }
          ],
          "pie": [
           {
            "automargin": true,
            "type": "pie"
           }
          ],
          "scatter": [
           {
            "marker": {
             "colorbar": {
              "outlinewidth": 0,
              "ticks": ""
             }
            },
            "type": "scatter"
           }
          ],
          "scatter3d": [
           {
            "line": {
             "colorbar": {
              "outlinewidth": 0,
              "ticks": ""
             }
            },
            "marker": {
             "colorbar": {
              "outlinewidth": 0,
              "ticks": ""
             }
            },
            "type": "scatter3d"
           }
          ],
          "scattercarpet": [
           {
            "marker": {
             "colorbar": {
              "outlinewidth": 0,
              "ticks": ""
             }
            },
            "type": "scattercarpet"
           }
          ],
          "scattergeo": [
           {
            "marker": {
             "colorbar": {
              "outlinewidth": 0,
              "ticks": ""
             }
            },
            "type": "scattergeo"
           }
          ],
          "scattergl": [
           {
            "marker": {
             "colorbar": {
              "outlinewidth": 0,
              "ticks": ""
             }
            },
            "type": "scattergl"
           }
          ],
          "scattermapbox": [
           {
            "marker": {
             "colorbar": {
              "outlinewidth": 0,
              "ticks": ""
             }
            },
            "type": "scattermapbox"
           }
          ],
          "scatterpolar": [
           {
            "marker": {
             "colorbar": {
              "outlinewidth": 0,
              "ticks": ""
             }
            },
            "type": "scatterpolar"
           }
          ],
          "scatterpolargl": [
           {
            "marker": {
             "colorbar": {
              "outlinewidth": 0,
              "ticks": ""
             }
            },
            "type": "scatterpolargl"
           }
          ],
          "scatterternary": [
           {
            "marker": {
             "colorbar": {
              "outlinewidth": 0,
              "ticks": ""
             }
            },
            "type": "scatterternary"
           }
          ],
          "surface": [
           {
            "colorbar": {
             "outlinewidth": 0,
             "ticks": ""
            },
            "colorscale": [
             [
              0,
              "#0d0887"
             ],
             [
              0.1111111111,
              "#46039f"
             ],
             [
              0.2222222222,
              "#7201a8"
             ],
             [
              0.3333333333,
              "#9c179e"
             ],
             [
              0.4444444444,
              "#bd3786"
             ],
             [
              0.5555555556,
              "#d8576b"
             ],
             [
              0.6666666667,
              "#ed7953"
             ],
             [
              0.7777777778,
              "#fb9f3a"
             ],
             [
              0.8888888889,
              "#fdca26"
             ],
             [
              1,
              "#f0f921"
             ]
            ],
            "type": "surface"
           }
          ],
          "table": [
           {
            "cells": {
             "fill": {
              "color": "#EBF0F8"
             },
             "line": {
              "color": "white"
             }
            },
            "header": {
             "fill": {
              "color": "#C8D4E3"
             },
             "line": {
              "color": "white"
             }
            },
            "type": "table"
           }
          ]
         },
         "layout": {
          "annotationdefaults": {
           "arrowcolor": "#2a3f5f",
           "arrowhead": 0,
           "arrowwidth": 1
          },
          "autotypenumbers": "strict",
          "coloraxis": {
           "colorbar": {
            "outlinewidth": 0,
            "ticks": ""
           }
          },
          "colorscale": {
           "diverging": [
            [
             0,
             "#8e0152"
            ],
            [
             0.1,
             "#c51b7d"
            ],
            [
             0.2,
             "#de77ae"
            ],
            [
             0.3,
             "#f1b6da"
            ],
            [
             0.4,
             "#fde0ef"
            ],
            [
             0.5,
             "#f7f7f7"
            ],
            [
             0.6,
             "#e6f5d0"
            ],
            [
             0.7,
             "#b8e186"
            ],
            [
             0.8,
             "#7fbc41"
            ],
            [
             0.9,
             "#4d9221"
            ],
            [
             1,
             "#276419"
            ]
           ],
           "sequential": [
            [
             0,
             "#0d0887"
            ],
            [
             0.1111111111,
             "#46039f"
            ],
            [
             0.2222222222,
             "#7201a8"
            ],
            [
             0.3333333333,
             "#9c179e"
            ],
            [
             0.4444444444,
             "#bd3786"
            ],
            [
             0.5555555556,
             "#d8576b"
            ],
            [
             0.6666666667,
             "#ed7953"
            ],
            [
             0.7777777778,
             "#fb9f3a"
            ],
            [
             0.8888888889,
             "#fdca26"
            ],
            [
             1,
             "#f0f921"
            ]
           ],
           "sequentialminus": [
            [
             0,
             "#0d0887"
            ],
            [
             0.1111111111,
             "#46039f"
            ],
            [
             0.2222222222,
             "#7201a8"
            ],
            [
             0.3333333333,
             "#9c179e"
            ],
            [
             0.4444444444,
             "#bd3786"
            ],
            [
             0.5555555556,
             "#d8576b"
            ],
            [
             0.6666666667,
             "#ed7953"
            ],
            [
             0.7777777778,
             "#fb9f3a"
            ],
            [
             0.8888888889,
             "#fdca26"
            ],
            [
             1,
             "#f0f921"
            ]
           ]
          },
          "colorway": [
           "#636efa",
           "#EF553B",
           "#00cc96",
           "#ab63fa",
           "#FFA15A",
           "#19d3f3",
           "#FF6692",
           "#B6E880",
           "#FF97FF",
           "#FECB52"
          ],
          "font": {
           "color": "#2a3f5f"
          },
          "geo": {
           "bgcolor": "white",
           "lakecolor": "white",
           "landcolor": "#E5ECF6",
           "showlakes": true,
           "showland": true,
           "subunitcolor": "white"
          },
          "hoverlabel": {
           "align": "left"
          },
          "hovermode": "closest",
          "mapbox": {
           "style": "light"
          },
          "paper_bgcolor": "white",
          "plot_bgcolor": "#E5ECF6",
          "polar": {
           "angularaxis": {
            "gridcolor": "white",
            "linecolor": "white",
            "ticks": ""
           },
           "bgcolor": "#E5ECF6",
           "radialaxis": {
            "gridcolor": "white",
            "linecolor": "white",
            "ticks": ""
           }
          },
          "scene": {
           "xaxis": {
            "backgroundcolor": "#E5ECF6",
            "gridcolor": "white",
            "gridwidth": 2,
            "linecolor": "white",
            "showbackground": true,
            "ticks": "",
            "zerolinecolor": "white"
           },
           "yaxis": {
            "backgroundcolor": "#E5ECF6",
            "gridcolor": "white",
            "gridwidth": 2,
            "linecolor": "white",
            "showbackground": true,
            "ticks": "",
            "zerolinecolor": "white"
           },
           "zaxis": {
            "backgroundcolor": "#E5ECF6",
            "gridcolor": "white",
            "gridwidth": 2,
            "linecolor": "white",
            "showbackground": true,
            "ticks": "",
            "zerolinecolor": "white"
           }
          },
          "shapedefaults": {
           "line": {
            "color": "#2a3f5f"
           }
          },
          "ternary": {
           "aaxis": {
            "gridcolor": "white",
            "linecolor": "white",
            "ticks": ""
           },
           "baxis": {
            "gridcolor": "white",
            "linecolor": "white",
            "ticks": ""
           },
           "bgcolor": "#E5ECF6",
           "caxis": {
            "gridcolor": "white",
            "linecolor": "white",
            "ticks": ""
           }
          },
          "title": {
           "x": 0.05
          },
          "xaxis": {
           "automargin": true,
           "gridcolor": "white",
           "linecolor": "white",
           "ticks": "",
           "title": {
            "standoff": 15
           },
           "zerolinecolor": "white",
           "zerolinewidth": 2
          },
          "yaxis": {
           "automargin": true,
           "gridcolor": "white",
           "linecolor": "white",
           "ticks": "",
           "title": {
            "standoff": 15
           },
           "zerolinecolor": "white",
           "zerolinewidth": 2
          }
         }
        },
        "title": {
         "text": "Number of users as passing from events"
        },
        "xaxis": {
         "anchor": "y",
         "domain": [
          0,
          1
         ],
         "title": {
          "text": "user_id"
         }
        },
        "yaxis": {
         "anchor": "x",
         "domain": [
          0,
          1
         ],
         "title": {
          "text": "event_name"
         }
        }
       }
      },
      "text/html": [
       "<div>                            <div id=\"b6f97e34-040d-4dea-875f-0757ed61ad27\" class=\"plotly-graph-div\" style=\"height:525px; width:100%;\"></div>            <script type=\"text/javascript\">                require([\"plotly\"], function(Plotly) {                    window.PLOTLYENV=window.PLOTLYENV || {};                                    if (document.getElementById(\"b6f97e34-040d-4dea-875f-0757ed61ad27\")) {                    Plotly.newPlot(                        \"b6f97e34-040d-4dea-875f-0757ed61ad27\",                        [{\"hovertemplate\":\"expid=246<br>user_id=%{x}<br>event_name=%{y}<extra></extra>\",\"legendgroup\":\"246\",\"marker\":{\"color\":\"#636efa\"},\"name\":\"246\",\"orientation\":\"h\",\"showlegend\":true,\"type\":\"funnel\",\"x\":[2450,1542,1266,1200],\"xaxis\":\"x\",\"y\":[\"MainScreenAppear\",\"OffersScreenAppear\",\"CartScreenAppear\",\"PaymentScreenSuccessful\"],\"yaxis\":\"y\"},{\"hovertemplate\":\"expid=247<br>user_id=%{x}<br>event_name=%{y}<extra></extra>\",\"legendgroup\":\"247\",\"marker\":{\"color\":\"#EF553B\"},\"name\":\"247\",\"orientation\":\"h\",\"showlegend\":true,\"type\":\"funnel\",\"x\":[2476,1520,1238,1158],\"xaxis\":\"x\",\"y\":[\"MainScreenAppear\",\"OffersScreenAppear\",\"CartScreenAppear\",\"PaymentScreenSuccessful\"],\"yaxis\":\"y\"},{\"hovertemplate\":\"expid=248<br>user_id=%{x}<br>event_name=%{y}<extra></extra>\",\"legendgroup\":\"248\",\"marker\":{\"color\":\"#00cc96\"},\"name\":\"248\",\"orientation\":\"h\",\"showlegend\":true,\"type\":\"funnel\",\"x\":[2493,1531,1230,1181],\"xaxis\":\"x\",\"y\":[\"MainScreenAppear\",\"OffersScreenAppear\",\"CartScreenAppear\",\"PaymentScreenSuccessful\"],\"yaxis\":\"y\"}],                        {\"legend\":{\"title\":{\"text\":\"expid\"},\"tracegroupgap\":0},\"template\":{\"data\":{\"bar\":[{\"error_x\":{\"color\":\"#2a3f5f\"},\"error_y\":{\"color\":\"#2a3f5f\"},\"marker\":{\"line\":{\"color\":\"#E5ECF6\",\"width\":0.5},\"pattern\":{\"fillmode\":\"overlay\",\"size\":10,\"solidity\":0.2}},\"type\":\"bar\"}],\"barpolar\":[{\"marker\":{\"line\":{\"color\":\"#E5ECF6\",\"width\":0.5},\"pattern\":{\"fillmode\":\"overlay\",\"size\":10,\"solidity\":0.2}},\"type\":\"barpolar\"}],\"carpet\":[{\"aaxis\":{\"endlinecolor\":\"#2a3f5f\",\"gridcolor\":\"white\",\"linecolor\":\"white\",\"minorgridcolor\":\"white\",\"startlinecolor\":\"#2a3f5f\"},\"baxis\":{\"endlinecolor\":\"#2a3f5f\",\"gridcolor\":\"white\",\"linecolor\":\"white\",\"minorgridcolor\":\"white\",\"startlinecolor\":\"#2a3f5f\"},\"type\":\"carpet\"}],\"choropleth\":[{\"colorbar\":{\"outlinewidth\":0,\"ticks\":\"\"},\"type\":\"choropleth\"}],\"contour\":[{\"colorbar\":{\"outlinewidth\":0,\"ticks\":\"\"},\"colorscale\":[[0.0,\"#0d0887\"],[0.1111111111111111,\"#46039f\"],[0.2222222222222222,\"#7201a8\"],[0.3333333333333333,\"#9c179e\"],[0.4444444444444444,\"#bd3786\"],[0.5555555555555556,\"#d8576b\"],[0.6666666666666666,\"#ed7953\"],[0.7777777777777778,\"#fb9f3a\"],[0.8888888888888888,\"#fdca26\"],[1.0,\"#f0f921\"]],\"type\":\"contour\"}],\"contourcarpet\":[{\"colorbar\":{\"outlinewidth\":0,\"ticks\":\"\"},\"type\":\"contourcarpet\"}],\"heatmap\":[{\"colorbar\":{\"outlinewidth\":0,\"ticks\":\"\"},\"colorscale\":[[0.0,\"#0d0887\"],[0.1111111111111111,\"#46039f\"],[0.2222222222222222,\"#7201a8\"],[0.3333333333333333,\"#9c179e\"],[0.4444444444444444,\"#bd3786\"],[0.5555555555555556,\"#d8576b\"],[0.6666666666666666,\"#ed7953\"],[0.7777777777777778,\"#fb9f3a\"],[0.8888888888888888,\"#fdca26\"],[1.0,\"#f0f921\"]],\"type\":\"heatmap\"}],\"heatmapgl\":[{\"colorbar\":{\"outlinewidth\":0,\"ticks\":\"\"},\"colorscale\":[[0.0,\"#0d0887\"],[0.1111111111111111,\"#46039f\"],[0.2222222222222222,\"#7201a8\"],[0.3333333333333333,\"#9c179e\"],[0.4444444444444444,\"#bd3786\"],[0.5555555555555556,\"#d8576b\"],[0.6666666666666666,\"#ed7953\"],[0.7777777777777778,\"#fb9f3a\"],[0.8888888888888888,\"#fdca26\"],[1.0,\"#f0f921\"]],\"type\":\"heatmapgl\"}],\"histogram\":[{\"marker\":{\"pattern\":{\"fillmode\":\"overlay\",\"size\":10,\"solidity\":0.2}},\"type\":\"histogram\"}],\"histogram2d\":[{\"colorbar\":{\"outlinewidth\":0,\"ticks\":\"\"},\"colorscale\":[[0.0,\"#0d0887\"],[0.1111111111111111,\"#46039f\"],[0.2222222222222222,\"#7201a8\"],[0.3333333333333333,\"#9c179e\"],[0.4444444444444444,\"#bd3786\"],[0.5555555555555556,\"#d8576b\"],[0.6666666666666666,\"#ed7953\"],[0.7777777777777778,\"#fb9f3a\"],[0.8888888888888888,\"#fdca26\"],[1.0,\"#f0f921\"]],\"type\":\"histogram2d\"}],\"histogram2dcontour\":[{\"colorbar\":{\"outlinewidth\":0,\"ticks\":\"\"},\"colorscale\":[[0.0,\"#0d0887\"],[0.1111111111111111,\"#46039f\"],[0.2222222222222222,\"#7201a8\"],[0.3333333333333333,\"#9c179e\"],[0.4444444444444444,\"#bd3786\"],[0.5555555555555556,\"#d8576b\"],[0.6666666666666666,\"#ed7953\"],[0.7777777777777778,\"#fb9f3a\"],[0.8888888888888888,\"#fdca26\"],[1.0,\"#f0f921\"]],\"type\":\"histogram2dcontour\"}],\"mesh3d\":[{\"colorbar\":{\"outlinewidth\":0,\"ticks\":\"\"},\"type\":\"mesh3d\"}],\"parcoords\":[{\"line\":{\"colorbar\":{\"outlinewidth\":0,\"ticks\":\"\"}},\"type\":\"parcoords\"}],\"pie\":[{\"automargin\":true,\"type\":\"pie\"}],\"scatter\":[{\"marker\":{\"colorbar\":{\"outlinewidth\":0,\"ticks\":\"\"}},\"type\":\"scatter\"}],\"scatter3d\":[{\"line\":{\"colorbar\":{\"outlinewidth\":0,\"ticks\":\"\"}},\"marker\":{\"colorbar\":{\"outlinewidth\":0,\"ticks\":\"\"}},\"type\":\"scatter3d\"}],\"scattercarpet\":[{\"marker\":{\"colorbar\":{\"outlinewidth\":0,\"ticks\":\"\"}},\"type\":\"scattercarpet\"}],\"scattergeo\":[{\"marker\":{\"colorbar\":{\"outlinewidth\":0,\"ticks\":\"\"}},\"type\":\"scattergeo\"}],\"scattergl\":[{\"marker\":{\"colorbar\":{\"outlinewidth\":0,\"ticks\":\"\"}},\"type\":\"scattergl\"}],\"scattermapbox\":[{\"marker\":{\"colorbar\":{\"outlinewidth\":0,\"ticks\":\"\"}},\"type\":\"scattermapbox\"}],\"scatterpolar\":[{\"marker\":{\"colorbar\":{\"outlinewidth\":0,\"ticks\":\"\"}},\"type\":\"scatterpolar\"}],\"scatterpolargl\":[{\"marker\":{\"colorbar\":{\"outlinewidth\":0,\"ticks\":\"\"}},\"type\":\"scatterpolargl\"}],\"scatterternary\":[{\"marker\":{\"colorbar\":{\"outlinewidth\":0,\"ticks\":\"\"}},\"type\":\"scatterternary\"}],\"surface\":[{\"colorbar\":{\"outlinewidth\":0,\"ticks\":\"\"},\"colorscale\":[[0.0,\"#0d0887\"],[0.1111111111111111,\"#46039f\"],[0.2222222222222222,\"#7201a8\"],[0.3333333333333333,\"#9c179e\"],[0.4444444444444444,\"#bd3786\"],[0.5555555555555556,\"#d8576b\"],[0.6666666666666666,\"#ed7953\"],[0.7777777777777778,\"#fb9f3a\"],[0.8888888888888888,\"#fdca26\"],[1.0,\"#f0f921\"]],\"type\":\"surface\"}],\"table\":[{\"cells\":{\"fill\":{\"color\":\"#EBF0F8\"},\"line\":{\"color\":\"white\"}},\"header\":{\"fill\":{\"color\":\"#C8D4E3\"},\"line\":{\"color\":\"white\"}},\"type\":\"table\"}]},\"layout\":{\"annotationdefaults\":{\"arrowcolor\":\"#2a3f5f\",\"arrowhead\":0,\"arrowwidth\":1},\"autotypenumbers\":\"strict\",\"coloraxis\":{\"colorbar\":{\"outlinewidth\":0,\"ticks\":\"\"}},\"colorscale\":{\"diverging\":[[0,\"#8e0152\"],[0.1,\"#c51b7d\"],[0.2,\"#de77ae\"],[0.3,\"#f1b6da\"],[0.4,\"#fde0ef\"],[0.5,\"#f7f7f7\"],[0.6,\"#e6f5d0\"],[0.7,\"#b8e186\"],[0.8,\"#7fbc41\"],[0.9,\"#4d9221\"],[1,\"#276419\"]],\"sequential\":[[0.0,\"#0d0887\"],[0.1111111111111111,\"#46039f\"],[0.2222222222222222,\"#7201a8\"],[0.3333333333333333,\"#9c179e\"],[0.4444444444444444,\"#bd3786\"],[0.5555555555555556,\"#d8576b\"],[0.6666666666666666,\"#ed7953\"],[0.7777777777777778,\"#fb9f3a\"],[0.8888888888888888,\"#fdca26\"],[1.0,\"#f0f921\"]],\"sequentialminus\":[[0.0,\"#0d0887\"],[0.1111111111111111,\"#46039f\"],[0.2222222222222222,\"#7201a8\"],[0.3333333333333333,\"#9c179e\"],[0.4444444444444444,\"#bd3786\"],[0.5555555555555556,\"#d8576b\"],[0.6666666666666666,\"#ed7953\"],[0.7777777777777778,\"#fb9f3a\"],[0.8888888888888888,\"#fdca26\"],[1.0,\"#f0f921\"]]},\"colorway\":[\"#636efa\",\"#EF553B\",\"#00cc96\",\"#ab63fa\",\"#FFA15A\",\"#19d3f3\",\"#FF6692\",\"#B6E880\",\"#FF97FF\",\"#FECB52\"],\"font\":{\"color\":\"#2a3f5f\"},\"geo\":{\"bgcolor\":\"white\",\"lakecolor\":\"white\",\"landcolor\":\"#E5ECF6\",\"showlakes\":true,\"showland\":true,\"subunitcolor\":\"white\"},\"hoverlabel\":{\"align\":\"left\"},\"hovermode\":\"closest\",\"mapbox\":{\"style\":\"light\"},\"paper_bgcolor\":\"white\",\"plot_bgcolor\":\"#E5ECF6\",\"polar\":{\"angularaxis\":{\"gridcolor\":\"white\",\"linecolor\":\"white\",\"ticks\":\"\"},\"bgcolor\":\"#E5ECF6\",\"radialaxis\":{\"gridcolor\":\"white\",\"linecolor\":\"white\",\"ticks\":\"\"}},\"scene\":{\"xaxis\":{\"backgroundcolor\":\"#E5ECF6\",\"gridcolor\":\"white\",\"gridwidth\":2,\"linecolor\":\"white\",\"showbackground\":true,\"ticks\":\"\",\"zerolinecolor\":\"white\"},\"yaxis\":{\"backgroundcolor\":\"#E5ECF6\",\"gridcolor\":\"white\",\"gridwidth\":2,\"linecolor\":\"white\",\"showbackground\":true,\"ticks\":\"\",\"zerolinecolor\":\"white\"},\"zaxis\":{\"backgroundcolor\":\"#E5ECF6\",\"gridcolor\":\"white\",\"gridwidth\":2,\"linecolor\":\"white\",\"showbackground\":true,\"ticks\":\"\",\"zerolinecolor\":\"white\"}},\"shapedefaults\":{\"line\":{\"color\":\"#2a3f5f\"}},\"ternary\":{\"aaxis\":{\"gridcolor\":\"white\",\"linecolor\":\"white\",\"ticks\":\"\"},\"baxis\":{\"gridcolor\":\"white\",\"linecolor\":\"white\",\"ticks\":\"\"},\"bgcolor\":\"#E5ECF6\",\"caxis\":{\"gridcolor\":\"white\",\"linecolor\":\"white\",\"ticks\":\"\"}},\"title\":{\"x\":0.05},\"xaxis\":{\"automargin\":true,\"gridcolor\":\"white\",\"linecolor\":\"white\",\"ticks\":\"\",\"title\":{\"standoff\":15},\"zerolinecolor\":\"white\",\"zerolinewidth\":2},\"yaxis\":{\"automargin\":true,\"gridcolor\":\"white\",\"linecolor\":\"white\",\"ticks\":\"\",\"title\":{\"standoff\":15},\"zerolinecolor\":\"white\",\"zerolinewidth\":2}}},\"title\":{\"text\":\"Number of users as passing from events\"},\"xaxis\":{\"anchor\":\"y\",\"domain\":[0.0,1.0],\"title\":{\"text\":\"user_id\"}},\"yaxis\":{\"anchor\":\"x\",\"domain\":[0.0,1.0],\"title\":{\"text\":\"event_name\"}}},                        {\"responsive\": true}                    ).then(function(){\n",
       "                            \n",
       "var gd = document.getElementById('b6f97e34-040d-4dea-875f-0757ed61ad27');\n",
       "var x = new MutationObserver(function (mutations, observer) {{\n",
       "        var display = window.getComputedStyle(gd).display;\n",
       "        if (!display || display === 'none') {{\n",
       "            console.log([gd, 'removed!']);\n",
       "            Plotly.purge(gd);\n",
       "            observer.disconnect();\n",
       "        }}\n",
       "}});\n",
       "\n",
       "// Listen for the removal of the full notebook cells\n",
       "var notebookContainer = gd.closest('#notebook-container');\n",
       "if (notebookContainer) {{\n",
       "    x.observe(notebookContainer, {childList: true});\n",
       "}}\n",
       "\n",
       "// Listen for the clearing of the current output cell\n",
       "var outputEl = gd.closest('.output');\n",
       "if (outputEl) {{\n",
       "    x.observe(outputEl, {childList: true});\n",
       "}}\n",
       "\n",
       "                        })                };                });            </script>        </div>"
      ]
     },
     "metadata": {},
     "output_type": "display_data"
    }
   ],
   "source": [
    "fig=px.funnel(funnel_by_groups,x='user_id',y='event_name',color='expid', title='Number of users as passing from events')\n",
    "fig.show()"
   ]
  },
  {
   "cell_type": "markdown",
   "metadata": {},
   "source": [
    "<div class=\"alert alert-danger\">\n",
    "<s><b>Reviewer's comment:</b> Nice chart, but don't forget about titles :)\n",
    "</div>\n",
    "\n",
    "<div class=\"alert alert-info\">\n",
    "Added title.\n",
    "</div>"
   ]
  },
  {
   "cell_type": "markdown",
   "metadata": {},
   "source": [
    "We can see as the users passes each event the number decreases."
   ]
  },
  {
   "cell_type": "markdown",
   "metadata": {},
   "source": [
    "### At what stage do you lose the most users?\n",
    "    "
   ]
  },
  {
   "cell_type": "code",
   "execution_count": 39,
   "metadata": {},
   "outputs": [
    {
     "name": "stdout",
     "output_type": "stream",
     "text": [
      "drop between event MainScreenAppear -> OfferScreenAppear 38.5880465302848\n"
     ]
    }
   ],
   "source": [
    "print('drop between event MainScreenAppear -> OfferScreenAppear' ,(2493 - 1531)/ 2493 * 100)"
   ]
  },
  {
   "cell_type": "markdown",
   "metadata": {},
   "source": [
    "We can see how the funnel shows different conversion between events.<br>\n",
    "Out biggest drop between events is between MainScreenAppear -> OfferScreenAppear almost 39%."
   ]
  },
  {
   "cell_type": "markdown",
   "metadata": {},
   "source": [
    "### What share of users make the entire journey from their first event to payment?"
   ]
  },
  {
   "cell_type": "code",
   "execution_count": 130,
   "metadata": {},
   "outputs": [],
   "source": [
    "total_users_main = funnel_by_groups[funnel_by_groups.event_name == 'MainScreenAppear'].user_id.sum()\n",
    "total_users_pay = funnel_by_groups[funnel_by_groups.event_name == 'PaymentScreenSuccessful'].user_id.sum()"
   ]
  },
  {
   "cell_type": "code",
   "execution_count": 131,
   "metadata": {},
   "outputs": [
    {
     "data": {
      "text/plain": [
       "47.702"
      ]
     },
     "execution_count": 131,
     "metadata": {},
     "output_type": "execute_result"
    }
   ],
   "source": [
    "round(total_users_pay / total_users_main * 100,3)"
   ]
  },
  {
   "cell_type": "markdown",
   "metadata": {},
   "source": [
    "47.7% make all the way to payment, "
   ]
  },
  {
   "cell_type": "markdown",
   "metadata": {},
   "source": [
    "<div class=\"alert alert-danger\">\n",
    "<s><b>Reviewer's comment:</b> Yes, you are right. Please, fix the hardcoded strings.\n",
    "</div>\n",
    "\n",
    "<div class=\"alert alert-info\">\n",
    "Fixed hard code issue.\n",
    "</div>"
   ]
  },
  {
   "cell_type": "markdown",
   "metadata": {},
   "source": [
    "### Conclusion\n",
    "* We saw that MainScreenAppear is the most popular event, which make sense since it is our website entery point.\n",
    "* We found the number of users who performed each of these actions.\n",
    "    * **MainScreenAppear**: with ~98% \n",
    "    * **PaymentScreenSuccessful**: ~47.7%\n",
    "    * **Tutorial**: the lowest ~11%\n",
    "* We found the most popular sequence of events, just entering MainScreenAppear. \n",
    "* We found we lost the most users from **MainScreenAppear -> OfferScreenAppear** , a drop of almost 39%.\n",
    "* Users who reach the **PaymentScreenSuccessful** are 47.7 from the initial event **MainScreenAppear**"
   ]
  },
  {
   "cell_type": "markdown",
   "metadata": {},
   "source": [
    "<a class='anchor' id='Study_the_results_of_the_experiment'></a>\n",
    "[Go back to the Table of Contents](#table_of_contents)\n",
    "## [Study the results of the experiment](#Study_the_results_of_the_experiment)\n",
    "\n",
    "### How many users are there in each group?"
   ]
  },
  {
   "cell_type": "code",
   "execution_count": 132,
   "metadata": {},
   "outputs": [
    {
     "data": {
      "text/html": [
       "<div>\n",
       "<style scoped>\n",
       "    .dataframe tbody tr th:only-of-type {\n",
       "        vertical-align: middle;\n",
       "    }\n",
       "\n",
       "    .dataframe tbody tr th {\n",
       "        vertical-align: top;\n",
       "    }\n",
       "\n",
       "    .dataframe thead th {\n",
       "        text-align: right;\n",
       "    }\n",
       "</style>\n",
       "<table border=\"1\" class=\"dataframe\">\n",
       "  <thead>\n",
       "    <tr style=\"text-align: right;\">\n",
       "      <th></th>\n",
       "      <th>expid</th>\n",
       "      <th>user_id</th>\n",
       "    </tr>\n",
       "  </thead>\n",
       "  <tbody>\n",
       "    <tr>\n",
       "      <td>2</td>\n",
       "      <td>248</td>\n",
       "      <td>2537</td>\n",
       "    </tr>\n",
       "    <tr>\n",
       "      <td>1</td>\n",
       "      <td>247</td>\n",
       "      <td>2513</td>\n",
       "    </tr>\n",
       "    <tr>\n",
       "      <td>0</td>\n",
       "      <td>246</td>\n",
       "      <td>2484</td>\n",
       "    </tr>\n",
       "  </tbody>\n",
       "</table>\n",
       "</div>"
      ],
      "text/plain": [
       "   expid  user_id\n",
       "2    248     2537\n",
       "1    247     2513\n",
       "0    246     2484"
      ]
     },
     "execution_count": 132,
     "metadata": {},
     "output_type": "execute_result"
    }
   ],
   "source": [
    "groups_users = pd.pivot_table(users_filtered_by_date, values='user_id', index='expid',aggfunc=pd.Series.nunique).reset_index().sort_values('user_id', ascending=False)\n",
    "groups_users"
   ]
  },
  {
   "cell_type": "markdown",
   "metadata": {},
   "source": [
    "### We have two control groups in the A/A test, where we check our mechanisms and calculations. \n",
    "* See if there is a statistically significant difference between samples 246 and 247.  \n",
    "* Select the most popular event. \n",
    "* In each of the control groups, find the number of users who performed this action. \n",
    "* Find their share. Check whether the difference between the groups is statistically significant. \n",
    "* Repeat the procedure for all other events (it will save time if you create a special function for this test). \n",
    "* Can you confirm that the groups were split properly?"
   ]
  },
  {
   "cell_type": "code",
   "execution_count": 133,
   "metadata": {},
   "outputs": [],
   "source": [
    "sample_246 = users_filtered_by_date.query('expid == 246')\n",
    "sample_247 = users_filtered_by_date.query('expid == 247')\n",
    "sample_248 = users_filtered_by_date.query('expid == 248')"
   ]
  },
  {
   "cell_type": "code",
   "execution_count": 134,
   "metadata": {},
   "outputs": [
    {
     "data": {
      "text/html": [
       "<div>\n",
       "<style scoped>\n",
       "    .dataframe tbody tr th:only-of-type {\n",
       "        vertical-align: middle;\n",
       "    }\n",
       "\n",
       "    .dataframe tbody tr th {\n",
       "        vertical-align: top;\n",
       "    }\n",
       "\n",
       "    .dataframe thead th {\n",
       "        text-align: right;\n",
       "    }\n",
       "</style>\n",
       "<table border=\"1\" class=\"dataframe\">\n",
       "  <thead>\n",
       "    <tr style=\"text-align: right;\">\n",
       "      <th></th>\n",
       "      <th>event_name</th>\n",
       "      <th>users_246</th>\n",
       "      <th>users_247</th>\n",
       "      <th>users_248</th>\n",
       "    </tr>\n",
       "  </thead>\n",
       "  <tbody>\n",
       "    <tr>\n",
       "      <td>0</td>\n",
       "      <td>MainScreenAppear</td>\n",
       "      <td>2450</td>\n",
       "      <td>2476</td>\n",
       "      <td>2493</td>\n",
       "    </tr>\n",
       "    <tr>\n",
       "      <td>1</td>\n",
       "      <td>OffersScreenAppear</td>\n",
       "      <td>1542</td>\n",
       "      <td>1520</td>\n",
       "      <td>1531</td>\n",
       "    </tr>\n",
       "    <tr>\n",
       "      <td>2</td>\n",
       "      <td>CartScreenAppear</td>\n",
       "      <td>1266</td>\n",
       "      <td>1238</td>\n",
       "      <td>1230</td>\n",
       "    </tr>\n",
       "    <tr>\n",
       "      <td>3</td>\n",
       "      <td>PaymentScreenSuccessful</td>\n",
       "      <td>1200</td>\n",
       "      <td>1158</td>\n",
       "      <td>1181</td>\n",
       "    </tr>\n",
       "    <tr>\n",
       "      <td>4</td>\n",
       "      <td>Tutorial</td>\n",
       "      <td>278</td>\n",
       "      <td>283</td>\n",
       "      <td>279</td>\n",
       "    </tr>\n",
       "  </tbody>\n",
       "</table>\n",
       "</div>"
      ],
      "text/plain": [
       "                event_name  users_246  users_247  users_248\n",
       "0         MainScreenAppear       2450       2476       2493\n",
       "1       OffersScreenAppear       1542       1520       1531\n",
       "2         CartScreenAppear       1266       1238       1230\n",
       "3  PaymentScreenSuccessful       1200       1158       1181\n",
       "4                 Tutorial        278        283        279"
      ]
     },
     "execution_count": 134,
     "metadata": {},
     "output_type": "execute_result"
    }
   ],
   "source": [
    "sample_246_pivot = pd.pivot_table(sample_246, values='user_id', index='event_name',aggfunc=pd.Series.nunique).reset_index().sort_values('user_id', ascending=False)\n",
    "sample_247_pivot = pd.pivot_table(sample_247, values='user_id', index='event_name',aggfunc=pd.Series.nunique).reset_index().sort_values('user_id', ascending=False)\n",
    "sample_248_pivot = pd.pivot_table(sample_248, values='user_id', index='event_name',aggfunc=pd.Series.nunique).reset_index().sort_values('user_id', ascending=False)\n",
    "\n",
    "merged_pivot = sample_246_pivot.merge(sample_247_pivot, on='event_name')\n",
    "merged_pivot = merged_pivot.merge(sample_248_pivot, on='event_name')\n",
    "\n",
    "merged_pivot.columns = ['event_name', 'users_246', 'users_247', 'users_248']\n",
    "merged_pivot"
   ]
  },
  {
   "cell_type": "code",
   "execution_count": 135,
   "metadata": {},
   "outputs": [],
   "source": [
    "users_num_246 = groups_users.iloc[2, 1]\n",
    "users_num_247 = groups_users.iloc[1, 1]\n",
    "users_num_248 = groups_users.iloc[0, 1]"
   ]
  },
  {
   "cell_type": "code",
   "execution_count": 136,
   "metadata": {},
   "outputs": [],
   "source": [
    "def z_test(event_name, event_nums, users_nums,alpha = .003 ):\n",
    "    #alpha = .01 \n",
    "#     alpha = .003\n",
    "\n",
    "    print(event_name)\n",
    "\n",
    "    event_nums = np.array(event_nums)\n",
    "    users_nums = np.array(users_nums)\n",
    "\n",
    "    p1 = event_nums[0]/users_nums[0]\n",
    "\n",
    "    p2 = event_nums[1]/users_nums[1]\n",
    "\n",
    "    p_combined = (event_nums[0] + event_nums[1]) / (users_nums[0] + users_nums[1])\n",
    "\n",
    "    difference = p1 - p2 \n",
    "\n",
    "    z_value = difference / mth.sqrt(p_combined * (1 - p_combined) * (1/users_nums[0] + 1/users_nums[1]))\n",
    "\n",
    "    distr = st.norm(0, 1) \n",
    "\n",
    "    p_value = (1 - distr.cdf(abs(z_value))) * 2\n",
    "\n",
    "    print('p-value: ', p_value)\n",
    "\n",
    "    if (p_value < alpha):\n",
    "        print(\"Rejecting the null hypothesis: there is a significant difference between the proportions\")\n",
    "    else:\n",
    "        print(\"Failed to reject the null hypothesis: there is no reason to consider the proportions different\") \n",
    "    print('-' * 100)"
   ]
  },
  {
   "cell_type": "markdown",
   "metadata": {},
   "source": [
    "<div class=\"alert alert-danger\">\n",
    "<s><b>Reviewer's comment:</b> Please, use alpha as the function's parameter.\n",
    "</div>"
   ]
  },
  {
   "cell_type": "markdown",
   "metadata": {},
   "source": [
    "H0: The proportions of 246 and 247 samples are don't have statistical insignificant difference.\n",
    "\n",
    "H1: The proportions of 246 and 247 samples do have statistical insignificant difference.\n",
    "\n",
    "The alpha is 0.003"
   ]
  },
  {
   "cell_type": "markdown",
   "metadata": {},
   "source": [
    "<div class=\"alert alert-danger\">\n",
    "<s><b>Reviewer's comment v2:</b> Pay attention, that \"equal\" conception is not appliable in case of distributions. Please, use \"statistical insignificant difference\". Also, you need to specify alpha value. \n",
    "</div>"
   ]
  },
  {
   "cell_type": "code",
   "execution_count": 137,
   "metadata": {},
   "outputs": [
    {
     "name": "stdout",
     "output_type": "stream",
     "text": [
      "MainScreenAppear\n",
      "p-value:  0.7570597232046099\n",
      "Failed to reject the null hypothesis: there is no reason to consider the proportions different\n",
      "----------------------------------------------------------------------------------------------------\n",
      "OffersScreenAppear\n",
      "p-value:  0.2480954578522181\n",
      "Failed to reject the null hypothesis: there is no reason to consider the proportions different\n",
      "----------------------------------------------------------------------------------------------------\n",
      "CartScreenAppear\n",
      "p-value:  0.22883372237997213\n",
      "Failed to reject the null hypothesis: there is no reason to consider the proportions different\n",
      "----------------------------------------------------------------------------------------------------\n",
      "PaymentScreenSuccessful\n",
      "p-value:  0.11456679313141849\n",
      "Failed to reject the null hypothesis: there is no reason to consider the proportions different\n",
      "----------------------------------------------------------------------------------------------------\n",
      "Tutorial\n",
      "p-value:  0.9376996189257114\n",
      "Failed to reject the null hypothesis: there is no reason to consider the proportions different\n",
      "----------------------------------------------------------------------------------------------------\n"
     ]
    }
   ],
   "source": [
    "for i in range(len(merged_pivot)):\n",
    "    event_name = merged_pivot.iloc[i,0]\n",
    "    events_nums_246_247 = [merged_pivot.iloc[i,1], merged_pivot.iloc[i,2]]\n",
    "    users_nums_246_247 = [users_num_246, users_num_247]\n",
    "    z_test(event_name, events_nums_246_247, users_nums_246_247)"
   ]
  },
  {
   "cell_type": "markdown",
   "metadata": {},
   "source": [
    "We failed to reject any of the null hypotheses. There isn't a significant difference between the proportions of 246 and 247 samples.\n",
    "\n",
    "------------\n",
    "### Do the same thing for the group with altered fonts. \n",
    "* Compare the results with those of each of the control groups for each event in isolation. \n",
    "* Compare the results with the combined results for the control groups. \n",
    "* What conclusions can you draw from the experiment?\n",
    "\n",
    "H0: The proportions of 246 and 248 samples are equal.\n",
    "\n",
    "H1: The proportions of 246 and 248 samples are not equal."
   ]
  },
  {
   "cell_type": "code",
   "execution_count": 47,
   "metadata": {},
   "outputs": [
    {
     "name": "stdout",
     "output_type": "stream",
     "text": [
      "MainScreenAppear\n",
      "p-value:  0.2949721933554552\n",
      "Failed to reject the null hypothesis: there is no reason to consider the proportions different\n",
      "----------------------------------------------------------------------------------------------------\n",
      "OffersScreenAppear\n",
      "p-value:  0.20836205402738917\n",
      "Failed to reject the null hypothesis: there is no reason to consider the proportions different\n",
      "----------------------------------------------------------------------------------------------------\n",
      "CartScreenAppear\n",
      "p-value:  0.07842923237520116\n",
      "Failed to reject the null hypothesis: there is no reason to consider the proportions different\n",
      "----------------------------------------------------------------------------------------------------\n",
      "PaymentScreenSuccessful\n",
      "p-value:  0.2122553275697796\n",
      "Failed to reject the null hypothesis: there is no reason to consider the proportions different\n",
      "----------------------------------------------------------------------------------------------------\n",
      "Tutorial\n",
      "p-value:  0.8264294010087645\n",
      "Failed to reject the null hypothesis: there is no reason to consider the proportions different\n",
      "----------------------------------------------------------------------------------------------------\n"
     ]
    }
   ],
   "source": [
    "for i in range(len(merged_pivot)):\n",
    "    event_name = merged_pivot.iloc[i,0]\n",
    "    events_nums_246_248 = [merged_pivot.iloc[i,1], merged_pivot.iloc[i,3]]\n",
    "    users_nums_246_248 = [users_num_246, users_num_248]\n",
    "    z_test(event_name, events_nums_246_248, users_nums_246_248)"
   ]
  },
  {
   "cell_type": "markdown",
   "metadata": {},
   "source": [
    "We failed to reject any of the null hypotheses. There isn't a significant difference between the proportions of 246 and 248 samples.\n",
    "\n",
    "-----\n",
    "H0: The proportions of 247 and 248 samples are equal.\n",
    "\n",
    "H1: The proportions of 247 and 248 samples are not equal."
   ]
  },
  {
   "cell_type": "code",
   "execution_count": 48,
   "metadata": {},
   "outputs": [
    {
     "name": "stdout",
     "output_type": "stream",
     "text": [
      "MainScreenAppear\n",
      "p-value:  0.4587053616621515\n",
      "Failed to reject the null hypothesis: there is no reason to consider the proportions different\n",
      "----------------------------------------------------------------------------------------------------\n",
      "OffersScreenAppear\n",
      "p-value:  0.9197817830592261\n",
      "Failed to reject the null hypothesis: there is no reason to consider the proportions different\n",
      "----------------------------------------------------------------------------------------------------\n",
      "CartScreenAppear\n",
      "p-value:  0.5786197879539783\n",
      "Failed to reject the null hypothesis: there is no reason to consider the proportions different\n",
      "----------------------------------------------------------------------------------------------------\n",
      "PaymentScreenSuccessful\n",
      "p-value:  0.7373415053803964\n",
      "Failed to reject the null hypothesis: there is no reason to consider the proportions different\n",
      "----------------------------------------------------------------------------------------------------\n",
      "Tutorial\n",
      "p-value:  0.765323922474501\n",
      "Failed to reject the null hypothesis: there is no reason to consider the proportions different\n",
      "----------------------------------------------------------------------------------------------------\n"
     ]
    }
   ],
   "source": [
    "for i in range(len(merged_pivot)):\n",
    "    event_name = merged_pivot.iloc[i,0]\n",
    "    events_nums_247_248 = [merged_pivot.iloc[i,2], merged_pivot.iloc[i,3]]\n",
    "    users_nums_247_248 = [users_num_247, users_num_248]\n",
    "    z_test(event_name, events_nums_247_248, users_nums_247_248)"
   ]
  },
  {
   "cell_type": "markdown",
   "metadata": {},
   "source": [
    "<div class=\"alert alert-success\">\n",
    "<b>Reviewer's comment:</b> Good, all test are correct.\n",
    "</div>"
   ]
  },
  {
   "cell_type": "markdown",
   "metadata": {},
   "source": [
    "We failed to reject any of the null hypotheses. There isn't a significant difference between the proportions of 247 and 248 samples.\n",
    "\n",
    "----\n",
    "\n",
    "### What significance level have you set to test the statistical hypotheses mentioned above? \n",
    "* Calculate how many statistical hypothesis tests you carried out. \n",
    "* With a statistical significance level of 0.1, one in 10 results could be false. \n",
    "* What should the significance level be? \n",
    "* If you want to change it, run through the previous steps again and check your conclusions.\n",
    "\n",
    "We carried out 15  statistical hypothesis tests. We can use the Bonferroni correction: α = α/m. \n",
    "\n",
    "So if we want a significance level of 0.05, the α should be 0.05 / 15 = 0.003 \n",
    "\n",
    "-----\n",
    "### Conclusion\n",
    "* We found the number of users in each group.\n",
    "* There isn't a statistically significant difference between samples 246 and 247.\n",
    "* We found the number of users who performed this action.\n",
    "* The groups were split properly.\n",
    "* There isn't a statistically significant difference between samples 246 and 248 or between 247 and 248.\n",
    "* The group with altered fonts doesn't have an advantage over the control groups.\n",
    "* We carried out 15 statistical hypothesis tests. We started with significance level of 0.05 and ended with 0.003. We didn't find any statistical significance between the groups."
   ]
  },
  {
   "cell_type": "markdown",
   "metadata": {},
   "source": [
    "<div class=\"alert alert-warning\">\n",
    "<b>Reviewer's comment: </b> Great that you are already familiar with the Bonferroni correction. It can save you from the false negative error, but on the other hand, this correction is too strict. It's almost impossible to reject H0 hypotheses with it. Thus, we usually use other corrections for real tasks.  You can read about them here: <br>\n",
    "<a>http://jpktd.blogspot.com/2013/04/multiple-testing-p-value-corrections-in.html</a>    \n",
    "</div>"
   ]
  },
  {
   "cell_type": "markdown",
   "metadata": {},
   "source": [
    "## General Conclusion:\n",
    "* We cleaned the data and made sure eveything was in order.\n",
    "* We split the groups and made sure the proportions between the groups stay similar.\n",
    "* There isn't a statistically significant difference between samples 246 and 248 or between 247 and 248.\n",
    "* The group with altered fonts doesn't have an advantage over the control groups.\n",
    "* We carried out 15 statistical hypothesis tests. We started with significance level of 0.05 and ended with 0.003. We didn't find any statistical significance between the groups.\n",
    "\n",
    "For these reasons, I don't recommend to change the fonts."
   ]
  },
  {
   "cell_type": "code",
   "execution_count": null,
   "metadata": {},
   "outputs": [],
   "source": []
  },
  {
   "cell_type": "markdown",
   "metadata": {},
   "source": [
    "<div class=\"alert alert-success\">\n",
    "<b>Reviewer's comment:</b> Thank you for the research!\n",
    "</div>\n",
    "\n",
    "<div class=\"alert alert-info\">\n",
    "Fixed the issues in this note book, hope it's what you requested.\n",
    "    \n",
    "Thanks for your time and patience Grigoriy\n",
    "</div>\n"
   ]
  }
 ],
 "metadata": {
  "ExecuteTimeLog": [
   {
    "duration": 366,
    "start_time": "2021-08-26T09:45:23.807Z"
   },
   {
    "duration": 45977,
    "start_time": "2021-08-26T09:50:37.322Z"
   },
   {
    "duration": 3,
    "start_time": "2021-08-26T09:51:51.868Z"
   },
   {
    "duration": 1634,
    "start_time": "2021-08-26T09:51:53.500Z"
   },
   {
    "duration": 277,
    "start_time": "2021-08-26T09:51:56.948Z"
   },
   {
    "duration": 280,
    "start_time": "2021-08-26T09:52:28.983Z"
   },
   {
    "duration": 10,
    "start_time": "2021-08-26T09:52:49.129Z"
   },
   {
    "duration": 280,
    "start_time": "2021-08-26T09:53:05.618Z"
   },
   {
    "duration": 7,
    "start_time": "2021-08-26T09:53:07.231Z"
   },
   {
    "duration": 107,
    "start_time": "2021-08-26T09:53:15.242Z"
   },
   {
    "duration": 258,
    "start_time": "2021-08-26T09:53:33.417Z"
   },
   {
    "duration": 7,
    "start_time": "2021-08-26T09:53:35.093Z"
   },
   {
    "duration": 89,
    "start_time": "2021-08-26T09:53:50.832Z"
   },
   {
    "duration": 133,
    "start_time": "2021-08-26T09:54:08.089Z"
   },
   {
    "duration": 7,
    "start_time": "2021-08-26T09:54:09.603Z"
   },
   {
    "duration": 23,
    "start_time": "2021-08-26T10:01:29.207Z"
   },
   {
    "duration": 108,
    "start_time": "2021-08-26T10:13:12.012Z"
   },
   {
    "duration": 10,
    "start_time": "2021-08-26T10:15:22.320Z"
   },
   {
    "duration": 16,
    "start_time": "2021-08-26T10:18:45.888Z"
   },
   {
    "duration": 11,
    "start_time": "2021-08-26T10:23:28.325Z"
   },
   {
    "duration": 356,
    "start_time": "2021-08-26T10:24:26.785Z"
   },
   {
    "duration": 293,
    "start_time": "2021-08-26T10:24:35.856Z"
   },
   {
    "duration": 183,
    "start_time": "2021-08-26T10:24:49.640Z"
   },
   {
    "duration": 16,
    "start_time": "2021-08-26T10:50:57.702Z"
   },
   {
    "duration": 60,
    "start_time": "2021-08-26T10:51:36.025Z"
   },
   {
    "duration": 58,
    "start_time": "2021-08-26T10:51:43.626Z"
   },
   {
    "duration": 4,
    "start_time": "2021-08-26T10:53:13.671Z"
   },
   {
    "duration": 4,
    "start_time": "2021-08-26T10:53:20.883Z"
   },
   {
    "duration": 297,
    "start_time": "2021-08-26T10:55:01.503Z"
   },
   {
    "duration": 121,
    "start_time": "2021-08-26T10:55:04.993Z"
   },
   {
    "duration": 113,
    "start_time": "2021-08-26T10:55:10.672Z"
   },
   {
    "duration": 361,
    "start_time": "2021-08-26T10:55:29.803Z"
   },
   {
    "duration": 117,
    "start_time": "2021-08-26T10:55:39.719Z"
   },
   {
    "duration": 137,
    "start_time": "2021-08-26T10:55:46.472Z"
   },
   {
    "duration": 128,
    "start_time": "2021-08-26T11:13:48.926Z"
   },
   {
    "duration": 271,
    "start_time": "2021-08-26T11:14:27.212Z"
   },
   {
    "duration": 277,
    "start_time": "2021-08-26T11:14:34.735Z"
   },
   {
    "duration": 73,
    "start_time": "2021-08-26T11:14:37.772Z"
   },
   {
    "duration": 18114,
    "start_time": "2021-08-26T11:35:32.822Z"
   },
   {
    "duration": 3,
    "start_time": "2021-08-26T11:35:50.939Z"
   },
   {
    "duration": 15,
    "start_time": "2021-08-26T11:35:50.944Z"
   },
   {
    "duration": 143,
    "start_time": "2021-08-26T11:35:53.102Z"
   },
   {
    "duration": 24,
    "start_time": "2021-08-26T11:35:57.140Z"
   },
   {
    "duration": 3519,
    "start_time": "2021-08-26T11:36:08.694Z"
   },
   {
    "duration": 11,
    "start_time": "2021-08-26T11:36:18.260Z"
   },
   {
    "duration": 22,
    "start_time": "2021-08-26T11:36:20.906Z"
   },
   {
    "duration": 162,
    "start_time": "2021-08-26T11:36:23.099Z"
   },
   {
    "duration": 21,
    "start_time": "2021-08-26T11:36:28.769Z"
   },
   {
    "duration": 53,
    "start_time": "2021-08-26T11:36:35.745Z"
   },
   {
    "duration": 5,
    "start_time": "2021-08-26T11:36:36.222Z"
   },
   {
    "duration": 137,
    "start_time": "2021-08-26T11:36:38.627Z"
   },
   {
    "duration": 17836,
    "start_time": "2021-08-26T11:37:25.467Z"
   },
   {
    "duration": 3,
    "start_time": "2021-08-26T11:37:43.306Z"
   },
   {
    "duration": 1399,
    "start_time": "2021-08-26T11:37:43.310Z"
   },
   {
    "duration": 137,
    "start_time": "2021-08-26T11:38:19.962Z"
   },
   {
    "duration": 21,
    "start_time": "2021-08-26T11:38:23.954Z"
   },
   {
    "duration": 128,
    "start_time": "2021-08-26T11:38:27.656Z"
   },
   {
    "duration": 19,
    "start_time": "2021-08-26T11:38:50.940Z"
   },
   {
    "duration": 17666,
    "start_time": "2021-08-26T14:31:40.782Z"
   },
   {
    "duration": 3,
    "start_time": "2021-08-26T14:31:58.450Z"
   },
   {
    "duration": 12,
    "start_time": "2021-08-26T14:31:58.455Z"
   },
   {
    "duration": 139,
    "start_time": "2021-08-26T14:31:58.469Z"
   },
   {
    "duration": 120,
    "start_time": "2021-08-26T14:31:58.610Z"
   },
   {
    "duration": 20,
    "start_time": "2021-08-26T14:31:58.731Z"
   },
   {
    "duration": 10,
    "start_time": "2021-08-26T14:31:58.753Z"
   },
   {
    "duration": 34,
    "start_time": "2021-08-26T14:31:58.765Z"
   },
   {
    "duration": 182,
    "start_time": "2021-08-26T14:31:58.802Z"
   },
   {
    "duration": 17,
    "start_time": "2021-08-26T14:31:58.986Z"
   },
   {
    "duration": 79,
    "start_time": "2021-08-26T14:31:59.005Z"
   },
   {
    "duration": 5,
    "start_time": "2021-08-26T14:31:59.086Z"
   },
   {
    "duration": 153,
    "start_time": "2021-08-26T14:31:59.093Z"
   },
   {
    "duration": 73,
    "start_time": "2021-08-26T14:32:19.311Z"
   },
   {
    "duration": 147,
    "start_time": "2021-08-26T14:36:20.381Z"
   },
   {
    "duration": 6,
    "start_time": "2021-08-26T14:39:35.805Z"
   },
   {
    "duration": 86,
    "start_time": "2021-08-26T14:40:05.761Z"
   },
   {
    "duration": 7,
    "start_time": "2021-08-26T14:40:09.227Z"
   },
   {
    "duration": 442,
    "start_time": "2021-08-26T14:42:33.973Z"
   },
   {
    "duration": 18,
    "start_time": "2021-08-26T14:42:39.312Z"
   },
   {
    "duration": 274,
    "start_time": "2021-08-26T14:45:20.047Z"
   },
   {
    "duration": 17,
    "start_time": "2021-08-26T14:45:34.221Z"
   },
   {
    "duration": 16,
    "start_time": "2021-08-26T14:45:42.097Z"
   },
   {
    "duration": 19,
    "start_time": "2021-08-26T14:45:54.154Z"
   },
   {
    "duration": 31,
    "start_time": "2021-08-26T14:46:18.587Z"
   },
   {
    "duration": 8,
    "start_time": "2021-08-26T14:51:50.130Z"
   },
   {
    "duration": 326,
    "start_time": "2021-08-26T14:52:21.661Z"
   },
   {
    "duration": 5,
    "start_time": "2021-08-26T14:53:42.185Z"
   },
   {
    "duration": 21,
    "start_time": "2021-08-26T15:05:41.724Z"
   },
   {
    "duration": 6,
    "start_time": "2021-08-26T15:06:23.485Z"
   },
   {
    "duration": 21,
    "start_time": "2021-08-26T15:06:29.564Z"
   },
   {
    "duration": 25,
    "start_time": "2021-08-26T15:06:37.316Z"
   },
   {
    "duration": 5,
    "start_time": "2021-08-26T15:09:08.300Z"
   },
   {
    "duration": 4,
    "start_time": "2021-08-26T15:09:17.559Z"
   },
   {
    "duration": 4,
    "start_time": "2021-08-26T15:11:31.157Z"
   },
   {
    "duration": 5,
    "start_time": "2021-08-26T15:12:38.042Z"
   },
   {
    "duration": 3,
    "start_time": "2021-08-26T15:16:48.274Z"
   },
   {
    "duration": 334,
    "start_time": "2021-08-26T15:22:49.991Z"
   },
   {
    "duration": 32,
    "start_time": "2021-08-26T15:22:54.796Z"
   },
   {
    "duration": 17,
    "start_time": "2021-08-26T15:24:37.288Z"
   },
   {
    "duration": 14,
    "start_time": "2021-08-26T15:24:51.202Z"
   },
   {
    "duration": 305,
    "start_time": "2021-08-26T15:27:01.087Z"
   },
   {
    "duration": 32,
    "start_time": "2021-08-26T15:27:38.629Z"
   },
   {
    "duration": 24,
    "start_time": "2021-08-26T15:27:50.339Z"
   },
   {
    "duration": 24,
    "start_time": "2021-08-26T15:28:53.335Z"
   },
   {
    "duration": 31,
    "start_time": "2021-08-26T15:29:21.321Z"
   },
   {
    "duration": 5,
    "start_time": "2021-08-26T15:30:33.723Z"
   },
   {
    "duration": 4,
    "start_time": "2021-08-26T15:31:02.284Z"
   },
   {
    "duration": 312,
    "start_time": "2021-08-26T15:32:15.282Z"
   },
   {
    "duration": 681,
    "start_time": "2021-08-26T15:32:45.078Z"
   },
   {
    "duration": 307,
    "start_time": "2021-08-26T15:33:07.526Z"
   },
   {
    "duration": 22,
    "start_time": "2021-08-26T15:33:13.587Z"
   },
   {
    "duration": 316,
    "start_time": "2021-08-26T15:33:31.974Z"
   },
   {
    "duration": 295,
    "start_time": "2021-08-26T15:33:44.150Z"
   },
   {
    "duration": 305,
    "start_time": "2021-08-26T15:34:02.416Z"
   },
   {
    "duration": 22,
    "start_time": "2021-08-26T15:34:18.790Z"
   },
   {
    "duration": 24,
    "start_time": "2021-08-26T15:34:38.727Z"
   },
   {
    "duration": 291,
    "start_time": "2021-08-26T15:34:45.937Z"
   },
   {
    "duration": 24,
    "start_time": "2021-08-26T15:35:43.997Z"
   },
   {
    "duration": 16,
    "start_time": "2021-08-26T15:36:10.408Z"
   },
   {
    "duration": 17,
    "start_time": "2021-08-26T15:36:21.372Z"
   },
   {
    "duration": 312,
    "start_time": "2021-08-26T15:36:26.336Z"
   },
   {
    "duration": 17,
    "start_time": "2021-08-26T15:36:41.621Z"
   },
   {
    "duration": 14,
    "start_time": "2021-08-26T15:37:54.310Z"
   },
   {
    "duration": 288,
    "start_time": "2021-08-26T15:38:16.586Z"
   },
   {
    "duration": 303,
    "start_time": "2021-08-26T15:38:43.744Z"
   },
   {
    "duration": 300,
    "start_time": "2021-08-26T15:39:15.998Z"
   },
   {
    "duration": 291,
    "start_time": "2021-08-26T15:39:41.217Z"
   },
   {
    "duration": 299,
    "start_time": "2021-08-26T15:41:30.446Z"
   },
   {
    "duration": 289,
    "start_time": "2021-08-26T15:41:40.505Z"
   },
   {
    "duration": 323,
    "start_time": "2021-08-26T15:41:50.200Z"
   },
   {
    "duration": 25,
    "start_time": "2021-08-26T15:42:18.849Z"
   },
   {
    "duration": 59,
    "start_time": "2021-08-26T15:42:55.103Z"
   },
   {
    "duration": 21,
    "start_time": "2021-08-26T15:43:19.694Z"
   },
   {
    "duration": 24,
    "start_time": "2021-08-26T15:43:48.572Z"
   },
   {
    "duration": 294,
    "start_time": "2021-08-26T15:44:05.692Z"
   },
   {
    "duration": 16,
    "start_time": "2021-08-26T15:44:17.545Z"
   },
   {
    "duration": 17,
    "start_time": "2021-08-26T15:45:06.833Z"
   },
   {
    "duration": 25,
    "start_time": "2021-08-26T15:45:13.364Z"
   },
   {
    "duration": 22,
    "start_time": "2021-08-26T15:45:37.390Z"
   },
   {
    "duration": 304,
    "start_time": "2021-08-26T15:46:25.433Z"
   },
   {
    "duration": 18986,
    "start_time": "2021-08-26T15:52:46.130Z"
   },
   {
    "duration": 3,
    "start_time": "2021-08-26T15:53:05.119Z"
   },
   {
    "duration": 1328,
    "start_time": "2021-08-26T15:53:05.124Z"
   },
   {
    "duration": 138,
    "start_time": "2021-08-26T15:53:06.455Z"
   },
   {
    "duration": 155,
    "start_time": "2021-08-26T15:53:06.595Z"
   },
   {
    "duration": 13,
    "start_time": "2021-08-26T15:53:06.751Z"
   },
   {
    "duration": 11,
    "start_time": "2021-08-26T15:53:06.765Z"
   },
   {
    "duration": 23,
    "start_time": "2021-08-26T15:53:06.778Z"
   },
   {
    "duration": 205,
    "start_time": "2021-08-26T15:53:06.804Z"
   },
   {
    "duration": 17,
    "start_time": "2021-08-26T15:53:07.011Z"
   },
   {
    "duration": 63,
    "start_time": "2021-08-26T15:53:07.029Z"
   },
   {
    "duration": 3,
    "start_time": "2021-08-26T15:53:07.094Z"
   },
   {
    "duration": 155,
    "start_time": "2021-08-26T15:53:07.099Z"
   },
   {
    "duration": 93,
    "start_time": "2021-08-26T15:53:07.256Z"
   },
   {
    "duration": 17,
    "start_time": "2021-08-26T15:53:07.351Z"
   },
   {
    "duration": 36,
    "start_time": "2021-08-26T15:53:07.370Z"
   },
   {
    "duration": 10,
    "start_time": "2021-08-26T15:53:07.408Z"
   },
   {
    "duration": 23,
    "start_time": "2021-08-26T15:53:07.420Z"
   },
   {
    "duration": 47,
    "start_time": "2021-08-26T15:53:07.444Z"
   },
   {
    "duration": 12,
    "start_time": "2021-08-26T15:53:07.493Z"
   },
   {
    "duration": 4,
    "start_time": "2021-08-26T15:53:07.507Z"
   },
   {
    "duration": 24,
    "start_time": "2021-08-26T15:53:59.814Z"
   },
   {
    "duration": 56,
    "start_time": "2021-08-26T15:54:21.802Z"
   },
   {
    "duration": 30,
    "start_time": "2021-08-26T15:54:30.843Z"
   },
   {
    "duration": 18712,
    "start_time": "2021-08-26T15:55:16.007Z"
   },
   {
    "duration": 3,
    "start_time": "2021-08-26T15:55:34.722Z"
   },
   {
    "duration": 1757,
    "start_time": "2021-08-26T15:55:34.728Z"
   },
   {
    "duration": 221,
    "start_time": "2021-08-26T15:55:36.488Z"
   },
   {
    "duration": 239,
    "start_time": "2021-08-26T15:55:36.711Z"
   },
   {
    "duration": 14,
    "start_time": "2021-08-26T15:55:36.952Z"
   },
   {
    "duration": 13,
    "start_time": "2021-08-26T15:55:36.969Z"
   },
   {
    "duration": 60,
    "start_time": "2021-08-26T15:55:36.986Z"
   },
   {
    "duration": 185,
    "start_time": "2021-08-26T15:55:37.049Z"
   },
   {
    "duration": 20,
    "start_time": "2021-08-26T15:55:37.236Z"
   },
   {
    "duration": 55,
    "start_time": "2021-08-26T15:55:37.258Z"
   },
   {
    "duration": 4,
    "start_time": "2021-08-26T15:55:37.315Z"
   },
   {
    "duration": 149,
    "start_time": "2021-08-26T15:55:37.341Z"
   },
   {
    "duration": 89,
    "start_time": "2021-08-26T15:55:37.491Z"
   },
   {
    "duration": 17,
    "start_time": "2021-08-26T15:55:37.582Z"
   },
   {
    "duration": 47,
    "start_time": "2021-08-26T15:55:37.601Z"
   },
   {
    "duration": 9,
    "start_time": "2021-08-26T15:55:37.650Z"
   },
   {
    "duration": 8,
    "start_time": "2021-08-26T15:55:37.661Z"
   },
   {
    "duration": 34,
    "start_time": "2021-08-26T15:55:37.671Z"
   },
   {
    "duration": 41,
    "start_time": "2021-08-26T15:55:37.707Z"
   },
   {
    "duration": 4,
    "start_time": "2021-08-26T15:55:37.750Z"
   },
   {
    "duration": 24,
    "start_time": "2021-08-26T15:57:17.397Z"
   },
   {
    "duration": 41640,
    "start_time": "2021-08-27T07:21:29.639Z"
   },
   {
    "duration": 3,
    "start_time": "2021-08-27T07:34:27.194Z"
   },
   {
    "duration": 1403,
    "start_time": "2021-08-27T07:34:27.589Z"
   },
   {
    "duration": 126,
    "start_time": "2021-08-27T07:34:28.993Z"
   },
   {
    "duration": 135,
    "start_time": "2021-08-27T07:34:31.959Z"
   },
   {
    "duration": 9,
    "start_time": "2021-08-27T07:34:34.983Z"
   },
   {
    "duration": 10,
    "start_time": "2021-08-27T07:34:36.448Z"
   },
   {
    "duration": 20,
    "start_time": "2021-08-27T07:34:48.955Z"
   },
   {
    "duration": 141,
    "start_time": "2021-08-27T07:34:49.673Z"
   },
   {
    "duration": 15,
    "start_time": "2021-08-27T07:34:51.686Z"
   },
   {
    "duration": 47,
    "start_time": "2021-08-27T07:35:07.505Z"
   },
   {
    "duration": 4,
    "start_time": "2021-08-27T07:35:08.134Z"
   },
   {
    "duration": 118,
    "start_time": "2021-08-27T07:35:16.960Z"
   },
   {
    "duration": 77,
    "start_time": "2021-08-27T07:35:32.181Z"
   },
   {
    "duration": 18,
    "start_time": "2021-08-27T07:35:35.298Z"
   },
   {
    "duration": 31,
    "start_time": "2021-08-27T07:35:36.538Z"
   },
   {
    "duration": 6,
    "start_time": "2021-08-27T07:35:39.439Z"
   },
   {
    "duration": 4,
    "start_time": "2021-08-27T07:35:56.479Z"
   },
   {
    "duration": 30,
    "start_time": "2021-08-27T07:36:04.827Z"
   },
   {
    "duration": 14,
    "start_time": "2021-08-27T07:36:14.954Z"
   },
   {
    "duration": 4,
    "start_time": "2021-08-27T07:36:18.747Z"
   },
   {
    "duration": 5,
    "start_time": "2021-08-27T07:37:52.861Z"
   },
   {
    "duration": 3,
    "start_time": "2021-08-27T07:39:24.074Z"
   },
   {
    "duration": 3,
    "start_time": "2021-08-27T07:53:45.654Z"
   },
   {
    "duration": 11,
    "start_time": "2021-08-27T07:53:53.115Z"
   },
   {
    "duration": 71,
    "start_time": "2021-08-27T07:54:19.797Z"
   },
   {
    "duration": 351,
    "start_time": "2021-08-27T07:57:00.774Z"
   },
   {
    "duration": 33,
    "start_time": "2021-08-27T07:57:07.101Z"
   },
   {
    "duration": 330,
    "start_time": "2021-08-27T07:57:33.883Z"
   },
   {
    "duration": 26,
    "start_time": "2021-08-27T07:57:40.979Z"
   },
   {
    "duration": 286,
    "start_time": "2021-08-27T07:57:47.772Z"
   },
   {
    "duration": 444,
    "start_time": "2021-08-27T07:58:57.819Z"
   },
   {
    "duration": 324,
    "start_time": "2021-08-27T07:59:46.519Z"
   },
   {
    "duration": 351,
    "start_time": "2021-08-27T08:00:08.964Z"
   },
   {
    "duration": 336,
    "start_time": "2021-08-27T08:02:12.128Z"
   },
   {
    "duration": 317,
    "start_time": "2021-08-27T08:02:49.134Z"
   },
   {
    "duration": 316,
    "start_time": "2021-08-27T08:03:12.784Z"
   },
   {
    "duration": 463,
    "start_time": "2021-08-27T08:03:18.744Z"
   },
   {
    "duration": 359,
    "start_time": "2021-08-27T08:04:36.355Z"
   },
   {
    "duration": 34,
    "start_time": "2021-08-27T08:08:41.637Z"
   },
   {
    "duration": 388,
    "start_time": "2021-08-27T08:13:02.552Z"
   },
   {
    "duration": 16,
    "start_time": "2021-08-27T08:18:16.892Z"
   },
   {
    "duration": 472,
    "start_time": "2021-08-27T08:23:27.284Z"
   },
   {
    "duration": 334,
    "start_time": "2021-08-27T08:23:33.032Z"
   },
   {
    "duration": 332,
    "start_time": "2021-08-27T08:23:51.081Z"
   },
   {
    "duration": 273,
    "start_time": "2021-08-27T08:32:42.451Z"
   },
   {
    "duration": 91,
    "start_time": "2021-08-27T08:33:16.347Z"
   },
   {
    "duration": 30,
    "start_time": "2021-08-27T08:34:14.918Z"
   },
   {
    "duration": 101,
    "start_time": "2021-08-27T08:34:49.213Z"
   },
   {
    "duration": 376,
    "start_time": "2021-08-27T08:34:52.740Z"
   },
   {
    "duration": 304,
    "start_time": "2021-08-27T08:34:55.925Z"
   },
   {
    "duration": 18,
    "start_time": "2021-08-27T08:34:58.468Z"
   },
   {
    "duration": 92,
    "start_time": "2021-08-27T08:35:08.786Z"
   },
   {
    "duration": 296,
    "start_time": "2021-08-27T08:35:32.222Z"
   },
   {
    "duration": 255,
    "start_time": "2021-08-27T08:35:40.279Z"
   },
   {
    "duration": 26,
    "start_time": "2021-08-27T08:36:08.544Z"
   },
   {
    "duration": 18,
    "start_time": "2021-08-27T08:37:23.782Z"
   },
   {
    "duration": 20,
    "start_time": "2021-08-27T08:38:39.103Z"
   },
   {
    "duration": 18,
    "start_time": "2021-08-27T08:39:24.838Z"
   },
   {
    "duration": 32,
    "start_time": "2021-08-27T08:42:24.952Z"
   },
   {
    "duration": 10,
    "start_time": "2021-08-27T08:42:54.740Z"
   },
   {
    "duration": 20,
    "start_time": "2021-08-27T08:44:58.208Z"
   },
   {
    "duration": 20,
    "start_time": "2021-08-27T08:45:04.359Z"
   },
   {
    "duration": 92,
    "start_time": "2021-08-27T08:46:12.291Z"
   },
   {
    "duration": 293,
    "start_time": "2021-08-27T08:46:17.540Z"
   },
   {
    "duration": 21,
    "start_time": "2021-08-27T08:46:23.309Z"
   },
   {
    "duration": 86,
    "start_time": "2021-08-27T08:51:39.189Z"
   },
   {
    "duration": 24,
    "start_time": "2021-08-27T08:51:51.490Z"
   },
   {
    "duration": 22,
    "start_time": "2021-08-27T08:52:12.312Z"
   },
   {
    "duration": 6,
    "start_time": "2021-08-27T08:53:57.793Z"
   },
   {
    "duration": 17,
    "start_time": "2021-08-27T08:57:14.190Z"
   },
   {
    "duration": 55,
    "start_time": "2021-08-27T08:59:49.076Z"
   },
   {
    "duration": 38,
    "start_time": "2021-08-27T08:59:57.231Z"
   },
   {
    "duration": 40,
    "start_time": "2021-08-27T09:00:37.874Z"
   },
   {
    "duration": 32,
    "start_time": "2021-08-27T09:01:46.343Z"
   },
   {
    "duration": 33,
    "start_time": "2021-08-27T09:01:50.429Z"
   },
   {
    "duration": 295,
    "start_time": "2021-08-27T09:02:06.920Z"
   },
   {
    "duration": 39,
    "start_time": "2021-08-27T09:02:11.857Z"
   },
   {
    "duration": 74,
    "start_time": "2021-08-27T09:02:30.807Z"
   },
   {
    "duration": 84,
    "start_time": "2021-08-27T09:03:16.309Z"
   },
   {
    "duration": 55,
    "start_time": "2021-08-27T09:05:28.616Z"
   },
   {
    "duration": 103,
    "start_time": "2021-08-27T09:19:20.810Z"
   },
   {
    "duration": 6,
    "start_time": "2021-08-27T09:19:24.945Z"
   },
   {
    "duration": 21,
    "start_time": "2021-08-27T09:23:38.352Z"
   },
   {
    "duration": 28,
    "start_time": "2021-08-27T09:23:58.713Z"
   },
   {
    "duration": 6,
    "start_time": "2021-08-27T09:25:52.935Z"
   },
   {
    "duration": 17,
    "start_time": "2021-08-27T09:26:12.772Z"
   },
   {
    "duration": 50,
    "start_time": "2021-08-27T09:26:25.144Z"
   },
   {
    "duration": 26,
    "start_time": "2021-08-27T09:29:39.020Z"
   },
   {
    "duration": 27,
    "start_time": "2021-08-27T09:29:44.172Z"
   },
   {
    "duration": 28,
    "start_time": "2021-08-27T10:00:41.565Z"
   },
   {
    "duration": 261,
    "start_time": "2021-08-27T10:00:44.635Z"
   },
   {
    "duration": 559,
    "start_time": "2021-08-27T10:00:54.208Z"
   },
   {
    "duration": 298,
    "start_time": "2021-08-27T10:02:30.213Z"
   },
   {
    "duration": 622,
    "start_time": "2021-08-27T10:02:51.477Z"
   },
   {
    "duration": 13,
    "start_time": "2021-08-27T10:06:05.638Z"
   },
   {
    "duration": 4,
    "start_time": "2021-08-27T10:06:08.355Z"
   },
   {
    "duration": 45,
    "start_time": "2021-08-27T10:32:10.554Z"
   },
   {
    "duration": 16485,
    "start_time": "2021-08-27T10:32:16.334Z"
   },
   {
    "duration": 3,
    "start_time": "2021-08-27T10:32:32.822Z"
   },
   {
    "duration": 25,
    "start_time": "2021-08-27T10:32:32.828Z"
   },
   {
    "duration": 141,
    "start_time": "2021-08-27T10:32:32.855Z"
   },
   {
    "duration": 125,
    "start_time": "2021-08-27T10:32:32.998Z"
   },
   {
    "duration": 17,
    "start_time": "2021-08-27T10:32:33.125Z"
   },
   {
    "duration": 31,
    "start_time": "2021-08-27T10:32:33.144Z"
   },
   {
    "duration": 40,
    "start_time": "2021-08-27T10:32:33.177Z"
   },
   {
    "duration": 149,
    "start_time": "2021-08-27T10:32:33.220Z"
   },
   {
    "duration": 17,
    "start_time": "2021-08-27T10:32:33.371Z"
   },
   {
    "duration": 46,
    "start_time": "2021-08-27T10:32:52.698Z"
   },
   {
    "duration": 49,
    "start_time": "2021-08-27T10:33:04.110Z"
   },
   {
    "duration": 17083,
    "start_time": "2021-08-27T10:33:32.140Z"
   },
   {
    "duration": 3,
    "start_time": "2021-08-27T10:33:49.225Z"
   },
   {
    "duration": 1267,
    "start_time": "2021-08-27T10:33:49.229Z"
   },
   {
    "duration": 126,
    "start_time": "2021-08-27T10:33:50.498Z"
   },
   {
    "duration": 141,
    "start_time": "2021-08-27T10:33:50.626Z"
   },
   {
    "duration": 10,
    "start_time": "2021-08-27T10:33:50.769Z"
   },
   {
    "duration": 10,
    "start_time": "2021-08-27T10:33:50.780Z"
   },
   {
    "duration": 21,
    "start_time": "2021-08-27T10:33:50.792Z"
   },
   {
    "duration": 173,
    "start_time": "2021-08-27T10:33:50.815Z"
   },
   {
    "duration": 15,
    "start_time": "2021-08-27T10:33:50.989Z"
   },
   {
    "duration": 50,
    "start_time": "2021-08-27T10:34:07.990Z"
   },
   {
    "duration": 50,
    "start_time": "2021-08-27T10:34:18.201Z"
   },
   {
    "duration": 52,
    "start_time": "2021-08-27T10:34:26.182Z"
   },
   {
    "duration": 15990,
    "start_time": "2021-08-27T10:35:08.777Z"
   },
   {
    "duration": 3,
    "start_time": "2021-08-27T10:35:24.769Z"
   },
   {
    "duration": 9,
    "start_time": "2021-08-27T10:35:24.775Z"
   },
   {
    "duration": 129,
    "start_time": "2021-08-27T10:35:24.785Z"
   },
   {
    "duration": 124,
    "start_time": "2021-08-27T10:35:24.916Z"
   },
   {
    "duration": 7,
    "start_time": "2021-08-27T10:35:25.042Z"
   },
   {
    "duration": 12,
    "start_time": "2021-08-27T10:35:25.051Z"
   },
   {
    "duration": 17,
    "start_time": "2021-08-27T10:35:25.065Z"
   },
   {
    "duration": 1,
    "start_time": "2021-08-27T10:35:25.084Z"
   },
   {
    "duration": 18,
    "start_time": "2021-08-27T10:35:25.087Z"
   },
   {
    "duration": 14,
    "start_time": "2021-08-27T10:35:29.445Z"
   },
   {
    "duration": 46,
    "start_time": "2021-08-27T10:35:31.153Z"
   },
   {
    "duration": 125,
    "start_time": "2021-08-27T10:36:21.734Z"
   },
   {
    "duration": 116,
    "start_time": "2021-08-27T10:36:23.353Z"
   },
   {
    "duration": 41,
    "start_time": "2021-08-27T10:36:37.849Z"
   },
   {
    "duration": 44,
    "start_time": "2021-08-27T10:36:44.550Z"
   },
   {
    "duration": 15956,
    "start_time": "2021-08-27T10:37:24.230Z"
   },
   {
    "duration": 3,
    "start_time": "2021-08-27T10:37:40.188Z"
   },
   {
    "duration": 1198,
    "start_time": "2021-08-27T10:37:40.193Z"
   },
   {
    "duration": 375,
    "start_time": "2021-08-27T10:38:12.320Z"
   },
   {
    "duration": 128,
    "start_time": "2021-08-27T10:38:16.038Z"
   },
   {
    "duration": 40,
    "start_time": "2021-08-27T10:38:16.496Z"
   },
   {
    "duration": 8,
    "start_time": "2021-08-27T10:38:24.260Z"
   },
   {
    "duration": 7,
    "start_time": "2021-08-27T10:38:45.421Z"
   },
   {
    "duration": 10,
    "start_time": "2021-08-27T10:38:49.851Z"
   },
   {
    "duration": 19,
    "start_time": "2021-08-27T10:38:52.387Z"
   },
   {
    "duration": 256,
    "start_time": "2021-08-27T10:39:04.748Z"
   },
   {
    "duration": 7,
    "start_time": "2021-08-27T10:39:41.776Z"
   },
   {
    "duration": 10,
    "start_time": "2021-08-27T10:39:44.825Z"
   },
   {
    "duration": 18,
    "start_time": "2021-08-27T10:39:51.450Z"
   },
   {
    "duration": 148,
    "start_time": "2021-08-27T10:40:00.000Z"
   },
   {
    "duration": 15,
    "start_time": "2021-08-27T10:40:03.546Z"
   },
   {
    "duration": 52,
    "start_time": "2021-08-27T10:40:05.668Z"
   },
   {
    "duration": 53,
    "start_time": "2021-08-27T10:42:03.114Z"
   },
   {
    "duration": 54,
    "start_time": "2021-08-27T10:42:16.561Z"
   },
   {
    "duration": 52,
    "start_time": "2021-08-27T10:44:06.219Z"
   },
   {
    "duration": 56,
    "start_time": "2021-08-27T10:44:41.062Z"
   },
   {
    "duration": 55,
    "start_time": "2021-08-27T10:45:06.071Z"
   },
   {
    "duration": 52,
    "start_time": "2021-08-27T10:45:16.317Z"
   },
   {
    "duration": 309,
    "start_time": "2021-08-27T10:46:47.860Z"
   },
   {
    "duration": 51,
    "start_time": "2021-08-27T10:46:51.734Z"
   },
   {
    "duration": 60,
    "start_time": "2021-08-27T10:46:52.850Z"
   },
   {
    "duration": 12,
    "start_time": "2021-08-27T10:47:32.057Z"
   },
   {
    "duration": 14,
    "start_time": "2021-08-27T10:48:49.124Z"
   },
   {
    "duration": 348,
    "start_time": "2021-08-27T10:49:03.235Z"
   },
   {
    "duration": 7,
    "start_time": "2021-08-27T10:49:07.641Z"
   },
   {
    "duration": 7,
    "start_time": "2021-08-27T10:53:08.781Z"
   },
   {
    "duration": 8,
    "start_time": "2021-08-27T10:53:20.152Z"
   },
   {
    "duration": 7,
    "start_time": "2021-08-27T10:54:22.391Z"
   },
   {
    "duration": 9,
    "start_time": "2021-08-27T10:54:35.015Z"
   },
   {
    "duration": 118,
    "start_time": "2021-08-27T10:56:26.470Z"
   },
   {
    "duration": 69,
    "start_time": "2021-08-27T10:56:36.369Z"
   },
   {
    "duration": 16,
    "start_time": "2021-08-27T10:56:39.364Z"
   },
   {
    "duration": 27,
    "start_time": "2021-08-27T10:59:59.239Z"
   },
   {
    "duration": 7,
    "start_time": "2021-08-27T11:00:00.939Z"
   },
   {
    "duration": 4,
    "start_time": "2021-08-27T11:00:03.592Z"
   },
   {
    "duration": 31,
    "start_time": "2021-08-27T11:00:06.181Z"
   },
   {
    "duration": 496,
    "start_time": "2021-08-27T11:00:49.316Z"
   },
   {
    "duration": 335,
    "start_time": "2021-08-27T11:02:01.881Z"
   },
   {
    "duration": 5,
    "start_time": "2021-08-27T11:02:17.335Z"
   },
   {
    "duration": 12,
    "start_time": "2021-08-27T11:02:42.385Z"
   },
   {
    "duration": 8,
    "start_time": "2021-08-27T11:04:00.359Z"
   },
   {
    "duration": 4,
    "start_time": "2021-08-27T11:04:00.865Z"
   },
   {
    "duration": 121,
    "start_time": "2021-08-27T11:04:08.729Z"
   },
   {
    "duration": 350,
    "start_time": "2021-08-27T11:04:12.601Z"
   },
   {
    "duration": 421,
    "start_time": "2021-08-27T11:04:23.045Z"
   },
   {
    "duration": 274,
    "start_time": "2021-08-27T11:04:29.021Z"
   },
   {
    "duration": 313,
    "start_time": "2021-08-27T11:04:34.395Z"
   },
   {
    "duration": 27,
    "start_time": "2021-08-27T11:04:43.924Z"
   },
   {
    "duration": 22,
    "start_time": "2021-08-27T11:10:30.681Z"
   },
   {
    "duration": 21,
    "start_time": "2021-08-27T11:11:27.794Z"
   },
   {
    "duration": 20,
    "start_time": "2021-08-27T11:11:51.462Z"
   },
   {
    "duration": 25,
    "start_time": "2021-08-27T11:12:24.952Z"
   },
   {
    "duration": 26,
    "start_time": "2021-08-27T11:17:38.881Z"
   },
   {
    "duration": 15,
    "start_time": "2021-08-27T11:17:58.226Z"
   },
   {
    "duration": 6,
    "start_time": "2021-08-27T11:18:04.414Z"
   },
   {
    "duration": 17,
    "start_time": "2021-08-27T11:21:12.028Z"
   },
   {
    "duration": 89,
    "start_time": "2021-08-27T11:25:41.376Z"
   },
   {
    "duration": 89,
    "start_time": "2021-08-27T11:25:46.020Z"
   },
   {
    "duration": 17,
    "start_time": "2021-08-27T11:25:49.832Z"
   },
   {
    "duration": 37,
    "start_time": "2021-08-27T11:41:47.387Z"
   },
   {
    "duration": 32,
    "start_time": "2021-08-27T11:46:56.325Z"
   },
   {
    "duration": 33,
    "start_time": "2021-08-27T11:47:09.781Z"
   },
   {
    "duration": 32,
    "start_time": "2021-08-27T11:47:19.522Z"
   },
   {
    "duration": 89,
    "start_time": "2021-08-27T11:48:09.259Z"
   },
   {
    "duration": 39,
    "start_time": "2021-08-27T11:48:14.123Z"
   },
   {
    "duration": 49,
    "start_time": "2021-08-27T11:48:31.339Z"
   },
   {
    "duration": 32,
    "start_time": "2021-08-27T11:49:16.215Z"
   },
   {
    "duration": 48,
    "start_time": "2021-08-27T11:49:25.682Z"
   },
   {
    "duration": 50,
    "start_time": "2021-08-27T11:49:49.254Z"
   },
   {
    "duration": 95,
    "start_time": "2021-08-27T11:50:00.193Z"
   },
   {
    "duration": 92,
    "start_time": "2021-08-27T11:50:32.622Z"
   },
   {
    "duration": 100,
    "start_time": "2021-08-27T11:50:37.676Z"
   },
   {
    "duration": 103,
    "start_time": "2021-08-27T11:50:44.743Z"
   },
   {
    "duration": 93,
    "start_time": "2021-08-27T11:51:23.187Z"
   },
   {
    "duration": 93,
    "start_time": "2021-08-27T11:54:07.715Z"
   },
   {
    "duration": 12726,
    "start_time": "2021-08-27T11:55:30.356Z"
   },
   {
    "duration": 122,
    "start_time": "2021-08-27T12:02:48.694Z"
   },
   {
    "duration": 108,
    "start_time": "2021-08-27T12:02:51.412Z"
   },
   {
    "duration": 119,
    "start_time": "2021-08-27T12:02:52.761Z"
   },
   {
    "duration": 12752,
    "start_time": "2021-08-27T12:03:02.560Z"
   },
   {
    "duration": 271,
    "start_time": "2021-08-27T12:08:09.702Z"
   },
   {
    "duration": 309,
    "start_time": "2021-08-27T12:08:11.698Z"
   },
   {
    "duration": 320,
    "start_time": "2021-08-27T12:08:12.178Z"
   },
   {
    "duration": 309,
    "start_time": "2021-08-27T12:08:13.934Z"
   },
   {
    "duration": 928,
    "start_time": "2021-08-27T12:08:13.317Z"
   },
   {
    "duration": 278,
    "start_time": "2021-08-27T12:08:22.338Z"
   },
   {
    "duration": 78,
    "start_time": "2021-08-27T12:08:34.660Z"
   },
   {
    "duration": 9,
    "start_time": "2021-08-27T12:08:38.103Z"
   },
   {
    "duration": 307,
    "start_time": "2021-08-27T12:08:50.176Z"
   },
   {
    "duration": 64,
    "start_time": "2021-08-27T12:09:00.237Z"
   },
   {
    "duration": 134,
    "start_time": "2021-08-27T12:10:52.812Z"
   },
   {
    "duration": 12669,
    "start_time": "2021-08-27T12:11:13.198Z"
   },
   {
    "duration": 68,
    "start_time": "2021-08-27T12:11:50.417Z"
   },
   {
    "duration": 8,
    "start_time": "2021-08-27T12:11:54.253Z"
   },
   {
    "duration": 50,
    "start_time": "2021-08-27T12:11:57.235Z"
   },
   {
    "duration": 182,
    "start_time": "2021-08-27T12:35:08.763Z"
   },
   {
    "duration": 14864,
    "start_time": "2021-08-27T12:41:18.677Z"
   },
   {
    "duration": 14807,
    "start_time": "2021-08-27T12:41:57.738Z"
   },
   {
    "duration": 15176,
    "start_time": "2021-08-27T12:43:40.943Z"
   },
   {
    "duration": 14468,
    "start_time": "2021-08-27T12:44:27.017Z"
   },
   {
    "duration": 424,
    "start_time": "2021-08-27T12:45:07.673Z"
   },
   {
    "duration": 286,
    "start_time": "2021-08-27T12:45:14.399Z"
   },
   {
    "duration": 3750,
    "start_time": "2021-08-27T12:45:24.576Z"
   },
   {
    "duration": 356,
    "start_time": "2021-08-27T12:45:36.855Z"
   },
   {
    "duration": 6,
    "start_time": "2021-08-27T12:45:41.664Z"
   },
   {
    "duration": 987,
    "start_time": "2021-08-27T12:47:59.796Z"
   },
   {
    "duration": 9,
    "start_time": "2021-08-27T12:48:06.313Z"
   },
   {
    "duration": 6,
    "start_time": "2021-08-27T12:48:42.396Z"
   },
   {
    "duration": 9,
    "start_time": "2021-08-27T12:48:48.206Z"
   },
   {
    "duration": 12,
    "start_time": "2021-08-27T12:49:53.315Z"
   },
   {
    "duration": 14150,
    "start_time": "2021-08-27T12:54:34.194Z"
   },
   {
    "duration": 14111,
    "start_time": "2021-08-27T12:54:59.124Z"
   },
   {
    "duration": 14145,
    "start_time": "2021-08-27T12:55:23.456Z"
   },
   {
    "duration": 13,
    "start_time": "2021-08-27T12:56:25.600Z"
   },
   {
    "duration": 93,
    "start_time": "2021-08-27T12:57:45.160Z"
   },
   {
    "duration": 14,
    "start_time": "2021-08-27T12:57:57.912Z"
   },
   {
    "duration": 14,
    "start_time": "2021-08-27T12:58:12.613Z"
   },
   {
    "duration": 16,
    "start_time": "2021-08-27T12:58:20.856Z"
   },
   {
    "duration": 17,
    "start_time": "2021-08-27T13:03:26.382Z"
   },
   {
    "duration": 14,
    "start_time": "2021-08-27T13:03:52.731Z"
   },
   {
    "duration": 16,
    "start_time": "2021-08-27T13:03:58.493Z"
   },
   {
    "duration": 13,
    "start_time": "2021-08-27T13:04:24.023Z"
   },
   {
    "duration": 15,
    "start_time": "2021-08-27T13:04:29.825Z"
   },
   {
    "duration": 17,
    "start_time": "2021-08-27T13:05:22.700Z"
   },
   {
    "duration": 15,
    "start_time": "2021-08-27T13:05:42.263Z"
   },
   {
    "duration": 24,
    "start_time": "2021-08-27T13:05:57.634Z"
   },
   {
    "duration": 15,
    "start_time": "2021-08-27T13:06:05.253Z"
   },
   {
    "duration": 1260,
    "start_time": "2021-08-27T13:07:55.339Z"
   },
   {
    "duration": 15,
    "start_time": "2021-08-27T13:08:37.669Z"
   },
   {
    "duration": 23,
    "start_time": "2021-08-27T13:10:56.467Z"
   },
   {
    "duration": 14,
    "start_time": "2021-08-27T13:11:13.734Z"
   },
   {
    "duration": 5,
    "start_time": "2021-08-27T13:11:50.048Z"
   },
   {
    "duration": 14,
    "start_time": "2021-08-27T13:11:58.965Z"
   },
   {
    "duration": 17,
    "start_time": "2021-08-27T13:12:07.312Z"
   },
   {
    "duration": 13536,
    "start_time": "2021-08-27T13:19:29.889Z"
   },
   {
    "duration": 14351,
    "start_time": "2021-08-27T13:20:05.378Z"
   },
   {
    "duration": 13857,
    "start_time": "2021-08-27T13:20:30.976Z"
   },
   {
    "duration": 1199,
    "start_time": "2021-08-27T13:20:48.710Z"
   },
   {
    "duration": 212,
    "start_time": "2021-08-27T14:10:18.191Z"
   },
   {
    "duration": 205,
    "start_time": "2021-08-27T14:10:38.321Z"
   },
   {
    "duration": 206,
    "start_time": "2021-08-27T14:10:43.113Z"
   },
   {
    "duration": 17513,
    "start_time": "2021-08-27T14:10:46.408Z"
   },
   {
    "duration": 78,
    "start_time": "2021-08-27T14:13:14.732Z"
   },
   {
    "duration": 10,
    "start_time": "2021-08-27T14:13:16.660Z"
   },
   {
    "duration": 59,
    "start_time": "2021-08-27T14:13:16.956Z"
   },
   {
    "duration": 4,
    "start_time": "2021-08-27T14:15:32.564Z"
   },
   {
    "duration": 4,
    "start_time": "2021-08-27T14:15:43.186Z"
   },
   {
    "duration": 124,
    "start_time": "2021-08-27T14:16:20.669Z"
   },
   {
    "duration": 94,
    "start_time": "2021-08-27T14:16:35.610Z"
   },
   {
    "duration": 4,
    "start_time": "2021-08-27T14:16:47.007Z"
   },
   {
    "duration": 3,
    "start_time": "2021-08-27T14:17:37.644Z"
   },
   {
    "duration": 97,
    "start_time": "2021-08-27T14:17:45.155Z"
   },
   {
    "duration": 40383,
    "start_time": "2021-08-27T19:44:57.772Z"
   },
   {
    "duration": 2,
    "start_time": "2021-08-27T19:45:38.158Z"
   },
   {
    "duration": 1760,
    "start_time": "2021-08-27T19:45:38.162Z"
   },
   {
    "duration": 161,
    "start_time": "2021-08-27T19:45:39.925Z"
   },
   {
    "duration": 11,
    "start_time": "2021-08-27T19:45:40.088Z"
   },
   {
    "duration": 14,
    "start_time": "2021-08-27T19:45:40.101Z"
   },
   {
    "duration": 38,
    "start_time": "2021-08-27T19:45:40.117Z"
   },
   {
    "duration": 173,
    "start_time": "2021-08-27T19:45:40.158Z"
   },
   {
    "duration": 15,
    "start_time": "2021-08-27T19:45:40.334Z"
   },
   {
    "duration": 1325,
    "start_time": "2021-08-27T19:45:40.351Z"
   },
   {
    "duration": 47,
    "start_time": "2021-08-27T19:45:41.677Z"
   },
   {
    "duration": 53,
    "start_time": "2021-08-27T19:45:41.726Z"
   },
   {
    "duration": 8,
    "start_time": "2021-08-27T19:45:41.781Z"
   },
   {
    "duration": 131,
    "start_time": "2021-08-27T19:45:41.790Z"
   },
   {
    "duration": 75,
    "start_time": "2021-08-27T19:45:41.922Z"
   },
   {
    "duration": 14,
    "start_time": "2021-08-27T19:45:41.999Z"
   },
   {
    "duration": 45,
    "start_time": "2021-08-27T19:45:42.015Z"
   },
   {
    "duration": 9,
    "start_time": "2021-08-27T19:45:42.062Z"
   },
   {
    "duration": 4,
    "start_time": "2021-08-27T19:45:42.072Z"
   },
   {
    "duration": 35,
    "start_time": "2021-08-27T19:45:42.078Z"
   },
   {
    "duration": 509,
    "start_time": "2021-08-27T19:45:42.115Z"
   },
   {
    "duration": 20,
    "start_time": "2021-08-27T19:45:42.625Z"
   },
   {
    "duration": 13,
    "start_time": "2021-08-27T19:45:42.647Z"
   },
   {
    "duration": 10,
    "start_time": "2021-08-27T19:45:42.662Z"
   },
   {
    "duration": 5,
    "start_time": "2021-08-27T19:45:42.674Z"
   },
   {
    "duration": 200,
    "start_time": "2021-08-27T19:45:42.680Z"
   },
   {
    "duration": 482,
    "start_time": "2021-08-27T19:45:42.881Z"
   },
   {
    "duration": 339,
    "start_time": "2021-08-27T19:45:43.364Z"
   },
   {
    "duration": 38,
    "start_time": "2021-08-27T19:45:43.705Z"
   },
   {
    "duration": 23,
    "start_time": "2021-08-27T19:45:43.744Z"
   },
   {
    "duration": 36,
    "start_time": "2021-08-27T19:45:43.769Z"
   },
   {
    "duration": 142,
    "start_time": "2021-08-27T19:45:43.806Z"
   },
   {
    "duration": 139,
    "start_time": "2021-08-27T19:45:43.949Z"
   },
   {
    "duration": 12419,
    "start_time": "2021-08-27T19:45:44.090Z"
   },
   {
    "duration": 1261,
    "start_time": "2021-08-27T19:45:56.510Z"
   },
   {
    "duration": 62,
    "start_time": "2021-08-27T19:45:57.773Z"
   },
   {
    "duration": 8,
    "start_time": "2021-08-27T19:45:57.837Z"
   },
   {
    "duration": 52,
    "start_time": "2021-08-27T19:46:02.833Z"
   },
   {
    "duration": 3,
    "start_time": "2021-08-27T19:47:21.866Z"
   },
   {
    "duration": 4,
    "start_time": "2021-08-27T19:48:54.576Z"
   },
   {
    "duration": 4,
    "start_time": "2021-08-27T19:49:03.788Z"
   },
   {
    "duration": 4,
    "start_time": "2021-08-27T19:49:08.182Z"
   },
   {
    "duration": 4,
    "start_time": "2021-08-27T19:49:11.805Z"
   },
   {
    "duration": 453,
    "start_time": "2021-08-27T20:03:28.099Z"
   },
   {
    "duration": 308,
    "start_time": "2021-08-27T20:03:45.663Z"
   },
   {
    "duration": 48,
    "start_time": "2021-08-27T20:04:25.094Z"
   },
   {
    "duration": 2,
    "start_time": "2021-08-27T20:05:04.326Z"
   },
   {
    "duration": 47,
    "start_time": "2021-08-27T20:05:08.222Z"
   },
   {
    "duration": 25,
    "start_time": "2021-08-27T20:06:15.953Z"
   },
   {
    "duration": 21,
    "start_time": "2021-08-27T20:07:24.454Z"
   },
   {
    "duration": 62,
    "start_time": "2021-08-27T20:08:03.434Z"
   },
   {
    "duration": 7,
    "start_time": "2021-08-27T20:08:34.095Z"
   },
   {
    "duration": 5,
    "start_time": "2021-08-27T20:08:35.353Z"
   },
   {
    "duration": 336,
    "start_time": "2021-08-27T20:09:16.254Z"
   },
   {
    "duration": 4,
    "start_time": "2021-08-27T20:10:20.205Z"
   },
   {
    "duration": 5,
    "start_time": "2021-08-27T20:10:20.726Z"
   },
   {
    "duration": 654,
    "start_time": "2021-08-27T20:10:22.519Z"
   },
   {
    "duration": 5,
    "start_time": "2021-08-27T20:10:57.283Z"
   },
   {
    "duration": 542,
    "start_time": "2021-08-27T20:11:01.319Z"
   },
   {
    "duration": 4,
    "start_time": "2021-08-27T20:11:33.063Z"
   },
   {
    "duration": 549,
    "start_time": "2021-08-27T20:11:42.052Z"
   },
   {
    "duration": 91,
    "start_time": "2021-08-27T20:12:15.652Z"
   },
   {
    "duration": 4,
    "start_time": "2021-08-27T20:12:26.768Z"
   },
   {
    "duration": 14,
    "start_time": "2021-08-27T20:12:31.371Z"
   },
   {
    "duration": 11,
    "start_time": "2021-08-27T20:14:22.803Z"
   },
   {
    "duration": 10,
    "start_time": "2021-08-27T20:15:06.771Z"
   },
   {
    "duration": 16888,
    "start_time": "2021-08-27T20:21:24.665Z"
   },
   {
    "duration": 3,
    "start_time": "2021-08-27T20:21:41.555Z"
   },
   {
    "duration": 1227,
    "start_time": "2021-08-27T20:21:41.560Z"
   },
   {
    "duration": 128,
    "start_time": "2021-08-27T20:21:42.789Z"
   },
   {
    "duration": 10,
    "start_time": "2021-08-27T20:21:42.919Z"
   },
   {
    "duration": 18,
    "start_time": "2021-08-27T20:21:42.930Z"
   },
   {
    "duration": 25,
    "start_time": "2021-08-27T20:21:42.950Z"
   },
   {
    "duration": 163,
    "start_time": "2021-08-27T20:21:42.978Z"
   },
   {
    "duration": 16,
    "start_time": "2021-08-27T20:21:43.143Z"
   },
   {
    "duration": 54,
    "start_time": "2021-08-27T20:21:43.160Z"
   },
   {
    "duration": 26,
    "start_time": "2021-08-27T20:21:43.216Z"
   },
   {
    "duration": 57,
    "start_time": "2021-08-27T20:21:43.243Z"
   },
   {
    "duration": 8,
    "start_time": "2021-08-27T20:21:43.301Z"
   },
   {
    "duration": 153,
    "start_time": "2021-08-27T20:21:43.311Z"
   },
   {
    "duration": 88,
    "start_time": "2021-08-27T20:21:43.466Z"
   },
   {
    "duration": 18,
    "start_time": "2021-08-27T20:21:43.556Z"
   },
   {
    "duration": 30,
    "start_time": "2021-08-27T20:21:43.576Z"
   },
   {
    "duration": 36,
    "start_time": "2021-08-27T20:21:43.608Z"
   },
   {
    "duration": 4,
    "start_time": "2021-08-27T20:21:43.646Z"
   },
   {
    "duration": 37,
    "start_time": "2021-08-27T20:21:43.652Z"
   },
   {
    "duration": 522,
    "start_time": "2021-08-27T20:21:43.691Z"
   },
   {
    "duration": 36,
    "start_time": "2021-08-27T20:21:44.216Z"
   },
   {
    "duration": 4,
    "start_time": "2021-08-27T20:21:44.256Z"
   },
   {
    "duration": 8,
    "start_time": "2021-08-27T20:21:44.263Z"
   },
   {
    "duration": 4,
    "start_time": "2021-08-27T20:21:44.274Z"
   },
   {
    "duration": 372,
    "start_time": "2021-08-27T20:21:44.279Z"
   },
   {
    "duration": 454,
    "start_time": "2021-08-27T20:21:44.653Z"
   },
   {
    "duration": 333,
    "start_time": "2021-08-27T20:21:45.108Z"
   },
   {
    "duration": 32,
    "start_time": "2021-08-27T20:21:45.443Z"
   },
   {
    "duration": 27,
    "start_time": "2021-08-27T20:21:45.477Z"
   },
   {
    "duration": 62,
    "start_time": "2021-08-27T20:21:45.505Z"
   },
   {
    "duration": 126,
    "start_time": "2021-08-27T20:21:45.568Z"
   },
   {
    "duration": 153,
    "start_time": "2021-08-27T20:21:45.696Z"
   },
   {
    "duration": 12156,
    "start_time": "2021-08-27T20:21:45.851Z"
   },
   {
    "duration": 1214,
    "start_time": "2021-08-27T20:21:58.008Z"
   },
   {
    "duration": 63,
    "start_time": "2021-08-27T20:21:59.224Z"
   },
   {
    "duration": 6,
    "start_time": "2021-08-27T20:21:59.289Z"
   },
   {
    "duration": 71,
    "start_time": "2021-08-27T20:21:59.297Z"
   },
   {
    "duration": 3,
    "start_time": "2021-08-27T20:21:59.369Z"
   },
   {
    "duration": 6,
    "start_time": "2021-08-27T20:21:59.374Z"
   },
   {
    "duration": 25,
    "start_time": "2021-08-27T20:21:59.381Z"
   },
   {
    "duration": 44,
    "start_time": "2021-08-27T20:21:59.408Z"
   },
   {
    "duration": 56,
    "start_time": "2021-08-27T20:21:59.454Z"
   },
   {
    "duration": 3,
    "start_time": "2021-08-27T20:21:59.511Z"
   },
   {
    "duration": 25,
    "start_time": "2021-08-27T20:21:59.515Z"
   },
   {
    "duration": 12,
    "start_time": "2021-08-27T20:21:59.542Z"
   },
   {
    "duration": 11,
    "start_time": "2021-08-27T20:21:59.556Z"
   },
   {
    "duration": 12,
    "start_time": "2021-08-27T20:21:59.568Z"
   },
   {
    "duration": 4,
    "start_time": "2021-08-27T21:23:05.894Z"
   },
   {
    "duration": 19,
    "start_time": "2021-08-27T21:23:05.901Z"
   },
   {
    "duration": 39304,
    "start_time": "2021-08-27T21:23:05.923Z"
   },
   {
    "duration": 347,
    "start_time": "2021-08-27T21:23:45.230Z"
   },
   {
    "duration": 16,
    "start_time": "2021-08-27T21:23:45.579Z"
   },
   {
    "duration": 70,
    "start_time": "2021-08-27T21:23:45.598Z"
   },
   {
    "duration": 22,
    "start_time": "2021-08-27T21:23:45.671Z"
   },
   {
    "duration": 607,
    "start_time": "2021-08-27T21:23:45.696Z"
   },
   {
    "duration": 75,
    "start_time": "2021-08-27T21:23:46.306Z"
   },
   {
    "duration": 199,
    "start_time": "2021-08-27T21:23:46.384Z"
   },
   {
    "duration": 4,
    "start_time": "2021-08-27T21:23:46.585Z"
   },
   {
    "duration": 187,
    "start_time": "2021-08-27T21:23:46.592Z"
   },
   {
    "duration": 81,
    "start_time": "2021-08-27T21:23:46.781Z"
   },
   {
    "duration": 509,
    "start_time": "2021-08-27T21:23:46.864Z"
   },
   {
    "duration": 312,
    "start_time": "2021-08-27T21:23:47.376Z"
   },
   {
    "duration": 172,
    "start_time": "2021-08-27T21:23:47.691Z"
   },
   {
    "duration": 128,
    "start_time": "2021-08-27T21:23:47.866Z"
   },
   {
    "duration": 8,
    "start_time": "2021-08-27T21:23:48.063Z"
   },
   {
    "duration": 5,
    "start_time": "2021-08-27T21:23:48.076Z"
   },
   {
    "duration": 180,
    "start_time": "2021-08-27T21:23:48.083Z"
   },
   {
    "duration": 2414,
    "start_time": "2021-08-27T21:23:48.266Z"
   },
   {
    "duration": 98,
    "start_time": "2021-08-27T21:23:50.684Z"
   },
   {
    "duration": 84,
    "start_time": "2021-08-27T21:23:50.786Z"
   },
   {
    "duration": 15,
    "start_time": "2021-08-27T21:23:50.873Z"
   },
   {
    "duration": 73,
    "start_time": "2021-08-27T21:23:50.891Z"
   },
   {
    "duration": 500,
    "start_time": "2021-08-27T21:23:50.968Z"
   },
   {
    "duration": 1308,
    "start_time": "2021-08-27T21:23:51.470Z"
   },
   {
    "duration": 1026,
    "start_time": "2021-08-27T21:23:52.781Z"
   },
   {
    "duration": 87,
    "start_time": "2021-08-27T21:23:53.810Z"
   },
   {
    "duration": 83,
    "start_time": "2021-08-27T21:23:53.899Z"
   },
   {
    "duration": 212,
    "start_time": "2021-08-27T21:23:53.984Z"
   },
   {
    "duration": 293,
    "start_time": "2021-08-27T21:23:54.199Z"
   },
   {
    "duration": 396,
    "start_time": "2021-08-27T21:23:54.495Z"
   },
   {
    "duration": 75111,
    "start_time": "2021-08-27T21:23:54.894Z"
   },
   {
    "duration": 17,
    "start_time": "2021-08-27T21:25:10.063Z"
   },
   {
    "duration": 212,
    "start_time": "2021-08-27T21:25:10.084Z"
   },
   {
    "duration": 69,
    "start_time": "2021-08-27T21:25:10.299Z"
   },
   {
    "duration": 1238,
    "start_time": "2021-08-27T21:25:10.371Z"
   },
   {
    "duration": -44,
    "start_time": "2021-08-27T21:25:11.656Z"
   },
   {
    "duration": -51,
    "start_time": "2021-08-27T21:25:11.664Z"
   },
   {
    "duration": -54,
    "start_time": "2021-08-27T21:25:11.669Z"
   },
   {
    "duration": -59,
    "start_time": "2021-08-27T21:25:11.675Z"
   },
   {
    "duration": -62,
    "start_time": "2021-08-27T21:25:11.680Z"
   },
   {
    "duration": -65,
    "start_time": "2021-08-27T21:25:11.684Z"
   },
   {
    "duration": -69,
    "start_time": "2021-08-27T21:25:11.690Z"
   },
   {
    "duration": -70,
    "start_time": "2021-08-27T21:25:11.693Z"
   },
   {
    "duration": -73,
    "start_time": "2021-08-27T21:25:11.697Z"
   },
   {
    "duration": -39,
    "start_time": "2021-08-27T21:25:11.700Z"
   },
   {
    "duration": 149059,
    "start_time": "2021-08-27T21:26:07.288Z"
   },
   {
    "duration": 3,
    "start_time": "2021-08-27T21:28:36.350Z"
   },
   {
    "duration": 1703,
    "start_time": "2021-08-27T21:28:36.356Z"
   },
   {
    "duration": 159,
    "start_time": "2021-08-27T21:28:38.063Z"
   },
   {
    "duration": 349,
    "start_time": "2021-08-27T21:28:38.224Z"
   },
   {
    "duration": 21,
    "start_time": "2021-08-27T21:28:38.575Z"
   },
   {
    "duration": 35,
    "start_time": "2021-08-27T21:28:38.599Z"
   },
   {
    "duration": 272,
    "start_time": "2021-08-27T21:28:38.638Z"
   },
   {
    "duration": 19,
    "start_time": "2021-08-27T21:28:38.913Z"
   },
   {
    "duration": 98,
    "start_time": "2021-08-27T21:28:38.935Z"
   },
   {
    "duration": 5,
    "start_time": "2021-08-27T21:28:39.036Z"
   },
   {
    "duration": 91,
    "start_time": "2021-08-27T21:28:39.062Z"
   },
   {
    "duration": 22,
    "start_time": "2021-08-27T21:28:39.162Z"
   },
   {
    "duration": 200,
    "start_time": "2021-08-27T21:28:39.187Z"
   },
   {
    "duration": 109,
    "start_time": "2021-08-27T21:28:39.389Z"
   },
   {
    "duration": 30,
    "start_time": "2021-08-27T21:28:39.501Z"
   },
   {
    "duration": 77,
    "start_time": "2021-08-27T21:28:39.534Z"
   },
   {
    "duration": 8,
    "start_time": "2021-08-27T21:28:39.614Z"
   },
   {
    "duration": 6,
    "start_time": "2021-08-27T21:28:39.624Z"
   },
   {
    "duration": 71,
    "start_time": "2021-08-27T21:28:39.633Z"
   },
   {
    "duration": 26241,
    "start_time": "2021-08-27T21:28:39.707Z"
   },
   {
    "duration": 26,
    "start_time": "2021-08-27T21:29:05.951Z"
   },
   {
    "duration": 5,
    "start_time": "2021-08-27T21:29:05.982Z"
   },
   {
    "duration": 20,
    "start_time": "2021-08-27T21:29:05.991Z"
   },
   {
    "duration": 6,
    "start_time": "2021-08-27T21:29:06.014Z"
   },
   {
    "duration": 299,
    "start_time": "2021-08-27T21:29:06.022Z"
   },
   {
    "duration": 821,
    "start_time": "2021-08-27T21:29:06.324Z"
   },
   {
    "duration": 921,
    "start_time": "2021-08-27T21:29:07.147Z"
   },
   {
    "duration": 99,
    "start_time": "2021-08-27T21:29:08.071Z"
   },
   {
    "duration": 30,
    "start_time": "2021-08-27T21:29:08.173Z"
   },
   {
    "duration": 174,
    "start_time": "2021-08-27T21:29:08.205Z"
   },
   {
    "duration": 139,
    "start_time": "2021-08-27T21:29:08.383Z"
   },
   {
    "duration": 202,
    "start_time": "2021-08-27T21:29:08.524Z"
   },
   {
    "duration": 43608,
    "start_time": "2021-08-27T21:29:08.728Z"
   },
   {
    "duration": 32,
    "start_time": "2021-08-27T21:29:52.339Z"
   },
   {
    "duration": 120,
    "start_time": "2021-08-27T21:29:52.374Z"
   },
   {
    "duration": 12,
    "start_time": "2021-08-27T21:29:52.497Z"
   },
   {
    "duration": 128,
    "start_time": "2021-08-27T21:29:52.511Z"
   },
   {
    "duration": 6,
    "start_time": "2021-08-27T21:29:52.642Z"
   },
   {
    "duration": 6,
    "start_time": "2021-08-27T21:29:52.663Z"
   },
   {
    "duration": 66,
    "start_time": "2021-08-27T21:29:52.672Z"
   },
   {
    "duration": 30,
    "start_time": "2021-08-27T21:29:52.763Z"
   },
   {
    "duration": 134,
    "start_time": "2021-08-27T21:29:52.796Z"
   },
   {
    "duration": 4,
    "start_time": "2021-08-27T21:29:52.932Z"
   },
   {
    "duration": 23,
    "start_time": "2021-08-27T21:29:52.939Z"
   },
   {
    "duration": 21,
    "start_time": "2021-08-27T21:29:52.965Z"
   },
   {
    "duration": 21,
    "start_time": "2021-08-27T21:29:52.989Z"
   },
   {
    "duration": 52,
    "start_time": "2021-08-27T21:29:53.013Z"
   },
   {
    "duration": 17063,
    "start_time": "2021-08-28T07:36:15.570Z"
   },
   {
    "duration": 5,
    "start_time": "2021-08-28T07:36:32.637Z"
   },
   {
    "duration": 1610,
    "start_time": "2021-08-28T07:36:32.646Z"
   },
   {
    "duration": 150,
    "start_time": "2021-08-28T07:36:34.259Z"
   },
   {
    "duration": 462,
    "start_time": "2021-08-28T07:36:34.411Z"
   },
   {
    "duration": 553,
    "start_time": "2021-08-28T07:36:34.876Z"
   },
   {
    "duration": 1974,
    "start_time": "2021-08-28T07:36:35.431Z"
   },
   {
    "duration": 641,
    "start_time": "2021-08-28T07:36:37.411Z"
   },
   {
    "duration": 277,
    "start_time": "2021-08-28T07:36:38.055Z"
   },
   {
    "duration": 1256,
    "start_time": "2021-08-28T07:36:38.335Z"
   },
   {
    "duration": 998,
    "start_time": "2021-08-28T07:36:39.593Z"
   },
   {
    "duration": 93,
    "start_time": "2021-08-28T07:36:40.593Z"
   },
   {
    "duration": 24,
    "start_time": "2021-08-28T07:36:40.691Z"
   },
   {
    "duration": 195,
    "start_time": "2021-08-28T07:36:40.718Z"
   },
   {
    "duration": 106,
    "start_time": "2021-08-28T07:36:40.915Z"
   },
   {
    "duration": 29,
    "start_time": "2021-08-28T07:36:41.023Z"
   },
   {
    "duration": 74,
    "start_time": "2021-08-28T07:36:41.054Z"
   },
   {
    "duration": 7,
    "start_time": "2021-08-28T07:36:41.131Z"
   },
   {
    "duration": 6,
    "start_time": "2021-08-28T07:36:41.141Z"
   },
   {
    "duration": 78,
    "start_time": "2021-08-28T07:36:41.149Z"
   },
   {
    "duration": 670,
    "start_time": "2021-08-28T07:36:41.229Z"
   },
   {
    "duration": 23,
    "start_time": "2021-08-28T07:36:41.901Z"
   },
   {
    "duration": 7,
    "start_time": "2021-08-28T07:36:41.981Z"
   },
   {
    "duration": 11,
    "start_time": "2021-08-28T07:45:03.132Z"
   },
   {
    "duration": 100,
    "start_time": "2021-08-28T07:45:46.202Z"
   },
   {
    "duration": 2797,
    "start_time": "2021-08-28T07:45:59.144Z"
   },
   {
    "duration": 3309,
    "start_time": "2021-08-28T07:46:15.786Z"
   },
   {
    "duration": 4,
    "start_time": "2021-08-28T07:46:19.098Z"
   },
   {
    "duration": 9,
    "start_time": "2021-08-28T07:46:19.105Z"
   },
   {
    "duration": 170,
    "start_time": "2021-08-28T07:46:19.117Z"
   },
   {
    "duration": 11,
    "start_time": "2021-08-28T07:46:19.289Z"
   },
   {
    "duration": 14,
    "start_time": "2021-08-28T07:46:19.303Z"
   },
   {
    "duration": 24,
    "start_time": "2021-08-28T07:46:19.320Z"
   },
   {
    "duration": 221,
    "start_time": "2021-08-28T07:47:12.080Z"
   },
   {
    "duration": 72,
    "start_time": "2021-08-28T07:47:26.062Z"
   },
   {
    "duration": 69,
    "start_time": "2021-08-28T07:51:36.071Z"
   },
   {
    "duration": 15,
    "start_time": "2021-08-28T07:51:36.421Z"
   },
   {
    "duration": 223,
    "start_time": "2021-08-28T07:51:38.405Z"
   },
   {
    "duration": 155,
    "start_time": "2021-08-28T07:51:39.756Z"
   },
   {
    "duration": 50,
    "start_time": "2021-08-28T07:51:41.849Z"
   },
   {
    "duration": 63,
    "start_time": "2021-08-28T07:51:46.112Z"
   },
   {
    "duration": 7,
    "start_time": "2021-08-28T07:51:47.830Z"
   },
   {
    "duration": 4,
    "start_time": "2021-08-28T07:51:50.533Z"
   },
   {
    "duration": 39,
    "start_time": "2021-08-28T07:51:53.596Z"
   },
   {
    "duration": 250,
    "start_time": "2021-08-28T07:52:00.918Z"
   },
   {
    "duration": 17,
    "start_time": "2021-08-28T07:52:07.414Z"
   },
   {
    "duration": 19,
    "start_time": "2021-08-28T07:52:21.439Z"
   },
   {
    "duration": 17,
    "start_time": "2021-08-28T07:52:27.257Z"
   },
   {
    "duration": 18,
    "start_time": "2021-08-28T07:52:54.553Z"
   },
   {
    "duration": 3,
    "start_time": "2021-08-28T07:53:23.827Z"
   },
   {
    "duration": 5,
    "start_time": "2021-08-28T07:53:26.290Z"
   },
   {
    "duration": 6,
    "start_time": "2021-08-28T07:53:41.543Z"
   },
   {
    "duration": 10,
    "start_time": "2021-08-28T07:53:55.415Z"
   },
   {
    "duration": 268,
    "start_time": "2021-08-28T07:54:06.768Z"
   },
   {
    "duration": 296,
    "start_time": "2021-08-28T07:54:37.347Z"
   },
   {
    "duration": 8,
    "start_time": "2021-08-28T07:54:42.080Z"
   },
   {
    "duration": 6,
    "start_time": "2021-08-28T07:54:51.595Z"
   },
   {
    "duration": 287,
    "start_time": "2021-08-28T07:54:56.324Z"
   },
   {
    "duration": 327,
    "start_time": "2021-08-28T07:55:04.595Z"
   },
   {
    "duration": 12,
    "start_time": "2021-08-28T07:58:20.004Z"
   },
   {
    "duration": 6,
    "start_time": "2021-08-28T07:58:33.550Z"
   },
   {
    "duration": 146,
    "start_time": "2021-08-28T08:05:06.454Z"
   },
   {
    "duration": 563,
    "start_time": "2021-08-28T08:05:09.701Z"
   },
   {
    "duration": 912,
    "start_time": "2021-08-28T08:05:48.260Z"
   },
   {
    "duration": 531,
    "start_time": "2021-08-28T08:06:02.085Z"
   },
   {
    "duration": 926,
    "start_time": "2021-08-28T08:06:26.125Z"
   },
   {
    "duration": 957,
    "start_time": "2021-08-28T08:06:38.988Z"
   },
   {
    "duration": 1841,
    "start_time": "2021-08-28T08:07:00.549Z"
   },
   {
    "duration": 97,
    "start_time": "2021-08-28T08:07:35.338Z"
   },
   {
    "duration": 986,
    "start_time": "2021-08-28T08:07:38.238Z"
   },
   {
    "duration": 701,
    "start_time": "2021-08-28T08:09:02.318Z"
   },
   {
    "duration": 836,
    "start_time": "2021-08-28T08:09:29.012Z"
   },
   {
    "duration": 826,
    "start_time": "2021-08-28T08:10:10.309Z"
   },
   {
    "duration": 740,
    "start_time": "2021-08-28T08:14:14.325Z"
   },
   {
    "duration": 977,
    "start_time": "2021-08-28T08:15:02.199Z"
   },
   {
    "duration": 635,
    "start_time": "2021-08-28T08:15:15.323Z"
   },
   {
    "duration": 542,
    "start_time": "2021-08-28T08:15:30.127Z"
   },
   {
    "duration": 551,
    "start_time": "2021-08-28T08:15:39.764Z"
   },
   {
    "duration": 581,
    "start_time": "2021-08-28T08:19:31.594Z"
   },
   {
    "duration": 568,
    "start_time": "2021-08-28T08:19:57.738Z"
   },
   {
    "duration": 703,
    "start_time": "2021-08-28T08:20:04.928Z"
   },
   {
    "duration": 83,
    "start_time": "2021-08-28T08:20:39.191Z"
   },
   {
    "duration": 691,
    "start_time": "2021-08-28T08:21:02.603Z"
   },
   {
    "duration": 706,
    "start_time": "2021-08-28T08:21:35.317Z"
   },
   {
    "duration": 1273,
    "start_time": "2021-08-28T08:24:14.268Z"
   },
   {
    "duration": 748,
    "start_time": "2021-08-28T08:25:02.276Z"
   },
   {
    "duration": 96,
    "start_time": "2021-08-28T08:26:25.176Z"
   },
   {
    "duration": 1007,
    "start_time": "2021-08-28T08:26:33.097Z"
   },
   {
    "duration": 1096,
    "start_time": "2021-08-28T08:27:36.879Z"
   },
   {
    "duration": 1622,
    "start_time": "2021-08-28T08:29:50.732Z"
   },
   {
    "duration": 221,
    "start_time": "2021-08-28T08:31:31.240Z"
   },
   {
    "duration": 708,
    "start_time": "2021-08-28T08:31:57.017Z"
   },
   {
    "duration": 999,
    "start_time": "2021-08-28T08:32:10.328Z"
   },
   {
    "duration": 740,
    "start_time": "2021-08-28T08:32:44.361Z"
   },
   {
    "duration": 737,
    "start_time": "2021-08-28T08:32:52.338Z"
   },
   {
    "duration": 713,
    "start_time": "2021-08-28T08:33:05.927Z"
   },
   {
    "duration": 1244,
    "start_time": "2021-08-28T08:34:25.270Z"
   },
   {
    "duration": 88,
    "start_time": "2021-08-28T08:34:32.926Z"
   },
   {
    "duration": 771,
    "start_time": "2021-08-28T08:34:42.728Z"
   },
   {
    "duration": 1129,
    "start_time": "2021-08-28T08:34:57.687Z"
   },
   {
    "duration": 775,
    "start_time": "2021-08-28T08:35:19.278Z"
   },
   {
    "duration": 732,
    "start_time": "2021-08-28T08:35:25.409Z"
   },
   {
    "duration": 786,
    "start_time": "2021-08-28T08:35:30.874Z"
   },
   {
    "duration": 792,
    "start_time": "2021-08-28T08:35:39.757Z"
   },
   {
    "duration": 857,
    "start_time": "2021-08-28T08:35:46.410Z"
   },
   {
    "duration": 786,
    "start_time": "2021-08-28T08:35:52.175Z"
   },
   {
    "duration": 766,
    "start_time": "2021-08-28T08:36:28.749Z"
   },
   {
    "duration": 912,
    "start_time": "2021-08-28T08:36:39.196Z"
   },
   {
    "duration": 808,
    "start_time": "2021-08-28T08:36:42.391Z"
   },
   {
    "duration": 40,
    "start_time": "2021-08-28T08:38:32.248Z"
   },
   {
    "duration": 21,
    "start_time": "2021-08-28T08:39:39.287Z"
   },
   {
    "duration": 75,
    "start_time": "2021-08-28T08:39:43.211Z"
   },
   {
    "duration": 111,
    "start_time": "2021-08-28T08:39:45.010Z"
   },
   {
    "duration": 210,
    "start_time": "2021-08-28T08:40:10.909Z"
   },
   {
    "duration": 163,
    "start_time": "2021-08-28T08:40:14.768Z"
   },
   {
    "duration": 31332,
    "start_time": "2021-08-28T08:40:20.316Z"
   },
   {
    "duration": 119,
    "start_time": "2021-08-28T08:42:31.386Z"
   },
   {
    "duration": 151,
    "start_time": "2021-08-28T08:42:35.346Z"
   },
   {
    "duration": 16,
    "start_time": "2021-08-28T08:42:38.584Z"
   },
   {
    "duration": 83,
    "start_time": "2021-08-28T08:42:41.754Z"
   },
   {
    "duration": 12,
    "start_time": "2021-08-28T08:42:44.832Z"
   },
   {
    "duration": 87,
    "start_time": "2021-08-28T08:42:45.790Z"
   },
   {
    "duration": 821,
    "start_time": "2021-08-28T08:43:06.989Z"
   },
   {
    "duration": 777,
    "start_time": "2021-08-28T08:43:16.953Z"
   },
   {
    "duration": 514,
    "start_time": "2021-08-28T08:44:03.142Z"
   },
   {
    "duration": 805,
    "start_time": "2021-08-28T08:44:26.133Z"
   },
   {
    "duration": 97,
    "start_time": "2021-08-28T08:46:13.292Z"
   },
   {
    "duration": 8,
    "start_time": "2021-08-28T08:48:40.826Z"
   },
   {
    "duration": 7,
    "start_time": "2021-08-28T08:49:02.289Z"
   },
   {
    "duration": 7,
    "start_time": "2021-08-28T08:49:51.606Z"
   },
   {
    "duration": 6,
    "start_time": "2021-08-28T08:50:03.667Z"
   },
   {
    "duration": 62,
    "start_time": "2021-08-28T08:51:26.306Z"
   },
   {
    "duration": 31,
    "start_time": "2021-08-28T08:51:28.425Z"
   },
   {
    "duration": 120,
    "start_time": "2021-08-28T08:51:29.113Z"
   },
   {
    "duration": 5,
    "start_time": "2021-08-28T08:51:30.897Z"
   },
   {
    "duration": 8,
    "start_time": "2021-08-28T08:51:33.714Z"
   },
   {
    "duration": 15,
    "start_time": "2021-08-28T08:51:38.976Z"
   }
  ],
  "kernelspec": {
   "display_name": "Python 3",
   "language": "python",
   "name": "python3"
  },
  "language_info": {
   "codemirror_mode": {
    "name": "ipython",
    "version": 3
   },
   "file_extension": ".py",
   "mimetype": "text/x-python",
   "name": "python",
   "nbconvert_exporter": "python",
   "pygments_lexer": "ipython3",
   "version": "3.7.8"
  },
  "toc": {
   "base_numbering": 1,
   "nav_menu": {},
   "number_sections": true,
   "sideBar": true,
   "skip_h1_title": true,
   "title_cell": "Table of Contents",
   "title_sidebar": "Contents",
   "toc_cell": false,
   "toc_position": {
    "height": "calc(100% - 180px)",
    "left": "10px",
    "top": "150px",
    "width": "289.6px"
   },
   "toc_section_display": true,
   "toc_window_display": true
  }
 },
 "nbformat": 4,
 "nbformat_minor": 2
}
