{
 "cells": [
  {
   "cell_type": "markdown",
   "metadata": {},
   "source": [
    "**Review**\n",
    "\n",
    "Hi, my name is Dmitry and I will be reviewing your project.\n",
    "  \n",
    "You can find my comments in colored markdown cells:\n",
    "  \n",
    "<div class=\"alert alert-success\">\n",
    "  If everything is done successfully.\n",
    "</div>\n",
    "  \n",
    "<div class=\"alert alert-warning\">\n",
    "  If I have some (optional) suggestions, or questions to think about, or general comments.\n",
    "</div>\n",
    "  \n",
    "<div class=\"alert alert-danger\">\n",
    "  If a section requires some corrections. Work can't be accepted with red comments.\n",
    "</div>\n",
    "  \n",
    "Please don't remove my comments, as it will make further review iterations much harder for me.\n",
    "  \n",
    "Feel free to reply to my comments or ask questions using the following template:\n",
    "  \n",
    "<div class=\"alert alert-info\">\n",
    "  For your comments and questions.\n",
    "</div>\n",
    "  \n",
    "First of all, thank you for turning in the project! You did an excellent job overall, there's just one tiny problem that needs to be fixed before the project is accepted. It should be very straightforward though!"
   ]
  },
  {
   "cell_type": "markdown",
   "metadata": {},
   "source": [
    "<div class=\"alert alert-info\">\n",
    "  Hey Dmitry, Thank you for reviewing my project! Thanks for the comments! I will respond and fix each one separately.\n",
    "</div>"
   ]
  },
  {
   "cell_type": "markdown",
   "metadata": {},
   "source": [
    "<div class=\"alert alert-success\">\n",
    "<b>Reviewer's comment V2</b>\n",
    "  \n",
    "You're welcome! The project is accepted. Keep up the good work in the next sprint! :)\n",
    "    \n",
    "P.S. Just wanted to let you know about a couple of points I forgot to mention in the first review, but that might be good to keep in mind for future projects:\n",
    "  \n",
    "1. As hyperparameters maximizing the model's accuracy are not necessarily the same as the hyperparameters maximizing F1 score, which is our target metric, it would be better to set the `scoring` parameter of `HalvingGridSearchCV` to `f1`. Scoring paramater even lets you use your custom metric if you need, check out [sklearn docs](https://scikit-learn.org/stable/modules/model_evaluation.html) for a nice overview.\n",
    "2. Another point is that if you use cross-validation, the proper way to scale the data is not to scale the whole train set, but use a pipeline with scaler + model (check out the example at [sklearn docs page for pipeline](https://scikit-learn.org/stable/modules/generated/sklearn.pipeline.Pipeline.html)). The idea is that if you scale the whole train set, the train subset in each fold will have implicit knowledge about the validation subset in that fold, because scaler was fit on their concatenation. If you use a pipeline, then the data will be scaled for each fold of cross-validation separately: with the scaler fit using only that fold's train subset. This helps to get a less biased cross-validation score. After you create a pipeline (pretty much just `pipeline = Pipeline([('scaler', StandardScaler()), ('rf', RandomForestClassifier())])`), you just use it in place of a model as an input to `GridSearchCV` and similar functions. And it works like a regular model to fit (`pipeline.fit(X_train, y_train)`) and make predictions on new data (`pipeline.predict(X_test)`)\n",
    "\n",
    "  \n",
    "</div>"
   ]
  },
  {
   "cell_type": "markdown",
   "metadata": {},
   "source": [
    "# Building a Model that Predict Leaving Customers the Beta Bank"
   ]
  },
  {
   "cell_type": "markdown",
   "metadata": {},
   "source": [
    "## Background:\n",
    "\n",
    "In Beta Bank customers leave the bank slowly. At the moment, bankers are interested in trying to prevent customers leaving and therefore, by examining customer behavior so far, it is necessary to build a model that will predict whether a customer will leave the bank soon.\n",
    "\n",
    "In order for the model to be good, it is necessary to find one with a maximum F1 score, and in any case not lower than 0.59."
   ]
  },
  {
   "cell_type": "code",
   "execution_count": 1,
   "metadata": {},
   "outputs": [],
   "source": [
    "#Import all the libraries that will be used in the project:\n",
    "\n",
    "import sklearn\n",
    "import pandas as pd\n",
    "\n",
    "import seaborn as sns\n",
    "import matplotlib.pyplot as plt\n",
    "%matplotlib inline\n",
    "\n",
    "from sklearn import datasets, metrics \n",
    "\n",
    "from sklearn.linear_model import LinearRegression, LogisticRegression\n",
    "from sklearn.ensemble import RandomForestClassifier\n",
    "from sklearn.tree import DecisionTreeClassifier\n",
    "\n",
    "from sklearn.metrics import accuracy_score, precision_score, recall_score, classification_report, confusion_matrix, roc_auc_score, f1_score, precision_recall_curve, roc_curve\n",
    "from sklearn.preprocessing import StandardScaler\n",
    "from sklearn.model_selection import train_test_split, RepeatedStratifiedKFold, GridSearchCV\n",
    "\n",
    "\n",
    "from sklearn.datasets import make_classification\n",
    "from sklearn.utils import shuffle\n"
   ]
  },
  {
   "cell_type": "code",
   "execution_count": 2,
   "metadata": {},
   "outputs": [
    {
     "name": "stdout",
     "output_type": "stream",
     "text": [
      "Defaulting to user installation because normal site-packages is not writeable\n",
      "Requirement already satisfied: missingno in /home/jovyan/.local/lib/python3.7/site-packages (0.5.0)\n",
      "Requirement already satisfied: numpy in /opt/conda/lib/python3.7/site-packages (from missingno) (1.19.5)\n",
      "Requirement already satisfied: seaborn in /opt/conda/lib/python3.7/site-packages (from missingno) (0.9.0)\n",
      "Requirement already satisfied: scipy in /opt/conda/lib/python3.7/site-packages (from missingno) (1.4.1)\n",
      "Requirement already satisfied: matplotlib in /opt/conda/lib/python3.7/site-packages (from missingno) (3.1.0)\n",
      "Requirement already satisfied: pandas>=0.15.2 in /opt/conda/lib/python3.7/site-packages (from seaborn->missingno) (0.25.1)\n",
      "Requirement already satisfied: cycler>=0.10 in /opt/conda/lib/python3.7/site-packages (from matplotlib->missingno) (0.10.0)\n",
      "Requirement already satisfied: kiwisolver>=1.0.1 in /opt/conda/lib/python3.7/site-packages (from matplotlib->missingno) (1.3.1)\n",
      "Requirement already satisfied: python-dateutil>=2.1 in /opt/conda/lib/python3.7/site-packages (from matplotlib->missingno) (2.8.1)\n",
      "Requirement already satisfied: pyparsing!=2.0.4,!=2.1.2,!=2.1.6,>=2.0.1 in /opt/conda/lib/python3.7/site-packages (from matplotlib->missingno) (2.4.7)\n",
      "Requirement already satisfied: pytz>=2017.2 in /opt/conda/lib/python3.7/site-packages (from pandas>=0.15.2->seaborn->missingno) (2021.1)\n",
      "Requirement already satisfied: six in /opt/conda/lib/python3.7/site-packages (from cycler>=0.10->matplotlib->missingno) (1.15.0)\n",
      "Note: you may need to restart the kernel to use updated packages.\n"
     ]
    }
   ],
   "source": [
    "pip install missingno"
   ]
  },
  {
   "cell_type": "code",
   "execution_count": 3,
   "metadata": {},
   "outputs": [
    {
     "name": "stdout",
     "output_type": "stream",
     "text": [
      "Defaulting to user installation because normal site-packages is not writeable\n",
      "Requirement already satisfied: numpy in /opt/conda/lib/python3.7/site-packages (1.19.5)\n",
      "Note: you may need to restart the kernel to use updated packages.\n"
     ]
    }
   ],
   "source": [
    "pip install numpy"
   ]
  },
  {
   "cell_type": "code",
   "execution_count": 4,
   "metadata": {},
   "outputs": [
    {
     "name": "stdout",
     "output_type": "stream",
     "text": [
      "Defaulting to user installation because normal site-packages is not writeable\n",
      "Requirement already satisfied: fast-ml in /home/jovyan/.local/lib/python3.7/site-packages (3.68)\n",
      "Note: you may need to restart the kernel to use updated packages.\n"
     ]
    }
   ],
   "source": [
    "pip install fast-ml"
   ]
  },
  {
   "cell_type": "code",
   "execution_count": 5,
   "metadata": {},
   "outputs": [
    {
     "name": "stdout",
     "output_type": "stream",
     "text": [
      "Defaulting to user installation because normal site-packages is not writeable\n",
      "Requirement already up-to-date: scikit-learn in /home/jovyan/.local/lib/python3.7/site-packages (1.0)\n",
      "Requirement already satisfied, skipping upgrade: numpy>=1.14.6 in /opt/conda/lib/python3.7/site-packages (from scikit-learn) (1.19.5)\n",
      "Requirement already satisfied, skipping upgrade: joblib>=0.11 in /opt/conda/lib/python3.7/site-packages (from scikit-learn) (1.0.1)\n",
      "Requirement already satisfied, skipping upgrade: threadpoolctl>=2.0.0 in /home/jovyan/.local/lib/python3.7/site-packages (from scikit-learn) (3.0.0)\n",
      "Requirement already satisfied, skipping upgrade: scipy>=1.1.0 in /opt/conda/lib/python3.7/site-packages (from scikit-learn) (1.4.1)\n",
      "Note: you may need to restart the kernel to use updated packages.\n"
     ]
    }
   ],
   "source": [
    "pip install --upgrade scikit-learn"
   ]
  },
  {
   "cell_type": "code",
   "execution_count": 6,
   "metadata": {},
   "outputs": [
    {
     "name": "stdout",
     "output_type": "stream",
     "text": [
      "1.0\n"
     ]
    }
   ],
   "source": [
    "print(sklearn.__version__)"
   ]
  },
  {
   "cell_type": "code",
   "execution_count": 7,
   "metadata": {},
   "outputs": [],
   "source": [
    "from sklearn.experimental import enable_halving_search_cv"
   ]
  },
  {
   "cell_type": "code",
   "execution_count": 8,
   "metadata": {},
   "outputs": [],
   "source": [
    "import missingno as msno\n",
    "import numpy as np\n",
    "from fast_ml.model_development import train_valid_test_split"
   ]
  },
  {
   "cell_type": "code",
   "execution_count": 9,
   "metadata": {},
   "outputs": [],
   "source": [
    "from sklearn.model_selection import HalvingGridSearchCV"
   ]
  },
  {
   "cell_type": "markdown",
   "metadata": {},
   "source": [
    "## Download and prepare the data:"
   ]
  },
  {
   "cell_type": "code",
   "execution_count": 10,
   "metadata": {},
   "outputs": [],
   "source": [
    "try:\n",
    "    data=pd.read_csv('/datasets/Churn.csv')\n",
    "except:\n",
    "    data=pd.read_csv('Churn.csv')"
   ]
  },
  {
   "cell_type": "code",
   "execution_count": 11,
   "metadata": {},
   "outputs": [
    {
     "data": {
      "text/html": [
       "<div>\n",
       "<style scoped>\n",
       "    .dataframe tbody tr th:only-of-type {\n",
       "        vertical-align: middle;\n",
       "    }\n",
       "\n",
       "    .dataframe tbody tr th {\n",
       "        vertical-align: top;\n",
       "    }\n",
       "\n",
       "    .dataframe thead th {\n",
       "        text-align: right;\n",
       "    }\n",
       "</style>\n",
       "<table border=\"1\" class=\"dataframe\">\n",
       "  <thead>\n",
       "    <tr style=\"text-align: right;\">\n",
       "      <th></th>\n",
       "      <th>RowNumber</th>\n",
       "      <th>CustomerId</th>\n",
       "      <th>Surname</th>\n",
       "      <th>CreditScore</th>\n",
       "      <th>Geography</th>\n",
       "      <th>Gender</th>\n",
       "      <th>Age</th>\n",
       "      <th>Tenure</th>\n",
       "      <th>Balance</th>\n",
       "      <th>NumOfProducts</th>\n",
       "      <th>HasCrCard</th>\n",
       "      <th>IsActiveMember</th>\n",
       "      <th>EstimatedSalary</th>\n",
       "      <th>Exited</th>\n",
       "    </tr>\n",
       "  </thead>\n",
       "  <tbody>\n",
       "    <tr>\n",
       "      <td>0</td>\n",
       "      <td>1</td>\n",
       "      <td>15634602</td>\n",
       "      <td>Hargrave</td>\n",
       "      <td>619</td>\n",
       "      <td>France</td>\n",
       "      <td>Female</td>\n",
       "      <td>42</td>\n",
       "      <td>2.0</td>\n",
       "      <td>0.00</td>\n",
       "      <td>1</td>\n",
       "      <td>1</td>\n",
       "      <td>1</td>\n",
       "      <td>101348.88</td>\n",
       "      <td>1</td>\n",
       "    </tr>\n",
       "    <tr>\n",
       "      <td>1</td>\n",
       "      <td>2</td>\n",
       "      <td>15647311</td>\n",
       "      <td>Hill</td>\n",
       "      <td>608</td>\n",
       "      <td>Spain</td>\n",
       "      <td>Female</td>\n",
       "      <td>41</td>\n",
       "      <td>1.0</td>\n",
       "      <td>83807.86</td>\n",
       "      <td>1</td>\n",
       "      <td>0</td>\n",
       "      <td>1</td>\n",
       "      <td>112542.58</td>\n",
       "      <td>0</td>\n",
       "    </tr>\n",
       "    <tr>\n",
       "      <td>2</td>\n",
       "      <td>3</td>\n",
       "      <td>15619304</td>\n",
       "      <td>Onio</td>\n",
       "      <td>502</td>\n",
       "      <td>France</td>\n",
       "      <td>Female</td>\n",
       "      <td>42</td>\n",
       "      <td>8.0</td>\n",
       "      <td>159660.80</td>\n",
       "      <td>3</td>\n",
       "      <td>1</td>\n",
       "      <td>0</td>\n",
       "      <td>113931.57</td>\n",
       "      <td>1</td>\n",
       "    </tr>\n",
       "    <tr>\n",
       "      <td>3</td>\n",
       "      <td>4</td>\n",
       "      <td>15701354</td>\n",
       "      <td>Boni</td>\n",
       "      <td>699</td>\n",
       "      <td>France</td>\n",
       "      <td>Female</td>\n",
       "      <td>39</td>\n",
       "      <td>1.0</td>\n",
       "      <td>0.00</td>\n",
       "      <td>2</td>\n",
       "      <td>0</td>\n",
       "      <td>0</td>\n",
       "      <td>93826.63</td>\n",
       "      <td>0</td>\n",
       "    </tr>\n",
       "    <tr>\n",
       "      <td>4</td>\n",
       "      <td>5</td>\n",
       "      <td>15737888</td>\n",
       "      <td>Mitchell</td>\n",
       "      <td>850</td>\n",
       "      <td>Spain</td>\n",
       "      <td>Female</td>\n",
       "      <td>43</td>\n",
       "      <td>2.0</td>\n",
       "      <td>125510.82</td>\n",
       "      <td>1</td>\n",
       "      <td>1</td>\n",
       "      <td>1</td>\n",
       "      <td>79084.10</td>\n",
       "      <td>0</td>\n",
       "    </tr>\n",
       "  </tbody>\n",
       "</table>\n",
       "</div>"
      ],
      "text/plain": [
       "   RowNumber  CustomerId   Surname  CreditScore Geography  Gender  Age  \\\n",
       "0          1    15634602  Hargrave          619    France  Female   42   \n",
       "1          2    15647311      Hill          608     Spain  Female   41   \n",
       "2          3    15619304      Onio          502    France  Female   42   \n",
       "3          4    15701354      Boni          699    France  Female   39   \n",
       "4          5    15737888  Mitchell          850     Spain  Female   43   \n",
       "\n",
       "   Tenure    Balance  NumOfProducts  HasCrCard  IsActiveMember  \\\n",
       "0     2.0       0.00              1          1               1   \n",
       "1     1.0   83807.86              1          0               1   \n",
       "2     8.0  159660.80              3          1               0   \n",
       "3     1.0       0.00              2          0               0   \n",
       "4     2.0  125510.82              1          1               1   \n",
       "\n",
       "   EstimatedSalary  Exited  \n",
       "0        101348.88       1  \n",
       "1        112542.58       0  \n",
       "2        113931.57       1  \n",
       "3         93826.63       0  \n",
       "4         79084.10       0  "
      ]
     },
     "execution_count": 11,
     "metadata": {},
     "output_type": "execute_result"
    }
   ],
   "source": [
    "data.head()"
   ]
  },
  {
   "cell_type": "markdown",
   "metadata": {},
   "source": [
    "### Data description:\n",
    "\n",
    "Features:\n",
    "* RowNumber - data string index\n",
    "* CustomerId - unique customer identifier\n",
    "* Surname - surname\n",
    "* CreditScore - credit score\n",
    "* Geography - country of residence\n",
    "* Gender - gender\n",
    "* Age - age\n",
    "* Tenure - period of maturation for a customer’s fixed deposit (years)\n",
    "* Balance - account balance\n",
    "* NumOfProducts - number of banking products used by the customer\n",
    "* HasCrCard - customer has a credit card\n",
    "* IsActiveMember - customer’s activeness\n",
    "* EstimatedSalary - estimated salary\n",
    "\n",
    "Target:\n",
    "* Exited - сustomer has left"
   ]
  },
  {
   "cell_type": "markdown",
   "metadata": {},
   "source": [
    "### Check the data:\n",
    "\n",
    "* Missing values\n",
    "* Type of cells\n",
    "* Shape, size and describe "
   ]
  },
  {
   "cell_type": "code",
   "execution_count": 12,
   "metadata": {},
   "outputs": [
    {
     "name": "stdout",
     "output_type": "stream",
     "text": [
      "<class 'pandas.core.frame.DataFrame'>\n",
      "RangeIndex: 10000 entries, 0 to 9999\n",
      "Data columns (total 14 columns):\n",
      "RowNumber          10000 non-null int64\n",
      "CustomerId         10000 non-null int64\n",
      "Surname            10000 non-null object\n",
      "CreditScore        10000 non-null int64\n",
      "Geography          10000 non-null object\n",
      "Gender             10000 non-null object\n",
      "Age                10000 non-null int64\n",
      "Tenure             9091 non-null float64\n",
      "Balance            10000 non-null float64\n",
      "NumOfProducts      10000 non-null int64\n",
      "HasCrCard          10000 non-null int64\n",
      "IsActiveMember     10000 non-null int64\n",
      "EstimatedSalary    10000 non-null float64\n",
      "Exited             10000 non-null int64\n",
      "dtypes: float64(3), int64(8), object(3)\n",
      "memory usage: 1.1+ MB\n"
     ]
    }
   ],
   "source": [
    "#Missing values\n",
    "data.info()"
   ]
  },
  {
   "cell_type": "code",
   "execution_count": 13,
   "metadata": {},
   "outputs": [
    {
     "data": {
      "image/png": "[encoded data removed]",
      "text/plain": [
       "<Figure size 1800x720 with 2 Axes>"
      ]
     },
     "metadata": {
      "needs_background": "light"
     },
     "output_type": "display_data"
    }
   ],
   "source": [
    "msno.matrix(data)\n",
    "plt.show()"
   ]
  },
  {
   "cell_type": "code",
   "execution_count": 14,
   "metadata": {},
   "outputs": [
    {
     "data": {
      "text/plain": [
       "RowNumber            0\n",
       "CustomerId           0\n",
       "Surname              0\n",
       "CreditScore          0\n",
       "Geography            0\n",
       "Gender               0\n",
       "Age                  0\n",
       "Tenure             909\n",
       "Balance              0\n",
       "NumOfProducts        0\n",
       "HasCrCard            0\n",
       "IsActiveMember       0\n",
       "EstimatedSalary      0\n",
       "Exited               0\n",
       "dtype: int64"
      ]
     },
     "execution_count": 14,
     "metadata": {},
     "output_type": "execute_result"
    }
   ],
   "source": [
    "data.isnull().sum()"
   ]
  },
  {
   "cell_type": "code",
   "execution_count": 15,
   "metadata": {},
   "outputs": [
    {
     "data": {
      "text/plain": [
       "(10000, 14)"
      ]
     },
     "execution_count": 15,
     "metadata": {},
     "output_type": "execute_result"
    }
   ],
   "source": [
    "data.shape"
   ]
  },
  {
   "cell_type": "code",
   "execution_count": 16,
   "metadata": {},
   "outputs": [
    {
     "data": {
      "text/html": [
       "<div>\n",
       "<style scoped>\n",
       "    .dataframe tbody tr th:only-of-type {\n",
       "        vertical-align: middle;\n",
       "    }\n",
       "\n",
       "    .dataframe tbody tr th {\n",
       "        vertical-align: top;\n",
       "    }\n",
       "\n",
       "    .dataframe thead th {\n",
       "        text-align: right;\n",
       "    }\n",
       "</style>\n",
       "<table border=\"1\" class=\"dataframe\">\n",
       "  <thead>\n",
       "    <tr style=\"text-align: right;\">\n",
       "      <th></th>\n",
       "      <th>RowNumber</th>\n",
       "      <th>CustomerId</th>\n",
       "      <th>CreditScore</th>\n",
       "      <th>Age</th>\n",
       "      <th>Tenure</th>\n",
       "      <th>Balance</th>\n",
       "      <th>NumOfProducts</th>\n",
       "      <th>HasCrCard</th>\n",
       "      <th>IsActiveMember</th>\n",
       "      <th>EstimatedSalary</th>\n",
       "      <th>Exited</th>\n",
       "    </tr>\n",
       "  </thead>\n",
       "  <tbody>\n",
       "    <tr>\n",
       "      <td>count</td>\n",
       "      <td>10000.00000</td>\n",
       "      <td>1.000000e+04</td>\n",
       "      <td>10000.000000</td>\n",
       "      <td>10000.000000</td>\n",
       "      <td>9091.000000</td>\n",
       "      <td>10000.000000</td>\n",
       "      <td>10000.000000</td>\n",
       "      <td>10000.00000</td>\n",
       "      <td>10000.000000</td>\n",
       "      <td>10000.000000</td>\n",
       "      <td>10000.000000</td>\n",
       "    </tr>\n",
       "    <tr>\n",
       "      <td>mean</td>\n",
       "      <td>5000.50000</td>\n",
       "      <td>1.569094e+07</td>\n",
       "      <td>650.528800</td>\n",
       "      <td>38.921800</td>\n",
       "      <td>4.997690</td>\n",
       "      <td>76485.889288</td>\n",
       "      <td>1.530200</td>\n",
       "      <td>0.70550</td>\n",
       "      <td>0.515100</td>\n",
       "      <td>100090.239881</td>\n",
       "      <td>0.203700</td>\n",
       "    </tr>\n",
       "    <tr>\n",
       "      <td>std</td>\n",
       "      <td>2886.89568</td>\n",
       "      <td>7.193619e+04</td>\n",
       "      <td>96.653299</td>\n",
       "      <td>10.487806</td>\n",
       "      <td>2.894723</td>\n",
       "      <td>62397.405202</td>\n",
       "      <td>0.581654</td>\n",
       "      <td>0.45584</td>\n",
       "      <td>0.499797</td>\n",
       "      <td>57510.492818</td>\n",
       "      <td>0.402769</td>\n",
       "    </tr>\n",
       "    <tr>\n",
       "      <td>min</td>\n",
       "      <td>1.00000</td>\n",
       "      <td>1.556570e+07</td>\n",
       "      <td>350.000000</td>\n",
       "      <td>18.000000</td>\n",
       "      <td>0.000000</td>\n",
       "      <td>0.000000</td>\n",
       "      <td>1.000000</td>\n",
       "      <td>0.00000</td>\n",
       "      <td>0.000000</td>\n",
       "      <td>11.580000</td>\n",
       "      <td>0.000000</td>\n",
       "    </tr>\n",
       "    <tr>\n",
       "      <td>25%</td>\n",
       "      <td>2500.75000</td>\n",
       "      <td>1.562853e+07</td>\n",
       "      <td>584.000000</td>\n",
       "      <td>32.000000</td>\n",
       "      <td>2.000000</td>\n",
       "      <td>0.000000</td>\n",
       "      <td>1.000000</td>\n",
       "      <td>0.00000</td>\n",
       "      <td>0.000000</td>\n",
       "      <td>51002.110000</td>\n",
       "      <td>0.000000</td>\n",
       "    </tr>\n",
       "    <tr>\n",
       "      <td>50%</td>\n",
       "      <td>5000.50000</td>\n",
       "      <td>1.569074e+07</td>\n",
       "      <td>652.000000</td>\n",
       "      <td>37.000000</td>\n",
       "      <td>5.000000</td>\n",
       "      <td>97198.540000</td>\n",
       "      <td>1.000000</td>\n",
       "      <td>1.00000</td>\n",
       "      <td>1.000000</td>\n",
       "      <td>100193.915000</td>\n",
       "      <td>0.000000</td>\n",
       "    </tr>\n",
       "    <tr>\n",
       "      <td>75%</td>\n",
       "      <td>7500.25000</td>\n",
       "      <td>1.575323e+07</td>\n",
       "      <td>718.000000</td>\n",
       "      <td>44.000000</td>\n",
       "      <td>7.000000</td>\n",
       "      <td>127644.240000</td>\n",
       "      <td>2.000000</td>\n",
       "      <td>1.00000</td>\n",
       "      <td>1.000000</td>\n",
       "      <td>149388.247500</td>\n",
       "      <td>0.000000</td>\n",
       "    </tr>\n",
       "    <tr>\n",
       "      <td>max</td>\n",
       "      <td>10000.00000</td>\n",
       "      <td>1.581569e+07</td>\n",
       "      <td>850.000000</td>\n",
       "      <td>92.000000</td>\n",
       "      <td>10.000000</td>\n",
       "      <td>250898.090000</td>\n",
       "      <td>4.000000</td>\n",
       "      <td>1.00000</td>\n",
       "      <td>1.000000</td>\n",
       "      <td>199992.480000</td>\n",
       "      <td>1.000000</td>\n",
       "    </tr>\n",
       "  </tbody>\n",
       "</table>\n",
       "</div>"
      ],
      "text/plain": [
       "         RowNumber    CustomerId   CreditScore           Age       Tenure  \\\n",
       "count  10000.00000  1.000000e+04  10000.000000  10000.000000  9091.000000   \n",
       "mean    5000.50000  1.569094e+07    650.528800     38.921800     4.997690   \n",
       "std     2886.89568  7.193619e+04     96.653299     10.487806     2.894723   \n",
       "min        1.00000  1.556570e+07    350.000000     18.000000     0.000000   \n",
       "25%     2500.75000  1.562853e+07    584.000000     32.000000     2.000000   \n",
       "50%     5000.50000  1.569074e+07    652.000000     37.000000     5.000000   \n",
       "75%     7500.25000  1.575323e+07    718.000000     44.000000     7.000000   \n",
       "max    10000.00000  1.581569e+07    850.000000     92.000000    10.000000   \n",
       "\n",
       "             Balance  NumOfProducts    HasCrCard  IsActiveMember  \\\n",
       "count   10000.000000   10000.000000  10000.00000    10000.000000   \n",
       "mean    76485.889288       1.530200      0.70550        0.515100   \n",
       "std     62397.405202       0.581654      0.45584        0.499797   \n",
       "min         0.000000       1.000000      0.00000        0.000000   \n",
       "25%         0.000000       1.000000      0.00000        0.000000   \n",
       "50%     97198.540000       1.000000      1.00000        1.000000   \n",
       "75%    127644.240000       2.000000      1.00000        1.000000   \n",
       "max    250898.090000       4.000000      1.00000        1.000000   \n",
       "\n",
       "       EstimatedSalary        Exited  \n",
       "count     10000.000000  10000.000000  \n",
       "mean     100090.239881      0.203700  \n",
       "std       57510.492818      0.402769  \n",
       "min          11.580000      0.000000  \n",
       "25%       51002.110000      0.000000  \n",
       "50%      100193.915000      0.000000  \n",
       "75%      149388.247500      0.000000  \n",
       "max      199992.480000      1.000000  "
      ]
     },
     "execution_count": 16,
     "metadata": {},
     "output_type": "execute_result"
    }
   ],
   "source": [
    "data.describe()"
   ]
  },
  {
   "cell_type": "markdown",
   "metadata": {},
   "source": [
    "#### Check the data - Conclusions and things that need to be fixed:\n",
    "\n",
    "* There are 3 columns whose information will not be useful to the models and therefore can be removed: RowNumber, CustomerId and Surname.\n",
    "* There are 909 missing values in the Tenure column, A prediction model can be builded that will predict the missing values - according to suggestion number 6 of this article: https://towardsdatascience.com/7-ways-to-handle-missing-values-in-machine-learning-1a6326adf79e\n",
    "* After filling the missing values, the Tenure column type should be changed to int."
   ]
  },
  {
   "cell_type": "markdown",
   "metadata": {},
   "source": [
    "<div class=\"alert alert-success\">\n",
    "<b>Reviewer's comment</b>\n",
    "\n",
    "Alright, the data was loaded and inspected.\n",
    "\n",
    "</div>"
   ]
  },
  {
   "cell_type": "markdown",
   "metadata": {},
   "source": [
    "<div class=\"alert alert-warning\">\n",
    "<b>Reviewer's comment</b>\n",
    "\n",
    "Making a model to fill missing values is a reasonable method, but in this case missing values might have a simple explanation: tenure represents how long someone has been a client, and a missing value could just mean a new client.\n",
    "\n",
    "</div>"
   ]
  },
  {
   "cell_type": "code",
   "execution_count": 17,
   "metadata": {},
   "outputs": [],
   "source": [
    "#Drop the columns than not help the models:\n",
    "data=data.drop(['RowNumber', 'CustomerId', 'Surname'], axis=1)"
   ]
  },
  {
   "cell_type": "markdown",
   "metadata": {},
   "source": [
    "<div class=\"alert alert-success\">\n",
    "<b>Reviewer's comment</b>\n",
    "\n",
    "Makes sense!\n",
    "\n",
    "</div>"
   ]
  },
  {
   "cell_type": "code",
   "execution_count": 18,
   "metadata": {},
   "outputs": [],
   "source": [
    "#Build model that predict the missing values:\n",
    "\n",
    "#Select the numeric columns \n",
    "numeric=data[['CreditScore', 'Gender', 'Age','Tenure', 'NumOfProducts', 'HasCrCard', \n",
    "              'IsActiveMember', 'EstimatedSalary', 'Exited']]\n",
    "\n",
    "#Change male and female to 0 and 1 respectively \n",
    "numeric['Gender']=[1 if x=='Male' else 0 for x in data['Gender']]\n",
    "\n",
    "#Split the numeric data into test_data (contain the missing values) and train (contain the rest of the data):\n",
    "#test\n",
    "test_data=numeric[numeric['Tenure'].isnull()]\n",
    "x_test=test_data.drop('Tenure', axis=1)\n",
    "\n",
    "numeric.dropna(inplace=True)\n",
    "\n",
    "#train\n",
    "x_train=numeric.drop('Tenure', axis=1)\n",
    "y_train=numeric['Tenure']\n",
    "\n",
    "#train the model\n",
    "model=LinearRegression()\n",
    "model.fit(x_train, y_train)\n",
    "\n",
    "#predict the target of test\n",
    "predicted_test=model.predict(x_test)\n",
    "\n",
    "#change the predict target to array\n",
    "np_array = np.array(predicted_test)\n",
    "\n",
    "#round the values to integer\n",
    "np_round_to_int = np.around(np_array, 0)\n",
    "round_to_int = list(np_round_to_int)\n",
    "\n",
    "#fill the missing values using the values that model predicted:\n",
    "fill = pd.DataFrame(index=data.index[data.isnull().any(axis=1)], data=round_to_int ,columns=['Tenure'])\n",
    "data=data.fillna(fill)"
   ]
  },
  {
   "cell_type": "code",
   "execution_count": 19,
   "metadata": {},
   "outputs": [],
   "source": [
    "#Change the type of Tenure column to int\n",
    "data['Tenure']=data['Tenure'].astype('int')"
   ]
  },
  {
   "cell_type": "code",
   "execution_count": 20,
   "metadata": {},
   "outputs": [
    {
     "name": "stdout",
     "output_type": "stream",
     "text": [
      "<class 'pandas.core.frame.DataFrame'>\n",
      "RangeIndex: 10000 entries, 0 to 9999\n",
      "Data columns (total 11 columns):\n",
      "CreditScore        10000 non-null int64\n",
      "Geography          10000 non-null object\n",
      "Gender             10000 non-null object\n",
      "Age                10000 non-null int64\n",
      "Tenure             10000 non-null int64\n",
      "Balance            10000 non-null float64\n",
      "NumOfProducts      10000 non-null int64\n",
      "HasCrCard          10000 non-null int64\n",
      "IsActiveMember     10000 non-null int64\n",
      "EstimatedSalary    10000 non-null float64\n",
      "Exited             10000 non-null int64\n",
      "dtypes: float64(2), int64(7), object(2)\n",
      "memory usage: 859.5+ KB\n"
     ]
    }
   ],
   "source": [
    "data.info()"
   ]
  },
  {
   "cell_type": "markdown",
   "metadata": {},
   "source": [
    "The data is modified and corrected as needed."
   ]
  },
  {
   "cell_type": "markdown",
   "metadata": {},
   "source": [
    "### EDA"
   ]
  },
  {
   "cell_type": "code",
   "execution_count": 21,
   "metadata": {},
   "outputs": [
    {
     "data": {
      "image/png": "[encoded data removed]",
      "text/plain": [
       "<Figure size 1080x648 with 6 Axes>"
      ]
     },
     "metadata": {
      "needs_background": "light"
     },
     "output_type": "display_data"
    }
   ],
   "source": [
    "#Histograms for numeric features\n",
    "data_numeric=data[['Age', 'Balance', 'CreditScore', 'EstimatedSalary', 'Tenure', 'NumOfProducts']]\n",
    "\n",
    "data_numeric.hist(edgecolor='black', linewidth=1.4, figsize=(15,9));"
   ]
  },
  {
   "cell_type": "markdown",
   "metadata": {},
   "source": [
    "* Age: The age is divided with a positive skew, between the ages of almost 20 and 80. When the average is higher than the median the higher the mode. Most of the bank's customers are customers in their third and fourth decade of life.\n",
    "* Balance: Most customers with an account balance of up to 25K, no customers with a debtit balance, and the rest of the customers have a high credit balance of up to 200K that is distributed almost normally.\n",
    "* Credit score: The customer score is divided from 400 to 800 when most customers have a reasonable score.\n",
    "* Estimated salary: Customers' salaries are uniform distributed up to 200K.\n",
    "* Num of products: Most customers consume one or two products."
   ]
  },
  {
   "cell_type": "code",
   "execution_count": 22,
   "metadata": {},
   "outputs": [
    {
     "data": {
      "image/png": "[encoded data removed]",
      "text/plain": [
       "<Figure size 1080x360 with 2 Axes>"
      ]
     },
     "metadata": {
      "needs_background": "light"
     },
     "output_type": "display_data"
    }
   ],
   "source": [
    "#Heatmap for check corrolation \n",
    "plt.figure(figsize=(15,5))\n",
    "ax = sns.heatmap(data_numeric.corr(), annot=True)\n",
    "\n",
    "bottom, top = ax.get_ylim()\n",
    "ax.set_ylim(bottom + 0.5, top - 0.5);\n",
    "plt.yticks(rotation=0);"
   ]
  },
  {
   "cell_type": "markdown",
   "metadata": {},
   "source": [
    "There is not too much correlation between the various features, apart from the partial opposite correlation between balance and the number of bank products, the more products a customer has, the lower his balance, and vice versa."
   ]
  },
  {
   "cell_type": "code",
   "execution_count": 23,
   "metadata": {},
   "outputs": [
    {
     "data": {
      "text/plain": [
       "0    7963\n",
       "1    2037\n",
       "Name: Exited, dtype: int64"
      ]
     },
     "execution_count": 23,
     "metadata": {},
     "output_type": "execute_result"
    }
   ],
   "source": [
    "#Checking whether the target variable is balanced\n",
    "data.Exited.value_counts()"
   ]
  },
  {
   "cell_type": "markdown",
   "metadata": {},
   "source": [
    "The target contains non-balance values and this should be taken into account when building the models."
   ]
  },
  {
   "cell_type": "markdown",
   "metadata": {},
   "source": [
    "<div class=\"alert alert-success\">\n",
    "<b>Reviewer's comment</b>\n",
    "\n",
    "Great, you explored the data a bit and noted the class imbalance\n",
    "\n",
    "</div>"
   ]
  },
  {
   "cell_type": "markdown",
   "metadata": {},
   "source": [
    "### Prepare the data to build models:\n",
    "\n",
    "* Create dummies for non-numeric columns using OHE techniq.\n",
    "* Split the data to features and target.\n",
    "* Splitting the data into three different features and three different targets (train 60%, valid 20%, test 20%).\n",
    "* Standardize the columns with the numeric values."
   ]
  },
  {
   "cell_type": "code",
   "execution_count": 24,
   "metadata": {},
   "outputs": [],
   "source": [
    "#Create dummies for non-numeric columns using OHE techniq\n",
    "data=pd.get_dummies(data, drop_first=True)"
   ]
  },
  {
   "cell_type": "markdown",
   "metadata": {},
   "source": [
    "<div class=\"alert alert-success\">\n",
    "<b>Reviewer's comment</b>\n",
    "\n",
    "Categorical features were encoded\n",
    "\n",
    "</div>"
   ]
  },
  {
   "cell_type": "code",
   "execution_count": 25,
   "metadata": {},
   "outputs": [],
   "source": [
    "#Split the data to features and target\n",
    "target=data['Exited']\n",
    "features=data.drop(['Exited'], axis=1)\n",
    "\n",
    "#Splitting the data into three different features and three different targets\n",
    "x_train, y_train, x_valid, y_valid, x_test, y_test = train_valid_test_split(\n",
    "    data, target='Exited', train_size=0.6, valid_size=0.2, test_size=0.2, random_state=12345\n",
    ")\n",
    "\n",
    "#Save the name of numeric columns in numeric variable \n",
    "numeric=['CreditScore', 'Age', 'Tenure', 'Balance', 'NumOfProducts', 'EstimatedSalary']\n",
    "\n",
    "#Standardize the columns with the numeric values\n",
    "scaler=StandardScaler()\n",
    "scaler.fit(x_train[numeric])\n",
    "\n",
    "x_train[numeric]=scaler.transform(x_train[numeric])\n",
    "x_valid[numeric]=scaler.transform(x_valid[numeric])\n",
    "x_test[numeric]=scaler.transform(x_test[numeric])"
   ]
  },
  {
   "cell_type": "markdown",
   "metadata": {},
   "source": [
    "<div class=\"alert alert-success\">\n",
    "<b>Reviewer's comment</b>\n",
    "\n",
    "The data was split into train, validation and test. The proportions are reasonable. Scaling was applied correctly.\n",
    "\n",
    "</div>"
   ]
  },
  {
   "cell_type": "code",
   "execution_count": 26,
   "metadata": {},
   "outputs": [
    {
     "name": "stdout",
     "output_type": "stream",
     "text": [
      "Features shape:\n",
      "train: (6000, 11)\n",
      "valid: (2000, 11)\n",
      "test: (2000, 11)\n"
     ]
    }
   ],
   "source": [
    "print('Features shape:')\n",
    "print('train:', x_train.shape)\n",
    "print('valid:', x_valid.shape)\n",
    "print('test:', x_test.shape)"
   ]
  },
  {
   "cell_type": "code",
   "execution_count": 27,
   "metadata": {},
   "outputs": [
    {
     "name": "stdout",
     "output_type": "stream",
     "text": [
      "Target shape:\n",
      "train: (6000,)\n",
      "valid: (2000,)\n",
      "test: (2000,)\n"
     ]
    }
   ],
   "source": [
    "print('Target shape:')\n",
    "print('train:', y_train.shape)\n",
    "print('valid:', y_valid.shape)\n",
    "print('test:', y_test.shape)"
   ]
  },
  {
   "cell_type": "code",
   "execution_count": 28,
   "metadata": {},
   "outputs": [
    {
     "data": {
      "text/html": [
       "<div>\n",
       "<style scoped>\n",
       "    .dataframe tbody tr th:only-of-type {\n",
       "        vertical-align: middle;\n",
       "    }\n",
       "\n",
       "    .dataframe tbody tr th {\n",
       "        vertical-align: top;\n",
       "    }\n",
       "\n",
       "    .dataframe thead th {\n",
       "        text-align: right;\n",
       "    }\n",
       "</style>\n",
       "<table border=\"1\" class=\"dataframe\">\n",
       "  <thead>\n",
       "    <tr style=\"text-align: right;\">\n",
       "      <th></th>\n",
       "      <th>CreditScore</th>\n",
       "      <th>Age</th>\n",
       "      <th>Tenure</th>\n",
       "      <th>Balance</th>\n",
       "      <th>NumOfProducts</th>\n",
       "      <th>HasCrCard</th>\n",
       "      <th>IsActiveMember</th>\n",
       "      <th>EstimatedSalary</th>\n",
       "      <th>Exited</th>\n",
       "      <th>Geography_Germany</th>\n",
       "      <th>Geography_Spain</th>\n",
       "      <th>Gender_Male</th>\n",
       "    </tr>\n",
       "  </thead>\n",
       "  <tbody>\n",
       "    <tr>\n",
       "      <td>0</td>\n",
       "      <td>619</td>\n",
       "      <td>42</td>\n",
       "      <td>2</td>\n",
       "      <td>0.00</td>\n",
       "      <td>1</td>\n",
       "      <td>1</td>\n",
       "      <td>1</td>\n",
       "      <td>101348.88</td>\n",
       "      <td>1</td>\n",
       "      <td>0</td>\n",
       "      <td>0</td>\n",
       "      <td>0</td>\n",
       "    </tr>\n",
       "    <tr>\n",
       "      <td>1</td>\n",
       "      <td>608</td>\n",
       "      <td>41</td>\n",
       "      <td>1</td>\n",
       "      <td>83807.86</td>\n",
       "      <td>1</td>\n",
       "      <td>0</td>\n",
       "      <td>1</td>\n",
       "      <td>112542.58</td>\n",
       "      <td>0</td>\n",
       "      <td>0</td>\n",
       "      <td>1</td>\n",
       "      <td>0</td>\n",
       "    </tr>\n",
       "    <tr>\n",
       "      <td>2</td>\n",
       "      <td>502</td>\n",
       "      <td>42</td>\n",
       "      <td>8</td>\n",
       "      <td>159660.80</td>\n",
       "      <td>3</td>\n",
       "      <td>1</td>\n",
       "      <td>0</td>\n",
       "      <td>113931.57</td>\n",
       "      <td>1</td>\n",
       "      <td>0</td>\n",
       "      <td>0</td>\n",
       "      <td>0</td>\n",
       "    </tr>\n",
       "    <tr>\n",
       "      <td>3</td>\n",
       "      <td>699</td>\n",
       "      <td>39</td>\n",
       "      <td>1</td>\n",
       "      <td>0.00</td>\n",
       "      <td>2</td>\n",
       "      <td>0</td>\n",
       "      <td>0</td>\n",
       "      <td>93826.63</td>\n",
       "      <td>0</td>\n",
       "      <td>0</td>\n",
       "      <td>0</td>\n",
       "      <td>0</td>\n",
       "    </tr>\n",
       "    <tr>\n",
       "      <td>4</td>\n",
       "      <td>850</td>\n",
       "      <td>43</td>\n",
       "      <td>2</td>\n",
       "      <td>125510.82</td>\n",
       "      <td>1</td>\n",
       "      <td>1</td>\n",
       "      <td>1</td>\n",
       "      <td>79084.10</td>\n",
       "      <td>0</td>\n",
       "      <td>0</td>\n",
       "      <td>1</td>\n",
       "      <td>0</td>\n",
       "    </tr>\n",
       "  </tbody>\n",
       "</table>\n",
       "</div>"
      ],
      "text/plain": [
       "   CreditScore  Age  Tenure    Balance  NumOfProducts  HasCrCard  \\\n",
       "0          619   42       2       0.00              1          1   \n",
       "1          608   41       1   83807.86              1          0   \n",
       "2          502   42       8  159660.80              3          1   \n",
       "3          699   39       1       0.00              2          0   \n",
       "4          850   43       2  125510.82              1          1   \n",
       "\n",
       "   IsActiveMember  EstimatedSalary  Exited  Geography_Germany  \\\n",
       "0               1        101348.88       1                  0   \n",
       "1               1        112542.58       0                  0   \n",
       "2               0        113931.57       1                  0   \n",
       "3               0         93826.63       0                  0   \n",
       "4               1         79084.10       0                  0   \n",
       "\n",
       "   Geography_Spain  Gender_Male  \n",
       "0                0            0  \n",
       "1                1            0  \n",
       "2                0            0  \n",
       "3                0            0  \n",
       "4                1            0  "
      ]
     },
     "execution_count": 28,
     "metadata": {},
     "output_type": "execute_result"
    }
   ],
   "source": [
    "data.head(5)"
   ]
  },
  {
   "cell_type": "markdown",
   "metadata": {},
   "source": [
    "### Conclusion:\n",
    "\n",
    "After learning the values in the data, EDA, and preparing the data to build models using OHE, splitting and standerize: Splitting the resulting data was according to the percentage of distribution. The problem with data is that the target is imbalance and should therefore be taken into account when building and training the models.\n",
    "\n",
    "Now we can find the model with the highest F1_score..."
   ]
  },
  {
   "cell_type": "markdown",
   "metadata": {},
   "source": [
    "## Train the model without taking into account the imbalance:"
   ]
  },
  {
   "cell_type": "markdown",
   "metadata": {},
   "source": [
    "Since this data containing classification type information, three models can be used:\n",
    "* RandomForestClassifier\n",
    "* DecisionTreeClassifier\n",
    "* LogisticRegression\n",
    "\n",
    "The best model will be chosen by the hypermeters offered by GridSearchCV or HalvingGridSearchCV"
   ]
  },
  {
   "cell_type": "markdown",
   "metadata": {},
   "source": [
    "For each model, we will evaluate its quality using classification_report which gives the recall, precision, f1 score and accuracy."
   ]
  },
  {
   "cell_type": "markdown",
   "metadata": {},
   "source": [
    "### RandomForestClassifier:"
   ]
  },
  {
   "cell_type": "code",
   "execution_count": 29,
   "metadata": {},
   "outputs": [
    {
     "name": "stdout",
     "output_type": "stream",
     "text": [
      "RandomForestClassifier(max_depth=9, min_samples_split=10, n_estimators=24,\n",
      "                       random_state=12345)\n",
      "The best score: 0.8644999999999999\n"
     ]
    }
   ],
   "source": [
    "#RandomForestClassifier best estimator\n",
    "param_grid = {'max_depth': [3, 5, 7, 9, 11], 'min_samples_split': [2, 6, 10]}\n",
    "model = RandomForestClassifier(random_state=12345)\n",
    "rfc = HalvingGridSearchCV(model, param_grid, cv=5, factor=2, resource='n_estimators', \n",
    "                         max_resources=30).fit(x_train, y_train)\n",
    "best_score=rfc.best_estimator_\n",
    "print(best_score)\n",
    "print('The best score:', rfc.best_score_)"
   ]
  },
  {
   "cell_type": "code",
   "execution_count": 30,
   "metadata": {},
   "outputs": [
    {
     "name": "stdout",
     "output_type": "stream",
     "text": [
      "              precision    recall  f1-score   support\n",
      "\n",
      "           0     0.8693    0.9753    0.9193      1582\n",
      "           1     0.8267    0.4450    0.5785       418\n",
      "\n",
      "    accuracy                         0.8645      2000\n",
      "   macro avg     0.8480    0.7102    0.7489      2000\n",
      "weighted avg     0.8604    0.8645    0.8481      2000\n",
      "\n"
     ]
    }
   ],
   "source": [
    "print(classification_report(y_valid, rfc.predict(x_valid), digits=4))"
   ]
  },
  {
   "cell_type": "markdown",
   "metadata": {},
   "source": [
    "### DecisionTreeClassifier:"
   ]
  },
  {
   "cell_type": "code",
   "execution_count": 31,
   "metadata": {},
   "outputs": [
    {
     "name": "stdout",
     "output_type": "stream",
     "text": [
      "Fitting 4 folds for each of 50 candidates, totalling 200 fits\n",
      "DecisionTreeClassifier(criterion='entropy', max_depth=7, min_samples_leaf=20,\n",
      "                       random_state=12345)\n",
      "The best score: 0.8611666666666666\n"
     ]
    }
   ],
   "source": [
    "#DecisionTreeClassifier best estimator\n",
    "#Create the parameter grid based on the results of random search\n",
    "param_grid = {'max_depth': [3, 5, 7, 9, 11], 'min_samples_leaf': [5, 10, 20, 50, 100], 'criterion': [\"gini\", \"entropy\"]}\n",
    "model = DecisionTreeClassifier(random_state=12345)\n",
    "dtc = GridSearchCV(model, param_grid=param_grid, cv=4, n_jobs=-1, verbose=1, scoring = \"accuracy\").fit(x_train, y_train)\n",
    "\n",
    "best_score=dtc.best_estimator_\n",
    "print(best_score)\n",
    "print('The best score:', dtc.best_score_)"
   ]
  },
  {
   "cell_type": "code",
   "execution_count": 32,
   "metadata": {},
   "outputs": [
    {
     "name": "stdout",
     "output_type": "stream",
     "text": [
      "              precision    recall  f1-score   support\n",
      "\n",
      "           0     0.8619    0.9665    0.9112      1582\n",
      "           1     0.7655    0.4139    0.5373       418\n",
      "\n",
      "    accuracy                         0.8510      2000\n",
      "   macro avg     0.8137    0.6902    0.7242      2000\n",
      "weighted avg     0.8417    0.8510    0.8331      2000\n",
      "\n"
     ]
    }
   ],
   "source": [
    "print(classification_report(y_valid, dtc.predict(x_valid), digits=4))"
   ]
  },
  {
   "cell_type": "markdown",
   "metadata": {},
   "source": [
    "### LogisticRegression:"
   ]
  },
  {
   "cell_type": "code",
   "execution_count": null,
   "metadata": {},
   "outputs": [],
   "source": [
    "#LogisticRegression best estimator\n",
    "model = LogisticRegression() \n",
    "solvers = ['newton-cg', 'lbfgs', 'liblinear']\n",
    "penalty = ['l2']\n",
    "c_values = [100, 10, 1.0, 0.1, 0.01]\n",
    "\n",
    "grid = dict(solver=solvers, penalty=penalty, C=c_values)\n",
    "cv = RepeatedStratifiedKFold(n_splits=10, n_repeats=3, random_state=12345)\n",
    "lr = GridSearchCV(estimator=model, param_grid=grid, n_jobs=-1, cv=cv, \n",
    "                           scoring='accuracy',error_score=0).fit(x_train, y_train)\n",
    "\n",
    "best_score=lr.best_estimator_\n",
    "print(best_score)\n",
    "print('The best score:', lr.best_score_)"
   ]
  },
  {
   "cell_type": "code",
   "execution_count": null,
   "metadata": {},
   "outputs": [],
   "source": [
    "print(classification_report(y_valid, lr.predict(x_valid)))"
   ]
  },
  {
   "cell_type": "markdown",
   "metadata": {},
   "source": [
    "### Precision-Recall (PR) Curve for the best model in each type:"
   ]
  },
  {
   "cell_type": "code",
   "execution_count": null,
   "metadata": {},
   "outputs": [],
   "source": [
    "#Plot Precision-Recall Curve\n",
    "plt.figure(figsize=(9,8))\n",
    "\n",
    "#curve for RandomForestClassifier\n",
    "probabilities_valid = rfc.predict_proba(x_valid)\n",
    "precision, recall, thresholds = precision_recall_curve(y_valid, probabilities_valid[:, 1])\n",
    "plt.step(recall, precision, label='RandomForestClassifier')\n",
    "\n",
    "#curve for DecisionTreeClasifier\n",
    "probabilities_valid = dtc.predict_proba(x_valid)\n",
    "precision, recall, thresholds = precision_recall_curve(y_valid, probabilities_valid[:, 1])\n",
    "plt.step(recall, precision, label='DecisionTreeClassifier')\n",
    "\n",
    "#curve for LogisticRegression\n",
    "probabilities_valid = lr.predict_proba(x_valid)\n",
    "precision, recall, thresholds = precision_recall_curve(y_valid, probabilities_valid[:, 1])\n",
    "plt.step(recall, precision, label='LogisticRegression')\n",
    "\n",
    "#graph design\n",
    "plt.xlabel('Recall')\n",
    "plt.ylabel('Precision')\n",
    "plt.ylim([0.0, 1.05])\n",
    "plt.xlim([0.0, 1.0])\n",
    "plt.title('Precision-Recall Curve')\n",
    "plt.legend()\n",
    "\n",
    "plt.show() "
   ]
  },
  {
   "cell_type": "markdown",
   "metadata": {},
   "source": [
    "The higher the PR curve, the better the model. According to the curve obtained for the three models, it can be seen that the RandomForestClassifier model with the best hyperparameter values has the highest curve, which indicates that it is the best model so far."
   ]
  },
  {
   "cell_type": "markdown",
   "metadata": {},
   "source": [
    "<div class=\"alert alert-success\">\n",
    "<b>Reviewer's comment</b>\n",
    "\n",
    "Precision-recall curve is a good way to learn more about the model's performance!\n",
    "\n",
    "</div>"
   ]
  },
  {
   "cell_type": "markdown",
   "metadata": {},
   "source": [
    "### ROC curve for the best model in each type:"
   ]
  },
  {
   "cell_type": "code",
   "execution_count": null,
   "metadata": {},
   "outputs": [],
   "source": [
    "#Plot ROC curve\n",
    "plt.figure(figsize=(9,8))\n",
    "\n",
    "#curve for random model (looks like a straight line)\n",
    "plt.plot([0, 1], [0, 1], linestyle='--')\n",
    "\n",
    "#curve for RandomForestClassifier\n",
    "probabilities_valid = rfc.predict_proba(x_valid)\n",
    "probabilities_one_valid = probabilities_valid[:, 1]\n",
    "fpr, tpr, thresholds = roc_curve(y_valid, probabilities_one_valid)\n",
    "plt.plot(fpr, tpr, label='RandomForestClassifier')\n",
    "\n",
    "#curve for DecisionTreeClasifier\n",
    "probabilities_valid = dtc.predict_proba(x_valid)\n",
    "probabilities_one_valid = probabilities_valid[:, 1]\n",
    "fpr, tpr, thresholds = roc_curve(y_valid, probabilities_one_valid)\n",
    "plt.plot(fpr, tpr, label='DecisionTreeClassifier')\n",
    "\n",
    "#curve for LogisticRegression\n",
    "probabilities_valid = lr.predict_proba(x_valid)\n",
    "probabilities_one_valid = probabilities_valid[:, 1]\n",
    "fpr, tpr, thresholds = roc_curve(y_valid, probabilities_one_valid)\n",
    "plt.plot(fpr, tpr, label='LogisticRegression')\n",
    "\n",
    "#graph design\n",
    "plt.xlim([0.0, 1.0])\n",
    "plt.ylim([0.0, 1.0])\n",
    "plt.xlabel('False Positive Rate')\n",
    "plt.ylabel('True Positive Rate')\n",
    "plt.title('ROC curve')\n",
    "plt.legend()\n",
    "\n",
    "plt.show()"
   ]
  },
  {
   "cell_type": "markdown",
   "metadata": {},
   "source": [
    "The higher the ROC curve, the better the model. According to the curve obtained for the three models, it can be seen that the RandomForestClassifier model with the best hyperparameter values has the highest curve, which indicates that it is the best model so far. At the same time, the rest of the model is still higher than the random model, which indicates that their model is still better than a random model."
   ]
  },
  {
   "cell_type": "markdown",
   "metadata": {},
   "source": [
    "### Summary F1 score and ROC AUC score for the best model in each type:"
   ]
  },
  {
   "cell_type": "code",
   "execution_count": null,
   "metadata": {},
   "outputs": [],
   "source": [
    "scores=[\n",
    "    ['RandomForestClassifier', f1_score(y_valid, rfc.predict(x_valid)), roc_auc_score(y_valid, rfc.predict_proba(x_valid)[:, 1]), accuracy_score(y_valid, rfc.predict(x_valid))], \n",
    "    ['DecisionTreeClassifier', f1_score(y_valid, dtc.predict(x_valid)), roc_auc_score(y_valid, dtc.predict_proba(x_valid)[:, 1]), accuracy_score(y_valid, dtc.predict(x_valid))], \n",
    "    ['LogisticRegression', f1_score(y_valid, lr.predict(x_valid)), roc_auc_score(y_valid, lr.predict_proba(x_valid)[:, 1]), accuracy_score(y_valid, lr.predict(x_valid))]\n",
    "]"
   ]
  },
  {
   "cell_type": "code",
   "execution_count": null,
   "metadata": {},
   "outputs": [],
   "source": [
    "sum_score=pd.DataFrame(scores, columns = ['Model', 'F1_score', 'ROC_auc_score', 'Accuracy_score'])\n",
    "sum_score"
   ]
  },
  {
   "cell_type": "markdown",
   "metadata": {},
   "source": [
    "In the sum_score table you can see the f1_score and roc_auc_score values for each of the models with the best hyperparameter values. The highest score was obtained for RandomForestClassifier. However, since the data is imbalance and although this model received the highest score, the score is not sufficient to use this model. It is necessary to continue to optimize the best model in order to match the type of data obtained."
   ]
  },
  {
   "cell_type": "markdown",
   "metadata": {},
   "source": [
    "<div class=\"alert alert-danger\">\n",
    "<s><b>Reviewer's comment</b>\n",
    "\n",
    "Very good, you evaluated all models using both F1 score and ROC-AUC. There's a small problem though: to calculate ROC-AUC you need to use probabilities (method `predict_proba`) like you did to plot the ROC curve above, not just binary predictions (method `predict`).\n",
    "\n",
    "</div>\n",
    "\n",
    "<div class=\"alert alert-info\">\n",
    "  Thanks, my mistake 😬, I fixed it.\n",
    "</div>"
   ]
  },
  {
   "cell_type": "markdown",
   "metadata": {},
   "source": [
    "<div class=\"alert alert-success\">\n",
    "<b>Reviewer's comment V2</b>\n",
    "  \n",
    "Great!\n",
    "  \n",
    "</div>"
   ]
  },
  {
   "cell_type": "markdown",
   "metadata": {},
   "source": [
    "### Sanity check the model:"
   ]
  },
  {
   "cell_type": "code",
   "execution_count": null,
   "metadata": {},
   "outputs": [],
   "source": [
    "data.Exited.value_counts(normalize=True)"
   ]
  },
  {
   "cell_type": "code",
   "execution_count": null,
   "metadata": {},
   "outputs": [],
   "source": [
    "target_predict_constant=pd.Series([0 for x in range(len(y_valid.index))])\n",
    "print('Accuracy for constant model:', accuracy_score(y_valid, target_predict_constant))\n",
    "print('F1 score:', f1_score(y_valid, target_predict_constant))\n",
    "print('ROC-AUC score:', roc_auc_score(y_valid, target_predict_constant))"
   ]
  },
  {
   "cell_type": "markdown",
   "metadata": {},
   "source": [
    "Just to make sure that the models we have created so far are better than a constant model, we did a sanity check whose accuracy is lower than the accuracy of the other models and therefore, our models are better than a constant model. In addition, in the constant model, f1 is equal to 0 and roc_auc indicates that the predictions have no meaning."
   ]
  },
  {
   "cell_type": "markdown",
   "metadata": {},
   "source": [
    "<div class=\"alert alert-warning\">\n",
    "<b>Reviewer's comment</b>\n",
    "\n",
    "That's a good point, but as our target metrics are F1 score and ROC-AUC, it would make sense to evaluate the constant model using those too.\n",
    "\n",
    "</div>\n",
    "\n",
    "<div class=\"alert alert-info\">\n",
    "  Make sense! I added these metrics.\n",
    "</div>"
   ]
  },
  {
   "cell_type": "markdown",
   "metadata": {},
   "source": [
    "<div class=\"alert alert-success\">\n",
    "<b>Reviewer's comment V2</b>\n",
    "  \n",
    "Cool!\n",
    "  \n",
    "</div>"
   ]
  },
  {
   "cell_type": "markdown",
   "metadata": {},
   "source": [
    "## Improve the quality of the model:"
   ]
  },
  {
   "cell_type": "markdown",
   "metadata": {},
   "source": [
    "Improve the quality of the model. Make sure you use at least two approaches to fixing class imbalance. Use the training set to pick the best parameters. Train different models on training and validation sets. Find the best one. Briefly describe your findings"
   ]
  },
  {
   "cell_type": "markdown",
   "metadata": {},
   "source": [
    "Since we have seen that the data is imbalance this is why the score we have received so far is relatively low. To improve the model, we will use two techniques that are suitable for imbalance:\n",
    "* Upsampling (Double the features_ones 4 times so that it is equal in size to features_zeros)\n",
    "* Downsampling (Set fraction equal to 0.25 in order for features_ones to be equal in size to features_zeros)\n",
    "\n",
    "After examining these techniques and finding the technique that most enhances the model, we will use another technique to see if the model can be further improved. The other technique is Threshold.\n"
   ]
  },
  {
   "cell_type": "markdown",
   "metadata": {},
   "source": [
    "### Upsampling:"
   ]
  },
  {
   "cell_type": "markdown",
   "metadata": {},
   "source": [
    "Upsampling function that get features, targe and number of repeat, and after split the data to negative and positive observations, repeat the positive observations, create new sample training and shuffle the data, the function return features and target upsampling on which the desired model can be applied."
   ]
  },
  {
   "cell_type": "code",
   "execution_count": null,
   "metadata": {},
   "outputs": [],
   "source": [
    "#Upsampling function\n",
    "def upsample(features, target, repeat):\n",
    "    features_zeros = features[target == 0]\n",
    "    features_ones = features[target == 1]\n",
    "    target_zeros = target[target == 0]\n",
    "    target_ones = target[target == 1]\n",
    "\n",
    "    features_upsampled = pd.concat([features_zeros] + [features_ones] * repeat)\n",
    "    target_upsampled = pd.concat([target_zeros] + [target_ones] * repeat)\n",
    "\n",
    "    features_upsampled, target_upsampled = shuffle(features_upsampled, target_upsampled, random_state=12345)\n",
    "\n",
    "    return features_upsampled, target_upsampled"
   ]
  },
  {
   "cell_type": "markdown",
   "metadata": {},
   "source": [
    "#### Upsampling for RandomForestClassifier:"
   ]
  },
  {
   "cell_type": "code",
   "execution_count": null,
   "metadata": {},
   "outputs": [],
   "source": [
    "#Apply the upsampling function\n",
    "features_upsampled, target_upsampled = upsample(x_train, y_train, 4)\n",
    "\n",
    "model=RandomForestClassifier(max_depth=9, n_estimators=24, min_samples_split=6, random_state=12345)\n",
    "model.fit(features_upsampled, target_upsampled)\n",
    "predicted_valid=model.predict(x_valid)\n",
    "\n",
    "print('F1 for RandomForestClassifier:', f1_score(y_valid, predicted_valid))"
   ]
  },
  {
   "cell_type": "markdown",
   "metadata": {},
   "source": [
    "#### Upsampling for DecisionTreeClassifier:"
   ]
  },
  {
   "cell_type": "code",
   "execution_count": null,
   "metadata": {},
   "outputs": [],
   "source": [
    "features_upsampled, target_upsampled = upsample(x_train, y_train, 4)\n",
    "\n",
    "model=DecisionTreeClassifier(criterion='entropy', max_depth=7, min_samples_leaf=20, random_state=12345)\n",
    "model.fit(features_upsampled, target_upsampled)\n",
    "predicted_valid=model.predict(x_valid)\n",
    "\n",
    "print('F1 for DecisionTreeClassifier:', f1_score(y_valid, predicted_valid))"
   ]
  },
  {
   "cell_type": "markdown",
   "metadata": {},
   "source": [
    "#### Upsampling for LogisticRegression:"
   ]
  },
  {
   "cell_type": "code",
   "execution_count": null,
   "metadata": {},
   "outputs": [],
   "source": [
    "features_upsampled, target_upsampled = upsample(x_train, y_train, 4)\n",
    "\n",
    "model=LogisticRegression(random_state=12345, solver='liblinear')\n",
    "model.fit(features_upsampled, target_upsampled)\n",
    "predicted_valid=model.predict(x_valid)\n",
    "\n",
    "print('F1 for LogisticRegression:', f1_score(y_valid, predicted_valid))"
   ]
  },
  {
   "cell_type": "markdown",
   "metadata": {},
   "source": [
    "All F1 score values obtained after Upsampling were higher than the models before the Upsampling technique was applied to them. In first place is the RandomStateClasiffier model."
   ]
  },
  {
   "cell_type": "markdown",
   "metadata": {},
   "source": [
    "<div class=\"alert alert-success\">\n",
    "<b>Reviewer's comment</b>\n",
    "\n",
    "Upsampling function is correct, it was applied only to the train set, and the repeat value is reasonable\n",
    "\n",
    "</div>"
   ]
  },
  {
   "cell_type": "markdown",
   "metadata": {},
   "source": [
    "### Downsampling:"
   ]
  },
  {
   "cell_type": "markdown",
   "metadata": {},
   "source": [
    "In a function that uses the Downsampling technique, the function gets the feature and target values as well as the fraction of the amount of data we want to leave, then splits the training sample into positive and negative observations, then randomly removes some of the negative observations, creates a new trainig sample based on the data all to make sure the positive data is not tracked."
   ]
  },
  {
   "cell_type": "code",
   "execution_count": null,
   "metadata": {},
   "outputs": [],
   "source": [
    "#Downsample function\n",
    "def downsample(features, target, fraction):\n",
    "    features_zeros = features[target == 0]\n",
    "    features_ones = features[target == 1]\n",
    "    target_zeros = target[target == 0]\n",
    "    target_ones = target[target == 1]\n",
    "\n",
    "    features_downsampled = pd.concat([features_zeros.sample(frac=fraction, random_state=12345)] + [features_ones])\n",
    "    target_downsampled = pd.concat([target_zeros.sample(frac=fraction, random_state=12345)] + [target_ones])\n",
    "\n",
    "    features_downsampled, target_downsampled = shuffle(features_downsampled, target_downsampled, random_state=12345)\n",
    "\n",
    "    return features_downsampled, target_downsampled"
   ]
  },
  {
   "cell_type": "markdown",
   "metadata": {},
   "source": [
    "#### Downsampling for RandomForestClassifier:"
   ]
  },
  {
   "cell_type": "code",
   "execution_count": null,
   "metadata": {},
   "outputs": [],
   "source": [
    "features_downsampled, target_downsampled = downsample(x_train, y_train, 0.25)\n",
    "\n",
    "model=RandomForestClassifier(max_depth=9, n_estimators=24, min_samples_split=6, random_state=12345) \n",
    "model.fit(features_downsampled, target_downsampled)\n",
    "predicted_valid=model.predict(x_valid)\n",
    "\n",
    "print('F1:', f1_score(y_valid, predicted_valid))"
   ]
  },
  {
   "cell_type": "markdown",
   "metadata": {},
   "source": [
    "#### Downsampling for DecisionTreeClassifier:"
   ]
  },
  {
   "cell_type": "code",
   "execution_count": null,
   "metadata": {},
   "outputs": [],
   "source": [
    "features_downsampled, target_downsampled = downsample(x_train, y_train, 0.25)\n",
    "\n",
    "model=DecisionTreeClassifier(criterion='entropy', max_depth=7, min_samples_leaf=20, random_state=12345)\n",
    "model.fit(features_downsampled, target_downsampled)\n",
    "predicted_valid=model.predict(x_valid)\n",
    "\n",
    "print('F1:', f1_score(y_valid, predicted_valid))"
   ]
  },
  {
   "cell_type": "markdown",
   "metadata": {},
   "source": [
    "#### Downsampling for LogisticRegression:"
   ]
  },
  {
   "cell_type": "code",
   "execution_count": null,
   "metadata": {},
   "outputs": [],
   "source": [
    "features_downsampled, target_downsampled = downsample(x_train, y_train, 0.25)\n",
    "\n",
    "model=LogisticRegression(random_state=12345, solver='liblinear')\n",
    "model.fit(features_downsampled, target_downsampled)\n",
    "predicted_valid=model.predict(x_valid)\n",
    "\n",
    "print('F1:', f1_score(y_valid, predicted_valid))"
   ]
  },
  {
   "cell_type": "markdown",
   "metadata": {},
   "source": [
    "All F1 score values obtained after Downsampling were higher than the models before the Downsampling technique was applied to them. In first place is the RandomStateClasiffier model, but still the score obtained is lower than the score obtained for the Upsampling technique. This is because usually a lower amount of data will ultimately result in less good model quality."
   ]
  },
  {
   "cell_type": "markdown",
   "metadata": {},
   "source": [
    "<div class=\"alert alert-success\">\n",
    "<b>Reviewer's comment</b>\n",
    "\n",
    "Downsampling was done correctly as well\n",
    "\n",
    "</div>"
   ]
  },
  {
   "cell_type": "markdown",
   "metadata": {},
   "source": [
    "### Threshold:"
   ]
  },
  {
   "cell_type": "markdown",
   "metadata": {},
   "source": [
    "Now, the model options have narrowed down, we will choose the RandomForestClasiffier model with the hyperparameters that have been proven to make the model better, along with running the Upsampling technique and we will test the Threshold technique on it, we will check which Threshold values will give us the highest F1 score."
   ]
  },
  {
   "cell_type": "code",
   "execution_count": null,
   "metadata": {},
   "outputs": [],
   "source": [
    "#The best model so far:\n",
    "features_upsampled, target_upsampled = upsample(x_train, y_train, 4)\n",
    "\n",
    "model=RandomForestClassifier(max_depth=9, n_estimators=24, min_samples_split=6, random_state=12345)\n",
    "model.fit(features_upsampled, target_upsampled)\n",
    "probabilities_valid = model.predict_proba(x_valid)\n",
    "probabilities_one_valid = probabilities_valid[:, 1]"
   ]
  },
  {
   "cell_type": "code",
   "execution_count": null,
   "metadata": {},
   "outputs": [],
   "source": [
    "#Loop for check which value of threshold return the best F1 score\n",
    "for threshold in np.arange(0.5, 0.6, 0.01):\n",
    "    predicted_valid = (probabilities_one_valid > threshold).astype(int)  \n",
    "    precision = precision_score(y_valid, predicted_valid) \n",
    "    recall = recall_score(y_valid, predicted_valid) \n",
    "    f1=f1_score(y_valid, predicted_valid)\n",
    "    accuracy=accuracy_score(y_valid, predicted_valid)\n",
    "    roc_auc=roc_auc_score(y_valid, predicted_valid)\n",
    "    print('Threshold = {:.2f} | Precision = {:.3f}, Recall = {:.3f}, F1={:.3f}, Accuracy = {:.3f}, roc_auc = {:.3f}'.format(threshold, precision, recall, f1, accuracy, roc_auc))"
   ]
  },
  {
   "cell_type": "markdown",
   "metadata": {},
   "source": [
    "It can be seen that the highest F1 score value is obtained when Threshold is equal to 0.55, which means that this technique helped us to improve the quality of the model in terms of F1 score.\n",
    "\n",
    "**Characteristics of the best model:**\n",
    "* RandomForestClassifier(max_depth=9, n_estimators=24, min_samples_split=6, random_state=12345)\n",
    "* Upsampling techniq with 4 repeats\n",
    "* Threshold techniq equals 4"
   ]
  },
  {
   "cell_type": "markdown",
   "metadata": {},
   "source": [
    "<div class=\"alert alert-success\">\n",
    "<b>Reviewer's comment</b>\n",
    "\n",
    "Yep, tuning the threshold is a good way to get a better F1 score!\n",
    "\n",
    "</div>"
   ]
  },
  {
   "cell_type": "markdown",
   "metadata": {},
   "source": [
    "### Precision-Recall (PR) Curve for the best model and previous best model:"
   ]
  },
  {
   "cell_type": "code",
   "execution_count": null,
   "metadata": {},
   "outputs": [],
   "source": [
    "#Plot Precision-Recall Curve\n",
    "plt.figure(figsize=(9,8))\n",
    "\n",
    "#curve for RandomForestClassifier\n",
    "features_upsampled, target_upsampled = upsample(x_train, y_train, 4)\n",
    "\n",
    "model=RandomForestClassifier(max_depth=9, n_estimators=24, min_samples_split=6, random_state=12345)\n",
    "model.fit(features_upsampled, target_upsampled)\n",
    "\n",
    "probabilities_valid = model.predict_proba(x_valid)\n",
    "precision, recall, thresholds = precision_recall_curve(y_valid, probabilities_valid[:, 1])\n",
    "plt.step(recall, precision, label='RandomForestClassifier-the best model')\n",
    "\n",
    "#curve for  the previous RandomForestClassifier\n",
    "probabilities_valid = dtc.predict_proba(x_valid)\n",
    "precision, recall, thresholds = precision_recall_curve(y_valid, probabilities_valid[:, 1])\n",
    "plt.step(recall, precision, label='DecisionTreeClassifier-the previous model')\n",
    "\n",
    "\n",
    "#graph design\n",
    "plt.xlabel('Recall')\n",
    "plt.ylabel('Precision')\n",
    "plt.ylim([0.0, 1.05])\n",
    "plt.xlim([0.0, 1.0])\n",
    "plt.title('Precision-Recall Curve')\n",
    "plt.legend()\n",
    "\n",
    "plt.show() "
   ]
  },
  {
   "cell_type": "markdown",
   "metadata": {},
   "source": [
    "According to the graph, by applying threshold and upsampling techniques we were able to slightly improve the quality of the model."
   ]
  },
  {
   "cell_type": "markdown",
   "metadata": {},
   "source": [
    "<div class=\"alert alert-success\">\n",
    "<b>Reviewer's comment</b>\n",
    "\n",
    "Great, the plot shows clear improvement!\n",
    "\n",
    "</div>"
   ]
  },
  {
   "cell_type": "markdown",
   "metadata": {},
   "source": [
    "## Perform the final testing:"
   ]
  },
  {
   "cell_type": "code",
   "execution_count": null,
   "metadata": {},
   "outputs": [],
   "source": [
    "features_upsampled, target_upsampled = upsample(x_train, y_train, 4)\n",
    "\n",
    "model=RandomForestClassifier(max_depth=9, n_estimators=24, min_samples_split=6, random_state=12345)\n",
    "model.fit(features_upsampled, target_upsampled)\n",
    "\n",
    "probabilities_test = model.predict_proba(x_test)\n",
    "probabilities_train = model.predict_proba(x_train)\n",
    "\n",
    "probabilities_one_test = probabilities_test[:, 1]\n",
    "probabilities_one_train = probabilities_train[:, 1]"
   ]
  },
  {
   "cell_type": "code",
   "execution_count": null,
   "metadata": {},
   "outputs": [],
   "source": [
    "threshold=0.55\n",
    "predicted_test = (probabilities_one_test > threshold).astype(int)\n",
    "predicted_train = (probabilities_one_train > threshold).astype(int)\n",
    "\n",
    "precision1 = precision_score(y_train, predicted_train)\n",
    "precision = precision_score(y_test, predicted_test)\n",
    "\n",
    "recall1 = recall_score(y_train, predicted_train)\n",
    "recall = recall_score(y_test, predicted_test)\n",
    "\n",
    "f11=f1_score(y_train, predicted_train)\n",
    "f1=f1_score(y_test, predicted_test)\n",
    "\n",
    "accuracy1=accuracy_score(y_train, predicted_train)\n",
    "accuracy=accuracy_score(y_test, predicted_test)\n",
    "\n",
    "roc_auc1=roc_auc_score(y_train, model.predict_proba(x_train)[:, 1])\n",
    "roc_auc=roc_auc_score(y_test, model.predict_proba(x_test)[:, 1])\n",
    "\n",
    "print('Training set: ')\n",
    "print('Precision = {:.3f}, Recall = {:.3f}, F1={:.3f}, Accuracy = {:.3f}, roc_auc = {:.3f}'.format(precision1, recall1, f11, accuracy1, roc_auc1))\n",
    "print()\n",
    "print('Test set: ')\n",
    "print('Precision = {:.3f}, Recall = {:.3f}, F1={:.3f}, Accuracy = {:.3f}, roc_auc = {:.3f}'.format(precision, recall, f1, accuracy, roc_auc))"
   ]
  },
  {
   "cell_type": "markdown",
   "metadata": {},
   "source": [
    "We got in test set, F1 score is slightly lower than the value obtained in the valid set, but still has a high score and meets the required conditions."
   ]
  },
  {
   "cell_type": "markdown",
   "metadata": {},
   "source": [
    "<div class=\"alert alert-danger\">\n",
    "<s><b>Reviewer's comment</b>\n",
    "\n",
    "Same problem as above with ROC-AUC score calculation. Also the train set scores are calculated using targets as predictions\n",
    "\n",
    "</div>\n",
    "\n",
    "<div class=\"alert alert-info\">\n",
    "   I fixed again.\n",
    "</div>"
   ]
  },
  {
   "cell_type": "markdown",
   "metadata": {},
   "source": [
    "<div class=\"alert alert-success\">\n",
    "<b>Reviewer's comment V2</b>\n",
    "  \n",
    "Good!\n",
    "  \n",
    "</div>"
   ]
  },
  {
   "cell_type": "markdown",
   "metadata": {},
   "source": [
    "## Conclusion:\n",
    "\n",
    "In this project we were asked to build a model that would predict the likelihood of customers leaving soon. The data on which the model had to be built is data on the bank's past customers, customer details, their banking behavior and whether they left or stayed at the bank.\n",
    "\n",
    "Since this is a classification type data, we built three appropriate models and tested the hyperparameters that affect the quality of the model. At first we did not address the fact that data is imbalance and we built models without taking this detail into account. \n",
    "\n",
    "The quality of the models obtained was reasonable but still not enough to use them as quality models.\n",
    "Therefore, in the next step we improved the model with respect to it being imbalance, the model was improved using an upsampling technique when we doubled the positive values 4 times in order to reach the number of negative values, and changed the threshold value to the value that gave the best quality to threshold = 0.55.\n",
    "\n",
    "The best model obtained is:\n",
    "* RandomForestClassifier(max_depth=9, n_estimators=24, min_samples_split=6, random_state=12345)\n",
    "* Upsampling techniq with 4 repeats\n",
    "* Threshold techniq equals 4\n",
    "\n",
    "And from the test set test these are the values obtained: Precision = 0.593, Recall = 0.631, F1=0.612, Accuracy = 0.831, roc_auc = 0.854"
   ]
  },
  {
   "cell_type": "markdown",
   "metadata": {},
   "source": [
    "<div class=\"alert alert-success\">\n",
    "<b>Reviewer's comment</b>\n",
    "\n",
    "Nice summary!\n",
    "\n",
    "</div>"
   ]
  }
 ],
 "metadata": {
  "ExecuteTimeLog": [
   {
    "duration": 783,
    "start_time": "2021-10-03T12:32:35.258Z"
   },
   {
    "duration": 36,
    "start_time": "2021-10-03T12:33:18.379Z"
   },
   {
    "duration": 40,
    "start_time": "2021-10-03T12:33:21.016Z"
   },
   {
    "duration": 19,
    "start_time": "2021-10-03T12:35:34.313Z"
   },
   {
    "duration": 598,
    "start_time": "2021-10-03T12:41:23.578Z"
   },
   {
    "duration": 35,
    "start_time": "2021-10-03T12:41:30.672Z"
   },
   {
    "duration": 19,
    "start_time": "2021-10-03T12:41:31.475Z"
   },
   {
    "duration": 428,
    "start_time": "2021-10-03T12:42:42.564Z"
   },
   {
    "duration": 272,
    "start_time": "2021-10-03T12:42:51.531Z"
   },
   {
    "duration": 364,
    "start_time": "2021-10-03T12:43:21.201Z"
   },
   {
    "duration": 3,
    "start_time": "2021-10-03T12:43:31.306Z"
   },
   {
    "duration": 280,
    "start_time": "2021-10-03T12:43:44.997Z"
   },
   {
    "duration": 280,
    "start_time": "2021-10-03T12:44:05.661Z"
   },
   {
    "duration": 554,
    "start_time": "2021-10-03T12:44:14.980Z"
   },
   {
    "duration": 62,
    "start_time": "2021-10-03T12:44:28.066Z"
   },
   {
    "duration": 12,
    "start_time": "2021-10-03T12:44:41.801Z"
   },
   {
    "duration": 279,
    "start_time": "2021-10-03T12:51:03.874Z"
   },
   {
    "duration": 28,
    "start_time": "2021-10-03T12:51:29.604Z"
   },
   {
    "duration": 11,
    "start_time": "2021-10-03T12:51:37.648Z"
   },
   {
    "duration": 8,
    "start_time": "2021-10-03T12:51:56.520Z"
   },
   {
    "duration": 6,
    "start_time": "2021-10-03T12:52:02.340Z"
   },
   {
    "duration": 8,
    "start_time": "2021-10-03T12:52:09.311Z"
   },
   {
    "duration": 12,
    "start_time": "2021-10-03T12:52:23.709Z"
   },
   {
    "duration": 32,
    "start_time": "2021-10-03T12:52:59.344Z"
   },
   {
    "duration": 7,
    "start_time": "2021-10-03T12:54:20.374Z"
   },
   {
    "duration": 28,
    "start_time": "2021-10-03T12:54:22.702Z"
   },
   {
    "duration": 11,
    "start_time": "2021-10-03T12:55:58.552Z"
   },
   {
    "duration": 9,
    "start_time": "2021-10-03T12:56:07.477Z"
   },
   {
    "duration": 9,
    "start_time": "2021-10-03T12:56:30.168Z"
   },
   {
    "duration": 11,
    "start_time": "2021-10-03T12:59:34.170Z"
   },
   {
    "duration": 6,
    "start_time": "2021-10-03T13:22:11.819Z"
   },
   {
    "duration": 32,
    "start_time": "2021-10-03T13:26:20.532Z"
   },
   {
    "duration": 36,
    "start_time": "2021-10-03T13:27:18.413Z"
   },
   {
    "duration": 26,
    "start_time": "2021-10-03T13:27:27.816Z"
   },
   {
    "duration": 18,
    "start_time": "2021-10-03T13:27:31.975Z"
   },
   {
    "duration": 5,
    "start_time": "2021-10-03T13:27:54.497Z"
   },
   {
    "duration": 17,
    "start_time": "2021-10-03T13:28:16.791Z"
   },
   {
    "duration": 295,
    "start_time": "2021-10-03T13:28:41.200Z"
   },
   {
    "duration": 259,
    "start_time": "2021-10-03T13:28:50.849Z"
   },
   {
    "duration": 16,
    "start_time": "2021-10-03T13:28:56.157Z"
   },
   {
    "duration": 7,
    "start_time": "2021-10-03T13:29:02.740Z"
   },
   {
    "duration": 16,
    "start_time": "2021-10-03T13:29:43.131Z"
   },
   {
    "duration": 293,
    "start_time": "2021-10-03T13:31:01.389Z"
   },
   {
    "duration": 3,
    "start_time": "2021-10-03T13:32:05.652Z"
   },
   {
    "duration": 3526,
    "start_time": "2021-10-03T13:32:09.083Z"
   },
   {
    "duration": 3,
    "start_time": "2021-10-03T13:32:21.614Z"
   },
   {
    "duration": 352,
    "start_time": "2021-10-03T13:32:23.806Z"
   },
   {
    "duration": 3,
    "start_time": "2021-10-03T13:33:19.784Z"
   },
   {
    "duration": 26,
    "start_time": "2021-10-03T13:34:25.628Z"
   },
   {
    "duration": 25,
    "start_time": "2021-10-03T13:34:30.621Z"
   },
   {
    "duration": 25,
    "start_time": "2021-10-03T13:34:57.172Z"
   },
   {
    "duration": 295,
    "start_time": "2021-10-03T13:35:54.673Z"
   },
   {
    "duration": 26,
    "start_time": "2021-10-03T13:35:59.090Z"
   },
   {
    "duration": 17,
    "start_time": "2021-10-03T13:46:08.834Z"
   },
   {
    "duration": 296,
    "start_time": "2021-10-03T13:46:13.315Z"
   },
   {
    "duration": 242,
    "start_time": "2021-10-03T13:46:39.460Z"
   },
   {
    "duration": 5,
    "start_time": "2021-10-03T13:47:05.162Z"
   },
   {
    "duration": 4,
    "start_time": "2021-10-03T13:47:07.051Z"
   },
   {
    "duration": 4529,
    "start_time": "2021-10-03T13:47:08.518Z"
   },
   {
    "duration": 231,
    "start_time": "2021-10-03T13:47:39.443Z"
   },
   {
    "duration": 1217,
    "start_time": "2021-10-03T13:47:46.359Z"
   },
   {
    "duration": 8,
    "start_time": "2021-10-03T14:18:49.900Z"
   },
   {
    "duration": 13,
    "start_time": "2021-10-03T14:18:56.926Z"
   },
   {
    "duration": 415,
    "start_time": "2021-10-03T14:21:53.285Z"
   },
   {
    "duration": 3,
    "start_time": "2021-10-03T14:22:21.145Z"
   },
   {
    "duration": 414,
    "start_time": "2021-10-03T14:22:27.562Z"
   },
   {
    "duration": 27,
    "start_time": "2021-10-03T14:22:49.767Z"
   },
   {
    "duration": 26,
    "start_time": "2021-10-03T14:23:53.043Z"
   },
   {
    "duration": 5,
    "start_time": "2021-10-03T14:28:25.966Z"
   },
   {
    "duration": 320,
    "start_time": "2021-10-03T14:29:33.242Z"
   },
   {
    "duration": 49,
    "start_time": "2021-10-03T14:29:44.624Z"
   },
   {
    "duration": 19,
    "start_time": "2021-10-03T14:30:02.120Z"
   },
   {
    "duration": 13,
    "start_time": "2021-10-03T14:30:06.926Z"
   },
   {
    "duration": 13,
    "start_time": "2021-10-03T14:30:28.218Z"
   },
   {
    "duration": 24,
    "start_time": "2021-10-03T14:34:57.828Z"
   },
   {
    "duration": 10,
    "start_time": "2021-10-03T14:35:04.190Z"
   },
   {
    "duration": 29,
    "start_time": "2021-10-03T14:35:22.395Z"
   },
   {
    "duration": 283,
    "start_time": "2021-10-03T14:36:20.939Z"
   },
   {
    "duration": 9,
    "start_time": "2021-10-03T14:36:35.181Z"
   },
   {
    "duration": 9,
    "start_time": "2021-10-03T14:37:33.624Z"
   },
   {
    "duration": 9,
    "start_time": "2021-10-03T14:38:18.906Z"
   },
   {
    "duration": 15,
    "start_time": "2021-10-03T14:38:23.664Z"
   },
   {
    "duration": 15,
    "start_time": "2021-10-03T14:38:25.539Z"
   },
   {
    "duration": 40,
    "start_time": "2021-10-03T14:38:27.337Z"
   },
   {
    "duration": 9,
    "start_time": "2021-10-03T14:38:47.690Z"
   },
   {
    "duration": 3,
    "start_time": "2021-10-03T14:39:00.602Z"
   },
   {
    "duration": 8,
    "start_time": "2021-10-03T14:39:02.688Z"
   },
   {
    "duration": 1595,
    "start_time": "2021-10-03T14:39:23.136Z"
   },
   {
    "duration": 3583,
    "start_time": "2021-10-03T14:39:24.734Z"
   },
   {
    "duration": 216,
    "start_time": "2021-10-03T14:39:28.320Z"
   },
   {
    "duration": 3451,
    "start_time": "2021-10-03T14:39:28.539Z"
   },
   {
    "duration": 5,
    "start_time": "2021-10-03T14:39:31.993Z"
   },
   {
    "duration": 43,
    "start_time": "2021-10-03T14:39:32.000Z"
   },
   {
    "duration": 39,
    "start_time": "2021-10-03T14:39:32.046Z"
   },
   {
    "duration": 1568,
    "start_time": "2021-10-03T14:39:32.090Z"
   },
   {
    "duration": 6,
    "start_time": "2021-10-03T14:39:33.661Z"
   },
   {
    "duration": 24,
    "start_time": "2021-10-03T14:39:33.670Z"
   },
   {
    "duration": 11,
    "start_time": "2021-10-03T14:39:33.697Z"
   },
   {
    "duration": 74,
    "start_time": "2021-10-03T14:39:33.710Z"
   },
   {
    "duration": 5,
    "start_time": "2021-10-03T14:39:33.787Z"
   },
   {
    "duration": 32,
    "start_time": "2021-10-03T14:39:33.882Z"
   },
   {
    "duration": 3,
    "start_time": "2021-10-03T14:39:33.916Z"
   },
   {
    "duration": 65,
    "start_time": "2021-10-03T14:39:33.922Z"
   },
   {
    "duration": 14,
    "start_time": "2021-10-03T14:39:33.990Z"
   },
   {
    "duration": 9,
    "start_time": "2021-10-03T14:41:45.215Z"
   },
   {
    "duration": 8,
    "start_time": "2021-10-03T14:41:47.022Z"
   },
   {
    "duration": 9,
    "start_time": "2021-10-03T14:41:51.501Z"
   },
   {
    "duration": 1575,
    "start_time": "2021-10-03T14:42:55.475Z"
   },
   {
    "duration": 3854,
    "start_time": "2021-10-03T14:42:57.053Z"
   },
   {
    "duration": 208,
    "start_time": "2021-10-03T14:43:00.911Z"
   },
   {
    "duration": 3626,
    "start_time": "2021-10-03T14:43:01.123Z"
   },
   {
    "duration": 3,
    "start_time": "2021-10-03T14:43:04.752Z"
   },
   {
    "duration": 42,
    "start_time": "2021-10-03T14:43:04.758Z"
   },
   {
    "duration": 31,
    "start_time": "2021-10-03T14:43:04.803Z"
   },
   {
    "duration": 1283,
    "start_time": "2021-10-03T14:43:04.837Z"
   },
   {
    "duration": 6,
    "start_time": "2021-10-03T14:43:06.125Z"
   },
   {
    "duration": 23,
    "start_time": "2021-10-03T14:43:06.133Z"
   },
   {
    "duration": 25,
    "start_time": "2021-10-03T14:43:06.159Z"
   },
   {
    "duration": 35,
    "start_time": "2021-10-03T14:43:06.186Z"
   },
   {
    "duration": 5,
    "start_time": "2021-10-03T14:43:06.285Z"
   },
   {
    "duration": 123,
    "start_time": "2021-10-03T14:43:06.294Z"
   },
   {
    "duration": 9,
    "start_time": "2021-10-03T14:43:06.420Z"
   },
   {
    "duration": 8,
    "start_time": "2021-10-03T14:43:24.597Z"
   },
   {
    "duration": 30,
    "start_time": "2021-10-03T14:43:55.686Z"
   },
   {
    "duration": 506,
    "start_time": "2021-10-03T14:45:23.553Z"
   },
   {
    "duration": 8,
    "start_time": "2021-10-03T14:45:29.541Z"
   },
   {
    "duration": 6,
    "start_time": "2021-10-03T14:45:46.296Z"
   },
   {
    "duration": 293,
    "start_time": "2021-10-03T14:45:55.604Z"
   },
   {
    "duration": 8,
    "start_time": "2021-10-03T14:46:04.086Z"
   },
   {
    "duration": 264,
    "start_time": "2021-10-03T14:46:14.215Z"
   },
   {
    "duration": 1356,
    "start_time": "2021-10-03T14:46:35.139Z"
   },
   {
    "duration": 3559,
    "start_time": "2021-10-03T14:46:36.498Z"
   },
   {
    "duration": 193,
    "start_time": "2021-10-03T14:46:40.062Z"
   },
   {
    "duration": 2935,
    "start_time": "2021-10-03T14:46:40.258Z"
   },
   {
    "duration": 5,
    "start_time": "2021-10-03T14:46:43.197Z"
   },
   {
    "duration": 41,
    "start_time": "2021-10-03T14:46:43.204Z"
   },
   {
    "duration": 22,
    "start_time": "2021-10-03T14:46:43.247Z"
   },
   {
    "duration": 1328,
    "start_time": "2021-10-03T14:46:43.273Z"
   },
   {
    "duration": 6,
    "start_time": "2021-10-03T14:46:44.604Z"
   },
   {
    "duration": 16,
    "start_time": "2021-10-03T14:46:44.613Z"
   },
   {
    "duration": 9,
    "start_time": "2021-10-03T14:46:44.632Z"
   },
   {
    "duration": 60,
    "start_time": "2021-10-03T14:46:44.643Z"
   },
   {
    "duration": 6,
    "start_time": "2021-10-03T14:46:44.782Z"
   },
   {
    "duration": 118,
    "start_time": "2021-10-03T14:46:44.792Z"
   },
   {
    "duration": 6,
    "start_time": "2021-10-03T14:46:44.913Z"
   },
   {
    "duration": 12,
    "start_time": "2021-10-03T14:46:44.922Z"
   },
   {
    "duration": 9,
    "start_time": "2021-10-03T14:46:44.937Z"
   },
   {
    "duration": 9,
    "start_time": "2021-10-03T14:48:23.845Z"
   },
   {
    "duration": 4,
    "start_time": "2021-10-03T14:51:03.487Z"
   },
   {
    "duration": 506,
    "start_time": "2021-10-03T14:52:38.644Z"
   },
   {
    "duration": 21,
    "start_time": "2021-10-03T14:52:45.715Z"
   },
   {
    "duration": 29,
    "start_time": "2021-10-03T14:52:49.301Z"
   },
   {
    "duration": 1731,
    "start_time": "2021-10-03T14:54:17.265Z"
   },
   {
    "duration": 3289,
    "start_time": "2021-10-03T14:54:18.999Z"
   },
   {
    "duration": 213,
    "start_time": "2021-10-03T14:54:22.291Z"
   },
   {
    "duration": 3183,
    "start_time": "2021-10-03T14:54:22.507Z"
   },
   {
    "duration": 4,
    "start_time": "2021-10-03T14:54:25.693Z"
   },
   {
    "duration": 55,
    "start_time": "2021-10-03T14:54:25.700Z"
   },
   {
    "duration": 29,
    "start_time": "2021-10-03T14:54:25.758Z"
   },
   {
    "duration": 1325,
    "start_time": "2021-10-03T14:54:25.793Z"
   },
   {
    "duration": 6,
    "start_time": "2021-10-03T14:54:27.122Z"
   },
   {
    "duration": 19,
    "start_time": "2021-10-03T14:54:27.130Z"
   },
   {
    "duration": 36,
    "start_time": "2021-10-03T14:54:27.152Z"
   },
   {
    "duration": 37,
    "start_time": "2021-10-03T14:54:27.191Z"
   },
   {
    "duration": 6,
    "start_time": "2021-10-03T14:54:27.284Z"
   },
   {
    "duration": 117,
    "start_time": "2021-10-03T14:54:27.294Z"
   },
   {
    "duration": 7,
    "start_time": "2021-10-03T14:54:27.414Z"
   },
   {
    "duration": 71,
    "start_time": "2021-10-03T14:54:27.423Z"
   },
   {
    "duration": 30,
    "start_time": "2021-10-03T14:54:27.497Z"
   },
   {
    "duration": 29,
    "start_time": "2021-10-03T15:02:17.698Z"
   },
   {
    "duration": 46,
    "start_time": "2021-10-03T15:02:19.623Z"
   },
   {
    "duration": 550,
    "start_time": "2021-10-03T15:04:10.405Z"
   },
   {
    "duration": 6,
    "start_time": "2021-10-03T15:04:29.022Z"
   },
   {
    "duration": 269,
    "start_time": "2021-10-03T15:23:29.336Z"
   },
   {
    "duration": 289,
    "start_time": "2021-10-03T15:23:52.930Z"
   },
   {
    "duration": 19,
    "start_time": "2021-10-03T15:23:56.466Z"
   },
   {
    "duration": 29,
    "start_time": "2021-10-03T15:24:01.608Z"
   },
   {
    "duration": 25,
    "start_time": "2021-10-03T15:26:01.009Z"
   },
   {
    "duration": 287,
    "start_time": "2021-10-03T15:28:34.061Z"
   },
   {
    "duration": 45,
    "start_time": "2021-10-03T15:28:49.528Z"
   },
   {
    "duration": 34,
    "start_time": "2021-10-03T15:28:57.694Z"
   },
   {
    "duration": 27,
    "start_time": "2021-10-03T15:29:39.960Z"
   },
   {
    "duration": 313,
    "start_time": "2021-10-03T15:41:48.083Z"
   },
   {
    "duration": 4,
    "start_time": "2021-10-03T15:43:32.440Z"
   },
   {
    "duration": 309,
    "start_time": "2021-10-03T15:51:37.066Z"
   },
   {
    "duration": 40,
    "start_time": "2021-10-03T15:52:01.017Z"
   },
   {
    "duration": 771,
    "start_time": "2021-10-03T15:52:05.616Z"
   },
   {
    "duration": 37,
    "start_time": "2021-10-03T15:52:21.722Z"
   },
   {
    "duration": 306,
    "start_time": "2021-10-03T15:52:24.716Z"
   },
   {
    "duration": 246,
    "start_time": "2021-10-03T15:52:52.390Z"
   },
   {
    "duration": 1135,
    "start_time": "2021-10-03T15:53:24.217Z"
   },
   {
    "duration": 4,
    "start_time": "2021-10-03T15:59:29.991Z"
   },
   {
    "duration": 4233,
    "start_time": "2021-10-03T15:59:31.624Z"
   },
   {
    "duration": 3095,
    "start_time": "2021-10-03T15:59:40.880Z"
   },
   {
    "duration": 37,
    "start_time": "2021-10-03T15:59:48.442Z"
   },
   {
    "duration": 50,
    "start_time": "2021-10-03T16:01:56.862Z"
   },
   {
    "duration": 311,
    "start_time": "2021-10-03T16:02:49.058Z"
   },
   {
    "duration": 233,
    "start_time": "2021-10-03T16:03:41.516Z"
   },
   {
    "duration": 4,
    "start_time": "2021-10-03T16:15:52.441Z"
   },
   {
    "duration": 331,
    "start_time": "2021-10-03T16:16:09.852Z"
   },
   {
    "duration": 5,
    "start_time": "2021-10-03T16:16:24.792Z"
   },
   {
    "duration": 272,
    "start_time": "2021-10-03T16:16:28.050Z"
   },
   {
    "duration": 20,
    "start_time": "2021-10-03T16:16:48.805Z"
   },
   {
    "duration": 329,
    "start_time": "2021-10-03T16:24:56.599Z"
   },
   {
    "duration": 337,
    "start_time": "2021-10-03T16:25:28.460Z"
   },
   {
    "duration": 330,
    "start_time": "2021-10-03T16:25:33.923Z"
   },
   {
    "duration": 250,
    "start_time": "2021-10-03T16:25:52.109Z"
   },
   {
    "duration": 227,
    "start_time": "2021-10-03T16:25:56.834Z"
   },
   {
    "duration": 226,
    "start_time": "2021-10-03T16:26:04.874Z"
   },
   {
    "duration": 366,
    "start_time": "2021-10-03T16:26:15.883Z"
   },
   {
    "duration": 249,
    "start_time": "2021-10-03T16:26:58.880Z"
   },
   {
    "duration": 285,
    "start_time": "2021-10-03T16:27:24.793Z"
   },
   {
    "duration": 5,
    "start_time": "2021-10-03T16:27:55.867Z"
   },
   {
    "duration": 1304,
    "start_time": "2021-10-03T16:27:59.772Z"
   },
   {
    "duration": 1140,
    "start_time": "2021-10-03T16:28:21.657Z"
   },
   {
    "duration": 2573,
    "start_time": "2021-10-03T16:28:47.312Z"
   },
   {
    "duration": 3165,
    "start_time": "2021-10-03T16:29:05.492Z"
   },
   {
    "duration": 40794,
    "start_time": "2021-10-03T16:29:13.210Z"
   },
   {
    "duration": 10730,
    "start_time": "2021-10-03T16:30:09.055Z"
   },
   {
    "duration": 2378,
    "start_time": "2021-10-03T16:30:25.151Z"
   },
   {
    "duration": 324,
    "start_time": "2021-10-03T16:31:14.210Z"
   },
   {
    "duration": 345,
    "start_time": "2021-10-03T16:38:17.224Z"
   },
   {
    "duration": 332,
    "start_time": "2021-10-03T16:38:19.910Z"
   },
   {
    "duration": 321,
    "start_time": "2021-10-03T16:38:26.241Z"
   },
   {
    "duration": 467,
    "start_time": "2021-10-03T16:38:41.088Z"
   },
   {
    "duration": 260,
    "start_time": "2021-10-03T16:38:54.689Z"
   },
   {
    "duration": 223,
    "start_time": "2021-10-03T16:39:20.995Z"
   },
   {
    "duration": 5,
    "start_time": "2021-10-03T16:39:58.053Z"
   },
   {
    "duration": 284,
    "start_time": "2021-10-03T16:40:01.679Z"
   },
   {
    "duration": 236,
    "start_time": "2021-10-03T16:58:31.783Z"
   },
   {
    "duration": 257,
    "start_time": "2021-10-03T16:59:36.762Z"
   },
   {
    "duration": 6,
    "start_time": "2021-10-03T16:59:46.476Z"
   },
   {
    "duration": 123,
    "start_time": "2021-10-03T16:59:49.873Z"
   },
   {
    "duration": 108,
    "start_time": "2021-10-03T17:00:56.076Z"
   },
   {
    "duration": 160,
    "start_time": "2021-10-03T17:01:19.313Z"
   },
   {
    "duration": 1855,
    "start_time": "2021-10-03T17:01:23.661Z"
   },
   {
    "duration": 194,
    "start_time": "2021-10-03T17:01:30.290Z"
   },
   {
    "duration": 107,
    "start_time": "2021-10-03T17:01:34.270Z"
   },
   {
    "duration": 134,
    "start_time": "2021-10-03T17:01:38.964Z"
   },
   {
    "duration": 141,
    "start_time": "2021-10-03T17:01:43.335Z"
   },
   {
    "duration": 162,
    "start_time": "2021-10-03T17:01:48.318Z"
   },
   {
    "duration": 163,
    "start_time": "2021-10-03T17:01:51.299Z"
   },
   {
    "duration": 721,
    "start_time": "2021-10-03T17:01:58.096Z"
   },
   {
    "duration": 772,
    "start_time": "2021-10-03T17:02:03.232Z"
   },
   {
    "duration": 762,
    "start_time": "2021-10-03T17:02:07.100Z"
   },
   {
    "duration": 775,
    "start_time": "2021-10-03T17:02:12.233Z"
   },
   {
    "duration": 807,
    "start_time": "2021-10-03T17:02:16.598Z"
   },
   {
    "duration": 857,
    "start_time": "2021-10-03T17:02:24.315Z"
   },
   {
    "duration": 180,
    "start_time": "2021-10-03T17:02:29.386Z"
   },
   {
    "duration": 103,
    "start_time": "2021-10-03T17:03:17.494Z"
   },
   {
    "duration": 40,
    "start_time": "2021-10-03T17:03:36.775Z"
   },
   {
    "duration": 44,
    "start_time": "2021-10-03T17:03:49.667Z"
   },
   {
    "duration": 44,
    "start_time": "2021-10-03T17:03:58.239Z"
   },
   {
    "duration": 28,
    "start_time": "2021-10-03T17:04:05.362Z"
   },
   {
    "duration": 1029,
    "start_time": "2021-10-04T09:10:44.797Z"
   },
   {
    "duration": 3482,
    "start_time": "2021-10-04T09:10:45.828Z"
   },
   {
    "duration": 163,
    "start_time": "2021-10-04T09:10:49.312Z"
   },
   {
    "duration": 2089,
    "start_time": "2021-10-04T09:10:49.478Z"
   },
   {
    "duration": 3,
    "start_time": "2021-10-04T09:10:51.569Z"
   },
   {
    "duration": 3301,
    "start_time": "2021-10-04T09:10:51.574Z"
   },
   {
    "duration": 59,
    "start_time": "2021-10-04T09:10:54.877Z"
   },
   {
    "duration": 32,
    "start_time": "2021-10-04T09:10:54.939Z"
   },
   {
    "duration": 20,
    "start_time": "2021-10-04T09:10:54.973Z"
   },
   {
    "duration": 973,
    "start_time": "2021-10-04T09:10:54.995Z"
   },
   {
    "duration": 4,
    "start_time": "2021-10-04T09:10:55.970Z"
   },
   {
    "duration": 15,
    "start_time": "2021-10-04T09:10:55.976Z"
   },
   {
    "duration": 6,
    "start_time": "2021-10-04T09:10:55.993Z"
   },
   {
    "duration": 44,
    "start_time": "2021-10-04T09:10:56.001Z"
   },
   {
    "duration": 4,
    "start_time": "2021-10-04T09:10:56.047Z"
   },
   {
    "duration": 196,
    "start_time": "2021-10-04T09:10:56.053Z"
   },
   {
    "duration": 3,
    "start_time": "2021-10-04T09:10:56.250Z"
   },
   {
    "duration": 19,
    "start_time": "2021-10-04T09:10:56.255Z"
   },
   {
    "duration": 431,
    "start_time": "2021-10-04T09:10:56.276Z"
   },
   {
    "duration": -12752,
    "start_time": "2021-10-04T09:11:09.461Z"
   },
   {
    "duration": -12754,
    "start_time": "2021-10-04T09:11:09.464Z"
   },
   {
    "duration": -12756,
    "start_time": "2021-10-04T09:11:09.467Z"
   },
   {
    "duration": -12757,
    "start_time": "2021-10-04T09:11:09.469Z"
   },
   {
    "duration": -12759,
    "start_time": "2021-10-04T09:11:09.472Z"
   },
   {
    "duration": 1203,
    "start_time": "2021-10-04T09:11:35.591Z"
   },
   {
    "duration": 2142,
    "start_time": "2021-10-04T09:11:36.795Z"
   },
   {
    "duration": 130,
    "start_time": "2021-10-04T09:11:38.940Z"
   },
   {
    "duration": 2129,
    "start_time": "2021-10-04T09:11:39.073Z"
   },
   {
    "duration": 2,
    "start_time": "2021-10-04T09:11:41.204Z"
   },
   {
    "duration": 2123,
    "start_time": "2021-10-04T09:11:41.208Z"
   },
   {
    "duration": 16,
    "start_time": "2021-10-04T09:11:43.333Z"
   },
   {
    "duration": 31,
    "start_time": "2021-10-04T09:11:43.351Z"
   },
   {
    "duration": 15,
    "start_time": "2021-10-04T09:11:43.385Z"
   },
   {
    "duration": 1005,
    "start_time": "2021-10-04T09:11:43.401Z"
   },
   {
    "duration": 4,
    "start_time": "2021-10-04T09:11:44.407Z"
   },
   {
    "duration": 10,
    "start_time": "2021-10-04T09:11:44.413Z"
   },
   {
    "duration": 19,
    "start_time": "2021-10-04T09:11:44.425Z"
   },
   {
    "duration": 21,
    "start_time": "2021-10-04T09:11:44.446Z"
   },
   {
    "duration": 76,
    "start_time": "2021-10-04T09:11:44.469Z"
   },
   {
    "duration": 114,
    "start_time": "2021-10-04T09:11:44.548Z"
   },
   {
    "duration": 3,
    "start_time": "2021-10-04T09:11:44.664Z"
   },
   {
    "duration": 16,
    "start_time": "2021-10-04T09:11:44.668Z"
   },
   {
    "duration": 29,
    "start_time": "2021-10-04T09:11:44.685Z"
   },
   {
    "duration": 186,
    "start_time": "2021-10-04T09:11:44.716Z"
   },
   {
    "duration": 1400,
    "start_time": "2021-10-04T09:11:44.904Z"
   },
   {
    "duration": 47,
    "start_time": "2021-10-04T09:11:46.306Z"
   },
   {
    "duration": 271,
    "start_time": "2021-10-04T09:11:46.356Z"
   },
   {
    "duration": 22,
    "start_time": "2021-10-04T09:11:46.629Z"
   },
   {
    "duration": 378,
    "start_time": "2021-10-04T09:13:19.117Z"
   },
   {
    "duration": 252,
    "start_time": "2021-10-04T09:13:34.737Z"
   },
   {
    "duration": 545,
    "start_time": "2021-10-04T09:16:07.800Z"
   },
   {
    "duration": 3,
    "start_time": "2021-10-04T09:16:20.523Z"
   },
   {
    "duration": 3,
    "start_time": "2021-10-04T09:16:36.484Z"
   },
   {
    "duration": 7090,
    "start_time": "2021-10-04T09:16:37.708Z"
   },
   {
    "duration": 411,
    "start_time": "2021-10-04T09:16:48.105Z"
   },
   {
    "duration": 260,
    "start_time": "2021-10-04T09:16:58.896Z"
   },
   {
    "duration": 4,
    "start_time": "2021-10-04T09:17:00.927Z"
   },
   {
    "duration": 1074,
    "start_time": "2021-10-04T09:17:08.396Z"
   },
   {
    "duration": 2198,
    "start_time": "2021-10-04T09:17:09.473Z"
   },
   {
    "duration": 126,
    "start_time": "2021-10-04T09:17:11.673Z"
   },
   {
    "duration": 2164,
    "start_time": "2021-10-04T09:17:11.801Z"
   },
   {
    "duration": 3,
    "start_time": "2021-10-04T09:17:13.967Z"
   },
   {
    "duration": 2184,
    "start_time": "2021-10-04T09:17:13.971Z"
   },
   {
    "duration": 11,
    "start_time": "2021-10-04T09:17:16.157Z"
   },
   {
    "duration": 1016,
    "start_time": "2021-10-04T09:17:16.170Z"
   },
   {
    "duration": 1076,
    "start_time": "2021-10-04T09:17:17.189Z"
   },
   {
    "duration": 1289,
    "start_time": "2021-10-04T09:17:18.267Z"
   },
   {
    "duration": 5,
    "start_time": "2021-10-04T09:17:19.558Z"
   },
   {
    "duration": 19,
    "start_time": "2021-10-04T09:17:19.564Z"
   },
   {
    "duration": 11,
    "start_time": "2021-10-04T09:17:19.585Z"
   },
   {
    "duration": 47,
    "start_time": "2021-10-04T09:17:19.598Z"
   },
   {
    "duration": 103,
    "start_time": "2021-10-04T09:17:19.651Z"
   },
   {
    "duration": 93,
    "start_time": "2021-10-04T09:17:19.756Z"
   },
   {
    "duration": 4,
    "start_time": "2021-10-04T09:17:19.851Z"
   },
   {
    "duration": 20,
    "start_time": "2021-10-04T09:17:19.857Z"
   },
   {
    "duration": 35,
    "start_time": "2021-10-04T09:17:19.879Z"
   },
   {
    "duration": 218,
    "start_time": "2021-10-04T09:17:19.916Z"
   },
   {
    "duration": 1474,
    "start_time": "2021-10-04T09:17:20.136Z"
   },
   {
    "duration": 239,
    "start_time": "2021-10-04T09:17:21.612Z"
   },
   {
    "duration": 302,
    "start_time": "2021-10-04T09:17:21.853Z"
   },
   {
    "duration": 23,
    "start_time": "2021-10-04T09:17:22.157Z"
   },
   {
    "duration": 14,
    "start_time": "2021-10-04T09:17:22.182Z"
   },
   {
    "duration": 2684,
    "start_time": "2021-10-04T09:17:22.198Z"
   },
   {
    "duration": 5,
    "start_time": "2021-10-04T09:17:24.886Z"
   },
   {
    "duration": 6,
    "start_time": "2021-10-04T09:17:24.893Z"
   },
   {
    "duration": 4070,
    "start_time": "2021-10-04T09:17:24.900Z"
   },
   {
    "duration": 4168,
    "start_time": "2021-10-04T09:17:56.979Z"
   },
   {
    "duration": 142,
    "start_time": "2021-10-04T09:18:54.637Z"
   },
   {
    "duration": 130,
    "start_time": "2021-10-04T09:19:25.701Z"
   },
   {
    "duration": 5639,
    "start_time": "2021-10-04T09:20:20.890Z"
   },
   {
    "duration": 143,
    "start_time": "2021-10-04T09:20:52.442Z"
   },
   {
    "duration": 6488,
    "start_time": "2021-10-04T09:21:20.992Z"
   },
   {
    "duration": 5409,
    "start_time": "2021-10-04T09:21:46.345Z"
   },
   {
    "duration": 81,
    "start_time": "2021-10-04T09:23:32.959Z"
   },
   {
    "duration": 101,
    "start_time": "2021-10-04T09:23:40.007Z"
   },
   {
    "duration": 6664,
    "start_time": "2021-10-04T09:24:04.658Z"
   },
   {
    "duration": 5530,
    "start_time": "2021-10-04T09:24:20.058Z"
   },
   {
    "duration": 128,
    "start_time": "2021-10-04T09:24:52.901Z"
   },
   {
    "duration": 124,
    "start_time": "2021-10-04T09:25:11.336Z"
   },
   {
    "duration": 129,
    "start_time": "2021-10-04T09:25:17.299Z"
   },
   {
    "duration": 3608,
    "start_time": "2021-10-04T09:25:34.475Z"
   },
   {
    "duration": 175,
    "start_time": "2021-10-04T09:26:11.918Z"
   },
   {
    "duration": 5697,
    "start_time": "2021-10-04T09:26:34.286Z"
   },
   {
    "duration": 144,
    "start_time": "2021-10-04T09:26:59.857Z"
   },
   {
    "duration": 130,
    "start_time": "2021-10-04T09:27:05.755Z"
   },
   {
    "duration": 2832,
    "start_time": "2021-10-04T09:27:37.682Z"
   },
   {
    "duration": 5555,
    "start_time": "2021-10-04T09:27:56.798Z"
   },
   {
    "duration": 131,
    "start_time": "2021-10-04T09:28:45.242Z"
   },
   {
    "duration": 128,
    "start_time": "2021-10-04T09:28:57.082Z"
   },
   {
    "duration": 129,
    "start_time": "2021-10-04T09:29:09.112Z"
   },
   {
    "duration": 133976,
    "start_time": "2021-10-04T09:30:51.834Z"
   },
   {
    "duration": 83,
    "start_time": "2021-10-04T09:53:32.255Z"
   },
   {
    "duration": 311,
    "start_time": "2021-10-04T09:53:37.155Z"
   },
   {
    "duration": 104756,
    "start_time": "2021-10-04T09:53:50.568Z"
   },
   {
    "duration": 5870,
    "start_time": "2021-10-04T09:56:04.303Z"
   },
   {
    "duration": 5353,
    "start_time": "2021-10-04T09:56:29.518Z"
   },
   {
    "duration": 83,
    "start_time": "2021-10-04T10:37:27.701Z"
   },
   {
    "duration": 5267,
    "start_time": "2021-10-04T10:37:33.230Z"
   },
   {
    "duration": 5277,
    "start_time": "2021-10-04T10:37:46.173Z"
   },
   {
    "duration": 3,
    "start_time": "2021-10-04T10:39:29.026Z"
   },
   {
    "duration": 258,
    "start_time": "2021-10-04T10:39:44.641Z"
   },
   {
    "duration": 259,
    "start_time": "2021-10-04T10:40:20.744Z"
   },
   {
    "duration": 3169,
    "start_time": "2021-10-04T10:40:24.923Z"
   },
   {
    "duration": 3073,
    "start_time": "2021-10-04T10:41:17.972Z"
   },
   {
    "duration": 3131,
    "start_time": "2021-10-04T10:42:14.041Z"
   },
   {
    "duration": 3002,
    "start_time": "2021-10-04T10:44:44.029Z"
   },
   {
    "duration": 4,
    "start_time": "2021-10-04T10:44:47.044Z"
   },
   {
    "duration": 543,
    "start_time": "2021-10-04T10:44:56.472Z"
   },
   {
    "duration": 3,
    "start_time": "2021-10-04T10:45:09.041Z"
   },
   {
    "duration": 18,
    "start_time": "2021-10-04T10:45:12.457Z"
   },
   {
    "duration": 2,
    "start_time": "2021-10-04T10:45:44.099Z"
   },
   {
    "duration": 11,
    "start_time": "2021-10-04T10:45:58.115Z"
   },
   {
    "duration": 3,
    "start_time": "2021-10-04T10:47:31.893Z"
   },
   {
    "duration": 16,
    "start_time": "2021-10-04T10:47:32.954Z"
   },
   {
    "duration": 12,
    "start_time": "2021-10-04T10:48:05.672Z"
   },
   {
    "duration": 4,
    "start_time": "2021-10-04T10:53:13.211Z"
   },
   {
    "duration": 16,
    "start_time": "2021-10-04T10:53:14.469Z"
   },
   {
    "duration": 4,
    "start_time": "2021-10-04T10:53:49.130Z"
   },
   {
    "duration": 5751,
    "start_time": "2021-10-04T10:54:03.550Z"
   },
   {
    "duration": 4,
    "start_time": "2021-10-04T10:54:52.016Z"
   },
   {
    "duration": 286,
    "start_time": "2021-10-04T10:55:28.219Z"
   },
   {
    "duration": 5604,
    "start_time": "2021-10-04T10:56:06.509Z"
   },
   {
    "duration": 276,
    "start_time": "2021-10-04T10:56:17.075Z"
   },
   {
    "duration": 19,
    "start_time": "2021-10-04T10:56:23.631Z"
   },
   {
    "duration": 102917,
    "start_time": "2021-10-04T10:57:16.072Z"
   },
   {
    "duration": 291,
    "start_time": "2021-10-04T10:59:04.614Z"
   },
   {
    "duration": 260,
    "start_time": "2021-10-04T10:59:48.364Z"
   },
   {
    "duration": 101,
    "start_time": "2021-10-04T11:00:37.451Z"
   },
   {
    "duration": 2654,
    "start_time": "2021-10-04T11:02:50.807Z"
   },
   {
    "duration": 4,
    "start_time": "2021-10-04T11:03:57.853Z"
   },
   {
    "duration": 18,
    "start_time": "2021-10-04T11:05:27.273Z"
   },
   {
    "duration": 7,
    "start_time": "2021-10-04T11:05:57.238Z"
   },
   {
    "duration": 6,
    "start_time": "2021-10-04T11:06:25.835Z"
   },
   {
    "duration": 355,
    "start_time": "2021-10-04T11:10:50.803Z"
   },
   {
    "duration": 26,
    "start_time": "2021-10-04T11:11:41.009Z"
   },
   {
    "duration": 8,
    "start_time": "2021-10-04T11:12:22.334Z"
   },
   {
    "duration": 7,
    "start_time": "2021-10-04T11:14:05.454Z"
   },
   {
    "duration": 3,
    "start_time": "2021-10-04T11:15:31.662Z"
   },
   {
    "duration": 6,
    "start_time": "2021-10-04T11:16:06.128Z"
   },
   {
    "duration": 3,
    "start_time": "2021-10-04T12:12:44.002Z"
   },
   {
    "duration": 523,
    "start_time": "2021-10-04T12:12:46.416Z"
   },
   {
    "duration": 4,
    "start_time": "2021-10-04T12:13:04.505Z"
   },
   {
    "duration": 3,
    "start_time": "2021-10-04T12:13:10.761Z"
   },
   {
    "duration": 110,
    "start_time": "2021-10-04T12:13:14.236Z"
   },
   {
    "duration": 101,
    "start_time": "2021-10-04T12:42:42.651Z"
   },
   {
    "duration": 78,
    "start_time": "2021-10-04T12:43:10.666Z"
   },
   {
    "duration": 18,
    "start_time": "2021-10-04T12:44:10.647Z"
   },
   {
    "duration": 11,
    "start_time": "2021-10-04T12:44:13.632Z"
   },
   {
    "duration": 23,
    "start_time": "2021-10-04T12:45:39.086Z"
   },
   {
    "duration": 13,
    "start_time": "2021-10-04T12:45:41.242Z"
   },
   {
    "duration": 4,
    "start_time": "2021-10-04T12:47:16.886Z"
   },
   {
    "duration": 22,
    "start_time": "2021-10-04T12:48:16.738Z"
   },
   {
    "duration": 87,
    "start_time": "2021-10-04T12:50:31.997Z"
   },
   {
    "duration": 54,
    "start_time": "2021-10-04T12:50:43.664Z"
   },
   {
    "duration": 62,
    "start_time": "2021-10-04T12:50:47.282Z"
   },
   {
    "duration": 38,
    "start_time": "2021-10-04T12:50:53.344Z"
   },
   {
    "duration": 30,
    "start_time": "2021-10-04T12:50:56.697Z"
   },
   {
    "duration": 30,
    "start_time": "2021-10-04T12:50:59.686Z"
   },
   {
    "duration": 32,
    "start_time": "2021-10-04T12:51:03.469Z"
   },
   {
    "duration": 88,
    "start_time": "2021-10-04T12:51:06.656Z"
   },
   {
    "duration": 41,
    "start_time": "2021-10-04T12:51:10.027Z"
   },
   {
    "duration": 43,
    "start_time": "2021-10-04T12:51:13.201Z"
   },
   {
    "duration": 45,
    "start_time": "2021-10-04T12:51:16.177Z"
   },
   {
    "duration": 43,
    "start_time": "2021-10-04T12:51:18.829Z"
   },
   {
    "duration": 47,
    "start_time": "2021-10-04T12:51:21.576Z"
   },
   {
    "duration": 88,
    "start_time": "2021-10-04T12:51:24.561Z"
   },
   {
    "duration": 22,
    "start_time": "2021-10-04T12:51:32.300Z"
   },
   {
    "duration": 27,
    "start_time": "2021-10-04T12:51:35.641Z"
   },
   {
    "duration": 25,
    "start_time": "2021-10-04T12:51:38.527Z"
   },
   {
    "duration": 27,
    "start_time": "2021-10-04T12:51:41.286Z"
   },
   {
    "duration": 32,
    "start_time": "2021-10-04T12:51:44.918Z"
   },
   {
    "duration": 23,
    "start_time": "2021-10-04T12:51:48.222Z"
   },
   {
    "duration": 25,
    "start_time": "2021-10-04T12:51:52.636Z"
   },
   {
    "duration": 23,
    "start_time": "2021-10-04T12:51:55.573Z"
   },
   {
    "duration": 25,
    "start_time": "2021-10-04T12:51:59.386Z"
   },
   {
    "duration": 25,
    "start_time": "2021-10-04T12:52:05.041Z"
   },
   {
    "duration": 26,
    "start_time": "2021-10-04T12:52:08.455Z"
   },
   {
    "duration": 26,
    "start_time": "2021-10-04T12:52:11.947Z"
   },
   {
    "duration": 106,
    "start_time": "2021-10-04T12:54:09.139Z"
   },
   {
    "duration": 17,
    "start_time": "2021-10-04T12:56:06.759Z"
   },
   {
    "duration": 298,
    "start_time": "2021-10-04T12:57:06.177Z"
   },
   {
    "duration": 3,
    "start_time": "2021-10-04T12:57:24.542Z"
   },
   {
    "duration": 55,
    "start_time": "2021-10-04T12:57:25.732Z"
   },
   {
    "duration": 71,
    "start_time": "2021-10-04T12:59:26.713Z"
   },
   {
    "duration": 74,
    "start_time": "2021-10-04T12:59:44.971Z"
   },
   {
    "duration": 29,
    "start_time": "2021-10-04T13:01:27.218Z"
   },
   {
    "duration": 25,
    "start_time": "2021-10-04T13:01:56.459Z"
   },
   {
    "duration": 24,
    "start_time": "2021-10-04T13:02:04.196Z"
   },
   {
    "duration": 23,
    "start_time": "2021-10-04T13:02:08.066Z"
   },
   {
    "duration": 21,
    "start_time": "2021-10-04T13:02:12.221Z"
   },
   {
    "duration": 25,
    "start_time": "2021-10-04T13:02:15.182Z"
   },
   {
    "duration": 26,
    "start_time": "2021-10-04T13:02:17.969Z"
   },
   {
    "duration": 29,
    "start_time": "2021-10-04T13:02:21.993Z"
   },
   {
    "duration": 29,
    "start_time": "2021-10-04T13:02:25.370Z"
   },
   {
    "duration": 28,
    "start_time": "2021-10-04T13:02:28.345Z"
   },
   {
    "duration": 26,
    "start_time": "2021-10-04T13:02:31.299Z"
   },
   {
    "duration": 34,
    "start_time": "2021-10-04T13:02:35.989Z"
   },
   {
    "duration": 30,
    "start_time": "2021-10-04T13:02:43.230Z"
   },
   {
    "duration": 107,
    "start_time": "2021-10-04T13:03:20.325Z"
   },
   {
    "duration": 100,
    "start_time": "2021-10-04T13:03:24.610Z"
   },
   {
    "duration": 95,
    "start_time": "2021-10-04T13:03:28.092Z"
   },
   {
    "duration": 72,
    "start_time": "2021-10-04T13:03:31.047Z"
   },
   {
    "duration": 80,
    "start_time": "2021-10-04T13:03:33.813Z"
   },
   {
    "duration": 87,
    "start_time": "2021-10-04T13:03:36.597Z"
   },
   {
    "duration": 95,
    "start_time": "2021-10-04T13:03:39.499Z"
   },
   {
    "duration": 99,
    "start_time": "2021-10-04T13:03:42.628Z"
   },
   {
    "duration": 107,
    "start_time": "2021-10-04T13:03:45.846Z"
   },
   {
    "duration": 100,
    "start_time": "2021-10-04T13:03:48.591Z"
   },
   {
    "duration": 30,
    "start_time": "2021-10-04T13:04:43.238Z"
   },
   {
    "duration": 38,
    "start_time": "2021-10-04T13:04:58.738Z"
   },
   {
    "duration": 40,
    "start_time": "2021-10-04T13:05:03.678Z"
   },
   {
    "duration": 43,
    "start_time": "2021-10-04T13:05:06.775Z"
   },
   {
    "duration": 45,
    "start_time": "2021-10-04T13:05:10.257Z"
   },
   {
    "duration": 57,
    "start_time": "2021-10-04T13:05:14.011Z"
   },
   {
    "duration": 53,
    "start_time": "2021-10-04T13:05:17.180Z"
   },
   {
    "duration": 41,
    "start_time": "2021-10-04T13:05:20.092Z"
   },
   {
    "duration": 43,
    "start_time": "2021-10-04T13:05:22.796Z"
   },
   {
    "duration": 40,
    "start_time": "2021-10-04T13:05:25.610Z"
   },
   {
    "duration": 44,
    "start_time": "2021-10-04T13:05:29.427Z"
   },
   {
    "duration": 40,
    "start_time": "2021-10-04T13:05:32.223Z"
   },
   {
    "duration": 44,
    "start_time": "2021-10-04T13:05:34.776Z"
   },
   {
    "duration": 40,
    "start_time": "2021-10-04T13:05:37.382Z"
   },
   {
    "duration": 39,
    "start_time": "2021-10-04T13:05:45.736Z"
   },
   {
    "duration": 41,
    "start_time": "2021-10-04T13:05:48.449Z"
   },
   {
    "duration": 41,
    "start_time": "2021-10-04T13:05:53.896Z"
   },
   {
    "duration": 179,
    "start_time": "2021-10-04T13:06:07.516Z"
   },
   {
    "duration": 134,
    "start_time": "2021-10-04T13:06:11.485Z"
   },
   {
    "duration": 152,
    "start_time": "2021-10-04T13:06:14.202Z"
   },
   {
    "duration": 175,
    "start_time": "2021-10-04T13:06:20.132Z"
   },
   {
    "duration": 196,
    "start_time": "2021-10-04T13:06:22.629Z"
   },
   {
    "duration": 193,
    "start_time": "2021-10-04T13:06:25.662Z"
   },
   {
    "duration": 259,
    "start_time": "2021-10-04T13:06:28.165Z"
   },
   {
    "duration": 261,
    "start_time": "2021-10-04T13:06:31.303Z"
   },
   {
    "duration": 204,
    "start_time": "2021-10-04T13:06:34.623Z"
   },
   {
    "duration": 199,
    "start_time": "2021-10-04T13:06:38.876Z"
   },
   {
    "duration": 194,
    "start_time": "2021-10-04T13:06:43.666Z"
   },
   {
    "duration": 182,
    "start_time": "2021-10-04T13:06:46.071Z"
   },
   {
    "duration": 111,
    "start_time": "2021-10-04T13:13:38.762Z"
   },
   {
    "duration": 179,
    "start_time": "2021-10-04T13:13:42.048Z"
   },
   {
    "duration": 146,
    "start_time": "2021-10-04T13:13:46.429Z"
   },
   {
    "duration": 89,
    "start_time": "2021-10-04T13:13:51.100Z"
   },
   {
    "duration": 127,
    "start_time": "2021-10-04T13:13:54.477Z"
   },
   {
    "duration": 153,
    "start_time": "2021-10-04T13:13:58.857Z"
   },
   {
    "duration": 114,
    "start_time": "2021-10-04T13:15:05.520Z"
   },
   {
    "duration": 20,
    "start_time": "2021-10-04T13:15:10.934Z"
   },
   {
    "duration": 18,
    "start_time": "2021-10-04T13:16:03.087Z"
   },
   {
    "duration": 266,
    "start_time": "2021-10-04T13:58:25.061Z"
   },
   {
    "duration": 5419,
    "start_time": "2021-10-04T13:58:51.361Z"
   },
   {
    "duration": 19,
    "start_time": "2021-10-04T13:59:03.724Z"
   },
   {
    "duration": 120,
    "start_time": "2021-10-04T14:43:15.360Z"
   },
   {
    "duration": 53,
    "start_time": "2021-10-04T14:49:27.216Z"
   },
   {
    "duration": 287,
    "start_time": "2021-10-04T15:08:38.135Z"
   },
   {
    "duration": 1310,
    "start_time": "2021-10-04T15:09:02.686Z"
   },
   {
    "duration": 117841,
    "start_time": "2021-10-04T15:09:17.452Z"
   },
   {
    "duration": 184,
    "start_time": "2021-10-04T15:28:51.308Z"
   },
   {
    "duration": 165,
    "start_time": "2021-10-04T15:29:09.008Z"
   },
   {
    "duration": 190,
    "start_time": "2021-10-04T15:39:33.253Z"
   },
   {
    "duration": 181,
    "start_time": "2021-10-04T15:39:37.690Z"
   },
   {
    "duration": 88,
    "start_time": "2021-10-04T15:52:32.157Z"
   },
   {
    "duration": 30,
    "start_time": "2021-10-04T15:52:36.124Z"
   },
   {
    "duration": 39,
    "start_time": "2021-10-04T15:52:44.553Z"
   },
   {
    "duration": 40,
    "start_time": "2021-10-04T15:52:56.091Z"
   },
   {
    "duration": 38,
    "start_time": "2021-10-04T15:53:25.329Z"
   },
   {
    "duration": 25,
    "start_time": "2021-10-04T15:53:42.847Z"
   },
   {
    "duration": 22,
    "start_time": "2021-10-04T15:53:51.696Z"
   },
   {
    "duration": 22,
    "start_time": "2021-10-04T15:53:57.991Z"
   },
   {
    "duration": 85,
    "start_time": "2021-10-04T15:54:02.365Z"
   },
   {
    "duration": 60,
    "start_time": "2021-10-04T16:01:16.683Z"
   },
   {
    "duration": 23,
    "start_time": "2021-10-04T16:01:20.325Z"
   },
   {
    "duration": 83,
    "start_time": "2021-10-04T16:01:23.764Z"
   },
   {
    "duration": 31,
    "start_time": "2021-10-04T16:10:05.683Z"
   },
   {
    "duration": 190,
    "start_time": "2021-10-04T16:12:54.838Z"
   },
   {
    "duration": 52,
    "start_time": "2021-10-04T16:13:01.345Z"
   },
   {
    "duration": 89,
    "start_time": "2021-10-04T16:13:26.744Z"
   },
   {
    "duration": 88,
    "start_time": "2021-10-04T16:15:26.286Z"
   },
   {
    "duration": 84,
    "start_time": "2021-10-04T16:15:44.733Z"
   },
   {
    "duration": 58,
    "start_time": "2021-10-04T16:16:08.802Z"
   },
   {
    "duration": 4,
    "start_time": "2021-10-04T16:17:31.838Z"
   },
   {
    "duration": 75,
    "start_time": "2021-10-04T16:23:24.833Z"
   },
   {
    "duration": 101,
    "start_time": "2021-10-04T16:56:31.092Z"
   },
   {
    "duration": 156,
    "start_time": "2021-10-04T16:56:44.900Z"
   },
   {
    "duration": 65,
    "start_time": "2021-10-04T16:57:06.934Z"
   },
   {
    "duration": 10,
    "start_time": "2021-10-04T19:39:01.056Z"
   },
   {
    "duration": 1508,
    "start_time": "2021-10-04T19:39:20.036Z"
   },
   {
    "duration": 6222,
    "start_time": "2021-10-04T19:41:11.736Z"
   },
   {
    "duration": 4,
    "start_time": "2021-10-04T19:41:29.574Z"
   },
   {
    "duration": 4,
    "start_time": "2021-10-04T19:42:00.494Z"
   },
   {
    "duration": 5,
    "start_time": "2021-10-04T19:42:03.606Z"
   },
   {
    "duration": 14,
    "start_time": "2021-10-04T19:42:07.923Z"
   },
   {
    "duration": 811,
    "start_time": "2021-10-04T19:42:19.578Z"
   },
   {
    "duration": 778,
    "start_time": "2021-10-04T19:42:38.603Z"
   },
   {
    "duration": 1012,
    "start_time": "2021-10-04T19:46:14.418Z"
   },
   {
    "duration": 931,
    "start_time": "2021-10-04T19:46:32.226Z"
   },
   {
    "duration": 1106,
    "start_time": "2021-10-04T19:46:41.672Z"
   },
   {
    "duration": 1366,
    "start_time": "2021-10-04T19:47:10.661Z"
   },
   {
    "duration": -13271,
    "start_time": "2021-10-04T19:47:25.301Z"
   },
   {
    "duration": -13280,
    "start_time": "2021-10-04T19:47:25.311Z"
   },
   {
    "duration": -13453,
    "start_time": "2021-10-04T19:47:25.485Z"
   },
   {
    "duration": -13457,
    "start_time": "2021-10-04T19:47:25.490Z"
   },
   {
    "duration": -13466,
    "start_time": "2021-10-04T19:47:25.500Z"
   },
   {
    "duration": -13467,
    "start_time": "2021-10-04T19:47:25.502Z"
   },
   {
    "duration": -13470,
    "start_time": "2021-10-04T19:47:25.506Z"
   },
   {
    "duration": -13478,
    "start_time": "2021-10-04T19:47:25.515Z"
   },
   {
    "duration": -13481,
    "start_time": "2021-10-04T19:47:25.519Z"
   },
   {
    "duration": -13491,
    "start_time": "2021-10-04T19:47:25.530Z"
   },
   {
    "duration": -13493,
    "start_time": "2021-10-04T19:47:25.533Z"
   },
   {
    "duration": -13496,
    "start_time": "2021-10-04T19:47:25.537Z"
   },
   {
    "duration": -13505,
    "start_time": "2021-10-04T19:47:25.546Z"
   },
   {
    "duration": -13508,
    "start_time": "2021-10-04T19:47:25.550Z"
   },
   {
    "duration": -13509,
    "start_time": "2021-10-04T19:47:25.552Z"
   },
   {
    "duration": -13511,
    "start_time": "2021-10-04T19:47:25.555Z"
   },
   {
    "duration": -13522,
    "start_time": "2021-10-04T19:47:25.567Z"
   },
   {
    "duration": -13520,
    "start_time": "2021-10-04T19:47:25.570Z"
   },
   {
    "duration": -13530,
    "start_time": "2021-10-04T19:47:25.581Z"
   },
   {
    "duration": -13531,
    "start_time": "2021-10-04T19:47:25.583Z"
   },
   {
    "duration": -13532,
    "start_time": "2021-10-04T19:47:25.586Z"
   },
   {
    "duration": -13533,
    "start_time": "2021-10-04T19:47:25.588Z"
   },
   {
    "duration": -13542,
    "start_time": "2021-10-04T19:47:25.598Z"
   },
   {
    "duration": -13740,
    "start_time": "2021-10-04T19:47:25.797Z"
   },
   {
    "duration": -13798,
    "start_time": "2021-10-04T19:47:25.856Z"
   },
   {
    "duration": -13805,
    "start_time": "2021-10-04T19:47:25.864Z"
   },
   {
    "duration": -13809,
    "start_time": "2021-10-04T19:47:25.869Z"
   },
   {
    "duration": -13810,
    "start_time": "2021-10-04T19:47:25.871Z"
   },
   {
    "duration": -13820,
    "start_time": "2021-10-04T19:47:25.882Z"
   },
   {
    "duration": -13822,
    "start_time": "2021-10-04T19:47:25.885Z"
   },
   {
    "duration": -13832,
    "start_time": "2021-10-04T19:47:25.896Z"
   },
   {
    "duration": -13834,
    "start_time": "2021-10-04T19:47:25.899Z"
   },
   {
    "duration": -13836,
    "start_time": "2021-10-04T19:47:25.902Z"
   },
   {
    "duration": -13846,
    "start_time": "2021-10-04T19:47:25.913Z"
   },
   {
    "duration": -13848,
    "start_time": "2021-10-04T19:47:25.916Z"
   },
   {
    "duration": -13851,
    "start_time": "2021-10-04T19:47:25.920Z"
   },
   {
    "duration": -13859,
    "start_time": "2021-10-04T19:47:25.929Z"
   },
   {
    "duration": -13863,
    "start_time": "2021-10-04T19:47:25.934Z"
   },
   {
    "duration": -13865,
    "start_time": "2021-10-04T19:47:25.937Z"
   },
   {
    "duration": -13875,
    "start_time": "2021-10-04T19:47:25.948Z"
   },
   {
    "duration": -13877,
    "start_time": "2021-10-04T19:47:25.951Z"
   },
   {
    "duration": -13878,
    "start_time": "2021-10-04T19:47:25.953Z"
   },
   {
    "duration": -13891,
    "start_time": "2021-10-04T19:47:25.967Z"
   },
   {
    "duration": -13893,
    "start_time": "2021-10-04T19:47:25.971Z"
   },
   {
    "duration": -13904,
    "start_time": "2021-10-04T19:47:25.983Z"
   },
   {
    "duration": -13906,
    "start_time": "2021-10-04T19:47:25.986Z"
   },
   {
    "duration": -13908,
    "start_time": "2021-10-04T19:47:25.989Z"
   },
   {
    "duration": -13916,
    "start_time": "2021-10-04T19:47:25.998Z"
   },
   {
    "duration": -13918,
    "start_time": "2021-10-04T19:47:26.001Z"
   },
   {
    "duration": -13919,
    "start_time": "2021-10-04T19:47:26.003Z"
   },
   {
    "duration": -13923,
    "start_time": "2021-10-04T19:47:26.008Z"
   },
   {
    "duration": -13934,
    "start_time": "2021-10-04T19:47:26.020Z"
   },
   {
    "duration": -13943,
    "start_time": "2021-10-04T19:47:26.030Z"
   },
   {
    "duration": -13889,
    "start_time": "2021-10-04T19:47:26.033Z"
   },
   {
    "duration": -13891,
    "start_time": "2021-10-04T19:47:26.036Z"
   },
   {
    "duration": -13901,
    "start_time": "2021-10-04T19:47:26.047Z"
   },
   {
    "duration": -13904,
    "start_time": "2021-10-04T19:47:26.050Z"
   },
   {
    "duration": 295,
    "start_time": "2021-10-04T19:48:01.193Z"
   },
   {
    "duration": 3,
    "start_time": "2021-10-04T19:48:15.468Z"
   },
   {
    "duration": 5,
    "start_time": "2021-10-04T19:48:27.033Z"
   },
   {
    "duration": 1128,
    "start_time": "2021-10-04T19:48:33.481Z"
   },
   {
    "duration": 2442,
    "start_time": "2021-10-04T19:48:34.611Z"
   },
   {
    "duration": 140,
    "start_time": "2021-10-04T19:48:37.056Z"
   },
   {
    "duration": 2631,
    "start_time": "2021-10-04T19:48:37.198Z"
   },
   {
    "duration": 4,
    "start_time": "2021-10-04T19:48:39.831Z"
   },
   {
    "duration": 2563,
    "start_time": "2021-10-04T19:48:39.837Z"
   },
   {
    "duration": 11,
    "start_time": "2021-10-04T19:48:42.402Z"
   },
   {
    "duration": 2946,
    "start_time": "2021-10-04T19:48:42.415Z"
   },
   {
    "duration": 3,
    "start_time": "2021-10-04T19:48:45.364Z"
   },
   {
    "duration": 12,
    "start_time": "2021-10-04T19:48:45.369Z"
   },
   {
    "duration": 48,
    "start_time": "2021-10-04T19:48:45.382Z"
   },
   {
    "duration": 17,
    "start_time": "2021-10-04T19:48:45.432Z"
   },
   {
    "duration": 1023,
    "start_time": "2021-10-04T19:48:45.451Z"
   },
   {
    "duration": 5,
    "start_time": "2021-10-04T19:48:46.476Z"
   },
   {
    "duration": 10,
    "start_time": "2021-10-04T19:48:46.483Z"
   },
   {
    "duration": 7,
    "start_time": "2021-10-04T19:48:46.495Z"
   },
   {
    "duration": 46,
    "start_time": "2021-10-04T19:48:46.503Z"
   },
   {
    "duration": 6,
    "start_time": "2021-10-04T19:48:46.558Z"
   },
   {
    "duration": 113,
    "start_time": "2021-10-04T19:48:46.571Z"
   },
   {
    "duration": 57,
    "start_time": "2021-10-04T19:48:46.687Z"
   },
   {
    "duration": 29,
    "start_time": "2021-10-04T19:48:46.749Z"
   },
   {
    "duration": 65,
    "start_time": "2021-10-04T19:48:46.782Z"
   },
   {
    "duration": 18,
    "start_time": "2021-10-04T19:48:46.850Z"
   },
   {
    "duration": 12,
    "start_time": "2021-10-04T19:48:46.878Z"
   },
   {
    "duration": 1228,
    "start_time": "2021-10-04T19:48:46.893Z"
   },
   {
    "duration": 35,
    "start_time": "2021-10-04T19:48:48.123Z"
   },
   {
    "duration": 1413,
    "start_time": "2021-10-04T19:48:48.245Z"
   },
   {
    "duration": -13307,
    "start_time": "2021-10-04T19:49:02.969Z"
   },
   {
    "duration": -13309,
    "start_time": "2021-10-04T19:49:02.972Z"
   },
   {
    "duration": -13310,
    "start_time": "2021-10-04T19:49:02.974Z"
   },
   {
    "duration": -13311,
    "start_time": "2021-10-04T19:49:02.977Z"
   },
   {
    "duration": -13312,
    "start_time": "2021-10-04T19:49:02.979Z"
   },
   {
    "duration": -13314,
    "start_time": "2021-10-04T19:49:02.982Z"
   },
   {
    "duration": -13495,
    "start_time": "2021-10-04T19:49:03.165Z"
   },
   {
    "duration": -13507,
    "start_time": "2021-10-04T19:49:03.178Z"
   },
   {
    "duration": -13509,
    "start_time": "2021-10-04T19:49:03.181Z"
   },
   {
    "duration": -13512,
    "start_time": "2021-10-04T19:49:03.185Z"
   },
   {
    "duration": -13512,
    "start_time": "2021-10-04T19:49:03.187Z"
   },
   {
    "duration": -13513,
    "start_time": "2021-10-04T19:49:03.189Z"
   },
   {
    "duration": -13515,
    "start_time": "2021-10-04T19:49:03.192Z"
   },
   {
    "duration": -13516,
    "start_time": "2021-10-04T19:49:03.195Z"
   },
   {
    "duration": -13517,
    "start_time": "2021-10-04T19:49:03.197Z"
   },
   {
    "duration": -13520,
    "start_time": "2021-10-04T19:49:03.201Z"
   },
   {
    "duration": -13521,
    "start_time": "2021-10-04T19:49:03.204Z"
   },
   {
    "duration": -13523,
    "start_time": "2021-10-04T19:49:03.207Z"
   },
   {
    "duration": -13525,
    "start_time": "2021-10-04T19:49:03.210Z"
   },
   {
    "duration": -13526,
    "start_time": "2021-10-04T19:49:03.212Z"
   },
   {
    "duration": -13528,
    "start_time": "2021-10-04T19:49:03.215Z"
   },
   {
    "duration": -13529,
    "start_time": "2021-10-04T19:49:03.217Z"
   },
   {
    "duration": -13531,
    "start_time": "2021-10-04T19:49:03.220Z"
   },
   {
    "duration": -13533,
    "start_time": "2021-10-04T19:49:03.223Z"
   },
   {
    "duration": -13534,
    "start_time": "2021-10-04T19:49:03.225Z"
   },
   {
    "duration": -13536,
    "start_time": "2021-10-04T19:49:03.228Z"
   },
   {
    "duration": -13537,
    "start_time": "2021-10-04T19:49:03.230Z"
   },
   {
    "duration": -13538,
    "start_time": "2021-10-04T19:49:03.232Z"
   },
   {
    "duration": -13539,
    "start_time": "2021-10-04T19:49:03.234Z"
   },
   {
    "duration": -13541,
    "start_time": "2021-10-04T19:49:03.237Z"
   },
   {
    "duration": -13541,
    "start_time": "2021-10-04T19:49:03.239Z"
   },
   {
    "duration": -13542,
    "start_time": "2021-10-04T19:49:03.241Z"
   },
   {
    "duration": 1089,
    "start_time": "2021-10-04T19:50:52.032Z"
   },
   {
    "duration": 3350,
    "start_time": "2021-10-04T19:50:53.122Z"
   },
   {
    "duration": 132,
    "start_time": "2021-10-04T19:50:56.474Z"
   },
   {
    "duration": 2347,
    "start_time": "2021-10-04T19:50:56.608Z"
   },
   {
    "duration": 3,
    "start_time": "2021-10-04T19:50:58.958Z"
   },
   {
    "duration": 2473,
    "start_time": "2021-10-04T19:50:58.963Z"
   },
   {
    "duration": 15,
    "start_time": "2021-10-04T19:51:01.438Z"
   },
   {
    "duration": 2860,
    "start_time": "2021-10-04T19:51:01.456Z"
   },
   {
    "duration": 3,
    "start_time": "2021-10-04T19:51:04.320Z"
   },
   {
    "duration": 17,
    "start_time": "2021-10-04T19:51:04.325Z"
   },
   {
    "duration": 55,
    "start_time": "2021-10-04T19:51:04.345Z"
   },
   {
    "duration": 19,
    "start_time": "2021-10-04T19:51:04.402Z"
   },
   {
    "duration": 974,
    "start_time": "2021-10-04T19:51:04.423Z"
   },
   {
    "duration": 4,
    "start_time": "2021-10-04T19:51:05.399Z"
   },
   {
    "duration": 15,
    "start_time": "2021-10-04T19:51:05.405Z"
   },
   {
    "duration": 12,
    "start_time": "2021-10-04T19:51:05.421Z"
   },
   {
    "duration": 31,
    "start_time": "2021-10-04T19:51:05.435Z"
   },
   {
    "duration": 9,
    "start_time": "2021-10-04T19:51:05.545Z"
   },
   {
    "duration": 31,
    "start_time": "2021-10-04T19:51:05.645Z"
   },
   {
    "duration": 5,
    "start_time": "2021-10-04T19:51:05.677Z"
   },
   {
    "duration": 23,
    "start_time": "2021-10-04T19:51:05.683Z"
   },
   {
    "duration": 54,
    "start_time": "2021-10-04T19:51:05.708Z"
   },
   {
    "duration": 7,
    "start_time": "2021-10-04T19:51:05.764Z"
   },
   {
    "duration": 9,
    "start_time": "2021-10-04T19:51:05.772Z"
   },
   {
    "duration": 1086,
    "start_time": "2021-10-04T19:51:05.782Z"
   },
   {
    "duration": 76,
    "start_time": "2021-10-04T19:51:06.869Z"
   },
   {
    "duration": 94,
    "start_time": "2021-10-04T19:51:06.951Z"
   },
   {
    "duration": 285,
    "start_time": "2021-10-04T19:51:07.048Z"
   },
   {
    "duration": 124473,
    "start_time": "2021-10-04T19:51:07.335Z"
   },
   {
    "duration": 20,
    "start_time": "2021-10-04T19:53:11.810Z"
   },
   {
    "duration": 5541,
    "start_time": "2021-10-04T19:53:11.832Z"
   },
   {
    "duration": 17,
    "start_time": "2021-10-04T19:53:17.375Z"
   },
   {
    "duration": 144,
    "start_time": "2021-10-04T19:53:17.394Z"
   },
   {
    "duration": 106263,
    "start_time": "2021-10-04T19:53:17.540Z"
   },
   {
    "duration": -13356,
    "start_time": "2021-10-04T19:55:17.161Z"
   },
   {
    "duration": -13970,
    "start_time": "2021-10-04T19:55:17.775Z"
   },
   {
    "duration": -13981,
    "start_time": "2021-10-04T19:55:17.787Z"
   },
   {
    "duration": -13982,
    "start_time": "2021-10-04T19:55:17.789Z"
   },
   {
    "duration": -13984,
    "start_time": "2021-10-04T19:55:17.792Z"
   },
   {
    "duration": -13985,
    "start_time": "2021-10-04T19:55:17.794Z"
   },
   {
    "duration": -13987,
    "start_time": "2021-10-04T19:55:17.797Z"
   },
   {
    "duration": -13989,
    "start_time": "2021-10-04T19:55:17.800Z"
   },
   {
    "duration": -13990,
    "start_time": "2021-10-04T19:55:17.802Z"
   },
   {
    "duration": -13991,
    "start_time": "2021-10-04T19:55:17.804Z"
   },
   {
    "duration": -13993,
    "start_time": "2021-10-04T19:55:17.807Z"
   },
   {
    "duration": -13995,
    "start_time": "2021-10-04T19:55:17.809Z"
   },
   {
    "duration": -13996,
    "start_time": "2021-10-04T19:55:17.811Z"
   },
   {
    "duration": -13998,
    "start_time": "2021-10-04T19:55:17.814Z"
   },
   {
    "duration": -13999,
    "start_time": "2021-10-04T19:55:17.816Z"
   },
   {
    "duration": -14000,
    "start_time": "2021-10-04T19:55:17.818Z"
   },
   {
    "duration": -14002,
    "start_time": "2021-10-04T19:55:17.821Z"
   },
   {
    "duration": -14004,
    "start_time": "2021-10-04T19:55:17.824Z"
   },
   {
    "duration": -14005,
    "start_time": "2021-10-04T19:55:17.826Z"
   },
   {
    "duration": -14006,
    "start_time": "2021-10-04T19:55:17.828Z"
   },
   {
    "duration": -14006,
    "start_time": "2021-10-04T19:55:17.830Z"
   },
   {
    "duration": -14008,
    "start_time": "2021-10-04T19:55:17.833Z"
   },
   {
    "duration": -14009,
    "start_time": "2021-10-04T19:55:17.835Z"
   },
   {
    "duration": -14011,
    "start_time": "2021-10-04T19:55:17.838Z"
   },
   {
    "duration": 1830,
    "start_time": "2021-10-05T11:21:48.903Z"
   },
   {
    "duration": -14160,
    "start_time": "2021-10-05T11:22:04.899Z"
   },
   {
    "duration": -14164,
    "start_time": "2021-10-05T11:22:04.905Z"
   },
   {
    "duration": -14170,
    "start_time": "2021-10-05T11:22:04.913Z"
   },
   {
    "duration": -14172,
    "start_time": "2021-10-05T11:22:04.917Z"
   },
   {
    "duration": -14220,
    "start_time": "2021-10-05T11:22:04.967Z"
   },
   {
    "duration": -14224,
    "start_time": "2021-10-05T11:22:04.973Z"
   },
   {
    "duration": -14229,
    "start_time": "2021-10-05T11:22:04.980Z"
   },
   {
    "duration": -14241,
    "start_time": "2021-10-05T11:22:04.994Z"
   },
   {
    "duration": -14246,
    "start_time": "2021-10-05T11:22:05.000Z"
   },
   {
    "duration": -14249,
    "start_time": "2021-10-05T11:22:05.006Z"
   },
   {
    "duration": -14253,
    "start_time": "2021-10-05T11:22:05.012Z"
   },
   {
    "duration": -14256,
    "start_time": "2021-10-05T11:22:05.018Z"
   },
   {
    "duration": -14288,
    "start_time": "2021-10-05T11:22:05.052Z"
   },
   {
    "duration": -14290,
    "start_time": "2021-10-05T11:22:05.056Z"
   },
   {
    "duration": -14293,
    "start_time": "2021-10-05T11:22:05.061Z"
   },
   {
    "duration": -14295,
    "start_time": "2021-10-05T11:22:05.065Z"
   },
   {
    "duration": -14298,
    "start_time": "2021-10-05T11:22:05.070Z"
   },
   {
    "duration": -14299,
    "start_time": "2021-10-05T11:22:05.074Z"
   },
   {
    "duration": -14302,
    "start_time": "2021-10-05T11:22:05.078Z"
   },
   {
    "duration": -14304,
    "start_time": "2021-10-05T11:22:05.082Z"
   },
   {
    "duration": -14308,
    "start_time": "2021-10-05T11:22:05.087Z"
   },
   {
    "duration": -14324,
    "start_time": "2021-10-05T11:22:05.104Z"
   },
   {
    "duration": -14329,
    "start_time": "2021-10-05T11:22:05.110Z"
   },
   {
    "duration": -14331,
    "start_time": "2021-10-05T11:22:05.114Z"
   },
   {
    "duration": -14336,
    "start_time": "2021-10-05T11:22:05.120Z"
   },
   {
    "duration": -14432,
    "start_time": "2021-10-05T11:22:05.217Z"
   },
   {
    "duration": -14436,
    "start_time": "2021-10-05T11:22:05.223Z"
   },
   {
    "duration": -14439,
    "start_time": "2021-10-05T11:22:05.227Z"
   },
   {
    "duration": -14444,
    "start_time": "2021-10-05T11:22:05.234Z"
   },
   {
    "duration": -14486,
    "start_time": "2021-10-05T11:22:05.277Z"
   },
   {
    "duration": -14488,
    "start_time": "2021-10-05T11:22:05.281Z"
   },
   {
    "duration": -14491,
    "start_time": "2021-10-05T11:22:05.285Z"
   },
   {
    "duration": -14494,
    "start_time": "2021-10-05T11:22:05.290Z"
   },
   {
    "duration": -14497,
    "start_time": "2021-10-05T11:22:05.294Z"
   },
   {
    "duration": -14499,
    "start_time": "2021-10-05T11:22:05.298Z"
   },
   {
    "duration": -14502,
    "start_time": "2021-10-05T11:22:05.302Z"
   },
   {
    "duration": -14504,
    "start_time": "2021-10-05T11:22:05.306Z"
   },
   {
    "duration": -14507,
    "start_time": "2021-10-05T11:22:05.310Z"
   },
   {
    "duration": -14512,
    "start_time": "2021-10-05T11:22:05.316Z"
   },
   {
    "duration": -14528,
    "start_time": "2021-10-05T11:22:05.333Z"
   },
   {
    "duration": -14534,
    "start_time": "2021-10-05T11:22:05.340Z"
   },
   {
    "duration": -14538,
    "start_time": "2021-10-05T11:22:05.345Z"
   },
   {
    "duration": -14544,
    "start_time": "2021-10-05T11:22:05.352Z"
   },
   {
    "duration": -14548,
    "start_time": "2021-10-05T11:22:05.357Z"
   },
   {
    "duration": -14495,
    "start_time": "2021-10-05T11:22:05.362Z"
   },
   {
    "duration": -14496,
    "start_time": "2021-10-05T11:22:05.365Z"
   },
   {
    "duration": -14502,
    "start_time": "2021-10-05T11:22:05.373Z"
   },
   {
    "duration": -14505,
    "start_time": "2021-10-05T11:22:05.377Z"
   },
   {
    "duration": -14508,
    "start_time": "2021-10-05T11:22:05.381Z"
   },
   {
    "duration": -14511,
    "start_time": "2021-10-05T11:22:05.385Z"
   },
   {
    "duration": -14513,
    "start_time": "2021-10-05T11:22:05.389Z"
   },
   {
    "duration": -14519,
    "start_time": "2021-10-05T11:22:05.396Z"
   },
   {
    "duration": -14522,
    "start_time": "2021-10-05T11:22:05.400Z"
   },
   {
    "duration": -14525,
    "start_time": "2021-10-05T11:22:05.405Z"
   },
   {
    "duration": -14528,
    "start_time": "2021-10-05T11:22:05.409Z"
   },
   {
    "duration": -14532,
    "start_time": "2021-10-05T11:22:05.414Z"
   },
   {
    "duration": -14534,
    "start_time": "2021-10-05T11:22:05.418Z"
   },
   {
    "duration": 1457,
    "start_time": "2021-10-05T11:23:48.772Z"
   },
   {
    "duration": 4500,
    "start_time": "2021-10-05T11:23:50.231Z"
   },
   {
    "duration": 200,
    "start_time": "2021-10-05T11:23:54.734Z"
   },
   {
    "duration": 3092,
    "start_time": "2021-10-05T11:23:54.937Z"
   },
   {
    "duration": 3,
    "start_time": "2021-10-05T11:23:58.032Z"
   },
   {
    "duration": 4412,
    "start_time": "2021-10-05T11:23:58.038Z"
   },
   {
    "duration": 91,
    "start_time": "2021-10-05T11:24:02.453Z"
   },
   {
    "duration": 10839,
    "start_time": "2021-10-05T11:24:02.548Z"
   },
   {
    "duration": 4,
    "start_time": "2021-10-05T11:24:13.391Z"
   },
   {
    "duration": 419,
    "start_time": "2021-10-05T11:24:13.398Z"
   },
   {
    "duration": -14251,
    "start_time": "2021-10-05T11:24:28.073Z"
   },
   {
    "duration": -14255,
    "start_time": "2021-10-05T11:24:28.078Z"
   },
   {
    "duration": -14260,
    "start_time": "2021-10-05T11:24:28.085Z"
   },
   {
    "duration": -14413,
    "start_time": "2021-10-05T11:24:28.240Z"
   },
   {
    "duration": -14425,
    "start_time": "2021-10-05T11:24:28.253Z"
   },
   {
    "duration": -14427,
    "start_time": "2021-10-05T11:24:28.256Z"
   },
   {
    "duration": -14430,
    "start_time": "2021-10-05T11:24:28.261Z"
   },
   {
    "duration": -14433,
    "start_time": "2021-10-05T11:24:28.265Z"
   },
   {
    "duration": -14435,
    "start_time": "2021-10-05T11:24:28.269Z"
   },
   {
    "duration": -14438,
    "start_time": "2021-10-05T11:24:28.273Z"
   },
   {
    "duration": -14440,
    "start_time": "2021-10-05T11:24:28.277Z"
   },
   {
    "duration": -14442,
    "start_time": "2021-10-05T11:24:28.281Z"
   },
   {
    "duration": -14445,
    "start_time": "2021-10-05T11:24:28.285Z"
   },
   {
    "duration": -14447,
    "start_time": "2021-10-05T11:24:28.289Z"
   },
   {
    "duration": -14451,
    "start_time": "2021-10-05T11:24:28.294Z"
   },
   {
    "duration": -14453,
    "start_time": "2021-10-05T11:24:28.298Z"
   },
   {
    "duration": -14456,
    "start_time": "2021-10-05T11:24:28.303Z"
   },
   {
    "duration": -14457,
    "start_time": "2021-10-05T11:24:28.306Z"
   },
   {
    "duration": -14461,
    "start_time": "2021-10-05T11:24:28.311Z"
   },
   {
    "duration": -14462,
    "start_time": "2021-10-05T11:24:28.314Z"
   },
   {
    "duration": -14467,
    "start_time": "2021-10-05T11:24:28.320Z"
   },
   {
    "duration": -14469,
    "start_time": "2021-10-05T11:24:28.324Z"
   },
   {
    "duration": -14473,
    "start_time": "2021-10-05T11:24:28.329Z"
   },
   {
    "duration": -14474,
    "start_time": "2021-10-05T11:24:28.332Z"
   },
   {
    "duration": -14583,
    "start_time": "2021-10-05T11:24:28.450Z"
   },
   {
    "duration": -14586,
    "start_time": "2021-10-05T11:24:28.454Z"
   },
   {
    "duration": -14588,
    "start_time": "2021-10-05T11:24:28.458Z"
   },
   {
    "duration": -14591,
    "start_time": "2021-10-05T11:24:28.462Z"
   },
   {
    "duration": -14593,
    "start_time": "2021-10-05T11:24:28.466Z"
   },
   {
    "duration": -14596,
    "start_time": "2021-10-05T11:24:28.470Z"
   },
   {
    "duration": -14598,
    "start_time": "2021-10-05T11:24:28.474Z"
   },
   {
    "duration": -14601,
    "start_time": "2021-10-05T11:24:28.478Z"
   },
   {
    "duration": -14604,
    "start_time": "2021-10-05T11:24:28.482Z"
   },
   {
    "duration": -14607,
    "start_time": "2021-10-05T11:24:28.487Z"
   },
   {
    "duration": -14610,
    "start_time": "2021-10-05T11:24:28.491Z"
   },
   {
    "duration": -14612,
    "start_time": "2021-10-05T11:24:28.495Z"
   },
   {
    "duration": -14616,
    "start_time": "2021-10-05T11:24:28.500Z"
   },
   {
    "duration": -14617,
    "start_time": "2021-10-05T11:24:28.503Z"
   },
   {
    "duration": -14620,
    "start_time": "2021-10-05T11:24:28.507Z"
   },
   {
    "duration": -14624,
    "start_time": "2021-10-05T11:24:28.512Z"
   },
   {
    "duration": -14626,
    "start_time": "2021-10-05T11:24:28.516Z"
   },
   {
    "duration": -14641,
    "start_time": "2021-10-05T11:24:28.533Z"
   },
   {
    "duration": -14658,
    "start_time": "2021-10-05T11:24:28.551Z"
   },
   {
    "duration": -14674,
    "start_time": "2021-10-05T11:24:28.569Z"
   },
   {
    "duration": -14686,
    "start_time": "2021-10-05T11:24:28.582Z"
   },
   {
    "duration": -14689,
    "start_time": "2021-10-05T11:24:28.586Z"
   },
   {
    "duration": -14691,
    "start_time": "2021-10-05T11:24:28.590Z"
   },
   {
    "duration": -14939,
    "start_time": "2021-10-05T11:24:28.840Z"
   },
   {
    "duration": 3927,
    "start_time": "2021-10-05T11:25:01.211Z"
   },
   {
    "duration": 397,
    "start_time": "2021-10-05T11:25:09.352Z"
   },
   {
    "duration": 299,
    "start_time": "2021-10-05T11:25:55.455Z"
   },
   {
    "duration": 3,
    "start_time": "2021-10-05T11:26:17.072Z"
   },
   {
    "duration": 1556,
    "start_time": "2021-10-05T11:26:23.092Z"
   },
   {
    "duration": 3581,
    "start_time": "2021-10-05T11:26:24.650Z"
   },
   {
    "duration": 199,
    "start_time": "2021-10-05T11:26:28.235Z"
   },
   {
    "duration": 3110,
    "start_time": "2021-10-05T11:26:28.436Z"
   },
   {
    "duration": 4,
    "start_time": "2021-10-05T11:26:31.549Z"
   },
   {
    "duration": 3297,
    "start_time": "2021-10-05T11:26:31.555Z"
   },
   {
    "duration": 17,
    "start_time": "2021-10-05T11:26:34.855Z"
   },
   {
    "duration": 3722,
    "start_time": "2021-10-05T11:26:34.876Z"
   },
   {
    "duration": 5,
    "start_time": "2021-10-05T11:26:38.602Z"
   },
   {
    "duration": 9,
    "start_time": "2021-10-05T11:26:38.609Z"
   },
   {
    "duration": 53,
    "start_time": "2021-10-05T11:26:38.621Z"
   },
   {
    "duration": 26,
    "start_time": "2021-10-05T11:26:38.676Z"
   },
   {
    "duration": 1318,
    "start_time": "2021-10-05T11:26:38.704Z"
   },
   {
    "duration": 5,
    "start_time": "2021-10-05T11:26:40.025Z"
   },
   {
    "duration": 17,
    "start_time": "2021-10-05T11:26:40.033Z"
   },
   {
    "duration": 9,
    "start_time": "2021-10-05T11:26:40.068Z"
   },
   {
    "duration": 94,
    "start_time": "2021-10-05T11:26:40.080Z"
   },
   {
    "duration": 91,
    "start_time": "2021-10-05T11:26:40.178Z"
   },
   {
    "duration": 29,
    "start_time": "2021-10-05T11:26:40.272Z"
   },
   {
    "duration": 6,
    "start_time": "2021-10-05T11:26:40.304Z"
   },
   {
    "duration": 23,
    "start_time": "2021-10-05T11:26:40.369Z"
   },
   {
    "duration": 80,
    "start_time": "2021-10-05T11:26:40.395Z"
   },
   {
    "duration": 10,
    "start_time": "2021-10-05T11:26:40.483Z"
   },
   {
    "duration": 6,
    "start_time": "2021-10-05T11:26:40.497Z"
   },
   {
    "duration": 1773,
    "start_time": "2021-10-05T11:26:40.505Z"
   },
   {
    "duration": 91,
    "start_time": "2021-10-05T11:26:42.280Z"
   },
   {
    "duration": 195,
    "start_time": "2021-10-05T11:26:42.374Z"
   },
   {
    "duration": 390,
    "start_time": "2021-10-05T11:26:42.573Z"
   },
   {
    "duration": 207293,
    "start_time": "2021-10-05T11:26:42.968Z"
   },
   {
    "duration": 33,
    "start_time": "2021-10-05T11:30:10.263Z"
   },
   {
    "duration": 631,
    "start_time": "2021-10-05T11:30:10.298Z"
   },
   {
    "duration": -14305,
    "start_time": "2021-10-05T11:30:25.236Z"
   },
   {
    "duration": -14791,
    "start_time": "2021-10-05T11:30:25.724Z"
   },
   {
    "duration": -14793,
    "start_time": "2021-10-05T11:30:25.728Z"
   },
   {
    "duration": -14798,
    "start_time": "2021-10-05T11:30:25.734Z"
   },
   {
    "duration": -14803,
    "start_time": "2021-10-05T11:30:25.740Z"
   },
   {
    "duration": -14807,
    "start_time": "2021-10-05T11:30:25.745Z"
   },
   {
    "duration": -14811,
    "start_time": "2021-10-05T11:30:25.751Z"
   },
   {
    "duration": -14815,
    "start_time": "2021-10-05T11:30:25.756Z"
   },
   {
    "duration": -14819,
    "start_time": "2021-10-05T11:30:25.761Z"
   },
   {
    "duration": -14823,
    "start_time": "2021-10-05T11:30:25.766Z"
   },
   {
    "duration": -14827,
    "start_time": "2021-10-05T11:30:25.771Z"
   },
   {
    "duration": -14830,
    "start_time": "2021-10-05T11:30:25.776Z"
   },
   {
    "duration": -14985,
    "start_time": "2021-10-05T11:30:25.932Z"
   },
   {
    "duration": -14996,
    "start_time": "2021-10-05T11:30:25.945Z"
   },
   {
    "duration": -15001,
    "start_time": "2021-10-05T11:30:25.951Z"
   },
   {
    "duration": -15006,
    "start_time": "2021-10-05T11:30:25.957Z"
   },
   {
    "duration": -15009,
    "start_time": "2021-10-05T11:30:25.961Z"
   },
   {
    "duration": -15013,
    "start_time": "2021-10-05T11:30:25.967Z"
   },
   {
    "duration": -15015,
    "start_time": "2021-10-05T11:30:25.971Z"
   },
   {
    "duration": -15019,
    "start_time": "2021-10-05T11:30:25.976Z"
   },
   {
    "duration": -15024,
    "start_time": "2021-10-05T11:30:25.982Z"
   },
   {
    "duration": -15027,
    "start_time": "2021-10-05T11:30:25.987Z"
   },
   {
    "duration": -15030,
    "start_time": "2021-10-05T11:30:25.992Z"
   },
   {
    "duration": -15162,
    "start_time": "2021-10-05T11:30:26.126Z"
   },
   {
    "duration": -15173,
    "start_time": "2021-10-05T11:30:26.139Z"
   },
   {
    "duration": -15176,
    "start_time": "2021-10-05T11:30:26.144Z"
   },
   {
    "duration": -15179,
    "start_time": "2021-10-05T11:30:26.149Z"
   },
   {
    "duration": 4,
    "start_time": "2021-10-05T11:32:41.826Z"
   },
   {
    "duration": 3,
    "start_time": "2021-10-05T11:32:43.981Z"
   },
   {
    "duration": 208,
    "start_time": "2021-10-05T11:32:45.000Z"
   },
   {
    "duration": 141307,
    "start_time": "2021-10-05T11:32:48.622Z"
   },
   {
    "duration": 6,
    "start_time": "2021-10-05T12:54:04.964Z"
   },
   {
    "duration": 141219,
    "start_time": "2021-10-05T12:54:40.125Z"
   },
   {
    "duration": 5,
    "start_time": "2021-10-05T12:57:01.347Z"
   },
   {
    "duration": 100,
    "start_time": "2021-10-05T13:02:14.870Z"
   },
   {
    "duration": 63,
    "start_time": "2021-10-05T13:02:17.979Z"
   },
   {
    "duration": 309,
    "start_time": "2021-10-05T13:02:21.079Z"
   },
   {
    "duration": 6,
    "start_time": "2021-10-05T13:02:25.553Z"
   },
   {
    "duration": 60,
    "start_time": "2021-10-05T13:02:28.414Z"
   },
   {
    "duration": 37,
    "start_time": "2021-10-05T13:02:30.330Z"
   },
   {
    "duration": 137,
    "start_time": "2021-10-05T13:02:31.979Z"
   },
   {
    "duration": 29,
    "start_time": "2021-10-05T13:02:33.982Z"
   },
   {
    "duration": 578,
    "start_time": "2021-10-05T13:02:52.117Z"
   },
   {
    "duration": 6,
    "start_time": "2021-10-05T13:03:05.526Z"
   },
   {
    "duration": 33,
    "start_time": "2021-10-05T13:03:09.913Z"
   },
   {
    "duration": 293,
    "start_time": "2021-10-05T13:03:10.908Z"
   },
   {
    "duration": 3,
    "start_time": "2021-10-05T13:03:20.132Z"
   },
   {
    "duration": 302,
    "start_time": "2021-10-05T13:03:22.716Z"
   },
   {
    "duration": 4,
    "start_time": "2021-10-05T13:03:25.512Z"
   },
   {
    "duration": 103,
    "start_time": "2021-10-05T13:03:39.249Z"
   },
   {
    "duration": 294,
    "start_time": "2021-10-05T13:06:53.807Z"
   },
   {
    "duration": 298,
    "start_time": "2021-10-05T13:08:55.425Z"
   },
   {
    "duration": 17,
    "start_time": "2021-10-05T13:09:11.988Z"
   },
   {
    "duration": 5,
    "start_time": "2021-10-05T13:09:40.618Z"
   },
   {
    "duration": 18,
    "start_time": "2021-10-05T13:10:02.952Z"
   },
   {
    "duration": 17,
    "start_time": "2021-10-05T13:10:09.395Z"
   },
   {
    "duration": 102,
    "start_time": "2021-10-05T13:10:36.784Z"
   },
   {
    "duration": 6,
    "start_time": "2021-10-05T13:24:56.039Z"
   },
   {
    "duration": 4890,
    "start_time": "2021-10-05T13:25:05.665Z"
   },
   {
    "duration": 4,
    "start_time": "2021-10-05T13:25:12.618Z"
   },
   {
    "duration": 3199,
    "start_time": "2021-10-05T13:25:14.580Z"
   },
   {
    "duration": 129,
    "start_time": "2021-10-05T13:26:16.884Z"
   },
   {
    "duration": 3589,
    "start_time": "2021-10-05T13:26:29.133Z"
   },
   {
    "duration": 3510,
    "start_time": "2021-10-05T13:26:32.725Z"
   },
   {
    "duration": 3141,
    "start_time": "2021-10-05T13:26:36.419Z"
   },
   {
    "duration": 3757,
    "start_time": "2021-10-05T13:26:41.085Z"
   },
   {
    "duration": 310,
    "start_time": "2021-10-05T13:26:47.205Z"
   },
   {
    "duration": 4,
    "start_time": "2021-10-05T13:27:29.690Z"
   },
   {
    "duration": 343,
    "start_time": "2021-10-05T13:33:19.682Z"
   },
   {
    "duration": 7,
    "start_time": "2021-10-05T13:35:14.988Z"
   },
   {
    "duration": 4,
    "start_time": "2021-10-05T13:35:47.270Z"
   },
   {
    "duration": 4,
    "start_time": "2021-10-05T13:35:52.372Z"
   },
   {
    "duration": 6,
    "start_time": "2021-10-05T13:36:04.085Z"
   },
   {
    "duration": 36,
    "start_time": "2021-10-05T13:37:08.492Z"
   },
   {
    "duration": 20,
    "start_time": "2021-10-05T13:37:53.549Z"
   },
   {
    "duration": 16,
    "start_time": "2021-10-05T13:44:44.984Z"
   },
   {
    "duration": 11,
    "start_time": "2021-10-05T13:45:06.661Z"
   },
   {
    "duration": 1282,
    "start_time": "2021-10-05T13:45:10.221Z"
   },
   {
    "duration": 1222,
    "start_time": "2021-10-05T13:45:19.387Z"
   },
   {
    "duration": 5,
    "start_time": "2021-10-05T13:46:27.883Z"
   },
   {
    "duration": 6,
    "start_time": "2021-10-05T13:46:31.651Z"
   },
   {
    "duration": 6,
    "start_time": "2021-10-05T13:46:37.884Z"
   },
   {
    "duration": 64,
    "start_time": "2021-10-05T13:46:48.654Z"
   },
   {
    "duration": 9,
    "start_time": "2021-10-05T13:49:16.164Z"
   },
   {
    "duration": 8,
    "start_time": "2021-10-05T13:56:34.100Z"
   },
   {
    "duration": 65,
    "start_time": "2021-10-05T14:04:34.403Z"
   },
   {
    "duration": 263,
    "start_time": "2021-10-05T14:06:49.048Z"
   },
   {
    "duration": 25,
    "start_time": "2021-10-05T14:06:58.615Z"
   },
   {
    "duration": 5,
    "start_time": "2021-10-05T14:07:02.862Z"
   },
   {
    "duration": 70,
    "start_time": "2021-10-05T14:08:41.205Z"
   },
   {
    "duration": 6,
    "start_time": "2021-10-05T14:09:04.653Z"
   },
   {
    "duration": 4,
    "start_time": "2021-10-05T14:09:27.084Z"
   },
   {
    "duration": 9,
    "start_time": "2021-10-05T14:11:03.095Z"
   },
   {
    "duration": 5,
    "start_time": "2021-10-05T14:11:19.014Z"
   },
   {
    "duration": 13,
    "start_time": "2021-10-05T14:11:26.465Z"
   },
   {
    "duration": 11,
    "start_time": "2021-10-05T14:11:34.943Z"
   },
   {
    "duration": 1797,
    "start_time": "2021-10-05T14:12:46.818Z"
   },
   {
    "duration": 1892,
    "start_time": "2021-10-05T14:14:16.721Z"
   },
   {
    "duration": 1800,
    "start_time": "2021-10-05T14:14:39.217Z"
   },
   {
    "duration": 1106,
    "start_time": "2021-10-05T14:36:13.662Z"
   },
   {
    "duration": 646,
    "start_time": "2021-10-05T14:38:15.528Z"
   },
   {
    "duration": 658,
    "start_time": "2021-10-05T14:39:08.277Z"
   },
   {
    "duration": 665,
    "start_time": "2021-10-05T14:39:13.719Z"
   },
   {
    "duration": 477,
    "start_time": "2021-10-05T14:48:38.206Z"
   },
   {
    "duration": 460,
    "start_time": "2021-10-05T14:48:51.921Z"
   },
   {
    "duration": 278,
    "start_time": "2021-10-05T14:49:06.596Z"
   },
   {
    "duration": 358,
    "start_time": "2021-10-05T14:49:25.334Z"
   },
   {
    "duration": 354,
    "start_time": "2021-10-05T14:50:51.612Z"
   },
   {
    "duration": 347,
    "start_time": "2021-10-05T14:50:56.200Z"
   },
   {
    "duration": 5208,
    "start_time": "2021-10-05T14:52:32.729Z"
   },
   {
    "duration": 320,
    "start_time": "2021-10-05T14:52:50.279Z"
   },
   {
    "duration": 307,
    "start_time": "2021-10-05T14:53:41.219Z"
   },
   {
    "duration": 307,
    "start_time": "2021-10-05T14:53:55.306Z"
   },
   {
    "duration": 383,
    "start_time": "2021-10-05T14:54:13.445Z"
   },
   {
    "duration": 3,
    "start_time": "2021-10-05T14:54:17.296Z"
   },
   {
    "duration": 868,
    "start_time": "2021-10-05T14:54:20.572Z"
   },
   {
    "duration": 9,
    "start_time": "2021-10-05T14:55:40.974Z"
   },
   {
    "duration": 22,
    "start_time": "2021-10-05T15:03:11.116Z"
   },
   {
    "duration": 17,
    "start_time": "2021-10-05T15:05:16.901Z"
   },
   {
    "duration": 30,
    "start_time": "2021-10-05T15:05:20.369Z"
   },
   {
    "duration": 59,
    "start_time": "2021-10-05T15:06:58.248Z"
   },
   {
    "duration": 6,
    "start_time": "2021-10-05T15:07:14.204Z"
   },
   {
    "duration": 6,
    "start_time": "2021-10-05T15:07:24.819Z"
   },
   {
    "duration": 6,
    "start_time": "2021-10-05T15:07:29.602Z"
   },
   {
    "duration": 5097,
    "start_time": "2021-10-05T15:17:33.694Z"
   },
   {
    "duration": 5360,
    "start_time": "2021-10-05T15:18:11.697Z"
   },
   {
    "duration": 5060,
    "start_time": "2021-10-05T15:18:25.931Z"
   },
   {
    "duration": 192632,
    "start_time": "2021-10-05T15:26:13.817Z"
   },
   {
    "duration": 9195,
    "start_time": "2021-10-05T15:31:57.466Z"
   },
   {
    "duration": 205,
    "start_time": "2021-10-05T15:32:34.124Z"
   },
   {
    "duration": 207,
    "start_time": "2021-10-05T15:33:04.201Z"
   },
   {
    "duration": 9147,
    "start_time": "2021-10-05T15:35:01.413Z"
   },
   {
    "duration": 224,
    "start_time": "2021-10-05T15:36:44.693Z"
   },
   {
    "duration": 5026,
    "start_time": "2021-10-05T15:39:50.387Z"
   },
   {
    "duration": 9152,
    "start_time": "2021-10-05T15:41:30.052Z"
   },
   {
    "duration": 5004,
    "start_time": "2021-10-05T15:43:21.663Z"
   },
   {
    "duration": 5050,
    "start_time": "2021-10-05T15:43:39.377Z"
   },
   {
    "duration": 51,
    "start_time": "2021-10-05T15:44:14.958Z"
   },
   {
    "duration": 146214,
    "start_time": "2021-10-05T15:46:35.418Z"
   },
   {
    "duration": 143671,
    "start_time": "2021-10-05T15:49:17.769Z"
   },
   {
    "duration": 144244,
    "start_time": "2021-10-05T15:51:58.200Z"
   },
   {
    "duration": 50,
    "start_time": "2021-10-05T15:54:33.719Z"
   },
   {
    "duration": 144631,
    "start_time": "2021-10-05T15:54:37.143Z"
   },
   {
    "duration": 114,
    "start_time": "2021-10-05T15:57:26.261Z"
   },
   {
    "duration": 6,
    "start_time": "2021-10-05T16:06:01.869Z"
   },
   {
    "duration": 553,
    "start_time": "2021-10-05T16:06:02.846Z"
   },
   {
    "duration": 5,
    "start_time": "2021-10-05T16:06:30.964Z"
   },
   {
    "duration": 5,
    "start_time": "2021-10-05T16:06:44.271Z"
   },
   {
    "duration": 8936,
    "start_time": "2021-10-05T16:06:44.906Z"
   },
   {
    "duration": 92,
    "start_time": "2021-10-05T16:07:04.350Z"
   },
   {
    "duration": 642,
    "start_time": "2021-10-05T16:07:25.813Z"
   },
   {
    "duration": 93,
    "start_time": "2021-10-05T16:07:31.042Z"
   },
   {
    "duration": 5085,
    "start_time": "2021-10-05T16:08:00.761Z"
   },
   {
    "duration": 27,
    "start_time": "2021-10-05T16:08:09.309Z"
   },
   {
    "duration": 52,
    "start_time": "2021-10-05T16:08:46.726Z"
   },
   {
    "duration": 41,
    "start_time": "2021-10-05T16:10:17.742Z"
   },
   {
    "duration": 9,
    "start_time": "2021-10-05T16:10:19.283Z"
   },
   {
    "duration": 397,
    "start_time": "2021-10-05T16:10:45.977Z"
   },
   {
    "duration": 211,
    "start_time": "2021-10-05T16:11:13.707Z"
   },
   {
    "duration": 9,
    "start_time": "2021-10-05T16:11:14.883Z"
   },
   {
    "duration": 208,
    "start_time": "2021-10-05T16:12:08.688Z"
   },
   {
    "duration": 13,
    "start_time": "2021-10-05T16:12:16.895Z"
   },
   {
    "duration": 210,
    "start_time": "2021-10-05T16:12:50.591Z"
   },
   {
    "duration": 9,
    "start_time": "2021-10-05T16:12:54.866Z"
   },
   {
    "duration": 10,
    "start_time": "2021-10-05T16:13:04.880Z"
   },
   {
    "duration": 13,
    "start_time": "2021-10-05T16:13:14.939Z"
   },
   {
    "duration": 10,
    "start_time": "2021-10-05T16:18:15.268Z"
   },
   {
    "duration": 9,
    "start_time": "2021-10-05T16:18:35.142Z"
   },
   {
    "duration": 6,
    "start_time": "2021-10-05T16:19:34.503Z"
   },
   {
    "duration": 19,
    "start_time": "2021-10-05T16:19:40.821Z"
   },
   {
    "duration": 1664,
    "start_time": "2021-10-05T16:20:05.058Z"
   },
   {
    "duration": 3216,
    "start_time": "2021-10-05T16:20:06.725Z"
   },
   {
    "duration": 3268,
    "start_time": "2021-10-05T16:20:09.944Z"
   },
   {
    "duration": 3218,
    "start_time": "2021-10-05T16:20:13.215Z"
   },
   {
    "duration": 3790,
    "start_time": "2021-10-05T16:20:16.437Z"
   },
   {
    "duration": 3511,
    "start_time": "2021-10-05T16:20:20.230Z"
   },
   {
    "duration": 5,
    "start_time": "2021-10-05T16:20:23.744Z"
   },
   {
    "duration": 418,
    "start_time": "2021-10-05T16:20:23.754Z"
   },
   {
    "duration": -13986,
    "start_time": "2021-10-05T16:20:38.164Z"
   },
   {
    "duration": -13991,
    "start_time": "2021-10-05T16:20:38.171Z"
   },
   {
    "duration": -13994,
    "start_time": "2021-10-05T16:20:38.176Z"
   },
   {
    "duration": -13997,
    "start_time": "2021-10-05T16:20:38.181Z"
   },
   {
    "duration": -14254,
    "start_time": "2021-10-05T16:20:38.440Z"
   },
   {
    "duration": -14268,
    "start_time": "2021-10-05T16:20:38.455Z"
   },
   {
    "duration": -14274,
    "start_time": "2021-10-05T16:20:38.463Z"
   },
   {
    "duration": -14279,
    "start_time": "2021-10-05T16:20:38.469Z"
   },
   {
    "duration": -14285,
    "start_time": "2021-10-05T16:20:38.476Z"
   },
   {
    "duration": -14289,
    "start_time": "2021-10-05T16:20:38.482Z"
   },
   {
    "duration": -14295,
    "start_time": "2021-10-05T16:20:38.489Z"
   },
   {
    "duration": -14298,
    "start_time": "2021-10-05T16:20:38.494Z"
   },
   {
    "duration": -14303,
    "start_time": "2021-10-05T16:20:38.500Z"
   },
   {
    "duration": -14308,
    "start_time": "2021-10-05T16:20:38.506Z"
   },
   {
    "duration": -14312,
    "start_time": "2021-10-05T16:20:38.512Z"
   },
   {
    "duration": -14315,
    "start_time": "2021-10-05T16:20:38.516Z"
   },
   {
    "duration": -14319,
    "start_time": "2021-10-05T16:20:38.521Z"
   },
   {
    "duration": -14323,
    "start_time": "2021-10-05T16:20:38.526Z"
   },
   {
    "duration": -14327,
    "start_time": "2021-10-05T16:20:38.532Z"
   },
   {
    "duration": -14331,
    "start_time": "2021-10-05T16:20:38.537Z"
   },
   {
    "duration": -14334,
    "start_time": "2021-10-05T16:20:38.542Z"
   },
   {
    "duration": -14337,
    "start_time": "2021-10-05T16:20:38.546Z"
   },
   {
    "duration": -14341,
    "start_time": "2021-10-05T16:20:38.551Z"
   },
   {
    "duration": -14357,
    "start_time": "2021-10-05T16:20:38.568Z"
   },
   {
    "duration": -14361,
    "start_time": "2021-10-05T16:20:38.574Z"
   },
   {
    "duration": -14558,
    "start_time": "2021-10-05T16:20:38.772Z"
   },
   {
    "duration": -14607,
    "start_time": "2021-10-05T16:20:38.874Z"
   },
   {
    "duration": -14609,
    "start_time": "2021-10-05T16:20:38.878Z"
   },
   {
    "duration": -14612,
    "start_time": "2021-10-05T16:20:38.883Z"
   },
   {
    "duration": -14615,
    "start_time": "2021-10-05T16:20:38.887Z"
   },
   {
    "duration": -14619,
    "start_time": "2021-10-05T16:20:38.892Z"
   },
   {
    "duration": -14622,
    "start_time": "2021-10-05T16:20:38.897Z"
   },
   {
    "duration": -14626,
    "start_time": "2021-10-05T16:20:38.902Z"
   },
   {
    "duration": -14630,
    "start_time": "2021-10-05T16:20:38.907Z"
   },
   {
    "duration": -14634,
    "start_time": "2021-10-05T16:20:38.913Z"
   },
   {
    "duration": -14638,
    "start_time": "2021-10-05T16:20:38.918Z"
   },
   {
    "duration": -14653,
    "start_time": "2021-10-05T16:20:38.934Z"
   },
   {
    "duration": -14657,
    "start_time": "2021-10-05T16:20:38.939Z"
   },
   {
    "duration": -14660,
    "start_time": "2021-10-05T16:20:38.944Z"
   },
   {
    "duration": -14663,
    "start_time": "2021-10-05T16:20:38.948Z"
   },
   {
    "duration": -14667,
    "start_time": "2021-10-05T16:20:38.953Z"
   },
   {
    "duration": -14672,
    "start_time": "2021-10-05T16:20:38.959Z"
   },
   {
    "duration": -14675,
    "start_time": "2021-10-05T16:20:38.964Z"
   },
   {
    "duration": -14679,
    "start_time": "2021-10-05T16:20:38.969Z"
   },
   {
    "duration": -14682,
    "start_time": "2021-10-05T16:20:38.974Z"
   },
   {
    "duration": -14685,
    "start_time": "2021-10-05T16:20:38.978Z"
   },
   {
    "duration": -14688,
    "start_time": "2021-10-05T16:20:38.983Z"
   },
   {
    "duration": -14692,
    "start_time": "2021-10-05T16:20:38.988Z"
   },
   {
    "duration": -14696,
    "start_time": "2021-10-05T16:20:38.993Z"
   },
   {
    "duration": -14700,
    "start_time": "2021-10-05T16:20:38.998Z"
   },
   {
    "duration": 3871,
    "start_time": "2021-10-05T16:23:30.879Z"
   },
   {
    "duration": 324,
    "start_time": "2021-10-05T16:23:38.112Z"
   },
   {
    "duration": 3817,
    "start_time": "2021-10-05T16:23:43.251Z"
   },
   {
    "duration": 5,
    "start_time": "2021-10-05T16:23:52.252Z"
   },
   {
    "duration": 280,
    "start_time": "2021-10-05T16:23:53.438Z"
   },
   {
    "duration": 344,
    "start_time": "2021-10-05T18:57:01.557Z"
   },
   {
    "duration": 1257,
    "start_time": "2021-10-05T18:57:12.814Z"
   },
   {
    "duration": 3910,
    "start_time": "2021-10-05T18:57:14.073Z"
   },
   {
    "duration": 2309,
    "start_time": "2021-10-05T18:57:17.986Z"
   },
   {
    "duration": 3145,
    "start_time": "2021-10-05T18:57:20.298Z"
   },
   {
    "duration": 12175,
    "start_time": "2021-10-05T18:57:23.445Z"
   },
   {
    "duration": 3398,
    "start_time": "2021-10-05T18:57:35.622Z"
   },
   {
    "duration": 3,
    "start_time": "2021-10-05T18:57:39.022Z"
   },
   {
    "duration": 802,
    "start_time": "2021-10-05T18:57:39.028Z"
   },
   {
    "duration": -14390,
    "start_time": "2021-10-05T18:57:54.223Z"
   },
   {
    "duration": -14394,
    "start_time": "2021-10-05T18:57:54.229Z"
   },
   {
    "duration": -14573,
    "start_time": "2021-10-05T18:57:54.409Z"
   },
   {
    "duration": -14585,
    "start_time": "2021-10-05T18:57:54.422Z"
   },
   {
    "duration": -14590,
    "start_time": "2021-10-05T18:57:54.428Z"
   },
   {
    "duration": -14594,
    "start_time": "2021-10-05T18:57:54.433Z"
   },
   {
    "duration": -14598,
    "start_time": "2021-10-05T18:57:54.438Z"
   },
   {
    "duration": -14602,
    "start_time": "2021-10-05T18:57:54.444Z"
   },
   {
    "duration": -14605,
    "start_time": "2021-10-05T18:57:54.448Z"
   },
   {
    "duration": -14610,
    "start_time": "2021-10-05T18:57:54.454Z"
   },
   {
    "duration": -14614,
    "start_time": "2021-10-05T18:57:54.459Z"
   },
   {
    "duration": -14618,
    "start_time": "2021-10-05T18:57:54.464Z"
   },
   {
    "duration": -14622,
    "start_time": "2021-10-05T18:57:54.469Z"
   },
   {
    "duration": -14626,
    "start_time": "2021-10-05T18:57:54.474Z"
   },
   {
    "duration": -14630,
    "start_time": "2021-10-05T18:57:54.479Z"
   },
   {
    "duration": -14634,
    "start_time": "2021-10-05T18:57:54.484Z"
   },
   {
    "duration": -14638,
    "start_time": "2021-10-05T18:57:54.489Z"
   },
   {
    "duration": -14643,
    "start_time": "2021-10-05T18:57:54.494Z"
   },
   {
    "duration": -14647,
    "start_time": "2021-10-05T18:57:54.500Z"
   },
   {
    "duration": -14819,
    "start_time": "2021-10-05T18:57:54.673Z"
   },
   {
    "duration": -15051,
    "start_time": "2021-10-05T18:57:54.905Z"
   },
   {
    "duration": -15257,
    "start_time": "2021-10-05T18:57:55.112Z"
   },
   {
    "duration": -15270,
    "start_time": "2021-10-05T18:57:55.126Z"
   },
   {
    "duration": -15276,
    "start_time": "2021-10-05T18:57:55.133Z"
   },
   {
    "duration": -15281,
    "start_time": "2021-10-05T18:57:55.139Z"
   },
   {
    "duration": -15286,
    "start_time": "2021-10-05T18:57:55.145Z"
   },
   {
    "duration": -15290,
    "start_time": "2021-10-05T18:57:55.150Z"
   },
   {
    "duration": -15297,
    "start_time": "2021-10-05T18:57:55.157Z"
   },
   {
    "duration": -15301,
    "start_time": "2021-10-05T18:57:55.163Z"
   },
   {
    "duration": -15306,
    "start_time": "2021-10-05T18:57:55.169Z"
   },
   {
    "duration": -15310,
    "start_time": "2021-10-05T18:57:55.174Z"
   },
   {
    "duration": -15314,
    "start_time": "2021-10-05T18:57:55.179Z"
   },
   {
    "duration": -15317,
    "start_time": "2021-10-05T18:57:55.183Z"
   },
   {
    "duration": -15324,
    "start_time": "2021-10-05T18:57:55.191Z"
   },
   {
    "duration": -15327,
    "start_time": "2021-10-05T18:57:55.195Z"
   },
   {
    "duration": -15332,
    "start_time": "2021-10-05T18:57:55.201Z"
   },
   {
    "duration": -15336,
    "start_time": "2021-10-05T18:57:55.206Z"
   },
   {
    "duration": -15335,
    "start_time": "2021-10-05T18:57:55.211Z"
   },
   {
    "duration": -15338,
    "start_time": "2021-10-05T18:57:55.215Z"
   },
   {
    "duration": -15343,
    "start_time": "2021-10-05T18:57:55.221Z"
   },
   {
    "duration": -15361,
    "start_time": "2021-10-05T18:57:55.240Z"
   },
   {
    "duration": -15368,
    "start_time": "2021-10-05T18:57:55.247Z"
   },
   {
    "duration": -15374,
    "start_time": "2021-10-05T18:57:55.254Z"
   },
   {
    "duration": -15380,
    "start_time": "2021-10-05T18:57:55.261Z"
   },
   {
    "duration": -15385,
    "start_time": "2021-10-05T18:57:55.267Z"
   },
   {
    "duration": -15391,
    "start_time": "2021-10-05T18:57:55.274Z"
   },
   {
    "duration": -15395,
    "start_time": "2021-10-05T18:57:55.279Z"
   },
   {
    "duration": -15400,
    "start_time": "2021-10-05T18:57:55.285Z"
   },
   {
    "duration": -15404,
    "start_time": "2021-10-05T18:57:55.291Z"
   },
   {
    "duration": -15407,
    "start_time": "2021-10-05T18:57:55.295Z"
   },
   {
    "duration": -15411,
    "start_time": "2021-10-05T18:57:55.300Z"
   },
   {
    "duration": 2997,
    "start_time": "2021-10-05T18:57:52.838Z"
   },
   {
    "duration": 8,
    "start_time": "2021-10-05T18:57:58.982Z"
   },
   {
    "duration": 303,
    "start_time": "2021-10-05T18:58:05.787Z"
   },
   {
    "duration": 422,
    "start_time": "2021-10-05T18:58:34.795Z"
   },
   {
    "duration": 1695,
    "start_time": "2021-10-05T18:58:41.962Z"
   },
   {
    "duration": 2298,
    "start_time": "2021-10-05T18:58:43.659Z"
   },
   {
    "duration": 2430,
    "start_time": "2021-10-05T18:58:45.960Z"
   },
   {
    "duration": 2253,
    "start_time": "2021-10-05T18:58:48.392Z"
   },
   {
    "duration": 2773,
    "start_time": "2021-10-05T18:58:50.647Z"
   },
   {
    "duration": 6,
    "start_time": "2021-10-05T18:58:53.422Z"
   },
   {
    "duration": 3,
    "start_time": "2021-10-05T18:58:53.430Z"
   },
   {
    "duration": 12,
    "start_time": "2021-10-05T18:58:53.437Z"
   },
   {
    "duration": 2,
    "start_time": "2021-10-05T18:58:53.452Z"
   },
   {
    "duration": 34,
    "start_time": "2021-10-05T18:58:53.456Z"
   },
   {
    "duration": 15,
    "start_time": "2021-10-05T18:58:53.492Z"
   },
   {
    "duration": 8,
    "start_time": "2021-10-05T18:58:53.509Z"
   },
   {
    "duration": 991,
    "start_time": "2021-10-05T18:58:53.519Z"
   },
   {
    "duration": 7,
    "start_time": "2021-10-05T18:58:54.512Z"
   },
   {
    "duration": 3,
    "start_time": "2021-10-05T18:58:54.521Z"
   },
   {
    "duration": 62,
    "start_time": "2021-10-05T18:58:54.526Z"
   },
   {
    "duration": 4,
    "start_time": "2021-10-05T18:58:54.590Z"
   },
   {
    "duration": 189,
    "start_time": "2021-10-05T18:58:54.596Z"
   },
   {
    "duration": 3,
    "start_time": "2021-10-05T18:58:54.787Z"
   },
   {
    "duration": 9,
    "start_time": "2021-10-05T18:58:54.792Z"
   },
   {
    "duration": 1208,
    "start_time": "2021-10-05T18:58:54.803Z"
   },
   {
    "duration": 523,
    "start_time": "2021-10-05T18:58:56.012Z"
   },
   {
    "duration": 6,
    "start_time": "2021-10-05T18:58:56.538Z"
   },
   {
    "duration": 17,
    "start_time": "2021-10-05T18:58:56.547Z"
   },
   {
    "duration": 37,
    "start_time": "2021-10-05T18:58:56.577Z"
   },
   {
    "duration": 4,
    "start_time": "2021-10-05T18:58:56.616Z"
   },
   {
    "duration": 4,
    "start_time": "2021-10-05T18:58:56.622Z"
   },
   {
    "duration": 25,
    "start_time": "2021-10-05T18:58:56.628Z"
   },
   {
    "duration": 45,
    "start_time": "2021-10-05T18:58:56.655Z"
   },
   {
    "duration": 105,
    "start_time": "2021-10-05T18:58:56.778Z"
   },
   {
    "duration": 94,
    "start_time": "2021-10-05T18:58:56.885Z"
   },
   {
    "duration": 6012,
    "start_time": "2021-10-05T18:58:56.981Z"
   },
   {
    "duration": 66,
    "start_time": "2021-10-05T18:59:02.995Z"
   },
   {
    "duration": 235,
    "start_time": "2021-10-05T18:59:03.063Z"
   },
   {
    "duration": 614,
    "start_time": "2021-10-05T18:59:03.301Z"
   },
   {
    "duration": -14561,
    "start_time": "2021-10-05T18:59:18.479Z"
   },
   {
    "duration": -14566,
    "start_time": "2021-10-05T18:59:18.485Z"
   },
   {
    "duration": -14570,
    "start_time": "2021-10-05T18:59:18.491Z"
   },
   {
    "duration": -14575,
    "start_time": "2021-10-05T18:59:18.497Z"
   },
   {
    "duration": -14580,
    "start_time": "2021-10-05T18:59:18.503Z"
   },
   {
    "duration": -14583,
    "start_time": "2021-10-05T18:59:18.508Z"
   },
   {
    "duration": -14589,
    "start_time": "2021-10-05T18:59:18.515Z"
   },
   {
    "duration": -14594,
    "start_time": "2021-10-05T18:59:18.521Z"
   },
   {
    "duration": -14597,
    "start_time": "2021-10-05T18:59:18.526Z"
   },
   {
    "duration": -14949,
    "start_time": "2021-10-05T18:59:18.879Z"
   },
   {
    "duration": -14962,
    "start_time": "2021-10-05T18:59:18.893Z"
   },
   {
    "duration": -14966,
    "start_time": "2021-10-05T18:59:18.898Z"
   },
   {
    "duration": -14972,
    "start_time": "2021-10-05T18:59:18.905Z"
   },
   {
    "duration": -14975,
    "start_time": "2021-10-05T18:59:18.910Z"
   },
   {
    "duration": -14980,
    "start_time": "2021-10-05T18:59:18.916Z"
   },
   {
    "duration": -14985,
    "start_time": "2021-10-05T18:59:18.922Z"
   },
   {
    "duration": -14989,
    "start_time": "2021-10-05T18:59:18.927Z"
   },
   {
    "duration": -14993,
    "start_time": "2021-10-05T18:59:18.932Z"
   },
   {
    "duration": -14997,
    "start_time": "2021-10-05T18:59:18.937Z"
   },
   {
    "duration": -15000,
    "start_time": "2021-10-05T18:59:18.941Z"
   },
   {
    "duration": -15149,
    "start_time": "2021-10-05T18:59:19.091Z"
   },
   {
    "duration": -15154,
    "start_time": "2021-10-05T18:59:19.097Z"
   },
   {
    "duration": -15159,
    "start_time": "2021-10-05T18:59:19.103Z"
   },
   {
    "duration": -15164,
    "start_time": "2021-10-05T18:59:19.109Z"
   },
   {
    "duration": 3422,
    "start_time": "2021-10-05T18:59:38.437Z"
   },
   {
    "duration": 1201,
    "start_time": "2021-10-05T18:59:53.411Z"
   },
   {
    "duration": 2237,
    "start_time": "2021-10-05T18:59:54.614Z"
   },
   {
    "duration": 2249,
    "start_time": "2021-10-05T18:59:56.854Z"
   },
   {
    "duration": 2299,
    "start_time": "2021-10-05T18:59:59.105Z"
   },
   {
    "duration": 2898,
    "start_time": "2021-10-05T19:00:01.407Z"
   },
   {
    "duration": 5,
    "start_time": "2021-10-05T19:00:04.307Z"
   },
   {
    "duration": 23,
    "start_time": "2021-10-05T19:00:04.314Z"
   },
   {
    "duration": 22,
    "start_time": "2021-10-05T19:00:04.340Z"
   },
   {
    "duration": 2,
    "start_time": "2021-10-05T19:00:04.365Z"
   },
   {
    "duration": 35,
    "start_time": "2021-10-05T19:00:04.369Z"
   },
   {
    "duration": 15,
    "start_time": "2021-10-05T19:00:04.406Z"
   },
   {
    "duration": 10,
    "start_time": "2021-10-05T19:00:04.423Z"
   },
   {
    "duration": 979,
    "start_time": "2021-10-05T19:00:04.434Z"
   },
   {
    "duration": 8,
    "start_time": "2021-10-05T19:00:05.414Z"
   },
   {
    "duration": 4,
    "start_time": "2021-10-05T19:00:05.424Z"
   },
   {
    "duration": 57,
    "start_time": "2021-10-05T19:00:05.430Z"
   },
   {
    "duration": 5,
    "start_time": "2021-10-05T19:00:05.488Z"
   },
   {
    "duration": 192,
    "start_time": "2021-10-05T19:00:05.495Z"
   },
   {
    "duration": 3,
    "start_time": "2021-10-05T19:00:05.689Z"
   },
   {
    "duration": 9,
    "start_time": "2021-10-05T19:00:05.694Z"
   },
   {
    "duration": 1323,
    "start_time": "2021-10-05T19:00:05.705Z"
   },
   {
    "duration": 551,
    "start_time": "2021-10-05T19:00:07.030Z"
   },
   {
    "duration": 6,
    "start_time": "2021-10-05T19:00:07.585Z"
   },
   {
    "duration": 13,
    "start_time": "2021-10-05T19:00:07.594Z"
   },
   {
    "duration": 36,
    "start_time": "2021-10-05T19:00:07.609Z"
   },
   {
    "duration": 29,
    "start_time": "2021-10-05T19:00:07.647Z"
   },
   {
    "duration": 5,
    "start_time": "2021-10-05T19:00:07.678Z"
   },
   {
    "duration": 10,
    "start_time": "2021-10-05T19:00:07.685Z"
   },
   {
    "duration": 82,
    "start_time": "2021-10-05T19:00:07.696Z"
   },
   {
    "duration": 196,
    "start_time": "2021-10-05T19:00:07.781Z"
   },
   {
    "duration": 3,
    "start_time": "2021-10-05T19:00:07.979Z"
   },
   {
    "duration": 5995,
    "start_time": "2021-10-05T19:00:07.984Z"
   },
   {
    "duration": 68,
    "start_time": "2021-10-05T19:00:13.981Z"
   },
   {
    "duration": 168,
    "start_time": "2021-10-05T19:00:14.051Z"
   },
   {
    "duration": 3472,
    "start_time": "2021-10-05T19:00:14.221Z"
   },
   {
    "duration": 16,
    "start_time": "2021-10-05T19:00:17.695Z"
   },
   {
    "duration": 34,
    "start_time": "2021-10-05T19:00:17.713Z"
   },
   {
    "duration": 111009,
    "start_time": "2021-10-05T19:00:17.748Z"
   },
   {
    "duration": 222,
    "start_time": "2021-10-05T19:02:08.759Z"
   },
   {
    "duration": 195,
    "start_time": "2021-10-05T19:02:08.983Z"
   },
   {
    "duration": 9,
    "start_time": "2021-10-05T19:02:09.181Z"
   },
   {
    "duration": 87,
    "start_time": "2021-10-05T19:02:09.192Z"
   },
   {
    "duration": 8,
    "start_time": "2021-10-05T19:02:09.281Z"
   },
   {
    "duration": 4,
    "start_time": "2021-10-05T19:02:09.291Z"
   },
   {
    "duration": 21,
    "start_time": "2021-10-05T19:02:09.297Z"
   },
   {
    "duration": 64,
    "start_time": "2021-10-05T19:02:09.320Z"
   },
   {
    "duration": 214,
    "start_time": "2021-10-05T19:02:09.386Z"
   },
   {
    "duration": 201,
    "start_time": "2021-10-05T19:02:09.602Z"
   },
   {
    "duration": 4,
    "start_time": "2021-10-05T19:02:09.805Z"
   },
   {
    "duration": 66,
    "start_time": "2021-10-05T19:02:09.811Z"
   },
   {
    "duration": 212,
    "start_time": "2021-10-05T19:02:09.880Z"
   },
   {
    "duration": 108,
    "start_time": "2021-10-05T19:02:10.093Z"
   },
   {
    "duration": 20,
    "start_time": "2021-10-05T19:02:10.203Z"
   },
   {
    "duration": 3,
    "start_time": "2021-10-05T19:02:10.226Z"
   },
   {
    "duration": 209,
    "start_time": "2021-10-05T19:02:10.231Z"
   },
   {
    "duration": 4,
    "start_time": "2021-10-05T19:02:10.442Z"
   },
   {
    "duration": 98,
    "start_time": "2021-10-05T19:02:10.448Z"
   },
   {
    "duration": 194,
    "start_time": "2021-10-05T19:02:10.547Z"
   },
   {
    "duration": 73,
    "start_time": "2021-10-05T19:02:10.743Z"
   },
   {
    "duration": 4,
    "start_time": "2021-10-05T19:05:50.785Z"
   },
   {
    "duration": 5852,
    "start_time": "2021-10-05T19:05:53.258Z"
   },
   {
    "duration": 778,
    "start_time": "2021-10-05T19:06:01.632Z"
   },
   {
    "duration": 4,
    "start_time": "2021-10-05T19:06:55.150Z"
   },
   {
    "duration": 6203,
    "start_time": "2021-10-05T19:06:57.850Z"
   },
   {
    "duration": 77,
    "start_time": "2021-10-05T19:07:05.874Z"
   },
   {
    "duration": 4,
    "start_time": "2021-10-05T19:07:20.825Z"
   },
   {
    "duration": 5899,
    "start_time": "2021-10-05T19:07:23.231Z"
   },
   {
    "duration": 76,
    "start_time": "2021-10-05T19:07:30.209Z"
   },
   {
    "duration": 6,
    "start_time": "2021-10-05T19:07:58.309Z"
   },
   {
    "duration": 617,
    "start_time": "2021-10-05T19:08:02.838Z"
   },
   {
    "duration": 5,
    "start_time": "2021-10-05T19:08:20.588Z"
   },
   {
    "duration": 97,
    "start_time": "2021-10-05T19:08:22.942Z"
   },
   {
    "duration": 4,
    "start_time": "2021-10-05T19:10:46.897Z"
   },
   {
    "duration": 66,
    "start_time": "2021-10-05T19:10:48.941Z"
   },
   {
    "duration": 4,
    "start_time": "2021-10-05T19:11:15.499Z"
   },
   {
    "duration": 65,
    "start_time": "2021-10-05T19:11:17.568Z"
   },
   {
    "duration": 454,
    "start_time": "2021-10-05T19:16:13.260Z"
   },
   {
    "duration": 151,
    "start_time": "2021-10-05T19:16:20.730Z"
   },
   {
    "duration": 150,
    "start_time": "2021-10-05T19:21:02.454Z"
   },
   {
    "duration": 20,
    "start_time": "2021-10-05T19:21:18.089Z"
   },
   {
    "duration": 19,
    "start_time": "2021-10-05T19:21:25.250Z"
   },
   {
    "duration": 33,
    "start_time": "2021-10-05T19:21:49.454Z"
   },
   {
    "duration": 455,
    "start_time": "2021-10-05T19:22:01.029Z"
   },
   {
    "duration": 14,
    "start_time": "2021-10-05T19:22:07.387Z"
   },
   {
    "duration": 121711,
    "start_time": "2021-10-05T19:23:30.654Z"
   },
   {
    "duration": 12,
    "start_time": "2021-10-05T19:25:54.212Z"
   },
   {
    "duration": 22,
    "start_time": "2021-10-05T19:25:59.811Z"
   },
   {
    "duration": 321,
    "start_time": "2021-10-05T19:26:29.466Z"
   },
   {
    "duration": 7,
    "start_time": "2021-10-05T19:26:53.720Z"
   },
   {
    "duration": 179,
    "start_time": "2021-10-05T19:27:08.607Z"
   },
   {
    "duration": 340,
    "start_time": "2021-10-05T19:28:17.184Z"
   },
   {
    "duration": 344,
    "start_time": "2021-10-05T19:32:38.923Z"
   },
   {
    "duration": 263,
    "start_time": "2021-10-05T19:32:50.358Z"
   },
   {
    "duration": 185,
    "start_time": "2021-10-05T19:34:19.824Z"
   },
   {
    "duration": 185,
    "start_time": "2021-10-05T19:34:25.982Z"
   },
   {
    "duration": 28,
    "start_time": "2021-10-05T19:35:50.654Z"
   },
   {
    "duration": 368,
    "start_time": "2021-10-05T19:36:07.295Z"
   },
   {
    "duration": 415,
    "start_time": "2021-10-05T19:36:23.100Z"
   },
   {
    "duration": 466,
    "start_time": "2021-10-05T19:36:33.038Z"
   },
   {
    "duration": 473,
    "start_time": "2021-10-05T19:36:43.527Z"
   },
   {
    "duration": 399,
    "start_time": "2021-10-05T19:39:16.397Z"
   },
   {
    "duration": 431,
    "start_time": "2021-10-05T19:39:27.968Z"
   },
   {
    "duration": 304,
    "start_time": "2021-10-05T19:40:55.014Z"
   },
   {
    "duration": 6,
    "start_time": "2021-10-05T19:41:38.774Z"
   },
   {
    "duration": 246,
    "start_time": "2021-10-05T19:41:48.118Z"
   },
   {
    "duration": 218,
    "start_time": "2021-10-05T19:41:57.759Z"
   },
   {
    "duration": 466,
    "start_time": "2021-10-05T19:43:50.424Z"
   },
   {
    "duration": 530,
    "start_time": "2021-10-05T19:44:57.773Z"
   },
   {
    "duration": 73,
    "start_time": "2021-10-05T19:54:21.407Z"
   },
   {
    "duration": 81,
    "start_time": "2021-10-05T19:54:23.096Z"
   },
   {
    "duration": 8,
    "start_time": "2021-10-05T19:55:11.926Z"
   },
   {
    "duration": 9,
    "start_time": "2021-10-05T19:55:23.245Z"
   },
   {
    "duration": 68,
    "start_time": "2021-10-05T20:07:17.209Z"
   },
   {
    "duration": 8,
    "start_time": "2021-10-05T20:07:18.766Z"
   },
   {
    "duration": 7,
    "start_time": "2021-10-05T20:08:13.420Z"
   },
   {
    "duration": 7,
    "start_time": "2021-10-05T20:08:14.338Z"
   },
   {
    "duration": 82,
    "start_time": "2021-10-05T20:27:57.404Z"
   },
   {
    "duration": 9,
    "start_time": "2021-10-05T20:27:58.324Z"
   },
   {
    "duration": 7,
    "start_time": "2021-10-05T20:30:09.097Z"
   },
   {
    "duration": 108,
    "start_time": "2021-10-05T20:31:09.094Z"
   },
   {
    "duration": 6,
    "start_time": "2021-10-05T20:31:16.811Z"
   },
   {
    "duration": 1234,
    "start_time": "2021-10-05T20:34:42.365Z"
   },
   {
    "duration": 6,
    "start_time": "2021-10-05T20:34:57.972Z"
   },
   {
    "duration": 106,
    "start_time": "2021-10-05T20:37:02.909Z"
   },
   {
    "duration": 541,
    "start_time": "2021-10-05T20:37:09.825Z"
   },
   {
    "duration": 4,
    "start_time": "2021-10-05T20:56:19.459Z"
   },
   {
    "duration": 190,
    "start_time": "2021-10-05T20:57:16.526Z"
   },
   {
    "duration": 43,
    "start_time": "2021-10-05T20:57:42.824Z"
   },
   {
    "duration": 75,
    "start_time": "2021-10-05T20:58:13.005Z"
   },
   {
    "duration": 188,
    "start_time": "2021-10-05T21:01:31.642Z"
   },
   {
    "duration": 4580,
    "start_time": "2021-10-05T21:02:27.835Z"
   },
   {
    "duration": 6071,
    "start_time": "2021-10-05T21:02:44.575Z"
   },
   {
    "duration": 193,
    "start_time": "2021-10-05T21:03:10.595Z"
   },
   {
    "duration": 44,
    "start_time": "2021-10-05T21:03:25.157Z"
   },
   {
    "duration": 46,
    "start_time": "2021-10-05T21:04:13.071Z"
   },
   {
    "duration": 43,
    "start_time": "2021-10-05T21:04:18.500Z"
   },
   {
    "duration": 48,
    "start_time": "2021-10-05T21:04:26.405Z"
   },
   {
    "duration": 46,
    "start_time": "2021-10-05T21:04:31.309Z"
   },
   {
    "duration": 45,
    "start_time": "2021-10-05T21:04:37.364Z"
   },
   {
    "duration": 53,
    "start_time": "2021-10-05T21:04:46.127Z"
   },
   {
    "duration": 4,
    "start_time": "2021-10-05T21:05:18.173Z"
   },
   {
    "duration": 90,
    "start_time": "2021-10-05T21:05:34.662Z"
   },
   {
    "duration": 26,
    "start_time": "2021-10-05T21:05:46.267Z"
   },
   {
    "duration": 73,
    "start_time": "2021-10-05T21:05:50.006Z"
   },
   {
    "duration": 194,
    "start_time": "2021-10-05T21:06:42.590Z"
   },
   {
    "duration": 72,
    "start_time": "2021-10-05T21:06:43.771Z"
   },
   {
    "duration": 5,
    "start_time": "2021-10-05T21:11:21.483Z"
   },
   {
    "duration": 13,
    "start_time": "2021-10-05T21:12:15.859Z"
   },
   {
    "duration": 190,
    "start_time": "2021-10-05T21:12:47.831Z"
   },
   {
    "duration": 13,
    "start_time": "2021-10-05T21:12:48.803Z"
   },
   {
    "duration": 15,
    "start_time": "2021-10-05T21:15:36.080Z"
   },
   {
    "duration": 275,
    "start_time": "2021-10-05T21:16:30.996Z"
   },
   {
    "duration": 271,
    "start_time": "2021-10-05T21:16:52.273Z"
   },
   {
    "duration": 71,
    "start_time": "2021-10-05T21:17:09.674Z"
   },
   {
    "duration": 10,
    "start_time": "2021-10-05T21:17:44.678Z"
   },
   {
    "duration": 1236,
    "start_time": "2021-10-06T11:11:26.841Z"
   },
   {
    "duration": 3359,
    "start_time": "2021-10-06T11:11:28.078Z"
   },
   {
    "duration": 2356,
    "start_time": "2021-10-06T11:11:31.440Z"
   },
   {
    "duration": 3414,
    "start_time": "2021-10-06T11:11:33.799Z"
   },
   {
    "duration": 6955,
    "start_time": "2021-10-06T11:11:37.215Z"
   },
   {
    "duration": 334,
    "start_time": "2021-10-06T11:11:44.172Z"
   },
   {
    "duration": -14561,
    "start_time": "2021-10-06T11:11:59.071Z"
   },
   {
    "duration": -14567,
    "start_time": "2021-10-06T11:11:59.077Z"
   },
   {
    "duration": -14571,
    "start_time": "2021-10-06T11:11:59.082Z"
   },
   {
    "duration": -14645,
    "start_time": "2021-10-06T11:11:59.157Z"
   },
   {
    "duration": -14650,
    "start_time": "2021-10-06T11:11:59.163Z"
   },
   {
    "duration": -14664,
    "start_time": "2021-10-06T11:11:59.177Z"
   },
   {
    "duration": -14668,
    "start_time": "2021-10-06T11:11:59.182Z"
   },
   {
    "duration": -14673,
    "start_time": "2021-10-06T11:11:59.188Z"
   },
   {
    "duration": -14678,
    "start_time": "2021-10-06T11:11:59.194Z"
   },
   {
    "duration": -14683,
    "start_time": "2021-10-06T11:11:59.200Z"
   },
   {
    "duration": -14687,
    "start_time": "2021-10-06T11:11:59.205Z"
   },
   {
    "duration": -14692,
    "start_time": "2021-10-06T11:11:59.211Z"
   },
   {
    "duration": -14696,
    "start_time": "2021-10-06T11:11:59.216Z"
   },
   {
    "duration": -14701,
    "start_time": "2021-10-06T11:11:59.222Z"
   },
   {
    "duration": -14705,
    "start_time": "2021-10-06T11:11:59.227Z"
   },
   {
    "duration": -14711,
    "start_time": "2021-10-06T11:11:59.234Z"
   },
   {
    "duration": -14715,
    "start_time": "2021-10-06T11:11:59.239Z"
   },
   {
    "duration": -14719,
    "start_time": "2021-10-06T11:11:59.244Z"
   },
   {
    "duration": -14723,
    "start_time": "2021-10-06T11:11:59.249Z"
   },
   {
    "duration": -14728,
    "start_time": "2021-10-06T11:11:59.255Z"
   },
   {
    "duration": -14732,
    "start_time": "2021-10-06T11:11:59.260Z"
   },
   {
    "duration": -14737,
    "start_time": "2021-10-06T11:11:59.266Z"
   },
   {
    "duration": -14741,
    "start_time": "2021-10-06T11:11:59.271Z"
   },
   {
    "duration": -14746,
    "start_time": "2021-10-06T11:11:59.276Z"
   },
   {
    "duration": -15149,
    "start_time": "2021-10-06T11:11:59.680Z"
   },
   {
    "duration": -15182,
    "start_time": "2021-10-06T11:11:59.714Z"
   },
   {
    "duration": -15185,
    "start_time": "2021-10-06T11:11:59.718Z"
   },
   {
    "duration": -15190,
    "start_time": "2021-10-06T11:11:59.724Z"
   },
   {
    "duration": -15195,
    "start_time": "2021-10-06T11:11:59.729Z"
   },
   {
    "duration": -15211,
    "start_time": "2021-10-06T11:11:59.746Z"
   },
   {
    "duration": -15215,
    "start_time": "2021-10-06T11:11:59.751Z"
   },
   {
    "duration": -15219,
    "start_time": "2021-10-06T11:11:59.756Z"
   },
   {
    "duration": -15224,
    "start_time": "2021-10-06T11:11:59.762Z"
   },
   {
    "duration": -15229,
    "start_time": "2021-10-06T11:11:59.768Z"
   },
   {
    "duration": -15235,
    "start_time": "2021-10-06T11:11:59.774Z"
   },
   {
    "duration": -15241,
    "start_time": "2021-10-06T11:11:59.781Z"
   },
   {
    "duration": -15245,
    "start_time": "2021-10-06T11:11:59.786Z"
   },
   {
    "duration": -15249,
    "start_time": "2021-10-06T11:11:59.791Z"
   },
   {
    "duration": -15253,
    "start_time": "2021-10-06T11:11:59.796Z"
   },
   {
    "duration": -15258,
    "start_time": "2021-10-06T11:11:59.802Z"
   },
   {
    "duration": -15261,
    "start_time": "2021-10-06T11:11:59.806Z"
   },
   {
    "duration": -15263,
    "start_time": "2021-10-06T11:11:59.812Z"
   },
   {
    "duration": -15267,
    "start_time": "2021-10-06T11:11:59.817Z"
   },
   {
    "duration": -15271,
    "start_time": "2021-10-06T11:11:59.822Z"
   },
   {
    "duration": -15276,
    "start_time": "2021-10-06T11:11:59.828Z"
   },
   {
    "duration": -15282,
    "start_time": "2021-10-06T11:11:59.835Z"
   },
   {
    "duration": 3,
    "start_time": "2021-10-06T11:12:04.913Z"
   },
   {
    "duration": 3,
    "start_time": "2021-10-06T11:12:18.683Z"
   },
   {
    "duration": 3084,
    "start_time": "2021-10-06T11:12:21.148Z"
   },
   {
    "duration": 3,
    "start_time": "2021-10-06T11:12:27.513Z"
   },
   {
    "duration": 1187,
    "start_time": "2021-10-06T11:12:34.899Z"
   },
   {
    "duration": 2314,
    "start_time": "2021-10-06T11:12:36.088Z"
   },
   {
    "duration": 2265,
    "start_time": "2021-10-06T11:12:38.405Z"
   },
   {
    "duration": 2356,
    "start_time": "2021-10-06T11:12:40.673Z"
   },
   {
    "duration": 2692,
    "start_time": "2021-10-06T11:12:43.030Z"
   },
   {
    "duration": 3,
    "start_time": "2021-10-06T11:12:45.724Z"
   },
   {
    "duration": 7,
    "start_time": "2021-10-06T11:12:45.729Z"
   },
   {
    "duration": 19,
    "start_time": "2021-10-06T11:12:45.738Z"
   },
   {
    "duration": 3,
    "start_time": "2021-10-06T11:12:45.759Z"
   },
   {
    "duration": 34,
    "start_time": "2021-10-06T11:12:45.764Z"
   },
   {
    "duration": 17,
    "start_time": "2021-10-06T11:12:45.800Z"
   },
   {
    "duration": 13,
    "start_time": "2021-10-06T11:12:45.819Z"
   },
   {
    "duration": 960,
    "start_time": "2021-10-06T11:12:45.834Z"
   },
   {
    "duration": 7,
    "start_time": "2021-10-06T11:12:46.796Z"
   },
   {
    "duration": 6,
    "start_time": "2021-10-06T11:12:46.805Z"
   },
   {
    "duration": 56,
    "start_time": "2021-10-06T11:12:46.813Z"
   },
   {
    "duration": 4,
    "start_time": "2021-10-06T11:12:46.870Z"
   },
   {
    "duration": 169,
    "start_time": "2021-10-06T11:12:46.876Z"
   },
   {
    "duration": 5,
    "start_time": "2021-10-06T11:12:47.047Z"
   },
   {
    "duration": 20,
    "start_time": "2021-10-06T11:12:47.054Z"
   },
   {
    "duration": 1214,
    "start_time": "2021-10-06T11:12:47.076Z"
   },
   {
    "duration": 506,
    "start_time": "2021-10-06T11:12:48.291Z"
   },
   {
    "duration": 5,
    "start_time": "2021-10-06T11:12:48.801Z"
   },
   {
    "duration": 13,
    "start_time": "2021-10-06T11:12:48.809Z"
   },
   {
    "duration": 57,
    "start_time": "2021-10-06T11:12:48.823Z"
   },
   {
    "duration": 5,
    "start_time": "2021-10-06T11:12:48.882Z"
   },
   {
    "duration": 66,
    "start_time": "2021-10-06T11:12:48.889Z"
   },
   {
    "duration": 30,
    "start_time": "2021-10-06T11:12:48.958Z"
   },
   {
    "duration": 6056,
    "start_time": "2021-10-06T11:12:48.990Z"
   },
   {
    "duration": 23,
    "start_time": "2021-10-06T11:12:55.048Z"
   },
   {
    "duration": 3372,
    "start_time": "2021-10-06T11:12:55.073Z"
   },
   {
    "duration": 13,
    "start_time": "2021-10-06T11:12:58.447Z"
   },
   {
    "duration": 92161,
    "start_time": "2021-10-06T11:12:58.461Z"
   },
   {
    "duration": 28,
    "start_time": "2021-10-06T11:14:30.624Z"
   },
   {
    "duration": 612,
    "start_time": "2021-10-06T11:14:30.653Z"
   },
   {
    "duration": 405,
    "start_time": "2021-10-06T11:14:31.267Z"
   },
   {
    "duration": 78,
    "start_time": "2021-10-06T11:14:31.674Z"
   },
   {
    "duration": 90,
    "start_time": "2021-10-06T11:14:31.754Z"
   },
   {
    "duration": 12,
    "start_time": "2021-10-06T11:14:31.847Z"
   },
   {
    "duration": 7,
    "start_time": "2021-10-06T11:14:31.944Z"
   },
   {
    "duration": 6,
    "start_time": "2021-10-06T11:14:31.953Z"
   },
   {
    "duration": 206,
    "start_time": "2021-10-06T11:14:31.960Z"
   },
   {
    "duration": 55,
    "start_time": "2021-10-06T11:14:32.169Z"
   },
   {
    "duration": 55,
    "start_time": "2021-10-06T11:14:32.226Z"
   },
   {
    "duration": 61,
    "start_time": "2021-10-06T11:14:32.284Z"
   },
   {
    "duration": 178,
    "start_time": "2021-10-06T11:14:32.350Z"
   },
   {
    "duration": 37,
    "start_time": "2021-10-06T11:14:32.530Z"
   },
   {
    "duration": 23,
    "start_time": "2021-10-06T11:14:32.569Z"
   },
   {
    "duration": 279,
    "start_time": "2021-10-06T11:14:32.645Z"
   },
   {
    "duration": 342,
    "start_time": "2021-10-06T11:14:32.925Z"
   },
   {
    "duration": -15256,
    "start_time": "2021-10-06T11:14:48.526Z"
   },
   {
    "duration": -15330,
    "start_time": "2021-10-06T11:14:48.601Z"
   },
   {
    "duration": 181,
    "start_time": "2021-10-06T11:17:43.080Z"
   },
   {
    "duration": 45,
    "start_time": "2021-10-06T11:17:53.923Z"
   },
   {
    "duration": 35,
    "start_time": "2021-10-06T11:18:02.423Z"
   },
   {
    "duration": 6,
    "start_time": "2021-10-06T11:29:00.216Z"
   },
   {
    "duration": 4,
    "start_time": "2021-10-06T11:29:25.122Z"
   },
   {
    "duration": 172,
    "start_time": "2021-10-06T11:29:35.188Z"
   },
   {
    "duration": 225,
    "start_time": "2021-10-06T11:29:36.866Z"
   },
   {
    "duration": 6,
    "start_time": "2021-10-06T11:29:55.930Z"
   },
   {
    "duration": 72,
    "start_time": "2021-10-06T11:30:01.095Z"
   },
   {
    "duration": 183,
    "start_time": "2021-10-06T11:42:04.118Z"
   },
   {
    "duration": 13,
    "start_time": "2021-10-06T11:42:05.145Z"
   },
   {
    "duration": 383,
    "start_time": "2021-10-06T11:44:15.833Z"
   },
   {
    "duration": 437,
    "start_time": "2021-10-06T11:47:20.620Z"
   },
   {
    "duration": 528,
    "start_time": "2021-10-06T11:51:46.921Z"
   },
   {
    "duration": 173,
    "start_time": "2021-10-06T11:55:28.349Z"
   },
   {
    "duration": 181,
    "start_time": "2021-10-06T11:57:16.593Z"
   },
   {
    "duration": 25,
    "start_time": "2021-10-06T11:59:46.000Z"
   },
   {
    "duration": 25,
    "start_time": "2021-10-06T12:04:08.798Z"
   },
   {
    "duration": 25,
    "start_time": "2021-10-06T12:04:35.596Z"
   },
   {
    "duration": 1257,
    "start_time": "2021-10-06T12:16:20.410Z"
   },
   {
    "duration": 2195,
    "start_time": "2021-10-06T12:16:21.669Z"
   },
   {
    "duration": 2080,
    "start_time": "2021-10-06T12:16:23.866Z"
   },
   {
    "duration": 2063,
    "start_time": "2021-10-06T12:16:25.949Z"
   },
   {
    "duration": 2511,
    "start_time": "2021-10-06T12:16:28.014Z"
   },
   {
    "duration": 3,
    "start_time": "2021-10-06T12:16:30.527Z"
   },
   {
    "duration": 20,
    "start_time": "2021-10-06T12:16:30.532Z"
   },
   {
    "duration": 20,
    "start_time": "2021-10-06T12:16:30.554Z"
   },
   {
    "duration": 3,
    "start_time": "2021-10-06T12:16:30.576Z"
   },
   {
    "duration": 40,
    "start_time": "2021-10-06T12:16:30.580Z"
   },
   {
    "duration": 16,
    "start_time": "2021-10-06T12:16:30.621Z"
   },
   {
    "duration": 28,
    "start_time": "2021-10-06T12:16:30.638Z"
   },
   {
    "duration": 992,
    "start_time": "2021-10-06T12:16:30.668Z"
   },
   {
    "duration": 8,
    "start_time": "2021-10-06T12:16:31.662Z"
   },
   {
    "duration": 5,
    "start_time": "2021-10-06T12:16:31.672Z"
   },
   {
    "duration": 41,
    "start_time": "2021-10-06T12:16:31.679Z"
   },
   {
    "duration": 22,
    "start_time": "2021-10-06T12:16:31.722Z"
   },
   {
    "duration": 198,
    "start_time": "2021-10-06T12:16:31.747Z"
   },
   {
    "duration": 4,
    "start_time": "2021-10-06T12:16:31.947Z"
   },
   {
    "duration": 10,
    "start_time": "2021-10-06T12:16:31.953Z"
   },
   {
    "duration": 1157,
    "start_time": "2021-10-06T12:16:31.965Z"
   },
   {
    "duration": 477,
    "start_time": "2021-10-06T12:16:33.123Z"
   },
   {
    "duration": 6,
    "start_time": "2021-10-06T12:16:33.603Z"
   },
   {
    "duration": 11,
    "start_time": "2021-10-06T12:16:33.611Z"
   },
   {
    "duration": 47,
    "start_time": "2021-10-06T12:16:33.624Z"
   },
   {
    "duration": 3,
    "start_time": "2021-10-06T12:16:33.673Z"
   },
   {
    "duration": 6,
    "start_time": "2021-10-06T12:16:33.677Z"
   },
   {
    "duration": 10,
    "start_time": "2021-10-06T12:16:33.685Z"
   },
   {
    "duration": 5441,
    "start_time": "2021-10-06T12:16:33.697Z"
   },
   {
    "duration": 19,
    "start_time": "2021-10-06T12:16:39.144Z"
   },
   {
    "duration": 3160,
    "start_time": "2021-10-06T12:16:39.165Z"
   },
   {
    "duration": 19,
    "start_time": "2021-10-06T12:16:42.327Z"
   },
   {
    "duration": 108558,
    "start_time": "2021-10-06T12:16:42.348Z"
   },
   {
    "duration": 41,
    "start_time": "2021-10-06T12:18:30.908Z"
   },
   {
    "duration": 508,
    "start_time": "2021-10-06T12:18:30.952Z"
   },
   {
    "duration": 488,
    "start_time": "2021-10-06T12:18:31.462Z"
   },
   {
    "duration": 100,
    "start_time": "2021-10-06T12:18:31.952Z"
   },
   {
    "duration": 191,
    "start_time": "2021-10-06T12:18:32.054Z"
   },
   {
    "duration": 7,
    "start_time": "2021-10-06T12:18:32.247Z"
   },
   {
    "duration": 7,
    "start_time": "2021-10-06T12:18:32.256Z"
   },
   {
    "duration": 6,
    "start_time": "2021-10-06T12:18:32.265Z"
   },
   {
    "duration": 204,
    "start_time": "2021-10-06T12:18:32.272Z"
   },
   {
    "duration": 41,
    "start_time": "2021-10-06T12:18:32.478Z"
   },
   {
    "duration": 51,
    "start_time": "2021-10-06T12:18:32.521Z"
   },
   {
    "duration": 70,
    "start_time": "2021-10-06T12:18:32.575Z"
   },
   {
    "duration": 179,
    "start_time": "2021-10-06T12:18:32.648Z"
   },
   {
    "duration": 35,
    "start_time": "2021-10-06T12:18:32.829Z"
   },
   {
    "duration": 23,
    "start_time": "2021-10-06T12:18:32.866Z"
   },
   {
    "duration": 278,
    "start_time": "2021-10-06T12:18:32.945Z"
   },
   {
    "duration": 72,
    "start_time": "2021-10-06T12:18:33.225Z"
   },
   {
    "duration": 406,
    "start_time": "2021-10-06T12:18:33.299Z"
   },
   {
    "duration": 188,
    "start_time": "2021-10-06T12:18:33.707Z"
   },
   {
    "duration": 25,
    "start_time": "2021-10-06T12:18:33.897Z"
   },
   {
    "duration": 1557,
    "start_time": "2021-10-07T10:50:44.947Z"
   },
   {
    "duration": 4580,
    "start_time": "2021-10-07T10:50:46.507Z"
   },
   {
    "duration": 3374,
    "start_time": "2021-10-07T10:50:51.091Z"
   },
   {
    "duration": 4228,
    "start_time": "2021-10-07T10:50:54.469Z"
   },
   {
    "duration": 8943,
    "start_time": "2021-10-07T10:50:58.700Z"
   },
   {
    "duration": 6,
    "start_time": "2021-10-07T10:51:07.645Z"
   },
   {
    "duration": 460,
    "start_time": "2021-10-07T10:51:07.653Z"
   },
   {
    "duration": -15894,
    "start_time": "2021-10-07T10:51:24.012Z"
   },
   {
    "duration": -15901,
    "start_time": "2021-10-07T10:51:24.020Z"
   },
   {
    "duration": -15905,
    "start_time": "2021-10-07T10:51:24.026Z"
   },
   {
    "duration": -15914,
    "start_time": "2021-10-07T10:51:24.036Z"
   },
   {
    "duration": -15920,
    "start_time": "2021-10-07T10:51:24.044Z"
   },
   {
    "duration": -15930,
    "start_time": "2021-10-07T10:51:24.055Z"
   },
   {
    "duration": -15935,
    "start_time": "2021-10-07T10:51:24.062Z"
   },
   {
    "duration": -15945,
    "start_time": "2021-10-07T10:51:24.073Z"
   },
   {
    "duration": -16240,
    "start_time": "2021-10-07T10:51:24.370Z"
   },
   {
    "duration": -16372,
    "start_time": "2021-10-07T10:51:24.503Z"
   },
   {
    "duration": -16376,
    "start_time": "2021-10-07T10:51:24.509Z"
   },
   {
    "duration": -16382,
    "start_time": "2021-10-07T10:51:24.517Z"
   },
   {
    "duration": -16386,
    "start_time": "2021-10-07T10:51:24.522Z"
   },
   {
    "duration": -16411,
    "start_time": "2021-10-07T10:51:24.549Z"
   },
   {
    "duration": -16419,
    "start_time": "2021-10-07T10:51:24.558Z"
   },
   {
    "duration": -16424,
    "start_time": "2021-10-07T10:51:24.565Z"
   },
   {
    "duration": -16430,
    "start_time": "2021-10-07T10:51:24.572Z"
   },
   {
    "duration": -16439,
    "start_time": "2021-10-07T10:51:24.583Z"
   },
   {
    "duration": -16446,
    "start_time": "2021-10-07T10:51:24.591Z"
   },
   {
    "duration": -16455,
    "start_time": "2021-10-07T10:51:24.602Z"
   },
   {
    "duration": -16461,
    "start_time": "2021-10-07T10:51:24.609Z"
   },
   {
    "duration": -16467,
    "start_time": "2021-10-07T10:51:24.617Z"
   },
   {
    "duration": -16472,
    "start_time": "2021-10-07T10:51:24.623Z"
   },
   {
    "duration": -16477,
    "start_time": "2021-10-07T10:51:24.630Z"
   },
   {
    "duration": -16482,
    "start_time": "2021-10-07T10:51:24.636Z"
   },
   {
    "duration": -16486,
    "start_time": "2021-10-07T10:51:24.642Z"
   },
   {
    "duration": -16502,
    "start_time": "2021-10-07T10:51:24.659Z"
   },
   {
    "duration": -16507,
    "start_time": "2021-10-07T10:51:24.666Z"
   },
   {
    "duration": -16513,
    "start_time": "2021-10-07T10:51:24.673Z"
   },
   {
    "duration": -16520,
    "start_time": "2021-10-07T10:51:24.682Z"
   },
   {
    "duration": -16468,
    "start_time": "2021-10-07T10:51:24.690Z"
   },
   {
    "duration": -16475,
    "start_time": "2021-10-07T10:51:24.699Z"
   },
   {
    "duration": -16480,
    "start_time": "2021-10-07T10:51:24.705Z"
   },
   {
    "duration": -16484,
    "start_time": "2021-10-07T10:51:24.711Z"
   },
   {
    "duration": -16490,
    "start_time": "2021-10-07T10:51:24.718Z"
   },
   {
    "duration": -16494,
    "start_time": "2021-10-07T10:51:24.724Z"
   },
   {
    "duration": -16499,
    "start_time": "2021-10-07T10:51:24.730Z"
   },
   {
    "duration": -16508,
    "start_time": "2021-10-07T10:51:24.740Z"
   },
   {
    "duration": -16515,
    "start_time": "2021-10-07T10:51:24.749Z"
   },
   {
    "duration": -16523,
    "start_time": "2021-10-07T10:51:24.758Z"
   },
   {
    "duration": -16542,
    "start_time": "2021-10-07T10:51:24.779Z"
   },
   {
    "duration": -16548,
    "start_time": "2021-10-07T10:51:24.787Z"
   },
   {
    "duration": -16554,
    "start_time": "2021-10-07T10:51:24.794Z"
   },
   {
    "duration": -16561,
    "start_time": "2021-10-07T10:51:24.803Z"
   },
   {
    "duration": -16568,
    "start_time": "2021-10-07T10:51:24.811Z"
   },
   {
    "duration": -16574,
    "start_time": "2021-10-07T10:51:24.819Z"
   },
   {
    "duration": 3698,
    "start_time": "2021-10-07T10:51:15.550Z"
   },
   {
    "duration": 5,
    "start_time": "2021-10-07T10:51:21.293Z"
   },
   {
    "duration": 1519,
    "start_time": "2021-10-07T10:51:28.352Z"
   },
   {
    "duration": 3151,
    "start_time": "2021-10-07T10:51:29.874Z"
   },
   {
    "duration": 3078,
    "start_time": "2021-10-07T10:51:33.029Z"
   },
   {
    "duration": 3114,
    "start_time": "2021-10-07T10:51:36.110Z"
   },
   {
    "duration": 3832,
    "start_time": "2021-10-07T10:51:39.227Z"
   },
   {
    "duration": 5,
    "start_time": "2021-10-07T10:51:43.062Z"
   },
   {
    "duration": 37,
    "start_time": "2021-10-07T10:51:43.069Z"
   },
   {
    "duration": 39,
    "start_time": "2021-10-07T10:51:43.110Z"
   },
   {
    "duration": 7,
    "start_time": "2021-10-07T10:51:43.152Z"
   },
   {
    "duration": 61,
    "start_time": "2021-10-07T10:51:43.162Z"
   },
   {
    "duration": 23,
    "start_time": "2021-10-07T10:51:43.226Z"
   },
   {
    "duration": 29,
    "start_time": "2021-10-07T10:51:43.251Z"
   },
   {
    "duration": 1274,
    "start_time": "2021-10-07T10:51:43.282Z"
   },
   {
    "duration": 10,
    "start_time": "2021-10-07T10:51:44.558Z"
   },
   {
    "duration": 17,
    "start_time": "2021-10-07T10:51:44.571Z"
   },
   {
    "duration": 80,
    "start_time": "2021-10-07T10:51:44.590Z"
   },
   {
    "duration": 6,
    "start_time": "2021-10-07T10:51:44.672Z"
   },
   {
    "duration": 245,
    "start_time": "2021-10-07T10:51:44.680Z"
   },
   {
    "duration": 5,
    "start_time": "2021-10-07T10:51:44.927Z"
   },
   {
    "duration": 22,
    "start_time": "2021-10-07T10:51:44.935Z"
   },
   {
    "duration": 1974,
    "start_time": "2021-10-07T10:51:44.960Z"
   },
   {
    "duration": 690,
    "start_time": "2021-10-07T10:51:46.936Z"
   },
   {
    "duration": 8,
    "start_time": "2021-10-07T10:51:47.632Z"
   },
   {
    "duration": 45,
    "start_time": "2021-10-07T10:51:47.644Z"
   },
   {
    "duration": 74,
    "start_time": "2021-10-07T10:51:47.692Z"
   },
   {
    "duration": 5,
    "start_time": "2021-10-07T10:51:47.768Z"
   },
   {
    "duration": 28,
    "start_time": "2021-10-07T10:51:47.776Z"
   },
   {
    "duration": 22,
    "start_time": "2021-10-07T10:51:47.807Z"
   },
   {
    "duration": 8666,
    "start_time": "2021-10-07T10:51:47.831Z"
   },
   {
    "duration": 35,
    "start_time": "2021-10-07T10:51:56.499Z"
   },
   {
    "duration": 4913,
    "start_time": "2021-10-07T10:51:56.537Z"
   },
   {
    "duration": 20,
    "start_time": "2021-10-07T10:52:01.452Z"
   },
   {
    "duration": 142785,
    "start_time": "2021-10-07T10:52:01.474Z"
   },
   {
    "duration": 69,
    "start_time": "2021-10-07T10:54:24.261Z"
   },
   {
    "duration": 645,
    "start_time": "2021-10-07T10:54:24.334Z"
   },
   {
    "duration": 581,
    "start_time": "2021-10-07T10:54:24.981Z"
   },
   {
    "duration": 160,
    "start_time": "2021-10-07T10:54:25.565Z"
   },
   {
    "duration": 196,
    "start_time": "2021-10-07T10:54:25.729Z"
   },
   {
    "duration": 12,
    "start_time": "2021-10-07T10:54:25.928Z"
   },
   {
    "duration": 16,
    "start_time": "2021-10-07T10:54:25.943Z"
   },
   {
    "duration": 7,
    "start_time": "2021-10-07T10:54:25.961Z"
   },
   {
    "duration": 338,
    "start_time": "2021-10-07T10:54:25.970Z"
   },
   {
    "duration": 68,
    "start_time": "2021-10-07T10:54:26.311Z"
   },
   {
    "duration": 67,
    "start_time": "2021-10-07T10:54:26.382Z"
   },
   {
    "duration": 99,
    "start_time": "2021-10-07T10:54:26.523Z"
   },
   {
    "duration": 146,
    "start_time": "2021-10-07T10:54:26.625Z"
   },
   {
    "duration": 34,
    "start_time": "2021-10-07T10:54:26.774Z"
   },
   {
    "duration": 101,
    "start_time": "2021-10-07T10:54:26.822Z"
   },
   {
    "duration": 376,
    "start_time": "2021-10-07T10:54:26.927Z"
   },
   {
    "duration": 109,
    "start_time": "2021-10-07T10:54:27.306Z"
   },
   {
    "duration": 763,
    "start_time": "2021-10-07T10:54:27.422Z"
   },
   {
    "duration": 293,
    "start_time": "2021-10-07T10:54:28.188Z"
   },
   {
    "duration": 50,
    "start_time": "2021-10-07T10:54:28.483Z"
   },
   {
    "duration": 451,
    "start_time": "2021-10-07T10:54:57.583Z"
   },
   {
    "duration": 242,
    "start_time": "2021-10-07T10:55:38.983Z"
   },
   {
    "duration": 13,
    "start_time": "2021-10-07T10:55:42.617Z"
   },
   {
    "duration": 319,
    "start_time": "2021-10-07T10:56:02.910Z"
   },
   {
    "duration": 13,
    "start_time": "2021-10-07T10:56:04.118Z"
   },
   {
    "duration": 285,
    "start_time": "2021-10-07T10:58:03.809Z"
   },
   {
    "duration": 51,
    "start_time": "2021-10-07T10:58:04.893Z"
   },
   {
    "duration": 50,
    "start_time": "2021-10-07T10:59:03.829Z"
   },
   {
    "duration": 577,
    "start_time": "2021-10-07T11:04:37.171Z"
   },
   {
    "duration": 545,
    "start_time": "2021-10-07T11:04:56.896Z"
   },
   {
    "duration": 309,
    "start_time": "2021-10-07T11:05:20.825Z"
   },
   {
    "duration": 75,
    "start_time": "2021-10-07T11:06:22.665Z"
   },
   {
    "duration": 265,
    "start_time": "2021-10-07T11:13:56.951Z"
   },
   {
    "duration": 256,
    "start_time": "2021-10-07T11:14:56.952Z"
   },
   {
    "duration": 14,
    "start_time": "2021-10-07T11:15:22.060Z"
   },
   {
    "duration": 247,
    "start_time": "2021-10-07T11:51:21.747Z"
   },
   {
    "duration": 106,
    "start_time": "2021-10-07T11:52:12.732Z"
   },
   {
    "duration": 274,
    "start_time": "2021-10-07T11:52:24.121Z"
   },
   {
    "duration": 102,
    "start_time": "2021-10-07T11:52:29.212Z"
   },
   {
    "duration": 2049,
    "start_time": "2021-10-07T11:55:35.661Z"
   },
   {
    "duration": 3196,
    "start_time": "2021-10-07T11:55:37.713Z"
   },
   {
    "duration": 3192,
    "start_time": "2021-10-07T11:55:40.913Z"
   },
   {
    "duration": 3384,
    "start_time": "2021-10-07T11:55:44.108Z"
   },
   {
    "duration": 4004,
    "start_time": "2021-10-07T11:55:47.495Z"
   },
   {
    "duration": 5,
    "start_time": "2021-10-07T11:55:51.502Z"
   },
   {
    "duration": 44,
    "start_time": "2021-10-07T11:55:51.509Z"
   },
   {
    "duration": 35,
    "start_time": "2021-10-07T11:55:51.560Z"
   },
   {
    "duration": 4,
    "start_time": "2021-10-07T11:55:51.604Z"
   },
   {
    "duration": 47,
    "start_time": "2021-10-07T11:55:51.612Z"
   },
   {
    "duration": 26,
    "start_time": "2021-10-07T11:55:51.662Z"
   },
   {
    "duration": 51,
    "start_time": "2021-10-07T11:55:51.692Z"
   },
   {
    "duration": 1612,
    "start_time": "2021-10-07T11:55:51.746Z"
   },
   {
    "duration": 12,
    "start_time": "2021-10-07T11:55:53.361Z"
   },
   {
    "duration": 31,
    "start_time": "2021-10-07T11:55:53.376Z"
   },
   {
    "duration": 90,
    "start_time": "2021-10-07T11:55:53.410Z"
   },
   {
    "duration": 5,
    "start_time": "2021-10-07T11:55:53.503Z"
   },
   {
    "duration": 214,
    "start_time": "2021-10-07T11:55:53.511Z"
   },
   {
    "duration": 5,
    "start_time": "2021-10-07T11:55:53.728Z"
   },
   {
    "duration": 33,
    "start_time": "2021-10-07T11:55:53.736Z"
   },
   {
    "duration": 1893,
    "start_time": "2021-10-07T11:55:53.771Z"
   },
   {
    "duration": 771,
    "start_time": "2021-10-07T11:55:55.667Z"
   },
   {
    "duration": 8,
    "start_time": "2021-10-07T11:55:56.441Z"
   },
   {
    "duration": 38,
    "start_time": "2021-10-07T11:55:56.451Z"
   },
   {
    "duration": 67,
    "start_time": "2021-10-07T11:55:56.491Z"
   },
   {
    "duration": 7,
    "start_time": "2021-10-07T11:55:56.560Z"
   },
   {
    "duration": 16,
    "start_time": "2021-10-07T11:55:56.573Z"
   },
   {
    "duration": 36,
    "start_time": "2021-10-07T11:55:56.592Z"
   },
   {
    "duration": 8804,
    "start_time": "2021-10-07T11:55:56.630Z"
   },
   {
    "duration": 27,
    "start_time": "2021-10-07T11:56:05.437Z"
   },
   {
    "duration": 5157,
    "start_time": "2021-10-07T11:56:05.466Z"
   },
   {
    "duration": 15,
    "start_time": "2021-10-07T11:56:10.625Z"
   }
  ],
  "kernelspec": {
   "display_name": "Python 3",
   "language": "python",
   "name": "python3"
  },
  "language_info": {
   "codemirror_mode": {
    "name": "ipython",
    "version": 3
   },
   "file_extension": ".py",
   "mimetype": "text/x-python",
   "name": "python",
   "nbconvert_exporter": "python",
   "pygments_lexer": "ipython3",
   "version": "3.7.8"
  },
  "toc": {
   "base_numbering": 1,
   "nav_menu": {},
   "number_sections": true,
   "sideBar": true,
   "skip_h1_title": true,
   "title_cell": "Table of Contents",
   "title_sidebar": "Contents",
   "toc_cell": false,
   "toc_position": {},
   "toc_section_display": true,
   "toc_window_display": true
  }
 },
 "nbformat": 4,
 "nbformat_minor": 2
}
