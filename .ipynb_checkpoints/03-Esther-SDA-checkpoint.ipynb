{
 "cells": [
  {
   "cell_type": "markdown",
   "metadata": {},
   "source": [
    "Hi Esther. I'm Svetlana and will review your project. I've added all my comments to new cells with different coloring. Please don't delete my comments.\n",
    "\n",
    "\n",
    "The first time I see a mistake, I'll just point it out and let you find it and fix it yourself. In a real job, your boss will do the same, and I'm trying to prepare you to work as an Data Analyst. But if you can't handle this task yet, I'll give you a more accurate hint at the next check.\n",
    "\n",
    "<div class=\"alert alert-success\" role=\"alert\">\n",
    "Reviewer's comment v. 1:\n",
    "    \n",
    "If you did something great I'm using green color for my comment\n",
    "</div>\n",
    "\n",
    "<div class=\"alert alert-warning\" role=\"alert\">\n",
    "Reviewer's comment v. 1:\n",
    "    \n",
    "If I want to give you advice or think that something can be improved, then I'll use yellow. This is an optional recommendation.\n",
    "</div>\n",
    "\n",
    "<div class=\"alert alert-danger\" role=\"alert\">\n",
    "Reviewer's comment v. 1:\n",
    "    \n",
    "If the topic requires some extra work so I can accept it then the color will be red\n",
    "</div>"
   ]
  },
  {
   "cell_type": "markdown",
   "metadata": {},
   "source": [
    "<div class=\"alert alert-info\" style=\"border:solid blue 2px; padding: 20px\"> <b>Student comment:</b> Hi Svetlana, Thanks for reviewing my project, but I did not receive any comments within it😞... </div>"
   ]
  },
  {
   "cell_type": "markdown",
   "metadata": {},
   "source": [
    "## Review v. 1<a class=\"tocSkip\">\n",
    "\n",
    "Sorry, sometimes there is a problem with saving the project on the server :(\n",
    "    \n",
    "Thank you for submitting your project. You've done a lot of work. Regrettably, your project is not quite ready for review. This is because the code doesn’t run because of error. You've already done a lot, I am sure you'll take care of it! "
   ]
  },
  {
   "cell_type": "markdown",
   "metadata": {},
   "source": [
    "<div class=\"alert alert-info\" style=\"border:solid blue 2px; padding: 20px\"> <b>Student comment:</b> Hi Svetlana, Thank you very very much for reviewing my project, as well as for the feedback and comments🙏. I was trying to go through them all and to relate to each one of them. </div>"
   ]
  },
  {
   "cell_type": "markdown",
   "metadata": {},
   "source": [
    "## Review v. 2<a class=\"tocSkip\">\n",
    "\n",
    "All your hard work has paid off, and now your project is perfect! Your project has passed code review. Congratulations! Keep up the good work, and good luck on the next sprint!"
   ]
  },
  {
   "cell_type": "markdown",
   "metadata": {},
   "source": [
    "# Reserch on plans in Megaline communications company"
   ]
  },
  {
   "cell_type": "markdown",
   "metadata": {},
   "source": [
    "We work as an analyst for the telecom operator Megaline. The company offers its clients two prepaid plans, Surf and Ultimate. The commercial department wants to know which of the plans brings in more revenue in order to adjust the advertising budget.\n",
    "We are going to carry out a preliminary analysis of the plans based on a relatively small client selection. We have the data on 500 Megaline clients: who the clients are, where they're from, which plan they use, and the number of calls they made and text messages they sent in 2018. The aim is to analyze clients' behavior and determine which prepaid plan brings in more revenue."
   ]
  },
  {
   "cell_type": "markdown",
   "metadata": {},
   "source": [
    "<div class=\"alert alert-success\" role=\"alert\">\n",
    "Reviewer's comment v. 1:\n",
    "    \n",
    "Well done that you clearly described the project and formulated a goal of it.\n",
    "</div>"
   ]
  },
  {
   "cell_type": "markdown",
   "metadata": {},
   "source": [
    "## Task 1 "
   ]
  },
  {
   "cell_type": "markdown",
   "metadata": {},
   "source": [
    "**Open the data file and study the general information:**"
   ]
  },
  {
   "cell_type": "code",
   "execution_count": 1,
   "metadata": {},
   "outputs": [],
   "source": [
    "import pandas as pd\n",
    "import numpy as np\n",
    "import math as mt\n",
    "import scipy\n",
    "import matplotlib.pyplot as plt\n",
    "from math import factorial\n",
    "from scipy import stats as st\n",
    "from functools import reduce"
   ]
  },
  {
   "cell_type": "code",
   "execution_count": 2,
   "metadata": {},
   "outputs": [],
   "source": [
    "calls = pd.read_csv('/datasets/megaline_calls.csv')\n",
    "internet = pd.read_csv('/datasets/megaline_internet.csv')\n",
    "messages = pd.read_csv('/datasets/megaline_messages.csv')\n",
    "plans = pd.read_csv('/datasets/megaline_plans.csv')\n",
    "users = pd.read_csv('/datasets/megaline_users.csv')"
   ]
  },
  {
   "cell_type": "markdown",
   "metadata": {},
   "source": [
    "<div class=\"alert alert-success\" role=\"alert\">\n",
    "Reviewer's comment v. 1:\n",
    "    \n",
    "Ok, data is downloaded.\n",
    "</div>"
   ]
  },
  {
   "cell_type": "markdown",
   "metadata": {},
   "source": [
    "Study the general information:"
   ]
  },
  {
   "cell_type": "code",
   "execution_count": 3,
   "metadata": {},
   "outputs": [
    {
     "data": {
      "text/html": [
       "<div>\n",
       "<style scoped>\n",
       "    .dataframe tbody tr th:only-of-type {\n",
       "        vertical-align: middle;\n",
       "    }\n",
       "\n",
       "    .dataframe tbody tr th {\n",
       "        vertical-align: top;\n",
       "    }\n",
       "\n",
       "    .dataframe thead th {\n",
       "        text-align: right;\n",
       "    }\n",
       "</style>\n",
       "<table border=\"1\" class=\"dataframe\">\n",
       "  <thead>\n",
       "    <tr style=\"text-align: right;\">\n",
       "      <th></th>\n",
       "      <th>id</th>\n",
       "      <th>user_id</th>\n",
       "      <th>call_date</th>\n",
       "      <th>duration</th>\n",
       "    </tr>\n",
       "  </thead>\n",
       "  <tbody>\n",
       "    <tr>\n",
       "      <td>0</td>\n",
       "      <td>1000_93</td>\n",
       "      <td>1000</td>\n",
       "      <td>2018-12-27</td>\n",
       "      <td>8.52</td>\n",
       "    </tr>\n",
       "    <tr>\n",
       "      <td>1</td>\n",
       "      <td>1000_145</td>\n",
       "      <td>1000</td>\n",
       "      <td>2018-12-27</td>\n",
       "      <td>13.66</td>\n",
       "    </tr>\n",
       "    <tr>\n",
       "      <td>2</td>\n",
       "      <td>1000_247</td>\n",
       "      <td>1000</td>\n",
       "      <td>2018-12-27</td>\n",
       "      <td>14.48</td>\n",
       "    </tr>\n",
       "    <tr>\n",
       "      <td>3</td>\n",
       "      <td>1000_309</td>\n",
       "      <td>1000</td>\n",
       "      <td>2018-12-28</td>\n",
       "      <td>5.76</td>\n",
       "    </tr>\n",
       "    <tr>\n",
       "      <td>4</td>\n",
       "      <td>1000_380</td>\n",
       "      <td>1000</td>\n",
       "      <td>2018-12-30</td>\n",
       "      <td>4.22</td>\n",
       "    </tr>\n",
       "  </tbody>\n",
       "</table>\n",
       "</div>"
      ],
      "text/plain": [
       "         id  user_id   call_date  duration\n",
       "0   1000_93     1000  2018-12-27      8.52\n",
       "1  1000_145     1000  2018-12-27     13.66\n",
       "2  1000_247     1000  2018-12-27     14.48\n",
       "3  1000_309     1000  2018-12-28      5.76\n",
       "4  1000_380     1000  2018-12-30      4.22"
      ]
     },
     "execution_count": 3,
     "metadata": {},
     "output_type": "execute_result"
    }
   ],
   "source": [
    "calls.head() "
   ]
  },
  {
   "cell_type": "code",
   "execution_count": 4,
   "metadata": {},
   "outputs": [
    {
     "data": {
      "text/html": [
       "<div>\n",
       "<style scoped>\n",
       "    .dataframe tbody tr th:only-of-type {\n",
       "        vertical-align: middle;\n",
       "    }\n",
       "\n",
       "    .dataframe tbody tr th {\n",
       "        vertical-align: top;\n",
       "    }\n",
       "\n",
       "    .dataframe thead th {\n",
       "        text-align: right;\n",
       "    }\n",
       "</style>\n",
       "<table border=\"1\" class=\"dataframe\">\n",
       "  <thead>\n",
       "    <tr style=\"text-align: right;\">\n",
       "      <th></th>\n",
       "      <th>id</th>\n",
       "      <th>user_id</th>\n",
       "      <th>session_date</th>\n",
       "      <th>mb_used</th>\n",
       "    </tr>\n",
       "  </thead>\n",
       "  <tbody>\n",
       "    <tr>\n",
       "      <td>0</td>\n",
       "      <td>1000_13</td>\n",
       "      <td>1000</td>\n",
       "      <td>2018-12-29</td>\n",
       "      <td>89.86</td>\n",
       "    </tr>\n",
       "    <tr>\n",
       "      <td>1</td>\n",
       "      <td>1000_204</td>\n",
       "      <td>1000</td>\n",
       "      <td>2018-12-31</td>\n",
       "      <td>0.00</td>\n",
       "    </tr>\n",
       "    <tr>\n",
       "      <td>2</td>\n",
       "      <td>1000_379</td>\n",
       "      <td>1000</td>\n",
       "      <td>2018-12-28</td>\n",
       "      <td>660.40</td>\n",
       "    </tr>\n",
       "    <tr>\n",
       "      <td>3</td>\n",
       "      <td>1000_413</td>\n",
       "      <td>1000</td>\n",
       "      <td>2018-12-26</td>\n",
       "      <td>270.99</td>\n",
       "    </tr>\n",
       "    <tr>\n",
       "      <td>4</td>\n",
       "      <td>1000_442</td>\n",
       "      <td>1000</td>\n",
       "      <td>2018-12-27</td>\n",
       "      <td>880.22</td>\n",
       "    </tr>\n",
       "  </tbody>\n",
       "</table>\n",
       "</div>"
      ],
      "text/plain": [
       "         id  user_id session_date  mb_used\n",
       "0   1000_13     1000   2018-12-29    89.86\n",
       "1  1000_204     1000   2018-12-31     0.00\n",
       "2  1000_379     1000   2018-12-28   660.40\n",
       "3  1000_413     1000   2018-12-26   270.99\n",
       "4  1000_442     1000   2018-12-27   880.22"
      ]
     },
     "execution_count": 4,
     "metadata": {},
     "output_type": "execute_result"
    }
   ],
   "source": [
    "internet.head()"
   ]
  },
  {
   "cell_type": "code",
   "execution_count": 5,
   "metadata": {},
   "outputs": [
    {
     "data": {
      "text/html": [
       "<div>\n",
       "<style scoped>\n",
       "    .dataframe tbody tr th:only-of-type {\n",
       "        vertical-align: middle;\n",
       "    }\n",
       "\n",
       "    .dataframe tbody tr th {\n",
       "        vertical-align: top;\n",
       "    }\n",
       "\n",
       "    .dataframe thead th {\n",
       "        text-align: right;\n",
       "    }\n",
       "</style>\n",
       "<table border=\"1\" class=\"dataframe\">\n",
       "  <thead>\n",
       "    <tr style=\"text-align: right;\">\n",
       "      <th></th>\n",
       "      <th>id</th>\n",
       "      <th>user_id</th>\n",
       "      <th>message_date</th>\n",
       "    </tr>\n",
       "  </thead>\n",
       "  <tbody>\n",
       "    <tr>\n",
       "      <td>0</td>\n",
       "      <td>1000_125</td>\n",
       "      <td>1000</td>\n",
       "      <td>2018-12-27</td>\n",
       "    </tr>\n",
       "    <tr>\n",
       "      <td>1</td>\n",
       "      <td>1000_160</td>\n",
       "      <td>1000</td>\n",
       "      <td>2018-12-31</td>\n",
       "    </tr>\n",
       "    <tr>\n",
       "      <td>2</td>\n",
       "      <td>1000_223</td>\n",
       "      <td>1000</td>\n",
       "      <td>2018-12-31</td>\n",
       "    </tr>\n",
       "    <tr>\n",
       "      <td>3</td>\n",
       "      <td>1000_251</td>\n",
       "      <td>1000</td>\n",
       "      <td>2018-12-27</td>\n",
       "    </tr>\n",
       "    <tr>\n",
       "      <td>4</td>\n",
       "      <td>1000_255</td>\n",
       "      <td>1000</td>\n",
       "      <td>2018-12-26</td>\n",
       "    </tr>\n",
       "  </tbody>\n",
       "</table>\n",
       "</div>"
      ],
      "text/plain": [
       "         id  user_id message_date\n",
       "0  1000_125     1000   2018-12-27\n",
       "1  1000_160     1000   2018-12-31\n",
       "2  1000_223     1000   2018-12-31\n",
       "3  1000_251     1000   2018-12-27\n",
       "4  1000_255     1000   2018-12-26"
      ]
     },
     "execution_count": 5,
     "metadata": {},
     "output_type": "execute_result"
    }
   ],
   "source": [
    "messages.head()"
   ]
  },
  {
   "cell_type": "code",
   "execution_count": 6,
   "metadata": {},
   "outputs": [
    {
     "data": {
      "text/html": [
       "<div>\n",
       "<style scoped>\n",
       "    .dataframe tbody tr th:only-of-type {\n",
       "        vertical-align: middle;\n",
       "    }\n",
       "\n",
       "    .dataframe tbody tr th {\n",
       "        vertical-align: top;\n",
       "    }\n",
       "\n",
       "    .dataframe thead th {\n",
       "        text-align: right;\n",
       "    }\n",
       "</style>\n",
       "<table border=\"1\" class=\"dataframe\">\n",
       "  <thead>\n",
       "    <tr style=\"text-align: right;\">\n",
       "      <th></th>\n",
       "      <th>messages_included</th>\n",
       "      <th>mb_per_month_included</th>\n",
       "      <th>minutes_included</th>\n",
       "      <th>usd_monthly_pay</th>\n",
       "      <th>usd_per_gb</th>\n",
       "      <th>usd_per_message</th>\n",
       "      <th>usd_per_minute</th>\n",
       "      <th>plan_name</th>\n",
       "    </tr>\n",
       "  </thead>\n",
       "  <tbody>\n",
       "    <tr>\n",
       "      <td>0</td>\n",
       "      <td>50</td>\n",
       "      <td>15360</td>\n",
       "      <td>500</td>\n",
       "      <td>20</td>\n",
       "      <td>10</td>\n",
       "      <td>0.03</td>\n",
       "      <td>0.03</td>\n",
       "      <td>surf</td>\n",
       "    </tr>\n",
       "    <tr>\n",
       "      <td>1</td>\n",
       "      <td>1000</td>\n",
       "      <td>30720</td>\n",
       "      <td>3000</td>\n",
       "      <td>70</td>\n",
       "      <td>7</td>\n",
       "      <td>0.01</td>\n",
       "      <td>0.01</td>\n",
       "      <td>ultimate</td>\n",
       "    </tr>\n",
       "  </tbody>\n",
       "</table>\n",
       "</div>"
      ],
      "text/plain": [
       "   messages_included  mb_per_month_included  minutes_included  \\\n",
       "0                 50                  15360               500   \n",
       "1               1000                  30720              3000   \n",
       "\n",
       "   usd_monthly_pay  usd_per_gb  usd_per_message  usd_per_minute plan_name  \n",
       "0               20          10             0.03            0.03      surf  \n",
       "1               70           7             0.01            0.01  ultimate  "
      ]
     },
     "execution_count": 6,
     "metadata": {},
     "output_type": "execute_result"
    }
   ],
   "source": [
    "plans"
   ]
  },
  {
   "cell_type": "code",
   "execution_count": 7,
   "metadata": {},
   "outputs": [
    {
     "data": {
      "text/html": [
       "<div>\n",
       "<style scoped>\n",
       "    .dataframe tbody tr th:only-of-type {\n",
       "        vertical-align: middle;\n",
       "    }\n",
       "\n",
       "    .dataframe tbody tr th {\n",
       "        vertical-align: top;\n",
       "    }\n",
       "\n",
       "    .dataframe thead th {\n",
       "        text-align: right;\n",
       "    }\n",
       "</style>\n",
       "<table border=\"1\" class=\"dataframe\">\n",
       "  <thead>\n",
       "    <tr style=\"text-align: right;\">\n",
       "      <th></th>\n",
       "      <th>user_id</th>\n",
       "      <th>first_name</th>\n",
       "      <th>last_name</th>\n",
       "      <th>age</th>\n",
       "      <th>city</th>\n",
       "      <th>reg_date</th>\n",
       "      <th>plan</th>\n",
       "      <th>churn_date</th>\n",
       "    </tr>\n",
       "  </thead>\n",
       "  <tbody>\n",
       "    <tr>\n",
       "      <td>0</td>\n",
       "      <td>1000</td>\n",
       "      <td>Anamaria</td>\n",
       "      <td>Bauer</td>\n",
       "      <td>45</td>\n",
       "      <td>Atlanta-Sandy Springs-Roswell, GA MSA</td>\n",
       "      <td>2018-12-24</td>\n",
       "      <td>ultimate</td>\n",
       "      <td>NaN</td>\n",
       "    </tr>\n",
       "    <tr>\n",
       "      <td>1</td>\n",
       "      <td>1001</td>\n",
       "      <td>Mickey</td>\n",
       "      <td>Wilkerson</td>\n",
       "      <td>28</td>\n",
       "      <td>Seattle-Tacoma-Bellevue, WA MSA</td>\n",
       "      <td>2018-08-13</td>\n",
       "      <td>surf</td>\n",
       "      <td>NaN</td>\n",
       "    </tr>\n",
       "    <tr>\n",
       "      <td>2</td>\n",
       "      <td>1002</td>\n",
       "      <td>Carlee</td>\n",
       "      <td>Hoffman</td>\n",
       "      <td>36</td>\n",
       "      <td>Las Vegas-Henderson-Paradise, NV MSA</td>\n",
       "      <td>2018-10-21</td>\n",
       "      <td>surf</td>\n",
       "      <td>NaN</td>\n",
       "    </tr>\n",
       "    <tr>\n",
       "      <td>3</td>\n",
       "      <td>1003</td>\n",
       "      <td>Reynaldo</td>\n",
       "      <td>Jenkins</td>\n",
       "      <td>52</td>\n",
       "      <td>Tulsa, OK MSA</td>\n",
       "      <td>2018-01-28</td>\n",
       "      <td>surf</td>\n",
       "      <td>NaN</td>\n",
       "    </tr>\n",
       "    <tr>\n",
       "      <td>4</td>\n",
       "      <td>1004</td>\n",
       "      <td>Leonila</td>\n",
       "      <td>Thompson</td>\n",
       "      <td>40</td>\n",
       "      <td>Seattle-Tacoma-Bellevue, WA MSA</td>\n",
       "      <td>2018-05-23</td>\n",
       "      <td>surf</td>\n",
       "      <td>NaN</td>\n",
       "    </tr>\n",
       "  </tbody>\n",
       "</table>\n",
       "</div>"
      ],
      "text/plain": [
       "   user_id first_name  last_name  age                                   city  \\\n",
       "0     1000   Anamaria      Bauer   45  Atlanta-Sandy Springs-Roswell, GA MSA   \n",
       "1     1001     Mickey  Wilkerson   28        Seattle-Tacoma-Bellevue, WA MSA   \n",
       "2     1002     Carlee    Hoffman   36   Las Vegas-Henderson-Paradise, NV MSA   \n",
       "3     1003   Reynaldo    Jenkins   52                          Tulsa, OK MSA   \n",
       "4     1004    Leonila   Thompson   40        Seattle-Tacoma-Bellevue, WA MSA   \n",
       "\n",
       "     reg_date      plan churn_date  \n",
       "0  2018-12-24  ultimate        NaN  \n",
       "1  2018-08-13      surf        NaN  \n",
       "2  2018-10-21      surf        NaN  \n",
       "3  2018-01-28      surf        NaN  \n",
       "4  2018-05-23      surf        NaN  "
      ]
     },
     "execution_count": 7,
     "metadata": {},
     "output_type": "execute_result"
    }
   ],
   "source": [
    "users.head()"
   ]
  },
  {
   "cell_type": "markdown",
   "metadata": {},
   "source": [
    "\\The users table (data on users):\n",
    "* <strong><em>user_id</em></strong> - unique user identifier\n",
    "* <strong><em>first_name</em></strong> - user's name\n",
    "* <strong><em>last_name</em></strong> - user's last name\n",
    "* <strong><em>age</em></strong> - user's age (years)\n",
    "* <strong><em>reg_date</em></strong> - subscription date (dd, mm, yy)\n",
    "* <strong><em>churn_date</em></strong> - the date the user stopped using the service (if the value is missing, the calling plan was being used when this data was retrieved)\n",
    "* <strong><em>city</em></strong> - user's city of residence\n",
    "* <strong><em>plan</em></strong> - calling plan name\n",
    "\n",
    "The calls table (data on calls):\n",
    "* <strong><em>id</em></strong> - unique call identifier\n",
    "* <strong><em>call_date</em></strong> - call date\n",
    "* <strong><em>duration</em></strong> - call duration (in minutes)\n",
    "* <strong><em>user_id</em></strong> - the identifier of the user making the call\n",
    "\n",
    "The messages table (data on texts):\n",
    "* <strong><em>id</em></strong> - unique text message identifier\n",
    "* <strong><em>message_date</em></strong> - text message date\n",
    "* <strong><em>user_id</em></strong> - the identifier of the user sending the text\n",
    "\n",
    "The internet table (data on web sessions):\n",
    "* <strong><em>id</em></strong> - unique session identifier\n",
    "* <strong><em>mb_used</em></strong> - the volume of data spent during the session (in megabytes)\n",
    "* <strong><em>session_date</em></strong> - web session date\n",
    "* <strong><em>user_id</em></strong> - user identifier\n",
    "\n",
    "The plans table (data on the plans):\n",
    "* <strong><em>plan_name</em></strong> - calling plan name\n",
    "* <strong><em>usd_monthly_fee</em></strong> - monthly charge in US dollars\n",
    "* <strong><em>minutes_included</em></strong> - monthly minute allowance\n",
    "* <strong><em>messages_included</em></strong> - monthly text allowance\n",
    "* <strong><em>mb_per_month_included</em></strong> - data volume allowance (in megabytes)\n",
    "* <strong><em>usd_per_minute</em></strong> - price per minute after exceeding the package limits (e.g., if the package includes 100 minutes, the 101st minute will be charged)\n",
    "* <strong><em>usd_per_message</em></strong> - price per text after exceeding the package limits\n",
    "* <strong><em>usd_per_gb</em></strong> - price per extra gigabyte of data after exceeding the package limits (1 GB = 1024 megabytes)"
   ]
  },
  {
   "cell_type": "markdown",
   "metadata": {},
   "source": [
    "<div class=\"alert alert-success\" role=\"alert\">\n",
    "Reviewer's comment v. 1:\n",
    "    \n",
    "Good job that you described each of the field in data in details.\n",
    "</div>"
   ]
  },
  {
   "cell_type": "markdown",
   "metadata": {},
   "source": [
    "## Task 2"
   ]
  },
  {
   "cell_type": "markdown",
   "metadata": {},
   "source": [
    "**Find and eliminate errors in the data**\n",
    "\n",
    "In general, the data do not contain errors other than the fact that sometimes the duration of the call is 0 minutes and and volume of data is 0. This can be due to the fact that sometimes the line is busy, or a customer called and hung up before receiving the call on the other side. I decided to delete them anyway so as not to affect the amount of actual calls and the amount of internet users."
   ]
  },
  {
   "cell_type": "code",
   "execution_count": 8,
   "metadata": {},
   "outputs": [
    {
     "data": {
      "text/html": [
       "<div>\n",
       "<style scoped>\n",
       "    .dataframe tbody tr th:only-of-type {\n",
       "        vertical-align: middle;\n",
       "    }\n",
       "\n",
       "    .dataframe tbody tr th {\n",
       "        vertical-align: top;\n",
       "    }\n",
       "\n",
       "    .dataframe thead th {\n",
       "        text-align: right;\n",
       "    }\n",
       "</style>\n",
       "<table border=\"1\" class=\"dataframe\">\n",
       "  <thead>\n",
       "    <tr style=\"text-align: right;\">\n",
       "      <th></th>\n",
       "      <th>id</th>\n",
       "      <th>user_id</th>\n",
       "      <th>call_date</th>\n",
       "      <th>duration</th>\n",
       "    </tr>\n",
       "  </thead>\n",
       "  <tbody>\n",
       "    <tr>\n",
       "      <td>19</td>\n",
       "      <td>1001_4</td>\n",
       "      <td>1001</td>\n",
       "      <td>2018-12-05</td>\n",
       "      <td>0.0</td>\n",
       "    </tr>\n",
       "    <tr>\n",
       "      <td>25</td>\n",
       "      <td>1001_13</td>\n",
       "      <td>1001</td>\n",
       "      <td>2018-12-24</td>\n",
       "      <td>0.0</td>\n",
       "    </tr>\n",
       "    <tr>\n",
       "      <td>31</td>\n",
       "      <td>1001_30</td>\n",
       "      <td>1001</td>\n",
       "      <td>2018-10-17</td>\n",
       "      <td>0.0</td>\n",
       "    </tr>\n",
       "    <tr>\n",
       "      <td>32</td>\n",
       "      <td>1001_31</td>\n",
       "      <td>1001</td>\n",
       "      <td>2018-11-03</td>\n",
       "      <td>0.0</td>\n",
       "    </tr>\n",
       "    <tr>\n",
       "      <td>34</td>\n",
       "      <td>1001_35</td>\n",
       "      <td>1001</td>\n",
       "      <td>2018-12-21</td>\n",
       "      <td>0.0</td>\n",
       "    </tr>\n",
       "    <tr>\n",
       "      <td>...</td>\n",
       "      <td>...</td>\n",
       "      <td>...</td>\n",
       "      <td>...</td>\n",
       "      <td>...</td>\n",
       "    </tr>\n",
       "    <tr>\n",
       "      <td>137714</td>\n",
       "      <td>1499_183</td>\n",
       "      <td>1499</td>\n",
       "      <td>2018-11-10</td>\n",
       "      <td>0.0</td>\n",
       "    </tr>\n",
       "    <tr>\n",
       "      <td>137715</td>\n",
       "      <td>1499_184</td>\n",
       "      <td>1499</td>\n",
       "      <td>2018-09-15</td>\n",
       "      <td>0.0</td>\n",
       "    </tr>\n",
       "    <tr>\n",
       "      <td>137720</td>\n",
       "      <td>1499_189</td>\n",
       "      <td>1499</td>\n",
       "      <td>2018-12-27</td>\n",
       "      <td>0.0</td>\n",
       "    </tr>\n",
       "    <tr>\n",
       "      <td>137722</td>\n",
       "      <td>1499_191</td>\n",
       "      <td>1499</td>\n",
       "      <td>2018-12-24</td>\n",
       "      <td>0.0</td>\n",
       "    </tr>\n",
       "    <tr>\n",
       "      <td>137725</td>\n",
       "      <td>1499_194</td>\n",
       "      <td>1499</td>\n",
       "      <td>2018-10-31</td>\n",
       "      <td>0.0</td>\n",
       "    </tr>\n",
       "  </tbody>\n",
       "</table>\n",
       "<p>26834 rows × 4 columns</p>\n",
       "</div>"
      ],
      "text/plain": [
       "              id  user_id   call_date  duration\n",
       "19        1001_4     1001  2018-12-05       0.0\n",
       "25       1001_13     1001  2018-12-24       0.0\n",
       "31       1001_30     1001  2018-10-17       0.0\n",
       "32       1001_31     1001  2018-11-03       0.0\n",
       "34       1001_35     1001  2018-12-21       0.0\n",
       "...          ...      ...         ...       ...\n",
       "137714  1499_183     1499  2018-11-10       0.0\n",
       "137715  1499_184     1499  2018-09-15       0.0\n",
       "137720  1499_189     1499  2018-12-27       0.0\n",
       "137722  1499_191     1499  2018-12-24       0.0\n",
       "137725  1499_194     1499  2018-10-31       0.0\n",
       "\n",
       "[26834 rows x 4 columns]"
      ]
     },
     "execution_count": 8,
     "metadata": {},
     "output_type": "execute_result"
    }
   ],
   "source": [
    "#Query call duration 0 minutes\n",
    "calls.query('duration==0')"
   ]
  },
  {
   "cell_type": "code",
   "execution_count": 9,
   "metadata": {},
   "outputs": [],
   "source": [
    "#Deleting the rows that contain 0 minutes call duration\n",
    "calls.drop(calls[calls.duration==0].index, inplace=True)"
   ]
  },
  {
   "cell_type": "markdown",
   "metadata": {},
   "source": [
    "<div class=\"alert alert-danger\" role=\"alert\">\n",
    "Reviewer's comment v. 1:\n",
    "    \n",
    "Could you please check data for an anomalies? What is a possible reason of zero duration calls and internet usage?\n",
    "</div>"
   ]
  },
  {
   "cell_type": "markdown",
   "metadata": {},
   "source": [
    "<div class=\"alert alert-info\" style=\"border:solid blue 2px; padding: 20px\"> <b>Student comment:</b> Sorry, I'm not realy sure I understood the first question. For the second question, I wrote at the beginning of the task (Task 2) what could be the reasons for having 0 duration calls, and because it does not contribute anything for the next analysis I chose to take these out of the equetion. The possible reasons why there is 0 internet usege could be vary, like: a customer's phone does not support an internet connection due to various reasons, or there is no internet reception where he is located, or he just does not know how to use this service or does not need it. etc... </div>"
   ]
  },
  {
   "cell_type": "markdown",
   "metadata": {},
   "source": [
    "<div class=\"alert alert-success\" role=\"alert\">\n",
    "Reviewer's comment v. 2:\n",
    "    \n",
    "The first question is about zero values of duration calls and internet usage. These questions are connected :)\n",
    "    \n",
    "Yes, you have made a reasonable explanations of zero values. Good job!\n",
    "</div>"
   ]
  },
  {
   "cell_type": "code",
   "execution_count": 10,
   "metadata": {},
   "outputs": [
    {
     "data": {
      "text/html": [
       "<div>\n",
       "<style scoped>\n",
       "    .dataframe tbody tr th:only-of-type {\n",
       "        vertical-align: middle;\n",
       "    }\n",
       "\n",
       "    .dataframe tbody tr th {\n",
       "        vertical-align: top;\n",
       "    }\n",
       "\n",
       "    .dataframe thead th {\n",
       "        text-align: right;\n",
       "    }\n",
       "</style>\n",
       "<table border=\"1\" class=\"dataframe\">\n",
       "  <thead>\n",
       "    <tr style=\"text-align: right;\">\n",
       "      <th></th>\n",
       "      <th>id</th>\n",
       "      <th>user_id</th>\n",
       "      <th>session_date</th>\n",
       "      <th>mb_used</th>\n",
       "    </tr>\n",
       "  </thead>\n",
       "  <tbody>\n",
       "    <tr>\n",
       "      <td>1</td>\n",
       "      <td>1000_204</td>\n",
       "      <td>1000</td>\n",
       "      <td>2018-12-31</td>\n",
       "      <td>0.0</td>\n",
       "    </tr>\n",
       "    <tr>\n",
       "      <td>14</td>\n",
       "      <td>1001_26</td>\n",
       "      <td>1001</td>\n",
       "      <td>2018-09-17</td>\n",
       "      <td>0.0</td>\n",
       "    </tr>\n",
       "    <tr>\n",
       "      <td>16</td>\n",
       "      <td>1001_28</td>\n",
       "      <td>1001</td>\n",
       "      <td>2018-10-17</td>\n",
       "      <td>0.0</td>\n",
       "    </tr>\n",
       "    <tr>\n",
       "      <td>34</td>\n",
       "      <td>1001_54</td>\n",
       "      <td>1001</td>\n",
       "      <td>2018-09-02</td>\n",
       "      <td>0.0</td>\n",
       "    </tr>\n",
       "    <tr>\n",
       "      <td>43</td>\n",
       "      <td>1001_77</td>\n",
       "      <td>1001</td>\n",
       "      <td>2018-10-31</td>\n",
       "      <td>0.0</td>\n",
       "    </tr>\n",
       "    <tr>\n",
       "      <td>...</td>\n",
       "      <td>...</td>\n",
       "      <td>...</td>\n",
       "      <td>...</td>\n",
       "      <td>...</td>\n",
       "    </tr>\n",
       "    <tr>\n",
       "      <td>104797</td>\n",
       "      <td>1499_192</td>\n",
       "      <td>1499</td>\n",
       "      <td>2018-09-19</td>\n",
       "      <td>0.0</td>\n",
       "    </tr>\n",
       "    <tr>\n",
       "      <td>104804</td>\n",
       "      <td>1499_199</td>\n",
       "      <td>1499</td>\n",
       "      <td>2018-12-09</td>\n",
       "      <td>0.0</td>\n",
       "    </tr>\n",
       "    <tr>\n",
       "      <td>104816</td>\n",
       "      <td>1499_211</td>\n",
       "      <td>1499</td>\n",
       "      <td>2018-09-26</td>\n",
       "      <td>0.0</td>\n",
       "    </tr>\n",
       "    <tr>\n",
       "      <td>104817</td>\n",
       "      <td>1499_212</td>\n",
       "      <td>1499</td>\n",
       "      <td>2018-09-11</td>\n",
       "      <td>0.0</td>\n",
       "    </tr>\n",
       "    <tr>\n",
       "      <td>104823</td>\n",
       "      <td>1499_218</td>\n",
       "      <td>1499</td>\n",
       "      <td>2018-12-07</td>\n",
       "      <td>0.0</td>\n",
       "    </tr>\n",
       "  </tbody>\n",
       "</table>\n",
       "<p>13747 rows × 4 columns</p>\n",
       "</div>"
      ],
      "text/plain": [
       "              id  user_id session_date  mb_used\n",
       "1       1000_204     1000   2018-12-31      0.0\n",
       "14       1001_26     1001   2018-09-17      0.0\n",
       "16       1001_28     1001   2018-10-17      0.0\n",
       "34       1001_54     1001   2018-09-02      0.0\n",
       "43       1001_77     1001   2018-10-31      0.0\n",
       "...          ...      ...          ...      ...\n",
       "104797  1499_192     1499   2018-09-19      0.0\n",
       "104804  1499_199     1499   2018-12-09      0.0\n",
       "104816  1499_211     1499   2018-09-26      0.0\n",
       "104817  1499_212     1499   2018-09-11      0.0\n",
       "104823  1499_218     1499   2018-12-07      0.0\n",
       "\n",
       "[13747 rows x 4 columns]"
      ]
     },
     "execution_count": 10,
     "metadata": {},
     "output_type": "execute_result"
    }
   ],
   "source": [
    "#Query internet volume is 0\n",
    "internet.query('mb_used==0')"
   ]
  },
  {
   "cell_type": "code",
   "execution_count": 11,
   "metadata": {},
   "outputs": [],
   "source": [
    "#Deleting the rows that contain 0 mb_used\n",
    "internet.drop(internet[internet.mb_used==0].index, inplace=True)"
   ]
  },
  {
   "cell_type": "markdown",
   "metadata": {},
   "source": [
    "**For each user, find:**\n",
    "* The number of calls made and minutes used per month\n",
    "* The number of text messages sent per month\n",
    "* The volume of data per month\n",
    "* The monthly revenue from each user (subtract the free package limit from the total number of calls, text messages, and data; multiply the result by the calling plan value; add the monthly charge depending on the calling plan)\n",
    "\n",
    "In order to find all the values, each table must be arranged according to the requirements:"
   ]
  },
  {
   "cell_type": "markdown",
   "metadata": {},
   "source": [
    "**a. Arrange calls table according user_id:** \n",
    "* Round the call minutes up for each call\n",
    "* Change the date type to 'datetime' and add a month column to know in which month each call was made for each customer\n",
    "* Create a new table (pivot) that contains only the relevant values and sort it by user_id and month\n",
    "* Apply additional methods to obtain a table from which data can be extracted"
   ]
  },
  {
   "cell_type": "markdown",
   "metadata": {},
   "source": [
    "<div class=\"alert alert-success\" role=\"alert\">\n",
    "Reviewer's comment v. 1:\n",
    "    \n",
    "Ok :)\n",
    "</div>"
   ]
  },
  {
   "cell_type": "code",
   "execution_count": 12,
   "metadata": {},
   "outputs": [],
   "source": [
    "#Arrange calls table according user_id:\n",
    "\n",
    "#Round the call minutes up for each call\n",
    "calls['duration']=calls['duration'].apply(np.ceil).astype(int)\n",
    "\n",
    "#Change the date type to 'datetime'\n",
    "calls['call_date']=pd.to_datetime(calls['call_date'], format='%Y-%m-%d')\n",
    "\n",
    "#Add new column contains month\n",
    "calls['month']=pd.DatetimeIndex(calls['call_date']).month\n",
    "\n",
    "#Create pivot_table in order to count and sum values per user_id per month\n",
    "df_calls=calls.pivot_table(index=['user_id', 'month'], values=['id', 'duration'], aggfunc=['count','sum'])"
   ]
  },
  {
   "cell_type": "code",
   "execution_count": 13,
   "metadata": {},
   "outputs": [],
   "source": [
    "#Change the names columns in order to reset index of pivot_table\n",
    "df_calls.columns = [\"_\".join((j,i)) for i,j in df_calls.columns]"
   ]
  },
  {
   "cell_type": "code",
   "execution_count": 14,
   "metadata": {},
   "outputs": [],
   "source": [
    "#Reset index of pivot_table\n",
    "df_calls=df_calls.reset_index()"
   ]
  },
  {
   "cell_type": "code",
   "execution_count": 15,
   "metadata": {},
   "outputs": [],
   "source": [
    "#Deleting duration_count column because it is not needed\n",
    "df_calls.drop('duration_count',axis='columns', inplace=True)"
   ]
  },
  {
   "cell_type": "code",
   "execution_count": 16,
   "metadata": {},
   "outputs": [],
   "source": [
    "#Rename columns for convenience\n",
    "df_calls=df_calls.rename(columns={'id_count':'total_calls', 'duration_sum':'duration'})"
   ]
  },
  {
   "cell_type": "markdown",
   "metadata": {},
   "source": [
    "<div class=\"alert alert-success\" role=\"alert\">\n",
    "Reviewer's comment v. 1:\n",
    "    \n",
    "Yes, renaming columns is a good idea.\n",
    "</div>"
   ]
  },
  {
   "cell_type": "markdown",
   "metadata": {},
   "source": [
    "**b. Arrange the messages table according user_id:**\n",
    "* Change the date type to 'datetime' and add a month column to know in which month each message was send for each customer\n",
    "* Create a new table (pivot) that contains only the relevant values and sort it by user_id and month\n",
    "* Apply additional methods to obtain a table from which data can be extracted"
   ]
  },
  {
   "cell_type": "code",
   "execution_count": 17,
   "metadata": {},
   "outputs": [],
   "source": [
    "#Change the date type to 'datetime'\n",
    "messages['message_date']=pd.to_datetime(messages['message_date'], format='%Y-%m-%d')\n",
    "\n",
    "#Add new column contains month\n",
    "messages['month']=pd.DatetimeIndex(messages['message_date']).month\n",
    "\n",
    "#Create pivot_table in order to count and sum values per user_id per month\n",
    "df_messages=messages.pivot_table(index=['user_id', 'month'], values='id', aggfunc='count').reset_index()"
   ]
  },
  {
   "cell_type": "code",
   "execution_count": 18,
   "metadata": {},
   "outputs": [],
   "source": [
    "#Rename columns for convenience\n",
    "df_messages=df_messages.rename(columns={'id':'messages'})"
   ]
  },
  {
   "cell_type": "markdown",
   "metadata": {},
   "source": [
    "**c. Arrange internet table according user_id:**\n",
    "* Change the date type to 'datetime' and add a month column to know in which month what was the consumption of surfing volume per customer\n",
    "* Create a new table (pivot) that contains only the relevant values and sort it by user_id and month\n",
    "* Conversion MB to GB for each customer per month and round the GB up for each month\n",
    "* Apply additional methods to obtain a table from which data can be extracted"
   ]
  },
  {
   "cell_type": "code",
   "execution_count": 19,
   "metadata": {},
   "outputs": [],
   "source": [
    "#Change the date type to 'datetime'\n",
    "internet['session_date']=pd.to_datetime(internet['session_date'], format='%Y-%m-%d')\n",
    "\n",
    "#Add new column contains month\n",
    "internet['month']=pd.DatetimeIndex(internet['session_date']).month\n",
    "\n",
    "#Create pivot_table in order to count and sum values per user_id per month\n",
    "df_internet=internet.pivot_table(index=['user_id', 'month'], values='mb_used', aggfunc='sum').reset_index()"
   ]
  },
  {
   "cell_type": "code",
   "execution_count": 20,
   "metadata": {},
   "outputs": [],
   "source": [
    "#Conversion MB to GB and round the GB up for each month\n",
    "df_internet['gb_used']=(df_internet['mb_used']/1024).apply(np.ceil).astype(int)"
   ]
  },
  {
   "cell_type": "markdown",
   "metadata": {},
   "source": [
    "<div class=\"alert alert-success\" role=\"alert\">\n",
    "Reviewer's comment v. 1:\n",
    "    \n",
    "Well done that you have taken into accoun that 1 Gb = 1024 Mb.\n",
    "</div>"
   ]
  },
  {
   "cell_type": "code",
   "execution_count": 21,
   "metadata": {},
   "outputs": [],
   "source": [
    "#Deleting duration_count column because it is not needed \n",
    "#And because mb_used is used for the calculation before, I created a new table\n",
    "df_internet1=df_internet.drop('mb_used', axis='columns')"
   ]
  },
  {
   "cell_type": "markdown",
   "metadata": {},
   "source": [
    "**d. Merge**\n",
    "\n",
    "After arranging all the tables, merge the tables together into one table when the common to all tables will be a month and user_id\n",
    "\n",
    "In addition, the data plans and city are extracted from the users table and their combination to the merged table"
   ]
  },
  {
   "cell_type": "code",
   "execution_count": 22,
   "metadata": {},
   "outputs": [],
   "source": [
    "#Merge the tables: df_calls, df_messages and df_internet1\n",
    "to_merge=[df_calls, df_messages, df_internet1]\n",
    "df=reduce(lambda left,right: pd.merge(left,right,on=['user_id', 'month'], how='outer'), to_merge).fillna(0)"
   ]
  },
  {
   "cell_type": "code",
   "execution_count": 23,
   "metadata": {},
   "outputs": [],
   "source": [
    "#Create table contains the plans and city for each user_id\n",
    "df_users=users.drop(['first_name', 'last_name', 'age', 'reg_date', 'churn_date'], axis='columns')"
   ]
  },
  {
   "cell_type": "code",
   "execution_count": 24,
   "metadata": {},
   "outputs": [],
   "source": [
    "#Create new table contains merge df_users to df \n",
    "df1=pd.merge(left=df, right=df_users, how='outer', on='user_id')"
   ]
  },
  {
   "cell_type": "code",
   "execution_count": 25,
   "metadata": {},
   "outputs": [],
   "source": [
    "df1=df1.dropna()"
   ]
  },
  {
   "cell_type": "markdown",
   "metadata": {},
   "source": [
    "**df1** is the new and final table that contains all the data we will need later for the analysis of the data and the examination of the research question."
   ]
  },
  {
   "cell_type": "markdown",
   "metadata": {},
   "source": [
    "<div class=\"alert alert-danger\" role=\"alert\">\n",
    "Reviewer's comment v. 1:\n",
    "    \n",
    "Could you please clarify we you have used .fillna(0) here?\n",
    "</div>"
   ]
  },
  {
   "cell_type": "markdown",
   "metadata": {},
   "source": [
    "<div class=\"alert alert-info\" style=\"border:solid blue 2px; padding: 20px\"> <b>Student comment:</b> Yes, you are absolutely right! I was supposed to remove all those who are considered subscribed customers but had no activity. I revised it. Thx 😊</div>"
   ]
  },
  {
   "cell_type": "markdown",
   "metadata": {},
   "source": [
    "<div class=\"alert alert-success\" role=\"alert\">\n",
    "Reviewer's comment v. 2:\n",
    "    \n",
    "👍👍👍\n",
    "</div>"
   ]
  },
  {
   "cell_type": "markdown",
   "metadata": {},
   "source": [
    "**e. Monthly income from each customer**\n",
    "\n",
    "According to plans table containing the conditions of each plan, it is necessary to calculate the monthly revenue of the company from each registered customer. For this purpose, I will use the plans table and together with it I will create a function that receives a row of customer and returns the total cost of the plan per month."
   ]
  },
  {
   "cell_type": "code",
   "execution_count": 26,
   "metadata": {},
   "outputs": [],
   "source": [
    "def revenue(row):\n",
    "\n",
    "    plan=row['plan']\n",
    "    duration=row['duration']\n",
    "    messages=row['messages']\n",
    "    gb_used=row['gb_used']\n",
    "    cost_duration=0\n",
    "    cost_messages=0\n",
    "    cost_gb=0\n",
    "    total_cost=0\n",
    "    \n",
    "    if plan == 'surf':\n",
    "        if duration > plans['minutes_included'].loc[0]:\n",
    "            cost_duration = (duration-plans['minutes_included'].loc[0])*plans['usd_per_minute'].loc[0]\n",
    "        else:\n",
    "            cost_duration = 0\n",
    "            \n",
    "        if messages > plans['messages_included'].loc[0]:\n",
    "            cost_messages = (messages-plans['messages_included'].loc[0])*plans['usd_per_message'].loc[0]\n",
    "        else:\n",
    "            cost_messages = 0\n",
    "            \n",
    "        if gb_used > (plans['mb_per_month_included'].loc[0])/1024:\n",
    "            cost_gb = (gb_used-(plans['mb_per_month_included'].loc[0])/1024)*plans['usd_per_gb'].loc[0]\n",
    "        else:\n",
    "            cost_gb = 0\n",
    "            \n",
    "        total_cost = 20 + cost_duration + cost_messages + cost_gb\n",
    "        \n",
    "    \n",
    "    else:\n",
    "        if duration > plans['minutes_included'].loc[1]:\n",
    "            cost_duration = (duration-plans['minutes_included'].loc[1])*plans['usd_per_minute'].loc[1]\n",
    "        else:\n",
    "            cost_duration = 0\n",
    "        \n",
    "        if messages > plans['messages_included'].loc[1]:\n",
    "            cost_messages = (messages-plans['messages_included'].loc[1])*plans['usd_per_message'].loc[1]\n",
    "        else:\n",
    "            cost_messages = 0\n",
    "            \n",
    "        if gb_used > (plans['mb_per_month_included'].loc[1])/1024:\n",
    "            cost_gb = (gb_used-(plans['mb_per_month_included'].loc[1])/1024)*plans['usd_per_gb'].loc[1]\n",
    "        else:\n",
    "            cost_gb = 0\n",
    "        \n",
    "        total_cost = 70 + cost_duration + cost_messages + cost_gb\n",
    "    return total_cost   \n",
    "\n",
    "df1['total_cost'] = df1.apply(revenue, axis=1)"
   ]
  },
  {
   "cell_type": "code",
   "execution_count": 27,
   "metadata": {},
   "outputs": [
    {
     "name": "stdout",
     "output_type": "stream",
     "text": [
      "<class 'pandas.core.frame.DataFrame'>\n",
      "Int64Index: 2293 entries, 0 to 2292\n",
      "Data columns (total 9 columns):\n",
      "user_id        2293 non-null int64\n",
      "month          2293 non-null float64\n",
      "total_calls    2293 non-null float64\n",
      "duration       2293 non-null float64\n",
      "messages       2293 non-null float64\n",
      "gb_used        2293 non-null float64\n",
      "city           2293 non-null object\n",
      "plan           2293 non-null object\n",
      "total_cost     2293 non-null float64\n",
      "dtypes: float64(6), int64(1), object(2)\n",
      "memory usage: 179.1+ KB\n"
     ]
    }
   ],
   "source": [
    "#Check the type of each column in order to change them as required\n",
    "df1.info()"
   ]
  },
  {
   "cell_type": "markdown",
   "metadata": {},
   "source": [
    "Columns month, total_calls, duration, messages and gb_used contain integers so it is necessary to change the column type"
   ]
  },
  {
   "cell_type": "code",
   "execution_count": 28,
   "metadata": {},
   "outputs": [],
   "source": [
    "df1['month']=df1['month'].astype(int)\n",
    "df1['total_calls']=df1['total_calls'].astype(int)\n",
    "df1['duration']=df1['duration'].astype(int)\n",
    "df1['messages']=df1['messages'].astype(int)\n",
    "df1['gb_used']=df1['gb_used'].astype(int)"
   ]
  },
  {
   "cell_type": "markdown",
   "metadata": {},
   "source": [
    "**Conclusion:**\n",
    "\n",
    "In this section I first deleted the redundant values (those containing 0) and then arranged each table by resizing, grouping values, adding and removing columns and changing the cell type so that they could be merged together. Once the final table was ready I calculated the cost of the plan for each customer per month and then finally changed the column type according to each value."
   ]
  },
  {
   "cell_type": "markdown",
   "metadata": {},
   "source": [
    "<div class=\"alert alert-success\" role=\"alert\">\n",
    "Reviewer's comment v. 1:\n",
    "    \n",
    "It's great that you brought the data to the desired formats.\n",
    "</div>"
   ]
  },
  {
   "cell_type": "markdown",
   "metadata": {},
   "source": [
    "## Task 3\n",
    "\n",
    "Describe the customers' behavior. Find the minutes, messages, and volume of data the users of each plan require per month. Calculate the mean, dispersion, and standard deviation. Plot histograms.\n",
    "\n",
    "In order to test customers' behavior for each plan it is necessary to split the final table df1 into two tables that each table represents one plan."
   ]
  },
  {
   "cell_type": "code",
   "execution_count": 29,
   "metadata": {},
   "outputs": [],
   "source": [
    "#Create two new tables that each represent one plan: surf=surf, ulti=ultimate\n",
    "df1_surf=df1.query('plan==\"surf\"')\n",
    "df1_ulti=df1.query('plan==\"ultimate\"')"
   ]
  },
  {
   "cell_type": "code",
   "execution_count": 30,
   "metadata": {},
   "outputs": [],
   "source": [
    "#Calculate the mean, dispersion, and standard deviation for df1_surf per month using pivot_table\n",
    "p_surf=df1_surf.pivot_table(index='month', \n",
    "                            values=['duration', 'messages', 'gb_used'], aggfunc=['sum', 'mean', 'std', 'var'])"
   ]
  },
  {
   "cell_type": "code",
   "execution_count": 31,
   "metadata": {},
   "outputs": [],
   "source": [
    "#Change the names columns in order to reset index of pivot_table\n",
    "p_surf.columns = [\"_\".join((j,i)) for i,j in p_surf.columns]"
   ]
  },
  {
   "cell_type": "code",
   "execution_count": 32,
   "metadata": {},
   "outputs": [],
   "source": [
    "#Rester index\n",
    "p_surf=p_surf.reset_index()"
   ]
  },
  {
   "cell_type": "code",
   "execution_count": 33,
   "metadata": {},
   "outputs": [
    {
     "data": {
      "text/html": [
       "<div>\n",
       "<style scoped>\n",
       "    .dataframe tbody tr th:only-of-type {\n",
       "        vertical-align: middle;\n",
       "    }\n",
       "\n",
       "    .dataframe tbody tr th {\n",
       "        vertical-align: top;\n",
       "    }\n",
       "\n",
       "    .dataframe thead th {\n",
       "        text-align: right;\n",
       "    }\n",
       "</style>\n",
       "<table border=\"1\" class=\"dataframe\">\n",
       "  <thead>\n",
       "    <tr style=\"text-align: right;\">\n",
       "      <th></th>\n",
       "      <th>month</th>\n",
       "      <th>duration_sum</th>\n",
       "      <th>gb_used_sum</th>\n",
       "      <th>messages_sum</th>\n",
       "      <th>duration_mean</th>\n",
       "      <th>gb_used_mean</th>\n",
       "      <th>messages_mean</th>\n",
       "      <th>duration_std</th>\n",
       "      <th>gb_used_std</th>\n",
       "      <th>messages_std</th>\n",
       "      <th>duration_var</th>\n",
       "      <th>gb_used_var</th>\n",
       "      <th>messages_var</th>\n",
       "    </tr>\n",
       "  </thead>\n",
       "  <tbody>\n",
       "    <tr>\n",
       "      <td>0</td>\n",
       "      <td>1</td>\n",
       "      <td>406</td>\n",
       "      <td>10</td>\n",
       "      <td>21</td>\n",
       "      <td>203.000000</td>\n",
       "      <td>5.000000</td>\n",
       "      <td>10.500000</td>\n",
       "      <td>125.865007</td>\n",
       "      <td>4.242641</td>\n",
       "      <td>14.849242</td>\n",
       "      <td>15842.000000</td>\n",
       "      <td>18.000000</td>\n",
       "      <td>220.500000</td>\n",
       "    </tr>\n",
       "    <tr>\n",
       "      <td>1</td>\n",
       "      <td>2</td>\n",
       "      <td>2673</td>\n",
       "      <td>110</td>\n",
       "      <td>108</td>\n",
       "      <td>297.000000</td>\n",
       "      <td>12.222222</td>\n",
       "      <td>12.000000</td>\n",
       "      <td>228.531179</td>\n",
       "      <td>6.437736</td>\n",
       "      <td>19.646883</td>\n",
       "      <td>52226.500000</td>\n",
       "      <td>41.444444</td>\n",
       "      <td>386.000000</td>\n",
       "    </tr>\n",
       "    <tr>\n",
       "      <td>2</td>\n",
       "      <td>3</td>\n",
       "      <td>7590</td>\n",
       "      <td>312</td>\n",
       "      <td>351</td>\n",
       "      <td>330.000000</td>\n",
       "      <td>13.565217</td>\n",
       "      <td>15.260870</td>\n",
       "      <td>189.233622</td>\n",
       "      <td>7.999012</td>\n",
       "      <td>18.616262</td>\n",
       "      <td>35809.363636</td>\n",
       "      <td>63.984190</td>\n",
       "      <td>346.565217</td>\n",
       "    </tr>\n",
       "    <tr>\n",
       "      <td>3</td>\n",
       "      <td>4</td>\n",
       "      <td>17577</td>\n",
       "      <td>611</td>\n",
       "      <td>870</td>\n",
       "      <td>351.540000</td>\n",
       "      <td>12.220000</td>\n",
       "      <td>17.400000</td>\n",
       "      <td>225.536567</td>\n",
       "      <td>7.497728</td>\n",
       "      <td>22.396246</td>\n",
       "      <td>50866.743265</td>\n",
       "      <td>56.215918</td>\n",
       "      <td>501.591837</td>\n",
       "    </tr>\n",
       "    <tr>\n",
       "      <td>4</td>\n",
       "      <td>5</td>\n",
       "      <td>30768</td>\n",
       "      <td>1087</td>\n",
       "      <td>1849</td>\n",
       "      <td>399.584416</td>\n",
       "      <td>14.116883</td>\n",
       "      <td>24.012987</td>\n",
       "      <td>244.446763</td>\n",
       "      <td>7.627813</td>\n",
       "      <td>29.106652</td>\n",
       "      <td>59754.219754</td>\n",
       "      <td>58.183527</td>\n",
       "      <td>847.197198</td>\n",
       "    </tr>\n",
       "    <tr>\n",
       "      <td>5</td>\n",
       "      <td>6</td>\n",
       "      <td>41836</td>\n",
       "      <td>1502</td>\n",
       "      <td>2454</td>\n",
       "      <td>431.298969</td>\n",
       "      <td>15.484536</td>\n",
       "      <td>25.298969</td>\n",
       "      <td>213.524304</td>\n",
       "      <td>6.910308</td>\n",
       "      <td>30.247646</td>\n",
       "      <td>45592.628436</td>\n",
       "      <td>47.752363</td>\n",
       "      <td>914.920103</td>\n",
       "    </tr>\n",
       "    <tr>\n",
       "      <td>6</td>\n",
       "      <td>7</td>\n",
       "      <td>54448</td>\n",
       "      <td>2042</td>\n",
       "      <td>3271</td>\n",
       "      <td>449.983471</td>\n",
       "      <td>16.876033</td>\n",
       "      <td>27.033058</td>\n",
       "      <td>246.992105</td>\n",
       "      <td>7.840674</td>\n",
       "      <td>30.395979</td>\n",
       "      <td>61005.099725</td>\n",
       "      <td>61.476171</td>\n",
       "      <td>923.915565</td>\n",
       "    </tr>\n",
       "    <tr>\n",
       "      <td>7</td>\n",
       "      <td>8</td>\n",
       "      <td>66438</td>\n",
       "      <td>2735</td>\n",
       "      <td>4662</td>\n",
       "      <td>410.111111</td>\n",
       "      <td>16.882716</td>\n",
       "      <td>28.777778</td>\n",
       "      <td>233.119381</td>\n",
       "      <td>8.451091</td>\n",
       "      <td>32.086064</td>\n",
       "      <td>54344.645963</td>\n",
       "      <td>71.420942</td>\n",
       "      <td>1029.515528</td>\n",
       "    </tr>\n",
       "    <tr>\n",
       "      <td>8</td>\n",
       "      <td>9</td>\n",
       "      <td>80360</td>\n",
       "      <td>3238</td>\n",
       "      <td>5968</td>\n",
       "      <td>414.226804</td>\n",
       "      <td>16.690722</td>\n",
       "      <td>30.762887</td>\n",
       "      <td>215.860971</td>\n",
       "      <td>7.017167</td>\n",
       "      <td>31.683268</td>\n",
       "      <td>46595.958656</td>\n",
       "      <td>49.240639</td>\n",
       "      <td>1003.829496</td>\n",
       "    </tr>\n",
       "    <tr>\n",
       "      <td>9</td>\n",
       "      <td>10</td>\n",
       "      <td>101846</td>\n",
       "      <td>4126</td>\n",
       "      <td>8020</td>\n",
       "      <td>429.729958</td>\n",
       "      <td>17.409283</td>\n",
       "      <td>33.839662</td>\n",
       "      <td>228.645280</td>\n",
       "      <td>7.792679</td>\n",
       "      <td>35.713663</td>\n",
       "      <td>52278.664056</td>\n",
       "      <td>60.725846</td>\n",
       "      <td>1275.465708</td>\n",
       "    </tr>\n",
       "    <tr>\n",
       "      <td>10</td>\n",
       "      <td>11</td>\n",
       "      <td>119801</td>\n",
       "      <td>4650</td>\n",
       "      <td>9165</td>\n",
       "      <td>423.325088</td>\n",
       "      <td>16.431095</td>\n",
       "      <td>32.385159</td>\n",
       "      <td>227.171789</td>\n",
       "      <td>7.389711</td>\n",
       "      <td>32.639608</td>\n",
       "      <td>51607.021602</td>\n",
       "      <td>54.607824</td>\n",
       "      <td>1065.344034</td>\n",
       "    </tr>\n",
       "    <tr>\n",
       "      <td>11</td>\n",
       "      <td>12</td>\n",
       "      <td>150680</td>\n",
       "      <td>5800</td>\n",
       "      <td>12275</td>\n",
       "      <td>473.836478</td>\n",
       "      <td>18.238994</td>\n",
       "      <td>38.600629</td>\n",
       "      <td>252.248923</td>\n",
       "      <td>8.319305</td>\n",
       "      <td>38.185843</td>\n",
       "      <td>63629.518918</td>\n",
       "      <td>69.210841</td>\n",
       "      <td>1458.158612</td>\n",
       "    </tr>\n",
       "  </tbody>\n",
       "</table>\n",
       "</div>"
      ],
      "text/plain": [
       "    month  duration_sum  gb_used_sum  messages_sum  duration_mean  \\\n",
       "0       1           406           10            21     203.000000   \n",
       "1       2          2673          110           108     297.000000   \n",
       "2       3          7590          312           351     330.000000   \n",
       "3       4         17577          611           870     351.540000   \n",
       "4       5         30768         1087          1849     399.584416   \n",
       "5       6         41836         1502          2454     431.298969   \n",
       "6       7         54448         2042          3271     449.983471   \n",
       "7       8         66438         2735          4662     410.111111   \n",
       "8       9         80360         3238          5968     414.226804   \n",
       "9      10        101846         4126          8020     429.729958   \n",
       "10     11        119801         4650          9165     423.325088   \n",
       "11     12        150680         5800         12275     473.836478   \n",
       "\n",
       "    gb_used_mean  messages_mean  duration_std  gb_used_std  messages_std  \\\n",
       "0       5.000000      10.500000    125.865007     4.242641     14.849242   \n",
       "1      12.222222      12.000000    228.531179     6.437736     19.646883   \n",
       "2      13.565217      15.260870    189.233622     7.999012     18.616262   \n",
       "3      12.220000      17.400000    225.536567     7.497728     22.396246   \n",
       "4      14.116883      24.012987    244.446763     7.627813     29.106652   \n",
       "5      15.484536      25.298969    213.524304     6.910308     30.247646   \n",
       "6      16.876033      27.033058    246.992105     7.840674     30.395979   \n",
       "7      16.882716      28.777778    233.119381     8.451091     32.086064   \n",
       "8      16.690722      30.762887    215.860971     7.017167     31.683268   \n",
       "9      17.409283      33.839662    228.645280     7.792679     35.713663   \n",
       "10     16.431095      32.385159    227.171789     7.389711     32.639608   \n",
       "11     18.238994      38.600629    252.248923     8.319305     38.185843   \n",
       "\n",
       "    duration_var  gb_used_var  messages_var  \n",
       "0   15842.000000    18.000000    220.500000  \n",
       "1   52226.500000    41.444444    386.000000  \n",
       "2   35809.363636    63.984190    346.565217  \n",
       "3   50866.743265    56.215918    501.591837  \n",
       "4   59754.219754    58.183527    847.197198  \n",
       "5   45592.628436    47.752363    914.920103  \n",
       "6   61005.099725    61.476171    923.915565  \n",
       "7   54344.645963    71.420942   1029.515528  \n",
       "8   46595.958656    49.240639   1003.829496  \n",
       "9   52278.664056    60.725846   1275.465708  \n",
       "10  51607.021602    54.607824   1065.344034  \n",
       "11  63629.518918    69.210841   1458.158612  "
      ]
     },
     "execution_count": 33,
     "metadata": {},
     "output_type": "execute_result"
    }
   ],
   "source": [
    "p_surf"
   ]
  },
  {
   "cell_type": "markdown",
   "metadata": {},
   "source": [
    "This table (p_surf) contains the grouped values of the following columns: calls duration, number of messages, as well as data usage per month for the surf plan users. Based on the data it can be seen that the variance for the duration of the call is very large. From this it can be understood that the data distribution specifically for the duration of the call is very wide, and indeed, the duration of the call starts from 0 minutes per month for a particular customer and can reach up to 1500 minutes per month for another customer."
   ]
  },
  {
   "cell_type": "markdown",
   "metadata": {},
   "source": [
    "<div class=\"alert alert-success\" role=\"alert\">\n",
    "Reviewer's comment v. 1:\n",
    "    \n",
    "Ok :)\n",
    "</div>"
   ]
  },
  {
   "cell_type": "code",
   "execution_count": 34,
   "metadata": {},
   "outputs": [],
   "source": [
    "#Calculate the mean, dispersion, and standard deviation for df1_ulti per month using pivot_table\n",
    "p_ulti=df1_ulti.pivot_table(index='month', \n",
    "                            values=['duration', 'messages', 'gb_used'], aggfunc=['sum', 'mean', 'std', 'var'])"
   ]
  },
  {
   "cell_type": "code",
   "execution_count": 35,
   "metadata": {},
   "outputs": [],
   "source": [
    "#Change the names columns in order to reset index of pivot_table\n",
    "p_ulti.columns = [\"_\".join((j,i)) for i,j in p_ulti.columns]"
   ]
  },
  {
   "cell_type": "code",
   "execution_count": 36,
   "metadata": {},
   "outputs": [],
   "source": [
    "#Rester index\n",
    "p_ulti=p_ulti.reset_index()"
   ]
  },
  {
   "cell_type": "code",
   "execution_count": 37,
   "metadata": {},
   "outputs": [
    {
     "data": {
      "text/html": [
       "<div>\n",
       "<style scoped>\n",
       "    .dataframe tbody tr th:only-of-type {\n",
       "        vertical-align: middle;\n",
       "    }\n",
       "\n",
       "    .dataframe tbody tr th {\n",
       "        vertical-align: top;\n",
       "    }\n",
       "\n",
       "    .dataframe thead th {\n",
       "        text-align: right;\n",
       "    }\n",
       "</style>\n",
       "<table border=\"1\" class=\"dataframe\">\n",
       "  <thead>\n",
       "    <tr style=\"text-align: right;\">\n",
       "      <th></th>\n",
       "      <th>month</th>\n",
       "      <th>duration_sum</th>\n",
       "      <th>gb_used_sum</th>\n",
       "      <th>messages_sum</th>\n",
       "      <th>duration_mean</th>\n",
       "      <th>gb_used_mean</th>\n",
       "      <th>messages_mean</th>\n",
       "      <th>duration_std</th>\n",
       "      <th>gb_used_std</th>\n",
       "      <th>messages_std</th>\n",
       "      <th>duration_var</th>\n",
       "      <th>gb_used_var</th>\n",
       "      <th>messages_var</th>\n",
       "    </tr>\n",
       "  </thead>\n",
       "  <tbody>\n",
       "    <tr>\n",
       "      <td>0</td>\n",
       "      <td>1</td>\n",
       "      <td>774</td>\n",
       "      <td>29</td>\n",
       "      <td>62</td>\n",
       "      <td>193.500000</td>\n",
       "      <td>7.250000</td>\n",
       "      <td>15.500000</td>\n",
       "      <td>128.733575</td>\n",
       "      <td>3.862210</td>\n",
       "      <td>17.710637</td>\n",
       "      <td>16572.333333</td>\n",
       "      <td>14.916667</td>\n",
       "      <td>313.666667</td>\n",
       "    </tr>\n",
       "    <tr>\n",
       "      <td>1</td>\n",
       "      <td>2</td>\n",
       "      <td>2822</td>\n",
       "      <td>121</td>\n",
       "      <td>151</td>\n",
       "      <td>403.142857</td>\n",
       "      <td>17.285714</td>\n",
       "      <td>21.571429</td>\n",
       "      <td>277.289517</td>\n",
       "      <td>6.156684</td>\n",
       "      <td>21.869744</td>\n",
       "      <td>76889.476190</td>\n",
       "      <td>37.904762</td>\n",
       "      <td>478.285714</td>\n",
       "    </tr>\n",
       "    <tr>\n",
       "      <td>2</td>\n",
       "      <td>3</td>\n",
       "      <td>3651</td>\n",
       "      <td>221</td>\n",
       "      <td>243</td>\n",
       "      <td>304.250000</td>\n",
       "      <td>18.416667</td>\n",
       "      <td>20.250000</td>\n",
       "      <td>248.967732</td>\n",
       "      <td>11.774073</td>\n",
       "      <td>25.580977</td>\n",
       "      <td>61984.931818</td>\n",
       "      <td>138.628788</td>\n",
       "      <td>654.386364</td>\n",
       "    </tr>\n",
       "    <tr>\n",
       "      <td>3</td>\n",
       "      <td>4</td>\n",
       "      <td>7074</td>\n",
       "      <td>343</td>\n",
       "      <td>463</td>\n",
       "      <td>336.857143</td>\n",
       "      <td>16.333333</td>\n",
       "      <td>22.047619</td>\n",
       "      <td>186.785783</td>\n",
       "      <td>9.264628</td>\n",
       "      <td>23.326972</td>\n",
       "      <td>34888.928571</td>\n",
       "      <td>85.833333</td>\n",
       "      <td>544.147619</td>\n",
       "    </tr>\n",
       "    <tr>\n",
       "      <td>4</td>\n",
       "      <td>5</td>\n",
       "      <td>11781</td>\n",
       "      <td>489</td>\n",
       "      <td>931</td>\n",
       "      <td>406.241379</td>\n",
       "      <td>16.862069</td>\n",
       "      <td>32.103448</td>\n",
       "      <td>209.382537</td>\n",
       "      <td>7.361697</td>\n",
       "      <td>36.018195</td>\n",
       "      <td>43841.046798</td>\n",
       "      <td>54.194581</td>\n",
       "      <td>1297.310345</td>\n",
       "    </tr>\n",
       "    <tr>\n",
       "      <td>5</td>\n",
       "      <td>6</td>\n",
       "      <td>17435</td>\n",
       "      <td>725</td>\n",
       "      <td>1379</td>\n",
       "      <td>370.957447</td>\n",
       "      <td>15.425532</td>\n",
       "      <td>29.340426</td>\n",
       "      <td>206.163924</td>\n",
       "      <td>8.298100</td>\n",
       "      <td>29.285162</td>\n",
       "      <td>42503.563367</td>\n",
       "      <td>68.858464</td>\n",
       "      <td>857.620722</td>\n",
       "    </tr>\n",
       "    <tr>\n",
       "      <td>6</td>\n",
       "      <td>7</td>\n",
       "      <td>25197</td>\n",
       "      <td>973</td>\n",
       "      <td>1937</td>\n",
       "      <td>427.067797</td>\n",
       "      <td>16.491525</td>\n",
       "      <td>32.830508</td>\n",
       "      <td>269.375898</td>\n",
       "      <td>8.015874</td>\n",
       "      <td>30.991741</td>\n",
       "      <td>72563.374635</td>\n",
       "      <td>64.254237</td>\n",
       "      <td>960.488019</td>\n",
       "    </tr>\n",
       "    <tr>\n",
       "      <td>7</td>\n",
       "      <td>8</td>\n",
       "      <td>29922</td>\n",
       "      <td>1267</td>\n",
       "      <td>2732</td>\n",
       "      <td>421.436620</td>\n",
       "      <td>17.845070</td>\n",
       "      <td>38.478873</td>\n",
       "      <td>231.614997</td>\n",
       "      <td>7.618864</td>\n",
       "      <td>34.588544</td>\n",
       "      <td>53645.506640</td>\n",
       "      <td>58.047082</td>\n",
       "      <td>1196.367404</td>\n",
       "    </tr>\n",
       "    <tr>\n",
       "      <td>8</td>\n",
       "      <td>9</td>\n",
       "      <td>37626</td>\n",
       "      <td>1463</td>\n",
       "      <td>3259</td>\n",
       "      <td>437.511628</td>\n",
       "      <td>17.011628</td>\n",
       "      <td>37.895349</td>\n",
       "      <td>238.894254</td>\n",
       "      <td>6.874495</td>\n",
       "      <td>32.417871</td>\n",
       "      <td>57070.464569</td>\n",
       "      <td>47.258687</td>\n",
       "      <td>1050.918331</td>\n",
       "    </tr>\n",
       "    <tr>\n",
       "      <td>9</td>\n",
       "      <td>10</td>\n",
       "      <td>47778</td>\n",
       "      <td>1878</td>\n",
       "      <td>4181</td>\n",
       "      <td>450.735849</td>\n",
       "      <td>17.716981</td>\n",
       "      <td>39.443396</td>\n",
       "      <td>232.941861</td>\n",
       "      <td>7.389510</td>\n",
       "      <td>34.944331</td>\n",
       "      <td>54261.910512</td>\n",
       "      <td>54.604852</td>\n",
       "      <td>1221.106289</td>\n",
       "    </tr>\n",
       "    <tr>\n",
       "      <td>10</td>\n",
       "      <td>11</td>\n",
       "      <td>56540</td>\n",
       "      <td>2174</td>\n",
       "      <td>4903</td>\n",
       "      <td>445.196850</td>\n",
       "      <td>17.118110</td>\n",
       "      <td>38.606299</td>\n",
       "      <td>246.156907</td>\n",
       "      <td>7.375005</td>\n",
       "      <td>35.109389</td>\n",
       "      <td>60593.222847</td>\n",
       "      <td>54.390701</td>\n",
       "      <td>1232.669166</td>\n",
       "    </tr>\n",
       "    <tr>\n",
       "      <td>11</td>\n",
       "      <td>12</td>\n",
       "      <td>69324</td>\n",
       "      <td>2778</td>\n",
       "      <td>6796</td>\n",
       "      <td>459.099338</td>\n",
       "      <td>18.397351</td>\n",
       "      <td>45.006623</td>\n",
       "      <td>250.007567</td>\n",
       "      <td>7.670793</td>\n",
       "      <td>39.362672</td>\n",
       "      <td>62503.783400</td>\n",
       "      <td>58.841060</td>\n",
       "      <td>1549.419956</td>\n",
       "    </tr>\n",
       "  </tbody>\n",
       "</table>\n",
       "</div>"
      ],
      "text/plain": [
       "    month  duration_sum  gb_used_sum  messages_sum  duration_mean  \\\n",
       "0       1           774           29            62     193.500000   \n",
       "1       2          2822          121           151     403.142857   \n",
       "2       3          3651          221           243     304.250000   \n",
       "3       4          7074          343           463     336.857143   \n",
       "4       5         11781          489           931     406.241379   \n",
       "5       6         17435          725          1379     370.957447   \n",
       "6       7         25197          973          1937     427.067797   \n",
       "7       8         29922         1267          2732     421.436620   \n",
       "8       9         37626         1463          3259     437.511628   \n",
       "9      10         47778         1878          4181     450.735849   \n",
       "10     11         56540         2174          4903     445.196850   \n",
       "11     12         69324         2778          6796     459.099338   \n",
       "\n",
       "    gb_used_mean  messages_mean  duration_std  gb_used_std  messages_std  \\\n",
       "0       7.250000      15.500000    128.733575     3.862210     17.710637   \n",
       "1      17.285714      21.571429    277.289517     6.156684     21.869744   \n",
       "2      18.416667      20.250000    248.967732    11.774073     25.580977   \n",
       "3      16.333333      22.047619    186.785783     9.264628     23.326972   \n",
       "4      16.862069      32.103448    209.382537     7.361697     36.018195   \n",
       "5      15.425532      29.340426    206.163924     8.298100     29.285162   \n",
       "6      16.491525      32.830508    269.375898     8.015874     30.991741   \n",
       "7      17.845070      38.478873    231.614997     7.618864     34.588544   \n",
       "8      17.011628      37.895349    238.894254     6.874495     32.417871   \n",
       "9      17.716981      39.443396    232.941861     7.389510     34.944331   \n",
       "10     17.118110      38.606299    246.156907     7.375005     35.109389   \n",
       "11     18.397351      45.006623    250.007567     7.670793     39.362672   \n",
       "\n",
       "    duration_var  gb_used_var  messages_var  \n",
       "0   16572.333333    14.916667    313.666667  \n",
       "1   76889.476190    37.904762    478.285714  \n",
       "2   61984.931818   138.628788    654.386364  \n",
       "3   34888.928571    85.833333    544.147619  \n",
       "4   43841.046798    54.194581   1297.310345  \n",
       "5   42503.563367    68.858464    857.620722  \n",
       "6   72563.374635    64.254237    960.488019  \n",
       "7   53645.506640    58.047082   1196.367404  \n",
       "8   57070.464569    47.258687   1050.918331  \n",
       "9   54261.910512    54.604852   1221.106289  \n",
       "10  60593.222847    54.390701   1232.669166  \n",
       "11  62503.783400    58.841060   1549.419956  "
      ]
     },
     "execution_count": 37,
     "metadata": {},
     "output_type": "execute_result"
    }
   ],
   "source": [
    "p_ulti"
   ]
  },
  {
   "cell_type": "code",
   "execution_count": 38,
   "metadata": {},
   "outputs": [],
   "source": [
    "p_total=df1.pivot_table(index='plan', \n",
    "                            values=['duration', 'messages', 'gb_used'], aggfunc=['sum', 'mean', 'std', 'var'])"
   ]
  },
  {
   "cell_type": "code",
   "execution_count": 39,
   "metadata": {},
   "outputs": [],
   "source": [
    "p_total.columns = [\"_\".join((j,i)) for i,j in p_total.columns]"
   ]
  },
  {
   "cell_type": "code",
   "execution_count": 40,
   "metadata": {},
   "outputs": [],
   "source": [
    "p_total=p_total.reset_index()"
   ]
  },
  {
   "cell_type": "code",
   "execution_count": 41,
   "metadata": {},
   "outputs": [
    {
     "data": {
      "text/html": [
       "<div>\n",
       "<style scoped>\n",
       "    .dataframe tbody tr th:only-of-type {\n",
       "        vertical-align: middle;\n",
       "    }\n",
       "\n",
       "    .dataframe tbody tr th {\n",
       "        vertical-align: top;\n",
       "    }\n",
       "\n",
       "    .dataframe thead th {\n",
       "        text-align: right;\n",
       "    }\n",
       "</style>\n",
       "<table border=\"1\" class=\"dataframe\">\n",
       "  <thead>\n",
       "    <tr style=\"text-align: right;\">\n",
       "      <th></th>\n",
       "      <th>plan</th>\n",
       "      <th>duration_sum</th>\n",
       "      <th>gb_used_sum</th>\n",
       "      <th>messages_sum</th>\n",
       "      <th>duration_mean</th>\n",
       "      <th>gb_used_mean</th>\n",
       "      <th>messages_mean</th>\n",
       "      <th>duration_std</th>\n",
       "      <th>gb_used_std</th>\n",
       "      <th>messages_std</th>\n",
       "      <th>duration_var</th>\n",
       "      <th>gb_used_var</th>\n",
       "      <th>messages_var</th>\n",
       "    </tr>\n",
       "  </thead>\n",
       "  <tbody>\n",
       "    <tr>\n",
       "      <td>0</td>\n",
       "      <td>surf</td>\n",
       "      <td>674423</td>\n",
       "      <td>26223</td>\n",
       "      <td>49014</td>\n",
       "      <td>428.749523</td>\n",
       "      <td>16.670693</td>\n",
       "      <td>31.159568</td>\n",
       "      <td>234.453150</td>\n",
       "      <td>7.847522</td>\n",
       "      <td>33.566717</td>\n",
       "      <td>54968.279461</td>\n",
       "      <td>61.58360</td>\n",
       "      <td>1126.724522</td>\n",
       "    </tr>\n",
       "    <tr>\n",
       "      <td>1</td>\n",
       "      <td>ultimate</td>\n",
       "      <td>309924</td>\n",
       "      <td>12461</td>\n",
       "      <td>27037</td>\n",
       "      <td>430.450000</td>\n",
       "      <td>17.306944</td>\n",
       "      <td>37.551389</td>\n",
       "      <td>240.508762</td>\n",
       "      <td>7.670108</td>\n",
       "      <td>34.767179</td>\n",
       "      <td>57844.464812</td>\n",
       "      <td>58.83055</td>\n",
       "      <td>1208.756744</td>\n",
       "    </tr>\n",
       "  </tbody>\n",
       "</table>\n",
       "</div>"
      ],
      "text/plain": [
       "       plan  duration_sum  gb_used_sum  messages_sum  duration_mean  \\\n",
       "0      surf        674423        26223         49014     428.749523   \n",
       "1  ultimate        309924        12461         27037     430.450000   \n",
       "\n",
       "   gb_used_mean  messages_mean  duration_std  gb_used_std  messages_std  \\\n",
       "0     16.670693      31.159568    234.453150     7.847522     33.566717   \n",
       "1     17.306944      37.551389    240.508762     7.670108     34.767179   \n",
       "\n",
       "   duration_var  gb_used_var  messages_var  \n",
       "0  54968.279461     61.58360   1126.724522  \n",
       "1  57844.464812     58.83055   1208.756744  "
      ]
     },
     "execution_count": 41,
     "metadata": {},
     "output_type": "execute_result"
    }
   ],
   "source": [
    "p_total"
   ]
  },
  {
   "cell_type": "markdown",
   "metadata": {},
   "source": [
    "If one compares mean, standard deviation and variance for each plan (without considering each month separately) it can be seen that the values obtained are more or less the same for the two plans. Which means there is almost no connection between the type of plan and the customer's consumption. I mean, even though the customer in the ultimate plan is aware that he has a lot of option to take advantage of the package he is not taking advantage of it any more than a customer from a surf package."
   ]
  },
  {
   "cell_type": "markdown",
   "metadata": {},
   "source": [
    "<div class=\"alert alert-success\" role=\"alert\">\n",
    "Reviewer's comment v. 1:\n",
    "    \n",
    "Well done that you calculated the mean, variance and standard deviation for both plans and clearly analysed it.\n",
    "</div>"
   ]
  },
  {
   "cell_type": "markdown",
   "metadata": {},
   "source": [
    "**Plot histograms**"
   ]
  },
  {
   "cell_type": "markdown",
   "metadata": {},
   "source": [
    "Plot histograms that each contain a specific statistic (call duration, messages, gb used) and compare the two plans."
   ]
  },
  {
   "cell_type": "code",
   "execution_count": 42,
   "metadata": {},
   "outputs": [
    {
     "data": {
      "image/png": "[encoded data removed]",
      "text/plain": [
       "<Figure size 864x576 with 4 Axes>"
      ]
     },
     "metadata": {
      "needs_background": "light"
     },
     "output_type": "display_data"
    }
   ],
   "source": [
    "WIDTH=2\n",
    "columns=['duration', 'messages', 'gb_used']\n",
    "plot_amount=len(columns)\n",
    "height = plot_amount//WIDTH + 1\n",
    "fig, axs = plt.subplots(height, WIDTH, figsize=(12,8))\n",
    "fig.suptitle('Multiple Histograms',  y=1.03, size=14)\n",
    "\n",
    "for item, ax in zip(columns, np.ravel(axs)):\n",
    "    Q1s=df1_surf[item].quantile(0.25)\n",
    "    Q3s=df1_surf[item].quantile(0.75)\n",
    "    IQRs=Q3s-Q1s\n",
    "    outlier_upper_bound_s = Q3s + 1.5*IQRs\n",
    "    Q1u=df1_ulti[item].quantile(0.25)\n",
    "    Q3u=df1_ulti[item].quantile(0.75)\n",
    "    IQRu=Q3u-Q1u\n",
    "    outlier_upper_bound_u = Q3u + 1.5*IQRu\n",
    "\n",
    "    df1_surf.hist(item, range=(1,outlier_upper_bound_s), bins=10, ax=ax)\n",
    "    df1_ulti.hist(item, range=(1,outlier_upper_bound_u), bins=10, ax=ax, alpha=0.6)\n",
    "    ax.set_title(item.capitalize().replace('_', ' '), size=12)\n",
    "    ax.set_xlabel(item)\n",
    "    ax.set_ylabel('count')\n",
    "    \n",
    "    ax.legend(['surf', 'ulti'])\n",
    "    \n",
    "plt.tight_layout()\n",
    "plt.show()"
   ]
  },
  {
   "cell_type": "markdown",
   "metadata": {},
   "source": [
    "The histograms generally support what I wrote after averaging, standard deviation and variance. Indeed, it can be seen that the distribution of customer consumption for call duration, messaging and gb_used is very similar in both plans, indicating that customers do not overuse even when they receive a package that is almost \"unlimited\" and their consumption is very similar to those with a limited package."
   ]
  },
  {
   "cell_type": "markdown",
   "metadata": {},
   "source": [
    "<div class=\"alert alert-warning\" role=\"alert\">\n",
    "Reviewer's comment v. 1:\n",
    "    \n",
    "Could you please analyse the distributions (characteristic values, distribution type and so on)? Also it's better not to put empty graph to the report.\n",
    "    \n",
    "Please see for details: https://www.analyticsvidhya.com/blog/2017/09/6-probability-distributions-data-science/\n",
    "</div>"
   ]
  },
  {
   "cell_type": "markdown",
   "metadata": {},
   "source": [
    "<div class=\"alert alert-info\" style=\"border:solid blue 2px; padding: 20px\"> <b>Student comment:</b> I didn't succeeded in removing the empty graph, any chance you can help me with it?. </div>"
   ]
  },
  {
   "cell_type": "markdown",
   "metadata": {},
   "source": [
    "<div class=\"alert alert-success\" role=\"alert\">\n",
    "Reviewer's comment v. 2:\n",
    "    \n",
    "Please see the following examples: https://towardsdatascience.com/master-the-art-of-subplots-in-python-45f7884f3d2e\n",
    "</div>"
   ]
  },
  {
   "cell_type": "code",
   "execution_count": 43,
   "metadata": {},
   "outputs": [
    {
     "data": {
      "text/plain": [
       "count    1573.000000\n",
       "mean       60.706408\n",
       "std        55.388042\n",
       "min        20.000000\n",
       "25%        20.000000\n",
       "50%        40.360000\n",
       "75%        80.360000\n",
       "max       590.370000\n",
       "Name: total_cost, dtype: float64"
      ]
     },
     "execution_count": 43,
     "metadata": {},
     "output_type": "execute_result"
    }
   ],
   "source": [
    "df1_surf['total_cost'].describe()"
   ]
  },
  {
   "cell_type": "code",
   "execution_count": 44,
   "metadata": {},
   "outputs": [
    {
     "data": {
      "text/plain": [
       "count    720.000000\n",
       "mean      72.313889\n",
       "std       11.395108\n",
       "min       70.000000\n",
       "25%       70.000000\n",
       "50%       70.000000\n",
       "75%       70.000000\n",
       "max      182.000000\n",
       "Name: total_cost, dtype: float64"
      ]
     },
     "execution_count": 44,
     "metadata": {},
     "output_type": "execute_result"
    }
   ],
   "source": [
    "df1_ulti['total_cost'].describe()"
   ]
  },
  {
   "cell_type": "markdown",
   "metadata": {},
   "source": [
    "**Conclusion:**\n",
    "\n",
    "From all the data together with the description of the total price paid by each customer per plan, it can be concluded that since customer consumption is similar in both plans, customers in the ultimate plan put more money into the company because they hardly use the resources allocated by the company, they consume almost the same as in the surf plan and in the first place, they pay more than 3 times more than those in the surf plan."
   ]
  },
  {
   "cell_type": "markdown",
   "metadata": {},
   "source": [
    "<div class=\"alert alert-success\" role=\"alert\">\n",
    "Reviewer's comment v. 1:\n",
    "    \n",
    "👍👍👍\n",
    "</div>"
   ]
  },
  {
   "cell_type": "markdown",
   "metadata": {},
   "source": [
    "# Task 4"
   ]
  },
  {
   "cell_type": "markdown",
   "metadata": {},
   "source": [
    "**Test the hypotheses**\n",
    "\n",
    "In order to test the hypotheses one has to formulate the null hypothesis and an alternative hypothesis and check whether the null hypothesis can be accepted or rejected. If the null hypothesis can be rejected, it does not necessarily mean that the alternative hypothesis can be accepted but it can be said that it is more correct and reflects reality. For each hypothesis I will formulate the null hypothesis and an alternative hypothesis."
   ]
  },
  {
   "cell_type": "markdown",
   "metadata": {},
   "source": [
    "**hipothesis1:** The average revenue from users of Ultimate and Surf calling plans differs\n",
    "\n",
    "* H0: The average revenue from users of Ultimate and Surf calling plans not differs\n",
    "* H1: The average revenue from users of Ultimate and Surf calling plans differs\n",
    "\n",
    "This is a two-tailed hypothesis since it is not skewed in a particular direction which examines two different populations (two different plans) and asks if there is a difference between the two plans in terms of average revenue"
   ]
  },
  {
   "cell_type": "markdown",
   "metadata": {},
   "source": [
    "<div class=\"alert alert-success\" role=\"alert\">\n",
    "Reviewer's comment v. 1:\n",
    "    \n",
    "It's great that you formulated the null and alternative hypotheses explicitly.\n",
    "</div>"
   ]
  },
  {
   "cell_type": "code",
   "execution_count": 45,
   "metadata": {},
   "outputs": [
    {
     "name": "stdout",
     "output_type": "stream",
     "text": [
      "P-value is 2.862674510698644e-08\n",
      "We reject the null hypothesis\n"
     ]
    }
   ],
   "source": [
    "#Definition of the two populations (two plans: surf, ulti) by total cost\n",
    "s=df1_surf['total_cost']\n",
    "u=df1_ulti['total_cost']\n",
    "\n",
    "#Definition of alpha (Statistical significance level)\n",
    "alpha=0.05\n",
    "\n",
    "#T test to know p-value\n",
    "results1 = st.ttest_ind(s, u)\n",
    "print('P-value is', results1.pvalue)\n",
    "\n",
    "#The condition for obtaining the null hypothesis\n",
    "if results1.pvalue < alpha:\n",
    "    print('We reject the null hypothesis')\n",
    "else:\n",
    "    print('We can not reject the null hypothesis')"
   ]
  },
  {
   "cell_type": "markdown",
   "metadata": {},
   "source": [
    "**Conclusion hipothesis1**\n",
    "\n",
    "In this hypothesis I used a level of significance of 95%, since it is usually customary to use this level of significance, unless it is a medical study in which it is customary to use a higher level of significance (99%) since in these areas a higher accuracy is needed because its effect was much more significant (Impact on health and human life).\n",
    "\n",
    "I used the t-test because it can be used, among other things, to test hypotheses about the correlation between two random variables, and here, I checked whether there is a difference between the two plans in terms of overall revenue.\n",
    "\n",
    "It can be seen that the p-value obtained is several orders of magnitude lower than alpha, the level of significance is really high and this means that the null hypothesis that there is no difference in the average revenue between the two programs can be easily rejected. The alternative hypothesis can be accepted because we have already proven in Task 3 that there is indeed a difference between the average revenue and more profitable to the company that customers will be on the packege of the ultimate plan.\n",
    "\n",
    "Another one-tailed research hypothesis can be written in which it is possible to test whether the average revenue from the ultimate plan is higher than the average revenue in the surf plan. I assume that the null hypothesis will be rejected and we will accept that indeed the alternative hypothesis holds."
   ]
  },
  {
   "cell_type": "markdown",
   "metadata": {},
   "source": [
    "<div class=\"alert alert-success\" role=\"alert\">\n",
    "Reviewer's comment v. 1:\n",
    "    \n",
    "Yes, you right. We have a statistically significant differences in the average revenue from users of Ultimate and Surf plans.\n",
    "</div>"
   ]
  },
  {
   "cell_type": "markdown",
   "metadata": {},
   "source": [
    "-"
   ]
  },
  {
   "cell_type": "markdown",
   "metadata": {},
   "source": [
    "**hipothesis2:** The average revenue from users in NY-NJ area is different from that of the users from other regions\n",
    "\n",
    "* H0 - The average revenue from users in NY-NJ area is not different from that of the users from other regions\n",
    "* H1 - The average revenue from users in NY-NJ area is different from that of the users from other regions\n",
    "\n",
    "This is a two-tailed hypothesis since it is not skewed in a particular direction which examines two different populations (NY-NY and rest of citys) and asks if there is a difference between the two groups in terms of average revenue."
   ]
  },
  {
   "cell_type": "markdown",
   "metadata": {},
   "source": [
    "<div class=\"alert alert-success\" role=\"alert\">\n",
    "Reviewer's comment v. 1:\n",
    "    \n",
    "Well done, hypotheses formulation is correct :)\n",
    "</div>"
   ]
  },
  {
   "cell_type": "code",
   "execution_count": 46,
   "metadata": {},
   "outputs": [],
   "source": [
    "#Definition of the two populations (two groups: NY-NJ, rest) by total cost\n",
    "df1_ny_nj=df1.loc[df1['city'].str.contains(\"NY|NJ\", case=False)] \n",
    "df1_rest=df1[~df1['city'].str.contains('NY|NJ')]"
   ]
  },
  {
   "cell_type": "code",
   "execution_count": 47,
   "metadata": {},
   "outputs": [],
   "source": [
    "#The term NJ also contains the city of \"San Jose\" so I created another command to remove this city\n",
    "df1_ny_nj1=df1_ny_nj[~df1_ny_nj['city'].str.contains('San Jose')]"
   ]
  },
  {
   "cell_type": "markdown",
   "metadata": {},
   "source": [
    "<div class=\"alert alert-danger\" role=\"alert\">\n",
    "Reviewer's comment v. 1:\n",
    "    \n",
    "Please fix the error below (code doesn't run).\n",
    "</div>"
   ]
  },
  {
   "cell_type": "markdown",
   "metadata": {},
   "source": [
    "<div class=\"alert alert-info\" style=\"border:solid blue 2px; padding: 20px\"> <b>Student comment:</b> Yes, I fixed the code and changed it a little to make it right. </div>"
   ]
  },
  {
   "cell_type": "markdown",
   "metadata": {},
   "source": [
    "<div class=\"alert alert-success\" role=\"alert\">\n",
    "Reviewer's comment v. 2:\n",
    "    \n",
    "Great, now it works :)\n",
    "</div>"
   ]
  },
  {
   "cell_type": "code",
   "execution_count": 48,
   "metadata": {},
   "outputs": [
    {
     "name": "stdout",
     "output_type": "stream",
     "text": [
      "P-value is 0.11013307329186486\n",
      "We can not reject the null hypothesis\n"
     ]
    }
   ],
   "source": [
    "#Definition of alpha (Statistical significance level)\n",
    "alpha = 0.05\n",
    "\n",
    "#T test to know p-value\n",
    "results2=st.ttest_ind(df1_ny_nj1['total_cost'], df1_rest['total_cost'])\n",
    "print('P-value is', results2.pvalue)\n",
    "\n",
    "#The condition for obtaining the null hypothesis\n",
    "if results2.pvalue < alpha:\n",
    "    print('We reject the null hypothesis')\n",
    "else:\n",
    "    print('We can not reject the null hypothesis')"
   ]
  },
  {
   "cell_type": "markdown",
   "metadata": {},
   "source": [
    "## **Conclusion hipothesis2**\n",
    "\n",
    "In this hypothesis I used a level of significance of 95%, since it is usually customary to use this level of significance. It can be seen that the p-value we received is very high and says that in almost 12 percent of cases there is no connection between the customer's location and the average revenue that goes into the company because of it. From this it is not possible to reject the null hypothesis and it can be understood that customers in all places (in the US) consume more or less the same thing and it does not matter where they live."
   ]
  },
  {
   "cell_type": "markdown",
   "metadata": {},
   "source": [
    "<div class=\"alert alert-success\" role=\"alert\">\n",
    "Reviewer's comment v. 2:\n",
    "    \n",
    "Yes, there is no a statistically significant differences in the average revenue from users in NY-NJ area and users from other regions.\n",
    "</div>"
   ]
  },
  {
   "cell_type": "markdown",
   "metadata": {},
   "source": [
    "_"
   ]
  },
  {
   "cell_type": "markdown",
   "metadata": {},
   "source": [
    "## Task 5"
   ]
  },
  {
   "cell_type": "markdown",
   "metadata": {},
   "source": [
    "**Final conclusion:**\n",
    "\n",
    "In this study, data were obtained from 500 customers who subscribe to Mgaline, a company that provides communications services across the United States. The company provides two plans and the customer chooses which plan to join. The aim of the study was to test on a small sample from the population whether there is a particular plan that is more profitable for the company to provide relative to another plan.\n",
    "\n",
    "The data obtained was more or less clear and there was no need to fill in any missing values, other than deleting irrelevant lines containing 0 minutes of call or 0 GB of internet consumption which could not contribute anything to the analysis of the data.\n",
    "\n",
    "First, the tables were arranged to extract the relevant data and the column types were modified to match the values inside the columns. Then, the total revenue from each customer per month was calculated according to what appears in the plans table, and then the final table was obtained (df1) through which the data could be analyzed.\n",
    "\n",
    "In the data analysis, a comparison was made between the two plans when the customers were divided between the two plans and for each plan the average calculator, standard deviation and variance for each month. In addition a general calculation (which is not taken into account in a month) is made for the difference between the two plan.\n",
    "\n",
    "It was found that there was no significant difference between the two plans in terms of consumption, and customers from both plans consumed more or less the same amount of calls, messages and internet usage. Which leads to the conclusion that customers in an unlimited program do not take advantage of it as was expected of them because they are paying more. Therefore, because there is no difference between the two plans in terms of customer consumption, and because customers in the ultimate plan pay much more than customers in the surf plan, it can be concluded that the ultimate plan is much much more profitable for the company (less profitable for customers) and the company should market it as much as possible.\n",
    "\n",
    "The research hypothesis that there is a difference in the average revenue between the two plans also showed that there is a significant difference in terms of revenue between the two plans.\n",
    "\n",
    "The hypothesis whether there is a difference between the customer's location and the average revenue for the company showed that there is no connection and the customer's location does not determine the amount of revenue for the company.\n",
    "\n",
    "In conclusion, the ultimte plan is more profitable for the company and it should try to market it as much as possible in order to increase its profits."
   ]
  },
  {
   "cell_type": "markdown",
   "metadata": {},
   "source": [
    "<div class=\"alert alert-warning\" role=\"alert\">\n",
    "Reviewer's comment v. 1:\n",
    "    \n",
    "Please note that for the operator, the Smart tariff will be more profitable, while maintaining the current limits on the subscription fee.\n",
    "</div>"
   ]
  },
  {
   "cell_type": "markdown",
   "metadata": {},
   "source": [
    "<div class=\"alert alert-info\" style=\"border:solid blue 2px; padding: 20px\"> <b>Student comment:</b> Sorry, I'm not sure I fully understand this comment🤔, what do you mean by \"Smart tariff\"? I still think that according to all the data, the ultimate plan is much more profitable for the company (in relation to the number of people of each plan). </div>"
   ]
  },
  {
   "cell_type": "markdown",
   "metadata": {},
   "source": [
    "<div class=\"alert alert-success\" role=\"alert\">\n",
    "Reviewer's comment v. 2:\n",
    "    \n",
    "The activity of users of tariff plans differs from each other, as shown by the analysis of the distribution of average values and the variability of the services provided.\n",
    "\n",
    "Users of the Ultra tariff behave chaotically, there is no clear trend for months. Nevertheless, on average, most customers fit into the subscription plan - less than a quarter of customers pay extra for exceeding the limits.\n",
    "\n",
    "Most often, users exceeded the limits on Internet traffic. This is probably due to a larger percentage of revenue from users of the Smart tariff. In addition, it is the subscriber of this tariff plan who has the maximum revenue in the sample.\n",
    "\n",
    "Thus, the Smart tariff will be more profitable for the operator while maintaining the current limits on the subscription fee.\n",
    "</div>"
   ]
  },
  {
   "cell_type": "code",
   "execution_count": null,
   "metadata": {},
   "outputs": [],
   "source": []
  }
 ],
 "metadata": {
  "ExecuteTimeLog": [
   {
    "duration": 762,
    "start_time": "2021-07-01T09:56:43.255Z"
   },
   {
    "duration": 446,
    "start_time": "2021-07-01T09:56:56.355Z"
   },
   {
    "duration": 111,
    "start_time": "2021-07-01T09:58:00.764Z"
   },
   {
    "duration": 14,
    "start_time": "2021-07-01T10:02:11.101Z"
   },
   {
    "duration": 325,
    "start_time": "2021-07-01T10:02:28.797Z"
   },
   {
    "duration": 164,
    "start_time": "2021-07-01T10:02:52.676Z"
   },
   {
    "duration": 288,
    "start_time": "2021-07-01T10:02:57.441Z"
   },
   {
    "duration": 11,
    "start_time": "2021-07-01T10:03:00.298Z"
   },
   {
    "duration": 12,
    "start_time": "2021-07-01T10:03:02.527Z"
   },
   {
    "duration": 16,
    "start_time": "2021-07-01T10:03:43.997Z"
   },
   {
    "duration": 13,
    "start_time": "2021-07-01T10:03:55.304Z"
   },
   {
    "duration": 21,
    "start_time": "2021-07-01T10:04:31.364Z"
   },
   {
    "duration": 2,
    "start_time": "2021-07-01T10:10:38.278Z"
   },
   {
    "duration": 282,
    "start_time": "2021-07-01T10:10:41.014Z"
   },
   {
    "duration": 63,
    "start_time": "2021-07-01T10:14:44.422Z"
   },
   {
    "duration": 230,
    "start_time": "2021-07-01T10:14:55.701Z"
   },
   {
    "duration": 197,
    "start_time": "2021-07-01T10:15:03.662Z"
   },
   {
    "duration": 313,
    "start_time": "2021-07-01T10:15:09.199Z"
   },
   {
    "duration": 305,
    "start_time": "2021-07-01T10:15:16.476Z"
   },
   {
    "duration": 14,
    "start_time": "2021-07-01T10:15:20.465Z"
   },
   {
    "duration": 218,
    "start_time": "2021-07-01T10:16:03.989Z"
   },
   {
    "duration": 172,
    "start_time": "2021-07-01T10:16:13.768Z"
   },
   {
    "duration": 223,
    "start_time": "2021-07-01T10:16:25.788Z"
   },
   {
    "duration": 931,
    "start_time": "2021-07-01T10:16:28.729Z"
   },
   {
    "duration": 295,
    "start_time": "2021-07-01T10:16:31.259Z"
   },
   {
    "duration": 17,
    "start_time": "2021-07-01T10:16:33.509Z"
   },
   {
    "duration": 4147,
    "start_time": "2021-07-01T10:16:36.888Z"
   },
   {
    "duration": 21,
    "start_time": "2021-07-01T10:16:42.266Z"
   },
   {
    "duration": 257,
    "start_time": "2021-07-01T10:52:41.765Z"
   },
   {
    "duration": 293,
    "start_time": "2021-07-01T10:53:21.841Z"
   },
   {
    "duration": 1078,
    "start_time": "2021-07-01T10:53:35.869Z"
   },
   {
    "duration": 338,
    "start_time": "2021-07-01T10:53:38.091Z"
   },
   {
    "duration": 19,
    "start_time": "2021-07-01T10:53:40.167Z"
   },
   {
    "duration": 4509,
    "start_time": "2021-07-01T10:53:43.241Z"
   },
   {
    "duration": 21,
    "start_time": "2021-07-01T10:53:47.752Z"
   },
   {
    "duration": 222,
    "start_time": "2021-07-01T10:53:55.133Z"
   },
   {
    "duration": 1057,
    "start_time": "2021-07-01T12:36:17.474Z"
   },
   {
    "duration": 547,
    "start_time": "2021-07-01T12:36:19.879Z"
   },
   {
    "duration": 19,
    "start_time": "2021-07-01T12:36:21.864Z"
   },
   {
    "duration": 12,
    "start_time": "2021-07-01T12:36:41.446Z"
   },
   {
    "duration": 335,
    "start_time": "2021-07-01T12:39:08.143Z"
   },
   {
    "duration": 19,
    "start_time": "2021-07-01T12:39:12.289Z"
   },
   {
    "duration": 13,
    "start_time": "2021-07-01T12:39:34.054Z"
   },
   {
    "duration": 11,
    "start_time": "2021-07-01T12:39:57.238Z"
   },
   {
    "duration": 15,
    "start_time": "2021-07-01T12:49:20.615Z"
   },
   {
    "duration": 7,
    "start_time": "2021-07-01T12:49:35.442Z"
   },
   {
    "duration": 221,
    "start_time": "2021-07-01T12:51:57.069Z"
   },
   {
    "duration": 7,
    "start_time": "2021-07-01T12:52:14.733Z"
   },
   {
    "duration": 11,
    "start_time": "2021-07-01T12:52:50.835Z"
   },
   {
    "duration": 13,
    "start_time": "2021-07-01T12:53:33.943Z"
   },
   {
    "duration": 14,
    "start_time": "2021-07-01T12:53:47.731Z"
   },
   {
    "duration": 16,
    "start_time": "2021-07-01T12:54:46.379Z"
   },
   {
    "duration": 10,
    "start_time": "2021-07-01T12:55:57.771Z"
   },
   {
    "duration": 8,
    "start_time": "2021-07-01T12:56:06.346Z"
   },
   {
    "duration": 8,
    "start_time": "2021-07-01T12:56:20.858Z"
   },
   {
    "duration": 12,
    "start_time": "2021-07-01T12:56:25.043Z"
   },
   {
    "duration": 197,
    "start_time": "2021-07-01T12:58:55.618Z"
   },
   {
    "duration": 209,
    "start_time": "2021-07-01T13:00:38.597Z"
   },
   {
    "duration": 4,
    "start_time": "2021-07-01T13:01:40.849Z"
   },
   {
    "duration": 444,
    "start_time": "2021-07-01T13:01:45.378Z"
   },
   {
    "duration": 251,
    "start_time": "2021-07-01T13:03:37.201Z"
   },
   {
    "duration": 4,
    "start_time": "2021-07-01T13:03:41.376Z"
   },
   {
    "duration": 15,
    "start_time": "2021-07-01T13:03:48.863Z"
   },
   {
    "duration": 4,
    "start_time": "2021-07-01T13:04:00.079Z"
   },
   {
    "duration": 14,
    "start_time": "2021-07-01T13:04:15.816Z"
   },
   {
    "duration": 1983,
    "start_time": "2021-07-01T13:05:44.792Z"
   },
   {
    "duration": 22,
    "start_time": "2021-07-01T13:05:57.542Z"
   },
   {
    "duration": 18,
    "start_time": "2021-07-01T13:06:18.166Z"
   },
   {
    "duration": 2881,
    "start_time": "2021-07-01T13:08:43.810Z"
   },
   {
    "duration": 25,
    "start_time": "2021-07-01T13:09:06.876Z"
   },
   {
    "duration": 34,
    "start_time": "2021-07-01T13:09:14.019Z"
   },
   {
    "duration": 35,
    "start_time": "2021-07-01T13:13:59.168Z"
   },
   {
    "duration": 59,
    "start_time": "2021-07-01T13:14:19.468Z"
   },
   {
    "duration": 43,
    "start_time": "2021-07-01T13:14:36.278Z"
   },
   {
    "duration": 36,
    "start_time": "2021-07-01T13:14:50.430Z"
   },
   {
    "duration": 124,
    "start_time": "2021-07-01T13:15:11.230Z"
   },
   {
    "duration": 30,
    "start_time": "2021-07-01T13:15:17.754Z"
   },
   {
    "duration": 36,
    "start_time": "2021-07-01T13:15:26.372Z"
   },
   {
    "duration": 32,
    "start_time": "2021-07-01T13:15:35.924Z"
   },
   {
    "duration": 22,
    "start_time": "2021-07-01T13:15:52.351Z"
   },
   {
    "duration": 30,
    "start_time": "2021-07-01T13:16:03.317Z"
   },
   {
    "duration": 211,
    "start_time": "2021-07-01T13:19:23.190Z"
   },
   {
    "duration": 66,
    "start_time": "2021-07-01T13:19:32.362Z"
   },
   {
    "duration": 32,
    "start_time": "2021-07-01T13:20:00.424Z"
   },
   {
    "duration": 28,
    "start_time": "2021-07-01T13:20:17.519Z"
   },
   {
    "duration": 62,
    "start_time": "2021-07-01T13:20:45.570Z"
   },
   {
    "duration": 73,
    "start_time": "2021-07-01T13:21:14.741Z"
   },
   {
    "duration": 91,
    "start_time": "2021-07-01T13:21:34.989Z"
   },
   {
    "duration": 99,
    "start_time": "2021-07-01T13:22:39.189Z"
   },
   {
    "duration": 107,
    "start_time": "2021-07-01T13:32:21.404Z"
   },
   {
    "duration": 52,
    "start_time": "2021-07-01T13:32:57.757Z"
   },
   {
    "duration": 98,
    "start_time": "2021-07-01T13:33:12.901Z"
   },
   {
    "duration": 320,
    "start_time": "2021-07-01T13:40:29.815Z"
   },
   {
    "duration": 78,
    "start_time": "2021-07-01T13:40:45.873Z"
   },
   {
    "duration": 90,
    "start_time": "2021-07-01T13:40:50.802Z"
   },
   {
    "duration": 79,
    "start_time": "2021-07-01T13:41:08.803Z"
   },
   {
    "duration": 78,
    "start_time": "2021-07-01T13:41:12.534Z"
   },
   {
    "duration": 225,
    "start_time": "2021-07-01T13:41:16.847Z"
   },
   {
    "duration": 18,
    "start_time": "2021-07-01T13:42:24.497Z"
   },
   {
    "duration": 5004,
    "start_time": "2021-07-01T13:43:28.925Z"
   },
   {
    "duration": 80,
    "start_time": "2021-07-01T13:46:22.759Z"
   },
   {
    "duration": 13,
    "start_time": "2021-07-01T13:46:27.732Z"
   },
   {
    "duration": 4674,
    "start_time": "2021-07-01T13:47:17.004Z"
   },
   {
    "duration": 4789,
    "start_time": "2021-07-01T13:47:28.025Z"
   },
   {
    "duration": 12,
    "start_time": "2021-07-01T13:47:53.993Z"
   },
   {
    "duration": 8,
    "start_time": "2021-07-01T13:48:11.856Z"
   },
   {
    "duration": 180,
    "start_time": "2021-07-01T13:52:49.487Z"
   },
   {
    "duration": 12,
    "start_time": "2021-07-01T13:52:52.719Z"
   },
   {
    "duration": 12,
    "start_time": "2021-07-01T13:55:55.847Z"
   },
   {
    "duration": 88,
    "start_time": "2021-07-01T13:58:16.799Z"
   },
   {
    "duration": 79,
    "start_time": "2021-07-01T13:59:39.613Z"
   },
   {
    "duration": 205,
    "start_time": "2021-07-01T14:00:00.285Z"
   },
   {
    "duration": 4557,
    "start_time": "2021-07-01T14:00:08.509Z"
   },
   {
    "duration": 176,
    "start_time": "2021-07-01T14:02:03.598Z"
   },
   {
    "duration": 343,
    "start_time": "2021-07-01T14:02:12.537Z"
   },
   {
    "duration": 305,
    "start_time": "2021-07-01T14:02:23.113Z"
   },
   {
    "duration": 13,
    "start_time": "2021-07-01T14:02:41.454Z"
   },
   {
    "duration": 78,
    "start_time": "2021-07-01T14:03:00.460Z"
   },
   {
    "duration": 14,
    "start_time": "2021-07-01T14:03:02.477Z"
   },
   {
    "duration": 15,
    "start_time": "2021-07-01T14:04:46.121Z"
   },
   {
    "duration": 336,
    "start_time": "2021-07-01T14:05:01.523Z"
   },
   {
    "duration": 296,
    "start_time": "2021-07-01T14:05:07.408Z"
   },
   {
    "duration": 310,
    "start_time": "2021-07-01T14:05:47.150Z"
   },
   {
    "duration": 328,
    "start_time": "2021-07-01T14:05:52.133Z"
   },
   {
    "duration": 3,
    "start_time": "2021-07-01T14:05:56.341Z"
   },
   {
    "duration": 290,
    "start_time": "2021-07-01T14:05:58.189Z"
   },
   {
    "duration": 7,
    "start_time": "2021-07-01T14:05:59.829Z"
   },
   {
    "duration": 97,
    "start_time": "2021-07-01T14:06:02.125Z"
   },
   {
    "duration": 3,
    "start_time": "2021-07-01T14:06:04.486Z"
   },
   {
    "duration": 304,
    "start_time": "2021-07-01T14:06:15.790Z"
   },
   {
    "duration": 302,
    "start_time": "2021-07-01T14:06:19.731Z"
   },
   {
    "duration": 74,
    "start_time": "2021-07-01T14:06:22.896Z"
   },
   {
    "duration": 3,
    "start_time": "2021-07-01T14:06:26.164Z"
   },
   {
    "duration": 13,
    "start_time": "2021-07-01T14:06:38.712Z"
   },
   {
    "duration": 5,
    "start_time": "2021-07-01T14:07:03.840Z"
   },
   {
    "duration": 11,
    "start_time": "2021-07-01T14:07:12.137Z"
   },
   {
    "duration": 4,
    "start_time": "2021-07-01T14:08:59.368Z"
   },
   {
    "duration": 10,
    "start_time": "2021-07-01T14:09:05.842Z"
   },
   {
    "duration": 11,
    "start_time": "2021-07-01T14:11:24.221Z"
   },
   {
    "duration": 4631,
    "start_time": "2021-07-01T14:15:25.237Z"
   },
   {
    "duration": 4624,
    "start_time": "2021-07-01T14:15:52.191Z"
   },
   {
    "duration": 4616,
    "start_time": "2021-07-01T14:16:01.332Z"
   },
   {
    "duration": 10,
    "start_time": "2021-07-01T14:16:08.078Z"
   },
   {
    "duration": 196,
    "start_time": "2021-07-01T14:16:33.511Z"
   },
   {
    "duration": 184,
    "start_time": "2021-07-01T14:17:09.029Z"
   },
   {
    "duration": 211,
    "start_time": "2021-07-01T14:17:23.403Z"
   },
   {
    "duration": 22,
    "start_time": "2021-07-01T14:17:45.885Z"
   },
   {
    "duration": 13,
    "start_time": "2021-07-01T14:19:03.071Z"
   },
   {
    "duration": 188,
    "start_time": "2021-07-01T14:19:11.981Z"
   },
   {
    "duration": 201,
    "start_time": "2021-07-01T14:19:26.332Z"
   },
   {
    "duration": 5,
    "start_time": "2021-07-01T14:19:59.643Z"
   },
   {
    "duration": 22,
    "start_time": "2021-07-01T14:20:23.274Z"
   },
   {
    "duration": 189,
    "start_time": "2021-07-01T14:20:29.794Z"
   },
   {
    "duration": 5,
    "start_time": "2021-07-01T14:20:36.569Z"
   },
   {
    "duration": 13,
    "start_time": "2021-07-01T14:20:40.361Z"
   },
   {
    "duration": 186,
    "start_time": "2021-07-01T14:21:12.827Z"
   },
   {
    "duration": 236,
    "start_time": "2021-07-01T14:21:59.063Z"
   },
   {
    "duration": 31,
    "start_time": "2021-07-01T14:22:21.919Z"
   },
   {
    "duration": 37,
    "start_time": "2021-07-01T14:22:32.602Z"
   },
   {
    "duration": 29,
    "start_time": "2021-07-01T14:22:40.481Z"
   },
   {
    "duration": 12,
    "start_time": "2021-07-01T14:22:51.861Z"
   },
   {
    "duration": 30,
    "start_time": "2021-07-01T14:23:37.845Z"
   },
   {
    "duration": 10,
    "start_time": "2021-07-01T14:23:40.701Z"
   },
   {
    "duration": 12,
    "start_time": "2021-07-01T14:24:02.506Z"
   },
   {
    "duration": 72,
    "start_time": "2021-07-01T14:29:35.860Z"
   },
   {
    "duration": 14,
    "start_time": "2021-07-01T14:29:46.584Z"
   },
   {
    "duration": 316,
    "start_time": "2021-07-01T14:30:43.109Z"
   },
   {
    "duration": 3,
    "start_time": "2021-07-01T14:30:52.258Z"
   },
   {
    "duration": 12,
    "start_time": "2021-07-01T14:31:09.090Z"
   },
   {
    "duration": 5,
    "start_time": "2021-07-01T14:31:21.464Z"
   },
   {
    "duration": 29,
    "start_time": "2021-07-01T14:31:28.670Z"
   },
   {
    "duration": 12,
    "start_time": "2021-07-01T14:31:51.587Z"
   },
   {
    "duration": 5,
    "start_time": "2021-07-01T14:33:00.532Z"
   },
   {
    "duration": 10,
    "start_time": "2021-07-01T14:33:07.784Z"
   },
   {
    "duration": 207,
    "start_time": "2021-07-01T14:35:25.075Z"
   },
   {
    "duration": 6,
    "start_time": "2021-07-01T14:35:33.351Z"
   },
   {
    "duration": 13,
    "start_time": "2021-07-01T14:35:40.732Z"
   },
   {
    "duration": 5,
    "start_time": "2021-07-01T14:35:55.105Z"
   },
   {
    "duration": 13,
    "start_time": "2021-07-01T14:35:57.623Z"
   },
   {
    "duration": 9,
    "start_time": "2021-07-01T14:36:27.256Z"
   },
   {
    "duration": 74,
    "start_time": "2021-07-01T14:36:56.656Z"
   },
   {
    "duration": 4,
    "start_time": "2021-07-01T14:36:59.718Z"
   },
   {
    "duration": 5,
    "start_time": "2021-07-01T14:37:03.423Z"
   },
   {
    "duration": 5,
    "start_time": "2021-07-01T14:37:05.173Z"
   },
   {
    "duration": 175,
    "start_time": "2021-07-01T14:37:09.606Z"
   },
   {
    "duration": 9,
    "start_time": "2021-07-01T14:37:15.604Z"
   },
   {
    "duration": 13,
    "start_time": "2021-07-01T14:39:09.713Z"
   },
   {
    "duration": 313,
    "start_time": "2021-07-01T14:40:57.959Z"
   },
   {
    "duration": 3,
    "start_time": "2021-07-01T14:41:05.251Z"
   },
   {
    "duration": 317,
    "start_time": "2021-07-01T14:41:07.086Z"
   },
   {
    "duration": 15,
    "start_time": "2021-07-01T14:41:24.963Z"
   },
   {
    "duration": 15,
    "start_time": "2021-07-01T14:42:29.548Z"
   },
   {
    "duration": 263,
    "start_time": "2021-07-01T14:46:00.116Z"
   },
   {
    "duration": 25,
    "start_time": "2021-07-01T14:46:14.188Z"
   },
   {
    "duration": 21,
    "start_time": "2021-07-01T14:46:27.693Z"
   },
   {
    "duration": 8,
    "start_time": "2021-07-01T14:46:41.077Z"
   },
   {
    "duration": 299,
    "start_time": "2021-07-01T14:47:00.398Z"
   },
   {
    "duration": 17,
    "start_time": "2021-07-01T14:47:03.259Z"
   },
   {
    "duration": 19,
    "start_time": "2021-07-01T14:47:07.370Z"
   },
   {
    "duration": 71,
    "start_time": "2021-07-01T14:47:12.953Z"
   },
   {
    "duration": 3,
    "start_time": "2021-07-01T14:47:15.490Z"
   },
   {
    "duration": 5,
    "start_time": "2021-07-01T14:47:17.692Z"
   },
   {
    "duration": 5,
    "start_time": "2021-07-01T14:47:19.496Z"
   },
   {
    "duration": 193,
    "start_time": "2021-07-01T14:47:26.748Z"
   },
   {
    "duration": 9,
    "start_time": "2021-07-01T14:47:35.501Z"
   },
   {
    "duration": 292,
    "start_time": "2021-07-01T14:48:05.124Z"
   },
   {
    "duration": 16,
    "start_time": "2021-07-01T14:48:06.896Z"
   },
   {
    "duration": 16,
    "start_time": "2021-07-01T14:48:16.855Z"
   },
   {
    "duration": 19,
    "start_time": "2021-07-01T14:48:23.576Z"
   },
   {
    "duration": 70,
    "start_time": "2021-07-01T14:48:26.366Z"
   },
   {
    "duration": 3,
    "start_time": "2021-07-01T14:48:28.723Z"
   },
   {
    "duration": 4,
    "start_time": "2021-07-01T14:48:30.523Z"
   },
   {
    "duration": 5,
    "start_time": "2021-07-01T14:48:31.230Z"
   },
   {
    "duration": 2,
    "start_time": "2021-07-01T14:48:49.466Z"
   },
   {
    "duration": 10,
    "start_time": "2021-07-01T14:48:53.754Z"
   },
   {
    "duration": 36,
    "start_time": "2021-07-01T14:49:06.569Z"
   },
   {
    "duration": 2,
    "start_time": "2021-07-01T14:49:10.218Z"
   },
   {
    "duration": 11,
    "start_time": "2021-07-01T14:49:14.218Z"
   },
   {
    "duration": 15,
    "start_time": "2021-07-01T14:50:02.551Z"
   },
   {
    "duration": 17,
    "start_time": "2021-07-01T14:50:09.347Z"
   },
   {
    "duration": 14,
    "start_time": "2021-07-01T14:51:43.718Z"
   },
   {
    "duration": 57,
    "start_time": "2021-07-01T14:51:48.000Z"
   },
   {
    "duration": 3,
    "start_time": "2021-07-01T14:51:51.471Z"
   },
   {
    "duration": 5,
    "start_time": "2021-07-01T14:51:53.509Z"
   },
   {
    "duration": 5,
    "start_time": "2021-07-01T14:51:55.675Z"
   },
   {
    "duration": 5,
    "start_time": "2021-07-01T14:51:57.888Z"
   },
   {
    "duration": 12,
    "start_time": "2021-07-01T14:52:04.126Z"
   },
   {
    "duration": 26,
    "start_time": "2021-07-01T14:53:12.698Z"
   },
   {
    "duration": 308,
    "start_time": "2021-07-01T14:53:16.908Z"
   },
   {
    "duration": 35,
    "start_time": "2021-07-01T14:53:35.975Z"
   },
   {
    "duration": 26,
    "start_time": "2021-07-01T14:53:52.444Z"
   },
   {
    "duration": 4,
    "start_time": "2021-07-01T14:54:03.537Z"
   },
   {
    "duration": 4574,
    "start_time": "2021-07-01T14:54:25.104Z"
   },
   {
    "duration": 11,
    "start_time": "2021-07-01T14:54:46.870Z"
   },
   {
    "duration": 5,
    "start_time": "2021-07-01T14:55:00.542Z"
   },
   {
    "duration": 14,
    "start_time": "2021-07-01T14:55:11.245Z"
   },
   {
    "duration": 27,
    "start_time": "2021-07-01T14:55:43.082Z"
   },
   {
    "duration": 10,
    "start_time": "2021-07-01T14:55:46.504Z"
   },
   {
    "duration": 4,
    "start_time": "2021-07-01T14:55:54.198Z"
   },
   {
    "duration": 13,
    "start_time": "2021-07-01T14:56:01.213Z"
   },
   {
    "duration": 5,
    "start_time": "2021-07-01T14:57:20.268Z"
   },
   {
    "duration": 9,
    "start_time": "2021-07-01T14:57:23.344Z"
   },
   {
    "duration": 9,
    "start_time": "2021-07-01T15:03:31.307Z"
   },
   {
    "duration": 9,
    "start_time": "2021-07-01T15:04:56.034Z"
   },
   {
    "duration": 4,
    "start_time": "2021-07-01T15:08:42.045Z"
   },
   {
    "duration": 10,
    "start_time": "2021-07-01T15:08:48.960Z"
   },
   {
    "duration": 4,
    "start_time": "2021-07-01T15:08:54.290Z"
   },
   {
    "duration": 9,
    "start_time": "2021-07-01T15:09:03.541Z"
   },
   {
    "duration": 4,
    "start_time": "2021-07-01T15:10:57.486Z"
   },
   {
    "duration": 9,
    "start_time": "2021-07-01T15:11:02.969Z"
   },
   {
    "duration": 10,
    "start_time": "2021-07-01T15:11:10.684Z"
   },
   {
    "duration": 4,
    "start_time": "2021-07-01T15:11:16.842Z"
   },
   {
    "duration": 8,
    "start_time": "2021-07-01T15:11:38.082Z"
   },
   {
    "duration": 4792,
    "start_time": "2021-07-01T15:17:45.397Z"
   },
   {
    "duration": -8634,
    "start_time": "2021-07-01T15:17:58.824Z"
   },
   {
    "duration": 284,
    "start_time": "2021-07-01T15:18:00.583Z"
   },
   {
    "duration": 16,
    "start_time": "2021-07-01T15:18:02.711Z"
   },
   {
    "duration": 20,
    "start_time": "2021-07-01T15:18:05.499Z"
   },
   {
    "duration": 358,
    "start_time": "2021-07-01T15:18:07.364Z"
   },
   {
    "duration": 4,
    "start_time": "2021-07-01T15:18:09.031Z"
   },
   {
    "duration": 3,
    "start_time": "2021-07-01T15:18:21.889Z"
   },
   {
    "duration": 291,
    "start_time": "2021-07-01T15:18:22.676Z"
   },
   {
    "duration": 2,
    "start_time": "2021-07-01T15:18:23.426Z"
   },
   {
    "duration": 16,
    "start_time": "2021-07-01T15:18:24.781Z"
   },
   {
    "duration": 18,
    "start_time": "2021-07-01T15:18:27.765Z"
   },
   {
    "duration": 64,
    "start_time": "2021-07-01T15:18:31.845Z"
   },
   {
    "duration": 3,
    "start_time": "2021-07-01T15:18:37.915Z"
   },
   {
    "duration": 4,
    "start_time": "2021-07-01T15:18:43.332Z"
   },
   {
    "duration": 5,
    "start_time": "2021-07-01T15:18:44.705Z"
   },
   {
    "duration": 4,
    "start_time": "2021-07-01T15:18:46.185Z"
   },
   {
    "duration": 2,
    "start_time": "2021-07-01T15:18:48.055Z"
   },
   {
    "duration": 39,
    "start_time": "2021-07-01T15:18:49.668Z"
   },
   {
    "duration": 4,
    "start_time": "2021-07-01T15:18:50.809Z"
   },
   {
    "duration": 2,
    "start_time": "2021-07-01T15:19:05.967Z"
   },
   {
    "duration": 15,
    "start_time": "2021-07-01T15:19:06.700Z"
   },
   {
    "duration": 15,
    "start_time": "2021-07-01T15:19:10.292Z"
   },
   {
    "duration": 38,
    "start_time": "2021-07-01T15:19:13.817Z"
   },
   {
    "duration": 11,
    "start_time": "2021-07-01T15:19:16.070Z"
   },
   {
    "duration": 4,
    "start_time": "2021-07-01T15:19:40.909Z"
   },
   {
    "duration": 13,
    "start_time": "2021-07-01T15:20:11.507Z"
   },
   {
    "duration": 3,
    "start_time": "2021-07-01T15:20:57.593Z"
   },
   {
    "duration": 11,
    "start_time": "2021-07-01T15:21:01.938Z"
   },
   {
    "duration": 21,
    "start_time": "2021-07-01T15:21:27.860Z"
   },
   {
    "duration": 22,
    "start_time": "2021-07-01T15:21:31.201Z"
   },
   {
    "duration": 292,
    "start_time": "2021-07-01T15:21:38.217Z"
   },
   {
    "duration": 3,
    "start_time": "2021-07-01T15:21:39.294Z"
   },
   {
    "duration": 23,
    "start_time": "2021-07-01T15:21:40.215Z"
   },
   {
    "duration": 20,
    "start_time": "2021-07-01T15:21:41.867Z"
   },
   {
    "duration": 14,
    "start_time": "2021-07-01T15:21:51.155Z"
   },
   {
    "duration": 68,
    "start_time": "2021-07-01T15:23:11.484Z"
   },
   {
    "duration": 4,
    "start_time": "2021-07-01T15:23:12.888Z"
   },
   {
    "duration": 5,
    "start_time": "2021-07-01T15:23:14.060Z"
   },
   {
    "duration": 5,
    "start_time": "2021-07-01T15:23:14.623Z"
   },
   {
    "duration": 4,
    "start_time": "2021-07-01T15:23:15.208Z"
   },
   {
    "duration": 40,
    "start_time": "2021-07-01T15:23:18.025Z"
   },
   {
    "duration": 5,
    "start_time": "2021-07-01T15:23:19.548Z"
   },
   {
    "duration": 3,
    "start_time": "2021-07-01T15:23:20.816Z"
   },
   {
    "duration": 16,
    "start_time": "2021-07-01T15:23:27.281Z"
   },
   {
    "duration": 16,
    "start_time": "2021-07-01T15:23:31.557Z"
   },
   {
    "duration": 40,
    "start_time": "2021-07-01T15:23:40.542Z"
   },
   {
    "duration": 11,
    "start_time": "2021-07-01T15:23:47.773Z"
   },
   {
    "duration": 5,
    "start_time": "2021-07-01T15:24:08.213Z"
   },
   {
    "duration": 13,
    "start_time": "2021-07-01T15:24:10.959Z"
   },
   {
    "duration": 4,
    "start_time": "2021-07-01T15:24:59.820Z"
   },
   {
    "duration": 12,
    "start_time": "2021-07-01T15:25:06.017Z"
   },
   {
    "duration": 4,
    "start_time": "2021-07-01T15:29:36.582Z"
   },
   {
    "duration": 4,
    "start_time": "2021-07-01T15:29:39.732Z"
   },
   {
    "duration": 5,
    "start_time": "2021-07-01T15:31:06.542Z"
   },
   {
    "duration": 187,
    "start_time": "2021-07-01T15:31:16.008Z"
   },
   {
    "duration": 11,
    "start_time": "2021-07-01T15:31:32.475Z"
   },
   {
    "duration": 286,
    "start_time": "2021-07-01T15:31:39.061Z"
   },
   {
    "duration": 2,
    "start_time": "2021-07-01T15:31:39.916Z"
   },
   {
    "duration": 17,
    "start_time": "2021-07-01T15:31:42.761Z"
   },
   {
    "duration": 21,
    "start_time": "2021-07-01T15:31:45.073Z"
   },
   {
    "duration": 69,
    "start_time": "2021-07-01T15:31:48.735Z"
   },
   {
    "duration": 3,
    "start_time": "2021-07-01T15:31:50.544Z"
   },
   {
    "duration": 6,
    "start_time": "2021-07-01T15:31:52.510Z"
   },
   {
    "duration": 4,
    "start_time": "2021-07-01T15:31:54.169Z"
   },
   {
    "duration": 4,
    "start_time": "2021-07-01T15:31:56.314Z"
   },
   {
    "duration": 38,
    "start_time": "2021-07-01T15:31:59.482Z"
   },
   {
    "duration": 5,
    "start_time": "2021-07-01T15:32:01.310Z"
   },
   {
    "duration": 16,
    "start_time": "2021-07-01T15:32:03.578Z"
   },
   {
    "duration": 15,
    "start_time": "2021-07-01T15:32:12.313Z"
   },
   {
    "duration": 36,
    "start_time": "2021-07-01T15:32:14.354Z"
   },
   {
    "duration": 10,
    "start_time": "2021-07-01T15:32:16.667Z"
   },
   {
    "duration": 4,
    "start_time": "2021-07-01T15:32:21.888Z"
   },
   {
    "duration": 4,
    "start_time": "2021-07-01T15:32:29.666Z"
   },
   {
    "duration": 5,
    "start_time": "2021-07-01T15:32:31.839Z"
   },
   {
    "duration": 222,
    "start_time": "2021-07-01T15:32:40.825Z"
   },
   {
    "duration": -8437,
    "start_time": "2021-07-01T15:33:14.869Z"
   },
   {
    "duration": 8,
    "start_time": "2021-07-01T15:33:09.638Z"
   },
   {
    "duration": 2,
    "start_time": "2021-07-01T15:33:37.027Z"
   },
   {
    "duration": 9,
    "start_time": "2021-07-01T15:33:45.433Z"
   },
   {
    "duration": 280,
    "start_time": "2021-07-01T15:33:50.123Z"
   },
   {
    "duration": 16,
    "start_time": "2021-07-01T15:33:54.585Z"
   },
   {
    "duration": 15,
    "start_time": "2021-07-01T15:33:57.517Z"
   },
   {
    "duration": 36,
    "start_time": "2021-07-01T15:34:01.414Z"
   },
   {
    "duration": 11,
    "start_time": "2021-07-01T15:34:04.905Z"
   },
   {
    "duration": 12,
    "start_time": "2021-07-01T15:34:19.104Z"
   },
   {
    "duration": 4,
    "start_time": "2021-07-01T15:34:31.076Z"
   },
   {
    "duration": 5,
    "start_time": "2021-07-01T15:34:51.741Z"
   },
   {
    "duration": 3,
    "start_time": "2021-07-01T15:35:18.188Z"
   },
   {
    "duration": 3,
    "start_time": "2021-07-01T15:35:28.365Z"
   },
   {
    "duration": 3,
    "start_time": "2021-07-01T15:35:30.459Z"
   },
   {
    "duration": 187,
    "start_time": "2021-07-01T15:35:40.285Z"
   },
   {
    "duration": 273,
    "start_time": "2021-07-01T15:36:00.450Z"
   },
   {
    "duration": 14,
    "start_time": "2021-07-01T15:36:08.437Z"
   },
   {
    "duration": 14,
    "start_time": "2021-07-01T15:36:11.568Z"
   },
   {
    "duration": 38,
    "start_time": "2021-07-01T15:36:12.203Z"
   },
   {
    "duration": 10,
    "start_time": "2021-07-01T15:36:12.903Z"
   },
   {
    "duration": 6,
    "start_time": "2021-07-01T15:36:18.105Z"
   },
   {
    "duration": 5,
    "start_time": "2021-07-01T15:36:23.118Z"
   },
   {
    "duration": 9,
    "start_time": "2021-07-01T15:36:26.162Z"
   },
   {
    "duration": 480,
    "start_time": "2021-07-01T15:37:18.103Z"
   },
   {
    "duration": 298,
    "start_time": "2021-07-01T15:37:42.050Z"
   },
   {
    "duration": 13,
    "start_time": "2021-07-01T15:38:14.399Z"
   },
   {
    "duration": 13,
    "start_time": "2021-07-01T15:38:18.431Z"
   },
   {
    "duration": 13,
    "start_time": "2021-07-01T15:39:03.727Z"
   },
   {
    "duration": 13,
    "start_time": "2021-07-01T15:39:06.012Z"
   },
   {
    "duration": 12,
    "start_time": "2021-07-01T15:39:44.895Z"
   },
   {
    "duration": 4,
    "start_time": "2021-07-01T15:40:43.071Z"
   },
   {
    "duration": 6,
    "start_time": "2021-07-01T15:40:44.773Z"
   },
   {
    "duration": 3,
    "start_time": "2021-07-01T15:40:47.639Z"
   },
   {
    "duration": 12,
    "start_time": "2021-07-01T15:40:48.149Z"
   },
   {
    "duration": 14,
    "start_time": "2021-07-01T15:40:52.032Z"
   },
   {
    "duration": 275,
    "start_time": "2021-07-01T15:41:11.533Z"
   },
   {
    "duration": 16,
    "start_time": "2021-07-01T15:41:16.107Z"
   },
   {
    "duration": 15,
    "start_time": "2021-07-01T15:41:18.635Z"
   },
   {
    "duration": 36,
    "start_time": "2021-07-01T15:41:19.547Z"
   },
   {
    "duration": 11,
    "start_time": "2021-07-01T15:41:20.765Z"
   },
   {
    "duration": 5,
    "start_time": "2021-07-01T15:41:24.483Z"
   },
   {
    "duration": 5,
    "start_time": "2021-07-01T15:41:27.127Z"
   },
   {
    "duration": 14,
    "start_time": "2021-07-01T15:41:29.069Z"
   },
   {
    "duration": 15,
    "start_time": "2021-07-01T15:41:32.532Z"
   },
   {
    "duration": 11,
    "start_time": "2021-07-01T15:41:46.648Z"
   },
   {
    "duration": 12,
    "start_time": "2021-07-01T15:42:11.820Z"
   },
   {
    "duration": 12,
    "start_time": "2021-07-01T15:42:18.917Z"
   },
   {
    "duration": 14,
    "start_time": "2021-07-01T15:42:52.090Z"
   },
   {
    "duration": 4,
    "start_time": "2021-07-01T15:45:52.008Z"
   },
   {
    "duration": 9,
    "start_time": "2021-07-01T15:45:58.479Z"
   },
   {
    "duration": 7,
    "start_time": "2021-07-01T15:50:19.606Z"
   },
   {
    "duration": 17,
    "start_time": "2021-07-01T15:50:24.025Z"
   },
   {
    "duration": 7,
    "start_time": "2021-07-01T15:50:36.914Z"
   },
   {
    "duration": 13,
    "start_time": "2021-07-01T15:50:39.874Z"
   },
   {
    "duration": 6,
    "start_time": "2021-07-01T15:51:01.291Z"
   },
   {
    "duration": 15,
    "start_time": "2021-07-01T15:51:03.895Z"
   },
   {
    "duration": 7,
    "start_time": "2021-07-01T15:51:37.257Z"
   },
   {
    "duration": 15,
    "start_time": "2021-07-01T15:51:38.807Z"
   },
   {
    "duration": 9,
    "start_time": "2021-07-01T15:51:55.384Z"
   },
   {
    "duration": 4,
    "start_time": "2021-07-01T15:52:35.309Z"
   },
   {
    "duration": 4,
    "start_time": "2021-07-01T15:52:37.256Z"
   },
   {
    "duration": 14,
    "start_time": "2021-07-01T15:52:40.833Z"
   },
   {
    "duration": 12,
    "start_time": "2021-07-01T15:52:43.593Z"
   },
   {
    "duration": 16,
    "start_time": "2021-07-01T15:52:54.760Z"
   },
   {
    "duration": 6,
    "start_time": "2021-07-01T15:53:56.120Z"
   },
   {
    "duration": 7,
    "start_time": "2021-07-01T16:03:09.906Z"
   },
   {
    "duration": 16,
    "start_time": "2021-07-01T16:03:20.870Z"
   },
   {
    "duration": 197,
    "start_time": "2021-07-01T16:04:04.096Z"
   },
   {
    "duration": 13,
    "start_time": "2021-07-01T16:04:18.220Z"
   },
   {
    "duration": 12,
    "start_time": "2021-07-01T16:06:50.764Z"
   },
   {
    "duration": 9,
    "start_time": "2021-07-01T16:07:08.650Z"
   },
   {
    "duration": 10,
    "start_time": "2021-07-01T16:07:10.883Z"
   },
   {
    "duration": 209,
    "start_time": "2021-07-01T16:08:01.827Z"
   },
   {
    "duration": 10,
    "start_time": "2021-07-01T16:08:10.400Z"
   },
   {
    "duration": 12,
    "start_time": "2021-07-01T16:08:26.256Z"
   },
   {
    "duration": 10,
    "start_time": "2021-07-01T16:08:31.824Z"
   },
   {
    "duration": 3,
    "start_time": "2021-07-01T16:08:47.839Z"
   },
   {
    "duration": 14,
    "start_time": "2021-07-01T16:09:29.872Z"
   },
   {
    "duration": 10,
    "start_time": "2021-07-01T16:09:35.537Z"
   },
   {
    "duration": 5135,
    "start_time": "2021-07-01T16:10:57.932Z"
   },
   {
    "duration": -8673,
    "start_time": "2021-07-01T16:11:11.742Z"
   },
   {
    "duration": 194,
    "start_time": "2021-07-01T16:11:27.060Z"
   },
   {
    "duration": 3,
    "start_time": "2021-07-01T16:11:35.596Z"
   },
   {
    "duration": 3075,
    "start_time": "2021-07-01T16:12:24.361Z"
   },
   {
    "duration": 5,
    "start_time": "2021-07-01T16:14:52.638Z"
   },
   {
    "duration": 8,
    "start_time": "2021-07-01T16:15:05.659Z"
   },
   {
    "duration": 14,
    "start_time": "2021-07-01T16:15:07.446Z"
   },
   {
    "duration": 6,
    "start_time": "2021-07-01T16:31:52.038Z"
   },
   {
    "duration": 351,
    "start_time": "2021-07-01T16:32:47.530Z"
   },
   {
    "duration": 6,
    "start_time": "2021-07-01T16:33:47.812Z"
   },
   {
    "duration": 70,
    "start_time": "2021-07-01T16:33:50.927Z"
   },
   {
    "duration": 17,
    "start_time": "2021-07-01T16:33:54.924Z"
   },
   {
    "duration": 7,
    "start_time": "2021-07-01T16:34:09.436Z"
   },
   {
    "duration": 787,
    "start_time": "2021-07-01T16:34:11.788Z"
   },
   {
    "duration": 380,
    "start_time": "2021-07-01T16:34:26.413Z"
   },
   {
    "duration": 5,
    "start_time": "2021-07-01T16:34:49.662Z"
   },
   {
    "duration": 390,
    "start_time": "2021-07-01T16:34:52.493Z"
   },
   {
    "duration": 6,
    "start_time": "2021-07-01T16:35:58.367Z"
   },
   {
    "duration": 362,
    "start_time": "2021-07-01T16:36:07.893Z"
   },
   {
    "duration": 6,
    "start_time": "2021-07-01T16:37:30.699Z"
   },
   {
    "duration": 358,
    "start_time": "2021-07-01T16:37:33.390Z"
   },
   {
    "duration": 279,
    "start_time": "2021-07-01T16:39:50.947Z"
   },
   {
    "duration": 6,
    "start_time": "2021-07-01T16:40:54.497Z"
   },
   {
    "duration": 739,
    "start_time": "2021-07-01T16:40:59.948Z"
   },
   {
    "duration": 5,
    "start_time": "2021-07-01T16:42:21.212Z"
   },
   {
    "duration": 4,
    "start_time": "2021-07-01T16:44:16.568Z"
   },
   {
    "duration": 4,
    "start_time": "2021-07-01T16:44:19.625Z"
   },
   {
    "duration": 364,
    "start_time": "2021-07-01T16:44:28.365Z"
   },
   {
    "duration": 4,
    "start_time": "2021-07-01T16:46:43.103Z"
   },
   {
    "duration": 45,
    "start_time": "2021-07-01T16:46:45.934Z"
   },
   {
    "duration": 43,
    "start_time": "2021-07-01T16:46:52.469Z"
   },
   {
    "duration": 14,
    "start_time": "2021-07-01T16:46:54.050Z"
   },
   {
    "duration": 6,
    "start_time": "2021-07-01T16:47:35.285Z"
   },
   {
    "duration": 6,
    "start_time": "2021-07-01T16:53:04.228Z"
   },
   {
    "duration": 877,
    "start_time": "2021-07-01T16:53:07.321Z"
   },
   {
    "duration": 6,
    "start_time": "2021-07-01T16:54:37.887Z"
   },
   {
    "duration": 75,
    "start_time": "2021-07-01T16:54:42.280Z"
   },
   {
    "duration": 17,
    "start_time": "2021-07-01T16:54:53.184Z"
   },
   {
    "duration": 8,
    "start_time": "2021-07-01T16:56:14.662Z"
   },
   {
    "duration": 68,
    "start_time": "2021-07-01T16:56:52.512Z"
   },
   {
    "duration": 7,
    "start_time": "2021-07-01T16:57:35.263Z"
   },
   {
    "duration": 68,
    "start_time": "2021-07-01T16:57:37.905Z"
   },
   {
    "duration": 17,
    "start_time": "2021-07-01T16:57:41.153Z"
   },
   {
    "duration": 17,
    "start_time": "2021-07-01T17:02:51.009Z"
   },
   {
    "duration": 28,
    "start_time": "2021-07-01T17:05:38.060Z"
   },
   {
    "duration": 269,
    "start_time": "2021-07-01T17:07:13.486Z"
   },
   {
    "duration": 69,
    "start_time": "2021-07-01T17:09:04.915Z"
   },
   {
    "duration": 15,
    "start_time": "2021-07-01T17:09:06.650Z"
   },
   {
    "duration": 11,
    "start_time": "2021-07-01T17:11:13.161Z"
   },
   {
    "duration": 8,
    "start_time": "2021-07-01T17:11:19.563Z"
   },
   {
    "duration": 436,
    "start_time": "2021-07-01T17:15:38.843Z"
   },
   {
    "duration": 187,
    "start_time": "2021-07-01T17:16:13.565Z"
   },
   {
    "duration": 15,
    "start_time": "2021-07-01T17:16:25.510Z"
   },
   {
    "duration": 10,
    "start_time": "2021-07-01T17:16:28.626Z"
   },
   {
    "duration": 238,
    "start_time": "2021-07-01T17:18:33.520Z"
   },
   {
    "duration": 173,
    "start_time": "2021-07-01T17:18:45.407Z"
   },
   {
    "duration": 6,
    "start_time": "2021-07-01T17:19:07.838Z"
   },
   {
    "duration": 17,
    "start_time": "2021-07-01T17:19:19.922Z"
   },
   {
    "duration": 232,
    "start_time": "2021-07-01T17:20:01.761Z"
   },
   {
    "duration": 7,
    "start_time": "2021-07-01T17:20:09.189Z"
   },
   {
    "duration": 29,
    "start_time": "2021-07-01T17:22:16.788Z"
   },
   {
    "duration": 10,
    "start_time": "2021-07-01T17:23:38.382Z"
   },
   {
    "duration": 12,
    "start_time": "2021-07-01T17:23:42.339Z"
   },
   {
    "duration": 4572,
    "start_time": "2021-07-01T17:24:45.012Z"
   },
   {
    "duration": 12,
    "start_time": "2021-07-01T17:24:58.259Z"
   },
   {
    "duration": 10,
    "start_time": "2021-07-01T17:25:33.326Z"
   },
   {
    "duration": 178,
    "start_time": "2021-07-01T17:26:41.388Z"
   },
   {
    "duration": 12,
    "start_time": "2021-07-01T17:26:49.013Z"
   },
   {
    "duration": 14,
    "start_time": "2021-07-01T17:26:59.078Z"
   },
   {
    "duration": 13,
    "start_time": "2021-07-01T17:27:29.331Z"
   },
   {
    "duration": 12,
    "start_time": "2021-07-01T17:28:29.244Z"
   },
   {
    "duration": 10,
    "start_time": "2021-07-01T17:33:01.905Z"
   },
   {
    "duration": 24,
    "start_time": "2021-07-01T17:33:04.967Z"
   },
   {
    "duration": 6,
    "start_time": "2021-07-01T17:33:36.853Z"
   },
   {
    "duration": 11,
    "start_time": "2021-07-01T17:33:41.192Z"
   },
   {
    "duration": 5,
    "start_time": "2021-07-01T17:34:03.952Z"
   },
   {
    "duration": 5,
    "start_time": "2021-07-01T17:34:08.639Z"
   },
   {
    "duration": 21,
    "start_time": "2021-07-01T17:42:54.902Z"
   },
   {
    "duration": 256,
    "start_time": "2021-07-01T17:47:00.472Z"
   },
   {
    "duration": 40,
    "start_time": "2021-07-01T17:47:09.058Z"
   },
   {
    "duration": 33,
    "start_time": "2021-07-01T17:48:22.411Z"
   },
   {
    "duration": 30,
    "start_time": "2021-07-01T17:48:51.967Z"
   },
   {
    "duration": 199,
    "start_time": "2021-07-01T17:52:41.639Z"
   },
   {
    "duration": 39,
    "start_time": "2021-07-01T17:52:46.753Z"
   },
   {
    "duration": 22,
    "start_time": "2021-07-01T17:56:13.418Z"
   },
   {
    "duration": 20,
    "start_time": "2021-07-01T17:56:22.742Z"
   },
   {
    "duration": 42,
    "start_time": "2021-07-01T17:57:05.639Z"
   },
   {
    "duration": 3,
    "start_time": "2021-07-01T18:09:36.583Z"
   },
   {
    "duration": 243,
    "start_time": "2021-07-01T18:10:24.523Z"
   },
   {
    "duration": 247,
    "start_time": "2021-07-01T18:13:08.841Z"
   },
   {
    "duration": 43,
    "start_time": "2021-07-01T18:48:26.195Z"
   },
   {
    "duration": 27,
    "start_time": "2021-07-01T20:03:13.828Z"
   },
   {
    "duration": 21,
    "start_time": "2021-07-01T20:04:43.444Z"
   },
   {
    "duration": 27,
    "start_time": "2021-07-01T20:04:46.643Z"
   },
   {
    "duration": 232,
    "start_time": "2021-07-01T20:04:56.716Z"
   },
   {
    "duration": 29,
    "start_time": "2021-07-01T20:05:00.925Z"
   },
   {
    "duration": 28,
    "start_time": "2021-07-01T20:17:41.978Z"
   },
   {
    "duration": 11,
    "start_time": "2021-07-01T20:18:07.992Z"
   },
   {
    "duration": 4830,
    "start_time": "2021-07-01T20:18:34.734Z"
   },
   {
    "duration": 12,
    "start_time": "2021-07-01T20:18:54.622Z"
   },
   {
    "duration": 216,
    "start_time": "2021-07-01T20:22:17.244Z"
   },
   {
    "duration": 29,
    "start_time": "2021-07-01T20:22:43.443Z"
   },
   {
    "duration": 171,
    "start_time": "2021-07-01T20:37:22.656Z"
   },
   {
    "duration": 3,
    "start_time": "2021-07-01T20:38:50.907Z"
   },
   {
    "duration": 195,
    "start_time": "2021-07-01T20:38:55.117Z"
   },
   {
    "duration": 4,
    "start_time": "2021-07-01T20:40:03.313Z"
   },
   {
    "duration": 177,
    "start_time": "2021-07-01T20:40:13.116Z"
   },
   {
    "duration": 4,
    "start_time": "2021-07-01T20:40:51.715Z"
   },
   {
    "duration": 4,
    "start_time": "2021-07-01T20:42:18.279Z"
   },
   {
    "duration": 5,
    "start_time": "2021-07-01T20:43:18.860Z"
   },
   {
    "duration": 5,
    "start_time": "2021-07-01T20:44:47.585Z"
   },
   {
    "duration": 5,
    "start_time": "2021-07-01T20:44:52.721Z"
   },
   {
    "duration": 10,
    "start_time": "2021-07-01T20:45:10.571Z"
   },
   {
    "duration": 4,
    "start_time": "2021-07-01T20:45:33.222Z"
   },
   {
    "duration": 5,
    "start_time": "2021-07-01T20:45:39.328Z"
   },
   {
    "duration": 6,
    "start_time": "2021-07-01T20:45:43.633Z"
   },
   {
    "duration": 16,
    "start_time": "2021-07-01T20:46:07.513Z"
   },
   {
    "duration": 3,
    "start_time": "2021-07-01T20:46:35.333Z"
   },
   {
    "duration": 4,
    "start_time": "2021-07-01T20:46:44.880Z"
   },
   {
    "duration": 6,
    "start_time": "2021-07-01T20:47:22.892Z"
   },
   {
    "duration": 8,
    "start_time": "2021-07-01T20:47:34.998Z"
   },
   {
    "duration": 8,
    "start_time": "2021-07-01T20:47:50.003Z"
   },
   {
    "duration": 5,
    "start_time": "2021-07-01T20:48:14.125Z"
   },
   {
    "duration": 5,
    "start_time": "2021-07-01T20:48:34.925Z"
   },
   {
    "duration": 5,
    "start_time": "2021-07-01T20:48:51.193Z"
   },
   {
    "duration": 7,
    "start_time": "2021-07-01T20:48:58.892Z"
   },
   {
    "duration": 179,
    "start_time": "2021-07-01T20:50:05.987Z"
   },
   {
    "duration": 5,
    "start_time": "2021-07-01T20:50:22.787Z"
   },
   {
    "duration": 181,
    "start_time": "2021-07-01T20:51:40.498Z"
   },
   {
    "duration": 4,
    "start_time": "2021-07-01T20:54:20.678Z"
   },
   {
    "duration": 310,
    "start_time": "2021-07-01T20:56:24.546Z"
   },
   {
    "duration": 175,
    "start_time": "2021-07-01T20:56:55.553Z"
   },
   {
    "duration": 7,
    "start_time": "2021-07-01T20:57:19.553Z"
   },
   {
    "duration": 7,
    "start_time": "2021-07-01T20:57:54.849Z"
   },
   {
    "duration": 3,
    "start_time": "2021-07-01T20:58:22.354Z"
   },
   {
    "duration": 4,
    "start_time": "2021-07-01T20:58:30.947Z"
   },
   {
    "duration": 4,
    "start_time": "2021-07-01T21:00:51.106Z"
   },
   {
    "duration": 3,
    "start_time": "2021-07-01T21:01:05.719Z"
   },
   {
    "duration": 4,
    "start_time": "2021-07-01T21:01:07.748Z"
   },
   {
    "duration": 4,
    "start_time": "2021-07-01T21:01:13.906Z"
   },
   {
    "duration": 4,
    "start_time": "2021-07-01T21:03:07.189Z"
   },
   {
    "duration": 3,
    "start_time": "2021-07-01T21:03:11.542Z"
   },
   {
    "duration": 3,
    "start_time": "2021-07-01T21:03:17.296Z"
   },
   {
    "duration": 5,
    "start_time": "2021-07-01T21:03:18.942Z"
   },
   {
    "duration": 5,
    "start_time": "2021-07-01T21:03:29.610Z"
   },
   {
    "duration": 4,
    "start_time": "2021-07-01T21:03:47.384Z"
   },
   {
    "duration": 4,
    "start_time": "2021-07-01T21:04:04.427Z"
   },
   {
    "duration": 4,
    "start_time": "2021-07-01T21:04:18.686Z"
   },
   {
    "duration": 15,
    "start_time": "2021-07-01T21:04:29.612Z"
   },
   {
    "duration": 5,
    "start_time": "2021-07-01T21:04:58.119Z"
   },
   {
    "duration": 2,
    "start_time": "2021-07-01T21:05:04.509Z"
   },
   {
    "duration": 6,
    "start_time": "2021-07-01T21:05:07.459Z"
   },
   {
    "duration": 2,
    "start_time": "2021-07-01T21:05:14.376Z"
   },
   {
    "duration": 3,
    "start_time": "2021-07-01T21:05:37.129Z"
   },
   {
    "duration": 4,
    "start_time": "2021-07-01T21:05:40.357Z"
   },
   {
    "duration": 4,
    "start_time": "2021-07-01T21:05:45.237Z"
   },
   {
    "duration": 3,
    "start_time": "2021-07-01T21:05:49.830Z"
   },
   {
    "duration": 6,
    "start_time": "2021-07-01T21:05:51.463Z"
   },
   {
    "duration": 3,
    "start_time": "2021-07-01T21:05:56.035Z"
   },
   {
    "duration": 5,
    "start_time": "2021-07-01T21:05:57.654Z"
   },
   {
    "duration": 2,
    "start_time": "2021-07-01T21:06:00.757Z"
   },
   {
    "duration": 4,
    "start_time": "2021-07-01T21:06:10.087Z"
   },
   {
    "duration": 7,
    "start_time": "2021-07-01T21:06:14.261Z"
   },
   {
    "duration": 7,
    "start_time": "2021-07-01T21:06:32.338Z"
   },
   {
    "duration": 3,
    "start_time": "2021-07-01T21:06:38.991Z"
   },
   {
    "duration": 16,
    "start_time": "2021-07-01T21:06:41.158Z"
   },
   {
    "duration": 5,
    "start_time": "2021-07-01T21:06:51.427Z"
   },
   {
    "duration": 3,
    "start_time": "2021-07-01T21:07:13.981Z"
   },
   {
    "duration": 6,
    "start_time": "2021-07-01T21:07:24.693Z"
   },
   {
    "duration": 5,
    "start_time": "2021-07-01T21:07:58.408Z"
   },
   {
    "duration": 5,
    "start_time": "2021-07-01T21:08:08.046Z"
   },
   {
    "duration": 6,
    "start_time": "2021-07-01T22:29:30.935Z"
   },
   {
    "duration": 14,
    "start_time": "2021-07-01T22:31:33.081Z"
   },
   {
    "duration": 192,
    "start_time": "2021-07-01T22:32:29.838Z"
   },
   {
    "duration": 6,
    "start_time": "2021-07-01T22:32:38.314Z"
   },
   {
    "duration": 4,
    "start_time": "2021-07-01T22:36:10.114Z"
   },
   {
    "duration": 6,
    "start_time": "2021-07-01T22:36:13.657Z"
   },
   {
    "duration": 8,
    "start_time": "2021-07-01T22:36:22.023Z"
   },
   {
    "duration": 15,
    "start_time": "2021-07-01T22:36:24.270Z"
   },
   {
    "duration": 3,
    "start_time": "2021-07-01T22:36:32.232Z"
   },
   {
    "duration": 6,
    "start_time": "2021-07-01T22:36:38.425Z"
   },
   {
    "duration": 68,
    "start_time": "2021-07-01T22:36:40.905Z"
   },
   {
    "duration": 17,
    "start_time": "2021-07-01T22:36:43.382Z"
   },
   {
    "duration": 4,
    "start_time": "2021-07-01T22:36:53.237Z"
   },
   {
    "duration": 8,
    "start_time": "2021-07-01T22:36:57.013Z"
   },
   {
    "duration": 6,
    "start_time": "2021-07-01T22:37:18.704Z"
   },
   {
    "duration": 7,
    "start_time": "2021-07-01T22:39:00.505Z"
   },
   {
    "duration": 6,
    "start_time": "2021-07-01T22:39:43.815Z"
   },
   {
    "duration": 6,
    "start_time": "2021-07-01T22:41:02.095Z"
   },
   {
    "duration": 7,
    "start_time": "2021-07-01T22:41:11.742Z"
   },
   {
    "duration": 5,
    "start_time": "2021-07-01T22:42:26.627Z"
   },
   {
    "duration": 6,
    "start_time": "2021-07-01T22:42:45.311Z"
   },
   {
    "duration": 5,
    "start_time": "2021-07-01T22:42:58.573Z"
   },
   {
    "duration": 4209,
    "start_time": "2021-07-01T22:43:26.290Z"
   },
   {
    "duration": 7,
    "start_time": "2021-07-01T22:43:33.137Z"
   },
   {
    "duration": 7,
    "start_time": "2021-07-01T22:43:40.566Z"
   },
   {
    "duration": 4579,
    "start_time": "2021-07-01T22:49:59.214Z"
   },
   {
    "duration": -8784,
    "start_time": "2021-07-01T22:50:12.579Z"
   },
   {
    "duration": 182,
    "start_time": "2021-07-01T22:50:22.711Z"
   },
   {
    "duration": 5,
    "start_time": "2021-07-01T22:53:11.570Z"
   },
   {
    "duration": 13,
    "start_time": "2021-07-01T22:53:14.963Z"
   },
   {
    "duration": 201,
    "start_time": "2021-07-01T22:53:31.862Z"
   },
   {
    "duration": 4,
    "start_time": "2021-07-01T22:53:43.918Z"
   },
   {
    "duration": 15,
    "start_time": "2021-07-01T22:53:46.657Z"
   },
   {
    "duration": 5,
    "start_time": "2021-07-01T22:55:16.663Z"
   },
   {
    "duration": 14,
    "start_time": "2021-07-01T22:55:19.416Z"
   },
   {
    "duration": 5,
    "start_time": "2021-07-01T22:55:58.250Z"
   },
   {
    "duration": 14,
    "start_time": "2021-07-01T22:56:00.979Z"
   },
   {
    "duration": 6,
    "start_time": "2021-07-01T22:56:26.533Z"
   },
   {
    "duration": 7,
    "start_time": "2021-07-01T22:57:23.468Z"
   },
   {
    "duration": 5,
    "start_time": "2021-07-01T22:58:05.630Z"
   },
   {
    "duration": 16,
    "start_time": "2021-07-01T22:58:08.283Z"
   },
   {
    "duration": 5,
    "start_time": "2021-07-01T22:58:21.931Z"
   },
   {
    "duration": 14,
    "start_time": "2021-07-01T22:58:24.990Z"
   },
   {
    "duration": 391,
    "start_time": "2021-07-02T06:56:14.043Z"
   },
   {
    "duration": 338,
    "start_time": "2021-07-02T06:56:19.277Z"
   },
   {
    "duration": 1368,
    "start_time": "2021-07-02T06:56:22.558Z"
   },
   {
    "duration": 486,
    "start_time": "2021-07-02T06:56:23.928Z"
   },
   {
    "duration": 50,
    "start_time": "2021-07-02T06:56:27.040Z"
   },
   {
    "duration": 29,
    "start_time": "2021-07-02T06:56:33.819Z"
   },
   {
    "duration": 175,
    "start_time": "2021-07-02T06:56:36.541Z"
   },
   {
    "duration": 4,
    "start_time": "2021-07-02T06:56:37.521Z"
   },
   {
    "duration": 7,
    "start_time": "2021-07-02T06:56:38.273Z"
   },
   {
    "duration": 6,
    "start_time": "2021-07-02T06:56:39.011Z"
   },
   {
    "duration": 7,
    "start_time": "2021-07-02T06:56:39.827Z"
   },
   {
    "duration": 4,
    "start_time": "2021-07-02T06:56:41.132Z"
   },
   {
    "duration": 59,
    "start_time": "2021-07-02T06:56:42.527Z"
   },
   {
    "duration": 6,
    "start_time": "2021-07-02T06:56:43.564Z"
   },
   {
    "duration": 3,
    "start_time": "2021-07-02T06:56:45.555Z"
   },
   {
    "duration": 22,
    "start_time": "2021-07-02T06:56:46.311Z"
   },
   {
    "duration": 28,
    "start_time": "2021-07-02T06:56:49.302Z"
   },
   {
    "duration": 86,
    "start_time": "2021-07-02T06:56:50.328Z"
   },
   {
    "duration": 22,
    "start_time": "2021-07-02T06:56:51.604Z"
   },
   {
    "duration": 9,
    "start_time": "2021-07-02T06:56:53.542Z"
   },
   {
    "duration": 7,
    "start_time": "2021-07-02T06:56:56.926Z"
   },
   {
    "duration": 19,
    "start_time": "2021-07-02T06:57:00.046Z"
   },
   {
    "duration": 5,
    "start_time": "2021-07-02T06:57:01.098Z"
   },
   {
    "duration": 8,
    "start_time": "2021-07-02T06:57:02.057Z"
   },
   {
    "duration": 12,
    "start_time": "2021-07-02T06:57:05.786Z"
   },
   {
    "duration": 21,
    "start_time": "2021-07-02T06:57:06.703Z"
   },
   {
    "duration": 12,
    "start_time": "2021-07-02T06:57:43.298Z"
   },
   {
    "duration": 117,
    "start_time": "2021-07-02T06:57:44.116Z"
   },
   {
    "duration": 26,
    "start_time": "2021-07-02T06:57:45.217Z"
   },
   {
    "duration": 5,
    "start_time": "2021-07-02T06:57:50.751Z"
   },
   {
    "duration": 11,
    "start_time": "2021-07-02T06:58:00.657Z"
   },
   {
    "duration": 68,
    "start_time": "2021-07-02T06:58:07.471Z"
   },
   {
    "duration": 44,
    "start_time": "2021-07-02T06:58:13.334Z"
   },
   {
    "duration": 14,
    "start_time": "2021-07-02T07:03:47.782Z"
   },
   {
    "duration": 7,
    "start_time": "2021-07-02T07:03:57.325Z"
   },
   {
    "duration": 435,
    "start_time": "2021-07-02T07:04:15.228Z"
   },
   {
    "duration": 390,
    "start_time": "2021-07-02T07:04:18.495Z"
   },
   {
    "duration": 32,
    "start_time": "2021-07-02T07:04:20.793Z"
   },
   {
    "duration": 18,
    "start_time": "2021-07-02T07:04:49.718Z"
   },
   {
    "duration": 19,
    "start_time": "2021-07-02T07:05:08.647Z"
   },
   {
    "duration": 18,
    "start_time": "2021-07-02T07:05:29.294Z"
   },
   {
    "duration": 19,
    "start_time": "2021-07-02T07:05:35.608Z"
   },
   {
    "duration": 7,
    "start_time": "2021-07-02T07:10:52.276Z"
   },
   {
    "duration": 352,
    "start_time": "2021-07-02T07:17:17.801Z"
   },
   {
    "duration": 619,
    "start_time": "2021-07-02T07:17:58.299Z"
   },
   {
    "duration": 4,
    "start_time": "2021-07-02T07:18:47.849Z"
   },
   {
    "duration": 347,
    "start_time": "2021-07-02T07:18:56.608Z"
   },
   {
    "duration": 12,
    "start_time": "2021-07-02T07:19:00.954Z"
   },
   {
    "duration": 125,
    "start_time": "2021-07-02T07:21:05.337Z"
   },
   {
    "duration": 311,
    "start_time": "2021-07-02T07:21:11.897Z"
   },
   {
    "duration": 499,
    "start_time": "2021-07-02T07:21:46.395Z"
   },
   {
    "duration": 341,
    "start_time": "2021-07-02T07:22:13.490Z"
   },
   {
    "duration": 366,
    "start_time": "2021-07-02T07:22:39.173Z"
   },
   {
    "duration": 400,
    "start_time": "2021-07-02T07:22:50.870Z"
   },
   {
    "duration": 569,
    "start_time": "2021-07-02T07:22:58.868Z"
   },
   {
    "duration": 12,
    "start_time": "2021-07-02T07:23:58.660Z"
   },
   {
    "duration": 9,
    "start_time": "2021-07-02T08:14:11.943Z"
   },
   {
    "duration": 4,
    "start_time": "2021-07-02T08:14:28.668Z"
   },
   {
    "duration": 304,
    "start_time": "2021-07-02T08:14:43.622Z"
   },
   {
    "duration": 305,
    "start_time": "2021-07-02T08:15:27.398Z"
   },
   {
    "duration": 357,
    "start_time": "2021-07-02T08:15:42.435Z"
   },
   {
    "duration": 9,
    "start_time": "2021-07-02T08:15:45.482Z"
   },
   {
    "duration": 470,
    "start_time": "2021-07-02T08:20:09.546Z"
   },
   {
    "duration": -12179,
    "start_time": "2021-07-02T08:20:22.198Z"
   },
   {
    "duration": 8,
    "start_time": "2021-07-02T08:20:24.605Z"
   },
   {
    "duration": 5,
    "start_time": "2021-07-02T08:22:43.955Z"
   },
   {
    "duration": 8,
    "start_time": "2021-07-02T08:23:43.047Z"
   },
   {
    "duration": 9,
    "start_time": "2021-07-02T08:24:16.937Z"
   },
   {
    "duration": 13,
    "start_time": "2021-07-02T08:24:20.343Z"
   },
   {
    "duration": 22,
    "start_time": "2021-07-02T08:24:27.404Z"
   },
   {
    "duration": 68,
    "start_time": "2021-07-02T08:25:11.100Z"
   },
   {
    "duration": 46,
    "start_time": "2021-07-02T08:25:41.116Z"
   },
   {
    "duration": 52,
    "start_time": "2021-07-02T08:25:50.862Z"
   },
   {
    "duration": 23,
    "start_time": "2021-07-02T08:25:55.025Z"
   },
   {
    "duration": 4,
    "start_time": "2021-07-02T09:03:15.366Z"
   },
   {
    "duration": 578,
    "start_time": "2021-07-02T09:03:43.969Z"
   },
   {
    "duration": -9863,
    "start_time": "2021-07-02T09:03:54.413Z"
   },
   {
    "duration": 47,
    "start_time": "2021-07-02T09:04:03.472Z"
   },
   {
    "duration": 5,
    "start_time": "2021-07-02T09:04:04.879Z"
   },
   {
    "duration": 6,
    "start_time": "2021-07-02T09:04:08.978Z"
   },
   {
    "duration": 20,
    "start_time": "2021-07-02T09:04:20.187Z"
   },
   {
    "duration": 50,
    "start_time": "2021-07-02T09:05:39.508Z"
   },
   {
    "duration": 5,
    "start_time": "2021-07-02T09:05:42.678Z"
   },
   {
    "duration": 5,
    "start_time": "2021-07-02T09:05:44.877Z"
   },
   {
    "duration": 18,
    "start_time": "2021-07-02T09:05:45.841Z"
   },
   {
    "duration": 53,
    "start_time": "2021-07-02T09:09:26.404Z"
   },
   {
    "duration": 5,
    "start_time": "2021-07-02T09:09:29.577Z"
   },
   {
    "duration": 6,
    "start_time": "2021-07-02T09:09:30.375Z"
   },
   {
    "duration": 22,
    "start_time": "2021-07-02T09:09:31.642Z"
   },
   {
    "duration": 54,
    "start_time": "2021-07-02T09:11:47.323Z"
   },
   {
    "duration": 5,
    "start_time": "2021-07-02T09:12:05.053Z"
   },
   {
    "duration": 5,
    "start_time": "2021-07-02T09:12:23.895Z"
   },
   {
    "duration": 24,
    "start_time": "2021-07-02T09:12:32.876Z"
   },
   {
    "duration": 62,
    "start_time": "2021-07-02T09:20:43.517Z"
   },
   {
    "duration": 63,
    "start_time": "2021-07-02T09:20:46.290Z"
   },
   {
    "duration": 5,
    "start_time": "2021-07-02T09:21:06.099Z"
   },
   {
    "duration": 571,
    "start_time": "2021-07-02T09:21:13.098Z"
   },
   {
    "duration": 66,
    "start_time": "2021-07-02T09:21:19.992Z"
   },
   {
    "duration": 5,
    "start_time": "2021-07-02T09:21:21.208Z"
   },
   {
    "duration": 7,
    "start_time": "2021-07-02T09:21:30.233Z"
   },
   {
    "duration": 6,
    "start_time": "2021-07-02T09:21:32.154Z"
   },
   {
    "duration": 29,
    "start_time": "2021-07-02T09:21:39.672Z"
   },
   {
    "duration": 128,
    "start_time": "2021-07-02T09:21:55.928Z"
   },
   {
    "duration": 50,
    "start_time": "2021-07-02T09:21:59.425Z"
   },
   {
    "duration": 6,
    "start_time": "2021-07-02T09:22:02.243Z"
   },
   {
    "duration": 5,
    "start_time": "2021-07-02T09:22:04.743Z"
   },
   {
    "duration": 18,
    "start_time": "2021-07-02T09:22:06.137Z"
   },
   {
    "duration": 824,
    "start_time": "2021-07-02T09:31:25.645Z"
   },
   {
    "duration": 544,
    "start_time": "2021-07-02T09:37:09.807Z"
   },
   {
    "duration": 639,
    "start_time": "2021-07-02T09:39:17.220Z"
   },
   {
    "duration": 2145,
    "start_time": "2021-07-02T09:40:39.925Z"
   },
   {
    "duration": 563,
    "start_time": "2021-07-02T09:40:50.249Z"
   },
   {
    "duration": 624,
    "start_time": "2021-07-02T09:41:29.258Z"
   },
   {
    "duration": 665,
    "start_time": "2021-07-02T09:47:30.866Z"
   },
   {
    "duration": 753,
    "start_time": "2021-07-02T09:47:58.707Z"
   },
   {
    "duration": 933,
    "start_time": "2021-07-02T09:48:19.403Z"
   },
   {
    "duration": 643,
    "start_time": "2021-07-02T09:48:34.288Z"
   },
   {
    "duration": 636,
    "start_time": "2021-07-02T09:48:57.759Z"
   },
   {
    "duration": 641,
    "start_time": "2021-07-02T09:49:40.301Z"
   },
   {
    "duration": 3,
    "start_time": "2021-07-02T09:50:11.019Z"
   },
   {
    "duration": 1799,
    "start_time": "2021-07-02T09:54:16.164Z"
   },
   {
    "duration": 1695,
    "start_time": "2021-07-02T09:54:51.337Z"
   },
   {
    "duration": 1829,
    "start_time": "2021-07-02T09:55:05.369Z"
   },
   {
    "duration": 1170,
    "start_time": "2021-07-02T09:55:43.326Z"
   },
   {
    "duration": 1764,
    "start_time": "2021-07-02T09:56:06.157Z"
   },
   {
    "duration": 2307,
    "start_time": "2021-07-02T09:57:20.063Z"
   },
   {
    "duration": 9,
    "start_time": "2021-07-02T09:59:18.810Z"
   },
   {
    "duration": 1521,
    "start_time": "2021-07-02T10:00:50.259Z"
   },
   {
    "duration": 1757,
    "start_time": "2021-07-02T10:01:16.851Z"
   },
   {
    "duration": 1923,
    "start_time": "2021-07-02T10:01:40.788Z"
   },
   {
    "duration": 1974,
    "start_time": "2021-07-02T10:02:06.337Z"
   },
   {
    "duration": 2123,
    "start_time": "2021-07-02T10:03:28.392Z"
   },
   {
    "duration": 1740,
    "start_time": "2021-07-02T10:04:56.568Z"
   },
   {
    "duration": 1773,
    "start_time": "2021-07-02T10:05:10.090Z"
   },
   {
    "duration": 1944,
    "start_time": "2021-07-02T10:05:21.568Z"
   },
   {
    "duration": 2173,
    "start_time": "2021-07-02T10:05:31.804Z"
   },
   {
    "duration": 1813,
    "start_time": "2021-07-02T10:05:38.847Z"
   },
   {
    "duration": 1894,
    "start_time": "2021-07-02T10:05:49.796Z"
   },
   {
    "duration": 1920,
    "start_time": "2021-07-02T10:06:06.079Z"
   },
   {
    "duration": 2047,
    "start_time": "2021-07-02T10:06:59.814Z"
   },
   {
    "duration": 2017,
    "start_time": "2021-07-02T10:07:14.972Z"
   },
   {
    "duration": 3968,
    "start_time": "2021-07-02T10:07:24.786Z"
   },
   {
    "duration": 1948,
    "start_time": "2021-07-02T10:07:46.250Z"
   },
   {
    "duration": 1969,
    "start_time": "2021-07-02T10:08:24.546Z"
   },
   {
    "duration": 5,
    "start_time": "2021-07-02T10:08:49.036Z"
   },
   {
    "duration": 2021,
    "start_time": "2021-07-02T10:10:07.505Z"
   },
   {
    "duration": 1987,
    "start_time": "2021-07-02T10:13:24.108Z"
   },
   {
    "duration": 1884,
    "start_time": "2021-07-02T10:14:13.084Z"
   },
   {
    "duration": 1885,
    "start_time": "2021-07-02T10:14:25.335Z"
   },
   {
    "duration": 1420,
    "start_time": "2021-07-02T10:16:16.930Z"
   },
   {
    "duration": 2017,
    "start_time": "2021-07-02T10:16:29.653Z"
   },
   {
    "duration": 1406,
    "start_time": "2021-07-02T10:17:49.123Z"
   },
   {
    "duration": 1978,
    "start_time": "2021-07-02T10:17:57.179Z"
   },
   {
    "duration": 2010,
    "start_time": "2021-07-02T10:18:22.494Z"
   },
   {
    "duration": 1952,
    "start_time": "2021-07-02T10:18:32.456Z"
   },
   {
    "duration": 658,
    "start_time": "2021-07-02T10:18:42.880Z"
   },
   {
    "duration": 1929,
    "start_time": "2021-07-02T10:19:05.222Z"
   },
   {
    "duration": 2007,
    "start_time": "2021-07-02T10:19:46.514Z"
   },
   {
    "duration": 2026,
    "start_time": "2021-07-02T10:19:58.268Z"
   },
   {
    "duration": 1924,
    "start_time": "2021-07-02T10:20:10.035Z"
   },
   {
    "duration": 1479,
    "start_time": "2021-07-02T10:21:08.182Z"
   },
   {
    "duration": 1463,
    "start_time": "2021-07-02T10:21:29.348Z"
   },
   {
    "duration": 1775,
    "start_time": "2021-07-02T10:22:16.911Z"
   },
   {
    "duration": 1928,
    "start_time": "2021-07-02T10:22:36.884Z"
   },
   {
    "duration": 1471,
    "start_time": "2021-07-02T10:23:25.472Z"
   },
   {
    "duration": 1476,
    "start_time": "2021-07-02T10:23:39.235Z"
   },
   {
    "duration": 1461,
    "start_time": "2021-07-02T10:23:52.409Z"
   },
   {
    "duration": 1926,
    "start_time": "2021-07-02T10:24:02.955Z"
   },
   {
    "duration": 4245,
    "start_time": "2021-07-02T10:24:13.676Z"
   },
   {
    "duration": 2297,
    "start_time": "2021-07-02T10:24:32.503Z"
   },
   {
    "duration": 2325,
    "start_time": "2021-07-02T10:25:38.985Z"
   },
   {
    "duration": 2530,
    "start_time": "2021-07-02T10:26:47.587Z"
   },
   {
    "duration": 2246,
    "start_time": "2021-07-02T10:26:58.454Z"
   },
   {
    "duration": 116,
    "start_time": "2021-07-02T10:32:52.950Z"
   },
   {
    "duration": 10,
    "start_time": "2021-07-02T10:32:58.248Z"
   },
   {
    "duration": 8,
    "start_time": "2021-07-02T10:33:10.587Z"
   },
   {
    "duration": 8,
    "start_time": "2021-07-02T10:37:07.971Z"
   },
   {
    "duration": 9,
    "start_time": "2021-07-02T10:39:31.025Z"
   },
   {
    "duration": 10,
    "start_time": "2021-07-02T10:39:47.564Z"
   },
   {
    "duration": 7,
    "start_time": "2021-07-02T10:40:42.370Z"
   },
   {
    "duration": 9,
    "start_time": "2021-07-02T10:41:46.980Z"
   },
   {
    "duration": 9,
    "start_time": "2021-07-02T10:42:25.006Z"
   },
   {
    "duration": 7,
    "start_time": "2021-07-02T10:42:33.712Z"
   },
   {
    "duration": 355,
    "start_time": "2021-07-02T10:54:25.750Z"
   },
   {
    "duration": 28,
    "start_time": "2021-07-02T10:54:45.942Z"
   },
   {
    "duration": 23,
    "start_time": "2021-07-02T10:54:56.509Z"
   },
   {
    "duration": 28,
    "start_time": "2021-07-02T10:55:03.144Z"
   },
   {
    "duration": 12,
    "start_time": "2021-07-02T10:56:46.156Z"
   },
   {
    "duration": 11,
    "start_time": "2021-07-02T10:56:53.686Z"
   },
   {
    "duration": 11,
    "start_time": "2021-07-02T10:57:04.361Z"
   },
   {
    "duration": 11,
    "start_time": "2021-07-02T10:57:07.063Z"
   },
   {
    "duration": 11,
    "start_time": "2021-07-02T10:57:17.233Z"
   },
   {
    "duration": 11,
    "start_time": "2021-07-02T10:57:20.245Z"
   },
   {
    "duration": 13,
    "start_time": "2021-07-02T10:57:28.791Z"
   },
   {
    "duration": 14,
    "start_time": "2021-07-02T10:57:31.133Z"
   },
   {
    "duration": 14,
    "start_time": "2021-07-02T10:57:33.031Z"
   },
   {
    "duration": 21,
    "start_time": "2021-07-02T10:57:42.934Z"
   },
   {
    "duration": 16,
    "start_time": "2021-07-02T10:57:45.947Z"
   },
   {
    "duration": 488,
    "start_time": "2021-07-02T10:57:56.849Z"
   },
   {
    "duration": 30,
    "start_time": "2021-07-02T11:05:34.890Z"
   },
   {
    "duration": 134,
    "start_time": "2021-07-02T11:05:44.880Z"
   },
   {
    "duration": 23,
    "start_time": "2021-07-02T11:05:48.995Z"
   },
   {
    "duration": 11,
    "start_time": "2021-07-02T11:06:04.446Z"
   },
   {
    "duration": 12,
    "start_time": "2021-07-02T11:07:04.949Z"
   },
   {
    "duration": 13,
    "start_time": "2021-07-02T11:08:59.967Z"
   },
   {
    "duration": 19,
    "start_time": "2021-07-02T11:09:20.848Z"
   },
   {
    "duration": 5,
    "start_time": "2021-07-02T11:09:34.364Z"
   },
   {
    "duration": 13,
    "start_time": "2021-07-02T11:09:45.098Z"
   },
   {
    "duration": 24,
    "start_time": "2021-07-02T11:15:58.041Z"
   },
   {
    "duration": 24,
    "start_time": "2021-07-02T11:16:01.809Z"
   },
   {
    "duration": 105,
    "start_time": "2021-07-02T11:16:04.074Z"
   },
   {
    "duration": 5,
    "start_time": "2021-07-02T11:16:04.813Z"
   },
   {
    "duration": 8,
    "start_time": "2021-07-02T11:16:05.751Z"
   },
   {
    "duration": 7,
    "start_time": "2021-07-02T11:16:07.077Z"
   },
   {
    "duration": 6,
    "start_time": "2021-07-02T11:16:08.981Z"
   },
   {
    "duration": 4,
    "start_time": "2021-07-02T11:16:11.160Z"
   },
   {
    "duration": 82,
    "start_time": "2021-07-02T11:16:12.654Z"
   },
   {
    "duration": 8,
    "start_time": "2021-07-02T11:16:14.004Z"
   },
   {
    "duration": 4,
    "start_time": "2021-07-02T11:16:15.491Z"
   },
   {
    "duration": 33,
    "start_time": "2021-07-02T11:16:16.900Z"
   },
   {
    "duration": 29,
    "start_time": "2021-07-02T11:16:20.052Z"
   },
   {
    "duration": 78,
    "start_time": "2021-07-02T11:16:21.051Z"
   },
   {
    "duration": 22,
    "start_time": "2021-07-02T11:16:22.115Z"
   },
   {
    "duration": 6,
    "start_time": "2021-07-02T11:16:24.954Z"
   },
   {
    "duration": 8,
    "start_time": "2021-07-02T11:16:25.787Z"
   },
   {
    "duration": 4,
    "start_time": "2021-07-02T11:16:27.148Z"
   },
   {
    "duration": 20,
    "start_time": "2021-07-02T11:16:28.011Z"
   },
   {
    "duration": 7,
    "start_time": "2021-07-02T11:16:28.994Z"
   },
   {
    "duration": 13,
    "start_time": "2021-07-02T11:16:30.300Z"
   },
   {
    "duration": 18,
    "start_time": "2021-07-02T11:16:31.407Z"
   },
   {
    "duration": 38,
    "start_time": "2021-07-02T11:16:33.426Z"
   },
   {
    "duration": 13,
    "start_time": "2021-07-02T11:16:38.401Z"
   },
   {
    "duration": 10,
    "start_time": "2021-07-02T11:16:42.612Z"
   },
   {
    "duration": 372,
    "start_time": "2021-07-02T11:17:10.381Z"
   },
   {
    "duration": 28,
    "start_time": "2021-07-02T11:17:12.524Z"
   },
   {
    "duration": 13,
    "start_time": "2021-07-02T11:25:53.475Z"
   },
   {
    "duration": 577,
    "start_time": "2021-07-02T11:26:14.753Z"
   },
   {
    "duration": 27,
    "start_time": "2021-07-02T11:26:17.811Z"
   },
   {
    "duration": 12,
    "start_time": "2021-07-02T11:27:10.594Z"
   },
   {
    "duration": 12,
    "start_time": "2021-07-02T11:28:54.245Z"
   },
   {
    "duration": 6,
    "start_time": "2021-07-02T11:28:55.861Z"
   },
   {
    "duration": 135,
    "start_time": "2021-07-02T11:29:10.935Z"
   },
   {
    "duration": 7,
    "start_time": "2021-07-02T11:29:18.815Z"
   },
   {
    "duration": 13,
    "start_time": "2021-07-02T11:30:16.282Z"
   },
   {
    "duration": 661,
    "start_time": "2021-07-02T11:30:18.205Z"
   },
   {
    "duration": 26,
    "start_time": "2021-07-02T11:30:19.946Z"
   },
   {
    "duration": 10,
    "start_time": "2021-07-02T11:30:38.264Z"
   },
   {
    "duration": 56,
    "start_time": "2021-07-02T11:30:55.318Z"
   },
   {
    "duration": 5,
    "start_time": "2021-07-02T11:30:58.139Z"
   },
   {
    "duration": 6,
    "start_time": "2021-07-02T11:31:00.080Z"
   },
   {
    "duration": 23,
    "start_time": "2021-07-02T11:31:02.035Z"
   },
   {
    "duration": 2355,
    "start_time": "2021-07-02T11:32:05.572Z"
   },
   {
    "duration": 11,
    "start_time": "2021-07-02T12:12:56.050Z"
   },
   {
    "duration": 373,
    "start_time": "2021-07-02T12:13:09.623Z"
   },
   {
    "duration": 10,
    "start_time": "2021-07-02T12:13:14.811Z"
   },
   {
    "duration": 15,
    "start_time": "2021-07-02T12:13:22.248Z"
   },
   {
    "duration": 33,
    "start_time": "2021-07-02T12:32:03.602Z"
   },
   {
    "duration": 17,
    "start_time": "2021-07-02T12:32:06.531Z"
   },
   {
    "duration": 13,
    "start_time": "2021-07-02T12:32:27.804Z"
   },
   {
    "duration": 5,
    "start_time": "2021-07-02T12:32:32.183Z"
   },
   {
    "duration": 360,
    "start_time": "2021-07-02T12:32:33.392Z"
   },
   {
    "duration": 12,
    "start_time": "2021-07-02T12:32:35.537Z"
   },
   {
    "duration": 11,
    "start_time": "2021-07-02T12:32:36.560Z"
   },
   {
    "duration": 10,
    "start_time": "2021-07-02T12:32:38.176Z"
   },
   {
    "duration": 13,
    "start_time": "2021-07-02T12:32:38.805Z"
   },
   {
    "duration": 15,
    "start_time": "2021-07-02T12:32:40.691Z"
   },
   {
    "duration": 25,
    "start_time": "2021-07-02T12:32:44.688Z"
   },
   {
    "duration": 27,
    "start_time": "2021-07-02T12:35:12.468Z"
   },
   {
    "duration": 23,
    "start_time": "2021-07-02T12:35:43.922Z"
   },
   {
    "duration": 19,
    "start_time": "2021-07-02T12:36:29.759Z"
   },
   {
    "duration": 24,
    "start_time": "2021-07-02T12:36:33.193Z"
   },
   {
    "duration": 5,
    "start_time": "2021-07-02T12:37:05.399Z"
   },
   {
    "duration": 56,
    "start_time": "2021-07-02T12:47:37.520Z"
   },
   {
    "duration": 7,
    "start_time": "2021-07-02T12:47:38.621Z"
   },
   {
    "duration": 6,
    "start_time": "2021-07-02T12:47:39.132Z"
   },
   {
    "duration": 20,
    "start_time": "2021-07-02T12:52:32.868Z"
   },
   {
    "duration": 5,
    "start_time": "2021-07-02T12:52:33.433Z"
   },
   {
    "duration": 8,
    "start_time": "2021-07-02T12:52:37.714Z"
   },
   {
    "duration": 20,
    "start_time": "2021-07-02T12:52:46.820Z"
   },
   {
    "duration": 22,
    "start_time": "2021-07-02T12:54:43.408Z"
   },
   {
    "duration": 5,
    "start_time": "2021-07-02T12:57:52.305Z"
   },
   {
    "duration": 13,
    "start_time": "2021-07-02T12:59:08.202Z"
   },
   {
    "duration": 24,
    "start_time": "2021-07-02T12:59:11.098Z"
   },
   {
    "duration": 641,
    "start_time": "2021-07-02T13:11:48.925Z"
   },
   {
    "duration": 32,
    "start_time": "2021-07-02T13:12:01.573Z"
   },
   {
    "duration": 10,
    "start_time": "2021-07-02T13:12:16.458Z"
   },
   {
    "duration": 11,
    "start_time": "2021-07-02T13:13:23.839Z"
   },
   {
    "duration": 22,
    "start_time": "2021-07-02T13:25:41.559Z"
   },
   {
    "duration": 9,
    "start_time": "2021-07-02T13:30:22.620Z"
   },
   {
    "duration": 10,
    "start_time": "2021-07-02T13:30:32.253Z"
   },
   {
    "duration": 10,
    "start_time": "2021-07-02T13:30:47.397Z"
   },
   {
    "duration": 350,
    "start_time": "2021-07-02T13:32:54.694Z"
   },
   {
    "duration": 58,
    "start_time": "2021-07-02T13:33:11.490Z"
   },
   {
    "duration": 7,
    "start_time": "2021-07-02T14:05:41.835Z"
   },
   {
    "duration": 11,
    "start_time": "2021-07-02T14:05:51.760Z"
   },
   {
    "duration": 14,
    "start_time": "2021-07-02T14:05:56.674Z"
   },
   {
    "duration": 12,
    "start_time": "2021-07-02T14:06:12.168Z"
   },
   {
    "duration": 8,
    "start_time": "2021-07-02T14:08:11.512Z"
   },
   {
    "duration": 2221,
    "start_time": "2021-07-02T14:36:10.196Z"
   },
   {
    "duration": 2216,
    "start_time": "2021-07-02T14:36:28.631Z"
   },
   {
    "duration": 2258,
    "start_time": "2021-07-02T14:36:58.334Z"
   },
   {
    "duration": 1648,
    "start_time": "2021-07-02T14:37:21.738Z"
   },
   {
    "duration": 11,
    "start_time": "2021-07-02T15:07:26.093Z"
   },
   {
    "duration": 14,
    "start_time": "2021-07-02T15:07:28.098Z"
   },
   {
    "duration": 12,
    "start_time": "2021-07-02T15:07:35.235Z"
   },
   {
    "duration": 13,
    "start_time": "2021-07-02T15:07:38.488Z"
   },
   {
    "duration": 7,
    "start_time": "2021-07-02T15:48:40.952Z"
   },
   {
    "duration": 8,
    "start_time": "2021-07-02T15:52:16.832Z"
   },
   {
    "duration": 1577,
    "start_time": "2021-07-02T16:22:20.189Z"
   },
   {
    "duration": 442,
    "start_time": "2021-07-02T16:22:21.769Z"
   },
   {
    "duration": 25,
    "start_time": "2021-07-02T16:22:22.215Z"
   },
   {
    "duration": 13,
    "start_time": "2021-07-02T16:22:22.243Z"
   },
   {
    "duration": 11,
    "start_time": "2021-07-02T16:22:22.260Z"
   },
   {
    "duration": 18,
    "start_time": "2021-07-02T16:22:22.309Z"
   },
   {
    "duration": 16,
    "start_time": "2021-07-02T16:22:22.330Z"
   },
   {
    "duration": 66,
    "start_time": "2021-07-02T16:22:22.352Z"
   },
   {
    "duration": 30,
    "start_time": "2021-07-02T16:22:22.422Z"
   },
   {
    "duration": 24,
    "start_time": "2021-07-02T16:22:22.455Z"
   },
   {
    "duration": 23,
    "start_time": "2021-07-02T16:22:22.510Z"
   },
   {
    "duration": 137,
    "start_time": "2021-07-02T16:22:22.535Z"
   },
   {
    "duration": 6,
    "start_time": "2021-07-02T16:22:22.675Z"
   },
   {
    "duration": 25,
    "start_time": "2021-07-02T16:22:22.684Z"
   },
   {
    "duration": 6,
    "start_time": "2021-07-02T16:22:22.711Z"
   },
   {
    "duration": 15,
    "start_time": "2021-07-02T16:22:22.719Z"
   },
   {
    "duration": 74,
    "start_time": "2021-07-02T16:22:22.737Z"
   },
   {
    "duration": 8,
    "start_time": "2021-07-02T16:22:22.813Z"
   },
   {
    "duration": 61,
    "start_time": "2021-07-02T16:22:22.823Z"
   },
   {
    "duration": 27,
    "start_time": "2021-07-02T16:22:22.886Z"
   },
   {
    "duration": 11,
    "start_time": "2021-07-02T16:22:22.915Z"
   },
   {
    "duration": 41,
    "start_time": "2021-07-02T16:22:22.928Z"
   },
   {
    "duration": 6,
    "start_time": "2021-07-02T16:22:22.974Z"
   },
   {
    "duration": 26,
    "start_time": "2021-07-02T16:22:22.983Z"
   },
   {
    "duration": 679,
    "start_time": "2021-07-02T16:22:23.011Z"
   },
   {
    "duration": 20,
    "start_time": "2021-07-02T16:22:23.693Z"
   },
   {
    "duration": 10,
    "start_time": "2021-07-02T16:22:23.716Z"
   },
   {
    "duration": 19,
    "start_time": "2021-07-02T16:22:23.729Z"
   },
   {
    "duration": 77,
    "start_time": "2021-07-02T16:22:23.751Z"
   },
   {
    "duration": 4,
    "start_time": "2021-07-02T16:22:23.831Z"
   },
   {
    "duration": 15,
    "start_time": "2021-07-02T16:22:23.838Z"
   },
   {
    "duration": 34,
    "start_time": "2021-07-02T16:22:23.856Z"
   },
   {
    "duration": 55,
    "start_time": "2021-07-02T16:22:23.910Z"
   },
   {
    "duration": 4,
    "start_time": "2021-07-02T16:22:23.967Z"
   },
   {
    "duration": 13,
    "start_time": "2021-07-02T16:22:23.973Z"
   },
   {
    "duration": 23,
    "start_time": "2021-07-02T16:22:24.009Z"
   },
   {
    "duration": 48,
    "start_time": "2021-07-02T16:22:24.035Z"
   },
   {
    "duration": 25,
    "start_time": "2021-07-02T16:22:24.085Z"
   },
   {
    "duration": 7,
    "start_time": "2021-07-02T16:22:24.113Z"
   },
   {
    "duration": 22,
    "start_time": "2021-07-02T16:22:24.122Z"
   },
   {
    "duration": 1687,
    "start_time": "2021-07-02T16:22:24.146Z"
   },
   {
    "duration": 12,
    "start_time": "2021-07-02T16:22:25.836Z"
   },
   {
    "duration": 12,
    "start_time": "2021-07-02T16:22:25.851Z"
   },
   {
    "duration": 7,
    "start_time": "2021-07-02T16:22:25.866Z"
   },
   {
    "duration": 14,
    "start_time": "2021-07-02T16:22:25.908Z"
   },
   {
    "duration": 8,
    "start_time": "2021-07-02T16:22:25.924Z"
   },
   {
    "duration": 1236,
    "start_time": "2021-07-03T08:49:22.375Z"
   },
   {
    "duration": 382,
    "start_time": "2021-07-03T08:49:23.614Z"
   },
   {
    "duration": 17,
    "start_time": "2021-07-03T08:49:24.000Z"
   },
   {
    "duration": 12,
    "start_time": "2021-07-03T08:49:24.020Z"
   },
   {
    "duration": 12,
    "start_time": "2021-07-03T08:49:24.035Z"
   },
   {
    "duration": 14,
    "start_time": "2021-07-03T08:49:24.050Z"
   },
   {
    "duration": 15,
    "start_time": "2021-07-03T08:49:24.067Z"
   },
   {
    "duration": 24,
    "start_time": "2021-07-03T08:49:24.089Z"
   },
   {
    "duration": 63,
    "start_time": "2021-07-03T08:49:24.117Z"
   },
   {
    "duration": 23,
    "start_time": "2021-07-03T08:49:24.183Z"
   },
   {
    "duration": 54,
    "start_time": "2021-07-03T08:49:24.209Z"
   },
   {
    "duration": 110,
    "start_time": "2021-07-03T08:49:24.265Z"
   },
   {
    "duration": 4,
    "start_time": "2021-07-03T08:49:24.378Z"
   },
   {
    "duration": 9,
    "start_time": "2021-07-03T08:49:24.384Z"
   },
   {
    "duration": 11,
    "start_time": "2021-07-03T08:49:24.396Z"
   },
   {
    "duration": 8,
    "start_time": "2021-07-03T08:49:24.409Z"
   },
   {
    "duration": 72,
    "start_time": "2021-07-03T08:49:24.419Z"
   },
   {
    "duration": 5,
    "start_time": "2021-07-03T08:49:24.493Z"
   },
   {
    "duration": 64,
    "start_time": "2021-07-03T08:49:24.500Z"
   },
   {
    "duration": 6,
    "start_time": "2021-07-03T08:49:24.566Z"
   },
   {
    "duration": 18,
    "start_time": "2021-07-03T08:49:24.574Z"
   },
   {
    "duration": 31,
    "start_time": "2021-07-03T08:49:24.595Z"
   },
   {
    "duration": 5,
    "start_time": "2021-07-03T08:49:24.631Z"
   },
   {
    "duration": 24,
    "start_time": "2021-07-03T08:49:24.639Z"
   },
   {
    "duration": 574,
    "start_time": "2021-07-03T08:49:24.665Z"
   },
   {
    "duration": 19,
    "start_time": "2021-07-03T08:49:25.241Z"
   },
   {
    "duration": 9,
    "start_time": "2021-07-03T08:49:25.262Z"
   },
   {
    "duration": 15,
    "start_time": "2021-07-03T08:49:25.274Z"
   },
   {
    "duration": 74,
    "start_time": "2021-07-03T08:49:25.291Z"
   },
   {
    "duration": 4,
    "start_time": "2021-07-03T08:49:25.367Z"
   },
   {
    "duration": 12,
    "start_time": "2021-07-03T08:49:25.374Z"
   },
   {
    "duration": 30,
    "start_time": "2021-07-03T08:49:25.388Z"
   },
   {
    "duration": 66,
    "start_time": "2021-07-03T08:49:25.420Z"
   },
   {
    "duration": 4,
    "start_time": "2021-07-03T08:49:25.488Z"
   },
   {
    "duration": 8,
    "start_time": "2021-07-03T08:49:25.494Z"
   },
   {
    "duration": 31,
    "start_time": "2021-07-03T08:49:25.504Z"
   },
   {
    "duration": 60,
    "start_time": "2021-07-03T08:49:25.537Z"
   },
   {
    "duration": 4,
    "start_time": "2021-07-03T08:49:25.599Z"
   },
   {
    "duration": 13,
    "start_time": "2021-07-03T08:49:25.605Z"
   },
   {
    "duration": 20,
    "start_time": "2021-07-03T08:49:25.620Z"
   },
   {
    "duration": 1544,
    "start_time": "2021-07-03T08:49:25.642Z"
   },
   {
    "duration": 13,
    "start_time": "2021-07-03T08:49:27.189Z"
   },
   {
    "duration": 12,
    "start_time": "2021-07-03T08:49:27.205Z"
   },
   {
    "duration": 43,
    "start_time": "2021-07-03T08:49:27.220Z"
   },
   {
    "duration": 15,
    "start_time": "2021-07-03T08:49:27.266Z"
   },
   {
    "duration": 6,
    "start_time": "2021-07-03T08:49:27.284Z"
   },
   {
    "duration": 1354,
    "start_time": "2021-07-03T09:53:54.575Z"
   },
   {
    "duration": 398,
    "start_time": "2021-07-03T09:53:55.932Z"
   },
   {
    "duration": 16,
    "start_time": "2021-07-03T09:53:56.335Z"
   },
   {
    "duration": 17,
    "start_time": "2021-07-03T09:53:56.353Z"
   },
   {
    "duration": 12,
    "start_time": "2021-07-03T09:53:56.373Z"
   },
   {
    "duration": 16,
    "start_time": "2021-07-03T09:53:56.388Z"
   },
   {
    "duration": 17,
    "start_time": "2021-07-03T09:53:56.408Z"
   },
   {
    "duration": 56,
    "start_time": "2021-07-03T09:53:56.428Z"
   },
   {
    "duration": 26,
    "start_time": "2021-07-03T09:53:56.486Z"
   },
   {
    "duration": 55,
    "start_time": "2021-07-03T09:53:56.515Z"
   },
   {
    "duration": 20,
    "start_time": "2021-07-03T09:53:56.573Z"
   },
   {
    "duration": 128,
    "start_time": "2021-07-03T09:53:56.596Z"
   },
   {
    "duration": 4,
    "start_time": "2021-07-03T09:53:56.727Z"
   },
   {
    "duration": 10,
    "start_time": "2021-07-03T09:53:56.733Z"
   },
   {
    "duration": 7,
    "start_time": "2021-07-03T09:53:56.757Z"
   },
   {
    "duration": 8,
    "start_time": "2021-07-03T09:53:56.767Z"
   },
   {
    "duration": 59,
    "start_time": "2021-07-03T09:53:56.778Z"
   },
   {
    "duration": 20,
    "start_time": "2021-07-03T09:53:56.840Z"
   },
   {
    "duration": 58,
    "start_time": "2021-07-03T09:53:56.862Z"
   },
   {
    "duration": 6,
    "start_time": "2021-07-03T09:53:56.923Z"
   },
   {
    "duration": 7,
    "start_time": "2021-07-03T09:53:56.956Z"
   },
   {
    "duration": 22,
    "start_time": "2021-07-03T09:53:56.969Z"
   },
   {
    "duration": 6,
    "start_time": "2021-07-03T09:53:56.994Z"
   },
   {
    "duration": 22,
    "start_time": "2021-07-03T09:53:57.002Z"
   },
   {
    "duration": 736,
    "start_time": "2021-07-03T09:53:57.026Z"
   },
   {
    "duration": 11,
    "start_time": "2021-07-03T09:53:57.765Z"
   },
   {
    "duration": 8,
    "start_time": "2021-07-03T09:53:57.779Z"
   },
   {
    "duration": 14,
    "start_time": "2021-07-03T09:53:57.789Z"
   },
   {
    "duration": 86,
    "start_time": "2021-07-03T09:53:57.806Z"
   },
   {
    "duration": 4,
    "start_time": "2021-07-03T09:53:57.895Z"
   },
   {
    "duration": 12,
    "start_time": "2021-07-03T09:53:57.901Z"
   },
   {
    "duration": 43,
    "start_time": "2021-07-03T09:53:57.916Z"
   },
   {
    "duration": 51,
    "start_time": "2021-07-03T09:53:57.961Z"
   },
   {
    "duration": 5,
    "start_time": "2021-07-03T09:53:58.014Z"
   },
   {
    "duration": 8,
    "start_time": "2021-07-03T09:53:58.021Z"
   },
   {
    "duration": 49,
    "start_time": "2021-07-03T09:53:58.031Z"
   },
   {
    "duration": 47,
    "start_time": "2021-07-03T09:53:58.082Z"
   },
   {
    "duration": 26,
    "start_time": "2021-07-03T09:53:58.131Z"
   },
   {
    "duration": 13,
    "start_time": "2021-07-03T09:53:58.160Z"
   },
   {
    "duration": 21,
    "start_time": "2021-07-03T09:53:58.175Z"
   },
   {
    "duration": 1689,
    "start_time": "2021-07-03T09:53:58.198Z"
   },
   {
    "duration": 11,
    "start_time": "2021-07-03T09:53:59.889Z"
   },
   {
    "duration": 16,
    "start_time": "2021-07-03T09:53:59.902Z"
   },
   {
    "duration": 11,
    "start_time": "2021-07-03T09:53:59.920Z"
   },
   {
    "duration": 37,
    "start_time": "2021-07-03T09:53:59.934Z"
   },
   {
    "duration": 8,
    "start_time": "2021-07-03T09:53:59.974Z"
   },
   {
    "duration": 1434,
    "start_time": "2021-07-03T16:20:23.775Z"
   },
   {
    "duration": 561,
    "start_time": "2021-07-03T16:20:25.212Z"
   },
   {
    "duration": 21,
    "start_time": "2021-07-03T16:20:25.781Z"
   },
   {
    "duration": 11,
    "start_time": "2021-07-03T16:20:25.806Z"
   },
   {
    "duration": 13,
    "start_time": "2021-07-03T16:20:25.819Z"
   },
   {
    "duration": 36,
    "start_time": "2021-07-03T16:20:25.834Z"
   },
   {
    "duration": 26,
    "start_time": "2021-07-03T16:20:25.872Z"
   },
   {
    "duration": 29,
    "start_time": "2021-07-03T16:20:25.902Z"
   },
   {
    "duration": 40,
    "start_time": "2021-07-03T16:20:25.956Z"
   },
   {
    "duration": 24,
    "start_time": "2021-07-03T16:20:25.998Z"
   },
   {
    "duration": 49,
    "start_time": "2021-07-03T16:20:26.024Z"
   },
   {
    "duration": 126,
    "start_time": "2021-07-03T16:20:26.076Z"
   },
   {
    "duration": 4,
    "start_time": "2021-07-03T16:20:26.205Z"
   },
   {
    "duration": 12,
    "start_time": "2021-07-03T16:20:26.211Z"
   },
   {
    "duration": 7,
    "start_time": "2021-07-03T16:20:26.226Z"
   },
   {
    "duration": 8,
    "start_time": "2021-07-03T16:20:26.259Z"
   },
   {
    "duration": 61,
    "start_time": "2021-07-03T16:20:26.270Z"
   },
   {
    "duration": 24,
    "start_time": "2021-07-03T16:20:26.334Z"
   },
   {
    "duration": 81,
    "start_time": "2021-07-03T16:20:26.361Z"
   },
   {
    "duration": 16,
    "start_time": "2021-07-03T16:20:26.445Z"
   },
   {
    "duration": 20,
    "start_time": "2021-07-03T16:20:26.463Z"
   },
   {
    "duration": 23,
    "start_time": "2021-07-03T16:20:26.489Z"
   },
   {
    "duration": 6,
    "start_time": "2021-07-03T16:20:26.520Z"
   },
   {
    "duration": 47,
    "start_time": "2021-07-03T16:20:26.530Z"
   },
   {
    "duration": 666,
    "start_time": "2021-07-03T16:20:26.580Z"
   },
   {
    "duration": 11,
    "start_time": "2021-07-03T16:20:27.248Z"
   },
   {
    "duration": 21,
    "start_time": "2021-07-03T16:20:27.262Z"
   },
   {
    "duration": 14,
    "start_time": "2021-07-03T16:20:27.286Z"
   },
   {
    "duration": 85,
    "start_time": "2021-07-03T16:20:27.302Z"
   },
   {
    "duration": 4,
    "start_time": "2021-07-03T16:20:27.389Z"
   },
   {
    "duration": 10,
    "start_time": "2021-07-03T16:20:27.396Z"
   },
   {
    "duration": 22,
    "start_time": "2021-07-03T16:20:27.409Z"
   },
   {
    "duration": 74,
    "start_time": "2021-07-03T16:20:27.434Z"
   },
   {
    "duration": 4,
    "start_time": "2021-07-03T16:20:27.511Z"
   },
   {
    "duration": 9,
    "start_time": "2021-07-03T16:20:27.517Z"
   },
   {
    "duration": 60,
    "start_time": "2021-07-03T16:20:27.528Z"
   },
   {
    "duration": 47,
    "start_time": "2021-07-03T16:20:27.591Z"
   },
   {
    "duration": 5,
    "start_time": "2021-07-03T16:20:27.640Z"
   },
   {
    "duration": 18,
    "start_time": "2021-07-03T16:20:27.647Z"
   },
   {
    "duration": 27,
    "start_time": "2021-07-03T16:20:27.668Z"
   },
   {
    "duration": 1743,
    "start_time": "2021-07-03T16:20:27.698Z"
   },
   {
    "duration": 22,
    "start_time": "2021-07-03T16:20:29.443Z"
   },
   {
    "duration": 13,
    "start_time": "2021-07-03T16:20:29.468Z"
   },
   {
    "duration": 8,
    "start_time": "2021-07-03T16:20:29.486Z"
   },
   {
    "duration": 12,
    "start_time": "2021-07-03T16:20:29.497Z"
   },
   {
    "duration": 52,
    "start_time": "2021-07-03T16:20:29.511Z"
   },
   {
    "duration": 103,
    "start_time": "2021-07-04T07:25:30.943Z"
   },
   {
    "duration": 366,
    "start_time": "2021-07-04T07:25:34.906Z"
   },
   {
    "duration": 1351,
    "start_time": "2021-07-04T07:25:43.881Z"
   },
   {
    "duration": 414,
    "start_time": "2021-07-04T07:25:45.454Z"
   },
   {
    "duration": 16,
    "start_time": "2021-07-04T07:25:47.361Z"
   },
   {
    "duration": 11,
    "start_time": "2021-07-04T07:25:48.407Z"
   },
   {
    "duration": 9,
    "start_time": "2021-07-04T07:25:49.204Z"
   },
   {
    "duration": 14,
    "start_time": "2021-07-04T07:25:52.363Z"
   },
   {
    "duration": 28,
    "start_time": "2021-07-04T07:25:56.846Z"
   },
   {
    "duration": 25,
    "start_time": "2021-07-04T07:26:00.487Z"
   },
   {
    "duration": 23,
    "start_time": "2021-07-04T07:26:01.701Z"
   },
   {
    "duration": 21,
    "start_time": "2021-07-04T07:26:04.094Z"
   },
   {
    "duration": 118,
    "start_time": "2021-07-04T07:26:07.366Z"
   },
   {
    "duration": 4,
    "start_time": "2021-07-04T07:26:08.057Z"
   },
   {
    "duration": 6,
    "start_time": "2021-07-04T07:26:08.745Z"
   },
   {
    "duration": 6,
    "start_time": "2021-07-04T07:26:09.521Z"
   },
   {
    "duration": 5,
    "start_time": "2021-07-04T07:26:10.290Z"
   },
   {
    "duration": 55,
    "start_time": "2021-07-04T07:26:11.742Z"
   },
   {
    "duration": 6,
    "start_time": "2021-07-04T07:26:12.473Z"
   },
   {
    "duration": 55,
    "start_time": "2021-07-04T07:26:14.047Z"
   },
   {
    "duration": 6,
    "start_time": "2021-07-04T07:26:14.823Z"
   },
   {
    "duration": 6,
    "start_time": "2021-07-04T07:26:15.736Z"
   },
   {
    "duration": 20,
    "start_time": "2021-07-04T07:26:16.923Z"
   },
   {
    "duration": 6,
    "start_time": "2021-07-04T07:26:17.681Z"
   },
   {
    "duration": 12,
    "start_time": "2021-07-04T07:26:18.569Z"
   },
   {
    "duration": 706,
    "start_time": "2021-07-04T07:26:21.008Z"
   },
   {
    "duration": 10,
    "start_time": "2021-07-04T07:26:22.153Z"
   },
   {
    "duration": 8,
    "start_time": "2021-07-04T07:26:24.117Z"
   },
   {
    "duration": 11,
    "start_time": "2021-07-04T07:26:26.752Z"
   },
   {
    "duration": 54,
    "start_time": "2021-07-04T07:26:27.563Z"
   },
   {
    "duration": 4,
    "start_time": "2021-07-04T07:26:28.191Z"
   },
   {
    "duration": 5,
    "start_time": "2021-07-04T07:26:29.051Z"
   },
   {
    "duration": 21,
    "start_time": "2021-07-04T07:26:29.980Z"
   },
   {
    "duration": 55,
    "start_time": "2021-07-04T07:26:31.774Z"
   },
   {
    "duration": 4,
    "start_time": "2021-07-04T07:26:32.398Z"
   },
   {
    "duration": 5,
    "start_time": "2021-07-04T07:26:32.986Z"
   },
   {
    "duration": 21,
    "start_time": "2021-07-04T07:26:34.164Z"
   },
   {
    "duration": 46,
    "start_time": "2021-07-04T07:26:37.193Z"
   },
   {
    "duration": 5,
    "start_time": "2021-07-04T07:26:37.823Z"
   },
   {
    "duration": 6,
    "start_time": "2021-07-04T07:26:38.355Z"
   },
   {
    "duration": 17,
    "start_time": "2021-07-04T07:26:38.842Z"
   },
   {
    "duration": 1659,
    "start_time": "2021-07-04T07:26:41.467Z"
   },
   {
    "duration": 12,
    "start_time": "2021-07-04T07:26:43.129Z"
   },
   {
    "duration": 12,
    "start_time": "2021-07-04T07:26:43.679Z"
   },
   {
    "duration": 7,
    "start_time": "2021-07-04T07:26:49.574Z"
   },
   {
    "duration": 13,
    "start_time": "2021-07-04T07:26:53.991Z"
   },
   {
    "duration": 371,
    "start_time": "2021-07-04T07:27:19.495Z"
   },
   {
    "duration": 8,
    "start_time": "2021-07-04T07:27:37.618Z"
   },
   {
    "duration": 19,
    "start_time": "2021-07-04T07:29:30.462Z"
   },
   {
    "duration": 8,
    "start_time": "2021-07-04T07:29:47.294Z"
   },
   {
    "duration": 13,
    "start_time": "2021-07-04T07:29:56.365Z"
   },
   {
    "duration": 298,
    "start_time": "2021-07-04T07:30:15.474Z"
   },
   {
    "duration": 16,
    "start_time": "2021-07-04T07:30:25.667Z"
   },
   {
    "duration": 9,
    "start_time": "2021-07-04T07:30:27.945Z"
   },
   {
    "duration": 7,
    "start_time": "2021-07-04T07:31:31.891Z"
   },
   {
    "duration": 18,
    "start_time": "2021-07-04T07:51:24.910Z"
   },
   {
    "duration": 12,
    "start_time": "2021-07-04T07:57:24.622Z"
   },
   {
    "duration": 1527,
    "start_time": "2021-07-04T07:57:48.046Z"
   },
   {
    "duration": 485,
    "start_time": "2021-07-04T07:57:49.577Z"
   },
   {
    "duration": 23,
    "start_time": "2021-07-04T07:57:50.065Z"
   },
   {
    "duration": 15,
    "start_time": "2021-07-04T07:57:50.092Z"
   },
   {
    "duration": 11,
    "start_time": "2021-07-04T07:57:50.109Z"
   },
   {
    "duration": 17,
    "start_time": "2021-07-04T07:57:50.122Z"
   },
   {
    "duration": 22,
    "start_time": "2021-07-04T07:57:50.168Z"
   },
   {
    "duration": 32,
    "start_time": "2021-07-04T07:57:50.196Z"
   },
   {
    "duration": 73,
    "start_time": "2021-07-04T07:57:50.231Z"
   },
   {
    "duration": 23,
    "start_time": "2021-07-04T07:57:50.307Z"
   },
   {
    "duration": 52,
    "start_time": "2021-07-04T07:57:50.333Z"
   },
   {
    "duration": 146,
    "start_time": "2021-07-04T07:57:50.390Z"
   },
   {
    "duration": 4,
    "start_time": "2021-07-04T07:57:50.538Z"
   },
   {
    "duration": 11,
    "start_time": "2021-07-04T07:57:50.544Z"
   },
   {
    "duration": 8,
    "start_time": "2021-07-04T07:57:50.567Z"
   },
   {
    "duration": 16,
    "start_time": "2021-07-04T07:57:50.578Z"
   },
   {
    "duration": 101,
    "start_time": "2021-07-04T07:57:50.597Z"
   },
   {
    "duration": 7,
    "start_time": "2021-07-04T07:57:50.701Z"
   },
   {
    "duration": 97,
    "start_time": "2021-07-04T07:57:50.711Z"
   },
   {
    "duration": 7,
    "start_time": "2021-07-04T07:57:50.811Z"
   },
   {
    "duration": 9,
    "start_time": "2021-07-04T07:57:50.821Z"
   },
   {
    "duration": 67,
    "start_time": "2021-07-04T07:57:50.833Z"
   },
   {
    "duration": 6,
    "start_time": "2021-07-04T07:57:50.905Z"
   },
   {
    "duration": 13,
    "start_time": "2021-07-04T07:57:50.914Z"
   },
   {
    "duration": 1140,
    "start_time": "2021-07-04T07:57:50.930Z"
   },
   {
    "duration": 16,
    "start_time": "2021-07-04T07:57:52.073Z"
   },
   {
    "duration": 12,
    "start_time": "2021-07-04T07:57:52.092Z"
   },
   {
    "duration": 21,
    "start_time": "2021-07-04T07:57:52.107Z"
   },
   {
    "duration": 111,
    "start_time": "2021-07-04T07:57:52.131Z"
   },
   {
    "duration": 23,
    "start_time": "2021-07-04T07:57:52.245Z"
   },
   {
    "duration": 8,
    "start_time": "2021-07-04T07:57:52.272Z"
   },
   {
    "duration": 29,
    "start_time": "2021-07-04T07:57:52.283Z"
   },
   {
    "duration": 95,
    "start_time": "2021-07-04T07:57:52.315Z"
   },
   {
    "duration": 4,
    "start_time": "2021-07-04T07:57:52.412Z"
   },
   {
    "duration": 9,
    "start_time": "2021-07-04T07:57:52.419Z"
   },
   {
    "duration": 58,
    "start_time": "2021-07-04T07:57:52.430Z"
   },
   {
    "duration": 48,
    "start_time": "2021-07-04T07:57:52.491Z"
   },
   {
    "duration": 4,
    "start_time": "2021-07-04T07:57:52.542Z"
   },
   {
    "duration": 9,
    "start_time": "2021-07-04T07:57:52.568Z"
   },
   {
    "duration": 27,
    "start_time": "2021-07-04T07:57:52.581Z"
   },
   {
    "duration": 1827,
    "start_time": "2021-07-04T07:57:52.611Z"
   },
   {
    "duration": 10,
    "start_time": "2021-07-04T07:57:54.440Z"
   },
   {
    "duration": 23,
    "start_time": "2021-07-04T07:57:54.453Z"
   },
   {
    "duration": 19,
    "start_time": "2021-07-04T07:57:54.480Z"
   },
   {
    "duration": 20,
    "start_time": "2021-07-04T07:57:54.502Z"
   },
   {
    "duration": 434,
    "start_time": "2021-07-04T07:57:54.524Z"
   },
   {
    "duration": 1059,
    "start_time": "2021-07-04T08:53:36.194Z"
   },
   {
    "duration": 339,
    "start_time": "2021-07-04T08:53:37.254Z"
   },
   {
    "duration": 10,
    "start_time": "2021-07-04T08:53:37.595Z"
   },
   {
    "duration": 8,
    "start_time": "2021-07-04T08:53:37.606Z"
   },
   {
    "duration": 10,
    "start_time": "2021-07-04T08:53:37.616Z"
   },
   {
    "duration": 9,
    "start_time": "2021-07-04T08:53:37.628Z"
   },
   {
    "duration": 11,
    "start_time": "2021-07-04T08:53:37.639Z"
   },
   {
    "duration": 17,
    "start_time": "2021-07-04T08:53:37.653Z"
   },
   {
    "duration": 19,
    "start_time": "2021-07-04T08:53:37.693Z"
   },
   {
    "duration": 14,
    "start_time": "2021-07-04T08:53:37.713Z"
   },
   {
    "duration": 13,
    "start_time": "2021-07-04T08:53:37.729Z"
   },
   {
    "duration": 105,
    "start_time": "2021-07-04T08:53:37.743Z"
   },
   {
    "duration": 3,
    "start_time": "2021-07-04T08:53:37.850Z"
   },
   {
    "duration": 9,
    "start_time": "2021-07-04T08:53:37.855Z"
   },
   {
    "duration": 7,
    "start_time": "2021-07-04T08:53:37.865Z"
   },
   {
    "duration": 7,
    "start_time": "2021-07-04T08:53:37.873Z"
   },
   {
    "duration": 41,
    "start_time": "2021-07-04T08:53:37.881Z"
   },
   {
    "duration": 3,
    "start_time": "2021-07-04T08:53:37.924Z"
   },
   {
    "duration": 37,
    "start_time": "2021-07-04T08:53:37.929Z"
   },
   {
    "duration": 4,
    "start_time": "2021-07-04T08:53:37.967Z"
   },
   {
    "duration": 20,
    "start_time": "2021-07-04T08:53:37.972Z"
   },
   {
    "duration": 12,
    "start_time": "2021-07-04T08:53:37.994Z"
   },
   {
    "duration": 3,
    "start_time": "2021-07-04T08:53:38.009Z"
   },
   {
    "duration": 14,
    "start_time": "2021-07-04T08:53:38.014Z"
   },
   {
    "duration": 198,
    "start_time": "2021-07-04T08:53:38.029Z"
   },
   {
    "duration": 9,
    "start_time": "2021-07-04T08:53:38.229Z"
   },
   {
    "duration": 9,
    "start_time": "2021-07-04T08:53:38.239Z"
   },
   {
    "duration": 14,
    "start_time": "2021-07-04T08:53:38.249Z"
   },
   {
    "duration": 34,
    "start_time": "2021-07-04T08:53:38.264Z"
   },
   {
    "duration": 3,
    "start_time": "2021-07-04T08:53:38.299Z"
   },
   {
    "duration": 7,
    "start_time": "2021-07-04T08:53:38.303Z"
   },
   {
    "duration": 16,
    "start_time": "2021-07-04T08:53:38.311Z"
   },
   {
    "duration": 38,
    "start_time": "2021-07-04T08:53:38.328Z"
   },
   {
    "duration": 3,
    "start_time": "2021-07-04T08:53:38.368Z"
   },
   {
    "duration": 18,
    "start_time": "2021-07-04T08:53:38.373Z"
   },
   {
    "duration": 17,
    "start_time": "2021-07-04T08:53:38.393Z"
   },
   {
    "duration": 37,
    "start_time": "2021-07-04T08:53:38.412Z"
   },
   {
    "duration": 3,
    "start_time": "2021-07-04T08:53:38.451Z"
   },
   {
    "duration": 8,
    "start_time": "2021-07-04T08:53:38.456Z"
   },
   {
    "duration": 31,
    "start_time": "2021-07-04T08:53:38.466Z"
   },
   {
    "duration": 64397,
    "start_time": "2021-07-04T08:53:38.499Z"
   },
   {
    "duration": 8,
    "start_time": "2021-07-04T08:54:42.897Z"
   },
   {
    "duration": 93,
    "start_time": "2021-07-04T08:54:42.907Z"
   },
   {
    "duration": 5,
    "start_time": "2021-07-04T08:54:43.001Z"
   },
   {
    "duration": 15,
    "start_time": "2021-07-04T08:54:43.008Z"
   },
   {
    "duration": 334,
    "start_time": "2021-07-04T08:54:43.025Z"
   },
   {
    "duration": 1395,
    "start_time": "2021-07-04T14:42:57.023Z"
   },
   {
    "duration": 387,
    "start_time": "2021-07-04T14:42:58.421Z"
   },
   {
    "duration": 16,
    "start_time": "2021-07-04T14:43:02.068Z"
   },
   {
    "duration": 11,
    "start_time": "2021-07-04T14:43:02.927Z"
   },
   {
    "duration": 11,
    "start_time": "2021-07-04T14:43:03.490Z"
   },
   {
    "duration": 16,
    "start_time": "2021-07-04T14:43:05.247Z"
   },
   {
    "duration": 23,
    "start_time": "2021-07-04T14:43:05.970Z"
   },
   {
    "duration": 382,
    "start_time": "2021-07-04T15:17:17.874Z"
   },
   {
    "duration": 254,
    "start_time": "2021-07-04T15:17:19.353Z"
   },
   {
    "duration": 4,
    "start_time": "2021-07-04T15:17:25.419Z"
   },
   {
    "duration": 386,
    "start_time": "2021-07-04T15:17:25.965Z"
   },
   {
    "duration": 33,
    "start_time": "2021-07-04T15:17:32.495Z"
   },
   {
    "duration": 28,
    "start_time": "2021-07-04T15:17:35.105Z"
   },
   {
    "duration": 21,
    "start_time": "2021-07-04T15:17:37.656Z"
   },
   {
    "duration": 22,
    "start_time": "2021-07-04T15:17:40.597Z"
   },
   {
    "duration": 128,
    "start_time": "2021-07-04T15:17:43.661Z"
   },
   {
    "duration": 5,
    "start_time": "2021-07-04T15:17:45.471Z"
   },
   {
    "duration": 8,
    "start_time": "2021-07-04T15:17:46.094Z"
   },
   {
    "duration": 7,
    "start_time": "2021-07-04T15:17:46.650Z"
   },
   {
    "duration": 5,
    "start_time": "2021-07-04T15:17:48.242Z"
   },
   {
    "duration": 56,
    "start_time": "2021-07-04T15:17:50.976Z"
   },
   {
    "duration": 6,
    "start_time": "2021-07-04T15:17:51.555Z"
   },
   {
    "duration": 55,
    "start_time": "2021-07-04T15:17:54.077Z"
   },
   {
    "duration": 7,
    "start_time": "2021-07-04T15:17:54.734Z"
   },
   {
    "duration": 10,
    "start_time": "2021-07-04T15:17:56.895Z"
   },
   {
    "duration": 20,
    "start_time": "2021-07-04T15:17:59.125Z"
   },
   {
    "duration": 6,
    "start_time": "2021-07-04T15:17:59.937Z"
   },
   {
    "duration": 12,
    "start_time": "2021-07-04T15:18:01.142Z"
   },
   {
    "duration": 21,
    "start_time": "2021-07-04T15:18:04.773Z"
   },
   {
    "duration": 11,
    "start_time": "2021-07-04T15:18:11.730Z"
   },
   {
    "duration": 12,
    "start_time": "2021-07-04T15:18:24.164Z"
   },
   {
    "duration": 10,
    "start_time": "2021-07-04T15:18:29.958Z"
   },
   {
    "duration": 292,
    "start_time": "2021-07-04T15:18:47.676Z"
   },
   {
    "duration": 267,
    "start_time": "2021-07-04T15:18:51.735Z"
   },
   {
    "duration": 12,
    "start_time": "2021-07-04T15:18:54.103Z"
   },
   {
    "duration": 260,
    "start_time": "2021-07-04T15:19:56.499Z"
   },
   {
    "duration": 294,
    "start_time": "2021-07-04T15:19:59.718Z"
   },
   {
    "duration": 23,
    "start_time": "2021-07-04T15:20:01.695Z"
   },
   {
    "duration": 14,
    "start_time": "2021-07-04T15:20:44.593Z"
   },
   {
    "duration": 36,
    "start_time": "2021-07-04T15:20:47.804Z"
   },
   {
    "duration": 12,
    "start_time": "2021-07-04T15:20:52.996Z"
   },
   {
    "duration": 6661,
    "start_time": "2021-07-04T15:21:59.164Z"
   },
   {
    "duration": 7099,
    "start_time": "2021-07-04T15:22:18.473Z"
   },
   {
    "duration": 18,
    "start_time": "2021-07-04T15:22:34.147Z"
   },
   {
    "duration": 27,
    "start_time": "2021-07-04T15:22:53.902Z"
   },
   {
    "duration": 27,
    "start_time": "2021-07-04T15:23:15.929Z"
   },
   {
    "duration": 9,
    "start_time": "2021-07-04T15:24:23.355Z"
   },
   {
    "duration": 8,
    "start_time": "2021-07-04T15:24:26.044Z"
   },
   {
    "duration": 23,
    "start_time": "2021-07-04T15:24:28.266Z"
   },
   {
    "duration": 11,
    "start_time": "2021-07-04T15:24:33.776Z"
   },
   {
    "duration": 13,
    "start_time": "2021-07-04T15:28:15.819Z"
   },
   {
    "duration": 6405,
    "start_time": "2021-07-04T15:28:20.399Z"
   },
   {
    "duration": 635,
    "start_time": "2021-07-04T15:28:35.611Z"
   },
   {
    "duration": 11,
    "start_time": "2021-07-04T15:28:36.560Z"
   },
   {
    "duration": 11,
    "start_time": "2021-07-04T15:28:39.157Z"
   },
   {
    "duration": 11,
    "start_time": "2021-07-04T15:28:42.278Z"
   },
   {
    "duration": 48,
    "start_time": "2021-07-04T15:28:42.940Z"
   },
   {
    "duration": 4,
    "start_time": "2021-07-04T15:28:43.465Z"
   },
   {
    "duration": 6,
    "start_time": "2021-07-04T15:28:43.954Z"
   },
   {
    "duration": 20,
    "start_time": "2021-07-04T15:28:45.356Z"
   },
   {
    "duration": 46,
    "start_time": "2021-07-04T15:28:48.377Z"
   },
   {
    "duration": 4,
    "start_time": "2021-07-04T15:28:48.966Z"
   },
   {
    "duration": 6,
    "start_time": "2021-07-04T15:28:49.488Z"
   },
   {
    "duration": 23,
    "start_time": "2021-07-04T15:28:50.977Z"
   },
   {
    "duration": 46,
    "start_time": "2021-07-04T15:28:53.667Z"
   },
   {
    "duration": 4,
    "start_time": "2021-07-04T15:28:54.122Z"
   },
   {
    "duration": 5,
    "start_time": "2021-07-04T15:28:54.578Z"
   },
   {
    "duration": 17,
    "start_time": "2021-07-04T15:28:54.962Z"
   },
   {
    "duration": 1755,
    "start_time": "2021-07-04T15:28:59.282Z"
   },
   {
    "duration": 12,
    "start_time": "2021-07-04T15:29:06.384Z"
   },
   {
    "duration": 11,
    "start_time": "2021-07-04T15:29:07.411Z"
   },
   {
    "duration": 10,
    "start_time": "2021-07-04T15:29:13.525Z"
   },
   {
    "duration": 20,
    "start_time": "2021-07-04T15:29:18.022Z"
   },
   {
    "duration": 11,
    "start_time": "2021-07-04T15:29:20.642Z"
   },
   {
    "duration": 7,
    "start_time": "2021-07-04T15:50:14.283Z"
   },
   {
    "duration": 8,
    "start_time": "2021-07-04T15:50:29.486Z"
   },
   {
    "duration": 96,
    "start_time": "2021-07-04T15:50:45.951Z"
   },
   {
    "duration": 103,
    "start_time": "2021-07-04T15:50:56.625Z"
   },
   {
    "duration": 10,
    "start_time": "2021-07-04T15:51:08.752Z"
   },
   {
    "duration": 10,
    "start_time": "2021-07-04T15:51:12.283Z"
   },
   {
    "duration": 96,
    "start_time": "2021-07-04T15:51:17.279Z"
   },
   {
    "duration": 86,
    "start_time": "2021-07-04T15:51:19.911Z"
   },
   {
    "duration": 6,
    "start_time": "2021-07-04T15:51:37.832Z"
   },
   {
    "duration": 14,
    "start_time": "2021-07-04T15:53:09.194Z"
   },
   {
    "duration": 6,
    "start_time": "2021-07-04T15:53:09.759Z"
   },
   {
    "duration": 10,
    "start_time": "2021-07-04T15:53:19.437Z"
   },
   {
    "duration": 1420,
    "start_time": "2021-07-04T16:20:48.364Z"
   },
   {
    "duration": 415,
    "start_time": "2021-07-04T16:20:49.787Z"
   },
   {
    "duration": 16,
    "start_time": "2021-07-04T16:20:50.205Z"
   },
   {
    "duration": 16,
    "start_time": "2021-07-04T16:20:50.223Z"
   },
   {
    "duration": 26,
    "start_time": "2021-07-04T16:20:50.241Z"
   },
   {
    "duration": 21,
    "start_time": "2021-07-04T16:20:50.270Z"
   },
   {
    "duration": 18,
    "start_time": "2021-07-04T16:20:50.294Z"
   },
   {
    "duration": 54,
    "start_time": "2021-07-04T16:20:50.316Z"
   },
   {
    "duration": 32,
    "start_time": "2021-07-04T16:20:50.374Z"
   },
   {
    "duration": 46,
    "start_time": "2021-07-04T16:20:50.409Z"
   },
   {
    "duration": 25,
    "start_time": "2021-07-04T16:20:50.458Z"
   },
   {
    "duration": 141,
    "start_time": "2021-07-04T16:20:50.487Z"
   },
   {
    "duration": 4,
    "start_time": "2021-07-04T16:20:50.631Z"
   },
   {
    "duration": 24,
    "start_time": "2021-07-04T16:20:50.638Z"
   },
   {
    "duration": 15,
    "start_time": "2021-07-04T16:20:50.664Z"
   },
   {
    "duration": 36,
    "start_time": "2021-07-04T16:20:50.683Z"
   },
   {
    "duration": 87,
    "start_time": "2021-07-04T16:20:50.721Z"
   },
   {
    "duration": 5,
    "start_time": "2021-07-04T16:20:50.810Z"
   },
   {
    "duration": 78,
    "start_time": "2021-07-04T16:20:50.819Z"
   },
   {
    "duration": 6,
    "start_time": "2021-07-04T16:20:50.900Z"
   },
   {
    "duration": 28,
    "start_time": "2021-07-04T16:20:50.908Z"
   },
   {
    "duration": 47,
    "start_time": "2021-07-04T16:20:50.939Z"
   },
   {
    "duration": 7,
    "start_time": "2021-07-04T16:20:50.992Z"
   },
   {
    "duration": 21,
    "start_time": "2021-07-04T16:20:51.002Z"
   },
   {
    "duration": 16,
    "start_time": "2021-07-04T16:20:51.026Z"
   },
   {
    "duration": 693,
    "start_time": "2021-07-04T16:20:51.045Z"
   },
   {
    "duration": 24,
    "start_time": "2021-07-04T16:20:51.740Z"
   },
   {
    "duration": 24,
    "start_time": "2021-07-04T16:20:51.767Z"
   },
   {
    "duration": 36,
    "start_time": "2021-07-04T16:20:51.794Z"
   },
   {
    "duration": 56,
    "start_time": "2021-07-04T16:20:51.833Z"
   },
   {
    "duration": 4,
    "start_time": "2021-07-04T16:20:51.892Z"
   },
   {
    "duration": 21,
    "start_time": "2021-07-04T16:20:51.899Z"
   },
   {
    "duration": 32,
    "start_time": "2021-07-04T16:20:51.922Z"
   },
   {
    "duration": 55,
    "start_time": "2021-07-04T16:20:51.958Z"
   },
   {
    "duration": 5,
    "start_time": "2021-07-04T16:20:52.015Z"
   },
   {
    "duration": 41,
    "start_time": "2021-07-04T16:20:52.023Z"
   },
   {
    "duration": 54,
    "start_time": "2021-07-04T16:20:52.067Z"
   },
   {
    "duration": 79,
    "start_time": "2021-07-04T16:20:52.124Z"
   },
   {
    "duration": 4,
    "start_time": "2021-07-04T16:20:52.206Z"
   },
   {
    "duration": 17,
    "start_time": "2021-07-04T16:20:52.213Z"
   },
   {
    "duration": 44,
    "start_time": "2021-07-04T16:20:52.233Z"
   },
   {
    "duration": 1842,
    "start_time": "2021-07-04T16:20:52.280Z"
   },
   {
    "duration": 14,
    "start_time": "2021-07-04T16:20:54.125Z"
   },
   {
    "duration": 22,
    "start_time": "2021-07-04T16:20:54.156Z"
   },
   {
    "duration": 12,
    "start_time": "2021-07-04T16:20:54.182Z"
   },
   {
    "duration": 16,
    "start_time": "2021-07-04T16:20:54.197Z"
   },
   {
    "duration": 47,
    "start_time": "2021-07-04T16:20:54.216Z"
   },
   {
    "duration": 13,
    "start_time": "2021-07-04T16:20:54.267Z"
   },
   {
    "duration": 1325,
    "start_time": "2021-07-05T08:58:37.734Z"
   },
   {
    "duration": 408,
    "start_time": "2021-07-05T08:58:39.061Z"
   },
   {
    "duration": 16,
    "start_time": "2021-07-05T08:58:39.472Z"
   },
   {
    "duration": 12,
    "start_time": "2021-07-05T08:58:39.491Z"
   },
   {
    "duration": 11,
    "start_time": "2021-07-05T08:58:39.505Z"
   },
   {
    "duration": 18,
    "start_time": "2021-07-05T08:58:39.518Z"
   },
   {
    "duration": 47,
    "start_time": "2021-07-05T08:58:39.538Z"
   },
   {
    "duration": 25,
    "start_time": "2021-07-05T08:58:39.590Z"
   },
   {
    "duration": 25,
    "start_time": "2021-07-05T08:58:39.619Z"
   },
   {
    "duration": 54,
    "start_time": "2021-07-05T08:58:39.646Z"
   },
   {
    "duration": 18,
    "start_time": "2021-07-05T08:58:39.703Z"
   },
   {
    "duration": 127,
    "start_time": "2021-07-05T08:58:39.724Z"
   },
   {
    "duration": 4,
    "start_time": "2021-07-05T08:58:39.853Z"
   },
   {
    "duration": 14,
    "start_time": "2021-07-05T08:58:39.859Z"
   },
   {
    "duration": 14,
    "start_time": "2021-07-05T08:58:39.875Z"
   },
   {
    "duration": 9,
    "start_time": "2021-07-05T08:58:39.891Z"
   },
   {
    "duration": 66,
    "start_time": "2021-07-05T08:58:39.902Z"
   },
   {
    "duration": 14,
    "start_time": "2021-07-05T08:58:39.971Z"
   },
   {
    "duration": 57,
    "start_time": "2021-07-05T08:58:39.988Z"
   },
   {
    "duration": 7,
    "start_time": "2021-07-05T08:58:40.048Z"
   },
   {
    "duration": 29,
    "start_time": "2021-07-05T08:58:40.058Z"
   },
   {
    "duration": 20,
    "start_time": "2021-07-05T08:58:40.089Z"
   },
   {
    "duration": 6,
    "start_time": "2021-07-05T08:58:40.114Z"
   },
   {
    "duration": 18,
    "start_time": "2021-07-05T08:58:40.122Z"
   },
   {
    "duration": 7,
    "start_time": "2021-07-05T08:58:40.142Z"
   },
   {
    "duration": 706,
    "start_time": "2021-07-05T08:58:40.184Z"
   },
   {
    "duration": 11,
    "start_time": "2021-07-05T08:58:40.892Z"
   },
   {
    "duration": 11,
    "start_time": "2021-07-05T08:58:40.906Z"
   },
   {
    "duration": 17,
    "start_time": "2021-07-05T08:58:40.919Z"
   },
   {
    "duration": 77,
    "start_time": "2021-07-05T08:58:40.939Z"
   },
   {
    "duration": 5,
    "start_time": "2021-07-05T08:58:41.019Z"
   },
   {
    "duration": 12,
    "start_time": "2021-07-05T08:58:41.026Z"
   },
   {
    "duration": 25,
    "start_time": "2021-07-05T08:58:41.041Z"
   },
   {
    "duration": 57,
    "start_time": "2021-07-05T08:58:41.069Z"
   },
   {
    "duration": 4,
    "start_time": "2021-07-05T08:58:41.128Z"
   },
   {
    "duration": 10,
    "start_time": "2021-07-05T08:58:41.135Z"
   },
   {
    "duration": 47,
    "start_time": "2021-07-05T08:58:41.148Z"
   },
   {
    "duration": 51,
    "start_time": "2021-07-05T08:58:41.198Z"
   },
   {
    "duration": 5,
    "start_time": "2021-07-05T08:58:41.252Z"
   },
   {
    "duration": 242,
    "start_time": "2021-07-05T08:58:41.260Z"
   },
   {
    "duration": 29,
    "start_time": "2021-07-05T08:58:41.505Z"
   },
   {
    "duration": 1615,
    "start_time": "2021-07-05T08:58:41.537Z"
   },
   {
    "duration": 13,
    "start_time": "2021-07-05T08:58:43.156Z"
   },
   {
    "duration": 12,
    "start_time": "2021-07-05T08:58:43.187Z"
   },
   {
    "duration": 10,
    "start_time": "2021-07-05T08:58:43.202Z"
   },
   {
    "duration": 15,
    "start_time": "2021-07-05T08:58:43.214Z"
   },
   {
    "duration": 7,
    "start_time": "2021-07-05T08:58:43.232Z"
   },
   {
    "duration": 8,
    "start_time": "2021-07-05T08:58:43.286Z"
   },
   {
    "duration": 1446,
    "start_time": "2021-07-05T09:34:55.009Z"
   },
   {
    "duration": 433,
    "start_time": "2021-07-05T09:34:56.457Z"
   },
   {
    "duration": 17,
    "start_time": "2021-07-05T09:34:56.893Z"
   },
   {
    "duration": 19,
    "start_time": "2021-07-05T09:34:56.913Z"
   },
   {
    "duration": 15,
    "start_time": "2021-07-05T09:34:56.934Z"
   },
   {
    "duration": 37,
    "start_time": "2021-07-05T09:34:56.951Z"
   },
   {
    "duration": 21,
    "start_time": "2021-07-05T09:34:56.992Z"
   },
   {
    "duration": 33,
    "start_time": "2021-07-05T09:34:57.018Z"
   },
   {
    "duration": 54,
    "start_time": "2021-07-05T09:34:57.054Z"
   },
   {
    "duration": 23,
    "start_time": "2021-07-05T09:34:57.112Z"
   },
   {
    "duration": 20,
    "start_time": "2021-07-05T09:34:57.137Z"
   },
   {
    "duration": 162,
    "start_time": "2021-07-05T09:34:57.160Z"
   },
   {
    "duration": 4,
    "start_time": "2021-07-05T09:34:57.324Z"
   },
   {
    "duration": 10,
    "start_time": "2021-07-05T09:34:57.331Z"
   },
   {
    "duration": 9,
    "start_time": "2021-07-05T09:34:57.344Z"
   },
   {
    "duration": 25,
    "start_time": "2021-07-05T09:34:57.355Z"
   },
   {
    "duration": 68,
    "start_time": "2021-07-05T09:34:57.383Z"
   },
   {
    "duration": 5,
    "start_time": "2021-07-05T09:34:57.454Z"
   },
   {
    "duration": 75,
    "start_time": "2021-07-05T09:34:57.461Z"
   },
   {
    "duration": 7,
    "start_time": "2021-07-05T09:34:57.538Z"
   },
   {
    "duration": 19,
    "start_time": "2021-07-05T09:34:57.547Z"
   },
   {
    "duration": 35,
    "start_time": "2021-07-05T09:34:57.568Z"
   },
   {
    "duration": 6,
    "start_time": "2021-07-05T09:34:57.609Z"
   },
   {
    "duration": 22,
    "start_time": "2021-07-05T09:34:57.617Z"
   },
   {
    "duration": 7,
    "start_time": "2021-07-05T09:34:57.642Z"
   },
   {
    "duration": 652,
    "start_time": "2021-07-05T09:34:57.652Z"
   },
   {
    "duration": 10,
    "start_time": "2021-07-05T09:34:58.307Z"
   },
   {
    "duration": 8,
    "start_time": "2021-07-05T09:34:58.319Z"
   },
   {
    "duration": 16,
    "start_time": "2021-07-05T09:34:58.330Z"
   },
   {
    "duration": 75,
    "start_time": "2021-07-05T09:34:58.348Z"
   },
   {
    "duration": 6,
    "start_time": "2021-07-05T09:34:58.426Z"
   },
   {
    "duration": 8,
    "start_time": "2021-07-05T09:34:58.435Z"
   },
   {
    "duration": 44,
    "start_time": "2021-07-05T09:34:58.446Z"
   },
   {
    "duration": 47,
    "start_time": "2021-07-05T09:34:58.493Z"
   },
   {
    "duration": 4,
    "start_time": "2021-07-05T09:34:58.542Z"
   },
   {
    "duration": 8,
    "start_time": "2021-07-05T09:34:58.549Z"
   },
   {
    "duration": 25,
    "start_time": "2021-07-05T09:34:58.586Z"
   },
   {
    "duration": 45,
    "start_time": "2021-07-05T09:34:58.613Z"
   },
   {
    "duration": 25,
    "start_time": "2021-07-05T09:34:58.661Z"
   },
   {
    "duration": 6,
    "start_time": "2021-07-05T09:34:58.690Z"
   },
   {
    "duration": 31,
    "start_time": "2021-07-05T09:34:58.700Z"
   },
   {
    "duration": 1842,
    "start_time": "2021-07-05T09:34:58.734Z"
   },
   {
    "duration": 14,
    "start_time": "2021-07-05T09:35:00.587Z"
   },
   {
    "duration": 22,
    "start_time": "2021-07-05T09:35:00.603Z"
   },
   {
    "duration": 43,
    "start_time": "2021-07-05T09:35:00.627Z"
   },
   {
    "duration": 30,
    "start_time": "2021-07-05T09:35:00.673Z"
   },
   {
    "duration": 27,
    "start_time": "2021-07-05T09:35:00.706Z"
   },
   {
    "duration": 21,
    "start_time": "2021-07-05T09:35:00.736Z"
   }
  ],
  "kernelspec": {
   "display_name": "Python 3",
   "language": "python",
   "name": "python3"
  },
  "language_info": {
   "codemirror_mode": {
    "name": "ipython",
    "version": 3
   },
   "file_extension": ".py",
   "mimetype": "text/x-python",
   "name": "python",
   "nbconvert_exporter": "python",
   "pygments_lexer": "ipython3",
   "version": "3.8.8"
  },
  "toc": {
   "base_numbering": 1,
   "nav_menu": {},
   "number_sections": true,
   "sideBar": true,
   "skip_h1_title": true,
   "title_cell": "Table of Contents",
   "title_sidebar": "Contents",
   "toc_cell": false,
   "toc_position": {},
   "toc_section_display": true,
   "toc_window_display": false
  }
 },
 "nbformat": 4,
 "nbformat_minor": 2
}
