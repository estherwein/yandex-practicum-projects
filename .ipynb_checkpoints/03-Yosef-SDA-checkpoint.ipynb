{
 "cells": [
  {
   "cell_type": "markdown",
   "id": "59e0b7b2",
   "metadata": {},
   "source": [
    "<div style=\"border:solid green 2px; padding: 20px\"> <h1 style=\"color:green; margin-bottom:20px\">Reviewer's comment v1</h1>\n",
    "\n",
    "Hello Yosef, my name is Dmitrii. I'm going to review your project! Nice to meet you! 🙌\n",
    "\n",
    "You can find my comments under the heading **«Review»**. I will categorize my comments in green, blue or red boxes like this:\n",
    "\n",
    "<div class=\"alert alert-success\">\n",
    "    <b>Success:</b> if everything is done successfully\n",
    "</div>\n",
    "<div class=\"alert alert-warning\">\n",
    "    <b>Remarks:</b> if I can give some recommendations or ways to improve the project\n",
    "</div>\n",
    "<div class=\"alert alert-danger\">\n",
    "    <b>Needs fixing:</b> if the block requires some corrections. Work can't be accepted with the red comments\n",
    "</div>\n",
    "\n",
    "Please don't remove my comments :) If you have any questions don't hesitate to respond to my comments in a different section. \n",
    "<div class=\"alert alert-info\"> <b>Student comments:</b> For example like this</div>    \n"
   ]
  },
  {
   "cell_type": "markdown",
   "id": "654c422f",
   "metadata": {},
   "source": [
    "<div style=\"border:solid green 2px; padding: 20px\">\n",
    "<b>Reviewer's comment v1</b>\n",
    "    \n",
    "<b>Overall Feedback</b> \n",
    "    \n",
    "Overall well done! I can see that a lot of effort has been made! Your project already looks really good and you accomplished impressive results.\n",
    "\n",
    "Nevertheless, there are some comments/areas that will help you to make your project even better and should be fixed before this project can be accepted:\n",
    "- Double-check revenue calculation for the internet\n",
    "- Calculate dispersion\n",
    "\n",
    "I will wait for the new version of the project. Come back soon! :)\n",
    "\n",
    "And of course, if you have any questions along the way, remember that you can always reach out to your tutor for any clarification.\n",
    "</div>"
   ]
  },
  {
   "cell_type": "markdown",
   "id": "a9becdb5",
   "metadata": {},
   "source": [
    "<div class=\"alert alert-info\"> <b>thank you very much Dimitrii! \n",
    "    i assume that you mean to the varience with \"Calculate dispersion\" ? <br> (i thought that std is enough)</b> </div>    "
   ]
  },
  {
   "cell_type": "markdown",
   "id": "f9485e0b",
   "metadata": {},
   "source": [
    "# Project 3 - Statistical Data Analysis"
   ]
  },
  {
   "cell_type": "markdown",
   "id": "3b58f267",
   "metadata": {},
   "source": [
    "## Project description\n",
    "__I work as an analyst for the telecom operator Megaline. The company offers its clients two prepaid plans, Surf and Ultimate. The commercial department wants to know which of the plans brings in more revenue in order to adjust the advertising budget.\n",
    "I am going to carry out a preliminary analysis of the plans based on a relatively small client selection. You'll have the data on 500 Megaline clients: who the clients are, where they're from, which plan they use, and the number of calls they made and text messages they sent in 2018. My job is to analyze clients' behavior and determine which prepaid plan brings in more revenue.__"
   ]
  },
  {
   "cell_type": "markdown",
   "id": "7ecdfd87",
   "metadata": {},
   "source": [
    "## Description of the plans\n",
    "**Note: Megaline rounds seconds up to minutes, and megabytes to gigabytes. For calls, each individual call is rounded up: even if the call lasted just one second, it will be counted as one minute. For web traffic, individual web sessions are not rounded up. Instead, the total for the month is rounded up. If someone uses 1025 megabytes this month, they will be charged for 2 gigabytes.**        \n",
    "<ins>Surf</ins>\n",
    "\n",
    "    Monthly charge: $20\n",
    "    500 monthly minutes, 50 texts, and 15 GB of data\n",
    "    After exceeding the package limits:\n",
    "        1 minute: 3 cents\n",
    "        1 text message: 3 cents\n",
    "        1 GB of data: $10\n",
    "\n",
    "<ins>Ultimate</ins>\n",
    "\n",
    "    Monthly charge: $70\n",
    "    3000 monthly minutes, 1000 text messages, and 30 GB of data\n",
    "    After exceeding the package limits:\n",
    "        1 minute: 1 cent\n",
    "        1 text message: 1 cent\n",
    "        1 GB of data: $7"
   ]
  },
  {
   "cell_type": "markdown",
   "id": "61b1c151",
   "metadata": {},
   "source": [
    "## Description of the data\n",
    "Remember! Megaline rounds seconds up to minutes, and megabytes to gigabytes. For calls, each individual call is rounded up: even if the call lasted just one second, it will be counted as one minute. For web traffic, individual web sessions are not rounded up. Instead, the total for the month is rounded up. If someone uses 1025 megabytes this month, they will be charged for 2 gigabytes.\n",
    "<ins>The users table (data on users):</ins>\n",
    "\n",
    "    user_id — unique user identifier\n",
    "    first_name — user's name\n",
    "    last_name — user's last name\n",
    "    age — user's age (years)\n",
    "    reg_date — subscription date (dd, mm, yy)\n",
    "    churn_date — the date the user stopped using the service (if the value is missing, the calling plan was being used when this data was retrieved)\n",
    "    city — user's city of residence\n",
    "    plan — calling plan name\n",
    "\n",
    "<ins>The calls table (data on calls):</ins>\n",
    "\n",
    "    id — unique call identifier\n",
    "    call_date — call date\n",
    "    duration — call duration (in minutes)\n",
    "    user_id — the identifier of the user making the call\n",
    "\n",
    "<ins>The messages table (data on texts):</ins>\n",
    "\n",
    "    id — unique text message identifier\n",
    "    message_date — text message date\n",
    "    user_id — the identifier of the user sending the text\n",
    "\n",
    "<ins>The internet table (data on web sessions):</ins>\n",
    "\n",
    "    id — unique session identifier\n",
    "    mb_used — the volume of data spent during the session (in megabytes)\n",
    "    session_date — web session date\n",
    "    user_id — user identifier\n",
    "\n",
    "<ins>The plans table (data on the plans):</ins>\n",
    "\n",
    "    plan_name — calling plan name\n",
    "    usd_monthly_fee — monthly charge in US dollars\n",
    "    minutes_included — monthly minute allowance\n",
    "    messages_included — monthly text allowance\n",
    "    mb_per_month_included — data volume allowance (in megabytes)\n",
    "    usd_per_minute — price per minute after exceeding the package limits (e.g., if the package includes 100 minutes, the 101st minute will be charged)\n",
    "    usd_per_message — price per text after exceeding the package limits\n",
    "    usd_per_gb — price per extra gigabyte of data after exceeding the package limits (1 GB = 1024 megabytes)\n",
    "\n"
   ]
  },
  {
   "cell_type": "markdown",
   "id": "f29cecf5",
   "metadata": {},
   "source": [
    "## To the reviewer: \n",
    "**from my past experience: some of the libraries, are not updated on the platform.      \n",
    "specialy metplotlib and seaborn.       \n",
    "so please, when you check my work, remove the # sign, and run the next commands so all would run properly.\n",
    "thanks!**"
   ]
  },
  {
   "cell_type": "markdown",
   "id": "05c2e5c5",
   "metadata": {},
   "source": [
    "<div class=\"alert alert-block alert-success\">\n",
    "<b>Reviewer's comment v1:</b>\n",
    "    \n",
    "Yes, that could be that case! Thanks for sharing. \n",
    "</div>"
   ]
  },
  {
   "cell_type": "code",
   "execution_count": 1,
   "id": "36310f38",
   "metadata": {},
   "outputs": [],
   "source": [
    "#!pip install numpy"
   ]
  },
  {
   "cell_type": "code",
   "execution_count": 2,
   "id": "41806cec",
   "metadata": {},
   "outputs": [],
   "source": [
    "#!pip install pandas"
   ]
  },
  {
   "cell_type": "code",
   "execution_count": 3,
   "id": "be50b24d",
   "metadata": {},
   "outputs": [],
   "source": [
    "#!pip instal matplotlib"
   ]
  },
  {
   "cell_type": "code",
   "execution_count": 4,
   "id": "49948c1a",
   "metadata": {},
   "outputs": [],
   "source": [
    "#!pip install seaborn"
   ]
  },
  {
   "cell_type": "code",
   "execution_count": 170,
   "id": "da31e029",
   "metadata": {},
   "outputs": [],
   "source": [
    "import numpy as np\n",
    "import pandas as pd\n",
    "import matplotlib.pyplot as plt\n",
    "import seaborn as sns"
   ]
  },
  {
   "cell_type": "code",
   "execution_count": 171,
   "id": "666f8db7",
   "metadata": {},
   "outputs": [],
   "source": [
    "try:\n",
    "    df_users = pd.read_csv(\"megaline_users.csv\",na_values=\"null\")\n",
    "    df_calls = pd.read_csv(\"megaline_calls.csv\",na_values=\"null\")\n",
    "    df_internet = pd.read_csv(\"megaline_internet.csv\",na_values=\"null\")\n",
    "    df_messages = pd.read_csv(\"megaline_messages.csv\",na_values=\"null\")\n",
    "    df_plans = pd.read_csv(\"megaline_plans.csv\",na_values=\"null\")\n",
    "except Exception as e:\n",
    "    df_users=pd.read_csv(\"/datasets/megaline_users.csv\",na_values=\"null\")\n",
    "    df_calls=pd.read_csv(\"/datasets/megaline_calls.csv\",na_values=\"null\")\n",
    "    df_internet=pd.read_csv(\"/datasets/megaline_internet.csv\",na_values=\"null\")\n",
    "    df_messages=pd.read_csv(\"/datasets/megaline_messages.csv\",na_values=\"null\")\n",
    "    df_plans=pd.read_csv(\"/datasets/megaline_plans.csv\",na_values=\"null\")"
   ]
  },
  {
   "cell_type": "markdown",
   "id": "089e8c06",
   "metadata": {},
   "source": [
    "<div class=\"alert alert-block alert-success\">\n",
    "<b>Reviewer's comment v1:</b>\n",
    "    \n",
    "Great that all imports and data load are grouped in different cells before the project.\n",
    "</div>"
   ]
  },
  {
   "cell_type": "markdown",
   "id": "00f0ba24",
   "metadata": {},
   "source": [
    "## users"
   ]
  },
  {
   "cell_type": "code",
   "execution_count": 172,
   "id": "937bdf70",
   "metadata": {},
   "outputs": [
    {
     "data": {
      "text/html": [
       "<div>\n",
       "<style scoped>\n",
       "    .dataframe tbody tr th:only-of-type {\n",
       "        vertical-align: middle;\n",
       "    }\n",
       "\n",
       "    .dataframe tbody tr th {\n",
       "        vertical-align: top;\n",
       "    }\n",
       "\n",
       "    .dataframe thead th {\n",
       "        text-align: right;\n",
       "    }\n",
       "</style>\n",
       "<table border=\"1\" class=\"dataframe\">\n",
       "  <thead>\n",
       "    <tr style=\"text-align: right;\">\n",
       "      <th></th>\n",
       "      <th>user_id</th>\n",
       "      <th>first_name</th>\n",
       "      <th>last_name</th>\n",
       "      <th>age</th>\n",
       "      <th>city</th>\n",
       "      <th>reg_date</th>\n",
       "      <th>plan</th>\n",
       "      <th>churn_date</th>\n",
       "    </tr>\n",
       "  </thead>\n",
       "  <tbody>\n",
       "    <tr>\n",
       "      <th>0</th>\n",
       "      <td>1000</td>\n",
       "      <td>Anamaria</td>\n",
       "      <td>Bauer</td>\n",
       "      <td>45</td>\n",
       "      <td>Atlanta-Sandy Springs-Roswell, GA MSA</td>\n",
       "      <td>2018-12-24</td>\n",
       "      <td>ultimate</td>\n",
       "      <td>NaN</td>\n",
       "    </tr>\n",
       "    <tr>\n",
       "      <th>1</th>\n",
       "      <td>1001</td>\n",
       "      <td>Mickey</td>\n",
       "      <td>Wilkerson</td>\n",
       "      <td>28</td>\n",
       "      <td>Seattle-Tacoma-Bellevue, WA MSA</td>\n",
       "      <td>2018-08-13</td>\n",
       "      <td>surf</td>\n",
       "      <td>NaN</td>\n",
       "    </tr>\n",
       "    <tr>\n",
       "      <th>2</th>\n",
       "      <td>1002</td>\n",
       "      <td>Carlee</td>\n",
       "      <td>Hoffman</td>\n",
       "      <td>36</td>\n",
       "      <td>Las Vegas-Henderson-Paradise, NV MSA</td>\n",
       "      <td>2018-10-21</td>\n",
       "      <td>surf</td>\n",
       "      <td>NaN</td>\n",
       "    </tr>\n",
       "    <tr>\n",
       "      <th>3</th>\n",
       "      <td>1003</td>\n",
       "      <td>Reynaldo</td>\n",
       "      <td>Jenkins</td>\n",
       "      <td>52</td>\n",
       "      <td>Tulsa, OK MSA</td>\n",
       "      <td>2018-01-28</td>\n",
       "      <td>surf</td>\n",
       "      <td>NaN</td>\n",
       "    </tr>\n",
       "    <tr>\n",
       "      <th>4</th>\n",
       "      <td>1004</td>\n",
       "      <td>Leonila</td>\n",
       "      <td>Thompson</td>\n",
       "      <td>40</td>\n",
       "      <td>Seattle-Tacoma-Bellevue, WA MSA</td>\n",
       "      <td>2018-05-23</td>\n",
       "      <td>surf</td>\n",
       "      <td>NaN</td>\n",
       "    </tr>\n",
       "  </tbody>\n",
       "</table>\n",
       "</div>"
      ],
      "text/plain": [
       "   user_id first_name  last_name  age                                   city  \\\n",
       "0     1000   Anamaria      Bauer   45  Atlanta-Sandy Springs-Roswell, GA MSA   \n",
       "1     1001     Mickey  Wilkerson   28        Seattle-Tacoma-Bellevue, WA MSA   \n",
       "2     1002     Carlee    Hoffman   36   Las Vegas-Henderson-Paradise, NV MSA   \n",
       "3     1003   Reynaldo    Jenkins   52                          Tulsa, OK MSA   \n",
       "4     1004    Leonila   Thompson   40        Seattle-Tacoma-Bellevue, WA MSA   \n",
       "\n",
       "     reg_date      plan churn_date  \n",
       "0  2018-12-24  ultimate        NaN  \n",
       "1  2018-08-13      surf        NaN  \n",
       "2  2018-10-21      surf        NaN  \n",
       "3  2018-01-28      surf        NaN  \n",
       "4  2018-05-23      surf        NaN  "
      ]
     },
     "execution_count": 172,
     "metadata": {},
     "output_type": "execute_result"
    }
   ],
   "source": [
    "df_users.head()"
   ]
  },
  {
   "cell_type": "code",
   "execution_count": 173,
   "id": "750374ac",
   "metadata": {},
   "outputs": [
    {
     "name": "stdout",
     "output_type": "stream",
     "text": [
      "<class 'pandas.core.frame.DataFrame'>\n",
      "RangeIndex: 500 entries, 0 to 499\n",
      "Data columns (total 8 columns):\n",
      " #   Column      Non-Null Count  Dtype \n",
      "---  ------      --------------  ----- \n",
      " 0   user_id     500 non-null    int64 \n",
      " 1   first_name  500 non-null    object\n",
      " 2   last_name   500 non-null    object\n",
      " 3   age         500 non-null    int64 \n",
      " 4   city        500 non-null    object\n",
      " 5   reg_date    500 non-null    object\n",
      " 6   plan        500 non-null    object\n",
      " 7   churn_date  34 non-null     object\n",
      "dtypes: int64(2), object(6)\n",
      "memory usage: 31.4+ KB\n"
     ]
    }
   ],
   "source": [
    "df_users.info()"
   ]
  },
  {
   "cell_type": "markdown",
   "id": "b02c68cf",
   "metadata": {},
   "source": [
    "### we see here nulls only in \"churn_date\" column. from the description we read:\n",
    "    churn_date — the date the user stopped using the service (if the value is missing, the calling plan was being used when this data was retrieved)\n",
    "### I think i would replace the values of this column to datetime, and stay the nulls as they are."
   ]
  },
  {
   "cell_type": "code",
   "execution_count": 174,
   "id": "40fc752b",
   "metadata": {},
   "outputs": [],
   "source": [
    "df_users[\"reg_date\"] = pd.to_datetime(df_users[\"reg_date\"], errors='coerce',format=\"%Y-%m-%d\")"
   ]
  },
  {
   "cell_type": "code",
   "execution_count": 175,
   "id": "64e8f1d8",
   "metadata": {},
   "outputs": [],
   "source": [
    "df_users[\"churn_date\"] = pd.to_datetime(df_users[\"churn_date\"], errors='coerce',format=\"%Y-%m-%d\")"
   ]
  },
  {
   "cell_type": "code",
   "execution_count": 176,
   "id": "0b50f3f7",
   "metadata": {},
   "outputs": [
    {
     "name": "stdout",
     "output_type": "stream",
     "text": [
      "<class 'pandas.core.frame.DataFrame'>\n",
      "RangeIndex: 500 entries, 0 to 499\n",
      "Data columns (total 8 columns):\n",
      " #   Column      Non-Null Count  Dtype         \n",
      "---  ------      --------------  -----         \n",
      " 0   user_id     500 non-null    int64         \n",
      " 1   first_name  500 non-null    object        \n",
      " 2   last_name   500 non-null    object        \n",
      " 3   age         500 non-null    int64         \n",
      " 4   city        500 non-null    object        \n",
      " 5   reg_date    500 non-null    datetime64[ns]\n",
      " 6   plan        500 non-null    object        \n",
      " 7   churn_date  34 non-null     datetime64[ns]\n",
      "dtypes: datetime64[ns](2), int64(2), object(4)\n",
      "memory usage: 31.4+ KB\n"
     ]
    }
   ],
   "source": [
    "df_users.info()"
   ]
  },
  {
   "cell_type": "markdown",
   "id": "ebce9ee7",
   "metadata": {},
   "source": [
    "### i want to check duplicated values. i will first lowercase the data."
   ]
  },
  {
   "cell_type": "code",
   "execution_count": 177,
   "id": "3363d08b",
   "metadata": {},
   "outputs": [],
   "source": [
    "df_users = df_users.applymap(lambda s:s.lower() if type(s) == str else s)"
   ]
  },
  {
   "cell_type": "code",
   "execution_count": 178,
   "id": "20b6d793",
   "metadata": {},
   "outputs": [
    {
     "data": {
      "text/plain": [
       "0"
      ]
     },
     "execution_count": 178,
     "metadata": {},
     "output_type": "execute_result"
    }
   ],
   "source": [
    "df_users.duplicated().sum()"
   ]
  },
  {
   "cell_type": "code",
   "execution_count": 179,
   "id": "727eeb59",
   "metadata": {},
   "outputs": [
    {
     "data": {
      "text/html": [
       "<div>\n",
       "<style scoped>\n",
       "    .dataframe tbody tr th:only-of-type {\n",
       "        vertical-align: middle;\n",
       "    }\n",
       "\n",
       "    .dataframe tbody tr th {\n",
       "        vertical-align: top;\n",
       "    }\n",
       "\n",
       "    .dataframe thead th {\n",
       "        text-align: right;\n",
       "    }\n",
       "</style>\n",
       "<table border=\"1\" class=\"dataframe\">\n",
       "  <thead>\n",
       "    <tr style=\"text-align: right;\">\n",
       "      <th></th>\n",
       "      <th>user_id</th>\n",
       "      <th>age</th>\n",
       "    </tr>\n",
       "  </thead>\n",
       "  <tbody>\n",
       "    <tr>\n",
       "      <th>min</th>\n",
       "      <td>1000.0</td>\n",
       "      <td>18.0</td>\n",
       "    </tr>\n",
       "    <tr>\n",
       "      <th>max</th>\n",
       "      <td>1499.0</td>\n",
       "      <td>75.0</td>\n",
       "    </tr>\n",
       "  </tbody>\n",
       "</table>\n",
       "</div>"
      ],
      "text/plain": [
       "     user_id   age\n",
       "min   1000.0  18.0\n",
       "max   1499.0  75.0"
      ]
     },
     "execution_count": 179,
     "metadata": {},
     "output_type": "execute_result"
    }
   ],
   "source": [
    "df_users.describe().loc[[\"min\",\"max\"],]"
   ]
  },
  {
   "cell_type": "markdown",
   "id": "340b7f93",
   "metadata": {},
   "source": [
    "### how much users are in every plan ?"
   ]
  },
  {
   "cell_type": "code",
   "execution_count": 180,
   "id": "e88deb52",
   "metadata": {},
   "outputs": [
    {
     "data": {
      "text/plain": [
       "surf        339\n",
       "ultimate    161\n",
       "Name: plan, dtype: int64"
      ]
     },
     "execution_count": 180,
     "metadata": {},
     "output_type": "execute_result"
    }
   ],
   "source": [
    "df_users[\"plan\"].value_counts()"
   ]
  },
  {
   "cell_type": "code",
   "execution_count": 181,
   "id": "dede4d34",
   "metadata": {},
   "outputs": [
    {
     "data": {
      "image/png": "[encoded data removed]",
      "text/plain": [
       "<Figure size 432x288 with 1 Axes>"
      ]
     },
     "metadata": {},
     "output_type": "display_data"
    }
   ],
   "source": [
    "df_users[\"plan\"].value_counts().plot.pie(autopct=\"%.1f%%\");"
   ]
  },
  {
   "cell_type": "markdown",
   "id": "44977dc1",
   "metadata": {},
   "source": [
    "<div class=\"alert alert-block alert-success\">\n",
    "<b>Reviewer's comment v1:</b>\n",
    "    \n",
    "Great start! Now we got a first look at the data with users. \n",
    "\n",
    "</div>"
   ]
  },
  {
   "cell_type": "markdown",
   "id": "a21c682e",
   "metadata": {},
   "source": [
    "## calls"
   ]
  },
  {
   "cell_type": "code",
   "execution_count": 182,
   "id": "5918db43",
   "metadata": {},
   "outputs": [
    {
     "data": {
      "text/html": [
       "<div>\n",
       "<style scoped>\n",
       "    .dataframe tbody tr th:only-of-type {\n",
       "        vertical-align: middle;\n",
       "    }\n",
       "\n",
       "    .dataframe tbody tr th {\n",
       "        vertical-align: top;\n",
       "    }\n",
       "\n",
       "    .dataframe thead th {\n",
       "        text-align: right;\n",
       "    }\n",
       "</style>\n",
       "<table border=\"1\" class=\"dataframe\">\n",
       "  <thead>\n",
       "    <tr style=\"text-align: right;\">\n",
       "      <th></th>\n",
       "      <th>id</th>\n",
       "      <th>user_id</th>\n",
       "      <th>call_date</th>\n",
       "      <th>duration</th>\n",
       "    </tr>\n",
       "  </thead>\n",
       "  <tbody>\n",
       "    <tr>\n",
       "      <th>0</th>\n",
       "      <td>1000_93</td>\n",
       "      <td>1000</td>\n",
       "      <td>2018-12-27</td>\n",
       "      <td>8.52</td>\n",
       "    </tr>\n",
       "    <tr>\n",
       "      <th>1</th>\n",
       "      <td>1000_145</td>\n",
       "      <td>1000</td>\n",
       "      <td>2018-12-27</td>\n",
       "      <td>13.66</td>\n",
       "    </tr>\n",
       "    <tr>\n",
       "      <th>2</th>\n",
       "      <td>1000_247</td>\n",
       "      <td>1000</td>\n",
       "      <td>2018-12-27</td>\n",
       "      <td>14.48</td>\n",
       "    </tr>\n",
       "    <tr>\n",
       "      <th>3</th>\n",
       "      <td>1000_309</td>\n",
       "      <td>1000</td>\n",
       "      <td>2018-12-28</td>\n",
       "      <td>5.76</td>\n",
       "    </tr>\n",
       "    <tr>\n",
       "      <th>4</th>\n",
       "      <td>1000_380</td>\n",
       "      <td>1000</td>\n",
       "      <td>2018-12-30</td>\n",
       "      <td>4.22</td>\n",
       "    </tr>\n",
       "  </tbody>\n",
       "</table>\n",
       "</div>"
      ],
      "text/plain": [
       "         id  user_id   call_date  duration\n",
       "0   1000_93     1000  2018-12-27      8.52\n",
       "1  1000_145     1000  2018-12-27     13.66\n",
       "2  1000_247     1000  2018-12-27     14.48\n",
       "3  1000_309     1000  2018-12-28      5.76\n",
       "4  1000_380     1000  2018-12-30      4.22"
      ]
     },
     "execution_count": 182,
     "metadata": {},
     "output_type": "execute_result"
    }
   ],
   "source": [
    "df_calls.head()"
   ]
  },
  {
   "cell_type": "code",
   "execution_count": 183,
   "id": "4fa77c6e",
   "metadata": {},
   "outputs": [
    {
     "name": "stdout",
     "output_type": "stream",
     "text": [
      "<class 'pandas.core.frame.DataFrame'>\n",
      "RangeIndex: 137735 entries, 0 to 137734\n",
      "Data columns (total 4 columns):\n",
      " #   Column     Non-Null Count   Dtype  \n",
      "---  ------     --------------   -----  \n",
      " 0   id         137735 non-null  object \n",
      " 1   user_id    137735 non-null  int64  \n",
      " 2   call_date  137735 non-null  object \n",
      " 3   duration   137735 non-null  float64\n",
      "dtypes: float64(1), int64(1), object(2)\n",
      "memory usage: 4.2+ MB\n"
     ]
    }
   ],
   "source": [
    "df_calls.info()"
   ]
  },
  {
   "cell_type": "markdown",
   "id": "660bc6b5",
   "metadata": {},
   "source": [
    "### we will convert \"call_date\" to datetime:"
   ]
  },
  {
   "cell_type": "code",
   "execution_count": 184,
   "id": "019232d6",
   "metadata": {},
   "outputs": [],
   "source": [
    "df_calls[\"call_date\"] = pd.to_datetime(df_calls[\"call_date\"],format=\"%Y-%m-%d\")"
   ]
  },
  {
   "cell_type": "markdown",
   "id": "5c43421e",
   "metadata": {},
   "source": [
    "### we see in the \"duration\" column which is in minutes, decimal numbers. \n",
    "    * we see there values like 5.76 or 13.66 which says that it isn't seconds.\n",
    "    * we have been told that every part of a minute in phone call is rounded up.\n",
    "### so i create a new column - duration rounded:"
   ]
  },
  {
   "cell_type": "code",
   "execution_count": 185,
   "id": "bf98aa5c",
   "metadata": {},
   "outputs": [],
   "source": [
    "df_calls[\"duration_round\"] = np.ceil(df_calls[\"duration\"])"
   ]
  },
  {
   "cell_type": "markdown",
   "id": "4ea40426",
   "metadata": {},
   "source": [
    "<div class=\"alert alert-block alert-success\">\n",
    "<b>Reviewer's comment v1:</b>\n",
    "    \n",
    "Well done, that did not forget about rounding and used the np.ceil () function.\n",
    "\n",
    "</div>"
   ]
  },
  {
   "cell_type": "code",
   "execution_count": 186,
   "id": "af0fe1d7",
   "metadata": {},
   "outputs": [
    {
     "data": {
      "text/html": [
       "<div>\n",
       "<style scoped>\n",
       "    .dataframe tbody tr th:only-of-type {\n",
       "        vertical-align: middle;\n",
       "    }\n",
       "\n",
       "    .dataframe tbody tr th {\n",
       "        vertical-align: top;\n",
       "    }\n",
       "\n",
       "    .dataframe thead th {\n",
       "        text-align: right;\n",
       "    }\n",
       "</style>\n",
       "<table border=\"1\" class=\"dataframe\">\n",
       "  <thead>\n",
       "    <tr style=\"text-align: right;\">\n",
       "      <th></th>\n",
       "      <th>id</th>\n",
       "      <th>user_id</th>\n",
       "      <th>call_date</th>\n",
       "      <th>duration</th>\n",
       "      <th>duration_round</th>\n",
       "    </tr>\n",
       "  </thead>\n",
       "  <tbody>\n",
       "    <tr>\n",
       "      <th>0</th>\n",
       "      <td>1000_93</td>\n",
       "      <td>1000</td>\n",
       "      <td>2018-12-27</td>\n",
       "      <td>8.52</td>\n",
       "      <td>9.0</td>\n",
       "    </tr>\n",
       "    <tr>\n",
       "      <th>1</th>\n",
       "      <td>1000_145</td>\n",
       "      <td>1000</td>\n",
       "      <td>2018-12-27</td>\n",
       "      <td>13.66</td>\n",
       "      <td>14.0</td>\n",
       "    </tr>\n",
       "    <tr>\n",
       "      <th>2</th>\n",
       "      <td>1000_247</td>\n",
       "      <td>1000</td>\n",
       "      <td>2018-12-27</td>\n",
       "      <td>14.48</td>\n",
       "      <td>15.0</td>\n",
       "    </tr>\n",
       "    <tr>\n",
       "      <th>3</th>\n",
       "      <td>1000_309</td>\n",
       "      <td>1000</td>\n",
       "      <td>2018-12-28</td>\n",
       "      <td>5.76</td>\n",
       "      <td>6.0</td>\n",
       "    </tr>\n",
       "    <tr>\n",
       "      <th>4</th>\n",
       "      <td>1000_380</td>\n",
       "      <td>1000</td>\n",
       "      <td>2018-12-30</td>\n",
       "      <td>4.22</td>\n",
       "      <td>5.0</td>\n",
       "    </tr>\n",
       "  </tbody>\n",
       "</table>\n",
       "</div>"
      ],
      "text/plain": [
       "         id  user_id  call_date  duration  duration_round\n",
       "0   1000_93     1000 2018-12-27      8.52             9.0\n",
       "1  1000_145     1000 2018-12-27     13.66            14.0\n",
       "2  1000_247     1000 2018-12-27     14.48            15.0\n",
       "3  1000_309     1000 2018-12-28      5.76             6.0\n",
       "4  1000_380     1000 2018-12-30      4.22             5.0"
      ]
     },
     "execution_count": 186,
     "metadata": {},
     "output_type": "execute_result"
    }
   ],
   "source": [
    "df_calls.head()"
   ]
  },
  {
   "cell_type": "markdown",
   "id": "e201fcea",
   "metadata": {},
   "source": [
    "we will convert duration round to int too"
   ]
  },
  {
   "cell_type": "code",
   "execution_count": 187,
   "id": "a01fa50f",
   "metadata": {},
   "outputs": [],
   "source": [
    "df_calls[\"duration_round\"] = df_calls[\"duration_round\"].astype('int')"
   ]
  },
  {
   "cell_type": "markdown",
   "id": "c24d169c",
   "metadata": {},
   "source": [
    "### lets check the distribution of these columns:"
   ]
  },
  {
   "cell_type": "code",
   "execution_count": 188,
   "id": "1d007b8d",
   "metadata": {},
   "outputs": [
    {
     "data": {
      "image/png": "[encoded data removed]",
      "text/plain": [
       "<Figure size 792x360 with 2 Axes>"
      ]
     },
     "metadata": {
      "needs_background": "light"
     },
     "output_type": "display_data"
    }
   ],
   "source": [
    "fig,axes = plt.subplots(nrows=1, ncols=2,figsize=(11,5));\n",
    "sns.histplot(data=df_calls,x=\"duration\",ax=axes[0]);\n",
    "sns.boxplot(data=df_calls,x=\"duration\",ax=axes[1]);"
   ]
  },
  {
   "cell_type": "code",
   "execution_count": 189,
   "id": "1b540634",
   "metadata": {},
   "outputs": [
    {
     "data": {
      "image/png": "[encoded data removed]",
      "text/plain": [
       "<Figure size 792x360 with 2 Axes>"
      ]
     },
     "metadata": {
      "needs_background": "light"
     },
     "output_type": "display_data"
    }
   ],
   "source": [
    "fig,axes = plt.subplots(nrows=1, ncols=2,figsize=(11,5));\n",
    "sns.histplot(data=df_calls,x=\"duration_round\",ax=axes[0]);\n",
    "sns.boxplot(data=df_calls,x=\"duration_round\",ax=axes[1]);"
   ]
  },
  {
   "cell_type": "code",
   "execution_count": 190,
   "id": "d3100ffe",
   "metadata": {},
   "outputs": [
    {
     "data": {
      "text/html": [
       "<div>\n",
       "<style scoped>\n",
       "    .dataframe tbody tr th:only-of-type {\n",
       "        vertical-align: middle;\n",
       "    }\n",
       "\n",
       "    .dataframe tbody tr th {\n",
       "        vertical-align: top;\n",
       "    }\n",
       "\n",
       "    .dataframe thead th {\n",
       "        text-align: right;\n",
       "    }\n",
       "</style>\n",
       "<table border=\"1\" class=\"dataframe\">\n",
       "  <thead>\n",
       "    <tr style=\"text-align: right;\">\n",
       "      <th></th>\n",
       "      <th>user_id</th>\n",
       "      <th>duration</th>\n",
       "      <th>duration_round</th>\n",
       "    </tr>\n",
       "  </thead>\n",
       "  <tbody>\n",
       "    <tr>\n",
       "      <th>min</th>\n",
       "      <td>1000.0</td>\n",
       "      <td>0.0</td>\n",
       "      <td>0.0</td>\n",
       "    </tr>\n",
       "    <tr>\n",
       "      <th>max</th>\n",
       "      <td>1499.0</td>\n",
       "      <td>37.6</td>\n",
       "      <td>38.0</td>\n",
       "    </tr>\n",
       "  </tbody>\n",
       "</table>\n",
       "</div>"
      ],
      "text/plain": [
       "     user_id  duration  duration_round\n",
       "min   1000.0       0.0             0.0\n",
       "max   1499.0      37.6            38.0"
      ]
     },
     "execution_count": 190,
     "metadata": {},
     "output_type": "execute_result"
    }
   ],
   "source": [
    "df_calls.describe().loc[[\"min\",\"max\"],]"
   ]
  },
  {
   "cell_type": "markdown",
   "id": "3fb9ff3d",
   "metadata": {},
   "source": [
    "### Why there are 0 values ? These might be missed calls.\n",
    "### lets check how much duration 0 are in the dataset:"
   ]
  },
  {
   "cell_type": "code",
   "execution_count": 191,
   "id": "631a17c6",
   "metadata": {},
   "outputs": [
    {
     "data": {
      "text/plain": [
       "26834"
      ]
     },
     "execution_count": 191,
     "metadata": {},
     "output_type": "execute_result"
    }
   ],
   "source": [
    "df_calls.query(\"duration==0\").count()[\"duration\"]"
   ]
  },
  {
   "cell_type": "markdown",
   "id": "2177c973",
   "metadata": {},
   "source": [
    "### and in precentage:"
   ]
  },
  {
   "cell_type": "code",
   "execution_count": 192,
   "id": "c7e85877",
   "metadata": {},
   "outputs": [
    {
     "data": {
      "text/plain": [
       "19.0"
      ]
     },
     "execution_count": 192,
     "metadata": {},
     "output_type": "execute_result"
    }
   ],
   "source": [
    "round((26834/137735)*100,0)"
   ]
  },
  {
   "cell_type": "markdown",
   "id": "c82555ae",
   "metadata": {},
   "source": [
    "### remove or not remove the 0's ? \n",
    "   * the answer is \"depand what is your needs!\" and from what i read in the project description and my task, i don't need this 0 values to nothing.\n",
    "   ***admittedly i have been requested to check \"The number of calls made by user\" but i assume it only non 0 duration calls, because the 0 values have no influence on the revenues!**\n",
    "   * so i will remove them all.\n",
    "    "
   ]
  },
  {
   "cell_type": "markdown",
   "id": "bb00697f",
   "metadata": {},
   "source": [
    "<div class=\"alert alert-block alert-success\">\n",
    "<b>Reviewer's comment v1:</b>\n",
    "    \n",
    "Good that you found zero values in the data and made a decision.\n",
    "\n",
    "</div>"
   ]
  },
  {
   "cell_type": "code",
   "execution_count": 193,
   "id": "b95c0329",
   "metadata": {},
   "outputs": [],
   "source": [
    "df_calls = df_calls[~(df_calls[\"duration\"]==0)]\n",
    "df_calls = df_calls[~(df_calls[\"duration_round\"]==0)]"
   ]
  },
  {
   "cell_type": "code",
   "execution_count": 194,
   "id": "72f51ba6",
   "metadata": {
    "tags": []
   },
   "outputs": [
    {
     "data": {
      "image/png": "[encoded data removed]",
      "text/plain": [
       "<Figure size 792x288 with 2 Axes>"
      ]
     },
     "metadata": {
      "needs_background": "light"
     },
     "output_type": "display_data"
    }
   ],
   "source": [
    "fig,axes = plt.subplots(nrows=1, ncols=2,figsize=(11,4));\n",
    "sns.histplot(data=df_calls,x=\"duration\",ax=axes[0]);\n",
    "sns.histplot(data=df_calls,x=\"duration_round\",ax=axes[1]);"
   ]
  },
  {
   "cell_type": "markdown",
   "id": "2f7c4d65",
   "metadata": {},
   "source": [
    "### we saw before on the boxplot some extreme values, but 40 minuts are still a reasonable time. so i don't remove them."
   ]
  },
  {
   "cell_type": "markdown",
   "id": "785ad315",
   "metadata": {},
   "source": [
    "## Internet"
   ]
  },
  {
   "cell_type": "code",
   "execution_count": 195,
   "id": "97207169",
   "metadata": {},
   "outputs": [
    {
     "data": {
      "text/html": [
       "<div>\n",
       "<style scoped>\n",
       "    .dataframe tbody tr th:only-of-type {\n",
       "        vertical-align: middle;\n",
       "    }\n",
       "\n",
       "    .dataframe tbody tr th {\n",
       "        vertical-align: top;\n",
       "    }\n",
       "\n",
       "    .dataframe thead th {\n",
       "        text-align: right;\n",
       "    }\n",
       "</style>\n",
       "<table border=\"1\" class=\"dataframe\">\n",
       "  <thead>\n",
       "    <tr style=\"text-align: right;\">\n",
       "      <th></th>\n",
       "      <th>id</th>\n",
       "      <th>user_id</th>\n",
       "      <th>session_date</th>\n",
       "      <th>mb_used</th>\n",
       "    </tr>\n",
       "  </thead>\n",
       "  <tbody>\n",
       "    <tr>\n",
       "      <th>0</th>\n",
       "      <td>1000_13</td>\n",
       "      <td>1000</td>\n",
       "      <td>2018-12-29</td>\n",
       "      <td>89.86</td>\n",
       "    </tr>\n",
       "    <tr>\n",
       "      <th>1</th>\n",
       "      <td>1000_204</td>\n",
       "      <td>1000</td>\n",
       "      <td>2018-12-31</td>\n",
       "      <td>0.00</td>\n",
       "    </tr>\n",
       "    <tr>\n",
       "      <th>2</th>\n",
       "      <td>1000_379</td>\n",
       "      <td>1000</td>\n",
       "      <td>2018-12-28</td>\n",
       "      <td>660.40</td>\n",
       "    </tr>\n",
       "    <tr>\n",
       "      <th>3</th>\n",
       "      <td>1000_413</td>\n",
       "      <td>1000</td>\n",
       "      <td>2018-12-26</td>\n",
       "      <td>270.99</td>\n",
       "    </tr>\n",
       "    <tr>\n",
       "      <th>4</th>\n",
       "      <td>1000_442</td>\n",
       "      <td>1000</td>\n",
       "      <td>2018-12-27</td>\n",
       "      <td>880.22</td>\n",
       "    </tr>\n",
       "  </tbody>\n",
       "</table>\n",
       "</div>"
      ],
      "text/plain": [
       "         id  user_id session_date  mb_used\n",
       "0   1000_13     1000   2018-12-29    89.86\n",
       "1  1000_204     1000   2018-12-31     0.00\n",
       "2  1000_379     1000   2018-12-28   660.40\n",
       "3  1000_413     1000   2018-12-26   270.99\n",
       "4  1000_442     1000   2018-12-27   880.22"
      ]
     },
     "execution_count": 195,
     "metadata": {},
     "output_type": "execute_result"
    }
   ],
   "source": [
    "df_internet.head()"
   ]
  },
  {
   "cell_type": "code",
   "execution_count": 196,
   "id": "1dc49db1",
   "metadata": {},
   "outputs": [
    {
     "data": {
      "text/html": [
       "<div>\n",
       "<style scoped>\n",
       "    .dataframe tbody tr th:only-of-type {\n",
       "        vertical-align: middle;\n",
       "    }\n",
       "\n",
       "    .dataframe tbody tr th {\n",
       "        vertical-align: top;\n",
       "    }\n",
       "\n",
       "    .dataframe thead th {\n",
       "        text-align: right;\n",
       "    }\n",
       "</style>\n",
       "<table border=\"1\" class=\"dataframe\">\n",
       "  <thead>\n",
       "    <tr style=\"text-align: right;\">\n",
       "      <th></th>\n",
       "      <th>user_id</th>\n",
       "      <th>mb_used</th>\n",
       "    </tr>\n",
       "  </thead>\n",
       "  <tbody>\n",
       "    <tr>\n",
       "      <th>min</th>\n",
       "      <td>1000.0</td>\n",
       "      <td>0.00</td>\n",
       "    </tr>\n",
       "    <tr>\n",
       "      <th>max</th>\n",
       "      <td>1499.0</td>\n",
       "      <td>1693.47</td>\n",
       "    </tr>\n",
       "  </tbody>\n",
       "</table>\n",
       "</div>"
      ],
      "text/plain": [
       "     user_id  mb_used\n",
       "min   1000.0     0.00\n",
       "max   1499.0  1693.47"
      ]
     },
     "execution_count": 196,
     "metadata": {},
     "output_type": "execute_result"
    }
   ],
   "source": [
    "df_internet.describe().loc[[\"min\",\"max\"],]"
   ]
  },
  {
   "cell_type": "code",
   "execution_count": 197,
   "id": "abc31d71",
   "metadata": {},
   "outputs": [
    {
     "data": {
      "text/plain": [
       "13747"
      ]
     },
     "execution_count": 197,
     "metadata": {},
     "output_type": "execute_result"
    }
   ],
   "source": [
    "df_internet.query(\"mb_used==0\").count()[\"mb_used\"]"
   ]
  },
  {
   "cell_type": "markdown",
   "id": "b1fa8ecc",
   "metadata": {},
   "source": [
    "### In precentage:"
   ]
  },
  {
   "cell_type": "code",
   "execution_count": 198,
   "id": "4db90d12",
   "metadata": {},
   "outputs": [
    {
     "data": {
      "text/plain": [
       "13.0"
      ]
     },
     "execution_count": 198,
     "metadata": {},
     "output_type": "execute_result"
    }
   ],
   "source": [
    "round((13747/104825)*100,0)"
   ]
  },
  {
   "cell_type": "code",
   "execution_count": 199,
   "id": "66c077c5",
   "metadata": {},
   "outputs": [
    {
     "data": {
      "image/png": "[encoded data removed]",
      "text/plain": [
       "<Figure size 792x288 with 2 Axes>"
      ]
     },
     "metadata": {
      "needs_background": "light"
     },
     "output_type": "display_data"
    }
   ],
   "source": [
    "fig,axes = plt.subplots(nrows=1, ncols=2,figsize=(11,4));\n",
    "sns.histplot(data=df_internet,x=\"mb_used\",ax=axes[0]);\n",
    "sns.boxplot(data=df_internet,x=\"mb_used\",ax=axes[1]);"
   ]
  },
  {
   "cell_type": "markdown",
   "id": "22682d83",
   "metadata": {},
   "source": [
    "### here too, from the same considerations i remove all the 0 values:"
   ]
  },
  {
   "cell_type": "code",
   "execution_count": 200,
   "id": "376c9d2b",
   "metadata": {},
   "outputs": [],
   "source": [
    "df_internet = df_internet[~(df_internet[\"mb_used\"]==0)]"
   ]
  },
  {
   "cell_type": "code",
   "execution_count": 201,
   "id": "771d90fe",
   "metadata": {},
   "outputs": [
    {
     "data": {
      "image/png": "[encoded data removed]",
      "text/plain": [
       "<Figure size 792x288 with 2 Axes>"
      ]
     },
     "metadata": {
      "needs_background": "light"
     },
     "output_type": "display_data"
    }
   ],
   "source": [
    "fig,axes = plt.subplots(nrows=1, ncols=2,figsize=(11,4));\n",
    "sns.histplot(data=df_internet,x=\"mb_used\",ax=axes[0]);\n",
    "sns.boxplot(data=df_internet,x=\"mb_used\",ax=axes[1]);"
   ]
  },
  {
   "cell_type": "markdown",
   "id": "3b724497",
   "metadata": {},
   "source": [
    "### we see here some outliers on the upper limits, but i haven't a reason to believe that these are falsy values. so i wouldn't remove them."
   ]
  },
  {
   "cell_type": "code",
   "execution_count": 202,
   "id": "cf1b7a51",
   "metadata": {},
   "outputs": [
    {
     "name": "stdout",
     "output_type": "stream",
     "text": [
      "<class 'pandas.core.frame.DataFrame'>\n",
      "Int64Index: 91078 entries, 0 to 104824\n",
      "Data columns (total 4 columns):\n",
      " #   Column        Non-Null Count  Dtype  \n",
      "---  ------        --------------  -----  \n",
      " 0   id            91078 non-null  object \n",
      " 1   user_id       91078 non-null  int64  \n",
      " 2   session_date  91078 non-null  object \n",
      " 3   mb_used       91078 non-null  float64\n",
      "dtypes: float64(1), int64(1), object(2)\n",
      "memory usage: 3.5+ MB\n"
     ]
    }
   ],
   "source": [
    "df_internet.info()"
   ]
  },
  {
   "cell_type": "code",
   "execution_count": 203,
   "id": "44013215",
   "metadata": {},
   "outputs": [],
   "source": [
    "df_internet[\"session_date\"] = pd.to_datetime(df_internet[\"session_date\"],format=\"%Y-%m-%d\")"
   ]
  },
  {
   "cell_type": "code",
   "execution_count": 204,
   "id": "dbb2ae17",
   "metadata": {},
   "outputs": [
    {
     "data": {
      "text/plain": [
       "id                      object\n",
       "user_id                  int64\n",
       "session_date    datetime64[ns]\n",
       "mb_used                float64\n",
       "dtype: object"
      ]
     },
     "execution_count": 204,
     "metadata": {},
     "output_type": "execute_result"
    }
   ],
   "source": [
    "df_internet.dtypes"
   ]
  },
  {
   "cell_type": "markdown",
   "id": "4d79c994",
   "metadata": {},
   "source": [
    "<div class=\"alert alert-block alert-success\">\n",
    "<b>Reviewer's comment v1:</b>\n",
    "    \n",
    "Again, everything is correct here. \n",
    "\n",
    "One small advice is to keep your conclusions/observations as a markdown text and use '###' for headlines. You can check markdown syntax here: https://www.markdownguide.org/basic-syntax/\n",
    "\n",
    "</div>"
   ]
  },
  {
   "cell_type": "markdown",
   "id": "280a503b",
   "metadata": {},
   "source": [
    "## Messages"
   ]
  },
  {
   "cell_type": "code",
   "execution_count": 205,
   "id": "0f20573d",
   "metadata": {},
   "outputs": [
    {
     "data": {
      "text/html": [
       "<div>\n",
       "<style scoped>\n",
       "    .dataframe tbody tr th:only-of-type {\n",
       "        vertical-align: middle;\n",
       "    }\n",
       "\n",
       "    .dataframe tbody tr th {\n",
       "        vertical-align: top;\n",
       "    }\n",
       "\n",
       "    .dataframe thead th {\n",
       "        text-align: right;\n",
       "    }\n",
       "</style>\n",
       "<table border=\"1\" class=\"dataframe\">\n",
       "  <thead>\n",
       "    <tr style=\"text-align: right;\">\n",
       "      <th></th>\n",
       "      <th>id</th>\n",
       "      <th>user_id</th>\n",
       "      <th>message_date</th>\n",
       "    </tr>\n",
       "  </thead>\n",
       "  <tbody>\n",
       "    <tr>\n",
       "      <th>0</th>\n",
       "      <td>1000_125</td>\n",
       "      <td>1000</td>\n",
       "      <td>2018-12-27</td>\n",
       "    </tr>\n",
       "    <tr>\n",
       "      <th>1</th>\n",
       "      <td>1000_160</td>\n",
       "      <td>1000</td>\n",
       "      <td>2018-12-31</td>\n",
       "    </tr>\n",
       "    <tr>\n",
       "      <th>2</th>\n",
       "      <td>1000_223</td>\n",
       "      <td>1000</td>\n",
       "      <td>2018-12-31</td>\n",
       "    </tr>\n",
       "    <tr>\n",
       "      <th>3</th>\n",
       "      <td>1000_251</td>\n",
       "      <td>1000</td>\n",
       "      <td>2018-12-27</td>\n",
       "    </tr>\n",
       "    <tr>\n",
       "      <th>4</th>\n",
       "      <td>1000_255</td>\n",
       "      <td>1000</td>\n",
       "      <td>2018-12-26</td>\n",
       "    </tr>\n",
       "  </tbody>\n",
       "</table>\n",
       "</div>"
      ],
      "text/plain": [
       "         id  user_id message_date\n",
       "0  1000_125     1000   2018-12-27\n",
       "1  1000_160     1000   2018-12-31\n",
       "2  1000_223     1000   2018-12-31\n",
       "3  1000_251     1000   2018-12-27\n",
       "4  1000_255     1000   2018-12-26"
      ]
     },
     "execution_count": 205,
     "metadata": {},
     "output_type": "execute_result"
    }
   ],
   "source": [
    "df_messages.head()"
   ]
  },
  {
   "cell_type": "code",
   "execution_count": 206,
   "id": "fb8ce09e",
   "metadata": {},
   "outputs": [
    {
     "name": "stdout",
     "output_type": "stream",
     "text": [
      "<class 'pandas.core.frame.DataFrame'>\n",
      "RangeIndex: 76051 entries, 0 to 76050\n",
      "Data columns (total 3 columns):\n",
      " #   Column        Non-Null Count  Dtype \n",
      "---  ------        --------------  ----- \n",
      " 0   id            76051 non-null  object\n",
      " 1   user_id       76051 non-null  int64 \n",
      " 2   message_date  76051 non-null  object\n",
      "dtypes: int64(1), object(2)\n",
      "memory usage: 1.7+ MB\n"
     ]
    }
   ],
   "source": [
    "df_messages.info()"
   ]
  },
  {
   "cell_type": "code",
   "execution_count": 207,
   "id": "4759ea18",
   "metadata": {},
   "outputs": [],
   "source": [
    "df_messages[\"message_date\"] = pd.to_datetime(df_messages[\"message_date\"],format=\"%Y-%m-%d\")"
   ]
  },
  {
   "cell_type": "code",
   "execution_count": 208,
   "id": "3ee05181",
   "metadata": {},
   "outputs": [
    {
     "data": {
      "text/plain": [
       "id                      object\n",
       "user_id                  int64\n",
       "message_date    datetime64[ns]\n",
       "dtype: object"
      ]
     },
     "execution_count": 208,
     "metadata": {},
     "output_type": "execute_result"
    }
   ],
   "source": [
    "df_messages.dtypes"
   ]
  },
  {
   "cell_type": "markdown",
   "id": "7042b1d7",
   "metadata": {},
   "source": [
    "## Plans"
   ]
  },
  {
   "cell_type": "code",
   "execution_count": 209,
   "id": "1227e41c",
   "metadata": {},
   "outputs": [
    {
     "data": {
      "text/html": [
       "<div>\n",
       "<style scoped>\n",
       "    .dataframe tbody tr th:only-of-type {\n",
       "        vertical-align: middle;\n",
       "    }\n",
       "\n",
       "    .dataframe tbody tr th {\n",
       "        vertical-align: top;\n",
       "    }\n",
       "\n",
       "    .dataframe thead th {\n",
       "        text-align: right;\n",
       "    }\n",
       "</style>\n",
       "<table border=\"1\" class=\"dataframe\">\n",
       "  <thead>\n",
       "    <tr style=\"text-align: right;\">\n",
       "      <th></th>\n",
       "      <th>messages_included</th>\n",
       "      <th>mb_per_month_included</th>\n",
       "      <th>minutes_included</th>\n",
       "      <th>usd_monthly_pay</th>\n",
       "      <th>usd_per_gb</th>\n",
       "      <th>usd_per_message</th>\n",
       "      <th>usd_per_minute</th>\n",
       "      <th>plan_name</th>\n",
       "    </tr>\n",
       "  </thead>\n",
       "  <tbody>\n",
       "    <tr>\n",
       "      <th>0</th>\n",
       "      <td>50</td>\n",
       "      <td>15360</td>\n",
       "      <td>500</td>\n",
       "      <td>20</td>\n",
       "      <td>10</td>\n",
       "      <td>0.03</td>\n",
       "      <td>0.03</td>\n",
       "      <td>surf</td>\n",
       "    </tr>\n",
       "    <tr>\n",
       "      <th>1</th>\n",
       "      <td>1000</td>\n",
       "      <td>30720</td>\n",
       "      <td>3000</td>\n",
       "      <td>70</td>\n",
       "      <td>7</td>\n",
       "      <td>0.01</td>\n",
       "      <td>0.01</td>\n",
       "      <td>ultimate</td>\n",
       "    </tr>\n",
       "  </tbody>\n",
       "</table>\n",
       "</div>"
      ],
      "text/plain": [
       "   messages_included  mb_per_month_included  minutes_included  \\\n",
       "0                 50                  15360               500   \n",
       "1               1000                  30720              3000   \n",
       "\n",
       "   usd_monthly_pay  usd_per_gb  usd_per_message  usd_per_minute plan_name  \n",
       "0               20          10             0.03            0.03      surf  \n",
       "1               70           7             0.01            0.01  ultimate  "
      ]
     },
     "execution_count": 209,
     "metadata": {},
     "output_type": "execute_result"
    }
   ],
   "source": [
    "df_plans.head()"
   ]
  },
  {
   "cell_type": "markdown",
   "id": "17ab3495",
   "metadata": {},
   "source": [
    "## Users behavior:"
   ]
  },
  {
   "cell_type": "markdown",
   "id": "4e0b8450",
   "metadata": {},
   "source": [
    "For each user,we find:\n",
    "\n",
    "    The number of calls made and minutes used per month\n",
    "    The number of text messages sent per month\n",
    "    The volume of data per month\n",
    "    The monthly revenue from each user (subtract the free package limit from the total number of calls, text messages, and data; multiply the result by the calling plan value; add the monthly charge depending on the calling plan)"
   ]
  },
  {
   "cell_type": "markdown",
   "id": "bb329018",
   "metadata": {},
   "source": [
    "### to answer the first paragraphs, i will add \"month\" column:"
   ]
  },
  {
   "cell_type": "code",
   "execution_count": 210,
   "id": "6079aa9c",
   "metadata": {},
   "outputs": [],
   "source": [
    "df_calls[\"month\"] = pd.DatetimeIndex(df_calls[\"call_date\"]).month"
   ]
  },
  {
   "cell_type": "code",
   "execution_count": 211,
   "id": "7819f60f",
   "metadata": {},
   "outputs": [],
   "source": [
    "df_internet[\"month\"] = pd.DatetimeIndex(df_internet[\"session_date\"]).month"
   ]
  },
  {
   "cell_type": "code",
   "execution_count": 212,
   "id": "e811042b",
   "metadata": {},
   "outputs": [],
   "source": [
    "df_messages[\"month\"] = pd.DatetimeIndex(df_messages[\"message_date\"]).month"
   ]
  },
  {
   "cell_type": "markdown",
   "id": "a7afbf70",
   "metadata": {},
   "source": [
    "### The number of calls made and minutes used per month"
   ]
  },
  {
   "cell_type": "markdown",
   "id": "61d0b7ca",
   "metadata": {},
   "source": [
    "#### lets check first that all our values are from 2018:"
   ]
  },
  {
   "cell_type": "code",
   "execution_count": 213,
   "id": "ec65028c",
   "metadata": {},
   "outputs": [
    {
     "name": "stdout",
     "output_type": "stream",
     "text": [
      "begin: 2018-01-15 00:00:00 end: 2018-12-31 00:00:00\n"
     ]
    }
   ],
   "source": [
    "print(\"begin:\",min(df_calls['call_date']),\"end:\",max(df_calls['call_date']))"
   ]
  },
  {
   "cell_type": "markdown",
   "id": "f2cf2f77",
   "metadata": {},
   "source": [
    "<div class=\"alert alert-block alert-success\">\n",
    "<b>Reviewer's comment v1:</b>\n",
    "    \n",
    "It is very helpful to check whether we indeed have data for one year only. If not then selecting and aggregating data by the month number will cause an issue. \n",
    "</div>"
   ]
  },
  {
   "cell_type": "code",
   "execution_count": 214,
   "id": "7e6668b8",
   "metadata": {},
   "outputs": [
    {
     "data": {
      "text/html": [
       "<div>\n",
       "<style scoped>\n",
       "    .dataframe tbody tr th:only-of-type {\n",
       "        vertical-align: middle;\n",
       "    }\n",
       "\n",
       "    .dataframe tbody tr th {\n",
       "        vertical-align: top;\n",
       "    }\n",
       "\n",
       "    .dataframe thead th {\n",
       "        text-align: right;\n",
       "    }\n",
       "</style>\n",
       "<table border=\"1\" class=\"dataframe\">\n",
       "  <thead>\n",
       "    <tr style=\"text-align: right;\">\n",
       "      <th></th>\n",
       "      <th>user_id</th>\n",
       "      <th>month</th>\n",
       "      <th>number of calls per month</th>\n",
       "      <th>minutes per month</th>\n",
       "    </tr>\n",
       "  </thead>\n",
       "  <tbody>\n",
       "    <tr>\n",
       "      <th>0</th>\n",
       "      <td>1000</td>\n",
       "      <td>12</td>\n",
       "      <td>16</td>\n",
       "      <td>124</td>\n",
       "    </tr>\n",
       "    <tr>\n",
       "      <th>1</th>\n",
       "      <td>1001</td>\n",
       "      <td>8</td>\n",
       "      <td>22</td>\n",
       "      <td>182</td>\n",
       "    </tr>\n",
       "    <tr>\n",
       "      <th>2</th>\n",
       "      <td>1001</td>\n",
       "      <td>9</td>\n",
       "      <td>38</td>\n",
       "      <td>315</td>\n",
       "    </tr>\n",
       "    <tr>\n",
       "      <th>3</th>\n",
       "      <td>1001</td>\n",
       "      <td>10</td>\n",
       "      <td>47</td>\n",
       "      <td>393</td>\n",
       "    </tr>\n",
       "    <tr>\n",
       "      <th>4</th>\n",
       "      <td>1001</td>\n",
       "      <td>11</td>\n",
       "      <td>49</td>\n",
       "      <td>426</td>\n",
       "    </tr>\n",
       "    <tr>\n",
       "      <th>...</th>\n",
       "      <td>...</td>\n",
       "      <td>...</td>\n",
       "      <td>...</td>\n",
       "      <td>...</td>\n",
       "    </tr>\n",
       "    <tr>\n",
       "      <th>2251</th>\n",
       "      <td>1498</td>\n",
       "      <td>12</td>\n",
       "      <td>32</td>\n",
       "      <td>339</td>\n",
       "    </tr>\n",
       "    <tr>\n",
       "      <th>2252</th>\n",
       "      <td>1499</td>\n",
       "      <td>9</td>\n",
       "      <td>35</td>\n",
       "      <td>346</td>\n",
       "    </tr>\n",
       "    <tr>\n",
       "      <th>2253</th>\n",
       "      <td>1499</td>\n",
       "      <td>10</td>\n",
       "      <td>41</td>\n",
       "      <td>385</td>\n",
       "    </tr>\n",
       "    <tr>\n",
       "      <th>2254</th>\n",
       "      <td>1499</td>\n",
       "      <td>11</td>\n",
       "      <td>39</td>\n",
       "      <td>308</td>\n",
       "    </tr>\n",
       "    <tr>\n",
       "      <th>2255</th>\n",
       "      <td>1499</td>\n",
       "      <td>12</td>\n",
       "      <td>56</td>\n",
       "      <td>496</td>\n",
       "    </tr>\n",
       "  </tbody>\n",
       "</table>\n",
       "<p>2256 rows × 4 columns</p>\n",
       "</div>"
      ],
      "text/plain": [
       "      user_id  month  number of calls per month  minutes per month\n",
       "0        1000     12                         16                124\n",
       "1        1001      8                         22                182\n",
       "2        1001      9                         38                315\n",
       "3        1001     10                         47                393\n",
       "4        1001     11                         49                426\n",
       "...       ...    ...                        ...                ...\n",
       "2251     1498     12                         32                339\n",
       "2252     1499      9                         35                346\n",
       "2253     1499     10                         41                385\n",
       "2254     1499     11                         39                308\n",
       "2255     1499     12                         56                496\n",
       "\n",
       "[2256 rows x 4 columns]"
      ]
     },
     "execution_count": 214,
     "metadata": {},
     "output_type": "execute_result"
    }
   ],
   "source": [
    "x = df_calls.groupby(by=[\"user_id\",\"month\"]).agg({\"duration_round\":[\"count\",\"sum\"]})\n",
    "x.columns = x.columns.droplevel(0)\n",
    "x.columns=[\"number of calls per month\",\"minutes per month\"]\n",
    "x.reset_index(inplace=True)  \n",
    "x"
   ]
  },
  {
   "cell_type": "code",
   "execution_count": 215,
   "id": "0103a4e6",
   "metadata": {},
   "outputs": [
    {
     "data": {
      "text/html": [
       "<div>\n",
       "<style scoped>\n",
       "    .dataframe tbody tr th:only-of-type {\n",
       "        vertical-align: middle;\n",
       "    }\n",
       "\n",
       "    .dataframe tbody tr th {\n",
       "        vertical-align: top;\n",
       "    }\n",
       "\n",
       "    .dataframe thead th {\n",
       "        text-align: right;\n",
       "    }\n",
       "</style>\n",
       "<table border=\"1\" class=\"dataframe\">\n",
       "  <thead>\n",
       "    <tr style=\"text-align: right;\">\n",
       "      <th></th>\n",
       "      <th>user_id</th>\n",
       "      <th>month</th>\n",
       "      <th>messages per month</th>\n",
       "    </tr>\n",
       "  </thead>\n",
       "  <tbody>\n",
       "    <tr>\n",
       "      <th>0</th>\n",
       "      <td>1000</td>\n",
       "      <td>12</td>\n",
       "      <td>11</td>\n",
       "    </tr>\n",
       "    <tr>\n",
       "      <th>1</th>\n",
       "      <td>1001</td>\n",
       "      <td>8</td>\n",
       "      <td>30</td>\n",
       "    </tr>\n",
       "    <tr>\n",
       "      <th>2</th>\n",
       "      <td>1001</td>\n",
       "      <td>9</td>\n",
       "      <td>44</td>\n",
       "    </tr>\n",
       "    <tr>\n",
       "      <th>3</th>\n",
       "      <td>1001</td>\n",
       "      <td>10</td>\n",
       "      <td>53</td>\n",
       "    </tr>\n",
       "    <tr>\n",
       "      <th>4</th>\n",
       "      <td>1001</td>\n",
       "      <td>11</td>\n",
       "      <td>36</td>\n",
       "    </tr>\n",
       "    <tr>\n",
       "      <th>...</th>\n",
       "      <td>...</td>\n",
       "      <td>...</td>\n",
       "      <td>...</td>\n",
       "    </tr>\n",
       "    <tr>\n",
       "      <th>1801</th>\n",
       "      <td>1496</td>\n",
       "      <td>9</td>\n",
       "      <td>21</td>\n",
       "    </tr>\n",
       "    <tr>\n",
       "      <th>1802</th>\n",
       "      <td>1496</td>\n",
       "      <td>10</td>\n",
       "      <td>18</td>\n",
       "    </tr>\n",
       "    <tr>\n",
       "      <th>1803</th>\n",
       "      <td>1496</td>\n",
       "      <td>11</td>\n",
       "      <td>13</td>\n",
       "    </tr>\n",
       "    <tr>\n",
       "      <th>1804</th>\n",
       "      <td>1496</td>\n",
       "      <td>12</td>\n",
       "      <td>11</td>\n",
       "    </tr>\n",
       "    <tr>\n",
       "      <th>1805</th>\n",
       "      <td>1497</td>\n",
       "      <td>12</td>\n",
       "      <td>50</td>\n",
       "    </tr>\n",
       "  </tbody>\n",
       "</table>\n",
       "<p>1806 rows × 3 columns</p>\n",
       "</div>"
      ],
      "text/plain": [
       "      user_id  month  messages per month\n",
       "0        1000     12                  11\n",
       "1        1001      8                  30\n",
       "2        1001      9                  44\n",
       "3        1001     10                  53\n",
       "4        1001     11                  36\n",
       "...       ...    ...                 ...\n",
       "1801     1496      9                  21\n",
       "1802     1496     10                  18\n",
       "1803     1496     11                  13\n",
       "1804     1496     12                  11\n",
       "1805     1497     12                  50\n",
       "\n",
       "[1806 rows x 3 columns]"
      ]
     },
     "execution_count": 215,
     "metadata": {},
     "output_type": "execute_result"
    }
   ],
   "source": [
    "y = df_messages.groupby(by=[\"user_id\",\"month\"]).agg({\"id\":[\"count\"]})\n",
    "y.columns = y.columns.droplevel(0)\n",
    "y.columns=[\"messages per month\"]\n",
    "y.reset_index(inplace=True)  \n",
    "y"
   ]
  },
  {
   "cell_type": "code",
   "execution_count": 216,
   "id": "5f99ea3a",
   "metadata": {},
   "outputs": [
    {
     "data": {
      "text/html": [
       "<div>\n",
       "<style scoped>\n",
       "    .dataframe tbody tr th:only-of-type {\n",
       "        vertical-align: middle;\n",
       "    }\n",
       "\n",
       "    .dataframe tbody tr th {\n",
       "        vertical-align: top;\n",
       "    }\n",
       "\n",
       "    .dataframe thead th {\n",
       "        text-align: right;\n",
       "    }\n",
       "</style>\n",
       "<table border=\"1\" class=\"dataframe\">\n",
       "  <thead>\n",
       "    <tr style=\"text-align: right;\">\n",
       "      <th></th>\n",
       "      <th>user_id</th>\n",
       "      <th>month</th>\n",
       "      <th>data used per month</th>\n",
       "      <th>data_per_month_GB</th>\n",
       "      <th>data_used_per_month_round</th>\n",
       "    </tr>\n",
       "  </thead>\n",
       "  <tbody>\n",
       "    <tr>\n",
       "      <th>0</th>\n",
       "      <td>1000</td>\n",
       "      <td>12</td>\n",
       "      <td>1901.47</td>\n",
       "      <td>1.90147</td>\n",
       "      <td>2.0</td>\n",
       "    </tr>\n",
       "    <tr>\n",
       "      <th>1</th>\n",
       "      <td>1001</td>\n",
       "      <td>8</td>\n",
       "      <td>6919.15</td>\n",
       "      <td>6.91915</td>\n",
       "      <td>7.0</td>\n",
       "    </tr>\n",
       "    <tr>\n",
       "      <th>2</th>\n",
       "      <td>1001</td>\n",
       "      <td>9</td>\n",
       "      <td>13314.82</td>\n",
       "      <td>13.31482</td>\n",
       "      <td>14.0</td>\n",
       "    </tr>\n",
       "    <tr>\n",
       "      <th>3</th>\n",
       "      <td>1001</td>\n",
       "      <td>10</td>\n",
       "      <td>22330.49</td>\n",
       "      <td>22.33049</td>\n",
       "      <td>23.0</td>\n",
       "    </tr>\n",
       "    <tr>\n",
       "      <th>4</th>\n",
       "      <td>1001</td>\n",
       "      <td>11</td>\n",
       "      <td>18504.30</td>\n",
       "      <td>18.50430</td>\n",
       "      <td>19.0</td>\n",
       "    </tr>\n",
       "    <tr>\n",
       "      <th>...</th>\n",
       "      <td>...</td>\n",
       "      <td>...</td>\n",
       "      <td>...</td>\n",
       "      <td>...</td>\n",
       "      <td>...</td>\n",
       "    </tr>\n",
       "    <tr>\n",
       "      <th>2272</th>\n",
       "      <td>1498</td>\n",
       "      <td>12</td>\n",
       "      <td>23137.69</td>\n",
       "      <td>23.13769</td>\n",
       "      <td>24.0</td>\n",
       "    </tr>\n",
       "    <tr>\n",
       "      <th>2273</th>\n",
       "      <td>1499</td>\n",
       "      <td>9</td>\n",
       "      <td>12984.76</td>\n",
       "      <td>12.98476</td>\n",
       "      <td>13.0</td>\n",
       "    </tr>\n",
       "    <tr>\n",
       "      <th>2274</th>\n",
       "      <td>1499</td>\n",
       "      <td>10</td>\n",
       "      <td>19492.43</td>\n",
       "      <td>19.49243</td>\n",
       "      <td>20.0</td>\n",
       "    </tr>\n",
       "    <tr>\n",
       "      <th>2275</th>\n",
       "      <td>1499</td>\n",
       "      <td>11</td>\n",
       "      <td>16813.83</td>\n",
       "      <td>16.81383</td>\n",
       "      <td>17.0</td>\n",
       "    </tr>\n",
       "    <tr>\n",
       "      <th>2276</th>\n",
       "      <td>1499</td>\n",
       "      <td>12</td>\n",
       "      <td>22059.21</td>\n",
       "      <td>22.05921</td>\n",
       "      <td>23.0</td>\n",
       "    </tr>\n",
       "  </tbody>\n",
       "</table>\n",
       "<p>2277 rows × 5 columns</p>\n",
       "</div>"
      ],
      "text/plain": [
       "      user_id  month  data used per month  data_per_month_GB  \\\n",
       "0        1000     12              1901.47            1.90147   \n",
       "1        1001      8              6919.15            6.91915   \n",
       "2        1001      9             13314.82           13.31482   \n",
       "3        1001     10             22330.49           22.33049   \n",
       "4        1001     11             18504.30           18.50430   \n",
       "...       ...    ...                  ...                ...   \n",
       "2272     1498     12             23137.69           23.13769   \n",
       "2273     1499      9             12984.76           12.98476   \n",
       "2274     1499     10             19492.43           19.49243   \n",
       "2275     1499     11             16813.83           16.81383   \n",
       "2276     1499     12             22059.21           22.05921   \n",
       "\n",
       "      data_used_per_month_round  \n",
       "0                           2.0  \n",
       "1                           7.0  \n",
       "2                          14.0  \n",
       "3                          23.0  \n",
       "4                          19.0  \n",
       "...                         ...  \n",
       "2272                       24.0  \n",
       "2273                       13.0  \n",
       "2274                       20.0  \n",
       "2275                       17.0  \n",
       "2276                       23.0  \n",
       "\n",
       "[2277 rows x 5 columns]"
      ]
     },
     "execution_count": 216,
     "metadata": {},
     "output_type": "execute_result"
    }
   ],
   "source": [
    "z = df_internet.groupby(by=[\"user_id\",\"month\"]).agg({\"mb_used\":[\"sum\"]})\n",
    "z.columns = z.columns.droplevel(0)\n",
    "z.columns=[\"data used per month\"]\n",
    "# here i have added converting to GB:\n",
    "z[\"data_per_month_GB\"] = z[\"data used per month\"]/1000\n",
    "z.reset_index(inplace=True)  \n",
    "# the round of the data is per month, so we will add a column:\n",
    "z[\"data_used_per_month_round\"] = np.ceil(z[\"data_per_month_GB\"])\n",
    "z"
   ]
  },
  {
   "cell_type": "markdown",
   "id": "2234b030",
   "metadata": {},
   "source": [
    "<div class=\"alert alert-danger\">\n",
    "<b>Reviewer's comment v1:</b>\n",
    "    \n",
    "This is not mentioned clearly in the project description, but it wil be more convenient to convert first mb to gb and after that round to the next value, so then we have int values to calculate revenue.\n",
    "\n",
    "</div>"
   ]
  },
  {
   "cell_type": "markdown",
   "id": "ef74c4e4",
   "metadata": {},
   "source": [
    "<div class=\"alert alert-info\"> <b>thank you! corrected.</b></div>  "
   ]
  },
  {
   "cell_type": "markdown",
   "id": "4b8342ad",
   "metadata": {},
   "source": [
    "### now, to get the full data per month in one dataframe, we would merge all this x,y,z tables.\n",
    "### because there are people which did messages but not calls and vice versa, we will do \"outer join\":\n",
    "### first merge x and y:"
   ]
  },
  {
   "cell_type": "code",
   "execution_count": 217,
   "id": "40f579ef",
   "metadata": {},
   "outputs": [
    {
     "data": {
      "text/html": [
       "<div>\n",
       "<style scoped>\n",
       "    .dataframe tbody tr th:only-of-type {\n",
       "        vertical-align: middle;\n",
       "    }\n",
       "\n",
       "    .dataframe tbody tr th {\n",
       "        vertical-align: top;\n",
       "    }\n",
       "\n",
       "    .dataframe thead th {\n",
       "        text-align: right;\n",
       "    }\n",
       "</style>\n",
       "<table border=\"1\" class=\"dataframe\">\n",
       "  <thead>\n",
       "    <tr style=\"text-align: right;\">\n",
       "      <th></th>\n",
       "      <th>user_id</th>\n",
       "      <th>month</th>\n",
       "      <th>number of calls per month</th>\n",
       "      <th>minutes per month</th>\n",
       "      <th>messages per month</th>\n",
       "    </tr>\n",
       "  </thead>\n",
       "  <tbody>\n",
       "    <tr>\n",
       "      <th>0</th>\n",
       "      <td>1000</td>\n",
       "      <td>12</td>\n",
       "      <td>16.0</td>\n",
       "      <td>124.0</td>\n",
       "      <td>11.0</td>\n",
       "    </tr>\n",
       "    <tr>\n",
       "      <th>1</th>\n",
       "      <td>1001</td>\n",
       "      <td>8</td>\n",
       "      <td>22.0</td>\n",
       "      <td>182.0</td>\n",
       "      <td>30.0</td>\n",
       "    </tr>\n",
       "    <tr>\n",
       "      <th>2</th>\n",
       "      <td>1001</td>\n",
       "      <td>9</td>\n",
       "      <td>38.0</td>\n",
       "      <td>315.0</td>\n",
       "      <td>44.0</td>\n",
       "    </tr>\n",
       "    <tr>\n",
       "      <th>3</th>\n",
       "      <td>1001</td>\n",
       "      <td>10</td>\n",
       "      <td>47.0</td>\n",
       "      <td>393.0</td>\n",
       "      <td>53.0</td>\n",
       "    </tr>\n",
       "    <tr>\n",
       "      <th>4</th>\n",
       "      <td>1001</td>\n",
       "      <td>11</td>\n",
       "      <td>49.0</td>\n",
       "      <td>426.0</td>\n",
       "      <td>36.0</td>\n",
       "    </tr>\n",
       "    <tr>\n",
       "      <th>...</th>\n",
       "      <td>...</td>\n",
       "      <td>...</td>\n",
       "      <td>...</td>\n",
       "      <td>...</td>\n",
       "      <td>...</td>\n",
       "    </tr>\n",
       "    <tr>\n",
       "      <th>2285</th>\n",
       "      <td>1349</td>\n",
       "      <td>11</td>\n",
       "      <td>NaN</td>\n",
       "      <td>NaN</td>\n",
       "      <td>72.0</td>\n",
       "    </tr>\n",
       "    <tr>\n",
       "      <th>2286</th>\n",
       "      <td>1349</td>\n",
       "      <td>12</td>\n",
       "      <td>NaN</td>\n",
       "      <td>NaN</td>\n",
       "      <td>61.0</td>\n",
       "    </tr>\n",
       "    <tr>\n",
       "      <th>2287</th>\n",
       "      <td>1361</td>\n",
       "      <td>5</td>\n",
       "      <td>NaN</td>\n",
       "      <td>NaN</td>\n",
       "      <td>2.0</td>\n",
       "    </tr>\n",
       "    <tr>\n",
       "      <th>2288</th>\n",
       "      <td>1407</td>\n",
       "      <td>11</td>\n",
       "      <td>NaN</td>\n",
       "      <td>NaN</td>\n",
       "      <td>1.0</td>\n",
       "    </tr>\n",
       "    <tr>\n",
       "      <th>2289</th>\n",
       "      <td>1482</td>\n",
       "      <td>10</td>\n",
       "      <td>NaN</td>\n",
       "      <td>NaN</td>\n",
       "      <td>2.0</td>\n",
       "    </tr>\n",
       "  </tbody>\n",
       "</table>\n",
       "<p>2290 rows × 5 columns</p>\n",
       "</div>"
      ],
      "text/plain": [
       "      user_id  month  number of calls per month  minutes per month  \\\n",
       "0        1000     12                       16.0              124.0   \n",
       "1        1001      8                       22.0              182.0   \n",
       "2        1001      9                       38.0              315.0   \n",
       "3        1001     10                       47.0              393.0   \n",
       "4        1001     11                       49.0              426.0   \n",
       "...       ...    ...                        ...                ...   \n",
       "2285     1349     11                        NaN                NaN   \n",
       "2286     1349     12                        NaN                NaN   \n",
       "2287     1361      5                        NaN                NaN   \n",
       "2288     1407     11                        NaN                NaN   \n",
       "2289     1482     10                        NaN                NaN   \n",
       "\n",
       "      messages per month  \n",
       "0                   11.0  \n",
       "1                   30.0  \n",
       "2                   44.0  \n",
       "3                   53.0  \n",
       "4                   36.0  \n",
       "...                  ...  \n",
       "2285                72.0  \n",
       "2286                61.0  \n",
       "2287                 2.0  \n",
       "2288                 1.0  \n",
       "2289                 2.0  \n",
       "\n",
       "[2290 rows x 5 columns]"
      ]
     },
     "execution_count": 217,
     "metadata": {},
     "output_type": "execute_result"
    }
   ],
   "source": [
    "calls_messages = pd.merge(x, y, left_on=[\"user_id\",\"month\"],right_on=[\"user_id\",\"month\"],how='outer')\n",
    "calls_messages"
   ]
  },
  {
   "cell_type": "markdown",
   "id": "74e5107d",
   "metadata": {},
   "source": [
    "### when we merge z, we will use only the \"rounded\" data:"
   ]
  },
  {
   "cell_type": "code",
   "execution_count": 218,
   "id": "a4f39a64",
   "metadata": {},
   "outputs": [
    {
     "data": {
      "text/html": [
       "<div>\n",
       "<style scoped>\n",
       "    .dataframe tbody tr th:only-of-type {\n",
       "        vertical-align: middle;\n",
       "    }\n",
       "\n",
       "    .dataframe tbody tr th {\n",
       "        vertical-align: top;\n",
       "    }\n",
       "\n",
       "    .dataframe thead th {\n",
       "        text-align: right;\n",
       "    }\n",
       "</style>\n",
       "<table border=\"1\" class=\"dataframe\">\n",
       "  <thead>\n",
       "    <tr style=\"text-align: right;\">\n",
       "      <th></th>\n",
       "      <th>user_id</th>\n",
       "      <th>month</th>\n",
       "      <th>number of calls per month</th>\n",
       "      <th>minutes per month</th>\n",
       "      <th>messages per month</th>\n",
       "      <th>data_used_per_month_round</th>\n",
       "    </tr>\n",
       "  </thead>\n",
       "  <tbody>\n",
       "    <tr>\n",
       "      <th>0</th>\n",
       "      <td>1000</td>\n",
       "      <td>12</td>\n",
       "      <td>16.0</td>\n",
       "      <td>124.0</td>\n",
       "      <td>11.0</td>\n",
       "      <td>2.0</td>\n",
       "    </tr>\n",
       "    <tr>\n",
       "      <th>1</th>\n",
       "      <td>1001</td>\n",
       "      <td>8</td>\n",
       "      <td>22.0</td>\n",
       "      <td>182.0</td>\n",
       "      <td>30.0</td>\n",
       "      <td>7.0</td>\n",
       "    </tr>\n",
       "    <tr>\n",
       "      <th>2</th>\n",
       "      <td>1001</td>\n",
       "      <td>9</td>\n",
       "      <td>38.0</td>\n",
       "      <td>315.0</td>\n",
       "      <td>44.0</td>\n",
       "      <td>14.0</td>\n",
       "    </tr>\n",
       "    <tr>\n",
       "      <th>3</th>\n",
       "      <td>1001</td>\n",
       "      <td>10</td>\n",
       "      <td>47.0</td>\n",
       "      <td>393.0</td>\n",
       "      <td>53.0</td>\n",
       "      <td>23.0</td>\n",
       "    </tr>\n",
       "    <tr>\n",
       "      <th>4</th>\n",
       "      <td>1001</td>\n",
       "      <td>11</td>\n",
       "      <td>49.0</td>\n",
       "      <td>426.0</td>\n",
       "      <td>36.0</td>\n",
       "      <td>19.0</td>\n",
       "    </tr>\n",
       "    <tr>\n",
       "      <th>...</th>\n",
       "      <td>...</td>\n",
       "      <td>...</td>\n",
       "      <td>...</td>\n",
       "      <td>...</td>\n",
       "      <td>...</td>\n",
       "      <td>...</td>\n",
       "    </tr>\n",
       "    <tr>\n",
       "      <th>2288</th>\n",
       "      <td>1407</td>\n",
       "      <td>11</td>\n",
       "      <td>NaN</td>\n",
       "      <td>NaN</td>\n",
       "      <td>1.0</td>\n",
       "      <td>1.0</td>\n",
       "    </tr>\n",
       "    <tr>\n",
       "      <th>2289</th>\n",
       "      <td>1482</td>\n",
       "      <td>10</td>\n",
       "      <td>NaN</td>\n",
       "      <td>NaN</td>\n",
       "      <td>2.0</td>\n",
       "      <td>NaN</td>\n",
       "    </tr>\n",
       "    <tr>\n",
       "      <th>2290</th>\n",
       "      <td>1094</td>\n",
       "      <td>10</td>\n",
       "      <td>NaN</td>\n",
       "      <td>NaN</td>\n",
       "      <td>NaN</td>\n",
       "      <td>2.0</td>\n",
       "    </tr>\n",
       "    <tr>\n",
       "      <th>2291</th>\n",
       "      <td>1108</td>\n",
       "      <td>12</td>\n",
       "      <td>NaN</td>\n",
       "      <td>NaN</td>\n",
       "      <td>NaN</td>\n",
       "      <td>1.0</td>\n",
       "    </tr>\n",
       "    <tr>\n",
       "      <th>2292</th>\n",
       "      <td>1311</td>\n",
       "      <td>6</td>\n",
       "      <td>NaN</td>\n",
       "      <td>NaN</td>\n",
       "      <td>NaN</td>\n",
       "      <td>2.0</td>\n",
       "    </tr>\n",
       "  </tbody>\n",
       "</table>\n",
       "<p>2293 rows × 6 columns</p>\n",
       "</div>"
      ],
      "text/plain": [
       "      user_id  month  number of calls per month  minutes per month  \\\n",
       "0        1000     12                       16.0              124.0   \n",
       "1        1001      8                       22.0              182.0   \n",
       "2        1001      9                       38.0              315.0   \n",
       "3        1001     10                       47.0              393.0   \n",
       "4        1001     11                       49.0              426.0   \n",
       "...       ...    ...                        ...                ...   \n",
       "2288     1407     11                        NaN                NaN   \n",
       "2289     1482     10                        NaN                NaN   \n",
       "2290     1094     10                        NaN                NaN   \n",
       "2291     1108     12                        NaN                NaN   \n",
       "2292     1311      6                        NaN                NaN   \n",
       "\n",
       "      messages per month  data_used_per_month_round  \n",
       "0                   11.0                        2.0  \n",
       "1                   30.0                        7.0  \n",
       "2                   44.0                       14.0  \n",
       "3                   53.0                       23.0  \n",
       "4                   36.0                       19.0  \n",
       "...                  ...                        ...  \n",
       "2288                 1.0                        1.0  \n",
       "2289                 2.0                        NaN  \n",
       "2290                 NaN                        2.0  \n",
       "2291                 NaN                        1.0  \n",
       "2292                 NaN                        2.0  \n",
       "\n",
       "[2293 rows x 6 columns]"
      ]
     },
     "execution_count": 218,
     "metadata": {},
     "output_type": "execute_result"
    }
   ],
   "source": [
    "data_per_user = pd.merge(calls_messages, z.loc[:,[\"user_id\",\"month\",\"data_used_per_month_round\"]], left_on=[\"user_id\",\"month\"],right_on=[\"user_id\",\"month\"],how='outer')\n",
    "data_per_user"
   ]
  },
  {
   "cell_type": "markdown",
   "id": "d1dce972",
   "metadata": {},
   "source": [
    "### lets check how much nulls we have:"
   ]
  },
  {
   "cell_type": "code",
   "execution_count": 219,
   "id": "28550853",
   "metadata": {},
   "outputs": [
    {
     "data": {
      "text/plain": [
       "user_id                        0\n",
       "month                          0\n",
       "number of calls per month     37\n",
       "minutes per month             37\n",
       "messages per month           487\n",
       "data_used_per_month_round     16\n",
       "dtype: int64"
      ]
     },
     "execution_count": 219,
     "metadata": {},
     "output_type": "execute_result"
    }
   ],
   "source": [
    "data_per_user.isnull().sum()"
   ]
  },
  {
   "cell_type": "markdown",
   "id": "4e910c08",
   "metadata": {},
   "source": [
    "<div class=\"alert alert-block alert-success\">\n",
    "<b>Reviewer's comment v1:</b>\n",
    "    \n",
    "Great. how = 'outer' is fine here in order not to lose data.\n",
    "\n",
    "By the way, it is possible to group 3 tables at the same time using reduce. You can read it here:\n",
    "https://www.codegrepper.com/code-examples/python/merge+more+than+2+dataframes+in+pandas\n",
    "</div>"
   ]
  },
  {
   "cell_type": "markdown",
   "id": "1980655e",
   "metadata": {},
   "source": [
    "### all this nulls are of people which use some services, but not others. so we will replace them with 0:"
   ]
  },
  {
   "cell_type": "code",
   "execution_count": 220,
   "id": "d196c3c3",
   "metadata": {},
   "outputs": [
    {
     "data": {
      "text/html": [
       "<div>\n",
       "<style scoped>\n",
       "    .dataframe tbody tr th:only-of-type {\n",
       "        vertical-align: middle;\n",
       "    }\n",
       "\n",
       "    .dataframe tbody tr th {\n",
       "        vertical-align: top;\n",
       "    }\n",
       "\n",
       "    .dataframe thead th {\n",
       "        text-align: right;\n",
       "    }\n",
       "</style>\n",
       "<table border=\"1\" class=\"dataframe\">\n",
       "  <thead>\n",
       "    <tr style=\"text-align: right;\">\n",
       "      <th></th>\n",
       "      <th>user_id</th>\n",
       "      <th>month</th>\n",
       "      <th>number of calls per month</th>\n",
       "      <th>minutes per month</th>\n",
       "      <th>messages per month</th>\n",
       "      <th>data_used_per_month_round</th>\n",
       "    </tr>\n",
       "  </thead>\n",
       "  <tbody>\n",
       "    <tr>\n",
       "      <th>0</th>\n",
       "      <td>1000</td>\n",
       "      <td>12</td>\n",
       "      <td>16.0</td>\n",
       "      <td>124.0</td>\n",
       "      <td>11.0</td>\n",
       "      <td>2.0</td>\n",
       "    </tr>\n",
       "    <tr>\n",
       "      <th>1</th>\n",
       "      <td>1001</td>\n",
       "      <td>8</td>\n",
       "      <td>22.0</td>\n",
       "      <td>182.0</td>\n",
       "      <td>30.0</td>\n",
       "      <td>7.0</td>\n",
       "    </tr>\n",
       "    <tr>\n",
       "      <th>2</th>\n",
       "      <td>1001</td>\n",
       "      <td>9</td>\n",
       "      <td>38.0</td>\n",
       "      <td>315.0</td>\n",
       "      <td>44.0</td>\n",
       "      <td>14.0</td>\n",
       "    </tr>\n",
       "    <tr>\n",
       "      <th>3</th>\n",
       "      <td>1001</td>\n",
       "      <td>10</td>\n",
       "      <td>47.0</td>\n",
       "      <td>393.0</td>\n",
       "      <td>53.0</td>\n",
       "      <td>23.0</td>\n",
       "    </tr>\n",
       "    <tr>\n",
       "      <th>4</th>\n",
       "      <td>1001</td>\n",
       "      <td>11</td>\n",
       "      <td>49.0</td>\n",
       "      <td>426.0</td>\n",
       "      <td>36.0</td>\n",
       "      <td>19.0</td>\n",
       "    </tr>\n",
       "    <tr>\n",
       "      <th>...</th>\n",
       "      <td>...</td>\n",
       "      <td>...</td>\n",
       "      <td>...</td>\n",
       "      <td>...</td>\n",
       "      <td>...</td>\n",
       "      <td>...</td>\n",
       "    </tr>\n",
       "    <tr>\n",
       "      <th>2288</th>\n",
       "      <td>1407</td>\n",
       "      <td>11</td>\n",
       "      <td>0.0</td>\n",
       "      <td>0.0</td>\n",
       "      <td>1.0</td>\n",
       "      <td>1.0</td>\n",
       "    </tr>\n",
       "    <tr>\n",
       "      <th>2289</th>\n",
       "      <td>1482</td>\n",
       "      <td>10</td>\n",
       "      <td>0.0</td>\n",
       "      <td>0.0</td>\n",
       "      <td>2.0</td>\n",
       "      <td>0.0</td>\n",
       "    </tr>\n",
       "    <tr>\n",
       "      <th>2290</th>\n",
       "      <td>1094</td>\n",
       "      <td>10</td>\n",
       "      <td>0.0</td>\n",
       "      <td>0.0</td>\n",
       "      <td>0.0</td>\n",
       "      <td>2.0</td>\n",
       "    </tr>\n",
       "    <tr>\n",
       "      <th>2291</th>\n",
       "      <td>1108</td>\n",
       "      <td>12</td>\n",
       "      <td>0.0</td>\n",
       "      <td>0.0</td>\n",
       "      <td>0.0</td>\n",
       "      <td>1.0</td>\n",
       "    </tr>\n",
       "    <tr>\n",
       "      <th>2292</th>\n",
       "      <td>1311</td>\n",
       "      <td>6</td>\n",
       "      <td>0.0</td>\n",
       "      <td>0.0</td>\n",
       "      <td>0.0</td>\n",
       "      <td>2.0</td>\n",
       "    </tr>\n",
       "  </tbody>\n",
       "</table>\n",
       "<p>2293 rows × 6 columns</p>\n",
       "</div>"
      ],
      "text/plain": [
       "      user_id  month  number of calls per month  minutes per month  \\\n",
       "0        1000     12                       16.0              124.0   \n",
       "1        1001      8                       22.0              182.0   \n",
       "2        1001      9                       38.0              315.0   \n",
       "3        1001     10                       47.0              393.0   \n",
       "4        1001     11                       49.0              426.0   \n",
       "...       ...    ...                        ...                ...   \n",
       "2288     1407     11                        0.0                0.0   \n",
       "2289     1482     10                        0.0                0.0   \n",
       "2290     1094     10                        0.0                0.0   \n",
       "2291     1108     12                        0.0                0.0   \n",
       "2292     1311      6                        0.0                0.0   \n",
       "\n",
       "      messages per month  data_used_per_month_round  \n",
       "0                   11.0                        2.0  \n",
       "1                   30.0                        7.0  \n",
       "2                   44.0                       14.0  \n",
       "3                   53.0                       23.0  \n",
       "4                   36.0                       19.0  \n",
       "...                  ...                        ...  \n",
       "2288                 1.0                        1.0  \n",
       "2289                 2.0                        0.0  \n",
       "2290                 0.0                        2.0  \n",
       "2291                 0.0                        1.0  \n",
       "2292                 0.0                        2.0  \n",
       "\n",
       "[2293 rows x 6 columns]"
      ]
     },
     "execution_count": 220,
     "metadata": {},
     "output_type": "execute_result"
    }
   ],
   "source": [
    "data_per_user.fillna(0,inplace=True)\n",
    "data_per_user"
   ]
  },
  {
   "cell_type": "markdown",
   "id": "afcacdf7",
   "metadata": {},
   "source": [
    "### now we could add the plan to every user:"
   ]
  },
  {
   "cell_type": "code",
   "execution_count": 221,
   "id": "28888fec",
   "metadata": {},
   "outputs": [
    {
     "data": {
      "text/html": [
       "<div>\n",
       "<style scoped>\n",
       "    .dataframe tbody tr th:only-of-type {\n",
       "        vertical-align: middle;\n",
       "    }\n",
       "\n",
       "    .dataframe tbody tr th {\n",
       "        vertical-align: top;\n",
       "    }\n",
       "\n",
       "    .dataframe thead th {\n",
       "        text-align: right;\n",
       "    }\n",
       "</style>\n",
       "<table border=\"1\" class=\"dataframe\">\n",
       "  <thead>\n",
       "    <tr style=\"text-align: right;\">\n",
       "      <th></th>\n",
       "      <th>user_id</th>\n",
       "      <th>month</th>\n",
       "      <th>number of calls per month</th>\n",
       "      <th>minutes per month</th>\n",
       "      <th>messages per month</th>\n",
       "      <th>data_used_per_month_round</th>\n",
       "      <th>plan</th>\n",
       "    </tr>\n",
       "  </thead>\n",
       "  <tbody>\n",
       "    <tr>\n",
       "      <th>0</th>\n",
       "      <td>1000</td>\n",
       "      <td>12</td>\n",
       "      <td>16.0</td>\n",
       "      <td>124.0</td>\n",
       "      <td>11.0</td>\n",
       "      <td>2.0</td>\n",
       "      <td>ultimate</td>\n",
       "    </tr>\n",
       "    <tr>\n",
       "      <th>1</th>\n",
       "      <td>1001</td>\n",
       "      <td>8</td>\n",
       "      <td>22.0</td>\n",
       "      <td>182.0</td>\n",
       "      <td>30.0</td>\n",
       "      <td>7.0</td>\n",
       "      <td>surf</td>\n",
       "    </tr>\n",
       "    <tr>\n",
       "      <th>2</th>\n",
       "      <td>1001</td>\n",
       "      <td>9</td>\n",
       "      <td>38.0</td>\n",
       "      <td>315.0</td>\n",
       "      <td>44.0</td>\n",
       "      <td>14.0</td>\n",
       "      <td>surf</td>\n",
       "    </tr>\n",
       "    <tr>\n",
       "      <th>3</th>\n",
       "      <td>1001</td>\n",
       "      <td>10</td>\n",
       "      <td>47.0</td>\n",
       "      <td>393.0</td>\n",
       "      <td>53.0</td>\n",
       "      <td>23.0</td>\n",
       "      <td>surf</td>\n",
       "    </tr>\n",
       "    <tr>\n",
       "      <th>4</th>\n",
       "      <td>1001</td>\n",
       "      <td>11</td>\n",
       "      <td>49.0</td>\n",
       "      <td>426.0</td>\n",
       "      <td>36.0</td>\n",
       "      <td>19.0</td>\n",
       "      <td>surf</td>\n",
       "    </tr>\n",
       "    <tr>\n",
       "      <th>...</th>\n",
       "      <td>...</td>\n",
       "      <td>...</td>\n",
       "      <td>...</td>\n",
       "      <td>...</td>\n",
       "      <td>...</td>\n",
       "      <td>...</td>\n",
       "      <td>...</td>\n",
       "    </tr>\n",
       "    <tr>\n",
       "      <th>2288</th>\n",
       "      <td>1204</td>\n",
       "      <td>12</td>\n",
       "      <td>0.0</td>\n",
       "      <td>0.0</td>\n",
       "      <td>78.0</td>\n",
       "      <td>37.0</td>\n",
       "      <td>ultimate</td>\n",
       "    </tr>\n",
       "    <tr>\n",
       "      <th>2289</th>\n",
       "      <td>1349</td>\n",
       "      <td>10</td>\n",
       "      <td>0.0</td>\n",
       "      <td>0.0</td>\n",
       "      <td>76.0</td>\n",
       "      <td>14.0</td>\n",
       "      <td>surf</td>\n",
       "    </tr>\n",
       "    <tr>\n",
       "      <th>2290</th>\n",
       "      <td>1349</td>\n",
       "      <td>11</td>\n",
       "      <td>0.0</td>\n",
       "      <td>0.0</td>\n",
       "      <td>72.0</td>\n",
       "      <td>18.0</td>\n",
       "      <td>surf</td>\n",
       "    </tr>\n",
       "    <tr>\n",
       "      <th>2291</th>\n",
       "      <td>1349</td>\n",
       "      <td>12</td>\n",
       "      <td>0.0</td>\n",
       "      <td>0.0</td>\n",
       "      <td>61.0</td>\n",
       "      <td>14.0</td>\n",
       "      <td>surf</td>\n",
       "    </tr>\n",
       "    <tr>\n",
       "      <th>2292</th>\n",
       "      <td>1108</td>\n",
       "      <td>12</td>\n",
       "      <td>0.0</td>\n",
       "      <td>0.0</td>\n",
       "      <td>0.0</td>\n",
       "      <td>1.0</td>\n",
       "      <td>ultimate</td>\n",
       "    </tr>\n",
       "  </tbody>\n",
       "</table>\n",
       "<p>2293 rows × 7 columns</p>\n",
       "</div>"
      ],
      "text/plain": [
       "      user_id  month  number of calls per month  minutes per month  \\\n",
       "0        1000     12                       16.0              124.0   \n",
       "1        1001      8                       22.0              182.0   \n",
       "2        1001      9                       38.0              315.0   \n",
       "3        1001     10                       47.0              393.0   \n",
       "4        1001     11                       49.0              426.0   \n",
       "...       ...    ...                        ...                ...   \n",
       "2288     1204     12                        0.0                0.0   \n",
       "2289     1349     10                        0.0                0.0   \n",
       "2290     1349     11                        0.0                0.0   \n",
       "2291     1349     12                        0.0                0.0   \n",
       "2292     1108     12                        0.0                0.0   \n",
       "\n",
       "      messages per month  data_used_per_month_round      plan  \n",
       "0                   11.0                        2.0  ultimate  \n",
       "1                   30.0                        7.0      surf  \n",
       "2                   44.0                       14.0      surf  \n",
       "3                   53.0                       23.0      surf  \n",
       "4                   36.0                       19.0      surf  \n",
       "...                  ...                        ...       ...  \n",
       "2288                78.0                       37.0  ultimate  \n",
       "2289                76.0                       14.0      surf  \n",
       "2290                72.0                       18.0      surf  \n",
       "2291                61.0                       14.0      surf  \n",
       "2292                 0.0                        1.0  ultimate  \n",
       "\n",
       "[2293 rows x 7 columns]"
      ]
     },
     "execution_count": 221,
     "metadata": {},
     "output_type": "execute_result"
    }
   ],
   "source": [
    "data_per_user = pd.merge(data_per_user, df_users.loc[:,[\"user_id\",\"plan\"]], left_on=[\"user_id\"],right_on=[\"user_id\"])\n",
    "data_per_user"
   ]
  },
  {
   "cell_type": "code",
   "execution_count": 222,
   "id": "604c4994",
   "metadata": {},
   "outputs": [
    {
     "data": {
      "text/plain": [
       "user_id                      0\n",
       "month                        0\n",
       "number of calls per month    0\n",
       "minutes per month            0\n",
       "messages per month           0\n",
       "data_used_per_month_round    0\n",
       "plan                         0\n",
       "dtype: int64"
      ]
     },
     "execution_count": 222,
     "metadata": {},
     "output_type": "execute_result"
    }
   ],
   "source": [
    "# check that every user has a plsn in the dataset:\n",
    "data_per_user.isnull().sum()"
   ]
  },
  {
   "cell_type": "code",
   "execution_count": 223,
   "id": "3c0464df",
   "metadata": {},
   "outputs": [
    {
     "data": {
      "text/html": [
       "<div>\n",
       "<style scoped>\n",
       "    .dataframe tbody tr th:only-of-type {\n",
       "        vertical-align: middle;\n",
       "    }\n",
       "\n",
       "    .dataframe tbody tr th {\n",
       "        vertical-align: top;\n",
       "    }\n",
       "\n",
       "    .dataframe thead th {\n",
       "        text-align: right;\n",
       "    }\n",
       "</style>\n",
       "<table border=\"1\" class=\"dataframe\">\n",
       "  <thead>\n",
       "    <tr style=\"text-align: right;\">\n",
       "      <th></th>\n",
       "      <th>user_id</th>\n",
       "      <th>month</th>\n",
       "      <th>number of calls per month</th>\n",
       "      <th>minutes per month</th>\n",
       "      <th>messages per month</th>\n",
       "      <th>data_used_per_month_round</th>\n",
       "      <th>plan</th>\n",
       "    </tr>\n",
       "  </thead>\n",
       "  <tbody>\n",
       "    <tr>\n",
       "      <th>0</th>\n",
       "      <td>1000</td>\n",
       "      <td>12</td>\n",
       "      <td>16.0</td>\n",
       "      <td>124.0</td>\n",
       "      <td>11.0</td>\n",
       "      <td>2.0</td>\n",
       "      <td>1</td>\n",
       "    </tr>\n",
       "    <tr>\n",
       "      <th>1</th>\n",
       "      <td>1001</td>\n",
       "      <td>8</td>\n",
       "      <td>22.0</td>\n",
       "      <td>182.0</td>\n",
       "      <td>30.0</td>\n",
       "      <td>7.0</td>\n",
       "      <td>0</td>\n",
       "    </tr>\n",
       "    <tr>\n",
       "      <th>2</th>\n",
       "      <td>1001</td>\n",
       "      <td>9</td>\n",
       "      <td>38.0</td>\n",
       "      <td>315.0</td>\n",
       "      <td>44.0</td>\n",
       "      <td>14.0</td>\n",
       "      <td>0</td>\n",
       "    </tr>\n",
       "    <tr>\n",
       "      <th>3</th>\n",
       "      <td>1001</td>\n",
       "      <td>10</td>\n",
       "      <td>47.0</td>\n",
       "      <td>393.0</td>\n",
       "      <td>53.0</td>\n",
       "      <td>23.0</td>\n",
       "      <td>0</td>\n",
       "    </tr>\n",
       "    <tr>\n",
       "      <th>4</th>\n",
       "      <td>1001</td>\n",
       "      <td>11</td>\n",
       "      <td>49.0</td>\n",
       "      <td>426.0</td>\n",
       "      <td>36.0</td>\n",
       "      <td>19.0</td>\n",
       "      <td>0</td>\n",
       "    </tr>\n",
       "    <tr>\n",
       "      <th>...</th>\n",
       "      <td>...</td>\n",
       "      <td>...</td>\n",
       "      <td>...</td>\n",
       "      <td>...</td>\n",
       "      <td>...</td>\n",
       "      <td>...</td>\n",
       "      <td>...</td>\n",
       "    </tr>\n",
       "    <tr>\n",
       "      <th>2288</th>\n",
       "      <td>1204</td>\n",
       "      <td>12</td>\n",
       "      <td>0.0</td>\n",
       "      <td>0.0</td>\n",
       "      <td>78.0</td>\n",
       "      <td>37.0</td>\n",
       "      <td>1</td>\n",
       "    </tr>\n",
       "    <tr>\n",
       "      <th>2289</th>\n",
       "      <td>1349</td>\n",
       "      <td>10</td>\n",
       "      <td>0.0</td>\n",
       "      <td>0.0</td>\n",
       "      <td>76.0</td>\n",
       "      <td>14.0</td>\n",
       "      <td>0</td>\n",
       "    </tr>\n",
       "    <tr>\n",
       "      <th>2290</th>\n",
       "      <td>1349</td>\n",
       "      <td>11</td>\n",
       "      <td>0.0</td>\n",
       "      <td>0.0</td>\n",
       "      <td>72.0</td>\n",
       "      <td>18.0</td>\n",
       "      <td>0</td>\n",
       "    </tr>\n",
       "    <tr>\n",
       "      <th>2291</th>\n",
       "      <td>1349</td>\n",
       "      <td>12</td>\n",
       "      <td>0.0</td>\n",
       "      <td>0.0</td>\n",
       "      <td>61.0</td>\n",
       "      <td>14.0</td>\n",
       "      <td>0</td>\n",
       "    </tr>\n",
       "    <tr>\n",
       "      <th>2292</th>\n",
       "      <td>1108</td>\n",
       "      <td>12</td>\n",
       "      <td>0.0</td>\n",
       "      <td>0.0</td>\n",
       "      <td>0.0</td>\n",
       "      <td>1.0</td>\n",
       "      <td>1</td>\n",
       "    </tr>\n",
       "  </tbody>\n",
       "</table>\n",
       "<p>2293 rows × 7 columns</p>\n",
       "</div>"
      ],
      "text/plain": [
       "      user_id  month  number of calls per month  minutes per month  \\\n",
       "0        1000     12                       16.0              124.0   \n",
       "1        1001      8                       22.0              182.0   \n",
       "2        1001      9                       38.0              315.0   \n",
       "3        1001     10                       47.0              393.0   \n",
       "4        1001     11                       49.0              426.0   \n",
       "...       ...    ...                        ...                ...   \n",
       "2288     1204     12                        0.0                0.0   \n",
       "2289     1349     10                        0.0                0.0   \n",
       "2290     1349     11                        0.0                0.0   \n",
       "2291     1349     12                        0.0                0.0   \n",
       "2292     1108     12                        0.0                0.0   \n",
       "\n",
       "      messages per month  data_used_per_month_round  plan  \n",
       "0                   11.0                        2.0     1  \n",
       "1                   30.0                        7.0     0  \n",
       "2                   44.0                       14.0     0  \n",
       "3                   53.0                       23.0     0  \n",
       "4                   36.0                       19.0     0  \n",
       "...                  ...                        ...   ...  \n",
       "2288                78.0                       37.0     1  \n",
       "2289                76.0                       14.0     0  \n",
       "2290                72.0                       18.0     0  \n",
       "2291                61.0                       14.0     0  \n",
       "2292                 0.0                        1.0     1  \n",
       "\n",
       "[2293 rows x 7 columns]"
      ]
     },
     "execution_count": 223,
     "metadata": {},
     "output_type": "execute_result"
    }
   ],
   "source": [
    "data_per_user[\"plan\"]=data_per_user[\"plan\"].apply(lambda x:0 if x==\"surf\" else 1)\n",
    "data_per_user"
   ]
  },
  {
   "cell_type": "markdown",
   "id": "5b5d9c9c",
   "metadata": {},
   "source": [
    "### now we will calculate the revenues to every (user,month)."
   ]
  },
  {
   "cell_type": "code",
   "execution_count": 224,
   "id": "178812ea",
   "metadata": {},
   "outputs": [],
   "source": [
    "def calculate_plan_revenues(row):\n",
    "    plan= row[\"plan\"]\n",
    "    return df_plans.loc[plan,\"usd_monthly_pay\"]\n",
    "    \n",
    "\n",
    "def calculate_revenues(row,kind):\n",
    "    kinds= {\"messages\": [\"messages per month\",\"messages_included\",\"usd_per_message\"],\n",
    "            \"calls\": [\"minutes per month\",\"minutes_included\",\"usd_per_minute\"],\n",
    "            \"data\": [\"data_used_per_month_round\",\"mb_per_month_included\",\"usd_per_gb\"]}\n",
    "    revenue=0\n",
    "    plan= row[\"plan\"]\n",
    "    actual_messages = row[kinds[kind][0]]\n",
    "    plan_messages = df_plans.loc[plan,kinds[kind][1]]\n",
    "    if actual_messages>plan_messages:\n",
    "        revenue+= (actual_messages-plan_messages)*df_plans.loc[plan,kinds[kind][2]]\n",
    "    return revenue\n",
    "\n",
    "    \n",
    "data_per_user[\"plan_revenue\"] = data_per_user.apply(calculate_plan_revenues,axis=1)\n",
    "data_per_user[\"messages_revenues\"] = data_per_user.apply(calculate_revenues,kind=\"messages\",axis=1)\n",
    "data_per_user[\"calls_revenues\"] = data_per_user.apply(calculate_revenues,kind=\"calls\",axis=1)\n",
    "data_per_user[\"data_revenues\"] = data_per_user.apply(calculate_revenues,kind=\"data\",axis=1)\n",
    "data_per_user[\"revenue\"] = data_per_user.apply(lambda r:sum([r[\"messages_revenues\"],\n",
    "                                                            r[\"calls_revenues\"],\n",
    "                                                            r[\"data_revenues\"],\n",
    "                                                            r[\"plan_revenue\"]]\n",
    "                                                           ), axis=1)"
   ]
  },
  {
   "cell_type": "markdown",
   "id": "46fba337",
   "metadata": {},
   "source": [
    "<div class=\"alert alert-danger\">\n",
    "<b>Reviewer's comment v1:</b>\n",
    "    \n",
    "Great that you created functions for the calculations. There are some minor issues to fix: \n",
    "\n",
    "- Currently 'data_revenues' multiplies mbs; however, we have price per 1Gb ($10 / $7)\n",
    "</div>"
   ]
  },
  {
   "cell_type": "markdown",
   "id": "42786800",
   "metadata": {},
   "source": [
    "<div class=\"alert alert-block alert-warning\">\n",
    "<b>Reviewer's comment v1</b>\n",
    " \n",
    "- It is possible to make the calculation of revenue a little shorter / easier using np.where - https://numpy.org/doc/stable /reference/generated/numpy.where.html\n",
    "\n",
    "        np.where ('condition: if exceeding the package limit', 'multiply the difference by the price of additional services', '0')\n",
    "    \n",
    "   \n",
    "</div>"
   ]
  },
  {
   "cell_type": "markdown",
   "id": "cdb74a9f",
   "metadata": {},
   "source": [
    "<div class=\"alert alert-info\"> <b>thank you on the recommendation!</b></div>  "
   ]
  },
  {
   "cell_type": "code",
   "execution_count": 225,
   "id": "7f29b7b4",
   "metadata": {},
   "outputs": [
    {
     "data": {
      "text/html": [
       "<div>\n",
       "<style scoped>\n",
       "    .dataframe tbody tr th:only-of-type {\n",
       "        vertical-align: middle;\n",
       "    }\n",
       "\n",
       "    .dataframe tbody tr th {\n",
       "        vertical-align: top;\n",
       "    }\n",
       "\n",
       "    .dataframe thead th {\n",
       "        text-align: right;\n",
       "    }\n",
       "</style>\n",
       "<table border=\"1\" class=\"dataframe\">\n",
       "  <thead>\n",
       "    <tr style=\"text-align: right;\">\n",
       "      <th></th>\n",
       "      <th>user_id</th>\n",
       "      <th>month</th>\n",
       "      <th>number of calls per month</th>\n",
       "      <th>minutes per month</th>\n",
       "      <th>messages per month</th>\n",
       "      <th>data_used_per_month_round</th>\n",
       "      <th>plan</th>\n",
       "      <th>plan_revenue</th>\n",
       "      <th>messages_revenues</th>\n",
       "      <th>calls_revenues</th>\n",
       "      <th>data_revenues</th>\n",
       "      <th>revenue</th>\n",
       "    </tr>\n",
       "  </thead>\n",
       "  <tbody>\n",
       "    <tr>\n",
       "      <th>0</th>\n",
       "      <td>1000</td>\n",
       "      <td>12</td>\n",
       "      <td>16.0</td>\n",
       "      <td>124.0</td>\n",
       "      <td>11.0</td>\n",
       "      <td>2.0</td>\n",
       "      <td>1</td>\n",
       "      <td>70</td>\n",
       "      <td>0.00</td>\n",
       "      <td>0.0</td>\n",
       "      <td>0</td>\n",
       "      <td>70.00</td>\n",
       "    </tr>\n",
       "    <tr>\n",
       "      <th>1</th>\n",
       "      <td>1001</td>\n",
       "      <td>8</td>\n",
       "      <td>22.0</td>\n",
       "      <td>182.0</td>\n",
       "      <td>30.0</td>\n",
       "      <td>7.0</td>\n",
       "      <td>0</td>\n",
       "      <td>20</td>\n",
       "      <td>0.00</td>\n",
       "      <td>0.0</td>\n",
       "      <td>0</td>\n",
       "      <td>20.00</td>\n",
       "    </tr>\n",
       "    <tr>\n",
       "      <th>2</th>\n",
       "      <td>1001</td>\n",
       "      <td>9</td>\n",
       "      <td>38.0</td>\n",
       "      <td>315.0</td>\n",
       "      <td>44.0</td>\n",
       "      <td>14.0</td>\n",
       "      <td>0</td>\n",
       "      <td>20</td>\n",
       "      <td>0.00</td>\n",
       "      <td>0.0</td>\n",
       "      <td>0</td>\n",
       "      <td>20.00</td>\n",
       "    </tr>\n",
       "    <tr>\n",
       "      <th>3</th>\n",
       "      <td>1001</td>\n",
       "      <td>10</td>\n",
       "      <td>47.0</td>\n",
       "      <td>393.0</td>\n",
       "      <td>53.0</td>\n",
       "      <td>23.0</td>\n",
       "      <td>0</td>\n",
       "      <td>20</td>\n",
       "      <td>0.09</td>\n",
       "      <td>0.0</td>\n",
       "      <td>0</td>\n",
       "      <td>20.09</td>\n",
       "    </tr>\n",
       "    <tr>\n",
       "      <th>4</th>\n",
       "      <td>1001</td>\n",
       "      <td>11</td>\n",
       "      <td>49.0</td>\n",
       "      <td>426.0</td>\n",
       "      <td>36.0</td>\n",
       "      <td>19.0</td>\n",
       "      <td>0</td>\n",
       "      <td>20</td>\n",
       "      <td>0.00</td>\n",
       "      <td>0.0</td>\n",
       "      <td>0</td>\n",
       "      <td>20.00</td>\n",
       "    </tr>\n",
       "    <tr>\n",
       "      <th>...</th>\n",
       "      <td>...</td>\n",
       "      <td>...</td>\n",
       "      <td>...</td>\n",
       "      <td>...</td>\n",
       "      <td>...</td>\n",
       "      <td>...</td>\n",
       "      <td>...</td>\n",
       "      <td>...</td>\n",
       "      <td>...</td>\n",
       "      <td>...</td>\n",
       "      <td>...</td>\n",
       "      <td>...</td>\n",
       "    </tr>\n",
       "    <tr>\n",
       "      <th>2288</th>\n",
       "      <td>1204</td>\n",
       "      <td>12</td>\n",
       "      <td>0.0</td>\n",
       "      <td>0.0</td>\n",
       "      <td>78.0</td>\n",
       "      <td>37.0</td>\n",
       "      <td>1</td>\n",
       "      <td>70</td>\n",
       "      <td>0.00</td>\n",
       "      <td>0.0</td>\n",
       "      <td>0</td>\n",
       "      <td>70.00</td>\n",
       "    </tr>\n",
       "    <tr>\n",
       "      <th>2289</th>\n",
       "      <td>1349</td>\n",
       "      <td>10</td>\n",
       "      <td>0.0</td>\n",
       "      <td>0.0</td>\n",
       "      <td>76.0</td>\n",
       "      <td>14.0</td>\n",
       "      <td>0</td>\n",
       "      <td>20</td>\n",
       "      <td>0.78</td>\n",
       "      <td>0.0</td>\n",
       "      <td>0</td>\n",
       "      <td>20.78</td>\n",
       "    </tr>\n",
       "    <tr>\n",
       "      <th>2290</th>\n",
       "      <td>1349</td>\n",
       "      <td>11</td>\n",
       "      <td>0.0</td>\n",
       "      <td>0.0</td>\n",
       "      <td>72.0</td>\n",
       "      <td>18.0</td>\n",
       "      <td>0</td>\n",
       "      <td>20</td>\n",
       "      <td>0.66</td>\n",
       "      <td>0.0</td>\n",
       "      <td>0</td>\n",
       "      <td>20.66</td>\n",
       "    </tr>\n",
       "    <tr>\n",
       "      <th>2291</th>\n",
       "      <td>1349</td>\n",
       "      <td>12</td>\n",
       "      <td>0.0</td>\n",
       "      <td>0.0</td>\n",
       "      <td>61.0</td>\n",
       "      <td>14.0</td>\n",
       "      <td>0</td>\n",
       "      <td>20</td>\n",
       "      <td>0.33</td>\n",
       "      <td>0.0</td>\n",
       "      <td>0</td>\n",
       "      <td>20.33</td>\n",
       "    </tr>\n",
       "    <tr>\n",
       "      <th>2292</th>\n",
       "      <td>1108</td>\n",
       "      <td>12</td>\n",
       "      <td>0.0</td>\n",
       "      <td>0.0</td>\n",
       "      <td>0.0</td>\n",
       "      <td>1.0</td>\n",
       "      <td>1</td>\n",
       "      <td>70</td>\n",
       "      <td>0.00</td>\n",
       "      <td>0.0</td>\n",
       "      <td>0</td>\n",
       "      <td>70.00</td>\n",
       "    </tr>\n",
       "  </tbody>\n",
       "</table>\n",
       "<p>2293 rows × 12 columns</p>\n",
       "</div>"
      ],
      "text/plain": [
       "      user_id  month  number of calls per month  minutes per month  \\\n",
       "0        1000     12                       16.0              124.0   \n",
       "1        1001      8                       22.0              182.0   \n",
       "2        1001      9                       38.0              315.0   \n",
       "3        1001     10                       47.0              393.0   \n",
       "4        1001     11                       49.0              426.0   \n",
       "...       ...    ...                        ...                ...   \n",
       "2288     1204     12                        0.0                0.0   \n",
       "2289     1349     10                        0.0                0.0   \n",
       "2290     1349     11                        0.0                0.0   \n",
       "2291     1349     12                        0.0                0.0   \n",
       "2292     1108     12                        0.0                0.0   \n",
       "\n",
       "      messages per month  data_used_per_month_round  plan  plan_revenue  \\\n",
       "0                   11.0                        2.0     1            70   \n",
       "1                   30.0                        7.0     0            20   \n",
       "2                   44.0                       14.0     0            20   \n",
       "3                   53.0                       23.0     0            20   \n",
       "4                   36.0                       19.0     0            20   \n",
       "...                  ...                        ...   ...           ...   \n",
       "2288                78.0                       37.0     1            70   \n",
       "2289                76.0                       14.0     0            20   \n",
       "2290                72.0                       18.0     0            20   \n",
       "2291                61.0                       14.0     0            20   \n",
       "2292                 0.0                        1.0     1            70   \n",
       "\n",
       "      messages_revenues  calls_revenues  data_revenues  revenue  \n",
       "0                  0.00             0.0              0    70.00  \n",
       "1                  0.00             0.0              0    20.00  \n",
       "2                  0.00             0.0              0    20.00  \n",
       "3                  0.09             0.0              0    20.09  \n",
       "4                  0.00             0.0              0    20.00  \n",
       "...                 ...             ...            ...      ...  \n",
       "2288               0.00             0.0              0    70.00  \n",
       "2289               0.78             0.0              0    20.78  \n",
       "2290               0.66             0.0              0    20.66  \n",
       "2291               0.33             0.0              0    20.33  \n",
       "2292               0.00             0.0              0    70.00  \n",
       "\n",
       "[2293 rows x 12 columns]"
      ]
     },
     "execution_count": 225,
     "metadata": {},
     "output_type": "execute_result"
    }
   ],
   "source": [
    "data_per_user"
   ]
  },
  {
   "cell_type": "code",
   "execution_count": 226,
   "id": "1fdf8ccb",
   "metadata": {},
   "outputs": [
    {
     "data": {
      "text/html": [
       "<div>\n",
       "<style scoped>\n",
       "    .dataframe tbody tr th:only-of-type {\n",
       "        vertical-align: middle;\n",
       "    }\n",
       "\n",
       "    .dataframe tbody tr th {\n",
       "        vertical-align: top;\n",
       "    }\n",
       "\n",
       "    .dataframe thead th {\n",
       "        text-align: right;\n",
       "    }\n",
       "</style>\n",
       "<table border=\"1\" class=\"dataframe\">\n",
       "  <thead>\n",
       "    <tr style=\"text-align: right;\">\n",
       "      <th></th>\n",
       "      <th>number of calls per month</th>\n",
       "      <th>minutes per month</th>\n",
       "      <th>messages per month</th>\n",
       "      <th>data_used_per_month_round</th>\n",
       "      <th>plan</th>\n",
       "      <th>plan_revenue</th>\n",
       "      <th>messages_revenues</th>\n",
       "      <th>calls_revenues</th>\n",
       "      <th>data_revenues</th>\n",
       "      <th>revenue</th>\n",
       "    </tr>\n",
       "    <tr>\n",
       "      <th>user_id</th>\n",
       "      <th></th>\n",
       "      <th></th>\n",
       "      <th></th>\n",
       "      <th></th>\n",
       "      <th></th>\n",
       "      <th></th>\n",
       "      <th></th>\n",
       "      <th></th>\n",
       "      <th></th>\n",
       "      <th></th>\n",
       "    </tr>\n",
       "  </thead>\n",
       "  <tbody>\n",
       "    <tr>\n",
       "      <th>1000</th>\n",
       "      <td>16.000000</td>\n",
       "      <td>124.000000</td>\n",
       "      <td>11.000000</td>\n",
       "      <td>2.000000</td>\n",
       "      <td>1.0</td>\n",
       "      <td>70.0</td>\n",
       "      <td>0.000</td>\n",
       "      <td>0.000</td>\n",
       "      <td>0.0</td>\n",
       "      <td>70.000</td>\n",
       "    </tr>\n",
       "    <tr>\n",
       "      <th>1001</th>\n",
       "      <td>40.400000</td>\n",
       "      <td>345.600000</td>\n",
       "      <td>41.400000</td>\n",
       "      <td>16.600000</td>\n",
       "      <td>0.0</td>\n",
       "      <td>20.0</td>\n",
       "      <td>0.018</td>\n",
       "      <td>0.000</td>\n",
       "      <td>0.0</td>\n",
       "      <td>20.018</td>\n",
       "    </tr>\n",
       "    <tr>\n",
       "      <th>1002</th>\n",
       "      <td>31.333333</td>\n",
       "      <td>276.333333</td>\n",
       "      <td>29.333333</td>\n",
       "      <td>14.000000</td>\n",
       "      <td>0.0</td>\n",
       "      <td>20.0</td>\n",
       "      <td>0.000</td>\n",
       "      <td>0.000</td>\n",
       "      <td>0.0</td>\n",
       "      <td>20.000</td>\n",
       "    </tr>\n",
       "    <tr>\n",
       "      <th>1003</th>\n",
       "      <td>118.000000</td>\n",
       "      <td>1104.000000</td>\n",
       "      <td>50.000000</td>\n",
       "      <td>28.000000</td>\n",
       "      <td>0.0</td>\n",
       "      <td>20.0</td>\n",
       "      <td>0.000</td>\n",
       "      <td>18.120</td>\n",
       "      <td>0.0</td>\n",
       "      <td>38.120</td>\n",
       "    </tr>\n",
       "    <tr>\n",
       "      <th>1004</th>\n",
       "      <td>38.250000</td>\n",
       "      <td>346.500000</td>\n",
       "      <td>22.125000</td>\n",
       "      <td>19.875000</td>\n",
       "      <td>0.0</td>\n",
       "      <td>20.0</td>\n",
       "      <td>0.000</td>\n",
       "      <td>0.000</td>\n",
       "      <td>0.0</td>\n",
       "      <td>20.000</td>\n",
       "    </tr>\n",
       "    <tr>\n",
       "      <th>...</th>\n",
       "      <td>...</td>\n",
       "      <td>...</td>\n",
       "      <td>...</td>\n",
       "      <td>...</td>\n",
       "      <td>...</td>\n",
       "      <td>...</td>\n",
       "      <td>...</td>\n",
       "      <td>...</td>\n",
       "      <td>...</td>\n",
       "      <td>...</td>\n",
       "    </tr>\n",
       "    <tr>\n",
       "      <th>1495</th>\n",
       "      <td>52.000000</td>\n",
       "      <td>441.250000</td>\n",
       "      <td>0.000000</td>\n",
       "      <td>25.000000</td>\n",
       "      <td>0.0</td>\n",
       "      <td>20.0</td>\n",
       "      <td>0.000</td>\n",
       "      <td>0.825</td>\n",
       "      <td>0.0</td>\n",
       "      <td>20.825</td>\n",
       "    </tr>\n",
       "    <tr>\n",
       "      <th>1496</th>\n",
       "      <td>31.600000</td>\n",
       "      <td>291.000000</td>\n",
       "      <td>13.000000</td>\n",
       "      <td>13.400000</td>\n",
       "      <td>0.0</td>\n",
       "      <td>20.0</td>\n",
       "      <td>0.000</td>\n",
       "      <td>0.000</td>\n",
       "      <td>0.0</td>\n",
       "      <td>20.000</td>\n",
       "    </tr>\n",
       "    <tr>\n",
       "      <th>1497</th>\n",
       "      <td>42.000000</td>\n",
       "      <td>300.000000</td>\n",
       "      <td>50.000000</td>\n",
       "      <td>12.000000</td>\n",
       "      <td>1.0</td>\n",
       "      <td>70.0</td>\n",
       "      <td>0.000</td>\n",
       "      <td>0.000</td>\n",
       "      <td>0.0</td>\n",
       "      <td>70.000</td>\n",
       "    </tr>\n",
       "    <tr>\n",
       "      <th>1498</th>\n",
       "      <td>33.727273</td>\n",
       "      <td>291.909091</td>\n",
       "      <td>0.000000</td>\n",
       "      <td>21.090909</td>\n",
       "      <td>0.0</td>\n",
       "      <td>20.0</td>\n",
       "      <td>0.000</td>\n",
       "      <td>0.000</td>\n",
       "      <td>0.0</td>\n",
       "      <td>20.000</td>\n",
       "    </tr>\n",
       "    <tr>\n",
       "      <th>1499</th>\n",
       "      <td>42.750000</td>\n",
       "      <td>383.750000</td>\n",
       "      <td>0.000000</td>\n",
       "      <td>18.250000</td>\n",
       "      <td>0.0</td>\n",
       "      <td>20.0</td>\n",
       "      <td>0.000</td>\n",
       "      <td>0.000</td>\n",
       "      <td>0.0</td>\n",
       "      <td>20.000</td>\n",
       "    </tr>\n",
       "  </tbody>\n",
       "</table>\n",
       "<p>490 rows × 10 columns</p>\n",
       "</div>"
      ],
      "text/plain": [
       "         number of calls per month  minutes per month  messages per month  \\\n",
       "user_id                                                                     \n",
       "1000                     16.000000         124.000000           11.000000   \n",
       "1001                     40.400000         345.600000           41.400000   \n",
       "1002                     31.333333         276.333333           29.333333   \n",
       "1003                    118.000000        1104.000000           50.000000   \n",
       "1004                     38.250000         346.500000           22.125000   \n",
       "...                            ...                ...                 ...   \n",
       "1495                     52.000000         441.250000            0.000000   \n",
       "1496                     31.600000         291.000000           13.000000   \n",
       "1497                     42.000000         300.000000           50.000000   \n",
       "1498                     33.727273         291.909091            0.000000   \n",
       "1499                     42.750000         383.750000            0.000000   \n",
       "\n",
       "         data_used_per_month_round  plan  plan_revenue  messages_revenues  \\\n",
       "user_id                                                                     \n",
       "1000                      2.000000   1.0          70.0              0.000   \n",
       "1001                     16.600000   0.0          20.0              0.018   \n",
       "1002                     14.000000   0.0          20.0              0.000   \n",
       "1003                     28.000000   0.0          20.0              0.000   \n",
       "1004                     19.875000   0.0          20.0              0.000   \n",
       "...                            ...   ...           ...                ...   \n",
       "1495                     25.000000   0.0          20.0              0.000   \n",
       "1496                     13.400000   0.0          20.0              0.000   \n",
       "1497                     12.000000   1.0          70.0              0.000   \n",
       "1498                     21.090909   0.0          20.0              0.000   \n",
       "1499                     18.250000   0.0          20.0              0.000   \n",
       "\n",
       "         calls_revenues  data_revenues  revenue  \n",
       "user_id                                          \n",
       "1000              0.000            0.0   70.000  \n",
       "1001              0.000            0.0   20.018  \n",
       "1002              0.000            0.0   20.000  \n",
       "1003             18.120            0.0   38.120  \n",
       "1004              0.000            0.0   20.000  \n",
       "...                 ...            ...      ...  \n",
       "1495              0.825            0.0   20.825  \n",
       "1496              0.000            0.0   20.000  \n",
       "1497              0.000            0.0   70.000  \n",
       "1498              0.000            0.0   20.000  \n",
       "1499              0.000            0.0   20.000  \n",
       "\n",
       "[490 rows x 10 columns]"
      ]
     },
     "execution_count": 226,
     "metadata": {},
     "output_type": "execute_result"
    }
   ],
   "source": [
    "grouped_data_per_user=data_per_user.groupby(\"user_id\").mean().drop(['month'], axis='columns')\n",
    "grouped_data_per_user"
   ]
  },
  {
   "cell_type": "markdown",
   "id": "e16f3a4b",
   "metadata": {},
   "source": [
    "<div class=\"alert alert-block alert-success\">\n",
    "<b>Reviewer's comment v1:</b>\n",
    "    \n",
    "I can recomend to use `.head()`  `.tail()`  `.sample()` methods to show data from big tables, as in other tools it can cause a very long list of rows without formating. \n",
    "\n",
    "</div>"
   ]
  },
  {
   "cell_type": "markdown",
   "id": "1e54886c",
   "metadata": {},
   "source": [
    "### Number of calls and minutes per month"
   ]
  },
  {
   "cell_type": "code",
   "execution_count": 227,
   "id": "070e43dc",
   "metadata": {},
   "outputs": [
    {
     "data": {
      "image/png": "[encoded data removed]",
      "text/plain": [
       "<Figure size 1008x360 with 2 Axes>"
      ]
     },
     "metadata": {
      "needs_background": "light"
     },
     "output_type": "display_data"
    }
   ],
   "source": [
    "fig,axes = plt.subplots(nrows=1, ncols=2,figsize=(14,5));\n",
    "fig.suptitle('Calls comparing:')\n",
    "sns.boxplot(x=\"plan\",y=\"number of calls per month\", data=grouped_data_per_user,ax=axes[0]);\n",
    "axes[0].set_xticklabels([\"surf\",\"ultimate\"]);\n",
    "axes[0].set_title(\"calls per month by plan\")\n",
    "sns.boxplot(x=\"plan\",y=\"minutes per month\", data=grouped_data_per_user,ax=axes[1]);\n",
    "axes[1].set_xticklabels([\"surf\",\"ultimate\"]);\n",
    "axes[1].set_title(\"minutes per month by plan\");"
   ]
  },
  {
   "cell_type": "markdown",
   "id": "ca851835",
   "metadata": {},
   "source": [
    "### we see a little differences between the users in the plans, the differences are not big!"
   ]
  },
  {
   "cell_type": "code",
   "execution_count": 228,
   "id": "88812cc9",
   "metadata": {},
   "outputs": [
    {
     "data": {
      "image/png": "[encoded data removed]",
      "text/plain": [
       "<Figure size 1008x360 with 2 Axes>"
      ]
     },
     "metadata": {
      "needs_background": "light"
     },
     "output_type": "display_data"
    }
   ],
   "source": [
    "fig,axes = plt.subplots(nrows=1, ncols=2,figsize=(14,5));\n",
    "fig.suptitle('Calls comparing:')\n",
    "sns.kdeplot(data=grouped_data_per_user, x=\"number of calls per month\", hue=\"plan\", ax= axes[0],fill=True)\n",
    "axes[0].legend(title='Plan', loc='upper right', labels=['Ultimate','Surf']);\n",
    "sns.kdeplot(data=grouped_data_per_user, x=\"minutes per month\", hue=\"plan\", ax= axes[1],fill=True)\n",
    "axes[1].legend(title='Plan', loc='upper right', labels=['Ultimate','Surf']);\n",
    "axes[0].set_title(\"calls per month by plan\");\n",
    "axes[1].set_title(\"minutes per month by plan\");"
   ]
  },
  {
   "cell_type": "markdown",
   "id": "3bebc802",
   "metadata": {},
   "source": [
    "### there are much more \"surf\" users so we see the curve with more area."
   ]
  },
  {
   "cell_type": "code",
   "execution_count": 229,
   "id": "202e9b6a",
   "metadata": {},
   "outputs": [
    {
     "data": {
      "image/png": "[encoded data removed]",
      "text/plain": [
       "<Figure size 1008x360 with 2 Axes>"
      ]
     },
     "metadata": {
      "needs_background": "light"
     },
     "output_type": "display_data"
    }
   ],
   "source": [
    "fig,axes = plt.subplots(nrows=1, ncols=2,figsize=(14,5));\n",
    "fig.suptitle('messages and data comparing:')\n",
    "sns.boxplot(x=\"plan\",y=\"messages per month\", data=grouped_data_per_user,ax=axes[0]);\n",
    "axes[0].set_xticklabels([\"surf\",\"ultimate\"]);\n",
    "axes[0].set_title(\"messages by plan\")\n",
    "sns.boxplot(x=\"plan\",y=\"data_used_per_month_round\", data=grouped_data_per_user,ax=axes[1]);\n",
    "axes[1].set_xticklabels([\"surf\",\"ultimate\"]);\n",
    "axes[1].set_title(\"data by plan\");\n",
    "# axes[1].axhline(15360, color='blue')"
   ]
  },
  {
   "cell_type": "markdown",
   "id": "c0a73cd4",
   "metadata": {},
   "source": [
    "### here too, the main differnce is that in the ultimate plan users sending a little more messages. the other differnces are not big."
   ]
  },
  {
   "cell_type": "code",
   "execution_count": 230,
   "id": "051e681b",
   "metadata": {},
   "outputs": [
    {
     "data": {
      "image/png": "[encoded data removed]",
      "text/plain": [
       "<Figure size 1008x360 with 2 Axes>"
      ]
     },
     "metadata": {
      "needs_background": "light"
     },
     "output_type": "display_data"
    }
   ],
   "source": [
    "fig,axes = plt.subplots(nrows=1, ncols=2,figsize=(14,5));\n",
    "fig.suptitle('messages and data comparing:')\n",
    "sns.kdeplot(data=grouped_data_per_user, x=\"messages per month\", hue=\"plan\",ax= axes[0],fill=True)\n",
    "axes[0].legend(title='Plan', loc='upper right', labels=['Ultimate','Surf']);\n",
    "sns.kdeplot(data=grouped_data_per_user, x=\"data_used_per_month_round\", hue=\"plan\", ax= axes[1],fill=True)\n",
    "axes[1].legend(title='Plan', loc='upper right', labels=['Ultimate','Surf']);\n",
    "axes[0].set_title(\"messages per month by plan\");\n",
    "axes[1].set_title(\"data per month by plan\");"
   ]
  },
  {
   "cell_type": "markdown",
   "id": "6c51f97a",
   "metadata": {},
   "source": [
    "## now lets focus on the revenues:"
   ]
  },
  {
   "cell_type": "code",
   "execution_count": 231,
   "id": "6f71b4b1",
   "metadata": {},
   "outputs": [
    {
     "data": {
      "image/png": "[encoded data removed]",
      "text/plain": [
       "<Figure size 1008x360 with 2 Axes>"
      ]
     },
     "metadata": {
      "needs_background": "light"
     },
     "output_type": "display_data"
    }
   ],
   "source": [
    "fig,axes = plt.subplots(nrows=1, ncols=2,figsize=(14,5));\n",
    "fig.suptitle('calls and messages revenues comparing:')\n",
    "sns.boxplot(x=\"plan\",y=\"calls_revenues\", data=grouped_data_per_user,ax=axes[0]);\n",
    "axes[0].set_xticklabels([\"surf\",\"ultimate\"]);\n",
    "axes[0].set_title(\"calls revenues by plan\")\n",
    "sns.boxplot(x=\"plan\",y=\"messages_revenues\", data=grouped_data_per_user,ax=axes[1]);\n",
    "axes[1].set_xticklabels([\"surf\",\"ultimate\"]);\n",
    "axes[1].set_title(\"messages revenues by plan\");"
   ]
  },
  {
   "cell_type": "markdown",
   "id": "1a368cf5",
   "metadata": {},
   "source": [
    "### we see very clearly that the ultimate plan almost not paing more for calls and messages wich are not in the plan!"
   ]
  },
  {
   "cell_type": "code",
   "execution_count": 232,
   "id": "de04fc4b",
   "metadata": {},
   "outputs": [
    {
     "data": {
      "image/png": "[encoded data removed]",
      "text/plain": [
       "<Figure size 1008x360 with 1 Axes>"
      ]
     },
     "metadata": {
      "needs_background": "light"
     },
     "output_type": "display_data"
    }
   ],
   "source": [
    "fig,axes = plt.subplots(nrows=1, ncols=1,figsize=(14,5));\n",
    "sns.boxplot(x=\"plan\",y=\"data_revenues\", data=grouped_data_per_user);\n",
    "axes.set_xticklabels([\"surf\",\"ultimate\"]);\n",
    "axes.set_title(\"data revenues by plan\");"
   ]
  },
  {
   "cell_type": "markdown",
   "id": "00f39455",
   "metadata": {},
   "source": [
    "we see that almost no one passing the limits of the plan, so there are not much revenues on data."
   ]
  },
  {
   "cell_type": "code",
   "execution_count": 233,
   "id": "15be1fbb",
   "metadata": {},
   "outputs": [
    {
     "data": {
      "image/png": "[encoded data removed]",
      "text/plain": [
       "<Figure size 1008x360 with 1 Axes>"
      ]
     },
     "metadata": {
      "needs_background": "light"
     },
     "output_type": "display_data"
    }
   ],
   "source": [
    "fig,axes = plt.subplots(nrows=1, ncols=1,figsize=(14,5));\n",
    "sns.boxplot(x=\"plan\",y=\"revenue\", data=grouped_data_per_user);\n",
    "axes.set_xticklabels([\"surf\",\"ultimate\"]);\n",
    "axes.set_title(\"general revenues by plan\");"
   ]
  },
  {
   "cell_type": "markdown",
   "id": "b8aef1b1",
   "metadata": {},
   "source": [
    "#### we see that the most of the \"ultimate\" plan paying 70, and that's more than the \"surf\" plan , even more from the extremists values on the surf plan."
   ]
  },
  {
   "cell_type": "code",
   "execution_count": 234,
   "id": "f3b91c99",
   "metadata": {},
   "outputs": [
    {
     "data": {
      "image/png": "[encoded data removed]",
      "text/plain": [
       "<Figure size 1008x360 with 1 Axes>"
      ]
     },
     "metadata": {
      "needs_background": "light"
     },
     "output_type": "display_data"
    }
   ],
   "source": [
    "fig,axes = plt.subplots(nrows=1, ncols=1,figsize=(14,5));\n",
    "fig.suptitle('')\n",
    "sns.histplot(data=grouped_data_per_user, x=\"revenue\", hue=\"plan\",fill=True)\n",
    "axes.legend(title='Plan', loc='upper right', labels=['Ultimate','Surf']);\n",
    "# axes.set_xlim([0, 300000]);"
   ]
  },
  {
   "cell_type": "markdown",
   "id": "3a3f0618",
   "metadata": {},
   "source": [
    "#### we see that \"surf\" is right sqwed hist, and ultimate is uniform."
   ]
  },
  {
   "cell_type": "markdown",
   "id": "b57810c9",
   "metadata": {},
   "source": [
    "## Lets see it with numbers:"
   ]
  },
  {
   "cell_type": "markdown",
   "id": "b3648b95",
   "metadata": {},
   "source": [
    "### the mean for each plan:"
   ]
  },
  {
   "cell_type": "code",
   "execution_count": 235,
   "id": "b63fea1e",
   "metadata": {},
   "outputs": [
    {
     "data": {
      "text/html": [
       "<div>\n",
       "<style scoped>\n",
       "    .dataframe tbody tr th:only-of-type {\n",
       "        vertical-align: middle;\n",
       "    }\n",
       "\n",
       "    .dataframe tbody tr th {\n",
       "        vertical-align: top;\n",
       "    }\n",
       "\n",
       "    .dataframe thead th {\n",
       "        text-align: right;\n",
       "    }\n",
       "</style>\n",
       "<table border=\"1\" class=\"dataframe\">\n",
       "  <thead>\n",
       "    <tr style=\"text-align: right;\">\n",
       "      <th></th>\n",
       "      <th>number of calls per month</th>\n",
       "      <th>minutes per month</th>\n",
       "      <th>messages per month</th>\n",
       "      <th>data_used_per_month_round</th>\n",
       "      <th>plan_revenue</th>\n",
       "      <th>messages_revenues</th>\n",
       "      <th>calls_revenues</th>\n",
       "      <th>data_revenues</th>\n",
       "      <th>revenue</th>\n",
       "    </tr>\n",
       "    <tr>\n",
       "      <th>plan</th>\n",
       "      <th></th>\n",
       "      <th></th>\n",
       "      <th></th>\n",
       "      <th></th>\n",
       "      <th></th>\n",
       "      <th></th>\n",
       "      <th></th>\n",
       "      <th></th>\n",
       "      <th></th>\n",
       "    </tr>\n",
       "  </thead>\n",
       "  <tbody>\n",
       "    <tr>\n",
       "      <th>0.0</th>\n",
       "      <td>45.854674</td>\n",
       "      <td>408.737038</td>\n",
       "      <td>32.408931</td>\n",
       "      <td>16.344464</td>\n",
       "      <td>20.0</td>\n",
       "      <td>0.231471</td>\n",
       "      <td>1.781267</td>\n",
       "      <td>0.0</td>\n",
       "      <td>22.012739</td>\n",
       "    </tr>\n",
       "    <tr>\n",
       "      <th>1.0</th>\n",
       "      <td>46.139076</td>\n",
       "      <td>407.959877</td>\n",
       "      <td>38.471532</td>\n",
       "      <td>16.560759</td>\n",
       "      <td>70.0</td>\n",
       "      <td>0.000000</td>\n",
       "      <td>0.000000</td>\n",
       "      <td>0.0</td>\n",
       "      <td>70.000000</td>\n",
       "    </tr>\n",
       "  </tbody>\n",
       "</table>\n",
       "</div>"
      ],
      "text/plain": [
       "      number of calls per month  minutes per month  messages per month  \\\n",
       "plan                                                                     \n",
       "0.0                   45.854674         408.737038           32.408931   \n",
       "1.0                   46.139076         407.959877           38.471532   \n",
       "\n",
       "      data_used_per_month_round  plan_revenue  messages_revenues  \\\n",
       "plan                                                               \n",
       "0.0                   16.344464          20.0           0.231471   \n",
       "1.0                   16.560759          70.0           0.000000   \n",
       "\n",
       "      calls_revenues  data_revenues    revenue  \n",
       "plan                                            \n",
       "0.0         1.781267            0.0  22.012739  \n",
       "1.0         0.000000            0.0  70.000000  "
      ]
     },
     "execution_count": 235,
     "metadata": {},
     "output_type": "execute_result"
    }
   ],
   "source": [
    "grouped_data_per_user.groupby(\"plan\").mean()"
   ]
  },
  {
   "cell_type": "markdown",
   "id": "d2050849",
   "metadata": {},
   "source": [
    "### we see that the usage is very similar but there is a huge difference in the revenues."
   ]
  },
  {
   "cell_type": "markdown",
   "id": "8c2cc02f",
   "metadata": {},
   "source": [
    "### standard deviation for each plan:"
   ]
  },
  {
   "cell_type": "code",
   "execution_count": 236,
   "id": "ea1de2ea",
   "metadata": {},
   "outputs": [
    {
     "data": {
      "text/html": [
       "<div>\n",
       "<style scoped>\n",
       "    .dataframe tbody tr th:only-of-type {\n",
       "        vertical-align: middle;\n",
       "    }\n",
       "\n",
       "    .dataframe tbody tr th {\n",
       "        vertical-align: top;\n",
       "    }\n",
       "\n",
       "    .dataframe thead th {\n",
       "        text-align: right;\n",
       "    }\n",
       "</style>\n",
       "<table border=\"1\" class=\"dataframe\">\n",
       "  <thead>\n",
       "    <tr style=\"text-align: right;\">\n",
       "      <th></th>\n",
       "      <th>number of calls per month</th>\n",
       "      <th>minutes per month</th>\n",
       "      <th>messages per month</th>\n",
       "      <th>data_used_per_month_round</th>\n",
       "      <th>plan_revenue</th>\n",
       "      <th>messages_revenues</th>\n",
       "      <th>calls_revenues</th>\n",
       "      <th>data_revenues</th>\n",
       "      <th>revenue</th>\n",
       "    </tr>\n",
       "    <tr>\n",
       "      <th>plan</th>\n",
       "      <th></th>\n",
       "      <th></th>\n",
       "      <th></th>\n",
       "      <th></th>\n",
       "      <th></th>\n",
       "      <th></th>\n",
       "      <th></th>\n",
       "      <th></th>\n",
       "      <th></th>\n",
       "    </tr>\n",
       "  </thead>\n",
       "  <tbody>\n",
       "    <tr>\n",
       "      <th>0.0</th>\n",
       "      <td>21.952397</td>\n",
       "      <td>199.369158</td>\n",
       "      <td>31.017777</td>\n",
       "      <td>6.223089</td>\n",
       "      <td>0.0</td>\n",
       "      <td>0.519421</td>\n",
       "      <td>3.135869</td>\n",
       "      <td>0.0</td>\n",
       "      <td>3.292704</td>\n",
       "    </tr>\n",
       "    <tr>\n",
       "      <th>1.0</th>\n",
       "      <td>22.308401</td>\n",
       "      <td>200.357124</td>\n",
       "      <td>32.927275</td>\n",
       "      <td>5.925493</td>\n",
       "      <td>0.0</td>\n",
       "      <td>0.000000</td>\n",
       "      <td>0.000000</td>\n",
       "      <td>0.0</td>\n",
       "      <td>0.000000</td>\n",
       "    </tr>\n",
       "  </tbody>\n",
       "</table>\n",
       "</div>"
      ],
      "text/plain": [
       "      number of calls per month  minutes per month  messages per month  \\\n",
       "plan                                                                     \n",
       "0.0                   21.952397         199.369158           31.017777   \n",
       "1.0                   22.308401         200.357124           32.927275   \n",
       "\n",
       "      data_used_per_month_round  plan_revenue  messages_revenues  \\\n",
       "plan                                                               \n",
       "0.0                    6.223089           0.0           0.519421   \n",
       "1.0                    5.925493           0.0           0.000000   \n",
       "\n",
       "      calls_revenues  data_revenues   revenue  \n",
       "plan                                           \n",
       "0.0         3.135869            0.0  3.292704  \n",
       "1.0         0.000000            0.0  0.000000  "
      ]
     },
     "execution_count": 236,
     "metadata": {},
     "output_type": "execute_result"
    }
   ],
   "source": [
    "grouped_data_per_user.groupby(\"plan\").std()"
   ]
  },
  {
   "cell_type": "markdown",
   "id": "64137f6b",
   "metadata": {},
   "source": [
    "### Varience for each plan"
   ]
  },
  {
   "cell_type": "code",
   "execution_count": 237,
   "id": "fba7d3f8",
   "metadata": {},
   "outputs": [
    {
     "data": {
      "text/html": [
       "<div>\n",
       "<style scoped>\n",
       "    .dataframe tbody tr th:only-of-type {\n",
       "        vertical-align: middle;\n",
       "    }\n",
       "\n",
       "    .dataframe tbody tr th {\n",
       "        vertical-align: top;\n",
       "    }\n",
       "\n",
       "    .dataframe thead th {\n",
       "        text-align: right;\n",
       "    }\n",
       "</style>\n",
       "<table border=\"1\" class=\"dataframe\">\n",
       "  <thead>\n",
       "    <tr style=\"text-align: right;\">\n",
       "      <th></th>\n",
       "      <th>number of calls per month</th>\n",
       "      <th>minutes per month</th>\n",
       "      <th>messages per month</th>\n",
       "      <th>data_used_per_month_round</th>\n",
       "      <th>plan_revenue</th>\n",
       "      <th>messages_revenues</th>\n",
       "      <th>calls_revenues</th>\n",
       "      <th>data_revenues</th>\n",
       "      <th>revenue</th>\n",
       "    </tr>\n",
       "    <tr>\n",
       "      <th>plan</th>\n",
       "      <th></th>\n",
       "      <th></th>\n",
       "      <th></th>\n",
       "      <th></th>\n",
       "      <th></th>\n",
       "      <th></th>\n",
       "      <th></th>\n",
       "      <th></th>\n",
       "      <th></th>\n",
       "    </tr>\n",
       "  </thead>\n",
       "  <tbody>\n",
       "    <tr>\n",
       "      <th>0.0</th>\n",
       "      <td>481.907727</td>\n",
       "      <td>39748.061306</td>\n",
       "      <td>962.102515</td>\n",
       "      <td>38.726836</td>\n",
       "      <td>0.0</td>\n",
       "      <td>0.269798</td>\n",
       "      <td>9.833676</td>\n",
       "      <td>0.0</td>\n",
       "      <td>10.841901</td>\n",
       "    </tr>\n",
       "    <tr>\n",
       "      <th>1.0</th>\n",
       "      <td>497.664752</td>\n",
       "      <td>40142.977006</td>\n",
       "      <td>1084.205410</td>\n",
       "      <td>35.111466</td>\n",
       "      <td>0.0</td>\n",
       "      <td>0.000000</td>\n",
       "      <td>0.000000</td>\n",
       "      <td>0.0</td>\n",
       "      <td>0.000000</td>\n",
       "    </tr>\n",
       "  </tbody>\n",
       "</table>\n",
       "</div>"
      ],
      "text/plain": [
       "      number of calls per month  minutes per month  messages per month  \\\n",
       "plan                                                                     \n",
       "0.0                  481.907727       39748.061306          962.102515   \n",
       "1.0                  497.664752       40142.977006         1084.205410   \n",
       "\n",
       "      data_used_per_month_round  plan_revenue  messages_revenues  \\\n",
       "plan                                                               \n",
       "0.0                   38.726836           0.0           0.269798   \n",
       "1.0                   35.111466           0.0           0.000000   \n",
       "\n",
       "      calls_revenues  data_revenues    revenue  \n",
       "plan                                            \n",
       "0.0         9.833676            0.0  10.841901  \n",
       "1.0         0.000000            0.0   0.000000  "
      ]
     },
     "execution_count": 237,
     "metadata": {},
     "output_type": "execute_result"
    }
   ],
   "source": [
    "grouped_data_per_user.groupby(\"plan\").var() "
   ]
  },
  {
   "cell_type": "markdown",
   "id": "4e660d90",
   "metadata": {},
   "source": [
    "### we see that there is no varience in the ultimate plan, because all users paying 70, but there is a varience for the surf plan.\n"
   ]
  },
  {
   "cell_type": "markdown",
   "id": "9d552b34",
   "metadata": {},
   "source": [
    "<div class=\"alert alert-danger\">\n",
    "<b>Reviewer's comment v1:</b>\n",
    "    \n",
    "I can't see, unfortunately, table with calculated variance. \n",
    "    \n",
    "    monthly_variance = grouped_data_per_user.var()\n",
    "    monthly_variance\n",
    "    \n",
    "<div>"
   ]
  },
  {
   "cell_type": "markdown",
   "id": "7c284df4",
   "metadata": {},
   "source": [
    "## conclusions from analyzing the data:\n",
    "    * there are not big differences in the usage of the users in both plans. they call, text and use data more or less in the same amounts. \n",
    "    * there are much more users in the surf plan (67.8%,32.2%)\n",
    "    * almost all the users on the \"ultimate\" plan pays 70 in average and it's much more than the surf plan."
   ]
  },
  {
   "cell_type": "markdown",
   "id": "6b81b6e7",
   "metadata": {},
   "source": [
    "<div class=\"alert alert-success\" role=\"alert\">\n",
    "<b>Reviewer's comment v1:</b>\n",
    "    \n",
    "- Very nice visualisation of the data. Great that you managed to combine both plans on one graph for the comparison. \n",
    "<div>"
   ]
  },
  {
   "cell_type": "markdown",
   "id": "ef6a167a",
   "metadata": {},
   "source": [
    "##  Test the hypotheses"
   ]
  },
  {
   "cell_type": "markdown",
   "id": "75075b1f",
   "metadata": {},
   "source": [
    "### first hypothesis:\n",
    "### The average revenue from users of Ultimate and Surf calling plans differs."
   ]
  },
  {
   "cell_type": "markdown",
   "id": "d1fb9def",
   "metadata": {},
   "source": [
    "### Null : \n",
    "$\\Large\\mu$$_{surf}$ - $\\Large\\mu$$_{ultimate}$ =0 \n",
    "\n",
    "    \n",
    "### Alternative: \n",
    "**$\\Large\\mu$$_{surf}$** - **$\\Large\\mu$$_{ultimate}$** != 0    \n",
    "\n",
    "$\\Large\\alpha$ = $\\Large5\\%$"
   ]
  },
  {
   "cell_type": "markdown",
   "id": "39e51910",
   "metadata": {},
   "source": [
    "### the null hypothesis suggests that there isn't a difference between the plans, the alternative suggests there is a difference."
   ]
  },
  {
   "cell_type": "code",
   "execution_count": 238,
   "id": "d1796ac7",
   "metadata": {},
   "outputs": [
    {
     "name": "stdout",
     "output_type": "stream",
     "text": [
      "p-value:  0.0\n",
      "We reject the null hypothesis\n"
     ]
    }
   ],
   "source": [
    "from scipy import stats as st\n",
    "import numpy as np\n",
    "\n",
    "alpha = 0.05  # critical statistical significance level\n",
    "# if the p-value is less than alpha, we reject the hypothesis\n",
    "arr1= grouped_data_per_user.query(\"plan==0\")[\"revenue\"]\n",
    "arr2= grouped_data_per_user.query(\"plan==1\")[\"revenue\"]\n",
    "\n",
    "results = st.ttest_ind(arr1, arr2,equal_var=False)\n",
    "\n",
    "print('p-value: ', results.pvalue)\n",
    "\n",
    "if results.pvalue < alpha:\n",
    "    print(\"We reject the null hypothesis\")\n",
    "else:\n",
    "    print(\"We can't reject the null hypothesis\") \n",
    "\n"
   ]
  },
  {
   "cell_type": "markdown",
   "id": "f684bc51",
   "metadata": {},
   "source": [
    "### because p<0.05 we reject the null hypothesis, and we have enough evidence that there is difference between the means."
   ]
  },
  {
   "cell_type": "markdown",
   "id": "aef4f5b7",
   "metadata": {},
   "source": [
    "## the second hypothesis:\n",
    "### The average revenue from users in NY-NJ area is different from that of the users from other regions.    "
   ]
  },
  {
   "cell_type": "markdown",
   "id": "4178248b",
   "metadata": {},
   "source": [
    "### Null : \n",
    "$\\Large\\mu$$_{ny-nj}$ - $\\Large\\mu$$_{not(ny-nj)}$ =0 \n",
    "\n",
    "    \n",
    "### Alternative: \n",
    "**$\\Large\\mu$$_{ny-nj}$** - **$\\Large\\mu$$_{not(ny-nj)}$** != 0    \n",
    "\n",
    "$\\Large\\alpha$ = $\\Large5\\%$"
   ]
  },
  {
   "cell_type": "markdown",
   "id": "1eca1f46",
   "metadata": {},
   "source": [
    "### the null hypothesis suggests that there isn't a difference between the regions, the alternative suggests there is a difference."
   ]
  },
  {
   "cell_type": "markdown",
   "id": "6512be8f",
   "metadata": {},
   "source": [
    "### to do this, we should add region column"
   ]
  },
  {
   "cell_type": "code",
   "execution_count": 239,
   "id": "ab523d08",
   "metadata": {},
   "outputs": [
    {
     "data": {
      "text/plain": [
       "0          atlanta-sandy springs-roswell, ga msa\n",
       "1                seattle-tacoma-bellevue, wa msa\n",
       "2           las vegas-henderson-paradise, nv msa\n",
       "3                                  tulsa, ok msa\n",
       "4                seattle-tacoma-bellevue, wa msa\n",
       "                         ...                    \n",
       "495    new york-newark-jersey city, ny-nj-pa msa\n",
       "496                 new orleans-metairie, la msa\n",
       "497       los angeles-long beach-anaheim, ca msa\n",
       "498    new york-newark-jersey city, ny-nj-pa msa\n",
       "499            orlando-kissimmee-sanford, fl msa\n",
       "Name: city, Length: 500, dtype: object"
      ]
     },
     "execution_count": 239,
     "metadata": {},
     "output_type": "execute_result"
    }
   ],
   "source": [
    "df_users[\"city\"]"
   ]
  },
  {
   "cell_type": "code",
   "execution_count": 240,
   "id": "252b8e46",
   "metadata": {},
   "outputs": [],
   "source": [
    "df_users[\"live_in_ny_nj\"] = df_users.apply(lambda r:\"ny-nj\" in r[\"city\"],axis=1)"
   ]
  },
  {
   "cell_type": "code",
   "execution_count": 241,
   "id": "0ab9333b",
   "metadata": {},
   "outputs": [
    {
     "data": {
      "text/html": [
       "<div>\n",
       "<style scoped>\n",
       "    .dataframe tbody tr th:only-of-type {\n",
       "        vertical-align: middle;\n",
       "    }\n",
       "\n",
       "    .dataframe tbody tr th {\n",
       "        vertical-align: top;\n",
       "    }\n",
       "\n",
       "    .dataframe thead th {\n",
       "        text-align: right;\n",
       "    }\n",
       "</style>\n",
       "<table border=\"1\" class=\"dataframe\">\n",
       "  <thead>\n",
       "    <tr style=\"text-align: right;\">\n",
       "      <th></th>\n",
       "      <th>user_id</th>\n",
       "      <th>first_name</th>\n",
       "      <th>last_name</th>\n",
       "      <th>age</th>\n",
       "      <th>city</th>\n",
       "      <th>reg_date</th>\n",
       "      <th>plan</th>\n",
       "      <th>churn_date</th>\n",
       "      <th>live_in_ny_nj</th>\n",
       "    </tr>\n",
       "  </thead>\n",
       "  <tbody>\n",
       "    <tr>\n",
       "      <th>0</th>\n",
       "      <td>1000</td>\n",
       "      <td>anamaria</td>\n",
       "      <td>bauer</td>\n",
       "      <td>45</td>\n",
       "      <td>atlanta-sandy springs-roswell, ga msa</td>\n",
       "      <td>2018-12-24</td>\n",
       "      <td>ultimate</td>\n",
       "      <td>NaT</td>\n",
       "      <td>False</td>\n",
       "    </tr>\n",
       "    <tr>\n",
       "      <th>1</th>\n",
       "      <td>1001</td>\n",
       "      <td>mickey</td>\n",
       "      <td>wilkerson</td>\n",
       "      <td>28</td>\n",
       "      <td>seattle-tacoma-bellevue, wa msa</td>\n",
       "      <td>2018-08-13</td>\n",
       "      <td>surf</td>\n",
       "      <td>NaT</td>\n",
       "      <td>False</td>\n",
       "    </tr>\n",
       "    <tr>\n",
       "      <th>2</th>\n",
       "      <td>1002</td>\n",
       "      <td>carlee</td>\n",
       "      <td>hoffman</td>\n",
       "      <td>36</td>\n",
       "      <td>las vegas-henderson-paradise, nv msa</td>\n",
       "      <td>2018-10-21</td>\n",
       "      <td>surf</td>\n",
       "      <td>NaT</td>\n",
       "      <td>False</td>\n",
       "    </tr>\n",
       "    <tr>\n",
       "      <th>3</th>\n",
       "      <td>1003</td>\n",
       "      <td>reynaldo</td>\n",
       "      <td>jenkins</td>\n",
       "      <td>52</td>\n",
       "      <td>tulsa, ok msa</td>\n",
       "      <td>2018-01-28</td>\n",
       "      <td>surf</td>\n",
       "      <td>NaT</td>\n",
       "      <td>False</td>\n",
       "    </tr>\n",
       "    <tr>\n",
       "      <th>4</th>\n",
       "      <td>1004</td>\n",
       "      <td>leonila</td>\n",
       "      <td>thompson</td>\n",
       "      <td>40</td>\n",
       "      <td>seattle-tacoma-bellevue, wa msa</td>\n",
       "      <td>2018-05-23</td>\n",
       "      <td>surf</td>\n",
       "      <td>NaT</td>\n",
       "      <td>False</td>\n",
       "    </tr>\n",
       "    <tr>\n",
       "      <th>...</th>\n",
       "      <td>...</td>\n",
       "      <td>...</td>\n",
       "      <td>...</td>\n",
       "      <td>...</td>\n",
       "      <td>...</td>\n",
       "      <td>...</td>\n",
       "      <td>...</td>\n",
       "      <td>...</td>\n",
       "      <td>...</td>\n",
       "    </tr>\n",
       "    <tr>\n",
       "      <th>495</th>\n",
       "      <td>1495</td>\n",
       "      <td>fidel</td>\n",
       "      <td>sharpe</td>\n",
       "      <td>67</td>\n",
       "      <td>new york-newark-jersey city, ny-nj-pa msa</td>\n",
       "      <td>2018-09-04</td>\n",
       "      <td>surf</td>\n",
       "      <td>NaT</td>\n",
       "      <td>True</td>\n",
       "    </tr>\n",
       "    <tr>\n",
       "      <th>496</th>\n",
       "      <td>1496</td>\n",
       "      <td>ariel</td>\n",
       "      <td>shepherd</td>\n",
       "      <td>49</td>\n",
       "      <td>new orleans-metairie, la msa</td>\n",
       "      <td>2018-02-20</td>\n",
       "      <td>surf</td>\n",
       "      <td>NaT</td>\n",
       "      <td>False</td>\n",
       "    </tr>\n",
       "    <tr>\n",
       "      <th>497</th>\n",
       "      <td>1497</td>\n",
       "      <td>donte</td>\n",
       "      <td>barrera</td>\n",
       "      <td>49</td>\n",
       "      <td>los angeles-long beach-anaheim, ca msa</td>\n",
       "      <td>2018-12-10</td>\n",
       "      <td>ultimate</td>\n",
       "      <td>NaT</td>\n",
       "      <td>False</td>\n",
       "    </tr>\n",
       "    <tr>\n",
       "      <th>498</th>\n",
       "      <td>1498</td>\n",
       "      <td>scot</td>\n",
       "      <td>williamson</td>\n",
       "      <td>51</td>\n",
       "      <td>new york-newark-jersey city, ny-nj-pa msa</td>\n",
       "      <td>2018-02-04</td>\n",
       "      <td>surf</td>\n",
       "      <td>NaT</td>\n",
       "      <td>True</td>\n",
       "    </tr>\n",
       "    <tr>\n",
       "      <th>499</th>\n",
       "      <td>1499</td>\n",
       "      <td>shena</td>\n",
       "      <td>dickson</td>\n",
       "      <td>37</td>\n",
       "      <td>orlando-kissimmee-sanford, fl msa</td>\n",
       "      <td>2018-05-06</td>\n",
       "      <td>surf</td>\n",
       "      <td>NaT</td>\n",
       "      <td>False</td>\n",
       "    </tr>\n",
       "  </tbody>\n",
       "</table>\n",
       "<p>500 rows × 9 columns</p>\n",
       "</div>"
      ],
      "text/plain": [
       "     user_id first_name   last_name  age  \\\n",
       "0       1000   anamaria       bauer   45   \n",
       "1       1001     mickey   wilkerson   28   \n",
       "2       1002     carlee     hoffman   36   \n",
       "3       1003   reynaldo     jenkins   52   \n",
       "4       1004    leonila    thompson   40   \n",
       "..       ...        ...         ...  ...   \n",
       "495     1495      fidel      sharpe   67   \n",
       "496     1496      ariel    shepherd   49   \n",
       "497     1497      donte     barrera   49   \n",
       "498     1498       scot  williamson   51   \n",
       "499     1499      shena     dickson   37   \n",
       "\n",
       "                                          city   reg_date      plan  \\\n",
       "0        atlanta-sandy springs-roswell, ga msa 2018-12-24  ultimate   \n",
       "1              seattle-tacoma-bellevue, wa msa 2018-08-13      surf   \n",
       "2         las vegas-henderson-paradise, nv msa 2018-10-21      surf   \n",
       "3                                tulsa, ok msa 2018-01-28      surf   \n",
       "4              seattle-tacoma-bellevue, wa msa 2018-05-23      surf   \n",
       "..                                         ...        ...       ...   \n",
       "495  new york-newark-jersey city, ny-nj-pa msa 2018-09-04      surf   \n",
       "496               new orleans-metairie, la msa 2018-02-20      surf   \n",
       "497     los angeles-long beach-anaheim, ca msa 2018-12-10  ultimate   \n",
       "498  new york-newark-jersey city, ny-nj-pa msa 2018-02-04      surf   \n",
       "499          orlando-kissimmee-sanford, fl msa 2018-05-06      surf   \n",
       "\n",
       "    churn_date  live_in_ny_nj  \n",
       "0          NaT          False  \n",
       "1          NaT          False  \n",
       "2          NaT          False  \n",
       "3          NaT          False  \n",
       "4          NaT          False  \n",
       "..         ...            ...  \n",
       "495        NaT           True  \n",
       "496        NaT          False  \n",
       "497        NaT          False  \n",
       "498        NaT           True  \n",
       "499        NaT          False  \n",
       "\n",
       "[500 rows x 9 columns]"
      ]
     },
     "execution_count": 241,
     "metadata": {},
     "output_type": "execute_result"
    }
   ],
   "source": [
    "df_users"
   ]
  },
  {
   "cell_type": "code",
   "execution_count": 242,
   "id": "fdaca59d",
   "metadata": {},
   "outputs": [
    {
     "data": {
      "text/html": [
       "<div>\n",
       "<style scoped>\n",
       "    .dataframe tbody tr th:only-of-type {\n",
       "        vertical-align: middle;\n",
       "    }\n",
       "\n",
       "    .dataframe tbody tr th {\n",
       "        vertical-align: top;\n",
       "    }\n",
       "\n",
       "    .dataframe thead th {\n",
       "        text-align: right;\n",
       "    }\n",
       "</style>\n",
       "<table border=\"1\" class=\"dataframe\">\n",
       "  <thead>\n",
       "    <tr style=\"text-align: right;\">\n",
       "      <th></th>\n",
       "      <th>user_id</th>\n",
       "      <th>number of calls per month</th>\n",
       "      <th>minutes per month</th>\n",
       "      <th>messages per month</th>\n",
       "      <th>data_used_per_month_round</th>\n",
       "      <th>plan</th>\n",
       "      <th>plan_revenue</th>\n",
       "      <th>messages_revenues</th>\n",
       "      <th>calls_revenues</th>\n",
       "      <th>data_revenues</th>\n",
       "      <th>revenue</th>\n",
       "      <th>live_in_ny_nj</th>\n",
       "    </tr>\n",
       "  </thead>\n",
       "  <tbody>\n",
       "    <tr>\n",
       "      <th>0</th>\n",
       "      <td>1000</td>\n",
       "      <td>16.000000</td>\n",
       "      <td>124.000000</td>\n",
       "      <td>11.000000</td>\n",
       "      <td>2.000000</td>\n",
       "      <td>1.0</td>\n",
       "      <td>70.0</td>\n",
       "      <td>0.000</td>\n",
       "      <td>0.000</td>\n",
       "      <td>0.0</td>\n",
       "      <td>70.000</td>\n",
       "      <td>False</td>\n",
       "    </tr>\n",
       "    <tr>\n",
       "      <th>1</th>\n",
       "      <td>1001</td>\n",
       "      <td>40.400000</td>\n",
       "      <td>345.600000</td>\n",
       "      <td>41.400000</td>\n",
       "      <td>16.600000</td>\n",
       "      <td>0.0</td>\n",
       "      <td>20.0</td>\n",
       "      <td>0.018</td>\n",
       "      <td>0.000</td>\n",
       "      <td>0.0</td>\n",
       "      <td>20.018</td>\n",
       "      <td>False</td>\n",
       "    </tr>\n",
       "    <tr>\n",
       "      <th>2</th>\n",
       "      <td>1002</td>\n",
       "      <td>31.333333</td>\n",
       "      <td>276.333333</td>\n",
       "      <td>29.333333</td>\n",
       "      <td>14.000000</td>\n",
       "      <td>0.0</td>\n",
       "      <td>20.0</td>\n",
       "      <td>0.000</td>\n",
       "      <td>0.000</td>\n",
       "      <td>0.0</td>\n",
       "      <td>20.000</td>\n",
       "      <td>False</td>\n",
       "    </tr>\n",
       "    <tr>\n",
       "      <th>3</th>\n",
       "      <td>1003</td>\n",
       "      <td>118.000000</td>\n",
       "      <td>1104.000000</td>\n",
       "      <td>50.000000</td>\n",
       "      <td>28.000000</td>\n",
       "      <td>0.0</td>\n",
       "      <td>20.0</td>\n",
       "      <td>0.000</td>\n",
       "      <td>18.120</td>\n",
       "      <td>0.0</td>\n",
       "      <td>38.120</td>\n",
       "      <td>False</td>\n",
       "    </tr>\n",
       "    <tr>\n",
       "      <th>4</th>\n",
       "      <td>1004</td>\n",
       "      <td>38.250000</td>\n",
       "      <td>346.500000</td>\n",
       "      <td>22.125000</td>\n",
       "      <td>19.875000</td>\n",
       "      <td>0.0</td>\n",
       "      <td>20.0</td>\n",
       "      <td>0.000</td>\n",
       "      <td>0.000</td>\n",
       "      <td>0.0</td>\n",
       "      <td>20.000</td>\n",
       "      <td>False</td>\n",
       "    </tr>\n",
       "    <tr>\n",
       "      <th>...</th>\n",
       "      <td>...</td>\n",
       "      <td>...</td>\n",
       "      <td>...</td>\n",
       "      <td>...</td>\n",
       "      <td>...</td>\n",
       "      <td>...</td>\n",
       "      <td>...</td>\n",
       "      <td>...</td>\n",
       "      <td>...</td>\n",
       "      <td>...</td>\n",
       "      <td>...</td>\n",
       "      <td>...</td>\n",
       "    </tr>\n",
       "    <tr>\n",
       "      <th>485</th>\n",
       "      <td>1495</td>\n",
       "      <td>52.000000</td>\n",
       "      <td>441.250000</td>\n",
       "      <td>0.000000</td>\n",
       "      <td>25.000000</td>\n",
       "      <td>0.0</td>\n",
       "      <td>20.0</td>\n",
       "      <td>0.000</td>\n",
       "      <td>0.825</td>\n",
       "      <td>0.0</td>\n",
       "      <td>20.825</td>\n",
       "      <td>True</td>\n",
       "    </tr>\n",
       "    <tr>\n",
       "      <th>486</th>\n",
       "      <td>1496</td>\n",
       "      <td>31.600000</td>\n",
       "      <td>291.000000</td>\n",
       "      <td>13.000000</td>\n",
       "      <td>13.400000</td>\n",
       "      <td>0.0</td>\n",
       "      <td>20.0</td>\n",
       "      <td>0.000</td>\n",
       "      <td>0.000</td>\n",
       "      <td>0.0</td>\n",
       "      <td>20.000</td>\n",
       "      <td>False</td>\n",
       "    </tr>\n",
       "    <tr>\n",
       "      <th>487</th>\n",
       "      <td>1497</td>\n",
       "      <td>42.000000</td>\n",
       "      <td>300.000000</td>\n",
       "      <td>50.000000</td>\n",
       "      <td>12.000000</td>\n",
       "      <td>1.0</td>\n",
       "      <td>70.0</td>\n",
       "      <td>0.000</td>\n",
       "      <td>0.000</td>\n",
       "      <td>0.0</td>\n",
       "      <td>70.000</td>\n",
       "      <td>False</td>\n",
       "    </tr>\n",
       "    <tr>\n",
       "      <th>488</th>\n",
       "      <td>1498</td>\n",
       "      <td>33.727273</td>\n",
       "      <td>291.909091</td>\n",
       "      <td>0.000000</td>\n",
       "      <td>21.090909</td>\n",
       "      <td>0.0</td>\n",
       "      <td>20.0</td>\n",
       "      <td>0.000</td>\n",
       "      <td>0.000</td>\n",
       "      <td>0.0</td>\n",
       "      <td>20.000</td>\n",
       "      <td>True</td>\n",
       "    </tr>\n",
       "    <tr>\n",
       "      <th>489</th>\n",
       "      <td>1499</td>\n",
       "      <td>42.750000</td>\n",
       "      <td>383.750000</td>\n",
       "      <td>0.000000</td>\n",
       "      <td>18.250000</td>\n",
       "      <td>0.0</td>\n",
       "      <td>20.0</td>\n",
       "      <td>0.000</td>\n",
       "      <td>0.000</td>\n",
       "      <td>0.0</td>\n",
       "      <td>20.000</td>\n",
       "      <td>False</td>\n",
       "    </tr>\n",
       "  </tbody>\n",
       "</table>\n",
       "<p>490 rows × 12 columns</p>\n",
       "</div>"
      ],
      "text/plain": [
       "     user_id  number of calls per month  minutes per month  \\\n",
       "0       1000                  16.000000         124.000000   \n",
       "1       1001                  40.400000         345.600000   \n",
       "2       1002                  31.333333         276.333333   \n",
       "3       1003                 118.000000        1104.000000   \n",
       "4       1004                  38.250000         346.500000   \n",
       "..       ...                        ...                ...   \n",
       "485     1495                  52.000000         441.250000   \n",
       "486     1496                  31.600000         291.000000   \n",
       "487     1497                  42.000000         300.000000   \n",
       "488     1498                  33.727273         291.909091   \n",
       "489     1499                  42.750000         383.750000   \n",
       "\n",
       "     messages per month  data_used_per_month_round  plan  plan_revenue  \\\n",
       "0             11.000000                   2.000000   1.0          70.0   \n",
       "1             41.400000                  16.600000   0.0          20.0   \n",
       "2             29.333333                  14.000000   0.0          20.0   \n",
       "3             50.000000                  28.000000   0.0          20.0   \n",
       "4             22.125000                  19.875000   0.0          20.0   \n",
       "..                  ...                        ...   ...           ...   \n",
       "485            0.000000                  25.000000   0.0          20.0   \n",
       "486           13.000000                  13.400000   0.0          20.0   \n",
       "487           50.000000                  12.000000   1.0          70.0   \n",
       "488            0.000000                  21.090909   0.0          20.0   \n",
       "489            0.000000                  18.250000   0.0          20.0   \n",
       "\n",
       "     messages_revenues  calls_revenues  data_revenues  revenue  live_in_ny_nj  \n",
       "0                0.000           0.000            0.0   70.000          False  \n",
       "1                0.018           0.000            0.0   20.018          False  \n",
       "2                0.000           0.000            0.0   20.000          False  \n",
       "3                0.000          18.120            0.0   38.120          False  \n",
       "4                0.000           0.000            0.0   20.000          False  \n",
       "..                 ...             ...            ...      ...            ...  \n",
       "485              0.000           0.825            0.0   20.825           True  \n",
       "486              0.000           0.000            0.0   20.000          False  \n",
       "487              0.000           0.000            0.0   70.000          False  \n",
       "488              0.000           0.000            0.0   20.000           True  \n",
       "489              0.000           0.000            0.0   20.000          False  \n",
       "\n",
       "[490 rows x 12 columns]"
      ]
     },
     "execution_count": 242,
     "metadata": {},
     "output_type": "execute_result"
    }
   ],
   "source": [
    "grouped_data_with_ny_nj = pd.merge(grouped_data_per_user, df_users[[\"user_id\",\"live_in_ny_nj\"]], left_on=[\"user_id\"],right_on=[\"user_id\"])\n",
    "grouped_data_with_ny_nj"
   ]
  },
  {
   "cell_type": "code",
   "execution_count": 243,
   "id": "0aa92404",
   "metadata": {},
   "outputs": [
    {
     "name": "stdout",
     "output_type": "stream",
     "text": [
      "p-value:  0.07690040065898822\n",
      "We can't reject the null hypothesis\n"
     ]
    }
   ],
   "source": [
    "from scipy import stats as st\n",
    "import numpy as np\n",
    "\n",
    "alpha = 0.05  # critical statistical significance level\n",
    "# if the p-value is less than alpha, we reject the hypothesis\n",
    "arr1= grouped_data_with_ny_nj.query(\"live_in_ny_nj\")[\"revenue\"]\n",
    "arr2= grouped_data_with_ny_nj.query(\"not live_in_ny_nj\")[\"revenue\"]\n",
    "\n",
    "results = st.ttest_ind(arr1, arr2,equal_var=False)\n",
    "\n",
    "print('p-value: ', results.pvalue)\n",
    "\n",
    "if results.pvalue < alpha:\n",
    "    print(\"We reject the null hypothesis\")\n",
    "else:\n",
    "    print(\"We can't reject the null hypothesis\") "
   ]
  },
  {
   "cell_type": "markdown",
   "id": "acfa7290",
   "metadata": {},
   "source": [
    "### because p>0.05 we can't reject the null hypothesis, and we haven't enough evidence that there is difference between the means."
   ]
  },
  {
   "cell_type": "markdown",
   "id": "be935b3b",
   "metadata": {},
   "source": [
    "<div class=\"alert alert-success\" role=\"alert\">\n",
    "<b>Reviewer's comment v1:</b>\n",
    "    \n",
    "- Great job! Hypotheses hav been formulated and tested correctly. Great that you additionally checked data that has been used for the test. \n",
    "- You can also use test to check data distribution type (e.g. Shapiro Wilk test). You can check various tests that can be used - https://towardsdatascience.com/6-ways-to-test-for-a-normal-distribution-which-one-to-use-9dcf47d8fa93"
   ]
  },
  {
   "cell_type": "markdown",
   "id": "39d85269",
   "metadata": {},
   "source": [
    "# Conclusion:\n",
    "    * Megaline company have two plans (\"surf\" and \"ultimate\") and we checked the differences between them.\n",
    "    * we saw that there are differences between the two plans of Megaline: \n",
    "      almost all the users of \"ultimate\" plan pays 70, and it's much more than the users of surf, even if they break the limits !\n",
    "    * later we checked assumptions by statistical methods and we saw that with 5% alpha value we could reject the null hypothesis (we rejected that there isn't a difference between the plans)\n",
    "    * we checked too the assumption that people in NY-NJ  paying more than others, and we couldn't reject the 0 assumption (we couldnt reject that there isn't a different)\n",
    "    \n",
    "    \n"
   ]
  },
  {
   "cell_type": "markdown",
   "id": "9f6d8aa1",
   "metadata": {},
   "source": [
    "<div class=\"alert alert-block alert-warning\">\n",
    "<b>Reviewer's comment v1</b>\n",
    " \n",
    "Overall you conducted great research with correct interim findings, clean code and nice visualisation.\n",
    "\n",
    "- Nevertheless, general conclusions represent the overall work progress that you achieved. On a real project, this is probably the only thing the business stakeholders will read. Therefore, it is crucial to indicate in a structured way all conclusions that you made on each step in the project.\n",
    "It is also important to provide explanations and interpretations that will be interesting for business based on your analysis (a detailed description of the average user per each plan, which client group brings more additional revenue, which group brings more revenue in the total revenue).\n",
    "</div>"
   ]
  },
  {
   "cell_type": "markdown",
   "id": "29226ef1",
   "metadata": {},
   "source": [
    "<div class=\"alert alert-info\"> <b>good advice ! I took it to my attention. next time i would invest more efforts in the conclusions. <br>\n",
    "    thank you again on the good checking</b></div>  "
   ]
  },
  {
   "cell_type": "code",
   "execution_count": null,
   "id": "d86d4835",
   "metadata": {},
   "outputs": [],
   "source": []
  }
 ],
 "metadata": {
  "ExecuteTimeLog": [
   {
    "duration": 3445,
    "start_time": "2021-06-28T13:05:21.708Z"
   },
   {
    "duration": 3326,
    "start_time": "2021-06-28T13:05:25.156Z"
   },
   {
    "duration": 1349,
    "start_time": "2021-06-28T13:05:28.485Z"
   },
   {
    "duration": 3392,
    "start_time": "2021-06-28T13:05:29.837Z"
   },
   {
    "duration": 1416,
    "start_time": "2021-06-28T13:05:33.231Z"
   },
   {
    "duration": 619,
    "start_time": "2021-06-28T13:05:34.649Z"
   },
   {
    "duration": 20,
    "start_time": "2021-06-28T13:05:35.270Z"
   },
   {
    "duration": 19,
    "start_time": "2021-06-28T13:05:35.294Z"
   },
   {
    "duration": 12,
    "start_time": "2021-06-28T13:05:35.316Z"
   },
   {
    "duration": 11,
    "start_time": "2021-06-28T13:05:35.331Z"
   },
   {
    "duration": 15,
    "start_time": "2021-06-28T13:05:35.345Z"
   },
   {
    "duration": 47,
    "start_time": "2021-06-28T13:05:35.362Z"
   },
   {
    "duration": 18,
    "start_time": "2021-06-28T13:05:35.411Z"
   },
   {
    "duration": 34,
    "start_time": "2021-06-28T13:05:35.432Z"
   },
   {
    "duration": 7,
    "start_time": "2021-06-28T13:05:35.469Z"
   },
   {
    "duration": 132,
    "start_time": "2021-06-28T13:05:35.479Z"
   },
   {
    "duration": 11,
    "start_time": "2021-06-28T13:05:35.614Z"
   },
   {
    "duration": 28,
    "start_time": "2021-06-28T13:05:35.627Z"
   },
   {
    "duration": 55,
    "start_time": "2021-06-28T13:05:35.658Z"
   },
   {
    "duration": 5,
    "start_time": "2021-06-28T13:05:35.715Z"
   },
   {
    "duration": 21,
    "start_time": "2021-06-28T13:05:35.722Z"
   },
   {
    "duration": 18,
    "start_time": "2021-06-28T13:05:35.746Z"
   },
   {
    "duration": 861,
    "start_time": "2021-06-28T13:05:35.770Z"
   },
   {
    "duration": 846,
    "start_time": "2021-06-28T13:05:36.635Z"
   },
   {
    "duration": 61,
    "start_time": "2021-06-28T13:05:37.484Z"
   },
   {
    "duration": 15,
    "start_time": "2021-06-28T13:05:37.547Z"
   },
   {
    "duration": 5,
    "start_time": "2021-06-28T13:05:37.564Z"
   },
   {
    "duration": 51,
    "start_time": "2021-06-28T13:05:37.571Z"
   },
   {
    "duration": 1403,
    "start_time": "2021-06-28T13:05:37.624Z"
   },
   {
    "duration": 13,
    "start_time": "2021-06-28T13:05:39.029Z"
   },
   {
    "duration": 30,
    "start_time": "2021-06-28T13:05:39.044Z"
   },
   {
    "duration": 44,
    "start_time": "2021-06-28T13:05:39.077Z"
   },
   {
    "duration": 5,
    "start_time": "2021-06-28T13:05:39.124Z"
   },
   {
    "duration": 819,
    "start_time": "2021-06-28T13:05:39.132Z"
   },
   {
    "duration": 11,
    "start_time": "2021-06-28T13:05:39.954Z"
   },
   {
    "duration": 825,
    "start_time": "2021-06-28T13:05:39.968Z"
   },
   {
    "duration": 21,
    "start_time": "2021-06-28T13:05:40.796Z"
   },
   {
    "duration": 21,
    "start_time": "2021-06-28T13:05:40.820Z"
   },
   {
    "duration": 7,
    "start_time": "2021-06-28T13:05:40.843Z"
   },
   {
    "duration": 21,
    "start_time": "2021-06-28T13:05:40.852Z"
   },
   {
    "duration": 42,
    "start_time": "2021-06-28T13:05:40.875Z"
   },
   {
    "duration": 20,
    "start_time": "2021-06-28T13:05:40.920Z"
   },
   {
    "duration": 7,
    "start_time": "2021-06-28T13:05:40.942Z"
   },
   {
    "duration": 24,
    "start_time": "2021-06-28T13:05:40.951Z"
   },
   {
    "duration": 43,
    "start_time": "2021-06-28T13:05:40.978Z"
   },
   {
    "duration": 18,
    "start_time": "2021-06-28T13:05:41.024Z"
   },
   {
    "duration": 17,
    "start_time": "2021-06-28T13:05:41.045Z"
   },
   {
    "duration": 696,
    "start_time": "2021-06-28T13:05:41.065Z"
   },
   {
    "duration": 63,
    "start_time": "2021-06-28T13:05:41.764Z"
   },
   {
    "duration": 32,
    "start_time": "2021-06-28T13:05:41.831Z"
   },
   {
    "duration": 63,
    "start_time": "2021-06-28T13:05:41.866Z"
   },
   {
    "duration": 28,
    "start_time": "2021-06-28T13:05:41.932Z"
   },
   {
    "duration": 58,
    "start_time": "2021-06-28T13:05:41.963Z"
   },
   {
    "duration": 7,
    "start_time": "2021-06-28T13:05:42.024Z"
   },
   {
    "duration": 25,
    "start_time": "2021-06-28T13:05:42.033Z"
   },
   {
    "duration": 51,
    "start_time": "2021-06-28T13:05:42.061Z"
   },
   {
    "duration": 7,
    "start_time": "2021-06-28T13:05:42.115Z"
   },
   {
    "duration": 27,
    "start_time": "2021-06-28T13:05:42.125Z"
   },
   {
    "duration": 879,
    "start_time": "2021-06-28T13:05:42.155Z"
   },
   {
    "duration": 29,
    "start_time": "2021-06-28T13:05:43.037Z"
   },
   {
    "duration": 52,
    "start_time": "2021-06-28T13:05:43.068Z"
   },
   {
    "duration": 560,
    "start_time": "2021-06-28T13:05:43.122Z"
   },
   {
    "duration": 760,
    "start_time": "2021-06-28T13:05:43.685Z"
   },
   {
    "duration": 574,
    "start_time": "2021-06-28T13:05:44.448Z"
   },
   {
    "duration": 822,
    "start_time": "2021-06-28T13:05:45.024Z"
   },
   {
    "duration": 560,
    "start_time": "2021-06-28T13:05:45.849Z"
   },
   {
    "duration": 447,
    "start_time": "2021-06-28T13:05:46.411Z"
   },
   {
    "duration": 363,
    "start_time": "2021-06-28T13:05:46.865Z"
   },
   {
    "duration": 441,
    "start_time": "2021-06-28T13:05:47.231Z"
   },
   {
    "duration": 35,
    "start_time": "2021-06-28T13:05:47.674Z"
   },
   {
    "duration": 20,
    "start_time": "2021-06-28T13:05:47.712Z"
   },
   {
    "duration": 17,
    "start_time": "2021-06-28T13:05:47.735Z"
   },
   {
    "duration": 24,
    "start_time": "2021-06-28T13:05:47.755Z"
   },
   {
    "duration": 38,
    "start_time": "2021-06-28T13:05:47.782Z"
   },
   {
    "duration": 30,
    "start_time": "2021-06-28T13:05:47.822Z"
   },
   {
    "duration": 56,
    "start_time": "2021-06-28T13:05:47.854Z"
   },
   {
    "duration": 14,
    "start_time": "2021-06-28T13:05:47.913Z"
   },
   {
    "duration": 20,
    "start_time": "2021-06-28T13:28:20.849Z"
   },
   {
    "duration": 149,
    "start_time": "2021-06-28T13:35:53.554Z"
   },
   {
    "duration": 11,
    "start_time": "2021-06-28T13:38:01.448Z"
   },
   {
    "duration": 3476,
    "start_time": "2021-06-28T13:47:08.022Z"
   },
   {
    "duration": 3654,
    "start_time": "2021-06-28T13:47:11.501Z"
   },
   {
    "duration": 1553,
    "start_time": "2021-06-28T13:47:15.158Z"
   },
   {
    "duration": 3617,
    "start_time": "2021-06-28T13:47:16.714Z"
   },
   {
    "duration": 4,
    "start_time": "2021-06-28T13:47:20.334Z"
   },
   {
    "duration": 617,
    "start_time": "2021-06-28T13:47:20.341Z"
   },
   {
    "duration": 15,
    "start_time": "2021-06-28T13:47:20.960Z"
   },
   {
    "duration": 14,
    "start_time": "2021-06-28T13:47:20.978Z"
   },
   {
    "duration": 13,
    "start_time": "2021-06-28T13:47:20.997Z"
   },
   {
    "duration": 7,
    "start_time": "2021-06-28T13:47:21.013Z"
   },
   {
    "duration": 14,
    "start_time": "2021-06-28T13:47:21.023Z"
   },
   {
    "duration": 27,
    "start_time": "2021-06-28T13:47:21.040Z"
   },
   {
    "duration": 14,
    "start_time": "2021-06-28T13:47:21.070Z"
   },
   {
    "duration": 24,
    "start_time": "2021-06-28T13:47:21.110Z"
   },
   {
    "duration": 19,
    "start_time": "2021-06-28T13:47:21.137Z"
   },
   {
    "duration": 134,
    "start_time": "2021-06-28T13:47:21.159Z"
   },
   {
    "duration": 20,
    "start_time": "2021-06-28T13:47:21.295Z"
   },
   {
    "duration": 25,
    "start_time": "2021-06-28T13:47:21.318Z"
   },
   {
    "duration": 28,
    "start_time": "2021-06-28T13:47:21.345Z"
   },
   {
    "duration": 34,
    "start_time": "2021-06-28T13:47:21.375Z"
   },
   {
    "duration": 13,
    "start_time": "2021-06-28T13:47:21.412Z"
   },
   {
    "duration": 16,
    "start_time": "2021-06-28T13:47:21.428Z"
   },
   {
    "duration": 870,
    "start_time": "2021-06-28T13:47:21.446Z"
   },
   {
    "duration": 877,
    "start_time": "2021-06-28T13:47:22.319Z"
   },
   {
    "duration": 45,
    "start_time": "2021-06-28T13:47:23.200Z"
   },
   {
    "duration": 19,
    "start_time": "2021-06-28T13:47:23.248Z"
   },
   {
    "duration": 6,
    "start_time": "2021-06-28T13:47:23.311Z"
   },
   {
    "duration": 26,
    "start_time": "2021-06-28T13:47:23.321Z"
   },
   {
    "duration": 1574,
    "start_time": "2021-06-28T13:47:23.350Z"
   },
   {
    "duration": 11,
    "start_time": "2021-06-28T13:47:24.927Z"
   },
   {
    "duration": 31,
    "start_time": "2021-06-28T13:47:24.941Z"
   },
   {
    "duration": 42,
    "start_time": "2021-06-28T13:47:24.974Z"
   },
   {
    "duration": 5,
    "start_time": "2021-06-28T13:47:25.019Z"
   },
   {
    "duration": 828,
    "start_time": "2021-06-28T13:47:25.027Z"
   },
   {
    "duration": 11,
    "start_time": "2021-06-28T13:47:25.858Z"
   },
   {
    "duration": 830,
    "start_time": "2021-06-28T13:47:25.872Z"
   },
   {
    "duration": 24,
    "start_time": "2021-06-28T13:47:26.709Z"
   },
   {
    "duration": 29,
    "start_time": "2021-06-28T13:47:26.735Z"
   },
   {
    "duration": 7,
    "start_time": "2021-06-28T13:47:26.767Z"
   },
   {
    "duration": 11,
    "start_time": "2021-06-28T13:47:26.808Z"
   },
   {
    "duration": 18,
    "start_time": "2021-06-28T13:47:26.822Z"
   },
   {
    "duration": 19,
    "start_time": "2021-06-28T13:47:26.842Z"
   },
   {
    "duration": 7,
    "start_time": "2021-06-28T13:47:26.863Z"
   },
   {
    "duration": 44,
    "start_time": "2021-06-28T13:47:26.872Z"
   },
   {
    "duration": 21,
    "start_time": "2021-06-28T13:47:26.920Z"
   },
   {
    "duration": 17,
    "start_time": "2021-06-28T13:47:26.944Z"
   },
   {
    "duration": 51,
    "start_time": "2021-06-28T13:47:26.963Z"
   },
   {
    "duration": 704,
    "start_time": "2021-06-28T13:47:27.017Z"
   },
   {
    "duration": 47,
    "start_time": "2021-06-28T13:47:27.724Z"
   },
   {
    "duration": 52,
    "start_time": "2021-06-28T13:47:27.773Z"
   },
   {
    "duration": 40,
    "start_time": "2021-06-28T13:47:27.828Z"
   },
   {
    "duration": 53,
    "start_time": "2021-06-28T13:47:27.872Z"
   },
   {
    "duration": 32,
    "start_time": "2021-06-28T13:47:29.241Z"
   },
   {
    "duration": 10,
    "start_time": "2021-06-28T13:47:30.434Z"
   },
   {
    "duration": 19,
    "start_time": "2021-06-28T13:47:31.353Z"
   },
   {
    "duration": 26,
    "start_time": "2021-06-28T13:47:31.854Z"
   },
   {
    "duration": 8,
    "start_time": "2021-06-28T13:47:32.041Z"
   },
   {
    "duration": 26,
    "start_time": "2021-06-28T13:47:32.253Z"
   },
   {
    "duration": 860,
    "start_time": "2021-06-28T13:47:34.527Z"
   },
   {
    "duration": 28,
    "start_time": "2021-06-28T13:47:37.397Z"
   },
   {
    "duration": 22,
    "start_time": "2021-06-28T13:48:17.450Z"
   },
   {
    "duration": 26,
    "start_time": "2021-06-28T13:48:52.351Z"
   },
   {
    "duration": 34,
    "start_time": "2021-06-28T13:49:01.801Z"
   }
  ],
  "kernelspec": {
   "display_name": "Python 3",
   "language": "python",
   "name": "python3"
  },
  "language_info": {
   "codemirror_mode": {
    "name": "ipython",
    "version": 3
   },
   "file_extension": ".py",
   "mimetype": "text/x-python",
   "name": "python",
   "nbconvert_exporter": "python",
   "pygments_lexer": "ipython3",
   "version": "3.8.8"
  },
  "toc": {
   "base_numbering": 1,
   "nav_menu": {},
   "number_sections": true,
   "sideBar": true,
   "skip_h1_title": true,
   "title_cell": "Table of Contents",
   "title_sidebar": "Contents",
   "toc_cell": false,
   "toc_position": {},
   "toc_section_display": true,
   "toc_window_display": false
  }
 },
 "nbformat": 4,
 "nbformat_minor": 5
}
