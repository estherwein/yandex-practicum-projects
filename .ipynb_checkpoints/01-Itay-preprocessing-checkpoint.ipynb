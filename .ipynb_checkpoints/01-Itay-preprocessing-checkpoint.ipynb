{
 "cells": [
  {
   "cell_type": "markdown",
   "metadata": {},
   "source": [
    "<div style=\"border:solid Chocolate 2px; padding: 40px\">\n",
    "\n",
    "<b>Hello, Itay!👋 How are you today?</b>\n",
    "    \n",
    "My name is Arina U. and I am glad to be your reviewer in this project! Nice to meet you!<br />\n",
    "\n",
    "\n",
    "You can find my comments in <font color='green'>green</font>, <font color='gold'>yellow</font> and <font color='red'>red</font> boxes. Examples you can see below:\n",
    "    \n",
    "<div class=\"alert alert-block alert-success\">\n",
    "    <h2>Reviewer's commentary <a class=\"tocSkip\"> </h2>\n",
    "    <br/>\n",
    "<b>Well done!👍:</b> In case if task is completely correct and everything is alright!\n",
    "</div>\n",
    "\n",
    "\n",
    "<div class=\"alert alert-block alert-warning\">\n",
    "   <h2>Reviewer's commentary <a class=\"tocSkip\"> </h2>\n",
    "    <br/>\n",
    "<b>Remarks and recommendations📌:</b>  In case when I can give some advice that can help you to improve your work or recommend you some useful links and resources that can help you widen your knowledge and help in future tasks.\n",
    "</div>\n",
    "\n",
    "<div class=\"alert alert-block alert-danger\">\n",
    "    <h2>Reviewer's commentary <a class=\"tocSkip\"> </h2>\n",
    "    <br/>\n",
    "<b>Needs fixing!🤔:</b> In case when step requires some extra work and some corrections. Project can't be accepted with comments in the red boxes\n",
    "</div>\n",
    "\n",
    "Please pay attention to not move or change my comments. It would be good to highlight your answers in some way. \n",
    "\n",
    "#### <font color='Purple'>Student's commentary:</font> for example like this <a class=\"tocSkip\"> </div>\n",
    "    \n",
    "OK, now let's go!😏\n",
    "</font>"
   ]
  },
  {
   "cell_type": "markdown",
   "metadata": {},
   "source": [
    "# Analyzing borrowers’ risk of defaulting\n",
    "\n",
    "Your project is to prepare a report for a bank’s loan division. You’ll need to find out if a customer’s marital status and number of children has an impact on whether they will default on a loan. The bank already has some data on customers’ credit worthiness.\n",
    "\n",
    "Your report will be considered when building a **credit scoring** of a potential customer. A ** credit scoring ** is used to evaluate the ability of a potential borrower to repay their loan.\n",
    "\n",
    "**analysis Plan**\n",
    "\n",
    "* I will look at the data withe value counts\n",
    "* clean the data:\n",
    "    * na values\n",
    "    * duplicates\n",
    "    * change datatypes\n",
    "    * categorize data to better understand \n",
    "* analyze correlation between:\n",
    "    * debt and family status\n",
    "    * debt and number of children\n",
    "    * debt and income level\n",
    "\n",
    "\n",
    "\n",
    "--------------------------------------------\n",
    "**To Arina**\n",
    "\n",
    "Who is Amir?\n",
    "\n",
    "And this intro was here in the notebook before I started.\n",
    "\n",
    "--------------------------------------------"
   ]
  },
  {
   "cell_type": "markdown",
   "metadata": {},
   "source": [
    "\n",
    "<div class=\"alert alert-block alert-warning\">\n",
    "   <h2>Reviewer's commentary <a class=\"tocSkip\"> </h2>\n",
    "    <br/>\n",
    "<b>Remarks and recommendations📌:</b>\n",
    "\n",
    "Ok, Itay,  it is great that you started your project with the short introduction, but it is also important to fix the main aim of the project and include the content plan of your analysis🙂"
   ]
  },
  {
   "cell_type": "markdown",
   "metadata": {},
   "source": [
    "    \n",
    "<div class=\"alert alert-block alert-success\">\n",
    "    <h2>Reviewer's commentary: second iteration of the review <a class=\"tocSkip\"> </h2>\n",
    "    <br/>\n",
    "<b>Well done!👍:</b> \n",
    "        \n",
    "Itay, hello again! I am sorry for this mistake for a mistake in the name! Ok, this time I can see your introduction but at the first iteration of the review there was only the common description. But ok, this time everything is in place, so, let's look at your improvements!"
   ]
  },
  {
   "cell_type": "markdown",
   "metadata": {},
   "source": [
    "## Open the data file and have a look at the general information. "
   ]
  },
  {
   "cell_type": "code",
   "execution_count": 1,
   "metadata": {},
   "outputs": [
    {
     "name": "stdout",
     "output_type": "stream",
     "text": [
      "<class 'pandas.core.frame.DataFrame'>\n",
      "RangeIndex: 21525 entries, 0 to 21524\n",
      "Data columns (total 12 columns):\n",
      "children            21525 non-null int64\n",
      "days_employed       19351 non-null float64\n",
      "dob_years           21525 non-null int64\n",
      "education           21525 non-null object\n",
      "education_id        21525 non-null int64\n",
      "family_status       21525 non-null object\n",
      "family_status_id    21525 non-null int64\n",
      "gender              21525 non-null object\n",
      "income_type         21525 non-null object\n",
      "debt                21525 non-null int64\n",
      "total_income        19351 non-null float64\n",
      "purpose             21525 non-null object\n",
      "dtypes: float64(2), int64(5), object(5)\n",
      "memory usage: 2.0+ MB\n"
     ]
    },
    {
     "data": {
      "text/html": [
       "<div>\n",
       "<style scoped>\n",
       "    .dataframe tbody tr th:only-of-type {\n",
       "        vertical-align: middle;\n",
       "    }\n",
       "\n",
       "    .dataframe tbody tr th {\n",
       "        vertical-align: top;\n",
       "    }\n",
       "\n",
       "    .dataframe thead th {\n",
       "        text-align: right;\n",
       "    }\n",
       "</style>\n",
       "<table border=\"1\" class=\"dataframe\">\n",
       "  <thead>\n",
       "    <tr style=\"text-align: right;\">\n",
       "      <th></th>\n",
       "      <th>children</th>\n",
       "      <th>days_employed</th>\n",
       "      <th>dob_years</th>\n",
       "      <th>education</th>\n",
       "      <th>education_id</th>\n",
       "      <th>family_status</th>\n",
       "      <th>family_status_id</th>\n",
       "      <th>gender</th>\n",
       "      <th>income_type</th>\n",
       "      <th>debt</th>\n",
       "      <th>total_income</th>\n",
       "      <th>purpose</th>\n",
       "    </tr>\n",
       "  </thead>\n",
       "  <tbody>\n",
       "    <tr>\n",
       "      <td>0</td>\n",
       "      <td>1</td>\n",
       "      <td>-8437.673028</td>\n",
       "      <td>42</td>\n",
       "      <td>bachelor's degree</td>\n",
       "      <td>0</td>\n",
       "      <td>married</td>\n",
       "      <td>0</td>\n",
       "      <td>F</td>\n",
       "      <td>employee</td>\n",
       "      <td>0</td>\n",
       "      <td>40620.102</td>\n",
       "      <td>purchase of the house</td>\n",
       "    </tr>\n",
       "    <tr>\n",
       "      <td>1</td>\n",
       "      <td>1</td>\n",
       "      <td>-4024.803754</td>\n",
       "      <td>36</td>\n",
       "      <td>secondary education</td>\n",
       "      <td>1</td>\n",
       "      <td>married</td>\n",
       "      <td>0</td>\n",
       "      <td>F</td>\n",
       "      <td>employee</td>\n",
       "      <td>0</td>\n",
       "      <td>17932.802</td>\n",
       "      <td>car purchase</td>\n",
       "    </tr>\n",
       "    <tr>\n",
       "      <td>2</td>\n",
       "      <td>0</td>\n",
       "      <td>-5623.422610</td>\n",
       "      <td>33</td>\n",
       "      <td>Secondary Education</td>\n",
       "      <td>1</td>\n",
       "      <td>married</td>\n",
       "      <td>0</td>\n",
       "      <td>M</td>\n",
       "      <td>employee</td>\n",
       "      <td>0</td>\n",
       "      <td>23341.752</td>\n",
       "      <td>purchase of the house</td>\n",
       "    </tr>\n",
       "    <tr>\n",
       "      <td>3</td>\n",
       "      <td>3</td>\n",
       "      <td>-4124.747207</td>\n",
       "      <td>32</td>\n",
       "      <td>secondary education</td>\n",
       "      <td>1</td>\n",
       "      <td>married</td>\n",
       "      <td>0</td>\n",
       "      <td>M</td>\n",
       "      <td>employee</td>\n",
       "      <td>0</td>\n",
       "      <td>42820.568</td>\n",
       "      <td>supplementary education</td>\n",
       "    </tr>\n",
       "    <tr>\n",
       "      <td>4</td>\n",
       "      <td>0</td>\n",
       "      <td>340266.072047</td>\n",
       "      <td>53</td>\n",
       "      <td>secondary education</td>\n",
       "      <td>1</td>\n",
       "      <td>civil partnership</td>\n",
       "      <td>1</td>\n",
       "      <td>F</td>\n",
       "      <td>retiree</td>\n",
       "      <td>0</td>\n",
       "      <td>25378.572</td>\n",
       "      <td>to have a wedding</td>\n",
       "    </tr>\n",
       "    <tr>\n",
       "      <td>5</td>\n",
       "      <td>0</td>\n",
       "      <td>-926.185831</td>\n",
       "      <td>27</td>\n",
       "      <td>bachelor's degree</td>\n",
       "      <td>0</td>\n",
       "      <td>civil partnership</td>\n",
       "      <td>1</td>\n",
       "      <td>M</td>\n",
       "      <td>business</td>\n",
       "      <td>0</td>\n",
       "      <td>40922.170</td>\n",
       "      <td>purchase of the house</td>\n",
       "    </tr>\n",
       "    <tr>\n",
       "      <td>6</td>\n",
       "      <td>0</td>\n",
       "      <td>-2879.202052</td>\n",
       "      <td>43</td>\n",
       "      <td>bachelor's degree</td>\n",
       "      <td>0</td>\n",
       "      <td>married</td>\n",
       "      <td>0</td>\n",
       "      <td>F</td>\n",
       "      <td>business</td>\n",
       "      <td>0</td>\n",
       "      <td>38484.156</td>\n",
       "      <td>housing transactions</td>\n",
       "    </tr>\n",
       "    <tr>\n",
       "      <td>7</td>\n",
       "      <td>0</td>\n",
       "      <td>-152.779569</td>\n",
       "      <td>50</td>\n",
       "      <td>SECONDARY EDUCATION</td>\n",
       "      <td>1</td>\n",
       "      <td>married</td>\n",
       "      <td>0</td>\n",
       "      <td>M</td>\n",
       "      <td>employee</td>\n",
       "      <td>0</td>\n",
       "      <td>21731.829</td>\n",
       "      <td>education</td>\n",
       "    </tr>\n",
       "    <tr>\n",
       "      <td>8</td>\n",
       "      <td>2</td>\n",
       "      <td>-6929.865299</td>\n",
       "      <td>35</td>\n",
       "      <td>BACHELOR'S DEGREE</td>\n",
       "      <td>0</td>\n",
       "      <td>civil partnership</td>\n",
       "      <td>1</td>\n",
       "      <td>F</td>\n",
       "      <td>employee</td>\n",
       "      <td>0</td>\n",
       "      <td>15337.093</td>\n",
       "      <td>having a wedding</td>\n",
       "    </tr>\n",
       "    <tr>\n",
       "      <td>9</td>\n",
       "      <td>0</td>\n",
       "      <td>-2188.756445</td>\n",
       "      <td>41</td>\n",
       "      <td>secondary education</td>\n",
       "      <td>1</td>\n",
       "      <td>married</td>\n",
       "      <td>0</td>\n",
       "      <td>M</td>\n",
       "      <td>employee</td>\n",
       "      <td>0</td>\n",
       "      <td>23108.150</td>\n",
       "      <td>purchase of the house for my family</td>\n",
       "    </tr>\n",
       "  </tbody>\n",
       "</table>\n",
       "</div>"
      ],
      "text/plain": [
       "   children  days_employed  dob_years            education  education_id  \\\n",
       "0         1   -8437.673028         42    bachelor's degree             0   \n",
       "1         1   -4024.803754         36  secondary education             1   \n",
       "2         0   -5623.422610         33  Secondary Education             1   \n",
       "3         3   -4124.747207         32  secondary education             1   \n",
       "4         0  340266.072047         53  secondary education             1   \n",
       "5         0    -926.185831         27    bachelor's degree             0   \n",
       "6         0   -2879.202052         43    bachelor's degree             0   \n",
       "7         0    -152.779569         50  SECONDARY EDUCATION             1   \n",
       "8         2   -6929.865299         35    BACHELOR'S DEGREE             0   \n",
       "9         0   -2188.756445         41  secondary education             1   \n",
       "\n",
       "       family_status  family_status_id gender income_type  debt  total_income  \\\n",
       "0            married                 0      F    employee     0     40620.102   \n",
       "1            married                 0      F    employee     0     17932.802   \n",
       "2            married                 0      M    employee     0     23341.752   \n",
       "3            married                 0      M    employee     0     42820.568   \n",
       "4  civil partnership                 1      F     retiree     0     25378.572   \n",
       "5  civil partnership                 1      M    business     0     40922.170   \n",
       "6            married                 0      F    business     0     38484.156   \n",
       "7            married                 0      M    employee     0     21731.829   \n",
       "8  civil partnership                 1      F    employee     0     15337.093   \n",
       "9            married                 0      M    employee     0     23108.150   \n",
       "\n",
       "                               purpose  \n",
       "0                purchase of the house  \n",
       "1                         car purchase  \n",
       "2                purchase of the house  \n",
       "3              supplementary education  \n",
       "4                    to have a wedding  \n",
       "5                purchase of the house  \n",
       "6                 housing transactions  \n",
       "7                            education  \n",
       "8                     having a wedding  \n",
       "9  purchase of the house for my family  "
      ]
     },
     "execution_count": 1,
     "metadata": {},
     "output_type": "execute_result"
    }
   ],
   "source": [
    "import pandas as pd\n",
    "import numpy as np\n",
    "try:\n",
    "    credit_score = pd.read_csv('/datasets/credit_scoring_eng.csv')\n",
    "except:\n",
    "    credit_Score = pd.read_csv('c:\\yandex-practicum\\01-cleaning-data\\project\\credit_scoring_eng.csv')\n",
    "\n",
    "credit_score.info()\n",
    "credit_score.head(10)"
   ]
  },
  {
   "cell_type": "markdown",
   "metadata": {},
   "source": [
    "### Conclusion"
   ]
  },
  {
   "cell_type": "markdown",
   "metadata": {},
   "source": [
    "there is a discrepancy between the number of rows in columns total_income, days_employed (19351) to the rest of the columns (21525)"
   ]
  },
  {
   "cell_type": "markdown",
   "metadata": {},
   "source": [
    "<div class=\"alert alert-block alert-success\">\n",
    "    <h2>Reviewer's commentary<a class=\"tocSkip\"> </h2>\n",
    "    <br/>\n",
    "<b>Well done!👍:</b> \n",
    "\n",
    "Ok, you explored the data using special methods, so, let's see what results you got at the next steps of the analysis!👀"
   ]
  },
  {
   "cell_type": "markdown",
   "metadata": {},
   "source": [
    "\n",
    "<div class=\"alert alert-block alert-warning\">\n",
    "   <h2>Reviewer's commentary <a class=\"tocSkip\"> </h2>\n",
    "    <br/>\n",
    "<b>Remarks and recommendations📌:</b>\n",
    "       \n",
    "I would like to recommend you to use `try-except` construction for importing of the data. More details see on the links below:\n",
    "       \n",
    "https://www.w3schools.com/python/python_try_except.asp\n",
    "       \n",
    "https://docs.python.org/3/tutorial/errors.html"
   ]
  },
  {
   "cell_type": "markdown",
   "metadata": {},
   "source": [
    "## Data preprocessing"
   ]
  },
  {
   "cell_type": "markdown",
   "metadata": {},
   "source": [
    "### Processing missing values"
   ]
  },
  {
   "cell_type": "markdown",
   "metadata": {},
   "source": [
    "Go over each column and see the values."
   ]
  },
  {
   "cell_type": "code",
   "execution_count": 2,
   "metadata": {
    "scrolled": false
   },
   "outputs": [
    {
     "name": "stdout",
     "output_type": "stream",
     "text": [
      "\n",
      " 0     14149\n",
      " 1      4818\n",
      " 2      2055\n",
      " 3       330\n",
      " 20       76\n",
      "-1        47\n",
      " 4        41\n",
      " 5         9\n",
      "Name: children, dtype: int64\n",
      "\n",
      "-986.927316     1\n",
      "-7026.359174    1\n",
      "-4236.274243    1\n",
      "-6620.396473    1\n",
      "-1238.560080    1\n",
      "               ..\n",
      "-2849.351119    1\n",
      "-5619.328204    1\n",
      "-448.829898     1\n",
      "-1687.038672    1\n",
      "-582.538413     1\n",
      "Name: days_employed, Length: 19351, dtype: int64\n",
      "\n",
      "35    617\n",
      "40    609\n",
      "41    607\n",
      "34    603\n",
      "38    598\n",
      "42    597\n",
      "33    581\n",
      "39    573\n",
      "31    560\n",
      "36    555\n",
      "44    547\n",
      "29    545\n",
      "30    540\n",
      "48    538\n",
      "37    537\n",
      "50    514\n",
      "43    513\n",
      "32    510\n",
      "49    508\n",
      "28    503\n",
      "45    497\n",
      "27    493\n",
      "56    487\n",
      "52    484\n",
      "47    480\n",
      "54    479\n",
      "46    475\n",
      "58    461\n",
      "57    460\n",
      "53    459\n",
      "51    448\n",
      "59    444\n",
      "55    443\n",
      "26    408\n",
      "60    377\n",
      "25    357\n",
      "61    355\n",
      "62    352\n",
      "63    269\n",
      "64    265\n",
      "24    264\n",
      "23    254\n",
      "65    194\n",
      "66    183\n",
      "22    183\n",
      "67    167\n",
      "21    111\n",
      "0     101\n",
      "68     99\n",
      "69     85\n",
      "70     65\n",
      "71     58\n",
      "20     51\n",
      "72     33\n",
      "19     14\n",
      "73      8\n",
      "74      6\n",
      "75      1\n",
      "Name: dob_years, dtype: int64\n",
      "\n",
      "secondary education    13750\n",
      "bachelor's degree       4718\n",
      "SECONDARY EDUCATION      772\n",
      "Secondary Education      711\n",
      "some college             668\n",
      "BACHELOR'S DEGREE        274\n",
      "Bachelor's Degree        268\n",
      "primary education        250\n",
      "Some College              47\n",
      "SOME COLLEGE              29\n",
      "PRIMARY EDUCATION         17\n",
      "Primary Education         15\n",
      "graduate degree            4\n",
      "Graduate Degree            1\n",
      "GRADUATE DEGREE            1\n",
      "Name: education, dtype: int64\n",
      "\n",
      "1    15233\n",
      "0     5260\n",
      "2      744\n",
      "3      282\n",
      "4        6\n",
      "Name: education_id, dtype: int64\n",
      "\n",
      "married              12380\n",
      "civil partnership     4177\n",
      "unmarried             2813\n",
      "divorced              1195\n",
      "widow / widower        960\n",
      "Name: family_status, dtype: int64\n",
      "\n",
      "0    12380\n",
      "1     4177\n",
      "4     2813\n",
      "3     1195\n",
      "2      960\n",
      "Name: family_status_id, dtype: int64\n",
      "\n",
      "F      14236\n",
      "M       7288\n",
      "XNA        1\n",
      "Name: gender, dtype: int64\n",
      "\n",
      "employee                       11119\n",
      "business                        5085\n",
      "retiree                         3856\n",
      "civil servant                   1459\n",
      "unemployed                         2\n",
      "entrepreneur                       2\n",
      "student                            1\n",
      "paternity / maternity leave        1\n",
      "Name: income_type, dtype: int64\n",
      "\n",
      "0    19784\n",
      "1     1741\n",
      "Name: debt, dtype: int64\n",
      "\n",
      "17312.717    2\n",
      "31791.384    2\n",
      "42413.096    2\n",
      "54857.666    1\n",
      "26935.722    1\n",
      "            ..\n",
      "48796.341    1\n",
      "34774.610    1\n",
      "15710.698    1\n",
      "19232.334    1\n",
      "9591.824     1\n",
      "Name: total_income, Length: 19348, dtype: int64\n",
      "\n",
      "wedding ceremony                            797\n",
      "having a wedding                            777\n",
      "to have a wedding                           774\n",
      "real estate transactions                    676\n",
      "buy commercial real estate                  664\n",
      "buying property for renting out             653\n",
      "housing transactions                        653\n",
      "transactions with commercial real estate    651\n",
      "housing                                     647\n",
      "purchase of the house                       647\n",
      "purchase of the house for my family         641\n",
      "construction of own property                635\n",
      "property                                    634\n",
      "transactions with my real estate            630\n",
      "building a real estate                      626\n",
      "buy real estate                             624\n",
      "purchase of my own house                    620\n",
      "building a property                         620\n",
      "housing renovation                          612\n",
      "buy residential real estate                 607\n",
      "buying my own car                           505\n",
      "going to university                         496\n",
      "car                                         495\n",
      "second-hand car purchase                    489\n",
      "to own a car                                480\n",
      "buying a second-hand car                    479\n",
      "cars                                        478\n",
      "to buy a car                                472\n",
      "car purchase                                462\n",
      "supplementary education                     462\n",
      "purchase of a car                           455\n",
      "university education                        453\n",
      "education                                   447\n",
      "to get a supplementary education            447\n",
      "getting an education                        443\n",
      "profile education                           436\n",
      "getting higher education                    426\n",
      "to become educated                          412\n",
      "Name: purpose, dtype: int64\n"
     ]
    }
   ],
   "source": [
    "def columns_value_counts(df):    \n",
    "    for col in df.columns:\n",
    "        print()\n",
    "        print(df[col].value_counts())\n",
    "\n",
    "columns_value_counts(credit_score)"
   ]
  },
  {
   "cell_type": "markdown",
   "metadata": {},
   "source": [
    "Insight:\n",
    "* children values, can probably be dropped less than 100:\n",
    "  * -1 needs to be clean\n",
    "      * check debt\n",
    "  * 20 seems strange, maybe it was suppose to be 2? \n",
    "      * check age \n",
    "      * check married status\n",
    "      * debt\n",
    "* days_employed: are negetive need to fix that.\n",
    "  can be dropped since no affect over the questions or data\n",
    "    * 15906 negetive values\n",
    "    * 3504 people have more work years than dob years\n",
    "    * 2174 na values\n",
    "* age column has no effect on the questions:\n",
    "    * 101 people have 0 age\n",
    "    * drop them or don't do anything\n",
    "* education: some values are repeated with diffent wording or uppercase\n",
    "    * check correlation between education_id and education\n",
    "    * if correct create diff dictionary with proper values\n",
    "* debt: there is less than 10% people with debt\n",
    "* family status:\n",
    "    * check correlation between id\n",
    "* gender:\n",
    "    * drop xna\n",
    "* total_income: there are a couple of exact debts..doesn't make sense\n",
    "  make sure if they are the same row or different data\n",
    "  * 17312.717 2\n",
    "  * 31791.384 2\n",
    "  * 42413.096 2\n",
    "  * 2174 na values same rows as days_employed **about 10% of total data.**\n",
    "\n",
    "----------------------------------------------\n",
    "**To Arina**\n",
    "\n",
    "There are missing values in days_employed and total_income, it is specified\n",
    "in the last line of the table."
   ]
  },
  {
   "cell_type": "markdown",
   "metadata": {},
   "source": [
    "<div class=\"alert alert-block alert-warning\">\n",
    "   <h2>Reviewer's commentary <a class=\"tocSkip\"> </h2>\n",
    "    <br/>\n",
    "<b>Remarks and recommendations📌:</b>  \n",
    "    \n",
    "Ok, Itay, you can (everything is alright with it) to check the distribution of values in case of each column, but in order to check the missing values it is better to use another pull of methods.\n",
    "       \n",
    "It is important to look not just at the amount of missing values in every column, but at the percentage of missing values in columns, for example, like this:\n",
    "    \n",
    "`data.isna().sum()*100/len(data)`\n",
    "       \n",
    "`data.isna().mean() * 100`\n",
    "\n",
    "Or like this:\n",
    "    \n",
    "`report = data.isna().sum().to_frame()\n",
    "report = report.rename(columns = {0: 'missing_values'})\n",
    "report['% of total'] = (report['missing_values'] / data.shape[0]).round(2)\n",
    "report.sort_values(by = 'missing_values', ascending = False)`\n",
    "       \n",
    "You did it only for column `total_income` but I would like to recommend you to do it for all column because there are missing values not only in the column `total_income`"
   ]
  },
  {
   "cell_type": "markdown",
   "metadata": {},
   "source": [
    "# Checking children \n",
    "* checking -1\n",
    "   * age range every wide\n",
    "   * education most have at least bachelor\n",
    "   * just one has debt\n",
    "   * effect the questions very little\n",
    "\n",
    "* checking 20\n",
    "   * age range between 30+ - 50+\n",
    "   * out of 76 8 have debt => doesn't make sense\n",
    "   * effects the questions very little\n",
    "   \n",
    " Conclusion drop rows with -1 child and with 20 children can effects questions results"
   ]
  },
  {
   "cell_type": "code",
   "execution_count": 3,
   "metadata": {},
   "outputs": [],
   "source": [
    "credit_score.loc[credit_score['children'] == 20, 'children'] = 2\n",
    "credit_score.loc[credit_score['children'] == -1, 'children'] = 1\n",
    "credit_score = credit_score[credit_score['gender'] != 'XNA']"
   ]
  },
  {
   "cell_type": "markdown",
   "metadata": {},
   "source": [
    "# Checking dob_years\n",
    "Checking how many people are below age 18\n"
   ]
  },
  {
   "cell_type": "code",
   "execution_count": 4,
   "metadata": {},
   "outputs": [
    {
     "data": {
      "text/plain": [
       "married              49\n",
       "civil partnership    21\n",
       "unmarried            16\n",
       "divorced             10\n",
       "widow / widower       5\n",
       "Name: family_status, dtype: int64"
      ]
     },
     "execution_count": 4,
     "metadata": {},
     "output_type": "execute_result"
    }
   ],
   "source": [
    "# len(credit_score[credit_score['dob_years'] < 18]) # 100\n",
    "# len(credit_score[credit_score['dob_years'] == 0]) # 100\n",
    "credit_score[credit_score['dob_years'] < 18]['family_status'].value_counts()"
   ]
  },
  {
   "cell_type": "markdown",
   "metadata": {},
   "source": [
    "CONCLUSION: not sure this column is relevant to the questions so leaving it as is"
   ]
  },
  {
   "cell_type": "markdown",
   "metadata": {},
   "source": [
    "<div class=\"alert alert-block alert-warning\">\n",
    "   <h2>Reviewer's commentary <a class=\"tocSkip\"> </h2>\n",
    "    <br/>\n",
    "<b>Remarks and recommendations📌:</b>  \n",
    "       \n",
    "it is better not to leave commented code in the final version of your project, it is important to show all the results of your code and actions with data as a whole. \n",
    "       \n",
    "And it is better to use Markdown cells for all commentaries, it allows make them more readable."
   ]
  },
  {
   "cell_type": "markdown",
   "metadata": {},
   "source": [
    "# Total_income and  days_employed \n",
    "processing na values.\n",
    "\n",
    "1) turn negative to positive \n",
    "\n",
    "2) give na values -1\n"
   ]
  },
  {
   "cell_type": "code",
   "execution_count": 5,
   "metadata": {},
   "outputs": [],
   "source": [
    "# display rows with negetive values in days_employed\n",
    "# credit_score[credit_score['days_employed'] < 0]['days_employed']\n",
    "\n",
    "# turn them to positive\n",
    "credit_score['days_employed'] = credit_score['days_employed'].abs()"
   ]
  },
  {
   "cell_type": "code",
   "execution_count": 6,
   "metadata": {},
   "outputs": [],
   "source": [
    "# give na values -1\n",
    "credit_score.loc[credit_score.isnull()['total_income'] , ['days_employed','total_income']] = -1"
   ]
  },
  {
   "cell_type": "code",
   "execution_count": 15,
   "metadata": {},
   "outputs": [
    {
     "data": {
      "text/html": [
       "<div>\n",
       "<style scoped>\n",
       "    .dataframe tbody tr th:only-of-type {\n",
       "        vertical-align: middle;\n",
       "    }\n",
       "\n",
       "    .dataframe tbody tr th {\n",
       "        vertical-align: top;\n",
       "    }\n",
       "\n",
       "    .dataframe thead th {\n",
       "        text-align: right;\n",
       "    }\n",
       "</style>\n",
       "<table border=\"1\" class=\"dataframe\">\n",
       "  <thead>\n",
       "    <tr style=\"text-align: right;\">\n",
       "      <th></th>\n",
       "      <th>children</th>\n",
       "      <th>days_employed</th>\n",
       "      <th>dob_years</th>\n",
       "      <th>education</th>\n",
       "      <th>education_id</th>\n",
       "      <th>family_status</th>\n",
       "      <th>family_status_id</th>\n",
       "      <th>gender</th>\n",
       "      <th>income_type</th>\n",
       "      <th>debt</th>\n",
       "      <th>total_income</th>\n",
       "      <th>purpose</th>\n",
       "    </tr>\n",
       "  </thead>\n",
       "  <tbody>\n",
       "  </tbody>\n",
       "</table>\n",
       "</div>"
      ],
      "text/plain": [
       "Empty DataFrame\n",
       "Columns: [children, days_employed, dob_years, education, education_id, family_status, family_status_id, gender, income_type, debt, total_income, purpose]\n",
       "Index: []"
      ]
     },
     "execution_count": 15,
     "metadata": {},
     "output_type": "execute_result"
    }
   ],
   "source": [
    "# checking for any na values\n",
    "# credit_score[credit_score.isna().any(axis=1)]\n",
    "credit_score[credit_score['income_type'].isnull()]"
   ]
  },
  {
   "cell_type": "markdown",
   "metadata": {},
   "source": [
    "### Conclusion"
   ]
  },
  {
   "cell_type": "markdown",
   "metadata": {},
   "source": [
    "\n",
    "People who don't have days_employed don't have total_income(make sense).\n",
    "\n",
    "Decided not to drop these lines, even though they are just 10%\n",
    "\n",
    "---------------------------------------------------------------------------------\n",
    "\n",
    "**To Arina**\n",
    "\n",
    "Dealing with total_income, isn't giving the na value median more risky?\n",
    "\n",
    "Since we are giving a credit score, total_income is one of the most important parts in determining it.\n",
    "One person not returning the loan can require maybe 10 people returning the loan to compensate, right?\n",
    "Is it better to give median and take that risk **or** giving him a low score to remove the risk?\n",
    "\n",
    "---------------------------------------------------------------------------------\n",
    "\n",
    "Dropped the lines where children are -1 or 20 since they can affect the results"
   ]
  },
  {
   "cell_type": "markdown",
   "metadata": {},
   "source": [
    "<div class=\"alert alert-block alert-success\">\n",
    "    <h2>Reviewer's commentary<a class=\"tocSkip\"> </h2>\n",
    "    <br/>\n",
    "<b>Well done!👍:</b> \n",
    "\n",
    "Ok, it is a correct step to get rid of the negative values from the data."
   ]
  },
  {
   "cell_type": "markdown",
   "metadata": {},
   "source": [
    "<div class=\"alert alert-block alert-warning\">\n",
    "   <h2>Reviewer's commentary <a class=\"tocSkip\"> </h2>\n",
    "    <br/>\n",
    "<b>Remarks and recommendations📌:</b>  \n",
    "       \n",
    "As for preprocessing of the missing values.\n",
    "              \n",
    "\n",
    "Common logic is that it is better to think about the strategies of filling in the missing values and if it is impossible to fill in the missing values we can simply leave missing values in the data unchanged, because sometimes when the percentage of the missing values is big and the data is rather sensitive our attempts to fill in missing values using mean or median can be risky in terms of distortion of the original data, so it is important to take it into consideration!\n",
    "       \n",
    "We can use median to fill in missing values in column  `total_income` because this statistics is more resistant to outliers. As a whole I would like to recommend you to be more careful with handling missing values first you should check how large their share is. You did this action, so, I can agree with your strategy.\n",
    "        \n",
    "So, finally is important to understand the nature of the missing values, formulate hypotheses or reasons for the presence of missing values in the data, and based on these hypotheses, try to choose a way to fill the data. It is important to understand that replacing missing values with a simple median or mean by column can significantly distort the original data if the percentage of gaps in the columns exceeds 10%.\n",
    "    \n",
    "So here you can use grouping method, when you try to understand what factors can be connected to each other and use `groupby` method for aggregating and filling in the data. For example, you can check the typical values of the client, depending on the age, education and type of employment of the client. Or check other dependencies. You can lso use correlation to check the dependancies and then use grouping method to restore the data."
   ]
  },
  {
   "cell_type": "markdown",
   "metadata": {},
   "source": [
    "<div class=\"alert alert-block alert-warning\">\n",
    "   <h2>Reviewer's commentary <a class=\"tocSkip\"> </h2>\n",
    "    <br/>\n",
    "<b>Remarks and recommendations📌:</b>  \n",
    "\n",
    "More recommendations about the data preprocessing:\n",
    "       \n",
    "* some of the columns have error values, for example XNA in `gender` it is better to deal with such anomalies and artefacts values\n",
    "* as for anomalies in column `children` (-1 and 20) you can use `abs()` to deal with negative values and replace 20 with 2."
   ]
  },
  {
   "cell_type": "markdown",
   "metadata": {},
   "source": [
    "    \n",
    "<div class=\"alert alert-block alert-success\">\n",
    "    <h2>Reviewer's commentary: second iteration of the review <a class=\"tocSkip\"> </h2>\n",
    "    <br/>\n",
    "<b>Well done!👍:</b> \n",
    "        \n",
    "Ok, I can see that you worked on this step of the analysis, good job!"
   ]
  },
  {
   "cell_type": "markdown",
   "metadata": {},
   "source": [
    "### Data type replacement"
   ]
  },
  {
   "cell_type": "code",
   "execution_count": 8,
   "metadata": {},
   "outputs": [
    {
     "name": "stdout",
     "output_type": "stream",
     "text": [
      "<class 'pandas.core.frame.DataFrame'>\n",
      "Int64Index: 21524 entries, 0 to 21524\n",
      "Data columns (total 12 columns):\n",
      "children            21524 non-null int64\n",
      "days_employed       21524 non-null int64\n",
      "dob_years           21524 non-null int64\n",
      "education           21524 non-null object\n",
      "education_id        21524 non-null int64\n",
      "family_status       21524 non-null object\n",
      "family_status_id    21524 non-null int64\n",
      "gender              21524 non-null object\n",
      "income_type         21524 non-null object\n",
      "debt                21524 non-null int64\n",
      "total_income        21524 non-null float64\n",
      "purpose             21524 non-null object\n",
      "dtypes: float64(1), int64(6), object(5)\n",
      "memory usage: 2.1+ MB\n"
     ]
    }
   ],
   "source": [
    "credit_score = credit_score.astype({\n",
    "    'children':'int64',\n",
    "    'days_employed':'int64'\n",
    "     })\n",
    "\n",
    "# I will not change total_income to int, 0.5 is still income.\n",
    "\n",
    "credit_score.info()"
   ]
  },
  {
   "cell_type": "markdown",
   "metadata": {},
   "source": [
    "### Conclusion\n",
    "Most of the types are correct.\n",
    "Just changing children and days_employed to int and not float numbers"
   ]
  },
  {
   "cell_type": "markdown",
   "metadata": {},
   "source": [
    "<div class=\"alert alert-block alert-success\">\n",
    "    <h2>Reviewer's commentary<a class=\"tocSkip\"> </h2>\n",
    "    <br/>\n",
    "<b>Well done!👍:</b> \n",
    "\n",
    "Ok, as a whole you changed the data types correctly."
   ]
  },
  {
   "cell_type": "markdown",
   "metadata": {},
   "source": [
    "\n",
    "<div class=\"alert alert-block alert-danger\">\n",
    "    <h2>Reviewer's commentary <a class=\"tocSkip\"> </h2>\n",
    "    <br/>\n",
    "<b>Needs fixing!🤔:</b>\n",
    "        \n",
    "Itay, I cannot see your intermediate conclusion here, it is important to add this, so, please, try to do it!"
   ]
  },
  {
   "cell_type": "markdown",
   "metadata": {},
   "source": [
    "    \n",
    "<div class=\"alert alert-block alert-success\">\n",
    "    <h2>Reviewer's commentary: second iteration of the review <a class=\"tocSkip\"> </h2>\n",
    "    <br/>\n",
    "<b>Well done!👍:</b> \n",
    "        \n",
    "With conclusions the analysis looks more complete!"
   ]
  },
  {
   "cell_type": "markdown",
   "metadata": {},
   "source": [
    "### Processing duplicates"
   ]
  },
  {
   "cell_type": "code",
   "execution_count": 9,
   "metadata": {},
   "outputs": [
    {
     "data": {
      "text/plain": [
       "secondary education    61\n",
       "bachelor's degree      10\n",
       "Name: education, dtype: int64"
      ]
     },
     "execution_count": 9,
     "metadata": {},
     "output_type": "execute_result"
    }
   ],
   "source": [
    "credit_score['education'] = credit_score['education'].str.lower()\n",
    "credit_score[credit_score.duplicated()]['education'].value_counts()"
   ]
  },
  {
   "cell_type": "code",
   "execution_count": 10,
   "metadata": {},
   "outputs": [
    {
     "data": {
      "text/html": [
       "<div>\n",
       "<style scoped>\n",
       "    .dataframe tbody tr th:only-of-type {\n",
       "        vertical-align: middle;\n",
       "    }\n",
       "\n",
       "    .dataframe tbody tr th {\n",
       "        vertical-align: top;\n",
       "    }\n",
       "\n",
       "    .dataframe thead th {\n",
       "        text-align: right;\n",
       "    }\n",
       "</style>\n",
       "<table border=\"1\" class=\"dataframe\">\n",
       "  <thead>\n",
       "    <tr style=\"text-align: right;\">\n",
       "      <th></th>\n",
       "      <th>children</th>\n",
       "      <th>days_employed</th>\n",
       "      <th>dob_years</th>\n",
       "      <th>education</th>\n",
       "      <th>education_id</th>\n",
       "      <th>family_status</th>\n",
       "      <th>family_status_id</th>\n",
       "      <th>gender</th>\n",
       "      <th>income_type</th>\n",
       "      <th>debt</th>\n",
       "      <th>total_income</th>\n",
       "      <th>purpose</th>\n",
       "    </tr>\n",
       "  </thead>\n",
       "  <tbody>\n",
       "    <tr>\n",
       "      <td>2849</td>\n",
       "      <td>0</td>\n",
       "      <td>-1</td>\n",
       "      <td>41</td>\n",
       "      <td>secondary education</td>\n",
       "      <td>1</td>\n",
       "      <td>married</td>\n",
       "      <td>0</td>\n",
       "      <td>F</td>\n",
       "      <td>employee</td>\n",
       "      <td>0</td>\n",
       "      <td>-1.0</td>\n",
       "      <td>purchase of the house for my family</td>\n",
       "    </tr>\n",
       "    <tr>\n",
       "      <td>3290</td>\n",
       "      <td>0</td>\n",
       "      <td>-1</td>\n",
       "      <td>58</td>\n",
       "      <td>secondary education</td>\n",
       "      <td>1</td>\n",
       "      <td>civil partnership</td>\n",
       "      <td>1</td>\n",
       "      <td>F</td>\n",
       "      <td>retiree</td>\n",
       "      <td>0</td>\n",
       "      <td>-1.0</td>\n",
       "      <td>to have a wedding</td>\n",
       "    </tr>\n",
       "    <tr>\n",
       "      <td>4182</td>\n",
       "      <td>1</td>\n",
       "      <td>-1</td>\n",
       "      <td>34</td>\n",
       "      <td>bachelor's degree</td>\n",
       "      <td>0</td>\n",
       "      <td>civil partnership</td>\n",
       "      <td>1</td>\n",
       "      <td>F</td>\n",
       "      <td>employee</td>\n",
       "      <td>0</td>\n",
       "      <td>-1.0</td>\n",
       "      <td>wedding ceremony</td>\n",
       "    </tr>\n",
       "    <tr>\n",
       "      <td>4851</td>\n",
       "      <td>0</td>\n",
       "      <td>-1</td>\n",
       "      <td>60</td>\n",
       "      <td>secondary education</td>\n",
       "      <td>1</td>\n",
       "      <td>civil partnership</td>\n",
       "      <td>1</td>\n",
       "      <td>F</td>\n",
       "      <td>retiree</td>\n",
       "      <td>0</td>\n",
       "      <td>-1.0</td>\n",
       "      <td>wedding ceremony</td>\n",
       "    </tr>\n",
       "    <tr>\n",
       "      <td>5557</td>\n",
       "      <td>0</td>\n",
       "      <td>-1</td>\n",
       "      <td>58</td>\n",
       "      <td>secondary education</td>\n",
       "      <td>1</td>\n",
       "      <td>civil partnership</td>\n",
       "      <td>1</td>\n",
       "      <td>F</td>\n",
       "      <td>retiree</td>\n",
       "      <td>0</td>\n",
       "      <td>-1.0</td>\n",
       "      <td>to have a wedding</td>\n",
       "    </tr>\n",
       "    <tr>\n",
       "      <td>...</td>\n",
       "      <td>...</td>\n",
       "      <td>...</td>\n",
       "      <td>...</td>\n",
       "      <td>...</td>\n",
       "      <td>...</td>\n",
       "      <td>...</td>\n",
       "      <td>...</td>\n",
       "      <td>...</td>\n",
       "      <td>...</td>\n",
       "      <td>...</td>\n",
       "      <td>...</td>\n",
       "      <td>...</td>\n",
       "    </tr>\n",
       "    <tr>\n",
       "      <td>20702</td>\n",
       "      <td>0</td>\n",
       "      <td>-1</td>\n",
       "      <td>64</td>\n",
       "      <td>secondary education</td>\n",
       "      <td>1</td>\n",
       "      <td>married</td>\n",
       "      <td>0</td>\n",
       "      <td>F</td>\n",
       "      <td>retiree</td>\n",
       "      <td>0</td>\n",
       "      <td>-1.0</td>\n",
       "      <td>supplementary education</td>\n",
       "    </tr>\n",
       "    <tr>\n",
       "      <td>21032</td>\n",
       "      <td>0</td>\n",
       "      <td>-1</td>\n",
       "      <td>60</td>\n",
       "      <td>secondary education</td>\n",
       "      <td>1</td>\n",
       "      <td>married</td>\n",
       "      <td>0</td>\n",
       "      <td>F</td>\n",
       "      <td>retiree</td>\n",
       "      <td>0</td>\n",
       "      <td>-1.0</td>\n",
       "      <td>to become educated</td>\n",
       "    </tr>\n",
       "    <tr>\n",
       "      <td>21132</td>\n",
       "      <td>0</td>\n",
       "      <td>-1</td>\n",
       "      <td>47</td>\n",
       "      <td>secondary education</td>\n",
       "      <td>1</td>\n",
       "      <td>married</td>\n",
       "      <td>0</td>\n",
       "      <td>F</td>\n",
       "      <td>employee</td>\n",
       "      <td>0</td>\n",
       "      <td>-1.0</td>\n",
       "      <td>housing renovation</td>\n",
       "    </tr>\n",
       "    <tr>\n",
       "      <td>21281</td>\n",
       "      <td>1</td>\n",
       "      <td>-1</td>\n",
       "      <td>30</td>\n",
       "      <td>bachelor's degree</td>\n",
       "      <td>0</td>\n",
       "      <td>married</td>\n",
       "      <td>0</td>\n",
       "      <td>F</td>\n",
       "      <td>employee</td>\n",
       "      <td>0</td>\n",
       "      <td>-1.0</td>\n",
       "      <td>buy commercial real estate</td>\n",
       "    </tr>\n",
       "    <tr>\n",
       "      <td>21415</td>\n",
       "      <td>0</td>\n",
       "      <td>-1</td>\n",
       "      <td>54</td>\n",
       "      <td>secondary education</td>\n",
       "      <td>1</td>\n",
       "      <td>married</td>\n",
       "      <td>0</td>\n",
       "      <td>F</td>\n",
       "      <td>retiree</td>\n",
       "      <td>0</td>\n",
       "      <td>-1.0</td>\n",
       "      <td>housing transactions</td>\n",
       "    </tr>\n",
       "  </tbody>\n",
       "</table>\n",
       "<p>71 rows × 12 columns</p>\n",
       "</div>"
      ],
      "text/plain": [
       "       children  days_employed  dob_years            education  education_id  \\\n",
       "2849          0             -1         41  secondary education             1   \n",
       "3290          0             -1         58  secondary education             1   \n",
       "4182          1             -1         34    bachelor's degree             0   \n",
       "4851          0             -1         60  secondary education             1   \n",
       "5557          0             -1         58  secondary education             1   \n",
       "...         ...            ...        ...                  ...           ...   \n",
       "20702         0             -1         64  secondary education             1   \n",
       "21032         0             -1         60  secondary education             1   \n",
       "21132         0             -1         47  secondary education             1   \n",
       "21281         1             -1         30    bachelor's degree             0   \n",
       "21415         0             -1         54  secondary education             1   \n",
       "\n",
       "           family_status  family_status_id gender income_type  debt  \\\n",
       "2849             married                 0      F    employee     0   \n",
       "3290   civil partnership                 1      F     retiree     0   \n",
       "4182   civil partnership                 1      F    employee     0   \n",
       "4851   civil partnership                 1      F     retiree     0   \n",
       "5557   civil partnership                 1      F     retiree     0   \n",
       "...                  ...               ...    ...         ...   ...   \n",
       "20702            married                 0      F     retiree     0   \n",
       "21032            married                 0      F     retiree     0   \n",
       "21132            married                 0      F    employee     0   \n",
       "21281            married                 0      F    employee     0   \n",
       "21415            married                 0      F     retiree     0   \n",
       "\n",
       "       total_income                              purpose  \n",
       "2849           -1.0  purchase of the house for my family  \n",
       "3290           -1.0                    to have a wedding  \n",
       "4182           -1.0                     wedding ceremony  \n",
       "4851           -1.0                     wedding ceremony  \n",
       "5557           -1.0                    to have a wedding  \n",
       "...             ...                                  ...  \n",
       "20702          -1.0              supplementary education  \n",
       "21032          -1.0                   to become educated  \n",
       "21132          -1.0                   housing renovation  \n",
       "21281          -1.0           buy commercial real estate  \n",
       "21415          -1.0                 housing transactions  \n",
       "\n",
       "[71 rows x 12 columns]"
      ]
     },
     "execution_count": 10,
     "metadata": {},
     "output_type": "execute_result"
    }
   ],
   "source": [
    "credit_score[credit_score.duplicated()]"
   ]
  },
  {
   "cell_type": "markdown",
   "metadata": {},
   "source": [
    "### Conclusion\n",
    "Kept the duplicates.\n",
    "\n",
    "--------------------------------------------\n",
    "**To Arina**\n",
    "\n",
    "There are just 71 duplicates, it doesn't see like a lot.\n",
    "But went with your recommendation.\n",
    "Thanks\n",
    "\n",
    "--------------------------------------------"
   ]
  },
  {
   "cell_type": "markdown",
   "metadata": {},
   "source": [
    "\n",
    "<div class=\"alert alert-block alert-danger\">\n",
    "    <h2>Reviewer's commentary <a class=\"tocSkip\"> </h2>\n",
    "    <br/>\n",
    "<b>Needs fixing!🤔:</b> \n",
    "        \n",
    "As for dublicates. There are two types of dublicates: full, explicit duplicates and implicit incomplete duplicates. The first variant is that when we have the dublicated values in all columns of the row. The xample of the second alternative when we have the same name that is written in lower case and in uppercase, for example. So, in this project you have the column education that can has such implicit dublicates. And it is correct action to convert values to lowercase, it can help to identify such implicit dublicates.\n",
    "        \n",
    "Itay, ok, you tried to identify the dublicates, but it is a rather controversial action to remove the dublucated data, because doing so you can loose a great amount of it. Try to convert to lowercase the values in column `education` it will allow you to deal with implicit dublicated values."
   ]
  },
  {
   "cell_type": "markdown",
   "metadata": {},
   "source": [
    "    \n",
    "<div class=\"alert alert-block alert-success\">\n",
    "    <h2>Reviewer's commentary: second iteration of the review <a class=\"tocSkip\"> </h2>\n",
    "    <br/>\n",
    "<b>Well done!👍:</b> \n",
    "      \n",
    "Ok, good job!"
   ]
  },
  {
   "cell_type": "markdown",
   "metadata": {},
   "source": [
    "### Categorizing Data"
   ]
  },
  {
   "cell_type": "markdown",
   "metadata": {},
   "source": [
    "Checking and categorizing that data for **education_id** has no more than 1 unique **meaning**\n",
    "(can be different case or wording wise)"
   ]
  },
  {
   "cell_type": "markdown",
   "metadata": {},
   "source": [
    "Checking and categorizing that data for **family_id** has no more than 1 unique **meaning**\n",
    "(can be different case or wording wise)"
   ]
  },
  {
   "cell_type": "markdown",
   "metadata": {},
   "source": [
    "Education categories are fine after becoming lowercase\n",
    "\n",
    "No Need to change family_status\n"
   ]
  },
  {
   "cell_type": "markdown",
   "metadata": {},
   "source": [
    "<div class=\"alert alert-block alert-success\">\n",
    "    <h2>Reviewer's commentary<a class=\"tocSkip\"> </h2>\n",
    "    <br/>\n",
    "<b>Well done!👍:</b> \n",
    "\n",
    "Yes, you are right, everything is alright with the categories in this column, but, again uncomment your code or remove it if there is no need in it!"
   ]
  },
  {
   "cell_type": "markdown",
   "metadata": {},
   "source": [
    "# Categorizing purpose"
   ]
  },
  {
   "cell_type": "code",
   "execution_count": 11,
   "metadata": {},
   "outputs": [],
   "source": [
    "import nltk\n",
    "from nltk.stem import SnowballStemmer\n",
    "\n",
    "english_stemmer = SnowballStemmer('english') \n",
    "\n",
    "def categorize_purpose(row):\n",
    "    words = nltk.word_tokenize(row['purpose'])\n",
    "    stemmed_words = [english_stemmer.stem(word) for word in words]\n",
    "    \n",
    "    if 'wed' in stemmed_words:\n",
    "        return 'wedding'\n",
    "    if ('hous' in stemmed_words) or ('estat' in stemmed_words) or ('properti' in stemmed_words):\n",
    "        return 'buy real estate'\n",
    "    if 'car' in stemmed_words:\n",
    "        return 'purchase car'\n",
    "    if 'educ' in stemmed_words or 'univers' in stemmed_words:\n",
    "        return 'education'\n",
    "    else:\n",
    "        return row['purpose']\n",
    "\n",
    "        \n",
    "credit_score['purpose'] = credit_score.apply(categorize_purpose, axis=1)"
   ]
  },
  {
   "attachments": {
    "image.png": {
     "image/png": "[encoded data removed]"
    }
   },
   "cell_type": "markdown",
   "metadata": {},
   "source": [
    "\n",
    "<div class=\"alert alert-block alert-danger\">\n",
    "    <h2>Reviewer's commentary: second iteration of the review <a class=\"tocSkip\"> </h2>\n",
    "    <br/>\n",
    "<b>Needs fixing!🤔:</b> \n",
    "        \n",
    "Itay, something went wrong this time and now code in this cell works with an error. So, please, try ti fix this bug because I cannot approve you project until all the code works correctly. I am sure you can fix this bug without any problem!\n",
    "        \n",
    "![image.png](attachment:image.png)\n",
    "        \n",
    "And one more thing: please, pay more attention to my commentaries in yellow boxes and try to work on them, it is also imporant to pay attention to the recommendations."
   ]
  },
  {
   "cell_type": "code",
   "execution_count": 12,
   "metadata": {},
   "outputs": [
    {
     "data": {
      "text/plain": [
       "buy real estate    10839\n",
       "purchase car        4315\n",
       "education           4022\n",
       "wedding             2348\n",
       "Name: purpose, dtype: int64"
      ]
     },
     "execution_count": 12,
     "metadata": {},
     "output_type": "execute_result"
    }
   ],
   "source": [
    "credit_score['purpose'].value_counts()"
   ]
  },
  {
   "cell_type": "markdown",
   "metadata": {},
   "source": [
    "-------------------------------\n",
    "**To Arina**\n",
    "\n",
    "Fixed the issue.\n",
    "\n",
    "quote: \"And as for your final categories, I would like to recommend you to unite the categories house, property, real estate in one common category.\"\n",
    "\n",
    "Didn't I do it with this **if** condition?\n",
    "\n",
    "    if ('hous' in stemmed_words) or ('estat' in stemmed_words) or ('properti' in stemmed_words):\n",
    "        return 'buy real estate'"
   ]
  },
  {
   "cell_type": "markdown",
   "metadata": {},
   "source": [
    "    \n",
    "<div class=\"alert alert-block alert-success\">\n",
    "    <h2>Reviewer's commentary: third iteration of the review <a class=\"tocSkip\"> </h2>\n",
    "    <br/>\n",
    "<b>Well done!👍:</b> \n",
    "        \n",
    "Ok, Itay, this time your code works correctly! Yes, in this if condition you did it, but at your final result previous times I can see a lot of categories analysed separately, including real estate, property, house, this time everything is alright!"
   ]
  },
  {
   "cell_type": "markdown",
   "metadata": {},
   "source": [
    "<div class=\"alert alert-block alert-success\">\n",
    "    <h2>Reviewer's commentary<a class=\"tocSkip\"> </h2>\n",
    "    <br/>\n",
    "<b>Well done!👍:</b> \n",
    "        \n",
    "As for categorization, I can agree with the categories you managed to identify."
   ]
  },
  {
   "cell_type": "markdown",
   "metadata": {},
   "source": [
    "<div class=\"alert alert-block alert-warning\">\n",
    "   <h2>Reviewer's commentary <a class=\"tocSkip\"> </h2>\n",
    "    <br/>\n",
    "<b>Remarks and recommendations📌:</b>  \n",
    "       \n",
    "You used stemming - it is alright, for categorization you can also use lemmatization technique.\n",
    "       \n",
    "More information about the lemmatization see below:\n",
    "       \n",
    "https://www.machinelearningplus.com/nlp/lemmatization-examples-python/\n",
    "       \n",
    "https://www.guru99.com/stemming-lemmatization-python-nltk.html\n",
    "       \n",
    "And as for your final categories, I would like to recommend you to unite the categories house, property, real estate in one common category."
   ]
  },
  {
   "cell_type": "code",
   "execution_count": 13,
   "metadata": {},
   "outputs": [],
   "source": [
    "credit_score['purpose_id'] = ''\n",
    "credit_score.loc[credit_score['purpose'] == 'wedding', 'purpose_id'] = 0\n",
    "credit_score.loc[credit_score['purpose'] == 'purchase car', 'purpose_id'] = 1\n",
    "credit_score.loc[credit_score['purpose'] == 'buy real estate', 'purpose_id'] = 2\n",
    "credit_score.loc[credit_score['purpose'] == 'education', 'purpose_id'] = 3\n"
   ]
  },
  {
   "cell_type": "code",
   "execution_count": 14,
   "metadata": {},
   "outputs": [
    {
     "data": {
      "text/html": [
       "<div>\n",
       "<style scoped>\n",
       "    .dataframe tbody tr th:only-of-type {\n",
       "        vertical-align: middle;\n",
       "    }\n",
       "\n",
       "    .dataframe tbody tr th {\n",
       "        vertical-align: top;\n",
       "    }\n",
       "\n",
       "    .dataframe thead th {\n",
       "        text-align: right;\n",
       "    }\n",
       "</style>\n",
       "<table border=\"1\" class=\"dataframe\">\n",
       "  <thead>\n",
       "    <tr style=\"text-align: right;\">\n",
       "      <th></th>\n",
       "      <th>children</th>\n",
       "      <th>days_employed</th>\n",
       "      <th>dob_years</th>\n",
       "      <th>education</th>\n",
       "      <th>education_id</th>\n",
       "      <th>family_status</th>\n",
       "      <th>family_status_id</th>\n",
       "      <th>gender</th>\n",
       "      <th>income_type</th>\n",
       "      <th>debt</th>\n",
       "      <th>total_income</th>\n",
       "      <th>purpose</th>\n",
       "      <th>purpose_id</th>\n",
       "    </tr>\n",
       "  </thead>\n",
       "  <tbody>\n",
       "    <tr>\n",
       "      <td>0</td>\n",
       "      <td>1</td>\n",
       "      <td>8437</td>\n",
       "      <td>42</td>\n",
       "      <td>bachelor's degree</td>\n",
       "      <td>0</td>\n",
       "      <td>married</td>\n",
       "      <td>0</td>\n",
       "      <td>F</td>\n",
       "      <td>employee</td>\n",
       "      <td>0</td>\n",
       "      <td>40620.102</td>\n",
       "      <td>buy real estate</td>\n",
       "      <td>2</td>\n",
       "    </tr>\n",
       "    <tr>\n",
       "      <td>1</td>\n",
       "      <td>1</td>\n",
       "      <td>4024</td>\n",
       "      <td>36</td>\n",
       "      <td>secondary education</td>\n",
       "      <td>1</td>\n",
       "      <td>married</td>\n",
       "      <td>0</td>\n",
       "      <td>F</td>\n",
       "      <td>employee</td>\n",
       "      <td>0</td>\n",
       "      <td>17932.802</td>\n",
       "      <td>purchase car</td>\n",
       "      <td>1</td>\n",
       "    </tr>\n",
       "    <tr>\n",
       "      <td>2</td>\n",
       "      <td>0</td>\n",
       "      <td>5623</td>\n",
       "      <td>33</td>\n",
       "      <td>secondary education</td>\n",
       "      <td>1</td>\n",
       "      <td>married</td>\n",
       "      <td>0</td>\n",
       "      <td>M</td>\n",
       "      <td>employee</td>\n",
       "      <td>0</td>\n",
       "      <td>23341.752</td>\n",
       "      <td>buy real estate</td>\n",
       "      <td>2</td>\n",
       "    </tr>\n",
       "    <tr>\n",
       "      <td>3</td>\n",
       "      <td>3</td>\n",
       "      <td>4124</td>\n",
       "      <td>32</td>\n",
       "      <td>secondary education</td>\n",
       "      <td>1</td>\n",
       "      <td>married</td>\n",
       "      <td>0</td>\n",
       "      <td>M</td>\n",
       "      <td>employee</td>\n",
       "      <td>0</td>\n",
       "      <td>42820.568</td>\n",
       "      <td>education</td>\n",
       "      <td>3</td>\n",
       "    </tr>\n",
       "    <tr>\n",
       "      <td>4</td>\n",
       "      <td>0</td>\n",
       "      <td>340266</td>\n",
       "      <td>53</td>\n",
       "      <td>secondary education</td>\n",
       "      <td>1</td>\n",
       "      <td>civil partnership</td>\n",
       "      <td>1</td>\n",
       "      <td>F</td>\n",
       "      <td>retiree</td>\n",
       "      <td>0</td>\n",
       "      <td>25378.572</td>\n",
       "      <td>wedding</td>\n",
       "      <td>0</td>\n",
       "    </tr>\n",
       "    <tr>\n",
       "      <td>...</td>\n",
       "      <td>...</td>\n",
       "      <td>...</td>\n",
       "      <td>...</td>\n",
       "      <td>...</td>\n",
       "      <td>...</td>\n",
       "      <td>...</td>\n",
       "      <td>...</td>\n",
       "      <td>...</td>\n",
       "      <td>...</td>\n",
       "      <td>...</td>\n",
       "      <td>...</td>\n",
       "      <td>...</td>\n",
       "      <td>...</td>\n",
       "    </tr>\n",
       "    <tr>\n",
       "      <td>21520</td>\n",
       "      <td>1</td>\n",
       "      <td>4529</td>\n",
       "      <td>43</td>\n",
       "      <td>secondary education</td>\n",
       "      <td>1</td>\n",
       "      <td>civil partnership</td>\n",
       "      <td>1</td>\n",
       "      <td>F</td>\n",
       "      <td>business</td>\n",
       "      <td>0</td>\n",
       "      <td>35966.698</td>\n",
       "      <td>buy real estate</td>\n",
       "      <td>2</td>\n",
       "    </tr>\n",
       "    <tr>\n",
       "      <td>21521</td>\n",
       "      <td>0</td>\n",
       "      <td>343937</td>\n",
       "      <td>67</td>\n",
       "      <td>secondary education</td>\n",
       "      <td>1</td>\n",
       "      <td>married</td>\n",
       "      <td>0</td>\n",
       "      <td>F</td>\n",
       "      <td>retiree</td>\n",
       "      <td>0</td>\n",
       "      <td>24959.969</td>\n",
       "      <td>purchase car</td>\n",
       "      <td>1</td>\n",
       "    </tr>\n",
       "    <tr>\n",
       "      <td>21522</td>\n",
       "      <td>1</td>\n",
       "      <td>2113</td>\n",
       "      <td>38</td>\n",
       "      <td>secondary education</td>\n",
       "      <td>1</td>\n",
       "      <td>civil partnership</td>\n",
       "      <td>1</td>\n",
       "      <td>M</td>\n",
       "      <td>employee</td>\n",
       "      <td>1</td>\n",
       "      <td>14347.610</td>\n",
       "      <td>buy real estate</td>\n",
       "      <td>2</td>\n",
       "    </tr>\n",
       "    <tr>\n",
       "      <td>21523</td>\n",
       "      <td>3</td>\n",
       "      <td>3112</td>\n",
       "      <td>38</td>\n",
       "      <td>secondary education</td>\n",
       "      <td>1</td>\n",
       "      <td>married</td>\n",
       "      <td>0</td>\n",
       "      <td>M</td>\n",
       "      <td>employee</td>\n",
       "      <td>1</td>\n",
       "      <td>39054.888</td>\n",
       "      <td>purchase car</td>\n",
       "      <td>1</td>\n",
       "    </tr>\n",
       "    <tr>\n",
       "      <td>21524</td>\n",
       "      <td>2</td>\n",
       "      <td>1984</td>\n",
       "      <td>40</td>\n",
       "      <td>secondary education</td>\n",
       "      <td>1</td>\n",
       "      <td>married</td>\n",
       "      <td>0</td>\n",
       "      <td>F</td>\n",
       "      <td>employee</td>\n",
       "      <td>0</td>\n",
       "      <td>13127.587</td>\n",
       "      <td>purchase car</td>\n",
       "      <td>1</td>\n",
       "    </tr>\n",
       "  </tbody>\n",
       "</table>\n",
       "<p>21524 rows × 13 columns</p>\n",
       "</div>"
      ],
      "text/plain": [
       "       children  days_employed  dob_years            education  education_id  \\\n",
       "0             1           8437         42    bachelor's degree             0   \n",
       "1             1           4024         36  secondary education             1   \n",
       "2             0           5623         33  secondary education             1   \n",
       "3             3           4124         32  secondary education             1   \n",
       "4             0         340266         53  secondary education             1   \n",
       "...         ...            ...        ...                  ...           ...   \n",
       "21520         1           4529         43  secondary education             1   \n",
       "21521         0         343937         67  secondary education             1   \n",
       "21522         1           2113         38  secondary education             1   \n",
       "21523         3           3112         38  secondary education             1   \n",
       "21524         2           1984         40  secondary education             1   \n",
       "\n",
       "           family_status  family_status_id gender income_type  debt  \\\n",
       "0                married                 0      F    employee     0   \n",
       "1                married                 0      F    employee     0   \n",
       "2                married                 0      M    employee     0   \n",
       "3                married                 0      M    employee     0   \n",
       "4      civil partnership                 1      F     retiree     0   \n",
       "...                  ...               ...    ...         ...   ...   \n",
       "21520  civil partnership                 1      F    business     0   \n",
       "21521            married                 0      F     retiree     0   \n",
       "21522  civil partnership                 1      M    employee     1   \n",
       "21523            married                 0      M    employee     1   \n",
       "21524            married                 0      F    employee     0   \n",
       "\n",
       "       total_income          purpose  purpose_id  \n",
       "0         40620.102  buy real estate           2  \n",
       "1         17932.802     purchase car           1  \n",
       "2         23341.752  buy real estate           2  \n",
       "3         42820.568        education           3  \n",
       "4         25378.572          wedding           0  \n",
       "...             ...              ...         ...  \n",
       "21520     35966.698  buy real estate           2  \n",
       "21521     24959.969     purchase car           1  \n",
       "21522     14347.610  buy real estate           2  \n",
       "21523     39054.888     purchase car           1  \n",
       "21524     13127.587     purchase car           1  \n",
       "\n",
       "[21524 rows x 13 columns]"
      ]
     },
     "execution_count": 14,
     "metadata": {},
     "output_type": "execute_result"
    }
   ],
   "source": [
    "credit_score"
   ]
  },
  {
   "cell_type": "markdown",
   "metadata": {},
   "source": [
    " **Categorizing total_income**"
   ]
  },
  {
   "cell_type": "code",
   "execution_count": 15,
   "metadata": {},
   "outputs": [],
   "source": [
    "def categorize_total_income(row):\n",
    "    total_income = row['total_income']\n",
    "    if total_income < 0:\n",
    "        return 'missing data'\n",
    "    if total_income < 20000:\n",
    "        return 'low'\n",
    "    if total_income < 40000:\n",
    "        return 'medium'\n",
    "    if total_income < 60000:\n",
    "        return 'high'\n",
    "    else:\n",
    "        return 'very high'\n",
    "\n",
    "\n",
    "credit_score['income_level'] = credit_score.apply(categorize_total_income, axis=1)   "
   ]
  },
  {
   "cell_type": "code",
   "execution_count": 16,
   "metadata": {},
   "outputs": [
    {
     "data": {
      "text/html": [
       "<div>\n",
       "<style scoped>\n",
       "    .dataframe tbody tr th:only-of-type {\n",
       "        vertical-align: middle;\n",
       "    }\n",
       "\n",
       "    .dataframe tbody tr th {\n",
       "        vertical-align: top;\n",
       "    }\n",
       "\n",
       "    .dataframe thead th {\n",
       "        text-align: right;\n",
       "    }\n",
       "</style>\n",
       "<table border=\"1\" class=\"dataframe\">\n",
       "  <thead>\n",
       "    <tr style=\"text-align: right;\">\n",
       "      <th></th>\n",
       "      <th>children</th>\n",
       "      <th>days_employed</th>\n",
       "      <th>dob_years</th>\n",
       "      <th>education</th>\n",
       "      <th>education_id</th>\n",
       "      <th>family_status</th>\n",
       "      <th>family_status_id</th>\n",
       "      <th>gender</th>\n",
       "      <th>income_type</th>\n",
       "      <th>debt</th>\n",
       "      <th>total_income</th>\n",
       "      <th>purpose</th>\n",
       "      <th>purpose_id</th>\n",
       "      <th>income_level</th>\n",
       "    </tr>\n",
       "  </thead>\n",
       "  <tbody>\n",
       "    <tr>\n",
       "      <td>0</td>\n",
       "      <td>1</td>\n",
       "      <td>8437</td>\n",
       "      <td>42</td>\n",
       "      <td>bachelor's degree</td>\n",
       "      <td>0</td>\n",
       "      <td>married</td>\n",
       "      <td>0</td>\n",
       "      <td>F</td>\n",
       "      <td>employee</td>\n",
       "      <td>0</td>\n",
       "      <td>40620.102</td>\n",
       "      <td>buy real estate</td>\n",
       "      <td>2</td>\n",
       "      <td>high</td>\n",
       "    </tr>\n",
       "    <tr>\n",
       "      <td>1</td>\n",
       "      <td>1</td>\n",
       "      <td>4024</td>\n",
       "      <td>36</td>\n",
       "      <td>secondary education</td>\n",
       "      <td>1</td>\n",
       "      <td>married</td>\n",
       "      <td>0</td>\n",
       "      <td>F</td>\n",
       "      <td>employee</td>\n",
       "      <td>0</td>\n",
       "      <td>17932.802</td>\n",
       "      <td>purchase car</td>\n",
       "      <td>1</td>\n",
       "      <td>low</td>\n",
       "    </tr>\n",
       "    <tr>\n",
       "      <td>2</td>\n",
       "      <td>0</td>\n",
       "      <td>5623</td>\n",
       "      <td>33</td>\n",
       "      <td>secondary education</td>\n",
       "      <td>1</td>\n",
       "      <td>married</td>\n",
       "      <td>0</td>\n",
       "      <td>M</td>\n",
       "      <td>employee</td>\n",
       "      <td>0</td>\n",
       "      <td>23341.752</td>\n",
       "      <td>buy real estate</td>\n",
       "      <td>2</td>\n",
       "      <td>medium</td>\n",
       "    </tr>\n",
       "    <tr>\n",
       "      <td>3</td>\n",
       "      <td>3</td>\n",
       "      <td>4124</td>\n",
       "      <td>32</td>\n",
       "      <td>secondary education</td>\n",
       "      <td>1</td>\n",
       "      <td>married</td>\n",
       "      <td>0</td>\n",
       "      <td>M</td>\n",
       "      <td>employee</td>\n",
       "      <td>0</td>\n",
       "      <td>42820.568</td>\n",
       "      <td>education</td>\n",
       "      <td>3</td>\n",
       "      <td>high</td>\n",
       "    </tr>\n",
       "    <tr>\n",
       "      <td>4</td>\n",
       "      <td>0</td>\n",
       "      <td>340266</td>\n",
       "      <td>53</td>\n",
       "      <td>secondary education</td>\n",
       "      <td>1</td>\n",
       "      <td>civil partnership</td>\n",
       "      <td>1</td>\n",
       "      <td>F</td>\n",
       "      <td>retiree</td>\n",
       "      <td>0</td>\n",
       "      <td>25378.572</td>\n",
       "      <td>wedding</td>\n",
       "      <td>0</td>\n",
       "      <td>medium</td>\n",
       "    </tr>\n",
       "    <tr>\n",
       "      <td>...</td>\n",
       "      <td>...</td>\n",
       "      <td>...</td>\n",
       "      <td>...</td>\n",
       "      <td>...</td>\n",
       "      <td>...</td>\n",
       "      <td>...</td>\n",
       "      <td>...</td>\n",
       "      <td>...</td>\n",
       "      <td>...</td>\n",
       "      <td>...</td>\n",
       "      <td>...</td>\n",
       "      <td>...</td>\n",
       "      <td>...</td>\n",
       "      <td>...</td>\n",
       "    </tr>\n",
       "    <tr>\n",
       "      <td>21520</td>\n",
       "      <td>1</td>\n",
       "      <td>4529</td>\n",
       "      <td>43</td>\n",
       "      <td>secondary education</td>\n",
       "      <td>1</td>\n",
       "      <td>civil partnership</td>\n",
       "      <td>1</td>\n",
       "      <td>F</td>\n",
       "      <td>business</td>\n",
       "      <td>0</td>\n",
       "      <td>35966.698</td>\n",
       "      <td>buy real estate</td>\n",
       "      <td>2</td>\n",
       "      <td>medium</td>\n",
       "    </tr>\n",
       "    <tr>\n",
       "      <td>21521</td>\n",
       "      <td>0</td>\n",
       "      <td>343937</td>\n",
       "      <td>67</td>\n",
       "      <td>secondary education</td>\n",
       "      <td>1</td>\n",
       "      <td>married</td>\n",
       "      <td>0</td>\n",
       "      <td>F</td>\n",
       "      <td>retiree</td>\n",
       "      <td>0</td>\n",
       "      <td>24959.969</td>\n",
       "      <td>purchase car</td>\n",
       "      <td>1</td>\n",
       "      <td>medium</td>\n",
       "    </tr>\n",
       "    <tr>\n",
       "      <td>21522</td>\n",
       "      <td>1</td>\n",
       "      <td>2113</td>\n",
       "      <td>38</td>\n",
       "      <td>secondary education</td>\n",
       "      <td>1</td>\n",
       "      <td>civil partnership</td>\n",
       "      <td>1</td>\n",
       "      <td>M</td>\n",
       "      <td>employee</td>\n",
       "      <td>1</td>\n",
       "      <td>14347.610</td>\n",
       "      <td>buy real estate</td>\n",
       "      <td>2</td>\n",
       "      <td>low</td>\n",
       "    </tr>\n",
       "    <tr>\n",
       "      <td>21523</td>\n",
       "      <td>3</td>\n",
       "      <td>3112</td>\n",
       "      <td>38</td>\n",
       "      <td>secondary education</td>\n",
       "      <td>1</td>\n",
       "      <td>married</td>\n",
       "      <td>0</td>\n",
       "      <td>M</td>\n",
       "      <td>employee</td>\n",
       "      <td>1</td>\n",
       "      <td>39054.888</td>\n",
       "      <td>purchase car</td>\n",
       "      <td>1</td>\n",
       "      <td>medium</td>\n",
       "    </tr>\n",
       "    <tr>\n",
       "      <td>21524</td>\n",
       "      <td>2</td>\n",
       "      <td>1984</td>\n",
       "      <td>40</td>\n",
       "      <td>secondary education</td>\n",
       "      <td>1</td>\n",
       "      <td>married</td>\n",
       "      <td>0</td>\n",
       "      <td>F</td>\n",
       "      <td>employee</td>\n",
       "      <td>0</td>\n",
       "      <td>13127.587</td>\n",
       "      <td>purchase car</td>\n",
       "      <td>1</td>\n",
       "      <td>low</td>\n",
       "    </tr>\n",
       "  </tbody>\n",
       "</table>\n",
       "<p>21524 rows × 14 columns</p>\n",
       "</div>"
      ],
      "text/plain": [
       "       children  days_employed  dob_years            education  education_id  \\\n",
       "0             1           8437         42    bachelor's degree             0   \n",
       "1             1           4024         36  secondary education             1   \n",
       "2             0           5623         33  secondary education             1   \n",
       "3             3           4124         32  secondary education             1   \n",
       "4             0         340266         53  secondary education             1   \n",
       "...         ...            ...        ...                  ...           ...   \n",
       "21520         1           4529         43  secondary education             1   \n",
       "21521         0         343937         67  secondary education             1   \n",
       "21522         1           2113         38  secondary education             1   \n",
       "21523         3           3112         38  secondary education             1   \n",
       "21524         2           1984         40  secondary education             1   \n",
       "\n",
       "           family_status  family_status_id gender income_type  debt  \\\n",
       "0                married                 0      F    employee     0   \n",
       "1                married                 0      F    employee     0   \n",
       "2                married                 0      M    employee     0   \n",
       "3                married                 0      M    employee     0   \n",
       "4      civil partnership                 1      F     retiree     0   \n",
       "...                  ...               ...    ...         ...   ...   \n",
       "21520  civil partnership                 1      F    business     0   \n",
       "21521            married                 0      F     retiree     0   \n",
       "21522  civil partnership                 1      M    employee     1   \n",
       "21523            married                 0      M    employee     1   \n",
       "21524            married                 0      F    employee     0   \n",
       "\n",
       "       total_income          purpose  purpose_id income_level  \n",
       "0         40620.102  buy real estate           2         high  \n",
       "1         17932.802     purchase car           1          low  \n",
       "2         23341.752  buy real estate           2       medium  \n",
       "3         42820.568        education           3         high  \n",
       "4         25378.572          wedding           0       medium  \n",
       "...             ...              ...         ...          ...  \n",
       "21520     35966.698  buy real estate           2       medium  \n",
       "21521     24959.969     purchase car           1       medium  \n",
       "21522     14347.610  buy real estate           2          low  \n",
       "21523     39054.888     purchase car           1       medium  \n",
       "21524     13127.587     purchase car           1          low  \n",
       "\n",
       "[21524 rows x 14 columns]"
      ]
     },
     "execution_count": 16,
     "metadata": {},
     "output_type": "execute_result"
    }
   ],
   "source": [
    "credit_score"
   ]
  },
  {
   "cell_type": "markdown",
   "metadata": {},
   "source": [
    "### Conclusion"
   ]
  },
  {
   "cell_type": "markdown",
   "metadata": {},
   "source": [
    "Going over the purpose column, I have identified 4 categories.\n",
    "\n",
    "going over the total_income, you can see there are much more people in the ranges of 20k - 40k than 60k and up.\n",
    "\n",
    "So created categories with 20k brackets.\n",
    "\n",
    "Categorizing these columns which have ranging data will help in identifiying trends."
   ]
  },
  {
   "cell_type": "markdown",
   "metadata": {},
   "source": [
    "\n",
    "<div class=\"alert alert-block alert-danger\">\n",
    "    <h2>Reviewer's commentary <a class=\"tocSkip\"> </h2>\n",
    "    <br/>\n",
    "<b>Needs fixing!🤔:</b> \n",
    "        \n",
    "Again, it is better to add intermediate conclusion here."
   ]
  },
  {
   "cell_type": "markdown",
   "metadata": {},
   "source": [
    "    \n",
    "<div class=\"alert alert-block alert-success\">\n",
    "    <h2>Reviewer's commentary: second iteration of the review <a class=\"tocSkip\"> </h2>\n",
    "    <br/>\n",
    "<b>Well done!👍:</b> \n",
    "        \n",
    "Ok, agree with your conclusion!"
   ]
  },
  {
   "cell_type": "markdown",
   "metadata": {},
   "source": [
    "## Answer these questions"
   ]
  },
  {
   "cell_type": "markdown",
   "metadata": {},
   "source": [
    "- Is there a relation between having kids and repaying a loan on time?"
   ]
  },
  {
   "cell_type": "code",
   "execution_count": 17,
   "metadata": {},
   "outputs": [],
   "source": [
    "credit_score_children_pivot = credit_score.pivot_table(\n",
    "    index=['children'],\n",
    "    columns=['debt'],\n",
    "    values='dob_years',\n",
    "    aggfunc='count',\n",
    "margins=True).reset_index()"
   ]
  },
  {
   "cell_type": "code",
   "execution_count": 18,
   "metadata": {},
   "outputs": [
    {
     "data": {
      "text/html": [
       "<div>\n",
       "<style scoped>\n",
       "    .dataframe tbody tr th:only-of-type {\n",
       "        vertical-align: middle;\n",
       "    }\n",
       "\n",
       "    .dataframe tbody tr th {\n",
       "        vertical-align: top;\n",
       "    }\n",
       "\n",
       "    .dataframe thead th {\n",
       "        text-align: right;\n",
       "    }\n",
       "</style>\n",
       "<table border=\"1\" class=\"dataframe\">\n",
       "  <thead>\n",
       "    <tr style=\"text-align: right;\">\n",
       "      <th>debt</th>\n",
       "      <th>children</th>\n",
       "      <th>0</th>\n",
       "      <th>1</th>\n",
       "      <th>All</th>\n",
       "      <th>debt_children_ratio</th>\n",
       "    </tr>\n",
       "  </thead>\n",
       "  <tbody>\n",
       "    <tr>\n",
       "      <td>5</td>\n",
       "      <td>5</td>\n",
       "      <td>9</td>\n",
       "      <td>0</td>\n",
       "      <td>9</td>\n",
       "      <td>0.000000</td>\n",
       "    </tr>\n",
       "    <tr>\n",
       "      <td>0</td>\n",
       "      <td>0</td>\n",
       "      <td>13085</td>\n",
       "      <td>1063</td>\n",
       "      <td>14148</td>\n",
       "      <td>7.513429</td>\n",
       "    </tr>\n",
       "    <tr>\n",
       "      <td>6</td>\n",
       "      <td>All</td>\n",
       "      <td>19783</td>\n",
       "      <td>1741</td>\n",
       "      <td>21524</td>\n",
       "      <td>8.088645</td>\n",
       "    </tr>\n",
       "    <tr>\n",
       "      <td>3</td>\n",
       "      <td>3</td>\n",
       "      <td>303</td>\n",
       "      <td>27</td>\n",
       "      <td>330</td>\n",
       "      <td>8.181818</td>\n",
       "    </tr>\n",
       "    <tr>\n",
       "      <td>1</td>\n",
       "      <td>1</td>\n",
       "      <td>4420</td>\n",
       "      <td>445</td>\n",
       "      <td>4865</td>\n",
       "      <td>9.146968</td>\n",
       "    </tr>\n",
       "    <tr>\n",
       "      <td>2</td>\n",
       "      <td>2</td>\n",
       "      <td>1929</td>\n",
       "      <td>202</td>\n",
       "      <td>2131</td>\n",
       "      <td>9.479118</td>\n",
       "    </tr>\n",
       "    <tr>\n",
       "      <td>4</td>\n",
       "      <td>4</td>\n",
       "      <td>37</td>\n",
       "      <td>4</td>\n",
       "      <td>41</td>\n",
       "      <td>9.756098</td>\n",
       "    </tr>\n",
       "  </tbody>\n",
       "</table>\n",
       "</div>"
      ],
      "text/plain": [
       "debt children      0     1    All  debt_children_ratio\n",
       "5           5      9     0      9             0.000000\n",
       "0           0  13085  1063  14148             7.513429\n",
       "6         All  19783  1741  21524             8.088645\n",
       "3           3    303    27    330             8.181818\n",
       "1           1   4420   445   4865             9.146968\n",
       "2           2   1929   202   2131             9.479118\n",
       "4           4     37     4     41             9.756098"
      ]
     },
     "execution_count": 18,
     "metadata": {},
     "output_type": "execute_result"
    }
   ],
   "source": [
    "credit_score_children_pivot = credit_score_children_pivot.fillna(0) # with 5 children no debt so getting na\n",
    "credit_score_children_pivot = credit_score_children_pivot.astype({0:'int64',1:'int64'})\n",
    "credit_score_children_pivot['debt_children_ratio'] = credit_score_children_pivot[1] / credit_score_children_pivot['All'] *100\n",
    "credit_score_children_pivot.sort_values('debt_children_ratio')"
   ]
  },
  {
   "cell_type": "markdown",
   "metadata": {},
   "source": [
    "\n",
    "**by Arina recommendation**\n",
    "\n",
    "It seems people with no children are less likely to have debt than people with 1 or more children.\n",
    "\n",
    "There is a spike in debt when people have 1 child, prehaps people with first child take extra expenses since tthere is a lot of new stuff to buy.\n",
    "\n",
    "there is an outlier in the case of having 5 children, the sample size is too small(9) to take into account."
   ]
  },
  {
   "cell_type": "markdown",
   "metadata": {},
   "source": [
    "\n",
    "<div class=\"alert alert-block alert-danger\">\n",
    "    <h2>Reviewer's commentary <a class=\"tocSkip\"> </h2>\n",
    "    <br/>\n",
    "<b>Needs fixing!🤔:</b> \n",
    "        \n",
    "I cannot agree with you because in the sphere of crediting, loans, even hundredth of a percent can make sense because in case of loans such a small number can be converted to a great amount of money.\n",
    "        \n",
    "In fact people who have no children more likely to repay the debt, be more attentive to results you get."
   ]
  },
  {
   "cell_type": "markdown",
   "metadata": {},
   "source": [
    "    \n",
    "<div class=\"alert alert-block alert-success\">\n",
    "    <h2>Reviewer's commentary: second iteration of the review <a class=\"tocSkip\"> </h2>\n",
    "    <br/>\n",
    "<b>Well done!👍:</b> \n",
    "        \n",
    "ok this time your conclusions are more accurate, agree with you!"
   ]
  },
  {
   "cell_type": "markdown",
   "metadata": {},
   "source": [
    "### Conclusion"
   ]
  },
  {
   "cell_type": "markdown",
   "metadata": {},
   "source": [
    "- Is there a relation between marital status and repaying a loan on time?"
   ]
  },
  {
   "cell_type": "code",
   "execution_count": 19,
   "metadata": {},
   "outputs": [],
   "source": [
    "family_status_pivot = credit_score.pivot_table(\n",
    "    index=['family_status'],\n",
    "    columns=['debt'],\n",
    "    values='dob_years',\n",
    "    aggfunc='count',\n",
    "margins=True).reset_index()"
   ]
  },
  {
   "cell_type": "code",
   "execution_count": 20,
   "metadata": {},
   "outputs": [
    {
     "data": {
      "text/html": [
       "<div>\n",
       "<style scoped>\n",
       "    .dataframe tbody tr th:only-of-type {\n",
       "        vertical-align: middle;\n",
       "    }\n",
       "\n",
       "    .dataframe tbody tr th {\n",
       "        vertical-align: top;\n",
       "    }\n",
       "\n",
       "    .dataframe thead th {\n",
       "        text-align: right;\n",
       "    }\n",
       "</style>\n",
       "<table border=\"1\" class=\"dataframe\">\n",
       "  <thead>\n",
       "    <tr style=\"text-align: right;\">\n",
       "      <th>debt</th>\n",
       "      <th>family_status</th>\n",
       "      <th>0</th>\n",
       "      <th>1</th>\n",
       "      <th>All</th>\n",
       "      <th>family_status_debt_ratio</th>\n",
       "    </tr>\n",
       "  </thead>\n",
       "  <tbody>\n",
       "    <tr>\n",
       "      <td>4</td>\n",
       "      <td>widow / widower</td>\n",
       "      <td>897</td>\n",
       "      <td>63</td>\n",
       "      <td>960</td>\n",
       "      <td>6.562500</td>\n",
       "    </tr>\n",
       "    <tr>\n",
       "      <td>1</td>\n",
       "      <td>divorced</td>\n",
       "      <td>1110</td>\n",
       "      <td>85</td>\n",
       "      <td>1195</td>\n",
       "      <td>7.112971</td>\n",
       "    </tr>\n",
       "    <tr>\n",
       "      <td>2</td>\n",
       "      <td>married</td>\n",
       "      <td>11449</td>\n",
       "      <td>931</td>\n",
       "      <td>12380</td>\n",
       "      <td>7.520194</td>\n",
       "    </tr>\n",
       "    <tr>\n",
       "      <td>5</td>\n",
       "      <td>All</td>\n",
       "      <td>19783</td>\n",
       "      <td>1741</td>\n",
       "      <td>21524</td>\n",
       "      <td>8.088645</td>\n",
       "    </tr>\n",
       "    <tr>\n",
       "      <td>0</td>\n",
       "      <td>civil partnership</td>\n",
       "      <td>3788</td>\n",
       "      <td>388</td>\n",
       "      <td>4176</td>\n",
       "      <td>9.291188</td>\n",
       "    </tr>\n",
       "    <tr>\n",
       "      <td>3</td>\n",
       "      <td>unmarried</td>\n",
       "      <td>2539</td>\n",
       "      <td>274</td>\n",
       "      <td>2813</td>\n",
       "      <td>9.740491</td>\n",
       "    </tr>\n",
       "  </tbody>\n",
       "</table>\n",
       "</div>"
      ],
      "text/plain": [
       "debt      family_status      0     1    All  family_status_debt_ratio\n",
       "4       widow / widower    897    63    960                  6.562500\n",
       "1              divorced   1110    85   1195                  7.112971\n",
       "2               married  11449   931  12380                  7.520194\n",
       "5                   All  19783  1741  21524                  8.088645\n",
       "0     civil partnership   3788   388   4176                  9.291188\n",
       "3             unmarried   2539   274   2813                  9.740491"
      ]
     },
     "execution_count": 20,
     "metadata": {},
     "output_type": "execute_result"
    }
   ],
   "source": [
    "family_status_pivot['family_status_debt_ratio'] = family_status_pivot[1] / family_status_pivot['All'] *100\n",
    "family_status_pivot.sort_values('family_status_debt_ratio')"
   ]
  },
  {
   "cell_type": "markdown",
   "metadata": {},
   "source": [
    "It seems more unmarried people have debt about 10\n",
    "\n",
    "I'm guessing the reason widow /widower have the lowest debt ratio, since most of them have \n",
    "paid most of their financial obligations"
   ]
  },
  {
   "cell_type": "markdown",
   "metadata": {},
   "source": [
    "<div class=\"alert alert-block alert-success\">\n",
    "    <h2>Reviewer's commentary<a class=\"tocSkip\"> </h2>\n",
    "    <br/>\n",
    "<b>Well done!👍:</b> \n",
    "        \n",
    "Ok, absolutely agree with your results."
   ]
  },
  {
   "cell_type": "markdown",
   "metadata": {},
   "source": [
    "### Conclusion"
   ]
  },
  {
   "cell_type": "markdown",
   "metadata": {},
   "source": []
  },
  {
   "cell_type": "markdown",
   "metadata": {},
   "source": [
    "- Is there a relation between income level and repaying a loan on time?"
   ]
  },
  {
   "cell_type": "code",
   "execution_count": 21,
   "metadata": {},
   "outputs": [
    {
     "data": {
      "text/html": [
       "<div>\n",
       "<style scoped>\n",
       "    .dataframe tbody tr th:only-of-type {\n",
       "        vertical-align: middle;\n",
       "    }\n",
       "\n",
       "    .dataframe tbody tr th {\n",
       "        vertical-align: top;\n",
       "    }\n",
       "\n",
       "    .dataframe thead th {\n",
       "        text-align: right;\n",
       "    }\n",
       "</style>\n",
       "<table border=\"1\" class=\"dataframe\">\n",
       "  <thead>\n",
       "    <tr style=\"text-align: right;\">\n",
       "      <th>debt</th>\n",
       "      <th>income_level</th>\n",
       "      <th>0</th>\n",
       "      <th>1</th>\n",
       "      <th>All</th>\n",
       "      <th>income_level_debt</th>\n",
       "    </tr>\n",
       "  </thead>\n",
       "  <tbody>\n",
       "    <tr>\n",
       "      <td>4</td>\n",
       "      <td>very high</td>\n",
       "      <td>634</td>\n",
       "      <td>38</td>\n",
       "      <td>672</td>\n",
       "      <td>5.654762</td>\n",
       "    </tr>\n",
       "    <tr>\n",
       "      <td>0</td>\n",
       "      <td>high</td>\n",
       "      <td>1984</td>\n",
       "      <td>156</td>\n",
       "      <td>2140</td>\n",
       "      <td>7.289720</td>\n",
       "    </tr>\n",
       "    <tr>\n",
       "      <td>3</td>\n",
       "      <td>missing data</td>\n",
       "      <td>2004</td>\n",
       "      <td>170</td>\n",
       "      <td>2174</td>\n",
       "      <td>7.819687</td>\n",
       "    </tr>\n",
       "    <tr>\n",
       "      <td>5</td>\n",
       "      <td>All</td>\n",
       "      <td>19783</td>\n",
       "      <td>1741</td>\n",
       "      <td>21524</td>\n",
       "      <td>8.088645</td>\n",
       "    </tr>\n",
       "    <tr>\n",
       "      <td>1</td>\n",
       "      <td>low</td>\n",
       "      <td>6761</td>\n",
       "      <td>608</td>\n",
       "      <td>7369</td>\n",
       "      <td>8.250780</td>\n",
       "    </tr>\n",
       "    <tr>\n",
       "      <td>2</td>\n",
       "      <td>medium</td>\n",
       "      <td>8400</td>\n",
       "      <td>769</td>\n",
       "      <td>9169</td>\n",
       "      <td>8.386956</td>\n",
       "    </tr>\n",
       "  </tbody>\n",
       "</table>\n",
       "</div>"
      ],
      "text/plain": [
       "debt  income_level      0     1    All  income_level_debt\n",
       "4        very high    634    38    672           5.654762\n",
       "0             high   1984   156   2140           7.289720\n",
       "3     missing data   2004   170   2174           7.819687\n",
       "5              All  19783  1741  21524           8.088645\n",
       "1              low   6761   608   7369           8.250780\n",
       "2           medium   8400   769   9169           8.386956"
      ]
     },
     "execution_count": 21,
     "metadata": {},
     "output_type": "execute_result"
    }
   ],
   "source": [
    "income_level_debt_pivot = credit_score.pivot_table(\n",
    "    index=['income_level'],\n",
    "    columns=['debt'],\n",
    "    values='dob_years',\n",
    "    aggfunc='count',\n",
    "margins=True).reset_index()\n",
    "\n",
    "income_level_debt_pivot['income_level_debt'] = income_level_debt_pivot[1] / income_level_debt_pivot['All'] *100\n",
    "income_level_debt_pivot.sort_values('income_level_debt')"
   ]
  },
  {
   "cell_type": "markdown",
   "metadata": {},
   "source": [
    "### Conclusion\n",
    "\n",
    "people with high level of income are less probable having debt."
   ]
  },
  {
   "cell_type": "markdown",
   "metadata": {},
   "source": [
    "- How do different loan purposes affect on-time repayment of the loan?"
   ]
  },
  {
   "cell_type": "code",
   "execution_count": 22,
   "metadata": {},
   "outputs": [
    {
     "data": {
      "text/html": [
       "<div>\n",
       "<style scoped>\n",
       "    .dataframe tbody tr th:only-of-type {\n",
       "        vertical-align: middle;\n",
       "    }\n",
       "\n",
       "    .dataframe tbody tr th {\n",
       "        vertical-align: top;\n",
       "    }\n",
       "\n",
       "    .dataframe thead th {\n",
       "        text-align: right;\n",
       "    }\n",
       "</style>\n",
       "<table border=\"1\" class=\"dataframe\">\n",
       "  <thead>\n",
       "    <tr style=\"text-align: right;\">\n",
       "      <th>debt</th>\n",
       "      <th>purpose</th>\n",
       "      <th>0</th>\n",
       "      <th>1</th>\n",
       "      <th>All</th>\n",
       "      <th>purpose_debt_ratio</th>\n",
       "    </tr>\n",
       "  </thead>\n",
       "  <tbody>\n",
       "    <tr>\n",
       "      <td>0</td>\n",
       "      <td>buy real estate</td>\n",
       "      <td>10057</td>\n",
       "      <td>782</td>\n",
       "      <td>10839</td>\n",
       "      <td>7.214688</td>\n",
       "    </tr>\n",
       "    <tr>\n",
       "      <td>3</td>\n",
       "      <td>wedding</td>\n",
       "      <td>2162</td>\n",
       "      <td>186</td>\n",
       "      <td>2348</td>\n",
       "      <td>7.921635</td>\n",
       "    </tr>\n",
       "    <tr>\n",
       "      <td>4</td>\n",
       "      <td>All</td>\n",
       "      <td>19783</td>\n",
       "      <td>1741</td>\n",
       "      <td>21524</td>\n",
       "      <td>8.088645</td>\n",
       "    </tr>\n",
       "    <tr>\n",
       "      <td>1</td>\n",
       "      <td>education</td>\n",
       "      <td>3652</td>\n",
       "      <td>370</td>\n",
       "      <td>4022</td>\n",
       "      <td>9.199403</td>\n",
       "    </tr>\n",
       "    <tr>\n",
       "      <td>2</td>\n",
       "      <td>purchase car</td>\n",
       "      <td>3912</td>\n",
       "      <td>403</td>\n",
       "      <td>4315</td>\n",
       "      <td>9.339513</td>\n",
       "    </tr>\n",
       "  </tbody>\n",
       "</table>\n",
       "</div>"
      ],
      "text/plain": [
       "debt          purpose      0     1    All  purpose_debt_ratio\n",
       "0     buy real estate  10057   782  10839            7.214688\n",
       "3             wedding   2162   186   2348            7.921635\n",
       "4                 All  19783  1741  21524            8.088645\n",
       "1           education   3652   370   4022            9.199403\n",
       "2        purchase car   3912   403   4315            9.339513"
      ]
     },
     "execution_count": 22,
     "metadata": {},
     "output_type": "execute_result"
    }
   ],
   "source": [
    "purpose_debt_pivot = credit_score.pivot_table(\n",
    "    index=['purpose'],\n",
    "    columns=['debt'],\n",
    "    values='dob_years',\n",
    "    aggfunc='count',\n",
    "margins=True).reset_index()\n",
    "\n",
    "purpose_debt_pivot['purpose_debt_ratio'] = purpose_debt_pivot[1] / purpose_debt_pivot['All'] *100\n",
    "purpose_debt_pivot.sort_values('purpose_debt_ratio')\n",
    "\n",
    "# Idea for a reason, people who buy a car and buy a car who have a debt are young in college"
   ]
  },
  {
   "attachments": {
    "image.png": {
     "image/png": "[encoded data removed]"
    }
   },
   "cell_type": "markdown",
   "metadata": {},
   "source": [
    "\n",
    "<div class=\"alert alert-block alert-danger\">\n",
    "    <h2>Reviewer's commentary: second iteration of the review <a class=\"tocSkip\"> </h2>\n",
    "    <br/>\n",
    "<b>Needs fixing!🤔:</b> \n",
    "        \n",
    "I suppose that it is because the error in the cell in which you tried to categorize the data but now I can see your previous version of categorization (there is no 4 categories, but a lot of them)\n",
    "        \n",
    "![image.png](attachment:image.png)"
   ]
  },
  {
   "cell_type": "markdown",
   "metadata": {},
   "source": [
    "    \n",
    "<div class=\"alert alert-block alert-success\">\n",
    "    <h2>Reviewer's commentary: third iteration of the review <a class=\"tocSkip\"> </h2>\n",
    "    <br/>\n",
    "<b>Well done!👍:</b> \n",
    "        \n",
    "Ok, good job, your decision is correct this time!"
   ]
  },
  {
   "cell_type": "code",
   "execution_count": 23,
   "metadata": {},
   "outputs": [
    {
     "data": {
      "image/png": "[encoded data removed]",
      "text/plain": [
       "<Figure size 432x288 with 1 Axes>"
      ]
     },
     "metadata": {
      "needs_background": "light"
     },
     "output_type": "display_data"
    }
   ],
   "source": [
    "import matplotlib.pyplot as plt\n",
    "\n",
    "hist = credit_score[(credit_score['purpose'] == 'purchase car') & (credit_score['debt'] == 1)]['dob_years'].hist()\n",
    "\n",
    "hist2 = credit_score[(credit_score['purpose'] == 'education') & (credit_score['debt'] == 1)  ]['dob_years'].hist()\n",
    "\n",
    "plt.xlabel('DOB years')\n",
    "plt.ylabel(\"number of people buying cars with debt\");\n"
   ]
  },
  {
   "cell_type": "markdown",
   "metadata": {},
   "source": [
    "### Conclusion\n",
    "Seems like people who's purpose are education or car are more likely to have debt.\n",
    "Not sure about correlation to age."
   ]
  },
  {
   "cell_type": "markdown",
   "metadata": {},
   "source": [
    "<div class=\"alert alert-block alert-success\">\n",
    "    <h2>Reviewer's commentary<a class=\"tocSkip\"> </h2>\n",
    "    <br/>\n",
    "<b>Well done!👍:</b> \n",
    "        \n",
    "Absolutely true! It is great that you built a plot here, good job!"
   ]
  },
  {
   "cell_type": "markdown",
   "metadata": {},
   "source": [
    "<div class=\"alert alert-block alert-warning\">\n",
    "   <h2>Reviewer's commentary <a class=\"tocSkip\"> </h2>\n",
    "    <br/>\n",
    "<b>Remarks and recommendations📌:</b>  \n",
    "       \n",
    "But if you used the visualization in your project, it is important to pay more attention to the plot formatting: it is better to add the common title and x and y-axis labels to you plot."
   ]
  },
  {
   "cell_type": "markdown",
   "metadata": {},
   "source": [
    "## General conclusion"
   ]
  },
  {
   "cell_type": "markdown",
   "metadata": {},
   "source": [
    "Debt can be affected by a couple of factors:\n",
    "\n",
    "* Number of children\n",
    "    * the more you have the more likely you have debt\n",
    "    * with the exclusion of having 1 child\n",
    "      * perhaps because it's there first child there are more expenses for new stuff\n",
    "\n",
    "* family status:\n",
    "    * unmarried seem to have the most debt\n",
    "    * widow /widower having the least debt\n",
    "        * perhaps they have taken care of most of there finnacial obligation before.\n",
    "\n",
    "* income level:\n",
    "    * an obvious conclusion, the more income you have the less likely you are to have debt"
   ]
  },
  {
   "cell_type": "markdown",
   "metadata": {},
   "source": [
    "\n",
    "<div class=\"alert alert-block alert-danger\">\n",
    "    <h2>Reviewer's commentary <a class=\"tocSkip\"> </h2>\n",
    "    <br/>\n",
    "<b>Needs fixing!🤔:</b> \n",
    "      \n",
    "It is important to formulate the final conclusion, so,please, try to do it!"
   ]
  },
  {
   "cell_type": "markdown",
   "metadata": {},
   "source": [
    "<div class=\"alert alert-block alert-success\">\n",
    "    <h2>Reviewer's commentary: second iteration of the review<a class=\"tocSkip\"> </h2>\n",
    "    <br/>\n",
    "<b>Well done!👍:</b> \n",
    "        \n",
    "Ok, it is great that you added the final conclusion!"
   ]
  },
  {
   "cell_type": "markdown",
   "metadata": {},
   "source": [
    "<div style=\"border:solid Chocolate 2px; padding: 40px\">\n",
    "\n",
    "**The overall review conclusion**\n",
    "\n",
    "Itay, thank you for submitting your project! I can see that you've worked really hard on it! Good job! But there are several things in your project which I suppose it is important to fix in order to make your project really ideal! My comments will navigate you!\n",
    "\n",
    "**Good things and practices in your project I want to highlight🙂**:t!\n",
    "* You use different methods for working with your data. It is really great that you can apply these methods on practice, keep it up!\n",
    "* It is great that you use automation tools that you use for completing the tasks and created your own functions! \n",
    "* you correctly categorized the data.\n",
    "    \n",
    "**What is worth working on👀**:\n",
    "    \n",
    "* It is important to preprocess the anomalies, artefacts, dublicates values in data\n",
    "* it is important to add intermediate and final conclusions.\n",
    "* For categorization of the loan purposesyou can lemmatization.\n",
    "* You will find additional recommendations in my comments!\n",
    "    \n",
    " \n",
    "**Good luck! I will wait for your work for a second iteration of the review!😉**\n",
    "\n",
    "![gif](https://media.giphy.com/media/OZbGrdp7FiDiE/giphy.gif)  "
   ]
  },
  {
   "cell_type": "markdown",
   "metadata": {},
   "source": [
    "<div style=\"border:solid Chocolate 2px; padding: 40px\">\n",
    "\n",
    "**The overall review conclusion: second iteration of the review**\n",
    "\n",
    "Itay, thank you for submitting your project with corrections! I can see your improvements, you did a great job, but there are still some moments that need to be fixed. All recommendations you will find in my commentaries\n",
    "    \n",
    "**Good luck! I will wait for your work for a third iteration of the review!😉**\n",
    "\n",
    "![gif](https://media.giphy.com/media/ln4bohPvHhwgo/giphy.gif)  "
   ]
  },
  {
   "cell_type": "markdown",
   "metadata": {},
   "source": [
    "<div style=\"border:solid Chocolate 2px; padding: 40px\">\n",
    "\n",
    "**The overall review conclusion: third iteration of the review**\n",
    "\n",
    "Itay, thank you for submitting your project with corrections again! Everything is alright this time, so I hasten to say that your project has been accepted and you can proceed to the next sprint!\n",
    "    \n",
    "**I wish you exciting and cool projects in the next sprints😉**\n",
    "\n",
    "![gif](https://media.giphy.com/media/12XDYvMJNcmLgQ/giphy.gif)  "
   ]
  },
  {
   "cell_type": "markdown",
   "metadata": {},
   "source": [
    "## Project Readiness Checklist\n",
    "\n",
    "Put 'x' in the completed points. Then press Shift + Enter."
   ]
  },
  {
   "cell_type": "markdown",
   "metadata": {},
   "source": [
    "- [x]  file open;\n",
    "- [x]  file examined;\n",
    "- [x]  missing values defined;\n",
    "- [x]  missing values are filled;\n",
    "- [x]  an explanation of which missing value types were detected;\n",
    "- [x]  explanation for the possible causes of missing values;\n",
    "- [x]  an explanation of how the blanks are filled;\n",
    "- [x]  replaced the real data type with an integer;\n",
    "- [x]  an explanation of which method is used to change the data type and why;\n",
    "- [x]  duplicates deleted;\n",
    "- [x]  an explanation of which method is used to find and remove duplicates;\n",
    "- [x]  description of the possible reasons for the appearance of duplicates in the data;\n",
    "- [x]  data is categorized;\n",
    "- [x]  an explanation of the principle of data categorization;\n",
    "- [x]  an answer to the question \"Is there a relation between having kids and repaying a loan on time?\";\n",
    "- [x]  an answer to the question \" Is there a relation between marital status and repaying a loan on time?\";\n",
    "- [x]   an answer to the question \" Is there a relation between income level and repaying a loan on time?\";\n",
    "- [x]  an answer to the question \" How do different loan purposes affect on-time repayment of the loan?\"\n",
    "- [x]  conclusions are present on each stage;\n",
    "- [x]  a general conclusion is made."
   ]
  },
  {
   "cell_type": "code",
   "execution_count": null,
   "metadata": {},
   "outputs": [],
   "source": []
  }
 ],
 "metadata": {
  "ExecuteTimeLog": [
   {
    "duration": 1009,
    "start_time": "2021-06-12T09:21:19.003Z"
   },
   {
    "duration": 7757,
    "start_time": "2021-06-12T09:24:22.667Z"
   },
   {
    "duration": 70,
    "start_time": "2021-06-12T09:24:46.852Z"
   },
   {
    "duration": 6,
    "start_time": "2021-06-12T09:27:29.910Z"
   },
   {
    "duration": 11,
    "start_time": "2021-06-12T09:28:07.496Z"
   },
   {
    "duration": 10,
    "start_time": "2021-06-12T09:28:19.604Z"
   },
   {
    "duration": 11,
    "start_time": "2021-06-12T09:28:40.897Z"
   },
   {
    "duration": 14,
    "start_time": "2021-06-12T09:28:49.888Z"
   },
   {
    "duration": 12,
    "start_time": "2021-06-12T09:31:57.721Z"
   },
   {
    "duration": 12,
    "start_time": "2021-06-12T09:38:08.672Z"
   },
   {
    "duration": 20,
    "start_time": "2021-06-12T09:39:08.301Z"
   },
   {
    "duration": 15,
    "start_time": "2021-06-12T09:41:43.213Z"
   },
   {
    "duration": 34,
    "start_time": "2021-06-12T09:42:19.292Z"
   },
   {
    "duration": 23,
    "start_time": "2021-06-12T09:42:32.332Z"
   },
   {
    "duration": 13,
    "start_time": "2021-06-12T09:55:35.482Z"
   },
   {
    "duration": 15,
    "start_time": "2021-06-12T09:59:07.819Z"
   },
   {
    "duration": 14,
    "start_time": "2021-06-12T09:59:53.545Z"
   },
   {
    "duration": 7,
    "start_time": "2021-06-12T10:00:04.642Z"
   },
   {
    "duration": 328,
    "start_time": "2021-06-12T10:00:15.173Z"
   },
   {
    "duration": 303,
    "start_time": "2021-06-12T10:01:51.290Z"
   },
   {
    "duration": 70,
    "start_time": "2021-06-12T10:01:55.761Z"
   },
   {
    "duration": 8,
    "start_time": "2021-06-12T10:01:58.046Z"
   },
   {
    "duration": 12,
    "start_time": "2021-06-12T10:04:13.379Z"
   },
   {
    "duration": 8,
    "start_time": "2021-06-12T10:04:57.928Z"
   },
   {
    "duration": 99,
    "start_time": "2021-06-12T10:06:32.068Z"
   },
   {
    "duration": 315,
    "start_time": "2021-06-12T10:06:39.933Z"
   },
   {
    "duration": 300,
    "start_time": "2021-06-12T10:06:50.754Z"
   },
   {
    "duration": 187,
    "start_time": "2021-06-12T10:07:09.886Z"
   },
   {
    "duration": 305,
    "start_time": "2021-06-12T10:07:22.564Z"
   },
   {
    "duration": 10,
    "start_time": "2021-06-12T10:07:31.924Z"
   },
   {
    "duration": 19,
    "start_time": "2021-06-12T10:08:55.505Z"
   },
   {
    "duration": 16,
    "start_time": "2021-06-12T10:21:27.999Z"
   },
   {
    "duration": 18,
    "start_time": "2021-06-12T10:23:06.012Z"
   },
   {
    "duration": 19,
    "start_time": "2021-06-12T10:23:13.519Z"
   },
   {
    "duration": 19,
    "start_time": "2021-06-12T10:24:04.921Z"
   },
   {
    "duration": 22,
    "start_time": "2021-06-12T10:24:33.208Z"
   },
   {
    "duration": 21,
    "start_time": "2021-06-12T11:01:02.630Z"
   },
   {
    "duration": 22,
    "start_time": "2021-06-12T11:01:05.138Z"
   },
   {
    "duration": 19,
    "start_time": "2021-06-12T11:01:22.841Z"
   },
   {
    "duration": 15,
    "start_time": "2021-06-12T11:02:35.422Z"
   },
   {
    "duration": 68,
    "start_time": "2021-06-12T11:02:45.182Z"
   },
   {
    "duration": 16,
    "start_time": "2021-06-12T11:02:49.188Z"
   },
   {
    "duration": 8,
    "start_time": "2021-06-12T11:02:57.710Z"
   },
   {
    "duration": 96,
    "start_time": "2021-06-12T11:03:44.328Z"
   },
   {
    "duration": 7476,
    "start_time": "2021-06-12T11:03:47.782Z"
   },
   {
    "duration": 7766,
    "start_time": "2021-06-12T11:04:03.583Z"
   },
   {
    "duration": 9,
    "start_time": "2021-06-12T11:04:23.467Z"
   },
   {
    "duration": 24,
    "start_time": "2021-06-12T11:04:34.497Z"
   },
   {
    "duration": 23,
    "start_time": "2021-06-12T11:04:57.583Z"
   },
   {
    "duration": 18,
    "start_time": "2021-06-12T11:05:11.390Z"
   },
   {
    "duration": 19,
    "start_time": "2021-06-12T11:05:45.169Z"
   },
   {
    "duration": 10,
    "start_time": "2021-06-12T11:05:59.460Z"
   },
   {
    "duration": 67,
    "start_time": "2021-06-12T11:06:17.625Z"
   },
   {
    "duration": 22,
    "start_time": "2021-06-12T11:07:06.396Z"
   },
   {
    "duration": 17,
    "start_time": "2021-06-12T11:07:14.846Z"
   },
   {
    "duration": 12,
    "start_time": "2021-06-12T11:07:49.150Z"
   },
   {
    "duration": 6,
    "start_time": "2021-06-12T11:07:58.082Z"
   },
   {
    "duration": 9,
    "start_time": "2021-06-12T11:08:13.614Z"
   },
   {
    "duration": 20,
    "start_time": "2021-06-12T11:08:22.739Z"
   },
   {
    "duration": 302,
    "start_time": "2021-06-12T11:08:52.802Z"
   },
   {
    "duration": 22,
    "start_time": "2021-06-12T11:09:00.029Z"
   },
   {
    "duration": 142,
    "start_time": "2021-06-12T11:10:21.505Z"
   },
   {
    "duration": 14,
    "start_time": "2021-06-12T11:11:41.762Z"
   },
   {
    "duration": 10,
    "start_time": "2021-06-12T11:12:03.060Z"
   },
   {
    "duration": 20,
    "start_time": "2021-06-12T14:51:01.458Z"
   },
   {
    "duration": 68,
    "start_time": "2021-06-12T15:02:24.636Z"
   },
   {
    "duration": 41,
    "start_time": "2021-06-12T15:04:07.501Z"
   },
   {
    "duration": 8039,
    "start_time": "2021-06-12T15:04:36.156Z"
   },
   {
    "duration": 17,
    "start_time": "2021-06-12T15:05:15.229Z"
   },
   {
    "duration": 16,
    "start_time": "2021-06-12T15:05:51.737Z"
   },
   {
    "duration": 16,
    "start_time": "2021-06-12T15:08:55.168Z"
   },
   {
    "duration": 16,
    "start_time": "2021-06-12T15:09:21.735Z"
   },
   {
    "duration": 78,
    "start_time": "2021-06-12T15:14:14.064Z"
   },
   {
    "duration": 16,
    "start_time": "2021-06-12T15:14:29.730Z"
   },
   {
    "duration": 110,
    "start_time": "2021-06-12T15:15:15.997Z"
   },
   {
    "duration": 17,
    "start_time": "2021-06-12T15:15:23.985Z"
   },
   {
    "duration": 314,
    "start_time": "2021-06-12T15:16:31.113Z"
   },
   {
    "duration": 7,
    "start_time": "2021-06-12T15:16:44.730Z"
   },
   {
    "duration": 15,
    "start_time": "2021-06-12T15:18:55.786Z"
   },
   {
    "duration": 18,
    "start_time": "2021-06-12T15:20:05.865Z"
   },
   {
    "duration": 9,
    "start_time": "2021-06-12T15:20:32.050Z"
   },
   {
    "duration": 9,
    "start_time": "2021-06-12T15:20:52.993Z"
   },
   {
    "duration": 17,
    "start_time": "2021-06-12T15:22:35.827Z"
   },
   {
    "duration": 27,
    "start_time": "2021-06-12T15:23:00.015Z"
   },
   {
    "duration": 26,
    "start_time": "2021-06-12T15:23:22.451Z"
   },
   {
    "duration": 19,
    "start_time": "2021-06-12T15:26:27.304Z"
   },
   {
    "duration": 15,
    "start_time": "2021-06-12T15:30:13.837Z"
   },
   {
    "duration": 18,
    "start_time": "2021-06-12T15:30:26.442Z"
   },
   {
    "duration": 79,
    "start_time": "2021-06-12T15:30:43.158Z"
   },
   {
    "duration": 18,
    "start_time": "2021-06-12T15:30:46.810Z"
   },
   {
    "duration": 24,
    "start_time": "2021-06-12T15:30:50.106Z"
   },
   {
    "duration": 50,
    "start_time": "2021-06-12T15:34:13.752Z"
   },
   {
    "duration": 16,
    "start_time": "2021-06-12T15:37:32.258Z"
   },
   {
    "duration": 21,
    "start_time": "2021-06-12T15:37:54.983Z"
   },
   {
    "duration": 15,
    "start_time": "2021-06-12T15:38:11.215Z"
   },
   {
    "duration": 16,
    "start_time": "2021-06-12T15:38:34.209Z"
   },
   {
    "duration": 16,
    "start_time": "2021-06-12T15:38:42.767Z"
   },
   {
    "duration": 24,
    "start_time": "2021-06-12T15:39:23.374Z"
   },
   {
    "duration": 21,
    "start_time": "2021-06-12T15:40:09.850Z"
   },
   {
    "duration": 498,
    "start_time": "2021-06-13T08:17:19.952Z"
   },
   {
    "duration": 1088,
    "start_time": "2021-06-13T08:17:32.142Z"
   },
   {
    "duration": 27,
    "start_time": "2021-06-13T08:17:37.240Z"
   },
   {
    "duration": 29,
    "start_time": "2021-06-13T08:17:39.713Z"
   },
   {
    "duration": 19,
    "start_time": "2021-06-13T08:18:10.374Z"
   },
   {
    "duration": 26,
    "start_time": "2021-06-13T08:18:57.748Z"
   },
   {
    "duration": 21,
    "start_time": "2021-06-13T08:30:16.584Z"
   },
   {
    "duration": 29,
    "start_time": "2021-06-13T08:30:48.691Z"
   },
   {
    "duration": 75,
    "start_time": "2021-06-13T08:34:25.095Z"
   },
   {
    "duration": 389,
    "start_time": "2021-06-13T08:35:47.410Z"
   },
   {
    "duration": 378,
    "start_time": "2021-06-13T08:36:55.415Z"
   },
   {
    "duration": 394,
    "start_time": "2021-06-13T08:37:07.672Z"
   },
   {
    "duration": 384,
    "start_time": "2021-06-13T08:38:00.394Z"
   },
   {
    "duration": 70,
    "start_time": "2021-06-13T08:38:05.252Z"
   },
   {
    "duration": 17,
    "start_time": "2021-06-13T08:38:09.385Z"
   },
   {
    "duration": 20,
    "start_time": "2021-06-13T08:38:24.355Z"
   },
   {
    "duration": 30,
    "start_time": "2021-06-13T08:38:59.239Z"
   },
   {
    "duration": 36,
    "start_time": "2021-06-13T08:39:12.376Z"
   },
   {
    "duration": 31,
    "start_time": "2021-06-13T08:39:30.661Z"
   },
   {
    "duration": 9,
    "start_time": "2021-06-13T08:59:21.461Z"
   },
   {
    "duration": 17,
    "start_time": "2021-06-13T09:00:08.754Z"
   },
   {
    "duration": 22,
    "start_time": "2021-06-13T09:00:27.409Z"
   },
   {
    "duration": 20,
    "start_time": "2021-06-13T09:00:44.269Z"
   },
   {
    "duration": 115,
    "start_time": "2021-06-13T09:01:35.290Z"
   },
   {
    "duration": 6,
    "start_time": "2021-06-13T09:02:00.464Z"
   },
   {
    "duration": 25,
    "start_time": "2021-06-13T09:03:18.627Z"
   },
   {
    "duration": 22,
    "start_time": "2021-06-13T09:06:51.381Z"
   },
   {
    "duration": 22,
    "start_time": "2021-06-13T09:07:12.742Z"
   },
   {
    "duration": 19,
    "start_time": "2021-06-13T09:07:41.501Z"
   },
   {
    "duration": 7,
    "start_time": "2021-06-13T09:08:08.594Z"
   },
   {
    "duration": 74,
    "start_time": "2021-06-13T09:08:13.887Z"
   },
   {
    "duration": 23,
    "start_time": "2021-06-13T09:08:17.376Z"
   },
   {
    "duration": 23,
    "start_time": "2021-06-13T09:08:19.327Z"
   },
   {
    "duration": 20,
    "start_time": "2021-06-13T09:08:44.301Z"
   },
   {
    "duration": 7,
    "start_time": "2021-06-13T09:08:48.476Z"
   },
   {
    "duration": 11,
    "start_time": "2021-06-13T09:12:17.839Z"
   },
   {
    "duration": 24,
    "start_time": "2021-06-13T09:15:42.584Z"
   },
   {
    "duration": 26,
    "start_time": "2021-06-13T09:16:30.720Z"
   },
   {
    "duration": 101,
    "start_time": "2021-06-13T09:18:53.977Z"
   },
   {
    "duration": 3,
    "start_time": "2021-06-13T09:19:01.988Z"
   },
   {
    "duration": 19,
    "start_time": "2021-06-13T09:20:30.399Z"
   },
   {
    "duration": 123,
    "start_time": "2021-06-13T09:20:30.715Z"
   },
   {
    "duration": 74,
    "start_time": "2021-06-13T09:21:02.390Z"
   },
   {
    "duration": 380,
    "start_time": "2021-06-13T09:21:10.786Z"
   },
   {
    "duration": 7,
    "start_time": "2021-06-13T09:21:38.115Z"
   },
   {
    "duration": 46,
    "start_time": "2021-06-13T09:23:39.351Z"
   },
   {
    "duration": 52,
    "start_time": "2021-06-13T09:23:51.655Z"
   },
   {
    "duration": 49,
    "start_time": "2021-06-13T09:24:05.749Z"
   },
   {
    "duration": 52,
    "start_time": "2021-06-13T09:24:13.506Z"
   },
   {
    "duration": 47,
    "start_time": "2021-06-13T09:25:08.234Z"
   },
   {
    "duration": 871,
    "start_time": "2021-06-14T06:25:21.648Z"
   },
   {
    "duration": 42,
    "start_time": "2021-06-14T06:25:39.590Z"
   },
   {
    "duration": 47,
    "start_time": "2021-06-14T06:25:51.062Z"
   },
   {
    "duration": 142,
    "start_time": "2021-06-14T06:29:23.634Z"
   },
   {
    "duration": 6135,
    "start_time": "2021-06-14T06:29:25.628Z"
   },
   {
    "duration": 453,
    "start_time": "2021-06-14T06:30:29.792Z"
   },
   {
    "duration": 454,
    "start_time": "2021-06-14T06:30:39.776Z"
   },
   {
    "duration": 8,
    "start_time": "2021-06-14T06:30:49.229Z"
   },
   {
    "duration": 9,
    "start_time": "2021-06-14T06:31:13.502Z"
   },
   {
    "duration": 9,
    "start_time": "2021-06-14T06:31:32.932Z"
   },
   {
    "duration": 9,
    "start_time": "2021-06-14T06:33:43.871Z"
   },
   {
    "duration": 39,
    "start_time": "2021-06-14T06:34:04.165Z"
   },
   {
    "duration": 35,
    "start_time": "2021-06-14T06:34:49.406Z"
   },
   {
    "duration": 3,
    "start_time": "2021-06-14T06:36:37.204Z"
   },
   {
    "duration": 4,
    "start_time": "2021-06-14T06:37:32.218Z"
   },
   {
    "duration": 24,
    "start_time": "2021-06-14T06:37:32.368Z"
   },
   {
    "duration": 9,
    "start_time": "2021-06-14T06:38:13.170Z"
   },
   {
    "duration": 12,
    "start_time": "2021-06-14T06:41:22.765Z"
   },
   {
    "duration": 10,
    "start_time": "2021-06-14T06:42:24.062Z"
   },
   {
    "duration": 10,
    "start_time": "2021-06-14T06:42:40.774Z"
   },
   {
    "duration": 9,
    "start_time": "2021-06-14T06:43:25.791Z"
   },
   {
    "duration": 10,
    "start_time": "2021-06-14T06:43:44.762Z"
   },
   {
    "duration": 11,
    "start_time": "2021-06-14T06:44:11.688Z"
   },
   {
    "duration": 22,
    "start_time": "2021-06-14T06:47:38.210Z"
   },
   {
    "duration": 3,
    "start_time": "2021-06-14T06:49:26.708Z"
   },
   {
    "duration": 360,
    "start_time": "2021-06-14T06:49:43.017Z"
   },
   {
    "duration": 47,
    "start_time": "2021-06-14T06:49:53.384Z"
   },
   {
    "duration": 79,
    "start_time": "2021-06-14T06:50:08.668Z"
   },
   {
    "duration": 51,
    "start_time": "2021-06-14T06:50:14.426Z"
   },
   {
    "duration": 55,
    "start_time": "2021-06-14T06:51:14.008Z"
   },
   {
    "duration": 368,
    "start_time": "2021-06-14T06:58:24.261Z"
   },
   {
    "duration": 396,
    "start_time": "2021-06-14T06:58:28.277Z"
   },
   {
    "duration": 12,
    "start_time": "2021-06-14T06:58:33.164Z"
   },
   {
    "duration": 81,
    "start_time": "2021-06-14T07:03:12.597Z"
   },
   {
    "duration": 48,
    "start_time": "2021-06-14T07:03:16.323Z"
   },
   {
    "duration": 17,
    "start_time": "2021-06-14T07:04:12.333Z"
   },
   {
    "duration": 10,
    "start_time": "2021-06-14T07:04:30.896Z"
   },
   {
    "duration": 15,
    "start_time": "2021-06-14T07:06:39.185Z"
   },
   {
    "duration": 45,
    "start_time": "2021-06-14T07:07:11.294Z"
   },
   {
    "duration": 347,
    "start_time": "2021-06-14T07:07:41.320Z"
   },
   {
    "duration": 44,
    "start_time": "2021-06-14T07:07:46.423Z"
   },
   {
    "duration": 45,
    "start_time": "2021-06-14T07:07:55.680Z"
   },
   {
    "duration": 8764,
    "start_time": "2021-06-14T07:09:30.009Z"
   },
   {
    "duration": 8686,
    "start_time": "2021-06-14T07:09:39.673Z"
   },
   {
    "duration": 8687,
    "start_time": "2021-06-14T07:10:21.401Z"
   },
   {
    "duration": 375,
    "start_time": "2021-06-14T07:11:14.301Z"
   },
   {
    "duration": 6,
    "start_time": "2021-06-14T07:11:39.160Z"
   },
   {
    "duration": 9174,
    "start_time": "2021-06-14T07:11:42.228Z"
   },
   {
    "duration": 82,
    "start_time": "2021-06-14T07:11:51.607Z"
   },
   {
    "duration": 8396,
    "start_time": "2021-06-14T07:14:48.946Z"
   },
   {
    "duration": 178,
    "start_time": "2021-06-14T07:14:57.166Z"
   },
   {
    "duration": 80,
    "start_time": "2021-06-14T07:15:05.583Z"
   },
   {
    "duration": 10155,
    "start_time": "2021-06-14T07:15:09.175Z"
   },
   {
    "duration": 384,
    "start_time": "2021-06-14T07:15:49.566Z"
   },
   {
    "duration": 81,
    "start_time": "2021-06-14T07:15:57.069Z"
   },
   {
    "duration": 17,
    "start_time": "2021-06-14T07:15:59.612Z"
   },
   {
    "duration": 378,
    "start_time": "2021-06-14T07:16:23.945Z"
   },
   {
    "duration": 81,
    "start_time": "2021-06-14T07:16:46.161Z"
   },
   {
    "duration": 356,
    "start_time": "2021-06-14T07:16:48.748Z"
   },
   {
    "duration": 82,
    "start_time": "2021-06-14T07:23:08.948Z"
   },
   {
    "duration": 4,
    "start_time": "2021-06-14T07:23:12.347Z"
   },
   {
    "duration": 9,
    "start_time": "2021-06-14T07:23:25.430Z"
   },
   {
    "duration": 8,
    "start_time": "2021-06-14T07:26:40.150Z"
   },
   {
    "duration": 6,
    "start_time": "2021-06-14T07:28:44.195Z"
   },
   {
    "duration": 41,
    "start_time": "2021-06-14T07:30:36.237Z"
   },
   {
    "duration": 10,
    "start_time": "2021-06-14T07:30:55.672Z"
   },
   {
    "duration": 12,
    "start_time": "2021-06-14T07:34:31.871Z"
   },
   {
    "duration": 2907,
    "start_time": "2021-06-14T07:37:23.000Z"
   },
   {
    "duration": 437,
    "start_time": "2021-06-14T07:37:37.094Z"
   },
   {
    "duration": 886,
    "start_time": "2021-06-14T07:38:00.868Z"
   },
   {
    "duration": 4,
    "start_time": "2021-06-14T07:38:03.532Z"
   },
   {
    "duration": 9,
    "start_time": "2021-06-14T07:38:10.573Z"
   },
   {
    "duration": 2704,
    "start_time": "2021-06-14T07:38:16.297Z"
   },
   {
    "duration": 14,
    "start_time": "2021-06-14T07:38:59.965Z"
   },
   {
    "duration": 34,
    "start_time": "2021-06-14T07:39:22.589Z"
   },
   {
    "duration": 137,
    "start_time": "2021-06-14T07:39:40.991Z"
   },
   {
    "duration": 44,
    "start_time": "2021-06-14T07:39:43.752Z"
   },
   {
    "duration": 35,
    "start_time": "2021-06-14T07:40:35.055Z"
   },
   {
    "duration": 17,
    "start_time": "2021-06-14T07:40:59.438Z"
   },
   {
    "duration": 15,
    "start_time": "2021-06-14T07:41:39.311Z"
   },
   {
    "duration": 24,
    "start_time": "2021-06-14T07:43:48.298Z"
   },
   {
    "duration": 82,
    "start_time": "2021-06-14T07:44:03.618Z"
   },
   {
    "duration": 23,
    "start_time": "2021-06-14T07:44:08.516Z"
   },
   {
    "duration": 22,
    "start_time": "2021-06-14T07:44:23.801Z"
   },
   {
    "duration": 80,
    "start_time": "2021-06-14T07:44:29.164Z"
   },
   {
    "duration": 4,
    "start_time": "2021-06-14T07:44:33.424Z"
   },
   {
    "duration": 25,
    "start_time": "2021-06-14T07:44:40.980Z"
   },
   {
    "duration": 81,
    "start_time": "2021-06-14T07:44:46.522Z"
   },
   {
    "duration": 6,
    "start_time": "2021-06-14T07:45:18.771Z"
   },
   {
    "duration": 17,
    "start_time": "2021-06-14T07:45:22.834Z"
   },
   {
    "duration": 6,
    "start_time": "2021-06-14T07:45:28.139Z"
   },
   {
    "duration": 82,
    "start_time": "2021-06-14T07:49:59.951Z"
   },
   {
    "duration": 4,
    "start_time": "2021-06-14T07:50:02.841Z"
   },
   {
    "duration": 9,
    "start_time": "2021-06-14T07:50:12.554Z"
   },
   {
    "duration": 84,
    "start_time": "2021-06-14T07:55:27.290Z"
   },
   {
    "duration": 4,
    "start_time": "2021-06-14T07:55:30.297Z"
   },
   {
    "duration": 9,
    "start_time": "2021-06-14T07:55:34.432Z"
   },
   {
    "duration": 20,
    "start_time": "2021-06-14T07:55:37.784Z"
   },
   {
    "duration": 6,
    "start_time": "2021-06-14T07:55:40.953Z"
   },
   {
    "duration": 360,
    "start_time": "2021-06-14T07:59:19.054Z"
   },
   {
    "duration": 9425,
    "start_time": "2021-06-14T07:59:34.019Z"
   },
   {
    "duration": 8,
    "start_time": "2021-06-14T07:59:50.725Z"
   },
   {
    "duration": 6,
    "start_time": "2021-06-14T08:00:09.617Z"
   },
   {
    "duration": 7,
    "start_time": "2021-06-14T08:00:21.492Z"
   },
   {
    "duration": 8,
    "start_time": "2021-06-14T08:00:33.445Z"
   },
   {
    "duration": 7,
    "start_time": "2021-06-14T08:00:37.652Z"
   },
   {
    "duration": 7,
    "start_time": "2021-06-14T08:00:40.336Z"
   },
   {
    "duration": 8,
    "start_time": "2021-06-14T08:00:42.756Z"
   },
   {
    "duration": 8,
    "start_time": "2021-06-14T08:00:50.578Z"
   },
   {
    "duration": 81,
    "start_time": "2021-06-14T08:01:13.050Z"
   },
   {
    "duration": 4,
    "start_time": "2021-06-14T08:01:16.342Z"
   },
   {
    "duration": 8,
    "start_time": "2021-06-14T08:01:23.631Z"
   },
   {
    "duration": 11,
    "start_time": "2021-06-14T08:03:07.420Z"
   },
   {
    "duration": 15,
    "start_time": "2021-06-14T08:04:57.686Z"
   },
   {
    "duration": 116,
    "start_time": "2021-06-14T08:06:31.264Z"
   },
   {
    "duration": 129,
    "start_time": "2021-06-14T08:06:38.128Z"
   },
   {
    "duration": 109,
    "start_time": "2021-06-14T08:06:57.028Z"
   },
   {
    "duration": 107,
    "start_time": "2021-06-14T08:07:05.732Z"
   },
   {
    "duration": 17,
    "start_time": "2021-06-14T08:07:11.589Z"
   },
   {
    "duration": 16,
    "start_time": "2021-06-14T08:07:23.372Z"
   },
   {
    "duration": 83,
    "start_time": "2021-06-14T08:14:41.961Z"
   },
   {
    "duration": 4,
    "start_time": "2021-06-14T08:14:46.876Z"
   },
   {
    "duration": 19,
    "start_time": "2021-06-14T08:20:43.385Z"
   },
   {
    "duration": 32,
    "start_time": "2021-06-14T08:21:46.825Z"
   },
   {
    "duration": 19,
    "start_time": "2021-06-14T08:22:05.712Z"
   },
   {
    "duration": 22,
    "start_time": "2021-06-14T08:26:26.220Z"
   },
   {
    "duration": 19,
    "start_time": "2021-06-14T08:26:28.633Z"
   },
   {
    "duration": 79,
    "start_time": "2021-06-14T08:37:15.188Z"
   },
   {
    "duration": 4,
    "start_time": "2021-06-14T08:37:18.010Z"
   },
   {
    "duration": 10,
    "start_time": "2021-06-14T08:37:22.410Z"
   },
   {
    "duration": 3,
    "start_time": "2021-06-14T08:37:39.408Z"
   },
   {
    "duration": 35,
    "start_time": "2021-06-14T09:04:37.472Z"
   },
   {
    "duration": 22,
    "start_time": "2021-06-14T09:05:13.786Z"
   },
   {
    "duration": 378,
    "start_time": "2021-06-14T09:09:06.528Z"
   },
   {
    "duration": 50,
    "start_time": "2021-06-14T09:09:12.787Z"
   },
   {
    "duration": 422,
    "start_time": "2021-06-14T09:09:37.105Z"
   },
   {
    "duration": 425,
    "start_time": "2021-06-14T09:10:01.312Z"
   },
   {
    "duration": 12,
    "start_time": "2021-06-14T09:10:21.431Z"
   },
   {
    "duration": 14,
    "start_time": "2021-06-14T09:11:22.650Z"
   },
   {
    "duration": 11,
    "start_time": "2021-06-14T09:11:30.273Z"
   },
   {
    "duration": 15,
    "start_time": "2021-06-14T09:11:44.753Z"
   },
   {
    "duration": 13,
    "start_time": "2021-06-14T09:11:50.141Z"
   },
   {
    "duration": 11,
    "start_time": "2021-06-14T09:12:17.061Z"
   },
   {
    "duration": 11,
    "start_time": "2021-06-14T09:12:58.901Z"
   },
   {
    "duration": 10,
    "start_time": "2021-06-14T09:13:11.185Z"
   },
   {
    "duration": 3,
    "start_time": "2021-06-14T09:13:22.016Z"
   },
   {
    "duration": 16,
    "start_time": "2021-06-14T09:13:24.421Z"
   },
   {
    "duration": 11,
    "start_time": "2021-06-14T09:14:41.254Z"
   },
   {
    "duration": 13,
    "start_time": "2021-06-14T09:15:02.064Z"
   },
   {
    "duration": 10,
    "start_time": "2021-06-14T09:15:12.399Z"
   },
   {
    "duration": 11,
    "start_time": "2021-06-14T09:15:19.610Z"
   },
   {
    "duration": 10,
    "start_time": "2021-06-14T09:15:26.875Z"
   },
   {
    "duration": 12,
    "start_time": "2021-06-14T09:17:08.376Z"
   },
   {
    "duration": 13,
    "start_time": "2021-06-14T09:18:36.295Z"
   },
   {
    "duration": 11,
    "start_time": "2021-06-14T09:18:46.163Z"
   },
   {
    "duration": 11,
    "start_time": "2021-06-14T09:18:55.274Z"
   },
   {
    "duration": 10,
    "start_time": "2021-06-14T09:19:10.098Z"
   },
   {
    "duration": 18,
    "start_time": "2021-06-14T09:19:49.203Z"
   },
   {
    "duration": 15,
    "start_time": "2021-06-14T09:20:21.871Z"
   },
   {
    "duration": 25,
    "start_time": "2021-06-14T09:21:35.331Z"
   },
   {
    "duration": 35,
    "start_time": "2021-06-14T09:21:57.410Z"
   },
   {
    "duration": 82,
    "start_time": "2021-06-14T11:19:39.422Z"
   },
   {
    "duration": 48,
    "start_time": "2021-06-14T11:19:42.950Z"
   },
   {
    "duration": 9,
    "start_time": "2021-06-14T11:19:49.855Z"
   },
   {
    "duration": 14,
    "start_time": "2021-06-14T11:19:53.761Z"
   },
   {
    "duration": 17,
    "start_time": "2021-06-14T11:19:57.521Z"
   },
   {
    "duration": 22,
    "start_time": "2021-06-14T11:20:01.557Z"
   },
   {
    "duration": 29,
    "start_time": "2021-06-14T11:20:25.597Z"
   },
   {
    "duration": 26,
    "start_time": "2021-06-14T11:21:35.849Z"
   },
   {
    "duration": 8668,
    "start_time": "2021-06-14T11:23:07.209Z"
   },
   {
    "duration": 9,
    "start_time": "2021-06-14T11:23:19.018Z"
   },
   {
    "duration": 12,
    "start_time": "2021-06-14T11:25:38.354Z"
   },
   {
    "duration": 8,
    "start_time": "2021-06-14T11:26:12.422Z"
   },
   {
    "duration": 11722,
    "start_time": "2021-06-14T11:26:22.069Z"
   },
   {
    "duration": 11,
    "start_time": "2021-06-14T11:26:49.487Z"
   },
   {
    "duration": 11,
    "start_time": "2021-06-14T11:27:07.972Z"
   },
   {
    "duration": 15,
    "start_time": "2021-06-14T11:27:12.732Z"
   },
   {
    "duration": 17,
    "start_time": "2021-06-14T11:27:16.852Z"
   },
   {
    "duration": 3,
    "start_time": "2021-06-14T11:27:57.041Z"
   },
   {
    "duration": 3,
    "start_time": "2021-06-14T11:28:11.299Z"
   },
   {
    "duration": 7,
    "start_time": "2021-06-14T11:28:18.661Z"
   },
   {
    "duration": 13,
    "start_time": "2021-06-14T11:42:48.365Z"
   },
   {
    "duration": 12,
    "start_time": "2021-06-14T11:44:25.890Z"
   },
   {
    "duration": 10,
    "start_time": "2021-06-14T11:52:58.756Z"
   },
   {
    "duration": 1259,
    "start_time": "2021-06-14T12:08:37.188Z"
   },
   {
    "duration": 4,
    "start_time": "2021-06-14T12:09:01.795Z"
   },
   {
    "duration": 2217,
    "start_time": "2021-06-14T12:09:36.996Z"
   },
   {
    "duration": 11,
    "start_time": "2021-06-14T12:25:54.821Z"
   },
   {
    "duration": 4929,
    "start_time": "2021-06-14T12:34:16.688Z"
   },
   {
    "duration": 5097,
    "start_time": "2021-06-14T12:35:39.457Z"
   },
   {
    "duration": 8481,
    "start_time": "2021-06-14T12:37:12.574Z"
   },
   {
    "duration": 11,
    "start_time": "2021-06-14T12:37:32.012Z"
   },
   {
    "duration": 6,
    "start_time": "2021-06-14T12:38:20.740Z"
   },
   {
    "duration": 37,
    "start_time": "2021-06-14T12:38:27.198Z"
   },
   {
    "duration": 4545,
    "start_time": "2021-06-14T12:38:38.499Z"
   },
   {
    "duration": 4521,
    "start_time": "2021-06-14T12:40:02.514Z"
   },
   {
    "duration": 3038,
    "start_time": "2021-06-14T12:40:32.582Z"
   },
   {
    "duration": 3140,
    "start_time": "2021-06-14T12:40:41.871Z"
   },
   {
    "duration": 3102,
    "start_time": "2021-06-14T12:41:16.034Z"
   },
   {
    "duration": 10,
    "start_time": "2021-06-14T12:44:40.881Z"
   },
   {
    "duration": 25,
    "start_time": "2021-06-14T12:46:58.028Z"
   },
   {
    "duration": 40,
    "start_time": "2021-06-14T12:47:36.140Z"
   },
   {
    "duration": 34,
    "start_time": "2021-06-14T12:49:31.775Z"
   },
   {
    "duration": 39,
    "start_time": "2021-06-14T12:51:44.361Z"
   },
   {
    "duration": 77,
    "start_time": "2021-06-14T12:52:30.780Z"
   },
   {
    "duration": 81,
    "start_time": "2021-06-14T12:52:53.370Z"
   },
   {
    "duration": 89,
    "start_time": "2021-06-14T12:53:05.778Z"
   },
   {
    "duration": 15,
    "start_time": "2021-06-14T12:57:12.505Z"
   },
   {
    "duration": 20,
    "start_time": "2021-06-14T12:57:34.804Z"
   },
   {
    "duration": 121,
    "start_time": "2021-06-14T12:59:06.831Z"
   },
   {
    "duration": 377,
    "start_time": "2021-06-14T12:59:14.315Z"
   },
   {
    "duration": 36,
    "start_time": "2021-06-14T12:59:20.897Z"
   },
   {
    "duration": 25,
    "start_time": "2021-06-14T12:59:40.859Z"
   },
   {
    "duration": 36,
    "start_time": "2021-06-14T13:00:36.626Z"
   },
   {
    "duration": 364,
    "start_time": "2021-06-14T16:16:34.663Z"
   },
   {
    "duration": 831,
    "start_time": "2021-06-14T16:16:39.676Z"
   },
   {
    "duration": 48,
    "start_time": "2021-06-14T16:16:43.637Z"
   },
   {
    "duration": 11,
    "start_time": "2021-06-14T16:16:49.916Z"
   },
   {
    "duration": 17,
    "start_time": "2021-06-14T16:16:53.220Z"
   },
   {
    "duration": 23,
    "start_time": "2021-06-14T16:16:57.582Z"
   },
   {
    "duration": 32,
    "start_time": "2021-06-14T16:17:03.360Z"
   },
   {
    "duration": 31,
    "start_time": "2021-06-14T16:17:07.287Z"
   },
   {
    "duration": 4191,
    "start_time": "2021-06-14T16:17:13.184Z"
   },
   {
    "duration": 10,
    "start_time": "2021-06-14T16:17:17.378Z"
   },
   {
    "duration": 55,
    "start_time": "2021-06-14T16:17:19.867Z"
   },
   {
    "duration": 130,
    "start_time": "2021-06-14T16:17:28.641Z"
   },
   {
    "duration": 86,
    "start_time": "2021-06-14T16:17:52.520Z"
   },
   {
    "duration": 117,
    "start_time": "2021-06-14T16:18:43.823Z"
   },
   {
    "duration": 86,
    "start_time": "2021-06-14T16:19:36.402Z"
   },
   {
    "duration": 51,
    "start_time": "2021-06-14T16:19:40.072Z"
   },
   {
    "duration": 10,
    "start_time": "2021-06-14T16:19:51.250Z"
   },
   {
    "duration": 15,
    "start_time": "2021-06-14T16:19:54.159Z"
   },
   {
    "duration": 30,
    "start_time": "2021-06-14T16:19:58.496Z"
   },
   {
    "duration": 39,
    "start_time": "2021-06-14T16:20:05.521Z"
   },
   {
    "duration": 30,
    "start_time": "2021-06-14T16:20:12.926Z"
   },
   {
    "duration": 10,
    "start_time": "2021-06-14T16:21:00.515Z"
   },
   {
    "duration": 826,
    "start_time": "2021-06-15T06:20:49.080Z"
   },
   {
    "duration": 54,
    "start_time": "2021-06-15T06:20:53.917Z"
   },
   {
    "duration": 10,
    "start_time": "2021-06-15T06:21:21.435Z"
   },
   {
    "duration": 17,
    "start_time": "2021-06-15T06:21:23.235Z"
   },
   {
    "duration": 27,
    "start_time": "2021-06-15T06:21:45.206Z"
   },
   {
    "duration": 30,
    "start_time": "2021-06-15T06:21:53.238Z"
   },
   {
    "duration": 11,
    "start_time": "2021-06-15T06:22:16.213Z"
   },
   {
    "duration": 114,
    "start_time": "2021-06-15T06:22:20.800Z"
   },
   {
    "duration": 3888,
    "start_time": "2021-06-15T06:22:40.776Z"
   },
   {
    "duration": 10,
    "start_time": "2021-06-15T06:22:45.932Z"
   },
   {
    "duration": 82,
    "start_time": "2021-06-15T06:22:58.536Z"
   },
   {
    "duration": 46,
    "start_time": "2021-06-15T06:23:01.401Z"
   },
   {
    "duration": 9,
    "start_time": "2021-06-15T06:23:12.361Z"
   },
   {
    "duration": 14,
    "start_time": "2021-06-15T06:23:15.287Z"
   },
   {
    "duration": 22,
    "start_time": "2021-06-15T06:23:18.327Z"
   },
   {
    "duration": 26,
    "start_time": "2021-06-15T06:23:21.479Z"
   },
   {
    "duration": 31,
    "start_time": "2021-06-15T06:23:24.544Z"
   },
   {
    "duration": 11,
    "start_time": "2021-06-15T06:23:28.482Z"
   },
   {
    "duration": 3092,
    "start_time": "2021-06-15T06:23:42.570Z"
   },
   {
    "duration": 9,
    "start_time": "2021-06-15T06:23:47.122Z"
   },
   {
    "duration": 80,
    "start_time": "2021-06-15T06:29:22.440Z"
   },
   {
    "duration": 47,
    "start_time": "2021-06-15T06:29:25.208Z"
   },
   {
    "duration": 8,
    "start_time": "2021-06-15T06:29:31.007Z"
   },
   {
    "duration": 14,
    "start_time": "2021-06-15T06:29:38.615Z"
   },
   {
    "duration": 22,
    "start_time": "2021-06-15T06:31:11.743Z"
   },
   {
    "duration": 29,
    "start_time": "2021-06-15T06:31:15.636Z"
   },
   {
    "duration": 32,
    "start_time": "2021-06-15T06:31:18.245Z"
   },
   {
    "duration": 7911,
    "start_time": "2021-06-15T06:31:23.006Z"
   },
   {
    "duration": 14,
    "start_time": "2021-06-15T06:31:30.920Z"
   },
   {
    "duration": 4823,
    "start_time": "2021-06-15T06:31:41.252Z"
   },
   {
    "duration": 11,
    "start_time": "2021-06-15T06:31:46.077Z"
   },
   {
    "duration": 10440,
    "start_time": "2021-06-15T06:32:29.602Z"
   },
   {
    "duration": 914,
    "start_time": "2021-06-15T06:36:25.475Z"
   },
   {
    "duration": 93,
    "start_time": "2021-06-15T06:36:52.636Z"
   },
   {
    "duration": 14416,
    "start_time": "2021-06-15T06:37:09.512Z"
   },
   {
    "duration": 11807,
    "start_time": "2021-06-15T06:38:13.187Z"
   },
   {
    "duration": 11474,
    "start_time": "2021-06-15T06:38:55.451Z"
   },
   {
    "duration": 122,
    "start_time": "2021-06-15T08:16:40.235Z"
   },
   {
    "duration": 11313,
    "start_time": "2021-06-15T08:16:53.162Z"
   },
   {
    "duration": 11005,
    "start_time": "2021-06-15T08:17:55.076Z"
   },
   {
    "duration": 56,
    "start_time": "2021-06-15T08:18:06.108Z"
   },
   {
    "duration": 10630,
    "start_time": "2021-06-15T08:19:00.498Z"
   },
   {
    "duration": 20,
    "start_time": "2021-06-15T08:19:11.169Z"
   },
   {
    "duration": 111,
    "start_time": "2021-06-15T08:20:01.742Z"
   },
   {
    "duration": 10689,
    "start_time": "2021-06-15T08:20:31.403Z"
   },
   {
    "duration": 10,
    "start_time": "2021-06-15T08:20:42.099Z"
   },
   {
    "duration": 510,
    "start_time": "2021-06-15T08:21:37.631Z"
   },
   {
    "duration": 47,
    "start_time": "2021-06-15T08:21:41.849Z"
   },
   {
    "duration": 9,
    "start_time": "2021-06-15T08:21:46.457Z"
   },
   {
    "duration": 20,
    "start_time": "2021-06-15T08:21:49.241Z"
   },
   {
    "duration": 32,
    "start_time": "2021-06-15T08:21:52.841Z"
   },
   {
    "duration": 39,
    "start_time": "2021-06-15T08:21:55.799Z"
   },
   {
    "duration": 44,
    "start_time": "2021-06-15T08:21:59.446Z"
   },
   {
    "duration": 5,
    "start_time": "2021-06-15T08:22:20.891Z"
   },
   {
    "duration": 4484,
    "start_time": "2021-06-15T08:22:46.970Z"
   },
   {
    "duration": 10,
    "start_time": "2021-06-15T08:22:51.457Z"
   },
   {
    "duration": 4540,
    "start_time": "2021-06-15T08:23:02.748Z"
   },
   {
    "duration": 286,
    "start_time": "2021-06-15T08:23:10.034Z"
   },
   {
    "duration": 47,
    "start_time": "2021-06-15T08:23:12.731Z"
   },
   {
    "duration": 12,
    "start_time": "2021-06-15T08:23:18.474Z"
   },
   {
    "duration": 15,
    "start_time": "2021-06-15T08:23:20.543Z"
   },
   {
    "duration": 22,
    "start_time": "2021-06-15T08:23:22.874Z"
   },
   {
    "duration": 26,
    "start_time": "2021-06-15T08:23:26.009Z"
   },
   {
    "duration": 31,
    "start_time": "2021-06-15T08:23:28.194Z"
   },
   {
    "duration": 4,
    "start_time": "2021-06-15T08:23:32.949Z"
   },
   {
    "duration": 4505,
    "start_time": "2021-06-15T08:23:35.772Z"
   },
   {
    "duration": 10,
    "start_time": "2021-06-15T08:23:40.280Z"
   },
   {
    "duration": 79,
    "start_time": "2021-06-15T08:50:41.632Z"
   },
   {
    "duration": 48,
    "start_time": "2021-06-15T08:50:44.767Z"
   },
   {
    "duration": 12,
    "start_time": "2021-06-15T08:50:51.406Z"
   },
   {
    "duration": 391,
    "start_time": "2021-06-15T08:54:45.783Z"
   },
   {
    "duration": 444,
    "start_time": "2021-06-15T08:55:08.149Z"
   },
   {
    "duration": 369,
    "start_time": "2021-06-15T08:55:30.845Z"
   },
   {
    "duration": 386,
    "start_time": "2021-06-15T08:57:00.744Z"
   },
   {
    "duration": 378,
    "start_time": "2021-06-15T08:58:47.577Z"
   },
   {
    "duration": 13,
    "start_time": "2021-06-15T08:59:14.545Z"
   },
   {
    "duration": 82,
    "start_time": "2021-06-15T08:59:50.294Z"
   },
   {
    "duration": 47,
    "start_time": "2021-06-15T08:59:52.934Z"
   },
   {
    "duration": 8,
    "start_time": "2021-06-15T08:59:58.772Z"
   },
   {
    "duration": 359,
    "start_time": "2021-06-15T09:00:01.906Z"
   },
   {
    "duration": 14,
    "start_time": "2021-06-15T09:00:13.358Z"
   },
   {
    "duration": 330,
    "start_time": "2021-06-15T09:00:19.606Z"
   },
   {
    "duration": 51,
    "start_time": "2021-06-15T09:00:44.280Z"
   },
   {
    "duration": 81,
    "start_time": "2021-06-15T09:01:00.673Z"
   },
   {
    "duration": 47,
    "start_time": "2021-06-15T09:01:03.375Z"
   },
   {
    "duration": 9,
    "start_time": "2021-06-15T09:01:07.878Z"
   },
   {
    "duration": 13,
    "start_time": "2021-06-15T09:01:26.994Z"
   },
   {
    "duration": 46,
    "start_time": "2021-06-15T09:01:32.356Z"
   },
   {
    "duration": 82,
    "start_time": "2021-06-15T09:02:52.337Z"
   },
   {
    "duration": 50,
    "start_time": "2021-06-15T09:02:55.000Z"
   },
   {
    "duration": 8,
    "start_time": "2021-06-15T09:02:59.752Z"
   },
   {
    "duration": 5,
    "start_time": "2021-06-15T09:03:37.736Z"
   },
   {
    "duration": 48,
    "start_time": "2021-06-15T09:03:43.325Z"
   },
   {
    "duration": 80,
    "start_time": "2021-06-15T09:03:55.618Z"
   },
   {
    "duration": 49,
    "start_time": "2021-06-15T09:03:58.296Z"
   },
   {
    "duration": 50,
    "start_time": "2021-06-15T09:04:04.323Z"
   },
   {
    "duration": 81,
    "start_time": "2021-06-15T09:04:26.370Z"
   },
   {
    "duration": 46,
    "start_time": "2021-06-15T09:04:29.872Z"
   },
   {
    "duration": 9,
    "start_time": "2021-06-15T09:04:36.143Z"
   },
   {
    "duration": 45,
    "start_time": "2021-06-15T09:04:43.508Z"
   },
   {
    "duration": 36,
    "start_time": "2021-06-15T09:05:08.688Z"
   },
   {
    "duration": 83,
    "start_time": "2021-06-15T09:07:30.358Z"
   },
   {
    "duration": 49,
    "start_time": "2021-06-15T09:07:32.829Z"
   },
   {
    "duration": 9,
    "start_time": "2021-06-15T09:07:37.341Z"
   },
   {
    "duration": 38,
    "start_time": "2021-06-15T09:07:57.263Z"
   },
   {
    "duration": 14,
    "start_time": "2021-06-15T09:08:23.794Z"
   },
   {
    "duration": 17,
    "start_time": "2021-06-15T09:08:24.562Z"
   },
   {
    "duration": 84,
    "start_time": "2021-06-15T09:08:56.879Z"
   },
   {
    "duration": 115,
    "start_time": "2021-06-15T09:15:28.483Z"
   },
   {
    "duration": 78,
    "start_time": "2021-06-15T09:15:31.272Z"
   },
   {
    "duration": 9,
    "start_time": "2021-06-15T09:15:36.556Z"
   },
   {
    "duration": 14,
    "start_time": "2021-06-15T09:16:55.479Z"
   },
   {
    "duration": 109,
    "start_time": "2021-06-15T09:19:03.896Z"
   },
   {
    "duration": 9,
    "start_time": "2021-06-15T09:19:09.965Z"
   },
   {
    "duration": 8,
    "start_time": "2021-06-15T09:19:46.018Z"
   },
   {
    "duration": 13,
    "start_time": "2021-06-15T09:21:14.183Z"
   },
   {
    "duration": 17,
    "start_time": "2021-06-15T09:21:25.304Z"
   },
   {
    "duration": 8,
    "start_time": "2021-06-15T09:22:11.564Z"
   },
   {
    "duration": 83,
    "start_time": "2021-06-15T09:22:32.032Z"
   },
   {
    "duration": 48,
    "start_time": "2021-06-15T09:22:34.343Z"
   },
   {
    "duration": 9,
    "start_time": "2021-06-15T09:22:38.490Z"
   },
   {
    "duration": 8258,
    "start_time": "2021-06-15T09:22:42.046Z"
   },
   {
    "duration": -26,
    "start_time": "2021-06-15T09:22:50.333Z"
   },
   {
    "duration": -34,
    "start_time": "2021-06-15T09:22:50.342Z"
   },
   {
    "duration": 5,
    "start_time": "2021-06-15T09:23:03.638Z"
   },
   {
    "duration": 81,
    "start_time": "2021-06-15T09:23:11.854Z"
   },
   {
    "duration": 48,
    "start_time": "2021-06-15T09:23:15.275Z"
   },
   {
    "duration": 13,
    "start_time": "2021-06-15T09:23:20.563Z"
   },
   {
    "duration": 5,
    "start_time": "2021-06-15T09:23:29.587Z"
   },
   {
    "duration": 16,
    "start_time": "2021-06-15T09:23:33.351Z"
   },
   {
    "duration": 19,
    "start_time": "2021-06-15T09:23:35.392Z"
   },
   {
    "duration": 11,
    "start_time": "2021-06-15T09:23:38.400Z"
   },
   {
    "duration": 23,
    "start_time": "2021-06-15T09:25:17.873Z"
   },
   {
    "duration": 9,
    "start_time": "2021-06-15T09:25:24.338Z"
   },
   {
    "duration": 51,
    "start_time": "2021-06-15T09:26:17.306Z"
   },
   {
    "duration": 73,
    "start_time": "2021-06-15T10:04:37.263Z"
   },
   {
    "duration": 33,
    "start_time": "2021-06-15T10:05:04.128Z"
   },
   {
    "duration": 30,
    "start_time": "2021-06-15T10:05:49.014Z"
   },
   {
    "duration": 77,
    "start_time": "2021-06-15T10:05:54.257Z"
   },
   {
    "duration": 76,
    "start_time": "2021-06-15T10:06:01.645Z"
   },
   {
    "duration": 76,
    "start_time": "2021-06-15T10:42:44.864Z"
   },
   {
    "duration": 55,
    "start_time": "2021-06-15T10:43:41.415Z"
   },
   {
    "duration": 37,
    "start_time": "2021-06-15T10:43:56.064Z"
   },
   {
    "duration": 20,
    "start_time": "2021-06-15T11:06:39.269Z"
   },
   {
    "duration": 347,
    "start_time": "2021-06-15T11:06:45.954Z"
   },
   {
    "duration": 51,
    "start_time": "2021-06-15T11:07:10.888Z"
   },
   {
    "duration": 358,
    "start_time": "2021-06-15T11:07:46.666Z"
   },
   {
    "duration": 50,
    "start_time": "2021-06-15T11:08:09.210Z"
   },
   {
    "duration": 51,
    "start_time": "2021-06-15T11:08:18.894Z"
   },
   {
    "duration": 25,
    "start_time": "2021-06-15T11:12:52.658Z"
   },
   {
    "duration": 25,
    "start_time": "2021-06-15T11:13:48.696Z"
   },
   {
    "duration": 35,
    "start_time": "2021-06-15T11:13:56.598Z"
   },
   {
    "duration": 34,
    "start_time": "2021-06-15T11:13:59.268Z"
   },
   {
    "duration": 86,
    "start_time": "2021-06-15T13:41:51.130Z"
   },
   {
    "duration": 83,
    "start_time": "2021-06-15T13:42:03.994Z"
   },
   {
    "duration": 50,
    "start_time": "2021-06-15T13:42:07.169Z"
   },
   {
    "duration": 11,
    "start_time": "2021-06-15T13:42:13.168Z"
   },
   {
    "duration": 5,
    "start_time": "2021-06-15T13:42:19.380Z"
   },
   {
    "duration": 14,
    "start_time": "2021-06-15T13:42:24.029Z"
   },
   {
    "duration": 20,
    "start_time": "2021-06-15T13:42:27.997Z"
   },
   {
    "duration": 23,
    "start_time": "2021-06-15T13:42:39.419Z"
   },
   {
    "duration": 23,
    "start_time": "2021-06-15T13:42:52.931Z"
   },
   {
    "duration": 30,
    "start_time": "2021-06-15T13:43:12.216Z"
   },
   {
    "duration": 5217,
    "start_time": "2021-06-15T13:43:31.926Z"
   },
   {
    "duration": 17,
    "start_time": "2021-06-15T13:43:37.145Z"
   },
   {
    "duration": 8023,
    "start_time": "2021-06-15T13:48:09.873Z"
   },
   {
    "duration": 8944,
    "start_time": "2021-06-15T13:48:31.237Z"
   },
   {
    "duration": 31,
    "start_time": "2021-06-15T13:48:45.460Z"
   },
   {
    "duration": 30,
    "start_time": "2021-06-15T13:50:30.315Z"
   },
   {
    "duration": 31,
    "start_time": "2021-06-15T13:50:51.618Z"
   },
   {
    "duration": 29,
    "start_time": "2021-06-15T13:51:45.943Z"
   },
   {
    "duration": 33,
    "start_time": "2021-06-15T13:51:47.970Z"
   },
   {
    "duration": 115,
    "start_time": "2021-06-15T16:10:18.340Z"
   },
   {
    "duration": 35,
    "start_time": "2021-06-15T16:14:54.639Z"
   },
   {
    "duration": 4578,
    "start_time": "2021-06-15T16:15:19.075Z"
   },
   {
    "duration": 367,
    "start_time": "2021-06-15T16:15:23.290Z"
   },
   {
    "duration": 393,
    "start_time": "2021-06-15T16:16:13.435Z"
   },
   {
    "duration": 35,
    "start_time": "2021-06-15T16:16:19.433Z"
   },
   {
    "duration": 107,
    "start_time": "2021-06-15T16:43:25.725Z"
   },
   {
    "duration": 342,
    "start_time": "2021-06-15T16:43:33.857Z"
   },
   {
    "duration": 15,
    "start_time": "2021-06-15T16:44:57.878Z"
   },
   {
    "duration": 7,
    "start_time": "2021-06-15T16:45:00.034Z"
   },
   {
    "duration": 316,
    "start_time": "2021-06-15T16:45:41.870Z"
   },
   {
    "duration": 306,
    "start_time": "2021-06-15T16:45:52.825Z"
   },
   {
    "duration": 376,
    "start_time": "2021-06-15T16:47:05.726Z"
   },
   {
    "duration": 358,
    "start_time": "2021-06-15T16:51:05.874Z"
   },
   {
    "duration": 361,
    "start_time": "2021-06-15T17:00:34.350Z"
   },
   {
    "duration": 22,
    "start_time": "2021-06-15T17:01:14.108Z"
   },
   {
    "duration": 14,
    "start_time": "2021-06-15T17:01:16.817Z"
   },
   {
    "duration": 14,
    "start_time": "2021-06-15T17:02:02.993Z"
   },
   {
    "duration": 8,
    "start_time": "2021-06-15T17:02:06.097Z"
   },
   {
    "duration": 93,
    "start_time": "2021-06-15T17:19:23.135Z"
   },
   {
    "duration": 117,
    "start_time": "2021-06-15T17:19:30.782Z"
   },
   {
    "duration": 810,
    "start_time": "2021-06-15T17:19:35.703Z"
   },
   {
    "duration": 1047,
    "start_time": "2021-06-15T17:22:16.137Z"
   },
   {
    "duration": 775,
    "start_time": "2021-06-15T17:22:30.668Z"
   },
   {
    "duration": 30,
    "start_time": "2021-06-15T17:22:56.851Z"
   },
   {
    "duration": 44,
    "start_time": "2021-06-15T17:23:02.065Z"
   },
   {
    "duration": 104,
    "start_time": "2021-06-15T17:24:03.712Z"
   },
   {
    "duration": 335,
    "start_time": "2021-06-15T17:24:07.856Z"
   },
   {
    "duration": 115,
    "start_time": "2021-06-15T17:49:18.766Z"
   },
   {
    "duration": 121,
    "start_time": "2021-06-15T17:49:23.136Z"
   },
   {
    "duration": 57,
    "start_time": "2021-06-15T17:49:27.681Z"
   },
   {
    "duration": 12,
    "start_time": "2021-06-15T17:49:29.656Z"
   },
   {
    "duration": 99,
    "start_time": "2021-06-15T17:50:15.602Z"
   },
   {
    "duration": 51,
    "start_time": "2021-06-15T17:50:21.152Z"
   },
   {
    "duration": 9,
    "start_time": "2021-06-15T17:50:26.622Z"
   },
   {
    "duration": 5,
    "start_time": "2021-06-15T17:50:33.148Z"
   },
   {
    "duration": 13,
    "start_time": "2021-06-15T17:50:50.496Z"
   },
   {
    "duration": 26,
    "start_time": "2021-06-15T17:51:13.203Z"
   },
   {
    "duration": 33,
    "start_time": "2021-06-15T17:51:24.097Z"
   },
   {
    "duration": 43,
    "start_time": "2021-06-15T17:51:40.257Z"
   },
   {
    "duration": 4896,
    "start_time": "2021-06-15T17:51:47.457Z"
   },
   {
    "duration": 9,
    "start_time": "2021-06-15T17:51:52.356Z"
   },
   {
    "duration": 40,
    "start_time": "2021-06-15T17:52:05.233Z"
   },
   {
    "duration": 685,
    "start_time": "2021-06-15T17:52:10.355Z"
   },
   {
    "duration": 87,
    "start_time": "2021-06-15T17:52:18.002Z"
   },
   {
    "duration": 101,
    "start_time": "2021-06-15T17:53:02.549Z"
   },
   {
    "duration": 87,
    "start_time": "2021-06-15T17:53:24.009Z"
   },
   {
    "duration": 441,
    "start_time": "2021-06-15T17:54:14.093Z"
   },
   {
    "duration": 11,
    "start_time": "2021-06-15T17:54:58.904Z"
   },
   {
    "duration": 49,
    "start_time": "2021-06-15T17:55:45.009Z"
   },
   {
    "duration": 36,
    "start_time": "2021-06-15T17:55:53.282Z"
   },
   {
    "duration": 49,
    "start_time": "2021-06-15T17:56:34.536Z"
   },
   {
    "duration": 12,
    "start_time": "2021-06-15T17:57:10.070Z"
   },
   {
    "duration": 12,
    "start_time": "2021-06-15T17:57:23.609Z"
   },
   {
    "duration": 12,
    "start_time": "2021-06-15T17:58:26.923Z"
   },
   {
    "duration": 346,
    "start_time": "2021-06-15T17:59:03.687Z"
   },
   {
    "duration": 333,
    "start_time": "2021-06-15T17:59:31.092Z"
   },
   {
    "duration": 18,
    "start_time": "2021-06-15T17:59:51.081Z"
   },
   {
    "duration": 18,
    "start_time": "2021-06-15T18:00:00.141Z"
   },
   {
    "duration": 15,
    "start_time": "2021-06-15T18:00:20.267Z"
   },
   {
    "duration": 16,
    "start_time": "2021-06-15T18:00:31.581Z"
   },
   {
    "duration": 53,
    "start_time": "2021-06-15T18:00:48.016Z"
   },
   {
    "duration": 14,
    "start_time": "2021-06-15T18:00:50.576Z"
   },
   {
    "duration": 56,
    "start_time": "2021-06-15T18:01:20.835Z"
   },
   {
    "duration": 13,
    "start_time": "2021-06-15T18:01:22.749Z"
   },
   {
    "duration": 29,
    "start_time": "2021-06-15T18:01:38.948Z"
   },
   {
    "duration": 17,
    "start_time": "2021-06-15T18:01:40.572Z"
   },
   {
    "duration": 58,
    "start_time": "2021-06-15T18:01:48.921Z"
   },
   {
    "duration": 12,
    "start_time": "2021-06-15T18:01:50.546Z"
   },
   {
    "duration": 15,
    "start_time": "2021-06-15T18:03:33.381Z"
   },
   {
    "duration": 16,
    "start_time": "2021-06-15T18:04:11.824Z"
   },
   {
    "duration": 24,
    "start_time": "2021-06-15T18:04:44.364Z"
   },
   {
    "duration": 60,
    "start_time": "2021-06-15T18:09:32.855Z"
   },
   {
    "duration": 10,
    "start_time": "2021-06-15T18:09:35.278Z"
   },
   {
    "duration": 5,
    "start_time": "2021-06-15T18:10:25.890Z"
   },
   {
    "duration": 11,
    "start_time": "2021-06-15T18:10:31.934Z"
   },
   {
    "duration": 15,
    "start_time": "2021-06-15T18:11:27.456Z"
   },
   {
    "duration": 410,
    "start_time": "2021-06-16T07:21:21.190Z"
   },
   {
    "duration": 872,
    "start_time": "2021-06-16T07:21:24.820Z"
   },
   {
    "duration": 50,
    "start_time": "2021-06-16T07:21:28.612Z"
   },
   {
    "duration": 10,
    "start_time": "2021-06-16T07:21:34.533Z"
   },
   {
    "duration": 4,
    "start_time": "2021-06-16T07:21:37.560Z"
   },
   {
    "duration": 13,
    "start_time": "2021-06-16T07:21:40.389Z"
   },
   {
    "duration": 18,
    "start_time": "2021-06-16T07:21:42.502Z"
   },
   {
    "duration": 11,
    "start_time": "2021-06-16T07:21:46.398Z"
   },
   {
    "duration": 24,
    "start_time": "2021-06-16T07:21:49.182Z"
   },
   {
    "duration": 24,
    "start_time": "2021-06-16T07:21:52.972Z"
   },
   {
    "duration": 31,
    "start_time": "2021-06-16T07:22:06.495Z"
   },
   {
    "duration": 5953,
    "start_time": "2021-06-16T07:22:10.973Z"
   },
   {
    "duration": 10,
    "start_time": "2021-06-16T07:22:16.928Z"
   },
   {
    "duration": 35,
    "start_time": "2021-06-16T07:22:19.622Z"
   },
   {
    "duration": 34,
    "start_time": "2021-06-16T07:22:23.455Z"
   },
   {
    "duration": 381,
    "start_time": "2021-06-16T07:22:26.669Z"
   },
   {
    "duration": 36,
    "start_time": "2021-06-16T07:22:29.161Z"
   },
   {
    "duration": 57,
    "start_time": "2021-06-16T07:22:36.801Z"
   },
   {
    "duration": 22,
    "start_time": "2021-06-16T07:22:39.753Z"
   },
   {
    "duration": 55,
    "start_time": "2021-06-16T07:22:53.149Z"
   },
   {
    "duration": 19,
    "start_time": "2021-06-16T07:22:56.082Z"
   },
   {
    "duration": 33,
    "start_time": "2021-06-16T07:26:34.092Z"
   },
   {
    "duration": 7,
    "start_time": "2021-06-16T07:26:47.166Z"
   },
   {
    "duration": 11,
    "start_time": "2021-06-16T07:26:57.801Z"
   },
   {
    "duration": 8,
    "start_time": "2021-06-16T07:28:20.157Z"
   },
   {
    "duration": 83,
    "start_time": "2021-06-16T07:29:01.932Z"
   },
   {
    "duration": 47,
    "start_time": "2021-06-16T07:29:05.566Z"
   },
   {
    "duration": 10,
    "start_time": "2021-06-16T07:29:14.182Z"
   },
   {
    "duration": 5,
    "start_time": "2021-06-16T07:29:18.957Z"
   },
   {
    "duration": 13,
    "start_time": "2021-06-16T07:29:22.071Z"
   },
   {
    "duration": 18,
    "start_time": "2021-06-16T07:29:26.114Z"
   },
   {
    "duration": 11,
    "start_time": "2021-06-16T07:29:36.187Z"
   },
   {
    "duration": 7,
    "start_time": "2021-06-16T07:30:57.346Z"
   },
   {
    "duration": 9,
    "start_time": "2021-06-16T07:31:08.623Z"
   },
   {
    "duration": 39,
    "start_time": "2021-06-16T07:32:30.092Z"
   },
   {
    "duration": 13,
    "start_time": "2021-06-16T07:32:36.393Z"
   },
   {
    "duration": 11,
    "start_time": "2021-06-16T07:32:47.354Z"
   },
   {
    "duration": 81,
    "start_time": "2021-06-16T07:33:01.089Z"
   },
   {
    "duration": 46,
    "start_time": "2021-06-16T07:33:04.221Z"
   },
   {
    "duration": 10,
    "start_time": "2021-06-16T07:33:09.750Z"
   },
   {
    "duration": 4,
    "start_time": "2021-06-16T07:33:12.140Z"
   },
   {
    "duration": 13,
    "start_time": "2021-06-16T07:33:13.950Z"
   },
   {
    "duration": 21,
    "start_time": "2021-06-16T07:33:15.772Z"
   },
   {
    "duration": 20,
    "start_time": "2021-06-16T07:33:34.360Z"
   },
   {
    "duration": 14,
    "start_time": "2021-06-16T07:33:36.658Z"
   },
   {
    "duration": 84,
    "start_time": "2021-06-16T07:34:34.648Z"
   },
   {
    "duration": 73,
    "start_time": "2021-06-16T07:34:34.966Z"
   },
   {
    "duration": 51,
    "start_time": "2021-06-16T07:34:38.089Z"
   },
   {
    "duration": 10,
    "start_time": "2021-06-16T07:34:43.363Z"
   },
   {
    "duration": 2,
    "start_time": "2021-06-16T07:35:07.682Z"
   },
   {
    "duration": 10,
    "start_time": "2021-06-16T07:36:29.819Z"
   },
   {
    "duration": 3,
    "start_time": "2021-06-16T07:37:52.165Z"
   },
   {
    "duration": 89,
    "start_time": "2021-06-16T07:39:08.942Z"
   },
   {
    "duration": 47,
    "start_time": "2021-06-16T07:39:09.034Z"
   },
   {
    "duration": 9,
    "start_time": "2021-06-16T07:39:09.330Z"
   },
   {
    "duration": 4,
    "start_time": "2021-06-16T07:39:18.014Z"
   },
   {
    "duration": 13,
    "start_time": "2021-06-16T07:39:20.206Z"
   },
   {
    "duration": 18,
    "start_time": "2021-06-16T07:39:22.540Z"
   },
   {
    "duration": 22,
    "start_time": "2021-06-16T07:39:30.638Z"
   },
   {
    "duration": 24,
    "start_time": "2021-06-16T07:39:34.206Z"
   },
   {
    "duration": 31,
    "start_time": "2021-06-16T07:39:39.109Z"
   },
   {
    "duration": 4,
    "start_time": "2021-06-16T07:39:54.013Z"
   },
   {
    "duration": 5069,
    "start_time": "2021-06-16T07:39:57.281Z"
   },
   {
    "duration": 11,
    "start_time": "2021-06-16T07:40:06.102Z"
   },
   {
    "duration": 30,
    "start_time": "2021-06-16T07:40:09.326Z"
   },
   {
    "duration": 388,
    "start_time": "2021-06-16T07:40:19.862Z"
   },
   {
    "duration": 61,
    "start_time": "2021-06-16T07:41:33.788Z"
   },
   {
    "duration": 20,
    "start_time": "2021-06-16T07:41:35.962Z"
   },
   {
    "duration": 55,
    "start_time": "2021-06-16T07:42:38.800Z"
   },
   {
    "duration": 14,
    "start_time": "2021-06-16T07:42:41.664Z"
   },
   {
    "duration": 55,
    "start_time": "2021-06-16T07:47:45.608Z"
   },
   {
    "duration": 61,
    "start_time": "2021-06-16T07:47:55.688Z"
   },
   {
    "duration": 68,
    "start_time": "2021-06-16T07:53:03.477Z"
   },
   {
    "duration": 63,
    "start_time": "2021-06-16T07:55:31.895Z"
   },
   {
    "duration": 10,
    "start_time": "2021-06-16T07:57:22.830Z"
   },
   {
    "duration": -99,
    "start_time": "2021-06-16T08:00:52.083Z"
   },
   {
    "duration": -104,
    "start_time": "2021-06-16T08:01:35.800Z"
   },
   {
    "duration": 12584,
    "start_time": "2021-06-16T08:02:05.014Z"
   },
   {
    "duration": 418,
    "start_time": "2021-06-16T08:02:29.076Z"
   },
   {
    "duration": 367,
    "start_time": "2021-06-16T08:03:20.303Z"
   },
   {
    "duration": 290,
    "start_time": "2021-06-16T08:03:33.291Z"
   },
   {
    "duration": 16,
    "start_time": "2021-06-16T08:03:58.216Z"
   },
   {
    "duration": 19,
    "start_time": "2021-06-16T08:04:25.449Z"
   },
   {
    "duration": 336,
    "start_time": "2021-06-16T08:05:49.833Z"
   },
   {
    "duration": 341,
    "start_time": "2021-06-16T08:05:56.396Z"
   },
   {
    "duration": 290,
    "start_time": "2021-06-16T08:06:25.980Z"
   },
   {
    "duration": 316,
    "start_time": "2021-06-16T08:06:52.463Z"
   },
   {
    "duration": 323,
    "start_time": "2021-06-16T08:07:06.552Z"
   },
   {
    "duration": 66,
    "start_time": "2021-06-16T08:08:42.184Z"
   },
   {
    "duration": 481,
    "start_time": "2021-06-16T08:10:45.244Z"
   },
   {
    "duration": 353,
    "start_time": "2021-06-16T08:11:17.629Z"
   },
   {
    "duration": 116,
    "start_time": "2021-06-16T08:12:51.173Z"
   },
   {
    "duration": 297,
    "start_time": "2021-06-16T08:13:02.330Z"
   },
   {
    "duration": 322,
    "start_time": "2021-06-16T08:13:15.090Z"
   },
   {
    "duration": 84,
    "start_time": "2021-06-16T08:23:16.780Z"
   },
   {
    "duration": 47,
    "start_time": "2021-06-16T08:23:19.867Z"
   },
   {
    "duration": 9,
    "start_time": "2021-06-16T08:23:25.298Z"
   },
   {
    "duration": 5,
    "start_time": "2021-06-16T08:23:29.467Z"
   },
   {
    "duration": 14,
    "start_time": "2021-06-16T08:23:31.293Z"
   },
   {
    "duration": 17,
    "start_time": "2021-06-16T08:23:33.125Z"
   },
   {
    "duration": 23,
    "start_time": "2021-06-16T08:23:37.875Z"
   },
   {
    "duration": 24,
    "start_time": "2021-06-16T08:23:41.271Z"
   },
   {
    "duration": 120,
    "start_time": "2021-06-16T08:23:43.775Z"
   },
   {
    "duration": 5134,
    "start_time": "2021-06-16T08:23:53.832Z"
   },
   {
    "duration": 10,
    "start_time": "2021-06-16T08:23:58.969Z"
   },
   {
    "duration": 31,
    "start_time": "2021-06-16T08:24:02.352Z"
   },
   {
    "duration": 35,
    "start_time": "2021-06-16T08:24:04.473Z"
   },
   {
    "duration": 376,
    "start_time": "2021-06-16T08:24:07.022Z"
   },
   {
    "duration": 35,
    "start_time": "2021-06-16T08:24:09.538Z"
   },
   {
    "duration": 60,
    "start_time": "2021-06-16T08:24:13.593Z"
   },
   {
    "duration": 21,
    "start_time": "2021-06-16T08:24:15.873Z"
   },
   {
    "duration": 57,
    "start_time": "2021-06-16T08:24:18.954Z"
   },
   {
    "duration": 15,
    "start_time": "2021-06-16T08:24:20.956Z"
   },
   {
    "duration": 67,
    "start_time": "2021-06-16T08:24:30.757Z"
   },
   {
    "duration": 64,
    "start_time": "2021-06-16T08:24:36.597Z"
   },
   {
    "duration": 328,
    "start_time": "2021-06-16T08:24:38.957Z"
   },
   {
    "duration": 838,
    "start_time": "2021-06-16T16:41:23.446Z"
   },
   {
    "duration": 47,
    "start_time": "2021-06-16T16:41:24.287Z"
   },
   {
    "duration": 10,
    "start_time": "2021-06-16T16:41:24.338Z"
   },
   {
    "duration": 31,
    "start_time": "2021-06-16T16:41:24.351Z"
   },
   {
    "duration": 5,
    "start_time": "2021-06-16T16:41:24.384Z"
   },
   {
    "duration": 14,
    "start_time": "2021-06-16T16:41:24.391Z"
   },
   {
    "duration": 16,
    "start_time": "2021-06-16T16:41:24.408Z"
   },
   {
    "duration": 54,
    "start_time": "2021-06-16T16:41:24.429Z"
   },
   {
    "duration": 23,
    "start_time": "2021-06-16T16:41:24.486Z"
   },
   {
    "duration": 29,
    "start_time": "2021-06-16T16:41:24.511Z"
   },
   {
    "duration": 3,
    "start_time": "2021-06-16T16:41:24.543Z"
   },
   {
    "duration": 5363,
    "start_time": "2021-06-16T16:41:24.584Z"
   },
   {
    "duration": 10,
    "start_time": "2021-06-16T16:41:29.950Z"
   },
   {
    "duration": 44,
    "start_time": "2021-06-16T16:41:29.962Z"
   },
   {
    "duration": 32,
    "start_time": "2021-06-16T16:41:30.009Z"
   },
   {
    "duration": 388,
    "start_time": "2021-06-16T16:41:30.043Z"
   },
   {
    "duration": 32,
    "start_time": "2021-06-16T16:41:30.434Z"
   },
   {
    "duration": 56,
    "start_time": "2021-06-16T16:41:30.484Z"
   },
   {
    "duration": 42,
    "start_time": "2021-06-16T16:41:30.542Z"
   },
   {
    "duration": 53,
    "start_time": "2021-06-16T16:41:30.587Z"
   },
   {
    "duration": 14,
    "start_time": "2021-06-16T16:41:30.642Z"
   },
   {
    "duration": 89,
    "start_time": "2021-06-16T16:41:30.659Z"
   },
   {
    "duration": 83,
    "start_time": "2021-06-16T16:41:30.752Z"
   },
   {
    "duration": 430,
    "start_time": "2021-06-16T16:41:30.838Z"
   },
   {
    "duration": 404,
    "start_time": "2021-06-16T16:57:21.234Z"
   },
   {
    "duration": 16,
    "start_time": "2021-06-16T16:57:29.812Z"
   },
   {
    "duration": 862,
    "start_time": "2021-06-17T06:44:56.010Z"
   },
   {
    "duration": 52,
    "start_time": "2021-06-17T06:45:03.121Z"
   },
   {
    "duration": 10,
    "start_time": "2021-06-17T06:46:43.578Z"
   },
   {
    "duration": 13,
    "start_time": "2021-06-17T06:46:54.073Z"
   },
   {
    "duration": 439,
    "start_time": "2021-06-17T06:48:10.803Z"
   },
   {
    "duration": 38,
    "start_time": "2021-06-17T06:48:36.573Z"
   },
   {
    "duration": 15,
    "start_time": "2021-06-17T06:48:43.739Z"
   },
   {
    "duration": 22,
    "start_time": "2021-06-17T06:48:47.207Z"
   },
   {
    "duration": 412,
    "start_time": "2021-06-17T06:49:21.740Z"
   },
   {
    "duration": 340,
    "start_time": "2021-06-17T06:51:58.710Z"
   },
   {
    "duration": 37,
    "start_time": "2021-06-17T06:52:15.643Z"
   },
   {
    "duration": 40,
    "start_time": "2021-06-17T06:52:36.920Z"
   },
   {
    "duration": 33,
    "start_time": "2021-06-17T06:53:31.284Z"
   },
   {
    "duration": 79,
    "start_time": "2021-06-17T06:55:48.837Z"
   },
   {
    "duration": 62,
    "start_time": "2021-06-17T06:55:52.677Z"
   },
   {
    "duration": 10,
    "start_time": "2021-06-17T06:55:58.369Z"
   },
   {
    "duration": 14,
    "start_time": "2021-06-17T06:56:00.267Z"
   },
   {
    "duration": 4,
    "start_time": "2021-06-17T06:56:05.817Z"
   },
   {
    "duration": 16,
    "start_time": "2021-06-17T06:56:07.913Z"
   },
   {
    "duration": 17,
    "start_time": "2021-06-17T06:56:09.872Z"
   },
   {
    "duration": 23,
    "start_time": "2021-06-17T06:56:15.123Z"
   },
   {
    "duration": 34,
    "start_time": "2021-06-17T06:56:24.639Z"
   },
   {
    "duration": 45,
    "start_time": "2021-06-17T06:57:01.667Z"
   },
   {
    "duration": 36,
    "start_time": "2021-06-17T07:42:38.784Z"
   },
   {
    "duration": 772,
    "start_time": "2021-06-19T10:12:19.538Z"
   },
   {
    "duration": 45,
    "start_time": "2021-06-19T10:12:20.312Z"
   },
   {
    "duration": 53,
    "start_time": "2021-06-19T10:12:20.360Z"
   },
   {
    "duration": 14,
    "start_time": "2021-06-19T10:12:20.416Z"
   },
   {
    "duration": 6,
    "start_time": "2021-06-19T10:12:20.432Z"
   },
   {
    "duration": 16,
    "start_time": "2021-06-19T10:12:20.441Z"
   },
   {
    "duration": 43,
    "start_time": "2021-06-19T10:12:20.460Z"
   },
   {
    "duration": 23,
    "start_time": "2021-06-19T10:12:20.507Z"
   },
   {
    "duration": 34,
    "start_time": "2021-06-19T10:12:20.533Z"
   },
   {
    "duration": 71,
    "start_time": "2021-06-19T10:12:20.569Z"
   },
   {
    "duration": 1535,
    "start_time": "2021-06-19T10:12:20.642Z"
   },
   {
    "duration": 24743,
    "start_time": "2021-06-19T10:11:57.437Z"
   },
   {
    "duration": 24742,
    "start_time": "2021-06-19T10:11:57.441Z"
   },
   {
    "duration": 24735,
    "start_time": "2021-06-19T10:11:57.450Z"
   },
   {
    "duration": 24734,
    "start_time": "2021-06-19T10:11:57.454Z"
   },
   {
    "duration": 24733,
    "start_time": "2021-06-19T10:11:57.457Z"
   },
   {
    "duration": 24732,
    "start_time": "2021-06-19T10:11:57.461Z"
   },
   {
    "duration": 24730,
    "start_time": "2021-06-19T10:11:57.465Z"
   },
   {
    "duration": 24729,
    "start_time": "2021-06-19T10:11:57.468Z"
   },
   {
    "duration": 24727,
    "start_time": "2021-06-19T10:11:57.472Z"
   },
   {
    "duration": 24725,
    "start_time": "2021-06-19T10:11:57.476Z"
   },
   {
    "duration": 24724,
    "start_time": "2021-06-19T10:11:57.479Z"
   },
   {
    "duration": 24722,
    "start_time": "2021-06-19T10:11:57.483Z"
   },
   {
    "duration": 11,
    "start_time": "2021-06-19T10:25:04.689Z"
   },
   {
    "duration": 29,
    "start_time": "2021-06-19T10:25:10.920Z"
   },
   {
    "duration": 29,
    "start_time": "2021-06-19T10:25:12.705Z"
   },
   {
    "duration": 374,
    "start_time": "2021-06-19T10:25:14.888Z"
   },
   {
    "duration": 383,
    "start_time": "2021-06-19T10:25:17.457Z"
   },
   {
    "duration": 29,
    "start_time": "2021-06-19T10:25:17.865Z"
   },
   {
    "duration": 60,
    "start_time": "2021-06-19T10:25:36.123Z"
   },
   {
    "duration": 28,
    "start_time": "2021-06-19T10:25:37.201Z"
   },
   {
    "duration": 57,
    "start_time": "2021-06-19T10:26:32.827Z"
   },
   {
    "duration": 17,
    "start_time": "2021-06-19T10:26:33.419Z"
   },
   {
    "duration": 70,
    "start_time": "2021-06-19T10:26:36.755Z"
   },
   {
    "duration": 80,
    "start_time": "2021-06-19T10:26:41.203Z"
   },
   {
    "duration": 406,
    "start_time": "2021-06-19T10:26:45.172Z"
   },
   {
    "duration": 931,
    "start_time": "2021-06-19T15:58:04.294Z"
   },
   {
    "duration": 77,
    "start_time": "2021-06-19T16:00:53.143Z"
   },
   {
    "duration": 81,
    "start_time": "2021-06-19T16:06:01.563Z"
   },
   {
    "duration": 45,
    "start_time": "2021-06-19T16:06:05.417Z"
   },
   {
    "duration": 31,
    "start_time": "2021-06-19T16:06:27.757Z"
   },
   {
    "duration": 14,
    "start_time": "2021-06-19T16:06:30.005Z"
   },
   {
    "duration": 5,
    "start_time": "2021-06-19T16:06:33.717Z"
   },
   {
    "duration": 12,
    "start_time": "2021-06-19T16:06:35.575Z"
   },
   {
    "duration": 17,
    "start_time": "2021-06-19T16:06:37.462Z"
   },
   {
    "duration": 21,
    "start_time": "2021-06-19T16:06:44.947Z"
   },
   {
    "duration": 38,
    "start_time": "2021-06-19T16:06:49.259Z"
   },
   {
    "duration": 41,
    "start_time": "2021-06-19T16:06:53.788Z"
   },
   {
    "duration": 1563,
    "start_time": "2021-06-19T16:07:00.129Z"
   },
   {
    "duration": 37,
    "start_time": "2021-06-19T16:08:20.466Z"
   },
   {
    "duration": 40,
    "start_time": "2021-06-19T16:08:22.763Z"
   },
   {
    "duration": 77,
    "start_time": "2021-06-19T16:08:50.853Z"
   },
   {
    "duration": 43,
    "start_time": "2021-06-19T16:08:58.853Z"
   },
   {
    "duration": 31,
    "start_time": "2021-06-19T16:09:05.456Z"
   },
   {
    "duration": 9,
    "start_time": "2021-06-19T16:10:19.099Z"
   },
   {
    "duration": 83,
    "start_time": "2021-06-19T16:10:33.563Z"
   },
   {
    "duration": 13,
    "start_time": "2021-06-19T16:10:39.351Z"
   },
   {
    "duration": 77,
    "start_time": "2021-06-19T16:11:09.214Z"
   },
   {
    "duration": 58,
    "start_time": "2021-06-19T16:11:12.364Z"
   },
   {
    "duration": 31,
    "start_time": "2021-06-19T16:11:17.866Z"
   },
   {
    "duration": 13,
    "start_time": "2021-06-19T16:11:19.933Z"
   },
   {
    "duration": 5,
    "start_time": "2021-06-19T16:11:25.532Z"
   },
   {
    "duration": 15,
    "start_time": "2021-06-19T16:11:28.207Z"
   },
   {
    "duration": 21,
    "start_time": "2021-06-19T16:11:30.880Z"
   },
   {
    "duration": 31,
    "start_time": "2021-06-19T16:11:42.785Z"
   },
   {
    "duration": 38,
    "start_time": "2021-06-19T16:12:02.471Z"
   },
   {
    "duration": 45,
    "start_time": "2021-06-19T16:12:06.117Z"
   },
   {
    "duration": 42,
    "start_time": "2021-06-19T16:12:44.630Z"
   },
   {
    "duration": 5,
    "start_time": "2021-06-19T16:13:08.745Z"
   },
   {
    "duration": 42,
    "start_time": "2021-06-19T16:13:16.184Z"
   },
   {
    "duration": 16,
    "start_time": "2021-06-19T16:13:40.094Z"
   },
   {
    "duration": 42,
    "start_time": "2021-06-19T16:13:48.826Z"
   },
   {
    "duration": 78,
    "start_time": "2021-06-19T16:14:12.915Z"
   },
   {
    "duration": 43,
    "start_time": "2021-06-19T16:14:19.071Z"
   },
   {
    "duration": 31,
    "start_time": "2021-06-19T16:14:29.793Z"
   },
   {
    "duration": 12,
    "start_time": "2021-06-19T16:15:06.667Z"
   },
   {
    "duration": 75,
    "start_time": "2021-06-19T16:15:32.307Z"
   },
   {
    "duration": 53,
    "start_time": "2021-06-19T16:15:40.037Z"
   },
   {
    "duration": 11,
    "start_time": "2021-06-19T16:16:12.331Z"
   },
   {
    "duration": 19,
    "start_time": "2021-06-19T16:16:33.628Z"
   },
   {
    "duration": 11,
    "start_time": "2021-06-19T16:16:36.090Z"
   },
   {
    "duration": 78,
    "start_time": "2021-06-19T16:17:11.749Z"
   },
   {
    "duration": 48,
    "start_time": "2021-06-19T16:17:15.554Z"
   },
   {
    "duration": 11,
    "start_time": "2021-06-19T16:17:20.353Z"
   },
   {
    "duration": 8,
    "start_time": "2021-06-19T16:17:22.862Z"
   },
   {
    "duration": 10,
    "start_time": "2021-06-19T16:17:24.572Z"
   },
   {
    "duration": 12,
    "start_time": "2021-06-19T16:17:35.454Z"
   },
   {
    "duration": 9,
    "start_time": "2021-06-19T16:17:46.191Z"
   },
   {
    "duration": 5,
    "start_time": "2021-06-19T16:17:57.851Z"
   },
   {
    "duration": 12,
    "start_time": "2021-06-19T16:17:59.961Z"
   },
   {
    "duration": 18,
    "start_time": "2021-06-19T16:18:02.099Z"
   },
   {
    "duration": 21,
    "start_time": "2021-06-19T16:18:06.305Z"
   },
   {
    "duration": 45,
    "start_time": "2021-06-19T16:18:15.588Z"
   },
   {
    "duration": 46,
    "start_time": "2021-06-19T16:18:21.446Z"
   },
   {
    "duration": 4550,
    "start_time": "2021-06-19T16:18:38.906Z"
   },
   {
    "duration": 11,
    "start_time": "2021-06-19T16:19:02.679Z"
   },
   {
    "duration": 385,
    "start_time": "2021-06-19T16:22:40.510Z"
   },
   {
    "duration": 31,
    "start_time": "2021-06-19T16:22:43.730Z"
   },
   {
    "duration": 59,
    "start_time": "2021-06-19T16:22:48.177Z"
   },
   {
    "duration": 29,
    "start_time": "2021-06-19T16:22:49.958Z"
   },
   {
    "duration": 50,
    "start_time": "2021-06-19T16:22:52.914Z"
   },
   {
    "duration": 15,
    "start_time": "2021-06-19T16:22:54.732Z"
   },
   {
    "duration": 61,
    "start_time": "2021-06-19T16:22:57.770Z"
   },
   {
    "duration": 61,
    "start_time": "2021-06-19T16:23:00.156Z"
   },
   {
    "duration": 414,
    "start_time": "2021-06-19T16:23:41.289Z"
   },
   {
    "duration": 675,
    "start_time": "2021-06-19T16:27:43.208Z"
   },
   {
    "duration": 311,
    "start_time": "2021-06-19T16:28:23.916Z"
   },
   {
    "duration": 325,
    "start_time": "2021-06-19T16:29:39.402Z"
   },
   {
    "duration": 79,
    "start_time": "2021-06-19T18:47:14.279Z"
   },
   {
    "duration": 48,
    "start_time": "2021-06-19T18:47:20.405Z"
   },
   {
    "duration": 19,
    "start_time": "2021-06-19T18:47:26.369Z"
   },
   {
    "duration": 14,
    "start_time": "2021-06-19T18:47:28.326Z"
   },
   {
    "duration": 5,
    "start_time": "2021-06-19T18:47:34.066Z"
   },
   {
    "duration": 17,
    "start_time": "2021-06-19T18:47:35.855Z"
   },
   {
    "duration": 16,
    "start_time": "2021-06-19T18:47:38.211Z"
   },
   {
    "duration": 21,
    "start_time": "2021-06-19T18:47:42.879Z"
   },
   {
    "duration": 82,
    "start_time": "2021-06-19T18:51:09.994Z"
   },
   {
    "duration": 45,
    "start_time": "2021-06-19T18:51:12.834Z"
   },
   {
    "duration": 19,
    "start_time": "2021-06-19T18:51:22.437Z"
   },
   {
    "duration": 89,
    "start_time": "2021-06-19T18:51:41.855Z"
   },
   {
    "duration": 45,
    "start_time": "2021-06-19T18:51:45.888Z"
   },
   {
    "duration": 18,
    "start_time": "2021-06-19T18:51:52.644Z"
   },
   {
    "duration": 9,
    "start_time": "2021-06-19T18:52:03.551Z"
   },
   {
    "duration": 5,
    "start_time": "2021-06-19T18:52:07.008Z"
   },
   {
    "duration": 5,
    "start_time": "2021-06-19T18:53:14.386Z"
   },
   {
    "duration": 14,
    "start_time": "2021-06-19T18:53:16.216Z"
   },
   {
    "duration": 19,
    "start_time": "2021-06-19T18:53:18.087Z"
   },
   {
    "duration": 24,
    "start_time": "2021-06-19T18:53:22.162Z"
   },
   {
    "duration": 34,
    "start_time": "2021-06-19T18:54:02.431Z"
   },
   {
    "duration": 52,
    "start_time": "2021-06-19T18:54:09.448Z"
   },
   {
    "duration": 80,
    "start_time": "2021-06-19T18:54:25.507Z"
   },
   {
    "duration": 45,
    "start_time": "2021-06-19T18:54:29.245Z"
   },
   {
    "duration": 17,
    "start_time": "2021-06-19T18:54:35.727Z"
   },
   {
    "duration": 10,
    "start_time": "2021-06-19T18:54:37.477Z"
   },
   {
    "duration": 4,
    "start_time": "2021-06-19T18:54:39.805Z"
   },
   {
    "duration": 14,
    "start_time": "2021-06-19T18:54:42.029Z"
   },
   {
    "duration": 17,
    "start_time": "2021-06-19T18:54:44.115Z"
   },
   {
    "duration": 23,
    "start_time": "2021-06-19T18:54:48.103Z"
   },
   {
    "duration": 36,
    "start_time": "2021-06-19T18:54:56.266Z"
   },
   {
    "duration": 44,
    "start_time": "2021-06-19T18:54:59.506Z"
   },
   {
    "duration": 4669,
    "start_time": "2021-06-19T18:55:04.095Z"
   },
   {
    "duration": 16,
    "start_time": "2021-06-19T18:55:08.767Z"
   },
   {
    "duration": 29,
    "start_time": "2021-06-19T18:55:17.583Z"
   },
   {
    "duration": 36,
    "start_time": "2021-06-19T18:55:19.573Z"
   },
   {
    "duration": 358,
    "start_time": "2021-06-19T18:55:23.041Z"
   },
   {
    "duration": 34,
    "start_time": "2021-06-19T18:55:25.229Z"
   },
   {
    "duration": 53,
    "start_time": "2021-06-19T18:55:33.469Z"
   },
   {
    "duration": 52,
    "start_time": "2021-06-19T18:55:38.901Z"
   },
   {
    "duration": 63,
    "start_time": "2021-06-19T18:55:42.677Z"
   },
   {
    "duration": 60,
    "start_time": "2021-06-19T18:55:45.682Z"
   },
   {
    "duration": 331,
    "start_time": "2021-06-19T18:55:54.254Z"
   },
   {
    "duration": 767,
    "start_time": "2021-06-20T07:55:36.210Z"
   },
   {
    "duration": 44,
    "start_time": "2021-06-20T07:55:36.979Z"
   },
   {
    "duration": 16,
    "start_time": "2021-06-20T07:55:37.026Z"
   },
   {
    "duration": 38,
    "start_time": "2021-06-20T07:55:37.045Z"
   },
   {
    "duration": 5,
    "start_time": "2021-06-20T07:55:37.086Z"
   },
   {
    "duration": 24,
    "start_time": "2021-06-20T07:55:37.093Z"
   },
   {
    "duration": 18,
    "start_time": "2021-06-20T07:55:37.120Z"
   },
   {
    "duration": 54,
    "start_time": "2021-06-20T07:55:37.144Z"
   },
   {
    "duration": 34,
    "start_time": "2021-06-20T07:55:37.202Z"
   },
   {
    "duration": 64,
    "start_time": "2021-06-20T07:55:37.239Z"
   },
   {
    "duration": 5365,
    "start_time": "2021-06-20T07:55:37.306Z"
   },
   {
    "duration": 11,
    "start_time": "2021-06-20T07:55:42.673Z"
   },
   {
    "duration": 32,
    "start_time": "2021-06-20T07:55:42.687Z"
   },
   {
    "duration": 31,
    "start_time": "2021-06-20T07:55:42.721Z"
   },
   {
    "duration": 367,
    "start_time": "2021-06-20T07:55:42.783Z"
   },
   {
    "duration": 44,
    "start_time": "2021-06-20T07:55:43.153Z"
   },
   {
    "duration": 55,
    "start_time": "2021-06-20T07:55:43.199Z"
   },
   {
    "duration": 47,
    "start_time": "2021-06-20T07:55:43.256Z"
   },
   {
    "duration": 52,
    "start_time": "2021-06-20T07:55:43.305Z"
   },
   {
    "duration": 29,
    "start_time": "2021-06-20T07:55:43.359Z"
   },
   {
    "duration": 60,
    "start_time": "2021-06-20T07:55:43.391Z"
   },
   {
    "duration": 83,
    "start_time": "2021-06-20T07:55:43.454Z"
   },
   {
    "duration": 442,
    "start_time": "2021-06-20T07:55:43.541Z"
   },
   {
    "duration": 851,
    "start_time": "2021-06-20T18:38:38.878Z"
   },
   {
    "duration": 46,
    "start_time": "2021-06-20T18:38:41.465Z"
   },
   {
    "duration": 17,
    "start_time": "2021-06-20T18:38:47.684Z"
   },
   {
    "duration": 10,
    "start_time": "2021-06-20T18:38:54.081Z"
   },
   {
    "duration": 5,
    "start_time": "2021-06-20T18:38:58.529Z"
   },
   {
    "duration": 13,
    "start_time": "2021-06-20T18:39:05.975Z"
   },
   {
    "duration": 382,
    "start_time": "2021-06-20T18:40:19.888Z"
   },
   {
    "duration": 53,
    "start_time": "2021-06-20T18:40:35.998Z"
   },
   {
    "duration": 25,
    "start_time": "2021-06-20T18:41:08.577Z"
   },
   {
    "duration": 18,
    "start_time": "2021-06-20T18:41:49.376Z"
   },
   {
    "duration": 35,
    "start_time": "2021-06-20T18:42:05.174Z"
   },
   {
    "duration": 45,
    "start_time": "2021-06-20T18:42:19.969Z"
   },
   {
    "duration": 27,
    "start_time": "2021-06-20T18:46:07.348Z"
   },
   {
    "duration": 7,
    "start_time": "2021-06-20T18:46:44.770Z"
   },
   {
    "duration": 13,
    "start_time": "2021-06-20T18:46:56.544Z"
   }
  ],
  "kernelspec": {
   "display_name": "Python 3",
   "language": "python",
   "name": "python3"
  },
  "language_info": {
   "codemirror_mode": {
    "name": "ipython",
    "version": 3
   },
   "file_extension": ".py",
   "mimetype": "text/x-python",
   "name": "python",
   "nbconvert_exporter": "python",
   "pygments_lexer": "ipython3",
   "version": "3.8.8"
  },
  "toc": {
   "base_numbering": 1,
   "nav_menu": {},
   "number_sections": true,
   "sideBar": true,
   "skip_h1_title": true,
   "title_cell": "Table of Contents",
   "title_sidebar": "Contents",
   "toc_cell": false,
   "toc_position": {},
   "toc_section_display": true,
   "toc_window_display": false
  }
 },
 "nbformat": 4,
 "nbformat_minor": 2
}
