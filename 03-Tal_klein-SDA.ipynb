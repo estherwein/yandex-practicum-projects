{
 "cells": [
  {
   "cell_type": "markdown",
   "metadata": {},
   "source": [
    "<div style=\"border:solid Chocolate 2px; padding: 40px\">\n",
    "\n",
    "<b>Hello, Tal!👋 How are you today?</b>\n",
    "    \n",
    "My name is Arina U. and I am glad to be your reviewer in this project! We have already met with you in one of the previous sprints, nice to meet you again!<br />\n",
    "\n",
    "\n",
    "You can find my comments in <font color='green'>green</font>, <font color='gold'>yellow</font> and <font color='red'>red</font> boxes. Examples you can see below:\n",
    "    \n",
    "<div class=\"alert alert-block alert-success\">\n",
    "    <h2>Reviewer's commentary <a class=\"tocSkip\"> </h2>\n",
    "    <br/>\n",
    "<b>Well done!👍:</b> In case if task is completely correct and everything is alright!\n",
    "</div>\n",
    "\n",
    "\n",
    "<div class=\"alert alert-block alert-warning\">\n",
    "   <h2>Reviewer's commentary <a class=\"tocSkip\"> </h2>\n",
    "    <br/>\n",
    "<b>Remarks and recommendations📌:</b>  In case when I can give some advice that can help you to improve your work or recommend you some useful links and resources that can help you widen your knowledge and help in future tasks.\n",
    "</div>\n",
    "\n",
    "<div class=\"alert alert-block alert-danger\">\n",
    "    <h2>Reviewer's commentary <a class=\"tocSkip\"> </h2>\n",
    "    <br/>\n",
    "<b>Needs fixing!🤔:</b> In case when step requires some extra work and some corrections. Project can't be accepted with comments in the red boxes\n",
    "</div>\n",
    "\n",
    "Please pay attention to not move or change my comments. It would be good to highlight your answers in some way. \n",
    "\n",
    "#### <font color='Purple'>Student's commentary:</font> for example like this <a class=\"tocSkip\"> </div>\n",
    "    \n",
    "OK, now let's go!😏\n",
    "</font>"
   ]
  },
  {
   "cell_type": "markdown",
   "metadata": {
    "heading_collapsed": true
   },
   "source": [
    "# Research on megaline surffing plans\n"
   ]
  },
  {
   "cell_type": "markdown",
   "metadata": {},
   "source": [
    "# Description of the Project\n",
    "\n",
    "The company offers its clients two prepaid plans, Surf and Ultimate. The commercial department wants to know which of the plans brings in more revenue in order to adjust the advertising budget.\n",
    "\n",
    "carry out a preliminary analysis of the plans based on a relatively small client selection. You'll have the data on 500 Megaline clients: who the clients are, where they're from, which plan they use, and the number of calls they made and text messages they sent in 2018. Your job is to analyze clients' behavior and determine which prepaid plan brings in more revenue."
   ]
  },
  {
   "cell_type": "markdown",
   "metadata": {},
   "source": [
    "# Description of the data\n",
    "The dictionary contains the following datasets:\n",
    "* The `users` table (data on users):\n",
    "    * `user_id` — unique user identifier\n",
    "    * `first_name` — user's name\n",
    "    * `last_name` — user's last name\n",
    "    * `Course Project`\n",
    "    * `3age` — user's age (years)\n",
    "    * `reg_date` — subscription date (dd, mm, yy)\n",
    "    * `churn_date` — the date the user stopped using the service (if the value is missing, the calling plan was being used when this data was generated)\n",
    "    * `city` — user's city of residence\n",
    "    * `plan` — calling plan name\n",
    "* The `calls` table (data on calls):\n",
    "    * `id` — unique call identifier\n",
    "    * `call_date` — call date\n",
    "    * `duration` — call duration (in minutes)\n",
    "    * `user_id` — the identifier of the user making the call\n",
    "* The `messages` table (data on texts):\n",
    "    * `id` — unique text message identifier\n",
    "    * `message_date` — text message date\n",
    "    * `user_id` — the identifier of the user sending the text\n",
    "* The `internet` table (data on web sessions):\n",
    "    * `id` — unique session identifier\n",
    "    * `mb_used` — the volume of data spent during the session (in megabytes)\n",
    "    * `session_date` — web session date\n",
    "    * `user_id` — user identifier\n",
    "* The `plans` table (data on the plans):\n",
    "    * `plan_name` — calling plan name\n",
    "    * `usd_monthly_fee` — monthly charge in US dollars\n",
    "    * `minutes_included` — monthly minute allowance\n",
    "    * `messages_included` — monthly text allowance\n",
    "    * `mb_per_month_included` — data volume allowance (in megabytes)\n",
    "    * `usd_per_minute` — price per minute after exceeding the package limits (e.g., if the package includes 100 minutes, the 101st minute will be charged)\n",
    "    * `usd_per_message` — price per text after exceeding the package limits\n",
    "    * `usd_per_gb` — price per extra gigabyte of data after exceeding the package limits 1 GB = 1024 megabytes)\n",
    "\n",
    "Remember! Megaline rounds seconds up to minutes, and megabytes to\n",
    "gigabytes. For calls, each individual call is rounded up: even if the call lasted\n",
    "just one second, it will be counted as one minute. For web traffic, individual\n",
    "web sessions are not rounded up. Instead, the total for the month is rounded\n",
    "up. If someone uses 1025 megabytes this month, they will be charged for 2\n",
    "gigabytes.\n",
    "\n",
    "# Description of the plans\n",
    "* Surf\n",
    "  * Monthly charge: 20usd\n",
    "  * 500 monthly minutes, 50 texts, and 15 GB of data\n",
    "  * After exceeding the package limits:\n",
    "    * 1 minute: 3 cents\n",
    "    * 1 text message: 3 cents\n",
    "    * 1 GB of data: 10usd\n",
    "* Ultimate\n",
    "  * Monthly charge: 70usd\n",
    "  * 3000 monthly minutes, 1000 text messages, and 30 GB of data\n",
    "  * After exceeding the package limits:\n",
    "    * 1 minute: 1 cent\n",
    "    * 1 text message: 1 cent\n",
    "    * 1 GB of data: 7usd"
   ]
  },
  {
   "cell_type": "markdown",
   "metadata": {},
   "source": [
    "<div class=\"alert alert-block alert-success\">\n",
    "    <h2>Reviewer's commentary <a class=\"tocSkip\"> </h2>\n",
    "    <br/>\n",
    "<b>Well done!👍:</b> \n",
    "        \n",
    "Ok, Tal, it is great that you started your project with so comprehensive introduction! Keep it up!"
   ]
  },
  {
   "cell_type": "markdown",
   "metadata": {},
   "source": [
    "## <a id='section1'></a>Open the data file and study the general information"
   ]
  },
  {
   "cell_type": "code",
   "execution_count": 1,
   "metadata": {
    "ExecuteTime": {
     "end_time": "2021-07-01T11:43:04.646373Z",
     "start_time": "2021-07-01T11:43:04.280304Z"
    }
   },
   "outputs": [],
   "source": [
    "import pandas as pd\n",
    "import matplotlib.pyplot as plt\n",
    "import seaborn as sns\n",
    "import numpy as np\n",
    "from IPython.display import display\n",
    "from functools import reduce\n",
    "from scipy import stats as st\n",
    "\n",
    "try:\n",
    "    calls = pd.read_csv('/datasets/megaline_calls.csv')\n",
    "    internet = pd.read_csv('/datasets/megaline_internet.csv')\n",
    "    messages = pd.read_csv('/datasets/megaline_messages.csv')\n",
    "    plans = pd.read_csv('/datasets/megaline_plans.csv')\n",
    "    users = pd.read_csv('/datasets/megaline_users.csv')\n",
    "except:\n",
    "    calls = pd.read_csv('megaline_calls.csv')\n",
    "    internet = pd.read_csv('megaline_internet.csv')\n",
    "    messages = pd.read_csv('megaline_messages.csv')\n",
    "    plans = pd.read_csv('megaline_plans.csv')\n",
    "    users = pd.read_csv('megaline_users.csv')"
   ]
  },
  {
   "cell_type": "markdown",
   "metadata": {},
   "source": [
    "    \n",
    "<div class=\"alert alert-block alert-success\">\n",
    "    <h2>Reviewer's commentary <a class=\"tocSkip\"> </h2>\n",
    "    <br/>\n",
    "<b>Well done!👍:</b> \n",
    "        \n",
    "Ok, a big plus for using `try-except`"
   ]
  },
  {
   "cell_type": "markdown",
   "metadata": {},
   "source": [
    "Exploring general info on each table using a loop and function:"
   ]
  },
  {
   "cell_type": "code",
   "execution_count": 2,
   "metadata": {
    "ExecuteTime": {
     "end_time": "2021-07-01T11:43:07.173470Z",
     "start_time": "2021-07-01T11:43:07.043424Z"
    },
    "scrolled": true
   },
   "outputs": [
    {
     "name": "stdout",
     "output_type": "stream",
     "text": [
      "calls info:\n",
      "\n",
      "<class 'pandas.core.frame.DataFrame'>\n",
      "RangeIndex: 137735 entries, 0 to 137734\n",
      "Data columns (total 4 columns):\n",
      " #   Column     Non-Null Count   Dtype  \n",
      "---  ------     --------------   -----  \n",
      " 0   id         137735 non-null  object \n",
      " 1   user_id    137735 non-null  int64  \n",
      " 2   call_date  137735 non-null  object \n",
      " 3   duration   137735 non-null  float64\n",
      "dtypes: float64(1), int64(1), object(2)\n",
      "memory usage: 4.2+ MB\n",
      "\n",
      "sample data:\n"
     ]
    },
    {
     "data": {
      "text/html": [
       "<div>\n",
       "<style scoped>\n",
       "    .dataframe tbody tr th:only-of-type {\n",
       "        vertical-align: middle;\n",
       "    }\n",
       "\n",
       "    .dataframe tbody tr th {\n",
       "        vertical-align: top;\n",
       "    }\n",
       "\n",
       "    .dataframe thead th {\n",
       "        text-align: right;\n",
       "    }\n",
       "</style>\n",
       "<table border=\"1\" class=\"dataframe\">\n",
       "  <thead>\n",
       "    <tr style=\"text-align: right;\">\n",
       "      <th></th>\n",
       "      <th>id</th>\n",
       "      <th>user_id</th>\n",
       "      <th>call_date</th>\n",
       "      <th>duration</th>\n",
       "    </tr>\n",
       "  </thead>\n",
       "  <tbody>\n",
       "    <tr>\n",
       "      <th>0</th>\n",
       "      <td>1000_93</td>\n",
       "      <td>1000</td>\n",
       "      <td>2018-12-27</td>\n",
       "      <td>8.52</td>\n",
       "    </tr>\n",
       "    <tr>\n",
       "      <th>1</th>\n",
       "      <td>1000_145</td>\n",
       "      <td>1000</td>\n",
       "      <td>2018-12-27</td>\n",
       "      <td>13.66</td>\n",
       "    </tr>\n",
       "    <tr>\n",
       "      <th>2</th>\n",
       "      <td>1000_247</td>\n",
       "      <td>1000</td>\n",
       "      <td>2018-12-27</td>\n",
       "      <td>14.48</td>\n",
       "    </tr>\n",
       "    <tr>\n",
       "      <th>3</th>\n",
       "      <td>1000_309</td>\n",
       "      <td>1000</td>\n",
       "      <td>2018-12-28</td>\n",
       "      <td>5.76</td>\n",
       "    </tr>\n",
       "    <tr>\n",
       "      <th>4</th>\n",
       "      <td>1000_380</td>\n",
       "      <td>1000</td>\n",
       "      <td>2018-12-30</td>\n",
       "      <td>4.22</td>\n",
       "    </tr>\n",
       "    <tr>\n",
       "      <th>5</th>\n",
       "      <td>1000_388</td>\n",
       "      <td>1000</td>\n",
       "      <td>2018-12-31</td>\n",
       "      <td>2.20</td>\n",
       "    </tr>\n",
       "    <tr>\n",
       "      <th>6</th>\n",
       "      <td>1000_510</td>\n",
       "      <td>1000</td>\n",
       "      <td>2018-12-27</td>\n",
       "      <td>5.75</td>\n",
       "    </tr>\n",
       "    <tr>\n",
       "      <th>7</th>\n",
       "      <td>1000_521</td>\n",
       "      <td>1000</td>\n",
       "      <td>2018-12-28</td>\n",
       "      <td>14.18</td>\n",
       "    </tr>\n",
       "    <tr>\n",
       "      <th>8</th>\n",
       "      <td>1000_530</td>\n",
       "      <td>1000</td>\n",
       "      <td>2018-12-28</td>\n",
       "      <td>5.77</td>\n",
       "    </tr>\n",
       "    <tr>\n",
       "      <th>9</th>\n",
       "      <td>1000_544</td>\n",
       "      <td>1000</td>\n",
       "      <td>2018-12-26</td>\n",
       "      <td>4.40</td>\n",
       "    </tr>\n",
       "  </tbody>\n",
       "</table>\n",
       "</div>"
      ],
      "text/plain": [
       "         id  user_id   call_date  duration\n",
       "0   1000_93     1000  2018-12-27      8.52\n",
       "1  1000_145     1000  2018-12-27     13.66\n",
       "2  1000_247     1000  2018-12-27     14.48\n",
       "3  1000_309     1000  2018-12-28      5.76\n",
       "4  1000_380     1000  2018-12-30      4.22\n",
       "5  1000_388     1000  2018-12-31      2.20\n",
       "6  1000_510     1000  2018-12-27      5.75\n",
       "7  1000_521     1000  2018-12-28     14.18\n",
       "8  1000_530     1000  2018-12-28      5.77\n",
       "9  1000_544     1000  2018-12-26      4.40"
      ]
     },
     "metadata": {},
     "output_type": "display_data"
    },
    {
     "data": {
      "text/html": [
       "<div>\n",
       "<style scoped>\n",
       "    .dataframe tbody tr th:only-of-type {\n",
       "        vertical-align: middle;\n",
       "    }\n",
       "\n",
       "    .dataframe tbody tr th {\n",
       "        vertical-align: top;\n",
       "    }\n",
       "\n",
       "    .dataframe thead th {\n",
       "        text-align: right;\n",
       "    }\n",
       "</style>\n",
       "<table border=\"1\" class=\"dataframe\">\n",
       "  <thead>\n",
       "    <tr style=\"text-align: right;\">\n",
       "      <th></th>\n",
       "      <th>id</th>\n",
       "      <th>user_id</th>\n",
       "      <th>call_date</th>\n",
       "      <th>duration</th>\n",
       "    </tr>\n",
       "  </thead>\n",
       "  <tbody>\n",
       "    <tr>\n",
       "      <th>137725</th>\n",
       "      <td>1499_194</td>\n",
       "      <td>1499</td>\n",
       "      <td>2018-10-31</td>\n",
       "      <td>0.00</td>\n",
       "    </tr>\n",
       "    <tr>\n",
       "      <th>137726</th>\n",
       "      <td>1499_195</td>\n",
       "      <td>1499</td>\n",
       "      <td>2018-09-16</td>\n",
       "      <td>1.39</td>\n",
       "    </tr>\n",
       "    <tr>\n",
       "      <th>137727</th>\n",
       "      <td>1499_196</td>\n",
       "      <td>1499</td>\n",
       "      <td>2018-11-22</td>\n",
       "      <td>0.27</td>\n",
       "    </tr>\n",
       "    <tr>\n",
       "      <th>137728</th>\n",
       "      <td>1499_197</td>\n",
       "      <td>1499</td>\n",
       "      <td>2018-12-27</td>\n",
       "      <td>8.36</td>\n",
       "    </tr>\n",
       "    <tr>\n",
       "      <th>137729</th>\n",
       "      <td>1499_198</td>\n",
       "      <td>1499</td>\n",
       "      <td>2018-10-26</td>\n",
       "      <td>6.41</td>\n",
       "    </tr>\n",
       "    <tr>\n",
       "      <th>137730</th>\n",
       "      <td>1499_199</td>\n",
       "      <td>1499</td>\n",
       "      <td>2018-11-21</td>\n",
       "      <td>8.72</td>\n",
       "    </tr>\n",
       "    <tr>\n",
       "      <th>137731</th>\n",
       "      <td>1499_200</td>\n",
       "      <td>1499</td>\n",
       "      <td>2018-10-20</td>\n",
       "      <td>10.89</td>\n",
       "    </tr>\n",
       "    <tr>\n",
       "      <th>137732</th>\n",
       "      <td>1499_201</td>\n",
       "      <td>1499</td>\n",
       "      <td>2018-09-21</td>\n",
       "      <td>8.12</td>\n",
       "    </tr>\n",
       "    <tr>\n",
       "      <th>137733</th>\n",
       "      <td>1499_202</td>\n",
       "      <td>1499</td>\n",
       "      <td>2018-10-10</td>\n",
       "      <td>0.37</td>\n",
       "    </tr>\n",
       "    <tr>\n",
       "      <th>137734</th>\n",
       "      <td>1499_203</td>\n",
       "      <td>1499</td>\n",
       "      <td>2018-12-29</td>\n",
       "      <td>13.86</td>\n",
       "    </tr>\n",
       "  </tbody>\n",
       "</table>\n",
       "</div>"
      ],
      "text/plain": [
       "              id  user_id   call_date  duration\n",
       "137725  1499_194     1499  2018-10-31      0.00\n",
       "137726  1499_195     1499  2018-09-16      1.39\n",
       "137727  1499_196     1499  2018-11-22      0.27\n",
       "137728  1499_197     1499  2018-12-27      8.36\n",
       "137729  1499_198     1499  2018-10-26      6.41\n",
       "137730  1499_199     1499  2018-11-21      8.72\n",
       "137731  1499_200     1499  2018-10-20     10.89\n",
       "137732  1499_201     1499  2018-09-21      8.12\n",
       "137733  1499_202     1499  2018-10-10      0.37\n",
       "137734  1499_203     1499  2018-12-29     13.86"
      ]
     },
     "metadata": {},
     "output_type": "display_data"
    },
    {
     "name": "stdout",
     "output_type": "stream",
     "text": [
      "\n",
      "General description:\n"
     ]
    },
    {
     "data": {
      "text/html": [
       "<div>\n",
       "<style scoped>\n",
       "    .dataframe tbody tr th:only-of-type {\n",
       "        vertical-align: middle;\n",
       "    }\n",
       "\n",
       "    .dataframe tbody tr th {\n",
       "        vertical-align: top;\n",
       "    }\n",
       "\n",
       "    .dataframe thead th {\n",
       "        text-align: right;\n",
       "    }\n",
       "</style>\n",
       "<table border=\"1\" class=\"dataframe\">\n",
       "  <thead>\n",
       "    <tr style=\"text-align: right;\">\n",
       "      <th></th>\n",
       "      <th>user_id</th>\n",
       "      <th>duration</th>\n",
       "    </tr>\n",
       "  </thead>\n",
       "  <tbody>\n",
       "    <tr>\n",
       "      <th>count</th>\n",
       "      <td>137735.000000</td>\n",
       "      <td>137735.000000</td>\n",
       "    </tr>\n",
       "    <tr>\n",
       "      <th>mean</th>\n",
       "      <td>1247.658046</td>\n",
       "      <td>6.745927</td>\n",
       "    </tr>\n",
       "    <tr>\n",
       "      <th>std</th>\n",
       "      <td>139.416268</td>\n",
       "      <td>5.839241</td>\n",
       "    </tr>\n",
       "    <tr>\n",
       "      <th>min</th>\n",
       "      <td>1000.000000</td>\n",
       "      <td>0.000000</td>\n",
       "    </tr>\n",
       "    <tr>\n",
       "      <th>25%</th>\n",
       "      <td>1128.000000</td>\n",
       "      <td>1.290000</td>\n",
       "    </tr>\n",
       "    <tr>\n",
       "      <th>50%</th>\n",
       "      <td>1247.000000</td>\n",
       "      <td>5.980000</td>\n",
       "    </tr>\n",
       "    <tr>\n",
       "      <th>75%</th>\n",
       "      <td>1365.000000</td>\n",
       "      <td>10.690000</td>\n",
       "    </tr>\n",
       "    <tr>\n",
       "      <th>max</th>\n",
       "      <td>1499.000000</td>\n",
       "      <td>37.600000</td>\n",
       "    </tr>\n",
       "  </tbody>\n",
       "</table>\n",
       "</div>"
      ],
      "text/plain": [
       "             user_id       duration\n",
       "count  137735.000000  137735.000000\n",
       "mean     1247.658046       6.745927\n",
       "std       139.416268       5.839241\n",
       "min      1000.000000       0.000000\n",
       "25%      1128.000000       1.290000\n",
       "50%      1247.000000       5.980000\n",
       "75%      1365.000000      10.690000\n",
       "max      1499.000000      37.600000"
      ]
     },
     "metadata": {},
     "output_type": "display_data"
    },
    {
     "name": "stdout",
     "output_type": "stream",
     "text": [
      "\n",
      "Looking for duplicates:\n",
      "0\n",
      "\n",
      "Looking for empty values:\n",
      "id           0.0\n",
      "user_id      0.0\n",
      "call_date    0.0\n",
      "duration     0.0\n",
      "dtype: float64\n",
      "\n",
      "internet info:\n",
      "\n",
      "<class 'pandas.core.frame.DataFrame'>\n",
      "RangeIndex: 104825 entries, 0 to 104824\n",
      "Data columns (total 4 columns):\n",
      " #   Column        Non-Null Count   Dtype  \n",
      "---  ------        --------------   -----  \n",
      " 0   id            104825 non-null  object \n",
      " 1   user_id       104825 non-null  int64  \n",
      " 2   session_date  104825 non-null  object \n",
      " 3   mb_used       104825 non-null  float64\n",
      "dtypes: float64(1), int64(1), object(2)\n",
      "memory usage: 3.2+ MB\n",
      "\n",
      "sample data:\n"
     ]
    },
    {
     "data": {
      "text/html": [
       "<div>\n",
       "<style scoped>\n",
       "    .dataframe tbody tr th:only-of-type {\n",
       "        vertical-align: middle;\n",
       "    }\n",
       "\n",
       "    .dataframe tbody tr th {\n",
       "        vertical-align: top;\n",
       "    }\n",
       "\n",
       "    .dataframe thead th {\n",
       "        text-align: right;\n",
       "    }\n",
       "</style>\n",
       "<table border=\"1\" class=\"dataframe\">\n",
       "  <thead>\n",
       "    <tr style=\"text-align: right;\">\n",
       "      <th></th>\n",
       "      <th>id</th>\n",
       "      <th>user_id</th>\n",
       "      <th>session_date</th>\n",
       "      <th>mb_used</th>\n",
       "    </tr>\n",
       "  </thead>\n",
       "  <tbody>\n",
       "    <tr>\n",
       "      <th>0</th>\n",
       "      <td>1000_13</td>\n",
       "      <td>1000</td>\n",
       "      <td>2018-12-29</td>\n",
       "      <td>89.86</td>\n",
       "    </tr>\n",
       "    <tr>\n",
       "      <th>1</th>\n",
       "      <td>1000_204</td>\n",
       "      <td>1000</td>\n",
       "      <td>2018-12-31</td>\n",
       "      <td>0.00</td>\n",
       "    </tr>\n",
       "    <tr>\n",
       "      <th>2</th>\n",
       "      <td>1000_379</td>\n",
       "      <td>1000</td>\n",
       "      <td>2018-12-28</td>\n",
       "      <td>660.40</td>\n",
       "    </tr>\n",
       "    <tr>\n",
       "      <th>3</th>\n",
       "      <td>1000_413</td>\n",
       "      <td>1000</td>\n",
       "      <td>2018-12-26</td>\n",
       "      <td>270.99</td>\n",
       "    </tr>\n",
       "    <tr>\n",
       "      <th>4</th>\n",
       "      <td>1000_442</td>\n",
       "      <td>1000</td>\n",
       "      <td>2018-12-27</td>\n",
       "      <td>880.22</td>\n",
       "    </tr>\n",
       "    <tr>\n",
       "      <th>5</th>\n",
       "      <td>1001_0</td>\n",
       "      <td>1001</td>\n",
       "      <td>2018-08-24</td>\n",
       "      <td>284.68</td>\n",
       "    </tr>\n",
       "    <tr>\n",
       "      <th>6</th>\n",
       "      <td>1001_3</td>\n",
       "      <td>1001</td>\n",
       "      <td>2018-12-09</td>\n",
       "      <td>656.04</td>\n",
       "    </tr>\n",
       "    <tr>\n",
       "      <th>7</th>\n",
       "      <td>1001_4</td>\n",
       "      <td>1001</td>\n",
       "      <td>2018-11-04</td>\n",
       "      <td>16.97</td>\n",
       "    </tr>\n",
       "    <tr>\n",
       "      <th>8</th>\n",
       "      <td>1001_10</td>\n",
       "      <td>1001</td>\n",
       "      <td>2018-11-27</td>\n",
       "      <td>135.18</td>\n",
       "    </tr>\n",
       "    <tr>\n",
       "      <th>9</th>\n",
       "      <td>1001_15</td>\n",
       "      <td>1001</td>\n",
       "      <td>2018-12-13</td>\n",
       "      <td>761.92</td>\n",
       "    </tr>\n",
       "  </tbody>\n",
       "</table>\n",
       "</div>"
      ],
      "text/plain": [
       "         id  user_id session_date  mb_used\n",
       "0   1000_13     1000   2018-12-29    89.86\n",
       "1  1000_204     1000   2018-12-31     0.00\n",
       "2  1000_379     1000   2018-12-28   660.40\n",
       "3  1000_413     1000   2018-12-26   270.99\n",
       "4  1000_442     1000   2018-12-27   880.22\n",
       "5    1001_0     1001   2018-08-24   284.68\n",
       "6    1001_3     1001   2018-12-09   656.04\n",
       "7    1001_4     1001   2018-11-04    16.97\n",
       "8   1001_10     1001   2018-11-27   135.18\n",
       "9   1001_15     1001   2018-12-13   761.92"
      ]
     },
     "metadata": {},
     "output_type": "display_data"
    },
    {
     "data": {
      "text/html": [
       "<div>\n",
       "<style scoped>\n",
       "    .dataframe tbody tr th:only-of-type {\n",
       "        vertical-align: middle;\n",
       "    }\n",
       "\n",
       "    .dataframe tbody tr th {\n",
       "        vertical-align: top;\n",
       "    }\n",
       "\n",
       "    .dataframe thead th {\n",
       "        text-align: right;\n",
       "    }\n",
       "</style>\n",
       "<table border=\"1\" class=\"dataframe\">\n",
       "  <thead>\n",
       "    <tr style=\"text-align: right;\">\n",
       "      <th></th>\n",
       "      <th>id</th>\n",
       "      <th>user_id</th>\n",
       "      <th>session_date</th>\n",
       "      <th>mb_used</th>\n",
       "    </tr>\n",
       "  </thead>\n",
       "  <tbody>\n",
       "    <tr>\n",
       "      <th>104815</th>\n",
       "      <td>1499_210</td>\n",
       "      <td>1499</td>\n",
       "      <td>2018-11-30</td>\n",
       "      <td>191.92</td>\n",
       "    </tr>\n",
       "    <tr>\n",
       "      <th>104816</th>\n",
       "      <td>1499_211</td>\n",
       "      <td>1499</td>\n",
       "      <td>2018-09-26</td>\n",
       "      <td>0.00</td>\n",
       "    </tr>\n",
       "    <tr>\n",
       "      <th>104817</th>\n",
       "      <td>1499_212</td>\n",
       "      <td>1499</td>\n",
       "      <td>2018-09-11</td>\n",
       "      <td>0.00</td>\n",
       "    </tr>\n",
       "    <tr>\n",
       "      <th>104818</th>\n",
       "      <td>1499_213</td>\n",
       "      <td>1499</td>\n",
       "      <td>2018-10-15</td>\n",
       "      <td>430.27</td>\n",
       "    </tr>\n",
       "    <tr>\n",
       "      <th>104819</th>\n",
       "      <td>1499_214</td>\n",
       "      <td>1499</td>\n",
       "      <td>2018-10-18</td>\n",
       "      <td>261.13</td>\n",
       "    </tr>\n",
       "    <tr>\n",
       "      <th>104820</th>\n",
       "      <td>1499_215</td>\n",
       "      <td>1499</td>\n",
       "      <td>2018-10-20</td>\n",
       "      <td>218.06</td>\n",
       "    </tr>\n",
       "    <tr>\n",
       "      <th>104821</th>\n",
       "      <td>1499_216</td>\n",
       "      <td>1499</td>\n",
       "      <td>2018-12-30</td>\n",
       "      <td>304.72</td>\n",
       "    </tr>\n",
       "    <tr>\n",
       "      <th>104822</th>\n",
       "      <td>1499_217</td>\n",
       "      <td>1499</td>\n",
       "      <td>2018-09-22</td>\n",
       "      <td>292.75</td>\n",
       "    </tr>\n",
       "    <tr>\n",
       "      <th>104823</th>\n",
       "      <td>1499_218</td>\n",
       "      <td>1499</td>\n",
       "      <td>2018-12-07</td>\n",
       "      <td>0.00</td>\n",
       "    </tr>\n",
       "    <tr>\n",
       "      <th>104824</th>\n",
       "      <td>1499_219</td>\n",
       "      <td>1499</td>\n",
       "      <td>2018-12-24</td>\n",
       "      <td>758.31</td>\n",
       "    </tr>\n",
       "  </tbody>\n",
       "</table>\n",
       "</div>"
      ],
      "text/plain": [
       "              id  user_id session_date  mb_used\n",
       "104815  1499_210     1499   2018-11-30   191.92\n",
       "104816  1499_211     1499   2018-09-26     0.00\n",
       "104817  1499_212     1499   2018-09-11     0.00\n",
       "104818  1499_213     1499   2018-10-15   430.27\n",
       "104819  1499_214     1499   2018-10-18   261.13\n",
       "104820  1499_215     1499   2018-10-20   218.06\n",
       "104821  1499_216     1499   2018-12-30   304.72\n",
       "104822  1499_217     1499   2018-09-22   292.75\n",
       "104823  1499_218     1499   2018-12-07     0.00\n",
       "104824  1499_219     1499   2018-12-24   758.31"
      ]
     },
     "metadata": {},
     "output_type": "display_data"
    },
    {
     "name": "stdout",
     "output_type": "stream",
     "text": [
      "\n",
      "General description:\n"
     ]
    },
    {
     "data": {
      "text/html": [
       "<div>\n",
       "<style scoped>\n",
       "    .dataframe tbody tr th:only-of-type {\n",
       "        vertical-align: middle;\n",
       "    }\n",
       "\n",
       "    .dataframe tbody tr th {\n",
       "        vertical-align: top;\n",
       "    }\n",
       "\n",
       "    .dataframe thead th {\n",
       "        text-align: right;\n",
       "    }\n",
       "</style>\n",
       "<table border=\"1\" class=\"dataframe\">\n",
       "  <thead>\n",
       "    <tr style=\"text-align: right;\">\n",
       "      <th></th>\n",
       "      <th>user_id</th>\n",
       "      <th>mb_used</th>\n",
       "    </tr>\n",
       "  </thead>\n",
       "  <tbody>\n",
       "    <tr>\n",
       "      <th>count</th>\n",
       "      <td>104825.000000</td>\n",
       "      <td>104825.000000</td>\n",
       "    </tr>\n",
       "    <tr>\n",
       "      <th>mean</th>\n",
       "      <td>1242.496361</td>\n",
       "      <td>366.713701</td>\n",
       "    </tr>\n",
       "    <tr>\n",
       "      <th>std</th>\n",
       "      <td>142.053913</td>\n",
       "      <td>277.170542</td>\n",
       "    </tr>\n",
       "    <tr>\n",
       "      <th>min</th>\n",
       "      <td>1000.000000</td>\n",
       "      <td>0.000000</td>\n",
       "    </tr>\n",
       "    <tr>\n",
       "      <th>25%</th>\n",
       "      <td>1122.000000</td>\n",
       "      <td>136.080000</td>\n",
       "    </tr>\n",
       "    <tr>\n",
       "      <th>50%</th>\n",
       "      <td>1236.000000</td>\n",
       "      <td>343.980000</td>\n",
       "    </tr>\n",
       "    <tr>\n",
       "      <th>75%</th>\n",
       "      <td>1367.000000</td>\n",
       "      <td>554.610000</td>\n",
       "    </tr>\n",
       "    <tr>\n",
       "      <th>max</th>\n",
       "      <td>1499.000000</td>\n",
       "      <td>1693.470000</td>\n",
       "    </tr>\n",
       "  </tbody>\n",
       "</table>\n",
       "</div>"
      ],
      "text/plain": [
       "             user_id        mb_used\n",
       "count  104825.000000  104825.000000\n",
       "mean     1242.496361     366.713701\n",
       "std       142.053913     277.170542\n",
       "min      1000.000000       0.000000\n",
       "25%      1122.000000     136.080000\n",
       "50%      1236.000000     343.980000\n",
       "75%      1367.000000     554.610000\n",
       "max      1499.000000    1693.470000"
      ]
     },
     "metadata": {},
     "output_type": "display_data"
    },
    {
     "name": "stdout",
     "output_type": "stream",
     "text": [
      "\n",
      "Looking for duplicates:\n",
      "0\n",
      "\n",
      "Looking for empty values:\n",
      "id              0.0\n",
      "user_id         0.0\n",
      "session_date    0.0\n",
      "mb_used         0.0\n",
      "dtype: float64\n",
      "\n",
      "messages info:\n",
      "\n",
      "<class 'pandas.core.frame.DataFrame'>\n",
      "RangeIndex: 76051 entries, 0 to 76050\n",
      "Data columns (total 3 columns):\n",
      " #   Column        Non-Null Count  Dtype \n",
      "---  ------        --------------  ----- \n",
      " 0   id            76051 non-null  object\n",
      " 1   user_id       76051 non-null  int64 \n",
      " 2   message_date  76051 non-null  object\n",
      "dtypes: int64(1), object(2)\n",
      "memory usage: 1.7+ MB\n",
      "\n",
      "sample data:\n"
     ]
    },
    {
     "data": {
      "text/html": [
       "<div>\n",
       "<style scoped>\n",
       "    .dataframe tbody tr th:only-of-type {\n",
       "        vertical-align: middle;\n",
       "    }\n",
       "\n",
       "    .dataframe tbody tr th {\n",
       "        vertical-align: top;\n",
       "    }\n",
       "\n",
       "    .dataframe thead th {\n",
       "        text-align: right;\n",
       "    }\n",
       "</style>\n",
       "<table border=\"1\" class=\"dataframe\">\n",
       "  <thead>\n",
       "    <tr style=\"text-align: right;\">\n",
       "      <th></th>\n",
       "      <th>id</th>\n",
       "      <th>user_id</th>\n",
       "      <th>message_date</th>\n",
       "    </tr>\n",
       "  </thead>\n",
       "  <tbody>\n",
       "    <tr>\n",
       "      <th>0</th>\n",
       "      <td>1000_125</td>\n",
       "      <td>1000</td>\n",
       "      <td>2018-12-27</td>\n",
       "    </tr>\n",
       "    <tr>\n",
       "      <th>1</th>\n",
       "      <td>1000_160</td>\n",
       "      <td>1000</td>\n",
       "      <td>2018-12-31</td>\n",
       "    </tr>\n",
       "    <tr>\n",
       "      <th>2</th>\n",
       "      <td>1000_223</td>\n",
       "      <td>1000</td>\n",
       "      <td>2018-12-31</td>\n",
       "    </tr>\n",
       "    <tr>\n",
       "      <th>3</th>\n",
       "      <td>1000_251</td>\n",
       "      <td>1000</td>\n",
       "      <td>2018-12-27</td>\n",
       "    </tr>\n",
       "    <tr>\n",
       "      <th>4</th>\n",
       "      <td>1000_255</td>\n",
       "      <td>1000</td>\n",
       "      <td>2018-12-26</td>\n",
       "    </tr>\n",
       "    <tr>\n",
       "      <th>5</th>\n",
       "      <td>1000_346</td>\n",
       "      <td>1000</td>\n",
       "      <td>2018-12-29</td>\n",
       "    </tr>\n",
       "    <tr>\n",
       "      <th>6</th>\n",
       "      <td>1000_386</td>\n",
       "      <td>1000</td>\n",
       "      <td>2018-12-30</td>\n",
       "    </tr>\n",
       "    <tr>\n",
       "      <th>7</th>\n",
       "      <td>1000_413</td>\n",
       "      <td>1000</td>\n",
       "      <td>2018-12-31</td>\n",
       "    </tr>\n",
       "    <tr>\n",
       "      <th>8</th>\n",
       "      <td>1000_502</td>\n",
       "      <td>1000</td>\n",
       "      <td>2018-12-27</td>\n",
       "    </tr>\n",
       "    <tr>\n",
       "      <th>9</th>\n",
       "      <td>1000_525</td>\n",
       "      <td>1000</td>\n",
       "      <td>2018-12-28</td>\n",
       "    </tr>\n",
       "  </tbody>\n",
       "</table>\n",
       "</div>"
      ],
      "text/plain": [
       "         id  user_id message_date\n",
       "0  1000_125     1000   2018-12-27\n",
       "1  1000_160     1000   2018-12-31\n",
       "2  1000_223     1000   2018-12-31\n",
       "3  1000_251     1000   2018-12-27\n",
       "4  1000_255     1000   2018-12-26\n",
       "5  1000_346     1000   2018-12-29\n",
       "6  1000_386     1000   2018-12-30\n",
       "7  1000_413     1000   2018-12-31\n",
       "8  1000_502     1000   2018-12-27\n",
       "9  1000_525     1000   2018-12-28"
      ]
     },
     "metadata": {},
     "output_type": "display_data"
    },
    {
     "data": {
      "text/html": [
       "<div>\n",
       "<style scoped>\n",
       "    .dataframe tbody tr th:only-of-type {\n",
       "        vertical-align: middle;\n",
       "    }\n",
       "\n",
       "    .dataframe tbody tr th {\n",
       "        vertical-align: top;\n",
       "    }\n",
       "\n",
       "    .dataframe thead th {\n",
       "        text-align: right;\n",
       "    }\n",
       "</style>\n",
       "<table border=\"1\" class=\"dataframe\">\n",
       "  <thead>\n",
       "    <tr style=\"text-align: right;\">\n",
       "      <th></th>\n",
       "      <th>id</th>\n",
       "      <th>user_id</th>\n",
       "      <th>message_date</th>\n",
       "    </tr>\n",
       "  </thead>\n",
       "  <tbody>\n",
       "    <tr>\n",
       "      <th>76041</th>\n",
       "      <td>1497_502</td>\n",
       "      <td>1497</td>\n",
       "      <td>2018-12-30</td>\n",
       "    </tr>\n",
       "    <tr>\n",
       "      <th>76042</th>\n",
       "      <td>1497_503</td>\n",
       "      <td>1497</td>\n",
       "      <td>2018-12-29</td>\n",
       "    </tr>\n",
       "    <tr>\n",
       "      <th>76043</th>\n",
       "      <td>1497_507</td>\n",
       "      <td>1497</td>\n",
       "      <td>2018-12-23</td>\n",
       "    </tr>\n",
       "    <tr>\n",
       "      <th>76044</th>\n",
       "      <td>1497_517</td>\n",
       "      <td>1497</td>\n",
       "      <td>2018-12-17</td>\n",
       "    </tr>\n",
       "    <tr>\n",
       "      <th>76045</th>\n",
       "      <td>1497_524</td>\n",
       "      <td>1497</td>\n",
       "      <td>2018-12-12</td>\n",
       "    </tr>\n",
       "    <tr>\n",
       "      <th>76046</th>\n",
       "      <td>1497_526</td>\n",
       "      <td>1497</td>\n",
       "      <td>2018-12-24</td>\n",
       "    </tr>\n",
       "    <tr>\n",
       "      <th>76047</th>\n",
       "      <td>1497_536</td>\n",
       "      <td>1497</td>\n",
       "      <td>2018-12-24</td>\n",
       "    </tr>\n",
       "    <tr>\n",
       "      <th>76048</th>\n",
       "      <td>1497_547</td>\n",
       "      <td>1497</td>\n",
       "      <td>2018-12-31</td>\n",
       "    </tr>\n",
       "    <tr>\n",
       "      <th>76049</th>\n",
       "      <td>1497_558</td>\n",
       "      <td>1497</td>\n",
       "      <td>2018-12-24</td>\n",
       "    </tr>\n",
       "    <tr>\n",
       "      <th>76050</th>\n",
       "      <td>1497_613</td>\n",
       "      <td>1497</td>\n",
       "      <td>2018-12-23</td>\n",
       "    </tr>\n",
       "  </tbody>\n",
       "</table>\n",
       "</div>"
      ],
      "text/plain": [
       "             id  user_id message_date\n",
       "76041  1497_502     1497   2018-12-30\n",
       "76042  1497_503     1497   2018-12-29\n",
       "76043  1497_507     1497   2018-12-23\n",
       "76044  1497_517     1497   2018-12-17\n",
       "76045  1497_524     1497   2018-12-12\n",
       "76046  1497_526     1497   2018-12-24\n",
       "76047  1497_536     1497   2018-12-24\n",
       "76048  1497_547     1497   2018-12-31\n",
       "76049  1497_558     1497   2018-12-24\n",
       "76050  1497_613     1497   2018-12-23"
      ]
     },
     "metadata": {},
     "output_type": "display_data"
    },
    {
     "name": "stdout",
     "output_type": "stream",
     "text": [
      "\n",
      "General description:\n"
     ]
    },
    {
     "data": {
      "text/html": [
       "<div>\n",
       "<style scoped>\n",
       "    .dataframe tbody tr th:only-of-type {\n",
       "        vertical-align: middle;\n",
       "    }\n",
       "\n",
       "    .dataframe tbody tr th {\n",
       "        vertical-align: top;\n",
       "    }\n",
       "\n",
       "    .dataframe thead th {\n",
       "        text-align: right;\n",
       "    }\n",
       "</style>\n",
       "<table border=\"1\" class=\"dataframe\">\n",
       "  <thead>\n",
       "    <tr style=\"text-align: right;\">\n",
       "      <th></th>\n",
       "      <th>user_id</th>\n",
       "    </tr>\n",
       "  </thead>\n",
       "  <tbody>\n",
       "    <tr>\n",
       "      <th>count</th>\n",
       "      <td>76051.000000</td>\n",
       "    </tr>\n",
       "    <tr>\n",
       "      <th>mean</th>\n",
       "      <td>1245.972768</td>\n",
       "    </tr>\n",
       "    <tr>\n",
       "      <th>std</th>\n",
       "      <td>139.843635</td>\n",
       "    </tr>\n",
       "    <tr>\n",
       "      <th>min</th>\n",
       "      <td>1000.000000</td>\n",
       "    </tr>\n",
       "    <tr>\n",
       "      <th>25%</th>\n",
       "      <td>1123.000000</td>\n",
       "    </tr>\n",
       "    <tr>\n",
       "      <th>50%</th>\n",
       "      <td>1251.000000</td>\n",
       "    </tr>\n",
       "    <tr>\n",
       "      <th>75%</th>\n",
       "      <td>1362.000000</td>\n",
       "    </tr>\n",
       "    <tr>\n",
       "      <th>max</th>\n",
       "      <td>1497.000000</td>\n",
       "    </tr>\n",
       "  </tbody>\n",
       "</table>\n",
       "</div>"
      ],
      "text/plain": [
       "            user_id\n",
       "count  76051.000000\n",
       "mean    1245.972768\n",
       "std      139.843635\n",
       "min     1000.000000\n",
       "25%     1123.000000\n",
       "50%     1251.000000\n",
       "75%     1362.000000\n",
       "max     1497.000000"
      ]
     },
     "metadata": {},
     "output_type": "display_data"
    },
    {
     "name": "stdout",
     "output_type": "stream",
     "text": [
      "\n",
      "Looking for duplicates:\n",
      "0\n",
      "\n",
      "Looking for empty values:\n",
      "id              0.0\n",
      "user_id         0.0\n",
      "message_date    0.0\n",
      "dtype: float64\n",
      "\n",
      "plans info:\n",
      "\n",
      "<class 'pandas.core.frame.DataFrame'>\n",
      "RangeIndex: 2 entries, 0 to 1\n",
      "Data columns (total 8 columns):\n",
      " #   Column                 Non-Null Count  Dtype  \n",
      "---  ------                 --------------  -----  \n",
      " 0   messages_included      2 non-null      int64  \n",
      " 1   mb_per_month_included  2 non-null      int64  \n",
      " 2   minutes_included       2 non-null      int64  \n",
      " 3   usd_monthly_pay        2 non-null      int64  \n",
      " 4   usd_per_gb             2 non-null      int64  \n",
      " 5   usd_per_message        2 non-null      float64\n",
      " 6   usd_per_minute         2 non-null      float64\n",
      " 7   plan_name              2 non-null      object \n",
      "dtypes: float64(2), int64(5), object(1)\n",
      "memory usage: 256.0+ bytes\n",
      "\n",
      "sample data:\n"
     ]
    },
    {
     "data": {
      "text/html": [
       "<div>\n",
       "<style scoped>\n",
       "    .dataframe tbody tr th:only-of-type {\n",
       "        vertical-align: middle;\n",
       "    }\n",
       "\n",
       "    .dataframe tbody tr th {\n",
       "        vertical-align: top;\n",
       "    }\n",
       "\n",
       "    .dataframe thead th {\n",
       "        text-align: right;\n",
       "    }\n",
       "</style>\n",
       "<table border=\"1\" class=\"dataframe\">\n",
       "  <thead>\n",
       "    <tr style=\"text-align: right;\">\n",
       "      <th></th>\n",
       "      <th>messages_included</th>\n",
       "      <th>mb_per_month_included</th>\n",
       "      <th>minutes_included</th>\n",
       "      <th>usd_monthly_pay</th>\n",
       "      <th>usd_per_gb</th>\n",
       "      <th>usd_per_message</th>\n",
       "      <th>usd_per_minute</th>\n",
       "      <th>plan_name</th>\n",
       "    </tr>\n",
       "  </thead>\n",
       "  <tbody>\n",
       "    <tr>\n",
       "      <th>0</th>\n",
       "      <td>50</td>\n",
       "      <td>15360</td>\n",
       "      <td>500</td>\n",
       "      <td>20</td>\n",
       "      <td>10</td>\n",
       "      <td>0.03</td>\n",
       "      <td>0.03</td>\n",
       "      <td>surf</td>\n",
       "    </tr>\n",
       "    <tr>\n",
       "      <th>1</th>\n",
       "      <td>1000</td>\n",
       "      <td>30720</td>\n",
       "      <td>3000</td>\n",
       "      <td>70</td>\n",
       "      <td>7</td>\n",
       "      <td>0.01</td>\n",
       "      <td>0.01</td>\n",
       "      <td>ultimate</td>\n",
       "    </tr>\n",
       "  </tbody>\n",
       "</table>\n",
       "</div>"
      ],
      "text/plain": [
       "   messages_included  mb_per_month_included  minutes_included  \\\n",
       "0                 50                  15360               500   \n",
       "1               1000                  30720              3000   \n",
       "\n",
       "   usd_monthly_pay  usd_per_gb  usd_per_message  usd_per_minute plan_name  \n",
       "0               20          10             0.03            0.03      surf  \n",
       "1               70           7             0.01            0.01  ultimate  "
      ]
     },
     "metadata": {},
     "output_type": "display_data"
    },
    {
     "data": {
      "text/html": [
       "<div>\n",
       "<style scoped>\n",
       "    .dataframe tbody tr th:only-of-type {\n",
       "        vertical-align: middle;\n",
       "    }\n",
       "\n",
       "    .dataframe tbody tr th {\n",
       "        vertical-align: top;\n",
       "    }\n",
       "\n",
       "    .dataframe thead th {\n",
       "        text-align: right;\n",
       "    }\n",
       "</style>\n",
       "<table border=\"1\" class=\"dataframe\">\n",
       "  <thead>\n",
       "    <tr style=\"text-align: right;\">\n",
       "      <th></th>\n",
       "      <th>messages_included</th>\n",
       "      <th>mb_per_month_included</th>\n",
       "      <th>minutes_included</th>\n",
       "      <th>usd_monthly_pay</th>\n",
       "      <th>usd_per_gb</th>\n",
       "      <th>usd_per_message</th>\n",
       "      <th>usd_per_minute</th>\n",
       "      <th>plan_name</th>\n",
       "    </tr>\n",
       "  </thead>\n",
       "  <tbody>\n",
       "    <tr>\n",
       "      <th>0</th>\n",
       "      <td>50</td>\n",
       "      <td>15360</td>\n",
       "      <td>500</td>\n",
       "      <td>20</td>\n",
       "      <td>10</td>\n",
       "      <td>0.03</td>\n",
       "      <td>0.03</td>\n",
       "      <td>surf</td>\n",
       "    </tr>\n",
       "    <tr>\n",
       "      <th>1</th>\n",
       "      <td>1000</td>\n",
       "      <td>30720</td>\n",
       "      <td>3000</td>\n",
       "      <td>70</td>\n",
       "      <td>7</td>\n",
       "      <td>0.01</td>\n",
       "      <td>0.01</td>\n",
       "      <td>ultimate</td>\n",
       "    </tr>\n",
       "  </tbody>\n",
       "</table>\n",
       "</div>"
      ],
      "text/plain": [
       "   messages_included  mb_per_month_included  minutes_included  \\\n",
       "0                 50                  15360               500   \n",
       "1               1000                  30720              3000   \n",
       "\n",
       "   usd_monthly_pay  usd_per_gb  usd_per_message  usd_per_minute plan_name  \n",
       "0               20          10             0.03            0.03      surf  \n",
       "1               70           7             0.01            0.01  ultimate  "
      ]
     },
     "metadata": {},
     "output_type": "display_data"
    },
    {
     "name": "stdout",
     "output_type": "stream",
     "text": [
      "\n",
      "General description:\n"
     ]
    },
    {
     "data": {
      "text/html": [
       "<div>\n",
       "<style scoped>\n",
       "    .dataframe tbody tr th:only-of-type {\n",
       "        vertical-align: middle;\n",
       "    }\n",
       "\n",
       "    .dataframe tbody tr th {\n",
       "        vertical-align: top;\n",
       "    }\n",
       "\n",
       "    .dataframe thead th {\n",
       "        text-align: right;\n",
       "    }\n",
       "</style>\n",
       "<table border=\"1\" class=\"dataframe\">\n",
       "  <thead>\n",
       "    <tr style=\"text-align: right;\">\n",
       "      <th></th>\n",
       "      <th>messages_included</th>\n",
       "      <th>mb_per_month_included</th>\n",
       "      <th>minutes_included</th>\n",
       "      <th>usd_monthly_pay</th>\n",
       "      <th>usd_per_gb</th>\n",
       "      <th>usd_per_message</th>\n",
       "      <th>usd_per_minute</th>\n",
       "    </tr>\n",
       "  </thead>\n",
       "  <tbody>\n",
       "    <tr>\n",
       "      <th>count</th>\n",
       "      <td>2.000000</td>\n",
       "      <td>2.000000</td>\n",
       "      <td>2.000000</td>\n",
       "      <td>2.000000</td>\n",
       "      <td>2.00000</td>\n",
       "      <td>2.000000</td>\n",
       "      <td>2.000000</td>\n",
       "    </tr>\n",
       "    <tr>\n",
       "      <th>mean</th>\n",
       "      <td>525.000000</td>\n",
       "      <td>23040.000000</td>\n",
       "      <td>1750.000000</td>\n",
       "      <td>45.000000</td>\n",
       "      <td>8.50000</td>\n",
       "      <td>0.020000</td>\n",
       "      <td>0.020000</td>\n",
       "    </tr>\n",
       "    <tr>\n",
       "      <th>std</th>\n",
       "      <td>671.751442</td>\n",
       "      <td>10861.160159</td>\n",
       "      <td>1767.766953</td>\n",
       "      <td>35.355339</td>\n",
       "      <td>2.12132</td>\n",
       "      <td>0.014142</td>\n",
       "      <td>0.014142</td>\n",
       "    </tr>\n",
       "    <tr>\n",
       "      <th>min</th>\n",
       "      <td>50.000000</td>\n",
       "      <td>15360.000000</td>\n",
       "      <td>500.000000</td>\n",
       "      <td>20.000000</td>\n",
       "      <td>7.00000</td>\n",
       "      <td>0.010000</td>\n",
       "      <td>0.010000</td>\n",
       "    </tr>\n",
       "    <tr>\n",
       "      <th>25%</th>\n",
       "      <td>287.500000</td>\n",
       "      <td>19200.000000</td>\n",
       "      <td>1125.000000</td>\n",
       "      <td>32.500000</td>\n",
       "      <td>7.75000</td>\n",
       "      <td>0.015000</td>\n",
       "      <td>0.015000</td>\n",
       "    </tr>\n",
       "    <tr>\n",
       "      <th>50%</th>\n",
       "      <td>525.000000</td>\n",
       "      <td>23040.000000</td>\n",
       "      <td>1750.000000</td>\n",
       "      <td>45.000000</td>\n",
       "      <td>8.50000</td>\n",
       "      <td>0.020000</td>\n",
       "      <td>0.020000</td>\n",
       "    </tr>\n",
       "    <tr>\n",
       "      <th>75%</th>\n",
       "      <td>762.500000</td>\n",
       "      <td>26880.000000</td>\n",
       "      <td>2375.000000</td>\n",
       "      <td>57.500000</td>\n",
       "      <td>9.25000</td>\n",
       "      <td>0.025000</td>\n",
       "      <td>0.025000</td>\n",
       "    </tr>\n",
       "    <tr>\n",
       "      <th>max</th>\n",
       "      <td>1000.000000</td>\n",
       "      <td>30720.000000</td>\n",
       "      <td>3000.000000</td>\n",
       "      <td>70.000000</td>\n",
       "      <td>10.00000</td>\n",
       "      <td>0.030000</td>\n",
       "      <td>0.030000</td>\n",
       "    </tr>\n",
       "  </tbody>\n",
       "</table>\n",
       "</div>"
      ],
      "text/plain": [
       "       messages_included  mb_per_month_included  minutes_included  \\\n",
       "count           2.000000               2.000000          2.000000   \n",
       "mean          525.000000           23040.000000       1750.000000   \n",
       "std           671.751442           10861.160159       1767.766953   \n",
       "min            50.000000           15360.000000        500.000000   \n",
       "25%           287.500000           19200.000000       1125.000000   \n",
       "50%           525.000000           23040.000000       1750.000000   \n",
       "75%           762.500000           26880.000000       2375.000000   \n",
       "max          1000.000000           30720.000000       3000.000000   \n",
       "\n",
       "       usd_monthly_pay  usd_per_gb  usd_per_message  usd_per_minute  \n",
       "count         2.000000     2.00000         2.000000        2.000000  \n",
       "mean         45.000000     8.50000         0.020000        0.020000  \n",
       "std          35.355339     2.12132         0.014142        0.014142  \n",
       "min          20.000000     7.00000         0.010000        0.010000  \n",
       "25%          32.500000     7.75000         0.015000        0.015000  \n",
       "50%          45.000000     8.50000         0.020000        0.020000  \n",
       "75%          57.500000     9.25000         0.025000        0.025000  \n",
       "max          70.000000    10.00000         0.030000        0.030000  "
      ]
     },
     "metadata": {},
     "output_type": "display_data"
    },
    {
     "name": "stdout",
     "output_type": "stream",
     "text": [
      "\n",
      "Looking for duplicates:\n",
      "0\n",
      "\n",
      "Looking for empty values:\n",
      "messages_included        0.0\n",
      "mb_per_month_included    0.0\n",
      "minutes_included         0.0\n",
      "usd_monthly_pay          0.0\n",
      "usd_per_gb               0.0\n",
      "usd_per_message          0.0\n",
      "usd_per_minute           0.0\n",
      "plan_name                0.0\n",
      "dtype: float64\n",
      "\n",
      "users info:\n",
      "\n",
      "<class 'pandas.core.frame.DataFrame'>\n",
      "RangeIndex: 500 entries, 0 to 499\n",
      "Data columns (total 8 columns):\n",
      " #   Column      Non-Null Count  Dtype \n",
      "---  ------      --------------  ----- \n",
      " 0   user_id     500 non-null    int64 \n",
      " 1   first_name  500 non-null    object\n",
      " 2   last_name   500 non-null    object\n",
      " 3   age         500 non-null    int64 \n",
      " 4   city        500 non-null    object\n",
      " 5   reg_date    500 non-null    object\n",
      " 6   plan        500 non-null    object\n",
      " 7   churn_date  34 non-null     object\n",
      "dtypes: int64(2), object(6)\n",
      "memory usage: 31.4+ KB\n",
      "\n",
      "sample data:\n"
     ]
    },
    {
     "data": {
      "text/html": [
       "<div>\n",
       "<style scoped>\n",
       "    .dataframe tbody tr th:only-of-type {\n",
       "        vertical-align: middle;\n",
       "    }\n",
       "\n",
       "    .dataframe tbody tr th {\n",
       "        vertical-align: top;\n",
       "    }\n",
       "\n",
       "    .dataframe thead th {\n",
       "        text-align: right;\n",
       "    }\n",
       "</style>\n",
       "<table border=\"1\" class=\"dataframe\">\n",
       "  <thead>\n",
       "    <tr style=\"text-align: right;\">\n",
       "      <th></th>\n",
       "      <th>user_id</th>\n",
       "      <th>first_name</th>\n",
       "      <th>last_name</th>\n",
       "      <th>age</th>\n",
       "      <th>city</th>\n",
       "      <th>reg_date</th>\n",
       "      <th>plan</th>\n",
       "      <th>churn_date</th>\n",
       "    </tr>\n",
       "  </thead>\n",
       "  <tbody>\n",
       "    <tr>\n",
       "      <th>0</th>\n",
       "      <td>1000</td>\n",
       "      <td>Anamaria</td>\n",
       "      <td>Bauer</td>\n",
       "      <td>45</td>\n",
       "      <td>Atlanta-Sandy Springs-Roswell, GA MSA</td>\n",
       "      <td>2018-12-24</td>\n",
       "      <td>ultimate</td>\n",
       "      <td>NaN</td>\n",
       "    </tr>\n",
       "    <tr>\n",
       "      <th>1</th>\n",
       "      <td>1001</td>\n",
       "      <td>Mickey</td>\n",
       "      <td>Wilkerson</td>\n",
       "      <td>28</td>\n",
       "      <td>Seattle-Tacoma-Bellevue, WA MSA</td>\n",
       "      <td>2018-08-13</td>\n",
       "      <td>surf</td>\n",
       "      <td>NaN</td>\n",
       "    </tr>\n",
       "    <tr>\n",
       "      <th>2</th>\n",
       "      <td>1002</td>\n",
       "      <td>Carlee</td>\n",
       "      <td>Hoffman</td>\n",
       "      <td>36</td>\n",
       "      <td>Las Vegas-Henderson-Paradise, NV MSA</td>\n",
       "      <td>2018-10-21</td>\n",
       "      <td>surf</td>\n",
       "      <td>NaN</td>\n",
       "    </tr>\n",
       "    <tr>\n",
       "      <th>3</th>\n",
       "      <td>1003</td>\n",
       "      <td>Reynaldo</td>\n",
       "      <td>Jenkins</td>\n",
       "      <td>52</td>\n",
       "      <td>Tulsa, OK MSA</td>\n",
       "      <td>2018-01-28</td>\n",
       "      <td>surf</td>\n",
       "      <td>NaN</td>\n",
       "    </tr>\n",
       "    <tr>\n",
       "      <th>4</th>\n",
       "      <td>1004</td>\n",
       "      <td>Leonila</td>\n",
       "      <td>Thompson</td>\n",
       "      <td>40</td>\n",
       "      <td>Seattle-Tacoma-Bellevue, WA MSA</td>\n",
       "      <td>2018-05-23</td>\n",
       "      <td>surf</td>\n",
       "      <td>NaN</td>\n",
       "    </tr>\n",
       "    <tr>\n",
       "      <th>5</th>\n",
       "      <td>1005</td>\n",
       "      <td>Livia</td>\n",
       "      <td>Shields</td>\n",
       "      <td>31</td>\n",
       "      <td>Dallas-Fort Worth-Arlington, TX MSA</td>\n",
       "      <td>2018-11-29</td>\n",
       "      <td>surf</td>\n",
       "      <td>NaN</td>\n",
       "    </tr>\n",
       "    <tr>\n",
       "      <th>6</th>\n",
       "      <td>1006</td>\n",
       "      <td>Jesusa</td>\n",
       "      <td>Bradford</td>\n",
       "      <td>73</td>\n",
       "      <td>San Francisco-Oakland-Berkeley, CA MSA</td>\n",
       "      <td>2018-11-27</td>\n",
       "      <td>ultimate</td>\n",
       "      <td>2018-12-18</td>\n",
       "    </tr>\n",
       "    <tr>\n",
       "      <th>7</th>\n",
       "      <td>1007</td>\n",
       "      <td>Eusebio</td>\n",
       "      <td>Welch</td>\n",
       "      <td>42</td>\n",
       "      <td>Grand Rapids-Kentwood, MI MSA</td>\n",
       "      <td>2018-07-11</td>\n",
       "      <td>surf</td>\n",
       "      <td>NaN</td>\n",
       "    </tr>\n",
       "    <tr>\n",
       "      <th>8</th>\n",
       "      <td>1008</td>\n",
       "      <td>Emely</td>\n",
       "      <td>Hoffman</td>\n",
       "      <td>53</td>\n",
       "      <td>Orlando-Kissimmee-Sanford, FL MSA</td>\n",
       "      <td>2018-08-03</td>\n",
       "      <td>ultimate</td>\n",
       "      <td>NaN</td>\n",
       "    </tr>\n",
       "    <tr>\n",
       "      <th>9</th>\n",
       "      <td>1009</td>\n",
       "      <td>Gerry</td>\n",
       "      <td>Little</td>\n",
       "      <td>19</td>\n",
       "      <td>San Jose-Sunnyvale-Santa Clara, CA MSA</td>\n",
       "      <td>2018-04-22</td>\n",
       "      <td>surf</td>\n",
       "      <td>NaN</td>\n",
       "    </tr>\n",
       "  </tbody>\n",
       "</table>\n",
       "</div>"
      ],
      "text/plain": [
       "   user_id first_name  last_name  age                                    city  \\\n",
       "0     1000   Anamaria      Bauer   45   Atlanta-Sandy Springs-Roswell, GA MSA   \n",
       "1     1001     Mickey  Wilkerson   28         Seattle-Tacoma-Bellevue, WA MSA   \n",
       "2     1002     Carlee    Hoffman   36    Las Vegas-Henderson-Paradise, NV MSA   \n",
       "3     1003   Reynaldo    Jenkins   52                           Tulsa, OK MSA   \n",
       "4     1004    Leonila   Thompson   40         Seattle-Tacoma-Bellevue, WA MSA   \n",
       "5     1005      Livia    Shields   31     Dallas-Fort Worth-Arlington, TX MSA   \n",
       "6     1006     Jesusa   Bradford   73  San Francisco-Oakland-Berkeley, CA MSA   \n",
       "7     1007    Eusebio      Welch   42           Grand Rapids-Kentwood, MI MSA   \n",
       "8     1008      Emely    Hoffman   53       Orlando-Kissimmee-Sanford, FL MSA   \n",
       "9     1009      Gerry     Little   19  San Jose-Sunnyvale-Santa Clara, CA MSA   \n",
       "\n",
       "     reg_date      plan  churn_date  \n",
       "0  2018-12-24  ultimate         NaN  \n",
       "1  2018-08-13      surf         NaN  \n",
       "2  2018-10-21      surf         NaN  \n",
       "3  2018-01-28      surf         NaN  \n",
       "4  2018-05-23      surf         NaN  \n",
       "5  2018-11-29      surf         NaN  \n",
       "6  2018-11-27  ultimate  2018-12-18  \n",
       "7  2018-07-11      surf         NaN  \n",
       "8  2018-08-03  ultimate         NaN  \n",
       "9  2018-04-22      surf         NaN  "
      ]
     },
     "metadata": {},
     "output_type": "display_data"
    },
    {
     "data": {
      "text/html": [
       "<div>\n",
       "<style scoped>\n",
       "    .dataframe tbody tr th:only-of-type {\n",
       "        vertical-align: middle;\n",
       "    }\n",
       "\n",
       "    .dataframe tbody tr th {\n",
       "        vertical-align: top;\n",
       "    }\n",
       "\n",
       "    .dataframe thead th {\n",
       "        text-align: right;\n",
       "    }\n",
       "</style>\n",
       "<table border=\"1\" class=\"dataframe\">\n",
       "  <thead>\n",
       "    <tr style=\"text-align: right;\">\n",
       "      <th></th>\n",
       "      <th>user_id</th>\n",
       "      <th>first_name</th>\n",
       "      <th>last_name</th>\n",
       "      <th>age</th>\n",
       "      <th>city</th>\n",
       "      <th>reg_date</th>\n",
       "      <th>plan</th>\n",
       "      <th>churn_date</th>\n",
       "    </tr>\n",
       "  </thead>\n",
       "  <tbody>\n",
       "    <tr>\n",
       "      <th>490</th>\n",
       "      <td>1490</td>\n",
       "      <td>Shane</td>\n",
       "      <td>Cortez</td>\n",
       "      <td>42</td>\n",
       "      <td>Sacramento–Roseville–Folsom, CA MSA</td>\n",
       "      <td>2018-01-20</td>\n",
       "      <td>ultimate</td>\n",
       "      <td>NaN</td>\n",
       "    </tr>\n",
       "    <tr>\n",
       "      <th>491</th>\n",
       "      <td>1491</td>\n",
       "      <td>Terina</td>\n",
       "      <td>Jensen</td>\n",
       "      <td>22</td>\n",
       "      <td>Grand Rapids-Kentwood, MI MSA</td>\n",
       "      <td>2018-04-27</td>\n",
       "      <td>surf</td>\n",
       "      <td>2018-09-18</td>\n",
       "    </tr>\n",
       "    <tr>\n",
       "      <th>492</th>\n",
       "      <td>1492</td>\n",
       "      <td>Elvie</td>\n",
       "      <td>Jones</td>\n",
       "      <td>63</td>\n",
       "      <td>Portland-Vancouver-Hillsboro, OR-WA MSA</td>\n",
       "      <td>2018-03-07</td>\n",
       "      <td>surf</td>\n",
       "      <td>NaN</td>\n",
       "    </tr>\n",
       "    <tr>\n",
       "      <th>493</th>\n",
       "      <td>1493</td>\n",
       "      <td>Cicely</td>\n",
       "      <td>Wynn</td>\n",
       "      <td>18</td>\n",
       "      <td>Boston-Cambridge-Newton, MA-NH MSA</td>\n",
       "      <td>2018-03-06</td>\n",
       "      <td>ultimate</td>\n",
       "      <td>NaN</td>\n",
       "    </tr>\n",
       "    <tr>\n",
       "      <th>494</th>\n",
       "      <td>1494</td>\n",
       "      <td>Preston</td>\n",
       "      <td>Downs</td>\n",
       "      <td>70</td>\n",
       "      <td>New York-Newark-Jersey City, NY-NJ-PA MSA</td>\n",
       "      <td>2018-04-19</td>\n",
       "      <td>surf</td>\n",
       "      <td>NaN</td>\n",
       "    </tr>\n",
       "    <tr>\n",
       "      <th>495</th>\n",
       "      <td>1495</td>\n",
       "      <td>Fidel</td>\n",
       "      <td>Sharpe</td>\n",
       "      <td>67</td>\n",
       "      <td>New York-Newark-Jersey City, NY-NJ-PA MSA</td>\n",
       "      <td>2018-09-04</td>\n",
       "      <td>surf</td>\n",
       "      <td>NaN</td>\n",
       "    </tr>\n",
       "    <tr>\n",
       "      <th>496</th>\n",
       "      <td>1496</td>\n",
       "      <td>Ariel</td>\n",
       "      <td>Shepherd</td>\n",
       "      <td>49</td>\n",
       "      <td>New Orleans-Metairie, LA MSA</td>\n",
       "      <td>2018-02-20</td>\n",
       "      <td>surf</td>\n",
       "      <td>NaN</td>\n",
       "    </tr>\n",
       "    <tr>\n",
       "      <th>497</th>\n",
       "      <td>1497</td>\n",
       "      <td>Donte</td>\n",
       "      <td>Barrera</td>\n",
       "      <td>49</td>\n",
       "      <td>Los Angeles-Long Beach-Anaheim, CA MSA</td>\n",
       "      <td>2018-12-10</td>\n",
       "      <td>ultimate</td>\n",
       "      <td>NaN</td>\n",
       "    </tr>\n",
       "    <tr>\n",
       "      <th>498</th>\n",
       "      <td>1498</td>\n",
       "      <td>Scot</td>\n",
       "      <td>Williamson</td>\n",
       "      <td>51</td>\n",
       "      <td>New York-Newark-Jersey City, NY-NJ-PA MSA</td>\n",
       "      <td>2018-02-04</td>\n",
       "      <td>surf</td>\n",
       "      <td>NaN</td>\n",
       "    </tr>\n",
       "    <tr>\n",
       "      <th>499</th>\n",
       "      <td>1499</td>\n",
       "      <td>Shena</td>\n",
       "      <td>Dickson</td>\n",
       "      <td>37</td>\n",
       "      <td>Orlando-Kissimmee-Sanford, FL MSA</td>\n",
       "      <td>2018-05-06</td>\n",
       "      <td>surf</td>\n",
       "      <td>NaN</td>\n",
       "    </tr>\n",
       "  </tbody>\n",
       "</table>\n",
       "</div>"
      ],
      "text/plain": [
       "     user_id first_name   last_name  age  \\\n",
       "490     1490      Shane      Cortez   42   \n",
       "491     1491     Terina      Jensen   22   \n",
       "492     1492      Elvie       Jones   63   \n",
       "493     1493     Cicely        Wynn   18   \n",
       "494     1494    Preston       Downs   70   \n",
       "495     1495      Fidel      Sharpe   67   \n",
       "496     1496      Ariel    Shepherd   49   \n",
       "497     1497      Donte     Barrera   49   \n",
       "498     1498       Scot  Williamson   51   \n",
       "499     1499      Shena     Dickson   37   \n",
       "\n",
       "                                          city    reg_date      plan  \\\n",
       "490        Sacramento–Roseville–Folsom, CA MSA  2018-01-20  ultimate   \n",
       "491              Grand Rapids-Kentwood, MI MSA  2018-04-27      surf   \n",
       "492    Portland-Vancouver-Hillsboro, OR-WA MSA  2018-03-07      surf   \n",
       "493         Boston-Cambridge-Newton, MA-NH MSA  2018-03-06  ultimate   \n",
       "494  New York-Newark-Jersey City, NY-NJ-PA MSA  2018-04-19      surf   \n",
       "495  New York-Newark-Jersey City, NY-NJ-PA MSA  2018-09-04      surf   \n",
       "496               New Orleans-Metairie, LA MSA  2018-02-20      surf   \n",
       "497     Los Angeles-Long Beach-Anaheim, CA MSA  2018-12-10  ultimate   \n",
       "498  New York-Newark-Jersey City, NY-NJ-PA MSA  2018-02-04      surf   \n",
       "499          Orlando-Kissimmee-Sanford, FL MSA  2018-05-06      surf   \n",
       "\n",
       "     churn_date  \n",
       "490         NaN  \n",
       "491  2018-09-18  \n",
       "492         NaN  \n",
       "493         NaN  \n",
       "494         NaN  \n",
       "495         NaN  \n",
       "496         NaN  \n",
       "497         NaN  \n",
       "498         NaN  \n",
       "499         NaN  "
      ]
     },
     "metadata": {},
     "output_type": "display_data"
    },
    {
     "name": "stdout",
     "output_type": "stream",
     "text": [
      "\n",
      "General description:\n"
     ]
    },
    {
     "data": {
      "text/html": [
       "<div>\n",
       "<style scoped>\n",
       "    .dataframe tbody tr th:only-of-type {\n",
       "        vertical-align: middle;\n",
       "    }\n",
       "\n",
       "    .dataframe tbody tr th {\n",
       "        vertical-align: top;\n",
       "    }\n",
       "\n",
       "    .dataframe thead th {\n",
       "        text-align: right;\n",
       "    }\n",
       "</style>\n",
       "<table border=\"1\" class=\"dataframe\">\n",
       "  <thead>\n",
       "    <tr style=\"text-align: right;\">\n",
       "      <th></th>\n",
       "      <th>user_id</th>\n",
       "      <th>age</th>\n",
       "    </tr>\n",
       "  </thead>\n",
       "  <tbody>\n",
       "    <tr>\n",
       "      <th>count</th>\n",
       "      <td>500.000000</td>\n",
       "      <td>500.000000</td>\n",
       "    </tr>\n",
       "    <tr>\n",
       "      <th>mean</th>\n",
       "      <td>1249.500000</td>\n",
       "      <td>45.486000</td>\n",
       "    </tr>\n",
       "    <tr>\n",
       "      <th>std</th>\n",
       "      <td>144.481833</td>\n",
       "      <td>16.972269</td>\n",
       "    </tr>\n",
       "    <tr>\n",
       "      <th>min</th>\n",
       "      <td>1000.000000</td>\n",
       "      <td>18.000000</td>\n",
       "    </tr>\n",
       "    <tr>\n",
       "      <th>25%</th>\n",
       "      <td>1124.750000</td>\n",
       "      <td>30.000000</td>\n",
       "    </tr>\n",
       "    <tr>\n",
       "      <th>50%</th>\n",
       "      <td>1249.500000</td>\n",
       "      <td>46.000000</td>\n",
       "    </tr>\n",
       "    <tr>\n",
       "      <th>75%</th>\n",
       "      <td>1374.250000</td>\n",
       "      <td>61.000000</td>\n",
       "    </tr>\n",
       "    <tr>\n",
       "      <th>max</th>\n",
       "      <td>1499.000000</td>\n",
       "      <td>75.000000</td>\n",
       "    </tr>\n",
       "  </tbody>\n",
       "</table>\n",
       "</div>"
      ],
      "text/plain": [
       "           user_id         age\n",
       "count   500.000000  500.000000\n",
       "mean   1249.500000   45.486000\n",
       "std     144.481833   16.972269\n",
       "min    1000.000000   18.000000\n",
       "25%    1124.750000   30.000000\n",
       "50%    1249.500000   46.000000\n",
       "75%    1374.250000   61.000000\n",
       "max    1499.000000   75.000000"
      ]
     },
     "metadata": {},
     "output_type": "display_data"
    },
    {
     "name": "stdout",
     "output_type": "stream",
     "text": [
      "\n",
      "Looking for duplicates:\n",
      "0\n",
      "\n",
      "Looking for empty values:\n",
      "user_id       0.000\n",
      "first_name    0.000\n",
      "last_name     0.000\n",
      "age           0.000\n",
      "city          0.000\n",
      "reg_date      0.000\n",
      "plan          0.000\n",
      "churn_date    0.932\n",
      "dtype: float64\n",
      "\n"
     ]
    }
   ],
   "source": [
    "# function to describe the data on one dataframe\n",
    "def explore(header, df):\n",
    "    print(F'{header} info:')\n",
    "    print('')\n",
    "    df.info();\n",
    "    print()\n",
    "    print('sample data:')\n",
    "    display(df.head(10))\n",
    "    display(df.tail(10))\n",
    "    \n",
    "    print('\\nGeneral description:')\n",
    "    display(df.describe())\n",
    "    print('\\nLooking for duplicates:')\n",
    "    print(df.duplicated().sum())\n",
    "    print('\\nLooking for empty values:')\n",
    "    print(df.isnull().mean())\n",
    "    print('')\n",
    "\n",
    "tables_dict = {\n",
    "    'calls':calls,\n",
    "    'internet':internet,\n",
    "    'messages':messages,\n",
    "    'plans':plans,\n",
    "    'users':users\n",
    "}\n",
    "    \n",
    "for k,v in tables_dict.items():\n",
    "    explore(k,v)"
   ]
  },
  {
   "cell_type": "markdown",
   "metadata": {},
   "source": [
    "Looking for wierd values in each column"
   ]
  },
  {
   "cell_type": "code",
   "execution_count": 3,
   "metadata": {
    "ExecuteTime": {
     "end_time": "2021-07-01T11:43:46.903445Z",
     "start_time": "2021-07-01T11:43:46.405810Z"
    }
   },
   "outputs": [
    {
     "data": {
      "text/plain": [
       "2018-12-18    3\n",
       "2018-12-19    2\n",
       "2018-12-31    2\n",
       "2018-11-14    2\n",
       "2018-11-24    1\n",
       "2018-10-22    1\n",
       "2018-12-30    1\n",
       "2018-07-31    1\n",
       "2018-10-13    1\n",
       "2018-09-07    1\n",
       "2018-12-26    1\n",
       "2018-12-22    1\n",
       "2018-11-21    1\n",
       "2018-11-29    1\n",
       "2018-11-30    1\n",
       "2018-12-10    1\n",
       "2018-08-16    1\n",
       "2018-12-12    1\n",
       "2018-08-19    1\n",
       "2018-12-15    1\n",
       "2018-11-18    1\n",
       "2018-09-17    1\n",
       "2018-09-18    1\n",
       "2018-11-11    1\n",
       "2018-10-07    1\n",
       "2018-09-01    1\n",
       "2018-12-27    1\n",
       "2018-11-16    1\n",
       "2018-10-03    1\n",
       "Name: churn_date, dtype: int64"
      ]
     },
     "execution_count": 3,
     "metadata": {},
     "output_type": "execute_result"
    }
   ],
   "source": [
    "users['user_id'].value_counts()\n",
    "#user_id seems it's unique since each value appears once as should be\n",
    "users['first_name'].value_counts()\n",
    "users['last_name'].value_counts()\n",
    "users['age'].value_counts()\n",
    "users['city'].value_counts()\n",
    "users['reg_date'].value_counts()\n",
    "users['plan'].value_counts()\n",
    "users['churn_date'].value_counts()\n",
    "#all the values seems ok"
   ]
  },
  {
   "cell_type": "code",
   "execution_count": 4,
   "metadata": {
    "ExecuteTime": {
     "end_time": "2021-07-01T11:44:17.671011Z",
     "start_time": "2021-07-01T11:44:17.583592Z"
    },
    "scrolled": true
   },
   "outputs": [
    {
     "data": {
      "text/plain": [
       "2018-12-28    702\n",
       "2018-12-27    701\n",
       "2018-12-25    699\n",
       "2018-12-31    699\n",
       "2018-12-18    688\n",
       "             ... \n",
       "2018-01-21      3\n",
       "2018-01-15      2\n",
       "2018-02-18      2\n",
       "2018-01-24      2\n",
       "2018-01-19      1\n",
       "Name: message_date, Length: 351, dtype: int64"
      ]
     },
     "execution_count": 4,
     "metadata": {},
     "output_type": "execute_result"
    }
   ],
   "source": [
    "messages['message_date'].value_counts()\n",
    "#seems fine"
   ]
  },
  {
   "cell_type": "code",
   "execution_count": 5,
   "metadata": {},
   "outputs": [
    {
     "name": "stdout",
     "output_type": "stream",
     "text": [
      "0.00      13747\n",
      "414.46        8\n",
      "435.77        8\n",
      "423.06        7\n",
      "313.79        7\n",
      "          ...  \n",
      "301.21        1\n",
      "108.62        1\n",
      "608.63        1\n",
      "212.02        1\n",
      "677.66        1\n",
      "Name: mb_used, Length: 57624, dtype: int64\n",
      "The 0 value appears in 13.11423801574052% of the mb_used\n"
     ]
    }
   ],
   "source": [
    "print(internet['mb_used'].value_counts())\n",
    "print(F'The 0 value appears in {13747/104825*100}% of the mb_used')"
   ]
  },
  {
   "cell_type": "markdown",
   "metadata": {},
   "source": [
    "It seems that many users did not use the internet in some of the days and hence had a log of 0 mb for these days\n",
    "seems logic so I'll leave it as is"
   ]
  },
  {
   "cell_type": "code",
   "execution_count": 6,
   "metadata": {
    "ExecuteTime": {
     "end_time": "2021-07-01T11:48:42.062337Z",
     "start_time": "2021-07-01T11:48:42.048716Z"
    },
    "scrolled": true
   },
   "outputs": [
    {
     "name": "stdout",
     "output_type": "stream",
     "text": [
      "0.00     26834\n",
      "8.37       102\n",
      "4.02       102\n",
      "3.91       101\n",
      "7.61       100\n",
      "         ...  \n",
      "32.53        1\n",
      "24.74        1\n",
      "29.31        1\n",
      "29.30        1\n",
      "23.29        1\n",
      "Name: duration, Length: 2802, dtype: int64\n",
      "The 0 value appears in 19.482339274694162% of the duration\n"
     ]
    }
   ],
   "source": [
    "print(calls['duration'].value_counts())\n",
    "print(F'The 0 value appears in {26834/137735*100}% of the duration')"
   ]
  },
  {
   "cell_type": "markdown",
   "metadata": {
    "ExecuteTime": {
     "end_time": "2021-07-01T11:33:11.409808Z",
     "start_time": "2021-07-01T11:33:11.343356Z"
    },
    "scrolled": true
   },
   "source": [
    "It seems that many users did not make a call in some of the days and hence had a log of 0 duratiron for these days\n",
    "seems logic so I'll leave it as is"
   ]
  },
  {
   "cell_type": "markdown",
   "metadata": {},
   "source": [
    "###### conclusion\n",
    "\n",
    "* `Calls` table - \n",
    "  * There are no missing values in that table.\n",
    "  * The `id` column is an object type and cannot be converted to int because it contains special characters\n",
    "  * The `call_date` column should be converted from object to date type\n",
    "  * The `duration` column has 0s (19%) - These might be missed calls. I will filter them in a new data set and assess how much their absence affects the results of my analysis\n",
    "\n",
    "* `Internet` table -\n",
    "  * There are no missing values in that table.\n",
    "  * The `id` column is an object type and cannot be converted to int because it contains special characters\n",
    "  * The `session_date` column should be converted from object to date type\n",
    "  * The mb_used values are shown in a daily aggregation in MB. Next I will aggregate it monthly and switch to GB per user.\n",
    "  * There are 13747 rows with  0.00 value in the `mb_used` (13%) column . apperantly it's intentional since not all the users surf every day and it marks not surfing that day. \n",
    "  \n",
    "* `Messages` table -\n",
    "  * There are no missing values in that table.\n",
    "  * The `id` column is an object type and cannot be converted to int because it contains special characters\n",
    "  * The `message_date` column should be converted from object to date type\n",
    "\n",
    "* `Plans` table -\n",
    "  * It's a fact table with general info about the 2 different plans\n",
    "  * There are no missing values in that table.\n",
    "  * The columns data types seem fine\n",
    "\n",
    "* `Users` table -\n",
    "  * The column `churn_date` has many missing values apperantly since most users haven't left the plan yet. I will fill the missing values with a future date since I'm testing only the current data and also most plans exist for a limited time.\n",
    "  * `reg_date` column should be date type instead of object\n",
    "  * `plan` - this is the plan that the user got, it has only surf or ultimate as expected"
   ]
  },
  {
   "cell_type": "markdown",
   "metadata": {},
   "source": [
    "<div class=\"alert alert-block alert-success\">\n",
    "    <h2>Reviewer's commentary <a class=\"tocSkip\"> </h2>\n",
    "    <br/>\n",
    "<b>Well done!👍:</b> \n",
    "        \n",
    "Ok, Tal, you studied the data in detail, good job! Also it is correct action to check the data for zero values occurence. "
   ]
  },
  {
   "cell_type": "markdown",
   "metadata": {
    "hide_input": true
   },
   "source": [
    "## <a id='section2'></a> Prepare the data:\n",
    "* Convert the data to the necessary types\n",
    "* Find and eliminate errors in the data\n",
    "* For each user, find:\n",
    "  * The number of calls made and minutes used per month\n",
    "  * The number of text messages sent per month\n",
    "  * The volume of data per month\n",
    "  * The monthly revenue from each user (subtract the free package limit from the total number of calls, text messages, and data; multiply the result by the calling plan value; add the monthly charge depending on the calling plan)"
   ]
  },
  {
   "cell_type": "markdown",
   "metadata": {},
   "source": [
    "#### Convert the data to the necessary types"
   ]
  },
  {
   "cell_type": "code",
   "execution_count": 7,
   "metadata": {
    "ExecuteTime": {
     "end_time": "2021-07-01T14:14:06.882390Z",
     "start_time": "2021-07-01T14:14:06.874910Z"
    }
   },
   "outputs": [
    {
     "name": "stdout",
     "output_type": "stream",
     "text": [
      "<class 'pandas.core.frame.DataFrame'>\n",
      "RangeIndex: 137735 entries, 0 to 137734\n",
      "Data columns (total 4 columns):\n",
      " #   Column     Non-Null Count   Dtype         \n",
      "---  ------     --------------   -----         \n",
      " 0   id         137735 non-null  object        \n",
      " 1   user_id    137735 non-null  int64         \n",
      " 2   call_date  137735 non-null  datetime64[ns]\n",
      " 3   duration   137735 non-null  float64       \n",
      "dtypes: datetime64[ns](1), float64(1), int64(1), object(1)\n",
      "memory usage: 4.2+ MB\n"
     ]
    }
   ],
   "source": [
    "# calls['id'] = calls['id'].astype('int')\n",
    "calls['call_date']= pd.to_datetime(calls['call_date'], format='%Y-%m-%d')\n",
    "calls.info()"
   ]
  },
  {
   "cell_type": "code",
   "execution_count": 8,
   "metadata": {
    "ExecuteTime": {
     "end_time": "2021-07-01T14:14:57.754447Z",
     "start_time": "2021-07-01T14:14:57.742551Z"
    }
   },
   "outputs": [
    {
     "name": "stdout",
     "output_type": "stream",
     "text": [
      "<class 'pandas.core.frame.DataFrame'>\n",
      "RangeIndex: 104825 entries, 0 to 104824\n",
      "Data columns (total 4 columns):\n",
      " #   Column        Non-Null Count   Dtype         \n",
      "---  ------        --------------   -----         \n",
      " 0   id            104825 non-null  object        \n",
      " 1   user_id       104825 non-null  int64         \n",
      " 2   session_date  104825 non-null  datetime64[ns]\n",
      " 3   mb_used       104825 non-null  float64       \n",
      "dtypes: datetime64[ns](1), float64(1), int64(1), object(1)\n",
      "memory usage: 3.2+ MB\n"
     ]
    }
   ],
   "source": [
    "# internet['id'] = internet['id'].astype('int')\n",
    "internet['session_date']= pd.to_datetime(internet['session_date'], format='%Y-%m-%d')\n",
    "internet.info()"
   ]
  },
  {
   "cell_type": "code",
   "execution_count": 9,
   "metadata": {
    "ExecuteTime": {
     "end_time": "2021-06-29T12:15:17.627429Z",
     "start_time": "2021-06-29T12:15:17.527481Z"
    }
   },
   "outputs": [
    {
     "name": "stdout",
     "output_type": "stream",
     "text": [
      "<class 'pandas.core.frame.DataFrame'>\n",
      "RangeIndex: 76051 entries, 0 to 76050\n",
      "Data columns (total 3 columns):\n",
      " #   Column        Non-Null Count  Dtype         \n",
      "---  ------        --------------  -----         \n",
      " 0   id            76051 non-null  object        \n",
      " 1   user_id       76051 non-null  int64         \n",
      " 2   message_date  76051 non-null  datetime64[ns]\n",
      "dtypes: datetime64[ns](1), int64(1), object(1)\n",
      "memory usage: 1.7+ MB\n"
     ]
    }
   ],
   "source": [
    "# messages['id'] = messages['id'].astype('int')\n",
    "messages['message_date']= pd.to_datetime(messages['message_date'], format='%Y-%m-%d')\n",
    "messages.info()"
   ]
  },
  {
   "cell_type": "markdown",
   "metadata": {},
   "source": [
    "#### Find and eliminate errors in the data"
   ]
  },
  {
   "cell_type": "code",
   "execution_count": 10,
   "metadata": {
    "ExecuteTime": {
     "end_time": "2021-06-29T12:15:17.673045Z",
     "start_time": "2021-06-29T12:15:17.632405Z"
    }
   },
   "outputs": [
    {
     "name": "stdout",
     "output_type": "stream",
     "text": [
      "0\n",
      "<class 'pandas.core.frame.DataFrame'>\n",
      "RangeIndex: 500 entries, 0 to 499\n",
      "Data columns (total 8 columns):\n",
      " #   Column      Non-Null Count  Dtype         \n",
      "---  ------      --------------  -----         \n",
      " 0   user_id     500 non-null    int64         \n",
      " 1   first_name  500 non-null    object        \n",
      " 2   last_name   500 non-null    object        \n",
      " 3   age         500 non-null    int64         \n",
      " 4   city        500 non-null    object        \n",
      " 5   reg_date    500 non-null    datetime64[ns]\n",
      " 6   plan        500 non-null    object        \n",
      " 7   churn_date  500 non-null    datetime64[ns]\n",
      "dtypes: datetime64[ns](2), int64(2), object(4)\n",
      "memory usage: 31.4+ KB\n"
     ]
    }
   ],
   "source": [
    "#Fill empty churn dates with the future date 1.1.2050 and change data type to date\n",
    "users['reg_date']= pd.to_datetime(users['reg_date'], format='%Y-%m-%d')\n",
    "users['churn_date']= pd.to_datetime(users['churn_date'].fillna('2050-01-01'), format='%Y-%m-%d')\n",
    "print(users['churn_date'].isna().sum())\n",
    "users.info()"
   ]
  },
  {
   "cell_type": "markdown",
   "metadata": {},
   "source": [
    "Let's see if my hypotheses of daily aggregated logs is true. I will check that every user has logs for every day since he joined --> It's not true... user_id 1000 has no log on the date 2018-12-30. so 0 value does not mean that he didn't surf that day... it could be not exist \n"
   ]
  },
  {
   "cell_type": "code",
   "execution_count": 11,
   "metadata": {
    "ExecuteTime": {
     "end_time": "2021-06-29T12:15:18.039181Z",
     "start_time": "2021-06-29T12:15:17.856505Z"
    }
   },
   "outputs": [
    {
     "name": "stdout",
     "output_type": "stream",
     "text": [
      "5 = 2018-12-31 00:00:00-2018-12-26 00:00:00 False\n"
     ]
    },
    {
     "data": {
      "text/html": [
       "<div>\n",
       "<style scoped>\n",
       "    .dataframe tbody tr th:only-of-type {\n",
       "        vertical-align: middle;\n",
       "    }\n",
       "\n",
       "    .dataframe tbody tr th {\n",
       "        vertical-align: top;\n",
       "    }\n",
       "\n",
       "    .dataframe thead th {\n",
       "        text-align: right;\n",
       "    }\n",
       "</style>\n",
       "<table border=\"1\" class=\"dataframe\">\n",
       "  <thead>\n",
       "    <tr style=\"text-align: right;\">\n",
       "      <th></th>\n",
       "      <th>id</th>\n",
       "      <th>user_id</th>\n",
       "      <th>session_date</th>\n",
       "      <th>mb_used</th>\n",
       "    </tr>\n",
       "  </thead>\n",
       "  <tbody>\n",
       "    <tr>\n",
       "      <th>0</th>\n",
       "      <td>1000_13</td>\n",
       "      <td>1000</td>\n",
       "      <td>2018-12-29</td>\n",
       "      <td>89.86</td>\n",
       "    </tr>\n",
       "    <tr>\n",
       "      <th>1</th>\n",
       "      <td>1000_204</td>\n",
       "      <td>1000</td>\n",
       "      <td>2018-12-31</td>\n",
       "      <td>0.00</td>\n",
       "    </tr>\n",
       "    <tr>\n",
       "      <th>2</th>\n",
       "      <td>1000_379</td>\n",
       "      <td>1000</td>\n",
       "      <td>2018-12-28</td>\n",
       "      <td>660.40</td>\n",
       "    </tr>\n",
       "    <tr>\n",
       "      <th>3</th>\n",
       "      <td>1000_413</td>\n",
       "      <td>1000</td>\n",
       "      <td>2018-12-26</td>\n",
       "      <td>270.99</td>\n",
       "    </tr>\n",
       "    <tr>\n",
       "      <th>4</th>\n",
       "      <td>1000_442</td>\n",
       "      <td>1000</td>\n",
       "      <td>2018-12-27</td>\n",
       "      <td>880.22</td>\n",
       "    </tr>\n",
       "  </tbody>\n",
       "</table>\n",
       "</div>"
      ],
      "text/plain": [
       "         id  user_id session_date  mb_used\n",
       "0   1000_13     1000   2018-12-29    89.86\n",
       "1  1000_204     1000   2018-12-31     0.00\n",
       "2  1000_379     1000   2018-12-28   660.40\n",
       "3  1000_413     1000   2018-12-26   270.99\n",
       "4  1000_442     1000   2018-12-27   880.22"
      ]
     },
     "metadata": {},
     "output_type": "display_data"
    }
   ],
   "source": [
    "# display(internet.query('user_id == 1000').groupby('user_id').agg({'session_date' : ['min','max']}))\n",
    "begin = internet.query('user_id == 1000')['session_date'].min()\n",
    "end = internet.query('user_id == 1000')['session_date'].max()\n",
    "length = len(internet.query('user_id == 1000'))\n",
    "print(F'{length} = {end}-{begin}',length-1 == end - begin )\n",
    "display(internet.query('user_id == 1000'))\n",
    "# internet.query('user_id == 1000')['session_date'].hist()\n"
   ]
  },
  {
   "cell_type": "markdown",
   "metadata": {},
   "source": [
    "I will creat a clean dataset and assess how much their absence would affect the results of my analysis."
   ]
  },
  {
   "cell_type": "code",
   "execution_count": 12,
   "metadata": {},
   "outputs": [
    {
     "data": {
      "text/html": [
       "<div>\n",
       "<style scoped>\n",
       "    .dataframe tbody tr th:only-of-type {\n",
       "        vertical-align: middle;\n",
       "    }\n",
       "\n",
       "    .dataframe tbody tr th {\n",
       "        vertical-align: top;\n",
       "    }\n",
       "\n",
       "    .dataframe thead th {\n",
       "        text-align: right;\n",
       "    }\n",
       "</style>\n",
       "<table border=\"1\" class=\"dataframe\">\n",
       "  <thead>\n",
       "    <tr style=\"text-align: right;\">\n",
       "      <th></th>\n",
       "      <th>user_id</th>\n",
       "      <th>mb_used</th>\n",
       "    </tr>\n",
       "  </thead>\n",
       "  <tbody>\n",
       "    <tr>\n",
       "      <th>count</th>\n",
       "      <td>104825.000000</td>\n",
       "      <td>104825.000000</td>\n",
       "    </tr>\n",
       "    <tr>\n",
       "      <th>mean</th>\n",
       "      <td>1242.496361</td>\n",
       "      <td>366.713701</td>\n",
       "    </tr>\n",
       "    <tr>\n",
       "      <th>std</th>\n",
       "      <td>142.053913</td>\n",
       "      <td>277.170542</td>\n",
       "    </tr>\n",
       "    <tr>\n",
       "      <th>min</th>\n",
       "      <td>1000.000000</td>\n",
       "      <td>0.000000</td>\n",
       "    </tr>\n",
       "    <tr>\n",
       "      <th>25%</th>\n",
       "      <td>1122.000000</td>\n",
       "      <td>136.080000</td>\n",
       "    </tr>\n",
       "    <tr>\n",
       "      <th>50%</th>\n",
       "      <td>1236.000000</td>\n",
       "      <td>343.980000</td>\n",
       "    </tr>\n",
       "    <tr>\n",
       "      <th>75%</th>\n",
       "      <td>1367.000000</td>\n",
       "      <td>554.610000</td>\n",
       "    </tr>\n",
       "    <tr>\n",
       "      <th>max</th>\n",
       "      <td>1499.000000</td>\n",
       "      <td>1693.470000</td>\n",
       "    </tr>\n",
       "  </tbody>\n",
       "</table>\n",
       "</div>"
      ],
      "text/plain": [
       "             user_id        mb_used\n",
       "count  104825.000000  104825.000000\n",
       "mean     1242.496361     366.713701\n",
       "std       142.053913     277.170542\n",
       "min      1000.000000       0.000000\n",
       "25%      1122.000000     136.080000\n",
       "50%      1236.000000     343.980000\n",
       "75%      1367.000000     554.610000\n",
       "max      1499.000000    1693.470000"
      ]
     },
     "metadata": {},
     "output_type": "display_data"
    },
    {
     "data": {
      "text/html": [
       "<div>\n",
       "<style scoped>\n",
       "    .dataframe tbody tr th:only-of-type {\n",
       "        vertical-align: middle;\n",
       "    }\n",
       "\n",
       "    .dataframe tbody tr th {\n",
       "        vertical-align: top;\n",
       "    }\n",
       "\n",
       "    .dataframe thead th {\n",
       "        text-align: right;\n",
       "    }\n",
       "</style>\n",
       "<table border=\"1\" class=\"dataframe\">\n",
       "  <thead>\n",
       "    <tr style=\"text-align: right;\">\n",
       "      <th></th>\n",
       "      <th>user_id</th>\n",
       "      <th>mb_used</th>\n",
       "    </tr>\n",
       "  </thead>\n",
       "  <tbody>\n",
       "    <tr>\n",
       "      <th>count</th>\n",
       "      <td>91078.000000</td>\n",
       "      <td>91078.000000</td>\n",
       "    </tr>\n",
       "    <tr>\n",
       "      <th>mean</th>\n",
       "      <td>1242.576923</td>\n",
       "      <td>422.064206</td>\n",
       "    </tr>\n",
       "    <tr>\n",
       "      <th>std</th>\n",
       "      <td>141.992374</td>\n",
       "      <td>255.063501</td>\n",
       "    </tr>\n",
       "    <tr>\n",
       "      <th>min</th>\n",
       "      <td>1000.000000</td>\n",
       "      <td>0.010000</td>\n",
       "    </tr>\n",
       "    <tr>\n",
       "      <th>25%</th>\n",
       "      <td>1122.000000</td>\n",
       "      <td>223.380000</td>\n",
       "    </tr>\n",
       "    <tr>\n",
       "      <th>50%</th>\n",
       "      <td>1236.000000</td>\n",
       "      <td>395.905000</td>\n",
       "    </tr>\n",
       "    <tr>\n",
       "      <th>75%</th>\n",
       "      <td>1367.000000</td>\n",
       "      <td>588.367500</td>\n",
       "    </tr>\n",
       "    <tr>\n",
       "      <th>max</th>\n",
       "      <td>1499.000000</td>\n",
       "      <td>1693.470000</td>\n",
       "    </tr>\n",
       "  </tbody>\n",
       "</table>\n",
       "</div>"
      ],
      "text/plain": [
       "            user_id       mb_used\n",
       "count  91078.000000  91078.000000\n",
       "mean    1242.576923    422.064206\n",
       "std      141.992374    255.063501\n",
       "min     1000.000000      0.010000\n",
       "25%     1122.000000    223.380000\n",
       "50%     1236.000000    395.905000\n",
       "75%     1367.000000    588.367500\n",
       "max     1499.000000   1693.470000"
      ]
     },
     "metadata": {},
     "output_type": "display_data"
    },
    {
     "data": {
      "image/png": "[encoded data removed]",
      "text/plain": [
       "<Figure size 432x288 with 1 Axes>"
      ]
     },
     "metadata": {
      "needs_background": "light"
     },
     "output_type": "display_data"
    },
    {
     "data": {
      "image/png": "[encoded data removed]",
      "text/plain": [
       "<Figure size 432x288 with 1 Axes>"
      ]
     },
     "metadata": {
      "needs_background": "light"
     },
     "output_type": "display_data"
    }
   ],
   "source": [
    "no_zeros = internet.query('mb_used != 0')\n",
    "display(internet.describe())\n",
    "display(no_zeros.describe())\n",
    "internet['mb_used'].hist(lw=3);\n",
    "plt.show()\n",
    "no_zeros['mb_used'].hist(lw=3);\n",
    "plt.show()"
   ]
  },
  {
   "cell_type": "code",
   "execution_count": 13,
   "metadata": {},
   "outputs": [
    {
     "data": {
      "text/html": [
       "<div>\n",
       "<style scoped>\n",
       "    .dataframe tbody tr th:only-of-type {\n",
       "        vertical-align: middle;\n",
       "    }\n",
       "\n",
       "    .dataframe tbody tr th {\n",
       "        vertical-align: top;\n",
       "    }\n",
       "\n",
       "    .dataframe thead th {\n",
       "        text-align: right;\n",
       "    }\n",
       "</style>\n",
       "<table border=\"1\" class=\"dataframe\">\n",
       "  <thead>\n",
       "    <tr style=\"text-align: right;\">\n",
       "      <th></th>\n",
       "      <th>user_id</th>\n",
       "      <th>duration</th>\n",
       "    </tr>\n",
       "  </thead>\n",
       "  <tbody>\n",
       "    <tr>\n",
       "      <th>count</th>\n",
       "      <td>137735.000000</td>\n",
       "      <td>137735.000000</td>\n",
       "    </tr>\n",
       "    <tr>\n",
       "      <th>mean</th>\n",
       "      <td>1247.658046</td>\n",
       "      <td>6.745927</td>\n",
       "    </tr>\n",
       "    <tr>\n",
       "      <th>std</th>\n",
       "      <td>139.416268</td>\n",
       "      <td>5.839241</td>\n",
       "    </tr>\n",
       "    <tr>\n",
       "      <th>min</th>\n",
       "      <td>1000.000000</td>\n",
       "      <td>0.000000</td>\n",
       "    </tr>\n",
       "    <tr>\n",
       "      <th>25%</th>\n",
       "      <td>1128.000000</td>\n",
       "      <td>1.290000</td>\n",
       "    </tr>\n",
       "    <tr>\n",
       "      <th>50%</th>\n",
       "      <td>1247.000000</td>\n",
       "      <td>5.980000</td>\n",
       "    </tr>\n",
       "    <tr>\n",
       "      <th>75%</th>\n",
       "      <td>1365.000000</td>\n",
       "      <td>10.690000</td>\n",
       "    </tr>\n",
       "    <tr>\n",
       "      <th>max</th>\n",
       "      <td>1499.000000</td>\n",
       "      <td>37.600000</td>\n",
       "    </tr>\n",
       "  </tbody>\n",
       "</table>\n",
       "</div>"
      ],
      "text/plain": [
       "             user_id       duration\n",
       "count  137735.000000  137735.000000\n",
       "mean     1247.658046       6.745927\n",
       "std       139.416268       5.839241\n",
       "min      1000.000000       0.000000\n",
       "25%      1128.000000       1.290000\n",
       "50%      1247.000000       5.980000\n",
       "75%      1365.000000      10.690000\n",
       "max      1499.000000      37.600000"
      ]
     },
     "metadata": {},
     "output_type": "display_data"
    },
    {
     "data": {
      "text/html": [
       "<div>\n",
       "<style scoped>\n",
       "    .dataframe tbody tr th:only-of-type {\n",
       "        vertical-align: middle;\n",
       "    }\n",
       "\n",
       "    .dataframe tbody tr th {\n",
       "        vertical-align: top;\n",
       "    }\n",
       "\n",
       "    .dataframe thead th {\n",
       "        text-align: right;\n",
       "    }\n",
       "</style>\n",
       "<table border=\"1\" class=\"dataframe\">\n",
       "  <thead>\n",
       "    <tr style=\"text-align: right;\">\n",
       "      <th></th>\n",
       "      <th>user_id</th>\n",
       "      <th>duration</th>\n",
       "    </tr>\n",
       "  </thead>\n",
       "  <tbody>\n",
       "    <tr>\n",
       "      <th>count</th>\n",
       "      <td>110901.000000</td>\n",
       "      <td>110901.000000</td>\n",
       "    </tr>\n",
       "    <tr>\n",
       "      <th>mean</th>\n",
       "      <td>1247.511871</td>\n",
       "      <td>8.378196</td>\n",
       "    </tr>\n",
       "    <tr>\n",
       "      <th>std</th>\n",
       "      <td>139.475249</td>\n",
       "      <td>5.354567</td>\n",
       "    </tr>\n",
       "    <tr>\n",
       "      <th>min</th>\n",
       "      <td>1000.000000</td>\n",
       "      <td>0.010000</td>\n",
       "    </tr>\n",
       "    <tr>\n",
       "      <th>25%</th>\n",
       "      <td>1127.000000</td>\n",
       "      <td>4.150000</td>\n",
       "    </tr>\n",
       "    <tr>\n",
       "      <th>50%</th>\n",
       "      <td>1247.000000</td>\n",
       "      <td>7.710000</td>\n",
       "    </tr>\n",
       "    <tr>\n",
       "      <th>75%</th>\n",
       "      <td>1365.000000</td>\n",
       "      <td>11.820000</td>\n",
       "    </tr>\n",
       "    <tr>\n",
       "      <th>max</th>\n",
       "      <td>1499.000000</td>\n",
       "      <td>37.600000</td>\n",
       "    </tr>\n",
       "  </tbody>\n",
       "</table>\n",
       "</div>"
      ],
      "text/plain": [
       "             user_id       duration\n",
       "count  110901.000000  110901.000000\n",
       "mean     1247.511871       8.378196\n",
       "std       139.475249       5.354567\n",
       "min      1000.000000       0.010000\n",
       "25%      1127.000000       4.150000\n",
       "50%      1247.000000       7.710000\n",
       "75%      1365.000000      11.820000\n",
       "max      1499.000000      37.600000"
      ]
     },
     "metadata": {},
     "output_type": "display_data"
    },
    {
     "data": {
      "image/png": "[encoded data removed]",
      "text/plain": [
       "<Figure size 432x288 with 1 Axes>"
      ]
     },
     "metadata": {
      "needs_background": "light"
     },
     "output_type": "display_data"
    },
    {
     "data": {
      "image/png": "[encoded data removed]",
      "text/plain": [
       "<Figure size 432x288 with 1 Axes>"
      ]
     },
     "metadata": {
      "needs_background": "light"
     },
     "output_type": "display_data"
    }
   ],
   "source": [
    "no_zeros = calls.query('duration != 0')\n",
    "display(calls.describe())\n",
    "display(no_zeros.describe())\n",
    "calls['duration'].hist();\n",
    "plt.show()\n",
    "no_zeros['duration'].hist();\n",
    "plt.show()"
   ]
  },
  {
   "cell_type": "code",
   "execution_count": 14,
   "metadata": {},
   "outputs": [
    {
     "name": "stdout",
     "output_type": "stream",
     "text": [
      "26834\n",
      "0\n"
     ]
    }
   ],
   "source": [
    "print(len(calls[calls.duration == 0]))\n",
    "calls.drop(calls[calls.duration == 0].index, inplace=True)\n",
    "print(len(calls[calls.duration == 0]))"
   ]
  },
  {
   "cell_type": "markdown",
   "metadata": {},
   "source": [
    "#### Conclusion:\n",
    "Since I believe that these might be missed calls and the rest of my research depends on the aggregated data- it won't affect the sums in the aggregated tables. So I dropped those rows because these values will not affect the main calculations."
   ]
  },
  {
   "cell_type": "markdown",
   "metadata": {},
   "source": [
    "<div class=\"alert alert-block alert-warning\">\n",
    "   <h2>Reviewer's commentary <a class=\"tocSkip\"> </h2>\n",
    "    <br/>\n",
    "<b>Remarks and recommendations📌:</b>  \n",
    "       \n",
    "As a whole you can delete these zero values from calls and mb_used, because these values will not affect the main calculations. Or, if you decided to leave them, it is important to filter your data (delete these values) where it is needed (at the step of calculated the main statistics and creating plots)"
   ]
  },
  {
   "cell_type": "markdown",
   "metadata": {},
   "source": [
    "#### The number of calls made and minutes used per month per user:"
   ]
  },
  {
   "cell_type": "code",
   "execution_count": 15,
   "metadata": {
    "ExecuteTime": {
     "end_time": "2021-06-29T12:15:18.082664Z",
     "start_time": "2021-06-29T12:15:18.041613Z"
    }
   },
   "outputs": [
    {
     "data": {
      "text/html": [
       "<div>\n",
       "<style scoped>\n",
       "    .dataframe tbody tr th:only-of-type {\n",
       "        vertical-align: middle;\n",
       "    }\n",
       "\n",
       "    .dataframe tbody tr th {\n",
       "        vertical-align: top;\n",
       "    }\n",
       "\n",
       "    .dataframe thead th {\n",
       "        text-align: right;\n",
       "    }\n",
       "</style>\n",
       "<table border=\"1\" class=\"dataframe\">\n",
       "  <thead>\n",
       "    <tr style=\"text-align: right;\">\n",
       "      <th></th>\n",
       "      <th>user_id</th>\n",
       "      <th>month</th>\n",
       "      <th>year</th>\n",
       "      <th>no_calls</th>\n",
       "    </tr>\n",
       "  </thead>\n",
       "  <tbody>\n",
       "    <tr>\n",
       "      <th>0</th>\n",
       "      <td>1000</td>\n",
       "      <td>12</td>\n",
       "      <td>2018</td>\n",
       "      <td>16</td>\n",
       "    </tr>\n",
       "    <tr>\n",
       "      <th>1</th>\n",
       "      <td>1001</td>\n",
       "      <td>8</td>\n",
       "      <td>2018</td>\n",
       "      <td>22</td>\n",
       "    </tr>\n",
       "    <tr>\n",
       "      <th>2</th>\n",
       "      <td>1001</td>\n",
       "      <td>9</td>\n",
       "      <td>2018</td>\n",
       "      <td>38</td>\n",
       "    </tr>\n",
       "    <tr>\n",
       "      <th>3</th>\n",
       "      <td>1001</td>\n",
       "      <td>10</td>\n",
       "      <td>2018</td>\n",
       "      <td>47</td>\n",
       "    </tr>\n",
       "    <tr>\n",
       "      <th>4</th>\n",
       "      <td>1001</td>\n",
       "      <td>11</td>\n",
       "      <td>2018</td>\n",
       "      <td>49</td>\n",
       "    </tr>\n",
       "    <tr>\n",
       "      <th>...</th>\n",
       "      <td>...</td>\n",
       "      <td>...</td>\n",
       "      <td>...</td>\n",
       "      <td>...</td>\n",
       "    </tr>\n",
       "    <tr>\n",
       "      <th>2251</th>\n",
       "      <td>1498</td>\n",
       "      <td>12</td>\n",
       "      <td>2018</td>\n",
       "      <td>32</td>\n",
       "    </tr>\n",
       "    <tr>\n",
       "      <th>2252</th>\n",
       "      <td>1499</td>\n",
       "      <td>9</td>\n",
       "      <td>2018</td>\n",
       "      <td>35</td>\n",
       "    </tr>\n",
       "    <tr>\n",
       "      <th>2253</th>\n",
       "      <td>1499</td>\n",
       "      <td>10</td>\n",
       "      <td>2018</td>\n",
       "      <td>41</td>\n",
       "    </tr>\n",
       "    <tr>\n",
       "      <th>2254</th>\n",
       "      <td>1499</td>\n",
       "      <td>11</td>\n",
       "      <td>2018</td>\n",
       "      <td>39</td>\n",
       "    </tr>\n",
       "    <tr>\n",
       "      <th>2255</th>\n",
       "      <td>1499</td>\n",
       "      <td>12</td>\n",
       "      <td>2018</td>\n",
       "      <td>56</td>\n",
       "    </tr>\n",
       "  </tbody>\n",
       "</table>\n",
       "<p>2256 rows × 4 columns</p>\n",
       "</div>"
      ],
      "text/plain": [
       "      user_id  month  year  no_calls\n",
       "0        1000     12  2018        16\n",
       "1        1001      8  2018        22\n",
       "2        1001      9  2018        38\n",
       "3        1001     10  2018        47\n",
       "4        1001     11  2018        49\n",
       "...       ...    ...   ...       ...\n",
       "2251     1498     12  2018        32\n",
       "2252     1499      9  2018        35\n",
       "2253     1499     10  2018        41\n",
       "2254     1499     11  2018        39\n",
       "2255     1499     12  2018        56\n",
       "\n",
       "[2256 rows x 4 columns]"
      ]
     },
     "metadata": {},
     "output_type": "display_data"
    },
    {
     "data": {
      "text/html": [
       "<div>\n",
       "<style scoped>\n",
       "    .dataframe tbody tr th:only-of-type {\n",
       "        vertical-align: middle;\n",
       "    }\n",
       "\n",
       "    .dataframe tbody tr th {\n",
       "        vertical-align: top;\n",
       "    }\n",
       "\n",
       "    .dataframe thead th {\n",
       "        text-align: right;\n",
       "    }\n",
       "</style>\n",
       "<table border=\"1\" class=\"dataframe\">\n",
       "  <thead>\n",
       "    <tr style=\"text-align: right;\">\n",
       "      <th></th>\n",
       "      <th>user_id</th>\n",
       "      <th>month</th>\n",
       "      <th>year</th>\n",
       "      <th>calls_duration</th>\n",
       "    </tr>\n",
       "  </thead>\n",
       "  <tbody>\n",
       "    <tr>\n",
       "      <th>0</th>\n",
       "      <td>1000</td>\n",
       "      <td>12</td>\n",
       "      <td>2018</td>\n",
       "      <td>124.0</td>\n",
       "    </tr>\n",
       "    <tr>\n",
       "      <th>1</th>\n",
       "      <td>1001</td>\n",
       "      <td>8</td>\n",
       "      <td>2018</td>\n",
       "      <td>182.0</td>\n",
       "    </tr>\n",
       "    <tr>\n",
       "      <th>2</th>\n",
       "      <td>1001</td>\n",
       "      <td>9</td>\n",
       "      <td>2018</td>\n",
       "      <td>315.0</td>\n",
       "    </tr>\n",
       "    <tr>\n",
       "      <th>3</th>\n",
       "      <td>1001</td>\n",
       "      <td>10</td>\n",
       "      <td>2018</td>\n",
       "      <td>393.0</td>\n",
       "    </tr>\n",
       "    <tr>\n",
       "      <th>4</th>\n",
       "      <td>1001</td>\n",
       "      <td>11</td>\n",
       "      <td>2018</td>\n",
       "      <td>426.0</td>\n",
       "    </tr>\n",
       "    <tr>\n",
       "      <th>...</th>\n",
       "      <td>...</td>\n",
       "      <td>...</td>\n",
       "      <td>...</td>\n",
       "      <td>...</td>\n",
       "    </tr>\n",
       "    <tr>\n",
       "      <th>2251</th>\n",
       "      <td>1498</td>\n",
       "      <td>12</td>\n",
       "      <td>2018</td>\n",
       "      <td>339.0</td>\n",
       "    </tr>\n",
       "    <tr>\n",
       "      <th>2252</th>\n",
       "      <td>1499</td>\n",
       "      <td>9</td>\n",
       "      <td>2018</td>\n",
       "      <td>346.0</td>\n",
       "    </tr>\n",
       "    <tr>\n",
       "      <th>2253</th>\n",
       "      <td>1499</td>\n",
       "      <td>10</td>\n",
       "      <td>2018</td>\n",
       "      <td>385.0</td>\n",
       "    </tr>\n",
       "    <tr>\n",
       "      <th>2254</th>\n",
       "      <td>1499</td>\n",
       "      <td>11</td>\n",
       "      <td>2018</td>\n",
       "      <td>308.0</td>\n",
       "    </tr>\n",
       "    <tr>\n",
       "      <th>2255</th>\n",
       "      <td>1499</td>\n",
       "      <td>12</td>\n",
       "      <td>2018</td>\n",
       "      <td>496.0</td>\n",
       "    </tr>\n",
       "  </tbody>\n",
       "</table>\n",
       "<p>2256 rows × 4 columns</p>\n",
       "</div>"
      ],
      "text/plain": [
       "      user_id  month  year  calls_duration\n",
       "0        1000     12  2018           124.0\n",
       "1        1001      8  2018           182.0\n",
       "2        1001      9  2018           315.0\n",
       "3        1001     10  2018           393.0\n",
       "4        1001     11  2018           426.0\n",
       "...       ...    ...   ...             ...\n",
       "2251     1498     12  2018           339.0\n",
       "2252     1499      9  2018           346.0\n",
       "2253     1499     10  2018           385.0\n",
       "2254     1499     11  2018           308.0\n",
       "2255     1499     12  2018           496.0\n",
       "\n",
       "[2256 rows x 4 columns]"
      ]
     },
     "metadata": {},
     "output_type": "display_data"
    }
   ],
   "source": [
    "calls['month'] = calls['call_date'].dt.month\n",
    "calls['year'] = calls['call_date'].dt.year\n",
    "#round the minutes up\n",
    "calls['duration'] = np.ceil(calls['duration'])\n",
    "agg_calls = calls.groupby(['user_id', 'month', 'year'])['id'].count().reset_index() # no. of calls per month and user\n",
    "agg_calls.columns =['user_id', 'month', 'year','no_calls']\n",
    "agg_mins = calls.groupby(['user_id', 'month', 'year'])['duration'].sum().reset_index() # minutes of calls used per month and user\n",
    "agg_mins.columns =['user_id', 'month', 'year','calls_duration']\n",
    "display(agg_calls)\n",
    "display(agg_mins)"
   ]
  },
  {
   "cell_type": "markdown",
   "metadata": {},
   "source": [
    "<div class=\"alert alert-block alert-warning\">\n",
    "   <h2>Reviewer's commentary <a class=\"tocSkip\"> </h2>\n",
    "    <br/>\n",
    "<b>Remarks and recommendations📌:</b>  \n",
    "       \n",
    "Here you can create one common dataframe with calls number and calls duration, try to use `pivot_table()` to do it, it is more optimal alternative.\n",
    " \n",
    "Example:\n",
    "\n",
    "`calls = df_calls.pivot_table(index=['user_id', 'month'], values='duration', aggfunc=['count', 'sum']).reset_index()`"
   ]
  },
  {
   "cell_type": "markdown",
   "metadata": {},
   "source": [
    "#### <font color='Purple'>Student's commentary:</font> I calculated it using groupby as Anastasia showed in the webinar. I would like to understand better why is it a more optimal alternative to use pivot instead? <a class=\"tocSkip\"> </div>"
   ]
  },
  {
   "cell_type": "markdown",
   "metadata": {},
   "source": [
    "<div class=\"alert alert-block alert-warning\">\n",
    "   <h2>Reviewer's commentary <a class=\"tocSkip\"> </h2>\n",
    "    <br/>\n",
    "<b>Remarks and recommendations📌:</b>  \n",
    "       \n",
    "As for using `np.ceil()` it is absolutely correct action to ceil values in calls duration and mb_used, but you can use `np.ceil` without apply, this method can work with the whole dataframe at once."
   ]
  },
  {
   "cell_type": "markdown",
   "metadata": {},
   "source": [
    "#### The number of text messages sent per month"
   ]
  },
  {
   "cell_type": "code",
   "execution_count": 16,
   "metadata": {
    "ExecuteTime": {
     "end_time": "2021-06-29T12:15:18.157219Z",
     "start_time": "2021-06-29T12:15:18.124381Z"
    }
   },
   "outputs": [
    {
     "data": {
      "text/html": [
       "<div>\n",
       "<style scoped>\n",
       "    .dataframe tbody tr th:only-of-type {\n",
       "        vertical-align: middle;\n",
       "    }\n",
       "\n",
       "    .dataframe tbody tr th {\n",
       "        vertical-align: top;\n",
       "    }\n",
       "\n",
       "    .dataframe thead th {\n",
       "        text-align: right;\n",
       "    }\n",
       "</style>\n",
       "<table border=\"1\" class=\"dataframe\">\n",
       "  <thead>\n",
       "    <tr style=\"text-align: right;\">\n",
       "      <th></th>\n",
       "      <th>user_id</th>\n",
       "      <th>month</th>\n",
       "      <th>year</th>\n",
       "      <th>massages</th>\n",
       "    </tr>\n",
       "  </thead>\n",
       "  <tbody>\n",
       "    <tr>\n",
       "      <th>0</th>\n",
       "      <td>1000</td>\n",
       "      <td>12</td>\n",
       "      <td>2018</td>\n",
       "      <td>11</td>\n",
       "    </tr>\n",
       "    <tr>\n",
       "      <th>1</th>\n",
       "      <td>1001</td>\n",
       "      <td>8</td>\n",
       "      <td>2018</td>\n",
       "      <td>30</td>\n",
       "    </tr>\n",
       "    <tr>\n",
       "      <th>2</th>\n",
       "      <td>1001</td>\n",
       "      <td>9</td>\n",
       "      <td>2018</td>\n",
       "      <td>44</td>\n",
       "    </tr>\n",
       "    <tr>\n",
       "      <th>3</th>\n",
       "      <td>1001</td>\n",
       "      <td>10</td>\n",
       "      <td>2018</td>\n",
       "      <td>53</td>\n",
       "    </tr>\n",
       "    <tr>\n",
       "      <th>4</th>\n",
       "      <td>1001</td>\n",
       "      <td>11</td>\n",
       "      <td>2018</td>\n",
       "      <td>36</td>\n",
       "    </tr>\n",
       "    <tr>\n",
       "      <th>...</th>\n",
       "      <td>...</td>\n",
       "      <td>...</td>\n",
       "      <td>...</td>\n",
       "      <td>...</td>\n",
       "    </tr>\n",
       "    <tr>\n",
       "      <th>1801</th>\n",
       "      <td>1496</td>\n",
       "      <td>9</td>\n",
       "      <td>2018</td>\n",
       "      <td>21</td>\n",
       "    </tr>\n",
       "    <tr>\n",
       "      <th>1802</th>\n",
       "      <td>1496</td>\n",
       "      <td>10</td>\n",
       "      <td>2018</td>\n",
       "      <td>18</td>\n",
       "    </tr>\n",
       "    <tr>\n",
       "      <th>1803</th>\n",
       "      <td>1496</td>\n",
       "      <td>11</td>\n",
       "      <td>2018</td>\n",
       "      <td>13</td>\n",
       "    </tr>\n",
       "    <tr>\n",
       "      <th>1804</th>\n",
       "      <td>1496</td>\n",
       "      <td>12</td>\n",
       "      <td>2018</td>\n",
       "      <td>11</td>\n",
       "    </tr>\n",
       "    <tr>\n",
       "      <th>1805</th>\n",
       "      <td>1497</td>\n",
       "      <td>12</td>\n",
       "      <td>2018</td>\n",
       "      <td>50</td>\n",
       "    </tr>\n",
       "  </tbody>\n",
       "</table>\n",
       "<p>1806 rows × 4 columns</p>\n",
       "</div>"
      ],
      "text/plain": [
       "      user_id  month  year  massages\n",
       "0        1000     12  2018        11\n",
       "1        1001      8  2018        30\n",
       "2        1001      9  2018        44\n",
       "3        1001     10  2018        53\n",
       "4        1001     11  2018        36\n",
       "...       ...    ...   ...       ...\n",
       "1801     1496      9  2018        21\n",
       "1802     1496     10  2018        18\n",
       "1803     1496     11  2018        13\n",
       "1804     1496     12  2018        11\n",
       "1805     1497     12  2018        50\n",
       "\n",
       "[1806 rows x 4 columns]"
      ]
     },
     "metadata": {},
     "output_type": "display_data"
    }
   ],
   "source": [
    "messages['month'] = messages['message_date'].dt.month\n",
    "messages['year'] = messages['message_date'].dt.year\n",
    "agg_messages = messages.groupby(['user_id', 'month', 'year'])['id'].count().reset_index() # no. of sms per month and user\n",
    "agg_messages.columns =['user_id', 'month', 'year','massages']\n",
    "display(agg_messages)"
   ]
  },
  {
   "cell_type": "markdown",
   "metadata": {},
   "source": [
    "#### The volume of data per month"
   ]
  },
  {
   "cell_type": "code",
   "execution_count": 17,
   "metadata": {
    "ExecuteTime": {
     "end_time": "2021-06-29T12:15:19.221073Z",
     "start_time": "2021-06-29T12:15:18.267717Z"
    }
   },
   "outputs": [
    {
     "data": {
      "text/html": [
       "<div>\n",
       "<style scoped>\n",
       "    .dataframe tbody tr th:only-of-type {\n",
       "        vertical-align: middle;\n",
       "    }\n",
       "\n",
       "    .dataframe tbody tr th {\n",
       "        vertical-align: top;\n",
       "    }\n",
       "\n",
       "    .dataframe thead th {\n",
       "        text-align: right;\n",
       "    }\n",
       "</style>\n",
       "<table border=\"1\" class=\"dataframe\">\n",
       "  <thead>\n",
       "    <tr style=\"text-align: right;\">\n",
       "      <th></th>\n",
       "      <th>user_id</th>\n",
       "      <th>month</th>\n",
       "      <th>year</th>\n",
       "      <th>mb_vol</th>\n",
       "      <th>gb_vol</th>\n",
       "    </tr>\n",
       "  </thead>\n",
       "  <tbody>\n",
       "    <tr>\n",
       "      <th>0</th>\n",
       "      <td>1000</td>\n",
       "      <td>12</td>\n",
       "      <td>2018</td>\n",
       "      <td>1901.47</td>\n",
       "      <td>2.0</td>\n",
       "    </tr>\n",
       "    <tr>\n",
       "      <th>1</th>\n",
       "      <td>1001</td>\n",
       "      <td>8</td>\n",
       "      <td>2018</td>\n",
       "      <td>6919.15</td>\n",
       "      <td>7.0</td>\n",
       "    </tr>\n",
       "    <tr>\n",
       "      <th>2</th>\n",
       "      <td>1001</td>\n",
       "      <td>9</td>\n",
       "      <td>2018</td>\n",
       "      <td>13314.82</td>\n",
       "      <td>14.0</td>\n",
       "    </tr>\n",
       "    <tr>\n",
       "      <th>3</th>\n",
       "      <td>1001</td>\n",
       "      <td>10</td>\n",
       "      <td>2018</td>\n",
       "      <td>22330.49</td>\n",
       "      <td>22.0</td>\n",
       "    </tr>\n",
       "    <tr>\n",
       "      <th>4</th>\n",
       "      <td>1001</td>\n",
       "      <td>11</td>\n",
       "      <td>2018</td>\n",
       "      <td>18504.30</td>\n",
       "      <td>19.0</td>\n",
       "    </tr>\n",
       "    <tr>\n",
       "      <th>...</th>\n",
       "      <td>...</td>\n",
       "      <td>...</td>\n",
       "      <td>...</td>\n",
       "      <td>...</td>\n",
       "      <td>...</td>\n",
       "    </tr>\n",
       "    <tr>\n",
       "      <th>2272</th>\n",
       "      <td>1498</td>\n",
       "      <td>12</td>\n",
       "      <td>2018</td>\n",
       "      <td>23137.69</td>\n",
       "      <td>23.0</td>\n",
       "    </tr>\n",
       "    <tr>\n",
       "      <th>2273</th>\n",
       "      <td>1499</td>\n",
       "      <td>9</td>\n",
       "      <td>2018</td>\n",
       "      <td>12984.76</td>\n",
       "      <td>13.0</td>\n",
       "    </tr>\n",
       "    <tr>\n",
       "      <th>2274</th>\n",
       "      <td>1499</td>\n",
       "      <td>10</td>\n",
       "      <td>2018</td>\n",
       "      <td>19492.43</td>\n",
       "      <td>20.0</td>\n",
       "    </tr>\n",
       "    <tr>\n",
       "      <th>2275</th>\n",
       "      <td>1499</td>\n",
       "      <td>11</td>\n",
       "      <td>2018</td>\n",
       "      <td>16813.83</td>\n",
       "      <td>17.0</td>\n",
       "    </tr>\n",
       "    <tr>\n",
       "      <th>2276</th>\n",
       "      <td>1499</td>\n",
       "      <td>12</td>\n",
       "      <td>2018</td>\n",
       "      <td>22059.21</td>\n",
       "      <td>22.0</td>\n",
       "    </tr>\n",
       "  </tbody>\n",
       "</table>\n",
       "<p>2277 rows × 5 columns</p>\n",
       "</div>"
      ],
      "text/plain": [
       "      user_id  month  year    mb_vol  gb_vol\n",
       "0        1000     12  2018   1901.47     2.0\n",
       "1        1001      8  2018   6919.15     7.0\n",
       "2        1001      9  2018  13314.82    14.0\n",
       "3        1001     10  2018  22330.49    22.0\n",
       "4        1001     11  2018  18504.30    19.0\n",
       "...       ...    ...   ...       ...     ...\n",
       "2272     1498     12  2018  23137.69    23.0\n",
       "2273     1499      9  2018  12984.76    13.0\n",
       "2274     1499     10  2018  19492.43    20.0\n",
       "2275     1499     11  2018  16813.83    17.0\n",
       "2276     1499     12  2018  22059.21    22.0\n",
       "\n",
       "[2277 rows x 5 columns]"
      ]
     },
     "metadata": {},
     "output_type": "display_data"
    }
   ],
   "source": [
    "internet['month'] = internet['session_date'].dt.month\n",
    "internet['year'] = internet['session_date'].dt.year\n",
    "agg_internet = internet.groupby(['user_id', 'month', 'year'])['mb_used'].sum().reset_index() # mb volume used per month per user\n",
    "agg_internet.columns =['user_id', 'month', 'year','mb_vol']\n",
    "agg_internet['gb_vol'] = np.ceil((agg_internet['mb_vol']/1024))\n",
    "display(agg_internet)"
   ]
  },
  {
   "cell_type": "markdown",
   "metadata": {},
   "source": [
    "<div class=\"alert alert-block alert-danger\">\n",
    "    <h2>Reviewer's commentary <a class=\"tocSkip\"> </h2>\n",
    "    <br/>\n",
    "<b>Needs fixing!🤔:</b>\n",
    "       \n",
    "Tal, one gb contains 1024 mb, not 1000."
   ]
  },
  {
   "cell_type": "markdown",
   "metadata": {},
   "source": [
    "#### The monthly revenue from each user"
   ]
  },
  {
   "cell_type": "code",
   "execution_count": 18,
   "metadata": {
    "ExecuteTime": {
     "end_time": "2021-06-29T12:15:19.244044Z",
     "start_time": "2021-06-29T12:15:19.223285Z"
    }
   },
   "outputs": [],
   "source": [
    "#creating a sub dataframe user_plan that describes for each user which plan he got\n",
    "user_plan = users[['user_id','plan']].copy()\n",
    "#list of all the pivot tables I want to merge together\n",
    "data_frames = [agg_mins, agg_messages, agg_internet]\n",
    "#merging based on user_id and month-year\n",
    "df_merged = reduce(lambda  left,right: pd.merge(left,right,on=['user_id', 'month', 'year'],\n",
    "                                            how='outer'), data_frames)\n",
    "#merging the plan based on user_id\n",
    "df_merged_plan = pd.merge(left = df_merged , \n",
    "                right = user_plan, how='outer',on=['user_id'])"
   ]
  },
  {
   "cell_type": "code",
   "execution_count": 19,
   "metadata": {},
   "outputs": [
    {
     "data": {
      "text/html": [
       "<div>\n",
       "<style scoped>\n",
       "    .dataframe tbody tr th:only-of-type {\n",
       "        vertical-align: middle;\n",
       "    }\n",
       "\n",
       "    .dataframe tbody tr th {\n",
       "        vertical-align: top;\n",
       "    }\n",
       "\n",
       "    .dataframe thead th {\n",
       "        text-align: right;\n",
       "    }\n",
       "</style>\n",
       "<table border=\"1\" class=\"dataframe\">\n",
       "  <thead>\n",
       "    <tr style=\"text-align: right;\">\n",
       "      <th></th>\n",
       "      <th>user_id</th>\n",
       "      <th>month</th>\n",
       "      <th>year</th>\n",
       "      <th>calls_duration</th>\n",
       "      <th>massages</th>\n",
       "      <th>mb_vol</th>\n",
       "      <th>gb_vol</th>\n",
       "      <th>plan</th>\n",
       "    </tr>\n",
       "  </thead>\n",
       "  <tbody>\n",
       "    <tr>\n",
       "      <th>0</th>\n",
       "      <td>1000</td>\n",
       "      <td>12.0</td>\n",
       "      <td>2018.0</td>\n",
       "      <td>124.0</td>\n",
       "      <td>11.0</td>\n",
       "      <td>1901.47</td>\n",
       "      <td>2.0</td>\n",
       "      <td>ultimate</td>\n",
       "    </tr>\n",
       "    <tr>\n",
       "      <th>1</th>\n",
       "      <td>1001</td>\n",
       "      <td>8.0</td>\n",
       "      <td>2018.0</td>\n",
       "      <td>182.0</td>\n",
       "      <td>30.0</td>\n",
       "      <td>6919.15</td>\n",
       "      <td>7.0</td>\n",
       "      <td>surf</td>\n",
       "    </tr>\n",
       "    <tr>\n",
       "      <th>2</th>\n",
       "      <td>1001</td>\n",
       "      <td>9.0</td>\n",
       "      <td>2018.0</td>\n",
       "      <td>315.0</td>\n",
       "      <td>44.0</td>\n",
       "      <td>13314.82</td>\n",
       "      <td>14.0</td>\n",
       "      <td>surf</td>\n",
       "    </tr>\n",
       "    <tr>\n",
       "      <th>3</th>\n",
       "      <td>1001</td>\n",
       "      <td>10.0</td>\n",
       "      <td>2018.0</td>\n",
       "      <td>393.0</td>\n",
       "      <td>53.0</td>\n",
       "      <td>22330.49</td>\n",
       "      <td>22.0</td>\n",
       "      <td>surf</td>\n",
       "    </tr>\n",
       "    <tr>\n",
       "      <th>4</th>\n",
       "      <td>1001</td>\n",
       "      <td>11.0</td>\n",
       "      <td>2018.0</td>\n",
       "      <td>426.0</td>\n",
       "      <td>36.0</td>\n",
       "      <td>18504.30</td>\n",
       "      <td>19.0</td>\n",
       "      <td>surf</td>\n",
       "    </tr>\n",
       "    <tr>\n",
       "      <th>...</th>\n",
       "      <td>...</td>\n",
       "      <td>...</td>\n",
       "      <td>...</td>\n",
       "      <td>...</td>\n",
       "      <td>...</td>\n",
       "      <td>...</td>\n",
       "      <td>...</td>\n",
       "      <td>...</td>\n",
       "    </tr>\n",
       "    <tr>\n",
       "      <th>2298</th>\n",
       "      <td>1307</td>\n",
       "      <td>NaN</td>\n",
       "      <td>NaN</td>\n",
       "      <td>NaN</td>\n",
       "      <td>NaN</td>\n",
       "      <td>NaN</td>\n",
       "      <td>NaN</td>\n",
       "      <td>surf</td>\n",
       "    </tr>\n",
       "    <tr>\n",
       "      <th>2299</th>\n",
       "      <td>1319</td>\n",
       "      <td>NaN</td>\n",
       "      <td>NaN</td>\n",
       "      <td>NaN</td>\n",
       "      <td>NaN</td>\n",
       "      <td>NaN</td>\n",
       "      <td>NaN</td>\n",
       "      <td>surf</td>\n",
       "    </tr>\n",
       "    <tr>\n",
       "      <th>2300</th>\n",
       "      <td>1378</td>\n",
       "      <td>NaN</td>\n",
       "      <td>NaN</td>\n",
       "      <td>NaN</td>\n",
       "      <td>NaN</td>\n",
       "      <td>NaN</td>\n",
       "      <td>NaN</td>\n",
       "      <td>surf</td>\n",
       "    </tr>\n",
       "    <tr>\n",
       "      <th>2301</th>\n",
       "      <td>1463</td>\n",
       "      <td>NaN</td>\n",
       "      <td>NaN</td>\n",
       "      <td>NaN</td>\n",
       "      <td>NaN</td>\n",
       "      <td>NaN</td>\n",
       "      <td>NaN</td>\n",
       "      <td>ultimate</td>\n",
       "    </tr>\n",
       "    <tr>\n",
       "      <th>2302</th>\n",
       "      <td>1473</td>\n",
       "      <td>NaN</td>\n",
       "      <td>NaN</td>\n",
       "      <td>NaN</td>\n",
       "      <td>NaN</td>\n",
       "      <td>NaN</td>\n",
       "      <td>NaN</td>\n",
       "      <td>surf</td>\n",
       "    </tr>\n",
       "  </tbody>\n",
       "</table>\n",
       "<p>2303 rows × 8 columns</p>\n",
       "</div>"
      ],
      "text/plain": [
       "      user_id  month    year  calls_duration  massages    mb_vol  gb_vol  \\\n",
       "0        1000   12.0  2018.0           124.0      11.0   1901.47     2.0   \n",
       "1        1001    8.0  2018.0           182.0      30.0   6919.15     7.0   \n",
       "2        1001    9.0  2018.0           315.0      44.0  13314.82    14.0   \n",
       "3        1001   10.0  2018.0           393.0      53.0  22330.49    22.0   \n",
       "4        1001   11.0  2018.0           426.0      36.0  18504.30    19.0   \n",
       "...       ...    ...     ...             ...       ...       ...     ...   \n",
       "2298     1307    NaN     NaN             NaN       NaN       NaN     NaN   \n",
       "2299     1319    NaN     NaN             NaN       NaN       NaN     NaN   \n",
       "2300     1378    NaN     NaN             NaN       NaN       NaN     NaN   \n",
       "2301     1463    NaN     NaN             NaN       NaN       NaN     NaN   \n",
       "2302     1473    NaN     NaN             NaN       NaN       NaN     NaN   \n",
       "\n",
       "          plan  \n",
       "0     ultimate  \n",
       "1         surf  \n",
       "2         surf  \n",
       "3         surf  \n",
       "4         surf  \n",
       "...        ...  \n",
       "2298      surf  \n",
       "2299      surf  \n",
       "2300      surf  \n",
       "2301  ultimate  \n",
       "2302      surf  \n",
       "\n",
       "[2303 rows x 8 columns]"
      ]
     },
     "metadata": {},
     "output_type": "display_data"
    }
   ],
   "source": [
    "display(df_merged_plan)"
   ]
  },
  {
   "cell_type": "code",
   "execution_count": 20,
   "metadata": {},
   "outputs": [
    {
     "name": "stdout",
     "output_type": "stream",
     "text": [
      "500\n",
      "500\n"
     ]
    }
   ],
   "source": [
    "#check the number of unique users\n",
    "print(len(users['user_id'].unique()))\n",
    "print(len(df_merged_plan['user_id'].unique()))"
   ]
  },
  {
   "cell_type": "code",
   "execution_count": 21,
   "metadata": {},
   "outputs": [
    {
     "name": "stdout",
     "output_type": "stream",
     "text": [
      "984347.0\n",
      "984347.0\n"
     ]
    }
   ],
   "source": [
    "#check if the number of minutes from the final table and the original are the same.\n",
    "print(df_merged_plan['calls_duration'].sum())\n",
    "print(calls['duration'].sum())"
   ]
  },
  {
   "cell_type": "code",
   "execution_count": 22,
   "metadata": {},
   "outputs": [
    {
     "name": "stdout",
     "output_type": "stream",
     "text": [
      "76051.0\n",
      "76051\n"
     ]
    }
   ],
   "source": [
    "#check if the number of SMS from the final table and the original are the same.\n",
    "print(df_merged_plan['massages'].sum())\n",
    "print(messages['message_date'].count())"
   ]
  },
  {
   "cell_type": "code",
   "execution_count": 23,
   "metadata": {},
   "outputs": [
    {
     "name": "stdout",
     "output_type": "stream",
     "text": [
      "38440763.70999999\n",
      "38440763.71\n"
     ]
    }
   ],
   "source": [
    "#check if the number of GB from the final table and the original are the same.\n",
    "print(df_merged_plan['mb_vol'].sum())\n",
    "print(internet['mb_used'].sum())"
   ]
  },
  {
   "cell_type": "markdown",
   "metadata": {},
   "source": [
    "I checked my aggregated joined table to make sure all the data stayed intact and it's good :)"
   ]
  },
  {
   "cell_type": "markdown",
   "metadata": {},
   "source": [
    "<div class=\"alert alert-block alert-success\">\n",
    "    <h2>Reviewer's commentary <a class=\"tocSkip\"> </h2>\n",
    "    <br/>\n",
    "<b>Well done!👍:</b> \n",
    "\n",
    "Ok, you correctly merged the dataframes, also agree with all your calculations, you are doing great!\n",
    "        \n",
    "And it is a correct action to merge the dataframes with the argument `how = outer`, because if we use another type of merging (inner for example) we can loose unique users."
   ]
  },
  {
   "cell_type": "markdown",
   "metadata": {},
   "source": [
    "\n",
    "\n",
    "<div class=\"alert alert-block alert-warning\">\n",
    "   <h2>Reviewer's commentary <a class=\"tocSkip\"> </h2>\n",
    "    <br/>\n",
    "<b>Remarks and recommendations📌:</b>\n",
    "       \n",
    "I would like to recommend you to check the dataframes after the merging.\n",
    "\n",
    "How you can check the correctness of the merging of the dataframes?\n",
    "        \n",
    "* check the number of unique users (there should be as many of them as in the original dataframe)\n",
    "        \n",
    "* you can also check if the number of minutes, SMS and GB from the final table and the original are the same. </div>"
   ]
  },
  {
   "cell_type": "markdown",
   "metadata": {},
   "source": [
    "I created a united dataframe `df_merged_plan` with all the relevant favtors per user per month. Now I'll create a function to calculate the revenue and apply it to a new column"
   ]
  },
  {
   "cell_type": "code",
   "execution_count": 24,
   "metadata": {
    "ExecuteTime": {
     "end_time": "2021-06-29T12:15:19.264782Z",
     "start_time": "2021-06-29T12:15:19.246714Z"
    }
   },
   "outputs": [
    {
     "data": {
      "text/html": [
       "<div>\n",
       "<style scoped>\n",
       "    .dataframe tbody tr th:only-of-type {\n",
       "        vertical-align: middle;\n",
       "    }\n",
       "\n",
       "    .dataframe tbody tr th {\n",
       "        vertical-align: top;\n",
       "    }\n",
       "\n",
       "    .dataframe thead th {\n",
       "        text-align: right;\n",
       "    }\n",
       "</style>\n",
       "<table border=\"1\" class=\"dataframe\">\n",
       "  <thead>\n",
       "    <tr style=\"text-align: right;\">\n",
       "      <th></th>\n",
       "      <th>user_id</th>\n",
       "      <th>month</th>\n",
       "      <th>year</th>\n",
       "      <th>calls_duration</th>\n",
       "      <th>massages</th>\n",
       "      <th>mb_vol</th>\n",
       "      <th>gb_vol</th>\n",
       "      <th>plan</th>\n",
       "      <th>revenue</th>\n",
       "    </tr>\n",
       "  </thead>\n",
       "  <tbody>\n",
       "    <tr>\n",
       "      <th>0</th>\n",
       "      <td>1000</td>\n",
       "      <td>12.0</td>\n",
       "      <td>2018.0</td>\n",
       "      <td>124.0</td>\n",
       "      <td>11.0</td>\n",
       "      <td>1901.47</td>\n",
       "      <td>2.0</td>\n",
       "      <td>ultimate</td>\n",
       "      <td>70.00</td>\n",
       "    </tr>\n",
       "    <tr>\n",
       "      <th>1</th>\n",
       "      <td>1001</td>\n",
       "      <td>8.0</td>\n",
       "      <td>2018.0</td>\n",
       "      <td>182.0</td>\n",
       "      <td>30.0</td>\n",
       "      <td>6919.15</td>\n",
       "      <td>7.0</td>\n",
       "      <td>surf</td>\n",
       "      <td>20.00</td>\n",
       "    </tr>\n",
       "    <tr>\n",
       "      <th>2</th>\n",
       "      <td>1001</td>\n",
       "      <td>9.0</td>\n",
       "      <td>2018.0</td>\n",
       "      <td>315.0</td>\n",
       "      <td>44.0</td>\n",
       "      <td>13314.82</td>\n",
       "      <td>14.0</td>\n",
       "      <td>surf</td>\n",
       "      <td>20.00</td>\n",
       "    </tr>\n",
       "    <tr>\n",
       "      <th>3</th>\n",
       "      <td>1001</td>\n",
       "      <td>10.0</td>\n",
       "      <td>2018.0</td>\n",
       "      <td>393.0</td>\n",
       "      <td>53.0</td>\n",
       "      <td>22330.49</td>\n",
       "      <td>22.0</td>\n",
       "      <td>surf</td>\n",
       "      <td>90.09</td>\n",
       "    </tr>\n",
       "    <tr>\n",
       "      <th>4</th>\n",
       "      <td>1001</td>\n",
       "      <td>11.0</td>\n",
       "      <td>2018.0</td>\n",
       "      <td>426.0</td>\n",
       "      <td>36.0</td>\n",
       "      <td>18504.30</td>\n",
       "      <td>19.0</td>\n",
       "      <td>surf</td>\n",
       "      <td>60.00</td>\n",
       "    </tr>\n",
       "    <tr>\n",
       "      <th>...</th>\n",
       "      <td>...</td>\n",
       "      <td>...</td>\n",
       "      <td>...</td>\n",
       "      <td>...</td>\n",
       "      <td>...</td>\n",
       "      <td>...</td>\n",
       "      <td>...</td>\n",
       "      <td>...</td>\n",
       "      <td>...</td>\n",
       "    </tr>\n",
       "    <tr>\n",
       "      <th>2298</th>\n",
       "      <td>1307</td>\n",
       "      <td>NaN</td>\n",
       "      <td>NaN</td>\n",
       "      <td>NaN</td>\n",
       "      <td>NaN</td>\n",
       "      <td>NaN</td>\n",
       "      <td>NaN</td>\n",
       "      <td>surf</td>\n",
       "      <td>20.00</td>\n",
       "    </tr>\n",
       "    <tr>\n",
       "      <th>2299</th>\n",
       "      <td>1319</td>\n",
       "      <td>NaN</td>\n",
       "      <td>NaN</td>\n",
       "      <td>NaN</td>\n",
       "      <td>NaN</td>\n",
       "      <td>NaN</td>\n",
       "      <td>NaN</td>\n",
       "      <td>surf</td>\n",
       "      <td>20.00</td>\n",
       "    </tr>\n",
       "    <tr>\n",
       "      <th>2300</th>\n",
       "      <td>1378</td>\n",
       "      <td>NaN</td>\n",
       "      <td>NaN</td>\n",
       "      <td>NaN</td>\n",
       "      <td>NaN</td>\n",
       "      <td>NaN</td>\n",
       "      <td>NaN</td>\n",
       "      <td>surf</td>\n",
       "      <td>20.00</td>\n",
       "    </tr>\n",
       "    <tr>\n",
       "      <th>2301</th>\n",
       "      <td>1463</td>\n",
       "      <td>NaN</td>\n",
       "      <td>NaN</td>\n",
       "      <td>NaN</td>\n",
       "      <td>NaN</td>\n",
       "      <td>NaN</td>\n",
       "      <td>NaN</td>\n",
       "      <td>ultimate</td>\n",
       "      <td>70.00</td>\n",
       "    </tr>\n",
       "    <tr>\n",
       "      <th>2302</th>\n",
       "      <td>1473</td>\n",
       "      <td>NaN</td>\n",
       "      <td>NaN</td>\n",
       "      <td>NaN</td>\n",
       "      <td>NaN</td>\n",
       "      <td>NaN</td>\n",
       "      <td>NaN</td>\n",
       "      <td>surf</td>\n",
       "      <td>20.00</td>\n",
       "    </tr>\n",
       "  </tbody>\n",
       "</table>\n",
       "<p>2303 rows × 9 columns</p>\n",
       "</div>"
      ],
      "text/plain": [
       "      user_id  month    year  calls_duration  massages    mb_vol  gb_vol  \\\n",
       "0        1000   12.0  2018.0           124.0      11.0   1901.47     2.0   \n",
       "1        1001    8.0  2018.0           182.0      30.0   6919.15     7.0   \n",
       "2        1001    9.0  2018.0           315.0      44.0  13314.82    14.0   \n",
       "3        1001   10.0  2018.0           393.0      53.0  22330.49    22.0   \n",
       "4        1001   11.0  2018.0           426.0      36.0  18504.30    19.0   \n",
       "...       ...    ...     ...             ...       ...       ...     ...   \n",
       "2298     1307    NaN     NaN             NaN       NaN       NaN     NaN   \n",
       "2299     1319    NaN     NaN             NaN       NaN       NaN     NaN   \n",
       "2300     1378    NaN     NaN             NaN       NaN       NaN     NaN   \n",
       "2301     1463    NaN     NaN             NaN       NaN       NaN     NaN   \n",
       "2302     1473    NaN     NaN             NaN       NaN       NaN     NaN   \n",
       "\n",
       "          plan  revenue  \n",
       "0     ultimate    70.00  \n",
       "1         surf    20.00  \n",
       "2         surf    20.00  \n",
       "3         surf    90.09  \n",
       "4         surf    60.00  \n",
       "...        ...      ...  \n",
       "2298      surf    20.00  \n",
       "2299      surf    20.00  \n",
       "2300      surf    20.00  \n",
       "2301  ultimate    70.00  \n",
       "2302      surf    20.00  \n",
       "\n",
       "[2303 rows x 9 columns]"
      ]
     },
     "metadata": {},
     "output_type": "display_data"
    }
   ],
   "source": [
    "def rev_calc(row):\n",
    "    if row['plan'] == 'surf':\n",
    "        surf = plans.query('plan_name == \"surf\"')\n",
    "        rev = 20\n",
    "        #calculate the surf plan overtime minutes payment using the plans dataframe\n",
    "        if row['calls_duration'] > surf['minutes_included'].max():\n",
    "            rev += (row['calls_duration'] - surf['minutes_included'].max()) * surf['usd_per_minute'].max()\n",
    "        #calculate the surf plan messages payment using the plans dataframe\n",
    "        if row['massages'] > surf['messages_included'].max():\n",
    "            rev += (row['massages'] - surf['messages_included'].max()) * surf['usd_per_message'].max()\n",
    "        #calculate the surf plan overtime GB payment using the plans dataframe\n",
    "        if row['gb_vol'] > 15:\n",
    "            rev += (row['gb_vol'] - 15)*surf['usd_per_gb'].max()\n",
    "    else:\n",
    "        rev = 70\n",
    "        ultimate = plans.query('plan_name == \"ultimate\"')\n",
    "        #calculate the ultimate plan overtime minutes payment using the plans dataframe\n",
    "        if row['calls_duration'] > ultimate['minutes_included'].max():\n",
    "            rev += (row['calls_duration'] - ultimate['minutes_included'].max()) * ultimate['usd_per_minute'].max()\n",
    "        #calculate the surf ultimate messages payment using the plans dataframe\n",
    "        if row['massages'] > ultimate['messages_included'].max():\n",
    "            rev += (row['massages'] - ultimate['messages_included'].max()) * ultimate['usd_per_message'].max()\n",
    "        #calculate the ultimate plan overtime GB payment using the plans dataframe\n",
    "        if row['gb_vol'] > 30:\n",
    "            rev += (row['gb_vol'] - 30) * ultimate['usd_per_gb'].max()\n",
    "    return rev\n",
    "\n",
    "df_merged_plan['revenue'] = df_merged_plan.apply(rev_calc,axis=1)\n",
    "df_merged_plan.columns = ['user_id','month','year','calls_duration','massages','mb_vol','gb_vol','plan','revenue']\n",
    "display(df_merged_plan)"
   ]
  },
  {
   "cell_type": "markdown",
   "metadata": {},
   "source": [
    "<div class=\"alert alert-block alert-success\">\n",
    "    <h2>Reviewer's commentary <a class=\"tocSkip\"> </h2>\n",
    "    <br/>\n",
    "<b>Well done!👍:</b> \n",
    "        \n",
    "Ok, Tal, you managed to create a very effective function fot revenue calculation, agree with your results."
   ]
  },
  {
   "cell_type": "markdown",
   "metadata": {},
   "source": [
    "### Analyze the data"
   ]
  },
  {
   "cell_type": "markdown",
   "metadata": {},
   "source": [
    "#### Describe the customers' behavior. Find the minutes, texts, and volume of data the users of each plan require per month"
   ]
  },
  {
   "cell_type": "code",
   "execution_count": 25,
   "metadata": {},
   "outputs": [
    {
     "name": "stdout",
     "output_type": "stream",
     "text": [
      "Surf plan calls_duration info\n",
      "\n"
     ]
    },
    {
     "data": {
      "text/plain": [
       "count    1544.000000\n",
       "mean      436.802461\n",
       "std       229.088544\n",
       "min         2.000000\n",
       "25%       279.000000\n",
       "50%       430.000000\n",
       "75%       579.000000\n",
       "max      1510.000000\n",
       "Name: calls_duration, dtype: float64"
      ]
     },
     "metadata": {},
     "output_type": "display_data"
    },
    {
     "name": "stdout",
     "output_type": "stream",
     "text": [
      "\n",
      "Ultimate plan calls_duration info\n",
      "\n"
     ]
    },
    {
     "data": {
      "text/plain": [
       "count     712.000000\n",
       "mean      435.286517\n",
       "std       237.459650\n",
       "min        10.000000\n",
       "25%       263.000000\n",
       "50%       425.500000\n",
       "75%       566.000000\n",
       "max      1369.000000\n",
       "Name: calls_duration, dtype: float64"
      ]
     },
     "metadata": {},
     "output_type": "display_data"
    },
    {
     "name": "stdout",
     "output_type": "stream",
     "text": [
      "\n",
      "Surf plan massages info\n",
      "\n"
     ]
    },
    {
     "data": {
      "text/plain": [
       "count    1222.000000\n",
       "mean       40.109656\n",
       "std        33.035500\n",
       "min         1.000000\n",
       "25%        16.000000\n",
       "50%        32.000000\n",
       "75%        54.000000\n",
       "max       266.000000\n",
       "Name: massages, dtype: float64"
      ]
     },
     "metadata": {},
     "output_type": "display_data"
    },
    {
     "name": "stdout",
     "output_type": "stream",
     "text": [
      "\n",
      "Ultimate plan massages info\n",
      "\n"
     ]
    },
    {
     "data": {
      "text/plain": [
       "count    584.000000\n",
       "mean      46.296233\n",
       "std       32.942118\n",
       "min        1.000000\n",
       "25%       21.000000\n",
       "50%       41.000000\n",
       "75%       66.000000\n",
       "max      166.000000\n",
       "Name: massages, dtype: float64"
      ]
     },
     "metadata": {},
     "output_type": "display_data"
    },
    {
     "name": "stdout",
     "output_type": "stream",
     "text": [
      "\n",
      "Surf plan gb_vol info\n",
      "\n"
     ]
    },
    {
     "data": {
      "text/plain": [
       "count    1558.000000\n",
       "mean       16.831194\n",
       "std         7.711922\n",
       "min         1.000000\n",
       "25%        12.000000\n",
       "50%        17.000000\n",
       "75%        21.000000\n",
       "max        70.000000\n",
       "Name: gb_vol, dtype: float64"
      ]
     },
     "metadata": {},
     "output_type": "display_data"
    },
    {
     "name": "stdout",
     "output_type": "stream",
     "text": [
      "\n",
      "Ultimate plan gb_vol info\n",
      "\n"
     ]
    },
    {
     "data": {
      "text/plain": [
       "count    719.000000\n",
       "mean      17.331015\n",
       "std        7.648185\n",
       "min        1.000000\n",
       "25%       13.000000\n",
       "50%       17.000000\n",
       "75%       21.000000\n",
       "max       46.000000\n",
       "Name: gb_vol, dtype: float64"
      ]
     },
     "metadata": {},
     "output_type": "display_data"
    },
    {
     "name": "stdout",
     "output_type": "stream",
     "text": [
      "\n",
      "Surf plan revenue info\n",
      "\n"
     ]
    },
    {
     "data": {
      "text/plain": [
       "count    1579.000000\n",
       "mean       60.551729\n",
       "std        55.339379\n",
       "min        20.000000\n",
       "25%        20.000000\n",
       "50%        40.180000\n",
       "75%        80.315000\n",
       "max       590.370000\n",
       "Name: revenue, dtype: float64"
      ]
     },
     "metadata": {},
     "output_type": "display_data"
    },
    {
     "name": "stdout",
     "output_type": "stream",
     "text": [
      "\n",
      "Ultimate plan revenue info\n",
      "\n"
     ]
    },
    {
     "data": {
      "text/plain": [
       "count    724.000000\n",
       "mean      72.301105\n",
       "std       11.364839\n",
       "min       70.000000\n",
       "25%       70.000000\n",
       "50%       70.000000\n",
       "75%       70.000000\n",
       "max      182.000000\n",
       "Name: revenue, dtype: float64"
      ]
     },
     "metadata": {},
     "output_type": "display_data"
    },
    {
     "name": "stdout",
     "output_type": "stream",
     "text": [
      "\n"
     ]
    }
   ],
   "source": [
    "surf = df_merged_plan.query(('plan == \"surf\"'))\n",
    "ultimate = df_merged_plan.query(('plan == \"ultimate\"'))\n",
    "\n",
    "for col in ['calls_duration', 'massages', 'gb_vol', 'revenue']:\n",
    "    print(F'Surf plan {col} info')\n",
    "    print('')\n",
    "    display(surf[col].describe())\n",
    "    print('')\n",
    "    print(F'Ultimate plan {col} info')\n",
    "    print('')\n",
    "    display(ultimate[col].describe())\n",
    "    print('')"
   ]
  },
  {
   "cell_type": "markdown",
   "metadata": {},
   "source": [
    "#### Plot histograms. Describe the distributions."
   ]
  },
  {
   "cell_type": "code",
   "execution_count": 26,
   "metadata": {},
   "outputs": [
    {
     "name": "stdout",
     "output_type": "stream",
     "text": [
      "BLUE = SURF plan users and GREEN = ULTIMATE plan users\n"
     ]
    },
    {
     "data": {
      "image/png": "[encoded data removed]",
      "text/plain": [
       "<Figure size 432x288 with 1 Axes>"
      ]
     },
     "metadata": {
      "needs_background": "light"
     },
     "output_type": "display_data"
    },
    {
     "data": {
      "image/png": "[encoded data removed]",
      "text/plain": [
       "<Figure size 432x288 with 1 Axes>"
      ]
     },
     "metadata": {
      "needs_background": "light"
     },
     "output_type": "display_data"
    },
    {
     "data": {
      "image/png": "[encoded data removed]",
      "text/plain": [
       "<Figure size 432x288 with 1 Axes>"
      ]
     },
     "metadata": {
      "needs_background": "light"
     },
     "output_type": "display_data"
    },
    {
     "data": {
      "image/png": "[encoded data removed]",
      "text/plain": [
       "<Figure size 432x288 with 1 Axes>"
      ]
     },
     "metadata": {
      "needs_background": "light"
     },
     "output_type": "display_data"
    }
   ],
   "source": [
    "print('BLUE = SURF plan users and GREEN = ULTIMATE plan users')\n",
    "\n",
    "for col in ['calls_duration', 'massages', 'gb_vol', 'revenue']:\n",
    "    surf[col].plot(kind='hist',bins=35,title='Histogram for '+col,grid=True, color='blue')\n",
    "    ultimate[col].plot(kind='hist',bins=35,title='Histogram for '+col,grid=True, color = 'green')\n",
    "    plt.show()"
   ]
  },
  {
   "cell_type": "code",
   "execution_count": 27,
   "metadata": {},
   "outputs": [
    {
     "data": {
      "image/png": "[encoded data removed]",
      "text/plain": [
       "<Figure size 432x288 with 1 Axes>"
      ]
     },
     "metadata": {
      "needs_background": "light"
     },
     "output_type": "display_data"
    }
   ],
   "source": [
    "# let's take a closer look on the revenue\n",
    "surf['revenue'].plot(kind='hist',bins=35,title='Histogram for revenue',grid=True, color='blue',range=(0,200))\n",
    "ultimate['revenue'].plot(kind='hist',bins=35,title='Histogram for revenue',grid=True, color = 'green',range=(0,200))\n",
    "plt.show()"
   ]
  },
  {
   "cell_type": "markdown",
   "metadata": {},
   "source": [
    "#### Conclusion:\n",
    "\n",
    "I sliced the data to 2 populations- surf plan clients and ultimate plan clients and researched every group seperately.\n",
    "The blue histograms are for the SURF distribution. this populaiton is much bigger than ULTIMATE.\n",
    "\n",
    "calls_duration: \n",
    "The distribution of both groups distribute pretty similarly a little bit skewed to the right.\n",
    "               SURF: The mean is 436.5 with a standart deviation of 229 and median is 430- pretty close to the mean\n",
    "               ULTIMATE: THe mean is 434.6 with a standart deviation of 237.8 and median is 425\n",
    "               \n",
    "               By these numbers it seems that surf have a liitle longer calls also by mean and by median and the group is more dense \n",
    "\n",
    "massages: \n",
    "The distribution of surf is very narrow and very right skewed. The distrubution of ultimate is wide and low and a little right skewed\n",
    "               SURF: The mean is 40 with a standart deviation of 33 and median is 32- the mean is much higher than the median. guess there are many high outliers that affect the mean much more than the median.\n",
    "               ULTIMATE: THe mean is 46.3 with a standart deviation of 33 and median is 41 - here too the mean is higher than the median\n",
    "               \n",
    "               Judging by the means and medians it seems that ultimate have more massages per month and user and the std of both groups is the same\n",
    "                \n",
    "gb_vol:\n",
    "The distribution of both groups distributes pretty similarly and evenly with a small right tail. ultimate group has some sub peaks more than surf.\n",
    "             SURF: The mean is 17.2 with a standart deviation of 7.8 and median is 17- the mean and median are very close - it's almost symetric. \n",
    "             ULTIMATE: THe mean is 17.7 with a standart deviation of 7.8 and median is 17 - here too the mean is close to the median\n",
    "                \n",
    "                Both distributions are almost identical- use GB in the same pattern, and differ only by the size of the population\n",
    "                \n",
    "revenue:\n",
    "The distribution of the 2 groups are distributed in a very different way. The surf group has a huge peak at around 20 dollars with a long right tail and ultimate has a huge peak around 70 dollars with a long right tail too.\n",
    "              SURF: The mean is 60.5 with a standard deviation of 50.3 and median is 40.1- the mean is much much higher than the median with a huge std as we saw in the chart it's highly skewed to the right. \n",
    "              ULTIMATE: The mean is 72.3 with a standard deviation of 11.4 and median is 70 - The mean is close to the median cause all the data is really concentrated around 70 with some high outliers but not as thick tail as in surf plan.\n",
    "              \n",
    "              Judging by median and mean as well the ultimate plan is much more profitable than surf.\n"
   ]
  },
  {
   "cell_type": "markdown",
   "metadata": {},
   "source": [
    "<div class=\"alert alert-block alert-success\">\n",
    "    <h2>Reviewer's commentary <a class=\"tocSkip\"> </h2>\n",
    "    <br/>\n",
    "<b>Well done!👍:</b> \n",
    "        \n",
    "Ok, as a whole your decicion is correct at this step of the analysis: it is great that you correctly formatted the plots and formulated so comprehensive conclusion."
   ]
  },
  {
   "cell_type": "markdown",
   "metadata": {},
   "source": [
    "<div class=\"alert alert-block alert-danger\">\n",
    "    <h2>Reviewer's commentary <a class=\"tocSkip\"> </h2>\n",
    "    <br/>\n",
    "<b>Needs fixing!🤔:</b>\n",
    "        \n",
    "But it is also important to built histograms (and analyse) for the revenue per tariff, so, please, try add this."
   ]
  },
  {
   "cell_type": "markdown",
   "metadata": {},
   "source": [
    "## Test the hypotheses\n",
    "\n",
    "### The average revenue from users of Ultimate and Surf calling plans differs"
   ]
  },
  {
   "cell_type": "markdown",
   "metadata": {},
   "source": [
    "The null hypothesis H0 would be: The mean revenue of `Ultimate` and `Surf` is equal. We would try to reject it using T-test. The alternative hypothesis H1 will be that it's different. I will set our significance level parameter alpha to 0.05 as it's common."
   ]
  },
  {
   "cell_type": "code",
   "execution_count": 28,
   "metadata": {
    "ExecuteTime": {
     "end_time": "2021-06-29T12:15:19.411501Z",
     "start_time": "2021-06-29T12:15:19.391197Z"
    },
    "scrolled": true
   },
   "outputs": [
    {
     "name": "stdout",
     "output_type": "stream",
     "text": [
      "p-value:  1.724423314124219e-08\n",
      "We reject the null hypothesis\n"
     ]
    }
   ],
   "source": [
    "alpha = 0.05  # critical statistical significance level\n",
    "# if the p-value is less than alpha, we reject the hypothesis\n",
    "\n",
    "results = st.ttest_ind(surf['revenue'], ultimate['revenue'])\n",
    "\n",
    "print('p-value: ', results.pvalue)\n",
    "\n",
    "if results.pvalue < alpha:\n",
    "    print(\"We reject the null hypothesis\")\n",
    "else:\n",
    "    print(\"We can't reject the null hypothesis\") "
   ]
  },
  {
   "cell_type": "markdown",
   "metadata": {},
   "source": [
    "#### Conclusion:\n",
    "\n",
    "I used the t-test hypothesis on the equality of two population means. Hence I formulated the null hypothesis based on equality and used two tailed technique since we're only looking for a difference no matter which size. --> This is why I compared the pvalue to alpha and it was smaller.\n",
    "The test concluded we reject the null hypotheses thus we can say that the average revenue from users of Ultimate and Surf calling plans differ."
   ]
  },
  {
   "cell_type": "markdown",
   "metadata": {
    "ExecuteTime": {
     "end_time": "2021-06-26T18:27:42.941314Z",
     "start_time": "2021-06-26T18:27:42.777955Z"
    }
   },
   "source": [
    "### The average revenue from users in NY-NJ area is different from that of the users from other regions"
   ]
  },
  {
   "cell_type": "markdown",
   "metadata": {},
   "source": [
    "I'll start by creating a flag column (boolean) in users table that will mark which user lives in NY-NJ area"
   ]
  },
  {
   "cell_type": "code",
   "execution_count": 29,
   "metadata": {},
   "outputs": [
    {
     "data": {
      "text/html": [
       "<div>\n",
       "<style scoped>\n",
       "    .dataframe tbody tr th:only-of-type {\n",
       "        vertical-align: middle;\n",
       "    }\n",
       "\n",
       "    .dataframe tbody tr th {\n",
       "        vertical-align: top;\n",
       "    }\n",
       "\n",
       "    .dataframe thead th {\n",
       "        text-align: right;\n",
       "    }\n",
       "</style>\n",
       "<table border=\"1\" class=\"dataframe\">\n",
       "  <thead>\n",
       "    <tr style=\"text-align: right;\">\n",
       "      <th></th>\n",
       "      <th>user_id</th>\n",
       "      <th>first_name</th>\n",
       "      <th>last_name</th>\n",
       "      <th>age</th>\n",
       "      <th>city</th>\n",
       "      <th>reg_date</th>\n",
       "      <th>plan</th>\n",
       "      <th>churn_date</th>\n",
       "      <th>isNYNJ</th>\n",
       "    </tr>\n",
       "  </thead>\n",
       "  <tbody>\n",
       "    <tr>\n",
       "      <th>0</th>\n",
       "      <td>1000</td>\n",
       "      <td>Anamaria</td>\n",
       "      <td>Bauer</td>\n",
       "      <td>45</td>\n",
       "      <td>Atlanta-Sandy Springs-Roswell, GA MSA</td>\n",
       "      <td>2018-12-24</td>\n",
       "      <td>ultimate</td>\n",
       "      <td>2050-01-01</td>\n",
       "      <td>False</td>\n",
       "    </tr>\n",
       "    <tr>\n",
       "      <th>1</th>\n",
       "      <td>1001</td>\n",
       "      <td>Mickey</td>\n",
       "      <td>Wilkerson</td>\n",
       "      <td>28</td>\n",
       "      <td>Seattle-Tacoma-Bellevue, WA MSA</td>\n",
       "      <td>2018-08-13</td>\n",
       "      <td>surf</td>\n",
       "      <td>2050-01-01</td>\n",
       "      <td>False</td>\n",
       "    </tr>\n",
       "    <tr>\n",
       "      <th>2</th>\n",
       "      <td>1002</td>\n",
       "      <td>Carlee</td>\n",
       "      <td>Hoffman</td>\n",
       "      <td>36</td>\n",
       "      <td>Las Vegas-Henderson-Paradise, NV MSA</td>\n",
       "      <td>2018-10-21</td>\n",
       "      <td>surf</td>\n",
       "      <td>2050-01-01</td>\n",
       "      <td>False</td>\n",
       "    </tr>\n",
       "    <tr>\n",
       "      <th>3</th>\n",
       "      <td>1003</td>\n",
       "      <td>Reynaldo</td>\n",
       "      <td>Jenkins</td>\n",
       "      <td>52</td>\n",
       "      <td>Tulsa, OK MSA</td>\n",
       "      <td>2018-01-28</td>\n",
       "      <td>surf</td>\n",
       "      <td>2050-01-01</td>\n",
       "      <td>False</td>\n",
       "    </tr>\n",
       "    <tr>\n",
       "      <th>4</th>\n",
       "      <td>1004</td>\n",
       "      <td>Leonila</td>\n",
       "      <td>Thompson</td>\n",
       "      <td>40</td>\n",
       "      <td>Seattle-Tacoma-Bellevue, WA MSA</td>\n",
       "      <td>2018-05-23</td>\n",
       "      <td>surf</td>\n",
       "      <td>2050-01-01</td>\n",
       "      <td>False</td>\n",
       "    </tr>\n",
       "    <tr>\n",
       "      <th>...</th>\n",
       "      <td>...</td>\n",
       "      <td>...</td>\n",
       "      <td>...</td>\n",
       "      <td>...</td>\n",
       "      <td>...</td>\n",
       "      <td>...</td>\n",
       "      <td>...</td>\n",
       "      <td>...</td>\n",
       "      <td>...</td>\n",
       "    </tr>\n",
       "    <tr>\n",
       "      <th>495</th>\n",
       "      <td>1495</td>\n",
       "      <td>Fidel</td>\n",
       "      <td>Sharpe</td>\n",
       "      <td>67</td>\n",
       "      <td>New York-Newark-Jersey City, NY-NJ-PA MSA</td>\n",
       "      <td>2018-09-04</td>\n",
       "      <td>surf</td>\n",
       "      <td>2050-01-01</td>\n",
       "      <td>True</td>\n",
       "    </tr>\n",
       "    <tr>\n",
       "      <th>496</th>\n",
       "      <td>1496</td>\n",
       "      <td>Ariel</td>\n",
       "      <td>Shepherd</td>\n",
       "      <td>49</td>\n",
       "      <td>New Orleans-Metairie, LA MSA</td>\n",
       "      <td>2018-02-20</td>\n",
       "      <td>surf</td>\n",
       "      <td>2050-01-01</td>\n",
       "      <td>False</td>\n",
       "    </tr>\n",
       "    <tr>\n",
       "      <th>497</th>\n",
       "      <td>1497</td>\n",
       "      <td>Donte</td>\n",
       "      <td>Barrera</td>\n",
       "      <td>49</td>\n",
       "      <td>Los Angeles-Long Beach-Anaheim, CA MSA</td>\n",
       "      <td>2018-12-10</td>\n",
       "      <td>ultimate</td>\n",
       "      <td>2050-01-01</td>\n",
       "      <td>False</td>\n",
       "    </tr>\n",
       "    <tr>\n",
       "      <th>498</th>\n",
       "      <td>1498</td>\n",
       "      <td>Scot</td>\n",
       "      <td>Williamson</td>\n",
       "      <td>51</td>\n",
       "      <td>New York-Newark-Jersey City, NY-NJ-PA MSA</td>\n",
       "      <td>2018-02-04</td>\n",
       "      <td>surf</td>\n",
       "      <td>2050-01-01</td>\n",
       "      <td>True</td>\n",
       "    </tr>\n",
       "    <tr>\n",
       "      <th>499</th>\n",
       "      <td>1499</td>\n",
       "      <td>Shena</td>\n",
       "      <td>Dickson</td>\n",
       "      <td>37</td>\n",
       "      <td>Orlando-Kissimmee-Sanford, FL MSA</td>\n",
       "      <td>2018-05-06</td>\n",
       "      <td>surf</td>\n",
       "      <td>2050-01-01</td>\n",
       "      <td>False</td>\n",
       "    </tr>\n",
       "  </tbody>\n",
       "</table>\n",
       "<p>500 rows × 9 columns</p>\n",
       "</div>"
      ],
      "text/plain": [
       "     user_id first_name   last_name  age  \\\n",
       "0       1000   Anamaria       Bauer   45   \n",
       "1       1001     Mickey   Wilkerson   28   \n",
       "2       1002     Carlee     Hoffman   36   \n",
       "3       1003   Reynaldo     Jenkins   52   \n",
       "4       1004    Leonila    Thompson   40   \n",
       "..       ...        ...         ...  ...   \n",
       "495     1495      Fidel      Sharpe   67   \n",
       "496     1496      Ariel    Shepherd   49   \n",
       "497     1497      Donte     Barrera   49   \n",
       "498     1498       Scot  Williamson   51   \n",
       "499     1499      Shena     Dickson   37   \n",
       "\n",
       "                                          city   reg_date      plan  \\\n",
       "0        Atlanta-Sandy Springs-Roswell, GA MSA 2018-12-24  ultimate   \n",
       "1              Seattle-Tacoma-Bellevue, WA MSA 2018-08-13      surf   \n",
       "2         Las Vegas-Henderson-Paradise, NV MSA 2018-10-21      surf   \n",
       "3                                Tulsa, OK MSA 2018-01-28      surf   \n",
       "4              Seattle-Tacoma-Bellevue, WA MSA 2018-05-23      surf   \n",
       "..                                         ...        ...       ...   \n",
       "495  New York-Newark-Jersey City, NY-NJ-PA MSA 2018-09-04      surf   \n",
       "496               New Orleans-Metairie, LA MSA 2018-02-20      surf   \n",
       "497     Los Angeles-Long Beach-Anaheim, CA MSA 2018-12-10  ultimate   \n",
       "498  New York-Newark-Jersey City, NY-NJ-PA MSA 2018-02-04      surf   \n",
       "499          Orlando-Kissimmee-Sanford, FL MSA 2018-05-06      surf   \n",
       "\n",
       "    churn_date  isNYNJ  \n",
       "0   2050-01-01   False  \n",
       "1   2050-01-01   False  \n",
       "2   2050-01-01   False  \n",
       "3   2050-01-01   False  \n",
       "4   2050-01-01   False  \n",
       "..         ...     ...  \n",
       "495 2050-01-01    True  \n",
       "496 2050-01-01   False  \n",
       "497 2050-01-01   False  \n",
       "498 2050-01-01    True  \n",
       "499 2050-01-01   False  \n",
       "\n",
       "[500 rows x 9 columns]"
      ]
     },
     "metadata": {},
     "output_type": "display_data"
    }
   ],
   "source": [
    "users['isNYNJ'] = users.apply(lambda row:'NY-NJ' in row['city'], axis=1)\n",
    "display(users)"
   ]
  },
  {
   "cell_type": "markdown",
   "metadata": {},
   "source": [
    "Now I will merge the new column with my joined dataset `df_merged_plan`"
   ]
  },
  {
   "cell_type": "code",
   "execution_count": 30,
   "metadata": {},
   "outputs": [
    {
     "data": {
      "text/html": [
       "<div>\n",
       "<style scoped>\n",
       "    .dataframe tbody tr th:only-of-type {\n",
       "        vertical-align: middle;\n",
       "    }\n",
       "\n",
       "    .dataframe tbody tr th {\n",
       "        vertical-align: top;\n",
       "    }\n",
       "\n",
       "    .dataframe thead th {\n",
       "        text-align: right;\n",
       "    }\n",
       "</style>\n",
       "<table border=\"1\" class=\"dataframe\">\n",
       "  <thead>\n",
       "    <tr style=\"text-align: right;\">\n",
       "      <th></th>\n",
       "      <th>user_id</th>\n",
       "      <th>month</th>\n",
       "      <th>year</th>\n",
       "      <th>calls_duration</th>\n",
       "      <th>massages</th>\n",
       "      <th>mb_vol</th>\n",
       "      <th>gb_vol</th>\n",
       "      <th>plan</th>\n",
       "      <th>revenue</th>\n",
       "      <th>isNYNJ</th>\n",
       "    </tr>\n",
       "  </thead>\n",
       "  <tbody>\n",
       "    <tr>\n",
       "      <th>0</th>\n",
       "      <td>1000</td>\n",
       "      <td>12.0</td>\n",
       "      <td>2018.0</td>\n",
       "      <td>124.0</td>\n",
       "      <td>11.0</td>\n",
       "      <td>1901.47</td>\n",
       "      <td>2.0</td>\n",
       "      <td>ultimate</td>\n",
       "      <td>70.00</td>\n",
       "      <td>False</td>\n",
       "    </tr>\n",
       "    <tr>\n",
       "      <th>1</th>\n",
       "      <td>1001</td>\n",
       "      <td>8.0</td>\n",
       "      <td>2018.0</td>\n",
       "      <td>182.0</td>\n",
       "      <td>30.0</td>\n",
       "      <td>6919.15</td>\n",
       "      <td>7.0</td>\n",
       "      <td>surf</td>\n",
       "      <td>20.00</td>\n",
       "      <td>False</td>\n",
       "    </tr>\n",
       "    <tr>\n",
       "      <th>2</th>\n",
       "      <td>1001</td>\n",
       "      <td>9.0</td>\n",
       "      <td>2018.0</td>\n",
       "      <td>315.0</td>\n",
       "      <td>44.0</td>\n",
       "      <td>13314.82</td>\n",
       "      <td>14.0</td>\n",
       "      <td>surf</td>\n",
       "      <td>20.00</td>\n",
       "      <td>False</td>\n",
       "    </tr>\n",
       "    <tr>\n",
       "      <th>3</th>\n",
       "      <td>1001</td>\n",
       "      <td>10.0</td>\n",
       "      <td>2018.0</td>\n",
       "      <td>393.0</td>\n",
       "      <td>53.0</td>\n",
       "      <td>22330.49</td>\n",
       "      <td>22.0</td>\n",
       "      <td>surf</td>\n",
       "      <td>90.09</td>\n",
       "      <td>False</td>\n",
       "    </tr>\n",
       "    <tr>\n",
       "      <th>4</th>\n",
       "      <td>1001</td>\n",
       "      <td>11.0</td>\n",
       "      <td>2018.0</td>\n",
       "      <td>426.0</td>\n",
       "      <td>36.0</td>\n",
       "      <td>18504.30</td>\n",
       "      <td>19.0</td>\n",
       "      <td>surf</td>\n",
       "      <td>60.00</td>\n",
       "      <td>False</td>\n",
       "    </tr>\n",
       "    <tr>\n",
       "      <th>...</th>\n",
       "      <td>...</td>\n",
       "      <td>...</td>\n",
       "      <td>...</td>\n",
       "      <td>...</td>\n",
       "      <td>...</td>\n",
       "      <td>...</td>\n",
       "      <td>...</td>\n",
       "      <td>...</td>\n",
       "      <td>...</td>\n",
       "      <td>...</td>\n",
       "    </tr>\n",
       "    <tr>\n",
       "      <th>2298</th>\n",
       "      <td>1307</td>\n",
       "      <td>NaN</td>\n",
       "      <td>NaN</td>\n",
       "      <td>NaN</td>\n",
       "      <td>NaN</td>\n",
       "      <td>NaN</td>\n",
       "      <td>NaN</td>\n",
       "      <td>surf</td>\n",
       "      <td>20.00</td>\n",
       "      <td>False</td>\n",
       "    </tr>\n",
       "    <tr>\n",
       "      <th>2299</th>\n",
       "      <td>1319</td>\n",
       "      <td>NaN</td>\n",
       "      <td>NaN</td>\n",
       "      <td>NaN</td>\n",
       "      <td>NaN</td>\n",
       "      <td>NaN</td>\n",
       "      <td>NaN</td>\n",
       "      <td>surf</td>\n",
       "      <td>20.00</td>\n",
       "      <td>False</td>\n",
       "    </tr>\n",
       "    <tr>\n",
       "      <th>2300</th>\n",
       "      <td>1378</td>\n",
       "      <td>NaN</td>\n",
       "      <td>NaN</td>\n",
       "      <td>NaN</td>\n",
       "      <td>NaN</td>\n",
       "      <td>NaN</td>\n",
       "      <td>NaN</td>\n",
       "      <td>surf</td>\n",
       "      <td>20.00</td>\n",
       "      <td>False</td>\n",
       "    </tr>\n",
       "    <tr>\n",
       "      <th>2301</th>\n",
       "      <td>1463</td>\n",
       "      <td>NaN</td>\n",
       "      <td>NaN</td>\n",
       "      <td>NaN</td>\n",
       "      <td>NaN</td>\n",
       "      <td>NaN</td>\n",
       "      <td>NaN</td>\n",
       "      <td>ultimate</td>\n",
       "      <td>70.00</td>\n",
       "      <td>False</td>\n",
       "    </tr>\n",
       "    <tr>\n",
       "      <th>2302</th>\n",
       "      <td>1473</td>\n",
       "      <td>NaN</td>\n",
       "      <td>NaN</td>\n",
       "      <td>NaN</td>\n",
       "      <td>NaN</td>\n",
       "      <td>NaN</td>\n",
       "      <td>NaN</td>\n",
       "      <td>surf</td>\n",
       "      <td>20.00</td>\n",
       "      <td>False</td>\n",
       "    </tr>\n",
       "  </tbody>\n",
       "</table>\n",
       "<p>2303 rows × 10 columns</p>\n",
       "</div>"
      ],
      "text/plain": [
       "      user_id  month    year  calls_duration  massages    mb_vol  gb_vol  \\\n",
       "0        1000   12.0  2018.0           124.0      11.0   1901.47     2.0   \n",
       "1        1001    8.0  2018.0           182.0      30.0   6919.15     7.0   \n",
       "2        1001    9.0  2018.0           315.0      44.0  13314.82    14.0   \n",
       "3        1001   10.0  2018.0           393.0      53.0  22330.49    22.0   \n",
       "4        1001   11.0  2018.0           426.0      36.0  18504.30    19.0   \n",
       "...       ...    ...     ...             ...       ...       ...     ...   \n",
       "2298     1307    NaN     NaN             NaN       NaN       NaN     NaN   \n",
       "2299     1319    NaN     NaN             NaN       NaN       NaN     NaN   \n",
       "2300     1378    NaN     NaN             NaN       NaN       NaN     NaN   \n",
       "2301     1463    NaN     NaN             NaN       NaN       NaN     NaN   \n",
       "2302     1473    NaN     NaN             NaN       NaN       NaN     NaN   \n",
       "\n",
       "          plan  revenue  isNYNJ  \n",
       "0     ultimate    70.00   False  \n",
       "1         surf    20.00   False  \n",
       "2         surf    20.00   False  \n",
       "3         surf    90.09   False  \n",
       "4         surf    60.00   False  \n",
       "...        ...      ...     ...  \n",
       "2298      surf    20.00   False  \n",
       "2299      surf    20.00   False  \n",
       "2300      surf    20.00   False  \n",
       "2301  ultimate    70.00   False  \n",
       "2302      surf    20.00   False  \n",
       "\n",
       "[2303 rows x 10 columns]"
      ]
     },
     "execution_count": 30,
     "metadata": {},
     "output_type": "execute_result"
    }
   ],
   "source": [
    "#creating a sub dataframe user_area that describes for each user if he belongs to NY-NJ or not \n",
    "#in order to merge just one column\n",
    "user_area = users[['user_id','isNYNJ']].copy()\n",
    "df_merged_area = pd.merge(left = df_merged_plan , \n",
    "                right = user_area, how='left',on=['user_id'])\n",
    "df_merged_area"
   ]
  },
  {
   "cell_type": "markdown",
   "metadata": {},
   "source": [
    "The null hypothesis H0 would be: The mean revenue of NY-NJ area and the rest is equal. We would try to reject it using T-test. The alternative hypothesis H1 will be that it's different. I will set our significance level parameter alpha to 0.05 as it's common."
   ]
  },
  {
   "cell_type": "code",
   "execution_count": 31,
   "metadata": {
    "ExecuteTime": {
     "end_time": "2021-06-29T12:15:19.564244Z",
     "start_time": "2021-06-29T12:15:19.475640Z"
    },
    "scrolled": true
   },
   "outputs": [
    {
     "name": "stdout",
     "output_type": "stream",
     "text": [
      "p-value:  0.049745282774076104\n",
      "We reject the null hypothesis\n"
     ]
    }
   ],
   "source": [
    "# creating the two samples of the data equivalent to the research question\n",
    "NY_NJ = df_merged_area.query('isNYNJ')\n",
    "other = df_merged_area.query('~isNYNJ')\n",
    "\n",
    "alpha = 0.05  # critical statistical significance level\n",
    "# if the p-value is less than alpha, we reject the hypothesis\n",
    "\n",
    "results = st.ttest_ind(NY_NJ['revenue'], other['revenue'])\n",
    "\n",
    "print('p-value: ', results.pvalue)\n",
    "\n",
    "if results.pvalue < alpha:\n",
    "    print(\"We reject the null hypothesis\")\n",
    "else:\n",
    "    print(\"We can't reject the null hypothesis\") "
   ]
  },
  {
   "cell_type": "markdown",
   "metadata": {},
   "source": [
    "#### Conclusion:\n",
    "\n",
    "I used the t-test hypothesis on the equality of two population means. Hence I formulated the null hypothese based on equality and used two tailed technique since we're only looking for differnece no matter which size. (otherwise I would compare pvalue/2) --> This is why I compared the pvalue to alpha and it was bigger.\n",
    "The test concluded we cannot reject the null hypotheses thus we can say that the average revenue from users who live in NY-NJ area is not considerably different than other areas"
   ]
  },
  {
   "cell_type": "markdown",
   "metadata": {},
   "source": [
    "<div class=\"alert alert-block alert-success\">\n",
    "    <h2>Reviewer's commentary <a class=\"tocSkip\"> </h2>\n",
    "    <br/>\n",
    "<b>Well done!👍:</b> \n",
    "        \n",
    "Ok, Tal, agree with your decision at this step of the analysis: you correctly formulated H0 and H1, you also correctly chose the test."
   ]
  },
  {
   "cell_type": "markdown",
   "metadata": {},
   "source": [
    "## <a id='section5'></a> Overall conclusion"
   ]
  },
  {
   "cell_type": "markdown",
   "metadata": {},
   "source": [
    " I started with 5 datasets: fact table with general information about each user, fact table with general information about the 2 plans of the company and 3 log datasets with records of each call, massage and internet surfing.\n",
    "I started studying the data using the explore function I wrote and applied on each table using a loop. I looked at the value_counts of some main columns and noticed some big amount of  0s in mb_used in internet and in duration of calls. I studied them and decided to keep them since I’m aggregating everything by user and month and the zeroes won’t matter. \n",
    "\n",
    "I also found many missing values in users.churn_date which I later filled with the future date 1.1.2050 (Assuming internet and phone plans have a limited lifetime). \n",
    "Then I changed all the datatypes using astype and pd.to_datetime.\n",
    "Then I aggregated the tables per user and month and year and calculated the following:\n",
    "The number of calls made and minutes used per month - I rounded the minutes up and only then grouped it\n",
    "The number of text messages sent per month\n",
    "The volume of data per month - I grouped it and then created another column gb_used and rounded it up and divided by 1000\n",
    "\n",
    "Then I merged 4 of the tables. I merged calls, internet and messages (outer join) by user and month and year and then joined it with users (outer join) only by user_id to get the plan for each user all in the same table.\n",
    "The monthly revenue from each user - I used the aggregated merged table and added a revenue column to see the revenue per user and month. I applied the rev_calc function I wrote and the table plans in order to calculate the monthly revenue from each user depending on the plan he has.\n",
    "\n",
    "Then I started analyzing the data. I used a loop to describe each column. Then I created 2 slices of the dataset called `surf` and `ultimate` in order to describe the customers' behavior and find the minutes, texts, and volume of data the users of each plan require per month. I used a loop that shows the histogram of each column and compared it with the equivalent histogram in the other plan. I concluded that calls’ durations are a little longer on `surf` compared to `ultimate`. `ultimate` users send more messages on a monthly average than ‘surf’ users. Both plans’ users use the same amount of GB in monthly average  when surfing the net. \n",
    "And then to the main goal -Test the hypotheses! I tested 2 hypotheses using the t-test that we learned on the platform.\n",
    "\n",
    "1. The average revenue from users of Ultimate and Surf calling plans differs: \n",
    "\n",
    "I used the t-test hypothesis on the equality of two population means. Hence I formulated the null hypothesis based on equality and used two tailed technique since we're only looking for a difference no matter which size. --> This is why I compared the pvalue to alpha and it was smaller.\n",
    "The test concluded we reject the null hypotheses thus we can say that the average revenue from users of Ultimate and Surf calling plans differ.\n",
    "Adding the conclusion I had in the previous section from the histogram and means and medians of both plans it seems that ultimate is more profitable than surf for Megaline\n",
    "\n",
    "2. The average revenue from users in NY-NJ area is different from that of the users from other regions:\n",
    "\n",
    "I created 2 samples for users who belong to NY-NJ area and the rest of the users.\n",
    "I set the null hypothesis H0 to be: The mean revenue of NY-NJ area and the rest is equal. I used a T-test. The alternative hypothesis H1 was that it's different. I set the significance level parameter alpha to be 0.05 as it's common to do so.  The test concluded we cannot reject the null hypotheses thus we can say that the average revenue from users who live in NY-NJ area is not considerably different than other areas\n"
   ]
  },
  {
   "cell_type": "markdown",
   "metadata": {},
   "source": [
    "<div class=\"alert alert-block alert-danger\">\n",
    "    <h2>Reviewer's commentary <a class=\"tocSkip\"> </h2>\n",
    "    <br/>\n",
    "<b>Needs fixing!🤔:</b>\n",
    "        \n",
    "Tal, in your final conclusion you need to fix the recommendation for client: which plan is more profitable for Megaline?"
   ]
  },
  {
   "cell_type": "markdown",
   "metadata": {},
   "source": [
    "<div style=\"border:solid Chocolate 2px; padding: 40px\">\n",
    "\n",
    "**The overall review conclusion**\n",
    "\n",
    "Tal, thank you for submitting your project! I can see that you've worked really hard on it! I'm really impressed this the amount of work you have done. But there are several things in your project which I suppose it is important to fix in order to make your project really ideal! My comments will navigate you!\n",
    "\n",
    "\n",
    "**Good things and practices in your project I want to highlight🙂**:\n",
    "* It was a pleasure for me to review your project because you have paid a great attention to the formatting of the code and commentaries!  A big plus for it!\n",
    "* You use different methods for working with your data. It is really great that you can apply these methods on practice, keep it up!\n",
    "* You formulated very deep and concrete conclusions at each step of the analysis, your final conclusion is really comprehensive and valuable, great analytical job!\n",
    "* You have used the visualization a lot and formatted it correctly, good job!\n",
    "\n",
    "**What is worth working on👀**:\n",
    "\n",
    "* all recommendations for the project's improvement you will find in my comments!\n",
    "\n",
    "**Good luck! I will wait for your work for a second iteration of the review!😉**\n",
    "![gif](https://media.giphy.com/media/LmNwrBhejkK9EFP504/giphy.gif)  "
   ]
  }
 ],
 "metadata": {
  "ExecuteTimeLog": [
   {
    "duration": 1564,
    "start_time": "2021-06-26T22:15:18.167Z"
   },
   {
    "duration": 315,
    "start_time": "2021-06-26T22:15:19.733Z"
   },
   {
    "duration": 31,
    "start_time": "2021-06-26T22:15:20.051Z"
   },
   {
    "duration": 53,
    "start_time": "2021-06-26T22:15:20.084Z"
   },
   {
    "duration": 53,
    "start_time": "2021-06-26T22:15:20.168Z"
   },
   {
    "duration": 84,
    "start_time": "2021-06-26T22:15:20.224Z"
   },
   {
    "duration": 57,
    "start_time": "2021-06-26T22:15:20.311Z"
   },
   {
    "duration": 52,
    "start_time": "2021-06-26T22:15:20.372Z"
   },
   {
    "duration": 21,
    "start_time": "2021-06-26T22:15:20.427Z"
   },
   {
    "duration": 107,
    "start_time": "2021-06-26T22:15:20.468Z"
   },
   {
    "duration": 19,
    "start_time": "2021-06-26T22:15:20.577Z"
   },
   {
    "duration": 42,
    "start_time": "2021-06-26T22:15:20.598Z"
   },
   {
    "duration": 385,
    "start_time": "2021-06-26T22:15:20.642Z"
   },
   {
    "duration": 67,
    "start_time": "2021-06-26T22:15:21.030Z"
   },
   {
    "duration": 126,
    "start_time": "2021-06-26T22:15:21.100Z"
   },
   {
    "duration": 47,
    "start_time": "2021-06-26T22:15:21.229Z"
   },
   {
    "duration": 70,
    "start_time": "2021-06-26T22:15:21.278Z"
   },
   {
    "duration": 46,
    "start_time": "2021-06-26T22:15:21.368Z"
   },
   {
    "duration": 99,
    "start_time": "2021-06-26T22:15:21.417Z"
   },
   {
    "duration": 77,
    "start_time": "2021-06-26T22:15:21.519Z"
   },
   {
    "duration": 120,
    "start_time": "2021-06-26T22:15:21.599Z"
   },
   {
    "duration": 71,
    "start_time": "2021-06-26T22:15:21.722Z"
   },
   {
    "duration": 8,
    "start_time": "2021-06-26T22:15:21.800Z"
   },
   {
    "duration": 102,
    "start_time": "2021-06-26T22:15:21.813Z"
   },
   {
    "duration": 679,
    "start_time": "2021-06-26T22:15:21.918Z"
   },
   {
    "duration": 49,
    "start_time": "2021-06-26T22:15:22.599Z"
   },
   {
    "duration": 576,
    "start_time": "2021-06-26T22:15:22.651Z"
   },
   {
    "duration": 40,
    "start_time": "2021-06-26T22:15:23.229Z"
   },
   {
    "duration": 670,
    "start_time": "2021-06-26T22:15:23.271Z"
   },
   {
    "duration": 50,
    "start_time": "2021-06-26T22:15:23.943Z"
   },
   {
    "duration": 1198,
    "start_time": "2021-06-26T22:15:23.995Z"
   },
   {
    "duration": 577,
    "start_time": "2021-06-26T22:15:25.195Z"
   },
   {
    "duration": 50,
    "start_time": "2021-06-26T22:15:25.774Z"
   },
   {
    "duration": 566,
    "start_time": "2021-06-26T22:15:25.826Z"
   },
   {
    "duration": 936,
    "start_time": "2021-06-26T22:15:26.394Z"
   },
   {
    "duration": 9,
    "start_time": "2021-06-26T22:15:27.333Z"
   },
   {
    "duration": 243,
    "start_time": "2021-06-26T22:15:27.344Z"
   },
   {
    "duration": 110,
    "start_time": "2021-06-26T22:15:27.589Z"
   },
   {
    "duration": 1250,
    "start_time": "2021-06-26T22:15:27.701Z"
   },
   {
    "duration": 238,
    "start_time": "2021-06-26T22:15:28.953Z"
   },
   {
    "duration": 573,
    "start_time": "2021-06-26T22:15:29.194Z"
   },
   {
    "duration": 235,
    "start_time": "2021-06-26T22:15:29.769Z"
   },
   {
    "duration": 1271,
    "start_time": "2021-06-26T22:15:30.007Z"
   },
   {
    "duration": 239,
    "start_time": "2021-06-26T22:15:31.280Z"
   },
   {
    "duration": 54,
    "start_time": "2021-06-26T22:15:31.521Z"
   },
   {
    "duration": 1782,
    "start_time": "2021-06-26T22:15:31.577Z"
   },
   {
    "duration": 708,
    "start_time": "2021-06-26T22:15:33.361Z"
   },
   {
    "duration": 383,
    "start_time": "2021-06-26T22:15:34.072Z"
   },
   {
    "duration": 243,
    "start_time": "2021-06-26T22:15:34.458Z"
   },
   {
    "duration": 1135,
    "start_time": "2021-06-26T22:15:34.703Z"
   },
   {
    "duration": 448,
    "start_time": "2021-06-26T22:15:35.841Z"
   },
   {
    "duration": 5,
    "start_time": "2021-06-26T22:15:36.291Z"
   },
   {
    "duration": 373,
    "start_time": "2021-06-26T22:15:36.298Z"
   },
   {
    "duration": 243,
    "start_time": "2021-06-26T22:15:36.673Z"
   },
   {
    "duration": 1261,
    "start_time": "2021-06-26T22:15:36.919Z"
   },
   {
    "duration": 390,
    "start_time": "2021-06-26T22:15:38.182Z"
   },
   {
    "duration": 5,
    "start_time": "2021-06-26T22:15:38.574Z"
   },
   {
    "duration": 3616,
    "start_time": "2021-06-26T22:15:38.581Z"
   },
   {
    "duration": 4,
    "start_time": "2021-06-26T22:15:42.200Z"
   },
   {
    "duration": 14,
    "start_time": "2021-06-26T22:15:42.206Z"
   },
   {
    "duration": 583,
    "start_time": "2021-06-26T22:15:42.223Z"
   },
   {
    "duration": 393,
    "start_time": "2021-06-26T22:15:42.808Z"
   },
   {
    "duration": 97,
    "start_time": "2021-06-26T22:15:43.204Z"
   },
   {
    "duration": 1240,
    "start_time": "2021-06-26T22:15:43.304Z"
   },
   {
    "duration": 623,
    "start_time": "2021-06-26T22:15:44.547Z"
   },
   {
    "duration": 766,
    "start_time": "2021-06-26T22:15:45.172Z"
   },
   {
    "duration": 3003,
    "start_time": "2021-06-26T22:15:45.941Z"
   },
   {
    "duration": 900,
    "start_time": "2021-06-26T22:15:48.951Z"
   },
   {
    "duration": 44,
    "start_time": "2021-06-26T22:15:49.854Z"
   },
   {
    "duration": 5510,
    "start_time": "2021-06-26T22:15:49.901Z"
   },
   {
    "duration": 292,
    "start_time": "2021-06-26T22:15:55.414Z"
   },
   {
    "duration": 36,
    "start_time": "2021-06-26T22:15:55.709Z"
   },
   {
    "duration": 5657,
    "start_time": "2021-06-26T22:15:55.768Z"
   },
   {
    "duration": 321,
    "start_time": "2021-06-26T22:16:01.427Z"
   },
   {
    "duration": 307,
    "start_time": "2021-06-26T22:16:01.751Z"
   },
   {
    "duration": 311,
    "start_time": "2021-06-26T22:16:02.060Z"
   },
   {
    "duration": 26,
    "start_time": "2021-06-26T22:16:02.374Z"
   },
   {
    "duration": 617,
    "start_time": "2021-06-26T22:16:02.402Z"
   },
   {
    "duration": 26,
    "start_time": "2021-06-26T22:16:03.021Z"
   },
   {
    "duration": 548,
    "start_time": "2021-06-26T22:16:03.049Z"
   },
   {
    "duration": 2379,
    "start_time": "2021-06-30T11:26:26.618Z"
   },
   {
    "duration": 12283,
    "start_time": "2021-06-30T11:26:28.999Z"
   },
   {
    "duration": 39,
    "start_time": "2021-06-30T11:26:41.286Z"
   },
   {
    "duration": 80,
    "start_time": "2021-06-30T11:26:41.328Z"
   },
   {
    "duration": 84,
    "start_time": "2021-06-30T11:26:41.411Z"
   },
   {
    "duration": 95,
    "start_time": "2021-06-30T11:26:41.498Z"
   },
   {
    "duration": 26,
    "start_time": "2021-06-30T11:26:41.596Z"
   },
   {
    "duration": 48,
    "start_time": "2021-06-30T11:26:41.625Z"
   },
   {
    "duration": 80,
    "start_time": "2021-06-30T11:26:41.676Z"
   },
   {
    "duration": 23,
    "start_time": "2021-06-30T11:26:41.759Z"
   },
   {
    "duration": 120,
    "start_time": "2021-06-30T11:26:41.784Z"
   },
   {
    "duration": 62,
    "start_time": "2021-06-30T11:26:41.907Z"
   },
   {
    "duration": 30,
    "start_time": "2021-06-30T11:26:41.972Z"
   },
   {
    "duration": 422,
    "start_time": "2021-06-30T11:26:42.005Z"
   },
   {
    "duration": 40,
    "start_time": "2021-06-30T11:26:42.430Z"
   },
   {
    "duration": 24,
    "start_time": "2021-06-30T11:26:42.473Z"
   },
   {
    "duration": 117,
    "start_time": "2021-06-30T11:26:42.500Z"
   },
   {
    "duration": 46,
    "start_time": "2021-06-30T11:26:42.619Z"
   },
   {
    "duration": 18,
    "start_time": "2021-06-30T11:26:42.667Z"
   },
   {
    "duration": 26,
    "start_time": "2021-06-30T11:26:42.688Z"
   },
   {
    "duration": 80,
    "start_time": "2021-06-30T11:26:42.717Z"
   },
   {
    "duration": 61,
    "start_time": "2021-06-30T11:26:42.800Z"
   },
   {
    "duration": 90,
    "start_time": "2021-06-30T11:26:42.867Z"
   },
   {
    "duration": 50,
    "start_time": "2021-06-30T11:26:42.961Z"
   },
   {
    "duration": 123,
    "start_time": "2021-06-30T11:26:43.013Z"
   },
   {
    "duration": 62,
    "start_time": "2021-06-30T11:26:43.139Z"
   },
   {
    "duration": 53,
    "start_time": "2021-06-30T11:26:43.203Z"
   },
   {
    "duration": 81,
    "start_time": "2021-06-30T11:26:43.259Z"
   },
   {
    "duration": 611,
    "start_time": "2021-06-30T11:26:43.356Z"
   },
   {
    "duration": 65,
    "start_time": "2021-06-30T11:26:43.970Z"
   },
   {
    "duration": 610,
    "start_time": "2021-06-30T11:26:44.038Z"
   },
   {
    "duration": 35,
    "start_time": "2021-06-30T11:26:44.650Z"
   },
   {
    "duration": 698,
    "start_time": "2021-06-30T11:26:44.688Z"
   },
   {
    "duration": 35,
    "start_time": "2021-06-30T11:26:45.389Z"
   },
   {
    "duration": 1233,
    "start_time": "2021-06-30T11:26:45.426Z"
   },
   {
    "duration": 707,
    "start_time": "2021-06-30T11:26:46.662Z"
   },
   {
    "duration": 48,
    "start_time": "2021-06-30T11:26:47.372Z"
   },
   {
    "duration": 641,
    "start_time": "2021-06-30T11:26:47.423Z"
   },
   {
    "duration": 954,
    "start_time": "2021-06-30T11:26:48.067Z"
   },
   {
    "duration": 12,
    "start_time": "2021-06-30T11:26:49.024Z"
   },
   {
    "duration": 243,
    "start_time": "2021-06-30T11:26:49.056Z"
   },
   {
    "duration": 118,
    "start_time": "2021-06-30T11:26:49.302Z"
   },
   {
    "duration": 1184,
    "start_time": "2021-06-30T11:26:49.422Z"
   },
   {
    "duration": 236,
    "start_time": "2021-06-30T11:26:50.609Z"
   },
   {
    "duration": 567,
    "start_time": "2021-06-30T11:26:50.855Z"
   },
   {
    "duration": 255,
    "start_time": "2021-06-30T11:26:51.425Z"
   },
   {
    "duration": 1312,
    "start_time": "2021-06-30T11:26:51.683Z"
   },
   {
    "duration": 243,
    "start_time": "2021-06-30T11:26:52.998Z"
   },
   {
    "duration": 23,
    "start_time": "2021-06-30T11:26:53.243Z"
   },
   {
    "duration": 88,
    "start_time": "2021-06-30T11:26:53.268Z"
   },
   {
    "duration": 2536,
    "start_time": "2021-06-30T11:26:53.359Z"
   },
   {
    "duration": 746,
    "start_time": "2021-06-30T11:26:55.898Z"
   },
   {
    "duration": 422,
    "start_time": "2021-06-30T11:26:56.646Z"
   },
   {
    "duration": 291,
    "start_time": "2021-06-30T11:26:57.070Z"
   },
   {
    "duration": 1226,
    "start_time": "2021-06-30T11:26:57.364Z"
   },
   {
    "duration": 5,
    "start_time": "2021-06-30T11:26:58.593Z"
   },
   {
    "duration": 527,
    "start_time": "2021-06-30T11:26:58.600Z"
   },
   {
    "duration": 402,
    "start_time": "2021-06-30T11:26:59.130Z"
   },
   {
    "duration": 268,
    "start_time": "2021-06-30T11:26:59.534Z"
   },
   {
    "duration": 1301,
    "start_time": "2021-06-30T11:26:59.805Z"
   },
   {
    "duration": 5,
    "start_time": "2021-06-30T11:27:01.109Z"
   },
   {
    "duration": 439,
    "start_time": "2021-06-30T11:27:01.117Z"
   },
   {
    "duration": 3766,
    "start_time": "2021-06-30T11:27:01.558Z"
   },
   {
    "duration": 4,
    "start_time": "2021-06-30T11:27:05.326Z"
   },
   {
    "duration": 585,
    "start_time": "2021-06-30T11:27:05.333Z"
   },
   {
    "duration": 380,
    "start_time": "2021-06-30T11:27:05.920Z"
   },
   {
    "duration": 106,
    "start_time": "2021-06-30T11:27:06.302Z"
   },
   {
    "duration": 1473,
    "start_time": "2021-06-30T11:27:06.416Z"
   },
   {
    "duration": 683,
    "start_time": "2021-06-30T11:27:07.892Z"
   },
   {
    "duration": 833,
    "start_time": "2021-06-30T11:27:08.577Z"
   },
   {
    "duration": 3537,
    "start_time": "2021-06-30T11:27:09.412Z"
   },
   {
    "duration": 769,
    "start_time": "2021-06-30T11:27:12.955Z"
   },
   {
    "duration": 51,
    "start_time": "2021-06-30T11:27:13.727Z"
   },
   {
    "duration": 5953,
    "start_time": "2021-06-30T11:27:13.781Z"
   },
   {
    "duration": 342,
    "start_time": "2021-06-30T11:27:19.737Z"
   },
   {
    "duration": 34,
    "start_time": "2021-06-30T11:27:20.081Z"
   },
   {
    "duration": 6047,
    "start_time": "2021-06-30T11:27:20.118Z"
   },
   {
    "duration": 320,
    "start_time": "2021-06-30T11:27:26.168Z"
   },
   {
    "duration": 323,
    "start_time": "2021-06-30T11:27:26.491Z"
   },
   {
    "duration": 315,
    "start_time": "2021-06-30T11:27:26.817Z"
   },
   {
    "duration": 61,
    "start_time": "2021-06-30T11:27:27.135Z"
   },
   {
    "duration": 785,
    "start_time": "2021-06-30T11:27:27.199Z"
   },
   {
    "duration": 25,
    "start_time": "2021-06-30T11:27:27.986Z"
   },
   {
    "duration": 561,
    "start_time": "2021-06-30T11:27:28.013Z"
   },
   {
    "duration": 1675,
    "start_time": "2021-07-04T10:07:11.682Z"
   },
   {
    "duration": 298,
    "start_time": "2021-07-04T10:07:13.358Z"
   },
   {
    "duration": 36,
    "start_time": "2021-07-04T10:07:13.658Z"
   },
   {
    "duration": 9,
    "start_time": "2021-07-04T10:07:13.696Z"
   },
   {
    "duration": 13,
    "start_time": "2021-07-04T10:07:13.707Z"
   },
   {
    "duration": 8,
    "start_time": "2021-07-04T10:07:13.721Z"
   },
   {
    "duration": 27,
    "start_time": "2021-07-04T10:07:13.730Z"
   },
   {
    "duration": 46,
    "start_time": "2021-07-04T10:07:13.759Z"
   },
   {
    "duration": 16,
    "start_time": "2021-07-04T10:07:13.807Z"
   },
   {
    "duration": 9,
    "start_time": "2021-07-04T10:07:13.825Z"
   },
   {
    "duration": 19,
    "start_time": "2021-07-04T10:07:13.836Z"
   },
   {
    "duration": 469,
    "start_time": "2021-07-04T10:07:13.856Z"
   },
   {
    "duration": 357,
    "start_time": "2021-07-04T10:07:14.327Z"
   },
   {
    "duration": 79,
    "start_time": "2021-07-04T10:07:14.685Z"
   },
   {
    "duration": 46,
    "start_time": "2021-07-04T10:07:14.765Z"
   },
   {
    "duration": 39,
    "start_time": "2021-07-04T10:07:14.813Z"
   },
   {
    "duration": 17,
    "start_time": "2021-07-04T10:07:14.854Z"
   },
   {
    "duration": 29,
    "start_time": "2021-07-04T10:07:14.872Z"
   },
   {
    "duration": 3539,
    "start_time": "2021-07-04T10:07:14.902Z"
   },
   {
    "duration": 53,
    "start_time": "2021-07-04T10:07:18.442Z"
   },
   {
    "duration": 837,
    "start_time": "2021-07-04T10:07:18.496Z"
   },
   {
    "duration": 5,
    "start_time": "2021-07-04T10:07:19.334Z"
   },
   {
    "duration": 28,
    "start_time": "2021-07-04T10:07:19.342Z"
   },
   {
    "duration": 31,
    "start_time": "2021-07-04T10:07:19.371Z"
   },
   {
    "duration": 10,
    "start_time": "2021-07-04T10:07:19.403Z"
   }
  ],
  "kernelspec": {
   "display_name": "Python 3",
   "language": "python",
   "name": "python3"
  },
  "language_info": {
   "codemirror_mode": {
    "name": "ipython",
    "version": 3
   },
   "file_extension": ".py",
   "mimetype": "text/x-python",
   "name": "python",
   "nbconvert_exporter": "python",
   "pygments_lexer": "ipython3",
   "version": "3.8.8"
  },
  "latex_envs": {
   "LaTeX_envs_menu_present": true,
   "autoclose": false,
   "autocomplete": true,
   "bibliofile": "biblio.bib",
   "cite_by": "apalike",
   "current_citInitial": 1,
   "eqLabelWithNumbers": true,
   "eqNumInitial": 1,
   "hotkeys": {
    "equation": "Ctrl-E",
    "itemize": "Ctrl-I"
   },
   "labels_anchors": false,
   "latex_user_defs": false,
   "report_style_numbering": false,
   "user_envs_cfg": false
  },
  "toc": {
   "base_numbering": 1,
   "nav_menu": {
    "height": "12px",
    "width": "193px"
   },
   "number_sections": true,
   "sideBar": true,
   "skip_h1_title": true,
   "title_cell": "Table of Contents",
   "title_sidebar": "Contents",
   "toc_cell": false,
   "toc_position": {},
   "toc_section_display": true,
   "toc_window_display": false
  },
  "varInspector": {
   "cols": {
    "lenName": 16,
    "lenType": 16,
    "lenVar": 40
   },
   "kernels_config": {
    "python": {
     "delete_cmd_postfix": "",
     "delete_cmd_prefix": "del ",
     "library": "var_list.py",
     "varRefreshCmd": "print(var_dic_list())"
    },
    "r": {
     "delete_cmd_postfix": ") ",
     "delete_cmd_prefix": "rm(",
     "library": "var_list.r",
     "varRefreshCmd": "cat(var_dic_list()) "
    }
   },
   "position": {
    "height": "377px",
    "left": "1550px",
    "right": "20px",
    "top": "120px",
    "width": "350px"
   },
   "types_to_exclude": [
    "module",
    "function",
    "builtin_function_or_method",
    "instance",
    "_Feature"
   ],
   "window_display": true
  }
 },
 "nbformat": 4,
 "nbformat_minor": 2
}
