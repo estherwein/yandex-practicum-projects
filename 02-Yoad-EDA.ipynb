{
 "cells": [
  {
   "cell_type": "markdown",
   "metadata": {},
   "source": [
    "<hr style=\"border: 2px solid green;\" />\n",
    "\n",
    "Hello, Yoad!🤚 \n",
    "\n",
    "My name is Kseniya Vishnevskaya. I'm going to review your project 😊 \n",
    "\n",
    "✏️You can find my comments in <font color='green'>green</font>, <font color='orange'>yellow</font> or <font color='red'>red</font> boxes like this:\n",
    "\n",
    "<div style=\"border:solid green 2px; padding: 20px\"> <b>Success:</b><br>\n",
    "    I'm using green color if everything is done perfectly.</div>       \n",
    "<br>\n",
    "<div style=\"border:solid orange 2px; padding: 20px\"> <b>Remarks:</b><br>\n",
    "    if I can give some recommendations</div>   \n",
    "<br>\n",
    "<div style=\"border:solid red 2px; padding: 20px\"> <b>Needs fixing:</b><br>\n",
    "    if the block requires some corrections. Work can't be accepted with the red comments</div>\n",
    " \n",
    "Further in the file you can see my comments, try to take them into account when performing the next tasks. **Please, don't delete them.** :)\n",
    "\n",
    "Let's work on the project in dialogue: if you change something in the project or respond to my comments, write about it. It will be easier for me to track the changes if you highlight your comments:\n",
    "\n",
    "<div class=\"alert alert-info\" style=\"border:solid blue 2px; padding: 20px\"> <b>Student comment:</b> In the blue boxes you can leave comments and ask questions.</div>\n",
    "\n",
    "\n",
    "<hr style=\"border: 2px solid green;\" />"
   ]
  },
  {
   "cell_type": "markdown",
   "metadata": {},
   "source": [
    "### <font color='orange'>General feedback</font>"
   ]
  },
  {
   "cell_type": "markdown",
   "metadata": {},
   "source": [
    "<s><div style=\"border:solid red 2px; padding: 20px\"> <b>Needs fixing:</b><br>\n",
    "    Thank you for submitting your project 🙂  I'm glad to say that you executed your project really well. I especially liked the way you analysed the charts, wrote functions and left detailed descriptions. But there are few things that need to be corrected in your project. They're mostly minor issues that are easy to fix. You've already done a lot, I am sure you'll take care of it!</div>"
   ]
  },
  {
   "cell_type": "markdown",
   "metadata": {},
   "source": [
    "<div style=\"border:solid orange 2px; padding: 20px\"> <b>Remarks:</b><br>\n",
    "    There are some comments for further improvement. They don't mean that you did anything wrong, but they're things we wanted to point out that can help you further develop your skills. \n",
    "\n",
    "And also I leave several links that can help you to make your further projects even better:\n",
    "\n",
    "* Interesting charts in matplotlib library:\n",
    "\n",
    "    <a>https://www.machinelearningplus.com/plots/top-50-matplotlib-visualizations-the-master-plots-python/</a>\n",
    "\n",
    "*  Some information about boxplots:\n",
    "\n",
    "    <a>https://www.askpython.com/python/examples/boxplots</a>\n",
    "   \n",
    "</div>"
   ]
  },
  {
   "cell_type": "markdown",
   "metadata": {},
   "source": [
    "<div class=\"alert alert-info\" style=\"border:solid blue 2px; padding: 20px\"> \n",
    "    Hi, Kseniya👋🏼<br>\n",
    "    Thank you very much for the detailed review. Since this is my 2nd attempt at this project, I decided to start all over when I was nearly complete with the first attempt, and I think it was a smart decision considering your comments:).<br>\n",
    "    I really appreciate the links you provided, and I'm actually looking for more sources to enhance my skills along with what we learn in our course. Are there any specific places you recommend?<br>   \n",
    "</div>"
   ]
  },
  {
   "cell_type": "markdown",
   "metadata": {},
   "source": [
    "<font color='orange'> ***There are a lot of resources, so I can't recommend anything in particular. When I was studying, I was just curious about a topic, searched for articles on that topic and tried to implement the code that was written there. The whole secret of effective learning lies in curiosity. But you certainly don't have a problem with it*** :)</font>"
   ]
  },
  {
   "cell_type": "markdown",
   "metadata": {},
   "source": [
    "<div style=\"border:solid green 2px; padding: 20px\"> <b>Success V2:</b><br>\n",
    "    Thanks for sending in your project with corrections 😊. It's clear you've put a lot of effort into it. I really like that you have worked even on \"improve\" comments. And your heatmaps using the seaborn library are great.  You've done a really good job! All your hard work has paid off, and now your project is perfect! Congratulations! 🥳 Good luck on the next sprint! :)</div>"
   ]
  },
  {
   "cell_type": "markdown",
   "metadata": {},
   "source": [
    "# Research on car sales ads\n",
    "\n",
    "Crankshaft List has hundreds of posts per day.\n",
    "We need to analyze the data from the past few years and determine which factors influence the price of a vehicle. "
   ]
  },
  {
   "cell_type": "markdown",
   "metadata": {},
   "source": [
    "<div style=\"border:solid orange 2px; padding: 20px\"> <b>Remarks:</b><br>\n",
    "    Well done for not forgetting the title and description of the project task 🙂. But it is also important to include a description of the data to be worked with. \n",
    "And it is better to write the description in the form of a task. For example: \"We need to analyze data from the past few years and determine the factors that affect the price of Crankshaft List vehicles...etc. \". \n",
    "This is necessary because otherwise, the description sounds like you're giving the data to someone else to do the analysis. </div>   "
   ]
  },
  {
   "cell_type": "markdown",
   "metadata": {},
   "source": [
    "<div class=\"alert alert-info\" style=\"border:solid blue 2px; padding: 20px\"> \n",
    "    <b>Done</b><br>\n",
    "You're right and I never thought of changing that part, thank you.\n",
    "</div>"
   ]
  },
  {
   "cell_type": "markdown",
   "metadata": {},
   "source": [
    "----"
   ]
  },
  {
   "cell_type": "markdown",
   "metadata": {},
   "source": [
    "### Tables Of Contents \n",
    "<a class=\"anchor\" id=\"table_of_contents\"></a><br>\n",
    "- [**1. General Information**](#chapter1)<br>\n",
    " - [Conclusion](#chapter2)<br>\n",
    "- [**2. Data preprocessing**](#chapter3)<br>\n",
    " - [- Missing Values](#chapter4)<br>\n",
    "   - [model_year](#chapter26)<br>\n",
    "   - [cylinders](#chapter27)<br>\n",
    "   - [odometer](#chapter28)<br>\n",
    "   - [paint_color](#chapter29)<br>\n",
    "   - [is_4wd](#chapter30)<br>\n",
    " - [- Duplicated Values](#chapter5)<br>\n",
    " - [- Changing Data Types](#chapter6)<br>\n",
    "- [**3. Make calculations and add them to the table**](#chapter7)<br>\n",
    " - [- Adding: day of the week, month, and year](#chapter8)<br>\n",
    " - [- Adding: vehicle's age (in years)](#chapter9)<br>\n",
    " - [- Adding: average mileage per year](#chapter10)<br>\n",
    " - [- Replacing: conditions with numaeric scale](#chapter11)<br>\n",
    "- [**4. Carry out exploratory data analysis**](#chapter12)<br>\n",
    " - [- Study the following parameters](#chapter13)<br>\n",
    "   - [Price](#chapter14)<br>\n",
    "   - [Vehicle age when posted](#chapter15)<br>\n",
    "   - [Mileage](#chapter16)<br>\n",
    "   - [Cylinders](#chapter17)<br>\n",
    "   - [Condition](#chapter18)<br>\n",
    " - [- Outliers](#chapter19)<br>\n",
    "   - [Price](#chapter31)<br>\n",
    "   - [Vehicle age](#chapter32)<br>\n",
    "   - [Mileage](#chapter33)<br>\n",
    "   - [Cylinders](#chapter34)<br>\n",
    "   - [Condition](#chapter35)<br>\n",
    " - [- Filtered Data](#chapter20)<br>\n",
    "   - [Price](#chapter36)<br>\n",
    "   - [Vehicle](#chapter37)<br>\n",
    "   - [Mileage](#chapter38)<br>\n",
    " - [- Ads Span](#chapter21)<br>\n",
    "   - [Study](#chapter22)<br>\n",
    "   - [Analyze](#chapter23)<br>\n",
    " - [- Factors affecting price](#chapter24)<br>\n",
    "- [**5. Overall conclusion**](#chapter25)<br>"
   ]
  },
  {
   "cell_type": "markdown",
   "metadata": {},
   "source": [
    "----"
   ]
  },
  {
   "cell_type": "markdown",
   "metadata": {},
   "source": [
    "<div style=\"border:solid green 2px; padding: 20px\"> <b>Success:</b><br>\n",
    "    Well done for writing tables of contents 👍 </div> "
   ]
  },
  {
   "cell_type": "markdown",
   "metadata": {},
   "source": [
    "----"
   ]
  },
  {
   "cell_type": "markdown",
   "metadata": {},
   "source": [
    "## 1. Open the data file and study the general information. \n",
    "<a class=\"anchor\" id=\"chapter1\"></a>\n",
    "[Go back to the Table of Contents](#table_of_contents)"
   ]
  },
  {
   "cell_type": "code",
   "execution_count": 1,
   "metadata": {},
   "outputs": [],
   "source": [
    "# Importing pandas libarary.\n",
    "import pandas as pd\n",
    "\n",
    "# Importing NumPy library.\n",
    "import numpy as np\n",
    "\n",
    "# Importing matplotlib libarary.\n",
    "import matplotlib.pyplot as plt\n",
    "\n",
    "#importing seaborn library.\n",
    "import seaborn as sns"
   ]
  },
  {
   "cell_type": "code",
   "execution_count": 2,
   "metadata": {},
   "outputs": [],
   "source": [
    "# Utilizing try-except mathod in order to be able to load the 'vehicles_us.csv' on the platform,\n",
    "# as well as on my local computer.\n",
    "\n",
    "try:\n",
    "    #saving the data provided in the .csv in the variable vehicles_data(locally)\n",
    "    vehicles_data = pd.read_csv('vehicles_us.csv')\n",
    "    \n",
    "except:\n",
    "    \n",
    "    #saving the data provided in the .csv in the variable vehicles_data(platform)\n",
    "    vehicles_data = pd.read_csv('/datasets/vehicles_us.csv')"
   ]
  },
  {
   "cell_type": "markdown",
   "metadata": {},
   "source": [
    "<div style=\"border:solid green 2px; padding: 20px\"> <b>Success:</b><br>\n",
    "    Very well that you keep all libraries in a separate cell and use try-except method 👍 </div>  "
   ]
  },
  {
   "cell_type": "code",
   "execution_count": 3,
   "metadata": {},
   "outputs": [
    {
     "name": "stdout",
     "output_type": "stream",
     "text": [
      "<class 'pandas.core.frame.DataFrame'>\n",
      "RangeIndex: 51525 entries, 0 to 51524\n",
      "Data columns (total 13 columns):\n",
      "price           51525 non-null int64\n",
      "model_year      47906 non-null float64\n",
      "model           51525 non-null object\n",
      "condition       51525 non-null object\n",
      "cylinders       46265 non-null float64\n",
      "fuel            51525 non-null object\n",
      "odometer        43633 non-null float64\n",
      "transmission    51525 non-null object\n",
      "type            51525 non-null object\n",
      "paint_color     42258 non-null object\n",
      "is_4wd          25572 non-null float64\n",
      "date_posted     51525 non-null object\n",
      "days_listed     51525 non-null int64\n",
      "dtypes: float64(4), int64(2), object(7)\n",
      "memory usage: 5.1+ MB\n"
     ]
    }
   ],
   "source": [
    "# Let's first take a closer look at the whole data set and look for any missing values as well as the data types.\n",
    "vehicles_data.info()"
   ]
  },
  {
   "cell_type": "code",
   "execution_count": 4,
   "metadata": {},
   "outputs": [
    {
     "data": {
      "text/html": [
       "<div>\n",
       "<style scoped>\n",
       "    .dataframe tbody tr th:only-of-type {\n",
       "        vertical-align: middle;\n",
       "    }\n",
       "\n",
       "    .dataframe tbody tr th {\n",
       "        vertical-align: top;\n",
       "    }\n",
       "\n",
       "    .dataframe thead th {\n",
       "        text-align: right;\n",
       "    }\n",
       "</style>\n",
       "<table border=\"1\" class=\"dataframe\">\n",
       "  <thead>\n",
       "    <tr style=\"text-align: right;\">\n",
       "      <th></th>\n",
       "      <th>price</th>\n",
       "      <th>model_year</th>\n",
       "      <th>model</th>\n",
       "      <th>condition</th>\n",
       "      <th>cylinders</th>\n",
       "      <th>fuel</th>\n",
       "      <th>odometer</th>\n",
       "      <th>transmission</th>\n",
       "      <th>type</th>\n",
       "      <th>paint_color</th>\n",
       "      <th>is_4wd</th>\n",
       "      <th>date_posted</th>\n",
       "      <th>days_listed</th>\n",
       "    </tr>\n",
       "  </thead>\n",
       "  <tbody>\n",
       "    <tr>\n",
       "      <td>0</td>\n",
       "      <td>9400</td>\n",
       "      <td>2011.0</td>\n",
       "      <td>bmw x5</td>\n",
       "      <td>good</td>\n",
       "      <td>6.0</td>\n",
       "      <td>gas</td>\n",
       "      <td>145000.0</td>\n",
       "      <td>automatic</td>\n",
       "      <td>SUV</td>\n",
       "      <td>NaN</td>\n",
       "      <td>1.0</td>\n",
       "      <td>2018-06-23</td>\n",
       "      <td>19</td>\n",
       "    </tr>\n",
       "    <tr>\n",
       "      <td>1</td>\n",
       "      <td>25500</td>\n",
       "      <td>NaN</td>\n",
       "      <td>ford f-150</td>\n",
       "      <td>good</td>\n",
       "      <td>6.0</td>\n",
       "      <td>gas</td>\n",
       "      <td>88705.0</td>\n",
       "      <td>automatic</td>\n",
       "      <td>pickup</td>\n",
       "      <td>white</td>\n",
       "      <td>1.0</td>\n",
       "      <td>2018-10-19</td>\n",
       "      <td>50</td>\n",
       "    </tr>\n",
       "    <tr>\n",
       "      <td>2</td>\n",
       "      <td>5500</td>\n",
       "      <td>2013.0</td>\n",
       "      <td>hyundai sonata</td>\n",
       "      <td>like new</td>\n",
       "      <td>4.0</td>\n",
       "      <td>gas</td>\n",
       "      <td>110000.0</td>\n",
       "      <td>automatic</td>\n",
       "      <td>sedan</td>\n",
       "      <td>red</td>\n",
       "      <td>NaN</td>\n",
       "      <td>2019-02-07</td>\n",
       "      <td>79</td>\n",
       "    </tr>\n",
       "    <tr>\n",
       "      <td>3</td>\n",
       "      <td>1500</td>\n",
       "      <td>2003.0</td>\n",
       "      <td>ford f-150</td>\n",
       "      <td>fair</td>\n",
       "      <td>8.0</td>\n",
       "      <td>gas</td>\n",
       "      <td>NaN</td>\n",
       "      <td>automatic</td>\n",
       "      <td>pickup</td>\n",
       "      <td>NaN</td>\n",
       "      <td>NaN</td>\n",
       "      <td>2019-03-22</td>\n",
       "      <td>9</td>\n",
       "    </tr>\n",
       "    <tr>\n",
       "      <td>4</td>\n",
       "      <td>14900</td>\n",
       "      <td>2017.0</td>\n",
       "      <td>chrysler 200</td>\n",
       "      <td>excellent</td>\n",
       "      <td>4.0</td>\n",
       "      <td>gas</td>\n",
       "      <td>80903.0</td>\n",
       "      <td>automatic</td>\n",
       "      <td>sedan</td>\n",
       "      <td>black</td>\n",
       "      <td>NaN</td>\n",
       "      <td>2019-04-02</td>\n",
       "      <td>28</td>\n",
       "    </tr>\n",
       "    <tr>\n",
       "      <td>5</td>\n",
       "      <td>14990</td>\n",
       "      <td>2014.0</td>\n",
       "      <td>chrysler 300</td>\n",
       "      <td>excellent</td>\n",
       "      <td>6.0</td>\n",
       "      <td>gas</td>\n",
       "      <td>57954.0</td>\n",
       "      <td>automatic</td>\n",
       "      <td>sedan</td>\n",
       "      <td>black</td>\n",
       "      <td>1.0</td>\n",
       "      <td>2018-06-20</td>\n",
       "      <td>15</td>\n",
       "    </tr>\n",
       "    <tr>\n",
       "      <td>6</td>\n",
       "      <td>12990</td>\n",
       "      <td>2015.0</td>\n",
       "      <td>toyota camry</td>\n",
       "      <td>excellent</td>\n",
       "      <td>4.0</td>\n",
       "      <td>gas</td>\n",
       "      <td>79212.0</td>\n",
       "      <td>automatic</td>\n",
       "      <td>sedan</td>\n",
       "      <td>white</td>\n",
       "      <td>NaN</td>\n",
       "      <td>2018-12-27</td>\n",
       "      <td>73</td>\n",
       "    </tr>\n",
       "    <tr>\n",
       "      <td>7</td>\n",
       "      <td>15990</td>\n",
       "      <td>2013.0</td>\n",
       "      <td>honda pilot</td>\n",
       "      <td>excellent</td>\n",
       "      <td>6.0</td>\n",
       "      <td>gas</td>\n",
       "      <td>109473.0</td>\n",
       "      <td>automatic</td>\n",
       "      <td>SUV</td>\n",
       "      <td>black</td>\n",
       "      <td>1.0</td>\n",
       "      <td>2019-01-07</td>\n",
       "      <td>68</td>\n",
       "    </tr>\n",
       "    <tr>\n",
       "      <td>8</td>\n",
       "      <td>11500</td>\n",
       "      <td>2012.0</td>\n",
       "      <td>kia sorento</td>\n",
       "      <td>excellent</td>\n",
       "      <td>4.0</td>\n",
       "      <td>gas</td>\n",
       "      <td>104174.0</td>\n",
       "      <td>automatic</td>\n",
       "      <td>SUV</td>\n",
       "      <td>NaN</td>\n",
       "      <td>1.0</td>\n",
       "      <td>2018-07-16</td>\n",
       "      <td>19</td>\n",
       "    </tr>\n",
       "    <tr>\n",
       "      <td>9</td>\n",
       "      <td>9200</td>\n",
       "      <td>2008.0</td>\n",
       "      <td>honda pilot</td>\n",
       "      <td>excellent</td>\n",
       "      <td>NaN</td>\n",
       "      <td>gas</td>\n",
       "      <td>147191.0</td>\n",
       "      <td>automatic</td>\n",
       "      <td>SUV</td>\n",
       "      <td>blue</td>\n",
       "      <td>1.0</td>\n",
       "      <td>2019-02-15</td>\n",
       "      <td>17</td>\n",
       "    </tr>\n",
       "  </tbody>\n",
       "</table>\n",
       "</div>"
      ],
      "text/plain": [
       "   price  model_year           model  condition  cylinders fuel  odometer  \\\n",
       "0   9400      2011.0          bmw x5       good        6.0  gas  145000.0   \n",
       "1  25500         NaN      ford f-150       good        6.0  gas   88705.0   \n",
       "2   5500      2013.0  hyundai sonata   like new        4.0  gas  110000.0   \n",
       "3   1500      2003.0      ford f-150       fair        8.0  gas       NaN   \n",
       "4  14900      2017.0    chrysler 200  excellent        4.0  gas   80903.0   \n",
       "5  14990      2014.0    chrysler 300  excellent        6.0  gas   57954.0   \n",
       "6  12990      2015.0    toyota camry  excellent        4.0  gas   79212.0   \n",
       "7  15990      2013.0     honda pilot  excellent        6.0  gas  109473.0   \n",
       "8  11500      2012.0     kia sorento  excellent        4.0  gas  104174.0   \n",
       "9   9200      2008.0     honda pilot  excellent        NaN  gas  147191.0   \n",
       "\n",
       "  transmission    type paint_color  is_4wd date_posted  days_listed  \n",
       "0    automatic     SUV         NaN     1.0  2018-06-23           19  \n",
       "1    automatic  pickup       white     1.0  2018-10-19           50  \n",
       "2    automatic   sedan         red     NaN  2019-02-07           79  \n",
       "3    automatic  pickup         NaN     NaN  2019-03-22            9  \n",
       "4    automatic   sedan       black     NaN  2019-04-02           28  \n",
       "5    automatic   sedan       black     1.0  2018-06-20           15  \n",
       "6    automatic   sedan       white     NaN  2018-12-27           73  \n",
       "7    automatic     SUV       black     1.0  2019-01-07           68  \n",
       "8    automatic     SUV         NaN     1.0  2018-07-16           19  \n",
       "9    automatic     SUV        blue     1.0  2019-02-15           17  "
      ]
     },
     "execution_count": 4,
     "metadata": {},
     "output_type": "execute_result"
    }
   ],
   "source": [
    "#printing the first 10 rows of the table to take a look at the data.\n",
    "vehicles_data.head(10)"
   ]
  },
  {
   "cell_type": "code",
   "execution_count": 5,
   "metadata": {},
   "outputs": [
    {
     "data": {
      "text/html": [
       "<div>\n",
       "<style scoped>\n",
       "    .dataframe tbody tr th:only-of-type {\n",
       "        vertical-align: middle;\n",
       "    }\n",
       "\n",
       "    .dataframe tbody tr th {\n",
       "        vertical-align: top;\n",
       "    }\n",
       "\n",
       "    .dataframe thead th {\n",
       "        text-align: right;\n",
       "    }\n",
       "</style>\n",
       "<table border=\"1\" class=\"dataframe\">\n",
       "  <thead>\n",
       "    <tr style=\"text-align: right;\">\n",
       "      <th></th>\n",
       "      <th>count</th>\n",
       "      <th>mean</th>\n",
       "      <th>std</th>\n",
       "      <th>min</th>\n",
       "      <th>25%</th>\n",
       "      <th>50%</th>\n",
       "      <th>75%</th>\n",
       "      <th>max</th>\n",
       "    </tr>\n",
       "  </thead>\n",
       "  <tbody>\n",
       "    <tr>\n",
       "      <td>price</td>\n",
       "      <td>51525.0</td>\n",
       "      <td>12132.464920</td>\n",
       "      <td>10040.803015</td>\n",
       "      <td>1.0</td>\n",
       "      <td>5000.0</td>\n",
       "      <td>9000.0</td>\n",
       "      <td>16839.0</td>\n",
       "      <td>375000.0</td>\n",
       "    </tr>\n",
       "    <tr>\n",
       "      <td>model_year</td>\n",
       "      <td>47906.0</td>\n",
       "      <td>2009.750470</td>\n",
       "      <td>6.282065</td>\n",
       "      <td>1908.0</td>\n",
       "      <td>2006.0</td>\n",
       "      <td>2011.0</td>\n",
       "      <td>2014.0</td>\n",
       "      <td>2019.0</td>\n",
       "    </tr>\n",
       "    <tr>\n",
       "      <td>cylinders</td>\n",
       "      <td>46265.0</td>\n",
       "      <td>6.125235</td>\n",
       "      <td>1.660360</td>\n",
       "      <td>3.0</td>\n",
       "      <td>4.0</td>\n",
       "      <td>6.0</td>\n",
       "      <td>8.0</td>\n",
       "      <td>12.0</td>\n",
       "    </tr>\n",
       "    <tr>\n",
       "      <td>odometer</td>\n",
       "      <td>43633.0</td>\n",
       "      <td>115553.461738</td>\n",
       "      <td>65094.611341</td>\n",
       "      <td>0.0</td>\n",
       "      <td>70000.0</td>\n",
       "      <td>113000.0</td>\n",
       "      <td>155000.0</td>\n",
       "      <td>990000.0</td>\n",
       "    </tr>\n",
       "    <tr>\n",
       "      <td>is_4wd</td>\n",
       "      <td>25572.0</td>\n",
       "      <td>1.000000</td>\n",
       "      <td>0.000000</td>\n",
       "      <td>1.0</td>\n",
       "      <td>1.0</td>\n",
       "      <td>1.0</td>\n",
       "      <td>1.0</td>\n",
       "      <td>1.0</td>\n",
       "    </tr>\n",
       "    <tr>\n",
       "      <td>days_listed</td>\n",
       "      <td>51525.0</td>\n",
       "      <td>39.554760</td>\n",
       "      <td>28.204270</td>\n",
       "      <td>0.0</td>\n",
       "      <td>19.0</td>\n",
       "      <td>33.0</td>\n",
       "      <td>53.0</td>\n",
       "      <td>271.0</td>\n",
       "    </tr>\n",
       "  </tbody>\n",
       "</table>\n",
       "</div>"
      ],
      "text/plain": [
       "               count           mean           std     min      25%       50%  \\\n",
       "price        51525.0   12132.464920  10040.803015     1.0   5000.0    9000.0   \n",
       "model_year   47906.0    2009.750470      6.282065  1908.0   2006.0    2011.0   \n",
       "cylinders    46265.0       6.125235      1.660360     3.0      4.0       6.0   \n",
       "odometer     43633.0  115553.461738  65094.611341     0.0  70000.0  113000.0   \n",
       "is_4wd       25572.0       1.000000      0.000000     1.0      1.0       1.0   \n",
       "days_listed  51525.0      39.554760     28.204270     0.0     19.0      33.0   \n",
       "\n",
       "                  75%       max  \n",
       "price         16839.0  375000.0  \n",
       "model_year     2014.0    2019.0  \n",
       "cylinders         8.0      12.0  \n",
       "odometer     155000.0  990000.0  \n",
       "is_4wd            1.0       1.0  \n",
       "days_listed      53.0     271.0  "
      ]
     },
     "execution_count": 5,
     "metadata": {},
     "output_type": "execute_result"
    }
   ],
   "source": [
    "# We can now use describe() to get even more details about our data.\n",
    "vehicles_data.describe().T"
   ]
  },
  {
   "cell_type": "markdown",
   "metadata": {},
   "source": [
    "<s><div style=\"border:solid orange 2px; padding: 20px\"> <b>Remarks:</b><br>\n",
    "\n",
    "  The `describe()` function is very useful in getting to know the data. In this case, it looks much more indicative if the output is expanded by `df.describe().T`. \n",
    "</div>   "
   ]
  },
  {
   "cell_type": "markdown",
   "metadata": {},
   "source": [
    "<div class=\"alert alert-info\" style=\"border:solid blue 2px; padding: 20px\"> \n",
    "    <b>Done</b><br>\n",
    "I agree, I wasn'r aware of .T<br> \n",
    "    what does it stands for? transform?🤔\n",
    "</div>"
   ]
  },
  {
   "cell_type": "markdown",
   "metadata": {},
   "source": [
    "<div style=\"border:solid green 2px; padding: 20px\"> <b>Success V2:</b><br>\n",
    "    Yes, absolutely right :)\n",
    "    \n",
    "Now it looks better. Thanks for the corrections 😊     \n",
    "    </div>       "
   ]
  },
  {
   "cell_type": "code",
   "execution_count": 6,
   "metadata": {},
   "outputs": [
    {
     "data": {
      "text/html": [
       "<div>\n",
       "<style scoped>\n",
       "    .dataframe tbody tr th:only-of-type {\n",
       "        vertical-align: middle;\n",
       "    }\n",
       "\n",
       "    .dataframe tbody tr th {\n",
       "        vertical-align: top;\n",
       "    }\n",
       "\n",
       "    .dataframe thead th {\n",
       "        text-align: right;\n",
       "    }\n",
       "</style>\n",
       "<table border=\"1\" class=\"dataframe\">\n",
       "  <thead>\n",
       "    <tr style=\"text-align: right;\">\n",
       "      <th></th>\n",
       "      <th>model</th>\n",
       "      <th>condition</th>\n",
       "      <th>fuel</th>\n",
       "      <th>transmission</th>\n",
       "      <th>type</th>\n",
       "      <th>paint_color</th>\n",
       "      <th>date_posted</th>\n",
       "    </tr>\n",
       "  </thead>\n",
       "  <tbody>\n",
       "    <tr>\n",
       "      <td>count</td>\n",
       "      <td>51525</td>\n",
       "      <td>51525</td>\n",
       "      <td>51525</td>\n",
       "      <td>51525</td>\n",
       "      <td>51525</td>\n",
       "      <td>42258</td>\n",
       "      <td>51525</td>\n",
       "    </tr>\n",
       "    <tr>\n",
       "      <td>unique</td>\n",
       "      <td>100</td>\n",
       "      <td>6</td>\n",
       "      <td>5</td>\n",
       "      <td>3</td>\n",
       "      <td>13</td>\n",
       "      <td>12</td>\n",
       "      <td>354</td>\n",
       "    </tr>\n",
       "    <tr>\n",
       "      <td>top</td>\n",
       "      <td>ford f-150</td>\n",
       "      <td>excellent</td>\n",
       "      <td>gas</td>\n",
       "      <td>automatic</td>\n",
       "      <td>SUV</td>\n",
       "      <td>white</td>\n",
       "      <td>2019-03-17</td>\n",
       "    </tr>\n",
       "    <tr>\n",
       "      <td>freq</td>\n",
       "      <td>2796</td>\n",
       "      <td>24773</td>\n",
       "      <td>47288</td>\n",
       "      <td>46902</td>\n",
       "      <td>12405</td>\n",
       "      <td>10029</td>\n",
       "      <td>186</td>\n",
       "    </tr>\n",
       "  </tbody>\n",
       "</table>\n",
       "</div>"
      ],
      "text/plain": [
       "             model  condition   fuel transmission   type paint_color  \\\n",
       "count        51525      51525  51525        51525  51525       42258   \n",
       "unique         100          6      5            3     13          12   \n",
       "top     ford f-150  excellent    gas    automatic    SUV       white   \n",
       "freq          2796      24773  47288        46902  12405       10029   \n",
       "\n",
       "       date_posted  \n",
       "count        51525  \n",
       "unique         354  \n",
       "top     2019-03-17  \n",
       "freq           186  "
      ]
     },
     "execution_count": 6,
     "metadata": {},
     "output_type": "execute_result"
    }
   ],
   "source": [
    "# Using describe() method to check for all 'object' types.\n",
    "vehicles_data.describe(include='object')"
   ]
  },
  {
   "cell_type": "markdown",
   "metadata": {},
   "source": [
    "<div style=\"border:solid green 2px; padding: 20px\"> <b>Success:</b><br>\n",
    "    \n",
    "   Wow, it's really great that you use the `include` argument for analysis categorical values 🙂\n",
    "    </div> "
   ]
  },
  {
   "cell_type": "code",
   "execution_count": 7,
   "metadata": {},
   "outputs": [],
   "source": [
    "# Creating a copy of the data so it could be manipulated without affecting the original variable, \n",
    "# in case something will go wrong.\n",
    "vehicles_data_copy = vehicles_data.copy(deep=True)"
   ]
  },
  {
   "cell_type": "markdown",
   "metadata": {},
   "source": [
    "### Conclusion\n",
    "<a class=\"anchor\" id=\"chapter2\"></a>\n",
    "[Go back to the Table of Contents](#table_of_contents)"
   ]
  },
  {
   "cell_type": "markdown",
   "metadata": {},
   "source": [
    "<div class=\"alert alert-block alert-info\">\n",
    "The first thing we notice about the data is that there are missing values in the columns:<br>\n",
    "    - model_year<br>\n",
    "    - cylinders<br>\n",
    "    - odometer<br>\n",
    "    - paint_color<br>\n",
    "    - is_4wd<br>\n",
    "In addition, there are columns that need to be of a different data type:<br>\n",
    "    - Model_year,=> integer, since the float point has no significance.<br>\n",
    "    - cylinders, => integer, because you can't have a part of a cylinder.<br>\n",
    "    - odometer, => integer, It could be left as a float, but I would suggest rounding the numbers.<br>\n",
    "    - Is_4wd, => 'bool' since it's either 4 wheel drive or it's not.<br>\n",
    "    - Date_posted => 'date_time', because we want to calculate from the time the post was made.\n",
    "</div>"
   ]
  },
  {
   "cell_type": "markdown",
   "metadata": {},
   "source": [
    "<div style=\"border:solid green 2px; padding: 20px\"> <b>Success:</b><br>\n",
    "    Well done for describing data omissions and data types you will work within the project ☺️</div> "
   ]
  },
  {
   "cell_type": "markdown",
   "metadata": {},
   "source": [
    "----"
   ]
  },
  {
   "cell_type": "markdown",
   "metadata": {},
   "source": [
    "## 2. Data preprocessing\n",
    "<a class=\"anchor\" id=\"chapter3\"></a>\n",
    "[Go back to the Table of Contents](#table_of_contents)"
   ]
  },
  {
   "cell_type": "markdown",
   "metadata": {},
   "source": [
    "### Missing Values\n",
    "<a class=\"anchor\" id=\"chapter4\"></a>\n",
    "[Go back to the Table of Contents](#table_of_contents)"
   ]
  },
  {
   "cell_type": "code",
   "execution_count": 8,
   "metadata": {},
   "outputs": [
    {
     "data": {
      "text/plain": [
       "price               0\n",
       "model_year       3619\n",
       "model               0\n",
       "condition           0\n",
       "cylinders        5260\n",
       "fuel                0\n",
       "odometer         7892\n",
       "transmission        0\n",
       "type                0\n",
       "paint_color      9267\n",
       "is_4wd          25953\n",
       "date_posted         0\n",
       "days_listed         0\n",
       "dtype: int64"
      ]
     },
     "execution_count": 8,
     "metadata": {},
     "output_type": "execute_result"
    }
   ],
   "source": [
    "# Looking at the amount of missing values per column.\n",
    "vehicles_data_copy.isna().sum()"
   ]
  },
  {
   "cell_type": "markdown",
   "metadata": {},
   "source": [
    "<div style=\"border:solid orange 2px; padding: 20px\"> <b>Remarks:</b><br>\n",
    "   You can also use the missingno library to view missing values. I'll leave a link, perhaps you'll be interested:\n",
    "<a>https://github.com/ResidentMario/missingno</a>\n",
    "</div>    "
   ]
  },
  {
   "cell_type": "markdown",
   "metadata": {},
   "source": [
    "<div class=\"alert alert-info\" style=\"border:solid blue 2px; padding: 20px\"> \n",
    "Thank you for the link, I have not delved into it yet, but I will attempt to implement it in the future:)\n",
    "</div>"
   ]
  },
  {
   "cell_type": "markdown",
   "metadata": {},
   "source": [
    "<div style=\"border:solid green 2px; padding: 20px\"> <b>Success V2:</b><br>\n",
    "    👍 </div>       "
   ]
  },
  {
   "cell_type": "markdown",
   "metadata": {},
   "source": [
    "The missing values, except for 'is_4wd' and 'paint_color', are largely negligible. However, I will not discard these rows as they may contain important information.\n",
    "\n",
    "- 'model_year' will probably be filled by popular year for that model. I know it isn't an accurate guess, but I feel comfortable with it because it wouldn't skew the data too much.\n",
    "- I'll do the same for 'cylinders'.\n",
    "- I'll use the most common value per year for odometer.\n",
    "- It's hard to do anything with 'paint_color' because it's almost impossible to guess the color based on other colors, but I'll fill in the missing data with \"other\" so it can be grouped later.\n",
    "- According to its description, 'is_4wd' should be a bool, so my best guess is to determine if I can fill the missing values with either 1 or 0."
   ]
  },
  {
   "cell_type": "markdown",
   "metadata": {},
   "source": [
    "#### model_year\n",
    "<a class=\"anchor\" id=\"chapter26\"></a>\n",
    "[Go back to the Table of Contents](#table_of_contents)"
   ]
  },
  {
   "cell_type": "code",
   "execution_count": 9,
   "metadata": {},
   "outputs": [],
   "source": [
    "# Looking for the most common year per model, and saving it into a dictionary.\n",
    "common_model_year = (vehicles_data_copy\n",
    "                     .groupby('model')['model_year'] #grouping by model, working on 'model_year'.\n",
    "                     .agg(lambda model: model.mode()[0]).to_dict() # returns the most common value (year) per model and making a dictionary, \n",
    "                                                                   # the key is the model the value is the most common year.\n",
    "                    )"
   ]
  },
  {
   "cell_type": "code",
   "execution_count": 10,
   "metadata": {},
   "outputs": [],
   "source": [
    "# A function that looks for null in 'model_year' and fills them with the most common year for that model from\n",
    "# 'common_model_year' dictionary.\n",
    "def year_fill(data):\n",
    "    year = data['model_year'] # year get the 'model_year' column.\n",
    "    if pd.isnull(year):       #Checking if year is null.\n",
    "        return common_model_year.get(data['model']) #if year is null then the return value is the most common year for that model\n",
    "    return data['model_year'] #if it is not null it returns the value that was already there, so it remains unchanged.\n",
    "\n",
    "vehicles_data_copy['model_year'] = vehicles_data_copy.apply(year_fill, axis=1) # calling 'year_fill' function on 'model_year'."
   ]
  },
  {
   "cell_type": "markdown",
   "metadata": {},
   "source": [
    "<div style=\"border:solid green 2px; padding: 20px\"> <b>Success:</b><br>\n",
    "   \n",
    "   Well done for filling in the missing values in `model_year` column using model grouping. And it's great that you know how to use lambda functions 👍  </div>  "
   ]
  },
  {
   "cell_type": "code",
   "execution_count": 12,
   "metadata": {},
   "outputs": [
    {
     "name": "stdout",
     "output_type": "stream",
     "text": [
      "Number of missing values in the model year column: 0\n"
     ]
    }
   ],
   "source": [
    "print(\"Number of missing values in the model year column: {:.0f}\"\n",
    "      .format(vehicles_data_copy['model_year'].isna().sum()))"
   ]
  },
  {
   "cell_type": "markdown",
   "metadata": {},
   "source": [
    "<div class=\"alert alert-block alert-info\">\n",
    "In 'model_year', there are no missing values; it has been filled with the most common model year for each model.\n",
    "</div>"
   ]
  },
  {
   "cell_type": "markdown",
   "metadata": {},
   "source": [
    "<div style=\"border:solid orange 2px; padding: 20px\"> <b>Remarks:</b><br>\n",
    "  \n",
    "   For better readability it is better to use the number description in `print()` using outputs formatting. This article can help you:\n",
    "    https://www.geeksforgeeks.org/python-output-formatting/</div> "
   ]
  },
  {
   "cell_type": "markdown",
   "metadata": {},
   "source": [
    "<div class=\"alert alert-info\" style=\"border:solid blue 2px; padding: 20px\"> \n",
    "I'm not sure I understand what you mean, do you mean that the conclusion in the blue box should be easier to read? ot the output for checking uf there are any missing values left?🧐\n",
    "</div>"
   ]
  },
  {
   "cell_type": "markdown",
   "metadata": {},
   "source": [
    "<div style=\"border:solid orange 2px; padding: 20px\"> <b>Remarks V2:</b><br>\n",
    "    \n",
    "   No, not exactly. My comment refers to the cell `vehicles_data_copy['model_year'].isna().sum()`.\n",
    "    You can write:\n",
    "    \n",
    "`print(\"Number of missing values in the model year column: {:.0f}\".format(vehicles_data_copy['model_year'].isna().sum()))`\n",
    "    \n",
    "</div>  "
   ]
  },
  {
   "cell_type": "markdown",
   "metadata": {},
   "source": [
    "#### cylinders\n",
    "<a class=\"anchor\" id=\"chapter27\"></a>\n",
    "[Go back to the Table of Contents](#table_of_contents)"
   ]
  },
  {
   "cell_type": "code",
   "execution_count": 12,
   "metadata": {},
   "outputs": [],
   "source": [
    "# Looking for the most common 'cylinder' type per model, and saving it into a dictionary.\n",
    "common_cylinders = (vehicles_data_copy\n",
    "                     .groupby('model')['cylinders'] #grouping by model, working on 'cylinder'.\n",
    "                     .agg(lambda cyl: cyl.mode()[0]).to_dict() # returns the most common value (cylinder) per model and making a dictionary, \n",
    "                                                                   # the key is the model the value is the most common cylinder type.\n",
    "                    )"
   ]
  },
  {
   "cell_type": "code",
   "execution_count": 13,
   "metadata": {},
   "outputs": [],
   "source": [
    "# A function that looks for null in 'cylinders' and fills them with the most common 'cylinder' type for that model from\n",
    "# 'common_cylinders' dictionary.\n",
    "def cylinders_fill(data):\n",
    "    cylinders = data['cylinders'] # cylindrs get the 'cylinders' column.\n",
    "    if pd.isnull(cylinders):      # Checking if 'cylinders' is null.\n",
    "        return common_cylinders.get(data['model']) #if 'cylinders' is null then the return value is the most common cylinders for that model\n",
    "    return data['cylinders'] #if it is not null it returns the value that was already there, so it remains unchanged.\n",
    "\n",
    "vehicles_data_copy['cylinders'] = vehicles_data_copy.apply(cylinders_fill, axis=1) # calling 'cylinders_fill' function on 'cylinders'."
   ]
  },
  {
   "cell_type": "code",
   "execution_count": 14,
   "metadata": {},
   "outputs": [
    {
     "data": {
      "text/plain": [
       "0"
      ]
     },
     "execution_count": 14,
     "metadata": {},
     "output_type": "execute_result"
    }
   ],
   "source": [
    "vehicles_data_copy['cylinders'].isna().sum()"
   ]
  },
  {
   "cell_type": "markdown",
   "metadata": {},
   "source": [
    "<div class=\"alert alert-block alert-info\">\n",
    "'Cylinders' isn't missing any values; it's filled with the most common cylinder type for each model.\n",
    "</div>"
   ]
  },
  {
   "cell_type": "markdown",
   "metadata": {},
   "source": [
    "<div style=\"border:solid green 2px; padding: 20px\"> <b>Success:</b><br>\n",
    "    \n",
    "   Yes, I agree. Filling in the missing values in the `cylinders` column with mode or median using a grouping by car model looks appropriate.</div> "
   ]
  },
  {
   "cell_type": "markdown",
   "metadata": {},
   "source": [
    "#### odometer\n",
    "<a class=\"anchor\" id=\"chapter28\"></a>\n",
    "[Go back to the Table of Contents](#table_of_contents)"
   ]
  },
  {
   "cell_type": "code",
   "execution_count": 15,
   "metadata": {},
   "outputs": [
    {
     "name": "stderr",
     "output_type": "stream",
     "text": [
      "/opt/conda/lib/python3.7/site-packages/numpy/lib/nanfunctions.py:1111: RuntimeWarning: Mean of empty slice\n",
      "  return np.nanmean(a, axis, out=out, keepdims=keepdims)\n"
     ]
    },
    {
     "name": "stdout",
     "output_type": "stream",
     "text": [
      "missing values: 83\n"
     ]
    }
   ],
   "source": [
    "# Filling missing values in 'odometer' by the median of the model in that specific year.\n",
    "vehicles_data_copy['odometer'] = (vehicles_data_copy\n",
    "                                  .groupby(['model','model_year'])['odometer']\n",
    "                                  .transform(lambda odo: odo.fillna(odo.median()))\n",
    "                                 )\n",
    "print('missing values:', vehicles_data_copy['odometer'].isna().sum())"
   ]
  },
  {
   "cell_type": "markdown",
   "metadata": {},
   "source": [
    "There are still missing values, I guess there are rows where both of model and model_year have missing value in odometer."
   ]
  },
  {
   "cell_type": "code",
   "execution_count": 16,
   "metadata": {},
   "outputs": [
    {
     "name": "stdout",
     "output_type": "stream",
     "text": [
      "missing values: 1\n"
     ]
    }
   ],
   "source": [
    "# Filling missing values in 'odometer' by the median of the model_year.\n",
    "vehicles_data_copy['odometer'] = (vehicles_data_copy\n",
    "                                  .groupby(['model_year'])['odometer']\n",
    "                                  .transform(lambda odo: odo.fillna(odo.median()))\n",
    "                                 )\n",
    "print('missing values:', vehicles_data_copy['odometer'].isna().sum())"
   ]
  },
  {
   "cell_type": "markdown",
   "metadata": {},
   "source": [
    "There is still 1 missing value, I guess it's a row where model_year have missing value in odometer."
   ]
  },
  {
   "cell_type": "code",
   "execution_count": 17,
   "metadata": {},
   "outputs": [
    {
     "name": "stdout",
     "output_type": "stream",
     "text": [
      "missing values: 0\n"
     ]
    }
   ],
   "source": [
    "# Filling missing values in 'odometer' by the median of the model.\n",
    "vehicles_data_copy['odometer'] = (vehicles_data_copy\n",
    "                                  .groupby(['model'])['odometer']\n",
    "                                  .transform(lambda odo: odo.fillna(odo.median()))\n",
    "                                 )\n",
    "print('missing values:', vehicles_data_copy['odometer'].isna().sum())"
   ]
  },
  {
   "cell_type": "markdown",
   "metadata": {},
   "source": [
    "<s><div style=\"border:solid red 2px; padding: 20px\"> <b>Needs fixing:</b><br>\n",
    "    \n",
    "   You're writing about filling in the missing values by the median but use in your code `np.mean` 🤔 That's not quite right. The mean can be used if you are sure that the data are normally distributed. Please, fix. </div>"
   ]
  },
  {
   "cell_type": "markdown",
   "metadata": {},
   "source": [
    "<div class=\"alert alert-info\" style=\"border:solid blue 2px; padding: 20px\"> \n",
    "    <b>Done</b><br>\n",
    "You're right and I missed it when I changed it to median, I only updated the comments unfortunatly.\n",
    "</div>"
   ]
  },
  {
   "cell_type": "markdown",
   "metadata": {},
   "source": [
    "<div style=\"border:solid green 2px; padding: 20px\"> <b>Success V2:</b><br>\n",
    "   Things happen. It's okay now :) </div>       "
   ]
  },
  {
   "cell_type": "markdown",
   "metadata": {},
   "source": [
    "<div class=\"alert alert-block alert-info\">\n",
    "Odometer has no missing values; it has been filled with the median millage per model and year,<br> \n",
    "    followed by the remaining missing values filled with median per model_year, and the last missing value with the median per model.\n",
    "</div>"
   ]
  },
  {
   "cell_type": "markdown",
   "metadata": {},
   "source": [
    "#### paint_color\n",
    "<a class=\"anchor\" id=\"chapter29\"></a>\n",
    "[Go back to the Table of Contents](#table_of_contents)"
   ]
  },
  {
   "cell_type": "markdown",
   "metadata": {},
   "source": [
    "It is imposible to guess the paint of the car based on other values in the data, so I would fill it with \"unknown\"."
   ]
  },
  {
   "cell_type": "code",
   "execution_count": 18,
   "metadata": {},
   "outputs": [
    {
     "data": {
      "text/plain": [
       "0"
      ]
     },
     "execution_count": 18,
     "metadata": {},
     "output_type": "execute_result"
    }
   ],
   "source": [
    "vehicles_data_copy['paint_color'] = vehicles_data_copy['paint_color'].fillna(\"other\") # Filling missing values with \"other\"\n",
    "vehicles_data_copy['paint_color'].isna().sum() # Checking if all missing values are filled."
   ]
  },
  {
   "cell_type": "markdown",
   "metadata": {},
   "source": [
    "<div class=\"alert alert-block alert-info\">\n",
    "'paint_color' does not have any missing values; it has been filled with \"other\"\n",
    "</div>"
   ]
  },
  {
   "cell_type": "markdown",
   "metadata": {},
   "source": [
    "#### is_4wd\n",
    "<a class=\"anchor\" id=\"chapter30\"></a>\n",
    "[Go back to the Table of Contents](#table_of_contents)"
   ]
  },
  {
   "cell_type": "markdown",
   "metadata": {},
   "source": [
    "From the description of the data, we know that 'is_4wd' is a 'bool' type,<br>\n",
    "Since it's a float, the type should change.<br>\n",
    "But before we change the type, let's examine the missing values."
   ]
  },
  {
   "cell_type": "code",
   "execution_count": 19,
   "metadata": {},
   "outputs": [
    {
     "data": {
      "text/plain": [
       "1.0    25572\n",
       "Name: is_4wd, dtype: int64"
      ]
     },
     "execution_count": 19,
     "metadata": {},
     "output_type": "execute_result"
    }
   ],
   "source": [
    "# Looking for unique value counts in 'is_4wd'.\n",
    "vehicles_data_copy['is_4wd'].value_counts()"
   ]
  },
  {
   "cell_type": "code",
   "execution_count": 20,
   "metadata": {},
   "outputs": [
    {
     "data": {
      "text/plain": [
       "25953"
      ]
     },
     "execution_count": 20,
     "metadata": {},
     "output_type": "execute_result"
    }
   ],
   "source": [
    "# Looking for all nulls in 'is_4wd'.\n",
    "vehicles_data_copy['is_4wd'].isna().sum()"
   ]
  },
  {
   "cell_type": "markdown",
   "metadata": {},
   "source": [
    "<div style=\"border:solid green 2px; padding: 20px\"> <b>Success:</b><br>\n",
    "   \n",
    "   Lack of values is also an important signal that should not be hidden. Well done for marking the empty values of `paint_color` and `is_4wd` columns 👍</div> "
   ]
  },
  {
   "cell_type": "code",
   "execution_count": 21,
   "metadata": {},
   "outputs": [
    {
     "data": {
      "text/plain": [
       "0"
      ]
     },
     "execution_count": 21,
     "metadata": {},
     "output_type": "execute_result"
    }
   ],
   "source": [
    "# Subtracting the amount of values filled with 1.0 and nulls from the number of rows, to check if equal.\n",
    "len(vehicles_data_copy) - (vehicles_data_copy['is_4wd'].value_counts()[1] + vehicles_data_copy['is_4wd'].isna().sum())"
   ]
  },
  {
   "cell_type": "markdown",
   "metadata": {},
   "source": [
    "<s><div style=\"border:solid red 2px; padding: 20px\"> <b>Needs fixing:</b><br>\n",
    "    Please note that hardcoding is not allowed as different datasets can be used in the project, it is important to make sure that the code works correctly on all datasets. I am leaving a link that describes what hardcoding is:\n",
    "<a>https://beginnerpy.com/glossary/hardcoding</a> \n",
    "\n",
    "To check your result you can use:\n",
    "`vehicles_data_copy['is_4wd'].value_counts()[1] + vehicles_data_copy['is_4wd'].isna().sum()`\n",
    "</div>"
   ]
  },
  {
   "cell_type": "markdown",
   "metadata": {},
   "source": [
    "<div class=\"alert alert-info\" style=\"border:solid blue 2px; padding: 20px\"> \n",
    "    <b>Done</b><br>\n",
    "You're right, and something did feel off about the way I approached it, thank you for pointing that out.\n",
    "</div>"
   ]
  },
  {
   "cell_type": "markdown",
   "metadata": {},
   "source": [
    "<div style=\"border:solid green 2px; padding: 20px\"> <b>Success V2:</b><br>\n",
    "    Good job!</div>       "
   ]
  },
  {
   "cell_type": "markdown",
   "metadata": {},
   "source": [
    "The sum of the '1.0' values plus the nulls equals the number of rows in the data.<br>\n",
    "Therefore, all the nulls could be filled with 0.<br>\n",
    "We will then switch it to bool, where 1 means true and 0 means false."
   ]
  },
  {
   "cell_type": "markdown",
   "metadata": {},
   "source": [
    "###### Filling values in 'is_4wd'"
   ]
  },
  {
   "cell_type": "code",
   "execution_count": 22,
   "metadata": {},
   "outputs": [],
   "source": [
    "# Filling missing values in 'is_4wd' with 0.\n",
    "vehicles_data_copy['is_4wd'].fillna('0', inplace=True)"
   ]
  },
  {
   "cell_type": "code",
   "execution_count": 23,
   "metadata": {},
   "outputs": [
    {
     "data": {
      "text/plain": [
       "0      25953\n",
       "1.0    25572\n",
       "Name: is_4wd, dtype: int64"
      ]
     },
     "execution_count": 23,
     "metadata": {},
     "output_type": "execute_result"
    }
   ],
   "source": [
    "# Looking for unique values count in 'is_4wd'.\n",
    "vehicles_data_copy['is_4wd'].value_counts()"
   ]
  },
  {
   "cell_type": "markdown",
   "metadata": {},
   "source": [
    "<div class=\"alert alert-block alert-info\">\n",
    "'is_4wd' has no missing values; it has been filled with 0, so we can now change the type from 'float' to 'bool'.\n",
    "</div>"
   ]
  },
  {
   "cell_type": "markdown",
   "metadata": {},
   "source": [
    "### Duplicated Values\n",
    "<a class=\"anchor\" id=\"chapter5\"></a>\n",
    "[Go back to the Table of Contents](#table_of_contents)"
   ]
  },
  {
   "cell_type": "code",
   "execution_count": 24,
   "metadata": {},
   "outputs": [
    {
     "data": {
      "text/plain": [
       "0"
      ]
     },
     "execution_count": 24,
     "metadata": {},
     "output_type": "execute_result"
    }
   ],
   "source": [
    "vehicles_data_copy.duplicated().sum() # Looking for duplicated rows."
   ]
  },
  {
   "cell_type": "markdown",
   "metadata": {},
   "source": [
    "<div class=\"alert alert-block alert-info\">\n",
    "There are no duplicates in the data.\n",
    "</div>"
   ]
  },
  {
   "cell_type": "markdown",
   "metadata": {},
   "source": [
    "<div style=\"border:solid green 2px; padding: 20px\"> <b>Success:</b><br>\n",
    "    Very reasonable idea to check the duplicate amount :) </div>       "
   ]
  },
  {
   "cell_type": "markdown",
   "metadata": {},
   "source": [
    "### Changing Data Types\n",
    "<a class=\"anchor\" id=\"chapter6\"></a>\n",
    "[Go back to the Table of Contents](#table_of_contents)"
   ]
  },
  {
   "cell_type": "markdown",
   "metadata": {},
   "source": [
    "- model_year,=> integer, since the float point is of no significance.\n",
    "- cylinders, => integer, since you cannot have a part of a cylinder.\n",
    "- odometer, => integer, It could be left as a float, but I would suggest rounding the numbers.\n",
    "- is_4wd, => 'bool' since there are 2 values: either it's 4 wheel drive or not.\n",
    "- date_posted, => 'date_time', as we would like to calculate based on the time the post was made."
   ]
  },
  {
   "cell_type": "code",
   "execution_count": 25,
   "metadata": {},
   "outputs": [
    {
     "name": "stdout",
     "output_type": "stream",
     "text": [
      "<class 'pandas.core.frame.DataFrame'>\n",
      "RangeIndex: 51525 entries, 0 to 51524\n",
      "Data columns (total 13 columns):\n",
      "price           51525 non-null int64\n",
      "model_year      51525 non-null int64\n",
      "model           51525 non-null object\n",
      "condition       51525 non-null object\n",
      "cylinders       51525 non-null int64\n",
      "fuel            51525 non-null object\n",
      "odometer        51525 non-null int64\n",
      "transmission    51525 non-null object\n",
      "type            51525 non-null object\n",
      "paint_color     51525 non-null object\n",
      "is_4wd          51525 non-null bool\n",
      "date_posted     51525 non-null datetime64[ns]\n",
      "days_listed     51525 non-null int64\n",
      "dtypes: bool(1), datetime64[ns](1), int64(5), object(6)\n",
      "memory usage: 4.8+ MB\n"
     ]
    }
   ],
   "source": [
    "# Changing data types.\n",
    "vehicles_data_copy = (vehicles_data_copy\n",
    "                      .astype({'model_year':'int' , #model_year,=> integer\n",
    "                               'cylinders':'int' , #cylinders, => integer\n",
    "                               'odometer':'int' , #odometer, => integer\n",
    "                               'is_4wd':'bool'}) #is_4wd, => 'bool'\n",
    "                     )\n",
    "\n",
    "# 'date_posted', from object to_datetime().\n",
    "vehicles_data_copy['date_posted'] = pd.to_datetime(vehicles_data_copy['date_posted'], format='%Y.%m.%d')\n",
    "vehicles_data_copy.info()"
   ]
  },
  {
   "cell_type": "markdown",
   "metadata": {},
   "source": [
    "<div style=\"border:solid orange 2px; padding: 20px\"> <b>Remarks:</b><br>\n",
    "    <code>price</code> and <code>odometer</code> are better suited to float because they can potentially take fractional values.</div>  "
   ]
  },
  {
   "cell_type": "markdown",
   "metadata": {},
   "source": [
    "<div class=\"alert alert-info\" style=\"border:solid blue 2px; padding: 20px\"> \n",
    "I agree, but I fell that these are big numbers so the fractions don't mean much and it's easier on the eyes.\n",
    "</div>"
   ]
  },
  {
   "cell_type": "markdown",
   "metadata": {},
   "source": [
    "<s><div style=\"border:solid red 2px; padding: 20px\"> <b>Needs fixing:</b><br>\n",
    " Please, write the conclusion here.</div>    "
   ]
  },
  {
   "cell_type": "markdown",
   "metadata": {},
   "source": [
    "<div class=\"alert alert-block alert-info\">\n",
    "- model_year has been changed to integer, since the float point is of no significance.<br>\n",
    "- cylinders has been changed to integer, since you cannot have a part of a cylinder.<br>\n",
    "- odometer has been changed to integer, It could be left as a float, but I would suggest rounding the numbers.<br>\n",
    "- is_4wd has been changed to 'bool' since there are 2 values: either it's 4 wheel drive or not.<br>\n",
    "- date_posted has been changed to 'date_time', as we would like to calculate based on the time the post was made.\n",
    "</div>"
   ]
  },
  {
   "cell_type": "markdown",
   "metadata": {},
   "source": [
    "----"
   ]
  },
  {
   "cell_type": "markdown",
   "metadata": {},
   "source": [
    "## 3. Make calculations and add them to the table\n",
    "<a class=\"anchor\" id=\"chapter7\"></a>\n",
    "[Go back to the Table of Contents](#table_of_contents)"
   ]
  },
  {
   "cell_type": "markdown",
   "metadata": {},
   "source": [
    "### Adding: day of the week, month, and year\n",
    "<a class=\"anchor\" id=\"chapter8\"></a>\n",
    "[Go back to the Table of Contents](#table_of_contents)"
   ]
  },
  {
   "cell_type": "code",
   "execution_count": 26,
   "metadata": {},
   "outputs": [],
   "source": [
    "# Adding 'day_of_week' column to the table.\n",
    "vehicles_data_copy['day_of_week'] = pd.DatetimeIndex(vehicles_data_copy['date_posted']).dayofweek\n",
    "\n",
    "# Adding 'month' column to the table.\n",
    "vehicles_data_copy['month'] = pd.DatetimeIndex(vehicles_data_copy['date_posted']).month\n",
    "\n",
    "# Adding 'year' column to the table.\n",
    "vehicles_data_copy['year'] = pd.DatetimeIndex(vehicles_data_copy['date_posted']).year"
   ]
  },
  {
   "cell_type": "markdown",
   "metadata": {},
   "source": [
    "<div style=\"border:solid green 2px; padding: 20px\"> <b>Success:</b><br>\n",
    "    Well done, you got the months, days of the week and year right.</div> "
   ]
  },
  {
   "cell_type": "markdown",
   "metadata": {},
   "source": [
    "### Adding: vehicle's age (in years)\n",
    "<a class=\"anchor\" id=\"chapter9\"></a>\n",
    "[Go back to the Table of Contents](#table_of_contents)"
   ]
  },
  {
   "cell_type": "code",
   "execution_count": 27,
   "metadata": {},
   "outputs": [],
   "source": [
    "# Adding column 'vehicle_age' when the ad was posted (in years).\n",
    "vehicles_data_copy['vehicle_age'] = vehicles_data_copy['year'] - vehicles_data_copy['model_year']"
   ]
  },
  {
   "cell_type": "markdown",
   "metadata": {},
   "source": [
    "<div style=\"border:solid green 2px; padding: 20px\"> <b>Success:</b><br>\n",
    "    👍</div>       "
   ]
  },
  {
   "cell_type": "markdown",
   "metadata": {},
   "source": [
    "### Adding: average mileage per year\n",
    "<a class=\"anchor\" id=\"chapter10\"></a>\n",
    "[Go back to the Table of Contents](#table_of_contents)"
   ]
  },
  {
   "cell_type": "code",
   "execution_count": 28,
   "metadata": {},
   "outputs": [],
   "source": [
    "# Adding column 'vehicle_mileage_per_year', average millage per year.\n",
    "#vehicles_data_copy['vehicle_mileage_per_year'] = vehicles_data_copy['odometer'] / vehicles_data_copy['vehicle_age']"
   ]
  },
  {
   "cell_type": "code",
   "execution_count": 29,
   "metadata": {},
   "outputs": [],
   "source": [
    "# Adding column 'vehicle_mileage_per_year', average millage per year.\n",
    "# A function that checks if age is 0 (new car) then it return the odometer for that car instead of dividing by 0.\n",
    "def mil_per_year(data):\n",
    "    if data['vehicle_age'] != 0:\n",
    "        return data['odometer'] / data['vehicle_age']\n",
    "    return data['odometer']\n",
    "\n",
    "# Applying 'mil_per_year' function to 'vehicle_mileage_per_year'.\n",
    "vehicles_data_copy['vehicle_mileage_per_year'] = vehicles_data_copy.apply(mil_per_year, axis=1)"
   ]
  },
  {
   "cell_type": "markdown",
   "metadata": {},
   "source": [
    "<div style=\"border:solid orange 2px; padding: 20px\"> <b>Remarks:</b><br>\n",
    "   \n",
    "   Here you can use `vehicles_data_copy['average_mileage_per_year'] = vehicles_data_copy['odometer'] / vehicles_data_copy['vehicle_age']` and after that just use  `fillna(0)`. This will help speed up the code and make it more compact.   </div> "
   ]
  },
  {
   "cell_type": "markdown",
   "metadata": {},
   "source": [
    "<div class=\"alert alert-info\" style=\"border:solid blue 2px; padding: 20px\"> \n",
    "Thank you for the suggestion, but what if the age of the car is 0? would it fill the milage per year with the odometer value?🤔<br>\n",
    "    Maybe I didn't understand the code that you wrote.\n",
    "</div>"
   ]
  },
  {
   "cell_type": "markdown",
   "metadata": {},
   "source": [
    "<div style=\"border:solid orange 2px; padding: 20px\"> <b>Remarks V2:</b><br>\n",
    "   \n",
    "   Sorry, I forgot to write `fillna(vehicles_data_copy['odometer'])`\n",
    "I write my code bellow, you can try it :)</div>   \n",
    "<br>"
   ]
  },
  {
   "cell_type": "code",
   "execution_count": 30,
   "metadata": {},
   "outputs": [],
   "source": [
    "# #Reviewer's code\n",
    "# vehicles_data_copy['average_mileage_per_year'] = vehicles_data_copy['odometer'] / vehicles_data_copy['vehicle_age']\n",
    "# vehicles_data_copy['average_mileage_per_year'] = vehicles_data_copy['average_mileage_per_year']\\\n",
    "#                                                                                 .fillna(vehicles_data_copy['odometer'])"
   ]
  },
  {
   "cell_type": "markdown",
   "metadata": {},
   "source": [
    "### Replacing: conditions with numaeric scale\n",
    "<a class=\"anchor\" id=\"chapter11\"></a>\n",
    "[Go back to the Table of Contents](#table_of_contents)"
   ]
  },
  {
   "cell_type": "code",
   "execution_count": 31,
   "metadata": {},
   "outputs": [],
   "source": [
    "vehicles_data_copy['condition'] = (vehicles_data_copy['condition']\n",
    "                                   .replace({'new': 5, \n",
    "                                             'like new': 4, \n",
    "                                             'excellent': 3, \n",
    "                                             'good': 2, \n",
    "                                             'fair': 1, \n",
    "                                             'salvage': 0,})\n",
    "                                  )"
   ]
  },
  {
   "cell_type": "markdown",
   "metadata": {},
   "source": [
    "<div style=\"border:solid green 2px; padding: 20px\"> <b>Success:</b><br>\n",
    "    Yes, absolutely correct. Good job! :)</div>       \n",
    "<br></div>       "
   ]
  },
  {
   "cell_type": "markdown",
   "metadata": {},
   "source": [
    "<s><div style=\"border:solid red 2px; padding: 20px\"> <b>Needs fixing:</b><br>\n",
    "    Could you please write conclusion here?</div>"
   ]
  },
  {
   "cell_type": "markdown",
   "metadata": {},
   "source": [
    "<div class=\"alert alert-block alert-info\">\n",
    "- We added a column fot day of the week, month and year.<br>\n",
    "- Then, we calculated the car's age as the date of posting.<br>\n",
    "- Finally, we replaced the coditions of the cars with numeric scale from 0(salvage) - 5(new).\n",
    "</div>"
   ]
  },
  {
   "cell_type": "markdown",
   "metadata": {},
   "source": [
    "<div class=\"alert alert-info\" style=\"border:solid blue 2px; padding: 20px\"> \n",
    "    <b>Done</b><br>\n",
    "</div>"
   ]
  },
  {
   "cell_type": "markdown",
   "metadata": {},
   "source": [
    "<div style=\"border:solid green 2px; padding: 20px\"> <b>Success V2:</b><br>\n",
    "    👍 </div>       "
   ]
  },
  {
   "cell_type": "markdown",
   "metadata": {},
   "source": [
    "----"
   ]
  },
  {
   "cell_type": "markdown",
   "metadata": {},
   "source": [
    "## 4. Carry out exploratory data analysis\n",
    "<a class=\"anchor\" id=\"chapter12\"></a>\n",
    "[Go back to the Table of Contents](#table_of_contents)"
   ]
  },
  {
   "cell_type": "markdown",
   "metadata": {},
   "source": [
    "### Study the following parameters\n",
    "<a class=\"anchor\" id=\"chapter13\"></a>\n",
    "[Go back to the Table of Contents](#table_of_contents)"
   ]
  },
  {
   "cell_type": "markdown",
   "metadata": {},
   "source": [
    "1. Plot histograms for each of these parameters.<br> \n",
    "- [x] price<br>\n",
    "- [x] vehicle's age when the ad was placed<br>\n",
    "- [x] mileage<br>\n",
    "- [x] number of cylinders<br>\n",
    "- [x] condition<br>\n",
    "2. Study how outliers affect the form and readability of the histograms."
   ]
  },
  {
   "cell_type": "markdown",
   "metadata": {},
   "source": [
    "#### Price\n",
    "<a class=\"anchor\" id=\"chapter14\"></a>\n",
    "[Go back to the Table of Contents](#table_of_contents)"
   ]
  },
  {
   "cell_type": "code",
   "execution_count": 32,
   "metadata": {},
   "outputs": [
    {
     "data": {
      "image/png": "[encoded data removed]",
      "text/plain": [
       "<Figure size 432x288 with 1 Axes>"
      ]
     },
     "metadata": {
      "needs_background": "light"
     },
     "output_type": "display_data"
    }
   ],
   "source": [
    "# Plotting histogram for 'price' column.\n",
    "vehicles_data_copy['price'].plot(kind='hist',\n",
    "                                 rot=30,\n",
    "                                 title='Distrubution of Price')\n",
    "plt.gca().set(xlabel='Price');"
   ]
  },
  {
   "cell_type": "markdown",
   "metadata": {},
   "source": [
    "<div style=\"border:solid red 2px; padding: 20px\"> <b>Needs fixing:</b><br>\n",
    "  <s>  Please sign the x-axis to all graphs. To make your graphs even prettier, here's a link to a tutorial of the matplotlib library:</s>\n",
    "    <ul>\n",
    "        <li><a>https://www.machinelearningplus.com/plots/matplotlib-histogram-python-examples/</a></li>\n",
    "</div>"
   ]
  },
  {
   "cell_type": "markdown",
   "metadata": {},
   "source": [
    "<div class=\"alert alert-info\" style=\"border:solid blue 2px; padding: 20px\"> \n",
    "    <b>Done</b><br>\n",
    "Thank you for the link it was realy helpful.\n",
    "</div>"
   ]
  },
  {
   "cell_type": "markdown",
   "metadata": {},
   "source": [
    "<div style=\"border:solid green 2px; padding: 20px\"> <b>Success V2:</b><br>\n",
    "    Very well!</div>       "
   ]
  },
  {
   "cell_type": "markdown",
   "metadata": {},
   "source": [
    "Most of the values of price are between 0-40,000, let's zoom in."
   ]
  },
  {
   "cell_type": "code",
   "execution_count": 33,
   "metadata": {
    "scrolled": true
   },
   "outputs": [
    {
     "data": {
      "image/png": "[encoded data removed]",
      "text/plain": [
       "<Figure size 432x288 with 1 Axes>"
      ]
     },
     "metadata": {
      "needs_background": "light"
     },
     "output_type": "display_data"
    }
   ],
   "source": [
    "# Updating plot with range of 0-50,000 at the X axis, and 30 bins.\n",
    "vehicles_data_copy['price'].plot(kind='hist', \n",
    "                                 title='Distrubution of Price, zoomed in 50,000', \n",
    "                                 bins=30, \n",
    "                                 range=(0, 50000));\n",
    "plt.gca().set(xlabel='Price');"
   ]
  },
  {
   "cell_type": "markdown",
   "metadata": {},
   "source": [
    "Most cars are priced just below 10,000, around 4,000-5,000.<br>\n",
    "Also, there are quite a few near-zero values that we should investigate."
   ]
  },
  {
   "cell_type": "code",
   "execution_count": 34,
   "metadata": {
    "scrolled": true
   },
   "outputs": [
    {
     "data": {
      "image/png": "[encoded data removed]",
      "text/plain": [
       "<Figure size 432x288 with 1 Axes>"
      ]
     },
     "metadata": {
      "needs_background": "light"
     },
     "output_type": "display_data"
    }
   ],
   "source": [
    "# Updating plot with range of 0-10,000 at the X axis, and 30 bins.\n",
    "vehicles_data_copy['price'].plot(kind='hist', \n",
    "                                 title='Distrubution of Price, zoomed in 10,000', \n",
    "                                 bins=30, \n",
    "                                 range=(0, 10000));\n",
    "plt.gca().set(xlabel='Price');"
   ]
  },
  {
   "cell_type": "markdown",
   "metadata": {},
   "source": [
    "Here are 2 interesting points:<br>\n",
    "1. A number of values are too close to zero and that's weird since it's such a low price for a car.<br>\n",
    "2. There appears to be a pattern of having more values around whole 1,000 numbers like 4,000, 5,000...<br>People have a tendency to round numbers, or price things based on the psychological effect of 199 compared to 200 or 195 compared to 200."
   ]
  },
  {
   "cell_type": "code",
   "execution_count": 35,
   "metadata": {
    "scrolled": true
   },
   "outputs": [
    {
     "data": {
      "image/png": "[encoded data removed]",
      "text/plain": [
       "<Figure size 432x288 with 1 Axes>"
      ]
     },
     "metadata": {
      "needs_background": "light"
     },
     "output_type": "display_data"
    }
   ],
   "source": [
    "# Updating plot with range of 0-500 at the X axis, and 30 bins.\n",
    "vehicles_data_copy['price'].plot(kind='hist', \n",
    "                                 title='Distrubution of Price, zoomed in 2000', \n",
    "                                 bins=30, \n",
    "                                 range=(0, 500));\n",
    "plt.gca().set(xlabel='Price');"
   ]
  },
  {
   "cell_type": "markdown",
   "metadata": {},
   "source": [
    "800 values around 0!"
   ]
  },
  {
   "cell_type": "code",
   "execution_count": 36,
   "metadata": {},
   "outputs": [
    {
     "data": {
      "text/plain": [
       "1    798\n",
       "9      1\n",
       "6      1\n",
       "5      1\n",
       "3      1\n",
       "Name: price, dtype: int64"
      ]
     },
     "execution_count": 36,
     "metadata": {},
     "output_type": "execute_result"
    }
   ],
   "source": [
    "vehicles_data_copy.query('price < 10')['price'].value_counts()"
   ]
  },
  {
   "cell_type": "markdown",
   "metadata": {},
   "source": [
    "798 values of 1.<br>\n",
    "I think that price might be a required filled when posting an ad, people sometimes input a very lower value when they don't specify a price.<br>\n",
    "In my opinion anything below 300 is too low and could be just that case and I would consider it as an outlier."
   ]
  },
  {
   "cell_type": "markdown",
   "metadata": {},
   "source": [
    "<div class=\"alert alert-block alert-info\">\n",
    "The data contains a large number of outliers, which makes it difficult to see the actual data in detail.<br>\n",
    "To showcase the data correctly, we also need to remove some extremely low values.\n",
    "</div>"
   ]
  },
  {
   "cell_type": "markdown",
   "metadata": {},
   "source": [
    "<div style=\"border:solid green 2px; padding: 20px\"> <b>Success:</b><br>\n",
    "    Great chart analysis!</div> "
   ]
  },
  {
   "cell_type": "markdown",
   "metadata": {},
   "source": [
    "#### Vehicle age when posted\n",
    "<a class=\"anchor\" id=\"chapter15\"></a>\n",
    "[Go back to the Table of Contents](#table_of_contents)"
   ]
  },
  {
   "cell_type": "code",
   "execution_count": 37,
   "metadata": {},
   "outputs": [
    {
     "data": {
      "image/png": "[encoded data removed]",
      "text/plain": [
       "<Figure size 432x288 with 1 Axes>"
      ]
     },
     "metadata": {
      "needs_background": "light"
     },
     "output_type": "display_data"
    }
   ],
   "source": [
    "# Plotting histogram for 'vehicle_age' column.\n",
    "vehicles_data_copy['vehicle_age'].plot(kind='hist', \n",
    "                                 title='Distrubution of Vehicle Age');\n",
    "plt.gca().set(xlabel='Vehicle Age');"
   ]
  },
  {
   "cell_type": "markdown",
   "metadata": {},
   "source": [
    "It looks like some of our cars are really old!<br>\n",
    "The majority of the values are below the 20 year mark, so let's zoom in."
   ]
  },
  {
   "cell_type": "code",
   "execution_count": 38,
   "metadata": {
    "scrolled": false
   },
   "outputs": [
    {
     "data": {
      "image/png": "[encoded data removed]",
      "text/plain": [
       "<Figure size 432x288 with 1 Axes>"
      ]
     },
     "metadata": {
      "needs_background": "light"
     },
     "output_type": "display_data"
    }
   ],
   "source": [
    "# Updating plot with range of 0-20 at the X axis, and 15 bins.\n",
    "vehicles_data_copy['vehicle_age'].plot(kind='hist', \n",
    "                                 title='Distrubution of vehicle_age, zoomed in 20', \n",
    "                                 bins=15, \n",
    "                                 range=(0, 20));\n",
    "plt.gca().set(xlabel='Vehicle Age');"
   ]
  },
  {
   "cell_type": "markdown",
   "metadata": {},
   "source": [
    "If I remember correctly, the most common age is between 4-5, which goes along with excellent being the most common condition."
   ]
  },
  {
   "cell_type": "markdown",
   "metadata": {},
   "source": [
    "<div class=\"alert alert-block alert-info\">\n",
    "There are some pretty old cars in the data and they blur how detailed the data can be seen.<br>\n",
    "According to the data, the most common age of a car is between 4-5 years old.\n",
    "</div>"
   ]
  },
  {
   "cell_type": "markdown",
   "metadata": {},
   "source": [
    "<div style=\"border:solid green 2px; padding: 20px\"> <b>Success:</b><br>\n",
    "    Well done!</div>  "
   ]
  },
  {
   "cell_type": "markdown",
   "metadata": {},
   "source": [
    "#### Mileage\n",
    "<a class=\"anchor\" id=\"chapter16\"></a>\n",
    "[Go back to the Table of Contents](#table_of_contents)"
   ]
  },
  {
   "cell_type": "code",
   "execution_count": 39,
   "metadata": {},
   "outputs": [
    {
     "data": {
      "image/png": "[encoded data removed]",
      "text/plain": [
       "<Figure size 432x288 with 1 Axes>"
      ]
     },
     "metadata": {
      "needs_background": "light"
     },
     "output_type": "display_data"
    }
   ],
   "source": [
    "# Plotting histogram for 'vehicle_mileage_per_year' column.\n",
    "vehicles_data_copy['vehicle_mileage_per_year'].plot(kind='hist',\n",
    "                                                    rot=30, \n",
    "                                                    title='Distrubution of Vehicle Mileage Per Year');\n",
    "plt.gca().set(xlabel='Vehicle Mileage Per Year');"
   ]
  },
  {
   "cell_type": "markdown",
   "metadata": {},
   "source": [
    "Most cars do around 40,000 miles in milleage, but we can also see that there are some dome cars that do a lot more!😯"
   ]
  },
  {
   "cell_type": "code",
   "execution_count": 40,
   "metadata": {
    "scrolled": false
   },
   "outputs": [
    {
     "data": {
      "image/png": "[encoded data removed]",
      "text/plain": [
       "<Figure size 432x288 with 1 Axes>"
      ]
     },
     "metadata": {
      "needs_background": "light"
     },
     "output_type": "display_data"
    }
   ],
   "source": [
    "# Updating plot with range of 0-70,000 at the X axis, and 20 bins.\n",
    "vehicles_data_copy['vehicle_mileage_per_year'].plot(kind='hist',\n",
    "                                                    rot=30,\n",
    "                                                    title='Distrubution of mileage, zoomed in 70,000', \n",
    "                                                    bins=20, \n",
    "                                                    range=(0, 70000));\n",
    "plt.gca().set(xlabel='Vehicle Mileage Per Year');"
   ]
  },
  {
   "cell_type": "markdown",
   "metadata": {},
   "source": [
    "<div class=\"alert alert-block alert-info\">\n",
    "The picture becomes much clearer when zoomed in, revealing that most cars have an average annual mileage of just over 10,000.<br>\n",
    "There are also cars that almost don't have any miles per year, these may be antiques or collectors' cars.<br>\n",
    "However, it could also be my mother's car since she hardly drives it😅\n",
    "</div>"
   ]
  },
  {
   "cell_type": "markdown",
   "metadata": {},
   "source": [
    "<div style=\"border:solid green 2px; padding: 20px\"> <b>Success:</b><br>\n",
    "    🤣🤣🤣🤣\n",
    "    Perfect! I really liked your assumption 😄</div>       "
   ]
  },
  {
   "cell_type": "markdown",
   "metadata": {},
   "source": [
    "#### Cylinders\n",
    "<a class=\"anchor\" id=\"chapter17\"></a>\n",
    "[Go back to the Table of Contents](#table_of_contents)"
   ]
  },
  {
   "cell_type": "code",
   "execution_count": 41,
   "metadata": {},
   "outputs": [
    {
     "data": {
      "image/png": "[encoded data removed]",
      "text/plain": [
       "<Figure size 432x288 with 1 Axes>"
      ]
     },
     "metadata": {
      "needs_background": "light"
     },
     "output_type": "display_data"
    }
   ],
   "source": [
    "# Plotting histogram for 'cylinders' column.\n",
    "vehicles_data_copy['cylinders'].plot(kind='hist',\n",
    "                                     title='Distrubution of Cylinders');\n",
    "plt.gca().set(xlabel='Cylinders');"
   ]
  },
  {
   "cell_type": "markdown",
   "metadata": {},
   "source": [
    "<div class=\"alert alert-block alert-info\">\n",
    "Among the most common cylinder counts are 8 and 6. We also have odd numbers such as 3 and 5, which I find interesting because, to my knowledge, cars have even cylinder counts, but I guess there might belong to older cars as they use the experiment in the past🙂\n",
    "</div>"
   ]
  },
  {
   "cell_type": "markdown",
   "metadata": {},
   "source": [
    "<div style=\"border:solid green 2px; padding: 20px\"> <b>Success:</b><br>\n",
    "    Thank you for the analysis of the charts and the detailed elaboration of this point. Excellent work!</div>     "
   ]
  },
  {
   "cell_type": "markdown",
   "metadata": {},
   "source": [
    "#### Condition\n",
    "<a class=\"anchor\" id=\"chapter18\"></a>\n",
    "[Go back to the Table of Contents](#table_of_contents)"
   ]
  },
  {
   "cell_type": "code",
   "execution_count": 42,
   "metadata": {},
   "outputs": [
    {
     "data": {
      "image/png": "[encoded data removed]",
      "text/plain": [
       "<Figure size 432x288 with 1 Axes>"
      ]
     },
     "metadata": {
      "needs_background": "light"
     },
     "output_type": "display_data"
    }
   ],
   "source": [
    "# Plotting histogram for 'cylinders' column.\n",
    "vehicles_data_copy['condition'].plot(kind='hist',\n",
    "                                     title='Distrubution of Condition');\n",
    "plt.gca().set(xlabel='Condition');"
   ]
  },
  {
   "cell_type": "markdown",
   "metadata": {},
   "source": [
    "We found that the most common condition in the data was excellent, followed by good condition which was in line with the common age and millage that we saw,\n",
    "They could have been cars from a leasing company or that did belong to a company, but got out on the market<br>\n",
    "It also explains the relative low prices seen in the data."
   ]
  },
  {
   "cell_type": "markdown",
   "metadata": {},
   "source": [
    "<div style=\"border:solid orange 2px; padding: 20px\"> <b>Remarks:</b><br>\n",
    "    \n",
    "   You can draw all graphs through `for` loop. I'll show you an example of how to do it below :)</div>  "
   ]
  },
  {
   "cell_type": "code",
   "execution_count": 43,
   "metadata": {},
   "outputs": [
    {
     "data": {
      "image/png": "[encoded data removed]",
      "text/plain": [
       "<Figure size 720x360 with 6 Axes>"
      ]
     },
     "metadata": {
      "needs_background": "light"
     },
     "output_type": "display_data"
    }
   ],
   "source": [
    "#Reviewer's code\n",
    "WIDTH = 3 #3 graphs in rows\n",
    "columns = ['price', 'vehicle_age', 'odometer', 'cylinders', 'condition', 'vehicle_mileage_per_year'] #what parameters you choose to plot\n",
    "plot_amount = len(columns)#amount of plots\n",
    "height = plot_amount//WIDTH #how many rows you need to plot your charts\n",
    "fig, axs = plt.subplots(height, WIDTH, figsize=(10, 5)) #subplots help you to make several charts together, figsize - size of picture\n",
    "fig.suptitle('Histograms',  y=1.03, size=14) #title of your charts\n",
    "\n",
    "for item, ax in zip(columns, np.ravel(axs)): # writing `for` loop where you alternately сhoose columns from your dataset to plot\n",
    "    vehicles_data_copy.hist(item, ax=ax) #plotting histograms\n",
    "    ax.set_title(item.capitalize().replace('_', ' '), size=12) #Setting chart names: capitalize().replace('_', ' ') - remove _ and make space between words \n",
    "    ax.set_xlabel(item) #x-axes name\n",
    "    ax.set_ylabel('frequency') #y-axes name\n",
    "\n",
    "plt.tight_layout()#this module makes the graphs not stick together\n",
    "plt.show()"
   ]
  },
  {
   "cell_type": "markdown",
   "metadata": {},
   "source": [
    "<div class=\"alert alert-info\" style=\"border:solid blue 2px; padding: 20px\"> \n",
    "That is defently a quicker and cleaner way to do it, could you please comment your code as I don't understand everything that you wrote😅\n",
    "</div>"
   ]
  },
  {
   "cell_type": "markdown",
   "metadata": {},
   "source": [
    "<div style=\"border:solid orange 2px; padding: 20px\"> <b>Remarks V2:</b><br>\n",
    "    Sure. I wrote comments on the code. I hope they are clear 😅 </div>   "
   ]
  },
  {
   "cell_type": "markdown",
   "metadata": {},
   "source": [
    "### Outliers\n",
    "<a class=\"anchor\" id=\"chapter19\"></a>\n",
    "[Go back to the Table of Contents](#table_of_contents)"
   ]
  },
  {
   "cell_type": "markdown",
   "metadata": {},
   "source": [
    "* Determine the upper limits of outliers.\n",
    "* remove the outliers and store them in a separate DataFrame.\n",
    "* continue your work with the filtered data."
   ]
  },
  {
   "cell_type": "markdown",
   "metadata": {},
   "source": [
    "#### Price\n",
    "<a class=\"anchor\" id=\"chapter31\"></a>\n",
    "[Go back to the Table of Contents](#table_of_contents)"
   ]
  },
  {
   "cell_type": "code",
   "execution_count": 44,
   "metadata": {
    "scrolled": false
   },
   "outputs": [
    {
     "data": {
      "image/png": "[encoded data removed]",
      "text/plain": [
       "<Figure size 432x288 with 1 Axes>"
      ]
     },
     "metadata": {
      "needs_background": "light"
     },
     "output_type": "display_data"
    }
   ],
   "source": [
    "# Plotting a box plot for 'price' column, showing values betwwen -1000 and 36,000.\n",
    "vehicles_data_copy['price'].plot(kind='box',\n",
    "                                 ylim=(-1000, 36000),\n",
    "                                 title='Box plot for price');"
   ]
  },
  {
   "cell_type": "markdown",
   "metadata": {},
   "source": [
    "<div style=\"border:solid orange 2px; padding: 20px\"> <b>Remarks:</b><br>\n",
    "    Please, watch the video below. This is about boxplots, you  might be interested in:\n",
    "     <ul>\n",
    "        <li><a>https://youtu.be/L68iieC2Vgc</a></li>  \n",
    "</div>    "
   ]
  },
  {
   "cell_type": "markdown",
   "metadata": {},
   "source": [
    "<div class=\"alert alert-info\" style=\"border:solid blue 2px; padding: 20px\"> \n",
    "Great video! now I understand things better, thanks for sharing.\n",
    "</div>"
   ]
  },
  {
   "cell_type": "markdown",
   "metadata": {},
   "source": [
    "<div style=\"border:solid green 2px; padding: 20px\"> <b>Success V2:</b><br>\n",
    "    Glad to be helpful :) </div>       "
   ]
  },
  {
   "cell_type": "markdown",
   "metadata": {},
   "source": [
    "It is safe to say that most of our values are up until about 17,000 aprrox.<br>\n",
    "We can see from the graph that there are outliers above 35,000.<br>\n",
    "Let's look at the theoretical number."
   ]
  },
  {
   "cell_type": "code",
   "execution_count": 45,
   "metadata": {},
   "outputs": [
    {
     "data": {
      "text/plain": [
       "34597.5"
      ]
     },
     "execution_count": 45,
     "metadata": {},
     "output_type": "execute_result"
    }
   ],
   "source": [
    "# Checking upper whisker theoretical value.\n",
    "price_Q1 = vehicles_data_copy['price'].quantile(0.25) # first quartile\n",
    "price_Q3 = vehicles_data_copy['price'].quantile(0.75) # third quartile\n",
    "price_IQR = price_Q3 - price_Q1 # inter quantile range\n",
    "price_Q3 + 1.5 * price_IQR  # the theoretical number of upper whisker which is bigger than the closest point in the real data."
   ]
  },
  {
   "cell_type": "markdown",
   "metadata": {},
   "source": [
    "<div class=\"alert alert-block alert-info\">\n",
    "Above 34597.5, we have outliers since the theoretical can only be larger than the closest value in the data. <br>\n",
    "    In conclusion, it is safe to say that there are outliers above 35,000. <br>\n",
    "    Furthermore, it is safe to say that although there are no outliers at the bottom of the plot,<br>\n",
    "    Removing anything below 300 is safe, as it is too low a price, and we wouldn't lose much data, just a small distortion in price. \n",
    "</div>"
   ]
  },
  {
   "cell_type": "markdown",
   "metadata": {},
   "source": [
    "<div style=\"border:solid green 2px; padding: 20px\"> <b>Success:</b><br>\n",
    "   That's a very good point. Well done for noticing that.</div>       "
   ]
  },
  {
   "cell_type": "markdown",
   "metadata": {},
   "source": [
    "#### Vehicle's age\n",
    "<a class=\"anchor\" id=\"chapter32\"></a>\n",
    "[Go back to the Table of Contents](#table_of_contents)"
   ]
  },
  {
   "cell_type": "code",
   "execution_count": 46,
   "metadata": {
    "scrolled": false
   },
   "outputs": [
    {
     "data": {
      "image/png": "[encoded data removed]",
      "text/plain": [
       "<Figure size 432x288 with 1 Axes>"
      ]
     },
     "metadata": {
      "needs_background": "light"
     },
     "output_type": "display_data"
    }
   ],
   "source": [
    "# Plotting a box plot for 'vehicle_age' column, showing values betwwen -2 and 30.\n",
    "vehicles_data_copy['vehicle_age'].plot(kind='box',\n",
    "                                       ylim=(-2, 30),\n",
    "                                       title='Box plot for vehicle_age');"
   ]
  },
  {
   "cell_type": "markdown",
   "metadata": {},
   "source": [
    "Our values are mostly up until approximately 13.<br>\n",
    "We can see from the graph that there are outliers above 25.<br>\n",
    "Let's look at the theoretical number."
   ]
  },
  {
   "cell_type": "code",
   "execution_count": 47,
   "metadata": {},
   "outputs": [
    {
     "data": {
      "text/plain": [
       "24.0"
      ]
     },
     "execution_count": 47,
     "metadata": {},
     "output_type": "execute_result"
    }
   ],
   "source": [
    "# Checking upper whisker theoretical value.\n",
    "age_Q1 = vehicles_data_copy['vehicle_age'].quantile(0.25) # first quartile\n",
    "age_Q3 = vehicles_data_copy['vehicle_age'].quantile(0.75) # third quartile\n",
    "age_IQR = age_Q3 - age_Q1 # inter quantile range\n",
    "age_Q3 + 1.5 * age_IQR  # the theoretical number of upper whisker which is bigger than the closest point in the real data."
   ]
  },
  {
   "cell_type": "markdown",
   "metadata": {},
   "source": [
    "<div style=\"border:solid green 2px; padding: 20px\"> <b>Success:</b><br>\n",
    "    You did well to use the quantile method and calculate inter quantile range :) That's really great! </div>  "
   ]
  },
  {
   "cell_type": "markdown",
   "metadata": {},
   "source": [
    "<div class=\"alert alert-block alert-info\">\n",
    "As the theoretical can only be larger than the closest value in the data, we have outliers above 24 years.<br>\n",
    "In other words, there are outliers above 24.\n",
    "</div>"
   ]
  },
  {
   "cell_type": "markdown",
   "metadata": {},
   "source": [
    "#### Mileage\n",
    "<a class=\"anchor\" id=\"chapter33\"></a>\n",
    "[Go back to the Table of Contents](#table_of_contents)"
   ]
  },
  {
   "cell_type": "code",
   "execution_count": 48,
   "metadata": {
    "scrolled": true
   },
   "outputs": [
    {
     "data": {
      "image/png": "[encoded data removed]",
      "text/plain": [
       "<Figure size 432x288 with 1 Axes>"
      ]
     },
     "metadata": {
      "needs_background": "light"
     },
     "output_type": "display_data"
    }
   ],
   "source": [
    "# Plotting a box plot for 'vehicle_mileage_per_year' column, showing values betwwen -1000 and 40,000.\n",
    "vehicles_data_copy['vehicle_mileage_per_year'].plot(kind='box',\n",
    "                                                    ylim=(-1000, 40000),\n",
    "                                                    title='Box plot for vehicle_mileage_per_year');"
   ]
  },
  {
   "cell_type": "markdown",
   "metadata": {},
   "source": [
    "It is safe to say that most of our values are up to about 23,000 aprrox. <br>\n",
    "Looking at the graph, we can see that there are outliers above 39,000.<br>\n",
    "Let's look at the theoretical number."
   ]
  },
  {
   "cell_type": "code",
   "execution_count": 49,
   "metadata": {},
   "outputs": [
    {
     "data": {
      "text/plain": [
       "38315.21212121213"
      ]
     },
     "execution_count": 49,
     "metadata": {},
     "output_type": "execute_result"
    }
   ],
   "source": [
    "# Checking upper whisker theoretical value.\n",
    "mileage_Q1 = vehicles_data_copy['vehicle_mileage_per_year'].quantile(0.25) # first quartile\n",
    "mileage_Q3 = vehicles_data_copy['vehicle_mileage_per_year'].quantile(0.75) # third quartile\n",
    "mileage_IQR = mileage_Q3 - mileage_Q1 # inter quantile range\n",
    "mileage_Q3 + 1.5 * mileage_IQR  # the theoretical number of upper whisker which is bigger than the closest point in the real data."
   ]
  },
  {
   "cell_type": "markdown",
   "metadata": {},
   "source": [
    "<div class=\"alert alert-block alert-info\">\n",
    "Outliers exist above 38780 since the theoretical value can only be larger than the closest real value in the data.<br>\n",
    "Therefore, we have outliers above 39,000.\n",
    "</div>"
   ]
  },
  {
   "cell_type": "markdown",
   "metadata": {},
   "source": [
    "<div style=\"border:solid green 2px; padding: 20px\"> <b>Success:</b><br>\n",
    "    I like the methods you use in your analysis.</div>   "
   ]
  },
  {
   "cell_type": "markdown",
   "metadata": {},
   "source": [
    "#### Cylinders\n",
    "<a class=\"anchor\" id=\"chapter34\"></a>\n",
    "[Go back to the Table of Contents](#table_of_contents)"
   ]
  },
  {
   "cell_type": "code",
   "execution_count": 50,
   "metadata": {
    "scrolled": true
   },
   "outputs": [
    {
     "data": {
      "image/png": "[encoded data removed]",
      "text/plain": [
       "<Figure size 432x288 with 1 Axes>"
      ]
     },
     "metadata": {
      "needs_background": "light"
     },
     "output_type": "display_data"
    }
   ],
   "source": [
    "# Plotting a box plot for 'cylinders' column.\n",
    "vehicles_data_copy['cylinders'].plot(kind='box',\n",
    "                                     title='Box plot for vehicle_mileage_per_year');"
   ]
  },
  {
   "cell_type": "markdown",
   "metadata": {},
   "source": [
    "<div class=\"alert alert-block alert-info\">\n",
    "There are no outliers in cylinders.\n",
    "</div>"
   ]
  },
  {
   "cell_type": "markdown",
   "metadata": {},
   "source": [
    "#### Condition\n",
    "<a class=\"anchor\" id=\"chapter35\"></a>\n",
    "[Go back to the Table of Contents](#table_of_contents)"
   ]
  },
  {
   "cell_type": "code",
   "execution_count": 51,
   "metadata": {
    "scrolled": true
   },
   "outputs": [
    {
     "data": {
      "image/png": "[encoded data removed]",
      "text/plain": [
       "<Figure size 432x288 with 1 Axes>"
      ]
     },
     "metadata": {
      "needs_background": "light"
     },
     "output_type": "display_data"
    }
   ],
   "source": [
    "# Plotting a box plot for 'condition' column.\n",
    "vehicles_data_copy['condition'].plot(kind='box',\n",
    "                                     title='Box plot for vehicle_mileage_per_year');"
   ]
  },
  {
   "cell_type": "markdown",
   "metadata": {},
   "source": [
    "<div class=\"alert alert-block alert-info\">\n",
    "Outliers appear at both ends of the plot, very new cars (5) and salvage cars (0).<br>\n",
    "As most cars move around excellent (3) and good (2) conditions, this makes sense. However, I am not comfortable removing these values from the data, as I think they should also be considered.\n",
    "</div>"
   ]
  },
  {
   "cell_type": "markdown",
   "metadata": {},
   "source": [
    "<div style=\"border:solid green 2px; padding: 20px\"> <b>Success:</b><br>\n",
    "    Why not. It's a reasonable approach 🙂</div>   "
   ]
  },
  {
   "cell_type": "markdown",
   "metadata": {},
   "source": [
    "### Filtered Data\n",
    "<a class=\"anchor\" id=\"chapter20\"></a>\n",
    "[Go back to the Table of Contents](#table_of_contents)"
   ]
  },
  {
   "cell_type": "markdown",
   "metadata": {},
   "source": [
    "* Use the filtered data to plot new histograms.<br> \n",
    "* Compare them with the earlier histograms (the ones that included outliers).<br> \n",
    "* Draw conclusions for each histogram."
   ]
  },
  {
   "cell_type": "markdown",
   "metadata": {},
   "source": [
    "#### Price\n",
    "<a class=\"anchor\" id=\"chapter36\"></a>\n",
    "[Go back to the Table of Contents](#table_of_contents)"
   ]
  },
  {
   "cell_type": "code",
   "execution_count": 52,
   "metadata": {},
   "outputs": [],
   "source": [
    "# Filtering 'price' coulmn, without outliers.\n",
    "price_clean = vehicles_data_copy.query('300 < price < 35000')['price']"
   ]
  },
  {
   "cell_type": "code",
   "execution_count": 53,
   "metadata": {},
   "outputs": [
    {
     "data": {
      "image/png": "[encoded data removed]",
      "text/plain": [
       "<Figure size 432x288 with 1 Axes>"
      ]
     },
     "metadata": {
      "needs_background": "light"
     },
     "output_type": "display_data"
    }
   ],
   "source": [
    "# Plotting new histogram for 'price' based on clean data.\n",
    "price_clean.plot(kind='hist',\n",
    "                 rot=30,\n",
    "                 title='Distrubution of Price Filtered');\n",
    "plt.gca().set(xlabel='Price');"
   ]
  },
  {
   "cell_type": "code",
   "execution_count": 54,
   "metadata": {},
   "outputs": [
    {
     "data": {
      "image/png": "[encoded data removed]",
      "text/plain": [
       "<Figure size 432x288 with 1 Axes>"
      ]
     },
     "metadata": {
      "needs_background": "light"
     },
     "output_type": "display_data"
    }
   ],
   "source": [
    "# Old histogram for 'price' column, all data.\n",
    "vehicles_data_copy['price'].plot(kind='hist',\n",
    "                                 rot=30,\n",
    "                                 title='Distrubution of Price Whole Data');\n",
    "plt.gca().set(xlabel='Price');"
   ]
  },
  {
   "cell_type": "markdown",
   "metadata": {},
   "source": [
    "<s><div style=\"border:solid red 2px; padding: 20px\"> <b>Needs fixing:</b><br>\n",
    "    Nice plots, but please don't forget to add axes captions. </div>"
   ]
  },
  {
   "cell_type": "markdown",
   "metadata": {},
   "source": [
    "<div class=\"alert alert-info\" style=\"border:solid blue 2px; padding: 20px\"> \n",
    "    <b>Done</b><br>\n",
    "Added caption to axes.<br>\n",
    "</div>"
   ]
  },
  {
   "cell_type": "markdown",
   "metadata": {},
   "source": [
    "<div class=\"alert alert-block alert-info\">\n",
    "It is much easier to see the price trend in the filtered data than in the graph for the whole data.<br>\n",
    "    Most ads are priced around 5,000 - 7,000.\n",
    "</div>"
   ]
  },
  {
   "cell_type": "markdown",
   "metadata": {},
   "source": [
    "#### Vehicle age\n",
    "<a class=\"anchor\" id=\"chapter37\"></a>\n",
    "[Go back to the Table of Contents](#table_of_contents)"
   ]
  },
  {
   "cell_type": "code",
   "execution_count": 55,
   "metadata": {},
   "outputs": [],
   "source": [
    "# Filtering 'vehicle_age' coulmn, without outliers.\n",
    "vehicle_age_clean = vehicles_data_copy.query('vehicle_age < 24')['vehicle_age']"
   ]
  },
  {
   "cell_type": "code",
   "execution_count": 56,
   "metadata": {},
   "outputs": [
    {
     "data": {
      "image/png": "[encoded data removed]",
      "text/plain": [
       "<Figure size 432x288 with 1 Axes>"
      ]
     },
     "metadata": {
      "needs_background": "light"
     },
     "output_type": "display_data"
    }
   ],
   "source": [
    "# Plotting new histogram for 'vehicle_age' based on clean data.\n",
    "vehicle_age_clean.plot(kind='hist',\n",
    "                       title='Distrubution of Vehicle Age Filtered');\n",
    "plt.gca().set(xlabel='Vehicle Age');"
   ]
  },
  {
   "cell_type": "code",
   "execution_count": 57,
   "metadata": {},
   "outputs": [
    {
     "data": {
      "image/png": "[encoded data removed]",
      "text/plain": [
       "<Figure size 432x288 with 1 Axes>"
      ]
     },
     "metadata": {
      "needs_background": "light"
     },
     "output_type": "display_data"
    }
   ],
   "source": [
    "# Old histogram for 'vehicle_age' column, all data.\n",
    "vehicles_data_copy['vehicle_age'].plot(kind='hist', \n",
    "                                 title='Distrubution of Vehicle Age Whole Data');\n",
    "plt.gca().set(xlabel='Vehicle Age');"
   ]
  },
  {
   "cell_type": "markdown",
   "metadata": {},
   "source": [
    "<div class=\"alert alert-block alert-info\">\n",
    "It is much easier to see the age trend in the filtered data than in the graph for the whole data.<br>\n",
    "    Most cars are around their 7 year mark.\n",
    "</div>"
   ]
  },
  {
   "cell_type": "markdown",
   "metadata": {},
   "source": [
    "<div style=\"border:solid green 2px; padding: 20px\"> <b>Success:</b><br>\n",
    "   👍</div>   "
   ]
  },
  {
   "cell_type": "markdown",
   "metadata": {},
   "source": [
    "#### Mileage\n",
    "<a class=\"anchor\" id=\"chapter38\"></a>\n",
    "[Go back to the Table of Contents](#table_of_contents)"
   ]
  },
  {
   "cell_type": "code",
   "execution_count": 58,
   "metadata": {},
   "outputs": [],
   "source": [
    "# Filtering 'vehicle_mileage_per_year' coulmn, without outliers.\n",
    "vehicle_mileage_per_year_clean = vehicles_data_copy.query('vehicle_mileage_per_year < 39000')['vehicle_mileage_per_year'].astype('int')"
   ]
  },
  {
   "cell_type": "code",
   "execution_count": 59,
   "metadata": {},
   "outputs": [
    {
     "data": {
      "image/png": "[encoded data removed]",
      "text/plain": [
       "<Figure size 432x288 with 1 Axes>"
      ]
     },
     "metadata": {
      "needs_background": "light"
     },
     "output_type": "display_data"
    }
   ],
   "source": [
    "# Plotting new histogram for 'vehicle_mileage_per_year' based on clean data.\n",
    "vehicle_mileage_per_year_clean.plot(kind='hist',\n",
    "                                    rot=30,\n",
    "                                    title='Distrubution of Vehicle Mileage Per Year Filtered');\n",
    "plt.gca().set(xlabel='Mileage Per Year');"
   ]
  },
  {
   "cell_type": "code",
   "execution_count": 60,
   "metadata": {},
   "outputs": [
    {
     "data": {
      "image/png": "[encoded data removed]",
      "text/plain": [
       "<Figure size 432x288 with 1 Axes>"
      ]
     },
     "metadata": {
      "needs_background": "light"
     },
     "output_type": "display_data"
    }
   ],
   "source": [
    "# Old histogram for 'vehicle_mileage_per_year' column, all data.\n",
    "vehicles_data_copy['vehicle_mileage_per_year'].plot(kind='hist',\n",
    "                                                    rot=30, \n",
    "                                                    title='Distrubution of Vehicle Mileage Per Year Whole Data');\n",
    "plt.gca().set(xlabel='Mileage Per Year');"
   ]
  },
  {
   "cell_type": "markdown",
   "metadata": {},
   "source": [
    "<div class=\"alert alert-block alert-info\">\n",
    "It is much easier to see the millage trend in the filtered data than in the graph for the whole data.<br>\n",
    "    Most cars driving between 12,000 - 15,000 (miles/kilometers) a year\n",
    "</div>"
   ]
  },
  {
   "cell_type": "markdown",
   "metadata": {},
   "source": [
    "<div style=\"border:solid orange 2px; padding: 20px\"> <b>Remarks:</b><br>\n",
    "   So that the graphs can be easily compared with each other, you can build two histograms side by side. I will show you how to do this below.</div>   "
   ]
  },
  {
   "cell_type": "markdown",
   "metadata": {},
   "source": [
    "<div class=\"alert alert-info\" style=\"border:solid blue 2px; padding: 20px\"> \n",
    "    I like how you showed the graphs side by side. Could you please comment your code so I can understand what's going on?\n",
    "</div>"
   ]
  },
  {
   "cell_type": "markdown",
   "metadata": {},
   "source": [
    "<div style=\"border:solid green 2px; padding: 20px\"> <b>Success V2:</b><br>\n",
    "    ✔️ </div>       "
   ]
  },
  {
   "cell_type": "code",
   "execution_count": 61,
   "metadata": {},
   "outputs": [
    {
     "data": {
      "image/png": "[encoded data removed]",
      "text/plain": [
       "<Figure size 1296x504 with 2 Axes>"
      ]
     },
     "metadata": {
      "needs_background": "light"
     },
     "output_type": "display_data"
    }
   ],
   "source": [
    "#Reviewer's code\n",
    "fig, axs = plt.subplots(1, 2, figsize=(18,7)) #subplots help to you make your charts together (1, 2 - chart), figsize - figure size \n",
    "plt.suptitle('Distrubution of Vehicle Mileage Per Year', size=18) #title of two plots\n",
    "\n",
    "#new histogram\n",
    "vehicle_mileage_per_year_clean.plot(kind='hist',\n",
    "                                    rot=0,\n",
    "                                 ax=axs[0]) #ax helps to mark that the first chart will be first(ax=axs[0])\n",
    "axs[0].set_title('new histogram', size=13) #title for the first chart\n",
    "axs[0].set_xlabel('vehicle_mileage_per_year') #x- and \n",
    "axs[0].set_ylabel('frequency')                 #y - captions\n",
    "\n",
    "#Old histogram\n",
    "vehicles_data_copy['vehicle_mileage_per_year'].hist(bins=100, ax=axs[1]) # ax=axs[1] - mark that it's the second chart\n",
    "axs[1].set_title('Previous histogram', size=13)#title for the second chart\n",
    "axs[1].set_xlabel('vehicle_mileage_per_year')  #x- and \n",
    "axs[1].set_ylabel('frequency')                #y - captions\n",
    "\n",
    "plt.show()\n"
   ]
  },
  {
   "cell_type": "markdown",
   "metadata": {},
   "source": [
    "### Ads\n",
    "<a class=\"anchor\" id=\"chapter21\"></a>\n",
    "[Go back to the Table of Contents](#table_of_contents)"
   ]
  },
  {
   "cell_type": "markdown",
   "metadata": {},
   "source": [
    "#### Study\n",
    "<a class=\"anchor\" id=\"chapter22\"></a>\n",
    "[Go back to the Table of Contents](#table_of_contents)"
   ]
  },
  {
   "cell_type": "markdown",
   "metadata": {},
   "source": [
    "* Study how many days advertisements were displayed (days_listed). <br>\n",
    "* Plot a histogram. <br>\n",
    "* Calculate the mean and median. <br>\n",
    "* Describe the typical lifetime of an ad. <br>\n",
    "* Determine when ads were removed quickly, and when they were listed for an abnormally long time."
   ]
  },
  {
   "cell_type": "code",
   "execution_count": 62,
   "metadata": {},
   "outputs": [
    {
     "data": {
      "image/png": "[encoded data removed]",
      "text/plain": [
       "<Figure size 432x288 with 1 Axes>"
      ]
     },
     "metadata": {
      "needs_background": "light"
     },
     "output_type": "display_data"
    }
   ],
   "source": [
    "# Plotting histogram for 'days_listed'.\n",
    "vehicles_data_copy['days_listed'].plot(kind='hist',\n",
    "                                       bins=30,\n",
    "                                       title='Distrubution of Days Listed');"
   ]
  },
  {
   "cell_type": "markdown",
   "metadata": {},
   "source": [
    "Looks like most ads are up for 30 days or so.<br>\n",
    "the majority of the data lives up to 50."
   ]
  },
  {
   "cell_type": "code",
   "execution_count": 63,
   "metadata": {},
   "outputs": [
    {
     "name": "stdout",
     "output_type": "stream",
     "text": [
      "the mean for days_listed is: 39.55475982532751\n",
      "the median for days_listed is: 33.0\n"
     ]
    }
   ],
   "source": [
    "# Calculating the mean for 'days_listed'.\n",
    "days_listed_mean = vehicles_data_copy['days_listed'].mean()\n",
    "print('the mean for days_listed is:', days_listed_mean)\n",
    "\n",
    "# Calculating the median for 'days_listed'.\n",
    "days_listed_median = vehicles_data_copy['days_listed'].median()\n",
    "print('the median for days_listed is:', days_listed_median)"
   ]
  },
  {
   "cell_type": "markdown",
   "metadata": {},
   "source": [
    "On average, an ad is posted for 39 days, but we have some outliers in the data and we can see the long tail.<br>\n",
    "This means we can better interpret our data by using the median (pun not intended).<br>\n",
    "The typical ad life span is about 33 days."
   ]
  },
  {
   "cell_type": "code",
   "execution_count": 64,
   "metadata": {
    "scrolled": true
   },
   "outputs": [
    {
     "data": {
      "image/png": "[encoded data removed]",
      "text/plain": [
       "<Figure size 432x288 with 1 Axes>"
      ]
     },
     "metadata": {
      "needs_background": "light"
     },
     "output_type": "display_data"
    }
   ],
   "source": [
    "# Plotting a box plot for 'cylinders' column, showing data from -5 to 110.\n",
    "vehicles_data_copy['days_listed'].plot(kind='box',\n",
    "                                       ylim=(-5, 110),\n",
    "                                       title='Box plot for Days Listed');"
   ]
  },
  {
   "cell_type": "code",
   "execution_count": 65,
   "metadata": {},
   "outputs": [
    {
     "data": {
      "text/plain": [
       "104.0"
      ]
     },
     "execution_count": 65,
     "metadata": {},
     "output_type": "execute_result"
    }
   ],
   "source": [
    "# Checking upper whisker theoretical value.\n",
    "listed_Q1 = vehicles_data_copy['days_listed'].quantile(0.25) # first quartile\n",
    "listed_Q3 = vehicles_data_copy['days_listed'].quantile(0.75) # third quartile\n",
    "listed_IQR = listed_Q3 - listed_Q1 # inter quantile range\n",
    "listed_Q3 + 1.5 * listed_IQR  # the theoretical number of upper whisker which is bigger than the closest point in the real data."
   ]
  },
  {
   "cell_type": "markdown",
   "metadata": {},
   "source": [
    "Above 104 we have outliers in terms of days the ad was listed."
   ]
  },
  {
   "cell_type": "code",
   "execution_count": 66,
   "metadata": {},
   "outputs": [
    {
     "data": {
      "image/png": "[encoded data removed]",
      "text/plain": [
       "<Figure size 432x288 with 1 Axes>"
      ]
     },
     "metadata": {
      "needs_background": "light"
     },
     "output_type": "display_data"
    }
   ],
   "source": [
    "# Plotting histogram for 'days_listed'. zooming on 0-30 days.\n",
    "vehicles_data_copy['days_listed'].plot(kind='hist',\n",
    "                                       bins=30,\n",
    "                                       range=(0, 30),\n",
    "                                       title='Distrubution of Days Listed, zooming on 0-30 days');"
   ]
  },
  {
   "cell_type": "markdown",
   "metadata": {},
   "source": [
    "While we don't see lower outliers in the box plot, we can see in the histogram that around 12 days the number of ads begins to normalize before peaking at 30 days. Below 12 days we see fewer and fewer ads, so I would say that an ad that has been up less than 12 days is quickly removed."
   ]
  },
  {
   "cell_type": "markdown",
   "metadata": {},
   "source": [
    "<div class=\"alert alert-block alert-info\">\n",
    "Ads that are up less than 12 days are rmoved quickly.<br>\n",
    "Ads that are up more than 104 days are up abnormally long time.<br>\n",
    "    Most ads are up around 33 days.\n",
    "</div>"
   ]
  },
  {
   "cell_type": "markdown",
   "metadata": {},
   "source": [
    "<div style=\"border:solid green 2px; padding: 20px\"> <b>Success:</b><br>\n",
    "    Very well! All good here 👍 </div>       "
   ]
  },
  {
   "cell_type": "markdown",
   "metadata": {},
   "source": [
    "#### Analyze\n",
    "<a class=\"anchor\" id=\"chapter23\"></a>\n",
    "[Go back to the Table of Contents](#table_of_contents)"
   ]
  },
  {
   "cell_type": "markdown",
   "metadata": {},
   "source": [
    "* Analyze the number of ads and the average price for each type of vehicle. <br>\n",
    "* Plot a graph showing the dependence of the number of ads on the vehicle type. <br>\n",
    "* Select the two types with the greatest number of ads."
   ]
  },
  {
   "cell_type": "code",
   "execution_count": 67,
   "metadata": {},
   "outputs": [
    {
     "data": {
      "text/html": [
       "<div>\n",
       "<style scoped>\n",
       "    .dataframe tbody tr th:only-of-type {\n",
       "        vertical-align: middle;\n",
       "    }\n",
       "\n",
       "    .dataframe tbody tr th {\n",
       "        vertical-align: top;\n",
       "    }\n",
       "\n",
       "    .dataframe thead th {\n",
       "        text-align: right;\n",
       "    }\n",
       "</style>\n",
       "<table border=\"1\" class=\"dataframe\">\n",
       "  <thead>\n",
       "    <tr style=\"text-align: right;\">\n",
       "      <th></th>\n",
       "      <th>amount of ads</th>\n",
       "      <th>mean price</th>\n",
       "    </tr>\n",
       "    <tr>\n",
       "      <th>type</th>\n",
       "      <th></th>\n",
       "      <th></th>\n",
       "    </tr>\n",
       "  </thead>\n",
       "  <tbody>\n",
       "    <tr>\n",
       "      <td>SUV</td>\n",
       "      <td>12405</td>\n",
       "      <td>11149.400000</td>\n",
       "    </tr>\n",
       "    <tr>\n",
       "      <td>truck</td>\n",
       "      <td>12353</td>\n",
       "      <td>16734.894924</td>\n",
       "    </tr>\n",
       "    <tr>\n",
       "      <td>sedan</td>\n",
       "      <td>12154</td>\n",
       "      <td>6965.358647</td>\n",
       "    </tr>\n",
       "    <tr>\n",
       "      <td>pickup</td>\n",
       "      <td>6988</td>\n",
       "      <td>16057.410418</td>\n",
       "    </tr>\n",
       "    <tr>\n",
       "      <td>coupe</td>\n",
       "      <td>2303</td>\n",
       "      <td>14353.442901</td>\n",
       "    </tr>\n",
       "    <tr>\n",
       "      <td>wagon</td>\n",
       "      <td>1541</td>\n",
       "      <td>9088.134328</td>\n",
       "    </tr>\n",
       "    <tr>\n",
       "      <td>mini-van</td>\n",
       "      <td>1161</td>\n",
       "      <td>8193.177433</td>\n",
       "    </tr>\n",
       "    <tr>\n",
       "      <td>hatchback</td>\n",
       "      <td>1047</td>\n",
       "      <td>6868.513849</td>\n",
       "    </tr>\n",
       "    <tr>\n",
       "      <td>van</td>\n",
       "      <td>633</td>\n",
       "      <td>10546.941548</td>\n",
       "    </tr>\n",
       "    <tr>\n",
       "      <td>convertible</td>\n",
       "      <td>446</td>\n",
       "      <td>14575.881166</td>\n",
       "    </tr>\n",
       "    <tr>\n",
       "      <td>other</td>\n",
       "      <td>256</td>\n",
       "      <td>10989.714844</td>\n",
       "    </tr>\n",
       "    <tr>\n",
       "      <td>offroad</td>\n",
       "      <td>214</td>\n",
       "      <td>14292.294393</td>\n",
       "    </tr>\n",
       "    <tr>\n",
       "      <td>bus</td>\n",
       "      <td>24</td>\n",
       "      <td>17135.666667</td>\n",
       "    </tr>\n",
       "  </tbody>\n",
       "</table>\n",
       "</div>"
      ],
      "text/plain": [
       "             amount of ads    mean price\n",
       "type                                    \n",
       "SUV                  12405  11149.400000\n",
       "truck                12353  16734.894924\n",
       "sedan                12154   6965.358647\n",
       "pickup                6988  16057.410418\n",
       "coupe                 2303  14353.442901\n",
       "wagon                 1541   9088.134328\n",
       "mini-van              1161   8193.177433\n",
       "hatchback             1047   6868.513849\n",
       "van                    633  10546.941548\n",
       "convertible            446  14575.881166\n",
       "other                  256  10989.714844\n",
       "offroad                214  14292.294393\n",
       "bus                     24  17135.666667"
      ]
     },
     "execution_count": 67,
     "metadata": {},
     "output_type": "execute_result"
    }
   ],
   "source": [
    "# Creatin a pivot table with 'type' as index, 'price' as values. \n",
    "# Counting the amount of ads per type, and calculating the mean and saving into 'ads_by_type'.\n",
    "ads_by_type = vehicles_data_copy.pivot_table(index='type', values='price', aggfunc=['count', 'mean'])\n",
    "ads_by_type.columns = ['amount of ads', 'mean price'] # changing the columns names.\n",
    "ads_by_type.sort_values(by='amount of ads', inplace=True, ascending=False) # sorting values by 'amount of ads'\n",
    "ads_by_type"
   ]
  },
  {
   "cell_type": "code",
   "execution_count": 68,
   "metadata": {},
   "outputs": [
    {
     "data": {
      "image/png": "[encoded data removed]",
      "text/plain": [
       "<Figure size 720x360 with 1 Axes>"
      ]
     },
     "metadata": {
      "needs_background": "light"
     },
     "output_type": "display_data"
    }
   ],
   "source": [
    "ads_by_type['amount of ads'].plot(kind='bar', # plotting a bar graph\n",
    "                                  rot=45,     # rottating types by 45 degrees\n",
    "                                  figsize=(10,5), # size of the plot 10 by 5 inches.\n",
    "                                  title='Relationship between type and number of ads'); #title of the plot.\n",
    "plt.gca().set(ylabel='Frequency');"
   ]
  },
  {
   "cell_type": "markdown",
   "metadata": {},
   "source": [
    "<s><div style=\"border:solid red 2px; padding: 20px\"> <b>Needs fixing:</b><br>\n",
    "    Please don't forget y-axes captions. </div>"
   ]
  },
  {
   "cell_type": "markdown",
   "metadata": {},
   "source": [
    "<div class=\"alert alert-info\" style=\"border:solid blue 2px; padding: 20px\"> \n",
    "    <b>Done</b><br>\n",
    "Added caption to axes.🙈<br>\n",
    "</div>"
   ]
  },
  {
   "cell_type": "markdown",
   "metadata": {},
   "source": [
    "<div class=\"alert alert-block alert-info\">\n",
    "The 2 types with most ads are: SUV and truck.<br>\n",
    "    Followed closely by sedan.\n",
    "</div>"
   ]
  },
  {
   "cell_type": "markdown",
   "metadata": {},
   "source": [
    "<div style=\"border:solid green 2px; padding: 20px\"> <b>Success:</b><br>\n",
    "    Good analysis 👍</div>       "
   ]
  },
  {
   "cell_type": "markdown",
   "metadata": {},
   "source": [
    "### Factors affecting price\n",
    "<a class=\"anchor\" id=\"chapter24\"></a>\n",
    "[Go back to the Table of Contents](#table_of_contents)"
   ]
  },
  {
   "cell_type": "markdown",
   "metadata": {},
   "source": [
    "What factors impact the price most? Take each of the popular types you detected at the previous stage and <br>\n",
    "* study whether the price depends on age, mileage, condition, transmission type, and color. <br>\n",
    "* For categorical variables (transmission type and color), plot box-and-whisker charts, and create scatterplots for the rest. <br>\n",
    "When analyzing categorical variables, note that the categories must have at least 50 ads; otherwise, their parameters won't be valid for analysis."
   ]
  },
  {
   "cell_type": "code",
   "execution_count": 69,
   "metadata": {},
   "outputs": [],
   "source": [
    "# creating 'suv' dataframe to host all SUV entries.\n",
    "suv = vehicles_data_copy.query('type == \"SUV\"')"
   ]
  },
  {
   "cell_type": "code",
   "execution_count": 70,
   "metadata": {},
   "outputs": [
    {
     "data": {
      "image/png": "[encoded data removed]",
      "text/plain": [
       "<Figure size 1080x576 with 2 Axes>"
      ]
     },
     "metadata": {
      "needs_background": "light"
     },
     "output_type": "display_data"
    }
   ],
   "source": [
    "plt.figure(figsize = (15,8))                            # Setting the size of the plot.\n",
    "sns.heatmap(suv.corr(), annot = True, cmap=\"BuPu\");     # Generating seabon heatmap for the correlation of SUV.\n",
    "plt.xticks(rotation=30)                                 # Rotating x axis label by 30 degrees.\n",
    "plt.title('SUV Correlation', fontsize =20)              # Stting the title of the plot\n",
    "plt.show()                                              # Showing plot."
   ]
  },
  {
   "cell_type": "code",
   "execution_count": 71,
   "metadata": {},
   "outputs": [],
   "source": [
    "# creating 'truck' dataframe to host all truck entries.\n",
    "truck = vehicles_data_copy.query('type == \"truck\"')"
   ]
  },
  {
   "cell_type": "code",
   "execution_count": 72,
   "metadata": {},
   "outputs": [
    {
     "data": {
      "image/png": "[encoded data removed]",
      "text/plain": [
       "<Figure size 1080x576 with 2 Axes>"
      ]
     },
     "metadata": {
      "needs_background": "light"
     },
     "output_type": "display_data"
    }
   ],
   "source": [
    "plt.figure(figsize = (15,8))                              # Setting the size of the plot.\n",
    "sns.heatmap(truck.corr(), annot = True, cmap=\"BuPu\");     # Generating seabon heatmap for the correlation of truck.\n",
    "plt.xticks(rotation=30)                                   # Rotating x axis label by 30 degrees.\n",
    "plt.title('Truck Correlation', fontsize =20)              # Stting the title of the plot\n",
    "plt.show()                                                # Showing plot."
   ]
  },
  {
   "cell_type": "markdown",
   "metadata": {},
   "source": [
    "1. We can see that 'model_year' has a strong positive correlation with the price, the higher 'model_year' the newer the car so the price goes up.\n",
    "2. 'odometer' has a strong negative correlation with the price, as the odometer is higher the price goes down.\n",
    "3. 'vehicle_age' is basically the same as 'model_year' but in reverse.\n",
    "4. It's interesting to see that 'vehicle_mileage_per_year' has positive correlation while 'odometer' has negative. I think its connected to the fact that both 'vehicle_age' and 'odometer' has negative correlation, and 'vehicle_mileage_per_year' is basiclly those two divided so it becomes positive (?).\n",
    "5. 'condition' has a weak positive correlation to 'price'."
   ]
  },
  {
   "cell_type": "markdown",
   "metadata": {},
   "source": [
    "<div class=\"alert alert-block alert-info\">\n",
    "Model year (also the age of the car) and the milage has the most impact on the price.\n",
    "</div>"
   ]
  },
  {
   "cell_type": "markdown",
   "metadata": {},
   "source": [
    "<div style=\"border:solid green 2px; padding: 20px\"> <b>Success:</b><br>\n",
    "   I like that you use correlation matrices in your project and exploring the data in depth. Good work! 😊</div> "
   ]
  },
  {
   "cell_type": "markdown",
   "metadata": {},
   "source": [
    "<div style=\"border:solid orange 2px; padding: 20px\"> <b>Remarks:</b><br>\n",
    " I'll leave you the links about correlation matrix, it might be helpful:\n",
    "\n",
    " https://www.askpython.com/python/examples/correlation-matrix-in-python\n",
    "    \n",
    " https://likegeeks.com/python-correlation-matrix/\n",
    "   </div>   "
   ]
  },
  {
   "cell_type": "markdown",
   "metadata": {},
   "source": [
    "<div class=\"alert alert-info\" style=\"border:solid blue 2px; padding: 20px\"> \n",
    "    <b>Done</b><br>\n",
    "Created a heatmap using seaborn😇\n",
    "</div>"
   ]
  },
  {
   "cell_type": "markdown",
   "metadata": {},
   "source": [
    "<div style=\"border:solid green 2px; padding: 20px\"> <b>Success V2:</b><br>\n",
    "    Wow, it looks really great! 👏 👏 👏 Well done!!!</div>       "
   ]
  },
  {
   "cell_type": "code",
   "execution_count": 73,
   "metadata": {},
   "outputs": [],
   "source": [
    "most_pop_types = vehicles_data_copy.query('type == \"SUV\" | type == \"truck\"')"
   ]
  },
  {
   "cell_type": "code",
   "execution_count": 74,
   "metadata": {},
   "outputs": [
    {
     "data": {
      "image/png": "[encoded data removed]",
      "text/plain": [
       "<Figure size 720x576 with 1 Axes>"
      ]
     },
     "metadata": {
      "needs_background": "light"
     },
     "output_type": "display_data"
    }
   ],
   "source": [
    "plt.figure(figsize=(10, 8))                                                     # plot figure size\n",
    "\n",
    "sns.boxplot(x=\"transmission\", y=\"price\", hue='type',data=most_pop_types)        # \"transmission\" on x axis,\n",
    "                                                                                # \"price\" on y axis.\n",
    "                                                                                # grouped by 'type'.\n",
    "        \n",
    "plt.legend(bbox_to_anchor=(1.05, 1), loc='upper left', borderaxespad=0)         # moving the legend outside.\n",
    "plt.ylim(-1000, 45000)                                                          # limiting y axis (price) -1000 to 45,000 \n",
    "plt.ylabel(\"Price\", size=14)                                                    # labeling y axis.\n",
    "plt.xlabel(\"Transmission\",size=14)                                              # labeling y axis.\n",
    "plt.title(\"Realtion Between Transmission and Car Type to Price\", size=18);      # labeling the plot."
   ]
  },
  {
   "cell_type": "markdown",
   "metadata": {},
   "source": [
    "1. It looks like for automatic, trucks have a higher correlation to price.\n",
    "2. the opposite is true for manual.<br>\n",
    "Overall it makes sense as trucks can have up 18 gears(!), and I know I wouldn't want to shift them manually so I geuss other people too.\n",
    "3. for other it's looks the same, but I might say that there is no 50% line so there might be no values for truck (?), in any case I havn't heard yet about hybrid truck or truck with robotic gear change, I think it concludes with auto and manual only."
   ]
  },
  {
   "cell_type": "markdown",
   "metadata": {},
   "source": [
    "<div class=\"alert alert-block alert-info\">\n",
    "Between SUV and truck, trucks have higher correlation to automatic gear.<br>\n",
    "    The opposite is true for manual.\n",
    "</div>"
   ]
  },
  {
   "cell_type": "markdown",
   "metadata": {},
   "source": [
    "<div style=\"border:solid green 2px; padding: 20px\"> <b>Success:</b><br>\n",
    "  \n",
    "   Wow, it's great that you use `seaborn` library 👍 </div>"
   ]
  },
  {
   "cell_type": "code",
   "execution_count": 75,
   "metadata": {
    "scrolled": false
   },
   "outputs": [
    {
     "data": {
      "image/png": "[encoded data removed]",
      "text/plain": [
       "<Figure size 1080x576 with 1 Axes>"
      ]
     },
     "metadata": {
      "needs_background": "light"
     },
     "output_type": "display_data"
    }
   ],
   "source": [
    "plt.figure(figsize=(15, 8))                                               # plot figure size\n",
    "\n",
    "sns.boxplot(x=\"paint_color\", y=\"price\", hue='type',data=most_pop_types)   # \"paint_color\" on x axis,\n",
    "                                                                          # \"price\" on y axis.\n",
    "                                                                          # grouped by 'type'.\n",
    "        \n",
    "plt.legend(bbox_to_anchor=(1.05, 1), loc='upper left', borderaxespad=0)   # moving the legend outside.\n",
    "plt.ylim(-1000, 52000)                                                    # limiting y axis (price) -1000 to 52,000 \n",
    "plt.ylabel(\"Price\", size=14)                                              # labeling y axis.\n",
    "plt.xlabel(\"Paint Color\",size=14)                                         # labeling y axis.\n",
    "plt.title(\"Realtion Between Paint Color and Car Type to Price\", size=18); # labeling the plot."
   ]
  },
  {
   "cell_type": "markdown",
   "metadata": {},
   "source": [
    "Except for orange and yellow, all other colors including the \"other\" color grouo (which are unknowns), have higher correlation to price with truck as the type.\n",
    "maybe truck are just overall more expensive than SUVs (?)"
   ]
  },
  {
   "cell_type": "markdown",
   "metadata": {},
   "source": [
    "<div style=\"border:solid green 2px; padding: 20px\"> <b>Success:</b><br>\n",
    "   Thanks a lot for the detailed explanation of the charts and logical interpretation 😊</div> "
   ]
  },
  {
   "cell_type": "markdown",
   "metadata": {},
   "source": [
    "<s><div style=\"border:solid red 2px; padding: 20px\"> <b>Needs fixing:</b><br>\n",
    "    Could you please write brief conclusions on this module ?</div>"
   ]
  },
  {
   "cell_type": "markdown",
   "metadata": {},
   "source": [
    "<div class=\"alert alert-info\" style=\"border:solid blue 2px; padding: 20px\"> \n",
    "    <b>Done</b><br>\n",
    "Added conclusion\n",
    "</div>"
   ]
  },
  {
   "cell_type": "markdown",
   "metadata": {},
   "source": [
    "<div class=\"alert alert-block alert-info\">   \n",
    "The data was used to analyze the lifespan of an ad, the types of cars that are popular on the site, and what factors affect price the most. <br>\n",
    "    \n",
    "- The majority of ads are up for about 33 days, and those that are up for more than 104 days are up for an abnormally long period of time, while those that get removed quickly are up for less than 12 days.<br>\n",
    "\n",
    "- SUVs are the most popular type of car seen on ads, followed closely by trucks and sedans.<br>\n",
    "    \n",
    "- Our research found the model year (or age) and mileage are two of the most important factors affecting the price of a car.<br>\n",
    "    \n",
    "- Additionally, by studying transmission type and color of the car, we found that trucks have a higher correlation of automatic transmission to price than SUVs, which makes sense since trucks have up to 18 gears (! ), and the opposite is true for manual transmission.<br>\n",
    "    \n",
    "- Our study found little correlation between the paint color and the price. Except for orange and yellow, all other colors, including the 'other' grouping (which are unknowns) have a much higher correlation with truck type and price.<br>\n",
    "Could be because trucks are just generally more expensive than SUVs (?)\n",
    "</div>"
   ]
  },
  {
   "cell_type": "markdown",
   "metadata": {},
   "source": [
    "<div style=\"border:solid green 2px; padding: 20px\"> <b>Success V2:</b><br>\n",
    "    Good work! :)</div>       "
   ]
  },
  {
   "cell_type": "markdown",
   "metadata": {},
   "source": [
    "## 5. Overall conclusion\n",
    "<a class=\"anchor\" id=\"chapter25\"></a>\n",
    "[Go back to the Table of Contents](#table_of_contents)"
   ]
  },
  {
   "cell_type": "markdown",
   "metadata": {},
   "source": [
    "<div class=\"alert alert-block alert-info\">      \n",
    "The data was used to analyze ads on Crankshaft List to determine which factors affect car pricing most.<br>\n",
    "    \n",
    " We found some interesting results in the research, and we can say with confidence that two factors affect the price the most: model year (or age) of the car, and mileage.<br>\n",
    " In addition, we discovered that most ads are priced between 5,000 and 7,000 and the average car age is about seven years old.<br>\n",
    "Furthermore, most cars are driven 12,000 - 15,000 miles or kilometers per year.<br>\n",
    "This is interesting information that could help you determine what type of audience visits your site to search for cars (marketing team, be on the lookout).<br>\n",
    "our research didn't stop there, we also found out that the typical lifespan of an ad is 33 days (we might suggest building premium offers that provide people with 30 days of special features on the site), even though there are ads that get removed quickly (less than 12 days) and ads that stay for long time (more than 104 days).\n",
    "\n",
    "    \n",
    "</div>"
   ]
  },
  {
   "cell_type": "markdown",
   "metadata": {},
   "source": [
    "<s><div style=\"border:solid orange 2px; padding: 20px\"> <b>Remarks:</b><br>\n",
    "  The final conclusion should be a brief overview of your work, so it's better to describe everything you learned about the data. Please the next time write more about what you researched and what results you got in the process, as the final conclusion is the first thing people read and is often the basis for judging the quality of the work as a whole. </div>"
   ]
  },
  {
   "cell_type": "markdown",
   "metadata": {},
   "source": [
    "<div class=\"alert alert-info\" style=\"border:solid blue 2px; padding: 20px\"> \n",
    "    <b>Done</b><br>\n",
    "Added conclusion\n",
    "</div>"
   ]
  },
  {
   "cell_type": "markdown",
   "metadata": {},
   "source": [
    "<div style=\"border:solid green 2px; padding: 20px\"> <b>Success V2:</b><br>\n",
    "    👍</div>       "
   ]
  },
  {
   "cell_type": "markdown",
   "metadata": {},
   "source": [
    "----"
   ]
  },
  {
   "cell_type": "markdown",
   "metadata": {},
   "source": [
    "# Project completion checklist\n",
    "\n",
    "Mark the completed tasks with 'x'. Then press Shift+Enter."
   ]
  },
  {
   "cell_type": "markdown",
   "metadata": {},
   "source": [
    "- [x]  file opened\n",
    "- [x]  files explored (first rows printed, info() method)\n",
    "- [x]  missing values determined\n",
    "- [x]  missing values filled in\n",
    "- [x]  clarification of the discovered missing values provided\n",
    "- [x]  data types converted\n",
    "- [x]  explanation of which columns had the data types changed and why\n",
    "- [x]  calculated and added to the table: day of the week, month, and year the ad was placed\n",
    "- [x]  calculated and added to the table: the vehicle's age (in years) when the ad was placed\n",
    "- [x]  calculated and added to the table: the vehicle's average mileage per year\n",
    "- [x]  the following parameters investigated: price, vehicle's age when the ad was placed, mileage, number of cylinders, and condition\n",
    "- [x]  histograms for each parameter created\n",
    "- [x]  task completed: \"Determine the upper limits of outliers, remove the outliers and store them in a separate DataFrame, and continue your work with the filtered data.\"\n",
    "- [x]  task completed: \"Use the filtered data to plot new histograms. Compare them with the earlier histograms (the ones that included outliers). Draw conclusions for each histogram.\"\n",
    "- [x]  task completed: \"Study how many days advertisements were displayed (days_listed). Plot a histogram. Calculate the mean and median. Describe the typical lifetime of an ad. Determine when ads were removed quickly, and when they were listed for an abnormally long time.  \"\n",
    "- [x]  task completed: \"Analyze the number of ads and the average price for each type of vehicle. Plot a graph showing the dependence of the number of ads on the vehicle type. Select the two types with the greatest number of ads. \"\n",
    "- [x]  task completed: \"What factors impact the price most? Take each of the popular types you detected at the previous stage and study whether the price depends on age, mileage, condition, transmission type, and color. For categorical variables (transmission type and color), plot box-and-whisker charts, and create scatterplots for the rest. When analyzing categorical variables, note that the categories must have at least 50 ads; otherwise, their parameters won't be valid for analysis.  \"\n",
    "- [x]  each stage has a conclusion\n",
    "- [x]  overall conclusion drawn"
   ]
  }
 ],
 "metadata": {
  "ExecuteTimeLog": [
   {
    "duration": 1397,
    "start_time": "2021-06-29T19:17:13.255Z"
   },
   {
    "duration": 273,
    "start_time": "2021-06-29T19:17:14.655Z"
   },
   {
    "duration": 28,
    "start_time": "2021-06-29T19:17:14.932Z"
   },
   {
    "duration": 49,
    "start_time": "2021-06-29T19:17:14.963Z"
   },
   {
    "duration": 53,
    "start_time": "2021-06-29T19:17:15.014Z"
   },
   {
    "duration": 107,
    "start_time": "2021-06-29T19:17:15.070Z"
   },
   {
    "duration": 25,
    "start_time": "2021-06-29T19:17:15.181Z"
   },
   {
    "duration": 24,
    "start_time": "2021-06-29T19:17:15.210Z"
   },
   {
    "duration": 64,
    "start_time": "2021-06-29T19:17:15.237Z"
   },
   {
    "duration": 1393,
    "start_time": "2021-06-29T19:17:15.304Z"
   },
   {
    "duration": 7,
    "start_time": "2021-06-29T19:17:16.701Z"
   },
   {
    "duration": 44,
    "start_time": "2021-06-29T19:17:16.711Z"
   },
   {
    "duration": 1394,
    "start_time": "2021-06-29T19:17:16.757Z"
   },
   {
    "duration": 6,
    "start_time": "2021-06-29T19:17:18.153Z"
   },
   {
    "duration": 1708,
    "start_time": "2021-06-29T19:17:18.162Z"
   },
   {
    "duration": 92,
    "start_time": "2021-06-29T19:17:19.873Z"
   },
   {
    "duration": 110,
    "start_time": "2021-06-29T19:17:19.967Z"
   },
   {
    "duration": 22,
    "start_time": "2021-06-29T19:17:20.080Z"
   },
   {
    "duration": 8,
    "start_time": "2021-06-29T19:17:20.104Z"
   },
   {
    "duration": 6,
    "start_time": "2021-06-29T19:17:20.115Z"
   },
   {
    "duration": 10,
    "start_time": "2021-06-29T19:17:20.123Z"
   },
   {
    "duration": 16,
    "start_time": "2021-06-29T19:17:20.136Z"
   },
   {
    "duration": 47,
    "start_time": "2021-06-29T19:17:20.158Z"
   },
   {
    "duration": 55,
    "start_time": "2021-06-29T19:17:20.209Z"
   },
   {
    "duration": 68,
    "start_time": "2021-06-29T19:17:20.266Z"
   },
   {
    "duration": 27,
    "start_time": "2021-06-29T19:17:20.337Z"
   },
   {
    "duration": 9,
    "start_time": "2021-06-29T19:17:20.367Z"
   },
   {
    "duration": 22,
    "start_time": "2021-06-29T19:17:20.379Z"
   },
   {
    "duration": 2102,
    "start_time": "2021-06-29T19:17:20.403Z"
   },
   {
    "duration": 33,
    "start_time": "2021-06-29T19:17:22.507Z"
   },
   {
    "duration": 385,
    "start_time": "2021-06-29T19:17:22.543Z"
   },
   {
    "duration": 423,
    "start_time": "2021-06-29T19:17:22.931Z"
   },
   {
    "duration": 353,
    "start_time": "2021-06-29T19:17:23.356Z"
   },
   {
    "duration": 348,
    "start_time": "2021-06-29T19:17:23.711Z"
   },
   {
    "duration": 18,
    "start_time": "2021-06-29T19:17:24.062Z"
   },
   {
    "duration": 317,
    "start_time": "2021-06-29T19:17:24.083Z"
   },
   {
    "duration": 348,
    "start_time": "2021-06-29T19:17:24.403Z"
   },
   {
    "duration": 319,
    "start_time": "2021-06-29T19:17:24.754Z"
   },
   {
    "duration": 434,
    "start_time": "2021-06-29T19:17:25.076Z"
   },
   {
    "duration": 301,
    "start_time": "2021-06-29T19:17:25.513Z"
   },
   {
    "duration": 293,
    "start_time": "2021-06-29T19:17:25.817Z"
   },
   {
    "duration": 287,
    "start_time": "2021-06-29T19:17:26.113Z"
   },
   {
    "duration": 14,
    "start_time": "2021-06-29T19:17:26.403Z"
   },
   {
    "duration": 238,
    "start_time": "2021-06-29T19:17:26.419Z"
   },
   {
    "duration": 10,
    "start_time": "2021-06-29T19:17:26.659Z"
   },
   {
    "duration": 248,
    "start_time": "2021-06-29T19:17:26.671Z"
   },
   {
    "duration": 11,
    "start_time": "2021-06-29T19:17:26.922Z"
   },
   {
    "duration": 223,
    "start_time": "2021-06-29T19:17:26.936Z"
   },
   {
    "duration": 231,
    "start_time": "2021-06-29T19:17:27.162Z"
   },
   {
    "duration": 16,
    "start_time": "2021-06-29T19:17:27.400Z"
   },
   {
    "duration": 306,
    "start_time": "2021-06-29T19:17:27.419Z"
   },
   {
    "duration": 304,
    "start_time": "2021-06-29T19:17:27.728Z"
   },
   {
    "duration": 17,
    "start_time": "2021-06-29T19:17:28.035Z"
   },
   {
    "duration": 291,
    "start_time": "2021-06-29T19:17:28.055Z"
   },
   {
    "duration": 362,
    "start_time": "2021-06-29T19:17:28.349Z"
   },
   {
    "duration": 16,
    "start_time": "2021-06-29T19:17:28.713Z"
   },
   {
    "duration": 327,
    "start_time": "2021-06-29T19:17:28.731Z"
   },
   {
    "duration": 309,
    "start_time": "2021-06-29T19:17:29.060Z"
   },
   {
    "duration": 360,
    "start_time": "2021-06-29T19:17:29.371Z"
   },
   {
    "duration": 8,
    "start_time": "2021-06-29T19:17:29.733Z"
   },
   {
    "duration": 218,
    "start_time": "2021-06-29T19:17:29.744Z"
   },
   {
    "duration": 11,
    "start_time": "2021-06-29T19:17:29.964Z"
   },
   {
    "duration": 378,
    "start_time": "2021-06-29T19:17:29.977Z"
   },
   {
    "duration": 49,
    "start_time": "2021-06-29T19:17:30.358Z"
   },
   {
    "duration": 361,
    "start_time": "2021-06-29T19:17:30.409Z"
   },
   {
    "duration": 10,
    "start_time": "2021-06-29T19:17:30.772Z"
   },
   {
    "duration": 51,
    "start_time": "2021-06-29T19:17:30.784Z"
   },
   {
    "duration": 11,
    "start_time": "2021-06-29T19:17:30.842Z"
   },
   {
    "duration": 54,
    "start_time": "2021-06-29T19:17:30.856Z"
   },
   {
    "duration": 16,
    "start_time": "2021-06-29T19:17:30.912Z"
   },
   {
    "duration": 502,
    "start_time": "2021-06-29T19:17:30.931Z"
   },
   {
    "duration": 1091,
    "start_time": "2021-06-29T19:17:31.435Z"
   },
   {
    "duration": 7,
    "start_time": "2021-06-29T19:53:57.847Z"
   },
   {
    "duration": 8,
    "start_time": "2021-06-29T19:54:02.965Z"
   },
   {
    "duration": 9,
    "start_time": "2021-06-29T20:00:57.353Z"
   },
   {
    "duration": 2277,
    "start_time": "2021-06-29T20:34:29.426Z"
   },
   {
    "duration": 2019,
    "start_time": "2021-06-29T20:35:04.500Z"
   },
   {
    "duration": 2754,
    "start_time": "2021-06-29T20:36:07.220Z"
   },
   {
    "duration": 2087,
    "start_time": "2021-06-29T20:36:34.335Z"
   },
   {
    "duration": 2132,
    "start_time": "2021-06-29T20:36:44.539Z"
   },
   {
    "duration": 1806,
    "start_time": "2021-06-29T20:36:54.594Z"
   },
   {
    "duration": 203,
    "start_time": "2021-06-29T20:39:52.181Z"
   },
   {
    "duration": 223,
    "start_time": "2021-06-29T20:40:03.173Z"
   },
   {
    "duration": 3921,
    "start_time": "2021-06-29T20:56:40.628Z"
   },
   {
    "duration": 4443,
    "start_time": "2021-06-29T20:58:05.408Z"
   },
   {
    "duration": 7,
    "start_time": "2021-06-29T20:59:19.834Z"
   },
   {
    "duration": 978,
    "start_time": "2021-06-29T21:00:18.224Z"
   },
   {
    "duration": 937,
    "start_time": "2021-06-29T21:00:43.970Z"
   },
   {
    "duration": 1079,
    "start_time": "2021-06-29T21:01:35.784Z"
   },
   {
    "duration": 92,
    "start_time": "2021-06-29T21:04:23.888Z"
   },
   {
    "duration": 1589,
    "start_time": "2021-06-30T14:01:20.147Z"
   },
   {
    "duration": 318,
    "start_time": "2021-06-30T14:01:21.739Z"
   },
   {
    "duration": 27,
    "start_time": "2021-06-30T14:01:22.060Z"
   },
   {
    "duration": 26,
    "start_time": "2021-06-30T14:01:22.090Z"
   },
   {
    "duration": 92,
    "start_time": "2021-06-30T14:01:22.118Z"
   },
   {
    "duration": 105,
    "start_time": "2021-06-30T14:01:22.213Z"
   },
   {
    "duration": 10,
    "start_time": "2021-06-30T14:01:22.320Z"
   },
   {
    "duration": 40,
    "start_time": "2021-06-30T14:01:22.333Z"
   },
   {
    "duration": 49,
    "start_time": "2021-06-30T14:01:22.377Z"
   },
   {
    "duration": 1509,
    "start_time": "2021-06-30T14:01:22.429Z"
   },
   {
    "duration": 8,
    "start_time": "2021-06-30T14:01:23.941Z"
   },
   {
    "duration": 71,
    "start_time": "2021-06-30T14:01:23.963Z"
   },
   {
    "duration": 2556,
    "start_time": "2021-06-30T14:01:24.037Z"
   },
   {
    "duration": 7,
    "start_time": "2021-06-30T14:01:26.596Z"
   },
   {
    "duration": 2071,
    "start_time": "2021-06-30T14:01:26.606Z"
   },
   {
    "duration": 90,
    "start_time": "2021-06-30T14:01:28.679Z"
   },
   {
    "duration": 123,
    "start_time": "2021-06-30T14:01:28.772Z"
   },
   {
    "duration": 13,
    "start_time": "2021-06-30T14:01:28.898Z"
   },
   {
    "duration": 15,
    "start_time": "2021-06-30T14:01:28.914Z"
   },
   {
    "duration": 30,
    "start_time": "2021-06-30T14:01:28.932Z"
   },
   {
    "duration": 9,
    "start_time": "2021-06-30T14:01:28.965Z"
   },
   {
    "duration": 12,
    "start_time": "2021-06-30T14:01:28.977Z"
   },
   {
    "duration": 14,
    "start_time": "2021-06-30T14:01:28.997Z"
   },
   {
    "duration": 98,
    "start_time": "2021-06-30T14:01:29.016Z"
   },
   {
    "duration": 73,
    "start_time": "2021-06-30T14:01:29.117Z"
   },
   {
    "duration": 31,
    "start_time": "2021-06-30T14:01:29.193Z"
   },
   {
    "duration": 10,
    "start_time": "2021-06-30T14:01:29.227Z"
   },
   {
    "duration": 3,
    "start_time": "2021-06-30T14:01:29.261Z"
   },
   {
    "duration": 2316,
    "start_time": "2021-06-30T14:01:29.267Z"
   },
   {
    "duration": 34,
    "start_time": "2021-06-30T14:01:31.586Z"
   },
   {
    "duration": 465,
    "start_time": "2021-06-30T14:01:31.623Z"
   },
   {
    "duration": 380,
    "start_time": "2021-06-30T14:01:32.091Z"
   },
   {
    "duration": 387,
    "start_time": "2021-06-30T14:01:32.474Z"
   },
   {
    "duration": 390,
    "start_time": "2021-06-30T14:01:32.864Z"
   },
   {
    "duration": 20,
    "start_time": "2021-06-30T14:01:33.257Z"
   },
   {
    "duration": 327,
    "start_time": "2021-06-30T14:01:33.279Z"
   },
   {
    "duration": 355,
    "start_time": "2021-06-30T14:01:33.609Z"
   },
   {
    "duration": 325,
    "start_time": "2021-06-30T14:01:33.967Z"
   },
   {
    "duration": 643,
    "start_time": "2021-06-30T14:01:34.294Z"
   },
   {
    "duration": 463,
    "start_time": "2021-06-30T14:01:34.940Z"
   },
   {
    "duration": 317,
    "start_time": "2021-06-30T14:01:35.406Z"
   },
   {
    "duration": 1842,
    "start_time": "2021-06-30T14:01:35.726Z"
   },
   {
    "duration": 245,
    "start_time": "2021-06-30T14:01:37.570Z"
   },
   {
    "duration": 11,
    "start_time": "2021-06-30T14:01:37.817Z"
   },
   {
    "duration": 243,
    "start_time": "2021-06-30T14:01:37.830Z"
   },
   {
    "duration": 13,
    "start_time": "2021-06-30T14:01:38.076Z"
   },
   {
    "duration": 263,
    "start_time": "2021-06-30T14:01:38.092Z"
   },
   {
    "duration": 13,
    "start_time": "2021-06-30T14:01:38.363Z"
   },
   {
    "duration": 229,
    "start_time": "2021-06-30T14:01:38.379Z"
   },
   {
    "duration": 312,
    "start_time": "2021-06-30T14:01:38.611Z"
   },
   {
    "duration": 17,
    "start_time": "2021-06-30T14:01:38.926Z"
   },
   {
    "duration": 326,
    "start_time": "2021-06-30T14:01:38.962Z"
   },
   {
    "duration": 325,
    "start_time": "2021-06-30T14:01:39.290Z"
   },
   {
    "duration": 18,
    "start_time": "2021-06-30T14:01:39.618Z"
   },
   {
    "duration": 299,
    "start_time": "2021-06-30T14:01:39.638Z"
   },
   {
    "duration": 328,
    "start_time": "2021-06-30T14:01:39.939Z"
   },
   {
    "duration": 18,
    "start_time": "2021-06-30T14:01:40.269Z"
   },
   {
    "duration": 347,
    "start_time": "2021-06-30T14:01:40.290Z"
   },
   {
    "duration": 334,
    "start_time": "2021-06-30T14:01:40.639Z"
   },
   {
    "duration": 1616,
    "start_time": "2021-06-30T14:01:40.976Z"
   },
   {
    "duration": 576,
    "start_time": "2021-06-30T14:01:42.595Z"
   },
   {
    "duration": 10,
    "start_time": "2021-06-30T14:01:43.174Z"
   },
   {
    "duration": 257,
    "start_time": "2021-06-30T14:01:43.188Z"
   },
   {
    "duration": 20,
    "start_time": "2021-06-30T14:01:43.447Z"
   },
   {
    "duration": 465,
    "start_time": "2021-06-30T14:01:43.470Z"
   },
   {
    "duration": 51,
    "start_time": "2021-06-30T14:01:43.937Z"
   },
   {
    "duration": 375,
    "start_time": "2021-06-30T14:01:43.990Z"
   },
   {
    "duration": 12,
    "start_time": "2021-06-30T14:01:44.372Z"
   },
   {
    "duration": 1366,
    "start_time": "2021-06-30T14:01:44.386Z"
   },
   {
    "duration": 11,
    "start_time": "2021-06-30T14:01:45.763Z"
   },
   {
    "duration": 1434,
    "start_time": "2021-06-30T14:01:45.776Z"
   },
   {
    "duration": 17,
    "start_time": "2021-06-30T14:01:47.212Z"
   },
   {
    "duration": 515,
    "start_time": "2021-06-30T14:01:47.232Z"
   },
   {
    "duration": 1136,
    "start_time": "2021-06-30T14:01:47.750Z"
   },
   {
    "duration": 371,
    "start_time": "2021-06-30T17:51:18.858Z"
   },
   {
    "duration": 1540,
    "start_time": "2021-06-30T17:51:46.959Z"
   },
   {
    "duration": 349,
    "start_time": "2021-06-30T17:51:48.502Z"
   },
   {
    "duration": 27,
    "start_time": "2021-06-30T17:51:48.854Z"
   },
   {
    "duration": 43,
    "start_time": "2021-06-30T17:51:48.883Z"
   },
   {
    "duration": 58,
    "start_time": "2021-06-30T17:51:48.929Z"
   },
   {
    "duration": 198,
    "start_time": "2021-06-30T17:51:48.990Z"
   },
   {
    "duration": 11,
    "start_time": "2021-06-30T17:51:49.191Z"
   },
   {
    "duration": 67,
    "start_time": "2021-06-30T17:51:49.208Z"
   },
   {
    "duration": 86,
    "start_time": "2021-06-30T17:51:49.279Z"
   },
   {
    "duration": 1496,
    "start_time": "2021-06-30T17:51:49.368Z"
   },
   {
    "duration": 7,
    "start_time": "2021-06-30T17:51:50.866Z"
   },
   {
    "duration": 8,
    "start_time": "2021-06-30T17:51:50.876Z"
   },
   {
    "duration": 76,
    "start_time": "2021-06-30T17:51:50.887Z"
   },
   {
    "duration": 1496,
    "start_time": "2021-06-30T17:51:50.966Z"
   },
   {
    "duration": 7,
    "start_time": "2021-06-30T17:51:52.464Z"
   },
   {
    "duration": 2116,
    "start_time": "2021-06-30T17:51:52.474Z"
   },
   {
    "duration": 95,
    "start_time": "2021-06-30T17:51:54.593Z"
   },
   {
    "duration": 128,
    "start_time": "2021-06-30T17:51:54.691Z"
   },
   {
    "duration": 17,
    "start_time": "2021-06-30T17:51:54.825Z"
   },
   {
    "duration": 22,
    "start_time": "2021-06-30T17:51:54.844Z"
   },
   {
    "duration": 18,
    "start_time": "2021-06-30T17:51:54.869Z"
   },
   {
    "duration": 17,
    "start_time": "2021-06-30T17:51:54.890Z"
   },
   {
    "duration": 10,
    "start_time": "2021-06-30T17:51:54.925Z"
   },
   {
    "duration": 40,
    "start_time": "2021-06-30T17:51:54.938Z"
   },
   {
    "duration": 111,
    "start_time": "2021-06-30T17:51:54.981Z"
   },
   {
    "duration": 103,
    "start_time": "2021-06-30T17:51:55.095Z"
   },
   {
    "duration": 54,
    "start_time": "2021-06-30T17:51:55.201Z"
   },
   {
    "duration": 14,
    "start_time": "2021-06-30T17:51:55.258Z"
   },
   {
    "duration": 12,
    "start_time": "2021-06-30T17:51:55.275Z"
   },
   {
    "duration": 2311,
    "start_time": "2021-06-30T17:51:55.289Z"
   },
   {
    "duration": 44,
    "start_time": "2021-06-30T17:51:57.602Z"
   },
   {
    "duration": 329,
    "start_time": "2021-06-30T17:51:57.648Z"
   },
   {
    "duration": 371,
    "start_time": "2021-06-30T17:51:57.980Z"
   },
   {
    "duration": 386,
    "start_time": "2021-06-30T17:51:58.354Z"
   },
   {
    "duration": 596,
    "start_time": "2021-06-30T17:51:58.742Z"
   },
   {
    "duration": 19,
    "start_time": "2021-06-30T17:51:59.341Z"
   },
   {
    "duration": 344,
    "start_time": "2021-06-30T17:51:59.362Z"
   },
   {
    "duration": 372,
    "start_time": "2021-06-30T17:51:59.709Z"
   },
   {
    "duration": 454,
    "start_time": "2021-06-30T17:52:00.084Z"
   },
   {
    "duration": 443,
    "start_time": "2021-06-30T17:52:00.540Z"
   },
   {
    "duration": 316,
    "start_time": "2021-06-30T17:52:00.985Z"
   },
   {
    "duration": 314,
    "start_time": "2021-06-30T17:52:01.304Z"
   },
   {
    "duration": 1745,
    "start_time": "2021-06-30T17:52:01.620Z"
   },
   {
    "duration": 250,
    "start_time": "2021-06-30T17:52:03.367Z"
   },
   {
    "duration": 15,
    "start_time": "2021-06-30T17:52:03.625Z"
   },
   {
    "duration": 386,
    "start_time": "2021-06-30T17:52:03.643Z"
   },
   {
    "duration": 16,
    "start_time": "2021-06-30T17:52:04.032Z"
   },
   {
    "duration": 263,
    "start_time": "2021-06-30T17:52:04.050Z"
   },
   {
    "duration": 16,
    "start_time": "2021-06-30T17:52:04.316Z"
   },
   {
    "duration": 232,
    "start_time": "2021-06-30T17:52:04.335Z"
   },
   {
    "duration": 309,
    "start_time": "2021-06-30T17:52:04.569Z"
   },
   {
    "duration": 17,
    "start_time": "2021-06-30T17:52:04.880Z"
   },
   {
    "duration": 342,
    "start_time": "2021-06-30T17:52:04.900Z"
   },
   {
    "duration": 330,
    "start_time": "2021-06-30T17:52:05.244Z"
   },
   {
    "duration": 23,
    "start_time": "2021-06-30T17:52:05.576Z"
   },
   {
    "duration": 488,
    "start_time": "2021-06-30T17:52:05.603Z"
   },
   {
    "duration": 321,
    "start_time": "2021-06-30T17:52:06.094Z"
   },
   {
    "duration": 21,
    "start_time": "2021-06-30T17:52:06.417Z"
   },
   {
    "duration": 348,
    "start_time": "2021-06-30T17:52:06.441Z"
   },
   {
    "duration": 338,
    "start_time": "2021-06-30T17:52:06.792Z"
   },
   {
    "duration": 1049,
    "start_time": "2021-06-30T17:52:07.133Z"
   },
   {
    "duration": 386,
    "start_time": "2021-06-30T17:52:08.185Z"
   },
   {
    "duration": 8,
    "start_time": "2021-06-30T17:52:08.573Z"
   },
   {
    "duration": 243,
    "start_time": "2021-06-30T17:52:08.583Z"
   },
   {
    "duration": 11,
    "start_time": "2021-06-30T17:52:08.829Z"
   },
   {
    "duration": 476,
    "start_time": "2021-06-30T17:52:08.843Z"
   },
   {
    "duration": 42,
    "start_time": "2021-06-30T17:52:09.325Z"
   },
   {
    "duration": 407,
    "start_time": "2021-06-30T17:52:09.377Z"
   },
   {
    "duration": 11,
    "start_time": "2021-06-30T17:52:09.787Z"
   },
   {
    "duration": 1317,
    "start_time": "2021-06-30T17:52:09.801Z"
   },
   {
    "duration": 13,
    "start_time": "2021-06-30T17:52:11.125Z"
   },
   {
    "duration": 1325,
    "start_time": "2021-06-30T17:52:11.140Z"
   },
   {
    "duration": 18,
    "start_time": "2021-06-30T17:52:12.467Z"
   },
   {
    "duration": 898,
    "start_time": "2021-06-30T17:52:12.488Z"
   },
   {
    "duration": 1931,
    "start_time": "2021-06-30T17:52:13.389Z"
   },
   {
    "duration": 90,
    "start_time": "2021-06-30T17:55:38.112Z"
   },
   {
    "duration": 4,
    "start_time": "2021-06-30T18:04:27.338Z"
   },
   {
    "duration": 317,
    "start_time": "2021-06-30T18:04:27.350Z"
   },
   {
    "duration": 28,
    "start_time": "2021-06-30T18:04:27.670Z"
   },
   {
    "duration": 35,
    "start_time": "2021-06-30T18:04:27.702Z"
   },
   {
    "duration": 64,
    "start_time": "2021-06-30T18:04:27.741Z"
   },
   {
    "duration": 116,
    "start_time": "2021-06-30T18:04:27.808Z"
   },
   {
    "duration": 8,
    "start_time": "2021-06-30T18:04:27.926Z"
   },
   {
    "duration": 24,
    "start_time": "2021-06-30T18:04:27.937Z"
   },
   {
    "duration": 122,
    "start_time": "2021-06-30T18:04:27.965Z"
   },
   {
    "duration": 2882,
    "start_time": "2021-06-30T18:04:28.093Z"
   },
   {
    "duration": 7,
    "start_time": "2021-06-30T18:04:30.979Z"
   },
   {
    "duration": 67,
    "start_time": "2021-06-30T18:04:30.988Z"
   },
   {
    "duration": 1480,
    "start_time": "2021-06-30T18:04:31.057Z"
   },
   {
    "duration": 7,
    "start_time": "2021-06-30T18:04:32.539Z"
   },
   {
    "duration": 2263,
    "start_time": "2021-06-30T18:04:32.548Z"
   },
   {
    "duration": 83,
    "start_time": "2021-06-30T18:04:34.814Z"
   },
   {
    "duration": 134,
    "start_time": "2021-06-30T18:04:34.900Z"
   },
   {
    "duration": 14,
    "start_time": "2021-06-30T18:04:35.036Z"
   },
   {
    "duration": 10,
    "start_time": "2021-06-30T18:04:35.053Z"
   },
   {
    "duration": 9,
    "start_time": "2021-06-30T18:04:35.065Z"
   },
   {
    "duration": 11,
    "start_time": "2021-06-30T18:04:35.076Z"
   },
   {
    "duration": 49,
    "start_time": "2021-06-30T18:04:35.090Z"
   },
   {
    "duration": 34,
    "start_time": "2021-06-30T18:04:35.142Z"
   },
   {
    "duration": 71,
    "start_time": "2021-06-30T18:04:35.179Z"
   },
   {
    "duration": 51,
    "start_time": "2021-06-30T18:04:35.253Z"
   },
   {
    "duration": 31,
    "start_time": "2021-06-30T18:04:35.324Z"
   },
   {
    "duration": 6,
    "start_time": "2021-06-30T18:04:35.357Z"
   },
   {
    "duration": 18,
    "start_time": "2021-06-30T18:04:35.367Z"
   },
   {
    "duration": 6,
    "start_time": "2021-06-30T18:04:38.718Z"
   },
   {
    "duration": 24,
    "start_time": "2021-06-30T18:05:07.907Z"
   },
   {
    "duration": 7,
    "start_time": "2021-06-30T18:06:20.614Z"
   },
   {
    "duration": 17,
    "start_time": "2021-06-30T18:06:29.534Z"
   },
   {
    "duration": 2270,
    "start_time": "2021-06-30T18:09:31.150Z"
   },
   {
    "duration": 6,
    "start_time": "2021-06-30T18:09:55.103Z"
   },
   {
    "duration": 6,
    "start_time": "2021-06-30T18:09:58.652Z"
   },
   {
    "duration": 7,
    "start_time": "2021-06-30T18:10:04.502Z"
   },
   {
    "duration": 6,
    "start_time": "2021-06-30T18:10:16.005Z"
   },
   {
    "duration": 6,
    "start_time": "2021-06-30T18:10:25.693Z"
   },
   {
    "duration": 7,
    "start_time": "2021-06-30T18:10:30.172Z"
   },
   {
    "duration": 6,
    "start_time": "2021-06-30T18:10:33.653Z"
   },
   {
    "duration": 2193,
    "start_time": "2021-06-30T18:10:43.068Z"
   },
   {
    "duration": 2495,
    "start_time": "2021-06-30T18:41:27.682Z"
   },
   {
    "duration": 6,
    "start_time": "2021-06-30T18:41:47.054Z"
   },
   {
    "duration": 322,
    "start_time": "2021-06-30T18:41:47.070Z"
   },
   {
    "duration": 38,
    "start_time": "2021-06-30T18:41:47.394Z"
   },
   {
    "duration": 26,
    "start_time": "2021-06-30T18:41:47.435Z"
   },
   {
    "duration": 94,
    "start_time": "2021-06-30T18:41:47.464Z"
   },
   {
    "duration": 101,
    "start_time": "2021-06-30T18:41:47.560Z"
   },
   {
    "duration": 6,
    "start_time": "2021-06-30T18:41:47.663Z"
   },
   {
    "duration": 25,
    "start_time": "2021-06-30T18:41:47.671Z"
   },
   {
    "duration": 72,
    "start_time": "2021-06-30T18:41:47.698Z"
   },
   {
    "duration": 1615,
    "start_time": "2021-06-30T18:41:47.774Z"
   },
   {
    "duration": 7,
    "start_time": "2021-06-30T18:41:49.392Z"
   },
   {
    "duration": 59,
    "start_time": "2021-06-30T18:41:49.401Z"
   },
   {
    "duration": 1482,
    "start_time": "2021-06-30T18:41:49.462Z"
   },
   {
    "duration": 6,
    "start_time": "2021-06-30T18:41:50.947Z"
   },
   {
    "duration": 2116,
    "start_time": "2021-06-30T18:41:50.956Z"
   },
   {
    "duration": 105,
    "start_time": "2021-06-30T18:41:53.074Z"
   },
   {
    "duration": 200,
    "start_time": "2021-06-30T18:41:53.181Z"
   },
   {
    "duration": 15,
    "start_time": "2021-06-30T18:41:53.384Z"
   },
   {
    "duration": 8,
    "start_time": "2021-06-30T18:41:53.424Z"
   },
   {
    "duration": 6,
    "start_time": "2021-06-30T18:41:53.435Z"
   },
   {
    "duration": 10,
    "start_time": "2021-06-30T18:41:53.444Z"
   },
   {
    "duration": 16,
    "start_time": "2021-06-30T18:41:53.457Z"
   },
   {
    "duration": 57,
    "start_time": "2021-06-30T18:41:53.475Z"
   },
   {
    "duration": 56,
    "start_time": "2021-06-30T18:41:53.534Z"
   },
   {
    "duration": 76,
    "start_time": "2021-06-30T18:41:53.592Z"
   },
   {
    "duration": 28,
    "start_time": "2021-06-30T18:41:53.670Z"
   },
   {
    "duration": 27,
    "start_time": "2021-06-30T18:41:53.700Z"
   },
   {
    "duration": 4,
    "start_time": "2021-06-30T18:41:53.732Z"
   },
   {
    "duration": 2134,
    "start_time": "2021-06-30T18:41:53.739Z"
   },
   {
    "duration": 3,
    "start_time": "2021-06-30T18:41:55.875Z"
   },
   {
    "duration": 48,
    "start_time": "2021-06-30T18:41:55.881Z"
   },
   {
    "duration": 325,
    "start_time": "2021-06-30T18:41:55.932Z"
   },
   {
    "duration": 379,
    "start_time": "2021-06-30T18:41:56.260Z"
   },
   {
    "duration": 385,
    "start_time": "2021-06-30T18:41:56.642Z"
   },
   {
    "duration": 388,
    "start_time": "2021-06-30T18:41:57.029Z"
   },
   {
    "duration": 20,
    "start_time": "2021-06-30T18:41:57.419Z"
   },
   {
    "duration": 413,
    "start_time": "2021-06-30T18:41:57.441Z"
   },
   {
    "duration": 361,
    "start_time": "2021-06-30T18:41:57.857Z"
   },
   {
    "duration": 548,
    "start_time": "2021-06-30T18:41:58.223Z"
   },
   {
    "duration": 606,
    "start_time": "2021-06-30T18:41:58.774Z"
   },
   {
    "duration": 311,
    "start_time": "2021-06-30T18:41:59.382Z"
   },
   {
    "duration": 306,
    "start_time": "2021-06-30T18:41:59.695Z"
   },
   {
    "duration": 1780,
    "start_time": "2021-06-30T18:42:00.004Z"
   },
   {
    "duration": 1472,
    "start_time": "2021-06-30T19:22:01.963Z"
   },
   {
    "duration": 347,
    "start_time": "2021-06-30T19:22:03.437Z"
   },
   {
    "duration": 27,
    "start_time": "2021-06-30T19:22:03.787Z"
   },
   {
    "duration": 28,
    "start_time": "2021-06-30T19:22:03.825Z"
   },
   {
    "duration": 74,
    "start_time": "2021-06-30T19:22:03.855Z"
   },
   {
    "duration": 108,
    "start_time": "2021-06-30T19:22:03.932Z"
   },
   {
    "duration": 11,
    "start_time": "2021-06-30T19:22:04.042Z"
   },
   {
    "duration": 27,
    "start_time": "2021-06-30T19:22:04.057Z"
   },
   {
    "duration": 70,
    "start_time": "2021-06-30T19:22:04.087Z"
   },
   {
    "duration": 1597,
    "start_time": "2021-06-30T19:22:04.159Z"
   },
   {
    "duration": 7,
    "start_time": "2021-06-30T19:22:05.758Z"
   },
   {
    "duration": 65,
    "start_time": "2021-06-30T19:22:05.767Z"
   },
   {
    "duration": 1484,
    "start_time": "2021-06-30T19:22:05.834Z"
   },
   {
    "duration": 6,
    "start_time": "2021-06-30T19:22:07.323Z"
   },
   {
    "duration": 2095,
    "start_time": "2021-06-30T19:22:07.332Z"
   },
   {
    "duration": 94,
    "start_time": "2021-06-30T19:22:09.430Z"
   },
   {
    "duration": 120,
    "start_time": "2021-06-30T19:22:09.527Z"
   },
   {
    "duration": 13,
    "start_time": "2021-06-30T19:22:09.649Z"
   },
   {
    "duration": 11,
    "start_time": "2021-06-30T19:22:09.666Z"
   },
   {
    "duration": 7,
    "start_time": "2021-06-30T19:22:09.680Z"
   },
   {
    "duration": 43,
    "start_time": "2021-06-30T19:22:09.690Z"
   },
   {
    "duration": 10,
    "start_time": "2021-06-30T19:22:09.736Z"
   },
   {
    "duration": 14,
    "start_time": "2021-06-30T19:22:09.752Z"
   },
   {
    "duration": 90,
    "start_time": "2021-06-30T19:22:09.770Z"
   },
   {
    "duration": 64,
    "start_time": "2021-06-30T19:22:09.862Z"
   },
   {
    "duration": 30,
    "start_time": "2021-06-30T19:22:09.928Z"
   },
   {
    "duration": 10,
    "start_time": "2021-06-30T19:22:09.960Z"
   },
   {
    "duration": 8,
    "start_time": "2021-06-30T19:22:09.972Z"
   },
   {
    "duration": 2199,
    "start_time": "2021-06-30T19:22:09.982Z"
   },
   {
    "duration": 3,
    "start_time": "2021-06-30T19:22:12.184Z"
   },
   {
    "duration": 55,
    "start_time": "2021-06-30T19:22:12.190Z"
   },
   {
    "duration": 320,
    "start_time": "2021-06-30T19:22:12.247Z"
   },
   {
    "duration": 367,
    "start_time": "2021-06-30T19:22:12.570Z"
   },
   {
    "duration": 384,
    "start_time": "2021-06-30T19:22:12.940Z"
   },
   {
    "duration": 383,
    "start_time": "2021-06-30T19:22:13.326Z"
   },
   {
    "duration": 26,
    "start_time": "2021-06-30T19:22:13.712Z"
   },
   {
    "duration": 320,
    "start_time": "2021-06-30T19:22:13.740Z"
   },
   {
    "duration": 357,
    "start_time": "2021-06-30T19:22:14.063Z"
   },
   {
    "duration": 341,
    "start_time": "2021-06-30T19:22:14.425Z"
   },
   {
    "duration": 449,
    "start_time": "2021-06-30T19:22:14.768Z"
   },
   {
    "duration": 333,
    "start_time": "2021-06-30T19:22:15.219Z"
   },
   {
    "duration": 309,
    "start_time": "2021-06-30T19:22:15.555Z"
   },
   {
    "duration": 1750,
    "start_time": "2021-06-30T19:22:15.866Z"
   },
   {
    "duration": 244,
    "start_time": "2021-06-30T19:22:17.619Z"
   },
   {
    "duration": 11,
    "start_time": "2021-06-30T19:22:17.865Z"
   },
   {
    "duration": 512,
    "start_time": "2021-06-30T19:22:17.880Z"
   },
   {
    "duration": 14,
    "start_time": "2021-06-30T19:22:18.395Z"
   },
   {
    "duration": 433,
    "start_time": "2021-06-30T19:22:18.424Z"
   },
   {
    "duration": 15,
    "start_time": "2021-06-30T19:22:18.860Z"
   },
   {
    "duration": 402,
    "start_time": "2021-06-30T19:22:18.878Z"
   },
   {
    "duration": 503,
    "start_time": "2021-06-30T19:22:19.289Z"
   },
   {
    "duration": 30,
    "start_time": "2021-06-30T19:22:19.796Z"
   },
   {
    "duration": 335,
    "start_time": "2021-06-30T19:22:19.829Z"
   },
   {
    "duration": 342,
    "start_time": "2021-06-30T19:22:20.166Z"
   },
   {
    "duration": 25,
    "start_time": "2021-06-30T19:22:20.510Z"
   },
   {
    "duration": 297,
    "start_time": "2021-06-30T19:22:20.538Z"
   },
   {
    "duration": 327,
    "start_time": "2021-06-30T19:22:20.837Z"
   },
   {
    "duration": 18,
    "start_time": "2021-06-30T19:22:21.166Z"
   },
   {
    "duration": 350,
    "start_time": "2021-06-30T19:22:21.187Z"
   },
   {
    "duration": 336,
    "start_time": "2021-06-30T19:22:21.540Z"
   },
   {
    "duration": 1149,
    "start_time": "2021-06-30T19:22:21.879Z"
   },
   {
    "duration": 375,
    "start_time": "2021-06-30T19:22:23.030Z"
   },
   {
    "duration": 23,
    "start_time": "2021-06-30T19:22:23.409Z"
   },
   {
    "duration": 232,
    "start_time": "2021-06-30T19:22:23.434Z"
   },
   {
    "duration": 12,
    "start_time": "2021-06-30T19:22:23.669Z"
   },
   {
    "duration": 483,
    "start_time": "2021-06-30T19:22:23.684Z"
   },
   {
    "duration": 57,
    "start_time": "2021-06-30T19:22:24.170Z"
   },
   {
    "duration": 391,
    "start_time": "2021-06-30T19:22:24.236Z"
   },
   {
    "duration": 17,
    "start_time": "2021-06-30T19:22:24.630Z"
   },
   {
    "duration": 2228,
    "start_time": "2021-06-30T19:22:24.650Z"
   },
   {
    "duration": 15,
    "start_time": "2021-06-30T19:22:26.881Z"
   },
   {
    "duration": 1444,
    "start_time": "2021-06-30T19:22:26.899Z"
   },
   {
    "duration": 18,
    "start_time": "2021-06-30T19:22:28.346Z"
   },
   {
    "duration": 523,
    "start_time": "2021-06-30T19:22:28.367Z"
   },
   {
    "duration": 1126,
    "start_time": "2021-06-30T19:22:28.893Z"
   },
   {
    "duration": 1440,
    "start_time": "2021-07-01T15:12:23.358Z"
   },
   {
    "duration": 538,
    "start_time": "2021-07-01T15:12:24.801Z"
   },
   {
    "duration": 27,
    "start_time": "2021-07-01T15:12:25.342Z"
   },
   {
    "duration": 47,
    "start_time": "2021-07-01T15:12:25.373Z"
   },
   {
    "duration": 62,
    "start_time": "2021-07-01T15:12:25.423Z"
   },
   {
    "duration": 120,
    "start_time": "2021-07-01T15:12:25.488Z"
   },
   {
    "duration": 11,
    "start_time": "2021-07-01T15:12:25.611Z"
   },
   {
    "duration": 25,
    "start_time": "2021-07-01T15:12:25.627Z"
   },
   {
    "duration": 78,
    "start_time": "2021-07-01T15:12:25.655Z"
   },
   {
    "duration": 1617,
    "start_time": "2021-07-01T15:12:25.736Z"
   },
   {
    "duration": 6,
    "start_time": "2021-07-01T15:12:27.355Z"
   },
   {
    "duration": 5,
    "start_time": "2021-07-01T15:12:29.505Z"
   }
  ],
  "kernelspec": {
   "display_name": "Python 3",
   "language": "python",
   "name": "python3"
  },
  "language_info": {
   "codemirror_mode": {
    "name": "ipython",
    "version": 3
   },
   "file_extension": ".py",
   "mimetype": "text/x-python",
   "name": "python",
   "nbconvert_exporter": "python",
   "pygments_lexer": "ipython3",
   "version": "3.7.8"
  },
  "toc": {
   "base_numbering": 1,
   "nav_menu": {},
   "number_sections": true,
   "sideBar": true,
   "skip_h1_title": true,
   "title_cell": "Table of Contents",
   "title_sidebar": "Contents",
   "toc_cell": false,
   "toc_position": {},
   "toc_section_display": true,
   "toc_window_display": false
  }
 },
 "nbformat": 4,
 "nbformat_minor": 2
}
