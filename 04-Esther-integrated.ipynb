{
 "cells": [
  {
   "cell_type": "markdown",
   "metadata": {},
   "source": [
    "Hi Esther. I'm Svetlana and will review your project. I've added all my comments to new cells with different coloring. Please don't delete my comments.\n",
    "\n",
    "\n",
    "The first time I see a mistake, I'll just point it out and let you find it and fix it yourself. In a real job, your boss will do the same, and I'm trying to prepare you to work as an Data Analyst. But if you can't handle this task yet, I'll give you a more accurate hint at the next check.\n",
    "\n",
    "<div class=\"alert alert-success\" role=\"alert\">\n",
    "Reviewer's comment v. 1:\n",
    "    \n",
    "If you did something great I'm using green color for my comment\n",
    "</div>\n",
    "\n",
    "<div class=\"alert alert-warning\" role=\"alert\">\n",
    "Reviewer's comment v. 1:\n",
    "    \n",
    "If I want to give you advice or think that something can be improved, then I'll use yellow. This is an optional recommendation.\n",
    "</div>\n",
    "\n",
    "<div class=\"alert alert-danger\" role=\"alert\">\n",
    "Reviewer's comment v. 1:\n",
    "    \n",
    "If the topic requires some extra work so I can accept it then the color will be red\n",
    "</div>\n",
    "\n",
    "## Review v. 1<a class=\"tocSkip\">\n",
    "\n",
    "Thank you! Your project has been received. It's clear that you've done a lot of work on it. However, unfortunately, your project is not quite ready for review. This is because the code doesn’t run because of error and period of time for analysis is wrong. You've already done a lot, the rest should be easy to fix!"
   ]
  },
  {
   "cell_type": "markdown",
   "metadata": {},
   "source": [
    "<div class=\"alert alert-info\" style=\"border:solid blue 2px; padding: 20px\"> <b>Student comment:</b> Hi Svetlana, Thank you so much for testing the project!! I will try to answer and correct any comment.</div>"
   ]
  },
  {
   "cell_type": "markdown",
   "metadata": {},
   "source": [
    "## Review v. 2<a class=\"tocSkip\">\n",
    "\n",
    "Congratulations! Your project now is perfect. I'm glad to say that your project has been accepted. Keep at it. You're improving every day! "
   ]
  },
  {
   "cell_type": "markdown",
   "metadata": {},
   "source": [
    "# Integrated Project"
   ]
  },
  {
   "cell_type": "markdown",
   "metadata": {},
   "source": [
    "**Project description** \n",
    "\n",
    "Ice is an online store, which sells video games all over the world. User and expert reviews, genres, platforms (e.g. Xbox or PlayStation), and historical data on game sales are available from open sources. \n",
    "\n",
    "We need to identify patterns that determine whether a game succeeds or not. This will allow us to spot potential big winners and plan advertising campaigns. Let’s imagine that it’s December 2016 and the store planning a campaign for 2017. The dataset contains the abbreviation ESRB. The Entertainment Software Rating Board evaluates a game's content and assigns an age rating such as Teen or Mature."
   ]
  },
  {
   "cell_type": "markdown",
   "metadata": {},
   "source": [
    "<div class=\"alert alert-success\" role=\"alert\">\n",
    "Reviewer's comment v. 1:\n",
    "    \n",
    "Well done that you clearly described the project.\n",
    "</div>"
   ]
  },
  {
   "cell_type": "markdown",
   "metadata": {},
   "source": [
    "## 1. Study the general information of the data (games.csv)"
   ]
  },
  {
   "cell_type": "markdown",
   "metadata": {},
   "source": [
    "**Import all the liberies I'll need for the project**"
   ]
  },
  {
   "cell_type": "code",
   "execution_count": 1,
   "metadata": {},
   "outputs": [],
   "source": [
    "import pandas as pd\n",
    "import numpy as np\n",
    "import math as mt\n",
    "import scipy\n",
    "import matplotlib.pyplot as plt\n",
    "import seaborn as sns\n",
    "from math import factorial\n",
    "from scipy import stats as st\n",
    "from functools import reduce"
   ]
  },
  {
   "cell_type": "code",
   "execution_count": 2,
   "metadata": {},
   "outputs": [
    {
     "name": "stdout",
     "output_type": "stream",
     "text": [
      "Defaulting to user installation because normal site-packages is not writeable\n",
      "Collecting squarify\n",
      "  Downloading squarify-0.4.3-py3-none-any.whl (4.3 kB)\n",
      "Installing collected packages: squarify\n",
      "Successfully installed squarify-0.4.3\n",
      "Note: you may need to restart the kernel to use updated packages.\n"
     ]
    }
   ],
   "source": [
    "pip install squarify"
   ]
  },
  {
   "cell_type": "code",
   "execution_count": 3,
   "metadata": {},
   "outputs": [],
   "source": [
    "import squarify as sq"
   ]
  },
  {
   "cell_type": "code",
   "execution_count": 4,
   "metadata": {},
   "outputs": [],
   "source": [
    "try:\n",
    "    games=pd.read_csv('games.csv')\n",
    "except:\n",
    "    games=pd.read_csv('/datasets/games.csv')"
   ]
  },
  {
   "cell_type": "markdown",
   "metadata": {},
   "source": [
    "<div class=\"alert alert-success\" role=\"alert\">\n",
    "Reviewer's comment v. 1:\n",
    "    \n",
    "Well done for using try-except for the path to the file.\n",
    "</div>"
   ]
  },
  {
   "cell_type": "code",
   "execution_count": 5,
   "metadata": {},
   "outputs": [
    {
     "data": {
      "text/html": [
       "<div>\n",
       "<style scoped>\n",
       "    .dataframe tbody tr th:only-of-type {\n",
       "        vertical-align: middle;\n",
       "    }\n",
       "\n",
       "    .dataframe tbody tr th {\n",
       "        vertical-align: top;\n",
       "    }\n",
       "\n",
       "    .dataframe thead th {\n",
       "        text-align: right;\n",
       "    }\n",
       "</style>\n",
       "<table border=\"1\" class=\"dataframe\">\n",
       "  <thead>\n",
       "    <tr style=\"text-align: right;\">\n",
       "      <th></th>\n",
       "      <th>Name</th>\n",
       "      <th>Platform</th>\n",
       "      <th>Year_of_Release</th>\n",
       "      <th>Genre</th>\n",
       "      <th>NA_sales</th>\n",
       "      <th>EU_sales</th>\n",
       "      <th>JP_sales</th>\n",
       "      <th>Other_sales</th>\n",
       "      <th>Critic_Score</th>\n",
       "      <th>User_Score</th>\n",
       "      <th>Rating</th>\n",
       "    </tr>\n",
       "  </thead>\n",
       "  <tbody>\n",
       "    <tr>\n",
       "      <td>0</td>\n",
       "      <td>Wii Sports</td>\n",
       "      <td>Wii</td>\n",
       "      <td>2006.0</td>\n",
       "      <td>Sports</td>\n",
       "      <td>41.36</td>\n",
       "      <td>28.96</td>\n",
       "      <td>3.77</td>\n",
       "      <td>8.45</td>\n",
       "      <td>76.0</td>\n",
       "      <td>8</td>\n",
       "      <td>E</td>\n",
       "    </tr>\n",
       "    <tr>\n",
       "      <td>1</td>\n",
       "      <td>Super Mario Bros.</td>\n",
       "      <td>NES</td>\n",
       "      <td>1985.0</td>\n",
       "      <td>Platform</td>\n",
       "      <td>29.08</td>\n",
       "      <td>3.58</td>\n",
       "      <td>6.81</td>\n",
       "      <td>0.77</td>\n",
       "      <td>NaN</td>\n",
       "      <td>NaN</td>\n",
       "      <td>NaN</td>\n",
       "    </tr>\n",
       "    <tr>\n",
       "      <td>2</td>\n",
       "      <td>Mario Kart Wii</td>\n",
       "      <td>Wii</td>\n",
       "      <td>2008.0</td>\n",
       "      <td>Racing</td>\n",
       "      <td>15.68</td>\n",
       "      <td>12.76</td>\n",
       "      <td>3.79</td>\n",
       "      <td>3.29</td>\n",
       "      <td>82.0</td>\n",
       "      <td>8.3</td>\n",
       "      <td>E</td>\n",
       "    </tr>\n",
       "    <tr>\n",
       "      <td>3</td>\n",
       "      <td>Wii Sports Resort</td>\n",
       "      <td>Wii</td>\n",
       "      <td>2009.0</td>\n",
       "      <td>Sports</td>\n",
       "      <td>15.61</td>\n",
       "      <td>10.93</td>\n",
       "      <td>3.28</td>\n",
       "      <td>2.95</td>\n",
       "      <td>80.0</td>\n",
       "      <td>8</td>\n",
       "      <td>E</td>\n",
       "    </tr>\n",
       "    <tr>\n",
       "      <td>4</td>\n",
       "      <td>Pokemon Red/Pokemon Blue</td>\n",
       "      <td>GB</td>\n",
       "      <td>1996.0</td>\n",
       "      <td>Role-Playing</td>\n",
       "      <td>11.27</td>\n",
       "      <td>8.89</td>\n",
       "      <td>10.22</td>\n",
       "      <td>1.00</td>\n",
       "      <td>NaN</td>\n",
       "      <td>NaN</td>\n",
       "      <td>NaN</td>\n",
       "    </tr>\n",
       "  </tbody>\n",
       "</table>\n",
       "</div>"
      ],
      "text/plain": [
       "                       Name Platform  Year_of_Release         Genre  NA_sales  \\\n",
       "0                Wii Sports      Wii           2006.0        Sports     41.36   \n",
       "1         Super Mario Bros.      NES           1985.0      Platform     29.08   \n",
       "2            Mario Kart Wii      Wii           2008.0        Racing     15.68   \n",
       "3         Wii Sports Resort      Wii           2009.0        Sports     15.61   \n",
       "4  Pokemon Red/Pokemon Blue       GB           1996.0  Role-Playing     11.27   \n",
       "\n",
       "   EU_sales  JP_sales  Other_sales  Critic_Score User_Score Rating  \n",
       "0     28.96      3.77         8.45          76.0          8      E  \n",
       "1      3.58      6.81         0.77           NaN        NaN    NaN  \n",
       "2     12.76      3.79         3.29          82.0        8.3      E  \n",
       "3     10.93      3.28         2.95          80.0          8      E  \n",
       "4      8.89     10.22         1.00           NaN        NaN    NaN  "
      ]
     },
     "execution_count": 5,
     "metadata": {},
     "output_type": "execute_result"
    }
   ],
   "source": [
    "games.head()"
   ]
  },
  {
   "cell_type": "code",
   "execution_count": 6,
   "metadata": {},
   "outputs": [
    {
     "data": {
      "text/html": [
       "<div>\n",
       "<style scoped>\n",
       "    .dataframe tbody tr th:only-of-type {\n",
       "        vertical-align: middle;\n",
       "    }\n",
       "\n",
       "    .dataframe tbody tr th {\n",
       "        vertical-align: top;\n",
       "    }\n",
       "\n",
       "    .dataframe thead th {\n",
       "        text-align: right;\n",
       "    }\n",
       "</style>\n",
       "<table border=\"1\" class=\"dataframe\">\n",
       "  <thead>\n",
       "    <tr style=\"text-align: right;\">\n",
       "      <th></th>\n",
       "      <th>Name</th>\n",
       "      <th>Platform</th>\n",
       "      <th>Year_of_Release</th>\n",
       "      <th>Genre</th>\n",
       "      <th>NA_sales</th>\n",
       "      <th>EU_sales</th>\n",
       "      <th>JP_sales</th>\n",
       "      <th>Other_sales</th>\n",
       "      <th>Critic_Score</th>\n",
       "      <th>User_Score</th>\n",
       "      <th>Rating</th>\n",
       "    </tr>\n",
       "  </thead>\n",
       "  <tbody>\n",
       "    <tr>\n",
       "      <td>3350</td>\n",
       "      <td>Split/Second</td>\n",
       "      <td>X360</td>\n",
       "      <td>2010.0</td>\n",
       "      <td>Racing</td>\n",
       "      <td>0.32</td>\n",
       "      <td>0.23</td>\n",
       "      <td>0.00</td>\n",
       "      <td>0.06</td>\n",
       "      <td>82.0</td>\n",
       "      <td>8.1</td>\n",
       "      <td>E10+</td>\n",
       "    </tr>\n",
       "    <tr>\n",
       "      <td>13526</td>\n",
       "      <td>Nanda's Island</td>\n",
       "      <td>DS</td>\n",
       "      <td>2009.0</td>\n",
       "      <td>Puzzle</td>\n",
       "      <td>0.04</td>\n",
       "      <td>0.00</td>\n",
       "      <td>0.00</td>\n",
       "      <td>0.00</td>\n",
       "      <td>NaN</td>\n",
       "      <td>tbd</td>\n",
       "      <td>E</td>\n",
       "    </tr>\n",
       "    <tr>\n",
       "      <td>11399</td>\n",
       "      <td>Agatha Christie: Evil Under the Sun</td>\n",
       "      <td>Wii</td>\n",
       "      <td>2008.0</td>\n",
       "      <td>Adventure</td>\n",
       "      <td>0.06</td>\n",
       "      <td>0.01</td>\n",
       "      <td>0.00</td>\n",
       "      <td>0.01</td>\n",
       "      <td>46.0</td>\n",
       "      <td>7.3</td>\n",
       "      <td>T</td>\n",
       "    </tr>\n",
       "    <tr>\n",
       "      <td>14701</td>\n",
       "      <td>Calcio Bit</td>\n",
       "      <td>GBA</td>\n",
       "      <td>2006.0</td>\n",
       "      <td>Sports</td>\n",
       "      <td>0.00</td>\n",
       "      <td>0.00</td>\n",
       "      <td>0.03</td>\n",
       "      <td>0.00</td>\n",
       "      <td>NaN</td>\n",
       "      <td>NaN</td>\n",
       "      <td>NaN</td>\n",
       "    </tr>\n",
       "    <tr>\n",
       "      <td>3658</td>\n",
       "      <td>Soccer Tsuku 2002: J-League Pro Soccer Club o ...</td>\n",
       "      <td>PS2</td>\n",
       "      <td>2002.0</td>\n",
       "      <td>Sports</td>\n",
       "      <td>0.00</td>\n",
       "      <td>0.00</td>\n",
       "      <td>0.55</td>\n",
       "      <td>0.00</td>\n",
       "      <td>NaN</td>\n",
       "      <td>NaN</td>\n",
       "      <td>NaN</td>\n",
       "    </tr>\n",
       "  </tbody>\n",
       "</table>\n",
       "</div>"
      ],
      "text/plain": [
       "                                                    Name Platform  \\\n",
       "3350                                        Split/Second     X360   \n",
       "13526                                     Nanda's Island       DS   \n",
       "11399                Agatha Christie: Evil Under the Sun      Wii   \n",
       "14701                                         Calcio Bit      GBA   \n",
       "3658   Soccer Tsuku 2002: J-League Pro Soccer Club o ...      PS2   \n",
       "\n",
       "       Year_of_Release      Genre  NA_sales  EU_sales  JP_sales  Other_sales  \\\n",
       "3350            2010.0     Racing      0.32      0.23      0.00         0.06   \n",
       "13526           2009.0     Puzzle      0.04      0.00      0.00         0.00   \n",
       "11399           2008.0  Adventure      0.06      0.01      0.00         0.01   \n",
       "14701           2006.0     Sports      0.00      0.00      0.03         0.00   \n",
       "3658            2002.0     Sports      0.00      0.00      0.55         0.00   \n",
       "\n",
       "       Critic_Score User_Score Rating  \n",
       "3350           82.0        8.1   E10+  \n",
       "13526           NaN        tbd      E  \n",
       "11399          46.0        7.3      T  \n",
       "14701           NaN        NaN    NaN  \n",
       "3658            NaN        NaN    NaN  "
      ]
     },
     "execution_count": 6,
     "metadata": {},
     "output_type": "execute_result"
    }
   ],
   "source": [
    "games.sample(5)"
   ]
  },
  {
   "cell_type": "code",
   "execution_count": 7,
   "metadata": {},
   "outputs": [
    {
     "name": "stdout",
     "output_type": "stream",
     "text": [
      "<class 'pandas.core.frame.DataFrame'>\n",
      "RangeIndex: 16715 entries, 0 to 16714\n",
      "Data columns (total 11 columns):\n",
      "Name               16713 non-null object\n",
      "Platform           16715 non-null object\n",
      "Year_of_Release    16446 non-null float64\n",
      "Genre              16713 non-null object\n",
      "NA_sales           16715 non-null float64\n",
      "EU_sales           16715 non-null float64\n",
      "JP_sales           16715 non-null float64\n",
      "Other_sales        16715 non-null float64\n",
      "Critic_Score       8137 non-null float64\n",
      "User_Score         10014 non-null object\n",
      "Rating             9949 non-null object\n",
      "dtypes: float64(6), object(5)\n",
      "memory usage: 1.4+ MB\n"
     ]
    }
   ],
   "source": [
    "games.info()"
   ]
  },
  {
   "cell_type": "markdown",
   "metadata": {},
   "source": [
    "### Conclusion:\n",
    "\n",
    "**Data description**\n",
    "\n",
    "* <strong><em>Name</em></strong> - Name of the games, contain two missing values\n",
    "* <strong><em>Platform</em></strong> - The type of platform on which the game is played\n",
    "* <strong><em>Year_of_Release</em></strong> - The year in which the game was released, contain 269 missing values and its float type although it is a value of years\n",
    "* <strong><em>Genre</em></strong> - Contain two missing values enteries in the same rows of the name\n",
    "* <strong><em>NA_sales</em></strong> - North American sales in USD million\n",
    "* <strong><em>EU_sales</em></strong> - Europe sales in USD million\n",
    "* <strong><em>JP_sales</em></strong> - Japan sales in USD million\n",
    "* <strong><em>Other_sales</em></strong> - Sales in other countries in USD million\n",
    "* <strong><em>Critic_Score</em></strong> - Maximum of 100, contain 8578 missing values\n",
    "* <strong><em>User_Score</em></strong> - Maximum of 10, contain 6701 issing values and its object type although it is a value of score due to its contain \"tbd\" values\n",
    "* <strong><em>Rating</em></strong> - ESRB: The Entertainment Software Rating Board, contain 6766 missing values\n",
    "\n",
    "-The table contain upper and lower case.\n",
    "\n",
    "-Data for 2016 may be incomplete.\n",
    "\n"
   ]
  },
  {
   "cell_type": "markdown",
   "metadata": {},
   "source": [
    "<div class=\"alert alert-success\" role=\"alert\">\n",
    "Reviewer's comment v. 1:\n",
    "    \n",
    "It's great that you clearly described fields of data.\n",
    "</div>"
   ]
  },
  {
   "cell_type": "markdown",
   "metadata": {},
   "source": [
    "## 2. Data preprocessing"
   ]
  },
  {
   "cell_type": "markdown",
   "metadata": {},
   "source": [
    "**The tasks:**\n",
    "\n",
    "1. Change the table to lower case values for convenience\n",
    "2. Fill in the missing values for year of release column depending on the year the same game release on a different platform\n",
    "3. Drop the two rows conatin missing values in name and genre columns\n",
    "4. Change the \"tbd\" values in user_score column to NaN because it is not possible to know when the score will be determined and there are those whose score was not yet determined many years ago\n",
    "4. Fill in the missing values for critic and user score depending on the ratio of user_score to critic_score. The ratio between them is about 10 times and it makes sense because it reflects the consensus of all those who score the game. It fills in only a few missing values but adds a few more values to the future analysis\n",
    "5. Calculate the total sales (the sum of sales in all regions) for each game"
   ]
  },
  {
   "cell_type": "markdown",
   "metadata": {},
   "source": [
    "**1. Change the table to lower case values for convenience:**"
   ]
  },
  {
   "cell_type": "code",
   "execution_count": 8,
   "metadata": {},
   "outputs": [],
   "source": [
    "games.columns=games.columns.str.lower()"
   ]
  },
  {
   "cell_type": "code",
   "execution_count": 9,
   "metadata": {},
   "outputs": [],
   "source": [
    "games['name']=games['name'].str.lower()\n",
    "games['platform']=games['platform'].str.lower()\n",
    "games['genre']=games['genre'].str.lower()\n",
    "games['rating']=games['rating'].str.lower()"
   ]
  },
  {
   "cell_type": "markdown",
   "metadata": {},
   "source": [
    "<div class=\"alert alert-success\" role=\"alert\">\n",
    "Reviewer's comment v. 1:\n",
    "    \n",
    "It's great that you bring columns to the lower case.\n",
    "</div>"
   ]
  },
  {
   "cell_type": "markdown",
   "metadata": {},
   "source": [
    "**2. Fill in the missing values for year_of release_column:**"
   ]
  },
  {
   "cell_type": "code",
   "execution_count": 10,
   "metadata": {},
   "outputs": [
    {
     "data": {
      "text/html": [
       "<div>\n",
       "<style scoped>\n",
       "    .dataframe tbody tr th:only-of-type {\n",
       "        vertical-align: middle;\n",
       "    }\n",
       "\n",
       "    .dataframe tbody tr th {\n",
       "        vertical-align: top;\n",
       "    }\n",
       "\n",
       "    .dataframe thead th {\n",
       "        text-align: right;\n",
       "    }\n",
       "</style>\n",
       "<table border=\"1\" class=\"dataframe\">\n",
       "  <thead>\n",
       "    <tr style=\"text-align: right;\">\n",
       "      <th></th>\n",
       "      <th>name</th>\n",
       "      <th>platform</th>\n",
       "      <th>year_of_release</th>\n",
       "      <th>genre</th>\n",
       "      <th>na_sales</th>\n",
       "      <th>eu_sales</th>\n",
       "      <th>jp_sales</th>\n",
       "      <th>other_sales</th>\n",
       "      <th>critic_score</th>\n",
       "      <th>user_score</th>\n",
       "      <th>rating</th>\n",
       "    </tr>\n",
       "  </thead>\n",
       "  <tbody>\n",
       "    <tr>\n",
       "      <td>241</td>\n",
       "      <td>madden nfl 07</td>\n",
       "      <td>ps2</td>\n",
       "      <td>2006.0</td>\n",
       "      <td>sports</td>\n",
       "      <td>3.63</td>\n",
       "      <td>0.24</td>\n",
       "      <td>0.01</td>\n",
       "      <td>0.61</td>\n",
       "      <td>84.0</td>\n",
       "      <td>8.2</td>\n",
       "      <td>e</td>\n",
       "    </tr>\n",
       "    <tr>\n",
       "      <td>972</td>\n",
       "      <td>madden nfl 07</td>\n",
       "      <td>x360</td>\n",
       "      <td>2006.0</td>\n",
       "      <td>sports</td>\n",
       "      <td>1.66</td>\n",
       "      <td>0.00</td>\n",
       "      <td>0.01</td>\n",
       "      <td>0.13</td>\n",
       "      <td>80.0</td>\n",
       "      <td>6</td>\n",
       "      <td>e</td>\n",
       "    </tr>\n",
       "    <tr>\n",
       "      <td>2035</td>\n",
       "      <td>madden nfl 07</td>\n",
       "      <td>xb</td>\n",
       "      <td>2006.0</td>\n",
       "      <td>sports</td>\n",
       "      <td>0.97</td>\n",
       "      <td>0.03</td>\n",
       "      <td>0.00</td>\n",
       "      <td>0.03</td>\n",
       "      <td>83.0</td>\n",
       "      <td>8.7</td>\n",
       "      <td>e</td>\n",
       "    </tr>\n",
       "    <tr>\n",
       "      <td>2479</td>\n",
       "      <td>madden nfl 07</td>\n",
       "      <td>psp</td>\n",
       "      <td>NaN</td>\n",
       "      <td>sports</td>\n",
       "      <td>0.77</td>\n",
       "      <td>0.03</td>\n",
       "      <td>0.00</td>\n",
       "      <td>0.04</td>\n",
       "      <td>78.0</td>\n",
       "      <td>6.6</td>\n",
       "      <td>e</td>\n",
       "    </tr>\n",
       "    <tr>\n",
       "      <td>3229</td>\n",
       "      <td>madden nfl 07</td>\n",
       "      <td>gc</td>\n",
       "      <td>2006.0</td>\n",
       "      <td>sports</td>\n",
       "      <td>0.48</td>\n",
       "      <td>0.13</td>\n",
       "      <td>0.00</td>\n",
       "      <td>0.02</td>\n",
       "      <td>82.0</td>\n",
       "      <td>9.2</td>\n",
       "      <td>e</td>\n",
       "    </tr>\n",
       "    <tr>\n",
       "      <td>3838</td>\n",
       "      <td>madden nfl 07</td>\n",
       "      <td>ps3</td>\n",
       "      <td>2006.0</td>\n",
       "      <td>sports</td>\n",
       "      <td>0.47</td>\n",
       "      <td>0.00</td>\n",
       "      <td>0.01</td>\n",
       "      <td>0.04</td>\n",
       "      <td>76.0</td>\n",
       "      <td>4.2</td>\n",
       "      <td>e</td>\n",
       "    </tr>\n",
       "    <tr>\n",
       "      <td>4006</td>\n",
       "      <td>madden nfl 07</td>\n",
       "      <td>wii</td>\n",
       "      <td>2006.0</td>\n",
       "      <td>sports</td>\n",
       "      <td>0.46</td>\n",
       "      <td>0.00</td>\n",
       "      <td>0.00</td>\n",
       "      <td>0.04</td>\n",
       "      <td>81.0</td>\n",
       "      <td>8</td>\n",
       "      <td>e</td>\n",
       "    </tr>\n",
       "    <tr>\n",
       "      <td>7372</td>\n",
       "      <td>madden nfl 07</td>\n",
       "      <td>ds</td>\n",
       "      <td>2006.0</td>\n",
       "      <td>sports</td>\n",
       "      <td>0.20</td>\n",
       "      <td>0.00</td>\n",
       "      <td>0.00</td>\n",
       "      <td>0.02</td>\n",
       "      <td>70.0</td>\n",
       "      <td>6.5</td>\n",
       "      <td>e</td>\n",
       "    </tr>\n",
       "    <tr>\n",
       "      <td>14889</td>\n",
       "      <td>madden nfl 07</td>\n",
       "      <td>gba</td>\n",
       "      <td>2006.0</td>\n",
       "      <td>sports</td>\n",
       "      <td>0.02</td>\n",
       "      <td>0.01</td>\n",
       "      <td>0.00</td>\n",
       "      <td>0.00</td>\n",
       "      <td>68.0</td>\n",
       "      <td>9.3</td>\n",
       "      <td>e</td>\n",
       "    </tr>\n",
       "  </tbody>\n",
       "</table>\n",
       "</div>"
      ],
      "text/plain": [
       "                name platform  year_of_release   genre  na_sales  eu_sales  \\\n",
       "241    madden nfl 07      ps2           2006.0  sports      3.63      0.24   \n",
       "972    madden nfl 07     x360           2006.0  sports      1.66      0.00   \n",
       "2035   madden nfl 07       xb           2006.0  sports      0.97      0.03   \n",
       "2479   madden nfl 07      psp              NaN  sports      0.77      0.03   \n",
       "3229   madden nfl 07       gc           2006.0  sports      0.48      0.13   \n",
       "3838   madden nfl 07      ps3           2006.0  sports      0.47      0.00   \n",
       "4006   madden nfl 07      wii           2006.0  sports      0.46      0.00   \n",
       "7372   madden nfl 07       ds           2006.0  sports      0.20      0.00   \n",
       "14889  madden nfl 07      gba           2006.0  sports      0.02      0.01   \n",
       "\n",
       "       jp_sales  other_sales  critic_score user_score rating  \n",
       "241        0.01         0.61          84.0        8.2      e  \n",
       "972        0.01         0.13          80.0          6      e  \n",
       "2035       0.00         0.03          83.0        8.7      e  \n",
       "2479       0.00         0.04          78.0        6.6      e  \n",
       "3229       0.00         0.02          82.0        9.2      e  \n",
       "3838       0.01         0.04          76.0        4.2      e  \n",
       "4006       0.00         0.04          81.0          8      e  \n",
       "7372       0.00         0.02          70.0        6.5      e  \n",
       "14889      0.00         0.00          68.0        9.3      e  "
      ]
     },
     "execution_count": 10,
     "metadata": {},
     "output_type": "execute_result"
    }
   ],
   "source": [
    "#Exsample:\n",
    "games.query('name==\"madden nfl 07\"')"
   ]
  },
  {
   "cell_type": "code",
   "execution_count": 11,
   "metadata": {},
   "outputs": [],
   "source": [
    "games['year_of_release']=games['year_of_release'].fillna(games.groupby(['name'])['year_of_release'].transform('mean'))"
   ]
  },
  {
   "cell_type": "code",
   "execution_count": 12,
   "metadata": {},
   "outputs": [
    {
     "data": {
      "text/html": [
       "<div>\n",
       "<style scoped>\n",
       "    .dataframe tbody tr th:only-of-type {\n",
       "        vertical-align: middle;\n",
       "    }\n",
       "\n",
       "    .dataframe tbody tr th {\n",
       "        vertical-align: top;\n",
       "    }\n",
       "\n",
       "    .dataframe thead th {\n",
       "        text-align: right;\n",
       "    }\n",
       "</style>\n",
       "<table border=\"1\" class=\"dataframe\">\n",
       "  <thead>\n",
       "    <tr style=\"text-align: right;\">\n",
       "      <th></th>\n",
       "      <th>name</th>\n",
       "      <th>platform</th>\n",
       "      <th>year_of_release</th>\n",
       "      <th>genre</th>\n",
       "      <th>na_sales</th>\n",
       "      <th>eu_sales</th>\n",
       "      <th>jp_sales</th>\n",
       "      <th>other_sales</th>\n",
       "      <th>critic_score</th>\n",
       "      <th>user_score</th>\n",
       "      <th>rating</th>\n",
       "    </tr>\n",
       "  </thead>\n",
       "  <tbody>\n",
       "    <tr>\n",
       "      <td>241</td>\n",
       "      <td>madden nfl 07</td>\n",
       "      <td>ps2</td>\n",
       "      <td>2006.0</td>\n",
       "      <td>sports</td>\n",
       "      <td>3.63</td>\n",
       "      <td>0.24</td>\n",
       "      <td>0.01</td>\n",
       "      <td>0.61</td>\n",
       "      <td>84.0</td>\n",
       "      <td>8.2</td>\n",
       "      <td>e</td>\n",
       "    </tr>\n",
       "    <tr>\n",
       "      <td>972</td>\n",
       "      <td>madden nfl 07</td>\n",
       "      <td>x360</td>\n",
       "      <td>2006.0</td>\n",
       "      <td>sports</td>\n",
       "      <td>1.66</td>\n",
       "      <td>0.00</td>\n",
       "      <td>0.01</td>\n",
       "      <td>0.13</td>\n",
       "      <td>80.0</td>\n",
       "      <td>6</td>\n",
       "      <td>e</td>\n",
       "    </tr>\n",
       "    <tr>\n",
       "      <td>2035</td>\n",
       "      <td>madden nfl 07</td>\n",
       "      <td>xb</td>\n",
       "      <td>2006.0</td>\n",
       "      <td>sports</td>\n",
       "      <td>0.97</td>\n",
       "      <td>0.03</td>\n",
       "      <td>0.00</td>\n",
       "      <td>0.03</td>\n",
       "      <td>83.0</td>\n",
       "      <td>8.7</td>\n",
       "      <td>e</td>\n",
       "    </tr>\n",
       "    <tr>\n",
       "      <td>2479</td>\n",
       "      <td>madden nfl 07</td>\n",
       "      <td>psp</td>\n",
       "      <td>2006.0</td>\n",
       "      <td>sports</td>\n",
       "      <td>0.77</td>\n",
       "      <td>0.03</td>\n",
       "      <td>0.00</td>\n",
       "      <td>0.04</td>\n",
       "      <td>78.0</td>\n",
       "      <td>6.6</td>\n",
       "      <td>e</td>\n",
       "    </tr>\n",
       "    <tr>\n",
       "      <td>3229</td>\n",
       "      <td>madden nfl 07</td>\n",
       "      <td>gc</td>\n",
       "      <td>2006.0</td>\n",
       "      <td>sports</td>\n",
       "      <td>0.48</td>\n",
       "      <td>0.13</td>\n",
       "      <td>0.00</td>\n",
       "      <td>0.02</td>\n",
       "      <td>82.0</td>\n",
       "      <td>9.2</td>\n",
       "      <td>e</td>\n",
       "    </tr>\n",
       "    <tr>\n",
       "      <td>3838</td>\n",
       "      <td>madden nfl 07</td>\n",
       "      <td>ps3</td>\n",
       "      <td>2006.0</td>\n",
       "      <td>sports</td>\n",
       "      <td>0.47</td>\n",
       "      <td>0.00</td>\n",
       "      <td>0.01</td>\n",
       "      <td>0.04</td>\n",
       "      <td>76.0</td>\n",
       "      <td>4.2</td>\n",
       "      <td>e</td>\n",
       "    </tr>\n",
       "    <tr>\n",
       "      <td>4006</td>\n",
       "      <td>madden nfl 07</td>\n",
       "      <td>wii</td>\n",
       "      <td>2006.0</td>\n",
       "      <td>sports</td>\n",
       "      <td>0.46</td>\n",
       "      <td>0.00</td>\n",
       "      <td>0.00</td>\n",
       "      <td>0.04</td>\n",
       "      <td>81.0</td>\n",
       "      <td>8</td>\n",
       "      <td>e</td>\n",
       "    </tr>\n",
       "    <tr>\n",
       "      <td>7372</td>\n",
       "      <td>madden nfl 07</td>\n",
       "      <td>ds</td>\n",
       "      <td>2006.0</td>\n",
       "      <td>sports</td>\n",
       "      <td>0.20</td>\n",
       "      <td>0.00</td>\n",
       "      <td>0.00</td>\n",
       "      <td>0.02</td>\n",
       "      <td>70.0</td>\n",
       "      <td>6.5</td>\n",
       "      <td>e</td>\n",
       "    </tr>\n",
       "    <tr>\n",
       "      <td>14889</td>\n",
       "      <td>madden nfl 07</td>\n",
       "      <td>gba</td>\n",
       "      <td>2006.0</td>\n",
       "      <td>sports</td>\n",
       "      <td>0.02</td>\n",
       "      <td>0.01</td>\n",
       "      <td>0.00</td>\n",
       "      <td>0.00</td>\n",
       "      <td>68.0</td>\n",
       "      <td>9.3</td>\n",
       "      <td>e</td>\n",
       "    </tr>\n",
       "  </tbody>\n",
       "</table>\n",
       "</div>"
      ],
      "text/plain": [
       "                name platform  year_of_release   genre  na_sales  eu_sales  \\\n",
       "241    madden nfl 07      ps2           2006.0  sports      3.63      0.24   \n",
       "972    madden nfl 07     x360           2006.0  sports      1.66      0.00   \n",
       "2035   madden nfl 07       xb           2006.0  sports      0.97      0.03   \n",
       "2479   madden nfl 07      psp           2006.0  sports      0.77      0.03   \n",
       "3229   madden nfl 07       gc           2006.0  sports      0.48      0.13   \n",
       "3838   madden nfl 07      ps3           2006.0  sports      0.47      0.00   \n",
       "4006   madden nfl 07      wii           2006.0  sports      0.46      0.00   \n",
       "7372   madden nfl 07       ds           2006.0  sports      0.20      0.00   \n",
       "14889  madden nfl 07      gba           2006.0  sports      0.02      0.01   \n",
       "\n",
       "       jp_sales  other_sales  critic_score user_score rating  \n",
       "241        0.01         0.61          84.0        8.2      e  \n",
       "972        0.01         0.13          80.0          6      e  \n",
       "2035       0.00         0.03          83.0        8.7      e  \n",
       "2479       0.00         0.04          78.0        6.6      e  \n",
       "3229       0.00         0.02          82.0        9.2      e  \n",
       "3838       0.01         0.04          76.0        4.2      e  \n",
       "4006       0.00         0.04          81.0          8      e  \n",
       "7372       0.00         0.02          70.0        6.5      e  \n",
       "14889      0.00         0.00          68.0        9.3      e  "
      ]
     },
     "execution_count": 12,
     "metadata": {},
     "output_type": "execute_result"
    }
   ],
   "source": [
    "#Exsample:\n",
    "games.query('name==\"madden nfl 07\"')"
   ]
  },
  {
   "cell_type": "markdown",
   "metadata": {},
   "source": [
    "The rest of the rows with the missing values in year_of_release column I remove because there are only 146 rows left which is less than 1% of the total data."
   ]
  },
  {
   "cell_type": "markdown",
   "metadata": {},
   "source": [
    "<div class=\"alert alert-danger\" role=\"alert\">\n",
    "Reviewer's comment v. 1:\n",
    "    \n",
    "Could you please explain why you filled a missing values in the year_of_release column by mean?\n",
    "</div>"
   ]
  },
  {
   "cell_type": "markdown",
   "metadata": {},
   "source": [
    "<div class=\"alert alert-info\" style=\"border:solid blue 2px; padding: 20px\"> <b>Student comment:</b> Yes, you're right, I did not explain it, sorry🤦🏻. Games with the same names were usually released in the same year, and therefore, an average of several numbers that are the same will remain the same number.Games that have a missing value in their release year and their name already exists elsewhere in the table and contains a certain value in the release year column, can be relied upon to fill a missing value since an average of several years that are the same, will be the same year. I gave you an example above using the game \"madden nfl 07\": All games that have this name were released in 2006, the average of 2006 double 8 times is 2006, so the missing value can also be 2006. </div>"
   ]
  },
  {
   "cell_type": "markdown",
   "metadata": {},
   "source": [
    "<div class=\"alert alert-success\" role=\"alert\">\n",
    "Reviewer's comment v. 2:\n",
    "    \n",
    "Yes, you are right :) Well done that you clearly explained your method to fill a missing value in the year_of_release column.\n",
    "</div>"
   ]
  },
  {
   "cell_type": "code",
   "execution_count": 13,
   "metadata": {},
   "outputs": [],
   "source": [
    "#Drop the rest of rows with missing values\n",
    "games=games.dropna(subset=['year_of_release'])\n",
    "\n",
    "#Change the type to int\n",
    "games['year_of_release']=games['year_of_release'].astype(int)"
   ]
  },
  {
   "cell_type": "markdown",
   "metadata": {},
   "source": [
    "<div class=\"alert alert-success\" role=\"alert\">\n",
    "Reviewer's comment v. 1:\n",
    "    \n",
    "Yes, 'year_of_release' should be int.\n",
    "</div>"
   ]
  },
  {
   "cell_type": "markdown",
   "metadata": {},
   "source": [
    "**3. Drop the two rows conatin missing values in name and genre columns:**"
   ]
  },
  {
   "cell_type": "code",
   "execution_count": 14,
   "metadata": {},
   "outputs": [],
   "source": [
    "games=games.dropna(subset=['name'])"
   ]
  },
  {
   "cell_type": "markdown",
   "metadata": {},
   "source": [
    "<div class=\"alert alert-success\" role=\"alert\">\n",
    "Reviewer's comment v. 1:\n",
    "    \n",
    "Yes, we can drop two rows.\n",
    "</div>"
   ]
  },
  {
   "cell_type": "markdown",
   "metadata": {},
   "source": [
    "**4. Change the \"tbd\" values in user_score column to NaN:**"
   ]
  },
  {
   "cell_type": "code",
   "execution_count": 15,
   "metadata": {},
   "outputs": [],
   "source": [
    "games['user_score']=games['user_score'].replace('tbd', np.nan)"
   ]
  },
  {
   "cell_type": "markdown",
   "metadata": {},
   "source": [
    "<div class=\"alert alert-success\" role=\"alert\">\n",
    "Reviewer's comment v. 1:\n",
    "    \n",
    "Yes, 'tbd' is expected to be NaN.\n",
    "</div>"
   ]
  },
  {
   "cell_type": "markdown",
   "metadata": {},
   "source": [
    "**5. Fill in the missing values for critic and user score:**\n",
    "\n",
    "* Chage the type to float\n",
    "* Fill in the missing values depending on the same games score on a different platfom\n",
    "* Fill in the missing values of critic_score 10 times from user_score\n",
    "* Fill in the missing values of user_score divide by 10 from critic_score"
   ]
  },
  {
   "cell_type": "code",
   "execution_count": 16,
   "metadata": {},
   "outputs": [],
   "source": [
    "#Change the types of critic and user score columns to float\n",
    "games['critic_score']=games['critic_score'].astype(float)\n",
    "games['user_score']=games['user_score'].astype(float)"
   ]
  },
  {
   "cell_type": "code",
   "execution_count": 17,
   "metadata": {},
   "outputs": [],
   "source": [
    "#games['critic_score']=games['critic_score'].fillna(games.groupby(['name'])['critic_score'].transform('mean'))\n",
    "#games['user_score']=games['user_score'].fillna(games.groupby(['name'])['user_score'].transform('mean'))"
   ]
  },
  {
   "cell_type": "code",
   "execution_count": 18,
   "metadata": {},
   "outputs": [],
   "source": [
    "#games['critic_score']=games['critic_score'].fillna(games['user_score']*10)"
   ]
  },
  {
   "cell_type": "code",
   "execution_count": 19,
   "metadata": {},
   "outputs": [],
   "source": [
    "#games['user_score']=games['user_score'].fillna(games['critic_score']/10)"
   ]
  },
  {
   "cell_type": "markdown",
   "metadata": {},
   "source": [
    "<div class=\"alert alert-danger\" role=\"alert\">\n",
    "Reviewer's comment v. 1:\n",
    "    \n",
    "Could you please explain why you filled a missing values using these methods? What is a possible reason of a missing values?\n",
    "</div>"
   ]
  },
  {
   "cell_type": "markdown",
   "metadata": {},
   "source": [
    "<div class=\"alert alert-info\" style=\"border:solid blue 2px; padding: 20px\"> <b>Student comment:</b> You're right, I initially thought of a way to fill in some of the missing values, but on second thought that's not true. I deleted itץ The reasons there are missing values are because maybe players just did not score the game or the game is not popular enough for enough people to play it and score it.</div>"
   ]
  },
  {
   "cell_type": "markdown",
   "metadata": {},
   "source": [
    "<div class=\"alert alert-success\" role=\"alert\">\n",
    "Reviewer's comment v. 2:\n",
    "    \n",
    "Ok :)\n",
    "</div>"
   ]
  },
  {
   "cell_type": "markdown",
   "metadata": {},
   "source": [
    "**6. Calculate the total sales (the sum of sales in all regions) for each game:**"
   ]
  },
  {
   "cell_type": "code",
   "execution_count": 20,
   "metadata": {},
   "outputs": [],
   "source": [
    "#Addition of all sales columns and create a new column\n",
    "games['total_sales']=games[['na_sales', 'eu_sales', 'jp_sales', 'other_sales']].sum(axis=1)"
   ]
  },
  {
   "cell_type": "code",
   "execution_count": 21,
   "metadata": {},
   "outputs": [
    {
     "name": "stdout",
     "output_type": "stream",
     "text": [
      "<class 'pandas.core.frame.DataFrame'>\n",
      "Int64Index: 16567 entries, 0 to 16714\n",
      "Data columns (total 12 columns):\n",
      "name               16567 non-null object\n",
      "platform           16567 non-null object\n",
      "year_of_release    16567 non-null int64\n",
      "genre              16567 non-null object\n",
      "na_sales           16567 non-null float64\n",
      "eu_sales           16567 non-null float64\n",
      "jp_sales           16567 non-null float64\n",
      "other_sales        16567 non-null float64\n",
      "critic_score       8075 non-null float64\n",
      "user_score         7540 non-null float64\n",
      "rating             9868 non-null object\n",
      "total_sales        16567 non-null float64\n",
      "dtypes: float64(7), int64(1), object(4)\n",
      "memory usage: 1.6+ MB\n"
     ]
    }
   ],
   "source": [
    "games.info()"
   ]
  },
  {
   "cell_type": "markdown",
   "metadata": {},
   "source": [
    "### Conclusion:\n",
    "\n",
    "The data preprocessing part was completed, the missing values were filled in, the column types were changed to the required type, the total_sales column was added and now we  can start analyzing the data."
   ]
  },
  {
   "cell_type": "markdown",
   "metadata": {},
   "source": [
    "<div class=\"alert alert-success\" role=\"alert\">\n",
    "Reviewer's comment v. 1:\n",
    "    \n",
    "Ok, lets move to the data analysis.\n",
    "</div>"
   ]
  },
  {
   "cell_type": "markdown",
   "metadata": {},
   "source": [
    "## 3. Analyze the data"
   ]
  },
  {
   "cell_type": "markdown",
   "metadata": {},
   "source": [
    "The data analysis will be done in several steps according to the company’s requirements"
   ]
  },
  {
   "cell_type": "markdown",
   "metadata": {},
   "source": [
    "**1. Look at how many games were released in different years:**\n",
    "\n",
    "In order to find the distribution of game releases over the years one has to create a bar plot describing all the years and the amount of games released each year."
   ]
  },
  {
   "cell_type": "code",
   "execution_count": 22,
   "metadata": {},
   "outputs": [],
   "source": [
    "#Pivot table to group the amount of games released each year\n",
    "df=games.pivot_table(index='year_of_release', values='name', aggfunc='count').reset_index()"
   ]
  },
  {
   "cell_type": "code",
   "execution_count": 23,
   "metadata": {},
   "outputs": [
    {
     "data": {
      "image/png": "[encoded data removed]",
      "text/plain": [
       "<Figure size 864x648 with 1 Axes>"
      ]
     },
     "metadata": {
      "needs_background": "light"
     },
     "output_type": "display_data"
    }
   ],
   "source": [
    "#Lollipop chart to desctibe the amount of games released each year\n",
    "\n",
    "#Appearance and conditions:\n",
    "fig,ax=plt.subplots(figsize=(12,9))\n",
    "ax.vlines(x=df.year_of_release, ymin=0, ymax=df.name, alpha=0.7, color='green', linewidth=3)\n",
    "ax.scatter(x=df.year_of_release, y=df.name, s=80, color='black', alpha=0.7)\n",
    "\n",
    "#Titles:\n",
    "ax.set_title('Count of Games Released Per Year 1980-2016', fontdict={'size':13})\n",
    "ax.set_ylabel('Namber of games')\n",
    "ax.set_xlabel('Year of release')\n",
    "ax.set_xticks(df.year_of_release)\n",
    "ax.set_xticklabels(df.year_of_release, rotation=75)\n",
    "\n",
    "#Value of each segment and a circle:\n",
    "for row in df.itertuples():\n",
    "    ax.text(row.year_of_release, row.name+40, s=round(row.name, 2))\n",
    "\n",
    "plt.show()"
   ]
  },
  {
   "cell_type": "markdown",
   "metadata": {},
   "source": [
    "<div class=\"alert alert-success\" role=\"alert\">\n",
    "Reviewer's comment v. 1:\n",
    "    \n",
    "You have made  an excellent graph \t👍👍👍\n",
    "</div>"
   ]
  },
  {
   "cell_type": "markdown",
   "metadata": {},
   "source": [
    "**Is the data for every period significant?**\n",
    "\n",
    "According to the lollipop chart it can be seen that until 1993 almost no games were released, this makes sense since the computer age only started during this period and games were almost non-existent. The significant increase started after that, but I decided to take values starting in 2002 since it is not so relevant to know what games were 20 years ago because the technologies and computing have completely changed since."
   ]
  },
  {
   "cell_type": "markdown",
   "metadata": {},
   "source": [
    "<div class=\"alert alert-warning\" role=\"alert\">\n",
    "Reviewer's comment v. 1:\n",
    "    \n",
    "Could you please describe a possible reason of increase and decrease the number of games?\n",
    "</div>"
   ]
  },
  {
   "cell_type": "markdown",
   "metadata": {},
   "source": [
    "<div class=\"alert alert-info\" style=\"border:solid blue 2px; padding: 20px\"> <b>Student comment:</b> The reason for the increases and decreases in the number of games over the years stems from the history of computer games: until 1993 computer games were still not so popular, not many people owned a computer at home and therefore there was almost no demand for it. Then an upward trend began until the early 2000s video games became one of the most popular means of entertainment in the world. During the decade, various innovations entered the home console market and the personal computer market. In addition the portable console market has become much more competitive. When the peak was in 2008 when total sales of video games and game consoles worldwide reached more than $ 21 billion (perhaps because of the economic crisis that left many people at home ...).\n",
    "In 2011 there was a significant drop in computer games probably due to the entry of smartphones into the market and many users have moved to play through mobile. In addition, many platforms were no longer relevant because they were old and therefore it was necessary to develop games tailored to specific platforms. </div>"
   ]
  },
  {
   "cell_type": "markdown",
   "metadata": {},
   "source": [
    "<div class=\"alert alert-success\" role=\"alert\">\n",
    "Reviewer's comment v. 2:\n",
    "    \n",
    "An excellent explanation :)\n",
    "</div>"
   ]
  },
  {
   "cell_type": "markdown",
   "metadata": {},
   "source": [
    "<div class=\"alert alert-danger\" role=\"alert\">\n",
    "Reviewer's comment v. 1:\n",
    "    \n",
    "Please note that it's better to use data since 2014. Could you please explain why? Please fix it and I will check the next parts of the project.\n",
    "</div>"
   ]
  },
  {
   "cell_type": "markdown",
   "metadata": {},
   "source": [
    "<div class=\"alert alert-info\" style=\"border:solid blue 2px; padding: 20px\"> <b>Student comment:</b> Yes, you are right. Since we want to launch a campaign for 2017 it is necessary to rely on data from years close to 2017, so it makes much more sense to take data starting from 2014. </div>"
   ]
  },
  {
   "cell_type": "markdown",
   "metadata": {},
   "source": [
    "<div class=\"alert alert-success\" role=\"alert\">\n",
    "Reviewer's comment v. 2:\n",
    "    \n",
    "The reason why to chose data since 2014 is the following. We see that the leader in sales for the entire history of the PS2. But sales by 2011 are already zero. The X360 was at its peak in 2010, but by 2016 it had fallen to almost 0. In general, a sharp decline in the platform can occur in just 3 years. Let's look at this sales horizon.\n",
    "</div>"
   ]
  },
  {
   "cell_type": "markdown",
   "metadata": {},
   "source": [
    "**2. Look at how sales varied from platform to platform:**\n",
    "\n",
    "In order to see the distribution of sales for each platform one has to group the total sales for each platform to standardize using a standard score in order to normalize all the platforms and find which platforms are the most profitable. The farther they are from the zero line (from the average) in the positive direction, the more profitable they will be, and the more negative it will be less profitable."
   ]
  },
  {
   "cell_type": "markdown",
   "metadata": {},
   "source": [
    "Standard score equetion:  $ z={x-\\mu  \\over \\sigma }$\n",
    "\n",
    "A standard score can have any value, positive or negative, where a positive value indicates a high observation in the numerical value of the population expectation, and a negative value indicates a low observation in the numerical value of the population expectation"
   ]
  },
  {
   "cell_type": "code",
   "execution_count": 24,
   "metadata": {},
   "outputs": [],
   "source": [
    "#Group platform and total sales by platform:\n",
    "df1=games[['platform', 'total_sales']].groupby(['platform']).sum().sort_values(by='total_sales').reset_index()"
   ]
  },
  {
   "cell_type": "code",
   "execution_count": 25,
   "metadata": {},
   "outputs": [],
   "source": [
    "#Add a column that calculates the standard score:\n",
    "df1['ss_sales']=(df1['total_sales']-df1['total_sales'].mean())/df1['total_sales'].std()"
   ]
  },
  {
   "cell_type": "code",
   "execution_count": 26,
   "metadata": {},
   "outputs": [],
   "source": [
    "#Adding a color column that distinguishes between positive and negative value and will be reflected in the graph I create:\n",
    "df1['color']=['red' if x<0 else 'green' for x in df1['ss_sales']]"
   ]
  },
  {
   "cell_type": "code",
   "execution_count": 27,
   "metadata": {},
   "outputs": [
    {
     "data": {
      "image/png": "[encoded data removed]",
      "text/plain": [
       "<Figure size 1008x720 with 1 Axes>"
      ]
     },
     "metadata": {
      "needs_background": "light"
     },
     "output_type": "display_data"
    }
   ],
   "source": [
    "#Graph depicting the normal distribution of each platform:\n",
    "\n",
    "#Appearance and conditions:\n",
    "plt.figure(figsize=(14,10))\n",
    "plt.hlines(y=df1.platform, xmin=0, xmax=df1.ss_sales, color=df1.color, alpha=0.4, linewidth=10)\n",
    "\n",
    "#Titles:\n",
    "plt.ylabel('Platforms')\n",
    "plt.xlabel('Normal scores')\n",
    "plt.title('Normal Distributaion of Sales for Each Platform')\n",
    "\n",
    "plt.show()"
   ]
  },
  {
   "cell_type": "markdown",
   "metadata": {},
   "source": [
    "**Choose the platforms with the greatest total sales and build a distribution based on data for each year:**\n",
    "\n",
    "According to the graph describing the normal distribution of sales for each platform it can be seen that there are 9 platforms that are the most profitable over the years and the rest are considered smaller and lesser known platforms and therefore also less profitable.Therefore the platforms marked in green are considered to be the most profitable platforms."
   ]
  },
  {
   "cell_type": "markdown",
   "metadata": {},
   "source": [
    "<div class=\"alert alert-success\" role=\"alert\">\n",
    "Reviewer's comment v. 2:\n",
    "    \n",
    "You correctly noted that we have 9 the most profitable platforms.\n",
    "</div>"
   ]
  },
  {
   "cell_type": "markdown",
   "metadata": {},
   "source": [
    "**Find platforms that used to be popular but now have zero sales:**\n",
    "\n",
    "I'll sort the data only for the profitable platforms according the normal distribution above and then I'll create a graph describing the rise and fall of all these platforms."
   ]
  },
  {
   "cell_type": "code",
   "execution_count": 28,
   "metadata": {},
   "outputs": [],
   "source": [
    "#Sort the games table for the three relevant columns to new table (df2):\n",
    "df2=games[['year_of_release', 'platform', 'total_sales']].sort_values(by='year_of_release')\n",
    "df2=df2.reset_index(drop=True)\n",
    "\n",
    "#Sort the df2 table for the most profitable platforms:\n",
    "df2=df2[(df2['platform']=='ps2') | (df2['platform']=='x360') | (df2['platform']=='wii') |\n",
    "        (df2['platform']=='ps3') | (df2['platform']=='ds') | (df2['platform']=='ps4') | (df2['platform']=='ps')]\n",
    "\n",
    "#Sort the df2 table for game release year bigger than 1992\n",
    "df2=df2.query('year_of_release > 1992')"
   ]
  },
  {
   "cell_type": "code",
   "execution_count": 29,
   "metadata": {},
   "outputs": [
    {
     "data": {
      "image/png": "[encoded data removed]",
      "text/plain": [
       "<Figure size 720x576 with 1 Axes>"
      ]
     },
     "metadata": {
      "needs_background": "light"
     },
     "output_type": "display_data"
    }
   ],
   "source": [
    "#Line plot depicting the rise and fall of platforms from df2:\n",
    "\n",
    "#Appearance and conditions:\n",
    "plt.figure(figsize=(10,8))\n",
    "sns.lineplot(data=df2, x='year_of_release', y='total_sales', hue='platform', estimator='sum', ci=None, linewidth=4)\n",
    "\n",
    "#Titles:\n",
    "plt.title('Distribution of Total Sales and Life Span for the 7 Most Profitable Platforms')\n",
    "plt.xlabel('life span')\n",
    "plt.ylabel('total sales')\n",
    "\n",
    "\n",
    "plt.show()"
   ]
  },
  {
   "cell_type": "markdown",
   "metadata": {},
   "source": [
    "<div class=\"alert alert-success\" role=\"alert\">\n",
    "Reviewer's comment v. 1:\n",
    "    \n",
    "Please note that Ridgeplots can be useful here: https://matplotlib.org/matplotblog/posts/create-ridgeplots-in-matplotlib/ \n",
    "</div>"
   ]
  },
  {
   "cell_type": "markdown",
   "metadata": {},
   "source": [
    "<div class=\"alert alert-info\" style=\"border:solid blue 2px; padding: 20px\"> <b>Student comment:</b> Thanks!🙏🏻 I'll save it for later... </div>"
   ]
  },
  {
   "cell_type": "markdown",
   "metadata": {},
   "source": [
    "<div class=\"alert alert-success\" role=\"alert\">\n",
    "Reviewer's comment v. 2:\n",
    "    \n",
    "👍👍👍\n",
    "</div>"
   ]
  },
  {
   "cell_type": "code",
   "execution_count": 30,
   "metadata": {},
   "outputs": [
    {
     "data": {
      "text/plain": [
       "platform\n",
       "ps2     1247.16\n",
       "x360     966.61\n",
       "ps3      935.19\n",
       "wii      903.31\n",
       "ds       804.26\n",
       "ps       727.58\n",
       "ps4      314.14\n",
       "Name: total_sales, dtype: float64"
      ]
     },
     "execution_count": 30,
     "metadata": {},
     "output_type": "execute_result"
    }
   ],
   "source": [
    "#Check the total sales for the most profitable:\n",
    "df2.groupby(['platform'])['total_sales'].sum().sort_values(ascending=False)"
   ]
  },
  {
   "cell_type": "markdown",
   "metadata": {},
   "source": [
    "According to the graph of the distribution of the most profitable platforms it can be seen that almost all the platforms had a period when they were really profitable and then the profits went down. This makes sense, because new products on the way cause buzz and there are more purchases and over the time the enthusiasm goes down or there are new platforms entering the market and therefore the profits of the previous platform go down.\n",
    "\n",
    "If we look specifically at the PlayStation platform: there are 4 generations (ps, ps2, ps3, ps4) every time there is a drop in sales of the previous generation it indicates that there is a new generation and where sales are rising."
   ]
  },
  {
   "cell_type": "markdown",
   "metadata": {},
   "source": [
    "**How long does it generally take for new platforms to appear and old ones to fade?**\n",
    "\n",
    "This can be found by calculating the average of the years it takes for the platform from the moment it enters the market until it fades."
   ]
  },
  {
   "cell_type": "code",
   "execution_count": 31,
   "metadata": {},
   "outputs": [],
   "source": [
    "#Pivot table for df2 to calculate the min and max year for each plaform:\n",
    "df2_pivot=df2.pivot_table(index='platform', values='year_of_release', aggfunc=['min', 'max']).reset_index()"
   ]
  },
  {
   "cell_type": "code",
   "execution_count": 32,
   "metadata": {},
   "outputs": [],
   "source": [
    "#Change the name of columns:\n",
    "df2_pivot.columns=['platform', 'min_year', 'max_year']"
   ]
  },
  {
   "cell_type": "code",
   "execution_count": 33,
   "metadata": {},
   "outputs": [],
   "source": [
    "#Add column for the gap between max year and min year:\n",
    "df2_pivot['gap']=df2_pivot['max_year']-df2_pivot['min_year']"
   ]
  },
  {
   "cell_type": "code",
   "execution_count": 34,
   "metadata": {},
   "outputs": [
    {
     "data": {
      "text/plain": [
       "9.714285714285714"
      ]
     },
     "execution_count": 34,
     "metadata": {},
     "output_type": "execute_result"
    }
   ],
   "source": [
    "#Calculate the mean:\n",
    "df2_pivot['gap'].mean()"
   ]
  },
  {
   "cell_type": "markdown",
   "metadata": {},
   "source": [
    "The lifespan of profitable platform is about 10 years from the moment it entered the market until it faded and became irrelevant."
   ]
  },
  {
   "cell_type": "markdown",
   "metadata": {},
   "source": [
    "<div class=\"alert alert-success\" role=\"alert\">\n",
    "Reviewer's comment v. 2:\n",
    "    \n",
    "Yes, a typical lifespan of the platforms is about 10-11 year. Please note that lifespan is slightly decreased with time.\n",
    "</div>"
   ]
  },
  {
   "cell_type": "markdown",
   "metadata": {},
   "source": [
    "**3. Determine what period you should take data for:**\n",
    "\n",
    "Based on the previous answers I decided to take data from 2014 and the other data are neglected because they are less relevant to research because the goal is to find a model for 2017 and there is no need to take data from a very long time ago"
   ]
  },
  {
   "cell_type": "markdown",
   "metadata": {},
   "source": [
    "**4. Work only with the data that you've decided is relevant:**"
   ]
  },
  {
   "cell_type": "code",
   "execution_count": 35,
   "metadata": {},
   "outputs": [],
   "source": [
    "games=games.query('year_of_release>2013')"
   ]
  },
  {
   "cell_type": "markdown",
   "metadata": {},
   "source": [
    "<div class=\"alert alert-success\" role=\"alert\">\n",
    "Reviewer's comment v. 2:\n",
    "    \n",
    "Great, all right :)\n",
    "</div>"
   ]
  },
  {
   "cell_type": "markdown",
   "metadata": {},
   "source": [
    "**5. Which platforms are leading in sales?**\n",
    "\n",
    "In order to see which platform is leading in sales since 2014, a Treemap must be created that will show all the platforms and their relative size in relation to the other platforms. This is why I first imported the 'squarifiy' library."
   ]
  },
  {
   "cell_type": "code",
   "execution_count": 36,
   "metadata": {},
   "outputs": [],
   "source": [
    "#Pivot table group total sales by platforms for platforms starting from 2002:\n",
    "games_tree=games.pivot_table(index='platform', values='total_sales', \n",
    "                             aggfunc='sum').sort_values(by='total_sales').reset_index()"
   ]
  },
  {
   "cell_type": "code",
   "execution_count": 37,
   "metadata": {},
   "outputs": [],
   "source": [
    "#Turn total sales into one list:\n",
    "sizes=games_tree.total_sales.sort_values().tolist()"
   ]
  },
  {
   "cell_type": "code",
   "execution_count": 38,
   "metadata": {},
   "outputs": [],
   "source": [
    "#Changing the appearance of total sales in order to get an order of magnitude (in dollars):\n",
    "labels=games_tree.apply(lambda x: str(x[0])+\"\\n\"+\"$\"+str(round(x[1])), axis=1)"
   ]
  },
  {
   "cell_type": "code",
   "execution_count": 39,
   "metadata": {},
   "outputs": [
    {
     "data": {
      "image/png": "[encoded data removed]",
      "text/plain": [
       "<Figure size 1080x648 with 1 Axes>"
      ]
     },
     "metadata": {
      "needs_background": "light"
     },
     "output_type": "display_data"
    }
   ],
   "source": [
    "#Treemap appearance and conditions:\n",
    "plt.figure(figsize=(15,9))\n",
    "sq.plot(sizes=sizes, label=labels, alpha=0.4)\n",
    "\n",
    "#Titles\n",
    "plt.title('Tree Map of Total Sales for each Platform 2014-2016')\n",
    "\n",
    "plt.show()"
   ]
  },
  {
   "cell_type": "markdown",
   "metadata": {},
   "source": [
    "According to Treemap it can be seen that the ps4 platform has been the most profitable since 2014"
   ]
  },
  {
   "cell_type": "markdown",
   "metadata": {},
   "source": [
    "<div class=\"alert alert-success\" role=\"alert\">\n",
    "Reviewer's comment v. 2:\n",
    "    \n",
    "Yes, this is the most profitable platform. Here will be good to compare the first profitable platform and the second one and add values of the sales.\n",
    "</div>"
   ]
  },
  {
   "cell_type": "markdown",
   "metadata": {},
   "source": [
    "**Which ones are growing or shrinking? Select several potentially profitable platforms:**\n",
    "\n",
    "In order to test which platforms are growing and which platforms are shrinking, a heatmap table can be created that shows in two dimensions the peak areas and the low zones of sales for each platform."
   ]
  },
  {
   "cell_type": "code",
   "execution_count": 40,
   "metadata": {},
   "outputs": [],
   "source": [
    "#Pivot table of total sales for each platform per year:\n",
    "df3=pd.pivot_table(games, index='year_of_release', columns='platform', values='total_sales', aggfunc='sum', fill_value=0)"
   ]
  },
  {
   "cell_type": "code",
   "execution_count": 41,
   "metadata": {},
   "outputs": [
    {
     "data": {
      "image/png": "[encoded data removed]",
      "text/plain": [
       "<Figure size 1080x648 with 2 Axes>"
      ]
     },
     "metadata": {
      "needs_background": "light"
     },
     "output_type": "display_data"
    }
   ],
   "source": [
    "#Heatmap table:\n",
    "plt.figure(figsize=(15,9))\n",
    "sns.heatmap(df3.T, cmap='coolwarm')\n",
    "plt.title('Heat Map Table of Total Sales for Each Platform Per Year')\n",
    "plt.xlabel('year of releas')\n",
    "\n",
    "plt.show()"
   ]
  },
  {
   "cell_type": "markdown",
   "metadata": {},
   "source": [
    "According to the heatmap table it can be understood that the reddest areas are the areas with peak sales and the bluest areas are low sales areas. The vast majority of platforms have a blue color in 2016 and this indicates a srinking platform, except for the ps4 platform as it is considered relatively new (entered the market only at the end of 2013) and is likely to increase further."
   ]
  },
  {
   "cell_type": "markdown",
   "metadata": {},
   "source": [
    "<div class=\"alert alert-success\" role=\"alert\">\n",
    "Reviewer's comment v. 2:\n",
    "    \n",
    "An excellent analysis :)\n",
    "</div>"
   ]
  },
  {
   "cell_type": "markdown",
   "metadata": {},
   "source": [
    "**6. Build a box plot for the global sales of all games, broken down by platform:**"
   ]
  },
  {
   "cell_type": "code",
   "execution_count": 49,
   "metadata": {},
   "outputs": [
    {
     "data": {
      "text/html": [
       "<div>\n",
       "<style scoped>\n",
       "    .dataframe tbody tr th:only-of-type {\n",
       "        vertical-align: middle;\n",
       "    }\n",
       "\n",
       "    .dataframe tbody tr th {\n",
       "        vertical-align: top;\n",
       "    }\n",
       "\n",
       "    .dataframe thead th {\n",
       "        text-align: right;\n",
       "    }\n",
       "</style>\n",
       "<table border=\"1\" class=\"dataframe\">\n",
       "  <thead>\n",
       "    <tr style=\"text-align: right;\">\n",
       "      <th></th>\n",
       "      <th>platform</th>\n",
       "      <th>year_of_release</th>\n",
       "      <th>total_sales</th>\n",
       "    </tr>\n",
       "  </thead>\n",
       "  <tbody>\n",
       "    <tr>\n",
       "      <td>0</td>\n",
       "      <td>3ds</td>\n",
       "      <td>2014</td>\n",
       "      <td>0.547000</td>\n",
       "    </tr>\n",
       "    <tr>\n",
       "      <td>1</td>\n",
       "      <td>3ds</td>\n",
       "      <td>2015</td>\n",
       "      <td>0.323023</td>\n",
       "    </tr>\n",
       "    <tr>\n",
       "      <td>2</td>\n",
       "      <td>3ds</td>\n",
       "      <td>2016</td>\n",
       "      <td>0.329130</td>\n",
       "    </tr>\n",
       "    <tr>\n",
       "      <td>3</td>\n",
       "      <td>pc</td>\n",
       "      <td>2014</td>\n",
       "      <td>0.282553</td>\n",
       "    </tr>\n",
       "    <tr>\n",
       "      <td>4</td>\n",
       "      <td>pc</td>\n",
       "      <td>2015</td>\n",
       "      <td>0.170400</td>\n",
       "    </tr>\n",
       "    <tr>\n",
       "      <td>5</td>\n",
       "      <td>pc</td>\n",
       "      <td>2016</td>\n",
       "      <td>0.097222</td>\n",
       "    </tr>\n",
       "    <tr>\n",
       "      <td>6</td>\n",
       "      <td>ps3</td>\n",
       "      <td>2014</td>\n",
       "      <td>0.442222</td>\n",
       "    </tr>\n",
       "    <tr>\n",
       "      <td>7</td>\n",
       "      <td>ps3</td>\n",
       "      <td>2015</td>\n",
       "      <td>0.230411</td>\n",
       "    </tr>\n",
       "    <tr>\n",
       "      <td>8</td>\n",
       "      <td>ps3</td>\n",
       "      <td>2016</td>\n",
       "      <td>0.094737</td>\n",
       "    </tr>\n",
       "    <tr>\n",
       "      <td>9</td>\n",
       "      <td>ps4</td>\n",
       "      <td>2014</td>\n",
       "      <td>1.333333</td>\n",
       "    </tr>\n",
       "    <tr>\n",
       "      <td>10</td>\n",
       "      <td>ps4</td>\n",
       "      <td>2015</td>\n",
       "      <td>0.867883</td>\n",
       "    </tr>\n",
       "    <tr>\n",
       "      <td>11</td>\n",
       "      <td>ps4</td>\n",
       "      <td>2016</td>\n",
       "      <td>0.422256</td>\n",
       "    </tr>\n",
       "    <tr>\n",
       "      <td>12</td>\n",
       "      <td>psp</td>\n",
       "      <td>2014</td>\n",
       "      <td>0.024000</td>\n",
       "    </tr>\n",
       "    <tr>\n",
       "      <td>13</td>\n",
       "      <td>psp</td>\n",
       "      <td>2015</td>\n",
       "      <td>0.040000</td>\n",
       "    </tr>\n",
       "    <tr>\n",
       "      <td>14</td>\n",
       "      <td>psv</td>\n",
       "      <td>2014</td>\n",
       "      <td>0.119000</td>\n",
       "    </tr>\n",
       "    <tr>\n",
       "      <td>15</td>\n",
       "      <td>psv</td>\n",
       "      <td>2015</td>\n",
       "      <td>0.056818</td>\n",
       "    </tr>\n",
       "    <tr>\n",
       "      <td>16</td>\n",
       "      <td>psv</td>\n",
       "      <td>2016</td>\n",
       "      <td>0.050000</td>\n",
       "    </tr>\n",
       "    <tr>\n",
       "      <td>17</td>\n",
       "      <td>wii</td>\n",
       "      <td>2014</td>\n",
       "      <td>0.625000</td>\n",
       "    </tr>\n",
       "    <tr>\n",
       "      <td>18</td>\n",
       "      <td>wii</td>\n",
       "      <td>2015</td>\n",
       "      <td>0.285000</td>\n",
       "    </tr>\n",
       "    <tr>\n",
       "      <td>19</td>\n",
       "      <td>wii</td>\n",
       "      <td>2016</td>\n",
       "      <td>0.180000</td>\n",
       "    </tr>\n",
       "    <tr>\n",
       "      <td>20</td>\n",
       "      <td>wiiu</td>\n",
       "      <td>2014</td>\n",
       "      <td>0.710645</td>\n",
       "    </tr>\n",
       "    <tr>\n",
       "      <td>21</td>\n",
       "      <td>wiiu</td>\n",
       "      <td>2015</td>\n",
       "      <td>0.583929</td>\n",
       "    </tr>\n",
       "    <tr>\n",
       "      <td>22</td>\n",
       "      <td>wiiu</td>\n",
       "      <td>2016</td>\n",
       "      <td>0.328571</td>\n",
       "    </tr>\n",
       "    <tr>\n",
       "      <td>23</td>\n",
       "      <td>x360</td>\n",
       "      <td>2014</td>\n",
       "      <td>0.551429</td>\n",
       "    </tr>\n",
       "    <tr>\n",
       "      <td>24</td>\n",
       "      <td>x360</td>\n",
       "      <td>2015</td>\n",
       "      <td>0.341714</td>\n",
       "    </tr>\n",
       "    <tr>\n",
       "      <td>25</td>\n",
       "      <td>x360</td>\n",
       "      <td>2016</td>\n",
       "      <td>0.116923</td>\n",
       "    </tr>\n",
       "    <tr>\n",
       "      <td>26</td>\n",
       "      <td>xone</td>\n",
       "      <td>2014</td>\n",
       "      <td>0.886393</td>\n",
       "    </tr>\n",
       "    <tr>\n",
       "      <td>27</td>\n",
       "      <td>xone</td>\n",
       "      <td>2015</td>\n",
       "      <td>0.751750</td>\n",
       "    </tr>\n",
       "    <tr>\n",
       "      <td>28</td>\n",
       "      <td>xone</td>\n",
       "      <td>2016</td>\n",
       "      <td>0.300575</td>\n",
       "    </tr>\n",
       "  </tbody>\n",
       "</table>\n",
       "</div>"
      ],
      "text/plain": [
       "   platform  year_of_release  total_sales\n",
       "0       3ds             2014     0.547000\n",
       "1       3ds             2015     0.323023\n",
       "2       3ds             2016     0.329130\n",
       "3        pc             2014     0.282553\n",
       "4        pc             2015     0.170400\n",
       "5        pc             2016     0.097222\n",
       "6       ps3             2014     0.442222\n",
       "7       ps3             2015     0.230411\n",
       "8       ps3             2016     0.094737\n",
       "9       ps4             2014     1.333333\n",
       "10      ps4             2015     0.867883\n",
       "11      ps4             2016     0.422256\n",
       "12      psp             2014     0.024000\n",
       "13      psp             2015     0.040000\n",
       "14      psv             2014     0.119000\n",
       "15      psv             2015     0.056818\n",
       "16      psv             2016     0.050000\n",
       "17      wii             2014     0.625000\n",
       "18      wii             2015     0.285000\n",
       "19      wii             2016     0.180000\n",
       "20     wiiu             2014     0.710645\n",
       "21     wiiu             2015     0.583929\n",
       "22     wiiu             2016     0.328571\n",
       "23     x360             2014     0.551429\n",
       "24     x360             2015     0.341714\n",
       "25     x360             2016     0.116923\n",
       "26     xone             2014     0.886393\n",
       "27     xone             2015     0.751750\n",
       "28     xone             2016     0.300575"
      ]
     },
     "execution_count": 49,
     "metadata": {},
     "output_type": "execute_result"
    }
   ],
   "source": [
    "#Defining data for building a boxplot\n",
    "games_group=games.groupby(['platform', 'year_of_release'])['total_sales'].mean().reset_index()\n",
    "games_order=games_group.groupby(['platform'])['total_sales'].sum().sort_values().reset_index()['platform']\n",
    "games_group"
   ]
  },
  {
   "cell_type": "code",
   "execution_count": 50,
   "metadata": {},
   "outputs": [
    {
     "data": {
      "image/png": "[encoded data removed]",
      "text/plain": [
       "<Figure size 1080x648 with 1 Axes>"
      ]
     },
     "metadata": {
      "needs_background": "light"
     },
     "output_type": "display_data"
    }
   ],
   "source": [
    "#Box plot\n",
    "plt.figure(figsize=(15,9))\n",
    "sns.boxplot(x='platform', y='total_sales', data=games_group, order=games_order)\n",
    "plt.title('Box Plot of Average Sales for Each Platform')\n",
    "plt.ylabel('sales M$')\n",
    "plt.show()"
   ]
  },
  {
   "cell_type": "markdown",
   "metadata": {},
   "source": [
    "**Are the differences in sales significant?**\n",
    "\n",
    "Boxplot describes the median sales for each platform as well as the area where it has 25% of total sales and the area where it has 75% of total sales. In addition to outliers. However, it does not describe the total profits and sales volume for each platform but rather the range between large and small sales.\n",
    "\n",
    "For the PS4 it can be seen that it has had the biggest sales over the years. In addition, its median sales is the highest. It can also be said that the gap between the highest selling and the lowest selling is the biggest in the ps4 and that means there is a very dispersed data. Since we know that this is a relatively new platform one can understand the wide spread of the data since there are some who “fall in love” with the platform and therefore there are big sales, on the other hand, there are some who do not yet know it and are still hesitant with its purchase.\n",
    "\n",
    "From the difference in the appearance of the boxplot for each platform it can be understood that there is a significant difference in the sales of a platform. The total sales may be similar from platform to platform, but their distribution is different and indicates a different public attitude to each platform."
   ]
  },
  {
   "cell_type": "markdown",
   "metadata": {},
   "source": [
    "<div class=\"alert alert-success\" role=\"alert\">\n",
    "Reviewer's comment v. 2:\n",
    "    \n",
    "Yes, you correctly noted that total sales may be similar from platform to platform, but their distribution is different. Well done that you have explained these findings.\n",
    "</div>"
   ]
  },
  {
   "cell_type": "markdown",
   "metadata": {},
   "source": [
    "**7. Take a look at how user and professional reviews affect sales for one popular platform:**\n",
    "\n",
    "Based on previous answers, I chose the ps4 platform for viewing as it is the most profitable platform since 2014. In order to present a scatter plot that reflects reality in a good way, all the missing values in the critic_score and user_score columns must be removed. Since the columns contain the same number of rows with missing values, it is sufficient to remove missing values from one column."
   ]
  },
  {
   "cell_type": "code",
   "execution_count": 44,
   "metadata": {},
   "outputs": [],
   "source": [
    "#Drop missing values:\n",
    "games_s=games.dropna(subset=['critic_score'])"
   ]
  },
  {
   "cell_type": "code",
   "execution_count": 45,
   "metadata": {},
   "outputs": [],
   "source": [
    "#Sort table gamse for just x360 game, and in order to remove the outliers, total sales smaller than 2M$\n",
    "games_sx=games_s.query('platform==\"ps4\"')"
   ]
  },
  {
   "cell_type": "markdown",
   "metadata": {},
   "source": [
    "**Build a scatter plot:**"
   ]
  },
  {
   "cell_type": "code",
   "execution_count": 46,
   "metadata": {},
   "outputs": [
    {
     "data": {
      "image/png": "[encoded data removed]",
      "text/plain": [
       "<Figure size 720x720 with 9 Axes>"
      ]
     },
     "metadata": {
      "needs_background": "light"
     },
     "output_type": "display_data"
    }
   ],
   "source": [
    "#Matrix scatter plot:\n",
    "pd.plotting.scatter_matrix(games_sx[['user_score', 'critic_score', 'total_sales']], figsize=(10,10))\n",
    "plt.suptitle('Scatterplot Matrix of Reviews of ps4 Platform', y=0.91)\n",
    "plt.show()"
   ]
  },
  {
   "cell_type": "markdown",
   "metadata": {},
   "source": [
    "**Calculate the correlation between reviews and sales:**"
   ]
  },
  {
   "cell_type": "code",
   "execution_count": 47,
   "metadata": {},
   "outputs": [],
   "source": [
    "#Change the names of columns:\n",
    "games_s1=games_s[['critic_score', 'user_score', 'total_sales']]"
   ]
  },
  {
   "cell_type": "code",
   "execution_count": 48,
   "metadata": {},
   "outputs": [
    {
     "data": {
      "text/html": [
       "<div>\n",
       "<style scoped>\n",
       "    .dataframe tbody tr th:only-of-type {\n",
       "        vertical-align: middle;\n",
       "    }\n",
       "\n",
       "    .dataframe tbody tr th {\n",
       "        vertical-align: top;\n",
       "    }\n",
       "\n",
       "    .dataframe thead th {\n",
       "        text-align: right;\n",
       "    }\n",
       "</style>\n",
       "<table border=\"1\" class=\"dataframe\">\n",
       "  <thead>\n",
       "    <tr style=\"text-align: right;\">\n",
       "      <th></th>\n",
       "      <th>critic_score</th>\n",
       "      <th>user_score</th>\n",
       "      <th>total_sales</th>\n",
       "    </tr>\n",
       "  </thead>\n",
       "  <tbody>\n",
       "    <tr>\n",
       "      <td>critic_score</td>\n",
       "      <td>1.000000</td>\n",
       "      <td>0.504460</td>\n",
       "      <td>0.328105</td>\n",
       "    </tr>\n",
       "    <tr>\n",
       "      <td>user_score</td>\n",
       "      <td>0.504460</td>\n",
       "      <td>1.000000</td>\n",
       "      <td>0.005202</td>\n",
       "    </tr>\n",
       "    <tr>\n",
       "      <td>total_sales</td>\n",
       "      <td>0.328105</td>\n",
       "      <td>0.005202</td>\n",
       "      <td>1.000000</td>\n",
       "    </tr>\n",
       "  </tbody>\n",
       "</table>\n",
       "</div>"
      ],
      "text/plain": [
       "              critic_score  user_score  total_sales\n",
       "critic_score      1.000000    0.504460     0.328105\n",
       "user_score        0.504460    1.000000     0.005202\n",
       "total_sales       0.328105    0.005202     1.000000"
      ]
     },
     "execution_count": 48,
     "metadata": {},
     "output_type": "execute_result"
    }
   ],
   "source": [
    "#Calculate corrolation:\n",
    "games_s1.corr()"
   ]
  },
  {
   "cell_type": "markdown",
   "metadata": {},
   "source": [
    "**Draw conclusions:**\n",
    "\n",
    "According to the matrix scatter plot it can be seen that there is a relatively positive trend between the total sales and the score obtained and the more satisfied customers (high score) the more they will purchase from this platform. Relatively. The correlation shows that there is a partial positive relationship between sales and scoring."
   ]
  },
  {
   "cell_type": "markdown",
   "metadata": {},
   "source": [
    "<div class=\"alert alert-success\" role=\"alert\">\n",
    "Reviewer's comment v. 2:\n",
    "    \n",
    "Yes, we have weak correlation between variables. Please note that correlation function shows only linear dependecy between variables. Maybe this link will be interesting for you: https://machinelearningmastery.com/how-to-use-correlation-to-understand-the-relationship-between-variables/.\n",
    "</div>"
   ]
  },
  {
   "cell_type": "markdown",
   "metadata": {},
   "source": [
    "**8. Compare the sales of the same games on other platforms:**\n",
    "\n",
    "In order to see for a specific game which platform is most profitable for it (for a game played on several platforms), a function must be created that will get a game name, check on how many platforms it is played and return a bar plot describing the profitability of each platform for a specific game."
   ]
  },
  {
   "cell_type": "markdown",
   "metadata": {},
   "source": [
    "<div class=\"alert alert-danger\" role=\"alert\">\n",
    "Reviewer's comment v. 1:\n",
    "    \n",
    "Please fix the error below (code doesn't run). \n",
    "</div>"
   ]
  },
  {
   "cell_type": "markdown",
   "metadata": {},
   "source": [
    "<div class=\"alert alert-info\" style=\"border:solid blue 2px; padding: 20px\"> <b>Student comment:</b> Yes, now it should work </div>"
   ]
  },
  {
   "cell_type": "markdown",
   "metadata": {},
   "source": [
    "<div class=\"alert alert-success\" role=\"alert\">\n",
    "Reviewer's comment v. 2:\n",
    "    \n",
    "Yes, now it works :)\n",
    "</div>"
   ]
  },
  {
   "cell_type": "code",
   "execution_count": 49,
   "metadata": {},
   "outputs": [
    {
     "data": {
      "image/png": "[encoded data removed]",
      "text/plain": [
       "<Figure size 432x288 with 1 Axes>"
      ]
     },
     "metadata": {
      "needs_background": "light"
     },
     "output_type": "display_data"
    },
    {
     "data": {
      "image/png": "[encoded data removed]",
      "text/plain": [
       "<Figure size 432x288 with 1 Axes>"
      ]
     },
     "metadata": {
      "needs_background": "light"
     },
     "output_type": "display_data"
    },
    {
     "data": {
      "image/png": "[encoded data removed]",
      "text/plain": [
       "<Figure size 432x288 with 1 Axes>"
      ]
     },
     "metadata": {
      "needs_background": "light"
     },
     "output_type": "display_data"
    },
    {
     "data": {
      "image/png": "[encoded data removed]",
      "text/plain": [
       "<Figure size 432x288 with 1 Axes>"
      ]
     },
     "metadata": {
      "needs_background": "light"
     },
     "output_type": "display_data"
    },
    {
     "data": {
      "image/png": "[encoded data removed]",
      "text/plain": [
       "<Figure size 432x288 with 1 Axes>"
      ]
     },
     "metadata": {
      "needs_background": "light"
     },
     "output_type": "display_data"
    },
    {
     "data": {
      "image/png": "[encoded data removed]",
      "text/plain": [
       "<Figure size 432x288 with 1 Axes>"
      ]
     },
     "metadata": {
      "needs_background": "light"
     },
     "output_type": "display_data"
    },
    {
     "data": {
      "image/png": "[encoded data removed]",
      "text/plain": [
       "<Figure size 432x288 with 1 Axes>"
      ]
     },
     "metadata": {
      "needs_background": "light"
     },
     "output_type": "display_data"
    },
    {
     "data": {
      "image/png": "[encoded data removed]",
      "text/plain": [
       "<Figure size 432x288 with 1 Axes>"
      ]
     },
     "metadata": {
      "needs_background": "light"
     },
     "output_type": "display_data"
    },
    {
     "data": {
      "image/png": "[encoded data removed]",
      "text/plain": [
       "<Figure size 432x288 with 1 Axes>"
      ]
     },
     "metadata": {
      "needs_background": "light"
     },
     "output_type": "display_data"
    },
    {
     "data": {
      "image/png": "[encoded data removed]",
      "text/plain": [
       "<Figure size 432x288 with 1 Axes>"
      ]
     },
     "metadata": {
      "needs_background": "light"
     },
     "output_type": "display_data"
    }
   ],
   "source": [
    "#Function get name of game and return par plot of all platforms\n",
    "def platform_effect(row):\n",
    "    name=row['name']\n",
    "    data=games[games['name']==name]\n",
    "    \n",
    "    #Only for games with high total sales and only those that are played on more than one platform\n",
    "    if (data['platform'].count() > 1) and (data['total_sales'].sum() > 20):\n",
    "        return data.plot.bar(x='platform', y='total_sales', title=name+' distribution total sales for each platform')\n",
    "\n",
    "games['name']=games.apply(platform_effect, axis=1)"
   ]
  },
  {
   "cell_type": "markdown",
   "metadata": {},
   "source": [
    "According to expectations: The computer games played on the ps4 and xone platform are the most profitable these years as these are the most popular platforms."
   ]
  },
  {
   "cell_type": "markdown",
   "metadata": {},
   "source": [
    "<div class=\"alert alert-success\" role=\"alert\">\n",
    "Reviewer's comment v. 2:\n",
    "    \n",
    "Good job, you have made a correct conclusion.\n",
    "</div>"
   ]
  },
  {
   "cell_type": "markdown",
   "metadata": {},
   "source": [
    "**9. Take a look at the general distribution of games by genre:**"
   ]
  },
  {
   "cell_type": "code",
   "execution_count": 50,
   "metadata": {},
   "outputs": [],
   "source": [
    "#Pivot table for total sales group by genre:\n",
    "games_pivot=games.pivot_table(index='genre', values='total_sales', aggfunc=['count', 'sum', 'mean']).reset_index()"
   ]
  },
  {
   "cell_type": "code",
   "execution_count": 51,
   "metadata": {},
   "outputs": [],
   "source": [
    "#Change the name of columns for convenience:\n",
    "games_pivot.columns=['genre', 'count', 'total_sales', 'mean']"
   ]
  },
  {
   "cell_type": "code",
   "execution_count": 52,
   "metadata": {},
   "outputs": [],
   "source": [
    "#Sort values by total sales:\n",
    "games_pivot.sort_values(by='total_sales', ascending=False, inplace=True)"
   ]
  },
  {
   "cell_type": "code",
   "execution_count": 53,
   "metadata": {},
   "outputs": [
    {
     "data": {
      "text/html": [
       "<div>\n",
       "<style scoped>\n",
       "    .dataframe tbody tr th:only-of-type {\n",
       "        vertical-align: middle;\n",
       "    }\n",
       "\n",
       "    .dataframe tbody tr th {\n",
       "        vertical-align: top;\n",
       "    }\n",
       "\n",
       "    .dataframe thead th {\n",
       "        text-align: right;\n",
       "    }\n",
       "</style>\n",
       "<table border=\"1\" class=\"dataframe\">\n",
       "  <thead>\n",
       "    <tr style=\"text-align: right;\">\n",
       "      <th></th>\n",
       "      <th>genre</th>\n",
       "      <th>count</th>\n",
       "      <th>total_sales</th>\n",
       "      <th>mean</th>\n",
       "    </tr>\n",
       "  </thead>\n",
       "  <tbody>\n",
       "    <tr>\n",
       "      <td>0</td>\n",
       "      <td>action</td>\n",
       "      <td>619</td>\n",
       "      <td>199.36</td>\n",
       "      <td>0.322068</td>\n",
       "    </tr>\n",
       "    <tr>\n",
       "      <td>8</td>\n",
       "      <td>shooter</td>\n",
       "      <td>128</td>\n",
       "      <td>170.94</td>\n",
       "      <td>1.335469</td>\n",
       "    </tr>\n",
       "    <tr>\n",
       "      <td>10</td>\n",
       "      <td>sports</td>\n",
       "      <td>161</td>\n",
       "      <td>109.48</td>\n",
       "      <td>0.680000</td>\n",
       "    </tr>\n",
       "    <tr>\n",
       "      <td>7</td>\n",
       "      <td>role-playing</td>\n",
       "      <td>221</td>\n",
       "      <td>101.44</td>\n",
       "      <td>0.459005</td>\n",
       "    </tr>\n",
       "    <tr>\n",
       "      <td>3</td>\n",
       "      <td>misc</td>\n",
       "      <td>113</td>\n",
       "      <td>37.55</td>\n",
       "      <td>0.332301</td>\n",
       "    </tr>\n",
       "    <tr>\n",
       "      <td>2</td>\n",
       "      <td>fighting</td>\n",
       "      <td>60</td>\n",
       "      <td>28.22</td>\n",
       "      <td>0.470333</td>\n",
       "    </tr>\n",
       "    <tr>\n",
       "      <td>6</td>\n",
       "      <td>racing</td>\n",
       "      <td>69</td>\n",
       "      <td>27.52</td>\n",
       "      <td>0.398841</td>\n",
       "    </tr>\n",
       "    <tr>\n",
       "      <td>4</td>\n",
       "      <td>platform</td>\n",
       "      <td>38</td>\n",
       "      <td>18.09</td>\n",
       "      <td>0.476053</td>\n",
       "    </tr>\n",
       "    <tr>\n",
       "      <td>1</td>\n",
       "      <td>adventure</td>\n",
       "      <td>185</td>\n",
       "      <td>17.55</td>\n",
       "      <td>0.094865</td>\n",
       "    </tr>\n",
       "    <tr>\n",
       "      <td>9</td>\n",
       "      <td>simulation</td>\n",
       "      <td>44</td>\n",
       "      <td>13.13</td>\n",
       "      <td>0.298409</td>\n",
       "    </tr>\n",
       "    <tr>\n",
       "      <td>11</td>\n",
       "      <td>strategy</td>\n",
       "      <td>37</td>\n",
       "      <td>3.96</td>\n",
       "      <td>0.107027</td>\n",
       "    </tr>\n",
       "    <tr>\n",
       "      <td>5</td>\n",
       "      <td>puzzle</td>\n",
       "      <td>14</td>\n",
       "      <td>2.21</td>\n",
       "      <td>0.157857</td>\n",
       "    </tr>\n",
       "  </tbody>\n",
       "</table>\n",
       "</div>"
      ],
      "text/plain": [
       "           genre  count  total_sales      mean\n",
       "0         action    619       199.36  0.322068\n",
       "8        shooter    128       170.94  1.335469\n",
       "10        sports    161       109.48  0.680000\n",
       "7   role-playing    221       101.44  0.459005\n",
       "3           misc    113        37.55  0.332301\n",
       "2       fighting     60        28.22  0.470333\n",
       "6         racing     69        27.52  0.398841\n",
       "4       platform     38        18.09  0.476053\n",
       "1      adventure    185        17.55  0.094865\n",
       "9     simulation     44        13.13  0.298409\n",
       "11      strategy     37         3.96  0.107027\n",
       "5         puzzle     14         2.21  0.157857"
      ]
     },
     "execution_count": 53,
     "metadata": {},
     "output_type": "execute_result"
    }
   ],
   "source": [
    "games_pivot"
   ]
  },
  {
   "cell_type": "code",
   "execution_count": 54,
   "metadata": {},
   "outputs": [
    {
     "data": {
      "image/png": "[encoded data removed]",
      "text/plain": [
       "<Figure size 432x288 with 1 Axes>"
      ]
     },
     "metadata": {
      "needs_background": "light"
     },
     "output_type": "display_data"
    },
    {
     "data": {
      "image/png": "[encoded data removed]",
      "text/plain": [
       "<Figure size 432x288 with 1 Axes>"
      ]
     },
     "metadata": {
      "needs_background": "light"
     },
     "output_type": "display_data"
    }
   ],
   "source": [
    "#Bar plot for distribition of total sales per genre:\n",
    "games_pivot.plot.bar(x='genre', y='total_sales', title='Dsitribution Total Sales for each Genre')\n",
    "games_pivot.plot.bar(x='genre', y='mean', title='Dsitribution Mean Salea for each Genre')\n",
    "plt.show()"
   ]
  },
  {
   "cell_type": "markdown",
   "metadata": {},
   "source": [
    "**What can we say about the most profitable genres?**\n",
    "\n",
    "It can be seen that the action games genre is the most profitable and buy it the most. In contrast, the average sales of the shooter games genre is the highest even though it is ranked second in terms of profitability. It can be understood that although there are fewer people who play in the shooter genre they are willing to pay more for the game and therefore the average of its sales is higher"
   ]
  },
  {
   "cell_type": "markdown",
   "metadata": {},
   "source": [
    "### Counclusion:\n",
    "\n",
    "After analyzing the data from various aspects like platform type, score, and genre type, its can be seen over the years there were several platforms that are the most profitable, user score and reviews partially affects total sales, and there are specific genres that are the most profitable of all genres since they have the most players."
   ]
  },
  {
   "cell_type": "markdown",
   "metadata": {},
   "source": [
    "<div class=\"alert alert-success\" role=\"alert\">\n",
    "Reviewer's comment v. 2:\n",
    "    \n",
    "Yes, you correctly defined the most popular genres. But it will be better to explain these preferences.\n",
    "</div>"
   ]
  },
  {
   "cell_type": "markdown",
   "metadata": {},
   "source": [
    "# 4. Create a user profile for each region\n",
    "\n",
    "For each region (NA, EU, JP), determine:"
   ]
  },
  {
   "cell_type": "markdown",
   "metadata": {},
   "source": [
    "**1. The top five platforms:**\n",
    "\n",
    "Sort each region into a separate table and select the 5 most profitable platforms in each region and then compare the different platforms for each region using a pei chart."
   ]
  },
  {
   "cell_type": "code",
   "execution_count": 55,
   "metadata": {},
   "outputs": [],
   "source": [
    "#Sort North American region using pivot table:\n",
    "na_sales=games.pivot_table(index='platform', values='na_sales', \n",
    "                           aggfunc='sum').sort_values(by='na_sales', ascending=False).reset_index()\n",
    "na_sales=na_sales.query('na_sales > 0')\n",
    "\n",
    "#Choose the 5 most profitable:\n",
    "na=na_sales.nlargest(5,['na_sales'])\n",
    "na.columns=['platform', 'total_sales']\n",
    "na=na.set_index('platform')"
   ]
  },
  {
   "cell_type": "code",
   "execution_count": 56,
   "metadata": {},
   "outputs": [],
   "source": [
    "#Sort Europe region using pivot table:\n",
    "eu_sales=games.pivot_table(index='platform', values='eu_sales', \n",
    "                           aggfunc='sum').sort_values(by='eu_sales', ascending=False).reset_index()\n",
    "eu_sales=eu_sales.query('eu_sales > 0')\n",
    "\n",
    "#Choose the 5 most profitable:\n",
    "eu=eu_sales.nlargest(5,['eu_sales'])\n",
    "eu.columns=['platform', 'total_sales']\n",
    "eu=eu.set_index('platform')"
   ]
  },
  {
   "cell_type": "code",
   "execution_count": 57,
   "metadata": {},
   "outputs": [],
   "source": [
    "#Sort Japan region using pivot table:\n",
    "jp_sales=games.pivot_table(index='platform', values='jp_sales', \n",
    "                           aggfunc='sum').sort_values(by='jp_sales', ascending=False).reset_index()\n",
    "jp_sales=jp_sales.query('jp_sales > 0')\n",
    "\n",
    "#Choose the 5 most profitable:\n",
    "jp=jp_sales.nlargest(5,['jp_sales'])\n",
    "jp.columns=['platform', 'total_sales']\n",
    "jp=jp.set_index('platform')"
   ]
  },
  {
   "cell_type": "code",
   "execution_count": 58,
   "metadata": {},
   "outputs": [
    {
     "data": {
      "image/png": "[encoded data removed]",
      "text/plain": [
       "<Figure size 288x288 with 1 Axes>"
      ]
     },
     "metadata": {},
     "output_type": "display_data"
    },
    {
     "data": {
      "image/png": "[encoded data removed]",
      "text/plain": [
       "<Figure size 288x288 with 1 Axes>"
      ]
     },
     "metadata": {},
     "output_type": "display_data"
    },
    {
     "data": {
      "image/png": "[encoded data removed]",
      "text/plain": [
       "<Figure size 288x288 with 1 Axes>"
      ]
     },
     "metadata": {},
     "output_type": "display_data"
    }
   ],
   "source": [
    "#Pei chart:\n",
    "na.plot.pie(y='total_sales', subplots=True, figsize=(4,4), autopct='%1.1f%%')\n",
    "plt.title(\"Pie Chart of Total Sales for Top 5 Platforms in NA\")\n",
    "eu.plot.pie(y='total_sales', subplots=True, figsize=(4,4), autopct='%1.1f%%')\n",
    "plt.title(\"Pie Chart of Total Sales for Top 5 Platforms in EU\")\n",
    "jp.plot.pie(y='total_sales', subplots=True, figsize=(4,4), autopct='%1.1f%%')\n",
    "plt.title(\"Pie Chart of Total Sales for Top 5 Platforms in JP\")\n",
    "plt.show()"
   ]
  },
  {
   "cell_type": "markdown",
   "metadata": {},
   "source": [
    "**Describe variations in their market shares from region to region:**\n",
    "\n",
    "According to the pei chart you can see the distribution of the most profitable platforms for each region. You can also see that Europe and North America have akmost the same most popular platforms and even the distribution between the platforms is quite similar. In contrast, for Japan some of the popular platforms are different from those popular in Europe and America and the distribution between the platforms is significantly different from Europe and America. This is probably due to the \"mental-cultural\" distance between Europe-America and Japan. If you look at the different platforms in Japan you can see that \"3ds\" is the most popular platform and \"psv\" and \"wiiu\" is also considered popular. These three platforms (And the rest of the platforms) belong to Japanese companies (Nintendo and Sony) and they are characterized by the fact that it is not computer or console games but gameboy games that are very common in Japan than elsewhere. And since the companies that make these games are Japanese companies that know the Japanese market, they make products that are suitable for the Japanese audience that likes to play gameboy more."
   ]
  },
  {
   "cell_type": "markdown",
   "metadata": {},
   "source": [
    "<div class=\"alert alert-success\" role=\"alert\">\n",
    "Reviewer's comment v. 2:\n",
    "    \n",
    "Yes, definitely it's due to different cultures between Japan and Europe and North America.\n",
    "</div>"
   ]
  },
  {
   "cell_type": "markdown",
   "metadata": {},
   "source": [
    "**2. The top five genres:**"
   ]
  },
  {
   "cell_type": "code",
   "execution_count": 59,
   "metadata": {},
   "outputs": [
    {
     "data": {
      "text/html": [
       "<div>\n",
       "<style scoped>\n",
       "    .dataframe tbody tr th:only-of-type {\n",
       "        vertical-align: middle;\n",
       "    }\n",
       "\n",
       "    .dataframe tbody tr th {\n",
       "        vertical-align: top;\n",
       "    }\n",
       "\n",
       "    .dataframe thead th {\n",
       "        text-align: right;\n",
       "    }\n",
       "</style>\n",
       "<table border=\"1\" class=\"dataframe\">\n",
       "  <thead>\n",
       "    <tr style=\"text-align: right;\">\n",
       "      <th></th>\n",
       "      <th>genre</th>\n",
       "      <th>na_sales</th>\n",
       "      <th>eu_sales</th>\n",
       "      <th>jp_sales</th>\n",
       "    </tr>\n",
       "  </thead>\n",
       "  <tbody>\n",
       "    <tr>\n",
       "      <td>8</td>\n",
       "      <td>shooter</td>\n",
       "      <td>79.02</td>\n",
       "      <td>65.52</td>\n",
       "      <td>4.87</td>\n",
       "    </tr>\n",
       "    <tr>\n",
       "      <td>0</td>\n",
       "      <td>action</td>\n",
       "      <td>72.53</td>\n",
       "      <td>74.68</td>\n",
       "      <td>29.58</td>\n",
       "    </tr>\n",
       "    <tr>\n",
       "      <td>10</td>\n",
       "      <td>sports</td>\n",
       "      <td>46.13</td>\n",
       "      <td>45.73</td>\n",
       "      <td>3.26</td>\n",
       "    </tr>\n",
       "    <tr>\n",
       "      <td>7</td>\n",
       "      <td>role-playing</td>\n",
       "      <td>33.47</td>\n",
       "      <td>28.17</td>\n",
       "      <td>31.16</td>\n",
       "    </tr>\n",
       "    <tr>\n",
       "      <td>3</td>\n",
       "      <td>misc</td>\n",
       "      <td>15.05</td>\n",
       "      <td>12.86</td>\n",
       "      <td>5.61</td>\n",
       "    </tr>\n",
       "    <tr>\n",
       "      <td>6</td>\n",
       "      <td>racing</td>\n",
       "      <td>8.74</td>\n",
       "      <td>14.13</td>\n",
       "      <td>1.76</td>\n",
       "    </tr>\n",
       "  </tbody>\n",
       "</table>\n",
       "</div>"
      ],
      "text/plain": [
       "           genre  na_sales  eu_sales  jp_sales\n",
       "8        shooter     79.02     65.52      4.87\n",
       "0         action     72.53     74.68     29.58\n",
       "10        sports     46.13     45.73      3.26\n",
       "7   role-playing     33.47     28.17     31.16\n",
       "3           misc     15.05     12.86      5.61\n",
       "6         racing      8.74     14.13      1.76"
      ]
     },
     "execution_count": 59,
     "metadata": {},
     "output_type": "execute_result"
    }
   ],
   "source": [
    "all_genre=games.pivot_table(index='genre', values=['na_sales', 'eu_sales', 'jp_sales'], aggfunc='sum').reset_index()\n",
    "all_genre=all_genre.query('eu_sales > 10').sort_values(by='na_sales', ascending=False)\n",
    "all_genre=all_genre[['genre', 'na_sales', 'eu_sales', 'jp_sales']]\n",
    "all_genre"
   ]
  },
  {
   "cell_type": "code",
   "execution_count": 60,
   "metadata": {},
   "outputs": [
    {
     "data": {
      "image/png": "[encoded data removed]",
      "text/plain": [
       "<Figure size 576x360 with 1 Axes>"
      ]
     },
     "metadata": {
      "needs_background": "light"
     },
     "output_type": "display_data"
    }
   ],
   "source": [
    "all_genre.plot(kind='bar', x='genre', figsize=(8,5), rot=0)\n",
    "plt.gca().set(title='Distribution of Top Genre for each Region', ylabel='total_sales', xlabel='genre')\n",
    "plt.show()"
   ]
  },
  {
   "cell_type": "markdown",
   "metadata": {},
   "source": [
    "**Explain the difference:**\n",
    "\n",
    "It can be seen that in America fans are mainly a shooter genre, in Europe mainly action and in Japan mainly role-playing. It can also be seen that in general America and Europe like more or less the same genres in the same ratio and this reinforces the claim that there are significant differences between Europe-America and Japan."
   ]
  },
  {
   "cell_type": "markdown",
   "metadata": {},
   "source": [
    "**3. Do ESRB ratings affect sales in individual regions?**\n",
    "\n",
    "To check if there is an effect of rating on sales in different regions, remove the missing values in the rating column, sort the rating values with a very small amount and then create a bar chart for each region."
   ]
  },
  {
   "cell_type": "code",
   "execution_count": 61,
   "metadata": {},
   "outputs": [],
   "source": [
    "#Drop missing values:\n",
    "games_rating=games.dropna(subset=['rating'])"
   ]
  },
  {
   "cell_type": "code",
   "execution_count": 62,
   "metadata": {},
   "outputs": [
    {
     "data": {
      "text/plain": [
       "t       271\n",
       "m       265\n",
       "e       219\n",
       "e10+    185\n",
       "Name: rating, dtype: int64"
      ]
     },
     "execution_count": 62,
     "metadata": {},
     "output_type": "execute_result"
    }
   ],
   "source": [
    "#Value count of rating:\n",
    "games_rating['rating'].value_counts()"
   ]
  },
  {
   "cell_type": "code",
   "execution_count": 63,
   "metadata": {},
   "outputs": [],
   "source": [
    "#Pivot table group by rating for all regions sales:\n",
    "all_rating=games_rating.pivot_table(index='rating', values=['na_sales', 'eu_sales', 'jp_sales'], \n",
    "                                    aggfunc='sum').reset_index()"
   ]
  },
  {
   "cell_type": "code",
   "execution_count": 64,
   "metadata": {},
   "outputs": [],
   "source": [
    "#Remove three type of rating (ec, rp, ao) that they are insignificant:\n",
    "all_rating=all_rating[(all_rating['rating']=='e') | (all_rating['rating']=='e10+') | \n",
    "                      (all_rating['rating']=='m') | (all_rating['rating']=='t')]\n",
    "all_rating.sort_values(by='eu_sales', ascending=False, inplace=True)\n",
    "all_rating=all_rating[['rating', 'na_sales', 'eu_sales', 'jp_sales']]"
   ]
  },
  {
   "cell_type": "code",
   "execution_count": 65,
   "metadata": {},
   "outputs": [
    {
     "data": {
      "image/png": "[encoded data removed]",
      "text/plain": [
       "<Figure size 576x360 with 1 Axes>"
      ]
     },
     "metadata": {
      "needs_background": "light"
     },
     "output_type": "display_data"
    }
   ],
   "source": [
    "#Bar plot:\n",
    "all_rating.plot(kind='bar', x='rating', figsize=(8,5), rot=0)\n",
    "plt.gca().set(title='How Rating Affecting Total Sales per Region', ylabel='total_sales', xlabel='rating')\n",
    "plt.show()"
   ]
  },
  {
   "cell_type": "markdown",
   "metadata": {},
   "source": [
    "It can be seen that in America and Europe the most popular rating is \"m\" intended for ages 17 and up, compared to the most popular rating in Japan which is \"t\" intended for ages 13 and up. And so when launching a campaign think very much about adapting it to what is common in that region."
   ]
  },
  {
   "cell_type": "markdown",
   "metadata": {},
   "source": [
    "### Conclusion:\n",
    "\n",
    "From the analysis above it can be seen that in most cases there are significant differences between the European-American countries and Japan and probably the reason for this is due to mental-cultural differences between the regions."
   ]
  },
  {
   "cell_type": "markdown",
   "metadata": {},
   "source": [
    "<div class=\"alert alert-success\" role=\"alert\">\n",
    "Reviewer's comment v. 2:\n",
    "    \n",
    "You are right, it can be connected with cultural differences between these regions.\n",
    "</div>"
   ]
  },
  {
   "cell_type": "markdown",
   "metadata": {},
   "source": [
    "# 5. Test the following hypotheses:"
   ]
  },
  {
   "cell_type": "markdown",
   "metadata": {},
   "source": [
    "**1. Average user ratings of the Xbox One and PC platforms are the same.**"
   ]
  },
  {
   "cell_type": "markdown",
   "metadata": {},
   "source": [
    "We will write the null hypothesis and the alternative hypothesis:\n",
    "\n",
    "* H0: Average user ratings of the Xbox One and PC platforms are the same.\n",
    "* H1: Average user ratings of the Xbox One and PC platforms are not the same.\n",
    "\n",
    "We will remove the missing values in the user_score column so that they do not skew the results and we will test the hypothesis using ind since this is a two-tailed hypothesis that checks whether the score of the users for the platforms Xbox one and PC are the same."
   ]
  },
  {
   "cell_type": "markdown",
   "metadata": {},
   "source": [
    "<div class=\"alert alert-danger\" role=\"alert\">\n",
    "Reviewer's comment v. 1:\n",
    "    \n",
    "Could you please check hypotheses formulation?\n",
    "    \n",
    "Please not ethat T-test is a two-sided test for the null hypothesis that 2 independent samples have identical average (expected) values.\n",
    "    \n",
    "Please see for details: https://docs.scipy.org/doc/scipy/reference/generated/scipy.stats.ttest_ind.html\n",
    "</div>"
   ]
  },
  {
   "cell_type": "markdown",
   "metadata": {},
   "source": [
    "<div class=\"alert alert-info\" style=\"border:solid blue 2px; padding: 20px\"> <b>Student comment:</b> I'm not sure I understood why that's not true. These are two populations that are independent on each other and I guess their average is the same. Therefore I will use the method of: \"Hypothesis on the equality of two population mean\".  I changed the order of the two hypotheses and maybe now it's okay?!</div>"
   ]
  },
  {
   "cell_type": "markdown",
   "metadata": {},
   "source": [
    "<div class=\"alert alert-success\" role=\"alert\">\n",
    "Reviewer's comment v. 2:\n",
    "    \n",
    "Yes, now hypotheses formulation is correct. The reason is that you have used T-tests which is for the null hypothesis that 2 independent samples have identical average (expected) values. So, it's necessary to formulate the null hypothesis as \"we have no statistically significant differences ...\" or \"average ... are the same.\".\n",
    "</div>"
   ]
  },
  {
   "cell_type": "code",
   "execution_count": 66,
   "metadata": {},
   "outputs": [],
   "source": [
    "#Drop missing values in user_score column:\n",
    "games1=games.dropna(subset=['user_score'])"
   ]
  },
  {
   "cell_type": "code",
   "execution_count": 67,
   "metadata": {},
   "outputs": [
    {
     "name": "stdout",
     "output_type": "stream",
     "text": [
      "P-value is 0.10450507919348415\n",
      "We can not reject the null hypothesis\n"
     ]
    }
   ],
   "source": [
    "#Definition of the two populations\n",
    "xbox_one=games1[games1['platform']=='xone']\n",
    "x=xbox_one['user_score']\n",
    "\n",
    "pc=games1[games1['platform']=='pc']\n",
    "p=pc['user_score']\n",
    "\n",
    "#Definition of alpha (Statistical significance level)\n",
    "alpha=0.05\n",
    "\n",
    "#T test to know p-value\n",
    "results1 = st.ttest_ind(x, p)\n",
    "\n",
    "print('P-value is', results1.pvalue)\n",
    "\n",
    "#The condition for obtaining the null hypothesis\n",
    "if results1.pvalue < alpha:\n",
    "    print('We reject the null hypothesis')\n",
    "else:\n",
    "    print('We can not reject the null hypothesis')"
   ]
  },
  {
   "cell_type": "code",
   "execution_count": 68,
   "metadata": {},
   "outputs": [
    {
     "data": {
      "text/plain": [
       "6.594545454545456"
      ]
     },
     "execution_count": 68,
     "metadata": {},
     "output_type": "execute_result"
    }
   ],
   "source": [
    "x.mean()"
   ]
  },
  {
   "cell_type": "code",
   "execution_count": 69,
   "metadata": {},
   "outputs": [
    {
     "data": {
      "text/plain": [
       "6.298360655737705"
      ]
     },
     "execution_count": 69,
     "metadata": {},
     "output_type": "execute_result"
    }
   ],
   "source": [
    "p.mean()"
   ]
  },
  {
   "cell_type": "markdown",
   "metadata": {},
   "source": [
    "According to the test, the null hypothesis can't be rejected since the average score for the two platforms is quite similar and close in value to each other."
   ]
  },
  {
   "cell_type": "markdown",
   "metadata": {},
   "source": [
    "<div class=\"alert alert-success\" role=\"alert\">\n",
    "Reviewer's comment v. 2:\n",
    "    \n",
    "Yes, we don't have a statistically significant differences between average XBox One user ratings and PC user ratings.\n",
    "</div>"
   ]
  },
  {
   "cell_type": "markdown",
   "metadata": {},
   "source": [
    "**2. Average user ratings for the Action and Sports genres are different.**"
   ]
  },
  {
   "cell_type": "markdown",
   "metadata": {},
   "source": [
    "We will write the null hypothesis and the alternative hypothesis:\n",
    "\n",
    "* H0: Average user ratings for the Action and Sports genres are the same\n",
    "* H1: Average user ratings for the Action and Sports genres are the different\n",
    "\n",
    "We will remove the missing values in the user_score column so that they do not skew the results and we will test the hypothesis using ind since this is a two-tailed hypothesis."
   ]
  },
  {
   "cell_type": "markdown",
   "metadata": {},
   "source": [
    "<div class=\"alert alert-success\" role=\"alert\">\n",
    "Reviewer's comment v. 2:\n",
    "    \n",
    "Good job, hypotheses formulation is correct :)\n",
    "</div>"
   ]
  },
  {
   "cell_type": "code",
   "execution_count": 70,
   "metadata": {},
   "outputs": [
    {
     "name": "stdout",
     "output_type": "stream",
     "text": [
      "P-value is 2.8711147985105864e-19\n",
      "We reject the null hypothesis\n"
     ]
    }
   ],
   "source": [
    "action=games1[games1['genre']=='action']\n",
    "a=action['user_score']\n",
    "\n",
    "sports=games1[games1['genre']=='sports']\n",
    "s=sports['user_score']\n",
    "\n",
    "alpha=0.05\n",
    "\n",
    "results1 = st.ttest_ind(a, s)\n",
    "\n",
    "print('P-value is', results1.pvalue)\n",
    "\n",
    "#The condition for obtaining the null hypothesis\n",
    "if results1.pvalue < alpha:\n",
    "    print('We reject the null hypothesis')\n",
    "else:\n",
    "    print('We can not reject the null hypothesis')"
   ]
  },
  {
   "cell_type": "code",
   "execution_count": 71,
   "metadata": {},
   "outputs": [
    {
     "data": {
      "text/plain": [
       "6.760606060606061"
      ]
     },
     "execution_count": 71,
     "metadata": {},
     "output_type": "execute_result"
    }
   ],
   "source": [
    "a.mean()"
   ]
  },
  {
   "cell_type": "code",
   "execution_count": 72,
   "metadata": {},
   "outputs": [
    {
     "data": {
      "text/plain": [
       "5.2251968503937"
      ]
     },
     "execution_count": 72,
     "metadata": {},
     "output_type": "execute_result"
    }
   ],
   "source": [
    "s.mean()"
   ]
  },
  {
   "cell_type": "markdown",
   "metadata": {},
   "source": [
    "According to the test, the null hypothesis can be rejected since the average score for the two platforms are not similar and are very different to each other."
   ]
  },
  {
   "cell_type": "markdown",
   "metadata": {},
   "source": [
    "<div class=\"alert alert-success\" role=\"alert\">\n",
    "Reviewer's comment v. 2:\n",
    "    \n",
    "Yes, you are right, there is a statistically significant differences in the average user_scores for Action and Sport.\n",
    "</div>"
   ]
  },
  {
   "cell_type": "markdown",
   "metadata": {},
   "source": [
    "<div class=\"alert alert-success\" role=\"alert\">\n",
    "Reviewer's comment v. 2:\n",
    "    \n",
    "Maybe his link will be interesting for you: https://ocw.mit.edu/courses/mathematics/18-443-statistics-for-applications-fall-2006/lecture-notes/lecture13.pdf \n",
    "</div>"
   ]
  },
  {
   "cell_type": "markdown",
   "metadata": {},
   "source": [
    "# 6. General conclusion:"
   ]
  },
  {
   "cell_type": "markdown",
   "metadata": {},
   "source": [
    "In this study, data were obtained from the Ice store that sells games online to customers around the world. The aim of the study was to launch a campaign for 2017 and for this purpose it was necessary to check which games and which platforms should be advertised and for which target audience, based on past data.\n",
    "\n",
    "From the analysis of the data it can be seen that there is great significance to the type of game, the platform on which the game is played, the genre and the target audience in order to tailor the advertisement so that its results will increase sales.\n",
    "\n",
    "Regarding the platform, the company must publish games that are supported on the ps4 platform, since this is the platform that is on a growth trend among all the existing platforms in the market. Beyond that, the rest of the platforms have to be tailored for certain areas since each area has different preferences.\n",
    "\n",
    "As for the target audience, the company should advertise games that are suitable for as many age groups as possible as it expands the possibility of new customers of all ages entering.\n",
    "\n",
    "Regarding the genre, there is great importance to the area where the advertisement is published and to each area to adapt the genres relevant to it."
   ]
  },
  {
   "cell_type": "markdown",
   "metadata": {},
   "source": [
    "<div class=\"alert alert-success\" role=\"alert\">\n",
    "Reviewer's comment v. 2:\n",
    "    \n",
    "It's great that you clearly described main results of the project. 👍👍👍\n",
    "</div>"
   ]
  },
  {
   "cell_type": "code",
   "execution_count": null,
   "metadata": {},
   "outputs": [],
   "source": []
  }
 ],
 "metadata": {
  "ExecuteTimeLog": [
   {
    "duration": 1086,
    "start_time": "2021-07-07T08:50:04.041Z"
   },
   {
    "duration": 35,
    "start_time": "2021-07-07T08:50:36.743Z"
   },
   {
    "duration": 3,
    "start_time": "2021-07-07T08:50:54.074Z"
   },
   {
    "duration": 22,
    "start_time": "2021-07-07T08:50:59.903Z"
   },
   {
    "duration": 10,
    "start_time": "2021-07-07T08:51:05.194Z"
   },
   {
    "duration": 509,
    "start_time": "2021-07-07T08:51:13.369Z"
   },
   {
    "duration": 5,
    "start_time": "2021-07-07T08:51:28.476Z"
   },
   {
    "duration": 17,
    "start_time": "2021-07-07T08:51:30.962Z"
   },
   {
    "duration": 281,
    "start_time": "2021-07-07T08:52:28.904Z"
   },
   {
    "duration": 16,
    "start_time": "2021-07-07T08:55:31.252Z"
   },
   {
    "duration": 23,
    "start_time": "2021-07-07T08:55:50.029Z"
   },
   {
    "duration": 18,
    "start_time": "2021-07-07T08:56:25.395Z"
   },
   {
    "duration": 11,
    "start_time": "2021-07-07T08:57:38.693Z"
   },
   {
    "duration": 8,
    "start_time": "2021-07-07T08:57:43.883Z"
   },
   {
    "duration": 7,
    "start_time": "2021-07-07T08:58:45.871Z"
   },
   {
    "duration": 4,
    "start_time": "2021-07-07T08:58:46.757Z"
   },
   {
    "duration": 4,
    "start_time": "2021-07-07T09:22:49.805Z"
   },
   {
    "duration": 4,
    "start_time": "2021-07-07T09:22:57.733Z"
   },
   {
    "duration": 7,
    "start_time": "2021-07-07T09:23:07.031Z"
   },
   {
    "duration": 18,
    "start_time": "2021-07-07T09:23:23.423Z"
   },
   {
    "duration": 16,
    "start_time": "2021-07-07T09:23:29.692Z"
   },
   {
    "duration": 5,
    "start_time": "2021-07-07T09:23:35.702Z"
   },
   {
    "duration": 4,
    "start_time": "2021-07-07T09:24:07.028Z"
   },
   {
    "duration": 9,
    "start_time": "2021-07-07T09:24:12.707Z"
   },
   {
    "duration": 21,
    "start_time": "2021-07-07T09:53:46.401Z"
   },
   {
    "duration": 5,
    "start_time": "2021-07-07T09:53:54.338Z"
   },
   {
    "duration": 6,
    "start_time": "2021-07-07T09:54:15.154Z"
   },
   {
    "duration": 10,
    "start_time": "2021-07-07T10:08:40.679Z"
   },
   {
    "duration": 4,
    "start_time": "2021-07-07T10:08:46.082Z"
   },
   {
    "duration": 4,
    "start_time": "2021-07-07T10:08:52.241Z"
   },
   {
    "duration": 366,
    "start_time": "2021-07-07T10:08:58.058Z"
   },
   {
    "duration": 73,
    "start_time": "2021-07-07T10:09:22.905Z"
   },
   {
    "duration": 5811,
    "start_time": "2021-07-07T10:09:48.937Z"
   },
   {
    "duration": 4,
    "start_time": "2021-07-07T10:09:59.925Z"
   },
   {
    "duration": 4,
    "start_time": "2021-07-07T10:10:03.017Z"
   },
   {
    "duration": 7,
    "start_time": "2021-07-07T10:10:06.316Z"
   },
   {
    "duration": 384,
    "start_time": "2021-07-07T10:10:24.409Z"
   },
   {
    "duration": 356,
    "start_time": "2021-07-07T10:10:43.433Z"
   },
   {
    "duration": 226,
    "start_time": "2021-07-07T10:12:46.728Z"
   },
   {
    "duration": 372,
    "start_time": "2021-07-07T10:13:10.308Z"
   },
   {
    "duration": 396,
    "start_time": "2021-07-07T10:13:19.310Z"
   },
   {
    "duration": 437,
    "start_time": "2021-07-07T10:13:36.620Z"
   },
   {
    "duration": 226,
    "start_time": "2021-07-07T10:13:45.023Z"
   },
   {
    "duration": 235,
    "start_time": "2021-07-07T10:14:24.856Z"
   },
   {
    "duration": 257,
    "start_time": "2021-07-07T10:14:40.480Z"
   },
   {
    "duration": 8,
    "start_time": "2021-07-07T10:15:03.199Z"
   },
   {
    "duration": 1075,
    "start_time": "2021-07-07T10:17:31.049Z"
   },
   {
    "duration": 8,
    "start_time": "2021-07-07T10:18:17.848Z"
   },
   {
    "duration": 997,
    "start_time": "2021-07-07T10:20:11.537Z"
   },
   {
    "duration": 1274,
    "start_time": "2021-07-07T10:20:28.109Z"
   },
   {
    "duration": 685,
    "start_time": "2021-07-07T10:20:55.883Z"
   },
   {
    "duration": 3,
    "start_time": "2021-07-07T10:21:05.371Z"
   },
   {
    "duration": 1265,
    "start_time": "2021-07-07T10:22:29.119Z"
   },
   {
    "duration": 1211,
    "start_time": "2021-07-07T10:23:19.811Z"
   },
   {
    "duration": 6325,
    "start_time": "2021-07-07T10:25:21.217Z"
   },
   {
    "duration": 2,
    "start_time": "2021-07-07T10:25:41.654Z"
   },
   {
    "duration": -12720,
    "start_time": "2021-07-07T10:26:02.399Z"
   },
   {
    "duration": 4,
    "start_time": "2021-07-07T10:25:49.752Z"
   },
   {
    "duration": 6,
    "start_time": "2021-07-07T10:26:18.539Z"
   },
   {
    "duration": 5,
    "start_time": "2021-07-07T10:26:20.327Z"
   },
   {
    "duration": 232,
    "start_time": "2021-07-07T10:27:34.478Z"
   },
   {
    "duration": 3,
    "start_time": "2021-07-07T10:36:41.718Z"
   },
   {
    "duration": 3,
    "start_time": "2021-07-07T10:36:52.876Z"
   },
   {
    "duration": 216,
    "start_time": "2021-07-07T10:39:47.575Z"
   },
   {
    "duration": 396,
    "start_time": "2021-07-07T10:40:01.277Z"
   },
   {
    "duration": 5,
    "start_time": "2021-07-07T10:46:32.806Z"
   },
   {
    "duration": 91,
    "start_time": "2021-07-07T10:49:48.616Z"
   },
   {
    "duration": 9,
    "start_time": "2021-07-07T10:53:55.769Z"
   },
   {
    "duration": 16,
    "start_time": "2021-07-07T10:54:00.249Z"
   },
   {
    "duration": 13,
    "start_time": "2021-07-07T10:54:56.589Z"
   },
   {
    "duration": 248,
    "start_time": "2021-07-07T11:06:32.688Z"
   },
   {
    "duration": 6,
    "start_time": "2021-07-07T11:07:36.557Z"
   },
   {
    "duration": 20,
    "start_time": "2021-07-07T11:07:47.923Z"
   },
   {
    "duration": 82,
    "start_time": "2021-07-07T11:16:55.146Z"
   },
   {
    "duration": 81,
    "start_time": "2021-07-07T11:17:38.861Z"
   },
   {
    "duration": 5,
    "start_time": "2021-07-07T11:22:07.122Z"
   },
   {
    "duration": 7,
    "start_time": "2021-07-07T11:22:10.747Z"
   },
   {
    "duration": 7,
    "start_time": "2021-07-07T11:22:17.880Z"
   },
   {
    "duration": 3,
    "start_time": "2021-07-07T11:22:24.421Z"
   },
   {
    "duration": 42,
    "start_time": "2021-07-07T11:22:24.425Z"
   },
   {
    "duration": 3,
    "start_time": "2021-07-07T11:22:24.469Z"
   },
   {
    "duration": 25,
    "start_time": "2021-07-07T11:22:24.473Z"
   },
   {
    "duration": 9,
    "start_time": "2021-07-07T11:22:24.499Z"
   },
   {
    "duration": 6,
    "start_time": "2021-07-07T11:22:24.509Z"
   },
   {
    "duration": 19,
    "start_time": "2021-07-07T11:22:24.517Z"
   },
   {
    "duration": 7,
    "start_time": "2021-07-07T11:22:24.538Z"
   },
   {
    "duration": 4,
    "start_time": "2021-07-07T11:22:24.547Z"
   },
   {
    "duration": 11,
    "start_time": "2021-07-07T11:22:24.553Z"
   },
   {
    "duration": 25,
    "start_time": "2021-07-07T11:22:24.566Z"
   },
   {
    "duration": 16,
    "start_time": "2021-07-07T11:22:24.593Z"
   },
   {
    "duration": 15,
    "start_time": "2021-07-07T11:22:24.610Z"
   },
   {
    "duration": 10,
    "start_time": "2021-07-07T11:22:24.626Z"
   },
   {
    "duration": 10,
    "start_time": "2021-07-07T11:22:24.637Z"
   },
   {
    "duration": 14,
    "start_time": "2021-07-07T11:22:24.648Z"
   },
   {
    "duration": 14,
    "start_time": "2021-07-07T11:22:24.663Z"
   },
   {
    "duration": 5,
    "start_time": "2021-07-07T11:22:24.678Z"
   },
   {
    "duration": 13,
    "start_time": "2021-07-07T11:22:24.684Z"
   },
   {
    "duration": 247,
    "start_time": "2021-07-07T11:22:24.698Z"
   },
   {
    "duration": 8,
    "start_time": "2021-07-07T11:22:30.829Z"
   },
   {
    "duration": 14,
    "start_time": "2021-07-07T11:26:23.217Z"
   },
   {
    "duration": 133,
    "start_time": "2021-07-07T11:26:30.637Z"
   },
   {
    "duration": 12,
    "start_time": "2021-07-07T11:30:22.928Z"
   },
   {
    "duration": 10,
    "start_time": "2021-07-07T11:30:29.089Z"
   },
   {
    "duration": 101,
    "start_time": "2021-07-07T11:30:48.270Z"
   },
   {
    "duration": 8,
    "start_time": "2021-07-07T11:32:20.642Z"
   },
   {
    "duration": 13,
    "start_time": "2021-07-07T11:32:21.974Z"
   },
   {
    "duration": 7,
    "start_time": "2021-07-07T11:32:22.536Z"
   },
   {
    "duration": 6,
    "start_time": "2021-07-07T11:32:34.476Z"
   },
   {
    "duration": 18,
    "start_time": "2021-07-07T11:32:38.598Z"
   },
   {
    "duration": 5,
    "start_time": "2021-07-07T11:32:57.286Z"
   },
   {
    "duration": 7,
    "start_time": "2021-07-07T11:32:57.998Z"
   },
   {
    "duration": 5,
    "start_time": "2021-07-07T11:33:57.830Z"
   },
   {
    "duration": 7,
    "start_time": "2021-07-07T11:33:59.518Z"
   },
   {
    "duration": 5,
    "start_time": "2021-07-07T11:34:16.494Z"
   },
   {
    "duration": 6,
    "start_time": "2021-07-07T11:34:17.604Z"
   },
   {
    "duration": 5,
    "start_time": "2021-07-07T11:34:49.079Z"
   },
   {
    "duration": 6,
    "start_time": "2021-07-07T11:34:50.138Z"
   },
   {
    "duration": 5,
    "start_time": "2021-07-07T11:34:54.059Z"
   },
   {
    "duration": 7,
    "start_time": "2021-07-07T11:34:55.648Z"
   },
   {
    "duration": 5,
    "start_time": "2021-07-07T11:35:10.496Z"
   },
   {
    "duration": 7,
    "start_time": "2021-07-07T11:35:11.602Z"
   },
   {
    "duration": 4,
    "start_time": "2021-07-07T11:35:34.963Z"
   },
   {
    "duration": 7,
    "start_time": "2021-07-07T11:35:36.301Z"
   },
   {
    "duration": 2,
    "start_time": "2021-07-07T11:35:45.975Z"
   },
   {
    "duration": 9,
    "start_time": "2021-07-07T11:35:47.519Z"
   },
   {
    "duration": 34,
    "start_time": "2021-07-07T11:35:48.049Z"
   },
   {
    "duration": 250,
    "start_time": "2021-07-07T11:36:02.718Z"
   },
   {
    "duration": 3,
    "start_time": "2021-07-07T11:36:13.582Z"
   },
   {
    "duration": 42,
    "start_time": "2021-07-07T11:36:13.587Z"
   },
   {
    "duration": 3,
    "start_time": "2021-07-07T11:36:13.631Z"
   },
   {
    "duration": 36,
    "start_time": "2021-07-07T11:36:13.635Z"
   },
   {
    "duration": 15,
    "start_time": "2021-07-07T11:36:13.673Z"
   },
   {
    "duration": 9,
    "start_time": "2021-07-07T11:36:13.689Z"
   },
   {
    "duration": 27,
    "start_time": "2021-07-07T11:36:13.700Z"
   },
   {
    "duration": 6,
    "start_time": "2021-07-07T11:36:13.729Z"
   },
   {
    "duration": 10,
    "start_time": "2021-07-07T11:36:13.737Z"
   },
   {
    "duration": 25,
    "start_time": "2021-07-07T11:36:13.748Z"
   },
   {
    "duration": 15,
    "start_time": "2021-07-07T11:36:13.775Z"
   },
   {
    "duration": 23,
    "start_time": "2021-07-07T11:36:13.792Z"
   },
   {
    "duration": 15,
    "start_time": "2021-07-07T11:36:13.816Z"
   },
   {
    "duration": 17,
    "start_time": "2021-07-07T11:36:13.832Z"
   },
   {
    "duration": 12,
    "start_time": "2021-07-07T11:36:13.851Z"
   },
   {
    "duration": 17,
    "start_time": "2021-07-07T11:36:13.864Z"
   },
   {
    "duration": 16,
    "start_time": "2021-07-07T11:36:13.883Z"
   },
   {
    "duration": 5,
    "start_time": "2021-07-07T11:36:13.901Z"
   },
   {
    "duration": 10,
    "start_time": "2021-07-07T11:36:13.907Z"
   },
   {
    "duration": 240,
    "start_time": "2021-07-07T11:36:13.918Z"
   },
   {
    "duration": 16,
    "start_time": "2021-07-07T11:36:18.704Z"
   },
   {
    "duration": 31,
    "start_time": "2021-07-07T11:36:20.193Z"
   },
   {
    "duration": 387,
    "start_time": "2021-07-07T11:36:21.154Z"
   },
   {
    "duration": 7,
    "start_time": "2021-07-07T11:36:28.655Z"
   },
   {
    "duration": 17,
    "start_time": "2021-07-07T11:36:29.386Z"
   },
   {
    "duration": 238,
    "start_time": "2021-07-07T11:36:42.881Z"
   },
   {
    "duration": 286,
    "start_time": "2021-07-07T11:39:51.205Z"
   },
   {
    "duration": 223,
    "start_time": "2021-07-07T11:40:03.717Z"
   },
   {
    "duration": 306,
    "start_time": "2021-07-07T11:40:11.335Z"
   },
   {
    "duration": 5,
    "start_time": "2021-07-07T11:40:17.480Z"
   },
   {
    "duration": 7,
    "start_time": "2021-07-07T11:40:20.139Z"
   },
   {
    "duration": 4,
    "start_time": "2021-07-07T11:40:25.329Z"
   },
   {
    "duration": 7,
    "start_time": "2021-07-07T11:40:26.844Z"
   },
   {
    "duration": 5,
    "start_time": "2021-07-07T11:40:42.246Z"
   },
   {
    "duration": 7,
    "start_time": "2021-07-07T11:40:43.489Z"
   },
   {
    "duration": 222,
    "start_time": "2021-07-07T11:40:58.765Z"
   },
   {
    "duration": 222,
    "start_time": "2021-07-07T11:41:08.343Z"
   },
   {
    "duration": 6,
    "start_time": "2021-07-07T11:45:24.757Z"
   },
   {
    "duration": 3,
    "start_time": "2021-07-07T11:45:33.486Z"
   },
   {
    "duration": 46,
    "start_time": "2021-07-07T11:45:33.490Z"
   },
   {
    "duration": 2,
    "start_time": "2021-07-07T11:45:33.539Z"
   },
   {
    "duration": 27,
    "start_time": "2021-07-07T11:45:33.543Z"
   },
   {
    "duration": 14,
    "start_time": "2021-07-07T11:45:33.571Z"
   },
   {
    "duration": 6,
    "start_time": "2021-07-07T11:45:33.586Z"
   },
   {
    "duration": 21,
    "start_time": "2021-07-07T11:45:33.594Z"
   },
   {
    "duration": 6,
    "start_time": "2021-07-07T11:45:33.616Z"
   },
   {
    "duration": 4,
    "start_time": "2021-07-07T11:45:33.624Z"
   },
   {
    "duration": 6,
    "start_time": "2021-07-07T11:45:33.630Z"
   },
   {
    "duration": 13,
    "start_time": "2021-07-07T11:45:33.638Z"
   },
   {
    "duration": 18,
    "start_time": "2021-07-07T11:45:33.652Z"
   },
   {
    "duration": 22,
    "start_time": "2021-07-07T11:45:33.671Z"
   },
   {
    "duration": 3,
    "start_time": "2021-07-07T11:45:33.695Z"
   },
   {
    "duration": 10,
    "start_time": "2021-07-07T11:45:33.699Z"
   },
   {
    "duration": 14,
    "start_time": "2021-07-07T11:45:33.710Z"
   },
   {
    "duration": 12,
    "start_time": "2021-07-07T11:45:33.726Z"
   },
   {
    "duration": 5,
    "start_time": "2021-07-07T11:45:33.739Z"
   },
   {
    "duration": 9,
    "start_time": "2021-07-07T11:45:33.745Z"
   },
   {
    "duration": 232,
    "start_time": "2021-07-07T11:45:33.756Z"
   },
   {
    "duration": 8,
    "start_time": "2021-07-07T11:45:37.102Z"
   },
   {
    "duration": 248,
    "start_time": "2021-07-07T11:47:09.988Z"
   },
   {
    "duration": 13,
    "start_time": "2021-07-07T11:48:14.991Z"
   },
   {
    "duration": 5,
    "start_time": "2021-07-07T11:48:17.302Z"
   },
   {
    "duration": 6,
    "start_time": "2021-07-07T11:48:19.872Z"
   },
   {
    "duration": 7,
    "start_time": "2021-07-07T11:48:21.931Z"
   },
   {
    "duration": 5,
    "start_time": "2021-07-07T11:48:34.368Z"
   },
   {
    "duration": 7,
    "start_time": "2021-07-07T11:48:35.733Z"
   },
   {
    "duration": 4,
    "start_time": "2021-07-07T11:48:54.756Z"
   },
   {
    "duration": 5,
    "start_time": "2021-07-07T11:49:01.425Z"
   },
   {
    "duration": 7,
    "start_time": "2021-07-07T11:49:02.461Z"
   },
   {
    "duration": 4,
    "start_time": "2021-07-07T11:49:07.209Z"
   },
   {
    "duration": 7,
    "start_time": "2021-07-07T11:49:08.974Z"
   },
   {
    "duration": 7,
    "start_time": "2021-07-07T11:49:37.610Z"
   },
   {
    "duration": 3,
    "start_time": "2021-07-07T11:49:42.564Z"
   },
   {
    "duration": 38,
    "start_time": "2021-07-07T11:49:42.569Z"
   },
   {
    "duration": 3,
    "start_time": "2021-07-07T11:49:42.609Z"
   },
   {
    "duration": 29,
    "start_time": "2021-07-07T11:49:42.613Z"
   },
   {
    "duration": 8,
    "start_time": "2021-07-07T11:49:42.643Z"
   },
   {
    "duration": 8,
    "start_time": "2021-07-07T11:49:42.653Z"
   },
   {
    "duration": 21,
    "start_time": "2021-07-07T11:49:42.662Z"
   },
   {
    "duration": 10,
    "start_time": "2021-07-07T11:49:42.684Z"
   },
   {
    "duration": 4,
    "start_time": "2021-07-07T11:49:42.696Z"
   },
   {
    "duration": 7,
    "start_time": "2021-07-07T11:49:42.701Z"
   },
   {
    "duration": 11,
    "start_time": "2021-07-07T11:49:42.709Z"
   },
   {
    "duration": 24,
    "start_time": "2021-07-07T11:49:42.721Z"
   },
   {
    "duration": 14,
    "start_time": "2021-07-07T11:49:42.746Z"
   },
   {
    "duration": 6,
    "start_time": "2021-07-07T11:49:42.761Z"
   },
   {
    "duration": 8,
    "start_time": "2021-07-07T11:49:42.769Z"
   },
   {
    "duration": 16,
    "start_time": "2021-07-07T11:49:42.779Z"
   },
   {
    "duration": 11,
    "start_time": "2021-07-07T11:49:42.797Z"
   },
   {
    "duration": 5,
    "start_time": "2021-07-07T11:49:42.809Z"
   },
   {
    "duration": 9,
    "start_time": "2021-07-07T11:49:42.815Z"
   },
   {
    "duration": 238,
    "start_time": "2021-07-07T11:49:42.826Z"
   },
   {
    "duration": 8,
    "start_time": "2021-07-07T11:49:43.065Z"
   },
   {
    "duration": 9,
    "start_time": "2021-07-07T11:49:47.043Z"
   },
   {
    "duration": 8,
    "start_time": "2021-07-07T11:49:48.689Z"
   },
   {
    "duration": 2,
    "start_time": "2021-07-07T11:51:18.553Z"
   },
   {
    "duration": 38,
    "start_time": "2021-07-07T11:51:18.557Z"
   },
   {
    "duration": 3,
    "start_time": "2021-07-07T11:51:18.597Z"
   },
   {
    "duration": 29,
    "start_time": "2021-07-07T11:51:18.601Z"
   },
   {
    "duration": 9,
    "start_time": "2021-07-07T11:51:18.631Z"
   },
   {
    "duration": 4,
    "start_time": "2021-07-07T11:51:18.641Z"
   },
   {
    "duration": 21,
    "start_time": "2021-07-07T11:51:18.646Z"
   },
   {
    "duration": 6,
    "start_time": "2021-07-07T11:51:18.670Z"
   },
   {
    "duration": 23,
    "start_time": "2021-07-07T11:51:18.677Z"
   },
   {
    "duration": 8,
    "start_time": "2021-07-07T11:51:18.702Z"
   },
   {
    "duration": 11,
    "start_time": "2021-07-07T11:51:18.711Z"
   },
   {
    "duration": 19,
    "start_time": "2021-07-07T11:51:18.724Z"
   },
   {
    "duration": 14,
    "start_time": "2021-07-07T11:51:18.744Z"
   },
   {
    "duration": 8,
    "start_time": "2021-07-07T11:51:18.760Z"
   },
   {
    "duration": 10,
    "start_time": "2021-07-07T11:51:18.769Z"
   },
   {
    "duration": 14,
    "start_time": "2021-07-07T11:51:18.781Z"
   },
   {
    "duration": 12,
    "start_time": "2021-07-07T11:51:18.797Z"
   },
   {
    "duration": 6,
    "start_time": "2021-07-07T11:51:18.810Z"
   },
   {
    "duration": 11,
    "start_time": "2021-07-07T11:51:18.817Z"
   },
   {
    "duration": 247,
    "start_time": "2021-07-07T11:51:18.829Z"
   },
   {
    "duration": 8,
    "start_time": "2021-07-07T11:51:21.760Z"
   },
   {
    "duration": 10,
    "start_time": "2021-07-07T11:51:22.558Z"
   },
   {
    "duration": 17,
    "start_time": "2021-07-07T11:51:31.292Z"
   },
   {
    "duration": 3,
    "start_time": "2021-07-07T11:51:49.388Z"
   },
   {
    "duration": 38,
    "start_time": "2021-07-07T11:51:49.393Z"
   },
   {
    "duration": 2,
    "start_time": "2021-07-07T11:51:49.433Z"
   },
   {
    "duration": 30,
    "start_time": "2021-07-07T11:51:49.436Z"
   },
   {
    "duration": 8,
    "start_time": "2021-07-07T11:51:49.468Z"
   },
   {
    "duration": 5,
    "start_time": "2021-07-07T11:51:49.478Z"
   },
   {
    "duration": 22,
    "start_time": "2021-07-07T11:51:49.484Z"
   },
   {
    "duration": 6,
    "start_time": "2021-07-07T11:51:49.507Z"
   },
   {
    "duration": 4,
    "start_time": "2021-07-07T11:51:49.515Z"
   },
   {
    "duration": 7,
    "start_time": "2021-07-07T11:51:49.520Z"
   },
   {
    "duration": 12,
    "start_time": "2021-07-07T11:51:49.528Z"
   },
   {
    "duration": 19,
    "start_time": "2021-07-07T11:51:49.541Z"
   },
   {
    "duration": 14,
    "start_time": "2021-07-07T11:51:49.561Z"
   },
   {
    "duration": 17,
    "start_time": "2021-07-07T11:51:49.576Z"
   },
   {
    "duration": 11,
    "start_time": "2021-07-07T11:51:49.594Z"
   },
   {
    "duration": 14,
    "start_time": "2021-07-07T11:51:49.606Z"
   },
   {
    "duration": 11,
    "start_time": "2021-07-07T11:51:49.622Z"
   },
   {
    "duration": 4,
    "start_time": "2021-07-07T11:51:49.634Z"
   },
   {
    "duration": 9,
    "start_time": "2021-07-07T11:51:49.640Z"
   },
   {
    "duration": 345,
    "start_time": "2021-07-07T11:51:49.650Z"
   },
   {
    "duration": 14,
    "start_time": "2021-07-07T11:51:55.756Z"
   },
   {
    "duration": 18,
    "start_time": "2021-07-07T11:51:57.350Z"
   },
   {
    "duration": 3,
    "start_time": "2021-07-07T11:52:46.641Z"
   },
   {
    "duration": 41,
    "start_time": "2021-07-07T11:52:46.646Z"
   },
   {
    "duration": 3,
    "start_time": "2021-07-07T11:52:46.689Z"
   },
   {
    "duration": 29,
    "start_time": "2021-07-07T11:52:46.693Z"
   },
   {
    "duration": 10,
    "start_time": "2021-07-07T11:52:46.724Z"
   },
   {
    "duration": 5,
    "start_time": "2021-07-07T11:52:46.735Z"
   },
   {
    "duration": 22,
    "start_time": "2021-07-07T11:52:46.741Z"
   },
   {
    "duration": 6,
    "start_time": "2021-07-07T11:52:46.765Z"
   },
   {
    "duration": 7,
    "start_time": "2021-07-07T11:52:46.773Z"
   },
   {
    "duration": 4,
    "start_time": "2021-07-07T11:52:46.791Z"
   },
   {
    "duration": 12,
    "start_time": "2021-07-07T11:52:46.796Z"
   },
   {
    "duration": 20,
    "start_time": "2021-07-07T11:52:46.810Z"
   },
   {
    "duration": 14,
    "start_time": "2021-07-07T11:52:46.832Z"
   },
   {
    "duration": 5,
    "start_time": "2021-07-07T11:52:46.848Z"
   },
   {
    "duration": 15,
    "start_time": "2021-07-07T11:52:46.855Z"
   },
   {
    "duration": 14,
    "start_time": "2021-07-07T11:52:46.872Z"
   },
   {
    "duration": 14,
    "start_time": "2021-07-07T11:52:46.887Z"
   },
   {
    "duration": 5,
    "start_time": "2021-07-07T11:52:46.903Z"
   },
   {
    "duration": 11,
    "start_time": "2021-07-07T11:52:46.909Z"
   },
   {
    "duration": 241,
    "start_time": "2021-07-07T11:52:46.921Z"
   },
   {
    "duration": 8,
    "start_time": "2021-07-07T11:52:47.163Z"
   },
   {
    "duration": 496,
    "start_time": "2021-07-07T11:55:22.647Z"
   },
   {
    "duration": 13,
    "start_time": "2021-07-07T11:55:36.422Z"
   },
   {
    "duration": 230,
    "start_time": "2021-07-07T11:55:37.991Z"
   },
   {
    "duration": 12,
    "start_time": "2021-07-07T11:55:47.823Z"
   },
   {
    "duration": 10,
    "start_time": "2021-07-07T11:55:53.622Z"
   },
   {
    "duration": 756,
    "start_time": "2021-07-07T11:58:54.192Z"
   },
   {
    "duration": 1093,
    "start_time": "2021-07-07T12:00:01.007Z"
   },
   {
    "duration": 106,
    "start_time": "2021-07-07T12:02:15.801Z"
   },
   {
    "duration": 78,
    "start_time": "2021-07-07T12:02:33.076Z"
   },
   {
    "duration": 231,
    "start_time": "2021-07-07T12:04:28.763Z"
   },
   {
    "duration": 13,
    "start_time": "2021-07-07T12:04:52.324Z"
   },
   {
    "duration": 520,
    "start_time": "2021-07-07T12:04:54.723Z"
   },
   {
    "duration": 581,
    "start_time": "2021-07-07T12:05:12.761Z"
   },
   {
    "duration": 511,
    "start_time": "2021-07-07T12:05:18.102Z"
   },
   {
    "duration": 519,
    "start_time": "2021-07-07T12:08:16.356Z"
   },
   {
    "duration": 737,
    "start_time": "2021-07-07T12:08:25.234Z"
   },
   {
    "duration": 685,
    "start_time": "2021-07-07T12:09:42.497Z"
   },
   {
    "duration": 845,
    "start_time": "2021-07-07T12:09:53.813Z"
   },
   {
    "duration": 14,
    "start_time": "2021-07-07T12:10:02.272Z"
   },
   {
    "duration": 6,
    "start_time": "2021-07-07T12:10:25.466Z"
   },
   {
    "duration": 12,
    "start_time": "2021-07-07T12:10:26.246Z"
   },
   {
    "duration": 783,
    "start_time": "2021-07-07T12:10:28.783Z"
   },
   {
    "duration": 7,
    "start_time": "2021-07-07T12:10:41.335Z"
   },
   {
    "duration": 11,
    "start_time": "2021-07-07T12:10:42.864Z"
   },
   {
    "duration": 887,
    "start_time": "2021-07-07T12:10:43.713Z"
   },
   {
    "duration": 3,
    "start_time": "2021-07-07T12:11:07.034Z"
   },
   {
    "duration": 42,
    "start_time": "2021-07-07T12:11:07.039Z"
   },
   {
    "duration": 3,
    "start_time": "2021-07-07T12:11:07.082Z"
   },
   {
    "duration": 27,
    "start_time": "2021-07-07T12:11:07.087Z"
   },
   {
    "duration": 18,
    "start_time": "2021-07-07T12:11:07.116Z"
   },
   {
    "duration": 12,
    "start_time": "2021-07-07T12:11:07.135Z"
   },
   {
    "duration": 30,
    "start_time": "2021-07-07T12:11:07.148Z"
   },
   {
    "duration": 7,
    "start_time": "2021-07-07T12:11:07.180Z"
   },
   {
    "duration": 10,
    "start_time": "2021-07-07T12:11:07.189Z"
   },
   {
    "duration": 15,
    "start_time": "2021-07-07T12:11:07.201Z"
   },
   {
    "duration": 14,
    "start_time": "2021-07-07T12:11:07.217Z"
   },
   {
    "duration": 21,
    "start_time": "2021-07-07T12:11:07.232Z"
   },
   {
    "duration": 17,
    "start_time": "2021-07-07T12:11:07.254Z"
   },
   {
    "duration": 9,
    "start_time": "2021-07-07T12:11:07.273Z"
   },
   {
    "duration": 21,
    "start_time": "2021-07-07T12:11:07.283Z"
   },
   {
    "duration": 16,
    "start_time": "2021-07-07T12:11:07.305Z"
   },
   {
    "duration": 12,
    "start_time": "2021-07-07T12:11:07.322Z"
   },
   {
    "duration": 5,
    "start_time": "2021-07-07T12:11:07.336Z"
   },
   {
    "duration": 8,
    "start_time": "2021-07-07T12:11:07.343Z"
   },
   {
    "duration": 553,
    "start_time": "2021-07-07T12:11:07.353Z"
   },
   {
    "duration": 9,
    "start_time": "2021-07-07T12:11:07.908Z"
   },
   {
    "duration": 6,
    "start_time": "2021-07-07T12:11:13.354Z"
   },
   {
    "duration": 13,
    "start_time": "2021-07-07T12:11:14.206Z"
   },
   {
    "duration": 778,
    "start_time": "2021-07-07T12:11:20.811Z"
   },
   {
    "duration": 6,
    "start_time": "2021-07-07T12:11:39.638Z"
   },
   {
    "duration": 12,
    "start_time": "2021-07-07T12:11:41.053Z"
   },
   {
    "duration": 640,
    "start_time": "2021-07-07T12:11:44.010Z"
   },
   {
    "duration": 4,
    "start_time": "2021-07-07T12:11:53.329Z"
   },
   {
    "duration": 46,
    "start_time": "2021-07-07T12:11:53.335Z"
   },
   {
    "duration": 4,
    "start_time": "2021-07-07T12:11:53.384Z"
   },
   {
    "duration": 27,
    "start_time": "2021-07-07T12:11:53.390Z"
   },
   {
    "duration": 10,
    "start_time": "2021-07-07T12:11:53.418Z"
   },
   {
    "duration": 4,
    "start_time": "2021-07-07T12:11:53.430Z"
   },
   {
    "duration": 22,
    "start_time": "2021-07-07T12:11:53.436Z"
   },
   {
    "duration": 5,
    "start_time": "2021-07-07T12:11:53.460Z"
   },
   {
    "duration": 4,
    "start_time": "2021-07-07T12:11:53.468Z"
   },
   {
    "duration": 18,
    "start_time": "2021-07-07T12:11:53.474Z"
   },
   {
    "duration": 6,
    "start_time": "2021-07-07T12:11:53.493Z"
   },
   {
    "duration": 22,
    "start_time": "2021-07-07T12:11:53.501Z"
   },
   {
    "duration": 15,
    "start_time": "2021-07-07T12:11:53.525Z"
   },
   {
    "duration": 7,
    "start_time": "2021-07-07T12:11:53.541Z"
   },
   {
    "duration": 11,
    "start_time": "2021-07-07T12:11:53.550Z"
   },
   {
    "duration": 18,
    "start_time": "2021-07-07T12:11:53.562Z"
   },
   {
    "duration": 11,
    "start_time": "2021-07-07T12:11:53.591Z"
   },
   {
    "duration": 5,
    "start_time": "2021-07-07T12:11:53.604Z"
   },
   {
    "duration": 9,
    "start_time": "2021-07-07T12:11:53.611Z"
   },
   {
    "duration": 490,
    "start_time": "2021-07-07T12:11:53.621Z"
   },
   {
    "duration": 10,
    "start_time": "2021-07-07T12:11:54.113Z"
   },
   {
    "duration": 14,
    "start_time": "2021-07-07T12:11:58.107Z"
   },
   {
    "duration": 6,
    "start_time": "2021-07-07T12:11:59.033Z"
   },
   {
    "duration": 12,
    "start_time": "2021-07-07T12:12:00.337Z"
   },
   {
    "duration": 778,
    "start_time": "2021-07-07T12:12:01.821Z"
   },
   {
    "duration": 664,
    "start_time": "2021-07-07T12:12:09.812Z"
   },
   {
    "duration": 3,
    "start_time": "2021-07-07T12:12:20.494Z"
   },
   {
    "duration": 45,
    "start_time": "2021-07-07T12:12:20.499Z"
   },
   {
    "duration": 3,
    "start_time": "2021-07-07T12:12:20.546Z"
   },
   {
    "duration": 30,
    "start_time": "2021-07-07T12:12:20.550Z"
   },
   {
    "duration": 9,
    "start_time": "2021-07-07T12:12:20.582Z"
   },
   {
    "duration": 7,
    "start_time": "2021-07-07T12:12:20.593Z"
   },
   {
    "duration": 22,
    "start_time": "2021-07-07T12:12:20.602Z"
   },
   {
    "duration": 8,
    "start_time": "2021-07-07T12:12:20.625Z"
   },
   {
    "duration": 5,
    "start_time": "2021-07-07T12:12:20.635Z"
   },
   {
    "duration": 25,
    "start_time": "2021-07-07T12:12:20.642Z"
   },
   {
    "duration": 19,
    "start_time": "2021-07-07T12:12:20.668Z"
   },
   {
    "duration": 20,
    "start_time": "2021-07-07T12:12:20.688Z"
   },
   {
    "duration": 15,
    "start_time": "2021-07-07T12:12:20.710Z"
   },
   {
    "duration": 5,
    "start_time": "2021-07-07T12:12:20.726Z"
   },
   {
    "duration": 7,
    "start_time": "2021-07-07T12:12:20.732Z"
   },
   {
    "duration": 16,
    "start_time": "2021-07-07T12:12:20.740Z"
   },
   {
    "duration": 11,
    "start_time": "2021-07-07T12:12:20.758Z"
   },
   {
    "duration": 4,
    "start_time": "2021-07-07T12:12:20.770Z"
   },
   {
    "duration": 15,
    "start_time": "2021-07-07T12:12:20.776Z"
   },
   {
    "duration": 399,
    "start_time": "2021-07-07T12:12:20.792Z"
   },
   {
    "duration": 7,
    "start_time": "2021-07-07T12:12:21.192Z"
   },
   {
    "duration": 13,
    "start_time": "2021-07-07T12:12:21.201Z"
   },
   {
    "duration": 11,
    "start_time": "2021-07-07T12:12:21.215Z"
   },
   {
    "duration": 15,
    "start_time": "2021-07-07T12:12:21.227Z"
   },
   {
    "duration": 3,
    "start_time": "2021-07-07T12:12:41.119Z"
   },
   {
    "duration": 45,
    "start_time": "2021-07-07T12:12:41.124Z"
   },
   {
    "duration": 3,
    "start_time": "2021-07-07T12:12:41.170Z"
   },
   {
    "duration": 30,
    "start_time": "2021-07-07T12:12:41.175Z"
   },
   {
    "duration": 10,
    "start_time": "2021-07-07T12:12:41.206Z"
   },
   {
    "duration": 6,
    "start_time": "2021-07-07T12:12:41.217Z"
   },
   {
    "duration": 22,
    "start_time": "2021-07-07T12:12:41.224Z"
   },
   {
    "duration": 6,
    "start_time": "2021-07-07T12:12:41.248Z"
   },
   {
    "duration": 11,
    "start_time": "2021-07-07T12:12:41.256Z"
   },
   {
    "duration": 8,
    "start_time": "2021-07-07T12:12:41.269Z"
   },
   {
    "duration": 18,
    "start_time": "2021-07-07T12:12:41.278Z"
   },
   {
    "duration": 32,
    "start_time": "2021-07-07T12:12:41.298Z"
   },
   {
    "duration": 16,
    "start_time": "2021-07-07T12:12:41.332Z"
   },
   {
    "duration": 5,
    "start_time": "2021-07-07T12:12:41.349Z"
   },
   {
    "duration": 9,
    "start_time": "2021-07-07T12:12:41.356Z"
   },
   {
    "duration": 25,
    "start_time": "2021-07-07T12:12:41.366Z"
   },
   {
    "duration": 12,
    "start_time": "2021-07-07T12:12:41.393Z"
   },
   {
    "duration": 6,
    "start_time": "2021-07-07T12:12:41.406Z"
   },
   {
    "duration": 13,
    "start_time": "2021-07-07T12:12:41.414Z"
   },
   {
    "duration": 406,
    "start_time": "2021-07-07T12:12:41.428Z"
   },
   {
    "duration": 7,
    "start_time": "2021-07-07T12:12:41.836Z"
   },
   {
    "duration": 14,
    "start_time": "2021-07-07T12:12:41.844Z"
   },
   {
    "duration": 4,
    "start_time": "2021-07-07T12:12:41.859Z"
   },
   {
    "duration": 29,
    "start_time": "2021-07-07T12:12:41.865Z"
   },
   {
    "duration": 642,
    "start_time": "2021-07-07T12:12:48.383Z"
   },
   {
    "duration": 1017,
    "start_time": "2021-07-07T12:14:31.157Z"
   },
   {
    "duration": 2,
    "start_time": "2021-07-07T12:22:44.210Z"
   },
   {
    "duration": 3,
    "start_time": "2021-07-07T12:22:46.153Z"
   },
   {
    "duration": 687,
    "start_time": "2021-07-07T12:23:55.836Z"
   },
   {
    "duration": 614,
    "start_time": "2021-07-07T12:36:03.190Z"
   },
   {
    "duration": 646,
    "start_time": "2021-07-07T12:38:07.039Z"
   },
   {
    "duration": 1895,
    "start_time": "2021-07-07T12:38:27.644Z"
   },
   {
    "duration": 18,
    "start_time": "2021-07-07T13:19:52.103Z"
   },
   {
    "duration": 35,
    "start_time": "2021-07-07T13:19:53.183Z"
   },
   {
    "duration": 589,
    "start_time": "2021-07-07T13:20:51.744Z"
   },
   {
    "duration": 479,
    "start_time": "2021-07-07T13:22:22.090Z"
   },
   {
    "duration": 559,
    "start_time": "2021-07-07T13:26:09.428Z"
   },
   {
    "duration": 477,
    "start_time": "2021-07-07T13:26:34.105Z"
   },
   {
    "duration": 652,
    "start_time": "2021-07-07T13:28:50.365Z"
   },
   {
    "duration": 632,
    "start_time": "2021-07-07T13:29:10.892Z"
   },
   {
    "duration": 659,
    "start_time": "2021-07-07T13:29:28.940Z"
   },
   {
    "duration": 655,
    "start_time": "2021-07-07T13:29:39.170Z"
   },
   {
    "duration": 605,
    "start_time": "2021-07-07T13:41:42.688Z"
   },
   {
    "duration": 451,
    "start_time": "2021-07-07T13:43:11.315Z"
   },
   {
    "duration": 440,
    "start_time": "2021-07-07T13:44:27.758Z"
   },
   {
    "duration": 14,
    "start_time": "2021-07-07T13:44:40.266Z"
   },
   {
    "duration": 239,
    "start_time": "2021-07-07T13:46:47.106Z"
   },
   {
    "duration": 5738,
    "start_time": "2021-07-07T13:48:09.241Z"
   },
   {
    "duration": 1982,
    "start_time": "2021-07-07T13:49:02.377Z"
   },
   {
    "duration": 583,
    "start_time": "2021-07-07T13:49:52.042Z"
   },
   {
    "duration": 1792,
    "start_time": "2021-07-07T13:51:37.347Z"
   },
   {
    "duration": 3065,
    "start_time": "2021-07-07T13:52:51.846Z"
   },
   {
    "duration": 2972,
    "start_time": "2021-07-07T13:54:17.352Z"
   },
   {
    "duration": 1096,
    "start_time": "2021-07-07T13:54:44.830Z"
   },
   {
    "duration": 1202,
    "start_time": "2021-07-07T13:55:54.591Z"
   },
   {
    "duration": 1254,
    "start_time": "2021-07-07T13:56:10.416Z"
   },
   {
    "duration": 1089,
    "start_time": "2021-07-07T13:56:17.397Z"
   },
   {
    "duration": 1280,
    "start_time": "2021-07-07T13:57:48.537Z"
   },
   {
    "duration": 1103,
    "start_time": "2021-07-07T13:58:16.624Z"
   },
   {
    "duration": 2763,
    "start_time": "2021-07-07T13:58:36.567Z"
   },
   {
    "duration": 3047,
    "start_time": "2021-07-07T13:58:56.984Z"
   },
   {
    "duration": 1935,
    "start_time": "2021-07-07T13:59:05.353Z"
   },
   {
    "duration": 13,
    "start_time": "2021-07-07T14:02:05.111Z"
   },
   {
    "duration": 15,
    "start_time": "2021-07-07T14:04:13.210Z"
   },
   {
    "duration": 7,
    "start_time": "2021-07-07T14:04:16.829Z"
   },
   {
    "duration": 21,
    "start_time": "2021-07-07T14:04:41.445Z"
   },
   {
    "duration": 7,
    "start_time": "2021-07-07T14:04:49.175Z"
   },
   {
    "duration": 14,
    "start_time": "2021-07-07T14:05:46.506Z"
   },
   {
    "duration": 6,
    "start_time": "2021-07-07T14:05:59.187Z"
   },
   {
    "duration": 22,
    "start_time": "2021-07-07T14:05:59.936Z"
   },
   {
    "duration": 8,
    "start_time": "2021-07-07T14:06:00.767Z"
   },
   {
    "duration": 15,
    "start_time": "2021-07-07T14:06:09.913Z"
   },
   {
    "duration": 7,
    "start_time": "2021-07-07T14:06:10.539Z"
   },
   {
    "duration": 16,
    "start_time": "2021-07-07T14:06:19.392Z"
   },
   {
    "duration": 8,
    "start_time": "2021-07-07T14:06:22.898Z"
   },
   {
    "duration": 9,
    "start_time": "2021-07-07T14:07:18.686Z"
   },
   {
    "duration": 8,
    "start_time": "2021-07-07T14:07:22.285Z"
   },
   {
    "duration": 8,
    "start_time": "2021-07-07T14:07:26.014Z"
   },
   {
    "duration": 5861,
    "start_time": "2021-07-07T14:07:50.098Z"
   },
   {
    "duration": -12514,
    "start_time": "2021-07-07T14:08:08.475Z"
   },
   {
    "duration": 17,
    "start_time": "2021-07-07T14:09:24.868Z"
   },
   {
    "duration": 2,
    "start_time": "2021-07-07T14:10:03.776Z"
   },
   {
    "duration": 5763,
    "start_time": "2021-07-07T14:10:14.585Z"
   },
   {
    "duration": -12413,
    "start_time": "2021-07-07T14:10:32.763Z"
   },
   {
    "duration": 3,
    "start_time": "2021-07-07T14:10:34.822Z"
   },
   {
    "duration": 3,
    "start_time": "2021-07-07T14:10:37.324Z"
   },
   {
    "duration": 6,
    "start_time": "2021-07-07T14:10:43.021Z"
   },
   {
    "duration": 5515,
    "start_time": "2021-07-07T14:10:54.032Z"
   },
   {
    "duration": -12413,
    "start_time": "2021-07-07T14:11:11.962Z"
   },
   {
    "duration": 4,
    "start_time": "2021-07-07T14:12:04.057Z"
   },
   {
    "duration": 44,
    "start_time": "2021-07-07T14:12:04.062Z"
   },
   {
    "duration": 2,
    "start_time": "2021-07-07T14:12:04.108Z"
   },
   {
    "duration": 29,
    "start_time": "2021-07-07T14:12:04.112Z"
   },
   {
    "duration": 14,
    "start_time": "2021-07-07T14:12:04.142Z"
   },
   {
    "duration": 5,
    "start_time": "2021-07-07T14:12:04.158Z"
   },
   {
    "duration": 31,
    "start_time": "2021-07-07T14:12:04.165Z"
   },
   {
    "duration": 7,
    "start_time": "2021-07-07T14:12:04.197Z"
   },
   {
    "duration": 6,
    "start_time": "2021-07-07T14:12:04.206Z"
   },
   {
    "duration": 7,
    "start_time": "2021-07-07T14:12:04.214Z"
   },
   {
    "duration": 10,
    "start_time": "2021-07-07T14:12:04.222Z"
   },
   {
    "duration": 22,
    "start_time": "2021-07-07T14:12:04.233Z"
   },
   {
    "duration": 15,
    "start_time": "2021-07-07T14:12:04.256Z"
   },
   {
    "duration": 5,
    "start_time": "2021-07-07T14:12:04.273Z"
   },
   {
    "duration": 12,
    "start_time": "2021-07-07T14:12:04.280Z"
   },
   {
    "duration": 12,
    "start_time": "2021-07-07T14:12:04.294Z"
   },
   {
    "duration": 13,
    "start_time": "2021-07-07T14:12:04.307Z"
   },
   {
    "duration": 9,
    "start_time": "2021-07-07T14:12:04.321Z"
   },
   {
    "duration": 8,
    "start_time": "2021-07-07T14:12:04.332Z"
   },
   {
    "duration": 457,
    "start_time": "2021-07-07T14:12:04.342Z"
   },
   {
    "duration": 9,
    "start_time": "2021-07-07T14:12:04.801Z"
   },
   {
    "duration": 1927,
    "start_time": "2021-07-07T14:12:04.811Z"
   },
   {
    "duration": 14,
    "start_time": "2021-07-07T14:12:06.739Z"
   },
   {
    "duration": 7,
    "start_time": "2021-07-07T14:12:06.755Z"
   },
   {
    "duration": 13,
    "start_time": "2021-07-07T14:12:06.764Z"
   },
   {
    "duration": 813,
    "start_time": "2021-07-07T14:12:06.778Z"
   },
   {
    "duration": 6,
    "start_time": "2021-07-07T14:12:07.593Z"
   },
   {
    "duration": 19,
    "start_time": "2021-07-07T14:12:07.600Z"
   },
   {
    "duration": 6290,
    "start_time": "2021-07-07T14:12:13.868Z"
   },
   {
    "duration": -12383,
    "start_time": "2021-07-07T14:12:32.543Z"
   },
   {
    "duration": 5,
    "start_time": "2021-07-07T14:12:54.827Z"
   },
   {
    "duration": 45,
    "start_time": "2021-07-07T14:12:54.834Z"
   },
   {
    "duration": 3,
    "start_time": "2021-07-07T14:12:54.882Z"
   },
   {
    "duration": 32,
    "start_time": "2021-07-07T14:12:54.887Z"
   },
   {
    "duration": 10,
    "start_time": "2021-07-07T14:12:54.921Z"
   },
   {
    "duration": 5,
    "start_time": "2021-07-07T14:12:54.932Z"
   },
   {
    "duration": 30,
    "start_time": "2021-07-07T14:12:54.938Z"
   },
   {
    "duration": 7,
    "start_time": "2021-07-07T14:12:54.970Z"
   },
   {
    "duration": 4,
    "start_time": "2021-07-07T14:12:54.992Z"
   },
   {
    "duration": 9,
    "start_time": "2021-07-07T14:12:54.998Z"
   },
   {
    "duration": 15,
    "start_time": "2021-07-07T14:12:55.009Z"
   },
   {
    "duration": 25,
    "start_time": "2021-07-07T14:12:55.026Z"
   },
   {
    "duration": 18,
    "start_time": "2021-07-07T14:12:55.053Z"
   },
   {
    "duration": 19,
    "start_time": "2021-07-07T14:12:55.072Z"
   },
   {
    "duration": 8,
    "start_time": "2021-07-07T14:12:55.093Z"
   },
   {
    "duration": 20,
    "start_time": "2021-07-07T14:12:55.102Z"
   },
   {
    "duration": 12,
    "start_time": "2021-07-07T14:12:55.124Z"
   },
   {
    "duration": 7,
    "start_time": "2021-07-07T14:12:55.137Z"
   },
   {
    "duration": 15,
    "start_time": "2021-07-07T14:12:55.145Z"
   },
   {
    "duration": 479,
    "start_time": "2021-07-07T14:12:55.161Z"
   },
   {
    "duration": 9,
    "start_time": "2021-07-07T14:12:55.642Z"
   },
   {
    "duration": 1889,
    "start_time": "2021-07-07T14:12:55.653Z"
   },
   {
    "duration": 16,
    "start_time": "2021-07-07T14:12:57.543Z"
   },
   {
    "duration": 7,
    "start_time": "2021-07-07T14:12:57.561Z"
   },
   {
    "duration": 25,
    "start_time": "2021-07-07T14:12:57.570Z"
   },
   {
    "duration": 644,
    "start_time": "2021-07-07T14:12:57.597Z"
   },
   {
    "duration": 20,
    "start_time": "2021-07-07T14:12:58.244Z"
   },
   {
    "duration": 3,
    "start_time": "2021-07-07T14:13:03.272Z"
   },
   {
    "duration": 5820,
    "start_time": "2021-07-07T14:13:14.253Z"
   },
   {
    "duration": 3,
    "start_time": "2021-07-07T14:13:25.255Z"
   },
   {
    "duration": 6,
    "start_time": "2021-07-07T14:13:29.999Z"
   },
   {
    "duration": 3,
    "start_time": "2021-07-07T14:13:39.214Z"
   },
   {
    "duration": 6,
    "start_time": "2021-07-07T14:13:40.345Z"
   },
   {
    "duration": 4,
    "start_time": "2021-07-07T14:13:46.552Z"
   },
   {
    "duration": 4,
    "start_time": "2021-07-07T14:14:07.468Z"
   },
   {
    "duration": 3,
    "start_time": "2021-07-07T14:15:07.379Z"
   },
   {
    "duration": 5,
    "start_time": "2021-07-07T14:15:34.802Z"
   },
   {
    "duration": 6,
    "start_time": "2021-07-07T14:15:37.592Z"
   },
   {
    "duration": 8,
    "start_time": "2021-07-07T14:15:56.964Z"
   },
   {
    "duration": 5717,
    "start_time": "2021-07-07T14:18:04.364Z"
   },
   {
    "duration": 3,
    "start_time": "2021-07-07T16:54:45.434Z"
   },
   {
    "duration": 40,
    "start_time": "2021-07-07T16:54:45.439Z"
   },
   {
    "duration": 3,
    "start_time": "2021-07-07T16:54:45.481Z"
   },
   {
    "duration": 29,
    "start_time": "2021-07-07T16:54:45.485Z"
   },
   {
    "duration": 10,
    "start_time": "2021-07-07T16:54:45.515Z"
   },
   {
    "duration": 20,
    "start_time": "2021-07-07T16:54:56.117Z"
   },
   {
    "duration": 7,
    "start_time": "2021-07-07T16:55:01.369Z"
   },
   {
    "duration": 233,
    "start_time": "2021-07-07T16:55:18.339Z"
   },
   {
    "duration": 9,
    "start_time": "2021-07-07T16:55:27.747Z"
   },
   {
    "duration": 4,
    "start_time": "2021-07-07T16:55:29.793Z"
   },
   {
    "duration": 5,
    "start_time": "2021-07-07T16:55:31.474Z"
   },
   {
    "duration": 7,
    "start_time": "2021-07-07T16:55:41.643Z"
   },
   {
    "duration": 19,
    "start_time": "2021-07-07T16:55:44.100Z"
   },
   {
    "duration": 19,
    "start_time": "2021-07-07T16:55:45.357Z"
   },
   {
    "duration": 4,
    "start_time": "2021-07-07T16:55:46.172Z"
   },
   {
    "duration": 5,
    "start_time": "2021-07-07T16:55:49.111Z"
   },
   {
    "duration": 15,
    "start_time": "2021-07-07T16:55:49.662Z"
   },
   {
    "duration": 249,
    "start_time": "2021-07-07T16:58:44.676Z"
   },
   {
    "duration": 671,
    "start_time": "2021-07-07T16:59:07.136Z"
   },
   {
    "duration": 688,
    "start_time": "2021-07-07T17:01:50.694Z"
   },
   {
    "duration": 12,
    "start_time": "2021-07-07T17:02:52.442Z"
   },
   {
    "duration": 11,
    "start_time": "2021-07-07T17:03:02.455Z"
   },
   {
    "duration": 589,
    "start_time": "2021-07-07T17:03:16.302Z"
   },
   {
    "duration": 610,
    "start_time": "2021-07-07T17:03:29.459Z"
   },
   {
    "duration": 430,
    "start_time": "2021-07-07T17:03:37.297Z"
   },
   {
    "duration": 436,
    "start_time": "2021-07-07T17:03:46.183Z"
   },
   {
    "duration": 502,
    "start_time": "2021-07-07T17:08:17.823Z"
   },
   {
    "duration": 687,
    "start_time": "2021-07-07T17:10:50.772Z"
   },
   {
    "duration": 639,
    "start_time": "2021-07-07T17:11:01.129Z"
   },
   {
    "duration": 671,
    "start_time": "2021-07-07T17:11:10.095Z"
   },
   {
    "duration": 665,
    "start_time": "2021-07-07T17:11:15.164Z"
   },
   {
    "duration": 675,
    "start_time": "2021-07-07T17:11:32.867Z"
   },
   {
    "duration": 666,
    "start_time": "2021-07-07T17:11:46.109Z"
   },
   {
    "duration": 839,
    "start_time": "2021-07-07T17:11:54.931Z"
   },
   {
    "duration": 679,
    "start_time": "2021-07-07T17:12:11.079Z"
   },
   {
    "duration": 673,
    "start_time": "2021-07-07T17:13:07.261Z"
   },
   {
    "duration": 266,
    "start_time": "2021-07-07T17:14:24.307Z"
   },
   {
    "duration": 222,
    "start_time": "2021-07-07T17:15:08.741Z"
   },
   {
    "duration": 232,
    "start_time": "2021-07-07T17:15:18.607Z"
   },
   {
    "duration": 3,
    "start_time": "2021-07-07T17:15:25.024Z"
   },
   {
    "duration": 50,
    "start_time": "2021-07-07T17:15:25.029Z"
   },
   {
    "duration": 3,
    "start_time": "2021-07-07T17:15:25.081Z"
   },
   {
    "duration": 39,
    "start_time": "2021-07-07T17:15:25.085Z"
   },
   {
    "duration": 9,
    "start_time": "2021-07-07T17:15:25.125Z"
   },
   {
    "duration": 13,
    "start_time": "2021-07-07T17:15:25.136Z"
   },
   {
    "duration": 28,
    "start_time": "2021-07-07T17:15:25.150Z"
   },
   {
    "duration": 8,
    "start_time": "2021-07-07T17:15:25.179Z"
   },
   {
    "duration": 12,
    "start_time": "2021-07-07T17:15:25.189Z"
   },
   {
    "duration": 12,
    "start_time": "2021-07-07T17:15:25.203Z"
   },
   {
    "duration": 22,
    "start_time": "2021-07-07T17:15:25.216Z"
   },
   {
    "duration": 34,
    "start_time": "2021-07-07T17:15:25.240Z"
   },
   {
    "duration": 18,
    "start_time": "2021-07-07T17:15:25.276Z"
   },
   {
    "duration": 10,
    "start_time": "2021-07-07T17:15:25.296Z"
   },
   {
    "duration": 18,
    "start_time": "2021-07-07T17:15:25.308Z"
   },
   {
    "duration": 15,
    "start_time": "2021-07-07T17:15:25.327Z"
   },
   {
    "duration": 19,
    "start_time": "2021-07-07T17:15:25.344Z"
   },
   {
    "duration": 797,
    "start_time": "2021-07-07T17:15:25.365Z"
   },
   {
    "duration": 8,
    "start_time": "2021-07-07T17:15:31.003Z"
   },
   {
    "duration": 8,
    "start_time": "2021-07-07T17:15:34.377Z"
   },
   {
    "duration": 7,
    "start_time": "2021-07-07T17:15:36.993Z"
   },
   {
    "duration": 5,
    "start_time": "2021-07-07T17:15:57.445Z"
   },
   {
    "duration": 10,
    "start_time": "2021-07-07T17:16:01.082Z"
   },
   {
    "duration": 9,
    "start_time": "2021-07-07T17:16:25.513Z"
   },
   {
    "duration": 8,
    "start_time": "2021-07-07T17:16:29.605Z"
   },
   {
    "duration": 236,
    "start_time": "2021-07-07T17:20:10.101Z"
   },
   {
    "duration": 5,
    "start_time": "2021-07-07T17:20:26.312Z"
   },
   {
    "duration": 4,
    "start_time": "2021-07-07T17:20:30.159Z"
   },
   {
    "duration": 9,
    "start_time": "2021-07-07T17:20:31.994Z"
   },
   {
    "duration": 408,
    "start_time": "2021-07-07T17:22:19.427Z"
   },
   {
    "duration": 4,
    "start_time": "2021-07-07T17:22:48.208Z"
   },
   {
    "duration": 11,
    "start_time": "2021-07-07T17:22:52.192Z"
   },
   {
    "duration": 4,
    "start_time": "2021-07-07T17:22:55.458Z"
   },
   {
    "duration": 3,
    "start_time": "2021-07-07T17:22:57.353Z"
   },
   {
    "duration": 378,
    "start_time": "2021-07-07T17:25:15.263Z"
   },
   {
    "duration": 374,
    "start_time": "2021-07-07T17:25:30.507Z"
   },
   {
    "duration": 390,
    "start_time": "2021-07-07T17:25:35.532Z"
   },
   {
    "duration": 477,
    "start_time": "2021-07-07T17:25:42.792Z"
   },
   {
    "duration": 378,
    "start_time": "2021-07-07T17:27:01.927Z"
   },
   {
    "duration": 534,
    "start_time": "2021-07-07T17:27:29.000Z"
   },
   {
    "duration": 668,
    "start_time": "2021-07-07T17:27:34.880Z"
   },
   {
    "duration": 617,
    "start_time": "2021-07-07T17:27:42.108Z"
   },
   {
    "duration": 647,
    "start_time": "2021-07-07T17:28:12.339Z"
   },
   {
    "duration": 914,
    "start_time": "2021-07-07T17:28:52.202Z"
   },
   {
    "duration": 376,
    "start_time": "2021-07-07T17:31:07.161Z"
   },
   {
    "duration": 587,
    "start_time": "2021-07-07T17:32:15.716Z"
   },
   {
    "duration": 662,
    "start_time": "2021-07-07T17:40:33.748Z"
   },
   {
    "duration": 13,
    "start_time": "2021-07-07T17:42:16.407Z"
   },
   {
    "duration": 4,
    "start_time": "2021-07-07T17:43:34.441Z"
   },
   {
    "duration": 11,
    "start_time": "2021-07-07T17:43:37.251Z"
   },
   {
    "duration": 13,
    "start_time": "2021-07-07T17:44:45.935Z"
   },
   {
    "duration": 12,
    "start_time": "2021-07-07T17:44:59.214Z"
   },
   {
    "duration": 11,
    "start_time": "2021-07-07T17:45:20.377Z"
   },
   {
    "duration": 561,
    "start_time": "2021-07-07T17:45:39.471Z"
   },
   {
    "duration": 13,
    "start_time": "2021-07-07T17:45:52.876Z"
   },
   {
    "duration": 15,
    "start_time": "2021-07-07T17:46:12.734Z"
   },
   {
    "duration": 8,
    "start_time": "2021-07-07T17:46:54.701Z"
   },
   {
    "duration": 14,
    "start_time": "2021-07-07T17:46:58.269Z"
   },
   {
    "duration": 7,
    "start_time": "2021-07-07T17:47:05.127Z"
   },
   {
    "duration": 7,
    "start_time": "2021-07-07T17:47:41.997Z"
   },
   {
    "duration": 237,
    "start_time": "2021-07-07T17:48:39.134Z"
   },
   {
    "duration": 9,
    "start_time": "2021-07-07T17:49:28.372Z"
   },
   {
    "duration": 230,
    "start_time": "2021-07-07T17:49:31.467Z"
   },
   {
    "duration": 15,
    "start_time": "2021-07-07T17:49:34.929Z"
   },
   {
    "duration": 8,
    "start_time": "2021-07-07T17:50:22.156Z"
   },
   {
    "duration": 8,
    "start_time": "2021-07-07T17:50:24.845Z"
   },
   {
    "duration": 236,
    "start_time": "2021-07-07T17:50:52.546Z"
   },
   {
    "duration": 235,
    "start_time": "2021-07-07T17:52:35.746Z"
   },
   {
    "duration": 8,
    "start_time": "2021-07-07T17:53:04.469Z"
   },
   {
    "duration": 16,
    "start_time": "2021-07-07T17:53:07.293Z"
   },
   {
    "duration": 14,
    "start_time": "2021-07-07T17:53:20.472Z"
   },
   {
    "duration": 8,
    "start_time": "2021-07-07T17:53:25.479Z"
   },
   {
    "duration": 266,
    "start_time": "2021-07-07T17:53:36.534Z"
   },
   {
    "duration": 224,
    "start_time": "2021-07-07T17:54:42.350Z"
   },
   {
    "duration": 14,
    "start_time": "2021-07-07T17:56:04.974Z"
   },
   {
    "duration": 14,
    "start_time": "2021-07-07T17:57:50.183Z"
   },
   {
    "duration": 25,
    "start_time": "2021-07-07T17:57:55.848Z"
   },
   {
    "duration": 14,
    "start_time": "2021-07-07T17:58:26.110Z"
   },
   {
    "duration": 30,
    "start_time": "2021-07-07T17:58:28.497Z"
   },
   {
    "duration": 236,
    "start_time": "2021-07-07T17:59:26.395Z"
   },
   {
    "duration": 223,
    "start_time": "2021-07-07T18:01:07.345Z"
   },
   {
    "duration": 4776,
    "start_time": "2021-07-07T18:01:22.848Z"
   },
   {
    "duration": 17,
    "start_time": "2021-07-07T18:02:39.891Z"
   },
   {
    "duration": 3838,
    "start_time": "2021-07-07T18:02:44.404Z"
   },
   {
    "duration": 235,
    "start_time": "2021-07-07T18:03:33.685Z"
   },
   {
    "duration": 2945,
    "start_time": "2021-07-07T18:03:57.342Z"
   },
   {
    "duration": 255,
    "start_time": "2021-07-07T18:05:10.189Z"
   },
   {
    "duration": 2982,
    "start_time": "2021-07-07T18:05:14.949Z"
   },
   {
    "duration": 3165,
    "start_time": "2021-07-07T18:05:45.167Z"
   },
   {
    "duration": 2988,
    "start_time": "2021-07-07T18:05:59.136Z"
   },
   {
    "duration": 3046,
    "start_time": "2021-07-07T18:06:30.704Z"
   },
   {
    "duration": 225,
    "start_time": "2021-07-07T18:07:26.721Z"
   },
   {
    "duration": 226,
    "start_time": "2021-07-07T18:07:35.260Z"
   },
   {
    "duration": 3140,
    "start_time": "2021-07-07T18:08:17.261Z"
   },
   {
    "duration": 2949,
    "start_time": "2021-07-07T18:08:30.846Z"
   },
   {
    "duration": 2948,
    "start_time": "2021-07-07T18:08:41.849Z"
   },
   {
    "duration": 226,
    "start_time": "2021-07-07T18:10:36.978Z"
   },
   {
    "duration": 2945,
    "start_time": "2021-07-07T18:10:48.064Z"
   },
   {
    "duration": 27,
    "start_time": "2021-07-07T18:17:16.955Z"
   },
   {
    "duration": 1237,
    "start_time": "2021-07-07T18:17:47.340Z"
   },
   {
    "duration": 1059,
    "start_time": "2021-07-07T18:17:54.116Z"
   },
   {
    "duration": 20,
    "start_time": "2021-07-07T18:18:07.893Z"
   },
   {
    "duration": 28,
    "start_time": "2021-07-07T18:18:10.962Z"
   },
   {
    "duration": 20,
    "start_time": "2021-07-07T18:18:14.762Z"
   },
   {
    "duration": 6,
    "start_time": "2021-07-07T18:18:40.445Z"
   },
   {
    "duration": 9,
    "start_time": "2021-07-07T18:18:42.679Z"
   },
   {
    "duration": 6,
    "start_time": "2021-07-07T18:18:47.777Z"
   },
   {
    "duration": 23,
    "start_time": "2021-07-07T18:18:54.318Z"
   },
   {
    "duration": 1595,
    "start_time": "2021-07-07T18:18:58.726Z"
   },
   {
    "duration": 1550,
    "start_time": "2021-07-07T18:19:23.299Z"
   },
   {
    "duration": 1725,
    "start_time": "2021-07-07T18:19:34.891Z"
   },
   {
    "duration": 10,
    "start_time": "2021-07-07T18:20:06.407Z"
   },
   {
    "duration": 11,
    "start_time": "2021-07-07T18:21:05.363Z"
   },
   {
    "duration": 10,
    "start_time": "2021-07-07T18:21:16.917Z"
   },
   {
    "duration": 20,
    "start_time": "2021-07-07T18:21:33.522Z"
   },
   {
    "duration": 8,
    "start_time": "2021-07-07T18:22:20.937Z"
   },
   {
    "duration": 7,
    "start_time": "2021-07-07T18:25:26.218Z"
   },
   {
    "duration": 223,
    "start_time": "2021-07-07T18:30:11.528Z"
   },
   {
    "duration": 249,
    "start_time": "2021-07-07T18:30:19.211Z"
   },
   {
    "duration": 238,
    "start_time": "2021-07-07T18:30:38.898Z"
   },
   {
    "duration": 697,
    "start_time": "2021-07-07T18:30:55.894Z"
   },
   {
    "duration": 13,
    "start_time": "2021-07-07T18:31:24.197Z"
   },
   {
    "duration": 547,
    "start_time": "2021-07-07T18:32:31.796Z"
   },
   {
    "duration": 1325,
    "start_time": "2021-07-07T18:32:42.954Z"
   },
   {
    "duration": 267,
    "start_time": "2021-07-07T18:35:17.120Z"
   },
   {
    "duration": 1366,
    "start_time": "2021-07-07T18:35:30.053Z"
   },
   {
    "duration": 1333,
    "start_time": "2021-07-07T18:36:34.558Z"
   },
   {
    "duration": 1337,
    "start_time": "2021-07-07T18:37:11.435Z"
   },
   {
    "duration": 1368,
    "start_time": "2021-07-07T18:37:56.513Z"
   },
   {
    "duration": 1351,
    "start_time": "2021-07-07T18:38:25.030Z"
   },
   {
    "duration": 3,
    "start_time": "2021-07-07T18:39:15.807Z"
   },
   {
    "duration": 41,
    "start_time": "2021-07-07T18:39:15.812Z"
   },
   {
    "duration": 2,
    "start_time": "2021-07-07T18:39:15.855Z"
   },
   {
    "duration": 25,
    "start_time": "2021-07-07T18:39:15.859Z"
   },
   {
    "duration": 9,
    "start_time": "2021-07-07T18:39:15.885Z"
   },
   {
    "duration": 7,
    "start_time": "2021-07-07T18:39:15.896Z"
   },
   {
    "duration": 23,
    "start_time": "2021-07-07T18:39:15.905Z"
   },
   {
    "duration": 345,
    "start_time": "2021-07-07T18:39:15.929Z"
   },
   {
    "duration": 8,
    "start_time": "2021-07-07T18:39:16.277Z"
   },
   {
    "duration": 7,
    "start_time": "2021-07-07T18:39:16.290Z"
   },
   {
    "duration": 16,
    "start_time": "2021-07-07T18:39:16.300Z"
   },
   {
    "duration": 20,
    "start_time": "2021-07-07T18:39:16.317Z"
   },
   {
    "duration": 13,
    "start_time": "2021-07-07T18:39:16.338Z"
   },
   {
    "duration": 5,
    "start_time": "2021-07-07T18:39:16.353Z"
   },
   {
    "duration": 10,
    "start_time": "2021-07-07T18:39:16.359Z"
   },
   {
    "duration": 15,
    "start_time": "2021-07-07T18:39:16.370Z"
   },
   {
    "duration": 20,
    "start_time": "2021-07-07T18:39:16.387Z"
   },
   {
    "duration": 712,
    "start_time": "2021-07-07T18:39:16.408Z"
   },
   {
    "duration": 14,
    "start_time": "2021-07-07T18:39:17.122Z"
   },
   {
    "duration": 6,
    "start_time": "2021-07-07T18:39:17.138Z"
   },
   {
    "duration": 7,
    "start_time": "2021-07-07T18:39:17.146Z"
   },
   {
    "duration": 437,
    "start_time": "2021-07-07T18:39:17.154Z"
   },
   {
    "duration": 25,
    "start_time": "2021-07-07T18:39:17.593Z"
   },
   {
    "duration": 263,
    "start_time": "2021-07-07T18:41:46.783Z"
   },
   {
    "duration": 1605,
    "start_time": "2021-07-07T18:42:00.693Z"
   },
   {
    "duration": 1387,
    "start_time": "2021-07-07T18:42:18.264Z"
   },
   {
    "duration": 411,
    "start_time": "2021-07-07T19:03:19.723Z"
   },
   {
    "duration": 7,
    "start_time": "2021-07-07T19:16:58.353Z"
   },
   {
    "duration": 8,
    "start_time": "2021-07-07T19:17:06.360Z"
   },
   {
    "duration": 7,
    "start_time": "2021-07-07T19:17:19.960Z"
   },
   {
    "duration": 34,
    "start_time": "2021-07-07T19:22:15.189Z"
   },
   {
    "duration": 17,
    "start_time": "2021-07-07T19:22:18.721Z"
   },
   {
    "duration": 250,
    "start_time": "2021-07-07T19:22:38.701Z"
   },
   {
    "duration": 16,
    "start_time": "2021-07-07T19:22:59.307Z"
   },
   {
    "duration": 3,
    "start_time": "2021-07-07T19:23:24.356Z"
   },
   {
    "duration": 40,
    "start_time": "2021-07-07T19:23:24.361Z"
   },
   {
    "duration": 18,
    "start_time": "2021-07-07T19:23:24.402Z"
   },
   {
    "duration": 9,
    "start_time": "2021-07-07T19:23:24.421Z"
   },
   {
    "duration": 35,
    "start_time": "2021-07-07T19:23:24.431Z"
   },
   {
    "duration": 9,
    "start_time": "2021-07-07T19:23:24.468Z"
   },
   {
    "duration": 18,
    "start_time": "2021-07-07T19:23:24.479Z"
   },
   {
    "duration": 24,
    "start_time": "2021-07-07T19:23:24.499Z"
   },
   {
    "duration": 7,
    "start_time": "2021-07-07T19:23:24.524Z"
   },
   {
    "duration": 10,
    "start_time": "2021-07-07T19:23:24.532Z"
   },
   {
    "duration": 10,
    "start_time": "2021-07-07T19:23:24.544Z"
   },
   {
    "duration": 12,
    "start_time": "2021-07-07T19:23:24.555Z"
   },
   {
    "duration": 35,
    "start_time": "2021-07-07T19:23:24.568Z"
   },
   {
    "duration": 16,
    "start_time": "2021-07-07T19:23:24.604Z"
   },
   {
    "duration": 13,
    "start_time": "2021-07-07T19:23:24.622Z"
   },
   {
    "duration": 12,
    "start_time": "2021-07-07T19:23:24.637Z"
   },
   {
    "duration": 15,
    "start_time": "2021-07-07T19:23:24.651Z"
   },
   {
    "duration": 10,
    "start_time": "2021-07-07T19:23:24.667Z"
   },
   {
    "duration": 726,
    "start_time": "2021-07-07T19:23:24.680Z"
   },
   {
    "duration": 14,
    "start_time": "2021-07-07T19:23:25.408Z"
   },
   {
    "duration": 10,
    "start_time": "2021-07-07T19:23:25.424Z"
   },
   {
    "duration": 23,
    "start_time": "2021-07-07T19:23:25.436Z"
   },
   {
    "duration": 398,
    "start_time": "2021-07-07T19:23:25.461Z"
   },
   {
    "duration": 23,
    "start_time": "2021-07-07T19:23:25.861Z"
   },
   {
    "duration": 421,
    "start_time": "2021-07-07T19:23:25.899Z"
   },
   {
    "duration": 18,
    "start_time": "2021-07-07T19:23:33.068Z"
   },
   {
    "duration": 15,
    "start_time": "2021-07-07T19:23:38.148Z"
   },
   {
    "duration": 14,
    "start_time": "2021-07-07T19:23:41.829Z"
   },
   {
    "duration": 16,
    "start_time": "2021-07-07T19:24:15.901Z"
   },
   {
    "duration": 224,
    "start_time": "2021-07-07T19:24:34.747Z"
   },
   {
    "duration": 16,
    "start_time": "2021-07-07T19:24:40.657Z"
   },
   {
    "duration": 15,
    "start_time": "2021-07-07T19:26:14.199Z"
   },
   {
    "duration": 257,
    "start_time": "2021-07-07T19:26:56.861Z"
   },
   {
    "duration": 13,
    "start_time": "2021-07-07T19:27:08.819Z"
   },
   {
    "duration": 20,
    "start_time": "2021-07-07T19:29:06.389Z"
   },
   {
    "duration": 231,
    "start_time": "2021-07-07T19:30:17.560Z"
   },
   {
    "duration": 19,
    "start_time": "2021-07-07T19:30:30.462Z"
   },
   {
    "duration": 261,
    "start_time": "2021-07-07T19:30:51.725Z"
   },
   {
    "duration": 255,
    "start_time": "2021-07-07T19:31:05.999Z"
   },
   {
    "duration": 248,
    "start_time": "2021-07-07T19:31:16.680Z"
   },
   {
    "duration": 17,
    "start_time": "2021-07-07T19:31:49.993Z"
   },
   {
    "duration": 23,
    "start_time": "2021-07-07T19:31:53.190Z"
   },
   {
    "duration": 14,
    "start_time": "2021-07-07T19:38:21.232Z"
   },
   {
    "duration": 15,
    "start_time": "2021-07-07T19:38:32.103Z"
   },
   {
    "duration": 14,
    "start_time": "2021-07-07T19:38:35.639Z"
   },
   {
    "duration": 7,
    "start_time": "2021-07-07T19:41:54.908Z"
   },
   {
    "duration": 399,
    "start_time": "2021-07-07T19:49:42.713Z"
   },
   {
    "duration": 3,
    "start_time": "2021-07-07T19:58:02.231Z"
   },
   {
    "duration": 29,
    "start_time": "2021-07-07T19:58:02.696Z"
   },
   {
    "duration": 9,
    "start_time": "2021-07-07T19:58:03.120Z"
   },
   {
    "duration": 4,
    "start_time": "2021-07-07T19:58:06.819Z"
   },
   {
    "duration": 35,
    "start_time": "2021-07-07T19:58:07.806Z"
   },
   {
    "duration": 18,
    "start_time": "2021-07-07T19:58:08.823Z"
   },
   {
    "duration": 4,
    "start_time": "2021-07-07T19:58:12.289Z"
   },
   {
    "duration": 22,
    "start_time": "2021-07-07T19:58:15.364Z"
   },
   {
    "duration": 9,
    "start_time": "2021-07-07T19:58:16.721Z"
   },
   {
    "duration": 6,
    "start_time": "2021-07-07T19:58:19.210Z"
   },
   {
    "duration": 17,
    "start_time": "2021-07-07T19:58:19.739Z"
   },
   {
    "duration": 7,
    "start_time": "2021-07-07T19:58:20.176Z"
   },
   {
    "duration": 4,
    "start_time": "2021-07-07T19:58:20.725Z"
   },
   {
    "duration": 3,
    "start_time": "2021-07-07T19:58:24.276Z"
   },
   {
    "duration": 9,
    "start_time": "2021-07-07T19:58:44.052Z"
   },
   {
    "duration": 3,
    "start_time": "2021-07-07T19:58:45.306Z"
   },
   {
    "duration": 6,
    "start_time": "2021-07-07T19:58:48.294Z"
   },
   {
    "duration": 6,
    "start_time": "2021-07-07T19:58:50.451Z"
   },
   {
    "duration": 20,
    "start_time": "2021-07-07T19:58:53.731Z"
   },
   {
    "duration": 18,
    "start_time": "2021-07-07T19:58:55.399Z"
   },
   {
    "duration": 5,
    "start_time": "2021-07-07T19:58:57.486Z"
   },
   {
    "duration": 5,
    "start_time": "2021-07-07T19:58:59.138Z"
   },
   {
    "duration": 1091,
    "start_time": "2021-07-08T08:00:16.336Z"
   },
   {
    "duration": 37,
    "start_time": "2021-07-08T08:00:17.429Z"
   },
   {
    "duration": 23,
    "start_time": "2021-07-08T08:00:18.198Z"
   },
   {
    "duration": 4,
    "start_time": "2021-07-08T08:00:21.482Z"
   },
   {
    "duration": 25,
    "start_time": "2021-07-08T08:00:22.190Z"
   },
   {
    "duration": 10,
    "start_time": "2021-07-08T08:00:22.897Z"
   },
   {
    "duration": 6,
    "start_time": "2021-07-08T08:00:26.859Z"
   },
   {
    "duration": 17,
    "start_time": "2021-07-08T08:00:28.259Z"
   },
   {
    "duration": 9,
    "start_time": "2021-07-08T08:00:29.995Z"
   },
   {
    "duration": 5,
    "start_time": "2021-07-08T08:00:30.612Z"
   },
   {
    "duration": 7,
    "start_time": "2021-07-08T08:00:34.037Z"
   },
   {
    "duration": 39,
    "start_time": "2021-07-08T08:00:59.023Z"
   },
   {
    "duration": 4,
    "start_time": "2021-07-08T08:01:01.889Z"
   },
   {
    "duration": 4,
    "start_time": "2021-07-08T08:01:19.558Z"
   },
   {
    "duration": 43,
    "start_time": "2021-07-08T08:01:19.564Z"
   },
   {
    "duration": 18,
    "start_time": "2021-07-08T08:01:19.609Z"
   },
   {
    "duration": 7,
    "start_time": "2021-07-08T08:01:19.629Z"
   },
   {
    "duration": 26,
    "start_time": "2021-07-08T08:01:19.637Z"
   },
   {
    "duration": 25,
    "start_time": "2021-07-08T08:01:19.665Z"
   },
   {
    "duration": 5,
    "start_time": "2021-07-08T08:01:19.692Z"
   },
   {
    "duration": 20,
    "start_time": "2021-07-08T08:01:19.699Z"
   },
   {
    "duration": 6,
    "start_time": "2021-07-08T08:01:19.721Z"
   },
   {
    "duration": 4,
    "start_time": "2021-07-08T08:01:19.729Z"
   },
   {
    "duration": 5,
    "start_time": "2021-07-08T08:01:19.735Z"
   },
   {
    "duration": 10,
    "start_time": "2021-07-08T08:01:19.742Z"
   },
   {
    "duration": 20,
    "start_time": "2021-07-08T08:01:19.786Z"
   },
   {
    "duration": 17,
    "start_time": "2021-07-08T08:01:19.808Z"
   },
   {
    "duration": 5,
    "start_time": "2021-07-08T08:01:19.826Z"
   },
   {
    "duration": 5,
    "start_time": "2021-07-08T08:01:19.833Z"
   },
   {
    "duration": 11,
    "start_time": "2021-07-08T08:01:19.839Z"
   },
   {
    "duration": 42,
    "start_time": "2021-07-08T08:01:19.851Z"
   },
   {
    "duration": 637,
    "start_time": "2021-07-08T08:01:19.895Z"
   },
   {
    "duration": 14,
    "start_time": "2021-07-08T08:01:20.534Z"
   },
   {
    "duration": 4,
    "start_time": "2021-07-08T08:01:20.550Z"
   },
   {
    "duration": 6,
    "start_time": "2021-07-08T08:01:20.555Z"
   },
   {
    "duration": 357,
    "start_time": "2021-07-08T08:01:20.562Z"
   },
   {
    "duration": 24,
    "start_time": "2021-07-08T08:01:20.920Z"
   },
   {
    "duration": 390,
    "start_time": "2021-07-08T08:01:20.946Z"
   },
   {
    "duration": 6,
    "start_time": "2021-07-08T08:02:15.488Z"
   },
   {
    "duration": 23,
    "start_time": "2021-07-08T08:05:19.412Z"
   },
   {
    "duration": 373,
    "start_time": "2021-07-08T08:05:22.338Z"
   },
   {
    "duration": 23,
    "start_time": "2021-07-08T08:05:43.634Z"
   },
   {
    "duration": 348,
    "start_time": "2021-07-08T08:05:46.254Z"
   },
   {
    "duration": 9,
    "start_time": "2021-07-08T08:08:23.943Z"
   },
   {
    "duration": 11,
    "start_time": "2021-07-08T08:11:14.808Z"
   },
   {
    "duration": 19,
    "start_time": "2021-07-08T08:11:52.529Z"
   },
   {
    "duration": 19,
    "start_time": "2021-07-08T08:11:54.152Z"
   },
   {
    "duration": 8,
    "start_time": "2021-07-08T08:11:58.460Z"
   },
   {
    "duration": 279,
    "start_time": "2021-07-08T08:12:21.402Z"
   },
   {
    "duration": 3,
    "start_time": "2021-07-08T08:12:26.644Z"
   },
   {
    "duration": 2,
    "start_time": "2021-07-08T08:12:28.677Z"
   },
   {
    "duration": 4,
    "start_time": "2021-07-08T08:12:44.179Z"
   },
   {
    "duration": 4,
    "start_time": "2021-07-08T08:12:45.914Z"
   },
   {
    "duration": 4,
    "start_time": "2021-07-08T08:12:55.240Z"
   },
   {
    "duration": 239,
    "start_time": "2021-07-08T08:15:04.734Z"
   },
   {
    "duration": 213,
    "start_time": "2021-07-08T08:15:15.078Z"
   },
   {
    "duration": 200,
    "start_time": "2021-07-08T08:15:47.688Z"
   },
   {
    "duration": 4,
    "start_time": "2021-07-08T08:17:09.430Z"
   },
   {
    "duration": 3,
    "start_time": "2021-07-08T08:17:11.242Z"
   },
   {
    "duration": 4141,
    "start_time": "2021-07-08T08:17:12.579Z"
   },
   {
    "duration": 1073,
    "start_time": "2021-07-08T08:17:43.353Z"
   },
   {
    "duration": 1874,
    "start_time": "2021-07-08T08:17:44.428Z"
   },
   {
    "duration": 39,
    "start_time": "2021-07-08T08:17:46.304Z"
   },
   {
    "duration": 21,
    "start_time": "2021-07-08T08:17:46.345Z"
   },
   {
    "duration": 3,
    "start_time": "2021-07-08T08:17:46.367Z"
   },
   {
    "duration": 24,
    "start_time": "2021-07-08T08:17:46.371Z"
   },
   {
    "duration": 8,
    "start_time": "2021-07-08T08:17:46.397Z"
   },
   {
    "duration": 5,
    "start_time": "2021-07-08T08:17:46.408Z"
   },
   {
    "duration": 16,
    "start_time": "2021-07-08T08:17:46.415Z"
   },
   {
    "duration": 6,
    "start_time": "2021-07-08T08:17:46.433Z"
   },
   {
    "duration": 4,
    "start_time": "2021-07-08T08:17:46.441Z"
   },
   {
    "duration": 5,
    "start_time": "2021-07-08T08:17:46.446Z"
   },
   {
    "duration": 7,
    "start_time": "2021-07-08T08:17:46.484Z"
   },
   {
    "duration": 19,
    "start_time": "2021-07-08T08:17:46.492Z"
   },
   {
    "duration": 15,
    "start_time": "2021-07-08T08:17:46.513Z"
   },
   {
    "duration": 5,
    "start_time": "2021-07-08T08:17:46.529Z"
   },
   {
    "duration": 5,
    "start_time": "2021-07-08T08:17:46.535Z"
   },
   {
    "duration": 9,
    "start_time": "2021-07-08T08:17:46.542Z"
   },
   {
    "duration": 40,
    "start_time": "2021-07-08T08:17:46.552Z"
   },
   {
    "duration": 673,
    "start_time": "2021-07-08T08:17:46.593Z"
   },
   {
    "duration": 22,
    "start_time": "2021-07-08T08:17:47.267Z"
   },
   {
    "duration": 4,
    "start_time": "2021-07-08T08:17:47.290Z"
   },
   {
    "duration": 3,
    "start_time": "2021-07-08T08:17:47.298Z"
   },
   {
    "duration": 340,
    "start_time": "2021-07-08T08:17:47.303Z"
   },
   {
    "duration": 23,
    "start_time": "2021-07-08T08:17:47.645Z"
   },
   {
    "duration": 373,
    "start_time": "2021-07-08T08:17:47.669Z"
   },
   {
    "duration": 8,
    "start_time": "2021-07-08T08:17:48.044Z"
   },
   {
    "duration": 33,
    "start_time": "2021-07-08T08:17:48.053Z"
   },
   {
    "duration": 3,
    "start_time": "2021-07-08T08:17:48.088Z"
   },
   {
    "duration": 6,
    "start_time": "2021-07-08T08:17:48.092Z"
   },
   {
    "duration": 6,
    "start_time": "2021-07-08T08:17:48.099Z"
   },
   {
    "duration": 1103,
    "start_time": "2021-07-08T08:17:48.106Z"
   },
   {
    "duration": 440,
    "start_time": "2021-07-08T08:17:49.211Z"
   },
   {
    "duration": -16191,
    "start_time": "2021-07-08T08:18:05.844Z"
   },
   {
    "duration": -16193,
    "start_time": "2021-07-08T08:18:05.847Z"
   },
   {
    "duration": -16198,
    "start_time": "2021-07-08T08:18:05.853Z"
   },
   {
    "duration": -16201,
    "start_time": "2021-07-08T08:18:05.857Z"
   },
   {
    "duration": -16204,
    "start_time": "2021-07-08T08:18:05.861Z"
   },
   {
    "duration": -16207,
    "start_time": "2021-07-08T08:18:05.865Z"
   },
   {
    "duration": -16210,
    "start_time": "2021-07-08T08:18:05.869Z"
   },
   {
    "duration": -16213,
    "start_time": "2021-07-08T08:18:05.873Z"
   },
   {
    "duration": -16216,
    "start_time": "2021-07-08T08:18:05.877Z"
   },
   {
    "duration": -16219,
    "start_time": "2021-07-08T08:18:05.881Z"
   },
   {
    "duration": -16222,
    "start_time": "2021-07-08T08:18:05.885Z"
   },
   {
    "duration": -16225,
    "start_time": "2021-07-08T08:18:05.889Z"
   },
   {
    "duration": -16229,
    "start_time": "2021-07-08T08:18:05.894Z"
   },
   {
    "duration": -16233,
    "start_time": "2021-07-08T08:18:05.899Z"
   },
   {
    "duration": -16238,
    "start_time": "2021-07-08T08:18:05.905Z"
   },
   {
    "duration": -16338,
    "start_time": "2021-07-08T08:18:06.006Z"
   },
   {
    "duration": 1874,
    "start_time": "2021-07-08T08:17:59.337Z"
   },
   {
    "duration": 1870,
    "start_time": "2021-07-08T08:18:08.342Z"
   },
   {
    "duration": 206,
    "start_time": "2021-07-08T08:18:16.360Z"
   },
   {
    "duration": 3,
    "start_time": "2021-07-08T08:18:21.159Z"
   },
   {
    "duration": 12,
    "start_time": "2021-07-08T08:18:44.549Z"
   },
   {
    "duration": 11,
    "start_time": "2021-07-08T08:18:56.206Z"
   },
   {
    "duration": 9,
    "start_time": "2021-07-08T08:19:22.972Z"
   },
   {
    "duration": 280,
    "start_time": "2021-07-08T08:19:51.298Z"
   },
   {
    "duration": 13,
    "start_time": "2021-07-08T08:19:57.349Z"
   },
   {
    "duration": 11,
    "start_time": "2021-07-08T08:20:00.143Z"
   },
   {
    "duration": 12,
    "start_time": "2021-07-08T08:20:28.627Z"
   },
   {
    "duration": 10,
    "start_time": "2021-07-08T08:20:32.632Z"
   },
   {
    "duration": 4,
    "start_time": "2021-07-08T08:22:08.163Z"
   },
   {
    "duration": 2039,
    "start_time": "2021-07-08T08:22:08.668Z"
   },
   {
    "duration": 2,
    "start_time": "2021-07-08T08:22:11.533Z"
   },
   {
    "duration": 40,
    "start_time": "2021-07-08T08:22:12.175Z"
   },
   {
    "duration": 19,
    "start_time": "2021-07-08T08:22:13.018Z"
   },
   {
    "duration": 3,
    "start_time": "2021-07-08T08:22:15.773Z"
   },
   {
    "duration": 25,
    "start_time": "2021-07-08T08:22:16.362Z"
   },
   {
    "duration": 11,
    "start_time": "2021-07-08T08:22:16.987Z"
   },
   {
    "duration": 6,
    "start_time": "2021-07-08T08:22:20.316Z"
   },
   {
    "duration": 19,
    "start_time": "2021-07-08T08:22:21.312Z"
   },
   {
    "duration": 8,
    "start_time": "2021-07-08T08:22:23.191Z"
   },
   {
    "duration": 9,
    "start_time": "2021-07-08T08:22:28.141Z"
   },
   {
    "duration": 10,
    "start_time": "2021-07-08T08:22:29.931Z"
   },
   {
    "duration": 4,
    "start_time": "2021-07-08T08:22:37.759Z"
   },
   {
    "duration": 5,
    "start_time": "2021-07-08T08:22:45.981Z"
   },
   {
    "duration": 7,
    "start_time": "2021-07-08T08:22:49.492Z"
   },
   {
    "duration": 17,
    "start_time": "2021-07-08T08:22:53.866Z"
   },
   {
    "duration": 16,
    "start_time": "2021-07-08T08:22:56.445Z"
   },
   {
    "duration": 5,
    "start_time": "2021-07-08T08:22:58.459Z"
   },
   {
    "duration": 4,
    "start_time": "2021-07-08T08:23:00.887Z"
   },
   {
    "duration": 9,
    "start_time": "2021-07-08T08:23:02.870Z"
   },
   {
    "duration": 11,
    "start_time": "2021-07-08T08:23:19.281Z"
   },
   {
    "duration": 705,
    "start_time": "2021-07-08T08:23:20.349Z"
   },
   {
    "duration": 15,
    "start_time": "2021-07-08T08:23:24.986Z"
   },
   {
    "duration": 6,
    "start_time": "2021-07-08T08:23:30.615Z"
   },
   {
    "duration": 4,
    "start_time": "2021-07-08T08:23:32.095Z"
   },
   {
    "duration": 344,
    "start_time": "2021-07-08T08:23:32.948Z"
   },
   {
    "duration": 24,
    "start_time": "2021-07-08T08:23:36.158Z"
   },
   {
    "duration": 355,
    "start_time": "2021-07-08T08:23:39.203Z"
   },
   {
    "duration": 8,
    "start_time": "2021-07-08T08:23:44.948Z"
   },
   {
    "duration": 19,
    "start_time": "2021-07-08T08:23:47.889Z"
   },
   {
    "duration": 3,
    "start_time": "2021-07-08T08:23:48.633Z"
   },
   {
    "duration": 4,
    "start_time": "2021-07-08T08:23:49.430Z"
   },
   {
    "duration": 5,
    "start_time": "2021-07-08T08:23:50.069Z"
   },
   {
    "duration": 7,
    "start_time": "2021-07-08T08:25:27.065Z"
   },
   {
    "duration": 7,
    "start_time": "2021-07-08T08:25:29.534Z"
   },
   {
    "duration": 4,
    "start_time": "2021-07-08T08:26:14.093Z"
   },
   {
    "duration": 3,
    "start_time": "2021-07-08T08:26:16.546Z"
   },
   {
    "duration": 310,
    "start_time": "2021-07-08T08:28:07.816Z"
   },
   {
    "duration": 315,
    "start_time": "2021-07-08T08:28:10.483Z"
   },
   {
    "duration": 295,
    "start_time": "2021-07-08T08:29:41.237Z"
   },
   {
    "duration": 1058,
    "start_time": "2021-07-08T08:33:55.960Z"
   },
   {
    "duration": 1861,
    "start_time": "2021-07-08T08:33:57.020Z"
   },
   {
    "duration": 4,
    "start_time": "2021-07-08T08:33:58.883Z"
   },
   {
    "duration": 43,
    "start_time": "2021-07-08T08:33:58.889Z"
   },
   {
    "duration": 23,
    "start_time": "2021-07-08T08:33:58.933Z"
   },
   {
    "duration": 3,
    "start_time": "2021-07-08T08:33:58.957Z"
   },
   {
    "duration": 34,
    "start_time": "2021-07-08T08:33:58.962Z"
   },
   {
    "duration": 9,
    "start_time": "2021-07-08T08:33:58.998Z"
   },
   {
    "duration": 5,
    "start_time": "2021-07-08T08:33:59.010Z"
   },
   {
    "duration": 16,
    "start_time": "2021-07-08T08:33:59.017Z"
   },
   {
    "duration": 6,
    "start_time": "2021-07-08T08:33:59.035Z"
   },
   {
    "duration": 7,
    "start_time": "2021-07-08T08:33:59.043Z"
   },
   {
    "duration": 37,
    "start_time": "2021-07-08T08:33:59.052Z"
   },
   {
    "duration": 3,
    "start_time": "2021-07-08T08:33:59.091Z"
   },
   {
    "duration": 5,
    "start_time": "2021-07-08T08:33:59.096Z"
   },
   {
    "duration": 6,
    "start_time": "2021-07-08T08:33:59.103Z"
   },
   {
    "duration": 16,
    "start_time": "2021-07-08T08:33:59.110Z"
   },
   {
    "duration": 15,
    "start_time": "2021-07-08T08:33:59.128Z"
   },
   {
    "duration": 5,
    "start_time": "2021-07-08T08:33:59.144Z"
   },
   {
    "duration": 38,
    "start_time": "2021-07-08T08:33:59.150Z"
   },
   {
    "duration": 10,
    "start_time": "2021-07-08T08:33:59.190Z"
   },
   {
    "duration": 10,
    "start_time": "2021-07-08T08:33:59.202Z"
   },
   {
    "duration": 676,
    "start_time": "2021-07-08T08:33:59.214Z"
   },
   {
    "duration": 14,
    "start_time": "2021-07-08T08:33:59.892Z"
   },
   {
    "duration": 4,
    "start_time": "2021-07-08T08:33:59.908Z"
   },
   {
    "duration": 5,
    "start_time": "2021-07-08T08:33:59.913Z"
   },
   {
    "duration": 378,
    "start_time": "2021-07-08T08:33:59.922Z"
   },
   {
    "duration": 23,
    "start_time": "2021-07-08T08:34:00.302Z"
   },
   {
    "duration": 387,
    "start_time": "2021-07-08T08:34:00.327Z"
   },
   {
    "duration": 8,
    "start_time": "2021-07-08T08:34:00.715Z"
   },
   {
    "duration": 25,
    "start_time": "2021-07-08T08:34:00.725Z"
   },
   {
    "duration": 19,
    "start_time": "2021-07-08T08:34:00.752Z"
   },
   {
    "duration": 26,
    "start_time": "2021-07-08T08:34:00.773Z"
   },
   {
    "duration": 15,
    "start_time": "2021-07-08T08:34:00.801Z"
   },
   {
    "duration": 18,
    "start_time": "2021-07-08T08:34:00.818Z"
   },
   {
    "duration": 19,
    "start_time": "2021-07-08T08:34:00.837Z"
   },
   {
    "duration": 317,
    "start_time": "2021-07-08T08:34:00.857Z"
   },
   {
    "duration": 417,
    "start_time": "2021-07-08T08:34:01.176Z"
   },
   {
    "duration": -13260,
    "start_time": "2021-07-08T08:34:14.855Z"
   },
   {
    "duration": -13276,
    "start_time": "2021-07-08T08:34:14.872Z"
   },
   {
    "duration": -13292,
    "start_time": "2021-07-08T08:34:14.888Z"
   },
   {
    "duration": -13307,
    "start_time": "2021-07-08T08:34:14.904Z"
   },
   {
    "duration": -13321,
    "start_time": "2021-07-08T08:34:14.919Z"
   },
   {
    "duration": -13341,
    "start_time": "2021-07-08T08:34:14.940Z"
   },
   {
    "duration": -13345,
    "start_time": "2021-07-08T08:34:14.946Z"
   },
   {
    "duration": -13349,
    "start_time": "2021-07-08T08:34:14.951Z"
   },
   {
    "duration": -13353,
    "start_time": "2021-07-08T08:34:14.956Z"
   },
   {
    "duration": -13358,
    "start_time": "2021-07-08T08:34:14.962Z"
   },
   {
    "duration": -13361,
    "start_time": "2021-07-08T08:34:14.966Z"
   },
   {
    "duration": -13366,
    "start_time": "2021-07-08T08:34:14.972Z"
   },
   {
    "duration": -13369,
    "start_time": "2021-07-08T08:34:14.976Z"
   },
   {
    "duration": -13372,
    "start_time": "2021-07-08T08:34:14.980Z"
   },
   {
    "duration": -13374,
    "start_time": "2021-07-08T08:34:14.983Z"
   },
   {
    "duration": -13377,
    "start_time": "2021-07-08T08:34:14.987Z"
   },
   {
    "duration": -13380,
    "start_time": "2021-07-08T08:34:14.991Z"
   },
   {
    "duration": -13383,
    "start_time": "2021-07-08T08:34:14.995Z"
   },
   {
    "duration": 340,
    "start_time": "2021-07-08T08:34:24.539Z"
   },
   {
    "duration": 13,
    "start_time": "2021-07-08T08:34:41.584Z"
   },
   {
    "duration": 6,
    "start_time": "2021-07-08T08:35:54.420Z"
   },
   {
    "duration": 11,
    "start_time": "2021-07-08T08:35:57.609Z"
   },
   {
    "duration": 5,
    "start_time": "2021-07-08T08:37:08.444Z"
   },
   {
    "duration": 10,
    "start_time": "2021-07-08T08:37:10.308Z"
   },
   {
    "duration": 371,
    "start_time": "2021-07-08T08:38:15.486Z"
   },
   {
    "duration": 712,
    "start_time": "2021-07-08T08:38:20.693Z"
   },
   {
    "duration": 11,
    "start_time": "2021-07-08T08:38:29.527Z"
   },
   {
    "duration": 13,
    "start_time": "2021-07-08T08:38:35.318Z"
   },
   {
    "duration": 11,
    "start_time": "2021-07-08T08:39:12.054Z"
   },
   {
    "duration": 203,
    "start_time": "2021-07-08T08:42:31.610Z"
   },
   {
    "duration": 12,
    "start_time": "2021-07-08T08:42:42.527Z"
   },
   {
    "duration": 239,
    "start_time": "2021-07-08T08:42:43.756Z"
   },
   {
    "duration": 13,
    "start_time": "2021-07-08T08:42:52.872Z"
   },
   {
    "duration": 11,
    "start_time": "2021-07-08T08:45:40.168Z"
   },
   {
    "duration": 14,
    "start_time": "2021-07-08T08:46:05.223Z"
   },
   {
    "duration": 238,
    "start_time": "2021-07-08T08:46:11.384Z"
   },
   {
    "duration": 21,
    "start_time": "2021-07-08T08:46:42.757Z"
   },
   {
    "duration": 5,
    "start_time": "2021-07-08T08:46:45.667Z"
   },
   {
    "duration": 20,
    "start_time": "2021-07-08T08:48:26.193Z"
   },
   {
    "duration": 20,
    "start_time": "2021-07-08T08:48:34.349Z"
   },
   {
    "duration": 4,
    "start_time": "2021-07-08T08:48:39.800Z"
   },
   {
    "duration": 5,
    "start_time": "2021-07-08T08:49:00.855Z"
   },
   {
    "duration": 5,
    "start_time": "2021-07-08T08:49:07.128Z"
   },
   {
    "duration": 195,
    "start_time": "2021-07-08T08:49:08.439Z"
   },
   {
    "duration": 3,
    "start_time": "2021-07-08T08:49:23.852Z"
   },
   {
    "duration": 2123,
    "start_time": "2021-07-08T08:49:23.857Z"
   },
   {
    "duration": 4,
    "start_time": "2021-07-08T08:49:25.983Z"
   },
   {
    "duration": 48,
    "start_time": "2021-07-08T08:49:25.989Z"
   },
   {
    "duration": 22,
    "start_time": "2021-07-08T08:49:26.039Z"
   },
   {
    "duration": 3,
    "start_time": "2021-07-08T08:49:26.062Z"
   },
   {
    "duration": 34,
    "start_time": "2021-07-08T08:49:26.067Z"
   },
   {
    "duration": 11,
    "start_time": "2021-07-08T08:49:26.104Z"
   },
   {
    "duration": 8,
    "start_time": "2021-07-08T08:49:26.117Z"
   },
   {
    "duration": 21,
    "start_time": "2021-07-08T08:49:26.126Z"
   },
   {
    "duration": 6,
    "start_time": "2021-07-08T08:49:26.149Z"
   },
   {
    "duration": 29,
    "start_time": "2021-07-08T08:49:26.157Z"
   },
   {
    "duration": 86,
    "start_time": "2021-07-08T08:49:26.188Z"
   },
   {
    "duration": 4,
    "start_time": "2021-07-08T08:49:26.284Z"
   },
   {
    "duration": 8,
    "start_time": "2021-07-08T08:49:26.290Z"
   },
   {
    "duration": 14,
    "start_time": "2021-07-08T08:49:26.300Z"
   },
   {
    "duration": 28,
    "start_time": "2021-07-08T08:49:26.315Z"
   },
   {
    "duration": 16,
    "start_time": "2021-07-08T08:49:26.344Z"
   },
   {
    "duration": 4,
    "start_time": "2021-07-08T08:49:26.362Z"
   },
   {
    "duration": 19,
    "start_time": "2021-07-08T08:49:26.367Z"
   },
   {
    "duration": 9,
    "start_time": "2021-07-08T08:49:26.387Z"
   },
   {
    "duration": 17,
    "start_time": "2021-07-08T08:49:26.397Z"
   },
   {
    "duration": 667,
    "start_time": "2021-07-08T08:49:26.417Z"
   },
   {
    "duration": 14,
    "start_time": "2021-07-08T08:49:27.086Z"
   },
   {
    "duration": 5,
    "start_time": "2021-07-08T08:49:27.102Z"
   },
   {
    "duration": 6,
    "start_time": "2021-07-08T08:49:27.108Z"
   },
   {
    "duration": 372,
    "start_time": "2021-07-08T08:49:27.116Z"
   },
   {
    "duration": 24,
    "start_time": "2021-07-08T08:49:27.489Z"
   },
   {
    "duration": 400,
    "start_time": "2021-07-08T08:49:27.515Z"
   },
   {
    "duration": 8,
    "start_time": "2021-07-08T08:49:27.917Z"
   },
   {
    "duration": 18,
    "start_time": "2021-07-08T08:49:27.926Z"
   },
   {
    "duration": 3,
    "start_time": "2021-07-08T08:49:27.945Z"
   },
   {
    "duration": 5,
    "start_time": "2021-07-08T08:49:27.949Z"
   },
   {
    "duration": 31,
    "start_time": "2021-07-08T08:49:27.955Z"
   },
   {
    "duration": 18,
    "start_time": "2021-07-08T08:49:27.988Z"
   },
   {
    "duration": 5,
    "start_time": "2021-07-08T08:49:28.008Z"
   },
   {
    "duration": 5,
    "start_time": "2021-07-08T08:49:28.014Z"
   },
   {
    "duration": 282,
    "start_time": "2021-07-08T08:49:33.620Z"
   },
   {
    "duration": 355,
    "start_time": "2021-07-08T08:49:53.039Z"
   },
   {
    "duration": 4,
    "start_time": "2021-07-08T08:50:26.747Z"
   },
   {
    "duration": 4,
    "start_time": "2021-07-08T08:50:30.355Z"
   },
   {
    "duration": 325,
    "start_time": "2021-07-08T08:50:31.048Z"
   },
   {
    "duration": 342,
    "start_time": "2021-07-08T08:52:27.263Z"
   },
   {
    "duration": 336,
    "start_time": "2021-07-08T08:52:56.778Z"
   },
   {
    "duration": 7,
    "start_time": "2021-07-08T08:53:38.986Z"
   },
   {
    "duration": 4,
    "start_time": "2021-07-08T08:53:45.516Z"
   },
   {
    "duration": 370,
    "start_time": "2021-07-08T09:07:09.539Z"
   },
   {
    "duration": 359,
    "start_time": "2021-07-08T09:07:28.272Z"
   },
   {
    "duration": 21,
    "start_time": "2021-07-08T09:09:47.538Z"
   },
   {
    "duration": 37,
    "start_time": "2021-07-08T09:09:53.483Z"
   },
   {
    "duration": 18,
    "start_time": "2021-07-08T09:10:30.522Z"
   },
   {
    "duration": 104,
    "start_time": "2021-07-08T09:10:32.740Z"
   },
   {
    "duration": 22,
    "start_time": "2021-07-08T09:11:11.886Z"
   },
   {
    "duration": 24,
    "start_time": "2021-07-08T09:11:13.063Z"
   },
   {
    "duration": 19,
    "start_time": "2021-07-08T09:11:22.208Z"
   },
   {
    "duration": 23,
    "start_time": "2021-07-08T09:11:23.464Z"
   },
   {
    "duration": 5,
    "start_time": "2021-07-08T09:13:54.014Z"
   },
   {
    "duration": 22,
    "start_time": "2021-07-08T09:14:03.943Z"
   },
   {
    "duration": 23,
    "start_time": "2021-07-08T09:14:15.779Z"
   },
   {
    "duration": 4,
    "start_time": "2021-07-08T09:14:28.285Z"
   },
   {
    "duration": 488,
    "start_time": "2021-07-08T09:17:46.646Z"
   },
   {
    "duration": 513,
    "start_time": "2021-07-08T09:18:02.771Z"
   },
   {
    "duration": 560,
    "start_time": "2021-07-08T09:18:42.152Z"
   },
   {
    "duration": 531,
    "start_time": "2021-07-08T09:19:11.969Z"
   },
   {
    "duration": 490,
    "start_time": "2021-07-08T09:19:25.740Z"
   },
   {
    "duration": 345,
    "start_time": "2021-07-08T09:27:20.543Z"
   },
   {
    "duration": 14,
    "start_time": "2021-07-08T09:27:32.531Z"
   },
   {
    "duration": 534,
    "start_time": "2021-07-08T09:28:41.653Z"
   },
   {
    "duration": 10,
    "start_time": "2021-07-08T09:29:21.528Z"
   },
   {
    "duration": 10,
    "start_time": "2021-07-08T09:29:25.376Z"
   },
   {
    "duration": 186,
    "start_time": "2021-07-08T09:29:40.114Z"
   },
   {
    "duration": 4,
    "start_time": "2021-07-08T09:29:45.643Z"
   },
   {
    "duration": 9,
    "start_time": "2021-07-08T09:30:51.856Z"
   },
   {
    "duration": 10,
    "start_time": "2021-07-08T09:31:05.949Z"
   },
   {
    "duration": 10,
    "start_time": "2021-07-08T09:31:06.464Z"
   },
   {
    "duration": 11,
    "start_time": "2021-07-08T09:31:24.077Z"
   },
   {
    "duration": 10,
    "start_time": "2021-07-08T09:31:25.703Z"
   },
   {
    "duration": 10,
    "start_time": "2021-07-08T09:31:49.935Z"
   },
   {
    "duration": 10,
    "start_time": "2021-07-08T09:31:52.098Z"
   },
   {
    "duration": 525,
    "start_time": "2021-07-08T09:31:59.036Z"
   },
   {
    "duration": 10,
    "start_time": "2021-07-08T09:38:28.255Z"
   },
   {
    "duration": 556,
    "start_time": "2021-07-08T09:38:29.517Z"
   },
   {
    "duration": 7,
    "start_time": "2021-07-08T09:41:11.532Z"
   },
   {
    "duration": 11,
    "start_time": "2021-07-08T09:41:15.490Z"
   },
   {
    "duration": 9,
    "start_time": "2021-07-08T09:41:21.057Z"
   },
   {
    "duration": 9,
    "start_time": "2021-07-08T09:42:21.496Z"
   },
   {
    "duration": 9,
    "start_time": "2021-07-08T09:42:28.830Z"
   },
   {
    "duration": 9,
    "start_time": "2021-07-08T09:46:28.346Z"
   },
   {
    "duration": 8,
    "start_time": "2021-07-08T09:46:42.543Z"
   },
   {
    "duration": 7,
    "start_time": "2021-07-08T09:47:23.968Z"
   },
   {
    "duration": 182,
    "start_time": "2021-07-08T09:47:50.852Z"
   },
   {
    "duration": 8,
    "start_time": "2021-07-08T09:47:57.960Z"
   },
   {
    "duration": 9,
    "start_time": "2021-07-08T09:47:59.925Z"
   },
   {
    "duration": 1196,
    "start_time": "2021-07-08T09:50:06.434Z"
   },
   {
    "duration": 1088,
    "start_time": "2021-07-08T09:50:19.007Z"
   },
   {
    "duration": 1108,
    "start_time": "2021-07-08T09:51:22.149Z"
   },
   {
    "duration": 1079,
    "start_time": "2021-07-08T09:51:26.293Z"
   },
   {
    "duration": 976,
    "start_time": "2021-07-08T09:51:47.692Z"
   },
   {
    "duration": 1224,
    "start_time": "2021-07-08T09:52:19.316Z"
   },
   {
    "duration": 12,
    "start_time": "2021-07-08T09:54:06.676Z"
   },
   {
    "duration": 1694,
    "start_time": "2021-07-08T09:54:09.486Z"
   },
   {
    "duration": 1757,
    "start_time": "2021-07-08T09:54:20.142Z"
   },
   {
    "duration": 2023,
    "start_time": "2021-07-08T09:54:42.653Z"
   },
   {
    "duration": 2039,
    "start_time": "2021-07-08T09:54:55.235Z"
   },
   {
    "duration": 1849,
    "start_time": "2021-07-08T09:55:23.659Z"
   },
   {
    "duration": 1926,
    "start_time": "2021-07-08T09:55:34.497Z"
   },
   {
    "duration": 11,
    "start_time": "2021-07-08T09:56:05.077Z"
   },
   {
    "duration": 1909,
    "start_time": "2021-07-08T09:56:08.204Z"
   },
   {
    "duration": 2050,
    "start_time": "2021-07-08T09:56:18.853Z"
   },
   {
    "duration": 7,
    "start_time": "2021-07-08T09:56:46.516Z"
   },
   {
    "duration": 1811,
    "start_time": "2021-07-08T09:56:49.497Z"
   },
   {
    "duration": 531,
    "start_time": "2021-07-08T09:58:11.882Z"
   },
   {
    "duration": 572,
    "start_time": "2021-07-08T09:58:19.215Z"
   },
   {
    "duration": 5,
    "start_time": "2021-07-08T10:01:17.400Z"
   },
   {
    "duration": 4,
    "start_time": "2021-07-08T10:01:19.252Z"
   },
   {
    "duration": 181,
    "start_time": "2021-07-08T10:01:28.542Z"
   },
   {
    "duration": 9,
    "start_time": "2021-07-08T10:01:32.251Z"
   },
   {
    "duration": 9,
    "start_time": "2021-07-08T10:01:52.013Z"
   },
   {
    "duration": 13,
    "start_time": "2021-07-08T10:03:43.739Z"
   },
   {
    "duration": 14,
    "start_time": "2021-07-08T10:03:52.154Z"
   },
   {
    "duration": 12,
    "start_time": "2021-07-08T10:04:59.531Z"
   },
   {
    "duration": 11,
    "start_time": "2021-07-08T10:05:20.148Z"
   },
   {
    "duration": 11,
    "start_time": "2021-07-08T10:05:25.227Z"
   },
   {
    "duration": 12,
    "start_time": "2021-07-08T10:09:51.625Z"
   },
   {
    "duration": 12,
    "start_time": "2021-07-08T10:09:56.169Z"
   },
   {
    "duration": 12,
    "start_time": "2021-07-08T10:10:05.457Z"
   },
   {
    "duration": 12,
    "start_time": "2021-07-08T10:10:09.996Z"
   },
   {
    "duration": 11,
    "start_time": "2021-07-08T10:10:14.222Z"
   },
   {
    "duration": 12,
    "start_time": "2021-07-08T10:10:18.628Z"
   },
   {
    "duration": 11,
    "start_time": "2021-07-08T10:10:23.653Z"
   },
   {
    "duration": 12,
    "start_time": "2021-07-08T10:10:28.614Z"
   },
   {
    "duration": 11,
    "start_time": "2021-07-08T10:10:37.080Z"
   },
   {
    "duration": 11,
    "start_time": "2021-07-08T10:10:41.720Z"
   },
   {
    "duration": 11,
    "start_time": "2021-07-08T10:10:49.429Z"
   },
   {
    "duration": 10,
    "start_time": "2021-07-08T10:11:18.806Z"
   },
   {
    "duration": 13,
    "start_time": "2021-07-08T10:14:34.433Z"
   },
   {
    "duration": 12,
    "start_time": "2021-07-08T10:25:27.131Z"
   },
   {
    "duration": 185,
    "start_time": "2021-07-08T10:25:37.967Z"
   },
   {
    "duration": 8,
    "start_time": "2021-07-08T10:26:33.722Z"
   },
   {
    "duration": 5,
    "start_time": "2021-07-08T10:26:47.206Z"
   },
   {
    "duration": 308,
    "start_time": "2021-07-08T10:30:05.449Z"
   },
   {
    "duration": 188,
    "start_time": "2021-07-08T10:30:29.476Z"
   },
   {
    "duration": 5,
    "start_time": "2021-07-08T10:30:34.200Z"
   },
   {
    "duration": 2049,
    "start_time": "2021-07-08T10:30:44.019Z"
   },
   {
    "duration": 79,
    "start_time": "2021-07-08T10:49:07.751Z"
   },
   {
    "duration": 249,
    "start_time": "2021-07-08T10:49:36.555Z"
   },
   {
    "duration": 185,
    "start_time": "2021-07-08T10:50:18.560Z"
   },
   {
    "duration": 1153,
    "start_time": "2021-07-08T10:50:42.118Z"
   },
   {
    "duration": 2021,
    "start_time": "2021-07-08T10:50:43.273Z"
   },
   {
    "duration": 15,
    "start_time": "2021-07-08T10:50:45.296Z"
   },
   {
    "duration": 39,
    "start_time": "2021-07-08T10:50:45.314Z"
   },
   {
    "duration": 22,
    "start_time": "2021-07-08T10:50:45.355Z"
   },
   {
    "duration": 2,
    "start_time": "2021-07-08T10:50:45.379Z"
   },
   {
    "duration": 44,
    "start_time": "2021-07-08T10:50:45.383Z"
   },
   {
    "duration": 13,
    "start_time": "2021-07-08T10:50:45.430Z"
   },
   {
    "duration": 5,
    "start_time": "2021-07-08T10:50:45.445Z"
   },
   {
    "duration": 46,
    "start_time": "2021-07-08T10:50:45.452Z"
   },
   {
    "duration": 11,
    "start_time": "2021-07-08T10:50:45.500Z"
   },
   {
    "duration": 8,
    "start_time": "2021-07-08T10:50:45.513Z"
   },
   {
    "duration": 9,
    "start_time": "2021-07-08T10:50:45.523Z"
   },
   {
    "duration": 10,
    "start_time": "2021-07-08T10:50:45.534Z"
   },
   {
    "duration": 7,
    "start_time": "2021-07-08T10:50:45.545Z"
   },
   {
    "duration": 7,
    "start_time": "2021-07-08T10:50:45.554Z"
   },
   {
    "duration": 45,
    "start_time": "2021-07-08T10:50:45.563Z"
   },
   {
    "duration": 21,
    "start_time": "2021-07-08T10:50:45.610Z"
   },
   {
    "duration": 10,
    "start_time": "2021-07-08T10:50:45.632Z"
   },
   {
    "duration": 7,
    "start_time": "2021-07-08T10:50:45.643Z"
   },
   {
    "duration": 14,
    "start_time": "2021-07-08T10:50:45.652Z"
   },
   {
    "duration": 26,
    "start_time": "2021-07-08T10:50:45.668Z"
   },
   {
    "duration": 727,
    "start_time": "2021-07-08T10:50:45.700Z"
   },
   {
    "duration": 13,
    "start_time": "2021-07-08T10:50:46.430Z"
   },
   {
    "duration": 4,
    "start_time": "2021-07-08T10:50:46.445Z"
   },
   {
    "duration": 5,
    "start_time": "2021-07-08T10:50:46.451Z"
   },
   {
    "duration": 401,
    "start_time": "2021-07-08T10:50:46.458Z"
   },
   {
    "duration": 41,
    "start_time": "2021-07-08T10:50:46.861Z"
   },
   {
    "duration": 404,
    "start_time": "2021-07-08T10:50:46.904Z"
   },
   {
    "duration": 10,
    "start_time": "2021-07-08T10:50:47.310Z"
   },
   {
    "duration": 15,
    "start_time": "2021-07-08T10:50:47.322Z"
   },
   {
    "duration": 2,
    "start_time": "2021-07-08T10:50:47.339Z"
   },
   {
    "duration": 7,
    "start_time": "2021-07-08T10:50:47.342Z"
   },
   {
    "duration": 7,
    "start_time": "2021-07-08T10:50:47.350Z"
   },
   {
    "duration": 48,
    "start_time": "2021-07-08T10:50:47.359Z"
   },
   {
    "duration": 6,
    "start_time": "2021-07-08T10:50:47.409Z"
   },
   {
    "duration": 5,
    "start_time": "2021-07-08T10:50:47.417Z"
   },
   {
    "duration": 388,
    "start_time": "2021-07-08T10:50:47.423Z"
   },
   {
    "duration": 22,
    "start_time": "2021-07-08T10:50:47.812Z"
   },
   {
    "duration": 4,
    "start_time": "2021-07-08T10:50:47.836Z"
   },
   {
    "duration": 576,
    "start_time": "2021-07-08T10:50:47.841Z"
   },
   {
    "duration": 11,
    "start_time": "2021-07-08T10:50:48.418Z"
   },
   {
    "duration": 670,
    "start_time": "2021-07-08T10:50:48.431Z"
   },
   {
    "duration": 10,
    "start_time": "2021-07-08T10:50:49.111Z"
   },
   {
    "duration": 7,
    "start_time": "2021-07-08T10:50:49.123Z"
   },
   {
    "duration": 2101,
    "start_time": "2021-07-08T10:50:49.131Z"
   },
   {
    "duration": 4,
    "start_time": "2021-07-08T10:50:51.234Z"
   },
   {
    "duration": 18,
    "start_time": "2021-07-08T10:50:51.239Z"
   },
   {
    "duration": 12,
    "start_time": "2021-07-08T10:50:51.258Z"
   },
   {
    "duration": 10,
    "start_time": "2021-07-08T10:50:51.293Z"
   },
   {
    "duration": 1613,
    "start_time": "2021-07-10T14:03:15.842Z"
   },
   {
    "duration": 122058,
    "start_time": "2021-07-10T14:03:17.457Z"
   },
   {
    "duration": 22,
    "start_time": "2021-07-10T14:05:19.519Z"
   },
   {
    "duration": 347,
    "start_time": "2021-07-10T14:05:19.544Z"
   },
   {
    "duration": 24,
    "start_time": "2021-07-10T14:05:19.894Z"
   },
   {
    "duration": 24,
    "start_time": "2021-07-10T14:05:19.920Z"
   },
   {
    "duration": 14,
    "start_time": "2021-07-10T14:05:19.946Z"
   },
   {
    "duration": 5,
    "start_time": "2021-07-10T14:05:19.965Z"
   },
   {
    "duration": 45,
    "start_time": "2021-07-10T14:05:19.974Z"
   },
   {
    "duration": 30,
    "start_time": "2021-07-10T14:05:20.021Z"
   },
   {
    "duration": 19,
    "start_time": "2021-07-10T14:05:20.054Z"
   },
   {
    "duration": 14,
    "start_time": "2021-07-10T14:05:20.076Z"
   },
   {
    "duration": 8,
    "start_time": "2021-07-10T14:05:20.093Z"
   },
   {
    "duration": 14,
    "start_time": "2021-07-10T14:05:20.103Z"
   },
   {
    "duration": 49,
    "start_time": "2021-07-10T14:05:20.119Z"
   },
   {
    "duration": 7,
    "start_time": "2021-07-10T14:05:20.170Z"
   },
   {
    "duration": 30,
    "start_time": "2021-07-10T14:05:20.180Z"
   },
   {
    "duration": 10,
    "start_time": "2021-07-10T14:05:20.213Z"
   },
   {
    "duration": 15,
    "start_time": "2021-07-10T14:05:20.225Z"
   },
   {
    "duration": 70,
    "start_time": "2021-07-10T14:05:20.243Z"
   },
   {
    "duration": 1130,
    "start_time": "2021-07-10T14:05:20.316Z"
   },
   {
    "duration": 61,
    "start_time": "2021-07-10T14:05:21.449Z"
   },
   {
    "duration": 9,
    "start_time": "2021-07-10T14:05:21.520Z"
   },
   {
    "duration": 15,
    "start_time": "2021-07-10T14:05:21.534Z"
   },
   {
    "duration": 724,
    "start_time": "2021-07-10T14:05:21.552Z"
   },
   {
    "duration": 52,
    "start_time": "2021-07-10T14:05:22.280Z"
   },
   {
    "duration": 641,
    "start_time": "2021-07-10T14:05:22.334Z"
   },
   {
    "duration": 35,
    "start_time": "2021-07-10T14:05:22.978Z"
   },
   {
    "duration": 27,
    "start_time": "2021-07-10T14:05:23.015Z"
   },
   {
    "duration": 4,
    "start_time": "2021-07-10T14:05:23.044Z"
   },
   {
    "duration": 15,
    "start_time": "2021-07-10T14:05:23.050Z"
   },
   {
    "duration": 7,
    "start_time": "2021-07-10T14:05:23.068Z"
   },
   {
    "duration": 35,
    "start_time": "2021-07-10T14:05:23.078Z"
   },
   {
    "duration": 22,
    "start_time": "2021-07-10T14:05:23.115Z"
   },
   {
    "duration": 11,
    "start_time": "2021-07-10T14:05:23.139Z"
   },
   {
    "duration": 18,
    "start_time": "2021-07-10T14:05:23.153Z"
   },
   {
    "duration": 628,
    "start_time": "2021-07-10T14:05:23.173Z"
   },
   {
    "duration": 44,
    "start_time": "2021-07-10T14:05:23.803Z"
   },
   {
    "duration": 791,
    "start_time": "2021-07-10T14:05:23.850Z"
   },
   {
    "duration": 9,
    "start_time": "2021-07-10T14:05:24.644Z"
   },
   {
    "duration": 20,
    "start_time": "2021-07-10T14:05:24.656Z"
   },
   {
    "duration": 1088,
    "start_time": "2021-07-10T14:05:24.679Z"
   },
   {
    "duration": 10,
    "start_time": "2021-07-10T14:05:25.769Z"
   },
   {
    "duration": 30,
    "start_time": "2021-07-10T14:05:25.781Z"
   },
   {
    "duration": 2667,
    "start_time": "2021-07-10T14:05:25.814Z"
   },
   {
    "duration": 5,
    "start_time": "2021-07-10T14:05:28.484Z"
   },
   {
    "duration": 26,
    "start_time": "2021-07-10T14:05:28.491Z"
   },
   {
    "duration": 1307,
    "start_time": "2021-07-10T14:05:28.520Z"
   },
   {
    "duration": 94,
    "start_time": "2021-07-10T14:05:29.736Z"
   },
   {
    "duration": 92,
    "start_time": "2021-07-10T14:05:29.740Z"
   },
   {
    "duration": 90,
    "start_time": "2021-07-10T14:05:29.743Z"
   },
   {
    "duration": 87,
    "start_time": "2021-07-10T14:05:29.747Z"
   },
   {
    "duration": 84,
    "start_time": "2021-07-10T14:05:29.752Z"
   },
   {
    "duration": 81,
    "start_time": "2021-07-10T14:05:29.756Z"
   },
   {
    "duration": 80,
    "start_time": "2021-07-10T14:05:29.759Z"
   },
   {
    "duration": 71,
    "start_time": "2021-07-10T14:05:29.769Z"
   },
   {
    "duration": 65,
    "start_time": "2021-07-10T14:05:29.776Z"
   },
   {
    "duration": 63,
    "start_time": "2021-07-10T14:05:29.780Z"
   },
   {
    "duration": 59,
    "start_time": "2021-07-10T14:05:29.785Z"
   },
   {
    "duration": 57,
    "start_time": "2021-07-10T14:05:29.788Z"
   },
   {
    "duration": 56,
    "start_time": "2021-07-10T14:05:29.791Z"
   },
   {
    "duration": 44,
    "start_time": "2021-07-10T14:05:29.804Z"
   },
   {
    "duration": 39,
    "start_time": "2021-07-10T14:05:29.811Z"
   },
   {
    "duration": 36,
    "start_time": "2021-07-10T14:05:29.815Z"
   },
   {
    "duration": 34,
    "start_time": "2021-07-10T14:05:29.819Z"
   },
   {
    "duration": 24,
    "start_time": "2021-07-10T14:05:29.830Z"
   },
   {
    "duration": 20,
    "start_time": "2021-07-10T14:05:29.836Z"
   },
   {
    "duration": 17,
    "start_time": "2021-07-10T14:05:29.840Z"
   },
   {
    "duration": 16,
    "start_time": "2021-07-10T14:05:29.843Z"
   },
   {
    "duration": 13,
    "start_time": "2021-07-10T14:05:29.847Z"
   },
   {
    "duration": 57,
    "start_time": "2021-07-10T14:05:29.852Z"
   },
   {
    "duration": 1468,
    "start_time": "2021-07-10T17:42:05.505Z"
   },
   {
    "duration": 5966,
    "start_time": "2021-07-10T17:42:06.976Z"
   },
   {
    "duration": 8,
    "start_time": "2021-07-10T17:42:12.946Z"
   },
   {
    "duration": 221,
    "start_time": "2021-07-10T17:42:12.958Z"
   },
   {
    "duration": 24,
    "start_time": "2021-07-10T17:42:13.182Z"
   },
   {
    "duration": 21,
    "start_time": "2021-07-10T17:42:13.209Z"
   },
   {
    "duration": 33,
    "start_time": "2021-07-10T17:42:13.233Z"
   },
   {
    "duration": 4,
    "start_time": "2021-07-10T17:42:13.273Z"
   },
   {
    "duration": 41,
    "start_time": "2021-07-10T17:42:13.281Z"
   },
   {
    "duration": 53,
    "start_time": "2021-07-10T17:42:13.326Z"
   },
   {
    "duration": 16,
    "start_time": "2021-07-10T17:42:13.382Z"
   },
   {
    "duration": 11,
    "start_time": "2021-07-10T17:42:13.401Z"
   },
   {
    "duration": 41,
    "start_time": "2021-07-10T17:42:13.414Z"
   },
   {
    "duration": 8,
    "start_time": "2021-07-10T17:42:13.457Z"
   },
   {
    "duration": 45,
    "start_time": "2021-07-10T17:42:13.468Z"
   },
   {
    "duration": 7,
    "start_time": "2021-07-10T17:42:13.516Z"
   },
   {
    "duration": 35,
    "start_time": "2021-07-10T17:42:13.525Z"
   },
   {
    "duration": 11,
    "start_time": "2021-07-10T17:42:13.563Z"
   },
   {
    "duration": 19,
    "start_time": "2021-07-10T17:42:13.577Z"
   },
   {
    "duration": 18,
    "start_time": "2021-07-10T17:42:13.599Z"
   },
   {
    "duration": 1240,
    "start_time": "2021-07-10T17:42:13.656Z"
   },
   {
    "duration": 15,
    "start_time": "2021-07-10T17:42:14.899Z"
   },
   {
    "duration": 8,
    "start_time": "2021-07-10T17:42:14.921Z"
   },
   {
    "duration": 29,
    "start_time": "2021-07-10T17:42:14.932Z"
   },
   {
    "duration": 830,
    "start_time": "2021-07-10T17:42:14.964Z"
   },
   {
    "duration": 34,
    "start_time": "2021-07-10T17:42:15.798Z"
   },
   {
    "duration": 727,
    "start_time": "2021-07-10T17:42:15.835Z"
   },
   {
    "duration": 11,
    "start_time": "2021-07-10T17:42:16.565Z"
   },
   {
    "duration": 36,
    "start_time": "2021-07-10T17:42:16.579Z"
   },
   {
    "duration": 4,
    "start_time": "2021-07-10T17:42:16.618Z"
   },
   {
    "duration": 6,
    "start_time": "2021-07-10T17:42:16.658Z"
   },
   {
    "duration": 9,
    "start_time": "2021-07-10T17:42:16.667Z"
   },
   {
    "duration": 9,
    "start_time": "2021-07-10T17:42:16.679Z"
   },
   {
    "duration": 16,
    "start_time": "2021-07-10T17:42:16.691Z"
   },
   {
    "duration": 47,
    "start_time": "2021-07-10T17:42:16.710Z"
   },
   {
    "duration": 12,
    "start_time": "2021-07-10T17:42:16.760Z"
   },
   {
    "duration": 576,
    "start_time": "2021-07-10T17:42:16.774Z"
   },
   {
    "duration": 29,
    "start_time": "2021-07-10T17:42:17.356Z"
   },
   {
    "duration": 777,
    "start_time": "2021-07-10T17:42:17.387Z"
   },
   {
    "duration": 9,
    "start_time": "2021-07-10T17:42:18.166Z"
   },
   {
    "duration": 14,
    "start_time": "2021-07-10T17:42:18.177Z"
   },
   {
    "duration": 1003,
    "start_time": "2021-07-10T17:42:18.193Z"
   },
   {
    "duration": 12,
    "start_time": "2021-07-10T17:42:19.199Z"
   },
   {
    "duration": 15,
    "start_time": "2021-07-10T17:42:19.213Z"
   },
   {
    "duration": 2545,
    "start_time": "2021-07-10T17:42:19.231Z"
   },
   {
    "duration": 5,
    "start_time": "2021-07-10T17:42:21.778Z"
   },
   {
    "duration": 16,
    "start_time": "2021-07-10T17:42:21.785Z"
   },
   {
    "duration": 1597,
    "start_time": "2021-07-10T17:42:34.928Z"
   },
   {
    "duration": 50441,
    "start_time": "2021-07-10T17:42:53.501Z"
   },
   {
    "duration": 1218,
    "start_time": "2021-07-10T18:27:43.329Z"
   },
   {
    "duration": 2124,
    "start_time": "2021-07-10T18:27:56.691Z"
   },
   {
    "duration": 32,
    "start_time": "2021-07-10T18:28:17.304Z"
   },
   {
    "duration": 6,
    "start_time": "2021-07-10T18:29:23.721Z"
   },
   {
    "duration": 2931,
    "start_time": "2021-07-10T18:29:24.901Z"
   },
   {
    "duration": 4,
    "start_time": "2021-07-10T18:29:29.603Z"
   },
   {
    "duration": 222,
    "start_time": "2021-07-10T18:29:30.636Z"
   },
   {
    "duration": 21,
    "start_time": "2021-07-10T18:29:33.747Z"
   },
   {
    "duration": 20,
    "start_time": "2021-07-10T18:29:37.621Z"
   },
   {
    "duration": 15,
    "start_time": "2021-07-10T18:29:39.995Z"
   },
   {
    "duration": 4,
    "start_time": "2021-07-10T18:29:43.953Z"
   },
   {
    "duration": 44,
    "start_time": "2021-07-10T18:29:44.978Z"
   },
   {
    "duration": 27,
    "start_time": "2021-07-10T18:29:48.312Z"
   },
   {
    "duration": 30,
    "start_time": "2021-07-10T18:29:52.415Z"
   },
   {
    "duration": 26,
    "start_time": "2021-07-10T18:30:06.779Z"
   },
   {
    "duration": 83,
    "start_time": "2021-07-10T18:30:40.011Z"
   },
   {
    "duration": 6,
    "start_time": "2021-07-10T18:30:54.783Z"
   },
   {
    "duration": 25,
    "start_time": "2021-07-10T18:31:01.591Z"
   },
   {
    "duration": 25,
    "start_time": "2021-07-10T18:31:13.681Z"
   },
   {
    "duration": 23,
    "start_time": "2021-07-10T18:31:25.276Z"
   },
   {
    "duration": 252,
    "start_time": "2021-07-10T18:33:17.941Z"
   },
   {
    "duration": 38,
    "start_time": "2021-07-10T18:33:23.116Z"
   },
   {
    "duration": 36,
    "start_time": "2021-07-10T18:33:33.012Z"
   },
   {
    "duration": 4,
    "start_time": "2021-07-10T18:40:01.329Z"
   },
   {
    "duration": 3015,
    "start_time": "2021-07-10T18:40:01.971Z"
   },
   {
    "duration": 5,
    "start_time": "2021-07-10T18:40:05.766Z"
   },
   {
    "duration": 217,
    "start_time": "2021-07-10T18:40:06.391Z"
   },
   {
    "duration": 20,
    "start_time": "2021-07-10T18:40:08.363Z"
   },
   {
    "duration": 21,
    "start_time": "2021-07-10T18:40:09.482Z"
   },
   {
    "duration": 14,
    "start_time": "2021-07-10T18:40:11.170Z"
   },
   {
    "duration": 4,
    "start_time": "2021-07-10T18:40:15.765Z"
   },
   {
    "duration": 34,
    "start_time": "2021-07-10T18:40:16.205Z"
   },
   {
    "duration": 28,
    "start_time": "2021-07-10T18:41:15.412Z"
   },
   {
    "duration": 278,
    "start_time": "2021-07-10T18:41:28.065Z"
   },
   {
    "duration": 26,
    "start_time": "2021-07-10T18:41:32.281Z"
   },
   {
    "duration": 28,
    "start_time": "2021-07-10T18:41:39.435Z"
   },
   {
    "duration": 26,
    "start_time": "2021-07-10T18:41:50.263Z"
   },
   {
    "duration": 23,
    "start_time": "2021-07-10T18:42:24.812Z"
   },
   {
    "duration": 23,
    "start_time": "2021-07-10T18:42:38.491Z"
   },
   {
    "duration": 23,
    "start_time": "2021-07-10T18:42:52.891Z"
   },
   {
    "duration": 22,
    "start_time": "2021-07-10T18:43:01.923Z"
   },
   {
    "duration": 26,
    "start_time": "2021-07-10T18:43:11.397Z"
   },
   {
    "duration": 22,
    "start_time": "2021-07-10T18:43:19.939Z"
   },
   {
    "duration": 25,
    "start_time": "2021-07-10T18:43:33.182Z"
   },
   {
    "duration": 26,
    "start_time": "2021-07-10T18:43:47.950Z"
   },
   {
    "duration": 30,
    "start_time": "2021-07-10T18:49:17.124Z"
   },
   {
    "duration": 26,
    "start_time": "2021-07-10T18:49:33.044Z"
   },
   {
    "duration": 26,
    "start_time": "2021-07-10T18:49:51.646Z"
   },
   {
    "duration": 25,
    "start_time": "2021-07-10T18:49:57.783Z"
   },
   {
    "duration": 23,
    "start_time": "2021-07-10T18:50:04.723Z"
   },
   {
    "duration": 23,
    "start_time": "2021-07-10T18:51:03.979Z"
   },
   {
    "duration": 24,
    "start_time": "2021-07-10T18:53:32.848Z"
   },
   {
    "duration": 12,
    "start_time": "2021-07-10T18:53:38.837Z"
   },
   {
    "duration": 12,
    "start_time": "2021-07-10T18:53:41.181Z"
   },
   {
    "duration": 6,
    "start_time": "2021-07-10T18:53:43.479Z"
   },
   {
    "duration": 8,
    "start_time": "2021-07-10T18:53:46.614Z"
   },
   {
    "duration": 45,
    "start_time": "2021-07-10T18:53:47.721Z"
   },
   {
    "duration": 6,
    "start_time": "2021-07-10T18:53:48.294Z"
   },
   {
    "duration": 7,
    "start_time": "2021-07-10T18:53:48.703Z"
   },
   {
    "duration": 6,
    "start_time": "2021-07-10T18:58:21.677Z"
   },
   {
    "duration": 4,
    "start_time": "2021-07-10T18:58:22.407Z"
   },
   {
    "duration": 4,
    "start_time": "2021-07-10T18:58:23.144Z"
   },
   {
    "duration": 3,
    "start_time": "2021-07-10T18:58:23.627Z"
   },
   {
    "duration": 15,
    "start_time": "2021-07-10T18:58:38.958Z"
   },
   {
    "duration": 970,
    "start_time": "2021-07-10T18:58:40.515Z"
   },
   {
    "duration": 1489,
    "start_time": "2021-07-11T07:07:50.310Z"
   },
   {
    "duration": 4629,
    "start_time": "2021-07-11T07:07:51.802Z"
   },
   {
    "duration": 5,
    "start_time": "2021-07-11T07:07:56.434Z"
   },
   {
    "duration": 283,
    "start_time": "2021-07-11T07:07:56.441Z"
   },
   {
    "duration": 27,
    "start_time": "2021-07-11T07:07:59.641Z"
   },
   {
    "duration": 21,
    "start_time": "2021-07-11T07:08:01.707Z"
   },
   {
    "duration": 15,
    "start_time": "2021-07-11T07:08:03.727Z"
   },
   {
    "duration": 4,
    "start_time": "2021-07-11T07:08:15.185Z"
   },
   {
    "duration": 35,
    "start_time": "2021-07-11T07:08:15.884Z"
   },
   {
    "duration": 31,
    "start_time": "2021-07-11T07:08:25.718Z"
   },
   {
    "duration": 24,
    "start_time": "2021-07-11T07:08:41.490Z"
   },
   {
    "duration": 24,
    "start_time": "2021-07-11T07:08:45.813Z"
   },
   {
    "duration": 13,
    "start_time": "2021-07-11T07:12:43.213Z"
   },
   {
    "duration": 12,
    "start_time": "2021-07-11T07:12:44.820Z"
   },
   {
    "duration": 6,
    "start_time": "2021-07-11T07:12:47.277Z"
   },
   {
    "duration": 7,
    "start_time": "2021-07-11T07:12:50.102Z"
   },
   {
    "duration": 3,
    "start_time": "2021-07-11T07:12:53.697Z"
   },
   {
    "duration": 4,
    "start_time": "2021-07-11T07:12:54.167Z"
   },
   {
    "duration": 3,
    "start_time": "2021-07-11T07:12:54.579Z"
   },
   {
    "duration": 8,
    "start_time": "2021-07-11T07:12:56.982Z"
   },
   {
    "duration": 20,
    "start_time": "2021-07-11T07:12:57.461Z"
   },
   {
    "duration": 15,
    "start_time": "2021-07-11T07:13:01.871Z"
   },
   {
    "duration": 1069,
    "start_time": "2021-07-11T07:13:02.578Z"
   },
   {
    "duration": 12,
    "start_time": "2021-07-11T07:15:03.833Z"
   },
   {
    "duration": 7,
    "start_time": "2021-07-11T07:15:04.426Z"
   },
   {
    "duration": 5,
    "start_time": "2021-07-11T07:15:05.010Z"
   },
   {
    "duration": 670,
    "start_time": "2021-07-11T07:15:07.667Z"
   },
   {
    "duration": 33,
    "start_time": "2021-07-11T07:15:14.115Z"
   },
   {
    "duration": 619,
    "start_time": "2021-07-11T07:15:15.012Z"
   },
   {
    "duration": 12,
    "start_time": "2021-07-11T07:15:19.018Z"
   },
   {
    "duration": 27,
    "start_time": "2021-07-11T07:15:21.738Z"
   },
   {
    "duration": 4,
    "start_time": "2021-07-11T07:15:23.372Z"
   },
   {
    "duration": 5,
    "start_time": "2021-07-11T07:15:23.989Z"
   },
   {
    "duration": 6,
    "start_time": "2021-07-11T07:15:24.712Z"
   },
   {
    "duration": 9,
    "start_time": "2021-07-11T07:15:28.646Z"
   },
   {
    "duration": 14,
    "start_time": "2021-07-11T07:15:31.200Z"
   },
   {
    "duration": 34,
    "start_time": "2021-07-11T07:15:31.217Z"
   },
   {
    "duration": 8,
    "start_time": "2021-07-11T07:15:32.927Z"
   },
   {
    "duration": 532,
    "start_time": "2021-07-11T07:15:36.851Z"
   },
   {
    "duration": 24,
    "start_time": "2021-07-11T07:16:47.758Z"
   },
   {
    "duration": 587,
    "start_time": "2021-07-11T07:16:50.450Z"
   },
   {
    "duration": 8,
    "start_time": "2021-07-11T07:17:05.615Z"
   },
   {
    "duration": 15,
    "start_time": "2021-07-11T07:17:06.790Z"
   },
   {
    "duration": 5,
    "start_time": "2021-07-11T07:17:08.428Z"
   },
   {
    "duration": 6,
    "start_time": "2021-07-11T07:17:08.882Z"
   },
   {
    "duration": 529,
    "start_time": "2021-07-11T07:17:09.824Z"
   },
   {
    "duration": 30,
    "start_time": "2021-07-11T07:18:24.236Z"
   },
   {
    "duration": 678,
    "start_time": "2021-07-11T07:18:25.487Z"
   },
   {
    "duration": 8,
    "start_time": "2021-07-11T07:18:32.678Z"
   },
   {
    "duration": 16,
    "start_time": "2021-07-11T07:18:34.668Z"
   },
   {
    "duration": 5,
    "start_time": "2021-07-11T07:18:35.356Z"
   },
   {
    "duration": 6,
    "start_time": "2021-07-11T07:18:36.122Z"
   },
   {
    "duration": 506,
    "start_time": "2021-07-11T07:18:38.865Z"
   },
   {
    "duration": 510,
    "start_time": "2021-07-11T07:18:44.867Z"
   },
   {
    "duration": 25,
    "start_time": "2021-07-11T07:18:50.151Z"
   },
   {
    "duration": 586,
    "start_time": "2021-07-11T07:18:52.096Z"
   },
   {
    "duration": 5,
    "start_time": "2021-07-11T07:19:11.262Z"
   },
   {
    "duration": 3323,
    "start_time": "2021-07-11T07:19:11.273Z"
   },
   {
    "duration": 4,
    "start_time": "2021-07-11T07:19:14.599Z"
   },
   {
    "duration": 278,
    "start_time": "2021-07-11T07:19:14.605Z"
   },
   {
    "duration": 20,
    "start_time": "2021-07-11T07:19:14.886Z"
   },
   {
    "duration": 22,
    "start_time": "2021-07-11T07:19:14.908Z"
   },
   {
    "duration": 17,
    "start_time": "2021-07-11T07:19:14.932Z"
   },
   {
    "duration": 4,
    "start_time": "2021-07-11T07:19:14.951Z"
   },
   {
    "duration": 68,
    "start_time": "2021-07-11T07:19:14.959Z"
   },
   {
    "duration": 26,
    "start_time": "2021-07-11T07:19:15.030Z"
   },
   {
    "duration": 42,
    "start_time": "2021-07-11T07:19:15.058Z"
   },
   {
    "duration": 28,
    "start_time": "2021-07-11T07:19:15.103Z"
   },
   {
    "duration": 19,
    "start_time": "2021-07-11T07:19:15.134Z"
   },
   {
    "duration": 12,
    "start_time": "2021-07-11T07:19:15.156Z"
   },
   {
    "duration": 19,
    "start_time": "2021-07-11T07:19:15.170Z"
   },
   {
    "duration": 8,
    "start_time": "2021-07-11T07:19:15.210Z"
   },
   {
    "duration": 4,
    "start_time": "2021-07-11T07:19:15.220Z"
   },
   {
    "duration": 16,
    "start_time": "2021-07-11T07:19:15.226Z"
   },
   {
    "duration": 7,
    "start_time": "2021-07-11T07:19:15.244Z"
   },
   {
    "duration": 12,
    "start_time": "2021-07-11T07:19:15.254Z"
   },
   {
    "duration": 42,
    "start_time": "2021-07-11T07:19:15.268Z"
   },
   {
    "duration": 16,
    "start_time": "2021-07-11T07:19:15.313Z"
   },
   {
    "duration": 1115,
    "start_time": "2021-07-11T07:19:15.331Z"
   },
   {
    "duration": 12,
    "start_time": "2021-07-11T07:19:16.451Z"
   },
   {
    "duration": 7,
    "start_time": "2021-07-11T07:19:16.466Z"
   },
   {
    "duration": 33,
    "start_time": "2021-07-11T07:19:16.475Z"
   },
   {
    "duration": 625,
    "start_time": "2021-07-11T07:19:16.511Z"
   },
   {
    "duration": 31,
    "start_time": "2021-07-11T07:19:17.139Z"
   },
   {
    "duration": 632,
    "start_time": "2021-07-11T07:19:17.172Z"
   },
   {
    "duration": 13,
    "start_time": "2021-07-11T07:19:17.810Z"
   },
   {
    "duration": 29,
    "start_time": "2021-07-11T07:19:17.826Z"
   },
   {
    "duration": 4,
    "start_time": "2021-07-11T07:19:17.858Z"
   },
   {
    "duration": 46,
    "start_time": "2021-07-11T07:19:17.865Z"
   },
   {
    "duration": 9,
    "start_time": "2021-07-11T07:19:17.914Z"
   },
   {
    "duration": 11,
    "start_time": "2021-07-11T07:19:17.926Z"
   },
   {
    "duration": 16,
    "start_time": "2021-07-11T07:19:17.940Z"
   },
   {
    "duration": 8,
    "start_time": "2021-07-11T07:19:17.959Z"
   },
   {
    "duration": 8,
    "start_time": "2021-07-11T07:19:18.008Z"
   },
   {
    "duration": 521,
    "start_time": "2021-07-11T07:23:08.191Z"
   },
   {
    "duration": 27,
    "start_time": "2021-07-11T07:23:19.245Z"
   },
   {
    "duration": 601,
    "start_time": "2021-07-11T07:23:20.532Z"
   },
   {
    "duration": 8,
    "start_time": "2021-07-11T07:23:37.058Z"
   },
   {
    "duration": 16,
    "start_time": "2021-07-11T07:23:38.295Z"
   },
   {
    "duration": 773,
    "start_time": "2021-07-11T07:23:39.111Z"
   },
   {
    "duration": 10,
    "start_time": "2021-07-11T07:23:47.077Z"
   },
   {
    "duration": 7,
    "start_time": "2021-07-11T07:23:48.156Z"
   },
   {
    "duration": 1537,
    "start_time": "2021-07-11T07:24:01.850Z"
   },
   {
    "duration": 145,
    "start_time": "2021-07-11T07:24:23.096Z"
   },
   {
    "duration": 7,
    "start_time": "2021-07-11T07:24:32.139Z"
   },
   {
    "duration": 1493,
    "start_time": "2021-07-11T07:24:35.184Z"
   },
   {
    "duration": 5,
    "start_time": "2021-07-11T07:24:48.672Z"
   },
   {
    "duration": 12,
    "start_time": "2021-07-11T07:24:49.286Z"
   },
   {
    "duration": 1473,
    "start_time": "2021-07-11T07:24:57.565Z"
   },
   {
    "duration": 11,
    "start_time": "2021-07-11T07:25:06.652Z"
   },
   {
    "duration": 2408,
    "start_time": "2021-07-11T07:25:16.738Z"
   },
   {
    "duration": 1976,
    "start_time": "2021-07-11T07:29:50.618Z"
   },
   {
    "duration": 35,
    "start_time": "2021-07-11T07:32:08.783Z"
   },
   {
    "duration": 4,
    "start_time": "2021-07-11T07:32:09.921Z"
   },
   {
    "duration": 5,
    "start_time": "2021-07-11T07:32:10.754Z"
   },
   {
    "duration": 12,
    "start_time": "2021-07-11T07:32:11.403Z"
   },
   {
    "duration": 694,
    "start_time": "2021-07-11T07:32:21.315Z"
   },
   {
    "duration": 25,
    "start_time": "2021-07-11T07:32:31.350Z"
   },
   {
    "duration": 24,
    "start_time": "2021-07-11T07:32:32.327Z"
   },
   {
    "duration": 23,
    "start_time": "2021-07-11T07:32:32.830Z"
   },
   {
    "duration": 520,
    "start_time": "2021-07-11T07:32:37.738Z"
   },
   {
    "duration": 27,
    "start_time": "2021-07-11T07:32:51.416Z"
   },
   {
    "duration": 499,
    "start_time": "2021-07-11T07:33:10.212Z"
   },
   {
    "duration": 27,
    "start_time": "2021-07-11T07:33:37.450Z"
   },
   {
    "duration": 29,
    "start_time": "2021-07-11T07:34:21.731Z"
   },
   {
    "duration": 31,
    "start_time": "2021-07-11T07:34:29.178Z"
   },
   {
    "duration": 28,
    "start_time": "2021-07-11T07:34:50.680Z"
   },
   {
    "duration": 31,
    "start_time": "2021-07-11T07:35:08.102Z"
   },
   {
    "duration": 377,
    "start_time": "2021-07-11T07:35:23.621Z"
   },
   {
    "duration": 9,
    "start_time": "2021-07-11T07:35:32.595Z"
   },
   {
    "duration": 8,
    "start_time": "2021-07-11T07:35:33.357Z"
   },
   {
    "duration": 18,
    "start_time": "2021-07-11T07:35:37.939Z"
   },
   {
    "duration": 12,
    "start_time": "2021-07-11T07:35:40.579Z"
   },
   {
    "duration": 336,
    "start_time": "2021-07-11T07:35:41.282Z"
   },
   {
    "duration": 636,
    "start_time": "2021-07-11T08:11:07.332Z"
   },
   {
    "duration": 73,
    "start_time": "2021-07-11T08:13:20.294Z"
   },
   {
    "duration": 3,
    "start_time": "2021-07-11T08:13:37.237Z"
   },
   {
    "duration": 4,
    "start_time": "2021-07-11T08:14:09.358Z"
   },
   {
    "duration": 4,
    "start_time": "2021-07-11T08:14:33.487Z"
   },
   {
    "duration": 361,
    "start_time": "2021-07-11T08:14:38.452Z"
   },
   {
    "duration": 1106,
    "start_time": "2021-07-11T08:15:17.046Z"
   },
   {
    "duration": 698,
    "start_time": "2021-07-11T08:15:37.076Z"
   },
   {
    "duration": 515,
    "start_time": "2021-07-11T08:17:38.251Z"
   },
   {
    "duration": 5,
    "start_time": "2021-07-11T08:18:46.892Z"
   },
   {
    "duration": 3561,
    "start_time": "2021-07-11T08:18:46.900Z"
   },
   {
    "duration": 3,
    "start_time": "2021-07-11T08:18:50.465Z"
   },
   {
    "duration": 282,
    "start_time": "2021-07-11T08:18:50.471Z"
   },
   {
    "duration": 20,
    "start_time": "2021-07-11T08:18:50.756Z"
   },
   {
    "duration": 32,
    "start_time": "2021-07-11T08:18:50.779Z"
   },
   {
    "duration": 21,
    "start_time": "2021-07-11T08:18:50.815Z"
   },
   {
    "duration": 5,
    "start_time": "2021-07-11T08:18:50.839Z"
   },
   {
    "duration": 64,
    "start_time": "2021-07-11T08:18:50.846Z"
   },
   {
    "duration": 26,
    "start_time": "2021-07-11T08:18:50.913Z"
   },
   {
    "duration": 26,
    "start_time": "2021-07-11T08:18:50.942Z"
   },
   {
    "duration": 52,
    "start_time": "2021-07-11T08:18:50.970Z"
   },
   {
    "duration": 13,
    "start_time": "2021-07-11T08:18:51.026Z"
   },
   {
    "duration": 14,
    "start_time": "2021-07-11T08:18:51.042Z"
   },
   {
    "duration": 11,
    "start_time": "2021-07-11T08:18:51.058Z"
   },
   {
    "duration": 11,
    "start_time": "2021-07-11T08:18:51.108Z"
   },
   {
    "duration": 7,
    "start_time": "2021-07-11T08:18:51.121Z"
   },
   {
    "duration": 6,
    "start_time": "2021-07-11T08:18:51.131Z"
   },
   {
    "duration": 4,
    "start_time": "2021-07-11T08:18:51.144Z"
   },
   {
    "duration": 27,
    "start_time": "2021-07-11T08:18:51.151Z"
   },
   {
    "duration": 40,
    "start_time": "2021-07-11T08:18:51.181Z"
   },
   {
    "duration": 19,
    "start_time": "2021-07-11T08:18:51.225Z"
   },
   {
    "duration": 1063,
    "start_time": "2021-07-11T08:18:51.248Z"
   },
   {
    "duration": 13,
    "start_time": "2021-07-11T08:18:52.314Z"
   },
   {
    "duration": 6,
    "start_time": "2021-07-11T08:18:52.329Z"
   },
   {
    "duration": 6,
    "start_time": "2021-07-11T08:18:52.337Z"
   },
   {
    "duration": 616,
    "start_time": "2021-07-11T08:18:52.346Z"
   },
   {
    "duration": 45,
    "start_time": "2021-07-11T08:18:52.964Z"
   },
   {
    "duration": 629,
    "start_time": "2021-07-11T08:18:53.011Z"
   },
   {
    "duration": 11,
    "start_time": "2021-07-11T08:18:53.642Z"
   },
   {
    "duration": 56,
    "start_time": "2021-07-11T08:18:53.655Z"
   },
   {
    "duration": 4,
    "start_time": "2021-07-11T08:18:53.713Z"
   },
   {
    "duration": 7,
    "start_time": "2021-07-11T08:18:53.719Z"
   },
   {
    "duration": 8,
    "start_time": "2021-07-11T08:18:53.729Z"
   },
   {
    "duration": 9,
    "start_time": "2021-07-11T08:19:08.572Z"
   },
   {
    "duration": 22,
    "start_time": "2021-07-11T08:19:10.649Z"
   },
   {
    "duration": 6,
    "start_time": "2021-07-11T08:19:11.386Z"
   },
   {
    "duration": 7,
    "start_time": "2021-07-11T08:19:13.242Z"
   },
   {
    "duration": 609,
    "start_time": "2021-07-11T08:19:14.549Z"
   },
   {
    "duration": 22,
    "start_time": "2021-07-11T08:19:43.530Z"
   },
   {
    "duration": 354,
    "start_time": "2021-07-11T08:22:39.684Z"
   },
   {
    "duration": 31,
    "start_time": "2021-07-11T08:22:49.028Z"
   },
   {
    "duration": 23,
    "start_time": "2021-07-11T08:23:05.244Z"
   },
   {
    "duration": 24,
    "start_time": "2021-07-11T08:23:13.216Z"
   },
   {
    "duration": 7,
    "start_time": "2021-07-11T08:23:19.924Z"
   },
   {
    "duration": 120,
    "start_time": "2021-07-11T08:23:32.130Z"
   },
   {
    "duration": 25,
    "start_time": "2021-07-11T08:23:34.178Z"
   },
   {
    "duration": 7,
    "start_time": "2021-07-11T08:23:37.595Z"
   },
   {
    "duration": 10,
    "start_time": "2021-07-11T08:23:45.972Z"
   },
   {
    "duration": 511,
    "start_time": "2021-07-11T08:23:55.638Z"
   },
   {
    "duration": 7,
    "start_time": "2021-07-11T08:24:14.807Z"
   },
   {
    "duration": 10,
    "start_time": "2021-07-11T08:24:17.862Z"
   },
   {
    "duration": 521,
    "start_time": "2021-07-11T08:24:21.080Z"
   },
   {
    "duration": 21,
    "start_time": "2021-07-11T08:25:12.329Z"
   },
   {
    "duration": 8,
    "start_time": "2021-07-11T08:25:16.621Z"
   },
   {
    "duration": 350,
    "start_time": "2021-07-11T08:25:35.331Z"
   },
   {
    "duration": 9,
    "start_time": "2021-07-11T08:25:42.569Z"
   },
   {
    "duration": 23,
    "start_time": "2021-07-11T08:25:59.285Z"
   },
   {
    "duration": 21,
    "start_time": "2021-07-11T08:26:20.954Z"
   },
   {
    "duration": 7,
    "start_time": "2021-07-11T08:26:28.088Z"
   },
   {
    "duration": 10,
    "start_time": "2021-07-11T08:26:30.821Z"
   },
   {
    "duration": 517,
    "start_time": "2021-07-11T08:26:33.847Z"
   },
   {
    "duration": 24,
    "start_time": "2021-07-11T08:27:07.049Z"
   },
   {
    "duration": 618,
    "start_time": "2021-07-11T08:27:08.006Z"
   },
   {
    "duration": 8,
    "start_time": "2021-07-11T08:27:49.175Z"
   },
   {
    "duration": 17,
    "start_time": "2021-07-11T08:27:49.784Z"
   },
   {
    "duration": 382,
    "start_time": "2021-07-11T08:27:51.075Z"
   },
   {
    "duration": 8,
    "start_time": "2021-07-11T08:28:01.462Z"
   },
   {
    "duration": 15,
    "start_time": "2021-07-11T08:28:02.258Z"
   },
   {
    "duration": 759,
    "start_time": "2021-07-11T08:28:03.098Z"
   },
   {
    "duration": 7,
    "start_time": "2021-07-11T08:28:53.231Z"
   },
   {
    "duration": 14,
    "start_time": "2021-07-11T08:28:54.901Z"
   },
   {
    "duration": 675,
    "start_time": "2021-07-11T08:28:55.522Z"
   },
   {
    "duration": 9,
    "start_time": "2021-07-11T08:29:17.263Z"
   },
   {
    "duration": 19,
    "start_time": "2021-07-11T08:29:17.874Z"
   },
   {
    "duration": 1008,
    "start_time": "2021-07-11T08:29:18.561Z"
   },
   {
    "duration": 14,
    "start_time": "2021-07-11T08:29:36.354Z"
   },
   {
    "duration": 825,
    "start_time": "2021-07-11T08:29:36.998Z"
   },
   {
    "duration": 10,
    "start_time": "2021-07-11T08:31:19.638Z"
   },
   {
    "duration": 13,
    "start_time": "2021-07-11T08:31:20.725Z"
   },
   {
    "duration": 1574,
    "start_time": "2021-07-11T08:31:22.220Z"
   },
   {
    "duration": 5,
    "start_time": "2021-07-11T08:31:39.743Z"
   },
   {
    "duration": 11,
    "start_time": "2021-07-11T08:31:40.493Z"
   },
   {
    "duration": 304130,
    "start_time": "2021-07-11T08:32:10.328Z"
   },
   {
    "duration": 1492,
    "start_time": "2021-07-11T08:38:31.169Z"
   },
   {
    "duration": 124,
    "start_time": "2021-07-11T08:42:52.618Z"
   },
   {
    "duration": 130,
    "start_time": "2021-07-11T08:43:08.365Z"
   },
   {
    "duration": 129,
    "start_time": "2021-07-11T08:43:27.034Z"
   },
   {
    "duration": 1466,
    "start_time": "2021-07-11T08:43:52.062Z"
   },
   {
    "duration": 10272,
    "start_time": "2021-07-11T08:44:02.835Z"
   },
   {
    "duration": 10138,
    "start_time": "2021-07-11T08:44:28.412Z"
   },
   {
    "duration": 12117,
    "start_time": "2021-07-11T08:45:06.974Z"
   },
   {
    "duration": 10055,
    "start_time": "2021-07-11T08:45:40.329Z"
   },
   {
    "duration": 2426,
    "start_time": "2021-07-11T08:48:34.502Z"
   },
   {
    "duration": 34,
    "start_time": "2021-07-11T08:49:08.261Z"
   },
   {
    "duration": 4,
    "start_time": "2021-07-11T08:49:09.740Z"
   },
   {
    "duration": 6,
    "start_time": "2021-07-11T08:49:10.359Z"
   },
   {
    "duration": 12,
    "start_time": "2021-07-11T08:49:11.121Z"
   },
   {
    "duration": 671,
    "start_time": "2021-07-11T08:49:26.081Z"
   },
   {
    "duration": 25,
    "start_time": "2021-07-11T08:50:33.782Z"
   },
   {
    "duration": 25,
    "start_time": "2021-07-11T08:50:34.570Z"
   },
   {
    "duration": 23,
    "start_time": "2021-07-11T08:50:36.606Z"
   },
   {
    "duration": 518,
    "start_time": "2021-07-11T08:50:37.191Z"
   },
   {
    "duration": 33,
    "start_time": "2021-07-11T08:51:19.256Z"
   },
   {
    "duration": 392,
    "start_time": "2021-07-11T08:51:24.352Z"
   },
   {
    "duration": 9,
    "start_time": "2021-07-11T08:51:34.650Z"
   },
   {
    "duration": 9,
    "start_time": "2021-07-11T08:51:35.251Z"
   },
   {
    "duration": 15,
    "start_time": "2021-07-11T08:51:37.897Z"
   },
   {
    "duration": 13,
    "start_time": "2021-07-11T08:51:38.730Z"
   },
   {
    "duration": 322,
    "start_time": "2021-07-11T08:51:39.726Z"
   },
   {
    "duration": 16,
    "start_time": "2021-07-11T08:52:11.002Z"
   },
   {
    "duration": 5,
    "start_time": "2021-07-11T08:52:14.231Z"
   },
   {
    "duration": 6,
    "start_time": "2021-07-11T08:52:16.955Z"
   },
   {
    "duration": 513,
    "start_time": "2021-07-11T08:52:20.425Z"
   },
   {
    "duration": 520,
    "start_time": "2021-07-11T08:52:25.141Z"
   },
   {
    "duration": 2091,
    "start_time": "2021-07-11T08:52:48.039Z"
   },
   {
    "duration": 2103,
    "start_time": "2021-07-11T08:53:50.436Z"
   },
   {
    "duration": 29,
    "start_time": "2021-07-11T08:54:10.810Z"
   },
   {
    "duration": 4,
    "start_time": "2021-07-11T08:54:48.045Z"
   },
   {
    "duration": 3473,
    "start_time": "2021-07-11T08:54:48.052Z"
   },
   {
    "duration": 4,
    "start_time": "2021-07-11T08:54:51.528Z"
   },
   {
    "duration": 272,
    "start_time": "2021-07-11T08:54:51.534Z"
   },
   {
    "duration": 19,
    "start_time": "2021-07-11T08:54:51.809Z"
   },
   {
    "duration": 21,
    "start_time": "2021-07-11T08:54:51.831Z"
   },
   {
    "duration": 14,
    "start_time": "2021-07-11T08:54:51.855Z"
   },
   {
    "duration": 4,
    "start_time": "2021-07-11T08:54:51.872Z"
   },
   {
    "duration": 36,
    "start_time": "2021-07-11T08:54:51.910Z"
   },
   {
    "duration": 31,
    "start_time": "2021-07-11T08:54:51.948Z"
   },
   {
    "duration": 45,
    "start_time": "2021-07-11T08:54:51.981Z"
   },
   {
    "duration": 22,
    "start_time": "2021-07-11T08:54:52.029Z"
   },
   {
    "duration": 11,
    "start_time": "2021-07-11T08:54:52.054Z"
   },
   {
    "duration": 41,
    "start_time": "2021-07-11T08:54:52.068Z"
   },
   {
    "duration": 6,
    "start_time": "2021-07-11T08:54:52.111Z"
   },
   {
    "duration": 10,
    "start_time": "2021-07-11T08:54:52.120Z"
   },
   {
    "duration": 4,
    "start_time": "2021-07-11T08:54:52.133Z"
   },
   {
    "duration": 10,
    "start_time": "2021-07-11T08:54:52.140Z"
   },
   {
    "duration": 6,
    "start_time": "2021-07-11T08:54:52.157Z"
   },
   {
    "duration": 44,
    "start_time": "2021-07-11T08:54:52.167Z"
   },
   {
    "duration": 22,
    "start_time": "2021-07-11T08:54:52.214Z"
   },
   {
    "duration": 22,
    "start_time": "2021-07-11T08:54:52.239Z"
   },
   {
    "duration": 1100,
    "start_time": "2021-07-11T08:54:52.264Z"
   },
   {
    "duration": 12,
    "start_time": "2021-07-11T08:54:53.366Z"
   },
   {
    "duration": 9,
    "start_time": "2021-07-11T08:54:53.380Z"
   },
   {
    "duration": 22,
    "start_time": "2021-07-11T08:54:53.391Z"
   },
   {
    "duration": 596,
    "start_time": "2021-07-11T08:54:53.416Z"
   },
   {
    "duration": 35,
    "start_time": "2021-07-11T08:54:54.014Z"
   },
   {
    "duration": 644,
    "start_time": "2021-07-11T08:54:54.051Z"
   },
   {
    "duration": 20,
    "start_time": "2021-07-11T08:54:54.697Z"
   },
   {
    "duration": 28,
    "start_time": "2021-07-11T08:54:54.719Z"
   },
   {
    "duration": 4,
    "start_time": "2021-07-11T08:54:54.749Z"
   },
   {
    "duration": 8,
    "start_time": "2021-07-11T08:54:54.755Z"
   },
   {
    "duration": 9,
    "start_time": "2021-07-11T08:54:54.766Z"
   },
   {
    "duration": 9,
    "start_time": "2021-07-11T08:54:54.810Z"
   },
   {
    "duration": 18,
    "start_time": "2021-07-11T08:54:54.821Z"
   },
   {
    "duration": 13,
    "start_time": "2021-07-11T08:54:54.841Z"
   },
   {
    "duration": 10,
    "start_time": "2021-07-11T08:54:54.856Z"
   },
   {
    "duration": 555,
    "start_time": "2021-07-11T08:54:54.868Z"
   },
   {
    "duration": 24,
    "start_time": "2021-07-11T08:54:55.425Z"
   },
   {
    "duration": 640,
    "start_time": "2021-07-11T08:54:55.452Z"
   },
   {
    "duration": 23,
    "start_time": "2021-07-11T08:54:56.094Z"
   },
   {
    "duration": 671,
    "start_time": "2021-07-11T08:54:56.120Z"
   },
   {
    "duration": 18,
    "start_time": "2021-07-11T08:54:56.793Z"
   },
   {
    "duration": 14,
    "start_time": "2021-07-11T08:54:56.813Z"
   },
   {
    "duration": 1602,
    "start_time": "2021-07-11T08:54:56.830Z"
   },
   {
    "duration": 5,
    "start_time": "2021-07-11T08:54:58.435Z"
   },
   {
    "duration": 12,
    "start_time": "2021-07-11T08:55:23.230Z"
   },
   {
    "duration": 30,
    "start_time": "2021-07-11T08:55:29.385Z"
   },
   {
    "duration": 34,
    "start_time": "2021-07-11T08:55:44.189Z"
   },
   {
    "duration": 2103,
    "start_time": "2021-07-11T08:57:39.585Z"
   },
   {
    "duration": 4,
    "start_time": "2021-07-11T08:58:09.939Z"
   },
   {
    "duration": 3535,
    "start_time": "2021-07-11T08:58:09.947Z"
   },
   {
    "duration": 4,
    "start_time": "2021-07-11T08:58:13.486Z"
   },
   {
    "duration": 283,
    "start_time": "2021-07-11T08:58:13.493Z"
   },
   {
    "duration": 22,
    "start_time": "2021-07-11T08:58:13.778Z"
   },
   {
    "duration": 24,
    "start_time": "2021-07-11T08:58:13.803Z"
   },
   {
    "duration": 17,
    "start_time": "2021-07-11T08:58:13.831Z"
   },
   {
    "duration": 5,
    "start_time": "2021-07-11T08:58:13.852Z"
   },
   {
    "duration": 61,
    "start_time": "2021-07-11T08:58:13.860Z"
   },
   {
    "duration": 32,
    "start_time": "2021-07-11T08:58:13.924Z"
   },
   {
    "duration": 26,
    "start_time": "2021-07-11T08:58:13.958Z"
   },
   {
    "duration": 45,
    "start_time": "2021-07-11T08:58:13.987Z"
   },
   {
    "duration": 13,
    "start_time": "2021-07-11T08:58:14.034Z"
   },
   {
    "duration": 12,
    "start_time": "2021-07-11T08:58:14.050Z"
   },
   {
    "duration": 7,
    "start_time": "2021-07-11T08:58:14.065Z"
   },
   {
    "duration": 36,
    "start_time": "2021-07-11T08:58:14.074Z"
   },
   {
    "duration": 21,
    "start_time": "2021-07-11T08:58:14.113Z"
   },
   {
    "duration": 9,
    "start_time": "2021-07-11T08:58:14.136Z"
   },
   {
    "duration": 9,
    "start_time": "2021-07-11T08:58:14.150Z"
   },
   {
    "duration": 14,
    "start_time": "2021-07-11T08:58:14.162Z"
   },
   {
    "duration": 29,
    "start_time": "2021-07-11T08:58:14.179Z"
   },
   {
    "duration": 16,
    "start_time": "2021-07-11T08:58:14.211Z"
   },
   {
    "duration": 1138,
    "start_time": "2021-07-11T08:58:14.230Z"
   },
   {
    "duration": 14,
    "start_time": "2021-07-11T08:58:15.370Z"
   },
   {
    "duration": 23,
    "start_time": "2021-07-11T08:58:15.386Z"
   },
   {
    "duration": 10,
    "start_time": "2021-07-11T08:58:15.411Z"
   },
   {
    "duration": 588,
    "start_time": "2021-07-11T08:58:15.424Z"
   },
   {
    "duration": 34,
    "start_time": "2021-07-11T08:58:16.014Z"
   },
   {
    "duration": 638,
    "start_time": "2021-07-11T08:58:16.051Z"
   },
   {
    "duration": 19,
    "start_time": "2021-07-11T08:58:16.691Z"
   },
   {
    "duration": 29,
    "start_time": "2021-07-11T08:58:16.712Z"
   },
   {
    "duration": 4,
    "start_time": "2021-07-11T08:58:16.743Z"
   },
   {
    "duration": 16,
    "start_time": "2021-07-11T08:58:16.750Z"
   },
   {
    "duration": 15,
    "start_time": "2021-07-11T08:58:16.769Z"
   },
   {
    "duration": 9,
    "start_time": "2021-07-11T08:58:16.809Z"
   },
   {
    "duration": 21,
    "start_time": "2021-07-11T08:58:16.821Z"
   },
   {
    "duration": 28,
    "start_time": "2021-07-11T08:58:16.844Z"
   },
   {
    "duration": 17,
    "start_time": "2021-07-11T08:58:16.875Z"
   },
   {
    "duration": 525,
    "start_time": "2021-07-11T08:58:16.894Z"
   },
   {
    "duration": 26,
    "start_time": "2021-07-11T08:58:17.421Z"
   },
   {
    "duration": 641,
    "start_time": "2021-07-11T08:58:17.450Z"
   },
   {
    "duration": 20,
    "start_time": "2021-07-11T08:58:18.093Z"
   },
   {
    "duration": 680,
    "start_time": "2021-07-11T08:58:18.115Z"
   },
   {
    "duration": 17,
    "start_time": "2021-07-11T08:58:18.798Z"
   },
   {
    "duration": 10,
    "start_time": "2021-07-11T08:58:18.818Z"
   },
   {
    "duration": 1490,
    "start_time": "2021-07-11T08:58:18.830Z"
   },
   {
    "duration": 5,
    "start_time": "2021-07-11T08:58:20.322Z"
   },
   {
    "duration": 64860,
    "start_time": "2021-07-11T08:58:38.369Z"
   },
   {
    "duration": 5,
    "start_time": "2021-07-11T08:59:43.232Z"
   },
   {
    "duration": 3332,
    "start_time": "2021-07-11T08:59:43.240Z"
   },
   {
    "duration": 4,
    "start_time": "2021-07-11T08:59:46.576Z"
   },
   {
    "duration": 284,
    "start_time": "2021-07-11T08:59:46.583Z"
   },
   {
    "duration": 21,
    "start_time": "2021-07-11T08:59:46.870Z"
   },
   {
    "duration": 26,
    "start_time": "2021-07-11T08:59:46.893Z"
   },
   {
    "duration": 23,
    "start_time": "2021-07-11T08:59:46.923Z"
   },
   {
    "duration": 4,
    "start_time": "2021-07-11T08:59:46.949Z"
   },
   {
    "duration": 57,
    "start_time": "2021-07-11T08:59:46.955Z"
   },
   {
    "duration": 27,
    "start_time": "2021-07-11T08:59:47.014Z"
   },
   {
    "duration": 31,
    "start_time": "2021-07-11T08:59:47.043Z"
   },
   {
    "duration": 45,
    "start_time": "2021-07-11T08:59:47.077Z"
   },
   {
    "duration": 16,
    "start_time": "2021-07-11T08:59:47.125Z"
   },
   {
    "duration": 27,
    "start_time": "2021-07-11T08:59:47.144Z"
   },
   {
    "duration": 25,
    "start_time": "2021-07-11T08:59:47.173Z"
   },
   {
    "duration": 21,
    "start_time": "2021-07-11T08:59:47.201Z"
   },
   {
    "duration": 13,
    "start_time": "2021-07-11T08:59:47.225Z"
   },
   {
    "duration": 14,
    "start_time": "2021-07-11T08:59:47.241Z"
   },
   {
    "duration": 8,
    "start_time": "2021-07-11T08:59:47.258Z"
   },
   {
    "duration": 12,
    "start_time": "2021-07-11T08:59:47.268Z"
   },
   {
    "duration": 16,
    "start_time": "2021-07-11T08:59:47.282Z"
   },
   {
    "duration": 16,
    "start_time": "2021-07-11T08:59:47.304Z"
   },
   {
    "duration": 1033,
    "start_time": "2021-07-11T08:59:47.323Z"
   },
   {
    "duration": 12,
    "start_time": "2021-07-11T08:59:48.359Z"
   },
   {
    "duration": 6,
    "start_time": "2021-07-11T08:59:48.373Z"
   },
   {
    "duration": 29,
    "start_time": "2021-07-11T08:59:48.382Z"
   },
   {
    "duration": 592,
    "start_time": "2021-07-11T08:59:48.413Z"
   },
   {
    "duration": 32,
    "start_time": "2021-07-11T08:59:49.009Z"
   },
   {
    "duration": 656,
    "start_time": "2021-07-11T08:59:49.044Z"
   },
   {
    "duration": 18,
    "start_time": "2021-07-11T08:59:49.703Z"
   },
   {
    "duration": 28,
    "start_time": "2021-07-11T08:59:49.724Z"
   },
   {
    "duration": 5,
    "start_time": "2021-07-11T08:59:49.755Z"
   },
   {
    "duration": 46,
    "start_time": "2021-07-11T08:59:49.763Z"
   },
   {
    "duration": 10,
    "start_time": "2021-07-11T08:59:49.812Z"
   },
   {
    "duration": 11,
    "start_time": "2021-07-11T08:59:49.825Z"
   },
   {
    "duration": 17,
    "start_time": "2021-07-11T08:59:49.839Z"
   },
   {
    "duration": 12,
    "start_time": "2021-07-11T08:59:49.859Z"
   },
   {
    "duration": 44,
    "start_time": "2021-07-11T08:59:49.874Z"
   },
   {
    "duration": 522,
    "start_time": "2021-07-11T08:59:49.921Z"
   },
   {
    "duration": 27,
    "start_time": "2021-07-11T08:59:50.446Z"
   },
   {
    "duration": 606,
    "start_time": "2021-07-11T08:59:50.475Z"
   },
   {
    "duration": 26,
    "start_time": "2021-07-11T08:59:51.083Z"
   },
   {
    "duration": 688,
    "start_time": "2021-07-11T08:59:51.111Z"
   },
   {
    "duration": 9,
    "start_time": "2021-07-11T08:59:51.809Z"
   },
   {
    "duration": 8,
    "start_time": "2021-07-11T08:59:51.821Z"
   },
   {
    "duration": 1615,
    "start_time": "2021-07-11T08:59:51.832Z"
   },
   {
    "duration": 5,
    "start_time": "2021-07-11T08:59:53.450Z"
   },
   {
    "duration": 11951,
    "start_time": "2021-07-11T09:00:17.750Z"
   },
   {
    "duration": 4,
    "start_time": "2021-07-11T09:00:41.403Z"
   },
   {
    "duration": 3306,
    "start_time": "2021-07-11T09:00:41.410Z"
   },
   {
    "duration": 4,
    "start_time": "2021-07-11T09:00:44.719Z"
   },
   {
    "duration": 319,
    "start_time": "2021-07-11T09:00:44.726Z"
   },
   {
    "duration": 20,
    "start_time": "2021-07-11T09:00:45.048Z"
   },
   {
    "duration": 39,
    "start_time": "2021-07-11T09:00:45.070Z"
   },
   {
    "duration": 15,
    "start_time": "2021-07-11T09:00:45.114Z"
   },
   {
    "duration": 14,
    "start_time": "2021-07-11T09:00:45.133Z"
   },
   {
    "duration": 62,
    "start_time": "2021-07-11T09:00:45.149Z"
   },
   {
    "duration": 28,
    "start_time": "2021-07-11T09:00:45.214Z"
   },
   {
    "duration": 27,
    "start_time": "2021-07-11T09:00:45.245Z"
   },
   {
    "duration": 49,
    "start_time": "2021-07-11T09:00:45.274Z"
   },
   {
    "duration": 15,
    "start_time": "2021-07-11T09:00:45.326Z"
   },
   {
    "duration": 18,
    "start_time": "2021-07-11T09:00:45.344Z"
   },
   {
    "duration": 7,
    "start_time": "2021-07-11T09:00:45.365Z"
   },
   {
    "duration": 36,
    "start_time": "2021-07-11T09:00:45.374Z"
   },
   {
    "duration": 3,
    "start_time": "2021-07-11T09:00:45.413Z"
   },
   {
    "duration": 16,
    "start_time": "2021-07-11T09:00:45.418Z"
   },
   {
    "duration": 5,
    "start_time": "2021-07-11T09:00:45.440Z"
   },
   {
    "duration": 11,
    "start_time": "2021-07-11T09:00:45.449Z"
   },
   {
    "duration": 17,
    "start_time": "2021-07-11T09:00:45.462Z"
   },
   {
    "duration": 18,
    "start_time": "2021-07-11T09:00:45.510Z"
   },
   {
    "duration": 1031,
    "start_time": "2021-07-11T09:00:45.531Z"
   },
   {
    "duration": 15,
    "start_time": "2021-07-11T09:00:46.565Z"
   },
   {
    "duration": 29,
    "start_time": "2021-07-11T09:00:46.583Z"
   },
   {
    "duration": 23,
    "start_time": "2021-07-11T09:00:46.615Z"
   },
   {
    "duration": 598,
    "start_time": "2021-07-11T09:00:46.641Z"
   },
   {
    "duration": 33,
    "start_time": "2021-07-11T09:00:47.241Z"
   },
   {
    "duration": 644,
    "start_time": "2021-07-11T09:00:47.276Z"
   },
   {
    "duration": 11,
    "start_time": "2021-07-11T09:00:47.923Z"
   },
   {
    "duration": 25,
    "start_time": "2021-07-11T09:00:47.937Z"
   },
   {
    "duration": 3,
    "start_time": "2021-07-11T09:00:47.964Z"
   },
   {
    "duration": 39,
    "start_time": "2021-07-11T09:00:47.970Z"
   },
   {
    "duration": 6,
    "start_time": "2021-07-11T09:00:48.011Z"
   },
   {
    "duration": 11,
    "start_time": "2021-07-11T09:00:48.020Z"
   },
   {
    "duration": 17,
    "start_time": "2021-07-11T09:00:48.034Z"
   },
   {
    "duration": 5,
    "start_time": "2021-07-11T09:00:48.053Z"
   },
   {
    "duration": 11,
    "start_time": "2021-07-11T09:00:48.060Z"
   },
   {
    "duration": 560,
    "start_time": "2021-07-11T09:00:48.073Z"
   },
   {
    "duration": 27,
    "start_time": "2021-07-11T09:00:48.635Z"
   },
   {
    "duration": 617,
    "start_time": "2021-07-11T09:00:48.665Z"
   },
   {
    "duration": 24,
    "start_time": "2021-07-11T09:00:49.285Z"
   },
   {
    "duration": 667,
    "start_time": "2021-07-11T09:00:49.312Z"
   },
   {
    "duration": 9,
    "start_time": "2021-07-11T09:00:49.981Z"
   },
   {
    "duration": 18,
    "start_time": "2021-07-11T09:00:49.993Z"
   },
   {
    "duration": 1722,
    "start_time": "2021-07-11T09:00:50.014Z"
   },
   {
    "duration": 5,
    "start_time": "2021-07-11T09:00:51.738Z"
   },
   {
    "duration": 5525,
    "start_time": "2021-07-11T09:01:13.172Z"
   },
   {
    "duration": 30,
    "start_time": "2021-07-11T09:06:13.998Z"
   },
   {
    "duration": 374,
    "start_time": "2021-07-11T09:06:16.958Z"
   },
   {
    "duration": 349,
    "start_time": "2021-07-11T09:10:46.361Z"
   },
   {
    "duration": 8,
    "start_time": "2021-07-11T09:10:51.162Z"
   },
   {
    "duration": 11,
    "start_time": "2021-07-11T09:10:52.306Z"
   },
   {
    "duration": 6,
    "start_time": "2021-07-11T09:11:06.939Z"
   },
   {
    "duration": 7,
    "start_time": "2021-07-11T09:11:07.803Z"
   },
   {
    "duration": 12,
    "start_time": "2021-07-11T09:11:11.324Z"
   },
   {
    "duration": 6,
    "start_time": "2021-07-11T09:11:16.666Z"
   },
   {
    "duration": 7,
    "start_time": "2021-07-11T09:11:18.288Z"
   },
   {
    "duration": 12,
    "start_time": "2021-07-11T09:12:21.621Z"
   },
   {
    "duration": 6,
    "start_time": "2021-07-11T09:12:22.463Z"
   },
   {
    "duration": 6,
    "start_time": "2021-07-11T09:12:23.184Z"
   },
   {
    "duration": 6,
    "start_time": "2021-07-11T09:16:20.460Z"
   },
   {
    "duration": 8,
    "start_time": "2021-07-11T09:16:22.411Z"
   },
   {
    "duration": 6,
    "start_time": "2021-07-11T09:16:27.023Z"
   },
   {
    "duration": 6,
    "start_time": "2021-07-11T09:16:28.959Z"
   },
   {
    "duration": 8,
    "start_time": "2021-07-11T09:16:30.782Z"
   },
   {
    "duration": 12,
    "start_time": "2021-07-11T09:18:53.909Z"
   },
   {
    "duration": 12,
    "start_time": "2021-07-11T09:19:02.031Z"
   },
   {
    "duration": 6,
    "start_time": "2021-07-11T09:22:12.143Z"
   },
   {
    "duration": 6,
    "start_time": "2021-07-11T09:22:17.594Z"
   },
   {
    "duration": 5,
    "start_time": "2021-07-11T09:23:00.971Z"
   },
   {
    "duration": 6,
    "start_time": "2021-07-11T09:23:05.431Z"
   },
   {
    "duration": 520,
    "start_time": "2021-07-11T09:57:02.341Z"
   },
   {
    "duration": 1596,
    "start_time": "2021-07-11T10:18:36.393Z"
   },
   {
    "duration": 3281,
    "start_time": "2021-07-11T10:18:37.992Z"
   },
   {
    "duration": 6,
    "start_time": "2021-07-11T10:18:41.277Z"
   },
   {
    "duration": 269,
    "start_time": "2021-07-11T10:18:41.286Z"
   },
   {
    "duration": 24,
    "start_time": "2021-07-11T10:18:41.558Z"
   },
   {
    "duration": 30,
    "start_time": "2021-07-11T10:18:41.585Z"
   },
   {
    "duration": 18,
    "start_time": "2021-07-11T10:18:41.618Z"
   },
   {
    "duration": 4,
    "start_time": "2021-07-11T10:18:41.639Z"
   },
   {
    "duration": 63,
    "start_time": "2021-07-11T10:18:41.647Z"
   },
   {
    "duration": 27,
    "start_time": "2021-07-11T10:18:41.713Z"
   },
   {
    "duration": 24,
    "start_time": "2021-07-11T10:18:41.742Z"
   },
   {
    "duration": 43,
    "start_time": "2021-07-11T10:18:41.769Z"
   },
   {
    "duration": 16,
    "start_time": "2021-07-11T10:18:41.815Z"
   },
   {
    "duration": 12,
    "start_time": "2021-07-11T10:18:41.833Z"
   },
   {
    "duration": 6,
    "start_time": "2021-07-11T10:18:41.848Z"
   },
   {
    "duration": 8,
    "start_time": "2021-07-11T10:18:41.856Z"
   },
   {
    "duration": 12,
    "start_time": "2021-07-11T10:18:41.867Z"
   },
   {
    "duration": 3,
    "start_time": "2021-07-11T10:18:41.910Z"
   },
   {
    "duration": 8,
    "start_time": "2021-07-11T10:18:41.915Z"
   },
   {
    "duration": 16,
    "start_time": "2021-07-11T10:18:41.926Z"
   },
   {
    "duration": 15,
    "start_time": "2021-07-11T10:18:41.944Z"
   },
   {
    "duration": 15,
    "start_time": "2021-07-11T10:18:41.962Z"
   },
   {
    "duration": 1030,
    "start_time": "2021-07-11T10:18:41.979Z"
   },
   {
    "duration": 13,
    "start_time": "2021-07-11T10:18:43.011Z"
   },
   {
    "duration": 6,
    "start_time": "2021-07-11T10:18:43.026Z"
   },
   {
    "duration": 8,
    "start_time": "2021-07-11T10:18:43.034Z"
   },
   {
    "duration": 608,
    "start_time": "2021-07-11T10:18:43.048Z"
   },
   {
    "duration": 31,
    "start_time": "2021-07-11T10:18:43.659Z"
   },
   {
    "duration": 625,
    "start_time": "2021-07-11T10:18:43.708Z"
   },
   {
    "duration": 10,
    "start_time": "2021-07-11T10:18:44.336Z"
   },
   {
    "duration": 30,
    "start_time": "2021-07-11T10:18:44.348Z"
   },
   {
    "duration": 29,
    "start_time": "2021-07-11T10:18:44.380Z"
   },
   {
    "duration": 16,
    "start_time": "2021-07-11T10:18:44.411Z"
   },
   {
    "duration": 14,
    "start_time": "2021-07-11T10:18:44.429Z"
   },
   {
    "duration": 18,
    "start_time": "2021-07-11T10:18:44.445Z"
   },
   {
    "duration": 18,
    "start_time": "2021-07-11T10:18:44.465Z"
   },
   {
    "duration": 23,
    "start_time": "2021-07-11T10:18:44.486Z"
   },
   {
    "duration": 11,
    "start_time": "2021-07-11T10:18:44.512Z"
   },
   {
    "duration": 553,
    "start_time": "2021-07-11T10:18:44.525Z"
   },
   {
    "duration": 36,
    "start_time": "2021-07-11T10:18:45.080Z"
   },
   {
    "duration": 589,
    "start_time": "2021-07-11T10:18:45.119Z"
   },
   {
    "duration": 14,
    "start_time": "2021-07-11T10:18:45.711Z"
   },
   {
    "duration": 904,
    "start_time": "2021-07-11T10:18:45.727Z"
   },
   {
    "duration": 11,
    "start_time": "2021-07-11T10:18:46.634Z"
   },
   {
    "duration": 19,
    "start_time": "2021-07-11T10:18:46.647Z"
   },
   {
    "duration": 1457,
    "start_time": "2021-07-11T10:18:46.669Z"
   },
   {
    "duration": 5,
    "start_time": "2021-07-11T10:18:48.129Z"
   },
   {
    "duration": 14,
    "start_time": "2021-07-11T10:18:48.136Z"
   },
   {
    "duration": 5291,
    "start_time": "2021-07-11T10:18:48.153Z"
   },
   {
    "duration": 34,
    "start_time": "2021-07-11T10:18:53.447Z"
   },
   {
    "duration": 26,
    "start_time": "2021-07-11T10:18:53.483Z"
   },
   {
    "duration": 10,
    "start_time": "2021-07-11T10:18:53.512Z"
   },
   {
    "duration": 15,
    "start_time": "2021-07-11T10:18:53.525Z"
   },
   {
    "duration": 797,
    "start_time": "2021-07-11T10:18:53.542Z"
   },
   {
    "duration": 23,
    "start_time": "2021-07-11T10:18:54.342Z"
   },
   {
    "duration": 44,
    "start_time": "2021-07-11T10:18:54.368Z"
   },
   {
    "duration": 27,
    "start_time": "2021-07-11T10:18:54.415Z"
   },
   {
    "duration": 544,
    "start_time": "2021-07-11T10:18:54.444Z"
   },
   {
    "duration": 43,
    "start_time": "2021-07-11T10:18:54.991Z"
   },
   {
    "duration": 390,
    "start_time": "2021-07-11T10:18:55.037Z"
   },
   {
    "duration": 8,
    "start_time": "2021-07-11T10:18:55.430Z"
   },
   {
    "duration": 14,
    "start_time": "2021-07-11T10:18:55.441Z"
   },
   {
    "duration": 17,
    "start_time": "2021-07-11T10:18:55.457Z"
   },
   {
    "duration": 39,
    "start_time": "2021-07-11T10:18:55.477Z"
   },
   {
    "duration": 332,
    "start_time": "2021-07-11T10:18:55.518Z"
   },
   {
    "duration": 8,
    "start_time": "2021-07-11T10:18:55.853Z"
   },
   {
    "duration": 12,
    "start_time": "2021-07-11T10:18:55.863Z"
   },
   {
    "duration": 6,
    "start_time": "2021-07-11T10:18:55.878Z"
   },
   {
    "duration": 5,
    "start_time": "2021-07-11T10:18:55.910Z"
   },
   {
    "duration": 14,
    "start_time": "2021-07-11T10:18:55.917Z"
   },
   {
    "duration": 7,
    "start_time": "2021-07-11T10:18:55.933Z"
   },
   {
    "duration": 10,
    "start_time": "2021-07-11T10:18:55.942Z"
   },
   {
    "duration": 1147,
    "start_time": "2021-07-12T08:52:46.020Z"
   },
   {
    "duration": 102877,
    "start_time": "2021-07-12T08:52:47.169Z"
   },
   {
    "duration": 3,
    "start_time": "2021-07-12T08:54:30.049Z"
   },
   {
    "duration": 241,
    "start_time": "2021-07-12T08:54:30.053Z"
   },
   {
    "duration": 14,
    "start_time": "2021-07-12T08:54:30.296Z"
   },
   {
    "duration": 15,
    "start_time": "2021-07-12T08:54:30.311Z"
   },
   {
    "duration": 20,
    "start_time": "2021-07-12T08:54:30.328Z"
   },
   {
    "duration": 7,
    "start_time": "2021-07-12T08:54:30.351Z"
   },
   {
    "duration": 50,
    "start_time": "2021-07-12T08:54:30.360Z"
   },
   {
    "duration": 36,
    "start_time": "2021-07-12T08:54:30.412Z"
   },
   {
    "duration": 17,
    "start_time": "2021-07-12T08:54:30.449Z"
   },
   {
    "duration": 18,
    "start_time": "2021-07-12T08:54:30.467Z"
   },
   {
    "duration": 55,
    "start_time": "2021-07-12T08:54:30.486Z"
   },
   {
    "duration": 8,
    "start_time": "2021-07-12T08:54:30.543Z"
   },
   {
    "duration": 17,
    "start_time": "2021-07-12T08:54:30.552Z"
   },
   {
    "duration": 12,
    "start_time": "2021-07-12T08:54:30.571Z"
   },
   {
    "duration": 8,
    "start_time": "2021-07-12T08:54:30.585Z"
   },
   {
    "duration": 23,
    "start_time": "2021-07-12T08:54:30.594Z"
   },
   {
    "duration": 8,
    "start_time": "2021-07-12T08:54:30.619Z"
   },
   {
    "duration": 18,
    "start_time": "2021-07-12T08:54:30.628Z"
   },
   {
    "duration": 16,
    "start_time": "2021-07-12T08:54:30.647Z"
   },
   {
    "duration": 9,
    "start_time": "2021-07-12T08:54:30.665Z"
   },
   {
    "duration": 605,
    "start_time": "2021-07-12T08:54:30.678Z"
   },
   {
    "duration": 8,
    "start_time": "2021-07-12T08:54:31.286Z"
   },
   {
    "duration": 5,
    "start_time": "2021-07-12T08:54:31.295Z"
   },
   {
    "duration": 6,
    "start_time": "2021-07-12T08:54:31.301Z"
   },
   {
    "duration": 323,
    "start_time": "2021-07-12T08:54:31.309Z"
   },
   {
    "duration": 22,
    "start_time": "2021-07-12T08:54:31.640Z"
   },
   {
    "duration": 355,
    "start_time": "2021-07-12T08:54:31.664Z"
   },
   {
    "duration": 7,
    "start_time": "2021-07-12T08:54:32.020Z"
   },
   {
    "duration": 16,
    "start_time": "2021-07-12T08:54:32.041Z"
   },
   {
    "duration": 2,
    "start_time": "2021-07-12T08:54:32.059Z"
   },
   {
    "duration": 10,
    "start_time": "2021-07-12T08:54:32.063Z"
   },
   {
    "duration": 6,
    "start_time": "2021-07-12T08:54:32.075Z"
   },
   {
    "duration": 7,
    "start_time": "2021-07-12T08:54:32.083Z"
   },
   {
    "duration": 9,
    "start_time": "2021-07-12T08:54:32.091Z"
   },
   {
    "duration": 7,
    "start_time": "2021-07-12T08:54:32.101Z"
   },
   {
    "duration": 7,
    "start_time": "2021-07-12T08:54:32.109Z"
   },
   {
    "duration": 301,
    "start_time": "2021-07-12T08:54:32.118Z"
   },
   {
    "duration": 23,
    "start_time": "2021-07-12T08:54:32.421Z"
   },
   {
    "duration": 379,
    "start_time": "2021-07-12T08:54:32.446Z"
   },
   {
    "duration": 13,
    "start_time": "2021-07-12T08:54:32.827Z"
   },
   {
    "duration": 431,
    "start_time": "2021-07-12T08:54:32.842Z"
   },
   {
    "duration": 6,
    "start_time": "2021-07-12T08:54:33.274Z"
   },
   {
    "duration": 6,
    "start_time": "2021-07-12T08:54:33.282Z"
   },
   {
    "duration": 880,
    "start_time": "2021-07-12T08:54:33.290Z"
   },
   {
    "duration": 3,
    "start_time": "2021-07-12T08:54:34.172Z"
   },
   {
    "duration": 10,
    "start_time": "2021-07-12T08:54:34.177Z"
   },
   {
    "duration": 3003,
    "start_time": "2021-07-12T08:54:34.189Z"
   },
   {
    "duration": 19,
    "start_time": "2021-07-12T08:54:37.194Z"
   },
   {
    "duration": 2,
    "start_time": "2021-07-12T08:54:37.215Z"
   },
   {
    "duration": 6,
    "start_time": "2021-07-12T08:54:37.219Z"
   },
   {
    "duration": 8,
    "start_time": "2021-07-12T08:54:37.240Z"
   },
   {
    "duration": 451,
    "start_time": "2021-07-12T08:54:37.249Z"
   },
   {
    "duration": 14,
    "start_time": "2021-07-12T08:54:37.702Z"
   },
   {
    "duration": 26,
    "start_time": "2021-07-12T08:54:37.717Z"
   },
   {
    "duration": 16,
    "start_time": "2021-07-12T08:54:37.744Z"
   },
   {
    "duration": 314,
    "start_time": "2021-07-12T08:54:37.762Z"
   },
   {
    "duration": 18,
    "start_time": "2021-07-12T08:54:38.077Z"
   },
   {
    "duration": 212,
    "start_time": "2021-07-12T08:54:38.097Z"
   },
   {
    "duration": 5,
    "start_time": "2021-07-12T08:54:38.310Z"
   },
   {
    "duration": 18,
    "start_time": "2021-07-12T08:54:38.316Z"
   },
   {
    "duration": 23,
    "start_time": "2021-07-12T08:54:38.335Z"
   },
   {
    "duration": 11,
    "start_time": "2021-07-12T08:54:38.360Z"
   },
   {
    "duration": 181,
    "start_time": "2021-07-12T08:54:38.372Z"
   },
   {
    "duration": 5,
    "start_time": "2021-07-12T08:54:38.555Z"
   },
   {
    "duration": 14,
    "start_time": "2021-07-12T08:54:38.562Z"
   },
   {
    "duration": 4,
    "start_time": "2021-07-12T08:54:38.580Z"
   },
   {
    "duration": 12,
    "start_time": "2021-07-12T08:54:38.586Z"
   },
   {
    "duration": 16,
    "start_time": "2021-07-12T08:54:38.600Z"
   },
   {
    "duration": 11,
    "start_time": "2021-07-12T08:54:38.618Z"
   },
   {
    "duration": 11,
    "start_time": "2021-07-12T08:54:38.630Z"
   },
   {
    "duration": 1028,
    "start_time": "2021-07-14T16:05:55.138Z"
   },
   {
    "duration": 2760,
    "start_time": "2021-07-14T16:05:56.168Z"
   },
   {
    "duration": 4,
    "start_time": "2021-07-14T16:05:58.930Z"
   },
   {
    "duration": 150,
    "start_time": "2021-07-14T16:05:58.936Z"
   },
   {
    "duration": 17,
    "start_time": "2021-07-14T16:05:59.088Z"
   },
   {
    "duration": 13,
    "start_time": "2021-07-14T16:05:59.107Z"
   },
   {
    "duration": 10,
    "start_time": "2021-07-14T16:05:59.122Z"
   },
   {
    "duration": 2,
    "start_time": "2021-07-14T16:05:59.136Z"
   },
   {
    "duration": 56,
    "start_time": "2021-07-14T16:05:59.141Z"
   },
   {
    "duration": 18,
    "start_time": "2021-07-14T16:05:59.199Z"
   },
   {
    "duration": 18,
    "start_time": "2021-07-14T16:05:59.219Z"
   },
   {
    "duration": 17,
    "start_time": "2021-07-14T16:05:59.239Z"
   },
   {
    "duration": 10,
    "start_time": "2021-07-14T16:05:59.284Z"
   },
   {
    "duration": 9,
    "start_time": "2021-07-14T16:05:59.295Z"
   },
   {
    "duration": 5,
    "start_time": "2021-07-14T16:05:59.306Z"
   },
   {
    "duration": 7,
    "start_time": "2021-07-14T16:05:59.313Z"
   },
   {
    "duration": 2,
    "start_time": "2021-07-14T16:05:59.322Z"
   },
   {
    "duration": 4,
    "start_time": "2021-07-14T16:05:59.326Z"
   },
   {
    "duration": 4,
    "start_time": "2021-07-14T16:05:59.332Z"
   },
   {
    "duration": 7,
    "start_time": "2021-07-14T16:05:59.338Z"
   },
   {
    "duration": 48,
    "start_time": "2021-07-14T16:05:59.347Z"
   },
   {
    "duration": 11,
    "start_time": "2021-07-14T16:05:59.397Z"
   },
   {
    "duration": 667,
    "start_time": "2021-07-14T16:05:59.412Z"
   },
   {
    "duration": 9,
    "start_time": "2021-07-14T16:06:00.085Z"
   },
   {
    "duration": 8,
    "start_time": "2021-07-14T16:06:00.095Z"
   },
   {
    "duration": 7,
    "start_time": "2021-07-14T16:06:00.105Z"
   },
   {
    "duration": 350,
    "start_time": "2021-07-14T16:06:00.114Z"
   },
   {
    "duration": 31,
    "start_time": "2021-07-14T16:06:00.466Z"
   },
   {
    "duration": 380,
    "start_time": "2021-07-14T16:06:00.498Z"
   },
   {
    "duration": 8,
    "start_time": "2021-07-14T16:06:00.879Z"
   },
   {
    "duration": 24,
    "start_time": "2021-07-14T16:06:00.888Z"
   },
   {
    "duration": 2,
    "start_time": "2021-07-14T16:06:00.914Z"
   },
   {
    "duration": 14,
    "start_time": "2021-07-14T16:06:00.917Z"
   },
   {
    "duration": 13,
    "start_time": "2021-07-14T16:06:00.932Z"
   },
   {
    "duration": 12,
    "start_time": "2021-07-14T16:06:00.947Z"
   },
   {
    "duration": 19,
    "start_time": "2021-07-14T16:06:00.960Z"
   },
   {
    "duration": 9,
    "start_time": "2021-07-14T16:06:00.981Z"
   },
   {
    "duration": 17,
    "start_time": "2021-07-14T16:06:00.992Z"
   },
   {
    "duration": 319,
    "start_time": "2021-07-14T16:06:01.010Z"
   },
   {
    "duration": 15,
    "start_time": "2021-07-14T16:06:01.330Z"
   },
   {
    "duration": 449,
    "start_time": "2021-07-14T16:06:01.347Z"
   },
   {
    "duration": 16,
    "start_time": "2021-07-14T16:06:18.692Z"
   },
   {
    "duration": 12,
    "start_time": "2021-07-14T16:06:53.926Z"
   },
   {
    "duration": 16,
    "start_time": "2021-07-14T16:07:15.446Z"
   },
   {
    "duration": 16,
    "start_time": "2021-07-14T16:09:29.189Z"
   },
   {
    "duration": 463,
    "start_time": "2021-07-14T16:09:31.925Z"
   },
   {
    "duration": 16,
    "start_time": "2021-07-14T16:09:43.478Z"
   },
   {
    "duration": 409,
    "start_time": "2021-07-14T16:09:46.015Z"
   },
   {
    "duration": 15,
    "start_time": "2021-07-14T16:20:21.402Z"
   },
   {
    "duration": 394,
    "start_time": "2021-07-14T16:20:25.195Z"
   }
  ],
  "kernelspec": {
   "display_name": "Python 3",
   "language": "python",
   "name": "python3"
  },
  "language_info": {
   "codemirror_mode": {
    "name": "ipython",
    "version": 3
   },
   "file_extension": ".py",
   "mimetype": "text/x-python",
   "name": "python",
   "nbconvert_exporter": "python",
   "pygments_lexer": "ipython3",
   "version": "3.7.8"
  },
  "toc": {
   "base_numbering": 1,
   "nav_menu": {},
   "number_sections": true,
   "sideBar": true,
   "skip_h1_title": true,
   "title_cell": "Table of Contents",
   "title_sidebar": "Contents",
   "toc_cell": false,
   "toc_position": {},
   "toc_section_display": true,
   "toc_window_display": false
  }
 },
 "nbformat": 4,
 "nbformat_minor": 2
}
