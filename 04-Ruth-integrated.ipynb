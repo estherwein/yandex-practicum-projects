{
 "cells": [
  {
   "cell_type": "markdown",
   "metadata": {},
   "source": [
    "Hello, my name is Ivan Alexeev and I am going to review your project.\n",
    "\n",
    "\n",
    "There may be some shortcomings in the work that I will ask you to eliminate, you fix them and I check your decisions. You can find my comments in <font color='green'>green</font>, <font color='orange'>orange</font> or <font color='red'>red</font> boxes like this:\n",
    "\n",
    "\n",
    "<div class=\"alert alert-success\" style=\"box-shadow: 4px 4px 4px\">\n",
    "Success: if everything is done successfully\n",
    "</div>\n",
    "\n",
    "\n",
    "<div class=\"alert alert-warning\" style=\"box-shadow: 4px 4px 4px\">\n",
    "Remark: if I can give some recommendations or additional information\n",
    "</div>\n",
    "\n",
    "\n",
    "<div class=\"alert alert-danger\" style=\"box-shadow: 4px 4px 4px\">\n",
    "Need fixing: if the block requires some corrections. Work can't be accepted with the red comments\n",
    "</div>\n",
    "\n",
    "\n",
    "Thank you for taking time to complete this project, I appreciate the amount of work you've done! \n",
    "\n",
    "\n",
    "Please, don't delete my comments) \n"
   ]
  },
  {
   "cell_type": "markdown",
   "metadata": {},
   "source": [
    "# General feedback\n",
    "First of all, your project is accepted! You've done an amazing job! I want to highlight separately how excellent your graphs are. Everything is perfect in them. Keep up the good work. Graphs are one of the most important parts of the report, because it is the most visual. I also want to note the abundance of functions and the excellent design of the notebook!\n",
    "\n",
    "\n",
    "Good luck in future learning! "
   ]
  },
  {
   "cell_type": "markdown",
   "metadata": {},
   "source": [
    "We will carry a study for the online store Ice, which sells video games all over the world. User and expert reviews, genres, platforms (e.g. Xbox or PlayStation), and historical data on game sales are available from open sources. We need to identify patterns that determine whether a game succeeds or not. This will allow us to spot potential big winners and plan advertising campaigns.\n",
    "In front of us is data going back to 2016. Let’s imagine that it’s December 2016 and we’re planning a campaign for 2017."
   ]
  },
  {
   "cell_type": "markdown",
   "metadata": {},
   "source": [
    "<div class=\"alert alert-success\" style=\"box-shadow: 4px 4px 4px\">\n",
    "Success: Good introduction!\n",
    "</div>"
   ]
  },
  {
   "cell_type": "markdown",
   "metadata": {},
   "source": [
    "# Overview and studying the general information\n",
    "<a class=\"anchor\" id=\"Overviewandstudyingthegeneralinformation\"></a>"
   ]
  },
  {
   "cell_type": "markdown",
   "metadata": {},
   "source": [
    "First, Let's install sidetable, this tool will help us in our data preprocessing.\n",
    "Second, Let's install squarify (Will help us with our graphs in the future)"
   ]
  },
  {
   "cell_type": "code",
   "execution_count": 1,
   "metadata": {},
   "outputs": [
    {
     "name": "stdout",
     "output_type": "stream",
     "text": [
      "Defaulting to user installation because normal site-packages is not writeable\n",
      "Requirement already satisfied: sidetable in /home/jovyan/.local/lib/python3.7/site-packages (0.8.0)\n",
      "Requirement already satisfied: pandas>=1.0 in /home/jovyan/.local/lib/python3.7/site-packages (from sidetable) (1.3.0)\n",
      "Requirement already satisfied: python-dateutil>=2.7.3 in /opt/conda/lib/python3.7/site-packages (from pandas>=1.0->sidetable) (2.8.1)\n",
      "Requirement already satisfied: pytz>=2017.3 in /opt/conda/lib/python3.7/site-packages (from pandas>=1.0->sidetable) (2021.1)\n",
      "Requirement already satisfied: numpy>=1.17.3 in /opt/conda/lib/python3.7/site-packages (from pandas>=1.0->sidetable) (1.19.5)\n",
      "Requirement already satisfied: six>=1.5 in /opt/conda/lib/python3.7/site-packages (from python-dateutil>=2.7.3->pandas>=1.0->sidetable) (1.15.0)\n",
      "Note: you may need to restart the kernel to use updated packages.\n"
     ]
    }
   ],
   "source": [
    "pip install sidetable"
   ]
  },
  {
   "cell_type": "code",
   "execution_count": 2,
   "metadata": {},
   "outputs": [
    {
     "name": "stdout",
     "output_type": "stream",
     "text": [
      "Defaulting to user installation because normal site-packages is not writeable\n",
      "Requirement already satisfied: squarify in /home/jovyan/.local/lib/python3.7/site-packages (0.4.3)\n",
      "Note: you may need to restart the kernel to use updated packages.\n"
     ]
    }
   ],
   "source": [
    "pip install squarify"
   ]
  },
  {
   "cell_type": "markdown",
   "metadata": {},
   "source": [
    "Import all the necessaries libraries"
   ]
  },
  {
   "cell_type": "code",
   "execution_count": 3,
   "metadata": {},
   "outputs": [
    {
     "name": "stderr",
     "output_type": "stream",
     "text": [
      "/opt/conda/lib/python3.7/site-packages/statsmodels/tools/_testing.py:19: FutureWarning: pandas.util.testing is deprecated. Use the functions in the public API at pandas.testing instead.\n",
      "  import pandas.util.testing as tm\n"
     ]
    }
   ],
   "source": [
    "from scipy import stats as st\n",
    "import numpy as np\n",
    "import pandas as pd\n",
    "import matplotlib\n",
    "import matplotlib.pyplot as plt\n",
    "import squarify\n",
    "import seaborn as sns\n",
    "import sidetable\n",
    "import platform\n",
    "import math"
   ]
  },
  {
   "cell_type": "markdown",
   "metadata": {},
   "source": [
    "Import all the necesaries files"
   ]
  },
  {
   "cell_type": "code",
   "execution_count": 4,
   "metadata": {},
   "outputs": [],
   "source": [
    "try:\n",
    "    data = pd.read_csv('games.csv')\n",
    "except:\n",
    "    data = pd.read_csv ('/datasets/games.csv')"
   ]
  },
  {
   "cell_type": "markdown",
   "metadata": {},
   "source": [
    "<div class=\"alert alert-warning\" style=\"box-shadow: 4px 4px 4px\">\n",
    "Remark: There is a typo in this code cell.\n",
    "</div>"
   ]
  },
  {
   "cell_type": "code",
   "execution_count": 5,
   "metadata": {},
   "outputs": [
    {
     "data": {
      "text/html": [
       "<div>\n",
       "<style scoped>\n",
       "    .dataframe tbody tr th:only-of-type {\n",
       "        vertical-align: middle;\n",
       "    }\n",
       "\n",
       "    .dataframe tbody tr th {\n",
       "        vertical-align: top;\n",
       "    }\n",
       "\n",
       "    .dataframe thead th {\n",
       "        text-align: right;\n",
       "    }\n",
       "</style>\n",
       "<table border=\"1\" class=\"dataframe\">\n",
       "  <thead>\n",
       "    <tr style=\"text-align: right;\">\n",
       "      <th></th>\n",
       "      <th>Name</th>\n",
       "      <th>Platform</th>\n",
       "      <th>Year_of_Release</th>\n",
       "      <th>Genre</th>\n",
       "      <th>NA_sales</th>\n",
       "      <th>EU_sales</th>\n",
       "      <th>JP_sales</th>\n",
       "      <th>Other_sales</th>\n",
       "      <th>Critic_Score</th>\n",
       "      <th>User_Score</th>\n",
       "      <th>Rating</th>\n",
       "    </tr>\n",
       "  </thead>\n",
       "  <tbody>\n",
       "    <tr>\n",
       "      <th>0</th>\n",
       "      <td>Wii Sports</td>\n",
       "      <td>Wii</td>\n",
       "      <td>2006.0</td>\n",
       "      <td>Sports</td>\n",
       "      <td>41.36</td>\n",
       "      <td>28.96</td>\n",
       "      <td>3.77</td>\n",
       "      <td>8.45</td>\n",
       "      <td>76.0</td>\n",
       "      <td>8</td>\n",
       "      <td>E</td>\n",
       "    </tr>\n",
       "    <tr>\n",
       "      <th>1</th>\n",
       "      <td>Super Mario Bros.</td>\n",
       "      <td>NES</td>\n",
       "      <td>1985.0</td>\n",
       "      <td>Platform</td>\n",
       "      <td>29.08</td>\n",
       "      <td>3.58</td>\n",
       "      <td>6.81</td>\n",
       "      <td>0.77</td>\n",
       "      <td>NaN</td>\n",
       "      <td>NaN</td>\n",
       "      <td>NaN</td>\n",
       "    </tr>\n",
       "    <tr>\n",
       "      <th>2</th>\n",
       "      <td>Mario Kart Wii</td>\n",
       "      <td>Wii</td>\n",
       "      <td>2008.0</td>\n",
       "      <td>Racing</td>\n",
       "      <td>15.68</td>\n",
       "      <td>12.76</td>\n",
       "      <td>3.79</td>\n",
       "      <td>3.29</td>\n",
       "      <td>82.0</td>\n",
       "      <td>8.3</td>\n",
       "      <td>E</td>\n",
       "    </tr>\n",
       "    <tr>\n",
       "      <th>3</th>\n",
       "      <td>Wii Sports Resort</td>\n",
       "      <td>Wii</td>\n",
       "      <td>2009.0</td>\n",
       "      <td>Sports</td>\n",
       "      <td>15.61</td>\n",
       "      <td>10.93</td>\n",
       "      <td>3.28</td>\n",
       "      <td>2.95</td>\n",
       "      <td>80.0</td>\n",
       "      <td>8</td>\n",
       "      <td>E</td>\n",
       "    </tr>\n",
       "    <tr>\n",
       "      <th>4</th>\n",
       "      <td>Pokemon Red/Pokemon Blue</td>\n",
       "      <td>GB</td>\n",
       "      <td>1996.0</td>\n",
       "      <td>Role-Playing</td>\n",
       "      <td>11.27</td>\n",
       "      <td>8.89</td>\n",
       "      <td>10.22</td>\n",
       "      <td>1.00</td>\n",
       "      <td>NaN</td>\n",
       "      <td>NaN</td>\n",
       "      <td>NaN</td>\n",
       "    </tr>\n",
       "  </tbody>\n",
       "</table>\n",
       "</div>"
      ],
      "text/plain": [
       "                       Name Platform  Year_of_Release         Genre  NA_sales  \\\n",
       "0                Wii Sports      Wii           2006.0        Sports     41.36   \n",
       "1         Super Mario Bros.      NES           1985.0      Platform     29.08   \n",
       "2            Mario Kart Wii      Wii           2008.0        Racing     15.68   \n",
       "3         Wii Sports Resort      Wii           2009.0        Sports     15.61   \n",
       "4  Pokemon Red/Pokemon Blue       GB           1996.0  Role-Playing     11.27   \n",
       "\n",
       "   EU_sales  JP_sales  Other_sales  Critic_Score User_Score Rating  \n",
       "0     28.96      3.77         8.45          76.0          8      E  \n",
       "1      3.58      6.81         0.77           NaN        NaN    NaN  \n",
       "2     12.76      3.79         3.29          82.0        8.3      E  \n",
       "3     10.93      3.28         2.95          80.0          8      E  \n",
       "4      8.89     10.22         1.00           NaN        NaN    NaN  "
      ]
     },
     "execution_count": 5,
     "metadata": {},
     "output_type": "execute_result"
    }
   ],
   "source": [
    "#Print the first rows from the table using the head() method.\n",
    "data.head()"
   ]
  },
  {
   "cell_type": "code",
   "execution_count": 6,
   "metadata": {},
   "outputs": [
    {
     "data": {
      "text/html": [
       "<div>\n",
       "<style scoped>\n",
       "    .dataframe tbody tr th:only-of-type {\n",
       "        vertical-align: middle;\n",
       "    }\n",
       "\n",
       "    .dataframe tbody tr th {\n",
       "        vertical-align: top;\n",
       "    }\n",
       "\n",
       "    .dataframe thead th {\n",
       "        text-align: right;\n",
       "    }\n",
       "</style>\n",
       "<table border=\"1\" class=\"dataframe\">\n",
       "  <thead>\n",
       "    <tr style=\"text-align: right;\">\n",
       "      <th></th>\n",
       "      <th>Name</th>\n",
       "      <th>Platform</th>\n",
       "      <th>Year_of_Release</th>\n",
       "      <th>Genre</th>\n",
       "      <th>NA_sales</th>\n",
       "      <th>EU_sales</th>\n",
       "      <th>JP_sales</th>\n",
       "      <th>Other_sales</th>\n",
       "      <th>Critic_Score</th>\n",
       "      <th>User_Score</th>\n",
       "      <th>Rating</th>\n",
       "    </tr>\n",
       "  </thead>\n",
       "  <tbody>\n",
       "    <tr>\n",
       "      <th>16710</th>\n",
       "      <td>Samurai Warriors: Sanada Maru</td>\n",
       "      <td>PS3</td>\n",
       "      <td>2016.0</td>\n",
       "      <td>Action</td>\n",
       "      <td>0.00</td>\n",
       "      <td>0.00</td>\n",
       "      <td>0.01</td>\n",
       "      <td>0.0</td>\n",
       "      <td>NaN</td>\n",
       "      <td>NaN</td>\n",
       "      <td>NaN</td>\n",
       "    </tr>\n",
       "    <tr>\n",
       "      <th>16711</th>\n",
       "      <td>LMA Manager 2007</td>\n",
       "      <td>X360</td>\n",
       "      <td>2006.0</td>\n",
       "      <td>Sports</td>\n",
       "      <td>0.00</td>\n",
       "      <td>0.01</td>\n",
       "      <td>0.00</td>\n",
       "      <td>0.0</td>\n",
       "      <td>NaN</td>\n",
       "      <td>NaN</td>\n",
       "      <td>NaN</td>\n",
       "    </tr>\n",
       "    <tr>\n",
       "      <th>16712</th>\n",
       "      <td>Haitaka no Psychedelica</td>\n",
       "      <td>PSV</td>\n",
       "      <td>2016.0</td>\n",
       "      <td>Adventure</td>\n",
       "      <td>0.00</td>\n",
       "      <td>0.00</td>\n",
       "      <td>0.01</td>\n",
       "      <td>0.0</td>\n",
       "      <td>NaN</td>\n",
       "      <td>NaN</td>\n",
       "      <td>NaN</td>\n",
       "    </tr>\n",
       "    <tr>\n",
       "      <th>16713</th>\n",
       "      <td>Spirits &amp; Spells</td>\n",
       "      <td>GBA</td>\n",
       "      <td>2003.0</td>\n",
       "      <td>Platform</td>\n",
       "      <td>0.01</td>\n",
       "      <td>0.00</td>\n",
       "      <td>0.00</td>\n",
       "      <td>0.0</td>\n",
       "      <td>NaN</td>\n",
       "      <td>NaN</td>\n",
       "      <td>NaN</td>\n",
       "    </tr>\n",
       "    <tr>\n",
       "      <th>16714</th>\n",
       "      <td>Winning Post 8 2016</td>\n",
       "      <td>PSV</td>\n",
       "      <td>2016.0</td>\n",
       "      <td>Simulation</td>\n",
       "      <td>0.00</td>\n",
       "      <td>0.00</td>\n",
       "      <td>0.01</td>\n",
       "      <td>0.0</td>\n",
       "      <td>NaN</td>\n",
       "      <td>NaN</td>\n",
       "      <td>NaN</td>\n",
       "    </tr>\n",
       "  </tbody>\n",
       "</table>\n",
       "</div>"
      ],
      "text/plain": [
       "                                Name Platform  Year_of_Release       Genre  \\\n",
       "16710  Samurai Warriors: Sanada Maru      PS3           2016.0      Action   \n",
       "16711               LMA Manager 2007     X360           2006.0      Sports   \n",
       "16712        Haitaka no Psychedelica      PSV           2016.0   Adventure   \n",
       "16713               Spirits & Spells      GBA           2003.0    Platform   \n",
       "16714            Winning Post 8 2016      PSV           2016.0  Simulation   \n",
       "\n",
       "       NA_sales  EU_sales  JP_sales  Other_sales  Critic_Score User_Score  \\\n",
       "16710      0.00      0.00      0.01          0.0           NaN        NaN   \n",
       "16711      0.00      0.01      0.00          0.0           NaN        NaN   \n",
       "16712      0.00      0.00      0.01          0.0           NaN        NaN   \n",
       "16713      0.01      0.00      0.00          0.0           NaN        NaN   \n",
       "16714      0.00      0.00      0.01          0.0           NaN        NaN   \n",
       "\n",
       "      Rating  \n",
       "16710    NaN  \n",
       "16711    NaN  \n",
       "16712    NaN  \n",
       "16713    NaN  \n",
       "16714    NaN  "
      ]
     },
     "execution_count": 6,
     "metadata": {},
     "output_type": "execute_result"
    }
   ],
   "source": [
    "#Print the last rows from the table using the tail() method.\n",
    "data.tail()"
   ]
  },
  {
   "cell_type": "code",
   "execution_count": 7,
   "metadata": {},
   "outputs": [
    {
     "name": "stdout",
     "output_type": "stream",
     "text": [
      "<class 'pandas.core.frame.DataFrame'>\n",
      "RangeIndex: 16715 entries, 0 to 16714\n",
      "Data columns (total 11 columns):\n",
      " #   Column           Non-Null Count  Dtype  \n",
      "---  ------           --------------  -----  \n",
      " 0   Name             16713 non-null  object \n",
      " 1   Platform         16715 non-null  object \n",
      " 2   Year_of_Release  16446 non-null  float64\n",
      " 3   Genre            16713 non-null  object \n",
      " 4   NA_sales         16715 non-null  float64\n",
      " 5   EU_sales         16715 non-null  float64\n",
      " 6   JP_sales         16715 non-null  float64\n",
      " 7   Other_sales      16715 non-null  float64\n",
      " 8   Critic_Score     8137 non-null   float64\n",
      " 9   User_Score       10014 non-null  object \n",
      " 10  Rating           9949 non-null   object \n",
      "dtypes: float64(6), object(5)\n",
      "memory usage: 1.4+ MB\n"
     ]
    }
   ],
   "source": [
    "#Let's check for general information using the info() method.\n",
    "data.info()"
   ]
  },
  {
   "cell_type": "code",
   "execution_count": 8,
   "metadata": {},
   "outputs": [
    {
     "data": {
      "text/html": [
       "<div>\n",
       "<style scoped>\n",
       "    .dataframe tbody tr th:only-of-type {\n",
       "        vertical-align: middle;\n",
       "    }\n",
       "\n",
       "    .dataframe tbody tr th {\n",
       "        vertical-align: top;\n",
       "    }\n",
       "\n",
       "    .dataframe thead th {\n",
       "        text-align: right;\n",
       "    }\n",
       "</style>\n",
       "<table border=\"1\" class=\"dataframe\">\n",
       "  <thead>\n",
       "    <tr style=\"text-align: right;\">\n",
       "      <th></th>\n",
       "      <th>Year_of_Release</th>\n",
       "      <th>NA_sales</th>\n",
       "      <th>EU_sales</th>\n",
       "      <th>JP_sales</th>\n",
       "      <th>Other_sales</th>\n",
       "      <th>Critic_Score</th>\n",
       "    </tr>\n",
       "  </thead>\n",
       "  <tbody>\n",
       "    <tr>\n",
       "      <th>count</th>\n",
       "      <td>16446.000000</td>\n",
       "      <td>16715.000000</td>\n",
       "      <td>16715.000000</td>\n",
       "      <td>16715.000000</td>\n",
       "      <td>16715.000000</td>\n",
       "      <td>8137.000000</td>\n",
       "    </tr>\n",
       "    <tr>\n",
       "      <th>mean</th>\n",
       "      <td>2006.484616</td>\n",
       "      <td>0.263377</td>\n",
       "      <td>0.145060</td>\n",
       "      <td>0.077617</td>\n",
       "      <td>0.047342</td>\n",
       "      <td>68.967679</td>\n",
       "    </tr>\n",
       "    <tr>\n",
       "      <th>std</th>\n",
       "      <td>5.877050</td>\n",
       "      <td>0.813604</td>\n",
       "      <td>0.503339</td>\n",
       "      <td>0.308853</td>\n",
       "      <td>0.186731</td>\n",
       "      <td>13.938165</td>\n",
       "    </tr>\n",
       "    <tr>\n",
       "      <th>min</th>\n",
       "      <td>1980.000000</td>\n",
       "      <td>0.000000</td>\n",
       "      <td>0.000000</td>\n",
       "      <td>0.000000</td>\n",
       "      <td>0.000000</td>\n",
       "      <td>13.000000</td>\n",
       "    </tr>\n",
       "    <tr>\n",
       "      <th>25%</th>\n",
       "      <td>2003.000000</td>\n",
       "      <td>0.000000</td>\n",
       "      <td>0.000000</td>\n",
       "      <td>0.000000</td>\n",
       "      <td>0.000000</td>\n",
       "      <td>60.000000</td>\n",
       "    </tr>\n",
       "    <tr>\n",
       "      <th>50%</th>\n",
       "      <td>2007.000000</td>\n",
       "      <td>0.080000</td>\n",
       "      <td>0.020000</td>\n",
       "      <td>0.000000</td>\n",
       "      <td>0.010000</td>\n",
       "      <td>71.000000</td>\n",
       "    </tr>\n",
       "    <tr>\n",
       "      <th>75%</th>\n",
       "      <td>2010.000000</td>\n",
       "      <td>0.240000</td>\n",
       "      <td>0.110000</td>\n",
       "      <td>0.040000</td>\n",
       "      <td>0.030000</td>\n",
       "      <td>79.000000</td>\n",
       "    </tr>\n",
       "    <tr>\n",
       "      <th>max</th>\n",
       "      <td>2016.000000</td>\n",
       "      <td>41.360000</td>\n",
       "      <td>28.960000</td>\n",
       "      <td>10.220000</td>\n",
       "      <td>10.570000</td>\n",
       "      <td>98.000000</td>\n",
       "    </tr>\n",
       "  </tbody>\n",
       "</table>\n",
       "</div>"
      ],
      "text/plain": [
       "       Year_of_Release      NA_sales      EU_sales      JP_sales  \\\n",
       "count     16446.000000  16715.000000  16715.000000  16715.000000   \n",
       "mean       2006.484616      0.263377      0.145060      0.077617   \n",
       "std           5.877050      0.813604      0.503339      0.308853   \n",
       "min        1980.000000      0.000000      0.000000      0.000000   \n",
       "25%        2003.000000      0.000000      0.000000      0.000000   \n",
       "50%        2007.000000      0.080000      0.020000      0.000000   \n",
       "75%        2010.000000      0.240000      0.110000      0.040000   \n",
       "max        2016.000000     41.360000     28.960000     10.220000   \n",
       "\n",
       "        Other_sales  Critic_Score  \n",
       "count  16715.000000   8137.000000  \n",
       "mean       0.047342     68.967679  \n",
       "std        0.186731     13.938165  \n",
       "min        0.000000     13.000000  \n",
       "25%        0.000000     60.000000  \n",
       "50%        0.010000     71.000000  \n",
       "75%        0.030000     79.000000  \n",
       "max       10.570000     98.000000  "
      ]
     },
     "execution_count": 8,
     "metadata": {},
     "output_type": "execute_result"
    }
   ],
   "source": [
    "#Using describe method on the cuantative values of the data set\n",
    "data.describe()"
   ]
  },
  {
   "cell_type": "code",
   "execution_count": 9,
   "metadata": {},
   "outputs": [
    {
     "data": {
      "text/html": [
       "<div>\n",
       "<style scoped>\n",
       "    .dataframe tbody tr th:only-of-type {\n",
       "        vertical-align: middle;\n",
       "    }\n",
       "\n",
       "    .dataframe tbody tr th {\n",
       "        vertical-align: top;\n",
       "    }\n",
       "\n",
       "    .dataframe thead th {\n",
       "        text-align: right;\n",
       "    }\n",
       "</style>\n",
       "<table border=\"1\" class=\"dataframe\">\n",
       "  <thead>\n",
       "    <tr style=\"text-align: right;\">\n",
       "      <th></th>\n",
       "      <th>Name</th>\n",
       "      <th>Platform</th>\n",
       "      <th>Genre</th>\n",
       "      <th>User_Score</th>\n",
       "      <th>Rating</th>\n",
       "    </tr>\n",
       "  </thead>\n",
       "  <tbody>\n",
       "    <tr>\n",
       "      <th>count</th>\n",
       "      <td>16713</td>\n",
       "      <td>16715</td>\n",
       "      <td>16713</td>\n",
       "      <td>10014</td>\n",
       "      <td>9949</td>\n",
       "    </tr>\n",
       "    <tr>\n",
       "      <th>unique</th>\n",
       "      <td>11559</td>\n",
       "      <td>31</td>\n",
       "      <td>12</td>\n",
       "      <td>96</td>\n",
       "      <td>8</td>\n",
       "    </tr>\n",
       "    <tr>\n",
       "      <th>top</th>\n",
       "      <td>Need for Speed: Most Wanted</td>\n",
       "      <td>PS2</td>\n",
       "      <td>Action</td>\n",
       "      <td>tbd</td>\n",
       "      <td>E</td>\n",
       "    </tr>\n",
       "    <tr>\n",
       "      <th>freq</th>\n",
       "      <td>12</td>\n",
       "      <td>2161</td>\n",
       "      <td>3369</td>\n",
       "      <td>2424</td>\n",
       "      <td>3990</td>\n",
       "    </tr>\n",
       "  </tbody>\n",
       "</table>\n",
       "</div>"
      ],
      "text/plain": [
       "                               Name Platform   Genre User_Score Rating\n",
       "count                         16713    16715   16713      10014   9949\n",
       "unique                        11559       31      12         96      8\n",
       "top     Need for Speed: Most Wanted      PS2  Action        tbd      E\n",
       "freq                             12     2161    3369       2424   3990"
      ]
     },
     "execution_count": 9,
     "metadata": {},
     "output_type": "execute_result"
    }
   ],
   "source": [
    "#Using describe method on the categorical values of the data set\n",
    "data.describe(include=['object'])"
   ]
  },
  {
   "cell_type": "code",
   "execution_count": 10,
   "metadata": {},
   "outputs": [
    {
     "data": {
      "text/html": [
       "<style type=\"text/css\">\n",
       "</style>\n",
       "<table id=\"T_31853_\">\n",
       "  <thead>\n",
       "    <tr>\n",
       "      <th class=\"blank level0\" >&nbsp;</th>\n",
       "      <th class=\"col_heading level0 col0\" >Platform</th>\n",
       "      <th class=\"col_heading level0 col1\" >count</th>\n",
       "      <th class=\"col_heading level0 col2\" >percent</th>\n",
       "    </tr>\n",
       "  </thead>\n",
       "  <tbody>\n",
       "    <tr>\n",
       "      <th id=\"T_31853_level0_row0\" class=\"row_heading level0 row0\" >0</th>\n",
       "      <td id=\"T_31853_row0_col0\" class=\"data row0 col0\" >PS2</td>\n",
       "      <td id=\"T_31853_row0_col1\" class=\"data row0 col1\" >2,161</td>\n",
       "      <td id=\"T_31853_row0_col2\" class=\"data row0 col2\" >12.93%</td>\n",
       "    </tr>\n",
       "    <tr>\n",
       "      <th id=\"T_31853_level0_row1\" class=\"row_heading level0 row1\" >1</th>\n",
       "      <td id=\"T_31853_row1_col0\" class=\"data row1 col0\" >DS</td>\n",
       "      <td id=\"T_31853_row1_col1\" class=\"data row1 col1\" >2,151</td>\n",
       "      <td id=\"T_31853_row1_col2\" class=\"data row1 col2\" >12.87%</td>\n",
       "    </tr>\n",
       "    <tr>\n",
       "      <th id=\"T_31853_level0_row2\" class=\"row_heading level0 row2\" >2</th>\n",
       "      <td id=\"T_31853_row2_col0\" class=\"data row2 col0\" >PS3</td>\n",
       "      <td id=\"T_31853_row2_col1\" class=\"data row2 col1\" >1,331</td>\n",
       "      <td id=\"T_31853_row2_col2\" class=\"data row2 col2\" >7.96%</td>\n",
       "    </tr>\n",
       "    <tr>\n",
       "      <th id=\"T_31853_level0_row3\" class=\"row_heading level0 row3\" >3</th>\n",
       "      <td id=\"T_31853_row3_col0\" class=\"data row3 col0\" >Wii</td>\n",
       "      <td id=\"T_31853_row3_col1\" class=\"data row3 col1\" >1,320</td>\n",
       "      <td id=\"T_31853_row3_col2\" class=\"data row3 col2\" >7.90%</td>\n",
       "    </tr>\n",
       "    <tr>\n",
       "      <th id=\"T_31853_level0_row4\" class=\"row_heading level0 row4\" >4</th>\n",
       "      <td id=\"T_31853_row4_col0\" class=\"data row4 col0\" >X360</td>\n",
       "      <td id=\"T_31853_row4_col1\" class=\"data row4 col1\" >1,262</td>\n",
       "      <td id=\"T_31853_row4_col2\" class=\"data row4 col2\" >7.55%</td>\n",
       "    </tr>\n",
       "    <tr>\n",
       "      <th id=\"T_31853_level0_row5\" class=\"row_heading level0 row5\" >5</th>\n",
       "      <td id=\"T_31853_row5_col0\" class=\"data row5 col0\" >PSP</td>\n",
       "      <td id=\"T_31853_row5_col1\" class=\"data row5 col1\" >1,209</td>\n",
       "      <td id=\"T_31853_row5_col2\" class=\"data row5 col2\" >7.23%</td>\n",
       "    </tr>\n",
       "    <tr>\n",
       "      <th id=\"T_31853_level0_row6\" class=\"row_heading level0 row6\" >6</th>\n",
       "      <td id=\"T_31853_row6_col0\" class=\"data row6 col0\" >PS</td>\n",
       "      <td id=\"T_31853_row6_col1\" class=\"data row6 col1\" >1,197</td>\n",
       "      <td id=\"T_31853_row6_col2\" class=\"data row6 col2\" >7.16%</td>\n",
       "    </tr>\n",
       "    <tr>\n",
       "      <th id=\"T_31853_level0_row7\" class=\"row_heading level0 row7\" >7</th>\n",
       "      <td id=\"T_31853_row7_col0\" class=\"data row7 col0\" >PC</td>\n",
       "      <td id=\"T_31853_row7_col1\" class=\"data row7 col1\" >974</td>\n",
       "      <td id=\"T_31853_row7_col2\" class=\"data row7 col2\" >5.83%</td>\n",
       "    </tr>\n",
       "    <tr>\n",
       "      <th id=\"T_31853_level0_row8\" class=\"row_heading level0 row8\" >8</th>\n",
       "      <td id=\"T_31853_row8_col0\" class=\"data row8 col0\" >XB</td>\n",
       "      <td id=\"T_31853_row8_col1\" class=\"data row8 col1\" >824</td>\n",
       "      <td id=\"T_31853_row8_col2\" class=\"data row8 col2\" >4.93%</td>\n",
       "    </tr>\n",
       "    <tr>\n",
       "      <th id=\"T_31853_level0_row9\" class=\"row_heading level0 row9\" >9</th>\n",
       "      <td id=\"T_31853_row9_col0\" class=\"data row9 col0\" >GBA</td>\n",
       "      <td id=\"T_31853_row9_col1\" class=\"data row9 col1\" >822</td>\n",
       "      <td id=\"T_31853_row9_col2\" class=\"data row9 col2\" >4.92%</td>\n",
       "    </tr>\n",
       "    <tr>\n",
       "      <th id=\"T_31853_level0_row10\" class=\"row_heading level0 row10\" >10</th>\n",
       "      <td id=\"T_31853_row10_col0\" class=\"data row10 col0\" >GC</td>\n",
       "      <td id=\"T_31853_row10_col1\" class=\"data row10 col1\" >556</td>\n",
       "      <td id=\"T_31853_row10_col2\" class=\"data row10 col2\" >3.33%</td>\n",
       "    </tr>\n",
       "    <tr>\n",
       "      <th id=\"T_31853_level0_row11\" class=\"row_heading level0 row11\" >11</th>\n",
       "      <td id=\"T_31853_row11_col0\" class=\"data row11 col0\" >3DS</td>\n",
       "      <td id=\"T_31853_row11_col1\" class=\"data row11 col1\" >520</td>\n",
       "      <td id=\"T_31853_row11_col2\" class=\"data row11 col2\" >3.11%</td>\n",
       "    </tr>\n",
       "    <tr>\n",
       "      <th id=\"T_31853_level0_row12\" class=\"row_heading level0 row12\" >12</th>\n",
       "      <td id=\"T_31853_row12_col0\" class=\"data row12 col0\" >PSV</td>\n",
       "      <td id=\"T_31853_row12_col1\" class=\"data row12 col1\" >430</td>\n",
       "      <td id=\"T_31853_row12_col2\" class=\"data row12 col2\" >2.57%</td>\n",
       "    </tr>\n",
       "    <tr>\n",
       "      <th id=\"T_31853_level0_row13\" class=\"row_heading level0 row13\" >13</th>\n",
       "      <td id=\"T_31853_row13_col0\" class=\"data row13 col0\" >PS4</td>\n",
       "      <td id=\"T_31853_row13_col1\" class=\"data row13 col1\" >392</td>\n",
       "      <td id=\"T_31853_row13_col2\" class=\"data row13 col2\" >2.35%</td>\n",
       "    </tr>\n",
       "    <tr>\n",
       "      <th id=\"T_31853_level0_row14\" class=\"row_heading level0 row14\" >14</th>\n",
       "      <td id=\"T_31853_row14_col0\" class=\"data row14 col0\" >N64</td>\n",
       "      <td id=\"T_31853_row14_col1\" class=\"data row14 col1\" >319</td>\n",
       "      <td id=\"T_31853_row14_col2\" class=\"data row14 col2\" >1.91%</td>\n",
       "    </tr>\n",
       "    <tr>\n",
       "      <th id=\"T_31853_level0_row15\" class=\"row_heading level0 row15\" >15</th>\n",
       "      <td id=\"T_31853_row15_col0\" class=\"data row15 col0\" >XOne</td>\n",
       "      <td id=\"T_31853_row15_col1\" class=\"data row15 col1\" >247</td>\n",
       "      <td id=\"T_31853_row15_col2\" class=\"data row15 col2\" >1.48%</td>\n",
       "    </tr>\n",
       "    <tr>\n",
       "      <th id=\"T_31853_level0_row16\" class=\"row_heading level0 row16\" >16</th>\n",
       "      <td id=\"T_31853_row16_col0\" class=\"data row16 col0\" >SNES</td>\n",
       "      <td id=\"T_31853_row16_col1\" class=\"data row16 col1\" >239</td>\n",
       "      <td id=\"T_31853_row16_col2\" class=\"data row16 col2\" >1.43%</td>\n",
       "    </tr>\n",
       "    <tr>\n",
       "      <th id=\"T_31853_level0_row17\" class=\"row_heading level0 row17\" >17</th>\n",
       "      <td id=\"T_31853_row17_col0\" class=\"data row17 col0\" >SAT</td>\n",
       "      <td id=\"T_31853_row17_col1\" class=\"data row17 col1\" >173</td>\n",
       "      <td id=\"T_31853_row17_col2\" class=\"data row17 col2\" >1.03%</td>\n",
       "    </tr>\n",
       "    <tr>\n",
       "      <th id=\"T_31853_level0_row18\" class=\"row_heading level0 row18\" >18</th>\n",
       "      <td id=\"T_31853_row18_col0\" class=\"data row18 col0\" >WiiU</td>\n",
       "      <td id=\"T_31853_row18_col1\" class=\"data row18 col1\" >147</td>\n",
       "      <td id=\"T_31853_row18_col2\" class=\"data row18 col2\" >0.88%</td>\n",
       "    </tr>\n",
       "    <tr>\n",
       "      <th id=\"T_31853_level0_row19\" class=\"row_heading level0 row19\" >19</th>\n",
       "      <td id=\"T_31853_row19_col0\" class=\"data row19 col0\" >2600</td>\n",
       "      <td id=\"T_31853_row19_col1\" class=\"data row19 col1\" >133</td>\n",
       "      <td id=\"T_31853_row19_col2\" class=\"data row19 col2\" >0.80%</td>\n",
       "    </tr>\n",
       "    <tr>\n",
       "      <th id=\"T_31853_level0_row20\" class=\"row_heading level0 row20\" >20</th>\n",
       "      <td id=\"T_31853_row20_col0\" class=\"data row20 col0\" >NES</td>\n",
       "      <td id=\"T_31853_row20_col1\" class=\"data row20 col1\" >98</td>\n",
       "      <td id=\"T_31853_row20_col2\" class=\"data row20 col2\" >0.59%</td>\n",
       "    </tr>\n",
       "    <tr>\n",
       "      <th id=\"T_31853_level0_row21\" class=\"row_heading level0 row21\" >21</th>\n",
       "      <td id=\"T_31853_row21_col0\" class=\"data row21 col0\" >GB</td>\n",
       "      <td id=\"T_31853_row21_col1\" class=\"data row21 col1\" >98</td>\n",
       "      <td id=\"T_31853_row21_col2\" class=\"data row21 col2\" >0.59%</td>\n",
       "    </tr>\n",
       "    <tr>\n",
       "      <th id=\"T_31853_level0_row22\" class=\"row_heading level0 row22\" >22</th>\n",
       "      <td id=\"T_31853_row22_col0\" class=\"data row22 col0\" >DC</td>\n",
       "      <td id=\"T_31853_row22_col1\" class=\"data row22 col1\" >52</td>\n",
       "      <td id=\"T_31853_row22_col2\" class=\"data row22 col2\" >0.31%</td>\n",
       "    </tr>\n",
       "    <tr>\n",
       "      <th id=\"T_31853_level0_row23\" class=\"row_heading level0 row23\" >23</th>\n",
       "      <td id=\"T_31853_row23_col0\" class=\"data row23 col0\" >GEN</td>\n",
       "      <td id=\"T_31853_row23_col1\" class=\"data row23 col1\" >29</td>\n",
       "      <td id=\"T_31853_row23_col2\" class=\"data row23 col2\" >0.17%</td>\n",
       "    </tr>\n",
       "    <tr>\n",
       "      <th id=\"T_31853_level0_row24\" class=\"row_heading level0 row24\" >24</th>\n",
       "      <td id=\"T_31853_row24_col0\" class=\"data row24 col0\" >NG</td>\n",
       "      <td id=\"T_31853_row24_col1\" class=\"data row24 col1\" >12</td>\n",
       "      <td id=\"T_31853_row24_col2\" class=\"data row24 col2\" >0.07%</td>\n",
       "    </tr>\n",
       "    <tr>\n",
       "      <th id=\"T_31853_level0_row25\" class=\"row_heading level0 row25\" >25</th>\n",
       "      <td id=\"T_31853_row25_col0\" class=\"data row25 col0\" >WS</td>\n",
       "      <td id=\"T_31853_row25_col1\" class=\"data row25 col1\" >6</td>\n",
       "      <td id=\"T_31853_row25_col2\" class=\"data row25 col2\" >0.04%</td>\n",
       "    </tr>\n",
       "    <tr>\n",
       "      <th id=\"T_31853_level0_row26\" class=\"row_heading level0 row26\" >26</th>\n",
       "      <td id=\"T_31853_row26_col0\" class=\"data row26 col0\" >SCD</td>\n",
       "      <td id=\"T_31853_row26_col1\" class=\"data row26 col1\" >6</td>\n",
       "      <td id=\"T_31853_row26_col2\" class=\"data row26 col2\" >0.04%</td>\n",
       "    </tr>\n",
       "    <tr>\n",
       "      <th id=\"T_31853_level0_row27\" class=\"row_heading level0 row27\" >27</th>\n",
       "      <td id=\"T_31853_row27_col0\" class=\"data row27 col0\" >3DO</td>\n",
       "      <td id=\"T_31853_row27_col1\" class=\"data row27 col1\" >3</td>\n",
       "      <td id=\"T_31853_row27_col2\" class=\"data row27 col2\" >0.02%</td>\n",
       "    </tr>\n",
       "    <tr>\n",
       "      <th id=\"T_31853_level0_row28\" class=\"row_heading level0 row28\" >28</th>\n",
       "      <td id=\"T_31853_row28_col0\" class=\"data row28 col0\" >TG16</td>\n",
       "      <td id=\"T_31853_row28_col1\" class=\"data row28 col1\" >2</td>\n",
       "      <td id=\"T_31853_row28_col2\" class=\"data row28 col2\" >0.01%</td>\n",
       "    </tr>\n",
       "    <tr>\n",
       "      <th id=\"T_31853_level0_row29\" class=\"row_heading level0 row29\" >29</th>\n",
       "      <td id=\"T_31853_row29_col0\" class=\"data row29 col0\" >PCFX</td>\n",
       "      <td id=\"T_31853_row29_col1\" class=\"data row29 col1\" >1</td>\n",
       "      <td id=\"T_31853_row29_col2\" class=\"data row29 col2\" >0.01%</td>\n",
       "    </tr>\n",
       "    <tr>\n",
       "      <th id=\"T_31853_level0_row30\" class=\"row_heading level0 row30\" >30</th>\n",
       "      <td id=\"T_31853_row30_col0\" class=\"data row30 col0\" >GG</td>\n",
       "      <td id=\"T_31853_row30_col1\" class=\"data row30 col1\" >1</td>\n",
       "      <td id=\"T_31853_row30_col2\" class=\"data row30 col2\" >0.01%</td>\n",
       "    </tr>\n",
       "  </tbody>\n",
       "</table>\n"
      ],
      "text/plain": [
       "<pandas.io.formats.style.Styler at 0x7f50fc3e4b90>"
      ]
     },
     "execution_count": 10,
     "metadata": {},
     "output_type": "execute_result"
    }
   ],
   "source": [
    "#The most popular platforms and their percents, popular for appearing the most in the data set\n",
    "data.stb.freq(['Platform'],style=True,cum_cols=False)"
   ]
  },
  {
   "cell_type": "markdown",
   "metadata": {},
   "source": [
    "<a class=\"anchor\" id=\"Overviewandstudyingthegeneralinformation\"></a>\n",
    "*The Big Picture Thus Far:*\n",
    "* We have a data set with the columns Name, Platform, Year_of_Release\tGenre, NA_sales, EU_sales\tJP_sales, Other_sales, Critic_Score, User_Score\tand Rating. This information should be enogh for us in order to determine whether a game succeeds or not? Could be, depends also in the missing values we have in the data.\n",
    "\n",
    "* We can see that we have a missing values in the columns Critic_Score, User_Score, Rating and weird values (zeros) in the columns EU_sales, JP_sales, Other_sales and NA_sales.\n",
    "\n",
    "* Pay attention! The data type in the Critic_Score columns is float64, and the data type in the User_Score column is object. Why? \n",
    "\n",
    "* Could be nice to check also the most popular games (popular for appearing the most in the data set) but we see there is 11559 unique values in the Name row. Maybe after will be possible. Will see."
   ]
  },
  {
   "cell_type": "markdown",
   "metadata": {},
   "source": [
    "<div class=\"alert alert-success\" style=\"box-shadow: 4px 4px 4px\">\n",
    "Success: Perfect conclusion!\n",
    "</div>"
   ]
  },
  {
   "cell_type": "markdown",
   "metadata": {},
   "source": [
    "# Preparing the data"
   ]
  },
  {
   "cell_type": "markdown",
   "metadata": {},
   "source": [
    "## Replacing the column names \n",
    "Making them lowercase so is easier work with them"
   ]
  },
  {
   "cell_type": "code",
   "execution_count": 11,
   "metadata": {},
   "outputs": [
    {
     "data": {
      "text/plain": [
       "Index(['name', 'platform', 'year_of_release', 'genre', 'na_sales', 'eu_sales',\n",
       "       'jp_sales', 'other_sales', 'critic_score', 'user_score', 'rating'],\n",
       "      dtype='object')"
      ]
     },
     "execution_count": 11,
     "metadata": {},
     "output_type": "execute_result"
    }
   ],
   "source": [
    "#Changing to lowercase\n",
    "data.columns = data.columns.str.lower()\n",
    "#let's check the names of the columns were changed \n",
    "data.columns"
   ]
  },
  {
   "cell_type": "markdown",
   "metadata": {},
   "source": [
    "<div class=\"alert alert-success\" style=\"box-shadow: 4px 4px 4px\">\n",
    "Success: Great!\n",
    "</div>"
   ]
  },
  {
   "cell_type": "markdown",
   "metadata": {},
   "source": [
    "## Replacing the column 'name' (if it is needed)\n",
    "We can appreciate that in the column name there is uppercase and lowercase letters. Let's change all the names to lowercase and check after that the unique values. If we see that the numbers of unique values is different after using the str.lower() method we will make the change permanently, if not we will just left the column originate. "
   ]
  },
  {
   "cell_type": "code",
   "execution_count": 12,
   "metadata": {},
   "outputs": [
    {
     "data": {
      "text/plain": [
       "11559"
      ]
     },
     "metadata": {},
     "output_type": "display_data"
    }
   ],
   "source": [
    "#Checking count of unique values for name column after the str.lower()\n",
    "display(data['name'].str.lower().value_counts().count())"
   ]
  },
  {
   "cell_type": "markdown",
   "metadata": {},
   "source": [
    "We see that we have the same count of unique values : 11559. Good! There is no duplicate values in the name column. In this case, let's continue, we are leaving the name column like it is. "
   ]
  },
  {
   "cell_type": "markdown",
   "metadata": {},
   "source": [
    "<div class=\"alert alert-success\" style=\"box-shadow: 4px 4px 4px\">\n",
    "Success: Correct!\n",
    "</div>"
   ]
  },
  {
   "cell_type": "markdown",
   "metadata": {},
   "source": [
    "## Looking at the data types"
   ]
  },
  {
   "cell_type": "markdown",
   "metadata": {},
   "source": [
    "#### taking care of user_score column data types"
   ]
  },
  {
   "cell_type": "markdown",
   "metadata": {},
   "source": [
    "We already know that there is a issue with the User_Score column, where the data type is object. Other than this, everything looks good with the data types. \n",
    "Let's take a closer look on the user_score column."
   ]
  },
  {
   "cell_type": "code",
   "execution_count": 13,
   "metadata": {},
   "outputs": [
    {
     "data": {
      "text/plain": [
       "count     10014\n",
       "unique       96\n",
       "top         tbd\n",
       "freq       2424\n",
       "Name: user_score, dtype: object"
      ]
     },
     "execution_count": 13,
     "metadata": {},
     "output_type": "execute_result"
    }
   ],
   "source": [
    "#Using describe method on the user_score column\n",
    "data['user_score'].describe(include=['object'])"
   ]
  },
  {
   "cell_type": "markdown",
   "metadata": {},
   "source": [
    "The most frequent  value in the user_score colum is tbd ('to be determined'). This explain why the column data type is object. We also see that we have 96 unique values. The maximun in 10, so I suppose there is a lot of numbers with fractions. Maybe we should round all that numbers? Will decide later. "
   ]
  },
  {
   "cell_type": "code",
   "execution_count": 14,
   "metadata": {},
   "outputs": [
    {
     "data": {
      "text/plain": [
       "array(['8', nan, '8.3', '8.5', '6.6', '8.4', '8.6', '7.7', '6.3', '7.4',\n",
       "       '8.2', '9', '7.9', '8.1', '8.7', '7.1', '3.4', '5.3', '4.8', '3.2',\n",
       "       '8.9', '6.4', '7.8', '7.5', '2.6', '7.2', '9.2', '7', '7.3', '4.3',\n",
       "       '7.6', '5.7', '5', '9.1', '6.5', 'tbd', '8.8', '6.9', '9.4', '6.8',\n",
       "       '6.1', '6.7', '5.4', '4', '4.9', '4.5', '9.3', '6.2', '4.2', '6',\n",
       "       '3.7', '4.1', '5.8', '5.6', '5.5', '4.4', '4.6', '5.9', '3.9',\n",
       "       '3.1', '2.9', '5.2', '3.3', '4.7', '5.1', '3.5', '2.5', '1.9', '3',\n",
       "       '2.7', '2.2', '2', '9.5', '2.1', '3.6', '2.8', '1.8', '3.8', '0',\n",
       "       '1.6', '9.6', '2.4', '1.7', '1.1', '0.3', '1.5', '0.7', '1.2',\n",
       "       '2.3', '0.5', '1.3', '0.2', '0.6', '1.4', '0.9', '1', '9.7'],\n",
       "      dtype=object)"
      ]
     },
     "execution_count": 14,
     "metadata": {},
     "output_type": "execute_result"
    }
   ],
   "source": [
    "#Using unique() method to look at the unique values for the user_score column\n",
    "data['user_score'].unique()"
   ]
  },
  {
   "cell_type": "markdown",
   "metadata": {},
   "source": [
    "We can appreciate that tbd is the only weird value in this column. We also know we have 2424 rows with this weird value and our data set has 16715 rows. Let's see this information in percentage."
   ]
  },
  {
   "cell_type": "code",
   "execution_count": 15,
   "metadata": {},
   "outputs": [
    {
     "name": "stdout",
     "output_type": "stream",
     "text": [
      "Percentage of rows in user_score column with tbd value: 14.50%\n"
     ]
    }
   ],
   "source": [
    "print('Percentage of rows in user_score column with tbd value: {:.2%}'.format(2424/16715))"
   ]
  },
  {
   "cell_type": "markdown",
   "metadata": {},
   "source": [
    "Oh! that percentage is really significant. 'to be determined' in the video games world means that the game is really new, and for that reason we still don't know the price. Before we take any decision about this value, let's check that all the rows with tbd value are for real related to new games (like supposed to be)."
   ]
  },
  {
   "cell_type": "code",
   "execution_count": 16,
   "metadata": {
    "scrolled": true
   },
   "outputs": [
    {
     "data": {
      "text/plain": [
       "2009.0    405\n",
       "2010.0    331\n",
       "2008.0    326\n",
       "2011.0    217\n",
       "2002.0    192\n",
       "2007.0    192\n",
       "2006.0    124\n",
       "2005.0    121\n",
       "2004.0    107\n",
       "2003.0     95\n",
       "2001.0     82\n",
       "2000.0     43\n",
       "2015.0     38\n",
       "2016.0     34\n",
       "2012.0     24\n",
       "2014.0     21\n",
       "2013.0     15\n",
       "1999.0      8\n",
       "1997.0      1\n",
       "Name: year_of_release, dtype: int64"
      ]
     },
     "execution_count": 16,
     "metadata": {},
     "output_type": "execute_result"
    }
   ],
   "source": [
    "#Cheking the year of release for values equals to 'tbd'\n",
    "data[data.user_score == \"tbd\"][\"year_of_release\"].value_counts()"
   ]
  },
  {
   "cell_type": "markdown",
   "metadata": {},
   "source": [
    "It's obvious that the tbd value in the user_score column is not related to new games that recently came in to the market. Our only option here is to assume that these values are a mistake and consider them missing values. \n",
    "Let's continue and when working with missing values, we will consider the tbd as  a missing value, if will be necessary a data type change after working with the missing values we will do it in the same part."
   ]
  },
  {
   "cell_type": "markdown",
   "metadata": {},
   "source": [
    "<div class=\"alert alert-success\" style=\"box-shadow: 4px 4px 4px\">\n",
    "Success: I couldn't agree more!\n",
    "</div>"
   ]
  },
  {
   "cell_type": "markdown",
   "metadata": {},
   "source": [
    "#### taking care of year_of_release column data types"
   ]
  },
  {
   "cell_type": "markdown",
   "metadata": {},
   "source": [
    "float64 it's an okay data type to use; however, if we are working with very large datasets, using an data type that requires fewer bits can save a lot of memory. Once again, let's fill the missing values of the year_of_release column and after we will avaible to change to int32 type."
   ]
  },
  {
   "cell_type": "markdown",
   "metadata": {},
   "source": [
    "<div class=\"alert alert-success\" style=\"box-shadow: 4px 4px 4px\">\n",
    "Success: Absolutely correct!\n",
    "</div>"
   ]
  },
  {
   "cell_type": "markdown",
   "metadata": {},
   "source": [
    "## Checking for missing values"
   ]
  },
  {
   "cell_type": "markdown",
   "metadata": {},
   "source": [
    "Let's check the missing values counts to each column and their percent"
   ]
  },
  {
   "cell_type": "code",
   "execution_count": 17,
   "metadata": {},
   "outputs": [
    {
     "data": {
      "text/html": [
       "<style type=\"text/css\">\n",
       "</style>\n",
       "<table id=\"T_2aaee_\">\n",
       "  <thead>\n",
       "    <tr>\n",
       "      <th class=\"blank level0\" >&nbsp;</th>\n",
       "      <th class=\"col_heading level0 col0\" >missing</th>\n",
       "      <th class=\"col_heading level0 col1\" >total</th>\n",
       "      <th class=\"col_heading level0 col2\" >percent</th>\n",
       "    </tr>\n",
       "  </thead>\n",
       "  <tbody>\n",
       "    <tr>\n",
       "      <th id=\"T_2aaee_level0_row0\" class=\"row_heading level0 row0\" >critic_score</th>\n",
       "      <td id=\"T_2aaee_row0_col0\" class=\"data row0 col0\" >8,578</td>\n",
       "      <td id=\"T_2aaee_row0_col1\" class=\"data row0 col1\" >16,715</td>\n",
       "      <td id=\"T_2aaee_row0_col2\" class=\"data row0 col2\" >51.32%</td>\n",
       "    </tr>\n",
       "    <tr>\n",
       "      <th id=\"T_2aaee_level0_row1\" class=\"row_heading level0 row1\" >rating</th>\n",
       "      <td id=\"T_2aaee_row1_col0\" class=\"data row1 col0\" >6,766</td>\n",
       "      <td id=\"T_2aaee_row1_col1\" class=\"data row1 col1\" >16,715</td>\n",
       "      <td id=\"T_2aaee_row1_col2\" class=\"data row1 col2\" >40.48%</td>\n",
       "    </tr>\n",
       "    <tr>\n",
       "      <th id=\"T_2aaee_level0_row2\" class=\"row_heading level0 row2\" >user_score</th>\n",
       "      <td id=\"T_2aaee_row2_col0\" class=\"data row2 col0\" >6,701</td>\n",
       "      <td id=\"T_2aaee_row2_col1\" class=\"data row2 col1\" >16,715</td>\n",
       "      <td id=\"T_2aaee_row2_col2\" class=\"data row2 col2\" >40.09%</td>\n",
       "    </tr>\n",
       "    <tr>\n",
       "      <th id=\"T_2aaee_level0_row3\" class=\"row_heading level0 row3\" >year_of_release</th>\n",
       "      <td id=\"T_2aaee_row3_col0\" class=\"data row3 col0\" >269</td>\n",
       "      <td id=\"T_2aaee_row3_col1\" class=\"data row3 col1\" >16,715</td>\n",
       "      <td id=\"T_2aaee_row3_col2\" class=\"data row3 col2\" >1.61%</td>\n",
       "    </tr>\n",
       "    <tr>\n",
       "      <th id=\"T_2aaee_level0_row4\" class=\"row_heading level0 row4\" >name</th>\n",
       "      <td id=\"T_2aaee_row4_col0\" class=\"data row4 col0\" >2</td>\n",
       "      <td id=\"T_2aaee_row4_col1\" class=\"data row4 col1\" >16,715</td>\n",
       "      <td id=\"T_2aaee_row4_col2\" class=\"data row4 col2\" >0.01%</td>\n",
       "    </tr>\n",
       "    <tr>\n",
       "      <th id=\"T_2aaee_level0_row5\" class=\"row_heading level0 row5\" >genre</th>\n",
       "      <td id=\"T_2aaee_row5_col0\" class=\"data row5 col0\" >2</td>\n",
       "      <td id=\"T_2aaee_row5_col1\" class=\"data row5 col1\" >16,715</td>\n",
       "      <td id=\"T_2aaee_row5_col2\" class=\"data row5 col2\" >0.01%</td>\n",
       "    </tr>\n",
       "    <tr>\n",
       "      <th id=\"T_2aaee_level0_row6\" class=\"row_heading level0 row6\" >platform</th>\n",
       "      <td id=\"T_2aaee_row6_col0\" class=\"data row6 col0\" >0</td>\n",
       "      <td id=\"T_2aaee_row6_col1\" class=\"data row6 col1\" >16,715</td>\n",
       "      <td id=\"T_2aaee_row6_col2\" class=\"data row6 col2\" >0.00%</td>\n",
       "    </tr>\n",
       "    <tr>\n",
       "      <th id=\"T_2aaee_level0_row7\" class=\"row_heading level0 row7\" >na_sales</th>\n",
       "      <td id=\"T_2aaee_row7_col0\" class=\"data row7 col0\" >0</td>\n",
       "      <td id=\"T_2aaee_row7_col1\" class=\"data row7 col1\" >16,715</td>\n",
       "      <td id=\"T_2aaee_row7_col2\" class=\"data row7 col2\" >0.00%</td>\n",
       "    </tr>\n",
       "    <tr>\n",
       "      <th id=\"T_2aaee_level0_row8\" class=\"row_heading level0 row8\" >eu_sales</th>\n",
       "      <td id=\"T_2aaee_row8_col0\" class=\"data row8 col0\" >0</td>\n",
       "      <td id=\"T_2aaee_row8_col1\" class=\"data row8 col1\" >16,715</td>\n",
       "      <td id=\"T_2aaee_row8_col2\" class=\"data row8 col2\" >0.00%</td>\n",
       "    </tr>\n",
       "    <tr>\n",
       "      <th id=\"T_2aaee_level0_row9\" class=\"row_heading level0 row9\" >jp_sales</th>\n",
       "      <td id=\"T_2aaee_row9_col0\" class=\"data row9 col0\" >0</td>\n",
       "      <td id=\"T_2aaee_row9_col1\" class=\"data row9 col1\" >16,715</td>\n",
       "      <td id=\"T_2aaee_row9_col2\" class=\"data row9 col2\" >0.00%</td>\n",
       "    </tr>\n",
       "    <tr>\n",
       "      <th id=\"T_2aaee_level0_row10\" class=\"row_heading level0 row10\" >other_sales</th>\n",
       "      <td id=\"T_2aaee_row10_col0\" class=\"data row10 col0\" >0</td>\n",
       "      <td id=\"T_2aaee_row10_col1\" class=\"data row10 col1\" >16,715</td>\n",
       "      <td id=\"T_2aaee_row10_col2\" class=\"data row10 col2\" >0.00%</td>\n",
       "    </tr>\n",
       "  </tbody>\n",
       "</table>\n"
      ],
      "text/plain": [
       "<pandas.io.formats.style.Styler at 0x7f50fbf39490>"
      ]
     },
     "execution_count": 17,
     "metadata": {},
     "output_type": "execute_result"
    }
   ],
   "source": [
    "#Using sidentable to look for missing values \n",
    "data.stb.missing(style=True)"
   ]
  },
  {
   "cell_type": "markdown",
   "metadata": {},
   "source": [
    "Look's like we have a lot of missing values in this data set. In order to understand the magnitude of the case let's check the rows where we have at less one missing value."
   ]
  },
  {
   "cell_type": "code",
   "execution_count": 18,
   "metadata": {},
   "outputs": [
    {
     "data": {
      "text/html": [
       "<div>\n",
       "<style scoped>\n",
       "    .dataframe tbody tr th:only-of-type {\n",
       "        vertical-align: middle;\n",
       "    }\n",
       "\n",
       "    .dataframe tbody tr th {\n",
       "        vertical-align: top;\n",
       "    }\n",
       "\n",
       "    .dataframe thead th {\n",
       "        text-align: right;\n",
       "    }\n",
       "</style>\n",
       "<table border=\"1\" class=\"dataframe\">\n",
       "  <thead>\n",
       "    <tr style=\"text-align: right;\">\n",
       "      <th></th>\n",
       "      <th>name</th>\n",
       "      <th>platform</th>\n",
       "      <th>year_of_release</th>\n",
       "      <th>genre</th>\n",
       "      <th>na_sales</th>\n",
       "      <th>eu_sales</th>\n",
       "      <th>jp_sales</th>\n",
       "      <th>other_sales</th>\n",
       "      <th>critic_score</th>\n",
       "      <th>user_score</th>\n",
       "      <th>rating</th>\n",
       "    </tr>\n",
       "  </thead>\n",
       "  <tbody>\n",
       "    <tr>\n",
       "      <th>1</th>\n",
       "      <td>Super Mario Bros.</td>\n",
       "      <td>NES</td>\n",
       "      <td>1985.0</td>\n",
       "      <td>Platform</td>\n",
       "      <td>29.08</td>\n",
       "      <td>3.58</td>\n",
       "      <td>6.81</td>\n",
       "      <td>0.77</td>\n",
       "      <td>NaN</td>\n",
       "      <td>NaN</td>\n",
       "      <td>NaN</td>\n",
       "    </tr>\n",
       "    <tr>\n",
       "      <th>4</th>\n",
       "      <td>Pokemon Red/Pokemon Blue</td>\n",
       "      <td>GB</td>\n",
       "      <td>1996.0</td>\n",
       "      <td>Role-Playing</td>\n",
       "      <td>11.27</td>\n",
       "      <td>8.89</td>\n",
       "      <td>10.22</td>\n",
       "      <td>1.00</td>\n",
       "      <td>NaN</td>\n",
       "      <td>NaN</td>\n",
       "      <td>NaN</td>\n",
       "    </tr>\n",
       "    <tr>\n",
       "      <th>5</th>\n",
       "      <td>Tetris</td>\n",
       "      <td>GB</td>\n",
       "      <td>1989.0</td>\n",
       "      <td>Puzzle</td>\n",
       "      <td>23.20</td>\n",
       "      <td>2.26</td>\n",
       "      <td>4.22</td>\n",
       "      <td>0.58</td>\n",
       "      <td>NaN</td>\n",
       "      <td>NaN</td>\n",
       "      <td>NaN</td>\n",
       "    </tr>\n",
       "    <tr>\n",
       "      <th>9</th>\n",
       "      <td>Duck Hunt</td>\n",
       "      <td>NES</td>\n",
       "      <td>1984.0</td>\n",
       "      <td>Shooter</td>\n",
       "      <td>26.93</td>\n",
       "      <td>0.63</td>\n",
       "      <td>0.28</td>\n",
       "      <td>0.47</td>\n",
       "      <td>NaN</td>\n",
       "      <td>NaN</td>\n",
       "      <td>NaN</td>\n",
       "    </tr>\n",
       "    <tr>\n",
       "      <th>10</th>\n",
       "      <td>Nintendogs</td>\n",
       "      <td>DS</td>\n",
       "      <td>2005.0</td>\n",
       "      <td>Simulation</td>\n",
       "      <td>9.05</td>\n",
       "      <td>10.95</td>\n",
       "      <td>1.93</td>\n",
       "      <td>2.74</td>\n",
       "      <td>NaN</td>\n",
       "      <td>NaN</td>\n",
       "      <td>NaN</td>\n",
       "    </tr>\n",
       "    <tr>\n",
       "      <th>...</th>\n",
       "      <td>...</td>\n",
       "      <td>...</td>\n",
       "      <td>...</td>\n",
       "      <td>...</td>\n",
       "      <td>...</td>\n",
       "      <td>...</td>\n",
       "      <td>...</td>\n",
       "      <td>...</td>\n",
       "      <td>...</td>\n",
       "      <td>...</td>\n",
       "      <td>...</td>\n",
       "    </tr>\n",
       "    <tr>\n",
       "      <th>16710</th>\n",
       "      <td>Samurai Warriors: Sanada Maru</td>\n",
       "      <td>PS3</td>\n",
       "      <td>2016.0</td>\n",
       "      <td>Action</td>\n",
       "      <td>0.00</td>\n",
       "      <td>0.00</td>\n",
       "      <td>0.01</td>\n",
       "      <td>0.00</td>\n",
       "      <td>NaN</td>\n",
       "      <td>NaN</td>\n",
       "      <td>NaN</td>\n",
       "    </tr>\n",
       "    <tr>\n",
       "      <th>16711</th>\n",
       "      <td>LMA Manager 2007</td>\n",
       "      <td>X360</td>\n",
       "      <td>2006.0</td>\n",
       "      <td>Sports</td>\n",
       "      <td>0.00</td>\n",
       "      <td>0.01</td>\n",
       "      <td>0.00</td>\n",
       "      <td>0.00</td>\n",
       "      <td>NaN</td>\n",
       "      <td>NaN</td>\n",
       "      <td>NaN</td>\n",
       "    </tr>\n",
       "    <tr>\n",
       "      <th>16712</th>\n",
       "      <td>Haitaka no Psychedelica</td>\n",
       "      <td>PSV</td>\n",
       "      <td>2016.0</td>\n",
       "      <td>Adventure</td>\n",
       "      <td>0.00</td>\n",
       "      <td>0.00</td>\n",
       "      <td>0.01</td>\n",
       "      <td>0.00</td>\n",
       "      <td>NaN</td>\n",
       "      <td>NaN</td>\n",
       "      <td>NaN</td>\n",
       "    </tr>\n",
       "    <tr>\n",
       "      <th>16713</th>\n",
       "      <td>Spirits &amp; Spells</td>\n",
       "      <td>GBA</td>\n",
       "      <td>2003.0</td>\n",
       "      <td>Platform</td>\n",
       "      <td>0.01</td>\n",
       "      <td>0.00</td>\n",
       "      <td>0.00</td>\n",
       "      <td>0.00</td>\n",
       "      <td>NaN</td>\n",
       "      <td>NaN</td>\n",
       "      <td>NaN</td>\n",
       "    </tr>\n",
       "    <tr>\n",
       "      <th>16714</th>\n",
       "      <td>Winning Post 8 2016</td>\n",
       "      <td>PSV</td>\n",
       "      <td>2016.0</td>\n",
       "      <td>Simulation</td>\n",
       "      <td>0.00</td>\n",
       "      <td>0.00</td>\n",
       "      <td>0.01</td>\n",
       "      <td>0.00</td>\n",
       "      <td>NaN</td>\n",
       "      <td>NaN</td>\n",
       "      <td>NaN</td>\n",
       "    </tr>\n",
       "  </tbody>\n",
       "</table>\n",
       "<p>8837 rows × 11 columns</p>\n",
       "</div>"
      ],
      "text/plain": [
       "                                name platform  year_of_release         genre  \\\n",
       "1                  Super Mario Bros.      NES           1985.0      Platform   \n",
       "4           Pokemon Red/Pokemon Blue       GB           1996.0  Role-Playing   \n",
       "5                             Tetris       GB           1989.0        Puzzle   \n",
       "9                          Duck Hunt      NES           1984.0       Shooter   \n",
       "10                        Nintendogs       DS           2005.0    Simulation   \n",
       "...                              ...      ...              ...           ...   \n",
       "16710  Samurai Warriors: Sanada Maru      PS3           2016.0        Action   \n",
       "16711               LMA Manager 2007     X360           2006.0        Sports   \n",
       "16712        Haitaka no Psychedelica      PSV           2016.0     Adventure   \n",
       "16713               Spirits & Spells      GBA           2003.0      Platform   \n",
       "16714            Winning Post 8 2016      PSV           2016.0    Simulation   \n",
       "\n",
       "       na_sales  eu_sales  jp_sales  other_sales  critic_score user_score  \\\n",
       "1         29.08      3.58      6.81         0.77           NaN        NaN   \n",
       "4         11.27      8.89     10.22         1.00           NaN        NaN   \n",
       "5         23.20      2.26      4.22         0.58           NaN        NaN   \n",
       "9         26.93      0.63      0.28         0.47           NaN        NaN   \n",
       "10         9.05     10.95      1.93         2.74           NaN        NaN   \n",
       "...         ...       ...       ...          ...           ...        ...   \n",
       "16710      0.00      0.00      0.01         0.00           NaN        NaN   \n",
       "16711      0.00      0.01      0.00         0.00           NaN        NaN   \n",
       "16712      0.00      0.00      0.01         0.00           NaN        NaN   \n",
       "16713      0.01      0.00      0.00         0.00           NaN        NaN   \n",
       "16714      0.00      0.00      0.01         0.00           NaN        NaN   \n",
       "\n",
       "      rating  \n",
       "1        NaN  \n",
       "4        NaN  \n",
       "5        NaN  \n",
       "9        NaN  \n",
       "10       NaN  \n",
       "...      ...  \n",
       "16710    NaN  \n",
       "16711    NaN  \n",
       "16712    NaN  \n",
       "16713    NaN  \n",
       "16714    NaN  \n",
       "\n",
       "[8837 rows x 11 columns]"
      ]
     },
     "execution_count": 18,
     "metadata": {},
     "output_type": "execute_result"
    }
   ],
   "source": [
    "data[data.isnull().any(axis=1)]"
   ]
  },
  {
   "cell_type": "markdown",
   "metadata": {},
   "source": [
    "8837 rows! We don't have a completed data in half of the data set! (there is 16715 rows).<br>\n",
    "These mean we have a lot of work to do!"
   ]
  },
  {
   "cell_type": "markdown",
   "metadata": {},
   "source": [
    "#### Missing values in name and genre column\n",
    "In the name and genre column we only have 2 rows with missing values, let's check if they are the same rows."
   ]
  },
  {
   "cell_type": "code",
   "execution_count": 19,
   "metadata": {},
   "outputs": [
    {
     "data": {
      "text/html": [
       "<div>\n",
       "<style scoped>\n",
       "    .dataframe tbody tr th:only-of-type {\n",
       "        vertical-align: middle;\n",
       "    }\n",
       "\n",
       "    .dataframe tbody tr th {\n",
       "        vertical-align: top;\n",
       "    }\n",
       "\n",
       "    .dataframe thead th {\n",
       "        text-align: right;\n",
       "    }\n",
       "</style>\n",
       "<table border=\"1\" class=\"dataframe\">\n",
       "  <thead>\n",
       "    <tr style=\"text-align: right;\">\n",
       "      <th></th>\n",
       "      <th>name</th>\n",
       "      <th>platform</th>\n",
       "      <th>year_of_release</th>\n",
       "      <th>genre</th>\n",
       "      <th>na_sales</th>\n",
       "      <th>eu_sales</th>\n",
       "      <th>jp_sales</th>\n",
       "      <th>other_sales</th>\n",
       "      <th>critic_score</th>\n",
       "      <th>user_score</th>\n",
       "      <th>rating</th>\n",
       "    </tr>\n",
       "  </thead>\n",
       "  <tbody>\n",
       "    <tr>\n",
       "      <th>659</th>\n",
       "      <td>NaN</td>\n",
       "      <td>GEN</td>\n",
       "      <td>1993.0</td>\n",
       "      <td>NaN</td>\n",
       "      <td>1.78</td>\n",
       "      <td>0.53</td>\n",
       "      <td>0.00</td>\n",
       "      <td>0.08</td>\n",
       "      <td>NaN</td>\n",
       "      <td>NaN</td>\n",
       "      <td>NaN</td>\n",
       "    </tr>\n",
       "    <tr>\n",
       "      <th>14244</th>\n",
       "      <td>NaN</td>\n",
       "      <td>GEN</td>\n",
       "      <td>1993.0</td>\n",
       "      <td>NaN</td>\n",
       "      <td>0.00</td>\n",
       "      <td>0.00</td>\n",
       "      <td>0.03</td>\n",
       "      <td>0.00</td>\n",
       "      <td>NaN</td>\n",
       "      <td>NaN</td>\n",
       "      <td>NaN</td>\n",
       "    </tr>\n",
       "  </tbody>\n",
       "</table>\n",
       "</div>"
      ],
      "text/plain": [
       "      name platform  year_of_release genre  na_sales  eu_sales  jp_sales  \\\n",
       "659    NaN      GEN           1993.0   NaN      1.78      0.53      0.00   \n",
       "14244  NaN      GEN           1993.0   NaN      0.00      0.00      0.03   \n",
       "\n",
       "       other_sales  critic_score user_score rating  \n",
       "659           0.08           NaN        NaN    NaN  \n",
       "14244         0.00           NaN        NaN    NaN  "
      ]
     },
     "execution_count": 19,
     "metadata": {},
     "output_type": "execute_result"
    }
   ],
   "source": [
    "#Making a filter\n",
    "name_genre_null_data = data[['name','genre']].isnull().all(axis=1)\n",
    "#Checking\n",
    "data[name_genre_null_data]"
   ]
  },
  {
   "cell_type": "markdown",
   "metadata": {},
   "source": [
    "They are the same rows. So only two rows in total with missing values! We can drop this rows, they are ingifnificant in coparation with the size of the data set. And also there is no way we can know what the original names are. "
   ]
  },
  {
   "cell_type": "markdown",
   "metadata": {},
   "source": [
    "<div class=\"alert alert-success\" style=\"box-shadow: 4px 4px 4px\">\n",
    "Success: Agree\n",
    "</div>"
   ]
  },
  {
   "cell_type": "code",
   "execution_count": 20,
   "metadata": {
    "scrolled": true
   },
   "outputs": [],
   "source": [
    "#Using drop() method and the index of the rows\n",
    "data = data.drop([659, 14244])  "
   ]
  },
  {
   "cell_type": "markdown",
   "metadata": {},
   "source": [
    "#### Missing values in the user_score column "
   ]
  },
  {
   "cell_type": "markdown",
   "metadata": {},
   "source": [
    "40.09% of the values in the user_score column are missing and also 14.50% of them are 'tbd'. In total 54.59% of the values are missing. \n",
    "\n",
    "We will not fill these missing values because there is a lot of them, and trying to fill them will distortion our results in future analysis. So we will use the float('nan') to fill these missing values.\n",
    "\n",
    "Let's make a funtion for this!"
   ]
  },
  {
   "cell_type": "code",
   "execution_count": 21,
   "metadata": {},
   "outputs": [],
   "source": [
    "def replace(user_score):\n",
    "    if user_score == 'tbd':\n",
    "        return float(\"nan\")\n",
    "    if pd.isnull(user_score):\n",
    "        return float(\"nan\")\n",
    "    else:\n",
    "        return pd.to_numeric(user_score)\n",
    " \n",
    "data['user_score'] = data['user_score'].apply(replace)"
   ]
  },
  {
   "cell_type": "markdown",
   "metadata": {},
   "source": [
    "<div class=\"alert alert-success\" style=\"box-shadow: 4px 4px 4px\">\n",
    "Success: Such an amazing function!\n",
    "</div>"
   ]
  },
  {
   "cell_type": "markdown",
   "metadata": {},
   "source": [
    "#### Missing values in the critic_score\tand\trating columns"
   ]
  },
  {
   "cell_type": "markdown",
   "metadata": {},
   "source": [
    "The missing values in the critic_score column are 51.32%, and the missing values in the rating column are 40.48%. Once again, we can't fill these missing values because trying to fill them will distortion our results in future analysis.\n",
    "We will use float(\"nan\") in the critic_score column.\n",
    "And in the rating column we will use the value -1 for the missing values. Why? Because we have in this column categorical variables, the -1 will be easy to detect."
   ]
  },
  {
   "cell_type": "markdown",
   "metadata": {},
   "source": [
    "<div class=\"alert alert-success\" style=\"box-shadow: 4px 4px 4px\">\n",
    "Success: It is interestiong decision to use -1! \n",
    "</div>"
   ]
  },
  {
   "cell_type": "code",
   "execution_count": 22,
   "metadata": {},
   "outputs": [],
   "source": [
    "#Filling missing values with float('nan') in the critic_score column, using apply() method\n",
    "data['critic_score'] = data['critic_score'].apply(replace)\n",
    "#Filling missing values with -1 in the rating column, using fillna() method\n",
    "data['rating'] = data['rating'].fillna(-1)"
   ]
  },
  {
   "cell_type": "markdown",
   "metadata": {},
   "source": [
    "#### Missing values in the year_of_release column"
   ]
  },
  {
   "cell_type": "markdown",
   "metadata": {},
   "source": [
    "Let's group the data by name and platform and calculate the most popular year_of_release for each model"
   ]
  },
  {
   "cell_type": "code",
   "execution_count": 23,
   "metadata": {},
   "outputs": [
    {
     "data": {
      "text/plain": [
       "name\n",
       " Beyblade Burst                 2016.0\n",
       " Fire Emblem Fates              2015.0\n",
       " Frozen: Olaf's Quest           2013.0\n",
       " Haikyu!! Cross Team Match!     2016.0\n",
       " Tales of Xillia 2              2012.0\n",
       "                                 ...  \n",
       "thinkSMART: Chess for Kids      2011.0\n",
       "uDraw Studio                    2010.0\n",
       "uDraw Studio: Instant Artist    2011.0\n",
       "wwe Smackdown vs. Raw 2006          []\n",
       "¡Shin Chan Flipa en colores!    2007.0\n",
       "Name: year_of_release, Length: 11559, dtype: object"
      ]
     },
     "metadata": {},
     "output_type": "display_data"
    }
   ],
   "source": [
    "df = data.groupby('name')['year_of_release'].agg(lambda s: s.mode())\n",
    "display(df)"
   ]
  },
  {
   "cell_type": "markdown",
   "metadata": {},
   "source": [
    "We can see we don't have a value for year_of_release to every games name. So trying to use tha name to fill the year_of_release is not so easy. We are talking about 269 values, that represent 1.61% of the rows. We should just drop them. But first, let's check if this missing values are related with a specific platform or game name. Just to be sure nothing weird is going on here."
   ]
  },
  {
   "cell_type": "code",
   "execution_count": 24,
   "metadata": {},
   "outputs": [
    {
     "data": {
      "text/plain": [
       "LEGO Harry Potter: Years 5-7    7\n",
       "Happy Feet Two                  4\n",
       "Rock Band                       4\n",
       "Test Drive Unlimited 2          3\n",
       "Bejeweled 3                     3\n",
       "                               ..\n",
       "Jet X20                         1\n",
       "Tony Hawk's Downhill Jam        1\n",
       "Tribes: Aerial Assault          1\n",
       "Big Beach Sports 2              1\n",
       "Hakuouki: Shinsengumi Kitan     1\n",
       "Name: name, Length: 232, dtype: int64"
      ]
     },
     "execution_count": 24,
     "metadata": {},
     "output_type": "execute_result"
    }
   ],
   "source": [
    "#Cheking with value_counts() counts of games names for year_of_release values that are missing\n",
    "data[data.year_of_release.isnull()][\"name\"].value_counts()"
   ]
  },
  {
   "cell_type": "code",
   "execution_count": 25,
   "metadata": {},
   "outputs": [
    {
     "data": {
      "text/plain": [
       "PS2     34\n",
       "Wii     34\n",
       "X360    30\n",
       "DS      30\n",
       "PS3     25\n",
       "XB      21\n",
       "2600    17\n",
       "PC      17\n",
       "PSP     16\n",
       "GC      14\n",
       "GBA     11\n",
       "3DS      8\n",
       "PS       7\n",
       "N64      3\n",
       "GB       1\n",
       "PSV      1\n",
       "Name: platform, dtype: int64"
      ]
     },
     "execution_count": 25,
     "metadata": {},
     "output_type": "execute_result"
    }
   ],
   "source": [
    "#Cheking with value_counts() counts of platforms for year_of_release values that are missing\n",
    "data[data.year_of_release.isnull()][\"platform\"].value_counts()"
   ]
  },
  {
   "cell_type": "markdown",
   "metadata": {},
   "source": [
    "Okay! Looks like this missing values are not related with a specific platform or game name. Let's drop them!"
   ]
  },
  {
   "cell_type": "markdown",
   "metadata": {},
   "source": [
    "<div class=\"alert alert-success\" style=\"box-shadow: 4px 4px 4px\">\n",
    "Success: 😂\n",
    "</div>"
   ]
  },
  {
   "cell_type": "code",
   "execution_count": 26,
   "metadata": {},
   "outputs": [],
   "source": [
    "#Get names of indexes for which value for year_of_release is missing\n",
    "df = data[data['year_of_release'].isnull()].index\n",
    "#drop the rows with missing values in year_of_release\n",
    "data.drop(df, inplace = True)"
   ]
  },
  {
   "cell_type": "markdown",
   "metadata": {},
   "source": [
    "For the end! Changing the data type to int32"
   ]
  },
  {
   "cell_type": "code",
   "execution_count": 27,
   "metadata": {},
   "outputs": [],
   "source": [
    "data['year_of_release'] = data['year_of_release'].astype(\"int32\", errors='ignore')"
   ]
  },
  {
   "cell_type": "markdown",
   "metadata": {},
   "source": [
    "#### Let's check that the missing values and data types looks like we want to."
   ]
  },
  {
   "cell_type": "code",
   "execution_count": 28,
   "metadata": {},
   "outputs": [
    {
     "name": "stdout",
     "output_type": "stream",
     "text": [
      "<class 'pandas.core.frame.DataFrame'>\n",
      "Int64Index: 16444 entries, 0 to 16714\n",
      "Data columns (total 11 columns):\n",
      " #   Column           Non-Null Count  Dtype  \n",
      "---  ------           --------------  -----  \n",
      " 0   name             16444 non-null  object \n",
      " 1   platform         16444 non-null  object \n",
      " 2   year_of_release  16444 non-null  int32  \n",
      " 3   genre            16444 non-null  object \n",
      " 4   na_sales         16444 non-null  float64\n",
      " 5   eu_sales         16444 non-null  float64\n",
      " 6   jp_sales         16444 non-null  float64\n",
      " 7   other_sales      16444 non-null  float64\n",
      " 8   critic_score     7983 non-null   float64\n",
      " 9   user_score       7463 non-null   float64\n",
      " 10  rating           16444 non-null  object \n",
      "dtypes: float64(6), int32(1), object(4)\n",
      "memory usage: 1.4+ MB\n"
     ]
    }
   ],
   "source": [
    "#info() method to the end of working with missing values and data types\n",
    "data.info()"
   ]
  },
  {
   "cell_type": "markdown",
   "metadata": {},
   "source": [
    "Perfect! We finished our work with the missing values and the data types"
   ]
  },
  {
   "cell_type": "markdown",
   "metadata": {},
   "source": [
    "## Calculating the total sales (the sum of sales in all regions) for each game and putting these values in a separate column"
   ]
  },
  {
   "cell_type": "code",
   "execution_count": 29,
   "metadata": {},
   "outputs": [],
   "source": [
    "data['total_sales'] = data[['na_sales','eu_sales','jp_sales','other_sales']].sum(axis=1)"
   ]
  },
  {
   "cell_type": "code",
   "execution_count": 30,
   "metadata": {},
   "outputs": [
    {
     "data": {
      "text/html": [
       "<div>\n",
       "<style scoped>\n",
       "    .dataframe tbody tr th:only-of-type {\n",
       "        vertical-align: middle;\n",
       "    }\n",
       "\n",
       "    .dataframe tbody tr th {\n",
       "        vertical-align: top;\n",
       "    }\n",
       "\n",
       "    .dataframe thead th {\n",
       "        text-align: right;\n",
       "    }\n",
       "</style>\n",
       "<table border=\"1\" class=\"dataframe\">\n",
       "  <thead>\n",
       "    <tr style=\"text-align: right;\">\n",
       "      <th></th>\n",
       "      <th>name</th>\n",
       "      <th>platform</th>\n",
       "      <th>year_of_release</th>\n",
       "      <th>genre</th>\n",
       "      <th>na_sales</th>\n",
       "      <th>eu_sales</th>\n",
       "      <th>jp_sales</th>\n",
       "      <th>other_sales</th>\n",
       "      <th>critic_score</th>\n",
       "      <th>user_score</th>\n",
       "      <th>rating</th>\n",
       "      <th>total_sales</th>\n",
       "    </tr>\n",
       "  </thead>\n",
       "  <tbody>\n",
       "    <tr>\n",
       "      <th>0</th>\n",
       "      <td>Wii Sports</td>\n",
       "      <td>Wii</td>\n",
       "      <td>2006</td>\n",
       "      <td>Sports</td>\n",
       "      <td>41.36</td>\n",
       "      <td>28.96</td>\n",
       "      <td>3.77</td>\n",
       "      <td>8.45</td>\n",
       "      <td>76.0</td>\n",
       "      <td>8.0</td>\n",
       "      <td>E</td>\n",
       "      <td>82.54</td>\n",
       "    </tr>\n",
       "    <tr>\n",
       "      <th>1</th>\n",
       "      <td>Super Mario Bros.</td>\n",
       "      <td>NES</td>\n",
       "      <td>1985</td>\n",
       "      <td>Platform</td>\n",
       "      <td>29.08</td>\n",
       "      <td>3.58</td>\n",
       "      <td>6.81</td>\n",
       "      <td>0.77</td>\n",
       "      <td>NaN</td>\n",
       "      <td>NaN</td>\n",
       "      <td>-1</td>\n",
       "      <td>40.24</td>\n",
       "    </tr>\n",
       "  </tbody>\n",
       "</table>\n",
       "</div>"
      ],
      "text/plain": [
       "                name platform  year_of_release     genre  na_sales  eu_sales  \\\n",
       "0         Wii Sports      Wii             2006    Sports     41.36     28.96   \n",
       "1  Super Mario Bros.      NES             1985  Platform     29.08      3.58   \n",
       "\n",
       "   jp_sales  other_sales  critic_score  user_score rating  total_sales  \n",
       "0      3.77         8.45          76.0         8.0      E        82.54  \n",
       "1      6.81         0.77           NaN         NaN     -1        40.24  "
      ]
     },
     "execution_count": 30,
     "metadata": {},
     "output_type": "execute_result"
    }
   ],
   "source": [
    "#Checking we added the column total_sales\n",
    "data.head(2)"
   ]
  },
  {
   "cell_type": "markdown",
   "metadata": {},
   "source": [
    "## Looking for duplicates"
   ]
  },
  {
   "cell_type": "code",
   "execution_count": 31,
   "metadata": {},
   "outputs": [
    {
     "data": {
      "text/plain": [
       "0"
      ]
     },
     "execution_count": 31,
     "metadata": {},
     "output_type": "execute_result"
    }
   ],
   "source": [
    "data.duplicated().sum()"
   ]
  },
  {
   "cell_type": "markdown",
   "metadata": {},
   "source": [
    "There are no duplicates! We can continue working."
   ]
  },
  {
   "cell_type": "markdown",
   "metadata": {},
   "source": [
    "# Analyzing the data"
   ]
  },
  {
   "cell_type": "markdown",
   "metadata": {},
   "source": [
    "## Looking at how many games were released in different years. \n",
    "\n",
    "Is the data for every period significant?"
   ]
  },
  {
   "cell_type": "code",
   "execution_count": 32,
   "metadata": {
    "scrolled": true
   },
   "outputs": [
    {
     "data": {
      "text/html": [
       "<div>\n",
       "<style scoped>\n",
       "    .dataframe tbody tr th:only-of-type {\n",
       "        vertical-align: middle;\n",
       "    }\n",
       "\n",
       "    .dataframe tbody tr th {\n",
       "        vertical-align: top;\n",
       "    }\n",
       "\n",
       "    .dataframe thead th {\n",
       "        text-align: right;\n",
       "    }\n",
       "</style>\n",
       "<table border=\"1\" class=\"dataframe\">\n",
       "  <thead>\n",
       "    <tr style=\"text-align: right;\">\n",
       "      <th></th>\n",
       "      <th>year_of_release</th>\n",
       "      <th>name</th>\n",
       "    </tr>\n",
       "  </thead>\n",
       "  <tbody>\n",
       "    <tr>\n",
       "      <th>0</th>\n",
       "      <td>1980</td>\n",
       "      <td>9</td>\n",
       "    </tr>\n",
       "    <tr>\n",
       "      <th>1</th>\n",
       "      <td>1981</td>\n",
       "      <td>46</td>\n",
       "    </tr>\n",
       "    <tr>\n",
       "      <th>2</th>\n",
       "      <td>1982</td>\n",
       "      <td>36</td>\n",
       "    </tr>\n",
       "    <tr>\n",
       "      <th>3</th>\n",
       "      <td>1983</td>\n",
       "      <td>17</td>\n",
       "    </tr>\n",
       "    <tr>\n",
       "      <th>4</th>\n",
       "      <td>1984</td>\n",
       "      <td>14</td>\n",
       "    </tr>\n",
       "    <tr>\n",
       "      <th>5</th>\n",
       "      <td>1985</td>\n",
       "      <td>14</td>\n",
       "    </tr>\n",
       "    <tr>\n",
       "      <th>6</th>\n",
       "      <td>1986</td>\n",
       "      <td>21</td>\n",
       "    </tr>\n",
       "    <tr>\n",
       "      <th>7</th>\n",
       "      <td>1987</td>\n",
       "      <td>16</td>\n",
       "    </tr>\n",
       "    <tr>\n",
       "      <th>8</th>\n",
       "      <td>1988</td>\n",
       "      <td>15</td>\n",
       "    </tr>\n",
       "    <tr>\n",
       "      <th>9</th>\n",
       "      <td>1989</td>\n",
       "      <td>17</td>\n",
       "    </tr>\n",
       "    <tr>\n",
       "      <th>10</th>\n",
       "      <td>1990</td>\n",
       "      <td>16</td>\n",
       "    </tr>\n",
       "    <tr>\n",
       "      <th>11</th>\n",
       "      <td>1991</td>\n",
       "      <td>41</td>\n",
       "    </tr>\n",
       "    <tr>\n",
       "      <th>12</th>\n",
       "      <td>1992</td>\n",
       "      <td>43</td>\n",
       "    </tr>\n",
       "    <tr>\n",
       "      <th>13</th>\n",
       "      <td>1993</td>\n",
       "      <td>60</td>\n",
       "    </tr>\n",
       "    <tr>\n",
       "      <th>14</th>\n",
       "      <td>1994</td>\n",
       "      <td>121</td>\n",
       "    </tr>\n",
       "    <tr>\n",
       "      <th>15</th>\n",
       "      <td>1995</td>\n",
       "      <td>219</td>\n",
       "    </tr>\n",
       "    <tr>\n",
       "      <th>16</th>\n",
       "      <td>1996</td>\n",
       "      <td>263</td>\n",
       "    </tr>\n",
       "    <tr>\n",
       "      <th>17</th>\n",
       "      <td>1997</td>\n",
       "      <td>289</td>\n",
       "    </tr>\n",
       "    <tr>\n",
       "      <th>18</th>\n",
       "      <td>1998</td>\n",
       "      <td>379</td>\n",
       "    </tr>\n",
       "    <tr>\n",
       "      <th>19</th>\n",
       "      <td>1999</td>\n",
       "      <td>338</td>\n",
       "    </tr>\n",
       "    <tr>\n",
       "      <th>20</th>\n",
       "      <td>2000</td>\n",
       "      <td>350</td>\n",
       "    </tr>\n",
       "    <tr>\n",
       "      <th>21</th>\n",
       "      <td>2001</td>\n",
       "      <td>482</td>\n",
       "    </tr>\n",
       "    <tr>\n",
       "      <th>22</th>\n",
       "      <td>2002</td>\n",
       "      <td>829</td>\n",
       "    </tr>\n",
       "    <tr>\n",
       "      <th>23</th>\n",
       "      <td>2003</td>\n",
       "      <td>775</td>\n",
       "    </tr>\n",
       "    <tr>\n",
       "      <th>24</th>\n",
       "      <td>2004</td>\n",
       "      <td>762</td>\n",
       "    </tr>\n",
       "    <tr>\n",
       "      <th>25</th>\n",
       "      <td>2005</td>\n",
       "      <td>939</td>\n",
       "    </tr>\n",
       "    <tr>\n",
       "      <th>26</th>\n",
       "      <td>2006</td>\n",
       "      <td>1006</td>\n",
       "    </tr>\n",
       "    <tr>\n",
       "      <th>27</th>\n",
       "      <td>2007</td>\n",
       "      <td>1197</td>\n",
       "    </tr>\n",
       "    <tr>\n",
       "      <th>28</th>\n",
       "      <td>2008</td>\n",
       "      <td>1427</td>\n",
       "    </tr>\n",
       "    <tr>\n",
       "      <th>29</th>\n",
       "      <td>2009</td>\n",
       "      <td>1426</td>\n",
       "    </tr>\n",
       "    <tr>\n",
       "      <th>30</th>\n",
       "      <td>2010</td>\n",
       "      <td>1255</td>\n",
       "    </tr>\n",
       "    <tr>\n",
       "      <th>31</th>\n",
       "      <td>2011</td>\n",
       "      <td>1136</td>\n",
       "    </tr>\n",
       "    <tr>\n",
       "      <th>32</th>\n",
       "      <td>2012</td>\n",
       "      <td>653</td>\n",
       "    </tr>\n",
       "    <tr>\n",
       "      <th>33</th>\n",
       "      <td>2013</td>\n",
       "      <td>544</td>\n",
       "    </tr>\n",
       "    <tr>\n",
       "      <th>34</th>\n",
       "      <td>2014</td>\n",
       "      <td>581</td>\n",
       "    </tr>\n",
       "    <tr>\n",
       "      <th>35</th>\n",
       "      <td>2015</td>\n",
       "      <td>606</td>\n",
       "    </tr>\n",
       "    <tr>\n",
       "      <th>36</th>\n",
       "      <td>2016</td>\n",
       "      <td>502</td>\n",
       "    </tr>\n",
       "  </tbody>\n",
       "</table>\n",
       "</div>"
      ],
      "text/plain": [
       "    year_of_release  name\n",
       "0              1980     9\n",
       "1              1981    46\n",
       "2              1982    36\n",
       "3              1983    17\n",
       "4              1984    14\n",
       "5              1985    14\n",
       "6              1986    21\n",
       "7              1987    16\n",
       "8              1988    15\n",
       "9              1989    17\n",
       "10             1990    16\n",
       "11             1991    41\n",
       "12             1992    43\n",
       "13             1993    60\n",
       "14             1994   121\n",
       "15             1995   219\n",
       "16             1996   263\n",
       "17             1997   289\n",
       "18             1998   379\n",
       "19             1999   338\n",
       "20             2000   350\n",
       "21             2001   482\n",
       "22             2002   829\n",
       "23             2003   775\n",
       "24             2004   762\n",
       "25             2005   939\n",
       "26             2006  1006\n",
       "27             2007  1197\n",
       "28             2008  1427\n",
       "29             2009  1426\n",
       "30             2010  1255\n",
       "31             2011  1136\n",
       "32             2012   653\n",
       "33             2013   544\n",
       "34             2014   581\n",
       "35             2015   606\n",
       "36             2016   502"
      ]
     },
     "execution_count": 32,
     "metadata": {},
     "output_type": "execute_result"
    }
   ],
   "source": [
    "#Grouping the data by year_of_release and calculating the counts for each game\n",
    "df = data.groupby(['year_of_release'])['name'].count().reset_index().sort_values(by=['year_of_release'])\n",
    "#looking at what we got\n",
    "df"
   ]
  },
  {
   "cell_type": "markdown",
   "metadata": {},
   "source": [
    "#### Let's make a graph "
   ]
  },
  {
   "cell_type": "code",
   "execution_count": 33,
   "metadata": {},
   "outputs": [
    {
     "data": {
      "image/png": "[encoded data removed]",
      "text/plain": [
       "<Figure size 1440x720 with 1 Axes>"
      ]
     },
     "metadata": {
      "needs_background": "light"
     },
     "output_type": "display_data"
    }
   ],
   "source": [
    "fig, ax = plt.subplots(figsize=(20,10))\n",
    "ax.vlines(x=df.year_of_release, ymin=0, ymax=df.name, color='purple', alpha=0.7, linewidth=2)\n",
    "ax.scatter(x=df.year_of_release, y=df.name, alpha=0.7, color='black')\n",
    "ax.set_title('Lollypop for released games', fontdict={'size':15})\n",
    "ax.set_ylabel('Number of games')\n",
    "ax.set_xticks(df.year_of_release)\n",
    "ax.set_xticklabels(df.year_of_release, rotation=(90))\n",
    "for row in df.itertuples():\n",
    "    ax.text(row.year_of_release, row.name+30,s=round(row.name,2))"
   ]
  },
  {
   "cell_type": "markdown",
   "metadata": {},
   "source": [
    "<div class=\"alert alert-success\" style=\"box-shadow: 4px 4px 4px\">\n",
    "Success: This graph is perfect! It is labeled, y axis is labeled and it is informative!\n",
    "</div>"
   ]
  },
  {
   "cell_type": "markdown",
   "metadata": {},
   "source": [
    "It's logical that before 1995 we have almost no observations, because the game industry is a new industry. But also, the game industry is been growing really fast in the last years, do everything started to change a lot by year. So the data that is older from 10 years in not so relevant. Taking this in consideration and taking in consideration that we also want to have enough data to be available to make a good analysis, we will decide the next: after looking at how many games were released in different years we understood that not every period is significant, and we will use the data from the year 2002 until 2016. "
   ]
  },
  {
   "cell_type": "markdown",
   "metadata": {},
   "source": [
    "<div class=\"alert alert-success\" style=\"box-shadow: 4px 4px 4px\">\n",
    "Success: I couldn't agree more! \n",
    "</div>"
   ]
  },
  {
   "cell_type": "markdown",
   "metadata": {},
   "source": [
    "Before we slice the data let's check deeply the original data we have to understand if there is more factors that we should take in consideration."
   ]
  },
  {
   "cell_type": "markdown",
   "metadata": {},
   "source": [
    "## Looking at how sales varied from platform to platform. \n",
    "\n",
    "\n",
    "#### We will choose the platforms with the greatest total sales and build a distribution based on data for each year. "
   ]
  },
  {
   "cell_type": "code",
   "execution_count": 34,
   "metadata": {},
   "outputs": [],
   "source": [
    "##Grouping the data by platform and total_sales and calculating the sum for each game\n",
    "sales_by_platform = data[['platform','total_sales']].groupby(['platform']).sum().sort_values(by=\"total_sales\").reset_index()"
   ]
  },
  {
   "cell_type": "markdown",
   "metadata": {},
   "source": [
    "Let's take a look at sales_by_platform"
   ]
  },
  {
   "cell_type": "code",
   "execution_count": 35,
   "metadata": {},
   "outputs": [
    {
     "data": {
      "text/html": [
       "<div>\n",
       "<style scoped>\n",
       "    .dataframe tbody tr th:only-of-type {\n",
       "        vertical-align: middle;\n",
       "    }\n",
       "\n",
       "    .dataframe tbody tr th {\n",
       "        vertical-align: top;\n",
       "    }\n",
       "\n",
       "    .dataframe thead th {\n",
       "        text-align: right;\n",
       "    }\n",
       "</style>\n",
       "<table border=\"1\" class=\"dataframe\">\n",
       "  <thead>\n",
       "    <tr style=\"text-align: right;\">\n",
       "      <th></th>\n",
       "      <th>platform</th>\n",
       "      <th>total_sales</th>\n",
       "    </tr>\n",
       "  </thead>\n",
       "  <tbody>\n",
       "    <tr>\n",
       "      <th>0</th>\n",
       "      <td>PCFX</td>\n",
       "      <td>0.03</td>\n",
       "    </tr>\n",
       "    <tr>\n",
       "      <th>1</th>\n",
       "      <td>GG</td>\n",
       "      <td>0.04</td>\n",
       "    </tr>\n",
       "    <tr>\n",
       "      <th>2</th>\n",
       "      <td>3DO</td>\n",
       "      <td>0.10</td>\n",
       "    </tr>\n",
       "    <tr>\n",
       "      <th>3</th>\n",
       "      <td>TG16</td>\n",
       "      <td>0.16</td>\n",
       "    </tr>\n",
       "    <tr>\n",
       "      <th>4</th>\n",
       "      <td>WS</td>\n",
       "      <td>1.42</td>\n",
       "    </tr>\n",
       "    <tr>\n",
       "      <th>5</th>\n",
       "      <td>NG</td>\n",
       "      <td>1.44</td>\n",
       "    </tr>\n",
       "    <tr>\n",
       "      <th>6</th>\n",
       "      <td>SCD</td>\n",
       "      <td>1.86</td>\n",
       "    </tr>\n",
       "    <tr>\n",
       "      <th>7</th>\n",
       "      <td>DC</td>\n",
       "      <td>15.95</td>\n",
       "    </tr>\n",
       "    <tr>\n",
       "      <th>8</th>\n",
       "      <td>GEN</td>\n",
       "      <td>28.35</td>\n",
       "    </tr>\n",
       "    <tr>\n",
       "      <th>9</th>\n",
       "      <td>SAT</td>\n",
       "      <td>33.59</td>\n",
       "    </tr>\n",
       "    <tr>\n",
       "      <th>10</th>\n",
       "      <td>PSV</td>\n",
       "      <td>53.81</td>\n",
       "    </tr>\n",
       "    <tr>\n",
       "      <th>11</th>\n",
       "      <td>WiiU</td>\n",
       "      <td>82.19</td>\n",
       "    </tr>\n",
       "    <tr>\n",
       "      <th>12</th>\n",
       "      <td>2600</td>\n",
       "      <td>86.48</td>\n",
       "    </tr>\n",
       "    <tr>\n",
       "      <th>13</th>\n",
       "      <td>XOne</td>\n",
       "      <td>159.32</td>\n",
       "    </tr>\n",
       "    <tr>\n",
       "      <th>14</th>\n",
       "      <td>GC</td>\n",
       "      <td>196.73</td>\n",
       "    </tr>\n",
       "    <tr>\n",
       "      <th>15</th>\n",
       "      <td>SNES</td>\n",
       "      <td>200.04</td>\n",
       "    </tr>\n",
       "    <tr>\n",
       "      <th>16</th>\n",
       "      <td>N64</td>\n",
       "      <td>218.01</td>\n",
       "    </tr>\n",
       "    <tr>\n",
       "      <th>17</th>\n",
       "      <td>NES</td>\n",
       "      <td>251.05</td>\n",
       "    </tr>\n",
       "    <tr>\n",
       "      <th>18</th>\n",
       "      <td>XB</td>\n",
       "      <td>251.57</td>\n",
       "    </tr>\n",
       "    <tr>\n",
       "      <th>19</th>\n",
       "      <td>GB</td>\n",
       "      <td>254.43</td>\n",
       "    </tr>\n",
       "    <tr>\n",
       "      <th>20</th>\n",
       "      <td>PC</td>\n",
       "      <td>255.76</td>\n",
       "    </tr>\n",
       "    <tr>\n",
       "      <th>21</th>\n",
       "      <td>3DS</td>\n",
       "      <td>257.81</td>\n",
       "    </tr>\n",
       "    <tr>\n",
       "      <th>22</th>\n",
       "      <td>PSP</td>\n",
       "      <td>289.53</td>\n",
       "    </tr>\n",
       "    <tr>\n",
       "      <th>23</th>\n",
       "      <td>GBA</td>\n",
       "      <td>312.88</td>\n",
       "    </tr>\n",
       "    <tr>\n",
       "      <th>24</th>\n",
       "      <td>PS4</td>\n",
       "      <td>314.14</td>\n",
       "    </tr>\n",
       "    <tr>\n",
       "      <th>25</th>\n",
       "      <td>PS</td>\n",
       "      <td>727.58</td>\n",
       "    </tr>\n",
       "    <tr>\n",
       "      <th>26</th>\n",
       "      <td>DS</td>\n",
       "      <td>802.78</td>\n",
       "    </tr>\n",
       "    <tr>\n",
       "      <th>27</th>\n",
       "      <td>Wii</td>\n",
       "      <td>891.18</td>\n",
       "    </tr>\n",
       "    <tr>\n",
       "      <th>28</th>\n",
       "      <td>PS3</td>\n",
       "      <td>931.34</td>\n",
       "    </tr>\n",
       "    <tr>\n",
       "      <th>29</th>\n",
       "      <td>X360</td>\n",
       "      <td>961.24</td>\n",
       "    </tr>\n",
       "    <tr>\n",
       "      <th>30</th>\n",
       "      <td>PS2</td>\n",
       "      <td>1233.56</td>\n",
       "    </tr>\n",
       "  </tbody>\n",
       "</table>\n",
       "</div>"
      ],
      "text/plain": [
       "   platform  total_sales\n",
       "0      PCFX         0.03\n",
       "1        GG         0.04\n",
       "2       3DO         0.10\n",
       "3      TG16         0.16\n",
       "4        WS         1.42\n",
       "5        NG         1.44\n",
       "6       SCD         1.86\n",
       "7        DC        15.95\n",
       "8       GEN        28.35\n",
       "9       SAT        33.59\n",
       "10      PSV        53.81\n",
       "11     WiiU        82.19\n",
       "12     2600        86.48\n",
       "13     XOne       159.32\n",
       "14       GC       196.73\n",
       "15     SNES       200.04\n",
       "16      N64       218.01\n",
       "17      NES       251.05\n",
       "18       XB       251.57\n",
       "19       GB       254.43\n",
       "20       PC       255.76\n",
       "21      3DS       257.81\n",
       "22      PSP       289.53\n",
       "23      GBA       312.88\n",
       "24      PS4       314.14\n",
       "25       PS       727.58\n",
       "26       DS       802.78\n",
       "27      Wii       891.18\n",
       "28      PS3       931.34\n",
       "29     X360       961.24\n",
       "30      PS2      1233.56"
      ]
     },
     "execution_count": 35,
     "metadata": {},
     "output_type": "execute_result"
    }
   ],
   "source": [
    "sales_by_platform"
   ]
  },
  {
   "cell_type": "markdown",
   "metadata": {},
   "source": [
    "We can appreciate that the platform PS2 is the leader in terms of sales."
   ]
  },
  {
   "cell_type": "markdown",
   "metadata": {},
   "source": [
    "We will use the standard score to make some measures!\n",
    "In statistics, the standard score is the number of standard deviations by which the value of a raw score (i.e., an observed value or data point) is above or below the mean value of what is being observed or measured."
   ]
  },
  {
   "cell_type": "markdown",
   "metadata": {},
   "source": [
    "<div class=\"alert alert-success\" style=\"box-shadow: 4px 4px 4px\">\n",
    "Success: It is a great method!\n",
    "</div>"
   ]
  },
  {
   "cell_type": "code",
   "execution_count": 36,
   "metadata": {},
   "outputs": [
    {
     "data": {
      "text/html": [
       "<div>\n",
       "<style scoped>\n",
       "    .dataframe tbody tr th:only-of-type {\n",
       "        vertical-align: middle;\n",
       "    }\n",
       "\n",
       "    .dataframe tbody tr th {\n",
       "        vertical-align: top;\n",
       "    }\n",
       "\n",
       "    .dataframe thead th {\n",
       "        text-align: right;\n",
       "    }\n",
       "</style>\n",
       "<table border=\"1\" class=\"dataframe\">\n",
       "  <thead>\n",
       "    <tr style=\"text-align: right;\">\n",
       "      <th></th>\n",
       "      <th>platform</th>\n",
       "      <th>total_sales</th>\n",
       "      <th>sales_z</th>\n",
       "    </tr>\n",
       "  </thead>\n",
       "  <tbody>\n",
       "    <tr>\n",
       "      <th>0</th>\n",
       "      <td>PCFX</td>\n",
       "      <td>0.03</td>\n",
       "      <td>-0.826577</td>\n",
       "    </tr>\n",
       "    <tr>\n",
       "      <th>1</th>\n",
       "      <td>GG</td>\n",
       "      <td>0.04</td>\n",
       "      <td>-0.826548</td>\n",
       "    </tr>\n",
       "    <tr>\n",
       "      <th>2</th>\n",
       "      <td>3DO</td>\n",
       "      <td>0.10</td>\n",
       "      <td>-0.826373</td>\n",
       "    </tr>\n",
       "    <tr>\n",
       "      <th>3</th>\n",
       "      <td>TG16</td>\n",
       "      <td>0.16</td>\n",
       "      <td>-0.826199</td>\n",
       "    </tr>\n",
       "    <tr>\n",
       "      <th>4</th>\n",
       "      <td>WS</td>\n",
       "      <td>1.42</td>\n",
       "      <td>-0.822536</td>\n",
       "    </tr>\n",
       "    <tr>\n",
       "      <th>5</th>\n",
       "      <td>NG</td>\n",
       "      <td>1.44</td>\n",
       "      <td>-0.822477</td>\n",
       "    </tr>\n",
       "    <tr>\n",
       "      <th>6</th>\n",
       "      <td>SCD</td>\n",
       "      <td>1.86</td>\n",
       "      <td>-0.821256</td>\n",
       "    </tr>\n",
       "    <tr>\n",
       "      <th>7</th>\n",
       "      <td>DC</td>\n",
       "      <td>15.95</td>\n",
       "      <td>-0.780292</td>\n",
       "    </tr>\n",
       "    <tr>\n",
       "      <th>8</th>\n",
       "      <td>GEN</td>\n",
       "      <td>28.35</td>\n",
       "      <td>-0.744240</td>\n",
       "    </tr>\n",
       "    <tr>\n",
       "      <th>9</th>\n",
       "      <td>SAT</td>\n",
       "      <td>33.59</td>\n",
       "      <td>-0.729006</td>\n",
       "    </tr>\n",
       "    <tr>\n",
       "      <th>10</th>\n",
       "      <td>PSV</td>\n",
       "      <td>53.81</td>\n",
       "      <td>-0.670219</td>\n",
       "    </tr>\n",
       "    <tr>\n",
       "      <th>11</th>\n",
       "      <td>WiiU</td>\n",
       "      <td>82.19</td>\n",
       "      <td>-0.587708</td>\n",
       "    </tr>\n",
       "    <tr>\n",
       "      <th>12</th>\n",
       "      <td>2600</td>\n",
       "      <td>86.48</td>\n",
       "      <td>-0.575235</td>\n",
       "    </tr>\n",
       "    <tr>\n",
       "      <th>13</th>\n",
       "      <td>XOne</td>\n",
       "      <td>159.32</td>\n",
       "      <td>-0.363463</td>\n",
       "    </tr>\n",
       "    <tr>\n",
       "      <th>14</th>\n",
       "      <td>GC</td>\n",
       "      <td>196.73</td>\n",
       "      <td>-0.254698</td>\n",
       "    </tr>\n",
       "    <tr>\n",
       "      <th>15</th>\n",
       "      <td>SNES</td>\n",
       "      <td>200.04</td>\n",
       "      <td>-0.245075</td>\n",
       "    </tr>\n",
       "    <tr>\n",
       "      <th>16</th>\n",
       "      <td>N64</td>\n",
       "      <td>218.01</td>\n",
       "      <td>-0.192830</td>\n",
       "    </tr>\n",
       "    <tr>\n",
       "      <th>17</th>\n",
       "      <td>NES</td>\n",
       "      <td>251.05</td>\n",
       "      <td>-0.096770</td>\n",
       "    </tr>\n",
       "    <tr>\n",
       "      <th>18</th>\n",
       "      <td>XB</td>\n",
       "      <td>251.57</td>\n",
       "      <td>-0.095258</td>\n",
       "    </tr>\n",
       "    <tr>\n",
       "      <th>19</th>\n",
       "      <td>GB</td>\n",
       "      <td>254.43</td>\n",
       "      <td>-0.086943</td>\n",
       "    </tr>\n",
       "    <tr>\n",
       "      <th>20</th>\n",
       "      <td>PC</td>\n",
       "      <td>255.76</td>\n",
       "      <td>-0.083077</td>\n",
       "    </tr>\n",
       "    <tr>\n",
       "      <th>21</th>\n",
       "      <td>3DS</td>\n",
       "      <td>257.81</td>\n",
       "      <td>-0.077116</td>\n",
       "    </tr>\n",
       "    <tr>\n",
       "      <th>22</th>\n",
       "      <td>PSP</td>\n",
       "      <td>289.53</td>\n",
       "      <td>0.015105</td>\n",
       "    </tr>\n",
       "    <tr>\n",
       "      <th>23</th>\n",
       "      <td>GBA</td>\n",
       "      <td>312.88</td>\n",
       "      <td>0.082992</td>\n",
       "    </tr>\n",
       "    <tr>\n",
       "      <th>24</th>\n",
       "      <td>PS4</td>\n",
       "      <td>314.14</td>\n",
       "      <td>0.086655</td>\n",
       "    </tr>\n",
       "    <tr>\n",
       "      <th>25</th>\n",
       "      <td>PS</td>\n",
       "      <td>727.58</td>\n",
       "      <td>1.288676</td>\n",
       "    </tr>\n",
       "    <tr>\n",
       "      <th>26</th>\n",
       "      <td>DS</td>\n",
       "      <td>802.78</td>\n",
       "      <td>1.507310</td>\n",
       "    </tr>\n",
       "    <tr>\n",
       "      <th>27</th>\n",
       "      <td>Wii</td>\n",
       "      <td>891.18</td>\n",
       "      <td>1.764321</td>\n",
       "    </tr>\n",
       "    <tr>\n",
       "      <th>28</th>\n",
       "      <td>PS3</td>\n",
       "      <td>931.34</td>\n",
       "      <td>1.881081</td>\n",
       "    </tr>\n",
       "    <tr>\n",
       "      <th>29</th>\n",
       "      <td>X360</td>\n",
       "      <td>961.24</td>\n",
       "      <td>1.968011</td>\n",
       "    </tr>\n",
       "    <tr>\n",
       "      <th>30</th>\n",
       "      <td>PS2</td>\n",
       "      <td>1233.56</td>\n",
       "      <td>2.759744</td>\n",
       "    </tr>\n",
       "  </tbody>\n",
       "</table>\n",
       "</div>"
      ],
      "text/plain": [
       "   platform  total_sales   sales_z\n",
       "0      PCFX         0.03 -0.826577\n",
       "1        GG         0.04 -0.826548\n",
       "2       3DO         0.10 -0.826373\n",
       "3      TG16         0.16 -0.826199\n",
       "4        WS         1.42 -0.822536\n",
       "5        NG         1.44 -0.822477\n",
       "6       SCD         1.86 -0.821256\n",
       "7        DC        15.95 -0.780292\n",
       "8       GEN        28.35 -0.744240\n",
       "9       SAT        33.59 -0.729006\n",
       "10      PSV        53.81 -0.670219\n",
       "11     WiiU        82.19 -0.587708\n",
       "12     2600        86.48 -0.575235\n",
       "13     XOne       159.32 -0.363463\n",
       "14       GC       196.73 -0.254698\n",
       "15     SNES       200.04 -0.245075\n",
       "16      N64       218.01 -0.192830\n",
       "17      NES       251.05 -0.096770\n",
       "18       XB       251.57 -0.095258\n",
       "19       GB       254.43 -0.086943\n",
       "20       PC       255.76 -0.083077\n",
       "21      3DS       257.81 -0.077116\n",
       "22      PSP       289.53  0.015105\n",
       "23      GBA       312.88  0.082992\n",
       "24      PS4       314.14  0.086655\n",
       "25       PS       727.58  1.288676\n",
       "26       DS       802.78  1.507310\n",
       "27      Wii       891.18  1.764321\n",
       "28      PS3       931.34  1.881081\n",
       "29     X360       961.24  1.968011\n",
       "30      PS2      1233.56  2.759744"
      ]
     },
     "execution_count": 36,
     "metadata": {},
     "output_type": "execute_result"
    }
   ],
   "source": [
    "#Calculating the standard score and adding a new column with these values \n",
    "sales_by_platform['sales_z'] = (sales_by_platform['total_sales']-sales_by_platform['total_sales'].mean())/sales_by_platform['total_sales'].std()\n",
    "#Let's take a look at the table after adding the standard score column\n",
    "sales_by_platform"
   ]
  },
  {
   "cell_type": "markdown",
   "metadata": {},
   "source": [
    "The positive values in the sales_z column means that these values (platforms) are about the mean of total_sales. And the negative values are below.\n",
    "\n",
    "We can appreciate that the minimum negative value (-0.997489 for N64 platform) is not so far away from the mean,while the maximum positive value(1.788402 for PS2 platform) is more away from the mean (in terms of standard deviation). "
   ]
  },
  {
   "cell_type": "markdown",
   "metadata": {},
   "source": [
    "#### Let's make some visualizations!"
   ]
  },
  {
   "cell_type": "markdown",
   "metadata": {},
   "source": [
    "We will make two labels, red for the positive values and green for the negatives values."
   ]
  },
  {
   "cell_type": "code",
   "execution_count": 37,
   "metadata": {
    "scrolled": true
   },
   "outputs": [
    {
     "data": {
      "text/html": [
       "<div>\n",
       "<style scoped>\n",
       "    .dataframe tbody tr th:only-of-type {\n",
       "        vertical-align: middle;\n",
       "    }\n",
       "\n",
       "    .dataframe tbody tr th {\n",
       "        vertical-align: top;\n",
       "    }\n",
       "\n",
       "    .dataframe thead th {\n",
       "        text-align: right;\n",
       "    }\n",
       "</style>\n",
       "<table border=\"1\" class=\"dataframe\">\n",
       "  <thead>\n",
       "    <tr style=\"text-align: right;\">\n",
       "      <th></th>\n",
       "      <th>platform</th>\n",
       "      <th>total_sales</th>\n",
       "      <th>sales_z</th>\n",
       "      <th>colors</th>\n",
       "    </tr>\n",
       "  </thead>\n",
       "  <tbody>\n",
       "    <tr>\n",
       "      <th>0</th>\n",
       "      <td>PCFX</td>\n",
       "      <td>0.03</td>\n",
       "      <td>-0.826577</td>\n",
       "      <td>red</td>\n",
       "    </tr>\n",
       "    <tr>\n",
       "      <th>1</th>\n",
       "      <td>GG</td>\n",
       "      <td>0.04</td>\n",
       "      <td>-0.826548</td>\n",
       "      <td>red</td>\n",
       "    </tr>\n",
       "    <tr>\n",
       "      <th>2</th>\n",
       "      <td>3DO</td>\n",
       "      <td>0.10</td>\n",
       "      <td>-0.826373</td>\n",
       "      <td>red</td>\n",
       "    </tr>\n",
       "    <tr>\n",
       "      <th>3</th>\n",
       "      <td>TG16</td>\n",
       "      <td>0.16</td>\n",
       "      <td>-0.826199</td>\n",
       "      <td>red</td>\n",
       "    </tr>\n",
       "    <tr>\n",
       "      <th>4</th>\n",
       "      <td>WS</td>\n",
       "      <td>1.42</td>\n",
       "      <td>-0.822536</td>\n",
       "      <td>red</td>\n",
       "    </tr>\n",
       "  </tbody>\n",
       "</table>\n",
       "</div>"
      ],
      "text/plain": [
       "  platform  total_sales   sales_z colors\n",
       "0     PCFX         0.03 -0.826577    red\n",
       "1       GG         0.04 -0.826548    red\n",
       "2      3DO         0.10 -0.826373    red\n",
       "3     TG16         0.16 -0.826199    red\n",
       "4       WS         1.42 -0.822536    red"
      ]
     },
     "execution_count": 37,
     "metadata": {},
     "output_type": "execute_result"
    }
   ],
   "source": [
    "#Adding the colors column to the sales_by_platform table\n",
    "sales_by_platform['colors'] = ['red' if x<0 else 'green' for x in sales_by_platform['sales_z']]\n",
    "#Let's take a look at the table after adding the colors column\n",
    "sales_by_platform.head()"
   ]
  },
  {
   "cell_type": "markdown",
   "metadata": {},
   "source": [
    "#### Plotting a graph that shows the distribution "
   ]
  },
  {
   "cell_type": "code",
   "execution_count": 38,
   "metadata": {},
   "outputs": [
    {
     "data": {
      "image/png": "[encoded data removed]",
      "text/plain": [
       "<Figure size 1008x720 with 1 Axes>"
      ]
     },
     "metadata": {
      "needs_background": "light"
     },
     "output_type": "display_data"
    }
   ],
   "source": [
    "plt.figure(figsize=(14,10))\n",
    "plt.hlines(y=sales_by_platform.platform, xmin=0, xmax=sales_by_platform.sales_z, color=sales_by_platform.colors, alpha=0.4, linewidth=10)\n",
    "     \n",
    "# Add labels\n",
    "plt.title('Graph distribution for platforms and total sales based on data for each year',fontsize=15)\n",
    "plt.ylabel('Platforms') \n",
    "plt.xlabel('Standard score') \n",
    "plt.show()"
   ]
  },
  {
   "cell_type": "markdown",
   "metadata": {},
   "source": [
    "<div class=\"alert alert-success\" style=\"box-shadow: 4px 4px 4px\">\n",
    "Success: This graph is also flawless!\n",
    "</div>"
   ]
  },
  {
   "cell_type": "markdown",
   "metadata": {},
   "source": [
    "***What do we see in the graph?***<br>\n",
    "* The platforms with the greatest total sales are PS2,DS,Wii,PS3,X360,PS,PSP,GBA,PS4. \n",
    "* While the last three platforms (PSP,GBA,PS4) that we mentioned are above the mean in terms of sales but not in a very significant way."
   ]
  },
  {
   "cell_type": "markdown",
   "metadata": {},
   "source": [
    "<div class=\"alert alert-success\" style=\"box-shadow: 4px 4px 4px\">\n",
    "Success: Absolutely correct!\n",
    "</div>"
   ]
  },
  {
   "cell_type": "markdown",
   "metadata": {},
   "source": [
    "## Looking for platforms that used to be popular but now have zero sales. \n",
    "How long does it generally take for new platforms to appear and old ones to fade?"
   ]
  },
  {
   "cell_type": "code",
   "execution_count": 39,
   "metadata": {},
   "outputs": [
    {
     "data": {
      "text/html": [
       "<div>\n",
       "<style scoped>\n",
       "    .dataframe tbody tr th:only-of-type {\n",
       "        vertical-align: middle;\n",
       "    }\n",
       "\n",
       "    .dataframe tbody tr th {\n",
       "        vertical-align: top;\n",
       "    }\n",
       "\n",
       "    .dataframe thead th {\n",
       "        text-align: right;\n",
       "    }\n",
       "</style>\n",
       "<table border=\"1\" class=\"dataframe\">\n",
       "  <thead>\n",
       "    <tr style=\"text-align: right;\">\n",
       "      <th></th>\n",
       "      <th>year_of_release</th>\n",
       "      <th>platform</th>\n",
       "      <th>total_sales</th>\n",
       "    </tr>\n",
       "  </thead>\n",
       "  <tbody>\n",
       "    <tr>\n",
       "      <th>0</th>\n",
       "      <td>2007</td>\n",
       "      <td>DC</td>\n",
       "      <td>0.02</td>\n",
       "    </tr>\n",
       "    <tr>\n",
       "      <th>1</th>\n",
       "      <td>1994</td>\n",
       "      <td>3DO</td>\n",
       "      <td>0.02</td>\n",
       "    </tr>\n",
       "    <tr>\n",
       "      <th>2</th>\n",
       "      <td>1985</td>\n",
       "      <td>DS</td>\n",
       "      <td>0.02</td>\n",
       "    </tr>\n",
       "    <tr>\n",
       "      <th>3</th>\n",
       "      <td>1988</td>\n",
       "      <td>PC</td>\n",
       "      <td>0.03</td>\n",
       "    </tr>\n",
       "    <tr>\n",
       "      <th>4</th>\n",
       "      <td>1996</td>\n",
       "      <td>PCFX</td>\n",
       "      <td>0.03</td>\n",
       "    </tr>\n",
       "  </tbody>\n",
       "</table>\n",
       "</div>"
      ],
      "text/plain": [
       "   year_of_release platform  total_sales\n",
       "0             2007       DC         0.02\n",
       "1             1994      3DO         0.02\n",
       "2             1985       DS         0.02\n",
       "3             1988       PC         0.03\n",
       "4             1996     PCFX         0.03"
      ]
     },
     "metadata": {},
     "output_type": "display_data"
    }
   ],
   "source": [
    "#Grouping the data by year_of_release and platform and calculating the counts for each game\n",
    "df1 = data.groupby(['year_of_release','platform'])['total_sales'].sum().reset_index().sort_values(by=['total_sales']).reset_index()\n",
    "#drop the column index\n",
    "df1 = df1.drop(['index'],axis=1) \n",
    "\n",
    "#looking what we got\n",
    "display(df1.head())"
   ]
  },
  {
   "cell_type": "markdown",
   "metadata": {},
   "source": [
    "#### Plotting a graph that shows  the evolution across the years  (in terms of sales) for each platform"
   ]
  },
  {
   "cell_type": "code",
   "execution_count": 40,
   "metadata": {},
   "outputs": [
    {
     "data": {
      "image/png": "[encoded data removed]",
      "text/plain": [
       "<Figure size 1440x720 with 1 Axes>"
      ]
     },
     "metadata": {
      "needs_background": "light"
     },
     "output_type": "display_data"
    }
   ],
   "source": [
    "fig, ax = plt.subplots(figsize=(20,10))\n",
    "sns.lineplot(data=df1, x='year_of_release', y='total_sales', hue='platform')\n",
    "\n",
    "# Add labels platforms that used to be popular but now have zero sales\n",
    "ax.set_title('Platforms and sales across the years', fontdict={'size':15})\n",
    "ax.set_ylabel('sales')\n",
    "ax.set_xlabel('years')\n",
    "ax.set_xticks(df.year_of_release)\n",
    "ax.set_xticklabels(df.year_of_release, rotation=(90))\n",
    "\n",
    "plt.show()"
   ]
  },
  {
   "cell_type": "markdown",
   "metadata": {},
   "source": [
    "<div class=\"alert alert-success\" style=\"box-shadow: 4px 4px 4px\">\n",
    "Success: So beautiful! 😄\n",
    "</div>"
   ]
  },
  {
   "cell_type": "markdown",
   "metadata": {},
   "source": [
    "##### How long does it generally take for new platforms to appear and old ones to fade?\n",
    "\n",
    "We can conclude that video games platforms survive in the market an approximation of 10 years."
   ]
  },
  {
   "cell_type": "markdown",
   "metadata": {},
   "source": [
    "##### platforms that used to be popular but now have zero sales\n",
    "\t\t\n",
    "The most popular platforms in terms of sales are PS2,DS,Wii,PS3,X360,PS,PSP,GBA and PS4. We know this thanks to the graph \"Distribution for platforms and total sales based on data for each year\". \n",
    "Let's make a new graph that looks exactly like the last one we did, but including only the most popular platforms in terms of total sales."
   ]
  },
  {
   "cell_type": "code",
   "execution_count": 41,
   "metadata": {},
   "outputs": [],
   "source": [
    "#Making a list with the names of the popular platforms\n",
    "list_popular_platforms_by_sales = [\"PS2\",\"DS\",\"Wii\",\"PS3\",\"X360\",\"PS\",\"PSP\",\"GBA\",\"PS4\"]\n",
    "#Making a sclice using the query() method \n",
    "df2 = df1.query('platform in  @list_popular_platforms_by_sales').reset_index()\n",
    "#drop the column index\n",
    "df2 = df2.drop(['index'],axis=1) "
   ]
  },
  {
   "cell_type": "code",
   "execution_count": 42,
   "metadata": {},
   "outputs": [
    {
     "data": {
      "image/png": "[encoded data removed]",
      "text/plain": [
       "<Figure size 1296x504 with 1 Axes>"
      ]
     },
     "metadata": {
      "needs_background": "light"
     },
     "output_type": "display_data"
    }
   ],
   "source": [
    "fig, ax = plt.subplots(figsize=(18,7))\n",
    "sns.lineplot(data=df2, x='year_of_release', y='total_sales', hue='platform')\n",
    "\n",
    "# Add labels platforms that used to be popular but now have zero sales\n",
    "ax.set_title('The most popular platforms and their sales across the years', fontdict={'size':15})\n",
    "ax.set_ylabel('sales')\n",
    "ax.set_xlabel('years')\n",
    "ax.set_xticks(df2.year_of_release)\n",
    "ax.set_xticklabels(df2.year_of_release, rotation=(90))\n",
    "\n",
    "plt.show()"
   ]
  },
  {
   "cell_type": "markdown",
   "metadata": {},
   "source": [
    "*Let's use this table to understand our graph better*"
   ]
  },
  {
   "cell_type": "code",
   "execution_count": 43,
   "metadata": {},
   "outputs": [
    {
     "data": {
      "text/html": [
       "<div>\n",
       "<style scoped>\n",
       "    .dataframe tbody tr th:only-of-type {\n",
       "        vertical-align: middle;\n",
       "    }\n",
       "\n",
       "    .dataframe tbody tr th {\n",
       "        vertical-align: top;\n",
       "    }\n",
       "\n",
       "    .dataframe thead th {\n",
       "        text-align: right;\n",
       "    }\n",
       "</style>\n",
       "<table border=\"1\" class=\"dataframe\">\n",
       "  <thead>\n",
       "    <tr style=\"text-align: right;\">\n",
       "      <th></th>\n",
       "      <th>platform</th>\n",
       "      <th>year_of_release</th>\n",
       "    </tr>\n",
       "  </thead>\n",
       "  <tbody>\n",
       "    <tr>\n",
       "      <th>0</th>\n",
       "      <td>DS</td>\n",
       "      <td>2013</td>\n",
       "    </tr>\n",
       "    <tr>\n",
       "      <th>1</th>\n",
       "      <td>GBA</td>\n",
       "      <td>2007</td>\n",
       "    </tr>\n",
       "    <tr>\n",
       "      <th>2</th>\n",
       "      <td>PS</td>\n",
       "      <td>2003</td>\n",
       "    </tr>\n",
       "    <tr>\n",
       "      <th>3</th>\n",
       "      <td>PS2</td>\n",
       "      <td>2011</td>\n",
       "    </tr>\n",
       "    <tr>\n",
       "      <th>4</th>\n",
       "      <td>PS3</td>\n",
       "      <td>2016</td>\n",
       "    </tr>\n",
       "    <tr>\n",
       "      <th>5</th>\n",
       "      <td>PS4</td>\n",
       "      <td>2016</td>\n",
       "    </tr>\n",
       "    <tr>\n",
       "      <th>6</th>\n",
       "      <td>PSP</td>\n",
       "      <td>2015</td>\n",
       "    </tr>\n",
       "    <tr>\n",
       "      <th>7</th>\n",
       "      <td>Wii</td>\n",
       "      <td>2016</td>\n",
       "    </tr>\n",
       "    <tr>\n",
       "      <th>8</th>\n",
       "      <td>X360</td>\n",
       "      <td>2016</td>\n",
       "    </tr>\n",
       "  </tbody>\n",
       "</table>\n",
       "</div>"
      ],
      "text/plain": [
       "  platform  year_of_release\n",
       "0       DS             2013\n",
       "1      GBA             2007\n",
       "2       PS             2003\n",
       "3      PS2             2011\n",
       "4      PS3             2016\n",
       "5      PS4             2016\n",
       "6      PSP             2015\n",
       "7      Wii             2016\n",
       "8     X360             2016"
      ]
     },
     "execution_count": 43,
     "metadata": {},
     "output_type": "execute_result"
    }
   ],
   "source": [
    "#Grouping the data by platform and showing the last year with sales  \n",
    "df2_last_year = df2.groupby(['platform']).agg({'year_of_release': 'max'}).reset_index()\n",
    "df2_last_year "
   ]
  },
  {
   "cell_type": "markdown",
   "metadata": {},
   "source": [
    "***What do we see in these graphs and tables?***<br>\n",
    "We can see that the platforms GBA and PS used to be popular few years ago, but now there are not in the market. We can say the same about the DS platforms, that dessapear from the market after the 2013, and the PS2 that desapear in the 2007. The PSP also was a popular platform and reported sales in the 2015, but not in the 2016.\n",
    "\n",
    "**Why?**<br>\n",
    "Maybe because gamers play more from the computer now?\n",
    "<br>\n",
    "<br>\n",
    "*The Big Picture Thus Far:* \n",
    "* We can conclude that we have 4 populars platforms in terms of sales that made sales also in the last year (2016)and they are : Wii,X360,PS4 and PS3."
   ]
  },
  {
   "cell_type": "markdown",
   "metadata": {},
   "source": [
    "<div class=\"alert alert-warning\" style=\"box-shadow: 4px 4px 4px\">\n",
    "Remark: I think this is due to the fact that new consoles appear too quickly.\n",
    "</div>"
   ]
  },
  {
   "cell_type": "markdown",
   "metadata": {},
   "source": [
    "## After all this calculations and graphs, it's time to determine what period we should take data for. \n",
    "Remember that the data should allow us to build a prognosis for 2017. \n",
    "\n",
    "We will use the data from the year 2002 until 2016. We will call to our selection data_filter."
   ]
  },
  {
   "cell_type": "code",
   "execution_count": 44,
   "metadata": {},
   "outputs": [],
   "source": [
    "data_filter = data.query('year_of_release > 2001')"
   ]
  },
  {
   "cell_type": "markdown",
   "metadata": {},
   "source": [
    "Let's take a look at the statistic summary for data_filter"
   ]
  },
  {
   "cell_type": "code",
   "execution_count": 45,
   "metadata": {},
   "outputs": [
    {
     "data": {
      "text/html": [
       "<div>\n",
       "<style scoped>\n",
       "    .dataframe tbody tr th:only-of-type {\n",
       "        vertical-align: middle;\n",
       "    }\n",
       "\n",
       "    .dataframe tbody tr th {\n",
       "        vertical-align: top;\n",
       "    }\n",
       "\n",
       "    .dataframe thead th {\n",
       "        text-align: right;\n",
       "    }\n",
       "</style>\n",
       "<table border=\"1\" class=\"dataframe\">\n",
       "  <thead>\n",
       "    <tr style=\"text-align: right;\">\n",
       "      <th></th>\n",
       "      <th>year_of_release</th>\n",
       "      <th>na_sales</th>\n",
       "      <th>eu_sales</th>\n",
       "      <th>jp_sales</th>\n",
       "      <th>other_sales</th>\n",
       "      <th>critic_score</th>\n",
       "      <th>user_score</th>\n",
       "      <th>total_sales</th>\n",
       "    </tr>\n",
       "  </thead>\n",
       "  <tbody>\n",
       "    <tr>\n",
       "      <th>count</th>\n",
       "      <td>13638.000000</td>\n",
       "      <td>13638.000000</td>\n",
       "      <td>13638.000000</td>\n",
       "      <td>13638.000000</td>\n",
       "      <td>13638.000000</td>\n",
       "      <td>7418.000000</td>\n",
       "      <td>7007.000000</td>\n",
       "      <td>13638.000000</td>\n",
       "    </tr>\n",
       "    <tr>\n",
       "      <th>mean</th>\n",
       "      <td>2008.476389</td>\n",
       "      <td>0.239121</td>\n",
       "      <td>0.142099</td>\n",
       "      <td>0.053761</td>\n",
       "      <td>0.050870</td>\n",
       "      <td>68.737126</td>\n",
       "      <td>7.086799</td>\n",
       "      <td>0.485851</td>\n",
       "    </tr>\n",
       "    <tr>\n",
       "      <th>std</th>\n",
       "      <td>3.785747</td>\n",
       "      <td>0.717534</td>\n",
       "      <td>0.520272</td>\n",
       "      <td>0.246589</td>\n",
       "      <td>0.202845</td>\n",
       "      <td>13.807442</td>\n",
       "      <td>1.499224</td>\n",
       "      <td>1.478568</td>\n",
       "    </tr>\n",
       "    <tr>\n",
       "      <th>min</th>\n",
       "      <td>2002.000000</td>\n",
       "      <td>0.000000</td>\n",
       "      <td>0.000000</td>\n",
       "      <td>0.000000</td>\n",
       "      <td>0.000000</td>\n",
       "      <td>13.000000</td>\n",
       "      <td>0.000000</td>\n",
       "      <td>0.000000</td>\n",
       "    </tr>\n",
       "    <tr>\n",
       "      <th>25%</th>\n",
       "      <td>2006.000000</td>\n",
       "      <td>0.000000</td>\n",
       "      <td>0.000000</td>\n",
       "      <td>0.000000</td>\n",
       "      <td>0.000000</td>\n",
       "      <td>60.000000</td>\n",
       "      <td>6.350000</td>\n",
       "      <td>0.050000</td>\n",
       "    </tr>\n",
       "    <tr>\n",
       "      <th>50%</th>\n",
       "      <td>2008.000000</td>\n",
       "      <td>0.080000</td>\n",
       "      <td>0.020000</td>\n",
       "      <td>0.000000</td>\n",
       "      <td>0.010000</td>\n",
       "      <td>71.000000</td>\n",
       "      <td>7.400000</td>\n",
       "      <td>0.150000</td>\n",
       "    </tr>\n",
       "    <tr>\n",
       "      <th>75%</th>\n",
       "      <td>2011.000000</td>\n",
       "      <td>0.220000</td>\n",
       "      <td>0.100000</td>\n",
       "      <td>0.030000</td>\n",
       "      <td>0.030000</td>\n",
       "      <td>79.000000</td>\n",
       "      <td>8.200000</td>\n",
       "      <td>0.430000</td>\n",
       "    </tr>\n",
       "    <tr>\n",
       "      <th>max</th>\n",
       "      <td>2016.000000</td>\n",
       "      <td>41.360000</td>\n",
       "      <td>28.960000</td>\n",
       "      <td>6.500000</td>\n",
       "      <td>10.570000</td>\n",
       "      <td>98.000000</td>\n",
       "      <td>9.700000</td>\n",
       "      <td>82.540000</td>\n",
       "    </tr>\n",
       "  </tbody>\n",
       "</table>\n",
       "</div>"
      ],
      "text/plain": [
       "       year_of_release      na_sales      eu_sales      jp_sales  \\\n",
       "count     13638.000000  13638.000000  13638.000000  13638.000000   \n",
       "mean       2008.476389      0.239121      0.142099      0.053761   \n",
       "std           3.785747      0.717534      0.520272      0.246589   \n",
       "min        2002.000000      0.000000      0.000000      0.000000   \n",
       "25%        2006.000000      0.000000      0.000000      0.000000   \n",
       "50%        2008.000000      0.080000      0.020000      0.000000   \n",
       "75%        2011.000000      0.220000      0.100000      0.030000   \n",
       "max        2016.000000     41.360000     28.960000      6.500000   \n",
       "\n",
       "        other_sales  critic_score   user_score   total_sales  \n",
       "count  13638.000000   7418.000000  7007.000000  13638.000000  \n",
       "mean       0.050870     68.737126     7.086799      0.485851  \n",
       "std        0.202845     13.807442     1.499224      1.478568  \n",
       "min        0.000000     13.000000     0.000000      0.000000  \n",
       "25%        0.000000     60.000000     6.350000      0.050000  \n",
       "50%        0.010000     71.000000     7.400000      0.150000  \n",
       "75%        0.030000     79.000000     8.200000      0.430000  \n",
       "max       10.570000     98.000000     9.700000     82.540000  "
      ]
     },
     "execution_count": 45,
     "metadata": {},
     "output_type": "execute_result"
    }
   ],
   "source": [
    "#show statistic summary for data_filter\n",
    "data_filter.describe()"
   ]
  },
  {
   "cell_type": "markdown",
   "metadata": {},
   "source": [
    "**Note:** <br>\n",
    "* The mean of total_sales is 0.485851 \n",
    "* The max value in total_sales is 82.54 (far away from the mean)\n",
    "* The third quartile is rounding the 0.43 (really closer to the mean)\n",
    "\n",
    "There are a few games that are making really good sales."
   ]
  },
  {
   "cell_type": "markdown",
   "metadata": {},
   "source": [
    "<div class=\"alert alert-success\" style=\"box-shadow: 4px 4px 4px\">\n",
    "Success: Agree\n",
    "</div>"
   ]
  },
  {
   "cell_type": "markdown",
   "metadata": {},
   "source": [
    "## Which platforms are leading in sales? \n",
    "We will select several potentially profitable platforms."
   ]
  },
  {
   "cell_type": "markdown",
   "metadata": {},
   "source": [
    "We want a table like the table sales_by_platform, that is the table we got by grouping the data by platform and total_sales and calculating the sum. But now we only need the columns platform and total_sales and also, this time we will use the data_filter (the slice of the data that is good for our investigacion). \n",
    "In order to make a good visualization we will use a treemap graph, and for this we also need to calculate the sizes of the rectangles."
   ]
  },
  {
   "cell_type": "code",
   "execution_count": 46,
   "metadata": {
    "scrolled": true
   },
   "outputs": [
    {
     "data": {
      "text/html": [
       "<div>\n",
       "<style scoped>\n",
       "    .dataframe tbody tr th:only-of-type {\n",
       "        vertical-align: middle;\n",
       "    }\n",
       "\n",
       "    .dataframe tbody tr th {\n",
       "        vertical-align: top;\n",
       "    }\n",
       "\n",
       "    .dataframe thead th {\n",
       "        text-align: right;\n",
       "    }\n",
       "</style>\n",
       "<table border=\"1\" class=\"dataframe\">\n",
       "  <thead>\n",
       "    <tr style=\"text-align: right;\">\n",
       "      <th></th>\n",
       "      <th>platform</th>\n",
       "      <th>total_sales</th>\n",
       "    </tr>\n",
       "  </thead>\n",
       "  <tbody>\n",
       "    <tr>\n",
       "      <th>0</th>\n",
       "      <td>N64</td>\n",
       "      <td>0.08</td>\n",
       "    </tr>\n",
       "    <tr>\n",
       "      <th>1</th>\n",
       "      <td>DC</td>\n",
       "      <td>0.35</td>\n",
       "    </tr>\n",
       "    <tr>\n",
       "      <th>2</th>\n",
       "      <td>PS</td>\n",
       "      <td>8.74</td>\n",
       "    </tr>\n",
       "    <tr>\n",
       "      <th>3</th>\n",
       "      <td>PSV</td>\n",
       "      <td>53.81</td>\n",
       "    </tr>\n",
       "    <tr>\n",
       "      <th>4</th>\n",
       "      <td>WiiU</td>\n",
       "      <td>82.19</td>\n",
       "    </tr>\n",
       "    <tr>\n",
       "      <th>5</th>\n",
       "      <td>XOne</td>\n",
       "      <td>159.32</td>\n",
       "    </tr>\n",
       "    <tr>\n",
       "      <th>6</th>\n",
       "      <td>GC</td>\n",
       "      <td>170.39</td>\n",
       "    </tr>\n",
       "    <tr>\n",
       "      <th>7</th>\n",
       "      <td>PC</td>\n",
       "      <td>195.59</td>\n",
       "    </tr>\n",
       "    <tr>\n",
       "      <th>8</th>\n",
       "      <td>XB</td>\n",
       "      <td>228.32</td>\n",
       "    </tr>\n",
       "    <tr>\n",
       "      <th>9</th>\n",
       "      <td>GBA</td>\n",
       "      <td>251.28</td>\n",
       "    </tr>\n",
       "    <tr>\n",
       "      <th>10</th>\n",
       "      <td>3DS</td>\n",
       "      <td>257.81</td>\n",
       "    </tr>\n",
       "    <tr>\n",
       "      <th>11</th>\n",
       "      <td>PSP</td>\n",
       "      <td>289.53</td>\n",
       "    </tr>\n",
       "    <tr>\n",
       "      <th>12</th>\n",
       "      <td>PS4</td>\n",
       "      <td>314.14</td>\n",
       "    </tr>\n",
       "    <tr>\n",
       "      <th>13</th>\n",
       "      <td>DS</td>\n",
       "      <td>802.76</td>\n",
       "    </tr>\n",
       "    <tr>\n",
       "      <th>14</th>\n",
       "      <td>Wii</td>\n",
       "      <td>891.18</td>\n",
       "    </tr>\n",
       "    <tr>\n",
       "      <th>15</th>\n",
       "      <td>PS3</td>\n",
       "      <td>931.34</td>\n",
       "    </tr>\n",
       "    <tr>\n",
       "      <th>16</th>\n",
       "      <td>X360</td>\n",
       "      <td>961.24</td>\n",
       "    </tr>\n",
       "    <tr>\n",
       "      <th>17</th>\n",
       "      <td>PS2</td>\n",
       "      <td>1027.96</td>\n",
       "    </tr>\n",
       "  </tbody>\n",
       "</table>\n",
       "</div>"
      ],
      "text/plain": [
       "   platform  total_sales\n",
       "0       N64         0.08\n",
       "1        DC         0.35\n",
       "2        PS         8.74\n",
       "3       PSV        53.81\n",
       "4      WiiU        82.19\n",
       "5      XOne       159.32\n",
       "6        GC       170.39\n",
       "7        PC       195.59\n",
       "8        XB       228.32\n",
       "9       GBA       251.28\n",
       "10      3DS       257.81\n",
       "11      PSP       289.53\n",
       "12      PS4       314.14\n",
       "13       DS       802.76\n",
       "14      Wii       891.18\n",
       "15      PS3       931.34\n",
       "16     X360       961.24\n",
       "17      PS2      1027.96"
      ]
     },
     "execution_count": 46,
     "metadata": {},
     "output_type": "execute_result"
    }
   ],
   "source": [
    "#Grouping the data_filter table by platform and total_sales and calculating the total sales for each platform\n",
    "filter_sales_by_platform = data_filter[['platform','total_sales']].groupby(['platform']).sum().sort_values(by=\"total_sales\").reset_index()\n",
    "#Let's take a look\n",
    "filter_sales_by_platform"
   ]
  },
  {
   "cell_type": "code",
   "execution_count": 47,
   "metadata": {},
   "outputs": [],
   "source": [
    "#Defining the values for each rectangle\n",
    "sizes = filter_sales_by_platform.total_sales.values.tolist()"
   ]
  },
  {
   "cell_type": "code",
   "execution_count": 48,
   "metadata": {},
   "outputs": [],
   "source": [
    "#Defining the labes\n",
    "labels = filter_sales_by_platform.apply(lambda x: str(x[0])+\"\\n\"+\"$\"+str(round(x[1])),axis=1)"
   ]
  },
  {
   "cell_type": "code",
   "execution_count": 49,
   "metadata": {},
   "outputs": [
    {
     "data": {
      "image/png": "[encoded data removed]",
      "text/plain": [
       "<Figure size 1296x648 with 1 Axes>"
      ]
     },
     "metadata": {
      "needs_background": "light"
     },
     "output_type": "display_data"
    }
   ],
   "source": [
    "#Plotting the graph\n",
    "plt.figure(figsize=(18,9))\n",
    "squarify.plot(sizes=sizes, label=labels, alpha=0.5)\n",
    "\n",
    "# Add labels\n",
    "plt.title('Total sales by platforms',fontsize=15)\n",
    "plt.show()"
   ]
  },
  {
   "cell_type": "markdown",
   "metadata": {},
   "source": [
    "Before we make conclusions let's take a look at the statistic summary for filter_sales_by_platform table (data_filter grouped by platform and total_sales and calculating the total sales for each platform)"
   ]
  },
  {
   "cell_type": "code",
   "execution_count": 50,
   "metadata": {},
   "outputs": [
    {
     "data": {
      "text/html": [
       "<div>\n",
       "<style scoped>\n",
       "    .dataframe tbody tr th:only-of-type {\n",
       "        vertical-align: middle;\n",
       "    }\n",
       "\n",
       "    .dataframe tbody tr th {\n",
       "        vertical-align: top;\n",
       "    }\n",
       "\n",
       "    .dataframe thead th {\n",
       "        text-align: right;\n",
       "    }\n",
       "</style>\n",
       "<table border=\"1\" class=\"dataframe\">\n",
       "  <thead>\n",
       "    <tr style=\"text-align: right;\">\n",
       "      <th></th>\n",
       "      <th>total_sales</th>\n",
       "    </tr>\n",
       "  </thead>\n",
       "  <tbody>\n",
       "    <tr>\n",
       "      <th>count</th>\n",
       "      <td>18.000000</td>\n",
       "    </tr>\n",
       "    <tr>\n",
       "      <th>mean</th>\n",
       "      <td>368.112778</td>\n",
       "    </tr>\n",
       "    <tr>\n",
       "      <th>std</th>\n",
       "      <td>368.959180</td>\n",
       "    </tr>\n",
       "    <tr>\n",
       "      <th>min</th>\n",
       "      <td>0.080000</td>\n",
       "    </tr>\n",
       "    <tr>\n",
       "      <th>25%</th>\n",
       "      <td>101.472500</td>\n",
       "    </tr>\n",
       "    <tr>\n",
       "      <th>50%</th>\n",
       "      <td>239.800000</td>\n",
       "    </tr>\n",
       "    <tr>\n",
       "      <th>75%</th>\n",
       "      <td>680.605000</td>\n",
       "    </tr>\n",
       "    <tr>\n",
       "      <th>max</th>\n",
       "      <td>1027.960000</td>\n",
       "    </tr>\n",
       "  </tbody>\n",
       "</table>\n",
       "</div>"
      ],
      "text/plain": [
       "       total_sales\n",
       "count    18.000000\n",
       "mean    368.112778\n",
       "std     368.959180\n",
       "min       0.080000\n",
       "25%     101.472500\n",
       "50%     239.800000\n",
       "75%     680.605000\n",
       "max    1027.960000"
      ]
     },
     "execution_count": 50,
     "metadata": {},
     "output_type": "execute_result"
    }
   ],
   "source": [
    "#show statistic summary for data_filter\n",
    "filter_sales_by_platform.describe()"
   ]
  },
  {
   "cell_type": "markdown",
   "metadata": {},
   "source": [
    "**What do we see  in the graph?**<br>\n",
    "The platforms that are leading in sales are DS, Wii, PS3, PS2 and X360. \n",
    "\n",
    "**Let's make some conclusions!**<br>\n",
    "* We already know that the DS platform dessapeared from the market after the 2013, and the PS2 after the 2007. So we should not taken this platforms in consideration for future analysis about building a prognosis for 2017. \n",
    "* What about the PS4 platform? <br>\n",
    "The platform reported sales in 2016, and also made 314 in sales, while the mean renueve it's about $368. The PS4 it's obviously not leading in sales, but reported sales in 2016 and entered to the market at 2013, so we can suppose that this platform will have future in terms of sales. In the graph \"The most popular platforms and their sales across the years\" we can appreciate a decrease on the total sales for this platform in the last year. <br>*Should we take this platform in consideration for future analysis about building a prognosis for 2017?* <br>\n",
    "For now we will consider this platform like one of our chosen ones. Maybe after a few calculations and visualizations the situation will be more clear."
   ]
  },
  {
   "cell_type": "markdown",
   "metadata": {},
   "source": [
    "<div class=\"alert alert-warning\" style=\"box-shadow: 4px 4px 4px\">\n",
    "Remark: I didn't really understand whether this question was addressed to me or not, but I'll answer just in case. In real tasks, it is necessary to consider market newcomers because they have the most chances to become a hit, but we may not know this yet. Of course, the PS4 has made fewer sales than DS, but DS have been on the market since 2003, and the PS4 since 2013.\n",
    "</div>"
   ]
  },
  {
   "cell_type": "markdown",
   "metadata": {},
   "source": [
    "*The Big Picture Thus Far:* \n",
    "\n",
    "* For now, the platforms we will take into consideration for future analysis about building a prognosis for 2017 are: Wii,X360,PS4 and PS3. \n",
    "* To make a good decision about the platforms we should choose we need to know their sales evolution across the years.\n"
   ]
  },
  {
   "cell_type": "markdown",
   "metadata": {},
   "source": [
    "## Which platforms are growing or shrinking? "
   ]
  },
  {
   "cell_type": "markdown",
   "metadata": {},
   "source": [
    "Let's create a new table using pivot table and the data_filter table. <br>\n",
    "We want to see the sales evolution across the years for every platform. We will choose the year_of_release column to be the index, will pass the column platform to the parameter columns, and for the parameter values will pass the total_sales column, calculating the sales of every plartform by year."
   ]
  },
  {
   "cell_type": "code",
   "execution_count": 51,
   "metadata": {},
   "outputs": [],
   "source": [
    "df3 = pd.pivot_table(data_filter, index='year_of_release', columns='platform', values='total_sales', aggfunc='sum', fill_value=0)"
   ]
  },
  {
   "cell_type": "markdown",
   "metadata": {},
   "source": [
    "Let's take a look at the new table"
   ]
  },
  {
   "cell_type": "code",
   "execution_count": 52,
   "metadata": {
    "scrolled": true
   },
   "outputs": [
    {
     "data": {
      "text/html": [
       "<div>\n",
       "<style scoped>\n",
       "    .dataframe tbody tr th:only-of-type {\n",
       "        vertical-align: middle;\n",
       "    }\n",
       "\n",
       "    .dataframe tbody tr th {\n",
       "        vertical-align: top;\n",
       "    }\n",
       "\n",
       "    .dataframe thead th {\n",
       "        text-align: right;\n",
       "    }\n",
       "</style>\n",
       "<table border=\"1\" class=\"dataframe\">\n",
       "  <thead>\n",
       "    <tr style=\"text-align: right;\">\n",
       "      <th>year_of_release</th>\n",
       "      <th>2002</th>\n",
       "      <th>2003</th>\n",
       "      <th>2004</th>\n",
       "      <th>2005</th>\n",
       "      <th>2006</th>\n",
       "      <th>2007</th>\n",
       "      <th>2008</th>\n",
       "      <th>2009</th>\n",
       "      <th>2010</th>\n",
       "      <th>2011</th>\n",
       "      <th>2012</th>\n",
       "      <th>2013</th>\n",
       "      <th>2014</th>\n",
       "      <th>2015</th>\n",
       "      <th>2016</th>\n",
       "    </tr>\n",
       "    <tr>\n",
       "      <th>platform</th>\n",
       "      <th></th>\n",
       "      <th></th>\n",
       "      <th></th>\n",
       "      <th></th>\n",
       "      <th></th>\n",
       "      <th></th>\n",
       "      <th></th>\n",
       "      <th></th>\n",
       "      <th></th>\n",
       "      <th></th>\n",
       "      <th></th>\n",
       "      <th></th>\n",
       "      <th></th>\n",
       "      <th></th>\n",
       "      <th></th>\n",
       "    </tr>\n",
       "  </thead>\n",
       "  <tbody>\n",
       "    <tr>\n",
       "      <th>3DS</th>\n",
       "      <td>0.00</td>\n",
       "      <td>0.00</td>\n",
       "      <td>0.00</td>\n",
       "      <td>0.00</td>\n",
       "      <td>0.00</td>\n",
       "      <td>0.00</td>\n",
       "      <td>0.00</td>\n",
       "      <td>0.00</td>\n",
       "      <td>0.00</td>\n",
       "      <td>63.20</td>\n",
       "      <td>51.36</td>\n",
       "      <td>56.57</td>\n",
       "      <td>43.76</td>\n",
       "      <td>27.78</td>\n",
       "      <td>15.14</td>\n",
       "    </tr>\n",
       "    <tr>\n",
       "      <th>DC</th>\n",
       "      <td>0.29</td>\n",
       "      <td>0.00</td>\n",
       "      <td>0.00</td>\n",
       "      <td>0.00</td>\n",
       "      <td>0.00</td>\n",
       "      <td>0.02</td>\n",
       "      <td>0.04</td>\n",
       "      <td>0.00</td>\n",
       "      <td>0.00</td>\n",
       "      <td>0.00</td>\n",
       "      <td>0.00</td>\n",
       "      <td>0.00</td>\n",
       "      <td>0.00</td>\n",
       "      <td>0.00</td>\n",
       "      <td>0.00</td>\n",
       "    </tr>\n",
       "    <tr>\n",
       "      <th>DS</th>\n",
       "      <td>0.00</td>\n",
       "      <td>0.00</td>\n",
       "      <td>17.27</td>\n",
       "      <td>130.14</td>\n",
       "      <td>119.81</td>\n",
       "      <td>146.94</td>\n",
       "      <td>145.31</td>\n",
       "      <td>119.54</td>\n",
       "      <td>85.02</td>\n",
       "      <td>26.18</td>\n",
       "      <td>11.01</td>\n",
       "      <td>1.54</td>\n",
       "      <td>0.00</td>\n",
       "      <td>0.00</td>\n",
       "      <td>0.00</td>\n",
       "    </tr>\n",
       "    <tr>\n",
       "      <th>GBA</th>\n",
       "      <td>74.16</td>\n",
       "      <td>56.67</td>\n",
       "      <td>77.91</td>\n",
       "      <td>33.86</td>\n",
       "      <td>5.28</td>\n",
       "      <td>3.40</td>\n",
       "      <td>0.00</td>\n",
       "      <td>0.00</td>\n",
       "      <td>0.00</td>\n",
       "      <td>0.00</td>\n",
       "      <td>0.00</td>\n",
       "      <td>0.00</td>\n",
       "      <td>0.00</td>\n",
       "      <td>0.00</td>\n",
       "      <td>0.00</td>\n",
       "    </tr>\n",
       "    <tr>\n",
       "      <th>GC</th>\n",
       "      <td>51.81</td>\n",
       "      <td>50.61</td>\n",
       "      <td>28.82</td>\n",
       "      <td>27.62</td>\n",
       "      <td>11.26</td>\n",
       "      <td>0.27</td>\n",
       "      <td>0.00</td>\n",
       "      <td>0.00</td>\n",
       "      <td>0.00</td>\n",
       "      <td>0.00</td>\n",
       "      <td>0.00</td>\n",
       "      <td>0.00</td>\n",
       "      <td>0.00</td>\n",
       "      <td>0.00</td>\n",
       "      <td>0.00</td>\n",
       "    </tr>\n",
       "  </tbody>\n",
       "</table>\n",
       "</div>"
      ],
      "text/plain": [
       "year_of_release   2002   2003   2004    2005    2006    2007    2008    2009  \\\n",
       "platform                                                                       \n",
       "3DS               0.00   0.00   0.00    0.00    0.00    0.00    0.00    0.00   \n",
       "DC                0.29   0.00   0.00    0.00    0.00    0.02    0.04    0.00   \n",
       "DS                0.00   0.00  17.27  130.14  119.81  146.94  145.31  119.54   \n",
       "GBA              74.16  56.67  77.91   33.86    5.28    3.40    0.00    0.00   \n",
       "GC               51.81  50.61  28.82   27.62   11.26    0.27    0.00    0.00   \n",
       "\n",
       "year_of_release   2010   2011   2012   2013   2014   2015   2016  \n",
       "platform                                                          \n",
       "3DS               0.00  63.20  51.36  56.57  43.76  27.78  15.14  \n",
       "DC                0.00   0.00   0.00   0.00   0.00   0.00   0.00  \n",
       "DS               85.02  26.18  11.01   1.54   0.00   0.00   0.00  \n",
       "GBA               0.00   0.00   0.00   0.00   0.00   0.00   0.00  \n",
       "GC                0.00   0.00   0.00   0.00   0.00   0.00   0.00  "
      ]
     },
     "execution_count": 52,
     "metadata": {},
     "output_type": "execute_result"
    }
   ],
   "source": [
    "df3.T.head()"
   ]
  },
  {
   "cell_type": "markdown",
   "metadata": {},
   "source": [
    "Pandas dataframe.shift() function Shift index by desired number of periods with an optional time freq. We wil use this function to see the platforms sales evolution across the years."
   ]
  },
  {
   "cell_type": "code",
   "execution_count": 53,
   "metadata": {},
   "outputs": [
    {
     "data": {
      "text/html": [
       "<div>\n",
       "<style scoped>\n",
       "    .dataframe tbody tr th:only-of-type {\n",
       "        vertical-align: middle;\n",
       "    }\n",
       "\n",
       "    .dataframe tbody tr th {\n",
       "        vertical-align: top;\n",
       "    }\n",
       "\n",
       "    .dataframe thead th {\n",
       "        text-align: right;\n",
       "    }\n",
       "</style>\n",
       "<table border=\"1\" class=\"dataframe\">\n",
       "  <thead>\n",
       "    <tr style=\"text-align: right;\">\n",
       "      <th>year_of_release</th>\n",
       "      <th>2002</th>\n",
       "      <th>2003</th>\n",
       "      <th>2004</th>\n",
       "      <th>2005</th>\n",
       "      <th>2006</th>\n",
       "      <th>2007</th>\n",
       "      <th>2008</th>\n",
       "      <th>2009</th>\n",
       "      <th>2010</th>\n",
       "      <th>2011</th>\n",
       "      <th>2012</th>\n",
       "      <th>2013</th>\n",
       "      <th>2014</th>\n",
       "      <th>2015</th>\n",
       "      <th>2016</th>\n",
       "    </tr>\n",
       "    <tr>\n",
       "      <th>platform</th>\n",
       "      <th></th>\n",
       "      <th></th>\n",
       "      <th></th>\n",
       "      <th></th>\n",
       "      <th></th>\n",
       "      <th></th>\n",
       "      <th></th>\n",
       "      <th></th>\n",
       "      <th></th>\n",
       "      <th></th>\n",
       "      <th></th>\n",
       "      <th></th>\n",
       "      <th></th>\n",
       "      <th></th>\n",
       "      <th></th>\n",
       "    </tr>\n",
       "  </thead>\n",
       "  <tbody>\n",
       "    <tr>\n",
       "      <th>3DS</th>\n",
       "      <td>NaN</td>\n",
       "      <td>0.00</td>\n",
       "      <td>0.00</td>\n",
       "      <td>0.00</td>\n",
       "      <td>0.00</td>\n",
       "      <td>0.00</td>\n",
       "      <td>0.00</td>\n",
       "      <td>0.00</td>\n",
       "      <td>0.00</td>\n",
       "      <td>63.20</td>\n",
       "      <td>-11.84</td>\n",
       "      <td>5.21</td>\n",
       "      <td>-12.81</td>\n",
       "      <td>-15.98</td>\n",
       "      <td>-12.64</td>\n",
       "    </tr>\n",
       "    <tr>\n",
       "      <th>DC</th>\n",
       "      <td>NaN</td>\n",
       "      <td>-0.29</td>\n",
       "      <td>0.00</td>\n",
       "      <td>0.00</td>\n",
       "      <td>0.00</td>\n",
       "      <td>0.02</td>\n",
       "      <td>0.02</td>\n",
       "      <td>-0.04</td>\n",
       "      <td>0.00</td>\n",
       "      <td>0.00</td>\n",
       "      <td>0.00</td>\n",
       "      <td>0.00</td>\n",
       "      <td>0.00</td>\n",
       "      <td>0.00</td>\n",
       "      <td>0.00</td>\n",
       "    </tr>\n",
       "    <tr>\n",
       "      <th>DS</th>\n",
       "      <td>NaN</td>\n",
       "      <td>0.00</td>\n",
       "      <td>17.27</td>\n",
       "      <td>112.87</td>\n",
       "      <td>-10.33</td>\n",
       "      <td>27.13</td>\n",
       "      <td>-1.63</td>\n",
       "      <td>-25.77</td>\n",
       "      <td>-34.52</td>\n",
       "      <td>-58.84</td>\n",
       "      <td>-15.17</td>\n",
       "      <td>-9.47</td>\n",
       "      <td>-1.54</td>\n",
       "      <td>0.00</td>\n",
       "      <td>0.00</td>\n",
       "    </tr>\n",
       "    <tr>\n",
       "      <th>GBA</th>\n",
       "      <td>NaN</td>\n",
       "      <td>-17.49</td>\n",
       "      <td>21.24</td>\n",
       "      <td>-44.05</td>\n",
       "      <td>-28.58</td>\n",
       "      <td>-1.88</td>\n",
       "      <td>-3.40</td>\n",
       "      <td>0.00</td>\n",
       "      <td>0.00</td>\n",
       "      <td>0.00</td>\n",
       "      <td>0.00</td>\n",
       "      <td>0.00</td>\n",
       "      <td>0.00</td>\n",
       "      <td>0.00</td>\n",
       "      <td>0.00</td>\n",
       "    </tr>\n",
       "    <tr>\n",
       "      <th>GC</th>\n",
       "      <td>NaN</td>\n",
       "      <td>-1.20</td>\n",
       "      <td>-21.79</td>\n",
       "      <td>-1.20</td>\n",
       "      <td>-16.36</td>\n",
       "      <td>-10.99</td>\n",
       "      <td>-0.27</td>\n",
       "      <td>0.00</td>\n",
       "      <td>0.00</td>\n",
       "      <td>0.00</td>\n",
       "      <td>0.00</td>\n",
       "      <td>0.00</td>\n",
       "      <td>0.00</td>\n",
       "      <td>0.00</td>\n",
       "      <td>0.00</td>\n",
       "    </tr>\n",
       "  </tbody>\n",
       "</table>\n",
       "</div>"
      ],
      "text/plain": [
       "year_of_release  2002   2003   2004    2005   2006   2007  2008   2009   2010  \\\n",
       "platform                                                                        \n",
       "3DS               NaN   0.00   0.00    0.00   0.00   0.00  0.00   0.00   0.00   \n",
       "DC                NaN  -0.29   0.00    0.00   0.00   0.02  0.02  -0.04   0.00   \n",
       "DS                NaN   0.00  17.27  112.87 -10.33  27.13 -1.63 -25.77 -34.52   \n",
       "GBA               NaN -17.49  21.24  -44.05 -28.58  -1.88 -3.40   0.00   0.00   \n",
       "GC                NaN  -1.20 -21.79   -1.20 -16.36 -10.99 -0.27   0.00   0.00   \n",
       "\n",
       "year_of_release   2011   2012  2013   2014   2015   2016  \n",
       "platform                                                  \n",
       "3DS              63.20 -11.84  5.21 -12.81 -15.98 -12.64  \n",
       "DC                0.00   0.00  0.00   0.00   0.00   0.00  \n",
       "DS              -58.84 -15.17 -9.47  -1.54   0.00   0.00  \n",
       "GBA               0.00   0.00  0.00   0.00   0.00   0.00  \n",
       "GC                0.00   0.00  0.00   0.00   0.00   0.00  "
      ]
     },
     "execution_count": 53,
     "metadata": {},
     "output_type": "execute_result"
    }
   ],
   "source": [
    "#Using dataframe.shift() function \n",
    "dinamics = df3 - df3.shift(+1)\n",
    "#Let's take a look at the platforms sales evolution across the years.\n",
    "dinamics.T.head()"
   ]
  },
  {
   "cell_type": "markdown",
   "metadata": {},
   "source": [
    "#### The table it's nice but  a good visualization will make the numbers more understandable\n",
    "A heatmap is a type of chart that uses different shades of colors to represent data values. <br>\n",
    "Using the table we just made, we will make a heatmap graph were the darkest color red will represent a increase in sales and the darkest color blue the opposite."
   ]
  },
  {
   "cell_type": "markdown",
   "metadata": {},
   "source": [
    "<div class=\"alert alert-success\" style=\"box-shadow: 4px 4px 4px\">\n",
    "Success: I couldn't agree more!\n",
    "</div>"
   ]
  },
  {
   "cell_type": "code",
   "execution_count": 54,
   "metadata": {},
   "outputs": [
    {
     "data": {
      "image/png": "[encoded data removed]",
      "text/plain": [
       "<Figure size 1080x504 with 2 Axes>"
      ]
     },
     "metadata": {
      "needs_background": "light"
     },
     "output_type": "display_data"
    }
   ],
   "source": [
    "plt.figure(figsize=(15,7))\n",
    "sns.heatmap(dinamics.T, cmap=\"RdBu_r\", linewidths=.5)\n",
    "\n",
    "# Add labels\n",
    "plt.title('Heatmap graph for platforms sales evolution across the years',fontsize=15)\n",
    "plt.ylabel('Platforms') \n",
    "plt.xlabel('Years') \n",
    "plt.show()"
   ]
  },
  {
   "cell_type": "markdown",
   "metadata": {},
   "source": [
    "**Note:** <br>\n",
    "The platforms we are taking into consideration (for now) for future analysis about building a prognosis for 2017 are: Wii,X360,PS4 and PS3.\n",
    "<br>\n",
    "<br>\n",
    "<br>\n",
    "***What do we see in the heatmap?***<br>\n",
    "* The platforms with the greater increase sales are DS (in 2005) and Wii (in 2006).\n",
    "* DS platform was really popular but dessapeared from the market after the 2013 (But we already knew this)\n",
    "* Wii platform sales also increase in 2009, but in 2010 they decreased a lot, and the sales for this platform in general continue to decrease after 2010 until now.\n",
    "* The PS4 sales increase in 2014, and them decreased in 2015. \n",
    "* The PS3 platform sales increase in 2007 and 2008 but they decreased in 2014 in a dramatic way, being 2015 and 2016 also years with a little decrease in the sales.\n",
    "* For the X360 platform there is not a year where the sales increase in a dramatic way (like happens to DS and Wii),instead there are 4 years were the sales for this platforms increase a little. In 2014 the platform sales decreased significant and decreased a little in 2015. But in 2016 the sales stay stable.\n",
    "* Surprise! By looking at the PSP in the heatmap we can apreciette  that also this platform could be relevant, with a increase in the sales in 2005. Also reported sales in 2015 (but not in 2016). Just don't forget that the PSP entered to the market at 2004. So maybe it's also the end of the PSP era."
   ]
  },
  {
   "cell_type": "markdown",
   "metadata": {},
   "source": [
    "<div class=\"alert alert-success\" style=\"box-shadow: 4px 4px 4px\">\n",
    "Success: I haven't seen the PSP ever since 😄\n",
    "</div>"
   ]
  },
  {
   "cell_type": "markdown",
   "metadata": {},
   "source": [
    "## Building a box plot for the global sales of all games, broken down by platform"
   ]
  },
  {
   "cell_type": "code",
   "execution_count": 55,
   "metadata": {},
   "outputs": [],
   "source": [
    "#Grouping the data by platform and year_of_release and calculating the sum of total_sales\n",
    "grouped=data_filter.groupby(['platform','year_of_release'])['total_sales'].sum().reset_index()\n",
    "#Grouping the grouped table and using sort_values() to order our boxplots in ascending order\n",
    "ordered=grouped.groupby(['platform'])['total_sales'].sum().sort_values().reset_index()['platform']"
   ]
  },
  {
   "cell_type": "code",
   "execution_count": 56,
   "metadata": {},
   "outputs": [
    {
     "data": {
      "image/png": "[encoded data removed]",
      "text/plain": [
       "<Figure size 792x504 with 1 Axes>"
      ]
     },
     "metadata": {
      "needs_background": "light"
     },
     "output_type": "display_data"
    }
   ],
   "source": [
    "#Plotting the box plots\n",
    "plt.figure(figsize=(11,7))\n",
    "sns.boxplot(x='platform',y='total_sales',data=grouped,order=ordered)\n",
    "\n",
    "# Add labels\n",
    "plt.title('Box plots for the global sales by platform',fontsize=15)\n",
    "plt.ylabel('sales in USD million') \n",
    "plt.xlabel('platforms') \n",
    "plt.show()"
   ]
  },
  {
   "cell_type": "markdown",
   "metadata": {},
   "source": [
    "<div class=\"alert alert-success\" style=\"box-shadow: 4px 4px 4px\">\n",
    "Success: The graph is perfect!\n",
    "</div>"
   ]
  },
  {
   "cell_type": "markdown",
   "metadata": {},
   "source": [
    "#### Removing outliers and plotingthe box plots again"
   ]
  },
  {
   "cell_type": "code",
   "execution_count": 57,
   "metadata": {
    "scrolled": true
   },
   "outputs": [
    {
     "name": "stdout",
     "output_type": "stream",
     "text": [
      "Lower bound: -91.24999999999999\n",
      "Upper bound: 174.86999999999998\n"
     ]
    },
    {
     "data": {
      "image/png": "[encoded data removed]",
      "text/plain": [
       "<Figure size 792x504 with 1 Axes>"
      ]
     },
     "metadata": {
      "needs_background": "light"
     },
     "output_type": "display_data"
    }
   ],
   "source": [
    "def calc_lower_upper_bounds(df, col_name):\n",
    "    # calculate Q1 and Q3\n",
    "    Q1 = df[col_name].quantile(.25)\n",
    "    Q3 = df[col_name].quantile(.75)\n",
    "    # calculate IQR\n",
    "    IQR = Q3-Q1\n",
    "    # calculate upper and lower bounds for outlier detection\n",
    "    outlier_lower_bound = Q1 - 1.5*IQR\n",
    "    outlier_upper_bound = Q3 + 1.5*IQR\n",
    "    print('Lower bound:', outlier_lower_bound) \n",
    "    print('Upper bound:', outlier_upper_bound)\n",
    "    return {'lower_bound':outlier_lower_bound, 'upper_bound':outlier_upper_bound}\n",
    "lower_bound, upper_bound = calc_lower_upper_bounds(grouped, 'total_sales').values()\n",
    "filtered_game_sales = grouped.query('total_sales < @upper_bound & total_sales > @lower_bound')\n",
    "\n",
    "fig, ax = plt.subplots(figsize=(11,7))\n",
    "#filtered_game_sales.boxplot(by='platform', column='total_sales', ax=ax);\n",
    "sns.boxplot(x=\"platform\", y=\"total_sales\", data=filtered_game_sales ,order=ordered)\n",
    "\n",
    "# Add labels\n",
    "plt.title('Box plots for the global sales by platform',fontsize=15)\n",
    "plt.ylabel('sales in USD million') \n",
    "plt.xlabel('platforms') \n",
    "plt.show()"
   ]
  },
  {
   "cell_type": "markdown",
   "metadata": {},
   "source": [
    "We are definitely using the first box plots graphs (with all the data_filter data) for our analysis. We can see that removing the outliers looks unnecessary and also make big distortions in our results. Also, if there is outliers is because there is a sifnificant decrease or increase in the sales, and thats okay! We are speaking here about sales by platforms across the years, all the sales are relevant!"
   ]
  },
  {
   "cell_type": "markdown",
   "metadata": {},
   "source": [
    "<div class=\"alert alert-success\" style=\"box-shadow: 4px 4px 4px\">\n",
    "Success: It is right decision!\n",
    "</div>"
   ]
  },
  {
   "cell_type": "markdown",
   "metadata": {},
   "source": [
    "***What do we see in the boxplots?***<br>\n",
    "* The PS2 platform is leading in sales but we already know that this platform dessapeared from the market after 2007. So the PS2 sales are not so relevant for us now.\n",
    "* The X360 made good sales, and we already know it's a more stable platform in terms of sales, that also reported sales in 2016.\n",
    "* The Wii platforms has good sales, but we already know that the sales are decreasing in the last 9 year, with years were the sales decrease was dramatic. We can see in the Wii box plot that the mean is closer to the first quartile and far away from the third. We have a lot of low values! All the sales of the last 9 years. Taking in consideration that the platforms survive in the market an approximation of 10 years, it's obvious that we are seeing the end of the Wii era. The Wii platform is not relevant for our analysis.\n",
    "* The PSP suprise us again! The sales were nice. But it's probabely that the planform will desapear soon \n",
    "\n",
    "\n",
    "**Note:** <br>\n",
    "The platforms we are taking now into consideration for future analysis about building a prognosis for 2017 are: X360,PS4 and PS3."
   ]
  },
  {
   "cell_type": "markdown",
   "metadata": {},
   "source": [
    "<div class=\"alert alert-success\" style=\"box-shadow: 4px 4px 4px\">\n",
    "Success: Agree\n",
    "</div>"
   ]
  },
  {
   "cell_type": "markdown",
   "metadata": {},
   "source": [
    "## Taking a look at how user and professional reviews affect sales for one popular platform.\n",
    "Building a scatter plot and calculating the correlation between reviews and sales for a chosen platform."
   ]
  },
  {
   "cell_type": "markdown",
   "metadata": {},
   "source": [
    "We are choosing the X360 platform! Nice sales across the years,reported sales in 2016 and also reported sales in the last 10 years, while the sales increased in 2006, 2007,2008 and 2010. Although the sales decreased in the last years the decrease was not so dramatic."
   ]
  },
  {
   "cell_type": "markdown",
   "metadata": {},
   "source": [
    "Making a function that plot a scatter graph and shows the correlation calculations,  in order to check the effects of review score on total sales for a specific platform."
   ]
  },
  {
   "cell_type": "code",
   "execution_count": 58,
   "metadata": {},
   "outputs": [],
   "source": [
    "def score_effect(plat):\n",
    "    #subset of data by parameter platform\n",
    "    df4=data_filter[data_filter['platform']==plat]\n",
    "    # correlation calculation - using Spearman because distribution is not normal\n",
    "    df_corr =  df4[['user_score', 'critic_score', 'total_sales']].corr(method=\"spearman\")\n",
    "    # print result and conclusion\n",
    "    df_corr_style = df_corr.style.background_gradient(cmap=sns.light_palette(\"green\", as_cmap=True))\n",
    "    print(\"Correlation calculations for\",plat,\" platform\")\n",
    "    display(df_corr_style)\n",
    "    #build scatter plot for critic and user score\n",
    "    df4.sort_values('total_sales').plot(x='total_sales', y='critic_score',kind='scatter', marker='o',color=\"pink\", alpha=0.4) \n",
    "    plt.title(\"Critic Score vs Total Revenue\", fontdict={'size':15})\n",
    "    df4.sort_values('total_sales').plot(x='total_sales', y='user_score',kind='scatter', marker='o',color=\"purple\", alpha=0.4) \n",
    "    plt.title(\"User Score vs Total Revenue\", fontdict={'size':15})\n",
    "    plt.show()  \n",
    "    # if correlation value is above 0.5, there is correlation.\n",
    "    if abs((df_corr.iloc[0]['total_sales']) >= 0.5): \n",
    "        print(\"There is a strong correlation between user_score and total_sales in platform\", plat)\n",
    "        if df_corr.iloc[0]['total_sales'] > 0:\n",
    "            print(\"It's a positive correlation\")\n",
    "        else: \n",
    "            print(\"It's a negative correlation\")      \n",
    "    elif abs((df_corr.iloc[1]['total_sales']) >= 0.5): \n",
    "        print(\"There is a strong correlation between critic_score and total_sales in platform\", plat)\n",
    "        if df_corr.iloc[2]['total_sales'] > 0:\n",
    "            print(\"It's a positive correlation\")\n",
    "        else:\n",
    "            print(\"It's a negative correlation\")  \n",
    "    else:\n",
    "        print(\"There is no correlation in platform\", plat)"
   ]
  },
  {
   "cell_type": "markdown",
   "metadata": {},
   "source": [
    "<div class=\"alert alert-success\" style=\"box-shadow: 4px 4px 4px\">\n",
    "Success: This function is a masterpiece!\n",
    "</div>"
   ]
  },
  {
   "cell_type": "code",
   "execution_count": 59,
   "metadata": {
    "scrolled": true
   },
   "outputs": [
    {
     "name": "stdout",
     "output_type": "stream",
     "text": [
      "Correlation calculations for X360  platform\n"
     ]
    },
    {
     "data": {
      "text/html": [
       "<style type=\"text/css\">\n",
       "#T_88970_row0_col0, #T_88970_row1_col1, #T_88970_row2_col2 {\n",
       "  background-color: #008000;\n",
       "  color: #f1f1f1;\n",
       "}\n",
       "#T_88970_row0_col1, #T_88970_row0_col2, #T_88970_row2_col0 {\n",
       "  background-color: #e5ffe5;\n",
       "  color: #000000;\n",
       "}\n",
       "#T_88970_row1_col0 {\n",
       "  background-color: #82c882;\n",
       "  color: #000000;\n",
       "}\n",
       "#T_88970_row1_col2 {\n",
       "  background-color: #6ebd6e;\n",
       "  color: #f1f1f1;\n",
       "}\n",
       "#T_88970_row2_col1 {\n",
       "  background-color: #c2ebc2;\n",
       "  color: #000000;\n",
       "}\n",
       "</style>\n",
       "<table id=\"T_88970_\">\n",
       "  <thead>\n",
       "    <tr>\n",
       "      <th class=\"blank level0\" >&nbsp;</th>\n",
       "      <th class=\"col_heading level0 col0\" >user_score</th>\n",
       "      <th class=\"col_heading level0 col1\" >critic_score</th>\n",
       "      <th class=\"col_heading level0 col2\" >total_sales</th>\n",
       "    </tr>\n",
       "  </thead>\n",
       "  <tbody>\n",
       "    <tr>\n",
       "      <th id=\"T_88970_level0_row0\" class=\"row_heading level0 row0\" >user_score</th>\n",
       "      <td id=\"T_88970_row0_col0\" class=\"data row0 col0\" >1.000000</td>\n",
       "      <td id=\"T_88970_row0_col1\" class=\"data row0 col1\" >0.596228</td>\n",
       "      <td id=\"T_88970_row0_col2\" class=\"data row0 col2\" >0.291071</td>\n",
       "    </tr>\n",
       "    <tr>\n",
       "      <th id=\"T_88970_level0_row1\" class=\"row_heading level0 row1\" >critic_score</th>\n",
       "      <td id=\"T_88970_row1_col0\" class=\"data row1 col0\" >0.596228</td>\n",
       "      <td id=\"T_88970_row1_col1\" class=\"data row1 col1\" >1.000000</td>\n",
       "      <td id=\"T_88970_row1_col2\" class=\"data row1 col2\" >0.660874</td>\n",
       "    </tr>\n",
       "    <tr>\n",
       "      <th id=\"T_88970_level0_row2\" class=\"row_heading level0 row2\" >total_sales</th>\n",
       "      <td id=\"T_88970_row2_col0\" class=\"data row2 col0\" >0.291071</td>\n",
       "      <td id=\"T_88970_row2_col1\" class=\"data row2 col1\" >0.660874</td>\n",
       "      <td id=\"T_88970_row2_col2\" class=\"data row2 col2\" >1.000000</td>\n",
       "    </tr>\n",
       "  </tbody>\n",
       "</table>\n"
      ],
      "text/plain": [
       "<pandas.io.formats.style.Styler at 0x7f50f12c6450>"
      ]
     },
     "metadata": {},
     "output_type": "display_data"
    },
    {
     "data": {
      "image/png": "[encoded data removed]",
      "text/plain": [
       "<Figure size 432x288 with 1 Axes>"
      ]
     },
     "metadata": {
      "needs_background": "light"
     },
     "output_type": "display_data"
    },
    {
     "data": {
      "image/png": "[encoded data removed]",
      "text/plain": [
       "<Figure size 432x288 with 1 Axes>"
      ]
     },
     "metadata": {
      "needs_background": "light"
     },
     "output_type": "display_data"
    },
    {
     "name": "stdout",
     "output_type": "stream",
     "text": [
      "There is a strong correlation between critic_score and total_sales in platform X360\n",
      "It's a positive correlation\n"
     ]
    }
   ],
   "source": [
    "score_effect(\"X360\")"
   ]
  },
  {
   "cell_type": "markdown",
   "metadata": {},
   "source": [
    "## Keeping our conclusions in mind, let's compare other platforms."
   ]
  },
  {
   "cell_type": "markdown",
   "metadata": {},
   "source": [
    "Keeping your conclusions in mind, compare the sales of the same games on other platforms.\n",
    " Let's take the most relevants platforms we have, the ones that can helps us to build a prognosis for 2017:  X360,PS4 and PS3. <br>\n",
    " We already did the calculations for the X360 platform."
   ]
  },
  {
   "cell_type": "code",
   "execution_count": 60,
   "metadata": {},
   "outputs": [
    {
     "name": "stdout",
     "output_type": "stream",
     "text": [
      "Correlation calculations for PS3  platform\n"
     ]
    },
    {
     "data": {
      "text/html": [
       "<style type=\"text/css\">\n",
       "#T_6d4dd_row0_col0, #T_6d4dd_row1_col1, #T_6d4dd_row2_col2 {\n",
       "  background-color: #008000;\n",
       "  color: #f1f1f1;\n",
       "}\n",
       "#T_6d4dd_row0_col1, #T_6d4dd_row0_col2, #T_6d4dd_row2_col0 {\n",
       "  background-color: #e5ffe5;\n",
       "  color: #000000;\n",
       "}\n",
       "#T_6d4dd_row1_col0 {\n",
       "  background-color: #89cc89;\n",
       "  color: #000000;\n",
       "}\n",
       "#T_6d4dd_row1_col2 {\n",
       "  background-color: #75c175;\n",
       "  color: #000000;\n",
       "}\n",
       "#T_6d4dd_row2_col1 {\n",
       "  background-color: #c3ecc3;\n",
       "  color: #000000;\n",
       "}\n",
       "</style>\n",
       "<table id=\"T_6d4dd_\">\n",
       "  <thead>\n",
       "    <tr>\n",
       "      <th class=\"blank level0\" >&nbsp;</th>\n",
       "      <th class=\"col_heading level0 col0\" >user_score</th>\n",
       "      <th class=\"col_heading level0 col1\" >critic_score</th>\n",
       "      <th class=\"col_heading level0 col2\" >total_sales</th>\n",
       "    </tr>\n",
       "  </thead>\n",
       "  <tbody>\n",
       "    <tr>\n",
       "      <th id=\"T_6d4dd_level0_row0\" class=\"row_heading level0 row0\" >user_score</th>\n",
       "      <td id=\"T_6d4dd_row0_col0\" class=\"data row0 col0\" >1.000000</td>\n",
       "      <td id=\"T_6d4dd_row0_col1\" class=\"data row0 col1\" >0.591288</td>\n",
       "      <td id=\"T_6d4dd_row0_col2\" class=\"data row0 col2\" >0.315990</td>\n",
       "    </tr>\n",
       "    <tr>\n",
       "      <th id=\"T_6d4dd_level0_row1\" class=\"row_heading level0 row1\" >critic_score</th>\n",
       "      <td id=\"T_6d4dd_row1_col0\" class=\"data row1 col0\" >0.591288</td>\n",
       "      <td id=\"T_6d4dd_row1_col1\" class=\"data row1 col1\" >1.000000</td>\n",
       "      <td id=\"T_6d4dd_row1_col2\" class=\"data row1 col2\" >0.652035</td>\n",
       "    </tr>\n",
       "    <tr>\n",
       "      <th id=\"T_6d4dd_level0_row2\" class=\"row_heading level0 row2\" >total_sales</th>\n",
       "      <td id=\"T_6d4dd_row2_col0\" class=\"data row2 col0\" >0.315990</td>\n",
       "      <td id=\"T_6d4dd_row2_col1\" class=\"data row2 col1\" >0.652035</td>\n",
       "      <td id=\"T_6d4dd_row2_col2\" class=\"data row2 col2\" >1.000000</td>\n",
       "    </tr>\n",
       "  </tbody>\n",
       "</table>\n"
      ],
      "text/plain": [
       "<pandas.io.formats.style.Styler at 0x7f50f14c9750>"
      ]
     },
     "metadata": {},
     "output_type": "display_data"
    },
    {
     "data": {
      "image/png": "[encoded data removed]",
      "text/plain": [
       "<Figure size 432x288 with 1 Axes>"
      ]
     },
     "metadata": {
      "needs_background": "light"
     },
     "output_type": "display_data"
    },
    {
     "data": {
      "image/png": "[encoded data removed]",
      "text/plain": [
       "<Figure size 432x288 with 1 Axes>"
      ]
     },
     "metadata": {
      "needs_background": "light"
     },
     "output_type": "display_data"
    },
    {
     "name": "stdout",
     "output_type": "stream",
     "text": [
      "There is a strong correlation between critic_score and total_sales in platform PS3\n",
      "It's a positive correlation\n"
     ]
    }
   ],
   "source": [
    "score_effect(\"PS3\")"
   ]
  },
  {
   "cell_type": "code",
   "execution_count": 61,
   "metadata": {
    "scrolled": true
   },
   "outputs": [
    {
     "name": "stdout",
     "output_type": "stream",
     "text": [
      "Correlation calculations for PS4  platform\n"
     ]
    },
    {
     "data": {
      "text/html": [
       "<style type=\"text/css\">\n",
       "#T_8d773_row0_col0, #T_8d773_row1_col1, #T_8d773_row2_col2 {\n",
       "  background-color: #008000;\n",
       "  color: #f1f1f1;\n",
       "}\n",
       "#T_8d773_row0_col1, #T_8d773_row0_col2, #T_8d773_row2_col0 {\n",
       "  background-color: #e5ffe5;\n",
       "  color: #000000;\n",
       "}\n",
       "#T_8d773_row1_col0 {\n",
       "  background-color: #7fc67f;\n",
       "  color: #000000;\n",
       "}\n",
       "#T_8d773_row1_col2 {\n",
       "  background-color: #6ebd6e;\n",
       "  color: #f1f1f1;\n",
       "}\n",
       "#T_8d773_row2_col1 {\n",
       "  background-color: #c8efc8;\n",
       "  color: #000000;\n",
       "}\n",
       "</style>\n",
       "<table id=\"T_8d773_\">\n",
       "  <thead>\n",
       "    <tr>\n",
       "      <th class=\"blank level0\" >&nbsp;</th>\n",
       "      <th class=\"col_heading level0 col0\" >user_score</th>\n",
       "      <th class=\"col_heading level0 col1\" >critic_score</th>\n",
       "      <th class=\"col_heading level0 col2\" >total_sales</th>\n",
       "    </tr>\n",
       "  </thead>\n",
       "  <tbody>\n",
       "    <tr>\n",
       "      <th id=\"T_8d773_level0_row0\" class=\"row_heading level0 row0\" >user_score</th>\n",
       "      <td id=\"T_8d773_row0_col0\" class=\"data row0 col0\" >1.000000</td>\n",
       "      <td id=\"T_8d773_row0_col1\" class=\"data row0 col1\" >0.433309</td>\n",
       "      <td id=\"T_8d773_row0_col2\" class=\"data row0 col2\" >-0.028340</td>\n",
       "    </tr>\n",
       "    <tr>\n",
       "      <th id=\"T_8d773_level0_row1\" class=\"row_heading level0 row1\" >critic_score</th>\n",
       "      <td id=\"T_8d773_row1_col0\" class=\"data row1 col0\" >0.433309</td>\n",
       "      <td id=\"T_8d773_row1_col1\" class=\"data row1 col1\" >1.000000</td>\n",
       "      <td id=\"T_8d773_row1_col2\" class=\"data row1 col2\" >0.508238</td>\n",
       "    </tr>\n",
       "    <tr>\n",
       "      <th id=\"T_8d773_level0_row2\" class=\"row_heading level0 row2\" >total_sales</th>\n",
       "      <td id=\"T_8d773_row2_col0\" class=\"data row2 col0\" >-0.028340</td>\n",
       "      <td id=\"T_8d773_row2_col1\" class=\"data row2 col1\" >0.508238</td>\n",
       "      <td id=\"T_8d773_row2_col2\" class=\"data row2 col2\" >1.000000</td>\n",
       "    </tr>\n",
       "  </tbody>\n",
       "</table>\n"
      ],
      "text/plain": [
       "<pandas.io.formats.style.Styler at 0x7f50f174df50>"
      ]
     },
     "metadata": {},
     "output_type": "display_data"
    },
    {
     "data": {
      "image/png": "[encoded data removed]",
      "text/plain": [
       "<Figure size 432x288 with 1 Axes>"
      ]
     },
     "metadata": {
      "needs_background": "light"
     },
     "output_type": "display_data"
    },
    {
     "data": {
      "image/png": "[encoded data removed]",
      "text/plain": [
       "<Figure size 432x288 with 1 Axes>"
      ]
     },
     "metadata": {
      "needs_background": "light"
     },
     "output_type": "display_data"
    },
    {
     "name": "stdout",
     "output_type": "stream",
     "text": [
      "There is a strong correlation between critic_score and total_sales in platform PS4\n",
      "It's a positive correlation\n"
     ]
    }
   ],
   "source": [
    "score_effect(\"PS4\")"
   ]
  },
  {
   "cell_type": "markdown",
   "metadata": {},
   "source": [
    "***What do we see in these graphs and calculations?***<br>\n",
    "We can appreciate that also for the platforms PS4 and PS3 there is strong positive correlation between critic_score and total_sales. But not correlation exist between user_score and total_sales for any of the platforms.<br>\n",
    "\n",
    "**Why?**<br>\n",
    "This can be explained by the fact that the critic_score is made by a game critic, a person who reviews video games professionally (and generaly publish the reviews before the platform enter to the market). It's logical that potencial clients take a look at the critic score of the platforms before buying one.<br>\n",
    "The user_score are users reviews about the games, less reliable than a game critic review."
   ]
  },
  {
   "cell_type": "markdown",
   "metadata": {},
   "source": [
    "<div class=\"alert alert-success\" style=\"box-shadow: 4px 4px 4px\">\n",
    "Success: It seems right!\n",
    "</div>"
   ]
  },
  {
   "cell_type": "markdown",
   "metadata": {},
   "source": [
    "## Taking a look at the general distribution of games by genre. "
   ]
  },
  {
   "cell_type": "code",
   "execution_count": 62,
   "metadata": {},
   "outputs": [
    {
     "data": {
      "image/png": "[encoded data removed]",
      "text/plain": [
       "<Figure size 720x288 with 1 Axes>"
      ]
     },
     "metadata": {
      "needs_background": "light"
     },
     "output_type": "display_data"
    }
   ],
   "source": [
    "#Creating a pivot table by genre and total_sales values\n",
    "genre_pivot = pd.pivot_table(data_filter, values='total_sales', index='genre', aggfunc='sum').sort_values(by='total_sales').reset_index()\n",
    "\n",
    "#Plotting a graph\n",
    "fig, ax = plt.subplots(figsize=(10,4))\n",
    "x = sns.barplot(x = genre_pivot.genre, y = genre_pivot.total_sales)\n",
    "x.set_title('General distribution of games by genre', fontdict={'size':15})\n",
    "ax.set_xticklabels(genre_pivot.genre, rotation=(45))\n",
    "plt.show()"
   ]
  },
  {
   "cell_type": "markdown",
   "metadata": {},
   "source": [
    "* The most profitable genres are: action, sports, shooter.\n",
    "\n",
    "* The least profitable genres are: strategy, puzzle, adventure."
   ]
  },
  {
   "cell_type": "markdown",
   "metadata": {},
   "source": [
    "## Overall conclusion after analyzing the data:\n",
    "\n",
    "* The data isn't significant for every period. Fo that reason we are using the data from the year 2002 until 2016.\n",
    "* The sales varied from platform to platform. Average lifetime of a platform is 10 years.\n",
    "* Some platforms were very profitable and some are not.\n",
    "* There are significant differences in sales across platforms.\n",
    "* Professional reviews affect sales across platforms.\n",
    "* Some genres are very profitable and some less.\n",
    "* The platforms we are taking into consideration for future analysis about building a prognosis for 2017 are: ,X360,PS4 and PS3. We also can take into consideration the Wii platform and the PSP platform if needed."
   ]
  },
  {
   "cell_type": "markdown",
   "metadata": {},
   "source": [
    "<div class=\"alert alert-success\" style=\"box-shadow: 4px 4px 4px\">\n",
    "Success: Great conclusion!\n",
    "</div>"
   ]
  },
  {
   "cell_type": "markdown",
   "metadata": {},
   "source": [
    "# Creating a user profile for each region\n",
    "**For each region (NA, EU, JP) we will determine:**\n",
    "1. The top five platforms.\n",
    "2. The top five genres. \n",
    "3. Answering the question : Do ESRB ratings affect sales in individual regions?"
   ]
  },
  {
   "cell_type": "markdown",
   "metadata": {},
   "source": [
    "## Top five platforms and in their market shares from region to region"
   ]
  },
  {
   "cell_type": "markdown",
   "metadata": {},
   "source": [
    "We decided that the platforms we are taking into consideration for future analysis about building a prognosis for 2017 are: X360,PS4 and PS3. For our five top platforms we will use also the Wii and the PSP , and not the PS2 because we already know that this platform disappeared from the market a few years a go (also the DS platform) "
   ]
  },
  {
   "cell_type": "code",
   "execution_count": 63,
   "metadata": {},
   "outputs": [],
   "source": [
    "#Making a list with the names of the top five platforms - in sales terms\n",
    "list_top_platforms_by_sales = [\"Wii\",\"PS3\",\"X360\",\"PSP\",\"PS4\"]\n",
    "#Making a sclice using the query() method \n",
    "data_top_platforms_by_sales = data_filter.query('platform in  @list_top_platforms_by_sales').reset_index()\n",
    "#drop the column index\n",
    "data_top_platforms_by_sales = data_top_platforms_by_sales.drop(['index'],axis=1) "
   ]
  },
  {
   "cell_type": "code",
   "execution_count": 64,
   "metadata": {},
   "outputs": [
    {
     "data": {
      "text/html": [
       "<div>\n",
       "<style scoped>\n",
       "    .dataframe tbody tr th:only-of-type {\n",
       "        vertical-align: middle;\n",
       "    }\n",
       "\n",
       "    .dataframe tbody tr th {\n",
       "        vertical-align: top;\n",
       "    }\n",
       "\n",
       "    .dataframe thead th {\n",
       "        text-align: right;\n",
       "    }\n",
       "</style>\n",
       "<table border=\"1\" class=\"dataframe\">\n",
       "  <thead>\n",
       "    <tr style=\"text-align: right;\">\n",
       "      <th></th>\n",
       "      <th>platform</th>\n",
       "      <th>eu_sales</th>\n",
       "      <th>jp_sales</th>\n",
       "      <th>na_sales</th>\n",
       "    </tr>\n",
       "  </thead>\n",
       "  <tbody>\n",
       "    <tr>\n",
       "      <th>0</th>\n",
       "      <td>PS3</td>\n",
       "      <td>327.21</td>\n",
       "      <td>79.41</td>\n",
       "      <td>390.13</td>\n",
       "    </tr>\n",
       "    <tr>\n",
       "      <th>1</th>\n",
       "      <td>PS4</td>\n",
       "      <td>141.09</td>\n",
       "      <td>15.96</td>\n",
       "      <td>108.74</td>\n",
       "    </tr>\n",
       "    <tr>\n",
       "      <th>2</th>\n",
       "      <td>PSP</td>\n",
       "      <td>65.62</td>\n",
       "      <td>75.88</td>\n",
       "      <td>107.27</td>\n",
       "    </tr>\n",
       "    <tr>\n",
       "      <th>3</th>\n",
       "      <td>Wii</td>\n",
       "      <td>258.32</td>\n",
       "      <td>68.28</td>\n",
       "      <td>486.87</td>\n",
       "    </tr>\n",
       "    <tr>\n",
       "      <th>4</th>\n",
       "      <td>X360</td>\n",
       "      <td>268.32</td>\n",
       "      <td>12.30</td>\n",
       "      <td>595.74</td>\n",
       "    </tr>\n",
       "  </tbody>\n",
       "</table>\n",
       "</div>"
      ],
      "text/plain": [
       "  platform  eu_sales  jp_sales  na_sales\n",
       "0      PS3    327.21     79.41    390.13\n",
       "1      PS4    141.09     15.96    108.74\n",
       "2      PSP     65.62     75.88    107.27\n",
       "3      Wii    258.32     68.28    486.87\n",
       "4     X360    268.32     12.30    595.74"
      ]
     },
     "execution_count": 64,
     "metadata": {},
     "output_type": "execute_result"
    }
   ],
   "source": [
    "#creat a pivot table grouped by platform calculating the sum of the values for 'na_sales', 'eu_sales', 'jp_sales'\n",
    "platforms_regions = data_top_platforms_by_sales.pivot_table(index = ['platform'],  values=['na_sales', 'eu_sales', 'jp_sales'], aggfunc='sum')\n",
    "#using resent_index()\n",
    "platforms_regions.reset_index(inplace=True)\n",
    "#Let's take a look                                       \n",
    "platforms_regions "
   ]
  },
  {
   "cell_type": "code",
   "execution_count": 65,
   "metadata": {},
   "outputs": [
    {
     "data": {
      "image/png": "[encoded data removed]",
      "text/plain": [
       "<Figure size 720x288 with 1 Axes>"
      ]
     },
     "metadata": {
      "needs_background": "light"
     },
     "output_type": "display_data"
    }
   ],
   "source": [
    "#Plotting a bar graph\n",
    "platforms_regions.plot(kind='bar', x='platform', figsize=(10,4), grid = bool, rot=0, color=['blue','purple','orange'], width=0.9)\n",
    "plt.title(\"Top five platforms and variations in their market shares from region to region\", fontdict={'size':13})\n",
    "plt.ylabel(\"sales\")\n",
    "plt.show() "
   ]
  },
  {
   "cell_type": "markdown",
   "metadata": {},
   "source": [
    "***What do we see in the graph?***<br>\n",
    "* We can see that North America has the largest market share across platforms,followed by Europe and Japan, respectively. "
   ]
  },
  {
   "cell_type": "markdown",
   "metadata": {},
   "source": [
    "<div class=\"alert alert-success\" style=\"box-shadow: 4px 4px 4px\">\n",
    "Success: Absolutely correct!\n",
    "</div>"
   ]
  },
  {
   "cell_type": "markdown",
   "metadata": {},
   "source": [
    "## Top five genres in terms of sales -  by market shares regions"
   ]
  },
  {
   "cell_type": "code",
   "execution_count": 66,
   "metadata": {},
   "outputs": [],
   "source": [
    "#Making a list with the names of the top fives genres\n",
    "top_five_genres_names = genre_pivot.nlargest(5, ['total_sales']).genre.tolist()\n",
    "#Making a sclice using the query() method \n",
    "top_five_genres_data = data_filter.query('genre in  @top_five_genres_names').reset_index()\n",
    "#drop the column index\n",
    "top_five_genres_data = top_five_genres_data.drop(['index'],axis=1) "
   ]
  },
  {
   "cell_type": "code",
   "execution_count": 67,
   "metadata": {},
   "outputs": [
    {
     "data": {
      "text/html": [
       "<div>\n",
       "<style scoped>\n",
       "    .dataframe tbody tr th:only-of-type {\n",
       "        vertical-align: middle;\n",
       "    }\n",
       "\n",
       "    .dataframe tbody tr th {\n",
       "        vertical-align: top;\n",
       "    }\n",
       "\n",
       "    .dataframe thead th {\n",
       "        text-align: right;\n",
       "    }\n",
       "</style>\n",
       "<table border=\"1\" class=\"dataframe\">\n",
       "  <thead>\n",
       "    <tr style=\"text-align: right;\">\n",
       "      <th></th>\n",
       "      <th>genre</th>\n",
       "      <th>eu_sales</th>\n",
       "      <th>jp_sales</th>\n",
       "      <th>na_sales</th>\n",
       "    </tr>\n",
       "  </thead>\n",
       "  <tbody>\n",
       "    <tr>\n",
       "      <th>0</th>\n",
       "      <td>Action</td>\n",
       "      <td>436.49</td>\n",
       "      <td>122.50</td>\n",
       "      <td>704.67</td>\n",
       "    </tr>\n",
       "    <tr>\n",
       "      <th>1</th>\n",
       "      <td>Misc</td>\n",
       "      <td>187.55</td>\n",
       "      <td>81.40</td>\n",
       "      <td>348.17</td>\n",
       "    </tr>\n",
       "    <tr>\n",
       "      <th>2</th>\n",
       "      <td>Role-Playing</td>\n",
       "      <td>147.34</td>\n",
       "      <td>216.36</td>\n",
       "      <td>267.64</td>\n",
       "    </tr>\n",
       "    <tr>\n",
       "      <th>3</th>\n",
       "      <td>Shooter</td>\n",
       "      <td>284.35</td>\n",
       "      <td>22.55</td>\n",
       "      <td>476.12</td>\n",
       "    </tr>\n",
       "    <tr>\n",
       "      <th>4</th>\n",
       "      <td>Sports</td>\n",
       "      <td>315.67</td>\n",
       "      <td>65.62</td>\n",
       "      <td>537.84</td>\n",
       "    </tr>\n",
       "  </tbody>\n",
       "</table>\n",
       "</div>"
      ],
      "text/plain": [
       "          genre  eu_sales  jp_sales  na_sales\n",
       "0        Action    436.49    122.50    704.67\n",
       "1          Misc    187.55     81.40    348.17\n",
       "2  Role-Playing    147.34    216.36    267.64\n",
       "3       Shooter    284.35     22.55    476.12\n",
       "4        Sports    315.67     65.62    537.84"
      ]
     },
     "execution_count": 67,
     "metadata": {},
     "output_type": "execute_result"
    }
   ],
   "source": [
    "#creat a pivot table grouped by genre calculating the sum of the values for 'na_sales', 'eu_sales', 'jp_sales'\n",
    "genres_regions = top_five_genres_data.pivot_table(index = ['genre'],  values=['na_sales', 'eu_sales', 'jp_sales'], aggfunc='sum')\n",
    "#using resent_index()\n",
    "genres_regions.reset_index(inplace=True)\n",
    "#Let's take a look                                       \n",
    "genres_regions "
   ]
  },
  {
   "cell_type": "code",
   "execution_count": 68,
   "metadata": {},
   "outputs": [
    {
     "data": {
      "image/png": "[encoded data removed]",
      "text/plain": [
       "<Figure size 720x288 with 1 Axes>"
      ]
     },
     "metadata": {
      "needs_background": "light"
     },
     "output_type": "display_data"
    }
   ],
   "source": [
    "#Plotting a bar graph\n",
    "genres_regions.plot(kind='bar', x='genre', figsize=(10,4), grid = bool, rot=0, color=['blue','purple','orange'], width=0.9)\n",
    "plt.title(\"Top five genres in terms of sales -  by market shares regions\", fontdict={'size':13})\n",
    "plt.ylabel(\"sales\")\n",
    "plt.show() "
   ]
  },
  {
   "cell_type": "markdown",
   "metadata": {},
   "source": [
    "***What do we see in the graph?***<br>\n",
    "* The action genre is really popular in United States.\n",
    "* Role-Playing genre is significative popular in Japan, and shooter genre less.\n",
    "* The United States customers and the EU customers behaviours in games genres  terms are really similar."
   ]
  },
  {
   "cell_type": "markdown",
   "metadata": {},
   "source": [
    "<div class=\"alert alert-success\" style=\"box-shadow: 4px 4px 4px\">\n",
    "Success: Correct!\n",
    "</div>"
   ]
  },
  {
   "cell_type": "markdown",
   "metadata": {},
   "source": [
    "## Do ESRB ratings affect sales in individual regions?"
   ]
  },
  {
   "cell_type": "code",
   "execution_count": 69,
   "metadata": {},
   "outputs": [
    {
     "data": {
      "text/html": [
       "<div>\n",
       "<style scoped>\n",
       "    .dataframe tbody tr th:only-of-type {\n",
       "        vertical-align: middle;\n",
       "    }\n",
       "\n",
       "    .dataframe tbody tr th {\n",
       "        vertical-align: top;\n",
       "    }\n",
       "\n",
       "    .dataframe thead th {\n",
       "        text-align: right;\n",
       "    }\n",
       "</style>\n",
       "<table border=\"1\" class=\"dataframe\">\n",
       "  <thead>\n",
       "    <tr style=\"text-align: right;\">\n",
       "      <th></th>\n",
       "      <th>rating</th>\n",
       "      <th>eu_sales</th>\n",
       "      <th>jp_sales</th>\n",
       "      <th>na_sales</th>\n",
       "    </tr>\n",
       "  </thead>\n",
       "  <tbody>\n",
       "    <tr>\n",
       "      <th>0</th>\n",
       "      <td>-1</td>\n",
       "      <td>309.06</td>\n",
       "      <td>349.88</td>\n",
       "      <td>424.46</td>\n",
       "    </tr>\n",
       "    <tr>\n",
       "      <th>1</th>\n",
       "      <td>AO</td>\n",
       "      <td>0.61</td>\n",
       "      <td>0.00</td>\n",
       "      <td>1.26</td>\n",
       "    </tr>\n",
       "    <tr>\n",
       "      <th>2</th>\n",
       "      <td>E</td>\n",
       "      <td>630.17</td>\n",
       "      <td>175.38</td>\n",
       "      <td>1139.37</td>\n",
       "    </tr>\n",
       "    <tr>\n",
       "      <th>3</th>\n",
       "      <td>E10+</td>\n",
       "      <td>183.33</td>\n",
       "      <td>40.20</td>\n",
       "      <td>345.50</td>\n",
       "    </tr>\n",
       "    <tr>\n",
       "      <th>4</th>\n",
       "      <td>EC</td>\n",
       "      <td>0.11</td>\n",
       "      <td>0.00</td>\n",
       "      <td>1.53</td>\n",
       "    </tr>\n",
       "    <tr>\n",
       "      <th>5</th>\n",
       "      <td>M</td>\n",
       "      <td>456.15</td>\n",
       "      <td>53.44</td>\n",
       "      <td>698.99</td>\n",
       "    </tr>\n",
       "    <tr>\n",
       "      <th>6</th>\n",
       "      <td>RP</td>\n",
       "      <td>0.03</td>\n",
       "      <td>0.00</td>\n",
       "      <td>0.00</td>\n",
       "    </tr>\n",
       "    <tr>\n",
       "      <th>7</th>\n",
       "      <td>T</td>\n",
       "      <td>358.49</td>\n",
       "      <td>114.29</td>\n",
       "      <td>650.02</td>\n",
       "    </tr>\n",
       "  </tbody>\n",
       "</table>\n",
       "</div>"
      ],
      "text/plain": [
       "  rating  eu_sales  jp_sales  na_sales\n",
       "0     -1    309.06    349.88    424.46\n",
       "1     AO      0.61      0.00      1.26\n",
       "2      E    630.17    175.38   1139.37\n",
       "3   E10+    183.33     40.20    345.50\n",
       "4     EC      0.11      0.00      1.53\n",
       "5      M    456.15     53.44    698.99\n",
       "6     RP      0.03      0.00      0.00\n",
       "7      T    358.49    114.29    650.02"
      ]
     },
     "execution_count": 69,
     "metadata": {},
     "output_type": "execute_result"
    }
   ],
   "source": [
    "#creat a pivot table grouped by rating calculating the sum of the values for 'na_sales', 'eu_sales', 'jp_sales'\n",
    "genres_rating = data_filter.pivot_table(index = ['rating'],  values=['na_sales', 'eu_sales', 'jp_sales'], aggfunc='sum')\n",
    "#using resent_index()\n",
    "genres_rating.reset_index(inplace=True)\n",
    "#Let's take a look                                       \n",
    "genres_rating "
   ]
  },
  {
   "cell_type": "markdown",
   "metadata": {},
   "source": [
    "We need to drop the row for rating = -1.  It's the value we use to deal with missing values in the rating column."
   ]
  },
  {
   "cell_type": "code",
   "execution_count": 70,
   "metadata": {},
   "outputs": [],
   "source": [
    "#Using drop() method and the index of the rows\n",
    "genres_rating  = genres_rating .drop([0])  "
   ]
  },
  {
   "cell_type": "code",
   "execution_count": 71,
   "metadata": {},
   "outputs": [
    {
     "data": {
      "image/png": "[encoded data removed]",
      "text/plain": [
       "<Figure size 720x288 with 1 Axes>"
      ]
     },
     "metadata": {
      "needs_background": "light"
     },
     "output_type": "display_data"
    }
   ],
   "source": [
    "#Plotting a bar graph\n",
    "genres_rating.plot(kind='bar', x='rating', figsize=(10,4), grid = bool, rot=0, color=['blue','purple','orange'], width=0.9)\n",
    "plt.title(\"Ratings in terms of sales -  by market shares regions\", fontdict={'size':13})\n",
    "plt.ylabel(\"sales\")\n",
    "plt.show() "
   ]
  },
  {
   "cell_type": "markdown",
   "metadata": {},
   "source": [
    "***What do we see in the graph?***<br>\n",
    "* Japan has 0 market share in EC (Early Childhood),RP (Rating Pending) and AO ratings.\n",
    "* North America has the largest market share in E (Childhood) and 0 market share in RP (Rating Pending) ratings.\n",
    "* Europe has the largest market share in E (Childhood) and a low market share in RP (0.03)."
   ]
  },
  {
   "cell_type": "markdown",
   "metadata": {},
   "source": [
    "## Overall conclusion after creating a user profile for each region:\n",
    "###### which platforms games should the company sell in 2017?\n",
    "Selling the X360 platforms games to the USA and EU customers will be a good inversion. For the japaneses customers we can recommend PS3 and PSP.\n",
    "\n",
    "###### which genres games should the company sell in 2017?\n",
    "Action games! Everybody likes action games. Selling Role-Playing games to Japan it's our second recommendation.\n",
    "\n",
    "###### which rating games should the company sell in 2017?\n",
    "E rating it's our winner! And the company should consider selling games with this rating across all the regions."
   ]
  },
  {
   "cell_type": "markdown",
   "metadata": {},
   "source": [
    "<div class=\"alert alert-success\" style=\"box-shadow: 4px 4px 4px\">\n",
    "Success: Perfect!\n",
    "</div>"
   ]
  },
  {
   "cell_type": "markdown",
   "metadata": {},
   "source": [
    "# For the end! Let's test the following hypotheses:"
   ]
  },
  {
   "cell_type": "markdown",
   "metadata": {},
   "source": [
    "## First Hypothesis\n",
    "* H0: Average user ratings of the Xbox One and PC platforms are the same.\n",
    "* H1:Average user ratings of the Xbox One and PC platforms are not the same"
   ]
  },
  {
   "cell_type": "code",
   "execution_count": 72,
   "metadata": {},
   "outputs": [
    {
     "name": "stdout",
     "output_type": "stream",
     "text": [
      "p-value:  0.00010751995267217297\n",
      "We reject the null hypothesis\n"
     ]
    }
   ],
   "source": [
    "alpha = 0.05 \n",
    "sample_1 = data_filter.query('(platform == \"XOne\") and (user_score > -1)').user_score\n",
    "sample_2 = data_filter.query('(platform == \"PC\") and (user_score > -1)').user_score\n",
    "\n",
    "results = st.ttest_ind(sample_1, sample_2)\n",
    "\n",
    "print('p-value: ', results.pvalue)\n",
    "\n",
    "if results.pvalue < alpha:\n",
    "    print(\"We reject the null hypothesis\")\n",
    "else:\n",
    "    print(\"We can't reject the null hypothesis\") "
   ]
  },
  {
   "cell_type": "markdown",
   "metadata": {},
   "source": [
    "As we can see above, we reject the null hypothesis and thus we accept the alternative one: Average user ratings of the Xbox One and PC platforms are not the same."
   ]
  },
  {
   "cell_type": "markdown",
   "metadata": {},
   "source": [
    "## Second Hypothesis\n",
    "* H0: Average user ratings for the Action and Sports genres are the same.\n",
    "* H1: Average user ratings for the Action and Sports genres are different."
   ]
  },
  {
   "cell_type": "code",
   "execution_count": 73,
   "metadata": {},
   "outputs": [
    {
     "name": "stdout",
     "output_type": "stream",
     "text": [
      "p-value:  0.021856947776548855\n",
      "We reject the null hypothesis\n"
     ]
    }
   ],
   "source": [
    "sample_1 = data_filter.query('(genre == \"Action\") and (user_score > -1)').user_score\n",
    "sample_2 = data_filter.query('(genre == \"Sports\") and (user_score > -1)').user_score\n",
    "\n",
    "results = st.ttest_ind(sample_1, sample_2)\n",
    "\n",
    "print('p-value: ', results.pvalue)\n",
    "\n",
    "if results.pvalue < alpha:\n",
    "    print(\"We reject the null hypothesis\")\n",
    "else:\n",
    "    print(\"We can't reject the null hypothesis\") "
   ]
  },
  {
   "cell_type": "markdown",
   "metadata": {},
   "source": [
    "As we can see above, we can't reject the null hypothesis: Average user ratings for the Action and Sports genres are the same."
   ]
  },
  {
   "cell_type": "markdown",
   "metadata": {},
   "source": [
    "<div class=\"alert alert-success\" style=\"box-shadow: 4px 4px 4px\">\n",
    "Success: This part is flawless!\n",
    "</div>"
   ]
  },
  {
   "cell_type": "markdown",
   "metadata": {},
   "source": [
    "# General conclusion"
   ]
  },
  {
   "cell_type": "markdown",
   "metadata": {},
   "source": [
    "**Let's start from the Beginning**!\n",
    "When the costumers want a new game they buy games for the platform they already have. No gamer will buy a game when he can't play with him for not having the proper platform. Taking this in consideration we recomend to the company to take decisions looking at the popular platforms that we have in the markets, the ones that still report sells (because we already now that there is a general decrease in all sales across all the platforms).\n",
    "\n",
    "**The platforms the company should take into consideration for 2017 prognosis are:** X360,PS4 and PS3.\n",
    "\n",
    "**We also can take into consideration the Wii platform and the PSP platform if needed**\n",
    "* We just want to make the company know that the Wii platform sales decrease through the last years. Wii is a old platfomr, so maybe is just the end of the Wii era. Not so sure that investing in this company is a good idea.\n",
    "* The PSP platform sales are not amazing, but are good, and if the company decides to work with this platform we healy recommend to sell its games in the japanese market (were they are really popular).\n",
    "\n",
    "**After taking the consideration the platforms behaviors in the market**  \n",
    "And choosing the ones the company want to work with, we recommend choose games for each platform using the results and conclusions we got by creating a user profile for each region (It's possible to see the conclusions below the heading : Overall conclusion after creating a user profile for each region). "
   ]
  },
  {
   "cell_type": "markdown",
   "metadata": {},
   "source": [
    "<div class=\"alert alert-success\" style=\"box-shadow: 4px 4px 4px\">\n",
    "Success: Great conclusion!\n",
    "</div>"
   ]
  },
  {
   "cell_type": "code",
   "execution_count": null,
   "metadata": {},
   "outputs": [],
   "source": []
  }
 ],
 "metadata": {
  "ExecuteTimeLog": [
   {
    "duration": 7289,
    "start_time": "2021-07-16T07:38:07.610Z"
   },
   {
    "duration": 2484,
    "start_time": "2021-07-16T07:38:14.900Z"
   },
   {
    "duration": 1130,
    "start_time": "2021-07-16T07:38:17.387Z"
   },
   {
    "duration": 92,
    "start_time": "2021-07-16T07:38:18.519Z"
   },
   {
    "duration": 256,
    "start_time": "2021-07-16T07:38:18.612Z"
   },
   {
    "duration": -105,
    "start_time": "2021-07-16T07:38:18.978Z"
   },
   {
    "duration": -107,
    "start_time": "2021-07-16T07:38:18.981Z"
   },
   {
    "duration": -109,
    "start_time": "2021-07-16T07:38:18.984Z"
   },
   {
    "duration": -109,
    "start_time": "2021-07-16T07:38:18.986Z"
   },
   {
    "duration": -110,
    "start_time": "2021-07-16T07:38:18.988Z"
   },
   {
    "duration": -111,
    "start_time": "2021-07-16T07:38:18.990Z"
   },
   {
    "duration": -111,
    "start_time": "2021-07-16T07:38:18.992Z"
   },
   {
    "duration": -113,
    "start_time": "2021-07-16T07:38:18.995Z"
   },
   {
    "duration": -113,
    "start_time": "2021-07-16T07:38:18.997Z"
   },
   {
    "duration": -114,
    "start_time": "2021-07-16T07:38:18.999Z"
   },
   {
    "duration": -114,
    "start_time": "2021-07-16T07:38:19.000Z"
   },
   {
    "duration": -114,
    "start_time": "2021-07-16T07:38:19.002Z"
   },
   {
    "duration": -115,
    "start_time": "2021-07-16T07:38:19.004Z"
   },
   {
    "duration": -116,
    "start_time": "2021-07-16T07:38:19.006Z"
   },
   {
    "duration": -116,
    "start_time": "2021-07-16T07:38:19.008Z"
   },
   {
    "duration": -117,
    "start_time": "2021-07-16T07:38:19.010Z"
   },
   {
    "duration": -121,
    "start_time": "2021-07-16T07:38:19.015Z"
   },
   {
    "duration": -121,
    "start_time": "2021-07-16T07:38:19.017Z"
   },
   {
    "duration": -122,
    "start_time": "2021-07-16T07:38:19.019Z"
   },
   {
    "duration": -121,
    "start_time": "2021-07-16T07:38:19.020Z"
   },
   {
    "duration": -122,
    "start_time": "2021-07-16T07:38:19.022Z"
   },
   {
    "duration": -123,
    "start_time": "2021-07-16T07:38:19.024Z"
   },
   {
    "duration": -124,
    "start_time": "2021-07-16T07:38:19.026Z"
   },
   {
    "duration": -125,
    "start_time": "2021-07-16T07:38:19.028Z"
   },
   {
    "duration": -125,
    "start_time": "2021-07-16T07:38:19.029Z"
   },
   {
    "duration": -127,
    "start_time": "2021-07-16T07:38:19.031Z"
   },
   {
    "duration": -128,
    "start_time": "2021-07-16T07:38:19.033Z"
   },
   {
    "duration": -128,
    "start_time": "2021-07-16T07:38:19.034Z"
   },
   {
    "duration": -129,
    "start_time": "2021-07-16T07:38:19.036Z"
   },
   {
    "duration": -129,
    "start_time": "2021-07-16T07:38:19.037Z"
   },
   {
    "duration": -130,
    "start_time": "2021-07-16T07:38:19.039Z"
   },
   {
    "duration": -130,
    "start_time": "2021-07-16T07:38:19.040Z"
   },
   {
    "duration": -135,
    "start_time": "2021-07-16T07:38:19.045Z"
   },
   {
    "duration": -136,
    "start_time": "2021-07-16T07:38:19.047Z"
   },
   {
    "duration": -136,
    "start_time": "2021-07-16T07:38:19.048Z"
   },
   {
    "duration": -137,
    "start_time": "2021-07-16T07:38:19.050Z"
   },
   {
    "duration": -137,
    "start_time": "2021-07-16T07:38:19.051Z"
   },
   {
    "duration": -138,
    "start_time": "2021-07-16T07:38:19.053Z"
   },
   {
    "duration": -138,
    "start_time": "2021-07-16T07:38:19.054Z"
   },
   {
    "duration": -139,
    "start_time": "2021-07-16T07:38:19.056Z"
   },
   {
    "duration": -139,
    "start_time": "2021-07-16T07:38:19.057Z"
   },
   {
    "duration": -143,
    "start_time": "2021-07-16T07:38:19.062Z"
   },
   {
    "duration": -145,
    "start_time": "2021-07-16T07:38:19.064Z"
   },
   {
    "duration": -146,
    "start_time": "2021-07-16T07:38:19.066Z"
   },
   {
    "duration": -146,
    "start_time": "2021-07-16T07:38:19.067Z"
   },
   {
    "duration": -147,
    "start_time": "2021-07-16T07:38:19.069Z"
   },
   {
    "duration": -147,
    "start_time": "2021-07-16T07:38:19.070Z"
   },
   {
    "duration": -148,
    "start_time": "2021-07-16T07:38:19.072Z"
   },
   {
    "duration": -148,
    "start_time": "2021-07-16T07:38:19.073Z"
   },
   {
    "duration": -149,
    "start_time": "2021-07-16T07:38:19.075Z"
   },
   {
    "duration": -149,
    "start_time": "2021-07-16T07:38:19.076Z"
   },
   {
    "duration": -151,
    "start_time": "2021-07-16T07:38:19.078Z"
   },
   {
    "duration": -159,
    "start_time": "2021-07-16T07:38:19.087Z"
   },
   {
    "duration": -107,
    "start_time": "2021-07-16T07:38:19.092Z"
   },
   {
    "duration": -108,
    "start_time": "2021-07-16T07:38:19.094Z"
   },
   {
    "duration": -110,
    "start_time": "2021-07-16T07:38:19.096Z"
   },
   {
    "duration": -110,
    "start_time": "2021-07-16T07:38:19.097Z"
   },
   {
    "duration": -110,
    "start_time": "2021-07-16T07:38:19.098Z"
   },
   {
    "duration": -111,
    "start_time": "2021-07-16T07:38:19.100Z"
   },
   {
    "duration": -111,
    "start_time": "2021-07-16T07:38:19.101Z"
   },
   {
    "duration": -112,
    "start_time": "2021-07-16T07:38:19.103Z"
   },
   {
    "duration": -112,
    "start_time": "2021-07-16T07:38:19.104Z"
   },
   {
    "duration": -129,
    "start_time": "2021-07-16T07:38:19.121Z"
   },
   {
    "duration": -131,
    "start_time": "2021-07-16T07:38:19.124Z"
   },
   {
    "duration": -131,
    "start_time": "2021-07-16T07:38:19.126Z"
   },
   {
    "duration": -131,
    "start_time": "2021-07-16T07:38:19.127Z"
   },
   {
    "duration": -132,
    "start_time": "2021-07-16T07:38:19.129Z"
   },
   {
    "duration": -132,
    "start_time": "2021-07-16T07:38:19.130Z"
   },
   {
    "duration": 1849,
    "start_time": "2021-07-16T07:39:03.867Z"
   },
   {
    "duration": 1844,
    "start_time": "2021-07-16T07:39:05.719Z"
   },
   {
    "duration": 1109,
    "start_time": "2021-07-16T07:39:07.565Z"
   },
   {
    "duration": 99,
    "start_time": "2021-07-16T07:39:08.676Z"
   },
   {
    "duration": 16,
    "start_time": "2021-07-16T07:39:08.777Z"
   },
   {
    "duration": 12,
    "start_time": "2021-07-16T07:39:08.794Z"
   },
   {
    "duration": 13,
    "start_time": "2021-07-16T07:39:08.808Z"
   },
   {
    "duration": 24,
    "start_time": "2021-07-16T07:39:08.824Z"
   },
   {
    "duration": 47,
    "start_time": "2021-07-16T07:39:08.850Z"
   },
   {
    "duration": 329,
    "start_time": "2021-07-16T07:39:08.899Z"
   },
   {
    "duration": 4,
    "start_time": "2021-07-16T07:39:09.230Z"
   },
   {
    "duration": 17,
    "start_time": "2021-07-16T07:39:09.235Z"
   },
   {
    "duration": 7,
    "start_time": "2021-07-16T07:39:09.253Z"
   },
   {
    "duration": 24,
    "start_time": "2021-07-16T07:39:09.262Z"
   },
   {
    "duration": 3,
    "start_time": "2021-07-16T07:39:09.287Z"
   },
   {
    "duration": 9,
    "start_time": "2021-07-16T07:39:09.291Z"
   },
   {
    "duration": 16,
    "start_time": "2021-07-16T07:39:09.302Z"
   },
   {
    "duration": 22,
    "start_time": "2021-07-16T07:39:09.319Z"
   },
   {
    "duration": 44,
    "start_time": "2021-07-16T07:39:09.342Z"
   },
   {
    "duration": 5,
    "start_time": "2021-07-16T07:39:09.387Z"
   },
   {
    "duration": 153,
    "start_time": "2021-07-16T07:39:09.394Z"
   },
   {
    "duration": 35,
    "start_time": "2021-07-16T07:39:09.549Z"
   },
   {
    "duration": 1034,
    "start_time": "2021-07-16T07:39:09.588Z"
   },
   {
    "duration": 8,
    "start_time": "2021-07-16T07:39:10.624Z"
   },
   {
    "duration": 6,
    "start_time": "2021-07-16T07:39:10.633Z"
   },
   {
    "duration": 6,
    "start_time": "2021-07-16T07:39:10.640Z"
   },
   {
    "duration": 4,
    "start_time": "2021-07-16T07:39:10.647Z"
   },
   {
    "duration": 38,
    "start_time": "2021-07-16T07:39:10.652Z"
   },
   {
    "duration": 4,
    "start_time": "2021-07-16T07:39:10.692Z"
   },
   {
    "duration": 14,
    "start_time": "2021-07-16T07:39:10.698Z"
   },
   {
    "duration": 14,
    "start_time": "2021-07-16T07:39:10.713Z"
   },
   {
    "duration": 9,
    "start_time": "2021-07-16T07:39:10.729Z"
   },
   {
    "duration": 748,
    "start_time": "2021-07-16T07:39:10.740Z"
   },
   {
    "duration": 8,
    "start_time": "2021-07-16T07:39:11.490Z"
   },
   {
    "duration": 14,
    "start_time": "2021-07-16T07:39:11.499Z"
   },
   {
    "duration": 30,
    "start_time": "2021-07-16T07:39:11.515Z"
   },
   {
    "duration": 24,
    "start_time": "2021-07-16T07:39:11.547Z"
   },
   {
    "duration": 361,
    "start_time": "2021-07-16T07:39:11.572Z"
   },
   {
    "duration": 14,
    "start_time": "2021-07-16T07:39:11.934Z"
   },
   {
    "duration": 1072,
    "start_time": "2021-07-16T07:39:11.949Z"
   },
   {
    "duration": 7,
    "start_time": "2021-07-16T07:39:13.023Z"
   },
   {
    "duration": 659,
    "start_time": "2021-07-16T07:39:13.031Z"
   },
   {
    "duration": 10,
    "start_time": "2021-07-16T07:39:13.691Z"
   },
   {
    "duration": 21,
    "start_time": "2021-07-16T07:39:13.702Z"
   },
   {
    "duration": 34,
    "start_time": "2021-07-16T07:39:13.724Z"
   },
   {
    "duration": 11,
    "start_time": "2021-07-16T07:39:13.760Z"
   },
   {
    "duration": 12,
    "start_time": "2021-07-16T07:39:13.772Z"
   },
   {
    "duration": 9,
    "start_time": "2021-07-16T07:39:13.786Z"
   },
   {
    "duration": 375,
    "start_time": "2021-07-16T07:39:13.797Z"
   },
   {
    "duration": 16,
    "start_time": "2021-07-16T07:39:14.173Z"
   },
   {
    "duration": 18,
    "start_time": "2021-07-16T07:39:14.191Z"
   },
   {
    "duration": 18,
    "start_time": "2021-07-16T07:39:14.211Z"
   },
   {
    "duration": 21,
    "start_time": "2021-07-16T07:39:14.230Z"
   },
   {
    "duration": 509,
    "start_time": "2021-07-16T07:39:14.253Z"
   },
   {
    "duration": 10,
    "start_time": "2021-07-16T07:39:14.764Z"
   },
   {
    "duration": 509,
    "start_time": "2021-07-16T07:39:14.775Z"
   },
   {
    "duration": 500,
    "start_time": "2021-07-16T07:39:15.285Z"
   },
   {
    "duration": 104,
    "start_time": "2021-07-16T07:39:15.787Z"
   },
   {
    "duration": 551,
    "start_time": "2021-07-16T07:39:15.893Z"
   },
   {
    "duration": 510,
    "start_time": "2021-07-16T07:39:16.446Z"
   },
   {
    "duration": 516,
    "start_time": "2021-07-16T07:39:16.958Z"
   },
   {
    "duration": 240,
    "start_time": "2021-07-16T07:39:17.476Z"
   },
   {
    "duration": 9,
    "start_time": "2021-07-16T07:39:17.717Z"
   },
   {
    "duration": 24,
    "start_time": "2021-07-16T07:39:17.727Z"
   },
   {
    "duration": 234,
    "start_time": "2021-07-16T07:39:17.753Z"
   },
   {
    "duration": 9,
    "start_time": "2021-07-16T07:39:17.989Z"
   },
   {
    "duration": 30,
    "start_time": "2021-07-16T07:39:18.000Z"
   },
   {
    "duration": 228,
    "start_time": "2021-07-16T07:39:18.035Z"
   },
   {
    "duration": 28,
    "start_time": "2021-07-16T07:39:18.265Z"
   },
   {
    "duration": 3,
    "start_time": "2021-07-16T07:39:18.294Z"
   },
   {
    "duration": 228,
    "start_time": "2021-07-16T07:39:18.299Z"
   },
   {
    "duration": 11,
    "start_time": "2021-07-16T07:39:18.528Z"
   },
   {
    "duration": 10,
    "start_time": "2021-07-16T07:39:18.541Z"
   }
  ],
  "kernelspec": {
   "display_name": "Python 3",
   "language": "python",
   "name": "python3"
  },
  "language_info": {
   "codemirror_mode": {
    "name": "ipython",
    "version": 3
   },
   "file_extension": ".py",
   "mimetype": "text/x-python",
   "name": "python",
   "nbconvert_exporter": "python",
   "pygments_lexer": "ipython3",
   "version": "3.7.8"
  },
  "toc": {
   "base_numbering": 1,
   "nav_menu": {},
   "number_sections": true,
   "sideBar": true,
   "skip_h1_title": false,
   "title_cell": "Table of Contents",
   "title_sidebar": "Contents",
   "toc_cell": false,
   "toc_position": {
    "height": "calc(100% - 180px)",
    "left": "10px",
    "top": "150px",
    "width": "165px"
   },
   "toc_section_display": true,
   "toc_window_display": true
  }
 },
 "nbformat": 4,
 "nbformat_minor": 5
}
