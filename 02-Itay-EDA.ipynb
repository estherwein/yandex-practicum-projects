{
 "cells": [
  {
   "cell_type": "markdown",
   "metadata": {},
   "source": [
    "<div style=\"border:solid Chocolate 2px; padding: 40px\">\n",
    "\n",
    "<b>Hello, Itay!👋 How are you today?</b>\n",
    "    \n",
    "My name is Arina U. and I am glad to be your reviewer in this project! Nice to meet you again, we have already met with you in previous sprint!<br />\n",
    "\n",
    "\n",
    "You can find my comments in <font color='green'>green</font>, <font color='gold'>yellow</font> and <font color='red'>red</font> boxes. Examples you can see below:\n",
    "    \n",
    "<div class=\"alert alert-block alert-success\">\n",
    "    <h2>Reviewer's commentary <a class=\"tocSkip\"> </h2>\n",
    "    <br/>\n",
    "<b>Well done!👍:</b> In case if task is completely correct and everything is alright!\n",
    "</div>\n",
    "\n",
    "\n",
    "<div class=\"alert alert-block alert-warning\">\n",
    "   <h2>Reviewer's commentary <a class=\"tocSkip\"> </h2>\n",
    "    <br/>\n",
    "<b>Remarks and recommendations📌:</b>  In case when I can give some advice that can help you to improve your work or recommend you some useful links and resources that can help you widen your knowledge and help in future tasks.\n",
    "</div>\n",
    "\n",
    "<div class=\"alert alert-block alert-danger\">\n",
    "    <h2>Reviewer's commentary <a class=\"tocSkip\"> </h2>\n",
    "    <br/>\n",
    "<b>Needs fixing!🤔:</b> In case when step requires some extra work and some corrections. Project can't be accepted with comments in the red boxes\n",
    "</div>\n",
    "\n",
    "Please pay attention to not move or change my comments. It would be good to highlight your answers in some way. \n",
    "\n",
    "#### <font color='Purple'>Student's commentary:</font> for example like this <a class=\"tocSkip\"> </div>\n",
    "    \n",
    "OK, now let's go!😏\n",
    "</font>"
   ]
  },
  {
   "cell_type": "markdown",
   "metadata": {},
   "source": [
    "# Research on car sales ads\n",
    "\n",
    "You're an analyst at Crankshaft List. Hundreds of free advertisements for vehicles are published on your site every day.\n",
    "\n",
    "You need to study data collected over the last few years and determine which factors influence the price of a vehicle. \n",
    "\n",
    "Plan:\n",
    "* look at general information of the data frame\n",
    "* preprocess\n",
    "    * clean na\n",
    "    * remove duplicates\n",
    "    * change datatypes\n",
    "* calculate:\n",
    "    * weeday, month, year\n",
    "    * car age\n",
    "    * mileage\n",
    "* analyze the data visually:\n",
    "    * remove outliers\n",
    "    * graph histograms\n",
    "    * graph boxplot\n",
    "* write summay of conclusions"
   ]
  },
  {
   "cell_type": "markdown",
   "metadata": {},
   "source": [
    "<div class=\"alert alert-block alert-warning\">\n",
    "   <h2>Reviewer's commentary <a class=\"tocSkip\"> </h2>\n",
    "    <br/>\n",
    "<b>Remarks and recommendations📌:</b>  \n",
    "       \n",
    "I would like to recommend you to add the main aim of the project and include content plan of your analysis apart from the short description."
   ]
  },
  {
   "cell_type": "markdown",
   "metadata": {},
   "source": [
    "## Open the data file and study the general information. "
   ]
  },
  {
   "cell_type": "code",
   "execution_count": 1,
   "metadata": {},
   "outputs": [],
   "source": [
    "import numpy as np\n",
    "import matplotlib.pyplot as plt"
   ]
  },
  {
   "cell_type": "code",
   "execution_count": 2,
   "metadata": {},
   "outputs": [],
   "source": [
    "import pandas as pd\n",
    "\n",
    "try:\n",
    "    car_ads = pd.read_csv('/datasets/vehicles_us.csv')\n",
    "except:\n",
    "    car_ads = pd.read_csv('itay/vehicles_us.csv')"
   ]
  },
  {
   "cell_type": "markdown",
   "metadata": {},
   "source": [
    "<div class=\"alert alert-block alert-warning\">\n",
    "   <h2>Reviewer's commentary <a class=\"tocSkip\"> </h2>\n",
    "    <br/>\n",
    "<b>Remarks and recommendations📌:</b>  \n",
    "       \n",
    "To download the data it is better to use the `try-except` construction, more information see below:\n",
    "       \n",
    "https://www.w3schools.com/python/python_try_except.asp"
   ]
  },
  {
   "cell_type": "markdown",
   "metadata": {},
   "source": [
    "<div class=\"alert alert-block alert-success\">\n",
    "    <h2>Reviewer's commentary: second iteration of the review <a class=\"tocSkip\"> </h2>\n",
    "    <br/>\n",
    "<b>Well done!👍:</b> \n",
    "        \n",
    "Ok, it is great that you used `try-except`"
   ]
  },
  {
   "cell_type": "code",
   "execution_count": 3,
   "metadata": {},
   "outputs": [],
   "source": [
    "pd.options.display.max_rows = 120"
   ]
  },
  {
   "cell_type": "code",
   "execution_count": 4,
   "metadata": {},
   "outputs": [
    {
     "name": "stdout",
     "output_type": "stream",
     "text": [
      "<class 'pandas.core.frame.DataFrame'>\n",
      "RangeIndex: 51525 entries, 0 to 51524\n",
      "Data columns (total 13 columns):\n",
      "price           51525 non-null int64\n",
      "model_year      47906 non-null float64\n",
      "model           51525 non-null object\n",
      "condition       51525 non-null object\n",
      "cylinders       46265 non-null float64\n",
      "fuel            51525 non-null object\n",
      "odometer        43633 non-null float64\n",
      "transmission    51525 non-null object\n",
      "type            51525 non-null object\n",
      "paint_color     42258 non-null object\n",
      "is_4wd          25572 non-null float64\n",
      "date_posted     51525 non-null object\n",
      "days_listed     51525 non-null int64\n",
      "dtypes: float64(4), int64(2), object(7)\n",
      "memory usage: 5.1+ MB\n"
     ]
    }
   ],
   "source": [
    "car_ads.info()"
   ]
  },
  {
   "cell_type": "code",
   "execution_count": 5,
   "metadata": {},
   "outputs": [
    {
     "data": {
      "text/html": [
       "<div>\n",
       "<style scoped>\n",
       "    .dataframe tbody tr th:only-of-type {\n",
       "        vertical-align: middle;\n",
       "    }\n",
       "\n",
       "    .dataframe tbody tr th {\n",
       "        vertical-align: top;\n",
       "    }\n",
       "\n",
       "    .dataframe thead th {\n",
       "        text-align: right;\n",
       "    }\n",
       "</style>\n",
       "<table border=\"1\" class=\"dataframe\">\n",
       "  <thead>\n",
       "    <tr style=\"text-align: right;\">\n",
       "      <th></th>\n",
       "      <th>price</th>\n",
       "      <th>model_year</th>\n",
       "      <th>model</th>\n",
       "      <th>condition</th>\n",
       "      <th>cylinders</th>\n",
       "      <th>fuel</th>\n",
       "      <th>odometer</th>\n",
       "      <th>transmission</th>\n",
       "      <th>type</th>\n",
       "      <th>paint_color</th>\n",
       "      <th>is_4wd</th>\n",
       "      <th>date_posted</th>\n",
       "      <th>days_listed</th>\n",
       "    </tr>\n",
       "  </thead>\n",
       "  <tbody>\n",
       "    <tr>\n",
       "      <td>0</td>\n",
       "      <td>9400</td>\n",
       "      <td>2011.0</td>\n",
       "      <td>bmw x5</td>\n",
       "      <td>good</td>\n",
       "      <td>6.0</td>\n",
       "      <td>gas</td>\n",
       "      <td>145000.0</td>\n",
       "      <td>automatic</td>\n",
       "      <td>SUV</td>\n",
       "      <td>NaN</td>\n",
       "      <td>1.0</td>\n",
       "      <td>2018-06-23</td>\n",
       "      <td>19</td>\n",
       "    </tr>\n",
       "    <tr>\n",
       "      <td>1</td>\n",
       "      <td>25500</td>\n",
       "      <td>NaN</td>\n",
       "      <td>ford f-150</td>\n",
       "      <td>good</td>\n",
       "      <td>6.0</td>\n",
       "      <td>gas</td>\n",
       "      <td>88705.0</td>\n",
       "      <td>automatic</td>\n",
       "      <td>pickup</td>\n",
       "      <td>white</td>\n",
       "      <td>1.0</td>\n",
       "      <td>2018-10-19</td>\n",
       "      <td>50</td>\n",
       "    </tr>\n",
       "    <tr>\n",
       "      <td>2</td>\n",
       "      <td>5500</td>\n",
       "      <td>2013.0</td>\n",
       "      <td>hyundai sonata</td>\n",
       "      <td>like new</td>\n",
       "      <td>4.0</td>\n",
       "      <td>gas</td>\n",
       "      <td>110000.0</td>\n",
       "      <td>automatic</td>\n",
       "      <td>sedan</td>\n",
       "      <td>red</td>\n",
       "      <td>NaN</td>\n",
       "      <td>2019-02-07</td>\n",
       "      <td>79</td>\n",
       "    </tr>\n",
       "    <tr>\n",
       "      <td>3</td>\n",
       "      <td>1500</td>\n",
       "      <td>2003.0</td>\n",
       "      <td>ford f-150</td>\n",
       "      <td>fair</td>\n",
       "      <td>8.0</td>\n",
       "      <td>gas</td>\n",
       "      <td>NaN</td>\n",
       "      <td>automatic</td>\n",
       "      <td>pickup</td>\n",
       "      <td>NaN</td>\n",
       "      <td>NaN</td>\n",
       "      <td>2019-03-22</td>\n",
       "      <td>9</td>\n",
       "    </tr>\n",
       "    <tr>\n",
       "      <td>4</td>\n",
       "      <td>14900</td>\n",
       "      <td>2017.0</td>\n",
       "      <td>chrysler 200</td>\n",
       "      <td>excellent</td>\n",
       "      <td>4.0</td>\n",
       "      <td>gas</td>\n",
       "      <td>80903.0</td>\n",
       "      <td>automatic</td>\n",
       "      <td>sedan</td>\n",
       "      <td>black</td>\n",
       "      <td>NaN</td>\n",
       "      <td>2019-04-02</td>\n",
       "      <td>28</td>\n",
       "    </tr>\n",
       "    <tr>\n",
       "      <td>...</td>\n",
       "      <td>...</td>\n",
       "      <td>...</td>\n",
       "      <td>...</td>\n",
       "      <td>...</td>\n",
       "      <td>...</td>\n",
       "      <td>...</td>\n",
       "      <td>...</td>\n",
       "      <td>...</td>\n",
       "      <td>...</td>\n",
       "      <td>...</td>\n",
       "      <td>...</td>\n",
       "      <td>...</td>\n",
       "      <td>...</td>\n",
       "    </tr>\n",
       "    <tr>\n",
       "      <td>51520</td>\n",
       "      <td>9249</td>\n",
       "      <td>2013.0</td>\n",
       "      <td>nissan maxima</td>\n",
       "      <td>like new</td>\n",
       "      <td>6.0</td>\n",
       "      <td>gas</td>\n",
       "      <td>88136.0</td>\n",
       "      <td>automatic</td>\n",
       "      <td>sedan</td>\n",
       "      <td>black</td>\n",
       "      <td>NaN</td>\n",
       "      <td>2018-10-03</td>\n",
       "      <td>37</td>\n",
       "    </tr>\n",
       "    <tr>\n",
       "      <td>51521</td>\n",
       "      <td>2700</td>\n",
       "      <td>2002.0</td>\n",
       "      <td>honda civic</td>\n",
       "      <td>salvage</td>\n",
       "      <td>4.0</td>\n",
       "      <td>gas</td>\n",
       "      <td>181500.0</td>\n",
       "      <td>automatic</td>\n",
       "      <td>sedan</td>\n",
       "      <td>white</td>\n",
       "      <td>NaN</td>\n",
       "      <td>2018-11-14</td>\n",
       "      <td>22</td>\n",
       "    </tr>\n",
       "    <tr>\n",
       "      <td>51522</td>\n",
       "      <td>3950</td>\n",
       "      <td>2009.0</td>\n",
       "      <td>hyundai sonata</td>\n",
       "      <td>excellent</td>\n",
       "      <td>4.0</td>\n",
       "      <td>gas</td>\n",
       "      <td>128000.0</td>\n",
       "      <td>automatic</td>\n",
       "      <td>sedan</td>\n",
       "      <td>blue</td>\n",
       "      <td>NaN</td>\n",
       "      <td>2018-11-15</td>\n",
       "      <td>32</td>\n",
       "    </tr>\n",
       "    <tr>\n",
       "      <td>51523</td>\n",
       "      <td>7455</td>\n",
       "      <td>2013.0</td>\n",
       "      <td>toyota corolla</td>\n",
       "      <td>good</td>\n",
       "      <td>4.0</td>\n",
       "      <td>gas</td>\n",
       "      <td>139573.0</td>\n",
       "      <td>automatic</td>\n",
       "      <td>sedan</td>\n",
       "      <td>black</td>\n",
       "      <td>NaN</td>\n",
       "      <td>2018-07-02</td>\n",
       "      <td>71</td>\n",
       "    </tr>\n",
       "    <tr>\n",
       "      <td>51524</td>\n",
       "      <td>6300</td>\n",
       "      <td>2014.0</td>\n",
       "      <td>nissan altima</td>\n",
       "      <td>good</td>\n",
       "      <td>4.0</td>\n",
       "      <td>gas</td>\n",
       "      <td>NaN</td>\n",
       "      <td>automatic</td>\n",
       "      <td>sedan</td>\n",
       "      <td>NaN</td>\n",
       "      <td>NaN</td>\n",
       "      <td>2018-06-05</td>\n",
       "      <td>10</td>\n",
       "    </tr>\n",
       "  </tbody>\n",
       "</table>\n",
       "<p>51525 rows × 13 columns</p>\n",
       "</div>"
      ],
      "text/plain": [
       "       price  model_year           model  condition  cylinders fuel  odometer  \\\n",
       "0       9400      2011.0          bmw x5       good        6.0  gas  145000.0   \n",
       "1      25500         NaN      ford f-150       good        6.0  gas   88705.0   \n",
       "2       5500      2013.0  hyundai sonata   like new        4.0  gas  110000.0   \n",
       "3       1500      2003.0      ford f-150       fair        8.0  gas       NaN   \n",
       "4      14900      2017.0    chrysler 200  excellent        4.0  gas   80903.0   \n",
       "...      ...         ...             ...        ...        ...  ...       ...   \n",
       "51520   9249      2013.0   nissan maxima   like new        6.0  gas   88136.0   \n",
       "51521   2700      2002.0     honda civic    salvage        4.0  gas  181500.0   \n",
       "51522   3950      2009.0  hyundai sonata  excellent        4.0  gas  128000.0   \n",
       "51523   7455      2013.0  toyota corolla       good        4.0  gas  139573.0   \n",
       "51524   6300      2014.0   nissan altima       good        4.0  gas       NaN   \n",
       "\n",
       "      transmission    type paint_color  is_4wd date_posted  days_listed  \n",
       "0        automatic     SUV         NaN     1.0  2018-06-23           19  \n",
       "1        automatic  pickup       white     1.0  2018-10-19           50  \n",
       "2        automatic   sedan         red     NaN  2019-02-07           79  \n",
       "3        automatic  pickup         NaN     NaN  2019-03-22            9  \n",
       "4        automatic   sedan       black     NaN  2019-04-02           28  \n",
       "...            ...     ...         ...     ...         ...          ...  \n",
       "51520    automatic   sedan       black     NaN  2018-10-03           37  \n",
       "51521    automatic   sedan       white     NaN  2018-11-14           22  \n",
       "51522    automatic   sedan        blue     NaN  2018-11-15           32  \n",
       "51523    automatic   sedan       black     NaN  2018-07-02           71  \n",
       "51524    automatic   sedan         NaN     NaN  2018-06-05           10  \n",
       "\n",
       "[51525 rows x 13 columns]"
      ]
     },
     "execution_count": 5,
     "metadata": {},
     "output_type": "execute_result"
    }
   ],
   "source": [
    "car_ads"
   ]
  },
  {
   "cell_type": "code",
   "execution_count": 6,
   "metadata": {},
   "outputs": [
    {
     "data": {
      "text/html": [
       "<div>\n",
       "<style scoped>\n",
       "    .dataframe tbody tr th:only-of-type {\n",
       "        vertical-align: middle;\n",
       "    }\n",
       "\n",
       "    .dataframe tbody tr th {\n",
       "        vertical-align: top;\n",
       "    }\n",
       "\n",
       "    .dataframe thead th {\n",
       "        text-align: right;\n",
       "    }\n",
       "</style>\n",
       "<table border=\"1\" class=\"dataframe\">\n",
       "  <thead>\n",
       "    <tr style=\"text-align: right;\">\n",
       "      <th></th>\n",
       "      <th>price</th>\n",
       "      <th>model_year</th>\n",
       "      <th>cylinders</th>\n",
       "      <th>odometer</th>\n",
       "      <th>is_4wd</th>\n",
       "      <th>days_listed</th>\n",
       "    </tr>\n",
       "  </thead>\n",
       "  <tbody>\n",
       "    <tr>\n",
       "      <td>count</td>\n",
       "      <td>51525.000000</td>\n",
       "      <td>47906.000000</td>\n",
       "      <td>46265.000000</td>\n",
       "      <td>43633.000000</td>\n",
       "      <td>25572.0</td>\n",
       "      <td>51525.00000</td>\n",
       "    </tr>\n",
       "    <tr>\n",
       "      <td>mean</td>\n",
       "      <td>12132.464920</td>\n",
       "      <td>2009.750470</td>\n",
       "      <td>6.125235</td>\n",
       "      <td>115553.461738</td>\n",
       "      <td>1.0</td>\n",
       "      <td>39.55476</td>\n",
       "    </tr>\n",
       "    <tr>\n",
       "      <td>std</td>\n",
       "      <td>10040.803015</td>\n",
       "      <td>6.282065</td>\n",
       "      <td>1.660360</td>\n",
       "      <td>65094.611341</td>\n",
       "      <td>0.0</td>\n",
       "      <td>28.20427</td>\n",
       "    </tr>\n",
       "    <tr>\n",
       "      <td>min</td>\n",
       "      <td>1.000000</td>\n",
       "      <td>1908.000000</td>\n",
       "      <td>3.000000</td>\n",
       "      <td>0.000000</td>\n",
       "      <td>1.0</td>\n",
       "      <td>0.00000</td>\n",
       "    </tr>\n",
       "    <tr>\n",
       "      <td>25%</td>\n",
       "      <td>5000.000000</td>\n",
       "      <td>2006.000000</td>\n",
       "      <td>4.000000</td>\n",
       "      <td>70000.000000</td>\n",
       "      <td>1.0</td>\n",
       "      <td>19.00000</td>\n",
       "    </tr>\n",
       "    <tr>\n",
       "      <td>50%</td>\n",
       "      <td>9000.000000</td>\n",
       "      <td>2011.000000</td>\n",
       "      <td>6.000000</td>\n",
       "      <td>113000.000000</td>\n",
       "      <td>1.0</td>\n",
       "      <td>33.00000</td>\n",
       "    </tr>\n",
       "    <tr>\n",
       "      <td>75%</td>\n",
       "      <td>16839.000000</td>\n",
       "      <td>2014.000000</td>\n",
       "      <td>8.000000</td>\n",
       "      <td>155000.000000</td>\n",
       "      <td>1.0</td>\n",
       "      <td>53.00000</td>\n",
       "    </tr>\n",
       "    <tr>\n",
       "      <td>max</td>\n",
       "      <td>375000.000000</td>\n",
       "      <td>2019.000000</td>\n",
       "      <td>12.000000</td>\n",
       "      <td>990000.000000</td>\n",
       "      <td>1.0</td>\n",
       "      <td>271.00000</td>\n",
       "    </tr>\n",
       "  </tbody>\n",
       "</table>\n",
       "</div>"
      ],
      "text/plain": [
       "               price    model_year     cylinders       odometer   is_4wd  \\\n",
       "count   51525.000000  47906.000000  46265.000000   43633.000000  25572.0   \n",
       "mean    12132.464920   2009.750470      6.125235  115553.461738      1.0   \n",
       "std     10040.803015      6.282065      1.660360   65094.611341      0.0   \n",
       "min         1.000000   1908.000000      3.000000       0.000000      1.0   \n",
       "25%      5000.000000   2006.000000      4.000000   70000.000000      1.0   \n",
       "50%      9000.000000   2011.000000      6.000000  113000.000000      1.0   \n",
       "75%     16839.000000   2014.000000      8.000000  155000.000000      1.0   \n",
       "max    375000.000000   2019.000000     12.000000  990000.000000      1.0   \n",
       "\n",
       "       days_listed  \n",
       "count  51525.00000  \n",
       "mean      39.55476  \n",
       "std       28.20427  \n",
       "min        0.00000  \n",
       "25%       19.00000  \n",
       "50%       33.00000  \n",
       "75%       53.00000  \n",
       "max      271.00000  "
      ]
     },
     "execution_count": 6,
     "metadata": {},
     "output_type": "execute_result"
    }
   ],
   "source": [
    "car_ads.describe()"
   ]
  },
  {
   "cell_type": "code",
   "execution_count": 7,
   "metadata": {},
   "outputs": [
    {
     "data": {
      "text/html": [
       "<div>\n",
       "<style scoped>\n",
       "    .dataframe tbody tr th:only-of-type {\n",
       "        vertical-align: middle;\n",
       "    }\n",
       "\n",
       "    .dataframe tbody tr th {\n",
       "        vertical-align: top;\n",
       "    }\n",
       "\n",
       "    .dataframe thead th {\n",
       "        text-align: right;\n",
       "    }\n",
       "</style>\n",
       "<table border=\"1\" class=\"dataframe\">\n",
       "  <thead>\n",
       "    <tr style=\"text-align: right;\">\n",
       "      <th></th>\n",
       "      <th>model</th>\n",
       "      <th>condition</th>\n",
       "      <th>fuel</th>\n",
       "      <th>transmission</th>\n",
       "      <th>type</th>\n",
       "      <th>paint_color</th>\n",
       "      <th>date_posted</th>\n",
       "    </tr>\n",
       "  </thead>\n",
       "  <tbody>\n",
       "    <tr>\n",
       "      <td>count</td>\n",
       "      <td>51525</td>\n",
       "      <td>51525</td>\n",
       "      <td>51525</td>\n",
       "      <td>51525</td>\n",
       "      <td>51525</td>\n",
       "      <td>42258</td>\n",
       "      <td>51525</td>\n",
       "    </tr>\n",
       "    <tr>\n",
       "      <td>unique</td>\n",
       "      <td>100</td>\n",
       "      <td>6</td>\n",
       "      <td>5</td>\n",
       "      <td>3</td>\n",
       "      <td>13</td>\n",
       "      <td>12</td>\n",
       "      <td>354</td>\n",
       "    </tr>\n",
       "    <tr>\n",
       "      <td>top</td>\n",
       "      <td>ford f-150</td>\n",
       "      <td>excellent</td>\n",
       "      <td>gas</td>\n",
       "      <td>automatic</td>\n",
       "      <td>SUV</td>\n",
       "      <td>white</td>\n",
       "      <td>2019-03-17</td>\n",
       "    </tr>\n",
       "    <tr>\n",
       "      <td>freq</td>\n",
       "      <td>2796</td>\n",
       "      <td>24773</td>\n",
       "      <td>47288</td>\n",
       "      <td>46902</td>\n",
       "      <td>12405</td>\n",
       "      <td>10029</td>\n",
       "      <td>186</td>\n",
       "    </tr>\n",
       "  </tbody>\n",
       "</table>\n",
       "</div>"
      ],
      "text/plain": [
       "             model  condition   fuel transmission   type paint_color  \\\n",
       "count        51525      51525  51525        51525  51525       42258   \n",
       "unique         100          6      5            3     13          12   \n",
       "top     ford f-150  excellent    gas    automatic    SUV       white   \n",
       "freq          2796      24773  47288        46902  12405       10029   \n",
       "\n",
       "       date_posted  \n",
       "count        51525  \n",
       "unique         354  \n",
       "top     2019-03-17  \n",
       "freq           186  "
      ]
     },
     "execution_count": 7,
     "metadata": {},
     "output_type": "execute_result"
    }
   ],
   "source": [
    "car_ads.describe(include = 'object') \n",
    "# why not for all columns?"
   ]
  },
  {
   "cell_type": "markdown",
   "metadata": {},
   "source": [
    "### Conclusion\n",
    "\n",
    "13 columns\n",
    "\n",
    "some types are incorrect"
   ]
  },
  {
   "cell_type": "markdown",
   "metadata": {},
   "source": [
    "<div class=\"alert alert-block alert-success\">\n",
    "    <h2>Reviewer's commentary <a class=\"tocSkip\"></h2>\n",
    "    <br/>\n",
    "<b>Well done!👍:</b> \n",
    "    \n",
    "Ok, everything is alright! You have successfully identified the main problems in the data, explore the dataframe from different sides and in great detail, let's see what results you have got at the next stages of analysis!"
   ]
  },
  {
   "cell_type": "markdown",
   "metadata": {},
   "source": [
    "## Data preprocessing"
   ]
  },
  {
   "cell_type": "markdown",
   "metadata": {},
   "source": [
    "**Data preprocessing plan:**\n",
    "\n",
    "* checking how many na values:\n",
    "    * deciding how to treat each na value in column\n",
    "* Going over anomalities in the columns\n",
    "    * too high, too low (outliers)\n",
    "* looking for duplicates \n",
    "* Changing types\n"
   ]
  },
  {
   "cell_type": "markdown",
   "metadata": {},
   "source": [
    "Checking how many na values in each column:"
   ]
  },
  {
   "cell_type": "code",
   "execution_count": 8,
   "metadata": {
    "scrolled": true
   },
   "outputs": [
    {
     "name": "stdout",
     "output_type": "stream",
     "text": [
      "price               0\n",
      "model_year       3619\n",
      "model               0\n",
      "condition           0\n",
      "cylinders        5260\n",
      "fuel                0\n",
      "odometer         7892\n",
      "transmission        0\n",
      "type                0\n",
      "paint_color      9267\n",
      "is_4wd          25953\n",
      "date_posted         0\n",
      "days_listed         0\n",
      "dtype: int64\n",
      "price            0.000000\n",
      "model_year       7.023775\n",
      "model            0.000000\n",
      "condition        0.000000\n",
      "cylinders       10.208637\n",
      "fuel             0.000000\n",
      "odometer        15.316836\n",
      "transmission     0.000000\n",
      "type             0.000000\n",
      "paint_color     17.985444\n",
      "is_4wd          50.369723\n",
      "date_posted      0.000000\n",
      "days_listed      0.000000\n",
      "dtype: float64\n"
     ]
    }
   ],
   "source": [
    "print(car_ads.isnull().sum())\n",
    "print(car_ads.isnull().sum()*100 / len(car_ads))"
   ]
  },
  {
   "cell_type": "markdown",
   "metadata": {},
   "source": [
    "<div class=\"alert alert-block alert-warning\">\n",
    "   <h2>Reviewer's commentary <a class=\"tocSkip\"> </h2>\n",
    "    <br/>\n",
    "<b>Remarks and recommendations📌:</b>  \n",
    "    \n",
    "Ok, Itay,  it is important to look not just at the amount of missing values in every column, but at the percentage of missing values in columns, for example, like this:\n",
    "    \n",
    "`data.isna().sum()*100/len(data)`\n",
    "       \n",
    "`data.isna().mean() * 100`\n",
    "\n",
    "Or like this:\n",
    "    \n",
    "`report = data.isna().sum().to_frame()\n",
    "report = report.rename(columns = {0: 'missing_values'})\n",
    "report['% of total'] = (report['missing_values'] / data.shape[0]).round(2)\n",
    "report.sort_values(by = 'missing_values', ascending = False)`"
   ]
  },
  {
   "cell_type": "markdown",
   "metadata": {},
   "source": [
    "<div class=\"alert alert-block alert-success\">\n",
    "    <h2>Reviewer's commentary: second iteration of the review <a class=\"tocSkip\"> </h2>\n",
    "    <br/>\n",
    "<b>Well done!👍:</b> \n",
    "        \n",
    "Ok, agree with your result of missing values percentage investigation!"
   ]
  },
  {
   "cell_type": "markdown",
   "metadata": {},
   "source": [
    "**Columns with na values**:\n",
    "* model_year = 3619\n",
    "    * Replaced with median\n",
    "    * Possible reasons for na values:\n",
    "        * people trying to hide the year for better price\n",
    "* cylinders = 5260\n",
    "    * Replaced with median\n",
    "    * Possible reasons for na values:\n",
    "        * Car owner has no idea how many cylinders\n",
    "* odometer = 7892\n",
    "    * replaced with median\n",
    "    * Possible reasons for na values:\n",
    "        * Hiding data to give the car better price\n",
    "* paint_color = 9267\n",
    "    * replaced with empty string\n",
    "    * Possible reasons for na values:\n",
    "        * Owner hides color since it might be considered ugly.\n",
    "* is_4wd = 25953\n",
    "    * replaced with False\n",
    "    * Possible reasons for na values:\n",
    "        * people have forgoten to fill or don't know "
   ]
  },
  {
   "cell_type": "code",
   "execution_count": 9,
   "metadata": {},
   "outputs": [
    {
     "data": {
      "text/plain": [
       "False    25953\n",
       "True     25572\n",
       "Name: is_4wd, dtype: int64"
      ]
     },
     "execution_count": 9,
     "metadata": {},
     "output_type": "execute_result"
    }
   ],
   "source": [
    "# is_4wd\n",
    "car_ads['is_4wd'].fillna(False, inplace=True)\n",
    "car_ads.loc[car_ads['is_4wd'] == 1.0,'is_4wd'] = True\n",
    "car_ads['is_4wd'].value_counts()"
   ]
  },
  {
   "cell_type": "markdown",
   "metadata": {},
   "source": [
    "**model_year**"
   ]
  },
  {
   "cell_type": "code",
   "execution_count": 10,
   "metadata": {},
   "outputs": [],
   "source": [
    "model_pivot_table = car_ads.pivot_table(index='model', values='model_year', aggfunc=['median'])"
   ]
  },
  {
   "cell_type": "code",
   "execution_count": 11,
   "metadata": {},
   "outputs": [],
   "source": [
    "def fill_na(row, pt, pt_index, pt_values_name, aggfunc_name):\n",
    "    val = row[pt_values_name]\n",
    "    if np.isnan(val):\n",
    "        return pt[aggfunc_name][pt_values_name][row[pt_index]]\n",
    "    return row[pt_values_name]\n"
   ]
  },
  {
   "cell_type": "code",
   "execution_count": 12,
   "metadata": {},
   "outputs": [],
   "source": [
    "car_ads['model_year'] = car_ads.apply(fill_na, args=(model_pivot_table, 'model','model_year','median'), axis=1)\n"
   ]
  },
  {
   "cell_type": "code",
   "execution_count": 13,
   "metadata": {},
   "outputs": [
    {
     "data": {
      "text/html": [
       "<div>\n",
       "<style scoped>\n",
       "    .dataframe tbody tr th:only-of-type {\n",
       "        vertical-align: middle;\n",
       "    }\n",
       "\n",
       "    .dataframe tbody tr th {\n",
       "        vertical-align: top;\n",
       "    }\n",
       "\n",
       "    .dataframe thead th {\n",
       "        text-align: right;\n",
       "    }\n",
       "</style>\n",
       "<table border=\"1\" class=\"dataframe\">\n",
       "  <thead>\n",
       "    <tr style=\"text-align: right;\">\n",
       "      <th></th>\n",
       "      <th>price</th>\n",
       "      <th>model_year</th>\n",
       "      <th>model</th>\n",
       "      <th>condition</th>\n",
       "      <th>cylinders</th>\n",
       "      <th>fuel</th>\n",
       "      <th>odometer</th>\n",
       "      <th>transmission</th>\n",
       "      <th>type</th>\n",
       "      <th>paint_color</th>\n",
       "      <th>is_4wd</th>\n",
       "      <th>date_posted</th>\n",
       "      <th>days_listed</th>\n",
       "    </tr>\n",
       "  </thead>\n",
       "  <tbody>\n",
       "    <tr>\n",
       "      <td>0</td>\n",
       "      <td>9400</td>\n",
       "      <td>2011.0</td>\n",
       "      <td>bmw x5</td>\n",
       "      <td>good</td>\n",
       "      <td>6.0</td>\n",
       "      <td>gas</td>\n",
       "      <td>145000.0</td>\n",
       "      <td>automatic</td>\n",
       "      <td>SUV</td>\n",
       "      <td>NaN</td>\n",
       "      <td>True</td>\n",
       "      <td>2018-06-23</td>\n",
       "      <td>19</td>\n",
       "    </tr>\n",
       "    <tr>\n",
       "      <td>1</td>\n",
       "      <td>25500</td>\n",
       "      <td>2011.0</td>\n",
       "      <td>ford f-150</td>\n",
       "      <td>good</td>\n",
       "      <td>6.0</td>\n",
       "      <td>gas</td>\n",
       "      <td>88705.0</td>\n",
       "      <td>automatic</td>\n",
       "      <td>pickup</td>\n",
       "      <td>white</td>\n",
       "      <td>True</td>\n",
       "      <td>2018-10-19</td>\n",
       "      <td>50</td>\n",
       "    </tr>\n",
       "    <tr>\n",
       "      <td>2</td>\n",
       "      <td>5500</td>\n",
       "      <td>2013.0</td>\n",
       "      <td>hyundai sonata</td>\n",
       "      <td>like new</td>\n",
       "      <td>4.0</td>\n",
       "      <td>gas</td>\n",
       "      <td>110000.0</td>\n",
       "      <td>automatic</td>\n",
       "      <td>sedan</td>\n",
       "      <td>red</td>\n",
       "      <td>False</td>\n",
       "      <td>2019-02-07</td>\n",
       "      <td>79</td>\n",
       "    </tr>\n",
       "    <tr>\n",
       "      <td>3</td>\n",
       "      <td>1500</td>\n",
       "      <td>2003.0</td>\n",
       "      <td>ford f-150</td>\n",
       "      <td>fair</td>\n",
       "      <td>8.0</td>\n",
       "      <td>gas</td>\n",
       "      <td>NaN</td>\n",
       "      <td>automatic</td>\n",
       "      <td>pickup</td>\n",
       "      <td>NaN</td>\n",
       "      <td>False</td>\n",
       "      <td>2019-03-22</td>\n",
       "      <td>9</td>\n",
       "    </tr>\n",
       "    <tr>\n",
       "      <td>4</td>\n",
       "      <td>14900</td>\n",
       "      <td>2017.0</td>\n",
       "      <td>chrysler 200</td>\n",
       "      <td>excellent</td>\n",
       "      <td>4.0</td>\n",
       "      <td>gas</td>\n",
       "      <td>80903.0</td>\n",
       "      <td>automatic</td>\n",
       "      <td>sedan</td>\n",
       "      <td>black</td>\n",
       "      <td>False</td>\n",
       "      <td>2019-04-02</td>\n",
       "      <td>28</td>\n",
       "    </tr>\n",
       "    <tr>\n",
       "      <td>...</td>\n",
       "      <td>...</td>\n",
       "      <td>...</td>\n",
       "      <td>...</td>\n",
       "      <td>...</td>\n",
       "      <td>...</td>\n",
       "      <td>...</td>\n",
       "      <td>...</td>\n",
       "      <td>...</td>\n",
       "      <td>...</td>\n",
       "      <td>...</td>\n",
       "      <td>...</td>\n",
       "      <td>...</td>\n",
       "      <td>...</td>\n",
       "    </tr>\n",
       "    <tr>\n",
       "      <td>51520</td>\n",
       "      <td>9249</td>\n",
       "      <td>2013.0</td>\n",
       "      <td>nissan maxima</td>\n",
       "      <td>like new</td>\n",
       "      <td>6.0</td>\n",
       "      <td>gas</td>\n",
       "      <td>88136.0</td>\n",
       "      <td>automatic</td>\n",
       "      <td>sedan</td>\n",
       "      <td>black</td>\n",
       "      <td>False</td>\n",
       "      <td>2018-10-03</td>\n",
       "      <td>37</td>\n",
       "    </tr>\n",
       "    <tr>\n",
       "      <td>51521</td>\n",
       "      <td>2700</td>\n",
       "      <td>2002.0</td>\n",
       "      <td>honda civic</td>\n",
       "      <td>salvage</td>\n",
       "      <td>4.0</td>\n",
       "      <td>gas</td>\n",
       "      <td>181500.0</td>\n",
       "      <td>automatic</td>\n",
       "      <td>sedan</td>\n",
       "      <td>white</td>\n",
       "      <td>False</td>\n",
       "      <td>2018-11-14</td>\n",
       "      <td>22</td>\n",
       "    </tr>\n",
       "    <tr>\n",
       "      <td>51522</td>\n",
       "      <td>3950</td>\n",
       "      <td>2009.0</td>\n",
       "      <td>hyundai sonata</td>\n",
       "      <td>excellent</td>\n",
       "      <td>4.0</td>\n",
       "      <td>gas</td>\n",
       "      <td>128000.0</td>\n",
       "      <td>automatic</td>\n",
       "      <td>sedan</td>\n",
       "      <td>blue</td>\n",
       "      <td>False</td>\n",
       "      <td>2018-11-15</td>\n",
       "      <td>32</td>\n",
       "    </tr>\n",
       "    <tr>\n",
       "      <td>51523</td>\n",
       "      <td>7455</td>\n",
       "      <td>2013.0</td>\n",
       "      <td>toyota corolla</td>\n",
       "      <td>good</td>\n",
       "      <td>4.0</td>\n",
       "      <td>gas</td>\n",
       "      <td>139573.0</td>\n",
       "      <td>automatic</td>\n",
       "      <td>sedan</td>\n",
       "      <td>black</td>\n",
       "      <td>False</td>\n",
       "      <td>2018-07-02</td>\n",
       "      <td>71</td>\n",
       "    </tr>\n",
       "    <tr>\n",
       "      <td>51524</td>\n",
       "      <td>6300</td>\n",
       "      <td>2014.0</td>\n",
       "      <td>nissan altima</td>\n",
       "      <td>good</td>\n",
       "      <td>4.0</td>\n",
       "      <td>gas</td>\n",
       "      <td>NaN</td>\n",
       "      <td>automatic</td>\n",
       "      <td>sedan</td>\n",
       "      <td>NaN</td>\n",
       "      <td>False</td>\n",
       "      <td>2018-06-05</td>\n",
       "      <td>10</td>\n",
       "    </tr>\n",
       "  </tbody>\n",
       "</table>\n",
       "<p>51525 rows × 13 columns</p>\n",
       "</div>"
      ],
      "text/plain": [
       "       price  model_year           model  condition  cylinders fuel  odometer  \\\n",
       "0       9400      2011.0          bmw x5       good        6.0  gas  145000.0   \n",
       "1      25500      2011.0      ford f-150       good        6.0  gas   88705.0   \n",
       "2       5500      2013.0  hyundai sonata   like new        4.0  gas  110000.0   \n",
       "3       1500      2003.0      ford f-150       fair        8.0  gas       NaN   \n",
       "4      14900      2017.0    chrysler 200  excellent        4.0  gas   80903.0   \n",
       "...      ...         ...             ...        ...        ...  ...       ...   \n",
       "51520   9249      2013.0   nissan maxima   like new        6.0  gas   88136.0   \n",
       "51521   2700      2002.0     honda civic    salvage        4.0  gas  181500.0   \n",
       "51522   3950      2009.0  hyundai sonata  excellent        4.0  gas  128000.0   \n",
       "51523   7455      2013.0  toyota corolla       good        4.0  gas  139573.0   \n",
       "51524   6300      2014.0   nissan altima       good        4.0  gas       NaN   \n",
       "\n",
       "      transmission    type paint_color  is_4wd date_posted  days_listed  \n",
       "0        automatic     SUV         NaN    True  2018-06-23           19  \n",
       "1        automatic  pickup       white    True  2018-10-19           50  \n",
       "2        automatic   sedan         red   False  2019-02-07           79  \n",
       "3        automatic  pickup         NaN   False  2019-03-22            9  \n",
       "4        automatic   sedan       black   False  2019-04-02           28  \n",
       "...            ...     ...         ...     ...         ...          ...  \n",
       "51520    automatic   sedan       black   False  2018-10-03           37  \n",
       "51521    automatic   sedan       white   False  2018-11-14           22  \n",
       "51522    automatic   sedan        blue   False  2018-11-15           32  \n",
       "51523    automatic   sedan       black   False  2018-07-02           71  \n",
       "51524    automatic   sedan         NaN   False  2018-06-05           10  \n",
       "\n",
       "[51525 rows x 13 columns]"
      ]
     },
     "execution_count": 13,
     "metadata": {},
     "output_type": "execute_result"
    }
   ],
   "source": [
    "car_ads"
   ]
  },
  {
   "cell_type": "code",
   "execution_count": 14,
   "metadata": {},
   "outputs": [
    {
     "data": {
      "text/plain": [
       "price              0\n",
       "model_year         0\n",
       "model              0\n",
       "condition          0\n",
       "cylinders       5260\n",
       "fuel               0\n",
       "odometer        7892\n",
       "transmission       0\n",
       "type               0\n",
       "paint_color     9267\n",
       "is_4wd             0\n",
       "date_posted        0\n",
       "days_listed        0\n",
       "dtype: int64"
      ]
     },
     "execution_count": 14,
     "metadata": {},
     "output_type": "execute_result"
    }
   ],
   "source": [
    "car_ads.isnull().sum()"
   ]
  },
  {
   "cell_type": "markdown",
   "metadata": {},
   "source": [
    "**cylinders**"
   ]
  },
  {
   "cell_type": "code",
   "execution_count": 15,
   "metadata": {},
   "outputs": [],
   "source": [
    "# cylinders\n",
    "cyliinders_pivot_table = car_ads.pivot_table(index='model', values='cylinders', aggfunc=['median'])"
   ]
  },
  {
   "cell_type": "code",
   "execution_count": 16,
   "metadata": {},
   "outputs": [],
   "source": [
    "car_ads['cylinders'] = car_ads.apply(fill_na, args=(cyliinders_pivot_table, 'model', 'cylinders', 'median'), axis=1)"
   ]
  },
  {
   "cell_type": "markdown",
   "metadata": {},
   "source": [
    "**odometer**"
   ]
  },
  {
   "cell_type": "code",
   "execution_count": 17,
   "metadata": {},
   "outputs": [],
   "source": [
    "car_ads.loc[car_ads['model_year'] == 1929.0, 'odometer'] = 40000.0 # problem with this specific value\n",
    "odometer_pivot_table = car_ads.pivot_table(index='model_year', values='odometer', aggfunc=['median'])"
   ]
  },
  {
   "cell_type": "code",
   "execution_count": 18,
   "metadata": {},
   "outputs": [
    {
     "data": {
      "text/html": [
       "<div>\n",
       "<style scoped>\n",
       "    .dataframe tbody tr th:only-of-type {\n",
       "        vertical-align: middle;\n",
       "    }\n",
       "\n",
       "    .dataframe tbody tr th {\n",
       "        vertical-align: top;\n",
       "    }\n",
       "\n",
       "    .dataframe thead tr th {\n",
       "        text-align: left;\n",
       "    }\n",
       "\n",
       "    .dataframe thead tr:last-of-type th {\n",
       "        text-align: right;\n",
       "    }\n",
       "</style>\n",
       "<table border=\"1\" class=\"dataframe\">\n",
       "  <thead>\n",
       "    <tr>\n",
       "      <th></th>\n",
       "      <th>median</th>\n",
       "    </tr>\n",
       "    <tr>\n",
       "      <th></th>\n",
       "      <th>odometer</th>\n",
       "    </tr>\n",
       "    <tr>\n",
       "      <th>model_year</th>\n",
       "      <th></th>\n",
       "    </tr>\n",
       "  </thead>\n",
       "  <tbody>\n",
       "    <tr>\n",
       "      <td>1908.0</td>\n",
       "      <td>169328.0</td>\n",
       "    </tr>\n",
       "    <tr>\n",
       "      <td>1929.0</td>\n",
       "      <td>40000.0</td>\n",
       "    </tr>\n",
       "    <tr>\n",
       "      <td>1936.0</td>\n",
       "      <td>30000.0</td>\n",
       "    </tr>\n",
       "    <tr>\n",
       "      <td>1948.0</td>\n",
       "      <td>4000.0</td>\n",
       "    </tr>\n",
       "    <tr>\n",
       "      <td>1949.0</td>\n",
       "      <td>1800.0</td>\n",
       "    </tr>\n",
       "    <tr>\n",
       "      <td>1954.0</td>\n",
       "      <td>3565.0</td>\n",
       "    </tr>\n",
       "    <tr>\n",
       "      <td>1955.0</td>\n",
       "      <td>47180.0</td>\n",
       "    </tr>\n",
       "    <tr>\n",
       "      <td>1958.0</td>\n",
       "      <td>32991.5</td>\n",
       "    </tr>\n",
       "    <tr>\n",
       "      <td>1960.0</td>\n",
       "      <td>16000.0</td>\n",
       "    </tr>\n",
       "    <tr>\n",
       "      <td>1961.0</td>\n",
       "      <td>66000.0</td>\n",
       "    </tr>\n",
       "    <tr>\n",
       "      <td>1962.0</td>\n",
       "      <td>72000.0</td>\n",
       "    </tr>\n",
       "    <tr>\n",
       "      <td>1963.0</td>\n",
       "      <td>40487.0</td>\n",
       "    </tr>\n",
       "    <tr>\n",
       "      <td>1964.0</td>\n",
       "      <td>58000.0</td>\n",
       "    </tr>\n",
       "    <tr>\n",
       "      <td>1965.0</td>\n",
       "      <td>51330.5</td>\n",
       "    </tr>\n",
       "    <tr>\n",
       "      <td>1966.0</td>\n",
       "      <td>63070.0</td>\n",
       "    </tr>\n",
       "    <tr>\n",
       "      <td>1967.0</td>\n",
       "      <td>94000.0</td>\n",
       "    </tr>\n",
       "    <tr>\n",
       "      <td>1968.0</td>\n",
       "      <td>31362.0</td>\n",
       "    </tr>\n",
       "    <tr>\n",
       "      <td>1969.0</td>\n",
       "      <td>42509.5</td>\n",
       "    </tr>\n",
       "    <tr>\n",
       "      <td>1970.0</td>\n",
       "      <td>83890.0</td>\n",
       "    </tr>\n",
       "    <tr>\n",
       "      <td>1971.0</td>\n",
       "      <td>56329.0</td>\n",
       "    </tr>\n",
       "    <tr>\n",
       "      <td>1972.0</td>\n",
       "      <td>72744.0</td>\n",
       "    </tr>\n",
       "    <tr>\n",
       "      <td>1973.0</td>\n",
       "      <td>58500.0</td>\n",
       "    </tr>\n",
       "    <tr>\n",
       "      <td>1974.0</td>\n",
       "      <td>29000.0</td>\n",
       "    </tr>\n",
       "    <tr>\n",
       "      <td>1975.0</td>\n",
       "      <td>54500.0</td>\n",
       "    </tr>\n",
       "    <tr>\n",
       "      <td>1976.0</td>\n",
       "      <td>31519.0</td>\n",
       "    </tr>\n",
       "    <tr>\n",
       "      <td>1977.0</td>\n",
       "      <td>79500.0</td>\n",
       "    </tr>\n",
       "    <tr>\n",
       "      <td>1978.0</td>\n",
       "      <td>80000.0</td>\n",
       "    </tr>\n",
       "    <tr>\n",
       "      <td>1979.0</td>\n",
       "      <td>53230.0</td>\n",
       "    </tr>\n",
       "    <tr>\n",
       "      <td>1980.0</td>\n",
       "      <td>69900.0</td>\n",
       "    </tr>\n",
       "    <tr>\n",
       "      <td>1981.0</td>\n",
       "      <td>75000.0</td>\n",
       "    </tr>\n",
       "    <tr>\n",
       "      <td>1982.0</td>\n",
       "      <td>65105.5</td>\n",
       "    </tr>\n",
       "    <tr>\n",
       "      <td>1983.0</td>\n",
       "      <td>83190.0</td>\n",
       "    </tr>\n",
       "    <tr>\n",
       "      <td>1984.0</td>\n",
       "      <td>83962.0</td>\n",
       "    </tr>\n",
       "    <tr>\n",
       "      <td>1985.0</td>\n",
       "      <td>86000.0</td>\n",
       "    </tr>\n",
       "    <tr>\n",
       "      <td>1986.0</td>\n",
       "      <td>90420.0</td>\n",
       "    </tr>\n",
       "    <tr>\n",
       "      <td>1987.0</td>\n",
       "      <td>111000.0</td>\n",
       "    </tr>\n",
       "    <tr>\n",
       "      <td>1988.0</td>\n",
       "      <td>97154.5</td>\n",
       "    </tr>\n",
       "    <tr>\n",
       "      <td>1989.0</td>\n",
       "      <td>120606.5</td>\n",
       "    </tr>\n",
       "    <tr>\n",
       "      <td>1990.0</td>\n",
       "      <td>143000.0</td>\n",
       "    </tr>\n",
       "    <tr>\n",
       "      <td>1991.0</td>\n",
       "      <td>141775.5</td>\n",
       "    </tr>\n",
       "    <tr>\n",
       "      <td>1992.0</td>\n",
       "      <td>148958.0</td>\n",
       "    </tr>\n",
       "    <tr>\n",
       "      <td>1993.0</td>\n",
       "      <td>180113.0</td>\n",
       "    </tr>\n",
       "    <tr>\n",
       "      <td>1994.0</td>\n",
       "      <td>145000.0</td>\n",
       "    </tr>\n",
       "    <tr>\n",
       "      <td>1995.0</td>\n",
       "      <td>162500.0</td>\n",
       "    </tr>\n",
       "    <tr>\n",
       "      <td>1996.0</td>\n",
       "      <td>171000.0</td>\n",
       "    </tr>\n",
       "    <tr>\n",
       "      <td>1997.0</td>\n",
       "      <td>183533.0</td>\n",
       "    </tr>\n",
       "    <tr>\n",
       "      <td>1998.0</td>\n",
       "      <td>170592.0</td>\n",
       "    </tr>\n",
       "    <tr>\n",
       "      <td>1999.0</td>\n",
       "      <td>174875.0</td>\n",
       "    </tr>\n",
       "    <tr>\n",
       "      <td>2000.0</td>\n",
       "      <td>175000.0</td>\n",
       "    </tr>\n",
       "    <tr>\n",
       "      <td>2001.0</td>\n",
       "      <td>179183.0</td>\n",
       "    </tr>\n",
       "    <tr>\n",
       "      <td>2002.0</td>\n",
       "      <td>160000.0</td>\n",
       "    </tr>\n",
       "    <tr>\n",
       "      <td>2003.0</td>\n",
       "      <td>161397.0</td>\n",
       "    </tr>\n",
       "    <tr>\n",
       "      <td>2004.0</td>\n",
       "      <td>156640.0</td>\n",
       "    </tr>\n",
       "    <tr>\n",
       "      <td>2005.0</td>\n",
       "      <td>153108.0</td>\n",
       "    </tr>\n",
       "    <tr>\n",
       "      <td>2006.0</td>\n",
       "      <td>150839.0</td>\n",
       "    </tr>\n",
       "    <tr>\n",
       "      <td>2006.5</td>\n",
       "      <td>159000.0</td>\n",
       "    </tr>\n",
       "    <tr>\n",
       "      <td>2007.0</td>\n",
       "      <td>142000.0</td>\n",
       "    </tr>\n",
       "    <tr>\n",
       "      <td>2008.0</td>\n",
       "      <td>140000.0</td>\n",
       "    </tr>\n",
       "    <tr>\n",
       "      <td>2009.0</td>\n",
       "      <td>131565.0</td>\n",
       "    </tr>\n",
       "    <tr>\n",
       "      <td>2010.0</td>\n",
       "      <td>127128.5</td>\n",
       "    </tr>\n",
       "    <tr>\n",
       "      <td>2010.5</td>\n",
       "      <td>138099.0</td>\n",
       "    </tr>\n",
       "    <tr>\n",
       "      <td>2011.0</td>\n",
       "      <td>123025.0</td>\n",
       "    </tr>\n",
       "    <tr>\n",
       "      <td>2012.0</td>\n",
       "      <td>110000.0</td>\n",
       "    </tr>\n",
       "    <tr>\n",
       "      <td>2013.0</td>\n",
       "      <td>99840.0</td>\n",
       "    </tr>\n",
       "    <tr>\n",
       "      <td>2014.0</td>\n",
       "      <td>90000.0</td>\n",
       "    </tr>\n",
       "    <tr>\n",
       "      <td>2015.0</td>\n",
       "      <td>78285.5</td>\n",
       "    </tr>\n",
       "    <tr>\n",
       "      <td>2016.0</td>\n",
       "      <td>53998.5</td>\n",
       "    </tr>\n",
       "    <tr>\n",
       "      <td>2017.0</td>\n",
       "      <td>41000.0</td>\n",
       "    </tr>\n",
       "    <tr>\n",
       "      <td>2018.0</td>\n",
       "      <td>20674.0</td>\n",
       "    </tr>\n",
       "    <tr>\n",
       "      <td>2019.0</td>\n",
       "      <td>14151.5</td>\n",
       "    </tr>\n",
       "  </tbody>\n",
       "</table>\n",
       "</div>"
      ],
      "text/plain": [
       "              median\n",
       "            odometer\n",
       "model_year          \n",
       "1908.0      169328.0\n",
       "1929.0       40000.0\n",
       "1936.0       30000.0\n",
       "1948.0        4000.0\n",
       "1949.0        1800.0\n",
       "1954.0        3565.0\n",
       "1955.0       47180.0\n",
       "1958.0       32991.5\n",
       "1960.0       16000.0\n",
       "1961.0       66000.0\n",
       "1962.0       72000.0\n",
       "1963.0       40487.0\n",
       "1964.0       58000.0\n",
       "1965.0       51330.5\n",
       "1966.0       63070.0\n",
       "1967.0       94000.0\n",
       "1968.0       31362.0\n",
       "1969.0       42509.5\n",
       "1970.0       83890.0\n",
       "1971.0       56329.0\n",
       "1972.0       72744.0\n",
       "1973.0       58500.0\n",
       "1974.0       29000.0\n",
       "1975.0       54500.0\n",
       "1976.0       31519.0\n",
       "1977.0       79500.0\n",
       "1978.0       80000.0\n",
       "1979.0       53230.0\n",
       "1980.0       69900.0\n",
       "1981.0       75000.0\n",
       "1982.0       65105.5\n",
       "1983.0       83190.0\n",
       "1984.0       83962.0\n",
       "1985.0       86000.0\n",
       "1986.0       90420.0\n",
       "1987.0      111000.0\n",
       "1988.0       97154.5\n",
       "1989.0      120606.5\n",
       "1990.0      143000.0\n",
       "1991.0      141775.5\n",
       "1992.0      148958.0\n",
       "1993.0      180113.0\n",
       "1994.0      145000.0\n",
       "1995.0      162500.0\n",
       "1996.0      171000.0\n",
       "1997.0      183533.0\n",
       "1998.0      170592.0\n",
       "1999.0      174875.0\n",
       "2000.0      175000.0\n",
       "2001.0      179183.0\n",
       "2002.0      160000.0\n",
       "2003.0      161397.0\n",
       "2004.0      156640.0\n",
       "2005.0      153108.0\n",
       "2006.0      150839.0\n",
       "2006.5      159000.0\n",
       "2007.0      142000.0\n",
       "2008.0      140000.0\n",
       "2009.0      131565.0\n",
       "2010.0      127128.5\n",
       "2010.5      138099.0\n",
       "2011.0      123025.0\n",
       "2012.0      110000.0\n",
       "2013.0       99840.0\n",
       "2014.0       90000.0\n",
       "2015.0       78285.5\n",
       "2016.0       53998.5\n",
       "2017.0       41000.0\n",
       "2018.0       20674.0\n",
       "2019.0       14151.5"
      ]
     },
     "execution_count": 18,
     "metadata": {},
     "output_type": "execute_result"
    }
   ],
   "source": [
    "odometer_pivot_table"
   ]
  },
  {
   "cell_type": "code",
   "execution_count": 19,
   "metadata": {},
   "outputs": [],
   "source": [
    "car_ads['odometer'] = car_ads.apply(fill_na, args=(odometer_pivot_table, 'model_year', 'odometer', 'median'), axis=1)"
   ]
  },
  {
   "cell_type": "code",
   "execution_count": 20,
   "metadata": {},
   "outputs": [
    {
     "data": {
      "text/plain": [
       "price              0\n",
       "model_year         0\n",
       "model              0\n",
       "condition          0\n",
       "cylinders          0\n",
       "fuel               0\n",
       "odometer           0\n",
       "transmission       0\n",
       "type               0\n",
       "paint_color     9267\n",
       "is_4wd             0\n",
       "date_posted        0\n",
       "days_listed        0\n",
       "dtype: int64"
      ]
     },
     "execution_count": 20,
     "metadata": {},
     "output_type": "execute_result"
    }
   ],
   "source": [
    "car_ads.isnull().sum()"
   ]
  },
  {
   "cell_type": "code",
   "execution_count": 21,
   "metadata": {},
   "outputs": [],
   "source": [
    "# paint_color\n",
    "car_ads['paint_color'].fillna('other', inplace=True) # other"
   ]
  },
  {
   "cell_type": "markdown",
   "metadata": {},
   "source": [
    "<div class=\"alert alert-block alert-warning\">\n",
    "   <h2>Reviewer's commentary <a class=\"tocSkip\"> </h2>\n",
    "    <br/>\n",
    "<b>Remarks and recommendations📌:</b>  \n",
    "    \n",
    "It is better to change the NaN in this column to `other` as you mentioned in your comment string, empty string not so informative."
   ]
  },
  {
   "cell_type": "markdown",
   "metadata": {},
   "source": [
    "<div class=\"alert alert-block alert-success\">\n",
    "    <h2>Reviewer's commentary: second iteration of the review <a class=\"tocSkip\"> </h2>\n",
    "    <br/>\n",
    "<b>Well done!👍</b> "
   ]
  },
  {
   "cell_type": "code",
   "execution_count": 22,
   "metadata": {},
   "outputs": [
    {
     "data": {
      "text/plain": [
       "price           0\n",
       "model_year      0\n",
       "model           0\n",
       "condition       0\n",
       "cylinders       0\n",
       "fuel            0\n",
       "odometer        0\n",
       "transmission    0\n",
       "type            0\n",
       "paint_color     0\n",
       "is_4wd          0\n",
       "date_posted     0\n",
       "days_listed     0\n",
       "dtype: int64"
      ]
     },
     "execution_count": 22,
     "metadata": {},
     "output_type": "execute_result"
    }
   ],
   "source": [
    "car_ads.isnull().sum()"
   ]
  },
  {
   "cell_type": "markdown",
   "metadata": {},
   "source": [
    "<div class=\"alert alert-block alert-warning\">\n",
    "   <h2>Reviewer's commentary <a class=\"tocSkip\"></h2>\n",
    "    <br/>\n",
    "<b>Remarks and recommendations📌:</b> \n",
    "\n",
    "Itay, ok, you preprocessed the missing values in your data, ok, as a whole I can agree with your strategy, but leave some recommendations about filling of missing values in columns odometer, cylinders, model_year, and price columns. \n",
    "    \n",
    "    \n",
    "Columns you have tried to preprocess have numeric data, so we can study their correlation with the categorical variables from the dataset.\n",
    "\n",
    "It would be reasonable to assume that the mileage and price correlate with the condition of the vehicle, and the number of cylinders and year with its model. And we can replace missing values with the medians, grouping the data by these parameters.\n",
    "    \n",
    "One more way is to build the correlation matrix, check what factors are correlated and fill in the missing values based on correlation and grouping methods.\n",
    "    \n",
    "Filling in missing values with simply a median or mean by a column is a rather risky strategy and is only acceptable for cases where no more than 10% of the data is missing in our dataframe. The risk is that such an approach can lead to distortion of the initial data and, as a result, we will get a biased estimate based on the analysis results.\n",
    "    \n",
    "Remember, that it is important not only to fill in the missing values using some method, but also to give arguments why this particular method in this particular case is adequate and correct. And it is better to connect the strategy you choose for filling in missing values with the hypotheses about why there are missing values in the data, why they occur."
   ]
  },
  {
   "cell_type": "markdown",
   "metadata": {},
   "source": [
    "**Checking for anomalies** \n"
   ]
  },
  {
   "cell_type": "code",
   "execution_count": 23,
   "metadata": {},
   "outputs": [
    {
     "data": {
      "text/plain": [
       "0"
      ]
     },
     "execution_count": 23,
     "metadata": {},
     "output_type": "execute_result"
    }
   ],
   "source": [
    "# checking for duplicates\n",
    "car_ads.duplicated().sum() # 0"
   ]
  },
  {
   "cell_type": "markdown",
   "metadata": {},
   "source": [
    "**Changing data types**\n",
    "\n",
    "Types:\n",
    "* modal year float => int\n",
    "* cylinders float => int\n",
    "* odometer floar => int\n",
    "* is_4wd float => boolean\n",
    "* date_posted string => datetime"
   ]
  },
  {
   "cell_type": "code",
   "execution_count": 24,
   "metadata": {},
   "outputs": [
    {
     "name": "stdout",
     "output_type": "stream",
     "text": [
      "<class 'pandas.core.frame.DataFrame'>\n",
      "RangeIndex: 51525 entries, 0 to 51524\n",
      "Data columns (total 13 columns):\n",
      "price           51525 non-null int64\n",
      "model_year      51525 non-null int64\n",
      "model           51525 non-null object\n",
      "condition       51525 non-null object\n",
      "cylinders       51525 non-null int64\n",
      "fuel            51525 non-null object\n",
      "odometer        51525 non-null int64\n",
      "transmission    51525 non-null object\n",
      "type            51525 non-null object\n",
      "paint_color     51525 non-null object\n",
      "is_4wd          51525 non-null bool\n",
      "date_posted     51525 non-null object\n",
      "days_listed     51525 non-null int64\n",
      "dtypes: bool(1), int64(5), object(7)\n",
      "memory usage: 4.8+ MB\n"
     ]
    }
   ],
   "source": [
    "car_ads = car_ads.astype({\n",
    "    'model_year':'int64', \n",
    "    'cylinders':'int64', \n",
    "    'odometer':'int64',\n",
    "    'is_4wd':'bool',\n",
    "})\n",
    "\n",
    "car_ads.info()"
   ]
  },
  {
   "cell_type": "code",
   "execution_count": 25,
   "metadata": {},
   "outputs": [
    {
     "name": "stdout",
     "output_type": "stream",
     "text": [
      "<class 'pandas.core.frame.DataFrame'>\n",
      "RangeIndex: 51525 entries, 0 to 51524\n",
      "Data columns (total 13 columns):\n",
      "price           51525 non-null int64\n",
      "model_year      51525 non-null int64\n",
      "model           51525 non-null object\n",
      "condition       51525 non-null object\n",
      "cylinders       51525 non-null int64\n",
      "fuel            51525 non-null object\n",
      "odometer        51525 non-null int64\n",
      "transmission    51525 non-null object\n",
      "type            51525 non-null object\n",
      "paint_color     51525 non-null object\n",
      "is_4wd          51525 non-null bool\n",
      "date_posted     51525 non-null datetime64[ns]\n",
      "days_listed     51525 non-null int64\n",
      "dtypes: bool(1), datetime64[ns](1), int64(5), object(6)\n",
      "memory usage: 4.8+ MB\n"
     ]
    }
   ],
   "source": [
    "car_ads['date_posted'] = pd.to_datetime(car_ads['date_posted'], format='%Y-%m-%d')\n",
    "car_ads.info()"
   ]
  },
  {
   "cell_type": "markdown",
   "metadata": {},
   "source": [
    "<div class=\"alert alert-block alert-success\">\n",
    "    <h2>Reviewer's commentary <a class=\"tocSkip\"></h2>\n",
    "    <br/>\n",
    "<b>Well done!👍:</b> \n",
    "        \n",
    "Ok, data types are changed correctly!"
   ]
  },
  {
   "cell_type": "markdown",
   "metadata": {},
   "source": [
    "**Preprocessing conculsions:**\n",
    "\n",
    "* There are some weird prices , very low(1) # treat it like an na maybe filter it\n",
    "* Zero values in the odometer\n",
    "\n",
    "The rest of the data looks fine."
   ]
  },
  {
   "cell_type": "markdown",
   "metadata": {},
   "source": [
    "## Make calculations and add them to the table"
   ]
  },
  {
   "cell_type": "markdown",
   "metadata": {},
   "source": [
    "Add weekday\n",
    "Add Month"
   ]
  },
  {
   "cell_type": "code",
   "execution_count": 26,
   "metadata": {},
   "outputs": [
    {
     "data": {
      "text/html": [
       "<div>\n",
       "<style scoped>\n",
       "    .dataframe tbody tr th:only-of-type {\n",
       "        vertical-align: middle;\n",
       "    }\n",
       "\n",
       "    .dataframe tbody tr th {\n",
       "        vertical-align: top;\n",
       "    }\n",
       "\n",
       "    .dataframe thead th {\n",
       "        text-align: right;\n",
       "    }\n",
       "</style>\n",
       "<table border=\"1\" class=\"dataframe\">\n",
       "  <thead>\n",
       "    <tr style=\"text-align: right;\">\n",
       "      <th></th>\n",
       "      <th>price</th>\n",
       "      <th>model_year</th>\n",
       "      <th>model</th>\n",
       "      <th>condition</th>\n",
       "      <th>cylinders</th>\n",
       "      <th>fuel</th>\n",
       "      <th>odometer</th>\n",
       "      <th>transmission</th>\n",
       "      <th>type</th>\n",
       "      <th>paint_color</th>\n",
       "      <th>is_4wd</th>\n",
       "      <th>date_posted</th>\n",
       "      <th>days_listed</th>\n",
       "      <th>weekday_posted</th>\n",
       "      <th>month_posted</th>\n",
       "      <th>year_posted</th>\n",
       "    </tr>\n",
       "  </thead>\n",
       "  <tbody>\n",
       "    <tr>\n",
       "      <td>0</td>\n",
       "      <td>9400</td>\n",
       "      <td>2011</td>\n",
       "      <td>bmw x5</td>\n",
       "      <td>good</td>\n",
       "      <td>6</td>\n",
       "      <td>gas</td>\n",
       "      <td>145000</td>\n",
       "      <td>automatic</td>\n",
       "      <td>SUV</td>\n",
       "      <td>other</td>\n",
       "      <td>True</td>\n",
       "      <td>2018-06-23</td>\n",
       "      <td>19</td>\n",
       "      <td>5</td>\n",
       "      <td>6</td>\n",
       "      <td>2018</td>\n",
       "    </tr>\n",
       "    <tr>\n",
       "      <td>1</td>\n",
       "      <td>25500</td>\n",
       "      <td>2011</td>\n",
       "      <td>ford f-150</td>\n",
       "      <td>good</td>\n",
       "      <td>6</td>\n",
       "      <td>gas</td>\n",
       "      <td>88705</td>\n",
       "      <td>automatic</td>\n",
       "      <td>pickup</td>\n",
       "      <td>white</td>\n",
       "      <td>True</td>\n",
       "      <td>2018-10-19</td>\n",
       "      <td>50</td>\n",
       "      <td>4</td>\n",
       "      <td>10</td>\n",
       "      <td>2018</td>\n",
       "    </tr>\n",
       "    <tr>\n",
       "      <td>2</td>\n",
       "      <td>5500</td>\n",
       "      <td>2013</td>\n",
       "      <td>hyundai sonata</td>\n",
       "      <td>like new</td>\n",
       "      <td>4</td>\n",
       "      <td>gas</td>\n",
       "      <td>110000</td>\n",
       "      <td>automatic</td>\n",
       "      <td>sedan</td>\n",
       "      <td>red</td>\n",
       "      <td>False</td>\n",
       "      <td>2019-02-07</td>\n",
       "      <td>79</td>\n",
       "      <td>3</td>\n",
       "      <td>2</td>\n",
       "      <td>2019</td>\n",
       "    </tr>\n",
       "    <tr>\n",
       "      <td>3</td>\n",
       "      <td>1500</td>\n",
       "      <td>2003</td>\n",
       "      <td>ford f-150</td>\n",
       "      <td>fair</td>\n",
       "      <td>8</td>\n",
       "      <td>gas</td>\n",
       "      <td>161397</td>\n",
       "      <td>automatic</td>\n",
       "      <td>pickup</td>\n",
       "      <td>other</td>\n",
       "      <td>False</td>\n",
       "      <td>2019-03-22</td>\n",
       "      <td>9</td>\n",
       "      <td>4</td>\n",
       "      <td>3</td>\n",
       "      <td>2019</td>\n",
       "    </tr>\n",
       "    <tr>\n",
       "      <td>4</td>\n",
       "      <td>14900</td>\n",
       "      <td>2017</td>\n",
       "      <td>chrysler 200</td>\n",
       "      <td>excellent</td>\n",
       "      <td>4</td>\n",
       "      <td>gas</td>\n",
       "      <td>80903</td>\n",
       "      <td>automatic</td>\n",
       "      <td>sedan</td>\n",
       "      <td>black</td>\n",
       "      <td>False</td>\n",
       "      <td>2019-04-02</td>\n",
       "      <td>28</td>\n",
       "      <td>1</td>\n",
       "      <td>4</td>\n",
       "      <td>2019</td>\n",
       "    </tr>\n",
       "    <tr>\n",
       "      <td>...</td>\n",
       "      <td>...</td>\n",
       "      <td>...</td>\n",
       "      <td>...</td>\n",
       "      <td>...</td>\n",
       "      <td>...</td>\n",
       "      <td>...</td>\n",
       "      <td>...</td>\n",
       "      <td>...</td>\n",
       "      <td>...</td>\n",
       "      <td>...</td>\n",
       "      <td>...</td>\n",
       "      <td>...</td>\n",
       "      <td>...</td>\n",
       "      <td>...</td>\n",
       "      <td>...</td>\n",
       "      <td>...</td>\n",
       "    </tr>\n",
       "    <tr>\n",
       "      <td>51520</td>\n",
       "      <td>9249</td>\n",
       "      <td>2013</td>\n",
       "      <td>nissan maxima</td>\n",
       "      <td>like new</td>\n",
       "      <td>6</td>\n",
       "      <td>gas</td>\n",
       "      <td>88136</td>\n",
       "      <td>automatic</td>\n",
       "      <td>sedan</td>\n",
       "      <td>black</td>\n",
       "      <td>False</td>\n",
       "      <td>2018-10-03</td>\n",
       "      <td>37</td>\n",
       "      <td>2</td>\n",
       "      <td>10</td>\n",
       "      <td>2018</td>\n",
       "    </tr>\n",
       "    <tr>\n",
       "      <td>51521</td>\n",
       "      <td>2700</td>\n",
       "      <td>2002</td>\n",
       "      <td>honda civic</td>\n",
       "      <td>salvage</td>\n",
       "      <td>4</td>\n",
       "      <td>gas</td>\n",
       "      <td>181500</td>\n",
       "      <td>automatic</td>\n",
       "      <td>sedan</td>\n",
       "      <td>white</td>\n",
       "      <td>False</td>\n",
       "      <td>2018-11-14</td>\n",
       "      <td>22</td>\n",
       "      <td>2</td>\n",
       "      <td>11</td>\n",
       "      <td>2018</td>\n",
       "    </tr>\n",
       "    <tr>\n",
       "      <td>51522</td>\n",
       "      <td>3950</td>\n",
       "      <td>2009</td>\n",
       "      <td>hyundai sonata</td>\n",
       "      <td>excellent</td>\n",
       "      <td>4</td>\n",
       "      <td>gas</td>\n",
       "      <td>128000</td>\n",
       "      <td>automatic</td>\n",
       "      <td>sedan</td>\n",
       "      <td>blue</td>\n",
       "      <td>False</td>\n",
       "      <td>2018-11-15</td>\n",
       "      <td>32</td>\n",
       "      <td>3</td>\n",
       "      <td>11</td>\n",
       "      <td>2018</td>\n",
       "    </tr>\n",
       "    <tr>\n",
       "      <td>51523</td>\n",
       "      <td>7455</td>\n",
       "      <td>2013</td>\n",
       "      <td>toyota corolla</td>\n",
       "      <td>good</td>\n",
       "      <td>4</td>\n",
       "      <td>gas</td>\n",
       "      <td>139573</td>\n",
       "      <td>automatic</td>\n",
       "      <td>sedan</td>\n",
       "      <td>black</td>\n",
       "      <td>False</td>\n",
       "      <td>2018-07-02</td>\n",
       "      <td>71</td>\n",
       "      <td>0</td>\n",
       "      <td>7</td>\n",
       "      <td>2018</td>\n",
       "    </tr>\n",
       "    <tr>\n",
       "      <td>51524</td>\n",
       "      <td>6300</td>\n",
       "      <td>2014</td>\n",
       "      <td>nissan altima</td>\n",
       "      <td>good</td>\n",
       "      <td>4</td>\n",
       "      <td>gas</td>\n",
       "      <td>90000</td>\n",
       "      <td>automatic</td>\n",
       "      <td>sedan</td>\n",
       "      <td>other</td>\n",
       "      <td>False</td>\n",
       "      <td>2018-06-05</td>\n",
       "      <td>10</td>\n",
       "      <td>1</td>\n",
       "      <td>6</td>\n",
       "      <td>2018</td>\n",
       "    </tr>\n",
       "  </tbody>\n",
       "</table>\n",
       "<p>51525 rows × 16 columns</p>\n",
       "</div>"
      ],
      "text/plain": [
       "       price  model_year           model  condition  cylinders fuel  odometer  \\\n",
       "0       9400        2011          bmw x5       good          6  gas    145000   \n",
       "1      25500        2011      ford f-150       good          6  gas     88705   \n",
       "2       5500        2013  hyundai sonata   like new          4  gas    110000   \n",
       "3       1500        2003      ford f-150       fair          8  gas    161397   \n",
       "4      14900        2017    chrysler 200  excellent          4  gas     80903   \n",
       "...      ...         ...             ...        ...        ...  ...       ...   \n",
       "51520   9249        2013   nissan maxima   like new          6  gas     88136   \n",
       "51521   2700        2002     honda civic    salvage          4  gas    181500   \n",
       "51522   3950        2009  hyundai sonata  excellent          4  gas    128000   \n",
       "51523   7455        2013  toyota corolla       good          4  gas    139573   \n",
       "51524   6300        2014   nissan altima       good          4  gas     90000   \n",
       "\n",
       "      transmission    type paint_color  is_4wd date_posted  days_listed  \\\n",
       "0        automatic     SUV       other    True  2018-06-23           19   \n",
       "1        automatic  pickup       white    True  2018-10-19           50   \n",
       "2        automatic   sedan         red   False  2019-02-07           79   \n",
       "3        automatic  pickup       other   False  2019-03-22            9   \n",
       "4        automatic   sedan       black   False  2019-04-02           28   \n",
       "...            ...     ...         ...     ...         ...          ...   \n",
       "51520    automatic   sedan       black   False  2018-10-03           37   \n",
       "51521    automatic   sedan       white   False  2018-11-14           22   \n",
       "51522    automatic   sedan        blue   False  2018-11-15           32   \n",
       "51523    automatic   sedan       black   False  2018-07-02           71   \n",
       "51524    automatic   sedan       other   False  2018-06-05           10   \n",
       "\n",
       "       weekday_posted  month_posted  year_posted  \n",
       "0                   5             6         2018  \n",
       "1                   4            10         2018  \n",
       "2                   3             2         2019  \n",
       "3                   4             3         2019  \n",
       "4                   1             4         2019  \n",
       "...               ...           ...          ...  \n",
       "51520               2            10         2018  \n",
       "51521               2            11         2018  \n",
       "51522               3            11         2018  \n",
       "51523               0             7         2018  \n",
       "51524               1             6         2018  \n",
       "\n",
       "[51525 rows x 16 columns]"
      ]
     },
     "execution_count": 26,
     "metadata": {},
     "output_type": "execute_result"
    }
   ],
   "source": [
    "car_ads['weekday_posted'] = car_ads['date_posted'].dt.weekday\n",
    "car_ads['month_posted'] = car_ads['date_posted'].dt.month\n",
    "car_ads['year_posted'] = car_ads['date_posted'].dt.year\n",
    "car_ads"
   ]
  },
  {
   "cell_type": "markdown",
   "metadata": {},
   "source": [
    "**To Arina:**\n",
    "\n",
    "I prefer numeric since it allows easier processing.\n",
    "I can sort more easily."
   ]
  },
  {
   "cell_type": "markdown",
   "metadata": {},
   "source": [
    "<div class=\"alert alert-block alert-warning\">\n",
    "   <h2>Reviewer's commentary <a class=\"tocSkip\"> </h2>\n",
    "    <br/>\n",
    "<b>Remarks and recommendations📌:</b> \n",
    "\n",
    "       \n",
    "Pandas library allows to add the month, year and weekday using methods like  `day_name()` и `month_day()`.\n",
    "    \n",
    "More information here:\n",
    "    \n",
    "https://www.geeksforgeeks.org/python-pandas-series-dt-day_name/\n",
    "    \n",
    "https://pandas.pydata.org/pandas-docs/stable/reference/api/pandas.Series.dt.day_name.html\n",
    "    \n",
    "https://pandas.pydata.org/pandas-docs/stable/reference/api/pandas.Series.dt.month_name.html\n",
    "    \n",
    "https://www.geeksforgeeks.org/python-pandas-series-dt-month_name/"
   ]
  },
  {
   "cell_type": "markdown",
   "metadata": {},
   "source": [
    "<div class=\"alert alert-block alert-success\">\n",
    "    <h2>Reviewer's commentary: second iteration of the review <a class=\"tocSkip\"> </h2>\n",
    "    <br/>\n",
    "<b>Well done!👍:</b> \n",
    "        \n",
    "Itay, ok, you decision is correct too, these methods as alternative ones:)"
   ]
  },
  {
   "cell_type": "markdown",
   "metadata": {},
   "source": [
    "**Calculate car age**"
   ]
  },
  {
   "cell_type": "code",
   "execution_count": 27,
   "metadata": {},
   "outputs": [],
   "source": [
    "car_ads['car_age'] = car_ads['year_posted'] - car_ads['model_year']"
   ]
  },
  {
   "cell_type": "markdown",
   "metadata": {},
   "source": [
    "**Calcualte car avarege mileage per year**"
   ]
  },
  {
   "cell_type": "code",
   "execution_count": 28,
   "metadata": {},
   "outputs": [],
   "source": [
    "def calculate_mileage(row):\n",
    "    if row['car_age'] == 0:\n",
    "        return row['odometer']\n",
    "    return row['odometer'] / row['car_age']"
   ]
  },
  {
   "cell_type": "code",
   "execution_count": 29,
   "metadata": {},
   "outputs": [
    {
     "data": {
      "text/html": [
       "<div>\n",
       "<style scoped>\n",
       "    .dataframe tbody tr th:only-of-type {\n",
       "        vertical-align: middle;\n",
       "    }\n",
       "\n",
       "    .dataframe tbody tr th {\n",
       "        vertical-align: top;\n",
       "    }\n",
       "\n",
       "    .dataframe thead th {\n",
       "        text-align: right;\n",
       "    }\n",
       "</style>\n",
       "<table border=\"1\" class=\"dataframe\">\n",
       "  <thead>\n",
       "    <tr style=\"text-align: right;\">\n",
       "      <th></th>\n",
       "      <th>price</th>\n",
       "      <th>model_year</th>\n",
       "      <th>model</th>\n",
       "      <th>condition</th>\n",
       "      <th>cylinders</th>\n",
       "      <th>fuel</th>\n",
       "      <th>odometer</th>\n",
       "      <th>transmission</th>\n",
       "      <th>type</th>\n",
       "      <th>paint_color</th>\n",
       "      <th>is_4wd</th>\n",
       "      <th>date_posted</th>\n",
       "      <th>days_listed</th>\n",
       "      <th>weekday_posted</th>\n",
       "      <th>month_posted</th>\n",
       "      <th>year_posted</th>\n",
       "      <th>car_age</th>\n",
       "      <th>mileage</th>\n",
       "    </tr>\n",
       "  </thead>\n",
       "  <tbody>\n",
       "    <tr>\n",
       "      <td>0</td>\n",
       "      <td>9400</td>\n",
       "      <td>2011</td>\n",
       "      <td>bmw x5</td>\n",
       "      <td>good</td>\n",
       "      <td>6</td>\n",
       "      <td>gas</td>\n",
       "      <td>145000</td>\n",
       "      <td>automatic</td>\n",
       "      <td>SUV</td>\n",
       "      <td>other</td>\n",
       "      <td>True</td>\n",
       "      <td>2018-06-23</td>\n",
       "      <td>19</td>\n",
       "      <td>5</td>\n",
       "      <td>6</td>\n",
       "      <td>2018</td>\n",
       "      <td>7</td>\n",
       "      <td>20714.285714</td>\n",
       "    </tr>\n",
       "    <tr>\n",
       "      <td>1</td>\n",
       "      <td>25500</td>\n",
       "      <td>2011</td>\n",
       "      <td>ford f-150</td>\n",
       "      <td>good</td>\n",
       "      <td>6</td>\n",
       "      <td>gas</td>\n",
       "      <td>88705</td>\n",
       "      <td>automatic</td>\n",
       "      <td>pickup</td>\n",
       "      <td>white</td>\n",
       "      <td>True</td>\n",
       "      <td>2018-10-19</td>\n",
       "      <td>50</td>\n",
       "      <td>4</td>\n",
       "      <td>10</td>\n",
       "      <td>2018</td>\n",
       "      <td>7</td>\n",
       "      <td>12672.142857</td>\n",
       "    </tr>\n",
       "    <tr>\n",
       "      <td>2</td>\n",
       "      <td>5500</td>\n",
       "      <td>2013</td>\n",
       "      <td>hyundai sonata</td>\n",
       "      <td>like new</td>\n",
       "      <td>4</td>\n",
       "      <td>gas</td>\n",
       "      <td>110000</td>\n",
       "      <td>automatic</td>\n",
       "      <td>sedan</td>\n",
       "      <td>red</td>\n",
       "      <td>False</td>\n",
       "      <td>2019-02-07</td>\n",
       "      <td>79</td>\n",
       "      <td>3</td>\n",
       "      <td>2</td>\n",
       "      <td>2019</td>\n",
       "      <td>6</td>\n",
       "      <td>18333.333333</td>\n",
       "    </tr>\n",
       "    <tr>\n",
       "      <td>3</td>\n",
       "      <td>1500</td>\n",
       "      <td>2003</td>\n",
       "      <td>ford f-150</td>\n",
       "      <td>fair</td>\n",
       "      <td>8</td>\n",
       "      <td>gas</td>\n",
       "      <td>161397</td>\n",
       "      <td>automatic</td>\n",
       "      <td>pickup</td>\n",
       "      <td>other</td>\n",
       "      <td>False</td>\n",
       "      <td>2019-03-22</td>\n",
       "      <td>9</td>\n",
       "      <td>4</td>\n",
       "      <td>3</td>\n",
       "      <td>2019</td>\n",
       "      <td>16</td>\n",
       "      <td>10087.312500</td>\n",
       "    </tr>\n",
       "    <tr>\n",
       "      <td>4</td>\n",
       "      <td>14900</td>\n",
       "      <td>2017</td>\n",
       "      <td>chrysler 200</td>\n",
       "      <td>excellent</td>\n",
       "      <td>4</td>\n",
       "      <td>gas</td>\n",
       "      <td>80903</td>\n",
       "      <td>automatic</td>\n",
       "      <td>sedan</td>\n",
       "      <td>black</td>\n",
       "      <td>False</td>\n",
       "      <td>2019-04-02</td>\n",
       "      <td>28</td>\n",
       "      <td>1</td>\n",
       "      <td>4</td>\n",
       "      <td>2019</td>\n",
       "      <td>2</td>\n",
       "      <td>40451.500000</td>\n",
       "    </tr>\n",
       "    <tr>\n",
       "      <td>...</td>\n",
       "      <td>...</td>\n",
       "      <td>...</td>\n",
       "      <td>...</td>\n",
       "      <td>...</td>\n",
       "      <td>...</td>\n",
       "      <td>...</td>\n",
       "      <td>...</td>\n",
       "      <td>...</td>\n",
       "      <td>...</td>\n",
       "      <td>...</td>\n",
       "      <td>...</td>\n",
       "      <td>...</td>\n",
       "      <td>...</td>\n",
       "      <td>...</td>\n",
       "      <td>...</td>\n",
       "      <td>...</td>\n",
       "      <td>...</td>\n",
       "      <td>...</td>\n",
       "    </tr>\n",
       "    <tr>\n",
       "      <td>51520</td>\n",
       "      <td>9249</td>\n",
       "      <td>2013</td>\n",
       "      <td>nissan maxima</td>\n",
       "      <td>like new</td>\n",
       "      <td>6</td>\n",
       "      <td>gas</td>\n",
       "      <td>88136</td>\n",
       "      <td>automatic</td>\n",
       "      <td>sedan</td>\n",
       "      <td>black</td>\n",
       "      <td>False</td>\n",
       "      <td>2018-10-03</td>\n",
       "      <td>37</td>\n",
       "      <td>2</td>\n",
       "      <td>10</td>\n",
       "      <td>2018</td>\n",
       "      <td>5</td>\n",
       "      <td>17627.200000</td>\n",
       "    </tr>\n",
       "    <tr>\n",
       "      <td>51521</td>\n",
       "      <td>2700</td>\n",
       "      <td>2002</td>\n",
       "      <td>honda civic</td>\n",
       "      <td>salvage</td>\n",
       "      <td>4</td>\n",
       "      <td>gas</td>\n",
       "      <td>181500</td>\n",
       "      <td>automatic</td>\n",
       "      <td>sedan</td>\n",
       "      <td>white</td>\n",
       "      <td>False</td>\n",
       "      <td>2018-11-14</td>\n",
       "      <td>22</td>\n",
       "      <td>2</td>\n",
       "      <td>11</td>\n",
       "      <td>2018</td>\n",
       "      <td>16</td>\n",
       "      <td>11343.750000</td>\n",
       "    </tr>\n",
       "    <tr>\n",
       "      <td>51522</td>\n",
       "      <td>3950</td>\n",
       "      <td>2009</td>\n",
       "      <td>hyundai sonata</td>\n",
       "      <td>excellent</td>\n",
       "      <td>4</td>\n",
       "      <td>gas</td>\n",
       "      <td>128000</td>\n",
       "      <td>automatic</td>\n",
       "      <td>sedan</td>\n",
       "      <td>blue</td>\n",
       "      <td>False</td>\n",
       "      <td>2018-11-15</td>\n",
       "      <td>32</td>\n",
       "      <td>3</td>\n",
       "      <td>11</td>\n",
       "      <td>2018</td>\n",
       "      <td>9</td>\n",
       "      <td>14222.222222</td>\n",
       "    </tr>\n",
       "    <tr>\n",
       "      <td>51523</td>\n",
       "      <td>7455</td>\n",
       "      <td>2013</td>\n",
       "      <td>toyota corolla</td>\n",
       "      <td>good</td>\n",
       "      <td>4</td>\n",
       "      <td>gas</td>\n",
       "      <td>139573</td>\n",
       "      <td>automatic</td>\n",
       "      <td>sedan</td>\n",
       "      <td>black</td>\n",
       "      <td>False</td>\n",
       "      <td>2018-07-02</td>\n",
       "      <td>71</td>\n",
       "      <td>0</td>\n",
       "      <td>7</td>\n",
       "      <td>2018</td>\n",
       "      <td>5</td>\n",
       "      <td>27914.600000</td>\n",
       "    </tr>\n",
       "    <tr>\n",
       "      <td>51524</td>\n",
       "      <td>6300</td>\n",
       "      <td>2014</td>\n",
       "      <td>nissan altima</td>\n",
       "      <td>good</td>\n",
       "      <td>4</td>\n",
       "      <td>gas</td>\n",
       "      <td>90000</td>\n",
       "      <td>automatic</td>\n",
       "      <td>sedan</td>\n",
       "      <td>other</td>\n",
       "      <td>False</td>\n",
       "      <td>2018-06-05</td>\n",
       "      <td>10</td>\n",
       "      <td>1</td>\n",
       "      <td>6</td>\n",
       "      <td>2018</td>\n",
       "      <td>4</td>\n",
       "      <td>22500.000000</td>\n",
       "    </tr>\n",
       "  </tbody>\n",
       "</table>\n",
       "<p>51525 rows × 18 columns</p>\n",
       "</div>"
      ],
      "text/plain": [
       "       price  model_year           model  condition  cylinders fuel  odometer  \\\n",
       "0       9400        2011          bmw x5       good          6  gas    145000   \n",
       "1      25500        2011      ford f-150       good          6  gas     88705   \n",
       "2       5500        2013  hyundai sonata   like new          4  gas    110000   \n",
       "3       1500        2003      ford f-150       fair          8  gas    161397   \n",
       "4      14900        2017    chrysler 200  excellent          4  gas     80903   \n",
       "...      ...         ...             ...        ...        ...  ...       ...   \n",
       "51520   9249        2013   nissan maxima   like new          6  gas     88136   \n",
       "51521   2700        2002     honda civic    salvage          4  gas    181500   \n",
       "51522   3950        2009  hyundai sonata  excellent          4  gas    128000   \n",
       "51523   7455        2013  toyota corolla       good          4  gas    139573   \n",
       "51524   6300        2014   nissan altima       good          4  gas     90000   \n",
       "\n",
       "      transmission    type paint_color  is_4wd date_posted  days_listed  \\\n",
       "0        automatic     SUV       other    True  2018-06-23           19   \n",
       "1        automatic  pickup       white    True  2018-10-19           50   \n",
       "2        automatic   sedan         red   False  2019-02-07           79   \n",
       "3        automatic  pickup       other   False  2019-03-22            9   \n",
       "4        automatic   sedan       black   False  2019-04-02           28   \n",
       "...            ...     ...         ...     ...         ...          ...   \n",
       "51520    automatic   sedan       black   False  2018-10-03           37   \n",
       "51521    automatic   sedan       white   False  2018-11-14           22   \n",
       "51522    automatic   sedan        blue   False  2018-11-15           32   \n",
       "51523    automatic   sedan       black   False  2018-07-02           71   \n",
       "51524    automatic   sedan       other   False  2018-06-05           10   \n",
       "\n",
       "       weekday_posted  month_posted  year_posted  car_age       mileage  \n",
       "0                   5             6         2018        7  20714.285714  \n",
       "1                   4            10         2018        7  12672.142857  \n",
       "2                   3             2         2019        6  18333.333333  \n",
       "3                   4             3         2019       16  10087.312500  \n",
       "4                   1             4         2019        2  40451.500000  \n",
       "...               ...           ...          ...      ...           ...  \n",
       "51520               2            10         2018        5  17627.200000  \n",
       "51521               2            11         2018       16  11343.750000  \n",
       "51522               3            11         2018        9  14222.222222  \n",
       "51523               0             7         2018        5  27914.600000  \n",
       "51524               1             6         2018        4  22500.000000  \n",
       "\n",
       "[51525 rows x 18 columns]"
      ]
     },
     "execution_count": 29,
     "metadata": {},
     "output_type": "execute_result"
    }
   ],
   "source": [
    "car_ads['mileage'] = car_ads.apply(calculate_mileage, axis=1)\n",
    "car_ads"
   ]
  },
  {
   "cell_type": "markdown",
   "metadata": {},
   "source": [
    "**Replace string condition with numeric value**\n"
   ]
  },
  {
   "cell_type": "code",
   "execution_count": 30,
   "metadata": {},
   "outputs": [
    {
     "name": "stdout",
     "output_type": "stream",
     "text": [
      "excellent    24773\n",
      "good         20145\n",
      "like new      4742\n",
      "fair          1607\n",
      "new            143\n",
      "salvage        115\n",
      "Name: condition, dtype: int64\n"
     ]
    }
   ],
   "source": [
    "print(car_ads['condition'].value_counts())\n",
    "\n",
    "def change_condition(row):\n",
    "    condition = row['condition']\n",
    "    if condition == 'new':\n",
    "        return 0\n",
    "    if condition == 'like new':\n",
    "        return 1\n",
    "    if condition == 'excellent':\n",
    "        return 2\n",
    "    if condition == 'good':\n",
    "        return 3\n",
    "    if condition == 'fair':\n",
    "        return 4\n",
    "    if condition == 'salvage':\n",
    "        return 5\n",
    "    "
   ]
  },
  {
   "cell_type": "code",
   "execution_count": 31,
   "metadata": {},
   "outputs": [],
   "source": [
    "car_ads['condition'] = car_ads.apply(change_condition, axis=1)"
   ]
  },
  {
   "cell_type": "code",
   "execution_count": 32,
   "metadata": {},
   "outputs": [
    {
     "data": {
      "text/plain": [
       "2    24773\n",
       "3    20145\n",
       "1     4742\n",
       "4     1607\n",
       "0      143\n",
       "5      115\n",
       "Name: condition, dtype: int64"
      ]
     },
     "execution_count": 32,
     "metadata": {},
     "output_type": "execute_result"
    }
   ],
   "source": [
    "car_ads['condition'].value_counts()"
   ]
  },
  {
   "cell_type": "markdown",
   "metadata": {},
   "source": [
    "<div class=\"alert alert-block alert-success\">\n",
    "    <h2>Reviewer's commentary <a class=\"tocSkip\"></h2>\n",
    "    <br/>\n",
    "<b>Well done!👍:</b> \n",
    "        \n",
    "Ok, Itay, all calculations are correct, agree with your decision at this step of the analysis. It is great that you wrote your own functions, keep it up!"
   ]
  },
  {
   "cell_type": "markdown",
   "metadata": {},
   "source": [
    "## Carry out exploratory data analysis"
   ]
  },
  {
   "cell_type": "markdown",
   "metadata": {},
   "source": [
    "Study the following parameters: \n",
    "\n",
    "price, \n",
    "\n",
    "vehicle's age when the ad was placed, \n",
    "\n",
    "mileage, \n",
    "\n",
    "number of cylinders,\n",
    "\n",
    "and condition. \n",
    "\n",
    "Plot histograms for each of these parameters. Study how outliers affect the form and readability of the histograms."
   ]
  },
  {
   "cell_type": "code",
   "execution_count": 33,
   "metadata": {},
   "outputs": [
    {
     "data": {
      "image/png": "[encoded data removed]",
      "text/plain": [
       "<Figure size 432x288 with 1 Axes>"
      ]
     },
     "metadata": {
      "needs_background": "light"
     },
     "output_type": "display_data"
    }
   ],
   "source": [
    "# Price \n",
    "# car_ads.hist('price', bins=100, range=(0,10000))\n",
    "# car_ads.hist('price', bins=100, range=(10000, 20000))\n",
    "# car_ads.hist('price', bins=100, range=(10000, 100000))\n",
    "car_ads.hist('price', bins=300);"
   ]
  },
  {
   "cell_type": "code",
   "execution_count": 34,
   "metadata": {},
   "outputs": [
    {
     "data": {
      "text/plain": [
       "Text(0, 0.5, 'freq')"
      ]
     },
     "execution_count": 34,
     "metadata": {},
     "output_type": "execute_result"
    },
    {
     "data": {
      "image/png": "[encoded data removed]",
      "text/plain": [
       "<Figure size 432x288 with 1 Axes>"
      ]
     },
     "metadata": {
      "needs_background": "light"
     },
     "output_type": "display_data"
    }
   ],
   "source": [
    "# Car age\n",
    "# car_ads.hist('car_age', bins=100, range=(0,30)) # very large spike at age 7 \n",
    "# car_ads.hist('car_age', bins=100, range=(10,20))\n",
    "# car_ads.hist('car_age', bins=100, range=(10,40))\n",
    "# car_ads.hist('price', bins=100, range=(10000, 100000))\n",
    "car_ads.hist('car_age', bins=200);\n",
    "\n",
    "plt.title('car ads')\n",
    "plt.xlabel(\"age\")\n",
    "plt.ylabel(\"freq\")\n",
    "# add the common titles and x and y axis labels to all the graphs in your project"
   ]
  },
  {
   "cell_type": "markdown",
   "metadata": {},
   "source": [
    "<div class=\"alert alert-block alert-warning\">\n",
    "   <h2>Reviewer's commentary <a class=\"tocSkip\"> </h2>\n",
    "    <br/>\n",
    "<b>Remarks and recommendations📌:</b> \n",
    "\n",
    "If you use the visualization in your project,  it is better to pay more attention to the formatting and appearance of the plots! Please, add the common titles and x and y axis labels to all the graphs in your project! It is important because it makes it easier to understand and read the visualization especially for the external observer who is not immersed in the specifics of your project! Technical strings like `<matplotlib.axes._subplots.AxesSubplot at 0x7f69fa0023d0>` you can delete using `plt.show()` method \n",
    "       \n",
    "A couple of links about how to add x and y axis labels:\n",
    "        \n",
    "https://www.kite.com/python/answers/how-to-add-axis-labels-to-a-plot-in-matplotlib-in-python\n",
    "        \n",
    "https://stackoverflow.com/questions/12444716/how-do-i-set-the-figure-title-and-axes-labels-font-size-in-matplotlib"
   ]
  },
  {
   "cell_type": "code",
   "execution_count": 35,
   "metadata": {},
   "outputs": [
    {
     "data": {
      "text/plain": [
       "Text(0, 0.5, 'freq')"
      ]
     },
     "execution_count": 35,
     "metadata": {},
     "output_type": "execute_result"
    },
    {
     "data": {
      "image/png": "[encoded data removed]",
      "text/plain": [
       "<Figure size 432x288 with 1 Axes>"
      ]
     },
     "metadata": {
      "needs_background": "light"
     },
     "output_type": "display_data"
    }
   ],
   "source": [
    "# mileage\n",
    "car_ads.hist('odometer', bins=1000)\n",
    "# car_ads.hist('odometer', bins=400, range=(0,40000))\n",
    "car_ads['odometer'].value_counts()\n",
    "\n",
    "plt.title('car ads')\n",
    "plt.xlabel(\"odometer\")\n",
    "plt.ylabel(\"freq\")"
   ]
  },
  {
   "cell_type": "code",
   "execution_count": 36,
   "metadata": {},
   "outputs": [
    {
     "data": {
      "text/plain": [
       "Text(0, 0.5, 'freq')"
      ]
     },
     "execution_count": 36,
     "metadata": {},
     "output_type": "execute_result"
    },
    {
     "data": {
      "image/png": "[encoded data removed]",
      "text/plain": [
       "<Figure size 432x288 with 1 Axes>"
      ]
     },
     "metadata": {
      "needs_background": "light"
     },
     "output_type": "display_data"
    }
   ],
   "source": [
    "# cylinders\n",
    "car_ads.hist('cylinders', bins=13)\n",
    "car_ads['cylinders'].value_counts()\n",
    "\n",
    "plt.title('car ads')\n",
    "plt.xlabel(\"cylinders\")\n",
    "plt.ylabel(\"freq\")"
   ]
  },
  {
   "cell_type": "code",
   "execution_count": 37,
   "metadata": {},
   "outputs": [
    {
     "data": {
      "text/plain": [
       "Text(0, 0.5, 'freq')"
      ]
     },
     "execution_count": 37,
     "metadata": {},
     "output_type": "execute_result"
    },
    {
     "data": {
      "image/png": "[encoded data removed]",
      "text/plain": [
       "<Figure size 432x288 with 1 Axes>"
      ]
     },
     "metadata": {
      "needs_background": "light"
     },
     "output_type": "display_data"
    }
   ],
   "source": [
    "# condition\n",
    "car_ads.hist('condition', bins=13)\n",
    "car_ads['condition'].value_counts()\n",
    "\n",
    "plt.title('car ads')\n",
    "plt.xlabel(\"condition\")\n",
    "plt.ylabel(\"freq\")"
   ]
  },
  {
   "cell_type": "markdown",
   "metadata": {},
   "source": [
    "**Determine the upper limits of outliers**\n",
    "\n",
    "remove the outliers and store them in a separate DataFrame, and continue your work with the filtered data."
   ]
  },
  {
   "cell_type": "code",
   "execution_count": 38,
   "metadata": {},
   "outputs": [],
   "source": [
    "def calc_lower_upper_bounds(df, col_name):\n",
    "    # calculate Q1 and Q3\n",
    "    Q1 = df[col_name].quantile(.25)\n",
    "    Q3 = df[col_name].quantile(.75)\n",
    "\n",
    "    # calculate IQR\n",
    "    IQR = Q3-Q1\n",
    "    # calculate upper and lower bounds for outlier detection\n",
    "    outlier_lower_bound = Q1 - 1.5*IQR\n",
    "    outlier_upper_bound = Q3 + 1.5*IQR\n",
    "\n",
    "    print('Lower bound:', outlier_lower_bound) # don't need this, no value is negative\n",
    "    print('Upper bound:', outlier_upper_bound)\n",
    "    return {'lower_bound':outlier_lower_bound, 'upper_bound':outlier_upper_bound}"
   ]
  },
  {
   "cell_type": "markdown",
   "metadata": {},
   "source": [
    "<div class=\"alert alert-block alert-success\">\n",
    "    <h2>Reviewer's commentary <a class=\"tocSkip\"> </h2>\n",
    "    <br/>\n",
    "<b>Well done!👍:</b> \n",
    "    \n",
    "Ok, Itay, I see that you used the IQR method for deleting the outliers, you can use this method, it is rather effective one for this task! More details about working with the outliers you can find by links:\n",
    "    \n",
    "https://towardsdatascience.com/ways-to-detect-and-remove-the-outliers-404d16608dba\n",
    "    \n",
    "http://colingorrie.github.io/outlier-detection.html#iqr-method\n",
    "    \n",
    "https://statisticsbyjim.com/basics/outliers/"
   ]
  },
  {
   "cell_type": "code",
   "execution_count": 39,
   "metadata": {},
   "outputs": [
    {
     "name": "stdout",
     "output_type": "stream",
     "text": [
      "Lower bound: -12758.5\n",
      "Upper bound: 34597.5\n",
      "-12758.5 34597.5\n",
      "49879\n"
     ]
    }
   ],
   "source": [
    "\n",
    "lower_bound, upper_bound = calc_lower_upper_bounds(car_ads, 'price').values()\n",
    "print(lower_bound, upper_bound)\n",
    "filtered_car_ads = car_ads.query('price < @upper_bound & price > @lower_bound')\n",
    "print(len(filtered_car_ads))"
   ]
  },
  {
   "cell_type": "code",
   "execution_count": 40,
   "metadata": {},
   "outputs": [],
   "source": [
    "filtered_car_ads_price = car_ads.query('price < @upper_bound & price > @lower_bound') "
   ]
  },
  {
   "cell_type": "markdown",
   "metadata": {},
   "source": [
    "**car_age**"
   ]
  },
  {
   "cell_type": "code",
   "execution_count": 41,
   "metadata": {},
   "outputs": [
    {
     "name": "stdout",
     "output_type": "stream",
     "text": [
      "Lower bound: -8.0\n",
      "Upper bound: 24.0\n",
      "-8.0 24.0\n",
      "49025\n"
     ]
    }
   ],
   "source": [
    "lower_bound, upper_bound = calc_lower_upper_bounds(car_ads, 'car_age').values()\n",
    "print(lower_bound, upper_bound)\n",
    "filtered_car_ads = filtered_car_ads.query('car_age < @upper_bound & car_age > @lower_bound')\n",
    "print(len(filtered_car_ads))"
   ]
  },
  {
   "cell_type": "code",
   "execution_count": 42,
   "metadata": {},
   "outputs": [],
   "source": [
    "filtered_car_ads_age = car_ads.query('car_age < @upper_bound & car_age > @lower_bound')"
   ]
  },
  {
   "cell_type": "markdown",
   "metadata": {},
   "source": [
    "**odometer**"
   ]
  },
  {
   "cell_type": "code",
   "execution_count": 43,
   "metadata": {},
   "outputs": [
    {
     "name": "stdout",
     "output_type": "stream",
     "text": [
      "Lower bound: -45543.0\n",
      "Upper bound: 271905.0\n",
      "-45543.0 271905.0\n",
      "48415\n"
     ]
    }
   ],
   "source": [
    "lower_bound, upper_bound = calc_lower_upper_bounds(car_ads, 'odometer').values()\n",
    "print(lower_bound, upper_bound)\n",
    "filtered_car_ads = filtered_car_ads.query('odometer < @upper_bound & odometer > @lower_bound')\n",
    "print(len(filtered_car_ads))"
   ]
  },
  {
   "cell_type": "code",
   "execution_count": 44,
   "metadata": {},
   "outputs": [],
   "source": [
    "filtered_car_ads_odometer = car_ads.query('odometer < @upper_bound & odometer > @lower_bound')"
   ]
  },
  {
   "cell_type": "markdown",
   "metadata": {},
   "source": [
    "**cylinders**"
   ]
  },
  {
   "cell_type": "code",
   "execution_count": 45,
   "metadata": {},
   "outputs": [
    {
     "name": "stdout",
     "output_type": "stream",
     "text": [
      "Lower bound: -2.0\n",
      "Upper bound: 14.0\n",
      "-2.0 14.0\n",
      "48415\n"
     ]
    }
   ],
   "source": [
    "lower_bound, upper_bound = calc_lower_upper_bounds(car_ads, 'cylinders').values()\n",
    "print(lower_bound, upper_bound)\n",
    "filtered_car_ads = filtered_car_ads.query('cylinders < @upper_bound & cylinders > @lower_bound')\n",
    "print(len(filtered_car_ads))"
   ]
  },
  {
   "cell_type": "code",
   "execution_count": 46,
   "metadata": {},
   "outputs": [],
   "source": [
    "filtered_car_ads_cylinder = car_ads.query('cylinders < @upper_bound & cylinders > @lower_bound')"
   ]
  },
  {
   "cell_type": "markdown",
   "metadata": {},
   "source": [
    "**condition**"
   ]
  },
  {
   "cell_type": "code",
   "execution_count": 47,
   "metadata": {},
   "outputs": [
    {
     "name": "stdout",
     "output_type": "stream",
     "text": [
      "Lower bound: 0.5\n",
      "Upper bound: 4.5\n",
      "0.5 4.5\n",
      "48218\n"
     ]
    }
   ],
   "source": [
    "lower_bound, upper_bound = calc_lower_upper_bounds(car_ads, 'condition').values()\n",
    "print(lower_bound, upper_bound)\n",
    "filtered_car_ads = filtered_car_ads.query('condition < @upper_bound & condition > @lower_bound' )\n",
    "print(len(filtered_car_ads))"
   ]
  },
  {
   "cell_type": "code",
   "execution_count": 48,
   "metadata": {},
   "outputs": [],
   "source": [
    "filtered_car_ads_condition = car_ads.query('condition < @upper_bound & condition > @lower_bound')"
   ]
  },
  {
   "cell_type": "markdown",
   "metadata": {},
   "source": [
    "Use the filtered data to plot new histograms. \n",
    "\n",
    "Compare them with the earlier histograms (the ones that included outliers). \n",
    "\n",
    "Draw conclusions for each histogram."
   ]
  },
  {
   "cell_type": "code",
   "execution_count": 49,
   "metadata": {},
   "outputs": [
    {
     "data": {
      "text/plain": [
       "Text(0, 0.5, 'freq')"
      ]
     },
     "execution_count": 49,
     "metadata": {},
     "output_type": "execute_result"
    },
    {
     "data": {
      "image/png": "[encoded data removed]",
      "text/plain": [
       "<Figure size 432x288 with 1 Axes>"
      ]
     },
     "metadata": {
      "needs_background": "light"
     },
     "output_type": "display_data"
    },
    {
     "data": {
      "image/png": "[encoded data removed]",
      "text/plain": [
       "<Figure size 432x288 with 1 Axes>"
      ]
     },
     "metadata": {
      "needs_background": "light"
     },
     "output_type": "display_data"
    }
   ],
   "source": [
    "# price\n",
    "car_ads.hist('price', bins=100)\n",
    "plt.title('car ads')\n",
    "plt.xlabel(\"price\")\n",
    "plt.ylabel(\"freq\")\n",
    "\n",
    "filtered_car_ads.hist('price', bins=70)\n",
    "plt.title('car ads')\n",
    "plt.xlabel(\"price\")\n",
    "plt.ylabel(\"freq\")"
   ]
  },
  {
   "cell_type": "markdown",
   "metadata": {},
   "source": [
    "**car_age**"
   ]
  },
  {
   "cell_type": "code",
   "execution_count": 50,
   "metadata": {},
   "outputs": [
    {
     "data": {
      "text/plain": [
       "Text(0, 0.5, 'freq')"
      ]
     },
     "execution_count": 50,
     "metadata": {},
     "output_type": "execute_result"
    },
    {
     "data": {
      "image/png": "[encoded data removed]",
      "text/plain": [
       "<Figure size 432x288 with 1 Axes>"
      ]
     },
     "metadata": {
      "needs_background": "light"
     },
     "output_type": "display_data"
    },
    {
     "data": {
      "image/png": "[encoded data removed]",
      "text/plain": [
       "<Figure size 432x288 with 1 Axes>"
      ]
     },
     "metadata": {
      "needs_background": "light"
     },
     "output_type": "display_data"
    }
   ],
   "source": [
    "car_ads.hist('car_age', bins=100)\n",
    "plt.title('car ads')\n",
    "plt.xlabel(\"age\")\n",
    "plt.ylabel(\"freq\")\n",
    "\n",
    "filtered_car_ads.hist('car_age', bins=100)\n",
    "plt.title('car ads')\n",
    "plt.xlabel(\"age\")\n",
    "plt.ylabel(\"freq\")"
   ]
  },
  {
   "cell_type": "markdown",
   "metadata": {},
   "source": [
    "**odometer**"
   ]
  },
  {
   "cell_type": "code",
   "execution_count": 51,
   "metadata": {},
   "outputs": [
    {
     "data": {
      "text/plain": [
       "Text(0, 0.5, 'freq')"
      ]
     },
     "execution_count": 51,
     "metadata": {},
     "output_type": "execute_result"
    },
    {
     "data": {
      "image/png": "[encoded data removed]",
      "text/plain": [
       "<Figure size 432x288 with 1 Axes>"
      ]
     },
     "metadata": {
      "needs_background": "light"
     },
     "output_type": "display_data"
    },
    {
     "data": {
      "image/png": "[encoded data removed]",
      "text/plain": [
       "<Figure size 432x288 with 1 Axes>"
      ]
     },
     "metadata": {
      "needs_background": "light"
     },
     "output_type": "display_data"
    }
   ],
   "source": [
    "car_ads.hist('odometer', bins=100)\n",
    "plt.title('car ads')\n",
    "plt.xlabel(\"odometer\")\n",
    "plt.ylabel(\"freq\")\n",
    "\n",
    "filtered_car_ads.hist('odometer', bins=100)\n",
    "plt.title('car ads')\n",
    "plt.xlabel(\"odometer\")\n",
    "plt.ylabel(\"freq\")"
   ]
  },
  {
   "cell_type": "markdown",
   "metadata": {},
   "source": [
    "**cylinders**"
   ]
  },
  {
   "cell_type": "code",
   "execution_count": 52,
   "metadata": {},
   "outputs": [
    {
     "data": {
      "text/plain": [
       "Text(0, 0.5, 'freq')"
      ]
     },
     "execution_count": 52,
     "metadata": {},
     "output_type": "execute_result"
    },
    {
     "data": {
      "image/png": "[encoded data removed]",
      "text/plain": [
       "<Figure size 432x288 with 1 Axes>"
      ]
     },
     "metadata": {
      "needs_background": "light"
     },
     "output_type": "display_data"
    },
    {
     "data": {
      "image/png": "[encoded data removed]",
      "text/plain": [
       "<Figure size 432x288 with 1 Axes>"
      ]
     },
     "metadata": {
      "needs_background": "light"
     },
     "output_type": "display_data"
    }
   ],
   "source": [
    "car_ads.hist('cylinders', bins=100)\n",
    "plt.title('car ads')\n",
    "plt.xlabel(\"cylinders\")\n",
    "plt.ylabel(\"freq\")\n",
    "\n",
    "filtered_car_ads.hist('cylinders', bins=100)\n",
    "plt.title('car ads')\n",
    "plt.xlabel(\"cylinders\")\n",
    "plt.ylabel(\"freq\")"
   ]
  },
  {
   "cell_type": "markdown",
   "metadata": {},
   "source": [
    "**condition**"
   ]
  },
  {
   "cell_type": "code",
   "execution_count": 53,
   "metadata": {},
   "outputs": [
    {
     "data": {
      "text/plain": [
       "Text(0, 0.5, 'freq')"
      ]
     },
     "execution_count": 53,
     "metadata": {},
     "output_type": "execute_result"
    },
    {
     "data": {
      "image/png": "[encoded data removed]",
      "text/plain": [
       "<Figure size 432x288 with 1 Axes>"
      ]
     },
     "metadata": {
      "needs_background": "light"
     },
     "output_type": "display_data"
    },
    {
     "data": {
      "image/png": "[encoded data removed]",
      "text/plain": [
       "<Figure size 432x288 with 1 Axes>"
      ]
     },
     "metadata": {
      "needs_background": "light"
     },
     "output_type": "display_data"
    }
   ],
   "source": [
    "car_ads.hist('condition', bins=100)\n",
    "plt.title('car ads')\n",
    "plt.xlabel(\"condition\")\n",
    "plt.ylabel(\"freq\")\n",
    "\n",
    "filtered_car_ads.hist('condition', bins=100)\n",
    "plt.title('car ads')\n",
    "plt.xlabel(\"condition\")\n",
    "plt.ylabel(\"freq\")"
   ]
  },
  {
   "cell_type": "markdown",
   "metadata": {},
   "source": [
    "**Conclusions for histograms**\n",
    "\n",
    "* price:\n",
    "    * A strange price spike at 1\n",
    "    * price spikes are at arounded numbers (1000, 2000, ...20000)\n",
    "        * Probably becuase how human find rounded numbers easier to process\n",
    "    * Left skewed\n",
    "    * Very large long tail\n",
    "* car_age:\n",
    "    * Left skewed\n",
    "    * Very long tail\n",
    "    * The mass of the cars is around 10 years \n",
    "* odometer:\n",
    "    * Left skweed\n",
    "    * Very long tail\n",
    "    * abnormal round numbers, probably people entered rounded odometer values\n",
    "* cylinders:\n",
    "    * Most cars are 6 cylinder\n",
    "    * Very few 12 cylinders cars\n",
    "* condition:\n",
    "    * Distribution is very limited but almost looks like a normal distribution\n",
    "    * most cars are in an \"excellent\" condition\n",
    "    "
   ]
  },
  {
   "cell_type": "markdown",
   "metadata": {},
   "source": [
    "<div class=\"alert alert-block alert-success\">\n",
    "    <h2>Reviewer's commentary <a class=\"tocSkip\"> </h2>\n",
    "    <br/>\n",
    "<b>Well done!👍:</b> \n",
    "        \n",
    "Ok, agree with your results here, goos job!"
   ]
  },
  {
   "cell_type": "markdown",
   "metadata": {},
   "source": [
    "Study how many days advertisements were displayed (days_listed).\n",
    "\n",
    "Plot a histogram. \n",
    "\n",
    "Calculate the mean and median. \n",
    "\n",
    "Describe the typical lifetime of an ad. \n",
    "\n",
    "Determine when ads were removed quickly, and when they were listed for an abnormally long time."
   ]
  },
  {
   "cell_type": "code",
   "execution_count": 54,
   "metadata": {},
   "outputs": [
    {
     "data": {
      "text/plain": [
       "Text(0, 0.5, 'freq')"
      ]
     },
     "execution_count": 54,
     "metadata": {},
     "output_type": "execute_result"
    },
    {
     "data": {
      "image/png": "[encoded data removed]",
      "text/plain": [
       "<Figure size 1080x648 with 1 Axes>"
      ]
     },
     "metadata": {
      "needs_background": "light"
     },
     "output_type": "display_data"
    }
   ],
   "source": [
    "filtered_car_ads.hist('days_listed', bins=400, figsize=(15,9));\n",
    "plt.title('car ads')\n",
    "plt.xlabel(\"days listed\")\n",
    "plt.ylabel(\"freq\")"
   ]
  },
  {
   "cell_type": "code",
   "execution_count": 55,
   "metadata": {},
   "outputs": [
    {
     "data": {
      "text/plain": [
       "3.0"
      ]
     },
     "execution_count": 55,
     "metadata": {},
     "output_type": "execute_result"
    }
   ],
   "source": [
    "filtered_car_ads['days_listed'].quantile(0.25)\n",
    "filtered_car_ads['days_listed'].quantile(0.10)\n",
    "filtered_car_ads['days_listed'].quantile(0.01)"
   ]
  },
  {
   "cell_type": "code",
   "execution_count": 56,
   "metadata": {},
   "outputs": [
    {
     "data": {
      "text/plain": [
       "132.0"
      ]
     },
     "execution_count": 56,
     "metadata": {},
     "output_type": "execute_result"
    }
   ],
   "source": [
    "filtered_car_ads['days_listed'].quantile(0.75)\n",
    "filtered_car_ads['days_listed'].quantile(0.9)\n",
    "filtered_car_ads['days_listed'].quantile(0.99)"
   ]
  },
  {
   "cell_type": "code",
   "execution_count": 57,
   "metadata": {},
   "outputs": [
    {
     "name": "stdout",
     "output_type": "stream",
     "text": [
      "39.5426396781285\n",
      "33.0\n"
     ]
    }
   ],
   "source": [
    "print(filtered_car_ads['days_listed'].mean())\n",
    "print(filtered_car_ads['days_listed'].median())"
   ]
  },
  {
   "cell_type": "markdown",
   "metadata": {},
   "source": [
    "**Conclusion on days_listed**\n",
    "\n",
    "* a typical ad days_listed is about 33 days\n",
    "* short lived ads:\n",
    "    * 25%: 19 days\n",
    "    * 10%: 10 days\n",
    "    * 1%: 3 days\n",
    "* long lived ads:\n",
    "    * 75%: 53 days\n",
    "    * 90%: 77 days\n",
    "    * 99%: 132 days\n",
    "    "
   ]
  },
  {
   "cell_type": "markdown",
   "metadata": {},
   "source": [
    "<div class=\"alert alert-block alert-danger\">\n",
    "    <h2>Reviewer's commentary <a class=\"tocSkip\"> </h2>\n",
    "    <br/>\n",
    "<b>Needs fixing!🤔:</b> \n",
    "        \n",
    "Itay, let's look at the instruction one more time:        \n",
    "        \n",
    "`Study how many days advertisements were displayed (days_listed). Plot a histogram. Calculate the mean and median. Describe the typical lifetime of an ad. Determine when ads were removed quickly, and when they were listed for an abnormally long time.`\n",
    "        \n",
    "So, you need to identify not only the median for days_listed, but identify when ads were removed quickly and so on according to the instruction, so, try to widen your final conclusion here."
   ]
  },
  {
   "cell_type": "markdown",
   "metadata": {},
   "source": [
    "<div class=\"alert alert-block alert-success\">\n",
    "    <h2>Reviewer's commentary: second iteration of the review <a class=\"tocSkip\"> </h2>\n",
    "    <br/>\n",
    "<b>Well done!👍:</b> \n",
    "        \n",
    "Ok, agree with your final observations, keep it up!"
   ]
  },
  {
   "cell_type": "markdown",
   "metadata": {},
   "source": [
    "**Analyze the number of ads and the average price for each type of vehicle.**\n",
    "\n",
    "Plot a graph showing the dependence of the number of ads on the vehicle type. \n",
    "\n",
    "Select the two types with the greatest number of ads."
   ]
  },
  {
   "cell_type": "code",
   "execution_count": 58,
   "metadata": {},
   "outputs": [
    {
     "data": {
      "text/plain": [
       "SUV            12405\n",
       "truck          12353\n",
       "sedan          12154\n",
       "pickup          6988\n",
       "coupe           2303\n",
       "wagon           1541\n",
       "mini-van        1161\n",
       "hatchback       1047\n",
       "van              633\n",
       "convertible      446\n",
       "other            256\n",
       "offroad          214\n",
       "bus               24\n",
       "Name: type, dtype: int64"
      ]
     },
     "execution_count": 58,
     "metadata": {},
     "output_type": "execute_result"
    }
   ],
   "source": [
    "car_ads['type'].value_counts()"
   ]
  },
  {
   "cell_type": "code",
   "execution_count": 59,
   "metadata": {},
   "outputs": [
    {
     "data": {
      "text/html": [
       "<div>\n",
       "<style scoped>\n",
       "    .dataframe tbody tr th:only-of-type {\n",
       "        vertical-align: middle;\n",
       "    }\n",
       "\n",
       "    .dataframe tbody tr th {\n",
       "        vertical-align: top;\n",
       "    }\n",
       "\n",
       "    .dataframe thead th {\n",
       "        text-align: right;\n",
       "    }\n",
       "</style>\n",
       "<table border=\"1\" class=\"dataframe\">\n",
       "  <thead>\n",
       "    <tr style=\"text-align: right;\">\n",
       "      <th></th>\n",
       "      <th>type</th>\n",
       "      <th>('mean', 'price')</th>\n",
       "      <th>('count', 'price')</th>\n",
       "    </tr>\n",
       "  </thead>\n",
       "  <tbody>\n",
       "    <tr>\n",
       "      <td>1</td>\n",
       "      <td>bus</td>\n",
       "      <td>18107.428571</td>\n",
       "      <td>21</td>\n",
       "    </tr>\n",
       "    <tr>\n",
       "      <td>6</td>\n",
       "      <td>offroad</td>\n",
       "      <td>14344.049451</td>\n",
       "      <td>182</td>\n",
       "    </tr>\n",
       "    <tr>\n",
       "      <td>7</td>\n",
       "      <td>other</td>\n",
       "      <td>10542.137339</td>\n",
       "      <td>233</td>\n",
       "    </tr>\n",
       "    <tr>\n",
       "      <td>2</td>\n",
       "      <td>convertible</td>\n",
       "      <td>13084.289941</td>\n",
       "      <td>338</td>\n",
       "    </tr>\n",
       "    <tr>\n",
       "      <td>11</td>\n",
       "      <td>van</td>\n",
       "      <td>8819.234991</td>\n",
       "      <td>583</td>\n",
       "    </tr>\n",
       "    <tr>\n",
       "      <td>4</td>\n",
       "      <td>hatchback</td>\n",
       "      <td>6847.638917</td>\n",
       "      <td>997</td>\n",
       "    </tr>\n",
       "    <tr>\n",
       "      <td>5</td>\n",
       "      <td>mini-van</td>\n",
       "      <td>8032.268357</td>\n",
       "      <td>1144</td>\n",
       "    </tr>\n",
       "    <tr>\n",
       "      <td>12</td>\n",
       "      <td>wagon</td>\n",
       "      <td>8997.556591</td>\n",
       "      <td>1502</td>\n",
       "    </tr>\n",
       "    <tr>\n",
       "      <td>3</td>\n",
       "      <td>coupe</td>\n",
       "      <td>13527.610584</td>\n",
       "      <td>2003</td>\n",
       "    </tr>\n",
       "    <tr>\n",
       "      <td>8</td>\n",
       "      <td>pickup</td>\n",
       "      <td>15060.599618</td>\n",
       "      <td>6284</td>\n",
       "    </tr>\n",
       "    <tr>\n",
       "      <td>10</td>\n",
       "      <td>truck</td>\n",
       "      <td>15134.629109</td>\n",
       "      <td>11103</td>\n",
       "    </tr>\n",
       "    <tr>\n",
       "      <td>0</td>\n",
       "      <td>SUV</td>\n",
       "      <td>10449.029944</td>\n",
       "      <td>11889</td>\n",
       "    </tr>\n",
       "    <tr>\n",
       "      <td>9</td>\n",
       "      <td>sedan</td>\n",
       "      <td>6971.356981</td>\n",
       "      <td>11939</td>\n",
       "    </tr>\n",
       "  </tbody>\n",
       "</table>\n",
       "</div>"
      ],
      "text/plain": [
       "           type  ('mean', 'price')  ('count', 'price')\n",
       "1           bus       18107.428571                  21\n",
       "6       offroad       14344.049451                 182\n",
       "7         other       10542.137339                 233\n",
       "2   convertible       13084.289941                 338\n",
       "11          van        8819.234991                 583\n",
       "4     hatchback        6847.638917                 997\n",
       "5      mini-van        8032.268357                1144\n",
       "12        wagon        8997.556591                1502\n",
       "3         coupe       13527.610584                2003\n",
       "8        pickup       15060.599618                6284\n",
       "10        truck       15134.629109               11103\n",
       "0           SUV       10449.029944               11889\n",
       "9         sedan        6971.356981               11939"
      ]
     },
     "execution_count": 59,
     "metadata": {},
     "output_type": "execute_result"
    }
   ],
   "source": [
    "type_pivot_table = filtered_car_ads.pivot_table(index='type', values='price', aggfunc=['mean','count'])\n",
    "type_df = pd.DataFrame(type_pivot_table.to_records())\n",
    "\n",
    "\n",
    "type_df.sort_values(by=\"('count', 'price')\")"
   ]
  },
  {
   "cell_type": "markdown",
   "metadata": {},
   "source": [
    "**What factors impact the price most?**\n",
    "\n",
    "Take each of the popular types you detected at the previous stage and study whether the **price** depends on:\n",
    "* age\n",
    "* mileage\n",
    "* condition\n",
    "* transmission\n",
    "* type\n",
    "* color.\n",
    "\n",
    "For categorical variables (transmission type and color):\n",
    "* plot box-and-whisker charts\n",
    "* create scatterplots for the **rest**.\n",
    "\n",
    "When analyzing categorical variables, note that the categories must have at least 50 ads; otherwise, their parameters won't be valid for analysis."
   ]
  },
  {
   "cell_type": "code",
   "execution_count": 60,
   "metadata": {},
   "outputs": [],
   "source": [
    "SUV = filtered_car_ads.query('type == \"SUV\"')\n",
    "sedan = filtered_car_ads.query('type == \"sedan\"')\n",
    "\n",
    "# checked before, all categorical columns have more than 50 rows"
   ]
  },
  {
   "cell_type": "markdown",
   "metadata": {},
   "source": [
    "<div class=\"alert alert-block alert-success\">\n",
    "    <h2>Reviewer's commentary <a class=\"tocSkip\"> </h2>\n",
    "    <br/>\n",
    "<b>Well done!👍:</b> \n",
    "        \n",
    "Ok, two most advertised types of vehicles are identified correctly!"
   ]
  },
  {
   "cell_type": "code",
   "execution_count": 61,
   "metadata": {},
   "outputs": [
    {
     "data": {
      "text/html": [
       "<div>\n",
       "<style scoped>\n",
       "    .dataframe tbody tr th:only-of-type {\n",
       "        vertical-align: middle;\n",
       "    }\n",
       "\n",
       "    .dataframe tbody tr th {\n",
       "        vertical-align: top;\n",
       "    }\n",
       "\n",
       "    .dataframe thead th {\n",
       "        text-align: right;\n",
       "    }\n",
       "</style>\n",
       "<table border=\"1\" class=\"dataframe\">\n",
       "  <thead>\n",
       "    <tr style=\"text-align: right;\">\n",
       "      <th></th>\n",
       "      <th>price</th>\n",
       "      <th>model_year</th>\n",
       "      <th>condition</th>\n",
       "      <th>cylinders</th>\n",
       "      <th>odometer</th>\n",
       "      <th>is_4wd</th>\n",
       "      <th>days_listed</th>\n",
       "      <th>weekday_posted</th>\n",
       "      <th>month_posted</th>\n",
       "      <th>year_posted</th>\n",
       "      <th>car_age</th>\n",
       "      <th>mileage</th>\n",
       "    </tr>\n",
       "  </thead>\n",
       "  <tbody>\n",
       "    <tr>\n",
       "      <td>price</td>\n",
       "      <td>1.000000</td>\n",
       "      <td>0.620420</td>\n",
       "      <td>-0.290221</td>\n",
       "      <td>-0.043101</td>\n",
       "      <td>-0.564206</td>\n",
       "      <td>0.041927</td>\n",
       "      <td>0.002537</td>\n",
       "      <td>-0.003753</td>\n",
       "      <td>-0.019937</td>\n",
       "      <td>0.016349</td>\n",
       "      <td>-0.616890</td>\n",
       "      <td>0.268983</td>\n",
       "    </tr>\n",
       "    <tr>\n",
       "      <td>model_year</td>\n",
       "      <td>0.620420</td>\n",
       "      <td>1.000000</td>\n",
       "      <td>-0.300892</td>\n",
       "      <td>-0.126123</td>\n",
       "      <td>-0.625623</td>\n",
       "      <td>0.070460</td>\n",
       "      <td>-0.000709</td>\n",
       "      <td>0.003220</td>\n",
       "      <td>-0.028605</td>\n",
       "      <td>0.022672</td>\n",
       "      <td>-0.994689</td>\n",
       "      <td>0.517255</td>\n",
       "    </tr>\n",
       "    <tr>\n",
       "      <td>condition</td>\n",
       "      <td>-0.290221</td>\n",
       "      <td>-0.300892</td>\n",
       "      <td>1.000000</td>\n",
       "      <td>0.051694</td>\n",
       "      <td>0.328174</td>\n",
       "      <td>-0.021134</td>\n",
       "      <td>0.007564</td>\n",
       "      <td>0.003059</td>\n",
       "      <td>0.008833</td>\n",
       "      <td>-0.007996</td>\n",
       "      <td>0.299173</td>\n",
       "      <td>-0.066246</td>\n",
       "    </tr>\n",
       "    <tr>\n",
       "      <td>cylinders</td>\n",
       "      <td>-0.043101</td>\n",
       "      <td>-0.126123</td>\n",
       "      <td>0.051694</td>\n",
       "      <td>1.000000</td>\n",
       "      <td>0.076477</td>\n",
       "      <td>0.220290</td>\n",
       "      <td>0.003917</td>\n",
       "      <td>-0.008624</td>\n",
       "      <td>-0.006463</td>\n",
       "      <td>0.000409</td>\n",
       "      <td>0.125789</td>\n",
       "      <td>-0.081998</td>\n",
       "    </tr>\n",
       "    <tr>\n",
       "      <td>odometer</td>\n",
       "      <td>-0.564206</td>\n",
       "      <td>-0.625623</td>\n",
       "      <td>0.328174</td>\n",
       "      <td>0.076477</td>\n",
       "      <td>1.000000</td>\n",
       "      <td>-0.060938</td>\n",
       "      <td>0.005165</td>\n",
       "      <td>-0.003308</td>\n",
       "      <td>0.020305</td>\n",
       "      <td>-0.010196</td>\n",
       "      <td>0.622711</td>\n",
       "      <td>0.038669</td>\n",
       "    </tr>\n",
       "    <tr>\n",
       "      <td>is_4wd</td>\n",
       "      <td>0.041927</td>\n",
       "      <td>0.070460</td>\n",
       "      <td>-0.021134</td>\n",
       "      <td>0.220290</td>\n",
       "      <td>-0.060938</td>\n",
       "      <td>1.000000</td>\n",
       "      <td>0.005404</td>\n",
       "      <td>-0.017746</td>\n",
       "      <td>0.006852</td>\n",
       "      <td>-0.002955</td>\n",
       "      <td>-0.070554</td>\n",
       "      <td>0.008101</td>\n",
       "    </tr>\n",
       "    <tr>\n",
       "      <td>days_listed</td>\n",
       "      <td>0.002537</td>\n",
       "      <td>-0.000709</td>\n",
       "      <td>0.007564</td>\n",
       "      <td>0.003917</td>\n",
       "      <td>0.005165</td>\n",
       "      <td>0.005404</td>\n",
       "      <td>1.000000</td>\n",
       "      <td>0.013165</td>\n",
       "      <td>-0.007920</td>\n",
       "      <td>0.013542</td>\n",
       "      <td>0.002102</td>\n",
       "      <td>-0.002762</td>\n",
       "    </tr>\n",
       "    <tr>\n",
       "      <td>weekday_posted</td>\n",
       "      <td>-0.003753</td>\n",
       "      <td>0.003220</td>\n",
       "      <td>0.003059</td>\n",
       "      <td>-0.008624</td>\n",
       "      <td>-0.003308</td>\n",
       "      <td>-0.017746</td>\n",
       "      <td>0.013165</td>\n",
       "      <td>1.000000</td>\n",
       "      <td>0.001652</td>\n",
       "      <td>-0.004273</td>\n",
       "      <td>-0.003650</td>\n",
       "      <td>0.002270</td>\n",
       "    </tr>\n",
       "    <tr>\n",
       "      <td>month_posted</td>\n",
       "      <td>-0.019937</td>\n",
       "      <td>-0.028605</td>\n",
       "      <td>0.008833</td>\n",
       "      <td>-0.006463</td>\n",
       "      <td>0.020305</td>\n",
       "      <td>0.006852</td>\n",
       "      <td>-0.007920</td>\n",
       "      <td>0.001652</td>\n",
       "      <td>1.000000</td>\n",
       "      <td>-0.818485</td>\n",
       "      <td>-0.055743</td>\n",
       "      <td>0.124615</td>\n",
       "    </tr>\n",
       "    <tr>\n",
       "      <td>year_posted</td>\n",
       "      <td>0.016349</td>\n",
       "      <td>0.022672</td>\n",
       "      <td>-0.007996</td>\n",
       "      <td>0.000409</td>\n",
       "      <td>-0.010196</td>\n",
       "      <td>-0.002955</td>\n",
       "      <td>0.013542</td>\n",
       "      <td>-0.004273</td>\n",
       "      <td>-0.818485</td>\n",
       "      <td>1.000000</td>\n",
       "      <td>0.080345</td>\n",
       "      <td>-0.147365</td>\n",
       "    </tr>\n",
       "    <tr>\n",
       "      <td>car_age</td>\n",
       "      <td>-0.616890</td>\n",
       "      <td>-0.994689</td>\n",
       "      <td>0.299173</td>\n",
       "      <td>0.125789</td>\n",
       "      <td>0.622711</td>\n",
       "      <td>-0.070554</td>\n",
       "      <td>0.002102</td>\n",
       "      <td>-0.003650</td>\n",
       "      <td>-0.055743</td>\n",
       "      <td>0.080345</td>\n",
       "      <td>1.000000</td>\n",
       "      <td>-0.530887</td>\n",
       "    </tr>\n",
       "    <tr>\n",
       "      <td>mileage</td>\n",
       "      <td>0.268983</td>\n",
       "      <td>0.517255</td>\n",
       "      <td>-0.066246</td>\n",
       "      <td>-0.081998</td>\n",
       "      <td>0.038669</td>\n",
       "      <td>0.008101</td>\n",
       "      <td>-0.002762</td>\n",
       "      <td>0.002270</td>\n",
       "      <td>0.124615</td>\n",
       "      <td>-0.147365</td>\n",
       "      <td>-0.530887</td>\n",
       "      <td>1.000000</td>\n",
       "    </tr>\n",
       "  </tbody>\n",
       "</table>\n",
       "</div>"
      ],
      "text/plain": [
       "                   price  model_year  condition  cylinders  odometer  \\\n",
       "price           1.000000    0.620420  -0.290221  -0.043101 -0.564206   \n",
       "model_year      0.620420    1.000000  -0.300892  -0.126123 -0.625623   \n",
       "condition      -0.290221   -0.300892   1.000000   0.051694  0.328174   \n",
       "cylinders      -0.043101   -0.126123   0.051694   1.000000  0.076477   \n",
       "odometer       -0.564206   -0.625623   0.328174   0.076477  1.000000   \n",
       "is_4wd          0.041927    0.070460  -0.021134   0.220290 -0.060938   \n",
       "days_listed     0.002537   -0.000709   0.007564   0.003917  0.005165   \n",
       "weekday_posted -0.003753    0.003220   0.003059  -0.008624 -0.003308   \n",
       "month_posted   -0.019937   -0.028605   0.008833  -0.006463  0.020305   \n",
       "year_posted     0.016349    0.022672  -0.007996   0.000409 -0.010196   \n",
       "car_age        -0.616890   -0.994689   0.299173   0.125789  0.622711   \n",
       "mileage         0.268983    0.517255  -0.066246  -0.081998  0.038669   \n",
       "\n",
       "                  is_4wd  days_listed  weekday_posted  month_posted  \\\n",
       "price           0.041927     0.002537       -0.003753     -0.019937   \n",
       "model_year      0.070460    -0.000709        0.003220     -0.028605   \n",
       "condition      -0.021134     0.007564        0.003059      0.008833   \n",
       "cylinders       0.220290     0.003917       -0.008624     -0.006463   \n",
       "odometer       -0.060938     0.005165       -0.003308      0.020305   \n",
       "is_4wd          1.000000     0.005404       -0.017746      0.006852   \n",
       "days_listed     0.005404     1.000000        0.013165     -0.007920   \n",
       "weekday_posted -0.017746     0.013165        1.000000      0.001652   \n",
       "month_posted    0.006852    -0.007920        0.001652      1.000000   \n",
       "year_posted    -0.002955     0.013542       -0.004273     -0.818485   \n",
       "car_age        -0.070554     0.002102       -0.003650     -0.055743   \n",
       "mileage         0.008101    -0.002762        0.002270      0.124615   \n",
       "\n",
       "                year_posted   car_age   mileage  \n",
       "price              0.016349 -0.616890  0.268983  \n",
       "model_year         0.022672 -0.994689  0.517255  \n",
       "condition         -0.007996  0.299173 -0.066246  \n",
       "cylinders          0.000409  0.125789 -0.081998  \n",
       "odometer          -0.010196  0.622711  0.038669  \n",
       "is_4wd            -0.002955 -0.070554  0.008101  \n",
       "days_listed        0.013542  0.002102 -0.002762  \n",
       "weekday_posted    -0.004273 -0.003650  0.002270  \n",
       "month_posted      -0.818485 -0.055743  0.124615  \n",
       "year_posted        1.000000  0.080345 -0.147365  \n",
       "car_age            0.080345  1.000000 -0.530887  \n",
       "mileage           -0.147365 -0.530887  1.000000  "
      ]
     },
     "execution_count": 61,
     "metadata": {},
     "output_type": "execute_result"
    }
   ],
   "source": [
    "sedan.corr()"
   ]
  },
  {
   "cell_type": "code",
   "execution_count": 62,
   "metadata": {},
   "outputs": [
    {
     "data": {
      "text/html": [
       "<div>\n",
       "<style scoped>\n",
       "    .dataframe tbody tr th:only-of-type {\n",
       "        vertical-align: middle;\n",
       "    }\n",
       "\n",
       "    .dataframe tbody tr th {\n",
       "        vertical-align: top;\n",
       "    }\n",
       "\n",
       "    .dataframe thead th {\n",
       "        text-align: right;\n",
       "    }\n",
       "</style>\n",
       "<table border=\"1\" class=\"dataframe\">\n",
       "  <thead>\n",
       "    <tr style=\"text-align: right;\">\n",
       "      <th></th>\n",
       "      <th>price</th>\n",
       "      <th>model_year</th>\n",
       "      <th>condition</th>\n",
       "      <th>cylinders</th>\n",
       "      <th>odometer</th>\n",
       "      <th>is_4wd</th>\n",
       "      <th>days_listed</th>\n",
       "      <th>weekday_posted</th>\n",
       "      <th>month_posted</th>\n",
       "      <th>year_posted</th>\n",
       "      <th>car_age</th>\n",
       "      <th>mileage</th>\n",
       "    </tr>\n",
       "  </thead>\n",
       "  <tbody>\n",
       "    <tr>\n",
       "      <td>price</td>\n",
       "      <td>1.000000</td>\n",
       "      <td>0.576759</td>\n",
       "      <td>-0.260055</td>\n",
       "      <td>0.002403</td>\n",
       "      <td>-0.522151</td>\n",
       "      <td>0.113968</td>\n",
       "      <td>-0.020788</td>\n",
       "      <td>0.011441</td>\n",
       "      <td>-0.007788</td>\n",
       "      <td>0.001426</td>\n",
       "      <td>-0.574728</td>\n",
       "      <td>0.256677</td>\n",
       "    </tr>\n",
       "    <tr>\n",
       "      <td>model_year</td>\n",
       "      <td>0.576759</td>\n",
       "      <td>1.000000</td>\n",
       "      <td>-0.306829</td>\n",
       "      <td>-0.284264</td>\n",
       "      <td>-0.635219</td>\n",
       "      <td>-0.070992</td>\n",
       "      <td>-0.016398</td>\n",
       "      <td>0.002587</td>\n",
       "      <td>-0.016290</td>\n",
       "      <td>0.012554</td>\n",
       "      <td>-0.995527</td>\n",
       "      <td>0.540629</td>\n",
       "    </tr>\n",
       "    <tr>\n",
       "      <td>condition</td>\n",
       "      <td>-0.260055</td>\n",
       "      <td>-0.306829</td>\n",
       "      <td>1.000000</td>\n",
       "      <td>0.095996</td>\n",
       "      <td>0.320234</td>\n",
       "      <td>0.012926</td>\n",
       "      <td>0.010868</td>\n",
       "      <td>-0.007978</td>\n",
       "      <td>-0.001145</td>\n",
       "      <td>0.002038</td>\n",
       "      <td>0.306013</td>\n",
       "      <td>-0.064713</td>\n",
       "    </tr>\n",
       "    <tr>\n",
       "      <td>cylinders</td>\n",
       "      <td>0.002403</td>\n",
       "      <td>-0.284264</td>\n",
       "      <td>0.095996</td>\n",
       "      <td>1.000000</td>\n",
       "      <td>0.237481</td>\n",
       "      <td>0.123531</td>\n",
       "      <td>0.014656</td>\n",
       "      <td>-0.011194</td>\n",
       "      <td>0.001119</td>\n",
       "      <td>-0.002695</td>\n",
       "      <td>0.283075</td>\n",
       "      <td>-0.155172</td>\n",
       "    </tr>\n",
       "    <tr>\n",
       "      <td>odometer</td>\n",
       "      <td>-0.522151</td>\n",
       "      <td>-0.635219</td>\n",
       "      <td>0.320234</td>\n",
       "      <td>0.237481</td>\n",
       "      <td>1.000000</td>\n",
       "      <td>0.030052</td>\n",
       "      <td>0.012893</td>\n",
       "      <td>0.003910</td>\n",
       "      <td>0.012664</td>\n",
       "      <td>-0.009451</td>\n",
       "      <td>0.632238</td>\n",
       "      <td>-0.013034</td>\n",
       "    </tr>\n",
       "    <tr>\n",
       "      <td>is_4wd</td>\n",
       "      <td>0.113968</td>\n",
       "      <td>-0.070992</td>\n",
       "      <td>0.012926</td>\n",
       "      <td>0.123531</td>\n",
       "      <td>0.030052</td>\n",
       "      <td>1.000000</td>\n",
       "      <td>-0.005202</td>\n",
       "      <td>0.016189</td>\n",
       "      <td>-0.002737</td>\n",
       "      <td>-0.005100</td>\n",
       "      <td>0.070277</td>\n",
       "      <td>-0.032709</td>\n",
       "    </tr>\n",
       "    <tr>\n",
       "      <td>days_listed</td>\n",
       "      <td>-0.020788</td>\n",
       "      <td>-0.016398</td>\n",
       "      <td>0.010868</td>\n",
       "      <td>0.014656</td>\n",
       "      <td>0.012893</td>\n",
       "      <td>-0.005202</td>\n",
       "      <td>1.000000</td>\n",
       "      <td>-0.009658</td>\n",
       "      <td>-0.005959</td>\n",
       "      <td>-0.000538</td>\n",
       "      <td>0.016293</td>\n",
       "      <td>-0.017922</td>\n",
       "    </tr>\n",
       "    <tr>\n",
       "      <td>weekday_posted</td>\n",
       "      <td>0.011441</td>\n",
       "      <td>0.002587</td>\n",
       "      <td>-0.007978</td>\n",
       "      <td>-0.011194</td>\n",
       "      <td>0.003910</td>\n",
       "      <td>0.016189</td>\n",
       "      <td>-0.009658</td>\n",
       "      <td>1.000000</td>\n",
       "      <td>0.020681</td>\n",
       "      <td>-0.018064</td>\n",
       "      <td>-0.004285</td>\n",
       "      <td>-0.002057</td>\n",
       "    </tr>\n",
       "    <tr>\n",
       "      <td>month_posted</td>\n",
       "      <td>-0.007788</td>\n",
       "      <td>-0.016290</td>\n",
       "      <td>-0.001145</td>\n",
       "      <td>0.001119</td>\n",
       "      <td>0.012664</td>\n",
       "      <td>-0.002737</td>\n",
       "      <td>-0.005959</td>\n",
       "      <td>0.020681</td>\n",
       "      <td>1.000000</td>\n",
       "      <td>-0.816818</td>\n",
       "      <td>-0.060938</td>\n",
       "      <td>0.103127</td>\n",
       "    </tr>\n",
       "    <tr>\n",
       "      <td>year_posted</td>\n",
       "      <td>0.001426</td>\n",
       "      <td>0.012554</td>\n",
       "      <td>0.002038</td>\n",
       "      <td>-0.002695</td>\n",
       "      <td>-0.009451</td>\n",
       "      <td>-0.005100</td>\n",
       "      <td>-0.000538</td>\n",
       "      <td>-0.018064</td>\n",
       "      <td>-0.816818</td>\n",
       "      <td>1.000000</td>\n",
       "      <td>0.081969</td>\n",
       "      <td>-0.127691</td>\n",
       "    </tr>\n",
       "    <tr>\n",
       "      <td>car_age</td>\n",
       "      <td>-0.574728</td>\n",
       "      <td>-0.995527</td>\n",
       "      <td>0.306013</td>\n",
       "      <td>0.283075</td>\n",
       "      <td>0.632238</td>\n",
       "      <td>0.070277</td>\n",
       "      <td>0.016293</td>\n",
       "      <td>-0.004285</td>\n",
       "      <td>-0.060938</td>\n",
       "      <td>0.081969</td>\n",
       "      <td>1.000000</td>\n",
       "      <td>-0.550917</td>\n",
       "    </tr>\n",
       "    <tr>\n",
       "      <td>mileage</td>\n",
       "      <td>0.256677</td>\n",
       "      <td>0.540629</td>\n",
       "      <td>-0.064713</td>\n",
       "      <td>-0.155172</td>\n",
       "      <td>-0.013034</td>\n",
       "      <td>-0.032709</td>\n",
       "      <td>-0.017922</td>\n",
       "      <td>-0.002057</td>\n",
       "      <td>0.103127</td>\n",
       "      <td>-0.127691</td>\n",
       "      <td>-0.550917</td>\n",
       "      <td>1.000000</td>\n",
       "    </tr>\n",
       "  </tbody>\n",
       "</table>\n",
       "</div>"
      ],
      "text/plain": [
       "                   price  model_year  condition  cylinders  odometer  \\\n",
       "price           1.000000    0.576759  -0.260055   0.002403 -0.522151   \n",
       "model_year      0.576759    1.000000  -0.306829  -0.284264 -0.635219   \n",
       "condition      -0.260055   -0.306829   1.000000   0.095996  0.320234   \n",
       "cylinders       0.002403   -0.284264   0.095996   1.000000  0.237481   \n",
       "odometer       -0.522151   -0.635219   0.320234   0.237481  1.000000   \n",
       "is_4wd          0.113968   -0.070992   0.012926   0.123531  0.030052   \n",
       "days_listed    -0.020788   -0.016398   0.010868   0.014656  0.012893   \n",
       "weekday_posted  0.011441    0.002587  -0.007978  -0.011194  0.003910   \n",
       "month_posted   -0.007788   -0.016290  -0.001145   0.001119  0.012664   \n",
       "year_posted     0.001426    0.012554   0.002038  -0.002695 -0.009451   \n",
       "car_age        -0.574728   -0.995527   0.306013   0.283075  0.632238   \n",
       "mileage         0.256677    0.540629  -0.064713  -0.155172 -0.013034   \n",
       "\n",
       "                  is_4wd  days_listed  weekday_posted  month_posted  \\\n",
       "price           0.113968    -0.020788        0.011441     -0.007788   \n",
       "model_year     -0.070992    -0.016398        0.002587     -0.016290   \n",
       "condition       0.012926     0.010868       -0.007978     -0.001145   \n",
       "cylinders       0.123531     0.014656       -0.011194      0.001119   \n",
       "odometer        0.030052     0.012893        0.003910      0.012664   \n",
       "is_4wd          1.000000    -0.005202        0.016189     -0.002737   \n",
       "days_listed    -0.005202     1.000000       -0.009658     -0.005959   \n",
       "weekday_posted  0.016189    -0.009658        1.000000      0.020681   \n",
       "month_posted   -0.002737    -0.005959        0.020681      1.000000   \n",
       "year_posted    -0.005100    -0.000538       -0.018064     -0.816818   \n",
       "car_age         0.070277     0.016293       -0.004285     -0.060938   \n",
       "mileage        -0.032709    -0.017922       -0.002057      0.103127   \n",
       "\n",
       "                year_posted   car_age   mileage  \n",
       "price              0.001426 -0.574728  0.256677  \n",
       "model_year         0.012554 -0.995527  0.540629  \n",
       "condition          0.002038  0.306013 -0.064713  \n",
       "cylinders         -0.002695  0.283075 -0.155172  \n",
       "odometer          -0.009451  0.632238 -0.013034  \n",
       "is_4wd            -0.005100  0.070277 -0.032709  \n",
       "days_listed       -0.000538  0.016293 -0.017922  \n",
       "weekday_posted    -0.018064 -0.004285 -0.002057  \n",
       "month_posted      -0.816818 -0.060938  0.103127  \n",
       "year_posted        1.000000  0.081969 -0.127691  \n",
       "car_age            0.081969  1.000000 -0.550917  \n",
       "mileage           -0.127691 -0.550917  1.000000  "
      ]
     },
     "execution_count": 62,
     "metadata": {},
     "output_type": "execute_result"
    }
   ],
   "source": [
    "SUV.corr()"
   ]
  },
  {
   "cell_type": "code",
   "execution_count": 63,
   "metadata": {},
   "outputs": [
    {
     "data": {
      "image/png": "[encoded data removed]",
      "text/plain": [
       "<Figure size 432x288 with 1 Axes>"
      ]
     },
     "metadata": {
      "needs_background": "light"
     },
     "output_type": "display_data"
    },
    {
     "data": {
      "image/png": "[encoded data removed]",
      "text/plain": [
       "<Figure size 432x288 with 1 Axes>"
      ]
     },
     "metadata": {
      "needs_background": "light"
     },
     "output_type": "display_data"
    }
   ],
   "source": [
    "sedan.plot(x='mileage', y='price', kind='scatter', alpha=0.3);\n",
    "SUV.plot(x='mileage', y='price', kind='scatter', alpha=0.3);"
   ]
  },
  {
   "cell_type": "code",
   "execution_count": 64,
   "metadata": {},
   "outputs": [
    {
     "name": "stderr",
     "output_type": "stream",
     "text": [
      "/opt/conda/lib/python3.7/site-packages/numpy/core/_asarray.py:83: VisibleDeprecationWarning: Creating an ndarray from ragged nested sequences (which is a list-or-tuple of lists-or-tuples-or ndarrays with different lengths or shapes) is deprecated. If you meant to do this, you must specify 'dtype=object' when creating the ndarray\n",
      "  return array(a, dtype, copy=False, order=order)\n",
      "/opt/conda/lib/python3.7/site-packages/numpy/core/_asarray.py:83: VisibleDeprecationWarning: Creating an ndarray from ragged nested sequences (which is a list-or-tuple of lists-or-tuples-or ndarrays with different lengths or shapes) is deprecated. If you meant to do this, you must specify 'dtype=object' when creating the ndarray\n",
      "  return array(a, dtype, copy=False, order=order)\n"
     ]
    },
    {
     "data": {
      "image/png": "[encoded data removed]",
      "text/plain": [
       "<Figure size 504x504 with 1 Axes>"
      ]
     },
     "metadata": {
      "needs_background": "light"
     },
     "output_type": "display_data"
    },
    {
     "data": {
      "image/png": "[encoded data removed]",
      "text/plain": [
       "<Figure size 504x504 with 1 Axes>"
      ]
     },
     "metadata": {
      "needs_background": "light"
     },
     "output_type": "display_data"
    }
   ],
   "source": [
    "fig, ax = plt.subplots(figsize=(7,7))\n",
    "sedan.boxplot(by='transmission', column='price', ax=ax);\n",
    "\n",
    "fig, ax = plt.subplots(figsize=(7,7))\n",
    "SUV.boxplot(by='transmission', column='price', ax=ax);\n"
   ]
  },
  {
   "cell_type": "code",
   "execution_count": 65,
   "metadata": {},
   "outputs": [
    {
     "name": "stderr",
     "output_type": "stream",
     "text": [
      "/opt/conda/lib/python3.7/site-packages/numpy/core/_asarray.py:83: VisibleDeprecationWarning: Creating an ndarray from ragged nested sequences (which is a list-or-tuple of lists-or-tuples-or ndarrays with different lengths or shapes) is deprecated. If you meant to do this, you must specify 'dtype=object' when creating the ndarray\n",
      "  return array(a, dtype, copy=False, order=order)\n",
      "/opt/conda/lib/python3.7/site-packages/numpy/core/_asarray.py:83: VisibleDeprecationWarning: Creating an ndarray from ragged nested sequences (which is a list-or-tuple of lists-or-tuples-or ndarrays with different lengths or shapes) is deprecated. If you meant to do this, you must specify 'dtype=object' when creating the ndarray\n",
      "  return array(a, dtype, copy=False, order=order)\n"
     ]
    },
    {
     "data": {
      "image/png": "[encoded data removed]",
      "text/plain": [
       "<Figure size 504x504 with 1 Axes>"
      ]
     },
     "metadata": {
      "needs_background": "light"
     },
     "output_type": "display_data"
    },
    {
     "data": {
      "image/png": "[encoded data removed]",
      "text/plain": [
       "<Figure size 504x504 with 1 Axes>"
      ]
     },
     "metadata": {
      "needs_background": "light"
     },
     "output_type": "display_data"
    }
   ],
   "source": [
    "fig, ax = plt.subplots(figsize=(7,7))\n",
    "sedan.boxplot(by='condition', column='price', ax=ax);\n",
    "\n",
    "fig, ax = plt.subplots(figsize=(7,7))\n",
    "SUV.boxplot(by='condition', column='price', ax=ax);"
   ]
  },
  {
   "cell_type": "code",
   "execution_count": 66,
   "metadata": {},
   "outputs": [
    {
     "name": "stderr",
     "output_type": "stream",
     "text": [
      "/opt/conda/lib/python3.7/site-packages/numpy/core/_asarray.py:83: VisibleDeprecationWarning: Creating an ndarray from ragged nested sequences (which is a list-or-tuple of lists-or-tuples-or ndarrays with different lengths or shapes) is deprecated. If you meant to do this, you must specify 'dtype=object' when creating the ndarray\n",
      "  return array(a, dtype, copy=False, order=order)\n",
      "/opt/conda/lib/python3.7/site-packages/numpy/core/_asarray.py:83: VisibleDeprecationWarning: Creating an ndarray from ragged nested sequences (which is a list-or-tuple of lists-or-tuples-or ndarrays with different lengths or shapes) is deprecated. If you meant to do this, you must specify 'dtype=object' when creating the ndarray\n",
      "  return array(a, dtype, copy=False, order=order)\n"
     ]
    },
    {
     "data": {
      "text/plain": [
       "<matplotlib.axes._subplots.AxesSubplot at 0x7f344b773dd0>"
      ]
     },
     "execution_count": 66,
     "metadata": {},
     "output_type": "execute_result"
    },
    {
     "data": {
      "image/png": "[encoded data removed]",
      "text/plain": [
       "<Figure size 792x648 with 1 Axes>"
      ]
     },
     "metadata": {
      "needs_background": "light"
     },
     "output_type": "display_data"
    },
    {
     "data": {
      "image/png": "[encoded data removed]",
      "text/plain": [
       "<Figure size 792x648 with 1 Axes>"
      ]
     },
     "metadata": {
      "needs_background": "light"
     },
     "output_type": "display_data"
    }
   ],
   "source": [
    "sedan.boxplot(by='paint_color', column='price', figsize=(11,9))\n",
    "SUV.boxplot(by='paint_color', column='price', figsize=(11,9))\n"
   ]
  },
  {
   "cell_type": "markdown",
   "metadata": {},
   "source": [
    "<div class=\"alert alert-block alert-success\">\n",
    "    <h2>Reviewer's commentary <a class=\"tocSkip\"> </h2>\n",
    "    <br/>\n",
    "<b>Well done!👍:</b> \n",
    "        \n",
    "Ok, Itay, as a whole, the logic of your analysis is correct."
   ]
  },
  {
   "cell_type": "markdown",
   "metadata": {},
   "source": [
    "\n",
    "<div class=\"alert alert-block alert-warning\">\n",
    "   <h2>Reviewer's commentary <a class=\"tocSkip\"> </h2>\n",
    "    <br/>\n",
    "<b>Remarks and recommendations📌:</b>  \n",
    "       \n",
    "It seems to me that `condition` is not quantitative variable, isn't it? (despite the fact you replaced the categories with numbers) `condition` is categorical variable, so, it is better to use graphical method (boxplots as you did below or barplots) to analyse the connection between condition and price."
   ]
  },
  {
   "cell_type": "markdown",
   "metadata": {},
   "source": [
    "<div class=\"alert alert-block alert-danger\">\n",
    "    <h2>Reviewer's commentary <a class=\"tocSkip\"> </h2>\n",
    "    <br/>\n",
    "<b>Needs fixing!🤔:</b> \n",
    "        \n",
    "But plots need to be formatted at this step of the analysis and at the previous steps too."
   ]
  },
  {
   "cell_type": "markdown",
   "metadata": {},
   "source": [
    "<div class=\"alert alert-block alert-success\">\n",
    "    <h2>Reviewer's commentary: second iteration of the review <a class=\"tocSkip\"> </h2>\n",
    "    <br/>\n",
    "<b>Well done!👍:</b> \n",
    "        \n",
    "Ok, Itay, agree with your improvements here!"
   ]
  },
  {
   "cell_type": "markdown",
   "metadata": {},
   "source": [
    "## Overall conclusion"
   ]
  },
  {
   "cell_type": "markdown",
   "metadata": {},
   "source": [
    "**Conclusions for step 4:**\n",
    "\n",
    "Study outliers:\n",
    "* outliers can create very long tails, as displayed in almost all histograms\n",
    "    specificly on numeric values.\n",
    "    \n",
    "days_listed:\n",
    "* typical days_listed is around 33 days\n",
    "* there is a long tail even after filtering different parameters\n",
    "\n",
    "What impacts price\n",
    "\n",
    "* Price for sedan and SUV is effected by:\n",
    "    * car age negative correlation\n",
    "    * odometer negative correlation\n",
    "    * condition has a weak negative correlation\n",
    "    * mileage has a weak positive correlation\n",
    "        * probably because people prefer \"young\" car with high odometer old cars with same odometer\n",
    "        * also negative correlation of odometer and negative correlation for age so deviding will probably give positive\n",
    "    * transmission:\n",
    "        * sedan has more autmatic\n",
    "        * SUV similar numbers of automatic and manual\n",
    "    \n"
   ]
  },
  {
   "cell_type": "markdown",
   "metadata": {},
   "source": [
    "<div style=\"border:solid Chocolate 2px; padding: 40px\">\n",
    "\n",
    "**The overall review conclusion**\n",
    "\n",
    "Itay, thank you for submitting your project! I can see that you've worked really hard on it! And I can see your progress in comparison with the previous project! You did a great job to bring the project to completion, thanks for your patience and desire to complete the project! But there are several things in your project which I suppose it is important to fix in order to make your project really ideal! My comments will navigate you!\n",
    "\n",
    "**Good things and practices in your project I want to highlight🙂**:\n",
    "* You used different methods for working with your data. It is really great that you can apply these methods on practice, keep it up!\n",
    "* You used visualization a lot, good job!\n",
    "* You formulated very deep and concrete conclusions after the each step of the analysis!\n",
    "* You created your own functions that are really effective!\n",
    "    \n",
    "**What is worth working on👀**:\n",
    "* Pay more attention to the formatting of the plots!\n",
    "* For `days_listed` it is important to widen your conclusion.\n",
    "* You can find other recommendations in my comments!\n",
    "\n",
    " \n",
    "**Good luck! I will wait for your work for a second iteration of the review!😉**\n",
    "\n",
    "![gif](https://media.giphy.com/media/NEHwlQDizQSpa/giphy.gif)"
   ]
  },
  {
   "cell_type": "markdown",
   "metadata": {},
   "source": [
    "<div style=\"border:solid Chocolate 2px; padding: 40px\">\n",
    "\n",
    "**The overall review conclusion: second iteration of the review**\n",
    "\n",
    "Itay, thank you for submitting your project with corrections!\n",
    "    \n",
    "You did a great job to improve the project, I can see your progress, so I hasten to say that your project has been accepted and you can proceed to the next sprint!\n",
    "    \n",
    "**I wish you exciting and cool projects in the next sprints😉**\n",
    "\n",
    "![gif](https://media.giphy.com/media/HXF45CT8cvzZC/giphy.gif)  "
   ]
  },
  {
   "cell_type": "markdown",
   "metadata": {},
   "source": [
    "# Project completion checklist\n",
    "\n",
    "Mark the completed tasks with 'x'. Then press Shift+Enter."
   ]
  },
  {
   "cell_type": "markdown",
   "metadata": {},
   "source": [
    "- [x]  file opened\n",
    "- [x]  files explored (first rows printed, info() method)\n",
    "- [x]  missing values determined\n",
    "- [x]  missing values filled in\n",
    "- [x]  clarification of the discovered missing values provided\n",
    "- [x]  data types converted\n",
    "- [x]  explanation of which columns had the data types changed and why\n",
    "- [x]  calculated and added to the table: day of the week, month, and year the ad was placed\n",
    "- [x]  calculated and added to the table: the vehicle's age (in years) when the ad was placed\n",
    "- [x]  calculated and added to the table: the vehicle's average mileage per year\n",
    "- [x]  the following parameters investigated: price, vehicle's age when the ad was placed, mileage, number of cylinders, and condition\n",
    "- [x]  histograms for each parameter created\n",
    "- [x]  task completed: \"Determine the upper limits of outliers, remove the outliers and store them in a separate DataFrame, and continue your work with the filtered data.\"\n",
    "- [x]  task completed: \"Use the filtered data to plot new histograms. Compare them with the earlier histograms (the ones that included outliers). Draw conclusions for each histogram.\"\n",
    "- [x]  task completed: \"Study how many days advertisements were displayed (days_listed). Plot a histogram. Calculate the mean and median. Describe the typical lifetime of an ad. Determine when ads were removed quickly, and when they were listed for an abnormally long time.  \"\n",
    "- [x]  task completed: \"Analyze the number of ads and the average price for each type of vehicle. Plot a graph showing the dependence of the number of ads on the vehicle type. Select the two types with the greatest number of ads. \"\n",
    "- [x]  task completed: \"What factors impact the price most? Take each of the popular types you detected at the previous stage and study whether the price depends on age, mileage, condition, transmission type, and color. For categorical variables (transmission type and color), plot box-and-whisker charts, and create scatterplots for the rest. When analyzing categorical variables, note that the categories must have at least 50 ads; otherwise, their parameters won't be valid for analysis.  \"\n",
    "- [x]  each stage has a conclusion\n",
    "- [x]  overall conclusion drawn"
   ]
  },
  {
   "cell_type": "code",
   "execution_count": null,
   "metadata": {},
   "outputs": [],
   "source": []
  }
 ],
 "metadata": {
  "ExecuteTimeLog": [
   {
    "duration": 868,
    "start_time": "2021-06-23T06:13:30.110Z"
   },
   {
    "duration": 160,
    "start_time": "2021-06-23T07:15:06.590Z"
   },
   {
    "duration": 120,
    "start_time": "2021-06-23T07:15:33.235Z"
   },
   {
    "duration": 134,
    "start_time": "2021-06-23T07:15:37.672Z"
   },
   {
    "duration": 161,
    "start_time": "2021-06-23T07:16:55.547Z"
   },
   {
    "duration": 9,
    "start_time": "2021-06-23T07:22:09.578Z"
   },
   {
    "duration": 6,
    "start_time": "2021-06-23T07:22:20.066Z"
   },
   {
    "duration": 7,
    "start_time": "2021-06-23T07:22:50.340Z"
   },
   {
    "duration": 93,
    "start_time": "2021-06-23T07:26:42.750Z"
   },
   {
    "duration": 100,
    "start_time": "2021-06-23T07:27:00.681Z"
   },
   {
    "duration": 5,
    "start_time": "2021-06-23T07:27:16.749Z"
   },
   {
    "duration": 94,
    "start_time": "2021-06-23T07:27:44.113Z"
   },
   {
    "duration": 7372,
    "start_time": "2021-06-23T07:27:52.639Z"
   },
   {
    "duration": 31,
    "start_time": "2021-06-23T07:28:13.071Z"
   },
   {
    "duration": 32,
    "start_time": "2021-06-23T07:28:24.531Z"
   },
   {
    "duration": 143,
    "start_time": "2021-06-23T07:38:52.815Z"
   },
   {
    "duration": 5,
    "start_time": "2021-06-23T11:30:24.989Z"
   },
   {
    "duration": 20,
    "start_time": "2021-06-23T11:31:32.901Z"
   },
   {
    "duration": 32,
    "start_time": "2021-06-23T11:31:44.150Z"
   },
   {
    "duration": 18,
    "start_time": "2021-06-23T11:32:04.251Z"
   },
   {
    "duration": 34,
    "start_time": "2021-06-23T11:32:13.293Z"
   },
   {
    "duration": 15,
    "start_time": "2021-06-23T11:32:40.592Z"
   },
   {
    "duration": 53,
    "start_time": "2021-06-23T11:33:57.769Z"
   },
   {
    "duration": 7,
    "start_time": "2021-06-23T11:35:58.007Z"
   },
   {
    "duration": 31,
    "start_time": "2021-06-23T11:37:13.399Z"
   },
   {
    "duration": 10,
    "start_time": "2021-06-23T11:37:43.903Z"
   },
   {
    "duration": 7,
    "start_time": "2021-06-23T11:39:42.612Z"
   },
   {
    "duration": 6622,
    "start_time": "2021-06-23T12:36:36.656Z"
   },
   {
    "duration": 12,
    "start_time": "2021-06-23T12:36:46.758Z"
   },
   {
    "duration": 28,
    "start_time": "2021-06-23T12:39:42.217Z"
   },
   {
    "duration": 18,
    "start_time": "2021-06-23T12:39:46.429Z"
   },
   {
    "duration": 26,
    "start_time": "2021-06-23T12:39:50.019Z"
   },
   {
    "duration": 15,
    "start_time": "2021-06-23T12:40:16.686Z"
   },
   {
    "duration": 25,
    "start_time": "2021-06-23T12:40:19.405Z"
   },
   {
    "duration": 49,
    "start_time": "2021-06-23T12:40:47.162Z"
   },
   {
    "duration": 51,
    "start_time": "2021-06-23T12:41:47.165Z"
   },
   {
    "duration": 47,
    "start_time": "2021-06-23T12:41:54.030Z"
   },
   {
    "duration": 9,
    "start_time": "2021-06-23T12:43:50.297Z"
   },
   {
    "duration": 52,
    "start_time": "2021-06-23T12:44:30.246Z"
   },
   {
    "duration": 13,
    "start_time": "2021-06-23T12:44:57.266Z"
   },
   {
    "duration": 17,
    "start_time": "2021-06-23T12:45:15.535Z"
   },
   {
    "duration": 63,
    "start_time": "2021-06-23T12:46:08.779Z"
   },
   {
    "duration": 319,
    "start_time": "2021-06-23T12:48:17.703Z"
   },
   {
    "duration": 42,
    "start_time": "2021-06-23T12:59:29.941Z"
   },
   {
    "duration": 60,
    "start_time": "2021-06-23T13:02:40.410Z"
   },
   {
    "duration": 25,
    "start_time": "2021-06-23T13:03:00.597Z"
   },
   {
    "duration": 39,
    "start_time": "2021-06-23T13:04:17.332Z"
   },
   {
    "duration": 95,
    "start_time": "2021-06-23T13:04:24.266Z"
   },
   {
    "duration": 3404,
    "start_time": "2021-06-23T13:04:36.523Z"
   },
   {
    "duration": 36,
    "start_time": "2021-06-23T13:04:40.292Z"
   },
   {
    "duration": 19,
    "start_time": "2021-06-23T13:04:54.942Z"
   },
   {
    "duration": 35,
    "start_time": "2021-06-23T13:05:03.327Z"
   },
   {
    "duration": 409,
    "start_time": "2021-06-25T09:45:48.021Z"
   },
   {
    "duration": 859,
    "start_time": "2021-06-25T09:46:06.003Z"
   },
   {
    "duration": 59,
    "start_time": "2021-06-25T09:46:09.960Z"
   },
   {
    "duration": 64,
    "start_time": "2021-06-25T09:46:12.330Z"
   },
   {
    "duration": 55,
    "start_time": "2021-06-25T09:46:15.360Z"
   },
   {
    "duration": 16,
    "start_time": "2021-06-25T09:46:17.353Z"
   },
   {
    "duration": 63,
    "start_time": "2021-06-25T09:46:20.065Z"
   },
   {
    "duration": 347,
    "start_time": "2021-06-25T09:46:24.092Z"
   },
   {
    "duration": 41,
    "start_time": "2021-06-25T09:46:28.300Z"
   },
   {
    "duration": 11,
    "start_time": "2021-06-25T09:48:03.255Z"
   },
   {
    "duration": 20,
    "start_time": "2021-06-25T09:48:11.662Z"
   },
   {
    "duration": 12,
    "start_time": "2021-06-25T09:48:20.451Z"
   },
   {
    "duration": 40,
    "start_time": "2021-06-25T09:48:34.130Z"
   },
   {
    "duration": 44,
    "start_time": "2021-06-25T09:49:17.486Z"
   },
   {
    "duration": 46,
    "start_time": "2021-06-25T09:50:30.000Z"
   },
   {
    "duration": 28,
    "start_time": "2021-06-25T09:50:59.000Z"
   },
   {
    "duration": 921,
    "start_time": "2021-06-26T06:03:11.225Z"
   },
   {
    "duration": 51,
    "start_time": "2021-06-26T06:03:16.404Z"
   },
   {
    "duration": 51,
    "start_time": "2021-06-26T06:03:20.235Z"
   },
   {
    "duration": 15,
    "start_time": "2021-06-26T06:03:23.569Z"
   },
   {
    "duration": 14,
    "start_time": "2021-06-26T06:03:27.546Z"
   },
   {
    "duration": 51,
    "start_time": "2021-06-26T06:03:31.249Z"
   },
   {
    "duration": 333,
    "start_time": "2021-06-26T06:03:34.299Z"
   },
   {
    "duration": 32,
    "start_time": "2021-06-26T06:04:16.189Z"
   },
   {
    "duration": 52,
    "start_time": "2021-06-26T06:04:27.458Z"
   },
   {
    "duration": 42,
    "start_time": "2021-06-26T06:04:31.813Z"
   },
   {
    "duration": 39,
    "start_time": "2021-06-26T06:04:35.566Z"
   },
   {
    "duration": 325,
    "start_time": "2021-06-26T06:18:47.870Z"
   },
   {
    "duration": 8,
    "start_time": "2021-06-26T06:23:32.129Z"
   },
   {
    "duration": 5,
    "start_time": "2021-06-26T06:23:41.645Z"
   },
   {
    "duration": 446,
    "start_time": "2021-06-26T06:23:54.782Z"
   },
   {
    "duration": 369,
    "start_time": "2021-06-26T06:24:02.670Z"
   },
   {
    "duration": 22,
    "start_time": "2021-06-26T06:24:34.855Z"
   },
   {
    "duration": 360,
    "start_time": "2021-06-26T06:24:41.270Z"
   },
   {
    "duration": 12,
    "start_time": "2021-06-26T06:24:44.430Z"
   },
   {
    "duration": 369,
    "start_time": "2021-06-26T06:25:42.374Z"
   },
   {
    "duration": 415,
    "start_time": "2021-06-26T06:26:20.257Z"
   },
   {
    "duration": 494,
    "start_time": "2021-06-26T06:27:35.321Z"
   },
   {
    "duration": 6,
    "start_time": "2021-06-26T06:28:14.769Z"
   },
   {
    "duration": 560,
    "start_time": "2021-06-26T06:28:27.983Z"
   },
   {
    "duration": 833,
    "start_time": "2021-06-26T06:31:21.426Z"
   },
   {
    "duration": 392,
    "start_time": "2021-06-26T06:35:05.353Z"
   },
   {
    "duration": 358,
    "start_time": "2021-06-26T06:35:15.268Z"
   },
   {
    "duration": 13,
    "start_time": "2021-06-26T06:37:04.062Z"
   },
   {
    "duration": 176,
    "start_time": "2021-06-26T06:37:10.607Z"
   },
   {
    "duration": 54,
    "start_time": "2021-06-26T06:37:14.302Z"
   },
   {
    "duration": 53,
    "start_time": "2021-06-26T06:37:19.868Z"
   },
   {
    "duration": 17,
    "start_time": "2021-06-26T06:37:21.904Z"
   },
   {
    "duration": 60,
    "start_time": "2021-06-26T06:37:24.339Z"
   },
   {
    "duration": 341,
    "start_time": "2021-06-26T06:37:27.626Z"
   },
   {
    "duration": 30,
    "start_time": "2021-06-26T06:37:32.147Z"
   },
   {
    "duration": 47,
    "start_time": "2021-06-26T06:37:34.731Z"
   },
   {
    "duration": 40,
    "start_time": "2021-06-26T06:37:37.293Z"
   },
   {
    "duration": 20,
    "start_time": "2021-06-26T06:37:47.612Z"
   },
   {
    "duration": 45,
    "start_time": "2021-06-26T06:38:03.635Z"
   },
   {
    "duration": 14,
    "start_time": "2021-06-26T06:38:17.163Z"
   },
   {
    "duration": 38,
    "start_time": "2021-06-26T06:38:34.825Z"
   },
   {
    "duration": 156,
    "start_time": "2021-06-26T06:38:58.270Z"
   },
   {
    "duration": 55,
    "start_time": "2021-06-26T06:39:03.898Z"
   },
   {
    "duration": 55,
    "start_time": "2021-06-26T06:39:07.031Z"
   },
   {
    "duration": 16,
    "start_time": "2021-06-26T06:39:12.731Z"
   },
   {
    "duration": 53,
    "start_time": "2021-06-26T06:39:13.959Z"
   },
   {
    "duration": 338,
    "start_time": "2021-06-26T06:39:15.715Z"
   },
   {
    "duration": 30,
    "start_time": "2021-06-26T06:39:19.651Z"
   },
   {
    "duration": 50,
    "start_time": "2021-06-26T06:39:21.604Z"
   },
   {
    "duration": 48,
    "start_time": "2021-06-26T06:39:25.659Z"
   },
   {
    "duration": 39,
    "start_time": "2021-06-26T06:39:30.706Z"
   },
   {
    "duration": 38,
    "start_time": "2021-06-26T06:39:34.067Z"
   },
   {
    "duration": 14,
    "start_time": "2021-06-26T06:39:48.496Z"
   },
   {
    "duration": 13,
    "start_time": "2021-06-26T06:40:08.032Z"
   },
   {
    "duration": 532,
    "start_time": "2021-06-26T06:40:21.893Z"
   },
   {
    "duration": 15,
    "start_time": "2021-06-26T06:40:24.946Z"
   },
   {
    "duration": 15,
    "start_time": "2021-06-26T06:41:05.633Z"
   },
   {
    "duration": 30,
    "start_time": "2021-06-26T06:54:53.713Z"
   },
   {
    "duration": 31,
    "start_time": "2021-06-26T06:58:21.264Z"
   },
   {
    "duration": 36,
    "start_time": "2021-06-26T06:58:32.560Z"
   },
   {
    "duration": 54,
    "start_time": "2021-06-26T06:59:31.813Z"
   },
   {
    "duration": 90,
    "start_time": "2021-06-26T07:00:06.001Z"
   },
   {
    "duration": 363,
    "start_time": "2021-06-26T07:03:23.332Z"
   },
   {
    "duration": 8620,
    "start_time": "2021-06-26T07:03:34.869Z"
   },
   {
    "duration": 389,
    "start_time": "2021-06-26T07:08:19.314Z"
   },
   {
    "duration": 49,
    "start_time": "2021-06-26T07:09:02.266Z"
   },
   {
    "duration": 19,
    "start_time": "2021-06-26T07:09:25.104Z"
   },
   {
    "duration": 8877,
    "start_time": "2021-06-26T07:11:51.193Z"
   },
   {
    "duration": 362,
    "start_time": "2021-06-26T07:12:29.231Z"
   },
   {
    "duration": 10126,
    "start_time": "2021-06-26T07:12:39.926Z"
   },
   {
    "duration": 10,
    "start_time": "2021-06-26T07:12:59.754Z"
   },
   {
    "duration": 9,
    "start_time": "2021-06-26T07:13:06.870Z"
   },
   {
    "duration": 15,
    "start_time": "2021-06-26T07:18:22.399Z"
   },
   {
    "duration": 1672,
    "start_time": "2021-06-26T07:20:51.937Z"
   },
   {
    "duration": 2704,
    "start_time": "2021-06-26T07:21:02.853Z"
   },
   {
    "duration": 13,
    "start_time": "2021-06-26T07:21:06.485Z"
   },
   {
    "duration": 15,
    "start_time": "2021-06-26T07:21:59.009Z"
   },
   {
    "duration": 336,
    "start_time": "2021-06-26T07:22:48.230Z"
   },
   {
    "duration": 1345,
    "start_time": "2021-06-26T07:23:19.894Z"
   },
   {
    "duration": 12,
    "start_time": "2021-06-26T07:23:27.408Z"
   },
   {
    "duration": 9,
    "start_time": "2021-06-26T07:23:32.686Z"
   },
   {
    "duration": 1379,
    "start_time": "2021-06-26T07:23:49.865Z"
   },
   {
    "duration": 10,
    "start_time": "2021-06-26T07:24:08.467Z"
   },
   {
    "duration": 192,
    "start_time": "2021-06-26T07:24:16.476Z"
   },
   {
    "duration": 1062,
    "start_time": "2021-06-26T07:24:48.502Z"
   },
   {
    "duration": 85,
    "start_time": "2021-06-26T07:24:49.566Z"
   },
   {
    "duration": 70,
    "start_time": "2021-06-26T07:24:49.658Z"
   },
   {
    "duration": 17,
    "start_time": "2021-06-26T07:24:49.730Z"
   },
   {
    "duration": 51,
    "start_time": "2021-06-26T07:24:49.750Z"
   },
   {
    "duration": 387,
    "start_time": "2021-06-26T07:24:49.810Z"
   },
   {
    "duration": 42,
    "start_time": "2021-06-26T07:24:50.201Z"
   },
   {
    "duration": 53,
    "start_time": "2021-06-26T07:24:50.246Z"
   },
   {
    "duration": 63,
    "start_time": "2021-06-26T07:24:50.301Z"
   },
   {
    "duration": 47,
    "start_time": "2021-06-26T07:24:50.366Z"
   },
   {
    "duration": 101,
    "start_time": "2021-06-26T07:24:50.418Z"
   },
   {
    "duration": 14,
    "start_time": "2021-06-26T07:24:50.522Z"
   },
   {
    "duration": 8,
    "start_time": "2021-06-26T07:24:50.540Z"
   },
   {
    "duration": 1722,
    "start_time": "2021-06-26T07:24:50.550Z"
   },
   {
    "duration": 13,
    "start_time": "2021-06-26T07:24:52.274Z"
   },
   {
    "duration": 478,
    "start_time": "2021-06-26T07:27:42.036Z"
   },
   {
    "duration": 8,
    "start_time": "2021-06-26T07:28:32.615Z"
   },
   {
    "duration": 177,
    "start_time": "2021-06-26T07:28:45.657Z"
   },
   {
    "duration": 53,
    "start_time": "2021-06-26T07:28:51.742Z"
   },
   {
    "duration": 74,
    "start_time": "2021-06-26T07:28:59.409Z"
   },
   {
    "duration": 15,
    "start_time": "2021-06-26T07:29:07.789Z"
   },
   {
    "duration": 57,
    "start_time": "2021-06-26T07:29:11.258Z"
   },
   {
    "duration": 374,
    "start_time": "2021-06-26T07:29:16.452Z"
   },
   {
    "duration": 369,
    "start_time": "2021-06-26T07:29:18.668Z"
   },
   {
    "duration": 32,
    "start_time": "2021-06-26T07:29:21.574Z"
   },
   {
    "duration": 29,
    "start_time": "2021-06-26T07:29:25.141Z"
   },
   {
    "duration": 48,
    "start_time": "2021-06-26T07:29:30.758Z"
   },
   {
    "duration": 38,
    "start_time": "2021-06-26T07:29:35.846Z"
   },
   {
    "duration": 49,
    "start_time": "2021-06-26T07:29:39.096Z"
   },
   {
    "duration": 104,
    "start_time": "2021-06-26T07:29:45.704Z"
   },
   {
    "duration": 10,
    "start_time": "2021-06-26T07:29:54.624Z"
   },
   {
    "duration": 9,
    "start_time": "2021-06-26T07:29:58.586Z"
   },
   {
    "duration": 11,
    "start_time": "2021-06-26T07:30:27.199Z"
   },
   {
    "duration": 13,
    "start_time": "2021-06-26T07:30:59.636Z"
   },
   {
    "duration": 19,
    "start_time": "2021-06-26T07:31:15.186Z"
   },
   {
    "duration": 32,
    "start_time": "2021-06-26T07:31:45.821Z"
   },
   {
    "duration": 1393,
    "start_time": "2021-06-26T07:31:49.998Z"
   },
   {
    "duration": 19,
    "start_time": "2021-06-26T07:31:51.394Z"
   },
   {
    "duration": 353,
    "start_time": "2021-06-26T08:16:57.523Z"
   },
   {
    "duration": 695,
    "start_time": "2021-06-26T08:17:05.278Z"
   },
   {
    "duration": 938,
    "start_time": "2021-06-26T08:17:44.414Z"
   },
   {
    "duration": 937,
    "start_time": "2021-06-26T08:17:56.954Z"
   },
   {
    "duration": 636,
    "start_time": "2021-06-26T08:18:32.316Z"
   },
   {
    "duration": 555,
    "start_time": "2021-06-26T08:19:22.257Z"
   },
   {
    "duration": 583,
    "start_time": "2021-06-26T08:19:50.627Z"
   },
   {
    "duration": 544,
    "start_time": "2021-06-26T08:20:11.920Z"
   },
   {
    "duration": 603,
    "start_time": "2021-06-26T08:20:21.719Z"
   },
   {
    "duration": 651,
    "start_time": "2021-06-26T08:22:53.933Z"
   },
   {
    "duration": 571,
    "start_time": "2021-06-26T08:23:10.923Z"
   },
   {
    "duration": 8,
    "start_time": "2021-06-26T08:23:28.790Z"
   },
   {
    "duration": 9,
    "start_time": "2021-06-26T08:23:54.235Z"
   },
   {
    "duration": 10,
    "start_time": "2021-06-26T08:24:22.191Z"
   },
   {
    "duration": 575,
    "start_time": "2021-06-26T08:25:52.344Z"
   },
   {
    "duration": 571,
    "start_time": "2021-06-26T08:26:18.091Z"
   },
   {
    "duration": 1131,
    "start_time": "2021-06-26T08:28:02.941Z"
   },
   {
    "duration": 1813,
    "start_time": "2021-06-26T08:30:39.098Z"
   },
   {
    "duration": 2259,
    "start_time": "2021-06-26T08:31:46.329Z"
   },
   {
    "duration": 797,
    "start_time": "2021-06-26T08:32:55.642Z"
   },
   {
    "duration": 654,
    "start_time": "2021-06-26T08:33:36.888Z"
   },
   {
    "duration": 1104,
    "start_time": "2021-06-26T08:33:55.600Z"
   },
   {
    "duration": 1700,
    "start_time": "2021-06-26T08:34:31.642Z"
   },
   {
    "duration": 2312,
    "start_time": "2021-06-26T08:35:10.639Z"
   },
   {
    "duration": 2580,
    "start_time": "2021-06-26T08:40:52.420Z"
   },
   {
    "duration": 2497,
    "start_time": "2021-06-26T08:42:03.380Z"
   },
   {
    "duration": 2722,
    "start_time": "2021-06-26T08:42:55.842Z"
   },
   {
    "duration": 869,
    "start_time": "2021-06-26T09:16:47.747Z"
   },
   {
    "duration": 923,
    "start_time": "2021-06-26T09:17:36.394Z"
   },
   {
    "duration": 2002,
    "start_time": "2021-06-26T09:18:19.911Z"
   },
   {
    "duration": 2797,
    "start_time": "2021-06-26T09:19:02.373Z"
   },
   {
    "duration": 2926,
    "start_time": "2021-06-26T09:19:07.252Z"
   },
   {
    "duration": 2969,
    "start_time": "2021-06-26T09:19:30.018Z"
   },
   {
    "duration": 2115,
    "start_time": "2021-06-26T09:21:51.734Z"
   },
   {
    "duration": 2032,
    "start_time": "2021-06-26T09:22:06.446Z"
   },
   {
    "duration": 841,
    "start_time": "2021-06-26T09:30:07.210Z"
   },
   {
    "duration": 851,
    "start_time": "2021-06-26T09:31:05.587Z"
   },
   {
    "duration": 339,
    "start_time": "2021-06-26T09:37:46.339Z"
   },
   {
    "duration": 1607,
    "start_time": "2021-06-26T09:39:10.522Z"
   },
   {
    "duration": 398,
    "start_time": "2021-06-26T09:39:15.768Z"
   },
   {
    "duration": 347,
    "start_time": "2021-06-26T09:39:23.810Z"
   },
   {
    "duration": 323,
    "start_time": "2021-06-26T09:44:26.612Z"
   },
   {
    "duration": 917,
    "start_time": "2021-06-26T09:47:12.245Z"
   },
   {
    "duration": 77,
    "start_time": "2021-06-26T09:47:13.166Z"
   },
   {
    "duration": 78,
    "start_time": "2021-06-26T09:47:13.248Z"
   },
   {
    "duration": 15,
    "start_time": "2021-06-26T09:47:13.328Z"
   },
   {
    "duration": 82,
    "start_time": "2021-06-26T09:47:13.345Z"
   },
   {
    "duration": 383,
    "start_time": "2021-06-26T09:47:13.429Z"
   },
   {
    "duration": 31,
    "start_time": "2021-06-26T09:47:13.815Z"
   },
   {
    "duration": 76,
    "start_time": "2021-06-26T09:47:13.850Z"
   },
   {
    "duration": 42,
    "start_time": "2021-06-26T09:47:13.929Z"
   },
   {
    "duration": 58,
    "start_time": "2021-06-26T09:47:13.974Z"
   },
   {
    "duration": 116,
    "start_time": "2021-06-26T09:47:14.035Z"
   },
   {
    "duration": 9,
    "start_time": "2021-06-26T09:47:14.154Z"
   },
   {
    "duration": 10,
    "start_time": "2021-06-26T09:47:14.166Z"
   },
   {
    "duration": 13,
    "start_time": "2021-06-26T09:47:14.209Z"
   },
   {
    "duration": 1199,
    "start_time": "2021-06-26T09:47:14.225Z"
   },
   {
    "duration": 9,
    "start_time": "2021-06-26T09:47:15.427Z"
   },
   {
    "duration": 758,
    "start_time": "2021-06-26T09:47:15.438Z"
   },
   {
    "duration": 910,
    "start_time": "2021-06-26T09:47:16.199Z"
   },
   {
    "duration": 1883,
    "start_time": "2021-06-26T09:47:17.111Z"
   },
   {
    "duration": 352,
    "start_time": "2021-06-26T09:47:18.997Z"
   },
   {
    "duration": 356,
    "start_time": "2021-06-26T09:47:19.352Z"
   },
   {
    "duration": 200,
    "start_time": "2021-06-26T10:07:39.255Z"
   },
   {
    "duration": 665,
    "start_time": "2021-06-26T10:09:18.208Z"
   },
   {
    "duration": 273,
    "start_time": "2021-06-26T10:09:31.272Z"
   },
   {
    "duration": 300,
    "start_time": "2021-06-26T10:11:34.894Z"
   },
   {
    "duration": 284,
    "start_time": "2021-06-26T10:11:52.803Z"
   },
   {
    "duration": 291,
    "start_time": "2021-06-26T10:11:59.511Z"
   },
   {
    "duration": 145,
    "start_time": "2021-06-26T10:13:16.738Z"
   },
   {
    "duration": 21,
    "start_time": "2021-06-26T10:13:19.731Z"
   },
   {
    "duration": 55,
    "start_time": "2021-06-26T10:13:21.796Z"
   },
   {
    "duration": 90,
    "start_time": "2021-06-26T10:13:24.444Z"
   },
   {
    "duration": 978,
    "start_time": "2021-06-26T10:30:16.498Z"
   },
   {
    "duration": 38,
    "start_time": "2021-06-26T10:30:17.479Z"
   },
   {
    "duration": 54,
    "start_time": "2021-06-26T10:30:17.520Z"
   },
   {
    "duration": 134,
    "start_time": "2021-06-26T10:30:17.576Z"
   },
   {
    "duration": 53,
    "start_time": "2021-06-26T10:30:17.713Z"
   },
   {
    "duration": 83,
    "start_time": "2021-06-26T10:30:17.770Z"
   },
   {
    "duration": 16,
    "start_time": "2021-06-26T10:30:17.856Z"
   },
   {
    "duration": 78,
    "start_time": "2021-06-26T10:30:17.874Z"
   },
   {
    "duration": 367,
    "start_time": "2021-06-26T10:30:17.955Z"
   },
   {
    "duration": 33,
    "start_time": "2021-06-26T10:30:18.325Z"
   },
   {
    "duration": 81,
    "start_time": "2021-06-26T10:30:18.361Z"
   },
   {
    "duration": 38,
    "start_time": "2021-06-26T10:30:18.444Z"
   },
   {
    "duration": 59,
    "start_time": "2021-06-26T10:30:18.485Z"
   },
   {
    "duration": 110,
    "start_time": "2021-06-26T10:30:18.546Z"
   },
   {
    "duration": 11,
    "start_time": "2021-06-26T10:30:18.658Z"
   },
   {
    "duration": 42,
    "start_time": "2021-06-26T10:30:18.672Z"
   },
   {
    "duration": 13,
    "start_time": "2021-06-26T10:30:18.716Z"
   },
   {
    "duration": 1242,
    "start_time": "2021-06-26T10:30:18.733Z"
   },
   {
    "duration": 7,
    "start_time": "2021-06-26T10:30:19.978Z"
   },
   {
    "duration": 738,
    "start_time": "2021-06-26T10:30:19.987Z"
   },
   {
    "duration": 839,
    "start_time": "2021-06-26T10:30:20.727Z"
   },
   {
    "duration": 1788,
    "start_time": "2021-06-26T10:30:21.568Z"
   },
   {
    "duration": 343,
    "start_time": "2021-06-26T10:30:23.359Z"
   },
   {
    "duration": 318,
    "start_time": "2021-06-26T10:30:23.709Z"
   },
   {
    "duration": 153,
    "start_time": "2021-06-26T10:30:33.742Z"
   },
   {
    "duration": 38,
    "start_time": "2021-06-26T10:31:33.530Z"
   },
   {
    "duration": 477,
    "start_time": "2021-06-26T10:31:59.601Z"
   },
   {
    "duration": 143,
    "start_time": "2021-06-26T10:32:11.716Z"
   },
   {
    "duration": 20,
    "start_time": "2021-06-26T10:32:14.564Z"
   },
   {
    "duration": 25,
    "start_time": "2021-06-26T10:32:35.548Z"
   },
   {
    "duration": 115,
    "start_time": "2021-06-26T10:32:38.365Z"
   },
   {
    "duration": 912,
    "start_time": "2021-06-26T10:32:48.316Z"
   },
   {
    "duration": 28,
    "start_time": "2021-06-26T10:32:49.230Z"
   },
   {
    "duration": 49,
    "start_time": "2021-06-26T10:32:49.261Z"
   },
   {
    "duration": 53,
    "start_time": "2021-06-26T10:32:49.313Z"
   },
   {
    "duration": 111,
    "start_time": "2021-06-26T10:32:49.369Z"
   },
   {
    "duration": 67,
    "start_time": "2021-06-26T10:32:49.482Z"
   },
   {
    "duration": 78,
    "start_time": "2021-06-26T10:32:49.551Z"
   },
   {
    "duration": 14,
    "start_time": "2021-06-26T10:32:49.633Z"
   },
   {
    "duration": 80,
    "start_time": "2021-06-26T10:32:49.650Z"
   },
   {
    "duration": 362,
    "start_time": "2021-06-26T10:32:49.732Z"
   },
   {
    "duration": 36,
    "start_time": "2021-06-26T10:32:50.096Z"
   },
   {
    "duration": 49,
    "start_time": "2021-06-26T10:32:50.135Z"
   },
   {
    "duration": 58,
    "start_time": "2021-06-26T10:32:50.186Z"
   },
   {
    "duration": 66,
    "start_time": "2021-06-26T10:32:50.246Z"
   },
   {
    "duration": 102,
    "start_time": "2021-06-26T10:32:50.314Z"
   },
   {
    "duration": 10,
    "start_time": "2021-06-26T10:32:50.418Z"
   },
   {
    "duration": 8,
    "start_time": "2021-06-26T10:32:50.430Z"
   },
   {
    "duration": 18,
    "start_time": "2021-06-26T10:32:50.441Z"
   },
   {
    "duration": 1190,
    "start_time": "2021-06-26T10:32:50.462Z"
   },
   {
    "duration": 8,
    "start_time": "2021-06-26T10:32:51.654Z"
   },
   {
    "duration": 739,
    "start_time": "2021-06-26T10:32:51.664Z"
   },
   {
    "duration": 845,
    "start_time": "2021-06-26T10:32:52.408Z"
   },
   {
    "duration": 1840,
    "start_time": "2021-06-26T10:32:53.257Z"
   },
   {
    "duration": 333,
    "start_time": "2021-06-26T10:32:55.100Z"
   },
   {
    "duration": 330,
    "start_time": "2021-06-26T10:32:55.436Z"
   },
   {
    "duration": 28,
    "start_time": "2021-06-26T10:33:04.864Z"
   },
   {
    "duration": 68,
    "start_time": "2021-06-26T10:33:18.697Z"
   },
   {
    "duration": 7,
    "start_time": "2021-06-26T10:34:30.041Z"
   },
   {
    "duration": 9,
    "start_time": "2021-06-26T10:34:34.117Z"
   },
   {
    "duration": 56,
    "start_time": "2021-06-26T10:35:05.202Z"
   },
   {
    "duration": 22,
    "start_time": "2021-06-26T10:35:53.204Z"
   },
   {
    "duration": 100,
    "start_time": "2021-06-26T10:36:03.718Z"
   },
   {
    "duration": 93,
    "start_time": "2021-06-26T10:36:15.043Z"
   },
   {
    "duration": 94,
    "start_time": "2021-06-26T10:36:16.874Z"
   },
   {
    "duration": 79,
    "start_time": "2021-06-26T10:37:18.653Z"
   },
   {
    "duration": 151,
    "start_time": "2021-06-26T10:41:01.774Z"
   },
   {
    "duration": 101,
    "start_time": "2021-06-26T10:41:42.508Z"
   },
   {
    "duration": 58,
    "start_time": "2021-06-26T10:42:24.967Z"
   },
   {
    "duration": 991,
    "start_time": "2021-06-26T10:42:32.233Z"
   },
   {
    "duration": 26,
    "start_time": "2021-06-26T10:42:33.227Z"
   },
   {
    "duration": 30,
    "start_time": "2021-06-26T10:42:33.256Z"
   },
   {
    "duration": 56,
    "start_time": "2021-06-26T10:42:33.310Z"
   },
   {
    "duration": 119,
    "start_time": "2021-06-26T10:42:33.368Z"
   },
   {
    "duration": 61,
    "start_time": "2021-06-26T10:42:33.489Z"
   },
   {
    "duration": 85,
    "start_time": "2021-06-26T10:42:33.553Z"
   },
   {
    "duration": 18,
    "start_time": "2021-06-26T10:42:33.642Z"
   },
   {
    "duration": 86,
    "start_time": "2021-06-26T10:42:33.664Z"
   },
   {
    "duration": 371,
    "start_time": "2021-06-26T10:42:33.753Z"
   },
   {
    "duration": 34,
    "start_time": "2021-06-26T10:42:34.127Z"
   },
   {
    "duration": 84,
    "start_time": "2021-06-26T10:42:34.163Z"
   },
   {
    "duration": 67,
    "start_time": "2021-06-26T10:42:34.249Z"
   },
   {
    "duration": 41,
    "start_time": "2021-06-26T10:42:34.318Z"
   },
   {
    "duration": 90,
    "start_time": "2021-06-26T10:42:34.362Z"
   },
   {
    "duration": 6,
    "start_time": "2021-06-26T10:42:34.455Z"
   },
   {
    "duration": 12,
    "start_time": "2021-06-26T10:42:34.464Z"
   },
   {
    "duration": 38,
    "start_time": "2021-06-26T10:42:34.478Z"
   },
   {
    "duration": 14,
    "start_time": "2021-06-26T10:42:34.518Z"
   },
   {
    "duration": 1225,
    "start_time": "2021-06-26T10:42:34.534Z"
   },
   {
    "duration": 8,
    "start_time": "2021-06-26T10:42:35.762Z"
   },
   {
    "duration": 790,
    "start_time": "2021-06-26T10:42:35.772Z"
   },
   {
    "duration": 849,
    "start_time": "2021-06-26T10:42:36.568Z"
   },
   {
    "duration": 1797,
    "start_time": "2021-06-26T10:42:37.420Z"
   },
   {
    "duration": 338,
    "start_time": "2021-06-26T10:42:39.220Z"
   },
   {
    "duration": 323,
    "start_time": "2021-06-26T10:42:39.560Z"
   },
   {
    "duration": 22,
    "start_time": "2021-06-26T10:43:00.350Z"
   },
   {
    "duration": 23,
    "start_time": "2021-06-26T10:43:04.449Z"
   },
   {
    "duration": 82,
    "start_time": "2021-06-26T10:43:18.155Z"
   },
   {
    "duration": 127,
    "start_time": "2021-06-26T11:33:39.791Z"
   },
   {
    "duration": 121,
    "start_time": "2021-06-26T11:33:42.575Z"
   },
   {
    "duration": 26,
    "start_time": "2021-06-26T11:33:43.894Z"
   },
   {
    "duration": 21,
    "start_time": "2021-06-26T11:33:45.390Z"
   },
   {
    "duration": 53,
    "start_time": "2021-06-26T11:33:46.336Z"
   },
   {
    "duration": 92,
    "start_time": "2021-06-26T11:33:52.796Z"
   },
   {
    "duration": 55,
    "start_time": "2021-06-26T11:34:07.955Z"
   },
   {
    "duration": 63,
    "start_time": "2021-06-26T11:34:14.411Z"
   },
   {
    "duration": 15,
    "start_time": "2021-06-26T11:34:17.978Z"
   },
   {
    "duration": 61,
    "start_time": "2021-06-26T11:34:20.606Z"
   },
   {
    "duration": 123,
    "start_time": "2021-06-26T12:20:22.308Z"
   },
   {
    "duration": 27,
    "start_time": "2021-06-26T12:20:23.891Z"
   },
   {
    "duration": 21,
    "start_time": "2021-06-26T12:20:28.640Z"
   },
   {
    "duration": 54,
    "start_time": "2021-06-26T12:20:32.676Z"
   },
   {
    "duration": 93,
    "start_time": "2021-06-26T12:20:43.780Z"
   },
   {
    "duration": 52,
    "start_time": "2021-06-26T12:21:02.434Z"
   },
   {
    "duration": 120,
    "start_time": "2021-06-26T12:30:02.252Z"
   },
   {
    "duration": 117,
    "start_time": "2021-06-26T12:30:03.411Z"
   },
   {
    "duration": 26,
    "start_time": "2021-06-26T12:30:03.916Z"
   },
   {
    "duration": 20,
    "start_time": "2021-06-26T12:30:04.750Z"
   },
   {
    "duration": 54,
    "start_time": "2021-06-26T12:30:06.739Z"
   },
   {
    "duration": 94,
    "start_time": "2021-06-26T12:30:07.716Z"
   },
   {
    "duration": 53,
    "start_time": "2021-06-26T12:30:12.157Z"
   },
   {
    "duration": 56,
    "start_time": "2021-06-26T12:30:14.819Z"
   },
   {
    "duration": 15,
    "start_time": "2021-06-26T12:30:15.447Z"
   },
   {
    "duration": 50,
    "start_time": "2021-06-26T12:30:17.404Z"
   },
   {
    "duration": 327,
    "start_time": "2021-06-26T12:30:22.544Z"
   },
   {
    "duration": 29,
    "start_time": "2021-06-26T12:30:26.802Z"
   },
   {
    "duration": 48,
    "start_time": "2021-06-26T12:30:29.425Z"
   },
   {
    "duration": 39,
    "start_time": "2021-06-26T12:30:30.230Z"
   },
   {
    "duration": 38,
    "start_time": "2021-06-26T12:30:35.994Z"
   },
   {
    "duration": 83,
    "start_time": "2021-06-26T12:30:45.652Z"
   },
   {
    "duration": 6,
    "start_time": "2021-06-26T12:30:51.664Z"
   },
   {
    "duration": 11,
    "start_time": "2021-06-26T12:30:53.033Z"
   },
   {
    "duration": 14,
    "start_time": "2021-06-26T12:31:28.476Z"
   },
   {
    "duration": 10,
    "start_time": "2021-06-26T12:31:50.916Z"
   },
   {
    "duration": 7,
    "start_time": "2021-06-26T12:32:45.985Z"
   },
   {
    "duration": 12,
    "start_time": "2021-06-26T12:33:11.853Z"
   },
   {
    "duration": 7,
    "start_time": "2021-06-26T12:34:31.909Z"
   },
   {
    "duration": 6,
    "start_time": "2021-06-26T12:34:45.723Z"
   },
   {
    "duration": 452,
    "start_time": "2021-06-26T12:41:19.360Z"
   },
   {
    "duration": 6,
    "start_time": "2021-06-26T12:41:23.806Z"
   },
   {
    "duration": 359,
    "start_time": "2021-06-26T12:41:26.055Z"
   },
   {
    "duration": 449,
    "start_time": "2021-06-26T12:41:36.772Z"
   },
   {
    "duration": 393,
    "start_time": "2021-06-26T12:41:52.530Z"
   },
   {
    "duration": 5,
    "start_time": "2021-06-26T12:42:03.300Z"
   },
   {
    "duration": 7,
    "start_time": "2021-06-26T12:42:11.790Z"
   },
   {
    "duration": 327,
    "start_time": "2021-06-26T12:42:20.076Z"
   },
   {
    "duration": 368,
    "start_time": "2021-06-26T12:42:34.117Z"
   },
   {
    "duration": 8,
    "start_time": "2021-06-26T12:43:34.558Z"
   },
   {
    "duration": 7,
    "start_time": "2021-06-26T12:44:51.154Z"
   },
   {
    "duration": 5,
    "start_time": "2021-06-26T12:45:02.363Z"
   },
   {
    "duration": 11,
    "start_time": "2021-06-26T12:45:21.337Z"
   },
   {
    "duration": 126,
    "start_time": "2021-06-26T12:53:46.848Z"
   },
   {
    "duration": 4,
    "start_time": "2021-06-26T12:53:47.464Z"
   },
   {
    "duration": 28,
    "start_time": "2021-06-26T12:53:47.857Z"
   },
   {
    "duration": 20,
    "start_time": "2021-06-26T12:53:49.210Z"
   },
   {
    "duration": 53,
    "start_time": "2021-06-26T12:53:50.050Z"
   },
   {
    "duration": 89,
    "start_time": "2021-06-26T12:53:50.776Z"
   },
   {
    "duration": 51,
    "start_time": "2021-06-26T12:53:56.576Z"
   },
   {
    "duration": 52,
    "start_time": "2021-06-26T12:54:01.304Z"
   },
   {
    "duration": 8,
    "start_time": "2021-06-26T12:54:05.096Z"
   },
   {
    "duration": 36,
    "start_time": "2021-06-26T12:54:05.721Z"
   },
   {
    "duration": 365,
    "start_time": "2021-06-26T12:54:26.079Z"
   },
   {
    "duration": 14,
    "start_time": "2021-06-26T12:54:47.537Z"
   },
   {
    "duration": 393,
    "start_time": "2021-06-26T12:56:16.006Z"
   },
   {
    "duration": 16,
    "start_time": "2021-06-26T12:56:41.811Z"
   },
   {
    "duration": 34,
    "start_time": "2021-06-26T12:56:49.346Z"
   },
   {
    "duration": 14,
    "start_time": "2021-06-26T12:57:25.810Z"
   },
   {
    "duration": 18,
    "start_time": "2021-06-26T12:57:30.715Z"
   },
   {
    "duration": 36,
    "start_time": "2021-06-26T12:57:34.339Z"
   },
   {
    "duration": 21,
    "start_time": "2021-06-26T13:00:17.225Z"
   },
   {
    "duration": 573,
    "start_time": "2021-06-26T13:01:39.761Z"
   },
   {
    "duration": 37,
    "start_time": "2021-06-26T13:01:50.643Z"
   },
   {
    "duration": 36,
    "start_time": "2021-06-26T13:01:58.562Z"
   },
   {
    "duration": 22,
    "start_time": "2021-06-26T13:02:33.780Z"
   },
   {
    "duration": 47,
    "start_time": "2021-06-26T13:03:18.240Z"
   },
   {
    "duration": 30,
    "start_time": "2021-06-26T13:03:19.008Z"
   },
   {
    "duration": 18,
    "start_time": "2021-06-26T13:09:14.591Z"
   },
   {
    "duration": 3,
    "start_time": "2021-06-26T13:14:49.023Z"
   },
   {
    "duration": 407,
    "start_time": "2021-06-26T13:16:29.681Z"
   },
   {
    "duration": 4,
    "start_time": "2021-06-26T13:16:34.642Z"
   },
   {
    "duration": 941,
    "start_time": "2021-06-26T13:16:37.299Z"
   },
   {
    "duration": 905,
    "start_time": "2021-06-26T13:17:15.312Z"
   },
   {
    "duration": 4,
    "start_time": "2021-06-26T13:19:10.917Z"
   },
   {
    "duration": 4,
    "start_time": "2021-06-26T13:19:12.386Z"
   },
   {
    "duration": 9964,
    "start_time": "2021-06-26T13:19:22.929Z"
   },
   {
    "duration": 4,
    "start_time": "2021-06-26T13:22:19.046Z"
   },
   {
    "duration": 1152,
    "start_time": "2021-06-26T13:22:21.704Z"
   },
   {
    "duration": 8,
    "start_time": "2021-06-26T13:22:24.396Z"
   },
   {
    "duration": 4,
    "start_time": "2021-06-26T13:32:01.350Z"
   },
   {
    "duration": 10344,
    "start_time": "2021-06-26T13:32:04.891Z"
   },
   {
    "duration": 35,
    "start_time": "2021-06-26T13:32:15.239Z"
   },
   {
    "duration": 8766,
    "start_time": "2021-06-26T13:34:45.176Z"
   },
   {
    "duration": 9302,
    "start_time": "2021-06-26T13:35:13.629Z"
   },
   {
    "duration": 9079,
    "start_time": "2021-06-26T13:35:27.208Z"
   },
   {
    "duration": 8,
    "start_time": "2021-06-26T13:35:37.216Z"
   },
   {
    "duration": 492,
    "start_time": "2021-06-26T13:37:36.883Z"
   },
   {
    "duration": 7,
    "start_time": "2021-06-26T13:37:46.276Z"
   },
   {
    "duration": 11,
    "start_time": "2021-06-26T13:38:47.576Z"
   },
   {
    "duration": 390,
    "start_time": "2021-06-26T13:38:56.659Z"
   },
   {
    "duration": 13,
    "start_time": "2021-06-26T13:39:09.039Z"
   },
   {
    "duration": 11,
    "start_time": "2021-06-26T13:39:55.436Z"
   },
   {
    "duration": 339,
    "start_time": "2021-06-26T13:42:15.187Z"
   },
   {
    "duration": 10,
    "start_time": "2021-06-26T13:42:23.882Z"
   },
   {
    "duration": 12,
    "start_time": "2021-06-26T13:43:09.922Z"
   },
   {
    "duration": 2508,
    "start_time": "2021-06-26T13:43:47.645Z"
   },
   {
    "duration": 346,
    "start_time": "2021-06-26T13:44:12.803Z"
   },
   {
    "duration": 29,
    "start_time": "2021-06-26T13:44:31.816Z"
   },
   {
    "duration": 330,
    "start_time": "2021-06-26T13:44:54.039Z"
   },
   {
    "duration": 212,
    "start_time": "2021-06-26T13:45:15.020Z"
   },
   {
    "duration": 10974,
    "start_time": "2021-06-26T13:45:35.892Z"
   },
   {
    "duration": 11,
    "start_time": "2021-06-26T13:46:00.289Z"
   },
   {
    "duration": 360,
    "start_time": "2021-06-26T13:46:32.716Z"
   },
   {
    "duration": 10,
    "start_time": "2021-06-26T13:46:59.343Z"
   },
   {
    "duration": 9,
    "start_time": "2021-06-26T13:47:10.231Z"
   },
   {
    "duration": 272,
    "start_time": "2021-06-26T15:10:57.695Z"
   },
   {
    "duration": 562,
    "start_time": "2021-06-26T15:10:58.226Z"
   },
   {
    "duration": 9,
    "start_time": "2021-06-26T15:10:58.791Z"
   },
   {
    "duration": 26,
    "start_time": "2021-06-26T15:10:59.523Z"
   },
   {
    "duration": 30,
    "start_time": "2021-06-26T15:11:02.765Z"
   },
   {
    "duration": 53,
    "start_time": "2021-06-26T15:11:03.157Z"
   },
   {
    "duration": 87,
    "start_time": "2021-06-26T15:11:03.689Z"
   },
   {
    "duration": 51,
    "start_time": "2021-06-26T15:11:39.638Z"
   },
   {
    "duration": 54,
    "start_time": "2021-06-26T15:11:44.584Z"
   },
   {
    "duration": 23,
    "start_time": "2021-06-26T15:11:54.316Z"
   },
   {
    "duration": 26,
    "start_time": "2021-06-26T15:11:58.227Z"
   },
   {
    "duration": 54,
    "start_time": "2021-06-26T15:12:01.331Z"
   },
   {
    "duration": 55,
    "start_time": "2021-06-26T15:12:08.443Z"
   },
   {
    "duration": 27,
    "start_time": "2021-06-26T15:12:24.559Z"
   },
   {
    "duration": 15,
    "start_time": "2021-06-26T15:12:40.400Z"
   },
   {
    "duration": 8272,
    "start_time": "2021-06-26T15:13:09.192Z"
   },
   {
    "duration": -1042,
    "start_time": "2021-06-26T15:13:35.789Z"
   },
   {
    "duration": 9,
    "start_time": "2021-06-26T15:13:55.342Z"
   },
   {
    "duration": 17,
    "start_time": "2021-06-26T15:14:13.295Z"
   },
   {
    "duration": 9,
    "start_time": "2021-06-26T15:14:34.040Z"
   },
   {
    "duration": 7,
    "start_time": "2021-06-26T15:14:47.291Z"
   },
   {
    "duration": 320,
    "start_time": "2021-06-26T15:15:10.137Z"
   },
   {
    "duration": 6,
    "start_time": "2021-06-26T15:15:23.807Z"
   },
   {
    "duration": 341,
    "start_time": "2021-06-26T15:15:50.906Z"
   },
   {
    "duration": 10,
    "start_time": "2021-06-26T15:15:55.966Z"
   },
   {
    "duration": 7075,
    "start_time": "2021-06-26T15:16:04.624Z"
   },
   {
    "duration": 10,
    "start_time": "2021-06-26T15:16:39.873Z"
   },
   {
    "duration": 8,
    "start_time": "2021-06-26T15:16:49.845Z"
   },
   {
    "duration": 312,
    "start_time": "2021-06-26T15:19:54.596Z"
   },
   {
    "duration": 11,
    "start_time": "2021-06-26T15:20:32.786Z"
   },
   {
    "duration": 11,
    "start_time": "2021-06-26T15:21:09.095Z"
   },
   {
    "duration": 7917,
    "start_time": "2021-06-26T15:21:15.238Z"
   },
   {
    "duration": -1139,
    "start_time": "2021-06-26T15:21:35.765Z"
   },
   {
    "duration": 11,
    "start_time": "2021-06-26T15:21:49.251Z"
   },
   {
    "duration": 10,
    "start_time": "2021-06-26T15:24:23.420Z"
   },
   {
    "duration": 10,
    "start_time": "2021-06-26T15:24:35.840Z"
   },
   {
    "duration": 4,
    "start_time": "2021-06-26T15:29:26.249Z"
   },
   {
    "duration": 156,
    "start_time": "2021-06-26T15:29:46.795Z"
   },
   {
    "duration": 4,
    "start_time": "2021-06-26T15:30:23.556Z"
   },
   {
    "duration": 560,
    "start_time": "2021-06-26T15:30:25.852Z"
   },
   {
    "duration": 3,
    "start_time": "2021-06-26T15:30:35.679Z"
   },
   {
    "duration": 563,
    "start_time": "2021-06-26T15:30:37.611Z"
   },
   {
    "duration": 4,
    "start_time": "2021-06-26T15:30:52.189Z"
   },
   {
    "duration": 8102,
    "start_time": "2021-06-26T15:30:53.990Z"
   },
   {
    "duration": 4,
    "start_time": "2021-06-26T15:31:19.879Z"
   },
   {
    "duration": 6797,
    "start_time": "2021-06-26T15:31:21.415Z"
   },
   {
    "duration": 4,
    "start_time": "2021-06-26T15:31:44.280Z"
   },
   {
    "duration": 7068,
    "start_time": "2021-06-26T15:31:47.774Z"
   },
   {
    "duration": 5,
    "start_time": "2021-06-26T15:32:11.333Z"
   },
   {
    "duration": 31,
    "start_time": "2021-06-26T15:32:13.449Z"
   },
   {
    "duration": 4,
    "start_time": "2021-06-26T15:33:57.699Z"
   },
   {
    "duration": 7138,
    "start_time": "2021-06-26T15:34:01.561Z"
   },
   {
    "duration": 4,
    "start_time": "2021-06-26T15:34:43.662Z"
   },
   {
    "duration": 123,
    "start_time": "2021-06-26T15:34:47.153Z"
   },
   {
    "duration": 4,
    "start_time": "2021-06-26T15:36:49.106Z"
   },
   {
    "duration": 44,
    "start_time": "2021-06-26T15:36:50.722Z"
   },
   {
    "duration": 4,
    "start_time": "2021-06-26T15:37:11.716Z"
   },
   {
    "duration": 7095,
    "start_time": "2021-06-26T15:37:15.237Z"
   },
   {
    "duration": 16,
    "start_time": "2021-06-26T15:56:42.894Z"
   },
   {
    "duration": 6933,
    "start_time": "2021-06-26T15:57:04.188Z"
   },
   {
    "duration": 7,
    "start_time": "2021-06-26T15:57:23.061Z"
   },
   {
    "duration": 17,
    "start_time": "2021-06-26T15:57:34.749Z"
   },
   {
    "duration": 10,
    "start_time": "2021-06-26T15:57:40.864Z"
   },
   {
    "duration": 8,
    "start_time": "2021-06-26T15:57:47.058Z"
   },
   {
    "duration": 10,
    "start_time": "2021-06-26T15:57:57.499Z"
   },
   {
    "duration": 7534,
    "start_time": "2021-06-26T15:58:03.892Z"
   },
   {
    "duration": 7,
    "start_time": "2021-06-26T15:58:24.337Z"
   },
   {
    "duration": 111,
    "start_time": "2021-06-26T15:58:48.714Z"
   },
   {
    "duration": 6,
    "start_time": "2021-06-26T15:58:51.971Z"
   },
   {
    "duration": 4,
    "start_time": "2021-06-26T15:59:51.359Z"
   },
   {
    "duration": 11823,
    "start_time": "2021-06-26T15:59:53.930Z"
   },
   {
    "duration": 7,
    "start_time": "2021-06-26T16:01:41.107Z"
   },
   {
    "duration": 4,
    "start_time": "2021-06-26T16:06:00.775Z"
   },
   {
    "duration": 1340,
    "start_time": "2021-06-26T16:06:02.612Z"
   },
   {
    "duration": 7,
    "start_time": "2021-06-26T16:06:05.785Z"
   },
   {
    "duration": 1400,
    "start_time": "2021-06-26T16:07:00.176Z"
   },
   {
    "duration": 1426,
    "start_time": "2021-06-26T16:07:27.631Z"
   },
   {
    "duration": 3,
    "start_time": "2021-06-26T16:07:38.896Z"
   },
   {
    "duration": 112,
    "start_time": "2021-06-26T16:07:39.353Z"
   },
   {
    "duration": 4,
    "start_time": "2021-06-26T16:07:39.752Z"
   },
   {
    "duration": 27,
    "start_time": "2021-06-26T16:07:40.127Z"
   },
   {
    "duration": 25,
    "start_time": "2021-06-26T16:07:42.131Z"
   },
   {
    "duration": 53,
    "start_time": "2021-06-26T16:07:42.569Z"
   },
   {
    "duration": 84,
    "start_time": "2021-06-26T16:07:45.123Z"
   },
   {
    "duration": 49,
    "start_time": "2021-06-26T16:07:52.851Z"
   },
   {
    "duration": 44,
    "start_time": "2021-06-26T16:07:56.378Z"
   },
   {
    "duration": 3,
    "start_time": "2021-06-26T16:08:00.372Z"
   },
   {
    "duration": 17,
    "start_time": "2021-06-26T16:08:00.773Z"
   },
   {
    "duration": 35,
    "start_time": "2021-06-26T16:08:01.984Z"
   },
   {
    "duration": 21,
    "start_time": "2021-06-26T16:08:06.194Z"
   },
   {
    "duration": 7,
    "start_time": "2021-06-26T16:08:08.048Z"
   },
   {
    "duration": 33,
    "start_time": "2021-06-26T16:08:21.973Z"
   },
   {
    "duration": 3,
    "start_time": "2021-06-26T16:08:32.120Z"
   },
   {
    "duration": 3,
    "start_time": "2021-06-26T16:08:33.019Z"
   },
   {
    "duration": 110,
    "start_time": "2021-06-26T16:08:33.799Z"
   },
   {
    "duration": 3,
    "start_time": "2021-06-26T16:08:34.438Z"
   },
   {
    "duration": 25,
    "start_time": "2021-06-26T16:08:38.278Z"
   },
   {
    "duration": 19,
    "start_time": "2021-06-26T16:08:39.597Z"
   },
   {
    "duration": 53,
    "start_time": "2021-06-26T16:08:58.841Z"
   },
   {
    "duration": 90,
    "start_time": "2021-06-26T16:09:01.266Z"
   },
   {
    "duration": 50,
    "start_time": "2021-06-26T16:09:05.580Z"
   },
   {
    "duration": 44,
    "start_time": "2021-06-26T16:09:15.947Z"
   },
   {
    "duration": 3,
    "start_time": "2021-06-26T16:09:22.135Z"
   },
   {
    "duration": 20,
    "start_time": "2021-06-26T16:09:22.746Z"
   },
   {
    "duration": 33,
    "start_time": "2021-06-26T16:09:23.842Z"
   },
   {
    "duration": 20,
    "start_time": "2021-06-26T16:09:26.675Z"
   },
   {
    "duration": 7,
    "start_time": "2021-06-26T16:09:30.480Z"
   },
   {
    "duration": 5,
    "start_time": "2021-06-26T16:11:28.538Z"
   },
   {
    "duration": 5,
    "start_time": "2021-06-26T16:11:43.165Z"
   },
   {
    "duration": 612,
    "start_time": "2021-06-26T16:11:43.173Z"
   },
   {
    "duration": 5,
    "start_time": "2021-06-26T16:12:06.745Z"
   },
   {
    "duration": 11827,
    "start_time": "2021-06-26T16:12:09.243Z"
   },
   {
    "duration": 5,
    "start_time": "2021-06-26T16:14:51.965Z"
   },
   {
    "duration": 622,
    "start_time": "2021-06-26T16:14:54.277Z"
   },
   {
    "duration": 5,
    "start_time": "2021-06-26T16:15:10.921Z"
   },
   {
    "duration": 5,
    "start_time": "2021-06-26T16:15:13.387Z"
   },
   {
    "duration": 12613,
    "start_time": "2021-06-26T16:15:15.934Z"
   },
   {
    "duration": 4,
    "start_time": "2021-06-26T16:16:29.188Z"
   },
   {
    "duration": 7321,
    "start_time": "2021-06-26T16:16:44.214Z"
   },
   {
    "duration": 7752,
    "start_time": "2021-06-26T16:16:52.763Z"
   },
   {
    "duration": -1024,
    "start_time": "2021-06-26T16:17:01.542Z"
   },
   {
    "duration": 8217,
    "start_time": "2021-06-26T16:17:12.442Z"
   },
   {
    "duration": 30,
    "start_time": "2021-06-26T16:17:42.095Z"
   },
   {
    "duration": 7,
    "start_time": "2021-06-26T16:17:44.322Z"
   },
   {
    "duration": 36,
    "start_time": "2021-06-26T16:18:11.977Z"
   },
   {
    "duration": 7134,
    "start_time": "2021-06-26T16:18:14.952Z"
   },
   {
    "duration": 7566,
    "start_time": "2021-06-26T16:19:25.954Z"
   },
   {
    "duration": 4,
    "start_time": "2021-06-26T16:20:09.397Z"
   },
   {
    "duration": 4,
    "start_time": "2021-06-26T16:20:28.219Z"
   },
   {
    "duration": 3753,
    "start_time": "2021-06-26T16:20:28.226Z"
   },
   {
    "duration": 4,
    "start_time": "2021-06-26T16:20:43.656Z"
   },
   {
    "duration": 3633,
    "start_time": "2021-06-26T16:20:46.394Z"
   },
   {
    "duration": 3844,
    "start_time": "2021-06-26T16:20:52.648Z"
   },
   {
    "duration": 3,
    "start_time": "2021-06-26T16:22:36.671Z"
   },
   {
    "duration": 113,
    "start_time": "2021-06-26T16:22:37.087Z"
   },
   {
    "duration": 4,
    "start_time": "2021-06-26T16:22:37.413Z"
   },
   {
    "duration": 25,
    "start_time": "2021-06-26T16:22:37.773Z"
   },
   {
    "duration": 29,
    "start_time": "2021-06-26T16:22:45.810Z"
   },
   {
    "duration": 53,
    "start_time": "2021-06-26T16:22:46.885Z"
   },
   {
    "duration": 59,
    "start_time": "2021-06-26T16:22:57.134Z"
   },
   {
    "duration": 49,
    "start_time": "2021-06-26T16:23:00.726Z"
   },
   {
    "duration": 6,
    "start_time": "2021-06-26T16:23:04.493Z"
   },
   {
    "duration": 21,
    "start_time": "2021-06-26T16:23:07.249Z"
   },
   {
    "duration": 4,
    "start_time": "2021-06-26T16:23:10.664Z"
   },
   {
    "duration": 3753,
    "start_time": "2021-06-26T16:23:14.680Z"
   },
   {
    "duration": 34,
    "start_time": "2021-06-26T16:23:25.429Z"
   },
   {
    "duration": 101,
    "start_time": "2021-06-26T16:23:58.285Z"
   },
   {
    "duration": 68,
    "start_time": "2021-06-26T16:38:22.243Z"
   },
   {
    "duration": 25,
    "start_time": "2021-06-26T16:38:31.402Z"
   },
   {
    "duration": 15,
    "start_time": "2021-06-26T16:40:29.638Z"
   },
   {
    "duration": 248,
    "start_time": "2021-06-27T06:29:20.641Z"
   },
   {
    "duration": 710,
    "start_time": "2021-06-27T06:29:21.202Z"
   },
   {
    "duration": 4,
    "start_time": "2021-06-27T06:29:21.914Z"
   },
   {
    "duration": 34,
    "start_time": "2021-06-27T06:29:22.103Z"
   },
   {
    "duration": 53,
    "start_time": "2021-06-27T06:29:23.930Z"
   },
   {
    "duration": 56,
    "start_time": "2021-06-27T06:29:24.593Z"
   },
   {
    "duration": 99,
    "start_time": "2021-06-27T06:29:25.128Z"
   },
   {
    "duration": 23,
    "start_time": "2021-06-27T06:29:30.041Z"
   },
   {
    "duration": 57,
    "start_time": "2021-06-27T06:29:34.623Z"
   },
   {
    "duration": 20,
    "start_time": "2021-06-27T06:29:38.210Z"
   },
   {
    "duration": 7,
    "start_time": "2021-06-27T06:29:38.537Z"
   },
   {
    "duration": 4,
    "start_time": "2021-06-27T06:29:38.964Z"
   },
   {
    "duration": 3666,
    "start_time": "2021-06-27T06:30:00.001Z"
   },
   {
    "duration": 34,
    "start_time": "2021-06-27T06:30:03.669Z"
   },
   {
    "duration": 20,
    "start_time": "2021-06-27T06:44:02.266Z"
   },
   {
    "duration": 8,
    "start_time": "2021-06-27T06:44:04.794Z"
   },
   {
    "duration": 4,
    "start_time": "2021-06-27T06:44:06.979Z"
   },
   {
    "duration": 97,
    "start_time": "2021-06-27T06:44:10.178Z"
   },
   {
    "duration": 5,
    "start_time": "2021-06-27T06:44:17.778Z"
   },
   {
    "duration": 1556,
    "start_time": "2021-06-27T06:44:20.814Z"
   },
   {
    "duration": 34,
    "start_time": "2021-06-27T06:44:34.287Z"
   },
   {
    "duration": 7,
    "start_time": "2021-06-27T06:45:41.319Z"
   },
   {
    "duration": 3,
    "start_time": "2021-06-27T06:46:03.520Z"
   },
   {
    "duration": 3,
    "start_time": "2021-06-27T06:46:04.376Z"
   },
   {
    "duration": 118,
    "start_time": "2021-06-27T06:46:04.807Z"
   },
   {
    "duration": 3,
    "start_time": "2021-06-27T06:46:05.184Z"
   },
   {
    "duration": 26,
    "start_time": "2021-06-27T06:46:05.543Z"
   },
   {
    "duration": 20,
    "start_time": "2021-06-27T06:46:08.330Z"
   },
   {
    "duration": 50,
    "start_time": "2021-06-27T06:46:08.625Z"
   },
   {
    "duration": 85,
    "start_time": "2021-06-27T06:46:09.384Z"
   },
   {
    "duration": 29,
    "start_time": "2021-06-27T06:46:15.357Z"
   },
   {
    "duration": 45,
    "start_time": "2021-06-27T06:46:20.261Z"
   },
   {
    "duration": 20,
    "start_time": "2021-06-27T06:46:23.773Z"
   },
   {
    "duration": 7,
    "start_time": "2021-06-27T06:46:24.237Z"
   },
   {
    "duration": 4,
    "start_time": "2021-06-27T06:46:25.203Z"
   },
   {
    "duration": 3686,
    "start_time": "2021-06-27T06:46:26.413Z"
   },
   {
    "duration": 42,
    "start_time": "2021-06-27T06:46:30.102Z"
   },
   {
    "duration": 7396,
    "start_time": "2021-06-27T06:46:47.698Z"
   },
   {
    "duration": 440,
    "start_time": "2021-06-27T06:46:54.656Z"
   },
   {
    "duration": 7845,
    "start_time": "2021-06-27T06:47:13.514Z"
   },
   {
    "duration": 437,
    "start_time": "2021-06-27T06:47:20.925Z"
   },
   {
    "duration": 7149,
    "start_time": "2021-06-27T06:47:25.570Z"
   },
   {
    "duration": 4,
    "start_time": "2021-06-27T06:51:52.726Z"
   },
   {
    "duration": 1559,
    "start_time": "2021-06-27T06:52:00.168Z"
   },
   {
    "duration": 36,
    "start_time": "2021-06-27T06:52:03.044Z"
   },
   {
    "duration": 24,
    "start_time": "2021-06-27T06:52:18.373Z"
   },
   {
    "duration": 20,
    "start_time": "2021-06-27T06:52:42.645Z"
   },
   {
    "duration": 19,
    "start_time": "2021-06-27T06:53:52.441Z"
   },
   {
    "duration": 303,
    "start_time": "2021-06-27T06:53:55.329Z"
   },
   {
    "duration": 21,
    "start_time": "2021-06-27T06:55:59.795Z"
   },
   {
    "duration": 340,
    "start_time": "2021-06-27T06:56:04.320Z"
   },
   {
    "duration": 3,
    "start_time": "2021-06-27T06:57:51.117Z"
   },
   {
    "duration": 110,
    "start_time": "2021-06-27T06:57:51.517Z"
   },
   {
    "duration": 3,
    "start_time": "2021-06-27T06:57:51.862Z"
   },
   {
    "duration": 27,
    "start_time": "2021-06-27T06:57:52.293Z"
   },
   {
    "duration": 20,
    "start_time": "2021-06-27T06:57:55.656Z"
   },
   {
    "duration": 57,
    "start_time": "2021-06-27T06:57:56.668Z"
   },
   {
    "duration": 87,
    "start_time": "2021-06-27T06:57:57.444Z"
   },
   {
    "duration": 23,
    "start_time": "2021-06-27T06:58:01.217Z"
   },
   {
    "duration": 45,
    "start_time": "2021-06-27T06:58:03.681Z"
   },
   {
    "duration": 20,
    "start_time": "2021-06-27T06:58:07.432Z"
   },
   {
    "duration": 6,
    "start_time": "2021-06-27T06:58:09.906Z"
   },
   {
    "duration": 4,
    "start_time": "2021-06-27T06:58:22.680Z"
   },
   {
    "duration": 4,
    "start_time": "2021-06-27T06:59:03.418Z"
   },
   {
    "duration": 3625,
    "start_time": "2021-06-27T06:59:05.005Z"
   },
   {
    "duration": 34,
    "start_time": "2021-06-27T06:59:08.796Z"
   },
   {
    "duration": 24,
    "start_time": "2021-06-27T06:59:16.720Z"
   },
   {
    "duration": 18,
    "start_time": "2021-06-27T06:59:41.689Z"
   },
   {
    "duration": 18,
    "start_time": "2021-06-27T07:00:17.437Z"
   },
   {
    "duration": 4581,
    "start_time": "2021-06-27T07:00:48.089Z"
   },
   {
    "duration": 8,
    "start_time": "2021-06-27T07:00:59.001Z"
   },
   {
    "duration": 24,
    "start_time": "2021-06-27T07:01:11.295Z"
   },
   {
    "duration": 17,
    "start_time": "2021-06-27T07:02:53.058Z"
   },
   {
    "duration": 17,
    "start_time": "2021-06-27T07:02:54.219Z"
   },
   {
    "duration": 25,
    "start_time": "2021-06-27T07:04:11.513Z"
   },
   {
    "duration": 16,
    "start_time": "2021-06-27T07:04:17.143Z"
   },
   {
    "duration": 15,
    "start_time": "2021-06-27T07:04:18.641Z"
   },
   {
    "duration": 23989,
    "start_time": "2021-06-27T07:04:19.890Z"
   },
   {
    "duration": 454,
    "start_time": "2021-06-27T07:04:43.431Z"
   },
   {
    "duration": 16,
    "start_time": "2021-06-27T07:05:29.809Z"
   },
   {
    "duration": 331,
    "start_time": "2021-06-27T07:11:30.658Z"
   },
   {
    "duration": 7,
    "start_time": "2021-06-27T07:15:20.821Z"
   },
   {
    "duration": 7303,
    "start_time": "2021-06-27T07:15:41.298Z"
   },
   {
    "duration": 16,
    "start_time": "2021-06-27T07:16:07.873Z"
   },
   {
    "duration": 8,
    "start_time": "2021-06-27T07:16:30.501Z"
   },
   {
    "duration": 6,
    "start_time": "2021-06-27T07:16:37.938Z"
   },
   {
    "duration": 12,
    "start_time": "2021-06-27T07:17:00.316Z"
   },
   {
    "duration": 17,
    "start_time": "2021-06-27T07:17:57.808Z"
   },
   {
    "duration": 17,
    "start_time": "2021-06-27T07:18:15.088Z"
   },
   {
    "duration": 10,
    "start_time": "2021-06-27T07:18:18.930Z"
   },
   {
    "duration": 14,
    "start_time": "2021-06-27T07:18:50.585Z"
   },
   {
    "duration": 16,
    "start_time": "2021-06-27T07:18:53.450Z"
   },
   {
    "duration": 5,
    "start_time": "2021-06-27T07:19:45.186Z"
   },
   {
    "duration": 4,
    "start_time": "2021-06-27T07:20:01.979Z"
   },
   {
    "duration": 9,
    "start_time": "2021-06-27T07:20:39.296Z"
   },
   {
    "duration": 7403,
    "start_time": "2021-06-27T07:21:31.183Z"
   },
   {
    "duration": 16,
    "start_time": "2021-06-27T07:21:45.820Z"
   },
   {
    "duration": 7164,
    "start_time": "2021-06-27T07:21:54.479Z"
   },
   {
    "duration": 16,
    "start_time": "2021-06-27T07:22:16.044Z"
   },
   {
    "duration": 8,
    "start_time": "2021-06-27T07:22:19.380Z"
   },
   {
    "duration": 16,
    "start_time": "2021-06-27T07:22:26.315Z"
   },
   {
    "duration": 7,
    "start_time": "2021-06-27T07:22:47.308Z"
   },
   {
    "duration": 14,
    "start_time": "2021-06-27T07:23:10.856Z"
   },
   {
    "duration": 15,
    "start_time": "2021-06-27T07:23:13.375Z"
   },
   {
    "duration": 6929,
    "start_time": "2021-06-27T07:24:01.805Z"
   },
   {
    "duration": 7046,
    "start_time": "2021-06-27T07:24:23.317Z"
   },
   {
    "duration": 20,
    "start_time": "2021-06-27T07:24:55.969Z"
   },
   {
    "duration": 14,
    "start_time": "2021-06-27T07:25:05.802Z"
   },
   {
    "duration": 11,
    "start_time": "2021-06-27T07:25:28.298Z"
   },
   {
    "duration": 14,
    "start_time": "2021-06-27T07:25:43.074Z"
   },
   {
    "duration": 28,
    "start_time": "2021-06-27T07:26:06.482Z"
   },
   {
    "duration": 22,
    "start_time": "2021-06-27T07:26:17.023Z"
   },
   {
    "duration": 16,
    "start_time": "2021-06-27T07:31:48.728Z"
   },
   {
    "duration": 15,
    "start_time": "2021-06-27T07:31:55.253Z"
   },
   {
    "duration": 18,
    "start_time": "2021-06-27T07:31:57.635Z"
   },
   {
    "duration": 8,
    "start_time": "2021-06-27T07:37:17.458Z"
   },
   {
    "duration": 15,
    "start_time": "2021-06-27T07:37:24.338Z"
   },
   {
    "duration": 9,
    "start_time": "2021-06-27T07:38:02.781Z"
   },
   {
    "duration": 16,
    "start_time": "2021-06-27T07:38:49.696Z"
   },
   {
    "duration": 287,
    "start_time": "2021-06-27T07:39:16.139Z"
   },
   {
    "duration": 6825,
    "start_time": "2021-06-27T07:40:12.608Z"
   },
   {
    "duration": 7289,
    "start_time": "2021-06-27T07:40:47.335Z"
   },
   {
    "duration": 20,
    "start_time": "2021-06-27T07:41:27.473Z"
   },
   {
    "duration": 20,
    "start_time": "2021-06-27T07:41:30.149Z"
   },
   {
    "duration": 701,
    "start_time": "2021-06-27T07:41:57.593Z"
   },
   {
    "duration": 5,
    "start_time": "2021-06-27T07:42:37.873Z"
   },
   {
    "duration": 4,
    "start_time": "2021-06-27T07:42:44.677Z"
   },
   {
    "duration": 112,
    "start_time": "2021-06-27T07:42:44.878Z"
   },
   {
    "duration": 4,
    "start_time": "2021-06-27T07:42:45.056Z"
   },
   {
    "duration": 28,
    "start_time": "2021-06-27T07:42:45.233Z"
   },
   {
    "duration": 26,
    "start_time": "2021-06-27T07:42:47.838Z"
   },
   {
    "duration": 70,
    "start_time": "2021-06-27T07:42:48.029Z"
   },
   {
    "duration": 88,
    "start_time": "2021-06-27T07:42:48.207Z"
   },
   {
    "duration": 32,
    "start_time": "2021-06-27T07:42:52.676Z"
   },
   {
    "duration": 58,
    "start_time": "2021-06-27T07:42:55.089Z"
   },
   {
    "duration": 21,
    "start_time": "2021-06-27T07:42:57.482Z"
   },
   {
    "duration": 7,
    "start_time": "2021-06-27T07:42:57.866Z"
   },
   {
    "duration": 5,
    "start_time": "2021-06-27T07:42:58.556Z"
   },
   {
    "duration": 4154,
    "start_time": "2021-06-27T07:42:59.241Z"
   },
   {
    "duration": 48,
    "start_time": "2021-06-27T07:43:03.398Z"
   },
   {
    "duration": 32,
    "start_time": "2021-06-27T07:43:06.289Z"
   },
   {
    "duration": 18,
    "start_time": "2021-06-27T07:43:09.731Z"
   },
   {
    "duration": 5280,
    "start_time": "2021-06-27T07:43:10.189Z"
   },
   {
    "duration": 9,
    "start_time": "2021-06-27T07:43:15.472Z"
   },
   {
    "duration": 24,
    "start_time": "2021-06-27T07:43:20.087Z"
   },
   {
    "duration": 22,
    "start_time": "2021-06-27T07:43:20.231Z"
   },
   {
    "duration": 7001,
    "start_time": "2021-06-27T07:43:28.671Z"
   },
   {
    "duration": 24,
    "start_time": "2021-06-27T07:43:35.675Z"
   },
   {
    "duration": 10,
    "start_time": "2021-06-27T07:43:50.029Z"
   },
   {
    "duration": 24,
    "start_time": "2021-06-27T07:46:24.880Z"
   },
   {
    "duration": 326,
    "start_time": "2021-06-27T07:46:32.605Z"
   },
   {
    "duration": 324,
    "start_time": "2021-06-27T07:46:44.379Z"
   },
   {
    "duration": 10,
    "start_time": "2021-06-27T07:47:16.878Z"
   },
   {
    "duration": 28,
    "start_time": "2021-06-27T07:47:33.721Z"
   },
   {
    "duration": 40,
    "start_time": "2021-06-27T07:47:53.460Z"
   },
   {
    "duration": 41,
    "start_time": "2021-06-27T07:48:00.196Z"
   },
   {
    "duration": 55,
    "start_time": "2021-06-27T07:48:03.626Z"
   },
   {
    "duration": 6,
    "start_time": "2021-06-27T07:48:09.153Z"
   },
   {
    "duration": 4,
    "start_time": "2021-06-27T08:14:17.707Z"
   },
   {
    "duration": 4042,
    "start_time": "2021-06-27T08:14:19.969Z"
   },
   {
    "duration": 22,
    "start_time": "2021-06-27T08:14:59.171Z"
   },
   {
    "duration": 7,
    "start_time": "2021-06-27T08:15:38.987Z"
   },
   {
    "duration": 7,
    "start_time": "2021-06-27T08:15:55.847Z"
   },
   {
    "duration": 10,
    "start_time": "2021-06-27T08:16:14.894Z"
   },
   {
    "duration": 5,
    "start_time": "2021-06-27T08:17:22.912Z"
   },
   {
    "duration": 4020,
    "start_time": "2021-06-27T08:17:27.825Z"
   },
   {
    "duration": 7,
    "start_time": "2021-06-27T08:17:59.372Z"
   },
   {
    "duration": 4,
    "start_time": "2021-06-27T08:18:09.589Z"
   },
   {
    "duration": 4025,
    "start_time": "2021-06-27T08:18:12.264Z"
   },
   {
    "duration": 21,
    "start_time": "2021-06-27T08:19:12.903Z"
   },
   {
    "duration": 2189,
    "start_time": "2021-06-27T08:19:12.927Z"
   },
   {
    "duration": 13,
    "start_time": "2021-06-27T08:20:03.039Z"
   },
   {
    "duration": 1124,
    "start_time": "2021-06-27T08:20:05.402Z"
   },
   {
    "duration": 8,
    "start_time": "2021-06-27T08:20:07.508Z"
   },
   {
    "duration": 97,
    "start_time": "2021-06-27T08:47:21.088Z"
   },
   {
    "duration": 752,
    "start_time": "2021-06-27T08:47:24.608Z"
   },
   {
    "duration": 1064,
    "start_time": "2021-06-27T08:47:37.253Z"
   },
   {
    "duration": 335,
    "start_time": "2021-06-27T08:50:45.031Z"
   },
   {
    "duration": 2013,
    "start_time": "2021-06-27T08:51:00.150Z"
   },
   {
    "duration": 1201,
    "start_time": "2021-06-27T08:51:35.882Z"
   },
   {
    "duration": 1687,
    "start_time": "2021-06-27T08:52:20.718Z"
   },
   {
    "duration": 2862,
    "start_time": "2021-06-27T08:52:30.067Z"
   },
   {
    "duration": 4449,
    "start_time": "2021-06-27T08:52:39.168Z"
   },
   {
    "duration": 4720,
    "start_time": "2021-06-27T08:53:29.376Z"
   },
   {
    "duration": 4663,
    "start_time": "2021-06-27T08:53:57.220Z"
   },
   {
    "duration": 4556,
    "start_time": "2021-06-27T08:54:46.253Z"
   },
   {
    "duration": 4800,
    "start_time": "2021-06-27T09:52:00.657Z"
   },
   {
    "duration": 10,
    "start_time": "2021-06-27T09:52:21.800Z"
   },
   {
    "duration": 91,
    "start_time": "2021-06-27T09:53:46.512Z"
   },
   {
    "duration": 333,
    "start_time": "2021-06-27T09:53:50.971Z"
   },
   {
    "duration": 15,
    "start_time": "2021-06-27T09:54:05.733Z"
   },
   {
    "duration": 900,
    "start_time": "2021-06-27T09:57:07.749Z"
   },
   {
    "duration": 3,
    "start_time": "2021-06-27T09:57:26.696Z"
   },
   {
    "duration": 278,
    "start_time": "2021-06-27T09:57:36.009Z"
   },
   {
    "duration": 4,
    "start_time": "2021-06-27T09:57:44.549Z"
   },
   {
    "duration": 510,
    "start_time": "2021-06-27T09:57:50.853Z"
   },
   {
    "duration": 558,
    "start_time": "2021-06-27T10:27:06.658Z"
   },
   {
    "duration": 377,
    "start_time": "2021-06-27T10:27:07.219Z"
   },
   {
    "duration": 3,
    "start_time": "2021-06-27T10:27:07.599Z"
   },
   {
    "duration": 33,
    "start_time": "2021-06-27T10:27:07.605Z"
   },
   {
    "duration": 24,
    "start_time": "2021-06-27T10:27:07.640Z"
   },
   {
    "duration": 72,
    "start_time": "2021-06-27T10:27:07.666Z"
   },
   {
    "duration": 106,
    "start_time": "2021-06-27T10:27:07.740Z"
   },
   {
    "duration": 26,
    "start_time": "2021-06-27T10:27:07.852Z"
   },
   {
    "duration": 84,
    "start_time": "2021-06-27T10:27:07.882Z"
   },
   {
    "duration": 21,
    "start_time": "2021-06-27T10:27:07.969Z"
   },
   {
    "duration": 34,
    "start_time": "2021-06-27T10:27:07.993Z"
   },
   {
    "duration": 8,
    "start_time": "2021-06-27T10:27:08.030Z"
   },
   {
    "duration": 3912,
    "start_time": "2021-06-27T10:27:08.041Z"
   },
   {
    "duration": 36,
    "start_time": "2021-06-27T10:27:11.955Z"
   },
   {
    "duration": 49,
    "start_time": "2021-06-27T10:27:11.994Z"
   },
   {
    "duration": 21,
    "start_time": "2021-06-27T10:27:12.046Z"
   },
   {
    "duration": 5010,
    "start_time": "2021-06-27T10:27:12.069Z"
   },
   {
    "duration": 8,
    "start_time": "2021-06-27T10:27:17.082Z"
   },
   {
    "duration": 41,
    "start_time": "2021-06-27T10:27:17.092Z"
   },
   {
    "duration": 17,
    "start_time": "2021-06-27T10:27:17.136Z"
   },
   {
    "duration": 7219,
    "start_time": "2021-06-27T10:27:17.156Z"
   },
   {
    "duration": 27,
    "start_time": "2021-06-27T10:27:24.377Z"
   },
   {
    "duration": 6,
    "start_time": "2021-06-27T10:27:24.428Z"
   },
   {
    "duration": 26,
    "start_time": "2021-06-27T10:27:24.437Z"
   },
   {
    "duration": 351,
    "start_time": "2021-06-27T10:27:24.465Z"
   },
   {
    "duration": 33,
    "start_time": "2021-06-27T10:27:24.823Z"
   },
   {
    "duration": 48,
    "start_time": "2021-06-27T10:27:24.858Z"
   },
   {
    "duration": 50,
    "start_time": "2021-06-27T10:27:24.908Z"
   },
   {
    "duration": 39,
    "start_time": "2021-06-27T10:27:24.960Z"
   },
   {
    "duration": 54,
    "start_time": "2021-06-27T10:27:25.025Z"
   },
   {
    "duration": 5,
    "start_time": "2021-06-27T10:27:25.082Z"
   },
   {
    "duration": 13,
    "start_time": "2021-06-27T10:27:25.089Z"
   },
   {
    "duration": 21,
    "start_time": "2021-06-27T10:27:25.125Z"
   },
   {
    "duration": 4,
    "start_time": "2021-06-27T10:27:25.149Z"
   },
   {
    "duration": 2492,
    "start_time": "2021-06-27T10:27:25.156Z"
   },
   {
    "duration": 13,
    "start_time": "2021-06-27T10:27:27.651Z"
   },
   {
    "duration": 1347,
    "start_time": "2021-06-27T10:27:27.666Z"
   },
   {
    "duration": 10,
    "start_time": "2021-06-27T10:27:29.015Z"
   },
   {
    "duration": 1173,
    "start_time": "2021-06-27T10:27:29.028Z"
   },
   {
    "duration": 847,
    "start_time": "2021-06-27T10:27:30.205Z"
   },
   {
    "duration": 4584,
    "start_time": "2021-06-27T10:27:31.054Z"
   },
   {
    "duration": 338,
    "start_time": "2021-06-27T10:27:35.640Z"
   },
   {
    "duration": 323,
    "start_time": "2021-06-27T10:27:35.981Z"
   },
   {
    "duration": 252,
    "start_time": "2021-06-27T10:27:36.307Z"
   },
   {
    "duration": 4,
    "start_time": "2021-06-27T10:27:36.562Z"
   },
   {
    "duration": 22,
    "start_time": "2021-06-27T10:27:36.569Z"
   },
   {
    "duration": 13,
    "start_time": "2021-06-27T10:27:36.593Z"
   },
   {
    "duration": 14,
    "start_time": "2021-06-27T10:27:36.609Z"
   },
   {
    "duration": 11,
    "start_time": "2021-06-27T10:27:36.626Z"
   },
   {
    "duration": 427,
    "start_time": "2021-06-27T10:46:31.427Z"
   },
   {
    "duration": 245,
    "start_time": "2021-06-27T10:47:29.347Z"
   },
   {
    "duration": 974,
    "start_time": "2021-06-27T10:48:26.906Z"
   },
   {
    "duration": 796,
    "start_time": "2021-06-27T10:48:58.517Z"
   },
   {
    "duration": 811,
    "start_time": "2021-06-27T10:49:09.733Z"
   },
   {
    "duration": 797,
    "start_time": "2021-06-27T10:49:45.576Z"
   },
   {
    "duration": 821,
    "start_time": "2021-06-27T10:50:41.793Z"
   },
   {
    "duration": 920,
    "start_time": "2021-06-27T10:51:25.424Z"
   },
   {
    "duration": 803,
    "start_time": "2021-06-27T10:51:33.496Z"
   },
   {
    "duration": 1297,
    "start_time": "2021-06-27T11:20:44.480Z"
   },
   {
    "duration": 799,
    "start_time": "2021-06-27T11:28:27.887Z"
   },
   {
    "duration": 818,
    "start_time": "2021-06-27T11:28:36.141Z"
   },
   {
    "duration": 132,
    "start_time": "2021-06-27T11:29:09.022Z"
   },
   {
    "duration": 94,
    "start_time": "2021-06-27T11:29:16.780Z"
   },
   {
    "duration": 796,
    "start_time": "2021-06-27T11:29:23.294Z"
   },
   {
    "duration": 1019,
    "start_time": "2021-06-27T11:29:42.897Z"
   },
   {
    "duration": 824,
    "start_time": "2021-06-27T11:29:52.890Z"
   },
   {
    "duration": 842,
    "start_time": "2021-06-27T11:30:01.741Z"
   },
   {
    "duration": 942,
    "start_time": "2021-06-27T11:30:18.412Z"
   },
   {
    "duration": 801,
    "start_time": "2021-06-27T11:31:10.997Z"
   },
   {
    "duration": 947,
    "start_time": "2021-06-27T11:31:48.707Z"
   },
   {
    "duration": 814,
    "start_time": "2021-06-27T11:31:54.578Z"
   },
   {
    "duration": 827,
    "start_time": "2021-06-27T11:32:29.587Z"
   },
   {
    "duration": 788,
    "start_time": "2021-06-27T11:36:47.341Z"
   },
   {
    "duration": 761,
    "start_time": "2021-06-27T11:37:14.043Z"
   },
   {
    "duration": 15,
    "start_time": "2021-06-27T11:37:31.003Z"
   },
   {
    "duration": 794,
    "start_time": "2021-06-27T11:38:48.923Z"
   },
   {
    "duration": 17,
    "start_time": "2021-06-27T11:39:04.390Z"
   },
   {
    "duration": 915,
    "start_time": "2021-06-27T11:39:50.672Z"
   },
   {
    "duration": 17,
    "start_time": "2021-06-27T11:39:55.151Z"
   },
   {
    "duration": 4,
    "start_time": "2021-06-27T11:51:43.407Z"
   },
   {
    "duration": 120,
    "start_time": "2021-06-27T11:51:43.700Z"
   },
   {
    "duration": 4,
    "start_time": "2021-06-27T11:51:44.036Z"
   },
   {
    "duration": 26,
    "start_time": "2021-06-27T11:51:44.370Z"
   },
   {
    "duration": 20,
    "start_time": "2021-06-27T11:51:44.699Z"
   },
   {
    "duration": 54,
    "start_time": "2021-06-27T11:51:44.996Z"
   },
   {
    "duration": 93,
    "start_time": "2021-06-27T11:51:45.280Z"
   },
   {
    "duration": 24,
    "start_time": "2021-06-27T11:51:47.244Z"
   },
   {
    "duration": 56,
    "start_time": "2021-06-27T11:51:48.181Z"
   },
   {
    "duration": 19,
    "start_time": "2021-06-27T11:51:49.443Z"
   },
   {
    "duration": 7,
    "start_time": "2021-06-27T11:51:49.956Z"
   },
   {
    "duration": 5,
    "start_time": "2021-06-27T11:51:50.395Z"
   },
   {
    "duration": 3867,
    "start_time": "2021-06-27T11:51:50.994Z"
   },
   {
    "duration": 35,
    "start_time": "2021-06-27T11:51:54.864Z"
   },
   {
    "duration": 37,
    "start_time": "2021-06-27T11:51:56.100Z"
   },
   {
    "duration": 27,
    "start_time": "2021-06-27T11:51:58.504Z"
   },
   {
    "duration": 6897,
    "start_time": "2021-06-27T11:51:59.145Z"
   },
   {
    "duration": 10,
    "start_time": "2021-06-27T11:52:06.045Z"
   },
   {
    "duration": 21,
    "start_time": "2021-06-27T11:52:06.059Z"
   },
   {
    "duration": 44,
    "start_time": "2021-06-27T11:52:06.083Z"
   },
   {
    "duration": 6416,
    "start_time": "2021-06-27T11:52:06.130Z"
   },
   {
    "duration": 26,
    "start_time": "2021-06-27T11:52:12.548Z"
   },
   {
    "duration": 13,
    "start_time": "2021-06-27T11:52:12.577Z"
   },
   {
    "duration": 51,
    "start_time": "2021-06-27T11:52:12.594Z"
   },
   {
    "duration": 349,
    "start_time": "2021-06-27T11:52:12.648Z"
   },
   {
    "duration": 43,
    "start_time": "2021-06-27T11:52:13.000Z"
   },
   {
    "duration": 50,
    "start_time": "2021-06-27T11:52:13.046Z"
   },
   {
    "duration": 37,
    "start_time": "2021-06-27T11:52:14.344Z"
   },
   {
    "duration": 39,
    "start_time": "2021-06-27T11:52:15.937Z"
   },
   {
    "duration": 53,
    "start_time": "2021-06-27T11:52:21.764Z"
   },
   {
    "duration": 6,
    "start_time": "2021-06-27T11:52:24.344Z"
   },
   {
    "duration": 8,
    "start_time": "2021-06-27T11:52:25.011Z"
   },
   {
    "duration": 9,
    "start_time": "2021-06-27T11:52:27.620Z"
   },
   {
    "duration": 4,
    "start_time": "2021-06-27T11:52:32.331Z"
   },
   {
    "duration": 2113,
    "start_time": "2021-06-27T11:52:33.189Z"
   },
   {
    "duration": 14,
    "start_time": "2021-06-27T11:52:39.956Z"
   },
   {
    "duration": 1322,
    "start_time": "2021-06-27T11:52:40.636Z"
   },
   {
    "duration": 7,
    "start_time": "2021-06-27T11:52:41.961Z"
   },
   {
    "duration": 1475,
    "start_time": "2021-06-27T11:52:46.286Z"
   },
   {
    "duration": 1027,
    "start_time": "2021-06-27T11:52:47.764Z"
   },
   {
    "duration": 4814,
    "start_time": "2021-06-27T11:52:48.795Z"
   },
   {
    "duration": 342,
    "start_time": "2021-06-27T11:52:53.613Z"
   },
   {
    "duration": 325,
    "start_time": "2021-06-27T11:52:53.959Z"
   },
   {
    "duration": 5,
    "start_time": "2021-06-27T11:53:00.088Z"
   },
   {
    "duration": 226,
    "start_time": "2021-06-27T11:53:03.475Z"
   },
   {
    "duration": 11,
    "start_time": "2021-06-27T11:53:14.153Z"
   },
   {
    "duration": 813,
    "start_time": "2021-06-27T11:53:32.896Z"
   },
   {
    "duration": 359,
    "start_time": "2021-06-27T11:54:04.762Z"
   },
   {
    "duration": 318,
    "start_time": "2021-06-27T11:54:25.182Z"
   },
   {
    "duration": 338,
    "start_time": "2021-06-27T11:54:43.641Z"
   },
   {
    "duration": 316,
    "start_time": "2021-06-27T11:54:58.175Z"
   },
   {
    "duration": 307,
    "start_time": "2021-06-27T11:56:21.075Z"
   },
   {
    "duration": 11,
    "start_time": "2021-06-27T11:56:27.981Z"
   },
   {
    "duration": 655,
    "start_time": "2021-06-27T11:56:57.235Z"
   },
   {
    "duration": 10,
    "start_time": "2021-06-27T12:03:56.983Z"
   },
   {
    "duration": 11,
    "start_time": "2021-06-27T12:04:20.142Z"
   },
   {
    "duration": 11,
    "start_time": "2021-06-27T12:05:23.725Z"
   },
   {
    "duration": 23,
    "start_time": "2021-06-27T12:06:02.085Z"
   },
   {
    "duration": 874,
    "start_time": "2021-06-27T12:06:08.164Z"
   },
   {
    "duration": 97,
    "start_time": "2021-06-27T12:06:29.156Z"
   },
   {
    "duration": 14,
    "start_time": "2021-06-27T12:06:37.344Z"
   },
   {
    "duration": 791,
    "start_time": "2021-06-27T12:07:53.641Z"
   },
   {
    "duration": 601,
    "start_time": "2021-06-27T12:09:38.321Z"
   },
   {
    "duration": 380,
    "start_time": "2021-06-27T12:09:38.924Z"
   },
   {
    "duration": 5,
    "start_time": "2021-06-27T12:09:39.307Z"
   },
   {
    "duration": 40,
    "start_time": "2021-06-27T12:09:39.316Z"
   },
   {
    "duration": 26,
    "start_time": "2021-06-27T12:09:39.359Z"
   },
   {
    "duration": 83,
    "start_time": "2021-06-27T12:09:39.388Z"
   },
   {
    "duration": 108,
    "start_time": "2021-06-27T12:09:39.474Z"
   },
   {
    "duration": 42,
    "start_time": "2021-06-27T12:09:39.585Z"
   },
   {
    "duration": 59,
    "start_time": "2021-06-27T12:09:39.631Z"
   },
   {
    "duration": 47,
    "start_time": "2021-06-27T12:09:39.693Z"
   },
   {
    "duration": 10,
    "start_time": "2021-06-27T12:09:39.742Z"
   },
   {
    "duration": 18,
    "start_time": "2021-06-27T12:09:39.755Z"
   },
   {
    "duration": 3734,
    "start_time": "2021-06-27T12:09:39.775Z"
   },
   {
    "duration": 44,
    "start_time": "2021-06-27T12:09:43.512Z"
   },
   {
    "duration": 27,
    "start_time": "2021-06-27T12:09:43.559Z"
   },
   {
    "duration": 51,
    "start_time": "2021-06-27T12:09:43.589Z"
   },
   {
    "duration": 4709,
    "start_time": "2021-06-27T12:09:43.642Z"
   },
   {
    "duration": 7,
    "start_time": "2021-06-27T12:09:48.354Z"
   },
   {
    "duration": 28,
    "start_time": "2021-06-27T12:09:48.363Z"
   },
   {
    "duration": 37,
    "start_time": "2021-06-27T12:09:48.394Z"
   },
   {
    "duration": 6427,
    "start_time": "2021-06-27T12:09:48.434Z"
   },
   {
    "duration": 24,
    "start_time": "2021-06-27T12:09:54.863Z"
   },
   {
    "duration": 19,
    "start_time": "2021-06-27T12:09:54.893Z"
   },
   {
    "duration": 23,
    "start_time": "2021-06-27T12:09:54.926Z"
   },
   {
    "duration": 344,
    "start_time": "2021-06-27T12:09:54.952Z"
   },
   {
    "duration": 41,
    "start_time": "2021-06-27T12:09:55.298Z"
   },
   {
    "duration": 48,
    "start_time": "2021-06-27T12:09:55.342Z"
   },
   {
    "duration": 57,
    "start_time": "2021-06-27T12:09:55.393Z"
   },
   {
    "duration": 37,
    "start_time": "2021-06-27T12:09:55.452Z"
   },
   {
    "duration": 76,
    "start_time": "2021-06-27T12:09:55.491Z"
   },
   {
    "duration": 6,
    "start_time": "2021-06-27T12:09:55.569Z"
   },
   {
    "duration": 11,
    "start_time": "2021-06-27T12:09:55.577Z"
   },
   {
    "duration": 37,
    "start_time": "2021-06-27T12:09:55.590Z"
   },
   {
    "duration": 3,
    "start_time": "2021-06-27T12:09:55.630Z"
   },
   {
    "duration": 2259,
    "start_time": "2021-06-27T12:09:55.636Z"
   },
   {
    "duration": 12,
    "start_time": "2021-06-27T12:09:57.898Z"
   },
   {
    "duration": 1139,
    "start_time": "2021-06-27T12:09:57.925Z"
   },
   {
    "duration": 11,
    "start_time": "2021-06-27T12:09:59.066Z"
   },
   {
    "duration": 1159,
    "start_time": "2021-06-27T12:09:59.079Z"
   },
   {
    "duration": 870,
    "start_time": "2021-06-27T12:10:00.241Z"
   },
   {
    "duration": 4603,
    "start_time": "2021-06-27T12:10:01.114Z"
   },
   {
    "duration": 320,
    "start_time": "2021-06-27T12:10:05.720Z"
   },
   {
    "duration": 315,
    "start_time": "2021-06-27T12:10:06.042Z"
   },
   {
    "duration": 6,
    "start_time": "2021-06-27T12:10:06.359Z"
   },
   {
    "duration": 242,
    "start_time": "2021-06-27T12:10:06.367Z"
   },
   {
    "duration": 1020,
    "start_time": "2021-06-27T12:10:06.612Z"
   },
   {
    "duration": 15,
    "start_time": "2021-06-27T12:10:07.634Z"
   },
   {
    "duration": 905,
    "start_time": "2021-06-27T12:10:07.651Z"
   },
   {
    "duration": 8,
    "start_time": "2021-06-27T12:10:08.559Z"
   },
   {
    "duration": 405,
    "start_time": "2021-06-27T12:10:08.569Z"
   },
   {
    "duration": 595,
    "start_time": "2021-06-27T12:10:08.382Z"
   },
   {
    "duration": 594,
    "start_time": "2021-06-27T12:10:08.384Z"
   },
   {
    "duration": 592,
    "start_time": "2021-06-27T12:10:08.388Z"
   },
   {
    "duration": 590,
    "start_time": "2021-06-27T12:10:08.391Z"
   },
   {
    "duration": 586,
    "start_time": "2021-06-27T12:10:08.397Z"
   },
   {
    "duration": 584,
    "start_time": "2021-06-27T12:10:08.400Z"
   },
   {
    "duration": 17,
    "start_time": "2021-06-27T12:11:52.705Z"
   },
   {
    "duration": 752,
    "start_time": "2021-06-27T12:13:06.398Z"
   },
   {
    "duration": 755,
    "start_time": "2021-06-27T12:13:53.882Z"
   },
   {
    "duration": 17,
    "start_time": "2021-06-27T12:14:02.438Z"
   },
   {
    "duration": 275,
    "start_time": "2021-06-27T12:14:54.419Z"
   },
   {
    "duration": 737,
    "start_time": "2021-06-27T12:14:56.873Z"
   },
   {
    "duration": 281,
    "start_time": "2021-06-27T12:15:16.130Z"
   },
   {
    "duration": 16,
    "start_time": "2021-06-27T12:16:21.689Z"
   },
   {
    "duration": 560,
    "start_time": "2021-06-27T12:16:31.182Z"
   },
   {
    "duration": 388,
    "start_time": "2021-06-27T12:16:31.745Z"
   },
   {
    "duration": 4,
    "start_time": "2021-06-27T12:16:32.136Z"
   },
   {
    "duration": 29,
    "start_time": "2021-06-27T12:16:32.143Z"
   },
   {
    "duration": 22,
    "start_time": "2021-06-27T12:16:32.175Z"
   },
   {
    "duration": 79,
    "start_time": "2021-06-27T12:16:32.199Z"
   },
   {
    "duration": 108,
    "start_time": "2021-06-27T12:16:32.280Z"
   },
   {
    "duration": 36,
    "start_time": "2021-06-27T12:16:32.391Z"
   },
   {
    "duration": 60,
    "start_time": "2021-06-27T12:16:32.430Z"
   },
   {
    "duration": 36,
    "start_time": "2021-06-27T12:16:32.492Z"
   },
   {
    "duration": 6,
    "start_time": "2021-06-27T12:16:32.531Z"
   },
   {
    "duration": 6,
    "start_time": "2021-06-27T12:16:32.539Z"
   },
   {
    "duration": 3700,
    "start_time": "2021-06-27T12:16:32.548Z"
   },
   {
    "duration": 33,
    "start_time": "2021-06-27T12:16:36.250Z"
   },
   {
    "duration": 45,
    "start_time": "2021-06-27T12:16:36.285Z"
   },
   {
    "duration": 18,
    "start_time": "2021-06-27T12:16:36.332Z"
   },
   {
    "duration": 4545,
    "start_time": "2021-06-27T12:16:36.352Z"
   },
   {
    "duration": 8,
    "start_time": "2021-06-27T12:16:40.900Z"
   },
   {
    "duration": 22,
    "start_time": "2021-06-27T12:16:40.925Z"
   },
   {
    "duration": 17,
    "start_time": "2021-06-27T12:16:40.950Z"
   },
   {
    "duration": 6437,
    "start_time": "2021-06-27T12:16:40.970Z"
   },
   {
    "duration": 32,
    "start_time": "2021-06-27T12:16:47.409Z"
   },
   {
    "duration": 8,
    "start_time": "2021-06-27T12:16:47.450Z"
   },
   {
    "duration": 26,
    "start_time": "2021-06-27T12:16:47.462Z"
   },
   {
    "duration": 379,
    "start_time": "2021-06-27T12:16:47.491Z"
   },
   {
    "duration": 33,
    "start_time": "2021-06-27T12:16:47.873Z"
   },
   {
    "duration": 51,
    "start_time": "2021-06-27T12:16:47.925Z"
   },
   {
    "duration": 53,
    "start_time": "2021-06-27T12:16:47.978Z"
   },
   {
    "duration": 36,
    "start_time": "2021-06-27T12:16:48.034Z"
   },
   {
    "duration": 75,
    "start_time": "2021-06-27T12:16:48.072Z"
   },
   {
    "duration": 6,
    "start_time": "2021-06-27T12:16:48.149Z"
   },
   {
    "duration": 18,
    "start_time": "2021-06-27T12:16:48.157Z"
   },
   {
    "duration": 10,
    "start_time": "2021-06-27T12:16:48.177Z"
   },
   {
    "duration": 5,
    "start_time": "2021-06-27T12:16:48.190Z"
   },
   {
    "duration": 2495,
    "start_time": "2021-06-27T12:16:48.198Z"
   },
   {
    "duration": 12,
    "start_time": "2021-06-27T12:16:50.695Z"
   },
   {
    "duration": 1133,
    "start_time": "2021-06-27T12:16:50.724Z"
   },
   {
    "duration": 7,
    "start_time": "2021-06-27T12:16:51.859Z"
   },
   {
    "duration": 1125,
    "start_time": "2021-06-27T12:16:51.869Z"
   },
   {
    "duration": 806,
    "start_time": "2021-06-27T12:16:52.996Z"
   },
   {
    "duration": 4531,
    "start_time": "2021-06-27T12:16:53.804Z"
   },
   {
    "duration": 313,
    "start_time": "2021-06-27T12:16:58.338Z"
   },
   {
    "duration": 304,
    "start_time": "2021-06-27T12:16:58.654Z"
   },
   {
    "duration": 5,
    "start_time": "2021-06-27T12:16:58.961Z"
   },
   {
    "duration": 233,
    "start_time": "2021-06-27T12:16:58.968Z"
   },
   {
    "duration": 980,
    "start_time": "2021-06-27T12:16:59.203Z"
   },
   {
    "duration": 15,
    "start_time": "2021-06-27T12:17:00.186Z"
   },
   {
    "duration": 790,
    "start_time": "2021-06-27T12:17:00.203Z"
   },
   {
    "duration": 28,
    "start_time": "2021-06-27T12:17:00.996Z"
   },
   {
    "duration": 807,
    "start_time": "2021-06-27T12:17:01.027Z"
   },
   {
    "duration": 16,
    "start_time": "2021-06-27T12:17:01.836Z"
   },
   {
    "duration": 770,
    "start_time": "2021-06-27T12:17:01.854Z"
   },
   {
    "duration": 16,
    "start_time": "2021-06-27T12:17:02.626Z"
   },
   {
    "duration": 3,
    "start_time": "2021-06-27T12:17:02.645Z"
   },
   {
    "duration": 5,
    "start_time": "2021-06-27T12:17:02.651Z"
   },
   {
    "duration": 7,
    "start_time": "2021-06-27T12:17:02.658Z"
   },
   {
    "duration": 742,
    "start_time": "2021-06-27T12:18:36.113Z"
   },
   {
    "duration": 16,
    "start_time": "2021-06-27T12:18:52.651Z"
   },
   {
    "duration": 743,
    "start_time": "2021-06-27T12:21:58.873Z"
   },
   {
    "duration": 843,
    "start_time": "2021-06-27T12:22:24.799Z"
   },
   {
    "duration": 22,
    "start_time": "2021-06-27T12:22:45.022Z"
   },
   {
    "duration": 740,
    "start_time": "2021-06-27T12:25:43.278Z"
   },
   {
    "duration": 567,
    "start_time": "2021-06-27T12:25:44.021Z"
   },
   {
    "duration": 4,
    "start_time": "2021-06-27T12:25:44.592Z"
   },
   {
    "duration": 43,
    "start_time": "2021-06-27T12:25:44.599Z"
   },
   {
    "duration": 24,
    "start_time": "2021-06-27T12:25:44.644Z"
   },
   {
    "duration": 75,
    "start_time": "2021-06-27T12:25:44.670Z"
   },
   {
    "duration": 104,
    "start_time": "2021-06-27T12:25:44.748Z"
   },
   {
    "duration": 24,
    "start_time": "2021-06-27T12:25:44.855Z"
   },
   {
    "duration": 77,
    "start_time": "2021-06-27T12:25:44.882Z"
   },
   {
    "duration": 21,
    "start_time": "2021-06-27T12:25:44.961Z"
   },
   {
    "duration": 7,
    "start_time": "2021-06-27T12:25:44.985Z"
   },
   {
    "duration": 7,
    "start_time": "2021-06-27T12:25:44.994Z"
   },
   {
    "duration": 3938,
    "start_time": "2021-06-27T12:25:45.025Z"
   },
   {
    "duration": 37,
    "start_time": "2021-06-27T12:25:48.965Z"
   },
   {
    "duration": 26,
    "start_time": "2021-06-27T12:25:49.025Z"
   },
   {
    "duration": 23,
    "start_time": "2021-06-27T12:25:49.053Z"
   },
   {
    "duration": 4558,
    "start_time": "2021-06-27T12:25:49.079Z"
   },
   {
    "duration": 8,
    "start_time": "2021-06-27T12:25:53.639Z"
   },
   {
    "duration": 26,
    "start_time": "2021-06-27T12:25:53.650Z"
   },
   {
    "duration": 16,
    "start_time": "2021-06-27T12:25:53.679Z"
   },
   {
    "duration": 6398,
    "start_time": "2021-06-27T12:25:53.725Z"
   },
   {
    "duration": 24,
    "start_time": "2021-06-27T12:26:00.126Z"
   },
   {
    "duration": 12,
    "start_time": "2021-06-27T12:26:00.155Z"
   },
   {
    "duration": 31,
    "start_time": "2021-06-27T12:26:00.170Z"
   },
   {
    "duration": 477,
    "start_time": "2021-06-27T12:26:00.204Z"
   },
   {
    "duration": 42,
    "start_time": "2021-06-27T12:26:00.684Z"
   },
   {
    "duration": 47,
    "start_time": "2021-06-27T12:26:00.728Z"
   },
   {
    "duration": 57,
    "start_time": "2021-06-27T12:26:00.777Z"
   },
   {
    "duration": 37,
    "start_time": "2021-06-27T12:26:00.837Z"
   },
   {
    "duration": 74,
    "start_time": "2021-06-27T12:26:00.876Z"
   },
   {
    "duration": 6,
    "start_time": "2021-06-27T12:26:00.952Z"
   },
   {
    "duration": 20,
    "start_time": "2021-06-27T12:26:00.961Z"
   },
   {
    "duration": 20,
    "start_time": "2021-06-27T12:26:00.983Z"
   },
   {
    "duration": 8,
    "start_time": "2021-06-27T12:26:01.005Z"
   },
   {
    "duration": 2177,
    "start_time": "2021-06-27T12:26:01.024Z"
   },
   {
    "duration": 26,
    "start_time": "2021-06-27T12:26:03.204Z"
   },
   {
    "duration": 1171,
    "start_time": "2021-06-27T12:26:03.233Z"
   },
   {
    "duration": 10,
    "start_time": "2021-06-27T12:26:04.406Z"
   },
   {
    "duration": 1162,
    "start_time": "2021-06-27T12:26:04.425Z"
   },
   {
    "duration": 943,
    "start_time": "2021-06-27T12:26:05.590Z"
   },
   {
    "duration": 4504,
    "start_time": "2021-06-27T12:26:06.535Z"
   },
   {
    "duration": 343,
    "start_time": "2021-06-27T12:26:11.041Z"
   },
   {
    "duration": 327,
    "start_time": "2021-06-27T12:26:11.386Z"
   },
   {
    "duration": 10,
    "start_time": "2021-06-27T12:26:11.715Z"
   },
   {
    "duration": 234,
    "start_time": "2021-06-27T12:26:11.728Z"
   },
   {
    "duration": 26,
    "start_time": "2021-06-27T12:26:11.965Z"
   },
   {
    "duration": 38,
    "start_time": "2021-06-27T12:26:11.993Z"
   },
   {
    "duration": 26,
    "start_time": "2021-06-27T12:26:12.033Z"
   },
   {
    "duration": 15,
    "start_time": "2021-06-27T12:26:12.061Z"
   },
   {
    "duration": 52,
    "start_time": "2021-06-27T12:26:12.078Z"
   },
   {
    "duration": 16,
    "start_time": "2021-06-27T12:26:12.133Z"
   },
   {
    "duration": 26,
    "start_time": "2021-06-27T12:26:12.151Z"
   },
   {
    "duration": 52,
    "start_time": "2021-06-27T12:26:12.179Z"
   },
   {
    "duration": 26,
    "start_time": "2021-06-27T12:26:12.233Z"
   },
   {
    "duration": 16,
    "start_time": "2021-06-27T12:26:12.262Z"
   },
   {
    "duration": 6102,
    "start_time": "2021-06-27T12:33:02.197Z"
   },
   {
    "duration": 238,
    "start_time": "2021-06-27T12:34:16.336Z"
   },
   {
    "duration": 266,
    "start_time": "2021-06-27T12:34:31.948Z"
   },
   {
    "duration": 226,
    "start_time": "2021-06-27T12:34:53.734Z"
   },
   {
    "duration": 276,
    "start_time": "2021-06-27T12:34:56.926Z"
   },
   {
    "duration": 273,
    "start_time": "2021-06-27T12:35:30.056Z"
   },
   {
    "duration": 225,
    "start_time": "2021-06-27T12:36:25.609Z"
   },
   {
    "duration": 226,
    "start_time": "2021-06-27T12:36:30.954Z"
   },
   {
    "duration": 1234,
    "start_time": "2021-06-27T12:36:37.472Z"
   },
   {
    "duration": 207,
    "start_time": "2021-06-27T12:37:58.360Z"
   },
   {
    "duration": 382,
    "start_time": "2021-06-27T12:38:12.591Z"
   },
   {
    "duration": 303,
    "start_time": "2021-06-27T12:38:28.592Z"
   },
   {
    "duration": 1103,
    "start_time": "2021-06-27T12:39:34.585Z"
   },
   {
    "duration": 216,
    "start_time": "2021-06-27T12:41:45.510Z"
   },
   {
    "duration": 319,
    "start_time": "2021-06-27T12:41:49.460Z"
   },
   {
    "duration": 1293,
    "start_time": "2021-06-27T12:41:52.989Z"
   },
   {
    "duration": 1100,
    "start_time": "2021-06-27T12:42:04.246Z"
   },
   {
    "duration": 200,
    "start_time": "2021-06-27T12:43:36.653Z"
   },
   {
    "duration": 205,
    "start_time": "2021-06-27T12:43:39.875Z"
   },
   {
    "duration": 232,
    "start_time": "2021-06-27T12:43:41.126Z"
   },
   {
    "duration": 1059,
    "start_time": "2021-06-27T12:43:42.268Z"
   },
   {
    "duration": 349,
    "start_time": "2021-06-27T12:45:40.247Z"
   },
   {
    "duration": 244,
    "start_time": "2021-06-27T12:45:40.717Z"
   },
   {
    "duration": 1068,
    "start_time": "2021-06-27T12:45:41.128Z"
   },
   {
    "duration": 604,
    "start_time": "2021-06-27T12:46:13.624Z"
   },
   {
    "duration": 381,
    "start_time": "2021-06-27T12:46:14.230Z"
   },
   {
    "duration": 12,
    "start_time": "2021-06-27T12:46:14.613Z"
   },
   {
    "duration": 40,
    "start_time": "2021-06-27T12:46:14.627Z"
   },
   {
    "duration": 24,
    "start_time": "2021-06-27T12:46:14.669Z"
   },
   {
    "duration": 71,
    "start_time": "2021-06-27T12:46:14.696Z"
   },
   {
    "duration": 103,
    "start_time": "2021-06-27T12:46:14.769Z"
   },
   {
    "duration": 23,
    "start_time": "2021-06-27T12:46:14.876Z"
   },
   {
    "duration": 73,
    "start_time": "2021-06-27T12:46:14.902Z"
   },
   {
    "duration": 19,
    "start_time": "2021-06-27T12:46:14.978Z"
   },
   {
    "duration": 30,
    "start_time": "2021-06-27T12:46:14.999Z"
   },
   {
    "duration": 14,
    "start_time": "2021-06-27T12:46:15.031Z"
   },
   {
    "duration": 3779,
    "start_time": "2021-06-27T12:46:15.047Z"
   },
   {
    "duration": 34,
    "start_time": "2021-06-27T12:46:18.828Z"
   },
   {
    "duration": 25,
    "start_time": "2021-06-27T12:46:18.865Z"
   },
   {
    "duration": 49,
    "start_time": "2021-06-27T12:46:18.893Z"
   },
   {
    "duration": 4617,
    "start_time": "2021-06-27T12:46:18.944Z"
   },
   {
    "duration": 7,
    "start_time": "2021-06-27T12:46:23.563Z"
   },
   {
    "duration": 22,
    "start_time": "2021-06-27T12:46:23.572Z"
   },
   {
    "duration": 32,
    "start_time": "2021-06-27T12:46:23.597Z"
   },
   {
    "duration": 6352,
    "start_time": "2021-06-27T12:46:23.632Z"
   },
   {
    "duration": 41,
    "start_time": "2021-06-27T12:46:29.986Z"
   },
   {
    "duration": 7,
    "start_time": "2021-06-27T12:46:30.035Z"
   },
   {
    "duration": 27,
    "start_time": "2021-06-27T12:46:30.048Z"
   },
   {
    "duration": 392,
    "start_time": "2021-06-27T12:46:30.078Z"
   },
   {
    "duration": 33,
    "start_time": "2021-06-27T12:46:30.473Z"
   },
   {
    "duration": 59,
    "start_time": "2021-06-27T12:46:30.508Z"
   },
   {
    "duration": 59,
    "start_time": "2021-06-27T12:46:30.569Z"
   },
   {
    "duration": 39,
    "start_time": "2021-06-27T12:46:30.630Z"
   },
   {
    "duration": 78,
    "start_time": "2021-06-27T12:46:30.672Z"
   },
   {
    "duration": 5,
    "start_time": "2021-06-27T12:46:30.753Z"
   },
   {
    "duration": 19,
    "start_time": "2021-06-27T12:46:30.760Z"
   },
   {
    "duration": 16,
    "start_time": "2021-06-27T12:46:30.782Z"
   },
   {
    "duration": 4,
    "start_time": "2021-06-27T12:46:30.800Z"
   },
   {
    "duration": 2219,
    "start_time": "2021-06-27T12:46:30.806Z"
   },
   {
    "duration": 12,
    "start_time": "2021-06-27T12:46:33.027Z"
   },
   {
    "duration": 1153,
    "start_time": "2021-06-27T12:46:33.041Z"
   },
   {
    "duration": 8,
    "start_time": "2021-06-27T12:46:34.196Z"
   },
   {
    "duration": 1141,
    "start_time": "2021-06-27T12:46:34.207Z"
   },
   {
    "duration": 964,
    "start_time": "2021-06-27T12:46:35.350Z"
   },
   {
    "duration": 4382,
    "start_time": "2021-06-27T12:46:36.324Z"
   },
   {
    "duration": 331,
    "start_time": "2021-06-27T12:46:40.708Z"
   },
   {
    "duration": 306,
    "start_time": "2021-06-27T12:46:41.042Z"
   },
   {
    "duration": 5,
    "start_time": "2021-06-27T12:46:41.351Z"
   },
   {
    "duration": 239,
    "start_time": "2021-06-27T12:46:41.359Z"
   },
   {
    "duration": 33,
    "start_time": "2021-06-27T12:46:41.601Z"
   },
   {
    "duration": 19,
    "start_time": "2021-06-27T12:46:41.636Z"
   },
   {
    "duration": 25,
    "start_time": "2021-06-27T12:46:41.657Z"
   },
   {
    "duration": 35,
    "start_time": "2021-06-27T12:46:41.693Z"
   },
   {
    "duration": 24,
    "start_time": "2021-06-27T12:46:41.731Z"
   },
   {
    "duration": 16,
    "start_time": "2021-06-27T12:46:41.757Z"
   },
   {
    "duration": 59,
    "start_time": "2021-06-27T12:46:41.775Z"
   },
   {
    "duration": 16,
    "start_time": "2021-06-27T12:46:41.837Z"
   },
   {
    "duration": 25,
    "start_time": "2021-06-27T12:46:41.855Z"
   },
   {
    "duration": 42,
    "start_time": "2021-06-27T12:46:41.882Z"
   },
   {
    "duration": 246,
    "start_time": "2021-06-27T12:46:41.926Z"
   },
   {
    "duration": 402,
    "start_time": "2021-06-27T12:46:42.175Z"
   },
   {
    "duration": 1115,
    "start_time": "2021-06-27T12:46:42.579Z"
   },
   {
    "duration": 230,
    "start_time": "2021-06-27T12:46:43.696Z"
   },
   {
    "duration": 220,
    "start_time": "2021-06-27T12:46:43.928Z"
   },
   {
    "duration": 1056,
    "start_time": "2021-06-27T12:46:44.150Z"
   },
   {
    "duration": 254,
    "start_time": "2021-06-27T12:46:45.209Z"
   },
   {
    "duration": 229,
    "start_time": "2021-06-27T12:46:45.465Z"
   },
   {
    "duration": 1203,
    "start_time": "2021-06-27T12:46:45.697Z"
   },
   {
    "duration": 226,
    "start_time": "2021-06-27T12:46:46.903Z"
   },
   {
    "duration": 220,
    "start_time": "2021-06-27T12:46:47.131Z"
   },
   {
    "duration": 1073,
    "start_time": "2021-06-27T12:46:47.354Z"
   },
   {
    "duration": 236,
    "start_time": "2021-06-27T12:46:48.434Z"
   },
   {
    "duration": 232,
    "start_time": "2021-06-27T12:46:48.673Z"
   },
   {
    "duration": 1166,
    "start_time": "2021-06-27T12:46:48.908Z"
   },
   {
    "duration": 632,
    "start_time": "2021-06-27T12:49:17.105Z"
   },
   {
    "duration": 438,
    "start_time": "2021-06-27T12:49:17.740Z"
   },
   {
    "duration": 4,
    "start_time": "2021-06-27T12:49:18.181Z"
   },
   {
    "duration": 46,
    "start_time": "2021-06-27T12:49:18.188Z"
   },
   {
    "duration": 31,
    "start_time": "2021-06-27T12:49:18.236Z"
   },
   {
    "duration": 84,
    "start_time": "2021-06-27T12:49:18.269Z"
   },
   {
    "duration": 107,
    "start_time": "2021-06-27T12:49:18.356Z"
   },
   {
    "duration": 24,
    "start_time": "2021-06-27T12:49:18.467Z"
   },
   {
    "duration": 80,
    "start_time": "2021-06-27T12:49:18.494Z"
   },
   {
    "duration": 22,
    "start_time": "2021-06-27T12:49:18.576Z"
   },
   {
    "duration": 29,
    "start_time": "2021-06-27T12:49:18.600Z"
   },
   {
    "duration": 6,
    "start_time": "2021-06-27T12:49:18.632Z"
   },
   {
    "duration": 4157,
    "start_time": "2021-06-27T12:49:18.641Z"
   },
   {
    "duration": 42,
    "start_time": "2021-06-27T12:49:22.801Z"
   },
   {
    "duration": 26,
    "start_time": "2021-06-27T12:49:22.846Z"
   },
   {
    "duration": 20,
    "start_time": "2021-06-27T12:49:22.874Z"
   },
   {
    "duration": 4559,
    "start_time": "2021-06-27T12:49:22.924Z"
   },
   {
    "duration": 7,
    "start_time": "2021-06-27T12:49:27.485Z"
   },
   {
    "duration": 40,
    "start_time": "2021-06-27T12:49:27.495Z"
   },
   {
    "duration": 16,
    "start_time": "2021-06-27T12:49:27.537Z"
   },
   {
    "duration": 6399,
    "start_time": "2021-06-27T12:49:27.556Z"
   },
   {
    "duration": 27,
    "start_time": "2021-06-27T12:49:33.958Z"
   },
   {
    "duration": 6,
    "start_time": "2021-06-27T12:49:33.993Z"
   },
   {
    "duration": 25,
    "start_time": "2021-06-27T12:49:34.027Z"
   },
   {
    "duration": 347,
    "start_time": "2021-06-27T12:49:34.055Z"
   },
   {
    "duration": 40,
    "start_time": "2021-06-27T12:49:34.405Z"
   },
   {
    "duration": 46,
    "start_time": "2021-06-27T12:49:34.447Z"
   },
   {
    "duration": 56,
    "start_time": "2021-06-27T12:49:34.495Z"
   },
   {
    "duration": 39,
    "start_time": "2021-06-27T12:49:34.553Z"
   },
   {
    "duration": 79,
    "start_time": "2021-06-27T12:49:34.594Z"
   },
   {
    "duration": 8,
    "start_time": "2021-06-27T12:49:34.675Z"
   },
   {
    "duration": 8,
    "start_time": "2021-06-27T12:49:34.685Z"
   },
   {
    "duration": 32,
    "start_time": "2021-06-27T12:49:34.696Z"
   },
   {
    "duration": 4,
    "start_time": "2021-06-27T12:49:34.730Z"
   },
   {
    "duration": 2162,
    "start_time": "2021-06-27T12:49:34.736Z"
   },
   {
    "duration": 23,
    "start_time": "2021-06-27T12:49:36.901Z"
   },
   {
    "duration": 1153,
    "start_time": "2021-06-27T12:49:36.927Z"
   },
   {
    "duration": 8,
    "start_time": "2021-06-27T12:49:38.083Z"
   },
   {
    "duration": 1302,
    "start_time": "2021-06-27T12:49:38.093Z"
   },
   {
    "duration": 825,
    "start_time": "2021-06-27T12:49:39.398Z"
   },
   {
    "duration": 4642,
    "start_time": "2021-06-27T12:49:40.226Z"
   },
   {
    "duration": 324,
    "start_time": "2021-06-27T12:49:44.870Z"
   },
   {
    "duration": 332,
    "start_time": "2021-06-27T12:49:45.196Z"
   },
   {
    "duration": 5,
    "start_time": "2021-06-27T12:49:45.531Z"
   },
   {
    "duration": 234,
    "start_time": "2021-06-27T12:49:45.538Z"
   },
   {
    "duration": 25,
    "start_time": "2021-06-27T12:49:45.774Z"
   },
   {
    "duration": 37,
    "start_time": "2021-06-27T12:49:45.801Z"
   },
   {
    "duration": 25,
    "start_time": "2021-06-27T12:49:45.840Z"
   },
   {
    "duration": 16,
    "start_time": "2021-06-27T12:49:45.867Z"
   },
   {
    "duration": 55,
    "start_time": "2021-06-27T12:49:45.886Z"
   },
   {
    "duration": 16,
    "start_time": "2021-06-27T12:49:45.943Z"
   },
   {
    "duration": 24,
    "start_time": "2021-06-27T12:49:45.961Z"
   },
   {
    "duration": 47,
    "start_time": "2021-06-27T12:49:45.988Z"
   },
   {
    "duration": 26,
    "start_time": "2021-06-27T12:49:46.038Z"
   },
   {
    "duration": 19,
    "start_time": "2021-06-27T12:49:46.067Z"
   },
   {
    "duration": 274,
    "start_time": "2021-06-27T12:49:46.088Z"
   },
   {
    "duration": 396,
    "start_time": "2021-06-27T12:49:46.364Z"
   },
   {
    "duration": 1134,
    "start_time": "2021-06-27T12:49:46.763Z"
   },
   {
    "duration": 231,
    "start_time": "2021-06-27T12:49:47.899Z"
   },
   {
    "duration": 251,
    "start_time": "2021-06-27T12:49:48.132Z"
   },
   {
    "duration": 1117,
    "start_time": "2021-06-27T12:49:48.386Z"
   },
   {
    "duration": 245,
    "start_time": "2021-06-27T12:49:49.506Z"
   },
   {
    "duration": 233,
    "start_time": "2021-06-27T12:49:49.754Z"
   },
   {
    "duration": 1186,
    "start_time": "2021-06-27T12:49:49.989Z"
   },
   {
    "duration": 249,
    "start_time": "2021-06-27T12:49:51.178Z"
   },
   {
    "duration": 234,
    "start_time": "2021-06-27T12:49:51.429Z"
   },
   {
    "duration": 1177,
    "start_time": "2021-06-27T12:49:51.665Z"
   },
   {
    "duration": 223,
    "start_time": "2021-06-27T12:49:52.850Z"
   },
   {
    "duration": 251,
    "start_time": "2021-06-27T12:49:53.076Z"
   },
   {
    "duration": 1248,
    "start_time": "2021-06-27T12:49:53.330Z"
   },
   {
    "duration": 7,
    "start_time": "2021-06-27T14:34:43.463Z"
   },
   {
    "duration": 9,
    "start_time": "2021-06-27T14:34:53.903Z"
   },
   {
    "duration": 521,
    "start_time": "2021-06-27T14:35:29.144Z"
   },
   {
    "duration": 802,
    "start_time": "2021-06-27T14:35:49.513Z"
   },
   {
    "duration": 942,
    "start_time": "2021-06-27T14:36:07.235Z"
   },
   {
    "duration": 1075,
    "start_time": "2021-06-27T14:36:26.602Z"
   },
   {
    "duration": 1134,
    "start_time": "2021-06-27T14:36:33.190Z"
   },
   {
    "duration": 1530,
    "start_time": "2021-06-27T14:36:38.717Z"
   },
   {
    "duration": 12,
    "start_time": "2021-06-27T14:37:41.754Z"
   },
   {
    "duration": 7,
    "start_time": "2021-06-27T14:38:18.219Z"
   },
   {
    "duration": 363,
    "start_time": "2021-06-27T14:40:17.339Z"
   },
   {
    "duration": 6,
    "start_time": "2021-06-27T14:40:20.709Z"
   },
   {
    "duration": 281,
    "start_time": "2021-06-27T14:51:12.063Z"
   },
   {
    "duration": 49,
    "start_time": "2021-06-27T14:51:15.310Z"
   },
   {
    "duration": 27,
    "start_time": "2021-06-27T14:51:17.390Z"
   },
   {
    "duration": 292,
    "start_time": "2021-06-27T14:51:46.710Z"
   },
   {
    "duration": 303,
    "start_time": "2021-06-27T14:52:06.417Z"
   },
   {
    "duration": 28,
    "start_time": "2021-06-27T14:52:12.740Z"
   },
   {
    "duration": 14,
    "start_time": "2021-06-27T14:55:33.480Z"
   },
   {
    "duration": 9,
    "start_time": "2021-06-27T14:55:44.610Z"
   },
   {
    "duration": 34,
    "start_time": "2021-06-27T14:58:36.941Z"
   },
   {
    "duration": 270,
    "start_time": "2021-06-27T14:58:38.622Z"
   },
   {
    "duration": 261,
    "start_time": "2021-06-27T14:58:46.407Z"
   },
   {
    "duration": 282,
    "start_time": "2021-06-27T14:58:58.191Z"
   },
   {
    "duration": 889,
    "start_time": "2021-06-27T14:59:46.997Z"
   },
   {
    "duration": 6876,
    "start_time": "2021-06-27T14:59:47.983Z"
   },
   {
    "duration": 12,
    "start_time": "2021-06-27T15:00:02.819Z"
   },
   {
    "duration": 21,
    "start_time": "2021-06-27T15:00:54.277Z"
   },
   {
    "duration": 270,
    "start_time": "2021-06-27T15:01:22.105Z"
   },
   {
    "duration": 15,
    "start_time": "2021-06-27T15:01:32.276Z"
   },
   {
    "duration": 11,
    "start_time": "2021-06-27T15:01:40.614Z"
   },
   {
    "duration": 277,
    "start_time": "2021-06-27T15:01:56.405Z"
   },
   {
    "duration": 16,
    "start_time": "2021-06-27T15:02:19.302Z"
   },
   {
    "duration": 264,
    "start_time": "2021-06-27T15:05:57.569Z"
   },
   {
    "duration": 37,
    "start_time": "2021-06-27T15:06:02.466Z"
   },
   {
    "duration": 20,
    "start_time": "2021-06-27T15:06:03.305Z"
   },
   {
    "duration": 109,
    "start_time": "2021-06-27T15:06:27.567Z"
   },
   {
    "duration": 13,
    "start_time": "2021-06-27T15:06:41.305Z"
   },
   {
    "duration": 93,
    "start_time": "2021-06-27T15:07:01.817Z"
   },
   {
    "duration": 18,
    "start_time": "2021-06-27T15:07:11.768Z"
   },
   {
    "duration": 6580,
    "start_time": "2021-06-27T15:08:17.390Z"
   },
   {
    "duration": 17,
    "start_time": "2021-06-27T15:08:57.564Z"
   },
   {
    "duration": 16,
    "start_time": "2021-06-27T15:10:46.756Z"
   },
   {
    "duration": 34,
    "start_time": "2021-06-27T15:13:09.690Z"
   },
   {
    "duration": 12,
    "start_time": "2021-06-27T15:13:13.505Z"
   },
   {
    "duration": 64,
    "start_time": "2021-06-27T15:16:29.088Z"
   },
   {
    "duration": 18,
    "start_time": "2021-06-27T15:16:30.387Z"
   },
   {
    "duration": 63,
    "start_time": "2021-06-27T15:16:36.459Z"
   },
   {
    "duration": 11,
    "start_time": "2021-06-27T15:16:37.049Z"
   },
   {
    "duration": 84,
    "start_time": "2021-06-27T15:16:48.606Z"
   },
   {
    "duration": 66,
    "start_time": "2021-06-27T15:17:03.382Z"
   },
   {
    "duration": 13,
    "start_time": "2021-06-27T15:17:04.076Z"
   },
   {
    "duration": 12,
    "start_time": "2021-06-27T15:17:09.880Z"
   },
   {
    "duration": 69,
    "start_time": "2021-06-27T15:18:14.757Z"
   },
   {
    "duration": 12,
    "start_time": "2021-06-27T15:18:15.301Z"
   },
   {
    "duration": 6,
    "start_time": "2021-06-27T15:18:16.453Z"
   },
   {
    "duration": 70,
    "start_time": "2021-06-27T15:19:11.958Z"
   },
   {
    "duration": 6,
    "start_time": "2021-06-27T15:19:12.854Z"
   },
   {
    "duration": 69,
    "start_time": "2021-06-27T15:19:43.584Z"
   },
   {
    "duration": 293,
    "start_time": "2021-06-27T15:20:01.091Z"
   },
   {
    "duration": 279,
    "start_time": "2021-06-27T15:20:32.702Z"
   },
   {
    "duration": 71,
    "start_time": "2021-06-27T15:20:35.804Z"
   },
   {
    "duration": 263,
    "start_time": "2021-06-27T15:20:36.978Z"
   },
   {
    "duration": 5,
    "start_time": "2021-06-27T15:21:14.792Z"
   },
   {
    "duration": 6,
    "start_time": "2021-06-27T15:22:02.818Z"
   },
   {
    "duration": 309,
    "start_time": "2021-06-27T15:22:07.427Z"
   },
   {
    "duration": 12,
    "start_time": "2021-06-27T15:22:14.468Z"
   },
   {
    "duration": 704,
    "start_time": "2021-06-27T16:19:29.830Z"
   },
   {
    "duration": 394,
    "start_time": "2021-06-27T16:19:30.537Z"
   },
   {
    "duration": 4,
    "start_time": "2021-06-27T16:19:30.934Z"
   },
   {
    "duration": 33,
    "start_time": "2021-06-27T16:19:30.941Z"
   },
   {
    "duration": 47,
    "start_time": "2021-06-27T16:19:30.976Z"
   },
   {
    "duration": 54,
    "start_time": "2021-06-27T16:19:31.026Z"
   },
   {
    "duration": 113,
    "start_time": "2021-06-27T16:19:31.082Z"
   },
   {
    "duration": 36,
    "start_time": "2021-06-27T16:19:31.197Z"
   },
   {
    "duration": 68,
    "start_time": "2021-06-27T16:19:31.237Z"
   },
   {
    "duration": 29,
    "start_time": "2021-06-27T16:19:31.308Z"
   },
   {
    "duration": 7,
    "start_time": "2021-06-27T16:19:31.340Z"
   },
   {
    "duration": 25,
    "start_time": "2021-06-27T16:19:31.349Z"
   },
   {
    "duration": 3718,
    "start_time": "2021-06-27T16:19:31.376Z"
   },
   {
    "duration": 44,
    "start_time": "2021-06-27T16:19:35.096Z"
   },
   {
    "duration": 27,
    "start_time": "2021-06-27T16:19:35.143Z"
   },
   {
    "duration": 18,
    "start_time": "2021-06-27T16:19:35.172Z"
   },
   {
    "duration": 4695,
    "start_time": "2021-06-27T16:19:35.192Z"
   },
   {
    "duration": 7,
    "start_time": "2021-06-27T16:19:39.889Z"
   },
   {
    "duration": 40,
    "start_time": "2021-06-27T16:19:39.899Z"
   },
   {
    "duration": 18,
    "start_time": "2021-06-27T16:19:39.941Z"
   },
   {
    "duration": 6499,
    "start_time": "2021-06-27T16:19:39.962Z"
   },
   {
    "duration": 24,
    "start_time": "2021-06-27T16:19:46.463Z"
   },
   {
    "duration": 7,
    "start_time": "2021-06-27T16:19:46.489Z"
   },
   {
    "duration": 39,
    "start_time": "2021-06-27T16:19:46.498Z"
   },
   {
    "duration": 342,
    "start_time": "2021-06-27T16:19:46.539Z"
   },
   {
    "duration": 46,
    "start_time": "2021-06-27T16:19:46.884Z"
   },
   {
    "duration": 49,
    "start_time": "2021-06-27T16:19:46.935Z"
   },
   {
    "duration": 61,
    "start_time": "2021-06-27T16:19:46.987Z"
   },
   {
    "duration": 36,
    "start_time": "2021-06-27T16:19:47.050Z"
   },
   {
    "duration": 72,
    "start_time": "2021-06-27T16:19:47.089Z"
   },
   {
    "duration": 6,
    "start_time": "2021-06-27T16:19:47.163Z"
   },
   {
    "duration": 9,
    "start_time": "2021-06-27T16:19:47.171Z"
   },
   {
    "duration": 8,
    "start_time": "2021-06-27T16:19:47.182Z"
   },
   {
    "duration": 31,
    "start_time": "2021-06-27T16:19:47.193Z"
   },
   {
    "duration": 2270,
    "start_time": "2021-06-27T16:19:47.226Z"
   },
   {
    "duration": 13,
    "start_time": "2021-06-27T16:19:49.498Z"
   },
   {
    "duration": 1134,
    "start_time": "2021-06-27T16:19:49.524Z"
   },
   {
    "duration": 8,
    "start_time": "2021-06-27T16:19:50.660Z"
   },
   {
    "duration": 1154,
    "start_time": "2021-06-27T16:19:50.670Z"
   },
   {
    "duration": 854,
    "start_time": "2021-06-27T16:19:51.826Z"
   },
   {
    "duration": 4556,
    "start_time": "2021-06-27T16:19:52.683Z"
   },
   {
    "duration": 326,
    "start_time": "2021-06-27T16:19:57.242Z"
   },
   {
    "duration": 313,
    "start_time": "2021-06-27T16:19:57.570Z"
   },
   {
    "duration": 5,
    "start_time": "2021-06-27T16:19:57.885Z"
   },
   {
    "duration": 235,
    "start_time": "2021-06-27T16:19:57.892Z"
   },
   {
    "duration": 24,
    "start_time": "2021-06-27T16:19:58.130Z"
   },
   {
    "duration": 18,
    "start_time": "2021-06-27T16:19:58.156Z"
   },
   {
    "duration": 58,
    "start_time": "2021-06-27T16:19:58.176Z"
   },
   {
    "duration": 16,
    "start_time": "2021-06-27T16:19:58.236Z"
   },
   {
    "duration": 26,
    "start_time": "2021-06-27T16:19:58.255Z"
   },
   {
    "duration": 43,
    "start_time": "2021-06-27T16:19:58.284Z"
   },
   {
    "duration": 27,
    "start_time": "2021-06-27T16:19:58.329Z"
   },
   {
    "duration": 16,
    "start_time": "2021-06-27T16:19:58.358Z"
   },
   {
    "duration": 64,
    "start_time": "2021-06-27T16:19:58.377Z"
   },
   {
    "duration": 15,
    "start_time": "2021-06-27T16:19:58.444Z"
   },
   {
    "duration": 1386,
    "start_time": "2021-06-27T16:19:58.461Z"
   },
   {
    "duration": 1111,
    "start_time": "2021-06-27T16:19:59.849Z"
   },
   {
    "duration": 1127,
    "start_time": "2021-06-27T16:20:00.963Z"
   },
   {
    "duration": 218,
    "start_time": "2021-06-27T16:20:02.093Z"
   },
   {
    "duration": 227,
    "start_time": "2021-06-27T16:20:02.313Z"
   },
   {
    "duration": 1193,
    "start_time": "2021-06-27T16:20:02.543Z"
   },
   {
    "duration": 1066,
    "start_time": "2021-06-27T16:20:03.738Z"
   },
   {
    "duration": 21,
    "start_time": "2021-06-27T16:20:04.807Z"
   },
   {
    "duration": 1567,
    "start_time": "2021-06-27T16:20:04.831Z"
   },
   {
    "duration": 7,
    "start_time": "2021-06-27T16:20:06.401Z"
   },
   {
    "duration": 100,
    "start_time": "2021-06-27T16:20:06.411Z"
   },
   {
    "duration": 11,
    "start_time": "2021-06-27T16:20:06.513Z"
   },
   {
    "duration": 22,
    "start_time": "2021-06-27T16:20:06.526Z"
   },
   {
    "duration": 378,
    "start_time": "2021-06-27T16:20:06.550Z"
   },
   {
    "duration": 413,
    "start_time": "2021-06-27T16:20:06.517Z"
   },
   {
    "duration": 292,
    "start_time": "2021-06-27T16:20:57.733Z"
   },
   {
    "duration": 66,
    "start_time": "2021-06-27T16:21:04.929Z"
   },
   {
    "duration": 12,
    "start_time": "2021-06-27T16:21:07.250Z"
   },
   {
    "duration": 282,
    "start_time": "2021-06-27T16:21:36.720Z"
   },
   {
    "duration": 310,
    "start_time": "2021-06-27T16:21:48.880Z"
   },
   {
    "duration": 268,
    "start_time": "2021-06-27T16:22:28.700Z"
   },
   {
    "duration": 13,
    "start_time": "2021-06-27T16:25:53.024Z"
   },
   {
    "duration": 24,
    "start_time": "2021-06-27T16:29:38.894Z"
   },
   {
    "duration": 39,
    "start_time": "2021-06-27T16:30:26.993Z"
   },
   {
    "duration": 33,
    "start_time": "2021-06-27T16:31:36.624Z"
   },
   {
    "duration": 42,
    "start_time": "2021-06-27T16:31:41.844Z"
   },
   {
    "duration": 38,
    "start_time": "2021-06-27T16:32:15.012Z"
   },
   {
    "duration": 42,
    "start_time": "2021-06-27T16:32:32.774Z"
   },
   {
    "duration": 7507,
    "start_time": "2021-06-27T16:37:57.543Z"
   },
   {
    "duration": 7,
    "start_time": "2021-06-27T16:38:06.813Z"
   },
   {
    "duration": 1862,
    "start_time": "2021-06-27T16:38:43.805Z"
   },
   {
    "duration": 13,
    "start_time": "2021-06-27T16:39:32.675Z"
   },
   {
    "duration": 1292,
    "start_time": "2021-06-27T16:40:11.933Z"
   },
   {
    "duration": 10,
    "start_time": "2021-06-27T16:40:17.895Z"
   },
   {
    "duration": 11,
    "start_time": "2021-06-27T21:29:25.665Z"
   },
   {
    "duration": 11,
    "start_time": "2021-06-27T21:29:32.964Z"
   },
   {
    "duration": 9,
    "start_time": "2021-06-27T21:29:41.956Z"
   },
   {
    "duration": 9,
    "start_time": "2021-06-27T21:29:48.204Z"
   },
   {
    "duration": 7,
    "start_time": "2021-06-27T21:30:29.806Z"
   },
   {
    "duration": 9,
    "start_time": "2021-06-27T21:30:36.911Z"
   },
   {
    "duration": 3,
    "start_time": "2021-06-27T21:31:23.053Z"
   },
   {
    "duration": 130,
    "start_time": "2021-06-27T21:31:23.653Z"
   },
   {
    "duration": 3,
    "start_time": "2021-06-27T21:31:24.147Z"
   },
   {
    "duration": 27,
    "start_time": "2021-06-27T21:31:24.597Z"
   },
   {
    "duration": 21,
    "start_time": "2021-06-27T21:31:26.797Z"
   },
   {
    "duration": 56,
    "start_time": "2021-06-27T21:31:27.223Z"
   },
   {
    "duration": 89,
    "start_time": "2021-06-27T21:31:30.486Z"
   },
   {
    "duration": 24,
    "start_time": "2021-06-27T21:31:36.584Z"
   },
   {
    "duration": 50,
    "start_time": "2021-06-27T21:31:41.609Z"
   },
   {
    "duration": 20,
    "start_time": "2021-06-27T21:31:47.929Z"
   },
   {
    "duration": 5,
    "start_time": "2021-06-27T21:32:16.537Z"
   },
   {
    "duration": 3833,
    "start_time": "2021-06-27T21:32:23.744Z"
   },
   {
    "duration": 47,
    "start_time": "2021-06-27T21:32:27.579Z"
   },
   {
    "duration": 26,
    "start_time": "2021-06-27T21:32:34.369Z"
   },
   {
    "duration": 21,
    "start_time": "2021-06-27T21:32:40.908Z"
   },
   {
    "duration": 4951,
    "start_time": "2021-06-27T21:32:42.893Z"
   },
   {
    "duration": 10,
    "start_time": "2021-06-27T21:32:47.847Z"
   },
   {
    "duration": 21,
    "start_time": "2021-06-27T21:32:56.068Z"
   },
   {
    "duration": 17,
    "start_time": "2021-06-27T21:32:56.878Z"
   },
   {
    "duration": 6587,
    "start_time": "2021-06-27T21:33:02.006Z"
   },
   {
    "duration": 39,
    "start_time": "2021-06-27T21:33:08.596Z"
   },
   {
    "duration": 7,
    "start_time": "2021-06-27T21:33:12.905Z"
   },
   {
    "duration": 24,
    "start_time": "2021-06-27T21:33:15.532Z"
   },
   {
    "duration": 30,
    "start_time": "2021-06-27T21:34:33.260Z"
   },
   {
    "duration": 38,
    "start_time": "2021-06-27T21:35:54.769Z"
   },
   {
    "duration": 39,
    "start_time": "2021-06-27T21:36:00.535Z"
   },
   {
    "duration": 54,
    "start_time": "2021-06-27T21:38:31.989Z"
   },
   {
    "duration": 1649,
    "start_time": "2021-06-27T22:18:36.708Z"
   },
   {
    "duration": 620,
    "start_time": "2021-06-28T07:36:37.157Z"
   },
   {
    "duration": 384,
    "start_time": "2021-06-28T07:36:37.779Z"
   },
   {
    "duration": 4,
    "start_time": "2021-06-28T07:36:38.166Z"
   },
   {
    "duration": 29,
    "start_time": "2021-06-28T07:36:38.172Z"
   },
   {
    "duration": 26,
    "start_time": "2021-06-28T07:36:38.487Z"
   },
   {
    "duration": 55,
    "start_time": "2021-06-28T07:36:38.799Z"
   },
   {
    "duration": 95,
    "start_time": "2021-06-28T07:36:39.093Z"
   },
   {
    "duration": 24,
    "start_time": "2021-06-28T07:36:41.053Z"
   },
   {
    "duration": 67,
    "start_time": "2021-06-28T07:36:42.398Z"
   },
   {
    "duration": 22,
    "start_time": "2021-06-28T07:36:43.702Z"
   },
   {
    "duration": 5,
    "start_time": "2021-06-28T07:36:44.087Z"
   },
   {
    "duration": 3884,
    "start_time": "2021-06-28T07:36:45.215Z"
   },
   {
    "duration": 36,
    "start_time": "2021-06-28T07:36:51.127Z"
   },
   {
    "duration": 25,
    "start_time": "2021-06-28T07:36:55.917Z"
   },
   {
    "duration": 19,
    "start_time": "2021-06-28T07:36:56.798Z"
   },
   {
    "duration": 4700,
    "start_time": "2021-06-28T07:36:57.222Z"
   },
   {
    "duration": 18,
    "start_time": "2021-06-28T07:37:01.925Z"
   },
   {
    "duration": 30,
    "start_time": "2021-06-28T07:37:01.946Z"
   },
   {
    "duration": 6463,
    "start_time": "2021-06-28T07:37:02.535Z"
   },
   {
    "duration": 24,
    "start_time": "2021-06-28T07:37:09.001Z"
   },
   {
    "duration": 7,
    "start_time": "2021-06-28T07:37:09.029Z"
   },
   {
    "duration": 25,
    "start_time": "2021-06-28T07:37:09.062Z"
   },
   {
    "duration": 49,
    "start_time": "2021-06-28T07:37:09.874Z"
   },
   {
    "duration": 37,
    "start_time": "2021-06-28T07:37:13.434Z"
   },
   {
    "duration": 39,
    "start_time": "2021-06-28T07:37:13.858Z"
   },
   {
    "duration": 53,
    "start_time": "2021-06-28T07:37:17.291Z"
   },
   {
    "duration": 10,
    "start_time": "2021-06-28T07:37:18.434Z"
   },
   {
    "duration": 4,
    "start_time": "2021-06-28T07:37:19.401Z"
   },
   {
    "duration": 2221,
    "start_time": "2021-06-28T07:37:26.419Z"
   },
   {
    "duration": 13,
    "start_time": "2021-06-28T07:37:31.931Z"
   },
   {
    "duration": 1283,
    "start_time": "2021-06-28T07:37:35.934Z"
   },
   {
    "duration": 8,
    "start_time": "2021-06-28T07:37:37.220Z"
   },
   {
    "duration": 1179,
    "start_time": "2021-06-28T07:37:40.239Z"
   },
   {
    "duration": 847,
    "start_time": "2021-06-28T07:37:41.421Z"
   },
   {
    "duration": 4600,
    "start_time": "2021-06-28T07:37:42.270Z"
   },
   {
    "duration": 321,
    "start_time": "2021-06-28T07:37:46.873Z"
   },
   {
    "duration": 331,
    "start_time": "2021-06-28T07:37:47.197Z"
   },
   {
    "duration": 5,
    "start_time": "2021-06-28T07:37:51.327Z"
   },
   {
    "duration": 26,
    "start_time": "2021-06-28T07:37:51.718Z"
   },
   {
    "duration": 18,
    "start_time": "2021-06-28T07:37:52.095Z"
   },
   {
    "duration": 26,
    "start_time": "2021-06-28T07:37:54.479Z"
   },
   {
    "duration": 16,
    "start_time": "2021-06-28T07:37:54.878Z"
   },
   {
    "duration": 25,
    "start_time": "2021-06-28T07:37:55.607Z"
   },
   {
    "duration": 16,
    "start_time": "2021-06-28T07:37:55.871Z"
   },
   {
    "duration": 26,
    "start_time": "2021-06-28T07:37:56.831Z"
   },
   {
    "duration": 19,
    "start_time": "2021-06-28T07:37:57.295Z"
   },
   {
    "duration": 32,
    "start_time": "2021-06-28T07:37:59.400Z"
   },
   {
    "duration": 17,
    "start_time": "2021-06-28T07:37:59.935Z"
   },
   {
    "duration": 1316,
    "start_time": "2021-06-28T07:38:04.750Z"
   },
   {
    "duration": 1092,
    "start_time": "2021-06-28T07:38:06.070Z"
   },
   {
    "duration": 1690,
    "start_time": "2021-06-28T07:38:09.396Z"
   },
   {
    "duration": 1663,
    "start_time": "2021-06-28T07:38:11.723Z"
   },
   {
    "duration": 1897,
    "start_time": "2021-06-28T07:38:15.189Z"
   },
   {
    "duration": 2468,
    "start_time": "2021-06-28T07:38:26.003Z"
   },
   {
    "duration": 8,
    "start_time": "2021-06-28T07:38:28.475Z"
   },
   {
    "duration": 12,
    "start_time": "2021-06-28T07:38:32.701Z"
   },
   {
    "duration": 44,
    "start_time": "2021-06-28T07:38:37.615Z"
   },
   {
    "duration": 43,
    "start_time": "2021-06-28T07:40:31.875Z"
   },
   {
    "duration": 50,
    "start_time": "2021-06-28T07:41:02.830Z"
   },
   {
    "duration": 420,
    "start_time": "2021-06-28T07:42:11.046Z"
   },
   {
    "duration": 327,
    "start_time": "2021-06-28T07:42:23.782Z"
   },
   {
    "duration": 6,
    "start_time": "2021-06-28T07:42:46.559Z"
   },
   {
    "duration": 8386,
    "start_time": "2021-06-28T07:43:19.011Z"
   },
   {
    "duration": 7,
    "start_time": "2021-06-28T07:43:39.781Z"
   },
   {
    "duration": 9,
    "start_time": "2021-06-28T07:44:22.315Z"
   },
   {
    "duration": 16,
    "start_time": "2021-06-28T07:45:08.276Z"
   },
   {
    "duration": 13,
    "start_time": "2021-06-28T07:45:30.508Z"
   },
   {
    "duration": 13,
    "start_time": "2021-06-28T07:46:20.945Z"
   },
   {
    "duration": 562,
    "start_time": "2021-06-28T07:47:26.643Z"
   },
   {
    "duration": 1124,
    "start_time": "2021-06-28T07:47:41.179Z"
   },
   {
    "duration": 610,
    "start_time": "2021-06-28T07:51:36.222Z"
   },
   {
    "duration": 713,
    "start_time": "2021-06-28T07:52:29.621Z"
   },
   {
    "duration": 571,
    "start_time": "2021-06-28T07:54:37.012Z"
   },
   {
    "duration": 614,
    "start_time": "2021-06-28T07:55:34.942Z"
   },
   {
    "duration": 586,
    "start_time": "2021-06-28T07:55:52.083Z"
   },
   {
    "duration": 627,
    "start_time": "2021-06-28T07:56:03.575Z"
   },
   {
    "duration": 604,
    "start_time": "2021-06-28T07:57:34.816Z"
   },
   {
    "duration": 417,
    "start_time": "2021-06-28T08:17:22.719Z"
   },
   {
    "duration": 980,
    "start_time": "2021-06-28T08:18:50.833Z"
   },
   {
    "duration": 593,
    "start_time": "2021-06-28T08:19:16.596Z"
   },
   {
    "duration": 587,
    "start_time": "2021-06-28T08:19:26.755Z"
   },
   {
    "duration": 574,
    "start_time": "2021-06-28T08:19:30.223Z"
   },
   {
    "duration": 579,
    "start_time": "2021-06-28T08:19:59.838Z"
   },
   {
    "duration": 219,
    "start_time": "2021-06-28T08:22:19.457Z"
   },
   {
    "duration": 308,
    "start_time": "2021-06-28T08:22:37.218Z"
   },
   {
    "duration": 617,
    "start_time": "2021-06-28T08:24:14.728Z"
   },
   {
    "duration": 24902,
    "start_time": "2021-06-28T08:32:32.313Z"
   },
   {
    "duration": 39,
    "start_time": "2021-06-28T08:35:01.893Z"
   },
   {
    "duration": 36,
    "start_time": "2021-06-28T08:35:17.678Z"
   },
   {
    "duration": 36,
    "start_time": "2021-06-28T08:35:49.029Z"
   },
   {
    "duration": 1128,
    "start_time": "2021-06-28T08:35:58.981Z"
   },
   {
    "duration": 8,
    "start_time": "2021-06-28T08:38:36.480Z"
   },
   {
    "duration": 11,
    "start_time": "2021-06-28T08:38:56.955Z"
   },
   {
    "duration": 8120,
    "start_time": "2021-06-28T08:39:32.882Z"
   },
   {
    "duration": 8604,
    "start_time": "2021-06-28T08:39:46.500Z"
   },
   {
    "duration": 9072,
    "start_time": "2021-06-28T08:40:46.460Z"
   },
   {
    "duration": 8856,
    "start_time": "2021-06-28T08:41:00.874Z"
   },
   {
    "duration": 8837,
    "start_time": "2021-06-28T08:41:34.242Z"
   },
   {
    "duration": 2100,
    "start_time": "2021-06-28T08:51:41.878Z"
   },
   {
    "duration": 642,
    "start_time": "2021-06-28T08:52:47.933Z"
   },
   {
    "duration": 1164,
    "start_time": "2021-06-28T08:53:09.650Z"
   },
   {
    "duration": 1083,
    "start_time": "2021-06-28T08:53:22.132Z"
   },
   {
    "duration": 2123,
    "start_time": "2021-06-28T08:53:36.753Z"
   },
   {
    "duration": 11,
    "start_time": "2021-06-28T09:06:30.662Z"
   },
   {
    "duration": 4,
    "start_time": "2021-06-28T09:22:44.425Z"
   },
   {
    "duration": 126,
    "start_time": "2021-06-28T09:22:45.120Z"
   },
   {
    "duration": 7,
    "start_time": "2021-06-28T09:22:50.029Z"
   },
   {
    "duration": 27,
    "start_time": "2021-06-28T09:22:50.572Z"
   },
   {
    "duration": 35,
    "start_time": "2021-06-28T09:22:57.115Z"
   },
   {
    "duration": 3,
    "start_time": "2021-06-28T09:23:37.552Z"
   },
   {
    "duration": 139,
    "start_time": "2021-06-28T09:23:37.740Z"
   },
   {
    "duration": 4,
    "start_time": "2021-06-28T09:23:37.896Z"
   },
   {
    "duration": 29,
    "start_time": "2021-06-28T09:23:38.081Z"
   },
   {
    "duration": 55,
    "start_time": "2021-06-28T09:23:38.241Z"
   },
   {
    "duration": 75,
    "start_time": "2021-06-28T09:23:38.429Z"
   },
   {
    "duration": 91,
    "start_time": "2021-06-28T09:23:38.586Z"
   },
   {
    "duration": 25,
    "start_time": "2021-06-28T09:23:40.272Z"
   },
   {
    "duration": 52,
    "start_time": "2021-06-28T09:23:41.641Z"
   },
   {
    "duration": 22,
    "start_time": "2021-06-28T09:23:42.723Z"
   },
   {
    "duration": 5,
    "start_time": "2021-06-28T09:23:44.080Z"
   },
   {
    "duration": 3929,
    "start_time": "2021-06-28T09:23:45.095Z"
   },
   {
    "duration": 42,
    "start_time": "2021-06-28T09:23:49.027Z"
   },
   {
    "duration": 25,
    "start_time": "2021-06-28T09:23:49.072Z"
   },
   {
    "duration": 21,
    "start_time": "2021-06-28T09:23:54.626Z"
   },
   {
    "duration": 4789,
    "start_time": "2021-06-28T09:23:55.273Z"
   },
   {
    "duration": 21,
    "start_time": "2021-06-28T09:24:00.065Z"
   },
   {
    "duration": 17,
    "start_time": "2021-06-28T09:24:05.984Z"
   },
   {
    "duration": 6723,
    "start_time": "2021-06-28T09:24:07.767Z"
   },
   {
    "duration": 26,
    "start_time": "2021-06-28T09:24:14.493Z"
   },
   {
    "duration": 7,
    "start_time": "2021-06-28T09:24:14.522Z"
   },
   {
    "duration": 50,
    "start_time": "2021-06-28T09:24:14.531Z"
   },
   {
    "duration": 46,
    "start_time": "2021-06-28T09:24:14.583Z"
   },
   {
    "duration": 59,
    "start_time": "2021-06-28T09:24:14.632Z"
   },
   {
    "duration": 37,
    "start_time": "2021-06-28T09:24:16.084Z"
   },
   {
    "duration": 28,
    "start_time": "2021-06-28T09:24:22.976Z"
   },
   {
    "duration": 59,
    "start_time": "2021-06-28T09:24:26.091Z"
   },
   {
    "duration": 624,
    "start_time": "2021-06-28T09:31:15.972Z"
   },
   {
    "duration": 380,
    "start_time": "2021-06-28T09:31:16.599Z"
   },
   {
    "duration": 5,
    "start_time": "2021-06-28T09:31:16.983Z"
   },
   {
    "duration": 29,
    "start_time": "2021-06-28T09:31:16.992Z"
   },
   {
    "duration": 69,
    "start_time": "2021-06-28T09:31:17.024Z"
   },
   {
    "duration": 81,
    "start_time": "2021-06-28T09:31:17.097Z"
   },
   {
    "duration": 109,
    "start_time": "2021-06-28T09:31:17.181Z"
   },
   {
    "duration": 25,
    "start_time": "2021-06-28T09:31:17.295Z"
   },
   {
    "duration": 81,
    "start_time": "2021-06-28T09:31:17.324Z"
   },
   {
    "duration": 23,
    "start_time": "2021-06-28T09:31:17.407Z"
   },
   {
    "duration": 30,
    "start_time": "2021-06-28T09:31:17.433Z"
   },
   {
    "duration": 3782,
    "start_time": "2021-06-28T09:31:17.466Z"
   },
   {
    "duration": 42,
    "start_time": "2021-06-28T09:31:21.250Z"
   },
   {
    "duration": 27,
    "start_time": "2021-06-28T09:31:21.295Z"
   },
   {
    "duration": 52,
    "start_time": "2021-06-28T09:31:21.324Z"
   },
   {
    "duration": 4863,
    "start_time": "2021-06-28T09:31:21.378Z"
   },
   {
    "duration": 33,
    "start_time": "2021-06-28T09:31:26.243Z"
   },
   {
    "duration": 18,
    "start_time": "2021-06-28T09:31:26.279Z"
   },
   {
    "duration": 6582,
    "start_time": "2021-06-28T09:31:26.299Z"
   },
   {
    "duration": 25,
    "start_time": "2021-06-28T09:31:32.883Z"
   },
   {
    "duration": 7,
    "start_time": "2021-06-28T09:31:32.911Z"
   },
   {
    "duration": 56,
    "start_time": "2021-06-28T09:31:32.920Z"
   },
   {
    "duration": 47,
    "start_time": "2021-06-28T09:31:32.981Z"
   },
   {
    "duration": 61,
    "start_time": "2021-06-28T09:31:33.031Z"
   },
   {
    "duration": 40,
    "start_time": "2021-06-28T09:31:33.094Z"
   },
   {
    "duration": 78,
    "start_time": "2021-06-28T09:31:33.136Z"
   },
   {
    "duration": 9,
    "start_time": "2021-06-28T09:31:33.217Z"
   },
   {
    "duration": 33,
    "start_time": "2021-06-28T09:31:33.229Z"
   },
   {
    "duration": 2191,
    "start_time": "2021-06-28T09:31:33.264Z"
   },
   {
    "duration": 12,
    "start_time": "2021-06-28T09:31:35.458Z"
   },
   {
    "duration": 1152,
    "start_time": "2021-06-28T09:31:35.472Z"
   },
   {
    "duration": 7,
    "start_time": "2021-06-28T09:31:36.627Z"
   },
   {
    "duration": 1143,
    "start_time": "2021-06-28T09:31:46.455Z"
   },
   {
    "duration": 1015,
    "start_time": "2021-06-28T09:39:19.137Z"
   },
   {
    "duration": 3,
    "start_time": "2021-06-28T09:39:32.154Z"
   },
   {
    "duration": 140,
    "start_time": "2021-06-28T09:39:32.162Z"
   },
   {
    "duration": 3,
    "start_time": "2021-06-28T09:39:32.304Z"
   },
   {
    "duration": 52,
    "start_time": "2021-06-28T09:39:32.310Z"
   },
   {
    "duration": 34,
    "start_time": "2021-06-28T09:39:32.365Z"
   },
   {
    "duration": 81,
    "start_time": "2021-06-28T09:39:32.402Z"
   },
   {
    "duration": 102,
    "start_time": "2021-06-28T09:39:32.486Z"
   },
   {
    "duration": 25,
    "start_time": "2021-06-28T09:39:32.590Z"
   },
   {
    "duration": 68,
    "start_time": "2021-06-28T09:39:32.619Z"
   },
   {
    "duration": 19,
    "start_time": "2021-06-28T09:39:32.690Z"
   },
   {
    "duration": 4,
    "start_time": "2021-06-28T09:39:32.711Z"
   },
   {
    "duration": 3795,
    "start_time": "2021-06-28T09:39:32.717Z"
   },
   {
    "duration": 48,
    "start_time": "2021-06-28T09:39:36.515Z"
   },
   {
    "duration": 24,
    "start_time": "2021-06-28T09:39:36.566Z"
   },
   {
    "duration": 19,
    "start_time": "2021-06-28T09:39:36.592Z"
   },
   {
    "duration": 4660,
    "start_time": "2021-06-28T09:39:36.613Z"
   },
   {
    "duration": 19,
    "start_time": "2021-06-28T09:39:41.275Z"
   },
   {
    "duration": 16,
    "start_time": "2021-06-28T09:39:41.297Z"
   },
   {
    "duration": 6688,
    "start_time": "2021-06-28T09:39:41.315Z"
   },
   {
    "duration": 24,
    "start_time": "2021-06-28T09:39:48.006Z"
   },
   {
    "duration": 32,
    "start_time": "2021-06-28T09:39:48.032Z"
   },
   {
    "duration": 28,
    "start_time": "2021-06-28T09:39:48.067Z"
   },
   {
    "duration": 65,
    "start_time": "2021-06-28T09:39:48.097Z"
   },
   {
    "duration": 36,
    "start_time": "2021-06-28T09:39:48.167Z"
   },
   {
    "duration": 61,
    "start_time": "2021-06-28T09:39:48.206Z"
   },
   {
    "duration": 56,
    "start_time": "2021-06-28T09:39:48.270Z"
   },
   {
    "duration": 6,
    "start_time": "2021-06-28T09:39:48.328Z"
   },
   {
    "duration": 28,
    "start_time": "2021-06-28T09:39:48.336Z"
   },
   {
    "duration": 2177,
    "start_time": "2021-06-28T09:39:48.366Z"
   },
   {
    "duration": 21,
    "start_time": "2021-06-28T09:39:50.545Z"
   },
   {
    "duration": 1196,
    "start_time": "2021-06-28T09:39:50.568Z"
   },
   {
    "duration": 8,
    "start_time": "2021-06-28T09:39:51.766Z"
   },
   {
    "duration": 1096,
    "start_time": "2021-06-28T09:39:51.776Z"
   },
   {
    "duration": 850,
    "start_time": "2021-06-28T09:39:52.874Z"
   },
   {
    "duration": 4853,
    "start_time": "2021-06-28T09:39:53.727Z"
   },
   {
    "duration": 329,
    "start_time": "2021-06-28T09:39:58.582Z"
   },
   {
    "duration": 329,
    "start_time": "2021-06-28T09:39:58.914Z"
   },
   {
    "duration": 16,
    "start_time": "2021-06-28T09:39:59.246Z"
   },
   {
    "duration": 24,
    "start_time": "2021-06-28T09:39:59.265Z"
   },
   {
    "duration": 18,
    "start_time": "2021-06-28T09:39:59.293Z"
   },
   {
    "duration": 63,
    "start_time": "2021-06-28T09:39:59.313Z"
   },
   {
    "duration": 17,
    "start_time": "2021-06-28T09:39:59.380Z"
   },
   {
    "duration": 28,
    "start_time": "2021-06-28T09:39:59.400Z"
   },
   {
    "duration": 17,
    "start_time": "2021-06-28T09:39:59.463Z"
   },
   {
    "duration": 28,
    "start_time": "2021-06-28T09:39:59.482Z"
   },
   {
    "duration": 54,
    "start_time": "2021-06-28T09:39:59.513Z"
   },
   {
    "duration": 27,
    "start_time": "2021-06-28T09:39:59.570Z"
   },
   {
    "duration": 15,
    "start_time": "2021-06-28T09:39:59.599Z"
   },
   {
    "duration": 614,
    "start_time": "2021-06-28T09:58:33.878Z"
   },
   {
    "duration": 397,
    "start_time": "2021-06-28T09:58:34.495Z"
   },
   {
    "duration": 4,
    "start_time": "2021-06-28T09:58:34.895Z"
   },
   {
    "duration": 35,
    "start_time": "2021-06-28T09:58:34.902Z"
   },
   {
    "duration": 53,
    "start_time": "2021-06-28T09:58:34.940Z"
   },
   {
    "duration": 80,
    "start_time": "2021-06-28T09:58:34.996Z"
   },
   {
    "duration": 111,
    "start_time": "2021-06-28T09:58:35.078Z"
   },
   {
    "duration": 25,
    "start_time": "2021-06-28T09:58:35.192Z"
   },
   {
    "duration": 86,
    "start_time": "2021-06-28T09:58:35.220Z"
   },
   {
    "duration": 21,
    "start_time": "2021-06-28T09:58:35.308Z"
   },
   {
    "duration": 4,
    "start_time": "2021-06-28T09:58:35.331Z"
   },
   {
    "duration": 3812,
    "start_time": "2021-06-28T09:58:35.362Z"
   },
   {
    "duration": 35,
    "start_time": "2021-06-28T09:58:39.176Z"
   },
   {
    "duration": 50,
    "start_time": "2021-06-28T09:58:39.213Z"
   },
   {
    "duration": 20,
    "start_time": "2021-06-28T09:58:39.265Z"
   },
   {
    "duration": 4880,
    "start_time": "2021-06-28T09:58:39.287Z"
   },
   {
    "duration": 20,
    "start_time": "2021-06-28T09:58:44.169Z"
   },
   {
    "duration": 15,
    "start_time": "2021-06-28T09:58:44.192Z"
   },
   {
    "duration": 6598,
    "start_time": "2021-06-28T09:58:44.210Z"
   },
   {
    "duration": 25,
    "start_time": "2021-06-28T09:58:50.811Z"
   },
   {
    "duration": 26,
    "start_time": "2021-06-28T09:58:50.838Z"
   },
   {
    "duration": 40,
    "start_time": "2021-06-28T09:58:50.867Z"
   },
   {
    "duration": 57,
    "start_time": "2021-06-28T09:58:50.913Z"
   },
   {
    "duration": 36,
    "start_time": "2021-06-28T09:58:50.974Z"
   },
   {
    "duration": 63,
    "start_time": "2021-06-28T09:58:51.013Z"
   },
   {
    "duration": 57,
    "start_time": "2021-06-28T09:58:51.078Z"
   },
   {
    "duration": 26,
    "start_time": "2021-06-28T09:58:51.138Z"
   },
   {
    "duration": 19,
    "start_time": "2021-06-28T09:58:51.167Z"
   },
   {
    "duration": 2250,
    "start_time": "2021-06-28T09:58:51.189Z"
   },
   {
    "duration": 24,
    "start_time": "2021-06-28T09:58:53.442Z"
   },
   {
    "duration": 1172,
    "start_time": "2021-06-28T09:58:53.468Z"
   },
   {
    "duration": 7,
    "start_time": "2021-06-28T09:58:54.643Z"
   },
   {
    "duration": 1106,
    "start_time": "2021-06-28T09:58:54.663Z"
   },
   {
    "duration": 814,
    "start_time": "2021-06-28T09:58:55.771Z"
   },
   {
    "duration": 4396,
    "start_time": "2021-06-28T09:58:56.588Z"
   },
   {
    "duration": 337,
    "start_time": "2021-06-28T09:59:00.986Z"
   },
   {
    "duration": 328,
    "start_time": "2021-06-28T09:59:01.325Z"
   },
   {
    "duration": 10,
    "start_time": "2021-06-28T09:59:01.655Z"
   },
   {
    "duration": 43,
    "start_time": "2021-06-28T09:59:01.667Z"
   },
   {
    "duration": 22,
    "start_time": "2021-06-28T09:59:01.713Z"
   },
   {
    "duration": 35,
    "start_time": "2021-06-28T09:59:01.737Z"
   },
   {
    "duration": 20,
    "start_time": "2021-06-28T09:59:01.774Z"
   },
   {
    "duration": 56,
    "start_time": "2021-06-28T09:59:01.796Z"
   },
   {
    "duration": 32,
    "start_time": "2021-06-28T09:59:01.855Z"
   },
   {
    "duration": 76,
    "start_time": "2021-06-28T09:59:01.890Z"
   },
   {
    "duration": 40,
    "start_time": "2021-06-28T09:59:01.968Z"
   },
   {
    "duration": 62,
    "start_time": "2021-06-28T09:59:02.010Z"
   },
   {
    "duration": 26,
    "start_time": "2021-06-28T09:59:02.075Z"
   },
   {
    "duration": 1231,
    "start_time": "2021-06-28T09:59:02.103Z"
   },
   {
    "duration": 1083,
    "start_time": "2021-06-28T09:59:03.337Z"
   },
   {
    "duration": 1120,
    "start_time": "2021-06-28T09:59:04.422Z"
   },
   {
    "duration": 1105,
    "start_time": "2021-06-28T09:59:05.544Z"
   },
   {
    "duration": 1167,
    "start_time": "2021-06-28T09:59:06.652Z"
   },
   {
    "duration": 1545,
    "start_time": "2021-06-28T09:59:07.822Z"
   },
   {
    "duration": 8,
    "start_time": "2021-06-28T09:59:09.369Z"
   },
   {
    "duration": 13,
    "start_time": "2021-06-28T09:59:09.380Z"
   },
   {
    "duration": 73,
    "start_time": "2021-06-28T09:59:09.395Z"
   },
   {
    "duration": 18,
    "start_time": "2021-06-28T09:59:09.471Z"
   },
   {
    "duration": 36,
    "start_time": "2021-06-28T09:59:09.491Z"
   },
   {
    "duration": 59,
    "start_time": "2021-06-28T09:59:09.530Z"
   },
   {
    "duration": 1174,
    "start_time": "2021-06-28T09:59:09.591Z"
   },
   {
    "duration": 608,
    "start_time": "2021-06-28T09:59:10.768Z"
   },
   {
    "duration": 1560,
    "start_time": "2021-06-28T09:59:11.379Z"
   },
   {
    "duration": 425,
    "start_time": "2021-06-28T22:47:25.295Z"
   },
   {
    "duration": 280,
    "start_time": "2021-06-28T22:47:25.722Z"
   },
   {
    "duration": 3,
    "start_time": "2021-06-28T22:47:26.004Z"
   },
   {
    "duration": 22,
    "start_time": "2021-06-28T22:47:26.009Z"
   },
   {
    "duration": 24,
    "start_time": "2021-06-28T22:47:26.033Z"
   },
   {
    "duration": 54,
    "start_time": "2021-06-28T22:47:26.058Z"
   },
   {
    "duration": 80,
    "start_time": "2021-06-28T22:47:26.114Z"
   },
   {
    "duration": 18,
    "start_time": "2021-06-28T22:47:26.197Z"
   },
   {
    "duration": 42,
    "start_time": "2021-06-28T22:47:26.217Z"
   },
   {
    "duration": 27,
    "start_time": "2021-06-28T22:47:26.261Z"
   },
   {
    "duration": 3,
    "start_time": "2021-06-28T22:47:26.290Z"
   },
   {
    "duration": 2001,
    "start_time": "2021-06-28T22:47:26.294Z"
   },
   {
    "duration": 20,
    "start_time": "2021-06-28T22:47:28.296Z"
   },
   {
    "duration": 16,
    "start_time": "2021-06-28T22:47:28.317Z"
   },
   {
    "duration": 11,
    "start_time": "2021-06-28T22:47:28.335Z"
   },
   {
    "duration": 2509,
    "start_time": "2021-06-28T22:47:28.348Z"
   },
   {
    "duration": 12,
    "start_time": "2021-06-28T22:47:30.858Z"
   },
   {
    "duration": 18,
    "start_time": "2021-06-28T22:47:30.872Z"
   },
   {
    "duration": 3500,
    "start_time": "2021-06-28T22:47:30.891Z"
   },
   {
    "duration": 17,
    "start_time": "2021-06-28T22:47:34.393Z"
   },
   {
    "duration": 5,
    "start_time": "2021-06-28T22:47:34.412Z"
   },
   {
    "duration": 18,
    "start_time": "2021-06-28T22:47:34.418Z"
   },
   {
    "duration": 51,
    "start_time": "2021-06-28T22:47:34.440Z"
   },
   {
    "duration": 25,
    "start_time": "2021-06-28T22:47:34.493Z"
   },
   {
    "duration": 26,
    "start_time": "2021-06-28T22:47:34.519Z"
   },
   {
    "duration": 57,
    "start_time": "2021-06-28T22:47:34.547Z"
   },
   {
    "duration": 4,
    "start_time": "2021-06-28T22:47:34.606Z"
   },
   {
    "duration": 2,
    "start_time": "2021-06-28T22:47:34.612Z"
   },
   {
    "duration": 1230,
    "start_time": "2021-06-28T22:47:34.616Z"
   },
   {
    "duration": 9,
    "start_time": "2021-06-28T22:47:35.848Z"
   },
   {
    "duration": 674,
    "start_time": "2021-06-28T22:47:35.858Z"
   },
   {
    "duration": 6,
    "start_time": "2021-06-28T22:47:36.534Z"
   },
   {
    "duration": 678,
    "start_time": "2021-06-28T22:47:36.541Z"
   },
   {
    "duration": 490,
    "start_time": "2021-06-28T22:47:37.221Z"
   },
   {
    "duration": 2651,
    "start_time": "2021-06-28T22:47:37.712Z"
   },
   {
    "duration": 203,
    "start_time": "2021-06-28T22:47:40.364Z"
   },
   {
    "duration": 204,
    "start_time": "2021-06-28T22:47:40.568Z"
   },
   {
    "duration": 11,
    "start_time": "2021-06-28T22:47:40.774Z"
   },
   {
    "duration": 20,
    "start_time": "2021-06-28T22:47:40.787Z"
   },
   {
    "duration": 13,
    "start_time": "2021-06-28T22:47:40.809Z"
   },
   {
    "duration": 19,
    "start_time": "2021-06-28T22:47:40.824Z"
   },
   {
    "duration": 11,
    "start_time": "2021-06-28T22:47:40.845Z"
   },
   {
    "duration": 42,
    "start_time": "2021-06-28T22:47:40.858Z"
   },
   {
    "duration": 9,
    "start_time": "2021-06-28T22:47:40.902Z"
   },
   {
    "duration": 18,
    "start_time": "2021-06-28T22:47:40.912Z"
   },
   {
    "duration": 10,
    "start_time": "2021-06-28T22:47:40.931Z"
   },
   {
    "duration": 50,
    "start_time": "2021-06-28T22:47:40.943Z"
   },
   {
    "duration": 12,
    "start_time": "2021-06-28T22:47:40.995Z"
   },
   {
    "duration": 794,
    "start_time": "2021-06-28T22:47:41.008Z"
   },
   {
    "duration": 652,
    "start_time": "2021-06-28T22:47:41.804Z"
   },
   {
    "duration": 659,
    "start_time": "2021-06-28T22:47:42.457Z"
   },
   {
    "duration": 628,
    "start_time": "2021-06-28T22:47:43.118Z"
   },
   {
    "duration": 750,
    "start_time": "2021-06-28T22:47:43.747Z"
   },
   {
    "duration": 928,
    "start_time": "2021-06-28T22:47:44.499Z"
   },
   {
    "duration": 8,
    "start_time": "2021-06-28T22:47:45.429Z"
   },
   {
    "duration": 9,
    "start_time": "2021-06-28T22:47:45.439Z"
   },
   {
    "duration": 43,
    "start_time": "2021-06-28T22:47:45.450Z"
   },
   {
    "duration": 12,
    "start_time": "2021-06-28T22:47:45.494Z"
   },
   {
    "duration": 24,
    "start_time": "2021-06-28T22:47:45.508Z"
   },
   {
    "duration": 22,
    "start_time": "2021-06-28T22:47:45.534Z"
   },
   {
    "duration": 873,
    "start_time": "2021-06-28T22:47:45.558Z"
   },
   {
    "duration": 357,
    "start_time": "2021-06-28T22:47:46.433Z"
   },
   {
    "duration": 931,
    "start_time": "2021-06-28T22:47:46.791Z"
   },
   {
    "duration": 9,
    "start_time": "2021-06-28T23:01:43.219Z"
   },
   {
    "duration": 6,
    "start_time": "2021-06-28T23:01:56.649Z"
   },
   {
    "duration": 357,
    "start_time": "2021-06-29T06:03:17.532Z"
   },
   {
    "duration": 604,
    "start_time": "2021-06-29T06:03:25.243Z"
   },
   {
    "duration": 384,
    "start_time": "2021-06-29T06:03:25.850Z"
   },
   {
    "duration": 121,
    "start_time": "2021-06-29T06:05:43.950Z"
   },
   {
    "duration": 4,
    "start_time": "2021-06-29T06:05:47.748Z"
   },
   {
    "duration": 28,
    "start_time": "2021-06-29T06:05:47.948Z"
   },
   {
    "duration": 42,
    "start_time": "2021-06-29T06:05:50.559Z"
   },
   {
    "duration": 65,
    "start_time": "2021-06-29T06:05:50.789Z"
   },
   {
    "duration": 94,
    "start_time": "2021-06-29T06:05:52.105Z"
   },
   {
    "duration": 396,
    "start_time": "2021-06-29T06:06:00.834Z"
   },
   {
    "duration": 45,
    "start_time": "2021-06-29T06:06:11.971Z"
   },
   {
    "duration": 310,
    "start_time": "2021-06-29T06:13:57.153Z"
   },
   {
    "duration": 614,
    "start_time": "2021-06-29T06:14:10.214Z"
   },
   {
    "duration": 409,
    "start_time": "2021-06-29T06:14:10.831Z"
   },
   {
    "duration": 4,
    "start_time": "2021-06-29T06:14:11.243Z"
   },
   {
    "duration": 50,
    "start_time": "2021-06-29T06:14:11.250Z"
   },
   {
    "duration": 39,
    "start_time": "2021-06-29T06:14:11.303Z"
   },
   {
    "duration": 88,
    "start_time": "2021-06-29T06:14:11.344Z"
   },
   {
    "duration": 105,
    "start_time": "2021-06-29T06:14:11.434Z"
   },
   {
    "duration": 62,
    "start_time": "2021-06-29T06:14:11.543Z"
   },
   {
    "duration": 62,
    "start_time": "2021-06-29T06:14:11.609Z"
   },
   {
    "duration": 31,
    "start_time": "2021-06-29T06:14:11.685Z"
   },
   {
    "duration": 4,
    "start_time": "2021-06-29T06:14:11.719Z"
   },
   {
    "duration": 4250,
    "start_time": "2021-06-29T06:14:11.726Z"
   },
   {
    "duration": 46,
    "start_time": "2021-06-29T06:14:15.978Z"
   },
   {
    "duration": 26,
    "start_time": "2021-06-29T06:14:16.027Z"
   },
   {
    "duration": 52,
    "start_time": "2021-06-29T06:14:16.056Z"
   },
   {
    "duration": 5191,
    "start_time": "2021-06-29T06:14:16.111Z"
   },
   {
    "duration": 19,
    "start_time": "2021-06-29T06:14:21.305Z"
   },
   {
    "duration": 16,
    "start_time": "2021-06-29T06:14:21.326Z"
   },
   {
    "duration": 6602,
    "start_time": "2021-06-29T06:14:21.344Z"
   },
   {
    "duration": 36,
    "start_time": "2021-06-29T06:14:27.949Z"
   },
   {
    "duration": 8,
    "start_time": "2021-06-29T06:14:27.988Z"
   },
   {
    "duration": 28,
    "start_time": "2021-06-29T06:14:27.999Z"
   },
   {
    "duration": 97,
    "start_time": "2021-06-29T06:14:28.033Z"
   },
   {
    "duration": 35,
    "start_time": "2021-06-29T06:14:28.133Z"
   },
   {
    "duration": 120,
    "start_time": "2021-06-29T06:14:28.170Z"
   },
   {
    "duration": 58,
    "start_time": "2021-06-29T06:14:28.292Z"
   },
   {
    "duration": 5,
    "start_time": "2021-06-29T06:14:28.352Z"
   },
   {
    "duration": 12,
    "start_time": "2021-06-29T06:14:28.386Z"
   },
   {
    "duration": 2283,
    "start_time": "2021-06-29T06:14:28.402Z"
   },
   {
    "duration": 14,
    "start_time": "2021-06-29T06:14:30.688Z"
   },
   {
    "duration": 1180,
    "start_time": "2021-06-29T06:14:30.704Z"
   },
   {
    "duration": 10,
    "start_time": "2021-06-29T06:14:31.890Z"
   },
   {
    "duration": 1219,
    "start_time": "2021-06-29T06:14:31.903Z"
   },
   {
    "duration": 889,
    "start_time": "2021-06-29T06:14:33.125Z"
   },
   {
    "duration": 4690,
    "start_time": "2021-06-29T06:14:34.016Z"
   },
   {
    "duration": 346,
    "start_time": "2021-06-29T06:14:38.708Z"
   },
   {
    "duration": 323,
    "start_time": "2021-06-29T06:14:39.058Z"
   },
   {
    "duration": 6,
    "start_time": "2021-06-29T06:14:39.388Z"
   },
   {
    "duration": 27,
    "start_time": "2021-06-29T06:14:39.397Z"
   },
   {
    "duration": 20,
    "start_time": "2021-06-29T06:14:39.429Z"
   },
   {
    "duration": 66,
    "start_time": "2021-06-29T06:14:39.452Z"
   },
   {
    "duration": 15,
    "start_time": "2021-06-29T06:14:39.521Z"
   },
   {
    "duration": 53,
    "start_time": "2021-06-29T06:14:39.539Z"
   },
   {
    "duration": 18,
    "start_time": "2021-06-29T06:14:39.595Z"
   },
   {
    "duration": 29,
    "start_time": "2021-06-29T06:14:39.616Z"
   },
   {
    "duration": 59,
    "start_time": "2021-06-29T06:14:39.647Z"
   },
   {
    "duration": 27,
    "start_time": "2021-06-29T06:14:39.708Z"
   },
   {
    "duration": 15,
    "start_time": "2021-06-29T06:14:39.738Z"
   },
   {
    "duration": 1304,
    "start_time": "2021-06-29T06:14:39.756Z"
   },
   {
    "duration": 1153,
    "start_time": "2021-06-29T06:14:41.062Z"
   },
   {
    "duration": 1220,
    "start_time": "2021-06-29T06:14:42.218Z"
   },
   {
    "duration": 1315,
    "start_time": "2021-06-29T06:14:43.440Z"
   },
   {
    "duration": 1215,
    "start_time": "2021-06-29T06:14:44.758Z"
   },
   {
    "duration": 1634,
    "start_time": "2021-06-29T06:14:45.975Z"
   },
   {
    "duration": 8,
    "start_time": "2021-06-29T06:14:47.612Z"
   },
   {
    "duration": 13,
    "start_time": "2021-06-29T06:14:47.622Z"
   },
   {
    "duration": 77,
    "start_time": "2021-06-29T06:14:47.638Z"
   },
   {
    "duration": 19,
    "start_time": "2021-06-29T06:14:47.720Z"
   },
   {
    "duration": 55,
    "start_time": "2021-06-29T06:14:47.742Z"
   },
   {
    "duration": 35,
    "start_time": "2021-06-29T06:14:47.801Z"
   },
   {
    "duration": 1196,
    "start_time": "2021-06-29T06:14:47.838Z"
   },
   {
    "duration": 614,
    "start_time": "2021-06-29T06:14:49.036Z"
   },
   {
    "duration": 1586,
    "start_time": "2021-06-29T06:14:49.653Z"
   },
   {
    "duration": 880,
    "start_time": "2021-06-29T07:02:13.295Z"
   },
   {
    "duration": 5031,
    "start_time": "2021-06-29T07:03:27.639Z"
   },
   {
    "duration": 3345,
    "start_time": "2021-06-29T07:03:52.671Z"
   },
   {
    "duration": 3393,
    "start_time": "2021-06-29T07:04:10.665Z"
   },
   {
    "duration": 1150,
    "start_time": "2021-06-29T07:05:58.788Z"
   },
   {
    "duration": 1403,
    "start_time": "2021-06-29T07:06:46.399Z"
   },
   {
    "duration": 1688,
    "start_time": "2021-06-29T07:08:25.176Z"
   },
   {
    "duration": 1936,
    "start_time": "2021-06-29T07:08:40.849Z"
   },
   {
    "duration": 9,
    "start_time": "2021-06-29T07:09:50.645Z"
   },
   {
    "duration": 9,
    "start_time": "2021-06-29T07:10:03.558Z"
   },
   {
    "duration": 14,
    "start_time": "2021-06-29T07:10:19.687Z"
   },
   {
    "duration": 8,
    "start_time": "2021-06-29T07:10:30.407Z"
   },
   {
    "duration": 14,
    "start_time": "2021-06-29T07:10:35.488Z"
   },
   {
    "duration": 8,
    "start_time": "2021-06-29T07:10:58.667Z"
   },
   {
    "duration": 12,
    "start_time": "2021-06-29T07:12:53.270Z"
   },
   {
    "duration": 19,
    "start_time": "2021-06-29T07:12:57.276Z"
   },
   {
    "duration": 12,
    "start_time": "2021-06-29T07:13:28.458Z"
   },
   {
    "duration": 1210,
    "start_time": "2021-06-29T07:14:11.245Z"
   },
   {
    "duration": 629,
    "start_time": "2021-06-29T07:14:17.125Z"
   },
   {
    "duration": 622,
    "start_time": "2021-06-29T07:15:15.655Z"
   },
   {
    "duration": 411,
    "start_time": "2021-06-29T07:15:16.280Z"
   },
   {
    "duration": 4,
    "start_time": "2021-06-29T07:15:16.694Z"
   },
   {
    "duration": 33,
    "start_time": "2021-06-29T07:15:16.702Z"
   },
   {
    "duration": 60,
    "start_time": "2021-06-29T07:15:16.737Z"
   },
   {
    "duration": 56,
    "start_time": "2021-06-29T07:15:16.801Z"
   },
   {
    "duration": 123,
    "start_time": "2021-06-29T07:15:16.859Z"
   },
   {
    "duration": 47,
    "start_time": "2021-06-29T07:15:16.992Z"
   },
   {
    "duration": 93,
    "start_time": "2021-06-29T07:15:17.042Z"
   },
   {
    "duration": 20,
    "start_time": "2021-06-29T07:15:17.138Z"
   },
   {
    "duration": 30,
    "start_time": "2021-06-29T07:15:17.161Z"
   },
   {
    "duration": 3888,
    "start_time": "2021-06-29T07:15:17.194Z"
   },
   {
    "duration": 42,
    "start_time": "2021-06-29T07:15:21.085Z"
   },
   {
    "duration": 24,
    "start_time": "2021-06-29T07:15:21.130Z"
   },
   {
    "duration": 48,
    "start_time": "2021-06-29T07:15:21.156Z"
   },
   {
    "duration": 4837,
    "start_time": "2021-06-29T07:15:21.206Z"
   },
   {
    "duration": 18,
    "start_time": "2021-06-29T07:15:26.045Z"
   },
   {
    "duration": 33,
    "start_time": "2021-06-29T07:15:26.065Z"
   },
   {
    "duration": 6669,
    "start_time": "2021-06-29T07:15:26.101Z"
   },
   {
    "duration": 37,
    "start_time": "2021-06-29T07:15:32.772Z"
   },
   {
    "duration": 7,
    "start_time": "2021-06-29T07:15:32.812Z"
   },
   {
    "duration": 35,
    "start_time": "2021-06-29T07:15:32.821Z"
   },
   {
    "duration": 70,
    "start_time": "2021-06-29T07:15:32.862Z"
   },
   {
    "duration": 57,
    "start_time": "2021-06-29T07:15:32.936Z"
   },
   {
    "duration": 38,
    "start_time": "2021-06-29T07:15:32.997Z"
   },
   {
    "duration": 77,
    "start_time": "2021-06-29T07:15:33.037Z"
   },
   {
    "duration": 6,
    "start_time": "2021-06-29T07:15:33.117Z"
   },
   {
    "duration": 11,
    "start_time": "2021-06-29T07:15:33.126Z"
   },
   {
    "duration": 2468,
    "start_time": "2021-06-29T07:15:33.139Z"
   },
   {
    "duration": 12,
    "start_time": "2021-06-29T07:15:35.610Z"
   },
   {
    "duration": 1420,
    "start_time": "2021-06-29T07:15:35.624Z"
   },
   {
    "duration": 9,
    "start_time": "2021-06-29T07:15:37.046Z"
   },
   {
    "duration": 1164,
    "start_time": "2021-06-29T07:15:37.058Z"
   },
   {
    "duration": 853,
    "start_time": "2021-06-29T07:15:38.225Z"
   },
   {
    "duration": 3125,
    "start_time": "2021-06-29T07:15:39.081Z"
   },
   {
    "duration": 352,
    "start_time": "2021-06-29T07:15:42.209Z"
   },
   {
    "duration": 344,
    "start_time": "2021-06-29T07:15:42.564Z"
   },
   {
    "duration": 7,
    "start_time": "2021-06-29T07:15:42.911Z"
   },
   {
    "duration": 26,
    "start_time": "2021-06-29T07:15:42.921Z"
   },
   {
    "duration": 53,
    "start_time": "2021-06-29T07:15:42.949Z"
   },
   {
    "duration": 28,
    "start_time": "2021-06-29T07:15:43.004Z"
   },
   {
    "duration": 16,
    "start_time": "2021-06-29T07:15:43.034Z"
   },
   {
    "duration": 54,
    "start_time": "2021-06-29T07:15:43.052Z"
   },
   {
    "duration": 16,
    "start_time": "2021-06-29T07:15:43.108Z"
   },
   {
    "duration": 25,
    "start_time": "2021-06-29T07:15:43.126Z"
   },
   {
    "duration": 18,
    "start_time": "2021-06-29T07:15:43.190Z"
   },
   {
    "duration": 30,
    "start_time": "2021-06-29T07:15:43.211Z"
   },
   {
    "duration": 18,
    "start_time": "2021-06-29T07:15:43.244Z"
   },
   {
    "duration": 1133,
    "start_time": "2021-06-29T07:15:43.285Z"
   },
   {
    "duration": 1157,
    "start_time": "2021-06-29T07:15:44.421Z"
   },
   {
    "duration": 1317,
    "start_time": "2021-06-29T07:15:45.585Z"
   },
   {
    "duration": 1167,
    "start_time": "2021-06-29T07:15:46.906Z"
   },
   {
    "duration": 1152,
    "start_time": "2021-06-29T07:15:48.075Z"
   },
   {
    "duration": 1837,
    "start_time": "2021-06-29T07:15:49.229Z"
   },
   {
    "duration": 19,
    "start_time": "2021-06-29T07:15:51.068Z"
   },
   {
    "duration": 13,
    "start_time": "2021-06-29T07:15:51.090Z"
   },
   {
    "duration": 9,
    "start_time": "2021-06-29T07:15:51.109Z"
   },
   {
    "duration": 14,
    "start_time": "2021-06-29T07:15:51.120Z"
   },
   {
    "duration": 90,
    "start_time": "2021-06-29T07:15:51.137Z"
   },
   {
    "duration": 20,
    "start_time": "2021-06-29T07:15:51.230Z"
   },
   {
    "duration": 65,
    "start_time": "2021-06-29T07:15:51.253Z"
   },
   {
    "duration": 35,
    "start_time": "2021-06-29T07:15:51.321Z"
   },
   {
    "duration": 1200,
    "start_time": "2021-06-29T07:15:51.358Z"
   },
   {
    "duration": 641,
    "start_time": "2021-06-29T07:15:52.560Z"
   },
   {
    "duration": 963,
    "start_time": "2021-06-29T07:15:53.204Z"
   },
   {
    "duration": 1751,
    "start_time": "2021-06-29T07:15:54.169Z"
   },
   {
    "duration": 668,
    "start_time": "2021-06-29T07:16:20.128Z"
   },
   {
    "duration": 1479,
    "start_time": "2021-06-29T07:17:24.655Z"
   },
   {
    "duration": 801,
    "start_time": "2021-06-29T07:21:22.982Z"
   },
   {
    "duration": 780,
    "start_time": "2021-06-29T07:21:43.958Z"
   },
   {
    "duration": 580,
    "start_time": "2021-06-29T07:21:53.208Z"
   },
   {
    "duration": 888,
    "start_time": "2021-06-29T07:22:19.638Z"
   },
   {
    "duration": 1046,
    "start_time": "2021-06-29T07:23:00.522Z"
   },
   {
    "duration": 812,
    "start_time": "2021-06-29T07:23:14.146Z"
   },
   {
    "duration": 769,
    "start_time": "2021-06-29T07:23:23.996Z"
   },
   {
    "duration": 760,
    "start_time": "2021-06-29T07:23:58.003Z"
   },
   {
    "duration": 773,
    "start_time": "2021-06-29T07:24:03.283Z"
   },
   {
    "duration": 706,
    "start_time": "2021-06-29T07:24:07.009Z"
   },
   {
    "duration": 638,
    "start_time": "2021-06-29T10:02:22.482Z"
   },
   {
    "duration": 458,
    "start_time": "2021-06-29T10:02:23.122Z"
   },
   {
    "duration": 4,
    "start_time": "2021-06-29T10:02:23.583Z"
   },
   {
    "duration": 34,
    "start_time": "2021-06-29T10:02:23.591Z"
   },
   {
    "duration": 68,
    "start_time": "2021-06-29T10:02:23.628Z"
   },
   {
    "duration": 58,
    "start_time": "2021-06-29T10:02:23.699Z"
   },
   {
    "duration": 130,
    "start_time": "2021-06-29T10:02:23.760Z"
   },
   {
    "duration": 44,
    "start_time": "2021-06-29T10:02:23.894Z"
   },
   {
    "duration": 97,
    "start_time": "2021-06-29T10:02:23.941Z"
   },
   {
    "duration": 23,
    "start_time": "2021-06-29T10:02:24.041Z"
   },
   {
    "duration": 21,
    "start_time": "2021-06-29T10:02:24.066Z"
   },
   {
    "duration": 4116,
    "start_time": "2021-06-29T10:02:24.090Z"
   },
   {
    "duration": 35,
    "start_time": "2021-06-29T10:02:28.208Z"
   },
   {
    "duration": 48,
    "start_time": "2021-06-29T10:02:28.247Z"
   },
   {
    "duration": 25,
    "start_time": "2021-06-29T10:02:28.298Z"
   },
   {
    "duration": 5219,
    "start_time": "2021-06-29T10:02:28.326Z"
   },
   {
    "duration": 39,
    "start_time": "2021-06-29T10:02:33.548Z"
   },
   {
    "duration": 18,
    "start_time": "2021-06-29T10:02:33.590Z"
   },
   {
    "duration": 10055,
    "start_time": "2021-06-29T10:02:33.611Z"
   },
   {
    "duration": 34,
    "start_time": "2021-06-29T10:02:43.670Z"
   },
   {
    "duration": 10,
    "start_time": "2021-06-29T10:02:43.708Z"
   },
   {
    "duration": 37,
    "start_time": "2021-06-29T10:02:43.722Z"
   },
   {
    "duration": 71,
    "start_time": "2021-06-29T10:02:43.793Z"
   },
   {
    "duration": 66,
    "start_time": "2021-06-29T10:02:43.869Z"
   },
   {
    "duration": 75,
    "start_time": "2021-06-29T10:02:43.938Z"
   },
   {
    "duration": 96,
    "start_time": "2021-06-29T10:02:44.016Z"
   },
   {
    "duration": 8,
    "start_time": "2021-06-29T10:02:44.115Z"
   },
   {
    "duration": 11,
    "start_time": "2021-06-29T10:02:44.126Z"
   },
   {
    "duration": 3947,
    "start_time": "2021-06-29T10:02:44.140Z"
   },
   {
    "duration": 19,
    "start_time": "2021-06-29T10:02:48.090Z"
   },
   {
    "duration": 2132,
    "start_time": "2021-06-29T10:02:48.112Z"
   },
   {
    "duration": 11,
    "start_time": "2021-06-29T10:02:50.247Z"
   },
   {
    "duration": 1505,
    "start_time": "2021-06-29T10:02:50.261Z"
   },
   {
    "duration": 856,
    "start_time": "2021-06-29T10:02:51.769Z"
   },
   {
    "duration": 3552,
    "start_time": "2021-06-29T10:02:52.628Z"
   },
   {
    "duration": 443,
    "start_time": "2021-06-29T10:02:56.186Z"
   },
   {
    "duration": 328,
    "start_time": "2021-06-29T10:02:56.632Z"
   },
   {
    "duration": 6,
    "start_time": "2021-06-29T10:02:56.962Z"
   },
   {
    "duration": 41,
    "start_time": "2021-06-29T10:02:56.970Z"
   },
   {
    "duration": 22,
    "start_time": "2021-06-29T10:02:57.015Z"
   },
   {
    "duration": 67,
    "start_time": "2021-06-29T10:02:57.040Z"
   },
   {
    "duration": 16,
    "start_time": "2021-06-29T10:02:57.110Z"
   },
   {
    "duration": 57,
    "start_time": "2021-06-29T10:02:57.128Z"
   },
   {
    "duration": 18,
    "start_time": "2021-06-29T10:02:57.188Z"
   },
   {
    "duration": 30,
    "start_time": "2021-06-29T10:02:57.209Z"
   },
   {
    "duration": 59,
    "start_time": "2021-06-29T10:02:57.243Z"
   },
   {
    "duration": 30,
    "start_time": "2021-06-29T10:02:57.305Z"
   },
   {
    "duration": 16,
    "start_time": "2021-06-29T10:02:57.338Z"
   },
   {
    "duration": 1552,
    "start_time": "2021-06-29T10:02:57.385Z"
   },
   {
    "duration": 1112,
    "start_time": "2021-06-29T10:02:58.940Z"
   },
   {
    "duration": 1380,
    "start_time": "2021-06-29T10:03:00.055Z"
   },
   {
    "duration": 1220,
    "start_time": "2021-06-29T10:03:01.437Z"
   },
   {
    "duration": 1201,
    "start_time": "2021-06-29T10:03:02.660Z"
   },
   {
    "duration": 1836,
    "start_time": "2021-06-29T10:03:03.863Z"
   },
   {
    "duration": 14,
    "start_time": "2021-06-29T10:03:05.703Z"
   },
   {
    "duration": 14,
    "start_time": "2021-06-29T10:03:05.721Z"
   },
   {
    "duration": 49,
    "start_time": "2021-06-29T10:03:05.739Z"
   },
   {
    "duration": 14,
    "start_time": "2021-06-29T10:03:05.792Z"
   },
   {
    "duration": 77,
    "start_time": "2021-06-29T10:03:05.810Z"
   },
   {
    "duration": 22,
    "start_time": "2021-06-29T10:03:05.890Z"
   },
   {
    "duration": 85,
    "start_time": "2021-06-29T10:03:05.915Z"
   },
   {
    "duration": 55,
    "start_time": "2021-06-29T10:03:06.003Z"
   },
   {
    "duration": 1675,
    "start_time": "2021-06-29T10:03:06.061Z"
   },
   {
    "duration": 1014,
    "start_time": "2021-06-29T10:03:07.740Z"
   },
   {
    "duration": 1139,
    "start_time": "2021-06-29T10:03:08.758Z"
   },
   {
    "duration": 1661,
    "start_time": "2021-06-29T10:03:09.901Z"
   }
  ],
  "kernelspec": {
   "display_name": "Python 3",
   "language": "python",
   "name": "python3"
  },
  "language_info": {
   "codemirror_mode": {
    "name": "ipython",
    "version": 3
   },
   "file_extension": ".py",
   "mimetype": "text/x-python",
   "name": "python",
   "nbconvert_exporter": "python",
   "pygments_lexer": "ipython3",
   "version": "3.8.8"
  },
  "toc": {
   "base_numbering": 1,
   "nav_menu": {},
   "number_sections": true,
   "sideBar": true,
   "skip_h1_title": true,
   "title_cell": "Table of Contents",
   "title_sidebar": "Contents",
   "toc_cell": false,
   "toc_position": {},
   "toc_section_display": true,
   "toc_window_display": false
  }
 },
 "nbformat": 4,
 "nbformat_minor": 2
}
