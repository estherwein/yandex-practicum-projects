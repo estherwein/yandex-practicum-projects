{
 "cells": [
  {
   "cell_type": "markdown",
   "metadata": {},
   "source": [
    "<div style=\"border:solid green 2px; padding: 20px\">\n",
    "<b>Hello, Yoad!</b>\n",
    "\n",
    "My name is Grigoriy Gusarov and I'm going to review your project.\n",
    "\n",
    "My main goal is not to show that any mistakes have been made somewhere, but to share my experience that will help you in your further work. Further in the file you can see my comments, try to take them into account when performing the next tasks. **Please, don't delete them.**\n",
    "\n",
    "\n",
    "You can find my comments in <font color='green'>green</font>, <font color='orange'>yellow</font> or <font color='red'>red</font> boxes like this:\n",
    "\n",
    "<div class=\"alert alert-success\">\n",
    "<b>Reviewer's comment:</b> if everything is done succesfully\n",
    "</div>\n",
    "\n",
    "<div class=\"alert alert-warning\">\n",
    "<b>Reviewer's comment: </b> if I can give some recommendations\n",
    "</div>\n",
    "\n",
    "<div class=\"alert alert-danger\">\n",
    "<b>Reviewer's comment:</b> if the block requires some corrections. Work can't be accepted with the red comments.\n",
    "</div>\n",
    "\n",
    "    \n",
    "Let's work on the project in dialogue: if you change something in the project or respond to my comments, write about it. It will be easier for me to track the changes if you highlight your comments:\n",
    "    \n",
    "<div class=\"alert alert-info\"> <b>Student's comment:</b> For example like this.</div>"
   ]
  },
  {
   "cell_type": "markdown",
   "metadata": {},
   "source": [
    "### <font color='orange'>General feedback</font>\n",
    "Thank you for sending your project! Great job, you've thoroughly analyzed the features of the dataframe, correctly prepared the data, and built competent conclusions and charts. Your statistical tests are correct as well. Congratulations, your project has been accepted!"
   ]
  },
  {
   "cell_type": "markdown",
   "metadata": {},
   "source": [
    "<div class=\"alert alert-warning\">\n",
    "<b>Reviewer's comment: </b> Additional links:\n",
    "    <ul>\n",
    "        <li>Top 50 matplotliob visualizations: <a>https://www.machinelearningplus.com/plots/top-50-matplotlib-visualizations-the-master-plots-python/</a></li>\n",
    "        <li>Style Pandas Dataframe Like a Master: <a>https://towardsdatascience.com/style-pandas-dataframe-like-a-master-6b02bf6468b0</a></li>\n",
    "        <li>T-test guide: <a>https://www.hackdeploy.com/python-t-test-a-friendly-guide/</a></li>\n",
    "    </ul>\n",
    "</div>"
   ]
  },
  {
   "cell_type": "markdown",
   "metadata": {},
   "source": [
    "---"
   ]
  },
  {
   "cell_type": "markdown",
   "metadata": {},
   "source": [
    "## To the reviewer\n",
    "Hi:) My name is Yoad,<br> \n",
    "I would like to thank you for taking the time to go over my project.<br>\n",
    "I hope that you'll find it interesting and clear, and I'm looking forward to read your comments."
   ]
  },
  {
   "cell_type": "markdown",
   "metadata": {},
   "source": [
    "# Research on Telecom User Plans.\n",
    "\n",
    "Megaline serves countless customers every day in the telecom industry.<br>\n",
    "For the marketing team to know which plan to focus its efforts on, we need to analyze customer behavior on each plan, and determine which plan has the most revenue."
   ]
  },
  {
   "cell_type": "markdown",
   "metadata": {},
   "source": [
    "## Decription of the data\n",
    "##### The `users` table (data on users):\n",
    " * `user_id` — unique user identifier\n",
    " * `first_name` — user's name\n",
    " * `last_name` — user's last name\n",
    " * `3age` — user's age (years)\n",
    " * `reg_date` — subscription date (dd, mm, yy)\n",
    " * `churn_date` — the date the user stopped using the service (if the value is missing, the calling plan was being used when this data was generated)\n",
    " * `city` — user's city of residence\n",
    " * `plan` — calling plan name\n",
    "   \n",
    "##### The `calls` table (data on calls):\n",
    " * `id` — unique call identifier\n",
    " * `call_date` — call date\n",
    " * `duration` — call duration (in minutes)\n",
    " * `user_id` — the identifier of the user making the call\n",
    " \n",
    "##### The `messages` table (data on texts):\n",
    " * `id` — unique text message identifier\n",
    " * `message_date` — text message date\n",
    " * `user_id` — the identifier of the user sending the text\n",
    " \n",
    "##### The `internet` table (data on web sessions):\n",
    " * `id` — unique session identifier\n",
    " * `mb_used` — the volume of data spent during the session (in mb)\n",
    " * `session_date` — web session date\n",
    " * `user_id` — user identifier\n",
    " \n",
    "##### The `plans` table (data on the plans):\n",
    " * `plan_name` — calling plan name\n",
    " * `usd_monthly_fee` — monthly charge in US dollars\n",
    " * `minutes_included` — monthly minute allowance\n",
    " * `messages_included` — monthly text allowance\n",
    " * `mb_per_month_included` — data volume allowance (in megabytes)\n",
    " * `usd_per_minute` — price per minute after exceeding the package limits (calls are rounded up individually, 1 sec call is 1 min call)\n",
    " * `usd_per_message` — price per text after exceeding the package limits\n",
    " * `usd_per_gb` — price per extra gigabyte of data after exceeding the package limits (rounded up monthly, 1GB = 1,024mb, if a user used 1,025mb a month then he will be charged for 2GB according to the plan guidelines.)\n",
    " \n",
    "### Plans description\n",
    "#### The `Surf` plan (in USD):\n",
    " * `Monthly charge` — 20\n",
    " * `Minutes allowed per month` — 500\n",
    " * `texts allowed per month` — 50\n",
    " * `Internet Data allowed per month` — 15GB (15,360mb) \n",
    "##### After exceeding the package limits\n",
    "   * `1 minute call` — 0.03\n",
    "   * `1 text` — 0.03\n",
    "   * `1 GB` — 10\n",
    "\n",
    "#### The `Ultimate` plan (in USD):\n",
    " * `Monthly charge` — 70\n",
    " * `Minutes allowed per month` — 3000\n",
    " * `texts allowed per month` — 1000\n",
    " * `Internet Data allowed per month` — 30GB (30,720mb) \n",
    "##### After exceeding the package limits\n",
    "   * `1 minute call` — 0.01\n",
    "   * `1 text` — 0.01\n",
    "   * `1 GB` — 7"
   ]
  },
  {
   "cell_type": "markdown",
   "metadata": {},
   "source": [
    "----"
   ]
  },
  {
   "cell_type": "markdown",
   "metadata": {},
   "source": [
    "## Tables Of Contents \n",
    "<a class=\"anchor\" id=\"table_of_contents\"></a><br>\n",
    "- [**1. First look at the data**](#chapter1)<br>\n",
    " - [calls_data](#chapter2)<br>\n",
    " - [internet_data](#chapter3)<br>\n",
    " - [messages_data](#chapter4)<br>\n",
    " - [plans_data](#chapter5)<br>\n",
    " - [users_data](#chapter6)<br>\n",
    " - [Conclusion](#chapter7)<br>\n",
    "- [**2. Data preprocessing**](#chapter8)<br>\n",
    " - [- Missing Values](#chapter9)<br>\n",
    "   - [calls_data](#chapter10)<br>\n",
    "   - [internet_data](#chapter11)<br>\n",
    "   - [users_data](#chapter12)<br>\n",
    " - [- Duplicated Values](#chapter13)<br>\n",
    " - [- Changing Data Types](#chapter14)<br>\n",
    " - [- Usage calculations per user:](#chapter15)<br>\n",
    "   - [The number of calls made and minutes used per month](#chapter16)<br>\n",
    "   - [The number of text messages sent per month](#chapter17)<br>\n",
    "   - [The volume of data per month](#chapter18)<br>\n",
    "   - [The monthly revenue from each user](#chapter19)<br>\n",
    "- [**3. Analyzing the data**](#chapter20)<br>\n",
    "   - [Users per plan](#chapter21)<br>\n",
    "   - [Calls data](#chapter22)<br>\n",
    "   - [Messages and interent data](#chapter23)<br>\n",
    "   - [Revenue](#chapter24)<br>\n",
    "   - [Conclusion](#chapter25)<br>\n",
    "- [**4. Testing the hypotheses**](#chapter26)<br>\n",
    "   - [Statistical difference in average revenue](#chapter27)<br>\n",
    "     - [Conclusion](#chapter28)<br>\n",
    "   - [Statistical difference in average revenue for NY-NJ area](#chapter29)<br>\n",
    "     - [Conclusion](#chapter30)<br>\n",
    "- [**5. Overall conclusion**](#chapter31)<br>\n",
    "- [**Project completion checklist**](#chapter25)<br>\n",
    "\n"
   ]
  },
  {
   "cell_type": "markdown",
   "metadata": {},
   "source": [
    "<div class=\"alert alert-success\">\n",
    "<b>Reviewer's comment:</b> Nice introduction 👍\n",
    "</div>"
   ]
  },
  {
   "cell_type": "markdown",
   "metadata": {},
   "source": [
    "----"
   ]
  },
  {
   "cell_type": "markdown",
   "metadata": {},
   "source": [
    "## 1. First look at the data \n",
    "<a class=\"anchor\" id=\"chapter1\"></a>\n",
    "[Go back to the Table of Contents](#table_of_contents)"
   ]
  },
  {
   "cell_type": "markdown",
   "metadata": {},
   "source": [
    "### Please Note: \n",
    "**There are some libraries that are not updated on the platform, particularly Matplotlib and Seaborn.       \n",
    "In order for the code to run properly, remove the # sign in the following commands and execute them, then restart the kernel.\n",
    "Thank you.**"
   ]
  },
  {
   "cell_type": "code",
   "execution_count": 105,
   "metadata": {},
   "outputs": [],
   "source": [
    "#!pip install numpy --upgrade --no-warn-script-location"
   ]
  },
  {
   "cell_type": "code",
   "execution_count": 106,
   "metadata": {},
   "outputs": [],
   "source": [
    "#!pip install pandas --upgrade"
   ]
  },
  {
   "cell_type": "code",
   "execution_count": 107,
   "metadata": {},
   "outputs": [],
   "source": [
    "!pip install matplotlib --upgrade -q\n",
    "! pip install seaborn --upgrade -q"
   ]
  },
  {
   "cell_type": "code",
   "execution_count": 108,
   "metadata": {},
   "outputs": [],
   "source": [
    "# Importing pandas libarary.\n",
    "import pandas as pd\n",
    "\n",
    "# Importing NumPy library.\n",
    "import numpy as np\n",
    "\n",
    "# Importing matplotlib libarary.\n",
    "import matplotlib.pyplot as plt\n",
    "\n",
    "# Importing seaborn library.\n",
    "import seaborn as sns\n",
    "\n",
    "# Importing reduce function.\n",
    "from functools import reduce\n",
    "\n",
    "# Importaing satistics library.\n",
    "from scipy import stats as st"
   ]
  },
  {
   "cell_type": "code",
   "execution_count": 109,
   "metadata": {},
   "outputs": [],
   "source": [
    "# By using try-except method, the data can load on the platform,\n",
    "# as well as my local computer.\n",
    "\n",
    "try:\n",
    "    # Loading the data in the .csv files into variables (locally)\n",
    "    calls_data = pd.read_csv('megaline_calls.csv')\n",
    "    internet_data = pd.read_csv('megaline_internet.csv')\n",
    "    messages_data = pd.read_csv('megaline_messages.csv')\n",
    "    plans_data = pd.read_csv('megaline_plans.csv')\n",
    "    users_data = pd.read_csv('megaline_users.csv')\n",
    "    \n",
    "except:   \n",
    "    # Loading the data in the .csv files into variables (platform)\n",
    "    calls_data = pd.read_csv('/datasets/megaline_calls.csv')\n",
    "    internet_data = pd.read_csv('/datasets/megaline_internet.csv')\n",
    "    messages_data = pd.read_csv('/datasets/megaline_messages.csv')\n",
    "    plans_data = pd.read_csv('/datasets/megaline_plans.csv')\n",
    "    users_data = pd.read_csv('/datasets/megaline_users.csv')"
   ]
  },
  {
   "cell_type": "markdown",
   "metadata": {},
   "source": [
    "### calls_data\n",
    "<a class=\"anchor\" id=\"chapter2\"></a>\n",
    "[Go back to the Table of Contents](#table_of_contents)"
   ]
  },
  {
   "cell_type": "markdown",
   "metadata": {},
   "source": [
    "The first thing we need to do is look at the entire data set and see if there are any missing values, as well as the types of data."
   ]
  },
  {
   "cell_type": "code",
   "execution_count": 110,
   "metadata": {},
   "outputs": [
    {
     "name": "stdout",
     "output_type": "stream",
     "text": [
      "<class 'pandas.core.frame.DataFrame'>\n",
      "RangeIndex: 137735 entries, 0 to 137734\n",
      "Data columns (total 4 columns):\n",
      "id           137735 non-null object\n",
      "user_id      137735 non-null int64\n",
      "call_date    137735 non-null object\n",
      "duration     137735 non-null float64\n",
      "dtypes: float64(1), int64(1), object(2)\n",
      "memory usage: 4.2+ MB\n"
     ]
    }
   ],
   "source": [
    "calls_data.info()"
   ]
  },
  {
   "cell_type": "markdown",
   "metadata": {},
   "source": [
    "Printing 10 rows randomly from the dataset to examine the data."
   ]
  },
  {
   "cell_type": "code",
   "execution_count": 111,
   "metadata": {},
   "outputs": [
    {
     "data": {
      "text/html": [
       "<div>\n",
       "<style scoped>\n",
       "    .dataframe tbody tr th:only-of-type {\n",
       "        vertical-align: middle;\n",
       "    }\n",
       "\n",
       "    .dataframe tbody tr th {\n",
       "        vertical-align: top;\n",
       "    }\n",
       "\n",
       "    .dataframe thead th {\n",
       "        text-align: right;\n",
       "    }\n",
       "</style>\n",
       "<table border=\"1\" class=\"dataframe\">\n",
       "  <thead>\n",
       "    <tr style=\"text-align: right;\">\n",
       "      <th></th>\n",
       "      <th>id</th>\n",
       "      <th>user_id</th>\n",
       "      <th>call_date</th>\n",
       "      <th>duration</th>\n",
       "    </tr>\n",
       "  </thead>\n",
       "  <tbody>\n",
       "    <tr>\n",
       "      <td>22414</td>\n",
       "      <td>1082_428</td>\n",
       "      <td>1082</td>\n",
       "      <td>2018-11-03</td>\n",
       "      <td>22.29</td>\n",
       "    </tr>\n",
       "    <tr>\n",
       "      <td>94254</td>\n",
       "      <td>1336_96</td>\n",
       "      <td>1336</td>\n",
       "      <td>2018-04-12</td>\n",
       "      <td>6.59</td>\n",
       "    </tr>\n",
       "    <tr>\n",
       "      <td>1445</td>\n",
       "      <td>1008_86</td>\n",
       "      <td>1008</td>\n",
       "      <td>2018-11-22</td>\n",
       "      <td>0.19</td>\n",
       "    </tr>\n",
       "    <tr>\n",
       "      <td>124529</td>\n",
       "      <td>1440_45</td>\n",
       "      <td>1440</td>\n",
       "      <td>2018-12-19</td>\n",
       "      <td>4.46</td>\n",
       "    </tr>\n",
       "    <tr>\n",
       "      <td>13195</td>\n",
       "      <td>1057_74</td>\n",
       "      <td>1057</td>\n",
       "      <td>2018-12-11</td>\n",
       "      <td>5.60</td>\n",
       "    </tr>\n",
       "    <tr>\n",
       "      <td>121887</td>\n",
       "      <td>1429_260</td>\n",
       "      <td>1429</td>\n",
       "      <td>2018-12-23</td>\n",
       "      <td>0.00</td>\n",
       "    </tr>\n",
       "    <tr>\n",
       "      <td>69096</td>\n",
       "      <td>1248_3</td>\n",
       "      <td>1248</td>\n",
       "      <td>2018-12-22</td>\n",
       "      <td>0.00</td>\n",
       "    </tr>\n",
       "    <tr>\n",
       "      <td>26210</td>\n",
       "      <td>1099_536</td>\n",
       "      <td>1099</td>\n",
       "      <td>2018-05-10</td>\n",
       "      <td>7.72</td>\n",
       "    </tr>\n",
       "    <tr>\n",
       "      <td>65850</td>\n",
       "      <td>1238_61</td>\n",
       "      <td>1238</td>\n",
       "      <td>2018-12-31</td>\n",
       "      <td>21.53</td>\n",
       "    </tr>\n",
       "    <tr>\n",
       "      <td>135298</td>\n",
       "      <td>1491_117</td>\n",
       "      <td>1491</td>\n",
       "      <td>2018-12-05</td>\n",
       "      <td>1.26</td>\n",
       "    </tr>\n",
       "  </tbody>\n",
       "</table>\n",
       "</div>"
      ],
      "text/plain": [
       "              id  user_id   call_date  duration\n",
       "22414   1082_428     1082  2018-11-03     22.29\n",
       "94254    1336_96     1336  2018-04-12      6.59\n",
       "1445     1008_86     1008  2018-11-22      0.19\n",
       "124529   1440_45     1440  2018-12-19      4.46\n",
       "13195    1057_74     1057  2018-12-11      5.60\n",
       "121887  1429_260     1429  2018-12-23      0.00\n",
       "69096     1248_3     1248  2018-12-22      0.00\n",
       "26210   1099_536     1099  2018-05-10      7.72\n",
       "65850    1238_61     1238  2018-12-31     21.53\n",
       "135298  1491_117     1491  2018-12-05      1.26"
      ]
     },
     "execution_count": 111,
     "metadata": {},
     "output_type": "execute_result"
    }
   ],
   "source": [
    "calls_data.sample(10)"
   ]
  },
  {
   "cell_type": "markdown",
   "metadata": {},
   "source": [
    "Using describe() we can now get even more detailed information about our data.\n"
   ]
  },
  {
   "cell_type": "code",
   "execution_count": 112,
   "metadata": {},
   "outputs": [
    {
     "data": {
      "text/html": [
       "<div>\n",
       "<style scoped>\n",
       "    .dataframe tbody tr th:only-of-type {\n",
       "        vertical-align: middle;\n",
       "    }\n",
       "\n",
       "    .dataframe tbody tr th {\n",
       "        vertical-align: top;\n",
       "    }\n",
       "\n",
       "    .dataframe thead th {\n",
       "        text-align: right;\n",
       "    }\n",
       "</style>\n",
       "<table border=\"1\" class=\"dataframe\">\n",
       "  <thead>\n",
       "    <tr style=\"text-align: right;\">\n",
       "      <th></th>\n",
       "      <th>count</th>\n",
       "      <th>mean</th>\n",
       "      <th>std</th>\n",
       "      <th>min</th>\n",
       "      <th>25%</th>\n",
       "      <th>50%</th>\n",
       "      <th>75%</th>\n",
       "      <th>max</th>\n",
       "    </tr>\n",
       "  </thead>\n",
       "  <tbody>\n",
       "    <tr>\n",
       "      <td>user_id</td>\n",
       "      <td>137735.0</td>\n",
       "      <td>1247.658046</td>\n",
       "      <td>139.416268</td>\n",
       "      <td>1000.0</td>\n",
       "      <td>1128.00</td>\n",
       "      <td>1247.00</td>\n",
       "      <td>1365.00</td>\n",
       "      <td>1499.0</td>\n",
       "    </tr>\n",
       "    <tr>\n",
       "      <td>duration</td>\n",
       "      <td>137735.0</td>\n",
       "      <td>6.745927</td>\n",
       "      <td>5.839241</td>\n",
       "      <td>0.0</td>\n",
       "      <td>1.29</td>\n",
       "      <td>5.98</td>\n",
       "      <td>10.69</td>\n",
       "      <td>37.6</td>\n",
       "    </tr>\n",
       "  </tbody>\n",
       "</table>\n",
       "</div>"
      ],
      "text/plain": [
       "             count         mean         std     min      25%      50%  \\\n",
       "user_id   137735.0  1247.658046  139.416268  1000.0  1128.00  1247.00   \n",
       "duration  137735.0     6.745927    5.839241     0.0     1.29     5.98   \n",
       "\n",
       "              75%     max  \n",
       "user_id   1365.00  1499.0  \n",
       "duration    10.69    37.6  "
      ]
     },
     "execution_count": 112,
     "metadata": {},
     "output_type": "execute_result"
    }
   ],
   "source": [
    "calls_data.describe().T"
   ]
  },
  {
   "cell_type": "markdown",
   "metadata": {},
   "source": [
    "##### Conclusion\n",
    "- We will need to change the type of the 'call_date' column from object to date time, so we can use it later for calculations.<br>\n",
    "- We also see values of 0 in duration, which may indicate missed calls. We will investigate this later.<br>\n",
    "- We can also see that the mean duration of call is a bit bigger than the median, which means that the distribution is skewed and we might have outliers, however, the longest calls was 37.6 which is pretty reasonable, so I incline to focus only on those 0 for now.\n",
    "- Additionally, we see that some calls are in x.xx which means they are not in minutes, we were told in the description that calls are rounded up **individually**.<br>Either the rounding up at the company's end didn't work and is also the reason for the 0 values in 'duration', or 0 are genuine missed calls, and the other calls are not rounded. In any case will need to round them up."
   ]
  },
  {
   "cell_type": "markdown",
   "metadata": {},
   "source": [
    "### internet_data\n",
    "<a class=\"anchor\" id=\"chapter3\"></a>\n",
    "[Go back to the Table of Contents](#table_of_contents)"
   ]
  },
  {
   "cell_type": "markdown",
   "metadata": {},
   "source": [
    "The first thing we need to do is look at the entire data set and see if there are any missing values, as well as the types of data."
   ]
  },
  {
   "cell_type": "code",
   "execution_count": 113,
   "metadata": {},
   "outputs": [
    {
     "name": "stdout",
     "output_type": "stream",
     "text": [
      "<class 'pandas.core.frame.DataFrame'>\n",
      "RangeIndex: 104825 entries, 0 to 104824\n",
      "Data columns (total 4 columns):\n",
      "id              104825 non-null object\n",
      "user_id         104825 non-null int64\n",
      "session_date    104825 non-null object\n",
      "mb_used         104825 non-null float64\n",
      "dtypes: float64(1), int64(1), object(2)\n",
      "memory usage: 3.2+ MB\n"
     ]
    }
   ],
   "source": [
    "internet_data.info()"
   ]
  },
  {
   "cell_type": "markdown",
   "metadata": {},
   "source": [
    "Printing 10 rows randomly from the dataset to examine the data."
   ]
  },
  {
   "cell_type": "code",
   "execution_count": 114,
   "metadata": {},
   "outputs": [
    {
     "data": {
      "text/html": [
       "<div>\n",
       "<style scoped>\n",
       "    .dataframe tbody tr th:only-of-type {\n",
       "        vertical-align: middle;\n",
       "    }\n",
       "\n",
       "    .dataframe tbody tr th {\n",
       "        vertical-align: top;\n",
       "    }\n",
       "\n",
       "    .dataframe thead th {\n",
       "        text-align: right;\n",
       "    }\n",
       "</style>\n",
       "<table border=\"1\" class=\"dataframe\">\n",
       "  <thead>\n",
       "    <tr style=\"text-align: right;\">\n",
       "      <th></th>\n",
       "      <th>id</th>\n",
       "      <th>user_id</th>\n",
       "      <th>session_date</th>\n",
       "      <th>mb_used</th>\n",
       "    </tr>\n",
       "  </thead>\n",
       "  <tbody>\n",
       "    <tr>\n",
       "      <td>4783</td>\n",
       "      <td>1028_345</td>\n",
       "      <td>1028</td>\n",
       "      <td>2018-04-10</td>\n",
       "      <td>494.27</td>\n",
       "    </tr>\n",
       "    <tr>\n",
       "      <td>27199</td>\n",
       "      <td>1126_274</td>\n",
       "      <td>1126</td>\n",
       "      <td>2018-09-08</td>\n",
       "      <td>1055.53</td>\n",
       "    </tr>\n",
       "    <tr>\n",
       "      <td>92410</td>\n",
       "      <td>1431_97</td>\n",
       "      <td>1431</td>\n",
       "      <td>2018-12-25</td>\n",
       "      <td>546.83</td>\n",
       "    </tr>\n",
       "    <tr>\n",
       "      <td>58217</td>\n",
       "      <td>1263_21</td>\n",
       "      <td>1263</td>\n",
       "      <td>2018-11-13</td>\n",
       "      <td>631.01</td>\n",
       "    </tr>\n",
       "    <tr>\n",
       "      <td>45472</td>\n",
       "      <td>1201_336</td>\n",
       "      <td>1201</td>\n",
       "      <td>2018-06-11</td>\n",
       "      <td>436.05</td>\n",
       "    </tr>\n",
       "    <tr>\n",
       "      <td>27651</td>\n",
       "      <td>1127_409</td>\n",
       "      <td>1127</td>\n",
       "      <td>2018-07-16</td>\n",
       "      <td>337.15</td>\n",
       "    </tr>\n",
       "    <tr>\n",
       "      <td>76908</td>\n",
       "      <td>1359_601</td>\n",
       "      <td>1359</td>\n",
       "      <td>2018-06-05</td>\n",
       "      <td>804.90</td>\n",
       "    </tr>\n",
       "    <tr>\n",
       "      <td>82439</td>\n",
       "      <td>1385_190</td>\n",
       "      <td>1385</td>\n",
       "      <td>2018-08-02</td>\n",
       "      <td>780.71</td>\n",
       "    </tr>\n",
       "    <tr>\n",
       "      <td>59671</td>\n",
       "      <td>1268_340</td>\n",
       "      <td>1268</td>\n",
       "      <td>2018-03-19</td>\n",
       "      <td>421.00</td>\n",
       "    </tr>\n",
       "    <tr>\n",
       "      <td>23603</td>\n",
       "      <td>1109_181</td>\n",
       "      <td>1109</td>\n",
       "      <td>2018-12-08</td>\n",
       "      <td>283.91</td>\n",
       "    </tr>\n",
       "  </tbody>\n",
       "</table>\n",
       "</div>"
      ],
      "text/plain": [
       "             id  user_id session_date  mb_used\n",
       "4783   1028_345     1028   2018-04-10   494.27\n",
       "27199  1126_274     1126   2018-09-08  1055.53\n",
       "92410   1431_97     1431   2018-12-25   546.83\n",
       "58217   1263_21     1263   2018-11-13   631.01\n",
       "45472  1201_336     1201   2018-06-11   436.05\n",
       "27651  1127_409     1127   2018-07-16   337.15\n",
       "76908  1359_601     1359   2018-06-05   804.90\n",
       "82439  1385_190     1385   2018-08-02   780.71\n",
       "59671  1268_340     1268   2018-03-19   421.00\n",
       "23603  1109_181     1109   2018-12-08   283.91"
      ]
     },
     "execution_count": 114,
     "metadata": {},
     "output_type": "execute_result"
    }
   ],
   "source": [
    "internet_data.sample(10)"
   ]
  },
  {
   "cell_type": "markdown",
   "metadata": {},
   "source": [
    "Using describe() we can now get even more detailed information about our data.\n"
   ]
  },
  {
   "cell_type": "code",
   "execution_count": 115,
   "metadata": {},
   "outputs": [
    {
     "data": {
      "text/html": [
       "<div>\n",
       "<style scoped>\n",
       "    .dataframe tbody tr th:only-of-type {\n",
       "        vertical-align: middle;\n",
       "    }\n",
       "\n",
       "    .dataframe tbody tr th {\n",
       "        vertical-align: top;\n",
       "    }\n",
       "\n",
       "    .dataframe thead th {\n",
       "        text-align: right;\n",
       "    }\n",
       "</style>\n",
       "<table border=\"1\" class=\"dataframe\">\n",
       "  <thead>\n",
       "    <tr style=\"text-align: right;\">\n",
       "      <th></th>\n",
       "      <th>count</th>\n",
       "      <th>mean</th>\n",
       "      <th>std</th>\n",
       "      <th>min</th>\n",
       "      <th>25%</th>\n",
       "      <th>50%</th>\n",
       "      <th>75%</th>\n",
       "      <th>max</th>\n",
       "    </tr>\n",
       "  </thead>\n",
       "  <tbody>\n",
       "    <tr>\n",
       "      <td>user_id</td>\n",
       "      <td>104825.0</td>\n",
       "      <td>1242.496361</td>\n",
       "      <td>142.053913</td>\n",
       "      <td>1000.0</td>\n",
       "      <td>1122.00</td>\n",
       "      <td>1236.00</td>\n",
       "      <td>1367.00</td>\n",
       "      <td>1499.00</td>\n",
       "    </tr>\n",
       "    <tr>\n",
       "      <td>mb_used</td>\n",
       "      <td>104825.0</td>\n",
       "      <td>366.713701</td>\n",
       "      <td>277.170542</td>\n",
       "      <td>0.0</td>\n",
       "      <td>136.08</td>\n",
       "      <td>343.98</td>\n",
       "      <td>554.61</td>\n",
       "      <td>1693.47</td>\n",
       "    </tr>\n",
       "  </tbody>\n",
       "</table>\n",
       "</div>"
      ],
      "text/plain": [
       "            count         mean         std     min      25%      50%      75%  \\\n",
       "user_id  104825.0  1242.496361  142.053913  1000.0  1122.00  1236.00  1367.00   \n",
       "mb_used  104825.0   366.713701  277.170542     0.0   136.08   343.98   554.61   \n",
       "\n",
       "             max  \n",
       "user_id  1499.00  \n",
       "mb_used  1693.47  "
      ]
     },
     "execution_count": 115,
     "metadata": {},
     "output_type": "execute_result"
    }
   ],
   "source": [
    "internet_data.describe().T"
   ]
  },
  {
   "cell_type": "markdown",
   "metadata": {},
   "source": [
    "##### Conclusion\n",
    "- Here, too, we'll need to change the date from object to date time.\n",
    "- we see some rows with 0 megabytes used that we should investigate later.\n",
    "- Additionally, we can see that the mean of mb_used is higher than the median, which indicates that the data is skewed and we may have outliers. If the data is for both plans, then the Ultimate plan could explain why the means are higher.\n"
   ]
  },
  {
   "cell_type": "markdown",
   "metadata": {},
   "source": [
    "### messages_data\n",
    "<a class=\"anchor\" id=\"chapter4\"></a>\n",
    "[Go back to the Table of Contents](#table_of_contents)"
   ]
  },
  {
   "cell_type": "code",
   "execution_count": 116,
   "metadata": {},
   "outputs": [
    {
     "name": "stdout",
     "output_type": "stream",
     "text": [
      "<class 'pandas.core.frame.DataFrame'>\n",
      "RangeIndex: 76051 entries, 0 to 76050\n",
      "Data columns (total 3 columns):\n",
      "id              76051 non-null object\n",
      "user_id         76051 non-null int64\n",
      "message_date    76051 non-null object\n",
      "dtypes: int64(1), object(2)\n",
      "memory usage: 1.7+ MB\n"
     ]
    }
   ],
   "source": [
    "messages_data.info()"
   ]
  },
  {
   "cell_type": "markdown",
   "metadata": {},
   "source": [
    "Printing 10 rows randomly from the dataset to examine the data."
   ]
  },
  {
   "cell_type": "code",
   "execution_count": 117,
   "metadata": {},
   "outputs": [
    {
     "data": {
      "text/html": [
       "<div>\n",
       "<style scoped>\n",
       "    .dataframe tbody tr th:only-of-type {\n",
       "        vertical-align: middle;\n",
       "    }\n",
       "\n",
       "    .dataframe tbody tr th {\n",
       "        vertical-align: top;\n",
       "    }\n",
       "\n",
       "    .dataframe thead th {\n",
       "        text-align: right;\n",
       "    }\n",
       "</style>\n",
       "<table border=\"1\" class=\"dataframe\">\n",
       "  <thead>\n",
       "    <tr style=\"text-align: right;\">\n",
       "      <th></th>\n",
       "      <th>id</th>\n",
       "      <th>user_id</th>\n",
       "      <th>message_date</th>\n",
       "    </tr>\n",
       "  </thead>\n",
       "  <tbody>\n",
       "    <tr>\n",
       "      <td>30840</td>\n",
       "      <td>1193_657</td>\n",
       "      <td>1193</td>\n",
       "      <td>2018-10-25</td>\n",
       "    </tr>\n",
       "    <tr>\n",
       "      <td>7222</td>\n",
       "      <td>1059_93</td>\n",
       "      <td>1059</td>\n",
       "      <td>2018-04-29</td>\n",
       "    </tr>\n",
       "    <tr>\n",
       "      <td>35860</td>\n",
       "      <td>1236_134</td>\n",
       "      <td>1236</td>\n",
       "      <td>2018-11-20</td>\n",
       "    </tr>\n",
       "    <tr>\n",
       "      <td>52033</td>\n",
       "      <td>1335_625</td>\n",
       "      <td>1335</td>\n",
       "      <td>2018-10-21</td>\n",
       "    </tr>\n",
       "    <tr>\n",
       "      <td>69124</td>\n",
       "      <td>1448_177</td>\n",
       "      <td>1448</td>\n",
       "      <td>2018-12-14</td>\n",
       "    </tr>\n",
       "    <tr>\n",
       "      <td>66895</td>\n",
       "      <td>1434_455</td>\n",
       "      <td>1434</td>\n",
       "      <td>2018-04-06</td>\n",
       "    </tr>\n",
       "    <tr>\n",
       "      <td>69658</td>\n",
       "      <td>1454_20</td>\n",
       "      <td>1454</td>\n",
       "      <td>2018-09-27</td>\n",
       "    </tr>\n",
       "    <tr>\n",
       "      <td>69747</td>\n",
       "      <td>1454_109</td>\n",
       "      <td>1454</td>\n",
       "      <td>2018-11-27</td>\n",
       "    </tr>\n",
       "    <tr>\n",
       "      <td>75503</td>\n",
       "      <td>1491_364</td>\n",
       "      <td>1491</td>\n",
       "      <td>2018-07-21</td>\n",
       "    </tr>\n",
       "    <tr>\n",
       "      <td>66591</td>\n",
       "      <td>1434_117</td>\n",
       "      <td>1434</td>\n",
       "      <td>2018-12-20</td>\n",
       "    </tr>\n",
       "  </tbody>\n",
       "</table>\n",
       "</div>"
      ],
      "text/plain": [
       "             id  user_id message_date\n",
       "30840  1193_657     1193   2018-10-25\n",
       "7222    1059_93     1059   2018-04-29\n",
       "35860  1236_134     1236   2018-11-20\n",
       "52033  1335_625     1335   2018-10-21\n",
       "69124  1448_177     1448   2018-12-14\n",
       "66895  1434_455     1434   2018-04-06\n",
       "69658   1454_20     1454   2018-09-27\n",
       "69747  1454_109     1454   2018-11-27\n",
       "75503  1491_364     1491   2018-07-21\n",
       "66591  1434_117     1434   2018-12-20"
      ]
     },
     "execution_count": 117,
     "metadata": {},
     "output_type": "execute_result"
    }
   ],
   "source": [
    "messages_data.sample(10)"
   ]
  },
  {
   "cell_type": "markdown",
   "metadata": {},
   "source": [
    "Using describe() we can now get even more detailed information about our data.\n"
   ]
  },
  {
   "cell_type": "code",
   "execution_count": 118,
   "metadata": {},
   "outputs": [
    {
     "data": {
      "text/html": [
       "<div>\n",
       "<style scoped>\n",
       "    .dataframe tbody tr th:only-of-type {\n",
       "        vertical-align: middle;\n",
       "    }\n",
       "\n",
       "    .dataframe tbody tr th {\n",
       "        vertical-align: top;\n",
       "    }\n",
       "\n",
       "    .dataframe thead th {\n",
       "        text-align: right;\n",
       "    }\n",
       "</style>\n",
       "<table border=\"1\" class=\"dataframe\">\n",
       "  <thead>\n",
       "    <tr style=\"text-align: right;\">\n",
       "      <th></th>\n",
       "      <th>count</th>\n",
       "      <th>unique</th>\n",
       "      <th>top</th>\n",
       "      <th>freq</th>\n",
       "    </tr>\n",
       "  </thead>\n",
       "  <tbody>\n",
       "    <tr>\n",
       "      <td>id</td>\n",
       "      <td>76051</td>\n",
       "      <td>76051</td>\n",
       "      <td>1079_222</td>\n",
       "      <td>1</td>\n",
       "    </tr>\n",
       "    <tr>\n",
       "      <td>message_date</td>\n",
       "      <td>76051</td>\n",
       "      <td>351</td>\n",
       "      <td>2018-12-28</td>\n",
       "      <td>702</td>\n",
       "    </tr>\n",
       "  </tbody>\n",
       "</table>\n",
       "</div>"
      ],
      "text/plain": [
       "              count unique         top freq\n",
       "id            76051  76051    1079_222    1\n",
       "message_date  76051    351  2018-12-28  702"
      ]
     },
     "execution_count": 118,
     "metadata": {},
     "output_type": "execute_result"
    }
   ],
   "source": [
    "messages_data.describe(include=object).T"
   ]
  },
  {
   "cell_type": "markdown",
   "metadata": {},
   "source": [
    "##### Conclusion\n",
    "- Here too we'll need to change date to date time for later calculations."
   ]
  },
  {
   "cell_type": "markdown",
   "metadata": {},
   "source": [
    "### plans_data\n",
    "<a class=\"anchor\" id=\"chapter5\"></a>\n",
    "[Go back to the Table of Contents](#table_of_contents)"
   ]
  },
  {
   "cell_type": "code",
   "execution_count": 119,
   "metadata": {},
   "outputs": [
    {
     "name": "stdout",
     "output_type": "stream",
     "text": [
      "<class 'pandas.core.frame.DataFrame'>\n",
      "RangeIndex: 2 entries, 0 to 1\n",
      "Data columns (total 8 columns):\n",
      "messages_included        2 non-null int64\n",
      "mb_per_month_included    2 non-null int64\n",
      "minutes_included         2 non-null int64\n",
      "usd_monthly_pay          2 non-null int64\n",
      "usd_per_gb               2 non-null int64\n",
      "usd_per_message          2 non-null float64\n",
      "usd_per_minute           2 non-null float64\n",
      "plan_name                2 non-null object\n",
      "dtypes: float64(2), int64(5), object(1)\n",
      "memory usage: 256.0+ bytes\n"
     ]
    }
   ],
   "source": [
    "plans_data.info()"
   ]
  },
  {
   "cell_type": "markdown",
   "metadata": {},
   "source": [
    "Displaying the data."
   ]
  },
  {
   "cell_type": "code",
   "execution_count": 120,
   "metadata": {},
   "outputs": [
    {
     "data": {
      "text/html": [
       "<div>\n",
       "<style scoped>\n",
       "    .dataframe tbody tr th:only-of-type {\n",
       "        vertical-align: middle;\n",
       "    }\n",
       "\n",
       "    .dataframe tbody tr th {\n",
       "        vertical-align: top;\n",
       "    }\n",
       "\n",
       "    .dataframe thead th {\n",
       "        text-align: right;\n",
       "    }\n",
       "</style>\n",
       "<table border=\"1\" class=\"dataframe\">\n",
       "  <thead>\n",
       "    <tr style=\"text-align: right;\">\n",
       "      <th></th>\n",
       "      <th>messages_included</th>\n",
       "      <th>mb_per_month_included</th>\n",
       "      <th>minutes_included</th>\n",
       "      <th>usd_monthly_pay</th>\n",
       "      <th>usd_per_gb</th>\n",
       "      <th>usd_per_message</th>\n",
       "      <th>usd_per_minute</th>\n",
       "      <th>plan_name</th>\n",
       "    </tr>\n",
       "  </thead>\n",
       "  <tbody>\n",
       "    <tr>\n",
       "      <td>0</td>\n",
       "      <td>50</td>\n",
       "      <td>15360</td>\n",
       "      <td>500</td>\n",
       "      <td>20</td>\n",
       "      <td>10</td>\n",
       "      <td>0.03</td>\n",
       "      <td>0.03</td>\n",
       "      <td>surf</td>\n",
       "    </tr>\n",
       "    <tr>\n",
       "      <td>1</td>\n",
       "      <td>1000</td>\n",
       "      <td>30720</td>\n",
       "      <td>3000</td>\n",
       "      <td>70</td>\n",
       "      <td>7</td>\n",
       "      <td>0.01</td>\n",
       "      <td>0.01</td>\n",
       "      <td>ultimate</td>\n",
       "    </tr>\n",
       "  </tbody>\n",
       "</table>\n",
       "</div>"
      ],
      "text/plain": [
       "   messages_included  mb_per_month_included  minutes_included  \\\n",
       "0                 50                  15360               500   \n",
       "1               1000                  30720              3000   \n",
       "\n",
       "   usd_monthly_pay  usd_per_gb  usd_per_message  usd_per_minute plan_name  \n",
       "0               20          10             0.03            0.03      surf  \n",
       "1               70           7             0.01            0.01  ultimate  "
      ]
     },
     "metadata": {},
     "output_type": "display_data"
    }
   ],
   "source": [
    "display(plans_data)"
   ]
  },
  {
   "cell_type": "markdown",
   "metadata": {},
   "source": [
    "##### Conclusion\n",
    "- Not much going on here, we'll use the data for future calculations."
   ]
  },
  {
   "cell_type": "markdown",
   "metadata": {},
   "source": [
    "### users_data\n",
    "<a class=\"anchor\" id=\"chapter6\"></a>\n",
    "[Go back to the Table of Contents](#table_of_contents)"
   ]
  },
  {
   "cell_type": "code",
   "execution_count": 121,
   "metadata": {},
   "outputs": [
    {
     "name": "stdout",
     "output_type": "stream",
     "text": [
      "<class 'pandas.core.frame.DataFrame'>\n",
      "RangeIndex: 500 entries, 0 to 499\n",
      "Data columns (total 8 columns):\n",
      "user_id       500 non-null int64\n",
      "first_name    500 non-null object\n",
      "last_name     500 non-null object\n",
      "age           500 non-null int64\n",
      "city          500 non-null object\n",
      "reg_date      500 non-null object\n",
      "plan          500 non-null object\n",
      "churn_date    34 non-null object\n",
      "dtypes: int64(2), object(6)\n",
      "memory usage: 31.4+ KB\n"
     ]
    }
   ],
   "source": [
    "users_data.info()"
   ]
  },
  {
   "cell_type": "markdown",
   "metadata": {},
   "source": [
    "Printing 10 rows randomly from the dataset to examine the data."
   ]
  },
  {
   "cell_type": "code",
   "execution_count": 122,
   "metadata": {},
   "outputs": [
    {
     "data": {
      "text/html": [
       "<div>\n",
       "<style scoped>\n",
       "    .dataframe tbody tr th:only-of-type {\n",
       "        vertical-align: middle;\n",
       "    }\n",
       "\n",
       "    .dataframe tbody tr th {\n",
       "        vertical-align: top;\n",
       "    }\n",
       "\n",
       "    .dataframe thead th {\n",
       "        text-align: right;\n",
       "    }\n",
       "</style>\n",
       "<table border=\"1\" class=\"dataframe\">\n",
       "  <thead>\n",
       "    <tr style=\"text-align: right;\">\n",
       "      <th></th>\n",
       "      <th>user_id</th>\n",
       "      <th>first_name</th>\n",
       "      <th>last_name</th>\n",
       "      <th>age</th>\n",
       "      <th>city</th>\n",
       "      <th>reg_date</th>\n",
       "      <th>plan</th>\n",
       "      <th>churn_date</th>\n",
       "    </tr>\n",
       "  </thead>\n",
       "  <tbody>\n",
       "    <tr>\n",
       "      <td>56</td>\n",
       "      <td>1056</td>\n",
       "      <td>Denis</td>\n",
       "      <td>Chandler</td>\n",
       "      <td>33</td>\n",
       "      <td>Cincinnati, OH-KY-IN MSA</td>\n",
       "      <td>2018-03-01</td>\n",
       "      <td>surf</td>\n",
       "      <td>NaN</td>\n",
       "    </tr>\n",
       "    <tr>\n",
       "      <td>267</td>\n",
       "      <td>1267</td>\n",
       "      <td>Gia</td>\n",
       "      <td>Parker</td>\n",
       "      <td>53</td>\n",
       "      <td>St. Louis, MO-IL MSA</td>\n",
       "      <td>2018-03-12</td>\n",
       "      <td>surf</td>\n",
       "      <td>NaN</td>\n",
       "    </tr>\n",
       "    <tr>\n",
       "      <td>102</td>\n",
       "      <td>1102</td>\n",
       "      <td>Marquitta</td>\n",
       "      <td>Walton</td>\n",
       "      <td>30</td>\n",
       "      <td>Riverside-San Bernardino-Ontario, CA MSA</td>\n",
       "      <td>2018-02-20</td>\n",
       "      <td>ultimate</td>\n",
       "      <td>NaN</td>\n",
       "    </tr>\n",
       "    <tr>\n",
       "      <td>281</td>\n",
       "      <td>1281</td>\n",
       "      <td>Zack</td>\n",
       "      <td>Hardy</td>\n",
       "      <td>39</td>\n",
       "      <td>Charlotte-Concord-Gastonia, NC-SC MSA</td>\n",
       "      <td>2018-07-23</td>\n",
       "      <td>surf</td>\n",
       "      <td>2018-11-14</td>\n",
       "    </tr>\n",
       "    <tr>\n",
       "      <td>87</td>\n",
       "      <td>1087</td>\n",
       "      <td>Lenard</td>\n",
       "      <td>Atkinson</td>\n",
       "      <td>45</td>\n",
       "      <td>Washington-Arlington-Alexandria, DC-VA-MD-WV MSA</td>\n",
       "      <td>2018-11-18</td>\n",
       "      <td>surf</td>\n",
       "      <td>NaN</td>\n",
       "    </tr>\n",
       "    <tr>\n",
       "      <td>434</td>\n",
       "      <td>1434</td>\n",
       "      <td>Kai</td>\n",
       "      <td>Barr</td>\n",
       "      <td>18</td>\n",
       "      <td>New York-Newark-Jersey City, NY-NJ-PA MSA</td>\n",
       "      <td>2018-03-06</td>\n",
       "      <td>surf</td>\n",
       "      <td>NaN</td>\n",
       "    </tr>\n",
       "    <tr>\n",
       "      <td>451</td>\n",
       "      <td>1451</td>\n",
       "      <td>Lenard</td>\n",
       "      <td>Harding</td>\n",
       "      <td>53</td>\n",
       "      <td>Charlotte-Concord-Gastonia, NC-SC MSA</td>\n",
       "      <td>2018-02-15</td>\n",
       "      <td>ultimate</td>\n",
       "      <td>2018-12-10</td>\n",
       "    </tr>\n",
       "    <tr>\n",
       "      <td>331</td>\n",
       "      <td>1331</td>\n",
       "      <td>Lashandra</td>\n",
       "      <td>Ramos</td>\n",
       "      <td>54</td>\n",
       "      <td>Dallas-Fort Worth-Arlington, TX MSA</td>\n",
       "      <td>2018-02-06</td>\n",
       "      <td>surf</td>\n",
       "      <td>NaN</td>\n",
       "    </tr>\n",
       "    <tr>\n",
       "      <td>169</td>\n",
       "      <td>1169</td>\n",
       "      <td>Hai</td>\n",
       "      <td>Bean</td>\n",
       "      <td>67</td>\n",
       "      <td>New York-Newark-Jersey City, NY-NJ-PA MSA</td>\n",
       "      <td>2018-12-06</td>\n",
       "      <td>surf</td>\n",
       "      <td>NaN</td>\n",
       "    </tr>\n",
       "    <tr>\n",
       "      <td>335</td>\n",
       "      <td>1335</td>\n",
       "      <td>Gail</td>\n",
       "      <td>Coleman</td>\n",
       "      <td>61</td>\n",
       "      <td>Dallas-Fort Worth-Arlington, TX MSA</td>\n",
       "      <td>2018-06-02</td>\n",
       "      <td>surf</td>\n",
       "      <td>NaN</td>\n",
       "    </tr>\n",
       "  </tbody>\n",
       "</table>\n",
       "</div>"
      ],
      "text/plain": [
       "     user_id first_name last_name  age  \\\n",
       "56      1056      Denis  Chandler   33   \n",
       "267     1267        Gia    Parker   53   \n",
       "102     1102  Marquitta    Walton   30   \n",
       "281     1281       Zack     Hardy   39   \n",
       "87      1087     Lenard  Atkinson   45   \n",
       "434     1434        Kai      Barr   18   \n",
       "451     1451     Lenard   Harding   53   \n",
       "331     1331  Lashandra     Ramos   54   \n",
       "169     1169        Hai      Bean   67   \n",
       "335     1335       Gail   Coleman   61   \n",
       "\n",
       "                                                 city    reg_date      plan  \\\n",
       "56                           Cincinnati, OH-KY-IN MSA  2018-03-01      surf   \n",
       "267                              St. Louis, MO-IL MSA  2018-03-12      surf   \n",
       "102          Riverside-San Bernardino-Ontario, CA MSA  2018-02-20  ultimate   \n",
       "281             Charlotte-Concord-Gastonia, NC-SC MSA  2018-07-23      surf   \n",
       "87   Washington-Arlington-Alexandria, DC-VA-MD-WV MSA  2018-11-18      surf   \n",
       "434         New York-Newark-Jersey City, NY-NJ-PA MSA  2018-03-06      surf   \n",
       "451             Charlotte-Concord-Gastonia, NC-SC MSA  2018-02-15  ultimate   \n",
       "331               Dallas-Fort Worth-Arlington, TX MSA  2018-02-06      surf   \n",
       "169         New York-Newark-Jersey City, NY-NJ-PA MSA  2018-12-06      surf   \n",
       "335               Dallas-Fort Worth-Arlington, TX MSA  2018-06-02      surf   \n",
       "\n",
       "     churn_date  \n",
       "56          NaN  \n",
       "267         NaN  \n",
       "102         NaN  \n",
       "281  2018-11-14  \n",
       "87          NaN  \n",
       "434         NaN  \n",
       "451  2018-12-10  \n",
       "331         NaN  \n",
       "169         NaN  \n",
       "335         NaN  "
      ]
     },
     "execution_count": 122,
     "metadata": {},
     "output_type": "execute_result"
    }
   ],
   "source": [
    "users_data.sample(10)"
   ]
  },
  {
   "cell_type": "markdown",
   "metadata": {},
   "source": [
    "Using describe() we can now get even more detailed information about our data.\n"
   ]
  },
  {
   "cell_type": "code",
   "execution_count": 123,
   "metadata": {},
   "outputs": [
    {
     "data": {
      "text/html": [
       "<div>\n",
       "<style scoped>\n",
       "    .dataframe tbody tr th:only-of-type {\n",
       "        vertical-align: middle;\n",
       "    }\n",
       "\n",
       "    .dataframe tbody tr th {\n",
       "        vertical-align: top;\n",
       "    }\n",
       "\n",
       "    .dataframe thead th {\n",
       "        text-align: right;\n",
       "    }\n",
       "</style>\n",
       "<table border=\"1\" class=\"dataframe\">\n",
       "  <thead>\n",
       "    <tr style=\"text-align: right;\">\n",
       "      <th></th>\n",
       "      <th>count</th>\n",
       "      <th>mean</th>\n",
       "      <th>std</th>\n",
       "      <th>min</th>\n",
       "      <th>25%</th>\n",
       "      <th>50%</th>\n",
       "      <th>75%</th>\n",
       "      <th>max</th>\n",
       "    </tr>\n",
       "  </thead>\n",
       "  <tbody>\n",
       "    <tr>\n",
       "      <td>user_id</td>\n",
       "      <td>500.0</td>\n",
       "      <td>1249.500</td>\n",
       "      <td>144.481833</td>\n",
       "      <td>1000.0</td>\n",
       "      <td>1124.75</td>\n",
       "      <td>1249.5</td>\n",
       "      <td>1374.25</td>\n",
       "      <td>1499.0</td>\n",
       "    </tr>\n",
       "    <tr>\n",
       "      <td>age</td>\n",
       "      <td>500.0</td>\n",
       "      <td>45.486</td>\n",
       "      <td>16.972269</td>\n",
       "      <td>18.0</td>\n",
       "      <td>30.00</td>\n",
       "      <td>46.0</td>\n",
       "      <td>61.00</td>\n",
       "      <td>75.0</td>\n",
       "    </tr>\n",
       "  </tbody>\n",
       "</table>\n",
       "</div>"
      ],
      "text/plain": [
       "         count      mean         std     min      25%     50%      75%     max\n",
       "user_id  500.0  1249.500  144.481833  1000.0  1124.75  1249.5  1374.25  1499.0\n",
       "age      500.0    45.486   16.972269    18.0    30.00    46.0    61.00    75.0"
      ]
     },
     "execution_count": 123,
     "metadata": {},
     "output_type": "execute_result"
    }
   ],
   "source": [
    "users_data.describe().T"
   ]
  },
  {
   "cell_type": "code",
   "execution_count": 124,
   "metadata": {},
   "outputs": [
    {
     "data": {
      "text/html": [
       "<div>\n",
       "<style scoped>\n",
       "    .dataframe tbody tr th:only-of-type {\n",
       "        vertical-align: middle;\n",
       "    }\n",
       "\n",
       "    .dataframe tbody tr th {\n",
       "        vertical-align: top;\n",
       "    }\n",
       "\n",
       "    .dataframe thead th {\n",
       "        text-align: right;\n",
       "    }\n",
       "</style>\n",
       "<table border=\"1\" class=\"dataframe\">\n",
       "  <thead>\n",
       "    <tr style=\"text-align: right;\">\n",
       "      <th></th>\n",
       "      <th>first_name</th>\n",
       "      <th>last_name</th>\n",
       "      <th>city</th>\n",
       "      <th>reg_date</th>\n",
       "      <th>plan</th>\n",
       "      <th>churn_date</th>\n",
       "    </tr>\n",
       "  </thead>\n",
       "  <tbody>\n",
       "    <tr>\n",
       "      <td>count</td>\n",
       "      <td>500</td>\n",
       "      <td>500</td>\n",
       "      <td>500</td>\n",
       "      <td>500</td>\n",
       "      <td>500</td>\n",
       "      <td>34</td>\n",
       "    </tr>\n",
       "    <tr>\n",
       "      <td>unique</td>\n",
       "      <td>458</td>\n",
       "      <td>399</td>\n",
       "      <td>73</td>\n",
       "      <td>266</td>\n",
       "      <td>2</td>\n",
       "      <td>29</td>\n",
       "    </tr>\n",
       "    <tr>\n",
       "      <td>top</td>\n",
       "      <td>Jasper</td>\n",
       "      <td>Reese</td>\n",
       "      <td>New York-Newark-Jersey City, NY-NJ-PA MSA</td>\n",
       "      <td>2018-06-04</td>\n",
       "      <td>surf</td>\n",
       "      <td>2018-12-18</td>\n",
       "    </tr>\n",
       "    <tr>\n",
       "      <td>freq</td>\n",
       "      <td>3</td>\n",
       "      <td>3</td>\n",
       "      <td>80</td>\n",
       "      <td>5</td>\n",
       "      <td>339</td>\n",
       "      <td>3</td>\n",
       "    </tr>\n",
       "  </tbody>\n",
       "</table>\n",
       "</div>"
      ],
      "text/plain": [
       "       first_name last_name                                       city  \\\n",
       "count         500       500                                        500   \n",
       "unique        458       399                                         73   \n",
       "top        Jasper     Reese  New York-Newark-Jersey City, NY-NJ-PA MSA   \n",
       "freq            3         3                                         80   \n",
       "\n",
       "          reg_date  plan  churn_date  \n",
       "count          500   500          34  \n",
       "unique         266     2          29  \n",
       "top     2018-06-04  surf  2018-12-18  \n",
       "freq             5   339           3  "
      ]
     },
     "execution_count": 124,
     "metadata": {},
     "output_type": "execute_result"
    }
   ],
   "source": [
    "users_data.describe(include=object)"
   ]
  },
  {
   "cell_type": "markdown",
   "metadata": {},
   "source": [
    "##### Conclusion\n",
    "- We'll need to change the date column from object to date time.\n",
    "- The 'age' mean is lower than the median, which indicates that the audience is younger.\n",
    "- The 'churn_date' column contains nulls, which indicates that the users were still using Megaline services when the data was retrieved. We have 34 users out of 500 that do not use the service anymore.\n",
    "- The data show that most users are subscribed to the Surf plan, which could influence our findings about the revenue for each plan."
   ]
  },
  {
   "cell_type": "markdown",
   "metadata": {},
   "source": [
    "### Conclusion\n",
    "<a class=\"anchor\" id=\"chapter7\"></a>\n",
    "[Go back to the Table of Contents](#table_of_contents)"
   ]
  },
  {
   "cell_type": "markdown",
   "metadata": {},
   "source": [
    "<div class=\"alert alert-block alert-info\">\n",
    "- Almost all column conatin dates as an object instead of date time, we'll need to change data type for future calculations.<br>\n",
    "- The data might contain data for both plans and that might be the reason we see higher means than median on some categories.<br>\n",
    "- There are missing values in 'churn_date' which indicate that the user is still active on the service.<br>\n",
    "- There are some calls with 0 value in duration, which could indicate a missed call.<br>\n",
    "- Most users in the data set are of the Surf plan, which could influance our finding about revanue.\n",
    "</div>"
   ]
  },
  {
   "cell_type": "markdown",
   "metadata": {},
   "source": [
    "<div class=\"alert alert-warning\">\n",
    "<b>Reviewer's comment:</b> Well done!  Please note that 64 bits is an excessive amount of space for storing your features. Also many of them are binary and can be coded as categorical or boolean. Here you can read more about data type optimization: <br><a>https://medium.com/@vincentteyssier/optimizing-the-size-of-a-pandas-dataframe-for-low-memory-environment-5f07db3d72e</a>\n",
    "</div>"
   ]
  },
  {
   "cell_type": "markdown",
   "metadata": {},
   "source": [
    "----"
   ]
  },
  {
   "cell_type": "markdown",
   "metadata": {},
   "source": [
    "## 2. Data preprocessing\n",
    "<a class=\"anchor\" id=\"chapter8\"></a>\n",
    "[Go back to the Table of Contents](#table_of_contents)"
   ]
  },
  {
   "cell_type": "markdown",
   "metadata": {},
   "source": [
    "### Missing Values\n",
    "<a class=\"anchor\" id=\"chapter9\"></a>\n",
    "[Go back to the Table of Contents](#table_of_contents)"
   ]
  },
  {
   "cell_type": "markdown",
   "metadata": {},
   "source": [
    "#### calls_data\n",
    "<a class=\"anchor\" id=\"chapter10\"></a>\n",
    "[Go back to the Table of Contents](#table_of_contents)"
   ]
  },
  {
   "cell_type": "markdown",
   "metadata": {},
   "source": [
    "Calls_data contains 0 values in duration which could be indicative of a missed call. This could affect our calculations (depending on how we calculate) and we need to figure out how many values there are, and what to do with them."
   ]
  },
  {
   "cell_type": "markdown",
   "metadata": {},
   "source": [
    "Counting how many rows contain 0 in duration."
   ]
  },
  {
   "cell_type": "code",
   "execution_count": 125,
   "metadata": {},
   "outputs": [
    {
     "name": "stdout",
     "output_type": "stream",
     "text": [
      "There are 26834 calls with 0 duration in the data\n"
     ]
    }
   ],
   "source": [
    "print(\"There are {} calls with 0 duration in the data\".format(calls_data.query('duration == 0')['duration'].count()))"
   ]
  },
  {
   "cell_type": "markdown",
   "metadata": {},
   "source": [
    "Sampleing 5 random rows from the data with 0 duration."
   ]
  },
  {
   "cell_type": "code",
   "execution_count": 126,
   "metadata": {},
   "outputs": [
    {
     "data": {
      "text/html": [
       "<div>\n",
       "<style scoped>\n",
       "    .dataframe tbody tr th:only-of-type {\n",
       "        vertical-align: middle;\n",
       "    }\n",
       "\n",
       "    .dataframe tbody tr th {\n",
       "        vertical-align: top;\n",
       "    }\n",
       "\n",
       "    .dataframe thead th {\n",
       "        text-align: right;\n",
       "    }\n",
       "</style>\n",
       "<table border=\"1\" class=\"dataframe\">\n",
       "  <thead>\n",
       "    <tr style=\"text-align: right;\">\n",
       "      <th></th>\n",
       "      <th>id</th>\n",
       "      <th>user_id</th>\n",
       "      <th>call_date</th>\n",
       "      <th>duration</th>\n",
       "    </tr>\n",
       "  </thead>\n",
       "  <tbody>\n",
       "    <tr>\n",
       "      <td>107729</td>\n",
       "      <td>1382_498</td>\n",
       "      <td>1382</td>\n",
       "      <td>2018-12-04</td>\n",
       "      <td>0.0</td>\n",
       "    </tr>\n",
       "    <tr>\n",
       "      <td>16917</td>\n",
       "      <td>1066_17</td>\n",
       "      <td>1066</td>\n",
       "      <td>2018-06-25</td>\n",
       "      <td>0.0</td>\n",
       "    </tr>\n",
       "    <tr>\n",
       "      <td>71436</td>\n",
       "      <td>1254_396</td>\n",
       "      <td>1254</td>\n",
       "      <td>2018-09-24</td>\n",
       "      <td>0.0</td>\n",
       "    </tr>\n",
       "    <tr>\n",
       "      <td>110012</td>\n",
       "      <td>1389_15</td>\n",
       "      <td>1389</td>\n",
       "      <td>2018-07-23</td>\n",
       "      <td>0.0</td>\n",
       "    </tr>\n",
       "    <tr>\n",
       "      <td>11027</td>\n",
       "      <td>1049_194</td>\n",
       "      <td>1049</td>\n",
       "      <td>2018-05-10</td>\n",
       "      <td>0.0</td>\n",
       "    </tr>\n",
       "  </tbody>\n",
       "</table>\n",
       "</div>"
      ],
      "text/plain": [
       "              id  user_id   call_date  duration\n",
       "107729  1382_498     1382  2018-12-04       0.0\n",
       "16917    1066_17     1066  2018-06-25       0.0\n",
       "71436   1254_396     1254  2018-09-24       0.0\n",
       "110012   1389_15     1389  2018-07-23       0.0\n",
       "11027   1049_194     1049  2018-05-10       0.0"
      ]
     },
     "execution_count": 126,
     "metadata": {},
     "output_type": "execute_result"
    }
   ],
   "source": [
    "calls_data.query('duration == 0').sample(5)"
   ]
  },
  {
   "cell_type": "markdown",
   "metadata": {},
   "source": [
    "Calculating the precentage of 0 values in duration from total data."
   ]
  },
  {
   "cell_type": "code",
   "execution_count": 127,
   "metadata": {},
   "outputs": [
    {
     "name": "stdout",
     "output_type": "stream",
     "text": [
      "The 0 duration calls are 19.48% of the data\n"
     ]
    }
   ],
   "source": [
    "print(\"The 0 duration calls are {:.2%} of the data\"\n",
    "      .format(calls_data.query('duration == 0')['duration'].count() / len(calls_data)))"
   ]
  },
  {
   "cell_type": "markdown",
   "metadata": {},
   "source": [
    "Although there are about 20% of rows with 0 in duration, they provide us with no other significant information for this study, and later when we calculate calls, the duration won't be taken into account, but when we count the calls, those missed calls will also count, thereby distorting our results."
   ]
  },
  {
   "cell_type": "markdown",
   "metadata": {},
   "source": [
    "Dropping rows where duration is 0 in calls_data."
   ]
  },
  {
   "cell_type": "markdown",
   "metadata": {},
   "source": [
    "<div class=\"alert alert-success\">\n",
    "<b>Reviewer's comment:</b> Okay, in this  case it's acceptable.\n",
    "</div>"
   ]
  },
  {
   "cell_type": "code",
   "execution_count": 128,
   "metadata": {
    "scrolled": true
   },
   "outputs": [],
   "source": [
    "calls_data = calls_data.query('duration != 0')"
   ]
  },
  {
   "cell_type": "markdown",
   "metadata": {},
   "source": [
    "Counting how many rows contain 0 in duration."
   ]
  },
  {
   "cell_type": "code",
   "execution_count": 129,
   "metadata": {},
   "outputs": [
    {
     "name": "stdout",
     "output_type": "stream",
     "text": [
      "There are 0 with 0 duration\n"
     ]
    }
   ],
   "source": [
    "print(\"There are {} with 0 duration\".format(calls_data.query('duration == 0')['duration'].count()))"
   ]
  },
  {
   "cell_type": "markdown",
   "metadata": {},
   "source": [
    "Success."
   ]
  },
  {
   "cell_type": "markdown",
   "metadata": {},
   "source": [
    "Now, let's round all the other calls."
   ]
  },
  {
   "cell_type": "code",
   "execution_count": 130,
   "metadata": {},
   "outputs": [
    {
     "data": {
      "text/html": [
       "<div>\n",
       "<style scoped>\n",
       "    .dataframe tbody tr th:only-of-type {\n",
       "        vertical-align: middle;\n",
       "    }\n",
       "\n",
       "    .dataframe tbody tr th {\n",
       "        vertical-align: top;\n",
       "    }\n",
       "\n",
       "    .dataframe thead th {\n",
       "        text-align: right;\n",
       "    }\n",
       "</style>\n",
       "<table border=\"1\" class=\"dataframe\">\n",
       "  <thead>\n",
       "    <tr style=\"text-align: right;\">\n",
       "      <th></th>\n",
       "      <th>id</th>\n",
       "      <th>user_id</th>\n",
       "      <th>call_date</th>\n",
       "      <th>duration</th>\n",
       "    </tr>\n",
       "  </thead>\n",
       "  <tbody>\n",
       "    <tr>\n",
       "      <td>30380</td>\n",
       "      <td>1114_137</td>\n",
       "      <td>1114</td>\n",
       "      <td>2018-08-12</td>\n",
       "      <td>11.0</td>\n",
       "    </tr>\n",
       "    <tr>\n",
       "      <td>124919</td>\n",
       "      <td>1440_435</td>\n",
       "      <td>1440</td>\n",
       "      <td>2018-11-16</td>\n",
       "      <td>12.0</td>\n",
       "    </tr>\n",
       "    <tr>\n",
       "      <td>30765</td>\n",
       "      <td>1114_804</td>\n",
       "      <td>1114</td>\n",
       "      <td>2018-09-17</td>\n",
       "      <td>4.0</td>\n",
       "    </tr>\n",
       "  </tbody>\n",
       "</table>\n",
       "</div>"
      ],
      "text/plain": [
       "              id  user_id   call_date  duration\n",
       "30380   1114_137     1114  2018-08-12      11.0\n",
       "124919  1440_435     1440  2018-11-16      12.0\n",
       "30765   1114_804     1114  2018-09-17       4.0"
      ]
     },
     "execution_count": 130,
     "metadata": {},
     "output_type": "execute_result"
    }
   ],
   "source": [
    "calls_data['duration'] = np.ceil(calls_data['duration'])\n",
    "calls_data.sample(3)"
   ]
  },
  {
   "cell_type": "markdown",
   "metadata": {},
   "source": [
    "Setting duration as integer."
   ]
  },
  {
   "cell_type": "code",
   "execution_count": 131,
   "metadata": {},
   "outputs": [
    {
     "data": {
      "text/html": [
       "<div>\n",
       "<style scoped>\n",
       "    .dataframe tbody tr th:only-of-type {\n",
       "        vertical-align: middle;\n",
       "    }\n",
       "\n",
       "    .dataframe tbody tr th {\n",
       "        vertical-align: top;\n",
       "    }\n",
       "\n",
       "    .dataframe thead th {\n",
       "        text-align: right;\n",
       "    }\n",
       "</style>\n",
       "<table border=\"1\" class=\"dataframe\">\n",
       "  <thead>\n",
       "    <tr style=\"text-align: right;\">\n",
       "      <th></th>\n",
       "      <th>id</th>\n",
       "      <th>user_id</th>\n",
       "      <th>call_date</th>\n",
       "      <th>duration</th>\n",
       "    </tr>\n",
       "  </thead>\n",
       "  <tbody>\n",
       "    <tr>\n",
       "      <td>85537</td>\n",
       "      <td>1313_517</td>\n",
       "      <td>1313</td>\n",
       "      <td>2018-12-24</td>\n",
       "      <td>21</td>\n",
       "    </tr>\n",
       "    <tr>\n",
       "      <td>82545</td>\n",
       "      <td>1299_203</td>\n",
       "      <td>1299</td>\n",
       "      <td>2018-09-28</td>\n",
       "      <td>10</td>\n",
       "    </tr>\n",
       "    <tr>\n",
       "      <td>93433</td>\n",
       "      <td>1334_801</td>\n",
       "      <td>1334</td>\n",
       "      <td>2018-10-11</td>\n",
       "      <td>2</td>\n",
       "    </tr>\n",
       "  </tbody>\n",
       "</table>\n",
       "</div>"
      ],
      "text/plain": [
       "             id  user_id   call_date  duration\n",
       "85537  1313_517     1313  2018-12-24        21\n",
       "82545  1299_203     1299  2018-09-28        10\n",
       "93433  1334_801     1334  2018-10-11         2"
      ]
     },
     "execution_count": 131,
     "metadata": {},
     "output_type": "execute_result"
    }
   ],
   "source": [
    "calls_data['duration'] = calls_data['duration'].astype('int')\n",
    "calls_data.sample(3)"
   ]
  },
  {
   "cell_type": "markdown",
   "metadata": {},
   "source": [
    "Success."
   ]
  },
  {
   "cell_type": "markdown",
   "metadata": {},
   "source": [
    "#### internet_data\n",
    "<a class=\"anchor\" id=\"chapter11\"></a>\n",
    "[Go back to the Table of Contents](#table_of_contents)"
   ]
  },
  {
   "cell_type": "markdown",
   "metadata": {},
   "source": [
    "The internet_data contains 0 values in 'mb_used', which may indicate that the session might have been for less than 1 mb in usage (like MMS or something), or the phone does not have internet access, or it is a brand new user.<br>\n",
    "in any case I find it odd that not even 1MB of data is being used."
   ]
  },
  {
   "cell_type": "markdown",
   "metadata": {},
   "source": [
    "Sampleing 5 random rows from the data with 0 mb_used."
   ]
  },
  {
   "cell_type": "code",
   "execution_count": 132,
   "metadata": {},
   "outputs": [
    {
     "data": {
      "text/html": [
       "<div>\n",
       "<style scoped>\n",
       "    .dataframe tbody tr th:only-of-type {\n",
       "        vertical-align: middle;\n",
       "    }\n",
       "\n",
       "    .dataframe tbody tr th {\n",
       "        vertical-align: top;\n",
       "    }\n",
       "\n",
       "    .dataframe thead th {\n",
       "        text-align: right;\n",
       "    }\n",
       "</style>\n",
       "<table border=\"1\" class=\"dataframe\">\n",
       "  <thead>\n",
       "    <tr style=\"text-align: right;\">\n",
       "      <th></th>\n",
       "      <th>id</th>\n",
       "      <th>user_id</th>\n",
       "      <th>session_date</th>\n",
       "      <th>mb_used</th>\n",
       "    </tr>\n",
       "  </thead>\n",
       "  <tbody>\n",
       "    <tr>\n",
       "      <td>29804</td>\n",
       "      <td>1138_30</td>\n",
       "      <td>1138</td>\n",
       "      <td>2018-10-04</td>\n",
       "      <td>0.0</td>\n",
       "    </tr>\n",
       "    <tr>\n",
       "      <td>61618</td>\n",
       "      <td>1280_127</td>\n",
       "      <td>1280</td>\n",
       "      <td>2018-07-27</td>\n",
       "      <td>0.0</td>\n",
       "    </tr>\n",
       "    <tr>\n",
       "      <td>19633</td>\n",
       "      <td>1088_456</td>\n",
       "      <td>1088</td>\n",
       "      <td>2018-07-15</td>\n",
       "      <td>0.0</td>\n",
       "    </tr>\n",
       "    <tr>\n",
       "      <td>82691</td>\n",
       "      <td>1386_6</td>\n",
       "      <td>1386</td>\n",
       "      <td>2018-12-08</td>\n",
       "      <td>0.0</td>\n",
       "    </tr>\n",
       "    <tr>\n",
       "      <td>82443</td>\n",
       "      <td>1385_194</td>\n",
       "      <td>1385</td>\n",
       "      <td>2018-10-22</td>\n",
       "      <td>0.0</td>\n",
       "    </tr>\n",
       "  </tbody>\n",
       "</table>\n",
       "</div>"
      ],
      "text/plain": [
       "             id  user_id session_date  mb_used\n",
       "29804   1138_30     1138   2018-10-04      0.0\n",
       "61618  1280_127     1280   2018-07-27      0.0\n",
       "19633  1088_456     1088   2018-07-15      0.0\n",
       "82691    1386_6     1386   2018-12-08      0.0\n",
       "82443  1385_194     1385   2018-10-22      0.0"
      ]
     },
     "execution_count": 132,
     "metadata": {},
     "output_type": "execute_result"
    }
   ],
   "source": [
    "internet_data.query('mb_used == 0').sample(5)"
   ]
  },
  {
   "cell_type": "markdown",
   "metadata": {},
   "source": [
    "We can't really tell the duration of these sessions..."
   ]
  },
  {
   "cell_type": "markdown",
   "metadata": {},
   "source": [
    "Counting how many rows contain 0 in 'mb_used'."
   ]
  },
  {
   "cell_type": "code",
   "execution_count": 133,
   "metadata": {},
   "outputs": [
    {
     "name": "stdout",
     "output_type": "stream",
     "text": [
      "There are 13747 rows in mb_used that are 0.\n"
     ]
    }
   ],
   "source": [
    "print(\"There are {} rows in mb_used that are 0.\"\n",
    "      .format(internet_data.query('mb_used == 0')['mb_used'].count()))"
   ]
  },
  {
   "cell_type": "markdown",
   "metadata": {},
   "source": [
    "Calculating the precentage of 0 values in 'mb_used' from total data."
   ]
  },
  {
   "cell_type": "code",
   "execution_count": 134,
   "metadata": {},
   "outputs": [
    {
     "name": "stdout",
     "output_type": "stream",
     "text": [
      "The 0 mb used sessions are 13.11% of the data.\n"
     ]
    }
   ],
   "source": [
    "print(\"The 0 mb used sessions are {:.2%} of the data.\".\n",
    "      format((internet_data.query('mb_used == 0')['mb_used'].count()) / len(internet_data)))"
   ]
  },
  {
   "cell_type": "markdown",
   "metadata": {},
   "source": [
    "<div class=\"alert alert-success\">\n",
    "<b>Reviewer's comment:</b> Great that you have habit to format calculation outputs!\n",
    "</div>"
   ]
  },
  {
   "cell_type": "markdown",
   "metadata": {},
   "source": [
    "13% of the rows in the 'mb_used' column are 0 in value, these rows don't have any other significant information,<br>\n",
    "I don't feel comfortable dropping them but I'll do it anyway for a cleaner data processing."
   ]
  },
  {
   "cell_type": "markdown",
   "metadata": {},
   "source": [
    "Dropping rows where 'mb_used' is 0 in internet_data."
   ]
  },
  {
   "cell_type": "code",
   "execution_count": 135,
   "metadata": {
    "scrolled": true
   },
   "outputs": [],
   "source": [
    "internet_data = internet_data.query('mb_used != 0')"
   ]
  },
  {
   "cell_type": "markdown",
   "metadata": {},
   "source": [
    "Counting how many rows contain 0 in 'mb_used'."
   ]
  },
  {
   "cell_type": "code",
   "execution_count": 136,
   "metadata": {},
   "outputs": [
    {
     "name": "stdout",
     "output_type": "stream",
     "text": [
      "There are 0 sessions with 0 mb-used\n"
     ]
    }
   ],
   "source": [
    "print(\"There are {} sessions with 0 mb-used\".format(internet_data.query('mb_used == 0')['mb_used'].count()))"
   ]
  },
  {
   "cell_type": "markdown",
   "metadata": {},
   "source": [
    "Success."
   ]
  },
  {
   "cell_type": "markdown",
   "metadata": {},
   "source": [
    "#### users_data\n",
    "<a class=\"anchor\" id=\"chapter12\"></a>\n",
    "[Go back to the Table of Contents](#table_of_contents)"
   ]
  },
  {
   "cell_type": "markdown",
   "metadata": {},
   "source": [
    "users_data contains NaN values in 'churn_date', which indicates that the user is still using the company's service.<br>\n",
    "Right now I don't see any use of 'churn_date', so I'll leave it as it is."
   ]
  },
  {
   "cell_type": "markdown",
   "metadata": {},
   "source": [
    "Checking how many rows in 'churn_date' are NaN."
   ]
  },
  {
   "cell_type": "code",
   "execution_count": 137,
   "metadata": {
    "scrolled": true
   },
   "outputs": [
    {
     "name": "stdout",
     "output_type": "stream",
     "text": [
      "How many NaN values are in users_data: 466\n"
     ]
    }
   ],
   "source": [
    "print(\"How many NaN values are in users_data:\", \n",
    "      users_data['churn_date'].isna().sum())"
   ]
  },
  {
   "cell_type": "markdown",
   "metadata": {},
   "source": [
    "Almost all users are active, at first I thought to fill the NaN with \"active\" but then I realized that in order to make calculations with churn_date if need be, it won't be possible. Let's leave NaN as they are and when we change type to date time it will become NaT."
   ]
  },
  {
   "cell_type": "markdown",
   "metadata": {},
   "source": [
    "##### Conclusion\n",
    "- There are no missing values in the data sets, except for 'churn_date' but it is intentional.\n",
    "- values containing 0 in calls and internet were removed."
   ]
  },
  {
   "cell_type": "markdown",
   "metadata": {},
   "source": [
    "### Duplicated Values\n",
    "<a class=\"anchor\" id=\"chapter13\"></a>\n",
    "[Go back to the Table of Contents](#table_of_contents)"
   ]
  },
  {
   "cell_type": "markdown",
   "metadata": {},
   "source": [
    "Looking for duplicated rows in the data sets."
   ]
  },
  {
   "cell_type": "markdown",
   "metadata": {},
   "source": [
    "#### calls_data"
   ]
  },
  {
   "cell_type": "code",
   "execution_count": 138,
   "metadata": {},
   "outputs": [
    {
     "name": "stdout",
     "output_type": "stream",
     "text": [
      "Number of duplicates in calls_data: 0\n"
     ]
    }
   ],
   "source": [
    "print(\"Number of duplicates in calls_data:\", \n",
    "      calls_data.duplicated().sum())"
   ]
  },
  {
   "cell_type": "markdown",
   "metadata": {},
   "source": [
    "#### internet_data"
   ]
  },
  {
   "cell_type": "code",
   "execution_count": 139,
   "metadata": {
    "scrolled": true
   },
   "outputs": [
    {
     "name": "stdout",
     "output_type": "stream",
     "text": [
      "Number of duplicates in internet_data: 0\n"
     ]
    }
   ],
   "source": [
    "print(\"Number of duplicates in internet_data:\", \n",
    "      internet_data.duplicated().sum())"
   ]
  },
  {
   "cell_type": "markdown",
   "metadata": {},
   "source": [
    "#### messages_data"
   ]
  },
  {
   "cell_type": "code",
   "execution_count": 140,
   "metadata": {},
   "outputs": [
    {
     "name": "stdout",
     "output_type": "stream",
     "text": [
      "Number of duplicates in messages_data: 0\n"
     ]
    }
   ],
   "source": [
    "print(\"Number of duplicates in messages_data:\", \n",
    "      messages_data.duplicated().sum())"
   ]
  },
  {
   "cell_type": "markdown",
   "metadata": {},
   "source": [
    "#### plans_data"
   ]
  },
  {
   "cell_type": "code",
   "execution_count": 141,
   "metadata": {},
   "outputs": [
    {
     "name": "stdout",
     "output_type": "stream",
     "text": [
      "Number of duplicates in plans_data: 0\n"
     ]
    }
   ],
   "source": [
    "print(\"Number of duplicates in plans_data:\", \n",
    "      users_data.duplicated().sum())"
   ]
  },
  {
   "cell_type": "markdown",
   "metadata": {},
   "source": [
    "#### users_data"
   ]
  },
  {
   "cell_type": "markdown",
   "metadata": {},
   "source": [
    "First, we need to lower case all strings so we could check for duplicates."
   ]
  },
  {
   "cell_type": "code",
   "execution_count": 142,
   "metadata": {},
   "outputs": [],
   "source": [
    "# Going over each element of the data, if it is string then lower its case.\n",
    "users_data = users_data.applymap(lambda l:l.lower() if type(l) == str else l)"
   ]
  },
  {
   "cell_type": "code",
   "execution_count": 143,
   "metadata": {},
   "outputs": [
    {
     "name": "stdout",
     "output_type": "stream",
     "text": [
      "Number of duplicates in user_data: 0\n"
     ]
    }
   ],
   "source": [
    "print(\"Number of duplicates in user_data:\", \n",
    "      users_data.duplicated().sum())"
   ]
  },
  {
   "cell_type": "markdown",
   "metadata": {},
   "source": [
    "#### Conclusion\n",
    "- There are no duplicates in the data sets."
   ]
  },
  {
   "cell_type": "markdown",
   "metadata": {},
   "source": [
    "### Changing Data Types\n",
    "<a class=\"anchor\" id=\"chapter14\"></a>\n",
    "[Go back to the Table of Contents](#table_of_contents)"
   ]
  },
  {
   "cell_type": "markdown",
   "metadata": {},
   "source": [
    "All of the data sets (except for plans_data) have a date column which is of object type instead of date time, let's change that."
   ]
  },
  {
   "cell_type": "markdown",
   "metadata": {},
   "source": [
    "#### calls_data"
   ]
  },
  {
   "cell_type": "code",
   "execution_count": 144,
   "metadata": {},
   "outputs": [
    {
     "name": "stdout",
     "output_type": "stream",
     "text": [
      "<class 'pandas.core.frame.DataFrame'>\n",
      "Int64Index: 110901 entries, 0 to 137734\n",
      "Data columns (total 4 columns):\n",
      "id           110901 non-null object\n",
      "user_id      110901 non-null int64\n",
      "call_date    110901 non-null datetime64[ns]\n",
      "duration     110901 non-null int64\n",
      "dtypes: datetime64[ns](1), int64(2), object(1)\n",
      "memory usage: 4.2+ MB\n"
     ]
    }
   ],
   "source": [
    "calls_data['call_date'] = pd.to_datetime(calls_data['call_date'], \n",
    "                                         format='%Y.%m.%d')\n",
    "calls_data.info()"
   ]
  },
  {
   "cell_type": "markdown",
   "metadata": {},
   "source": [
    "success."
   ]
  },
  {
   "cell_type": "markdown",
   "metadata": {},
   "source": [
    "#### internet_data"
   ]
  },
  {
   "cell_type": "code",
   "execution_count": 145,
   "metadata": {},
   "outputs": [
    {
     "name": "stdout",
     "output_type": "stream",
     "text": [
      "<class 'pandas.core.frame.DataFrame'>\n",
      "Int64Index: 91078 entries, 0 to 104824\n",
      "Data columns (total 4 columns):\n",
      "id              91078 non-null object\n",
      "user_id         91078 non-null int64\n",
      "session_date    91078 non-null datetime64[ns]\n",
      "mb_used         91078 non-null float64\n",
      "dtypes: datetime64[ns](1), float64(1), int64(1), object(1)\n",
      "memory usage: 3.5+ MB\n"
     ]
    }
   ],
   "source": [
    "internet_data['session_date'] = pd.to_datetime(internet_data['session_date'], \n",
    "                                         format='%Y.%m.%d')\n",
    "internet_data.info()"
   ]
  },
  {
   "cell_type": "markdown",
   "metadata": {},
   "source": [
    "success."
   ]
  },
  {
   "cell_type": "markdown",
   "metadata": {},
   "source": [
    "#### messages_data"
   ]
  },
  {
   "cell_type": "code",
   "execution_count": 146,
   "metadata": {},
   "outputs": [
    {
     "name": "stdout",
     "output_type": "stream",
     "text": [
      "<class 'pandas.core.frame.DataFrame'>\n",
      "RangeIndex: 76051 entries, 0 to 76050\n",
      "Data columns (total 3 columns):\n",
      "id              76051 non-null object\n",
      "user_id         76051 non-null int64\n",
      "message_date    76051 non-null datetime64[ns]\n",
      "dtypes: datetime64[ns](1), int64(1), object(1)\n",
      "memory usage: 1.7+ MB\n"
     ]
    }
   ],
   "source": [
    "messages_data['message_date'] = pd.to_datetime(messages_data['message_date'], \n",
    "                                         format='%Y.%m.%d')\n",
    "messages_data.info()"
   ]
  },
  {
   "cell_type": "markdown",
   "metadata": {},
   "source": [
    "success."
   ]
  },
  {
   "cell_type": "markdown",
   "metadata": {},
   "source": [
    "#### users_data"
   ]
  },
  {
   "cell_type": "code",
   "execution_count": 147,
   "metadata": {},
   "outputs": [
    {
     "name": "stdout",
     "output_type": "stream",
     "text": [
      "<class 'pandas.core.frame.DataFrame'>\n",
      "RangeIndex: 500 entries, 0 to 499\n",
      "Data columns (total 8 columns):\n",
      "user_id       500 non-null int64\n",
      "first_name    500 non-null object\n",
      "last_name     500 non-null object\n",
      "age           500 non-null int64\n",
      "city          500 non-null object\n",
      "reg_date      500 non-null datetime64[ns]\n",
      "plan          500 non-null object\n",
      "churn_date    34 non-null datetime64[ns]\n",
      "dtypes: datetime64[ns](2), int64(2), object(4)\n",
      "memory usage: 31.4+ KB\n"
     ]
    }
   ],
   "source": [
    "users_data['reg_date'] = pd.to_datetime(users_data['reg_date'], \n",
    "                                         format='%Y.%m.%d')\n",
    "users_data['churn_date'] = pd.to_datetime(users_data['churn_date'], \n",
    "                                         format='%Y.%m.%d')\n",
    "users_data.info()"
   ]
  },
  {
   "cell_type": "markdown",
   "metadata": {},
   "source": [
    "success."
   ]
  },
  {
   "cell_type": "markdown",
   "metadata": {},
   "source": [
    "##### Conclusion\n",
    "We changed all the date columns in our data sets (except for plans_data) to date time so we could use it for calculations in the future."
   ]
  },
  {
   "cell_type": "markdown",
   "metadata": {},
   "source": [
    "<div class=\"alert alert-success\">\n",
    "<b>Reviewer's comment:</b> Splendid, you've done all necessary steps! Let's move on.\n",
    "</div>"
   ]
  },
  {
   "cell_type": "markdown",
   "metadata": {},
   "source": [
    "### Usage calculations per user:\n",
    "<a class=\"anchor\" id=\"chapter15\"></a>\n",
    "[Go back to the Table of Contents](#table_of_contents)"
   ]
  },
  {
   "cell_type": "markdown",
   "metadata": {},
   "source": [
    "#### The number of calls made and minutes used per month\n",
    "<a class=\"anchor\" id=\"chapter16\"></a>\n",
    "[Go back to the Table of Contents](#table_of_contents)"
   ]
  },
  {
   "cell_type": "markdown",
   "metadata": {},
   "source": [
    "Creating a new column 'month' to store the month each call was made."
   ]
  },
  {
   "cell_type": "code",
   "execution_count": 148,
   "metadata": {
    "scrolled": true
   },
   "outputs": [],
   "source": [
    "calls_data['month'] = calls_data['call_date'].dt.month"
   ]
  },
  {
   "cell_type": "markdown",
   "metadata": {},
   "source": [
    "Creating a pivot table to group the data by user and month, and calculating the total number of calls and duration per month."
   ]
  },
  {
   "cell_type": "code",
   "execution_count": 149,
   "metadata": {
    "scrolled": true
   },
   "outputs": [],
   "source": [
    "calls_per_month = calls_data.pivot_table(index=['user_id', 'month'],\n",
    "                                         values='duration', \n",
    "                                         aggfunc=['count', 'sum'])\n",
    "# Changing column names.\n",
    "calls_per_month.columns = ['calls_count', 'total_duration']"
   ]
  },
  {
   "cell_type": "markdown",
   "metadata": {},
   "source": [
    "#### The number of text messages sent per month\n",
    "<a class=\"anchor\" id=\"chapter17\"></a>\n",
    "[Go back to the Table of Contents](#table_of_contents)"
   ]
  },
  {
   "cell_type": "markdown",
   "metadata": {},
   "source": [
    "Creating a new column 'month' to store the month each message was sent."
   ]
  },
  {
   "cell_type": "code",
   "execution_count": 150,
   "metadata": {
    "scrolled": true
   },
   "outputs": [],
   "source": [
    "messages_data['month'] = messages_data['message_date'].dt.month"
   ]
  },
  {
   "cell_type": "markdown",
   "metadata": {},
   "source": [
    "Grouping the data by user and month, and calculating the total number messages sent per month."
   ]
  },
  {
   "cell_type": "code",
   "execution_count": 151,
   "metadata": {
    "scrolled": true
   },
   "outputs": [],
   "source": [
    "messages_per_month = messages_data.groupby(['user_id', 'month'])['message_date'].count()"
   ]
  },
  {
   "cell_type": "markdown",
   "metadata": {},
   "source": [
    "#### The volume of data per month\n",
    "<a class=\"anchor\" id=\"chapter18\"></a>\n",
    "[Go back to the Table of Contents](#table_of_contents)"
   ]
  },
  {
   "cell_type": "markdown",
   "metadata": {},
   "source": [
    "Creating a new column 'month' to store the month of the data session."
   ]
  },
  {
   "cell_type": "code",
   "execution_count": 152,
   "metadata": {
    "scrolled": true
   },
   "outputs": [],
   "source": [
    "internet_data['month'] = internet_data['session_date'].dt.month"
   ]
  },
  {
   "cell_type": "markdown",
   "metadata": {},
   "source": [
    "Grouping the data by user and month, and calculating the total volume of data used per month."
   ]
  },
  {
   "cell_type": "code",
   "execution_count": 153,
   "metadata": {
    "scrolled": true
   },
   "outputs": [],
   "source": [
    "internet_per_month = internet_data.groupby(['user_id', 'month']).sum()"
   ]
  },
  {
   "cell_type": "markdown",
   "metadata": {},
   "source": [
    "Creating a new column 'gb_used' to store the volume of data in GB instead of MB and rounding the usage up."
   ]
  },
  {
   "cell_type": "code",
   "execution_count": 154,
   "metadata": {
    "scrolled": true
   },
   "outputs": [],
   "source": [
    "internet_per_month['gb_used'] = np.ceil(internet_per_month['mb_used'] / 1024)"
   ]
  },
  {
   "cell_type": "code",
   "execution_count": 155,
   "metadata": {},
   "outputs": [
    {
     "data": {
      "text/html": [
       "<div>\n",
       "<style scoped>\n",
       "    .dataframe tbody tr th:only-of-type {\n",
       "        vertical-align: middle;\n",
       "    }\n",
       "\n",
       "    .dataframe tbody tr th {\n",
       "        vertical-align: top;\n",
       "    }\n",
       "\n",
       "    .dataframe thead th {\n",
       "        text-align: right;\n",
       "    }\n",
       "</style>\n",
       "<table border=\"1\" class=\"dataframe\">\n",
       "  <thead>\n",
       "    <tr style=\"text-align: right;\">\n",
       "      <th></th>\n",
       "      <th></th>\n",
       "      <th>mb_used</th>\n",
       "      <th>gb_used</th>\n",
       "    </tr>\n",
       "    <tr>\n",
       "      <th>user_id</th>\n",
       "      <th>month</th>\n",
       "      <th></th>\n",
       "      <th></th>\n",
       "    </tr>\n",
       "  </thead>\n",
       "  <tbody>\n",
       "    <tr>\n",
       "      <td>1004</td>\n",
       "      <td>5</td>\n",
       "      <td>6547.21</td>\n",
       "      <td>7.0</td>\n",
       "    </tr>\n",
       "    <tr>\n",
       "      <td>1358</td>\n",
       "      <td>4</td>\n",
       "      <td>1689.01</td>\n",
       "      <td>2.0</td>\n",
       "    </tr>\n",
       "    <tr>\n",
       "      <td>1135</td>\n",
       "      <td>12</td>\n",
       "      <td>6921.20</td>\n",
       "      <td>7.0</td>\n",
       "    </tr>\n",
       "    <tr>\n",
       "      <td>1397</td>\n",
       "      <td>9</td>\n",
       "      <td>21465.83</td>\n",
       "      <td>21.0</td>\n",
       "    </tr>\n",
       "    <tr>\n",
       "      <td>1464</td>\n",
       "      <td>11</td>\n",
       "      <td>13309.59</td>\n",
       "      <td>13.0</td>\n",
       "    </tr>\n",
       "  </tbody>\n",
       "</table>\n",
       "</div>"
      ],
      "text/plain": [
       "                mb_used  gb_used\n",
       "user_id month                   \n",
       "1004    5       6547.21      7.0\n",
       "1358    4       1689.01      2.0\n",
       "1135    12      6921.20      7.0\n",
       "1397    9      21465.83     21.0\n",
       "1464    11     13309.59     13.0"
      ]
     },
     "execution_count": 155,
     "metadata": {},
     "output_type": "execute_result"
    }
   ],
   "source": [
    "internet_per_month.sample(5)"
   ]
  },
  {
   "cell_type": "markdown",
   "metadata": {},
   "source": [
    "#### The monthly revenue from each user\n",
    "<a class=\"anchor\" id=\"chapter19\"></a>\n",
    "[Go back to the Table of Contents](#table_of_contents)"
   ]
  },
  {
   "cell_type": "markdown",
   "metadata": {},
   "source": [
    "In order to calculate the monthly revenue per user, there are few steps that we'll need to take.<br>\n",
    "1. combine the data we extracted into one dataframe.\n",
    "2. add the plan for each unique user.\n",
    "3. check that the merge was done successfully.\n",
    "4. create the function that will calculate the revenue per user per month per plan.\n",
    "5. applying that function to the merged dataframe."
   ]
  },
  {
   "cell_type": "markdown",
   "metadata": {},
   "source": [
    "1. We need to combine all the data we extracted into one table so we could process and calculate the revenue for each user per month."
   ]
  },
  {
   "cell_type": "code",
   "execution_count": 156,
   "metadata": {},
   "outputs": [],
   "source": [
    "# All gathered data per month (calls, messages, internet) \n",
    "# is saved as one variable.\n",
    "data_frames = [calls_per_month, \n",
    "               messages_per_month, \n",
    "               internet_per_month]\n",
    "\n",
    "# Combining all the data we gathered above (per month) \n",
    "# into a new dataframe\n",
    "usage_per_month = reduce(lambda left,right: \n",
    "                                 pd.merge(left,right,\n",
    "                                          on=['user_id', 'month'],\n",
    "                                            how='outer'), data_frames)\n",
    "\n",
    "# Changing the columns names.\n",
    "usage_per_month.columns = ['total_calls',\n",
    "                           'total_duration', \n",
    "                            'total_messages',\n",
    "                            'total_data_mb',\n",
    "                            'total_data_gb'\n",
    "                          ]\n",
    "\n",
    "# Resetting index, so the multi index we created becomes columns.\n",
    "usage_per_month.reset_index(inplace=True)"
   ]
  },
  {
   "cell_type": "markdown",
   "metadata": {},
   "source": [
    "2. We would need to know what plan each user is on in order to calculate the revenue per user."
   ]
  },
  {
   "cell_type": "code",
   "execution_count": 157,
   "metadata": {},
   "outputs": [],
   "source": [
    "# New dataframe with user_id and plan columns only.\n",
    "users_data_plan = users_data[['user_id', 'plan']].copy()"
   ]
  },
  {
   "cell_type": "markdown",
   "metadata": {},
   "source": [
    "Let's combine both datasets to get the table we are after."
   ]
  },
  {
   "cell_type": "code",
   "execution_count": 158,
   "metadata": {},
   "outputs": [],
   "source": [
    "# Saving 'usage_per_month' and 'users_data_plan' into a new variable.\n",
    "plan_data = [usage_per_month, users_data_plan]\n",
    "\n",
    "# Creating a new dataframe by merging the data we gathered above (per month)\n",
    "# and plan each user_id is on.\n",
    "users_per_month_data = reduce(lambda left,right: \n",
    "                                 pd.merge(left,right,\n",
    "                                          on=['user_id'],\n",
    "                                            how='outer'), plan_data)"
   ]
  },
  {
   "cell_type": "markdown",
   "metadata": {},
   "source": [
    "3. Let's look at a sample of the data to see that it looks as it should, by comparing the old tables with the merged one."
   ]
  },
  {
   "cell_type": "code",
   "execution_count": 55,
   "metadata": {
    "id": "3qiCWYxTRpun",
    "outputId": "e3296c87-5f8c-4f0a-cc9a-db15b0b4432f"
   },
   "outputs": [
    {
     "name": "stdout",
     "output_type": "stream",
     "text": [
      "500\n",
      "500\n"
     ]
    }
   ],
   "source": [
    "# Checking the number of unique users before and after merge.\n",
    "print(len(users_data['user_id'].unique()))\n",
    "print(len(users_per_month_data['user_id'].unique()))"
   ]
  },
  {
   "cell_type": "code",
   "execution_count": 56,
   "metadata": {
    "id": "F8mtHj6SRpuo",
    "outputId": "0da361f7-a9e1-4675-b2cc-79660187e2ed"
   },
   "outputs": [
    {
     "name": "stdout",
     "output_type": "stream",
     "text": [
      "984347\n",
      "984347\n"
     ]
    }
   ],
   "source": [
    "# Checking if the number of minutes from the final table and the original are the same.\n",
    "print(int(users_per_month_data['total_duration'].sum()))\n",
    "print(calls_data['duration'].sum())"
   ]
  },
  {
   "cell_type": "code",
   "execution_count": 57,
   "metadata": {
    "id": "ktgTIEiIRpuo",
    "outputId": "54c6e084-ea0e-4142-98bc-8630cbfbe91f"
   },
   "outputs": [
    {
     "name": "stdout",
     "output_type": "stream",
     "text": [
      "76051\n",
      "76051\n"
     ]
    }
   ],
   "source": [
    "# Checking if the number of messages is the same before and after the merge.\n",
    "print(\"{:.0f}\".format(users_per_month_data['total_messages'].sum()))\n",
    "print(messages_data['message_date'].count())"
   ]
  },
  {
   "cell_type": "code",
   "execution_count": 58,
   "metadata": {
    "id": "PA6_mmBZRpuo",
    "outputId": "48157dad-175f-4340-8843-065eba263835"
   },
   "outputs": [
    {
     "name": "stdout",
     "output_type": "stream",
     "text": [
      "38440763.71\n",
      "38440763.71\n"
     ]
    }
   ],
   "source": [
    "# Checking if the number of 'mb_used' are the same before and after the merge.\n",
    "print(\"{:.2f}\".format(users_per_month_data['total_data_mb'].sum()))\n",
    "print(internet_data['mb_used'].sum())"
   ]
  },
  {
   "cell_type": "markdown",
   "metadata": {
    "id": "TabX_E2oRpup"
   },
   "source": [
    "It appears that the merger was done successfully, as there is no missing data following the merge "
   ]
  },
  {
   "cell_type": "markdown",
   "metadata": {},
   "source": [
    "<div class=\"alert alert-success\">\n",
    "<b>Reviewer's comment:</b> Very good, that you've paid attention to the results validation.\n",
    "</div>\n"
   ]
  },
  {
   "cell_type": "code",
   "execution_count": 59,
   "metadata": {},
   "outputs": [
    {
     "data": {
      "text/html": [
       "<div>\n",
       "<style scoped>\n",
       "    .dataframe tbody tr th:only-of-type {\n",
       "        vertical-align: middle;\n",
       "    }\n",
       "\n",
       "    .dataframe tbody tr th {\n",
       "        vertical-align: top;\n",
       "    }\n",
       "\n",
       "    .dataframe thead th {\n",
       "        text-align: right;\n",
       "    }\n",
       "</style>\n",
       "<table border=\"1\" class=\"dataframe\">\n",
       "  <thead>\n",
       "    <tr style=\"text-align: right;\">\n",
       "      <th></th>\n",
       "      <th>user_id</th>\n",
       "      <th>month</th>\n",
       "      <th>total_calls</th>\n",
       "      <th>total_duration</th>\n",
       "      <th>total_messages</th>\n",
       "      <th>total_data_mb</th>\n",
       "      <th>total_data_gb</th>\n",
       "      <th>plan</th>\n",
       "    </tr>\n",
       "  </thead>\n",
       "  <tbody>\n",
       "    <tr>\n",
       "      <td>93</td>\n",
       "      <td>1027</td>\n",
       "      <td>12.0</td>\n",
       "      <td>40.0</td>\n",
       "      <td>293.0</td>\n",
       "      <td>13.0</td>\n",
       "      <td>14411.53</td>\n",
       "      <td>15.0</td>\n",
       "      <td>surf</td>\n",
       "    </tr>\n",
       "    <tr>\n",
       "      <td>1960</td>\n",
       "      <td>1427</td>\n",
       "      <td>6.0</td>\n",
       "      <td>31.0</td>\n",
       "      <td>303.0</td>\n",
       "      <td>NaN</td>\n",
       "      <td>12372.50</td>\n",
       "      <td>13.0</td>\n",
       "      <td>ultimate</td>\n",
       "    </tr>\n",
       "  </tbody>\n",
       "</table>\n",
       "</div>"
      ],
      "text/plain": [
       "      user_id  month  total_calls  total_duration  total_messages  \\\n",
       "93       1027   12.0         40.0           293.0            13.0   \n",
       "1960     1427    6.0         31.0           303.0             NaN   \n",
       "\n",
       "      total_data_mb  total_data_gb      plan  \n",
       "93         14411.53           15.0      surf  \n",
       "1960       12372.50           13.0  ultimate  "
      ]
     },
     "execution_count": 59,
     "metadata": {},
     "output_type": "execute_result"
    }
   ],
   "source": [
    "users_per_month_data.sample(2)"
   ]
  },
  {
   "cell_type": "markdown",
   "metadata": {},
   "source": [
    "One of the passes of sample showed a NaN in different columns let's check for nulls in the data."
   ]
  },
  {
   "cell_type": "code",
   "execution_count": 60,
   "metadata": {},
   "outputs": [
    {
     "data": {
      "text/plain": [
       "user_id             0\n",
       "month              10\n",
       "total_calls        47\n",
       "total_duration     47\n",
       "total_messages    497\n",
       "total_data_mb      26\n",
       "total_data_gb      26\n",
       "plan                0\n",
       "dtype: int64"
      ]
     },
     "execution_count": 60,
     "metadata": {},
     "output_type": "execute_result"
    }
   ],
   "source": [
    "users_per_month_data.isna().sum()"
   ]
  },
  {
   "cell_type": "markdown",
   "metadata": {},
   "source": [
    "'Month' has 10 nulls, that's interesting.\n",
    "Although I can understand the nulls in the other columns, no information on messages for example, month should have all the information because the date ranges from which we extracted it were intact, unless there were empty dates, which I don't recall observing…<br>\n",
    "Let's find out."
   ]
  },
  {
   "cell_type": "code",
   "execution_count": 61,
   "metadata": {},
   "outputs": [
    {
     "data": {
      "text/html": [
       "<div>\n",
       "<style scoped>\n",
       "    .dataframe tbody tr th:only-of-type {\n",
       "        vertical-align: middle;\n",
       "    }\n",
       "\n",
       "    .dataframe tbody tr th {\n",
       "        vertical-align: top;\n",
       "    }\n",
       "\n",
       "    .dataframe thead th {\n",
       "        text-align: right;\n",
       "    }\n",
       "</style>\n",
       "<table border=\"1\" class=\"dataframe\">\n",
       "  <thead>\n",
       "    <tr style=\"text-align: right;\">\n",
       "      <th></th>\n",
       "      <th>user_id</th>\n",
       "      <th>month</th>\n",
       "      <th>total_calls</th>\n",
       "      <th>total_duration</th>\n",
       "      <th>total_messages</th>\n",
       "      <th>total_data_mb</th>\n",
       "      <th>total_data_gb</th>\n",
       "      <th>plan</th>\n",
       "    </tr>\n",
       "  </thead>\n",
       "  <tbody>\n",
       "    <tr>\n",
       "      <td>2293</td>\n",
       "      <td>1025</td>\n",
       "      <td>NaN</td>\n",
       "      <td>NaN</td>\n",
       "      <td>NaN</td>\n",
       "      <td>NaN</td>\n",
       "      <td>NaN</td>\n",
       "      <td>NaN</td>\n",
       "      <td>ultimate</td>\n",
       "    </tr>\n",
       "    <tr>\n",
       "      <td>2294</td>\n",
       "      <td>1129</td>\n",
       "      <td>NaN</td>\n",
       "      <td>NaN</td>\n",
       "      <td>NaN</td>\n",
       "      <td>NaN</td>\n",
       "      <td>NaN</td>\n",
       "      <td>NaN</td>\n",
       "      <td>surf</td>\n",
       "    </tr>\n",
       "    <tr>\n",
       "      <td>2295</td>\n",
       "      <td>1143</td>\n",
       "      <td>NaN</td>\n",
       "      <td>NaN</td>\n",
       "      <td>NaN</td>\n",
       "      <td>NaN</td>\n",
       "      <td>NaN</td>\n",
       "      <td>NaN</td>\n",
       "      <td>surf</td>\n",
       "    </tr>\n",
       "    <tr>\n",
       "      <td>2296</td>\n",
       "      <td>1269</td>\n",
       "      <td>NaN</td>\n",
       "      <td>NaN</td>\n",
       "      <td>NaN</td>\n",
       "      <td>NaN</td>\n",
       "      <td>NaN</td>\n",
       "      <td>NaN</td>\n",
       "      <td>ultimate</td>\n",
       "    </tr>\n",
       "    <tr>\n",
       "      <td>2297</td>\n",
       "      <td>1275</td>\n",
       "      <td>NaN</td>\n",
       "      <td>NaN</td>\n",
       "      <td>NaN</td>\n",
       "      <td>NaN</td>\n",
       "      <td>NaN</td>\n",
       "      <td>NaN</td>\n",
       "      <td>ultimate</td>\n",
       "    </tr>\n",
       "    <tr>\n",
       "      <td>2298</td>\n",
       "      <td>1307</td>\n",
       "      <td>NaN</td>\n",
       "      <td>NaN</td>\n",
       "      <td>NaN</td>\n",
       "      <td>NaN</td>\n",
       "      <td>NaN</td>\n",
       "      <td>NaN</td>\n",
       "      <td>surf</td>\n",
       "    </tr>\n",
       "    <tr>\n",
       "      <td>2299</td>\n",
       "      <td>1319</td>\n",
       "      <td>NaN</td>\n",
       "      <td>NaN</td>\n",
       "      <td>NaN</td>\n",
       "      <td>NaN</td>\n",
       "      <td>NaN</td>\n",
       "      <td>NaN</td>\n",
       "      <td>surf</td>\n",
       "    </tr>\n",
       "    <tr>\n",
       "      <td>2300</td>\n",
       "      <td>1378</td>\n",
       "      <td>NaN</td>\n",
       "      <td>NaN</td>\n",
       "      <td>NaN</td>\n",
       "      <td>NaN</td>\n",
       "      <td>NaN</td>\n",
       "      <td>NaN</td>\n",
       "      <td>surf</td>\n",
       "    </tr>\n",
       "    <tr>\n",
       "      <td>2301</td>\n",
       "      <td>1463</td>\n",
       "      <td>NaN</td>\n",
       "      <td>NaN</td>\n",
       "      <td>NaN</td>\n",
       "      <td>NaN</td>\n",
       "      <td>NaN</td>\n",
       "      <td>NaN</td>\n",
       "      <td>ultimate</td>\n",
       "    </tr>\n",
       "    <tr>\n",
       "      <td>2302</td>\n",
       "      <td>1473</td>\n",
       "      <td>NaN</td>\n",
       "      <td>NaN</td>\n",
       "      <td>NaN</td>\n",
       "      <td>NaN</td>\n",
       "      <td>NaN</td>\n",
       "      <td>NaN</td>\n",
       "      <td>surf</td>\n",
       "    </tr>\n",
       "  </tbody>\n",
       "</table>\n",
       "</div>"
      ],
      "text/plain": [
       "      user_id  month  total_calls  total_duration  total_messages  \\\n",
       "2293     1025    NaN          NaN             NaN             NaN   \n",
       "2294     1129    NaN          NaN             NaN             NaN   \n",
       "2295     1143    NaN          NaN             NaN             NaN   \n",
       "2296     1269    NaN          NaN             NaN             NaN   \n",
       "2297     1275    NaN          NaN             NaN             NaN   \n",
       "2298     1307    NaN          NaN             NaN             NaN   \n",
       "2299     1319    NaN          NaN             NaN             NaN   \n",
       "2300     1378    NaN          NaN             NaN             NaN   \n",
       "2301     1463    NaN          NaN             NaN             NaN   \n",
       "2302     1473    NaN          NaN             NaN             NaN   \n",
       "\n",
       "      total_data_mb  total_data_gb      plan  \n",
       "2293            NaN            NaN  ultimate  \n",
       "2294            NaN            NaN      surf  \n",
       "2295            NaN            NaN      surf  \n",
       "2296            NaN            NaN  ultimate  \n",
       "2297            NaN            NaN  ultimate  \n",
       "2298            NaN            NaN      surf  \n",
       "2299            NaN            NaN      surf  \n",
       "2300            NaN            NaN      surf  \n",
       "2301            NaN            NaN  ultimate  \n",
       "2302            NaN            NaN      surf  "
      ]
     },
     "execution_count": 61,
     "metadata": {},
     "output_type": "execute_result"
    }
   ],
   "source": [
    "users_per_month_data.loc[users_per_month_data['month'].isna()]"
   ]
  },
  {
   "cell_type": "markdown",
   "metadata": {},
   "source": [
    "These rows appear to be blank, I have no idea where they came from, since we have those 500 unique users we're after. Perhaps it has something to do with the merge with 'plans_data'?<br>\n",
    "However, since they don't contribute to our research, it is safe to remove them, but let's look into it further."
   ]
  },
  {
   "cell_type": "markdown",
   "metadata": {},
   "source": [
    "<div class=\"alert alert-warning\">\n",
    "<b>Reviewer's comment:</b> That result caused by \"outer\" merge condition.\n",
    "</div>\n"
   ]
  },
  {
   "cell_type": "code",
   "execution_count": 62,
   "metadata": {},
   "outputs": [],
   "source": [
    "# Saving the rows with the empty users into 'empty_users' variable.\n",
    "empty_users = users_per_month_data.loc[users_per_month_data['month'].isna()]['user_id']"
   ]
  },
  {
   "cell_type": "code",
   "execution_count": 63,
   "metadata": {},
   "outputs": [
    {
     "data": {
      "text/html": [
       "<div>\n",
       "<style scoped>\n",
       "    .dataframe tbody tr th:only-of-type {\n",
       "        vertical-align: middle;\n",
       "    }\n",
       "\n",
       "    .dataframe tbody tr th {\n",
       "        vertical-align: top;\n",
       "    }\n",
       "\n",
       "    .dataframe thead th {\n",
       "        text-align: right;\n",
       "    }\n",
       "</style>\n",
       "<table border=\"1\" class=\"dataframe\">\n",
       "  <thead>\n",
       "    <tr style=\"text-align: right;\">\n",
       "      <th></th>\n",
       "      <th>id</th>\n",
       "      <th>user_id</th>\n",
       "      <th>call_date</th>\n",
       "      <th>duration</th>\n",
       "      <th>month</th>\n",
       "    </tr>\n",
       "  </thead>\n",
       "  <tbody>\n",
       "  </tbody>\n",
       "</table>\n",
       "</div>"
      ],
      "text/plain": [
       "Empty DataFrame\n",
       "Columns: [id, user_id, call_date, duration, month]\n",
       "Index: []"
      ]
     },
     "execution_count": 63,
     "metadata": {},
     "output_type": "execute_result"
    }
   ],
   "source": [
    "# Checking if these row exist in the data prior to merging.\n",
    "calls_data.query('user_id in @empty_users')"
   ]
  },
  {
   "cell_type": "code",
   "execution_count": 64,
   "metadata": {},
   "outputs": [
    {
     "data": {
      "text/html": [
       "<div>\n",
       "<style scoped>\n",
       "    .dataframe tbody tr th:only-of-type {\n",
       "        vertical-align: middle;\n",
       "    }\n",
       "\n",
       "    .dataframe tbody tr th {\n",
       "        vertical-align: top;\n",
       "    }\n",
       "\n",
       "    .dataframe thead th {\n",
       "        text-align: right;\n",
       "    }\n",
       "</style>\n",
       "<table border=\"1\" class=\"dataframe\">\n",
       "  <thead>\n",
       "    <tr style=\"text-align: right;\">\n",
       "      <th></th>\n",
       "      <th>id</th>\n",
       "      <th>user_id</th>\n",
       "      <th>message_date</th>\n",
       "      <th>month</th>\n",
       "    </tr>\n",
       "  </thead>\n",
       "  <tbody>\n",
       "  </tbody>\n",
       "</table>\n",
       "</div>"
      ],
      "text/plain": [
       "Empty DataFrame\n",
       "Columns: [id, user_id, message_date, month]\n",
       "Index: []"
      ]
     },
     "execution_count": 64,
     "metadata": {},
     "output_type": "execute_result"
    }
   ],
   "source": [
    "# Checking if these row exist in the data prior to merging.\n",
    "messages_data.query('user_id in @empty_users')"
   ]
  },
  {
   "cell_type": "code",
   "execution_count": 65,
   "metadata": {},
   "outputs": [
    {
     "data": {
      "text/html": [
       "<div>\n",
       "<style scoped>\n",
       "    .dataframe tbody tr th:only-of-type {\n",
       "        vertical-align: middle;\n",
       "    }\n",
       "\n",
       "    .dataframe tbody tr th {\n",
       "        vertical-align: top;\n",
       "    }\n",
       "\n",
       "    .dataframe thead th {\n",
       "        text-align: right;\n",
       "    }\n",
       "</style>\n",
       "<table border=\"1\" class=\"dataframe\">\n",
       "  <thead>\n",
       "    <tr style=\"text-align: right;\">\n",
       "      <th></th>\n",
       "      <th>id</th>\n",
       "      <th>user_id</th>\n",
       "      <th>session_date</th>\n",
       "      <th>mb_used</th>\n",
       "      <th>month</th>\n",
       "    </tr>\n",
       "  </thead>\n",
       "  <tbody>\n",
       "  </tbody>\n",
       "</table>\n",
       "</div>"
      ],
      "text/plain": [
       "Empty DataFrame\n",
       "Columns: [id, user_id, session_date, mb_used, month]\n",
       "Index: []"
      ]
     },
     "execution_count": 65,
     "metadata": {},
     "output_type": "execute_result"
    }
   ],
   "source": [
    "# Checking if these row exist in the data prior to merging.\n",
    "internet_data.query('user_id in @empty_users')"
   ]
  },
  {
   "cell_type": "code",
   "execution_count": 66,
   "metadata": {
    "scrolled": true
   },
   "outputs": [
    {
     "data": {
      "text/html": [
       "<div>\n",
       "<style scoped>\n",
       "    .dataframe tbody tr th:only-of-type {\n",
       "        vertical-align: middle;\n",
       "    }\n",
       "\n",
       "    .dataframe tbody tr th {\n",
       "        vertical-align: top;\n",
       "    }\n",
       "\n",
       "    .dataframe thead th {\n",
       "        text-align: right;\n",
       "    }\n",
       "</style>\n",
       "<table border=\"1\" class=\"dataframe\">\n",
       "  <thead>\n",
       "    <tr style=\"text-align: right;\">\n",
       "      <th></th>\n",
       "      <th>user_id</th>\n",
       "      <th>first_name</th>\n",
       "      <th>last_name</th>\n",
       "      <th>age</th>\n",
       "      <th>city</th>\n",
       "      <th>reg_date</th>\n",
       "      <th>plan</th>\n",
       "      <th>churn_date</th>\n",
       "    </tr>\n",
       "  </thead>\n",
       "  <tbody>\n",
       "    <tr>\n",
       "      <td>25</td>\n",
       "      <td>1025</td>\n",
       "      <td>jess</td>\n",
       "      <td>wilkinson</td>\n",
       "      <td>64</td>\n",
       "      <td>atlanta-sandy springs-roswell, ga msa</td>\n",
       "      <td>2018-10-28</td>\n",
       "      <td>ultimate</td>\n",
       "      <td>NaT</td>\n",
       "    </tr>\n",
       "    <tr>\n",
       "      <td>129</td>\n",
       "      <td>1129</td>\n",
       "      <td>marin</td>\n",
       "      <td>bolton</td>\n",
       "      <td>70</td>\n",
       "      <td>baton rouge, la msa</td>\n",
       "      <td>2018-11-10</td>\n",
       "      <td>surf</td>\n",
       "      <td>2018-12-27</td>\n",
       "    </tr>\n",
       "    <tr>\n",
       "      <td>143</td>\n",
       "      <td>1143</td>\n",
       "      <td>lorina</td>\n",
       "      <td>stevens</td>\n",
       "      <td>69</td>\n",
       "      <td>cincinnati, oh-ky-in msa</td>\n",
       "      <td>2018-10-26</td>\n",
       "      <td>surf</td>\n",
       "      <td>NaT</td>\n",
       "    </tr>\n",
       "    <tr>\n",
       "      <td>269</td>\n",
       "      <td>1269</td>\n",
       "      <td>irving</td>\n",
       "      <td>thompson</td>\n",
       "      <td>39</td>\n",
       "      <td>dallas-fort worth-arlington, tx msa</td>\n",
       "      <td>2018-09-13</td>\n",
       "      <td>ultimate</td>\n",
       "      <td>2018-12-15</td>\n",
       "    </tr>\n",
       "    <tr>\n",
       "      <td>275</td>\n",
       "      <td>1275</td>\n",
       "      <td>elvie</td>\n",
       "      <td>velazquez</td>\n",
       "      <td>33</td>\n",
       "      <td>new york-newark-jersey city, ny-nj-pa msa</td>\n",
       "      <td>2018-11-29</td>\n",
       "      <td>ultimate</td>\n",
       "      <td>NaT</td>\n",
       "    </tr>\n",
       "    <tr>\n",
       "      <td>307</td>\n",
       "      <td>1307</td>\n",
       "      <td>kristopher</td>\n",
       "      <td>lang</td>\n",
       "      <td>28</td>\n",
       "      <td>boston-cambridge-newton, ma-nh msa</td>\n",
       "      <td>2018-12-31</td>\n",
       "      <td>surf</td>\n",
       "      <td>NaT</td>\n",
       "    </tr>\n",
       "    <tr>\n",
       "      <td>319</td>\n",
       "      <td>1319</td>\n",
       "      <td>eliseo</td>\n",
       "      <td>carson</td>\n",
       "      <td>21</td>\n",
       "      <td>colorado springs, co msa</td>\n",
       "      <td>2018-06-17</td>\n",
       "      <td>surf</td>\n",
       "      <td>NaT</td>\n",
       "    </tr>\n",
       "    <tr>\n",
       "      <td>378</td>\n",
       "      <td>1378</td>\n",
       "      <td>mckinley</td>\n",
       "      <td>clayton</td>\n",
       "      <td>22</td>\n",
       "      <td>denver-aurora-lakewood, co msa</td>\n",
       "      <td>2018-12-17</td>\n",
       "      <td>surf</td>\n",
       "      <td>NaT</td>\n",
       "    </tr>\n",
       "    <tr>\n",
       "      <td>463</td>\n",
       "      <td>1463</td>\n",
       "      <td>dinorah</td>\n",
       "      <td>simmons</td>\n",
       "      <td>30</td>\n",
       "      <td>atlanta-sandy springs-roswell, ga msa</td>\n",
       "      <td>2018-11-27</td>\n",
       "      <td>ultimate</td>\n",
       "      <td>NaT</td>\n",
       "    </tr>\n",
       "    <tr>\n",
       "      <td>473</td>\n",
       "      <td>1473</td>\n",
       "      <td>kirk</td>\n",
       "      <td>velez</td>\n",
       "      <td>61</td>\n",
       "      <td>louisville/jefferson county, ky-in msa</td>\n",
       "      <td>2018-12-31</td>\n",
       "      <td>surf</td>\n",
       "      <td>NaT</td>\n",
       "    </tr>\n",
       "  </tbody>\n",
       "</table>\n",
       "</div>"
      ],
      "text/plain": [
       "     user_id  first_name  last_name  age  \\\n",
       "25      1025        jess  wilkinson   64   \n",
       "129     1129       marin     bolton   70   \n",
       "143     1143      lorina    stevens   69   \n",
       "269     1269      irving   thompson   39   \n",
       "275     1275       elvie  velazquez   33   \n",
       "307     1307  kristopher       lang   28   \n",
       "319     1319      eliseo     carson   21   \n",
       "378     1378    mckinley    clayton   22   \n",
       "463     1463     dinorah    simmons   30   \n",
       "473     1473        kirk      velez   61   \n",
       "\n",
       "                                          city   reg_date      plan churn_date  \n",
       "25       atlanta-sandy springs-roswell, ga msa 2018-10-28  ultimate        NaT  \n",
       "129                        baton rouge, la msa 2018-11-10      surf 2018-12-27  \n",
       "143                   cincinnati, oh-ky-in msa 2018-10-26      surf        NaT  \n",
       "269        dallas-fort worth-arlington, tx msa 2018-09-13  ultimate 2018-12-15  \n",
       "275  new york-newark-jersey city, ny-nj-pa msa 2018-11-29  ultimate        NaT  \n",
       "307         boston-cambridge-newton, ma-nh msa 2018-12-31      surf        NaT  \n",
       "319                   colorado springs, co msa 2018-06-17      surf        NaT  \n",
       "378             denver-aurora-lakewood, co msa 2018-12-17      surf        NaT  \n",
       "463      atlanta-sandy springs-roswell, ga msa 2018-11-27  ultimate        NaT  \n",
       "473     louisville/jefferson county, ky-in msa 2018-12-31      surf        NaT  "
      ]
     },
     "execution_count": 66,
     "metadata": {},
     "output_type": "execute_result"
    }
   ],
   "source": [
    "# Checking if these row exist in the data prior to merging.\n",
    "users_data.query('user_id in @empty_users')"
   ]
  },
  {
   "cell_type": "markdown",
   "metadata": {},
   "source": [
    "It looks like these users only apear in 'users_data' and not in our other datasets, that is why these rows are empty in our merged data set.<br> since they contain no other information about calls, messages or data usage it is best to remove them, they don't count as a sagnificant amount of our users data anyways, about 2%."
   ]
  },
  {
   "cell_type": "code",
   "execution_count": 67,
   "metadata": {},
   "outputs": [],
   "source": [
    "# Gathering the indexes of the empty user rows in 'users_per_month_data'.\n",
    "empty_index = users_per_month_data.loc[users_per_month_data['month'].isna()].index"
   ]
  },
  {
   "cell_type": "code",
   "execution_count": 68,
   "metadata": {},
   "outputs": [],
   "source": [
    "# Droping these rows.\n",
    "users_per_month_data.drop(empty_index , inplace=True)"
   ]
  },
  {
   "cell_type": "code",
   "execution_count": 69,
   "metadata": {},
   "outputs": [
    {
     "data": {
      "text/plain": [
       "user_id             0\n",
       "month               0\n",
       "total_calls        37\n",
       "total_duration     37\n",
       "total_messages    487\n",
       "total_data_mb      16\n",
       "total_data_gb      16\n",
       "plan                0\n",
       "dtype: int64"
      ]
     },
     "execution_count": 69,
     "metadata": {},
     "output_type": "execute_result"
    }
   ],
   "source": [
    "# Cheacking to see that the change was made as intended.\n",
    "users_per_month_data.isna().sum()"
   ]
  },
  {
   "cell_type": "markdown",
   "metadata": {},
   "source": [
    "Empty user rows are not included in our merge data anymore."
   ]
  },
  {
   "cell_type": "markdown",
   "metadata": {},
   "source": [
    "Now, for the rest of the missing values, I would prefer to fill them with 0, as the session in question had no data. For example, if there were no calls made, then it should register 0 instead of NaN, the same goes for messages and internet data.<br>\n",
    "I don't feel comfterable dropping them as it is logical that someone didn't send messages the entire month but did use calls and interent.<br>\n",
    "Let's do it."
   ]
  },
  {
   "cell_type": "code",
   "execution_count": 70,
   "metadata": {},
   "outputs": [
    {
     "name": "stdout",
     "output_type": "stream",
     "text": [
      "number of nulls in the data:\n",
      "\n",
      "user_id           0\n",
      "month             0\n",
      "total_calls       0\n",
      "total_duration    0\n",
      "total_messages    0\n",
      "total_data_mb     0\n",
      "total_data_gb     0\n",
      "plan              0\n",
      "dtype: int64\n"
     ]
    }
   ],
   "source": [
    "users_per_month_data.fillna(0, inplace=True)\n",
    "print('number of nulls in the data:')\n",
    "print()\n",
    "print(users_per_month_data.isna().sum())"
   ]
  },
  {
   "cell_type": "markdown",
   "metadata": {},
   "source": [
    "All NaN values are filled with 0."
   ]
  },
  {
   "cell_type": "markdown",
   "metadata": {},
   "source": [
    "Now, one last step before we create our function, we need to use 'plans_data' to get the right pricing for the plan, lets split the data to 2, one for Surf and on for Ultimate"
   ]
  },
  {
   "cell_type": "code",
   "execution_count": 71,
   "metadata": {},
   "outputs": [
    {
     "data": {
      "text/html": [
       "<div>\n",
       "<style scoped>\n",
       "    .dataframe tbody tr th:only-of-type {\n",
       "        vertical-align: middle;\n",
       "    }\n",
       "\n",
       "    .dataframe tbody tr th {\n",
       "        vertical-align: top;\n",
       "    }\n",
       "\n",
       "    .dataframe thead th {\n",
       "        text-align: right;\n",
       "    }\n",
       "</style>\n",
       "<table border=\"1\" class=\"dataframe\">\n",
       "  <thead>\n",
       "    <tr style=\"text-align: right;\">\n",
       "      <th></th>\n",
       "      <th>messages_included</th>\n",
       "      <th>mb_per_month_included</th>\n",
       "      <th>minutes_included</th>\n",
       "      <th>usd_monthly_pay</th>\n",
       "      <th>usd_per_gb</th>\n",
       "      <th>usd_per_message</th>\n",
       "      <th>usd_per_minute</th>\n",
       "      <th>plan_name</th>\n",
       "    </tr>\n",
       "  </thead>\n",
       "  <tbody>\n",
       "    <tr>\n",
       "      <td>0</td>\n",
       "      <td>50</td>\n",
       "      <td>15360</td>\n",
       "      <td>500</td>\n",
       "      <td>20</td>\n",
       "      <td>10</td>\n",
       "      <td>0.03</td>\n",
       "      <td>0.03</td>\n",
       "      <td>surf</td>\n",
       "    </tr>\n",
       "  </tbody>\n",
       "</table>\n",
       "</div>"
      ],
      "text/plain": [
       "   messages_included  mb_per_month_included  minutes_included  \\\n",
       "0                 50                  15360               500   \n",
       "\n",
       "   usd_monthly_pay  usd_per_gb  usd_per_message  usd_per_minute plan_name  \n",
       "0               20          10             0.03            0.03      surf  "
      ]
     },
     "execution_count": 71,
     "metadata": {},
     "output_type": "execute_result"
    }
   ],
   "source": [
    "surf_plan = plans_data.query('plan_name == \"surf\"')\n",
    "surf_plan"
   ]
  },
  {
   "cell_type": "code",
   "execution_count": 72,
   "metadata": {
    "scrolled": true
   },
   "outputs": [
    {
     "data": {
      "text/html": [
       "<div>\n",
       "<style scoped>\n",
       "    .dataframe tbody tr th:only-of-type {\n",
       "        vertical-align: middle;\n",
       "    }\n",
       "\n",
       "    .dataframe tbody tr th {\n",
       "        vertical-align: top;\n",
       "    }\n",
       "\n",
       "    .dataframe thead th {\n",
       "        text-align: right;\n",
       "    }\n",
       "</style>\n",
       "<table border=\"1\" class=\"dataframe\">\n",
       "  <thead>\n",
       "    <tr style=\"text-align: right;\">\n",
       "      <th></th>\n",
       "      <th>messages_included</th>\n",
       "      <th>mb_per_month_included</th>\n",
       "      <th>minutes_included</th>\n",
       "      <th>usd_monthly_pay</th>\n",
       "      <th>usd_per_gb</th>\n",
       "      <th>usd_per_message</th>\n",
       "      <th>usd_per_minute</th>\n",
       "      <th>plan_name</th>\n",
       "    </tr>\n",
       "  </thead>\n",
       "  <tbody>\n",
       "    <tr>\n",
       "      <td>0</td>\n",
       "      <td>1000</td>\n",
       "      <td>30720</td>\n",
       "      <td>3000</td>\n",
       "      <td>70</td>\n",
       "      <td>7</td>\n",
       "      <td>0.01</td>\n",
       "      <td>0.01</td>\n",
       "      <td>ultimate</td>\n",
       "    </tr>\n",
       "  </tbody>\n",
       "</table>\n",
       "</div>"
      ],
      "text/plain": [
       "   messages_included  mb_per_month_included  minutes_included  \\\n",
       "0               1000                  30720              3000   \n",
       "\n",
       "   usd_monthly_pay  usd_per_gb  usd_per_message  usd_per_minute plan_name  \n",
       "0               70           7             0.01            0.01  ultimate  "
      ]
     },
     "execution_count": 72,
     "metadata": {},
     "output_type": "execute_result"
    }
   ],
   "source": [
    "ultimate_plan = plans_data.query('plan_name == \"ultimate\"')\n",
    "ultimate_plan.reset_index(inplace=True, drop=True)\n",
    "ultimate_plan"
   ]
  },
  {
   "cell_type": "markdown",
   "metadata": {},
   "source": [
    "4. Now, let's create a function that will calculate the revenue."
   ]
  },
  {
   "cell_type": "code",
   "execution_count": 73,
   "metadata": {},
   "outputs": [],
   "source": [
    "def revenue(row):\n",
    "    # by using row accessor we will take each row of each month per user separately\n",
    "    # so we're creating variables of calls/messages/internet/plan inside the function\n",
    "    # and we can operate them for each user.\n",
    "    calls = row['total_duration']\n",
    "    messages = row['total_messages']\n",
    "    interent = row['total_data_gb']\n",
    "    plan = row['plan']\n",
    "    \n",
    "    # Surf plan\n",
    "    surf_month_cahrge = float(surf_plan['usd_monthly_pay'])                  # Monthly cost of the plan\n",
    "    surf_month_calls = float(surf_plan['minutes_included'])                  # Monthly call duration included\n",
    "    surf_month_messages = float(surf_plan['messages_included'])              # Monthly amount of messages\n",
    "    surf_month_internet = float(surf_plan['mb_per_month_included']) / 1024   # Monthly amount of data usage in GB.\n",
    "    surf_call_chrage = float(surf_plan['usd_per_minute'])                    # Charge per minute of call over allowed time.\n",
    "    surf_message_chrage = float(surf_plan['usd_per_message'])                # Charge per message over allowed amount.\n",
    "    surf_gb_chrage = float(surf_plan['usd_per_gb'])                          # Charge per GB of data over allowed volume.\n",
    "    if plan == 'surf':\n",
    "        \n",
    "        # Check if call exceeded the allowed time, if it did than multiply by the price specified in the plan,\n",
    "        # and add that charge to the monthly charge of the plan.\n",
    "        if calls > surf_month_calls:                                     \n",
    "            surf_month_cahrge += (calls - surf_month_calls) * surf_call_chrage\n",
    "            \n",
    "        # Check if messages exceeded the allowed number, if it did than multiply by the price specified in the plan,\n",
    "        # and add that charge to the monthly charge of the plan.\n",
    "        elif messages > surf_month_messages:\n",
    "            surf_month_cahrge += (messages - surf_month_messages) * surf_message_chrage\n",
    "            \n",
    "        # Check if internet exceeded the allowed volume, if it did than multiply by the price specified in the plan,\n",
    "        # and add that charge to the monthly charge of the plan.\n",
    "        elif interent > surf_month_internet:\n",
    "            internet_usage_month = (interent - surf_month_internet)        # Subtracting the actual usage from the amount included in the plan.\n",
    "            surf_month_cahrge += internet_usage_month * surf_gb_chrage     # Multiplying by the price per GB over the limit.\n",
    "            \n",
    "        # Returning the total charge for the month with all calculations.\n",
    "        return surf_month_cahrge\n",
    "\n",
    "    # Ultimate plan\n",
    "    ultimate_month_cahrge = float(ultimate_plan['usd_monthly_pay'])                 # Monthly cost of the plan\n",
    "    ultimate_month_calls = float(ultimate_plan['minutes_included'])                 # Monthly call duration included\n",
    "    ultimate_month_messages = float(ultimate_plan['messages_included'])             # Monthly amount of messages\n",
    "    ultimate_month_internet = float(ultimate_plan['mb_per_month_included']) / 1024  # Monthly amount of data usage in GB.\n",
    "    ultimate_call_chrage = float(ultimate_plan['usd_per_minute'])                   # Charge per minute of call over allowed time.\n",
    "    ultimate_message_chrage = float(ultimate_plan['usd_per_message'])               # Charge per message over allowed amount.\n",
    "    ultimate_gb_chrage = float(ultimate_plan['usd_per_gb'])                         # Charge per GB of data over allowed volume.\n",
    "    if plan == 'ultimate':\n",
    "        \n",
    "        # Check if call exceeded the allowed time, if it did than multiply by the price specified in the plan,\n",
    "        # and add that charge to the monthly charge of the plan.\n",
    "        if calls > ultimate_month_calls:\n",
    "            ultimate_month_cahrge += (calls - ultimate_month_calls) * ultimate_call_chrage\n",
    "            \n",
    "        # Check if messages exceeded the allowed number, if it did than multiply by the price specified in the plan,\n",
    "        # and add that charge to the monthly charge of the plan.\n",
    "        elif messages > ultimate_month_messages:\n",
    "            ultimate_month_cahrge += (messages - ultimate_month_messages) * ultimate_message_chrage\n",
    "            \n",
    "        # Check if internet exceeded the allowed volume, if it did than multiply by the price specified in the plan,\n",
    "        # and add that charge to the monthly charge of the plan.    \n",
    "        elif interent > ultimate_month_internet:\n",
    "            internet_usage_month = (interent - ultimate_month_internet)         # Subtracting the actual usage from the amount included in the plan.\n",
    "            ultimate_month_cahrge += internet_usage_month * ultimate_gb_chrage  # Multiplying by the price per GB over the limit.\n",
    "        \n",
    "        # Returning the total charge for the month with all calculations.\n",
    "        return ultimate_month_cahrge"
   ]
  },
  {
   "cell_type": "markdown",
   "metadata": {},
   "source": [
    "<div class=\"alert alert-warning\">\n",
    "<b>Reviewer's comment:</b> Okay, this function is acceptable, but I recommend you to vectorize this operations. The are arithmetic operations for 3-5 lines of code (charge for calls, messages, internet and the general charge), but you created a function that takes up my entire screen. In addition, <code>apply</code> works very slowly on large datasets, and on technical interviews it could be a \"red flag\". So, it is better to avoid using it from the beginning :)\n",
    "</div>\n"
   ]
  },
  {
   "cell_type": "markdown",
   "metadata": {},
   "source": [
    "5. Let's aplly the function to 'users_per_month_data'."
   ]
  },
  {
   "cell_type": "code",
   "execution_count": 74,
   "metadata": {},
   "outputs": [],
   "source": [
    "# now we apply our function to every row of our data.\n",
    "users_per_month_data['monthly_revenue'] = users_per_month_data.apply(revenue, axis=1)"
   ]
  },
  {
   "cell_type": "code",
   "execution_count": 75,
   "metadata": {},
   "outputs": [
    {
     "data": {
      "text/html": [
       "<div>\n",
       "<style scoped>\n",
       "    .dataframe tbody tr th:only-of-type {\n",
       "        vertical-align: middle;\n",
       "    }\n",
       "\n",
       "    .dataframe tbody tr th {\n",
       "        vertical-align: top;\n",
       "    }\n",
       "\n",
       "    .dataframe thead th {\n",
       "        text-align: right;\n",
       "    }\n",
       "</style>\n",
       "<table border=\"1\" class=\"dataframe\">\n",
       "  <thead>\n",
       "    <tr style=\"text-align: right;\">\n",
       "      <th></th>\n",
       "      <th>user_id</th>\n",
       "      <th>month</th>\n",
       "      <th>total_calls</th>\n",
       "      <th>total_duration</th>\n",
       "      <th>total_messages</th>\n",
       "      <th>total_data_mb</th>\n",
       "      <th>total_data_gb</th>\n",
       "      <th>plan</th>\n",
       "      <th>monthly_revenue</th>\n",
       "    </tr>\n",
       "  </thead>\n",
       "  <tbody>\n",
       "    <tr>\n",
       "      <td>911</td>\n",
       "      <td>1195</td>\n",
       "      <td>10.0</td>\n",
       "      <td>74.0</td>\n",
       "      <td>688.0</td>\n",
       "      <td>119.0</td>\n",
       "      <td>13622.56</td>\n",
       "      <td>14.0</td>\n",
       "      <td>surf</td>\n",
       "      <td>25.64</td>\n",
       "    </tr>\n",
       "    <tr>\n",
       "      <td>2100</td>\n",
       "      <td>1462</td>\n",
       "      <td>12.0</td>\n",
       "      <td>47.0</td>\n",
       "      <td>445.0</td>\n",
       "      <td>87.0</td>\n",
       "      <td>14831.44</td>\n",
       "      <td>15.0</td>\n",
       "      <td>ultimate</td>\n",
       "      <td>70.00</td>\n",
       "    </tr>\n",
       "    <tr>\n",
       "      <td>2133</td>\n",
       "      <td>1470</td>\n",
       "      <td>5.0</td>\n",
       "      <td>23.0</td>\n",
       "      <td>240.0</td>\n",
       "      <td>51.0</td>\n",
       "      <td>0.00</td>\n",
       "      <td>0.0</td>\n",
       "      <td>surf</td>\n",
       "      <td>20.03</td>\n",
       "    </tr>\n",
       "    <tr>\n",
       "      <td>2157</td>\n",
       "      <td>1475</td>\n",
       "      <td>9.0</td>\n",
       "      <td>33.0</td>\n",
       "      <td>289.0</td>\n",
       "      <td>72.0</td>\n",
       "      <td>17234.78</td>\n",
       "      <td>17.0</td>\n",
       "      <td>ultimate</td>\n",
       "      <td>70.00</td>\n",
       "    </tr>\n",
       "    <tr>\n",
       "      <td>388</td>\n",
       "      <td>1081</td>\n",
       "      <td>11.0</td>\n",
       "      <td>19.0</td>\n",
       "      <td>181.0</td>\n",
       "      <td>31.0</td>\n",
       "      <td>13776.53</td>\n",
       "      <td>14.0</td>\n",
       "      <td>surf</td>\n",
       "      <td>20.00</td>\n",
       "    </tr>\n",
       "  </tbody>\n",
       "</table>\n",
       "</div>"
      ],
      "text/plain": [
       "      user_id  month  total_calls  total_duration  total_messages  \\\n",
       "911      1195   10.0         74.0           688.0           119.0   \n",
       "2100     1462   12.0         47.0           445.0            87.0   \n",
       "2133     1470    5.0         23.0           240.0            51.0   \n",
       "2157     1475    9.0         33.0           289.0            72.0   \n",
       "388      1081   11.0         19.0           181.0            31.0   \n",
       "\n",
       "      total_data_mb  total_data_gb      plan  monthly_revenue  \n",
       "911        13622.56           14.0      surf            25.64  \n",
       "2100       14831.44           15.0  ultimate            70.00  \n",
       "2133           0.00            0.0      surf            20.03  \n",
       "2157       17234.78           17.0  ultimate            70.00  \n",
       "388        13776.53           14.0      surf            20.00  "
      ]
     },
     "execution_count": 75,
     "metadata": {},
     "output_type": "execute_result"
    }
   ],
   "source": [
    "users_per_month_data.sample(5)"
   ]
  },
  {
   "cell_type": "markdown",
   "metadata": {},
   "source": [
    "<div class=\"alert alert-success\">\n",
    "<b>Reviewer's comment:</b> Good, your result is correct.\n",
    "</div>\n"
   ]
  },
  {
   "cell_type": "markdown",
   "metadata": {},
   "source": [
    "##### Conclusion\n",
    "In order to calculate the revenue per user per month, we had to extract each month from the corresponding tables of data for calls, messages, and internet.<br>\n",
    "Then, we were able to group the data for each service by month and user, we combined that data into a new table to make it easier to calculate and used the function 'revenue' to calculate the revenue per user per month according to the plan that the user is subscribed to.<br>\n",
    "We now have a new column called 'monthly_revenue' that contains the revenue for that user according to his plan at the end of the month."
   ]
  },
  {
   "cell_type": "markdown",
   "metadata": {},
   "source": [
    "----"
   ]
  },
  {
   "cell_type": "markdown",
   "metadata": {},
   "source": [
    "## 3. Analyzing the data\n",
    "<a class=\"anchor\" id=\"chapter20\"></a>\n",
    "[Go back to the Table of Contents](#table_of_contents)"
   ]
  },
  {
   "cell_type": "markdown",
   "metadata": {},
   "source": [
    "Our next step in exploring and analyzing the data is to determine the users' behavior.<br>\n",
    "Ultimately, we want to find out which plan is more profitable for the company by comparing how much service each plan requires from Megaline.<br>\n",
    "We will do it in steps:\n",
    "1. Counting how many users are in each plan.\n",
    "2. Visualizing calls data to see how the data is distributed per plan.\n",
    "3. Calculating the mean and standard deviation for calls data.\n",
    "4. Visualizing messages and internet data to see how the data is distributed per plan.\n",
    "5. Calculating the mean and standard deviation for messages and internet.\n",
    "6. Visualizing revenue data to see how the data is distributed per plan.\n",
    "7. Calculating the mean and standard deviation for revenue data.\n",
    "8. Conclude our findings."
   ]
  },
  {
   "cell_type": "markdown",
   "metadata": {},
   "source": [
    "#### Users per plan\n",
    "<a class=\"anchor\" id=\"chapter21\"></a>\n",
    "[Go back to the Table of Contents](#table_of_contents)"
   ]
  },
  {
   "cell_type": "markdown",
   "metadata": {},
   "source": [
    "1. Let's look at the amount of people using the Surf plan and the Ultimate plan."
   ]
  },
  {
   "cell_type": "code",
   "execution_count": 76,
   "metadata": {
    "scrolled": true
   },
   "outputs": [
    {
     "data": {
      "image/png": "[encoded data removed]",
      "text/plain": [
       "<Figure size 432x288 with 1 Axes>"
      ]
     },
     "metadata": {},
     "output_type": "display_data"
    }
   ],
   "source": [
    "# Plotting pie chart out of the amount of users in each plan.\n",
    "users_per_month_data[\"plan\"].value_counts().plot.pie(autopct=\"%.1f%%\", explode=[0.2, 0]);"
   ]
  },
  {
   "cell_type": "markdown",
   "metadata": {},
   "source": [
    "In our data, we see that we have more than twice as many Surf users as we do Ultimate users."
   ]
  },
  {
   "cell_type": "markdown",
   "metadata": {},
   "source": [
    "In order to avoid losing the plan for each user in the grouping process, we need to add a column, plan_id, before plotting the next graphs."
   ]
  },
  {
   "cell_type": "code",
   "execution_count": 77,
   "metadata": {},
   "outputs": [],
   "source": [
    "# Creating a column of 'plan_id' so the plan data won't disapear when grouping.\n",
    "users_per_month_data[\"plan_id\"] = users_per_month_data[\"plan\"].apply(lambda x:0 if x==\"surf\" else 1)"
   ]
  },
  {
   "cell_type": "code",
   "execution_count": 78,
   "metadata": {},
   "outputs": [],
   "source": [
    "# Grouping the data by 'user_id' and calculating mean for the columns, \n",
    "# dropping the month column as it is no longer relavent.\n",
    "grouped_user_data = users_per_month_data.groupby('user_id').mean().drop(['month'], axis='columns')"
   ]
  },
  {
   "cell_type": "code",
   "execution_count": 79,
   "metadata": {
    "scrolled": false
   },
   "outputs": [
    {
     "data": {
      "text/html": [
       "<div>\n",
       "<style scoped>\n",
       "    .dataframe tbody tr th:only-of-type {\n",
       "        vertical-align: middle;\n",
       "    }\n",
       "\n",
       "    .dataframe tbody tr th {\n",
       "        vertical-align: top;\n",
       "    }\n",
       "\n",
       "    .dataframe thead th {\n",
       "        text-align: right;\n",
       "    }\n",
       "</style>\n",
       "<table border=\"1\" class=\"dataframe\">\n",
       "  <thead>\n",
       "    <tr style=\"text-align: right;\">\n",
       "      <th></th>\n",
       "      <th>total_calls</th>\n",
       "      <th>total_duration</th>\n",
       "      <th>total_messages</th>\n",
       "      <th>total_data_mb</th>\n",
       "      <th>total_data_gb</th>\n",
       "      <th>monthly_revenue</th>\n",
       "      <th>plan_id</th>\n",
       "    </tr>\n",
       "    <tr>\n",
       "      <th>user_id</th>\n",
       "      <th></th>\n",
       "      <th></th>\n",
       "      <th></th>\n",
       "      <th></th>\n",
       "      <th></th>\n",
       "      <th></th>\n",
       "      <th></th>\n",
       "    </tr>\n",
       "  </thead>\n",
       "  <tbody>\n",
       "    <tr>\n",
       "      <td>1181</td>\n",
       "      <td>58.555556</td>\n",
       "      <td>533.333333</td>\n",
       "      <td>24.555556</td>\n",
       "      <td>15619.342222</td>\n",
       "      <td>15.666667</td>\n",
       "      <td>25.486667</td>\n",
       "      <td>0</td>\n",
       "    </tr>\n",
       "    <tr>\n",
       "      <td>1256</td>\n",
       "      <td>55.250000</td>\n",
       "      <td>499.250000</td>\n",
       "      <td>24.250000</td>\n",
       "      <td>13680.205000</td>\n",
       "      <td>13.750000</td>\n",
       "      <td>21.237500</td>\n",
       "      <td>0</td>\n",
       "    </tr>\n",
       "    <tr>\n",
       "      <td>1011</td>\n",
       "      <td>46.000000</td>\n",
       "      <td>415.285714</td>\n",
       "      <td>53.000000</td>\n",
       "      <td>18825.514286</td>\n",
       "      <td>18.857143</td>\n",
       "      <td>70.000000</td>\n",
       "      <td>1</td>\n",
       "    </tr>\n",
       "    <tr>\n",
       "      <td>1436</td>\n",
       "      <td>50.400000</td>\n",
       "      <td>453.400000</td>\n",
       "      <td>0.000000</td>\n",
       "      <td>14389.730000</td>\n",
       "      <td>14.600000</td>\n",
       "      <td>70.000000</td>\n",
       "      <td>1</td>\n",
       "    </tr>\n",
       "    <tr>\n",
       "      <td>1294</td>\n",
       "      <td>34.000000</td>\n",
       "      <td>325.666667</td>\n",
       "      <td>57.333333</td>\n",
       "      <td>17044.096667</td>\n",
       "      <td>17.000000</td>\n",
       "      <td>20.860000</td>\n",
       "      <td>0</td>\n",
       "    </tr>\n",
       "  </tbody>\n",
       "</table>\n",
       "</div>"
      ],
      "text/plain": [
       "         total_calls  total_duration  total_messages  total_data_mb  \\\n",
       "user_id                                                               \n",
       "1181       58.555556      533.333333       24.555556   15619.342222   \n",
       "1256       55.250000      499.250000       24.250000   13680.205000   \n",
       "1011       46.000000      415.285714       53.000000   18825.514286   \n",
       "1436       50.400000      453.400000        0.000000   14389.730000   \n",
       "1294       34.000000      325.666667       57.333333   17044.096667   \n",
       "\n",
       "         total_data_gb  monthly_revenue  plan_id  \n",
       "user_id                                           \n",
       "1181         15.666667        25.486667        0  \n",
       "1256         13.750000        21.237500        0  \n",
       "1011         18.857143        70.000000        1  \n",
       "1436         14.600000        70.000000        1  \n",
       "1294         17.000000        20.860000        0  "
      ]
     },
     "execution_count": 79,
     "metadata": {},
     "output_type": "execute_result"
    }
   ],
   "source": [
    "grouped_user_data.sample(5)"
   ]
  },
  {
   "cell_type": "markdown",
   "metadata": {},
   "source": [
    "#### Calls data\n",
    "<a class=\"anchor\" id=\"chapter22\"></a>\n",
    "[Go back to the Table of Contents](#table_of_contents)"
   ]
  },
  {
   "cell_type": "markdown",
   "metadata": {},
   "source": [
    "2. Let's take a look at the calls per plan."
   ]
  },
  {
   "cell_type": "code",
   "execution_count": 80,
   "metadata": {
    "scrolled": false
   },
   "outputs": [
    {
     "data": {
      "image/png": "[encoded data removed]",
      "text/plain": [
       "<Figure size 1008x360 with 2 Axes>"
      ]
     },
     "metadata": {
      "needs_background": "light"
     },
     "output_type": "display_data"
    }
   ],
   "source": [
    "fig,axes = plt.subplots(nrows=1, ncols=2,figsize=(14,5));                       # Setting figuresize and axes of the subplot\n",
    "fig.suptitle('Comparing Calls:')                                                # Creating plot title.\n",
    "sns.boxplot(x=\"plan_id\",y=\"total_calls\", data=grouped_user_data,ax=axes[0]);    # Creating a boxplot for total_calls by plan.\n",
    "axes[0].set_xticklabels([\"surf\",\"ultimate\"]);                                   # Naming X axis by plan.\n",
    "axes[0].set_title(\"Amount of calls by plan\")                          # Creating subplot title.\n",
    "sns.boxplot(x=\"plan_id\",y=\"total_duration\", data=grouped_user_data,ax=axes[1]); # Creating a boxplot for total_duration by plan.\n",
    "axes[1].set_xticklabels([\"surf\",\"ultimate\"]);                                   # Naming X axis by plan.\n",
    "axes[1].set_title(\"Total duration (mins) by plan\");                   # Creating subplot title."
   ]
  },
  {
   "cell_type": "markdown",
   "metadata": {},
   "source": [
    "<div class=\"alert alert-success\">\n",
    "<b>Reviewer's comment:</b> Glad to see that you're already familiar with the subplots conception👍\n",
    "</div>"
   ]
  },
  {
   "cell_type": "markdown",
   "metadata": {},
   "source": [
    "Same information represented in histogram with KDE."
   ]
  },
  {
   "cell_type": "code",
   "execution_count": 81,
   "metadata": {},
   "outputs": [
    {
     "data": {
      "image/png": "[encoded data removed]",
      "text/plain": [
       "<Figure size 1008x360 with 2 Axes>"
      ]
     },
     "metadata": {
      "needs_background": "light"
     },
     "output_type": "display_data"
    }
   ],
   "source": [
    "fig,axes = plt.subplots(nrows=1, ncols=2,figsize=(14,5));                    # Setting figuresize and axes of the subplot\n",
    "fig.suptitle('Comparing Calls:')                                             # Creating plot title.\n",
    "sns.histplot(grouped_user_data, x=\"total_calls\", hue=\"plan_id\",\n",
    "             ax= axes[0],fill=True, kde=True)                                # Creating a histplot for total_calls by plan. \n",
    "axes[0].legend(title='Plan', loc='upper right', labels=['Ultimate','Surf']); # Creating a legend upper right.\n",
    "sns.histplot(data=grouped_user_data, x=\"total_duration\", hue=\"plan_id\", \n",
    "             ax= axes[1],fill=True, kde=True)                                # Creating a histplot for total_calls by plan.\n",
    "axes[1].legend(title='Plan', loc='upper right', labels=['Ultimate','Surf']); # Creating a legend upper right.\n",
    "axes[0].set_title(\"Amount of calls by plan\");                                # Creating subplot title.\n",
    "axes[1].set_title(\"Total duration (mins) by plan\");                          # Creating subplot title."
   ]
  },
  {
   "cell_type": "markdown",
   "metadata": {},
   "source": [
    "The graphs show that the difference is not very large.<br>\n",
    "The distributions are both skewed to the right, so they are similar.<br>\n",
    "Additionally, Surf users tend to talk longer and place more calls than Ultimate users."
   ]
  },
  {
   "cell_type": "markdown",
   "metadata": {},
   "source": [
    "3. Here is a representation of the mean and standard deviation in numbers."
   ]
  },
  {
   "cell_type": "code",
   "execution_count": 82,
   "metadata": {},
   "outputs": [],
   "source": [
    "# Creating a dictionary by decribe() function to 'total_calls' on Surf plan.\n",
    "surf_total_calls_describe = grouped_user_data.query('plan_id == 0')['total_calls'].describe().to_dict()"
   ]
  },
  {
   "cell_type": "code",
   "execution_count": 83,
   "metadata": {
    "scrolled": true
   },
   "outputs": [],
   "source": [
    "# Creating a dictionary by decribe() function to 'total_calls' on Ultimate plan.\n",
    "ultimate_total_calls_describe = grouped_user_data.query('plan_id == 1')['total_calls'].describe().to_dict()"
   ]
  },
  {
   "cell_type": "code",
   "execution_count": 84,
   "metadata": {},
   "outputs": [],
   "source": [
    "# Creating a dictionary by decribe() function to 'total_duration' on Surf plan.\n",
    "surf_total_duration_describe = grouped_user_data.query('plan_id == 0')['total_duration'].describe().to_dict()"
   ]
  },
  {
   "cell_type": "code",
   "execution_count": 85,
   "metadata": {
    "scrolled": false
   },
   "outputs": [],
   "source": [
    "# Creating a dictionary by decribe() function to 'total_duration' on Ultimate plan.\n",
    "ultimate_total_duration_describe = grouped_user_data.query('plan_id == 1')['total_duration'].describe().to_dict()"
   ]
  },
  {
   "cell_type": "code",
   "execution_count": 86,
   "metadata": {},
   "outputs": [
    {
     "name": "stdout",
     "output_type": "stream",
     "text": [
      "Surf plan, mean of total calls:                      45.85467382967383\n",
      "Ultimate plan, mean of total calls:                  46.13907615738825\n",
      "\n",
      "Surf plan, standard deviation of total calls:        21.952396834430786\n",
      "Ultimate plan, standard deviation of total calls:    22.308400929914278\n",
      "\n",
      "\n",
      "Surf plan, mean of total duration:                   408.73703801203794\n",
      "Ultimate plan, mean of total duration:               407.95987651767905\n",
      "\n",
      "Surf plan, standard deviation of total duration:     199.36915836122932\n",
      "Ultimate plan, standard deviation of total duration: 200.35712367195748\n"
     ]
    }
   ],
   "source": [
    "print('Surf plan, mean of total calls:                      {}'.format(surf_total_calls_describe[\"mean\"]))\n",
    "print('Ultimate plan, mean of total calls:                  {}'.format(ultimate_total_calls_describe[\"mean\"]))\n",
    "print()\n",
    "print('Surf plan, standard deviation of total calls:        {}'.format(surf_total_calls_describe[\"std\"]))\n",
    "print('Ultimate plan, standard deviation of total calls:    {}'.format(ultimate_total_calls_describe[\"std\"]))\n",
    "print()\n",
    "print()\n",
    "print('Surf plan, mean of total duration:                   {}'.format(surf_total_duration_describe[\"mean\"]))\n",
    "print('Ultimate plan, mean of total duration:               {}'.format(ultimate_total_duration_describe[\"mean\"]))\n",
    "print()\n",
    "print('Surf plan, standard deviation of total duration:     {}'.format(surf_total_duration_describe[\"std\"]))\n",
    "print('Ultimate plan, standard deviation of total duration: {}'.format(ultimate_total_duration_describe[\"std\"]))"
   ]
  },
  {
   "cell_type": "markdown",
   "metadata": {},
   "source": [
    "**Conclusion**<br>\n",
    "It is interesting to see that although the mean of total calls in Ultimate is higher, it is still Surf plan that do most talking and it is also more dense group than Ultimate.\n",
    "But over all the two groups require the same amount of service from the company."
   ]
  },
  {
   "cell_type": "markdown",
   "metadata": {},
   "source": [
    "<div class=\"alert alert-success\">\n",
    "<b>Reviewer's comment:</b> Yes, good point! \n",
    "</div>"
   ]
  },
  {
   "cell_type": "markdown",
   "metadata": {},
   "source": [
    "#### Messages and interent data\n",
    "<a class=\"anchor\" id=\"chapter23\"></a>\n",
    "[Go back to the Table of Contents](#table_of_contents)"
   ]
  },
  {
   "cell_type": "markdown",
   "metadata": {},
   "source": [
    "4. Let's check messages and data."
   ]
  },
  {
   "cell_type": "code",
   "execution_count": 87,
   "metadata": {
    "scrolled": false
   },
   "outputs": [
    {
     "data": {
      "image/png": "[encoded data removed]",
      "text/plain": [
       "<Figure size 1008x360 with 2 Axes>"
      ]
     },
     "metadata": {
      "needs_background": "light"
     },
     "output_type": "display_data"
    }
   ],
   "source": [
    "fig,axes = plt.subplots(nrows=1, ncols=2,figsize=(14,5));                       # Setting figuresize and axes of the subplot\n",
    "fig.suptitle('Comparing messages and data usage:')                              # Creating plot title.\n",
    "sns.boxplot(x=\"plan_id\",y=\"total_messages\", data=grouped_user_data,ax=axes[0]); # Creating a boxplot for total_messages by plan.\n",
    "axes[0].set_xticklabels([\"surf\",\"ultimate\"]);                                   # Naming X axis by plan.\n",
    "axes[0].set_title(\"Amount of messages sent by plan\")                            # Creating subplot title.\n",
    "sns.boxplot(x=\"plan_id\",y=\"total_data_gb\", data=grouped_user_data,ax=axes[1]);  # Creating a boxplot for total_data_gb by plan.\n",
    "axes[1].set_xticklabels([\"surf\",\"ultimate\"]);                                   # Naming X axis by plan.\n",
    "axes[1].set_title(\"Total data usage (GB) by plan\");                             # Creating subplot title."
   ]
  },
  {
   "cell_type": "markdown",
   "metadata": {},
   "source": [
    "Same information represented in histogram with KDE."
   ]
  },
  {
   "cell_type": "code",
   "execution_count": 88,
   "metadata": {},
   "outputs": [
    {
     "data": {
      "image/png": "[encoded data removed]",
      "text/plain": [
       "<Figure size 1008x360 with 2 Axes>"
      ]
     },
     "metadata": {
      "needs_background": "light"
     },
     "output_type": "display_data"
    }
   ],
   "source": [
    "fig,axes = plt.subplots(nrows=1, ncols=2,figsize=(14,5));                    # Setting figuresize and axes of the subplot\n",
    "fig.suptitle('Comparing messages and data usage:')                           # Creating plot title.\n",
    "sns.histplot(grouped_user_data, x=\"total_messages\", hue=\"plan_id\",\n",
    "             ax= axes[0],fill=True, kde=True)                                # Creating a histogram for total_messages by plan. \n",
    "axes[0].legend(title='Plan', loc='upper right', labels=['Ultimate','Surf']); # Creating a legend upper right.\n",
    "sns.histplot(data=grouped_user_data, x=\"total_data_gb\", hue=\"plan_id\", \n",
    "             ax= axes[1],fill=True, kde=True)                                # Creating a histogram for total_data_gb by plan.\n",
    "axes[1].legend(title='Plan', loc='upper right', labels=['Ultimate','Surf']); # Creating a legend upper right.\n",
    "axes[0].set_title(\"Amount of messages sent per month by plan\");              # Creating subplot title.\n",
    "axes[1].set_title(\"Total data usage (GB) per month by plan\");                # Creating subplot title."
   ]
  },
  {
   "cell_type": "markdown",
   "metadata": {},
   "source": [
    "In the graph, we see that the overall usage is the same, but Ultimate users send more messages, which is logical since it is a feature of their plan.<br>\n",
    "In the message graph, we can see that there is a long tail to the right and many outliers.<br>\n",
    "On the basis of the data graph, we can observe that Ultimate sessions are more uniform in behavior than Surf sessions."
   ]
  },
  {
   "cell_type": "markdown",
   "metadata": {},
   "source": [
    "5. Here is a representation of the mean and standard deviation in numbers."
   ]
  },
  {
   "cell_type": "code",
   "execution_count": 89,
   "metadata": {},
   "outputs": [],
   "source": [
    "# Creating a dictionary by decribe() function to 'total_calls' on Surf plan.\n",
    "surf_total_messages_describe = grouped_user_data.query('plan_id == 0')['total_messages'].describe().to_dict()"
   ]
  },
  {
   "cell_type": "code",
   "execution_count": 90,
   "metadata": {
    "scrolled": true
   },
   "outputs": [],
   "source": [
    "# Creating a dictionary by decribe() function to 'total_calls' on Ultimate plan.\n",
    "ultimate_total_messages_describe = grouped_user_data.query('plan_id == 1')['total_messages'].describe().to_dict()"
   ]
  },
  {
   "cell_type": "code",
   "execution_count": 91,
   "metadata": {},
   "outputs": [],
   "source": [
    "# Creating a dictionary by decribe() function to 'total_duration' on Surf plan.\n",
    "surf_total_data_describe = grouped_user_data.query('plan_id == 0')['total_data_gb'].describe().to_dict()"
   ]
  },
  {
   "cell_type": "code",
   "execution_count": 92,
   "metadata": {
    "scrolled": false
   },
   "outputs": [],
   "source": [
    "# Creating a dictionary by decribe() function to 'total_duration' on Ultimate plan.\n",
    "ultimate_total_data_describe = grouped_user_data.query('plan_id == 1')['total_data_gb'].describe().to_dict()"
   ]
  },
  {
   "cell_type": "code",
   "execution_count": 93,
   "metadata": {},
   "outputs": [
    {
     "name": "stdout",
     "output_type": "stream",
     "text": [
      "Surf plan, mean of total messages:                      32.40893079226412\n",
      "Ultimate plan, mean of total messages:                  38.471532200990794\n",
      "\n",
      "Surf plan, standard deviation of total messages:        31.017777398872617\n",
      "Ultimate plan, standard deviation of total messages:    32.92727456174797\n",
      "\n",
      "\n",
      "Surf plan, mean of total data (GB):                     15.996964821964822\n",
      "Ultimate plan, mean of total data (GB):                 16.154847152140146\n",
      "\n",
      "Surf plan, standard deviation of total data (GB):       6.102915088720695\n",
      "Ultimate plan, standard deviation of total data (GB):   5.782372086344824\n"
     ]
    }
   ],
   "source": [
    "print('Surf plan, mean of total messages:                      {}'.format(surf_total_messages_describe[\"mean\"]))\n",
    "print('Ultimate plan, mean of total messages:                  {}'.format(ultimate_total_messages_describe[\"mean\"]))\n",
    "print()\n",
    "print('Surf plan, standard deviation of total messages:        {}'.format(surf_total_messages_describe[\"std\"]))\n",
    "print('Ultimate plan, standard deviation of total messages:    {}'.format(ultimate_total_messages_describe[\"std\"]))\n",
    "print()\n",
    "print()\n",
    "print('Surf plan, mean of total data (GB):                     {}'.format(surf_total_data_describe[\"mean\"]))\n",
    "print('Ultimate plan, mean of total data (GB):                 {}'.format(ultimate_total_data_describe[\"mean\"]))\n",
    "print()\n",
    "print('Surf plan, standard deviation of total data (GB):       {}'.format(surf_total_data_describe[\"std\"]))\n",
    "print('Ultimate plan, standard deviation of total data (GB):   {}'.format(ultimate_total_data_describe[\"std\"]))"
   ]
  },
  {
   "cell_type": "markdown",
   "metadata": {},
   "source": [
    "#### Revenue\n",
    "<a class=\"anchor\" id=\"chapter24\"></a>\n",
    "[Go back to the Table of Contents](#table_of_contents)"
   ]
  },
  {
   "cell_type": "markdown",
   "metadata": {},
   "source": [
    "6. Let's check the revenue for each plan."
   ]
  },
  {
   "cell_type": "code",
   "execution_count": 94,
   "metadata": {
    "scrolled": false
   },
   "outputs": [
    {
     "data": {
      "image/png": "[encoded data removed]",
      "text/plain": [
       "<Figure size 1008x360 with 1 Axes>"
      ]
     },
     "metadata": {
      "needs_background": "light"
     },
     "output_type": "display_data"
    }
   ],
   "source": [
    "fig,axes = plt.subplots(figsize=(14,5));              # Setting figuresize of the subplot\n",
    "sns.boxplot(x=\"plan_id\",y=\"monthly_revenue\", \n",
    "            data=grouped_user_data);                  # Creating a boxplot for monthly_revenue by plan.\n",
    "axes.set_xticklabels([\"surf\",\"ultimate\"]);            # Naming X axis by plan.\n",
    "axes.set(ylim=(0, 150))                               # Setting Y axis limit for a closer look.\n",
    "axes.set_title(\"Revenue pre plan\");                   # Creating subplot title."
   ]
  },
  {
   "cell_type": "markdown",
   "metadata": {},
   "source": [
    "Same information represented in histogram with KDE."
   ]
  },
  {
   "cell_type": "code",
   "execution_count": 95,
   "metadata": {},
   "outputs": [
    {
     "data": {
      "image/png": "[encoded data removed]",
      "text/plain": [
       "<Figure size 1008x360 with 1 Axes>"
      ]
     },
     "metadata": {
      "needs_background": "light"
     },
     "output_type": "display_data"
    }
   ],
   "source": [
    "fig,axes = plt.subplots(figsize=(14,5));                # Setting figuresize of the subplot\n",
    "sns.histplot(grouped_user_data, hue=\"plan_id\",\n",
    "             x=\"monthly_revenue\",fill=True, kde=True);  # Creating a histogram for monthly_revenue by plan.\n",
    "axes.set_title(\"Revenue pre plan\");                     # Creating subplot title.\n",
    "axes.legend(title='Plan', loc='upper right', \n",
    "               labels=['Ultimate','Surf']);             # Creating a legend upper right.\n"
   ]
  },
  {
   "cell_type": "markdown",
   "metadata": {},
   "source": [
    "According to the graph, Surf has a very long tail to the right, whereas Ultimate has a very high head and narrow shoulders,<br>\n",
    "In other words, Ultimate plan is more densely distributed around its base rate, while Surf is more widely distributed.<br>\n",
    "As a matter of revenue, Ultimate is aligned with where the outliers of Surf begin, which indicates high profitability.<br>\n",
    "Overall, people on the surf plan tend to overcharge more because they exceed the limits of their plan, <br>\n",
    "whereas most people on ultimate tend to live within their plan limits."
   ]
  },
  {
   "cell_type": "markdown",
   "metadata": {},
   "source": [
    "<div class=\"alert alert-success\">\n",
    "<b>Reviewer's comment:</b> Good! This is the key difference in user behavior in this case.\n",
    "</div>"
   ]
  },
  {
   "cell_type": "markdown",
   "metadata": {},
   "source": [
    "7. Here is a representation of the mean and standard deviation in numbers."
   ]
  },
  {
   "cell_type": "code",
   "execution_count": 96,
   "metadata": {},
   "outputs": [],
   "source": [
    "# Creating a dictionary by decribe() function to 'total_calls' on Surf plan.\n",
    "surf_total_revenue_describe = grouped_user_data.query('plan_id == 0')['monthly_revenue'].describe().to_dict()"
   ]
  },
  {
   "cell_type": "code",
   "execution_count": 97,
   "metadata": {
    "scrolled": true
   },
   "outputs": [],
   "source": [
    "# Creating a dictionary by decribe() function to 'total_calls' on Ultimate plan.\n",
    "ultimate_total_revenue_describe = grouped_user_data.query('plan_id == 1')['monthly_revenue'].describe().to_dict()"
   ]
  },
  {
   "cell_type": "code",
   "execution_count": 98,
   "metadata": {},
   "outputs": [
    {
     "name": "stdout",
     "output_type": "stream",
     "text": [
      "Surf plan, mean of monthly revenue:                      35.446515310765314\n",
      "Ultimate plan, mean of monthly revenue:                  71.82328379334749\n",
      "\n",
      "Surf plan, standard deviation of monthly revenue:        25.204281650559018\n",
      "Ultimate plan, standard deviation of monthly revenue:    7.424765760514697\n"
     ]
    }
   ],
   "source": [
    "print('Surf plan, mean of monthly revenue:                      {}'.format(surf_total_revenue_describe[\"mean\"]))\n",
    "print('Ultimate plan, mean of monthly revenue:                  {}'.format(ultimate_total_revenue_describe[\"mean\"]))\n",
    "print()\n",
    "print('Surf plan, standard deviation of monthly revenue:        {}'.format(surf_total_revenue_describe[\"std\"]))\n",
    "print('Ultimate plan, standard deviation of monthly revenue:    {}'.format(ultimate_total_revenue_describe[\"std\"]))"
   ]
  },
  {
   "cell_type": "markdown",
   "metadata": {},
   "source": [
    "In terms of numbers, Surf plan has a lower average revenue that is spread widely across users, while Ultimate has a very dense population of users around its base price."
   ]
  },
  {
   "cell_type": "markdown",
   "metadata": {},
   "source": [
    "#### Conclusion\n",
    "<a class=\"anchor\" id=\"chapter25\"></a>\n",
    "[Go back to the Table of Contents](#table_of_contents)"
   ]
  },
  {
   "cell_type": "markdown",
   "metadata": {},
   "source": [
    "According to the data we have at our disposal, the average revenue of Surf plan is lower and widely distributed, <br>\n",
    "whereas the average revenue of Ultimate plan is higher and concentrated around its base price.<br>\n",
    "These findings might suggest that the **Ultimate plan is more profitable for the company** than Surf, <br>\n",
    "**since both plans require the same amount of services in general.**"
   ]
  },
  {
   "cell_type": "markdown",
   "metadata": {},
   "source": [
    "<div class=\"alert alert-success\">\n",
    "<b>Reviewer's comment:</b> Thanks a lot for so detailed conclusion 👍\n",
    "</div>"
   ]
  },
  {
   "cell_type": "markdown",
   "metadata": {},
   "source": [
    "<div class=\"alert alert-warning\">\n",
    "<b>Reviewer's comment:</b> If you like the theme of visualization, I recommend checking out the plotly library: <a>https://plotly.com/python/</a>\n",
    "</div>\n"
   ]
  },
  {
   "cell_type": "markdown",
   "metadata": {},
   "source": [
    "# 4. Testing the hypotheses\n",
    "<a class=\"anchor\" id=\"chapter26\"></a>\n",
    "[Go back to the Table of Contents](#table_of_contents)"
   ]
  },
  {
   "cell_type": "markdown",
   "metadata": {},
   "source": [
    "Our next step is to statistically check if our findings are probable or not.<br>\n",
    "The steps will be as followed:\n",
    "1. We'll run a t-test on the revenue data per plan and check our hypothesis.\n",
    "2. We'll look at the difference in revenue between users from different regions (if there are any).\n",
    "3. Conclude our findings."
   ]
  },
  {
   "cell_type": "markdown",
   "metadata": {},
   "source": [
    "#### Statistical difference in average revenue\n",
    "<a class=\"anchor\" id=\"chapter27\"></a>\n",
    "[Go back to the Table of Contents](#table_of_contents)"
   ]
  },
  {
   "cell_type": "markdown",
   "metadata": {},
   "source": [
    "Based on our analysis of our data in the previous section, we can conclude that the Ultimate plan is more profitable for the company than the Surf plan, due to differences in price and the roughly similar behavior of users on both plans.<br>\n",
    "In order to assess whether this is true, the null test suggest there is no difference (H0) in revenue between the plans, <br>\n",
    "and our alternative hypothesis is that a difference exists (H1).<br>\n",
    "We'll set the statistical significance level to 0.05 as it is common."
   ]
  },
  {
   "cell_type": "markdown",
   "metadata": {},
   "source": [
    "<div class=\"alert alert-success\">\n",
    "<b>Reviewer's comment:</b> Good, hypotheses are correct.\n",
    "</div>"
   ]
  },
  {
   "cell_type": "code",
   "execution_count": 99,
   "metadata": {},
   "outputs": [
    {
     "name": "stdout",
     "output_type": "stream",
     "text": [
      "p-value:  1.5056718924134038e-82\n",
      "\n",
      "We reject the null hypothesis\n"
     ]
    }
   ],
   "source": [
    "alpha = 0.05  # critical statistical significance level.\n",
    "surf_revenue = grouped_user_data.query('plan_id == 0')['monthly_revenue'] # Data for Surf plan revenue.\n",
    "ultimate_revenue = grouped_user_data.query('plan_id == 1')['monthly_revenue'] # Data for Ultimate plan revenue.\n",
    "results = st.ttest_ind(surf_revenue, \n",
    "                       ultimate_revenue, \n",
    "                       equal_var=False) # Performing t-test on both data sets, where variance is not equal.\n",
    "\n",
    "print('p-value: ', results.pvalue)\n",
    "print()\n",
    "if results.pvalue < alpha: # if the p-value is less than alpha, we reject the hypothesis.\n",
    "    print(\"We reject the null hypothesis\")\n",
    "else:\n",
    "    print(\"We can't reject the null hypothesis\") \n",
    "\n"
   ]
  },
  {
   "cell_type": "markdown",
   "metadata": {},
   "source": [
    "<div class=\"alert alert-warning\">\n",
    "<b>Reviewer's comment:</b> The value of the equal_var parameter can be determined more confidently with using Levene's test: <a>https://docs.scipy.org/doc/scipy/reference/generated/scipy.stats.levene.html</a>\n",
    "</div>\n"
   ]
  },
  {
   "cell_type": "markdown",
   "metadata": {},
   "source": [
    "#### Conclusion\n",
    "<a class=\"anchor\" id=\"chapter28\"></a>\n",
    "[Go back to the Table of Contents](#table_of_contents)"
   ]
  },
  {
   "cell_type": "markdown",
   "metadata": {},
   "source": [
    "Although our test does not prove our alternative hypothesis, <br>\n",
    "it suggests the statistical difference between our 2 plans being equal is not high enough,<br>\n",
    "thus we can exclude it as a viable hypothesis."
   ]
  },
  {
   "cell_type": "markdown",
   "metadata": {},
   "source": [
    "#### Statistical difference in average revenue for NY-NJ area\n",
    "<a class=\"anchor\" id=\"chapter29\"></a>\n",
    "[Go back to the Table of Contents](#table_of_contents)"
   ]
  },
  {
   "cell_type": "markdown",
   "metadata": {},
   "source": [
    "Let's look at the amount of people living in NY-NJ out of the whole data."
   ]
  },
  {
   "cell_type": "code",
   "execution_count": 100,
   "metadata": {},
   "outputs": [],
   "source": [
    "# Creating a True / False column in 'users_data' if the user is from NY-NJ area.\n",
    "users_data[\"live_in_ny_nj\"] = users_data.apply(lambda x:\"ny-nj\" in x[\"city\"],axis=1)"
   ]
  },
  {
   "cell_type": "code",
   "execution_count": 101,
   "metadata": {
    "scrolled": true
   },
   "outputs": [
    {
     "data": {
      "image/png": "[encoded data removed]",
      "text/plain": [
       "<Figure size 432x288 with 1 Axes>"
      ]
     },
     "metadata": {},
     "output_type": "display_data"
    }
   ],
   "source": [
    "# Plotting pie chart out of the amount of users in NY-NJ and different areas.\n",
    "users_data[\"live_in_ny_nj\"].value_counts().plot.pie(autopct=\"%.1f%%\",\n",
    "                                                    labels=['Other areas', 'NY-NJ'], \n",
    "                                                    explode=[0.2, 0]);"
   ]
  },
  {
   "cell_type": "markdown",
   "metadata": {},
   "source": [
    "16% of all users live in NY-NJ area.<br>\n",
    "Let's merge our new column with our grouped data from the previous section."
   ]
  },
  {
   "cell_type": "code",
   "execution_count": 102,
   "metadata": {},
   "outputs": [],
   "source": [
    "# Creating a new dataframe combining, 'grouped_user_data' with the new column for living in NY-NJ.\n",
    "grouped_user_data_ny_nj = pd.merge(grouped_user_data, \n",
    "                                   users_data[[\"user_id\",\"live_in_ny_nj\"]], \n",
    "                                   left_on=[\"user_id\"],\n",
    "                                   right_on=[\"user_id\"])"
   ]
  },
  {
   "cell_type": "markdown",
   "metadata": {},
   "source": [
    "Now that we have examined the average revenue per plan, <br>\n",
    "we need to find out whether there are differences in revenue from users from the NY-NJ area to other regions.<br>\n",
    "Using our t-test once more, we will check if any statistical differences exist.<br>\n",
    "Our null hypothesis suggests that the average revenues are equal between users from NY-NJ and other regions (H0).<br>\n",
    "Our alternative hypothesis suggests that there is such a difference(H1)."
   ]
  },
  {
   "cell_type": "code",
   "execution_count": 103,
   "metadata": {},
   "outputs": [
    {
     "name": "stdout",
     "output_type": "stream",
     "text": [
      "p-value:  0.38488561256500364\n",
      "\n",
      "We can't reject the null hypothesis\n"
     ]
    }
   ],
   "source": [
    "alpha = 0.05  # critical statistical significance level.\n",
    "\n",
    "ny_nj_revenue = grouped_user_data_ny_nj.query('live_in_ny_nj')['monthly_revenue'] # Data for NY-NJ revenue.\n",
    "other_revenue = grouped_user_data_ny_nj.query('~live_in_ny_nj')['monthly_revenue'] # Data for other regions revenue.\n",
    "\n",
    "results = st.ttest_ind(ny_nj_revenue, \n",
    "                       other_revenue, \n",
    "                       equal_var=False) # Performing t-test on both data sets, where variance is not equal.\n",
    "\n",
    "print('p-value: ', results.pvalue)\n",
    "print()\n",
    "if results.pvalue < alpha: # if the p-value is less than alpha, we reject the hypothesis.\n",
    "    print(\"We reject the null hypothesis\")\n",
    "else:\n",
    "    print(\"We can't reject the null hypothesis\") \n",
    "\n"
   ]
  },
  {
   "cell_type": "markdown",
   "metadata": {},
   "source": [
    "#### Conclusion\n",
    "<a class=\"anchor\" id=\"chapter30\"></a>\n",
    "[Go back to the Table of Contents](#table_of_contents)"
   ]
  },
  {
   "cell_type": "markdown",
   "metadata": {},
   "source": [
    "Testing the statistical significance of the differences between the average revenue per user in the NY-NJ area and other regions using the t-test.<br>\n",
    "The conclusions we draw are that **we cannot reject our null test hypothesis (H0) because the statistical difference is too high**,<br> \n",
    "with a 38% probability that there is no difference, which means that **we might suggest that there is no difference in average revenue between users from NY-NJ and other regions.**\n"
   ]
  },
  {
   "cell_type": "markdown",
   "metadata": {},
   "source": [
    "<div class=\"alert alert-success\">\n",
    "<b>Reviewer's comment:</b> Excellent, both tests are correct.\n",
    "</div>"
   ]
  },
  {
   "cell_type": "markdown",
   "metadata": {},
   "source": [
    "## 5. Overall conclusion\n",
    "<a class=\"anchor\" id=\"chapter31\"></a>\n",
    "[Go back to the Table of Contents](#table_of_contents)"
   ]
  },
  {
   "cell_type": "markdown",
   "metadata": {},
   "source": [
    "Using multiple techniques and methods, we managed to collect Megaline's data, and extract the valuable information we wanted.<br>\n",
    "Megaline's analysis of customer behavior and revenue reveals that among the two subscription plans, Surf and Ultimate, the Ultimate plan has the highest profit margins.<br>\n",
    "**Our analysis shows that there are no significant differences in user behavior between Surf and Ultimate plans, and both plans require the same amount of service and infrastructure from Megaline, hence, Ultimate plan is more profitable.** <br>\n",
    "Furthermore, statistical significance tests confirmed our findings that there is a possible revenue difference between the two plans. <br>\n",
    "(It is important to note that out of all company users, we examined a sample of 500 users. These users might not reflect the behavior of others, so we will have to analyze a larger group of users for more accurate results.)<br>\n",
    "Following this, we wanted to see if there were any differences in the average income of users from different regions, particularly those from New York and New Jersey.<br>\n",
    "We found that there is not likely to be a difference between the revenues between the two groups.<br>\n",
    "**Based on the data provided, Megaline should focus its marketing efforts on signing users up for the Ultimate plan, since it is more profitable.**<br>\n",
    "In spite of the fact that we cannot confirm at this point which regions the company earns more in, we can say that there is no difference according to the data provided between users in NY-NJ and other regions. However, a larger sample may indicate otherwise."
   ]
  },
  {
   "cell_type": "markdown",
   "metadata": {},
   "source": [
    "\n",
    "<div class=\"alert alert-success\">\n",
    "<b>Reviewer's comment:</b> Thank you for the detailed research!\n",
    "</div>"
   ]
  },
  {
   "cell_type": "markdown",
   "metadata": {},
   "source": [
    "----"
   ]
  },
  {
   "cell_type": "markdown",
   "metadata": {},
   "source": [
    "# Project completion checklist\n",
    "<a class=\"anchor\" id=\"chapter25\"></a>\n",
    "[Go back to the Table of Contents](#table_of_contents)"
   ]
  },
  {
   "cell_type": "markdown",
   "metadata": {},
   "source": [
    "- [x]  file opened.\n",
    "- [x]  files explored (first rows printed, info() method).\n",
    "- [x]  missing values determined.\n",
    "- [x]  missing values dealt with.\n",
    "- [x]  clarification of the discovered missing values provided.\n",
    "- [x]  data types converted.\n",
    "- [x]  explanation of which columns had the data types changed and why.\n",
    "- [x]  calculate the number of calls made and minutes used per user per month.\n",
    "- [x]  calculate the number of text messages sent per user per month.\n",
    "- [x]  calculate the volume of data per user per month.\n",
    "- [x]  calculate the monthly revenue from each user.\n",
    "- [x]  Find the minutes, texts, and volume of data the users of each plan require per month.\n",
    "- [x]  Calculate the mean, dispersion, and standard deviation.\n",
    "- [x]  Plot histograms.\n",
    "- [x]  Describe the customers' behavior.\n",
    "- [x]  Describe the distributions.\n",
    "- [x]  Test the hypotheses: The average revenue from users of Ultimate and Surf calling plans differs.\n",
    "- [x]  Test the hypotheses: The average revenue from users in NY-NJ area is different from that of the users from other regions.\n",
    "- [x]  Explain: How you formulated the null and alternative hypotheses.\n",
    "- [x]  Explain: What criterion you used to test the hypotheses and why.\n",
    "- [x]  Write an overall conclusion."
   ]
  }
 ],
 "metadata": {
  "ExecuteTimeLog": [
   {
    "duration": 1397,
    "start_time": "2021-06-29T19:17:13.255Z"
   },
   {
    "duration": 273,
    "start_time": "2021-06-29T19:17:14.655Z"
   },
   {
    "duration": 28,
    "start_time": "2021-06-29T19:17:14.932Z"
   },
   {
    "duration": 49,
    "start_time": "2021-06-29T19:17:14.963Z"
   },
   {
    "duration": 53,
    "start_time": "2021-06-29T19:17:15.014Z"
   },
   {
    "duration": 107,
    "start_time": "2021-06-29T19:17:15.070Z"
   },
   {
    "duration": 25,
    "start_time": "2021-06-29T19:17:15.181Z"
   },
   {
    "duration": 24,
    "start_time": "2021-06-29T19:17:15.210Z"
   },
   {
    "duration": 64,
    "start_time": "2021-06-29T19:17:15.237Z"
   },
   {
    "duration": 1393,
    "start_time": "2021-06-29T19:17:15.304Z"
   },
   {
    "duration": 7,
    "start_time": "2021-06-29T19:17:16.701Z"
   },
   {
    "duration": 44,
    "start_time": "2021-06-29T19:17:16.711Z"
   },
   {
    "duration": 1394,
    "start_time": "2021-06-29T19:17:16.757Z"
   },
   {
    "duration": 6,
    "start_time": "2021-06-29T19:17:18.153Z"
   },
   {
    "duration": 1708,
    "start_time": "2021-06-29T19:17:18.162Z"
   },
   {
    "duration": 92,
    "start_time": "2021-06-29T19:17:19.873Z"
   },
   {
    "duration": 110,
    "start_time": "2021-06-29T19:17:19.967Z"
   },
   {
    "duration": 22,
    "start_time": "2021-06-29T19:17:20.080Z"
   },
   {
    "duration": 8,
    "start_time": "2021-06-29T19:17:20.104Z"
   },
   {
    "duration": 6,
    "start_time": "2021-06-29T19:17:20.115Z"
   },
   {
    "duration": 10,
    "start_time": "2021-06-29T19:17:20.123Z"
   },
   {
    "duration": 16,
    "start_time": "2021-06-29T19:17:20.136Z"
   },
   {
    "duration": 47,
    "start_time": "2021-06-29T19:17:20.158Z"
   },
   {
    "duration": 55,
    "start_time": "2021-06-29T19:17:20.209Z"
   },
   {
    "duration": 68,
    "start_time": "2021-06-29T19:17:20.266Z"
   },
   {
    "duration": 27,
    "start_time": "2021-06-29T19:17:20.337Z"
   },
   {
    "duration": 9,
    "start_time": "2021-06-29T19:17:20.367Z"
   },
   {
    "duration": 22,
    "start_time": "2021-06-29T19:17:20.379Z"
   },
   {
    "duration": 2102,
    "start_time": "2021-06-29T19:17:20.403Z"
   },
   {
    "duration": 33,
    "start_time": "2021-06-29T19:17:22.507Z"
   },
   {
    "duration": 385,
    "start_time": "2021-06-29T19:17:22.543Z"
   },
   {
    "duration": 423,
    "start_time": "2021-06-29T19:17:22.931Z"
   },
   {
    "duration": 353,
    "start_time": "2021-06-29T19:17:23.356Z"
   },
   {
    "duration": 348,
    "start_time": "2021-06-29T19:17:23.711Z"
   },
   {
    "duration": 18,
    "start_time": "2021-06-29T19:17:24.062Z"
   },
   {
    "duration": 317,
    "start_time": "2021-06-29T19:17:24.083Z"
   },
   {
    "duration": 348,
    "start_time": "2021-06-29T19:17:24.403Z"
   },
   {
    "duration": 319,
    "start_time": "2021-06-29T19:17:24.754Z"
   },
   {
    "duration": 434,
    "start_time": "2021-06-29T19:17:25.076Z"
   },
   {
    "duration": 301,
    "start_time": "2021-06-29T19:17:25.513Z"
   },
   {
    "duration": 293,
    "start_time": "2021-06-29T19:17:25.817Z"
   },
   {
    "duration": 287,
    "start_time": "2021-06-29T19:17:26.113Z"
   },
   {
    "duration": 14,
    "start_time": "2021-06-29T19:17:26.403Z"
   },
   {
    "duration": 238,
    "start_time": "2021-06-29T19:17:26.419Z"
   },
   {
    "duration": 10,
    "start_time": "2021-06-29T19:17:26.659Z"
   },
   {
    "duration": 248,
    "start_time": "2021-06-29T19:17:26.671Z"
   },
   {
    "duration": 11,
    "start_time": "2021-06-29T19:17:26.922Z"
   },
   {
    "duration": 223,
    "start_time": "2021-06-29T19:17:26.936Z"
   },
   {
    "duration": 231,
    "start_time": "2021-06-29T19:17:27.162Z"
   },
   {
    "duration": 16,
    "start_time": "2021-06-29T19:17:27.400Z"
   },
   {
    "duration": 306,
    "start_time": "2021-06-29T19:17:27.419Z"
   },
   {
    "duration": 304,
    "start_time": "2021-06-29T19:17:27.728Z"
   },
   {
    "duration": 17,
    "start_time": "2021-06-29T19:17:28.035Z"
   },
   {
    "duration": 291,
    "start_time": "2021-06-29T19:17:28.055Z"
   },
   {
    "duration": 362,
    "start_time": "2021-06-29T19:17:28.349Z"
   },
   {
    "duration": 16,
    "start_time": "2021-06-29T19:17:28.713Z"
   },
   {
    "duration": 327,
    "start_time": "2021-06-29T19:17:28.731Z"
   },
   {
    "duration": 309,
    "start_time": "2021-06-29T19:17:29.060Z"
   },
   {
    "duration": 360,
    "start_time": "2021-06-29T19:17:29.371Z"
   },
   {
    "duration": 8,
    "start_time": "2021-06-29T19:17:29.733Z"
   },
   {
    "duration": 218,
    "start_time": "2021-06-29T19:17:29.744Z"
   },
   {
    "duration": 11,
    "start_time": "2021-06-29T19:17:29.964Z"
   },
   {
    "duration": 378,
    "start_time": "2021-06-29T19:17:29.977Z"
   },
   {
    "duration": 49,
    "start_time": "2021-06-29T19:17:30.358Z"
   },
   {
    "duration": 361,
    "start_time": "2021-06-29T19:17:30.409Z"
   },
   {
    "duration": 10,
    "start_time": "2021-06-29T19:17:30.772Z"
   },
   {
    "duration": 51,
    "start_time": "2021-06-29T19:17:30.784Z"
   },
   {
    "duration": 11,
    "start_time": "2021-06-29T19:17:30.842Z"
   },
   {
    "duration": 54,
    "start_time": "2021-06-29T19:17:30.856Z"
   },
   {
    "duration": 16,
    "start_time": "2021-06-29T19:17:30.912Z"
   },
   {
    "duration": 502,
    "start_time": "2021-06-29T19:17:30.931Z"
   },
   {
    "duration": 1091,
    "start_time": "2021-06-29T19:17:31.435Z"
   },
   {
    "duration": 7,
    "start_time": "2021-06-29T19:53:57.847Z"
   },
   {
    "duration": 8,
    "start_time": "2021-06-29T19:54:02.965Z"
   },
   {
    "duration": 9,
    "start_time": "2021-06-29T20:00:57.353Z"
   },
   {
    "duration": 2277,
    "start_time": "2021-06-29T20:34:29.426Z"
   },
   {
    "duration": 2019,
    "start_time": "2021-06-29T20:35:04.500Z"
   },
   {
    "duration": 2754,
    "start_time": "2021-06-29T20:36:07.220Z"
   },
   {
    "duration": 2087,
    "start_time": "2021-06-29T20:36:34.335Z"
   },
   {
    "duration": 2132,
    "start_time": "2021-06-29T20:36:44.539Z"
   },
   {
    "duration": 1806,
    "start_time": "2021-06-29T20:36:54.594Z"
   },
   {
    "duration": 203,
    "start_time": "2021-06-29T20:39:52.181Z"
   },
   {
    "duration": 223,
    "start_time": "2021-06-29T20:40:03.173Z"
   },
   {
    "duration": 3921,
    "start_time": "2021-06-29T20:56:40.628Z"
   },
   {
    "duration": 4443,
    "start_time": "2021-06-29T20:58:05.408Z"
   },
   {
    "duration": 7,
    "start_time": "2021-06-29T20:59:19.834Z"
   },
   {
    "duration": 978,
    "start_time": "2021-06-29T21:00:18.224Z"
   },
   {
    "duration": 937,
    "start_time": "2021-06-29T21:00:43.970Z"
   },
   {
    "duration": 1079,
    "start_time": "2021-06-29T21:01:35.784Z"
   },
   {
    "duration": 92,
    "start_time": "2021-06-29T21:04:23.888Z"
   },
   {
    "duration": 1589,
    "start_time": "2021-06-30T14:01:20.147Z"
   },
   {
    "duration": 318,
    "start_time": "2021-06-30T14:01:21.739Z"
   },
   {
    "duration": 27,
    "start_time": "2021-06-30T14:01:22.060Z"
   },
   {
    "duration": 26,
    "start_time": "2021-06-30T14:01:22.090Z"
   },
   {
    "duration": 92,
    "start_time": "2021-06-30T14:01:22.118Z"
   },
   {
    "duration": 105,
    "start_time": "2021-06-30T14:01:22.213Z"
   },
   {
    "duration": 10,
    "start_time": "2021-06-30T14:01:22.320Z"
   },
   {
    "duration": 40,
    "start_time": "2021-06-30T14:01:22.333Z"
   },
   {
    "duration": 49,
    "start_time": "2021-06-30T14:01:22.377Z"
   },
   {
    "duration": 1509,
    "start_time": "2021-06-30T14:01:22.429Z"
   },
   {
    "duration": 8,
    "start_time": "2021-06-30T14:01:23.941Z"
   },
   {
    "duration": 71,
    "start_time": "2021-06-30T14:01:23.963Z"
   },
   {
    "duration": 2556,
    "start_time": "2021-06-30T14:01:24.037Z"
   },
   {
    "duration": 7,
    "start_time": "2021-06-30T14:01:26.596Z"
   },
   {
    "duration": 2071,
    "start_time": "2021-06-30T14:01:26.606Z"
   },
   {
    "duration": 90,
    "start_time": "2021-06-30T14:01:28.679Z"
   },
   {
    "duration": 123,
    "start_time": "2021-06-30T14:01:28.772Z"
   },
   {
    "duration": 13,
    "start_time": "2021-06-30T14:01:28.898Z"
   },
   {
    "duration": 15,
    "start_time": "2021-06-30T14:01:28.914Z"
   },
   {
    "duration": 30,
    "start_time": "2021-06-30T14:01:28.932Z"
   },
   {
    "duration": 9,
    "start_time": "2021-06-30T14:01:28.965Z"
   },
   {
    "duration": 12,
    "start_time": "2021-06-30T14:01:28.977Z"
   },
   {
    "duration": 14,
    "start_time": "2021-06-30T14:01:28.997Z"
   },
   {
    "duration": 98,
    "start_time": "2021-06-30T14:01:29.016Z"
   },
   {
    "duration": 73,
    "start_time": "2021-06-30T14:01:29.117Z"
   },
   {
    "duration": 31,
    "start_time": "2021-06-30T14:01:29.193Z"
   },
   {
    "duration": 10,
    "start_time": "2021-06-30T14:01:29.227Z"
   },
   {
    "duration": 3,
    "start_time": "2021-06-30T14:01:29.261Z"
   },
   {
    "duration": 2316,
    "start_time": "2021-06-30T14:01:29.267Z"
   },
   {
    "duration": 34,
    "start_time": "2021-06-30T14:01:31.586Z"
   },
   {
    "duration": 465,
    "start_time": "2021-06-30T14:01:31.623Z"
   },
   {
    "duration": 380,
    "start_time": "2021-06-30T14:01:32.091Z"
   },
   {
    "duration": 387,
    "start_time": "2021-06-30T14:01:32.474Z"
   },
   {
    "duration": 390,
    "start_time": "2021-06-30T14:01:32.864Z"
   },
   {
    "duration": 20,
    "start_time": "2021-06-30T14:01:33.257Z"
   },
   {
    "duration": 327,
    "start_time": "2021-06-30T14:01:33.279Z"
   },
   {
    "duration": 355,
    "start_time": "2021-06-30T14:01:33.609Z"
   },
   {
    "duration": 325,
    "start_time": "2021-06-30T14:01:33.967Z"
   },
   {
    "duration": 643,
    "start_time": "2021-06-30T14:01:34.294Z"
   },
   {
    "duration": 463,
    "start_time": "2021-06-30T14:01:34.940Z"
   },
   {
    "duration": 317,
    "start_time": "2021-06-30T14:01:35.406Z"
   },
   {
    "duration": 1842,
    "start_time": "2021-06-30T14:01:35.726Z"
   },
   {
    "duration": 245,
    "start_time": "2021-06-30T14:01:37.570Z"
   },
   {
    "duration": 11,
    "start_time": "2021-06-30T14:01:37.817Z"
   },
   {
    "duration": 243,
    "start_time": "2021-06-30T14:01:37.830Z"
   },
   {
    "duration": 13,
    "start_time": "2021-06-30T14:01:38.076Z"
   },
   {
    "duration": 263,
    "start_time": "2021-06-30T14:01:38.092Z"
   },
   {
    "duration": 13,
    "start_time": "2021-06-30T14:01:38.363Z"
   },
   {
    "duration": 229,
    "start_time": "2021-06-30T14:01:38.379Z"
   },
   {
    "duration": 312,
    "start_time": "2021-06-30T14:01:38.611Z"
   },
   {
    "duration": 17,
    "start_time": "2021-06-30T14:01:38.926Z"
   },
   {
    "duration": 326,
    "start_time": "2021-06-30T14:01:38.962Z"
   },
   {
    "duration": 325,
    "start_time": "2021-06-30T14:01:39.290Z"
   },
   {
    "duration": 18,
    "start_time": "2021-06-30T14:01:39.618Z"
   },
   {
    "duration": 299,
    "start_time": "2021-06-30T14:01:39.638Z"
   },
   {
    "duration": 328,
    "start_time": "2021-06-30T14:01:39.939Z"
   },
   {
    "duration": 18,
    "start_time": "2021-06-30T14:01:40.269Z"
   },
   {
    "duration": 347,
    "start_time": "2021-06-30T14:01:40.290Z"
   },
   {
    "duration": 334,
    "start_time": "2021-06-30T14:01:40.639Z"
   },
   {
    "duration": 1616,
    "start_time": "2021-06-30T14:01:40.976Z"
   },
   {
    "duration": 576,
    "start_time": "2021-06-30T14:01:42.595Z"
   },
   {
    "duration": 10,
    "start_time": "2021-06-30T14:01:43.174Z"
   },
   {
    "duration": 257,
    "start_time": "2021-06-30T14:01:43.188Z"
   },
   {
    "duration": 20,
    "start_time": "2021-06-30T14:01:43.447Z"
   },
   {
    "duration": 465,
    "start_time": "2021-06-30T14:01:43.470Z"
   },
   {
    "duration": 51,
    "start_time": "2021-06-30T14:01:43.937Z"
   },
   {
    "duration": 375,
    "start_time": "2021-06-30T14:01:43.990Z"
   },
   {
    "duration": 12,
    "start_time": "2021-06-30T14:01:44.372Z"
   },
   {
    "duration": 1366,
    "start_time": "2021-06-30T14:01:44.386Z"
   },
   {
    "duration": 11,
    "start_time": "2021-06-30T14:01:45.763Z"
   },
   {
    "duration": 1434,
    "start_time": "2021-06-30T14:01:45.776Z"
   },
   {
    "duration": 17,
    "start_time": "2021-06-30T14:01:47.212Z"
   },
   {
    "duration": 515,
    "start_time": "2021-06-30T14:01:47.232Z"
   },
   {
    "duration": 1136,
    "start_time": "2021-06-30T14:01:47.750Z"
   },
   {
    "duration": 371,
    "start_time": "2021-06-30T17:51:18.858Z"
   },
   {
    "duration": 1540,
    "start_time": "2021-06-30T17:51:46.959Z"
   },
   {
    "duration": 349,
    "start_time": "2021-06-30T17:51:48.502Z"
   },
   {
    "duration": 27,
    "start_time": "2021-06-30T17:51:48.854Z"
   },
   {
    "duration": 43,
    "start_time": "2021-06-30T17:51:48.883Z"
   },
   {
    "duration": 58,
    "start_time": "2021-06-30T17:51:48.929Z"
   },
   {
    "duration": 198,
    "start_time": "2021-06-30T17:51:48.990Z"
   },
   {
    "duration": 11,
    "start_time": "2021-06-30T17:51:49.191Z"
   },
   {
    "duration": 67,
    "start_time": "2021-06-30T17:51:49.208Z"
   },
   {
    "duration": 86,
    "start_time": "2021-06-30T17:51:49.279Z"
   },
   {
    "duration": 1496,
    "start_time": "2021-06-30T17:51:49.368Z"
   },
   {
    "duration": 7,
    "start_time": "2021-06-30T17:51:50.866Z"
   },
   {
    "duration": 8,
    "start_time": "2021-06-30T17:51:50.876Z"
   },
   {
    "duration": 76,
    "start_time": "2021-06-30T17:51:50.887Z"
   },
   {
    "duration": 1496,
    "start_time": "2021-06-30T17:51:50.966Z"
   },
   {
    "duration": 7,
    "start_time": "2021-06-30T17:51:52.464Z"
   },
   {
    "duration": 2116,
    "start_time": "2021-06-30T17:51:52.474Z"
   },
   {
    "duration": 95,
    "start_time": "2021-06-30T17:51:54.593Z"
   },
   {
    "duration": 128,
    "start_time": "2021-06-30T17:51:54.691Z"
   },
   {
    "duration": 17,
    "start_time": "2021-06-30T17:51:54.825Z"
   },
   {
    "duration": 22,
    "start_time": "2021-06-30T17:51:54.844Z"
   },
   {
    "duration": 18,
    "start_time": "2021-06-30T17:51:54.869Z"
   },
   {
    "duration": 17,
    "start_time": "2021-06-30T17:51:54.890Z"
   },
   {
    "duration": 10,
    "start_time": "2021-06-30T17:51:54.925Z"
   },
   {
    "duration": 40,
    "start_time": "2021-06-30T17:51:54.938Z"
   },
   {
    "duration": 111,
    "start_time": "2021-06-30T17:51:54.981Z"
   },
   {
    "duration": 103,
    "start_time": "2021-06-30T17:51:55.095Z"
   },
   {
    "duration": 54,
    "start_time": "2021-06-30T17:51:55.201Z"
   },
   {
    "duration": 14,
    "start_time": "2021-06-30T17:51:55.258Z"
   },
   {
    "duration": 12,
    "start_time": "2021-06-30T17:51:55.275Z"
   },
   {
    "duration": 2311,
    "start_time": "2021-06-30T17:51:55.289Z"
   },
   {
    "duration": 44,
    "start_time": "2021-06-30T17:51:57.602Z"
   },
   {
    "duration": 329,
    "start_time": "2021-06-30T17:51:57.648Z"
   },
   {
    "duration": 371,
    "start_time": "2021-06-30T17:51:57.980Z"
   },
   {
    "duration": 386,
    "start_time": "2021-06-30T17:51:58.354Z"
   },
   {
    "duration": 596,
    "start_time": "2021-06-30T17:51:58.742Z"
   },
   {
    "duration": 19,
    "start_time": "2021-06-30T17:51:59.341Z"
   },
   {
    "duration": 344,
    "start_time": "2021-06-30T17:51:59.362Z"
   },
   {
    "duration": 372,
    "start_time": "2021-06-30T17:51:59.709Z"
   },
   {
    "duration": 454,
    "start_time": "2021-06-30T17:52:00.084Z"
   },
   {
    "duration": 443,
    "start_time": "2021-06-30T17:52:00.540Z"
   },
   {
    "duration": 316,
    "start_time": "2021-06-30T17:52:00.985Z"
   },
   {
    "duration": 314,
    "start_time": "2021-06-30T17:52:01.304Z"
   },
   {
    "duration": 1745,
    "start_time": "2021-06-30T17:52:01.620Z"
   },
   {
    "duration": 250,
    "start_time": "2021-06-30T17:52:03.367Z"
   },
   {
    "duration": 15,
    "start_time": "2021-06-30T17:52:03.625Z"
   },
   {
    "duration": 386,
    "start_time": "2021-06-30T17:52:03.643Z"
   },
   {
    "duration": 16,
    "start_time": "2021-06-30T17:52:04.032Z"
   },
   {
    "duration": 263,
    "start_time": "2021-06-30T17:52:04.050Z"
   },
   {
    "duration": 16,
    "start_time": "2021-06-30T17:52:04.316Z"
   },
   {
    "duration": 232,
    "start_time": "2021-06-30T17:52:04.335Z"
   },
   {
    "duration": 309,
    "start_time": "2021-06-30T17:52:04.569Z"
   },
   {
    "duration": 17,
    "start_time": "2021-06-30T17:52:04.880Z"
   },
   {
    "duration": 342,
    "start_time": "2021-06-30T17:52:04.900Z"
   },
   {
    "duration": 330,
    "start_time": "2021-06-30T17:52:05.244Z"
   },
   {
    "duration": 23,
    "start_time": "2021-06-30T17:52:05.576Z"
   },
   {
    "duration": 488,
    "start_time": "2021-06-30T17:52:05.603Z"
   },
   {
    "duration": 321,
    "start_time": "2021-06-30T17:52:06.094Z"
   },
   {
    "duration": 21,
    "start_time": "2021-06-30T17:52:06.417Z"
   },
   {
    "duration": 348,
    "start_time": "2021-06-30T17:52:06.441Z"
   },
   {
    "duration": 338,
    "start_time": "2021-06-30T17:52:06.792Z"
   },
   {
    "duration": 1049,
    "start_time": "2021-06-30T17:52:07.133Z"
   },
   {
    "duration": 386,
    "start_time": "2021-06-30T17:52:08.185Z"
   },
   {
    "duration": 8,
    "start_time": "2021-06-30T17:52:08.573Z"
   },
   {
    "duration": 243,
    "start_time": "2021-06-30T17:52:08.583Z"
   },
   {
    "duration": 11,
    "start_time": "2021-06-30T17:52:08.829Z"
   },
   {
    "duration": 476,
    "start_time": "2021-06-30T17:52:08.843Z"
   },
   {
    "duration": 42,
    "start_time": "2021-06-30T17:52:09.325Z"
   },
   {
    "duration": 407,
    "start_time": "2021-06-30T17:52:09.377Z"
   },
   {
    "duration": 11,
    "start_time": "2021-06-30T17:52:09.787Z"
   },
   {
    "duration": 1317,
    "start_time": "2021-06-30T17:52:09.801Z"
   },
   {
    "duration": 13,
    "start_time": "2021-06-30T17:52:11.125Z"
   },
   {
    "duration": 1325,
    "start_time": "2021-06-30T17:52:11.140Z"
   },
   {
    "duration": 18,
    "start_time": "2021-06-30T17:52:12.467Z"
   },
   {
    "duration": 898,
    "start_time": "2021-06-30T17:52:12.488Z"
   },
   {
    "duration": 1931,
    "start_time": "2021-06-30T17:52:13.389Z"
   },
   {
    "duration": 90,
    "start_time": "2021-06-30T17:55:38.112Z"
   },
   {
    "duration": 4,
    "start_time": "2021-06-30T18:04:27.338Z"
   },
   {
    "duration": 317,
    "start_time": "2021-06-30T18:04:27.350Z"
   },
   {
    "duration": 28,
    "start_time": "2021-06-30T18:04:27.670Z"
   },
   {
    "duration": 35,
    "start_time": "2021-06-30T18:04:27.702Z"
   },
   {
    "duration": 64,
    "start_time": "2021-06-30T18:04:27.741Z"
   },
   {
    "duration": 116,
    "start_time": "2021-06-30T18:04:27.808Z"
   },
   {
    "duration": 8,
    "start_time": "2021-06-30T18:04:27.926Z"
   },
   {
    "duration": 24,
    "start_time": "2021-06-30T18:04:27.937Z"
   },
   {
    "duration": 122,
    "start_time": "2021-06-30T18:04:27.965Z"
   },
   {
    "duration": 2882,
    "start_time": "2021-06-30T18:04:28.093Z"
   },
   {
    "duration": 7,
    "start_time": "2021-06-30T18:04:30.979Z"
   },
   {
    "duration": 67,
    "start_time": "2021-06-30T18:04:30.988Z"
   },
   {
    "duration": 1480,
    "start_time": "2021-06-30T18:04:31.057Z"
   },
   {
    "duration": 7,
    "start_time": "2021-06-30T18:04:32.539Z"
   },
   {
    "duration": 2263,
    "start_time": "2021-06-30T18:04:32.548Z"
   },
   {
    "duration": 83,
    "start_time": "2021-06-30T18:04:34.814Z"
   },
   {
    "duration": 134,
    "start_time": "2021-06-30T18:04:34.900Z"
   },
   {
    "duration": 14,
    "start_time": "2021-06-30T18:04:35.036Z"
   },
   {
    "duration": 10,
    "start_time": "2021-06-30T18:04:35.053Z"
   },
   {
    "duration": 9,
    "start_time": "2021-06-30T18:04:35.065Z"
   },
   {
    "duration": 11,
    "start_time": "2021-06-30T18:04:35.076Z"
   },
   {
    "duration": 49,
    "start_time": "2021-06-30T18:04:35.090Z"
   },
   {
    "duration": 34,
    "start_time": "2021-06-30T18:04:35.142Z"
   },
   {
    "duration": 71,
    "start_time": "2021-06-30T18:04:35.179Z"
   },
   {
    "duration": 51,
    "start_time": "2021-06-30T18:04:35.253Z"
   },
   {
    "duration": 31,
    "start_time": "2021-06-30T18:04:35.324Z"
   },
   {
    "duration": 6,
    "start_time": "2021-06-30T18:04:35.357Z"
   },
   {
    "duration": 18,
    "start_time": "2021-06-30T18:04:35.367Z"
   },
   {
    "duration": 6,
    "start_time": "2021-06-30T18:04:38.718Z"
   },
   {
    "duration": 24,
    "start_time": "2021-06-30T18:05:07.907Z"
   },
   {
    "duration": 7,
    "start_time": "2021-06-30T18:06:20.614Z"
   },
   {
    "duration": 17,
    "start_time": "2021-06-30T18:06:29.534Z"
   },
   {
    "duration": 2270,
    "start_time": "2021-06-30T18:09:31.150Z"
   },
   {
    "duration": 6,
    "start_time": "2021-06-30T18:09:55.103Z"
   },
   {
    "duration": 6,
    "start_time": "2021-06-30T18:09:58.652Z"
   },
   {
    "duration": 7,
    "start_time": "2021-06-30T18:10:04.502Z"
   },
   {
    "duration": 6,
    "start_time": "2021-06-30T18:10:16.005Z"
   },
   {
    "duration": 6,
    "start_time": "2021-06-30T18:10:25.693Z"
   },
   {
    "duration": 7,
    "start_time": "2021-06-30T18:10:30.172Z"
   },
   {
    "duration": 6,
    "start_time": "2021-06-30T18:10:33.653Z"
   },
   {
    "duration": 2193,
    "start_time": "2021-06-30T18:10:43.068Z"
   },
   {
    "duration": 2495,
    "start_time": "2021-06-30T18:41:27.682Z"
   },
   {
    "duration": 6,
    "start_time": "2021-06-30T18:41:47.054Z"
   },
   {
    "duration": 322,
    "start_time": "2021-06-30T18:41:47.070Z"
   },
   {
    "duration": 38,
    "start_time": "2021-06-30T18:41:47.394Z"
   },
   {
    "duration": 26,
    "start_time": "2021-06-30T18:41:47.435Z"
   },
   {
    "duration": 94,
    "start_time": "2021-06-30T18:41:47.464Z"
   },
   {
    "duration": 101,
    "start_time": "2021-06-30T18:41:47.560Z"
   },
   {
    "duration": 6,
    "start_time": "2021-06-30T18:41:47.663Z"
   },
   {
    "duration": 25,
    "start_time": "2021-06-30T18:41:47.671Z"
   },
   {
    "duration": 72,
    "start_time": "2021-06-30T18:41:47.698Z"
   },
   {
    "duration": 1615,
    "start_time": "2021-06-30T18:41:47.774Z"
   },
   {
    "duration": 7,
    "start_time": "2021-06-30T18:41:49.392Z"
   },
   {
    "duration": 59,
    "start_time": "2021-06-30T18:41:49.401Z"
   },
   {
    "duration": 1482,
    "start_time": "2021-06-30T18:41:49.462Z"
   },
   {
    "duration": 6,
    "start_time": "2021-06-30T18:41:50.947Z"
   },
   {
    "duration": 2116,
    "start_time": "2021-06-30T18:41:50.956Z"
   },
   {
    "duration": 105,
    "start_time": "2021-06-30T18:41:53.074Z"
   },
   {
    "duration": 200,
    "start_time": "2021-06-30T18:41:53.181Z"
   },
   {
    "duration": 15,
    "start_time": "2021-06-30T18:41:53.384Z"
   },
   {
    "duration": 8,
    "start_time": "2021-06-30T18:41:53.424Z"
   },
   {
    "duration": 6,
    "start_time": "2021-06-30T18:41:53.435Z"
   },
   {
    "duration": 10,
    "start_time": "2021-06-30T18:41:53.444Z"
   },
   {
    "duration": 16,
    "start_time": "2021-06-30T18:41:53.457Z"
   },
   {
    "duration": 57,
    "start_time": "2021-06-30T18:41:53.475Z"
   },
   {
    "duration": 56,
    "start_time": "2021-06-30T18:41:53.534Z"
   },
   {
    "duration": 76,
    "start_time": "2021-06-30T18:41:53.592Z"
   },
   {
    "duration": 28,
    "start_time": "2021-06-30T18:41:53.670Z"
   },
   {
    "duration": 27,
    "start_time": "2021-06-30T18:41:53.700Z"
   },
   {
    "duration": 4,
    "start_time": "2021-06-30T18:41:53.732Z"
   },
   {
    "duration": 2134,
    "start_time": "2021-06-30T18:41:53.739Z"
   },
   {
    "duration": 3,
    "start_time": "2021-06-30T18:41:55.875Z"
   },
   {
    "duration": 48,
    "start_time": "2021-06-30T18:41:55.881Z"
   },
   {
    "duration": 325,
    "start_time": "2021-06-30T18:41:55.932Z"
   },
   {
    "duration": 379,
    "start_time": "2021-06-30T18:41:56.260Z"
   },
   {
    "duration": 385,
    "start_time": "2021-06-30T18:41:56.642Z"
   },
   {
    "duration": 388,
    "start_time": "2021-06-30T18:41:57.029Z"
   },
   {
    "duration": 20,
    "start_time": "2021-06-30T18:41:57.419Z"
   },
   {
    "duration": 413,
    "start_time": "2021-06-30T18:41:57.441Z"
   },
   {
    "duration": 361,
    "start_time": "2021-06-30T18:41:57.857Z"
   },
   {
    "duration": 548,
    "start_time": "2021-06-30T18:41:58.223Z"
   },
   {
    "duration": 606,
    "start_time": "2021-06-30T18:41:58.774Z"
   },
   {
    "duration": 311,
    "start_time": "2021-06-30T18:41:59.382Z"
   },
   {
    "duration": 306,
    "start_time": "2021-06-30T18:41:59.695Z"
   },
   {
    "duration": 1780,
    "start_time": "2021-06-30T18:42:00.004Z"
   },
   {
    "duration": 1472,
    "start_time": "2021-06-30T19:22:01.963Z"
   },
   {
    "duration": 347,
    "start_time": "2021-06-30T19:22:03.437Z"
   },
   {
    "duration": 27,
    "start_time": "2021-06-30T19:22:03.787Z"
   },
   {
    "duration": 28,
    "start_time": "2021-06-30T19:22:03.825Z"
   },
   {
    "duration": 74,
    "start_time": "2021-06-30T19:22:03.855Z"
   },
   {
    "duration": 108,
    "start_time": "2021-06-30T19:22:03.932Z"
   },
   {
    "duration": 11,
    "start_time": "2021-06-30T19:22:04.042Z"
   },
   {
    "duration": 27,
    "start_time": "2021-06-30T19:22:04.057Z"
   },
   {
    "duration": 70,
    "start_time": "2021-06-30T19:22:04.087Z"
   },
   {
    "duration": 1597,
    "start_time": "2021-06-30T19:22:04.159Z"
   },
   {
    "duration": 7,
    "start_time": "2021-06-30T19:22:05.758Z"
   },
   {
    "duration": 65,
    "start_time": "2021-06-30T19:22:05.767Z"
   },
   {
    "duration": 1484,
    "start_time": "2021-06-30T19:22:05.834Z"
   },
   {
    "duration": 6,
    "start_time": "2021-06-30T19:22:07.323Z"
   },
   {
    "duration": 2095,
    "start_time": "2021-06-30T19:22:07.332Z"
   },
   {
    "duration": 94,
    "start_time": "2021-06-30T19:22:09.430Z"
   },
   {
    "duration": 120,
    "start_time": "2021-06-30T19:22:09.527Z"
   },
   {
    "duration": 13,
    "start_time": "2021-06-30T19:22:09.649Z"
   },
   {
    "duration": 11,
    "start_time": "2021-06-30T19:22:09.666Z"
   },
   {
    "duration": 7,
    "start_time": "2021-06-30T19:22:09.680Z"
   },
   {
    "duration": 43,
    "start_time": "2021-06-30T19:22:09.690Z"
   },
   {
    "duration": 10,
    "start_time": "2021-06-30T19:22:09.736Z"
   },
   {
    "duration": 14,
    "start_time": "2021-06-30T19:22:09.752Z"
   },
   {
    "duration": 90,
    "start_time": "2021-06-30T19:22:09.770Z"
   },
   {
    "duration": 64,
    "start_time": "2021-06-30T19:22:09.862Z"
   },
   {
    "duration": 30,
    "start_time": "2021-06-30T19:22:09.928Z"
   },
   {
    "duration": 10,
    "start_time": "2021-06-30T19:22:09.960Z"
   },
   {
    "duration": 8,
    "start_time": "2021-06-30T19:22:09.972Z"
   },
   {
    "duration": 2199,
    "start_time": "2021-06-30T19:22:09.982Z"
   },
   {
    "duration": 3,
    "start_time": "2021-06-30T19:22:12.184Z"
   },
   {
    "duration": 55,
    "start_time": "2021-06-30T19:22:12.190Z"
   },
   {
    "duration": 320,
    "start_time": "2021-06-30T19:22:12.247Z"
   },
   {
    "duration": 367,
    "start_time": "2021-06-30T19:22:12.570Z"
   },
   {
    "duration": 384,
    "start_time": "2021-06-30T19:22:12.940Z"
   },
   {
    "duration": 383,
    "start_time": "2021-06-30T19:22:13.326Z"
   },
   {
    "duration": 26,
    "start_time": "2021-06-30T19:22:13.712Z"
   },
   {
    "duration": 320,
    "start_time": "2021-06-30T19:22:13.740Z"
   },
   {
    "duration": 357,
    "start_time": "2021-06-30T19:22:14.063Z"
   },
   {
    "duration": 341,
    "start_time": "2021-06-30T19:22:14.425Z"
   },
   {
    "duration": 449,
    "start_time": "2021-06-30T19:22:14.768Z"
   },
   {
    "duration": 333,
    "start_time": "2021-06-30T19:22:15.219Z"
   },
   {
    "duration": 309,
    "start_time": "2021-06-30T19:22:15.555Z"
   },
   {
    "duration": 1750,
    "start_time": "2021-06-30T19:22:15.866Z"
   },
   {
    "duration": 244,
    "start_time": "2021-06-30T19:22:17.619Z"
   },
   {
    "duration": 11,
    "start_time": "2021-06-30T19:22:17.865Z"
   },
   {
    "duration": 512,
    "start_time": "2021-06-30T19:22:17.880Z"
   },
   {
    "duration": 14,
    "start_time": "2021-06-30T19:22:18.395Z"
   },
   {
    "duration": 433,
    "start_time": "2021-06-30T19:22:18.424Z"
   },
   {
    "duration": 15,
    "start_time": "2021-06-30T19:22:18.860Z"
   },
   {
    "duration": 402,
    "start_time": "2021-06-30T19:22:18.878Z"
   },
   {
    "duration": 503,
    "start_time": "2021-06-30T19:22:19.289Z"
   },
   {
    "duration": 30,
    "start_time": "2021-06-30T19:22:19.796Z"
   },
   {
    "duration": 335,
    "start_time": "2021-06-30T19:22:19.829Z"
   },
   {
    "duration": 342,
    "start_time": "2021-06-30T19:22:20.166Z"
   },
   {
    "duration": 25,
    "start_time": "2021-06-30T19:22:20.510Z"
   },
   {
    "duration": 297,
    "start_time": "2021-06-30T19:22:20.538Z"
   },
   {
    "duration": 327,
    "start_time": "2021-06-30T19:22:20.837Z"
   },
   {
    "duration": 18,
    "start_time": "2021-06-30T19:22:21.166Z"
   },
   {
    "duration": 350,
    "start_time": "2021-06-30T19:22:21.187Z"
   },
   {
    "duration": 336,
    "start_time": "2021-06-30T19:22:21.540Z"
   },
   {
    "duration": 1149,
    "start_time": "2021-06-30T19:22:21.879Z"
   },
   {
    "duration": 375,
    "start_time": "2021-06-30T19:22:23.030Z"
   },
   {
    "duration": 23,
    "start_time": "2021-06-30T19:22:23.409Z"
   },
   {
    "duration": 232,
    "start_time": "2021-06-30T19:22:23.434Z"
   },
   {
    "duration": 12,
    "start_time": "2021-06-30T19:22:23.669Z"
   },
   {
    "duration": 483,
    "start_time": "2021-06-30T19:22:23.684Z"
   },
   {
    "duration": 57,
    "start_time": "2021-06-30T19:22:24.170Z"
   },
   {
    "duration": 391,
    "start_time": "2021-06-30T19:22:24.236Z"
   },
   {
    "duration": 17,
    "start_time": "2021-06-30T19:22:24.630Z"
   },
   {
    "duration": 2228,
    "start_time": "2021-06-30T19:22:24.650Z"
   },
   {
    "duration": 15,
    "start_time": "2021-06-30T19:22:26.881Z"
   },
   {
    "duration": 1444,
    "start_time": "2021-06-30T19:22:26.899Z"
   },
   {
    "duration": 18,
    "start_time": "2021-06-30T19:22:28.346Z"
   },
   {
    "duration": 523,
    "start_time": "2021-06-30T19:22:28.367Z"
   },
   {
    "duration": 1126,
    "start_time": "2021-06-30T19:22:28.893Z"
   },
   {
    "duration": 1440,
    "start_time": "2021-07-01T15:12:23.358Z"
   },
   {
    "duration": 538,
    "start_time": "2021-07-01T15:12:24.801Z"
   },
   {
    "duration": 27,
    "start_time": "2021-07-01T15:12:25.342Z"
   },
   {
    "duration": 47,
    "start_time": "2021-07-01T15:12:25.373Z"
   },
   {
    "duration": 62,
    "start_time": "2021-07-01T15:12:25.423Z"
   },
   {
    "duration": 120,
    "start_time": "2021-07-01T15:12:25.488Z"
   },
   {
    "duration": 11,
    "start_time": "2021-07-01T15:12:25.611Z"
   },
   {
    "duration": 25,
    "start_time": "2021-07-01T15:12:25.627Z"
   },
   {
    "duration": 78,
    "start_time": "2021-07-01T15:12:25.655Z"
   },
   {
    "duration": 1617,
    "start_time": "2021-07-01T15:12:25.736Z"
   },
   {
    "duration": 6,
    "start_time": "2021-07-01T15:12:27.355Z"
   },
   {
    "duration": 5,
    "start_time": "2021-07-01T15:12:29.505Z"
   },
   {
    "duration": 3869,
    "start_time": "2021-07-08T14:41:59.440Z"
   },
   {
    "duration": 3182,
    "start_time": "2021-07-08T14:42:03.312Z"
   },
   {
    "duration": 1313,
    "start_time": "2021-07-08T14:42:06.497Z"
   },
   {
    "duration": 3264,
    "start_time": "2021-07-08T14:42:07.813Z"
   },
   {
    "duration": 1538,
    "start_time": "2021-07-08T14:42:11.080Z"
   },
   {
    "duration": 657,
    "start_time": "2021-07-08T14:42:12.621Z"
   },
   {
    "duration": 25,
    "start_time": "2021-07-08T14:42:13.280Z"
   },
   {
    "duration": 24,
    "start_time": "2021-07-08T14:42:13.311Z"
   },
   {
    "duration": 66,
    "start_time": "2021-07-08T14:42:13.339Z"
   },
   {
    "duration": 20,
    "start_time": "2021-07-08T14:42:13.409Z"
   },
   {
    "duration": 47,
    "start_time": "2021-07-08T14:42:13.432Z"
   },
   {
    "duration": 42,
    "start_time": "2021-07-08T14:42:13.482Z"
   },
   {
    "duration": 43,
    "start_time": "2021-07-08T14:42:13.527Z"
   },
   {
    "duration": 14,
    "start_time": "2021-07-08T14:42:13.573Z"
   },
   {
    "duration": 126,
    "start_time": "2021-07-08T14:42:13.590Z"
   },
   {
    "duration": 10,
    "start_time": "2021-07-08T14:42:13.718Z"
   },
   {
    "duration": 36,
    "start_time": "2021-07-08T14:42:13.731Z"
   },
   {
    "duration": 9,
    "start_time": "2021-07-08T14:42:13.771Z"
   },
   {
    "duration": 18,
    "start_time": "2021-07-08T14:42:13.782Z"
   },
   {
    "duration": 28,
    "start_time": "2021-07-08T14:42:13.803Z"
   },
   {
    "duration": 70,
    "start_time": "2021-07-08T14:42:13.834Z"
   },
   {
    "duration": 20,
    "start_time": "2021-07-08T14:42:13.907Z"
   },
   {
    "duration": 47,
    "start_time": "2021-07-08T14:42:13.933Z"
   },
   {
    "duration": 11,
    "start_time": "2021-07-08T14:42:13.984Z"
   },
   {
    "duration": 17,
    "start_time": "2021-07-08T14:42:13.997Z"
   },
   {
    "duration": 8,
    "start_time": "2021-07-08T14:42:14.016Z"
   },
   {
    "duration": 52,
    "start_time": "2021-07-08T14:42:14.026Z"
   },
   {
    "duration": 24,
    "start_time": "2021-07-08T14:42:14.080Z"
   },
   {
    "duration": 16,
    "start_time": "2021-07-08T14:42:14.106Z"
   },
   {
    "duration": 9,
    "start_time": "2021-07-08T14:42:14.125Z"
   },
   {
    "duration": 10,
    "start_time": "2021-07-08T14:42:14.167Z"
   },
   {
    "duration": 13,
    "start_time": "2021-07-08T14:42:14.179Z"
   },
   {
    "duration": 11,
    "start_time": "2021-07-08T14:42:14.195Z"
   },
   {
    "duration": 6,
    "start_time": "2021-07-08T14:42:14.209Z"
   },
   {
    "duration": 105,
    "start_time": "2021-07-08T14:42:14.218Z"
   },
   {
    "duration": 57,
    "start_time": "2021-07-08T14:42:14.326Z"
   },
   {
    "duration": 27,
    "start_time": "2021-07-08T14:42:14.386Z"
   },
   {
    "duration": 11,
    "start_time": "2021-07-08T14:42:14.416Z"
   },
   {
    "duration": 44,
    "start_time": "2021-07-08T14:42:14.430Z"
   },
   {
    "duration": 11,
    "start_time": "2021-07-08T14:42:14.477Z"
   },
   {
    "duration": 35,
    "start_time": "2021-07-08T14:42:14.491Z"
   },
   {
    "duration": 67,
    "start_time": "2021-07-08T14:42:14.529Z"
   },
   {
    "duration": 30,
    "start_time": "2021-07-08T14:42:14.599Z"
   },
   {
    "duration": 44,
    "start_time": "2021-07-08T14:42:14.632Z"
   },
   {
    "duration": 21,
    "start_time": "2021-07-08T14:42:14.679Z"
   },
   {
    "duration": 87,
    "start_time": "2021-07-08T14:42:14.703Z"
   },
   {
    "duration": 16,
    "start_time": "2021-07-08T14:42:14.793Z"
   },
   {
    "duration": 12,
    "start_time": "2021-07-08T14:42:14.811Z"
   },
   {
    "duration": 47,
    "start_time": "2021-07-08T14:42:14.825Z"
   },
   {
    "duration": 22,
    "start_time": "2021-07-08T14:42:14.874Z"
   },
   {
    "duration": 7,
    "start_time": "2021-07-08T14:42:14.899Z"
   },
   {
    "duration": 17,
    "start_time": "2021-07-08T14:42:14.908Z"
   },
   {
    "duration": 60,
    "start_time": "2021-07-08T14:42:14.929Z"
   },
   {
    "duration": 5,
    "start_time": "2021-07-08T14:42:14.991Z"
   },
   {
    "duration": 22,
    "start_time": "2021-07-08T14:42:14.998Z"
   },
   {
    "duration": 14,
    "start_time": "2021-07-08T14:42:15.022Z"
   },
   {
    "duration": 10,
    "start_time": "2021-07-08T14:42:15.039Z"
   },
   {
    "duration": 6,
    "start_time": "2021-07-08T14:42:15.068Z"
   },
   {
    "duration": 8,
    "start_time": "2021-07-08T14:42:15.076Z"
   },
   {
    "duration": 18,
    "start_time": "2021-07-08T14:42:15.086Z"
   },
   {
    "duration": 8,
    "start_time": "2021-07-08T14:42:15.106Z"
   },
   {
    "duration": 61,
    "start_time": "2021-07-08T14:42:15.116Z"
   },
   {
    "duration": 10,
    "start_time": "2021-07-08T14:42:15.179Z"
   },
   {
    "duration": 18,
    "start_time": "2021-07-08T14:42:15.191Z"
   },
   {
    "duration": 11,
    "start_time": "2021-07-08T14:42:15.211Z"
   },
   {
    "duration": 15,
    "start_time": "2021-07-08T14:42:15.224Z"
   },
   {
    "duration": 20,
    "start_time": "2021-07-08T14:42:15.267Z"
   },
   {
    "duration": 5,
    "start_time": "2021-07-08T14:42:15.296Z"
   },
   {
    "duration": 11,
    "start_time": "2021-07-08T14:42:15.304Z"
   },
   {
    "duration": 13,
    "start_time": "2021-07-08T14:42:15.318Z"
   },
   {
    "duration": 37,
    "start_time": "2021-07-08T14:42:15.333Z"
   },
   {
    "duration": 17,
    "start_time": "2021-07-08T14:42:15.372Z"
   },
   {
    "duration": 19,
    "start_time": "2021-07-08T14:42:15.391Z"
   },
   {
    "duration": 13,
    "start_time": "2021-07-08T14:42:15.413Z"
   },
   {
    "duration": 522,
    "start_time": "2021-07-08T14:42:15.428Z"
   },
   {
    "duration": 27,
    "start_time": "2021-07-08T14:42:15.952Z"
   },
   {
    "duration": 130,
    "start_time": "2021-07-08T14:42:15.981Z"
   },
   {
    "duration": 7,
    "start_time": "2021-07-08T14:42:16.113Z"
   },
   {
    "duration": 16,
    "start_time": "2021-07-08T14:42:16.122Z"
   },
   {
    "duration": 38,
    "start_time": "2021-07-08T14:42:16.141Z"
   },
   {
    "duration": 541,
    "start_time": "2021-07-08T14:42:16.181Z"
   },
   {
    "duration": 1551,
    "start_time": "2021-07-08T14:42:16.725Z"
   },
   {
    "duration": -89,
    "start_time": "2021-07-08T14:42:18.368Z"
   },
   {
    "duration": -94,
    "start_time": "2021-07-08T14:42:18.376Z"
   },
   {
    "duration": -100,
    "start_time": "2021-07-08T14:42:18.384Z"
   },
   {
    "duration": -106,
    "start_time": "2021-07-08T14:42:18.392Z"
   },
   {
    "duration": -111,
    "start_time": "2021-07-08T14:42:18.400Z"
   },
   {
    "duration": -116,
    "start_time": "2021-07-08T14:42:18.407Z"
   },
   {
    "duration": -122,
    "start_time": "2021-07-08T14:42:18.415Z"
   },
   {
    "duration": -127,
    "start_time": "2021-07-08T14:42:18.422Z"
   },
   {
    "duration": -130,
    "start_time": "2021-07-08T14:42:18.428Z"
   },
   {
    "duration": -135,
    "start_time": "2021-07-08T14:42:18.435Z"
   },
   {
    "duration": -139,
    "start_time": "2021-07-08T14:42:18.441Z"
   },
   {
    "duration": -144,
    "start_time": "2021-07-08T14:42:18.448Z"
   },
   {
    "duration": -148,
    "start_time": "2021-07-08T14:42:18.454Z"
   },
   {
    "duration": -152,
    "start_time": "2021-07-08T14:42:18.461Z"
   },
   {
    "duration": -170,
    "start_time": "2021-07-08T14:42:18.481Z"
   },
   {
    "duration": -178,
    "start_time": "2021-07-08T14:42:18.490Z"
   },
   {
    "duration": -133,
    "start_time": "2021-07-08T14:42:18.499Z"
   },
   {
    "duration": -138,
    "start_time": "2021-07-08T14:42:18.507Z"
   },
   {
    "duration": -144,
    "start_time": "2021-07-08T14:42:18.515Z"
   },
   {
    "duration": -149,
    "start_time": "2021-07-08T14:42:18.522Z"
   },
   {
    "duration": -155,
    "start_time": "2021-07-08T14:42:18.530Z"
   },
   {
    "duration": -160,
    "start_time": "2021-07-08T14:42:18.538Z"
   },
   {
    "duration": 4615,
    "start_time": "2021-07-08T14:45:13.637Z"
   },
   {
    "duration": 3398,
    "start_time": "2021-07-08T14:45:35.775Z"
   },
   {
    "duration": 9348,
    "start_time": "2021-07-08T14:46:23.430Z"
   },
   {
    "duration": 14230,
    "start_time": "2021-07-08T14:46:32.780Z"
   },
   {
    "duration": 4143,
    "start_time": "2021-07-08T14:46:54.785Z"
   },
   {
    "duration": 6886,
    "start_time": "2021-07-08T14:47:04.991Z"
   },
   {
    "duration": 4250,
    "start_time": "2021-07-08T14:47:25.212Z"
   },
   {
    "duration": 3935,
    "start_time": "2021-07-08T14:47:29.465Z"
   },
   {
    "duration": 3938,
    "start_time": "2021-07-08T14:47:33.403Z"
   },
   {
    "duration": 3804,
    "start_time": "2021-07-08T14:47:37.344Z"
   },
   {
    "duration": 2017,
    "start_time": "2021-07-08T14:47:41.150Z"
   },
   {
    "duration": 487,
    "start_time": "2021-07-08T14:47:43.169Z"
   },
   {
    "duration": 264,
    "start_time": "2021-07-08T14:47:43.659Z"
   },
   {
    "duration": 69,
    "start_time": "2021-07-08T14:47:43.929Z"
   },
   {
    "duration": 37,
    "start_time": "2021-07-08T14:47:44.002Z"
   },
   {
    "duration": 41,
    "start_time": "2021-07-08T14:47:44.042Z"
   },
   {
    "duration": 17,
    "start_time": "2021-07-08T14:47:44.086Z"
   },
   {
    "duration": 63,
    "start_time": "2021-07-08T14:47:44.106Z"
   },
   {
    "duration": 21,
    "start_time": "2021-07-08T14:47:44.172Z"
   },
   {
    "duration": 23,
    "start_time": "2021-07-08T14:47:44.196Z"
   },
   {
    "duration": 102,
    "start_time": "2021-07-08T14:47:44.222Z"
   },
   {
    "duration": 15,
    "start_time": "2021-07-08T14:47:44.327Z"
   },
   {
    "duration": 39,
    "start_time": "2021-07-08T14:47:44.345Z"
   },
   {
    "duration": 20,
    "start_time": "2021-07-08T14:47:44.387Z"
   },
   {
    "duration": 22,
    "start_time": "2021-07-08T14:47:44.410Z"
   },
   {
    "duration": 54,
    "start_time": "2021-07-08T14:47:44.435Z"
   },
   {
    "duration": 27,
    "start_time": "2021-07-08T14:47:44.492Z"
   },
   {
    "duration": 16,
    "start_time": "2021-07-08T14:47:44.521Z"
   },
   {
    "duration": 39,
    "start_time": "2021-07-08T14:47:44.544Z"
   },
   {
    "duration": 10,
    "start_time": "2021-07-08T14:47:44.587Z"
   },
   {
    "duration": 19,
    "start_time": "2021-07-08T14:47:44.601Z"
   },
   {
    "duration": 44,
    "start_time": "2021-07-08T14:47:44.623Z"
   },
   {
    "duration": 17,
    "start_time": "2021-07-08T14:47:44.670Z"
   },
   {
    "duration": 18,
    "start_time": "2021-07-08T14:47:44.690Z"
   },
   {
    "duration": 56,
    "start_time": "2021-07-08T14:47:44.711Z"
   },
   {
    "duration": 10,
    "start_time": "2021-07-08T14:47:44.771Z"
   },
   {
    "duration": 33,
    "start_time": "2021-07-08T14:47:44.784Z"
   },
   {
    "duration": 20,
    "start_time": "2021-07-08T14:47:44.819Z"
   },
   {
    "duration": 24,
    "start_time": "2021-07-08T14:47:44.841Z"
   },
   {
    "duration": 18,
    "start_time": "2021-07-08T14:47:44.869Z"
   },
   {
    "duration": 66,
    "start_time": "2021-07-08T14:47:44.890Z"
   },
   {
    "duration": 50,
    "start_time": "2021-07-08T14:47:44.958Z"
   },
   {
    "duration": 32,
    "start_time": "2021-07-08T14:47:45.011Z"
   },
   {
    "duration": 27,
    "start_time": "2021-07-08T14:47:45.045Z"
   },
   {
    "duration": 22,
    "start_time": "2021-07-08T14:47:45.075Z"
   },
   {
    "duration": 17,
    "start_time": "2021-07-08T14:47:45.100Z"
   },
   {
    "duration": 56,
    "start_time": "2021-07-08T14:47:45.120Z"
   },
   {
    "duration": 36,
    "start_time": "2021-07-08T14:47:45.178Z"
   },
   {
    "duration": 52,
    "start_time": "2021-07-08T14:47:45.216Z"
   },
   {
    "duration": 19,
    "start_time": "2021-07-08T14:47:45.271Z"
   },
   {
    "duration": 26,
    "start_time": "2021-07-08T14:47:45.293Z"
   },
   {
    "duration": 69,
    "start_time": "2021-07-08T14:47:45.322Z"
   },
   {
    "duration": 17,
    "start_time": "2021-07-08T14:47:45.394Z"
   },
   {
    "duration": 45,
    "start_time": "2021-07-08T14:47:45.414Z"
   },
   {
    "duration": 20,
    "start_time": "2021-07-08T14:47:45.462Z"
   },
   {
    "duration": 21,
    "start_time": "2021-07-08T14:47:45.484Z"
   },
   {
    "duration": 6,
    "start_time": "2021-07-08T14:47:45.507Z"
   },
   {
    "duration": 31,
    "start_time": "2021-07-08T14:47:45.515Z"
   },
   {
    "duration": 31,
    "start_time": "2021-07-08T14:47:45.567Z"
   },
   {
    "duration": 4,
    "start_time": "2021-07-08T14:47:45.601Z"
   },
   {
    "duration": 15,
    "start_time": "2021-07-08T14:47:45.607Z"
   },
   {
    "duration": 13,
    "start_time": "2021-07-08T14:47:45.625Z"
   },
   {
    "duration": 9,
    "start_time": "2021-07-08T14:47:45.640Z"
   },
   {
    "duration": 6,
    "start_time": "2021-07-08T14:47:45.667Z"
   },
   {
    "duration": 13,
    "start_time": "2021-07-08T14:47:45.675Z"
   },
   {
    "duration": 24,
    "start_time": "2021-07-08T14:47:45.690Z"
   },
   {
    "duration": 13,
    "start_time": "2021-07-08T14:47:45.716Z"
   },
   {
    "duration": 44,
    "start_time": "2021-07-08T14:47:45.731Z"
   },
   {
    "duration": 18,
    "start_time": "2021-07-08T14:47:45.777Z"
   },
   {
    "duration": 18,
    "start_time": "2021-07-08T14:47:45.797Z"
   },
   {
    "duration": 12,
    "start_time": "2021-07-08T14:47:45.817Z"
   },
   {
    "duration": 11,
    "start_time": "2021-07-08T14:47:45.832Z"
   },
   {
    "duration": 20,
    "start_time": "2021-07-08T14:47:45.868Z"
   },
   {
    "duration": 5,
    "start_time": "2021-07-08T14:47:45.896Z"
   },
   {
    "duration": 13,
    "start_time": "2021-07-08T14:47:45.904Z"
   },
   {
    "duration": 11,
    "start_time": "2021-07-08T14:47:45.919Z"
   },
   {
    "duration": 42,
    "start_time": "2021-07-08T14:47:45.933Z"
   },
   {
    "duration": 18,
    "start_time": "2021-07-08T14:47:45.978Z"
   },
   {
    "duration": 27,
    "start_time": "2021-07-08T14:47:45.999Z"
   },
   {
    "duration": 16,
    "start_time": "2021-07-08T14:47:46.028Z"
   },
   {
    "duration": 422,
    "start_time": "2021-07-08T14:47:46.047Z"
   },
   {
    "duration": 21,
    "start_time": "2021-07-08T14:47:46.472Z"
   },
   {
    "duration": 773,
    "start_time": "2021-07-08T14:47:46.495Z"
   },
   {
    "duration": 7,
    "start_time": "2021-07-08T14:47:47.270Z"
   },
   {
    "duration": 14,
    "start_time": "2021-07-08T14:47:47.280Z"
   },
   {
    "duration": 23,
    "start_time": "2021-07-08T14:47:47.297Z"
   },
   {
    "duration": 369,
    "start_time": "2021-07-08T14:47:47.323Z"
   },
   {
    "duration": 754,
    "start_time": "2021-07-08T14:47:47.695Z"
   },
   {
    "duration": 21,
    "start_time": "2021-07-08T14:47:48.451Z"
   },
   {
    "duration": 22,
    "start_time": "2021-07-08T14:47:48.474Z"
   },
   {
    "duration": 13,
    "start_time": "2021-07-08T14:47:48.498Z"
   },
   {
    "duration": 25,
    "start_time": "2021-07-08T14:47:48.514Z"
   },
   {
    "duration": 18,
    "start_time": "2021-07-08T14:47:48.541Z"
   },
   {
    "duration": 368,
    "start_time": "2021-07-08T14:47:48.562Z"
   },
   {
    "duration": 751,
    "start_time": "2021-07-08T14:47:48.932Z"
   },
   {
    "duration": 10,
    "start_time": "2021-07-08T14:47:49.685Z"
   },
   {
    "duration": 13,
    "start_time": "2021-07-08T14:47:49.698Z"
   },
   {
    "duration": 15,
    "start_time": "2021-07-08T14:47:49.713Z"
   },
   {
    "duration": 38,
    "start_time": "2021-07-08T14:47:49.731Z"
   },
   {
    "duration": 9,
    "start_time": "2021-07-08T14:47:49.772Z"
   },
   {
    "duration": 231,
    "start_time": "2021-07-08T14:47:49.784Z"
   },
   {
    "duration": 400,
    "start_time": "2021-07-08T14:47:50.018Z"
   },
   {
    "duration": 10,
    "start_time": "2021-07-08T14:47:50.421Z"
   },
   {
    "duration": 37,
    "start_time": "2021-07-08T14:47:50.434Z"
   },
   {
    "duration": 9,
    "start_time": "2021-07-08T14:47:50.473Z"
   },
   {
    "duration": 15,
    "start_time": "2021-07-08T14:47:50.485Z"
   },
   {
    "duration": 20,
    "start_time": "2021-07-08T14:47:50.502Z"
   },
   {
    "duration": 151,
    "start_time": "2021-07-08T14:47:50.524Z"
   },
   {
    "duration": 9,
    "start_time": "2021-07-08T14:47:50.678Z"
   },
   {
    "duration": 13,
    "start_time": "2021-07-08T14:47:50.690Z"
   },
   {
    "duration": 5,
    "start_time": "2021-07-08T16:31:59.921Z"
   },
   {
    "duration": 7,
    "start_time": "2021-07-08T16:31:59.929Z"
   },
   {
    "duration": 6,
    "start_time": "2021-07-08T16:31:59.939Z"
   },
   {
    "duration": 10,
    "start_time": "2021-07-08T16:31:59.948Z"
   },
   {
    "duration": 1684,
    "start_time": "2021-07-08T16:31:59.960Z"
   },
   {
    "duration": 631,
    "start_time": "2021-07-08T16:32:01.648Z"
   },
   {
    "duration": 23,
    "start_time": "2021-07-08T16:32:02.283Z"
   },
   {
    "duration": 23,
    "start_time": "2021-07-08T16:32:02.309Z"
   },
   {
    "duration": 64,
    "start_time": "2021-07-08T16:32:02.335Z"
   },
   {
    "duration": 19,
    "start_time": "2021-07-08T16:32:02.402Z"
   },
   {
    "duration": 45,
    "start_time": "2021-07-08T16:32:02.424Z"
   },
   {
    "duration": 37,
    "start_time": "2021-07-08T16:32:02.472Z"
   },
   {
    "duration": 15,
    "start_time": "2021-07-08T16:32:02.512Z"
   },
   {
    "duration": 45,
    "start_time": "2021-07-08T16:32:02.529Z"
   },
   {
    "duration": 128,
    "start_time": "2021-07-08T16:32:02.577Z"
   },
   {
    "duration": 9,
    "start_time": "2021-07-08T16:32:02.708Z"
   },
   {
    "duration": 13,
    "start_time": "2021-07-08T16:32:02.725Z"
   },
   {
    "duration": 15,
    "start_time": "2021-07-08T16:32:02.771Z"
   },
   {
    "duration": 18,
    "start_time": "2021-07-08T16:32:02.789Z"
   },
   {
    "duration": 76,
    "start_time": "2021-07-08T16:32:02.810Z"
   },
   {
    "duration": 42,
    "start_time": "2021-07-08T16:32:02.889Z"
   },
   {
    "duration": 44,
    "start_time": "2021-07-08T16:32:02.934Z"
   },
   {
    "duration": 19,
    "start_time": "2021-07-08T16:32:02.982Z"
   },
   {
    "duration": 12,
    "start_time": "2021-07-08T16:32:03.003Z"
   },
   {
    "duration": 63,
    "start_time": "2021-07-08T16:32:03.017Z"
   },
   {
    "duration": 8,
    "start_time": "2021-07-08T16:32:03.084Z"
   },
   {
    "duration": 16,
    "start_time": "2021-07-08T16:32:03.095Z"
   },
   {
    "duration": 17,
    "start_time": "2021-07-08T16:32:03.114Z"
   },
   {
    "duration": 50,
    "start_time": "2021-07-08T16:32:03.134Z"
   },
   {
    "duration": 11,
    "start_time": "2021-07-08T16:32:03.186Z"
   },
   {
    "duration": 10,
    "start_time": "2021-07-08T16:32:03.200Z"
   },
   {
    "duration": 13,
    "start_time": "2021-07-08T16:32:03.212Z"
   },
   {
    "duration": 41,
    "start_time": "2021-07-08T16:32:03.227Z"
   },
   {
    "duration": 7,
    "start_time": "2021-07-08T16:32:03.272Z"
   },
   {
    "duration": 102,
    "start_time": "2021-07-08T16:32:03.282Z"
   },
   {
    "duration": 43,
    "start_time": "2021-07-08T16:32:03.387Z"
   },
   {
    "duration": 60,
    "start_time": "2021-07-08T16:32:03.433Z"
   },
   {
    "duration": 10,
    "start_time": "2021-07-08T16:32:03.497Z"
   },
   {
    "duration": 20,
    "start_time": "2021-07-08T16:32:03.509Z"
   },
   {
    "duration": 44,
    "start_time": "2021-07-08T16:32:03.532Z"
   },
   {
    "duration": 36,
    "start_time": "2021-07-08T16:32:03.579Z"
   },
   {
    "duration": 58,
    "start_time": "2021-07-08T16:32:03.618Z"
   },
   {
    "duration": 30,
    "start_time": "2021-07-08T16:32:03.679Z"
   },
   {
    "duration": 17,
    "start_time": "2021-07-08T16:32:03.712Z"
   },
   {
    "duration": 22,
    "start_time": "2021-07-08T16:32:03.769Z"
   },
   {
    "duration": 47,
    "start_time": "2021-07-08T16:32:03.794Z"
   },
   {
    "duration": 17,
    "start_time": "2021-07-08T16:32:03.874Z"
   },
   {
    "duration": 11,
    "start_time": "2021-07-08T16:32:03.895Z"
   },
   {
    "duration": 18,
    "start_time": "2021-07-08T16:32:03.908Z"
   },
   {
    "duration": 59,
    "start_time": "2021-07-08T16:32:03.928Z"
   },
   {
    "duration": 6,
    "start_time": "2021-07-08T16:32:03.989Z"
   },
   {
    "duration": 14,
    "start_time": "2021-07-08T16:32:03.997Z"
   },
   {
    "duration": 65,
    "start_time": "2021-07-08T16:32:04.013Z"
   },
   {
    "duration": 5,
    "start_time": "2021-07-08T16:32:04.082Z"
   },
   {
    "duration": 15,
    "start_time": "2021-07-08T16:32:04.089Z"
   },
   {
    "duration": 5,
    "start_time": "2021-07-08T16:32:04.106Z"
   },
   {
    "duration": 6,
    "start_time": "2021-07-08T16:32:04.114Z"
   },
   {
    "duration": 6,
    "start_time": "2021-07-08T16:32:04.122Z"
   },
   {
    "duration": 41,
    "start_time": "2021-07-08T16:32:04.131Z"
   },
   {
    "duration": 36,
    "start_time": "2021-07-08T16:32:04.177Z"
   },
   {
    "duration": 20,
    "start_time": "2021-07-08T16:32:04.215Z"
   },
   {
    "duration": 33,
    "start_time": "2021-07-08T16:32:04.238Z"
   },
   {
    "duration": 11,
    "start_time": "2021-07-08T16:32:04.274Z"
   },
   {
    "duration": 14,
    "start_time": "2021-07-08T16:32:04.288Z"
   },
   {
    "duration": 11,
    "start_time": "2021-07-08T16:32:04.305Z"
   },
   {
    "duration": 58,
    "start_time": "2021-07-08T16:32:04.319Z"
   },
   {
    "duration": 21,
    "start_time": "2021-07-08T16:32:04.381Z"
   },
   {
    "duration": 5,
    "start_time": "2021-07-08T16:32:04.404Z"
   },
   {
    "duration": 6,
    "start_time": "2021-07-08T16:32:04.411Z"
   },
   {
    "duration": 8,
    "start_time": "2021-07-08T16:32:04.420Z"
   },
   {
    "duration": 44,
    "start_time": "2021-07-08T16:32:04.431Z"
   },
   {
    "duration": 17,
    "start_time": "2021-07-08T16:32:04.481Z"
   },
   {
    "duration": 16,
    "start_time": "2021-07-08T16:32:04.500Z"
   },
   {
    "duration": 49,
    "start_time": "2021-07-08T16:32:04.518Z"
   },
   {
    "duration": 541,
    "start_time": "2021-07-08T16:32:04.570Z"
   },
   {
    "duration": 18,
    "start_time": "2021-07-08T16:32:05.113Z"
   },
   {
    "duration": 140,
    "start_time": "2021-07-08T16:32:05.133Z"
   },
   {
    "duration": 9,
    "start_time": "2021-07-08T16:32:05.276Z"
   },
   {
    "duration": 12,
    "start_time": "2021-07-08T16:32:05.288Z"
   },
   {
    "duration": 20,
    "start_time": "2021-07-08T16:32:05.303Z"
   },
   {
    "duration": 585,
    "start_time": "2021-07-08T16:32:05.326Z"
   },
   {
    "duration": 983,
    "start_time": "2021-07-08T16:32:05.914Z"
   },
   {
    "duration": -30,
    "start_time": "2021-07-08T16:32:06.929Z"
   },
   {
    "duration": -38,
    "start_time": "2021-07-08T16:32:06.939Z"
   },
   {
    "duration": -44,
    "start_time": "2021-07-08T16:32:06.946Z"
   },
   {
    "duration": -51,
    "start_time": "2021-07-08T16:32:06.955Z"
   },
   {
    "duration": -61,
    "start_time": "2021-07-08T16:32:06.966Z"
   },
   {
    "duration": -66,
    "start_time": "2021-07-08T16:32:06.973Z"
   },
   {
    "duration": -74,
    "start_time": "2021-07-08T16:32:06.983Z"
   },
   {
    "duration": -79,
    "start_time": "2021-07-08T16:32:06.989Z"
   },
   {
    "duration": -88,
    "start_time": "2021-07-08T16:32:06.999Z"
   },
   {
    "duration": -93,
    "start_time": "2021-07-08T16:32:07.006Z"
   },
   {
    "duration": -101,
    "start_time": "2021-07-08T16:32:07.015Z"
   },
   {
    "duration": -106,
    "start_time": "2021-07-08T16:32:07.022Z"
   },
   {
    "duration": -130,
    "start_time": "2021-07-08T16:32:07.047Z"
   },
   {
    "duration": -136,
    "start_time": "2021-07-08T16:32:07.054Z"
   },
   {
    "duration": -143,
    "start_time": "2021-07-08T16:32:07.063Z"
   },
   {
    "duration": -149,
    "start_time": "2021-07-08T16:32:07.070Z"
   },
   {
    "duration": -157,
    "start_time": "2021-07-08T16:32:07.079Z"
   },
   {
    "duration": -161,
    "start_time": "2021-07-08T16:32:07.085Z"
   },
   {
    "duration": -171,
    "start_time": "2021-07-08T16:32:07.096Z"
   },
   {
    "duration": -175,
    "start_time": "2021-07-08T16:32:07.101Z"
   },
   {
    "duration": -184,
    "start_time": "2021-07-08T16:32:07.111Z"
   },
   {
    "duration": -190,
    "start_time": "2021-07-08T16:32:07.118Z"
   },
   {
    "duration": 4,
    "start_time": "2021-07-08T16:33:09.993Z"
   },
   {
    "duration": 21,
    "start_time": "2021-07-08T16:33:09.999Z"
   },
   {
    "duration": 128871,
    "start_time": "2021-07-08T16:33:10.023Z"
   },
   {
    "duration": 1920,
    "start_time": "2021-07-08T16:35:18.902Z"
   },
   {
    "duration": 657,
    "start_time": "2021-07-08T16:35:20.824Z"
   },
   {
    "duration": 25,
    "start_time": "2021-07-08T16:35:21.483Z"
   },
   {
    "duration": 29,
    "start_time": "2021-07-08T16:35:21.514Z"
   },
   {
    "duration": 67,
    "start_time": "2021-07-08T16:35:21.547Z"
   },
   {
    "duration": 18,
    "start_time": "2021-07-08T16:35:21.616Z"
   },
   {
    "duration": 42,
    "start_time": "2021-07-08T16:35:21.636Z"
   },
   {
    "duration": 36,
    "start_time": "2021-07-08T16:35:21.684Z"
   },
   {
    "duration": 15,
    "start_time": "2021-07-08T16:35:21.722Z"
   },
   {
    "duration": 20,
    "start_time": "2021-07-08T16:35:21.769Z"
   },
   {
    "duration": 135,
    "start_time": "2021-07-08T16:35:21.792Z"
   },
   {
    "duration": 9,
    "start_time": "2021-07-08T16:35:21.929Z"
   },
   {
    "duration": 33,
    "start_time": "2021-07-08T16:35:21.940Z"
   },
   {
    "duration": 17,
    "start_time": "2021-07-08T16:35:21.978Z"
   },
   {
    "duration": 23,
    "start_time": "2021-07-08T16:35:21.998Z"
   },
   {
    "duration": 77,
    "start_time": "2021-07-08T16:35:22.024Z"
   },
   {
    "duration": 48,
    "start_time": "2021-07-08T16:35:22.104Z"
   },
   {
    "duration": 36,
    "start_time": "2021-07-08T16:35:22.155Z"
   },
   {
    "duration": 21,
    "start_time": "2021-07-08T16:35:22.201Z"
   },
   {
    "duration": 11,
    "start_time": "2021-07-08T16:35:22.226Z"
   },
   {
    "duration": 26,
    "start_time": "2021-07-08T16:35:22.270Z"
   },
   {
    "duration": 8,
    "start_time": "2021-07-08T16:35:22.298Z"
   },
   {
    "duration": 15,
    "start_time": "2021-07-08T16:35:22.309Z"
   },
   {
    "duration": 57,
    "start_time": "2021-07-08T16:35:22.327Z"
   },
   {
    "duration": 18,
    "start_time": "2021-07-08T16:35:22.386Z"
   },
   {
    "duration": 10,
    "start_time": "2021-07-08T16:35:22.407Z"
   },
   {
    "duration": 51,
    "start_time": "2021-07-08T16:35:22.419Z"
   },
   {
    "duration": 16,
    "start_time": "2021-07-08T16:35:22.473Z"
   },
   {
    "duration": 10,
    "start_time": "2021-07-08T16:35:22.492Z"
   },
   {
    "duration": 6,
    "start_time": "2021-07-08T16:35:22.505Z"
   },
   {
    "duration": 111,
    "start_time": "2021-07-08T16:35:22.514Z"
   },
   {
    "duration": 61,
    "start_time": "2021-07-08T16:35:22.627Z"
   },
   {
    "duration": 30,
    "start_time": "2021-07-08T16:35:22.691Z"
   },
   {
    "duration": 8,
    "start_time": "2021-07-08T16:35:22.723Z"
   },
   {
    "duration": 55,
    "start_time": "2021-07-08T16:35:22.733Z"
   },
   {
    "duration": 11,
    "start_time": "2021-07-08T16:35:22.790Z"
   },
   {
    "duration": 35,
    "start_time": "2021-07-08T16:35:22.804Z"
   },
   {
    "duration": 41,
    "start_time": "2021-07-08T16:35:22.867Z"
   },
   {
    "duration": 27,
    "start_time": "2021-07-08T16:35:22.911Z"
   },
   {
    "duration": 45,
    "start_time": "2021-07-08T16:35:22.941Z"
   },
   {
    "duration": 24,
    "start_time": "2021-07-08T16:35:22.988Z"
   },
   {
    "duration": 80,
    "start_time": "2021-07-08T16:35:23.014Z"
   },
   {
    "duration": 14,
    "start_time": "2021-07-08T16:35:23.097Z"
   },
   {
    "duration": 10,
    "start_time": "2021-07-08T16:35:23.113Z"
   },
   {
    "duration": 17,
    "start_time": "2021-07-08T16:35:23.126Z"
   },
   {
    "duration": 46,
    "start_time": "2021-07-08T16:35:23.145Z"
   },
   {
    "duration": 6,
    "start_time": "2021-07-08T16:35:23.194Z"
   },
   {
    "duration": 17,
    "start_time": "2021-07-08T16:35:23.202Z"
   },
   {
    "duration": 69,
    "start_time": "2021-07-08T16:35:23.221Z"
   },
   {
    "duration": 6,
    "start_time": "2021-07-08T16:35:23.293Z"
   },
   {
    "duration": 21,
    "start_time": "2021-07-08T16:35:23.302Z"
   },
   {
    "duration": 5,
    "start_time": "2021-07-08T16:35:23.326Z"
   },
   {
    "duration": 37,
    "start_time": "2021-07-08T16:35:23.334Z"
   },
   {
    "duration": 13,
    "start_time": "2021-07-08T16:35:23.374Z"
   },
   {
    "duration": 9,
    "start_time": "2021-07-08T16:35:23.390Z"
   },
   {
    "duration": 24,
    "start_time": "2021-07-08T16:35:23.402Z"
   },
   {
    "duration": 46,
    "start_time": "2021-07-08T16:35:23.429Z"
   },
   {
    "duration": 19,
    "start_time": "2021-07-08T16:35:23.479Z"
   },
   {
    "duration": 5,
    "start_time": "2021-07-08T16:35:23.501Z"
   },
   {
    "duration": 21,
    "start_time": "2021-07-08T16:35:23.509Z"
   },
   {
    "duration": 48,
    "start_time": "2021-07-08T16:35:23.532Z"
   },
   {
    "duration": 18,
    "start_time": "2021-07-08T16:35:23.584Z"
   },
   {
    "duration": 19,
    "start_time": "2021-07-08T16:35:23.604Z"
   },
   {
    "duration": 7,
    "start_time": "2021-07-08T16:35:23.671Z"
   },
   {
    "duration": 7,
    "start_time": "2021-07-08T16:35:23.682Z"
   },
   {
    "duration": 20,
    "start_time": "2021-07-08T16:35:23.691Z"
   },
   {
    "duration": 9,
    "start_time": "2021-07-08T16:35:23.713Z"
   },
   {
    "duration": 45,
    "start_time": "2021-07-08T16:35:23.725Z"
   },
   {
    "duration": 21,
    "start_time": "2021-07-08T16:35:23.773Z"
   },
   {
    "duration": 13,
    "start_time": "2021-07-08T16:35:23.797Z"
   },
   {
    "duration": 543,
    "start_time": "2021-07-08T16:35:23.813Z"
   },
   {
    "duration": 28,
    "start_time": "2021-07-08T16:35:24.359Z"
   },
   {
    "duration": 158,
    "start_time": "2021-07-08T16:35:24.389Z"
   },
   {
    "duration": 7,
    "start_time": "2021-07-08T16:35:24.549Z"
   },
   {
    "duration": 15,
    "start_time": "2021-07-08T16:35:24.566Z"
   },
   {
    "duration": 16,
    "start_time": "2021-07-08T16:35:24.584Z"
   },
   {
    "duration": 430,
    "start_time": "2021-07-08T16:35:24.603Z"
   },
   {
    "duration": 808,
    "start_time": "2021-07-08T16:35:25.035Z"
   },
   {
    "duration": 22,
    "start_time": "2021-07-08T16:35:25.845Z"
   },
   {
    "duration": 15,
    "start_time": "2021-07-08T16:35:25.871Z"
   },
   {
    "duration": 13,
    "start_time": "2021-07-08T16:35:25.889Z"
   },
   {
    "duration": 16,
    "start_time": "2021-07-08T16:35:25.904Z"
   },
   {
    "duration": 22,
    "start_time": "2021-07-08T16:35:25.923Z"
   },
   {
    "duration": 527,
    "start_time": "2021-07-08T16:35:25.968Z"
   },
   {
    "duration": 853,
    "start_time": "2021-07-08T16:35:26.499Z"
   },
   {
    "duration": 19,
    "start_time": "2021-07-08T16:35:27.355Z"
   },
   {
    "duration": 21,
    "start_time": "2021-07-08T16:35:27.377Z"
   },
   {
    "duration": 18,
    "start_time": "2021-07-08T16:35:27.400Z"
   },
   {
    "duration": 12,
    "start_time": "2021-07-08T16:35:27.420Z"
   },
   {
    "duration": 31,
    "start_time": "2021-07-08T16:35:27.435Z"
   },
   {
    "duration": 246,
    "start_time": "2021-07-08T16:35:27.469Z"
   },
   {
    "duration": 443,
    "start_time": "2021-07-08T16:35:27.717Z"
   },
   {
    "duration": 15,
    "start_time": "2021-07-08T16:35:28.162Z"
   },
   {
    "duration": 19,
    "start_time": "2021-07-08T16:35:28.181Z"
   },
   {
    "duration": 8,
    "start_time": "2021-07-08T16:35:28.203Z"
   },
   {
    "duration": 15,
    "start_time": "2021-07-08T16:35:28.213Z"
   },
   {
    "duration": 61,
    "start_time": "2021-07-08T16:35:28.230Z"
   },
   {
    "duration": 162,
    "start_time": "2021-07-08T16:35:28.294Z"
   },
   {
    "duration": 19,
    "start_time": "2021-07-08T16:35:28.458Z"
   },
   {
    "duration": 14,
    "start_time": "2021-07-08T16:35:28.480Z"
   },
   {
    "duration": 11,
    "start_time": "2021-07-08T18:58:11.812Z"
   },
   {
    "duration": 4,
    "start_time": "2021-07-08T18:58:18.673Z"
   },
   {
    "duration": 15,
    "start_time": "2021-07-08T18:58:18.682Z"
   },
   {
    "duration": 111134,
    "start_time": "2021-07-08T18:58:18.700Z"
   },
   {
    "duration": 5,
    "start_time": "2021-07-08T19:00:09.837Z"
   },
   {
    "duration": 627,
    "start_time": "2021-07-08T19:00:09.845Z"
   },
   {
    "duration": 23,
    "start_time": "2021-07-08T19:00:10.475Z"
   },
   {
    "duration": 17,
    "start_time": "2021-07-08T19:00:10.500Z"
   },
   {
    "duration": 63,
    "start_time": "2021-07-08T19:00:10.520Z"
   },
   {
    "duration": 18,
    "start_time": "2021-07-08T19:00:10.586Z"
   },
   {
    "duration": 16,
    "start_time": "2021-07-08T19:00:10.608Z"
   },
   {
    "duration": 62,
    "start_time": "2021-07-08T19:00:10.627Z"
   },
   {
    "duration": 22,
    "start_time": "2021-07-08T19:00:10.692Z"
   },
   {
    "duration": 50,
    "start_time": "2021-07-08T19:00:10.717Z"
   },
   {
    "duration": 175,
    "start_time": "2021-07-08T19:00:10.770Z"
   },
   {
    "duration": 21,
    "start_time": "2021-07-08T19:00:10.948Z"
   },
   {
    "duration": 23,
    "start_time": "2021-07-08T19:00:10.972Z"
   },
   {
    "duration": 22,
    "start_time": "2021-07-08T19:00:10.997Z"
   },
   {
    "duration": 21,
    "start_time": "2021-07-08T19:00:11.022Z"
   },
   {
    "duration": 45,
    "start_time": "2021-07-08T19:00:11.045Z"
   },
   {
    "duration": 76,
    "start_time": "2021-07-08T19:00:11.093Z"
   },
   {
    "duration": 15,
    "start_time": "2021-07-08T19:00:11.172Z"
   },
   {
    "duration": 26,
    "start_time": "2021-07-08T19:00:11.190Z"
   },
   {
    "duration": 13,
    "start_time": "2021-07-08T19:00:11.219Z"
   },
   {
    "duration": 21,
    "start_time": "2021-07-08T19:00:11.268Z"
   },
   {
    "duration": 10,
    "start_time": "2021-07-08T19:00:11.292Z"
   },
   {
    "duration": 28,
    "start_time": "2021-07-08T19:00:11.304Z"
   },
   {
    "duration": 50,
    "start_time": "2021-07-08T19:00:11.334Z"
   },
   {
    "duration": 23,
    "start_time": "2021-07-08T19:00:11.392Z"
   },
   {
    "duration": 12,
    "start_time": "2021-07-08T19:00:11.419Z"
   },
   {
    "duration": 42,
    "start_time": "2021-07-08T19:00:11.434Z"
   },
   {
    "duration": 17,
    "start_time": "2021-07-08T19:00:11.478Z"
   },
   {
    "duration": 12,
    "start_time": "2021-07-08T19:00:11.498Z"
   },
   {
    "duration": 26,
    "start_time": "2021-07-08T19:00:11.513Z"
   },
   {
    "duration": 107,
    "start_time": "2021-07-08T19:00:11.541Z"
   },
   {
    "duration": 72,
    "start_time": "2021-07-08T19:00:11.651Z"
   },
   {
    "duration": 55,
    "start_time": "2021-07-08T19:00:11.726Z"
   },
   {
    "duration": 10,
    "start_time": "2021-07-08T19:00:11.784Z"
   },
   {
    "duration": 18,
    "start_time": "2021-07-08T19:00:11.797Z"
   },
   {
    "duration": 13,
    "start_time": "2021-07-08T19:00:11.818Z"
   },
   {
    "duration": 56,
    "start_time": "2021-07-08T19:00:11.869Z"
   },
   {
    "duration": 51,
    "start_time": "2021-07-08T19:00:11.927Z"
   },
   {
    "duration": 26,
    "start_time": "2021-07-08T19:00:11.981Z"
   },
   {
    "duration": 15,
    "start_time": "2021-07-08T19:00:12.010Z"
   },
   {
    "duration": 46,
    "start_time": "2021-07-08T19:00:12.028Z"
   },
   {
    "duration": 42,
    "start_time": "2021-07-08T19:00:12.076Z"
   },
   {
    "duration": 15,
    "start_time": "2021-07-08T19:00:12.120Z"
   },
   {
    "duration": 39,
    "start_time": "2021-07-08T19:00:12.138Z"
   },
   {
    "duration": 17,
    "start_time": "2021-07-08T19:00:12.179Z"
   },
   {
    "duration": 20,
    "start_time": "2021-07-08T19:00:12.198Z"
   },
   {
    "duration": 7,
    "start_time": "2021-07-08T19:00:12.220Z"
   },
   {
    "duration": 49,
    "start_time": "2021-07-08T19:00:12.230Z"
   },
   {
    "duration": 33,
    "start_time": "2021-07-08T19:00:12.282Z"
   },
   {
    "duration": 6,
    "start_time": "2021-07-08T19:00:12.318Z"
   },
   {
    "duration": 51,
    "start_time": "2021-07-08T19:00:12.327Z"
   },
   {
    "duration": 10,
    "start_time": "2021-07-08T19:00:12.381Z"
   }
  ],
  "kernelspec": {
   "display_name": "Python 3",
   "language": "python",
   "name": "python3"
  },
  "language_info": {
   "codemirror_mode": {
    "name": "ipython",
    "version": 3
   },
   "file_extension": ".py",
   "mimetype": "text/x-python",
   "name": "python",
   "nbconvert_exporter": "python",
   "pygments_lexer": "ipython3",
   "version": "3.7.8"
  },
  "toc": {
   "base_numbering": 1,
   "nav_menu": {},
   "number_sections": true,
   "sideBar": true,
   "skip_h1_title": true,
   "title_cell": "Table of Contents",
   "title_sidebar": "Contents",
   "toc_cell": false,
   "toc_position": {},
   "toc_section_display": true,
   "toc_window_display": false
  }
 },
 "nbformat": 4,
 "nbformat_minor": 2
}
