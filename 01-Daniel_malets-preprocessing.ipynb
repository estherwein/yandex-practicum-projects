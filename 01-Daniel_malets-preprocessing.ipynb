{
 "cells": [
  {
   "cell_type": "markdown",
   "metadata": {},
   "source": [
    "<div style=\"border:solid green 2px; padding: 20px\">\n",
    "<b>Hello Daniel!</b>\n",
    "\n",
    "My name is Evgeniy D. I'm going to review your project!\n",
    "\n",
    "My main goal is not to show that any mistakes have been made somewhere, but to share my experience that will help you in your further work. Further in the file you can see my comments, try to take them into account when performing the next tasks.\n",
    "\n",
    "\n",
    "You can find my comments in <font color='green'>green</font>, <font color='blue'>blue</font> or <font color='orange'>orange</font> boxes like this:\n",
    "\n",
    "<div class=\"alert alert-success\">\n",
    "<b>Success:</b> if everything is done succesfully\n",
    "</div>\n",
    "\n",
    "<div class=\"alert alert-warning\">\n",
    "<b>Remarks: </b> if I can give some recommendations\n",
    "</div>\n",
    "\n",
    "<div class=\"alert alert-danger\">\n",
    "<b>Needs fixing:</b> if the block requires some corrections. Work can't be accepted with the red comments.\n",
    "</div>\n",
    "\n",
    "\n",
    "If you have 3 orange comments, we will need to adjust the project.\n",
    "    \n",
    "Let's work on the project in dialogue: if you change something in the project or respond to my comments, write about it. It will be easier for me to track the changes if you highlight your comments:\n",
    "    \n",
    "<div class=\"alert alert-info\"> <b>Student comment:</b> For example like this.</div>"
   ]
  },
  {
   "cell_type": "markdown",
   "metadata": {},
   "source": [
    "# Analyzing borrowers’ risk of defaulting\n",
    "\n",
    "Your project is to prepare a report for a bank’s loan division. You’ll need to find out if a customer’s marital status and number of children has an impact on whether they will default on a loan. The bank already has some data on customers’ credit worthiness.\n",
    "\n",
    "Your report will be considered when building a **credit scoring** of a potential customer. A ** credit scoring ** is used to evaluate the ability of a potential borrower to repay their loan."
   ]
  },
  {
   "cell_type": "markdown",
   "metadata": {},
   "source": [
    "<div class=\"alert alert-success\"> <b>Reviewer comment:</b> \n",
    "    \n",
    "Getting started is very important. So you explain what it is dedicated to. You can also provide a brief outline of the work itself and a description of the columns used.\n",
    "    \n",
    "</div>"
   ]
  },
  {
   "cell_type": "markdown",
   "metadata": {},
   "source": [
    "## 1 Open the data file and have a look at the general information. \n",
    "***"
   ]
  },
  {
   "cell_type": "code",
   "execution_count": 1,
   "metadata": {},
   "outputs": [],
   "source": [
    "import pandas as pd\n",
    "import numpy as np\n",
    "import os.path\n",
    "from pandas.api.types import is_numeric_dtype\n",
    "from IPython.display import display, display_html\n",
    "from IPython.display import Markdown as md"
   ]
  },
  {
   "cell_type": "code",
   "execution_count": 2,
   "metadata": {},
   "outputs": [],
   "source": [
    "def frequency(target):\n",
    "    '''Returns a Series containing counts of unique rows, with percent\n",
    "    \n",
    "    Keyword argument:\n",
    "    target -- a column name. defaults to 'df' variable.\n",
    "    '''\n",
    "    \n",
    "    if target is None: target = df\n",
    "    elif isinstance(target, str): target = df[target]\n",
    "        \n",
    "    concat_lambda = lambda dropna=None: pd.concat([\n",
    "            target.value_counts(dropna=dropna).rename('count'),\n",
    "            target.value_counts(normalize=True, dropna=dropna).rename('percent')\n",
    "        ], axis=1, sort=True).sort_values('count', ascending=False)\n",
    "        \n",
    "    try:\n",
    "        return concat_lambda(False)\n",
    "    except Exception:\n",
    "        return concat_lambda()"
   ]
  },
  {
   "cell_type": "code",
   "execution_count": 3,
   "metadata": {},
   "outputs": [],
   "source": [
    "from itertools import combinations\n",
    "\n",
    "# this function existence is only so the rest of the notebook looks cleaner.\n",
    "# it is unmaintainable, and should be deleted,\n",
    "# or at least refactored to a class and re-written.\n",
    "def explore_column(column, \n",
    "                   round_to=3, \n",
    "                   sort='index', \n",
    "                   missing_values=True, \n",
    "                   apply=None, \n",
    "                   compare=False, \n",
    "                   display=True):\n",
    "    '''\n",
    "    Displays unique rows count (with percent) of a Dataframe's column/s.\n",
    "    Can report missing values count. \n",
    "    Can also compare a list of columns, pair by pair.\n",
    "    \n",
    "    column (str/list)      -- column name / list of columns\n",
    "    round_to (int)         -- decimal round of float values, 3 by default\n",
    "    sort ('index'/'value') -- sort 'unique rows count' report by either 'index' (default), or 'value', or None\n",
    "    missing values (bool)  -- report missing values count\n",
    "    apply (function)       -- apply any transformation (function) to the resulting 'unique rows count' report\n",
    "    compare (bool)         -- compare every pair of columns\n",
    "    display (bool)         -- print resulting reports\n",
    "    \n",
    "    Returns:\n",
    "    if a single column:\n",
    "        dataframe: unique rows count report\n",
    "        int: missing values count (optional)\n",
    "        \n",
    "    if multiple columns:\n",
    "        list<dataframe>: unique rows count report, by column\n",
    "        dict: missing values count, by column (optional)\n",
    "        dict: comparison report, by pairs of columns (optional)\n",
    "    '''\n",
    "    \n",
    "    def build_report(c):\n",
    "        df2 = None\n",
    "        if is_numeric_dtype(df[c]):\n",
    "            df2 = df[c].describe().to_frame().astype('object').T\n",
    "        \n",
    "        df1 = frequency(c)\n",
    "        \n",
    "        if sort == 'index':\n",
    "            df1.sort_index(inplace=True)\n",
    "        elif sort == 'value' or sort == 'count':\n",
    "            df1.sort_values('count', ascending=False, inplace=True)\n",
    "            \n",
    "        df1 = df1.rename_axis(c).round(round_to)\n",
    "            \n",
    "        if apply and callable(apply):\n",
    "            df1 = apply(df1)\n",
    "            \n",
    "        df1 = df1.astype('object').T\n",
    "        \n",
    "        return (df2, df1) if isinstance(df2, pd.DataFrame) else df1\n",
    "    \n",
    "    def _compare(c1, c2):\n",
    "        if len(c1.columns) != len(c2.columns):\n",
    "            return False\n",
    "        \n",
    "        return (c1.copy().rename(columns=lambda x:'') \\\n",
    "            == c2.copy().rename(columns=lambda x:'')).all().all()\n",
    "    \n",
    "    def display_summaries(summaries):\n",
    "        func = lambda s: _display(*s) if isinstance(s, list) or isinstance(s, tuple) else _display(s)\n",
    "        \n",
    "        if isinstance(summaries, list):\n",
    "            for s in summaries:\n",
    "                func(s)\n",
    "        else:\n",
    "            func(summaries)\n",
    "            \n",
    "    _display = globals()['display']\n",
    "    \n",
    "    if isinstance(column, list):\n",
    "        summaries = [build_report(c) for c in column]\n",
    "        output = [summaries]\n",
    "        \n",
    "        nans = None\n",
    "        if missing_values:\n",
    "            nans = {df[c].name: df[c].isna().sum() for c in column}\n",
    "            output.append(nans)\n",
    "        \n",
    "        comparison = None\n",
    "        if compare:\n",
    "            comparison = {f'{c1.columns.name}__{c2.columns.name}': _compare(c1, c2) \n",
    "                               for c1, c2 in combinations(\n",
    "                                   summaries[1] if isinstance(summaries, list) else summaries,2)}\n",
    "            output.append(comparison)\n",
    "            \n",
    "        if display:\n",
    "            display_summaries(summaries)\n",
    "                \n",
    "            if missing_values:\n",
    "                _display(md(f'Missing values: {nans}'))\n",
    "    else:\n",
    "        summaries = build_report(column)\n",
    "        output = [summaries]\n",
    "        \n",
    "        nans = None\n",
    "        if missing_values:\n",
    "            nans = df[column].isna().sum()\n",
    "            output.append(nans)\n",
    "                      \n",
    "        if display:\n",
    "            display_summaries(summaries)\n",
    "                \n",
    "            if missing_values:\n",
    "                _display(md(f'Missing values: {nans}'))\n",
    "    \n",
    "    return output if len(output) > 1 else summaries\n",
    "\n",
    "# examples\n",
    "# a, b = explore_column('education', sort='count');\n",
    "# print(type(a), type(b))\n",
    "# a, b, c = explore_column(['education', 'education_id'], sort='count', compare=True);\n",
    "# print(type(a), type(b), type(c))"
   ]
  },
  {
   "cell_type": "markdown",
   "metadata": {},
   "source": [
    "<div class=\"alert alert-success\"> <b>Reviewer comment:</b> \n",
    "    \n",
    "It's great that we are already creating our own functions :)\n",
    "\n",
    "It is especially cool that they have docstrings, because with the help of them it is much easier to understand what the function is doing.\n",
    "    \n",
    "</div>"
   ]
  },
  {
   "cell_type": "markdown",
   "metadata": {},
   "source": [
    "\n"
   ]
  },
  {
   "cell_type": "markdown",
   "metadata": {},
   "source": [
    "## Inspect file\n",
    "***\n",
    "\\* 'Dataframe' will be abbreviated 'df' for convenience.  \n",
    "\\* Most dataframes will be presented after being transposed, to save some space.\n",
    "\n",
    "First, inspect the dataset file's metadata (size (mb), encoding, date),  \n",
    "and print a small snippet.  \n",
    "\n",
    "Afterwards,  \n",
    "load the file into a pandas df,  \n",
    "visually inspect the df itself and confirm it has loaded successfully,  \n",
    "then its metadata (index, columns' name and type, memory)."
   ]
  },
  {
   "cell_type": "code",
   "execution_count": 4,
   "metadata": {},
   "outputs": [],
   "source": [
    "# use relevant dataset file, depending on the platform the project runs on (local/review).\n",
    "\n",
    "filename = 'credit_scoring_eng.csv'\n",
    "filepath = f'/datasets/{filename}'\n",
    "if not os.path.isfile(filepath):\n",
    "    filepath = filename\n",
    "# print(filepath)"
   ]
  },
  {
   "cell_type": "code",
   "execution_count": 5,
   "metadata": {},
   "outputs": [
    {
     "name": "stdout",
     "output_type": "stream",
     "text": [
      "du: invalid option -- 'M'\n",
      "Try 'du --help' for more information.\n",
      "stat: invalid option -- 'l'\n",
      "Try 'stat --help' for more information.\n",
      "/bin/bash: file: command not found\n",
      "children,days_employed,dob_years,education,education_id,family_status,family_status_id,gender,income_type,debt,total_income,purpose\n",
      "1,-8437.673027760233,42,bachelor's degree,0,married,0,F,employee,0,40620.102,purchase of the house\n",
      "1,-4024.803753850451,36,secondary education,1,married,0,F,employee,0,17932.802,car purchase\n",
      "0,-5623.422610230956,33,Secondary Education,1,married,0,M,employee,0,23341.752,purchase of the house\n",
      "3,-4124.747206540018,32,secondary education,1,married,0,M,employee,0,42820.568,supplementary education\n",
      "0,340266.07204682194,53,secondary education,1,civil partnership,1,F,retiree,0,25378.572,to have a wedding\n"
     ]
    }
   ],
   "source": [
    "!du -M \"$filepath\"          # filesize in MiB\n",
    "!stat -l \"$filepath\"        # date, filename\n",
    "!file \"$filepath\"           # file type, encoding\n",
    "try:\n",
    "    !head -n6 \"$filepath\"   # file preview\n",
    "except Exception as e:\n",
    "    print(e)"
   ]
  },
  {
   "cell_type": "markdown",
   "metadata": {},
   "source": [
    "<div class=\"alert alert-success\"> <b>Reviewer comment:</b> \n",
    "    \n",
    "Interesting way 😊👏\n",
    "    \n",
    "</div>"
   ]
  },
  {
   "cell_type": "code",
   "execution_count": 6,
   "metadata": {},
   "outputs": [],
   "source": [
    "df = pd.read_csv(filepath)\n",
    "pd.options.display.max_columns = len(df.columns)"
   ]
  },
  {
   "cell_type": "code",
   "execution_count": 7,
   "metadata": {},
   "outputs": [
    {
     "data": {
      "text/html": [
       "<div>\n",
       "<style scoped>\n",
       "    .dataframe tbody tr th:only-of-type {\n",
       "        vertical-align: middle;\n",
       "    }\n",
       "\n",
       "    .dataframe tbody tr th {\n",
       "        vertical-align: top;\n",
       "    }\n",
       "\n",
       "    .dataframe thead th {\n",
       "        text-align: right;\n",
       "    }\n",
       "</style>\n",
       "<table border=\"1\" class=\"dataframe\">\n",
       "  <thead>\n",
       "    <tr style=\"text-align: right;\">\n",
       "      <th></th>\n",
       "      <th>children</th>\n",
       "      <th>days_employed</th>\n",
       "      <th>dob_years</th>\n",
       "      <th>education</th>\n",
       "      <th>education_id</th>\n",
       "      <th>family_status</th>\n",
       "      <th>family_status_id</th>\n",
       "      <th>gender</th>\n",
       "      <th>income_type</th>\n",
       "      <th>debt</th>\n",
       "      <th>total_income</th>\n",
       "      <th>purpose</th>\n",
       "    </tr>\n",
       "  </thead>\n",
       "  <tbody>\n",
       "    <tr>\n",
       "      <td>0</td>\n",
       "      <td>1</td>\n",
       "      <td>-8437.673028</td>\n",
       "      <td>42</td>\n",
       "      <td>bachelor's degree</td>\n",
       "      <td>0</td>\n",
       "      <td>married</td>\n",
       "      <td>0</td>\n",
       "      <td>F</td>\n",
       "      <td>employee</td>\n",
       "      <td>0</td>\n",
       "      <td>40620.102</td>\n",
       "      <td>purchase of the house</td>\n",
       "    </tr>\n",
       "    <tr>\n",
       "      <td>1</td>\n",
       "      <td>1</td>\n",
       "      <td>-4024.803754</td>\n",
       "      <td>36</td>\n",
       "      <td>secondary education</td>\n",
       "      <td>1</td>\n",
       "      <td>married</td>\n",
       "      <td>0</td>\n",
       "      <td>F</td>\n",
       "      <td>employee</td>\n",
       "      <td>0</td>\n",
       "      <td>17932.802</td>\n",
       "      <td>car purchase</td>\n",
       "    </tr>\n",
       "    <tr>\n",
       "      <td>2</td>\n",
       "      <td>0</td>\n",
       "      <td>-5623.422610</td>\n",
       "      <td>33</td>\n",
       "      <td>Secondary Education</td>\n",
       "      <td>1</td>\n",
       "      <td>married</td>\n",
       "      <td>0</td>\n",
       "      <td>M</td>\n",
       "      <td>employee</td>\n",
       "      <td>0</td>\n",
       "      <td>23341.752</td>\n",
       "      <td>purchase of the house</td>\n",
       "    </tr>\n",
       "    <tr>\n",
       "      <td>3</td>\n",
       "      <td>3</td>\n",
       "      <td>-4124.747207</td>\n",
       "      <td>32</td>\n",
       "      <td>secondary education</td>\n",
       "      <td>1</td>\n",
       "      <td>married</td>\n",
       "      <td>0</td>\n",
       "      <td>M</td>\n",
       "      <td>employee</td>\n",
       "      <td>0</td>\n",
       "      <td>42820.568</td>\n",
       "      <td>supplementary education</td>\n",
       "    </tr>\n",
       "    <tr>\n",
       "      <td>4</td>\n",
       "      <td>0</td>\n",
       "      <td>340266.072047</td>\n",
       "      <td>53</td>\n",
       "      <td>secondary education</td>\n",
       "      <td>1</td>\n",
       "      <td>civil partnership</td>\n",
       "      <td>1</td>\n",
       "      <td>F</td>\n",
       "      <td>retiree</td>\n",
       "      <td>0</td>\n",
       "      <td>25378.572</td>\n",
       "      <td>to have a wedding</td>\n",
       "    </tr>\n",
       "  </tbody>\n",
       "</table>\n",
       "</div>"
      ],
      "text/plain": [
       "   children  days_employed  dob_years            education  education_id  \\\n",
       "0         1   -8437.673028         42    bachelor's degree             0   \n",
       "1         1   -4024.803754         36  secondary education             1   \n",
       "2         0   -5623.422610         33  Secondary Education             1   \n",
       "3         3   -4124.747207         32  secondary education             1   \n",
       "4         0  340266.072047         53  secondary education             1   \n",
       "\n",
       "       family_status  family_status_id gender income_type  debt  total_income  \\\n",
       "0            married                 0      F    employee     0     40620.102   \n",
       "1            married                 0      F    employee     0     17932.802   \n",
       "2            married                 0      M    employee     0     23341.752   \n",
       "3            married                 0      M    employee     0     42820.568   \n",
       "4  civil partnership                 1      F     retiree     0     25378.572   \n",
       "\n",
       "                   purpose  \n",
       "0    purchase of the house  \n",
       "1             car purchase  \n",
       "2    purchase of the house  \n",
       "3  supplementary education  \n",
       "4        to have a wedding  "
      ]
     },
     "metadata": {},
     "output_type": "display_data"
    },
    {
     "name": "stdout",
     "output_type": "stream",
     "text": [
      "index: RangeIndex(start=0, stop=21525, step=1)\n",
      "shape: (21525, 12)\n",
      "\n",
      "<class 'pandas.core.frame.DataFrame'>\n",
      "RangeIndex: 21525 entries, 0 to 21524\n",
      "Data columns (total 12 columns):\n",
      "children            21525 non-null int64\n",
      "days_employed       19351 non-null float64\n",
      "dob_years           21525 non-null int64\n",
      "education           21525 non-null object\n",
      "education_id        21525 non-null int64\n",
      "family_status       21525 non-null object\n",
      "family_status_id    21525 non-null int64\n",
      "gender              21525 non-null object\n",
      "income_type         21525 non-null object\n",
      "debt                21525 non-null int64\n",
      "total_income        19351 non-null float64\n",
      "purpose             21525 non-null object\n",
      "dtypes: float64(2), int64(5), object(5)\n",
      "memory usage: 2.0+ MB\n"
     ]
    }
   ],
   "source": [
    "display(df.head(5))\n",
    "print(f'index: {df.index}\\nshape: {df.shape}\\n')\n",
    "df.info()"
   ]
  },
  {
   "cell_type": "markdown",
   "metadata": {},
   "source": [
    "First 5 rows of the dataframe are matching the first 5 rows of the file's preview, parsing looks OK."
   ]
  },
  {
   "cell_type": "code",
   "execution_count": 8,
   "metadata": {},
   "outputs": [
    {
     "data": {
      "text/html": [
       "<div>\n",
       "<style scoped>\n",
       "    .dataframe tbody tr th:only-of-type {\n",
       "        vertical-align: middle;\n",
       "    }\n",
       "\n",
       "    .dataframe tbody tr th {\n",
       "        vertical-align: top;\n",
       "    }\n",
       "\n",
       "    .dataframe thead th {\n",
       "        text-align: right;\n",
       "    }\n",
       "</style>\n",
       "<table border=\"1\" class=\"dataframe\">\n",
       "  <thead>\n",
       "    <tr style=\"text-align: right;\">\n",
       "      <th></th>\n",
       "      <th>children</th>\n",
       "      <th>days_employed</th>\n",
       "      <th>dob_years</th>\n",
       "      <th>education_id</th>\n",
       "      <th>family_status_id</th>\n",
       "      <th>debt</th>\n",
       "      <th>total_income</th>\n",
       "    </tr>\n",
       "  </thead>\n",
       "  <tbody>\n",
       "    <tr>\n",
       "      <td>count</td>\n",
       "      <td>21525.000000</td>\n",
       "      <td>19351.000000</td>\n",
       "      <td>21525.000000</td>\n",
       "      <td>21525.000000</td>\n",
       "      <td>21525.000000</td>\n",
       "      <td>21525.000000</td>\n",
       "      <td>19351.000000</td>\n",
       "    </tr>\n",
       "    <tr>\n",
       "      <td>mean</td>\n",
       "      <td>0.538908</td>\n",
       "      <td>63046.497661</td>\n",
       "      <td>43.293380</td>\n",
       "      <td>0.817236</td>\n",
       "      <td>0.972544</td>\n",
       "      <td>0.080883</td>\n",
       "      <td>26787.568355</td>\n",
       "    </tr>\n",
       "    <tr>\n",
       "      <td>std</td>\n",
       "      <td>1.381587</td>\n",
       "      <td>140827.311974</td>\n",
       "      <td>12.574584</td>\n",
       "      <td>0.548138</td>\n",
       "      <td>1.420324</td>\n",
       "      <td>0.272661</td>\n",
       "      <td>16475.450632</td>\n",
       "    </tr>\n",
       "    <tr>\n",
       "      <td>min</td>\n",
       "      <td>-1.000000</td>\n",
       "      <td>-18388.949901</td>\n",
       "      <td>0.000000</td>\n",
       "      <td>0.000000</td>\n",
       "      <td>0.000000</td>\n",
       "      <td>0.000000</td>\n",
       "      <td>3306.762000</td>\n",
       "    </tr>\n",
       "    <tr>\n",
       "      <td>25%</td>\n",
       "      <td>0.000000</td>\n",
       "      <td>-2747.423625</td>\n",
       "      <td>33.000000</td>\n",
       "      <td>1.000000</td>\n",
       "      <td>0.000000</td>\n",
       "      <td>0.000000</td>\n",
       "      <td>16488.504500</td>\n",
       "    </tr>\n",
       "    <tr>\n",
       "      <td>50%</td>\n",
       "      <td>0.000000</td>\n",
       "      <td>-1203.369529</td>\n",
       "      <td>42.000000</td>\n",
       "      <td>1.000000</td>\n",
       "      <td>0.000000</td>\n",
       "      <td>0.000000</td>\n",
       "      <td>23202.870000</td>\n",
       "    </tr>\n",
       "    <tr>\n",
       "      <td>75%</td>\n",
       "      <td>1.000000</td>\n",
       "      <td>-291.095954</td>\n",
       "      <td>53.000000</td>\n",
       "      <td>1.000000</td>\n",
       "      <td>1.000000</td>\n",
       "      <td>0.000000</td>\n",
       "      <td>32549.611000</td>\n",
       "    </tr>\n",
       "    <tr>\n",
       "      <td>max</td>\n",
       "      <td>20.000000</td>\n",
       "      <td>401755.400475</td>\n",
       "      <td>75.000000</td>\n",
       "      <td>4.000000</td>\n",
       "      <td>4.000000</td>\n",
       "      <td>1.000000</td>\n",
       "      <td>362496.645000</td>\n",
       "    </tr>\n",
       "  </tbody>\n",
       "</table>\n",
       "</div>"
      ],
      "text/plain": [
       "           children  days_employed     dob_years  education_id  \\\n",
       "count  21525.000000   19351.000000  21525.000000  21525.000000   \n",
       "mean       0.538908   63046.497661     43.293380      0.817236   \n",
       "std        1.381587  140827.311974     12.574584      0.548138   \n",
       "min       -1.000000  -18388.949901      0.000000      0.000000   \n",
       "25%        0.000000   -2747.423625     33.000000      1.000000   \n",
       "50%        0.000000   -1203.369529     42.000000      1.000000   \n",
       "75%        1.000000    -291.095954     53.000000      1.000000   \n",
       "max       20.000000  401755.400475     75.000000      4.000000   \n",
       "\n",
       "       family_status_id          debt   total_income  \n",
       "count      21525.000000  21525.000000   19351.000000  \n",
       "mean           0.972544      0.080883   26787.568355  \n",
       "std            1.420324      0.272661   16475.450632  \n",
       "min            0.000000      0.000000    3306.762000  \n",
       "25%            0.000000      0.000000   16488.504500  \n",
       "50%            0.000000      0.000000   23202.870000  \n",
       "75%            1.000000      0.000000   32549.611000  \n",
       "max            4.000000      1.000000  362496.645000  "
      ]
     },
     "execution_count": 8,
     "metadata": {},
     "output_type": "execute_result"
    }
   ],
   "source": [
    "df.describe()"
   ]
  },
  {
   "cell_type": "code",
   "execution_count": 9,
   "metadata": {},
   "outputs": [
    {
     "data": {
      "text/plain": [
       "1100"
      ]
     },
     "execution_count": 9,
     "metadata": {},
     "output_type": "execute_result"
    }
   ],
   "source": [
    "int(401755 / 365)"
   ]
  },
  {
   "cell_type": "markdown",
   "metadata": {},
   "source": [
    "Various qunatitative columns show $\\color{red}{\\text{problems}}$:\n",
    "- $\\color{red}{\\text{children}}$: negative -1, positive 20 (rare)\n",
    "- $\\color{red}{\\text{days_employed}}$: negative values, max value exploding (~1100 years), missing values\n",
    "- $\\color{red}{\\text{dob_years}}$: complex name\n",
    "- $\\color{red}{\\text{total_income}}$: missing values, max >> 75th percentile, 100k scale while other percentiles are on the same scale (10k)\n",
    "\n",
    "They will be examined more in detail in a later section."
   ]
  },
  {
   "cell_type": "markdown",
   "metadata": {},
   "source": [
    "<div class=\"alert alert-success\"> <b>Reviewer comment:</b> \n",
    "    \n",
    "We looked at our data in detail, let's prepare it now.\n",
    "    \n",
    "</div>"
   ]
  },
  {
   "cell_type": "markdown",
   "metadata": {},
   "source": [
    "### Variable Types\n",
    "#### Categorical / Quantitative\n",
    "***"
   ]
  },
  {
   "cell_type": "code",
   "execution_count": 10,
   "metadata": {},
   "outputs": [
    {
     "data": {
      "text/html": [
       "<div>\n",
       "<style scoped>\n",
       "    .dataframe tbody tr th:only-of-type {\n",
       "        vertical-align: middle;\n",
       "    }\n",
       "\n",
       "    .dataframe tbody tr th {\n",
       "        vertical-align: top;\n",
       "    }\n",
       "\n",
       "    .dataframe thead th {\n",
       "        text-align: right;\n",
       "    }\n",
       "</style>\n",
       "<table border=\"1\" class=\"dataframe\">\n",
       "  <thead>\n",
       "    <tr style=\"text-align: right;\">\n",
       "      <th></th>\n",
       "      <th>children</th>\n",
       "      <th>days_employed</th>\n",
       "      <th>dob_years</th>\n",
       "      <th>education</th>\n",
       "      <th>education_id</th>\n",
       "      <th>family_status</th>\n",
       "      <th>family_status_id</th>\n",
       "      <th>gender</th>\n",
       "      <th>income_type</th>\n",
       "      <th>debt</th>\n",
       "      <th>total_income</th>\n",
       "      <th>purpose</th>\n",
       "    </tr>\n",
       "  </thead>\n",
       "  <tbody>\n",
       "    <tr>\n",
       "      <td>type</td>\n",
       "      <td>quantitative</td>\n",
       "      <td>quantitative</td>\n",
       "      <td>quantitative</td>\n",
       "      <td>categorical</td>\n",
       "      <td>id</td>\n",
       "      <td>categorical</td>\n",
       "      <td>id</td>\n",
       "      <td>categorical</td>\n",
       "      <td>categorical</td>\n",
       "      <td>NaN</td>\n",
       "      <td>quantitative</td>\n",
       "      <td>NaN</td>\n",
       "    </tr>\n",
       "  </tbody>\n",
       "</table>\n",
       "</div>"
      ],
      "text/plain": [
       "          children days_employed     dob_years    education education_id  \\\n",
       "type  quantitative  quantitative  quantitative  categorical           id   \n",
       "\n",
       "     family_status family_status_id       gender  income_type debt  \\\n",
       "type   categorical               id  categorical  categorical  NaN   \n",
       "\n",
       "      total_income purpose  \n",
       "type  quantitative     NaN  "
      ]
     },
     "metadata": {},
     "output_type": "display_data"
    },
    {
     "data": {
      "text/html": [
       "<div>\n",
       "<style scoped>\n",
       "    .dataframe tbody tr th:only-of-type {\n",
       "        vertical-align: middle;\n",
       "    }\n",
       "\n",
       "    .dataframe tbody tr th {\n",
       "        vertical-align: top;\n",
       "    }\n",
       "\n",
       "    .dataframe thead th {\n",
       "        text-align: right;\n",
       "    }\n",
       "</style>\n",
       "<table border=\"1\" class=\"dataframe\">\n",
       "  <thead>\n",
       "    <tr style=\"text-align: right;\">\n",
       "      <th></th>\n",
       "      <th>count</th>\n",
       "      <th>percent</th>\n",
       "    </tr>\n",
       "  </thead>\n",
       "  <tbody>\n",
       "    <tr>\n",
       "      <td>categorical</td>\n",
       "      <td>4</td>\n",
       "      <td>0.33</td>\n",
       "    </tr>\n",
       "    <tr>\n",
       "      <td>quantitative</td>\n",
       "      <td>4</td>\n",
       "      <td>0.33</td>\n",
       "    </tr>\n",
       "    <tr>\n",
       "      <td>id</td>\n",
       "      <td>2</td>\n",
       "      <td>0.17</td>\n",
       "    </tr>\n",
       "    <tr>\n",
       "      <td>NaN</td>\n",
       "      <td>2</td>\n",
       "      <td>0.17</td>\n",
       "    </tr>\n",
       "  </tbody>\n",
       "</table>\n",
       "</div>"
      ],
      "text/plain": [
       "              count  percent\n",
       "categorical       4     0.33\n",
       "quantitative      4     0.33\n",
       "id                2     0.17\n",
       "NaN               2     0.17"
      ]
     },
     "metadata": {},
     "output_type": "display_data"
    }
   ],
   "source": [
    "def variable_types(round_to=2):\n",
    "    '''Displays a Series with counts of Variable Types (Quantitative / Categorical)'''\n",
    "    display(\n",
    "        _variable_types.to_frame('type').T,\n",
    "        frequency(_variable_types).round(round_to))\n",
    "    \n",
    "_variable_types = pd.Series({\n",
    "    'children': 'quantitative',\n",
    "    'days_employed': 'quantitative',\n",
    "    'dob_years': 'quantitative',\n",
    "    'education': 'categorical',\n",
    "    'education_id': 'id',\n",
    "    'family_status': 'categorical',\n",
    "    'family_status_id': 'id',\n",
    "    'gender': 'categorical',\n",
    "    'income_type': 'categorical',\n",
    "    'debt': np.NaN,\n",
    "    'total_income': 'quantitative',\n",
    "    'purpose': np.NaN,\n",
    "})\n",
    "\n",
    "variable_types()"
   ]
  },
  {
   "cell_type": "markdown",
   "metadata": {},
   "source": [
    "There are 2 columns of unclear variable type: 'debt' and 'purpose'. Exploring further."
   ]
  },
  {
   "cell_type": "code",
   "execution_count": 11,
   "metadata": {},
   "outputs": [
    {
     "data": {
      "text/plain": [
       "0    19784\n",
       "1     1741\n",
       "Name: debt, dtype: int64"
      ]
     },
     "execution_count": 11,
     "metadata": {},
     "output_type": "execute_result"
    }
   ],
   "source": [
    "df['debt'].value_counts(dropna=False)"
   ]
  },
  {
   "cell_type": "markdown",
   "metadata": {},
   "source": [
    "'debt' has 2 unique values: 0 and 1, a categorical variable."
   ]
  },
  {
   "cell_type": "code",
   "execution_count": 12,
   "metadata": {},
   "outputs": [],
   "source": [
    "_variable_types['debt'] = 'categorical'"
   ]
  },
  {
   "cell_type": "code",
   "execution_count": 13,
   "metadata": {},
   "outputs": [
    {
     "data": {
      "text/html": [
       "<div>\n",
       "<style scoped>\n",
       "    .dataframe tbody tr th:only-of-type {\n",
       "        vertical-align: middle;\n",
       "    }\n",
       "\n",
       "    .dataframe tbody tr th {\n",
       "        vertical-align: top;\n",
       "    }\n",
       "\n",
       "    .dataframe thead th {\n",
       "        text-align: right;\n",
       "    }\n",
       "</style>\n",
       "<table border=\"1\" class=\"dataframe\">\n",
       "  <thead>\n",
       "    <tr style=\"text-align: right;\">\n",
       "      <th></th>\n",
       "      <th>wedding ceremony</th>\n",
       "      <th>having a wedding</th>\n",
       "      <th>to have a wedding</th>\n",
       "      <th>real estate transactions</th>\n",
       "      <th>buy commercial real estate</th>\n",
       "      <th>buying property for renting out</th>\n",
       "      <th>...</th>\n",
       "      <th>to get a supplementary education</th>\n",
       "      <th>education</th>\n",
       "      <th>getting an education</th>\n",
       "      <th>profile education</th>\n",
       "      <th>getting higher education</th>\n",
       "      <th>to become educated</th>\n",
       "    </tr>\n",
       "  </thead>\n",
       "  <tbody>\n",
       "    <tr>\n",
       "      <td>count</td>\n",
       "      <td>797</td>\n",
       "      <td>777</td>\n",
       "      <td>774</td>\n",
       "      <td>676</td>\n",
       "      <td>664</td>\n",
       "      <td>653</td>\n",
       "      <td>...</td>\n",
       "      <td>447</td>\n",
       "      <td>447</td>\n",
       "      <td>443</td>\n",
       "      <td>436</td>\n",
       "      <td>426</td>\n",
       "      <td>412</td>\n",
       "    </tr>\n",
       "    <tr>\n",
       "      <td>percent</td>\n",
       "      <td>0.04</td>\n",
       "      <td>0.04</td>\n",
       "      <td>0.04</td>\n",
       "      <td>0.03</td>\n",
       "      <td>0.03</td>\n",
       "      <td>0.03</td>\n",
       "      <td>...</td>\n",
       "      <td>0.02</td>\n",
       "      <td>0.02</td>\n",
       "      <td>0.02</td>\n",
       "      <td>0.02</td>\n",
       "      <td>0.02</td>\n",
       "      <td>0.02</td>\n",
       "    </tr>\n",
       "  </tbody>\n",
       "</table>\n",
       "<p>2 rows × 38 columns</p>\n",
       "</div>"
      ],
      "text/plain": [
       "        wedding ceremony having a wedding to have a wedding  \\\n",
       "count                797              777               774   \n",
       "percent             0.04             0.04              0.04   \n",
       "\n",
       "        real estate transactions buy commercial real estate  \\\n",
       "count                        676                        664   \n",
       "percent                     0.03                       0.03   \n",
       "\n",
       "        buying property for renting out  ... to get a supplementary education  \\\n",
       "count                               653  ...                              447   \n",
       "percent                            0.03  ...                             0.02   \n",
       "\n",
       "        education getting an education profile education  \\\n",
       "count         447                  443               436   \n",
       "percent      0.02                 0.02              0.02   \n",
       "\n",
       "        getting higher education to become educated  \n",
       "count                        426                412  \n",
       "percent                     0.02               0.02  \n",
       "\n",
       "[2 rows x 38 columns]"
      ]
     },
     "execution_count": 13,
     "metadata": {},
     "output_type": "execute_result"
    }
   ],
   "source": [
    "frequency('purpose').round(2).astype('object').T"
   ]
  },
  {
   "cell_type": "markdown",
   "metadata": {},
   "source": [
    "'purpose' is of 'string' data type, appears to be free-text, but from a data analysis point of view - it actually hides a categorical variable.  \n",
    "There are apparent recurrent themes, i.e.: 'wedding', 'real estate', etc..  \n",
    "Later on it will be processed and converted to categories.  \n",
    "_conclusion_: categorical variable."
   ]
  },
  {
   "cell_type": "code",
   "execution_count": 14,
   "metadata": {},
   "outputs": [],
   "source": [
    "_variable_types['purpose'] = 'categorical'"
   ]
  },
  {
   "cell_type": "code",
   "execution_count": 15,
   "metadata": {
    "scrolled": true
   },
   "outputs": [
    {
     "data": {
      "text/markdown": [
       "<br />**Variable Types summary**"
      ],
      "text/plain": [
       "<IPython.core.display.Markdown object>"
      ]
     },
     "metadata": {},
     "output_type": "display_data"
    },
    {
     "data": {
      "text/html": [
       "<div>\n",
       "<style scoped>\n",
       "    .dataframe tbody tr th:only-of-type {\n",
       "        vertical-align: middle;\n",
       "    }\n",
       "\n",
       "    .dataframe tbody tr th {\n",
       "        vertical-align: top;\n",
       "    }\n",
       "\n",
       "    .dataframe thead th {\n",
       "        text-align: right;\n",
       "    }\n",
       "</style>\n",
       "<table border=\"1\" class=\"dataframe\">\n",
       "  <thead>\n",
       "    <tr style=\"text-align: right;\">\n",
       "      <th></th>\n",
       "      <th>children</th>\n",
       "      <th>days_employed</th>\n",
       "      <th>dob_years</th>\n",
       "      <th>education</th>\n",
       "      <th>education_id</th>\n",
       "      <th>family_status</th>\n",
       "      <th>family_status_id</th>\n",
       "      <th>gender</th>\n",
       "      <th>income_type</th>\n",
       "      <th>debt</th>\n",
       "      <th>total_income</th>\n",
       "      <th>purpose</th>\n",
       "    </tr>\n",
       "  </thead>\n",
       "  <tbody>\n",
       "    <tr>\n",
       "      <td>type</td>\n",
       "      <td>quantitative</td>\n",
       "      <td>quantitative</td>\n",
       "      <td>quantitative</td>\n",
       "      <td>categorical</td>\n",
       "      <td>id</td>\n",
       "      <td>categorical</td>\n",
       "      <td>id</td>\n",
       "      <td>categorical</td>\n",
       "      <td>categorical</td>\n",
       "      <td>categorical</td>\n",
       "      <td>quantitative</td>\n",
       "      <td>categorical</td>\n",
       "    </tr>\n",
       "  </tbody>\n",
       "</table>\n",
       "</div>"
      ],
      "text/plain": [
       "          children days_employed     dob_years    education education_id  \\\n",
       "type  quantitative  quantitative  quantitative  categorical           id   \n",
       "\n",
       "     family_status family_status_id       gender  income_type         debt  \\\n",
       "type   categorical               id  categorical  categorical  categorical   \n",
       "\n",
       "      total_income      purpose  \n",
       "type  quantitative  categorical  "
      ]
     },
     "metadata": {},
     "output_type": "display_data"
    },
    {
     "data": {
      "text/html": [
       "<div>\n",
       "<style scoped>\n",
       "    .dataframe tbody tr th:only-of-type {\n",
       "        vertical-align: middle;\n",
       "    }\n",
       "\n",
       "    .dataframe tbody tr th {\n",
       "        vertical-align: top;\n",
       "    }\n",
       "\n",
       "    .dataframe thead th {\n",
       "        text-align: right;\n",
       "    }\n",
       "</style>\n",
       "<table border=\"1\" class=\"dataframe\">\n",
       "  <thead>\n",
       "    <tr style=\"text-align: right;\">\n",
       "      <th></th>\n",
       "      <th>count</th>\n",
       "      <th>percent</th>\n",
       "    </tr>\n",
       "  </thead>\n",
       "  <tbody>\n",
       "    <tr>\n",
       "      <td>categorical</td>\n",
       "      <td>6</td>\n",
       "      <td>0.50</td>\n",
       "    </tr>\n",
       "    <tr>\n",
       "      <td>quantitative</td>\n",
       "      <td>4</td>\n",
       "      <td>0.33</td>\n",
       "    </tr>\n",
       "    <tr>\n",
       "      <td>id</td>\n",
       "      <td>2</td>\n",
       "      <td>0.17</td>\n",
       "    </tr>\n",
       "  </tbody>\n",
       "</table>\n",
       "</div>"
      ],
      "text/plain": [
       "              count  percent\n",
       "categorical       6     0.50\n",
       "quantitative      4     0.33\n",
       "id                2     0.17"
      ]
     },
     "metadata": {},
     "output_type": "display_data"
    }
   ],
   "source": [
    "display(md('<br />**Variable Types summary**'))\n",
    "variable_types()"
   ]
  },
  {
   "cell_type": "markdown",
   "metadata": {},
   "source": [
    "***\n",
    "### Explore by column\n",
    "Zooming in on columns, one by one, in order to detect more issues."
   ]
  },
  {
   "cell_type": "markdown",
   "metadata": {},
   "source": [
    "__Children__\n",
    "***"
   ]
  },
  {
   "cell_type": "code",
   "execution_count": 16,
   "metadata": {
    "scrolled": true
   },
   "outputs": [
    {
     "data": {
      "text/html": [
       "<div>\n",
       "<style scoped>\n",
       "    .dataframe tbody tr th:only-of-type {\n",
       "        vertical-align: middle;\n",
       "    }\n",
       "\n",
       "    .dataframe tbody tr th {\n",
       "        vertical-align: top;\n",
       "    }\n",
       "\n",
       "    .dataframe thead th {\n",
       "        text-align: right;\n",
       "    }\n",
       "</style>\n",
       "<table border=\"1\" class=\"dataframe\">\n",
       "  <thead>\n",
       "    <tr style=\"text-align: right;\">\n",
       "      <th></th>\n",
       "      <th>count</th>\n",
       "      <th>mean</th>\n",
       "      <th>std</th>\n",
       "      <th>min</th>\n",
       "      <th>25%</th>\n",
       "      <th>50%</th>\n",
       "      <th>75%</th>\n",
       "      <th>max</th>\n",
       "    </tr>\n",
       "  </thead>\n",
       "  <tbody>\n",
       "    <tr>\n",
       "      <td>children</td>\n",
       "      <td>21525</td>\n",
       "      <td>0.538908</td>\n",
       "      <td>1.38159</td>\n",
       "      <td>-1</td>\n",
       "      <td>0</td>\n",
       "      <td>0</td>\n",
       "      <td>1</td>\n",
       "      <td>20</td>\n",
       "    </tr>\n",
       "  </tbody>\n",
       "</table>\n",
       "</div>"
      ],
      "text/plain": [
       "          count      mean      std min 25% 50% 75% max\n",
       "children  21525  0.538908  1.38159  -1   0   0   1  20"
      ]
     },
     "metadata": {},
     "output_type": "display_data"
    },
    {
     "data": {
      "text/html": [
       "<div>\n",
       "<style scoped>\n",
       "    .dataframe tbody tr th:only-of-type {\n",
       "        vertical-align: middle;\n",
       "    }\n",
       "\n",
       "    .dataframe tbody tr th {\n",
       "        vertical-align: top;\n",
       "    }\n",
       "\n",
       "    .dataframe thead th {\n",
       "        text-align: right;\n",
       "    }\n",
       "</style>\n",
       "<table border=\"1\" class=\"dataframe\">\n",
       "  <thead>\n",
       "    <tr style=\"text-align: right;\">\n",
       "      <th>children</th>\n",
       "      <th>-1</th>\n",
       "      <th>0</th>\n",
       "      <th>1</th>\n",
       "      <th>2</th>\n",
       "      <th>3</th>\n",
       "      <th>4</th>\n",
       "      <th>5</th>\n",
       "      <th>20</th>\n",
       "    </tr>\n",
       "  </thead>\n",
       "  <tbody>\n",
       "    <tr>\n",
       "      <td>count</td>\n",
       "      <td>47</td>\n",
       "      <td>14149</td>\n",
       "      <td>4818</td>\n",
       "      <td>2055</td>\n",
       "      <td>330</td>\n",
       "      <td>41</td>\n",
       "      <td>9</td>\n",
       "      <td>76</td>\n",
       "    </tr>\n",
       "    <tr>\n",
       "      <td>percent</td>\n",
       "      <td>0.002</td>\n",
       "      <td>0.657</td>\n",
       "      <td>0.224</td>\n",
       "      <td>0.095</td>\n",
       "      <td>0.015</td>\n",
       "      <td>0.002</td>\n",
       "      <td>0</td>\n",
       "      <td>0.004</td>\n",
       "    </tr>\n",
       "  </tbody>\n",
       "</table>\n",
       "</div>"
      ],
      "text/plain": [
       "children    -1      0      1      2      3      4   5      20\n",
       "count        47  14149   4818   2055    330     41   9     76\n",
       "percent   0.002  0.657  0.224  0.095  0.015  0.002   0  0.004"
      ]
     },
     "metadata": {},
     "output_type": "display_data"
    },
    {
     "data": {
      "text/markdown": [
       "Missing values: 0"
      ],
      "text/plain": [
       "<IPython.core.display.Markdown object>"
      ]
     },
     "metadata": {},
     "output_type": "display_data"
    }
   ],
   "source": [
    "explore_column('children');"
   ]
  },
  {
   "cell_type": "markdown",
   "metadata": {},
   "source": [
    "Can't have a negative amount of children (-1), will treat it as a typing mistake - $\\color{green}{\\text{convert to 1}}$.  \n",
    "To have 20 children is very rare, and 76 occurences (vs. 9 occurences of 5 children) is irrational.  \n",
    "\\- will treat it as a typing mistake as well, and $\\color{green}{\\text{convert to 2}}$."
   ]
  },
  {
   "cell_type": "markdown",
   "metadata": {},
   "source": [
    " "
   ]
  },
  {
   "cell_type": "markdown",
   "metadata": {},
   "source": [
    "__Days Employed__\n",
    "***"
   ]
  },
  {
   "cell_type": "code",
   "execution_count": 17,
   "metadata": {
    "scrolled": false
   },
   "outputs": [
    {
     "data": {
      "text/html": [
       "<div>\n",
       "<style scoped>\n",
       "    .dataframe tbody tr th:only-of-type {\n",
       "        vertical-align: middle;\n",
       "    }\n",
       "\n",
       "    .dataframe tbody tr th {\n",
       "        vertical-align: top;\n",
       "    }\n",
       "\n",
       "    .dataframe thead th {\n",
       "        text-align: right;\n",
       "    }\n",
       "</style>\n",
       "<table border=\"1\" class=\"dataframe\">\n",
       "  <thead>\n",
       "    <tr style=\"text-align: right;\">\n",
       "      <th></th>\n",
       "      <th>count</th>\n",
       "      <th>mean</th>\n",
       "      <th>std</th>\n",
       "      <th>min</th>\n",
       "      <th>25%</th>\n",
       "      <th>50%</th>\n",
       "      <th>75%</th>\n",
       "      <th>max</th>\n",
       "    </tr>\n",
       "  </thead>\n",
       "  <tbody>\n",
       "    <tr>\n",
       "      <td>days_employed</td>\n",
       "      <td>19351</td>\n",
       "      <td>63046.5</td>\n",
       "      <td>140827</td>\n",
       "      <td>-18388.9</td>\n",
       "      <td>-2747.42</td>\n",
       "      <td>-1203.37</td>\n",
       "      <td>-291.096</td>\n",
       "      <td>401755</td>\n",
       "    </tr>\n",
       "  </tbody>\n",
       "</table>\n",
       "</div>"
      ],
      "text/plain": [
       "               count     mean     std      min      25%      50%      75%  \\\n",
       "days_employed  19351  63046.5  140827 -18388.9 -2747.42 -1203.37 -291.096   \n",
       "\n",
       "                  max  \n",
       "days_employed  401755  "
      ]
     },
     "metadata": {},
     "output_type": "display_data"
    },
    {
     "data": {
      "text/html": [
       "<div>\n",
       "<style scoped>\n",
       "    .dataframe tbody tr th:only-of-type {\n",
       "        vertical-align: middle;\n",
       "    }\n",
       "\n",
       "    .dataframe tbody tr th {\n",
       "        vertical-align: top;\n",
       "    }\n",
       "\n",
       "    .dataframe thead th {\n",
       "        text-align: right;\n",
       "    }\n",
       "</style>\n",
       "<table border=\"1\" class=\"dataframe\">\n",
       "  <thead>\n",
       "    <tr style=\"text-align: right;\">\n",
       "      <th>days_employed</th>\n",
       "      <th>-18388.949901</th>\n",
       "      <th>-17615.563266</th>\n",
       "      <th>-16593.472817</th>\n",
       "      <th>-16264.699501</th>\n",
       "      <th>-16119.687737</th>\n",
       "      <th>-15835.725775</th>\n",
       "      <th>...</th>\n",
       "      <th>401663.850046</th>\n",
       "      <th>401674.466633</th>\n",
       "      <th>401675.093434</th>\n",
       "      <th>401715.811749</th>\n",
       "      <th>401755.400475</th>\n",
       "      <th>NaN</th>\n",
       "    </tr>\n",
       "  </thead>\n",
       "  <tbody>\n",
       "    <tr>\n",
       "      <td>count</td>\n",
       "      <td>1</td>\n",
       "      <td>1</td>\n",
       "      <td>1</td>\n",
       "      <td>1</td>\n",
       "      <td>1</td>\n",
       "      <td>1</td>\n",
       "      <td>...</td>\n",
       "      <td>1</td>\n",
       "      <td>1</td>\n",
       "      <td>1</td>\n",
       "      <td>1</td>\n",
       "      <td>1</td>\n",
       "      <td>2174</td>\n",
       "    </tr>\n",
       "    <tr>\n",
       "      <td>percent</td>\n",
       "      <td>0</td>\n",
       "      <td>0</td>\n",
       "      <td>0</td>\n",
       "      <td>0</td>\n",
       "      <td>0</td>\n",
       "      <td>0</td>\n",
       "      <td>...</td>\n",
       "      <td>0</td>\n",
       "      <td>0</td>\n",
       "      <td>0</td>\n",
       "      <td>0</td>\n",
       "      <td>0</td>\n",
       "      <td>0.101</td>\n",
       "    </tr>\n",
       "  </tbody>\n",
       "</table>\n",
       "<p>2 rows × 19352 columns</p>\n",
       "</div>"
      ],
      "text/plain": [
       "days_employed -18388.949901  -17615.563266  -16593.472817  -16264.699501   \\\n",
       "count                      1              1              1              1   \n",
       "percent                    0              0              0              0   \n",
       "\n",
       "days_employed -16119.687737  -15835.725775   ...  401663.850046  \\\n",
       "count                      1              1  ...              1   \n",
       "percent                    0              0  ...              0   \n",
       "\n",
       "days_employed  401674.466633  401675.093434  401715.811749  401755.400475  \\\n",
       "count                      1              1              1              1   \n",
       "percent                    0              0              0              0   \n",
       "\n",
       "days_employed  NaN            \n",
       "count                   2174  \n",
       "percent                0.101  \n",
       "\n",
       "[2 rows x 19352 columns]"
      ]
     },
     "metadata": {},
     "output_type": "display_data"
    },
    {
     "data": {
      "text/markdown": [
       "Missing values: 2174"
      ],
      "text/plain": [
       "<IPython.core.display.Markdown object>"
      ]
     },
     "metadata": {},
     "output_type": "display_data"
    }
   ],
   "source": [
    "explore_column('days_employed');"
   ]
  },
  {
   "cell_type": "code",
   "execution_count": 18,
   "metadata": {
    "scrolled": false
   },
   "outputs": [
    {
     "name": "stdout",
     "output_type": "stream",
     "text": [
      "401755 (max days_employed value) / 365 days = 1100.6986301369864 years\n",
      "80 years * 365 days = 29200 days\n"
     ]
    }
   ],
   "source": [
    "print(f'401755 (max days_employed value) / 365 days = {401755 / 365} years')\n",
    "print(f'80 years * 365 days = {80 * 365} days')"
   ]
  },
  {
   "cell_type": "code",
   "execution_count": 19,
   "metadata": {
    "scrolled": true
   },
   "outputs": [
    {
     "data": {
      "text/plain": [
       "(30000, 1000000]     3445\n",
       "(10000, 30000]          0\n",
       "(1000, 10000]           0\n",
       "(100, 1000]             0\n",
       "(0, 100]                0\n",
       "(-40000, 0]         15906\n",
       "Name: days_employed, dtype: int64"
      ]
     },
     "execution_count": 19,
     "metadata": {},
     "output_type": "execute_result"
    }
   ],
   "source": [
    "days_employed_bins = pd.cut(\n",
    "    df['days_employed'],\n",
    "    bins=[-40000, 0, 100, 1000, 10000, 30000, 1000000]\n",
    ").value_counts().sort_index(ascending=False)\n",
    "days_employed_bins"
   ]
  },
  {
   "cell_type": "code",
   "execution_count": 20,
   "metadata": {},
   "outputs": [
    {
     "data": {
      "text/plain": [
       "(30000, 1000000]     3445\n",
       "(10000, 30000]          0\n",
       "(1000, 10000]           0\n",
       "(100, 1000]             0\n",
       "(0, 100]                0\n",
       "(-40000, 0]         15906\n",
       "Name: days_employed, dtype: int64"
      ]
     },
     "execution_count": 20,
     "metadata": {},
     "output_type": "execute_result"
    }
   ],
   "source": [
    "days_employed_bins"
   ]
  },
  {
   "cell_type": "code",
   "execution_count": 21,
   "metadata": {
    "scrolled": false
   },
   "outputs": [
    {
     "name": "stdout",
     "output_type": "stream",
     "text": [
      "days employed of range (30000, 1000000]: 18%\n",
      "days employed of range (-40000, 0]: 82%\n"
     ]
    }
   ],
   "source": [
    "print(f'days employed of range (30000, 1000000]: {days_employed_bins.iloc[0] / days_employed_bins.sum():.0%}')\n",
    "print(f'days employed of range (-40000, 0]: {days_employed_bins.iloc[-1] / days_employed_bins.sum():.0%}')"
   ]
  },
  {
   "cell_type": "markdown",
   "metadata": {},
   "source": [
    "<div class=\"alert alert-danger\"> <b>Reviewer comment:</b> \n",
    "    \n",
    "<s>Something went wrong ☹️, please see what's wrong\n",
    "    \n",
    "</div>"
   ]
  },
  {
   "cell_type": "code",
   "execution_count": 22,
   "metadata": {},
   "outputs": [
    {
     "data": {
      "text/plain": [
       "'0.25.1'"
      ]
     },
     "execution_count": 22,
     "metadata": {},
     "output_type": "execute_result"
    }
   ],
   "source": [
    "pd.__version__"
   ]
  },
  {
   "cell_type": "markdown",
   "metadata": {},
   "source": [
    "<div class=\"alert alert-info\"> <b>Student comment:</b> <br /><br />  \n",
    "Apparently my local pandas version is '1.2.1', but this cloud version is '0.25.1' 😨 <br />\n",
    "days_employed_bins[0] is what was causing the recursion, changed to iloc[0].  \n",
    "\n",
    "Also, I've realized I should have run the notebook in the cloud before submitting,  \n",
    "did it now just to make sure we don't encouter any more exceptions. cheers!\n",
    "</div>"
   ]
  },
  {
   "cell_type": "markdown",
   "metadata": {},
   "source": [
    "<div class=\"alert alert-success\"> <b>Reviewer comment (2):</b> \n",
    "    \n",
    "Yeah, so it is ((\n",
    "\n",
    "By the way, if you are using a newer version, you can always update any library before executing the project.\n",
    "\n",
    "With the following command\n",
    "    \n",
    "`!pip install --upgrade pandas` \n",
    "    \n",
    "</div>"
   ]
  },
  {
   "cell_type": "markdown",
   "metadata": {},
   "source": [
    "100% of the data appears to be a erroneous:  \n",
    "- 18% 80-1100 years\n",
    "- 82% negative  \n",
    "\n",
    "Try to recover the data, by contacting the person responsible for the data.\n",
    "If the data can't be recovered,  \n",
    "'days_employed' should not impact our main goal of assessing a person's abillity to repay a loan,  \n",
    "there are stronger factors available (i.e. income_total, children, family_status).\n",
    "\n",
    "'days_employed' can be $\\color{green}{\\text{removed}}$ altogether."
   ]
  },
  {
   "cell_type": "markdown",
   "metadata": {},
   "source": [
    " "
   ]
  },
  {
   "cell_type": "markdown",
   "metadata": {},
   "source": [
    "__Age__\n",
    "***"
   ]
  },
  {
   "cell_type": "code",
   "execution_count": 23,
   "metadata": {
    "scrolled": true
   },
   "outputs": [
    {
     "data": {
      "text/html": [
       "<div>\n",
       "<style scoped>\n",
       "    .dataframe tbody tr th:only-of-type {\n",
       "        vertical-align: middle;\n",
       "    }\n",
       "\n",
       "    .dataframe tbody tr th {\n",
       "        vertical-align: top;\n",
       "    }\n",
       "\n",
       "    .dataframe thead th {\n",
       "        text-align: right;\n",
       "    }\n",
       "</style>\n",
       "<table border=\"1\" class=\"dataframe\">\n",
       "  <thead>\n",
       "    <tr style=\"text-align: right;\">\n",
       "      <th></th>\n",
       "      <th>count</th>\n",
       "      <th>mean</th>\n",
       "      <th>std</th>\n",
       "      <th>min</th>\n",
       "      <th>25%</th>\n",
       "      <th>50%</th>\n",
       "      <th>75%</th>\n",
       "      <th>max</th>\n",
       "    </tr>\n",
       "  </thead>\n",
       "  <tbody>\n",
       "    <tr>\n",
       "      <td>dob_years</td>\n",
       "      <td>21525</td>\n",
       "      <td>43.2934</td>\n",
       "      <td>12.5746</td>\n",
       "      <td>0</td>\n",
       "      <td>33</td>\n",
       "      <td>42</td>\n",
       "      <td>53</td>\n",
       "      <td>75</td>\n",
       "    </tr>\n",
       "  </tbody>\n",
       "</table>\n",
       "</div>"
      ],
      "text/plain": [
       "           count     mean      std min 25% 50% 75% max\n",
       "dob_years  21525  43.2934  12.5746   0  33  42  53  75"
      ]
     },
     "metadata": {},
     "output_type": "display_data"
    },
    {
     "data": {
      "text/html": [
       "<div>\n",
       "<style scoped>\n",
       "    .dataframe tbody tr th:only-of-type {\n",
       "        vertical-align: middle;\n",
       "    }\n",
       "\n",
       "    .dataframe tbody tr th {\n",
       "        vertical-align: top;\n",
       "    }\n",
       "\n",
       "    .dataframe thead th {\n",
       "        text-align: right;\n",
       "    }\n",
       "</style>\n",
       "<table border=\"1\" class=\"dataframe\">\n",
       "  <thead>\n",
       "    <tr style=\"text-align: right;\">\n",
       "      <th>dob_years</th>\n",
       "      <th>0</th>\n",
       "      <th>19</th>\n",
       "      <th>20</th>\n",
       "      <th>21</th>\n",
       "      <th>22</th>\n",
       "      <th>23</th>\n",
       "      <th>...</th>\n",
       "      <th>70</th>\n",
       "      <th>71</th>\n",
       "      <th>72</th>\n",
       "      <th>73</th>\n",
       "      <th>74</th>\n",
       "      <th>75</th>\n",
       "    </tr>\n",
       "  </thead>\n",
       "  <tbody>\n",
       "    <tr>\n",
       "      <td>count</td>\n",
       "      <td>101</td>\n",
       "      <td>14</td>\n",
       "      <td>51</td>\n",
       "      <td>111</td>\n",
       "      <td>183</td>\n",
       "      <td>254</td>\n",
       "      <td>...</td>\n",
       "      <td>65</td>\n",
       "      <td>58</td>\n",
       "      <td>33</td>\n",
       "      <td>8</td>\n",
       "      <td>6</td>\n",
       "      <td>1</td>\n",
       "    </tr>\n",
       "    <tr>\n",
       "      <td>percent</td>\n",
       "      <td>0.005</td>\n",
       "      <td>0.001</td>\n",
       "      <td>0.002</td>\n",
       "      <td>0.005</td>\n",
       "      <td>0.009</td>\n",
       "      <td>0.012</td>\n",
       "      <td>...</td>\n",
       "      <td>0.003</td>\n",
       "      <td>0.003</td>\n",
       "      <td>0.002</td>\n",
       "      <td>0</td>\n",
       "      <td>0</td>\n",
       "      <td>0</td>\n",
       "    </tr>\n",
       "  </tbody>\n",
       "</table>\n",
       "<p>2 rows × 58 columns</p>\n",
       "</div>"
      ],
      "text/plain": [
       "dob_years     0      19     20     21     22     23  ...     70     71     72  \\\n",
       "count        101     14     51    111    183    254  ...     65     58     33   \n",
       "percent    0.005  0.001  0.002  0.005  0.009  0.012  ...  0.003  0.003  0.002   \n",
       "\n",
       "dob_years 73 74 75  \n",
       "count      8  6  1  \n",
       "percent    0  0  0  \n",
       "\n",
       "[2 rows x 58 columns]"
      ]
     },
     "metadata": {},
     "output_type": "display_data"
    },
    {
     "data": {
      "text/markdown": [
       "Missing values: 0"
      ],
      "text/plain": [
       "<IPython.core.display.Markdown object>"
      ]
     },
     "metadata": {},
     "output_type": "display_data"
    }
   ],
   "source": [
    "explore_column('dob_years');"
   ]
  },
  {
   "cell_type": "markdown",
   "metadata": {},
   "source": [
    "Age can't be 0 in this context (bank loan), it should be $\\color{green}{\\text{replaced with median}}$, and the column's $\\color{green}{\\text{name}}$ should be changed to '$\\color{green}{\\text{age}}$'."
   ]
  },
  {
   "cell_type": "markdown",
   "metadata": {},
   "source": [
    " "
   ]
  },
  {
   "cell_type": "markdown",
   "metadata": {},
   "source": [
    "__Education__\n",
    "***"
   ]
  },
  {
   "cell_type": "code",
   "execution_count": 24,
   "metadata": {},
   "outputs": [
    {
     "data": {
      "text/html": [
       "<div>\n",
       "<style scoped>\n",
       "    .dataframe tbody tr th:only-of-type {\n",
       "        vertical-align: middle;\n",
       "    }\n",
       "\n",
       "    .dataframe tbody tr th {\n",
       "        vertical-align: top;\n",
       "    }\n",
       "\n",
       "    .dataframe thead th {\n",
       "        text-align: right;\n",
       "    }\n",
       "</style>\n",
       "<table border=\"1\" class=\"dataframe\">\n",
       "  <thead>\n",
       "    <tr style=\"text-align: right;\">\n",
       "      <th>education</th>\n",
       "      <th>BACHELOR'S DEGREE</th>\n",
       "      <th>Bachelor's Degree</th>\n",
       "      <th>GRADUATE DEGREE</th>\n",
       "      <th>Graduate Degree</th>\n",
       "      <th>PRIMARY EDUCATION</th>\n",
       "      <th>Primary Education</th>\n",
       "      <th>...</th>\n",
       "      <th>Some College</th>\n",
       "      <th>bachelor's degree</th>\n",
       "      <th>graduate degree</th>\n",
       "      <th>primary education</th>\n",
       "      <th>secondary education</th>\n",
       "      <th>some college</th>\n",
       "    </tr>\n",
       "  </thead>\n",
       "  <tbody>\n",
       "    <tr>\n",
       "      <td>count</td>\n",
       "      <td>274</td>\n",
       "      <td>268</td>\n",
       "      <td>1</td>\n",
       "      <td>1</td>\n",
       "      <td>17</td>\n",
       "      <td>15</td>\n",
       "      <td>...</td>\n",
       "      <td>47</td>\n",
       "      <td>4718</td>\n",
       "      <td>4</td>\n",
       "      <td>250</td>\n",
       "      <td>13750</td>\n",
       "      <td>668</td>\n",
       "    </tr>\n",
       "    <tr>\n",
       "      <td>percent</td>\n",
       "      <td>0.013</td>\n",
       "      <td>0.012</td>\n",
       "      <td>0</td>\n",
       "      <td>0</td>\n",
       "      <td>0.001</td>\n",
       "      <td>0.001</td>\n",
       "      <td>...</td>\n",
       "      <td>0.002</td>\n",
       "      <td>0.219</td>\n",
       "      <td>0</td>\n",
       "      <td>0.012</td>\n",
       "      <td>0.639</td>\n",
       "      <td>0.031</td>\n",
       "    </tr>\n",
       "  </tbody>\n",
       "</table>\n",
       "<p>2 rows × 15 columns</p>\n",
       "</div>"
      ],
      "text/plain": [
       "education BACHELOR'S DEGREE Bachelor's Degree GRADUATE DEGREE Graduate Degree  \\\n",
       "count                   274               268               1               1   \n",
       "percent               0.013             0.012               0               0   \n",
       "\n",
       "education PRIMARY EDUCATION Primary Education  ... Some College  \\\n",
       "count                    17                15  ...           47   \n",
       "percent               0.001             0.001  ...        0.002   \n",
       "\n",
       "education bachelor's degree graduate degree primary education  \\\n",
       "count                  4718               4               250   \n",
       "percent               0.219               0             0.012   \n",
       "\n",
       "education secondary education some college  \n",
       "count                   13750          668  \n",
       "percent                 0.639        0.031  \n",
       "\n",
       "[2 rows x 15 columns]"
      ]
     },
     "metadata": {},
     "output_type": "display_data"
    },
    {
     "data": {
      "text/html": [
       "<div>\n",
       "<style scoped>\n",
       "    .dataframe tbody tr th:only-of-type {\n",
       "        vertical-align: middle;\n",
       "    }\n",
       "\n",
       "    .dataframe tbody tr th {\n",
       "        vertical-align: top;\n",
       "    }\n",
       "\n",
       "    .dataframe thead th {\n",
       "        text-align: right;\n",
       "    }\n",
       "</style>\n",
       "<table border=\"1\" class=\"dataframe\">\n",
       "  <thead>\n",
       "    <tr style=\"text-align: right;\">\n",
       "      <th></th>\n",
       "      <th>count</th>\n",
       "      <th>mean</th>\n",
       "      <th>std</th>\n",
       "      <th>min</th>\n",
       "      <th>25%</th>\n",
       "      <th>50%</th>\n",
       "      <th>75%</th>\n",
       "      <th>max</th>\n",
       "    </tr>\n",
       "  </thead>\n",
       "  <tbody>\n",
       "    <tr>\n",
       "      <td>education_id</td>\n",
       "      <td>21525</td>\n",
       "      <td>0.817236</td>\n",
       "      <td>0.548138</td>\n",
       "      <td>0</td>\n",
       "      <td>1</td>\n",
       "      <td>1</td>\n",
       "      <td>1</td>\n",
       "      <td>4</td>\n",
       "    </tr>\n",
       "  </tbody>\n",
       "</table>\n",
       "</div>"
      ],
      "text/plain": [
       "              count      mean       std min 25% 50% 75% max\n",
       "education_id  21525  0.817236  0.548138   0   1   1   1   4"
      ]
     },
     "metadata": {},
     "output_type": "display_data"
    },
    {
     "data": {
      "text/html": [
       "<div>\n",
       "<style scoped>\n",
       "    .dataframe tbody tr th:only-of-type {\n",
       "        vertical-align: middle;\n",
       "    }\n",
       "\n",
       "    .dataframe tbody tr th {\n",
       "        vertical-align: top;\n",
       "    }\n",
       "\n",
       "    .dataframe thead th {\n",
       "        text-align: right;\n",
       "    }\n",
       "</style>\n",
       "<table border=\"1\" class=\"dataframe\">\n",
       "  <thead>\n",
       "    <tr style=\"text-align: right;\">\n",
       "      <th>education_id</th>\n",
       "      <th>0</th>\n",
       "      <th>1</th>\n",
       "      <th>2</th>\n",
       "      <th>3</th>\n",
       "      <th>4</th>\n",
       "    </tr>\n",
       "  </thead>\n",
       "  <tbody>\n",
       "    <tr>\n",
       "      <td>count</td>\n",
       "      <td>5260</td>\n",
       "      <td>15233</td>\n",
       "      <td>744</td>\n",
       "      <td>282</td>\n",
       "      <td>6</td>\n",
       "    </tr>\n",
       "    <tr>\n",
       "      <td>percent</td>\n",
       "      <td>0.244</td>\n",
       "      <td>0.708</td>\n",
       "      <td>0.035</td>\n",
       "      <td>0.013</td>\n",
       "      <td>0</td>\n",
       "    </tr>\n",
       "  </tbody>\n",
       "</table>\n",
       "</div>"
      ],
      "text/plain": [
       "education_id      0      1      2      3  4\n",
       "count          5260  15233    744    282  6\n",
       "percent       0.244  0.708  0.035  0.013  0"
      ]
     },
     "metadata": {},
     "output_type": "display_data"
    },
    {
     "data": {
      "text/markdown": [
       "Missing values: {'education': 0, 'education_id': 0}"
      ],
      "text/plain": [
       "<IPython.core.display.Markdown object>"
      ]
     },
     "metadata": {},
     "output_type": "display_data"
    },
    {
     "name": "stdout",
     "output_type": "stream",
     "text": [
      "Do the tables match? False\n"
     ]
    }
   ],
   "source": [
    "_, _, comparisons = explore_column(['education', 'education_id'], compare=True)\n",
    "print(f'Do the tables match? {list(comparisons.values())[0]}');"
   ]
  },
  {
   "cell_type": "markdown",
   "metadata": {},
   "source": [
    "'education' has duplicates with different styling (letter case) - values should be normalized to $\\color{green}{\\text{lowercase}}$,  \n",
    "furthermore 'education' and 'education_id' value counts should coincide."
   ]
  },
  {
   "cell_type": "markdown",
   "metadata": {},
   "source": [
    " "
   ]
  },
  {
   "cell_type": "markdown",
   "metadata": {},
   "source": [
    "__Family status__\n",
    "***"
   ]
  },
  {
   "cell_type": "code",
   "execution_count": 25,
   "metadata": {
    "scrolled": true
   },
   "outputs": [
    {
     "data": {
      "text/html": [
       "<div>\n",
       "<style scoped>\n",
       "    .dataframe tbody tr th:only-of-type {\n",
       "        vertical-align: middle;\n",
       "    }\n",
       "\n",
       "    .dataframe tbody tr th {\n",
       "        vertical-align: top;\n",
       "    }\n",
       "\n",
       "    .dataframe thead th {\n",
       "        text-align: right;\n",
       "    }\n",
       "</style>\n",
       "<table border=\"1\" class=\"dataframe\">\n",
       "  <thead>\n",
       "    <tr style=\"text-align: right;\">\n",
       "      <th>family_status</th>\n",
       "      <th>married</th>\n",
       "      <th>civil partnership</th>\n",
       "      <th>unmarried</th>\n",
       "      <th>divorced</th>\n",
       "      <th>widow / widower</th>\n",
       "    </tr>\n",
       "  </thead>\n",
       "  <tbody>\n",
       "    <tr>\n",
       "      <td>count</td>\n",
       "      <td>12380</td>\n",
       "      <td>4177</td>\n",
       "      <td>2813</td>\n",
       "      <td>1195</td>\n",
       "      <td>960</td>\n",
       "    </tr>\n",
       "    <tr>\n",
       "      <td>percent</td>\n",
       "      <td>0.575</td>\n",
       "      <td>0.194</td>\n",
       "      <td>0.131</td>\n",
       "      <td>0.056</td>\n",
       "      <td>0.045</td>\n",
       "    </tr>\n",
       "  </tbody>\n",
       "</table>\n",
       "</div>"
      ],
      "text/plain": [
       "family_status married civil partnership unmarried divorced widow / widower\n",
       "count           12380              4177      2813     1195             960\n",
       "percent         0.575             0.194     0.131    0.056           0.045"
      ]
     },
     "metadata": {},
     "output_type": "display_data"
    },
    {
     "data": {
      "text/html": [
       "<div>\n",
       "<style scoped>\n",
       "    .dataframe tbody tr th:only-of-type {\n",
       "        vertical-align: middle;\n",
       "    }\n",
       "\n",
       "    .dataframe tbody tr th {\n",
       "        vertical-align: top;\n",
       "    }\n",
       "\n",
       "    .dataframe thead th {\n",
       "        text-align: right;\n",
       "    }\n",
       "</style>\n",
       "<table border=\"1\" class=\"dataframe\">\n",
       "  <thead>\n",
       "    <tr style=\"text-align: right;\">\n",
       "      <th></th>\n",
       "      <th>count</th>\n",
       "      <th>mean</th>\n",
       "      <th>std</th>\n",
       "      <th>min</th>\n",
       "      <th>25%</th>\n",
       "      <th>50%</th>\n",
       "      <th>75%</th>\n",
       "      <th>max</th>\n",
       "    </tr>\n",
       "  </thead>\n",
       "  <tbody>\n",
       "    <tr>\n",
       "      <td>family_status_id</td>\n",
       "      <td>21525</td>\n",
       "      <td>0.972544</td>\n",
       "      <td>1.42032</td>\n",
       "      <td>0</td>\n",
       "      <td>0</td>\n",
       "      <td>0</td>\n",
       "      <td>1</td>\n",
       "      <td>4</td>\n",
       "    </tr>\n",
       "  </tbody>\n",
       "</table>\n",
       "</div>"
      ],
      "text/plain": [
       "                  count      mean      std min 25% 50% 75% max\n",
       "family_status_id  21525  0.972544  1.42032   0   0   0   1   4"
      ]
     },
     "metadata": {},
     "output_type": "display_data"
    },
    {
     "data": {
      "text/html": [
       "<div>\n",
       "<style scoped>\n",
       "    .dataframe tbody tr th:only-of-type {\n",
       "        vertical-align: middle;\n",
       "    }\n",
       "\n",
       "    .dataframe tbody tr th {\n",
       "        vertical-align: top;\n",
       "    }\n",
       "\n",
       "    .dataframe thead th {\n",
       "        text-align: right;\n",
       "    }\n",
       "</style>\n",
       "<table border=\"1\" class=\"dataframe\">\n",
       "  <thead>\n",
       "    <tr style=\"text-align: right;\">\n",
       "      <th>family_status_id</th>\n",
       "      <th>0</th>\n",
       "      <th>1</th>\n",
       "      <th>4</th>\n",
       "      <th>3</th>\n",
       "      <th>2</th>\n",
       "    </tr>\n",
       "  </thead>\n",
       "  <tbody>\n",
       "    <tr>\n",
       "      <td>count</td>\n",
       "      <td>12380</td>\n",
       "      <td>4177</td>\n",
       "      <td>2813</td>\n",
       "      <td>1195</td>\n",
       "      <td>960</td>\n",
       "    </tr>\n",
       "    <tr>\n",
       "      <td>percent</td>\n",
       "      <td>0.575</td>\n",
       "      <td>0.194</td>\n",
       "      <td>0.131</td>\n",
       "      <td>0.056</td>\n",
       "      <td>0.045</td>\n",
       "    </tr>\n",
       "  </tbody>\n",
       "</table>\n",
       "</div>"
      ],
      "text/plain": [
       "family_status_id      0      1      4      3      2\n",
       "count             12380   4177   2813   1195    960\n",
       "percent           0.575  0.194  0.131  0.056  0.045"
      ]
     },
     "metadata": {},
     "output_type": "display_data"
    },
    {
     "data": {
      "text/markdown": [
       "Missing values: {'family_status': 0, 'family_status_id': 0}"
      ],
      "text/plain": [
       "<IPython.core.display.Markdown object>"
      ]
     },
     "metadata": {},
     "output_type": "display_data"
    },
    {
     "name": "stdout",
     "output_type": "stream",
     "text": [
      "Do the tables match? False\n"
     ]
    }
   ],
   "source": [
    "_, _, comparisons = explore_column([\n",
    "    'family_status',\n",
    "    'family_status_id'\n",
    "], sort='values', compare=True)\n",
    "\n",
    "print(f'Do the tables match? {list(comparisons.values())[0]}')"
   ]
  },
  {
   "cell_type": "markdown",
   "metadata": {},
   "source": [
    "Family status column appears to be in order, $\\color{green}{\\text{OK}}$."
   ]
  },
  {
   "cell_type": "markdown",
   "metadata": {},
   "source": [
    " "
   ]
  },
  {
   "cell_type": "markdown",
   "metadata": {},
   "source": [
    "__Gender__\n",
    "***"
   ]
  },
  {
   "cell_type": "code",
   "execution_count": 26,
   "metadata": {},
   "outputs": [
    {
     "data": {
      "text/html": [
       "<div>\n",
       "<style scoped>\n",
       "    .dataframe tbody tr th:only-of-type {\n",
       "        vertical-align: middle;\n",
       "    }\n",
       "\n",
       "    .dataframe tbody tr th {\n",
       "        vertical-align: top;\n",
       "    }\n",
       "\n",
       "    .dataframe thead th {\n",
       "        text-align: right;\n",
       "    }\n",
       "</style>\n",
       "<table border=\"1\" class=\"dataframe\">\n",
       "  <thead>\n",
       "    <tr style=\"text-align: right;\">\n",
       "      <th>gender</th>\n",
       "      <th>F</th>\n",
       "      <th>M</th>\n",
       "      <th>XNA</th>\n",
       "    </tr>\n",
       "  </thead>\n",
       "  <tbody>\n",
       "    <tr>\n",
       "      <td>count</td>\n",
       "      <td>14236</td>\n",
       "      <td>7288</td>\n",
       "      <td>1</td>\n",
       "    </tr>\n",
       "    <tr>\n",
       "      <td>percent</td>\n",
       "      <td>0.66137</td>\n",
       "      <td>0.338583</td>\n",
       "      <td>4.6e-05</td>\n",
       "    </tr>\n",
       "  </tbody>\n",
       "</table>\n",
       "</div>"
      ],
      "text/plain": [
       "gender         F         M      XNA\n",
       "count      14236      7288        1\n",
       "percent  0.66137  0.338583  4.6e-05"
      ]
     },
     "metadata": {},
     "output_type": "display_data"
    },
    {
     "data": {
      "text/markdown": [
       "Missing values: 0"
      ],
      "text/plain": [
       "<IPython.core.display.Markdown object>"
      ]
     },
     "metadata": {},
     "output_type": "display_data"
    }
   ],
   "source": [
    "explore_column('gender', round_to=6);"
   ]
  },
  {
   "cell_type": "markdown",
   "metadata": {},
   "source": [
    "Gender column has a single outlier 'XNA'.  \n",
    "Less than 0.01% is statistically insignificant,  \n",
    "value can be replaced with either 'F' or 'M' for convenience, or $\\color{green}{\\text{ignored}}$ altogether."
   ]
  },
  {
   "cell_type": "markdown",
   "metadata": {},
   "source": [
    " "
   ]
  },
  {
   "cell_type": "markdown",
   "metadata": {},
   "source": [
    "__Income type__\n",
    "***"
   ]
  },
  {
   "cell_type": "code",
   "execution_count": 27,
   "metadata": {},
   "outputs": [
    {
     "data": {
      "text/html": [
       "<div>\n",
       "<style scoped>\n",
       "    .dataframe tbody tr th:only-of-type {\n",
       "        vertical-align: middle;\n",
       "    }\n",
       "\n",
       "    .dataframe tbody tr th {\n",
       "        vertical-align: top;\n",
       "    }\n",
       "\n",
       "    .dataframe thead th {\n",
       "        text-align: right;\n",
       "    }\n",
       "</style>\n",
       "<table border=\"1\" class=\"dataframe\">\n",
       "  <thead>\n",
       "    <tr style=\"text-align: right;\">\n",
       "      <th>income_type</th>\n",
       "      <th>employee</th>\n",
       "      <th>business</th>\n",
       "      <th>retiree</th>\n",
       "      <th>civil servant</th>\n",
       "      <th>entrepreneur</th>\n",
       "      <th>unemployed</th>\n",
       "      <th>paternity / maternity leave</th>\n",
       "      <th>student</th>\n",
       "    </tr>\n",
       "  </thead>\n",
       "  <tbody>\n",
       "    <tr>\n",
       "      <td>count</td>\n",
       "      <td>11119</td>\n",
       "      <td>5085</td>\n",
       "      <td>3856</td>\n",
       "      <td>1459</td>\n",
       "      <td>2</td>\n",
       "      <td>2</td>\n",
       "      <td>1</td>\n",
       "      <td>1</td>\n",
       "    </tr>\n",
       "    <tr>\n",
       "      <td>percent</td>\n",
       "      <td>0.517</td>\n",
       "      <td>0.236</td>\n",
       "      <td>0.179</td>\n",
       "      <td>0.068</td>\n",
       "      <td>0</td>\n",
       "      <td>0</td>\n",
       "      <td>0</td>\n",
       "      <td>0</td>\n",
       "    </tr>\n",
       "  </tbody>\n",
       "</table>\n",
       "</div>"
      ],
      "text/plain": [
       "income_type employee business retiree civil servant entrepreneur unemployed  \\\n",
       "count          11119     5085    3856          1459            2          2   \n",
       "percent        0.517    0.236   0.179         0.068            0          0   \n",
       "\n",
       "income_type paternity / maternity leave student  \n",
       "count                                 1       1  \n",
       "percent                               0       0  "
      ]
     },
     "metadata": {},
     "output_type": "display_data"
    },
    {
     "data": {
      "text/markdown": [
       "Missing values: 0"
      ],
      "text/plain": [
       "<IPython.core.display.Markdown object>"
      ]
     },
     "metadata": {},
     "output_type": "display_data"
    }
   ],
   "source": [
    "explore_column('income_type', sort='value');"
   ]
  },
  {
   "cell_type": "markdown",
   "metadata": {},
   "source": [
    "income_type should have a complimentary 'income_type_$\\color{green}{\\text{id}}$' $\\color{green}{\\text{column}}$.  "
   ]
  },
  {
   "cell_type": "markdown",
   "metadata": {},
   "source": [
    " "
   ]
  },
  {
   "cell_type": "markdown",
   "metadata": {},
   "source": [
    "__Debt__\n",
    "***"
   ]
  },
  {
   "cell_type": "code",
   "execution_count": 28,
   "metadata": {
    "scrolled": true
   },
   "outputs": [
    {
     "data": {
      "text/html": [
       "<div>\n",
       "<style scoped>\n",
       "    .dataframe tbody tr th:only-of-type {\n",
       "        vertical-align: middle;\n",
       "    }\n",
       "\n",
       "    .dataframe tbody tr th {\n",
       "        vertical-align: top;\n",
       "    }\n",
       "\n",
       "    .dataframe thead th {\n",
       "        text-align: right;\n",
       "    }\n",
       "</style>\n",
       "<table border=\"1\" class=\"dataframe\">\n",
       "  <thead>\n",
       "    <tr style=\"text-align: right;\">\n",
       "      <th></th>\n",
       "      <th>count</th>\n",
       "      <th>mean</th>\n",
       "      <th>std</th>\n",
       "      <th>min</th>\n",
       "      <th>25%</th>\n",
       "      <th>50%</th>\n",
       "      <th>75%</th>\n",
       "      <th>max</th>\n",
       "    </tr>\n",
       "  </thead>\n",
       "  <tbody>\n",
       "    <tr>\n",
       "      <td>debt</td>\n",
       "      <td>21525</td>\n",
       "      <td>0.0808827</td>\n",
       "      <td>0.272661</td>\n",
       "      <td>0</td>\n",
       "      <td>0</td>\n",
       "      <td>0</td>\n",
       "      <td>0</td>\n",
       "      <td>1</td>\n",
       "    </tr>\n",
       "  </tbody>\n",
       "</table>\n",
       "</div>"
      ],
      "text/plain": [
       "      count       mean       std min 25% 50% 75% max\n",
       "debt  21525  0.0808827  0.272661   0   0   0   0   1"
      ]
     },
     "metadata": {},
     "output_type": "display_data"
    },
    {
     "data": {
      "text/html": [
       "<div>\n",
       "<style scoped>\n",
       "    .dataframe tbody tr th:only-of-type {\n",
       "        vertical-align: middle;\n",
       "    }\n",
       "\n",
       "    .dataframe tbody tr th {\n",
       "        vertical-align: top;\n",
       "    }\n",
       "\n",
       "    .dataframe thead th {\n",
       "        text-align: right;\n",
       "    }\n",
       "</style>\n",
       "<table border=\"1\" class=\"dataframe\">\n",
       "  <thead>\n",
       "    <tr style=\"text-align: right;\">\n",
       "      <th>debt</th>\n",
       "      <th>0</th>\n",
       "      <th>1</th>\n",
       "    </tr>\n",
       "  </thead>\n",
       "  <tbody>\n",
       "    <tr>\n",
       "      <td>count</td>\n",
       "      <td>19784</td>\n",
       "      <td>1741</td>\n",
       "    </tr>\n",
       "    <tr>\n",
       "      <td>percent</td>\n",
       "      <td>0.919</td>\n",
       "      <td>0.081</td>\n",
       "    </tr>\n",
       "  </tbody>\n",
       "</table>\n",
       "</div>"
      ],
      "text/plain": [
       "debt         0      1\n",
       "count    19784   1741\n",
       "percent  0.919  0.081"
      ]
     },
     "metadata": {},
     "output_type": "display_data"
    },
    {
     "data": {
      "text/markdown": [
       "Missing values: 0"
      ],
      "text/plain": [
       "<IPython.core.display.Markdown object>"
      ]
     },
     "metadata": {},
     "output_type": "display_data"
    }
   ],
   "source": [
    "explore_column('debt');"
   ]
  },
  {
   "cell_type": "markdown",
   "metadata": {},
   "source": [
    "Debt is of logical type (a categorical subtype).  \n",
    "Should be $\\color{green}{\\text{converted to Boolean}}$ data type."
   ]
  },
  {
   "cell_type": "markdown",
   "metadata": {},
   "source": [
    " "
   ]
  },
  {
   "cell_type": "markdown",
   "metadata": {},
   "source": [
    "__Total income__\n",
    "***"
   ]
  },
  {
   "cell_type": "code",
   "execution_count": 29,
   "metadata": {},
   "outputs": [
    {
     "data": {
      "text/html": [
       "<div>\n",
       "<style scoped>\n",
       "    .dataframe tbody tr th:only-of-type {\n",
       "        vertical-align: middle;\n",
       "    }\n",
       "\n",
       "    .dataframe tbody tr th {\n",
       "        vertical-align: top;\n",
       "    }\n",
       "\n",
       "    .dataframe thead th {\n",
       "        text-align: right;\n",
       "    }\n",
       "</style>\n",
       "<table border=\"1\" class=\"dataframe\">\n",
       "  <thead>\n",
       "    <tr style=\"text-align: right;\">\n",
       "      <th></th>\n",
       "      <th>count</th>\n",
       "      <th>mean</th>\n",
       "      <th>std</th>\n",
       "      <th>min</th>\n",
       "      <th>25%</th>\n",
       "      <th>50%</th>\n",
       "      <th>75%</th>\n",
       "      <th>max</th>\n",
       "    </tr>\n",
       "  </thead>\n",
       "  <tbody>\n",
       "    <tr>\n",
       "      <td>total_income</td>\n",
       "      <td>19351</td>\n",
       "      <td>26787.6</td>\n",
       "      <td>16475.5</td>\n",
       "      <td>3306.76</td>\n",
       "      <td>16488.5</td>\n",
       "      <td>23202.9</td>\n",
       "      <td>32549.6</td>\n",
       "      <td>362497</td>\n",
       "    </tr>\n",
       "  </tbody>\n",
       "</table>\n",
       "</div>"
      ],
      "text/plain": [
       "              count     mean      std      min      25%      50%      75%  \\\n",
       "total_income  19351  26787.6  16475.5  3306.76  16488.5  23202.9  32549.6   \n",
       "\n",
       "                 max  \n",
       "total_income  362497  "
      ]
     },
     "metadata": {},
     "output_type": "display_data"
    },
    {
     "data": {
      "text/html": [
       "<div>\n",
       "<style scoped>\n",
       "    .dataframe tbody tr th:only-of-type {\n",
       "        vertical-align: middle;\n",
       "    }\n",
       "\n",
       "    .dataframe tbody tr th {\n",
       "        vertical-align: top;\n",
       "    }\n",
       "\n",
       "    .dataframe thead th {\n",
       "        text-align: right;\n",
       "    }\n",
       "</style>\n",
       "<table border=\"1\" class=\"dataframe\">\n",
       "  <thead>\n",
       "    <tr style=\"text-align: right;\">\n",
       "      <th>total_income</th>\n",
       "      <th>3306.762</th>\n",
       "      <th>3392.845</th>\n",
       "      <th>3418.824</th>\n",
       "      <th>3471.216</th>\n",
       "      <th>3503.298</th>\n",
       "      <th>3595.641</th>\n",
       "      <th>...</th>\n",
       "      <th>273809.483</th>\n",
       "      <th>274402.943</th>\n",
       "      <th>276204.162</th>\n",
       "      <th>352136.354</th>\n",
       "      <th>362496.645</th>\n",
       "      <th>NaN</th>\n",
       "    </tr>\n",
       "  </thead>\n",
       "  <tbody>\n",
       "    <tr>\n",
       "      <td>count</td>\n",
       "      <td>1</td>\n",
       "      <td>1</td>\n",
       "      <td>1</td>\n",
       "      <td>1</td>\n",
       "      <td>1</td>\n",
       "      <td>1</td>\n",
       "      <td>...</td>\n",
       "      <td>1</td>\n",
       "      <td>1</td>\n",
       "      <td>1</td>\n",
       "      <td>1</td>\n",
       "      <td>1</td>\n",
       "      <td>2174</td>\n",
       "    </tr>\n",
       "    <tr>\n",
       "      <td>percent</td>\n",
       "      <td>0</td>\n",
       "      <td>0</td>\n",
       "      <td>0</td>\n",
       "      <td>0</td>\n",
       "      <td>0</td>\n",
       "      <td>0</td>\n",
       "      <td>...</td>\n",
       "      <td>0</td>\n",
       "      <td>0</td>\n",
       "      <td>0</td>\n",
       "      <td>0</td>\n",
       "      <td>0</td>\n",
       "      <td>0.101</td>\n",
       "    </tr>\n",
       "  </tbody>\n",
       "</table>\n",
       "<p>2 rows × 19349 columns</p>\n",
       "</div>"
      ],
      "text/plain": [
       "total_income 3306.762   3392.845   3418.824   3471.216   3503.298    \\\n",
       "count                 1          1          1          1          1   \n",
       "percent               0          0          0          0          0   \n",
       "\n",
       "total_income 3595.641    ... 273809.483 274402.943 276204.162 352136.354  \\\n",
       "count                 1  ...          1          1          1          1   \n",
       "percent               0  ...          0          0          0          0   \n",
       "\n",
       "total_income 362496.645 NaN         \n",
       "count                 1       2174  \n",
       "percent               0      0.101  \n",
       "\n",
       "[2 rows x 19349 columns]"
      ]
     },
     "metadata": {},
     "output_type": "display_data"
    },
    {
     "data": {
      "text/markdown": [
       "Missing values: 2174"
      ],
      "text/plain": [
       "<IPython.core.display.Markdown object>"
      ]
     },
     "metadata": {},
     "output_type": "display_data"
    }
   ],
   "source": [
    "explore_column('total_income');"
   ]
  },
  {
   "cell_type": "markdown",
   "metadata": {},
   "source": [
    "Can be $\\color{green}{\\text{renamed}}$ '$\\color{green}{\\text{income}}$'.\n",
    "\n",
    "'total_income' has $\\color{red}{\\text{missing values}}$.  \n",
    "Income is critical in assessing a person's ability to repay a loan, and the data should be recovered if possible."
   ]
  },
  {
   "cell_type": "markdown",
   "metadata": {},
   "source": [
    " "
   ]
  },
  {
   "cell_type": "markdown",
   "metadata": {},
   "source": [
    "__Purpose__\n",
    "***"
   ]
  },
  {
   "cell_type": "code",
   "execution_count": 30,
   "metadata": {},
   "outputs": [
    {
     "data": {
      "text/html": [
       "<div>\n",
       "<style scoped>\n",
       "    .dataframe tbody tr th:only-of-type {\n",
       "        vertical-align: middle;\n",
       "    }\n",
       "\n",
       "    .dataframe tbody tr th {\n",
       "        vertical-align: top;\n",
       "    }\n",
       "\n",
       "    .dataframe thead th {\n",
       "        text-align: right;\n",
       "    }\n",
       "</style>\n",
       "<table border=\"1\" class=\"dataframe\">\n",
       "  <thead>\n",
       "    <tr style=\"text-align: right;\">\n",
       "      <th>purpose</th>\n",
       "      <th>building a property</th>\n",
       "      <th>building a real estate</th>\n",
       "      <th>buy commercial real estate</th>\n",
       "      <th>buy real estate</th>\n",
       "      <th>buy residential real estate</th>\n",
       "      <th>buying a second-hand car</th>\n",
       "      <th>...</th>\n",
       "      <th>to have a wedding</th>\n",
       "      <th>to own a car</th>\n",
       "      <th>transactions with commercial real estate</th>\n",
       "      <th>transactions with my real estate</th>\n",
       "      <th>university education</th>\n",
       "      <th>wedding ceremony</th>\n",
       "    </tr>\n",
       "  </thead>\n",
       "  <tbody>\n",
       "    <tr>\n",
       "      <td>count</td>\n",
       "      <td>620</td>\n",
       "      <td>626</td>\n",
       "      <td>664</td>\n",
       "      <td>624</td>\n",
       "      <td>607</td>\n",
       "      <td>479</td>\n",
       "      <td>...</td>\n",
       "      <td>774</td>\n",
       "      <td>480</td>\n",
       "      <td>651</td>\n",
       "      <td>630</td>\n",
       "      <td>453</td>\n",
       "      <td>797</td>\n",
       "    </tr>\n",
       "    <tr>\n",
       "      <td>percent</td>\n",
       "      <td>0.029</td>\n",
       "      <td>0.029</td>\n",
       "      <td>0.031</td>\n",
       "      <td>0.029</td>\n",
       "      <td>0.028</td>\n",
       "      <td>0.022</td>\n",
       "      <td>...</td>\n",
       "      <td>0.036</td>\n",
       "      <td>0.022</td>\n",
       "      <td>0.03</td>\n",
       "      <td>0.029</td>\n",
       "      <td>0.021</td>\n",
       "      <td>0.037</td>\n",
       "    </tr>\n",
       "  </tbody>\n",
       "</table>\n",
       "<p>2 rows × 38 columns</p>\n",
       "</div>"
      ],
      "text/plain": [
       "purpose building a property building a real estate buy commercial real estate  \\\n",
       "count                   620                    626                        664   \n",
       "percent               0.029                  0.029                      0.031   \n",
       "\n",
       "purpose buy real estate buy residential real estate buying a second-hand car  \\\n",
       "count               624                         607                      479   \n",
       "percent           0.029                       0.028                    0.022   \n",
       "\n",
       "purpose  ... to have a wedding to own a car  \\\n",
       "count    ...               774          480   \n",
       "percent  ...             0.036        0.022   \n",
       "\n",
       "purpose transactions with commercial real estate  \\\n",
       "count                                        651   \n",
       "percent                                     0.03   \n",
       "\n",
       "purpose transactions with my real estate university education wedding ceremony  \n",
       "count                                630                  453              797  \n",
       "percent                            0.029                0.021            0.037  \n",
       "\n",
       "[2 rows x 38 columns]"
      ]
     },
     "metadata": {},
     "output_type": "display_data"
    },
    {
     "data": {
      "text/markdown": [
       "Missing values: 0"
      ],
      "text/plain": [
       "<IPython.core.display.Markdown object>"
      ]
     },
     "metadata": {},
     "output_type": "display_data"
    }
   ],
   "source": [
    "explore_column('purpose');"
   ]
  },
  {
   "cell_type": "markdown",
   "metadata": {},
   "source": [
    "<div class=\"alert alert-success\"> <b>Reviewer comment:</b> \n",
    "    \n",
    "Also we can to use transpose for our dataframe.\n",
    "    \n",
    "To improve the readability of the data.\n",
    "    \n",
    "</div>"
   ]
  },
  {
   "cell_type": "code",
   "execution_count": 106,
   "metadata": {
    "scrolled": true
   },
   "outputs": [
    {
     "data": {
      "text/html": [
       "<div>\n",
       "<style scoped>\n",
       "    .dataframe tbody tr th:only-of-type {\n",
       "        vertical-align: middle;\n",
       "    }\n",
       "\n",
       "    .dataframe tbody tr th {\n",
       "        vertical-align: top;\n",
       "    }\n",
       "\n",
       "    .dataframe thead th {\n",
       "        text-align: right;\n",
       "    }\n",
       "</style>\n",
       "<table border=\"1\" class=\"dataframe\">\n",
       "  <thead>\n",
       "    <tr style=\"text-align: right;\">\n",
       "      <th>income_type</th>\n",
       "      <th>business</th>\n",
       "      <th>civil servant</th>\n",
       "      <th>employee</th>\n",
       "      <th>entrepreneur</th>\n",
       "      <th>paternity / maternity leave</th>\n",
       "      <th>retiree</th>\n",
       "      <th>student</th>\n",
       "      <th>unemployed</th>\n",
       "    </tr>\n",
       "  </thead>\n",
       "  <tbody>\n",
       "    <tr>\n",
       "      <td>count</td>\n",
       "      <td>5085</td>\n",
       "      <td>1459</td>\n",
       "      <td>11119</td>\n",
       "      <td>2</td>\n",
       "      <td>1</td>\n",
       "      <td>3856</td>\n",
       "      <td>1</td>\n",
       "      <td>2</td>\n",
       "    </tr>\n",
       "    <tr>\n",
       "      <td>percent</td>\n",
       "      <td>0.236</td>\n",
       "      <td>0.068</td>\n",
       "      <td>0.517</td>\n",
       "      <td>0</td>\n",
       "      <td>0</td>\n",
       "      <td>0.179</td>\n",
       "      <td>0</td>\n",
       "      <td>0</td>\n",
       "    </tr>\n",
       "  </tbody>\n",
       "</table>\n",
       "</div>"
      ],
      "text/plain": [
       "income_type business civil servant employee entrepreneur  \\\n",
       "count           5085          1459    11119            2   \n",
       "percent        0.236         0.068    0.517            0   \n",
       "\n",
       "income_type paternity / maternity leave retiree student unemployed  \n",
       "count                                 1    3856       1          2  \n",
       "percent                               0   0.179       0          0  "
      ]
     },
     "metadata": {},
     "output_type": "display_data"
    },
    {
     "data": {
      "text/markdown": [
       "Missing values: 0"
      ],
      "text/plain": [
       "<IPython.core.display.Markdown object>"
      ]
     },
     "metadata": {},
     "output_type": "display_data"
    },
    {
     "data": {
      "text/html": [
       "<div>\n",
       "<style scoped>\n",
       "    .dataframe tbody tr th:only-of-type {\n",
       "        vertical-align: middle;\n",
       "    }\n",
       "\n",
       "    .dataframe tbody tr th {\n",
       "        vertical-align: top;\n",
       "    }\n",
       "\n",
       "    .dataframe thead th {\n",
       "        text-align: right;\n",
       "    }\n",
       "</style>\n",
       "<table border=\"1\" class=\"dataframe\">\n",
       "  <thead>\n",
       "    <tr style=\"text-align: right;\">\n",
       "      <th></th>\n",
       "      <th>count</th>\n",
       "      <th>percent</th>\n",
       "    </tr>\n",
       "    <tr>\n",
       "      <th>income_type</th>\n",
       "      <th></th>\n",
       "      <th></th>\n",
       "    </tr>\n",
       "  </thead>\n",
       "  <tbody>\n",
       "    <tr>\n",
       "      <td>business</td>\n",
       "      <td>5085</td>\n",
       "      <td>0.236</td>\n",
       "    </tr>\n",
       "    <tr>\n",
       "      <td>civil servant</td>\n",
       "      <td>1459</td>\n",
       "      <td>0.068</td>\n",
       "    </tr>\n",
       "    <tr>\n",
       "      <td>employee</td>\n",
       "      <td>11119</td>\n",
       "      <td>0.517</td>\n",
       "    </tr>\n",
       "    <tr>\n",
       "      <td>entrepreneur</td>\n",
       "      <td>2</td>\n",
       "      <td>0</td>\n",
       "    </tr>\n",
       "    <tr>\n",
       "      <td>paternity / maternity leave</td>\n",
       "      <td>1</td>\n",
       "      <td>0</td>\n",
       "    </tr>\n",
       "    <tr>\n",
       "      <td>retiree</td>\n",
       "      <td>3856</td>\n",
       "      <td>0.179</td>\n",
       "    </tr>\n",
       "    <tr>\n",
       "      <td>student</td>\n",
       "      <td>1</td>\n",
       "      <td>0</td>\n",
       "    </tr>\n",
       "    <tr>\n",
       "      <td>unemployed</td>\n",
       "      <td>2</td>\n",
       "      <td>0</td>\n",
       "    </tr>\n",
       "  </tbody>\n",
       "</table>\n",
       "</div>"
      ],
      "text/plain": [
       "                             count percent\n",
       "income_type                               \n",
       "business                      5085   0.236\n",
       "civil servant                 1459   0.068\n",
       "employee                     11119   0.517\n",
       "entrepreneur                     2       0\n",
       "paternity / maternity leave      1       0\n",
       "retiree                       3856   0.179\n",
       "student                          1       0\n",
       "unemployed                       2       0"
      ]
     },
     "execution_count": 106,
     "metadata": {},
     "output_type": "execute_result"
    }
   ],
   "source": [
    "explore_column('income_type')[0].T"
   ]
  },
  {
   "cell_type": "markdown",
   "metadata": {},
   "source": [
    "Purpose appears to be free-text and have duplicates of different styling but the same meaning,  \n",
    "and in fact can and should be processed and $\\color{green}{\\text{converted to a category}}$."
   ]
  },
  {
   "cell_type": "markdown",
   "metadata": {},
   "source": [
    "### 1.1 Conclusion"
   ]
  },
  {
   "cell_type": "markdown",
   "metadata": {},
   "source": [
    "Dataset has both categorical and quantitative variable types.  \n",
    "There are issues with the dataset, which will be addressed after the initial analyses.  \n",
    "\n",
    "List of detected issues:\n",
    "- [ ]  children: negative values, inflated values\n",
    "- [ ]  days_employed: drop\n",
    "- [ ]  dob_years: column name, 0 value, categorize & extract\n",
    "- [ ]  education: duplicates, categorize & extract\n",
    "- [ ]  family_status: extract category\n",
    "- [x]  gender: ~~single outlier~~\n",
    "- [ ]  income_type: column name, categorize & extract\n",
    "- [ ]  debt: wrong data type\n",
    "- [ ]  total_income: column name, missing values, wrong data type\n",
    "- [ ]  purpose: duplicates, categorize & extract\n",
    "\n",
    "\\* gender: a single outlier (which consists as less than 0.01%) of an insignificant variable can safely be ignored."
   ]
  },
  {
   "cell_type": "markdown",
   "metadata": {},
   "source": [
    "## 2 Data preprocessing\n",
    "***"
   ]
  },
  {
   "cell_type": "markdown",
   "metadata": {},
   "source": [
    "First deal with columns that don't have dependencies on other columns."
   ]
  },
  {
   "cell_type": "markdown",
   "metadata": {},
   "source": [
    "__Children__\n",
    "***"
   ]
  },
  {
   "cell_type": "markdown",
   "metadata": {},
   "source": [
    "Replacing values '-1' and '20'."
   ]
  },
  {
   "cell_type": "code",
   "execution_count": 31,
   "metadata": {},
   "outputs": [],
   "source": [
    "df.loc[df['children'] == -1, 'children'] = 1\n",
    "df.loc[df['children'] == 20, 'children'] = 2"
   ]
  },
  {
   "cell_type": "markdown",
   "metadata": {},
   "source": [
    "<div class=\"alert alert-success\"> <b>Reviewer comment:</b> \n",
    "    \n",
    "And if we looked at the fraction of these values, would we be able to make a decision in the direction of getting rid of this data?\n",
    "    \n",
    "</div>"
   ]
  },
  {
   "cell_type": "code",
   "execution_count": 32,
   "metadata": {},
   "outputs": [
    {
     "data": {
      "text/html": [
       "<div>\n",
       "<style scoped>\n",
       "    .dataframe tbody tr th:only-of-type {\n",
       "        vertical-align: middle;\n",
       "    }\n",
       "\n",
       "    .dataframe tbody tr th {\n",
       "        vertical-align: top;\n",
       "    }\n",
       "\n",
       "    .dataframe thead th {\n",
       "        text-align: right;\n",
       "    }\n",
       "</style>\n",
       "<table border=\"1\" class=\"dataframe\">\n",
       "  <thead>\n",
       "    <tr style=\"text-align: right;\">\n",
       "      <th></th>\n",
       "      <th>count</th>\n",
       "      <th>mean</th>\n",
       "      <th>std</th>\n",
       "      <th>min</th>\n",
       "      <th>25%</th>\n",
       "      <th>50%</th>\n",
       "      <th>75%</th>\n",
       "      <th>max</th>\n",
       "    </tr>\n",
       "  </thead>\n",
       "  <tbody>\n",
       "    <tr>\n",
       "      <td>children</td>\n",
       "      <td>21525</td>\n",
       "      <td>0.479721</td>\n",
       "      <td>0.755528</td>\n",
       "      <td>0</td>\n",
       "      <td>0</td>\n",
       "      <td>0</td>\n",
       "      <td>1</td>\n",
       "      <td>5</td>\n",
       "    </tr>\n",
       "  </tbody>\n",
       "</table>\n",
       "</div>"
      ],
      "text/plain": [
       "          count      mean       std min 25% 50% 75% max\n",
       "children  21525  0.479721  0.755528   0   0   0   1   5"
      ]
     },
     "metadata": {},
     "output_type": "display_data"
    },
    {
     "data": {
      "text/html": [
       "<div>\n",
       "<style scoped>\n",
       "    .dataframe tbody tr th:only-of-type {\n",
       "        vertical-align: middle;\n",
       "    }\n",
       "\n",
       "    .dataframe tbody tr th {\n",
       "        vertical-align: top;\n",
       "    }\n",
       "\n",
       "    .dataframe thead th {\n",
       "        text-align: right;\n",
       "    }\n",
       "</style>\n",
       "<table border=\"1\" class=\"dataframe\">\n",
       "  <thead>\n",
       "    <tr style=\"text-align: right;\">\n",
       "      <th>children</th>\n",
       "      <th>0</th>\n",
       "      <th>1</th>\n",
       "      <th>2</th>\n",
       "      <th>3</th>\n",
       "      <th>4</th>\n",
       "      <th>5</th>\n",
       "    </tr>\n",
       "  </thead>\n",
       "  <tbody>\n",
       "    <tr>\n",
       "      <td>count</td>\n",
       "      <td>14149</td>\n",
       "      <td>4865</td>\n",
       "      <td>2131</td>\n",
       "      <td>330</td>\n",
       "      <td>41</td>\n",
       "      <td>9</td>\n",
       "    </tr>\n",
       "    <tr>\n",
       "      <td>percent</td>\n",
       "      <td>0.657</td>\n",
       "      <td>0.226</td>\n",
       "      <td>0.099</td>\n",
       "      <td>0.015</td>\n",
       "      <td>0.002</td>\n",
       "      <td>0</td>\n",
       "    </tr>\n",
       "  </tbody>\n",
       "</table>\n",
       "</div>"
      ],
      "text/plain": [
       "children      0      1      2      3      4  5\n",
       "count     14149   4865   2131    330     41  9\n",
       "percent   0.657  0.226  0.099  0.015  0.002  0"
      ]
     },
     "metadata": {},
     "output_type": "display_data"
    },
    {
     "data": {
      "text/markdown": [
       "Missing values: 0"
      ],
      "text/plain": [
       "<IPython.core.display.Markdown object>"
      ]
     },
     "metadata": {},
     "output_type": "display_data"
    }
   ],
   "source": [
    "explore_column('children');"
   ]
  },
  {
   "cell_type": "markdown",
   "metadata": {},
   "source": [
    " "
   ]
  },
  {
   "cell_type": "markdown",
   "metadata": {},
   "source": [
    " "
   ]
  },
  {
   "cell_type": "markdown",
   "metadata": {},
   "source": [
    "__Days employed__\n",
    "***"
   ]
  },
  {
   "cell_type": "code",
   "execution_count": 33,
   "metadata": {},
   "outputs": [],
   "source": [
    "df = df.drop('days_employed', axis=1)"
   ]
  },
  {
   "cell_type": "markdown",
   "metadata": {},
   "source": [
    "__Age__\n",
    "***"
   ]
  },
  {
   "cell_type": "markdown",
   "metadata": {},
   "source": [
    "Renaming 'dob_years' to 'age'.  \n",
    "Replacing 0 value with median."
   ]
  },
  {
   "cell_type": "code",
   "execution_count": 34,
   "metadata": {},
   "outputs": [],
   "source": [
    "df['age'] = df['dob_years']\n",
    "del df['dob_years']\n",
    "df = df.reindex(columns=sorted(df.columns))"
   ]
  },
  {
   "cell_type": "markdown",
   "metadata": {},
   "source": [
    "<div class=\"alert alert-success\"> <b>Reviewer comment:</b> \n",
    "    \n",
    "For delete columns from dataset, I recommend to use method `drop`, because method `del` used by when we need to delete varible from our RAM.\n",
    "    \n",
    "</div>"
   ]
  },
  {
   "cell_type": "markdown",
   "metadata": {},
   "source": [
    "And if we looked at the fraction of these values, would we be able to make a decision in the direction of getting rid of this data?"
   ]
  },
  {
   "cell_type": "code",
   "execution_count": 35,
   "metadata": {},
   "outputs": [],
   "source": [
    "_variable_types['age'] = _variable_types.pop('dob_years')"
   ]
  },
  {
   "cell_type": "code",
   "execution_count": 36,
   "metadata": {},
   "outputs": [
    {
     "data": {
      "text/plain": [
       "mean      43.29338\n",
       "median    42.00000\n",
       "Name: age, dtype: float64"
      ]
     },
     "execution_count": 36,
     "metadata": {},
     "output_type": "execute_result"
    }
   ],
   "source": [
    "df['age'].agg(['mean', 'median'])"
   ]
  },
  {
   "cell_type": "code",
   "execution_count": 37,
   "metadata": {},
   "outputs": [],
   "source": [
    "df['age'].replace(0, int(df['age'].median()), inplace=True)"
   ]
  },
  {
   "cell_type": "code",
   "execution_count": 38,
   "metadata": {},
   "outputs": [
    {
     "data": {
      "text/html": [
       "<div>\n",
       "<style scoped>\n",
       "    .dataframe tbody tr th:only-of-type {\n",
       "        vertical-align: middle;\n",
       "    }\n",
       "\n",
       "    .dataframe tbody tr th {\n",
       "        vertical-align: top;\n",
       "    }\n",
       "\n",
       "    .dataframe thead th {\n",
       "        text-align: right;\n",
       "    }\n",
       "</style>\n",
       "<table border=\"1\" class=\"dataframe\">\n",
       "  <thead>\n",
       "    <tr style=\"text-align: right;\">\n",
       "      <th></th>\n",
       "      <th>count</th>\n",
       "      <th>mean</th>\n",
       "      <th>std</th>\n",
       "      <th>min</th>\n",
       "      <th>25%</th>\n",
       "      <th>50%</th>\n",
       "      <th>75%</th>\n",
       "      <th>max</th>\n",
       "    </tr>\n",
       "  </thead>\n",
       "  <tbody>\n",
       "    <tr>\n",
       "      <td>age</td>\n",
       "      <td>21525</td>\n",
       "      <td>43.4905</td>\n",
       "      <td>12.2186</td>\n",
       "      <td>19</td>\n",
       "      <td>34</td>\n",
       "      <td>42</td>\n",
       "      <td>53</td>\n",
       "      <td>75</td>\n",
       "    </tr>\n",
       "  </tbody>\n",
       "</table>\n",
       "</div>"
      ],
      "text/plain": [
       "     count     mean      std min 25% 50% 75% max\n",
       "age  21525  43.4905  12.2186  19  34  42  53  75"
      ]
     },
     "metadata": {},
     "output_type": "display_data"
    },
    {
     "data": {
      "text/html": [
       "<div>\n",
       "<style scoped>\n",
       "    .dataframe tbody tr th:only-of-type {\n",
       "        vertical-align: middle;\n",
       "    }\n",
       "\n",
       "    .dataframe tbody tr th {\n",
       "        vertical-align: top;\n",
       "    }\n",
       "\n",
       "    .dataframe thead th {\n",
       "        text-align: right;\n",
       "    }\n",
       "</style>\n",
       "<table border=\"1\" class=\"dataframe\">\n",
       "  <thead>\n",
       "    <tr style=\"text-align: right;\">\n",
       "      <th>age</th>\n",
       "      <th>19</th>\n",
       "      <th>20</th>\n",
       "      <th>21</th>\n",
       "      <th>22</th>\n",
       "      <th>23</th>\n",
       "      <th>24</th>\n",
       "      <th>...</th>\n",
       "      <th>70</th>\n",
       "      <th>71</th>\n",
       "      <th>72</th>\n",
       "      <th>73</th>\n",
       "      <th>74</th>\n",
       "      <th>75</th>\n",
       "    </tr>\n",
       "  </thead>\n",
       "  <tbody>\n",
       "    <tr>\n",
       "      <td>count</td>\n",
       "      <td>14</td>\n",
       "      <td>51</td>\n",
       "      <td>111</td>\n",
       "      <td>183</td>\n",
       "      <td>254</td>\n",
       "      <td>264</td>\n",
       "      <td>...</td>\n",
       "      <td>65</td>\n",
       "      <td>58</td>\n",
       "      <td>33</td>\n",
       "      <td>8</td>\n",
       "      <td>6</td>\n",
       "      <td>1</td>\n",
       "    </tr>\n",
       "    <tr>\n",
       "      <td>percent</td>\n",
       "      <td>0.001</td>\n",
       "      <td>0.002</td>\n",
       "      <td>0.005</td>\n",
       "      <td>0.009</td>\n",
       "      <td>0.012</td>\n",
       "      <td>0.012</td>\n",
       "      <td>...</td>\n",
       "      <td>0.003</td>\n",
       "      <td>0.003</td>\n",
       "      <td>0.002</td>\n",
       "      <td>0</td>\n",
       "      <td>0</td>\n",
       "      <td>0</td>\n",
       "    </tr>\n",
       "  </tbody>\n",
       "</table>\n",
       "<p>2 rows × 57 columns</p>\n",
       "</div>"
      ],
      "text/plain": [
       "age         19     20     21     22     23     24  ...     70     71     72  \\\n",
       "count       14     51    111    183    254    264  ...     65     58     33   \n",
       "percent  0.001  0.002  0.005  0.009  0.012  0.012  ...  0.003  0.003  0.002   \n",
       "\n",
       "age     73 74 75  \n",
       "count    8  6  1  \n",
       "percent  0  0  0  \n",
       "\n",
       "[2 rows x 57 columns]"
      ]
     },
     "metadata": {},
     "output_type": "display_data"
    },
    {
     "data": {
      "text/markdown": [
       "Missing values: 0"
      ],
      "text/plain": [
       "<IPython.core.display.Markdown object>"
      ]
     },
     "metadata": {},
     "output_type": "display_data"
    }
   ],
   "source": [
    "explore_column('age');"
   ]
  },
  {
   "cell_type": "markdown",
   "metadata": {},
   "source": [
    " "
   ]
  },
  {
   "cell_type": "markdown",
   "metadata": {},
   "source": [
    "__Education__\n",
    "***"
   ]
  },
  {
   "cell_type": "markdown",
   "metadata": {},
   "source": [
    "Transforming values to lower case."
   ]
  },
  {
   "cell_type": "code",
   "execution_count": 39,
   "metadata": {},
   "outputs": [],
   "source": [
    "df['education'] = df['education'].str.casefold()"
   ]
  },
  {
   "cell_type": "code",
   "execution_count": 40,
   "metadata": {
    "scrolled": false
   },
   "outputs": [
    {
     "data": {
      "text/html": [
       "<div>\n",
       "<style scoped>\n",
       "    .dataframe tbody tr th:only-of-type {\n",
       "        vertical-align: middle;\n",
       "    }\n",
       "\n",
       "    .dataframe tbody tr th {\n",
       "        vertical-align: top;\n",
       "    }\n",
       "\n",
       "    .dataframe thead th {\n",
       "        text-align: right;\n",
       "    }\n",
       "</style>\n",
       "<table border=\"1\" class=\"dataframe\">\n",
       "  <thead>\n",
       "    <tr style=\"text-align: right;\">\n",
       "      <th>education</th>\n",
       "      <th>secondary education</th>\n",
       "      <th>bachelor's degree</th>\n",
       "      <th>some college</th>\n",
       "      <th>primary education</th>\n",
       "      <th>graduate degree</th>\n",
       "    </tr>\n",
       "  </thead>\n",
       "  <tbody>\n",
       "    <tr>\n",
       "      <td>count</td>\n",
       "      <td>15233</td>\n",
       "      <td>5260</td>\n",
       "      <td>744</td>\n",
       "      <td>282</td>\n",
       "      <td>6</td>\n",
       "    </tr>\n",
       "    <tr>\n",
       "      <td>percent</td>\n",
       "      <td>0.708</td>\n",
       "      <td>0.244</td>\n",
       "      <td>0.035</td>\n",
       "      <td>0.013</td>\n",
       "      <td>0</td>\n",
       "    </tr>\n",
       "  </tbody>\n",
       "</table>\n",
       "</div>"
      ],
      "text/plain": [
       "education secondary education bachelor's degree some college  \\\n",
       "count                   15233              5260          744   \n",
       "percent                 0.708             0.244        0.035   \n",
       "\n",
       "education primary education graduate degree  \n",
       "count                   282               6  \n",
       "percent               0.013               0  "
      ]
     },
     "metadata": {},
     "output_type": "display_data"
    },
    {
     "data": {
      "text/html": [
       "<div>\n",
       "<style scoped>\n",
       "    .dataframe tbody tr th:only-of-type {\n",
       "        vertical-align: middle;\n",
       "    }\n",
       "\n",
       "    .dataframe tbody tr th {\n",
       "        vertical-align: top;\n",
       "    }\n",
       "\n",
       "    .dataframe thead th {\n",
       "        text-align: right;\n",
       "    }\n",
       "</style>\n",
       "<table border=\"1\" class=\"dataframe\">\n",
       "  <thead>\n",
       "    <tr style=\"text-align: right;\">\n",
       "      <th></th>\n",
       "      <th>count</th>\n",
       "      <th>mean</th>\n",
       "      <th>std</th>\n",
       "      <th>min</th>\n",
       "      <th>25%</th>\n",
       "      <th>50%</th>\n",
       "      <th>75%</th>\n",
       "      <th>max</th>\n",
       "    </tr>\n",
       "  </thead>\n",
       "  <tbody>\n",
       "    <tr>\n",
       "      <td>education_id</td>\n",
       "      <td>21525</td>\n",
       "      <td>0.817236</td>\n",
       "      <td>0.548138</td>\n",
       "      <td>0</td>\n",
       "      <td>1</td>\n",
       "      <td>1</td>\n",
       "      <td>1</td>\n",
       "      <td>4</td>\n",
       "    </tr>\n",
       "  </tbody>\n",
       "</table>\n",
       "</div>"
      ],
      "text/plain": [
       "              count      mean       std min 25% 50% 75% max\n",
       "education_id  21525  0.817236  0.548138   0   1   1   1   4"
      ]
     },
     "metadata": {},
     "output_type": "display_data"
    },
    {
     "data": {
      "text/html": [
       "<div>\n",
       "<style scoped>\n",
       "    .dataframe tbody tr th:only-of-type {\n",
       "        vertical-align: middle;\n",
       "    }\n",
       "\n",
       "    .dataframe tbody tr th {\n",
       "        vertical-align: top;\n",
       "    }\n",
       "\n",
       "    .dataframe thead th {\n",
       "        text-align: right;\n",
       "    }\n",
       "</style>\n",
       "<table border=\"1\" class=\"dataframe\">\n",
       "  <thead>\n",
       "    <tr style=\"text-align: right;\">\n",
       "      <th>education_id</th>\n",
       "      <th>1</th>\n",
       "      <th>0</th>\n",
       "      <th>2</th>\n",
       "      <th>3</th>\n",
       "      <th>4</th>\n",
       "    </tr>\n",
       "  </thead>\n",
       "  <tbody>\n",
       "    <tr>\n",
       "      <td>count</td>\n",
       "      <td>15233</td>\n",
       "      <td>5260</td>\n",
       "      <td>744</td>\n",
       "      <td>282</td>\n",
       "      <td>6</td>\n",
       "    </tr>\n",
       "    <tr>\n",
       "      <td>percent</td>\n",
       "      <td>0.708</td>\n",
       "      <td>0.244</td>\n",
       "      <td>0.035</td>\n",
       "      <td>0.013</td>\n",
       "      <td>0</td>\n",
       "    </tr>\n",
       "  </tbody>\n",
       "</table>\n",
       "</div>"
      ],
      "text/plain": [
       "education_id      1      0      2      3  4\n",
       "count         15233   5260    744    282  6\n",
       "percent       0.708  0.244  0.035  0.013  0"
      ]
     },
     "metadata": {},
     "output_type": "display_data"
    },
    {
     "data": {
      "text/markdown": [
       "Missing values: {'education': 0, 'education_id': 0}"
      ],
      "text/plain": [
       "<IPython.core.display.Markdown object>"
      ]
     },
     "metadata": {},
     "output_type": "display_data"
    }
   ],
   "source": [
    "explore_column(['education', 'education_id'], compare=True, sort='count');"
   ]
  },
  {
   "cell_type": "markdown",
   "metadata": {},
   "source": [
    "'education' and 'education_id' values coincide."
   ]
  },
  {
   "cell_type": "markdown",
   "metadata": {},
   "source": [
    "### 2.1 Processing missing values"
   ]
  },
  {
   "cell_type": "code",
   "execution_count": 41,
   "metadata": {
    "scrolled": false
   },
   "outputs": [
    {
     "data": {
      "text/html": [
       "<div>\n",
       "<style scoped>\n",
       "    .dataframe tbody tr th:only-of-type {\n",
       "        vertical-align: middle;\n",
       "    }\n",
       "\n",
       "    .dataframe tbody tr th {\n",
       "        vertical-align: top;\n",
       "    }\n",
       "\n",
       "    .dataframe thead th {\n",
       "        text-align: right;\n",
       "    }\n",
       "</style>\n",
       "<table border=\"1\" class=\"dataframe\">\n",
       "  <thead>\n",
       "    <tr style=\"text-align: right;\">\n",
       "      <th></th>\n",
       "      <th>na count</th>\n",
       "      <th>column size</th>\n",
       "      <th>percent</th>\n",
       "      <th>type</th>\n",
       "    </tr>\n",
       "  </thead>\n",
       "  <tbody>\n",
       "    <tr>\n",
       "      <td>total_income</td>\n",
       "      <td>2174</td>\n",
       "      <td>21525</td>\n",
       "      <td>0.1</td>\n",
       "      <td>quantitative</td>\n",
       "    </tr>\n",
       "  </tbody>\n",
       "</table>\n",
       "</div>"
      ],
      "text/plain": [
       "             na count column size  percent          type\n",
       "total_income     2174       21525      0.1  quantitative"
      ]
     },
     "execution_count": 41,
     "metadata": {},
     "output_type": "execute_result"
    }
   ],
   "source": [
    "def missing_values_summary(df=df, round_to=2):\n",
    "    '''Returns a missing values report'''\n",
    "    \n",
    "    na_count = df.isna().sum()\n",
    "    total_size_per_column = na_count + df.count()\n",
    "    \n",
    "    report = pd.concat([\n",
    "        na_count.astype('object').rename('na count'),\n",
    "        total_size_per_column.astype('object').rename('column size'),\n",
    "        (na_count / total_size_per_column).round(round_to).rename('percent'),\n",
    "        _variable_types.rename('type')\n",
    "    ], axis=1, sort=True).loc[df.columns]\n",
    "\n",
    "    return report[report['na count'] != 0]\n",
    "    \n",
    "missing_values_summary()"
   ]
  },
  {
   "cell_type": "markdown",
   "metadata": {},
   "source": [
    " "
   ]
  },
  {
   "cell_type": "markdown",
   "metadata": {},
   "source": [
    "__Income - missing values__\n",
    "***"
   ]
  },
  {
   "cell_type": "code",
   "execution_count": 42,
   "metadata": {
    "scrolled": true
   },
   "outputs": [
    {
     "data": {
      "text/html": [
       "<div>\n",
       "<style scoped>\n",
       "    .dataframe tbody tr th:only-of-type {\n",
       "        vertical-align: middle;\n",
       "    }\n",
       "\n",
       "    .dataframe tbody tr th {\n",
       "        vertical-align: top;\n",
       "    }\n",
       "\n",
       "    .dataframe thead th {\n",
       "        text-align: right;\n",
       "    }\n",
       "</style>\n",
       "<table border=\"1\" class=\"dataframe\">\n",
       "  <thead>\n",
       "    <tr style=\"text-align: right;\">\n",
       "      <th></th>\n",
       "      <th>age</th>\n",
       "      <th>children</th>\n",
       "      <th>debt</th>\n",
       "      <th>education</th>\n",
       "      <th>education_id</th>\n",
       "      <th>family_status</th>\n",
       "      <th>family_status_id</th>\n",
       "      <th>gender</th>\n",
       "      <th>income_type</th>\n",
       "      <th>purpose</th>\n",
       "      <th>total_income</th>\n",
       "    </tr>\n",
       "  </thead>\n",
       "  <tbody>\n",
       "    <tr>\n",
       "      <td>12</td>\n",
       "      <td>65</td>\n",
       "      <td>0</td>\n",
       "      <td>0</td>\n",
       "      <td>secondary education</td>\n",
       "      <td>1</td>\n",
       "      <td>civil partnership</td>\n",
       "      <td>1</td>\n",
       "      <td>M</td>\n",
       "      <td>retiree</td>\n",
       "      <td>to have a wedding</td>\n",
       "      <td>NaN</td>\n",
       "    </tr>\n",
       "    <tr>\n",
       "      <td>26</td>\n",
       "      <td>41</td>\n",
       "      <td>0</td>\n",
       "      <td>0</td>\n",
       "      <td>secondary education</td>\n",
       "      <td>1</td>\n",
       "      <td>married</td>\n",
       "      <td>0</td>\n",
       "      <td>M</td>\n",
       "      <td>civil servant</td>\n",
       "      <td>education</td>\n",
       "      <td>NaN</td>\n",
       "    </tr>\n",
       "    <tr>\n",
       "      <td>29</td>\n",
       "      <td>63</td>\n",
       "      <td>0</td>\n",
       "      <td>0</td>\n",
       "      <td>secondary education</td>\n",
       "      <td>1</td>\n",
       "      <td>unmarried</td>\n",
       "      <td>4</td>\n",
       "      <td>F</td>\n",
       "      <td>retiree</td>\n",
       "      <td>building a real estate</td>\n",
       "      <td>NaN</td>\n",
       "    </tr>\n",
       "  </tbody>\n",
       "</table>\n",
       "</div>"
      ],
      "text/plain": [
       "    age  children  debt            education  education_id      family_status  \\\n",
       "12   65         0     0  secondary education             1  civil partnership   \n",
       "26   41         0     0  secondary education             1            married   \n",
       "29   63         0     0  secondary education             1          unmarried   \n",
       "\n",
       "    family_status_id gender    income_type                 purpose  \\\n",
       "12                 1      M        retiree       to have a wedding   \n",
       "26                 0      M  civil servant               education   \n",
       "29                 4      F        retiree  building a real estate   \n",
       "\n",
       "    total_income  \n",
       "12           NaN  \n",
       "26           NaN  \n",
       "29           NaN  "
      ]
     },
     "execution_count": 42,
     "metadata": {},
     "output_type": "execute_result"
    }
   ],
   "source": [
    "df[df['total_income'].isna()].head(3)"
   ]
  },
  {
   "cell_type": "code",
   "execution_count": 43,
   "metadata": {
    "scrolled": true
   },
   "outputs": [
    {
     "data": {
      "text/html": [
       "<div>\n",
       "<style scoped>\n",
       "    .dataframe tbody tr th:only-of-type {\n",
       "        vertical-align: middle;\n",
       "    }\n",
       "\n",
       "    .dataframe tbody tr th {\n",
       "        vertical-align: top;\n",
       "    }\n",
       "\n",
       "    .dataframe thead th {\n",
       "        text-align: right;\n",
       "    }\n",
       "</style>\n",
       "<table border=\"1\" class=\"dataframe\">\n",
       "  <thead>\n",
       "    <tr style=\"text-align: right;\">\n",
       "      <th></th>\n",
       "      <th>age</th>\n",
       "      <th>children</th>\n",
       "      <th>debt</th>\n",
       "      <th>education</th>\n",
       "      <th>education_id</th>\n",
       "      <th>family_status</th>\n",
       "      <th>family_status_id</th>\n",
       "      <th>gender</th>\n",
       "      <th>income_type</th>\n",
       "      <th>purpose</th>\n",
       "      <th>total_income</th>\n",
       "    </tr>\n",
       "  </thead>\n",
       "  <tbody>\n",
       "    <tr>\n",
       "      <td>0</td>\n",
       "      <td>42</td>\n",
       "      <td>1</td>\n",
       "      <td>0</td>\n",
       "      <td>bachelor's degree</td>\n",
       "      <td>0</td>\n",
       "      <td>married</td>\n",
       "      <td>0</td>\n",
       "      <td>F</td>\n",
       "      <td>employee</td>\n",
       "      <td>purchase of the house</td>\n",
       "      <td>40620.102</td>\n",
       "    </tr>\n",
       "    <tr>\n",
       "      <td>1</td>\n",
       "      <td>36</td>\n",
       "      <td>1</td>\n",
       "      <td>0</td>\n",
       "      <td>secondary education</td>\n",
       "      <td>1</td>\n",
       "      <td>married</td>\n",
       "      <td>0</td>\n",
       "      <td>F</td>\n",
       "      <td>employee</td>\n",
       "      <td>car purchase</td>\n",
       "      <td>17932.802</td>\n",
       "    </tr>\n",
       "    <tr>\n",
       "      <td>2</td>\n",
       "      <td>33</td>\n",
       "      <td>0</td>\n",
       "      <td>0</td>\n",
       "      <td>secondary education</td>\n",
       "      <td>1</td>\n",
       "      <td>married</td>\n",
       "      <td>0</td>\n",
       "      <td>M</td>\n",
       "      <td>employee</td>\n",
       "      <td>purchase of the house</td>\n",
       "      <td>23341.752</td>\n",
       "    </tr>\n",
       "  </tbody>\n",
       "</table>\n",
       "</div>"
      ],
      "text/plain": [
       "   age  children  debt            education  education_id family_status  \\\n",
       "0   42         1     0    bachelor's degree             0       married   \n",
       "1   36         1     0  secondary education             1       married   \n",
       "2   33         0     0  secondary education             1       married   \n",
       "\n",
       "   family_status_id gender income_type                purpose  total_income  \n",
       "0                 0      F    employee  purchase of the house     40620.102  \n",
       "1                 0      F    employee           car purchase     17932.802  \n",
       "2                 0      M    employee  purchase of the house     23341.752  "
      ]
     },
     "execution_count": 43,
     "metadata": {},
     "output_type": "execute_result"
    }
   ],
   "source": [
    "df[~df['total_income'].isna()].head(3)"
   ]
  },
  {
   "cell_type": "markdown",
   "metadata": {},
   "source": [
    "Income depends on various factors, such as income_type, education, age, and even # of children.  \n",
    "Data will be split to groups of education level and age (usually analogous to seniority),  \n",
    "and then the missing values filled using the appropriate group.\n",
    "\n",
    "\\* To establish correlation, it's better to plot the data."
   ]
  },
  {
   "cell_type": "code",
   "execution_count": 44,
   "metadata": {},
   "outputs": [],
   "source": [
    "def group_by_age(row):\n",
    "    '''Returns a label of the appropriate ages range'''\n",
    "    \n",
    "    age = row['age']\n",
    "    \n",
    "    if not pd.api.types.is_number(age):\n",
    "        return ''\n",
    "    \n",
    "    if age < 20:\n",
    "        return '0-19'\n",
    "    elif age < 65:\n",
    "        tens = age // 10\n",
    "        return f'{tens}0-{tens}9'\n",
    "    else:\n",
    "        return '65+'"
   ]
  },
  {
   "cell_type": "code",
   "execution_count": 45,
   "metadata": {},
   "outputs": [],
   "source": [
    "df_age_group = df.join(df.apply(group_by_age, axis=1).rename('age_group'))\n",
    "df_age_group = df_age_group.reindex(columns=sorted(df_age_group))"
   ]
  },
  {
   "cell_type": "code",
   "execution_count": 46,
   "metadata": {
    "scrolled": true
   },
   "outputs": [
    {
     "data": {
      "text/html": [
       "<div>\n",
       "<style scoped>\n",
       "    .dataframe tbody tr th:only-of-type {\n",
       "        vertical-align: middle;\n",
       "    }\n",
       "\n",
       "    .dataframe tbody tr th {\n",
       "        vertical-align: top;\n",
       "    }\n",
       "\n",
       "    .dataframe thead th {\n",
       "        text-align: right;\n",
       "    }\n",
       "</style>\n",
       "<table border=\"1\" class=\"dataframe\">\n",
       "  <thead>\n",
       "    <tr style=\"text-align: right;\">\n",
       "      <th>education</th>\n",
       "      <th>primary education</th>\n",
       "      <th>secondary education</th>\n",
       "      <th>some college</th>\n",
       "      <th>bachelor's degree</th>\n",
       "      <th>graduate degree</th>\n",
       "    </tr>\n",
       "    <tr>\n",
       "      <th>age_group</th>\n",
       "      <th></th>\n",
       "      <th></th>\n",
       "      <th></th>\n",
       "      <th></th>\n",
       "      <th></th>\n",
       "    </tr>\n",
       "  </thead>\n",
       "  <tbody>\n",
       "    <tr>\n",
       "      <td>0-19</td>\n",
       "      <td>0</td>\n",
       "      <td>15761</td>\n",
       "      <td>14575</td>\n",
       "      <td>0</td>\n",
       "      <td>0</td>\n",
       "    </tr>\n",
       "    <tr>\n",
       "      <td>20-29</td>\n",
       "      <td>25488</td>\n",
       "      <td>21166</td>\n",
       "      <td>22698</td>\n",
       "      <td>25956</td>\n",
       "      <td>0</td>\n",
       "    </tr>\n",
       "    <tr>\n",
       "      <td>30-39</td>\n",
       "      <td>19542</td>\n",
       "      <td>22912</td>\n",
       "      <td>28463</td>\n",
       "      <td>28794</td>\n",
       "      <td>18187</td>\n",
       "    </tr>\n",
       "    <tr>\n",
       "      <td>40-49</td>\n",
       "      <td>21511</td>\n",
       "      <td>22960</td>\n",
       "      <td>29323</td>\n",
       "      <td>30094</td>\n",
       "      <td>31771</td>\n",
       "    </tr>\n",
       "    <tr>\n",
       "      <td>50-59</td>\n",
       "      <td>16922</td>\n",
       "      <td>21245</td>\n",
       "      <td>21132</td>\n",
       "      <td>28152</td>\n",
       "      <td>42945</td>\n",
       "    </tr>\n",
       "    <tr>\n",
       "      <td>60-69</td>\n",
       "      <td>18254</td>\n",
       "      <td>19467</td>\n",
       "      <td>26346</td>\n",
       "      <td>25796</td>\n",
       "      <td>40868</td>\n",
       "    </tr>\n",
       "    <tr>\n",
       "      <td>65+</td>\n",
       "      <td>15354</td>\n",
       "      <td>17943</td>\n",
       "      <td>27938</td>\n",
       "      <td>23353</td>\n",
       "      <td>15800</td>\n",
       "    </tr>\n",
       "  </tbody>\n",
       "</table>\n",
       "</div>"
      ],
      "text/plain": [
       "education  primary education  secondary education  some college  \\\n",
       "age_group                                                         \n",
       "0-19                       0                15761         14575   \n",
       "20-29                  25488                21166         22698   \n",
       "30-39                  19542                22912         28463   \n",
       "40-49                  21511                22960         29323   \n",
       "50-59                  16922                21245         21132   \n",
       "60-69                  18254                19467         26346   \n",
       "65+                    15354                17943         27938   \n",
       "\n",
       "education  bachelor's degree  graduate degree  \n",
       "age_group                                      \n",
       "0-19                       0                0  \n",
       "20-29                  25956                0  \n",
       "30-39                  28794            18187  \n",
       "40-49                  30094            31771  \n",
       "50-59                  28152            42945  \n",
       "60-69                  25796            40868  \n",
       "65+                    23353            15800  "
      ]
     },
     "metadata": {},
     "output_type": "display_data"
    },
    {
     "data": {
      "text/markdown": [
       "_Total income by education and age_"
      ],
      "text/plain": [
       "<IPython.core.display.Markdown object>"
      ]
     },
     "metadata": {},
     "output_type": "display_data"
    }
   ],
   "source": [
    "education_labels_sorted = ['primary education', 'secondary education', 'some college', 'bachelor\\'s degree', 'graduate degree']\n",
    "df_education_age_pivot = df_age_group.pivot_table(\n",
    "    index='age_group',\n",
    "    columns='education',\n",
    "    values='total_income',\n",
    "    aggfunc='median'\n",
    ").replace(np.NaN, 0).astype('int').reindex(columns=education_labels_sorted)\n",
    "display(df_education_age_pivot)\n",
    "display(md('_Total income by education and age_'))"
   ]
  },
  {
   "cell_type": "code",
   "execution_count": 47,
   "metadata": {},
   "outputs": [],
   "source": [
    "df_income_na = df_age_group.loc[\n",
    "    df_age_group['total_income'].isna(),\n",
    "    ['age_group', 'education']\n",
    "]\n",
    "df_income_filled = df_income_na.agg(\n",
    "    lambda row:df_education_age_pivot.loc[row['age_group'], row['education']],\n",
    "    axis=1\n",
    ")\n",
    "df['total_income'].fillna(df_income_filled, inplace=True)"
   ]
  },
  {
   "cell_type": "code",
   "execution_count": 48,
   "metadata": {
    "scrolled": true
   },
   "outputs": [
    {
     "data": {
      "text/html": [
       "<div>\n",
       "<style scoped>\n",
       "    .dataframe tbody tr th:only-of-type {\n",
       "        vertical-align: middle;\n",
       "    }\n",
       "\n",
       "    .dataframe tbody tr th {\n",
       "        vertical-align: top;\n",
       "    }\n",
       "\n",
       "    .dataframe thead th {\n",
       "        text-align: right;\n",
       "    }\n",
       "</style>\n",
       "<table border=\"1\" class=\"dataframe\">\n",
       "  <thead>\n",
       "    <tr style=\"text-align: right;\">\n",
       "      <th></th>\n",
       "      <th>na count</th>\n",
       "      <th>column size</th>\n",
       "      <th>percent</th>\n",
       "      <th>type</th>\n",
       "    </tr>\n",
       "  </thead>\n",
       "  <tbody>\n",
       "  </tbody>\n",
       "</table>\n",
       "</div>"
      ],
      "text/plain": [
       "Empty DataFrame\n",
       "Columns: [na count, column size, percent, type]\n",
       "Index: []"
      ]
     },
     "execution_count": 48,
     "metadata": {},
     "output_type": "execute_result"
    }
   ],
   "source": [
    "missing_values_summary()"
   ]
  },
  {
   "cell_type": "markdown",
   "metadata": {},
   "source": [
    "Missing values filled."
   ]
  },
  {
   "cell_type": "markdown",
   "metadata": {},
   "source": [
    "### 2.2 Conclusion"
   ]
  },
  {
   "cell_type": "markdown",
   "metadata": {},
   "source": [
    "Missing data was detected for customer's income (a quantitative variable type), which is dependant on multiple factors,  \n",
    "and was filled by taking the median of the relevant 'age + education' group.\n",
    "\n",
    "\\* Checklist:\n",
    "- [x]  children: ~~negative values~~, ~~inflated values~~\n",
    "- [x]  ~~days_employed: dropped~~\n",
    "- [ ]  age: ~~column name~~, ~~0 value~~, categorize & extract\n",
    "- [ ]  education: ~~letter case~~, ~~mismatch with id count~~, extract category\n",
    "- [ ]  family_status: extract category\n",
    "- [x]  gender: ~~single outlier~~\n",
    "- [ ]  income_type: column name, categorize & extract\n",
    "- [ ]  debt: wrong data type\n",
    "- [ ]  total_income: ~~missing values~~, wrong data type\n",
    "- [ ]  purpose: duplicates, categorize & extract"
   ]
  },
  {
   "cell_type": "markdown",
   "metadata": {},
   "source": [
    "### 2.3 Data type replacement"
   ]
  },
  {
   "cell_type": "markdown",
   "metadata": {},
   "source": [
    " "
   ]
  },
  {
   "cell_type": "markdown",
   "metadata": {},
   "source": [
    "__Debt - data type__\n",
    "***"
   ]
  },
  {
   "cell_type": "code",
   "execution_count": 49,
   "metadata": {},
   "outputs": [
    {
     "data": {
      "text/html": [
       "<div>\n",
       "<style scoped>\n",
       "    .dataframe tbody tr th:only-of-type {\n",
       "        vertical-align: middle;\n",
       "    }\n",
       "\n",
       "    .dataframe tbody tr th {\n",
       "        vertical-align: top;\n",
       "    }\n",
       "\n",
       "    .dataframe thead th {\n",
       "        text-align: right;\n",
       "    }\n",
       "</style>\n",
       "<table border=\"1\" class=\"dataframe\">\n",
       "  <thead>\n",
       "    <tr style=\"text-align: right;\">\n",
       "      <th></th>\n",
       "      <th>count</th>\n",
       "      <th>mean</th>\n",
       "      <th>std</th>\n",
       "      <th>min</th>\n",
       "      <th>25%</th>\n",
       "      <th>50%</th>\n",
       "      <th>75%</th>\n",
       "      <th>max</th>\n",
       "    </tr>\n",
       "  </thead>\n",
       "  <tbody>\n",
       "    <tr>\n",
       "      <td>debt</td>\n",
       "      <td>21525</td>\n",
       "      <td>0.0808827</td>\n",
       "      <td>0.272661</td>\n",
       "      <td>0</td>\n",
       "      <td>0</td>\n",
       "      <td>0</td>\n",
       "      <td>0</td>\n",
       "      <td>1</td>\n",
       "    </tr>\n",
       "  </tbody>\n",
       "</table>\n",
       "</div>"
      ],
      "text/plain": [
       "      count       mean       std min 25% 50% 75% max\n",
       "debt  21525  0.0808827  0.272661   0   0   0   0   1"
      ]
     },
     "metadata": {},
     "output_type": "display_data"
    },
    {
     "data": {
      "text/html": [
       "<div>\n",
       "<style scoped>\n",
       "    .dataframe tbody tr th:only-of-type {\n",
       "        vertical-align: middle;\n",
       "    }\n",
       "\n",
       "    .dataframe tbody tr th {\n",
       "        vertical-align: top;\n",
       "    }\n",
       "\n",
       "    .dataframe thead th {\n",
       "        text-align: right;\n",
       "    }\n",
       "</style>\n",
       "<table border=\"1\" class=\"dataframe\">\n",
       "  <thead>\n",
       "    <tr style=\"text-align: right;\">\n",
       "      <th>debt</th>\n",
       "      <th>0</th>\n",
       "      <th>1</th>\n",
       "    </tr>\n",
       "  </thead>\n",
       "  <tbody>\n",
       "    <tr>\n",
       "      <td>count</td>\n",
       "      <td>19784</td>\n",
       "      <td>1741</td>\n",
       "    </tr>\n",
       "    <tr>\n",
       "      <td>percent</td>\n",
       "      <td>0.919</td>\n",
       "      <td>0.081</td>\n",
       "    </tr>\n",
       "  </tbody>\n",
       "</table>\n",
       "</div>"
      ],
      "text/plain": [
       "debt         0      1\n",
       "count    19784   1741\n",
       "percent  0.919  0.081"
      ]
     },
     "metadata": {},
     "output_type": "display_data"
    },
    {
     "data": {
      "text/markdown": [
       "Missing values: 0"
      ],
      "text/plain": [
       "<IPython.core.display.Markdown object>"
      ]
     },
     "metadata": {},
     "output_type": "display_data"
    },
    {
     "data": {
      "text/plain": [
       "dtype('int64')"
      ]
     },
     "execution_count": 49,
     "metadata": {},
     "output_type": "execute_result"
    }
   ],
   "source": [
    "explore_column('debt');\n",
    "df['debt'].dtype"
   ]
  },
  {
   "cell_type": "code",
   "execution_count": 50,
   "metadata": {
    "scrolled": true
   },
   "outputs": [
    {
     "data": {
      "text/html": [
       "<div>\n",
       "<style scoped>\n",
       "    .dataframe tbody tr th:only-of-type {\n",
       "        vertical-align: middle;\n",
       "    }\n",
       "\n",
       "    .dataframe tbody tr th {\n",
       "        vertical-align: top;\n",
       "    }\n",
       "\n",
       "    .dataframe thead th {\n",
       "        text-align: right;\n",
       "    }\n",
       "</style>\n",
       "<table border=\"1\" class=\"dataframe\">\n",
       "  <thead>\n",
       "    <tr style=\"text-align: right;\">\n",
       "      <th></th>\n",
       "      <th>count</th>\n",
       "      <th>unique</th>\n",
       "      <th>top</th>\n",
       "      <th>freq</th>\n",
       "    </tr>\n",
       "  </thead>\n",
       "  <tbody>\n",
       "    <tr>\n",
       "      <td>debt</td>\n",
       "      <td>21525</td>\n",
       "      <td>2</td>\n",
       "      <td>False</td>\n",
       "      <td>19784</td>\n",
       "    </tr>\n",
       "  </tbody>\n",
       "</table>\n",
       "</div>"
      ],
      "text/plain": [
       "      count unique    top   freq\n",
       "debt  21525      2  False  19784"
      ]
     },
     "metadata": {},
     "output_type": "display_data"
    },
    {
     "data": {
      "text/html": [
       "<div>\n",
       "<style scoped>\n",
       "    .dataframe tbody tr th:only-of-type {\n",
       "        vertical-align: middle;\n",
       "    }\n",
       "\n",
       "    .dataframe tbody tr th {\n",
       "        vertical-align: top;\n",
       "    }\n",
       "\n",
       "    .dataframe thead th {\n",
       "        text-align: right;\n",
       "    }\n",
       "</style>\n",
       "<table border=\"1\" class=\"dataframe\">\n",
       "  <thead>\n",
       "    <tr style=\"text-align: right;\">\n",
       "      <th>debt</th>\n",
       "      <th>False</th>\n",
       "      <th>True</th>\n",
       "    </tr>\n",
       "  </thead>\n",
       "  <tbody>\n",
       "    <tr>\n",
       "      <td>count</td>\n",
       "      <td>19784</td>\n",
       "      <td>1741</td>\n",
       "    </tr>\n",
       "    <tr>\n",
       "      <td>percent</td>\n",
       "      <td>0.919</td>\n",
       "      <td>0.081</td>\n",
       "    </tr>\n",
       "  </tbody>\n",
       "</table>\n",
       "</div>"
      ],
      "text/plain": [
       "debt     False  True \n",
       "count    19784   1741\n",
       "percent  0.919  0.081"
      ]
     },
     "metadata": {},
     "output_type": "display_data"
    },
    {
     "data": {
      "text/markdown": [
       "Missing values: 0"
      ],
      "text/plain": [
       "<IPython.core.display.Markdown object>"
      ]
     },
     "metadata": {},
     "output_type": "display_data"
    },
    {
     "data": {
      "text/plain": [
       "dtype('bool')"
      ]
     },
     "execution_count": 50,
     "metadata": {},
     "output_type": "execute_result"
    }
   ],
   "source": [
    "df['debt'] = df['debt'].astype('bool')\n",
    "explore_column('debt');\n",
    "df['debt'].dtype"
   ]
  },
  {
   "cell_type": "markdown",
   "metadata": {},
   "source": [
    "__Total income__\n",
    "***"
   ]
  },
  {
   "cell_type": "code",
   "execution_count": 51,
   "metadata": {
    "scrolled": false
   },
   "outputs": [
    {
     "data": {
      "text/html": [
       "<div>\n",
       "<style scoped>\n",
       "    .dataframe tbody tr th:only-of-type {\n",
       "        vertical-align: middle;\n",
       "    }\n",
       "\n",
       "    .dataframe tbody tr th {\n",
       "        vertical-align: top;\n",
       "    }\n",
       "\n",
       "    .dataframe thead th {\n",
       "        text-align: right;\n",
       "    }\n",
       "</style>\n",
       "<table border=\"1\" class=\"dataframe\">\n",
       "  <thead>\n",
       "    <tr style=\"text-align: right;\">\n",
       "      <th></th>\n",
       "      <th>count</th>\n",
       "      <th>mean</th>\n",
       "      <th>std</th>\n",
       "      <th>min</th>\n",
       "      <th>25%</th>\n",
       "      <th>50%</th>\n",
       "      <th>75%</th>\n",
       "      <th>max</th>\n",
       "    </tr>\n",
       "  </thead>\n",
       "  <tbody>\n",
       "    <tr>\n",
       "      <td>income</td>\n",
       "      <td>21525</td>\n",
       "      <td>26452.4</td>\n",
       "      <td>15687.1</td>\n",
       "      <td>3306</td>\n",
       "      <td>17234</td>\n",
       "      <td>22960</td>\n",
       "      <td>31286</td>\n",
       "      <td>362496</td>\n",
       "    </tr>\n",
       "  </tbody>\n",
       "</table>\n",
       "</div>"
      ],
      "text/plain": [
       "        count     mean      std   min    25%    50%    75%     max\n",
       "income  21525  26452.4  15687.1  3306  17234  22960  31286  362496"
      ]
     },
     "metadata": {},
     "output_type": "display_data"
    },
    {
     "data": {
      "text/html": [
       "<div>\n",
       "<style scoped>\n",
       "    .dataframe tbody tr th:only-of-type {\n",
       "        vertical-align: middle;\n",
       "    }\n",
       "\n",
       "    .dataframe tbody tr th {\n",
       "        vertical-align: top;\n",
       "    }\n",
       "\n",
       "    .dataframe thead th {\n",
       "        text-align: right;\n",
       "    }\n",
       "</style>\n",
       "<table border=\"1\" class=\"dataframe\">\n",
       "  <thead>\n",
       "    <tr style=\"text-align: right;\">\n",
       "      <th>income</th>\n",
       "      <th>3306</th>\n",
       "      <th>3392</th>\n",
       "      <th>3418</th>\n",
       "      <th>3471</th>\n",
       "      <th>3503</th>\n",
       "      <th>3595</th>\n",
       "      <th>...</th>\n",
       "      <th>255618</th>\n",
       "      <th>273809</th>\n",
       "      <th>274402</th>\n",
       "      <th>276204</th>\n",
       "      <th>352136</th>\n",
       "      <th>362496</th>\n",
       "    </tr>\n",
       "  </thead>\n",
       "  <tbody>\n",
       "    <tr>\n",
       "      <td>count</td>\n",
       "      <td>1</td>\n",
       "      <td>1</td>\n",
       "      <td>1</td>\n",
       "      <td>1</td>\n",
       "      <td>1</td>\n",
       "      <td>1</td>\n",
       "      <td>...</td>\n",
       "      <td>1</td>\n",
       "      <td>1</td>\n",
       "      <td>1</td>\n",
       "      <td>1</td>\n",
       "      <td>1</td>\n",
       "      <td>1</td>\n",
       "    </tr>\n",
       "    <tr>\n",
       "      <td>percent</td>\n",
       "      <td>0</td>\n",
       "      <td>0</td>\n",
       "      <td>0</td>\n",
       "      <td>0</td>\n",
       "      <td>0</td>\n",
       "      <td>0</td>\n",
       "      <td>...</td>\n",
       "      <td>0</td>\n",
       "      <td>0</td>\n",
       "      <td>0</td>\n",
       "      <td>0</td>\n",
       "      <td>0</td>\n",
       "      <td>0</td>\n",
       "    </tr>\n",
       "  </tbody>\n",
       "</table>\n",
       "<p>2 rows × 15392 columns</p>\n",
       "</div>"
      ],
      "text/plain": [
       "income  3306   3392   3418   3471   3503   3595    ... 255618 273809 274402  \\\n",
       "count        1      1      1      1      1      1  ...      1      1      1   \n",
       "percent      0      0      0      0      0      0  ...      0      0      0   \n",
       "\n",
       "income  276204 352136 362496  \n",
       "count        1      1      1  \n",
       "percent      0      0      0  \n",
       "\n",
       "[2 rows x 15392 columns]"
      ]
     },
     "metadata": {},
     "output_type": "display_data"
    },
    {
     "data": {
      "text/markdown": [
       "Missing values: 0"
      ],
      "text/plain": [
       "<IPython.core.display.Markdown object>"
      ]
     },
     "metadata": {},
     "output_type": "display_data"
    },
    {
     "data": {
      "text/plain": [
       "dtype('int64')"
      ]
     },
     "execution_count": 51,
     "metadata": {},
     "output_type": "execute_result"
    }
   ],
   "source": [
    "df['income'] = df['total_income'].astype('int')\n",
    "del df['total_income']\n",
    "explore_column('income');\n",
    "df['income'].dtype"
   ]
  },
  {
   "cell_type": "markdown",
   "metadata": {},
   "source": [
    "<div class=\"alert alert-success\"> <b>Reviewer comment:</b> \n",
    "    \n",
    "Including the `fillna` and` astype` methods can be applied to multiple columns at the same time.\n",
    "    \n",
    "If there are more than 2 columns, then I recommend using the `for` loop.\n",
    "    \n",
    "Example:\n",
    "    \n",
    "`df.astype ({\" col1 \":\" float64 \",\" col2 \":\" int64 \"})`\n",
    "    \n",
    "</div>"
   ]
  },
  {
   "cell_type": "code",
   "execution_count": 52,
   "metadata": {},
   "outputs": [],
   "source": [
    "_variable_types['income'] = _variable_types.pop('total_income')"
   ]
  },
  {
   "cell_type": "code",
   "execution_count": 53,
   "metadata": {},
   "outputs": [
    {
     "data": {
      "text/html": [
       "<div>\n",
       "<style scoped>\n",
       "    .dataframe tbody tr th:only-of-type {\n",
       "        vertical-align: middle;\n",
       "    }\n",
       "\n",
       "    .dataframe tbody tr th {\n",
       "        vertical-align: top;\n",
       "    }\n",
       "\n",
       "    .dataframe thead th {\n",
       "        text-align: right;\n",
       "    }\n",
       "</style>\n",
       "<table border=\"1\" class=\"dataframe\">\n",
       "  <thead>\n",
       "    <tr style=\"text-align: right;\">\n",
       "      <th></th>\n",
       "      <th>age</th>\n",
       "      <th>children</th>\n",
       "      <th>debt</th>\n",
       "      <th>education</th>\n",
       "      <th>education_id</th>\n",
       "      <th>family_status</th>\n",
       "      <th>family_status_id</th>\n",
       "      <th>gender</th>\n",
       "      <th>income_type</th>\n",
       "      <th>purpose</th>\n",
       "      <th>income</th>\n",
       "    </tr>\n",
       "  </thead>\n",
       "  <tbody>\n",
       "    <tr>\n",
       "      <td>0</td>\n",
       "      <td>42</td>\n",
       "      <td>1</td>\n",
       "      <td>False</td>\n",
       "      <td>bachelor's degree</td>\n",
       "      <td>0</td>\n",
       "      <td>married</td>\n",
       "      <td>0</td>\n",
       "      <td>F</td>\n",
       "      <td>employee</td>\n",
       "      <td>purchase of the house</td>\n",
       "      <td>40620</td>\n",
       "    </tr>\n",
       "    <tr>\n",
       "      <td>1</td>\n",
       "      <td>36</td>\n",
       "      <td>1</td>\n",
       "      <td>False</td>\n",
       "      <td>secondary education</td>\n",
       "      <td>1</td>\n",
       "      <td>married</td>\n",
       "      <td>0</td>\n",
       "      <td>F</td>\n",
       "      <td>employee</td>\n",
       "      <td>car purchase</td>\n",
       "      <td>17932</td>\n",
       "    </tr>\n",
       "    <tr>\n",
       "      <td>2</td>\n",
       "      <td>33</td>\n",
       "      <td>0</td>\n",
       "      <td>False</td>\n",
       "      <td>secondary education</td>\n",
       "      <td>1</td>\n",
       "      <td>married</td>\n",
       "      <td>0</td>\n",
       "      <td>M</td>\n",
       "      <td>employee</td>\n",
       "      <td>purchase of the house</td>\n",
       "      <td>23341</td>\n",
       "    </tr>\n",
       "  </tbody>\n",
       "</table>\n",
       "</div>"
      ],
      "text/plain": [
       "   age  children   debt            education  education_id family_status  \\\n",
       "0   42         1  False    bachelor's degree             0       married   \n",
       "1   36         1  False  secondary education             1       married   \n",
       "2   33         0  False  secondary education             1       married   \n",
       "\n",
       "   family_status_id gender income_type                purpose  income  \n",
       "0                 0      F    employee  purchase of the house   40620  \n",
       "1                 0      F    employee           car purchase   17932  \n",
       "2                 0      M    employee  purchase of the house   23341  "
      ]
     },
     "execution_count": 53,
     "metadata": {},
     "output_type": "execute_result"
    }
   ],
   "source": [
    "df.head(3)"
   ]
  },
  {
   "cell_type": "markdown",
   "metadata": {},
   "source": [
    "### 2.4 Conclusion\n",
    "\n",
    "* 'debt' was converted from int to boolean for semantic purposes.\n",
    "* 'total_income' was renamed 'income' and converted from float64 to int64,  \n",
    "since a fraction of single currency unit is meaningless for our purposes,  \n",
    "and int is easier for the processor to work with."
   ]
  },
  {
   "cell_type": "markdown",
   "metadata": {},
   "source": [
    "\\* Checklist:\n",
    "- [x]  children: ~~negative values~~, ~~inflated values~~\n",
    "- [x]  ~~days_employed: dropped~~\n",
    "- [ ]  age: ~~column name~~, ~~0 value~~, categorize & extract\n",
    "- [ ]  education: ~~letter case~~, ~~mismatch with id count~~, extract category\n",
    "- [ ]  family_status: extract category\n",
    "- [x]  gender: ~~single outlier~~\n",
    "- [ ]  income: ~~column name~~, categorize & extract\n",
    "- [x]  debt: ~~wrong data type~~\n",
    "- [x]  total_income: ~~missing values~~, ~~wrong data type~~\n",
    "- [ ]  purpose: duplicates, categorize & extract"
   ]
  },
  {
   "cell_type": "markdown",
   "metadata": {},
   "source": [
    "### 2.5 Processing duplicates"
   ]
  },
  {
   "cell_type": "code",
   "execution_count": 54,
   "metadata": {},
   "outputs": [
    {
     "data": {
      "text/html": [
       "<div>\n",
       "<style scoped>\n",
       "    .dataframe tbody tr th:only-of-type {\n",
       "        vertical-align: middle;\n",
       "    }\n",
       "\n",
       "    .dataframe tbody tr th {\n",
       "        vertical-align: top;\n",
       "    }\n",
       "\n",
       "    .dataframe thead th {\n",
       "        text-align: right;\n",
       "    }\n",
       "</style>\n",
       "<table border=\"1\" class=\"dataframe\">\n",
       "  <thead>\n",
       "    <tr style=\"text-align: right;\">\n",
       "      <th></th>\n",
       "      <th>age</th>\n",
       "      <th>children</th>\n",
       "      <th>debt</th>\n",
       "      <th>education</th>\n",
       "      <th>education_id</th>\n",
       "      <th>family_status</th>\n",
       "      <th>family_status_id</th>\n",
       "      <th>gender</th>\n",
       "      <th>income_type</th>\n",
       "      <th>purpose</th>\n",
       "      <th>income</th>\n",
       "    </tr>\n",
       "  </thead>\n",
       "  <tbody>\n",
       "    <tr>\n",
       "      <td>2849</td>\n",
       "      <td>41</td>\n",
       "      <td>0</td>\n",
       "      <td>False</td>\n",
       "      <td>secondary education</td>\n",
       "      <td>1</td>\n",
       "      <td>married</td>\n",
       "      <td>0</td>\n",
       "      <td>F</td>\n",
       "      <td>employee</td>\n",
       "      <td>purchase of the house for my family</td>\n",
       "      <td>22960</td>\n",
       "    </tr>\n",
       "    <tr>\n",
       "      <td>3290</td>\n",
       "      <td>58</td>\n",
       "      <td>0</td>\n",
       "      <td>False</td>\n",
       "      <td>secondary education</td>\n",
       "      <td>1</td>\n",
       "      <td>civil partnership</td>\n",
       "      <td>1</td>\n",
       "      <td>F</td>\n",
       "      <td>retiree</td>\n",
       "      <td>to have a wedding</td>\n",
       "      <td>21245</td>\n",
       "    </tr>\n",
       "    <tr>\n",
       "      <td>4182</td>\n",
       "      <td>34</td>\n",
       "      <td>1</td>\n",
       "      <td>False</td>\n",
       "      <td>bachelor's degree</td>\n",
       "      <td>0</td>\n",
       "      <td>civil partnership</td>\n",
       "      <td>1</td>\n",
       "      <td>F</td>\n",
       "      <td>employee</td>\n",
       "      <td>wedding ceremony</td>\n",
       "      <td>28794</td>\n",
       "    </tr>\n",
       "    <tr>\n",
       "      <td>4851</td>\n",
       "      <td>60</td>\n",
       "      <td>0</td>\n",
       "      <td>False</td>\n",
       "      <td>secondary education</td>\n",
       "      <td>1</td>\n",
       "      <td>civil partnership</td>\n",
       "      <td>1</td>\n",
       "      <td>F</td>\n",
       "      <td>retiree</td>\n",
       "      <td>wedding ceremony</td>\n",
       "      <td>19467</td>\n",
       "    </tr>\n",
       "    <tr>\n",
       "      <td>5557</td>\n",
       "      <td>58</td>\n",
       "      <td>0</td>\n",
       "      <td>False</td>\n",
       "      <td>secondary education</td>\n",
       "      <td>1</td>\n",
       "      <td>civil partnership</td>\n",
       "      <td>1</td>\n",
       "      <td>F</td>\n",
       "      <td>retiree</td>\n",
       "      <td>to have a wedding</td>\n",
       "      <td>21245</td>\n",
       "    </tr>\n",
       "  </tbody>\n",
       "</table>\n",
       "</div>"
      ],
      "text/plain": [
       "      age  children   debt            education  education_id  \\\n",
       "2849   41         0  False  secondary education             1   \n",
       "3290   58         0  False  secondary education             1   \n",
       "4182   34         1  False    bachelor's degree             0   \n",
       "4851   60         0  False  secondary education             1   \n",
       "5557   58         0  False  secondary education             1   \n",
       "\n",
       "          family_status  family_status_id gender income_type  \\\n",
       "2849            married                 0      F    employee   \n",
       "3290  civil partnership                 1      F     retiree   \n",
       "4182  civil partnership                 1      F    employee   \n",
       "4851  civil partnership                 1      F     retiree   \n",
       "5557  civil partnership                 1      F     retiree   \n",
       "\n",
       "                                  purpose  income  \n",
       "2849  purchase of the house for my family   22960  \n",
       "3290                    to have a wedding   21245  \n",
       "4182                     wedding ceremony   28794  \n",
       "4851                     wedding ceremony   19467  \n",
       "5557                    to have a wedding   21245  "
      ]
     },
     "execution_count": 54,
     "metadata": {},
     "output_type": "execute_result"
    }
   ],
   "source": [
    "df[df.duplicated()].head(5)"
   ]
  },
  {
   "cell_type": "markdown",
   "metadata": {},
   "source": [
    "Searching for duplicates by hand doesn't return any useful results mainly because the rows don't have an associated id,  \n",
    "so tracing duplicates is virtually impossible.  \n",
    "Assume each row is a unique customer (and ask the person responsible for the dataset just to make sure)."
   ]
  },
  {
   "cell_type": "code",
   "execution_count": 55,
   "metadata": {},
   "outputs": [
    {
     "data": {
      "text/html": [
       "<div>\n",
       "<style scoped>\n",
       "    .dataframe tbody tr th:only-of-type {\n",
       "        vertical-align: middle;\n",
       "    }\n",
       "\n",
       "    .dataframe tbody tr th {\n",
       "        vertical-align: top;\n",
       "    }\n",
       "\n",
       "    .dataframe thead th {\n",
       "        text-align: right;\n",
       "    }\n",
       "</style>\n",
       "<table border=\"1\" class=\"dataframe\">\n",
       "  <thead>\n",
       "    <tr style=\"text-align: right;\">\n",
       "      <th>purpose</th>\n",
       "      <th>building a property</th>\n",
       "      <th>building a real estate</th>\n",
       "      <th>buy commercial real estate</th>\n",
       "      <th>buy real estate</th>\n",
       "      <th>buy residential real estate</th>\n",
       "      <th>buying a second-hand car</th>\n",
       "      <th>...</th>\n",
       "      <th>to have a wedding</th>\n",
       "      <th>to own a car</th>\n",
       "      <th>transactions with commercial real estate</th>\n",
       "      <th>transactions with my real estate</th>\n",
       "      <th>university education</th>\n",
       "      <th>wedding ceremony</th>\n",
       "    </tr>\n",
       "  </thead>\n",
       "  <tbody>\n",
       "    <tr>\n",
       "      <td>count</td>\n",
       "      <td>620</td>\n",
       "      <td>626</td>\n",
       "      <td>664</td>\n",
       "      <td>624</td>\n",
       "      <td>607</td>\n",
       "      <td>479</td>\n",
       "      <td>...</td>\n",
       "      <td>774</td>\n",
       "      <td>480</td>\n",
       "      <td>651</td>\n",
       "      <td>630</td>\n",
       "      <td>453</td>\n",
       "      <td>797</td>\n",
       "    </tr>\n",
       "    <tr>\n",
       "      <td>percent</td>\n",
       "      <td>0.029</td>\n",
       "      <td>0.029</td>\n",
       "      <td>0.031</td>\n",
       "      <td>0.029</td>\n",
       "      <td>0.028</td>\n",
       "      <td>0.022</td>\n",
       "      <td>...</td>\n",
       "      <td>0.036</td>\n",
       "      <td>0.022</td>\n",
       "      <td>0.03</td>\n",
       "      <td>0.029</td>\n",
       "      <td>0.021</td>\n",
       "      <td>0.037</td>\n",
       "    </tr>\n",
       "  </tbody>\n",
       "</table>\n",
       "<p>2 rows × 38 columns</p>\n",
       "</div>"
      ],
      "text/plain": [
       "purpose building a property building a real estate buy commercial real estate  \\\n",
       "count                   620                    626                        664   \n",
       "percent               0.029                  0.029                      0.031   \n",
       "\n",
       "purpose buy real estate buy residential real estate buying a second-hand car  \\\n",
       "count               624                         607                      479   \n",
       "percent           0.029                       0.028                    0.022   \n",
       "\n",
       "purpose  ... to have a wedding to own a car  \\\n",
       "count    ...               774          480   \n",
       "percent  ...             0.036        0.022   \n",
       "\n",
       "purpose transactions with commercial real estate  \\\n",
       "count                                        651   \n",
       "percent                                     0.03   \n",
       "\n",
       "purpose transactions with my real estate university education wedding ceremony  \n",
       "count                                630                  453              797  \n",
       "percent                            0.029                0.021            0.037  \n",
       "\n",
       "[2 rows x 38 columns]"
      ]
     },
     "metadata": {},
     "output_type": "display_data"
    },
    {
     "data": {
      "text/markdown": [
       "Missing values: 0"
      ],
      "text/plain": [
       "<IPython.core.display.Markdown object>"
      ]
     },
     "metadata": {},
     "output_type": "display_data"
    }
   ],
   "source": [
    "explore_column('purpose');"
   ]
  },
  {
   "cell_type": "code",
   "execution_count": 56,
   "metadata": {},
   "outputs": [],
   "source": [
    "import nltk\n",
    "from nltk.stem import WordNetLemmatizer\n",
    "from nltk.corpus import stopwords\n",
    "from pandas.core.common import flatten\n",
    "from collections import Counter\n",
    "\n",
    "wordnet_lemma = WordNetLemmatizer()\n",
    "stop_words = set(stopwords.words('english'))\n",
    "\n",
    "def extract_lemmas(sentence):\n",
    "    words = nltk.word_tokenize(sentence)\n",
    "    lemmas = [wordnet_lemma.lemmatize(w, pos='n') for w in words if w not in stop_words]\n",
    "    return lemmas"
   ]
  },
  {
   "cell_type": "markdown",
   "metadata": {},
   "source": [
    "<div class=\"alert alert-warning\"> <b>Reviewer comment:</b> \n",
    "    \n",
    "In best practies to import all the required libraries at the very beginning of the project.\n",
    "    \n",
    "This is a generally accepted format in programming, because it makes it easier to understand which packages will be used in our work.\n",
    "    \n",
    "</div>"
   ]
  },
  {
   "cell_type": "code",
   "execution_count": 57,
   "metadata": {
    "scrolled": true
   },
   "outputs": [
    {
     "data": {
      "text/html": [
       "<div>\n",
       "<style scoped>\n",
       "    .dataframe tbody tr th:only-of-type {\n",
       "        vertical-align: middle;\n",
       "    }\n",
       "\n",
       "    .dataframe tbody tr th {\n",
       "        vertical-align: top;\n",
       "    }\n",
       "\n",
       "    .dataframe thead th {\n",
       "        text-align: right;\n",
       "    }\n",
       "</style>\n",
       "<table border=\"1\" class=\"dataframe\">\n",
       "  <thead>\n",
       "    <tr style=\"text-align: right;\">\n",
       "      <th></th>\n",
       "      <th>0</th>\n",
       "    </tr>\n",
       "  </thead>\n",
       "  <tbody>\n",
       "    <tr>\n",
       "      <td>real</td>\n",
       "      <td>4478</td>\n",
       "    </tr>\n",
       "    <tr>\n",
       "      <td>estate</td>\n",
       "      <td>4478</td>\n",
       "    </tr>\n",
       "    <tr>\n",
       "      <td>car</td>\n",
       "      <td>4315</td>\n",
       "    </tr>\n",
       "    <tr>\n",
       "      <td>purchase</td>\n",
       "      <td>3314</td>\n",
       "    </tr>\n",
       "    <tr>\n",
       "      <td>education</td>\n",
       "      <td>3114</td>\n",
       "    </tr>\n",
       "    <tr>\n",
       "      <td>transaction</td>\n",
       "      <td>2610</td>\n",
       "    </tr>\n",
       "    <tr>\n",
       "      <td>property</td>\n",
       "      <td>2542</td>\n",
       "    </tr>\n",
       "    <tr>\n",
       "      <td>buy</td>\n",
       "      <td>2367</td>\n",
       "    </tr>\n",
       "    <tr>\n",
       "      <td>wedding</td>\n",
       "      <td>2348</td>\n",
       "    </tr>\n",
       "    <tr>\n",
       "      <td>housing</td>\n",
       "      <td>1912</td>\n",
       "    </tr>\n",
       "    <tr>\n",
       "      <td>house</td>\n",
       "      <td>1908</td>\n",
       "    </tr>\n",
       "    <tr>\n",
       "      <td>buying</td>\n",
       "      <td>1637</td>\n",
       "    </tr>\n",
       "    <tr>\n",
       "      <td>commercial</td>\n",
       "      <td>1315</td>\n",
       "    </tr>\n",
       "    <tr>\n",
       "      <td>building</td>\n",
       "      <td>1246</td>\n",
       "    </tr>\n",
       "    <tr>\n",
       "      <td>second-hand</td>\n",
       "      <td>968</td>\n",
       "    </tr>\n",
       "    <tr>\n",
       "      <td>university</td>\n",
       "      <td>949</td>\n",
       "    </tr>\n",
       "    <tr>\n",
       "      <td>supplementary</td>\n",
       "      <td>909</td>\n",
       "    </tr>\n",
       "    <tr>\n",
       "      <td>getting</td>\n",
       "      <td>869</td>\n",
       "    </tr>\n",
       "    <tr>\n",
       "      <td>ceremony</td>\n",
       "      <td>797</td>\n",
       "    </tr>\n",
       "    <tr>\n",
       "      <td>renting</td>\n",
       "      <td>653</td>\n",
       "    </tr>\n",
       "    <tr>\n",
       "      <td>family</td>\n",
       "      <td>641</td>\n",
       "    </tr>\n",
       "    <tr>\n",
       "      <td>construction</td>\n",
       "      <td>635</td>\n",
       "    </tr>\n",
       "    <tr>\n",
       "      <td>renovation</td>\n",
       "      <td>612</td>\n",
       "    </tr>\n",
       "    <tr>\n",
       "      <td>residential</td>\n",
       "      <td>607</td>\n",
       "    </tr>\n",
       "    <tr>\n",
       "      <td>going</td>\n",
       "      <td>496</td>\n",
       "    </tr>\n",
       "    <tr>\n",
       "      <td>get</td>\n",
       "      <td>447</td>\n",
       "    </tr>\n",
       "    <tr>\n",
       "      <td>profile</td>\n",
       "      <td>436</td>\n",
       "    </tr>\n",
       "    <tr>\n",
       "      <td>higher</td>\n",
       "      <td>426</td>\n",
       "    </tr>\n",
       "    <tr>\n",
       "      <td>become</td>\n",
       "      <td>412</td>\n",
       "    </tr>\n",
       "    <tr>\n",
       "      <td>educated</td>\n",
       "      <td>412</td>\n",
       "    </tr>\n",
       "  </tbody>\n",
       "</table>\n",
       "</div>"
      ],
      "text/plain": [
       "                  0\n",
       "real           4478\n",
       "estate         4478\n",
       "car            4315\n",
       "purchase       3314\n",
       "education      3114\n",
       "transaction    2610\n",
       "property       2542\n",
       "buy            2367\n",
       "wedding        2348\n",
       "housing        1912\n",
       "house          1908\n",
       "buying         1637\n",
       "commercial     1315\n",
       "building       1246\n",
       "second-hand     968\n",
       "university      949\n",
       "supplementary   909\n",
       "getting         869\n",
       "ceremony        797\n",
       "renting         653\n",
       "family          641\n",
       "construction    635\n",
       "renovation      612\n",
       "residential     607\n",
       "going           496\n",
       "get             447\n",
       "profile         436\n",
       "higher          426\n",
       "become          412\n",
       "educated        412"
      ]
     },
     "execution_count": 57,
     "metadata": {},
     "output_type": "execute_result"
    }
   ],
   "source": [
    "purpose_lemmas = df['purpose'].map(extract_lemmas)\n",
    "purpose_lemmas = pd.Series(Counter(flatten(purpose_lemmas.values))).sort_values(ascending=False)\n",
    "purpose_lemmas.to_frame()"
   ]
  },
  {
   "cell_type": "code",
   "execution_count": 58,
   "metadata": {
    "scrolled": true
   },
   "outputs": [
    {
     "data": {
      "text/plain": [
       "139    housing renovation\n",
       "163    housing renovation\n",
       "228    housing renovation\n",
       "Name: purpose, dtype: object"
      ]
     },
     "execution_count": 58,
     "metadata": {},
     "output_type": "execute_result"
    }
   ],
   "source": [
    "df.loc[df['purpose'].str.contains('renov'), 'purpose'].head(3)"
   ]
  },
  {
   "cell_type": "code",
   "execution_count": 59,
   "metadata": {},
   "outputs": [
    {
     "data": {
      "text/plain": [
       "14     buy residential real estate\n",
       "96     buy residential real estate\n",
       "116    buy residential real estate\n",
       "Name: purpose, dtype: object"
      ]
     },
     "execution_count": 59,
     "metadata": {},
     "output_type": "execute_result"
    }
   ],
   "source": [
    "df.loc[df['purpose'].str.contains('residential'), 'purpose'].head(3)"
   ]
  },
  {
   "cell_type": "code",
   "execution_count": 60,
   "metadata": {},
   "outputs": [],
   "source": [
    "def categorize_purpose(purpose):\n",
    "    lemmas = extract_lemmas(purpose)\n",
    "    \n",
    "    def assign_category(lemma):\n",
    "        if lemma == 'wedding':\n",
    "            return 'wedding'\n",
    "        elif lemma == 'car':\n",
    "            return 'vehicle'\n",
    "        elif lemma in ['education', 'educated', 'university']:\n",
    "            return 'education'\n",
    "        elif lemma in ['housing', 'house', 'renovation', 'renovation']:\n",
    "            return 'home'\n",
    "        elif lemma in ['estate', 'real', 'property', 'building', 'construction', 'residential']:\n",
    "            return 'real-estate'\n",
    "        \n",
    "    for lemma in lemmas:\n",
    "        category = assign_category(lemma)\n",
    "        if category:\n",
    "            return category\n",
    "    \n",
    "    print(f'category not assigned: {lemma}')"
   ]
  },
  {
   "cell_type": "markdown",
   "metadata": {},
   "source": [
    "<div class=\"alert alert-success\"> <b>Reviewer comment:</b> \n",
    "    \n",
    "Loan categories have been identified correctly 👍\n",
    "    \n",
    "</div>"
   ]
  },
  {
   "cell_type": "code",
   "execution_count": 61,
   "metadata": {},
   "outputs": [
    {
     "data": {
      "text/html": [
       "<div>\n",
       "<style scoped>\n",
       "    .dataframe tbody tr th:only-of-type {\n",
       "        vertical-align: middle;\n",
       "    }\n",
       "\n",
       "    .dataframe tbody tr th {\n",
       "        vertical-align: top;\n",
       "    }\n",
       "\n",
       "    .dataframe thead th {\n",
       "        text-align: right;\n",
       "    }\n",
       "</style>\n",
       "<table border=\"1\" class=\"dataframe\">\n",
       "  <thead>\n",
       "    <tr style=\"text-align: right;\">\n",
       "      <th></th>\n",
       "      <th>purpose</th>\n",
       "      <th>purpose_categorized</th>\n",
       "    </tr>\n",
       "  </thead>\n",
       "  <tbody>\n",
       "    <tr>\n",
       "      <td>0</td>\n",
       "      <td>purchase of the house</td>\n",
       "      <td>home</td>\n",
       "    </tr>\n",
       "    <tr>\n",
       "      <td>1</td>\n",
       "      <td>car purchase</td>\n",
       "      <td>vehicle</td>\n",
       "    </tr>\n",
       "    <tr>\n",
       "      <td>2</td>\n",
       "      <td>purchase of the house</td>\n",
       "      <td>home</td>\n",
       "    </tr>\n",
       "    <tr>\n",
       "      <td>3</td>\n",
       "      <td>supplementary education</td>\n",
       "      <td>education</td>\n",
       "    </tr>\n",
       "    <tr>\n",
       "      <td>4</td>\n",
       "      <td>to have a wedding</td>\n",
       "      <td>wedding</td>\n",
       "    </tr>\n",
       "  </tbody>\n",
       "</table>\n",
       "</div>"
      ],
      "text/plain": [
       "                   purpose purpose_categorized\n",
       "0    purchase of the house                home\n",
       "1             car purchase             vehicle\n",
       "2    purchase of the house                home\n",
       "3  supplementary education           education\n",
       "4        to have a wedding             wedding"
      ]
     },
     "execution_count": 61,
     "metadata": {},
     "output_type": "execute_result"
    }
   ],
   "source": [
    "df['purpose'].head(5).to_frame().join(\n",
    "    df['purpose'].head(5).apply(categorize_purpose).rename('purpose_categorized'))"
   ]
  },
  {
   "cell_type": "code",
   "execution_count": 62,
   "metadata": {
    "scrolled": true
   },
   "outputs": [
    {
     "data": {
      "text/html": [
       "<div>\n",
       "<style scoped>\n",
       "    .dataframe tbody tr th:only-of-type {\n",
       "        vertical-align: middle;\n",
       "    }\n",
       "\n",
       "    .dataframe tbody tr th {\n",
       "        vertical-align: top;\n",
       "    }\n",
       "\n",
       "    .dataframe thead th {\n",
       "        text-align: right;\n",
       "    }\n",
       "</style>\n",
       "<table border=\"1\" class=\"dataframe\">\n",
       "  <thead>\n",
       "    <tr style=\"text-align: right;\">\n",
       "      <th></th>\n",
       "      <th>age</th>\n",
       "      <th>children</th>\n",
       "      <th>debt</th>\n",
       "      <th>education</th>\n",
       "      <th>education_id</th>\n",
       "      <th>family_status</th>\n",
       "      <th>family_status_id</th>\n",
       "      <th>gender</th>\n",
       "      <th>income_type</th>\n",
       "      <th>income</th>\n",
       "      <th>purpose</th>\n",
       "    </tr>\n",
       "  </thead>\n",
       "  <tbody>\n",
       "    <tr>\n",
       "      <td>0</td>\n",
       "      <td>42</td>\n",
       "      <td>1</td>\n",
       "      <td>False</td>\n",
       "      <td>bachelor's degree</td>\n",
       "      <td>0</td>\n",
       "      <td>married</td>\n",
       "      <td>0</td>\n",
       "      <td>F</td>\n",
       "      <td>employee</td>\n",
       "      <td>40620</td>\n",
       "      <td>home</td>\n",
       "    </tr>\n",
       "    <tr>\n",
       "      <td>1</td>\n",
       "      <td>36</td>\n",
       "      <td>1</td>\n",
       "      <td>False</td>\n",
       "      <td>secondary education</td>\n",
       "      <td>1</td>\n",
       "      <td>married</td>\n",
       "      <td>0</td>\n",
       "      <td>F</td>\n",
       "      <td>employee</td>\n",
       "      <td>17932</td>\n",
       "      <td>vehicle</td>\n",
       "    </tr>\n",
       "    <tr>\n",
       "      <td>2</td>\n",
       "      <td>33</td>\n",
       "      <td>0</td>\n",
       "      <td>False</td>\n",
       "      <td>secondary education</td>\n",
       "      <td>1</td>\n",
       "      <td>married</td>\n",
       "      <td>0</td>\n",
       "      <td>M</td>\n",
       "      <td>employee</td>\n",
       "      <td>23341</td>\n",
       "      <td>home</td>\n",
       "    </tr>\n",
       "    <tr>\n",
       "      <td>3</td>\n",
       "      <td>32</td>\n",
       "      <td>3</td>\n",
       "      <td>False</td>\n",
       "      <td>secondary education</td>\n",
       "      <td>1</td>\n",
       "      <td>married</td>\n",
       "      <td>0</td>\n",
       "      <td>M</td>\n",
       "      <td>employee</td>\n",
       "      <td>42820</td>\n",
       "      <td>education</td>\n",
       "    </tr>\n",
       "    <tr>\n",
       "      <td>4</td>\n",
       "      <td>53</td>\n",
       "      <td>0</td>\n",
       "      <td>False</td>\n",
       "      <td>secondary education</td>\n",
       "      <td>1</td>\n",
       "      <td>civil partnership</td>\n",
       "      <td>1</td>\n",
       "      <td>F</td>\n",
       "      <td>retiree</td>\n",
       "      <td>25378</td>\n",
       "      <td>wedding</td>\n",
       "    </tr>\n",
       "  </tbody>\n",
       "</table>\n",
       "</div>"
      ],
      "text/plain": [
       "   age  children   debt            education  education_id      family_status  \\\n",
       "0   42         1  False    bachelor's degree             0            married   \n",
       "1   36         1  False  secondary education             1            married   \n",
       "2   33         0  False  secondary education             1            married   \n",
       "3   32         3  False  secondary education             1            married   \n",
       "4   53         0  False  secondary education             1  civil partnership   \n",
       "\n",
       "   family_status_id gender income_type  income    purpose  \n",
       "0                 0      F    employee   40620       home  \n",
       "1                 0      F    employee   17932    vehicle  \n",
       "2                 0      M    employee   23341       home  \n",
       "3                 0      M    employee   42820  education  \n",
       "4                 1      F     retiree   25378    wedding  "
      ]
     },
     "execution_count": 62,
     "metadata": {},
     "output_type": "execute_result"
    }
   ],
   "source": [
    "df_temp = df.drop('purpose', axis=1).join(df['purpose'].apply(categorize_purpose))\n",
    "df_temp.head()"
   ]
  },
  {
   "cell_type": "code",
   "execution_count": 63,
   "metadata": {},
   "outputs": [
    {
     "data": {
      "text/plain": [
       "Series([], Name: purpose, dtype: object)"
      ]
     },
     "execution_count": 63,
     "metadata": {},
     "output_type": "execute_result"
    }
   ],
   "source": [
    "df_temp.loc[df_temp['purpose'].isna(), 'purpose']"
   ]
  },
  {
   "cell_type": "code",
   "execution_count": 64,
   "metadata": {
    "scrolled": false
   },
   "outputs": [],
   "source": [
    "df = df_temp\n",
    "del df_temp"
   ]
  },
  {
   "cell_type": "markdown",
   "metadata": {},
   "source": [
    "### 2.6 Conclusion"
   ]
  },
  {
   "cell_type": "markdown",
   "metadata": {},
   "source": [
    "In general, there isn't enought data (i.e. customer's id) to conclude that any rows are duplicates.  \n",
    "\n",
    "There were duplicated entries for the 'education' column, which were handled by casefolding (lowercase) in a previous section.  \n",
    "\n",
    "'purpose' column hid duplicated values, which were obscured by 'free-form' text.  \n",
    "Those values were reduced to keywords (categories) using lemmatization."
   ]
  },
  {
   "cell_type": "markdown",
   "metadata": {},
   "source": [
    "### 2.7 Categorizing Data"
   ]
  },
  {
   "cell_type": "markdown",
   "metadata": {},
   "source": [
    " "
   ]
  },
  {
   "cell_type": "code",
   "execution_count": 65,
   "metadata": {},
   "outputs": [],
   "source": [
    "def invert_series(series):\n",
    "    '''\n",
    "    Swap index and values of a pandas' series.\n",
    "    '''\n",
    "    \n",
    "    return pd.Series(\n",
    "        data=series.index,\n",
    "        index=series.values\n",
    "    ).rename_axis(series.name)"
   ]
  },
  {
   "cell_type": "markdown",
   "metadata": {},
   "source": [
    "__Age__\n",
    "***\n",
    "Utilizing 'age_group' column, created in a previous secrion."
   ]
  },
  {
   "cell_type": "code",
   "execution_count": 66,
   "metadata": {},
   "outputs": [
    {
     "data": {
      "text/html": [
       "<div>\n",
       "<style scoped>\n",
       "    .dataframe tbody tr th:only-of-type {\n",
       "        vertical-align: middle;\n",
       "    }\n",
       "\n",
       "    .dataframe tbody tr th {\n",
       "        vertical-align: top;\n",
       "    }\n",
       "\n",
       "    .dataframe thead th {\n",
       "        text-align: right;\n",
       "    }\n",
       "</style>\n",
       "<table border=\"1\" class=\"dataframe\">\n",
       "  <thead>\n",
       "    <tr style=\"text-align: right;\">\n",
       "      <th>age_group_id</th>\n",
       "      <th>0</th>\n",
       "      <th>1</th>\n",
       "      <th>2</th>\n",
       "      <th>3</th>\n",
       "      <th>4</th>\n",
       "      <th>5</th>\n",
       "      <th>6</th>\n",
       "    </tr>\n",
       "  </thead>\n",
       "  <tbody>\n",
       "    <tr>\n",
       "      <td>age_group</td>\n",
       "      <td>0-19</td>\n",
       "      <td>20-29</td>\n",
       "      <td>30-39</td>\n",
       "      <td>40-49</td>\n",
       "      <td>50-59</td>\n",
       "      <td>60-69</td>\n",
       "      <td>65+</td>\n",
       "    </tr>\n",
       "  </tbody>\n",
       "</table>\n",
       "</div>"
      ],
      "text/plain": [
       "age_group_id     0      1      2      3      4      5    6\n",
       "age_group     0-19  20-29  30-39  40-49  50-59  60-69  65+"
      ]
     },
     "execution_count": 66,
     "metadata": {},
     "output_type": "execute_result"
    }
   ],
   "source": [
    "age_group_ref = pd.Series(\n",
    "    data=sorted(df_age_group['age_group'].value_counts().index.values),\n",
    "    name='age_group'\n",
    ").rename_axis('age_group_id')\n",
    "age_group_ref.to_frame().T"
   ]
  },
  {
   "cell_type": "code",
   "execution_count": 67,
   "metadata": {},
   "outputs": [
    {
     "data": {
      "text/html": [
       "<div>\n",
       "<style scoped>\n",
       "    .dataframe tbody tr th:only-of-type {\n",
       "        vertical-align: middle;\n",
       "    }\n",
       "\n",
       "    .dataframe tbody tr th {\n",
       "        vertical-align: top;\n",
       "    }\n",
       "\n",
       "    .dataframe thead th {\n",
       "        text-align: right;\n",
       "    }\n",
       "</style>\n",
       "<table border=\"1\" class=\"dataframe\">\n",
       "  <thead>\n",
       "    <tr style=\"text-align: right;\">\n",
       "      <th>age_group</th>\n",
       "      <th>0-19</th>\n",
       "      <th>20-29</th>\n",
       "      <th>30-39</th>\n",
       "      <th>40-49</th>\n",
       "      <th>50-59</th>\n",
       "      <th>60-69</th>\n",
       "      <th>65+</th>\n",
       "    </tr>\n",
       "  </thead>\n",
       "  <tbody>\n",
       "    <tr>\n",
       "      <td>age_group_id</td>\n",
       "      <td>0</td>\n",
       "      <td>1</td>\n",
       "      <td>2</td>\n",
       "      <td>3</td>\n",
       "      <td>4</td>\n",
       "      <td>5</td>\n",
       "      <td>6</td>\n",
       "    </tr>\n",
       "  </tbody>\n",
       "</table>\n",
       "</div>"
      ],
      "text/plain": [
       "age_group     0-19  20-29  30-39  40-49  50-59  60-69  65+\n",
       "age_group_id     0      1      2      3      4      5    6"
      ]
     },
     "execution_count": 67,
     "metadata": {},
     "output_type": "execute_result"
    }
   ],
   "source": [
    "age_group_ref_inverted = invert_series(age_group_ref)\n",
    "age_group_ref_inverted.to_frame().T"
   ]
  },
  {
   "cell_type": "code",
   "execution_count": 68,
   "metadata": {
    "scrolled": true
   },
   "outputs": [
    {
     "data": {
      "text/html": [
       "<div>\n",
       "<style scoped>\n",
       "    .dataframe tbody tr th:only-of-type {\n",
       "        vertical-align: middle;\n",
       "    }\n",
       "\n",
       "    .dataframe tbody tr th {\n",
       "        vertical-align: top;\n",
       "    }\n",
       "\n",
       "    .dataframe thead th {\n",
       "        text-align: right;\n",
       "    }\n",
       "</style>\n",
       "<table border=\"1\" class=\"dataframe\">\n",
       "  <thead>\n",
       "    <tr style=\"text-align: right;\">\n",
       "      <th></th>\n",
       "      <th>age</th>\n",
       "      <th>children</th>\n",
       "      <th>debt</th>\n",
       "      <th>education</th>\n",
       "      <th>education_id</th>\n",
       "      <th>family_status</th>\n",
       "      <th>family_status_id</th>\n",
       "      <th>gender</th>\n",
       "      <th>income_type</th>\n",
       "      <th>income</th>\n",
       "      <th>purpose</th>\n",
       "    </tr>\n",
       "  </thead>\n",
       "  <tbody>\n",
       "    <tr>\n",
       "      <td>0</td>\n",
       "      <td>42</td>\n",
       "      <td>1</td>\n",
       "      <td>False</td>\n",
       "      <td>bachelor's degree</td>\n",
       "      <td>0</td>\n",
       "      <td>married</td>\n",
       "      <td>0</td>\n",
       "      <td>F</td>\n",
       "      <td>employee</td>\n",
       "      <td>40620</td>\n",
       "      <td>home</td>\n",
       "    </tr>\n",
       "    <tr>\n",
       "      <td>1</td>\n",
       "      <td>36</td>\n",
       "      <td>1</td>\n",
       "      <td>False</td>\n",
       "      <td>secondary education</td>\n",
       "      <td>1</td>\n",
       "      <td>married</td>\n",
       "      <td>0</td>\n",
       "      <td>F</td>\n",
       "      <td>employee</td>\n",
       "      <td>17932</td>\n",
       "      <td>vehicle</td>\n",
       "    </tr>\n",
       "    <tr>\n",
       "      <td>2</td>\n",
       "      <td>33</td>\n",
       "      <td>0</td>\n",
       "      <td>False</td>\n",
       "      <td>secondary education</td>\n",
       "      <td>1</td>\n",
       "      <td>married</td>\n",
       "      <td>0</td>\n",
       "      <td>M</td>\n",
       "      <td>employee</td>\n",
       "      <td>23341</td>\n",
       "      <td>home</td>\n",
       "    </tr>\n",
       "  </tbody>\n",
       "</table>\n",
       "</div>"
      ],
      "text/plain": [
       "   age  children   debt            education  education_id family_status  \\\n",
       "0   42         1  False    bachelor's degree             0       married   \n",
       "1   36         1  False  secondary education             1       married   \n",
       "2   33         0  False  secondary education             1       married   \n",
       "\n",
       "   family_status_id gender income_type  income  purpose  \n",
       "0                 0      F    employee   40620     home  \n",
       "1                 0      F    employee   17932  vehicle  \n",
       "2                 0      M    employee   23341     home  "
      ]
     },
     "metadata": {},
     "output_type": "display_data"
    },
    {
     "data": {
      "text/markdown": [
       "_'before' sample_"
      ],
      "text/plain": [
       "<IPython.core.display.Markdown object>"
      ]
     },
     "metadata": {},
     "output_type": "display_data"
    }
   ],
   "source": [
    "display(df.head(3), md(\"_'before' sample_\"))"
   ]
  },
  {
   "cell_type": "code",
   "execution_count": 69,
   "metadata": {},
   "outputs": [
    {
     "data": {
      "text/html": [
       "<div>\n",
       "<style scoped>\n",
       "    .dataframe tbody tr th:only-of-type {\n",
       "        vertical-align: middle;\n",
       "    }\n",
       "\n",
       "    .dataframe tbody tr th {\n",
       "        vertical-align: top;\n",
       "    }\n",
       "\n",
       "    .dataframe thead th {\n",
       "        text-align: right;\n",
       "    }\n",
       "</style>\n",
       "<table border=\"1\" class=\"dataframe\">\n",
       "  <thead>\n",
       "    <tr style=\"text-align: right;\">\n",
       "      <th></th>\n",
       "      <th>age_group_id</th>\n",
       "      <th>children</th>\n",
       "      <th>debt</th>\n",
       "      <th>education</th>\n",
       "      <th>education_id</th>\n",
       "      <th>family_status</th>\n",
       "      <th>family_status_id</th>\n",
       "      <th>gender</th>\n",
       "      <th>income</th>\n",
       "      <th>income_type</th>\n",
       "      <th>purpose</th>\n",
       "    </tr>\n",
       "  </thead>\n",
       "  <tbody>\n",
       "    <tr>\n",
       "      <td>0</td>\n",
       "      <td>3</td>\n",
       "      <td>1</td>\n",
       "      <td>False</td>\n",
       "      <td>bachelor's degree</td>\n",
       "      <td>0</td>\n",
       "      <td>married</td>\n",
       "      <td>0</td>\n",
       "      <td>F</td>\n",
       "      <td>40620</td>\n",
       "      <td>employee</td>\n",
       "      <td>home</td>\n",
       "    </tr>\n",
       "    <tr>\n",
       "      <td>1</td>\n",
       "      <td>2</td>\n",
       "      <td>1</td>\n",
       "      <td>False</td>\n",
       "      <td>secondary education</td>\n",
       "      <td>1</td>\n",
       "      <td>married</td>\n",
       "      <td>0</td>\n",
       "      <td>F</td>\n",
       "      <td>17932</td>\n",
       "      <td>employee</td>\n",
       "      <td>vehicle</td>\n",
       "    </tr>\n",
       "    <tr>\n",
       "      <td>2</td>\n",
       "      <td>2</td>\n",
       "      <td>0</td>\n",
       "      <td>False</td>\n",
       "      <td>secondary education</td>\n",
       "      <td>1</td>\n",
       "      <td>married</td>\n",
       "      <td>0</td>\n",
       "      <td>M</td>\n",
       "      <td>23341</td>\n",
       "      <td>employee</td>\n",
       "      <td>home</td>\n",
       "    </tr>\n",
       "  </tbody>\n",
       "</table>\n",
       "</div>"
      ],
      "text/plain": [
       "   age_group_id  children   debt            education  education_id  \\\n",
       "0             3         1  False    bachelor's degree             0   \n",
       "1             2         1  False  secondary education             1   \n",
       "2             2         0  False  secondary education             1   \n",
       "\n",
       "  family_status  family_status_id gender  income income_type  purpose  \n",
       "0       married                 0      F   40620    employee     home  \n",
       "1       married                 0      F   17932    employee  vehicle  \n",
       "2       married                 0      M   23341    employee     home  "
      ]
     },
     "metadata": {},
     "output_type": "display_data"
    },
    {
     "data": {
      "text/markdown": [
       "_'after' sample<br />shape: (21525, 11)_"
      ],
      "text/plain": [
       "<IPython.core.display.Markdown object>"
      ]
     },
     "metadata": {},
     "output_type": "display_data"
    },
    {
     "data": {
      "text/html": [
       "<div>\n",
       "<style scoped>\n",
       "    .dataframe tbody tr th:only-of-type {\n",
       "        vertical-align: middle;\n",
       "    }\n",
       "\n",
       "    .dataframe tbody tr th {\n",
       "        vertical-align: top;\n",
       "    }\n",
       "\n",
       "    .dataframe thead th {\n",
       "        text-align: right;\n",
       "    }\n",
       "</style>\n",
       "<table border=\"1\" class=\"dataframe\">\n",
       "  <thead>\n",
       "    <tr style=\"text-align: right;\">\n",
       "      <th>age_group_id</th>\n",
       "      <th>0</th>\n",
       "      <th>1</th>\n",
       "      <th>2</th>\n",
       "      <th>3</th>\n",
       "      <th>4</th>\n",
       "      <th>5</th>\n",
       "      <th>6</th>\n",
       "    </tr>\n",
       "  </thead>\n",
       "  <tbody>\n",
       "    <tr>\n",
       "      <td>age_group</td>\n",
       "      <td>0-19</td>\n",
       "      <td>20-29</td>\n",
       "      <td>30-39</td>\n",
       "      <td>40-49</td>\n",
       "      <td>50-59</td>\n",
       "      <td>60-69</td>\n",
       "      <td>65+</td>\n",
       "    </tr>\n",
       "  </tbody>\n",
       "</table>\n",
       "</div>"
      ],
      "text/plain": [
       "age_group_id     0      1      2      3      4      5    6\n",
       "age_group     0-19  20-29  30-39  40-49  50-59  60-69  65+"
      ]
     },
     "metadata": {},
     "output_type": "display_data"
    }
   ],
   "source": [
    "df_temp = df.join(df_age_group['age_group'] \\\n",
    "                  .apply(lambda v:age_group_ref_inverted[v]) \\\n",
    "                  .rename('age_group_id')) \\\n",
    "            .drop('age', axis=1)\n",
    "df_temp = df_temp.reindex(columns=sorted(df_temp.columns))\n",
    "\n",
    "display(\n",
    "    df_temp.head(3),\n",
    "    md(f\"_'after' sample<br />shape: {df_temp.shape}_\"),\n",
    "    age_group_ref.to_frame().T\n",
    ")"
   ]
  },
  {
   "cell_type": "code",
   "execution_count": 70,
   "metadata": {},
   "outputs": [],
   "source": [
    "df = df_temp\n",
    "del df_temp"
   ]
  },
  {
   "cell_type": "markdown",
   "metadata": {},
   "source": [
    " "
   ]
  },
  {
   "cell_type": "markdown",
   "metadata": {},
   "source": [
    "__Education__\n",
    "***"
   ]
  },
  {
   "cell_type": "code",
   "execution_count": 71,
   "metadata": {},
   "outputs": [
    {
     "data": {
      "text/html": [
       "<div>\n",
       "<style scoped>\n",
       "    .dataframe tbody tr th:only-of-type {\n",
       "        vertical-align: middle;\n",
       "    }\n",
       "\n",
       "    .dataframe tbody tr th {\n",
       "        vertical-align: top;\n",
       "    }\n",
       "\n",
       "    .dataframe thead th {\n",
       "        text-align: right;\n",
       "    }\n",
       "</style>\n",
       "<table border=\"1\" class=\"dataframe\">\n",
       "  <thead>\n",
       "    <tr style=\"text-align: right;\">\n",
       "      <th>education_id</th>\n",
       "      <th>0</th>\n",
       "      <th>1</th>\n",
       "      <th>2</th>\n",
       "      <th>3</th>\n",
       "      <th>4</th>\n",
       "    </tr>\n",
       "  </thead>\n",
       "  <tbody>\n",
       "    <tr>\n",
       "      <td>education</td>\n",
       "      <td>bachelor's degree</td>\n",
       "      <td>secondary education</td>\n",
       "      <td>some college</td>\n",
       "      <td>primary education</td>\n",
       "      <td>graduate degree</td>\n",
       "    </tr>\n",
       "  </tbody>\n",
       "</table>\n",
       "</div>"
      ],
      "text/plain": [
       "education_id                  0                    1             2  \\\n",
       "education     bachelor's degree  secondary education  some college   \n",
       "\n",
       "education_id                  3                4  \n",
       "education     primary education  graduate degree  "
      ]
     },
     "execution_count": 71,
     "metadata": {},
     "output_type": "execute_result"
    }
   ],
   "source": [
    "education_ref = df[['education', 'education_id']].drop_duplicates().set_index('education_id')\n",
    "education_ref.T"
   ]
  },
  {
   "cell_type": "markdown",
   "metadata": {},
   "source": [
    "Re-assigning ids to education categories, based on degree importance (0 - least important, 4 - most important)."
   ]
  },
  {
   "cell_type": "code",
   "execution_count": 72,
   "metadata": {
    "scrolled": false
   },
   "outputs": [
    {
     "data": {
      "text/html": [
       "<div>\n",
       "<style scoped>\n",
       "    .dataframe tbody tr th:only-of-type {\n",
       "        vertical-align: middle;\n",
       "    }\n",
       "\n",
       "    .dataframe tbody tr th {\n",
       "        vertical-align: top;\n",
       "    }\n",
       "\n",
       "    .dataframe thead th {\n",
       "        text-align: right;\n",
       "    }\n",
       "</style>\n",
       "<table border=\"1\" class=\"dataframe\">\n",
       "  <thead>\n",
       "    <tr style=\"text-align: right;\">\n",
       "      <th>education_id</th>\n",
       "      <th>0</th>\n",
       "      <th>1</th>\n",
       "      <th>2</th>\n",
       "      <th>3</th>\n",
       "      <th>4</th>\n",
       "    </tr>\n",
       "  </thead>\n",
       "  <tbody>\n",
       "    <tr>\n",
       "      <td>education</td>\n",
       "      <td>primary education</td>\n",
       "      <td>secondary education</td>\n",
       "      <td>some college</td>\n",
       "      <td>bachelor's degree</td>\n",
       "      <td>graduate degree</td>\n",
       "    </tr>\n",
       "  </tbody>\n",
       "</table>\n",
       "</div>"
      ],
      "text/plain": [
       "education_id                  0                    1             2  \\\n",
       "education     primary education  secondary education  some college   \n",
       "\n",
       "education_id                  3                4  \n",
       "education     bachelor's degree  graduate degree  "
      ]
     },
     "execution_count": 72,
     "metadata": {},
     "output_type": "execute_result"
    }
   ],
   "source": [
    "education_ref = pd.Series(\n",
    "    data = [\n",
    "        'primary education',\n",
    "        'secondary education',\n",
    "        'some college',\n",
    "        'bachelor\\'s degree',\n",
    "        'graduate degree'],\n",
    "    name = 'education'\n",
    ").rename_axis('education_id')\n",
    "education_ref.to_frame().T"
   ]
  },
  {
   "cell_type": "code",
   "execution_count": 73,
   "metadata": {
    "scrolled": true
   },
   "outputs": [
    {
     "data": {
      "text/html": [
       "<div>\n",
       "<style scoped>\n",
       "    .dataframe tbody tr th:only-of-type {\n",
       "        vertical-align: middle;\n",
       "    }\n",
       "\n",
       "    .dataframe tbody tr th {\n",
       "        vertical-align: top;\n",
       "    }\n",
       "\n",
       "    .dataframe thead th {\n",
       "        text-align: right;\n",
       "    }\n",
       "</style>\n",
       "<table border=\"1\" class=\"dataframe\">\n",
       "  <thead>\n",
       "    <tr style=\"text-align: right;\">\n",
       "      <th>education</th>\n",
       "      <th>primary education</th>\n",
       "      <th>secondary education</th>\n",
       "      <th>some college</th>\n",
       "      <th>bachelor's degree</th>\n",
       "      <th>graduate degree</th>\n",
       "    </tr>\n",
       "  </thead>\n",
       "  <tbody>\n",
       "    <tr>\n",
       "      <td>education_id</td>\n",
       "      <td>0</td>\n",
       "      <td>1</td>\n",
       "      <td>2</td>\n",
       "      <td>3</td>\n",
       "      <td>4</td>\n",
       "    </tr>\n",
       "  </tbody>\n",
       "</table>\n",
       "</div>"
      ],
      "text/plain": [
       "education     primary education  secondary education  some college  \\\n",
       "education_id                  0                    1             2   \n",
       "\n",
       "education     bachelor's degree  graduate degree  \n",
       "education_id                  3                4  "
      ]
     },
     "execution_count": 73,
     "metadata": {},
     "output_type": "execute_result"
    }
   ],
   "source": [
    "education_ref_inverted = invert_series(education_ref)\n",
    "education_ref_inverted.to_frame().T"
   ]
  },
  {
   "cell_type": "code",
   "execution_count": 74,
   "metadata": {},
   "outputs": [
    {
     "data": {
      "text/html": [
       "<div>\n",
       "<style scoped>\n",
       "    .dataframe tbody tr th:only-of-type {\n",
       "        vertical-align: middle;\n",
       "    }\n",
       "\n",
       "    .dataframe tbody tr th {\n",
       "        vertical-align: top;\n",
       "    }\n",
       "\n",
       "    .dataframe thead th {\n",
       "        text-align: right;\n",
       "    }\n",
       "</style>\n",
       "<table border=\"1\" class=\"dataframe\">\n",
       "  <thead>\n",
       "    <tr style=\"text-align: right;\">\n",
       "      <th></th>\n",
       "      <th>age_group_id</th>\n",
       "      <th>children</th>\n",
       "      <th>debt</th>\n",
       "      <th>education</th>\n",
       "      <th>education_id</th>\n",
       "      <th>family_status</th>\n",
       "      <th>family_status_id</th>\n",
       "      <th>gender</th>\n",
       "      <th>income</th>\n",
       "      <th>income_type</th>\n",
       "      <th>purpose</th>\n",
       "    </tr>\n",
       "  </thead>\n",
       "  <tbody>\n",
       "    <tr>\n",
       "      <td>0</td>\n",
       "      <td>3</td>\n",
       "      <td>1</td>\n",
       "      <td>False</td>\n",
       "      <td>bachelor's degree</td>\n",
       "      <td>0</td>\n",
       "      <td>married</td>\n",
       "      <td>0</td>\n",
       "      <td>F</td>\n",
       "      <td>40620</td>\n",
       "      <td>employee</td>\n",
       "      <td>home</td>\n",
       "    </tr>\n",
       "    <tr>\n",
       "      <td>1</td>\n",
       "      <td>2</td>\n",
       "      <td>1</td>\n",
       "      <td>False</td>\n",
       "      <td>secondary education</td>\n",
       "      <td>1</td>\n",
       "      <td>married</td>\n",
       "      <td>0</td>\n",
       "      <td>F</td>\n",
       "      <td>17932</td>\n",
       "      <td>employee</td>\n",
       "      <td>vehicle</td>\n",
       "    </tr>\n",
       "    <tr>\n",
       "      <td>2</td>\n",
       "      <td>2</td>\n",
       "      <td>0</td>\n",
       "      <td>False</td>\n",
       "      <td>secondary education</td>\n",
       "      <td>1</td>\n",
       "      <td>married</td>\n",
       "      <td>0</td>\n",
       "      <td>M</td>\n",
       "      <td>23341</td>\n",
       "      <td>employee</td>\n",
       "      <td>home</td>\n",
       "    </tr>\n",
       "  </tbody>\n",
       "</table>\n",
       "</div>"
      ],
      "text/plain": [
       "   age_group_id  children   debt            education  education_id  \\\n",
       "0             3         1  False    bachelor's degree             0   \n",
       "1             2         1  False  secondary education             1   \n",
       "2             2         0  False  secondary education             1   \n",
       "\n",
       "  family_status  family_status_id gender  income income_type  purpose  \n",
       "0       married                 0      F   40620    employee     home  \n",
       "1       married                 0      F   17932    employee  vehicle  \n",
       "2       married                 0      M   23341    employee     home  "
      ]
     },
     "metadata": {},
     "output_type": "display_data"
    },
    {
     "data": {
      "text/markdown": [
       "'before' sample"
      ],
      "text/plain": [
       "<IPython.core.display.Markdown object>"
      ]
     },
     "metadata": {},
     "output_type": "display_data"
    }
   ],
   "source": [
    "display(df.head(3), md(\"'before' sample\"))"
   ]
  },
  {
   "cell_type": "code",
   "execution_count": 75,
   "metadata": {},
   "outputs": [
    {
     "data": {
      "text/html": [
       "<div>\n",
       "<style scoped>\n",
       "    .dataframe tbody tr th:only-of-type {\n",
       "        vertical-align: middle;\n",
       "    }\n",
       "\n",
       "    .dataframe tbody tr th {\n",
       "        vertical-align: top;\n",
       "    }\n",
       "\n",
       "    .dataframe thead th {\n",
       "        text-align: right;\n",
       "    }\n",
       "</style>\n",
       "<table border=\"1\" class=\"dataframe\">\n",
       "  <thead>\n",
       "    <tr style=\"text-align: right;\">\n",
       "      <th></th>\n",
       "      <th>age_group_id</th>\n",
       "      <th>children</th>\n",
       "      <th>debt</th>\n",
       "      <th>education_id</th>\n",
       "      <th>family_status</th>\n",
       "      <th>family_status_id</th>\n",
       "      <th>gender</th>\n",
       "      <th>income</th>\n",
       "      <th>income_type</th>\n",
       "      <th>purpose</th>\n",
       "    </tr>\n",
       "  </thead>\n",
       "  <tbody>\n",
       "    <tr>\n",
       "      <td>0</td>\n",
       "      <td>3</td>\n",
       "      <td>1</td>\n",
       "      <td>False</td>\n",
       "      <td>3</td>\n",
       "      <td>married</td>\n",
       "      <td>0</td>\n",
       "      <td>F</td>\n",
       "      <td>40620</td>\n",
       "      <td>employee</td>\n",
       "      <td>home</td>\n",
       "    </tr>\n",
       "    <tr>\n",
       "      <td>1</td>\n",
       "      <td>2</td>\n",
       "      <td>1</td>\n",
       "      <td>False</td>\n",
       "      <td>1</td>\n",
       "      <td>married</td>\n",
       "      <td>0</td>\n",
       "      <td>F</td>\n",
       "      <td>17932</td>\n",
       "      <td>employee</td>\n",
       "      <td>vehicle</td>\n",
       "    </tr>\n",
       "    <tr>\n",
       "      <td>2</td>\n",
       "      <td>2</td>\n",
       "      <td>0</td>\n",
       "      <td>False</td>\n",
       "      <td>1</td>\n",
       "      <td>married</td>\n",
       "      <td>0</td>\n",
       "      <td>M</td>\n",
       "      <td>23341</td>\n",
       "      <td>employee</td>\n",
       "      <td>home</td>\n",
       "    </tr>\n",
       "  </tbody>\n",
       "</table>\n",
       "</div>"
      ],
      "text/plain": [
       "   age_group_id  children   debt  education_id family_status  \\\n",
       "0             3         1  False             3       married   \n",
       "1             2         1  False             1       married   \n",
       "2             2         0  False             1       married   \n",
       "\n",
       "   family_status_id gender  income income_type  purpose  \n",
       "0                 0      F   40620    employee     home  \n",
       "1                 0      F   17932    employee  vehicle  \n",
       "2                 0      M   23341    employee     home  "
      ]
     },
     "metadata": {},
     "output_type": "display_data"
    },
    {
     "data": {
      "text/markdown": [
       "_'after' sample<br />shape: (21525, 10)_"
      ],
      "text/plain": [
       "<IPython.core.display.Markdown object>"
      ]
     },
     "metadata": {},
     "output_type": "display_data"
    },
    {
     "data": {
      "text/html": [
       "<div>\n",
       "<style scoped>\n",
       "    .dataframe tbody tr th:only-of-type {\n",
       "        vertical-align: middle;\n",
       "    }\n",
       "\n",
       "    .dataframe tbody tr th {\n",
       "        vertical-align: top;\n",
       "    }\n",
       "\n",
       "    .dataframe thead th {\n",
       "        text-align: right;\n",
       "    }\n",
       "</style>\n",
       "<table border=\"1\" class=\"dataframe\">\n",
       "  <thead>\n",
       "    <tr style=\"text-align: right;\">\n",
       "      <th>education_id</th>\n",
       "      <th>0</th>\n",
       "      <th>1</th>\n",
       "      <th>2</th>\n",
       "      <th>3</th>\n",
       "      <th>4</th>\n",
       "    </tr>\n",
       "  </thead>\n",
       "  <tbody>\n",
       "    <tr>\n",
       "      <td>education</td>\n",
       "      <td>primary education</td>\n",
       "      <td>secondary education</td>\n",
       "      <td>some college</td>\n",
       "      <td>bachelor's degree</td>\n",
       "      <td>graduate degree</td>\n",
       "    </tr>\n",
       "  </tbody>\n",
       "</table>\n",
       "</div>"
      ],
      "text/plain": [
       "education_id                  0                    1             2  \\\n",
       "education     primary education  secondary education  some college   \n",
       "\n",
       "education_id                  3                4  \n",
       "education     bachelor's degree  graduate degree  "
      ]
     },
     "metadata": {},
     "output_type": "display_data"
    }
   ],
   "source": [
    "df_temp = df.drop('education_id', axis=1) \\\n",
    "            .join(df['education'] \\\n",
    "                  .apply(lambda v:education_ref_inverted[v]) \\\n",
    "                  .rename('education_id')) \\\n",
    "            .drop('education', axis=1)\n",
    "df_temp = df_temp.reindex(columns=sorted(df_temp.columns))\n",
    "\n",
    "display(\n",
    "    df_temp.head(3),\n",
    "    md(f\"_'after' sample<br />shape: {df_temp.shape}_\"),\n",
    "    education_ref.to_frame().T\n",
    ")"
   ]
  },
  {
   "cell_type": "code",
   "execution_count": 76,
   "metadata": {},
   "outputs": [],
   "source": [
    "df = df_temp\n",
    "del df_temp"
   ]
  },
  {
   "cell_type": "markdown",
   "metadata": {},
   "source": [
    "__Family status__\n",
    "***"
   ]
  },
  {
   "cell_type": "code",
   "execution_count": 77,
   "metadata": {},
   "outputs": [
    {
     "data": {
      "text/html": [
       "<div>\n",
       "<style scoped>\n",
       "    .dataframe tbody tr th:only-of-type {\n",
       "        vertical-align: middle;\n",
       "    }\n",
       "\n",
       "    .dataframe tbody tr th {\n",
       "        vertical-align: top;\n",
       "    }\n",
       "\n",
       "    .dataframe thead th {\n",
       "        text-align: right;\n",
       "    }\n",
       "</style>\n",
       "<table border=\"1\" class=\"dataframe\">\n",
       "  <thead>\n",
       "    <tr style=\"text-align: right;\">\n",
       "      <th>family_status_id</th>\n",
       "      <th>0</th>\n",
       "      <th>1</th>\n",
       "      <th>2</th>\n",
       "      <th>3</th>\n",
       "      <th>4</th>\n",
       "    </tr>\n",
       "  </thead>\n",
       "  <tbody>\n",
       "    <tr>\n",
       "      <td>family_status</td>\n",
       "      <td>married</td>\n",
       "      <td>civil partnership</td>\n",
       "      <td>widow / widower</td>\n",
       "      <td>divorced</td>\n",
       "      <td>unmarried</td>\n",
       "    </tr>\n",
       "  </tbody>\n",
       "</table>\n",
       "</div>"
      ],
      "text/plain": [
       "family_status_id        0                  1                2         3  \\\n",
       "family_status     married  civil partnership  widow / widower  divorced   \n",
       "\n",
       "family_status_id          4  \n",
       "family_status     unmarried  "
      ]
     },
     "execution_count": 77,
     "metadata": {},
     "output_type": "execute_result"
    }
   ],
   "source": [
    "family_status_ref = df[['family_status', 'family_status_id']] \\\n",
    "                    .drop_duplicates() \\\n",
    "                    .set_index('family_status_id') \\\n",
    "                    .squeeze()\n",
    "family_status_ref.to_frame().T"
   ]
  },
  {
   "cell_type": "code",
   "execution_count": 78,
   "metadata": {
    "scrolled": true
   },
   "outputs": [
    {
     "data": {
      "text/html": [
       "<div>\n",
       "<style scoped>\n",
       "    .dataframe tbody tr th:only-of-type {\n",
       "        vertical-align: middle;\n",
       "    }\n",
       "\n",
       "    .dataframe tbody tr th {\n",
       "        vertical-align: top;\n",
       "    }\n",
       "\n",
       "    .dataframe thead th {\n",
       "        text-align: right;\n",
       "    }\n",
       "</style>\n",
       "<table border=\"1\" class=\"dataframe\">\n",
       "  <thead>\n",
       "    <tr style=\"text-align: right;\">\n",
       "      <th></th>\n",
       "      <th>age_group_id</th>\n",
       "      <th>children</th>\n",
       "      <th>debt</th>\n",
       "      <th>education_id</th>\n",
       "      <th>family_status</th>\n",
       "      <th>family_status_id</th>\n",
       "      <th>gender</th>\n",
       "      <th>income</th>\n",
       "      <th>income_type</th>\n",
       "      <th>purpose</th>\n",
       "    </tr>\n",
       "  </thead>\n",
       "  <tbody>\n",
       "    <tr>\n",
       "      <td>0</td>\n",
       "      <td>3</td>\n",
       "      <td>1</td>\n",
       "      <td>False</td>\n",
       "      <td>3</td>\n",
       "      <td>married</td>\n",
       "      <td>0</td>\n",
       "      <td>F</td>\n",
       "      <td>40620</td>\n",
       "      <td>employee</td>\n",
       "      <td>home</td>\n",
       "    </tr>\n",
       "    <tr>\n",
       "      <td>1</td>\n",
       "      <td>2</td>\n",
       "      <td>1</td>\n",
       "      <td>False</td>\n",
       "      <td>1</td>\n",
       "      <td>married</td>\n",
       "      <td>0</td>\n",
       "      <td>F</td>\n",
       "      <td>17932</td>\n",
       "      <td>employee</td>\n",
       "      <td>vehicle</td>\n",
       "    </tr>\n",
       "    <tr>\n",
       "      <td>2</td>\n",
       "      <td>2</td>\n",
       "      <td>0</td>\n",
       "      <td>False</td>\n",
       "      <td>1</td>\n",
       "      <td>married</td>\n",
       "      <td>0</td>\n",
       "      <td>M</td>\n",
       "      <td>23341</td>\n",
       "      <td>employee</td>\n",
       "      <td>home</td>\n",
       "    </tr>\n",
       "  </tbody>\n",
       "</table>\n",
       "</div>"
      ],
      "text/plain": [
       "   age_group_id  children   debt  education_id family_status  \\\n",
       "0             3         1  False             3       married   \n",
       "1             2         1  False             1       married   \n",
       "2             2         0  False             1       married   \n",
       "\n",
       "   family_status_id gender  income income_type  purpose  \n",
       "0                 0      F   40620    employee     home  \n",
       "1                 0      F   17932    employee  vehicle  \n",
       "2                 0      M   23341    employee     home  "
      ]
     },
     "metadata": {},
     "output_type": "display_data"
    },
    {
     "data": {
      "text/markdown": [
       "'before' sample"
      ],
      "text/plain": [
       "<IPython.core.display.Markdown object>"
      ]
     },
     "metadata": {},
     "output_type": "display_data"
    }
   ],
   "source": [
    "display(df.head(3), md(\"'before' sample\"))"
   ]
  },
  {
   "cell_type": "code",
   "execution_count": 79,
   "metadata": {},
   "outputs": [
    {
     "data": {
      "text/html": [
       "<div>\n",
       "<style scoped>\n",
       "    .dataframe tbody tr th:only-of-type {\n",
       "        vertical-align: middle;\n",
       "    }\n",
       "\n",
       "    .dataframe tbody tr th {\n",
       "        vertical-align: top;\n",
       "    }\n",
       "\n",
       "    .dataframe thead th {\n",
       "        text-align: right;\n",
       "    }\n",
       "</style>\n",
       "<table border=\"1\" class=\"dataframe\">\n",
       "  <thead>\n",
       "    <tr style=\"text-align: right;\">\n",
       "      <th></th>\n",
       "      <th>age_group_id</th>\n",
       "      <th>children</th>\n",
       "      <th>debt</th>\n",
       "      <th>education_id</th>\n",
       "      <th>family_status_id</th>\n",
       "      <th>gender</th>\n",
       "      <th>income</th>\n",
       "      <th>income_type</th>\n",
       "      <th>purpose</th>\n",
       "    </tr>\n",
       "  </thead>\n",
       "  <tbody>\n",
       "    <tr>\n",
       "      <td>0</td>\n",
       "      <td>3</td>\n",
       "      <td>1</td>\n",
       "      <td>False</td>\n",
       "      <td>3</td>\n",
       "      <td>0</td>\n",
       "      <td>F</td>\n",
       "      <td>40620</td>\n",
       "      <td>employee</td>\n",
       "      <td>home</td>\n",
       "    </tr>\n",
       "    <tr>\n",
       "      <td>1</td>\n",
       "      <td>2</td>\n",
       "      <td>1</td>\n",
       "      <td>False</td>\n",
       "      <td>1</td>\n",
       "      <td>0</td>\n",
       "      <td>F</td>\n",
       "      <td>17932</td>\n",
       "      <td>employee</td>\n",
       "      <td>vehicle</td>\n",
       "    </tr>\n",
       "    <tr>\n",
       "      <td>2</td>\n",
       "      <td>2</td>\n",
       "      <td>0</td>\n",
       "      <td>False</td>\n",
       "      <td>1</td>\n",
       "      <td>0</td>\n",
       "      <td>M</td>\n",
       "      <td>23341</td>\n",
       "      <td>employee</td>\n",
       "      <td>home</td>\n",
       "    </tr>\n",
       "  </tbody>\n",
       "</table>\n",
       "</div>"
      ],
      "text/plain": [
       "   age_group_id  children   debt  education_id  family_status_id gender  \\\n",
       "0             3         1  False             3                 0      F   \n",
       "1             2         1  False             1                 0      F   \n",
       "2             2         0  False             1                 0      M   \n",
       "\n",
       "   income income_type  purpose  \n",
       "0   40620    employee     home  \n",
       "1   17932    employee  vehicle  \n",
       "2   23341    employee     home  "
      ]
     },
     "metadata": {},
     "output_type": "display_data"
    },
    {
     "data": {
      "text/markdown": [
       "_'after' sample<br />shape: (21525, 9)_"
      ],
      "text/plain": [
       "<IPython.core.display.Markdown object>"
      ]
     },
     "metadata": {},
     "output_type": "display_data"
    },
    {
     "data": {
      "text/html": [
       "<div>\n",
       "<style scoped>\n",
       "    .dataframe tbody tr th:only-of-type {\n",
       "        vertical-align: middle;\n",
       "    }\n",
       "\n",
       "    .dataframe tbody tr th {\n",
       "        vertical-align: top;\n",
       "    }\n",
       "\n",
       "    .dataframe thead th {\n",
       "        text-align: right;\n",
       "    }\n",
       "</style>\n",
       "<table border=\"1\" class=\"dataframe\">\n",
       "  <thead>\n",
       "    <tr style=\"text-align: right;\">\n",
       "      <th>family_status_id</th>\n",
       "      <th>0</th>\n",
       "      <th>1</th>\n",
       "      <th>2</th>\n",
       "      <th>3</th>\n",
       "      <th>4</th>\n",
       "    </tr>\n",
       "  </thead>\n",
       "  <tbody>\n",
       "    <tr>\n",
       "      <td>family_status</td>\n",
       "      <td>married</td>\n",
       "      <td>civil partnership</td>\n",
       "      <td>widow / widower</td>\n",
       "      <td>divorced</td>\n",
       "      <td>unmarried</td>\n",
       "    </tr>\n",
       "  </tbody>\n",
       "</table>\n",
       "</div>"
      ],
      "text/plain": [
       "family_status_id        0                  1                2         3  \\\n",
       "family_status     married  civil partnership  widow / widower  divorced   \n",
       "\n",
       "family_status_id          4  \n",
       "family_status     unmarried  "
      ]
     },
     "metadata": {},
     "output_type": "display_data"
    }
   ],
   "source": [
    "df.drop('family_status', axis=1, inplace=True)\n",
    "display(\n",
    "    df.head(3),\n",
    "    md(f\"_'after' sample<br />shape: {df.shape}_\"),\n",
    "    family_status_ref.to_frame().T\n",
    ")"
   ]
  },
  {
   "cell_type": "markdown",
   "metadata": {},
   "source": [
    " "
   ]
  },
  {
   "cell_type": "markdown",
   "metadata": {},
   "source": [
    "__Income type__\n",
    "***"
   ]
  },
  {
   "cell_type": "code",
   "execution_count": 80,
   "metadata": {
    "scrolled": true
   },
   "outputs": [
    {
     "data": {
      "text/html": [
       "<div>\n",
       "<style scoped>\n",
       "    .dataframe tbody tr th:only-of-type {\n",
       "        vertical-align: middle;\n",
       "    }\n",
       "\n",
       "    .dataframe tbody tr th {\n",
       "        vertical-align: top;\n",
       "    }\n",
       "\n",
       "    .dataframe thead th {\n",
       "        text-align: right;\n",
       "    }\n",
       "</style>\n",
       "<table border=\"1\" class=\"dataframe\">\n",
       "  <thead>\n",
       "    <tr style=\"text-align: right;\">\n",
       "      <th>income_type_id</th>\n",
       "      <th>0</th>\n",
       "      <th>1</th>\n",
       "      <th>2</th>\n",
       "      <th>3</th>\n",
       "      <th>4</th>\n",
       "      <th>5</th>\n",
       "      <th>6</th>\n",
       "      <th>7</th>\n",
       "    </tr>\n",
       "  </thead>\n",
       "  <tbody>\n",
       "    <tr>\n",
       "      <td>income_type</td>\n",
       "      <td>employee</td>\n",
       "      <td>business</td>\n",
       "      <td>retiree</td>\n",
       "      <td>civil servant</td>\n",
       "      <td>entrepreneur</td>\n",
       "      <td>unemployed</td>\n",
       "      <td>student</td>\n",
       "      <td>paternity / maternity leave</td>\n",
       "    </tr>\n",
       "  </tbody>\n",
       "</table>\n",
       "</div>"
      ],
      "text/plain": [
       "income_type_id         0         1        2              3             4  \\\n",
       "income_type     employee  business  retiree  civil servant  entrepreneur   \n",
       "\n",
       "income_type_id           5        6                            7  \n",
       "income_type     unemployed  student  paternity / maternity leave  "
      ]
     },
     "execution_count": 80,
     "metadata": {},
     "output_type": "execute_result"
    }
   ],
   "source": [
    "income_type_ref = pd.Series(\n",
    "    data=df['income_type'].value_counts().index,\n",
    "    name='income_type',\n",
    ").rename_axis('income_type_id')\n",
    "income_type_ref.to_frame().T"
   ]
  },
  {
   "cell_type": "code",
   "execution_count": 81,
   "metadata": {},
   "outputs": [
    {
     "data": {
      "text/html": [
       "<div>\n",
       "<style scoped>\n",
       "    .dataframe tbody tr th:only-of-type {\n",
       "        vertical-align: middle;\n",
       "    }\n",
       "\n",
       "    .dataframe tbody tr th {\n",
       "        vertical-align: top;\n",
       "    }\n",
       "\n",
       "    .dataframe thead th {\n",
       "        text-align: right;\n",
       "    }\n",
       "</style>\n",
       "<table border=\"1\" class=\"dataframe\">\n",
       "  <thead>\n",
       "    <tr style=\"text-align: right;\">\n",
       "      <th>income_type</th>\n",
       "      <th>employee</th>\n",
       "      <th>business</th>\n",
       "      <th>retiree</th>\n",
       "      <th>civil servant</th>\n",
       "      <th>entrepreneur</th>\n",
       "      <th>unemployed</th>\n",
       "      <th>student</th>\n",
       "      <th>paternity / maternity leave</th>\n",
       "    </tr>\n",
       "  </thead>\n",
       "  <tbody>\n",
       "    <tr>\n",
       "      <td>income_type_id</td>\n",
       "      <td>0</td>\n",
       "      <td>1</td>\n",
       "      <td>2</td>\n",
       "      <td>3</td>\n",
       "      <td>4</td>\n",
       "      <td>5</td>\n",
       "      <td>6</td>\n",
       "      <td>7</td>\n",
       "    </tr>\n",
       "  </tbody>\n",
       "</table>\n",
       "</div>"
      ],
      "text/plain": [
       "income_type     employee  business  retiree  civil servant  entrepreneur  \\\n",
       "income_type_id         0         1        2              3             4   \n",
       "\n",
       "income_type     unemployed  student  paternity / maternity leave  \n",
       "income_type_id           5        6                            7  "
      ]
     },
     "execution_count": 81,
     "metadata": {},
     "output_type": "execute_result"
    }
   ],
   "source": [
    "income_type_ref_inverted = invert_series(income_type_ref)\n",
    "income_type_ref_inverted.to_frame().T"
   ]
  },
  {
   "cell_type": "code",
   "execution_count": 82,
   "metadata": {},
   "outputs": [
    {
     "data": {
      "text/html": [
       "<div>\n",
       "<style scoped>\n",
       "    .dataframe tbody tr th:only-of-type {\n",
       "        vertical-align: middle;\n",
       "    }\n",
       "\n",
       "    .dataframe tbody tr th {\n",
       "        vertical-align: top;\n",
       "    }\n",
       "\n",
       "    .dataframe thead th {\n",
       "        text-align: right;\n",
       "    }\n",
       "</style>\n",
       "<table border=\"1\" class=\"dataframe\">\n",
       "  <thead>\n",
       "    <tr style=\"text-align: right;\">\n",
       "      <th></th>\n",
       "      <th>age_group_id</th>\n",
       "      <th>children</th>\n",
       "      <th>debt</th>\n",
       "      <th>education_id</th>\n",
       "      <th>family_status_id</th>\n",
       "      <th>gender</th>\n",
       "      <th>income</th>\n",
       "      <th>income_type</th>\n",
       "      <th>purpose</th>\n",
       "    </tr>\n",
       "  </thead>\n",
       "  <tbody>\n",
       "    <tr>\n",
       "      <td>0</td>\n",
       "      <td>3</td>\n",
       "      <td>1</td>\n",
       "      <td>False</td>\n",
       "      <td>3</td>\n",
       "      <td>0</td>\n",
       "      <td>F</td>\n",
       "      <td>40620</td>\n",
       "      <td>employee</td>\n",
       "      <td>home</td>\n",
       "    </tr>\n",
       "    <tr>\n",
       "      <td>1</td>\n",
       "      <td>2</td>\n",
       "      <td>1</td>\n",
       "      <td>False</td>\n",
       "      <td>1</td>\n",
       "      <td>0</td>\n",
       "      <td>F</td>\n",
       "      <td>17932</td>\n",
       "      <td>employee</td>\n",
       "      <td>vehicle</td>\n",
       "    </tr>\n",
       "    <tr>\n",
       "      <td>2</td>\n",
       "      <td>2</td>\n",
       "      <td>0</td>\n",
       "      <td>False</td>\n",
       "      <td>1</td>\n",
       "      <td>0</td>\n",
       "      <td>M</td>\n",
       "      <td>23341</td>\n",
       "      <td>employee</td>\n",
       "      <td>home</td>\n",
       "    </tr>\n",
       "  </tbody>\n",
       "</table>\n",
       "</div>"
      ],
      "text/plain": [
       "   age_group_id  children   debt  education_id  family_status_id gender  \\\n",
       "0             3         1  False             3                 0      F   \n",
       "1             2         1  False             1                 0      F   \n",
       "2             2         0  False             1                 0      M   \n",
       "\n",
       "   income income_type  purpose  \n",
       "0   40620    employee     home  \n",
       "1   17932    employee  vehicle  \n",
       "2   23341    employee     home  "
      ]
     },
     "metadata": {},
     "output_type": "display_data"
    },
    {
     "data": {
      "text/markdown": [
       "_'before' sample_"
      ],
      "text/plain": [
       "<IPython.core.display.Markdown object>"
      ]
     },
     "metadata": {},
     "output_type": "display_data"
    }
   ],
   "source": [
    "display(df.head(3), md(\"_'before' sample_\"))"
   ]
  },
  {
   "cell_type": "code",
   "execution_count": 83,
   "metadata": {},
   "outputs": [
    {
     "data": {
      "text/html": [
       "<div>\n",
       "<style scoped>\n",
       "    .dataframe tbody tr th:only-of-type {\n",
       "        vertical-align: middle;\n",
       "    }\n",
       "\n",
       "    .dataframe tbody tr th {\n",
       "        vertical-align: top;\n",
       "    }\n",
       "\n",
       "    .dataframe thead th {\n",
       "        text-align: right;\n",
       "    }\n",
       "</style>\n",
       "<table border=\"1\" class=\"dataframe\">\n",
       "  <thead>\n",
       "    <tr style=\"text-align: right;\">\n",
       "      <th></th>\n",
       "      <th>age_group_id</th>\n",
       "      <th>children</th>\n",
       "      <th>debt</th>\n",
       "      <th>education_id</th>\n",
       "      <th>family_status_id</th>\n",
       "      <th>gender</th>\n",
       "      <th>income</th>\n",
       "      <th>purpose</th>\n",
       "      <th>income_type_id</th>\n",
       "    </tr>\n",
       "  </thead>\n",
       "  <tbody>\n",
       "    <tr>\n",
       "      <td>0</td>\n",
       "      <td>3</td>\n",
       "      <td>1</td>\n",
       "      <td>False</td>\n",
       "      <td>3</td>\n",
       "      <td>0</td>\n",
       "      <td>F</td>\n",
       "      <td>40620</td>\n",
       "      <td>home</td>\n",
       "      <td>0</td>\n",
       "    </tr>\n",
       "    <tr>\n",
       "      <td>1</td>\n",
       "      <td>2</td>\n",
       "      <td>1</td>\n",
       "      <td>False</td>\n",
       "      <td>1</td>\n",
       "      <td>0</td>\n",
       "      <td>F</td>\n",
       "      <td>17932</td>\n",
       "      <td>vehicle</td>\n",
       "      <td>0</td>\n",
       "    </tr>\n",
       "    <tr>\n",
       "      <td>2</td>\n",
       "      <td>2</td>\n",
       "      <td>0</td>\n",
       "      <td>False</td>\n",
       "      <td>1</td>\n",
       "      <td>0</td>\n",
       "      <td>M</td>\n",
       "      <td>23341</td>\n",
       "      <td>home</td>\n",
       "      <td>0</td>\n",
       "    </tr>\n",
       "  </tbody>\n",
       "</table>\n",
       "</div>"
      ],
      "text/plain": [
       "   age_group_id  children   debt  education_id  family_status_id gender  \\\n",
       "0             3         1  False             3                 0      F   \n",
       "1             2         1  False             1                 0      F   \n",
       "2             2         0  False             1                 0      M   \n",
       "\n",
       "   income  purpose  income_type_id  \n",
       "0   40620     home               0  \n",
       "1   17932  vehicle               0  \n",
       "2   23341     home               0  "
      ]
     },
     "metadata": {},
     "output_type": "display_data"
    },
    {
     "data": {
      "text/markdown": [
       "_'after' sample<br />shape: (21525, 9)_"
      ],
      "text/plain": [
       "<IPython.core.display.Markdown object>"
      ]
     },
     "metadata": {},
     "output_type": "display_data"
    },
    {
     "data": {
      "text/html": [
       "<div>\n",
       "<style scoped>\n",
       "    .dataframe tbody tr th:only-of-type {\n",
       "        vertical-align: middle;\n",
       "    }\n",
       "\n",
       "    .dataframe tbody tr th {\n",
       "        vertical-align: top;\n",
       "    }\n",
       "\n",
       "    .dataframe thead th {\n",
       "        text-align: right;\n",
       "    }\n",
       "</style>\n",
       "<table border=\"1\" class=\"dataframe\">\n",
       "  <thead>\n",
       "    <tr style=\"text-align: right;\">\n",
       "      <th>income_type_id</th>\n",
       "      <th>0</th>\n",
       "      <th>1</th>\n",
       "      <th>2</th>\n",
       "      <th>3</th>\n",
       "      <th>4</th>\n",
       "      <th>5</th>\n",
       "      <th>6</th>\n",
       "      <th>7</th>\n",
       "    </tr>\n",
       "  </thead>\n",
       "  <tbody>\n",
       "    <tr>\n",
       "      <td>income_type</td>\n",
       "      <td>employee</td>\n",
       "      <td>business</td>\n",
       "      <td>retiree</td>\n",
       "      <td>civil servant</td>\n",
       "      <td>entrepreneur</td>\n",
       "      <td>unemployed</td>\n",
       "      <td>student</td>\n",
       "      <td>paternity / maternity leave</td>\n",
       "    </tr>\n",
       "  </tbody>\n",
       "</table>\n",
       "</div>"
      ],
      "text/plain": [
       "income_type_id         0         1        2              3             4  \\\n",
       "income_type     employee  business  retiree  civil servant  entrepreneur   \n",
       "\n",
       "income_type_id           5        6                            7  \n",
       "income_type     unemployed  student  paternity / maternity leave  "
      ]
     },
     "metadata": {},
     "output_type": "display_data"
    }
   ],
   "source": [
    "df_temp = df.join(df['income_type'] \\\n",
    "                  .apply(lambda v:income_type_ref_inverted[v]) \\\n",
    "                  .rename('income_type_id')) \\\n",
    "            .drop('income_type', axis=1)\n",
    "# df_temp = df_temp.reindex(columns=sorted(df_temp.columns))\n",
    "\n",
    "display(\n",
    "    df_temp.head(3),\n",
    "    md(f\"_'after' sample<br />shape: {df_temp.shape}_\"),\n",
    "    income_type_ref.to_frame().T\n",
    ")"
   ]
  },
  {
   "cell_type": "markdown",
   "metadata": {},
   "source": [
    " "
   ]
  },
  {
   "cell_type": "markdown",
   "metadata": {},
   "source": [
    "__Purpose__\n",
    "***"
   ]
  },
  {
   "cell_type": "code",
   "execution_count": 84,
   "metadata": {
    "scrolled": true
   },
   "outputs": [
    {
     "data": {
      "text/html": [
       "<div>\n",
       "<style scoped>\n",
       "    .dataframe tbody tr th:only-of-type {\n",
       "        vertical-align: middle;\n",
       "    }\n",
       "\n",
       "    .dataframe tbody tr th {\n",
       "        vertical-align: top;\n",
       "    }\n",
       "\n",
       "    .dataframe thead th {\n",
       "        text-align: right;\n",
       "    }\n",
       "</style>\n",
       "<table border=\"1\" class=\"dataframe\">\n",
       "  <thead>\n",
       "    <tr style=\"text-align: right;\">\n",
       "      <th>purpose_id</th>\n",
       "      <th>0</th>\n",
       "      <th>1</th>\n",
       "      <th>2</th>\n",
       "      <th>3</th>\n",
       "      <th>4</th>\n",
       "    </tr>\n",
       "  </thead>\n",
       "  <tbody>\n",
       "    <tr>\n",
       "      <td>purpose</td>\n",
       "      <td>real-estate</td>\n",
       "      <td>vehicle</td>\n",
       "      <td>education</td>\n",
       "      <td>home</td>\n",
       "      <td>wedding</td>\n",
       "    </tr>\n",
       "  </tbody>\n",
       "</table>\n",
       "</div>"
      ],
      "text/plain": [
       "purpose_id            0        1          2     3        4\n",
       "purpose     real-estate  vehicle  education  home  wedding"
      ]
     },
     "execution_count": 84,
     "metadata": {},
     "output_type": "execute_result"
    }
   ],
   "source": [
    "purpose_ref = pd.Series(\n",
    "    data=df['purpose'].value_counts().index,\n",
    "    name='purpose',\n",
    ").rename_axis('purpose_id')\n",
    "purpose_ref.to_frame().T"
   ]
  },
  {
   "cell_type": "code",
   "execution_count": 85,
   "metadata": {
    "scrolled": true
   },
   "outputs": [
    {
     "data": {
      "text/html": [
       "<div>\n",
       "<style scoped>\n",
       "    .dataframe tbody tr th:only-of-type {\n",
       "        vertical-align: middle;\n",
       "    }\n",
       "\n",
       "    .dataframe tbody tr th {\n",
       "        vertical-align: top;\n",
       "    }\n",
       "\n",
       "    .dataframe thead th {\n",
       "        text-align: right;\n",
       "    }\n",
       "</style>\n",
       "<table border=\"1\" class=\"dataframe\">\n",
       "  <thead>\n",
       "    <tr style=\"text-align: right;\">\n",
       "      <th>purpose</th>\n",
       "      <th>real-estate</th>\n",
       "      <th>vehicle</th>\n",
       "      <th>education</th>\n",
       "      <th>home</th>\n",
       "      <th>wedding</th>\n",
       "    </tr>\n",
       "  </thead>\n",
       "  <tbody>\n",
       "    <tr>\n",
       "      <td>purpose_id</td>\n",
       "      <td>0</td>\n",
       "      <td>1</td>\n",
       "      <td>2</td>\n",
       "      <td>3</td>\n",
       "      <td>4</td>\n",
       "    </tr>\n",
       "  </tbody>\n",
       "</table>\n",
       "</div>"
      ],
      "text/plain": [
       "purpose     real-estate  vehicle  education  home  wedding\n",
       "purpose_id            0        1          2     3        4"
      ]
     },
     "execution_count": 85,
     "metadata": {},
     "output_type": "execute_result"
    }
   ],
   "source": [
    "purpose_ref_inverted = invert_series(purpose_ref)\n",
    "purpose_ref_inverted.to_frame().T"
   ]
  },
  {
   "cell_type": "code",
   "execution_count": 86,
   "metadata": {},
   "outputs": [
    {
     "data": {
      "text/html": [
       "<div>\n",
       "<style scoped>\n",
       "    .dataframe tbody tr th:only-of-type {\n",
       "        vertical-align: middle;\n",
       "    }\n",
       "\n",
       "    .dataframe tbody tr th {\n",
       "        vertical-align: top;\n",
       "    }\n",
       "\n",
       "    .dataframe thead th {\n",
       "        text-align: right;\n",
       "    }\n",
       "</style>\n",
       "<table border=\"1\" class=\"dataframe\">\n",
       "  <thead>\n",
       "    <tr style=\"text-align: right;\">\n",
       "      <th></th>\n",
       "      <th>age_group_id</th>\n",
       "      <th>children</th>\n",
       "      <th>debt</th>\n",
       "      <th>education_id</th>\n",
       "      <th>family_status_id</th>\n",
       "      <th>gender</th>\n",
       "      <th>income</th>\n",
       "      <th>income_type</th>\n",
       "      <th>purpose</th>\n",
       "    </tr>\n",
       "  </thead>\n",
       "  <tbody>\n",
       "    <tr>\n",
       "      <td>0</td>\n",
       "      <td>3</td>\n",
       "      <td>1</td>\n",
       "      <td>False</td>\n",
       "      <td>3</td>\n",
       "      <td>0</td>\n",
       "      <td>F</td>\n",
       "      <td>40620</td>\n",
       "      <td>employee</td>\n",
       "      <td>home</td>\n",
       "    </tr>\n",
       "    <tr>\n",
       "      <td>1</td>\n",
       "      <td>2</td>\n",
       "      <td>1</td>\n",
       "      <td>False</td>\n",
       "      <td>1</td>\n",
       "      <td>0</td>\n",
       "      <td>F</td>\n",
       "      <td>17932</td>\n",
       "      <td>employee</td>\n",
       "      <td>vehicle</td>\n",
       "    </tr>\n",
       "    <tr>\n",
       "      <td>2</td>\n",
       "      <td>2</td>\n",
       "      <td>0</td>\n",
       "      <td>False</td>\n",
       "      <td>1</td>\n",
       "      <td>0</td>\n",
       "      <td>M</td>\n",
       "      <td>23341</td>\n",
       "      <td>employee</td>\n",
       "      <td>home</td>\n",
       "    </tr>\n",
       "  </tbody>\n",
       "</table>\n",
       "</div>"
      ],
      "text/plain": [
       "   age_group_id  children   debt  education_id  family_status_id gender  \\\n",
       "0             3         1  False             3                 0      F   \n",
       "1             2         1  False             1                 0      F   \n",
       "2             2         0  False             1                 0      M   \n",
       "\n",
       "   income income_type  purpose  \n",
       "0   40620    employee     home  \n",
       "1   17932    employee  vehicle  \n",
       "2   23341    employee     home  "
      ]
     },
     "metadata": {},
     "output_type": "display_data"
    },
    {
     "data": {
      "text/markdown": [
       "_'before' sample_"
      ],
      "text/plain": [
       "<IPython.core.display.Markdown object>"
      ]
     },
     "metadata": {},
     "output_type": "display_data"
    }
   ],
   "source": [
    "display(df.head(3), md(\"_'before' sample_\"))"
   ]
  },
  {
   "cell_type": "code",
   "execution_count": 87,
   "metadata": {
    "scrolled": true
   },
   "outputs": [
    {
     "data": {
      "text/html": [
       "<div>\n",
       "<style scoped>\n",
       "    .dataframe tbody tr th:only-of-type {\n",
       "        vertical-align: middle;\n",
       "    }\n",
       "\n",
       "    .dataframe tbody tr th {\n",
       "        vertical-align: top;\n",
       "    }\n",
       "\n",
       "    .dataframe thead th {\n",
       "        text-align: right;\n",
       "    }\n",
       "</style>\n",
       "<table border=\"1\" class=\"dataframe\">\n",
       "  <thead>\n",
       "    <tr style=\"text-align: right;\">\n",
       "      <th></th>\n",
       "      <th>age_group_id</th>\n",
       "      <th>children</th>\n",
       "      <th>debt</th>\n",
       "      <th>education_id</th>\n",
       "      <th>family_status_id</th>\n",
       "      <th>gender</th>\n",
       "      <th>income</th>\n",
       "      <th>income_type</th>\n",
       "      <th>purpose_id</th>\n",
       "    </tr>\n",
       "  </thead>\n",
       "  <tbody>\n",
       "    <tr>\n",
       "      <td>0</td>\n",
       "      <td>3</td>\n",
       "      <td>1</td>\n",
       "      <td>False</td>\n",
       "      <td>3</td>\n",
       "      <td>0</td>\n",
       "      <td>F</td>\n",
       "      <td>40620</td>\n",
       "      <td>employee</td>\n",
       "      <td>3</td>\n",
       "    </tr>\n",
       "    <tr>\n",
       "      <td>1</td>\n",
       "      <td>2</td>\n",
       "      <td>1</td>\n",
       "      <td>False</td>\n",
       "      <td>1</td>\n",
       "      <td>0</td>\n",
       "      <td>F</td>\n",
       "      <td>17932</td>\n",
       "      <td>employee</td>\n",
       "      <td>1</td>\n",
       "    </tr>\n",
       "    <tr>\n",
       "      <td>2</td>\n",
       "      <td>2</td>\n",
       "      <td>0</td>\n",
       "      <td>False</td>\n",
       "      <td>1</td>\n",
       "      <td>0</td>\n",
       "      <td>M</td>\n",
       "      <td>23341</td>\n",
       "      <td>employee</td>\n",
       "      <td>3</td>\n",
       "    </tr>\n",
       "  </tbody>\n",
       "</table>\n",
       "</div>"
      ],
      "text/plain": [
       "   age_group_id  children   debt  education_id  family_status_id gender  \\\n",
       "0             3         1  False             3                 0      F   \n",
       "1             2         1  False             1                 0      F   \n",
       "2             2         0  False             1                 0      M   \n",
       "\n",
       "   income income_type  purpose_id  \n",
       "0   40620    employee           3  \n",
       "1   17932    employee           1  \n",
       "2   23341    employee           3  "
      ]
     },
     "metadata": {},
     "output_type": "display_data"
    },
    {
     "data": {
      "text/markdown": [
       "_'after' sample<br />shape: (21525, 9)_"
      ],
      "text/plain": [
       "<IPython.core.display.Markdown object>"
      ]
     },
     "metadata": {},
     "output_type": "display_data"
    },
    {
     "data": {
      "text/html": [
       "<div>\n",
       "<style scoped>\n",
       "    .dataframe tbody tr th:only-of-type {\n",
       "        vertical-align: middle;\n",
       "    }\n",
       "\n",
       "    .dataframe tbody tr th {\n",
       "        vertical-align: top;\n",
       "    }\n",
       "\n",
       "    .dataframe thead th {\n",
       "        text-align: right;\n",
       "    }\n",
       "</style>\n",
       "<table border=\"1\" class=\"dataframe\">\n",
       "  <thead>\n",
       "    <tr style=\"text-align: right;\">\n",
       "      <th>purpose_id</th>\n",
       "      <th>0</th>\n",
       "      <th>1</th>\n",
       "      <th>2</th>\n",
       "      <th>3</th>\n",
       "      <th>4</th>\n",
       "    </tr>\n",
       "  </thead>\n",
       "  <tbody>\n",
       "    <tr>\n",
       "      <td>purpose</td>\n",
       "      <td>real-estate</td>\n",
       "      <td>vehicle</td>\n",
       "      <td>education</td>\n",
       "      <td>home</td>\n",
       "      <td>wedding</td>\n",
       "    </tr>\n",
       "  </tbody>\n",
       "</table>\n",
       "</div>"
      ],
      "text/plain": [
       "purpose_id            0        1          2     3        4\n",
       "purpose     real-estate  vehicle  education  home  wedding"
      ]
     },
     "metadata": {},
     "output_type": "display_data"
    }
   ],
   "source": [
    "df_temp = df.join(df['purpose'] \\\n",
    "                  .apply(lambda v:purpose_ref_inverted[v]) \\\n",
    "                  .rename('purpose_id')) \\\n",
    "            .drop('purpose', axis=1)\n",
    "# df_temp = df_temp.reindex(columns=sorted(df_temp.columns))\n",
    "\n",
    "display(\n",
    "    df_temp.head(3),\n",
    "    md(f\"_'after' sample<br />shape: {df_temp.shape}_\"),\n",
    "    purpose_ref.to_frame().T\n",
    ")"
   ]
  },
  {
   "cell_type": "code",
   "execution_count": 88,
   "metadata": {},
   "outputs": [],
   "source": [
    "df = df_temp\n",
    "del df_temp"
   ]
  },
  {
   "cell_type": "code",
   "execution_count": 89,
   "metadata": {},
   "outputs": [
    {
     "data": {
      "text/html": [
       "<div>\n",
       "<style scoped>\n",
       "    .dataframe tbody tr th:only-of-type {\n",
       "        vertical-align: middle;\n",
       "    }\n",
       "\n",
       "    .dataframe tbody tr th {\n",
       "        vertical-align: top;\n",
       "    }\n",
       "\n",
       "    .dataframe thead th {\n",
       "        text-align: right;\n",
       "    }\n",
       "</style>\n",
       "<table border=\"1\" class=\"dataframe\">\n",
       "  <thead>\n",
       "    <tr style=\"text-align: right;\">\n",
       "      <th></th>\n",
       "      <th>age_group_id</th>\n",
       "      <th>children</th>\n",
       "      <th>debt</th>\n",
       "      <th>education_id</th>\n",
       "      <th>family_status_id</th>\n",
       "      <th>gender</th>\n",
       "      <th>income</th>\n",
       "      <th>income_type</th>\n",
       "      <th>purpose_id</th>\n",
       "    </tr>\n",
       "  </thead>\n",
       "  <tbody>\n",
       "    <tr>\n",
       "      <td>0</td>\n",
       "      <td>3</td>\n",
       "      <td>1</td>\n",
       "      <td>False</td>\n",
       "      <td>3</td>\n",
       "      <td>0</td>\n",
       "      <td>F</td>\n",
       "      <td>40620</td>\n",
       "      <td>employee</td>\n",
       "      <td>3</td>\n",
       "    </tr>\n",
       "  </tbody>\n",
       "</table>\n",
       "</div>"
      ],
      "text/plain": [
       "   age_group_id  children   debt  education_id  family_status_id gender  \\\n",
       "0             3         1  False             3                 0      F   \n",
       "\n",
       "   income income_type  purpose_id  \n",
       "0   40620    employee           3  "
      ]
     },
     "execution_count": 89,
     "metadata": {},
     "output_type": "execute_result"
    }
   ],
   "source": [
    "df.head(1)"
   ]
  },
  {
   "cell_type": "markdown",
   "metadata": {},
   "source": [
    "### 2.8 Conclusion"
   ]
  },
  {
   "cell_type": "markdown",
   "metadata": {},
   "source": [
    "Data preprocessing phase is done.\n",
    "\n",
    "Various categorical variables were detected and extracted to standalone dataframes, \n",
    "keeping ids in both dataframes - new and old,  \n",
    "in order to be able to link back the category name to the appropriate category id  \n",
    "\\- aka a relationship (a standard data practice, used extensively in databases).\n",
    "\n",
    "'age' was converted to age groups and extracted,  \n",
    "'education' was re-ordered by importance, reassigned ids and extracted,  \n",
    "'family status' was extracted,  \n",
    "'purpose' was converted to a category by the process of lemmatization (keyword extraction essentially).\n",
    "\n",
    "\\* Checklist:\n",
    "- [x]  children: ~~negative values~~, ~~inflated values~~\n",
    "- [x]  ~~days_employed: dropped~~\n",
    "- [x]  age: ~~column name~~, ~~0 value~~, ~~categorize & extract~~\n",
    "- [x]  education: ~~letter case~~, ~~mismatch with id count~~, ~~extract category~~\n",
    "- [x]  family_status: ~~extract category~~\n",
    "- [x]  gender: ~~single outlier~~\n",
    "- [x]  income: ~~column name~~, ~~categorize & extract~~\n",
    "- [x]  debt: ~~wrong data type~~\n",
    "- [x]  total_income: ~~column name~~, ~~missing values~~, ~~wrong data type~~\n",
    "- [x]  purpose: ~~duplicates~~, ~~categorize & extract~~"
   ]
  },
  {
   "cell_type": "markdown",
   "metadata": {},
   "source": [
    "<div class=\"alert alert-success\"> <b>Reviewer comment:</b> \n",
    "    \n",
    "We checked the categorization of our data in sufficient detail 👍\n",
    "    \n",
    "</div>"
   ]
  },
  {
   "cell_type": "markdown",
   "metadata": {},
   "source": [
    "## 3 Answer these questions"
   ]
  },
  {
   "cell_type": "markdown",
   "metadata": {},
   "source": [
    "\\* default rate  = proportion of customers who failed to respect a previous loan's conditions."
   ]
  },
  {
   "cell_type": "markdown",
   "metadata": {},
   "source": [
    "- Is there a relation between having kids and repaying a loan on time?\n",
    "***"
   ]
  },
  {
   "cell_type": "code",
   "execution_count": 90,
   "metadata": {},
   "outputs": [
    {
     "data": {
      "text/html": [
       "<div>\n",
       "<style scoped>\n",
       "    .dataframe tbody tr th:only-of-type {\n",
       "        vertical-align: middle;\n",
       "    }\n",
       "\n",
       "    .dataframe tbody tr th {\n",
       "        vertical-align: top;\n",
       "    }\n",
       "\n",
       "    .dataframe thead th {\n",
       "        text-align: right;\n",
       "    }\n",
       "</style>\n",
       "<table border=\"1\" class=\"dataframe\">\n",
       "  <thead>\n",
       "    <tr style=\"text-align: right;\">\n",
       "      <th>debt</th>\n",
       "      <th>children</th>\n",
       "      <th>False</th>\n",
       "      <th>True</th>\n",
       "      <th>All</th>\n",
       "      <th>default rate (%)</th>\n",
       "    </tr>\n",
       "  </thead>\n",
       "  <tbody>\n",
       "    <tr>\n",
       "      <td>5</td>\n",
       "      <td>5</td>\n",
       "      <td>9</td>\n",
       "      <td>0</td>\n",
       "      <td>9</td>\n",
       "      <td>0.000000</td>\n",
       "    </tr>\n",
       "    <tr>\n",
       "      <td>0</td>\n",
       "      <td>0</td>\n",
       "      <td>13086</td>\n",
       "      <td>1063</td>\n",
       "      <td>14149</td>\n",
       "      <td>7.512898</td>\n",
       "    </tr>\n",
       "    <tr>\n",
       "      <td>6</td>\n",
       "      <td>All</td>\n",
       "      <td>19784</td>\n",
       "      <td>1741</td>\n",
       "      <td>21525</td>\n",
       "      <td>8.088269</td>\n",
       "    </tr>\n",
       "    <tr>\n",
       "      <td>3</td>\n",
       "      <td>3</td>\n",
       "      <td>303</td>\n",
       "      <td>27</td>\n",
       "      <td>330</td>\n",
       "      <td>8.181818</td>\n",
       "    </tr>\n",
       "    <tr>\n",
       "      <td>1</td>\n",
       "      <td>1</td>\n",
       "      <td>4420</td>\n",
       "      <td>445</td>\n",
       "      <td>4865</td>\n",
       "      <td>9.146968</td>\n",
       "    </tr>\n",
       "    <tr>\n",
       "      <td>2</td>\n",
       "      <td>2</td>\n",
       "      <td>1929</td>\n",
       "      <td>202</td>\n",
       "      <td>2131</td>\n",
       "      <td>9.479118</td>\n",
       "    </tr>\n",
       "    <tr>\n",
       "      <td>4</td>\n",
       "      <td>4</td>\n",
       "      <td>37</td>\n",
       "      <td>4</td>\n",
       "      <td>41</td>\n",
       "      <td>9.756098</td>\n",
       "    </tr>\n",
       "  </tbody>\n",
       "</table>\n",
       "</div>"
      ],
      "text/plain": [
       "debt children  False  True    All  default rate (%)\n",
       "5           5      9     0      9          0.000000\n",
       "0           0  13086  1063  14149          7.512898\n",
       "6         All  19784  1741  21525          8.088269\n",
       "3           3    303    27    330          8.181818\n",
       "1           1   4420   445   4865          9.146968\n",
       "2           2   1929   202   2131          9.479118\n",
       "4           4     37     4     41          9.756098"
      ]
     },
     "execution_count": 90,
     "metadata": {},
     "output_type": "execute_result"
    }
   ],
   "source": [
    "debt_children = df[['children', 'debt']].reset_index() \\\n",
    "    .pivot_table(\n",
    "        index='children',\n",
    "        columns='debt',\n",
    "        values='index',\n",
    "        aggfunc='count',\n",
    "        margins=True\n",
    "    ).fillna(0).astype('int').reset_index()\n",
    "debt_children['default rate (%)'] = debt_children[True] / debt_children['All'] * 100\n",
    "debt_children = debt_children.reindex(debt_children.sort_values(debt_children.columns[-1]).index)\n",
    "debt_children"
   ]
  },
  {
   "cell_type": "markdown",
   "metadata": {},
   "source": [
    "### 3.1 Conclusion"
   ]
  },
  {
   "cell_type": "code",
   "execution_count": 91,
   "metadata": {},
   "outputs": [
    {
     "data": {
      "text/plain": [
       "0.042348955392433656"
      ]
     },
     "execution_count": 91,
     "metadata": {},
     "output_type": "execute_result"
    }
   ],
   "source": [
    "(9/21252 * 100)"
   ]
  },
  {
   "cell_type": "markdown",
   "metadata": {},
   "source": [
    "<div class=\"alert alert-success\"> <b>Reviewer comment:</b> \n",
    "    \n",
    "Good 👍\n",
    "    \n",
    "</div>"
   ]
  },
  {
   "cell_type": "markdown",
   "metadata": {},
   "source": [
    "Out of 9 customers with 5 children, none defaulted, but they are statistically insignificant (0.04%).  \n",
    "In general, customers with $\\color{red}{\\text{children}}$ have a $\\color{red}{\\text{higher default rate}}$ than those without children."
   ]
  },
  {
   "cell_type": "markdown",
   "metadata": {},
   "source": [
    "- Is there a relation between marital status and repaying a loan on time?\n",
    "***"
   ]
  },
  {
   "cell_type": "code",
   "execution_count": 92,
   "metadata": {
    "scrolled": true
   },
   "outputs": [
    {
     "data": {
      "text/html": [
       "<div>\n",
       "<style scoped>\n",
       "    .dataframe tbody tr th:only-of-type {\n",
       "        vertical-align: middle;\n",
       "    }\n",
       "\n",
       "    .dataframe tbody tr th {\n",
       "        vertical-align: top;\n",
       "    }\n",
       "\n",
       "    .dataframe thead th {\n",
       "        text-align: right;\n",
       "    }\n",
       "</style>\n",
       "<table border=\"1\" class=\"dataframe\">\n",
       "  <thead>\n",
       "    <tr style=\"text-align: right;\">\n",
       "      <th>debt</th>\n",
       "      <th>family_status</th>\n",
       "      <th>False</th>\n",
       "      <th>True</th>\n",
       "      <th>All</th>\n",
       "      <th>default rate (%)</th>\n",
       "    </tr>\n",
       "  </thead>\n",
       "  <tbody>\n",
       "    <tr>\n",
       "      <td>4</td>\n",
       "      <td>widow / widower</td>\n",
       "      <td>897</td>\n",
       "      <td>63</td>\n",
       "      <td>960</td>\n",
       "      <td>6.562500</td>\n",
       "    </tr>\n",
       "    <tr>\n",
       "      <td>1</td>\n",
       "      <td>divorced</td>\n",
       "      <td>1110</td>\n",
       "      <td>85</td>\n",
       "      <td>1195</td>\n",
       "      <td>7.112971</td>\n",
       "    </tr>\n",
       "    <tr>\n",
       "      <td>2</td>\n",
       "      <td>married</td>\n",
       "      <td>11449</td>\n",
       "      <td>931</td>\n",
       "      <td>12380</td>\n",
       "      <td>7.520194</td>\n",
       "    </tr>\n",
       "    <tr>\n",
       "      <td>5</td>\n",
       "      <td>All</td>\n",
       "      <td>19784</td>\n",
       "      <td>1741</td>\n",
       "      <td>21525</td>\n",
       "      <td>8.088269</td>\n",
       "    </tr>\n",
       "    <tr>\n",
       "      <td>0</td>\n",
       "      <td>civil partnership</td>\n",
       "      <td>3789</td>\n",
       "      <td>388</td>\n",
       "      <td>4177</td>\n",
       "      <td>9.288963</td>\n",
       "    </tr>\n",
       "    <tr>\n",
       "      <td>3</td>\n",
       "      <td>unmarried</td>\n",
       "      <td>2539</td>\n",
       "      <td>274</td>\n",
       "      <td>2813</td>\n",
       "      <td>9.740491</td>\n",
       "    </tr>\n",
       "  </tbody>\n",
       "</table>\n",
       "</div>"
      ],
      "text/plain": [
       "debt      family_status  False  True    All  default rate (%)\n",
       "4       widow / widower    897    63    960          6.562500\n",
       "1              divorced   1110    85   1195          7.112971\n",
       "2               married  11449   931  12380          7.520194\n",
       "5                   All  19784  1741  21525          8.088269\n",
       "0     civil partnership   3789   388   4177          9.288963\n",
       "3             unmarried   2539   274   2813          9.740491"
      ]
     },
     "execution_count": 92,
     "metadata": {},
     "output_type": "execute_result"
    }
   ],
   "source": [
    "family_status = df[['family_status_id', 'debt']] \\\n",
    "    .join(family_status_ref, on='family_status_id') \\\n",
    "    .pivot_table(\n",
    "        index='family_status',\n",
    "        columns='debt',\n",
    "        values='family_status_id',\n",
    "        aggfunc='count',\n",
    "        margins=True\n",
    "    ).reset_index()\n",
    "family_status['default rate (%)'] = family_status[True] / family_status['All'] * 100\n",
    "family_status = family_status.reindex(family_status.sort_values(family_status.columns[-1]).index)\n",
    "family_status"
   ]
  },
  {
   "cell_type": "markdown",
   "metadata": {},
   "source": [
    "<div class=\"alert alert-success\"> <b>Reviewer comment:</b> \n",
    "    \n",
    "Good 👍\n",
    "    \n",
    "Please note that our actions are repeated in terms of calculations.\n",
    "    \n",
    "This suggests that we can create a function for constant calculations. Thus, we can optimize our code 😊\n",
    "    \n",
    "</div>"
   ]
  },
  {
   "cell_type": "markdown",
   "metadata": {},
   "source": [
    "### 3.2 Conclusion"
   ]
  },
  {
   "cell_type": "markdown",
   "metadata": {},
   "source": [
    "Customers who are either in $\\color{red}{\\text{civil partnership}}$ or $\\color{red}{\\text{unmarried}}$ have a $\\color{red}{\\text{higher default rate}}$."
   ]
  },
  {
   "cell_type": "markdown",
   "metadata": {},
   "source": [
    "- Is there a relation between income level and repaying a loan on time?"
   ]
  },
  {
   "cell_type": "code",
   "execution_count": 93,
   "metadata": {},
   "outputs": [],
   "source": [
    "def debt_vs_income(bins):\n",
    "    debt_income = pd.concat([\n",
    "        df['debt'],\n",
    "        pd.cut(\n",
    "            df['income'],\n",
    "            bins=bins,\n",
    "            right=False\n",
    "        ).rename('income_range')\n",
    "    ], axis=1, sort=True).reset_index() \\\n",
    "    .pivot_table(\n",
    "        index='income_range',\n",
    "        columns='debt',\n",
    "        values='index',\n",
    "        aggfunc='count',\n",
    "        margins=True\n",
    "    ).reset_index()\n",
    "\n",
    "    debt_income['default rate (%)'] = debt_income[True] / debt_income['All'] * 100\n",
    "    debt_income = debt_income.reindex(debt_income.sort_values(debt_income.columns[-1]).index)\n",
    "    display(debt_income)"
   ]
  },
  {
   "cell_type": "code",
   "execution_count": 94,
   "metadata": {
    "scrolled": true
   },
   "outputs": [
    {
     "data": {
      "text/html": [
       "<div>\n",
       "<style scoped>\n",
       "    .dataframe tbody tr th:only-of-type {\n",
       "        vertical-align: middle;\n",
       "    }\n",
       "\n",
       "    .dataframe tbody tr th {\n",
       "        vertical-align: top;\n",
       "    }\n",
       "\n",
       "    .dataframe thead th {\n",
       "        text-align: right;\n",
       "    }\n",
       "</style>\n",
       "<table border=\"1\" class=\"dataframe\">\n",
       "  <thead>\n",
       "    <tr style=\"text-align: right;\">\n",
       "      <th>debt</th>\n",
       "      <th>income_range</th>\n",
       "      <th>False</th>\n",
       "      <th>True</th>\n",
       "      <th>All</th>\n",
       "      <th>default rate (%)</th>\n",
       "    </tr>\n",
       "  </thead>\n",
       "  <tbody>\n",
       "    <tr>\n",
       "      <td>2</td>\n",
       "      <td>[40000, 100000)</td>\n",
       "      <td>2525</td>\n",
       "      <td>188</td>\n",
       "      <td>2713</td>\n",
       "      <td>6.929598</td>\n",
       "    </tr>\n",
       "    <tr>\n",
       "      <td>3</td>\n",
       "      <td>All</td>\n",
       "      <td>19691</td>\n",
       "      <td>1735</td>\n",
       "      <td>21426</td>\n",
       "      <td>8.097638</td>\n",
       "    </tr>\n",
       "    <tr>\n",
       "      <td>0</td>\n",
       "      <td>[0, 20000)</td>\n",
       "      <td>6977</td>\n",
       "      <td>622</td>\n",
       "      <td>7599</td>\n",
       "      <td>8.185288</td>\n",
       "    </tr>\n",
       "    <tr>\n",
       "      <td>1</td>\n",
       "      <td>[20000, 40000)</td>\n",
       "      <td>10189</td>\n",
       "      <td>925</td>\n",
       "      <td>11114</td>\n",
       "      <td>8.322836</td>\n",
       "    </tr>\n",
       "  </tbody>\n",
       "</table>\n",
       "</div>"
      ],
      "text/plain": [
       "debt     income_range  False  True    All  default rate (%)\n",
       "2     [40000, 100000)   2525   188   2713          6.929598\n",
       "3                 All  19691  1735  21426          8.097638\n",
       "0          [0, 20000)   6977   622   7599          8.185288\n",
       "1      [20000, 40000)  10189   925  11114          8.322836"
      ]
     },
     "metadata": {},
     "output_type": "display_data"
    }
   ],
   "source": [
    "debt_vs_income(bins=[0, 20000, 40000, 100000])"
   ]
  },
  {
   "cell_type": "code",
   "execution_count": 95,
   "metadata": {
    "scrolled": true
   },
   "outputs": [
    {
     "data": {
      "text/html": [
       "<div>\n",
       "<style scoped>\n",
       "    .dataframe tbody tr th:only-of-type {\n",
       "        vertical-align: middle;\n",
       "    }\n",
       "\n",
       "    .dataframe tbody tr th {\n",
       "        vertical-align: top;\n",
       "    }\n",
       "\n",
       "    .dataframe thead th {\n",
       "        text-align: right;\n",
       "    }\n",
       "</style>\n",
       "<table border=\"1\" class=\"dataframe\">\n",
       "  <thead>\n",
       "    <tr style=\"text-align: right;\">\n",
       "      <th>debt</th>\n",
       "      <th>income_range</th>\n",
       "      <th>False</th>\n",
       "      <th>True</th>\n",
       "      <th>All</th>\n",
       "      <th>default rate (%)</th>\n",
       "    </tr>\n",
       "  </thead>\n",
       "  <tbody>\n",
       "    <tr>\n",
       "      <td>6</td>\n",
       "      <td>[60000, 70000)</td>\n",
       "      <td>278</td>\n",
       "      <td>16</td>\n",
       "      <td>294</td>\n",
       "      <td>5.442177</td>\n",
       "    </tr>\n",
       "    <tr>\n",
       "      <td>0</td>\n",
       "      <td>[0, 10000)</td>\n",
       "      <td>868</td>\n",
       "      <td>58</td>\n",
       "      <td>926</td>\n",
       "      <td>6.263499</td>\n",
       "    </tr>\n",
       "    <tr>\n",
       "      <td>4</td>\n",
       "      <td>[40000, 50000)</td>\n",
       "      <td>1390</td>\n",
       "      <td>102</td>\n",
       "      <td>1492</td>\n",
       "      <td>6.836461</td>\n",
       "    </tr>\n",
       "    <tr>\n",
       "      <td>3</td>\n",
       "      <td>[30000, 40000)</td>\n",
       "      <td>2992</td>\n",
       "      <td>247</td>\n",
       "      <td>3239</td>\n",
       "      <td>7.625810</td>\n",
       "    </tr>\n",
       "    <tr>\n",
       "      <td>7</td>\n",
       "      <td>All</td>\n",
       "      <td>19428</td>\n",
       "      <td>1719</td>\n",
       "      <td>21147</td>\n",
       "      <td>8.128813</td>\n",
       "    </tr>\n",
       "    <tr>\n",
       "      <td>5</td>\n",
       "      <td>[50000, 60000)</td>\n",
       "      <td>594</td>\n",
       "      <td>54</td>\n",
       "      <td>648</td>\n",
       "      <td>8.333333</td>\n",
       "    </tr>\n",
       "    <tr>\n",
       "      <td>1</td>\n",
       "      <td>[10000, 20000)</td>\n",
       "      <td>6109</td>\n",
       "      <td>564</td>\n",
       "      <td>6673</td>\n",
       "      <td>8.451971</td>\n",
       "    </tr>\n",
       "    <tr>\n",
       "      <td>2</td>\n",
       "      <td>[20000, 30000)</td>\n",
       "      <td>7197</td>\n",
       "      <td>678</td>\n",
       "      <td>7875</td>\n",
       "      <td>8.609524</td>\n",
       "    </tr>\n",
       "  </tbody>\n",
       "</table>\n",
       "</div>"
      ],
      "text/plain": [
       "debt    income_range  False  True    All  default rate (%)\n",
       "6     [60000, 70000)    278    16    294          5.442177\n",
       "0         [0, 10000)    868    58    926          6.263499\n",
       "4     [40000, 50000)   1390   102   1492          6.836461\n",
       "3     [30000, 40000)   2992   247   3239          7.625810\n",
       "7                All  19428  1719  21147          8.128813\n",
       "5     [50000, 60000)    594    54    648          8.333333\n",
       "1     [10000, 20000)   6109   564   6673          8.451971\n",
       "2     [20000, 30000)   7197   678   7875          8.609524"
      ]
     },
     "metadata": {},
     "output_type": "display_data"
    }
   ],
   "source": [
    "debt_vs_income(bins=[0, 10000, 20000, 30000, 40000, 50000, 60000, 70000])"
   ]
  },
  {
   "cell_type": "markdown",
   "metadata": {},
   "source": [
    "<div class=\"alert alert-success\"> <b>Reviewer comment:</b> \n",
    "    \n",
    "Good 👍\n",
    "    \n",
    "Including it was possible to count using the `groupby` method, we will mean it as an alternative    \n",
    "</div>"
   ]
  },
  {
   "cell_type": "markdown",
   "metadata": {},
   "source": [
    "### 3.3 Conclusion"
   ]
  },
  {
   "cell_type": "markdown",
   "metadata": {},
   "source": [
    "In general, $\\color{green}{\\text{higher}}$ income appears linearly related to $\\color{green}{\\text{lower default rate}}$."
   ]
  },
  {
   "cell_type": "markdown",
   "metadata": {},
   "source": [
    "- How do different loan purposes affect on-time repayment of the loan?"
   ]
  },
  {
   "cell_type": "code",
   "execution_count": 96,
   "metadata": {},
   "outputs": [
    {
     "data": {
      "text/html": [
       "<div>\n",
       "<style scoped>\n",
       "    .dataframe tbody tr th:only-of-type {\n",
       "        vertical-align: middle;\n",
       "    }\n",
       "\n",
       "    .dataframe tbody tr th {\n",
       "        vertical-align: top;\n",
       "    }\n",
       "\n",
       "    .dataframe thead th {\n",
       "        text-align: right;\n",
       "    }\n",
       "</style>\n",
       "<table border=\"1\" class=\"dataframe\">\n",
       "  <thead>\n",
       "    <tr style=\"text-align: right;\">\n",
       "      <th>debt</th>\n",
       "      <th>purpose</th>\n",
       "      <th>False</th>\n",
       "      <th>True</th>\n",
       "      <th>All</th>\n",
       "      <th>default rate (%)</th>\n",
       "    </tr>\n",
       "  </thead>\n",
       "  <tbody>\n",
       "    <tr>\n",
       "      <td>1</td>\n",
       "      <td>home</td>\n",
       "      <td>3564</td>\n",
       "      <td>256</td>\n",
       "      <td>3820</td>\n",
       "      <td>6.701571</td>\n",
       "    </tr>\n",
       "    <tr>\n",
       "      <td>2</td>\n",
       "      <td>real-estate</td>\n",
       "      <td>6494</td>\n",
       "      <td>526</td>\n",
       "      <td>7020</td>\n",
       "      <td>7.492877</td>\n",
       "    </tr>\n",
       "    <tr>\n",
       "      <td>4</td>\n",
       "      <td>wedding</td>\n",
       "      <td>2162</td>\n",
       "      <td>186</td>\n",
       "      <td>2348</td>\n",
       "      <td>7.921635</td>\n",
       "    </tr>\n",
       "    <tr>\n",
       "      <td>5</td>\n",
       "      <td>All</td>\n",
       "      <td>19784</td>\n",
       "      <td>1741</td>\n",
       "      <td>21525</td>\n",
       "      <td>8.088269</td>\n",
       "    </tr>\n",
       "    <tr>\n",
       "      <td>0</td>\n",
       "      <td>education</td>\n",
       "      <td>3652</td>\n",
       "      <td>370</td>\n",
       "      <td>4022</td>\n",
       "      <td>9.199403</td>\n",
       "    </tr>\n",
       "    <tr>\n",
       "      <td>3</td>\n",
       "      <td>vehicle</td>\n",
       "      <td>3912</td>\n",
       "      <td>403</td>\n",
       "      <td>4315</td>\n",
       "      <td>9.339513</td>\n",
       "    </tr>\n",
       "  </tbody>\n",
       "</table>\n",
       "</div>"
      ],
      "text/plain": [
       "debt      purpose  False  True    All  default rate (%)\n",
       "1            home   3564   256   3820          6.701571\n",
       "2     real-estate   6494   526   7020          7.492877\n",
       "4         wedding   2162   186   2348          7.921635\n",
       "5             All  19784  1741  21525          8.088269\n",
       "0       education   3652   370   4022          9.199403\n",
       "3         vehicle   3912   403   4315          9.339513"
      ]
     },
     "execution_count": 96,
     "metadata": {},
     "output_type": "execute_result"
    }
   ],
   "source": [
    "debt_purpose = df[['purpose_id', 'debt']] \\\n",
    "    .join(purpose_ref, on='purpose_id') \\\n",
    "    .pivot_table(\n",
    "        index='purpose',\n",
    "        columns='debt',\n",
    "        values='purpose_id',\n",
    "        aggfunc='count',\n",
    "        margins=True\n",
    "    ).reset_index()\n",
    "debt_purpose['default rate (%)'] = debt_purpose[True] / debt_purpose['All'] * 100\n",
    "debt_purpose = debt_purpose.reindex(debt_purpose.sort_values(debt_purpose.columns[-1]).index)\n",
    "debt_purpose"
   ]
  },
  {
   "cell_type": "markdown",
   "metadata": {},
   "source": [
    "### 3.4 Conclusion"
   ]
  },
  {
   "cell_type": "markdown",
   "metadata": {},
   "source": [
    "Customers who request a loan for $\\color{red}{\\text{education}}$ purposes, or in order to pay for a $\\color{red}{\\text{vehicle}}$,    \n",
    "  appear to have a $\\color{red}{\\text{higher default rate}}$ compared to other customers."
   ]
  },
  {
   "cell_type": "markdown",
   "metadata": {},
   "source": [
    "<div class=\"alert alert-success\"> <b>Reviewer comment:</b> \n",
    "    \n",
    "Good 👍\n",
    "    \n",
    "Including it would be possible to build graphs, for example, using the `hist` method\n",
    "    \n",
    "Just the ways of visualization, we will already go through in the next project    \n",
    "</div>"
   ]
  },
  {
   "cell_type": "markdown",
   "metadata": {},
   "source": [
    "## 4. General conclusion"
   ]
  },
  {
   "cell_type": "markdown",
   "metadata": {},
   "source": [
    "Review: the purpose of this report was to answer the question:\n",
    "> Does a customer’s marital status and number of children have an impact on whether they will default on a loan?\n",
    "\n",
    "By analysing the data it was shown that there is in fact a connection between marital status and number of children to whether a customer default on a loan in the past.\n",
    "\n",
    "$\\color{green}{\\text{low-risk}}$ customers:\n",
    "- no children (-0.5)\n",
    "- widowes/widoers (-1.5), divorced (-1)\n",
    "- high income (-0.5 to -2.5)\n",
    "- purposes: renovation (-1.3), real-estate (-0.5)\n",
    "\n",
    "$\\color{red}{\\text{high-risk}}$ customers:\n",
    "- having children (1 to 2)\n",
    "- civil partnership (1.2), unmarried (1.7)\n",
    "- low income (0.5)\n",
    "- purposes: education (1.1), vehicle (1.3)\n",
    "\n",
    "\\* numbers represent default rate below (-) or above (+) average\n",
    "\n",
    "Data should also be plotted for visualization,  \n",
    "and more proccessed more rigorously by statistical methods before drawing any final conclusions."
   ]
  },
  {
   "cell_type": "markdown",
   "metadata": {},
   "source": [
    "<div class=\"alert alert-success\"> <b>Reviewer comment:</b> \n",
    "    \n",
    "The conclusions are clear and logical, and most importantly, they are supported by the revealed facts.\n",
    "       \n",
    "In general, the project itself is at a good level! Throughout the entire work, the depth of the task development is felt and this is an absolute plus for us.\n",
    "    \n",
    "I would like to note that we have learned a lot of new things in this project and we can confidently move on. What I recommend to pay attention to right from the start, so to speak, namely, the repetition of the code. If our actions begin to be repeated more than 2 times, then it makes sense to think about:\n",
    "    \n",
    "- implementation of the cycle\n",
    "- implementation of the function\n",
    "- the introduction of a combination of cycle + function\n",
    "    \n",
    "Such things may not immediately catch the eye, but gradually we will come to this approach\n",
    "    \n",
    "Congratulations on the successful completion of the project 😊👍\n",
    "    \n",
    "And I wish you success in your new work 😊\n",
    "    \n",
    "**[general comment]** Do not forget about the design of your work, this is an equally important stage. I recommend to “feel free” to use cells like **markdown** where we need to display our thoughts, including using additional styling.\n",
    "    \n",
    "https://sqlbak.com/blog/jupyter-notebook-markdown-cheatsheet\n",
    "    \n",
    "</div>"
   ]
  },
  {
   "cell_type": "markdown",
   "metadata": {},
   "source": [
    "## Project Readiness Checklist\n",
    "\n",
    "Put 'x' in the completed points. Then press Shift + Enter."
   ]
  },
  {
   "cell_type": "markdown",
   "metadata": {},
   "source": [
    "- [x]  file open;\n",
    "- [x]  file examined;\n",
    "- [x]  missing values defined;\n",
    "- [x]  missing values are filled;\n",
    "- [x]  an explanation of which missing value types were detected;\n",
    "- [x]  explanation for the possible causes of missing values;\n",
    "- [x]  an explanation of how the blanks are filled;\n",
    "- [x]  replaced the real data type with an integer;\n",
    "- [x]  an explanation of which method is used to change the data type and why;\n",
    "- [x]  duplicates deleted;\n",
    "- [x]  an explanation of which method is used to find and remove duplicates;\n",
    "- [x]  description of the possible reasons for the appearance of duplicates in the data;\n",
    "- [x]  data is categorized;\n",
    "- [x]  an explanation of the principle of data categorization;\n",
    "- [x]  an answer to the question \"Is there a relation between having kids and repaying a loan on time?\";\n",
    "- [x]  an answer to the question \" Is there a relation between marital status and repaying a loan on time?\";\n",
    "- [x]  an answer to the question \" Is there a relation between income level and repaying a loan on time?\";\n",
    "- [x]  an answer to the question \" How do different loan purposes affect on-time repayment of the loan?\"\n",
    "- [x]  conclusions are present on each stage;\n",
    "- [x]  a general conclusion is made."
   ]
  }
 ],
 "metadata": {
  "ExecuteTimeLog": [
   {
    "duration": 866,
    "start_time": "2021-06-14T12:49:54.786Z"
   },
   {
    "duration": 10,
    "start_time": "2021-06-14T12:49:55.655Z"
   },
   {
    "duration": 30,
    "start_time": "2021-06-14T12:49:55.676Z"
   },
   {
    "duration": 21,
    "start_time": "2021-06-14T12:49:55.709Z"
   },
   {
    "duration": 3363,
    "start_time": "2021-06-14T12:49:55.733Z"
   },
   {
    "duration": 49,
    "start_time": "2021-06-14T12:49:59.099Z"
   },
   {
    "duration": 45,
    "start_time": "2021-06-14T12:49:59.150Z"
   },
   {
    "duration": 52,
    "start_time": "2021-06-14T12:49:59.197Z"
   },
   {
    "duration": 5,
    "start_time": "2021-06-14T12:49:59.253Z"
   },
   {
    "duration": 41,
    "start_time": "2021-06-14T12:49:59.285Z"
   },
   {
    "duration": 10,
    "start_time": "2021-06-14T12:49:59.328Z"
   },
   {
    "duration": 6,
    "start_time": "2021-06-14T12:49:59.341Z"
   },
   {
    "duration": 67,
    "start_time": "2021-06-14T12:49:59.349Z"
   },
   {
    "duration": 4,
    "start_time": "2021-06-14T12:49:59.419Z"
   },
   {
    "duration": 139,
    "start_time": "2021-06-14T12:49:59.426Z"
   },
   {
    "duration": 137,
    "start_time": "2021-06-14T12:49:59.568Z"
   },
   {
    "duration": 1435,
    "start_time": "2021-06-14T12:49:59.708Z"
   },
   {
    "duration": 4,
    "start_time": "2021-06-14T12:50:01.146Z"
   },
   {
    "duration": 26,
    "start_time": "2021-06-14T12:50:01.152Z"
   },
   {
    "duration": 3022,
    "start_time": "2021-06-14T12:50:01.180Z"
   },
   {
    "duration": 39,
    "start_time": "2021-06-14T12:50:04.168Z"
   },
   {
    "duration": 35,
    "start_time": "2021-06-14T12:50:04.173Z"
   },
   {
    "duration": 33,
    "start_time": "2021-06-14T12:50:04.176Z"
   },
   {
    "duration": 30,
    "start_time": "2021-06-14T12:50:04.180Z"
   },
   {
    "duration": 28,
    "start_time": "2021-06-14T12:50:04.184Z"
   },
   {
    "duration": 26,
    "start_time": "2021-06-14T12:50:04.188Z"
   },
   {
    "duration": 24,
    "start_time": "2021-06-14T12:50:04.191Z"
   },
   {
    "duration": 22,
    "start_time": "2021-06-14T12:50:04.194Z"
   },
   {
    "duration": 19,
    "start_time": "2021-06-14T12:50:04.198Z"
   },
   {
    "duration": 18,
    "start_time": "2021-06-14T12:50:04.201Z"
   },
   {
    "duration": 15,
    "start_time": "2021-06-14T12:50:04.205Z"
   },
   {
    "duration": 13,
    "start_time": "2021-06-14T12:50:04.208Z"
   },
   {
    "duration": 12,
    "start_time": "2021-06-14T12:50:04.211Z"
   },
   {
    "duration": 10,
    "start_time": "2021-06-14T12:50:04.214Z"
   },
   {
    "duration": 7,
    "start_time": "2021-06-14T12:50:04.218Z"
   },
   {
    "duration": 5,
    "start_time": "2021-06-14T12:50:04.221Z"
   },
   {
    "duration": 3,
    "start_time": "2021-06-14T12:50:04.224Z"
   },
   {
    "duration": 2,
    "start_time": "2021-06-14T12:50:04.227Z"
   },
   {
    "duration": -1,
    "start_time": "2021-06-14T12:50:04.231Z"
   },
   {
    "duration": -3,
    "start_time": "2021-06-14T12:50:04.234Z"
   },
   {
    "duration": -5,
    "start_time": "2021-06-14T12:50:04.237Z"
   },
   {
    "duration": -7,
    "start_time": "2021-06-14T12:50:04.240Z"
   },
   {
    "duration": -9,
    "start_time": "2021-06-14T12:50:04.244Z"
   },
   {
    "duration": -12,
    "start_time": "2021-06-14T12:50:04.248Z"
   },
   {
    "duration": -14,
    "start_time": "2021-06-14T12:50:04.251Z"
   },
   {
    "duration": -15,
    "start_time": "2021-06-14T12:50:04.254Z"
   },
   {
    "duration": -17,
    "start_time": "2021-06-14T12:50:04.257Z"
   },
   {
    "duration": 25,
    "start_time": "2021-06-14T12:50:04.260Z"
   },
   {
    "duration": 23,
    "start_time": "2021-06-14T12:50:04.264Z"
   },
   {
    "duration": 20,
    "start_time": "2021-06-14T12:50:04.268Z"
   },
   {
    "duration": 18,
    "start_time": "2021-06-14T12:50:04.271Z"
   },
   {
    "duration": 17,
    "start_time": "2021-06-14T12:50:04.274Z"
   },
   {
    "duration": 13,
    "start_time": "2021-06-14T12:50:04.279Z"
   },
   {
    "duration": 11,
    "start_time": "2021-06-14T12:50:04.282Z"
   },
   {
    "duration": 9,
    "start_time": "2021-06-14T12:50:04.285Z"
   },
   {
    "duration": -11,
    "start_time": "2021-06-14T12:50:04.306Z"
   },
   {
    "duration": -13,
    "start_time": "2021-06-14T12:50:04.310Z"
   },
   {
    "duration": -15,
    "start_time": "2021-06-14T12:50:04.313Z"
   },
   {
    "duration": -18,
    "start_time": "2021-06-14T12:50:04.317Z"
   },
   {
    "duration": -19,
    "start_time": "2021-06-14T12:50:04.320Z"
   },
   {
    "duration": -22,
    "start_time": "2021-06-14T12:50:04.324Z"
   },
   {
    "duration": -24,
    "start_time": "2021-06-14T12:50:04.327Z"
   },
   {
    "duration": -25,
    "start_time": "2021-06-14T12:50:04.330Z"
   },
   {
    "duration": -27,
    "start_time": "2021-06-14T12:50:04.333Z"
   },
   {
    "duration": -30,
    "start_time": "2021-06-14T12:50:04.337Z"
   },
   {
    "duration": -31,
    "start_time": "2021-06-14T12:50:04.340Z"
   },
   {
    "duration": -34,
    "start_time": "2021-06-14T12:50:04.344Z"
   },
   {
    "duration": -37,
    "start_time": "2021-06-14T12:50:04.348Z"
   },
   {
    "duration": -39,
    "start_time": "2021-06-14T12:50:04.352Z"
   },
   {
    "duration": -41,
    "start_time": "2021-06-14T12:50:04.355Z"
   },
   {
    "duration": -44,
    "start_time": "2021-06-14T12:50:04.359Z"
   },
   {
    "duration": -45,
    "start_time": "2021-06-14T12:50:04.362Z"
   },
   {
    "duration": -47,
    "start_time": "2021-06-14T12:50:04.365Z"
   },
   {
    "duration": -49,
    "start_time": "2021-06-14T12:50:04.368Z"
   },
   {
    "duration": -50,
    "start_time": "2021-06-14T12:50:04.371Z"
   },
   {
    "duration": -127,
    "start_time": "2021-06-14T12:50:04.449Z"
   },
   {
    "duration": -182,
    "start_time": "2021-06-14T12:50:04.506Z"
   },
   {
    "duration": -195,
    "start_time": "2021-06-14T12:50:04.581Z"
   },
   {
    "duration": -240,
    "start_time": "2021-06-14T12:50:04.627Z"
   },
   {
    "duration": -270,
    "start_time": "2021-06-14T12:50:04.659Z"
   },
   {
    "duration": -272,
    "start_time": "2021-06-14T12:50:04.662Z"
   },
   {
    "duration": -273,
    "start_time": "2021-06-14T12:50:04.665Z"
   },
   {
    "duration": -276,
    "start_time": "2021-06-14T12:50:04.669Z"
   },
   {
    "duration": -277,
    "start_time": "2021-06-14T12:50:04.672Z"
   },
   {
    "duration": -279,
    "start_time": "2021-06-14T12:50:04.675Z"
   },
   {
    "duration": -281,
    "start_time": "2021-06-14T12:50:04.678Z"
   },
   {
    "duration": -283,
    "start_time": "2021-06-14T12:50:04.682Z"
   },
   {
    "duration": -285,
    "start_time": "2021-06-14T12:50:04.685Z"
   },
   {
    "duration": -287,
    "start_time": "2021-06-14T12:50:04.688Z"
   },
   {
    "duration": -288,
    "start_time": "2021-06-14T12:50:04.691Z"
   },
   {
    "duration": -290,
    "start_time": "2021-06-14T12:50:04.694Z"
   },
   {
    "duration": -292,
    "start_time": "2021-06-14T12:50:04.697Z"
   },
   {
    "duration": -293,
    "start_time": "2021-06-14T12:50:04.700Z"
   },
   {
    "duration": -294,
    "start_time": "2021-06-14T12:50:04.702Z"
   },
   {
    "duration": 221,
    "start_time": "2021-06-14T15:13:10.413Z"
   },
   {
    "duration": 838,
    "start_time": "2021-06-14T15:13:24.300Z"
   },
   {
    "duration": 5,
    "start_time": "2021-06-14T15:13:25.140Z"
   },
   {
    "duration": 12,
    "start_time": "2021-06-14T15:13:25.147Z"
   },
   {
    "duration": 20,
    "start_time": "2021-06-14T15:13:25.161Z"
   },
   {
    "duration": 2596,
    "start_time": "2021-06-14T15:13:25.183Z"
   },
   {
    "duration": 41,
    "start_time": "2021-06-14T15:13:27.782Z"
   },
   {
    "duration": 32,
    "start_time": "2021-06-14T15:13:27.825Z"
   },
   {
    "duration": 39,
    "start_time": "2021-06-14T15:13:27.884Z"
   },
   {
    "duration": 4,
    "start_time": "2021-06-14T15:13:27.925Z"
   },
   {
    "duration": 25,
    "start_time": "2021-06-14T15:13:27.930Z"
   },
   {
    "duration": 36,
    "start_time": "2021-06-14T15:13:27.956Z"
   },
   {
    "duration": 3,
    "start_time": "2021-06-14T15:13:27.994Z"
   },
   {
    "duration": 30,
    "start_time": "2021-06-14T15:13:28.000Z"
   },
   {
    "duration": 4,
    "start_time": "2021-06-14T15:13:28.032Z"
   },
   {
    "duration": 77,
    "start_time": "2021-06-14T15:13:28.038Z"
   },
   {
    "duration": 86,
    "start_time": "2021-06-14T15:13:28.116Z"
   },
   {
    "duration": 863,
    "start_time": "2021-06-14T15:13:28.204Z"
   },
   {
    "duration": 4,
    "start_time": "2021-06-14T15:13:29.068Z"
   },
   {
    "duration": 4,
    "start_time": "2021-06-14T15:13:34.241Z"
   },
   {
    "duration": 13,
    "start_time": "2021-06-14T15:13:35.702Z"
   },
   {
    "duration": 6,
    "start_time": "2021-06-14T15:13:37.364Z"
   },
   {
    "duration": 1736,
    "start_time": "2021-06-14T15:13:41.069Z"
   },
   {
    "duration": 1615,
    "start_time": "2021-06-14T15:13:53.230Z"
   },
   {
    "duration": 4,
    "start_time": "2021-06-14T15:13:59.114Z"
   },
   {
    "duration": 4,
    "start_time": "2021-06-14T15:14:06.564Z"
   },
   {
    "duration": 4,
    "start_time": "2021-06-14T15:17:09.511Z"
   },
   {
    "duration": 4,
    "start_time": "2021-06-14T15:20:19.725Z"
   },
   {
    "duration": 1690,
    "start_time": "2021-06-14T15:20:35.335Z"
   },
   {
    "duration": 624,
    "start_time": "2021-06-14T15:21:48.006Z"
   },
   {
    "duration": 5,
    "start_time": "2021-06-14T15:21:48.632Z"
   },
   {
    "duration": 13,
    "start_time": "2021-06-14T15:21:48.639Z"
   },
   {
    "duration": 24,
    "start_time": "2021-06-14T15:21:48.654Z"
   },
   {
    "duration": 2586,
    "start_time": "2021-06-14T15:21:48.681Z"
   },
   {
    "duration": 41,
    "start_time": "2021-06-14T15:21:51.270Z"
   },
   {
    "duration": 29,
    "start_time": "2021-06-14T15:21:51.313Z"
   },
   {
    "duration": 56,
    "start_time": "2021-06-14T15:21:51.344Z"
   },
   {
    "duration": 4,
    "start_time": "2021-06-14T15:21:51.403Z"
   },
   {
    "duration": 27,
    "start_time": "2021-06-14T15:21:51.409Z"
   },
   {
    "duration": 6,
    "start_time": "2021-06-14T15:21:51.437Z"
   },
   {
    "duration": 5,
    "start_time": "2021-06-14T15:21:51.445Z"
   },
   {
    "duration": 56,
    "start_time": "2021-06-14T15:21:51.452Z"
   },
   {
    "duration": 3,
    "start_time": "2021-06-14T15:21:51.510Z"
   },
   {
    "duration": 90,
    "start_time": "2021-06-14T15:21:51.515Z"
   },
   {
    "duration": 84,
    "start_time": "2021-06-14T15:21:51.607Z"
   },
   {
    "duration": 991,
    "start_time": "2021-06-14T15:21:51.694Z"
   },
   {
    "duration": 3,
    "start_time": "2021-06-14T15:21:52.688Z"
   },
   {
    "duration": 23,
    "start_time": "2021-06-14T15:21:52.693Z"
   },
   {
    "duration": 5,
    "start_time": "2021-06-14T15:21:52.718Z"
   },
   {
    "duration": 5,
    "start_time": "2021-06-14T15:21:52.724Z"
   },
   {
    "duration": 6,
    "start_time": "2021-06-14T15:21:52.731Z"
   },
   {
    "duration": 131,
    "start_time": "2021-06-14T15:21:52.741Z"
   },
   {
    "duration": 105,
    "start_time": "2021-06-14T15:21:52.874Z"
   },
   {
    "duration": 113,
    "start_time": "2021-06-14T15:21:52.980Z"
   },
   {
    "duration": 86,
    "start_time": "2021-06-14T15:21:53.095Z"
   },
   {
    "duration": 91,
    "start_time": "2021-06-14T15:21:53.183Z"
   },
   {
    "duration": 102,
    "start_time": "2021-06-14T15:21:53.276Z"
   },
   {
    "duration": 898,
    "start_time": "2021-06-14T15:21:53.380Z"
   },
   {
    "duration": 91,
    "start_time": "2021-06-14T15:21:54.281Z"
   },
   {
    "duration": 15,
    "start_time": "2021-06-14T15:21:54.374Z"
   },
   {
    "duration": 81,
    "start_time": "2021-06-14T15:21:54.392Z"
   },
   {
    "duration": 5,
    "start_time": "2021-06-14T15:21:54.475Z"
   },
   {
    "duration": 15,
    "start_time": "2021-06-14T15:21:54.482Z"
   },
   {
    "duration": 10,
    "start_time": "2021-06-14T15:21:54.500Z"
   },
   {
    "duration": 17,
    "start_time": "2021-06-14T15:21:54.512Z"
   },
   {
    "duration": 4,
    "start_time": "2021-06-14T15:21:54.531Z"
   },
   {
    "duration": 85,
    "start_time": "2021-06-14T15:21:54.537Z"
   },
   {
    "duration": 10,
    "start_time": "2021-06-14T15:21:54.624Z"
   },
   {
    "duration": 119,
    "start_time": "2021-06-14T15:21:54.635Z"
   },
   {
    "duration": 26,
    "start_time": "2021-06-14T15:21:54.756Z"
   },
   {
    "duration": 18,
    "start_time": "2021-06-14T15:21:54.783Z"
   },
   {
    "duration": 19,
    "start_time": "2021-06-14T15:21:54.803Z"
   },
   {
    "duration": 5,
    "start_time": "2021-06-14T15:21:54.825Z"
   },
   {
    "duration": 322,
    "start_time": "2021-06-14T15:21:54.832Z"
   },
   {
    "duration": 99,
    "start_time": "2021-06-14T15:21:55.156Z"
   },
   {
    "duration": 145,
    "start_time": "2021-06-14T15:21:55.257Z"
   },
   {
    "duration": 19,
    "start_time": "2021-06-14T15:21:55.404Z"
   },
   {
    "duration": 82,
    "start_time": "2021-06-14T15:21:55.425Z"
   },
   {
    "duration": 76,
    "start_time": "2021-06-14T15:21:55.509Z"
   },
   {
    "duration": 728,
    "start_time": "2021-06-14T15:21:55.587Z"
   },
   {
    "duration": 4,
    "start_time": "2021-06-14T15:21:56.317Z"
   },
   {
    "duration": 18,
    "start_time": "2021-06-14T15:21:56.322Z"
   },
   {
    "duration": 24,
    "start_time": "2021-06-14T15:21:56.342Z"
   },
   {
    "duration": 88,
    "start_time": "2021-06-14T15:21:56.368Z"
   },
   {
    "duration": 614,
    "start_time": "2021-06-14T15:21:56.458Z"
   },
   {
    "duration": 3248,
    "start_time": "2021-06-14T15:21:57.074Z"
   },
   {
    "duration": 14,
    "start_time": "2021-06-14T15:22:00.324Z"
   },
   {
    "duration": 17,
    "start_time": "2021-06-14T15:22:00.340Z"
   },
   {
    "duration": 16,
    "start_time": "2021-06-14T15:22:00.358Z"
   },
   {
    "duration": 26,
    "start_time": "2021-06-14T15:22:00.376Z"
   },
   {
    "duration": 1735,
    "start_time": "2021-06-14T15:22:00.404Z"
   },
   {
    "duration": 5,
    "start_time": "2021-06-14T15:22:02.142Z"
   },
   {
    "duration": 27,
    "start_time": "2021-06-14T15:22:02.148Z"
   },
   {
    "duration": 56,
    "start_time": "2021-06-14T15:22:02.177Z"
   },
   {
    "duration": 31,
    "start_time": "2021-06-14T15:22:02.235Z"
   },
   {
    "duration": 15,
    "start_time": "2021-06-14T15:22:02.268Z"
   },
   {
    "duration": 114,
    "start_time": "2021-06-14T15:22:02.291Z"
   },
   {
    "duration": 229,
    "start_time": "2021-06-14T15:22:02.407Z"
   },
   {
    "duration": 5,
    "start_time": "2021-06-14T15:22:02.638Z"
   },
   {
    "duration": 15,
    "start_time": "2021-06-14T15:22:02.645Z"
   },
   {
    "duration": 9,
    "start_time": "2021-06-14T15:22:02.662Z"
   },
   {
    "duration": 10,
    "start_time": "2021-06-14T15:22:02.673Z"
   },
   {
    "duration": 82,
    "start_time": "2021-06-14T15:22:02.684Z"
   },
   {
    "duration": 233,
    "start_time": "2021-06-14T15:22:02.767Z"
   },
   {
    "duration": 3,
    "start_time": "2021-06-14T15:22:03.002Z"
   },
   {
    "duration": 18,
    "start_time": "2021-06-14T15:22:03.007Z"
   },
   {
    "duration": 75,
    "start_time": "2021-06-14T15:22:03.027Z"
   },
   {
    "duration": 72,
    "start_time": "2021-06-14T15:22:03.103Z"
   },
   {
    "duration": 16,
    "start_time": "2021-06-14T15:22:03.177Z"
   },
   {
    "duration": 17,
    "start_time": "2021-06-14T15:22:03.195Z"
   },
   {
    "duration": 72,
    "start_time": "2021-06-14T15:22:03.214Z"
   },
   {
    "duration": 227,
    "start_time": "2021-06-14T15:22:03.288Z"
   },
   {
    "duration": 13,
    "start_time": "2021-06-14T15:22:03.517Z"
   },
   {
    "duration": 8,
    "start_time": "2021-06-14T15:22:03.532Z"
   },
   {
    "duration": 67,
    "start_time": "2021-06-14T15:22:03.542Z"
   },
   {
    "duration": 233,
    "start_time": "2021-06-14T15:22:03.611Z"
   },
   {
    "duration": 2,
    "start_time": "2021-06-14T15:22:03.846Z"
   },
   {
    "duration": 11,
    "start_time": "2021-06-14T15:22:03.850Z"
   },
   {
    "duration": 48,
    "start_time": "2021-06-14T15:22:03.863Z"
   },
   {
    "duration": 3,
    "start_time": "2021-06-14T15:22:03.913Z"
   },
   {
    "duration": 45,
    "start_time": "2021-06-14T15:22:03.918Z"
   },
   {
    "duration": 20,
    "start_time": "2021-06-14T15:22:03.965Z"
   },
   {
    "duration": 58,
    "start_time": "2021-06-14T15:22:03.987Z"
   },
   {
    "duration": 71,
    "start_time": "2021-06-14T15:22:04.047Z"
   },
   {
    "duration": 45,
    "start_time": "2021-06-14T15:22:04.120Z"
   },
   {
    "duration": 18,
    "start_time": "2021-06-14T15:25:11.426Z"
   },
   {
    "duration": 4,
    "start_time": "2021-06-14T15:25:43.050Z"
   },
   {
    "duration": 5,
    "start_time": "2021-06-14T15:26:52.331Z"
   },
   {
    "duration": 4,
    "start_time": "2021-06-14T15:27:01.065Z"
   },
   {
    "duration": 17,
    "start_time": "2021-06-14T15:27:17.918Z"
   },
   {
    "duration": 15,
    "start_time": "2021-06-14T15:27:26.711Z"
   },
   {
    "duration": 633,
    "start_time": "2021-06-14T15:30:15.698Z"
   },
   {
    "duration": 5,
    "start_time": "2021-06-14T15:30:16.333Z"
   },
   {
    "duration": 11,
    "start_time": "2021-06-14T15:30:16.340Z"
   },
   {
    "duration": 21,
    "start_time": "2021-06-14T15:30:16.353Z"
   },
   {
    "duration": 2637,
    "start_time": "2021-06-14T15:30:16.377Z"
   },
   {
    "duration": 37,
    "start_time": "2021-06-14T15:30:19.016Z"
   },
   {
    "duration": 30,
    "start_time": "2021-06-14T15:30:19.054Z"
   },
   {
    "duration": 37,
    "start_time": "2021-06-14T15:30:19.086Z"
   },
   {
    "duration": 4,
    "start_time": "2021-06-14T15:30:19.126Z"
   },
   {
    "duration": 25,
    "start_time": "2021-06-14T15:30:19.132Z"
   },
   {
    "duration": 5,
    "start_time": "2021-06-14T15:30:19.159Z"
   },
   {
    "duration": 3,
    "start_time": "2021-06-14T15:30:19.187Z"
   },
   {
    "duration": 30,
    "start_time": "2021-06-14T15:30:19.191Z"
   },
   {
    "duration": 4,
    "start_time": "2021-06-14T15:30:19.223Z"
   },
   {
    "duration": 82,
    "start_time": "2021-06-14T15:30:19.229Z"
   },
   {
    "duration": 79,
    "start_time": "2021-06-14T15:30:19.312Z"
   },
   {
    "duration": 858,
    "start_time": "2021-06-14T15:30:19.393Z"
   },
   {
    "duration": 3,
    "start_time": "2021-06-14T15:30:20.253Z"
   },
   {
    "duration": 16,
    "start_time": "2021-06-14T15:30:20.258Z"
   },
   {
    "duration": 5,
    "start_time": "2021-06-14T15:30:20.275Z"
   },
   {
    "duration": 10,
    "start_time": "2021-06-14T15:30:20.282Z"
   },
   {
    "duration": 8,
    "start_time": "2021-06-14T15:30:20.294Z"
   },
   {
    "duration": 90,
    "start_time": "2021-06-14T15:30:20.304Z"
   },
   {
    "duration": 98,
    "start_time": "2021-06-14T15:30:20.397Z"
   },
   {
    "duration": 100,
    "start_time": "2021-06-14T15:30:20.497Z"
   },
   {
    "duration": 71,
    "start_time": "2021-06-14T15:30:20.599Z"
   },
   {
    "duration": 95,
    "start_time": "2021-06-14T15:30:20.674Z"
   },
   {
    "duration": 87,
    "start_time": "2021-06-14T15:30:20.772Z"
   },
   {
    "duration": 869,
    "start_time": "2021-06-14T15:30:20.861Z"
   },
   {
    "duration": 80,
    "start_time": "2021-06-14T15:30:21.731Z"
   },
   {
    "duration": 8,
    "start_time": "2021-06-14T15:30:21.812Z"
   },
   {
    "duration": 94,
    "start_time": "2021-06-14T15:30:21.821Z"
   },
   {
    "duration": 6,
    "start_time": "2021-06-14T15:30:21.917Z"
   },
   {
    "duration": 8,
    "start_time": "2021-06-14T15:30:21.925Z"
   },
   {
    "duration": 6,
    "start_time": "2021-06-14T15:30:21.935Z"
   },
   {
    "duration": 8,
    "start_time": "2021-06-14T15:30:21.943Z"
   },
   {
    "duration": 5,
    "start_time": "2021-06-14T15:30:21.952Z"
   },
   {
    "duration": 89,
    "start_time": "2021-06-14T15:30:21.959Z"
   },
   {
    "duration": 10,
    "start_time": "2021-06-14T15:30:22.050Z"
   },
   {
    "duration": 116,
    "start_time": "2021-06-14T15:30:22.061Z"
   },
   {
    "duration": 28,
    "start_time": "2021-06-14T15:30:22.178Z"
   },
   {
    "duration": 13,
    "start_time": "2021-06-14T15:30:22.208Z"
   },
   {
    "duration": 25,
    "start_time": "2021-06-14T15:30:22.223Z"
   },
   {
    "duration": 11,
    "start_time": "2021-06-14T15:30:22.250Z"
   },
   {
    "duration": 300,
    "start_time": "2021-06-14T15:30:22.262Z"
   },
   {
    "duration": 109,
    "start_time": "2021-06-14T15:30:22.564Z"
   },
   {
    "duration": 150,
    "start_time": "2021-06-14T15:30:22.675Z"
   },
   {
    "duration": 19,
    "start_time": "2021-06-14T15:30:22.826Z"
   },
   {
    "duration": 79,
    "start_time": "2021-06-14T15:30:22.846Z"
   },
   {
    "duration": 83,
    "start_time": "2021-06-14T15:30:22.926Z"
   },
   {
    "duration": 683,
    "start_time": "2021-06-14T15:30:23.011Z"
   },
   {
    "duration": 4,
    "start_time": "2021-06-14T15:30:23.696Z"
   },
   {
    "duration": 14,
    "start_time": "2021-06-14T15:30:23.702Z"
   },
   {
    "duration": 20,
    "start_time": "2021-06-14T15:30:23.717Z"
   },
   {
    "duration": 89,
    "start_time": "2021-06-14T15:30:23.739Z"
   },
   {
    "duration": 618,
    "start_time": "2021-06-14T15:30:23.829Z"
   },
   {
    "duration": 3291,
    "start_time": "2021-06-14T15:30:24.449Z"
   },
   {
    "duration": 15,
    "start_time": "2021-06-14T15:30:27.741Z"
   },
   {
    "duration": 33,
    "start_time": "2021-06-14T15:30:27.757Z"
   },
   {
    "duration": 5,
    "start_time": "2021-06-14T15:30:27.793Z"
   },
   {
    "duration": 15,
    "start_time": "2021-06-14T15:30:27.800Z"
   },
   {
    "duration": 1750,
    "start_time": "2021-06-14T15:30:27.816Z"
   },
   {
    "duration": 5,
    "start_time": "2021-06-14T15:30:29.568Z"
   },
   {
    "duration": 10,
    "start_time": "2021-06-14T15:30:29.575Z"
   },
   {
    "duration": 5,
    "start_time": "2021-06-14T15:30:29.589Z"
   },
   {
    "duration": 20,
    "start_time": "2021-06-14T15:30:29.596Z"
   },
   {
    "duration": 10,
    "start_time": "2021-06-14T15:30:29.617Z"
   },
   {
    "duration": 72,
    "start_time": "2021-06-14T15:30:29.629Z"
   },
   {
    "duration": 214,
    "start_time": "2021-06-14T15:30:29.703Z"
   },
   {
    "duration": 3,
    "start_time": "2021-06-14T15:30:29.919Z"
   },
   {
    "duration": 17,
    "start_time": "2021-06-14T15:30:29.923Z"
   },
   {
    "duration": 10,
    "start_time": "2021-06-14T15:30:29.941Z"
   },
   {
    "duration": 9,
    "start_time": "2021-06-14T15:30:29.952Z"
   },
   {
    "duration": 95,
    "start_time": "2021-06-14T15:30:29.963Z"
   },
   {
    "duration": 242,
    "start_time": "2021-06-14T15:30:30.060Z"
   },
   {
    "duration": 3,
    "start_time": "2021-06-14T15:30:30.303Z"
   },
   {
    "duration": 21,
    "start_time": "2021-06-14T15:30:30.308Z"
   },
   {
    "duration": 84,
    "start_time": "2021-06-14T15:30:30.331Z"
   },
   {
    "duration": 293,
    "start_time": "2021-06-14T15:30:30.417Z"
   },
   {
    "duration": 16,
    "start_time": "2021-06-14T15:30:30.712Z"
   },
   {
    "duration": 15,
    "start_time": "2021-06-14T15:30:30.734Z"
   },
   {
    "duration": 94,
    "start_time": "2021-06-14T15:30:30.751Z"
   },
   {
    "duration": 223,
    "start_time": "2021-06-14T15:30:30.847Z"
   },
   {
    "duration": 13,
    "start_time": "2021-06-14T15:30:31.072Z"
   },
   {
    "duration": 12,
    "start_time": "2021-06-14T15:30:31.087Z"
   },
   {
    "duration": 76,
    "start_time": "2021-06-14T15:30:31.101Z"
   },
   {
    "duration": 224,
    "start_time": "2021-06-14T15:30:31.179Z"
   },
   {
    "duration": 3,
    "start_time": "2021-06-14T15:30:31.405Z"
   },
   {
    "duration": 17,
    "start_time": "2021-06-14T15:30:31.410Z"
   },
   {
    "duration": 60,
    "start_time": "2021-06-14T15:30:31.428Z"
   },
   {
    "duration": 4,
    "start_time": "2021-06-14T15:30:31.490Z"
   },
   {
    "duration": 55,
    "start_time": "2021-06-14T15:30:31.497Z"
   },
   {
    "duration": 4,
    "start_time": "2021-06-14T15:30:31.553Z"
   },
   {
    "duration": 74,
    "start_time": "2021-06-14T15:30:31.559Z"
   },
   {
    "duration": 65,
    "start_time": "2021-06-14T15:30:31.634Z"
   },
   {
    "duration": 45,
    "start_time": "2021-06-14T15:30:31.700Z"
   },
   {
    "duration": 756,
    "start_time": "2021-06-15T07:58:00.851Z"
   },
   {
    "duration": 8,
    "start_time": "2021-06-15T07:58:01.610Z"
   },
   {
    "duration": 35,
    "start_time": "2021-06-15T07:58:01.623Z"
   },
   {
    "duration": 41,
    "start_time": "2021-06-15T07:58:01.661Z"
   },
   {
    "duration": 3319,
    "start_time": "2021-06-15T07:58:01.704Z"
   },
   {
    "duration": 49,
    "start_time": "2021-06-15T07:58:05.026Z"
   },
   {
    "duration": 43,
    "start_time": "2021-06-15T07:58:05.078Z"
   },
   {
    "duration": 66,
    "start_time": "2021-06-15T07:58:05.124Z"
   },
   {
    "duration": 5,
    "start_time": "2021-06-15T07:58:05.193Z"
   },
   {
    "duration": 60,
    "start_time": "2021-06-15T07:58:05.200Z"
   },
   {
    "duration": 8,
    "start_time": "2021-06-15T07:58:05.263Z"
   },
   {
    "duration": 4,
    "start_time": "2021-06-15T07:58:05.273Z"
   },
   {
    "duration": 34,
    "start_time": "2021-06-15T07:58:05.279Z"
   },
   {
    "duration": 3,
    "start_time": "2021-06-15T07:58:05.315Z"
   },
   {
    "duration": 111,
    "start_time": "2021-06-15T07:58:05.355Z"
   },
   {
    "duration": 109,
    "start_time": "2021-06-15T07:58:05.468Z"
   },
   {
    "duration": 1254,
    "start_time": "2021-06-15T07:58:05.579Z"
   },
   {
    "duration": 5,
    "start_time": "2021-06-15T07:58:06.835Z"
   },
   {
    "duration": 24,
    "start_time": "2021-06-15T07:58:06.842Z"
   },
   {
    "duration": 8,
    "start_time": "2021-06-15T07:58:06.868Z"
   },
   {
    "duration": 7,
    "start_time": "2021-06-15T07:58:06.878Z"
   },
   {
    "duration": 9,
    "start_time": "2021-06-15T07:58:06.888Z"
   },
   {
    "duration": 167,
    "start_time": "2021-06-15T07:58:06.904Z"
   },
   {
    "duration": 149,
    "start_time": "2021-06-15T07:58:07.075Z"
   },
   {
    "duration": 143,
    "start_time": "2021-06-15T07:58:07.226Z"
   },
   {
    "duration": 101,
    "start_time": "2021-06-15T07:58:07.371Z"
   },
   {
    "duration": 121,
    "start_time": "2021-06-15T07:58:07.475Z"
   },
   {
    "duration": 128,
    "start_time": "2021-06-15T07:58:07.599Z"
   },
   {
    "duration": 2231,
    "start_time": "2021-06-15T07:58:07.730Z"
   },
   {
    "duration": 138,
    "start_time": "2021-06-15T07:58:09.963Z"
   },
   {
    "duration": 12,
    "start_time": "2021-06-15T07:58:10.104Z"
   },
   {
    "duration": 126,
    "start_time": "2021-06-15T07:58:10.118Z"
   },
   {
    "duration": 8,
    "start_time": "2021-06-15T07:58:10.246Z"
   },
   {
    "duration": 26,
    "start_time": "2021-06-15T07:58:10.259Z"
   },
   {
    "duration": 14,
    "start_time": "2021-06-15T07:58:10.287Z"
   },
   {
    "duration": 13,
    "start_time": "2021-06-15T07:58:10.304Z"
   },
   {
    "duration": 8,
    "start_time": "2021-06-15T07:58:10.320Z"
   },
   {
    "duration": 169,
    "start_time": "2021-06-15T07:58:10.331Z"
   },
   {
    "duration": 13,
    "start_time": "2021-06-15T07:58:10.502Z"
   },
   {
    "duration": 144,
    "start_time": "2021-06-15T07:58:10.518Z"
   },
   {
    "duration": 31,
    "start_time": "2021-06-15T07:58:10.664Z"
   },
   {
    "duration": 23,
    "start_time": "2021-06-15T07:58:10.698Z"
   },
   {
    "duration": 42,
    "start_time": "2021-06-15T07:58:10.723Z"
   },
   {
    "duration": 4,
    "start_time": "2021-06-15T07:58:10.768Z"
   },
   {
    "duration": 454,
    "start_time": "2021-06-15T07:58:10.774Z"
   },
   {
    "duration": 112,
    "start_time": "2021-06-15T07:58:11.230Z"
   },
   {
    "duration": 220,
    "start_time": "2021-06-15T07:58:11.345Z"
   },
   {
    "duration": 26,
    "start_time": "2021-06-15T07:58:11.568Z"
   },
   {
    "duration": 115,
    "start_time": "2021-06-15T07:58:11.596Z"
   },
   {
    "duration": 108,
    "start_time": "2021-06-15T07:58:11.713Z"
   },
   {
    "duration": 1123,
    "start_time": "2021-06-15T07:58:11.824Z"
   },
   {
    "duration": 6,
    "start_time": "2021-06-15T07:58:12.950Z"
   },
   {
    "duration": 17,
    "start_time": "2021-06-15T07:58:12.959Z"
   },
   {
    "duration": 33,
    "start_time": "2021-06-15T07:58:12.979Z"
   },
   {
    "duration": 153,
    "start_time": "2021-06-15T07:58:13.015Z"
   },
   {
    "duration": 875,
    "start_time": "2021-06-15T07:58:13.171Z"
   },
   {
    "duration": 4934,
    "start_time": "2021-06-15T07:58:14.049Z"
   },
   {
    "duration": 22,
    "start_time": "2021-06-15T07:58:18.986Z"
   },
   {
    "duration": 53,
    "start_time": "2021-06-15T07:58:19.010Z"
   },
   {
    "duration": 8,
    "start_time": "2021-06-15T07:58:19.065Z"
   },
   {
    "duration": 15,
    "start_time": "2021-06-15T07:58:19.075Z"
   },
   {
    "duration": 2872,
    "start_time": "2021-06-15T07:58:19.092Z"
   },
   {
    "duration": 8,
    "start_time": "2021-06-15T07:58:21.966Z"
   },
   {
    "duration": 6,
    "start_time": "2021-06-15T07:58:21.976Z"
   },
   {
    "duration": 14,
    "start_time": "2021-06-15T07:58:21.984Z"
   },
   {
    "duration": 23,
    "start_time": "2021-06-15T07:58:22.001Z"
   },
   {
    "duration": 57,
    "start_time": "2021-06-15T07:58:22.026Z"
   },
   {
    "duration": 110,
    "start_time": "2021-06-15T07:58:22.094Z"
   },
   {
    "duration": 494,
    "start_time": "2021-06-15T07:58:22.208Z"
   },
   {
    "duration": 5,
    "start_time": "2021-06-15T07:58:22.705Z"
   },
   {
    "duration": 43,
    "start_time": "2021-06-15T07:58:22.713Z"
   },
   {
    "duration": 13,
    "start_time": "2021-06-15T07:58:22.758Z"
   },
   {
    "duration": 14,
    "start_time": "2021-06-15T07:58:22.773Z"
   },
   {
    "duration": 97,
    "start_time": "2021-06-15T07:58:22.789Z"
   },
   {
    "duration": 507,
    "start_time": "2021-06-15T07:58:22.889Z"
   },
   {
    "duration": 4,
    "start_time": "2021-06-15T07:58:23.399Z"
   },
   {
    "duration": 27,
    "start_time": "2021-06-15T07:58:23.407Z"
   },
   {
    "duration": 122,
    "start_time": "2021-06-15T07:58:23.437Z"
   },
   {
    "duration": 127,
    "start_time": "2021-06-15T07:58:23.562Z"
   },
   {
    "duration": 22,
    "start_time": "2021-06-15T07:58:23.692Z"
   },
   {
    "duration": 43,
    "start_time": "2021-06-15T07:58:23.717Z"
   },
   {
    "duration": 92,
    "start_time": "2021-06-15T07:58:23.764Z"
   },
   {
    "duration": 548,
    "start_time": "2021-06-15T07:58:23.859Z"
   },
   {
    "duration": 18,
    "start_time": "2021-06-15T07:58:24.409Z"
   },
   {
    "duration": 16,
    "start_time": "2021-06-15T07:58:24.430Z"
   },
   {
    "duration": 94,
    "start_time": "2021-06-15T07:58:24.457Z"
   },
   {
    "duration": 376,
    "start_time": "2021-06-15T07:58:24.554Z"
   },
   {
    "duration": 4,
    "start_time": "2021-06-15T07:58:24.933Z"
   },
   {
    "duration": 23,
    "start_time": "2021-06-15T07:58:24.940Z"
   },
   {
    "duration": 69,
    "start_time": "2021-06-15T07:58:24.966Z"
   },
   {
    "duration": 23,
    "start_time": "2021-06-15T07:58:25.037Z"
   },
   {
    "duration": 104,
    "start_time": "2021-06-15T07:58:25.062Z"
   },
   {
    "duration": 6,
    "start_time": "2021-06-15T07:58:25.169Z"
   },
   {
    "duration": 110,
    "start_time": "2021-06-15T07:58:25.178Z"
   },
   {
    "duration": 85,
    "start_time": "2021-06-15T07:58:25.291Z"
   },
   {
    "duration": 103,
    "start_time": "2021-06-15T07:58:25.379Z"
   },
   {
    "duration": 5,
    "start_time": "2021-06-15T08:04:28.574Z"
   },
   {
    "duration": 5,
    "start_time": "2021-06-15T08:04:48.242Z"
   },
   {
    "duration": 6,
    "start_time": "2021-06-15T08:04:59.540Z"
   },
   {
    "duration": 6722,
    "start_time": "2021-06-15T08:05:09.051Z"
   },
   {
    "duration": 6568,
    "start_time": "2021-06-15T08:05:44.695Z"
   },
   {
    "duration": 270,
    "start_time": "2021-06-15T08:05:59.935Z"
   },
   {
    "duration": 22,
    "start_time": "2021-06-15T08:06:16.380Z"
   },
   {
    "duration": 117,
    "start_time": "2021-06-15T08:06:59.796Z"
   },
   {
    "duration": 386,
    "start_time": "2021-06-15T08:08:38.980Z"
   },
   {
    "duration": 142,
    "start_time": "2021-06-15T08:08:52.069Z"
   }
  ],
  "kernelspec": {
   "display_name": "Python 3",
   "language": "python",
   "name": "python3"
  },
  "language_info": {
   "codemirror_mode": {
    "name": "ipython",
    "version": 3
   },
   "file_extension": ".py",
   "mimetype": "text/x-python",
   "name": "python",
   "nbconvert_exporter": "python",
   "pygments_lexer": "ipython3",
   "version": "3.8.10"
  },
  "toc": {
   "base_numbering": 1,
   "nav_menu": {},
   "number_sections": true,
   "sideBar": true,
   "skip_h1_title": true,
   "title_cell": "Table of Contents",
   "title_sidebar": "Contents",
   "toc_cell": false,
   "toc_position": {},
   "toc_section_display": true,
   "toc_window_display": false
  }
 },
 "nbformat": 4,
 "nbformat_minor": 2
}
