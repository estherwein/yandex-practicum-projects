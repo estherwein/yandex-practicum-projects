{
 "cells": [
  {
   "cell_type": "markdown",
   "metadata": {},
   "source": [
    "<div style=\"border:solid Chocolate 2px; padding: 40px\">\n",
    "\n",
    "<b>Hello, Daniel!👋 How are you today?</b>\n",
    "    \n",
    "My name is Arina U. and I am glad to be your reviewer in this project! Nice to meet you!<br />\n",
    "\n",
    "\n",
    "You can find my comments in <font color='green'>green</font>, <font color='gold'>yellow</font> and <font color='red'>red</font> boxes. Examples you can see below:\n",
    "    \n",
    "<div class=\"alert alert-block alert-success\">\n",
    "    <h2>Reviewer's commentary <a class=\"tocSkip\"> </h2>\n",
    "    <br/>\n",
    "<b>Well done!👍:</b> In case if task is completely correct and everything is alright!\n",
    "</div>\n",
    "\n",
    "\n",
    "<div class=\"alert alert-block alert-warning\">\n",
    "   <h2>Reviewer's commentary <a class=\"tocSkip\"> </h2>\n",
    "    <br/>\n",
    "<b>Remarks and recommendations📌:</b>  In case when I can give some advice that can help you to improve your work or recommend you some useful links and resources that can help you widen your knowledge and help in future tasks.\n",
    "</div>\n",
    "\n",
    "<div class=\"alert alert-block alert-danger\">\n",
    "    <h2>Reviewer's commentary <a class=\"tocSkip\"> </h2>\n",
    "    <br/>\n",
    "<b>Needs fixing!🤔:</b> In case when step requires some extra work and some corrections. Project can't be accepted with comments in the red boxes\n",
    "</div>\n",
    "\n",
    "Please pay attention to not move or change my comments. It would be good to highlight your answers in some way. \n",
    "\n",
    "#### <font color='Purple'>Student's commentary:</font> for example like this <a class=\"tocSkip\"> </div>\n",
    "    \n",
    "OK, now let's go!😏\n",
    "</font>"
   ]
  },
  {
   "cell_type": "markdown",
   "metadata": {},
   "source": [
    "# Research on car sales ads\n",
    "\n",
    "You're an analyst at Crankshaft List. Hundreds of free advertisements for vehicles are published on your site every day.\n",
    "\n",
    "You need to study data collected over the last few years and determine which factors influence the price of a vehicle. "
   ]
  },
  {
   "cell_type": "code",
   "execution_count": 1,
   "metadata": {},
   "outputs": [
    {
     "name": "stdout",
     "output_type": "stream",
     "text": [
      "Defaulting to user installation because normal site-packages is not writeable\n",
      "Collecting pandas\n",
      "  Downloading pandas-1.2.5-cp37-cp37m-manylinux_2_5_x86_64.manylinux1_x86_64.whl (9.9 MB)\n",
      "\u001b[K     |████████████████████████████████| 9.9 MB 47 kB/s eta 0:00:011\n",
      "\u001b[?25hRequirement already satisfied, skipping upgrade: numpy>=1.16.5 in /opt/conda/lib/python3.7/site-packages (from pandas) (1.19.5)\n",
      "Requirement already satisfied, skipping upgrade: pytz>=2017.3 in /opt/conda/lib/python3.7/site-packages (from pandas) (2021.1)\n",
      "Requirement already satisfied, skipping upgrade: python-dateutil>=2.7.3 in /opt/conda/lib/python3.7/site-packages (from pandas) (2.8.1)\n",
      "Requirement already satisfied, skipping upgrade: six>=1.5 in /opt/conda/lib/python3.7/site-packages (from python-dateutil>=2.7.3->pandas) (1.15.0)\n",
      "Installing collected packages: pandas\n",
      "Successfully installed pandas-1.2.5\n"
     ]
    }
   ],
   "source": [
    "!pip install --upgrade pandas"
   ]
  },
  {
   "cell_type": "code",
   "execution_count": 2,
   "metadata": {},
   "outputs": [],
   "source": [
    "import pandas as pd\n",
    "import matplotlib.pyplot as plt\n",
    "import matplotlib.colors as mcolors\n",
    "import numpy as np\n",
    "import os.path\n",
    "from IPython.display import display, display_html\n",
    "from IPython.display import Markdown as md"
   ]
  },
  {
   "cell_type": "markdown",
   "metadata": {},
   "source": [
    "<a class=\"anchor\" id=\"0_toc\"></a>\n",
    "# Table of Contents\n",
    "***\n",
    "\n",
    "1. [Open the data file and study the general information](#1_data_file)\n",
    "2. [Data preprocessing](#2_data_pre)\n",
    "    1. [Missing values](#2_data_pre-1_na)\n",
    "    2. [Column names](#2_data_pre-2_names)\n",
    "    3. [Data types](#2_data_pre-3_dtypes)\n",
    "    4. [Categories](#2_data_pre-4_categories)\n",
    "3. [Make calculations and add them to the table](#3_data_pre_b)\n",
    "    1. [Dates](#3_data_pre_b-1_dates)\n",
    "    2. [Vehicle age](#3_data_pre_b-2_age)\n",
    "    3. [Vehicle averge mileage](#3_data_pre_b-3_mileage)\n",
    "4. [Carry out exploratory data analysis](#4_eda)\n",
    "    1. [Histograms](#4_eda-1_hist)\n",
    "    2. [Outliers](#4_eda-2_box)\n",
    "    3. [Compare histograms](#4_eda-3_comp)\n",
    "    4. [Ad lifespan](#4_eda-4_ad)\n",
    "    5. [Ads by vehicle type](#4_eda-5_vehicle)\n",
    "    6. [Price correlation](#4_eda-6_price)\n",
    "5. [Overall conclusion](#5_conclusions)"
   ]
  },
  {
   "cell_type": "markdown",
   "metadata": {},
   "source": [
    "<div class=\"alert alert-block alert-success\">\n",
    "    <h2>Reviewer's commentary <a class=\"tocSkip\"> </h2>\n",
    "    <br/>\n",
    "<b>Well done!👍:</b> \n",
    "        \n",
    "You managed to create a great content plan, good job!"
   ]
  },
  {
   "cell_type": "markdown",
   "metadata": {},
   "source": [
    "<div class=\"alert alert-block alert-warning\">\n",
    "   <h2>Reviewer's commentary <a class=\"tocSkip\"> </h2>\n",
    "    <br/>\n",
    "<b>Remarks and recommendations📌:</b>\n",
    "\n",
    "Ana, it is great that you started your project with the short introduction. I would like to recommend you to add the content plan of the main steps of your analysis at the beginning of the project and fix the main aim of the project that it is better to formulate by yourself!"
   ]
  },
  {
   "cell_type": "markdown",
   "metadata": {},
   "source": [
    "<a class=\"anchor\" id=\"1_data_file\"></a>\n",
    "## Open the data file and study the general information. \n",
    "***\n",
    "[back to Table of Contents](#0_toc)"
   ]
  },
  {
   "cell_type": "code",
   "execution_count": 3,
   "metadata": {},
   "outputs": [],
   "source": [
    "filename = 'vehicles_us.csv'\n",
    "filepath = f'/datasets/{filename}'\n",
    "if not os.path.isfile(filepath):\n",
    "    filepath = filename"
   ]
  },
  {
   "cell_type": "code",
   "execution_count": 4,
   "metadata": {},
   "outputs": [
    {
     "name": "stdout",
     "output_type": "stream",
     "text": [
      "5\t/datasets/vehicles_us.csv\n",
      "stat: invalid option -- 'l'\n",
      "Try 'stat --help' for more information.\n",
      "/bin/bash: file: command not found\n",
      "51526 /datasets/vehicles_us.csv\n",
      "price,model_year,model,condition,cylinders,fuel,odometer,transmission,type,paint_color,is_4wd,date_posted,days_listed\n",
      "9400,2011.0,bmw x5,good,6,gas,145000.0,automatic,SUV,,1.0,2018-06-23,19\n",
      "25500,,ford f-150,good,6,gas,88705.0,automatic,pickup,white,1.0,2018-10-19,50\n",
      "5500,2013.0,hyundai sonata,like new,4,gas,110000.0,automatic,sedan,red,,2019-02-07,79\n",
      "1500,2003.0,ford f-150,fair,8,gas,,automatic,pickup,,,2019-03-22,9\n",
      "14900,2017.0,chrysler 200,excellent,4,gas,80903.0,automatic,sedan,black,,2019-04-02,28\n"
     ]
    }
   ],
   "source": [
    "try:\n",
    "    !du -m \"$filepath\"      # filesize in MiB\n",
    "    !stat -l \"$filepath\"    # date, filename\n",
    "    !file \"$filepath\"       # file type, encoding\n",
    "    !wc -l \"$filepath\"      # line count\n",
    "    !head -n6 \"$filepath\"   # file preview\n",
    "except Exception as e:\n",
    "    print(e)"
   ]
  },
  {
   "cell_type": "markdown",
   "metadata": {},
   "source": [
    "<div class=\"alert alert-block alert-success\">\n",
    "    <h2>Reviewer's commentary <a class=\"tocSkip\"> </h2>\n",
    "    <br/>\n",
    "<b>Well done!👍:</b> \n",
    "        \n",
    "Ok, Daniel, it is really great that you used the os module to download the data, and a big plus for `try-except` too."
   ]
  },
  {
   "cell_type": "markdown",
   "metadata": {},
   "source": [
    "#### The dataset contains the following fields:\n",
    "1. price\n",
    "2. model_year\n",
    "3. model\n",
    "4. condition\n",
    "5. cylinders\n",
    "6. fuel — gas, diesel, etc.\n",
    "7. odometer — the vehicle's mileage when the ad was published\n",
    "8. transmission\n",
    "9. type\n",
    "10. paint_color\n",
    "11. is_4wd — whether the vehicle has 4-wheel drive (Boolean type)\n",
    "12. date_posted — the date the ad was published\n",
    "13. days_listed — from publication to removal"
   ]
  },
  {
   "cell_type": "code",
   "execution_count": 5,
   "metadata": {},
   "outputs": [],
   "source": [
    "df = pd.read_csv(filepath)\n",
    "pd.options.display.max_columns = len(df.columns)"
   ]
  },
  {
   "cell_type": "code",
   "execution_count": 6,
   "metadata": {},
   "outputs": [
    {
     "data": {
      "text/html": [
       "<div>\n",
       "<style scoped>\n",
       "    .dataframe tbody tr th:only-of-type {\n",
       "        vertical-align: middle;\n",
       "    }\n",
       "\n",
       "    .dataframe tbody tr th {\n",
       "        vertical-align: top;\n",
       "    }\n",
       "\n",
       "    .dataframe thead th {\n",
       "        text-align: right;\n",
       "    }\n",
       "</style>\n",
       "<table border=\"1\" class=\"dataframe\">\n",
       "  <thead>\n",
       "    <tr style=\"text-align: right;\">\n",
       "      <th></th>\n",
       "      <th>price</th>\n",
       "      <th>model_year</th>\n",
       "      <th>model</th>\n",
       "      <th>condition</th>\n",
       "      <th>cylinders</th>\n",
       "      <th>fuel</th>\n",
       "      <th>odometer</th>\n",
       "      <th>transmission</th>\n",
       "      <th>type</th>\n",
       "      <th>paint_color</th>\n",
       "      <th>is_4wd</th>\n",
       "      <th>date_posted</th>\n",
       "      <th>days_listed</th>\n",
       "    </tr>\n",
       "  </thead>\n",
       "  <tbody>\n",
       "    <tr>\n",
       "      <th>0</th>\n",
       "      <td>9400</td>\n",
       "      <td>2011.0</td>\n",
       "      <td>bmw x5</td>\n",
       "      <td>good</td>\n",
       "      <td>6.0</td>\n",
       "      <td>gas</td>\n",
       "      <td>145000.0</td>\n",
       "      <td>automatic</td>\n",
       "      <td>SUV</td>\n",
       "      <td>NaN</td>\n",
       "      <td>1.0</td>\n",
       "      <td>2018-06-23</td>\n",
       "      <td>19</td>\n",
       "    </tr>\n",
       "    <tr>\n",
       "      <th>1</th>\n",
       "      <td>25500</td>\n",
       "      <td>NaN</td>\n",
       "      <td>ford f-150</td>\n",
       "      <td>good</td>\n",
       "      <td>6.0</td>\n",
       "      <td>gas</td>\n",
       "      <td>88705.0</td>\n",
       "      <td>automatic</td>\n",
       "      <td>pickup</td>\n",
       "      <td>white</td>\n",
       "      <td>1.0</td>\n",
       "      <td>2018-10-19</td>\n",
       "      <td>50</td>\n",
       "    </tr>\n",
       "    <tr>\n",
       "      <th>2</th>\n",
       "      <td>5500</td>\n",
       "      <td>2013.0</td>\n",
       "      <td>hyundai sonata</td>\n",
       "      <td>like new</td>\n",
       "      <td>4.0</td>\n",
       "      <td>gas</td>\n",
       "      <td>110000.0</td>\n",
       "      <td>automatic</td>\n",
       "      <td>sedan</td>\n",
       "      <td>red</td>\n",
       "      <td>NaN</td>\n",
       "      <td>2019-02-07</td>\n",
       "      <td>79</td>\n",
       "    </tr>\n",
       "    <tr>\n",
       "      <th>3</th>\n",
       "      <td>1500</td>\n",
       "      <td>2003.0</td>\n",
       "      <td>ford f-150</td>\n",
       "      <td>fair</td>\n",
       "      <td>8.0</td>\n",
       "      <td>gas</td>\n",
       "      <td>NaN</td>\n",
       "      <td>automatic</td>\n",
       "      <td>pickup</td>\n",
       "      <td>NaN</td>\n",
       "      <td>NaN</td>\n",
       "      <td>2019-03-22</td>\n",
       "      <td>9</td>\n",
       "    </tr>\n",
       "    <tr>\n",
       "      <th>4</th>\n",
       "      <td>14900</td>\n",
       "      <td>2017.0</td>\n",
       "      <td>chrysler 200</td>\n",
       "      <td>excellent</td>\n",
       "      <td>4.0</td>\n",
       "      <td>gas</td>\n",
       "      <td>80903.0</td>\n",
       "      <td>automatic</td>\n",
       "      <td>sedan</td>\n",
       "      <td>black</td>\n",
       "      <td>NaN</td>\n",
       "      <td>2019-04-02</td>\n",
       "      <td>28</td>\n",
       "    </tr>\n",
       "  </tbody>\n",
       "</table>\n",
       "</div>"
      ],
      "text/plain": [
       "   price  model_year           model  condition  cylinders fuel  odometer  \\\n",
       "0   9400      2011.0          bmw x5       good        6.0  gas  145000.0   \n",
       "1  25500         NaN      ford f-150       good        6.0  gas   88705.0   \n",
       "2   5500      2013.0  hyundai sonata   like new        4.0  gas  110000.0   \n",
       "3   1500      2003.0      ford f-150       fair        8.0  gas       NaN   \n",
       "4  14900      2017.0    chrysler 200  excellent        4.0  gas   80903.0   \n",
       "\n",
       "  transmission    type paint_color  is_4wd date_posted  days_listed  \n",
       "0    automatic     SUV         NaN     1.0  2018-06-23           19  \n",
       "1    automatic  pickup       white     1.0  2018-10-19           50  \n",
       "2    automatic   sedan         red     NaN  2019-02-07           79  \n",
       "3    automatic  pickup         NaN     NaN  2019-03-22            9  \n",
       "4    automatic   sedan       black     NaN  2019-04-02           28  "
      ]
     },
     "metadata": {},
     "output_type": "display_data"
    },
    {
     "name": "stdout",
     "output_type": "stream",
     "text": [
      "<class 'pandas.core.frame.DataFrame'>\n",
      "RangeIndex: 51525 entries, 0 to 51524\n",
      "Data columns (total 13 columns):\n",
      " #   Column        Non-Null Count  Dtype  \n",
      "---  ------        --------------  -----  \n",
      " 0   price         51525 non-null  int64  \n",
      " 1   model_year    47906 non-null  float64\n",
      " 2   model         51525 non-null  object \n",
      " 3   condition     51525 non-null  object \n",
      " 4   cylinders     46265 non-null  float64\n",
      " 5   fuel          51525 non-null  object \n",
      " 6   odometer      43633 non-null  float64\n",
      " 7   transmission  51525 non-null  object \n",
      " 8   type          51525 non-null  object \n",
      " 9   paint_color   42258 non-null  object \n",
      " 10  is_4wd        25572 non-null  float64\n",
      " 11  date_posted   51525 non-null  object \n",
      " 12  days_listed   51525 non-null  int64  \n",
      "dtypes: float64(4), int64(2), object(7)\n",
      "memory usage: 5.1+ MB\n"
     ]
    }
   ],
   "source": [
    "display(df.head())\n",
    "df.info()"
   ]
  },
  {
   "cell_type": "markdown",
   "metadata": {},
   "source": [
    "File loaded successfully."
   ]
  },
  {
   "cell_type": "code",
   "execution_count": 7,
   "metadata": {},
   "outputs": [
    {
     "data": {
      "text/plain": [
       "price            3443\n",
       "model_year         68\n",
       "model             100\n",
       "condition           6\n",
       "cylinders           7\n",
       "fuel                5\n",
       "odometer        17762\n",
       "transmission        3\n",
       "type               13\n",
       "paint_color        12\n",
       "is_4wd              1\n",
       "date_posted       354\n",
       "days_listed       227\n",
       "dtype: int64"
      ]
     },
     "execution_count": 7,
     "metadata": {},
     "output_type": "execute_result"
    }
   ],
   "source": [
    "df.nunique()"
   ]
  },
  {
   "cell_type": "code",
   "execution_count": 8,
   "metadata": {
    "scrolled": false
   },
   "outputs": [
    {
     "data": {
      "text/html": [
       "<div>\n",
       "<style scoped>\n",
       "    .dataframe tbody tr th:only-of-type {\n",
       "        vertical-align: middle;\n",
       "    }\n",
       "\n",
       "    .dataframe tbody tr th {\n",
       "        vertical-align: top;\n",
       "    }\n",
       "\n",
       "    .dataframe thead th {\n",
       "        text-align: right;\n",
       "    }\n",
       "</style>\n",
       "<table border=\"1\" class=\"dataframe\">\n",
       "  <thead>\n",
       "    <tr style=\"text-align: right;\">\n",
       "      <th></th>\n",
       "      <th>price</th>\n",
       "      <th>model_year</th>\n",
       "      <th>cylinders</th>\n",
       "      <th>odometer</th>\n",
       "      <th>is_4wd</th>\n",
       "      <th>days_listed</th>\n",
       "    </tr>\n",
       "  </thead>\n",
       "  <tbody>\n",
       "    <tr>\n",
       "      <th>count</th>\n",
       "      <td>51525.000000</td>\n",
       "      <td>47906.000000</td>\n",
       "      <td>46265.000000</td>\n",
       "      <td>43633.000000</td>\n",
       "      <td>25572.0</td>\n",
       "      <td>51525.00000</td>\n",
       "    </tr>\n",
       "    <tr>\n",
       "      <th>mean</th>\n",
       "      <td>12132.464920</td>\n",
       "      <td>2009.750470</td>\n",
       "      <td>6.125235</td>\n",
       "      <td>115553.461738</td>\n",
       "      <td>1.0</td>\n",
       "      <td>39.55476</td>\n",
       "    </tr>\n",
       "    <tr>\n",
       "      <th>std</th>\n",
       "      <td>10040.803015</td>\n",
       "      <td>6.282065</td>\n",
       "      <td>1.660360</td>\n",
       "      <td>65094.611341</td>\n",
       "      <td>0.0</td>\n",
       "      <td>28.20427</td>\n",
       "    </tr>\n",
       "    <tr>\n",
       "      <th>min</th>\n",
       "      <td>1.000000</td>\n",
       "      <td>1908.000000</td>\n",
       "      <td>3.000000</td>\n",
       "      <td>0.000000</td>\n",
       "      <td>1.0</td>\n",
       "      <td>0.00000</td>\n",
       "    </tr>\n",
       "    <tr>\n",
       "      <th>25%</th>\n",
       "      <td>5000.000000</td>\n",
       "      <td>2006.000000</td>\n",
       "      <td>4.000000</td>\n",
       "      <td>70000.000000</td>\n",
       "      <td>1.0</td>\n",
       "      <td>19.00000</td>\n",
       "    </tr>\n",
       "    <tr>\n",
       "      <th>50%</th>\n",
       "      <td>9000.000000</td>\n",
       "      <td>2011.000000</td>\n",
       "      <td>6.000000</td>\n",
       "      <td>113000.000000</td>\n",
       "      <td>1.0</td>\n",
       "      <td>33.00000</td>\n",
       "    </tr>\n",
       "    <tr>\n",
       "      <th>75%</th>\n",
       "      <td>16839.000000</td>\n",
       "      <td>2014.000000</td>\n",
       "      <td>8.000000</td>\n",
       "      <td>155000.000000</td>\n",
       "      <td>1.0</td>\n",
       "      <td>53.00000</td>\n",
       "    </tr>\n",
       "    <tr>\n",
       "      <th>max</th>\n",
       "      <td>375000.000000</td>\n",
       "      <td>2019.000000</td>\n",
       "      <td>12.000000</td>\n",
       "      <td>990000.000000</td>\n",
       "      <td>1.0</td>\n",
       "      <td>271.00000</td>\n",
       "    </tr>\n",
       "  </tbody>\n",
       "</table>\n",
       "</div>"
      ],
      "text/plain": [
       "               price    model_year     cylinders       odometer   is_4wd  \\\n",
       "count   51525.000000  47906.000000  46265.000000   43633.000000  25572.0   \n",
       "mean    12132.464920   2009.750470      6.125235  115553.461738      1.0   \n",
       "std     10040.803015      6.282065      1.660360   65094.611341      0.0   \n",
       "min         1.000000   1908.000000      3.000000       0.000000      1.0   \n",
       "25%      5000.000000   2006.000000      4.000000   70000.000000      1.0   \n",
       "50%      9000.000000   2011.000000      6.000000  113000.000000      1.0   \n",
       "75%     16839.000000   2014.000000      8.000000  155000.000000      1.0   \n",
       "max    375000.000000   2019.000000     12.000000  990000.000000      1.0   \n",
       "\n",
       "       days_listed  \n",
       "count  51525.00000  \n",
       "mean      39.55476  \n",
       "std       28.20427  \n",
       "min        0.00000  \n",
       "25%       19.00000  \n",
       "50%       33.00000  \n",
       "75%       53.00000  \n",
       "max      271.00000  "
      ]
     },
     "execution_count": 8,
     "metadata": {},
     "output_type": "execute_result"
    }
   ],
   "source": [
    "df.describe()"
   ]
  },
  {
   "cell_type": "code",
   "execution_count": 9,
   "metadata": {
    "scrolled": true
   },
   "outputs": [
    {
     "data": {
      "text/plain": [
       "SUV            12405\n",
       "truck          12353\n",
       "sedan          12154\n",
       "pickup          6988\n",
       "coupe           2303\n",
       "wagon           1541\n",
       "mini-van        1161\n",
       "hatchback       1047\n",
       "van              633\n",
       "convertible      446\n",
       "other            256\n",
       "offroad          214\n",
       "bus               24\n",
       "Name: type, dtype: int64"
      ]
     },
     "execution_count": 9,
     "metadata": {},
     "output_type": "execute_result"
    }
   ],
   "source": [
    "df['type'].value_counts()"
   ]
  },
  {
   "cell_type": "code",
   "execution_count": 10,
   "metadata": {},
   "outputs": [
    {
     "data": {
      "text/plain": [
       "488            toyota camry\n",
       "517             ford fusion\n",
       "588           ford explorer\n",
       "660           jeep wrangler\n",
       "668      chevrolet colorado\n",
       "                ...        \n",
       "50465       hyundai elantra\n",
       "50468           ford escape\n",
       "50813          chrysler 300\n",
       "51049         nissan maxima\n",
       "51486      hyundai santa fe\n",
       "Name: model, Length: 256, dtype: object"
      ]
     },
     "execution_count": 10,
     "metadata": {},
     "output_type": "execute_result"
    }
   ],
   "source": [
    "df.loc[df['type'] == 'other', 'model']"
   ]
  },
  {
   "cell_type": "markdown",
   "metadata": {},
   "source": [
    "**All vehicles appear to be 4 wheels, land vehicles.**"
   ]
  },
  {
   "cell_type": "markdown",
   "metadata": {},
   "source": [
    "### Conclusion"
   ]
  },
  {
   "cell_type": "markdown",
   "metadata": {},
   "source": [
    "__Quantitative variables:__\n",
    "* price\n",
    "* model_year\n",
    "* odometer\n",
    "* days_posted\n",
    "* days_listed\n",
    "\n",
    "__Categorical variables:__\n",
    "* model\n",
    "* condition\n",
    "* cylinders\n",
    "* fuel\n",
    "* transmission\n",
    "* type\n",
    "* paint_color\n",
    "* is_4wd\n",
    "\n",
    "__possible issues:__\n",
    "- price: outliers (1, 375000)\n",
    "- model_year: outlier (1908), missing values\n",
    "- cylinders: missing values\n",
    "- odometer: outliers (0, 990000), missing values\n",
    "- is_4wd: single value (1), missing values (0?)\n",
    "- days_listed: outliers (0, 271)"
   ]
  },
  {
   "cell_type": "markdown",
   "metadata": {},
   "source": [
    "<div class=\"alert alert-block alert-success\">\n",
    "    <h2>Reviewer's commentary <a class=\"tocSkip\"></h2>\n",
    "    <br/>\n",
    "<b>Well done!👍:</b> \n",
    "    \n",
    "Ok, everything is alright! You have successfully identified the main problems in the data, explore the dataframe from different sides and in great detail, let's see what results you have got at the next stages of analysis!"
   ]
  },
  {
   "cell_type": "markdown",
   "metadata": {},
   "source": [
    "<a class=\"anchor\" id=\"2_data_pre\"></a> \n",
    "## Data preprocessing\n",
    "***\n",
    "[back to Table of Contents](#0_toc)"
   ]
  },
  {
   "cell_type": "markdown",
   "metadata": {},
   "source": [
    "<a class=\"anchor\" id=\"2_data_pre-1_na\"></a>\n",
    "### Missing Values"
   ]
  },
  {
   "cell_type": "code",
   "execution_count": 11,
   "metadata": {},
   "outputs": [],
   "source": [
    "def missing_values_ratio(column_name):\n",
    "    \"\"\"Prints column's missing values count and ratio\"\"\"\n",
    "    \n",
    "    total_rows = df.shape[0]\n",
    "    na_count = df[column_name].isna().sum()\n",
    "    na_ratio = na_count / total_rows\n",
    "    \n",
    "    display(md(f\"'{column_name}' missing values: {na_count} ({na_ratio:.2%})\"))\n",
    "    \n",
    "# missing_values_ratio('model_year')"
   ]
  },
  {
   "cell_type": "code",
   "execution_count": 12,
   "metadata": {
    "scrolled": true
   },
   "outputs": [
    {
     "data": {
      "text/plain": [
       "price               0\n",
       "model_year       3619\n",
       "model               0\n",
       "condition           0\n",
       "cylinders        5260\n",
       "fuel                0\n",
       "odometer         7892\n",
       "transmission        0\n",
       "type                0\n",
       "paint_color      9267\n",
       "is_4wd          25953\n",
       "date_posted         0\n",
       "days_listed         0\n",
       "dtype: int64"
      ]
     },
     "execution_count": 12,
     "metadata": {},
     "output_type": "execute_result"
    }
   ],
   "source": [
    "df.isnull().sum()"
   ]
  },
  {
   "cell_type": "markdown",
   "metadata": {},
   "source": [
    "Spotted 5 columns with missing values: <a class=\"anchor\" id=\"na_map\"></a>\n",
    "* [model_year](#na_model_year)\n",
    "* [cylinders](#na_cylinders)\n",
    "* [odometer](#na_odometer)\n",
    "* [paint_color](#na_paint_color)\n",
    "* [is_4wd](#na_is_4wd)"
   ]
  },
  {
   "cell_type": "markdown",
   "metadata": {},
   "source": [
    "<div class=\"alert alert-block alert-success\">\n",
    "    <h2>Reviewer's commentary <a class=\"tocSkip\"></h2>\n",
    "    <br/>\n",
    "<b>Well done!👍:</b> \n",
    "        \n",
    "Ok, it is absolutely correct that you tried to check not only the amount of missing values per column, but also the ratio of missing values. You can also do it using these variants of code:\n",
    "        \n",
    "`data.isna().sum()*100/len(data)`\n",
    "       \n",
    "`data.isna().mean() * 100`\n",
    "\n",
    "Or like this:\n",
    "    \n",
    "`report = data.isna().sum().to_frame()\n",
    "report = report.rename(columns = {0: 'missing_values'})\n",
    "report['% of total'] = (report['missing_values'] / data.shape[0]).round(2)\n",
    "report.sort_values(by = 'missing_values', ascending = False)`\n",
    "       \n",
    "        \n",
    "And it is better to use `isna()` not `isnul()` (as you did in your function), more information about it see at link below:\n",
    "        \n",
    "https://stackoverflow.com/questions/52086574/pandas-isna-and-isnull-what-is-the-difference#:~:text=isnull%20is%20an%20alias%20of%20isna%20in%20See%20also%20section.&text=Therefore%2C%20they%20must%20be%20the,NaN%2C%20np."
   ]
  },
  {
   "cell_type": "markdown",
   "metadata": {},
   "source": [
    "### model_year <a class=\"anchor\" id=\"na_model_year\">\n",
    "[back to Missing Values](#na_map)"
   ]
  },
  {
   "cell_type": "code",
   "execution_count": 13,
   "metadata": {},
   "outputs": [
    {
     "data": {
      "text/html": [
       "<div>\n",
       "<style scoped>\n",
       "    .dataframe tbody tr th:only-of-type {\n",
       "        vertical-align: middle;\n",
       "    }\n",
       "\n",
       "    .dataframe tbody tr th {\n",
       "        vertical-align: top;\n",
       "    }\n",
       "\n",
       "    .dataframe thead th {\n",
       "        text-align: right;\n",
       "    }\n",
       "</style>\n",
       "<table border=\"1\" class=\"dataframe\">\n",
       "  <thead>\n",
       "    <tr style=\"text-align: right;\">\n",
       "      <th></th>\n",
       "      <th>price</th>\n",
       "      <th>model_year</th>\n",
       "      <th>model</th>\n",
       "      <th>condition</th>\n",
       "      <th>cylinders</th>\n",
       "      <th>fuel</th>\n",
       "      <th>odometer</th>\n",
       "      <th>transmission</th>\n",
       "      <th>type</th>\n",
       "      <th>paint_color</th>\n",
       "      <th>is_4wd</th>\n",
       "      <th>date_posted</th>\n",
       "      <th>days_listed</th>\n",
       "    </tr>\n",
       "  </thead>\n",
       "  <tbody>\n",
       "    <tr>\n",
       "      <th>1</th>\n",
       "      <td>25500</td>\n",
       "      <td>NaN</td>\n",
       "      <td>ford f-150</td>\n",
       "      <td>good</td>\n",
       "      <td>6.0</td>\n",
       "      <td>gas</td>\n",
       "      <td>88705.0</td>\n",
       "      <td>automatic</td>\n",
       "      <td>pickup</td>\n",
       "      <td>white</td>\n",
       "      <td>1.0</td>\n",
       "      <td>2018-10-19</td>\n",
       "      <td>50</td>\n",
       "    </tr>\n",
       "    <tr>\n",
       "      <th>20</th>\n",
       "      <td>6990</td>\n",
       "      <td>NaN</td>\n",
       "      <td>chevrolet tahoe</td>\n",
       "      <td>excellent</td>\n",
       "      <td>8.0</td>\n",
       "      <td>gas</td>\n",
       "      <td>147485.0</td>\n",
       "      <td>automatic</td>\n",
       "      <td>SUV</td>\n",
       "      <td>silver</td>\n",
       "      <td>1.0</td>\n",
       "      <td>2018-08-05</td>\n",
       "      <td>28</td>\n",
       "    </tr>\n",
       "    <tr>\n",
       "      <th>65</th>\n",
       "      <td>12800</td>\n",
       "      <td>NaN</td>\n",
       "      <td>ford f-150</td>\n",
       "      <td>excellent</td>\n",
       "      <td>6.0</td>\n",
       "      <td>gas</td>\n",
       "      <td>108500.0</td>\n",
       "      <td>automatic</td>\n",
       "      <td>pickup</td>\n",
       "      <td>white</td>\n",
       "      <td>NaN</td>\n",
       "      <td>2018-09-23</td>\n",
       "      <td>15</td>\n",
       "    </tr>\n",
       "    <tr>\n",
       "      <th>69</th>\n",
       "      <td>7800</td>\n",
       "      <td>NaN</td>\n",
       "      <td>ford f-150</td>\n",
       "      <td>like new</td>\n",
       "      <td>8.0</td>\n",
       "      <td>gas</td>\n",
       "      <td>97510.0</td>\n",
       "      <td>automatic</td>\n",
       "      <td>truck</td>\n",
       "      <td>white</td>\n",
       "      <td>1.0</td>\n",
       "      <td>2019-02-20</td>\n",
       "      <td>39</td>\n",
       "    </tr>\n",
       "    <tr>\n",
       "      <th>72</th>\n",
       "      <td>3650</td>\n",
       "      <td>NaN</td>\n",
       "      <td>subaru impreza</td>\n",
       "      <td>excellent</td>\n",
       "      <td>NaN</td>\n",
       "      <td>gas</td>\n",
       "      <td>74000.0</td>\n",
       "      <td>automatic</td>\n",
       "      <td>sedan</td>\n",
       "      <td>blue</td>\n",
       "      <td>1.0</td>\n",
       "      <td>2018-08-07</td>\n",
       "      <td>60</td>\n",
       "    </tr>\n",
       "  </tbody>\n",
       "</table>\n",
       "</div>"
      ],
      "text/plain": [
       "    price  model_year            model  condition  cylinders fuel  odometer  \\\n",
       "1   25500         NaN       ford f-150       good        6.0  gas   88705.0   \n",
       "20   6990         NaN  chevrolet tahoe  excellent        8.0  gas  147485.0   \n",
       "65  12800         NaN       ford f-150  excellent        6.0  gas  108500.0   \n",
       "69   7800         NaN       ford f-150   like new        8.0  gas   97510.0   \n",
       "72   3650         NaN   subaru impreza  excellent        NaN  gas   74000.0   \n",
       "\n",
       "   transmission    type paint_color  is_4wd date_posted  days_listed  \n",
       "1     automatic  pickup       white     1.0  2018-10-19           50  \n",
       "20    automatic     SUV      silver     1.0  2018-08-05           28  \n",
       "65    automatic  pickup       white     NaN  2018-09-23           15  \n",
       "69    automatic   truck       white     1.0  2019-02-20           39  \n",
       "72    automatic   sedan        blue     1.0  2018-08-07           60  "
      ]
     },
     "metadata": {},
     "output_type": "display_data"
    },
    {
     "data": {
      "text/markdown": [
       "'model_year' missing values: 3619 (7.02%)"
      ],
      "text/plain": [
       "<IPython.core.display.Markdown object>"
      ]
     },
     "metadata": {},
     "output_type": "display_data"
    }
   ],
   "source": [
    "display(df[df['model_year'].isna()].head())\n",
    "missing_values_ratio('model_year')"
   ]
  },
  {
   "cell_type": "markdown",
   "metadata": {},
   "source": [
    "It is common knowledge that a vehicle's model year is a contributing factor to its market price,  \n",
    "and is important to this analysis.  \n",
    "Attempting to estimate by grouping by model, and then taking the year median per model."
   ]
  },
  {
   "cell_type": "code",
   "execution_count": 14,
   "metadata": {},
   "outputs": [
    {
     "data": {
      "text/plain": [
       "1                        ford f-150\n",
       "20                  chevrolet tahoe\n",
       "65                       ford f-150\n",
       "69                       ford f-150\n",
       "72                   subaru impreza\n",
       "                    ...            \n",
       "51464          ford f250 super duty\n",
       "51465                     gmc yukon\n",
       "51487                    ford f-150\n",
       "51488    chevrolet silverado 3500hd\n",
       "51508       chrysler town & country\n",
       "Name: model, Length: 3619, dtype: object"
      ]
     },
     "metadata": {},
     "output_type": "display_data"
    },
    {
     "data": {
      "text/markdown": [
       "\\# models: 100"
      ],
      "text/plain": [
       "<IPython.core.display.Markdown object>"
      ]
     },
     "metadata": {},
     "output_type": "display_data"
    }
   ],
   "source": [
    "models_missing_year = df.loc[df['model_year'].isna(), 'model']\n",
    "\n",
    "display(\n",
    "    models_missing_year,\n",
    "    md(f'\\# models: {models_missing_year.nunique()}'))"
   ]
  },
  {
   "cell_type": "code",
   "execution_count": 15,
   "metadata": {},
   "outputs": [
    {
     "data": {
      "text/html": [
       "<div>\n",
       "<style scoped>\n",
       "    .dataframe tbody tr th:only-of-type {\n",
       "        vertical-align: middle;\n",
       "    }\n",
       "\n",
       "    .dataframe tbody tr th {\n",
       "        vertical-align: top;\n",
       "    }\n",
       "\n",
       "    .dataframe thead th {\n",
       "        text-align: right;\n",
       "    }\n",
       "</style>\n",
       "<table border=\"1\" class=\"dataframe\">\n",
       "  <thead>\n",
       "    <tr style=\"text-align: right;\">\n",
       "      <th></th>\n",
       "      <th>model_year</th>\n",
       "    </tr>\n",
       "    <tr>\n",
       "      <th>model</th>\n",
       "      <th></th>\n",
       "    </tr>\n",
       "  </thead>\n",
       "  <tbody>\n",
       "    <tr>\n",
       "      <th>acura tl</th>\n",
       "      <td>2007.0</td>\n",
       "    </tr>\n",
       "    <tr>\n",
       "      <th>bmw x5</th>\n",
       "      <td>2010.0</td>\n",
       "    </tr>\n",
       "    <tr>\n",
       "      <th>buick enclave</th>\n",
       "      <td>2012.0</td>\n",
       "    </tr>\n",
       "    <tr>\n",
       "      <th>cadillac escalade</th>\n",
       "      <td>2009.0</td>\n",
       "    </tr>\n",
       "    <tr>\n",
       "      <th>chevrolet camaro</th>\n",
       "      <td>2013.0</td>\n",
       "    </tr>\n",
       "    <tr>\n",
       "      <th>...</th>\n",
       "      <td>...</td>\n",
       "    </tr>\n",
       "    <tr>\n",
       "      <th>toyota sienna</th>\n",
       "      <td>2008.0</td>\n",
       "    </tr>\n",
       "    <tr>\n",
       "      <th>toyota tacoma</th>\n",
       "      <td>2010.0</td>\n",
       "    </tr>\n",
       "    <tr>\n",
       "      <th>toyota tundra</th>\n",
       "      <td>2009.0</td>\n",
       "    </tr>\n",
       "    <tr>\n",
       "      <th>volkswagen jetta</th>\n",
       "      <td>2012.0</td>\n",
       "    </tr>\n",
       "    <tr>\n",
       "      <th>volkswagen passat</th>\n",
       "      <td>2013.0</td>\n",
       "    </tr>\n",
       "  </tbody>\n",
       "</table>\n",
       "<p>100 rows × 1 columns</p>\n",
       "</div>"
      ],
      "text/plain": [
       "                   model_year\n",
       "model                        \n",
       "acura tl               2007.0\n",
       "bmw x5                 2010.0\n",
       "buick enclave          2012.0\n",
       "cadillac escalade      2009.0\n",
       "chevrolet camaro       2013.0\n",
       "...                       ...\n",
       "toyota sienna          2008.0\n",
       "toyota tacoma          2010.0\n",
       "toyota tundra          2009.0\n",
       "volkswagen jetta       2012.0\n",
       "volkswagen passat      2013.0\n",
       "\n",
       "[100 rows x 1 columns]"
      ]
     },
     "metadata": {},
     "output_type": "display_data"
    },
    {
     "data": {
      "text/markdown": [
       "\\# models: 100"
      ],
      "text/plain": [
       "<IPython.core.display.Markdown object>"
      ]
     },
     "metadata": {},
     "output_type": "display_data"
    }
   ],
   "source": [
    "median_year_by_model = (\n",
    "    df[['model_year', 'model']]\n",
    "     .query(\"not model_year.isnull() and model in @models_missing_year\")\n",
    "     .groupby('model')\n",
    "     .median())\n",
    "\n",
    "display(\n",
    "    median_year_by_model,\n",
    "    md(f'\\# models: {len(median_year_by_model.index)}'))"
   ]
  },
  {
   "cell_type": "code",
   "execution_count": 16,
   "metadata": {},
   "outputs": [
    {
     "data": {
      "text/plain": [
       "0"
      ]
     },
     "execution_count": 16,
     "metadata": {},
     "output_type": "execute_result"
    }
   ],
   "source": [
    "id_model_year_fill = models_missing_year.apply(lambda x:median_year_by_model.loc[x]).squeeze()\n",
    "id_model_year_fill.isna().sum()"
   ]
  },
  {
   "cell_type": "code",
   "execution_count": 17,
   "metadata": {
    "scrolled": true
   },
   "outputs": [
    {
     "data": {
      "text/plain": [
       "0"
      ]
     },
     "execution_count": 17,
     "metadata": {},
     "output_type": "execute_result"
    }
   ],
   "source": [
    "df['model_year'].fillna(id_model_year_fill, inplace=True)\n",
    "df['model_year'].isna().sum()"
   ]
  },
  {
   "cell_type": "markdown",
   "metadata": {},
   "source": [
    "'model_year' missing values have been filled."
   ]
  },
  {
   "cell_type": "markdown",
   "metadata": {},
   "source": [
    "### cylinders <a class=\"anchor\" id=\"na_cylinders\">\n",
    "[back to Missing Values](#na_map)"
   ]
  },
  {
   "cell_type": "markdown",
   "metadata": {},
   "source": [
    "'cylinders' count is a dependant on a vehicle's model.  \n",
    "Can be estimated by grouping to model and model_year, and taking the mode (most frequent occurence) per group."
   ]
  },
  {
   "cell_type": "code",
   "execution_count": 18,
   "metadata": {},
   "outputs": [
    {
     "data": {
      "text/html": [
       "<div>\n",
       "<style scoped>\n",
       "    .dataframe tbody tr th:only-of-type {\n",
       "        vertical-align: middle;\n",
       "    }\n",
       "\n",
       "    .dataframe tbody tr th {\n",
       "        vertical-align: top;\n",
       "    }\n",
       "\n",
       "    .dataframe thead th {\n",
       "        text-align: right;\n",
       "    }\n",
       "</style>\n",
       "<table border=\"1\" class=\"dataframe\">\n",
       "  <thead>\n",
       "    <tr style=\"text-align: right;\">\n",
       "      <th></th>\n",
       "      <th>price</th>\n",
       "      <th>model_year</th>\n",
       "      <th>model</th>\n",
       "      <th>condition</th>\n",
       "      <th>cylinders</th>\n",
       "      <th>fuel</th>\n",
       "      <th>odometer</th>\n",
       "      <th>transmission</th>\n",
       "      <th>type</th>\n",
       "      <th>paint_color</th>\n",
       "      <th>is_4wd</th>\n",
       "      <th>date_posted</th>\n",
       "      <th>days_listed</th>\n",
       "    </tr>\n",
       "  </thead>\n",
       "  <tbody>\n",
       "    <tr>\n",
       "      <th>9</th>\n",
       "      <td>9200</td>\n",
       "      <td>2008.0</td>\n",
       "      <td>honda pilot</td>\n",
       "      <td>excellent</td>\n",
       "      <td>NaN</td>\n",
       "      <td>gas</td>\n",
       "      <td>147191.0</td>\n",
       "      <td>automatic</td>\n",
       "      <td>SUV</td>\n",
       "      <td>blue</td>\n",
       "      <td>1.0</td>\n",
       "      <td>2019-02-15</td>\n",
       "      <td>17</td>\n",
       "    </tr>\n",
       "    <tr>\n",
       "      <th>36</th>\n",
       "      <td>10499</td>\n",
       "      <td>2013.0</td>\n",
       "      <td>chrysler 300</td>\n",
       "      <td>good</td>\n",
       "      <td>NaN</td>\n",
       "      <td>gas</td>\n",
       "      <td>88042.0</td>\n",
       "      <td>automatic</td>\n",
       "      <td>sedan</td>\n",
       "      <td>NaN</td>\n",
       "      <td>NaN</td>\n",
       "      <td>2018-05-05</td>\n",
       "      <td>22</td>\n",
       "    </tr>\n",
       "    <tr>\n",
       "      <th>37</th>\n",
       "      <td>7500</td>\n",
       "      <td>2005.0</td>\n",
       "      <td>toyota tacoma</td>\n",
       "      <td>good</td>\n",
       "      <td>NaN</td>\n",
       "      <td>gas</td>\n",
       "      <td>160000.0</td>\n",
       "      <td>automatic</td>\n",
       "      <td>pickup</td>\n",
       "      <td>NaN</td>\n",
       "      <td>NaN</td>\n",
       "      <td>2018-07-22</td>\n",
       "      <td>44</td>\n",
       "    </tr>\n",
       "    <tr>\n",
       "      <th>59</th>\n",
       "      <td>5200</td>\n",
       "      <td>2006.0</td>\n",
       "      <td>toyota highlander</td>\n",
       "      <td>good</td>\n",
       "      <td>NaN</td>\n",
       "      <td>gas</td>\n",
       "      <td>186000.0</td>\n",
       "      <td>automatic</td>\n",
       "      <td>SUV</td>\n",
       "      <td>green</td>\n",
       "      <td>NaN</td>\n",
       "      <td>2018-12-20</td>\n",
       "      <td>2</td>\n",
       "    </tr>\n",
       "    <tr>\n",
       "      <th>63</th>\n",
       "      <td>30000</td>\n",
       "      <td>1966.0</td>\n",
       "      <td>ford mustang</td>\n",
       "      <td>excellent</td>\n",
       "      <td>NaN</td>\n",
       "      <td>gas</td>\n",
       "      <td>51000.0</td>\n",
       "      <td>manual</td>\n",
       "      <td>convertible</td>\n",
       "      <td>red</td>\n",
       "      <td>NaN</td>\n",
       "      <td>2019-01-23</td>\n",
       "      <td>17</td>\n",
       "    </tr>\n",
       "  </tbody>\n",
       "</table>\n",
       "</div>"
      ],
      "text/plain": [
       "    price  model_year              model  condition  cylinders fuel  odometer  \\\n",
       "9    9200      2008.0        honda pilot  excellent        NaN  gas  147191.0   \n",
       "36  10499      2013.0       chrysler 300       good        NaN  gas   88042.0   \n",
       "37   7500      2005.0      toyota tacoma       good        NaN  gas  160000.0   \n",
       "59   5200      2006.0  toyota highlander       good        NaN  gas  186000.0   \n",
       "63  30000      1966.0       ford mustang  excellent        NaN  gas   51000.0   \n",
       "\n",
       "   transmission         type paint_color  is_4wd date_posted  days_listed  \n",
       "9     automatic          SUV        blue     1.0  2019-02-15           17  \n",
       "36    automatic        sedan         NaN     NaN  2018-05-05           22  \n",
       "37    automatic       pickup         NaN     NaN  2018-07-22           44  \n",
       "59    automatic          SUV       green     NaN  2018-12-20            2  \n",
       "63       manual  convertible         red     NaN  2019-01-23           17  "
      ]
     },
     "metadata": {},
     "output_type": "display_data"
    },
    {
     "data": {
      "text/markdown": [
       "'cylinders' missing values: 5260 (10.21%)"
      ],
      "text/plain": [
       "<IPython.core.display.Markdown object>"
      ]
     },
     "metadata": {},
     "output_type": "display_data"
    }
   ],
   "source": [
    "display(df[df['cylinders'].isna()].head())\n",
    "missing_values_ratio('cylinders')"
   ]
  },
  {
   "cell_type": "code",
   "execution_count": 19,
   "metadata": {},
   "outputs": [
    {
     "data": {
      "text/html": [
       "<div>\n",
       "<style scoped>\n",
       "    .dataframe tbody tr th:only-of-type {\n",
       "        vertical-align: middle;\n",
       "    }\n",
       "\n",
       "    .dataframe tbody tr th {\n",
       "        vertical-align: top;\n",
       "    }\n",
       "\n",
       "    .dataframe thead th {\n",
       "        text-align: right;\n",
       "    }\n",
       "</style>\n",
       "<table border=\"1\" class=\"dataframe\">\n",
       "  <thead>\n",
       "    <tr style=\"text-align: right;\">\n",
       "      <th></th>\n",
       "      <th>model</th>\n",
       "      <th>model_year</th>\n",
       "    </tr>\n",
       "  </thead>\n",
       "  <tbody>\n",
       "    <tr>\n",
       "      <th>9</th>\n",
       "      <td>honda pilot</td>\n",
       "      <td>2008.0</td>\n",
       "    </tr>\n",
       "    <tr>\n",
       "      <th>36</th>\n",
       "      <td>chrysler 300</td>\n",
       "      <td>2013.0</td>\n",
       "    </tr>\n",
       "    <tr>\n",
       "      <th>37</th>\n",
       "      <td>toyota tacoma</td>\n",
       "      <td>2005.0</td>\n",
       "    </tr>\n",
       "    <tr>\n",
       "      <th>59</th>\n",
       "      <td>toyota highlander</td>\n",
       "      <td>2006.0</td>\n",
       "    </tr>\n",
       "    <tr>\n",
       "      <th>63</th>\n",
       "      <td>ford mustang</td>\n",
       "      <td>1966.0</td>\n",
       "    </tr>\n",
       "    <tr>\n",
       "      <th>...</th>\n",
       "      <td>...</td>\n",
       "      <td>...</td>\n",
       "    </tr>\n",
       "    <tr>\n",
       "      <th>51429</th>\n",
       "      <td>toyota camry</td>\n",
       "      <td>2004.0</td>\n",
       "    </tr>\n",
       "    <tr>\n",
       "      <th>51442</th>\n",
       "      <td>ford f150</td>\n",
       "      <td>2018.0</td>\n",
       "    </tr>\n",
       "    <tr>\n",
       "      <th>51460</th>\n",
       "      <td>ford fusion</td>\n",
       "      <td>2007.0</td>\n",
       "    </tr>\n",
       "    <tr>\n",
       "      <th>51477</th>\n",
       "      <td>acura tl</td>\n",
       "      <td>2007.0</td>\n",
       "    </tr>\n",
       "    <tr>\n",
       "      <th>51486</th>\n",
       "      <td>hyundai santa fe</td>\n",
       "      <td>2009.0</td>\n",
       "    </tr>\n",
       "  </tbody>\n",
       "</table>\n",
       "<p>5260 rows × 2 columns</p>\n",
       "</div>"
      ],
      "text/plain": [
       "                   model  model_year\n",
       "9            honda pilot      2008.0\n",
       "36          chrysler 300      2013.0\n",
       "37         toyota tacoma      2005.0\n",
       "59     toyota highlander      2006.0\n",
       "63          ford mustang      1966.0\n",
       "...                  ...         ...\n",
       "51429       toyota camry      2004.0\n",
       "51442          ford f150      2018.0\n",
       "51460        ford fusion      2007.0\n",
       "51477           acura tl      2007.0\n",
       "51486   hyundai santa fe      2009.0\n",
       "\n",
       "[5260 rows x 2 columns]"
      ]
     },
     "metadata": {},
     "output_type": "display_data"
    },
    {
     "data": {
      "text/markdown": [
       "\\# models: model         100\n",
       "model_year     51\n",
       "dtype: int64"
      ],
      "text/plain": [
       "<IPython.core.display.Markdown object>"
      ]
     },
     "metadata": {},
     "output_type": "display_data"
    }
   ],
   "source": [
    "models_missing_cylinders = df.loc[df['cylinders'].isna(), ['model', 'model_year']]\n",
    "\n",
    "display(\n",
    "    models_missing_cylinders,\n",
    "    md(f'\\# models: {models_missing_cylinders.nunique()}'))"
   ]
  },
  {
   "cell_type": "code",
   "execution_count": 20,
   "metadata": {},
   "outputs": [
    {
     "data": {
      "text/plain": [
       "9              honda pilot\n",
       "36            chrysler 300\n",
       "37           toyota tacoma\n",
       "59       toyota highlander\n",
       "63            ford mustang\n",
       "               ...        \n",
       "51429         toyota camry\n",
       "51442            ford f150\n",
       "51460          ford fusion\n",
       "51477             acura tl\n",
       "51486     hyundai santa fe\n",
       "Name: model, Length: 5260, dtype: object"
      ]
     },
     "execution_count": 20,
     "metadata": {},
     "output_type": "execute_result"
    }
   ],
   "source": [
    "models_missing_cylinders['model']"
   ]
  },
  {
   "cell_type": "code",
   "execution_count": 21,
   "metadata": {},
   "outputs": [
    {
     "data": {
      "text/html": [
       "<div>\n",
       "<style scoped>\n",
       "    .dataframe tbody tr th:only-of-type {\n",
       "        vertical-align: middle;\n",
       "    }\n",
       "\n",
       "    .dataframe tbody tr th {\n",
       "        vertical-align: top;\n",
       "    }\n",
       "\n",
       "    .dataframe thead th {\n",
       "        text-align: right;\n",
       "    }\n",
       "</style>\n",
       "<table border=\"1\" class=\"dataframe\">\n",
       "  <thead>\n",
       "    <tr style=\"text-align: right;\">\n",
       "      <th></th>\n",
       "      <th></th>\n",
       "      <th>cylinders</th>\n",
       "    </tr>\n",
       "    <tr>\n",
       "      <th>model</th>\n",
       "      <th>model_year</th>\n",
       "      <th></th>\n",
       "    </tr>\n",
       "  </thead>\n",
       "  <tbody>\n",
       "    <tr>\n",
       "      <th rowspan=\"5\" valign=\"top\">acura tl</th>\n",
       "      <th>1999.0</th>\n",
       "      <td>6.0</td>\n",
       "    </tr>\n",
       "    <tr>\n",
       "      <th>2001.0</th>\n",
       "      <td>6.0</td>\n",
       "    </tr>\n",
       "    <tr>\n",
       "      <th>2002.0</th>\n",
       "      <td>6.0</td>\n",
       "    </tr>\n",
       "    <tr>\n",
       "      <th>2003.0</th>\n",
       "      <td>6.0</td>\n",
       "    </tr>\n",
       "    <tr>\n",
       "      <th>2004.0</th>\n",
       "      <td>6.0</td>\n",
       "    </tr>\n",
       "    <tr>\n",
       "      <th>...</th>\n",
       "      <th>...</th>\n",
       "      <td>...</td>\n",
       "    </tr>\n",
       "    <tr>\n",
       "      <th rowspan=\"5\" valign=\"top\">volkswagen passat</th>\n",
       "      <th>2014.0</th>\n",
       "      <td>4.0</td>\n",
       "    </tr>\n",
       "    <tr>\n",
       "      <th>2015.0</th>\n",
       "      <td>4.0</td>\n",
       "    </tr>\n",
       "    <tr>\n",
       "      <th>2016.0</th>\n",
       "      <td>4.0</td>\n",
       "    </tr>\n",
       "    <tr>\n",
       "      <th>2017.0</th>\n",
       "      <td>4.0</td>\n",
       "    </tr>\n",
       "    <tr>\n",
       "      <th>2018.0</th>\n",
       "      <td>4.0</td>\n",
       "    </tr>\n",
       "  </tbody>\n",
       "</table>\n",
       "<p>2204 rows × 1 columns</p>\n",
       "</div>"
      ],
      "text/plain": [
       "                              cylinders\n",
       "model             model_year           \n",
       "acura tl          1999.0            6.0\n",
       "                  2001.0            6.0\n",
       "                  2002.0            6.0\n",
       "                  2003.0            6.0\n",
       "                  2004.0            6.0\n",
       "...                                 ...\n",
       "volkswagen passat 2014.0            4.0\n",
       "                  2015.0            4.0\n",
       "                  2016.0            4.0\n",
       "                  2017.0            4.0\n",
       "                  2018.0            4.0\n",
       "\n",
       "[2204 rows x 1 columns]"
      ]
     },
     "execution_count": 21,
     "metadata": {},
     "output_type": "execute_result"
    }
   ],
   "source": [
    "models_list = models_missing_cylinders['model']\n",
    "(df[['cylinders', 'model', 'model_year']]\n",
    "                           .query('not cylinders.isnull() and model in @models_list')\n",
    "                           .pivot_table(\n",
    "                               index=['model', 'model_year'],\n",
    "                               values='cylinders',\n",
    "                               aggfunc=lambda x:x.mode()[0]))"
   ]
  },
  {
   "cell_type": "code",
   "execution_count": 22,
   "metadata": {},
   "outputs": [
    {
     "data": {
      "text/html": [
       "<div>\n",
       "<style scoped>\n",
       "    .dataframe tbody tr th:only-of-type {\n",
       "        vertical-align: middle;\n",
       "    }\n",
       "\n",
       "    .dataframe tbody tr th {\n",
       "        vertical-align: top;\n",
       "    }\n",
       "\n",
       "    .dataframe thead th {\n",
       "        text-align: right;\n",
       "    }\n",
       "</style>\n",
       "<table border=\"1\" class=\"dataframe\">\n",
       "  <thead>\n",
       "    <tr style=\"text-align: right;\">\n",
       "      <th></th>\n",
       "      <th></th>\n",
       "      <th>cylinders</th>\n",
       "    </tr>\n",
       "    <tr>\n",
       "      <th>model</th>\n",
       "      <th>model_year</th>\n",
       "      <th></th>\n",
       "    </tr>\n",
       "  </thead>\n",
       "  <tbody>\n",
       "    <tr>\n",
       "      <th rowspan=\"5\" valign=\"top\">acura tl</th>\n",
       "      <th>1999.0</th>\n",
       "      <td>6.0</td>\n",
       "    </tr>\n",
       "    <tr>\n",
       "      <th>2001.0</th>\n",
       "      <td>6.0</td>\n",
       "    </tr>\n",
       "    <tr>\n",
       "      <th>2002.0</th>\n",
       "      <td>6.0</td>\n",
       "    </tr>\n",
       "    <tr>\n",
       "      <th>2003.0</th>\n",
       "      <td>6.0</td>\n",
       "    </tr>\n",
       "    <tr>\n",
       "      <th>2004.0</th>\n",
       "      <td>6.0</td>\n",
       "    </tr>\n",
       "    <tr>\n",
       "      <th>...</th>\n",
       "      <th>...</th>\n",
       "      <td>...</td>\n",
       "    </tr>\n",
       "    <tr>\n",
       "      <th rowspan=\"5\" valign=\"top\">volkswagen passat</th>\n",
       "      <th>2014.0</th>\n",
       "      <td>4.0</td>\n",
       "    </tr>\n",
       "    <tr>\n",
       "      <th>2015.0</th>\n",
       "      <td>4.0</td>\n",
       "    </tr>\n",
       "    <tr>\n",
       "      <th>2016.0</th>\n",
       "      <td>4.0</td>\n",
       "    </tr>\n",
       "    <tr>\n",
       "      <th>2017.0</th>\n",
       "      <td>4.0</td>\n",
       "    </tr>\n",
       "    <tr>\n",
       "      <th>2018.0</th>\n",
       "      <td>4.0</td>\n",
       "    </tr>\n",
       "  </tbody>\n",
       "</table>\n",
       "<p>2204 rows × 1 columns</p>\n",
       "</div>"
      ],
      "text/plain": [
       "                              cylinders\n",
       "model             model_year           \n",
       "acura tl          1999.0            6.0\n",
       "                  2001.0            6.0\n",
       "                  2002.0            6.0\n",
       "                  2003.0            6.0\n",
       "                  2004.0            6.0\n",
       "...                                 ...\n",
       "volkswagen passat 2014.0            4.0\n",
       "                  2015.0            4.0\n",
       "                  2016.0            4.0\n",
       "                  2017.0            4.0\n",
       "                  2018.0            4.0\n",
       "\n",
       "[2204 rows x 1 columns]"
      ]
     },
     "execution_count": 22,
     "metadata": {},
     "output_type": "execute_result"
    }
   ],
   "source": [
    "models_list = models_missing_cylinders['model']\n",
    "cylinders_by_year_model = (df[['cylinders', 'model', 'model_year']]\n",
    "                           .query('not cylinders.isnull() and model in @models_list')\n",
    "                           .pivot_table(\n",
    "                               index=['model', 'model_year'],\n",
    "                               values='cylinders',\n",
    "                               aggfunc=lambda x:x.mode()[0]))\n",
    "del models_list\n",
    "cylinders_by_year_model.columns = ['cylinders']\n",
    "cylinders_by_year_model"
   ]
  },
  {
   "cell_type": "code",
   "execution_count": 23,
   "metadata": {},
   "outputs": [
    {
     "data": {
      "text/plain": [
       "cylinders\n",
       "8.0          818\n",
       "6.0          750\n",
       "4.0          614\n",
       "10.0          12\n",
       "5.0           10\n",
       "dtype: int64"
      ]
     },
     "execution_count": 23,
     "metadata": {},
     "output_type": "execute_result"
    }
   ],
   "source": [
    "cylinders_by_year_model.value_counts()"
   ]
  },
  {
   "cell_type": "code",
   "execution_count": 24,
   "metadata": {},
   "outputs": [
    {
     "data": {
      "text/plain": [
       "8.0     15844\n",
       "6.0     15700\n",
       "4.0     13864\n",
       "10.0      549\n",
       "5.0       272\n",
       "3.0        34\n",
       "12.0        2\n",
       "Name: cylinders, dtype: int64"
      ]
     },
     "execution_count": 24,
     "metadata": {},
     "output_type": "execute_result"
    }
   ],
   "source": [
    "df['cylinders'].value_counts()"
   ]
  },
  {
   "cell_type": "code",
   "execution_count": 25,
   "metadata": {},
   "outputs": [],
   "source": [
    "def estimate_cylinders(row):\n",
    "    \"\"\"\n",
    "    Returns count of cylidners per model, based on model + year.\n",
    "    Falls back to the model's median of cylinders of all years.\n",
    "    \"\"\"\n",
    "    # print(row['model'], row['model_year']) # debug\n",
    "    \n",
    "    try:\n",
    "        return cylinders_by_year_model.loc[(row['model'], row['model_year']), 'cylinders']\n",
    "    except:\n",
    "        model = row['model']\n",
    "        return cylinders_by_year_model.query(\"model == @model\")['cylinders'].mode()[0]"
   ]
  },
  {
   "cell_type": "code",
   "execution_count": 26,
   "metadata": {},
   "outputs": [
    {
     "data": {
      "text/html": [
       "<div>\n",
       "<style scoped>\n",
       "    .dataframe tbody tr th:only-of-type {\n",
       "        vertical-align: middle;\n",
       "    }\n",
       "\n",
       "    .dataframe tbody tr th {\n",
       "        vertical-align: top;\n",
       "    }\n",
       "\n",
       "    .dataframe thead th {\n",
       "        text-align: right;\n",
       "    }\n",
       "</style>\n",
       "<table border=\"1\" class=\"dataframe\">\n",
       "  <thead>\n",
       "    <tr style=\"text-align: right;\">\n",
       "      <th></th>\n",
       "      <th>model</th>\n",
       "      <th>model_year</th>\n",
       "    </tr>\n",
       "  </thead>\n",
       "  <tbody>\n",
       "    <tr>\n",
       "      <th>9</th>\n",
       "      <td>honda pilot</td>\n",
       "      <td>2008.0</td>\n",
       "    </tr>\n",
       "    <tr>\n",
       "      <th>36</th>\n",
       "      <td>chrysler 300</td>\n",
       "      <td>2013.0</td>\n",
       "    </tr>\n",
       "    <tr>\n",
       "      <th>37</th>\n",
       "      <td>toyota tacoma</td>\n",
       "      <td>2005.0</td>\n",
       "    </tr>\n",
       "    <tr>\n",
       "      <th>59</th>\n",
       "      <td>toyota highlander</td>\n",
       "      <td>2006.0</td>\n",
       "    </tr>\n",
       "    <tr>\n",
       "      <th>63</th>\n",
       "      <td>ford mustang</td>\n",
       "      <td>1966.0</td>\n",
       "    </tr>\n",
       "    <tr>\n",
       "      <th>...</th>\n",
       "      <td>...</td>\n",
       "      <td>...</td>\n",
       "    </tr>\n",
       "    <tr>\n",
       "      <th>51429</th>\n",
       "      <td>toyota camry</td>\n",
       "      <td>2004.0</td>\n",
       "    </tr>\n",
       "    <tr>\n",
       "      <th>51442</th>\n",
       "      <td>ford f150</td>\n",
       "      <td>2018.0</td>\n",
       "    </tr>\n",
       "    <tr>\n",
       "      <th>51460</th>\n",
       "      <td>ford fusion</td>\n",
       "      <td>2007.0</td>\n",
       "    </tr>\n",
       "    <tr>\n",
       "      <th>51477</th>\n",
       "      <td>acura tl</td>\n",
       "      <td>2007.0</td>\n",
       "    </tr>\n",
       "    <tr>\n",
       "      <th>51486</th>\n",
       "      <td>hyundai santa fe</td>\n",
       "      <td>2009.0</td>\n",
       "    </tr>\n",
       "  </tbody>\n",
       "</table>\n",
       "<p>5260 rows × 2 columns</p>\n",
       "</div>"
      ],
      "text/plain": [
       "                   model  model_year\n",
       "9            honda pilot      2008.0\n",
       "36          chrysler 300      2013.0\n",
       "37         toyota tacoma      2005.0\n",
       "59     toyota highlander      2006.0\n",
       "63          ford mustang      1966.0\n",
       "...                  ...         ...\n",
       "51429       toyota camry      2004.0\n",
       "51442          ford f150      2018.0\n",
       "51460        ford fusion      2007.0\n",
       "51477           acura tl      2007.0\n",
       "51486   hyundai santa fe      2009.0\n",
       "\n",
       "[5260 rows x 2 columns]"
      ]
     },
     "execution_count": 26,
     "metadata": {},
     "output_type": "execute_result"
    }
   ],
   "source": [
    "models_missing_cylinders"
   ]
  },
  {
   "cell_type": "code",
   "execution_count": 27,
   "metadata": {},
   "outputs": [
    {
     "data": {
      "text/plain": [
       "0"
      ]
     },
     "execution_count": 27,
     "metadata": {},
     "output_type": "execute_result"
    }
   ],
   "source": [
    "id_cylinders_fill = models_missing_cylinders.apply(estimate_cylinders, axis=1)\n",
    "id_cylinders_fill.isna().sum()"
   ]
  },
  {
   "cell_type": "code",
   "execution_count": 28,
   "metadata": {},
   "outputs": [
    {
     "data": {
      "text/plain": [
       "6.0     1808\n",
       "8.0     1774\n",
       "4.0     1635\n",
       "5.0       22\n",
       "10.0      21\n",
       "dtype: int64"
      ]
     },
     "execution_count": 28,
     "metadata": {},
     "output_type": "execute_result"
    }
   ],
   "source": [
    "id_cylinders_fill.value_counts()"
   ]
  },
  {
   "cell_type": "code",
   "execution_count": 29,
   "metadata": {},
   "outputs": [
    {
     "data": {
      "text/markdown": [
       "values distribution _before_:"
      ],
      "text/plain": [
       "<IPython.core.display.Markdown object>"
      ]
     },
     "metadata": {},
     "output_type": "display_data"
    },
    {
     "data": {
      "text/plain": [
       "8.0     0.342462\n",
       "6.0     0.339349\n",
       "4.0     0.299665\n",
       "10.0    0.011866\n",
       "5.0     0.005879\n",
       "3.0     0.000735\n",
       "12.0    0.000043\n",
       "Name: cylinders, dtype: float64"
      ]
     },
     "metadata": {},
     "output_type": "display_data"
    }
   ],
   "source": [
    "display(\n",
    "    md('values distribution _before_:'),\n",
    "    df['cylinders'].value_counts(normalize=True))"
   ]
  },
  {
   "cell_type": "code",
   "execution_count": 30,
   "metadata": {
    "scrolled": false
   },
   "outputs": [
    {
     "data": {
      "text/plain": [
       "0"
      ]
     },
     "execution_count": 30,
     "metadata": {},
     "output_type": "execute_result"
    }
   ],
   "source": [
    "df['cylinders'].fillna(id_cylinders_fill, inplace=True)\n",
    "df['cylinders'].isna().sum()"
   ]
  },
  {
   "cell_type": "code",
   "execution_count": 31,
   "metadata": {},
   "outputs": [
    {
     "data": {
      "text/markdown": [
       "values distribution _after_:"
      ],
      "text/plain": [
       "<IPython.core.display.Markdown object>"
      ]
     },
     "metadata": {},
     "output_type": "display_data"
    },
    {
     "data": {
      "text/plain": [
       "8.0     0.341931\n",
       "6.0     0.339796\n",
       "4.0     0.300805\n",
       "10.0    0.011063\n",
       "5.0     0.005706\n",
       "3.0     0.000660\n",
       "12.0    0.000039\n",
       "Name: cylinders, dtype: float64"
      ]
     },
     "metadata": {},
     "output_type": "display_data"
    }
   ],
   "source": [
    "display(\n",
    "    md('values distribution _after_:'),\n",
    "    df['cylinders'].value_counts(normalize=True))"
   ]
  },
  {
   "cell_type": "markdown",
   "metadata": {},
   "source": [
    "Distribution was practically undisturbed, filled missing values successfully."
   ]
  },
  {
   "cell_type": "markdown",
   "metadata": {},
   "source": [
    "### odometer <a class=\"anchor\" id=\"na_odometer\">\n",
    "[back to Missing Values](#na_map)"
   ]
  },
  {
   "cell_type": "markdown",
   "metadata": {},
   "source": [
    "'odometer' values represent the distance traveled,  \n",
    "and is usually used by a potential buyer in order to estimate the \"wear & tear\" of the vehicle.  \n",
    "Estimating missing values by group model_year and condition."
   ]
  },
  {
   "cell_type": "code",
   "execution_count": 32,
   "metadata": {},
   "outputs": [
    {
     "data": {
      "text/html": [
       "<div>\n",
       "<style scoped>\n",
       "    .dataframe tbody tr th:only-of-type {\n",
       "        vertical-align: middle;\n",
       "    }\n",
       "\n",
       "    .dataframe tbody tr th {\n",
       "        vertical-align: top;\n",
       "    }\n",
       "\n",
       "    .dataframe thead th {\n",
       "        text-align: right;\n",
       "    }\n",
       "</style>\n",
       "<table border=\"1\" class=\"dataframe\">\n",
       "  <thead>\n",
       "    <tr style=\"text-align: right;\">\n",
       "      <th></th>\n",
       "      <th>price</th>\n",
       "      <th>model_year</th>\n",
       "      <th>model</th>\n",
       "      <th>condition</th>\n",
       "      <th>cylinders</th>\n",
       "      <th>fuel</th>\n",
       "      <th>odometer</th>\n",
       "      <th>transmission</th>\n",
       "      <th>type</th>\n",
       "      <th>paint_color</th>\n",
       "      <th>is_4wd</th>\n",
       "      <th>date_posted</th>\n",
       "      <th>days_listed</th>\n",
       "    </tr>\n",
       "  </thead>\n",
       "  <tbody>\n",
       "    <tr>\n",
       "      <th>3</th>\n",
       "      <td>1500</td>\n",
       "      <td>2003.0</td>\n",
       "      <td>ford f-150</td>\n",
       "      <td>fair</td>\n",
       "      <td>8.0</td>\n",
       "      <td>gas</td>\n",
       "      <td>NaN</td>\n",
       "      <td>automatic</td>\n",
       "      <td>pickup</td>\n",
       "      <td>NaN</td>\n",
       "      <td>NaN</td>\n",
       "      <td>2019-03-22</td>\n",
       "      <td>9</td>\n",
       "    </tr>\n",
       "    <tr>\n",
       "      <th>15</th>\n",
       "      <td>17990</td>\n",
       "      <td>2013.0</td>\n",
       "      <td>ram 1500</td>\n",
       "      <td>excellent</td>\n",
       "      <td>8.0</td>\n",
       "      <td>gas</td>\n",
       "      <td>NaN</td>\n",
       "      <td>automatic</td>\n",
       "      <td>pickup</td>\n",
       "      <td>red</td>\n",
       "      <td>1.0</td>\n",
       "      <td>2018-05-15</td>\n",
       "      <td>111</td>\n",
       "    </tr>\n",
       "    <tr>\n",
       "      <th>23</th>\n",
       "      <td>7500</td>\n",
       "      <td>2004.0</td>\n",
       "      <td>jeep wrangler</td>\n",
       "      <td>good</td>\n",
       "      <td>6.0</td>\n",
       "      <td>gas</td>\n",
       "      <td>NaN</td>\n",
       "      <td>automatic</td>\n",
       "      <td>SUV</td>\n",
       "      <td>red</td>\n",
       "      <td>1.0</td>\n",
       "      <td>2018-05-17</td>\n",
       "      <td>39</td>\n",
       "    </tr>\n",
       "    <tr>\n",
       "      <th>24</th>\n",
       "      <td>3950</td>\n",
       "      <td>2009.0</td>\n",
       "      <td>chrysler 200</td>\n",
       "      <td>excellent</td>\n",
       "      <td>4.0</td>\n",
       "      <td>gas</td>\n",
       "      <td>NaN</td>\n",
       "      <td>automatic</td>\n",
       "      <td>sedan</td>\n",
       "      <td>red</td>\n",
       "      <td>NaN</td>\n",
       "      <td>2018-06-11</td>\n",
       "      <td>40</td>\n",
       "    </tr>\n",
       "    <tr>\n",
       "      <th>25</th>\n",
       "      <td>11499</td>\n",
       "      <td>2017.0</td>\n",
       "      <td>chevrolet malibu</td>\n",
       "      <td>like new</td>\n",
       "      <td>4.0</td>\n",
       "      <td>gas</td>\n",
       "      <td>NaN</td>\n",
       "      <td>automatic</td>\n",
       "      <td>sedan</td>\n",
       "      <td>NaN</td>\n",
       "      <td>NaN</td>\n",
       "      <td>2018-07-26</td>\n",
       "      <td>43</td>\n",
       "    </tr>\n",
       "  </tbody>\n",
       "</table>\n",
       "</div>"
      ],
      "text/plain": [
       "    price  model_year             model  condition  cylinders fuel  odometer  \\\n",
       "3    1500      2003.0        ford f-150       fair        8.0  gas       NaN   \n",
       "15  17990      2013.0          ram 1500  excellent        8.0  gas       NaN   \n",
       "23   7500      2004.0     jeep wrangler       good        6.0  gas       NaN   \n",
       "24   3950      2009.0      chrysler 200  excellent        4.0  gas       NaN   \n",
       "25  11499      2017.0  chevrolet malibu   like new        4.0  gas       NaN   \n",
       "\n",
       "   transmission    type paint_color  is_4wd date_posted  days_listed  \n",
       "3     automatic  pickup         NaN     NaN  2019-03-22            9  \n",
       "15    automatic  pickup         red     1.0  2018-05-15          111  \n",
       "23    automatic     SUV         red     1.0  2018-05-17           39  \n",
       "24    automatic   sedan         red     NaN  2018-06-11           40  \n",
       "25    automatic   sedan         NaN     NaN  2018-07-26           43  "
      ]
     },
     "metadata": {},
     "output_type": "display_data"
    },
    {
     "data": {
      "text/markdown": [
       "'odometer' missing values: 7892 (15.32%)"
      ],
      "text/plain": [
       "<IPython.core.display.Markdown object>"
      ]
     },
     "metadata": {},
     "output_type": "display_data"
    }
   ],
   "source": [
    "display(df[df['odometer'].isna()].head())\n",
    "missing_values_ratio('odometer')"
   ]
  },
  {
   "cell_type": "code",
   "execution_count": 33,
   "metadata": {},
   "outputs": [
    {
     "data": {
      "text/plain": [
       "count     43633.000000\n",
       "mean     115553.461738\n",
       "std       65094.611341\n",
       "min           0.000000\n",
       "25%       70000.000000\n",
       "50%      113000.000000\n",
       "75%      155000.000000\n",
       "max      990000.000000\n",
       "Name: odometer, dtype: float64"
      ]
     },
     "execution_count": 33,
     "metadata": {},
     "output_type": "execute_result"
    }
   ],
   "source": [
    "df['odometer'].describe()"
   ]
  },
  {
   "cell_type": "code",
   "execution_count": 34,
   "metadata": {},
   "outputs": [
    {
     "data": {
      "text/html": [
       "<div>\n",
       "<style scoped>\n",
       "    .dataframe tbody tr th:only-of-type {\n",
       "        vertical-align: middle;\n",
       "    }\n",
       "\n",
       "    .dataframe tbody tr th {\n",
       "        vertical-align: top;\n",
       "    }\n",
       "\n",
       "    .dataframe thead th {\n",
       "        text-align: right;\n",
       "    }\n",
       "</style>\n",
       "<table border=\"1\" class=\"dataframe\">\n",
       "  <thead>\n",
       "    <tr style=\"text-align: right;\">\n",
       "      <th></th>\n",
       "      <th>condition</th>\n",
       "      <th>model_year</th>\n",
       "    </tr>\n",
       "  </thead>\n",
       "  <tbody>\n",
       "    <tr>\n",
       "      <th>3</th>\n",
       "      <td>fair</td>\n",
       "      <td>2003.0</td>\n",
       "    </tr>\n",
       "    <tr>\n",
       "      <th>15</th>\n",
       "      <td>excellent</td>\n",
       "      <td>2013.0</td>\n",
       "    </tr>\n",
       "    <tr>\n",
       "      <th>23</th>\n",
       "      <td>good</td>\n",
       "      <td>2004.0</td>\n",
       "    </tr>\n",
       "    <tr>\n",
       "      <th>24</th>\n",
       "      <td>excellent</td>\n",
       "      <td>2009.0</td>\n",
       "    </tr>\n",
       "    <tr>\n",
       "      <th>25</th>\n",
       "      <td>like new</td>\n",
       "      <td>2017.0</td>\n",
       "    </tr>\n",
       "    <tr>\n",
       "      <th>...</th>\n",
       "      <td>...</td>\n",
       "      <td>...</td>\n",
       "    </tr>\n",
       "    <tr>\n",
       "      <th>51498</th>\n",
       "      <td>excellent</td>\n",
       "      <td>2011.0</td>\n",
       "    </tr>\n",
       "    <tr>\n",
       "      <th>51507</th>\n",
       "      <td>good</td>\n",
       "      <td>2012.0</td>\n",
       "    </tr>\n",
       "    <tr>\n",
       "      <th>51516</th>\n",
       "      <td>good</td>\n",
       "      <td>2011.0</td>\n",
       "    </tr>\n",
       "    <tr>\n",
       "      <th>51519</th>\n",
       "      <td>excellent</td>\n",
       "      <td>2015.0</td>\n",
       "    </tr>\n",
       "    <tr>\n",
       "      <th>51524</th>\n",
       "      <td>good</td>\n",
       "      <td>2014.0</td>\n",
       "    </tr>\n",
       "  </tbody>\n",
       "</table>\n",
       "<p>7892 rows × 2 columns</p>\n",
       "</div>"
      ],
      "text/plain": [
       "       condition  model_year\n",
       "3           fair      2003.0\n",
       "15     excellent      2013.0\n",
       "23          good      2004.0\n",
       "24     excellent      2009.0\n",
       "25      like new      2017.0\n",
       "...          ...         ...\n",
       "51498  excellent      2011.0\n",
       "51507       good      2012.0\n",
       "51516       good      2011.0\n",
       "51519  excellent      2015.0\n",
       "51524       good      2014.0\n",
       "\n",
       "[7892 rows x 2 columns]"
      ]
     },
     "execution_count": 34,
     "metadata": {},
     "output_type": "execute_result"
    }
   ],
   "source": [
    "missing_odometer = df.loc[df['odometer'].isna(), ['condition', 'model_year']]\n",
    "missing_odometer"
   ]
  },
  {
   "cell_type": "code",
   "execution_count": 35,
   "metadata": {},
   "outputs": [
    {
     "data": {
      "text/html": [
       "<div>\n",
       "<style scoped>\n",
       "    .dataframe tbody tr th:only-of-type {\n",
       "        vertical-align: middle;\n",
       "    }\n",
       "\n",
       "    .dataframe tbody tr th {\n",
       "        vertical-align: top;\n",
       "    }\n",
       "\n",
       "    .dataframe thead th {\n",
       "        text-align: right;\n",
       "    }\n",
       "</style>\n",
       "<table border=\"1\" class=\"dataframe\">\n",
       "  <thead>\n",
       "    <tr style=\"text-align: right;\">\n",
       "      <th></th>\n",
       "      <th></th>\n",
       "      <th>odometer</th>\n",
       "    </tr>\n",
       "    <tr>\n",
       "      <th>condition</th>\n",
       "      <th>model_year</th>\n",
       "      <th></th>\n",
       "    </tr>\n",
       "  </thead>\n",
       "  <tbody>\n",
       "    <tr>\n",
       "      <th rowspan=\"5\" valign=\"top\">excellent</th>\n",
       "      <th>1936.0</th>\n",
       "      <td>30000.0</td>\n",
       "    </tr>\n",
       "    <tr>\n",
       "      <th>1954.0</th>\n",
       "      <td>3565.0</td>\n",
       "    </tr>\n",
       "    <tr>\n",
       "      <th>1955.0</th>\n",
       "      <td>47180.0</td>\n",
       "    </tr>\n",
       "    <tr>\n",
       "      <th>1958.0</th>\n",
       "      <td>3184.0</td>\n",
       "    </tr>\n",
       "    <tr>\n",
       "      <th>1960.0</th>\n",
       "      <td>16000.0</td>\n",
       "    </tr>\n",
       "    <tr>\n",
       "      <th>...</th>\n",
       "      <th>...</th>\n",
       "      <td>...</td>\n",
       "    </tr>\n",
       "    <tr>\n",
       "      <th rowspan=\"5\" valign=\"top\">salvage</th>\n",
       "      <th>2015.0</th>\n",
       "      <td>40975.0</td>\n",
       "    </tr>\n",
       "    <tr>\n",
       "      <th>2016.0</th>\n",
       "      <td>28000.0</td>\n",
       "    </tr>\n",
       "    <tr>\n",
       "      <th>2017.0</th>\n",
       "      <td>37501.0</td>\n",
       "    </tr>\n",
       "    <tr>\n",
       "      <th>2018.0</th>\n",
       "      <td>23810.5</td>\n",
       "    </tr>\n",
       "    <tr>\n",
       "      <th>2019.0</th>\n",
       "      <td>9621.0</td>\n",
       "    </tr>\n",
       "  </tbody>\n",
       "</table>\n",
       "<p>271 rows × 1 columns</p>\n",
       "</div>"
      ],
      "text/plain": [
       "                      odometer\n",
       "condition model_year          \n",
       "excellent 1936.0       30000.0\n",
       "          1954.0        3565.0\n",
       "          1955.0       47180.0\n",
       "          1958.0        3184.0\n",
       "          1960.0       16000.0\n",
       "...                        ...\n",
       "salvage   2015.0       40975.0\n",
       "          2016.0       28000.0\n",
       "          2017.0       37501.0\n",
       "          2018.0       23810.5\n",
       "          2019.0        9621.0\n",
       "\n",
       "[271 rows x 1 columns]"
      ]
     },
     "execution_count": 35,
     "metadata": {},
     "output_type": "execute_result"
    }
   ],
   "source": [
    "odometer_by_condition_year = (df[['odometer', 'condition', 'model_year']]\n",
    " .query('not odometer.isnull()')\n",
    " .pivot_table(\n",
    "     index=['condition', 'model_year'],\n",
    "     values='odometer',\n",
    " )\n",
    ")\n",
    "odometer_by_condition_year"
   ]
  },
  {
   "cell_type": "code",
   "execution_count": 36,
   "metadata": {},
   "outputs": [],
   "source": [
    "def estimate_odometer(row):\n",
    "    \"\"\"\n",
    "    Returns distance traveled based on condition + year.\n",
    "    Falls back to the condition's mean of distance traveled for all years.\n",
    "    \"\"\"\n",
    "    # print(row['model'], row['model_year']) # debug\n",
    "    \n",
    "    try:\n",
    "        return odometer_by_condition_year.loc[(row['condition'], row['model_year']), 'odometer']\n",
    "    except:\n",
    "        condition = row['condition']\n",
    "        return odometer_by_condition_year.query(\"condition == @condition\")['odometer'].mean()"
   ]
  },
  {
   "cell_type": "code",
   "execution_count": 37,
   "metadata": {},
   "outputs": [
    {
     "data": {
      "text/plain": [
       "0"
      ]
     },
     "execution_count": 37,
     "metadata": {},
     "output_type": "execute_result"
    }
   ],
   "source": [
    "id_odometer_fill = missing_odometer.apply(estimate_odometer, axis=1)\n",
    "id_odometer_fill.isna().sum()"
   ]
  },
  {
   "cell_type": "code",
   "execution_count": 38,
   "metadata": {},
   "outputs": [
    {
     "data": {
      "text/plain": [
       "count      7892.000000\n",
       "mean     115500.540880\n",
       "std       40903.973443\n",
       "min        3028.000000\n",
       "25%       94088.469538\n",
       "50%      120704.537305\n",
       "75%      146379.177215\n",
       "max      253480.000000\n",
       "dtype: float64"
      ]
     },
     "execution_count": 38,
     "metadata": {},
     "output_type": "execute_result"
    }
   ],
   "source": [
    "id_odometer_fill.describe()"
   ]
  },
  {
   "cell_type": "code",
   "execution_count": 39,
   "metadata": {},
   "outputs": [
    {
     "data": {
      "text/plain": [
       "count     43633.000000\n",
       "mean     115553.461738\n",
       "std       65094.611341\n",
       "min           0.000000\n",
       "25%       70000.000000\n",
       "50%      113000.000000\n",
       "75%      155000.000000\n",
       "max      990000.000000\n",
       "Name: odometer, dtype: float64"
      ]
     },
     "execution_count": 39,
     "metadata": {},
     "output_type": "execute_result"
    }
   ],
   "source": [
    "df['odometer'].describe()"
   ]
  },
  {
   "cell_type": "markdown",
   "metadata": {},
   "source": [
    "The statistical distribution looks similar, confident filling in generated values."
   ]
  },
  {
   "cell_type": "code",
   "execution_count": 40,
   "metadata": {
    "scrolled": true
   },
   "outputs": [
    {
     "data": {
      "text/plain": [
       "0"
      ]
     },
     "execution_count": 40,
     "metadata": {},
     "output_type": "execute_result"
    }
   ],
   "source": [
    "df['odometer'].fillna(id_odometer_fill, inplace=True)\n",
    "df['odometer'].isna().sum()"
   ]
  },
  {
   "cell_type": "markdown",
   "metadata": {},
   "source": [
    "Missing values filled successfully."
   ]
  },
  {
   "cell_type": "markdown",
   "metadata": {},
   "source": [
    "### paint_color <a class=\"anchor\" id=\"na_paint_color\">\n",
    "[back to Missing Values](#na_map)"
   ]
  },
  {
   "cell_type": "code",
   "execution_count": 41,
   "metadata": {},
   "outputs": [
    {
     "data": {
      "text/html": [
       "<div>\n",
       "<style scoped>\n",
       "    .dataframe tbody tr th:only-of-type {\n",
       "        vertical-align: middle;\n",
       "    }\n",
       "\n",
       "    .dataframe tbody tr th {\n",
       "        vertical-align: top;\n",
       "    }\n",
       "\n",
       "    .dataframe thead th {\n",
       "        text-align: right;\n",
       "    }\n",
       "</style>\n",
       "<table border=\"1\" class=\"dataframe\">\n",
       "  <thead>\n",
       "    <tr style=\"text-align: right;\">\n",
       "      <th></th>\n",
       "      <th>price</th>\n",
       "      <th>model_year</th>\n",
       "      <th>model</th>\n",
       "      <th>condition</th>\n",
       "      <th>cylinders</th>\n",
       "      <th>fuel</th>\n",
       "      <th>odometer</th>\n",
       "      <th>transmission</th>\n",
       "      <th>type</th>\n",
       "      <th>paint_color</th>\n",
       "      <th>is_4wd</th>\n",
       "      <th>date_posted</th>\n",
       "      <th>days_listed</th>\n",
       "    </tr>\n",
       "  </thead>\n",
       "  <tbody>\n",
       "    <tr>\n",
       "      <th>0</th>\n",
       "      <td>9400</td>\n",
       "      <td>2011.0</td>\n",
       "      <td>bmw x5</td>\n",
       "      <td>good</td>\n",
       "      <td>6.0</td>\n",
       "      <td>gas</td>\n",
       "      <td>145000.000000</td>\n",
       "      <td>automatic</td>\n",
       "      <td>SUV</td>\n",
       "      <td>NaN</td>\n",
       "      <td>1.0</td>\n",
       "      <td>2018-06-23</td>\n",
       "      <td>19</td>\n",
       "    </tr>\n",
       "    <tr>\n",
       "      <th>3</th>\n",
       "      <td>1500</td>\n",
       "      <td>2003.0</td>\n",
       "      <td>ford f-150</td>\n",
       "      <td>fair</td>\n",
       "      <td>8.0</td>\n",
       "      <td>gas</td>\n",
       "      <td>202621.854167</td>\n",
       "      <td>automatic</td>\n",
       "      <td>pickup</td>\n",
       "      <td>NaN</td>\n",
       "      <td>NaN</td>\n",
       "      <td>2019-03-22</td>\n",
       "      <td>9</td>\n",
       "    </tr>\n",
       "    <tr>\n",
       "      <th>8</th>\n",
       "      <td>11500</td>\n",
       "      <td>2012.0</td>\n",
       "      <td>kia sorento</td>\n",
       "      <td>excellent</td>\n",
       "      <td>4.0</td>\n",
       "      <td>gas</td>\n",
       "      <td>104174.000000</td>\n",
       "      <td>automatic</td>\n",
       "      <td>SUV</td>\n",
       "      <td>NaN</td>\n",
       "      <td>1.0</td>\n",
       "      <td>2018-07-16</td>\n",
       "      <td>19</td>\n",
       "    </tr>\n",
       "    <tr>\n",
       "      <th>12</th>\n",
       "      <td>18990</td>\n",
       "      <td>2012.0</td>\n",
       "      <td>ram 1500</td>\n",
       "      <td>excellent</td>\n",
       "      <td>8.0</td>\n",
       "      <td>gas</td>\n",
       "      <td>140742.000000</td>\n",
       "      <td>automatic</td>\n",
       "      <td>pickup</td>\n",
       "      <td>NaN</td>\n",
       "      <td>1.0</td>\n",
       "      <td>2019-04-02</td>\n",
       "      <td>37</td>\n",
       "    </tr>\n",
       "    <tr>\n",
       "      <th>21</th>\n",
       "      <td>5250</td>\n",
       "      <td>2007.0</td>\n",
       "      <td>toyota rav4</td>\n",
       "      <td>good</td>\n",
       "      <td>6.0</td>\n",
       "      <td>gas</td>\n",
       "      <td>154000.000000</td>\n",
       "      <td>automatic</td>\n",
       "      <td>SUV</td>\n",
       "      <td>NaN</td>\n",
       "      <td>NaN</td>\n",
       "      <td>2018-08-22</td>\n",
       "      <td>8</td>\n",
       "    </tr>\n",
       "  </tbody>\n",
       "</table>\n",
       "</div>"
      ],
      "text/plain": [
       "    price  model_year        model  condition  cylinders fuel       odometer  \\\n",
       "0    9400      2011.0       bmw x5       good        6.0  gas  145000.000000   \n",
       "3    1500      2003.0   ford f-150       fair        8.0  gas  202621.854167   \n",
       "8   11500      2012.0  kia sorento  excellent        4.0  gas  104174.000000   \n",
       "12  18990      2012.0     ram 1500  excellent        8.0  gas  140742.000000   \n",
       "21   5250      2007.0  toyota rav4       good        6.0  gas  154000.000000   \n",
       "\n",
       "   transmission    type paint_color  is_4wd date_posted  days_listed  \n",
       "0     automatic     SUV         NaN     1.0  2018-06-23           19  \n",
       "3     automatic  pickup         NaN     NaN  2019-03-22            9  \n",
       "8     automatic     SUV         NaN     1.0  2018-07-16           19  \n",
       "12    automatic  pickup         NaN     1.0  2019-04-02           37  \n",
       "21    automatic     SUV         NaN     NaN  2018-08-22            8  "
      ]
     },
     "metadata": {},
     "output_type": "display_data"
    },
    {
     "data": {
      "text/markdown": [
       "'paint_color' missing values: 9267 (17.99%)"
      ],
      "text/plain": [
       "<IPython.core.display.Markdown object>"
      ]
     },
     "metadata": {},
     "output_type": "display_data"
    }
   ],
   "source": [
    "display(df[df['paint_color'].isna()].head())\n",
    "missing_values_ratio('paint_color')"
   ]
  },
  {
   "cell_type": "code",
   "execution_count": 42,
   "metadata": {},
   "outputs": [
    {
     "data": {
      "text/plain": [
       "white     10029\n",
       "black      7692\n",
       "silver     6244\n",
       "grey       5037\n",
       "blue       4475\n",
       "red        4421\n",
       "green      1396\n",
       "brown      1223\n",
       "custom     1153\n",
       "yellow      255\n",
       "orange      231\n",
       "purple      102\n",
       "Name: paint_color, dtype: int64"
      ]
     },
     "execution_count": 42,
     "metadata": {},
     "output_type": "execute_result"
    }
   ],
   "source": [
    "df['paint_color'].value_counts()"
   ]
  },
  {
   "cell_type": "code",
   "execution_count": 43,
   "metadata": {},
   "outputs": [
    {
     "data": {
      "text/html": [
       "<div>\n",
       "<style scoped>\n",
       "    .dataframe tbody tr th:only-of-type {\n",
       "        vertical-align: middle;\n",
       "    }\n",
       "\n",
       "    .dataframe tbody tr th {\n",
       "        vertical-align: top;\n",
       "    }\n",
       "\n",
       "    .dataframe thead th {\n",
       "        text-align: right;\n",
       "    }\n",
       "</style>\n",
       "<table border=\"1\" class=\"dataframe\">\n",
       "  <thead>\n",
       "    <tr style=\"text-align: right;\">\n",
       "      <th></th>\n",
       "      <th>model</th>\n",
       "      <th>model_year</th>\n",
       "    </tr>\n",
       "  </thead>\n",
       "  <tbody>\n",
       "    <tr>\n",
       "      <th>0</th>\n",
       "      <td>bmw x5</td>\n",
       "      <td>2011.0</td>\n",
       "    </tr>\n",
       "    <tr>\n",
       "      <th>3</th>\n",
       "      <td>ford f-150</td>\n",
       "      <td>2003.0</td>\n",
       "    </tr>\n",
       "    <tr>\n",
       "      <th>8</th>\n",
       "      <td>kia sorento</td>\n",
       "      <td>2012.0</td>\n",
       "    </tr>\n",
       "    <tr>\n",
       "      <th>12</th>\n",
       "      <td>ram 1500</td>\n",
       "      <td>2012.0</td>\n",
       "    </tr>\n",
       "    <tr>\n",
       "      <th>21</th>\n",
       "      <td>toyota rav4</td>\n",
       "      <td>2007.0</td>\n",
       "    </tr>\n",
       "    <tr>\n",
       "      <th>...</th>\n",
       "      <td>...</td>\n",
       "      <td>...</td>\n",
       "    </tr>\n",
       "    <tr>\n",
       "      <th>51502</th>\n",
       "      <td>chevrolet equinox</td>\n",
       "      <td>2011.0</td>\n",
       "    </tr>\n",
       "    <tr>\n",
       "      <th>51503</th>\n",
       "      <td>chevrolet malibu</td>\n",
       "      <td>2011.0</td>\n",
       "    </tr>\n",
       "    <tr>\n",
       "      <th>51506</th>\n",
       "      <td>ford f150 supercrew cab xlt</td>\n",
       "      <td>2017.0</td>\n",
       "    </tr>\n",
       "    <tr>\n",
       "      <th>51519</th>\n",
       "      <td>honda accord</td>\n",
       "      <td>2015.0</td>\n",
       "    </tr>\n",
       "    <tr>\n",
       "      <th>51524</th>\n",
       "      <td>nissan altima</td>\n",
       "      <td>2014.0</td>\n",
       "    </tr>\n",
       "  </tbody>\n",
       "</table>\n",
       "<p>9267 rows × 2 columns</p>\n",
       "</div>"
      ],
      "text/plain": [
       "                             model  model_year\n",
       "0                           bmw x5      2011.0\n",
       "3                       ford f-150      2003.0\n",
       "8                      kia sorento      2012.0\n",
       "12                        ram 1500      2012.0\n",
       "21                     toyota rav4      2007.0\n",
       "...                            ...         ...\n",
       "51502            chevrolet equinox      2011.0\n",
       "51503             chevrolet malibu      2011.0\n",
       "51506  ford f150 supercrew cab xlt      2017.0\n",
       "51519                 honda accord      2015.0\n",
       "51524                nissan altima      2014.0\n",
       "\n",
       "[9267 rows x 2 columns]"
      ]
     },
     "execution_count": 43,
     "metadata": {},
     "output_type": "execute_result"
    }
   ],
   "source": [
    "missing_paint_color = df.loc[df['paint_color'].isna(), ['model', 'model_year']]\n",
    "missing_paint_color"
   ]
  },
  {
   "cell_type": "code",
   "execution_count": 44,
   "metadata": {},
   "outputs": [
    {
     "data": {
      "text/html": [
       "<div>\n",
       "<style scoped>\n",
       "    .dataframe tbody tr th:only-of-type {\n",
       "        vertical-align: middle;\n",
       "    }\n",
       "\n",
       "    .dataframe tbody tr th {\n",
       "        vertical-align: top;\n",
       "    }\n",
       "\n",
       "    .dataframe thead th {\n",
       "        text-align: right;\n",
       "    }\n",
       "</style>\n",
       "<table border=\"1\" class=\"dataframe\">\n",
       "  <thead>\n",
       "    <tr style=\"text-align: right;\">\n",
       "      <th></th>\n",
       "      <th></th>\n",
       "      <th></th>\n",
       "      <th>paint_color</th>\n",
       "    </tr>\n",
       "    <tr>\n",
       "      <th>model</th>\n",
       "      <th>model_year</th>\n",
       "      <th></th>\n",
       "      <th></th>\n",
       "    </tr>\n",
       "  </thead>\n",
       "  <tbody>\n",
       "    <tr>\n",
       "      <th rowspan=\"5\" valign=\"top\">acura tl</th>\n",
       "      <th rowspan=\"3\" valign=\"top\">1999.0</th>\n",
       "      <th>grey</th>\n",
       "      <td>1</td>\n",
       "    </tr>\n",
       "    <tr>\n",
       "      <th>blue</th>\n",
       "      <td>1</td>\n",
       "    </tr>\n",
       "    <tr>\n",
       "      <th>black</th>\n",
       "      <td>1</td>\n",
       "    </tr>\n",
       "    <tr>\n",
       "      <th rowspan=\"2\" valign=\"top\">2001.0</th>\n",
       "      <th>silver</th>\n",
       "      <td>2</td>\n",
       "    </tr>\n",
       "    <tr>\n",
       "      <th>black</th>\n",
       "      <td>2</td>\n",
       "    </tr>\n",
       "    <tr>\n",
       "      <th>...</th>\n",
       "      <th>...</th>\n",
       "      <th>...</th>\n",
       "      <td>...</td>\n",
       "    </tr>\n",
       "    <tr>\n",
       "      <th rowspan=\"5\" valign=\"top\">volkswagen passat</th>\n",
       "      <th>2016.0</th>\n",
       "      <th>blue</th>\n",
       "      <td>1</td>\n",
       "    </tr>\n",
       "    <tr>\n",
       "      <th rowspan=\"4\" valign=\"top\">2017.0</th>\n",
       "      <th>white</th>\n",
       "      <td>2</td>\n",
       "    </tr>\n",
       "    <tr>\n",
       "      <th>grey</th>\n",
       "      <td>1</td>\n",
       "    </tr>\n",
       "    <tr>\n",
       "      <th>blue</th>\n",
       "      <td>1</td>\n",
       "    </tr>\n",
       "    <tr>\n",
       "      <th>black</th>\n",
       "      <td>1</td>\n",
       "    </tr>\n",
       "  </tbody>\n",
       "</table>\n",
       "<p>10245 rows × 1 columns</p>\n",
       "</div>"
      ],
      "text/plain": [
       "                                     paint_color\n",
       "model             model_year                    \n",
       "acura tl          1999.0     grey              1\n",
       "                             blue              1\n",
       "                             black             1\n",
       "                  2001.0     silver            2\n",
       "                             black             2\n",
       "...                                          ...\n",
       "volkswagen passat 2016.0     blue              1\n",
       "                  2017.0     white             2\n",
       "                             grey              1\n",
       "                             blue              1\n",
       "                             black             1\n",
       "\n",
       "[10245 rows x 1 columns]"
      ]
     },
     "execution_count": 44,
     "metadata": {},
     "output_type": "execute_result"
    }
   ],
   "source": [
    "color_by_year_model = (\n",
    "    df[['model', 'model_year', 'paint_color']]\n",
    "     .query('not paint_color.isnull()')\n",
    "     .groupby(['model', 'model_year'])\n",
    "    ).apply(lambda x:x['paint_color'].value_counts()).to_frame()\n",
    "color_by_year_model.columns = ['paint_color']\n",
    "color_by_year_model"
   ]
  },
  {
   "cell_type": "markdown",
   "metadata": {},
   "source": [
    "There is not a single clear choice for a color of a specific model and year,  \n",
    "filling in NaN values with a generic 'unknown' label."
   ]
  },
  {
   "cell_type": "code",
   "execution_count": 45,
   "metadata": {},
   "outputs": [
    {
     "data": {
      "text/plain": [
       "0"
      ]
     },
     "execution_count": 45,
     "metadata": {},
     "output_type": "execute_result"
    }
   ],
   "source": [
    "df['paint_color'].fillna('unknown', inplace=True)\n",
    "df['paint_color'].isna().sum()"
   ]
  },
  {
   "cell_type": "markdown",
   "metadata": {},
   "source": [
    "### is_4wd <a class=\"anchor\" id=\"na_is_4wd\">\n",
    "[back to Missing Values](#na_map)"
   ]
  },
  {
   "cell_type": "code",
   "execution_count": 46,
   "metadata": {},
   "outputs": [
    {
     "data": {
      "text/html": [
       "<div>\n",
       "<style scoped>\n",
       "    .dataframe tbody tr th:only-of-type {\n",
       "        vertical-align: middle;\n",
       "    }\n",
       "\n",
       "    .dataframe tbody tr th {\n",
       "        vertical-align: top;\n",
       "    }\n",
       "\n",
       "    .dataframe thead th {\n",
       "        text-align: right;\n",
       "    }\n",
       "</style>\n",
       "<table border=\"1\" class=\"dataframe\">\n",
       "  <thead>\n",
       "    <tr style=\"text-align: right;\">\n",
       "      <th></th>\n",
       "      <th>price</th>\n",
       "      <th>model_year</th>\n",
       "      <th>model</th>\n",
       "      <th>condition</th>\n",
       "      <th>cylinders</th>\n",
       "      <th>fuel</th>\n",
       "      <th>odometer</th>\n",
       "      <th>transmission</th>\n",
       "      <th>type</th>\n",
       "      <th>paint_color</th>\n",
       "      <th>is_4wd</th>\n",
       "      <th>date_posted</th>\n",
       "      <th>days_listed</th>\n",
       "    </tr>\n",
       "  </thead>\n",
       "  <tbody>\n",
       "    <tr>\n",
       "      <th>2</th>\n",
       "      <td>5500</td>\n",
       "      <td>2013.0</td>\n",
       "      <td>hyundai sonata</td>\n",
       "      <td>like new</td>\n",
       "      <td>4.0</td>\n",
       "      <td>gas</td>\n",
       "      <td>110000.000000</td>\n",
       "      <td>automatic</td>\n",
       "      <td>sedan</td>\n",
       "      <td>red</td>\n",
       "      <td>NaN</td>\n",
       "      <td>2019-02-07</td>\n",
       "      <td>79</td>\n",
       "    </tr>\n",
       "    <tr>\n",
       "      <th>3</th>\n",
       "      <td>1500</td>\n",
       "      <td>2003.0</td>\n",
       "      <td>ford f-150</td>\n",
       "      <td>fair</td>\n",
       "      <td>8.0</td>\n",
       "      <td>gas</td>\n",
       "      <td>202621.854167</td>\n",
       "      <td>automatic</td>\n",
       "      <td>pickup</td>\n",
       "      <td>unknown</td>\n",
       "      <td>NaN</td>\n",
       "      <td>2019-03-22</td>\n",
       "      <td>9</td>\n",
       "    </tr>\n",
       "    <tr>\n",
       "      <th>4</th>\n",
       "      <td>14900</td>\n",
       "      <td>2017.0</td>\n",
       "      <td>chrysler 200</td>\n",
       "      <td>excellent</td>\n",
       "      <td>4.0</td>\n",
       "      <td>gas</td>\n",
       "      <td>80903.000000</td>\n",
       "      <td>automatic</td>\n",
       "      <td>sedan</td>\n",
       "      <td>black</td>\n",
       "      <td>NaN</td>\n",
       "      <td>2019-04-02</td>\n",
       "      <td>28</td>\n",
       "    </tr>\n",
       "    <tr>\n",
       "      <th>6</th>\n",
       "      <td>12990</td>\n",
       "      <td>2015.0</td>\n",
       "      <td>toyota camry</td>\n",
       "      <td>excellent</td>\n",
       "      <td>4.0</td>\n",
       "      <td>gas</td>\n",
       "      <td>79212.000000</td>\n",
       "      <td>automatic</td>\n",
       "      <td>sedan</td>\n",
       "      <td>white</td>\n",
       "      <td>NaN</td>\n",
       "      <td>2018-12-27</td>\n",
       "      <td>73</td>\n",
       "    </tr>\n",
       "    <tr>\n",
       "      <th>11</th>\n",
       "      <td>8990</td>\n",
       "      <td>2012.0</td>\n",
       "      <td>honda accord</td>\n",
       "      <td>excellent</td>\n",
       "      <td>4.0</td>\n",
       "      <td>gas</td>\n",
       "      <td>111142.000000</td>\n",
       "      <td>automatic</td>\n",
       "      <td>sedan</td>\n",
       "      <td>grey</td>\n",
       "      <td>NaN</td>\n",
       "      <td>2019-03-28</td>\n",
       "      <td>29</td>\n",
       "    </tr>\n",
       "  </tbody>\n",
       "</table>\n",
       "</div>"
      ],
      "text/plain": [
       "    price  model_year           model  condition  cylinders fuel  \\\n",
       "2    5500      2013.0  hyundai sonata   like new        4.0  gas   \n",
       "3    1500      2003.0      ford f-150       fair        8.0  gas   \n",
       "4   14900      2017.0    chrysler 200  excellent        4.0  gas   \n",
       "6   12990      2015.0    toyota camry  excellent        4.0  gas   \n",
       "11   8990      2012.0    honda accord  excellent        4.0  gas   \n",
       "\n",
       "         odometer transmission    type paint_color  is_4wd date_posted  \\\n",
       "2   110000.000000    automatic   sedan         red     NaN  2019-02-07   \n",
       "3   202621.854167    automatic  pickup     unknown     NaN  2019-03-22   \n",
       "4    80903.000000    automatic   sedan       black     NaN  2019-04-02   \n",
       "6    79212.000000    automatic   sedan       white     NaN  2018-12-27   \n",
       "11  111142.000000    automatic   sedan        grey     NaN  2019-03-28   \n",
       "\n",
       "    days_listed  \n",
       "2            79  \n",
       "3             9  \n",
       "4            28  \n",
       "6            73  \n",
       "11           29  "
      ]
     },
     "metadata": {},
     "output_type": "display_data"
    },
    {
     "data": {
      "text/markdown": [
       "'is_4wd' missing values: 25953 (50.37%)"
      ],
      "text/plain": [
       "<IPython.core.display.Markdown object>"
      ]
     },
     "metadata": {},
     "output_type": "display_data"
    }
   ],
   "source": [
    "display(df[df['is_4wd'].isna()].head())\n",
    "missing_values_ratio('is_4wd')"
   ]
  },
  {
   "cell_type": "code",
   "execution_count": 47,
   "metadata": {},
   "outputs": [
    {
     "data": {
      "text/plain": [
       "1.0    25572\n",
       "Name: is_4wd, dtype: int64"
      ]
     },
     "execution_count": 47,
     "metadata": {},
     "output_type": "execute_result"
    }
   ],
   "source": [
    "df['is_4wd'].value_counts()"
   ]
  },
  {
   "cell_type": "markdown",
   "metadata": {},
   "source": [
    "It looks like there is only a single value for 'is_4wd':  1 (True).  \n",
    "NaN values should probably be 0 instead (complimentary of boolean type),  \n",
    "appears to be a technical error which should be filled as a Bug Report to the Technical team's responsible party (i.e. data engineers, etc..)."
   ]
  },
  {
   "cell_type": "code",
   "execution_count": 48,
   "metadata": {
    "scrolled": true
   },
   "outputs": [
    {
     "data": {
      "text/plain": [
       "0"
      ]
     },
     "execution_count": 48,
     "metadata": {},
     "output_type": "execute_result"
    }
   ],
   "source": [
    "df['is_4wd'].fillna(0, inplace=True)\n",
    "df['is_4wd'].isna().sum()"
   ]
  },
  {
   "cell_type": "markdown",
   "metadata": {},
   "source": [
    "#### Missing values conclusion"
   ]
  },
  {
   "cell_type": "code",
   "execution_count": 49,
   "metadata": {},
   "outputs": [
    {
     "data": {
      "text/plain": [
       "price           0\n",
       "model_year      0\n",
       "model           0\n",
       "condition       0\n",
       "cylinders       0\n",
       "fuel            0\n",
       "odometer        0\n",
       "transmission    0\n",
       "type            0\n",
       "paint_color     0\n",
       "is_4wd          0\n",
       "date_posted     0\n",
       "days_listed     0\n",
       "dtype: int64"
      ]
     },
     "execution_count": 49,
     "metadata": {},
     "output_type": "execute_result"
    }
   ],
   "source": [
    "df.isna().sum()"
   ]
  },
  {
   "cell_type": "markdown",
   "metadata": {},
   "source": [
    "All missing values have been filled, ready to continue."
   ]
  },
  {
   "cell_type": "markdown",
   "metadata": {},
   "source": [
    "<div class=\"alert alert-block alert-success\">\n",
    "    <h2>Reviewer's commentary <a class=\"tocSkip\"></h2>\n",
    "    <br/>\n",
    "<b>Well done!👍:</b> \n",
    "\n",
    "Daniel, ok, I agree with your strategy of dealing with missing values in the data.\n",
    "        \n",
    "        \n",
    "Some thoughts about the possinble strategies of filling in missing values. \n",
    "        \n",
    "Columns you have tried to preprocess have numeric data, so we can study their correlation with the categorical variables from the dataset.\n",
    "\n",
    "It would be reasonable to assume that the mileage and price correlate with the condition of the vehicle, and the number of cylinders and year with its model. And we can replace missing values with the medians, grouping the data by these parameters.\n",
    "    \n",
    "One more way is to build the correlation matrix, check what factors are correlated and fill in the missing values based on correlation and grouping methods.\n",
    "    \n",
    "Filling in missing values with simply a median or mean by a column is a rather risky strategy and is only acceptable for cases where no more than 10% of the data is missing in our dataframe. The risk is that such an approach can lead to distortion of the initial data and, as a result, we will get a biased estimate based on the analysis results.\n",
    "    \n",
    "Remember, that it is important not only to fill in the missing values using some method, but also to give arguments why this particular method in this particular case is adequate and correct. And it is better to connect the strategy you choose for filling in missing values with the hypotheses about why there are missing values in the data, why they occur.\n",
    "\n",
    "      "
   ]
  },
  {
   "cell_type": "markdown",
   "metadata": {},
   "source": [
    "<a class=\"anchor\" id=\"2_data_pre-2_names\"></a>\n",
    "### Column Names\n",
    "[back to Table of Contents](#0_toc)"
   ]
  },
  {
   "cell_type": "code",
   "execution_count": 50,
   "metadata": {},
   "outputs": [
    {
     "data": {
      "text/plain": [
       "Index(['price', 'model_year', 'model', 'condition', 'cylinders', 'fuel',\n",
       "       'odometer', 'transmission', 'type', 'paint_color', 'is_4wd',\n",
       "       'date_posted', 'days_listed'],\n",
       "      dtype='object')"
      ]
     },
     "execution_count": 50,
     "metadata": {},
     "output_type": "execute_result"
    }
   ],
   "source": [
    "df.columns"
   ]
  },
  {
   "cell_type": "code",
   "execution_count": 51,
   "metadata": {},
   "outputs": [],
   "source": [
    "df.rename(columns={'odometer': 'mileage', 'paint_color': 'color'}, inplace=True)"
   ]
  },
  {
   "cell_type": "markdown",
   "metadata": {},
   "source": [
    "Renamed 'odometer' to 'mileage', and 'paint_color' to 'color'."
   ]
  },
  {
   "cell_type": "markdown",
   "metadata": {},
   "source": [
    "<div class=\"alert alert-block alert-success\">\n",
    "    <h2>Reviewer's commentary <a class=\"tocSkip\"></h2>\n",
    "    <br/>\n",
    "<b>Well done!👍:</b> \n",
    "        \n",
    "Ok, here everything is alright!"
   ]
  },
  {
   "cell_type": "markdown",
   "metadata": {},
   "source": [
    "<a class=\"anchor\" id=\"2_data_pre-3_dtypes\"></a>\n",
    "### Data Types\n",
    "[back to Table of Contents](#0_toc)"
   ]
  },
  {
   "cell_type": "code",
   "execution_count": 52,
   "metadata": {},
   "outputs": [
    {
     "data": {
      "text/plain": [
       "price             int64\n",
       "model_year      float64\n",
       "model            object\n",
       "condition        object\n",
       "cylinders       float64\n",
       "fuel             object\n",
       "mileage         float64\n",
       "transmission     object\n",
       "type             object\n",
       "color            object\n",
       "is_4wd          float64\n",
       "date_posted      object\n",
       "days_listed       int64\n",
       "dtype: object"
      ]
     },
     "execution_count": 52,
     "metadata": {},
     "output_type": "execute_result"
    }
   ],
   "source": [
    "df.dtypes"
   ]
  },
  {
   "cell_type": "markdown",
   "metadata": {},
   "source": [
    "Some columns' data types should be changed:\n",
    "- model_year - int64\n",
    "- cylinders - int64\n",
    "- mileage - int64\n",
    "- is_4wd - bool\n",
    "- date_posted - datetime64\n",
    "\n",
    "float to int conversion is suggested because relevant columns' information does not need the precision of float (memory and cpu efficiency),  \n",
    "boolean is because 'is_4wd' is in fact boolean, as noted in the previous section (semantics),  \n",
    "and datetime for better semantics, processing efficiency, and date-time related functions."
   ]
  },
  {
   "cell_type": "code",
   "execution_count": 53,
   "metadata": {},
   "outputs": [],
   "source": [
    "df['model_year'] = df['model_year'].astype('int')"
   ]
  },
  {
   "cell_type": "code",
   "execution_count": 54,
   "metadata": {},
   "outputs": [],
   "source": [
    "df['cylinders'] = df['cylinders'].astype('int')"
   ]
  },
  {
   "cell_type": "code",
   "execution_count": 55,
   "metadata": {},
   "outputs": [],
   "source": [
    "df['mileage'] = df['mileage'].astype('int')"
   ]
  },
  {
   "cell_type": "code",
   "execution_count": 56,
   "metadata": {},
   "outputs": [],
   "source": [
    "df['is_4wd'] = df['is_4wd'].astype('bool')"
   ]
  },
  {
   "cell_type": "code",
   "execution_count": 57,
   "metadata": {},
   "outputs": [
    {
     "data": {
      "text/plain": [
       "0    2018-06-23\n",
       "1    2018-10-19\n",
       "2    2019-02-07\n",
       "3    2019-03-22\n",
       "4    2019-04-02\n",
       "Name: date_posted, dtype: object"
      ]
     },
     "execution_count": 57,
     "metadata": {},
     "output_type": "execute_result"
    }
   ],
   "source": [
    "df['date_posted'].head()"
   ]
  },
  {
   "cell_type": "code",
   "execution_count": 58,
   "metadata": {},
   "outputs": [],
   "source": [
    "df['date_posted'] = pd.to_datetime(df['date_posted'])"
   ]
  },
  {
   "cell_type": "code",
   "execution_count": 59,
   "metadata": {
    "scrolled": true
   },
   "outputs": [
    {
     "data": {
      "text/plain": [
       "price                    int64\n",
       "model_year               int64\n",
       "model                   object\n",
       "condition               object\n",
       "cylinders                int64\n",
       "fuel                    object\n",
       "mileage                  int64\n",
       "transmission            object\n",
       "type                    object\n",
       "color                   object\n",
       "is_4wd                    bool\n",
       "date_posted     datetime64[ns]\n",
       "days_listed              int64\n",
       "dtype: object"
      ]
     },
     "execution_count": 59,
     "metadata": {},
     "output_type": "execute_result"
    }
   ],
   "source": [
    "df.dtypes"
   ]
  },
  {
   "cell_type": "markdown",
   "metadata": {},
   "source": [
    "Data types have been converted successfully."
   ]
  },
  {
   "cell_type": "markdown",
   "metadata": {},
   "source": [
    "<div class=\"alert alert-block alert-success\">\n",
    "    <h2>Reviewer's commentary <a class=\"tocSkip\"></h2>\n",
    "    <br/>\n",
    "<b>Well done!👍:</b> \n",
    "        \n",
    "Ok, Daniel, absolutely agree with your decision here!"
   ]
  },
  {
   "cell_type": "markdown",
   "metadata": {},
   "source": [
    "<a class=\"anchor\" id=\"2_data_pre-4_categories\"></a>\n",
    "### Categories\n",
    "[back to Table of Contents](#0_toc)"
   ]
  },
  {
   "cell_type": "markdown",
   "metadata": {},
   "source": [
    "Columns to categorize:\n",
    "- model\n",
    "- condition\n",
    "- fuel\n",
    "- transmission\n",
    "- type\n",
    "- color"
   ]
  },
  {
   "cell_type": "code",
   "execution_count": 60,
   "metadata": {},
   "outputs": [],
   "source": [
    "def categorize(column_name, ref=None):\n",
    "    \"\"\"\n",
    "    Replaces, in-place, relevant column with a corresponding column of ids.\n",
    "    \n",
    "    Returns a Tuple:\n",
    "      Series: (index) id, values\n",
    "      Series: (index) values, id\n",
    "    \"\"\"\n",
    "    \n",
    "    if not isinstance(ref, pd.Series):\n",
    "        ref = df[column_name].value_counts().sort_index().reset_index()['index']\n",
    "        \n",
    "    ref_inverse = pd.Series(data=ref.index, index=ref.values)\n",
    "    \n",
    "    df[f'{column_name}_id'] = df[column_name].apply(lambda x:ref_inverse[x])\n",
    "    df.drop(column_name, axis=1, inplace=True)\n",
    "    \n",
    "    return ref, ref_inverse"
   ]
  },
  {
   "cell_type": "code",
   "execution_count": 61,
   "metadata": {},
   "outputs": [
    {
     "data": {
      "text/html": [
       "<div>\n",
       "<style scoped>\n",
       "    .dataframe tbody tr th:only-of-type {\n",
       "        vertical-align: middle;\n",
       "    }\n",
       "\n",
       "    .dataframe tbody tr th {\n",
       "        vertical-align: top;\n",
       "    }\n",
       "\n",
       "    .dataframe thead th {\n",
       "        text-align: right;\n",
       "    }\n",
       "</style>\n",
       "<table border=\"1\" class=\"dataframe\">\n",
       "  <thead>\n",
       "    <tr style=\"text-align: right;\">\n",
       "      <th></th>\n",
       "      <th>model</th>\n",
       "      <th>condition</th>\n",
       "      <th>fuel</th>\n",
       "      <th>transmission</th>\n",
       "      <th>type</th>\n",
       "      <th>color</th>\n",
       "    </tr>\n",
       "  </thead>\n",
       "  <tbody>\n",
       "    <tr>\n",
       "      <th>0</th>\n",
       "      <td>bmw x5</td>\n",
       "      <td>good</td>\n",
       "      <td>gas</td>\n",
       "      <td>automatic</td>\n",
       "      <td>SUV</td>\n",
       "      <td>unknown</td>\n",
       "    </tr>\n",
       "    <tr>\n",
       "      <th>1</th>\n",
       "      <td>ford f-150</td>\n",
       "      <td>good</td>\n",
       "      <td>gas</td>\n",
       "      <td>automatic</td>\n",
       "      <td>pickup</td>\n",
       "      <td>white</td>\n",
       "    </tr>\n",
       "    <tr>\n",
       "      <th>2</th>\n",
       "      <td>hyundai sonata</td>\n",
       "      <td>like new</td>\n",
       "      <td>gas</td>\n",
       "      <td>automatic</td>\n",
       "      <td>sedan</td>\n",
       "      <td>red</td>\n",
       "    </tr>\n",
       "    <tr>\n",
       "      <th>3</th>\n",
       "      <td>ford f-150</td>\n",
       "      <td>fair</td>\n",
       "      <td>gas</td>\n",
       "      <td>automatic</td>\n",
       "      <td>pickup</td>\n",
       "      <td>unknown</td>\n",
       "    </tr>\n",
       "    <tr>\n",
       "      <th>4</th>\n",
       "      <td>chrysler 200</td>\n",
       "      <td>excellent</td>\n",
       "      <td>gas</td>\n",
       "      <td>automatic</td>\n",
       "      <td>sedan</td>\n",
       "      <td>black</td>\n",
       "    </tr>\n",
       "    <tr>\n",
       "      <th>...</th>\n",
       "      <td>...</td>\n",
       "      <td>...</td>\n",
       "      <td>...</td>\n",
       "      <td>...</td>\n",
       "      <td>...</td>\n",
       "      <td>...</td>\n",
       "    </tr>\n",
       "    <tr>\n",
       "      <th>51520</th>\n",
       "      <td>nissan maxima</td>\n",
       "      <td>like new</td>\n",
       "      <td>gas</td>\n",
       "      <td>automatic</td>\n",
       "      <td>sedan</td>\n",
       "      <td>black</td>\n",
       "    </tr>\n",
       "    <tr>\n",
       "      <th>51521</th>\n",
       "      <td>honda civic</td>\n",
       "      <td>salvage</td>\n",
       "      <td>gas</td>\n",
       "      <td>automatic</td>\n",
       "      <td>sedan</td>\n",
       "      <td>white</td>\n",
       "    </tr>\n",
       "    <tr>\n",
       "      <th>51522</th>\n",
       "      <td>hyundai sonata</td>\n",
       "      <td>excellent</td>\n",
       "      <td>gas</td>\n",
       "      <td>automatic</td>\n",
       "      <td>sedan</td>\n",
       "      <td>blue</td>\n",
       "    </tr>\n",
       "    <tr>\n",
       "      <th>51523</th>\n",
       "      <td>toyota corolla</td>\n",
       "      <td>good</td>\n",
       "      <td>gas</td>\n",
       "      <td>automatic</td>\n",
       "      <td>sedan</td>\n",
       "      <td>black</td>\n",
       "    </tr>\n",
       "    <tr>\n",
       "      <th>51524</th>\n",
       "      <td>nissan altima</td>\n",
       "      <td>good</td>\n",
       "      <td>gas</td>\n",
       "      <td>automatic</td>\n",
       "      <td>sedan</td>\n",
       "      <td>unknown</td>\n",
       "    </tr>\n",
       "  </tbody>\n",
       "</table>\n",
       "<p>51525 rows × 6 columns</p>\n",
       "</div>"
      ],
      "text/plain": [
       "                model  condition fuel transmission    type    color\n",
       "0              bmw x5       good  gas    automatic     SUV  unknown\n",
       "1          ford f-150       good  gas    automatic  pickup    white\n",
       "2      hyundai sonata   like new  gas    automatic   sedan      red\n",
       "3          ford f-150       fair  gas    automatic  pickup  unknown\n",
       "4        chrysler 200  excellent  gas    automatic   sedan    black\n",
       "...               ...        ...  ...          ...     ...      ...\n",
       "51520   nissan maxima   like new  gas    automatic   sedan    black\n",
       "51521     honda civic    salvage  gas    automatic   sedan    white\n",
       "51522  hyundai sonata  excellent  gas    automatic   sedan     blue\n",
       "51523  toyota corolla       good  gas    automatic   sedan    black\n",
       "51524   nissan altima       good  gas    automatic   sedan  unknown\n",
       "\n",
       "[51525 rows x 6 columns]"
      ]
     },
     "execution_count": 61,
     "metadata": {},
     "output_type": "execute_result"
    }
   ],
   "source": [
    "df.select_dtypes('object')"
   ]
  },
  {
   "cell_type": "code",
   "execution_count": 62,
   "metadata": {},
   "outputs": [
    {
     "data": {
      "text/plain": [
       "model           100\n",
       "condition         6\n",
       "fuel              5\n",
       "transmission      3\n",
       "type             13\n",
       "color            13\n",
       "dtype: int64"
      ]
     },
     "execution_count": 62,
     "metadata": {},
     "output_type": "execute_result"
    }
   ],
   "source": [
    "df.select_dtypes('object').nunique()"
   ]
  },
  {
   "cell_type": "code",
   "execution_count": 63,
   "metadata": {},
   "outputs": [],
   "source": [
    "model_ref, _ = categorize('model')"
   ]
  },
  {
   "cell_type": "code",
   "execution_count": 64,
   "metadata": {},
   "outputs": [],
   "source": [
    "fuel_ref, _ = categorize('fuel')"
   ]
  },
  {
   "cell_type": "code",
   "execution_count": 65,
   "metadata": {},
   "outputs": [],
   "source": [
    "transmission_ref, _ = categorize('transmission')"
   ]
  },
  {
   "cell_type": "code",
   "execution_count": 66,
   "metadata": {},
   "outputs": [],
   "source": [
    "model_type_ref, _ = categorize('type')"
   ]
  },
  {
   "cell_type": "code",
   "execution_count": 67,
   "metadata": {},
   "outputs": [],
   "source": [
    "color_ref, _ = categorize('color')"
   ]
  },
  {
   "cell_type": "code",
   "execution_count": 68,
   "metadata": {},
   "outputs": [],
   "source": [
    "condition_ref, _ = categorize(\n",
    "    column_name='condition',\n",
    "    ref=pd.Series({\n",
    "        0: 'salvage',\n",
    "        1: 'fair',\n",
    "        2: 'good',\n",
    "        3: 'excellent',\n",
    "        4: 'like new',\n",
    "        5: 'new'\n",
    "    }))"
   ]
  },
  {
   "cell_type": "code",
   "execution_count": 69,
   "metadata": {
    "scrolled": true
   },
   "outputs": [
    {
     "data": {
      "text/html": [
       "<div>\n",
       "<style scoped>\n",
       "    .dataframe tbody tr th:only-of-type {\n",
       "        vertical-align: middle;\n",
       "    }\n",
       "\n",
       "    .dataframe tbody tr th {\n",
       "        vertical-align: top;\n",
       "    }\n",
       "\n",
       "    .dataframe thead th {\n",
       "        text-align: right;\n",
       "    }\n",
       "</style>\n",
       "<table border=\"1\" class=\"dataframe\">\n",
       "  <thead>\n",
       "    <tr style=\"text-align: right;\">\n",
       "      <th></th>\n",
       "      <th>color_id</th>\n",
       "      <th>condition_id</th>\n",
       "      <th>cylinders</th>\n",
       "      <th>date_posted</th>\n",
       "      <th>days_listed</th>\n",
       "      <th>fuel_id</th>\n",
       "      <th>is_4wd</th>\n",
       "      <th>mileage</th>\n",
       "      <th>model_id</th>\n",
       "      <th>model_year</th>\n",
       "      <th>price</th>\n",
       "      <th>transmission_id</th>\n",
       "      <th>type_id</th>\n",
       "    </tr>\n",
       "  </thead>\n",
       "  <tbody>\n",
       "    <tr>\n",
       "      <th>0</th>\n",
       "      <td>10</td>\n",
       "      <td>2</td>\n",
       "      <td>6</td>\n",
       "      <td>2018-06-23</td>\n",
       "      <td>19</td>\n",
       "      <td>2</td>\n",
       "      <td>True</td>\n",
       "      <td>145000</td>\n",
       "      <td>1</td>\n",
       "      <td>2011</td>\n",
       "      <td>9400</td>\n",
       "      <td>0</td>\n",
       "      <td>0</td>\n",
       "    </tr>\n",
       "    <tr>\n",
       "      <th>1</th>\n",
       "      <td>11</td>\n",
       "      <td>2</td>\n",
       "      <td>6</td>\n",
       "      <td>2018-10-19</td>\n",
       "      <td>50</td>\n",
       "      <td>2</td>\n",
       "      <td>True</td>\n",
       "      <td>88705</td>\n",
       "      <td>32</td>\n",
       "      <td>2011</td>\n",
       "      <td>25500</td>\n",
       "      <td>0</td>\n",
       "      <td>8</td>\n",
       "    </tr>\n",
       "    <tr>\n",
       "      <th>2</th>\n",
       "      <td>8</td>\n",
       "      <td>4</td>\n",
       "      <td>4</td>\n",
       "      <td>2019-02-07</td>\n",
       "      <td>79</td>\n",
       "      <td>2</td>\n",
       "      <td>False</td>\n",
       "      <td>110000</td>\n",
       "      <td>64</td>\n",
       "      <td>2013</td>\n",
       "      <td>5500</td>\n",
       "      <td>0</td>\n",
       "      <td>9</td>\n",
       "    </tr>\n",
       "    <tr>\n",
       "      <th>3</th>\n",
       "      <td>10</td>\n",
       "      <td>1</td>\n",
       "      <td>8</td>\n",
       "      <td>2019-03-22</td>\n",
       "      <td>9</td>\n",
       "      <td>2</td>\n",
       "      <td>False</td>\n",
       "      <td>202621</td>\n",
       "      <td>32</td>\n",
       "      <td>2003</td>\n",
       "      <td>1500</td>\n",
       "      <td>0</td>\n",
       "      <td>8</td>\n",
       "    </tr>\n",
       "    <tr>\n",
       "      <th>4</th>\n",
       "      <td>0</td>\n",
       "      <td>3</td>\n",
       "      <td>4</td>\n",
       "      <td>2019-04-02</td>\n",
       "      <td>28</td>\n",
       "      <td>2</td>\n",
       "      <td>False</td>\n",
       "      <td>80903</td>\n",
       "      <td>21</td>\n",
       "      <td>2017</td>\n",
       "      <td>14900</td>\n",
       "      <td>0</td>\n",
       "      <td>9</td>\n",
       "    </tr>\n",
       "  </tbody>\n",
       "</table>\n",
       "</div>"
      ],
      "text/plain": [
       "   color_id  condition_id  cylinders date_posted  days_listed  fuel_id  \\\n",
       "0        10             2          6  2018-06-23           19        2   \n",
       "1        11             2          6  2018-10-19           50        2   \n",
       "2         8             4          4  2019-02-07           79        2   \n",
       "3        10             1          8  2019-03-22            9        2   \n",
       "4         0             3          4  2019-04-02           28        2   \n",
       "\n",
       "   is_4wd  mileage  model_id  model_year  price  transmission_id  type_id  \n",
       "0    True   145000         1        2011   9400                0        0  \n",
       "1    True    88705        32        2011  25500                0        8  \n",
       "2   False   110000        64        2013   5500                0        9  \n",
       "3   False   202621        32        2003   1500                0        8  \n",
       "4   False    80903        21        2017  14900                0        9  "
      ]
     },
     "execution_count": 69,
     "metadata": {},
     "output_type": "execute_result"
    }
   ],
   "source": [
    "df = df.reindex(sorted(df.columns), axis=1)\n",
    "df.head()"
   ]
  },
  {
   "cell_type": "markdown",
   "metadata": {},
   "source": [
    "Data has been cleaned, transformed to appropriate data types, categorized and extracted to lookup tables,  \n",
    "and is now ready to be inspected by mathematical methods."
   ]
  },
  {
   "cell_type": "markdown",
   "metadata": {},
   "source": [
    "<div class=\"alert alert-block alert-success\">\n",
    "    <h2>Reviewer's commentary <a class=\"tocSkip\"></h2>\n",
    "    <br/>\n",
    "<b>Well done!👍:</b> \n",
    "        \n",
    "Ok, it is great that you used a range of Python methods, you are doing great!"
   ]
  },
  {
   "cell_type": "markdown",
   "metadata": {},
   "source": [
    "<a class=\"anchor\" id=\"3_data_pre_b\"></a>\n",
    "## Make calculations and add them to the table\n",
    "***\n",
    "[back to Table of Contents](#0_toc)"
   ]
  },
  {
   "cell_type": "markdown",
   "metadata": {},
   "source": [
    "<a class=\"anchor\" id=\"data_pre_2\"></a>\n",
    "- [dates](#3_data_pre_b-1_dates): Day of the week, month, and year the ad was placed\n",
    "- [vehicle's age](#3_data_pre_b-2_age) (in years) when the ad was placed\n",
    "- [vehicle's average mileage](#3_data_pre_b-3_mileage) per year\n",
    "\n",
    "All vehicle data columns will stay in 'df' dataframe,  \n",
    "and all 'ad' related columns will extracted to a new dataframe called 'ad_ref'."
   ]
  },
  {
   "cell_type": "markdown",
   "metadata": {},
   "source": [
    "<a class=\"anchor\" id=\"3_data_pre_b-1_dates\"></a>\n",
    "__Dates__<br />\n",
    "[up](#3_data_pre_b)"
   ]
  },
  {
   "cell_type": "code",
   "execution_count": 70,
   "metadata": {},
   "outputs": [
    {
     "data": {
      "text/html": [
       "<div>\n",
       "<style scoped>\n",
       "    .dataframe tbody tr th:only-of-type {\n",
       "        vertical-align: middle;\n",
       "    }\n",
       "\n",
       "    .dataframe tbody tr th {\n",
       "        vertical-align: top;\n",
       "    }\n",
       "\n",
       "    .dataframe thead th {\n",
       "        text-align: right;\n",
       "    }\n",
       "</style>\n",
       "<table border=\"1\" class=\"dataframe\">\n",
       "  <thead>\n",
       "    <tr style=\"text-align: right;\">\n",
       "      <th></th>\n",
       "      <th>date_posted</th>\n",
       "      <th>days_listed</th>\n",
       "      <th>day_of_week</th>\n",
       "      <th>month</th>\n",
       "      <th>year</th>\n",
       "    </tr>\n",
       "  </thead>\n",
       "  <tbody>\n",
       "    <tr>\n",
       "      <th>0</th>\n",
       "      <td>2018-06-23</td>\n",
       "      <td>19</td>\n",
       "      <td>5</td>\n",
       "      <td>6</td>\n",
       "      <td>2018</td>\n",
       "    </tr>\n",
       "    <tr>\n",
       "      <th>1</th>\n",
       "      <td>2018-10-19</td>\n",
       "      <td>50</td>\n",
       "      <td>4</td>\n",
       "      <td>10</td>\n",
       "      <td>2018</td>\n",
       "    </tr>\n",
       "    <tr>\n",
       "      <th>2</th>\n",
       "      <td>2019-02-07</td>\n",
       "      <td>79</td>\n",
       "      <td>3</td>\n",
       "      <td>2</td>\n",
       "      <td>2019</td>\n",
       "    </tr>\n",
       "    <tr>\n",
       "      <th>3</th>\n",
       "      <td>2019-03-22</td>\n",
       "      <td>9</td>\n",
       "      <td>4</td>\n",
       "      <td>3</td>\n",
       "      <td>2019</td>\n",
       "    </tr>\n",
       "    <tr>\n",
       "      <th>4</th>\n",
       "      <td>2019-04-02</td>\n",
       "      <td>28</td>\n",
       "      <td>1</td>\n",
       "      <td>4</td>\n",
       "      <td>2019</td>\n",
       "    </tr>\n",
       "    <tr>\n",
       "      <th>...</th>\n",
       "      <td>...</td>\n",
       "      <td>...</td>\n",
       "      <td>...</td>\n",
       "      <td>...</td>\n",
       "      <td>...</td>\n",
       "    </tr>\n",
       "    <tr>\n",
       "      <th>51520</th>\n",
       "      <td>2018-10-03</td>\n",
       "      <td>37</td>\n",
       "      <td>2</td>\n",
       "      <td>10</td>\n",
       "      <td>2018</td>\n",
       "    </tr>\n",
       "    <tr>\n",
       "      <th>51521</th>\n",
       "      <td>2018-11-14</td>\n",
       "      <td>22</td>\n",
       "      <td>2</td>\n",
       "      <td>11</td>\n",
       "      <td>2018</td>\n",
       "    </tr>\n",
       "    <tr>\n",
       "      <th>51522</th>\n",
       "      <td>2018-11-15</td>\n",
       "      <td>32</td>\n",
       "      <td>3</td>\n",
       "      <td>11</td>\n",
       "      <td>2018</td>\n",
       "    </tr>\n",
       "    <tr>\n",
       "      <th>51523</th>\n",
       "      <td>2018-07-02</td>\n",
       "      <td>71</td>\n",
       "      <td>0</td>\n",
       "      <td>7</td>\n",
       "      <td>2018</td>\n",
       "    </tr>\n",
       "    <tr>\n",
       "      <th>51524</th>\n",
       "      <td>2018-06-05</td>\n",
       "      <td>10</td>\n",
       "      <td>1</td>\n",
       "      <td>6</td>\n",
       "      <td>2018</td>\n",
       "    </tr>\n",
       "  </tbody>\n",
       "</table>\n",
       "<p>51525 rows × 5 columns</p>\n",
       "</div>"
      ],
      "text/plain": [
       "      date_posted  days_listed  day_of_week  month  year\n",
       "0      2018-06-23           19            5      6  2018\n",
       "1      2018-10-19           50            4     10  2018\n",
       "2      2019-02-07           79            3      2  2019\n",
       "3      2019-03-22            9            4      3  2019\n",
       "4      2019-04-02           28            1      4  2019\n",
       "...           ...          ...          ...    ...   ...\n",
       "51520  2018-10-03           37            2     10  2018\n",
       "51521  2018-11-14           22            2     11  2018\n",
       "51522  2018-11-15           32            3     11  2018\n",
       "51523  2018-07-02           71            0      7  2018\n",
       "51524  2018-06-05           10            1      6  2018\n",
       "\n",
       "[51525 rows x 5 columns]"
      ]
     },
     "execution_count": 70,
     "metadata": {},
     "output_type": "execute_result"
    }
   ],
   "source": [
    "ad_ref = pd.concat([\n",
    "    df['date_posted'],\n",
    "    df['days_listed'],\n",
    "    df['date_posted'].dt.day_of_week,\n",
    "    df['date_posted'].dt.month,\n",
    "    df['date_posted'].dt.year\n",
    "], keys=['date_posted', 'days_listed', 'day_of_week', 'month', 'year'], axis=1)\n",
    "ad_ref"
   ]
  },
  {
   "cell_type": "code",
   "execution_count": 71,
   "metadata": {},
   "outputs": [
    {
     "data": {
      "text/html": [
       "<div>\n",
       "<style scoped>\n",
       "    .dataframe tbody tr th:only-of-type {\n",
       "        vertical-align: middle;\n",
       "    }\n",
       "\n",
       "    .dataframe tbody tr th {\n",
       "        vertical-align: top;\n",
       "    }\n",
       "\n",
       "    .dataframe thead th {\n",
       "        text-align: right;\n",
       "    }\n",
       "</style>\n",
       "<table border=\"1\" class=\"dataframe\">\n",
       "  <thead>\n",
       "    <tr style=\"text-align: right;\">\n",
       "      <th></th>\n",
       "      <th>color_id</th>\n",
       "      <th>condition_id</th>\n",
       "      <th>cylinders</th>\n",
       "      <th>fuel_id</th>\n",
       "      <th>is_4wd</th>\n",
       "      <th>mileage</th>\n",
       "      <th>model_id</th>\n",
       "      <th>model_year</th>\n",
       "      <th>price</th>\n",
       "      <th>transmission_id</th>\n",
       "      <th>type_id</th>\n",
       "    </tr>\n",
       "  </thead>\n",
       "  <tbody>\n",
       "    <tr>\n",
       "      <th>0</th>\n",
       "      <td>10</td>\n",
       "      <td>2</td>\n",
       "      <td>6</td>\n",
       "      <td>2</td>\n",
       "      <td>True</td>\n",
       "      <td>145000</td>\n",
       "      <td>1</td>\n",
       "      <td>2011</td>\n",
       "      <td>9400</td>\n",
       "      <td>0</td>\n",
       "      <td>0</td>\n",
       "    </tr>\n",
       "    <tr>\n",
       "      <th>1</th>\n",
       "      <td>11</td>\n",
       "      <td>2</td>\n",
       "      <td>6</td>\n",
       "      <td>2</td>\n",
       "      <td>True</td>\n",
       "      <td>88705</td>\n",
       "      <td>32</td>\n",
       "      <td>2011</td>\n",
       "      <td>25500</td>\n",
       "      <td>0</td>\n",
       "      <td>8</td>\n",
       "    </tr>\n",
       "  </tbody>\n",
       "</table>\n",
       "</div>"
      ],
      "text/plain": [
       "   color_id  condition_id  cylinders  fuel_id  is_4wd  mileage  model_id  \\\n",
       "0        10             2          6        2    True   145000         1   \n",
       "1        11             2          6        2    True    88705        32   \n",
       "\n",
       "   model_year  price  transmission_id  type_id  \n",
       "0        2011   9400                0        0  \n",
       "1        2011  25500                0        8  "
      ]
     },
     "execution_count": 71,
     "metadata": {},
     "output_type": "execute_result"
    }
   ],
   "source": [
    "df.drop(['date_posted', 'days_listed'], axis=1, inplace=True)\n",
    "df.head(2)"
   ]
  },
  {
   "cell_type": "markdown",
   "metadata": {},
   "source": [
    "__month posted column review__"
   ]
  },
  {
   "cell_type": "code",
   "execution_count": 72,
   "metadata": {},
   "outputs": [
    {
     "data": {
      "text/plain": [
       "1     4452\n",
       "2     4014\n",
       "3     4559\n",
       "4     2817\n",
       "5     4503\n",
       "6     4216\n",
       "7     4471\n",
       "8     4480\n",
       "9     4452\n",
       "10    4643\n",
       "11    4354\n",
       "12    4564\n",
       "Name: month, dtype: int64"
      ]
     },
     "execution_count": 72,
     "metadata": {},
     "output_type": "execute_result"
    }
   ],
   "source": [
    "ad_ref['month'].value_counts().sort_index()"
   ]
  },
  {
   "cell_type": "markdown",
   "metadata": {},
   "source": [
    "__day posted column review__"
   ]
  },
  {
   "cell_type": "code",
   "execution_count": 73,
   "metadata": {
    "scrolled": true
   },
   "outputs": [
    {
     "data": {
      "text/plain": [
       "day_of_week  date_posted\n",
       "0            Monday         7339\n",
       "1            Tuesday        7295\n",
       "2            Wednesday      7299\n",
       "3            Thursday       7510\n",
       "4            Friday         7334\n",
       "5            Saturday       7392\n",
       "6            Sunday         7356\n",
       "dtype: int64"
      ]
     },
     "execution_count": 73,
     "metadata": {},
     "output_type": "execute_result"
    }
   ],
   "source": [
    "(ad_ref['day_of_week']\n",
    " .to_frame()\n",
    " .join(ad_ref['date_posted'].dt.day_name())\n",
    " .value_counts()\n",
    " .sort_index())"
   ]
  },
  {
   "cell_type": "markdown",
   "metadata": {},
   "source": [
    "<a class=\"anchor\" id=\"3_data_pre_b-2_age\"></a>\n",
    "__Vehicle age__ <br />\n",
    "[up](#3_data_pre_b)"
   ]
  },
  {
   "cell_type": "code",
   "execution_count": 74,
   "metadata": {
    "scrolled": true
   },
   "outputs": [
    {
     "data": {
      "text/html": [
       "<div>\n",
       "<style scoped>\n",
       "    .dataframe tbody tr th:only-of-type {\n",
       "        vertical-align: middle;\n",
       "    }\n",
       "\n",
       "    .dataframe tbody tr th {\n",
       "        vertical-align: top;\n",
       "    }\n",
       "\n",
       "    .dataframe thead th {\n",
       "        text-align: right;\n",
       "    }\n",
       "</style>\n",
       "<table border=\"1\" class=\"dataframe\">\n",
       "  <thead>\n",
       "    <tr style=\"text-align: right;\">\n",
       "      <th></th>\n",
       "      <th>date_posted</th>\n",
       "      <th>days_listed</th>\n",
       "      <th>day_of_week</th>\n",
       "      <th>month</th>\n",
       "      <th>year</th>\n",
       "      <th>vehicle_age</th>\n",
       "    </tr>\n",
       "  </thead>\n",
       "  <tbody>\n",
       "    <tr>\n",
       "      <th>0</th>\n",
       "      <td>2018-06-23</td>\n",
       "      <td>19</td>\n",
       "      <td>5</td>\n",
       "      <td>6</td>\n",
       "      <td>2018</td>\n",
       "      <td>7</td>\n",
       "    </tr>\n",
       "    <tr>\n",
       "      <th>1</th>\n",
       "      <td>2018-10-19</td>\n",
       "      <td>50</td>\n",
       "      <td>4</td>\n",
       "      <td>10</td>\n",
       "      <td>2018</td>\n",
       "      <td>7</td>\n",
       "    </tr>\n",
       "    <tr>\n",
       "      <th>2</th>\n",
       "      <td>2019-02-07</td>\n",
       "      <td>79</td>\n",
       "      <td>3</td>\n",
       "      <td>2</td>\n",
       "      <td>2019</td>\n",
       "      <td>6</td>\n",
       "    </tr>\n",
       "    <tr>\n",
       "      <th>3</th>\n",
       "      <td>2019-03-22</td>\n",
       "      <td>9</td>\n",
       "      <td>4</td>\n",
       "      <td>3</td>\n",
       "      <td>2019</td>\n",
       "      <td>16</td>\n",
       "    </tr>\n",
       "    <tr>\n",
       "      <th>4</th>\n",
       "      <td>2019-04-02</td>\n",
       "      <td>28</td>\n",
       "      <td>1</td>\n",
       "      <td>4</td>\n",
       "      <td>2019</td>\n",
       "      <td>2</td>\n",
       "    </tr>\n",
       "  </tbody>\n",
       "</table>\n",
       "</div>"
      ],
      "text/plain": [
       "  date_posted  days_listed  day_of_week  month  year  vehicle_age\n",
       "0  2018-06-23           19            5      6  2018            7\n",
       "1  2018-10-19           50            4     10  2018            7\n",
       "2  2019-02-07           79            3      2  2019            6\n",
       "3  2019-03-22            9            4      3  2019           16\n",
       "4  2019-04-02           28            1      4  2019            2"
      ]
     },
     "execution_count": 74,
     "metadata": {},
     "output_type": "execute_result"
    }
   ],
   "source": [
    "ad_ref['vehicle_age'] = ad_ref['year'] - df['model_year']\n",
    "ad_ref.head()"
   ]
  },
  {
   "cell_type": "code",
   "execution_count": 75,
   "metadata": {},
   "outputs": [
    {
     "data": {
      "text/html": [
       "<div>\n",
       "<style scoped>\n",
       "    .dataframe tbody tr th:only-of-type {\n",
       "        vertical-align: middle;\n",
       "    }\n",
       "\n",
       "    .dataframe tbody tr th {\n",
       "        vertical-align: top;\n",
       "    }\n",
       "\n",
       "    .dataframe thead th {\n",
       "        text-align: right;\n",
       "    }\n",
       "</style>\n",
       "<table border=\"1\" class=\"dataframe\">\n",
       "  <thead>\n",
       "    <tr style=\"text-align: right;\">\n",
       "      <th></th>\n",
       "      <th>days_listed</th>\n",
       "      <th>day_of_week</th>\n",
       "      <th>month</th>\n",
       "      <th>year</th>\n",
       "      <th>vehicle_age</th>\n",
       "    </tr>\n",
       "  </thead>\n",
       "  <tbody>\n",
       "    <tr>\n",
       "      <th>count</th>\n",
       "      <td>51525.00000</td>\n",
       "      <td>51525.000000</td>\n",
       "      <td>51525.000000</td>\n",
       "      <td>51525.000000</td>\n",
       "      <td>51525.000000</td>\n",
       "    </tr>\n",
       "    <tr>\n",
       "      <th>mean</th>\n",
       "      <td>39.55476</td>\n",
       "      <td>3.005434</td>\n",
       "      <td>6.628491</td>\n",
       "      <td>2018.307462</td>\n",
       "      <td>8.513906</td>\n",
       "    </tr>\n",
       "    <tr>\n",
       "      <th>std</th>\n",
       "      <td>28.20427</td>\n",
       "      <td>1.997759</td>\n",
       "      <td>3.474134</td>\n",
       "      <td>0.461447</td>\n",
       "      <td>6.112976</td>\n",
       "    </tr>\n",
       "    <tr>\n",
       "      <th>min</th>\n",
       "      <td>0.00000</td>\n",
       "      <td>0.000000</td>\n",
       "      <td>1.000000</td>\n",
       "      <td>2018.000000</td>\n",
       "      <td>0.000000</td>\n",
       "    </tr>\n",
       "    <tr>\n",
       "      <th>25%</th>\n",
       "      <td>19.00000</td>\n",
       "      <td>1.000000</td>\n",
       "      <td>3.000000</td>\n",
       "      <td>2018.000000</td>\n",
       "      <td>4.000000</td>\n",
       "    </tr>\n",
       "    <tr>\n",
       "      <th>50%</th>\n",
       "      <td>33.00000</td>\n",
       "      <td>3.000000</td>\n",
       "      <td>7.000000</td>\n",
       "      <td>2018.000000</td>\n",
       "      <td>8.000000</td>\n",
       "    </tr>\n",
       "    <tr>\n",
       "      <th>75%</th>\n",
       "      <td>53.00000</td>\n",
       "      <td>5.000000</td>\n",
       "      <td>10.000000</td>\n",
       "      <td>2019.000000</td>\n",
       "      <td>12.000000</td>\n",
       "    </tr>\n",
       "    <tr>\n",
       "      <th>max</th>\n",
       "      <td>271.00000</td>\n",
       "      <td>6.000000</td>\n",
       "      <td>12.000000</td>\n",
       "      <td>2019.000000</td>\n",
       "      <td>110.000000</td>\n",
       "    </tr>\n",
       "  </tbody>\n",
       "</table>\n",
       "</div>"
      ],
      "text/plain": [
       "       days_listed   day_of_week         month          year   vehicle_age\n",
       "count  51525.00000  51525.000000  51525.000000  51525.000000  51525.000000\n",
       "mean      39.55476      3.005434      6.628491   2018.307462      8.513906\n",
       "std       28.20427      1.997759      3.474134      0.461447      6.112976\n",
       "min        0.00000      0.000000      1.000000   2018.000000      0.000000\n",
       "25%       19.00000      1.000000      3.000000   2018.000000      4.000000\n",
       "50%       33.00000      3.000000      7.000000   2018.000000      8.000000\n",
       "75%       53.00000      5.000000     10.000000   2019.000000     12.000000\n",
       "max      271.00000      6.000000     12.000000   2019.000000    110.000000"
      ]
     },
     "execution_count": 75,
     "metadata": {},
     "output_type": "execute_result"
    }
   ],
   "source": [
    "ad_ref.describe()"
   ]
  },
  {
   "cell_type": "markdown",
   "metadata": {},
   "source": [
    "<a class=\"anchor\" id=\"3_data_pre_b-3_mileage\"></a>\n",
    "__Vehicle average mileage__ <br />\n",
    "[up](#3_data_pre_b)"
   ]
  },
  {
   "cell_type": "code",
   "execution_count": 76,
   "metadata": {},
   "outputs": [
    {
     "data": {
      "text/plain": [
       "count     51525.000000\n",
       "mean     115545.275827\n",
       "std       62004.180916\n",
       "min           0.000000\n",
       "25%       73179.000000\n",
       "50%      114604.000000\n",
       "75%      152354.000000\n",
       "max      990000.000000\n",
       "Name: mileage, dtype: float64"
      ]
     },
     "execution_count": 76,
     "metadata": {},
     "output_type": "execute_result"
    }
   ],
   "source": [
    "df['mileage'].describe()"
   ]
  },
  {
   "cell_type": "code",
   "execution_count": 77,
   "metadata": {
    "scrolled": false
   },
   "outputs": [
    {
     "data": {
      "text/plain": [
       "2"
      ]
     },
     "execution_count": 77,
     "metadata": {},
     "output_type": "execute_result"
    }
   ],
   "source": [
    "avg_mileage = (df['mileage'] / ad_ref['vehicle_age']).round()\n",
    "avg_mileage.isna().sum()"
   ]
  },
  {
   "cell_type": "markdown",
   "metadata": {},
   "source": [
    "The formula to find the average mileage of a vehicle per year did not work for 2 vehicles."
   ]
  },
  {
   "cell_type": "code",
   "execution_count": 78,
   "metadata": {},
   "outputs": [
    {
     "data": {
      "text/html": [
       "<div>\n",
       "<style scoped>\n",
       "    .dataframe tbody tr th:only-of-type {\n",
       "        vertical-align: middle;\n",
       "    }\n",
       "\n",
       "    .dataframe tbody tr th {\n",
       "        vertical-align: top;\n",
       "    }\n",
       "\n",
       "    .dataframe thead th {\n",
       "        text-align: right;\n",
       "    }\n",
       "</style>\n",
       "<table border=\"1\" class=\"dataframe\">\n",
       "  <thead>\n",
       "    <tr style=\"text-align: right;\">\n",
       "      <th></th>\n",
       "      <th>model_year</th>\n",
       "      <th>mileage</th>\n",
       "      <th>vehicle_age</th>\n",
       "    </tr>\n",
       "  </thead>\n",
       "  <tbody>\n",
       "    <tr>\n",
       "      <th>17037</th>\n",
       "      <td>2018</td>\n",
       "      <td>0</td>\n",
       "      <td>0</td>\n",
       "    </tr>\n",
       "    <tr>\n",
       "      <th>40489</th>\n",
       "      <td>2018</td>\n",
       "      <td>0</td>\n",
       "      <td>0</td>\n",
       "    </tr>\n",
       "  </tbody>\n",
       "</table>\n",
       "</div>"
      ],
      "text/plain": [
       "       model_year  mileage  vehicle_age\n",
       "17037        2018        0            0\n",
       "40489        2018        0            0"
      ]
     },
     "metadata": {},
     "output_type": "display_data"
    }
   ],
   "source": [
    "avg_mileage_na = avg_mileage[avg_mileage.isna()].index.values\n",
    "display(df.loc[avg_mileage_na, ['model_year', 'mileage']]\n",
    "        .join(ad_ref.loc[avg_mileage_na, ['vehicle_age']]))"
   ]
  },
  {
   "cell_type": "markdown",
   "metadata": {},
   "source": [
    "both vehicles are brand new (0 age, 0 mileage), which means their average mileage is also 0."
   ]
  },
  {
   "cell_type": "code",
   "execution_count": 79,
   "metadata": {
    "scrolled": true
   },
   "outputs": [],
   "source": [
    "df['mileage_per_year'] = avg_mileage.replace(np.inf, 0).fillna(0).astype('int')\n",
    "# df = df.reindex(columns=sorted(df.columns))\n",
    "del avg_mileage"
   ]
  },
  {
   "cell_type": "markdown",
   "metadata": {},
   "source": [
    "<div class=\"alert alert-block alert-success\">\n",
    "    <h2>Reviewer's commentary <a class=\"tocSkip\"></h2>\n",
    "    <br/>\n",
    "<b>Well done!👍:</b> \n",
    "        \n",
    "Ok, it is a correct action to fix 0 age and mileage."
   ]
  },
  {
   "cell_type": "code",
   "execution_count": 80,
   "metadata": {
    "scrolled": true
   },
   "outputs": [
    {
     "data": {
      "text/plain": [
       "Index(['color_id', 'condition_id', 'cylinders', 'fuel_id', 'is_4wd', 'mileage',\n",
       "       'model_id', 'model_year', 'price', 'transmission_id', 'type_id',\n",
       "       'mileage_per_year'],\n",
       "      dtype='object')"
      ]
     },
     "execution_count": 80,
     "metadata": {},
     "output_type": "execute_result"
    }
   ],
   "source": [
    "df.columns"
   ]
  },
  {
   "cell_type": "code",
   "execution_count": 81,
   "metadata": {},
   "outputs": [],
   "source": [
    "df = df.reindex(columns=[\n",
    "    'model_year', 'model_id', 'condition_id',\n",
    "    'mileage', 'mileage_per_year', 'color_id',\n",
    "    'type_id', 'transmission_id', 'cylinders',\n",
    "    'fuel_id', 'is_4wd', 'price'])"
   ]
  },
  {
   "cell_type": "code",
   "execution_count": 82,
   "metadata": {
    "scrolled": false
   },
   "outputs": [
    {
     "data": {
      "text/html": [
       "<div>\n",
       "<style scoped>\n",
       "    .dataframe tbody tr th:only-of-type {\n",
       "        vertical-align: middle;\n",
       "    }\n",
       "\n",
       "    .dataframe tbody tr th {\n",
       "        vertical-align: top;\n",
       "    }\n",
       "\n",
       "    .dataframe thead th {\n",
       "        text-align: right;\n",
       "    }\n",
       "</style>\n",
       "<table border=\"1\" class=\"dataframe\">\n",
       "  <thead>\n",
       "    <tr style=\"text-align: right;\">\n",
       "      <th></th>\n",
       "      <th>model_year</th>\n",
       "      <th>model_id</th>\n",
       "      <th>condition_id</th>\n",
       "      <th>mileage</th>\n",
       "      <th>mileage_per_year</th>\n",
       "      <th>color_id</th>\n",
       "      <th>type_id</th>\n",
       "      <th>transmission_id</th>\n",
       "      <th>cylinders</th>\n",
       "      <th>fuel_id</th>\n",
       "      <th>is_4wd</th>\n",
       "      <th>price</th>\n",
       "    </tr>\n",
       "  </thead>\n",
       "  <tbody>\n",
       "    <tr>\n",
       "      <th>0</th>\n",
       "      <td>2011</td>\n",
       "      <td>1</td>\n",
       "      <td>2</td>\n",
       "      <td>145000</td>\n",
       "      <td>20714</td>\n",
       "      <td>10</td>\n",
       "      <td>0</td>\n",
       "      <td>0</td>\n",
       "      <td>6</td>\n",
       "      <td>2</td>\n",
       "      <td>True</td>\n",
       "      <td>9400</td>\n",
       "    </tr>\n",
       "    <tr>\n",
       "      <th>1</th>\n",
       "      <td>2011</td>\n",
       "      <td>32</td>\n",
       "      <td>2</td>\n",
       "      <td>88705</td>\n",
       "      <td>12672</td>\n",
       "      <td>11</td>\n",
       "      <td>8</td>\n",
       "      <td>0</td>\n",
       "      <td>6</td>\n",
       "      <td>2</td>\n",
       "      <td>True</td>\n",
       "      <td>25500</td>\n",
       "    </tr>\n",
       "    <tr>\n",
       "      <th>2</th>\n",
       "      <td>2013</td>\n",
       "      <td>64</td>\n",
       "      <td>4</td>\n",
       "      <td>110000</td>\n",
       "      <td>18333</td>\n",
       "      <td>8</td>\n",
       "      <td>9</td>\n",
       "      <td>0</td>\n",
       "      <td>4</td>\n",
       "      <td>2</td>\n",
       "      <td>False</td>\n",
       "      <td>5500</td>\n",
       "    </tr>\n",
       "    <tr>\n",
       "      <th>3</th>\n",
       "      <td>2003</td>\n",
       "      <td>32</td>\n",
       "      <td>1</td>\n",
       "      <td>202621</td>\n",
       "      <td>12664</td>\n",
       "      <td>10</td>\n",
       "      <td>8</td>\n",
       "      <td>0</td>\n",
       "      <td>8</td>\n",
       "      <td>2</td>\n",
       "      <td>False</td>\n",
       "      <td>1500</td>\n",
       "    </tr>\n",
       "    <tr>\n",
       "      <th>4</th>\n",
       "      <td>2017</td>\n",
       "      <td>21</td>\n",
       "      <td>3</td>\n",
       "      <td>80903</td>\n",
       "      <td>40452</td>\n",
       "      <td>0</td>\n",
       "      <td>9</td>\n",
       "      <td>0</td>\n",
       "      <td>4</td>\n",
       "      <td>2</td>\n",
       "      <td>False</td>\n",
       "      <td>14900</td>\n",
       "    </tr>\n",
       "  </tbody>\n",
       "</table>\n",
       "</div>"
      ],
      "text/plain": [
       "   model_year  model_id  condition_id  mileage  mileage_per_year  color_id  \\\n",
       "0        2011         1             2   145000             20714        10   \n",
       "1        2011        32             2    88705             12672        11   \n",
       "2        2013        64             4   110000             18333         8   \n",
       "3        2003        32             1   202621             12664        10   \n",
       "4        2017        21             3    80903             40452         0   \n",
       "\n",
       "   type_id  transmission_id  cylinders  fuel_id  is_4wd  price  \n",
       "0        0                0          6        2    True   9400  \n",
       "1        8                0          6        2    True  25500  \n",
       "2        9                0          4        2   False   5500  \n",
       "3        8                0          8        2   False   1500  \n",
       "4        9                0          4        2   False  14900  "
      ]
     },
     "metadata": {},
     "output_type": "display_data"
    },
    {
     "data": {
      "text/html": [
       "<div>\n",
       "<style scoped>\n",
       "    .dataframe tbody tr th:only-of-type {\n",
       "        vertical-align: middle;\n",
       "    }\n",
       "\n",
       "    .dataframe tbody tr th {\n",
       "        vertical-align: top;\n",
       "    }\n",
       "\n",
       "    .dataframe thead th {\n",
       "        text-align: right;\n",
       "    }\n",
       "</style>\n",
       "<table border=\"1\" class=\"dataframe\">\n",
       "  <thead>\n",
       "    <tr style=\"text-align: right;\">\n",
       "      <th></th>\n",
       "      <th>date_posted</th>\n",
       "      <th>days_listed</th>\n",
       "      <th>day_of_week</th>\n",
       "      <th>month</th>\n",
       "      <th>year</th>\n",
       "      <th>vehicle_age</th>\n",
       "    </tr>\n",
       "  </thead>\n",
       "  <tbody>\n",
       "    <tr>\n",
       "      <th>0</th>\n",
       "      <td>2018-06-23</td>\n",
       "      <td>19</td>\n",
       "      <td>5</td>\n",
       "      <td>6</td>\n",
       "      <td>2018</td>\n",
       "      <td>7</td>\n",
       "    </tr>\n",
       "    <tr>\n",
       "      <th>1</th>\n",
       "      <td>2018-10-19</td>\n",
       "      <td>50</td>\n",
       "      <td>4</td>\n",
       "      <td>10</td>\n",
       "      <td>2018</td>\n",
       "      <td>7</td>\n",
       "    </tr>\n",
       "    <tr>\n",
       "      <th>2</th>\n",
       "      <td>2019-02-07</td>\n",
       "      <td>79</td>\n",
       "      <td>3</td>\n",
       "      <td>2</td>\n",
       "      <td>2019</td>\n",
       "      <td>6</td>\n",
       "    </tr>\n",
       "    <tr>\n",
       "      <th>3</th>\n",
       "      <td>2019-03-22</td>\n",
       "      <td>9</td>\n",
       "      <td>4</td>\n",
       "      <td>3</td>\n",
       "      <td>2019</td>\n",
       "      <td>16</td>\n",
       "    </tr>\n",
       "    <tr>\n",
       "      <th>4</th>\n",
       "      <td>2019-04-02</td>\n",
       "      <td>28</td>\n",
       "      <td>1</td>\n",
       "      <td>4</td>\n",
       "      <td>2019</td>\n",
       "      <td>2</td>\n",
       "    </tr>\n",
       "  </tbody>\n",
       "</table>\n",
       "</div>"
      ],
      "text/plain": [
       "  date_posted  days_listed  day_of_week  month  year  vehicle_age\n",
       "0  2018-06-23           19            5      6  2018            7\n",
       "1  2018-10-19           50            4     10  2018            7\n",
       "2  2019-02-07           79            3      2  2019            6\n",
       "3  2019-03-22            9            4      3  2019           16\n",
       "4  2019-04-02           28            1      4  2019            2"
      ]
     },
     "metadata": {},
     "output_type": "display_data"
    }
   ],
   "source": [
    "display(\n",
    "    df.head(),\n",
    "    ad_ref.head())"
   ]
  },
  {
   "cell_type": "markdown",
   "metadata": {},
   "source": [
    "<a class=\"anchor\" id=\"4_eda\"></a>\n",
    "## Carry out exploratory data analysis\n",
    "***\n",
    "[back to Table of Contents](#0_toc)\n",
    "\n",
    "1. [Histograms](#4_eda-1_hist)\n",
    "2. [Outliers](#4_eda-2_box)\n",
    "3. [Compare histograms](#4_eda-3_comp)\n",
    "4. [Ad lifespan](#4_eda-4_ad)\n",
    "5. [Ads by vehicle type](#4_eda-5_vehicle)\n",
    "6. [Price correlation](#4_eda-6_price)"
   ]
  },
  {
   "cell_type": "markdown",
   "metadata": {},
   "source": [
    "_Task_: <br />\n",
    "Study the following parameters: price, vehicle's age when the ad was placed, mileage, number of cylinders, and condition.  \n",
    "Plot histograms for each of these parameters.  \n",
    "Study how outliers affect the form and readability of the histograms."
   ]
  },
  {
   "cell_type": "code",
   "execution_count": 83,
   "metadata": {},
   "outputs": [
    {
     "data": {
      "text/html": [
       "<div>\n",
       "<style scoped>\n",
       "    .dataframe tbody tr th:only-of-type {\n",
       "        vertical-align: middle;\n",
       "    }\n",
       "\n",
       "    .dataframe tbody tr th {\n",
       "        vertical-align: top;\n",
       "    }\n",
       "\n",
       "    .dataframe thead th {\n",
       "        text-align: right;\n",
       "    }\n",
       "</style>\n",
       "<table border=\"1\" class=\"dataframe\">\n",
       "  <thead>\n",
       "    <tr style=\"text-align: right;\">\n",
       "      <th></th>\n",
       "      <th>price</th>\n",
       "      <th>vehicle_age</th>\n",
       "      <th>mileage</th>\n",
       "      <th>cylinders</th>\n",
       "      <th>condition_id</th>\n",
       "    </tr>\n",
       "  </thead>\n",
       "  <tbody>\n",
       "    <tr>\n",
       "      <th>0</th>\n",
       "      <td>9400</td>\n",
       "      <td>7</td>\n",
       "      <td>145000</td>\n",
       "      <td>6</td>\n",
       "      <td>2</td>\n",
       "    </tr>\n",
       "    <tr>\n",
       "      <th>1</th>\n",
       "      <td>25500</td>\n",
       "      <td>7</td>\n",
       "      <td>88705</td>\n",
       "      <td>6</td>\n",
       "      <td>2</td>\n",
       "    </tr>\n",
       "    <tr>\n",
       "      <th>2</th>\n",
       "      <td>5500</td>\n",
       "      <td>6</td>\n",
       "      <td>110000</td>\n",
       "      <td>4</td>\n",
       "      <td>4</td>\n",
       "    </tr>\n",
       "    <tr>\n",
       "      <th>3</th>\n",
       "      <td>1500</td>\n",
       "      <td>16</td>\n",
       "      <td>202621</td>\n",
       "      <td>8</td>\n",
       "      <td>1</td>\n",
       "    </tr>\n",
       "    <tr>\n",
       "      <th>4</th>\n",
       "      <td>14900</td>\n",
       "      <td>2</td>\n",
       "      <td>80903</td>\n",
       "      <td>4</td>\n",
       "      <td>3</td>\n",
       "    </tr>\n",
       "  </tbody>\n",
       "</table>\n",
       "</div>"
      ],
      "text/plain": [
       "   price  vehicle_age  mileage  cylinders  condition_id\n",
       "0   9400            7   145000          6             2\n",
       "1  25500            7    88705          6             2\n",
       "2   5500            6   110000          4             4\n",
       "3   1500           16   202621          8             1\n",
       "4  14900            2    80903          4             3"
      ]
     },
     "metadata": {},
     "output_type": "display_data"
    },
    {
     "data": {
      "text/html": [
       "<div>\n",
       "<style scoped>\n",
       "    .dataframe tbody tr th:only-of-type {\n",
       "        vertical-align: middle;\n",
       "    }\n",
       "\n",
       "    .dataframe tbody tr th {\n",
       "        vertical-align: top;\n",
       "    }\n",
       "\n",
       "    .dataframe thead th {\n",
       "        text-align: right;\n",
       "    }\n",
       "</style>\n",
       "<table border=\"1\" class=\"dataframe\">\n",
       "  <thead>\n",
       "    <tr style=\"text-align: right;\">\n",
       "      <th></th>\n",
       "      <th>price</th>\n",
       "      <th>vehicle_age</th>\n",
       "      <th>mileage</th>\n",
       "      <th>cylinders</th>\n",
       "      <th>condition_id</th>\n",
       "    </tr>\n",
       "  </thead>\n",
       "  <tbody>\n",
       "    <tr>\n",
       "      <th>count</th>\n",
       "      <td>51525.000000</td>\n",
       "      <td>51525.000000</td>\n",
       "      <td>51525.000000</td>\n",
       "      <td>51525.000000</td>\n",
       "      <td>51525.000000</td>\n",
       "    </tr>\n",
       "    <tr>\n",
       "      <th>mean</th>\n",
       "      <td>12132.464920</td>\n",
       "      <td>8.513906</td>\n",
       "      <td>115545.275827</td>\n",
       "      <td>6.119049</td>\n",
       "      <td>2.637535</td>\n",
       "    </tr>\n",
       "    <tr>\n",
       "      <th>std</th>\n",
       "      <td>10040.803015</td>\n",
       "      <td>6.112976</td>\n",
       "      <td>62004.180916</td>\n",
       "      <td>1.657369</td>\n",
       "      <td>0.712447</td>\n",
       "    </tr>\n",
       "    <tr>\n",
       "      <th>min</th>\n",
       "      <td>1.000000</td>\n",
       "      <td>0.000000</td>\n",
       "      <td>0.000000</td>\n",
       "      <td>3.000000</td>\n",
       "      <td>0.000000</td>\n",
       "    </tr>\n",
       "    <tr>\n",
       "      <th>25%</th>\n",
       "      <td>5000.000000</td>\n",
       "      <td>4.000000</td>\n",
       "      <td>73179.000000</td>\n",
       "      <td>4.000000</td>\n",
       "      <td>2.000000</td>\n",
       "    </tr>\n",
       "    <tr>\n",
       "      <th>50%</th>\n",
       "      <td>9000.000000</td>\n",
       "      <td>8.000000</td>\n",
       "      <td>114604.000000</td>\n",
       "      <td>6.000000</td>\n",
       "      <td>3.000000</td>\n",
       "    </tr>\n",
       "    <tr>\n",
       "      <th>75%</th>\n",
       "      <td>16839.000000</td>\n",
       "      <td>12.000000</td>\n",
       "      <td>152354.000000</td>\n",
       "      <td>8.000000</td>\n",
       "      <td>3.000000</td>\n",
       "    </tr>\n",
       "    <tr>\n",
       "      <th>max</th>\n",
       "      <td>375000.000000</td>\n",
       "      <td>110.000000</td>\n",
       "      <td>990000.000000</td>\n",
       "      <td>12.000000</td>\n",
       "      <td>5.000000</td>\n",
       "    </tr>\n",
       "  </tbody>\n",
       "</table>\n",
       "</div>"
      ],
      "text/plain": [
       "               price   vehicle_age        mileage     cylinders  condition_id\n",
       "count   51525.000000  51525.000000   51525.000000  51525.000000  51525.000000\n",
       "mean    12132.464920      8.513906  115545.275827      6.119049      2.637535\n",
       "std     10040.803015      6.112976   62004.180916      1.657369      0.712447\n",
       "min         1.000000      0.000000       0.000000      3.000000      0.000000\n",
       "25%      5000.000000      4.000000   73179.000000      4.000000      2.000000\n",
       "50%      9000.000000      8.000000  114604.000000      6.000000      3.000000\n",
       "75%     16839.000000     12.000000  152354.000000      8.000000      3.000000\n",
       "max    375000.000000    110.000000  990000.000000     12.000000      5.000000"
      ]
     },
     "metadata": {},
     "output_type": "display_data"
    }
   ],
   "source": [
    "df_hist = df.join(ad_ref)\n",
    "df_hist = df_hist[['price', 'vehicle_age', 'mileage', 'cylinders', 'condition_id']]\n",
    "display(\n",
    "    df_hist.head(),\n",
    "    df_hist.describe())"
   ]
  },
  {
   "cell_type": "markdown",
   "metadata": {},
   "source": [
    "<a class=\"anchor\" id=\"4_eda-1_hist\"></a>\n",
    "### Display histograms\n",
    "[back to EDA](#4_eda)"
   ]
  },
  {
   "cell_type": "code",
   "execution_count": 84,
   "metadata": {},
   "outputs": [],
   "source": [
    "def display_histogram(column, quant_bins=None, cat_bins=None, cat_threshold=20, range=None):\n",
    "    \"\"\"Displays a histogram, zooming-in on inherent min-max range\"\"\"\n",
    "    \n",
    "    if isinstance(column, pd.Series):\n",
    "        target = column\n",
    "        name = column.name\n",
    "    else:\n",
    "        target = df[column]\n",
    "        name = column\n",
    "\n",
    "    unique_values_count = len(target.unique())\n",
    "    if unique_values_count > cat_threshold:\n",
    "        bins = quant_bins or 100\n",
    "    else:\n",
    "        bins = unique_values_count\n",
    "        \n",
    "    name = name.replace('_id', '').replace('_', ' ')\n",
    "    \n",
    "    target.plot(kind='hist', bins=bins, range=range or (target.min(), target.max()), title=name);\n",
    "    plt.show();"
   ]
  },
  {
   "cell_type": "code",
   "execution_count": 85,
   "metadata": {},
   "outputs": [],
   "source": [
    "def display_histograms(df, quant_bins=None, cat_bins=None, cat_threshold=20, range=None):\n",
    "    \"\"\"Displays histograms, iterating on columns\"\"\"\n",
    "    \n",
    "    for column in df:\n",
    "        display_histogram(df[column], quant_bins, cat_bins, cat_threshold, range)"
   ]
  },
  {
   "cell_type": "code",
   "execution_count": 86,
   "metadata": {},
   "outputs": [
    {
     "data": {
      "image/png": "[encoded data removed]",
      "text/plain": [
       "<Figure size 432x288 with 1 Axes>"
      ]
     },
     "metadata": {
      "needs_background": "light"
     },
     "output_type": "display_data"
    },
    {
     "data": {
      "image/png": "[encoded data removed]",
      "text/plain": [
       "<Figure size 432x288 with 1 Axes>"
      ]
     },
     "metadata": {
      "needs_background": "light"
     },
     "output_type": "display_data"
    },
    {
     "data": {
      "image/png": "[encoded data removed]",
      "text/plain": [
       "<Figure size 432x288 with 1 Axes>"
      ]
     },
     "metadata": {
      "needs_background": "light"
     },
     "output_type": "display_data"
    },
    {
     "data": {
      "image/png": "[encoded data removed]",
      "text/plain": [
       "<Figure size 432x288 with 1 Axes>"
      ]
     },
     "metadata": {
      "needs_background": "light"
     },
     "output_type": "display_data"
    },
    {
     "data": {
      "image/png": "[encoded data removed]",
      "text/plain": [
       "<Figure size 432x288 with 1 Axes>"
      ]
     },
     "metadata": {
      "needs_background": "light"
     },
     "output_type": "display_data"
    }
   ],
   "source": [
    "display_histograms(df_hist, quant_bins=30)"
   ]
  },
  {
   "cell_type": "markdown",
   "metadata": {},
   "source": [
    "Outliers (upper) for quantitative variables make the plot appear even more skewed to the right,  \n",
    "and prevent from properly scaling and zooming-in on relevant range of values."
   ]
  },
  {
   "cell_type": "markdown",
   "metadata": {},
   "source": [
    "<div class=\"alert alert-block alert-success\">\n",
    "    <h2>Reviewer's commentary <a class=\"tocSkip\"></h2>\n",
    "    <br/>\n",
    "<b>Well done!👍:</b> \n",
    "        \n",
    "A big plus for the automation of plot building."
   ]
  },
  {
   "cell_type": "markdown",
   "metadata": {},
   "source": [
    "<a class=\"anchor\" id=\"4_eda-2_box\"></a>\n",
    "### Remove Outliers\n",
    "[back to EDA](#4_eda)\n",
    "\n",
    "_Task_: <br />\n",
    "Determine the upper limits of outliers,  \n",
    "remove the outliers and store them in a separate DataFrame,  \n",
    "and continue your work with the filtered data."
   ]
  },
  {
   "cell_type": "code",
   "execution_count": 87,
   "metadata": {},
   "outputs": [],
   "source": [
    "def calculate_descriptive_stats(target):\n",
    "    \"\"\"\n",
    "    Returns a Tuple of:\n",
    "      lower extreme,\n",
    "      upper extreme,\n",
    "      IQR\n",
    "      Q1,\n",
    "      Q3\n",
    "    \"\"\"\n",
    "    \n",
    "    q1 = target.quantile(0.25)\n",
    "    q3 = target.quantile(0.75)\n",
    "    iqr = q3 - q1\n",
    "    \n",
    "    limits = [\n",
    "        max(q1 - (1.5 * iqr), target.min()),\n",
    "        min(q3 + (1.5 * iqr), target.max())\n",
    "    ]\n",
    "    \n",
    "    return limits[0], limits[1], iqr, q1, q3"
   ]
  },
  {
   "cell_type": "code",
   "execution_count": 88,
   "metadata": {},
   "outputs": [],
   "source": [
    "# returns a value for the sake of the exercise, bad practice in general.\n",
    "# either display a graphic or calculate a value, not both.\n",
    "\n",
    "def display_boxplot(column, limit_color='red'):\n",
    "    \"\"\"\n",
    "    Displays a boxplot with upper and lower outlier limits highlighted.\n",
    "    Prints IQR and outlier limits.\n",
    "    \n",
    "    Returns calculated outlier limits [lower, upper]\n",
    "    \"\"\"\n",
    "    \n",
    "    lower_extreme, upper_extreme, iqr, _, _ = calculate_descriptive_stats(column)\n",
    "    print('iqr:', iqr, 'lower extreme:', lower_extreme, 'upper extreme:', upper_extreme)\n",
    "\n",
    "    column.plot(kind='box', ylim=(lower_extreme-iqr/1.5, upper_extreme+iqr/1.5))\n",
    "    plt.hlines([lower_extreme, upper_extreme], color=limit_color, xmin=0.9, xmax=1.1)\n",
    "    plt.show();\n",
    "    \n",
    "    return lower_extreme, upper_extreme"
   ]
  },
  {
   "cell_type": "code",
   "execution_count": 89,
   "metadata": {
    "scrolled": true
   },
   "outputs": [
    {
     "name": "stdout",
     "output_type": "stream",
     "text": [
      "iqr: 11839.0 lower extreme: 1 upper extreme: 34597.5\n"
     ]
    },
    {
     "data": {
      "image/png": "[encoded data removed]",
      "text/plain": [
       "<Figure size 432x288 with 1 Axes>"
      ]
     },
     "metadata": {
      "needs_background": "light"
     },
     "output_type": "display_data"
    }
   ],
   "source": [
    "price_lower_limit, price_upper_limit = display_boxplot(df_hist['price'])"
   ]
  },
  {
   "cell_type": "code",
   "execution_count": 90,
   "metadata": {
    "scrolled": true
   },
   "outputs": [
    {
     "name": "stdout",
     "output_type": "stream",
     "text": [
      "iqr: 8.0 lower extreme: 0 upper extreme: 24.0\n"
     ]
    },
    {
     "data": {
      "image/png": "[encoded data removed]",
      "text/plain": [
       "<Figure size 432x288 with 1 Axes>"
      ]
     },
     "metadata": {
      "needs_background": "light"
     },
     "output_type": "display_data"
    }
   ],
   "source": [
    "vehicle_lower_limit, vehicle_upper_limit = display_boxplot(df_hist['vehicle_age'])"
   ]
  },
  {
   "cell_type": "code",
   "execution_count": 91,
   "metadata": {},
   "outputs": [
    {
     "name": "stdout",
     "output_type": "stream",
     "text": [
      "iqr: 79175.0 lower extreme: 0 upper extreme: 271116.5\n"
     ]
    },
    {
     "data": {
      "image/png": "[encoded data removed]",
      "text/plain": [
       "<Figure size 432x288 with 1 Axes>"
      ]
     },
     "metadata": {
      "needs_background": "light"
     },
     "output_type": "display_data"
    }
   ],
   "source": [
    "mileage_lower_limit, mileage_upper_limit = display_boxplot(df_hist['mileage'])"
   ]
  },
  {
   "cell_type": "code",
   "execution_count": 92,
   "metadata": {},
   "outputs": [
    {
     "name": "stdout",
     "output_type": "stream",
     "text": [
      "iqr: 4.0 lower extreme: 3 upper extreme: 12\n"
     ]
    },
    {
     "data": {
      "image/png": "[encoded data removed]",
      "text/plain": [
       "<Figure size 432x288 with 1 Axes>"
      ]
     },
     "metadata": {
      "needs_background": "light"
     },
     "output_type": "display_data"
    }
   ],
   "source": [
    "cylinders_lower_limit, cylinders_upper_limit = display_boxplot(df_hist['cylinders'])"
   ]
  },
  {
   "cell_type": "code",
   "execution_count": 93,
   "metadata": {},
   "outputs": [
    {
     "name": "stdout",
     "output_type": "stream",
     "text": [
      "iqr: 1.0 lower extreme: 0.5 upper extreme: 4.5\n"
     ]
    },
    {
     "data": {
      "image/png": "[encoded data removed]",
      "text/plain": [
       "<Figure size 432x288 with 1 Axes>"
      ]
     },
     "metadata": {
      "needs_background": "light"
     },
     "output_type": "display_data"
    }
   ],
   "source": [
    "condition_lower_limit, condition_upper_limit = display_boxplot(df_hist['condition_id'])"
   ]
  },
  {
   "cell_type": "markdown",
   "metadata": {},
   "source": [
    "Only 'cylinders' does not appear to have outliers,  \n",
    "'condition_id' has 2 outliers,  \n",
    "and the rest of the columns have many high outliers (right skewed distribution)."
   ]
  },
  {
   "cell_type": "code",
   "execution_count": 94,
   "metadata": {},
   "outputs": [
    {
     "data": {
      "text/markdown": [
       "outliers make 3170 (6.15%) of the dataframe."
      ],
      "text/plain": [
       "<IPython.core.display.Markdown object>"
      ]
     },
     "metadata": {},
     "output_type": "display_data"
    }
   ],
   "source": [
    "df_outliers = df_hist.query('''\n",
    "    (price < @price_lower_limit or price > @price_upper_limit) \\\n",
    " or (vehicle_age < @vehicle_lower_limit or vehicle_age > @vehicle_upper_limit) \\\n",
    " or (mileage < @mileage_lower_limit or mileage > @mileage_upper_limit) \\\n",
    " or (cylinders < @cylinders_lower_limit or cylinders > @cylinders_upper_limit) \\\n",
    " or (condition_id < @condition_lower_limit or condition_id > @condition_upper_limit)    \n",
    "    ''')\n",
    "display(md(f'outliers make {len(df_outliers)} ({len(df_outliers)/len(df_hist):.2%}) of the dataframe.'))"
   ]
  },
  {
   "cell_type": "code",
   "execution_count": 95,
   "metadata": {},
   "outputs": [],
   "source": [
    "df_filtered = df_hist.drop(df_outliers.index)"
   ]
  },
  {
   "cell_type": "code",
   "execution_count": 96,
   "metadata": {},
   "outputs": [
    {
     "data": {
      "text/markdown": [
       "Filtered dataframe outliers: 0 (0%)"
      ],
      "text/plain": [
       "<IPython.core.display.Markdown object>"
      ]
     },
     "metadata": {},
     "output_type": "display_data"
    }
   ],
   "source": [
    "df_outliers = df_filtered.query('''\n",
    "    (price < @price_lower_limit or price > @price_upper_limit) \\\n",
    " or (vehicle_age < @vehicle_lower_limit or vehicle_age > @vehicle_upper_limit) \\\n",
    " or (mileage < @mileage_lower_limit or mileage > @mileage_upper_limit) \\\n",
    " or (cylinders < @cylinders_lower_limit or cylinders > @cylinders_upper_limit) \\\n",
    " or (condition_id < @condition_lower_limit or condition_id > @condition_upper_limit)    \n",
    "    ''')\n",
    "display(md(f'Filtered dataframe outliers: {len(df_outliers)} ({len(df_outliers)/len(df_hist):.0%})'))"
   ]
  },
  {
   "cell_type": "markdown",
   "metadata": {},
   "source": [
    "<div class=\"alert alert-block alert-success\">\n",
    "    <h2>Reviewer's commentary <a class=\"tocSkip\"> </h2>\n",
    "    <br/>\n",
    "<b>Well done!👍:</b> \n",
    "    \n",
    "Ok, Daniel,  I see that you used the IQR method for deleting the outliers, you can use this method, it is rather effective one for this task! More details about working with the outliers you can find by links:\n",
    "    \n",
    "https://towardsdatascience.com/ways-to-detect-and-remove-the-outliers-404d16608dba\n",
    "    \n",
    "http://colingorrie.github.io/outlier-detection.html#iqr-method\n",
    "    \n",
    "https://statisticsbyjim.com/basics/outliers/"
   ]
  },
  {
   "cell_type": "markdown",
   "metadata": {},
   "source": [
    "<a class=\"anchor\" id=\"4_eda-3_comp\"></a>\n",
    "### Compare histograms\n",
    "[back to EDA](#4_eda)\n",
    "\n",
    "_Task_: <br />\n",
    "Use the filtered data to plot new histograms.  \n",
    "Compare them with the earlier histograms (the ones that included outliers).  \n",
    "Draw conclusions for each histogram."
   ]
  },
  {
   "cell_type": "code",
   "execution_count": 97,
   "metadata": {},
   "outputs": [
    {
     "data": {
      "image/png": "[encoded data removed]",
      "text/plain": [
       "<Figure size 432x288 with 1 Axes>"
      ]
     },
     "metadata": {
      "needs_background": "light"
     },
     "output_type": "display_data"
    },
    {
     "data": {
      "image/png": "[encoded data removed]",
      "text/plain": [
       "<Figure size 432x288 with 1 Axes>"
      ]
     },
     "metadata": {
      "needs_background": "light"
     },
     "output_type": "display_data"
    },
    {
     "data": {
      "image/png": "[encoded data removed]",
      "text/plain": [
       "<Figure size 432x288 with 1 Axes>"
      ]
     },
     "metadata": {
      "needs_background": "light"
     },
     "output_type": "display_data"
    },
    {
     "data": {
      "image/png": "[encoded data removed]",
      "text/plain": [
       "<Figure size 432x288 with 1 Axes>"
      ]
     },
     "metadata": {
      "needs_background": "light"
     },
     "output_type": "display_data"
    },
    {
     "data": {
      "image/png": "[encoded data removed]",
      "text/plain": [
       "<Figure size 432x288 with 1 Axes>"
      ]
     },
     "metadata": {
      "needs_background": "light"
     },
     "output_type": "display_data"
    }
   ],
   "source": [
    "display_histograms(df_filtered, quant_bins=25)"
   ]
  },
  {
   "cell_type": "code",
   "execution_count": 98,
   "metadata": {},
   "outputs": [],
   "source": [
    "def compare_plots(old, new, kind='hist', xlim=None, title=True, _hook=None, **kwargs):\n",
    "    \"\"\"Draws 2 plots: one before removing outliers, and the other afterwards\"\"\"\n",
    "    \n",
    "    if kind == 'hist':\n",
    "        _min = min(old.min(), new.min())\n",
    "        _max = max(old.max(), new.max())\n",
    "        _range = _min, xlim or _max\n",
    "        kwargs['range'] = _range\n",
    "    \n",
    "    old.plot(kind=kind, **kwargs)\n",
    "    new.plot(kind=kind, **kwargs)\n",
    "        \n",
    "    if _hook and callable(_hook):\n",
    "        _hook()\n",
    "    \n",
    "    if title:\n",
    "        plt.title(f'{old.name} comparison')\n",
    "    \n",
    "    plt.legend(['old', 'new'])\n",
    "    plt.show();"
   ]
  },
  {
   "cell_type": "markdown",
   "metadata": {},
   "source": [
    "<div class=\"alert alert-block alert-success\">\n",
    "    <h2>Reviewer's commentary <a class=\"tocSkip\"> </h2>\n",
    "    <br/>\n",
    "<b>Well done!👍:</b> \n",
    "    \n",
    "You created really effective function!"
   ]
  },
  {
   "cell_type": "code",
   "execution_count": 99,
   "metadata": {
    "scrolled": true
   },
   "outputs": [
    {
     "data": {
      "image/png": "[encoded data removed]",
      "text/plain": [
       "<Figure size 432x288 with 1 Axes>"
      ]
     },
     "metadata": {
      "needs_background": "light"
     },
     "output_type": "display_data"
    }
   ],
   "source": [
    "compare_plots(df_hist['price'], df_filtered['price'], bins=40, xlim=40000)"
   ]
  },
  {
   "cell_type": "code",
   "execution_count": 100,
   "metadata": {},
   "outputs": [
    {
     "data": {
      "image/png": "[encoded data removed]",
      "text/plain": [
       "<Figure size 432x288 with 1 Axes>"
      ]
     },
     "metadata": {
      "needs_background": "light"
     },
     "output_type": "display_data"
    }
   ],
   "source": [
    "compare_plots(df_hist['vehicle_age'], df_filtered['vehicle_age'], bins=15, xlim=30)"
   ]
  },
  {
   "cell_type": "code",
   "execution_count": 101,
   "metadata": {
    "scrolled": true
   },
   "outputs": [
    {
     "data": {
      "image/png": "[encoded data removed]",
      "text/plain": [
       "<Figure size 432x288 with 1 Axes>"
      ]
     },
     "metadata": {
      "needs_background": "light"
     },
     "output_type": "display_data"
    }
   ],
   "source": [
    "compare_plots(df_hist['mileage'], df_filtered['mileage'], bins=30, xlim=300000)"
   ]
  },
  {
   "cell_type": "code",
   "execution_count": 102,
   "metadata": {
    "scrolled": true
   },
   "outputs": [
    {
     "data": {
      "image/png": "[encoded data removed]",
      "text/plain": [
       "<Figure size 432x288 with 1 Axes>"
      ]
     },
     "metadata": {
      "needs_background": "light"
     },
     "output_type": "display_data"
    }
   ],
   "source": [
    "compare_plots(df_hist['cylinders'], df_filtered['cylinders'])"
   ]
  },
  {
   "cell_type": "code",
   "execution_count": 103,
   "metadata": {
    "scrolled": false
   },
   "outputs": [
    {
     "data": {
      "image/png": "[encoded data removed]",
      "text/plain": [
       "<Figure size 432x288 with 1 Axes>"
      ]
     },
     "metadata": {
      "needs_background": "light"
     },
     "output_type": "display_data"
    }
   ],
   "source": [
    "compare_plots(df_hist['condition_id'], df_filtered['condition_id'],\n",
    "             _hook=lambda:plt.xticks(range(6), labels=condition_ref.values, rotation=45, ha='left'))"
   ]
  },
  {
   "cell_type": "markdown",
   "metadata": {},
   "source": [
    "The new histograms with no outliers have less values, but the distribution has remained practically the same,  \n",
    "and it will be easier to work with the data since the scale will not get skewed."
   ]
  },
  {
   "cell_type": "markdown",
   "metadata": {},
   "source": [
    "<a class=\"anchor\" id=\"4_eda-4_ad\"></a>\n",
    "### Ad lifespan\n",
    "[back to EDA](#4_eda)\n",
    "\n",
    "_Task_: <br />\n",
    "Study how many days advertisements were displayed (days_listed).  \n",
    "Plot a histogram. Calculate the mean and median.  \n",
    "Describe the typical lifetime of an ad.  \n",
    "Determine when ads were removed quickly, and when they were listed for an abnormally long time."
   ]
  },
  {
   "cell_type": "code",
   "execution_count": 104,
   "metadata": {},
   "outputs": [],
   "source": [
    "def plot_stats_hist(series, bins=40, alpha=.5, colors={}, **kwargs):\n",
    "    \"\"\"Displays a histogram, with verical lines drawn for important statistics\"\"\"\n",
    "    \n",
    "    def plot_stat(name, value, color, alpha):\n",
    "        plt.axvline(value, color=color, label=f'{name} ({value:.1f})', alpha=alpha)\n",
    "        \n",
    "    series.hist(bins=bins, alpha=alpha, **kwargs)\n",
    "    plot_stat('mean', series.mean(), 'green', alpha)\n",
    "    plot_stat('median', series.median(), 'black', alpha)\n",
    "    plot_stat('mode', series.mode()[0], 'blue', alpha)\n",
    "\n",
    "    lower_limit, upper_limit, _, _, _ = calculate_descriptive_stats(ad_ref['days_listed'])\n",
    "    days_listed_outlier_limits = lower_limit, upper_limit\n",
    "    for i, limit in enumerate(days_listed_outlier_limits):\n",
    "        label = f'extremes ({days_listed_outlier_limits[0]:.1f}, {days_listed_outlier_limits[1]:.1f})' \\\n",
    "                if i == 0 else None\n",
    "        plt.axvline(limit, color='red', label=label, alpha=0.5)\n",
    "    \n",
    "    plt.title(f'{series.name} statistics')\n",
    "    plt.legend()\n",
    "    plt.ylabel('Frequency')\n",
    "    plt.show()\n",
    "    \n",
    "    outliers_count = len(series.loc[\n",
    "        (series < days_listed_outlier_limits[0]) \\\n",
    "      | (series > days_listed_outlier_limits[1])])\n",
    "    \n",
    "    outliers_percent = outliers_count / len(series)\n",
    "    \n",
    "    display(md(f'{series.name} outliers: {outliers_count} ({outliers_percent:.2%})'))"
   ]
  },
  {
   "cell_type": "code",
   "execution_count": 105,
   "metadata": {
    "scrolled": true
   },
   "outputs": [
    {
     "data": {
      "image/png": "[encoded data removed]",
      "text/plain": [
       "<Figure size 432x288 with 1 Axes>"
      ]
     },
     "metadata": {
      "needs_background": "light"
     },
     "output_type": "display_data"
    },
    {
     "data": {
      "text/markdown": [
       "days_listed outliers: 1618 (3.14%)"
      ],
      "text/plain": [
       "<IPython.core.display.Markdown object>"
      ]
     },
     "metadata": {},
     "output_type": "display_data"
    }
   ],
   "source": [
    "plot_stats_hist(ad_ref['days_listed'])"
   ]
  },
  {
   "cell_type": "markdown",
   "metadata": {},
   "source": [
    "Zooming in"
   ]
  },
  {
   "cell_type": "code",
   "execution_count": 106,
   "metadata": {
    "scrolled": true
   },
   "outputs": [
    {
     "data": {
      "image/png": "[encoded data removed]",
      "text/plain": [
       "<Figure size 432x288 with 1 Axes>"
      ]
     },
     "metadata": {
      "needs_background": "light"
     },
     "output_type": "display_data"
    },
    {
     "data": {
      "text/markdown": [
       "days_listed outliers: 1618 (3.14%)"
      ],
      "text/plain": [
       "<IPython.core.display.Markdown object>"
      ]
     },
     "metadata": {},
     "output_type": "display_data"
    }
   ],
   "source": [
    "plot_stats_hist(ad_ref['days_listed'], range=(0,100), bins=20)"
   ]
  },
  {
   "cell_type": "code",
   "execution_count": 107,
   "metadata": {},
   "outputs": [
    {
     "data": {
      "image/png": "[encoded data removed]",
      "text/plain": [
       "<Figure size 432x288 with 1 Axes>"
      ]
     },
     "metadata": {
      "needs_background": "light"
     },
     "output_type": "display_data"
    }
   ],
   "source": [
    "ad_ref['days_listed'].plot(kind='box', ylim=(-10,120), grid=True);"
   ]
  },
  {
   "cell_type": "markdown",
   "metadata": {},
   "source": [
    "The threshold for abnormally long-listed ads is at 104 (Q3 + 1.5*IQR).  \n",
    "The bulk part of ads were listed between 20 and 55 days, most frequently ~18 days."
   ]
  },
  {
   "cell_type": "markdown",
   "metadata": {},
   "source": [
    "<div class=\"alert alert-block alert-success\">\n",
    "    <h2>Reviewer's commentary <a class=\"tocSkip\"> </h2>\n",
    "    <br/>\n",
    "<b>Well done!👍:</b> \n",
    "    \n",
    "Ok, agree with your interpretation of the analysis' result. The visualization looks great!"
   ]
  },
  {
   "cell_type": "markdown",
   "metadata": {},
   "source": [
    "<a class=\"anchor\" id=\"4_eda-5_vehicle\"></a>\n",
    "### Ads by vehicle type\n",
    "[back to EDA](#4_eda)\n",
    "\n",
    "_Task_: <br />\n",
    "Analyze the number of ads and the average price for each type of vehicle.  \n",
    "Plot a graph showing the dependence of the number of ads on the vehicle type.  \n",
    "Select the two types with the greatest number of ads."
   ]
  },
  {
   "cell_type": "code",
   "execution_count": 108,
   "metadata": {
    "scrolled": false
   },
   "outputs": [
    {
     "data": {
      "text/html": [
       "<div>\n",
       "<style scoped>\n",
       "    .dataframe tbody tr th:only-of-type {\n",
       "        vertical-align: middle;\n",
       "    }\n",
       "\n",
       "    .dataframe tbody tr th {\n",
       "        vertical-align: top;\n",
       "    }\n",
       "\n",
       "    .dataframe thead th {\n",
       "        text-align: right;\n",
       "    }\n",
       "</style>\n",
       "<table border=\"1\" class=\"dataframe\">\n",
       "  <thead>\n",
       "    <tr style=\"text-align: right;\">\n",
       "      <th></th>\n",
       "      <th>type</th>\n",
       "      <th>price</th>\n",
       "      <th>count</th>\n",
       "    </tr>\n",
       "  </thead>\n",
       "  <tbody>\n",
       "    <tr>\n",
       "      <th>0</th>\n",
       "      <td>SUV</td>\n",
       "      <td>8900</td>\n",
       "      <td>12405</td>\n",
       "    </tr>\n",
       "    <tr>\n",
       "      <th>10</th>\n",
       "      <td>truck</td>\n",
       "      <td>14995</td>\n",
       "      <td>12353</td>\n",
       "    </tr>\n",
       "    <tr>\n",
       "      <th>9</th>\n",
       "      <td>sedan</td>\n",
       "      <td>5995</td>\n",
       "      <td>12154</td>\n",
       "    </tr>\n",
       "    <tr>\n",
       "      <th>8</th>\n",
       "      <td>pickup</td>\n",
       "      <td>14200</td>\n",
       "      <td>6988</td>\n",
       "    </tr>\n",
       "    <tr>\n",
       "      <th>3</th>\n",
       "      <td>coupe</td>\n",
       "      <td>12950</td>\n",
       "      <td>2303</td>\n",
       "    </tr>\n",
       "    <tr>\n",
       "      <th>12</th>\n",
       "      <td>wagon</td>\n",
       "      <td>7900</td>\n",
       "      <td>1541</td>\n",
       "    </tr>\n",
       "    <tr>\n",
       "      <th>5</th>\n",
       "      <td>mini-van</td>\n",
       "      <td>6495</td>\n",
       "      <td>1161</td>\n",
       "    </tr>\n",
       "    <tr>\n",
       "      <th>4</th>\n",
       "      <td>hatchback</td>\n",
       "      <td>5980</td>\n",
       "      <td>1047</td>\n",
       "    </tr>\n",
       "    <tr>\n",
       "      <th>11</th>\n",
       "      <td>van</td>\n",
       "      <td>7990</td>\n",
       "      <td>633</td>\n",
       "    </tr>\n",
       "    <tr>\n",
       "      <th>2</th>\n",
       "      <td>convertible</td>\n",
       "      <td>12250</td>\n",
       "      <td>446</td>\n",
       "    </tr>\n",
       "    <tr>\n",
       "      <th>7</th>\n",
       "      <td>other</td>\n",
       "      <td>8995</td>\n",
       "      <td>256</td>\n",
       "    </tr>\n",
       "    <tr>\n",
       "      <th>6</th>\n",
       "      <td>offroad</td>\n",
       "      <td>11650</td>\n",
       "      <td>214</td>\n",
       "    </tr>\n",
       "    <tr>\n",
       "      <th>1</th>\n",
       "      <td>bus</td>\n",
       "      <td>10500</td>\n",
       "      <td>24</td>\n",
       "    </tr>\n",
       "  </tbody>\n",
       "</table>\n",
       "</div>"
      ],
      "text/plain": [
       "           type  price  count\n",
       "0           SUV   8900  12405\n",
       "10        truck  14995  12353\n",
       "9         sedan   5995  12154\n",
       "8        pickup  14200   6988\n",
       "3         coupe  12950   2303\n",
       "12        wagon   7900   1541\n",
       "5      mini-van   6495   1161\n",
       "4     hatchback   5980   1047\n",
       "11          van   7990    633\n",
       "2   convertible  12250    446\n",
       "7         other   8995    256\n",
       "6       offroad  11650    214\n",
       "1           bus  10500     24"
      ]
     },
     "execution_count": 108,
     "metadata": {},
     "output_type": "execute_result"
    }
   ],
   "source": [
    "type_price_pivot = (df\n",
    " .pivot_table(\n",
    "     index='type_id',\n",
    "     values='price',\n",
    "     aggfunc=['median', 'count'])\n",
    " .reset_index()\n",
    ")\n",
    "type_price_pivot.columns = ['type', 'price', 'count']\n",
    "type_price_pivot['price'] = type_price_pivot['price'].astype('int')\n",
    "type_price_pivot['type'] = type_price_pivot['type'].apply(lambda x:model_type_ref[x])\n",
    "# type_price_pivot.set_index('type', inplace=True)\n",
    "type_price_pivot.sort_values(by='count', inplace=True, ascending=False)\n",
    "type_price_pivot"
   ]
  },
  {
   "cell_type": "code",
   "execution_count": 109,
   "metadata": {},
   "outputs": [
    {
     "data": {
      "image/png": "[encoded data removed]",
      "text/plain": [
       "<Figure size 432x288 with 1 Axes>"
      ]
     },
     "metadata": {
      "needs_background": "light"
     },
     "output_type": "display_data"
    }
   ],
   "source": [
    "type_price_pivot.plot(kind='bar', x='type', y='count', grid=True, title='Vehicle count by type', ylabel='count')\n",
    "plt.xticks(rotation=45, ha='right')\n",
    "plt.show();"
   ]
  },
  {
   "cell_type": "code",
   "execution_count": 110,
   "metadata": {},
   "outputs": [
    {
     "data": {
      "text/markdown": [
       "These vehicle types have the most ads associated with them:"
      ],
      "text/plain": [
       "<IPython.core.display.Markdown object>"
      ]
     },
     "metadata": {},
     "output_type": "display_data"
    },
    {
     "data": {
      "text/html": [
       "<div>\n",
       "<style scoped>\n",
       "    .dataframe tbody tr th:only-of-type {\n",
       "        vertical-align: middle;\n",
       "    }\n",
       "\n",
       "    .dataframe tbody tr th {\n",
       "        vertical-align: top;\n",
       "    }\n",
       "\n",
       "    .dataframe thead th {\n",
       "        text-align: right;\n",
       "    }\n",
       "</style>\n",
       "<table border=\"1\" class=\"dataframe\">\n",
       "  <thead>\n",
       "    <tr style=\"text-align: right;\">\n",
       "      <th></th>\n",
       "      <th>type</th>\n",
       "      <th>price</th>\n",
       "      <th>count</th>\n",
       "    </tr>\n",
       "  </thead>\n",
       "  <tbody>\n",
       "    <tr>\n",
       "      <th>0</th>\n",
       "      <td>SUV</td>\n",
       "      <td>8900</td>\n",
       "      <td>12405</td>\n",
       "    </tr>\n",
       "    <tr>\n",
       "      <th>10</th>\n",
       "      <td>truck</td>\n",
       "      <td>14995</td>\n",
       "      <td>12353</td>\n",
       "    </tr>\n",
       "  </tbody>\n",
       "</table>\n",
       "</div>"
      ],
      "text/plain": [
       "     type  price  count\n",
       "0     SUV   8900  12405\n",
       "10  truck  14995  12353"
      ]
     },
     "metadata": {},
     "output_type": "display_data"
    }
   ],
   "source": [
    "display(\n",
    "    md('These vehicle types have the most ads associated with them:'),\n",
    "    type_price_pivot[:2])"
   ]
  },
  {
   "cell_type": "markdown",
   "metadata": {},
   "source": [
    "SUV and Truck are the most frequent types of vehicles within ads posted."
   ]
  },
  {
   "cell_type": "markdown",
   "metadata": {},
   "source": [
    "<div class=\"alert alert-block alert-success\">\n",
    "    <h2>Reviewer's commentary <a class=\"tocSkip\"> </h2>\n",
    "    <br/>\n",
    "<b>Well done!👍:</b> \n",
    "\n",
    "Absolutely true, you correctly chose types of vehicles."
   ]
  },
  {
   "cell_type": "markdown",
   "metadata": {},
   "source": [
    "<a class=\"anchor\" id=\"4_eda-6_price\"></a>\n",
    "### Price correlation\n",
    "[back to EDA](#4_eda)\n",
    "\n",
    "_Task_: <br />\n",
    "What factors impact the price most?  \n",
    "Take each of the popular types you detected at the previous stage and study whether the price depends on:  \n",
    "- age\n",
    "- mileage\n",
    "- condition\n",
    "- transmission\n",
    "- color\n",
    "\n",
    "For categorical variables (transmission type and color), plot box-and-whisker charts, and create scatterplots for the rest.  \n",
    "When analyzing categorical variables, note that the categories must have at least 50 ads;  \n",
    "otherwise, their parameters won't be valid for analysis."
   ]
  },
  {
   "cell_type": "code",
   "execution_count": 111,
   "metadata": {},
   "outputs": [
    {
     "data": {
      "text/html": [
       "<div>\n",
       "<style scoped>\n",
       "    .dataframe tbody tr th:only-of-type {\n",
       "        vertical-align: middle;\n",
       "    }\n",
       "\n",
       "    .dataframe tbody tr th {\n",
       "        vertical-align: top;\n",
       "    }\n",
       "\n",
       "    .dataframe thead th {\n",
       "        text-align: right;\n",
       "    }\n",
       "</style>\n",
       "<table border=\"1\" class=\"dataframe\">\n",
       "  <thead>\n",
       "    <tr style=\"text-align: right;\">\n",
       "      <th></th>\n",
       "      <th>price</th>\n",
       "      <th>vehicle_age</th>\n",
       "      <th>mileage</th>\n",
       "      <th>condition_id</th>\n",
       "      <th>transmission_id</th>\n",
       "      <th>color_id</th>\n",
       "      <th>type</th>\n",
       "    </tr>\n",
       "  </thead>\n",
       "  <tbody>\n",
       "    <tr>\n",
       "      <th>0</th>\n",
       "      <td>9400</td>\n",
       "      <td>7</td>\n",
       "      <td>145000</td>\n",
       "      <td>2</td>\n",
       "      <td>0</td>\n",
       "      <td>10</td>\n",
       "      <td>SUV</td>\n",
       "    </tr>\n",
       "    <tr>\n",
       "      <th>7</th>\n",
       "      <td>15990</td>\n",
       "      <td>6</td>\n",
       "      <td>109473</td>\n",
       "      <td>3</td>\n",
       "      <td>0</td>\n",
       "      <td>0</td>\n",
       "      <td>SUV</td>\n",
       "    </tr>\n",
       "  </tbody>\n",
       "</table>\n",
       "</div>"
      ],
      "text/plain": [
       "   price  vehicle_age  mileage  condition_id  transmission_id  color_id type\n",
       "0   9400            7   145000             2                0        10  SUV\n",
       "7  15990            6   109473             3                0         0  SUV"
      ]
     },
     "execution_count": 111,
     "metadata": {},
     "output_type": "execute_result"
    }
   ],
   "source": [
    "correlation_df = df.join(ad_ref)[[\n",
    "    'price', 'vehicle_age', 'mileage',\n",
    "    'condition_id', 'transmission_id', 'color_id', 'type_id'\n",
    "]]\n",
    "correlation_df['type'] = correlation_df['type_id'].apply(lambda x:model_type_ref[x])\n",
    "correlation_df.drop('type_id', axis=1, inplace=True)\n",
    "correlation_df = (correlation_df\n",
    "                  .query('type == \"SUV\" or type == \"truck\"'))\n",
    "\n",
    "correlation_df.head(2)"
   ]
  },
  {
   "cell_type": "code",
   "execution_count": 112,
   "metadata": {},
   "outputs": [
    {
     "data": {
      "text/html": [
       "<div>\n",
       "<style scoped>\n",
       "    .dataframe tbody tr th:only-of-type {\n",
       "        vertical-align: middle;\n",
       "    }\n",
       "\n",
       "    .dataframe tbody tr th {\n",
       "        vertical-align: top;\n",
       "    }\n",
       "\n",
       "    .dataframe thead th {\n",
       "        text-align: right;\n",
       "    }\n",
       "</style>\n",
       "<table border=\"1\" class=\"dataframe\">\n",
       "  <thead>\n",
       "    <tr style=\"text-align: right;\">\n",
       "      <th></th>\n",
       "      <th>price</th>\n",
       "      <th>vehicle_age</th>\n",
       "      <th>mileage</th>\n",
       "      <th>condition_id</th>\n",
       "      <th>transmission_id</th>\n",
       "      <th>color_id</th>\n",
       "    </tr>\n",
       "  </thead>\n",
       "  <tbody>\n",
       "    <tr>\n",
       "      <th>price</th>\n",
       "      <td>1.000000</td>\n",
       "      <td>-0.521610</td>\n",
       "      <td>-0.449954</td>\n",
       "      <td>0.259821</td>\n",
       "      <td>-0.084861</td>\n",
       "      <td>0.024586</td>\n",
       "    </tr>\n",
       "    <tr>\n",
       "      <th>vehicle_age</th>\n",
       "      <td>-0.521610</td>\n",
       "      <td>1.000000</td>\n",
       "      <td>0.558423</td>\n",
       "      <td>-0.333696</td>\n",
       "      <td>0.061650</td>\n",
       "      <td>-0.025910</td>\n",
       "    </tr>\n",
       "    <tr>\n",
       "      <th>mileage</th>\n",
       "      <td>-0.449954</td>\n",
       "      <td>0.558423</td>\n",
       "      <td>1.000000</td>\n",
       "      <td>-0.347008</td>\n",
       "      <td>-0.021876</td>\n",
       "      <td>0.005626</td>\n",
       "    </tr>\n",
       "    <tr>\n",
       "      <th>condition_id</th>\n",
       "      <td>0.259821</td>\n",
       "      <td>-0.333696</td>\n",
       "      <td>-0.347008</td>\n",
       "      <td>1.000000</td>\n",
       "      <td>-0.013822</td>\n",
       "      <td>-0.003026</td>\n",
       "    </tr>\n",
       "    <tr>\n",
       "      <th>transmission_id</th>\n",
       "      <td>-0.084861</td>\n",
       "      <td>0.061650</td>\n",
       "      <td>-0.021876</td>\n",
       "      <td>-0.013822</td>\n",
       "      <td>1.000000</td>\n",
       "      <td>0.001429</td>\n",
       "    </tr>\n",
       "    <tr>\n",
       "      <th>color_id</th>\n",
       "      <td>0.024586</td>\n",
       "      <td>-0.025910</td>\n",
       "      <td>0.005626</td>\n",
       "      <td>-0.003026</td>\n",
       "      <td>0.001429</td>\n",
       "      <td>1.000000</td>\n",
       "    </tr>\n",
       "  </tbody>\n",
       "</table>\n",
       "</div>"
      ],
      "text/plain": [
       "                    price  vehicle_age   mileage  condition_id  \\\n",
       "price            1.000000    -0.521610 -0.449954      0.259821   \n",
       "vehicle_age     -0.521610     1.000000  0.558423     -0.333696   \n",
       "mileage         -0.449954     0.558423  1.000000     -0.347008   \n",
       "condition_id     0.259821    -0.333696 -0.347008      1.000000   \n",
       "transmission_id -0.084861     0.061650 -0.021876     -0.013822   \n",
       "color_id         0.024586    -0.025910  0.005626     -0.003026   \n",
       "\n",
       "                 transmission_id  color_id  \n",
       "price                  -0.084861  0.024586  \n",
       "vehicle_age             0.061650 -0.025910  \n",
       "mileage                -0.021876  0.005626  \n",
       "condition_id           -0.013822 -0.003026  \n",
       "transmission_id         1.000000  0.001429  \n",
       "color_id                0.001429  1.000000  "
      ]
     },
     "execution_count": 112,
     "metadata": {},
     "output_type": "execute_result"
    }
   ],
   "source": [
    "correlation_df.corr()"
   ]
  },
  {
   "cell_type": "markdown",
   "metadata": {},
   "source": [
    "There is a moderate negative correlation of -0.52 between a vehicle's age and its price,  \n",
    "and a less moderate negative correlation of -0.44 between mileage and price."
   ]
  },
  {
   "cell_type": "code",
   "execution_count": 113,
   "metadata": {},
   "outputs": [],
   "source": [
    "def scatterplot_by_vehicle_type(df, types, kind,\n",
    "                                title=None, rotate_xticks=None, xticklabels=None,\n",
    "                                figsize=(14,4), **kwargs):\n",
    "    \"\"\"Plots 2 graphs, side by side\"\"\"\n",
    "    \n",
    "    colors = list(mcolors.TABLEAU_COLORS)\n",
    "    fig, axes = plt.subplots(1,2, figsize=figsize)\n",
    "    # fig.tight_layout(pad=3)\n",
    "        \n",
    "    for i, _type in enumerate(types):\n",
    "        (df\n",
    "         .query('type == @_type')\n",
    "         .plot(kind=kind, label=_type, color=colors[i], ax=axes[i], **kwargs))\n",
    "        \n",
    "        if isinstance(xticklabels, np.ndarray):\n",
    "            axes[i].set_xticks(list(range(len(xticklabels))))\n",
    "            axes[i].set_xticklabels(xticklabels)\n",
    "            \n",
    "    if rotate_xticks:\n",
    "        plt.draw()\n",
    "        for ax in axes:\n",
    "            ax.set_xticklabels(ax.get_xticklabels(), rotation=rotate_xticks, ha='right')\n",
    "    \n",
    "    fig.suptitle(title)\n",
    "    plt.show()\n",
    "        \n",
    "# scatterplot_by_vehicle_type(correlation_df, types=['SUV', 'truck'], kind='scatter', x='vehicle_age', y='price')"
   ]
  },
  {
   "cell_type": "code",
   "execution_count": 114,
   "metadata": {},
   "outputs": [],
   "source": [
    "def boxplot_by_vehicle_type(df, types, title,\n",
    "                            x, y, ylim=None, rotate_xticks=None,\n",
    "                            figsize=(14,4), **kwargs):\n",
    "    \"\"\"Plots 2 graphs containing boxplots, side by side\"\"\"\n",
    "    \n",
    "    colors = list(mcolors.TABLEAU_COLORS)\n",
    "    fig, axes = plt.subplots(1, 2, figsize=figsize)\n",
    "    # fig.tight_layout(pad=3)\n",
    "    \n",
    "    for i, _type in enumerate(types):\n",
    "        _df = df.query('type == @_type')\n",
    "        # print([col for i, col in _df.groupby(x)[y]])\n",
    "        \n",
    "        axes[i].boxplot([col for i, col in _df.groupby(x)[y]],\n",
    "                        medianprops={'color': colors[i]},\n",
    "                        **kwargs)\n",
    "        axes[i].set_title(_type)\n",
    "        axes[i].set_ylabel(y)\n",
    "        \n",
    "        if ylim:\n",
    "            axes[i].set_ylim(*ylim)\n",
    "            \n",
    "    plt.suptitle(title)\n",
    "    \n",
    "    if rotate_xticks:\n",
    "        plt.draw()\n",
    "        for ax in axes:\n",
    "            ax.set_xticklabels(ax.get_xticklabels(), rotation=rotate_xticks, ha='right')\n",
    "            \n",
    "    plt.show();\n",
    "    \n",
    "# boxplot_by_vehicle_type(correlation_df[['price', 'type', 'transmission_id']],\n",
    "#            types=['SUV', 'truck'],\n",
    "#            x='transmission_id', y='price', ylim=(-1_000, 50_000))"
   ]
  },
  {
   "cell_type": "markdown",
   "metadata": {},
   "source": [
    "__Plotting scatterplots of quantitative variables:__"
   ]
  },
  {
   "cell_type": "code",
   "execution_count": 115,
   "metadata": {},
   "outputs": [
    {
     "data": {
      "image/png": "[encoded data removed]",
      "text/plain": [
       "<Figure size 1008x288 with 2 Axes>"
      ]
     },
     "metadata": {
      "needs_background": "light"
     },
     "output_type": "display_data"
    }
   ],
   "source": [
    "scatterplot_by_vehicle_type(correlation_df,\n",
    "              types=['SUV', 'truck'],  title='Age', kind='scatter', x='vehicle_age', y='price',\n",
    "              xlim=(0,50), ylim=(0,100_000))"
   ]
  },
  {
   "cell_type": "markdown",
   "metadata": {},
   "source": [
    "There is a downwards trend visible, as the vehicle's age increases the price goes does."
   ]
  },
  {
   "cell_type": "code",
   "execution_count": 116,
   "metadata": {
    "scrolled": true
   },
   "outputs": [
    {
     "data": {
      "image/png": "[encoded data removed]",
      "text/plain": [
       "<Figure size 1008x288 with 2 Axes>"
      ]
     },
     "metadata": {
      "needs_background": "light"
     },
     "output_type": "display_data"
    }
   ],
   "source": [
    "scatterplot_by_vehicle_type(correlation_df,\n",
    "              types=['SUV', 'truck'], title='Mileage', kind='scatter', x='mileage', y='price',\n",
    "              xlim=(0,600_000), ylim=(0,150_000))"
   ]
  },
  {
   "cell_type": "markdown",
   "metadata": {},
   "source": [
    "There is a downwards trend visible, as mileage increases the price goes does."
   ]
  },
  {
   "cell_type": "code",
   "execution_count": 117,
   "metadata": {},
   "outputs": [
    {
     "data": {
      "image/png": "[encoded data removed]",
      "text/plain": [
       "<Figure size 1008x288 with 2 Axes>"
      ]
     },
     "metadata": {
      "needs_background": "light"
     },
     "output_type": "display_data"
    }
   ],
   "source": [
    "scatterplot_by_vehicle_type(correlation_df,\n",
    "              types=['SUV', 'truck'], title='Condition', kind='scatter', x='condition_id', y='price', \n",
    "              xticklabels=condition_ref.values, ylim=(0,150_000))"
   ]
  },
  {
   "cell_type": "markdown",
   "metadata": {},
   "source": [
    "\n",
    "<div class=\"alert alert-block alert-warning\">\n",
    "   <h2>Reviewer's commentary <a class=\"tocSkip\"> </h2>\n",
    "    <br/>\n",
    "<b>Remarks and recommendations📌:</b>  \n",
    "       \n",
    "It seems to me that condition is not quantitative variable, isn't it? Condition is categorical variable, so, it is better to use graphical method (boxplots as you did below or barplots) to analyse the connection between condition and price."
   ]
  },
  {
   "cell_type": "markdown",
   "metadata": {},
   "source": [
    "Generally, it seems as if the better the condition, the pricier a vehicle is, both for SUV and Truck (excluding some outliers).  \n",
    "\\* a peculiarity for SUV, 'new' condition prices seem to be lower than 'like new' condition prices, and also there are far fewer samples,  \n",
    "perhaps not enough to balance it, or older 'new' models (from previous years) are pulling down the price range."
   ]
  },
  {
   "cell_type": "code",
   "execution_count": 118,
   "metadata": {},
   "outputs": [],
   "source": [
    "np.warnings.filterwarnings('ignore', category=np.VisibleDeprecationWarning)    "
   ]
  },
  {
   "cell_type": "code",
   "execution_count": 119,
   "metadata": {},
   "outputs": [
    {
     "data": {
      "image/png": "[encoded data removed]",
      "text/plain": [
       "<Figure size 1008x288 with 2 Axes>"
      ]
     },
     "metadata": {
      "needs_background": "light"
     },
     "output_type": "display_data"
    }
   ],
   "source": [
    "boxplot_by_vehicle_type(correlation_df[['price', 'type', 'transmission_id']],\n",
    "                        types=['SUV', 'truck'], title='Transmission',\n",
    "                        x='transmission_id', y='price', ylim=(-1_000, 50_000),\n",
    "                        labels=transmission_ref.values)"
   ]
  },
  {
   "cell_type": "markdown",
   "metadata": {},
   "source": [
    "SUV by transmission prices are more or less of the same range,  \n",
    "while for Trucks, 'automatic' transmission is generally higher priced, and have a broader price range."
   ]
  },
  {
   "cell_type": "code",
   "execution_count": 120,
   "metadata": {},
   "outputs": [
    {
     "data": {
      "image/png": "[encoded data removed]",
      "text/plain": [
       "<Figure size 1008x288 with 2 Axes>"
      ]
     },
     "metadata": {
      "needs_background": "light"
     },
     "output_type": "display_data"
    }
   ],
   "source": [
    "boxplot_by_vehicle_type(correlation_df[['price', 'type', 'color_id']],\n",
    "                        types=['SUV', 'truck'], title='Color',\n",
    "                        x='color_id', y='price', ylim=(-1_000, 60_000),\n",
    "                        rotate_xticks=45,\n",
    "                        labels=color_ref.values)"
   ]
  },
  {
   "cell_type": "code",
   "execution_count": 121,
   "metadata": {},
   "outputs": [
    {
     "data": {
      "image/png": "[encoded data removed]",
      "text/plain": [
       "<Figure size 1008x288 with 2 Axes>"
      ]
     },
     "metadata": {
      "needs_background": "light"
     },
     "output_type": "display_data"
    }
   ],
   "source": [
    "scatterplot_by_vehicle_type(correlation_df,\n",
    "              types=['SUV', 'truck'], title='Color', kind='scatter', x='color_id', y='price', \n",
    "                            ylim=(0, 100_000), xticklabels=color_ref.values, rotate_xticks=45)"
   ]
  },
  {
   "cell_type": "markdown",
   "metadata": {},
   "source": [
    "There is no clear correlation of color and price, but there are colors that have more occurences than others."
   ]
  },
  {
   "cell_type": "code",
   "execution_count": 122,
   "metadata": {},
   "outputs": [
    {
     "data": {
      "text/plain": [
       "price              1.000000\n",
       "vehicle_age       -0.521610\n",
       "mileage           -0.449954\n",
       "condition_id       0.259821\n",
       "transmission_id   -0.084861\n",
       "color_id           0.024586\n",
       "Name: price, dtype: float64"
      ]
     },
     "execution_count": 122,
     "metadata": {},
     "output_type": "execute_result"
    }
   ],
   "source": [
    "correlation_df.corr()['price']"
   ]
  },
  {
   "cell_type": "markdown",
   "metadata": {},
   "source": [
    "<div class=\"alert alert-block alert-success\">\n",
    "    <h2>Reviewer's commentary <a class=\"tocSkip\"> </h2>\n",
    "    <br/>\n",
    "<b>Well done!👍:</b> \n",
    "\n",
    "At this step again you did a great job, great and highly informative visualization and correct logic of the analysis of course!"
   ]
  },
  {
   "cell_type": "markdown",
   "metadata": {},
   "source": [
    "<a class=\"anchor\" id=\"5_conclusions\"></a>\n",
    "## Overall conclusion\n",
    "***\n",
    "[back to Table of Contents](#0_toc)"
   ]
  },
  {
   "cell_type": "markdown",
   "metadata": {},
   "source": [
    "_Technical_: <br />\n",
    "* Data had missing values and incorect data types, which were fixed and filled.  \n",
    "* 'color' column is not dependant on other columns and could not be meaningfully filled,  \n",
    "  so for the sake of functionality it was filled with a generic keyword 'unknown'.\n",
    "* 'is_4wd' has only 1s and NaNs, should probably have been 0s.  \n",
    "  a Bug Report should be filled.\n",
    "* Categories were exported to lookup dataframes.\n",
    "* 'vehicle' and 'ad' data were separated to different dataframes.\n",
    "\n",
    "\n",
    "_Business_: <br />\n",
    "The typical lifetime of an ad is 18 days, and generally within a range of 20-55 days.  \n",
    "SUVs, Trucks, Sedans and Pickups are the most featured vehicle types,  \n",
    "Trucks and Pickups being the most expensive and SUVs and Sedans the least.\n",
    "\n",
    "By investigating a sample of 2 of the most popular types of vehicles from posted ads: SUVs and Trucks,  \n",
    "the following is apparent:\n",
    "* Vehicle's Age - a right-skewed distribution, the higher the age the lower the price, moderate negative correlation (-0.52)\n",
    "* Mileage - a right skewed distribution, the higher the mileage the lower the price, moderate negative correlation (-0.45)\n",
    "* Condition - the better the condition, generally the higher the price - weak positive correlation (0.26)\n",
    "* Transmission - no correlation found.\n",
    "* Color - no clear correlation, and different from type to type."
   ]
  },
  {
   "cell_type": "markdown",
   "metadata": {},
   "source": [
    "<div class=\"alert alert-block alert-success\">\n",
    "    <h2>Reviewer's commentary <a class=\"tocSkip\"> </h2>\n",
    "    <br/>\n",
    "<b>Well done!👍:</b> \n",
    "\n",
    "So comprehensive final conclusion, I can see your analytical approach!"
   ]
  },
  {
   "cell_type": "markdown",
   "metadata": {},
   "source": [
    "<div style=\"border:solid Chocolate 2px; padding: 40px\">\n",
    "\n",
    "**The overall review conclusion**\n",
    "\n",
    "Daniel, thank you for submitting your project! I can see that you've worked really hard on it! You did a great job to bring the project to completion, thanks for your patience and desire to complete the project! I am impressed with the quality of your project,  so I hasten to say that your project has been accepted and you can proceed to the next sprint!\n",
    "    \n",
    "\n",
    "\n",
    "**Good things and practices in your project I want to highlight🙂**:\n",
    "* You used different methods for working with your data. It is really great that you can apply these methods on practice, keep it up!\n",
    "* You add commentaries and explanations to your actions!\n",
    "* You used visualization a lot and formatted it correctly, good job!\n",
    "* You wrote your own functions to complete the tasks, it is a good practice of programming skills!\n",
    "* You project is well formatted and logically organized, it was a pleasure for me to review your project!\n",
    "\n",
    " \n",
    "    \n",
    "**I wish you exciting and cool projects in the next sprints😉**\n",
    "\n",
    "![gif](https://media.giphy.com/media/zyjCXPXNo39i0CB467/giphy.gif)"
   ]
  },
  {
   "cell_type": "markdown",
   "metadata": {},
   "source": [
    "# Project completion checklist\n",
    "***\n",
    "\n",
    "Mark the completed tasks with 'x'. Then press Shift+Enter."
   ]
  },
  {
   "cell_type": "markdown",
   "metadata": {},
   "source": [
    "- [x]  file opened\n",
    "- [x]  files explored (first rows printed, info() method)\n",
    "- [x]  missing values determined\n",
    "- [x]  missing values filled in\n",
    "- [x]  clarification of the discovered missing values provided\n",
    "- [x]  data types converted\n",
    "- [x]  explanation of which columns had the data types changed and why\n",
    "- [x]  calculated and added to the table: day of the week, month, and year the ad was placed\n",
    "- [x]  calculated and added to the table: the vehicle's age (in years) when the ad was placed\n",
    "- [x]  calculated and added to the table: the vehicle's average mileage per year\n",
    "- [x]  the following parameters investigated: price, vehicle's age when the ad was placed, mileage, number of cylinders, and condition\n",
    "- [x]  histograms for each parameter created\n",
    "- [x]  task completed: \"Determine the upper limits of outliers, remove the outliers and store them in a separate DataFrame, and continue your work with the filtered data.\"\n",
    "- [x]  task completed: \"Use the filtered data to plot new histograms. Compare them with the earlier histograms (the ones that included outliers). Draw conclusions for each histogram.\"\n",
    "- [x]  task completed: \"Study how many days advertisements were displayed (days_listed). Plot a histogram. Calculate the mean and median. Describe the typical lifetime of an ad. Determine when ads were removed quickly, and when they were listed for an abnormally long time.  \"\n",
    "- [x]  task completed: \"Analyze the number of ads and the average price for each type of vehicle. Plot a graph showing the dependence of the number of ads on the vehicle type. Select the two types with the greatest number of ads. \"\n",
    "- [x]  task completed: \"What factors impact the price most? Take each of the popular types you detected at the previous stage and study whether the price depends on age, mileage, condition, transmission type, and color. For categorical variables (transmission type and color), plot box-and-whisker charts, and create scatterplots for the rest. When analyzing categorical variables, note that the categories must have at least 50 ads; otherwise, their parameters won't be valid for analysis.  \"\n",
    "- [x]  each stage has a conclusion\n",
    "- [x]  overall conclusion drawn"
   ]
  }
 ],
 "metadata": {
  "ExecuteTimeLog": [
   {
    "duration": 1120,
    "start_time": "2021-06-24T16:30:51.683Z"
   },
   {
    "duration": 14,
    "start_time": "2021-06-24T16:30:52.807Z"
   },
   {
    "duration": 4277,
    "start_time": "2021-06-24T16:30:52.824Z"
   },
   {
    "duration": 119,
    "start_time": "2021-06-24T16:30:57.105Z"
   },
   {
    "duration": 62,
    "start_time": "2021-06-24T16:30:57.226Z"
   },
   {
    "duration": 93,
    "start_time": "2021-06-24T16:30:57.291Z"
   },
   {
    "duration": 87,
    "start_time": "2021-06-24T16:30:57.386Z"
   },
   {
    "duration": 19,
    "start_time": "2021-06-24T16:30:57.478Z"
   },
   {
    "duration": 12,
    "start_time": "2021-06-24T16:30:57.500Z"
   },
   {
    "duration": 5,
    "start_time": "2021-06-24T16:30:57.515Z"
   },
   {
    "duration": 61,
    "start_time": "2021-06-24T16:30:57.522Z"
   },
   {
    "duration": 133,
    "start_time": "2021-06-24T16:30:57.586Z"
   },
   {
    "duration": 133,
    "start_time": "2021-06-24T16:30:57.721Z"
   },
   {
    "duration": 139,
    "start_time": "2021-06-24T16:30:57.856Z"
   },
   {
    "duration": 872,
    "start_time": "2021-06-24T16:30:57.998Z"
   },
   {
    "duration": 10,
    "start_time": "2021-06-24T16:30:58.872Z"
   },
   {
    "duration": 653,
    "start_time": "2021-06-24T16:30:58.885Z"
   },
   {
    "duration": 124,
    "start_time": "2021-06-24T16:30:59.541Z"
   },
   {
    "duration": 823,
    "start_time": "2021-06-24T16:30:59.668Z"
   },
   {
    "duration": -523,
    "start_time": "2021-06-24T16:31:01.021Z"
   },
   {
    "duration": -528,
    "start_time": "2021-06-24T16:31:01.028Z"
   },
   {
    "duration": -533,
    "start_time": "2021-06-24T16:31:01.034Z"
   },
   {
    "duration": -542,
    "start_time": "2021-06-24T16:31:01.044Z"
   },
   {
    "duration": -546,
    "start_time": "2021-06-24T16:31:01.050Z"
   },
   {
    "duration": -554,
    "start_time": "2021-06-24T16:31:01.059Z"
   },
   {
    "duration": -559,
    "start_time": "2021-06-24T16:31:01.066Z"
   },
   {
    "duration": -567,
    "start_time": "2021-06-24T16:31:01.075Z"
   },
   {
    "duration": -574,
    "start_time": "2021-06-24T16:31:01.083Z"
   },
   {
    "duration": -581,
    "start_time": "2021-06-24T16:31:01.092Z"
   },
   {
    "duration": -587,
    "start_time": "2021-06-24T16:31:01.099Z"
   },
   {
    "duration": -595,
    "start_time": "2021-06-24T16:31:01.109Z"
   },
   {
    "duration": -600,
    "start_time": "2021-06-24T16:31:01.115Z"
   },
   {
    "duration": -609,
    "start_time": "2021-06-24T16:31:01.125Z"
   },
   {
    "duration": -614,
    "start_time": "2021-06-24T16:31:01.132Z"
   },
   {
    "duration": -623,
    "start_time": "2021-06-24T16:31:01.142Z"
   },
   {
    "duration": -629,
    "start_time": "2021-06-24T16:31:01.149Z"
   },
   {
    "duration": -596,
    "start_time": "2021-06-24T16:31:01.158Z"
   },
   {
    "duration": -601,
    "start_time": "2021-06-24T16:31:01.164Z"
   },
   {
    "duration": -610,
    "start_time": "2021-06-24T16:31:01.174Z"
   },
   {
    "duration": -615,
    "start_time": "2021-06-24T16:31:01.180Z"
   },
   {
    "duration": -625,
    "start_time": "2021-06-24T16:31:01.191Z"
   },
   {
    "duration": -630,
    "start_time": "2021-06-24T16:31:01.197Z"
   },
   {
    "duration": -639,
    "start_time": "2021-06-24T16:31:01.206Z"
   },
   {
    "duration": -645,
    "start_time": "2021-06-24T16:31:01.213Z"
   },
   {
    "duration": -653,
    "start_time": "2021-06-24T16:31:01.223Z"
   },
   {
    "duration": -659,
    "start_time": "2021-06-24T16:31:01.230Z"
   },
   {
    "duration": -665,
    "start_time": "2021-06-24T16:31:01.239Z"
   },
   {
    "duration": -671,
    "start_time": "2021-06-24T16:31:01.246Z"
   },
   {
    "duration": -680,
    "start_time": "2021-06-24T16:31:01.256Z"
   },
   {
    "duration": -684,
    "start_time": "2021-06-24T16:31:01.263Z"
   },
   {
    "duration": -692,
    "start_time": "2021-06-24T16:31:01.272Z"
   },
   {
    "duration": -698,
    "start_time": "2021-06-24T16:31:01.279Z"
   },
   {
    "duration": -706,
    "start_time": "2021-06-24T16:31:01.288Z"
   },
   {
    "duration": -711,
    "start_time": "2021-06-24T16:31:01.294Z"
   },
   {
    "duration": -720,
    "start_time": "2021-06-24T16:31:01.304Z"
   },
   {
    "duration": -724,
    "start_time": "2021-06-24T16:31:01.310Z"
   },
   {
    "duration": -735,
    "start_time": "2021-06-24T16:31:01.321Z"
   },
   {
    "duration": -739,
    "start_time": "2021-06-24T16:31:01.327Z"
   },
   {
    "duration": -745,
    "start_time": "2021-06-24T16:31:01.334Z"
   },
   {
    "duration": -753,
    "start_time": "2021-06-24T16:31:01.343Z"
   },
   {
    "duration": -758,
    "start_time": "2021-06-24T16:31:01.350Z"
   },
   {
    "duration": -766,
    "start_time": "2021-06-24T16:31:01.359Z"
   },
   {
    "duration": -771,
    "start_time": "2021-06-24T16:31:01.365Z"
   },
   {
    "duration": -779,
    "start_time": "2021-06-24T16:31:01.374Z"
   },
   {
    "duration": -784,
    "start_time": "2021-06-24T16:31:01.381Z"
   },
   {
    "duration": -792,
    "start_time": "2021-06-24T16:31:01.390Z"
   },
   {
    "duration": -796,
    "start_time": "2021-06-24T16:31:01.396Z"
   },
   {
    "duration": -804,
    "start_time": "2021-06-24T16:31:01.405Z"
   },
   {
    "duration": -750,
    "start_time": "2021-06-24T16:31:01.412Z"
   },
   {
    "duration": -757,
    "start_time": "2021-06-24T16:31:01.420Z"
   },
   {
    "duration": -763,
    "start_time": "2021-06-24T16:31:01.427Z"
   },
   {
    "duration": -768,
    "start_time": "2021-06-24T16:31:01.433Z"
   },
   {
    "duration": -776,
    "start_time": "2021-06-24T16:31:01.442Z"
   },
   {
    "duration": -779,
    "start_time": "2021-06-24T16:31:01.448Z"
   },
   {
    "duration": -787,
    "start_time": "2021-06-24T16:31:01.457Z"
   },
   {
    "duration": -792,
    "start_time": "2021-06-24T16:31:01.463Z"
   },
   {
    "duration": -801,
    "start_time": "2021-06-24T16:31:01.473Z"
   },
   {
    "duration": -806,
    "start_time": "2021-06-24T16:31:01.479Z"
   },
   {
    "duration": -814,
    "start_time": "2021-06-24T16:31:01.488Z"
   },
   {
    "duration": -818,
    "start_time": "2021-06-24T16:31:01.494Z"
   },
   {
    "duration": -823,
    "start_time": "2021-06-24T16:31:01.500Z"
   },
   {
    "duration": -832,
    "start_time": "2021-06-24T16:31:01.510Z"
   },
   {
    "duration": -837,
    "start_time": "2021-06-24T16:31:01.516Z"
   },
   {
    "duration": -843,
    "start_time": "2021-06-24T16:31:01.524Z"
   },
   {
    "duration": -849,
    "start_time": "2021-06-24T16:31:01.531Z"
   },
   {
    "duration": -857,
    "start_time": "2021-06-24T16:31:01.540Z"
   },
   {
    "duration": -862,
    "start_time": "2021-06-24T16:31:01.546Z"
   },
   {
    "duration": -870,
    "start_time": "2021-06-24T16:31:01.555Z"
   },
   {
    "duration": -874,
    "start_time": "2021-06-24T16:31:01.561Z"
   },
   {
    "duration": -882,
    "start_time": "2021-06-24T16:31:01.570Z"
   },
   {
    "duration": -887,
    "start_time": "2021-06-24T16:31:01.576Z"
   },
   {
    "duration": -892,
    "start_time": "2021-06-24T16:31:01.583Z"
   },
   {
    "duration": -900,
    "start_time": "2021-06-24T16:31:01.592Z"
   },
   {
    "duration": -904,
    "start_time": "2021-06-24T16:31:01.597Z"
   },
   {
    "duration": -912,
    "start_time": "2021-06-24T16:31:01.606Z"
   },
   {
    "duration": -946,
    "start_time": "2021-06-24T16:31:01.641Z"
   },
   {
    "duration": -952,
    "start_time": "2021-06-24T16:31:01.648Z"
   },
   {
    "duration": -959,
    "start_time": "2021-06-24T16:31:01.657Z"
   },
   {
    "duration": -964,
    "start_time": "2021-06-24T16:31:01.663Z"
   },
   {
    "duration": -907,
    "start_time": "2021-06-24T16:31:01.674Z"
   },
   {
    "duration": -912,
    "start_time": "2021-06-24T16:31:01.680Z"
   },
   {
    "duration": -921,
    "start_time": "2021-06-24T16:31:01.691Z"
   },
   {
    "duration": -926,
    "start_time": "2021-06-24T16:31:01.697Z"
   },
   {
    "duration": -935,
    "start_time": "2021-06-24T16:31:01.707Z"
   },
   {
    "duration": -940,
    "start_time": "2021-06-24T16:31:01.714Z"
   },
   {
    "duration": -949,
    "start_time": "2021-06-24T16:31:01.724Z"
   },
   {
    "duration": -952,
    "start_time": "2021-06-24T16:31:01.731Z"
   },
   {
    "duration": -959,
    "start_time": "2021-06-24T16:31:01.740Z"
   },
   {
    "duration": -965,
    "start_time": "2021-06-24T16:31:01.747Z"
   },
   {
    "duration": -973,
    "start_time": "2021-06-24T16:31:01.757Z"
   },
   {
    "duration": -978,
    "start_time": "2021-06-24T16:31:01.764Z"
   },
   {
    "duration": -986,
    "start_time": "2021-06-24T16:31:01.773Z"
   },
   {
    "duration": -992,
    "start_time": "2021-06-24T16:31:01.780Z"
   },
   {
    "duration": -999,
    "start_time": "2021-06-24T16:31:01.789Z"
   },
   {
    "duration": -1004,
    "start_time": "2021-06-24T16:31:01.795Z"
   },
   {
    "duration": -1013,
    "start_time": "2021-06-24T16:31:01.805Z"
   },
   {
    "duration": -1018,
    "start_time": "2021-06-24T16:31:01.812Z"
   },
   {
    "duration": -1028,
    "start_time": "2021-06-24T16:31:01.823Z"
   },
   {
    "duration": 10933,
    "start_time": "2021-06-24T16:33:27.329Z"
   },
   {
    "duration": 882,
    "start_time": "2021-06-24T16:33:38.265Z"
   },
   {
    "duration": 13,
    "start_time": "2021-06-24T16:33:39.151Z"
   },
   {
    "duration": 4208,
    "start_time": "2021-06-24T16:33:39.166Z"
   },
   {
    "duration": 120,
    "start_time": "2021-06-24T16:33:43.377Z"
   },
   {
    "duration": 77,
    "start_time": "2021-06-24T16:33:43.499Z"
   },
   {
    "duration": 65,
    "start_time": "2021-06-24T16:33:43.578Z"
   },
   {
    "duration": 68,
    "start_time": "2021-06-24T16:33:43.647Z"
   },
   {
    "duration": 13,
    "start_time": "2021-06-24T16:33:43.718Z"
   },
   {
    "duration": 39,
    "start_time": "2021-06-24T16:33:43.734Z"
   },
   {
    "duration": 7,
    "start_time": "2021-06-24T16:33:43.775Z"
   },
   {
    "duration": 30,
    "start_time": "2021-06-24T16:33:43.785Z"
   },
   {
    "duration": 167,
    "start_time": "2021-06-24T16:33:43.818Z"
   },
   {
    "duration": 117,
    "start_time": "2021-06-24T16:33:43.989Z"
   },
   {
    "duration": 161,
    "start_time": "2021-06-24T16:33:44.109Z"
   },
   {
    "duration": 864,
    "start_time": "2021-06-24T16:33:44.272Z"
   },
   {
    "duration": 8,
    "start_time": "2021-06-24T16:33:45.139Z"
   },
   {
    "duration": 644,
    "start_time": "2021-06-24T16:33:45.161Z"
   },
   {
    "duration": 124,
    "start_time": "2021-06-24T16:33:45.807Z"
   },
   {
    "duration": 834,
    "start_time": "2021-06-24T16:33:45.933Z"
   },
   {
    "duration": -862,
    "start_time": "2021-06-24T16:33:47.637Z"
   },
   {
    "duration": -866,
    "start_time": "2021-06-24T16:33:47.643Z"
   },
   {
    "duration": -875,
    "start_time": "2021-06-24T16:33:47.654Z"
   },
   {
    "duration": -880,
    "start_time": "2021-06-24T16:33:47.660Z"
   },
   {
    "duration": -888,
    "start_time": "2021-06-24T16:33:47.670Z"
   },
   {
    "duration": -894,
    "start_time": "2021-06-24T16:33:47.677Z"
   },
   {
    "duration": -902,
    "start_time": "2021-06-24T16:33:47.687Z"
   },
   {
    "duration": -907,
    "start_time": "2021-06-24T16:33:47.694Z"
   },
   {
    "duration": -915,
    "start_time": "2021-06-24T16:33:47.704Z"
   },
   {
    "duration": -921,
    "start_time": "2021-06-24T16:33:47.711Z"
   },
   {
    "duration": -931,
    "start_time": "2021-06-24T16:33:47.723Z"
   },
   {
    "duration": -938,
    "start_time": "2021-06-24T16:33:47.731Z"
   },
   {
    "duration": -948,
    "start_time": "2021-06-24T16:33:47.743Z"
   },
   {
    "duration": -1141,
    "start_time": "2021-06-24T16:33:47.938Z"
   },
   {
    "duration": -1147,
    "start_time": "2021-06-24T16:33:47.945Z"
   },
   {
    "duration": -1154,
    "start_time": "2021-06-24T16:33:47.954Z"
   },
   {
    "duration": -1159,
    "start_time": "2021-06-24T16:33:47.960Z"
   },
   {
    "duration": -1168,
    "start_time": "2021-06-24T16:33:47.971Z"
   },
   {
    "duration": -1173,
    "start_time": "2021-06-24T16:33:47.978Z"
   },
   {
    "duration": -1182,
    "start_time": "2021-06-24T16:33:47.988Z"
   },
   {
    "duration": -1134,
    "start_time": "2021-06-24T16:33:47.995Z"
   },
   {
    "duration": -1141,
    "start_time": "2021-06-24T16:33:48.004Z"
   },
   {
    "duration": -1148,
    "start_time": "2021-06-24T16:33:48.012Z"
   },
   {
    "duration": -1157,
    "start_time": "2021-06-24T16:33:48.023Z"
   },
   {
    "duration": -1163,
    "start_time": "2021-06-24T16:33:48.030Z"
   },
   {
    "duration": -1172,
    "start_time": "2021-06-24T16:33:48.041Z"
   },
   {
    "duration": -1182,
    "start_time": "2021-06-24T16:33:48.052Z"
   },
   {
    "duration": -1264,
    "start_time": "2021-06-24T16:33:48.135Z"
   },
   {
    "duration": -1268,
    "start_time": "2021-06-24T16:33:48.141Z"
   },
   {
    "duration": -1278,
    "start_time": "2021-06-24T16:33:48.152Z"
   },
   {
    "duration": -1282,
    "start_time": "2021-06-24T16:33:48.158Z"
   },
   {
    "duration": -1293,
    "start_time": "2021-06-24T16:33:48.170Z"
   },
   {
    "duration": -1297,
    "start_time": "2021-06-24T16:33:48.176Z"
   },
   {
    "duration": -1307,
    "start_time": "2021-06-24T16:33:48.187Z"
   },
   {
    "duration": -1312,
    "start_time": "2021-06-24T16:33:48.194Z"
   },
   {
    "duration": -1321,
    "start_time": "2021-06-24T16:33:48.205Z"
   },
   {
    "duration": -1325,
    "start_time": "2021-06-24T16:33:48.211Z"
   },
   {
    "duration": -1333,
    "start_time": "2021-06-24T16:33:48.221Z"
   },
   {
    "duration": -1338,
    "start_time": "2021-06-24T16:33:48.228Z"
   },
   {
    "duration": -1347,
    "start_time": "2021-06-24T16:33:48.239Z"
   },
   {
    "duration": -1352,
    "start_time": "2021-06-24T16:33:48.246Z"
   },
   {
    "duration": -1294,
    "start_time": "2021-06-24T16:33:48.256Z"
   },
   {
    "duration": -1298,
    "start_time": "2021-06-24T16:33:48.262Z"
   },
   {
    "duration": -1306,
    "start_time": "2021-06-24T16:33:48.273Z"
   },
   {
    "duration": -1315,
    "start_time": "2021-06-24T16:33:48.284Z"
   },
   {
    "duration": -1320,
    "start_time": "2021-06-24T16:33:48.291Z"
   },
   {
    "duration": -1324,
    "start_time": "2021-06-24T16:33:48.297Z"
   },
   {
    "duration": -1332,
    "start_time": "2021-06-24T16:33:48.306Z"
   },
   {
    "duration": -1336,
    "start_time": "2021-06-24T16:33:48.312Z"
   },
   {
    "duration": -1345,
    "start_time": "2021-06-24T16:33:48.322Z"
   },
   {
    "duration": -1350,
    "start_time": "2021-06-24T16:33:48.328Z"
   },
   {
    "duration": -1357,
    "start_time": "2021-06-24T16:33:48.337Z"
   },
   {
    "duration": -1363,
    "start_time": "2021-06-24T16:33:48.344Z"
   },
   {
    "duration": -1372,
    "start_time": "2021-06-24T16:33:48.354Z"
   },
   {
    "duration": -1377,
    "start_time": "2021-06-24T16:33:48.361Z"
   },
   {
    "duration": -1385,
    "start_time": "2021-06-24T16:33:48.370Z"
   },
   {
    "duration": -1391,
    "start_time": "2021-06-24T16:33:48.377Z"
   },
   {
    "duration": -1450,
    "start_time": "2021-06-24T16:33:48.438Z"
   },
   {
    "duration": -1455,
    "start_time": "2021-06-24T16:33:48.444Z"
   },
   {
    "duration": -1463,
    "start_time": "2021-06-24T16:33:48.454Z"
   },
   {
    "duration": -1468,
    "start_time": "2021-06-24T16:33:48.460Z"
   },
   {
    "duration": -1476,
    "start_time": "2021-06-24T16:33:48.470Z"
   },
   {
    "duration": -1482,
    "start_time": "2021-06-24T16:33:48.477Z"
   },
   {
    "duration": -1491,
    "start_time": "2021-06-24T16:33:48.488Z"
   },
   {
    "duration": -1496,
    "start_time": "2021-06-24T16:33:48.494Z"
   },
   {
    "duration": -1503,
    "start_time": "2021-06-24T16:33:48.503Z"
   },
   {
    "duration": -1508,
    "start_time": "2021-06-24T16:33:48.509Z"
   },
   {
    "duration": -1457,
    "start_time": "2021-06-24T16:33:48.519Z"
   },
   {
    "duration": -1463,
    "start_time": "2021-06-24T16:33:48.526Z"
   },
   {
    "duration": -1470,
    "start_time": "2021-06-24T16:33:48.535Z"
   },
   {
    "duration": -1476,
    "start_time": "2021-06-24T16:33:48.542Z"
   },
   {
    "duration": -1485,
    "start_time": "2021-06-24T16:33:48.552Z"
   },
   {
    "duration": -1493,
    "start_time": "2021-06-24T16:33:48.561Z"
   },
   {
    "duration": -1501,
    "start_time": "2021-06-24T16:33:48.571Z"
   },
   {
    "duration": -1506,
    "start_time": "2021-06-24T16:33:48.577Z"
   },
   {
    "duration": -1514,
    "start_time": "2021-06-24T16:33:48.587Z"
   },
   {
    "duration": -1519,
    "start_time": "2021-06-24T16:33:48.594Z"
   },
   {
    "duration": -1528,
    "start_time": "2021-06-24T16:33:48.604Z"
   },
   {
    "duration": -1533,
    "start_time": "2021-06-24T16:33:48.611Z"
   },
   {
    "duration": -1541,
    "start_time": "2021-06-24T16:33:48.620Z"
   },
   {
    "duration": -1546,
    "start_time": "2021-06-24T16:33:48.627Z"
   },
   {
    "duration": -1553,
    "start_time": "2021-06-24T16:33:48.635Z"
   },
   {
    "duration": -1559,
    "start_time": "2021-06-24T16:33:48.642Z"
   },
   {
    "duration": -1566,
    "start_time": "2021-06-24T16:33:48.651Z"
   },
   {
    "duration": -1571,
    "start_time": "2021-06-24T16:33:48.658Z"
   },
   {
    "duration": -1580,
    "start_time": "2021-06-24T16:33:48.668Z"
   },
   {
    "duration": -1605,
    "start_time": "2021-06-24T16:33:48.695Z"
   },
   {
    "duration": -1613,
    "start_time": "2021-06-24T16:33:48.704Z"
   },
   {
    "duration": -1618,
    "start_time": "2021-06-24T16:33:48.711Z"
   },
   {
    "duration": -1626,
    "start_time": "2021-06-24T16:33:48.720Z"
   },
   {
    "duration": -1632,
    "start_time": "2021-06-24T16:33:48.727Z"
   },
   {
    "duration": -1640,
    "start_time": "2021-06-24T16:33:48.737Z"
   },
   {
    "duration": -1645,
    "start_time": "2021-06-24T16:33:48.743Z"
   },
   {
    "duration": -1653,
    "start_time": "2021-06-24T16:33:48.753Z"
   },
   {
    "duration": -1597,
    "start_time": "2021-06-24T16:33:48.759Z"
   },
   {
    "duration": -1605,
    "start_time": "2021-06-24T16:33:48.768Z"
   },
   {
    "duration": -1609,
    "start_time": "2021-06-24T16:33:48.774Z"
   },
   {
    "duration": -1618,
    "start_time": "2021-06-24T16:33:48.784Z"
   },
   {
    "duration": -1623,
    "start_time": "2021-06-24T16:33:48.791Z"
   },
   {
    "duration": 770,
    "start_time": "2021-06-24T16:35:46.253Z"
   },
   {
    "duration": 708,
    "start_time": "2021-06-24T16:35:58.358Z"
   },
   {
    "duration": 716,
    "start_time": "2021-06-24T16:36:03.939Z"
   },
   {
    "duration": 8,
    "start_time": "2021-06-24T16:36:25.967Z"
   },
   {
    "duration": 6,
    "start_time": "2021-06-24T16:36:43.216Z"
   },
   {
    "duration": 7,
    "start_time": "2021-06-24T16:36:52.035Z"
   },
   {
    "duration": 28,
    "start_time": "2021-06-24T16:38:43.424Z"
   },
   {
    "duration": 714,
    "start_time": "2021-06-24T16:38:47.545Z"
   },
   {
    "duration": 28,
    "start_time": "2021-06-24T16:41:35.575Z"
   },
   {
    "duration": 681,
    "start_time": "2021-06-24T16:42:04.963Z"
   },
   {
    "duration": 446,
    "start_time": "2021-06-24T16:46:49.424Z"
   },
   {
    "duration": 712,
    "start_time": "2021-06-24T16:47:03.617Z"
   },
   {
    "duration": 690,
    "start_time": "2021-06-24T16:47:58.058Z"
   },
   {
    "duration": 31,
    "start_time": "2021-06-24T16:48:44.301Z"
   },
   {
    "duration": 593,
    "start_time": "2021-06-24T16:48:57.240Z"
   },
   {
    "duration": 360,
    "start_time": "2021-06-24T16:49:34.962Z"
   },
   {
    "duration": 366,
    "start_time": "2021-06-24T16:49:35.607Z"
   },
   {
    "duration": 570,
    "start_time": "2021-06-24T16:49:46.757Z"
   },
   {
    "duration": 9,
    "start_time": "2021-06-24T16:49:50.272Z"
   },
   {
    "duration": 8,
    "start_time": "2021-06-24T16:49:50.946Z"
   },
   {
    "duration": 4,
    "start_time": "2021-06-24T16:49:51.604Z"
   },
   {
    "duration": 15,
    "start_time": "2021-06-24T16:49:53.076Z"
   },
   {
    "duration": 6758,
    "start_time": "2021-06-24T16:49:53.464Z"
   },
   {
    "duration": 5,
    "start_time": "2021-06-24T16:50:44.322Z"
   },
   {
    "duration": 15,
    "start_time": "2021-06-24T16:50:45.639Z"
   },
   {
    "duration": 1968,
    "start_time": "2021-06-24T16:50:47.716Z"
   },
   {
    "duration": 7,
    "start_time": "2021-06-24T16:50:51.037Z"
   },
   {
    "duration": 121,
    "start_time": "2021-06-24T16:50:51.623Z"
   },
   {
    "duration": 9,
    "start_time": "2021-06-24T16:50:52.175Z"
   },
   {
    "duration": 131,
    "start_time": "2021-06-24T16:50:52.743Z"
   },
   {
    "duration": 140,
    "start_time": "2021-06-24T16:50:55.899Z"
   },
   {
    "duration": 12,
    "start_time": "2021-06-24T16:50:56.672Z"
   },
   {
    "duration": 19,
    "start_time": "2021-06-24T16:50:57.175Z"
   },
   {
    "duration": 43,
    "start_time": "2021-06-24T16:50:58.460Z"
   },
   {
    "duration": 5,
    "start_time": "2021-06-24T16:50:59.146Z"
   },
   {
    "duration": 6,
    "start_time": "2021-06-24T16:51:17.866Z"
   },
   {
    "duration": 5,
    "start_time": "2021-06-24T16:51:24.069Z"
   },
   {
    "duration": 2937,
    "start_time": "2021-06-24T16:51:26.033Z"
   },
   {
    "duration": 11,
    "start_time": "2021-06-24T16:51:29.607Z"
   },
   {
    "duration": 14,
    "start_time": "2021-06-24T16:51:30.137Z"
   },
   {
    "duration": 9,
    "start_time": "2021-06-24T16:51:31.733Z"
   },
   {
    "duration": 144,
    "start_time": "2021-06-24T16:51:34.317Z"
   },
   {
    "duration": 12,
    "start_time": "2021-06-24T16:51:34.555Z"
   },
   {
    "duration": 22,
    "start_time": "2021-06-24T16:51:34.683Z"
   },
   {
    "duration": 2571,
    "start_time": "2021-06-24T16:51:34.929Z"
   },
   {
    "duration": 11,
    "start_time": "2021-06-24T16:51:37.503Z"
   },
   {
    "duration": 139,
    "start_time": "2021-06-24T16:51:38.361Z"
   },
   {
    "duration": 8,
    "start_time": "2021-06-24T16:51:38.529Z"
   },
   {
    "duration": 9,
    "start_time": "2021-06-24T16:51:40.416Z"
   },
   {
    "duration": 27,
    "start_time": "2021-06-24T16:51:41.934Z"
   },
   {
    "duration": 4407,
    "start_time": "2021-06-24T16:51:59.071Z"
   },
   {
    "duration": 871,
    "start_time": "2021-06-24T16:52:03.481Z"
   },
   {
    "duration": 13,
    "start_time": "2021-06-24T16:52:04.355Z"
   },
   {
    "duration": 4188,
    "start_time": "2021-06-24T16:52:04.370Z"
   },
   {
    "duration": 121,
    "start_time": "2021-06-24T16:52:08.561Z"
   },
   {
    "duration": 57,
    "start_time": "2021-06-24T16:52:08.684Z"
   },
   {
    "duration": 83,
    "start_time": "2021-06-24T16:52:08.743Z"
   },
   {
    "duration": 70,
    "start_time": "2021-06-24T16:52:08.830Z"
   },
   {
    "duration": 13,
    "start_time": "2021-06-24T16:52:08.903Z"
   },
   {
    "duration": 45,
    "start_time": "2021-06-24T16:52:08.919Z"
   },
   {
    "duration": 6,
    "start_time": "2021-06-24T16:52:08.967Z"
   },
   {
    "duration": 29,
    "start_time": "2021-06-24T16:52:08.975Z"
   },
   {
    "duration": 130,
    "start_time": "2021-06-24T16:52:09.007Z"
   },
   {
    "duration": 109,
    "start_time": "2021-06-24T16:52:09.140Z"
   },
   {
    "duration": 167,
    "start_time": "2021-06-24T16:52:09.252Z"
   },
   {
    "duration": 854,
    "start_time": "2021-06-24T16:52:09.423Z"
   },
   {
    "duration": 8,
    "start_time": "2021-06-24T16:52:10.279Z"
   },
   {
    "duration": 154,
    "start_time": "2021-06-24T16:52:10.290Z"
   },
   {
    "duration": 122,
    "start_time": "2021-06-24T16:52:10.446Z"
   },
   {
    "duration": 6,
    "start_time": "2021-06-24T16:52:10.571Z"
   },
   {
    "duration": 607,
    "start_time": "2021-06-24T16:52:10.580Z"
   },
   {
    "duration": 619,
    "start_time": "2021-06-24T16:52:11.189Z"
   },
   {
    "duration": 10,
    "start_time": "2021-06-24T16:52:11.815Z"
   },
   {
    "duration": 34,
    "start_time": "2021-06-24T16:52:11.829Z"
   },
   {
    "duration": 5,
    "start_time": "2021-06-24T16:52:11.866Z"
   },
   {
    "duration": 18,
    "start_time": "2021-06-24T16:52:11.873Z"
   },
   {
    "duration": 2051,
    "start_time": "2021-06-24T16:52:11.894Z"
   },
   {
    "duration": 14,
    "start_time": "2021-06-24T16:52:13.948Z"
   },
   {
    "duration": 126,
    "start_time": "2021-06-24T16:52:13.964Z"
   },
   {
    "duration": 8,
    "start_time": "2021-06-24T16:52:14.092Z"
   },
   {
    "duration": 124,
    "start_time": "2021-06-24T16:52:14.102Z"
   },
   {
    "duration": 128,
    "start_time": "2021-06-24T16:52:14.228Z"
   },
   {
    "duration": 13,
    "start_time": "2021-06-24T16:52:14.358Z"
   },
   {
    "duration": 18,
    "start_time": "2021-06-24T16:52:14.373Z"
   },
   {
    "duration": 73,
    "start_time": "2021-06-24T16:52:14.394Z"
   },
   {
    "duration": 5,
    "start_time": "2021-06-24T16:52:14.470Z"
   },
   {
    "duration": 2871,
    "start_time": "2021-06-24T16:52:14.478Z"
   },
   {
    "duration": 19,
    "start_time": "2021-06-24T16:52:17.352Z"
   },
   {
    "duration": 17,
    "start_time": "2021-06-24T16:52:17.374Z"
   },
   {
    "duration": 11,
    "start_time": "2021-06-24T16:52:17.394Z"
   },
   {
    "duration": 185,
    "start_time": "2021-06-24T16:52:17.408Z"
   },
   {
    "duration": 12,
    "start_time": "2021-06-24T16:52:17.595Z"
   },
   {
    "duration": 21,
    "start_time": "2021-06-24T16:52:17.610Z"
   },
   {
    "duration": 2534,
    "start_time": "2021-06-24T16:52:17.633Z"
   },
   {
    "duration": 11,
    "start_time": "2021-06-24T16:52:20.170Z"
   },
   {
    "duration": 128,
    "start_time": "2021-06-24T16:52:20.183Z"
   },
   {
    "duration": 8,
    "start_time": "2021-06-24T16:52:20.313Z"
   },
   {
    "duration": 6,
    "start_time": "2021-06-24T16:52:20.323Z"
   },
   {
    "duration": 24,
    "start_time": "2021-06-24T16:52:20.331Z"
   },
   {
    "duration": 5,
    "start_time": "2021-06-24T16:52:20.357Z"
   },
   {
    "duration": 7,
    "start_time": "2021-06-24T16:52:20.364Z"
   },
   {
    "duration": 9,
    "start_time": "2021-06-24T16:52:20.373Z"
   },
   {
    "duration": 7,
    "start_time": "2021-06-24T16:52:20.384Z"
   },
   {
    "duration": 6,
    "start_time": "2021-06-24T16:52:20.394Z"
   },
   {
    "duration": 9,
    "start_time": "2021-06-24T16:52:20.402Z"
   },
   {
    "duration": 9,
    "start_time": "2021-06-24T16:52:20.414Z"
   },
   {
    "duration": 39,
    "start_time": "2021-06-24T16:52:20.425Z"
   },
   {
    "duration": 29,
    "start_time": "2021-06-24T16:52:20.466Z"
   },
   {
    "duration": 6,
    "start_time": "2021-06-24T16:52:20.498Z"
   },
   {
    "duration": 14,
    "start_time": "2021-06-24T16:52:20.506Z"
   },
   {
    "duration": 48,
    "start_time": "2021-06-24T16:52:20.522Z"
   },
   {
    "duration": 56,
    "start_time": "2021-06-24T16:52:20.573Z"
   },
   {
    "duration": 434,
    "start_time": "2021-06-24T16:52:20.631Z"
   },
   {
    "duration": 324,
    "start_time": "2021-06-24T16:52:21.067Z"
   },
   {
    "duration": 453,
    "start_time": "2021-06-24T16:52:21.394Z"
   },
   {
    "duration": 474,
    "start_time": "2021-06-24T16:52:21.850Z"
   },
   {
    "duration": 474,
    "start_time": "2021-06-24T16:52:22.328Z"
   },
   {
    "duration": 326,
    "start_time": "2021-06-24T16:52:22.813Z"
   },
   {
    "duration": 31,
    "start_time": "2021-06-24T16:52:23.144Z"
   },
   {
    "duration": 44,
    "start_time": "2021-06-24T16:52:23.178Z"
   },
   {
    "duration": 45,
    "start_time": "2021-06-24T16:52:23.225Z"
   },
   {
    "duration": 11,
    "start_time": "2021-06-24T16:52:23.274Z"
   },
   {
    "duration": 83,
    "start_time": "2021-06-24T16:52:23.288Z"
   },
   {
    "duration": 16,
    "start_time": "2021-06-24T16:52:23.375Z"
   },
   {
    "duration": 70,
    "start_time": "2021-06-24T16:52:23.394Z"
   },
   {
    "duration": 13,
    "start_time": "2021-06-24T16:52:23.467Z"
   },
   {
    "duration": 9,
    "start_time": "2021-06-24T16:52:23.483Z"
   },
   {
    "duration": 16,
    "start_time": "2021-06-24T16:52:23.495Z"
   },
   {
    "duration": 54,
    "start_time": "2021-06-24T16:52:23.514Z"
   },
   {
    "duration": 7,
    "start_time": "2021-06-24T16:52:23.571Z"
   },
   {
    "duration": 20,
    "start_time": "2021-06-24T16:52:23.581Z"
   },
   {
    "duration": 60,
    "start_time": "2021-06-24T16:52:23.603Z"
   },
   {
    "duration": 66,
    "start_time": "2021-06-24T16:52:23.666Z"
   },
   {
    "duration": 6,
    "start_time": "2021-06-24T16:52:23.762Z"
   },
   {
    "duration": 10,
    "start_time": "2021-06-24T16:52:23.772Z"
   },
   {
    "duration": 1742,
    "start_time": "2021-06-24T16:52:23.784Z"
   },
   {
    "duration": 132,
    "start_time": "2021-06-24T16:52:25.528Z"
   },
   {
    "duration": -86,
    "start_time": "2021-06-24T16:52:25.748Z"
   },
   {
    "duration": -96,
    "start_time": "2021-06-24T16:52:25.760Z"
   },
   {
    "duration": -100,
    "start_time": "2021-06-24T16:52:25.765Z"
   },
   {
    "duration": -108,
    "start_time": "2021-06-24T16:52:25.774Z"
   },
   {
    "duration": -247,
    "start_time": "2021-06-24T16:52:25.914Z"
   },
   {
    "duration": -255,
    "start_time": "2021-06-24T16:52:25.924Z"
   },
   {
    "duration": -260,
    "start_time": "2021-06-24T16:52:25.930Z"
   },
   {
    "duration": -270,
    "start_time": "2021-06-24T16:52:25.941Z"
   },
   {
    "duration": -274,
    "start_time": "2021-06-24T16:52:25.947Z"
   },
   {
    "duration": -279,
    "start_time": "2021-06-24T16:52:25.953Z"
   },
   {
    "duration": -286,
    "start_time": "2021-06-24T16:52:25.962Z"
   },
   {
    "duration": -291,
    "start_time": "2021-06-24T16:52:25.968Z"
   },
   {
    "duration": -300,
    "start_time": "2021-06-24T16:52:25.978Z"
   },
   {
    "duration": -304,
    "start_time": "2021-06-24T16:52:25.983Z"
   },
   {
    "duration": -312,
    "start_time": "2021-06-24T16:52:25.993Z"
   },
   {
    "duration": -316,
    "start_time": "2021-06-24T16:52:25.998Z"
   },
   {
    "duration": -350,
    "start_time": "2021-06-24T16:52:26.033Z"
   },
   {
    "duration": -359,
    "start_time": "2021-06-24T16:52:26.044Z"
   },
   {
    "duration": -362,
    "start_time": "2021-06-24T16:52:26.049Z"
   },
   {
    "duration": -371,
    "start_time": "2021-06-24T16:52:26.059Z"
   },
   {
    "duration": -375,
    "start_time": "2021-06-24T16:52:26.064Z"
   },
   {
    "duration": -384,
    "start_time": "2021-06-24T16:52:26.074Z"
   },
   {
    "duration": -388,
    "start_time": "2021-06-24T16:52:26.079Z"
   },
   {
    "duration": -392,
    "start_time": "2021-06-24T16:52:26.085Z"
   },
   {
    "duration": -400,
    "start_time": "2021-06-24T16:52:26.094Z"
   },
   {
    "duration": -406,
    "start_time": "2021-06-24T16:52:26.101Z"
   },
   {
    "duration": -414,
    "start_time": "2021-06-24T16:52:26.110Z"
   },
   {
    "duration": -418,
    "start_time": "2021-06-24T16:52:26.116Z"
   },
   {
    "duration": -449,
    "start_time": "2021-06-24T16:52:26.148Z"
   },
   {
    "duration": -458,
    "start_time": "2021-06-24T16:52:26.158Z"
   },
   {
    "duration": -401,
    "start_time": "2021-06-24T16:52:26.163Z"
   },
   {
    "duration": -406,
    "start_time": "2021-06-24T16:52:26.170Z"
   },
   {
    "duration": -414,
    "start_time": "2021-06-24T16:52:26.179Z"
   },
   {
    "duration": -423,
    "start_time": "2021-06-24T16:52:26.190Z"
   },
   {
    "duration": 5,
    "start_time": "2021-06-24T16:52:59.727Z"
   },
   {
    "duration": 5,
    "start_time": "2021-06-24T16:53:02.063Z"
   },
   {
    "duration": 210,
    "start_time": "2021-06-24T16:53:03.808Z"
   },
   {
    "duration": 220,
    "start_time": "2021-06-24T16:53:04.231Z"
   },
   {
    "duration": 231,
    "start_time": "2021-06-24T16:53:04.633Z"
   },
   {
    "duration": 217,
    "start_time": "2021-06-24T16:53:04.975Z"
   },
   {
    "duration": 213,
    "start_time": "2021-06-24T16:53:05.423Z"
   },
   {
    "duration": 186,
    "start_time": "2021-06-24T16:53:06.885Z"
   },
   {
    "duration": 9,
    "start_time": "2021-06-24T16:53:09.595Z"
   },
   {
    "duration": 125,
    "start_time": "2021-06-24T16:53:09.790Z"
   },
   {
    "duration": 1674,
    "start_time": "2021-06-24T16:53:19.833Z"
   },
   {
    "duration": 6,
    "start_time": "2021-06-24T16:53:21.510Z"
   },
   {
    "duration": 602,
    "start_time": "2021-06-24T16:53:22.061Z"
   },
   {
    "duration": 419,
    "start_time": "2021-06-24T16:53:22.753Z"
   },
   {
    "duration": 540,
    "start_time": "2021-06-24T16:53:23.174Z"
   },
   {
    "duration": 586,
    "start_time": "2021-06-24T16:53:23.718Z"
   },
   {
    "duration": 356,
    "start_time": "2021-06-24T16:53:24.309Z"
   },
   {
    "duration": 10,
    "start_time": "2021-06-24T16:53:26.198Z"
   },
   {
    "duration": 805,
    "start_time": "2021-06-24T16:53:26.790Z"
   },
   {
    "duration": 708,
    "start_time": "2021-06-24T16:53:28.270Z"
   },
   {
    "duration": 216,
    "start_time": "2021-06-24T16:53:28.981Z"
   },
   {
    "duration": 38,
    "start_time": "2021-06-24T16:53:29.943Z"
   },
   {
    "duration": 373,
    "start_time": "2021-06-24T16:53:30.330Z"
   },
   {
    "duration": 122,
    "start_time": "2021-06-24T16:53:30.732Z"
   },
   {
    "duration": 299,
    "start_time": "2021-06-24T16:53:32.580Z"
   },
   {
    "duration": 22,
    "start_time": "2021-06-24T16:53:33.265Z"
   },
   {
    "duration": 8,
    "start_time": "2021-06-24T16:53:34.637Z"
   },
   {
    "duration": 9,
    "start_time": "2021-06-24T16:53:36.577Z"
   },
   {
    "duration": 1375,
    "start_time": "2021-06-24T16:53:39.098Z"
   },
   {
    "duration": 1363,
    "start_time": "2021-06-24T16:53:41.980Z"
   },
   {
    "duration": 1267,
    "start_time": "2021-06-24T16:53:43.507Z"
   },
   {
    "duration": 558,
    "start_time": "2021-06-24T16:53:44.777Z"
   },
   {
    "duration": 1199,
    "start_time": "2021-06-24T16:53:45.338Z"
   },
   {
    "duration": 2003,
    "start_time": "2021-06-24T16:53:46.539Z"
   },
   {
    "duration": 21,
    "start_time": "2021-06-24T16:53:48.545Z"
   },
   {
    "duration": 4,
    "start_time": "2021-06-24T16:55:13.755Z"
   },
   {
    "duration": 526,
    "start_time": "2021-06-24T16:55:14.438Z"
   },
   {
    "duration": 1772,
    "start_time": "2021-06-24T16:55:16.312Z"
   },
   {
    "duration": 2731,
    "start_time": "2021-06-24T16:55:19.737Z"
   },
   {
    "duration": 13,
    "start_time": "2021-06-24T16:55:22.471Z"
   },
   {
    "duration": 3948,
    "start_time": "2021-06-24T16:55:40.690Z"
   },
   {
    "duration": 877,
    "start_time": "2021-06-24T16:55:44.641Z"
   },
   {
    "duration": 13,
    "start_time": "2021-06-24T16:55:45.520Z"
   },
   {
    "duration": 4167,
    "start_time": "2021-06-24T16:55:45.536Z"
   },
   {
    "duration": 118,
    "start_time": "2021-06-24T16:55:49.706Z"
   },
   {
    "duration": 145,
    "start_time": "2021-06-24T16:55:49.827Z"
   },
   {
    "duration": 116,
    "start_time": "2021-06-24T16:55:49.975Z"
   },
   {
    "duration": 105,
    "start_time": "2021-06-24T16:55:50.095Z"
   },
   {
    "duration": 63,
    "start_time": "2021-06-24T16:55:50.203Z"
   },
   {
    "duration": 14,
    "start_time": "2021-06-24T16:55:50.268Z"
   },
   {
    "duration": 7,
    "start_time": "2021-06-24T16:55:50.285Z"
   },
   {
    "duration": 80,
    "start_time": "2021-06-24T16:55:50.294Z"
   },
   {
    "duration": 144,
    "start_time": "2021-06-24T16:55:50.376Z"
   },
   {
    "duration": 123,
    "start_time": "2021-06-24T16:55:50.522Z"
   },
   {
    "duration": 174,
    "start_time": "2021-06-24T16:55:50.648Z"
   },
   {
    "duration": 900,
    "start_time": "2021-06-24T16:55:50.824Z"
   },
   {
    "duration": 8,
    "start_time": "2021-06-24T16:55:51.726Z"
   },
   {
    "duration": 172,
    "start_time": "2021-06-24T16:55:51.737Z"
   },
   {
    "duration": 127,
    "start_time": "2021-06-24T16:55:51.912Z"
   },
   {
    "duration": 10,
    "start_time": "2021-06-24T16:55:52.042Z"
   },
   {
    "duration": 672,
    "start_time": "2021-06-24T16:55:52.054Z"
   },
   {
    "duration": 641,
    "start_time": "2021-06-24T16:55:52.728Z"
   },
   {
    "duration": 10,
    "start_time": "2021-06-24T16:55:53.375Z"
   },
   {
    "duration": 17,
    "start_time": "2021-06-24T16:55:53.389Z"
   },
   {
    "duration": 4,
    "start_time": "2021-06-24T16:55:53.409Z"
   },
   {
    "duration": 49,
    "start_time": "2021-06-24T16:55:53.415Z"
   },
   {
    "duration": 2035,
    "start_time": "2021-06-24T16:55:53.467Z"
   },
   {
    "duration": 8,
    "start_time": "2021-06-24T16:55:55.505Z"
   },
   {
    "duration": 132,
    "start_time": "2021-06-24T16:55:55.515Z"
   },
   {
    "duration": 9,
    "start_time": "2021-06-24T16:55:55.650Z"
   },
   {
    "duration": 114,
    "start_time": "2021-06-24T16:55:55.662Z"
   },
   {
    "duration": 147,
    "start_time": "2021-06-24T16:55:55.778Z"
   },
   {
    "duration": 13,
    "start_time": "2021-06-24T16:55:55.928Z"
   },
   {
    "duration": 19,
    "start_time": "2021-06-24T16:55:55.943Z"
   },
   {
    "duration": 43,
    "start_time": "2021-06-24T16:55:55.964Z"
   },
   {
    "duration": 4,
    "start_time": "2021-06-24T16:55:56.009Z"
   },
   {
    "duration": 2809,
    "start_time": "2021-06-24T16:55:56.015Z"
   },
   {
    "duration": 10,
    "start_time": "2021-06-24T16:55:58.826Z"
   },
   {
    "duration": 26,
    "start_time": "2021-06-24T16:55:58.838Z"
   },
   {
    "duration": 13,
    "start_time": "2021-06-24T16:55:58.867Z"
   },
   {
    "duration": 145,
    "start_time": "2021-06-24T16:55:58.883Z"
   },
   {
    "duration": 12,
    "start_time": "2021-06-24T16:55:59.030Z"
   },
   {
    "duration": 23,
    "start_time": "2021-06-24T16:55:59.045Z"
   },
   {
    "duration": 2552,
    "start_time": "2021-06-24T16:55:59.071Z"
   },
   {
    "duration": 13,
    "start_time": "2021-06-24T16:56:01.625Z"
   },
   {
    "duration": 175,
    "start_time": "2021-06-24T16:56:01.640Z"
   },
   {
    "duration": 7,
    "start_time": "2021-06-24T16:56:01.817Z"
   },
   {
    "duration": 28,
    "start_time": "2021-06-24T16:56:01.827Z"
   },
   {
    "duration": 46,
    "start_time": "2021-06-24T16:56:01.857Z"
   },
   {
    "duration": 6,
    "start_time": "2021-06-24T16:56:01.905Z"
   },
   {
    "duration": 34,
    "start_time": "2021-06-24T16:56:01.913Z"
   },
   {
    "duration": 50,
    "start_time": "2021-06-24T16:56:01.949Z"
   },
   {
    "duration": 28,
    "start_time": "2021-06-24T16:56:02.001Z"
   },
   {
    "duration": 15,
    "start_time": "2021-06-24T16:56:02.032Z"
   },
   {
    "duration": 17,
    "start_time": "2021-06-24T16:56:02.049Z"
   },
   {
    "duration": 24,
    "start_time": "2021-06-24T16:56:02.068Z"
   },
   {
    "duration": 29,
    "start_time": "2021-06-24T16:56:02.094Z"
   },
   {
    "duration": 31,
    "start_time": "2021-06-24T16:56:02.125Z"
   },
   {
    "duration": 11,
    "start_time": "2021-06-24T16:56:02.159Z"
   },
   {
    "duration": 13,
    "start_time": "2021-06-24T16:56:02.173Z"
   },
   {
    "duration": 42,
    "start_time": "2021-06-24T16:56:02.189Z"
   },
   {
    "duration": 66,
    "start_time": "2021-06-24T16:56:02.234Z"
   },
   {
    "duration": 316,
    "start_time": "2021-06-24T16:56:02.302Z"
   },
   {
    "duration": 318,
    "start_time": "2021-06-24T16:56:02.621Z"
   },
   {
    "duration": 323,
    "start_time": "2021-06-24T16:56:02.942Z"
   },
   {
    "duration": 320,
    "start_time": "2021-06-24T16:56:03.267Z"
   },
   {
    "duration": 334,
    "start_time": "2021-06-24T16:56:03.589Z"
   },
   {
    "duration": 321,
    "start_time": "2021-06-24T16:56:03.932Z"
   },
   {
    "duration": 22,
    "start_time": "2021-06-24T16:56:04.261Z"
   },
   {
    "duration": 44,
    "start_time": "2021-06-24T16:56:04.285Z"
   },
   {
    "duration": 40,
    "start_time": "2021-06-24T16:56:04.332Z"
   },
   {
    "duration": 11,
    "start_time": "2021-06-24T16:56:04.375Z"
   },
   {
    "duration": 44,
    "start_time": "2021-06-24T16:56:04.389Z"
   },
   {
    "duration": 14,
    "start_time": "2021-06-24T16:56:04.463Z"
   },
   {
    "duration": 49,
    "start_time": "2021-06-24T16:56:04.480Z"
   },
   {
    "duration": 32,
    "start_time": "2021-06-24T16:56:04.532Z"
   },
   {
    "duration": 8,
    "start_time": "2021-06-24T16:56:04.566Z"
   },
   {
    "duration": 18,
    "start_time": "2021-06-24T16:56:04.576Z"
   },
   {
    "duration": 10,
    "start_time": "2021-06-24T16:56:04.596Z"
   },
   {
    "duration": 11,
    "start_time": "2021-06-24T16:56:04.608Z"
   },
   {
    "duration": 47,
    "start_time": "2021-06-24T16:56:04.622Z"
   },
   {
    "duration": 27,
    "start_time": "2021-06-24T16:56:04.672Z"
   },
   {
    "duration": 82,
    "start_time": "2021-06-24T16:56:04.701Z"
   },
   {
    "duration": 6,
    "start_time": "2021-06-24T16:56:04.785Z"
   },
   {
    "duration": 10,
    "start_time": "2021-06-24T16:56:04.794Z"
   },
   {
    "duration": 1694,
    "start_time": "2021-06-24T16:56:04.806Z"
   },
   {
    "duration": 6,
    "start_time": "2021-06-24T16:56:06.502Z"
   },
   {
    "duration": 8,
    "start_time": "2021-06-24T16:56:06.510Z"
   },
   {
    "duration": 240,
    "start_time": "2021-06-24T16:56:06.521Z"
   },
   {
    "duration": 226,
    "start_time": "2021-06-24T16:56:06.764Z"
   },
   {
    "duration": 243,
    "start_time": "2021-06-24T16:56:06.992Z"
   },
   {
    "duration": 232,
    "start_time": "2021-06-24T16:56:07.237Z"
   },
   {
    "duration": 229,
    "start_time": "2021-06-24T16:56:07.471Z"
   },
   {
    "duration": 128,
    "start_time": "2021-06-24T16:56:07.702Z"
   },
   {
    "duration": 8,
    "start_time": "2021-06-24T16:56:07.833Z"
   },
   {
    "duration": 119,
    "start_time": "2021-06-24T16:56:07.843Z"
   },
   {
    "duration": 1817,
    "start_time": "2021-06-24T16:56:07.965Z"
   },
   {
    "duration": 7,
    "start_time": "2021-06-24T16:56:09.784Z"
   },
   {
    "duration": 658,
    "start_time": "2021-06-24T16:56:09.794Z"
   },
   {
    "duration": 450,
    "start_time": "2021-06-24T16:56:10.454Z"
   },
   {
    "duration": 558,
    "start_time": "2021-06-24T16:56:10.907Z"
   },
   {
    "duration": 402,
    "start_time": "2021-06-24T16:56:11.467Z"
   },
   {
    "duration": 358,
    "start_time": "2021-06-24T16:56:11.871Z"
   },
   {
    "duration": 10,
    "start_time": "2021-06-24T16:56:12.231Z"
   },
   {
    "duration": 802,
    "start_time": "2021-06-24T16:56:12.242Z"
   },
   {
    "duration": 704,
    "start_time": "2021-06-24T16:56:13.046Z"
   },
   {
    "duration": 310,
    "start_time": "2021-06-24T16:56:13.753Z"
   },
   {
    "duration": 54,
    "start_time": "2021-06-24T16:56:14.066Z"
   },
   {
    "duration": 569,
    "start_time": "2021-06-24T16:56:14.123Z"
   },
   {
    "duration": 112,
    "start_time": "2021-06-24T16:56:14.695Z"
   },
   {
    "duration": 422,
    "start_time": "2021-06-24T16:56:14.810Z"
   },
   {
    "duration": 35,
    "start_time": "2021-06-24T16:56:15.236Z"
   },
   {
    "duration": 10,
    "start_time": "2021-06-24T16:56:15.274Z"
   },
   {
    "duration": 13,
    "start_time": "2021-06-24T16:56:15.287Z"
   },
   {
    "duration": 1803,
    "start_time": "2021-06-24T16:56:15.303Z"
   },
   {
    "duration": 1848,
    "start_time": "2021-06-24T16:56:17.110Z"
   },
   {
    "duration": 1734,
    "start_time": "2021-06-24T16:56:18.963Z"
   },
   {
    "duration": 4,
    "start_time": "2021-06-24T16:56:20.700Z"
   },
   {
    "duration": 794,
    "start_time": "2021-06-24T16:56:20.707Z"
   },
   {
    "duration": 1857,
    "start_time": "2021-06-24T16:56:21.505Z"
   },
   {
    "duration": 2923,
    "start_time": "2021-06-24T16:56:23.366Z"
   },
   {
    "duration": 15,
    "start_time": "2021-06-24T16:56:26.292Z"
   },
   {
    "duration": 4040,
    "start_time": "2021-06-24T17:06:53.234Z"
   },
   {
    "duration": 856,
    "start_time": "2021-06-24T17:06:57.277Z"
   },
   {
    "duration": 13,
    "start_time": "2021-06-24T17:06:58.135Z"
   },
   {
    "duration": 4178,
    "start_time": "2021-06-24T17:06:58.150Z"
   },
   {
    "duration": 119,
    "start_time": "2021-06-24T17:07:02.331Z"
   },
   {
    "duration": 62,
    "start_time": "2021-06-24T17:07:02.453Z"
   },
   {
    "duration": 88,
    "start_time": "2021-06-24T17:07:02.518Z"
   },
   {
    "duration": 64,
    "start_time": "2021-06-24T17:07:02.610Z"
   },
   {
    "duration": 11,
    "start_time": "2021-06-24T17:07:02.677Z"
   },
   {
    "duration": 13,
    "start_time": "2021-06-24T17:07:02.690Z"
   },
   {
    "duration": 8,
    "start_time": "2021-06-24T17:07:02.705Z"
   },
   {
    "duration": 63,
    "start_time": "2021-06-24T17:07:02.715Z"
   },
   {
    "duration": 136,
    "start_time": "2021-06-24T17:07:02.781Z"
   },
   {
    "duration": 118,
    "start_time": "2021-06-24T17:07:02.919Z"
   },
   {
    "duration": 138,
    "start_time": "2021-06-24T17:07:03.039Z"
   },
   {
    "duration": 862,
    "start_time": "2021-06-24T17:07:03.179Z"
   },
   {
    "duration": 24,
    "start_time": "2021-06-24T17:07:04.043Z"
   },
   {
    "duration": 142,
    "start_time": "2021-06-24T17:07:04.071Z"
   },
   {
    "duration": 136,
    "start_time": "2021-06-24T17:07:04.216Z"
   },
   {
    "duration": 9,
    "start_time": "2021-06-24T17:07:04.355Z"
   },
   {
    "duration": 965,
    "start_time": "2021-06-24T17:07:04.367Z"
   },
   {
    "duration": 943,
    "start_time": "2021-06-24T17:07:05.335Z"
   },
   {
    "duration": 12,
    "start_time": "2021-06-24T17:07:06.287Z"
   },
   {
    "duration": 11,
    "start_time": "2021-06-24T17:07:06.304Z"
   },
   {
    "duration": 5,
    "start_time": "2021-06-24T17:07:06.318Z"
   },
   {
    "duration": 43,
    "start_time": "2021-06-24T17:07:06.326Z"
   },
   {
    "duration": 1924,
    "start_time": "2021-06-24T17:07:06.372Z"
   },
   {
    "duration": 8,
    "start_time": "2021-06-24T17:07:08.298Z"
   },
   {
    "duration": 132,
    "start_time": "2021-06-24T17:07:08.309Z"
   },
   {
    "duration": 9,
    "start_time": "2021-06-24T17:07:08.443Z"
   },
   {
    "duration": 116,
    "start_time": "2021-06-24T17:07:08.455Z"
   },
   {
    "duration": 134,
    "start_time": "2021-06-24T17:07:08.573Z"
   },
   {
    "duration": 13,
    "start_time": "2021-06-24T17:07:08.710Z"
   },
   {
    "duration": 18,
    "start_time": "2021-06-24T17:07:08.726Z"
   },
   {
    "duration": 42,
    "start_time": "2021-06-24T17:07:08.747Z"
   },
   {
    "duration": 5,
    "start_time": "2021-06-24T17:07:08.791Z"
   },
   {
    "duration": 2776,
    "start_time": "2021-06-24T17:07:08.798Z"
   },
   {
    "duration": 10,
    "start_time": "2021-06-24T17:07:11.577Z"
   },
   {
    "duration": 13,
    "start_time": "2021-06-24T17:07:11.590Z"
   },
   {
    "duration": 12,
    "start_time": "2021-06-24T17:07:11.605Z"
   },
   {
    "duration": 161,
    "start_time": "2021-06-24T17:07:11.619Z"
   },
   {
    "duration": 12,
    "start_time": "2021-06-24T17:07:11.783Z"
   },
   {
    "duration": 30,
    "start_time": "2021-06-24T17:07:11.797Z"
   },
   {
    "duration": 2492,
    "start_time": "2021-06-24T17:07:11.830Z"
   },
   {
    "duration": 12,
    "start_time": "2021-06-24T17:07:14.325Z"
   },
   {
    "duration": 161,
    "start_time": "2021-06-24T17:07:14.339Z"
   },
   {
    "duration": 7,
    "start_time": "2021-06-24T17:07:14.503Z"
   },
   {
    "duration": 7,
    "start_time": "2021-06-24T17:07:14.513Z"
   },
   {
    "duration": 32,
    "start_time": "2021-06-24T17:07:14.523Z"
   },
   {
    "duration": 6,
    "start_time": "2021-06-24T17:07:14.557Z"
   },
   {
    "duration": 4,
    "start_time": "2021-06-24T17:07:14.566Z"
   },
   {
    "duration": 12,
    "start_time": "2021-06-24T17:07:14.573Z"
   },
   {
    "duration": 8,
    "start_time": "2021-06-24T17:07:14.587Z"
   },
   {
    "duration": 8,
    "start_time": "2021-06-24T17:07:14.597Z"
   },
   {
    "duration": 7,
    "start_time": "2021-06-24T17:07:14.607Z"
   },
   {
    "duration": 9,
    "start_time": "2021-06-24T17:07:14.616Z"
   },
   {
    "duration": 7,
    "start_time": "2021-06-24T17:07:14.663Z"
   },
   {
    "duration": 21,
    "start_time": "2021-06-24T17:07:14.673Z"
   },
   {
    "duration": 7,
    "start_time": "2021-06-24T17:07:14.697Z"
   },
   {
    "duration": 7,
    "start_time": "2021-06-24T17:07:14.706Z"
   },
   {
    "duration": 67,
    "start_time": "2021-06-24T17:07:14.715Z"
   },
   {
    "duration": 58,
    "start_time": "2021-06-24T17:07:14.784Z"
   },
   {
    "duration": 470,
    "start_time": "2021-06-24T17:07:14.861Z"
   },
   {
    "duration": 471,
    "start_time": "2021-06-24T17:07:15.334Z"
   },
   {
    "duration": 467,
    "start_time": "2021-06-24T17:07:15.808Z"
   },
   {
    "duration": 474,
    "start_time": "2021-06-24T17:07:16.278Z"
   },
   {
    "duration": 580,
    "start_time": "2021-06-24T17:07:16.755Z"
   },
   {
    "duration": 470,
    "start_time": "2021-06-24T17:07:17.350Z"
   },
   {
    "duration": 43,
    "start_time": "2021-06-24T17:07:17.826Z"
   },
   {
    "duration": 52,
    "start_time": "2021-06-24T17:07:17.871Z"
   },
   {
    "duration": 47,
    "start_time": "2021-06-24T17:07:17.926Z"
   },
   {
    "duration": 12,
    "start_time": "2021-06-24T17:07:17.977Z"
   },
   {
    "duration": 90,
    "start_time": "2021-06-24T17:07:17.992Z"
   },
   {
    "duration": 20,
    "start_time": "2021-06-24T17:07:18.085Z"
   },
   {
    "duration": 83,
    "start_time": "2021-06-24T17:07:18.108Z"
   },
   {
    "duration": 16,
    "start_time": "2021-06-24T17:07:18.194Z"
   },
   {
    "duration": 7,
    "start_time": "2021-06-24T17:07:18.212Z"
   },
   {
    "duration": 45,
    "start_time": "2021-06-24T17:07:18.222Z"
   },
   {
    "duration": 6,
    "start_time": "2021-06-24T17:07:18.270Z"
   },
   {
    "duration": 6,
    "start_time": "2021-06-24T17:07:18.279Z"
   },
   {
    "duration": 12,
    "start_time": "2021-06-24T17:07:18.288Z"
   },
   {
    "duration": 66,
    "start_time": "2021-06-24T17:07:18.302Z"
   },
   {
    "duration": 58,
    "start_time": "2021-06-24T17:07:18.370Z"
   },
   {
    "duration": 32,
    "start_time": "2021-06-24T17:07:18.430Z"
   },
   {
    "duration": 6,
    "start_time": "2021-06-24T17:07:18.465Z"
   },
   {
    "duration": 1683,
    "start_time": "2021-06-24T17:07:18.474Z"
   },
   {
    "duration": 5,
    "start_time": "2021-06-24T17:07:20.162Z"
   },
   {
    "duration": 16,
    "start_time": "2021-06-24T17:07:20.170Z"
   },
   {
    "duration": 224,
    "start_time": "2021-06-24T17:07:20.189Z"
   },
   {
    "duration": 230,
    "start_time": "2021-06-24T17:07:20.416Z"
   },
   {
    "duration": 241,
    "start_time": "2021-06-24T17:07:20.648Z"
   },
   {
    "duration": 228,
    "start_time": "2021-06-24T17:07:20.892Z"
   },
   {
    "duration": 239,
    "start_time": "2021-06-24T17:07:21.122Z"
   },
   {
    "duration": 130,
    "start_time": "2021-06-24T17:07:21.364Z"
   },
   {
    "duration": 8,
    "start_time": "2021-06-24T17:07:21.496Z"
   },
   {
    "duration": 130,
    "start_time": "2021-06-24T17:07:21.507Z"
   },
   {
    "duration": 1634,
    "start_time": "2021-06-24T17:07:21.639Z"
   },
   {
    "duration": 7,
    "start_time": "2021-06-24T17:07:23.275Z"
   },
   {
    "duration": 626,
    "start_time": "2021-06-24T17:07:23.284Z"
   },
   {
    "duration": 441,
    "start_time": "2021-06-24T17:07:23.913Z"
   },
   {
    "duration": 518,
    "start_time": "2021-06-24T17:07:24.356Z"
   },
   {
    "duration": 381,
    "start_time": "2021-06-24T17:07:24.876Z"
   },
   {
    "duration": 343,
    "start_time": "2021-06-24T17:07:25.262Z"
   },
   {
    "duration": 9,
    "start_time": "2021-06-24T17:07:25.608Z"
   },
   {
    "duration": 774,
    "start_time": "2021-06-24T17:07:25.619Z"
   },
   {
    "duration": 689,
    "start_time": "2021-06-24T17:07:26.395Z"
   },
   {
    "duration": 213,
    "start_time": "2021-06-24T17:07:27.087Z"
   },
   {
    "duration": 36,
    "start_time": "2021-06-24T17:07:27.303Z"
   },
   {
    "duration": 358,
    "start_time": "2021-06-24T17:07:27.362Z"
   },
   {
    "duration": 132,
    "start_time": "2021-06-24T17:07:27.722Z"
   },
   {
    "duration": 299,
    "start_time": "2021-06-24T17:07:27.856Z"
   },
   {
    "duration": 23,
    "start_time": "2021-06-24T17:07:28.157Z"
   },
   {
    "duration": 8,
    "start_time": "2021-06-24T17:07:28.183Z"
   },
   {
    "duration": 11,
    "start_time": "2021-06-24T17:07:28.193Z"
   },
   {
    "duration": 1341,
    "start_time": "2021-06-24T17:07:28.206Z"
   },
   {
    "duration": 1362,
    "start_time": "2021-06-24T17:07:29.550Z"
   },
   {
    "duration": 1304,
    "start_time": "2021-06-24T17:07:30.914Z"
   },
   {
    "duration": 4,
    "start_time": "2021-06-24T17:07:32.220Z"
   },
   {
    "duration": 528,
    "start_time": "2021-06-24T17:07:32.227Z"
   },
   {
    "duration": 1171,
    "start_time": "2021-06-24T17:07:32.757Z"
   },
   {
    "duration": 1931,
    "start_time": "2021-06-24T17:07:33.930Z"
   },
   {
    "duration": 12,
    "start_time": "2021-06-24T17:07:35.864Z"
   },
   {
    "duration": 14003,
    "start_time": "2021-06-25T09:33:10.441Z"
   },
   {
    "duration": 888,
    "start_time": "2021-06-25T09:33:24.448Z"
   },
   {
    "duration": 14,
    "start_time": "2021-06-25T09:33:25.339Z"
   },
   {
    "duration": 4193,
    "start_time": "2021-06-25T09:33:25.356Z"
   },
   {
    "duration": 116,
    "start_time": "2021-06-25T09:33:29.552Z"
   },
   {
    "duration": 58,
    "start_time": "2021-06-25T09:33:29.671Z"
   },
   {
    "duration": 91,
    "start_time": "2021-06-25T09:33:29.731Z"
   },
   {
    "duration": 62,
    "start_time": "2021-06-25T09:33:29.826Z"
   },
   {
    "duration": 12,
    "start_time": "2021-06-25T09:33:29.891Z"
   },
   {
    "duration": 13,
    "start_time": "2021-06-25T09:33:29.906Z"
   },
   {
    "duration": 5,
    "start_time": "2021-06-25T09:33:29.921Z"
   },
   {
    "duration": 65,
    "start_time": "2021-06-25T09:33:29.928Z"
   },
   {
    "duration": 125,
    "start_time": "2021-06-25T09:33:29.995Z"
   },
   {
    "duration": 107,
    "start_time": "2021-06-25T09:33:30.123Z"
   },
   {
    "duration": 123,
    "start_time": "2021-06-25T09:33:30.232Z"
   },
   {
    "duration": 820,
    "start_time": "2021-06-25T09:33:30.359Z"
   },
   {
    "duration": 8,
    "start_time": "2021-06-25T09:33:31.181Z"
   },
   {
    "duration": 116,
    "start_time": "2021-06-25T09:33:31.191Z"
   },
   {
    "duration": 111,
    "start_time": "2021-06-25T09:33:31.309Z"
   },
   {
    "duration": 8,
    "start_time": "2021-06-25T09:33:31.422Z"
   },
   {
    "duration": 598,
    "start_time": "2021-06-25T09:33:31.432Z"
   },
   {
    "duration": 604,
    "start_time": "2021-06-25T09:33:32.032Z"
   },
   {
    "duration": 10,
    "start_time": "2021-06-25T09:33:32.642Z"
   },
   {
    "duration": 8,
    "start_time": "2021-06-25T09:33:32.669Z"
   },
   {
    "duration": 5,
    "start_time": "2021-06-25T09:33:32.680Z"
   },
   {
    "duration": 21,
    "start_time": "2021-06-25T09:33:32.687Z"
   },
   {
    "duration": 1938,
    "start_time": "2021-06-25T09:33:32.710Z"
   },
   {
    "duration": 18,
    "start_time": "2021-06-25T09:33:34.651Z"
   },
   {
    "duration": 137,
    "start_time": "2021-06-25T09:33:34.672Z"
   },
   {
    "duration": 8,
    "start_time": "2021-06-25T09:33:34.811Z"
   },
   {
    "duration": 118,
    "start_time": "2021-06-25T09:33:34.822Z"
   },
   {
    "duration": 132,
    "start_time": "2021-06-25T09:33:34.942Z"
   },
   {
    "duration": 13,
    "start_time": "2021-06-25T09:33:35.076Z"
   },
   {
    "duration": 18,
    "start_time": "2021-06-25T09:33:35.092Z"
   },
   {
    "duration": 67,
    "start_time": "2021-06-25T09:33:35.112Z"
   },
   {
    "duration": 4,
    "start_time": "2021-06-25T09:33:35.181Z"
   },
   {
    "duration": 2958,
    "start_time": "2021-06-25T09:33:35.187Z"
   },
   {
    "duration": 23,
    "start_time": "2021-06-25T09:33:38.148Z"
   },
   {
    "duration": 14,
    "start_time": "2021-06-25T09:33:38.174Z"
   },
   {
    "duration": 9,
    "start_time": "2021-06-25T09:33:38.190Z"
   },
   {
    "duration": 160,
    "start_time": "2021-06-25T09:33:38.202Z"
   },
   {
    "duration": 13,
    "start_time": "2021-06-25T09:33:38.365Z"
   },
   {
    "duration": 21,
    "start_time": "2021-06-25T09:33:38.380Z"
   },
   {
    "duration": 2590,
    "start_time": "2021-06-25T09:33:38.404Z"
   },
   {
    "duration": 13,
    "start_time": "2021-06-25T09:33:40.997Z"
   },
   {
    "duration": 143,
    "start_time": "2021-06-25T09:33:41.013Z"
   },
   {
    "duration": 7,
    "start_time": "2021-06-25T09:33:41.159Z"
   },
   {
    "duration": 7,
    "start_time": "2021-06-25T09:33:41.168Z"
   },
   {
    "duration": 23,
    "start_time": "2021-06-25T09:33:41.178Z"
   },
   {
    "duration": 7,
    "start_time": "2021-06-25T09:33:41.203Z"
   },
   {
    "duration": 16,
    "start_time": "2021-06-25T09:33:41.213Z"
   },
   {
    "duration": 37,
    "start_time": "2021-06-25T09:33:41.232Z"
   },
   {
    "duration": 10,
    "start_time": "2021-06-25T09:33:41.271Z"
   },
   {
    "duration": 12,
    "start_time": "2021-06-25T09:33:41.283Z"
   },
   {
    "duration": 10,
    "start_time": "2021-06-25T09:33:41.297Z"
   },
   {
    "duration": 18,
    "start_time": "2021-06-25T09:33:41.309Z"
   },
   {
    "duration": 12,
    "start_time": "2021-06-25T09:33:41.330Z"
   },
   {
    "duration": 32,
    "start_time": "2021-06-25T09:33:41.344Z"
   },
   {
    "duration": 7,
    "start_time": "2021-06-25T09:33:41.378Z"
   },
   {
    "duration": 8,
    "start_time": "2021-06-25T09:33:41.388Z"
   },
   {
    "duration": 32,
    "start_time": "2021-06-25T09:33:41.398Z"
   },
   {
    "duration": 87,
    "start_time": "2021-06-25T09:33:41.432Z"
   },
   {
    "duration": 336,
    "start_time": "2021-06-25T09:33:41.521Z"
   },
   {
    "duration": 332,
    "start_time": "2021-06-25T09:33:41.860Z"
   },
   {
    "duration": 326,
    "start_time": "2021-06-25T09:33:42.195Z"
   },
   {
    "duration": 328,
    "start_time": "2021-06-25T09:33:42.523Z"
   },
   {
    "duration": 319,
    "start_time": "2021-06-25T09:33:42.854Z"
   },
   {
    "duration": 323,
    "start_time": "2021-06-25T09:33:43.182Z"
   },
   {
    "duration": 21,
    "start_time": "2021-06-25T09:33:43.509Z"
   },
   {
    "duration": 59,
    "start_time": "2021-06-25T09:33:43.533Z"
   },
   {
    "duration": 19,
    "start_time": "2021-06-25T09:33:43.594Z"
   },
   {
    "duration": 9,
    "start_time": "2021-06-25T09:33:43.615Z"
   },
   {
    "duration": 72,
    "start_time": "2021-06-25T09:33:43.627Z"
   },
   {
    "duration": 15,
    "start_time": "2021-06-25T09:33:43.701Z"
   },
   {
    "duration": 68,
    "start_time": "2021-06-25T09:33:43.719Z"
   },
   {
    "duration": 11,
    "start_time": "2021-06-25T09:33:43.789Z"
   },
   {
    "duration": 6,
    "start_time": "2021-06-25T09:33:43.803Z"
   },
   {
    "duration": 15,
    "start_time": "2021-06-25T09:33:43.811Z"
   },
   {
    "duration": 40,
    "start_time": "2021-06-25T09:33:43.828Z"
   },
   {
    "duration": 6,
    "start_time": "2021-06-25T09:33:43.870Z"
   },
   {
    "duration": 20,
    "start_time": "2021-06-25T09:33:43.878Z"
   },
   {
    "duration": 22,
    "start_time": "2021-06-25T09:33:43.900Z"
   },
   {
    "duration": 95,
    "start_time": "2021-06-25T09:33:43.925Z"
   },
   {
    "duration": 7,
    "start_time": "2021-06-25T09:33:44.023Z"
   },
   {
    "duration": 14,
    "start_time": "2021-06-25T09:33:44.032Z"
   },
   {
    "duration": 1710,
    "start_time": "2021-06-25T09:33:44.049Z"
   },
   {
    "duration": 10,
    "start_time": "2021-06-25T09:33:45.761Z"
   },
   {
    "duration": 7,
    "start_time": "2021-06-25T09:33:45.773Z"
   },
   {
    "duration": 233,
    "start_time": "2021-06-25T09:33:45.782Z"
   },
   {
    "duration": 240,
    "start_time": "2021-06-25T09:33:46.018Z"
   },
   {
    "duration": 242,
    "start_time": "2021-06-25T09:33:46.267Z"
   },
   {
    "duration": 337,
    "start_time": "2021-06-25T09:33:46.512Z"
   },
   {
    "duration": 229,
    "start_time": "2021-06-25T09:33:46.852Z"
   },
   {
    "duration": 136,
    "start_time": "2021-06-25T09:33:47.083Z"
   },
   {
    "duration": 9,
    "start_time": "2021-06-25T09:33:47.221Z"
   },
   {
    "duration": 144,
    "start_time": "2021-06-25T09:33:47.232Z"
   },
   {
    "duration": 1689,
    "start_time": "2021-06-25T09:33:47.378Z"
   },
   {
    "duration": 6,
    "start_time": "2021-06-25T09:33:49.070Z"
   },
   {
    "duration": 631,
    "start_time": "2021-06-25T09:33:49.079Z"
   },
   {
    "duration": 442,
    "start_time": "2021-06-25T09:33:49.712Z"
   },
   {
    "duration": 556,
    "start_time": "2021-06-25T09:33:50.157Z"
   },
   {
    "duration": 387,
    "start_time": "2021-06-25T09:33:50.716Z"
   },
   {
    "duration": 891,
    "start_time": "2021-06-25T09:33:51.106Z"
   },
   {
    "duration": 191,
    "start_time": "2021-06-25T09:33:52.000Z"
   },
   {
    "duration": 778,
    "start_time": "2021-06-25T09:33:52.194Z"
   },
   {
    "duration": 737,
    "start_time": "2021-06-25T09:33:52.975Z"
   },
   {
    "duration": 217,
    "start_time": "2021-06-25T09:33:53.715Z"
   },
   {
    "duration": 50,
    "start_time": "2021-06-25T09:33:53.936Z"
   },
   {
    "duration": 382,
    "start_time": "2021-06-25T09:33:53.988Z"
   },
   {
    "duration": 117,
    "start_time": "2021-06-25T09:33:54.372Z"
   },
   {
    "duration": 295,
    "start_time": "2021-06-25T09:33:54.492Z"
   },
   {
    "duration": 20,
    "start_time": "2021-06-25T09:33:54.789Z"
   },
   {
    "duration": 8,
    "start_time": "2021-06-25T09:33:54.811Z"
   },
   {
    "duration": 9,
    "start_time": "2021-06-25T09:33:54.821Z"
   },
   {
    "duration": 1274,
    "start_time": "2021-06-25T09:33:54.832Z"
   },
   {
    "duration": 1313,
    "start_time": "2021-06-25T09:33:56.108Z"
   },
   {
    "duration": 1225,
    "start_time": "2021-06-25T09:33:57.423Z"
   },
   {
    "duration": 4,
    "start_time": "2021-06-25T09:33:58.651Z"
   },
   {
    "duration": 531,
    "start_time": "2021-06-25T09:33:58.668Z"
   },
   {
    "duration": 1188,
    "start_time": "2021-06-25T09:33:59.201Z"
   },
   {
    "duration": 1965,
    "start_time": "2021-06-25T09:34:00.391Z"
   },
   {
    "duration": 18,
    "start_time": "2021-06-25T09:34:02.359Z"
   },
   {
    "duration": 143,
    "start_time": "2021-06-25T10:02:24.663Z"
   }
  ],
  "kernelspec": {
   "display_name": "Python 3",
   "language": "python",
   "name": "python3"
  },
  "language_info": {
   "codemirror_mode": {
    "name": "ipython",
    "version": 3
   },
   "file_extension": ".py",
   "mimetype": "text/x-python",
   "name": "python",
   "nbconvert_exporter": "python",
   "pygments_lexer": "ipython3",
   "version": "3.8.10"
  },
  "toc": {
   "base_numbering": 1,
   "nav_menu": {},
   "number_sections": true,
   "sideBar": true,
   "skip_h1_title": true,
   "title_cell": "Table of Contents",
   "title_sidebar": "Contents",
   "toc_cell": false,
   "toc_position": {},
   "toc_section_display": true,
   "toc_window_display": false
  }
 },
 "nbformat": 4,
 "nbformat_minor": 2
}
