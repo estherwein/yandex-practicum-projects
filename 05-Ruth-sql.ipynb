{
 "cells": [
  {
   "cell_type": "markdown",
   "id": "93f17335",
   "metadata": {},
   "source": [
    "Hi Ruth. I'm Svetlana and will review your project. I've added all my comments to new cells with different coloring. Please don't delete my comments.\n",
    "\n",
    "\n",
    "The first time I see a mistake, I'll just point it out and let you find it and fix it yourself. In a real job, your boss will do the same, and I'm trying to prepare you to work as an Data Analyst. But if you can't handle this task yet, I'll give you a more accurate hint at the next check.\n",
    "\n",
    "<div class=\"alert alert-success\" role=\"alert\">\n",
    "Reviewer's comment v. 1:\n",
    "    \n",
    "If you did something great I'm using green color for my comment\n",
    "</div>\n",
    "\n",
    "<div class=\"alert alert-warning\" role=\"alert\">\n",
    "Reviewer's comment v. 1:\n",
    "    \n",
    "If I want to give you advice or think that something can be improved, then I'll use yellow. This is an optional recommendation.\n",
    "</div>\n",
    "\n",
    "<div class=\"alert alert-danger\" role=\"alert\">\n",
    "Reviewer's comment v. 1:\n",
    "    \n",
    "If the topic requires some extra work so I can accept it then the color will be red\n",
    "</div>\n",
    "\n",
    "## Review <a class=\"tocSkip\">\n",
    "\n",
    "Thank you! Your project has been received. You've done a lot of work. ut, unfortunately, your project is not quite ready for review. This is because the code doesn’t run because of error. You're almost there!"
   ]
  },
  {
   "cell_type": "markdown",
   "id": "1839099d",
   "metadata": {},
   "source": [
    "In addition to the data we retrieved in the previous work, we've been given new files. Let's open this files in python, take a closer look at them and make some calculations and graphs that will help us to make a good conclusion."
   ]
  },
  {
   "cell_type": "markdown",
   "id": "5f144ba6",
   "metadata": {},
   "source": [
    "# Overview and studying the general information"
   ]
  },
  {
   "cell_type": "markdown",
   "id": "a8131929",
   "metadata": {},
   "source": [
    "<div class=\"alert alert-warning\" role=\"alert\">\n",
    "Reviewer's comment v. 1:\n",
    "    \n",
    "I recommend to formulate a goal of the project.\n",
    "</div>"
   ]
  },
  {
   "cell_type": "markdown",
   "id": "ca864185",
   "metadata": {},
   "source": [
    "First, Let's install squarify, this tool will help us with our graphs in the future."
   ]
  },
  {
   "cell_type": "code",
   "execution_count": 1,
   "id": "bf4532a3",
   "metadata": {},
   "outputs": [
    {
     "name": "stdout",
     "output_type": "stream",
     "text": [
      "Requirement already satisfied: squarify in c:\\users\\97252\\anaconda3\\lib\\site-packages (0.4.3)\n",
      "Note: you may need to restart the kernel to use updated packages.\n"
     ]
    }
   ],
   "source": [
    "pip install squarify"
   ]
  },
  {
   "cell_type": "markdown",
   "id": "29f5f0d1",
   "metadata": {},
   "source": [
    "#### Importing all the necessaries libraries"
   ]
  },
  {
   "cell_type": "code",
   "execution_count": 2,
   "id": "9437c2bf",
   "metadata": {},
   "outputs": [],
   "source": [
    "from scipy.stats import mannwhitneyu\n",
    "import numpy as np\n",
    "import pandas as pd\n",
    "import matplotlib\n",
    "import matplotlib.pyplot as plt\n",
    "import seaborn as sns\n",
    "import squarify"
   ]
  },
  {
   "cell_type": "markdown",
   "id": "dbd1c2dd",
   "metadata": {},
   "source": [
    "#### Importing all the necesaries files ####"
   ]
  },
  {
   "cell_type": "code",
   "execution_count": 3,
   "id": "6f4b7361",
   "metadata": {},
   "outputs": [],
   "source": [
    "try:\n",
    "    data_company = pd.read_csv('/Users/97252/OneDrive/Desktop/Sprint 7 - SQL/project_sql_result_01.csv')\n",
    "    data_trips = pd.read_csv ('/Users/97252/OneDrive/Desktop/Sprint 7 - SQL/project_sql_result_04.csv')\n",
    "    data_airport = pd.read_csv ('/Users/97252/OneDrive/Desktop/Sprint 7 - SQL/project_sql_result_07.csv')\n",
    "except:\n",
    "    data_company = pd.read_csv ('/datasets/project_sql_result_01.csv')\n",
    "    data_trips = pd.read_csv ('/datasets/project_sql_result_04.csv')\n",
    "    data_airport = pd.read_csv ('/datasets/project_sql_result_07.csv')"
   ]
  },
  {
   "cell_type": "markdown",
   "id": "9099abbb",
   "metadata": {},
   "source": [
    "<div class=\"alert alert-success\" role=\"alert\">\n",
    "Reviewer's comment v. 1:\n",
    "    \n",
    "It's a good idea to use try-except for the path to the file in case of local work.\n",
    "</div>"
   ]
  },
  {
   "cell_type": "markdown",
   "id": "4b109d8b",
   "metadata": {},
   "source": [
    "#### Taking a closer look at  data_company table ####"
   ]
  },
  {
   "cell_type": "code",
   "execution_count": 4,
   "id": "2a27a13a",
   "metadata": {
    "scrolled": true
   },
   "outputs": [
    {
     "data": {
      "text/html": [
       "<div>\n",
       "<style scoped>\n",
       "    .dataframe tbody tr th:only-of-type {\n",
       "        vertical-align: middle;\n",
       "    }\n",
       "\n",
       "    .dataframe tbody tr th {\n",
       "        vertical-align: top;\n",
       "    }\n",
       "\n",
       "    .dataframe thead th {\n",
       "        text-align: right;\n",
       "    }\n",
       "</style>\n",
       "<table border=\"1\" class=\"dataframe\">\n",
       "  <thead>\n",
       "    <tr style=\"text-align: right;\">\n",
       "      <th></th>\n",
       "      <th>company_name</th>\n",
       "      <th>trips_amount</th>\n",
       "    </tr>\n",
       "  </thead>\n",
       "  <tbody>\n",
       "    <tr>\n",
       "      <th>0</th>\n",
       "      <td>Flash Cab</td>\n",
       "      <td>19558</td>\n",
       "    </tr>\n",
       "    <tr>\n",
       "      <th>1</th>\n",
       "      <td>Taxi Affiliation Services</td>\n",
       "      <td>11422</td>\n",
       "    </tr>\n",
       "    <tr>\n",
       "      <th>2</th>\n",
       "      <td>Medallion Leasin</td>\n",
       "      <td>10367</td>\n",
       "    </tr>\n",
       "    <tr>\n",
       "      <th>3</th>\n",
       "      <td>Yellow Cab</td>\n",
       "      <td>9888</td>\n",
       "    </tr>\n",
       "    <tr>\n",
       "      <th>4</th>\n",
       "      <td>Taxi Affiliation Service Yellow</td>\n",
       "      <td>9299</td>\n",
       "    </tr>\n",
       "  </tbody>\n",
       "</table>\n",
       "</div>"
      ],
      "text/plain": [
       "                      company_name  trips_amount\n",
       "0                        Flash Cab         19558\n",
       "1        Taxi Affiliation Services         11422\n",
       "2                 Medallion Leasin         10367\n",
       "3                       Yellow Cab          9888\n",
       "4  Taxi Affiliation Service Yellow          9299"
      ]
     },
     "execution_count": 4,
     "metadata": {},
     "output_type": "execute_result"
    }
   ],
   "source": [
    "#Print the first rows from the table data_company using the head() method.\n",
    "data_company.head()"
   ]
  },
  {
   "cell_type": "markdown",
   "id": "fde2da0d",
   "metadata": {},
   "source": [
    "company_name: taxi company name\n",
    "<br>\n",
    "trips_amount: the number of rides for each taxi company on November 15-16, 2017."
   ]
  },
  {
   "cell_type": "code",
   "execution_count": 5,
   "id": "02de8f5d",
   "metadata": {},
   "outputs": [
    {
     "name": "stdout",
     "output_type": "stream",
     "text": [
      "<class 'pandas.core.frame.DataFrame'>\n",
      "RangeIndex: 64 entries, 0 to 63\n",
      "Data columns (total 2 columns):\n",
      " #   Column        Non-Null Count  Dtype \n",
      "---  ------        --------------  ----- \n",
      " 0   company_name  64 non-null     object\n",
      " 1   trips_amount  64 non-null     int64 \n",
      "dtypes: int64(1), object(1)\n",
      "memory usage: 1.1+ KB\n"
     ]
    }
   ],
   "source": [
    "#Let's check for general information in the data_company table using the info() method.\n",
    "data_company.info()"
   ]
  },
  {
   "cell_type": "markdown",
   "id": "3cdf6e0d",
   "metadata": {},
   "source": [
    "* No missing values \n",
    "* The data types are correct\n",
    "* There are 64 rows in this table, we need to check is this mean that we have 64 different companies. If we have the same company in two different rows we will sum their trips_amount values. This will make our work more organized."
   ]
  },
  {
   "cell_type": "markdown",
   "id": "0e176a63",
   "metadata": {},
   "source": [
    "**How many companies are in the data_company table?**"
   ]
  },
  {
   "cell_type": "code",
   "execution_count": 6,
   "id": "ce041f79",
   "metadata": {
    "scrolled": true
   },
   "outputs": [
    {
     "data": {
      "text/plain": [
       "Yellow Cab                         1\n",
       "Taxi Affiliation Service Yellow    1\n",
       "City Service                       1\n",
       "4053 - 40193 Adwar H. Nikola       1\n",
       "Globe Taxi                         1\n",
       "                                  ..\n",
       "1469 - 64126 Omar Jada             1\n",
       "3011 - 66308 JBL Cab Inc.          1\n",
       "Flash Cab                          1\n",
       "24 Seven Taxi                      1\n",
       "Leonard Cab Co                     1\n",
       "Name: company_name, Length: 64, dtype: int64"
      ]
     },
     "execution_count": 6,
     "metadata": {},
     "output_type": "execute_result"
    }
   ],
   "source": [
    "#Using value_counts() to get the counts of the unit values in data_company table - company_name column\n",
    "data_company['company_name'].value_counts()"
   ]
  },
  {
   "cell_type": "markdown",
   "id": "75240d18",
   "metadata": {},
   "source": [
    "We have 64 rows in our data_company table, each one represent a different company. Everything looks good until now! "
   ]
  },
  {
   "cell_type": "markdown",
   "id": "40217679",
   "metadata": {},
   "source": [
    "<div class=\"alert alert-success\" role=\"alert\">\n",
    "Reviewer's comment v. 1:\n",
    "    \n",
    "Yes, we don't have a missing values.\n",
    "</div>"
   ]
  },
  {
   "cell_type": "markdown",
   "id": "8bd5f0a1",
   "metadata": {},
   "source": [
    "<div class=\"alert alert-danger\" role=\"alert\">\n",
    "Reviewer's comment v. 1:\n",
    "    \n",
    "Could you please check data for duplicates?\n",
    "</div>"
   ]
  },
  {
   "cell_type": "markdown",
   "id": "878147ea",
   "metadata": {},
   "source": [
    "#### Taking a closer look at  data_trips table ####"
   ]
  },
  {
   "cell_type": "code",
   "execution_count": 7,
   "id": "9ae8e48a",
   "metadata": {
    "scrolled": true
   },
   "outputs": [
    {
     "data": {
      "text/html": [
       "<div>\n",
       "<style scoped>\n",
       "    .dataframe tbody tr th:only-of-type {\n",
       "        vertical-align: middle;\n",
       "    }\n",
       "\n",
       "    .dataframe tbody tr th {\n",
       "        vertical-align: top;\n",
       "    }\n",
       "\n",
       "    .dataframe thead th {\n",
       "        text-align: right;\n",
       "    }\n",
       "</style>\n",
       "<table border=\"1\" class=\"dataframe\">\n",
       "  <thead>\n",
       "    <tr style=\"text-align: right;\">\n",
       "      <th></th>\n",
       "      <th>dropoff_location_name</th>\n",
       "      <th>average_trips</th>\n",
       "    </tr>\n",
       "  </thead>\n",
       "  <tbody>\n",
       "    <tr>\n",
       "      <th>0</th>\n",
       "      <td>Loop</td>\n",
       "      <td>10727.466667</td>\n",
       "    </tr>\n",
       "    <tr>\n",
       "      <th>1</th>\n",
       "      <td>River North</td>\n",
       "      <td>9523.666667</td>\n",
       "    </tr>\n",
       "    <tr>\n",
       "      <th>2</th>\n",
       "      <td>Streeterville</td>\n",
       "      <td>6664.666667</td>\n",
       "    </tr>\n",
       "    <tr>\n",
       "      <th>3</th>\n",
       "      <td>West Loop</td>\n",
       "      <td>5163.666667</td>\n",
       "    </tr>\n",
       "    <tr>\n",
       "      <th>4</th>\n",
       "      <td>O'Hare</td>\n",
       "      <td>2546.900000</td>\n",
       "    </tr>\n",
       "  </tbody>\n",
       "</table>\n",
       "</div>"
      ],
      "text/plain": [
       "  dropoff_location_name  average_trips\n",
       "0                  Loop   10727.466667\n",
       "1           River North    9523.666667\n",
       "2         Streeterville    6664.666667\n",
       "3             West Loop    5163.666667\n",
       "4                O'Hare    2546.900000"
      ]
     },
     "execution_count": 7,
     "metadata": {},
     "output_type": "execute_result"
    }
   ],
   "source": [
    "#Print the first rows from the table data_trips using the head() method.\n",
    "data_trips.head()"
   ]
  },
  {
   "cell_type": "markdown",
   "id": "45ca79c0",
   "metadata": {},
   "source": [
    "dropoff_location_name: Chicago neighborhoods where rides ended\n",
    "<br>\n",
    "average_trips: the average number of rides that ended in each neighborhood in November 2017."
   ]
  },
  {
   "cell_type": "code",
   "execution_count": 8,
   "id": "820f2f42",
   "metadata": {},
   "outputs": [
    {
     "name": "stdout",
     "output_type": "stream",
     "text": [
      "<class 'pandas.core.frame.DataFrame'>\n",
      "RangeIndex: 94 entries, 0 to 93\n",
      "Data columns (total 2 columns):\n",
      " #   Column                 Non-Null Count  Dtype  \n",
      "---  ------                 --------------  -----  \n",
      " 0   dropoff_location_name  94 non-null     object \n",
      " 1   average_trips          94 non-null     float64\n",
      "dtypes: float64(1), object(1)\n",
      "memory usage: 1.6+ KB\n"
     ]
    }
   ],
   "source": [
    "#Let's check for general information in the data_trips table using the info() method.\n",
    "data_trips.info()"
   ]
  },
  {
   "cell_type": "markdown",
   "id": "88d66517",
   "metadata": {},
   "source": [
    "* No missing values \n",
    "* The data types are correct\n",
    "* There are 94 rows in this table, we need to check is this means that we have 94 different neighborhoods. If we have the same neighborhood in two different rows we will sum their average_trips values. This will make our work more organized."
   ]
  },
  {
   "cell_type": "markdown",
   "id": "47054109",
   "metadata": {},
   "source": [
    "**How many neighborhoods are in the data_trips table?**"
   ]
  },
  {
   "cell_type": "code",
   "execution_count": 9,
   "id": "04ee6082",
   "metadata": {},
   "outputs": [
    {
     "data": {
      "text/plain": [
       "Rush & Division       1\n",
       "Irving Park           1\n",
       "Douglas               1\n",
       "Edgewater             1\n",
       "Washington Heights    1\n",
       "                     ..\n",
       "Ukrainian Village     1\n",
       "Lake View             1\n",
       "River North           1\n",
       "Grand Crossing        1\n",
       "Wrigleyville          1\n",
       "Name: dropoff_location_name, Length: 94, dtype: int64"
      ]
     },
     "execution_count": 9,
     "metadata": {},
     "output_type": "execute_result"
    }
   ],
   "source": [
    "#Using value_counts() to get the counts of the unit values in data_trips table - dropoff_location_name column\n",
    "data_trips['dropoff_location_name'].value_counts()"
   ]
  },
  {
   "cell_type": "markdown",
   "id": "040c5a74",
   "metadata": {},
   "source": [
    "We have 94 rows in our data_trips table, each one represent a different neighborhood. Everything looks good until now! "
   ]
  },
  {
   "cell_type": "code",
   "execution_count": 10,
   "id": "757941d3",
   "metadata": {
    "scrolled": true
   },
   "outputs": [
    {
     "name": "stdout",
     "output_type": "stream",
     "text": [
      "Duplicates in data_company table: 0\n",
      "Duplicates in data_trips table: 0\n",
      "Duplicates in data_airport table: 197\n"
     ]
    }
   ],
   "source": [
    "dict = {'data_company':data_company,'data_trips':data_trips, 'data_airport':data_airport}\n",
    "for data in dict :\n",
    "    print('Duplicates in {} table: {}'.format(data,dict[data].duplicated().sum()))\n",
    "    #print() "
   ]
  },
  {
   "cell_type": "markdown",
   "id": "e40d7b10",
   "metadata": {},
   "source": [
    "<div class=\"alert alert-danger\" role=\"alert\">\n",
    "Reviewer's comment v. 1:\n",
    "    \n",
    "Well done, but please check data for duplicates.\n",
    "</div>"
   ]
  },
  {
   "cell_type": "markdown",
   "id": "c2087551",
   "metadata": {},
   "source": [
    "#### Taking a closer look at  data_airport table ####"
   ]
  },
  {
   "cell_type": "code",
   "execution_count": 11,
   "id": "f8227ade",
   "metadata": {},
   "outputs": [
    {
     "data": {
      "text/html": [
       "<div>\n",
       "<style scoped>\n",
       "    .dataframe tbody tr th:only-of-type {\n",
       "        vertical-align: middle;\n",
       "    }\n",
       "\n",
       "    .dataframe tbody tr th {\n",
       "        vertical-align: top;\n",
       "    }\n",
       "\n",
       "    .dataframe thead th {\n",
       "        text-align: right;\n",
       "    }\n",
       "</style>\n",
       "<table border=\"1\" class=\"dataframe\">\n",
       "  <thead>\n",
       "    <tr style=\"text-align: right;\">\n",
       "      <th></th>\n",
       "      <th>start_ts</th>\n",
       "      <th>weather_conditions</th>\n",
       "      <th>duration_seconds</th>\n",
       "    </tr>\n",
       "  </thead>\n",
       "  <tbody>\n",
       "    <tr>\n",
       "      <th>0</th>\n",
       "      <td>2017-11-25 16:00:00</td>\n",
       "      <td>Good</td>\n",
       "      <td>2410.0</td>\n",
       "    </tr>\n",
       "    <tr>\n",
       "      <th>1</th>\n",
       "      <td>2017-11-25 14:00:00</td>\n",
       "      <td>Good</td>\n",
       "      <td>1920.0</td>\n",
       "    </tr>\n",
       "    <tr>\n",
       "      <th>2</th>\n",
       "      <td>2017-11-25 12:00:00</td>\n",
       "      <td>Good</td>\n",
       "      <td>1543.0</td>\n",
       "    </tr>\n",
       "    <tr>\n",
       "      <th>3</th>\n",
       "      <td>2017-11-04 10:00:00</td>\n",
       "      <td>Good</td>\n",
       "      <td>2512.0</td>\n",
       "    </tr>\n",
       "    <tr>\n",
       "      <th>4</th>\n",
       "      <td>2017-11-11 07:00:00</td>\n",
       "      <td>Good</td>\n",
       "      <td>1440.0</td>\n",
       "    </tr>\n",
       "  </tbody>\n",
       "</table>\n",
       "</div>"
      ],
      "text/plain": [
       "              start_ts weather_conditions  duration_seconds\n",
       "0  2017-11-25 16:00:00               Good            2410.0\n",
       "1  2017-11-25 14:00:00               Good            1920.0\n",
       "2  2017-11-25 12:00:00               Good            1543.0\n",
       "3  2017-11-04 10:00:00               Good            2512.0\n",
       "4  2017-11-11 07:00:00               Good            1440.0"
      ]
     },
     "execution_count": 11,
     "metadata": {},
     "output_type": "execute_result"
    }
   ],
   "source": [
    "#Print the first rows from the table data_airport using the head() method.\n",
    "data_airport.head()   "
   ]
  },
  {
   "cell_type": "markdown",
   "id": "3b2ecbda",
   "metadata": {},
   "source": [
    "<div class=\"alert alert-danger\" role=\"alert\">\n",
    "Reviewer's comment v. 1:\n",
    "    \n",
    "Please check are there any anomalies in data?\n",
    "</div>"
   ]
  },
  {
   "cell_type": "markdown",
   "id": "defc9c01",
   "metadata": {},
   "source": [
    "start_ts: pickup date and time\n",
    "<br>\n",
    "weather_conditions: weather conditions at the moment the ride started\n",
    "<br>\n",
    "duration_seconds: ride duration in seconds"
   ]
  },
  {
   "cell_type": "code",
   "execution_count": 12,
   "id": "6cf0b49e",
   "metadata": {},
   "outputs": [
    {
     "name": "stdout",
     "output_type": "stream",
     "text": [
      "<class 'pandas.core.frame.DataFrame'>\n",
      "RangeIndex: 1068 entries, 0 to 1067\n",
      "Data columns (total 3 columns):\n",
      " #   Column              Non-Null Count  Dtype  \n",
      "---  ------              --------------  -----  \n",
      " 0   start_ts            1068 non-null   object \n",
      " 1   weather_conditions  1068 non-null   object \n",
      " 2   duration_seconds    1068 non-null   float64\n",
      "dtypes: float64(1), object(2)\n",
      "memory usage: 25.2+ KB\n"
     ]
    }
   ],
   "source": [
    "#Let's check for general information in the data_airport table using the info() method.\n",
    "data_airport.info()"
   ]
  },
  {
   "cell_type": "markdown",
   "id": "40e1fd12",
   "metadata": {},
   "source": [
    "* No missing values \n",
    "* The type of the dates values are object. Will use to_datetime() method to change the types.\n",
    "{format='%Y-%m-%d %H:%M:%S'}\n",
    "* In the weather_conditions columns we will check how much differents options of weather we have, because using the head() method we see one type of weather condition (Good), but suposse to be more."
   ]
  },
  {
   "cell_type": "code",
   "execution_count": 13,
   "id": "f0d97b6a",
   "metadata": {},
   "outputs": [],
   "source": [
    "#Changing data types using to_datetime method\n",
    "data_airport['start_ts'] = pd.to_datetime(data_airport['start_ts'], format='%Y-%m-%d %H:%M:%S')"
   ]
  },
  {
   "cell_type": "markdown",
   "id": "6a53591c",
   "metadata": {},
   "source": [
    "**How many differents weather_conditions are in the data_airport table?**\n",
    "<br>\n",
    "This information could be important for future analysis."
   ]
  },
  {
   "cell_type": "code",
   "execution_count": 14,
   "id": "3c300ea7",
   "metadata": {
    "scrolled": true
   },
   "outputs": [
    {
     "data": {
      "text/plain": [
       "Good    888\n",
       "Bad     180\n",
       "Name: weather_conditions, dtype: int64"
      ]
     },
     "execution_count": 14,
     "metadata": {},
     "output_type": "execute_result"
    }
   ],
   "source": [
    "#Using value_counts() to get the counts of the unit values in data_airport table - weather_conditions column\n",
    "data_airport['weather_conditions'].value_counts()"
   ]
  },
  {
   "cell_type": "markdown",
   "id": "c258e294",
   "metadata": {},
   "source": [
    "Good! Now we now there is only two different weather conditions: God and Bad."
   ]
  },
  {
   "cell_type": "markdown",
   "id": "24ab65cd",
   "metadata": {},
   "source": [
    "#### Looking for duplicate values "
   ]
  },
  {
   "cell_type": "code",
   "execution_count": 15,
   "id": "de299ab4",
   "metadata": {
    "scrolled": true
   },
   "outputs": [
    {
     "name": "stdout",
     "output_type": "stream",
     "text": [
      "Duplicates in data_company table: 0\n",
      "Duplicates in data_trips table: 0\n",
      "Duplicates in data_airport table: 197\n"
     ]
    }
   ],
   "source": [
    "dict = {'data_company':data_company,'data_trips':data_trips, 'data_airport':data_airport}\n",
    "for data in dict :\n",
    "    print('Duplicates in {} table: {}'.format(data,dict[data].duplicated().sum()))\n",
    "    #print() "
   ]
  },
  {
   "cell_type": "markdown",
   "id": "ec7bb96a",
   "metadata": {},
   "source": [
    "We have 197 duplicates in the data_airport table, let's drop them!"
   ]
  },
  {
   "cell_type": "code",
   "execution_count": 16,
   "id": "40c2cfdd",
   "metadata": {},
   "outputs": [
    {
     "data": {
      "text/html": [
       "<div>\n",
       "<style scoped>\n",
       "    .dataframe tbody tr th:only-of-type {\n",
       "        vertical-align: middle;\n",
       "    }\n",
       "\n",
       "    .dataframe tbody tr th {\n",
       "        vertical-align: top;\n",
       "    }\n",
       "\n",
       "    .dataframe thead th {\n",
       "        text-align: right;\n",
       "    }\n",
       "</style>\n",
       "<table border=\"1\" class=\"dataframe\">\n",
       "  <thead>\n",
       "    <tr style=\"text-align: right;\">\n",
       "      <th></th>\n",
       "      <th>start_ts</th>\n",
       "      <th>weather_conditions</th>\n",
       "      <th>duration_seconds</th>\n",
       "    </tr>\n",
       "  </thead>\n",
       "  <tbody>\n",
       "    <tr>\n",
       "      <th>0</th>\n",
       "      <td>2017-11-25 16:00:00</td>\n",
       "      <td>Good</td>\n",
       "      <td>2410.0</td>\n",
       "    </tr>\n",
       "    <tr>\n",
       "      <th>1</th>\n",
       "      <td>2017-11-25 14:00:00</td>\n",
       "      <td>Good</td>\n",
       "      <td>1920.0</td>\n",
       "    </tr>\n",
       "    <tr>\n",
       "      <th>2</th>\n",
       "      <td>2017-11-25 12:00:00</td>\n",
       "      <td>Good</td>\n",
       "      <td>1543.0</td>\n",
       "    </tr>\n",
       "    <tr>\n",
       "      <th>3</th>\n",
       "      <td>2017-11-04 10:00:00</td>\n",
       "      <td>Good</td>\n",
       "      <td>2512.0</td>\n",
       "    </tr>\n",
       "    <tr>\n",
       "      <th>4</th>\n",
       "      <td>2017-11-11 07:00:00</td>\n",
       "      <td>Good</td>\n",
       "      <td>1440.0</td>\n",
       "    </tr>\n",
       "    <tr>\n",
       "      <th>...</th>\n",
       "      <td>...</td>\n",
       "      <td>...</td>\n",
       "      <td>...</td>\n",
       "    </tr>\n",
       "    <tr>\n",
       "      <th>866</th>\n",
       "      <td>2017-11-04 14:00:00</td>\n",
       "      <td>Good</td>\n",
       "      <td>2700.0</td>\n",
       "    </tr>\n",
       "    <tr>\n",
       "      <th>867</th>\n",
       "      <td>2017-11-18 16:00:00</td>\n",
       "      <td>Bad</td>\n",
       "      <td>2186.0</td>\n",
       "    </tr>\n",
       "    <tr>\n",
       "      <th>868</th>\n",
       "      <td>2017-11-25 11:00:00</td>\n",
       "      <td>Good</td>\n",
       "      <td>0.0</td>\n",
       "    </tr>\n",
       "    <tr>\n",
       "      <th>869</th>\n",
       "      <td>2017-11-11 10:00:00</td>\n",
       "      <td>Good</td>\n",
       "      <td>1318.0</td>\n",
       "    </tr>\n",
       "    <tr>\n",
       "      <th>870</th>\n",
       "      <td>2017-11-04 16:00:00</td>\n",
       "      <td>Bad</td>\n",
       "      <td>2834.0</td>\n",
       "    </tr>\n",
       "  </tbody>\n",
       "</table>\n",
       "<p>871 rows × 3 columns</p>\n",
       "</div>"
      ],
      "text/plain": [
       "               start_ts weather_conditions  duration_seconds\n",
       "0   2017-11-25 16:00:00               Good            2410.0\n",
       "1   2017-11-25 14:00:00               Good            1920.0\n",
       "2   2017-11-25 12:00:00               Good            1543.0\n",
       "3   2017-11-04 10:00:00               Good            2512.0\n",
       "4   2017-11-11 07:00:00               Good            1440.0\n",
       "..                  ...                ...               ...\n",
       "866 2017-11-04 14:00:00               Good            2700.0\n",
       "867 2017-11-18 16:00:00                Bad            2186.0\n",
       "868 2017-11-25 11:00:00               Good               0.0\n",
       "869 2017-11-11 10:00:00               Good            1318.0\n",
       "870 2017-11-04 16:00:00                Bad            2834.0\n",
       "\n",
       "[871 rows x 3 columns]"
      ]
     },
     "execution_count": 16,
     "metadata": {},
     "output_type": "execute_result"
    }
   ],
   "source": [
    "#drop duplicate values with drop_duplicates method and using resent_index to modificate indices\n",
    "data_airport.drop_duplicates().reset_index(drop = True)"
   ]
  },
  {
   "cell_type": "markdown",
   "id": "219ef417",
   "metadata": {},
   "source": [
    "<div class=\"alert alert-success\" role=\"alert\">\n",
    "Reviewer's comment v. 1:\n",
    "    \n",
    "Good job that you check data for a missing values and correct data types.\n",
    "</div>"
   ]
  },
  {
   "cell_type": "markdown",
   "id": "9f43b1e6",
   "metadata": {},
   "source": [
    "<div class=\"alert alert-danger\" role=\"alert\">\n",
    "Reviewer's comment v. 1:\n",
    "    \n",
    "Please check data for duplicates.\n",
    "</div>"
   ]
  },
  {
   "cell_type": "markdown",
   "id": "e88f4d7f",
   "metadata": {},
   "source": [
    "**Looking for weird values in the data_airport table**\n",
    "We can agree that 0 second trips are not possible. We will consider that a trip that lasts less than 2 minutes (120 seconds) must be a mistake, it's not a trip we can consider for our analysis. Let's check if we have trips like this in our data set, and if we have let's drop this rows."
   ]
  },
  {
   "cell_type": "code",
   "execution_count": 17,
   "id": "56f9f86a",
   "metadata": {},
   "outputs": [
    {
     "name": "stdout",
     "output_type": "stream",
     "text": [
      "Counts of ceros in the duration_seconds column - data_airport table\n",
      "start_ts              7\n",
      "weather_conditions    7\n",
      "duration_seconds      7\n",
      "dtype: int64\n"
     ]
    }
   ],
   "source": [
    "#count() method to check counts of zeros in the data_airport table -  column duration_seconds\n",
    "print('Counts of ceros in the duration_seconds column - data_airport table')\n",
    "print(data_airport[data_airport['duration_seconds'] < 120].count())"
   ]
  },
  {
   "cell_type": "markdown",
   "id": "62715588",
   "metadata": {},
   "source": [
    "We have 7 rows with weird values, let's drop them!"
   ]
  },
  {
   "cell_type": "code",
   "execution_count": 18,
   "id": "32e6ab34",
   "metadata": {},
   "outputs": [],
   "source": [
    "#Changing the data airport table, all the short trips will be excluded\n",
    "data_airport = data_airport[data_airport.duration_seconds >= 120]"
   ]
  },
  {
   "cell_type": "markdown",
   "id": "39617e64",
   "metadata": {},
   "source": [
    "#### Top 10 neighborhoods in terms of drop-offs #### "
   ]
  },
  {
   "cell_type": "code",
   "execution_count": 19,
   "id": "5c06bfe7",
   "metadata": {},
   "outputs": [
    {
     "data": {
      "text/html": [
       "<div>\n",
       "<style scoped>\n",
       "    .dataframe tbody tr th:only-of-type {\n",
       "        vertical-align: middle;\n",
       "    }\n",
       "\n",
       "    .dataframe tbody tr th {\n",
       "        vertical-align: top;\n",
       "    }\n",
       "\n",
       "    .dataframe thead th {\n",
       "        text-align: right;\n",
       "    }\n",
       "</style>\n",
       "<table border=\"1\" class=\"dataframe\">\n",
       "  <thead>\n",
       "    <tr style=\"text-align: right;\">\n",
       "      <th></th>\n",
       "      <th>dropoff_location_name</th>\n",
       "      <th>average_trips</th>\n",
       "    </tr>\n",
       "  </thead>\n",
       "  <tbody>\n",
       "    <tr>\n",
       "      <th>0</th>\n",
       "      <td>Loop</td>\n",
       "      <td>10727.466667</td>\n",
       "    </tr>\n",
       "    <tr>\n",
       "      <th>1</th>\n",
       "      <td>River North</td>\n",
       "      <td>9523.666667</td>\n",
       "    </tr>\n",
       "    <tr>\n",
       "      <th>2</th>\n",
       "      <td>Streeterville</td>\n",
       "      <td>6664.666667</td>\n",
       "    </tr>\n",
       "    <tr>\n",
       "      <th>3</th>\n",
       "      <td>West Loop</td>\n",
       "      <td>5163.666667</td>\n",
       "    </tr>\n",
       "    <tr>\n",
       "      <th>4</th>\n",
       "      <td>O'Hare</td>\n",
       "      <td>2546.900000</td>\n",
       "    </tr>\n",
       "    <tr>\n",
       "      <th>5</th>\n",
       "      <td>Lake View</td>\n",
       "      <td>2420.966667</td>\n",
       "    </tr>\n",
       "    <tr>\n",
       "      <th>6</th>\n",
       "      <td>Grant Park</td>\n",
       "      <td>2068.533333</td>\n",
       "    </tr>\n",
       "    <tr>\n",
       "      <th>7</th>\n",
       "      <td>Museum Campus</td>\n",
       "      <td>1510.000000</td>\n",
       "    </tr>\n",
       "    <tr>\n",
       "      <th>8</th>\n",
       "      <td>Gold Coast</td>\n",
       "      <td>1364.233333</td>\n",
       "    </tr>\n",
       "    <tr>\n",
       "      <th>9</th>\n",
       "      <td>Sheffield &amp; DePaul</td>\n",
       "      <td>1259.766667</td>\n",
       "    </tr>\n",
       "  </tbody>\n",
       "</table>\n",
       "</div>"
      ],
      "text/plain": [
       "  dropoff_location_name  average_trips\n",
       "0                  Loop   10727.466667\n",
       "1           River North    9523.666667\n",
       "2         Streeterville    6664.666667\n",
       "3             West Loop    5163.666667\n",
       "4                O'Hare    2546.900000\n",
       "5             Lake View    2420.966667\n",
       "6            Grant Park    2068.533333\n",
       "7         Museum Campus    1510.000000\n",
       "8            Gold Coast    1364.233333\n",
       "9    Sheffield & DePaul    1259.766667"
      ]
     },
     "execution_count": 19,
     "metadata": {},
     "output_type": "execute_result"
    }
   ],
   "source": [
    "#Print the first rows from the table data_trips using the head() method.\n",
    "data_trips.sort_values(by=\"average_trips\",ascending=False).head(10)"
   ]
  },
  {
   "cell_type": "markdown",
   "id": "056dbf81",
   "metadata": {},
   "source": [
    "#### Let's make some graphs! ####\n",
    "After each graph we will draw conclusions based on each graph and explain the results."
   ]
  },
  {
   "cell_type": "markdown",
   "id": "b0eb3cb7",
   "metadata": {},
   "source": [
    " * Taxi companies and number of rides"
   ]
  },
  {
   "cell_type": "markdown",
   "id": "482d6fb2",
   "metadata": {},
   "source": [
    "Remember that we have 64 different companies. That's a lot of companies, we are not available to see all of them in one graph, and also, a graph with all that information is useless and difficult to read.\n",
    "<br>\n",
    "Let's check the top ten Taxi companies by number of rides and look at the general information for the column trips_amount."
   ]
  },
  {
   "cell_type": "markdown",
   "id": "378bc1a0",
   "metadata": {},
   "source": [
    "<div class=\"alert alert-success\" role=\"alert\">\n",
    "Reviewer's comment v. 1:\n",
    "    \n",
    "Yes, it will be a good idea to add category \"others\" to the graph.\n",
    "</div>"
   ]
  },
  {
   "cell_type": "code",
   "execution_count": 20,
   "id": "a2f5dbbd",
   "metadata": {},
   "outputs": [
    {
     "data": {
      "text/html": [
       "<div>\n",
       "<style scoped>\n",
       "    .dataframe tbody tr th:only-of-type {\n",
       "        vertical-align: middle;\n",
       "    }\n",
       "\n",
       "    .dataframe tbody tr th {\n",
       "        vertical-align: top;\n",
       "    }\n",
       "\n",
       "    .dataframe thead th {\n",
       "        text-align: right;\n",
       "    }\n",
       "</style>\n",
       "<table border=\"1\" class=\"dataframe\">\n",
       "  <thead>\n",
       "    <tr style=\"text-align: right;\">\n",
       "      <th></th>\n",
       "      <th>company_name</th>\n",
       "      <th>trips_amount</th>\n",
       "    </tr>\n",
       "  </thead>\n",
       "  <tbody>\n",
       "    <tr>\n",
       "      <th>0</th>\n",
       "      <td>Flash Cab</td>\n",
       "      <td>19558</td>\n",
       "    </tr>\n",
       "    <tr>\n",
       "      <th>1</th>\n",
       "      <td>Taxi Affiliation Services</td>\n",
       "      <td>11422</td>\n",
       "    </tr>\n",
       "    <tr>\n",
       "      <th>2</th>\n",
       "      <td>Medallion Leasin</td>\n",
       "      <td>10367</td>\n",
       "    </tr>\n",
       "    <tr>\n",
       "      <th>3</th>\n",
       "      <td>Yellow Cab</td>\n",
       "      <td>9888</td>\n",
       "    </tr>\n",
       "    <tr>\n",
       "      <th>4</th>\n",
       "      <td>Taxi Affiliation Service Yellow</td>\n",
       "      <td>9299</td>\n",
       "    </tr>\n",
       "    <tr>\n",
       "      <th>5</th>\n",
       "      <td>Chicago Carriage Cab Corp</td>\n",
       "      <td>9181</td>\n",
       "    </tr>\n",
       "    <tr>\n",
       "      <th>6</th>\n",
       "      <td>City Service</td>\n",
       "      <td>8448</td>\n",
       "    </tr>\n",
       "    <tr>\n",
       "      <th>7</th>\n",
       "      <td>Sun Taxi</td>\n",
       "      <td>7701</td>\n",
       "    </tr>\n",
       "    <tr>\n",
       "      <th>8</th>\n",
       "      <td>Star North Management LLC</td>\n",
       "      <td>7455</td>\n",
       "    </tr>\n",
       "    <tr>\n",
       "      <th>9</th>\n",
       "      <td>Blue Ribbon Taxi Association Inc.</td>\n",
       "      <td>5953</td>\n",
       "    </tr>\n",
       "    <tr>\n",
       "      <th>10</th>\n",
       "      <td>Choice Taxi Association</td>\n",
       "      <td>5015</td>\n",
       "    </tr>\n",
       "    <tr>\n",
       "      <th>11</th>\n",
       "      <td>Globe Taxi</td>\n",
       "      <td>4383</td>\n",
       "    </tr>\n",
       "    <tr>\n",
       "      <th>12</th>\n",
       "      <td>Dispatch Taxi Affiliation</td>\n",
       "      <td>3355</td>\n",
       "    </tr>\n",
       "    <tr>\n",
       "      <th>13</th>\n",
       "      <td>Nova Taxi Affiliation Llc</td>\n",
       "      <td>3175</td>\n",
       "    </tr>\n",
       "    <tr>\n",
       "      <th>14</th>\n",
       "      <td>Patriot Taxi Dba Peace Taxi Associat</td>\n",
       "      <td>2235</td>\n",
       "    </tr>\n",
       "  </tbody>\n",
       "</table>\n",
       "</div>"
      ],
      "text/plain": [
       "                            company_name  trips_amount\n",
       "0                              Flash Cab         19558\n",
       "1              Taxi Affiliation Services         11422\n",
       "2                       Medallion Leasin         10367\n",
       "3                             Yellow Cab          9888\n",
       "4        Taxi Affiliation Service Yellow          9299\n",
       "5              Chicago Carriage Cab Corp          9181\n",
       "6                           City Service          8448\n",
       "7                               Sun Taxi          7701\n",
       "8              Star North Management LLC          7455\n",
       "9      Blue Ribbon Taxi Association Inc.          5953\n",
       "10               Choice Taxi Association          5015\n",
       "11                            Globe Taxi          4383\n",
       "12             Dispatch Taxi Affiliation          3355\n",
       "13             Nova Taxi Affiliation Llc          3175\n",
       "14  Patriot Taxi Dba Peace Taxi Associat          2235"
      ]
     },
     "execution_count": 20,
     "metadata": {},
     "output_type": "execute_result"
    }
   ],
   "source": [
    "#Print the first rows from the table data_trips using the head() method.\n",
    "data_company.sort_values(by=\"trips_amount\",ascending=False).head(15)"
   ]
  },
  {
   "cell_type": "code",
   "execution_count": 21,
   "id": "430620fa",
   "metadata": {},
   "outputs": [
    {
     "data": {
      "text/html": [
       "<div>\n",
       "<style scoped>\n",
       "    .dataframe tbody tr th:only-of-type {\n",
       "        vertical-align: middle;\n",
       "    }\n",
       "\n",
       "    .dataframe tbody tr th {\n",
       "        vertical-align: top;\n",
       "    }\n",
       "\n",
       "    .dataframe thead th {\n",
       "        text-align: right;\n",
       "    }\n",
       "</style>\n",
       "<table border=\"1\" class=\"dataframe\">\n",
       "  <thead>\n",
       "    <tr style=\"text-align: right;\">\n",
       "      <th></th>\n",
       "      <th>trips_amount</th>\n",
       "    </tr>\n",
       "  </thead>\n",
       "  <tbody>\n",
       "    <tr>\n",
       "      <th>count</th>\n",
       "      <td>64.000000</td>\n",
       "    </tr>\n",
       "    <tr>\n",
       "      <th>mean</th>\n",
       "      <td>2145.484375</td>\n",
       "    </tr>\n",
       "    <tr>\n",
       "      <th>std</th>\n",
       "      <td>3812.310186</td>\n",
       "    </tr>\n",
       "    <tr>\n",
       "      <th>min</th>\n",
       "      <td>2.000000</td>\n",
       "    </tr>\n",
       "    <tr>\n",
       "      <th>25%</th>\n",
       "      <td>20.750000</td>\n",
       "    </tr>\n",
       "    <tr>\n",
       "      <th>50%</th>\n",
       "      <td>178.500000</td>\n",
       "    </tr>\n",
       "    <tr>\n",
       "      <th>75%</th>\n",
       "      <td>2106.500000</td>\n",
       "    </tr>\n",
       "    <tr>\n",
       "      <th>max</th>\n",
       "      <td>19558.000000</td>\n",
       "    </tr>\n",
       "  </tbody>\n",
       "</table>\n",
       "</div>"
      ],
      "text/plain": [
       "       trips_amount\n",
       "count     64.000000\n",
       "mean    2145.484375\n",
       "std     3812.310186\n",
       "min        2.000000\n",
       "25%       20.750000\n",
       "50%      178.500000\n",
       "75%     2106.500000\n",
       "max    19558.000000"
      ]
     },
     "execution_count": 21,
     "metadata": {},
     "output_type": "execute_result"
    }
   ],
   "source": [
    "#Using describe method on data_company table\n",
    "data_company.describe()"
   ]
  },
  {
   "cell_type": "markdown",
   "id": "7cb439dd",
   "metadata": {},
   "source": [
    "The number 15 taxi company has 2235 rides, 75% of the taxi companies make an approximation of 2106 rides.We will plot in our graph the first 14 companies, and all the rest we will group them together."
   ]
  },
  {
   "cell_type": "markdown",
   "id": "b904257e",
   "metadata": {},
   "source": [
    "<div class=\"alert alert-success\" role=\"alert\">\n",
    "Reviewer's comment v. 1:\n",
    "    \n",
    "Well done that you analysed general information about the companies.\n",
    "</div>"
   ]
  },
  {
   "cell_type": "code",
   "execution_count": 22,
   "id": "6a555bb1",
   "metadata": {},
   "outputs": [
    {
     "data": {
      "text/html": [
       "<div>\n",
       "<style scoped>\n",
       "    .dataframe tbody tr th:only-of-type {\n",
       "        vertical-align: middle;\n",
       "    }\n",
       "\n",
       "    .dataframe tbody tr th {\n",
       "        vertical-align: top;\n",
       "    }\n",
       "\n",
       "    .dataframe thead th {\n",
       "        text-align: right;\n",
       "    }\n",
       "</style>\n",
       "<table border=\"1\" class=\"dataframe\">\n",
       "  <thead>\n",
       "    <tr style=\"text-align: right;\">\n",
       "      <th></th>\n",
       "      <th>company_name</th>\n",
       "      <th>trips_amount</th>\n",
       "    </tr>\n",
       "  </thead>\n",
       "  <tbody>\n",
       "    <tr>\n",
       "      <th>0</th>\n",
       "      <td>Flash Cab</td>\n",
       "      <td>19558</td>\n",
       "    </tr>\n",
       "    <tr>\n",
       "      <th>1</th>\n",
       "      <td>Taxi Affiliation Services</td>\n",
       "      <td>11422</td>\n",
       "    </tr>\n",
       "    <tr>\n",
       "      <th>2</th>\n",
       "      <td>Medallion Leasin</td>\n",
       "      <td>10367</td>\n",
       "    </tr>\n",
       "    <tr>\n",
       "      <th>3</th>\n",
       "      <td>Yellow Cab</td>\n",
       "      <td>9888</td>\n",
       "    </tr>\n",
       "    <tr>\n",
       "      <th>4</th>\n",
       "      <td>Taxi Affiliation Service Yellow</td>\n",
       "      <td>9299</td>\n",
       "    </tr>\n",
       "    <tr>\n",
       "      <th>5</th>\n",
       "      <td>Chicago Carriage Cab Corp</td>\n",
       "      <td>9181</td>\n",
       "    </tr>\n",
       "    <tr>\n",
       "      <th>6</th>\n",
       "      <td>City Service</td>\n",
       "      <td>8448</td>\n",
       "    </tr>\n",
       "    <tr>\n",
       "      <th>7</th>\n",
       "      <td>Sun Taxi</td>\n",
       "      <td>7701</td>\n",
       "    </tr>\n",
       "    <tr>\n",
       "      <th>8</th>\n",
       "      <td>Star North Management LLC</td>\n",
       "      <td>7455</td>\n",
       "    </tr>\n",
       "    <tr>\n",
       "      <th>9</th>\n",
       "      <td>Blue Ribbon Taxi Association Inc.</td>\n",
       "      <td>5953</td>\n",
       "    </tr>\n",
       "    <tr>\n",
       "      <th>10</th>\n",
       "      <td>Choice Taxi Association</td>\n",
       "      <td>5015</td>\n",
       "    </tr>\n",
       "    <tr>\n",
       "      <th>11</th>\n",
       "      <td>Globe Taxi</td>\n",
       "      <td>4383</td>\n",
       "    </tr>\n",
       "    <tr>\n",
       "      <th>12</th>\n",
       "      <td>Dispatch Taxi Affiliation</td>\n",
       "      <td>3355</td>\n",
       "    </tr>\n",
       "    <tr>\n",
       "      <th>13</th>\n",
       "      <td>Nova Taxi Affiliation Llc</td>\n",
       "      <td>3175</td>\n",
       "    </tr>\n",
       "    <tr>\n",
       "      <th>14</th>\n",
       "      <td>Other</td>\n",
       "      <td>22111</td>\n",
       "    </tr>\n",
       "  </tbody>\n",
       "</table>\n",
       "</div>"
      ],
      "text/plain": [
       "                         company_name  trips_amount\n",
       "0                           Flash Cab         19558\n",
       "1           Taxi Affiliation Services         11422\n",
       "2                    Medallion Leasin         10367\n",
       "3                          Yellow Cab          9888\n",
       "4     Taxi Affiliation Service Yellow          9299\n",
       "5           Chicago Carriage Cab Corp          9181\n",
       "6                        City Service          8448\n",
       "7                            Sun Taxi          7701\n",
       "8           Star North Management LLC          7455\n",
       "9   Blue Ribbon Taxi Association Inc.          5953\n",
       "10            Choice Taxi Association          5015\n",
       "11                         Globe Taxi          4383\n",
       "12          Dispatch Taxi Affiliation          3355\n",
       "13          Nova Taxi Affiliation Llc          3175\n",
       "14                              Other         22111"
      ]
     },
     "execution_count": 22,
     "metadata": {},
     "output_type": "execute_result"
    }
   ],
   "source": [
    "#Making a sclice using the query() method \n",
    "data_company_slice = data_company.sort_values(by=\"trips_amount\",ascending=False).head(14)\n",
    "#Sum the total rides for all the companies that will we part of the group other\n",
    "sum_other_companies = data_company.query('trips_amount <= 2235').trips_amount.sum()\n",
    "\n",
    "#Create a new row\n",
    "new_row = {'company_name':'Other', 'trips_amount': sum_other_companies}\n",
    "#append row to the dataframe data_company_slice\n",
    "data_company_slice = data_company_slice.append(new_row, ignore_index=True)\n",
    "\n",
    "#Lets take a look at our new table\n",
    "data_company_slice "
   ]
  },
  {
   "cell_type": "markdown",
   "id": "4184b8d0",
   "metadata": {},
   "source": [
    "**In order to make a good visualization we will use a treemap graph**\n",
    "<br>\n",
    "For this we also need to calculate the sizes of the rectangles."
   ]
  },
  {
   "cell_type": "code",
   "execution_count": 23,
   "id": "481952c1",
   "metadata": {},
   "outputs": [],
   "source": [
    "#Defining the values for each rectangle\n",
    "sizes = data_company_slice.trips_amount.values.tolist()"
   ]
  },
  {
   "cell_type": "code",
   "execution_count": 24,
   "id": "92c4cb54",
   "metadata": {},
   "outputs": [],
   "source": [
    "#Defining the labes\n",
    "labels = data_company_slice.apply(lambda x: str(x[0])+\"\\n\"+\"$\"+str(round(x[1])),axis=1)"
   ]
  },
  {
   "cell_type": "markdown",
   "id": "23471861",
   "metadata": {},
   "source": [
    "<div class=\"alert alert-danger\" role=\"alert\">\n",
    "Reviewer's comment v. 1:\n",
    "    \n",
    "Could you please define 'squarify'? Unfortunately, code doesn't run :(\n",
    "</div>"
   ]
  },
  {
   "cell_type": "code",
   "execution_count": 25,
   "id": "f7218e89",
   "metadata": {},
   "outputs": [
    {
     "data": {
      "image/png": "[encoded data removed]",
      "text/plain": [
       "<Figure size 1296x648 with 1 Axes>"
      ]
     },
     "metadata": {
      "needs_background": "light"
     },
     "output_type": "display_data"
    }
   ],
   "source": [
    "#Plotting the graph\n",
    "plt.figure(figsize=(18,9))\n",
    "squarify.plot(sizes=sizes, label=labels, alpha=0.5)\n",
    "\n",
    "# Add labels\n",
    "plt.title('Total rides by taxy companies',fontsize=15)\n",
    "plt.show()"
   ]
  },
  {
   "cell_type": "markdown",
   "id": "7dfc3748",
   "metadata": {},
   "source": [
    "* It's clear that a few taxy companies are really popular, and must of the rides are made by them.\n",
    "* The Flash Cab\tcompany is the popular one, with a total amout of 19558 dollars. That's a really nice amount taking in concideration that the average of total amount for all the companies toguether is 2145 dollars."
   ]
  },
  {
   "cell_type": "markdown",
   "id": "73f9badc",
   "metadata": {},
   "source": [
    "  * Top 10 neighborhoods by number of dropoff"
   ]
  },
  {
   "cell_type": "code",
   "execution_count": 26,
   "id": "a4204bc2",
   "metadata": {},
   "outputs": [],
   "source": [
    "#Making a new table only with the Top 10 neighborhoods by number of dropoff\n",
    "data_trips_neighborhoods = data_trips.sort_values(by=\"average_trips\",ascending=False).head(10)"
   ]
  },
  {
   "cell_type": "code",
   "execution_count": 27,
   "id": "dde63af0",
   "metadata": {},
   "outputs": [
    {
     "data": {
      "image/png": "[encoded data removed]",
      "text/plain": [
       "<Figure size 720x288 with 1 Axes>"
      ]
     },
     "metadata": {
      "needs_background": "light"
     },
     "output_type": "display_data"
    }
   ],
   "source": [
    "#Plotting a graph  \n",
    "fig, ax = plt.subplots(figsize=(10,4))\n",
    "x = sns.barplot(x = data_trips_neighborhoods.dropoff_location_name, y = data_trips_neighborhoods.average_trips)\n",
    "x.set_title('Top 10 neighborhoods by number of dropoff', fontdict={'size':15})\n",
    "ax.set_xticklabels(data_trips_neighborhoods.dropoff_location_name, rotation=(45))\n",
    "plt.show()"
   ]
  },
  {
   "cell_type": "markdown",
   "id": "09838345",
   "metadata": {},
   "source": [
    "* It's clear that a few neighborhoods are really popular, and must of the rides ended in this Chicago neighborhoods.\n",
    "* The Loop neighborhood is leading, but also the River North, Streeterville and West Loop neighborhoods are popular."
   ]
  },
  {
   "cell_type": "markdown",
   "id": "3088d2dc",
   "metadata": {},
   "source": [
    "# Testing hypotheses"
   ]
  },
  {
   "cell_type": "markdown",
   "id": "a02d2f56",
   "metadata": {},
   "source": [
    "Testing the hypothesis:\n",
    "<br>\n",
    "\"The average duration of rides from the Loop to O'Hare International Airport changes on rainy Saturdays.\"\n",
    "<br>\n",
    "* H0: Average duration of rides from the Loop to O'Hare International Airport in rainy days equal to the Average duration of rides from the Loop to O'Hare International Airport in days that are no rainy.\n",
    "* H1: Average duration of rides from the Loop to O'Hare International Airport in rainy days is different to the Average duration of rides from the Loop to O'Hare International Airport in days that are no rainy."
   ]
  },
  {
   "cell_type": "markdown",
   "id": "af9eebaa",
   "metadata": {},
   "source": [
    "#### First we will slice the data  using the weather_conditions : we are determining the two populations."
   ]
  },
  {
   "cell_type": "code",
   "execution_count": 28,
   "id": "97a76868",
   "metadata": {},
   "outputs": [],
   "source": [
    "data_duration_bad = data_airport.query('weather_conditions == \"Bad\"')\n",
    "data_duration_good = data_airport.query('weather_conditions == \"Good\"')"
   ]
  },
  {
   "cell_type": "markdown",
   "id": "9c906a6f",
   "metadata": {},
   "source": [
    "#### Let's take a look at the  duration of rides distribution for our two samples. #### "
   ]
  },
  {
   "cell_type": "code",
   "execution_count": 29,
   "id": "dc9171bb",
   "metadata": {},
   "outputs": [
    {
     "data": {
      "image/png": "[encoded data removed]",
      "text/plain": [
       "<Figure size 432x288 with 1 Axes>"
      ]
     },
     "metadata": {
      "needs_background": "light"
     },
     "output_type": "display_data"
    },
    {
     "data": {
      "image/png": "[encoded data removed]",
      "text/plain": [
       "<Figure size 432x288 with 1 Axes>"
      ]
     },
     "metadata": {
      "needs_background": "light"
     },
     "output_type": "display_data"
    }
   ],
   "source": [
    "# matplotlib histogram for weather_conditions == \"Bad\"\n",
    "plt.hist(data_duration_bad['duration_seconds'], color = 'orange', edgecolor = 'black', bins =10)        \n",
    "plt.title('Duration of rides distribution for Bad weather',fontsize=15)\n",
    "plt.ylabel('duration in seconds') \n",
    "#plot the histograms \n",
    "plt.show()\n",
    "\n",
    "# matplotlib histogram for weather_conditions == \"Good\"\n",
    "plt.hist(data_duration_good['duration_seconds'], color = 'pink', edgecolor = 'black', bins = 10)         \n",
    "# Add labels\n",
    "plt.title('Duration of rides distribution for Good weather',fontsize=15)\n",
    "plt.ylabel('duration in seconds') \n",
    "#plot the histograms \n",
    "plt.show()"
   ]
  },
  {
   "cell_type": "markdown",
   "id": "7fa37a3a",
   "metadata": {},
   "source": [
    "The distribution of our data is no normal for the two samples. And we have here two un-paired samples. For this reason we will use the Mann-Whitney U test to assess whether there is a statistically significant difference between averages duration of rides in rainy days and days with out rain. \n",
    "<br>\n",
    "A Mann-Whitney U test is used to compare the differences between two independent samples when the sample distributions are not normally distributed.\n",
    "We are taling about a one tail hypotheses"
   ]
  },
  {
   "cell_type": "markdown",
   "id": "36e6f3f7",
   "metadata": {},
   "source": [
    "<div class=\"alert alert-warning\" role=\"alert\">\n",
    "Reviewer's comment v. 1:\n",
    "    \n",
    "It will be nice to visualize data mining (Duration distributions by weather conditions).\n",
    "</div>"
   ]
  },
  {
   "cell_type": "markdown",
   "id": "de827504",
   "metadata": {},
   "source": [
    "<div class=\"alert alert-success\" role=\"alert\">\n",
    "Reviewer's comment v. 1:\n",
    "    \n",
    "Good job that you formulated the null and alternative hypotheses clearly before the statistical test.\n",
    "</div>"
   ]
  },
  {
   "cell_type": "markdown",
   "id": "fec0fc75",
   "metadata": {},
   "source": [
    "**Time to test the hypotheses** "
   ]
  },
  {
   "cell_type": "code",
   "execution_count": 30,
   "id": "e8c566f7",
   "metadata": {},
   "outputs": [
    {
     "name": "stdout",
     "output_type": "stream",
     "text": [
      "Statistics=51646.500, p=0.000\n",
      "Different distribution ( We reject the null hypothesis )\n"
     ]
    }
   ],
   "source": [
    "# define the two independent samples\n",
    "duration_bad = data_airport.query('weather_conditions == \"Bad\"').duration_seconds\n",
    "duration_good = data_airport.query('weather_conditions == \"Good\"').duration_seconds\n",
    "\n",
    "# compare samples\n",
    "stat, p = mannwhitneyu(duration_bad, duration_good)\n",
    "print('Statistics=%.3f, p=%.3f' % (stat, p))\n",
    "\n",
    "# interpret\n",
    "alpha = 0.05\n",
    "if p > alpha:\n",
    "    print('Same distribution ( We cant reject the null hypothesis )')\n",
    "else:\n",
    "    print('Different distribution ( We reject the null hypothesis )')\n"
   ]
  },
  {
   "cell_type": "markdown",
   "id": "a2d8cf71",
   "metadata": {},
   "source": [
    "As we can see above, we can't reject the null hypothesis:  Average duration of rides from the Loop to O'Hare International Airport in rainy days equal to the Average duration of rides from the Loop to O'Hare International Airport in days that are no rainy.\n",
    "\n",
    "This sounds logical, The O'Hare International Airport is an international airport located on the Northwest Side of Chicago, Illinois, and most of the days in this area are no rainy days. Also, it's logical that in rainy days people decide to cancel their flights."
   ]
  },
  {
   "cell_type": "markdown",
   "id": "861b05b7",
   "metadata": {},
   "source": [
    "# Overall conclusion"
   ]
  },
  {
   "cell_type": "markdown",
   "id": "98acc668",
   "metadata": {},
   "source": [
    "* We now from previous analysis that in November 1-7, 2017, the most popular taxi companies were Flash Cab and Taxi Affiliation Services. Here we saw that in November 15-16, 2017 the companies Flash Cab and Taxi Affiliation Services were also the most popular, with the greater number of rides. We can concluide tha this company is really popular. Zuber should considerate take a closer look at these companies in order to learn from them and understand what is the key of their success.\n",
    "* Zuber most consider the Top 10 neighborhoods by number of dropoff we found in these analyzes, and also look for for top 10 popular neighborhoods by number of dropoff from different starting points. Why? Because Zuber is a new ride-sharing company that's launching in Chicago, and will be easy makes ride-sharing from populars neighborhoods to popular neighborhoods.\n",
    "* Zuber should take in consideration that days with bad weather possible makes people stay home. We recommend to take a closer look at this information and look for more information in order to find a good plan to make work profitable also in bad weather days."
   ]
  },
  {
   "cell_type": "markdown",
   "id": "8cb822ed",
   "metadata": {},
   "source": [
    "<div class=\"alert alert-danger\" role=\"alert\">\n",
    "Reviewer's comment v. 1:\n",
    "    \n",
    "Could you please describe all main results of the project (data preparation, anomalies, main findings and so on)?\n",
    "    \n",
    "The conclusion is intended to help the reader understand why your research should matter to them after they have finished reading the paper. A conclusion is not merely a summary of your points or a re-statement of your research problem but a synthesis of key points. \n",
    "</div>"
   ]
  }
 ],
 "metadata": {
  "ExecuteTimeLog": [
   {
    "duration": 1086,
    "start_time": "2021-07-22T09:55:33.555Z"
   },
   {
    "duration": 51,
    "start_time": "2021-07-22T09:55:34.643Z"
   },
   {
    "duration": 9,
    "start_time": "2021-07-22T09:55:34.696Z"
   },
   {
    "duration": 9,
    "start_time": "2021-07-22T09:55:34.707Z"
   },
   {
    "duration": 8,
    "start_time": "2021-07-22T09:55:34.718Z"
   },
   {
    "duration": 10,
    "start_time": "2021-07-22T09:55:34.727Z"
   },
   {
    "duration": 9,
    "start_time": "2021-07-22T09:55:34.739Z"
   },
   {
    "duration": 10,
    "start_time": "2021-07-22T09:55:34.750Z"
   },
   {
    "duration": 10,
    "start_time": "2021-07-22T09:55:34.761Z"
   },
   {
    "duration": 8,
    "start_time": "2021-07-22T09:55:34.773Z"
   },
   {
    "duration": 7,
    "start_time": "2021-07-22T09:55:34.783Z"
   },
   {
    "duration": 15,
    "start_time": "2021-07-22T09:55:34.792Z"
   },
   {
    "duration": 34,
    "start_time": "2021-07-22T09:55:34.808Z"
   },
   {
    "duration": 2,
    "start_time": "2021-07-22T09:55:34.844Z"
   },
   {
    "duration": 6,
    "start_time": "2021-07-22T09:55:34.848Z"
   },
   {
    "duration": 364,
    "start_time": "2021-07-22T09:55:34.855Z"
   },
   {
    "duration": -126,
    "start_time": "2021-07-22T09:55:35.347Z"
   },
   {
    "duration": -129,
    "start_time": "2021-07-22T09:55:35.351Z"
   },
   {
    "duration": -140,
    "start_time": "2021-07-22T09:55:35.363Z"
   },
   {
    "duration": 9,
    "start_time": "2021-07-22T10:20:59.311Z"
   },
   {
    "duration": 7,
    "start_time": "2021-07-22T10:21:12.455Z"
   }
  ],
  "kernelspec": {
   "display_name": "Python 3",
   "language": "python",
   "name": "python3"
  },
  "language_info": {
   "codemirror_mode": {
    "name": "ipython",
    "version": 3
   },
   "file_extension": ".py",
   "mimetype": "text/x-python",
   "name": "python",
   "nbconvert_exporter": "python",
   "pygments_lexer": "ipython3",
   "version": "3.8.8"
  },
  "toc": {
   "base_numbering": 1,
   "nav_menu": {},
   "number_sections": true,
   "sideBar": true,
   "skip_h1_title": false,
   "title_cell": "Table of Contents",
   "title_sidebar": "Contents",
   "toc_cell": false,
   "toc_position": {},
   "toc_section_display": true,
   "toc_window_display": false
  }
 },
 "nbformat": 4,
 "nbformat_minor": 5
}
