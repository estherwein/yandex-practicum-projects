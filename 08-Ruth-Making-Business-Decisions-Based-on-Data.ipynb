{
 "cells": [
  {
   "cell_type": "markdown",
   "id": "03186170",
   "metadata": {},
   "source": [
    "We are part of the analyst team at a big online store. Together with the marketing\n",
    "department, we've compiled a list of hypotheses that may help boost\n",
    "revenue.<br>\n",
    "We need to prioritize these hypotheses, launch an A/B test, and analyze the\n",
    "results."
   ]
  },
  {
   "cell_type": "markdown",
   "id": "014a3f4a",
   "metadata": {},
   "source": [
    "# Downloading the data"
   ]
  },
  {
   "cell_type": "markdown",
   "id": "2bc48349",
   "metadata": {},
   "source": [
    "First, Let's install something, this tool will make our tables looks fabulous!"
   ]
  },
  {
   "cell_type": "code",
   "execution_count": 1,
   "id": "6ad24c67",
   "metadata": {},
   "outputs": [
    {
     "data": {
      "text/html": [
       "<style type=\"text/css\">\n",
       "    table.dataframe td, table.dataframe th {\n",
       "        border: 1px solid lightgray;\n",
       "    }\n",
       "</style>\n"
      ],
      "text/plain": [
       "<IPython.core.display.HTML object>"
      ]
     },
     "metadata": {},
     "output_type": "display_data"
    }
   ],
   "source": [
    "%%HTML\n",
    "<style type=\"text/css\">\n",
    "    table.dataframe td, table.dataframe th {\n",
    "        border: 1px solid lightgray;\n",
    "    }\n",
    "</style>"
   ]
  },
  {
   "cell_type": "markdown",
   "id": "f12fea09",
   "metadata": {},
   "source": [
    "In order to remove 'warnings' we will use the following piece of code:"
   ]
  },
  {
   "cell_type": "code",
   "execution_count": 2,
   "id": "1ca637cd",
   "metadata": {},
   "outputs": [],
   "source": [
    "import sys\n",
    "import warnings\n",
    "if not sys.warnoptions:\n",
    "    warnings.simplefilter(\"ignore\")"
   ]
  },
  {
   "cell_type": "markdown",
   "id": "926eb807",
   "metadata": {},
   "source": [
    "#### Importing libraries"
   ]
  },
  {
   "cell_type": "code",
   "execution_count": 57,
   "id": "11e6add0",
   "metadata": {},
   "outputs": [],
   "source": [
    "import numpy as np\n",
    "import pandas as pd\n",
    "import matplotlib\n",
    "import matplotlib.pyplot as plt\n",
    "import matplotlib.dates as mdates\n",
    "import seaborn as sns\n",
    "import plotly.express as px\n",
    "import plotly.graph_objects as go\n",
    "from datetime import datetime\n",
    "import scipy.stats as stats"
   ]
  },
  {
   "cell_type": "markdown",
   "id": "b4e18901",
   "metadata": {},
   "source": [
    "#### Importing Files"
   ]
  },
  {
   "cell_type": "markdown",
   "id": "3064a1b7",
   "metadata": {},
   "source": [
    "Storing the data on visits, orders, and expenses in variables"
   ]
  },
  {
   "cell_type": "code",
   "execution_count": 4,
   "id": "a320be9b",
   "metadata": {},
   "outputs": [],
   "source": [
    "try:\n",
    "    visits = pd.read_csv('/Users/97252/OneDrive/Desktop/SecondModule/Introduction to Making Business Decisions Based on Data/visits_us.csv')\n",
    "    orders = pd.read_csv ('/Users/97252/OneDrive/Desktop/SecondModule/Introduction to Making Business Decisions Based on Data/orders_us.csv')\n",
    "    hypotheses = pd.read_csv('/Users/97252/OneDrive/Desktop/SecondModule/Introduction to Making Business Decisions Based on Data/hypotheses_us.csv',sep=';')\n",
    "except:  \n",
    "    visits = pd.read_csv ('/datasets/visits_us.csv')\n",
    "    orders = pd.read_csv ('/datasets/orders_us.csv')\n",
    "    hypotheses = pd.read_csv ('/datasets/hypotheses_us.csv',sep=';')"
   ]
  },
  {
   "cell_type": "markdown",
   "id": "5eed2d1b",
   "metadata": {},
   "source": [
    "# Overview and studying the general information"
   ]
  },
  {
   "cell_type": "markdown",
   "id": "1a983091",
   "metadata": {},
   "source": [
    "## Taking a quick look at the tables"
   ]
  },
  {
   "cell_type": "markdown",
   "id": "461b39fb",
   "metadata": {},
   "source": [
    "Let's take a quick look at the tables we have, using the head() method and printing the first five rows and using the info() method to prints information about them. "
   ]
  },
  {
   "cell_type": "markdown",
   "id": "74adcb21",
   "metadata": {},
   "source": [
    "### visits <br>\n",
    "It's about server logs with data on website visits<br>\n",
    "Se trata de registros del servidor con datos sobre visitas al sitio web. "
   ]
  },
  {
   "cell_type": "code",
   "execution_count": 5,
   "id": "2d8d8400",
   "metadata": {},
   "outputs": [
    {
     "data": {
      "text/html": [
       "<div>\n",
       "<style scoped>\n",
       "    .dataframe tbody tr th:only-of-type {\n",
       "        vertical-align: middle;\n",
       "    }\n",
       "\n",
       "    .dataframe tbody tr th {\n",
       "        vertical-align: top;\n",
       "    }\n",
       "\n",
       "    .dataframe thead th {\n",
       "        text-align: right;\n",
       "    }\n",
       "</style>\n",
       "<table border=\"1\" class=\"dataframe\">\n",
       "  <thead>\n",
       "    <tr style=\"text-align: right;\">\n",
       "      <th></th>\n",
       "      <th>date</th>\n",
       "      <th>group</th>\n",
       "      <th>visits</th>\n",
       "    </tr>\n",
       "  </thead>\n",
       "  <tbody>\n",
       "    <tr>\n",
       "      <th>0</th>\n",
       "      <td>2019-08-01</td>\n",
       "      <td>A</td>\n",
       "      <td>719</td>\n",
       "    </tr>\n",
       "    <tr>\n",
       "      <th>1</th>\n",
       "      <td>2019-08-02</td>\n",
       "      <td>A</td>\n",
       "      <td>619</td>\n",
       "    </tr>\n",
       "    <tr>\n",
       "      <th>2</th>\n",
       "      <td>2019-08-03</td>\n",
       "      <td>A</td>\n",
       "      <td>507</td>\n",
       "    </tr>\n",
       "    <tr>\n",
       "      <th>3</th>\n",
       "      <td>2019-08-04</td>\n",
       "      <td>A</td>\n",
       "      <td>717</td>\n",
       "    </tr>\n",
       "    <tr>\n",
       "      <th>4</th>\n",
       "      <td>2019-08-05</td>\n",
       "      <td>A</td>\n",
       "      <td>756</td>\n",
       "    </tr>\n",
       "  </tbody>\n",
       "</table>\n",
       "</div>"
      ],
      "text/plain": [
       "         date group  visits\n",
       "0  2019-08-01     A     719\n",
       "1  2019-08-02     A     619\n",
       "2  2019-08-03     A     507\n",
       "3  2019-08-04     A     717\n",
       "4  2019-08-05     A     756"
      ]
     },
     "execution_count": 5,
     "metadata": {},
     "output_type": "execute_result"
    }
   ],
   "source": [
    "#Print the first rows from the table using the head() method.\n",
    "visits.head()"
   ]
  },
  {
   "cell_type": "code",
   "execution_count": 6,
   "id": "1ccbf5cf",
   "metadata": {},
   "outputs": [
    {
     "name": "stdout",
     "output_type": "stream",
     "text": [
      "<class 'pandas.core.frame.DataFrame'>\n",
      "RangeIndex: 62 entries, 0 to 61\n",
      "Data columns (total 3 columns):\n",
      " #   Column  Non-Null Count  Dtype \n",
      "---  ------  --------------  ----- \n",
      " 0   date    62 non-null     object\n",
      " 1   group   62 non-null     object\n",
      " 2   visits  62 non-null     int64 \n",
      "dtypes: int64(1), object(2)\n",
      "memory usage: 1.6+ KB\n"
     ]
    }
   ],
   "source": [
    "#The info() method prints information about the DataFrame\n",
    "visits.info()"
   ]
  },
  {
   "cell_type": "markdown",
   "id": "ff15c408",
   "metadata": {},
   "source": [
    "**We have 62 rows in the visits table\n",
    "<br>\n",
    "<br>We have 3 columns in the visits table**<br>\n",
    "**date** — date<br>\n",
    "**group** — A/B test group<br>\n",
    "**visits** — the number of visits on the date specified in the A/B test group\n",
    "specified<br>\n",
    "<br>\n",
    "<br>\n",
    "**Data types:** \n",
    "* The column date contain the date , but it's a object type. \n",
    "* All the remaining data types look good to us. \n",
    "\n",
    "**No missing values in the visits table!**"
   ]
  },
  {
   "cell_type": "markdown",
   "id": "1c2f31e1",
   "metadata": {},
   "source": [
    "**Let's check for unique values in the group column**<br>\n",
    "We want to know which groups we have and their distribution."
   ]
  },
  {
   "cell_type": "code",
   "execution_count": 7,
   "id": "21df20d9",
   "metadata": {},
   "outputs": [
    {
     "data": {
      "text/plain": [
       "A    31\n",
       "B    31\n",
       "Name: group, dtype: int64"
      ]
     },
     "execution_count": 7,
     "metadata": {},
     "output_type": "execute_result"
    }
   ],
   "source": [
    "visits['group'].value_counts()"
   ]
  },
  {
   "cell_type": "markdown",
   "id": "b822d51c",
   "metadata": {},
   "source": [
    "We have 2 groups: A & B. And we have 31 rows to each group."
   ]
  },
  {
   "cell_type": "markdown",
   "id": "8877a958",
   "metadata": {},
   "source": [
    "### orders \n",
    "The orders table it's about data on orders (users that actually bought something in the online store)"
   ]
  },
  {
   "cell_type": "code",
   "execution_count": 8,
   "id": "2c140f3d",
   "metadata": {
    "scrolled": true
   },
   "outputs": [
    {
     "data": {
      "text/html": [
       "<div>\n",
       "<style scoped>\n",
       "    .dataframe tbody tr th:only-of-type {\n",
       "        vertical-align: middle;\n",
       "    }\n",
       "\n",
       "    .dataframe tbody tr th {\n",
       "        vertical-align: top;\n",
       "    }\n",
       "\n",
       "    .dataframe thead th {\n",
       "        text-align: right;\n",
       "    }\n",
       "</style>\n",
       "<table border=\"1\" class=\"dataframe\">\n",
       "  <thead>\n",
       "    <tr style=\"text-align: right;\">\n",
       "      <th></th>\n",
       "      <th>transactionId</th>\n",
       "      <th>visitorId</th>\n",
       "      <th>date</th>\n",
       "      <th>revenue</th>\n",
       "      <th>group</th>\n",
       "    </tr>\n",
       "  </thead>\n",
       "  <tbody>\n",
       "    <tr>\n",
       "      <th>0</th>\n",
       "      <td>3667963787</td>\n",
       "      <td>3312258926</td>\n",
       "      <td>2019-08-15</td>\n",
       "      <td>30.4</td>\n",
       "      <td>B</td>\n",
       "    </tr>\n",
       "    <tr>\n",
       "      <th>1</th>\n",
       "      <td>2804400009</td>\n",
       "      <td>3642806036</td>\n",
       "      <td>2019-08-15</td>\n",
       "      <td>15.2</td>\n",
       "      <td>B</td>\n",
       "    </tr>\n",
       "    <tr>\n",
       "      <th>2</th>\n",
       "      <td>2961555356</td>\n",
       "      <td>4069496402</td>\n",
       "      <td>2019-08-15</td>\n",
       "      <td>10.2</td>\n",
       "      <td>A</td>\n",
       "    </tr>\n",
       "    <tr>\n",
       "      <th>3</th>\n",
       "      <td>3797467345</td>\n",
       "      <td>1196621759</td>\n",
       "      <td>2019-08-15</td>\n",
       "      <td>155.1</td>\n",
       "      <td>B</td>\n",
       "    </tr>\n",
       "    <tr>\n",
       "      <th>4</th>\n",
       "      <td>2282983706</td>\n",
       "      <td>2322279887</td>\n",
       "      <td>2019-08-15</td>\n",
       "      <td>40.5</td>\n",
       "      <td>B</td>\n",
       "    </tr>\n",
       "  </tbody>\n",
       "</table>\n",
       "</div>"
      ],
      "text/plain": [
       "   transactionId   visitorId        date  revenue group\n",
       "0     3667963787  3312258926  2019-08-15     30.4     B\n",
       "1     2804400009  3642806036  2019-08-15     15.2     B\n",
       "2     2961555356  4069496402  2019-08-15     10.2     A\n",
       "3     3797467345  1196621759  2019-08-15    155.1     B\n",
       "4     2282983706  2322279887  2019-08-15     40.5     B"
      ]
     },
     "execution_count": 8,
     "metadata": {},
     "output_type": "execute_result"
    }
   ],
   "source": [
    "#Print the first rows from the table using the head() method.\n",
    "orders.head()"
   ]
  },
  {
   "cell_type": "code",
   "execution_count": 9,
   "id": "ddc47b94",
   "metadata": {},
   "outputs": [
    {
     "name": "stdout",
     "output_type": "stream",
     "text": [
      "<class 'pandas.core.frame.DataFrame'>\n",
      "RangeIndex: 1197 entries, 0 to 1196\n",
      "Data columns (total 5 columns):\n",
      " #   Column         Non-Null Count  Dtype  \n",
      "---  ------         --------------  -----  \n",
      " 0   transactionId  1197 non-null   int64  \n",
      " 1   visitorId      1197 non-null   int64  \n",
      " 2   date           1197 non-null   object \n",
      " 3   revenue        1197 non-null   float64\n",
      " 4   group          1197 non-null   object \n",
      "dtypes: float64(1), int64(2), object(2)\n",
      "memory usage: 46.9+ KB\n"
     ]
    }
   ],
   "source": [
    "#The info() method prints information about the DataFrame\n",
    "orders.info()"
   ]
  },
  {
   "cell_type": "markdown",
   "id": "1da2018e",
   "metadata": {},
   "source": [
    "**We have 1197 rows in the orders table.**<br>\n",
    "The number of rows in the orders table is much more that the 62 rows in the visits table. This have sense, because the visits table has data of 31 days for the groups A and B.\n",
    "<br>\n",
    "<br>**We have 5 columns in the orders table**<br>\n",
    "**transactionId** — order identifier<br>\n",
    "**visitorId** — identifier of the user who placed the order<br>\n",
    "**date** — of the order<br>\n",
    "**revenue** — from the order<br>\n",
    "**group** — the A/B test group that the user belongs to<br>\n",
    "<br>\n",
    "<br>\n",
    "**Data types:** \n",
    "* The column date contain the date , but it's a object type. \n",
    "* All the remaining data types look good to us. \n",
    "\n",
    "**No missing values in the orders table!**\n",
    "<br>\n",
    "**We can see that some of the visitors have gotten into both groupA and group B!**<br>\n",
    "Let's check!<br>"
   ]
  },
  {
   "cell_type": "code",
   "execution_count": 10,
   "id": "1cf2b281",
   "metadata": {},
   "outputs": [
    {
     "data": {
      "text/html": [
       "<div>\n",
       "<style scoped>\n",
       "    .dataframe tbody tr th:only-of-type {\n",
       "        vertical-align: middle;\n",
       "    }\n",
       "\n",
       "    .dataframe tbody tr th {\n",
       "        vertical-align: top;\n",
       "    }\n",
       "\n",
       "    .dataframe thead th {\n",
       "        text-align: right;\n",
       "    }\n",
       "</style>\n",
       "<table border=\"1\" class=\"dataframe\">\n",
       "  <thead>\n",
       "    <tr style=\"text-align: right;\">\n",
       "      <th></th>\n",
       "      <th>visitorId</th>\n",
       "      <th>group</th>\n",
       "    </tr>\n",
       "  </thead>\n",
       "  <tbody>\n",
       "    <tr>\n",
       "      <th>0</th>\n",
       "      <td>5114589</td>\n",
       "      <td>1</td>\n",
       "    </tr>\n",
       "    <tr>\n",
       "      <th>1</th>\n",
       "      <td>6958315</td>\n",
       "      <td>1</td>\n",
       "    </tr>\n",
       "    <tr>\n",
       "      <th>2</th>\n",
       "      <td>8300375</td>\n",
       "      <td>2</td>\n",
       "    </tr>\n",
       "    <tr>\n",
       "      <th>3</th>\n",
       "      <td>11685486</td>\n",
       "      <td>1</td>\n",
       "    </tr>\n",
       "    <tr>\n",
       "      <th>4</th>\n",
       "      <td>39475350</td>\n",
       "      <td>1</td>\n",
       "    </tr>\n",
       "  </tbody>\n",
       "</table>\n",
       "</div>"
      ],
      "text/plain": [
       "   visitorId  group\n",
       "0    5114589      1\n",
       "1    6958315      1\n",
       "2    8300375      2\n",
       "3   11685486      1\n",
       "4   39475350      1"
      ]
     },
     "execution_count": 10,
     "metadata": {},
     "output_type": "execute_result"
    }
   ],
   "source": [
    "#Creating a pivot table by visitorId and calculating counts of group values\n",
    "orders_pivot = pd.pivot_table(orders, values='group', index=['visitorId'], aggfunc='nunique').sort_values(by='visitorId').reset_index()\n",
    "orders_pivot.head()"
   ]
  },
  {
   "cell_type": "code",
   "execution_count": 11,
   "id": "78a2b2a9",
   "metadata": {},
   "outputs": [
    {
     "data": {
      "text/plain": [
       "1    973\n",
       "2     58\n",
       "Name: group, dtype: int64"
      ]
     },
     "execution_count": 11,
     "metadata": {},
     "output_type": "execute_result"
    }
   ],
   "source": [
    "#Using value counts to know how many users appear in the two groups\n",
    "orders_pivot['group'].value_counts()"
   ]
  },
  {
   "cell_type": "markdown",
   "id": "c52537dd",
   "metadata": {},
   "source": [
    "**Okay, 58 users appear in the two groups! What I do with them now?**"
   ]
  },
  {
   "cell_type": "code",
   "execution_count": 12,
   "id": "6a51a871",
   "metadata": {},
   "outputs": [],
   "source": [
    "orders_a = orders.query('group == \"A\"')['visitorId'].to_list()\n",
    "orders_b = orders.query('group == \"B\"')['visitorId'].to_list()"
   ]
  },
  {
   "cell_type": "code",
   "execution_count": 13,
   "id": "026577e6",
   "metadata": {},
   "outputs": [],
   "source": [
    "both = [x for x in orders_a if x in orders_b]"
   ]
  },
  {
   "cell_type": "code",
   "execution_count": 14,
   "id": "0d2793b9",
   "metadata": {},
   "outputs": [],
   "source": [
    "orders = orders[~orders['visitorId'].isin(both)]"
   ]
  },
  {
   "cell_type": "markdown",
   "id": "48abc492",
   "metadata": {},
   "source": [
    "**Let's check for unique values in the transactionId column**<br>\n",
    "TransactionId gives to every order a unique identificator, let's check we don't have more that one transactionId for order."
   ]
  },
  {
   "cell_type": "code",
   "execution_count": 15,
   "id": "42410580",
   "metadata": {},
   "outputs": [
    {
     "data": {
      "text/plain": [
       "3628490752    1\n",
       "290089453     1\n",
       "1108180333    1\n",
       "446569841     1\n",
       "3167192434    1\n",
       "             ..\n",
       "231209528     1\n",
       "1537104566    1\n",
       "2165344951    1\n",
       "2243349176    1\n",
       "4281129020    1\n",
       "Name: transactionId, Length: 1016, dtype: int64"
      ]
     },
     "execution_count": 15,
     "metadata": {},
     "output_type": "execute_result"
    }
   ],
   "source": [
    "#Using value counts to know how many users appear in the two groups\n",
    "orders['transactionId'].value_counts()"
   ]
  },
  {
   "cell_type": "markdown",
   "id": "eef994df",
   "metadata": {},
   "source": [
    "We have 1016 rows in the orders table (1197-58=1016), and 1197 transactionId. Great!"
   ]
  },
  {
   "cell_type": "markdown",
   "id": "42fac7de",
   "metadata": {},
   "source": [
    "### hypotheses<br>\n",
    "The file hypotheses_us.csv contains nine hypotheses on boosting an online\n",
    "store's revenue with Reach , Impact , Confidence , and Effort specified for each."
   ]
  },
  {
   "cell_type": "code",
   "execution_count": 16,
   "id": "cfc9bd09",
   "metadata": {},
   "outputs": [
    {
     "data": {
      "text/html": [
       "<div>\n",
       "<style scoped>\n",
       "    .dataframe tbody tr th:only-of-type {\n",
       "        vertical-align: middle;\n",
       "    }\n",
       "\n",
       "    .dataframe tbody tr th {\n",
       "        vertical-align: top;\n",
       "    }\n",
       "\n",
       "    .dataframe thead th {\n",
       "        text-align: right;\n",
       "    }\n",
       "</style>\n",
       "<table border=\"1\" class=\"dataframe\">\n",
       "  <thead>\n",
       "    <tr style=\"text-align: right;\">\n",
       "      <th></th>\n",
       "      <th>Hypothesis</th>\n",
       "      <th>Reach</th>\n",
       "      <th>Impact</th>\n",
       "      <th>Confidence</th>\n",
       "      <th>Effort</th>\n",
       "    </tr>\n",
       "  </thead>\n",
       "  <tbody>\n",
       "    <tr>\n",
       "      <th>0</th>\n",
       "      <td>Add two new channels for attracting traffic. This will bring 30% more users</td>\n",
       "      <td>3</td>\n",
       "      <td>10</td>\n",
       "      <td>8</td>\n",
       "      <td>6</td>\n",
       "    </tr>\n",
       "    <tr>\n",
       "      <th>1</th>\n",
       "      <td>Launch your own delivery service. This will shorten delivery time</td>\n",
       "      <td>2</td>\n",
       "      <td>5</td>\n",
       "      <td>4</td>\n",
       "      <td>10</td>\n",
       "    </tr>\n",
       "    <tr>\n",
       "      <th>2</th>\n",
       "      <td>Add product recommendation blocks to the store's site. This will increase conversion and average purchase size</td>\n",
       "      <td>8</td>\n",
       "      <td>3</td>\n",
       "      <td>7</td>\n",
       "      <td>3</td>\n",
       "    </tr>\n",
       "    <tr>\n",
       "      <th>3</th>\n",
       "      <td>Change the category structure. This will increase conversion since users will find the products they want more quickly</td>\n",
       "      <td>8</td>\n",
       "      <td>3</td>\n",
       "      <td>3</td>\n",
       "      <td>8</td>\n",
       "    </tr>\n",
       "    <tr>\n",
       "      <th>4</th>\n",
       "      <td>Change the background color on the main page. This will increase user engagement</td>\n",
       "      <td>3</td>\n",
       "      <td>1</td>\n",
       "      <td>1</td>\n",
       "      <td>1</td>\n",
       "    </tr>\n",
       "    <tr>\n",
       "      <th>5</th>\n",
       "      <td>Add a customer review page. This will increase the number of orders</td>\n",
       "      <td>3</td>\n",
       "      <td>2</td>\n",
       "      <td>2</td>\n",
       "      <td>3</td>\n",
       "    </tr>\n",
       "    <tr>\n",
       "      <th>6</th>\n",
       "      <td>Show banners with current offers and sales on the main page. This will boost conversion</td>\n",
       "      <td>5</td>\n",
       "      <td>3</td>\n",
       "      <td>8</td>\n",
       "      <td>3</td>\n",
       "    </tr>\n",
       "    <tr>\n",
       "      <th>7</th>\n",
       "      <td>Add a subscription form to all the main pages. This will help you compile a mailing list</td>\n",
       "      <td>10</td>\n",
       "      <td>7</td>\n",
       "      <td>8</td>\n",
       "      <td>5</td>\n",
       "    </tr>\n",
       "    <tr>\n",
       "      <th>8</th>\n",
       "      <td>Launch a promotion that gives users discounts on their birthdays</td>\n",
       "      <td>1</td>\n",
       "      <td>9</td>\n",
       "      <td>9</td>\n",
       "      <td>5</td>\n",
       "    </tr>\n",
       "  </tbody>\n",
       "</table>\n",
       "</div>"
      ],
      "text/plain": [
       "                                                                                                               Hypothesis  \\\n",
       "0                                             Add two new channels for attracting traffic. This will bring 30% more users   \n",
       "1                                                       Launch your own delivery service. This will shorten delivery time   \n",
       "2          Add product recommendation blocks to the store's site. This will increase conversion and average purchase size   \n",
       "3  Change the category structure. This will increase conversion since users will find the products they want more quickly   \n",
       "4                                        Change the background color on the main page. This will increase user engagement   \n",
       "5                                                     Add a customer review page. This will increase the number of orders   \n",
       "6                                 Show banners with current offers and sales on the main page. This will boost conversion   \n",
       "7                                Add a subscription form to all the main pages. This will help you compile a mailing list   \n",
       "8                                                        Launch a promotion that gives users discounts on their birthdays   \n",
       "\n",
       "   Reach  Impact  Confidence  Effort  \n",
       "0      3      10           8       6  \n",
       "1      2       5           4      10  \n",
       "2      8       3           7       3  \n",
       "3      8       3           3       8  \n",
       "4      3       1           1       1  \n",
       "5      3       2           2       3  \n",
       "6      5       3           8       3  \n",
       "7     10       7           8       5  \n",
       "8      1       9           9       5  "
      ]
     },
     "execution_count": 16,
     "metadata": {},
     "output_type": "execute_result"
    }
   ],
   "source": [
    "#Print the first rows from the table using the head() method.\n",
    "pd.set_option('max_colwidth', 400)\n",
    "hypotheses"
   ]
  },
  {
   "cell_type": "code",
   "execution_count": 17,
   "id": "f9a9ff7d",
   "metadata": {},
   "outputs": [
    {
     "name": "stdout",
     "output_type": "stream",
     "text": [
      "<class 'pandas.core.frame.DataFrame'>\n",
      "RangeIndex: 9 entries, 0 to 8\n",
      "Data columns (total 5 columns):\n",
      " #   Column      Non-Null Count  Dtype \n",
      "---  ------      --------------  ----- \n",
      " 0   Hypothesis  9 non-null      object\n",
      " 1   Reach       9 non-null      int64 \n",
      " 2   Impact      9 non-null      int64 \n",
      " 3   Confidence  9 non-null      int64 \n",
      " 4   Effort      9 non-null      int64 \n",
      "dtypes: int64(4), object(1)\n",
      "memory usage: 488.0+ bytes\n"
     ]
    }
   ],
   "source": [
    "#The info() method prints information about the DataFrame\n",
    "hypotheses.info()"
   ]
  },
  {
   "cell_type": "markdown",
   "id": "8d2c0017",
   "metadata": {},
   "source": [
    "**No missing values in the hypotheses table!**"
   ]
  },
  {
   "cell_type": "markdown",
   "id": "0cb1bfdc",
   "metadata": {},
   "source": [
    "## Looking for duplicates"
   ]
  },
  {
   "cell_type": "code",
   "execution_count": 18,
   "id": "5ff83f6d",
   "metadata": {
    "scrolled": true
   },
   "outputs": [
    {
     "name": "stdout",
     "output_type": "stream",
     "text": [
      "Duplicates in visits table: 0\n",
      "Duplicates in orders table: 0\n",
      "Duplicates in hypotheses table: 0\n"
     ]
    }
   ],
   "source": [
    "dict = {'visits':visits,'orders':orders, 'hypotheses':hypotheses}\n",
    "for data in dict :\n",
    "    print('Duplicates in {} table: {}'.format(data,dict[data].duplicated().sum()))"
   ]
  },
  {
   "cell_type": "markdown",
   "id": "2beeaab7",
   "metadata": {},
   "source": [
    "There are no duplicates! We can continue working. <br> "
   ]
  },
  {
   "cell_type": "markdown",
   "id": "793c4bac",
   "metadata": {},
   "source": [
    "## Optimize the data for analysis"
   ]
  },
  {
   "cell_type": "markdown",
   "id": "6d425712",
   "metadata": {},
   "source": [
    "Let's convert the object types to date with the map() method "
   ]
  },
  {
   "cell_type": "code",
   "execution_count": 19,
   "id": "e72c3be9",
   "metadata": {},
   "outputs": [],
   "source": [
    "orders['date'] = orders['date'].map(lambda x: pd.datetime.strptime(x, '%Y-%M-%d'))\n",
    "visits['date'] = visits['date'].map(lambda x: pd.datetime.strptime(x, '%Y-%M-%d'))"
   ]
  },
  {
   "cell_type": "markdown",
   "id": "27de5a54",
   "metadata": {},
   "source": [
    "## Replace the column names (make them lowercase).\n",
    "This is a important, make working with the data easier."
   ]
  },
  {
   "cell_type": "code",
   "execution_count": 20,
   "id": "be41a72d",
   "metadata": {},
   "outputs": [
    {
     "name": "stdout",
     "output_type": "stream",
     "text": [
      "Checking the names of the columns we changed in the visits table:\n",
      "Index(['date', 'group', 'visits'], dtype='object')\n",
      "\n",
      "Checking the names of the columns we changed in the orders table:\n",
      "Index(['transactionid', 'visitorid', 'date', 'revenue', 'group'], dtype='object')\n",
      "\n",
      "Checking the names of the columns we changed in the hypotheses table:\n",
      "Index(['hypothesis', 'reach', 'impact', 'confidence', 'effort'], dtype='object')\n",
      "\n"
     ]
    }
   ],
   "source": [
    "#Changing to lowercase\n",
    "dict = {'visits':visits,'orders':orders, 'hypotheses':hypotheses}\n",
    "for data in dict :\n",
    "    print('Checking the names of the columns we changed in the {} table:'.format(data))\n",
    "    dict[data].columns = dict[data].columns.str.lower()\n",
    "    #let's check the names of the columns were changed \n",
    "    print(dict[data].columns) \n",
    "    print()"
   ]
  },
  {
   "cell_type": "markdown",
   "id": "becbc3b3",
   "metadata": {},
   "source": [
    "# Prioritizing Hypotheses"
   ]
  },
  {
   "cell_type": "markdown",
   "id": "1fd3f3d6",
   "metadata": {},
   "source": [
    "## Applying the ICE framework to prioritize hypotheses"
   ]
  },
  {
   "cell_type": "markdown",
   "id": "fabd778f",
   "metadata": {},
   "source": [
    "**Calculating ICE to each hypotheses.**"
   ]
  },
  {
   "cell_type": "code",
   "execution_count": 21,
   "id": "9ba0fc1f",
   "metadata": {},
   "outputs": [
    {
     "data": {
      "text/html": [
       "<div>\n",
       "<style scoped>\n",
       "    .dataframe tbody tr th:only-of-type {\n",
       "        vertical-align: middle;\n",
       "    }\n",
       "\n",
       "    .dataframe tbody tr th {\n",
       "        vertical-align: top;\n",
       "    }\n",
       "\n",
       "    .dataframe thead th {\n",
       "        text-align: right;\n",
       "    }\n",
       "</style>\n",
       "<table border=\"1\" class=\"dataframe\">\n",
       "  <thead>\n",
       "    <tr style=\"text-align: right;\">\n",
       "      <th></th>\n",
       "      <th>hypothesis</th>\n",
       "      <th>ICE</th>\n",
       "    </tr>\n",
       "  </thead>\n",
       "  <tbody>\n",
       "    <tr>\n",
       "      <th>8</th>\n",
       "      <td>Launch a promotion that gives users discounts on their birthdays</td>\n",
       "      <td>16.200000</td>\n",
       "    </tr>\n",
       "    <tr>\n",
       "      <th>0</th>\n",
       "      <td>Add two new channels for attracting traffic. This will bring 30% more users</td>\n",
       "      <td>13.333333</td>\n",
       "    </tr>\n",
       "    <tr>\n",
       "      <th>7</th>\n",
       "      <td>Add a subscription form to all the main pages. This will help you compile a mailing list</td>\n",
       "      <td>11.200000</td>\n",
       "    </tr>\n",
       "    <tr>\n",
       "      <th>6</th>\n",
       "      <td>Show banners with current offers and sales on the main page. This will boost conversion</td>\n",
       "      <td>8.000000</td>\n",
       "    </tr>\n",
       "    <tr>\n",
       "      <th>2</th>\n",
       "      <td>Add product recommendation blocks to the store's site. This will increase conversion and average purchase size</td>\n",
       "      <td>7.000000</td>\n",
       "    </tr>\n",
       "    <tr>\n",
       "      <th>1</th>\n",
       "      <td>Launch your own delivery service. This will shorten delivery time</td>\n",
       "      <td>2.000000</td>\n",
       "    </tr>\n",
       "    <tr>\n",
       "      <th>5</th>\n",
       "      <td>Add a customer review page. This will increase the number of orders</td>\n",
       "      <td>1.333333</td>\n",
       "    </tr>\n",
       "    <tr>\n",
       "      <th>3</th>\n",
       "      <td>Change the category structure. This will increase conversion since users will find the products they want more quickly</td>\n",
       "      <td>1.125000</td>\n",
       "    </tr>\n",
       "    <tr>\n",
       "      <th>4</th>\n",
       "      <td>Change the background color on the main page. This will increase user engagement</td>\n",
       "      <td>1.000000</td>\n",
       "    </tr>\n",
       "  </tbody>\n",
       "</table>\n",
       "</div>"
      ],
      "text/plain": [
       "                                                                                                               hypothesis  \\\n",
       "8                                                        Launch a promotion that gives users discounts on their birthdays   \n",
       "0                                             Add two new channels for attracting traffic. This will bring 30% more users   \n",
       "7                                Add a subscription form to all the main pages. This will help you compile a mailing list   \n",
       "6                                 Show banners with current offers and sales on the main page. This will boost conversion   \n",
       "2          Add product recommendation blocks to the store's site. This will increase conversion and average purchase size   \n",
       "1                                                       Launch your own delivery service. This will shorten delivery time   \n",
       "5                                                     Add a customer review page. This will increase the number of orders   \n",
       "3  Change the category structure. This will increase conversion since users will find the products they want more quickly   \n",
       "4                                        Change the background color on the main page. This will increase user engagement   \n",
       "\n",
       "         ICE  \n",
       "8  16.200000  \n",
       "0  13.333333  \n",
       "7  11.200000  \n",
       "6   8.000000  \n",
       "2   7.000000  \n",
       "1   2.000000  \n",
       "5   1.333333  \n",
       "3   1.125000  \n",
       "4   1.000000  "
      ]
     },
     "execution_count": 21,
     "metadata": {},
     "output_type": "execute_result"
    }
   ],
   "source": [
    "hypotheses['ICE'] = ((hypotheses['impact']*hypotheses['confidence'])/hypotheses['effort'])\n",
    "hypotheses.loc[:,['hypothesis','ICE']].sort_values(by='ICE',ascending=False)"
   ]
  },
  {
   "cell_type": "markdown",
   "id": "fe1de9da",
   "metadata": {},
   "source": [
    "## Applying the RICE framework to prioritize hypotheses "
   ]
  },
  {
   "cell_type": "markdown",
   "id": "41937d47",
   "metadata": {},
   "source": [
    "**Calculating RICE to each hypotheses.**"
   ]
  },
  {
   "cell_type": "code",
   "execution_count": 22,
   "id": "63d5d8d7",
   "metadata": {},
   "outputs": [
    {
     "data": {
      "text/html": [
       "<div>\n",
       "<style scoped>\n",
       "    .dataframe tbody tr th:only-of-type {\n",
       "        vertical-align: middle;\n",
       "    }\n",
       "\n",
       "    .dataframe tbody tr th {\n",
       "        vertical-align: top;\n",
       "    }\n",
       "\n",
       "    .dataframe thead th {\n",
       "        text-align: right;\n",
       "    }\n",
       "</style>\n",
       "<table border=\"1\" class=\"dataframe\">\n",
       "  <thead>\n",
       "    <tr style=\"text-align: right;\">\n",
       "      <th></th>\n",
       "      <th>hypothesis</th>\n",
       "      <th>RICE</th>\n",
       "    </tr>\n",
       "  </thead>\n",
       "  <tbody>\n",
       "    <tr>\n",
       "      <th>7</th>\n",
       "      <td>Add a subscription form to all the main pages. This will help you compile a mailing list</td>\n",
       "      <td>112.0</td>\n",
       "    </tr>\n",
       "    <tr>\n",
       "      <th>2</th>\n",
       "      <td>Add product recommendation blocks to the store's site. This will increase conversion and average purchase size</td>\n",
       "      <td>56.0</td>\n",
       "    </tr>\n",
       "    <tr>\n",
       "      <th>0</th>\n",
       "      <td>Add two new channels for attracting traffic. This will bring 30% more users</td>\n",
       "      <td>40.0</td>\n",
       "    </tr>\n",
       "    <tr>\n",
       "      <th>6</th>\n",
       "      <td>Show banners with current offers and sales on the main page. This will boost conversion</td>\n",
       "      <td>40.0</td>\n",
       "    </tr>\n",
       "    <tr>\n",
       "      <th>8</th>\n",
       "      <td>Launch a promotion that gives users discounts on their birthdays</td>\n",
       "      <td>16.2</td>\n",
       "    </tr>\n",
       "    <tr>\n",
       "      <th>3</th>\n",
       "      <td>Change the category structure. This will increase conversion since users will find the products they want more quickly</td>\n",
       "      <td>9.0</td>\n",
       "    </tr>\n",
       "    <tr>\n",
       "      <th>1</th>\n",
       "      <td>Launch your own delivery service. This will shorten delivery time</td>\n",
       "      <td>4.0</td>\n",
       "    </tr>\n",
       "    <tr>\n",
       "      <th>5</th>\n",
       "      <td>Add a customer review page. This will increase the number of orders</td>\n",
       "      <td>4.0</td>\n",
       "    </tr>\n",
       "    <tr>\n",
       "      <th>4</th>\n",
       "      <td>Change the background color on the main page. This will increase user engagement</td>\n",
       "      <td>3.0</td>\n",
       "    </tr>\n",
       "  </tbody>\n",
       "</table>\n",
       "</div>"
      ],
      "text/plain": [
       "                                                                                                               hypothesis  \\\n",
       "7                                Add a subscription form to all the main pages. This will help you compile a mailing list   \n",
       "2          Add product recommendation blocks to the store's site. This will increase conversion and average purchase size   \n",
       "0                                             Add two new channels for attracting traffic. This will bring 30% more users   \n",
       "6                                 Show banners with current offers and sales on the main page. This will boost conversion   \n",
       "8                                                        Launch a promotion that gives users discounts on their birthdays   \n",
       "3  Change the category structure. This will increase conversion since users will find the products they want more quickly   \n",
       "1                                                       Launch your own delivery service. This will shorten delivery time   \n",
       "5                                                     Add a customer review page. This will increase the number of orders   \n",
       "4                                        Change the background color on the main page. This will increase user engagement   \n",
       "\n",
       "    RICE  \n",
       "7  112.0  \n",
       "2   56.0  \n",
       "0   40.0  \n",
       "6   40.0  \n",
       "8   16.2  \n",
       "3    9.0  \n",
       "1    4.0  \n",
       "5    4.0  \n",
       "4    3.0  "
      ]
     },
     "execution_count": 22,
     "metadata": {},
     "output_type": "execute_result"
    }
   ],
   "source": [
    "hypotheses['RICE'] = ((hypotheses['reach']*hypotheses['impact']*hypotheses['confidence'])/hypotheses['effort'])\n",
    "hypotheses.loc[:,['hypothesis','RICE']].sort_values(by='RICE',ascending=False)"
   ]
  },
  {
   "cell_type": "markdown",
   "id": "5ebde792",
   "metadata": {},
   "source": [
    "*The Big Picture Thus Far:*\n",
    "* We can see that the prioritization of hypotheses changes while using the RICE and ICE. This happends because of the reach parameter in the RICE calculation. In the ICE calculation we don't take into account how many users it will affect. <br> \n",
    "We see hypotheses #7 is ranked first when using RICE, and that's because his Reach parameter is 10, the highest out of all hypotheses and the highest possible rank (1-10).<br> \n",
    "On the other side Hypotheses #8 is the strongest when using ICE, with a reach level of 1."
   ]
  },
  {
   "cell_type": "markdown",
   "id": "0f352d68",
   "metadata": {},
   "source": [
    "## Showing how the prioritization of hypotheses changes when you use RICE instead of ICE "
   ]
  },
  {
   "cell_type": "code",
   "execution_count": 23,
   "id": "6f28be2f",
   "metadata": {},
   "outputs": [
    {
     "data": {
      "text/html": [
       "<div>\n",
       "<style scoped>\n",
       "    .dataframe tbody tr th:only-of-type {\n",
       "        vertical-align: middle;\n",
       "    }\n",
       "\n",
       "    .dataframe tbody tr th {\n",
       "        vertical-align: top;\n",
       "    }\n",
       "\n",
       "    .dataframe thead th {\n",
       "        text-align: right;\n",
       "    }\n",
       "</style>\n",
       "<table border=\"1\" class=\"dataframe\">\n",
       "  <thead>\n",
       "    <tr style=\"text-align: right;\">\n",
       "      <th></th>\n",
       "      <th>hypothesis</th>\n",
       "      <th>reach</th>\n",
       "      <th>impact</th>\n",
       "      <th>confidence</th>\n",
       "      <th>effort</th>\n",
       "      <th>ICE</th>\n",
       "      <th>RICE</th>\n",
       "    </tr>\n",
       "  </thead>\n",
       "  <tbody>\n",
       "    <tr>\n",
       "      <th>0</th>\n",
       "      <td>Add two new channels for attracting traffic. This will bring 30% more users</td>\n",
       "      <td>3</td>\n",
       "      <td>10</td>\n",
       "      <td>8</td>\n",
       "      <td>6</td>\n",
       "      <td>13.333333</td>\n",
       "      <td>40.0</td>\n",
       "    </tr>\n",
       "    <tr>\n",
       "      <th>1</th>\n",
       "      <td>Launch your own delivery service. This will shorten delivery time</td>\n",
       "      <td>2</td>\n",
       "      <td>5</td>\n",
       "      <td>4</td>\n",
       "      <td>10</td>\n",
       "      <td>2.000000</td>\n",
       "      <td>4.0</td>\n",
       "    </tr>\n",
       "    <tr>\n",
       "      <th>2</th>\n",
       "      <td>Add product recommendation blocks to the store's site. This will increase conversion and average purchase size</td>\n",
       "      <td>8</td>\n",
       "      <td>3</td>\n",
       "      <td>7</td>\n",
       "      <td>3</td>\n",
       "      <td>7.000000</td>\n",
       "      <td>56.0</td>\n",
       "    </tr>\n",
       "    <tr>\n",
       "      <th>3</th>\n",
       "      <td>Change the category structure. This will increase conversion since users will find the products they want more quickly</td>\n",
       "      <td>8</td>\n",
       "      <td>3</td>\n",
       "      <td>3</td>\n",
       "      <td>8</td>\n",
       "      <td>1.125000</td>\n",
       "      <td>9.0</td>\n",
       "    </tr>\n",
       "    <tr>\n",
       "      <th>4</th>\n",
       "      <td>Change the background color on the main page. This will increase user engagement</td>\n",
       "      <td>3</td>\n",
       "      <td>1</td>\n",
       "      <td>1</td>\n",
       "      <td>1</td>\n",
       "      <td>1.000000</td>\n",
       "      <td>3.0</td>\n",
       "    </tr>\n",
       "  </tbody>\n",
       "</table>\n",
       "</div>"
      ],
      "text/plain": [
       "                                                                                                               hypothesis  \\\n",
       "0                                             Add two new channels for attracting traffic. This will bring 30% more users   \n",
       "1                                                       Launch your own delivery service. This will shorten delivery time   \n",
       "2          Add product recommendation blocks to the store's site. This will increase conversion and average purchase size   \n",
       "3  Change the category structure. This will increase conversion since users will find the products they want more quickly   \n",
       "4                                        Change the background color on the main page. This will increase user engagement   \n",
       "\n",
       "   reach  impact  confidence  effort        ICE  RICE  \n",
       "0      3      10           8       6  13.333333  40.0  \n",
       "1      2       5           4      10   2.000000   4.0  \n",
       "2      8       3           7       3   7.000000  56.0  \n",
       "3      8       3           3       8   1.125000   9.0  \n",
       "4      3       1           1       1   1.000000   3.0  "
      ]
     },
     "execution_count": 23,
     "metadata": {},
     "output_type": "execute_result"
    }
   ],
   "source": [
    "#Looking at the table with all the columns \n",
    "hypotheses.head()"
   ]
  },
  {
   "cell_type": "code",
   "execution_count": 24,
   "id": "9045c642",
   "metadata": {},
   "outputs": [
    {
     "data": {
      "text/plain": [
       "[]"
      ]
     },
     "execution_count": 24,
     "metadata": {},
     "output_type": "execute_result"
    },
    {
     "data": {
      "image/png": "[encoded data removed]",
      "text/plain": [
       "<Figure size 864x288 with 1 Axes>"
      ]
     },
     "metadata": {
      "needs_background": "light"
     },
     "output_type": "display_data"
    }
   ],
   "source": [
    "fig, ax = plt.subplots()\n",
    "fig.set_size_inches(12,4)\n",
    "\n",
    "ax.set_title('RICE VS ICE', weight='bold', size=15)\n",
    "ax.set_xlabel(\"hypotheses\", labelpad=20, weight='bold', size=12)\n",
    "\n",
    "# plotting\n",
    "plt.bar(hypotheses.index, hypotheses['RICE'], label='RICE')\n",
    "plt.bar(hypotheses.index, hypotheses['ICE'], label='ICE')\n",
    "plt.grid()\n",
    "plt.legend() \n",
    "plt.plot()"
   ]
  },
  {
   "cell_type": "markdown",
   "id": "77540559",
   "metadata": {},
   "source": [
    "*The Big Picture Thus Far:*\n",
    "* We can see that the prioritization of hypotheses changes while using the RICE and ICE, while RICE is always higher than ICE for every hypothesis."
   ]
  },
  {
   "cell_type": "markdown",
   "id": "31bc7b01",
   "metadata": {},
   "source": [
    "# A/B Test Analysis\n",
    "We carried out an A/B test and got the results described in the files\n",
    "orders_us.csv and visits_us.csv . It's time to plot some graphs and make some calculations!"
   ]
  },
  {
   "cell_type": "markdown",
   "id": "5edf7cfa",
   "metadata": {},
   "source": [
    "Creating a DataFrame called datesGroups with unique paired 'date' and 'group' values from the orders table.Let's Get rid of duplicate values using the drop_duplicates() method."
   ]
  },
  {
   "cell_type": "code",
   "execution_count": 25,
   "id": "40ae6a44",
   "metadata": {},
   "outputs": [],
   "source": [
    "datesGroups = orders[['date', 'group']].drop_duplicates()"
   ]
  },
  {
   "cell_type": "markdown",
   "id": "fb88b6df",
   "metadata": {},
   "source": [
    "**Declare the ordersAggregated variable to store:**  <br> \n",
    "The date  <br> \n",
    "The A/B test group  <br> \n",
    "The number of distinct orders for the test group up to the specified date, inclusive  <br> \n",
    "The number of distinct users in the test group who make at least one order up to the specified date, inclusive  <br> \n",
    "Total revenue from orders in the test group up to the specified date, inclusive  <br> "
   ]
  },
  {
   "cell_type": "code",
   "execution_count": 26,
   "id": "d62e626d",
   "metadata": {},
   "outputs": [],
   "source": [
    "ordersAggregated = datesGroups.apply(\n",
    "    lambda x: orders[\n",
    "        np.logical_and(\n",
    "            orders['date'] <= x['date'], orders['group'] == x['group']\n",
    "        )\n",
    "    ].agg(\n",
    "        {\n",
    "            'date': 'max',\n",
    "            'group': 'max',\n",
    "            'transactionid': pd.Series.nunique,\n",
    "            'visitorid': pd.Series.nunique,\n",
    "            'revenue': 'sum',\n",
    "        }\n",
    "    ),\n",
    "    axis=1,\n",
    ").sort_values(by=['date', 'group'])"
   ]
  },
  {
   "cell_type": "markdown",
   "id": "f59c3232",
   "metadata": {},
   "source": [
    "**Declaring the visitorsAggregated variable to store:** <br> \n",
    "The date <br> \n",
    "The A/B test group <br> \n",
    "The number of distinct visitors in the test group up to the specified date"
   ]
  },
  {
   "cell_type": "code",
   "execution_count": 27,
   "id": "0c87d734",
   "metadata": {},
   "outputs": [],
   "source": [
    "visitorsAggregated = datesGroups.apply(\n",
    "    lambda x: visits[\n",
    "        np.logical_and(\n",
    "            visits['date'] <= x['date'], visits['group'] == x['group']\n",
    "        )\n",
    "    ].agg({'date': 'max', 'group': 'max', 'visits': 'sum'}),\n",
    "    axis=1,\n",
    ").sort_values(by=['date', 'group'])\n"
   ]
  },
  {
   "cell_type": "markdown",
   "id": "2173f4e3",
   "metadata": {},
   "source": [
    "**Defing the variable cumulativeData** by joining ordersAggregated and visitorsAggregated by the columns 'date' and 'group' with the merge() method."
   ]
  },
  {
   "cell_type": "code",
   "execution_count": 28,
   "id": "4a328633",
   "metadata": {},
   "outputs": [],
   "source": [
    "cumulativeData = ordersAggregated.merge(\n",
    "    visitorsAggregated, left_on=['date', 'group'], right_on=['date', 'group']\n",
    ")\n",
    "cumulativeData.columns = [\n",
    "    'date',\n",
    "    'group',\n",
    "    'orders',\n",
    "    'buyers',\n",
    "    'revenue',\n",
    "    'visitors',\n",
    "]"
   ]
  },
  {
   "cell_type": "code",
   "execution_count": 29,
   "id": "49a17735",
   "metadata": {},
   "outputs": [
    {
     "data": {
      "text/html": [
       "<div>\n",
       "<style scoped>\n",
       "    .dataframe tbody tr th:only-of-type {\n",
       "        vertical-align: middle;\n",
       "    }\n",
       "\n",
       "    .dataframe tbody tr th {\n",
       "        vertical-align: top;\n",
       "    }\n",
       "\n",
       "    .dataframe thead th {\n",
       "        text-align: right;\n",
       "    }\n",
       "</style>\n",
       "<table border=\"1\" class=\"dataframe\">\n",
       "  <thead>\n",
       "    <tr style=\"text-align: right;\">\n",
       "      <th></th>\n",
       "      <th>date</th>\n",
       "      <th>group</th>\n",
       "      <th>orders</th>\n",
       "      <th>buyers</th>\n",
       "      <th>revenue</th>\n",
       "      <th>visitors</th>\n",
       "    </tr>\n",
       "  </thead>\n",
       "  <tbody>\n",
       "    <tr>\n",
       "      <th>0</th>\n",
       "      <td>2019-01-01 00:08:00</td>\n",
       "      <td>A</td>\n",
       "      <td>23</td>\n",
       "      <td>19</td>\n",
       "      <td>2266.6</td>\n",
       "      <td>719</td>\n",
       "    </tr>\n",
       "    <tr>\n",
       "      <th>1</th>\n",
       "      <td>2019-01-01 00:08:00</td>\n",
       "      <td>B</td>\n",
       "      <td>17</td>\n",
       "      <td>17</td>\n",
       "      <td>967.2</td>\n",
       "      <td>713</td>\n",
       "    </tr>\n",
       "    <tr>\n",
       "      <th>2</th>\n",
       "      <td>2019-01-02 00:08:00</td>\n",
       "      <td>A</td>\n",
       "      <td>42</td>\n",
       "      <td>36</td>\n",
       "      <td>3734.9</td>\n",
       "      <td>1338</td>\n",
       "    </tr>\n",
       "    <tr>\n",
       "      <th>3</th>\n",
       "      <td>2019-01-02 00:08:00</td>\n",
       "      <td>B</td>\n",
       "      <td>40</td>\n",
       "      <td>39</td>\n",
       "      <td>3535.3</td>\n",
       "      <td>1294</td>\n",
       "    </tr>\n",
       "    <tr>\n",
       "      <th>4</th>\n",
       "      <td>2019-01-03 00:08:00</td>\n",
       "      <td>A</td>\n",
       "      <td>66</td>\n",
       "      <td>60</td>\n",
       "      <td>5550.1</td>\n",
       "      <td>1845</td>\n",
       "    </tr>\n",
       "  </tbody>\n",
       "</table>\n",
       "</div>"
      ],
      "text/plain": [
       "                 date group  orders  buyers  revenue  visitors\n",
       "0 2019-01-01 00:08:00     A      23      19   2266.6       719\n",
       "1 2019-01-01 00:08:00     B      17      17    967.2       713\n",
       "2 2019-01-02 00:08:00     A      42      36   3734.9      1338\n",
       "3 2019-01-02 00:08:00     B      40      39   3535.3      1294\n",
       "4 2019-01-03 00:08:00     A      66      60   5550.1      1845"
      ]
     },
     "execution_count": 29,
     "metadata": {},
     "output_type": "execute_result"
    }
   ],
   "source": [
    "#Let's look what we got!\n",
    "cumulativeData.head()"
   ]
  },
  {
   "cell_type": "markdown",
   "id": "fbb7524c",
   "metadata": {},
   "source": [
    "## Plotting a graph :  cumulative revenue by group."
   ]
  },
  {
   "cell_type": "markdown",
   "id": "2b79e4e6",
   "metadata": {},
   "source": [
    "Declare the variables cumulativeRevenueA and cumulativeRevenueB, where you'll store the data on dates, revenue, and number of orders for groups A and B."
   ]
  },
  {
   "cell_type": "code",
   "execution_count": 30,
   "id": "a7ac503d",
   "metadata": {},
   "outputs": [],
   "source": [
    "cumulativeRevenueA =  cumulativeData[cumulativeData['group']=='A'][['date','revenue', 'orders']]\n",
    "cumulativeRevenueB =  cumulativeData[cumulativeData['group']=='B'][['date','revenue', 'orders']]"
   ]
  },
  {
   "cell_type": "code",
   "execution_count": 31,
   "id": "f66702ff",
   "metadata": {},
   "outputs": [
    {
     "data": {
      "text/plain": [
       "[]"
      ]
     },
     "execution_count": 31,
     "metadata": {},
     "output_type": "execute_result"
    },
    {
     "data": {
      "image/png": "[encoded data removed]",
      "text/plain": [
       "<Figure size 1008x504 with 1 Axes>"
      ]
     },
     "metadata": {
      "needs_background": "light"
     },
     "output_type": "display_data"
    }
   ],
   "source": [
    "fig, ax = plt.subplots()\n",
    "fig.set_size_inches(14,7)\n",
    "\n",
    "ax.set_title('Daily cumulative revenue for each group', weight='bold', size=15)\n",
    "ax.set_xlabel(\"Date\", labelpad=20, weight='bold', size=12)\n",
    "ax.set_ylabel(\"Conversion\", labelpad=20, weight='bold', size=12)\n",
    "\n",
    "# xticks per day\n",
    "ax.xaxis.set_major_locator(mdates.DayLocator(interval=1))\n",
    "ax.xaxis.set_major_formatter(mdates.DateFormatter('%Y-%m-%d'))\n",
    "fig.autofmt_xdate()\n",
    "\n",
    "# plotting\n",
    "plt.plot(cumulativeRevenueA['date'], cumulativeRevenueA['revenue'], label='A')\n",
    "plt.plot(cumulativeRevenueB['date'],  cumulativeRevenueB['revenue'], label='B')\n",
    "plt.grid()\n",
    "plt.legend()\n",
    "plt.plot()"
   ]
  },
  {
   "cell_type": "markdown",
   "id": "d483f554",
   "metadata": {},
   "source": [
    "*The Big Picture Thus Far:*\n",
    "* The cumulative revenue of the B group are consistently  higher  than those of the A group. At the beginning of the test, fluctuation in conversion was observed in both groups. The graph never stabilized.\n",
    "* Segment B took the lead halfway through the test and held on to it. It seems like abnormally big orders affected the results after all. We'll need to get rid of them when we conduct our final analysis.<br> "
   ]
  },
  {
   "cell_type": "markdown",
   "id": "4ea3ea2f",
   "metadata": {},
   "source": [
    "##  Plotting a graph :  average order size by group."
   ]
  },
  {
   "cell_type": "code",
   "execution_count": 32,
   "id": "f49028ab",
   "metadata": {
    "scrolled": true
   },
   "outputs": [
    {
     "data": {
      "text/plain": [
       "[]"
      ]
     },
     "execution_count": 32,
     "metadata": {},
     "output_type": "execute_result"
    },
    {
     "data": {
      "image/png": "[encoded data removed]",
      "text/plain": [
       "<Figure size 1008x504 with 1 Axes>"
      ]
     },
     "metadata": {
      "needs_background": "light"
     },
     "output_type": "display_data"
    }
   ],
   "source": [
    "fig, ax = plt.subplots()\n",
    "fig.set_size_inches(14,7)\n",
    "\n",
    "ax.set_title('Daily cumulative average purchase size', weight='bold', size=15)\n",
    "ax.set_xlabel(\"date\", labelpad=20, weight='bold', size=12)\n",
    "ax.set_ylabel(\"average purchase size\", labelpad=20, weight='bold', size=12)\n",
    "\n",
    "# xticks per day\n",
    "ax.xaxis.set_major_locator(mdates.DayLocator(interval=1))\n",
    "ax.xaxis.set_major_formatter(mdates.DateFormatter('%Y-%m-%d'))\n",
    "fig.autofmt_xdate()\n",
    "\n",
    "# plotting\n",
    "plt.plot(cumulativeRevenueA['date'], cumulativeRevenueA['revenue']/cumulativeRevenueA['orders'], label='A')\n",
    "plt.plot(cumulativeRevenueB['date'], cumulativeRevenueB['revenue']/cumulativeRevenueB['orders'], label='B')\n",
    "plt.grid()\n",
    "plt.legend()\n",
    "plt.plot()"
   ]
  },
  {
   "cell_type": "markdown",
   "id": "5df97b34",
   "metadata": {},
   "source": [
    "*The Big Picture Thus Far:*\n",
    "* The cumulative value of the segments' average purchase sizes is still fluctuating. It's most likely too early to make decisions based on this metric. Or maybe we need to analyze the outliers that are distorsing the results. <br> "
   ]
  },
  {
   "cell_type": "markdown",
   "id": "5638ad6c",
   "metadata": {},
   "source": [
    "## Plotting a graph : The relative difference in cumulative average order size for group B\n",
    "compared with group A. "
   ]
  },
  {
   "cell_type": "markdown",
   "id": "9932408f",
   "metadata": {},
   "source": [
    "Join the tables cumulativeRevenueA and cumulativeRevenueB with the merge() method so that the resulting table contains the columns ['date', 'revenueA', 'revenueB', 'ordersA', 'ordersB']. Store it in mergedCumulativeRevenue. <br>\n",
    "Graph the relative difference between the cumulative average purchase size of group B compared with that of group A. <br>\n",
    "Add a dotted-line X-axis (Y = 0) using the plt.axhline() method. <br>"
   ]
  },
  {
   "cell_type": "code",
   "execution_count": 33,
   "id": "4eff562c",
   "metadata": {},
   "outputs": [],
   "source": [
    "# gathering the data into one DataFrame\n",
    "mergedCumulativeRevenue = cumulativeRevenueA.merge(cumulativeRevenueB, left_on='date', right_on='date', how='left', suffixes=['A', 'B'])"
   ]
  },
  {
   "cell_type": "code",
   "execution_count": 34,
   "id": "6d87a513",
   "metadata": {},
   "outputs": [
    {
     "data": {
      "image/png": "[encoded data removed]",
      "text/plain": [
       "<Figure size 1080x576 with 1 Axes>"
      ]
     },
     "metadata": {
      "needs_background": "light"
     },
     "output_type": "display_data"
    }
   ],
   "source": [
    "fig, ax = plt.subplots(figsize=(15,8))\n",
    "sns.lineplot(data=mergedCumulativeRevenue, x='date', \n",
    "             y=(mergedCumulativeRevenue['revenueB']/mergedCumulativeRevenue['ordersB'])/(mergedCumulativeRevenue['revenueA']/mergedCumulativeRevenue['ordersA'])-1)\n",
    "\n",
    "# Add labels platforms that used to be popular but now have zero sales\n",
    "ax.set_title('Relative difference between the cumulative average purchase size of group B', fontdict={'size':15})\n",
    "ax.set_ylabel('difference')\n",
    "ax.set_xlabel('date')\n",
    "\n",
    "# xticks per day\n",
    "ax.xaxis.set_major_locator(mdates.DayLocator(interval=1))\n",
    "ax.xaxis.set_major_formatter(mdates.DateFormatter('%Y-%m-%d'))\n",
    "fig.autofmt_xdate()\n",
    "\n",
    "# adding the X axis\n",
    "plt.axhline(y=0, color='black', linestyle='--') \n",
    "\n",
    "plt.show()"
   ]
  },
  {
   "cell_type": "markdown",
   "id": "f35478ff",
   "metadata": {},
   "source": [
    "*The Big Picture Thus Far:*\n",
    "* There were several sudden and considerable changes. Maybe they have to do with abnormally large purchases."
   ]
  },
  {
   "cell_type": "markdown",
   "id": "53d5fc01",
   "metadata": {},
   "source": [
    "## Calculating each group's conversion rate \n",
    "as the ratio of orders to the number of visits for each day. <br> \n",
    "Plot the daily conversion rates of the two groups and describe the difference."
   ]
  },
  {
   "cell_type": "code",
   "execution_count": 35,
   "id": "cc0e7708",
   "metadata": {},
   "outputs": [],
   "source": [
    "# calculating cumulative conversion\n",
    "cumulativeData['conversion'] = (\n",
    "    cumulativeData['orders'] / cumulativeData['visitors'])\n",
    "# calculating cumulative conversion percent\n",
    "cumulativeData['conversion'] = (\n",
    "    cumulativeData['orders'] / cumulativeData['visitors']) * 100"
   ]
  },
  {
   "cell_type": "code",
   "execution_count": 36,
   "id": "918329ad",
   "metadata": {},
   "outputs": [
    {
     "data": {
      "text/html": [
       "<div>\n",
       "<style scoped>\n",
       "    .dataframe tbody tr th:only-of-type {\n",
       "        vertical-align: middle;\n",
       "    }\n",
       "\n",
       "    .dataframe tbody tr th {\n",
       "        vertical-align: top;\n",
       "    }\n",
       "\n",
       "    .dataframe thead th {\n",
       "        text-align: right;\n",
       "    }\n",
       "</style>\n",
       "<table border=\"1\" class=\"dataframe\">\n",
       "  <thead>\n",
       "    <tr style=\"text-align: right;\">\n",
       "      <th></th>\n",
       "      <th>date</th>\n",
       "      <th>group</th>\n",
       "      <th>orders</th>\n",
       "      <th>buyers</th>\n",
       "      <th>revenue</th>\n",
       "      <th>visitors</th>\n",
       "      <th>conversion</th>\n",
       "    </tr>\n",
       "  </thead>\n",
       "  <tbody>\n",
       "    <tr>\n",
       "      <th>0</th>\n",
       "      <td>2019-01-01 00:08:00</td>\n",
       "      <td>A</td>\n",
       "      <td>23</td>\n",
       "      <td>19</td>\n",
       "      <td>2266.6</td>\n",
       "      <td>719</td>\n",
       "      <td>3.198887</td>\n",
       "    </tr>\n",
       "    <tr>\n",
       "      <th>1</th>\n",
       "      <td>2019-01-01 00:08:00</td>\n",
       "      <td>B</td>\n",
       "      <td>17</td>\n",
       "      <td>17</td>\n",
       "      <td>967.2</td>\n",
       "      <td>713</td>\n",
       "      <td>2.384292</td>\n",
       "    </tr>\n",
       "    <tr>\n",
       "      <th>2</th>\n",
       "      <td>2019-01-02 00:08:00</td>\n",
       "      <td>A</td>\n",
       "      <td>42</td>\n",
       "      <td>36</td>\n",
       "      <td>3734.9</td>\n",
       "      <td>1338</td>\n",
       "      <td>3.139013</td>\n",
       "    </tr>\n",
       "    <tr>\n",
       "      <th>3</th>\n",
       "      <td>2019-01-02 00:08:00</td>\n",
       "      <td>B</td>\n",
       "      <td>40</td>\n",
       "      <td>39</td>\n",
       "      <td>3535.3</td>\n",
       "      <td>1294</td>\n",
       "      <td>3.091190</td>\n",
       "    </tr>\n",
       "    <tr>\n",
       "      <th>4</th>\n",
       "      <td>2019-01-03 00:08:00</td>\n",
       "      <td>A</td>\n",
       "      <td>66</td>\n",
       "      <td>60</td>\n",
       "      <td>5550.1</td>\n",
       "      <td>1845</td>\n",
       "      <td>3.577236</td>\n",
       "    </tr>\n",
       "  </tbody>\n",
       "</table>\n",
       "</div>"
      ],
      "text/plain": [
       "                 date group  orders  buyers  revenue  visitors  conversion\n",
       "0 2019-01-01 00:08:00     A      23      19   2266.6       719    3.198887\n",
       "1 2019-01-01 00:08:00     B      17      17    967.2       713    2.384292\n",
       "2 2019-01-02 00:08:00     A      42      36   3734.9      1338    3.139013\n",
       "3 2019-01-02 00:08:00     B      40      39   3535.3      1294    3.091190\n",
       "4 2019-01-03 00:08:00     A      66      60   5550.1      1845    3.577236"
      ]
     },
     "execution_count": 36,
     "metadata": {},
     "output_type": "execute_result"
    }
   ],
   "source": [
    "# Print cumulativeData table\n",
    "cumulativeData.head()"
   ]
  },
  {
   "cell_type": "markdown",
   "id": "af1a757c",
   "metadata": {},
   "source": [
    "Declare the variables cumulativeDataA and cumulativeDataB, we'll store the data on orders in the segments A and B."
   ]
  },
  {
   "cell_type": "code",
   "execution_count": 37,
   "id": "4dd2fc23",
   "metadata": {},
   "outputs": [],
   "source": [
    "# selecting data on group A \n",
    "cumulativeDataA = cumulativeData[cumulativeData['group']=='A']\n",
    "\n",
    "# selecting data on group B\n",
    "cumulativeDataB = cumulativeData[cumulativeData['group']=='B']"
   ]
  },
  {
   "cell_type": "markdown",
   "id": "c98a11a3",
   "metadata": {},
   "source": [
    "**Plotting the daily cumulative conversion graph of each group.**"
   ]
  },
  {
   "cell_type": "code",
   "execution_count": 38,
   "id": "2b93fc35",
   "metadata": {},
   "outputs": [
    {
     "data": {
      "text/plain": [
       "[]"
      ]
     },
     "execution_count": 38,
     "metadata": {},
     "output_type": "execute_result"
    },
    {
     "data": {
      "image/png": "[encoded data removed]",
      "text/plain": [
       "<Figure size 1008x504 with 1 Axes>"
      ]
     },
     "metadata": {
      "needs_background": "light"
     },
     "output_type": "display_data"
    }
   ],
   "source": [
    "fig, ax = plt.subplots()\n",
    "fig.set_size_inches(14,7)\n",
    "\n",
    "ax.set_title(\"Daily % conversion by group\", weight='bold', size=15)\n",
    "ax.set_xlabel(\"Date\", labelpad=20, weight='bold', size=12)\n",
    "ax.set_ylabel(\"Conversion\", labelpad=20, weight='bold', size=12)\n",
    "\n",
    "# xticks per day\n",
    "ax.xaxis.set_major_locator(mdates.DayLocator(interval=1))\n",
    "ax.xaxis.set_major_formatter(mdates.DateFormatter('%Y-%m-%d'))\n",
    "fig.autofmt_xdate()\n",
    "\n",
    "# plotting\n",
    "plt.plot(cumulativeDataA['date'], cumulativeDataA['conversion'], label='A')\n",
    "plt.plot(cumulativeDataB['date'], cumulativeDataB['conversion'], label='B')\n",
    "plt.grid()\n",
    "plt.legend()\n",
    "plt.plot()"
   ]
  },
  {
   "cell_type": "markdown",
   "id": "83f5ec27",
   "metadata": {},
   "source": [
    "## Plotting a scatter chart of the number of orders per user. "
   ]
  },
  {
   "cell_type": "markdown",
   "id": "44e53516",
   "metadata": {},
   "source": [
    "We already found the statistical significance of a difference in metrics between samples and saw graphs. These are two huge steps on the path to correct decision-making in experiments.<br> \n",
    "However, there are more obstacles to overcome: outliers/anomalies, which can distort the results of an A/B test. Recall that an anomaly is a value that appears rarely in a statistical population but can introduce error when it does."
   ]
  },
  {
   "cell_type": "markdown",
   "id": "7b00ceea",
   "metadata": {},
   "source": [
    "**First, let's find the number of orders per user.**"
   ]
  },
  {
   "cell_type": "code",
   "execution_count": 39,
   "id": "a3decb58",
   "metadata": {},
   "outputs": [
    {
     "name": "stdout",
     "output_type": "stream",
     "text": [
      "         userId  orders\n",
      "908  3967698036       3\n",
      "55    249864742       3\n",
      "478  2108163459       3\n",
      "687  2988190573       3\n",
      "890  3908431265       3\n"
     ]
    }
   ],
   "source": [
    "ordersByUsers = (\n",
    "    orders.drop(['group', 'revenue', 'date'], axis=1) \n",
    "    .groupby('visitorid', as_index=False)\n",
    "    .agg({'transactionid' : pd.Series.nunique})\n",
    ")\n",
    "ordersByUsers.columns = ['userId','orders']\n",
    "\n",
    "print(ordersByUsers.sort_values(by='orders',ascending=False).head(5))"
   ]
  },
  {
   "cell_type": "code",
   "execution_count": 40,
   "id": "fe4a98f2",
   "metadata": {},
   "outputs": [
    {
     "data": {
      "image/png": "[encoded data removed]",
      "text/plain": [
       "<Figure size 720x360 with 1 Axes>"
      ]
     },
     "metadata": {
      "needs_background": "light"
     },
     "output_type": "display_data"
    }
   ],
   "source": [
    "x_values = pd.Series(range(0,len(ordersByUsers)))\n",
    "\n",
    "fig, ax = plt.subplots()\n",
    "fig.set_size_inches(10,5)\n",
    "\n",
    "ax.set_title('Number of orders per user', weight='bold', size=15)\n",
    "ax.set_xlabel('Amount of users', weight='bold', size=12)\n",
    "ax.set_ylabel('Amount of orders', weight='bold', size=12)\n",
    "\n",
    "plt.scatter(x_values, ordersByUsers['orders']);"
   ]
  },
  {
   "cell_type": "markdown",
   "id": "db1bd32e",
   "metadata": {},
   "source": [
    "*The Big Picture Thus Far:*\n",
    "* There are very few users with two or three orders. These cases may as well turn out to be anomalies. Three orders es that typical or a lot? We will canculate percentiles to answer this uestion.<br> "
   ]
  },
  {
   "cell_type": "markdown",
   "id": "fe028958",
   "metadata": {},
   "source": [
    "## Calculating the 95th and 99th percentiles for the number of orders per user.\n",
    "This will help us to define the point at which a data point becomes an anomaly."
   ]
  },
  {
   "cell_type": "code",
   "execution_count": 41,
   "id": "e1b03011",
   "metadata": {},
   "outputs": [
    {
     "data": {
      "text/plain": [
       "array([1., 2.])"
      ]
     },
     "execution_count": 41,
     "metadata": {},
     "output_type": "execute_result"
    }
   ],
   "source": [
    "np.percentile(ordersByUsers['orders'], [95, 99])"
   ]
  },
  {
   "cell_type": "markdown",
   "id": "1969b60c",
   "metadata": {},
   "source": [
    "*The Big Picture Thus Far:*\n",
    "* We can see that at less 95% of our users have 1 order and the 99% 2 orders.\n",
    "* It will be reasonable to remove users with 2 or 3 orders from our data and consider them anomalies, as they sum up to be less that 5% of our data.<br> "
   ]
  },
  {
   "cell_type": "markdown",
   "id": "0318eb0f",
   "metadata": {},
   "source": [
    "## Plotting a scatter chart of order prices. "
   ]
  },
  {
   "cell_type": "code",
   "execution_count": 43,
   "id": "914466fe",
   "metadata": {},
   "outputs": [
    {
     "data": {
      "image/png": "[encoded data removed]",
      "text/plain": [
       "<Figure size 720x360 with 1 Axes>"
      ]
     },
     "metadata": {
      "needs_background": "light"
     },
     "output_type": "display_data"
    }
   ],
   "source": [
    "x_values = pd.Series(range(0,len(orders['revenue'])))\n",
    "fig, ax = plt.subplots()\n",
    "fig.set_size_inches(10,5)\n",
    "\n",
    "ax.set_title('Chart of order prices', weight='bold', size=15)\n",
    "ax.set_xlabel('Amount of orders', weight='bold', size=12)\n",
    "ax.set_ylabel('Order price', weight='bold', size=12)\n",
    "\n",
    "plt.scatter(x_values, orders['revenue']);"
   ]
  },
  {
   "cell_type": "markdown",
   "id": "c3e848b6",
   "metadata": {},
   "source": [
    "*The Big Picture Thus Far:*\n",
    "* There aren't many orders that cost more than 250000. There are outliers of about 500000-2000000."
   ]
  },
  {
   "cell_type": "markdown",
   "id": "2f690cef",
   "metadata": {},
   "source": [
    "## Calculating the 95th and 99th percentiles for the chart of order prices.\n",
    "This will help us to define the point at which a data point becomes an anomaly."
   ]
  },
  {
   "cell_type": "code",
   "execution_count": 44,
   "id": "807326ce",
   "metadata": {},
   "outputs": [
    {
     "data": {
      "text/plain": [
       "array([414.275, 830.3  ])"
      ]
     },
     "execution_count": 44,
     "metadata": {},
     "output_type": "execute_result"
    }
   ],
   "source": [
    "np.percentile(orders['revenue'], [95, 99])"
   ]
  },
  {
   "cell_type": "markdown",
   "id": "d9d24fd9",
   "metadata": {},
   "source": [
    "*The Big Picture Thus Far:*\n",
    "* Not more than 5%, of users placerd orders that cost more than 414. Not more than 1% placed orders more expensive than 830."
   ]
  },
  {
   "cell_type": "markdown",
   "id": "4ca06ae0",
   "metadata": {},
   "source": [
    "## Finding the statistical significance of the difference in conversion between the groups using the raw data. "
   ]
  },
  {
   "cell_type": "markdown",
   "id": "5416283d",
   "metadata": {},
   "source": [
    "We already visually evaluated A/B test results and determined that the data most likely contains outliers. <br>\n",
    "We also found the outliers and determined where to set the boundary for identifying them as such.<br>\n",
    "Let's find the statistical significance of differences in conversion rate and order size between the groups, using the \"raw\" data (that is, the data before the removal of anomalies)."
   ]
  },
  {
   "cell_type": "markdown",
   "id": "23605f13",
   "metadata": {},
   "source": [
    "Calculating samples for both groups for the test"
   ]
  },
  {
   "cell_type": "code",
   "execution_count": 48,
   "id": "a9830b5e",
   "metadata": {},
   "outputs": [],
   "source": [
    "ordersByUsersA = orders[orders['group']=='A'].groupby('visitorid', as_index=False).agg({'transactionid' : pd.Series.nunique})\n",
    "ordersByUsersA.columns = ['userId', 'orders']\n",
    "\n",
    "ordersByUsersB = orders[orders['group']=='B'].groupby('visitorid', as_index=False).agg({'transactionid' : pd.Series.nunique})\n",
    "ordersByUsersB.columns = ['userId', 'orders'] "
   ]
  },
  {
   "cell_type": "markdown",
   "id": "35b2ea8b",
   "metadata": {},
   "source": [
    "Now we'll declare the variables sampleA and sampleB, with users from different groups and corresponding numbers of orders. Those who didn't order anything will have 0. This is necessary to prepare the samples for the Mann-Whitney test."
   ]
  },
  {
   "cell_type": "code",
   "execution_count": 55,
   "id": "50b90402",
   "metadata": {},
   "outputs": [],
   "source": [
    "sampleA = pd.concat([ordersByUsersA['orders'],pd.Series(0, index=np.arange(visits[visits['group']=='A']['visits'].sum() - len(ordersByUsersA['orders'])), name='orders')],axis=0)\n",
    "\n",
    "sampleB = pd.concat([ordersByUsersB['orders'],pd.Series(0, index=np.arange(visits[visits['group']=='B']['visits'].sum() - len(ordersByUsersB['orders'])), name='orders')],axis=0)"
   ]
  },
  {
   "cell_type": "code",
   "execution_count": 59,
   "id": "4d881490",
   "metadata": {},
   "outputs": [
    {
     "name": "stdout",
     "output_type": "stream",
     "text": [
      "pvalue: 0.006\n",
      "relative difference between B to A: 0.160\n"
     ]
    }
   ],
   "source": [
    "print(\"pvalue: {0:.3f}\".format(stats.mannwhitneyu(sampleA, sampleB)[1]))\n",
    "print(\"relative difference between B to A: {0:.3f}\".format(sampleB.mean()/sampleA.mean()-1)) "
   ]
  },
  {
   "cell_type": "markdown",
   "id": "f3e24f2a",
   "metadata": {},
   "source": [
    "*The Big Picture Thus Far:*\n",
    "* The p-value is considerably lower than 0.05, so we reject the null hypothesis. The raw data analysis showed that the groups' conversion rates have statistically significant differences. The relative conversion gain for group B compared with group A is 16%\n",
    "* Now we just need to compare the average order sizes using the raw data, and then compare both metrics again with the outliers filtered out."
   ]
  },
  {
   "cell_type": "markdown",
   "id": "7fcfffeb",
   "metadata": {},
   "source": [
    "## Finding the statistical significance of the difference in average order size between the groups using the raw data. "
   ]
  },
  {
   "cell_type": "markdown",
   "id": "1093acc7",
   "metadata": {},
   "source": [
    "We'll also find the relative difference in average order size between the groups:"
   ]
  },
  {
   "cell_type": "code",
   "execution_count": 60,
   "id": "86e1e3af",
   "metadata": {},
   "outputs": [
    {
     "name": "stdout",
     "output_type": "stream",
     "text": [
      "pvalue: 0.431\n",
      "relative difference between B to A: 0.278\n"
     ]
    }
   ],
   "source": [
    "print('pvalue: {0:.3f}'.format(stats.mannwhitneyu(orders[orders['group']=='A']['revenue'], orders[orders['group']=='B']['revenue'])[1]))\n",
    "print('relative difference between B to A: {0:.3f}'.format(orders[orders['group']=='B']['revenue'].mean()/orders[orders['group']=='A']['revenue'].mean()-1)) "
   ]
  },
  {
   "cell_type": "markdown",
   "id": "e0012df0",
   "metadata": {},
   "source": [
    "*The Big Picture Thus Far:*\n",
    "* The p-value is greater than 0.05, so there are no statistically sifnificant differences between the groups' average order sizes.\n",
    "* Moreover, the relative difference is 27,8%."
   ]
  },
  {
   "cell_type": "markdown",
   "id": "a66bd74b",
   "metadata": {},
   "source": [
    "## Finding the statistical significance of the difference in conversion between the groups using the filtered data"
   ]
  },
  {
   "cell_type": "markdown",
   "id": "43288d0a",
   "metadata": {},
   "source": [
    "We'll consider anomalous users those who made 2 or more orders or placed one for more than $414. Thus, we'll remove the 1% of users with the most orders and between 1% and 5% of the most expensive orders."
   ]
  },
  {
   "cell_type": "code",
   "execution_count": 66,
   "id": "06633e98",
   "metadata": {},
   "outputs": [
    {
     "data": {
      "text/plain": [
       "33      249864742\n",
       "58      611059232\n",
       "425    1920142716\n",
       "211    2108163459\n",
       "347    2742574263\n",
       "310    2988190573\n",
       "409    3908431265\n",
       "416    3967698036\n",
       "dtype: int64"
      ]
     },
     "execution_count": 66,
     "metadata": {},
     "output_type": "execute_result"
    }
   ],
   "source": [
    "usersWithManyOrders = (pd.concat([ordersByUsersA[ordersByUsersA['orders'] > 2]['userId'],\n",
    "                                  ordersByUsersB[ordersByUsersB['orders'] > 2]['userId']], axis = 0))\n",
    "\n",
    "usersWithExpensiveOrders = orders[orders['revenue'] > 10000]['visitorid']\n",
    "\n",
    "abnormalUsers = (pd.concat([usersWithManyOrders, usersWithExpensiveOrders],\n",
    "                           axis = 0).drop_duplicates().sort_values())\n",
    "abnormalUsers"
   ]
  },
  {
   "cell_type": "markdown",
   "id": "81238361",
   "metadata": {},
   "source": [
    "Now you have a set of anomalous users. After they are removed, it'll be time to calculate statistical significance. We'll need to know whether the filtered data shows any significant difference between the groups."
   ]
  },
  {
   "cell_type": "code",
   "execution_count": 68,
   "id": "f6c4646d",
   "metadata": {},
   "outputs": [],
   "source": [
    "sampleAFiltered = pd.concat([ordersByUsersA[np.logical_not(ordersByUsersA['userId'].isin(abnormalUsers))]['orders'],pd.Series(0, index=np.arange(visits[visits['group']=='A']['visits'].sum() - len(ordersByUsersA['orders'])),name='orders')],axis=0)\n",
    "\n",
    "sampleBFiltered = pd.concat([ordersByUsersB[np.logical_not(ordersByUsersB['userId'].isin(abnormalUsers))]['orders'],pd.Series(0, index=np.arange(visits[visits['group']=='B']['visits'].sum() - len(ordersByUsersB['orders'])),name='orders')],axis=0)"
   ]
  },
  {
   "cell_type": "code",
   "execution_count": 71,
   "id": "25cb2d87",
   "metadata": {},
   "outputs": [
    {
     "name": "stdout",
     "output_type": "stream",
     "text": [
      "pvalue: 0.004\n",
      "relative difference between B to A: 0.183\n"
     ]
    }
   ],
   "source": [
    "print(\"pvalue: {0:.3f}\".format(stats.mannwhitneyu(sampleAFiltered, sampleBFiltered)[1]))\n",
    "print(\"relative difference between B to A: {0:.3f}\".format(sampleBFiltered.mean()/sampleAFiltered.mean()-1)) "
   ]
  },
  {
   "cell_type": "markdown",
   "id": "86093234",
   "metadata": {},
   "source": [
    "*The Big Picture Thus Far:*\n",
    "* The results for conversion almost didn't change."
   ]
  },
  {
   "cell_type": "markdown",
   "id": "c2fde02a",
   "metadata": {},
   "source": [
    "## Finding the statistical significance of the difference in average order size between the groups using the filtered data. "
   ]
  },
  {
   "cell_type": "code",
   "execution_count": 76,
   "id": "37900bef",
   "metadata": {},
   "outputs": [
    {
     "name": "stdout",
     "output_type": "stream",
     "text": [
      "pvalue: 0.355\n",
      "relative difference between B to A: -0.042\n"
     ]
    }
   ],
   "source": [
    "print('pvalue: {0:.3f}'.format(stats.mannwhitneyu(\n",
    "    orders[np.logical_and(\n",
    "        orders['group']=='A',\n",
    "        np.logical_not(orders['visitorid'].isin(abnormalUsers)))]['revenue'],\n",
    "    orders[np.logical_and(\n",
    "        orders['group']=='B',\n",
    "        np.logical_not(orders['visitorid'].isin(abnormalUsers)))]['revenue'])[1]))\n",
    "\n",
    "print('relative difference between B to A: {0:.3f}'.format(\n",
    "    orders[np.logical_and(orders['group']=='B',np.logical_not(orders['visitorid'].isin(abnormalUsers)))]['revenue'].mean()/\n",
    "    orders[np.logical_and(\n",
    "        orders['group']=='A',\n",
    "        np.logical_not(orders['visitorid'].isin(abnormalUsers)))]['revenue'].mean() - 1)) "
   ]
  },
  {
   "cell_type": "markdown",
   "id": "4891e035",
   "metadata": {},
   "source": [
    "*The Big Picture Thus Far:*\n",
    "* The p-value increased a bit, but now the difference between the group is -0.042 instead of 27,8%.\n",
    "* There is not reason to reject the null hypothesis and conclude that average order size differs between the groups."
   ]
  },
  {
   "cell_type": "markdown",
   "id": "edfe0a5a",
   "metadata": {},
   "source": [
    "# Conclusions "
   ]
  },
  {
   "cell_type": "markdown",
   "id": "2ed36a6d",
   "metadata": {},
   "source": [
    "* The raw data revealed a statistically significant difference in conversion between the groups, as group B had 16% higher conversion.\n",
    "* The filtered data revealed a statistically significant difference in conversion between the groups, as group B had 18% higher conversion.\n",
    "* The raw data showed Group B had 27% lead over group A in terms of average order size.\n",
    "* The filtered data showed Group B's average order size is almost the same (-0.042) as group A's\n",
    "* Neither raw or filtered data revealed any statistically significant diffeences in average order size between the groups.\n",
    "\n",
    "**We conclude that we should stop the test and consider group B as the leading group in terms of conversion (+18%), as this is a crucial metric for our goal - boosting the revenue and this gap of 18% is a big enough increase in conversion to call group B the most succesful group**"
   ]
  },
  {
   "cell_type": "code",
   "execution_count": null,
   "id": "17f03aee",
   "metadata": {},
   "outputs": [],
   "source": []
  },
  {
   "cell_type": "code",
   "execution_count": null,
   "id": "c365ffb4",
   "metadata": {},
   "outputs": [],
   "source": []
  }
 ],
 "metadata": {
  "kernelspec": {
   "display_name": "Python 3",
   "language": "python",
   "name": "python3"
  },
  "language_info": {
   "codemirror_mode": {
    "name": "ipython",
    "version": 3
   },
   "file_extension": ".py",
   "mimetype": "text/x-python",
   "name": "python",
   "nbconvert_exporter": "python",
   "pygments_lexer": "ipython3",
   "version": "3.8.8"
  },
  "toc": {
   "base_numbering": 1,
   "nav_menu": {},
   "number_sections": true,
   "sideBar": true,
   "skip_h1_title": false,
   "title_cell": "Table of Contents",
   "title_sidebar": "Contents",
   "toc_cell": false,
   "toc_position": {},
   "toc_section_display": true,
   "toc_window_display": false
  }
 },
 "nbformat": 4,
 "nbformat_minor": 5
}
