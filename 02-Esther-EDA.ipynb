{
 "cells": [
  {
   "cell_type": "markdown",
   "metadata": {},
   "source": [
    "<hr style=\"border: 2px solid green;\" />\n",
    "\n",
    "Hello, Esther!🤚 \n",
    "\n",
    "My name is Kseniya. I reviewed your previous project and I'm glad to see you again 😊 \n",
    "\n",
    "✏️You can find my comments in <font color='green'>green</font>, <font color='orange'>yellow</font> or <font color='red'>red</font> boxes like this:\n",
    "\n",
    "<div style=\"border:solid green 2px; padding: 20px\"> <b>Success:</b><br>\n",
    "    I'm using green color if everything is done perfectly.</div>       \n",
    "<br>\n",
    "<div style=\"border:solid orange 2px; padding: 20px\"> <b>Remarks:</b><br>\n",
    "    if I can give some recommendations</div>   \n",
    "<br>\n",
    "<div style=\"border:solid red 2px; padding: 20px\"> <b>Needs fixing:</b><br>\n",
    "    if the block requires some corrections. Work can't be accepted with the red comments</div>\n",
    " \n",
    "Further in the file you can see my comments, try to take them into account when performing the next tasks. **Please, don't delete them.** :)\n",
    "\n",
    "Let's work on the project in dialogue: if you change something in the project or respond to my comments, write about it. It will be easier for me to track the changes if you highlight your comments:\n",
    "\n",
    "<div class=\"alert alert-info\" style=\"border:solid blue 2px; padding: 20px\"> <b>Student comment:</b> In the blue boxes you can leave comments and ask questions.</div>\n",
    "\n",
    "\n",
    "<hr style=\"border: 2px solid green;\" />"
   ]
  },
  {
   "cell_type": "markdown",
   "metadata": {},
   "source": [
    "### <font color='orange'>General feedback</font>"
   ]
  },
  {
   "cell_type": "markdown",
   "metadata": {},
   "source": [
    "<s><div style=\"border:solid red 2px; padding: 20px\"> <b>Needs fixing:</b><br>\n",
    "    Thank you for sending your project ☺️ You've done a really good job on it! I especially liked the way you wrote your own functions, ploted scatterplot matrix and wrote detailed conclusions in your project. However, you have some things to correct. But don't worry, you've got this :) </div>"
   ]
  },
  {
   "cell_type": "markdown",
   "metadata": {},
   "source": [
    "<div style=\"border:solid orange 2px; padding: 20px\"> <b>Remarks:</b><br>\n",
    "    There are some comments for further improvement. They don't mean that you did anything wrong, but they're things we wanted to point out that can help you further develop your skills. \n",
    "\n",
    "And also I leave several links that can help you to make your further projects even better:\n",
    "\n",
    "* Interesting charts in matplotlib library:\n",
    "\n",
    "    <a>https://www.machinelearningplus.com/plots/top-50-matplotlib-visualizations-the-master-plots-python/</a>\n",
    "\n",
    "*  Some information about boxplots:\n",
    "\n",
    "    <a>https://www.askpython.com/python/examples/boxplots</a>\n",
    "   \n",
    "</div>"
   ]
  },
  {
   "cell_type": "markdown",
   "metadata": {},
   "source": [
    "<div class=\"alert alert-info\" style=\"border:solid blue 2px; padding: 20px\"> <b>Student comment:</b> Hi Kseniya, I really thank you for reviewing my project, I went through all the comments and I will try to respond and correct every comment.</div>\n"
   ]
  },
  {
   "cell_type": "markdown",
   "metadata": {},
   "source": [
    "<div style=\"border:solid green 2px; padding: 20px\"> <b>Success V2:</b><br>\n",
    "    Your corrections look great, you've improved your work significantly! Your project has been accepted. Congratulations!🥳👏👏👏 You're on the right track 😊 </div>  "
   ]
  },
  {
   "cell_type": "markdown",
   "metadata": {},
   "source": [
    "# Research on car sales ads\n",
    "\n",
    "You're an analyst at Crankshaft List. Hundreds of free advertisements for vehicles are published on your site every day.\n",
    "\n",
    "You need to study data collected over the last few years and determine which factors influence the price of a vehicle. "
   ]
  },
  {
   "cell_type": "markdown",
   "metadata": {},
   "source": [
    "<div style=\"border:solid orange 2px; padding: 20px\"> <b>Remarks:</b><br>\n",
    "    Well done for not forgetting the title and description of the project task 🙂. But it is also important to include a description of the data to be worked with. \n",
    "And it is better to write the description in the form of a task. For example: \"We need to analyze data from the past few years and determine the factors that affect the price of Crankshaft List vehicles...etc. \". \n",
    "This is necessary because otherwise, the description sounds like you're giving the data to someone else to do the analysis. </div>   "
   ]
  },
  {
   "cell_type": "markdown",
   "metadata": {},
   "source": [
    "## Open the data file and study the general information. "
   ]
  },
  {
   "cell_type": "code",
   "execution_count": 1,
   "metadata": {},
   "outputs": [
    {
     "data": {
      "text/html": [
       "<div>\n",
       "<style scoped>\n",
       "    .dataframe tbody tr th:only-of-type {\n",
       "        vertical-align: middle;\n",
       "    }\n",
       "\n",
       "    .dataframe tbody tr th {\n",
       "        vertical-align: top;\n",
       "    }\n",
       "\n",
       "    .dataframe thead th {\n",
       "        text-align: right;\n",
       "    }\n",
       "</style>\n",
       "<table border=\"1\" class=\"dataframe\">\n",
       "  <thead>\n",
       "    <tr style=\"text-align: right;\">\n",
       "      <th></th>\n",
       "      <th>price</th>\n",
       "      <th>model_year</th>\n",
       "      <th>model</th>\n",
       "      <th>condition</th>\n",
       "      <th>cylinders</th>\n",
       "      <th>fuel</th>\n",
       "      <th>odometer</th>\n",
       "      <th>transmission</th>\n",
       "      <th>type</th>\n",
       "      <th>paint_color</th>\n",
       "      <th>is_4wd</th>\n",
       "      <th>date_posted</th>\n",
       "      <th>days_listed</th>\n",
       "    </tr>\n",
       "  </thead>\n",
       "  <tbody>\n",
       "    <tr>\n",
       "      <td>0</td>\n",
       "      <td>9400</td>\n",
       "      <td>2011.0</td>\n",
       "      <td>bmw x5</td>\n",
       "      <td>good</td>\n",
       "      <td>6.0</td>\n",
       "      <td>gas</td>\n",
       "      <td>145000.0</td>\n",
       "      <td>automatic</td>\n",
       "      <td>SUV</td>\n",
       "      <td>NaN</td>\n",
       "      <td>1.0</td>\n",
       "      <td>2018-06-23</td>\n",
       "      <td>19</td>\n",
       "    </tr>\n",
       "    <tr>\n",
       "      <td>1</td>\n",
       "      <td>25500</td>\n",
       "      <td>NaN</td>\n",
       "      <td>ford f-150</td>\n",
       "      <td>good</td>\n",
       "      <td>6.0</td>\n",
       "      <td>gas</td>\n",
       "      <td>88705.0</td>\n",
       "      <td>automatic</td>\n",
       "      <td>pickup</td>\n",
       "      <td>white</td>\n",
       "      <td>1.0</td>\n",
       "      <td>2018-10-19</td>\n",
       "      <td>50</td>\n",
       "    </tr>\n",
       "    <tr>\n",
       "      <td>2</td>\n",
       "      <td>5500</td>\n",
       "      <td>2013.0</td>\n",
       "      <td>hyundai sonata</td>\n",
       "      <td>like new</td>\n",
       "      <td>4.0</td>\n",
       "      <td>gas</td>\n",
       "      <td>110000.0</td>\n",
       "      <td>automatic</td>\n",
       "      <td>sedan</td>\n",
       "      <td>red</td>\n",
       "      <td>NaN</td>\n",
       "      <td>2019-02-07</td>\n",
       "      <td>79</td>\n",
       "    </tr>\n",
       "    <tr>\n",
       "      <td>3</td>\n",
       "      <td>1500</td>\n",
       "      <td>2003.0</td>\n",
       "      <td>ford f-150</td>\n",
       "      <td>fair</td>\n",
       "      <td>8.0</td>\n",
       "      <td>gas</td>\n",
       "      <td>NaN</td>\n",
       "      <td>automatic</td>\n",
       "      <td>pickup</td>\n",
       "      <td>NaN</td>\n",
       "      <td>NaN</td>\n",
       "      <td>2019-03-22</td>\n",
       "      <td>9</td>\n",
       "    </tr>\n",
       "    <tr>\n",
       "      <td>4</td>\n",
       "      <td>14900</td>\n",
       "      <td>2017.0</td>\n",
       "      <td>chrysler 200</td>\n",
       "      <td>excellent</td>\n",
       "      <td>4.0</td>\n",
       "      <td>gas</td>\n",
       "      <td>80903.0</td>\n",
       "      <td>automatic</td>\n",
       "      <td>sedan</td>\n",
       "      <td>black</td>\n",
       "      <td>NaN</td>\n",
       "      <td>2019-04-02</td>\n",
       "      <td>28</td>\n",
       "    </tr>\n",
       "    <tr>\n",
       "      <td>...</td>\n",
       "      <td>...</td>\n",
       "      <td>...</td>\n",
       "      <td>...</td>\n",
       "      <td>...</td>\n",
       "      <td>...</td>\n",
       "      <td>...</td>\n",
       "      <td>...</td>\n",
       "      <td>...</td>\n",
       "      <td>...</td>\n",
       "      <td>...</td>\n",
       "      <td>...</td>\n",
       "      <td>...</td>\n",
       "      <td>...</td>\n",
       "    </tr>\n",
       "    <tr>\n",
       "      <td>51520</td>\n",
       "      <td>9249</td>\n",
       "      <td>2013.0</td>\n",
       "      <td>nissan maxima</td>\n",
       "      <td>like new</td>\n",
       "      <td>6.0</td>\n",
       "      <td>gas</td>\n",
       "      <td>88136.0</td>\n",
       "      <td>automatic</td>\n",
       "      <td>sedan</td>\n",
       "      <td>black</td>\n",
       "      <td>NaN</td>\n",
       "      <td>2018-10-03</td>\n",
       "      <td>37</td>\n",
       "    </tr>\n",
       "    <tr>\n",
       "      <td>51521</td>\n",
       "      <td>2700</td>\n",
       "      <td>2002.0</td>\n",
       "      <td>honda civic</td>\n",
       "      <td>salvage</td>\n",
       "      <td>4.0</td>\n",
       "      <td>gas</td>\n",
       "      <td>181500.0</td>\n",
       "      <td>automatic</td>\n",
       "      <td>sedan</td>\n",
       "      <td>white</td>\n",
       "      <td>NaN</td>\n",
       "      <td>2018-11-14</td>\n",
       "      <td>22</td>\n",
       "    </tr>\n",
       "    <tr>\n",
       "      <td>51522</td>\n",
       "      <td>3950</td>\n",
       "      <td>2009.0</td>\n",
       "      <td>hyundai sonata</td>\n",
       "      <td>excellent</td>\n",
       "      <td>4.0</td>\n",
       "      <td>gas</td>\n",
       "      <td>128000.0</td>\n",
       "      <td>automatic</td>\n",
       "      <td>sedan</td>\n",
       "      <td>blue</td>\n",
       "      <td>NaN</td>\n",
       "      <td>2018-11-15</td>\n",
       "      <td>32</td>\n",
       "    </tr>\n",
       "    <tr>\n",
       "      <td>51523</td>\n",
       "      <td>7455</td>\n",
       "      <td>2013.0</td>\n",
       "      <td>toyota corolla</td>\n",
       "      <td>good</td>\n",
       "      <td>4.0</td>\n",
       "      <td>gas</td>\n",
       "      <td>139573.0</td>\n",
       "      <td>automatic</td>\n",
       "      <td>sedan</td>\n",
       "      <td>black</td>\n",
       "      <td>NaN</td>\n",
       "      <td>2018-07-02</td>\n",
       "      <td>71</td>\n",
       "    </tr>\n",
       "    <tr>\n",
       "      <td>51524</td>\n",
       "      <td>6300</td>\n",
       "      <td>2014.0</td>\n",
       "      <td>nissan altima</td>\n",
       "      <td>good</td>\n",
       "      <td>4.0</td>\n",
       "      <td>gas</td>\n",
       "      <td>NaN</td>\n",
       "      <td>automatic</td>\n",
       "      <td>sedan</td>\n",
       "      <td>NaN</td>\n",
       "      <td>NaN</td>\n",
       "      <td>2018-06-05</td>\n",
       "      <td>10</td>\n",
       "    </tr>\n",
       "  </tbody>\n",
       "</table>\n",
       "<p>51525 rows × 13 columns</p>\n",
       "</div>"
      ],
      "text/plain": [
       "       price  model_year           model  condition  cylinders fuel  odometer  \\\n",
       "0       9400      2011.0          bmw x5       good        6.0  gas  145000.0   \n",
       "1      25500         NaN      ford f-150       good        6.0  gas   88705.0   \n",
       "2       5500      2013.0  hyundai sonata   like new        4.0  gas  110000.0   \n",
       "3       1500      2003.0      ford f-150       fair        8.0  gas       NaN   \n",
       "4      14900      2017.0    chrysler 200  excellent        4.0  gas   80903.0   \n",
       "...      ...         ...             ...        ...        ...  ...       ...   \n",
       "51520   9249      2013.0   nissan maxima   like new        6.0  gas   88136.0   \n",
       "51521   2700      2002.0     honda civic    salvage        4.0  gas  181500.0   \n",
       "51522   3950      2009.0  hyundai sonata  excellent        4.0  gas  128000.0   \n",
       "51523   7455      2013.0  toyota corolla       good        4.0  gas  139573.0   \n",
       "51524   6300      2014.0   nissan altima       good        4.0  gas       NaN   \n",
       "\n",
       "      transmission    type paint_color  is_4wd date_posted  days_listed  \n",
       "0        automatic     SUV         NaN     1.0  2018-06-23           19  \n",
       "1        automatic  pickup       white     1.0  2018-10-19           50  \n",
       "2        automatic   sedan         red     NaN  2019-02-07           79  \n",
       "3        automatic  pickup         NaN     NaN  2019-03-22            9  \n",
       "4        automatic   sedan       black     NaN  2019-04-02           28  \n",
       "...            ...     ...         ...     ...         ...          ...  \n",
       "51520    automatic   sedan       black     NaN  2018-10-03           37  \n",
       "51521    automatic   sedan       white     NaN  2018-11-14           22  \n",
       "51522    automatic   sedan        blue     NaN  2018-11-15           32  \n",
       "51523    automatic   sedan       black     NaN  2018-07-02           71  \n",
       "51524    automatic   sedan         NaN     NaN  2018-06-05           10  \n",
       "\n",
       "[51525 rows x 13 columns]"
      ]
     },
     "execution_count": 1,
     "metadata": {},
     "output_type": "execute_result"
    }
   ],
   "source": [
    "import pandas as pd\n",
    "import datetime as dt\n",
    "import numpy as np\n",
    "df = pd.read_csv('/datasets/vehicles_us.csv')\n",
    "df"
   ]
  },
  {
   "cell_type": "markdown",
   "metadata": {},
   "source": [
    "<div style=\"border:solid orange 2px; padding: 20px\"> <b>Remarks:</b><br>\n",
    "\n",
    "*  Best practice: for convenience, it is common to keep all libraries used in code in a separate cell so that the person who will be using your project can set up the correct environment on his computer \n",
    "    \n",
    "* When outputting tables please use <code>head()</code>, <code>tail()</code> or <code>sample()</code> that show several rows, because otherwise when you use, for example, GitHub, to build a portfolio of projects your table will expand all the way around and take up a lot of space \n",
    "\n",
    "*   The `describe()` function is very useful in getting to know the data. In this case, it looks much more indicative if the output is expanded by `df.describe().T`. In future projects, the `include` argument may come in handy - `df.describe(include = ['object']` is used to analyse categorical values.\n",
    "    \n",
    "</div>   "
   ]
  },
  {
   "cell_type": "code",
   "execution_count": 2,
   "metadata": {},
   "outputs": [
    {
     "name": "stdout",
     "output_type": "stream",
     "text": [
      "<class 'pandas.core.frame.DataFrame'>\n",
      "RangeIndex: 51525 entries, 0 to 51524\n",
      "Data columns (total 13 columns):\n",
      "price           51525 non-null int64\n",
      "model_year      47906 non-null float64\n",
      "model           51525 non-null object\n",
      "condition       51525 non-null object\n",
      "cylinders       46265 non-null float64\n",
      "fuel            51525 non-null object\n",
      "odometer        43633 non-null float64\n",
      "transmission    51525 non-null object\n",
      "type            51525 non-null object\n",
      "paint_color     42258 non-null object\n",
      "is_4wd          25572 non-null float64\n",
      "date_posted     51525 non-null object\n",
      "days_listed     51525 non-null int64\n",
      "dtypes: float64(4), int64(2), object(7)\n",
      "memory usage: 5.1+ MB\n"
     ]
    }
   ],
   "source": [
    "df.info()"
   ]
  },
  {
   "cell_type": "markdown",
   "metadata": {},
   "source": [
    "### Conclusion"
   ]
  },
  {
   "cell_type": "markdown",
   "metadata": {},
   "source": [
    "The dataset contains the following fields:\n",
    "\n",
    "* <strong><em>price</em></strong> - price of the vehicle as published, there are values equal to 1.\n",
    "* <strong><em>model_year</em></strong> - there are missing values and the type is float \n",
    "* <strong><em>model</em></strong>\n",
    "* <strong><em>condition</em></strong> - there are six types of conditions: new, like new, excellent, good, fair, salvage\n",
    "* <strong><em>cylinders</em></strong> - there are missing values and the type is float\n",
    "* <strong><em>fuel</em></strong> - gas, diesel, etc.\n",
    "* <strong><em>odometer</em></strong> - the vehicle's mileage when the ad was published. there are missing values\n",
    "* <strong><em>transmission</em></strong> - there are three types of transmission: automatic, manual transmission and other\n",
    "* <strong><em>paint_color</em></strong> - there are missing values\n",
    "* <strong><em>is_4wd</em></strong> - whether the vehicle has 4-wheel drive (Boolean type)\n",
    "* <strong><em>date_posted</em></strong> - the date the ad was published\n",
    "* <strong><em>days_listed</em></strong> - from publication to removal\n",
    "\n",
    "The aim is to study data collected over the last few years and determine which factors influence the price of a vehicle.\n"
   ]
  },
  {
   "cell_type": "markdown",
   "metadata": {},
   "source": [
    "<div style=\"border:solid green 2px; padding: 20px\"> <b>Success:</b><br>\n",
    "    Well done for describing data omissions, data types and describing the tasks to be performed in the project ☺️</div> "
   ]
  },
  {
   "cell_type": "markdown",
   "metadata": {},
   "source": [
    "## Data preprocessing"
   ]
  },
  {
   "cell_type": "markdown",
   "metadata": {},
   "source": [
    "In order to arrange the data and fill in the missing values I chekced what dataset contains and accordingly I filled the missing values"
   ]
  },
  {
   "cell_type": "markdown",
   "metadata": {},
   "source": [
    "**In general, I checked for duplicat data:**"
   ]
  },
  {
   "cell_type": "code",
   "execution_count": 3,
   "metadata": {},
   "outputs": [
    {
     "data": {
      "text/plain": [
       "0"
      ]
     },
     "execution_count": 3,
     "metadata": {},
     "output_type": "execute_result"
    }
   ],
   "source": [
    "df.duplicated().sum()"
   ]
  },
  {
   "cell_type": "markdown",
   "metadata": {},
   "source": [
    "<div style=\"border:solid green 2px; padding: 20px\"> <b>Success:</b><br>\n",
    "   It's great that you checked if there are duplicates  in our dataset :)</div> "
   ]
  },
  {
   "cell_type": "markdown",
   "metadata": {},
   "source": [
    "**To fill the missing values in model_year column, I checked what the average of mileage per year for rows contains model_year and odometer, so that I can then calculate model_year according to the year of date_posted and the mileage:**"
   ]
  },
  {
   "cell_type": "code",
   "execution_count": 4,
   "metadata": {},
   "outputs": [],
   "source": [
    "#Exclude only the data that have both model_yeare and mileage\n",
    "df_check=df.query('model_year != \"NaN\" and odometer != \"NaN\"')\n",
    "\n",
    "median_year = df_check['model_year'].median()\n",
    "median_odometer = df_check['odometer'].median()\n",
    "\n",
    "#Change the format of date_posted column to datetime in order to extract the year of posted\n",
    "df['date_posted'] = pd.to_datetime(df['date_posted'], format='%Y-%m-%d')\n",
    "df['year'] = pd.DatetimeIndex(df['date_posted']).year\n",
    "\n",
    "#Calculate the average mileage using median odometer divide by the difference between year posted and median of years\n",
    "average_mileage = median_odometer/(df['year']-median_year)"
   ]
  },
  {
   "cell_type": "markdown",
   "metadata": {},
   "source": [
    "<s><div style=\"border:solid red 2px; padding: 20px\"> <b>Needs fixing:</b><br>\n",
    "   \n",
    "   Can you please get 2019 by writing code because it's a fact of hardcoding. I'll give you a hint, you can use the method you used below: `pd.DatetimeIndex(df['date_posted']).year`. And please note that the year of publication is not always 2019 </div>"
   ]
  },
  {
   "cell_type": "markdown",
   "metadata": {},
   "source": [
    "<div class=\"alert alert-info\" style=\"border:solid blue 2px; padding: 20px\"> <b>Student comment:</b> You're really right! It makes a lot a lot more sense than I wrote </div>"
   ]
  },
  {
   "cell_type": "markdown",
   "metadata": {},
   "source": [
    "<div style=\"border:solid green 2px; padding: 20px\"> <b>Success V2:</b><br>\n",
    "    Very well! It's so much better :)</div>       "
   ]
  },
  {
   "cell_type": "code",
   "execution_count": 5,
   "metadata": {},
   "outputs": [],
   "source": [
    "#Fill in the missing values of model_year according to year of posted and odometer\n",
    "df['model_year']=df['model_year'].fillna(df['year']-df['odometer']/average_mileage)\n",
    "\n",
    "#For vehicles that do not have mileage, I filled in median of model_year for each model\n",
    "df['model_year'] = df['model_year'].fillna(df.groupby(['model'])['model_year'].transform('median'))\n",
    "\n",
    "#Change the type of model_year to int because these are whole years\n",
    "df['model_year']=df['model_year'].astype(int)"
   ]
  },
  {
   "cell_type": "markdown",
   "metadata": {},
   "source": [
    "<div style=\"border:solid green 2px; padding: 20px\"> <b>Success:</b><br>\n",
    "    Thank you for your bright idea and out-of-the-box approach!\n",
    "\n",
    "</div> "
   ]
  },
  {
   "cell_type": "markdown",
   "metadata": {},
   "source": [
    "<div style=\"border:solid red 2px; padding: 20px\"> <b>Needs fixing:</b><br>\n",
    "  <s> It is logical to assume that the mileage and price are related to the condition of the car, the number of cylinders and the year are related to its model. In this case, it would work better to fill in the missing values with medians, using groupings based on these parameters. Like this:\n",
    "   <code> df['model_year'] = df['model_year'].fillna(df.groupby(['model'])['model_year'].transform('median') </code>\n",
    "    \n",
    "    \n",
    " Using <code>df['model_year']=df['model_year'].fillna(df['model_year'].median())</code> you actually filled all missing model_year values with one year, regardless of car model. </s>\n",
    "\n",
    "  Please visit the link about how to deal with missing data:\n",
    "\n",
    "<ul>\n",
    "        <li><a>https://towardsdatascience.com/how-to-deal-with-missing-data-in-python-1f74a9112d93</a></li>\n",
    "</div>   "
   ]
  },
  {
   "cell_type": "markdown",
   "metadata": {},
   "source": [
    "<div class=\"alert alert-info\" style=\"border:solid blue 2px; padding: 20px\"> <b>Student comment:</b> Yes, I agree with you. I changed according to how you wrote it. And of course it is much more elegant and logical </div>"
   ]
  },
  {
   "cell_type": "markdown",
   "metadata": {},
   "source": [
    "<div style=\"border:solid green 2px; padding: 20px\"> <b>Success:</b><br>\n",
    "    👍 </div>       "
   ]
  },
  {
   "cell_type": "markdown",
   "metadata": {},
   "source": [
    "**To fill in missing values of odometer column according to average mileage multiple of age of vehicle:**"
   ]
  },
  {
   "cell_type": "code",
   "execution_count": 6,
   "metadata": {},
   "outputs": [],
   "source": [
    "#Day of the week and month the ad was placed in order to use months where the age of vehicle is 0\n",
    "df['month'] = pd.DatetimeIndex(df['date_posted']).month\n",
    "df['weekday'] = df['date_posted'].dt.weekday"
   ]
  },
  {
   "cell_type": "markdown",
   "metadata": {},
   "source": [
    "<div style=\"border:solid green 2px; padding: 20px\"> <b>Success:</b><br>\n",
    "    Well done, you got the months, days of the week and year right.</div> "
   ]
  },
  {
   "cell_type": "code",
   "execution_count": 7,
   "metadata": {},
   "outputs": [],
   "source": [
    "#Function to fill in missing values according to age of vehicle and average_mileage    \n",
    "df['odometer']=df['odometer'].fillna(((df['year']-df['model_year'])+df['month']/12)*average_mileage)"
   ]
  },
  {
   "cell_type": "markdown",
   "metadata": {},
   "source": [
    "<div style=\"border:solid green 2px; padding: 20px\"> <b>Success:</b><br>\n",
    "    It's great that you wrote your own function to fill in missing values according to age of vehicle and average mileage ☺️  </div>  "
   ]
  },
  {
   "cell_type": "markdown",
   "metadata": {},
   "source": [
    "<div class=\"alert alert-info\" style=\"border:solid blue 2px; padding: 20px\"> <b>Student comment:</b> Because the average mileage became a dependent value (in the year of posted), it was too difficult for the function to calculate everything, so I changed it to such a command ⬆️ </div> "
   ]
  },
  {
   "cell_type": "markdown",
   "metadata": {},
   "source": [
    "<div style=\"border:solid green 2px; padding: 20px\"> <b>Success V2:</b><br>\n",
    "    Ok, I see :)</div>       "
   ]
  },
  {
   "cell_type": "markdown",
   "metadata": {},
   "source": [
    "**More filling of missing values in the rest of the columns:**"
   ]
  },
  {
   "cell_type": "code",
   "execution_count": 8,
   "metadata": {},
   "outputs": [],
   "source": [
    "#Filling missing values of cylinders to median (median and mean are almost the same), and change the type to int\n",
    "df['cylinders']=df['cylinders'].fillna(df.groupby(['model'])['cylinders'].transform('median')) \n",
    "df['cylinders']=df['cylinders'].astype(int)\n",
    "\n",
    "#Filling missing values of paint_color to unknown (another group of color)\n",
    "df['paint_color']=df['paint_color'].fillna('unknown')\n",
    "\n",
    "#Raplace Nan to 0 in is_4wd column because it is Boolean variable and change the type to int\n",
    "df['is_4wd']=df['is_4wd'].fillna(0)\n",
    "df['is_4wd']=df['is_4wd'].astype(int)\n",
    "\n",
    "#Change the type of price column to float\n",
    "df['price']=df['price'].astype(float)"
   ]
  },
  {
   "cell_type": "markdown",
   "metadata": {},
   "source": [
    "<div style=\"border:solid green 2px; padding: 20px\"> <b>Success:</b><br>\n",
    "    Lack of values is also an important signal that should not be hidden. Well done for marking the empty values of paint_color and is_4wd columns 👍</div>       "
   ]
  },
  {
   "cell_type": "markdown",
   "metadata": {},
   "source": [
    "<s><div style=\"border:solid red 2px; padding: 20px\"> <b>Needs fixing:</b><br>\n",
    "\n",
    "* The same. To fill missing values in  <code>cylinders</code> column depending on model car you can use: \n",
    "    \n",
    "<code> df['model_year'] = df['cylinders'].fillna(df.groupby(['model'])['cylinders'].transform('median') </code> \n",
    "\n",
    "\n",
    " <code>price</code> and <code>odometer</code> are better suited to float because they can potentially take fractional values.\n",
    "\n",
    "*  Please, write the conclusion here.</div>    "
   ]
  },
  {
   "cell_type": "markdown",
   "metadata": {},
   "source": [
    "<div class=\"alert alert-info\" style=\"border:solid blue 2px; padding: 20px\"> <b>Student comment:</b> I agree with you about the code. Thanks!, and I changed the type of price and odometer column.\n",
    "</div> "
   ]
  },
  {
   "cell_type": "markdown",
   "metadata": {},
   "source": [
    "<s><div style=\"border:solid red 2px; padding: 20px\"> <b>Needs fixing:</b><br>\n",
    "    Please, write the conclusion here.</div>"
   ]
  },
  {
   "cell_type": "markdown",
   "metadata": {},
   "source": [
    "<div style=\"border:solid green 2px; padding: 20px\"> <b>Success:</b><br>\n",
    "    Well done! Thanks for the corrections.</div>       "
   ]
  },
  {
   "cell_type": "markdown",
   "metadata": {},
   "source": [
    "**Counclusion:**\n",
    "\n",
    "The missing values were filled in using different methods:\n",
    "* In the model_year column, the values are filled in considering the average mileage per year, mileage and year of posted\n",
    "* In the cylinders column, the missing values are filled in average of the cylinders for model vehicles\n",
    "* In the odometer column the missing values are filled in using the vehicle age multiplied by the average mileage per year\n",
    "* In a paint_color column, a vehicle whose color is unknown is filled with the word \"unknown\"\n",
    "* The type of price column changed to float, model_year to int, cylinders to int, is_4wd to int, and date_posted to datetime - all the changes according to the values their contain."
   ]
  },
  {
   "cell_type": "markdown",
   "metadata": {},
   "source": [
    "## Make calculations and add them to the table"
   ]
  },
  {
   "cell_type": "markdown",
   "metadata": {},
   "source": [
    "**In order to prepare for the data analysis, I added columns to the table to help me with the analysis:**"
   ]
  },
  {
   "cell_type": "code",
   "execution_count": 9,
   "metadata": {},
   "outputs": [],
   "source": [
    "#Performed above: day of the week, month, and year the ad was placed"
   ]
  },
  {
   "cell_type": "code",
   "execution_count": 10,
   "metadata": {},
   "outputs": [],
   "source": [
    "#The vehicle's age (in years) when the ad was placed in order to know what the age of the vehicle\n",
    "df['vehicle_age']=df['year']-df['model_year']"
   ]
  },
  {
   "cell_type": "markdown",
   "metadata": {},
   "source": [
    "**In order not to have missing values, a function that returns 0 when the mileage or vehicle age is zero, and the average \n",
    "mileage per year when it is not equal to 0:**"
   ]
  },
  {
   "cell_type": "code",
   "execution_count": 11,
   "metadata": {},
   "outputs": [],
   "source": [
    "#The vehicle's average mileage per year\n",
    "df['average_mileage_per_year']=df['odometer']/df['vehicle_age']\n",
    "df['average_mileage_per_year']=df['average_mileage_per_year'].fillna(0)"
   ]
  },
  {
   "cell_type": "markdown",
   "metadata": {},
   "source": [
    "<s><div style=\"border:solid orange 2px; padding: 20px\"> <b>Remarks:</b><br>\n",
    "   \n",
    "   Here you can use `df['average_mileage_per_year'] = df['odometer'] / df['vehicle_age']` and after that just use  `fillna(0)`. This will help speed up the code and make it more compact.   </div>   "
   ]
  },
  {
   "cell_type": "markdown",
   "metadata": {},
   "source": [
    "<div class=\"alert alert-info\" style=\"border:solid blue 2px; padding: 20px\"> <b>Student comment:</b> Absolutely right!\n",
    "</div> "
   ]
  },
  {
   "cell_type": "markdown",
   "metadata": {},
   "source": [
    "<div style=\"border:solid green 2px; padding: 20px\"> <b>Success V2:</b><br>\n",
    "    Thanks a lot for working even on the \"improve\" comments ☺️</div>   "
   ]
  },
  {
   "cell_type": "code",
   "execution_count": 12,
   "metadata": {},
   "outputs": [],
   "source": [
    "#Replace string values with a numeric scale\n",
    "df=df.replace({'condition' : {'new' : 5, 'like new' : 4, 'excellent' : 3, 'good' : 2, 'fair' : 1, 'salvage' :0}})"
   ]
  },
  {
   "cell_type": "markdown",
   "metadata": {},
   "source": [
    "<div style=\"border:solid green 2px; padding: 20px\"> <b>Success:</b><br>\n",
    "    Yes, absolutely correct. Good job! :)</div>       \n",
    "<br></div>       "
   ]
  },
  {
   "cell_type": "markdown",
   "metadata": {},
   "source": [
    "**Check for changes made after steps 2 and 3:**"
   ]
  },
  {
   "cell_type": "code",
   "execution_count": 13,
   "metadata": {},
   "outputs": [
    {
     "name": "stdout",
     "output_type": "stream",
     "text": [
      "<class 'pandas.core.frame.DataFrame'>\n",
      "RangeIndex: 51525 entries, 0 to 51524\n",
      "Data columns (total 18 columns):\n",
      "price                       51525 non-null float64\n",
      "model_year                  51525 non-null int64\n",
      "model                       51525 non-null object\n",
      "condition                   51525 non-null int64\n",
      "cylinders                   51525 non-null int64\n",
      "fuel                        51525 non-null object\n",
      "odometer                    51525 non-null float64\n",
      "transmission                51525 non-null object\n",
      "type                        51525 non-null object\n",
      "paint_color                 51525 non-null object\n",
      "is_4wd                      51525 non-null int64\n",
      "date_posted                 51525 non-null datetime64[ns]\n",
      "days_listed                 51525 non-null int64\n",
      "year                        51525 non-null int64\n",
      "month                       51525 non-null int64\n",
      "weekday                     51525 non-null int64\n",
      "vehicle_age                 51525 non-null int64\n",
      "average_mileage_per_year    51525 non-null float64\n",
      "dtypes: datetime64[ns](1), float64(3), int64(9), object(5)\n",
      "memory usage: 7.1+ MB\n"
     ]
    }
   ],
   "source": [
    "df.info()"
   ]
  },
  {
   "cell_type": "code",
   "execution_count": 14,
   "metadata": {},
   "outputs": [
    {
     "data": {
      "text/html": [
       "<div>\n",
       "<style scoped>\n",
       "    .dataframe tbody tr th:only-of-type {\n",
       "        vertical-align: middle;\n",
       "    }\n",
       "\n",
       "    .dataframe tbody tr th {\n",
       "        vertical-align: top;\n",
       "    }\n",
       "\n",
       "    .dataframe thead th {\n",
       "        text-align: right;\n",
       "    }\n",
       "</style>\n",
       "<table border=\"1\" class=\"dataframe\">\n",
       "  <thead>\n",
       "    <tr style=\"text-align: right;\">\n",
       "      <th></th>\n",
       "      <th>price</th>\n",
       "      <th>model_year</th>\n",
       "      <th>model</th>\n",
       "      <th>condition</th>\n",
       "      <th>cylinders</th>\n",
       "      <th>fuel</th>\n",
       "      <th>odometer</th>\n",
       "      <th>transmission</th>\n",
       "      <th>type</th>\n",
       "      <th>paint_color</th>\n",
       "      <th>is_4wd</th>\n",
       "      <th>date_posted</th>\n",
       "      <th>days_listed</th>\n",
       "      <th>year</th>\n",
       "      <th>month</th>\n",
       "      <th>weekday</th>\n",
       "      <th>vehicle_age</th>\n",
       "      <th>average_mileage_per_year</th>\n",
       "    </tr>\n",
       "  </thead>\n",
       "  <tbody>\n",
       "    <tr>\n",
       "      <td>0</td>\n",
       "      <td>9400.0</td>\n",
       "      <td>2011</td>\n",
       "      <td>bmw x5</td>\n",
       "      <td>2</td>\n",
       "      <td>6</td>\n",
       "      <td>gas</td>\n",
       "      <td>145000.000000</td>\n",
       "      <td>automatic</td>\n",
       "      <td>SUV</td>\n",
       "      <td>unknown</td>\n",
       "      <td>1</td>\n",
       "      <td>2018-06-23</td>\n",
       "      <td>19</td>\n",
       "      <td>2018</td>\n",
       "      <td>6</td>\n",
       "      <td>5</td>\n",
       "      <td>7</td>\n",
       "      <td>20714.285714</td>\n",
       "    </tr>\n",
       "    <tr>\n",
       "      <td>1</td>\n",
       "      <td>25500.0</td>\n",
       "      <td>2012</td>\n",
       "      <td>ford f-150</td>\n",
       "      <td>2</td>\n",
       "      <td>6</td>\n",
       "      <td>gas</td>\n",
       "      <td>88705.000000</td>\n",
       "      <td>automatic</td>\n",
       "      <td>pickup</td>\n",
       "      <td>white</td>\n",
       "      <td>1</td>\n",
       "      <td>2018-10-19</td>\n",
       "      <td>50</td>\n",
       "      <td>2018</td>\n",
       "      <td>10</td>\n",
       "      <td>4</td>\n",
       "      <td>6</td>\n",
       "      <td>14784.166667</td>\n",
       "    </tr>\n",
       "    <tr>\n",
       "      <td>2</td>\n",
       "      <td>5500.0</td>\n",
       "      <td>2013</td>\n",
       "      <td>hyundai sonata</td>\n",
       "      <td>4</td>\n",
       "      <td>4</td>\n",
       "      <td>gas</td>\n",
       "      <td>110000.000000</td>\n",
       "      <td>automatic</td>\n",
       "      <td>sedan</td>\n",
       "      <td>red</td>\n",
       "      <td>0</td>\n",
       "      <td>2019-02-07</td>\n",
       "      <td>79</td>\n",
       "      <td>2019</td>\n",
       "      <td>2</td>\n",
       "      <td>3</td>\n",
       "      <td>6</td>\n",
       "      <td>18333.333333</td>\n",
       "    </tr>\n",
       "    <tr>\n",
       "      <td>3</td>\n",
       "      <td>1500.0</td>\n",
       "      <td>2003</td>\n",
       "      <td>ford f-150</td>\n",
       "      <td>1</td>\n",
       "      <td>8</td>\n",
       "      <td>gas</td>\n",
       "      <td>229531.250000</td>\n",
       "      <td>automatic</td>\n",
       "      <td>pickup</td>\n",
       "      <td>unknown</td>\n",
       "      <td>0</td>\n",
       "      <td>2019-03-22</td>\n",
       "      <td>9</td>\n",
       "      <td>2019</td>\n",
       "      <td>3</td>\n",
       "      <td>4</td>\n",
       "      <td>16</td>\n",
       "      <td>14345.703125</td>\n",
       "    </tr>\n",
       "    <tr>\n",
       "      <td>4</td>\n",
       "      <td>14900.0</td>\n",
       "      <td>2017</td>\n",
       "      <td>chrysler 200</td>\n",
       "      <td>3</td>\n",
       "      <td>4</td>\n",
       "      <td>gas</td>\n",
       "      <td>80903.000000</td>\n",
       "      <td>automatic</td>\n",
       "      <td>sedan</td>\n",
       "      <td>black</td>\n",
       "      <td>0</td>\n",
       "      <td>2019-04-02</td>\n",
       "      <td>28</td>\n",
       "      <td>2019</td>\n",
       "      <td>4</td>\n",
       "      <td>1</td>\n",
       "      <td>2</td>\n",
       "      <td>40451.500000</td>\n",
       "    </tr>\n",
       "    <tr>\n",
       "      <td>...</td>\n",
       "      <td>...</td>\n",
       "      <td>...</td>\n",
       "      <td>...</td>\n",
       "      <td>...</td>\n",
       "      <td>...</td>\n",
       "      <td>...</td>\n",
       "      <td>...</td>\n",
       "      <td>...</td>\n",
       "      <td>...</td>\n",
       "      <td>...</td>\n",
       "      <td>...</td>\n",
       "      <td>...</td>\n",
       "      <td>...</td>\n",
       "      <td>...</td>\n",
       "      <td>...</td>\n",
       "      <td>...</td>\n",
       "      <td>...</td>\n",
       "      <td>...</td>\n",
       "    </tr>\n",
       "    <tr>\n",
       "      <td>51520</td>\n",
       "      <td>9249.0</td>\n",
       "      <td>2013</td>\n",
       "      <td>nissan maxima</td>\n",
       "      <td>4</td>\n",
       "      <td>6</td>\n",
       "      <td>gas</td>\n",
       "      <td>88136.000000</td>\n",
       "      <td>automatic</td>\n",
       "      <td>sedan</td>\n",
       "      <td>black</td>\n",
       "      <td>0</td>\n",
       "      <td>2018-10-03</td>\n",
       "      <td>37</td>\n",
       "      <td>2018</td>\n",
       "      <td>10</td>\n",
       "      <td>2</td>\n",
       "      <td>5</td>\n",
       "      <td>17627.200000</td>\n",
       "    </tr>\n",
       "    <tr>\n",
       "      <td>51521</td>\n",
       "      <td>2700.0</td>\n",
       "      <td>2002</td>\n",
       "      <td>honda civic</td>\n",
       "      <td>0</td>\n",
       "      <td>4</td>\n",
       "      <td>gas</td>\n",
       "      <td>181500.000000</td>\n",
       "      <td>automatic</td>\n",
       "      <td>sedan</td>\n",
       "      <td>white</td>\n",
       "      <td>0</td>\n",
       "      <td>2018-11-14</td>\n",
       "      <td>22</td>\n",
       "      <td>2018</td>\n",
       "      <td>11</td>\n",
       "      <td>2</td>\n",
       "      <td>16</td>\n",
       "      <td>11343.750000</td>\n",
       "    </tr>\n",
       "    <tr>\n",
       "      <td>51522</td>\n",
       "      <td>3950.0</td>\n",
       "      <td>2009</td>\n",
       "      <td>hyundai sonata</td>\n",
       "      <td>3</td>\n",
       "      <td>4</td>\n",
       "      <td>gas</td>\n",
       "      <td>128000.000000</td>\n",
       "      <td>automatic</td>\n",
       "      <td>sedan</td>\n",
       "      <td>blue</td>\n",
       "      <td>0</td>\n",
       "      <td>2018-11-15</td>\n",
       "      <td>32</td>\n",
       "      <td>2018</td>\n",
       "      <td>11</td>\n",
       "      <td>3</td>\n",
       "      <td>9</td>\n",
       "      <td>14222.222222</td>\n",
       "    </tr>\n",
       "    <tr>\n",
       "      <td>51523</td>\n",
       "      <td>7455.0</td>\n",
       "      <td>2013</td>\n",
       "      <td>toyota corolla</td>\n",
       "      <td>2</td>\n",
       "      <td>4</td>\n",
       "      <td>gas</td>\n",
       "      <td>139573.000000</td>\n",
       "      <td>automatic</td>\n",
       "      <td>sedan</td>\n",
       "      <td>black</td>\n",
       "      <td>0</td>\n",
       "      <td>2018-07-02</td>\n",
       "      <td>71</td>\n",
       "      <td>2018</td>\n",
       "      <td>7</td>\n",
       "      <td>0</td>\n",
       "      <td>5</td>\n",
       "      <td>27914.600000</td>\n",
       "    </tr>\n",
       "    <tr>\n",
       "      <td>51524</td>\n",
       "      <td>6300.0</td>\n",
       "      <td>2014</td>\n",
       "      <td>nissan altima</td>\n",
       "      <td>2</td>\n",
       "      <td>4</td>\n",
       "      <td>gas</td>\n",
       "      <td>72642.857143</td>\n",
       "      <td>automatic</td>\n",
       "      <td>sedan</td>\n",
       "      <td>unknown</td>\n",
       "      <td>0</td>\n",
       "      <td>2018-06-05</td>\n",
       "      <td>10</td>\n",
       "      <td>2018</td>\n",
       "      <td>6</td>\n",
       "      <td>1</td>\n",
       "      <td>4</td>\n",
       "      <td>18160.714286</td>\n",
       "    </tr>\n",
       "  </tbody>\n",
       "</table>\n",
       "<p>51525 rows × 18 columns</p>\n",
       "</div>"
      ],
      "text/plain": [
       "         price  model_year           model  condition  cylinders fuel  \\\n",
       "0       9400.0        2011          bmw x5          2          6  gas   \n",
       "1      25500.0        2012      ford f-150          2          6  gas   \n",
       "2       5500.0        2013  hyundai sonata          4          4  gas   \n",
       "3       1500.0        2003      ford f-150          1          8  gas   \n",
       "4      14900.0        2017    chrysler 200          3          4  gas   \n",
       "...        ...         ...             ...        ...        ...  ...   \n",
       "51520   9249.0        2013   nissan maxima          4          6  gas   \n",
       "51521   2700.0        2002     honda civic          0          4  gas   \n",
       "51522   3950.0        2009  hyundai sonata          3          4  gas   \n",
       "51523   7455.0        2013  toyota corolla          2          4  gas   \n",
       "51524   6300.0        2014   nissan altima          2          4  gas   \n",
       "\n",
       "            odometer transmission    type paint_color  is_4wd date_posted  \\\n",
       "0      145000.000000    automatic     SUV     unknown       1  2018-06-23   \n",
       "1       88705.000000    automatic  pickup       white       1  2018-10-19   \n",
       "2      110000.000000    automatic   sedan         red       0  2019-02-07   \n",
       "3      229531.250000    automatic  pickup     unknown       0  2019-03-22   \n",
       "4       80903.000000    automatic   sedan       black       0  2019-04-02   \n",
       "...              ...          ...     ...         ...     ...         ...   \n",
       "51520   88136.000000    automatic   sedan       black       0  2018-10-03   \n",
       "51521  181500.000000    automatic   sedan       white       0  2018-11-14   \n",
       "51522  128000.000000    automatic   sedan        blue       0  2018-11-15   \n",
       "51523  139573.000000    automatic   sedan       black       0  2018-07-02   \n",
       "51524   72642.857143    automatic   sedan     unknown       0  2018-06-05   \n",
       "\n",
       "       days_listed  year  month  weekday  vehicle_age  \\\n",
       "0               19  2018      6        5            7   \n",
       "1               50  2018     10        4            6   \n",
       "2               79  2019      2        3            6   \n",
       "3                9  2019      3        4           16   \n",
       "4               28  2019      4        1            2   \n",
       "...            ...   ...    ...      ...          ...   \n",
       "51520           37  2018     10        2            5   \n",
       "51521           22  2018     11        2           16   \n",
       "51522           32  2018     11        3            9   \n",
       "51523           71  2018      7        0            5   \n",
       "51524           10  2018      6        1            4   \n",
       "\n",
       "       average_mileage_per_year  \n",
       "0                  20714.285714  \n",
       "1                  14784.166667  \n",
       "2                  18333.333333  \n",
       "3                  14345.703125  \n",
       "4                  40451.500000  \n",
       "...                         ...  \n",
       "51520              17627.200000  \n",
       "51521              11343.750000  \n",
       "51522              14222.222222  \n",
       "51523              27914.600000  \n",
       "51524              18160.714286  \n",
       "\n",
       "[51525 rows x 18 columns]"
      ]
     },
     "execution_count": 14,
     "metadata": {},
     "output_type": "execute_result"
    }
   ],
   "source": [
    "df"
   ]
  },
  {
   "cell_type": "markdown",
   "metadata": {},
   "source": [
    "**Counclusion:** \n",
    "\n",
    "The following columns have been added and modified:\n",
    "* A condition column was changed from string values to numeric values\n",
    "* Columns year, month and weekday are extracted from the date of posted of the vehicle\n",
    "* The vehicle age column was calculated using the difference between the year of posted and model_year\n",
    "* The average mileage per year is calculated using the mileage divided by the age of the vehicle\n",
    "\n",
    "\n",
    "Using info() it can be seen that the changes were made both in terms of the type of values and in terms of the missing values"
   ]
  },
  {
   "cell_type": "markdown",
   "metadata": {},
   "source": [
    "<div style=\"border:solid green 2px; padding: 20px\"> <b>Success:</b><br>\n",
    "    Very well! Thanks a lot for detailed conclusion 👍</div>       "
   ]
  },
  {
   "cell_type": "markdown",
   "metadata": {},
   "source": [
    "## Carry out exploratory data analysis"
   ]
  },
  {
   "cell_type": "code",
   "execution_count": 15,
   "metadata": {},
   "outputs": [],
   "source": [
    "import matplotlib.pyplot as plt"
   ]
  },
  {
   "cell_type": "markdown",
   "metadata": {},
   "source": [
    "<div style=\"border:solid orange 2px; padding: 20px\"> <b>Remarks:</b><br>\n",
    "    Please the next time keep all libraries  in a separate cell :)  </div>   "
   ]
  },
  {
   "cell_type": "markdown",
   "metadata": {},
   "source": [
    "**Study the following parameters: price, vehicle_age, odometer, cylinders and condition using histograms, check where most of the values of each column are grouped**"
   ]
  },
  {
   "cell_type": "code",
   "execution_count": 16,
   "metadata": {},
   "outputs": [
    {
     "data": {
      "image/png": "[encoded data removed]",
      "text/plain": [
       "<Figure size 576x360 with 1 Axes>"
      ]
     },
     "metadata": {
      "needs_background": "light"
     },
     "output_type": "display_data"
    },
    {
     "data": {
      "image/png": "[encoded data removed]",
      "text/plain": [
       "<Figure size 576x360 with 1 Axes>"
      ]
     },
     "metadata": {
      "needs_background": "light"
     },
     "output_type": "display_data"
    },
    {
     "data": {
      "image/png": "[encoded data removed]",
      "text/plain": [
       "<Figure size 576x360 with 1 Axes>"
      ]
     },
     "metadata": {
      "needs_background": "light"
     },
     "output_type": "display_data"
    },
    {
     "data": {
      "image/png": "[encoded data removed]",
      "text/plain": [
       "<Figure size 576x360 with 1 Axes>"
      ]
     },
     "metadata": {
      "needs_background": "light"
     },
     "output_type": "display_data"
    },
    {
     "data": {
      "image/png": "[encoded data removed]",
      "text/plain": [
       "<Figure size 576x360 with 1 Axes>"
      ]
     },
     "metadata": {
      "needs_background": "light"
     },
     "output_type": "display_data"
    }
   ],
   "source": [
    "df.hist('price', bins=30, figsize=(8,5))\n",
    "plt.gca().set(title='Vehicle Price Histogram', ylabel='number of vehicles', xlabel='price')\n",
    "plt.show()\n",
    "df.hist('vehicle_age', bins=20, figsize=(8,5))\n",
    "plt.gca().set(title='Vehicle Age Histogram', ylabel='number of vehicles', xlabel='vehicle_age')\n",
    "plt.show()\n",
    "df.hist('odometer', bins=30, figsize=(8,5))\n",
    "plt.gca().set(title='Vehicle Mileage Histogram', ylabel='number of vehicles', xlabel='odometer')\n",
    "plt.show()\n",
    "df.hist('cylinders', bins=8, figsize=(8,5))\n",
    "plt.gca().set(title='Vehicle Cylinders Histogram', ylabel='number of vehicles', xlabel='cylinders')\n",
    "plt.show()\n",
    "df.hist('condition', bins=8, figsize=(8,5))\n",
    "plt.gca().set(title='Vehicle Condition Histogram', ylabel='number of vehicles', xlabel='condition')\n",
    "plt.show()"
   ]
  },
  {
   "cell_type": "markdown",
   "metadata": {},
   "source": [
    "<div style=\"border:solid red 2px; padding: 20px\"> <b>Needs fixing:</b><br>\n",
    " <s>   Please sign the x- and y-axis to all graphs.</s> To make your graphs even prettier, here's a link to a tutorial of the matplotlib library:\n",
    "    <ul>\n",
    "        <li><a>https://www.machinelearningplus.com/plots/matplotlib-histogram-python-examples/</a></li>\n",
    "</div>"
   ]
  },
  {
   "cell_type": "markdown",
   "metadata": {},
   "source": [
    "<div class=\"alert alert-info\" style=\"border:solid blue 2px; padding: 20px\"> <b>Student comment:</b> Oh, that's so helpful!\n",
    "</div> "
   ]
  },
  {
   "cell_type": "markdown",
   "metadata": {},
   "source": [
    "<div style=\"border:solid green 2px; padding: 20px\"> <b>Success V2:</b><br>\n",
    "    Glad to be helpful :)</div>  "
   ]
  },
  {
   "cell_type": "markdown",
   "metadata": {},
   "source": [
    "<div style=\"border:solid orange 2px; padding: 20px\"> <b>Remarks:</b><br>\n",
    "    \n",
    "   You can draw graphs through `for` loop. I'll show you an example of how to do it below :)</div>   "
   ]
  },
  {
   "cell_type": "markdown",
   "metadata": {},
   "source": [
    "<div class=\"alert alert-info\" style=\"border:solid blue 2px; padding: 20px\"> <b>Student comment:</b> I love your code!!\n",
    "</div> "
   ]
  },
  {
   "cell_type": "markdown",
   "metadata": {},
   "source": [
    "<div style=\"border:solid green 2px; padding: 20px\"> <b>Success V2:</b><br>\n",
    "    Thanks! 😊</div>  "
   ]
  },
  {
   "cell_type": "code",
   "execution_count": 1,
   "metadata": {},
   "outputs": [
    {
     "ename": "NameError",
     "evalue": "name 'plt' is not defined",
     "output_type": "error",
     "traceback": [
      "\u001b[0;31m---------------------------------------------------------------------------\u001b[0m",
      "\u001b[0;31mNameError\u001b[0m                                 Traceback (most recent call last)",
      "\u001b[0;32m<ipython-input-1-47e58d2972a5>\u001b[0m in \u001b[0;36m<module>\u001b[0;34m\u001b[0m\n\u001b[1;32m      4\u001b[0m \u001b[0mplot_amount\u001b[0m \u001b[0;34m=\u001b[0m \u001b[0mlen\u001b[0m\u001b[0;34m(\u001b[0m\u001b[0mcolumns\u001b[0m\u001b[0;34m)\u001b[0m\u001b[0;34m\u001b[0m\u001b[0;34m\u001b[0m\u001b[0m\n\u001b[1;32m      5\u001b[0m \u001b[0mheight\u001b[0m \u001b[0;34m=\u001b[0m \u001b[0mplot_amount\u001b[0m\u001b[0;34m//\u001b[0m\u001b[0mWIDTH\u001b[0m \u001b[0;34m+\u001b[0m \u001b[0;36m1\u001b[0m\u001b[0;34m\u001b[0m\u001b[0;34m\u001b[0m\u001b[0m\n\u001b[0;32m----> 6\u001b[0;31m \u001b[0mfig\u001b[0m\u001b[0;34m,\u001b[0m \u001b[0maxs\u001b[0m \u001b[0;34m=\u001b[0m \u001b[0mplt\u001b[0m\u001b[0;34m.\u001b[0m\u001b[0msubplots\u001b[0m\u001b[0;34m(\u001b[0m\u001b[0mheight\u001b[0m\u001b[0;34m,\u001b[0m \u001b[0mWIDTH\u001b[0m\u001b[0;34m,\u001b[0m \u001b[0mfigsize\u001b[0m\u001b[0;34m=\u001b[0m\u001b[0;34m(\u001b[0m\u001b[0;36m10\u001b[0m\u001b[0;34m,\u001b[0m \u001b[0;36m5\u001b[0m\u001b[0;34m)\u001b[0m\u001b[0;34m)\u001b[0m\u001b[0;34m\u001b[0m\u001b[0;34m\u001b[0m\u001b[0m\n\u001b[0m\u001b[1;32m      7\u001b[0m \u001b[0mfig\u001b[0m\u001b[0;34m.\u001b[0m\u001b[0msuptitle\u001b[0m\u001b[0;34m(\u001b[0m\u001b[0;34m'Histograms'\u001b[0m\u001b[0;34m,\u001b[0m  \u001b[0my\u001b[0m\u001b[0;34m=\u001b[0m\u001b[0;36m1.03\u001b[0m\u001b[0;34m,\u001b[0m \u001b[0msize\u001b[0m\u001b[0;34m=\u001b[0m\u001b[0;36m14\u001b[0m\u001b[0;34m)\u001b[0m\u001b[0;34m\u001b[0m\u001b[0;34m\u001b[0m\u001b[0m\n\u001b[1;32m      8\u001b[0m \u001b[0;34m\u001b[0m\u001b[0m\n",
      "\u001b[0;31mNameError\u001b[0m: name 'plt' is not defined"
     ]
    }
   ],
   "source": [
    "#Reviewer's code\n",
    "WIDTH = 1\n",
    "columns = ['price', 'vehicle_age', 'odometer', 'cylinders', 'condition'  ]\n",
    "plot_amount = len(columns)\n",
    "height = plot_amount//WIDTH + 1\n",
    "fig, axs = plt.subplots(height, WIDTH, figsize=(10, 5))\n",
    "fig.suptitle('Histograms',  y=1.03, size=14)\n",
    "\n",
    "for item, ax in zip(columns, np.ravel(axs)):\n",
    "    df.hist(item, ax=ax)\n",
    "    ax.set_title(item.capitalize().replace('_', ' '), size=12)\n",
    "    ax.set_xlabel(item)\n",
    "    ax.set_ylabel('number of vehicles')\n",
    "\n",
    "plt.tight_layout()\n",
    "plt.show()"
   ]
  },
  {
   "cell_type": "markdown",
   "metadata": {},
   "source": [
    "* For a price column most values are grouped in the range of 0 to 50,000\n",
    "* For an age column most values are grouped in the range of 0 to 40,000\n",
    "* For an odometer column most values are grouped in the range of 0 to 400,000\n",
    "* For a cylinders column there are four types of cylinders that look outliers (1, 3, 5, 10)\n",
    "* For a condition column there are two types of conditions that look outliers (0, 5)\n",
    "\n",
    "Using IQR I can determine with certainty where the outliers values are"
   ]
  },
  {
   "cell_type": "markdown",
   "metadata": {},
   "source": [
    "<div style=\"border:solid green 2px; padding: 20px\"> <b>Success:</b><br>\n",
    "    Great chart analysis!</div>       "
   ]
  },
  {
   "cell_type": "markdown",
   "metadata": {},
   "source": [
    "**Determine the upper limits of outliers, remove the outliers and store them in a separate DataFrame, and continue the work with the filtered data:**"
   ]
  },
  {
   "cell_type": "code",
   "execution_count": 18,
   "metadata": {},
   "outputs": [
    {
     "data": {
      "image/png": "[encoded data removed]",
      "text/plain": [
       "<Figure size 432x288 with 1 Axes>"
      ]
     },
     "metadata": {
      "needs_background": "light"
     },
     "output_type": "display_data"
    }
   ],
   "source": [
    "#Determine Q1, Q3 and IQR for price to know the limits of outleirs\n",
    "Q1=df['price'].quantile(0.25)\n",
    "Q3=df['price'].quantile(0.75)\n",
    "IQR=Q3-Q1\n",
    "outlier_upper_bound = Q3 + 1.5*IQR\n",
    "new_df=df.query('1<price<@outlier_upper_bound')\n",
    "new_df.hist('price', range=(0, outlier_upper_bound), bins=30)\n",
    "plt.gca().set(title='Vehicle Price Histogram', ylabel='number of vehicles', xlabel='price')\n",
    "plt.show()"
   ]
  },
  {
   "cell_type": "markdown",
   "metadata": {},
   "source": [
    "<s><div style=\"border:solid red 2px; padding: 20px\"> <b>Needs fixing :</b><br>\n",
    "  \n",
    "   Please don't forget about axes captions :) And please use `plt.show()` to hide the graph outputs with text.\n",
    "</div>"
   ]
  },
  {
   "cell_type": "markdown",
   "metadata": {},
   "source": [
    "<div class=\"alert alert-info\" style=\"border:solid blue 2px; padding: 20px\"> <b>Student comment:</b> Thanks for your comment!\n",
    "</div> "
   ]
  },
  {
   "cell_type": "markdown",
   "metadata": {},
   "source": [
    "<div style=\"border:solid green 2px; padding: 20px\"> <b>Success V2:</b><br>\n",
    "   👍</div>  "
   ]
  },
  {
   "cell_type": "code",
   "execution_count": 19,
   "metadata": {},
   "outputs": [
    {
     "data": {
      "image/png": "[encoded data removed]",
      "text/plain": [
       "<Figure size 432x288 with 1 Axes>"
      ]
     },
     "metadata": {
      "needs_background": "light"
     },
     "output_type": "display_data"
    }
   ],
   "source": [
    "#Determine Q1, Q3 and IQR for vehicle_age to know the limits of outleirs\n",
    "Q1=df['vehicle_age'].quantile(0.25)\n",
    "Q3=df['vehicle_age'].quantile(0.75)\n",
    "IQR=Q3-Q1\n",
    "outlier_upper_bound = Q3 + 1.5*IQR\n",
    "new_df=new_df.query('vehicle_age<@outlier_upper_bound')\n",
    "new_df.hist('vehicle_age', range=(0, outlier_upper_bound), bins=20)\n",
    "plt.gca().set(title='Vehicle Age Histogram', ylabel='number of vehicles', xlabel='vahicle_age')\n",
    "plt.show()"
   ]
  },
  {
   "cell_type": "code",
   "execution_count": 20,
   "metadata": {},
   "outputs": [
    {
     "data": {
      "image/png": "[encoded data removed]",
      "text/plain": [
       "<Figure size 432x288 with 1 Axes>"
      ]
     },
     "metadata": {
      "needs_background": "light"
     },
     "output_type": "display_data"
    }
   ],
   "source": [
    "#Determine Q1, Q3 and IQR for odometer to know the limits of outleirs\n",
    "Q1=df['odometer'].quantile(0.25)\n",
    "Q3=df['odometer'].quantile(0.75)\n",
    "IQR=Q3-Q1\n",
    "outlier_upper_bound = Q3 + 1.5*IQR\n",
    "new_df=new_df.query('odometer<@outlier_upper_bound')\n",
    "new_df.hist('odometer', range=(0, outlier_upper_bound), bins=30)\n",
    "plt.gca().set(title='Vehicle Mileage Histogram', ylabel='number of vehicles', xlabel='odometer')\n",
    "plt.show()"
   ]
  },
  {
   "cell_type": "markdown",
   "metadata": {},
   "source": [
    "<s><div style=\"border:solid red 2px; padding: 20px\"> <b>Needs fixing:</b><br>\n",
    "    Nice plots, but please don't forget to add axes captions. \n",
    "And also please write an interpretation of the graphics. What can you say about the distribution and outleirs of the data in the histograms?</div>"
   ]
  },
  {
   "cell_type": "markdown",
   "metadata": {},
   "source": [
    "<div class=\"alert alert-info\" style=\"border:solid blue 2px; padding: 20px\"> <b>Student comment:</b> Yes, the interpretation and explanations for each histogram I wrote below when I finished \"correcting\" all the histograms\n",
    "</div> "
   ]
  },
  {
   "cell_type": "markdown",
   "metadata": {},
   "source": [
    "<div style=\"border:solid green 2px; padding: 20px\"> <b>Success V2:</b><br>\n",
    "    All right, I see :)</div>  "
   ]
  },
  {
   "cell_type": "markdown",
   "metadata": {},
   "source": [
    "**Checking the amount of abnormal values in cylinders and condition columns, and inserting limits according to eye sight from the histogram:**"
   ]
  },
  {
   "cell_type": "code",
   "execution_count": 21,
   "metadata": {},
   "outputs": [
    {
     "data": {
      "text/plain": [
       "568"
      ]
     },
     "execution_count": 21,
     "metadata": {},
     "output_type": "execute_result"
    }
   ],
   "source": [
    "#Check the amount of abnormal values in the cylinders column\n",
    "len(new_df.query('cylinders == 1 or cylinders ==3 or cylinders == 5 or cylinders ==10'))"
   ]
  },
  {
   "cell_type": "markdown",
   "metadata": {},
   "source": [
    "<div style=\"border:solid orange 2px; padding: 20px\"> <b>Remarks:</b><br>\n",
    "  \n",
    "   For better readability it is better to use the number description in `print()` using outputs formatting. This article can help you:\n",
    "    https://www.geeksforgeeks.org/python-output-formatting/</div>   "
   ]
  },
  {
   "cell_type": "code",
   "execution_count": 22,
   "metadata": {},
   "outputs": [],
   "source": [
    "#There are 549 outliers so I will eliminate them from cylinders column\n",
    "new_df=new_df.query('cylinders != 1 and cylinders != 3 and cylinders != 5 and cylinders != 10')"
   ]
  },
  {
   "cell_type": "code",
   "execution_count": 23,
   "metadata": {},
   "outputs": [
    {
     "data": {
      "text/plain": [
       "191"
      ]
     },
     "execution_count": 23,
     "metadata": {},
     "output_type": "execute_result"
    }
   ],
   "source": [
    "#Check the amount of abnormal values in the condition column\n",
    "len(new_df.query('condition == 0 or condition == 5'))"
   ]
  },
  {
   "cell_type": "code",
   "execution_count": 24,
   "metadata": {},
   "outputs": [],
   "source": [
    "#There are 190 outliers so I will eliminate them from condition column\n",
    "new_df=new_df.query('condition != 0 and condition != 5')"
   ]
  },
  {
   "cell_type": "code",
   "execution_count": 25,
   "metadata": {},
   "outputs": [
    {
     "data": {
      "image/png": "[encoded data removed]",
      "text/plain": [
       "<Figure size 720x360 with 6 Axes>"
      ]
     },
     "metadata": {
      "needs_background": "light"
     },
     "output_type": "display_data"
    }
   ],
   "source": [
    "WIDTH = 3\n",
    "columns = ['price', 'vehicle_age', 'odometer', 'cylinders', 'condition']\n",
    "plot_amount = len(columns)\n",
    "height = plot_amount//WIDTH + 1\n",
    "fig, axs = plt.subplots(height, WIDTH, figsize=(10, 5))\n",
    "fig.suptitle('Histograms',  y=1.03, size=14)\n",
    "\n",
    "for item, ax in zip(columns, np.ravel(axs)):\n",
    "    new_df.hist(item, ax=ax)\n",
    "    ax.set_title(item.capitalize().replace('_', ' '), size=12)\n",
    "    ax.set_xlabel(item)\n",
    "    ax.set_ylabel('number of vehicles')\n",
    "\n",
    "plt.tight_layout()\n",
    "plt.show()"
   ]
  },
  {
   "cell_type": "markdown",
   "metadata": {},
   "source": [
    "<div style=\"border:solid green 2px; padding: 20px\"> <b>Success V2:</b><br>\n",
    "    👏👏👏</div>  "
   ]
  },
  {
   "cell_type": "markdown",
   "metadata": {},
   "source": [
    "In general it can be seen that when eliminating the abnormal values there is a zoom in on most of the values that are the most common and therefore will thus better understand the overall picture\n",
    "\n",
    "* For price histogram: according to IQR the accepted values are up to 35000. Specifically I also eliminated the price 1 because a car does not really cost 1 and probably wrote it by mistake (or intentionally) so that when people search for a car by filtering the cheapest to the more expensive these are the first results obtained.\n",
    "* For vehicle age histogram: according to IQR the accepted values are up to age 23.\n",
    "* For odometer histogram: according to IQR the accepted values are up to the 280000 mileage."
   ]
  },
  {
   "cell_type": "markdown",
   "metadata": {},
   "source": [
    "<div style=\"border:solid green 2px; padding: 20px\"> <b>Success:</b><br>\n",
    "    Great job! You plotted histograms for each of the parameters and studied how outliers affect the form and readability of the histograms. Thanks a lot for in-depth analysis!</div>  "
   ]
  },
  {
   "cell_type": "markdown",
   "metadata": {},
   "source": [
    "\n",
    "<b> Study how many days advertisements were displayed \n",
    "* Plot a histogram\n",
    "* Calculate the mean and median. \n",
    "* Describe the typical lifetime of an ad. \n",
    "* Determine when ads were removed quickly, and when they were listed for an abnormally long time.<b>\n"
   ]
  },
  {
   "cell_type": "code",
   "execution_count": 26,
   "metadata": {
    "scrolled": false
   },
   "outputs": [
    {
     "data": {
      "image/png": "[encoded data removed]",
      "text/plain": [
       "<Figure size 432x288 with 1 Axes>"
      ]
     },
     "metadata": {
      "needs_background": "light"
     },
     "output_type": "display_data"
    }
   ],
   "source": [
    "#Histogram for day_listed and mean & median using describe()\n",
    "new_df.hist('days_listed', bins=30)\n",
    "plt.gca().set(title='Days Listed Histogram', ylabel='number of vehicles', xlabel='days_listed')\n",
    "new_df['days_listed'].describe()\n",
    "plt.show()"
   ]
  },
  {
   "cell_type": "code",
   "execution_count": 27,
   "metadata": {},
   "outputs": [
    {
     "data": {
      "image/png": "[encoded data removed]",
      "text/plain": [
       "<Figure size 432x288 with 1 Axes>"
      ]
     },
     "metadata": {
      "needs_background": "light"
     },
     "output_type": "display_data"
    },
    {
     "data": {
      "text/plain": [
       "count    45241.000000\n",
       "mean        36.531553\n",
       "std         23.042638\n",
       "min          0.000000\n",
       "25%         18.000000\n",
       "50%         32.000000\n",
       "75%         51.000000\n",
       "max        103.000000\n",
       "Name: days_listed, dtype: float64"
      ]
     },
     "execution_count": 27,
     "metadata": {},
     "output_type": "execute_result"
    }
   ],
   "source": [
    "Q1=new_df['days_listed'].quantile(0.25)\n",
    "Q3=new_df['days_listed'].quantile(0.75)\n",
    "IQR=Q3-Q1\n",
    "outlier_upper_bound = Q3 + 1.5*IQR\n",
    "new_df=new_df.query('days_listed<@outlier_upper_bound')\n",
    "new_df.hist('days_listed', range=(0, outlier_upper_bound), bins=50)\n",
    "plt.gca().set(title='Days Listed without Outliers Histogram', ylabel='number of vehicles', xlabel='days_listed')\n",
    "plt.show()\n",
    "new_df['days_listed'].describe()"
   ]
  },
  {
   "cell_type": "markdown",
   "metadata": {},
   "source": [
    "It can be seen that in the original histogram there were a maximum of 271 days of days listed. After finding the outliers using IQR it can see the typical number of days listed are between 0 and 103 days when the average is about 36 days."
   ]
  },
  {
   "cell_type": "markdown",
   "metadata": {},
   "source": [
    "<div style=\"border:solid green 2px; padding: 20px\"> <b>Success:</b><br>\n",
    "    Your conclusions are logical and supported by the histogram chart. Great work!</div>       "
   ]
  },
  {
   "cell_type": "markdown",
   "metadata": {},
   "source": [
    "**Determine when ads were removed quickly, and when they were listed for an abnormally long time using Q1, Q3 and mode**"
   ]
  },
  {
   "cell_type": "code",
   "execution_count": 28,
   "metadata": {},
   "outputs": [
    {
     "name": "stdout",
     "output_type": "stream",
     "text": [
      "mode =  18\n",
      "Q1 =  18.0\n",
      "Q3 =  51.0\n"
     ]
    }
   ],
   "source": [
    "mode=new_df['days_listed'].mode().sum()\n",
    "Q1=new_df['days_listed'].quantile(0.25)\n",
    "Q3=new_df['days_listed'].quantile(0.75)\n",
    "\n",
    "print('mode = ', mode)\n",
    "print('Q1 = ', Q1)\n",
    "print('Q3 = ', Q3)"
   ]
  },
  {
   "cell_type": "markdown",
   "metadata": {},
   "source": [
    "<div style=\"border:solid red 2px; padding: 20px\"> <b>Needs fixing:</b><br>\n",
    "  <s>  Please note that in the case of determining whether an ad has been on the site for a long time, using the correlation function is not quite correct. The correlation matrix shows the correlation between the parameters but does not show the length of the event.</s> I'll leave you the links about correlation matrix, it might be helpful:\n",
    "\n",
    " https://www.askpython.com/python/examples/correlation-matrix-in-python\n",
    "    \n",
    " https://likegeeks.com/python-correlation-matrix/\n",
    "    \n",
    "<s>To determine how long an ad has been on the site, a histogram is helpful. We can visually analyze this.</s></div>"
   ]
  },
  {
   "cell_type": "markdown",
   "metadata": {},
   "source": [
    "<div class=\"alert alert-info\" style=\"border:solid blue 2px; padding: 20px\"> <b>Student comment:</b> Yes, I'm trying to change that by looking at the histogram and using Q1, Q3 and mode\n",
    "</div> "
   ]
  },
  {
   "cell_type": "markdown",
   "metadata": {},
   "source": [
    "<div style=\"border:solid green 2px; padding: 20px\"> <b>Success V2:</b><br>\n",
    "    Yes, that's right. Good job!</div>  "
   ]
  },
  {
   "cell_type": "markdown",
   "metadata": {},
   "source": [
    "**Counclusion for days_listed:**\n",
    "\n",
    "According to the limits of Q1 and Q3 together with mode: The typical life time of an ad is 18 days and it is the most common life time, below this time, the ads were remove quickly. And over 51 days the ads were remove after a long time."
   ]
  },
  {
   "cell_type": "markdown",
   "metadata": {},
   "source": [
    "\n",
    "\n",
    "<b>Analyze the number of ads and the average price for each type of vehicle. \n",
    "* Plot a graph showing the dependence of the number of ads on the vehicle type. \n",
    "* Select the two types with the greatest number of ads.<b>"
   ]
  },
  {
   "cell_type": "code",
   "execution_count": 29,
   "metadata": {},
   "outputs": [
    {
     "data": {
      "image/png": "[encoded data removed]",
      "text/plain": [
       "<Figure size 576x360 with 1 Axes>"
      ]
     },
     "metadata": {
      "needs_background": "light"
     },
     "output_type": "display_data"
    }
   ],
   "source": [
    "ad_price=new_df.pivot_table(index='type', values='price', aggfunc=['mean','count'])\n",
    "ad_price.columns=['mean_price', 'number_of_ad']\n",
    "ad_price.plot(kind='bar', figsize=(8,5))\n",
    "plt.gca().set(title='Number of Ads and Mean Price on the Vehicle Type', ylabel='units (price/ads no.)', xlabel='type')\n",
    "plt.show()"
   ]
  },
  {
   "cell_type": "markdown",
   "metadata": {},
   "source": [
    "<s><div style=\"border:solid red 2px; padding: 20px\"> <b>Needs fixing:</b><br>\n",
    "    Please don't forget about chart title and y-axes captions. </div>"
   ]
  },
  {
   "cell_type": "markdown",
   "metadata": {},
   "source": [
    "According bar plot it can be seen that SUV and sedan types are the most popular vehicle types and they have the greates number of ads. Therefore, I will change the new table (new_df) and focus only on the two types of vehicles: SUV and sedan."
   ]
  },
  {
   "cell_type": "markdown",
   "metadata": {},
   "source": [
    "<div style=\"border:solid green 2px; padding: 20px\"> <b>Success:</b><br>\n",
    "    Good analysis 👍</div>       "
   ]
  },
  {
   "cell_type": "code",
   "execution_count": 30,
   "metadata": {},
   "outputs": [],
   "source": [
    "#Focus the table to two types of vehicles: SUV & sedan\n",
    "new_df_model=new_df.query('type==\"SUV\" or type==\"sedan\"')"
   ]
  },
  {
   "cell_type": "markdown",
   "metadata": {},
   "source": [
    "**Study whether the price depends on age, mileage, condition, transmission type, and color, using scatter matrix and boxplot:**"
   ]
  },
  {
   "cell_type": "code",
   "execution_count": 31,
   "metadata": {},
   "outputs": [
    {
     "data": {
      "image/png": "[encoded data removed]",
      "text/plain": [
       "<Figure size 720x720 with 16 Axes>"
      ]
     },
     "metadata": {
      "needs_background": "light"
     },
     "output_type": "display_data"
    }
   ],
   "source": [
    "#Scatter matrix for relationship between price and vehicle_age, odometer or condition:\n",
    "pd.plotting.scatter_matrix(new_df_model[['price', 'vehicle_age', 'odometer', 'condition']], figsize=(10,10), alpha=0.03)\n",
    "plt.suptitle('Scatterplot Matrix of Price, Vehicle Age, Odometer and Condition', y=0.91)\n",
    "plt.show()"
   ]
  },
  {
   "cell_type": "markdown",
   "metadata": {},
   "source": [
    "<div style=\"border:solid green 2px; padding: 20px\"> <b>Success:</b><br>\n",
    "    Wow, well done for using scatter matrix! That's really really great!</div>       \n",
    "<br>"
   ]
  },
  {
   "cell_type": "markdown",
   "metadata": {},
   "source": [
    "<s><div style=\"border:solid red 2px; padding: 20px\"> <b>Needs fixing:</b><br>\n",
    "    \n",
    "   Please don't forget about chart title. You can use: \n",
    "    \n",
    "   `plt.suptitle('Your title', y=0.91)`\n",
    "   \n",
    "   `plt.show()`  </div>"
   ]
  },
  {
   "cell_type": "markdown",
   "metadata": {},
   "source": [
    "<div style=\"border:solid green 2px; padding: 20px\"> <b>Success V2:</b><br>\n",
    "    Great!🙂</div>  "
   ]
  },
  {
   "cell_type": "code",
   "execution_count": 32,
   "metadata": {},
   "outputs": [
    {
     "data": {
      "text/plain": [
       "3    21692\n",
       "2    18207\n",
       "4     4066\n",
       "1     1276\n",
       "Name: condition, dtype: int64"
      ]
     },
     "execution_count": 32,
     "metadata": {},
     "output_type": "execute_result"
    }
   ],
   "source": [
    "#Checking the amount of vehicles in each condition\n",
    "new_df['condition'].value_counts()"
   ]
  },
  {
   "cell_type": "markdown",
   "metadata": {},
   "source": [
    "In general, a positive linear relationship indicates that the two types of values (axis X and axis Y) grow together. A negative linear relationship indicates that one of the two values goes up and one goes down. A straight linear relationship indicates that when one of the values increases, the other value does not change.\n",
    "\n",
    "* The relationship between price and vehicle age: Negative linear relationship - as the price increases the age of the vehicle decreases. This makes sense since the newer the vehicle the more it costs.\n",
    "* The relationship between price and mileage: Negative linear relationship - as the price increases the mileage decreases. This makes sense since the less the vehicle travels, it means it is probably newer and in terms of cost it costs more.\n",
    "* The relationship between price and vehicle condition: There are more vehicles in excellent condition that are in the price range of 0 to 35000 than vehicles in like new condition. Since in terms of quantity of vehicles there are 5 times more vehicles on offer in excellent condition than vehicles in like new condition. So relatively this gap also affects the price distribution and probably if I added the outliers I would see that there in an almost like new condition there are a lot more vehicles which is a lot more money."
   ]
  },
  {
   "cell_type": "markdown",
   "metadata": {},
   "source": [
    "<div style=\"border:solid green 2px; padding: 20px\"> <b>Success:</b><br>\n",
    "   Thanks for the in-depth analysis of the charts 👏👏👏</div>       "
   ]
  },
  {
   "cell_type": "markdown",
   "metadata": {},
   "source": [
    "<s><div style=\"border:solid orange 2px; padding: 20px\"> <b>Remarks:</b><br>\n",
    "    Why did you comment out your code? If you don't need it, it's better to delete it. If it's useful, please make it work. And also it's better to name Dataframe not as a letter but as 'transmission_price', for example.</div>   "
   ]
  },
  {
   "cell_type": "markdown",
   "metadata": {},
   "source": [
    "<div class=\"alert alert-info\" style=\"border:solid blue 2px; padding: 20px\"> <b>Student comment:</b> My mistake 😬. I tried to check something and forgot to delete\n",
    "</div> "
   ]
  },
  {
   "cell_type": "markdown",
   "metadata": {},
   "source": [
    "<div style=\"border:solid green 2px; padding: 20px\"> <b>Success V2:</b><br>\n",
    "    It happens,  no big deal :) </div>  "
   ]
  },
  {
   "cell_type": "code",
   "execution_count": 33,
   "metadata": {},
   "outputs": [
    {
     "data": {
      "image/png": "[encoded data removed]",
      "text/plain": [
       "<Figure size 720x576 with 1 Axes>"
      ]
     },
     "metadata": {
      "needs_background": "light"
     },
     "output_type": "display_data"
    }
   ],
   "source": [
    "#Boxplot for relationship between price and paint_color:\n",
    "import seaborn as sns\n",
    "plt.figure(figsize=(10, 8))\n",
    "sns.boxplot(x=\"paint_color\", y=\"price\", data=new_df_model)\n",
    "plt.suptitle('Boxplots of All Vehicle Colors as a Function of Price', y=0.91)\n",
    "plt.show()"
   ]
  },
  {
   "cell_type": "markdown",
   "metadata": {},
   "source": [
    "<div style=\"border:solid green 2px; padding: 20px\"> <b>Success:</b><br>\n",
    "  \n",
    "   Wow, it's great that you use `seaborn` library 👍 </div>       "
   ]
  },
  {
   "cell_type": "markdown",
   "metadata": {},
   "source": [
    "<s><div style=\"border:solid red 2px; padding: 20px\"> <b>Needs fixing:</b><br>\n",
    "    Thanks for nice chart but please write chart title :)</div>"
   ]
  },
  {
   "cell_type": "code",
   "execution_count": 34,
   "metadata": {},
   "outputs": [
    {
     "data": {
      "text/html": [
       "<div>\n",
       "<style scoped>\n",
       "    .dataframe tbody tr th:only-of-type {\n",
       "        vertical-align: middle;\n",
       "    }\n",
       "\n",
       "    .dataframe tbody tr th {\n",
       "        vertical-align: top;\n",
       "    }\n",
       "\n",
       "    .dataframe thead th {\n",
       "        text-align: right;\n",
       "    }\n",
       "</style>\n",
       "<table border=\"1\" class=\"dataframe\">\n",
       "  <thead>\n",
       "    <tr style=\"text-align: right;\">\n",
       "      <th></th>\n",
       "      <th>count</th>\n",
       "      <th>unique</th>\n",
       "      <th>top</th>\n",
       "      <th>freq</th>\n",
       "    </tr>\n",
       "    <tr>\n",
       "      <th>paint_color</th>\n",
       "      <th></th>\n",
       "      <th></th>\n",
       "      <th></th>\n",
       "      <th></th>\n",
       "    </tr>\n",
       "  </thead>\n",
       "  <tbody>\n",
       "    <tr>\n",
       "      <td>black</td>\n",
       "      <td>3590</td>\n",
       "      <td>64</td>\n",
       "      <td>jeep wrangler</td>\n",
       "      <td>156</td>\n",
       "    </tr>\n",
       "    <tr>\n",
       "      <td>blue</td>\n",
       "      <td>2078</td>\n",
       "      <td>65</td>\n",
       "      <td>honda cr-v</td>\n",
       "      <td>92</td>\n",
       "    </tr>\n",
       "    <tr>\n",
       "      <td>brown</td>\n",
       "      <td>578</td>\n",
       "      <td>58</td>\n",
       "      <td>honda cr-v</td>\n",
       "      <td>48</td>\n",
       "    </tr>\n",
       "    <tr>\n",
       "      <td>custom</td>\n",
       "      <td>513</td>\n",
       "      <td>59</td>\n",
       "      <td>toyota camry</td>\n",
       "      <td>40</td>\n",
       "    </tr>\n",
       "    <tr>\n",
       "      <td>green</td>\n",
       "      <td>585</td>\n",
       "      <td>59</td>\n",
       "      <td>jeep wrangler</td>\n",
       "      <td>60</td>\n",
       "    </tr>\n",
       "    <tr>\n",
       "      <td>grey</td>\n",
       "      <td>2628</td>\n",
       "      <td>66</td>\n",
       "      <td>honda accord</td>\n",
       "      <td>141</td>\n",
       "    </tr>\n",
       "    <tr>\n",
       "      <td>orange</td>\n",
       "      <td>87</td>\n",
       "      <td>17</td>\n",
       "      <td>jeep wrangler</td>\n",
       "      <td>36</td>\n",
       "    </tr>\n",
       "    <tr>\n",
       "      <td>purple</td>\n",
       "      <td>61</td>\n",
       "      <td>32</td>\n",
       "      <td>gmc acadia</td>\n",
       "      <td>10</td>\n",
       "    </tr>\n",
       "    <tr>\n",
       "      <td>red</td>\n",
       "      <td>1692</td>\n",
       "      <td>66</td>\n",
       "      <td>ford escape</td>\n",
       "      <td>89</td>\n",
       "    </tr>\n",
       "    <tr>\n",
       "      <td>silver</td>\n",
       "      <td>3371</td>\n",
       "      <td>64</td>\n",
       "      <td>toyota camry</td>\n",
       "      <td>207</td>\n",
       "    </tr>\n",
       "    <tr>\n",
       "      <td>unknown</td>\n",
       "      <td>4023</td>\n",
       "      <td>67</td>\n",
       "      <td>toyota camry</td>\n",
       "      <td>161</td>\n",
       "    </tr>\n",
       "    <tr>\n",
       "      <td>white</td>\n",
       "      <td>3130</td>\n",
       "      <td>75</td>\n",
       "      <td>ford explorer</td>\n",
       "      <td>118</td>\n",
       "    </tr>\n",
       "    <tr>\n",
       "      <td>yellow</td>\n",
       "      <td>62</td>\n",
       "      <td>19</td>\n",
       "      <td>jeep wrangler</td>\n",
       "      <td>16</td>\n",
       "    </tr>\n",
       "  </tbody>\n",
       "</table>\n",
       "</div>"
      ],
      "text/plain": [
       "            count unique            top freq\n",
       "paint_color                                 \n",
       "black        3590     64  jeep wrangler  156\n",
       "blue         2078     65     honda cr-v   92\n",
       "brown         578     58     honda cr-v   48\n",
       "custom        513     59   toyota camry   40\n",
       "green         585     59  jeep wrangler   60\n",
       "grey         2628     66   honda accord  141\n",
       "orange         87     17  jeep wrangler   36\n",
       "purple         61     32     gmc acadia   10\n",
       "red          1692     66    ford escape   89\n",
       "silver       3371     64   toyota camry  207\n",
       "unknown      4023     67   toyota camry  161\n",
       "white        3130     75  ford explorer  118\n",
       "yellow         62     19  jeep wrangler   16"
      ]
     },
     "execution_count": 34,
     "metadata": {},
     "output_type": "execute_result"
    }
   ],
   "source": [
    "new_df_model.groupby('paint_color')['model'].describe()"
   ]
  },
  {
   "cell_type": "markdown",
   "metadata": {},
   "source": [
    "**An illustration of the differences between a jeep wrangle and other vehicles:**"
   ]
  },
  {
   "cell_type": "code",
   "execution_count": 35,
   "metadata": {},
   "outputs": [
    {
     "data": {
      "text/plain": [
       "count      914.000000\n",
       "mean     15791.722101\n",
       "std       6770.275962\n",
       "min        237.000000\n",
       "25%      11000.000000\n",
       "50%      14988.000000\n",
       "75%      19988.000000\n",
       "max      34555.000000\n",
       "Name: price, dtype: float64"
      ]
     },
     "execution_count": 35,
     "metadata": {},
     "output_type": "execute_result"
    }
   ],
   "source": [
    "a=new_df[new_df['model']=='jeep wrangler']\n",
    "a['price'].describe()"
   ]
  },
  {
   "cell_type": "code",
   "execution_count": 36,
   "metadata": {},
   "outputs": [
    {
     "data": {
      "text/plain": [
       "count    45241.000000\n",
       "mean     11457.404522\n",
       "std       7758.004790\n",
       "min          3.000000\n",
       "25%       5300.000000\n",
       "50%       9000.000000\n",
       "75%      15995.000000\n",
       "max      34595.000000\n",
       "Name: price, dtype: float64"
      ]
     },
     "execution_count": 36,
     "metadata": {},
     "output_type": "execute_result"
    }
   ],
   "source": [
    "new_df['price'].describe()"
   ]
  },
  {
   "cell_type": "markdown",
   "metadata": {},
   "source": [
    "For boxplot for color versus price it can be seen that there is more or less no effect of color on the price other than two exceptional colors: orange and yellow. However, if I dig into details I will pay attention to two things: they are two colors that have very few vehicles and in addition for each of these two colors there is one type of vehicle that dominates. For orange color there are more than 30 percent jeep wrangler type vehicles and for yellow color there are almost 30 percent jeep wrangler type vehicles. This vehicle is considered to be more expensive on average for all types of vehicles and therefore both quantity and quality cause this exception."
   ]
  },
  {
   "cell_type": "markdown",
   "metadata": {},
   "source": [
    "<div style=\"border:solid green 2px; padding: 20px\"> <b>Success:</b><br>\n",
    "   Thanks a lot for the detailed explanation of the charts and logical conclusions 😊</div>     "
   ]
  },
  {
   "cell_type": "code",
   "execution_count": 37,
   "metadata": {},
   "outputs": [
    {
     "data": {
      "text/plain": [
       "<matplotlib.axes._subplots.AxesSubplot at 0x7fe90356ee50>"
      ]
     },
     "execution_count": 37,
     "metadata": {},
     "output_type": "execute_result"
    },
    {
     "data": {
      "image/png": "[encoded data removed]",
      "text/plain": [
       "<Figure size 720x576 with 1 Axes>"
      ]
     },
     "metadata": {
      "needs_background": "light"
     },
     "output_type": "display_data"
    }
   ],
   "source": [
    "#Boxplot for relationship between price and transmission:\n",
    "plt.figure(figsize=(10, 8))\n",
    "sns.boxplot(x=\"transmission\", y=\"price\", data=new_df_model)"
   ]
  },
  {
   "cell_type": "markdown",
   "metadata": {},
   "source": [
    "<div style=\"border:solid orange 2px; padding: 20px\"> <b>Remarks:</b><br>\n",
    "    Please, watch the video below. This is about boxplots, you  might be interested in:\n",
    "     <ul>\n",
    "        <li><a>https://youtu.be/L68iieC2Vgc</a></li>  \n",
    "</div>    "
   ]
  },
  {
   "cell_type": "markdown",
   "metadata": {},
   "source": [
    "Also for boxplot of price against trasmission there are not so many differences between gearbox type and price. An automaton costs a little more than a manual, and for others it is not possible to really know what it contains but relatively it costs a little more.\n",
    "\n",
    "If it's a robotic gearbox (like I have :)) then it's not really significant, but if the other also includes electric vehicles then it could explain that it costs a bit more expensive than the other types."
   ]
  },
  {
   "cell_type": "markdown",
   "metadata": {},
   "source": [
    "<div style=\"border:solid green 2px; padding: 20px\"> <b>Success:</b><br>\n",
    "    Great job!</div>       "
   ]
  },
  {
   "cell_type": "markdown",
   "metadata": {},
   "source": [
    "<s><div style=\"border:solid red 2px; padding: 20px\"> <b>Needs fixing:</b><br>\n",
    "    Could you please write brief conclusions on this module ?</div>"
   ]
  },
  {
   "cell_type": "markdown",
   "metadata": {},
   "source": [
    "**Conclusion**\n",
    "\n",
    "After filling in all the missing values and adding more columns to help me analyze the data, in this section, I removed by setting limits all the abnormal values in the columns: price, mileage, vehicle age, cylinders and condition, and I visually compared what a histogram containing outliers values looks like compared to a histogram that does not have outliers values. It can be seen that the histogram without outleirs gives a clearer picture to the data.\n",
    "\n",
    "Then, I checked how many days an ad is considered to be removed quickly and how many days is considered a long time and I found that below 18 it is considered an ad is removed quickly and above 50 it is considered an ad is removed after a long time.\n",
    "\n",
    "In addition, using a matrix and boxplot I checked which of the parameters affect the price of the vehicle and found that mileage and age of the vehicle affect the price of the vehicle the most."
   ]
  },
  {
   "cell_type": "markdown",
   "metadata": {},
   "source": [
    "<div style=\"border:solid green 2px; padding: 20px\"> <b>Success V2:</b><br>\n",
    "    Great!</div>  "
   ]
  },
  {
   "cell_type": "markdown",
   "metadata": {},
   "source": [
    "## Overall conclusion"
   ]
  },
  {
   "cell_type": "markdown",
   "metadata": {},
   "source": [
    "In this project a table was obtained containing vehicle data for 51525 vehicles published and sold between the years 2018-2019. The aim of the project was to determine which factors affect the final price set for each vehicle.\n",
    "\n",
    "First it was necessary to fill in the missing values in the model_year, cylinders, odometer, paint_color and is_4wd columns and change the column type to the type that would be relevant to the value found in it.\n",
    "\n",
    "Then, new columns were calculated and added containing additional details of year, month, weekday, age of the vehicle and average mileage per year so that it would be helpful when analyzing the data.\n",
    "\n",
    "In order to analyze the data it was necessary to determine the abnormal values for each column and thus reduce the values to those that would be more grouped to a limited range of values. The accepted values for a price column were up to 35000, for a vehicle age column up to 23, for a mileage column up to 280,000, and for days posted up to 97 days.\n",
    "\n",
    "After removing all the outleirs values, a total of 46916 vehicles were obtained (less than 10 percent outleirs) and it was checked whether there was a correlation between one of the columns and the number of days the vehicle was published until it was sold. No strong relationship was found between one of the columns and the number of days and therefore it is not possible to determine unequivocally why some vehicles wait a long time until their sale compared to other vehicles that sold quickly.\n",
    "\n",
    "Next, I then examined which two types of vehicles are the most common and therefore the values were further reduced. It was found that the two most popular types of vehicles are SUV and sedan and there are 22229 values left and then I will examine which factors affect the price:\n",
    "\n",
    "It was found that there is an inverse and strong relationship between price and age of the vehicle, the newer the vehicle (lower age) the higher the price. There is an inverse and strong relationship between price and mileage, the lower the mileage the higher the price. There is a partial connection between the condition of the vehicle and the price and when the vehicle is in better condition the price is higher. There is not much connection between the color of the vehicle and its price and there is little connection between the type of gearbox and the price of the car.\n",
    "\n",
    "Final conclusion: the price of the vehicle embodies many parameters, some more influential and some less. The main effects are the age of the vehicle and the mileage, but of course the model of the vehicle also has a great effect and does not resemble a Dacia Duster vehicle to a Porsche Cayenne vehicle even if both were manufactured in the same year and have the same mileage...\n"
   ]
  },
  {
   "cell_type": "markdown",
   "metadata": {},
   "source": [
    "<div style=\"border:solid green 2px; padding: 20px\"> <b>Success:</b><br>\n",
    "   I like that you wrote such in-depth conclusions on the whole study, proved them with numbers and made logical assumptions. Thank you for your work! It's really great! 👏👏👏</div>       "
   ]
  },
  {
   "cell_type": "markdown",
   "metadata": {},
   "source": [
    "<div class=\"alert alert-info\" style=\"border:solid blue 2px; padding: 20px\"> <b>Student comment:</b> Thanks so much for all the comments! I have mostly corrected these in red, but I took to my attention the comments in orange and the links you attached and I will try to implement them in future projects 😀.\n",
    "</div> "
   ]
  },
  {
   "cell_type": "markdown",
   "metadata": {},
   "source": [
    "<div style=\"border:solid green 2px; padding: 20px\"> <b>Success V2:</b><br>\n",
    "    You've done a really good job! I wish you good luck in the next sprints!👏☺️</div>  "
   ]
  },
  {
   "cell_type": "markdown",
   "metadata": {},
   "source": [
    "# Project completion checklist\n",
    "\n",
    "Mark the completed tasks with 'x'. Then press Shift+Enter."
   ]
  },
  {
   "cell_type": "markdown",
   "metadata": {},
   "source": [
    "- [x]  file opened\n",
    "- [x]  files explored (first rows printed, info() method)\n",
    "- [x]  missing values determined\n",
    "- [x]  missing values filled in\n",
    "- [x]  clarification of the discovered missing values provided\n",
    "- [x]  data types converted\n",
    "- [x]  explanation of which columns had the data types changed and why\n",
    "- [x]  calculated and added to the table: day of the week, month, and year the ad was placed\n",
    "- [x]  calculated and added to the table: the vehicle's age (in years) when the ad was placed\n",
    "- [x]  calculated and added to the table: the vehicle's average mileage per year\n",
    "- [x]  the following parameters investigated: price, vehicle's age when the ad was placed, mileage, number of cylinders, and condition\n",
    "- [x]  histograms for each parameter created\n",
    "- [x]  task completed: \"Determine the upper limits of outliers, remove the outliers and store them in a separate DataFrame, and continue your work with the filtered data.\"\n",
    "- [x]  task completed: \"Use the filtered data to plot new histograms. Compare them with the earlier histograms (the ones that included outliers). Draw conclusions for each histogram.\"\n",
    "- [x]  task completed: \"Study how many days advertisements were displayed (days_listed). Plot a histogram. Calculate the mean and median. Describe the typical lifetime of an ad. Determine when ads were removed quickly, and when they were listed for an abnormally long time.  \"\n",
    "- [x]  task completed: \"Analyze the number of ads and the average price for each type of vehicle. Plot a graph showing the dependence of the number of ads on the vehicle type. Select the two types with the greatest number of ads. \"\n",
    "- [x]  task completed: \"What factors impact the price most? Take each of the popular types you detected at the previous stage and study whether the price depends on age, mileage, condition, transmission type, and color. For categorical variables (transmission type and color), plot box-and-whisker charts, and create scatterplots for the rest. When analyzing categorical variables, note that the categories must have at least 50 ads; otherwise, their parameters won't be valid for analysis.  \"\n",
    "- [x]  each stage has a conclusion\n",
    "- [x]  overall conclusion drawn"
   ]
  },
  {
   "cell_type": "code",
   "execution_count": null,
   "metadata": {},
   "outputs": [],
   "source": []
  }
 ],
 "metadata": {
  "ExecuteTimeLog": [
   {
    "duration": 94,
    "start_time": "2021-06-24T16:20:14.943Z"
   },
   {
    "duration": 90,
    "start_time": "2021-06-24T16:22:42.105Z"
   },
   {
    "duration": 818,
    "start_time": "2021-06-24T16:22:59.300Z"
   },
   {
    "duration": 142,
    "start_time": "2021-06-24T16:23:15.215Z"
   },
   {
    "duration": 131,
    "start_time": "2021-06-24T16:49:04.724Z"
   },
   {
    "duration": 128,
    "start_time": "2021-06-24T16:49:09.149Z"
   },
   {
    "duration": 35,
    "start_time": "2021-06-24T16:49:36.132Z"
   },
   {
    "duration": 24,
    "start_time": "2021-06-24T17:15:48.821Z"
   },
   {
    "duration": 358,
    "start_time": "2021-06-24T17:16:29.487Z"
   },
   {
    "duration": 271,
    "start_time": "2021-06-24T17:16:40.891Z"
   },
   {
    "duration": 11,
    "start_time": "2021-06-24T17:17:04.263Z"
   },
   {
    "duration": 10,
    "start_time": "2021-06-24T17:18:12.572Z"
   },
   {
    "duration": 15,
    "start_time": "2021-06-24T17:18:21.034Z"
   },
   {
    "duration": 6553,
    "start_time": "2021-06-24T17:19:15.011Z"
   },
   {
    "duration": 10,
    "start_time": "2021-06-24T17:19:26.034Z"
   },
   {
    "duration": 11,
    "start_time": "2021-06-24T17:19:40.409Z"
   },
   {
    "duration": 10,
    "start_time": "2021-06-24T17:19:44.142Z"
   },
   {
    "duration": 125,
    "start_time": "2021-06-24T17:20:07.368Z"
   },
   {
    "duration": 14,
    "start_time": "2021-06-24T17:20:11.276Z"
   },
   {
    "duration": 17,
    "start_time": "2021-06-24T17:25:12.168Z"
   },
   {
    "duration": 12,
    "start_time": "2021-06-24T17:25:23.252Z"
   },
   {
    "duration": 427,
    "start_time": "2021-06-27T07:05:45.475Z"
   },
   {
    "duration": 937,
    "start_time": "2021-06-27T07:05:53.449Z"
   },
   {
    "duration": 384,
    "start_time": "2021-06-27T07:05:56.704Z"
   },
   {
    "duration": 343,
    "start_time": "2021-06-27T07:06:15.067Z"
   },
   {
    "duration": 15,
    "start_time": "2021-06-27T07:06:17.674Z"
   },
   {
    "duration": 13,
    "start_time": "2021-06-27T07:06:41.202Z"
   },
   {
    "duration": 88,
    "start_time": "2021-06-27T07:06:48.333Z"
   },
   {
    "duration": 102,
    "start_time": "2021-06-27T07:08:16.428Z"
   },
   {
    "duration": 56,
    "start_time": "2021-06-27T07:08:26.749Z"
   },
   {
    "duration": 52,
    "start_time": "2021-06-27T07:08:36.128Z"
   },
   {
    "duration": 11,
    "start_time": "2021-06-27T07:09:29.351Z"
   },
   {
    "duration": 354,
    "start_time": "2021-06-27T07:13:28.423Z"
   },
   {
    "duration": 57,
    "start_time": "2021-06-27T07:13:38.069Z"
   },
   {
    "duration": 350,
    "start_time": "2021-06-27T07:14:23.265Z"
   },
   {
    "duration": 18,
    "start_time": "2021-06-27T07:14:33.796Z"
   },
   {
    "duration": 11,
    "start_time": "2021-06-27T07:17:16.580Z"
   },
   {
    "duration": 11,
    "start_time": "2021-06-27T07:17:53.639Z"
   },
   {
    "duration": 11,
    "start_time": "2021-06-27T07:17:58.895Z"
   },
   {
    "duration": 346,
    "start_time": "2021-06-27T07:18:15.384Z"
   },
   {
    "duration": 328,
    "start_time": "2021-06-27T07:18:22.825Z"
   },
   {
    "duration": 341,
    "start_time": "2021-06-27T07:18:29.606Z"
   },
   {
    "duration": 17,
    "start_time": "2021-06-27T07:18:38.916Z"
   },
   {
    "duration": 14,
    "start_time": "2021-06-27T07:18:42.736Z"
   },
   {
    "duration": 191,
    "start_time": "2021-06-27T08:13:44.843Z"
   },
   {
    "duration": 39,
    "start_time": "2021-06-27T08:13:56.563Z"
   },
   {
    "duration": 69,
    "start_time": "2021-06-27T08:14:03.570Z"
   },
   {
    "duration": 70,
    "start_time": "2021-06-27T08:14:32.785Z"
   },
   {
    "duration": 46,
    "start_time": "2021-06-27T08:14:36.009Z"
   },
   {
    "duration": 133,
    "start_time": "2021-06-27T08:19:03.252Z"
   },
   {
    "duration": 15,
    "start_time": "2021-06-27T08:20:16.491Z"
   },
   {
    "duration": 6,
    "start_time": "2021-06-27T08:22:09.494Z"
   },
   {
    "duration": 14,
    "start_time": "2021-06-27T08:23:31.544Z"
   },
   {
    "duration": 22,
    "start_time": "2021-06-27T08:24:03.023Z"
   },
   {
    "duration": 16,
    "start_time": "2021-06-27T08:24:09.873Z"
   },
   {
    "duration": 16,
    "start_time": "2021-06-27T08:24:20.663Z"
   },
   {
    "duration": 14,
    "start_time": "2021-06-27T08:24:27.572Z"
   },
   {
    "duration": 325,
    "start_time": "2021-06-27T08:24:51.265Z"
   },
   {
    "duration": 16,
    "start_time": "2021-06-27T08:26:04.145Z"
   },
   {
    "duration": 16,
    "start_time": "2021-06-27T08:26:08.117Z"
   },
   {
    "duration": 138,
    "start_time": "2021-06-27T08:30:59.429Z"
   },
   {
    "duration": 119,
    "start_time": "2021-06-27T08:31:04.828Z"
   },
   {
    "duration": 120,
    "start_time": "2021-06-27T08:35:16.106Z"
   },
   {
    "duration": 129,
    "start_time": "2021-06-27T08:35:58.446Z"
   },
   {
    "duration": 422,
    "start_time": "2021-06-27T08:36:56.386Z"
   },
   {
    "duration": 13,
    "start_time": "2021-06-27T08:37:23.228Z"
   },
   {
    "duration": 15,
    "start_time": "2021-06-27T08:37:28.037Z"
   },
   {
    "duration": 2458,
    "start_time": "2021-06-27T08:41:35.690Z"
   },
   {
    "duration": 351,
    "start_time": "2021-06-27T08:43:02.663Z"
   },
   {
    "duration": 355,
    "start_time": "2021-06-27T08:43:11.674Z"
   },
   {
    "duration": 2442,
    "start_time": "2021-06-27T08:44:36.582Z"
   },
   {
    "duration": 141,
    "start_time": "2021-06-27T08:45:12.949Z"
   },
   {
    "duration": 2257,
    "start_time": "2021-06-27T08:45:17.761Z"
   },
   {
    "duration": 16,
    "start_time": "2021-06-27T08:46:46.834Z"
   },
   {
    "duration": 329,
    "start_time": "2021-06-27T08:47:01.772Z"
   },
   {
    "duration": 30,
    "start_time": "2021-06-27T08:47:07.658Z"
   },
   {
    "duration": 7,
    "start_time": "2021-06-27T08:47:18.351Z"
   },
   {
    "duration": 7,
    "start_time": "2021-06-27T08:47:21.767Z"
   },
   {
    "duration": 336,
    "start_time": "2021-06-27T08:48:21.267Z"
   },
   {
    "duration": 345,
    "start_time": "2021-06-27T08:48:27.656Z"
   },
   {
    "duration": 321,
    "start_time": "2021-06-27T08:48:32.702Z"
   },
   {
    "duration": 322,
    "start_time": "2021-06-27T08:48:43.739Z"
   },
   {
    "duration": 12,
    "start_time": "2021-06-27T08:51:12.810Z"
   },
   {
    "duration": 42,
    "start_time": "2021-06-27T08:51:20.857Z"
   },
   {
    "duration": 17,
    "start_time": "2021-06-27T09:19:03.371Z"
   },
   {
    "duration": 353,
    "start_time": "2021-06-27T09:21:08.870Z"
   },
   {
    "duration": 342,
    "start_time": "2021-06-27T09:21:39.218Z"
   },
   {
    "duration": 10,
    "start_time": "2021-06-27T09:22:10.141Z"
   },
   {
    "duration": 28,
    "start_time": "2021-06-27T09:24:33.710Z"
   },
   {
    "duration": 10,
    "start_time": "2021-06-27T09:24:41.482Z"
   },
   {
    "duration": 9,
    "start_time": "2021-06-27T09:24:47.464Z"
   },
   {
    "duration": 24,
    "start_time": "2021-06-27T09:24:57.721Z"
   },
   {
    "duration": 7,
    "start_time": "2021-06-27T09:25:14.022Z"
   },
   {
    "duration": 24,
    "start_time": "2021-06-27T09:25:16.765Z"
   },
   {
    "duration": 333,
    "start_time": "2021-06-27T09:25:44.625Z"
   },
   {
    "duration": 23,
    "start_time": "2021-06-27T09:26:00.023Z"
   },
   {
    "duration": 24,
    "start_time": "2021-06-27T09:26:03.943Z"
   },
   {
    "duration": 7,
    "start_time": "2021-06-27T09:28:11.736Z"
   },
   {
    "duration": 404,
    "start_time": "2021-06-27T09:28:22.850Z"
   },
   {
    "duration": 405,
    "start_time": "2021-06-27T09:30:09.648Z"
   },
   {
    "duration": 6,
    "start_time": "2021-06-27T09:30:19.415Z"
   },
   {
    "duration": 454,
    "start_time": "2021-06-27T09:31:23.294Z"
   },
   {
    "duration": 7,
    "start_time": "2021-06-27T09:31:44.345Z"
   },
   {
    "duration": 35,
    "start_time": "2021-06-27T09:31:55.780Z"
   },
   {
    "duration": 8,
    "start_time": "2021-06-27T09:32:59.193Z"
   },
   {
    "duration": 38,
    "start_time": "2021-06-27T09:33:04.225Z"
   },
   {
    "duration": 26,
    "start_time": "2021-06-27T09:33:23.663Z"
   },
   {
    "duration": 6,
    "start_time": "2021-06-27T09:33:51.841Z"
   },
   {
    "duration": 25,
    "start_time": "2021-06-27T09:33:54.526Z"
   },
   {
    "duration": 108,
    "start_time": "2021-06-27T09:35:25.208Z"
   },
   {
    "duration": 100,
    "start_time": "2021-06-27T09:35:31.834Z"
   },
   {
    "duration": 13,
    "start_time": "2021-06-27T09:36:09.445Z"
   },
   {
    "duration": 5,
    "start_time": "2021-06-27T09:36:55.294Z"
   },
   {
    "duration": 6,
    "start_time": "2021-06-27T09:36:57.924Z"
   },
   {
    "duration": 24,
    "start_time": "2021-06-27T09:37:01.708Z"
   },
   {
    "duration": 7,
    "start_time": "2021-06-27T09:37:14.746Z"
   },
   {
    "duration": 8,
    "start_time": "2021-06-27T09:37:34.346Z"
   },
   {
    "duration": 10,
    "start_time": "2021-06-27T09:38:18.207Z"
   },
   {
    "duration": 9,
    "start_time": "2021-06-27T09:38:34.105Z"
   },
   {
    "duration": 6,
    "start_time": "2021-06-27T09:38:45.763Z"
   },
   {
    "duration": 7,
    "start_time": "2021-06-27T09:39:18.267Z"
   },
   {
    "duration": 6,
    "start_time": "2021-06-27T09:39:20.523Z"
   },
   {
    "duration": 337,
    "start_time": "2021-06-27T09:40:19.881Z"
   },
   {
    "duration": 7,
    "start_time": "2021-06-27T09:40:25.676Z"
   },
   {
    "duration": 36,
    "start_time": "2021-06-27T09:41:42.958Z"
   },
   {
    "duration": 6,
    "start_time": "2021-06-27T09:42:00.608Z"
   },
   {
    "duration": 9,
    "start_time": "2021-06-27T09:42:31.743Z"
   },
   {
    "duration": 7,
    "start_time": "2021-06-27T09:42:34.238Z"
   },
   {
    "duration": 4,
    "start_time": "2021-06-27T09:43:10.356Z"
   },
   {
    "duration": 6,
    "start_time": "2021-06-27T09:43:48.822Z"
   },
   {
    "duration": 54,
    "start_time": "2021-06-27T09:44:31.416Z"
   },
   {
    "duration": 18,
    "start_time": "2021-06-27T09:44:39.865Z"
   },
   {
    "duration": 21,
    "start_time": "2021-06-27T09:44:42.283Z"
   },
   {
    "duration": 40,
    "start_time": "2021-06-27T09:45:03.929Z"
   },
   {
    "duration": 24,
    "start_time": "2021-06-27T09:45:17.525Z"
   },
   {
    "duration": 12,
    "start_time": "2021-06-27T09:47:43.780Z"
   },
   {
    "duration": 12,
    "start_time": "2021-06-27T09:47:46.217Z"
   },
   {
    "duration": 20,
    "start_time": "2021-06-27T09:49:55.083Z"
   },
   {
    "duration": 353,
    "start_time": "2021-06-27T10:01:34.864Z"
   },
   {
    "duration": 6,
    "start_time": "2021-06-27T10:01:54.050Z"
   },
   {
    "duration": 9,
    "start_time": "2021-06-27T10:03:46.468Z"
   },
   {
    "duration": 6,
    "start_time": "2021-06-27T10:03:50.311Z"
   },
   {
    "duration": 39,
    "start_time": "2021-06-27T10:03:53.584Z"
   },
   {
    "duration": 18,
    "start_time": "2021-06-27T10:05:24.519Z"
   },
   {
    "duration": 6,
    "start_time": "2021-06-27T10:05:34.854Z"
   },
   {
    "duration": 46,
    "start_time": "2021-06-27T10:05:37.542Z"
   },
   {
    "duration": 19,
    "start_time": "2021-06-27T10:06:08.293Z"
   },
   {
    "duration": 19,
    "start_time": "2021-06-27T10:06:10.396Z"
   },
   {
    "duration": 40,
    "start_time": "2021-06-27T10:06:13.894Z"
   },
   {
    "duration": 19,
    "start_time": "2021-06-27T10:07:33.640Z"
   },
   {
    "duration": 38,
    "start_time": "2021-06-27T10:07:37.295Z"
   },
   {
    "duration": 25,
    "start_time": "2021-06-27T10:07:46.261Z"
   },
   {
    "duration": 24,
    "start_time": "2021-06-27T10:08:05.826Z"
   },
   {
    "duration": 20,
    "start_time": "2021-06-27T10:08:36.036Z"
   },
   {
    "duration": 38,
    "start_time": "2021-06-27T10:08:39.013Z"
   },
   {
    "duration": 43,
    "start_time": "2021-06-27T10:08:59.816Z"
   },
   {
    "duration": 147,
    "start_time": "2021-06-27T10:24:29.488Z"
   },
   {
    "duration": 8957,
    "start_time": "2021-06-27T10:24:41.064Z"
   },
   {
    "duration": 182,
    "start_time": "2021-06-27T10:24:52.976Z"
   },
   {
    "duration": 29,
    "start_time": "2021-06-27T10:24:59.174Z"
   },
   {
    "duration": 35,
    "start_time": "2021-06-27T10:25:10.439Z"
   },
   {
    "duration": 22,
    "start_time": "2021-06-27T10:25:14.038Z"
   },
   {
    "duration": 22,
    "start_time": "2021-06-27T10:25:16.837Z"
   },
   {
    "duration": 52,
    "start_time": "2021-06-27T10:25:23.693Z"
   },
   {
    "duration": -4834,
    "start_time": "2021-06-27T10:26:50.264Z"
   },
   {
    "duration": -4839,
    "start_time": "2021-06-27T10:26:50.272Z"
   },
   {
    "duration": 37,
    "start_time": "2021-06-27T10:26:47.277Z"
   },
   {
    "duration": 8202,
    "start_time": "2021-06-27T10:26:55.557Z"
   },
   {
    "duration": -4832,
    "start_time": "2021-06-27T10:27:08.595Z"
   },
   {
    "duration": 22,
    "start_time": "2021-06-27T10:27:13.253Z"
   },
   {
    "duration": 51,
    "start_time": "2021-06-27T10:27:16.953Z"
   },
   {
    "duration": 9,
    "start_time": "2021-06-27T10:27:40.792Z"
   },
   {
    "duration": 7,
    "start_time": "2021-06-27T10:28:04.247Z"
   },
   {
    "duration": 33,
    "start_time": "2021-06-27T10:29:01.432Z"
   },
   {
    "duration": 8,
    "start_time": "2021-06-27T10:30:03.286Z"
   },
   {
    "duration": 9,
    "start_time": "2021-06-27T10:30:40.779Z"
   },
   {
    "duration": 9,
    "start_time": "2021-06-27T10:30:57.308Z"
   },
   {
    "duration": 23,
    "start_time": "2021-06-27T10:31:37.178Z"
   },
   {
    "duration": 313,
    "start_time": "2021-06-27T10:32:09.622Z"
   },
   {
    "duration": 342,
    "start_time": "2021-06-27T10:32:13.177Z"
   },
   {
    "duration": 8,
    "start_time": "2021-06-27T10:33:45.311Z"
   },
   {
    "duration": 357,
    "start_time": "2021-06-27T10:34:37.385Z"
   },
   {
    "duration": 316,
    "start_time": "2021-06-27T10:34:40.896Z"
   },
   {
    "duration": 9,
    "start_time": "2021-06-27T10:35:04.251Z"
   },
   {
    "duration": 44,
    "start_time": "2021-06-27T10:35:37.962Z"
   },
   {
    "duration": 150,
    "start_time": "2021-06-27T10:38:58.524Z"
   },
   {
    "duration": 8504,
    "start_time": "2021-06-27T10:39:00.917Z"
   },
   {
    "duration": 142,
    "start_time": "2021-06-27T10:39:36.683Z"
   },
   {
    "duration": 9864,
    "start_time": "2021-06-27T10:42:16.575Z"
   },
   {
    "duration": 26,
    "start_time": "2021-06-27T10:42:35.732Z"
   },
   {
    "duration": 22,
    "start_time": "2021-06-27T10:42:39.235Z"
   },
   {
    "duration": 21,
    "start_time": "2021-06-27T11:13:28.516Z"
   },
   {
    "duration": 3,
    "start_time": "2021-06-27T11:13:42.801Z"
   },
   {
    "duration": 355,
    "start_time": "2021-06-27T11:13:45.586Z"
   },
   {
    "duration": 113,
    "start_time": "2021-06-27T11:13:56.753Z"
   },
   {
    "duration": 2815,
    "start_time": "2021-06-27T11:14:04.899Z"
   },
   {
    "duration": 2787,
    "start_time": "2021-06-27T11:14:14.136Z"
   },
   {
    "duration": 50,
    "start_time": "2021-06-27T11:14:16.925Z"
   },
   {
    "duration": 25,
    "start_time": "2021-06-27T11:14:34.357Z"
   },
   {
    "duration": 2313,
    "start_time": "2021-06-27T11:14:53.715Z"
   },
   {
    "duration": 7,
    "start_time": "2021-06-27T11:15:04.548Z"
   },
   {
    "duration": 32,
    "start_time": "2021-06-27T11:15:10.125Z"
   },
   {
    "duration": 19,
    "start_time": "2021-06-27T11:15:52.467Z"
   },
   {
    "duration": 27,
    "start_time": "2021-06-27T11:15:55.387Z"
   },
   {
    "duration": 29,
    "start_time": "2021-06-27T11:16:30.760Z"
   },
   {
    "duration": 41,
    "start_time": "2021-06-27T11:19:11.676Z"
   },
   {
    "duration": 19,
    "start_time": "2021-06-27T11:21:34.222Z"
   },
   {
    "duration": 42,
    "start_time": "2021-06-27T11:21:35.931Z"
   },
   {
    "duration": 2253,
    "start_time": "2021-06-27T11:22:03.266Z"
   },
   {
    "duration": 48,
    "start_time": "2021-06-27T11:22:05.522Z"
   },
   {
    "duration": 40,
    "start_time": "2021-06-27T11:22:58.063Z"
   },
   {
    "duration": 41,
    "start_time": "2021-06-27T11:24:07.140Z"
   },
   {
    "duration": 5,
    "start_time": "2021-06-27T11:29:30.879Z"
   },
   {
    "duration": 1324,
    "start_time": "2021-06-27T11:30:00.238Z"
   },
   {
    "duration": 1750,
    "start_time": "2021-06-27T11:30:26.229Z"
   },
   {
    "duration": 39,
    "start_time": "2021-06-27T11:30:35.202Z"
   },
   {
    "duration": 25,
    "start_time": "2021-06-27T11:30:48.859Z"
   },
   {
    "duration": 24,
    "start_time": "2021-06-27T11:31:20.456Z"
   },
   {
    "duration": 367,
    "start_time": "2021-06-27T11:33:44.448Z"
   },
   {
    "duration": 24,
    "start_time": "2021-06-27T11:33:59.032Z"
   },
   {
    "duration": 61,
    "start_time": "2021-06-27T11:34:05.821Z"
   },
   {
    "duration": 106,
    "start_time": "2021-06-27T11:41:14.782Z"
   },
   {
    "duration": 8,
    "start_time": "2021-06-27T11:41:22.427Z"
   },
   {
    "duration": 43,
    "start_time": "2021-06-27T11:41:30.872Z"
   },
   {
    "duration": 6,
    "start_time": "2021-06-27T11:41:41.644Z"
   },
   {
    "duration": 5,
    "start_time": "2021-06-27T11:41:44.390Z"
   },
   {
    "duration": 40,
    "start_time": "2021-06-27T11:41:45.853Z"
   },
   {
    "duration": 323,
    "start_time": "2021-06-27T11:44:00.442Z"
   },
   {
    "duration": 38,
    "start_time": "2021-06-27T11:44:04.786Z"
   },
   {
    "duration": 329,
    "start_time": "2021-06-27T11:44:48.140Z"
   },
   {
    "duration": 40,
    "start_time": "2021-06-27T11:44:51.106Z"
   },
   {
    "duration": 6,
    "start_time": "2021-06-27T11:45:03.427Z"
   },
   {
    "duration": 41,
    "start_time": "2021-06-27T11:45:08.721Z"
   },
   {
    "duration": 6,
    "start_time": "2021-06-27T11:45:14.365Z"
   },
   {
    "duration": 38,
    "start_time": "2021-06-27T11:45:20.415Z"
   },
   {
    "duration": 49,
    "start_time": "2021-06-27T11:45:55.772Z"
   },
   {
    "duration": 37,
    "start_time": "2021-06-27T11:46:23.760Z"
   },
   {
    "duration": 152,
    "start_time": "2021-06-27T11:47:03.853Z"
   },
   {
    "duration": 42,
    "start_time": "2021-06-27T11:47:48.169Z"
   },
   {
    "duration": 70,
    "start_time": "2021-06-27T11:49:39.800Z"
   },
   {
    "duration": 35,
    "start_time": "2021-06-27T11:49:44.129Z"
   },
   {
    "duration": 36,
    "start_time": "2021-06-27T11:49:59.269Z"
   },
   {
    "duration": 75,
    "start_time": "2021-06-27T11:50:16.560Z"
   },
   {
    "duration": 48,
    "start_time": "2021-06-27T11:50:25.912Z"
   },
   {
    "duration": 47,
    "start_time": "2021-06-27T11:50:34.028Z"
   },
   {
    "duration": 42,
    "start_time": "2021-06-27T11:50:41.833Z"
   },
   {
    "duration": 144,
    "start_time": "2021-06-27T11:50:53.450Z"
   },
   {
    "duration": 71,
    "start_time": "2021-06-27T11:51:25.539Z"
   },
   {
    "duration": 141,
    "start_time": "2021-06-27T11:51:38.630Z"
   },
   {
    "duration": 36,
    "start_time": "2021-06-27T11:51:42.431Z"
   },
   {
    "duration": 64,
    "start_time": "2021-06-27T11:51:57.990Z"
   },
   {
    "duration": 64,
    "start_time": "2021-06-27T11:52:10.178Z"
   },
   {
    "duration": 37,
    "start_time": "2021-06-27T11:52:24.154Z"
   },
   {
    "duration": 352,
    "start_time": "2021-06-27T11:52:28.427Z"
   },
   {
    "duration": 367,
    "start_time": "2021-06-27T11:52:42.948Z"
   },
   {
    "duration": 601,
    "start_time": "2021-06-27T11:52:49.070Z"
   },
   {
    "duration": 359,
    "start_time": "2021-06-27T11:52:59.083Z"
   },
   {
    "duration": 25,
    "start_time": "2021-06-27T11:53:19.818Z"
   },
   {
    "duration": 51,
    "start_time": "2021-06-27T11:53:26.490Z"
   },
   {
    "duration": 25,
    "start_time": "2021-06-27T11:53:28.323Z"
   },
   {
    "duration": 21,
    "start_time": "2021-06-27T11:53:30.633Z"
   },
   {
    "duration": 21,
    "start_time": "2021-06-27T11:53:33.571Z"
   },
   {
    "duration": 2296,
    "start_time": "2021-06-27T11:53:35.513Z"
   },
   {
    "duration": 5,
    "start_time": "2021-06-27T11:53:37.811Z"
   },
   {
    "duration": 1757,
    "start_time": "2021-06-27T11:53:39.510Z"
   },
   {
    "duration": 331,
    "start_time": "2021-06-27T11:53:42.099Z"
   },
   {
    "duration": 388,
    "start_time": "2021-06-27T11:54:02.215Z"
   },
   {
    "duration": 36,
    "start_time": "2021-06-27T11:54:27.847Z"
   },
   {
    "duration": 113,
    "start_time": "2021-06-27T11:56:34.881Z"
   },
   {
    "duration": 3,
    "start_time": "2021-06-27T11:56:39.930Z"
   },
   {
    "duration": 3683,
    "start_time": "2021-06-27T11:58:17.007Z"
   },
   {
    "duration": 4647,
    "start_time": "2021-06-27T12:04:18.357Z"
   },
   {
    "duration": 666,
    "start_time": "2021-06-27T12:06:02.442Z"
   },
   {
    "duration": 497,
    "start_time": "2021-06-27T12:06:11.691Z"
   },
   {
    "duration": 474,
    "start_time": "2021-06-27T12:06:58.973Z"
   },
   {
    "duration": 766,
    "start_time": "2021-06-27T12:07:07.698Z"
   },
   {
    "duration": 645,
    "start_time": "2021-06-27T12:07:18.810Z"
   },
   {
    "duration": 625,
    "start_time": "2021-06-27T12:07:34.925Z"
   },
   {
    "duration": 619,
    "start_time": "2021-06-27T12:07:58.084Z"
   },
   {
    "duration": 617,
    "start_time": "2021-06-27T12:09:32.472Z"
   },
   {
    "duration": 9,
    "start_time": "2021-06-27T12:12:16.722Z"
   },
   {
    "duration": 14,
    "start_time": "2021-06-27T12:12:33.695Z"
   },
   {
    "duration": 38,
    "start_time": "2021-06-27T12:12:37.360Z"
   },
   {
    "duration": 14,
    "start_time": "2021-06-27T12:12:55.779Z"
   },
   {
    "duration": 13,
    "start_time": "2021-06-27T12:12:59.040Z"
   },
   {
    "duration": 12,
    "start_time": "2021-06-27T12:13:33.155Z"
   },
   {
    "duration": 769,
    "start_time": "2021-06-27T12:13:49.923Z"
   },
   {
    "duration": 604,
    "start_time": "2021-06-27T12:14:44.286Z"
   },
   {
    "duration": 615,
    "start_time": "2021-06-27T12:14:50.275Z"
   },
   {
    "duration": 918,
    "start_time": "2021-06-27T12:14:54.716Z"
   },
   {
    "duration": 954,
    "start_time": "2021-06-27T12:15:06.220Z"
   },
   {
    "duration": 935,
    "start_time": "2021-06-27T12:15:32.873Z"
   },
   {
    "duration": 945,
    "start_time": "2021-06-27T12:15:49.298Z"
   },
   {
    "duration": 1158,
    "start_time": "2021-06-27T12:16:08.089Z"
   },
   {
    "duration": 636,
    "start_time": "2021-06-27T12:16:27.445Z"
   },
   {
    "duration": 639,
    "start_time": "2021-06-27T12:16:37.857Z"
   },
   {
    "duration": 615,
    "start_time": "2021-06-27T12:17:08.879Z"
   },
   {
    "duration": 612,
    "start_time": "2021-06-27T12:17:32.416Z"
   },
   {
    "duration": 667,
    "start_time": "2021-06-27T12:18:01.864Z"
   },
   {
    "duration": 637,
    "start_time": "2021-06-27T12:18:09.768Z"
   },
   {
    "duration": 621,
    "start_time": "2021-06-27T12:18:22.692Z"
   },
   {
    "duration": 828,
    "start_time": "2021-06-27T12:18:50.103Z"
   },
   {
    "duration": 112,
    "start_time": "2021-06-27T12:19:07.112Z"
   },
   {
    "duration": 633,
    "start_time": "2021-06-27T12:19:11.789Z"
   },
   {
    "duration": 640,
    "start_time": "2021-06-27T12:19:22.591Z"
   },
   {
    "duration": 563,
    "start_time": "2021-06-27T12:19:31.678Z"
   },
   {
    "duration": 627,
    "start_time": "2021-06-27T12:20:01.388Z"
   },
   {
    "duration": 627,
    "start_time": "2021-06-27T12:20:12.673Z"
   },
   {
    "duration": 617,
    "start_time": "2021-06-27T12:20:15.435Z"
   },
   {
    "duration": 593,
    "start_time": "2021-06-27T12:20:38.222Z"
   },
   {
    "duration": 339,
    "start_time": "2021-06-27T12:20:50.225Z"
   },
   {
    "duration": 358,
    "start_time": "2021-06-27T12:20:59.285Z"
   },
   {
    "duration": 345,
    "start_time": "2021-06-27T12:21:14.595Z"
   },
   {
    "duration": 357,
    "start_time": "2021-06-27T12:21:19.883Z"
   },
   {
    "duration": 338,
    "start_time": "2021-06-27T12:21:25.353Z"
   },
   {
    "duration": 562,
    "start_time": "2021-06-27T12:21:28.503Z"
   },
   {
    "duration": 144,
    "start_time": "2021-06-27T12:21:52.968Z"
   },
   {
    "duration": 399,
    "start_time": "2021-06-27T12:21:55.936Z"
   },
   {
    "duration": 410,
    "start_time": "2021-06-27T12:22:02.552Z"
   },
   {
    "duration": 625,
    "start_time": "2021-06-27T12:22:10.801Z"
   },
   {
    "duration": 362,
    "start_time": "2021-06-27T12:22:19.491Z"
   },
   {
    "duration": 349,
    "start_time": "2021-06-27T12:22:35.401Z"
   },
   {
    "duration": 344,
    "start_time": "2021-06-27T12:22:49.479Z"
   },
   {
    "duration": 355,
    "start_time": "2021-06-27T12:23:09.421Z"
   },
   {
    "duration": 336,
    "start_time": "2021-06-27T12:23:29.019Z"
   },
   {
    "duration": 352,
    "start_time": "2021-06-27T12:23:37.817Z"
   },
   {
    "duration": 355,
    "start_time": "2021-06-27T12:23:52.566Z"
   },
   {
    "duration": 336,
    "start_time": "2021-06-27T12:24:02.694Z"
   },
   {
    "duration": 362,
    "start_time": "2021-06-27T12:24:09.427Z"
   },
   {
    "duration": 367,
    "start_time": "2021-06-27T12:24:29.395Z"
   },
   {
    "duration": 379,
    "start_time": "2021-06-27T12:24:43.112Z"
   },
   {
    "duration": 12,
    "start_time": "2021-06-27T12:35:32.563Z"
   },
   {
    "duration": 10,
    "start_time": "2021-06-27T12:36:02.802Z"
   },
   {
    "duration": 44,
    "start_time": "2021-06-27T12:37:00.764Z"
   },
   {
    "duration": 7,
    "start_time": "2021-06-27T12:37:12.391Z"
   },
   {
    "duration": 7,
    "start_time": "2021-06-27T12:37:45.923Z"
   },
   {
    "duration": 394,
    "start_time": "2021-06-27T12:49:09.658Z"
   },
   {
    "duration": 53,
    "start_time": "2021-06-27T12:49:24.830Z"
   },
   {
    "duration": 24,
    "start_time": "2021-06-27T12:49:44.407Z"
   },
   {
    "duration": 153,
    "start_time": "2021-06-27T12:49:53.568Z"
   },
   {
    "duration": 29,
    "start_time": "2021-06-27T12:49:56.627Z"
   },
   {
    "duration": 47,
    "start_time": "2021-06-27T12:49:59.996Z"
   },
   {
    "duration": 18,
    "start_time": "2021-06-27T12:50:20.317Z"
   },
   {
    "duration": 18,
    "start_time": "2021-06-27T12:50:24.322Z"
   },
   {
    "duration": 7,
    "start_time": "2021-06-27T12:50:53.598Z"
   },
   {
    "duration": 6,
    "start_time": "2021-06-27T12:51:00.202Z"
   },
   {
    "duration": 6,
    "start_time": "2021-06-27T12:51:11.910Z"
   },
   {
    "duration": 8,
    "start_time": "2021-06-27T12:51:48.457Z"
   },
   {
    "duration": 7,
    "start_time": "2021-06-27T12:51:53.429Z"
   },
   {
    "duration": 7,
    "start_time": "2021-06-27T12:52:11.293Z"
   },
   {
    "duration": 19,
    "start_time": "2021-06-27T12:54:44.895Z"
   },
   {
    "duration": 22,
    "start_time": "2021-06-27T12:54:53.262Z"
   },
   {
    "duration": 21,
    "start_time": "2021-06-27T12:55:08.543Z"
   },
   {
    "duration": 22,
    "start_time": "2021-06-27T12:55:12.203Z"
   },
   {
    "duration": 49,
    "start_time": "2021-06-27T12:55:19.222Z"
   },
   {
    "duration": 22,
    "start_time": "2021-06-27T12:55:26.916Z"
   },
   {
    "duration": 25,
    "start_time": "2021-06-27T12:55:40.072Z"
   },
   {
    "duration": 21,
    "start_time": "2021-06-27T12:56:00.174Z"
   },
   {
    "duration": 20,
    "start_time": "2021-06-27T12:56:05.493Z"
   },
   {
    "duration": 2231,
    "start_time": "2021-06-27T12:56:26.025Z"
   },
   {
    "duration": 5,
    "start_time": "2021-06-27T12:56:29.323Z"
   },
   {
    "duration": 2018,
    "start_time": "2021-06-27T12:56:33.386Z"
   },
   {
    "duration": 37,
    "start_time": "2021-06-27T12:56:46.666Z"
   },
   {
    "duration": 67,
    "start_time": "2021-06-27T12:56:58.391Z"
   },
   {
    "duration": 37,
    "start_time": "2021-06-27T12:57:06.384Z"
   },
   {
    "duration": 305,
    "start_time": "2021-06-27T12:57:55.665Z"
   },
   {
    "duration": 40,
    "start_time": "2021-06-27T12:57:59.787Z"
   },
   {
    "duration": 7,
    "start_time": "2021-06-27T12:58:23.733Z"
   },
   {
    "duration": 37,
    "start_time": "2021-06-27T12:58:27.842Z"
   },
   {
    "duration": 282,
    "start_time": "2021-06-27T13:00:43.130Z"
   },
   {
    "duration": 37,
    "start_time": "2021-06-27T13:00:47.564Z"
   },
   {
    "duration": 141,
    "start_time": "2021-06-27T13:00:55.771Z"
   },
   {
    "duration": 79,
    "start_time": "2021-06-27T13:01:08.838Z"
   },
   {
    "duration": 35,
    "start_time": "2021-06-27T13:01:13.087Z"
   },
   {
    "duration": 115,
    "start_time": "2021-06-27T13:02:15.266Z"
   },
   {
    "duration": 98,
    "start_time": "2021-06-27T13:02:31.709Z"
   },
   {
    "duration": 142,
    "start_time": "2021-06-27T13:02:35.795Z"
   },
   {
    "duration": -4978,
    "start_time": "2021-06-27T13:03:17.154Z"
   },
   {
    "duration": 38,
    "start_time": "2021-06-27T13:03:12.519Z"
   },
   {
    "duration": 149,
    "start_time": "2021-06-27T13:03:19.818Z"
   },
   {
    "duration": 26,
    "start_time": "2021-06-27T13:03:22.711Z"
   },
   {
    "duration": 48,
    "start_time": "2021-06-27T13:03:28.453Z"
   },
   {
    "duration": 22,
    "start_time": "2021-06-27T13:03:30.428Z"
   },
   {
    "duration": 27,
    "start_time": "2021-06-27T13:03:33.118Z"
   },
   {
    "duration": 22,
    "start_time": "2021-06-27T13:03:35.556Z"
   },
   {
    "duration": 21,
    "start_time": "2021-06-27T13:03:38.045Z"
   },
   {
    "duration": 2310,
    "start_time": "2021-06-27T13:03:42.591Z"
   },
   {
    "duration": 6,
    "start_time": "2021-06-27T13:03:45.051Z"
   },
   {
    "duration": 1996,
    "start_time": "2021-06-27T13:03:47.290Z"
   },
   {
    "duration": 43,
    "start_time": "2021-06-27T13:03:49.618Z"
   },
   {
    "duration": 719,
    "start_time": "2021-06-27T13:04:48.298Z"
   },
   {
    "duration": 1163,
    "start_time": "2021-06-27T13:05:00.923Z"
   },
   {
    "duration": 1023,
    "start_time": "2021-06-27T13:05:20.974Z"
   },
   {
    "duration": 148,
    "start_time": "2021-06-27T13:05:30.198Z"
   },
   {
    "duration": 42,
    "start_time": "2021-06-27T13:05:34.053Z"
   },
   {
    "duration": 50,
    "start_time": "2021-06-27T13:05:38.533Z"
   },
   {
    "duration": 23,
    "start_time": "2021-06-27T13:05:40.417Z"
   },
   {
    "duration": 26,
    "start_time": "2021-06-27T13:05:42.088Z"
   },
   {
    "duration": 21,
    "start_time": "2021-06-27T13:05:45.113Z"
   },
   {
    "duration": 33,
    "start_time": "2021-06-27T13:05:47.412Z"
   },
   {
    "duration": 20,
    "start_time": "2021-06-27T13:05:52.466Z"
   },
   {
    "duration": 2325,
    "start_time": "2021-06-27T13:05:54.218Z"
   },
   {
    "duration": 17,
    "start_time": "2021-06-27T13:05:56.546Z"
   },
   {
    "duration": 1698,
    "start_time": "2021-06-27T13:05:58.202Z"
   },
   {
    "duration": 8,
    "start_time": "2021-06-27T13:06:34.156Z"
   },
   {
    "duration": 42,
    "start_time": "2021-06-27T13:06:38.631Z"
   },
   {
    "duration": 46,
    "start_time": "2021-06-27T13:07:21.747Z"
   },
   {
    "duration": 319,
    "start_time": "2021-06-27T13:07:39.966Z"
   },
   {
    "duration": 44,
    "start_time": "2021-06-27T13:08:02.654Z"
   },
   {
    "duration": 412,
    "start_time": "2021-06-27T13:08:17.546Z"
   },
   {
    "duration": 44,
    "start_time": "2021-06-27T13:08:29.661Z"
   },
   {
    "duration": 3,
    "start_time": "2021-06-27T13:08:44.394Z"
   },
   {
    "duration": 2019,
    "start_time": "2021-06-27T13:09:12.044Z"
   },
   {
    "duration": 40,
    "start_time": "2021-06-27T13:09:17.485Z"
   },
   {
    "duration": 3,
    "start_time": "2021-06-27T13:09:23.652Z"
   },
   {
    "duration": 39,
    "start_time": "2021-06-27T13:09:29.277Z"
   },
   {
    "duration": 3,
    "start_time": "2021-06-27T13:10:07.752Z"
   },
   {
    "duration": 37,
    "start_time": "2021-06-27T13:10:09.971Z"
   },
   {
    "duration": 144,
    "start_time": "2021-06-27T13:10:19.172Z"
   },
   {
    "duration": 28,
    "start_time": "2021-06-27T13:10:23.103Z"
   },
   {
    "duration": 48,
    "start_time": "2021-06-27T13:10:25.867Z"
   },
   {
    "duration": 30,
    "start_time": "2021-06-27T13:10:27.767Z"
   },
   {
    "duration": 28,
    "start_time": "2021-06-27T13:10:29.502Z"
   },
   {
    "duration": 16,
    "start_time": "2021-06-27T13:10:31.510Z"
   },
   {
    "duration": 21,
    "start_time": "2021-06-27T13:10:33.520Z"
   },
   {
    "duration": 22,
    "start_time": "2021-06-27T13:10:35.639Z"
   },
   {
    "duration": 2281,
    "start_time": "2021-06-27T13:10:37.537Z"
   },
   {
    "duration": 4,
    "start_time": "2021-06-27T13:10:39.821Z"
   },
   {
    "duration": 1718,
    "start_time": "2021-06-27T13:10:41.553Z"
   },
   {
    "duration": 39,
    "start_time": "2021-06-27T13:10:44.397Z"
   },
   {
    "duration": 322,
    "start_time": "2021-06-27T13:12:19.497Z"
   },
   {
    "duration": 357,
    "start_time": "2021-06-27T13:13:00.137Z"
   },
   {
    "duration": 43,
    "start_time": "2021-06-27T13:13:19.060Z"
   },
   {
    "duration": 42,
    "start_time": "2021-06-27T13:13:49.592Z"
   },
   {
    "duration": 64,
    "start_time": "2021-06-27T13:14:46.844Z"
   },
   {
    "duration": 152,
    "start_time": "2021-06-27T13:14:55.758Z"
   },
   {
    "duration": 66,
    "start_time": "2021-06-27T13:15:00.838Z"
   },
   {
    "duration": 162,
    "start_time": "2021-06-27T13:15:46.551Z"
   },
   {
    "duration": 8050,
    "start_time": "2021-06-27T13:15:50.308Z"
   },
   {
    "duration": -4695,
    "start_time": "2021-06-27T13:16:03.056Z"
   },
   {
    "duration": -4699,
    "start_time": "2021-06-27T13:16:03.062Z"
   },
   {
    "duration": 71,
    "start_time": "2021-06-27T13:16:04.378Z"
   },
   {
    "duration": 117,
    "start_time": "2021-06-27T13:16:12.450Z"
   },
   {
    "duration": 40,
    "start_time": "2021-06-27T13:17:26.463Z"
   },
   {
    "duration": 46,
    "start_time": "2021-06-27T13:17:38.926Z"
   },
   {
    "duration": 23,
    "start_time": "2021-06-27T13:17:41.082Z"
   },
   {
    "duration": 25,
    "start_time": "2021-06-27T13:17:43.513Z"
   },
   {
    "duration": 22,
    "start_time": "2021-06-27T13:17:45.925Z"
   },
   {
    "duration": 21,
    "start_time": "2021-06-27T13:17:48.794Z"
   },
   {
    "duration": 2563,
    "start_time": "2021-06-27T13:17:50.890Z"
   },
   {
    "duration": 8,
    "start_time": "2021-06-27T13:17:53.455Z"
   },
   {
    "duration": 1745,
    "start_time": "2021-06-27T13:17:55.031Z"
   },
   {
    "duration": 115,
    "start_time": "2021-06-27T13:17:57.557Z"
   },
   {
    "duration": 40,
    "start_time": "2021-06-27T13:17:59.803Z"
   },
   {
    "duration": 144,
    "start_time": "2021-06-27T13:19:32.969Z"
   },
   {
    "duration": 335,
    "start_time": "2021-06-27T13:19:39.784Z"
   },
   {
    "duration": 147,
    "start_time": "2021-06-27T13:21:18.177Z"
   },
   {
    "duration": 25,
    "start_time": "2021-06-27T13:21:20.791Z"
   },
   {
    "duration": 50,
    "start_time": "2021-06-27T13:21:24.255Z"
   },
   {
    "duration": 22,
    "start_time": "2021-06-27T13:21:25.266Z"
   },
   {
    "duration": 25,
    "start_time": "2021-06-27T13:21:26.525Z"
   },
   {
    "duration": 22,
    "start_time": "2021-06-27T13:21:28.079Z"
   },
   {
    "duration": 21,
    "start_time": "2021-06-27T13:21:29.545Z"
   },
   {
    "duration": 2296,
    "start_time": "2021-06-27T13:21:30.759Z"
   },
   {
    "duration": 5,
    "start_time": "2021-06-27T13:21:33.061Z"
   },
   {
    "duration": 1715,
    "start_time": "2021-06-27T13:21:33.360Z"
   },
   {
    "duration": 1995,
    "start_time": "2021-06-27T13:21:36.440Z"
   },
   {
    "duration": 112,
    "start_time": "2021-06-27T13:21:38.438Z"
   },
   {
    "duration": 114,
    "start_time": "2021-06-27T13:21:50.054Z"
   },
   {
    "duration": 264,
    "start_time": "2021-06-27T13:22:11.836Z"
   },
   {
    "duration": 38,
    "start_time": "2021-06-27T13:22:14.807Z"
   },
   {
    "duration": 144,
    "start_time": "2021-06-27T13:22:29.283Z"
   },
   {
    "duration": 43,
    "start_time": "2021-06-27T13:22:34.813Z"
   },
   {
    "duration": 5,
    "start_time": "2021-06-27T13:23:26.532Z"
   },
   {
    "duration": 35,
    "start_time": "2021-06-27T13:23:29.742Z"
   },
   {
    "duration": 6,
    "start_time": "2021-06-27T13:23:36.932Z"
   },
   {
    "duration": 36,
    "start_time": "2021-06-27T13:23:39.205Z"
   },
   {
    "duration": 81,
    "start_time": "2021-06-27T13:23:51.207Z"
   },
   {
    "duration": 54,
    "start_time": "2021-06-27T13:23:53.247Z"
   },
   {
    "duration": 42,
    "start_time": "2021-06-27T13:24:14.079Z"
   },
   {
    "duration": 150,
    "start_time": "2021-06-27T13:24:19.951Z"
   },
   {
    "duration": 45,
    "start_time": "2021-06-27T13:24:25.487Z"
   },
   {
    "duration": 64,
    "start_time": "2021-06-27T13:25:36.814Z"
   },
   {
    "duration": 38,
    "start_time": "2021-06-27T13:25:45.911Z"
   },
   {
    "duration": 37,
    "start_time": "2021-06-27T13:25:55.384Z"
   },
   {
    "duration": 38,
    "start_time": "2021-06-27T13:26:00.799Z"
   },
   {
    "duration": 51,
    "start_time": "2021-06-27T13:26:30.548Z"
   },
   {
    "duration": 23,
    "start_time": "2021-06-27T13:26:32.465Z"
   },
   {
    "duration": 25,
    "start_time": "2021-06-27T13:26:34.317Z"
   },
   {
    "duration": 23,
    "start_time": "2021-06-27T13:26:36.312Z"
   },
   {
    "duration": 21,
    "start_time": "2021-06-27T13:26:38.623Z"
   },
   {
    "duration": 2301,
    "start_time": "2021-06-27T13:26:40.223Z"
   },
   {
    "duration": 6,
    "start_time": "2021-06-27T13:26:42.528Z"
   },
   {
    "duration": 1984,
    "start_time": "2021-06-27T13:26:44.050Z"
   },
   {
    "duration": 347,
    "start_time": "2021-06-27T13:26:46.743Z"
   },
   {
    "duration": 147,
    "start_time": "2021-06-27T13:26:55.977Z"
   },
   {
    "duration": 25,
    "start_time": "2021-06-27T13:26:58.845Z"
   },
   {
    "duration": 48,
    "start_time": "2021-06-27T13:27:02.031Z"
   },
   {
    "duration": 24,
    "start_time": "2021-06-27T13:27:03.988Z"
   },
   {
    "duration": 26,
    "start_time": "2021-06-27T13:27:05.909Z"
   },
   {
    "duration": 21,
    "start_time": "2021-06-27T13:27:09.283Z"
   },
   {
    "duration": 21,
    "start_time": "2021-06-27T13:27:12.223Z"
   },
   {
    "duration": 2288,
    "start_time": "2021-06-27T13:27:13.520Z"
   },
   {
    "duration": 6,
    "start_time": "2021-06-27T13:27:15.810Z"
   },
   {
    "duration": 1743,
    "start_time": "2021-06-27T13:27:17.339Z"
   },
   {
    "duration": 37,
    "start_time": "2021-06-27T13:27:19.923Z"
   },
   {
    "duration": 40,
    "start_time": "2021-06-27T13:27:23.581Z"
   },
   {
    "duration": 635,
    "start_time": "2021-06-27T13:27:36.650Z"
   },
   {
    "duration": 1229,
    "start_time": "2021-06-27T13:29:56.879Z"
   },
   {
    "duration": 1093,
    "start_time": "2021-06-27T13:31:25.532Z"
   },
   {
    "duration": 1888,
    "start_time": "2021-06-27T13:34:15.289Z"
   },
   {
    "duration": 2617,
    "start_time": "2021-06-27T13:36:10.912Z"
   },
   {
    "duration": 2578,
    "start_time": "2021-06-27T13:36:31.630Z"
   },
   {
    "duration": 2828,
    "start_time": "2021-06-27T13:36:49.099Z"
   },
   {
    "duration": 363,
    "start_time": "2021-06-27T13:37:05.619Z"
   },
   {
    "duration": 2518,
    "start_time": "2021-06-27T13:37:26.298Z"
   },
   {
    "duration": 3741,
    "start_time": "2021-06-27T13:37:31.326Z"
   },
   {
    "duration": 3659,
    "start_time": "2021-06-27T13:38:04.078Z"
   },
   {
    "duration": 4296,
    "start_time": "2021-06-27T13:38:17.028Z"
   },
   {
    "duration": 2427,
    "start_time": "2021-06-27T13:38:39.178Z"
   },
   {
    "duration": 613,
    "start_time": "2021-06-27T13:46:36.602Z"
   },
   {
    "duration": 946,
    "start_time": "2021-06-27T13:47:09.462Z"
   },
   {
    "duration": 597,
    "start_time": "2021-06-27T13:47:25.516Z"
   },
   {
    "duration": 11,
    "start_time": "2021-06-27T13:48:40.501Z"
   },
   {
    "duration": 121,
    "start_time": "2021-06-27T13:48:54.060Z"
   },
   {
    "duration": 19,
    "start_time": "2021-06-27T13:48:56.482Z"
   },
   {
    "duration": 371,
    "start_time": "2021-06-27T13:49:06.440Z"
   },
   {
    "duration": 122,
    "start_time": "2021-06-27T13:49:14.032Z"
   },
   {
    "duration": 343,
    "start_time": "2021-06-27T13:49:22.965Z"
   },
   {
    "duration": 441,
    "start_time": "2021-06-27T13:49:28.728Z"
   },
   {
    "duration": 349,
    "start_time": "2021-06-27T13:49:44.471Z"
   },
   {
    "duration": 309,
    "start_time": "2021-06-27T13:49:50.227Z"
   },
   {
    "duration": 28,
    "start_time": "2021-06-27T13:50:22.295Z"
   },
   {
    "duration": 17,
    "start_time": "2021-06-27T13:50:25.283Z"
   },
   {
    "duration": 16,
    "start_time": "2021-06-27T13:50:42.960Z"
   },
   {
    "duration": 19,
    "start_time": "2021-06-27T13:50:55.643Z"
   },
   {
    "duration": 34,
    "start_time": "2021-06-27T13:51:41.801Z"
   },
   {
    "duration": 13,
    "start_time": "2021-06-27T13:52:03.612Z"
   },
   {
    "duration": 15,
    "start_time": "2021-06-27T13:52:10.664Z"
   },
   {
    "duration": 32,
    "start_time": "2021-06-27T13:52:19.695Z"
   },
   {
    "duration": 14,
    "start_time": "2021-06-27T13:52:31.393Z"
   },
   {
    "duration": 404,
    "start_time": "2021-06-27T13:52:44.709Z"
   },
   {
    "duration": 14,
    "start_time": "2021-06-27T13:52:49.562Z"
   },
   {
    "duration": 11,
    "start_time": "2021-06-27T13:53:40.738Z"
   },
   {
    "duration": 596,
    "start_time": "2021-06-27T13:59:13.928Z"
   },
   {
    "duration": 16,
    "start_time": "2021-06-27T14:00:28.966Z"
   },
   {
    "duration": 52,
    "start_time": "2021-06-27T14:00:37.801Z"
   },
   {
    "duration": 16,
    "start_time": "2021-06-27T14:00:44.094Z"
   },
   {
    "duration": 597,
    "start_time": "2021-06-27T14:01:20.605Z"
   },
   {
    "duration": 916,
    "start_time": "2021-06-27T14:01:34.733Z"
   },
   {
    "duration": 124,
    "start_time": "2021-06-27T14:02:10.476Z"
   },
   {
    "duration": 151,
    "start_time": "2021-06-27T14:02:16.956Z"
   },
   {
    "duration": 1564,
    "start_time": "2021-06-27T14:02:22.102Z"
   },
   {
    "duration": 942,
    "start_time": "2021-06-27T14:02:45.619Z"
   },
   {
    "duration": 692,
    "start_time": "2021-06-27T14:03:09.924Z"
   },
   {
    "duration": 888,
    "start_time": "2021-06-27T14:03:21.608Z"
   },
   {
    "duration": 17,
    "start_time": "2021-06-27T14:04:15.233Z"
   },
   {
    "duration": 10,
    "start_time": "2021-06-27T14:04:21.806Z"
   },
   {
    "duration": 624,
    "start_time": "2021-06-27T14:04:54.475Z"
   },
   {
    "duration": 317,
    "start_time": "2021-06-27T14:05:22.405Z"
   },
   {
    "duration": 360,
    "start_time": "2021-06-27T14:05:25.146Z"
   },
   {
    "duration": 15,
    "start_time": "2021-06-27T14:05:30.836Z"
   },
   {
    "duration": 641,
    "start_time": "2021-06-27T14:05:43.556Z"
   },
   {
    "duration": 624,
    "start_time": "2021-06-27T14:06:02.663Z"
   },
   {
    "duration": 564,
    "start_time": "2021-06-27T14:06:09.632Z"
   },
   {
    "duration": 606,
    "start_time": "2021-06-27T14:06:33.381Z"
   },
   {
    "duration": 501,
    "start_time": "2021-06-27T14:06:42.370Z"
   },
   {
    "duration": 421,
    "start_time": "2021-06-27T14:07:13.118Z"
   },
   {
    "duration": 423,
    "start_time": "2021-06-27T14:07:44.681Z"
   },
   {
    "duration": 414,
    "start_time": "2021-06-27T14:08:55.185Z"
   },
   {
    "duration": 117,
    "start_time": "2021-06-27T14:09:07.534Z"
   },
   {
    "duration": 940,
    "start_time": "2021-06-27T14:09:10.167Z"
   },
   {
    "duration": 953,
    "start_time": "2021-06-27T14:09:52.096Z"
   },
   {
    "duration": 954,
    "start_time": "2021-06-27T14:10:39.044Z"
   },
   {
    "duration": 930,
    "start_time": "2021-06-27T14:10:43.051Z"
   },
   {
    "duration": 19,
    "start_time": "2021-06-27T14:11:08.488Z"
   },
   {
    "duration": 17,
    "start_time": "2021-06-27T14:11:13.736Z"
   },
   {
    "duration": 11,
    "start_time": "2021-06-27T14:12:26.725Z"
   },
   {
    "duration": 13,
    "start_time": "2021-06-27T14:12:33.577Z"
   },
   {
    "duration": 15,
    "start_time": "2021-06-27T14:13:02.585Z"
   },
   {
    "duration": 17,
    "start_time": "2021-06-27T14:14:55.715Z"
   },
   {
    "duration": 17,
    "start_time": "2021-06-27T14:15:13.694Z"
   },
   {
    "duration": 13,
    "start_time": "2021-06-27T14:15:47.025Z"
   },
   {
    "duration": 11,
    "start_time": "2021-06-27T14:15:50.450Z"
   },
   {
    "duration": 39,
    "start_time": "2021-06-27T14:17:58.303Z"
   },
   {
    "duration": 1076,
    "start_time": "2021-06-27T14:18:32.154Z"
   },
   {
    "duration": 615,
    "start_time": "2021-06-27T14:18:36.995Z"
   },
   {
    "duration": 39,
    "start_time": "2021-06-27T14:18:42.593Z"
   },
   {
    "duration": 597,
    "start_time": "2021-06-27T14:19:03.591Z"
   },
   {
    "duration": 419,
    "start_time": "2021-06-27T14:19:08.866Z"
   },
   {
    "duration": 431,
    "start_time": "2021-06-27T14:19:13.597Z"
   },
   {
    "duration": 43,
    "start_time": "2021-06-27T14:19:16.657Z"
   },
   {
    "duration": 418,
    "start_time": "2021-06-27T14:19:37.205Z"
   },
   {
    "duration": 38,
    "start_time": "2021-06-27T14:19:40.156Z"
   },
   {
    "duration": 600,
    "start_time": "2021-06-27T14:19:59.313Z"
   },
   {
    "duration": 44,
    "start_time": "2021-06-27T14:20:04.235Z"
   },
   {
    "duration": 648,
    "start_time": "2021-06-27T14:20:12.028Z"
   },
   {
    "duration": 426,
    "start_time": "2021-06-27T14:20:17.194Z"
   },
   {
    "duration": 38,
    "start_time": "2021-06-27T14:20:19.763Z"
   },
   {
    "duration": 938,
    "start_time": "2021-06-27T14:20:27.783Z"
   },
   {
    "duration": 23,
    "start_time": "2021-06-27T14:20:39.272Z"
   },
   {
    "duration": 18,
    "start_time": "2021-06-27T14:20:44.550Z"
   },
   {
    "duration": 40,
    "start_time": "2021-06-27T14:20:48.947Z"
   },
   {
    "duration": 18,
    "start_time": "2021-06-27T14:21:00.110Z"
   },
   {
    "duration": 51,
    "start_time": "2021-06-27T14:21:18.602Z"
   },
   {
    "duration": 12,
    "start_time": "2021-06-27T14:21:34.982Z"
   },
   {
    "duration": 48,
    "start_time": "2021-06-27T14:21:41.889Z"
   },
   {
    "duration": 19,
    "start_time": "2021-06-27T14:21:48.145Z"
   },
   {
    "duration": 11,
    "start_time": "2021-06-27T14:21:55.688Z"
   },
   {
    "duration": 20,
    "start_time": "2021-06-27T14:21:59.789Z"
   },
   {
    "duration": 47,
    "start_time": "2021-06-27T14:22:06.639Z"
   },
   {
    "duration": 16,
    "start_time": "2021-06-27T14:22:25.967Z"
   },
   {
    "duration": 21,
    "start_time": "2021-06-27T14:23:02.248Z"
   },
   {
    "duration": 15,
    "start_time": "2021-06-27T14:23:13.830Z"
   },
   {
    "duration": 16,
    "start_time": "2021-06-27T14:23:30.545Z"
   },
   {
    "duration": 2436,
    "start_time": "2021-06-27T14:23:54.380Z"
   },
   {
    "duration": 2469,
    "start_time": "2021-06-27T14:24:11.161Z"
   },
   {
    "duration": 2898,
    "start_time": "2021-06-27T14:24:44.710Z"
   },
   {
    "duration": 18,
    "start_time": "2021-06-27T14:24:52.234Z"
   },
   {
    "duration": 13,
    "start_time": "2021-06-27T14:24:55.007Z"
   },
   {
    "duration": 11,
    "start_time": "2021-06-27T14:24:57.075Z"
   },
   {
    "duration": 17,
    "start_time": "2021-06-27T14:24:58.862Z"
   },
   {
    "duration": 16,
    "start_time": "2021-06-27T14:25:00.707Z"
   },
   {
    "duration": 2399,
    "start_time": "2021-06-27T14:25:03.109Z"
   },
   {
    "duration": 2224,
    "start_time": "2021-06-27T14:25:18.483Z"
   },
   {
    "duration": 2177,
    "start_time": "2021-06-27T14:25:35.606Z"
   },
   {
    "duration": 21,
    "start_time": "2021-06-27T14:25:54.061Z"
   },
   {
    "duration": 12,
    "start_time": "2021-06-27T14:25:57.312Z"
   },
   {
    "duration": 17,
    "start_time": "2021-06-27T14:26:00.148Z"
   },
   {
    "duration": 2167,
    "start_time": "2021-06-27T14:26:02.519Z"
   },
   {
    "duration": 20,
    "start_time": "2021-06-27T14:26:34.178Z"
   },
   {
    "duration": 2206,
    "start_time": "2021-06-27T14:26:37.083Z"
   },
   {
    "duration": 115,
    "start_time": "2021-06-27T14:27:21.461Z"
   },
   {
    "duration": 114,
    "start_time": "2021-06-27T14:27:30.772Z"
   },
   {
    "duration": 115,
    "start_time": "2021-06-27T14:27:38.401Z"
   },
   {
    "duration": 132,
    "start_time": "2021-06-27T14:27:57.484Z"
   },
   {
    "duration": 13,
    "start_time": "2021-06-27T14:28:07.109Z"
   },
   {
    "duration": 353,
    "start_time": "2021-06-27T14:28:29.130Z"
   },
   {
    "duration": 18,
    "start_time": "2021-06-27T14:28:33.071Z"
   },
   {
    "duration": 21,
    "start_time": "2021-06-27T14:29:22.283Z"
   },
   {
    "duration": 14,
    "start_time": "2021-06-27T14:29:28.662Z"
   },
   {
    "duration": 2789,
    "start_time": "2021-06-27T14:29:36.276Z"
   },
   {
    "duration": 2175,
    "start_time": "2021-06-27T14:29:51.114Z"
   },
   {
    "duration": 103,
    "start_time": "2021-06-27T14:30:08.519Z"
   },
   {
    "duration": 2283,
    "start_time": "2021-06-27T14:30:11.017Z"
   },
   {
    "duration": 2166,
    "start_time": "2021-06-27T14:30:22.817Z"
   },
   {
    "duration": 17,
    "start_time": "2021-06-27T14:30:48.509Z"
   },
   {
    "duration": 2281,
    "start_time": "2021-06-27T14:30:53.384Z"
   },
   {
    "duration": 2328,
    "start_time": "2021-06-27T14:31:05.164Z"
   },
   {
    "duration": 2182,
    "start_time": "2021-06-27T14:31:17.518Z"
   },
   {
    "duration": 2815,
    "start_time": "2021-06-27T14:31:53.774Z"
   },
   {
    "duration": 1924,
    "start_time": "2021-06-27T14:32:35.357Z"
   },
   {
    "duration": 1912,
    "start_time": "2021-06-27T14:33:56.187Z"
   },
   {
    "duration": 1916,
    "start_time": "2021-06-27T14:34:15.413Z"
   },
   {
    "duration": 1923,
    "start_time": "2021-06-27T14:34:20.659Z"
   },
   {
    "duration": 348,
    "start_time": "2021-06-27T14:36:02.583Z"
   },
   {
    "duration": 384,
    "start_time": "2021-06-27T14:36:13.570Z"
   },
   {
    "duration": 849,
    "start_time": "2021-06-27T14:37:22.074Z"
   },
   {
    "duration": 583,
    "start_time": "2021-06-27T14:37:29.093Z"
   },
   {
    "duration": -4594,
    "start_time": "2021-06-27T14:39:44.549Z"
   },
   {
    "duration": 386,
    "start_time": "2021-06-27T14:39:51.854Z"
   },
   {
    "duration": 386,
    "start_time": "2021-06-27T14:40:03.345Z"
   },
   {
    "duration": 8297,
    "start_time": "2021-06-27T14:40:06.695Z"
   },
   {
    "duration": 256,
    "start_time": "2021-06-27T14:40:28.560Z"
   },
   {
    "duration": 343,
    "start_time": "2021-06-27T14:45:10.620Z"
   },
   {
    "duration": 301,
    "start_time": "2021-06-27T14:45:18.221Z"
   },
   {
    "duration": 353,
    "start_time": "2021-06-27T14:45:34.681Z"
   },
   {
    "duration": 311,
    "start_time": "2021-06-27T14:46:17.786Z"
   },
   {
    "duration": 381,
    "start_time": "2021-06-27T14:46:38.011Z"
   },
   {
    "duration": 170,
    "start_time": "2021-06-27T15:02:30.144Z"
   },
   {
    "duration": 169,
    "start_time": "2021-06-27T15:06:41.213Z"
   },
   {
    "duration": 27,
    "start_time": "2021-06-27T15:06:44.023Z"
   },
   {
    "duration": 47,
    "start_time": "2021-06-27T15:06:46.903Z"
   },
   {
    "duration": 21,
    "start_time": "2021-06-27T15:06:48.722Z"
   },
   {
    "duration": 25,
    "start_time": "2021-06-27T15:06:50.901Z"
   },
   {
    "duration": 22,
    "start_time": "2021-06-27T15:06:53.026Z"
   },
   {
    "duration": 24,
    "start_time": "2021-06-27T15:06:56.856Z"
   },
   {
    "duration": 2497,
    "start_time": "2021-06-27T15:06:58.669Z"
   },
   {
    "duration": 8,
    "start_time": "2021-06-27T15:07:01.170Z"
   },
   {
    "duration": 3119,
    "start_time": "2021-06-27T15:07:02.311Z"
   },
   {
    "duration": 53,
    "start_time": "2021-06-27T15:07:05.433Z"
   },
   {
    "duration": 4,
    "start_time": "2021-06-27T15:07:06.306Z"
   },
   {
    "duration": 1996,
    "start_time": "2021-06-27T15:07:08.860Z"
   },
   {
    "duration": 638,
    "start_time": "2021-06-27T15:07:15.192Z"
   },
   {
    "duration": 15,
    "start_time": "2021-06-27T15:07:18.987Z"
   },
   {
    "duration": 16,
    "start_time": "2021-06-27T15:07:22.619Z"
   },
   {
    "duration": 18,
    "start_time": "2021-06-27T15:07:25.156Z"
   },
   {
    "duration": 17,
    "start_time": "2021-06-27T15:07:27.193Z"
   },
   {
    "duration": 32,
    "start_time": "2021-06-27T15:07:28.338Z"
   },
   {
    "duration": 11,
    "start_time": "2021-06-27T15:07:29.116Z"
   },
   {
    "duration": 19,
    "start_time": "2021-06-27T15:07:29.999Z"
   },
   {
    "duration": 1910,
    "start_time": "2021-06-27T15:07:32.779Z"
   },
   {
    "duration": 366,
    "start_time": "2021-06-27T15:07:38.215Z"
   },
   {
    "duration": 116,
    "start_time": "2021-06-27T15:08:09.596Z"
   },
   {
    "duration": 354,
    "start_time": "2021-06-27T15:08:14.363Z"
   },
   {
    "duration": 384,
    "start_time": "2021-06-27T15:11:15.363Z"
   },
   {
    "duration": 69,
    "start_time": "2021-06-27T15:14:17.229Z"
   },
   {
    "duration": 4,
    "start_time": "2021-06-27T15:33:32.221Z"
   },
   {
    "duration": 1370,
    "start_time": "2021-06-27T15:35:30.706Z"
   },
   {
    "duration": 253,
    "start_time": "2021-06-27T15:36:18.130Z"
   },
   {
    "duration": 2314,
    "start_time": "2021-06-27T15:37:42.374Z"
   },
   {
    "duration": 308,
    "start_time": "2021-06-27T15:38:01.602Z"
   },
   {
    "duration": 308,
    "start_time": "2021-06-27T15:38:32.735Z"
   },
   {
    "duration": 310,
    "start_time": "2021-06-27T15:38:41.014Z"
   },
   {
    "duration": 427,
    "start_time": "2021-06-27T15:40:02.035Z"
   },
   {
    "duration": 323,
    "start_time": "2021-06-27T15:40:13.511Z"
   },
   {
    "duration": 354,
    "start_time": "2021-06-27T15:40:43.359Z"
   },
   {
    "duration": 417,
    "start_time": "2021-06-27T15:40:49.700Z"
   },
   {
    "duration": 39,
    "start_time": "2021-06-27T15:40:52.105Z"
   },
   {
    "duration": 8247,
    "start_time": "2021-06-27T15:42:50.961Z"
   },
   {
    "duration": 1482,
    "start_time": "2021-06-27T15:43:08.005Z"
   },
   {
    "duration": 619,
    "start_time": "2021-06-27T15:44:20.032Z"
   },
   {
    "duration": 2890,
    "start_time": "2021-06-27T15:44:29.700Z"
   },
   {
    "duration": 530,
    "start_time": "2021-06-27T15:44:37.189Z"
   },
   {
    "duration": 1767,
    "start_time": "2021-06-27T15:44:45.318Z"
   },
   {
    "duration": 439,
    "start_time": "2021-06-27T15:44:50.142Z"
   },
   {
    "duration": 400,
    "start_time": "2021-06-27T15:45:00.904Z"
   },
   {
    "duration": 319,
    "start_time": "2021-06-27T15:45:47.177Z"
   },
   {
    "duration": 41,
    "start_time": "2021-06-27T15:46:00.450Z"
   },
   {
    "duration": 462,
    "start_time": "2021-06-27T15:47:07.043Z"
   },
   {
    "duration": 56,
    "start_time": "2021-06-27T15:47:14.448Z"
   },
   {
    "duration": 513,
    "start_time": "2021-06-27T15:48:14.659Z"
   },
   {
    "duration": 354,
    "start_time": "2021-06-27T15:48:50.642Z"
   },
   {
    "duration": 376,
    "start_time": "2021-06-27T15:48:56.547Z"
   },
   {
    "duration": 38,
    "start_time": "2021-06-27T15:49:29.571Z"
   },
   {
    "duration": 354,
    "start_time": "2021-06-27T15:50:03.371Z"
   },
   {
    "duration": 14,
    "start_time": "2021-06-27T15:50:29.198Z"
   },
   {
    "duration": 13,
    "start_time": "2021-06-27T15:52:22.474Z"
   },
   {
    "duration": 11,
    "start_time": "2021-06-27T15:52:24.673Z"
   },
   {
    "duration": 18,
    "start_time": "2021-06-27T15:52:26.581Z"
   },
   {
    "duration": 40,
    "start_time": "2021-06-27T15:52:28.963Z"
   },
   {
    "duration": 12,
    "start_time": "2021-06-27T15:52:50.128Z"
   },
   {
    "duration": 26,
    "start_time": "2021-06-27T15:53:07.021Z"
   },
   {
    "duration": 23,
    "start_time": "2021-06-27T15:54:08.437Z"
   },
   {
    "duration": 57,
    "start_time": "2021-06-27T15:54:10.642Z"
   },
   {
    "duration": 2909,
    "start_time": "2021-06-27T15:54:53.454Z"
   },
   {
    "duration": 2873,
    "start_time": "2021-06-27T15:55:09.452Z"
   },
   {
    "duration": 2002,
    "start_time": "2021-06-27T15:55:18.862Z"
   },
   {
    "duration": 8,
    "start_time": "2021-06-27T15:58:56.478Z"
   },
   {
    "duration": 9864,
    "start_time": "2021-06-27T15:59:39.424Z"
   },
   {
    "duration": 370,
    "start_time": "2021-06-27T16:00:04.777Z"
   },
   {
    "duration": 8,
    "start_time": "2021-06-27T16:00:16.552Z"
   },
   {
    "duration": 8,
    "start_time": "2021-06-27T16:00:20.540Z"
   },
   {
    "duration": 7,
    "start_time": "2021-06-27T16:00:30.200Z"
   },
   {
    "duration": 8,
    "start_time": "2021-06-27T16:00:32.489Z"
   },
   {
    "duration": 8,
    "start_time": "2021-06-27T16:00:39.429Z"
   },
   {
    "duration": 7,
    "start_time": "2021-06-27T16:00:42.273Z"
   },
   {
    "duration": 7,
    "start_time": "2021-06-27T16:00:53.873Z"
   },
   {
    "duration": 7,
    "start_time": "2021-06-27T16:01:49.384Z"
   },
   {
    "duration": 7,
    "start_time": "2021-06-27T16:01:55.965Z"
   },
   {
    "duration": -5596,
    "start_time": "2021-06-27T16:07:30.497Z"
   },
   {
    "duration": 42,
    "start_time": "2021-06-27T16:11:34.913Z"
   },
   {
    "duration": 390,
    "start_time": "2021-06-27T16:31:17.067Z"
   },
   {
    "duration": 305,
    "start_time": "2021-06-27T16:32:15.208Z"
   },
   {
    "duration": 390,
    "start_time": "2021-06-27T16:32:29.874Z"
   },
   {
    "duration": 584,
    "start_time": "2021-06-27T16:32:53.782Z"
   },
   {
    "duration": 360,
    "start_time": "2021-06-27T16:33:02.428Z"
   },
   {
    "duration": 369,
    "start_time": "2021-06-27T16:33:17.651Z"
   },
   {
    "duration": 361,
    "start_time": "2021-06-27T16:33:25.543Z"
   },
   {
    "duration": 774,
    "start_time": "2021-06-27T16:33:45.605Z"
   },
   {
    "duration": 692,
    "start_time": "2021-06-27T16:34:01.675Z"
   },
   {
    "duration": 290,
    "start_time": "2021-06-27T16:35:40.436Z"
   },
   {
    "duration": 567,
    "start_time": "2021-06-27T16:37:24.313Z"
   },
   {
    "duration": 341,
    "start_time": "2021-06-27T16:37:40.881Z"
   },
   {
    "duration": 230,
    "start_time": "2021-06-27T16:38:17.670Z"
   },
   {
    "duration": 578,
    "start_time": "2021-06-27T16:43:46.775Z"
   },
   {
    "duration": 1243,
    "start_time": "2021-06-27T16:44:11.661Z"
   },
   {
    "duration": 9,
    "start_time": "2021-06-27T16:44:32.048Z"
   },
   {
    "duration": 8,
    "start_time": "2021-06-27T16:46:27.497Z"
   },
   {
    "duration": 29,
    "start_time": "2021-06-27T16:52:42.508Z"
   },
   {
    "duration": 40,
    "start_time": "2021-06-27T16:56:07.715Z"
   },
   {
    "duration": 321,
    "start_time": "2021-06-27T16:57:52.244Z"
   },
   {
    "duration": 38,
    "start_time": "2021-06-27T16:59:38.204Z"
   },
   {
    "duration": 331,
    "start_time": "2021-06-27T17:00:33.174Z"
   },
   {
    "duration": 305,
    "start_time": "2021-06-27T17:01:44.666Z"
   },
   {
    "duration": 37,
    "start_time": "2021-06-27T17:01:57.291Z"
   },
   {
    "duration": 1382,
    "start_time": "2021-06-27T17:07:48.964Z"
   },
   {
    "duration": 31,
    "start_time": "2021-06-27T17:08:02.543Z"
   },
   {
    "duration": 373,
    "start_time": "2021-06-27T17:08:10.958Z"
   },
   {
    "duration": 38,
    "start_time": "2021-06-27T17:08:15.815Z"
   },
   {
    "duration": 323,
    "start_time": "2021-06-27T17:08:31.418Z"
   },
   {
    "duration": 338,
    "start_time": "2021-06-27T17:09:27.809Z"
   },
   {
    "duration": 410,
    "start_time": "2021-06-27T17:09:42.971Z"
   },
   {
    "duration": 544,
    "start_time": "2021-06-27T17:09:54.938Z"
   },
   {
    "duration": 8050,
    "start_time": "2021-06-27T17:12:03.085Z"
   },
   {
    "duration": 267,
    "start_time": "2021-06-27T17:12:48.573Z"
   },
   {
    "duration": 267,
    "start_time": "2021-06-27T17:13:49.484Z"
   },
   {
    "duration": 374,
    "start_time": "2021-06-27T17:14:14.509Z"
   },
   {
    "duration": 335,
    "start_time": "2021-06-27T17:15:26.127Z"
   },
   {
    "duration": 259,
    "start_time": "2021-06-27T17:15:38.189Z"
   },
   {
    "duration": 123,
    "start_time": "2021-06-27T17:15:52.073Z"
   },
   {
    "duration": 347,
    "start_time": "2021-06-27T17:15:56.012Z"
   },
   {
    "duration": 466,
    "start_time": "2021-06-27T17:16:15.985Z"
   },
   {
    "duration": 571,
    "start_time": "2021-06-27T17:16:35.313Z"
   },
   {
    "duration": 477,
    "start_time": "2021-06-27T17:16:44.162Z"
   },
   {
    "duration": 115,
    "start_time": "2021-06-27T17:18:14.987Z"
   },
   {
    "duration": 8676,
    "start_time": "2021-06-27T17:18:17.809Z"
   },
   {
    "duration": 715,
    "start_time": "2021-06-27T17:18:40.398Z"
   },
   {
    "duration": 758,
    "start_time": "2021-06-27T17:21:01.388Z"
   },
   {
    "duration": 483,
    "start_time": "2021-06-27T17:21:20.810Z"
   },
   {
    "duration": 389,
    "start_time": "2021-06-27T17:22:52.273Z"
   },
   {
    "duration": 376,
    "start_time": "2021-06-27T17:23:04.838Z"
   },
   {
    "duration": 499,
    "start_time": "2021-06-27T17:24:11.968Z"
   },
   {
    "duration": 40,
    "start_time": "2021-06-27T17:24:20.598Z"
   },
   {
    "duration": 38,
    "start_time": "2021-06-27T17:24:25.575Z"
   },
   {
    "duration": 382,
    "start_time": "2021-06-27T17:24:33.884Z"
   },
   {
    "duration": 32,
    "start_time": "2021-06-27T17:26:04.598Z"
   },
   {
    "duration": 38,
    "start_time": "2021-06-27T17:26:10.375Z"
   },
   {
    "duration": 486,
    "start_time": "2021-06-27T17:26:23.529Z"
   },
   {
    "duration": 3,
    "start_time": "2021-06-27T17:29:47.322Z"
   },
   {
    "duration": 416,
    "start_time": "2021-06-27T17:30:38.755Z"
   },
   {
    "duration": 13,
    "start_time": "2021-06-27T17:30:46.967Z"
   },
   {
    "duration": 21,
    "start_time": "2021-06-27T17:30:55.202Z"
   },
   {
    "duration": 50,
    "start_time": "2021-06-27T17:31:02.089Z"
   },
   {
    "duration": 18,
    "start_time": "2021-06-27T17:31:14.680Z"
   },
   {
    "duration": 18,
    "start_time": "2021-06-27T17:31:17.252Z"
   },
   {
    "duration": 31,
    "start_time": "2021-06-27T17:31:27.164Z"
   },
   {
    "duration": 36,
    "start_time": "2021-06-27T17:32:11.780Z"
   },
   {
    "duration": 32,
    "start_time": "2021-06-27T17:33:23.224Z"
   },
   {
    "duration": 37,
    "start_time": "2021-06-27T17:35:01.905Z"
   },
   {
    "duration": 10,
    "start_time": "2021-06-27T17:35:33.321Z"
   },
   {
    "duration": 118,
    "start_time": "2021-06-27T17:36:21.769Z"
   },
   {
    "duration": 1193,
    "start_time": "2021-06-27T17:36:27.512Z"
   },
   {
    "duration": 32,
    "start_time": "2021-06-27T17:37:16.499Z"
   },
   {
    "duration": 33,
    "start_time": "2021-06-27T17:38:43.880Z"
   },
   {
    "duration": 84274,
    "start_time": "2021-06-27T17:39:20.865Z"
   },
   {
    "duration": 87250,
    "start_time": "2021-06-27T17:50:46.068Z"
   },
   {
    "duration": 112,
    "start_time": "2021-06-27T17:54:51.177Z"
   },
   {
    "duration": 12,
    "start_time": "2021-06-27T17:54:57.009Z"
   },
   {
    "duration": 18,
    "start_time": "2021-06-27T17:55:42.935Z"
   },
   {
    "duration": 8517,
    "start_time": "2021-06-27T18:02:23.848Z"
   },
   {
    "duration": 8263,
    "start_time": "2021-06-27T18:03:48.524Z"
   },
   {
    "duration": 7024,
    "start_time": "2021-06-27T18:04:35.781Z"
   },
   {
    "duration": 6725,
    "start_time": "2021-06-27T18:06:19.280Z"
   },
   {
    "duration": 13,
    "start_time": "2021-06-27T18:07:19.591Z"
   },
   {
    "duration": 5247,
    "start_time": "2021-06-27T18:07:33.180Z"
   },
   {
    "duration": 14,
    "start_time": "2021-06-27T18:07:52.414Z"
   },
   {
    "duration": 3695,
    "start_time": "2021-06-27T18:08:03.412Z"
   },
   {
    "duration": 17,
    "start_time": "2021-06-27T18:08:16.650Z"
   },
   {
    "duration": 9009,
    "start_time": "2021-06-27T18:08:21.742Z"
   },
   {
    "duration": 9122,
    "start_time": "2021-06-27T18:08:48.440Z"
   },
   {
    "duration": 393,
    "start_time": "2021-06-27T18:10:17.087Z"
   },
   {
    "duration": 31,
    "start_time": "2021-06-27T18:10:33.892Z"
   },
   {
    "duration": 10140,
    "start_time": "2021-06-27T18:11:33.390Z"
   },
   {
    "duration": 219,
    "start_time": "2021-06-27T18:14:41.527Z"
   },
   {
    "duration": 792,
    "start_time": "2021-06-27T18:15:04.293Z"
   },
   {
    "duration": 704,
    "start_time": "2021-06-27T18:15:13.504Z"
   },
   {
    "duration": 674,
    "start_time": "2021-06-27T18:15:29.642Z"
   },
   {
    "duration": 950,
    "start_time": "2021-06-27T18:16:28.511Z"
   },
   {
    "duration": 1382,
    "start_time": "2021-06-27T18:16:51.606Z"
   },
   {
    "duration": 747,
    "start_time": "2021-06-27T18:17:58.004Z"
   },
   {
    "duration": 30,
    "start_time": "2021-06-27T18:18:32.001Z"
   },
   {
    "duration": 161,
    "start_time": "2021-06-27T18:19:07.747Z"
   },
   {
    "duration": 49,
    "start_time": "2021-06-27T18:19:17.200Z"
   },
   {
    "duration": 338,
    "start_time": "2021-06-27T18:19:41.612Z"
   },
   {
    "duration": 418,
    "start_time": "2021-06-27T18:22:02.766Z"
   },
   {
    "duration": 38,
    "start_time": "2021-06-27T18:23:03.823Z"
   },
   {
    "duration": 397,
    "start_time": "2021-06-27T18:23:14.547Z"
   },
   {
    "duration": 630,
    "start_time": "2021-06-27T18:23:29.897Z"
   },
   {
    "duration": 538,
    "start_time": "2021-06-27T18:23:47.327Z"
   },
   {
    "duration": 346,
    "start_time": "2021-06-27T18:23:59.374Z"
   },
   {
    "duration": 762,
    "start_time": "2021-06-27T18:24:52.968Z"
   },
   {
    "duration": 907,
    "start_time": "2021-06-27T18:25:10.663Z"
   },
   {
    "duration": 1533,
    "start_time": "2021-06-27T18:25:34.558Z"
   },
   {
    "duration": 330,
    "start_time": "2021-06-27T18:26:59.292Z"
   },
   {
    "duration": 11,
    "start_time": "2021-06-27T18:27:10.566Z"
   },
   {
    "duration": 12,
    "start_time": "2021-06-27T18:35:13.796Z"
   },
   {
    "duration": 16,
    "start_time": "2021-06-27T18:36:18.890Z"
   },
   {
    "duration": 23,
    "start_time": "2021-06-27T18:38:28.748Z"
   },
   {
    "duration": 312,
    "start_time": "2021-06-27T18:40:05.394Z"
   },
   {
    "duration": 10,
    "start_time": "2021-06-27T18:40:11.865Z"
   },
   {
    "duration": 39,
    "start_time": "2021-06-27T18:40:25.122Z"
   },
   {
    "duration": 10,
    "start_time": "2021-06-27T18:40:41.557Z"
   },
   {
    "duration": 8006,
    "start_time": "2021-06-27T18:45:07.516Z"
   },
   {
    "duration": 8987,
    "start_time": "2021-06-27T18:45:40.751Z"
   },
   {
    "duration": 44,
    "start_time": "2021-06-27T18:46:23.513Z"
   },
   {
    "duration": 13,
    "start_time": "2021-06-27T18:47:00.478Z"
   },
   {
    "duration": 70,
    "start_time": "2021-06-27T18:54:29.540Z"
   },
   {
    "duration": 15,
    "start_time": "2021-06-27T18:56:15.142Z"
   },
   {
    "duration": 16,
    "start_time": "2021-06-27T18:58:26.248Z"
   },
   {
    "duration": 33,
    "start_time": "2021-06-27T19:03:40.288Z"
   },
   {
    "duration": 585,
    "start_time": "2021-06-27T19:07:12.692Z"
   },
   {
    "duration": 358,
    "start_time": "2021-06-27T19:07:47.775Z"
   },
   {
    "duration": 318,
    "start_time": "2021-06-27T19:18:08.102Z"
   },
   {
    "duration": 4,
    "start_time": "2021-06-27T19:18:14.426Z"
   },
   {
    "duration": 1370,
    "start_time": "2021-06-27T19:19:29.301Z"
   },
   {
    "duration": 805,
    "start_time": "2021-06-27T19:20:02.916Z"
   },
   {
    "duration": 554,
    "start_time": "2021-06-27T19:20:24.374Z"
   },
   {
    "duration": 14,
    "start_time": "2021-06-27T19:38:32.718Z"
   },
   {
    "duration": 13,
    "start_time": "2021-06-27T19:38:58.525Z"
   },
   {
    "duration": 15,
    "start_time": "2021-06-27T19:40:19.862Z"
   },
   {
    "duration": 61,
    "start_time": "2021-06-27T19:40:31.059Z"
   },
   {
    "duration": 64,
    "start_time": "2021-06-27T19:42:53.542Z"
   },
   {
    "duration": 62,
    "start_time": "2021-06-27T19:45:01.867Z"
   },
   {
    "duration": 43,
    "start_time": "2021-06-27T19:46:19.105Z"
   },
   {
    "duration": 379,
    "start_time": "2021-06-27T19:46:43.615Z"
   },
   {
    "duration": 43,
    "start_time": "2021-06-27T19:46:49.378Z"
   },
   {
    "duration": 44,
    "start_time": "2021-06-27T19:47:01.766Z"
   },
   {
    "duration": 55,
    "start_time": "2021-06-27T19:47:06.111Z"
   },
   {
    "duration": 340,
    "start_time": "2021-06-27T19:48:29.577Z"
   },
   {
    "duration": 326,
    "start_time": "2021-06-27T19:49:09.644Z"
   },
   {
    "duration": 17,
    "start_time": "2021-06-27T19:49:46.959Z"
   },
   {
    "duration": 14,
    "start_time": "2021-06-27T19:50:32.983Z"
   },
   {
    "duration": 54,
    "start_time": "2021-06-27T20:14:48.055Z"
   },
   {
    "duration": 20,
    "start_time": "2021-06-27T20:30:40.749Z"
   },
   {
    "duration": 20,
    "start_time": "2021-06-27T20:30:47.411Z"
   },
   {
    "duration": 20,
    "start_time": "2021-06-27T20:31:18.558Z"
   },
   {
    "duration": 7,
    "start_time": "2021-06-27T20:31:58.476Z"
   },
   {
    "duration": 7,
    "start_time": "2021-06-27T20:32:07.691Z"
   },
   {
    "duration": 25,
    "start_time": "2021-06-27T20:34:23.979Z"
   },
   {
    "duration": 19,
    "start_time": "2021-06-27T20:34:25.936Z"
   },
   {
    "duration": 13,
    "start_time": "2021-06-27T20:39:01.563Z"
   },
   {
    "duration": 12,
    "start_time": "2021-06-27T20:39:03.758Z"
   },
   {
    "duration": 13,
    "start_time": "2021-06-27T20:39:24.837Z"
   },
   {
    "duration": 12,
    "start_time": "2021-06-27T20:39:26.961Z"
   },
   {
    "duration": 22,
    "start_time": "2021-06-27T20:39:31.294Z"
   },
   {
    "duration": 19,
    "start_time": "2021-06-27T21:07:15.997Z"
   },
   {
    "duration": 19,
    "start_time": "2021-06-27T21:07:19.668Z"
   },
   {
    "duration": 2047,
    "start_time": "2021-06-27T21:07:31.623Z"
   },
   {
    "duration": 26,
    "start_time": "2021-06-27T21:08:59.985Z"
   },
   {
    "duration": 27,
    "start_time": "2021-06-27T21:09:01.891Z"
   },
   {
    "duration": 21,
    "start_time": "2021-06-27T21:09:03.818Z"
   },
   {
    "duration": 2151,
    "start_time": "2021-06-27T21:15:39.899Z"
   },
   {
    "duration": 23,
    "start_time": "2021-06-27T21:15:42.054Z"
   },
   {
    "duration": 2015,
    "start_time": "2021-06-27T21:15:43.909Z"
   },
   {
    "duration": 13,
    "start_time": "2021-06-27T21:15:46.150Z"
   },
   {
    "duration": 5,
    "start_time": "2021-06-27T21:19:01.433Z"
   },
   {
    "duration": 1530,
    "start_time": "2021-06-27T21:19:03.812Z"
   },
   {
    "duration": 1611,
    "start_time": "2021-06-27T21:19:21.568Z"
   },
   {
    "duration": 1529,
    "start_time": "2021-06-27T21:19:30.413Z"
   },
   {
    "duration": 1518,
    "start_time": "2021-06-27T21:19:52.259Z"
   },
   {
    "duration": 946,
    "start_time": "2021-06-27T21:22:44.975Z"
   },
   {
    "duration": 1629,
    "start_time": "2021-06-27T21:22:46.524Z"
   },
   {
    "duration": 5,
    "start_time": "2021-06-27T21:22:59.340Z"
   },
   {
    "duration": 1626,
    "start_time": "2021-06-27T21:23:01.228Z"
   },
   {
    "duration": 419,
    "start_time": "2021-06-27T21:23:04.352Z"
   },
   {
    "duration": 3,
    "start_time": "2021-06-27T21:23:23.378Z"
   },
   {
    "duration": 4,
    "start_time": "2021-06-27T21:23:35.693Z"
   },
   {
    "duration": 1969,
    "start_time": "2021-06-27T21:23:39.241Z"
   },
   {
    "duration": 431,
    "start_time": "2021-06-27T21:24:25.002Z"
   },
   {
    "duration": 473,
    "start_time": "2021-06-27T21:25:07.219Z"
   },
   {
    "duration": 343,
    "start_time": "2021-06-27T21:25:19.904Z"
   },
   {
    "duration": 344,
    "start_time": "2021-06-27T21:25:28.494Z"
   },
   {
    "duration": 20,
    "start_time": "2021-06-27T21:25:41.822Z"
   },
   {
    "duration": 11,
    "start_time": "2021-06-27T21:26:00.348Z"
   },
   {
    "duration": 11,
    "start_time": "2021-06-27T21:26:06.569Z"
   },
   {
    "duration": 22,
    "start_time": "2021-06-27T21:26:08.947Z"
   },
   {
    "duration": 2834,
    "start_time": "2021-06-27T21:26:27.513Z"
   },
   {
    "duration": 3506,
    "start_time": "2021-06-27T21:26:31.760Z"
   },
   {
    "duration": 529,
    "start_time": "2021-06-27T21:26:49.004Z"
   },
   {
    "duration": 11,
    "start_time": "2021-06-27T21:27:03.171Z"
   },
   {
    "duration": 493,
    "start_time": "2021-06-27T21:27:30.896Z"
   },
   {
    "duration": 18,
    "start_time": "2021-06-27T21:27:44.017Z"
   },
   {
    "duration": 8919,
    "start_time": "2021-06-27T21:27:52.380Z"
   },
   {
    "duration": 15,
    "start_time": "2021-06-27T21:28:14.105Z"
   },
   {
    "duration": 677,
    "start_time": "2021-06-27T21:28:23.052Z"
   },
   {
    "duration": 60,
    "start_time": "2021-06-27T21:28:30.858Z"
   },
   {
    "duration": 586,
    "start_time": "2021-06-27T21:28:37.486Z"
   },
   {
    "duration": 2017,
    "start_time": "2021-06-27T21:28:53.137Z"
   },
   {
    "duration": 152,
    "start_time": "2021-06-27T21:29:05.493Z"
   },
   {
    "duration": 49,
    "start_time": "2021-06-27T21:29:12.599Z"
   },
   {
    "duration": 28,
    "start_time": "2021-06-27T21:29:15.007Z"
   },
   {
    "duration": 46,
    "start_time": "2021-06-27T21:29:17.086Z"
   },
   {
    "duration": 25,
    "start_time": "2021-06-27T21:29:19.029Z"
   },
   {
    "duration": 4075,
    "start_time": "2021-06-27T21:29:21.074Z"
   },
   {
    "duration": 26,
    "start_time": "2021-06-27T21:29:25.153Z"
   },
   {
    "duration": 7,
    "start_time": "2021-06-27T21:29:25.756Z"
   },
   {
    "duration": 3004,
    "start_time": "2021-06-27T21:29:27.382Z"
   },
   {
    "duration": 57,
    "start_time": "2021-06-27T21:29:30.389Z"
   },
   {
    "duration": 4,
    "start_time": "2021-06-27T21:29:33.859Z"
   },
   {
    "duration": 2839,
    "start_time": "2021-06-27T21:29:37.049Z"
   },
   {
    "duration": 462,
    "start_time": "2021-06-27T21:29:43.028Z"
   },
   {
    "duration": 340,
    "start_time": "2021-06-27T21:29:46.962Z"
   },
   {
    "duration": 315,
    "start_time": "2021-06-27T21:29:49.043Z"
   },
   {
    "duration": 14,
    "start_time": "2021-06-27T21:29:52.166Z"
   },
   {
    "duration": 16,
    "start_time": "2021-06-27T21:30:05.191Z"
   },
   {
    "duration": 21,
    "start_time": "2021-06-27T21:30:13.949Z"
   },
   {
    "duration": 2103,
    "start_time": "2021-06-27T21:30:21.349Z"
   },
   {
    "duration": 313,
    "start_time": "2021-06-28T07:59:15.721Z"
   },
   {
    "duration": 4352,
    "start_time": "2021-06-28T07:59:25.556Z"
   },
   {
    "duration": 25,
    "start_time": "2021-06-28T07:59:32.883Z"
   },
   {
    "duration": 49,
    "start_time": "2021-06-28T07:59:36.994Z"
   },
   {
    "duration": 25,
    "start_time": "2021-06-28T07:59:39.689Z"
   },
   {
    "duration": 37,
    "start_time": "2021-06-28T07:59:42.410Z"
   },
   {
    "duration": 21,
    "start_time": "2021-06-28T07:59:45.360Z"
   },
   {
    "duration": 2058,
    "start_time": "2021-06-28T07:59:47.766Z"
   },
   {
    "duration": 15,
    "start_time": "2021-06-28T07:59:51.286Z"
   },
   {
    "duration": 5,
    "start_time": "2021-06-28T07:59:54.695Z"
   },
   {
    "duration": 1588,
    "start_time": "2021-06-28T07:59:57.096Z"
   },
   {
    "duration": 40,
    "start_time": "2021-06-28T07:59:59.254Z"
   },
   {
    "duration": 29,
    "start_time": "2021-06-28T08:00:06.253Z"
   },
   {
    "duration": 109,
    "start_time": "2021-06-28T08:00:29.462Z"
   },
   {
    "duration": 1799,
    "start_time": "2021-06-28T08:00:31.669Z"
   },
   {
    "duration": 413,
    "start_time": "2021-06-28T08:00:59.838Z"
   },
   {
    "duration": 300,
    "start_time": "2021-06-28T08:01:04.771Z"
   },
   {
    "duration": 280,
    "start_time": "2021-06-28T08:01:07.584Z"
   },
   {
    "duration": 14,
    "start_time": "2021-06-28T08:01:11.164Z"
   },
   {
    "duration": 17,
    "start_time": "2021-06-28T08:01:13.784Z"
   },
   {
    "duration": 12,
    "start_time": "2021-06-28T08:01:20.349Z"
   },
   {
    "duration": 321,
    "start_time": "2021-06-28T08:01:22.669Z"
   },
   {
    "duration": 16,
    "start_time": "2021-06-28T08:01:31.853Z"
   },
   {
    "duration": 1794,
    "start_time": "2021-06-28T08:01:37.359Z"
   },
   {
    "duration": 422,
    "start_time": "2021-06-28T08:02:34.191Z"
   },
   {
    "duration": 294,
    "start_time": "2021-06-28T08:02:43.531Z"
   },
   {
    "duration": 272,
    "start_time": "2021-06-28T08:02:49.896Z"
   },
   {
    "duration": 14,
    "start_time": "2021-06-28T08:02:54.479Z"
   },
   {
    "duration": 17,
    "start_time": "2021-06-28T08:02:56.905Z"
   },
   {
    "duration": 11,
    "start_time": "2021-06-28T08:02:58.919Z"
   },
   {
    "duration": 14,
    "start_time": "2021-06-28T08:03:01.140Z"
   },
   {
    "duration": 1752,
    "start_time": "2021-06-28T08:03:04.978Z"
   },
   {
    "duration": 353,
    "start_time": "2021-06-28T08:03:13.137Z"
   },
   {
    "duration": 536,
    "start_time": "2021-06-28T08:03:31.188Z"
   },
   {
    "duration": 15,
    "start_time": "2021-06-28T08:03:42.980Z"
   },
   {
    "duration": 9042,
    "start_time": "2021-06-28T08:03:48.630Z"
   },
   {
    "duration": 8845,
    "start_time": "2021-06-28T08:04:18.916Z"
   },
   {
    "duration": 18,
    "start_time": "2021-06-28T08:05:15.791Z"
   },
   {
    "duration": 8636,
    "start_time": "2021-06-28T08:05:22.020Z"
   },
   {
    "duration": 8722,
    "start_time": "2021-06-28T08:06:09.206Z"
   },
   {
    "duration": 13,
    "start_time": "2021-06-28T08:10:00.745Z"
   },
   {
    "duration": 13,
    "start_time": "2021-06-28T08:10:03.000Z"
   },
   {
    "duration": 38,
    "start_time": "2021-06-28T08:10:06.777Z"
   },
   {
    "duration": 22,
    "start_time": "2021-06-28T08:17:18.980Z"
   },
   {
    "duration": 39,
    "start_time": "2021-06-28T08:17:53.395Z"
   },
   {
    "duration": 2248,
    "start_time": "2021-06-28T08:19:05.344Z"
   },
   {
    "duration": 13,
    "start_time": "2021-06-28T08:19:11.226Z"
   },
   {
    "duration": 6,
    "start_time": "2021-06-28T08:19:19.035Z"
   },
   {
    "duration": 1525,
    "start_time": "2021-06-28T08:19:21.525Z"
   },
   {
    "duration": 287,
    "start_time": "2021-06-28T08:19:23.631Z"
   },
   {
    "duration": 785,
    "start_time": "2021-06-28T08:19:37.458Z"
   },
   {
    "duration": 24,
    "start_time": "2021-06-28T08:19:40.617Z"
   },
   {
    "duration": 45,
    "start_time": "2021-06-28T08:19:43.985Z"
   },
   {
    "duration": 21,
    "start_time": "2021-06-28T08:19:46.019Z"
   },
   {
    "duration": 32,
    "start_time": "2021-06-28T08:19:48.546Z"
   },
   {
    "duration": 19,
    "start_time": "2021-06-28T08:19:50.624Z"
   },
   {
    "duration": 2306,
    "start_time": "2021-06-28T08:19:52.905Z"
   },
   {
    "duration": 16,
    "start_time": "2021-06-28T08:19:55.215Z"
   },
   {
    "duration": 5,
    "start_time": "2021-06-28T08:19:57.040Z"
   },
   {
    "duration": 1593,
    "start_time": "2021-06-28T08:19:59.497Z"
   },
   {
    "duration": 34,
    "start_time": "2021-06-28T08:20:02.688Z"
   },
   {
    "duration": 24,
    "start_time": "2021-06-28T08:20:06.402Z"
   },
   {
    "duration": 33,
    "start_time": "2021-06-28T08:20:15.170Z"
   },
   {
    "duration": 33,
    "start_time": "2021-06-28T08:20:23.891Z"
   },
   {
    "duration": 4,
    "start_time": "2021-06-28T08:34:10.778Z"
   },
   {
    "duration": 1832,
    "start_time": "2021-06-28T08:35:42.224Z"
   },
   {
    "duration": 1966,
    "start_time": "2021-06-28T08:39:57.568Z"
   },
   {
    "duration": 426,
    "start_time": "2021-06-28T08:45:14.161Z"
   },
   {
    "duration": 289,
    "start_time": "2021-06-28T08:46:01.315Z"
   },
   {
    "duration": 281,
    "start_time": "2021-06-28T08:46:11.444Z"
   },
   {
    "duration": 13,
    "start_time": "2021-06-28T08:46:19.028Z"
   },
   {
    "duration": 20,
    "start_time": "2021-06-28T08:46:21.521Z"
   },
   {
    "duration": 12,
    "start_time": "2021-06-28T08:46:23.667Z"
   },
   {
    "duration": 15,
    "start_time": "2021-06-28T08:46:27.756Z"
   },
   {
    "duration": 1783,
    "start_time": "2021-06-28T08:46:30.285Z"
   },
   {
    "duration": 296,
    "start_time": "2021-06-28T08:47:55.129Z"
   },
   {
    "duration": 370,
    "start_time": "2021-06-28T08:49:00.253Z"
   },
   {
    "duration": 2010,
    "start_time": "2021-06-28T08:49:08.863Z"
   },
   {
    "duration": 365,
    "start_time": "2021-06-28T08:49:40.055Z"
   },
   {
    "duration": 793,
    "start_time": "2021-06-28T08:49:44.663Z"
   },
   {
    "duration": 322,
    "start_time": "2021-06-28T08:49:47.896Z"
   },
   {
    "duration": 1747,
    "start_time": "2021-06-28T08:49:56.734Z"
   },
   {
    "duration": 397,
    "start_time": "2021-06-28T08:50:20.594Z"
   },
   {
    "duration": 570,
    "start_time": "2021-06-28T08:50:25.957Z"
   },
   {
    "duration": 367,
    "start_time": "2021-06-28T08:50:30.007Z"
   },
   {
    "duration": 1644,
    "start_time": "2021-06-28T08:50:37.541Z"
   },
   {
    "duration": 2180,
    "start_time": "2021-06-28T08:56:36.632Z"
   },
   {
    "duration": 1037,
    "start_time": "2021-06-28T08:57:26.000Z"
   },
   {
    "duration": 779,
    "start_time": "2021-06-28T08:58:05.070Z"
   },
   {
    "duration": 894,
    "start_time": "2021-06-28T08:59:30.039Z"
   },
   {
    "duration": 269,
    "start_time": "2021-06-28T09:00:57.879Z"
   },
   {
    "duration": 255,
    "start_time": "2021-06-28T09:02:10.481Z"
   },
   {
    "duration": 408,
    "start_time": "2021-06-28T09:02:20.954Z"
   },
   {
    "duration": 847,
    "start_time": "2021-06-28T09:06:41.427Z"
   },
   {
    "duration": 475,
    "start_time": "2021-06-28T09:08:08.410Z"
   },
   {
    "duration": 459,
    "start_time": "2021-06-28T09:08:36.130Z"
   },
   {
    "duration": 663,
    "start_time": "2021-06-28T09:09:28.602Z"
   },
   {
    "duration": 621,
    "start_time": "2021-06-28T09:09:54.809Z"
   },
   {
    "duration": 38,
    "start_time": "2021-06-28T09:10:35.507Z"
   },
   {
    "duration": 37,
    "start_time": "2021-06-28T09:10:48.243Z"
   },
   {
    "duration": 35,
    "start_time": "2021-06-28T09:11:21.765Z"
   },
   {
    "duration": 4,
    "start_time": "2021-06-28T09:11:37.073Z"
   },
   {
    "duration": 34,
    "start_time": "2021-06-28T09:11:38.880Z"
   },
   {
    "duration": 295,
    "start_time": "2021-06-28T09:11:56.609Z"
   },
   {
    "duration": 39,
    "start_time": "2021-06-28T09:12:16.713Z"
   },
   {
    "duration": 770,
    "start_time": "2021-06-28T09:13:07.986Z"
   },
   {
    "duration": 355,
    "start_time": "2021-06-28T09:13:13.643Z"
   },
   {
    "duration": 311,
    "start_time": "2021-06-28T09:13:31.840Z"
   },
   {
    "duration": 3,
    "start_time": "2021-06-28T09:13:54.992Z"
   },
   {
    "duration": 343,
    "start_time": "2021-06-28T09:13:58.078Z"
   },
   {
    "duration": 325,
    "start_time": "2021-06-28T09:15:51.266Z"
   },
   {
    "duration": 144,
    "start_time": "2021-06-28T09:15:58.230Z"
   },
   {
    "duration": 26,
    "start_time": "2021-06-28T09:16:00.613Z"
   },
   {
    "duration": 49,
    "start_time": "2021-06-28T09:16:04.249Z"
   },
   {
    "duration": 21,
    "start_time": "2021-06-28T09:16:06.916Z"
   },
   {
    "duration": 30,
    "start_time": "2021-06-28T09:16:09.659Z"
   },
   {
    "duration": 20,
    "start_time": "2021-06-28T09:16:12.165Z"
   },
   {
    "duration": 2371,
    "start_time": "2021-06-28T09:16:13.862Z"
   },
   {
    "duration": 21,
    "start_time": "2021-06-28T09:16:16.236Z"
   },
   {
    "duration": 5,
    "start_time": "2021-06-28T09:16:17.370Z"
   },
   {
    "duration": 1528,
    "start_time": "2021-06-28T09:16:19.328Z"
   },
   {
    "duration": 33,
    "start_time": "2021-06-28T09:16:21.351Z"
   },
   {
    "duration": 27,
    "start_time": "2021-06-28T09:16:22.809Z"
   },
   {
    "duration": 37,
    "start_time": "2021-06-28T09:16:24.912Z"
   },
   {
    "duration": 4,
    "start_time": "2021-06-28T09:16:28.032Z"
   },
   {
    "duration": 2012,
    "start_time": "2021-06-28T09:16:29.897Z"
   },
   {
    "duration": 339,
    "start_time": "2021-06-28T09:16:34.966Z"
   },
   {
    "duration": 336,
    "start_time": "2021-06-28T09:16:37.747Z"
   },
   {
    "duration": 347,
    "start_time": "2021-06-28T09:16:40.188Z"
   },
   {
    "duration": 16,
    "start_time": "2021-06-28T09:16:42.792Z"
   },
   {
    "duration": 17,
    "start_time": "2021-06-28T09:16:44.949Z"
   },
   {
    "duration": 12,
    "start_time": "2021-06-28T09:16:46.274Z"
   },
   {
    "duration": 16,
    "start_time": "2021-06-28T09:16:47.516Z"
   },
   {
    "duration": 1682,
    "start_time": "2021-06-28T09:16:50.347Z"
   },
   {
    "duration": 1650,
    "start_time": "2021-06-28T09:17:15.175Z"
   },
   {
    "duration": 375,
    "start_time": "2021-06-28T09:31:25.533Z"
   },
   {
    "duration": 331,
    "start_time": "2021-06-28T09:31:30.396Z"
   },
   {
    "duration": 380,
    "start_time": "2021-06-28T09:32:17.299Z"
   },
   {
    "duration": 36,
    "start_time": "2021-06-28T09:33:10.928Z"
   },
   {
    "duration": 1928,
    "start_time": "2021-06-28T09:33:31.632Z"
   },
   {
    "duration": 353,
    "start_time": "2021-06-28T09:33:46.346Z"
   },
   {
    "duration": 1746,
    "start_time": "2021-06-28T09:33:54.564Z"
   },
   {
    "duration": 364,
    "start_time": "2021-06-28T09:34:01.126Z"
   },
   {
    "duration": 320,
    "start_time": "2021-06-28T09:34:06.791Z"
   },
   {
    "duration": 339,
    "start_time": "2021-06-28T09:34:11.116Z"
   },
   {
    "duration": 14,
    "start_time": "2021-06-28T09:34:20.385Z"
   },
   {
    "duration": 20,
    "start_time": "2021-06-28T09:34:27.267Z"
   },
   {
    "duration": 11,
    "start_time": "2021-06-28T09:34:30.973Z"
   },
   {
    "duration": 15,
    "start_time": "2021-06-28T09:34:33.485Z"
   },
   {
    "duration": 1665,
    "start_time": "2021-06-28T09:34:43.206Z"
   },
   {
    "duration": 36,
    "start_time": "2021-06-28T09:34:53.640Z"
   },
   {
    "duration": 355,
    "start_time": "2021-06-28T09:35:02.712Z"
   },
   {
    "duration": 329,
    "start_time": "2021-06-28T09:36:12.121Z"
   },
   {
    "duration": 329,
    "start_time": "2021-06-28T09:36:17.789Z"
   },
   {
    "duration": 1498,
    "start_time": "2021-06-28T09:38:05.931Z"
   },
   {
    "duration": 367,
    "start_time": "2021-06-28T09:38:15.348Z"
   },
   {
    "duration": 343,
    "start_time": "2021-06-28T09:38:22.329Z"
   },
   {
    "duration": 352,
    "start_time": "2021-06-28T09:38:52.619Z"
   },
   {
    "duration": 6,
    "start_time": "2021-06-28T09:41:39.880Z"
   },
   {
    "duration": 38,
    "start_time": "2021-06-28T09:42:51.969Z"
   },
   {
    "duration": 40,
    "start_time": "2021-06-28T09:43:00.278Z"
   },
   {
    "duration": 16,
    "start_time": "2021-06-28T09:58:10.828Z"
   },
   {
    "duration": 8275,
    "start_time": "2021-06-28T10:01:03.841Z"
   },
   {
    "duration": 9,
    "start_time": "2021-06-28T10:11:53.610Z"
   },
   {
    "duration": -6313,
    "start_time": "2021-06-28T10:28:20.829Z"
   },
   {
    "duration": 38,
    "start_time": "2021-06-28T10:29:11.108Z"
   },
   {
    "duration": 16,
    "start_time": "2021-06-28T10:29:30.991Z"
   },
   {
    "duration": 20,
    "start_time": "2021-06-28T10:30:10.003Z"
   },
   {
    "duration": 15,
    "start_time": "2021-06-28T10:30:29.546Z"
   },
   {
    "duration": 16,
    "start_time": "2021-06-28T10:35:00.783Z"
   },
   {
    "duration": 11,
    "start_time": "2021-06-28T10:35:04.097Z"
   },
   {
    "duration": 263,
    "start_time": "2021-06-28T11:05:07.672Z"
   },
   {
    "duration": 21,
    "start_time": "2021-06-28T11:05:11.698Z"
   },
   {
    "duration": 21,
    "start_time": "2021-06-28T11:20:52.629Z"
   },
   {
    "duration": 14,
    "start_time": "2021-06-28T11:21:21.776Z"
   },
   {
    "duration": 17,
    "start_time": "2021-06-28T11:21:34.115Z"
   },
   {
    "duration": 101,
    "start_time": "2021-06-28T11:23:10.900Z"
   },
   {
    "duration": 10,
    "start_time": "2021-06-28T11:23:24.096Z"
   },
   {
    "duration": 6408,
    "start_time": "2021-06-28T11:23:44.318Z"
   },
   {
    "duration": 1118,
    "start_time": "2021-06-28T11:38:41.427Z"
   },
   {
    "duration": 34,
    "start_time": "2021-06-28T11:38:42.547Z"
   },
   {
    "duration": 48,
    "start_time": "2021-06-28T11:38:42.584Z"
   },
   {
    "duration": 44,
    "start_time": "2021-06-28T11:38:42.635Z"
   },
   {
    "duration": 36,
    "start_time": "2021-06-28T11:38:42.682Z"
   },
   {
    "duration": 46,
    "start_time": "2021-06-28T11:38:42.721Z"
   },
   {
    "duration": 2225,
    "start_time": "2021-06-28T11:38:42.769Z"
   },
   {
    "duration": 14,
    "start_time": "2021-06-28T11:38:44.998Z"
   },
   {
    "duration": 3,
    "start_time": "2021-06-28T11:38:45.016Z"
   },
   {
    "duration": 13,
    "start_time": "2021-06-28T11:38:45.022Z"
   },
   {
    "duration": 1190,
    "start_time": "2021-06-28T12:00:48.660Z"
   },
   {
    "duration": 42,
    "start_time": "2021-06-28T12:00:49.854Z"
   },
   {
    "duration": 95,
    "start_time": "2021-06-28T12:00:49.905Z"
   },
   {
    "duration": 29,
    "start_time": "2021-06-28T12:00:50.003Z"
   },
   {
    "duration": 66,
    "start_time": "2021-06-28T12:00:50.035Z"
   },
   {
    "duration": 26,
    "start_time": "2021-06-28T12:00:50.104Z"
   },
   {
    "duration": 3920,
    "start_time": "2021-06-28T12:00:50.136Z"
   },
   {
    "duration": 20,
    "start_time": "2021-06-28T12:00:54.062Z"
   },
   {
    "duration": 3,
    "start_time": "2021-06-28T12:00:54.085Z"
   },
   {
    "duration": 11,
    "start_time": "2021-06-28T12:00:54.091Z"
   },
   {
    "duration": 2992,
    "start_time": "2021-06-28T12:00:54.105Z"
   },
   {
    "duration": 66,
    "start_time": "2021-06-28T12:00:57.100Z"
   },
   {
    "duration": 39,
    "start_time": "2021-06-28T12:00:57.169Z"
   },
   {
    "duration": 66,
    "start_time": "2021-06-28T12:00:57.212Z"
   },
   {
    "duration": 129,
    "start_time": "2021-06-28T12:00:57.281Z"
   },
   {
    "duration": 1879,
    "start_time": "2021-06-28T12:00:57.412Z"
   },
   {
    "duration": 399,
    "start_time": "2021-06-28T12:00:59.293Z"
   },
   {
    "duration": 382,
    "start_time": "2021-06-28T12:00:59.694Z"
   },
   {
    "duration": 390,
    "start_time": "2021-06-28T12:01:00.079Z"
   },
   {
    "duration": 12,
    "start_time": "2021-06-28T12:01:00.472Z"
   },
   {
    "duration": 27,
    "start_time": "2021-06-28T12:01:00.487Z"
   },
   {
    "duration": 18,
    "start_time": "2021-06-28T12:01:00.519Z"
   },
   {
    "duration": 39,
    "start_time": "2021-06-28T12:01:00.540Z"
   },
   {
    "duration": 1835,
    "start_time": "2021-06-28T12:01:00.581Z"
   },
   {
    "duration": 458,
    "start_time": "2021-06-28T12:01:02.419Z"
   },
   {
    "duration": 386,
    "start_time": "2021-06-28T12:01:02.880Z"
   },
   {
    "duration": 41,
    "start_time": "2021-06-28T12:01:03.268Z"
   },
   {
    "duration": 21,
    "start_time": "2021-06-28T12:01:03.311Z"
   },
   {
    "duration": 484,
    "start_time": "2021-06-28T12:01:03.362Z"
   },
   {
    "duration": 24,
    "start_time": "2021-06-28T12:01:03.848Z"
   },
   {
    "duration": 10220,
    "start_time": "2021-06-28T12:01:03.875Z"
   },
   {
    "duration": 11,
    "start_time": "2021-06-28T12:01:14.098Z"
   },
   {
    "duration": 53,
    "start_time": "2021-06-28T12:01:14.112Z"
   },
   {
    "duration": 4,
    "start_time": "2021-06-28T12:01:14.169Z"
   },
   {
    "duration": 1376,
    "start_time": "2021-06-28T12:01:14.175Z"
   },
   {
    "duration": 60,
    "start_time": "2021-06-28T12:01:15.562Z"
   },
   {
    "duration": 37,
    "start_time": "2021-06-28T12:01:15.624Z"
   },
   {
    "duration": 10,
    "start_time": "2021-06-28T12:01:15.664Z"
   },
   {
    "duration": 392,
    "start_time": "2021-06-28T12:01:15.676Z"
   },
   {
    "duration": 111,
    "start_time": "2021-06-28T12:58:38.757Z"
   },
   {
    "duration": 55,
    "start_time": "2021-06-28T13:00:20.186Z"
   },
   {
    "duration": 8,
    "start_time": "2021-06-28T13:06:55.905Z"
   },
   {
    "duration": 7,
    "start_time": "2021-06-28T13:07:04.805Z"
   },
   {
    "duration": 37,
    "start_time": "2021-06-28T13:08:52.725Z"
   },
   {
    "duration": 6,
    "start_time": "2021-06-28T13:09:25.542Z"
   },
   {
    "duration": 34,
    "start_time": "2021-06-28T13:14:37.961Z"
   },
   {
    "duration": 156,
    "start_time": "2021-06-28T13:21:06.983Z"
   },
   {
    "duration": 34,
    "start_time": "2021-06-28T13:21:07.142Z"
   },
   {
    "duration": 47,
    "start_time": "2021-06-28T13:21:07.180Z"
   },
   {
    "duration": 55,
    "start_time": "2021-06-28T13:21:07.230Z"
   },
   {
    "duration": 10,
    "start_time": "2021-06-28T13:21:28.564Z"
   },
   {
    "duration": 10,
    "start_time": "2021-06-28T13:21:38.588Z"
   },
   {
    "duration": 6,
    "start_time": "2021-06-28T13:21:45.325Z"
   },
   {
    "duration": 8,
    "start_time": "2021-06-28T13:21:56.621Z"
   },
   {
    "duration": 6,
    "start_time": "2021-06-28T13:22:10.427Z"
   },
   {
    "duration": 44,
    "start_time": "2021-06-28T13:22:28.878Z"
   },
   {
    "duration": 220,
    "start_time": "2021-06-28T13:30:05.842Z"
   },
   {
    "duration": 40,
    "start_time": "2021-06-28T13:30:06.065Z"
   },
   {
    "duration": 96,
    "start_time": "2021-06-28T13:30:06.108Z"
   },
   {
    "duration": 28,
    "start_time": "2021-06-28T13:30:06.207Z"
   },
   {
    "duration": 39,
    "start_time": "2021-06-28T13:30:22.957Z"
   },
   {
    "duration": 56,
    "start_time": "2021-06-28T13:30:33.920Z"
   },
   {
    "duration": 466,
    "start_time": "2021-06-28T13:31:08.954Z"
   },
   {
    "duration": 17,
    "start_time": "2021-06-28T13:31:14.703Z"
   },
   {
    "duration": 149,
    "start_time": "2021-06-28T13:31:33.711Z"
   },
   {
    "duration": 26,
    "start_time": "2021-06-28T13:31:33.863Z"
   },
   {
    "duration": 76,
    "start_time": "2021-06-28T13:31:33.891Z"
   },
   {
    "duration": 22,
    "start_time": "2021-06-28T13:31:33.970Z"
   },
   {
    "duration": 28,
    "start_time": "2021-06-28T13:31:35.984Z"
   },
   {
    "duration": 15,
    "start_time": "2021-06-28T13:31:36.665Z"
   },
   {
    "duration": 16,
    "start_time": "2021-06-28T13:31:48.062Z"
   },
   {
    "duration": 16,
    "start_time": "2021-06-28T13:31:56.627Z"
   },
   {
    "duration": 15,
    "start_time": "2021-06-28T13:32:01.757Z"
   },
   {
    "duration": 41,
    "start_time": "2021-06-28T13:32:11.197Z"
   },
   {
    "duration": 21,
    "start_time": "2021-06-28T13:32:31.088Z"
   },
   {
    "duration": 37,
    "start_time": "2021-06-28T13:32:35.829Z"
   },
   {
    "duration": 29,
    "start_time": "2021-06-28T13:33:14.280Z"
   },
   {
    "duration": 42,
    "start_time": "2021-06-28T13:33:42.558Z"
   },
   {
    "duration": 41,
    "start_time": "2021-06-28T13:34:07.534Z"
   },
   {
    "duration": 38,
    "start_time": "2021-06-28T13:34:59.989Z"
   },
   {
    "duration": 45,
    "start_time": "2021-06-28T13:35:13.837Z"
   },
   {
    "duration": 28,
    "start_time": "2021-06-28T13:46:27.548Z"
   },
   {
    "duration": 886,
    "start_time": "2021-06-28T13:46:43.278Z"
   },
   {
    "duration": 27,
    "start_time": "2021-06-28T13:46:44.167Z"
   },
   {
    "duration": 76,
    "start_time": "2021-06-28T13:46:44.197Z"
   },
   {
    "duration": 27,
    "start_time": "2021-06-28T13:46:44.276Z"
   },
   {
    "duration": 35,
    "start_time": "2021-06-28T13:46:44.305Z"
   },
   {
    "duration": 22,
    "start_time": "2021-06-28T13:46:44.361Z"
   },
   {
    "duration": 2318,
    "start_time": "2021-06-28T13:46:44.385Z"
   },
   {
    "duration": 15,
    "start_time": "2021-06-28T13:46:46.707Z"
   },
   {
    "duration": 47,
    "start_time": "2021-06-28T13:46:46.726Z"
   },
   {
    "duration": 4,
    "start_time": "2021-06-28T13:46:46.776Z"
   },
   {
    "duration": 22,
    "start_time": "2021-06-28T13:46:46.783Z"
   },
   {
    "duration": 1795,
    "start_time": "2021-06-28T13:46:46.808Z"
   },
   {
    "duration": 37,
    "start_time": "2021-06-28T13:46:48.606Z"
   },
   {
    "duration": 41,
    "start_time": "2021-06-28T13:46:48.645Z"
   },
   {
    "duration": 37,
    "start_time": "2021-06-28T13:46:48.688Z"
   },
   {
    "duration": 145,
    "start_time": "2021-06-28T13:46:48.728Z"
   },
   {
    "duration": 1932,
    "start_time": "2021-06-28T13:46:48.876Z"
   },
   {
    "duration": 396,
    "start_time": "2021-06-28T13:46:50.810Z"
   },
   {
    "duration": 384,
    "start_time": "2021-06-28T13:46:51.209Z"
   },
   {
    "duration": 399,
    "start_time": "2021-06-28T13:46:51.596Z"
   },
   {
    "duration": 14,
    "start_time": "2021-06-28T13:46:51.997Z"
   },
   {
    "duration": 16,
    "start_time": "2021-06-28T13:46:52.014Z"
   },
   {
    "duration": 11,
    "start_time": "2021-06-28T13:46:52.064Z"
   },
   {
    "duration": 14,
    "start_time": "2021-06-28T13:46:52.078Z"
   },
   {
    "duration": 1893,
    "start_time": "2021-06-28T13:46:52.094Z"
   },
   {
    "duration": 495,
    "start_time": "2021-06-28T13:46:53.990Z"
   },
   {
    "duration": 418,
    "start_time": "2021-06-28T13:46:54.487Z"
   },
   {
    "duration": 54,
    "start_time": "2021-06-28T13:46:54.908Z"
   },
   {
    "duration": 22,
    "start_time": "2021-06-28T13:46:54.964Z"
   },
   {
    "duration": 495,
    "start_time": "2021-06-28T13:46:54.989Z"
   },
   {
    "duration": 15,
    "start_time": "2021-06-28T13:46:55.487Z"
   },
   {
    "duration": 8875,
    "start_time": "2021-06-28T13:46:55.504Z"
   },
   {
    "duration": 8,
    "start_time": "2021-06-28T13:47:04.382Z"
   },
   {
    "duration": 14,
    "start_time": "2021-06-28T13:47:04.393Z"
   },
   {
    "duration": 6,
    "start_time": "2021-06-28T13:47:04.410Z"
   },
   {
    "duration": 1368,
    "start_time": "2021-06-28T13:47:04.419Z"
   },
   {
    "duration": 74,
    "start_time": "2021-06-28T13:47:05.789Z"
   },
   {
    "duration": 15,
    "start_time": "2021-06-28T13:47:05.865Z"
   },
   {
    "duration": 16,
    "start_time": "2021-06-28T13:47:05.882Z"
   },
   {
    "duration": 444,
    "start_time": "2021-06-28T13:47:05.900Z"
   },
   {
    "duration": 24,
    "start_time": "2021-06-28T14:12:18.787Z"
   },
   {
    "duration": 118,
    "start_time": "2021-06-28T14:16:23.561Z"
   },
   {
    "duration": 119,
    "start_time": "2021-06-28T14:18:16.919Z"
   },
   {
    "duration": 133,
    "start_time": "2021-06-28T14:33:45.775Z"
   },
   {
    "duration": 123,
    "start_time": "2021-06-28T14:35:12.222Z"
   },
   {
    "duration": 110,
    "start_time": "2021-06-28T14:49:04.018Z"
   },
   {
    "duration": 122,
    "start_time": "2021-06-28T15:02:14.459Z"
   },
   {
    "duration": 918,
    "start_time": "2021-06-28T15:20:46.187Z"
   },
   {
    "duration": 30,
    "start_time": "2021-06-28T15:20:47.108Z"
   },
   {
    "duration": 89,
    "start_time": "2021-06-28T15:20:47.143Z"
   },
   {
    "duration": 51,
    "start_time": "2021-06-28T15:20:47.236Z"
   },
   {
    "duration": 51,
    "start_time": "2021-06-28T15:20:47.291Z"
   },
   {
    "duration": 28,
    "start_time": "2021-06-28T15:20:47.363Z"
   },
   {
    "duration": 3833,
    "start_time": "2021-06-28T15:20:47.394Z"
   },
   {
    "duration": 33,
    "start_time": "2021-06-28T15:20:51.231Z"
   },
   {
    "duration": 4,
    "start_time": "2021-06-28T15:20:51.268Z"
   },
   {
    "duration": 11,
    "start_time": "2021-06-28T15:20:51.276Z"
   },
   {
    "duration": 2958,
    "start_time": "2021-06-28T15:20:51.290Z"
   },
   {
    "duration": 43,
    "start_time": "2021-06-28T15:20:54.251Z"
   },
   {
    "duration": 31,
    "start_time": "2021-06-28T15:20:54.297Z"
   },
   {
    "duration": 61,
    "start_time": "2021-06-28T15:20:54.331Z"
   },
   {
    "duration": 128,
    "start_time": "2021-06-28T15:20:54.394Z"
   },
   {
    "duration": 1904,
    "start_time": "2021-06-28T15:20:54.524Z"
   },
   {
    "duration": 389,
    "start_time": "2021-06-28T15:20:56.430Z"
   },
   {
    "duration": 365,
    "start_time": "2021-06-28T15:20:56.822Z"
   },
   {
    "duration": 430,
    "start_time": "2021-06-28T15:20:57.190Z"
   },
   {
    "duration": 15,
    "start_time": "2021-06-28T15:20:57.622Z"
   },
   {
    "duration": 41,
    "start_time": "2021-06-28T15:20:57.640Z"
   },
   {
    "duration": 12,
    "start_time": "2021-06-28T15:20:57.684Z"
   },
   {
    "duration": 15,
    "start_time": "2021-06-28T15:20:57.702Z"
   },
   {
    "duration": 1864,
    "start_time": "2021-06-28T15:20:57.719Z"
   },
   {
    "duration": 471,
    "start_time": "2021-06-28T15:20:59.586Z"
   },
   {
    "duration": 400,
    "start_time": "2021-06-28T15:21:00.062Z"
   },
   {
    "duration": 43,
    "start_time": "2021-06-28T15:21:00.465Z"
   },
   {
    "duration": 58,
    "start_time": "2021-06-28T15:21:00.511Z"
   },
   {
    "duration": 479,
    "start_time": "2021-06-28T15:21:00.571Z"
   },
   {
    "duration": 21,
    "start_time": "2021-06-28T15:21:01.052Z"
   },
   {
    "duration": 8563,
    "start_time": "2021-06-28T15:21:01.075Z"
   },
   {
    "duration": 8,
    "start_time": "2021-06-28T15:21:09.640Z"
   },
   {
    "duration": 15,
    "start_time": "2021-06-28T15:21:09.663Z"
   },
   {
    "duration": 19,
    "start_time": "2021-06-28T15:21:09.681Z"
   },
   {
    "duration": 1342,
    "start_time": "2021-06-28T15:21:09.702Z"
   },
   {
    "duration": 67,
    "start_time": "2021-06-28T15:21:11.047Z"
   },
   {
    "duration": 15,
    "start_time": "2021-06-28T15:21:11.116Z"
   },
   {
    "duration": 37,
    "start_time": "2021-06-28T15:21:11.133Z"
   },
   {
    "duration": 393,
    "start_time": "2021-06-28T15:21:11.172Z"
   },
   {
    "duration": 8,
    "start_time": "2021-06-28T18:47:17.410Z"
   },
   {
    "duration": 7,
    "start_time": "2021-06-28T18:48:39.022Z"
   },
   {
    "duration": 6724,
    "start_time": "2021-06-28T19:16:12.477Z"
   },
   {
    "duration": 3448,
    "start_time": "2021-06-28T19:17:10.787Z"
   },
   {
    "duration": 2853,
    "start_time": "2021-06-28T19:17:20.131Z"
   },
   {
    "duration": 1650,
    "start_time": "2021-06-28T19:17:40.592Z"
   },
   {
    "duration": 2147,
    "start_time": "2021-06-28T19:17:48.441Z"
   },
   {
    "duration": 1725,
    "start_time": "2021-06-28T19:17:59.355Z"
   },
   {
    "duration": 1697,
    "start_time": "2021-06-28T19:18:28.385Z"
   },
   {
    "duration": 1929,
    "start_time": "2021-06-28T19:18:40.806Z"
   },
   {
    "duration": 1742,
    "start_time": "2021-06-28T19:18:48.772Z"
   },
   {
    "duration": 2729,
    "start_time": "2021-06-28T19:18:57.273Z"
   },
   {
    "duration": 2853,
    "start_time": "2021-06-28T19:19:43.698Z"
   },
   {
    "duration": 1622,
    "start_time": "2021-06-28T19:23:52.822Z"
   },
   {
    "duration": 1704,
    "start_time": "2021-06-28T19:24:04.320Z"
   },
   {
    "duration": 1717,
    "start_time": "2021-06-28T19:25:18.819Z"
   },
   {
    "duration": 1642,
    "start_time": "2021-06-28T19:26:41.655Z"
   },
   {
    "duration": 1493,
    "start_time": "2021-06-28T19:26:48.541Z"
   },
   {
    "duration": 1515,
    "start_time": "2021-06-28T19:27:34.453Z"
   },
   {
    "duration": 1501,
    "start_time": "2021-06-28T19:28:06.252Z"
   },
   {
    "duration": 1755,
    "start_time": "2021-06-28T19:28:13.652Z"
   },
   {
    "duration": 2747,
    "start_time": "2021-06-28T19:28:19.216Z"
   },
   {
    "duration": 1869,
    "start_time": "2021-06-28T19:28:38.745Z"
   },
   {
    "duration": 1702,
    "start_time": "2021-06-28T19:29:38.083Z"
   },
   {
    "duration": 1513,
    "start_time": "2021-06-28T19:29:59.312Z"
   },
   {
    "duration": 1861,
    "start_time": "2021-06-28T19:30:03.090Z"
   },
   {
    "duration": 1917,
    "start_time": "2021-06-28T19:30:42.113Z"
   },
   {
    "duration": 2261,
    "start_time": "2021-06-28T19:31:02.482Z"
   },
   {
    "duration": 2336,
    "start_time": "2021-06-28T19:31:15.175Z"
   },
   {
    "duration": 2439,
    "start_time": "2021-06-28T19:31:27.304Z"
   },
   {
    "duration": 2999,
    "start_time": "2021-06-28T19:31:36.272Z"
   },
   {
    "duration": 3340,
    "start_time": "2021-06-28T19:31:43.361Z"
   },
   {
    "duration": 2613,
    "start_time": "2021-06-28T19:31:49.385Z"
   },
   {
    "duration": 2015,
    "start_time": "2021-06-28T19:32:00.812Z"
   },
   {
    "duration": 2282,
    "start_time": "2021-06-28T19:32:09.339Z"
   },
   {
    "duration": 2265,
    "start_time": "2021-06-28T19:32:15.129Z"
   },
   {
    "duration": 2080,
    "start_time": "2021-06-28T19:32:23.816Z"
   },
   {
    "duration": 2469,
    "start_time": "2021-06-28T19:32:35.287Z"
   },
   {
    "duration": 2253,
    "start_time": "2021-06-28T19:32:40.831Z"
   },
   {
    "duration": 2223,
    "start_time": "2021-06-28T19:32:48.880Z"
   },
   {
    "duration": 2577,
    "start_time": "2021-06-28T19:32:54.521Z"
   },
   {
    "duration": 2167,
    "start_time": "2021-06-28T19:33:04.209Z"
   },
   {
    "duration": 1778,
    "start_time": "2021-06-28T19:33:12.752Z"
   },
   {
    "duration": 9351,
    "start_time": "2021-06-28T19:45:01.059Z"
   },
   {
    "duration": 9157,
    "start_time": "2021-06-28T19:45:17.695Z"
   },
   {
    "duration": 8605,
    "start_time": "2021-06-28T19:45:34.698Z"
   },
   {
    "duration": 8839,
    "start_time": "2021-06-28T19:46:39.039Z"
   },
   {
    "duration": 102,
    "start_time": "2021-06-28T19:46:56.941Z"
   },
   {
    "duration": 9082,
    "start_time": "2021-06-28T19:47:02.303Z"
   },
   {
    "duration": 9113,
    "start_time": "2021-06-28T19:47:19.528Z"
   },
   {
    "duration": 9469,
    "start_time": "2021-06-28T19:47:40.038Z"
   },
   {
    "duration": 8831,
    "start_time": "2021-06-28T19:48:23.493Z"
   },
   {
    "duration": 9203,
    "start_time": "2021-06-28T19:49:01.949Z"
   },
   {
    "duration": 897,
    "start_time": "2021-06-28T19:58:55.499Z"
   },
   {
    "duration": 26,
    "start_time": "2021-06-28T19:58:56.399Z"
   },
   {
    "duration": 79,
    "start_time": "2021-06-28T19:58:56.428Z"
   },
   {
    "duration": 25,
    "start_time": "2021-06-28T19:58:56.510Z"
   },
   {
    "duration": 55,
    "start_time": "2021-06-28T19:58:56.537Z"
   },
   {
    "duration": 22,
    "start_time": "2021-06-28T19:58:56.594Z"
   },
   {
    "duration": 2261,
    "start_time": "2021-06-28T19:58:56.619Z"
   },
   {
    "duration": 15,
    "start_time": "2021-06-28T19:58:58.884Z"
   },
   {
    "duration": 3,
    "start_time": "2021-06-28T19:58:58.902Z"
   },
   {
    "duration": 7,
    "start_time": "2021-06-28T19:58:58.908Z"
   },
   {
    "duration": 1781,
    "start_time": "2021-06-28T19:58:58.918Z"
   },
   {
    "duration": 34,
    "start_time": "2021-06-28T19:59:00.702Z"
   },
   {
    "duration": 42,
    "start_time": "2021-06-28T19:59:00.740Z"
   },
   {
    "duration": 35,
    "start_time": "2021-06-28T19:59:00.784Z"
   },
   {
    "duration": 142,
    "start_time": "2021-06-28T19:59:00.821Z"
   },
   {
    "duration": 1847,
    "start_time": "2021-06-28T19:59:00.965Z"
   },
   {
    "duration": 1776,
    "start_time": "2021-06-28T19:59:02.815Z"
   },
   {
    "duration": 367,
    "start_time": "2021-06-28T19:59:04.594Z"
   },
   {
    "duration": 366,
    "start_time": "2021-06-28T19:59:04.964Z"
   },
   {
    "duration": 390,
    "start_time": "2021-06-28T19:59:05.332Z"
   },
   {
    "duration": 14,
    "start_time": "2021-06-28T19:59:05.724Z"
   },
   {
    "duration": 32,
    "start_time": "2021-06-28T19:59:05.741Z"
   },
   {
    "duration": 11,
    "start_time": "2021-06-28T19:59:05.778Z"
   },
   {
    "duration": 27,
    "start_time": "2021-06-28T19:59:05.792Z"
   },
   {
    "duration": 1883,
    "start_time": "2021-06-28T19:59:05.822Z"
   },
   {
    "duration": 379,
    "start_time": "2021-06-28T19:59:07.707Z"
   },
   {
    "duration": 389,
    "start_time": "2021-06-28T19:59:08.088Z"
   },
   {
    "duration": 45,
    "start_time": "2021-06-28T19:59:08.480Z"
   },
   {
    "duration": 53,
    "start_time": "2021-06-28T19:59:08.528Z"
   },
   {
    "duration": 497,
    "start_time": "2021-06-28T19:59:08.584Z"
   },
   {
    "duration": 17,
    "start_time": "2021-06-28T19:59:09.084Z"
   },
   {
    "duration": 8897,
    "start_time": "2021-06-28T19:59:09.103Z"
   },
   {
    "duration": 8,
    "start_time": "2021-06-28T19:59:18.002Z"
   },
   {
    "duration": 16,
    "start_time": "2021-06-28T19:59:18.013Z"
   },
   {
    "duration": 31,
    "start_time": "2021-06-28T19:59:18.031Z"
   },
   {
    "duration": 1310,
    "start_time": "2021-06-28T19:59:18.064Z"
   },
   {
    "duration": 62,
    "start_time": "2021-06-28T19:59:19.377Z"
   },
   {
    "duration": 32,
    "start_time": "2021-06-28T19:59:19.441Z"
   },
   {
    "duration": 13,
    "start_time": "2021-06-28T19:59:19.475Z"
   },
   {
    "duration": 413,
    "start_time": "2021-06-28T19:59:19.490Z"
   },
   {
    "duration": 115,
    "start_time": "2021-06-28T20:02:59.658Z"
   },
   {
    "duration": 647,
    "start_time": "2021-06-29T08:19:27.788Z"
   },
   {
    "duration": 20,
    "start_time": "2021-06-29T08:19:34.130Z"
   },
   {
    "duration": 34,
    "start_time": "2021-06-29T08:19:38.462Z"
   },
   {
    "duration": 27,
    "start_time": "2021-06-29T08:19:59.915Z"
   },
   {
    "duration": 30,
    "start_time": "2021-06-29T08:21:00.742Z"
   },
   {
    "duration": 8,
    "start_time": "2021-06-29T08:21:11.120Z"
   },
   {
    "duration": 67,
    "start_time": "2021-06-29T08:27:43.701Z"
   },
   {
    "duration": 9,
    "start_time": "2021-06-29T08:28:27.231Z"
   },
   {
    "duration": 7,
    "start_time": "2021-06-29T08:29:48.274Z"
   },
   {
    "duration": 16,
    "start_time": "2021-06-29T08:29:50.912Z"
   },
   {
    "duration": 11,
    "start_time": "2021-06-29T08:30:18.969Z"
   },
   {
    "duration": 10,
    "start_time": "2021-06-29T08:30:53.362Z"
   },
   {
    "duration": 110,
    "start_time": "2021-06-29T08:31:47.564Z"
   },
   {
    "duration": 21,
    "start_time": "2021-06-29T08:31:51.485Z"
   },
   {
    "duration": 33,
    "start_time": "2021-06-29T08:31:55.247Z"
   },
   {
    "duration": 29,
    "start_time": "2021-06-29T08:31:57.984Z"
   },
   {
    "duration": 65,
    "start_time": "2021-06-29T08:32:01.834Z"
   },
   {
    "duration": 73,
    "start_time": "2021-06-29T08:32:11.544Z"
   },
   {
    "duration": 1579,
    "start_time": "2021-06-29T08:32:22.129Z"
   },
   {
    "duration": 21,
    "start_time": "2021-06-29T08:32:24.626Z"
   },
   {
    "duration": 33,
    "start_time": "2021-06-29T08:32:27.966Z"
   },
   {
    "duration": 31,
    "start_time": "2021-06-29T08:32:30.140Z"
   },
   {
    "duration": 95,
    "start_time": "2021-06-29T08:32:32.568Z"
   },
   {
    "duration": 4,
    "start_time": "2021-06-29T08:32:55.352Z"
   },
   {
    "duration": 23,
    "start_time": "2021-06-29T08:33:07.274Z"
   },
   {
    "duration": 20,
    "start_time": "2021-06-29T08:33:13.368Z"
   },
   {
    "duration": 42,
    "start_time": "2021-06-29T08:34:07.660Z"
   },
   {
    "duration": 248,
    "start_time": "2021-06-29T08:35:14.331Z"
   },
   {
    "duration": 12,
    "start_time": "2021-06-29T08:35:21.030Z"
   },
   {
    "duration": 5,
    "start_time": "2021-06-29T08:35:48.084Z"
   },
   {
    "duration": 17,
    "start_time": "2021-06-29T08:36:04.117Z"
   },
   {
    "duration": 28,
    "start_time": "2021-06-29T08:36:14.669Z"
   },
   {
    "duration": 94,
    "start_time": "2021-06-29T08:36:43.214Z"
   },
   {
    "duration": 27,
    "start_time": "2021-06-29T08:36:48.847Z"
   },
   {
    "duration": 28,
    "start_time": "2021-06-29T08:36:52.257Z"
   },
   {
    "duration": 58,
    "start_time": "2021-06-29T08:37:42.653Z"
   },
   {
    "duration": 5,
    "start_time": "2021-06-29T08:38:00.067Z"
   },
   {
    "duration": 20,
    "start_time": "2021-06-29T08:38:06.412Z"
   },
   {
    "duration": 22,
    "start_time": "2021-06-29T08:40:34.789Z"
   },
   {
    "duration": 27,
    "start_time": "2021-06-29T08:44:32.477Z"
   },
   {
    "duration": 12,
    "start_time": "2021-06-29T08:44:47.143Z"
   },
   {
    "duration": 5333,
    "start_time": "2021-06-29T08:45:27.518Z"
   },
   {
    "duration": 15,
    "start_time": "2021-06-29T08:45:45.880Z"
   },
   {
    "duration": 607,
    "start_time": "2021-06-29T08:46:55.845Z"
   },
   {
    "duration": 20,
    "start_time": "2021-06-29T08:46:59.269Z"
   },
   {
    "duration": 33,
    "start_time": "2021-06-29T08:47:03.287Z"
   },
   {
    "duration": 33,
    "start_time": "2021-06-29T08:47:06.275Z"
   },
   {
    "duration": 14,
    "start_time": "2021-06-29T08:47:09.036Z"
   },
   {
    "duration": 14,
    "start_time": "2021-06-29T08:47:13.650Z"
   },
   {
    "duration": 206,
    "start_time": "2021-06-29T08:48:23.007Z"
   },
   {
    "duration": 696,
    "start_time": "2021-06-29T08:48:44.058Z"
   },
   {
    "duration": 19,
    "start_time": "2021-06-29T08:48:47.987Z"
   },
   {
    "duration": 33,
    "start_time": "2021-06-29T08:48:52.355Z"
   },
   {
    "duration": 31,
    "start_time": "2021-06-29T08:48:54.965Z"
   },
   {
    "duration": 14,
    "start_time": "2021-06-29T08:48:59.607Z"
   },
   {
    "duration": 6366,
    "start_time": "2021-06-29T08:49:07.730Z"
   },
   {
    "duration": 15,
    "start_time": "2021-06-29T08:49:25.216Z"
   },
   {
    "duration": 215,
    "start_time": "2021-06-29T08:50:56.477Z"
   },
   {
    "duration": 649,
    "start_time": "2021-06-29T08:51:02.794Z"
   },
   {
    "duration": 22,
    "start_time": "2021-06-29T08:51:07.435Z"
   },
   {
    "duration": 34,
    "start_time": "2021-06-29T08:51:11.419Z"
   },
   {
    "duration": 31,
    "start_time": "2021-06-29T08:51:14.024Z"
   },
   {
    "duration": 15,
    "start_time": "2021-06-29T08:51:19.059Z"
   },
   {
    "duration": 15,
    "start_time": "2021-06-29T08:51:24.804Z"
   },
   {
    "duration": 218,
    "start_time": "2021-06-29T08:51:41.210Z"
   },
   {
    "duration": 97,
    "start_time": "2021-06-29T09:07:15.987Z"
   },
   {
    "duration": 19,
    "start_time": "2021-06-29T09:07:19.235Z"
   },
   {
    "duration": 36,
    "start_time": "2021-06-29T09:07:23.106Z"
   },
   {
    "duration": 33,
    "start_time": "2021-06-29T09:07:26.408Z"
   },
   {
    "duration": 15,
    "start_time": "2021-06-29T09:07:29.951Z"
   },
   {
    "duration": 16,
    "start_time": "2021-06-29T09:07:33.029Z"
   },
   {
    "duration": 15,
    "start_time": "2021-06-29T09:07:35.797Z"
   },
   {
    "duration": 261,
    "start_time": "2021-06-29T09:07:49.108Z"
   },
   {
    "duration": 185,
    "start_time": "2021-06-29T09:09:03.658Z"
   },
   {
    "duration": 638,
    "start_time": "2021-06-29T09:09:07.328Z"
   },
   {
    "duration": 18,
    "start_time": "2021-06-29T09:09:13.430Z"
   },
   {
    "duration": 35,
    "start_time": "2021-06-29T09:09:17.974Z"
   },
   {
    "duration": 35,
    "start_time": "2021-06-29T09:09:22.266Z"
   },
   {
    "duration": 16,
    "start_time": "2021-06-29T09:09:23.803Z"
   },
   {
    "duration": 14,
    "start_time": "2021-06-29T09:09:27.231Z"
   },
   {
    "duration": 226,
    "start_time": "2021-06-29T09:09:47.510Z"
   },
   {
    "duration": 665,
    "start_time": "2021-06-29T09:10:01.095Z"
   },
   {
    "duration": 21,
    "start_time": "2021-06-29T09:10:03.853Z"
   },
   {
    "duration": 39,
    "start_time": "2021-06-29T09:10:10.929Z"
   },
   {
    "duration": 34,
    "start_time": "2021-06-29T09:10:15.441Z"
   },
   {
    "duration": 15,
    "start_time": "2021-06-29T09:10:21.722Z"
   },
   {
    "duration": 14,
    "start_time": "2021-06-29T09:10:26.535Z"
   },
   {
    "duration": 207,
    "start_time": "2021-06-29T09:10:45.603Z"
   },
   {
    "duration": 672,
    "start_time": "2021-06-29T09:23:44.390Z"
   },
   {
    "duration": 20,
    "start_time": "2021-06-29T09:23:49.594Z"
   },
   {
    "duration": 40,
    "start_time": "2021-06-29T09:23:54.291Z"
   },
   {
    "duration": 35,
    "start_time": "2021-06-29T09:23:57.574Z"
   },
   {
    "duration": 16,
    "start_time": "2021-06-29T09:24:01.863Z"
   },
   {
    "duration": 15,
    "start_time": "2021-06-29T09:24:05.014Z"
   },
   {
    "duration": 226,
    "start_time": "2021-06-29T09:24:16.748Z"
   },
   {
    "duration": 195,
    "start_time": "2021-06-29T09:24:21.880Z"
   },
   {
    "duration": 617,
    "start_time": "2021-06-29T09:24:29.237Z"
   },
   {
    "duration": 17,
    "start_time": "2021-06-29T09:24:38.804Z"
   },
   {
    "duration": 6153,
    "start_time": "2021-06-29T09:24:49.017Z"
   },
   {
    "duration": 80,
    "start_time": "2021-06-29T09:25:03.360Z"
   },
   {
    "duration": 21,
    "start_time": "2021-06-29T09:25:06.202Z"
   },
   {
    "duration": 38,
    "start_time": "2021-06-29T09:25:10.277Z"
   },
   {
    "duration": 30,
    "start_time": "2021-06-29T09:25:13.002Z"
   },
   {
    "duration": 15,
    "start_time": "2021-06-29T09:25:15.574Z"
   },
   {
    "duration": 14,
    "start_time": "2021-06-29T09:25:19.052Z"
   },
   {
    "duration": 207,
    "start_time": "2021-06-29T09:25:31.121Z"
   },
   {
    "duration": 641,
    "start_time": "2021-06-29T09:58:44.388Z"
   },
   {
    "duration": 20,
    "start_time": "2021-06-29T09:58:47.654Z"
   },
   {
    "duration": 39,
    "start_time": "2021-06-29T09:58:52.233Z"
   },
   {
    "duration": 32,
    "start_time": "2021-06-29T09:58:58.633Z"
   },
   {
    "duration": 15,
    "start_time": "2021-06-29T09:59:02.516Z"
   },
   {
    "duration": 15,
    "start_time": "2021-06-29T09:59:10.485Z"
   },
   {
    "duration": 619,
    "start_time": "2021-06-29T10:12:09.316Z"
   },
   {
    "duration": 20,
    "start_time": "2021-06-29T10:12:12.623Z"
   },
   {
    "duration": 38,
    "start_time": "2021-06-29T10:12:16.739Z"
   },
   {
    "duration": 33,
    "start_time": "2021-06-29T10:12:19.433Z"
   },
   {
    "duration": 15,
    "start_time": "2021-06-29T10:12:22.534Z"
   },
   {
    "duration": 16,
    "start_time": "2021-06-29T10:12:26.012Z"
   },
   {
    "duration": 211,
    "start_time": "2021-06-29T10:13:03.691Z"
   },
   {
    "duration": -6843,
    "start_time": "2021-06-29T10:13:10.747Z"
   },
   {
    "duration": 643,
    "start_time": "2021-06-29T10:22:50.378Z"
   },
   {
    "duration": 19,
    "start_time": "2021-06-29T10:22:53.570Z"
   },
   {
    "duration": 39,
    "start_time": "2021-06-29T10:22:57.490Z"
   },
   {
    "duration": 33,
    "start_time": "2021-06-29T10:22:59.774Z"
   },
   {
    "duration": 14,
    "start_time": "2021-06-29T10:23:01.900Z"
   },
   {
    "duration": 15,
    "start_time": "2021-06-29T10:23:04.627Z"
   },
   {
    "duration": 642,
    "start_time": "2021-06-29T10:24:42.260Z"
   },
   {
    "duration": 20,
    "start_time": "2021-06-29T10:24:45.235Z"
   },
   {
    "duration": 37,
    "start_time": "2021-06-29T10:24:49.070Z"
   },
   {
    "duration": 32,
    "start_time": "2021-06-29T10:24:51.600Z"
   },
   {
    "duration": 16,
    "start_time": "2021-06-29T10:24:54.064Z"
   },
   {
    "duration": 15,
    "start_time": "2021-06-29T10:24:57.379Z"
   },
   {
    "duration": 238,
    "start_time": "2021-06-29T10:25:01.918Z"
   },
   {
    "duration": 78,
    "start_time": "2021-06-29T10:25:15.728Z"
   },
   {
    "duration": 19,
    "start_time": "2021-06-29T10:25:18.750Z"
   },
   {
    "duration": 35,
    "start_time": "2021-06-29T10:25:23.202Z"
   },
   {
    "duration": 27,
    "start_time": "2021-06-29T10:25:26.780Z"
   },
   {
    "duration": 14,
    "start_time": "2021-06-29T10:25:31.418Z"
   },
   {
    "duration": 14,
    "start_time": "2021-06-29T10:25:35.009Z"
   },
   {
    "duration": 214,
    "start_time": "2021-06-29T10:25:40.420Z"
   },
   {
    "duration": 5,
    "start_time": "2021-06-29T10:26:17.919Z"
   },
   {
    "duration": 25,
    "start_time": "2021-06-29T10:26:34.128Z"
   },
   {
    "duration": 27,
    "start_time": "2021-06-29T10:27:27.882Z"
   },
   {
    "duration": 191,
    "start_time": "2021-06-29T10:32:11.613Z"
   },
   {
    "duration": 8,
    "start_time": "2021-06-29T10:37:15.942Z"
   },
   {
    "duration": 8,
    "start_time": "2021-06-29T10:37:22.082Z"
   },
   {
    "duration": 10,
    "start_time": "2021-06-29T10:37:35.432Z"
   },
   {
    "duration": 16,
    "start_time": "2021-06-29T10:37:44.577Z"
   },
   {
    "duration": 4,
    "start_time": "2021-06-29T10:37:53.897Z"
   },
   {
    "duration": 6,
    "start_time": "2021-06-29T10:38:07.059Z"
   },
   {
    "duration": 34,
    "start_time": "2021-06-29T10:38:13.017Z"
   },
   {
    "duration": 23,
    "start_time": "2021-06-29T10:38:18.061Z"
   },
   {
    "duration": 22,
    "start_time": "2021-06-29T10:38:22.233Z"
   },
   {
    "duration": 69,
    "start_time": "2021-06-29T10:38:27.992Z"
   },
   {
    "duration": 1158,
    "start_time": "2021-06-29T10:38:30.928Z"
   },
   {
    "duration": 185,
    "start_time": "2021-06-29T10:40:11.346Z"
   },
   {
    "duration": 17,
    "start_time": "2021-06-29T10:40:36.260Z"
   },
   {
    "duration": 5,
    "start_time": "2021-06-29T10:40:49.731Z"
   },
   {
    "duration": 16,
    "start_time": "2021-06-29T10:40:52.559Z"
   },
   {
    "duration": 10,
    "start_time": "2021-06-29T10:41:03.460Z"
   },
   {
    "duration": 5,
    "start_time": "2021-06-29T10:41:16.818Z"
   },
   {
    "duration": 9,
    "start_time": "2021-06-29T10:41:20.568Z"
   },
   {
    "duration": 79,
    "start_time": "2021-06-29T10:41:59.639Z"
   },
   {
    "duration": 19,
    "start_time": "2021-06-29T10:42:01.617Z"
   },
   {
    "duration": 31,
    "start_time": "2021-06-29T10:42:09.410Z"
   },
   {
    "duration": 11,
    "start_time": "2021-06-29T10:42:22.772Z"
   },
   {
    "duration": 31,
    "start_time": "2021-06-29T10:43:04.822Z"
   },
   {
    "duration": 14,
    "start_time": "2021-06-29T10:43:07.714Z"
   },
   {
    "duration": 15,
    "start_time": "2021-06-29T10:43:11.018Z"
   },
   {
    "duration": 5,
    "start_time": "2021-06-29T10:43:15.750Z"
   },
   {
    "duration": 10,
    "start_time": "2021-06-29T10:43:19.283Z"
   },
   {
    "duration": 32,
    "start_time": "2021-06-29T10:46:49.309Z"
   },
   {
    "duration": 28,
    "start_time": "2021-06-29T10:47:00.136Z"
   },
   {
    "duration": 5,
    "start_time": "2021-06-29T10:47:43.773Z"
   },
   {
    "duration": 4924,
    "start_time": "2021-06-29T10:47:56.778Z"
   },
   {
    "duration": 188,
    "start_time": "2021-06-29T10:48:05.676Z"
   },
   {
    "duration": 204,
    "start_time": "2021-06-29T10:48:12.823Z"
   },
   {
    "duration": 5,
    "start_time": "2021-06-29T10:48:28.911Z"
   },
   {
    "duration": 5988,
    "start_time": "2021-06-29T10:48:39.924Z"
   },
   {
    "duration": 13,
    "start_time": "2021-06-29T10:49:09.350Z"
   },
   {
    "duration": 78,
    "start_time": "2021-06-29T10:49:42.833Z"
   },
   {
    "duration": 15,
    "start_time": "2021-06-29T10:49:47.202Z"
   },
   {
    "duration": 23,
    "start_time": "2021-06-29T10:50:09.702Z"
   },
   {
    "duration": 12,
    "start_time": "2021-06-29T10:50:19.988Z"
   },
   {
    "duration": 32,
    "start_time": "2021-06-29T10:50:40.577Z"
   },
   {
    "duration": 11,
    "start_time": "2021-06-29T10:50:42.935Z"
   },
   {
    "duration": 30,
    "start_time": "2021-06-29T10:50:59.755Z"
   },
   {
    "duration": 14,
    "start_time": "2021-06-29T10:51:02.852Z"
   },
   {
    "duration": 19,
    "start_time": "2021-06-29T10:51:07.383Z"
   },
   {
    "duration": 5,
    "start_time": "2021-06-29T10:51:12.311Z"
   },
   {
    "duration": 25,
    "start_time": "2021-06-29T10:51:30.206Z"
   },
   {
    "duration": 75,
    "start_time": "2021-06-29T10:52:49.091Z"
   },
   {
    "duration": 23,
    "start_time": "2021-06-29T10:52:52.212Z"
   },
   {
    "duration": 76,
    "start_time": "2021-06-29T10:54:32.188Z"
   },
   {
    "duration": 18,
    "start_time": "2021-06-29T10:54:40.626Z"
   },
   {
    "duration": 30,
    "start_time": "2021-06-29T10:54:43.885Z"
   },
   {
    "duration": 27,
    "start_time": "2021-06-29T10:54:46.459Z"
   },
   {
    "duration": 15,
    "start_time": "2021-06-29T10:54:49.320Z"
   },
   {
    "duration": 14,
    "start_time": "2021-06-29T10:54:53.519Z"
   },
   {
    "duration": 6,
    "start_time": "2021-06-29T10:55:11.792Z"
   },
   {
    "duration": 29,
    "start_time": "2021-06-29T10:55:18.121Z"
   },
   {
    "duration": 15,
    "start_time": "2021-06-29T10:55:33.351Z"
   },
   {
    "duration": 4,
    "start_time": "2021-06-29T10:56:02.828Z"
   },
   {
    "duration": 5,
    "start_time": "2021-06-29T10:56:10.370Z"
   },
   {
    "duration": 30,
    "start_time": "2021-06-29T10:56:14.371Z"
   },
   {
    "duration": 21,
    "start_time": "2021-06-29T10:56:18.277Z"
   },
   {
    "duration": 22,
    "start_time": "2021-06-29T10:56:21.648Z"
   },
   {
    "duration": 1099,
    "start_time": "2021-06-29T10:56:28.797Z"
   },
   {
    "duration": 1173,
    "start_time": "2021-06-29T10:59:33.774Z"
   },
   {
    "duration": 231,
    "start_time": "2021-06-29T11:01:03.898Z"
   },
   {
    "duration": 219,
    "start_time": "2021-06-29T11:01:38.276Z"
   },
   {
    "duration": 215,
    "start_time": "2021-06-29T11:01:47.765Z"
   },
   {
    "duration": 228,
    "start_time": "2021-06-29T11:02:09.369Z"
   },
   {
    "duration": 11,
    "start_time": "2021-06-29T11:02:34.288Z"
   },
   {
    "duration": 12,
    "start_time": "2021-06-29T11:02:37.261Z"
   },
   {
    "duration": 8,
    "start_time": "2021-06-29T11:02:39.666Z"
   },
   {
    "duration": 10,
    "start_time": "2021-06-29T11:02:42.294Z"
   },
   {
    "duration": 1087,
    "start_time": "2021-06-29T11:02:48.247Z"
   },
   {
    "duration": 1406,
    "start_time": "2021-06-29T11:05:50.166Z"
   },
   {
    "duration": 1170,
    "start_time": "2021-06-29T11:07:07.689Z"
   },
   {
    "duration": 1148,
    "start_time": "2021-06-29T11:07:22.883Z"
   },
   {
    "duration": 9,
    "start_time": "2021-06-29T11:08:22.234Z"
   },
   {
    "duration": 15,
    "start_time": "2021-06-29T11:08:24.705Z"
   },
   {
    "duration": 1344,
    "start_time": "2021-06-29T11:08:30.351Z"
   },
   {
    "duration": 236,
    "start_time": "2021-06-29T11:09:10.425Z"
   },
   {
    "duration": 237,
    "start_time": "2021-06-29T11:10:04.141Z"
   },
   {
    "duration": 243,
    "start_time": "2021-06-29T11:10:53.288Z"
   },
   {
    "duration": 257,
    "start_time": "2021-06-29T11:12:50.586Z"
   },
   {
    "duration": 242,
    "start_time": "2021-06-29T11:12:56.825Z"
   },
   {
    "duration": 5,
    "start_time": "2021-06-29T11:13:24.215Z"
   },
   {
    "duration": 272,
    "start_time": "2021-06-29T11:39:13.402Z"
   },
   {
    "duration": 308,
    "start_time": "2021-06-29T11:45:01.051Z"
   },
   {
    "duration": 375,
    "start_time": "2021-06-29T11:47:58.968Z"
   },
   {
    "duration": 228,
    "start_time": "2021-06-29T11:51:45.629Z"
   },
   {
    "duration": 12,
    "start_time": "2021-06-29T11:51:52.896Z"
   },
   {
    "duration": 5420,
    "start_time": "2021-06-29T11:51:55.753Z"
   },
   {
    "duration": 5219,
    "start_time": "2021-06-29T11:52:25.524Z"
   },
   {
    "duration": 875,
    "start_time": "2021-06-29T11:53:06.643Z"
   },
   {
    "duration": 532,
    "start_time": "2021-06-29T11:55:37.997Z"
   },
   {
    "duration": 406,
    "start_time": "2021-06-29T11:55:44.057Z"
   },
   {
    "duration": 403,
    "start_time": "2021-06-29T11:55:50.319Z"
   },
   {
    "duration": 289,
    "start_time": "2021-06-29T11:56:27.978Z"
   },
   {
    "duration": 71,
    "start_time": "2021-06-29T11:56:32.256Z"
   },
   {
    "duration": 97,
    "start_time": "2021-06-29T11:56:45.446Z"
   },
   {
    "duration": 95,
    "start_time": "2021-06-29T11:59:37.900Z"
   },
   {
    "duration": 19,
    "start_time": "2021-06-29T11:59:40.950Z"
   },
   {
    "duration": 32,
    "start_time": "2021-06-29T11:59:45.226Z"
   },
   {
    "duration": 4838,
    "start_time": "2021-06-29T12:04:04.611Z"
   },
   {
    "duration": -7198,
    "start_time": "2021-06-29T12:04:16.649Z"
   },
   {
    "duration": 27,
    "start_time": "2021-06-29T12:04:27.059Z"
   },
   {
    "duration": 14,
    "start_time": "2021-06-29T12:04:35.182Z"
   },
   {
    "duration": 15,
    "start_time": "2021-06-29T12:04:41.442Z"
   },
   {
    "duration": 97,
    "start_time": "2021-06-29T12:24:05.589Z"
   },
   {
    "duration": 19,
    "start_time": "2021-06-29T12:24:08.595Z"
   },
   {
    "duration": 32,
    "start_time": "2021-06-29T12:24:13.908Z"
   },
   {
    "duration": 29,
    "start_time": "2021-06-29T12:24:16.785Z"
   },
   {
    "duration": 15,
    "start_time": "2021-06-29T12:24:23.689Z"
   },
   {
    "duration": 14,
    "start_time": "2021-06-29T12:24:37.623Z"
   },
   {
    "duration": 6,
    "start_time": "2021-06-29T12:24:39.916Z"
   },
   {
    "duration": 21,
    "start_time": "2021-06-29T12:24:42.911Z"
   },
   {
    "duration": 4,
    "start_time": "2021-06-29T12:24:52.855Z"
   },
   {
    "duration": 6,
    "start_time": "2021-06-29T12:24:58.995Z"
   },
   {
    "duration": 29,
    "start_time": "2021-06-29T12:26:19.546Z"
   },
   {
    "duration": 20,
    "start_time": "2021-06-29T12:26:26.799Z"
   },
   {
    "duration": 25,
    "start_time": "2021-06-29T12:26:33.567Z"
   },
   {
    "duration": 3,
    "start_time": "2021-06-29T12:26:43.983Z"
   },
   {
    "duration": 1112,
    "start_time": "2021-06-29T12:26:48.019Z"
   },
   {
    "duration": 9,
    "start_time": "2021-06-29T12:32:52.854Z"
   },
   {
    "duration": 11,
    "start_time": "2021-06-29T12:32:57.095Z"
   },
   {
    "duration": 328,
    "start_time": "2021-06-29T12:33:38.398Z"
   },
   {
    "duration": 6,
    "start_time": "2021-06-29T12:34:01.719Z"
   },
   {
    "duration": 227,
    "start_time": "2021-06-29T12:34:57.630Z"
   },
   {
    "duration": 98,
    "start_time": "2021-06-29T12:36:45.060Z"
   },
   {
    "duration": 20,
    "start_time": "2021-06-29T12:36:48.068Z"
   },
   {
    "duration": 30,
    "start_time": "2021-06-29T12:36:51.531Z"
   },
   {
    "duration": 28,
    "start_time": "2021-06-29T12:36:54.337Z"
   },
   {
    "duration": 15,
    "start_time": "2021-06-29T12:36:56.745Z"
   },
   {
    "duration": 16,
    "start_time": "2021-06-29T12:37:00.055Z"
   },
   {
    "duration": 6,
    "start_time": "2021-06-29T12:37:02.194Z"
   },
   {
    "duration": 21,
    "start_time": "2021-06-29T12:37:06.191Z"
   },
   {
    "duration": 4,
    "start_time": "2021-06-29T12:37:14.845Z"
   },
   {
    "duration": 5,
    "start_time": "2021-06-29T12:37:16.830Z"
   },
   {
    "duration": 32,
    "start_time": "2021-06-29T12:37:24.895Z"
   },
   {
    "duration": 21,
    "start_time": "2021-06-29T12:37:29.370Z"
   },
   {
    "duration": 25,
    "start_time": "2021-06-29T12:37:34.461Z"
   },
   {
    "duration": 3,
    "start_time": "2021-06-29T12:37:41.317Z"
   },
   {
    "duration": 1158,
    "start_time": "2021-06-29T12:37:44.071Z"
   },
   {
    "duration": 1121,
    "start_time": "2021-06-29T12:37:55.660Z"
   },
   {
    "duration": 317,
    "start_time": "2021-06-29T12:38:01.907Z"
   },
   {
    "duration": 218,
    "start_time": "2021-06-29T12:38:12.563Z"
   },
   {
    "duration": 243,
    "start_time": "2021-06-29T12:38:19.303Z"
   },
   {
    "duration": 15,
    "start_time": "2021-06-29T12:38:29.978Z"
   },
   {
    "duration": 10,
    "start_time": "2021-06-29T12:38:32.842Z"
   },
   {
    "duration": 8,
    "start_time": "2021-06-29T12:38:35.344Z"
   },
   {
    "duration": 9,
    "start_time": "2021-06-29T12:38:37.542Z"
   },
   {
    "duration": 1198,
    "start_time": "2021-06-29T12:38:41.280Z"
   },
   {
    "duration": 241,
    "start_time": "2021-06-29T12:38:52.558Z"
   },
   {
    "duration": 262,
    "start_time": "2021-06-29T12:39:05.979Z"
   },
   {
    "duration": 291,
    "start_time": "2021-06-29T12:39:34.295Z"
   },
   {
    "duration": 8,
    "start_time": "2021-06-29T12:41:17.877Z"
   },
   {
    "duration": 9,
    "start_time": "2021-06-29T12:42:33.286Z"
   },
   {
    "duration": 9,
    "start_time": "2021-06-29T12:48:55.058Z"
   },
   {
    "duration": 60,
    "start_time": "2021-06-29T12:49:01.185Z"
   },
   {
    "duration": 64,
    "start_time": "2021-06-29T12:49:03.193Z"
   },
   {
    "duration": 10,
    "start_time": "2021-06-29T12:49:06.147Z"
   },
   {
    "duration": 653,
    "start_time": "2021-06-29T13:18:47.301Z"
   },
   {
    "duration": 18,
    "start_time": "2021-06-29T13:18:47.956Z"
   },
   {
    "duration": 38,
    "start_time": "2021-06-29T13:18:47.976Z"
   },
   {
    "duration": 31,
    "start_time": "2021-06-29T13:18:48.015Z"
   },
   {
    "duration": 14,
    "start_time": "2021-06-29T13:18:48.047Z"
   },
   {
    "duration": 33,
    "start_time": "2021-06-29T13:18:48.063Z"
   },
   {
    "duration": 6,
    "start_time": "2021-06-29T13:18:48.097Z"
   },
   {
    "duration": 20,
    "start_time": "2021-06-29T13:18:48.105Z"
   },
   {
    "duration": 2,
    "start_time": "2021-06-29T13:18:48.127Z"
   },
   {
    "duration": 5,
    "start_time": "2021-06-29T13:18:48.131Z"
   },
   {
    "duration": 6,
    "start_time": "2021-06-29T13:18:48.137Z"
   },
   {
    "duration": 63,
    "start_time": "2021-06-29T13:18:48.144Z"
   },
   {
    "duration": 19,
    "start_time": "2021-06-29T13:18:48.208Z"
   },
   {
    "duration": 23,
    "start_time": "2021-06-29T13:18:48.229Z"
   },
   {
    "duration": 90,
    "start_time": "2021-06-29T13:18:48.254Z"
   },
   {
    "duration": 1174,
    "start_time": "2021-06-29T13:18:48.345Z"
   },
   {
    "duration": 1124,
    "start_time": "2021-06-29T13:18:49.521Z"
   },
   {
    "duration": 245,
    "start_time": "2021-06-29T13:18:50.647Z"
   },
   {
    "duration": 226,
    "start_time": "2021-06-29T13:18:50.894Z"
   },
   {
    "duration": 258,
    "start_time": "2021-06-29T13:18:51.122Z"
   },
   {
    "duration": 11,
    "start_time": "2021-06-29T13:18:51.382Z"
   },
   {
    "duration": 20,
    "start_time": "2021-06-29T13:18:51.394Z"
   },
   {
    "duration": 10,
    "start_time": "2021-06-29T13:18:51.417Z"
   },
   {
    "duration": 27,
    "start_time": "2021-06-29T13:18:51.429Z"
   },
   {
    "duration": 1253,
    "start_time": "2021-06-29T13:18:51.458Z"
   },
   {
    "duration": 237,
    "start_time": "2021-06-29T13:18:52.712Z"
   },
   {
    "duration": 262,
    "start_time": "2021-06-29T13:18:52.951Z"
   },
   {
    "duration": 7,
    "start_time": "2021-06-29T13:18:53.216Z"
   },
   {
    "duration": 333,
    "start_time": "2021-06-29T13:18:53.225Z"
   },
   {
    "duration": 10,
    "start_time": "2021-06-29T13:18:53.560Z"
   },
   {
    "duration": 5385,
    "start_time": "2021-06-29T13:18:53.571Z"
   },
   {
    "duration": 5,
    "start_time": "2021-06-29T13:18:58.958Z"
   },
   {
    "duration": 837,
    "start_time": "2021-06-29T13:18:58.965Z"
   },
   {
    "duration": 38,
    "start_time": "2021-06-29T13:18:59.804Z"
   },
   {
    "duration": 10,
    "start_time": "2021-06-29T13:18:59.844Z"
   },
   {
    "duration": 30,
    "start_time": "2021-06-29T13:18:59.855Z"
   },
   {
    "duration": 334,
    "start_time": "2021-06-29T13:18:59.887Z"
   },
   {
    "duration": 950,
    "start_time": "2021-06-29T16:11:20.837Z"
   },
   {
    "duration": 28,
    "start_time": "2021-06-29T16:11:21.789Z"
   },
   {
    "duration": 75,
    "start_time": "2021-06-29T16:11:21.819Z"
   },
   {
    "duration": 49,
    "start_time": "2021-06-29T16:11:21.897Z"
   },
   {
    "duration": 38,
    "start_time": "2021-06-29T16:11:21.948Z"
   },
   {
    "duration": 20,
    "start_time": "2021-06-29T16:11:21.988Z"
   },
   {
    "duration": 7,
    "start_time": "2021-06-29T16:11:22.011Z"
   },
   {
    "duration": 58,
    "start_time": "2021-06-29T16:11:22.022Z"
   },
   {
    "duration": 3,
    "start_time": "2021-06-29T16:11:22.083Z"
   },
   {
    "duration": 14,
    "start_time": "2021-06-29T16:11:22.088Z"
   },
   {
    "duration": 13,
    "start_time": "2021-06-29T16:11:22.104Z"
   },
   {
    "duration": 64,
    "start_time": "2021-06-29T16:11:22.120Z"
   },
   {
    "duration": 27,
    "start_time": "2021-06-29T16:11:22.186Z"
   },
   {
    "duration": 63,
    "start_time": "2021-06-29T16:11:22.215Z"
   },
   {
    "duration": 121,
    "start_time": "2021-06-29T16:11:22.280Z"
   },
   {
    "duration": 1877,
    "start_time": "2021-06-29T16:11:22.404Z"
   },
   {
    "duration": 1729,
    "start_time": "2021-06-29T16:11:24.284Z"
   },
   {
    "duration": 381,
    "start_time": "2021-06-29T16:11:26.016Z"
   },
   {
    "duration": 359,
    "start_time": "2021-06-29T16:11:26.399Z"
   },
   {
    "duration": 388,
    "start_time": "2021-06-29T16:11:26.760Z"
   },
   {
    "duration": 22,
    "start_time": "2021-06-29T16:11:27.150Z"
   },
   {
    "duration": 18,
    "start_time": "2021-06-29T16:11:27.175Z"
   },
   {
    "duration": 10,
    "start_time": "2021-06-29T16:11:27.197Z"
   },
   {
    "duration": 13,
    "start_time": "2021-06-29T16:11:27.210Z"
   },
   {
    "duration": 1977,
    "start_time": "2021-06-29T16:11:27.226Z"
   },
   {
    "duration": 389,
    "start_time": "2021-06-29T16:11:29.206Z"
   },
   {
    "duration": 450,
    "start_time": "2021-06-29T16:11:29.598Z"
   },
   {
    "duration": 25,
    "start_time": "2021-06-29T16:11:30.051Z"
   },
   {
    "duration": 496,
    "start_time": "2021-06-29T16:11:30.078Z"
   },
   {
    "duration": 15,
    "start_time": "2021-06-29T16:11:30.576Z"
   },
   {
    "duration": 9019,
    "start_time": "2021-06-29T16:11:30.594Z"
   },
   {
    "duration": 7,
    "start_time": "2021-06-29T16:11:39.615Z"
   },
   {
    "duration": 1262,
    "start_time": "2021-06-29T16:11:39.624Z"
   },
   {
    "duration": 79,
    "start_time": "2021-06-29T16:11:40.890Z"
   },
   {
    "duration": 18,
    "start_time": "2021-06-29T16:11:40.972Z"
   },
   {
    "duration": 14,
    "start_time": "2021-06-29T16:11:40.993Z"
   },
   {
    "duration": 524,
    "start_time": "2021-06-29T16:11:41.010Z"
   },
   {
    "duration": 160,
    "start_time": "2021-06-29T16:40:06.714Z"
   },
   {
    "duration": 491,
    "start_time": "2021-07-02T10:04:35.168Z"
   }
  ],
  "kernelspec": {
   "display_name": "Python 3",
   "language": "python",
   "name": "python3"
  },
  "language_info": {
   "codemirror_mode": {
    "name": "ipython",
    "version": 3
   },
   "file_extension": ".py",
   "mimetype": "text/x-python",
   "name": "python",
   "nbconvert_exporter": "python",
   "pygments_lexer": "ipython3",
   "version": "3.7.8"
  },
  "toc": {
   "base_numbering": 1,
   "nav_menu": {},
   "number_sections": true,
   "sideBar": true,
   "skip_h1_title": true,
   "title_cell": "Table of Contents",
   "title_sidebar": "Contents",
   "toc_cell": false,
   "toc_position": {},
   "toc_section_display": true,
   "toc_window_display": false
  }
 },
 "nbformat": 4,
 "nbformat_minor": 2
}
