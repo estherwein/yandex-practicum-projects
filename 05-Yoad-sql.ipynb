{
 "cells": [
  {
   "cell_type": "markdown",
   "metadata": {},
   "source": [
    "## To the reviewer\n",
    "Hi:), My name is Yoad,<br> \n",
    "I would like to thank you for taking the time to go over my project.<br>\n",
    "I hope that you'll find it interesting and clear, and I'm looking forward to read your comments."
   ]
  },
  {
   "cell_type": "markdown",
   "metadata": {},
   "source": [
    "Hello, Yoad!\n",
    "My name is Olga. I'm happy to reviewing your project today.\n",
    "\n",
    "You can find my comments in green, yellow or red boxes like this:\n",
    "\n",
    "\n",
    "<div class=\"alert alert-block alert-success\">\n",
    "<b>Reviewer's comment</b> <a class=\"tocSkip\"></a>\n",
    "    \n",
    "Success. Everything is done succesfully.\n",
    "</div>\n",
    "\n",
    "\n",
    "<div class=\"alert alert-block alert-warning\">\n",
    "<b>Reviewer's comment</b> <a class=\"tocSkip\"></a>\n",
    "    \n",
    "Remarks. Some recommendations.\n",
    "</div>\n",
    "\n",
    "\n",
    "<div class=\"alert alert-block alert-danger\">\n",
    "    \n",
    "<b>Reviewer's comment</b> <a class=\"tocSkip\"></a>\n",
    "    \n",
    "    \n",
    "Needs fixing. The block requires some corrections. Work can't be accepted with the red comments.\n",
    "</div>\n",
    "\n",
    "<b>Please don't remove my comments :)</b>\n",
    "\n",
    "You can answer me by using this: \n",
    "\n",
    "<div class=\"alert alert-block alert-info\">\n",
    "<b>Student answer.</b> <a class=\"tocSkip\"></a>\n",
    "</div>"
   ]
  },
  {
   "cell_type": "markdown",
   "metadata": {},
   "source": [
    "<div class=\"alert alert-block alert-success\">\n",
    "<b>Overallv reviewer's comment</b> <a class=\"tocSkip\"></a>\n",
    "    \n",
    "Yoad, thank you for sending your project. Your project looks great! You did such a good job!\n",
    "       \n",
    "I especially liked the syntax and code style of your work. It was very detailed and laconic at the same time. Thank you for your conclusions. I'm really impressed. You described all. Excellent!\n",
    "    \n",
    "Glad to say that your project has been accepted.\n",
    "    \n",
    "If you have questions, please, write them here. I try to help you. If you haven't any questions, just send me your project again and I will accept it. :)    \n",
    "</div>\n",
    "\n",
    "\n",
    "<div class=\"alert alert-block alert-success\">\n",
    "<b>Overallv reviewer's comment</b> <a class=\"tocSkip\"></a>\n",
    "    \n",
    "Hello Yoad!\n",
    "    \n",
    "Keep up the good work, and good luck on the next sprint! :)\n",
    "</div>"
   ]
  },
  {
   "cell_type": "markdown",
   "metadata": {},
   "source": [
    "----"
   ]
  },
  {
   "cell_type": "markdown",
   "metadata": {},
   "source": [
    "# Research on Passenger's Ride Patterns in Chicago.\n",
    "\n",
    "Zuber is the next generation ride-sharing platform,<br>\n",
    "As a promising start-up, Zuber chose Chicago as its launch location.<br>\n",
    " \n",
    "In order for Zuber to have a successful lunch, we need to know the patterns and behaviours of passengers in Chicago's neighborhoods,<br>\n",
    "and if and how much the weather affects them."
   ]
  },
  {
   "cell_type": "markdown",
   "metadata": {},
   "source": [
    "## Decription of the data\n",
    "##### The `project_sql_result_01.csv`  data:\n",
    " * `company_name` — Taxi company name.\n",
    " * `trips_amount` — The number of rides for each taxi company on November 15-16, 2017.\n",
    " \n",
    "##### The `project_sql_result_04.csv`  data:\n",
    " * `dropoff_location_name` — Chicago neighborhoods where rides ended.\n",
    " * `average_trips` — The average number of rides that ended in each neighborhood in November 2017.\n",
    " \n",
    "##### The `project_sql_result_07.csv`  data: \n",
    " * `start_ts` — Pickup date and time.\n",
    " * `weather_conditions` — Weather conditions at the moment the ride started.\n",
    " * `duration_seconds` — Ride duration in seconds."
   ]
  },
  {
   "cell_type": "markdown",
   "metadata": {},
   "source": [
    "----"
   ]
  },
  {
   "cell_type": "markdown",
   "metadata": {},
   "source": [
    "## Tables Of Contents \n",
    "<a class=\"anchor\" id=\"table_of_contents\"></a><br>\n",
    "- [**First Look at The Data**](#chapter1)<br>\n",
    "  - [Taxi data](#chapter2)<br>\n",
    "  - [Neighborhoods data](#chapter3)<br>\n",
    "  - [Airport Trips](#chapter4)<br>\n",
    "- [**Data Preprocessing**](#chapter5)<br>\n",
    "  - [Duplicated Values](#chapter6)<br>\n",
    "  - [Changing Data Types](#chapter7)<br>\n",
    "- [**Analyzing The Data**](#chapter8)<br>\n",
    "   - [The Top 10 neighborhoods](#chapter9)<br>\n",
    "   - [Taxi compenies and Number of Rides](#chapter10)<br>\n",
    "   - [Top 10 Neighborhoods and Number of Rides](#chapter11)<br>\n",
    "- [**Hypotheses Testing**](#chapter12)<br>\n",
    "   - [Average Duration of Rides to O'Hare Airport](#chapter13)<br>\n",
    "- [**Overall Conclusion**](#chapter14)<br>"
   ]
  },
  {
   "cell_type": "markdown",
   "metadata": {},
   "source": [
    "<div class=\"alert alert-block alert-success\">\n",
    "<b>Reviewer's comment</b> <a class=\"tocSkip\"></a>\n",
    "    \n",
    "Great start! We have a very detailed introduction and contents. It help us to understand the subject and goals. Also we can navigate easily in a project. :) \n",
    "</div>\n"
   ]
  },
  {
   "cell_type": "markdown",
   "metadata": {},
   "source": [
    "----"
   ]
  },
  {
   "cell_type": "markdown",
   "metadata": {},
   "source": [
    "## First Look at The Data \n",
    "<a class=\"anchor\" id=\"chapter1\"></a>\n",
    "[Go back to the Table of Contents](#table_of_contents)"
   ]
  },
  {
   "cell_type": "markdown",
   "metadata": {},
   "source": [
    "### Please Note: \n",
    "**There are some libraries that are not updated on the platform, particularly Matplotlib and Seaborn.       \n",
    "In order for the code to run properly, remove the # sign in the following commands and execute them, then restart the kernel.\n",
    "Thank you.**"
   ]
  },
  {
   "cell_type": "code",
   "execution_count": 1,
   "metadata": {},
   "outputs": [
    {
     "name": "stdout",
     "output_type": "stream",
     "text": [
      "Defaulting to user installation because normal site-packages is not writeable\n",
      "Collecting numpy\n",
      "  Downloading numpy-1.21.1-cp37-cp37m-manylinux_2_12_x86_64.manylinux2010_x86_64.whl (15.7 MB)\n",
      "\u001b[K     |████████████████████████████████| 15.7 MB 21.7 MB/s eta 0:00:01\n",
      "\u001b[?25hInstalling collected packages: numpy\n",
      "Successfully installed numpy-1.21.1\n"
     ]
    }
   ],
   "source": [
    "# !pip install numpy --upgrade --no-warn-script-location"
   ]
  },
  {
   "cell_type": "code",
   "execution_count": 2,
   "metadata": {},
   "outputs": [
    {
     "name": "stdout",
     "output_type": "stream",
     "text": [
      "Defaulting to user installation because normal site-packages is not writeable\n",
      "Collecting pandas\n",
      "  Downloading pandas-1.3.0-cp37-cp37m-manylinux_2_5_x86_64.manylinux1_x86_64.whl (10.8 MB)\n",
      "\u001b[K     |████████████████████████████████| 10.8 MB 1.7 MB/s eta 0:00:01\n",
      "\u001b[?25hRequirement already satisfied, skipping upgrade: pytz>=2017.3 in /opt/conda/lib/python3.7/site-packages (from pandas) (2021.1)\n",
      "Requirement already satisfied, skipping upgrade: numpy>=1.17.3 in /home/jovyan/.local/lib/python3.7/site-packages (from pandas) (1.21.1)\n",
      "Requirement already satisfied, skipping upgrade: python-dateutil>=2.7.3 in /opt/conda/lib/python3.7/site-packages (from pandas) (2.8.1)\n",
      "Requirement already satisfied, skipping upgrade: six>=1.5 in /opt/conda/lib/python3.7/site-packages (from python-dateutil>=2.7.3->pandas) (1.15.0)\n",
      "Installing collected packages: pandas\n",
      "Successfully installed pandas-1.3.0\n"
     ]
    }
   ],
   "source": [
    "# !pip install pandas --upgrade"
   ]
  },
  {
   "cell_type": "code",
   "execution_count": 3,
   "metadata": {},
   "outputs": [
    {
     "name": "stdout",
     "output_type": "stream",
     "text": [
      "Defaulting to user installation because normal site-packages is not writeable\n",
      "Collecting matplotlib\n",
      "  Downloading matplotlib-3.4.2-cp37-cp37m-manylinux1_x86_64.whl (10.3 MB)\n",
      "\u001b[K     |████████████████████████████████| 10.3 MB 1.7 MB/s eta 0:00:01\n",
      "\u001b[?25hRequirement already satisfied, skipping upgrade: pyparsing>=2.2.1 in /opt/conda/lib/python3.7/site-packages (from matplotlib) (2.4.7)\n",
      "Requirement already satisfied, skipping upgrade: numpy>=1.16 in /home/jovyan/.local/lib/python3.7/site-packages (from matplotlib) (1.21.1)\n",
      "Requirement already satisfied, skipping upgrade: cycler>=0.10 in /opt/conda/lib/python3.7/site-packages (from matplotlib) (0.10.0)\n",
      "Requirement already satisfied, skipping upgrade: python-dateutil>=2.7 in /opt/conda/lib/python3.7/site-packages (from matplotlib) (2.8.1)\n",
      "Requirement already satisfied, skipping upgrade: kiwisolver>=1.0.1 in /opt/conda/lib/python3.7/site-packages (from matplotlib) (1.3.1)\n",
      "Requirement already satisfied, skipping upgrade: pillow>=6.2.0 in /opt/conda/lib/python3.7/site-packages (from matplotlib) (7.0.0)\n",
      "Requirement already satisfied, skipping upgrade: six in /opt/conda/lib/python3.7/site-packages (from cycler>=0.10->matplotlib) (1.15.0)\n",
      "Installing collected packages: matplotlib\n",
      "Successfully installed matplotlib-3.4.2\n"
     ]
    }
   ],
   "source": [
    "# !pip install matplotlib --upgrade "
   ]
  },
  {
   "cell_type": "code",
   "execution_count": 4,
   "metadata": {},
   "outputs": [
    {
     "name": "stdout",
     "output_type": "stream",
     "text": [
      "Defaulting to user installation because normal site-packages is not writeable\n",
      "Collecting seaborn\n",
      "  Downloading seaborn-0.11.1-py3-none-any.whl (285 kB)\n",
      "\u001b[K     |████████████████████████████████| 285 kB 1.3 MB/s eta 0:00:01\n",
      "\u001b[?25hRequirement already satisfied, skipping upgrade: numpy>=1.15 in /home/jovyan/.local/lib/python3.7/site-packages (from seaborn) (1.21.1)\n",
      "Requirement already satisfied, skipping upgrade: pandas>=0.23 in /home/jovyan/.local/lib/python3.7/site-packages (from seaborn) (1.3.0)\n",
      "Requirement already satisfied, skipping upgrade: scipy>=1.0 in /opt/conda/lib/python3.7/site-packages (from seaborn) (1.4.1)\n",
      "Requirement already satisfied, skipping upgrade: matplotlib>=2.2 in /home/jovyan/.local/lib/python3.7/site-packages (from seaborn) (3.4.2)\n",
      "Requirement already satisfied, skipping upgrade: pytz>=2017.3 in /opt/conda/lib/python3.7/site-packages (from pandas>=0.23->seaborn) (2021.1)\n",
      "Requirement already satisfied, skipping upgrade: python-dateutil>=2.7.3 in /opt/conda/lib/python3.7/site-packages (from pandas>=0.23->seaborn) (2.8.1)\n",
      "Requirement already satisfied, skipping upgrade: kiwisolver>=1.0.1 in /opt/conda/lib/python3.7/site-packages (from matplotlib>=2.2->seaborn) (1.3.1)\n",
      "Requirement already satisfied, skipping upgrade: cycler>=0.10 in /opt/conda/lib/python3.7/site-packages (from matplotlib>=2.2->seaborn) (0.10.0)\n",
      "Requirement already satisfied, skipping upgrade: pyparsing>=2.2.1 in /opt/conda/lib/python3.7/site-packages (from matplotlib>=2.2->seaborn) (2.4.7)\n",
      "Requirement already satisfied, skipping upgrade: pillow>=6.2.0 in /opt/conda/lib/python3.7/site-packages (from matplotlib>=2.2->seaborn) (7.0.0)\n",
      "Requirement already satisfied, skipping upgrade: six>=1.5 in /opt/conda/lib/python3.7/site-packages (from python-dateutil>=2.7.3->pandas>=0.23->seaborn) (1.15.0)\n",
      "Installing collected packages: seaborn\n",
      "Successfully installed seaborn-0.11.1\n"
     ]
    }
   ],
   "source": [
    "# !pip install seaborn --upgrade "
   ]
  },
  {
   "cell_type": "code",
   "execution_count": 5,
   "metadata": {},
   "outputs": [],
   "source": [
    "# Importing pandas libarary.\n",
    "import pandas as pd\n",
    "\n",
    "# Importing NumPy library.\n",
    "import numpy as np\n",
    "\n",
    "# Importing matplotlib libarary.\n",
    "import matplotlib.pyplot as plt\n",
    "\n",
    "# Importing seaborn library.\n",
    "import seaborn as sns\n",
    "\n",
    "# Importing reduce function.\n",
    "from functools import reduce\n",
    "\n",
    "# Importaing satistics library.\n",
    "from scipy import stats as st\n"
   ]
  },
  {
   "cell_type": "code",
   "execution_count": 6,
   "metadata": {},
   "outputs": [],
   "source": [
    "# By using try-except method, the data can load on the platform,\n",
    "# as well as my local computer.\n",
    "\n",
    "try:\n",
    "    # Loading the data in the .csv files into a variable (locally)\n",
    "    taxi = pd.read_csv('project_sql_result_01.csv')\n",
    "    nhoods = pd.read_csv('project_sql_result_04.csv')\n",
    "    airport_trips = pd.read_csv('project_sql_result_07.csv')\n",
    "    \n",
    "except:   \n",
    "    # Loading the data in the .csv files into a variable (platform)\n",
    "    taxi = pd.read_csv('/datasets/project_sql_result_01.csv')\n",
    "    nhoods = pd.read_csv('/datasets/project_sql_result_04.csv')\n",
    "    airport_trips = pd.read_csv('/datasets/project_sql_result_07.csv')"
   ]
  },
  {
   "cell_type": "markdown",
   "metadata": {},
   "source": [
    "<div class=\"alert alert-block alert-success\">\n",
    "<b>Reviewer's comment</b> <a class=\"tocSkip\"></a>\n",
    "    \n",
    "Thank you for your comment about installation of libraries. Import libraries at the beginning help us to set up working environment and try/except is a great decision!\n",
    "</div>"
   ]
  },
  {
   "cell_type": "markdown",
   "metadata": {},
   "source": [
    "### Taxi data\n",
    "<a class=\"anchor\" id=\"chapter2\"></a>\n",
    "[Go back to the Table of Contents](#table_of_contents)"
   ]
  },
  {
   "cell_type": "markdown",
   "metadata": {},
   "source": [
    "The first thing we need to do is look at the entire data set and see if there are any missing values, as well as the types of data."
   ]
  },
  {
   "cell_type": "code",
   "execution_count": 7,
   "metadata": {},
   "outputs": [
    {
     "name": "stdout",
     "output_type": "stream",
     "text": [
      "<class 'pandas.core.frame.DataFrame'>\n",
      "RangeIndex: 64 entries, 0 to 63\n",
      "Data columns (total 2 columns):\n",
      " #   Column        Non-Null Count  Dtype \n",
      "---  ------        --------------  ----- \n",
      " 0   company_name  64 non-null     object\n",
      " 1   trips_amount  64 non-null     int64 \n",
      "dtypes: int64(1), object(1)\n",
      "memory usage: 1.1+ KB\n"
     ]
    }
   ],
   "source": [
    "taxi.info()"
   ]
  },
  {
   "cell_type": "markdown",
   "metadata": {},
   "source": [
    "- We can see that **the data does not contain any missing values.**\n",
    "- We might want to **change 'trips_amount' to int32** to save memory."
   ]
  },
  {
   "cell_type": "markdown",
   "metadata": {},
   "source": [
    "Printing 10 rows randomly from the dataset to examine the data."
   ]
  },
  {
   "cell_type": "code",
   "execution_count": 8,
   "metadata": {},
   "outputs": [
    {
     "data": {
      "text/html": [
       "<div>\n",
       "<style scoped>\n",
       "    .dataframe tbody tr th:only-of-type {\n",
       "        vertical-align: middle;\n",
       "    }\n",
       "\n",
       "    .dataframe tbody tr th {\n",
       "        vertical-align: top;\n",
       "    }\n",
       "\n",
       "    .dataframe thead th {\n",
       "        text-align: right;\n",
       "    }\n",
       "</style>\n",
       "<table border=\"1\" class=\"dataframe\">\n",
       "  <thead>\n",
       "    <tr style=\"text-align: right;\">\n",
       "      <th></th>\n",
       "      <th>company_name</th>\n",
       "      <th>trips_amount</th>\n",
       "    </tr>\n",
       "  </thead>\n",
       "  <tbody>\n",
       "    <tr>\n",
       "      <th>43</th>\n",
       "      <td>2809 - 95474 C &amp; D Cab Co Inc.</td>\n",
       "      <td>29</td>\n",
       "    </tr>\n",
       "    <tr>\n",
       "      <th>5</th>\n",
       "      <td>Chicago Carriage Cab Corp</td>\n",
       "      <td>9181</td>\n",
       "    </tr>\n",
       "    <tr>\n",
       "      <th>51</th>\n",
       "      <td>4623 - 27290 Jay Kim</td>\n",
       "      <td>15</td>\n",
       "    </tr>\n",
       "    <tr>\n",
       "      <th>2</th>\n",
       "      <td>Medallion Leasing</td>\n",
       "      <td>10367</td>\n",
       "    </tr>\n",
       "    <tr>\n",
       "      <th>7</th>\n",
       "      <td>Sun Taxi</td>\n",
       "      <td>7701</td>\n",
       "    </tr>\n",
       "    <tr>\n",
       "      <th>54</th>\n",
       "      <td>2192 - 73487 Zeymane Corp</td>\n",
       "      <td>14</td>\n",
       "    </tr>\n",
       "    <tr>\n",
       "      <th>3</th>\n",
       "      <td>Yellow Cab</td>\n",
       "      <td>9888</td>\n",
       "    </tr>\n",
       "    <tr>\n",
       "      <th>47</th>\n",
       "      <td>4615 - 83503 Tyrone Henderson</td>\n",
       "      <td>21</td>\n",
       "    </tr>\n",
       "    <tr>\n",
       "      <th>60</th>\n",
       "      <td>2733 - 74600 Benny Jona</td>\n",
       "      <td>7</td>\n",
       "    </tr>\n",
       "    <tr>\n",
       "      <th>42</th>\n",
       "      <td>1085 - 72312 N and W Cab Co</td>\n",
       "      <td>29</td>\n",
       "    </tr>\n",
       "  </tbody>\n",
       "</table>\n",
       "</div>"
      ],
      "text/plain": [
       "                      company_name  trips_amount\n",
       "43  2809 - 95474 C & D Cab Co Inc.            29\n",
       "5        Chicago Carriage Cab Corp          9181\n",
       "51            4623 - 27290 Jay Kim            15\n",
       "2                Medallion Leasing         10367\n",
       "7                         Sun Taxi          7701\n",
       "54       2192 - 73487 Zeymane Corp            14\n",
       "3                       Yellow Cab          9888\n",
       "47   4615 - 83503 Tyrone Henderson            21\n",
       "60         2733 - 74600 Benny Jona             7\n",
       "42     1085 - 72312 N and W Cab Co            29"
      ]
     },
     "execution_count": 8,
     "metadata": {},
     "output_type": "execute_result"
    }
   ],
   "source": [
    "taxi.sample(10)"
   ]
  },
  {
   "cell_type": "markdown",
   "metadata": {},
   "source": [
    "Using describe() we can now get even more detailed information about our data.\n"
   ]
  },
  {
   "cell_type": "code",
   "execution_count": 9,
   "metadata": {},
   "outputs": [
    {
     "data": {
      "text/html": [
       "<div>\n",
       "<style scoped>\n",
       "    .dataframe tbody tr th:only-of-type {\n",
       "        vertical-align: middle;\n",
       "    }\n",
       "\n",
       "    .dataframe tbody tr th {\n",
       "        vertical-align: top;\n",
       "    }\n",
       "\n",
       "    .dataframe thead th {\n",
       "        text-align: right;\n",
       "    }\n",
       "</style>\n",
       "<table border=\"1\" class=\"dataframe\">\n",
       "  <thead>\n",
       "    <tr style=\"text-align: right;\">\n",
       "      <th></th>\n",
       "      <th>trips_amount</th>\n",
       "    </tr>\n",
       "  </thead>\n",
       "  <tbody>\n",
       "    <tr>\n",
       "      <th>count</th>\n",
       "      <td>64.000000</td>\n",
       "    </tr>\n",
       "    <tr>\n",
       "      <th>mean</th>\n",
       "      <td>2145.484375</td>\n",
       "    </tr>\n",
       "    <tr>\n",
       "      <th>std</th>\n",
       "      <td>3812.310186</td>\n",
       "    </tr>\n",
       "    <tr>\n",
       "      <th>min</th>\n",
       "      <td>2.000000</td>\n",
       "    </tr>\n",
       "    <tr>\n",
       "      <th>25%</th>\n",
       "      <td>20.750000</td>\n",
       "    </tr>\n",
       "    <tr>\n",
       "      <th>50%</th>\n",
       "      <td>178.500000</td>\n",
       "    </tr>\n",
       "    <tr>\n",
       "      <th>75%</th>\n",
       "      <td>2106.500000</td>\n",
       "    </tr>\n",
       "    <tr>\n",
       "      <th>max</th>\n",
       "      <td>19558.000000</td>\n",
       "    </tr>\n",
       "  </tbody>\n",
       "</table>\n",
       "</div>"
      ],
      "text/plain": [
       "       trips_amount\n",
       "count     64.000000\n",
       "mean    2145.484375\n",
       "std     3812.310186\n",
       "min        2.000000\n",
       "25%       20.750000\n",
       "50%      178.500000\n",
       "75%     2106.500000\n",
       "max    19558.000000"
      ]
     },
     "execution_count": 9,
     "metadata": {},
     "output_type": "execute_result"
    }
   ],
   "source": [
    "taxi.describe()"
   ]
  },
  {
   "cell_type": "markdown",
   "metadata": {},
   "source": [
    "- Our data contains information on **64 taxi companies** in Chicago.\n",
    "- The **average number of trips is 2145** for the different companies, which is impressive for a 2 day period, and we should review all the data to make sure everything is accurate.\n",
    "- There is a big difference in the number of trips in the data, as ***the standard deviation is really high!**\n",
    "- The **minimum number of trips is 2**, and the **maximum is around 20,000.** Could there be such dramatic difference between companies? one possible explanation is that these companies use an app service that is similar to GetTaxi or YanGo, or maybe our data is corrupted in some way🤔.\n",
    "- **The mean is also more than 10 times higher than the median**, so something must be going on."
   ]
  },
  {
   "cell_type": "markdown",
   "metadata": {},
   "source": [
    "<div class=\"alert alert-block alert-success\">\n",
    "<b>Reviewer's comment</b> <a class=\"tocSkip\"></a>\n",
    "    \n",
    "Well done! We have basic information about our first dataset. You write a very detailed description. Thank you!\n",
    " \n",
    "Also you designate problems with data. Very good!\n",
    "</div>"
   ]
  },
  {
   "cell_type": "markdown",
   "metadata": {},
   "source": [
    "#### Visualizing the distribution of trips amount in taxi data."
   ]
  },
  {
   "cell_type": "code",
   "execution_count": 10,
   "metadata": {},
   "outputs": [
    {
     "data": {
      "image/png": "[encoded data removed]",
      "text/plain": [
       "<Figure size 1008x504 with 2 Axes>"
      ]
     },
     "metadata": {
      "needs_background": "light"
     },
     "output_type": "display_data"
    }
   ],
   "source": [
    "fig, axes = plt.subplots(nrows=1, ncols=2, figsize=(14,7))\n",
    "fig.suptitle('Distribution of The Amount of Trips', size=24)\n",
    "sns.set_style(\"whitegrid\")\n",
    "\n",
    "sns.boxplot(ax=axes[0],data=taxi);\n",
    "axes[0].set_title( 'Distribution in Boxplot' , size = 16 )\n",
    "axes[0].set_xlabel('trips_amount column', size=16);\n",
    "axes[0].set_ylabel('Amount of Trips', size=16);\n",
    "axes[0].tick_params(axis='both', which='major', labelsize=12)\n",
    "\n",
    "sns.histplot(ax=axes[1],data=taxi,bins=30);\n",
    "axes[1].set_title( 'Distribution in Histogram Plot' , size = 16 )\n",
    "axes[1].set_xlabel('Amount of Trips', size=16);\n",
    "axes[1].set_ylabel('Number of Compenies', size=16);\n",
    "axes[1].tick_params(axis='both', which='major', labelsize=12)\n",
    "\n",
    "plt.show()"
   ]
  },
  {
   "cell_type": "markdown",
   "metadata": {},
   "source": [
    "- We can see **very high outliers in our data.**\n",
    "- The data is **highly skewed to the right.**\n",
    "- We can see that **around half of the companies** in our data **falls between 0 trips (actually 2 is the minimum) and somewhere around 1,000**, and a drastic decline in the number of companies as we go up in the number of trips."
   ]
  },
  {
   "cell_type": "markdown",
   "metadata": {},
   "source": [
    "#### Conclusion"
   ]
  },
  {
   "cell_type": "markdown",
   "metadata": {},
   "source": [
    "At first glance, it is evident that,\n",
    "- We see very high outliers in our amount of trips per company.\n",
    "- Around half of the companies in out data falls between 2 (the minimum) and around 1,000 trips.\n",
    "- The data is highly skewed to the right.\n",
    "- We might want to change the 'trip_amount' column to int32 to save memory.\n",
    "- There are no missing values in the data"
   ]
  },
  {
   "cell_type": "markdown",
   "metadata": {},
   "source": [
    "<div class=\"alert alert-block alert-success\">\n",
    "<b>Reviewer's comment</b> <a class=\"tocSkip\"></a>\n",
    "    \n",
    "Great visualisation and conclusion! Yes, here we have high outliers, but it is a taxi and it can be real. :) \n",
    "</div>"
   ]
  },
  {
   "cell_type": "markdown",
   "metadata": {},
   "source": [
    "### Neighborhoods data\n",
    "<a class=\"anchor\" id=\"chapter3\"></a>\n",
    "[Go back to the Table of Contents](#table_of_contents)"
   ]
  },
  {
   "cell_type": "markdown",
   "metadata": {},
   "source": [
    "The first thing we need to do is look at the entire data set and see if there are any missing values, as well as the types of data."
   ]
  },
  {
   "cell_type": "code",
   "execution_count": 11,
   "metadata": {},
   "outputs": [
    {
     "name": "stdout",
     "output_type": "stream",
     "text": [
      "<class 'pandas.core.frame.DataFrame'>\n",
      "RangeIndex: 94 entries, 0 to 93\n",
      "Data columns (total 2 columns):\n",
      " #   Column                 Non-Null Count  Dtype  \n",
      "---  ------                 --------------  -----  \n",
      " 0   dropoff_location_name  94 non-null     object \n",
      " 1   average_trips          94 non-null     float64\n",
      "dtypes: float64(1), object(1)\n",
      "memory usage: 1.6+ KB\n"
     ]
    }
   ],
   "source": [
    "nhoods.info()"
   ]
  },
  {
   "cell_type": "markdown",
   "metadata": {},
   "source": [
    "- We can see that **the data does not contain any missing values**.\n",
    "- We might want to **change 'average_trips' to int32** because we don't have half of a trip (in theory) and to save memory."
   ]
  },
  {
   "cell_type": "markdown",
   "metadata": {},
   "source": [
    "Printing 10 rows randomly from the dataset to examine the data."
   ]
  },
  {
   "cell_type": "code",
   "execution_count": 12,
   "metadata": {},
   "outputs": [
    {
     "data": {
      "text/html": [
       "<div>\n",
       "<style scoped>\n",
       "    .dataframe tbody tr th:only-of-type {\n",
       "        vertical-align: middle;\n",
       "    }\n",
       "\n",
       "    .dataframe tbody tr th {\n",
       "        vertical-align: top;\n",
       "    }\n",
       "\n",
       "    .dataframe thead th {\n",
       "        text-align: right;\n",
       "    }\n",
       "</style>\n",
       "<table border=\"1\" class=\"dataframe\">\n",
       "  <thead>\n",
       "    <tr style=\"text-align: right;\">\n",
       "      <th></th>\n",
       "      <th>dropoff_location_name</th>\n",
       "      <th>average_trips</th>\n",
       "    </tr>\n",
       "  </thead>\n",
       "  <tbody>\n",
       "    <tr>\n",
       "      <th>79</th>\n",
       "      <td>Fuller Park</td>\n",
       "      <td>8.166667</td>\n",
       "    </tr>\n",
       "    <tr>\n",
       "      <th>57</th>\n",
       "      <td>Hermosa</td>\n",
       "      <td>27.566667</td>\n",
       "    </tr>\n",
       "    <tr>\n",
       "      <th>11</th>\n",
       "      <td>East Village</td>\n",
       "      <td>1212.066667</td>\n",
       "    </tr>\n",
       "    <tr>\n",
       "      <th>38</th>\n",
       "      <td>Armour Square</td>\n",
       "      <td>77.033333</td>\n",
       "    </tr>\n",
       "    <tr>\n",
       "      <th>28</th>\n",
       "      <td>Wicker Park</td>\n",
       "      <td>182.600000</td>\n",
       "    </tr>\n",
       "    <tr>\n",
       "      <th>10</th>\n",
       "      <td>Lincoln Park</td>\n",
       "      <td>1246.533333</td>\n",
       "    </tr>\n",
       "    <tr>\n",
       "      <th>80</th>\n",
       "      <td>West Lawn</td>\n",
       "      <td>7.733333</td>\n",
       "    </tr>\n",
       "    <tr>\n",
       "      <th>68</th>\n",
       "      <td>Clearing</td>\n",
       "      <td>14.500000</td>\n",
       "    </tr>\n",
       "    <tr>\n",
       "      <th>82</th>\n",
       "      <td>South Deering</td>\n",
       "      <td>7.500000</td>\n",
       "    </tr>\n",
       "    <tr>\n",
       "      <th>84</th>\n",
       "      <td>West Pullman</td>\n",
       "      <td>6.466667</td>\n",
       "    </tr>\n",
       "  </tbody>\n",
       "</table>\n",
       "</div>"
      ],
      "text/plain": [
       "   dropoff_location_name  average_trips\n",
       "79           Fuller Park       8.166667\n",
       "57               Hermosa      27.566667\n",
       "11          East Village    1212.066667\n",
       "38         Armour Square      77.033333\n",
       "28           Wicker Park     182.600000\n",
       "10          Lincoln Park    1246.533333\n",
       "80             West Lawn       7.733333\n",
       "68              Clearing      14.500000\n",
       "82         South Deering       7.500000\n",
       "84          West Pullman       6.466667"
      ]
     },
     "execution_count": 12,
     "metadata": {},
     "output_type": "execute_result"
    }
   ],
   "source": [
    "nhoods.sample(10)"
   ]
  },
  {
   "cell_type": "markdown",
   "metadata": {},
   "source": [
    "Using describe() we can now get even more detailed information about our data.\n"
   ]
  },
  {
   "cell_type": "code",
   "execution_count": 13,
   "metadata": {},
   "outputs": [
    {
     "data": {
      "text/html": [
       "<div>\n",
       "<style scoped>\n",
       "    .dataframe tbody tr th:only-of-type {\n",
       "        vertical-align: middle;\n",
       "    }\n",
       "\n",
       "    .dataframe tbody tr th {\n",
       "        vertical-align: top;\n",
       "    }\n",
       "\n",
       "    .dataframe thead th {\n",
       "        text-align: right;\n",
       "    }\n",
       "</style>\n",
       "<table border=\"1\" class=\"dataframe\">\n",
       "  <thead>\n",
       "    <tr style=\"text-align: right;\">\n",
       "      <th></th>\n",
       "      <th>average_trips</th>\n",
       "    </tr>\n",
       "  </thead>\n",
       "  <tbody>\n",
       "    <tr>\n",
       "      <th>count</th>\n",
       "      <td>94.000000</td>\n",
       "    </tr>\n",
       "    <tr>\n",
       "      <th>mean</th>\n",
       "      <td>599.953728</td>\n",
       "    </tr>\n",
       "    <tr>\n",
       "      <th>std</th>\n",
       "      <td>1714.591098</td>\n",
       "    </tr>\n",
       "    <tr>\n",
       "      <th>min</th>\n",
       "      <td>1.800000</td>\n",
       "    </tr>\n",
       "    <tr>\n",
       "      <th>25%</th>\n",
       "      <td>14.266667</td>\n",
       "    </tr>\n",
       "    <tr>\n",
       "      <th>50%</th>\n",
       "      <td>52.016667</td>\n",
       "    </tr>\n",
       "    <tr>\n",
       "      <th>75%</th>\n",
       "      <td>298.858333</td>\n",
       "    </tr>\n",
       "    <tr>\n",
       "      <th>max</th>\n",
       "      <td>10727.466667</td>\n",
       "    </tr>\n",
       "  </tbody>\n",
       "</table>\n",
       "</div>"
      ],
      "text/plain": [
       "       average_trips\n",
       "count      94.000000\n",
       "mean      599.953728\n",
       "std      1714.591098\n",
       "min         1.800000\n",
       "25%        14.266667\n",
       "50%        52.016667\n",
       "75%       298.858333\n",
       "max     10727.466667"
      ]
     },
     "execution_count": 13,
     "metadata": {},
     "output_type": "execute_result"
    }
   ],
   "source": [
    "nhoods.describe()"
   ]
  },
  {
   "cell_type": "markdown",
   "metadata": {},
   "source": [
    "- Our data contains **information on 94 neighborhoods Chicago.**\n",
    "- The **average number of average trips per neighborhood is around 600**, which is impressive for a 2 day period.\n",
    "- There is a big difference in the number of trips in the data, as **the standard deviation is really high!**\n",
    "- The **minimum number of average trips is 1.8** which correspond with our previous data, and the **maximum is around 11,000**. Here too we can see that there is something with the data and the two tables are connected around this issue.\n",
    "- **The mean is also more than 30 times higher than the median(!!!),** indicating a highly skew to the right."
   ]
  },
  {
   "cell_type": "markdown",
   "metadata": {},
   "source": [
    "<div class=\"alert alert-block alert-success\">\n",
    "<b>Reviewer's comment</b> <a class=\"tocSkip\"></a>\n",
    "    \n",
    "The same great detailed description. Very good that you find outliers here.</div>"
   ]
  },
  {
   "cell_type": "markdown",
   "metadata": {},
   "source": [
    "#### Visualizing the distribution of average trips amount to different neighborhoods."
   ]
  },
  {
   "cell_type": "code",
   "execution_count": 14,
   "metadata": {},
   "outputs": [
    {
     "data": {
      "image/png": "[encoded data removed]",
      "text/plain": [
       "<Figure size 1008x504 with 2 Axes>"
      ]
     },
     "metadata": {},
     "output_type": "display_data"
    }
   ],
   "source": [
    "fig, axes = plt.subplots(nrows=1, ncols=2, figsize=(14,7))\n",
    "fig.suptitle('Distribution of The Average Amount of Trips', size=24)\n",
    "sns.set_style(\"whitegrid\")\n",
    "\n",
    "sns.boxplot(ax=axes[0],data=nhoods);\n",
    "axes[0].set_title( 'Distribution in Boxplot' , size = 16 )\n",
    "axes[0].set_xlabel('Average_trips_amount column', size=16);\n",
    "axes[0].set_ylabel('Average Amount of Trips', size=16);\n",
    "axes[0].tick_params(axis='both', which='major', labelsize=12)\n",
    "\n",
    "sns.histplot(ax=axes[1],data=nhoods,bins=30);\n",
    "axes[1].set_title( 'Distribution in Histogram Plot' , size = 16 )\n",
    "axes[1].set_xlabel('Amount of Trips', size=16);\n",
    "axes[1].set_ylabel('Number of Neighborhoods', size=16);\n",
    "axes[1].tick_params(axis='both', which='major', labelsize=12)\n",
    "\n",
    "plt.show()"
   ]
  },
  {
   "cell_type": "markdown",
   "metadata": {},
   "source": [
    "- We can see **very high outliers in our data.** just as we've seen before.\n",
    "- The data is **highly skewed to the right.**\n",
    "- We can see that **more than 70 of the neighborhoods** in our data **falls between 2 average trips (actually 1.8 is the minimum) and somewhere around 350**, and a drastic decline in the number of neighborhoods as we go up in the average number of trips."
   ]
  },
  {
   "cell_type": "markdown",
   "metadata": {},
   "source": [
    "#### Conclusion"
   ]
  },
  {
   "cell_type": "markdown",
   "metadata": {},
   "source": [
    "At first glance, it is evident that,\n",
    "- We see very high outliers in our amount of average trips per neighborhood.\n",
    "- More than 70 of the neighborhoods in our data falls between 2 ( 1.8 is the minimum) and around 350 average trips.\n",
    "- The data is highly skewed to the right.\n",
    "- We might want to change the 'average_trip_amount' column to int32 because we don't have half of a trip (in theory) and to save memory.\n",
    "- There are no missing values in the data."
   ]
  },
  {
   "cell_type": "markdown",
   "metadata": {},
   "source": [
    "<div class=\"alert alert-block alert-success\">\n",
    "<b>Reviewer's comment</b> <a class=\"tocSkip\"></a>\n",
    "    \n",
    "So, here we have similar results. Our data is prepared good and outliries are their feature. </div>"
   ]
  },
  {
   "cell_type": "markdown",
   "metadata": {},
   "source": [
    "### Airport Trips\n",
    "<a class=\"anchor\" id=\"chapter4\"></a>\n",
    "[Go back to the Table of Contents](#table_of_contents)"
   ]
  },
  {
   "cell_type": "markdown",
   "metadata": {},
   "source": [
    "The first thing we need to do is look at the entire data set and see if there are any missing values, as well as the types of data."
   ]
  },
  {
   "cell_type": "code",
   "execution_count": 15,
   "metadata": {},
   "outputs": [
    {
     "name": "stdout",
     "output_type": "stream",
     "text": [
      "<class 'pandas.core.frame.DataFrame'>\n",
      "RangeIndex: 1068 entries, 0 to 1067\n",
      "Data columns (total 3 columns):\n",
      " #   Column              Non-Null Count  Dtype  \n",
      "---  ------              --------------  -----  \n",
      " 0   start_ts            1068 non-null   object \n",
      " 1   weather_conditions  1068 non-null   object \n",
      " 2   duration_seconds    1068 non-null   float64\n",
      "dtypes: float64(1), object(2)\n",
      "memory usage: 25.2+ KB\n"
     ]
    }
   ],
   "source": [
    "airport_trips.info()"
   ]
  },
  {
   "cell_type": "markdown",
   "metadata": {},
   "source": [
    "- We can see that **the data does not contain any missing values**.\n",
    "- We need to **change 'start_ts' to date-time** in order to be able to work with it.\n",
    "- We need to **change 'duration_seconds' to int32** because the column is in seconds (whole) and to save memory."
   ]
  },
  {
   "cell_type": "markdown",
   "metadata": {},
   "source": [
    "Printing 10 rows randomly from the dataset to examine the data."
   ]
  },
  {
   "cell_type": "code",
   "execution_count": 16,
   "metadata": {},
   "outputs": [
    {
     "data": {
      "text/html": [
       "<div>\n",
       "<style scoped>\n",
       "    .dataframe tbody tr th:only-of-type {\n",
       "        vertical-align: middle;\n",
       "    }\n",
       "\n",
       "    .dataframe tbody tr th {\n",
       "        vertical-align: top;\n",
       "    }\n",
       "\n",
       "    .dataframe thead th {\n",
       "        text-align: right;\n",
       "    }\n",
       "</style>\n",
       "<table border=\"1\" class=\"dataframe\">\n",
       "  <thead>\n",
       "    <tr style=\"text-align: right;\">\n",
       "      <th></th>\n",
       "      <th>start_ts</th>\n",
       "      <th>weather_conditions</th>\n",
       "      <th>duration_seconds</th>\n",
       "    </tr>\n",
       "  </thead>\n",
       "  <tbody>\n",
       "    <tr>\n",
       "      <th>484</th>\n",
       "      <td>2017-11-04 12:00:00</td>\n",
       "      <td>Good</td>\n",
       "      <td>3000.0</td>\n",
       "    </tr>\n",
       "    <tr>\n",
       "      <th>81</th>\n",
       "      <td>2017-11-11 06:00:00</td>\n",
       "      <td>Good</td>\n",
       "      <td>1346.0</td>\n",
       "    </tr>\n",
       "    <tr>\n",
       "      <th>891</th>\n",
       "      <td>2017-11-18 06:00:00</td>\n",
       "      <td>Good</td>\n",
       "      <td>1335.0</td>\n",
       "    </tr>\n",
       "    <tr>\n",
       "      <th>565</th>\n",
       "      <td>2017-11-04 04:00:00</td>\n",
       "      <td>Good</td>\n",
       "      <td>1440.0</td>\n",
       "    </tr>\n",
       "    <tr>\n",
       "      <th>1025</th>\n",
       "      <td>2017-11-04 07:00:00</td>\n",
       "      <td>Good</td>\n",
       "      <td>1380.0</td>\n",
       "    </tr>\n",
       "    <tr>\n",
       "      <th>231</th>\n",
       "      <td>2017-11-04 07:00:00</td>\n",
       "      <td>Good</td>\n",
       "      <td>1200.0</td>\n",
       "    </tr>\n",
       "    <tr>\n",
       "      <th>1005</th>\n",
       "      <td>2017-11-04 14:00:00</td>\n",
       "      <td>Good</td>\n",
       "      <td>2704.0</td>\n",
       "    </tr>\n",
       "    <tr>\n",
       "      <th>292</th>\n",
       "      <td>2017-11-18 06:00:00</td>\n",
       "      <td>Good</td>\n",
       "      <td>1680.0</td>\n",
       "    </tr>\n",
       "    <tr>\n",
       "      <th>742</th>\n",
       "      <td>2017-11-18 12:00:00</td>\n",
       "      <td>Bad</td>\n",
       "      <td>2340.0</td>\n",
       "    </tr>\n",
       "    <tr>\n",
       "      <th>378</th>\n",
       "      <td>2017-11-04 08:00:00</td>\n",
       "      <td>Good</td>\n",
       "      <td>1686.0</td>\n",
       "    </tr>\n",
       "  </tbody>\n",
       "</table>\n",
       "</div>"
      ],
      "text/plain": [
       "                 start_ts weather_conditions  duration_seconds\n",
       "484   2017-11-04 12:00:00               Good            3000.0\n",
       "81    2017-11-11 06:00:00               Good            1346.0\n",
       "891   2017-11-18 06:00:00               Good            1335.0\n",
       "565   2017-11-04 04:00:00               Good            1440.0\n",
       "1025  2017-11-04 07:00:00               Good            1380.0\n",
       "231   2017-11-04 07:00:00               Good            1200.0\n",
       "1005  2017-11-04 14:00:00               Good            2704.0\n",
       "292   2017-11-18 06:00:00               Good            1680.0\n",
       "742   2017-11-18 12:00:00                Bad            2340.0\n",
       "378   2017-11-04 08:00:00               Good            1686.0"
      ]
     },
     "execution_count": 16,
     "metadata": {},
     "output_type": "execute_result"
    }
   ],
   "source": [
    "airport_trips.sample(10)"
   ]
  },
  {
   "cell_type": "markdown",
   "metadata": {},
   "source": [
    "Using describe() we can now get even more detailed information about our data.\n"
   ]
  },
  {
   "cell_type": "code",
   "execution_count": 17,
   "metadata": {},
   "outputs": [
    {
     "data": {
      "text/html": [
       "<div>\n",
       "<style scoped>\n",
       "    .dataframe tbody tr th:only-of-type {\n",
       "        vertical-align: middle;\n",
       "    }\n",
       "\n",
       "    .dataframe tbody tr th {\n",
       "        vertical-align: top;\n",
       "    }\n",
       "\n",
       "    .dataframe thead th {\n",
       "        text-align: right;\n",
       "    }\n",
       "</style>\n",
       "<table border=\"1\" class=\"dataframe\">\n",
       "  <thead>\n",
       "    <tr style=\"text-align: right;\">\n",
       "      <th></th>\n",
       "      <th>duration_seconds</th>\n",
       "    </tr>\n",
       "  </thead>\n",
       "  <tbody>\n",
       "    <tr>\n",
       "      <th>count</th>\n",
       "      <td>1068.000000</td>\n",
       "    </tr>\n",
       "    <tr>\n",
       "      <th>mean</th>\n",
       "      <td>2071.731273</td>\n",
       "    </tr>\n",
       "    <tr>\n",
       "      <th>std</th>\n",
       "      <td>769.461125</td>\n",
       "    </tr>\n",
       "    <tr>\n",
       "      <th>min</th>\n",
       "      <td>0.000000</td>\n",
       "    </tr>\n",
       "    <tr>\n",
       "      <th>25%</th>\n",
       "      <td>1438.250000</td>\n",
       "    </tr>\n",
       "    <tr>\n",
       "      <th>50%</th>\n",
       "      <td>1980.000000</td>\n",
       "    </tr>\n",
       "    <tr>\n",
       "      <th>75%</th>\n",
       "      <td>2580.000000</td>\n",
       "    </tr>\n",
       "    <tr>\n",
       "      <th>max</th>\n",
       "      <td>7440.000000</td>\n",
       "    </tr>\n",
       "  </tbody>\n",
       "</table>\n",
       "</div>"
      ],
      "text/plain": [
       "       duration_seconds\n",
       "count       1068.000000\n",
       "mean        2071.731273\n",
       "std          769.461125\n",
       "min            0.000000\n",
       "25%         1438.250000\n",
       "50%         1980.000000\n",
       "75%         2580.000000\n",
       "max         7440.000000"
      ]
     },
     "execution_count": 17,
     "metadata": {},
     "output_type": "execute_result"
    }
   ],
   "source": [
    "airport_trips.describe()"
   ]
  },
  {
   "cell_type": "markdown",
   "metadata": {},
   "source": [
    "- Our data contains **information on 1068 trips to the Airport.**\n",
    "- The **average duration of a trip is around 2071 seconds**, which is 34.5 minutes.\n",
    "- There is a big difference in the number of trips in the data, as **the standard deviation is really high!**\n",
    "- The **minimum duration of a trip is 0** which indicates that we might have some data that we'll need to filter, as these values will only skew our results.\n",
    "- **The mean is not that high compared to the median,** indicating a more uniformally distributed data."
   ]
  },
  {
   "cell_type": "markdown",
   "metadata": {},
   "source": [
    "Using describe() and including object types.\n"
   ]
  },
  {
   "cell_type": "code",
   "execution_count": 18,
   "metadata": {},
   "outputs": [
    {
     "data": {
      "text/html": [
       "<div>\n",
       "<style scoped>\n",
       "    .dataframe tbody tr th:only-of-type {\n",
       "        vertical-align: middle;\n",
       "    }\n",
       "\n",
       "    .dataframe tbody tr th {\n",
       "        vertical-align: top;\n",
       "    }\n",
       "\n",
       "    .dataframe thead th {\n",
       "        text-align: right;\n",
       "    }\n",
       "</style>\n",
       "<table border=\"1\" class=\"dataframe\">\n",
       "  <thead>\n",
       "    <tr style=\"text-align: right;\">\n",
       "      <th></th>\n",
       "      <th>count</th>\n",
       "      <th>unique</th>\n",
       "      <th>top</th>\n",
       "      <th>freq</th>\n",
       "    </tr>\n",
       "  </thead>\n",
       "  <tbody>\n",
       "    <tr>\n",
       "      <th>start_ts</th>\n",
       "      <td>1068</td>\n",
       "      <td>81</td>\n",
       "      <td>2017-11-11 10:00:00</td>\n",
       "      <td>48</td>\n",
       "    </tr>\n",
       "    <tr>\n",
       "      <th>weather_conditions</th>\n",
       "      <td>1068</td>\n",
       "      <td>2</td>\n",
       "      <td>Good</td>\n",
       "      <td>888</td>\n",
       "    </tr>\n",
       "  </tbody>\n",
       "</table>\n",
       "</div>"
      ],
      "text/plain": [
       "                   count unique                  top freq\n",
       "start_ts            1068     81  2017-11-11 10:00:00   48\n",
       "weather_conditions  1068      2                 Good  888"
      ]
     },
     "execution_count": 18,
     "metadata": {},
     "output_type": "execute_result"
    }
   ],
   "source": [
    "airport_trips.describe(include=object).T"
   ]
  },
  {
   "cell_type": "markdown",
   "metadata": {},
   "source": [
    "- The **most frequent date and time is '2017-11-11 10:00:00'.**\n",
    "- There are **81 unique date and time stamps**.\n",
    "- The **most frequent weather condition is 'Good'.**\n",
    "- Only **180 entries** of the data are **labeled with 'Bad' weather.**"
   ]
  },
  {
   "cell_type": "markdown",
   "metadata": {},
   "source": [
    "<div class=\"alert alert-block alert-success\">\n",
    "<b>Reviewer's comment</b> <a class=\"tocSkip\"></a>\n",
    "    \n",
    "I like your conclusions. Very detailed! :) </div>"
   ]
  },
  {
   "cell_type": "markdown",
   "metadata": {},
   "source": [
    "#### Visualizing the distribution of average trips amount to different neighborhoods."
   ]
  },
  {
   "cell_type": "code",
   "execution_count": 19,
   "metadata": {},
   "outputs": [
    {
     "data": {
      "image/png": "[encoded data removed]",
      "text/plain": [
       "<Figure size 1008x504 with 2 Axes>"
      ]
     },
     "metadata": {},
     "output_type": "display_data"
    }
   ],
   "source": [
    "fig, axes = plt.subplots(nrows=1, ncols=2, figsize=(14,7))\n",
    "fig.suptitle('Distribution of The Duration of Trips', size=24)\n",
    "sns.set_style(\"whitegrid\")\n",
    "\n",
    "sns.boxplot(ax=axes[0],data=airport_trips);\n",
    "axes[0].set_title( 'Distribution in Boxplot' , size = 16 )\n",
    "axes[0].set_xlabel('duration_seconds column', size=16);\n",
    "axes[0].set_ylabel('Duration in Seconds', size=16);\n",
    "axes[0].tick_params(axis='both', which='major', labelsize=12)\n",
    "\n",
    "sns.histplot(ax=axes[1],data=airport_trips,bins=30);\n",
    "axes[1].set_title( 'Distribution in Histogram Plot' , size = 16 )\n",
    "axes[1].set_xlabel('Duration in Seconds', size=16);\n",
    "axes[1].set_ylabel('Count of Trips', size=16);\n",
    "axes[1].tick_params(axis='both', which='major', labelsize=12)\n",
    "\n",
    "plt.show()"
   ]
  },
  {
   "cell_type": "markdown",
   "metadata": {},
   "source": [
    "- We can see **some high outliers in our data** above the 4,000 seconds mark.\n",
    "- Although it doesn't show in the boxplot we have some lower outliers (at least we should consider them as such), trips that lasted 0 seconds.\n",
    "- The data is **more uniformly distributed.**\n",
    "- We can see that **almost 250 trips** in our data **had a duration of about 1,250 seconds**, which are 20 minutes long.\n",
    "- We can see a drastic decline in the number of trips above 2,500 seconds of duration."
   ]
  },
  {
   "cell_type": "markdown",
   "metadata": {},
   "source": [
    "Looking at rows where duration is 0."
   ]
  },
  {
   "cell_type": "code",
   "execution_count": 20,
   "metadata": {},
   "outputs": [
    {
     "data": {
      "text/html": [
       "<div>\n",
       "<style scoped>\n",
       "    .dataframe tbody tr th:only-of-type {\n",
       "        vertical-align: middle;\n",
       "    }\n",
       "\n",
       "    .dataframe tbody tr th {\n",
       "        vertical-align: top;\n",
       "    }\n",
       "\n",
       "    .dataframe thead th {\n",
       "        text-align: right;\n",
       "    }\n",
       "</style>\n",
       "<table border=\"1\" class=\"dataframe\">\n",
       "  <thead>\n",
       "    <tr style=\"text-align: right;\">\n",
       "      <th></th>\n",
       "      <th>start_ts</th>\n",
       "      <th>weather_conditions</th>\n",
       "      <th>duration_seconds</th>\n",
       "    </tr>\n",
       "  </thead>\n",
       "  <tbody>\n",
       "    <tr>\n",
       "      <th>163</th>\n",
       "      <td>2017-11-11 09:00:00</td>\n",
       "      <td>Good</td>\n",
       "      <td>0.0</td>\n",
       "    </tr>\n",
       "    <tr>\n",
       "      <th>168</th>\n",
       "      <td>2017-11-11 07:00:00</td>\n",
       "      <td>Good</td>\n",
       "      <td>0.0</td>\n",
       "    </tr>\n",
       "    <tr>\n",
       "      <th>204</th>\n",
       "      <td>2017-11-18 19:00:00</td>\n",
       "      <td>Good</td>\n",
       "      <td>0.0</td>\n",
       "    </tr>\n",
       "    <tr>\n",
       "      <th>552</th>\n",
       "      <td>2017-11-04 01:00:00</td>\n",
       "      <td>Good</td>\n",
       "      <td>0.0</td>\n",
       "    </tr>\n",
       "    <tr>\n",
       "      <th>801</th>\n",
       "      <td>2017-11-04 09:00:00</td>\n",
       "      <td>Good</td>\n",
       "      <td>0.0</td>\n",
       "    </tr>\n",
       "    <tr>\n",
       "      <th>1063</th>\n",
       "      <td>2017-11-25 11:00:00</td>\n",
       "      <td>Good</td>\n",
       "      <td>0.0</td>\n",
       "    </tr>\n",
       "  </tbody>\n",
       "</table>\n",
       "</div>"
      ],
      "text/plain": [
       "                 start_ts weather_conditions  duration_seconds\n",
       "163   2017-11-11 09:00:00               Good               0.0\n",
       "168   2017-11-11 07:00:00               Good               0.0\n",
       "204   2017-11-18 19:00:00               Good               0.0\n",
       "552   2017-11-04 01:00:00               Good               0.0\n",
       "801   2017-11-04 09:00:00               Good               0.0\n",
       "1063  2017-11-25 11:00:00               Good               0.0"
      ]
     },
     "execution_count": 20,
     "metadata": {},
     "output_type": "execute_result"
    }
   ],
   "source": [
    "airport_trips[airport_trips['duration_seconds'] == 0]"
   ]
  },
  {
   "cell_type": "markdown",
   "metadata": {},
   "source": [
    "Excluding rows where duration is 0 from the data set."
   ]
  },
  {
   "cell_type": "code",
   "execution_count": 21,
   "metadata": {},
   "outputs": [],
   "source": [
    "airport_trips = airport_trips[airport_trips['duration_seconds'] != 0]"
   ]
  },
  {
   "cell_type": "markdown",
   "metadata": {},
   "source": [
    "### Conclusion"
   ]
  },
  {
   "cell_type": "markdown",
   "metadata": {},
   "source": [
    "At first glance, it is evident that,\n",
    "- We see some high outliers in terms of duration, as well as trips that lasted 0 seconds.\n",
    "- The most freqent trip duration is around 1,500 seconds (20 minutes).\n",
    "- The data is more uniformly distributed than the other data sets we have.\n",
    "- Most of the trips log with Good weather condition, only 180 with Bad.\n",
    "- We need to change 'start_ts' to date-time in order to be able to work with it.\n",
    "- We need to change 'duration_seconds' to int32 because the column is in seconds (whole) and to save memory."
   ]
  },
  {
   "cell_type": "markdown",
   "metadata": {},
   "source": [
    "<div class=\"alert alert-block alert-success\">\n",
    "<b>Reviewer's comment</b> <a class=\"tocSkip\"></a>\n",
    "    \n",
    "Finally we have data more uniformly distributed! \n",
    "\n",
    "We have the same problems with datatypes here and know how to solve them. Let's start!</div>"
   ]
  },
  {
   "cell_type": "markdown",
   "metadata": {},
   "source": [
    "----"
   ]
  },
  {
   "cell_type": "markdown",
   "metadata": {},
   "source": [
    "## Data Preprocessing\n",
    "<a class=\"anchor\" id=\"chapter5\"></a>\n",
    "[Go back to the Table of Contents](#table_of_contents)"
   ]
  },
  {
   "cell_type": "markdown",
   "metadata": {},
   "source": [
    "### Duplicated Values\n",
    "<a class=\"anchor\" id=\"chapter6\"></a>\n",
    "[Go back to the Table of Contents](#table_of_contents)"
   ]
  },
  {
   "cell_type": "markdown",
   "metadata": {},
   "source": [
    "Looking for duplicated rows in the data sets."
   ]
  },
  {
   "cell_type": "code",
   "execution_count": 22,
   "metadata": {},
   "outputs": [
    {
     "name": "stdout",
     "output_type": "stream",
     "text": [
      "Number of duplicated rows in the data: 0\n"
     ]
    }
   ],
   "source": [
    "print('Number of duplicated rows in the data:', taxi.duplicated().sum())"
   ]
  },
  {
   "cell_type": "code",
   "execution_count": 23,
   "metadata": {},
   "outputs": [
    {
     "name": "stdout",
     "output_type": "stream",
     "text": [
      "Number of duplicated rows in the data: 0\n"
     ]
    }
   ],
   "source": [
    "print('Number of duplicated rows in the data:', nhoods.duplicated().sum())"
   ]
  },
  {
   "cell_type": "code",
   "execution_count": 24,
   "metadata": {},
   "outputs": [
    {
     "name": "stdout",
     "output_type": "stream",
     "text": [
      "Number of duplicated rows in the data: 197\n"
     ]
    }
   ],
   "source": [
    "print('Number of duplicated rows in the data:', airport_trips.duplicated().sum())"
   ]
  },
  {
   "cell_type": "code",
   "execution_count": 25,
   "metadata": {},
   "outputs": [
    {
     "data": {
      "text/html": [
       "<div>\n",
       "<style scoped>\n",
       "    .dataframe tbody tr th:only-of-type {\n",
       "        vertical-align: middle;\n",
       "    }\n",
       "\n",
       "    .dataframe tbody tr th {\n",
       "        vertical-align: top;\n",
       "    }\n",
       "\n",
       "    .dataframe thead th {\n",
       "        text-align: right;\n",
       "    }\n",
       "</style>\n",
       "<table border=\"1\" class=\"dataframe\">\n",
       "  <thead>\n",
       "    <tr style=\"text-align: right;\">\n",
       "      <th></th>\n",
       "      <th>start_ts</th>\n",
       "      <th>weather_conditions</th>\n",
       "      <th>duration_seconds</th>\n",
       "    </tr>\n",
       "  </thead>\n",
       "  <tbody>\n",
       "    <tr>\n",
       "      <th>563</th>\n",
       "      <td>2017-11-11 06:00:00</td>\n",
       "      <td>Good</td>\n",
       "      <td>1200.0</td>\n",
       "    </tr>\n",
       "    <tr>\n",
       "      <th>541</th>\n",
       "      <td>2017-11-04 05:00:00</td>\n",
       "      <td>Good</td>\n",
       "      <td>1200.0</td>\n",
       "    </tr>\n",
       "    <tr>\n",
       "      <th>697</th>\n",
       "      <td>2017-11-11 10:00:00</td>\n",
       "      <td>Good</td>\n",
       "      <td>1560.0</td>\n",
       "    </tr>\n",
       "    <tr>\n",
       "      <th>1052</th>\n",
       "      <td>2017-11-18 15:00:00</td>\n",
       "      <td>Good</td>\n",
       "      <td>3240.0</td>\n",
       "    </tr>\n",
       "    <tr>\n",
       "      <th>347</th>\n",
       "      <td>2017-11-11 17:00:00</td>\n",
       "      <td>Good</td>\n",
       "      <td>2460.0</td>\n",
       "    </tr>\n",
       "    <tr>\n",
       "      <th>910</th>\n",
       "      <td>2017-11-04 12:00:00</td>\n",
       "      <td>Good</td>\n",
       "      <td>2520.0</td>\n",
       "    </tr>\n",
       "    <tr>\n",
       "      <th>480</th>\n",
       "      <td>2017-11-11 11:00:00</td>\n",
       "      <td>Good</td>\n",
       "      <td>1380.0</td>\n",
       "    </tr>\n",
       "    <tr>\n",
       "      <th>666</th>\n",
       "      <td>2017-11-11 10:00:00</td>\n",
       "      <td>Good</td>\n",
       "      <td>1260.0</td>\n",
       "    </tr>\n",
       "    <tr>\n",
       "      <th>948</th>\n",
       "      <td>2017-11-11 06:00:00</td>\n",
       "      <td>Good</td>\n",
       "      <td>1260.0</td>\n",
       "    </tr>\n",
       "    <tr>\n",
       "      <th>359</th>\n",
       "      <td>2017-11-18 16:00:00</td>\n",
       "      <td>Bad</td>\n",
       "      <td>2820.0</td>\n",
       "    </tr>\n",
       "  </tbody>\n",
       "</table>\n",
       "</div>"
      ],
      "text/plain": [
       "                 start_ts weather_conditions  duration_seconds\n",
       "563   2017-11-11 06:00:00               Good            1200.0\n",
       "541   2017-11-04 05:00:00               Good            1200.0\n",
       "697   2017-11-11 10:00:00               Good            1560.0\n",
       "1052  2017-11-18 15:00:00               Good            3240.0\n",
       "347   2017-11-11 17:00:00               Good            2460.0\n",
       "910   2017-11-04 12:00:00               Good            2520.0\n",
       "480   2017-11-11 11:00:00               Good            1380.0\n",
       "666   2017-11-11 10:00:00               Good            1260.0\n",
       "948   2017-11-11 06:00:00               Good            1260.0\n",
       "359   2017-11-18 16:00:00                Bad            2820.0"
      ]
     },
     "execution_count": 25,
     "metadata": {},
     "output_type": "execute_result"
    }
   ],
   "source": [
    "airport_trips[airport_trips.duplicated()].sample(10)"
   ]
  },
  {
   "cell_type": "markdown",
   "metadata": {},
   "source": [
    "Although we see duplicated rows in the data, it seems logical to have more than one trip in a given time to the airport, moreover, that the time stamp could be rounded to the hour as we see, and if we have a few trips to the airport less than an hour apart it is logical that the trafic condition will allow for the same length of trip."
   ]
  },
  {
   "cell_type": "markdown",
   "metadata": {},
   "source": [
    "#### Conclusion\n"
   ]
  },
  {
   "cell_type": "markdown",
   "metadata": {},
   "source": [
    "No duplicated rows."
   ]
  },
  {
   "cell_type": "markdown",
   "metadata": {},
   "source": [
    "<div class=\"alert alert-block alert-success\">\n",
    "<b>Reviewer's comment</b> <a class=\"tocSkip\"></a>\n",
    "    \n",
    "Great!. </div>"
   ]
  },
  {
   "cell_type": "markdown",
   "metadata": {},
   "source": [
    "### Changing Data Types\n",
    "<a class=\"anchor\" id=\"chapter7\"></a>\n",
    "[Go back to the Table of Contents](#table_of_contents)"
   ]
  },
  {
   "cell_type": "markdown",
   "metadata": {},
   "source": [
    "There are two changes that we wanted to make in order to easily work with the data:<br>\n",
    "- Change 'trips_amount' to int32 in taxi.\n",
    "- Change 'average_trips' to int32 in nhoods.\n",
    "- Change 'start_ts' to datetime in airport_trips.\n",
    "- Change 'duration_seconds' to int32."
   ]
  },
  {
   "cell_type": "markdown",
   "metadata": {},
   "source": [
    "##### Changing 'trips_amount' to int32 in taxi."
   ]
  },
  {
   "cell_type": "code",
   "execution_count": 26,
   "metadata": {},
   "outputs": [],
   "source": [
    "taxi['trips_amount'] = taxi['trips_amount'].astype('int32')"
   ]
  },
  {
   "cell_type": "code",
   "execution_count": 27,
   "metadata": {},
   "outputs": [
    {
     "name": "stdout",
     "output_type": "stream",
     "text": [
      "<class 'pandas.core.frame.DataFrame'>\n",
      "RangeIndex: 64 entries, 0 to 63\n",
      "Data columns (total 2 columns):\n",
      " #   Column        Non-Null Count  Dtype \n",
      "---  ------        --------------  ----- \n",
      " 0   company_name  64 non-null     object\n",
      " 1   trips_amount  64 non-null     int32 \n",
      "dtypes: int32(1), object(1)\n",
      "memory usage: 896.0+ bytes\n"
     ]
    }
   ],
   "source": [
    "taxi.info()"
   ]
  },
  {
   "cell_type": "markdown",
   "metadata": {},
   "source": [
    "Success."
   ]
  },
  {
   "cell_type": "markdown",
   "metadata": {},
   "source": [
    "<div class=\"alert alert-block alert-success\">\n",
    "<b>Reviewer's comment</b> <a class=\"tocSkip\"></a>\n",
    "    \n",
    "Well done! </div>"
   ]
  },
  {
   "cell_type": "markdown",
   "metadata": {},
   "source": [
    "##### Changing 'average_trips' to int32 in nhoods."
   ]
  },
  {
   "cell_type": "code",
   "execution_count": 28,
   "metadata": {},
   "outputs": [],
   "source": [
    "nhoods['average_trips'] = nhoods['average_trips'].astype('int32')"
   ]
  },
  {
   "cell_type": "code",
   "execution_count": 29,
   "metadata": {
    "scrolled": true
   },
   "outputs": [
    {
     "name": "stdout",
     "output_type": "stream",
     "text": [
      "<class 'pandas.core.frame.DataFrame'>\n",
      "RangeIndex: 94 entries, 0 to 93\n",
      "Data columns (total 2 columns):\n",
      " #   Column                 Non-Null Count  Dtype \n",
      "---  ------                 --------------  ----- \n",
      " 0   dropoff_location_name  94 non-null     object\n",
      " 1   average_trips          94 non-null     int32 \n",
      "dtypes: int32(1), object(1)\n",
      "memory usage: 1.2+ KB\n"
     ]
    }
   ],
   "source": [
    "nhoods.info()"
   ]
  },
  {
   "cell_type": "markdown",
   "metadata": {},
   "source": [
    "<div class=\"alert alert-block alert-success\">\n",
    "<b>Reviewer's comment</b> <a class=\"tocSkip\"></a>\n",
    "    \n",
    "OK. </div>"
   ]
  },
  {
   "cell_type": "markdown",
   "metadata": {},
   "source": [
    "##### Changing data types in airport_trips."
   ]
  },
  {
   "cell_type": "markdown",
   "metadata": {},
   "source": [
    "Changing 'start_ts' to datetime in airport_trips."
   ]
  },
  {
   "cell_type": "code",
   "execution_count": 30,
   "metadata": {},
   "outputs": [],
   "source": [
    "airport_trips['start_ts'] = pd.to_datetime(airport_trips['start_ts'], format='%Y.%m.%d %H:%M:%S')"
   ]
  },
  {
   "cell_type": "markdown",
   "metadata": {},
   "source": [
    "Changing 'duration_seconds' to int32"
   ]
  },
  {
   "cell_type": "code",
   "execution_count": 31,
   "metadata": {},
   "outputs": [],
   "source": [
    "airport_trips['duration_seconds'] = airport_trips['duration_seconds'].astype('int32')"
   ]
  },
  {
   "cell_type": "code",
   "execution_count": 32,
   "metadata": {},
   "outputs": [
    {
     "name": "stdout",
     "output_type": "stream",
     "text": [
      "<class 'pandas.core.frame.DataFrame'>\n",
      "Int64Index: 1062 entries, 0 to 1067\n",
      "Data columns (total 3 columns):\n",
      " #   Column              Non-Null Count  Dtype         \n",
      "---  ------              --------------  -----         \n",
      " 0   start_ts            1062 non-null   datetime64[ns]\n",
      " 1   weather_conditions  1062 non-null   object        \n",
      " 2   duration_seconds    1062 non-null   int32         \n",
      "dtypes: datetime64[ns](1), int32(1), object(1)\n",
      "memory usage: 29.0+ KB\n"
     ]
    }
   ],
   "source": [
    "airport_trips.info()"
   ]
  },
  {
   "cell_type": "markdown",
   "metadata": {},
   "source": [
    "Success."
   ]
  },
  {
   "cell_type": "markdown",
   "metadata": {},
   "source": [
    "<div class=\"alert alert-block alert-success\">\n",
    "<b>Reviewer's comment</b> <a class=\"tocSkip\"></a>\n",
    "    \n",
    ":)\n",
    "\n",
    "</div>"
   ]
  },
  {
   "cell_type": "markdown",
   "metadata": {},
   "source": [
    "### Conclusion\n"
   ]
  },
  {
   "cell_type": "markdown",
   "metadata": {},
   "source": [
    "Successfully converted 'trips_amount' and 'average_trips' to integer(32).<br>\n",
    "There are no duplicates and missing values in our data sets."
   ]
  },
  {
   "cell_type": "markdown",
   "metadata": {},
   "source": [
    "<div class=\"alert alert-block alert-success\">\n",
    "<b>Reviewer's comment</b> <a class=\"tocSkip\"></a>\n",
    "    \n",
    "Great step. Now we studied our datasets and can start to analyze. Let's go! </div>"
   ]
  },
  {
   "cell_type": "markdown",
   "metadata": {},
   "source": [
    "----"
   ]
  },
  {
   "cell_type": "markdown",
   "metadata": {},
   "source": [
    "## Analyzing The Data\n",
    "<a class=\"anchor\" id=\"chapter8\"></a>\n",
    "[Go back to the Table of Contents](#table_of_contents)"
   ]
  },
  {
   "cell_type": "markdown",
   "metadata": {},
   "source": [
    "### The Top 10 neighborhoods\n",
    "<a class=\"anchor\" id=\"chapter9\"></a>\n",
    "[Go back to the Table of Contents](#table_of_contents)"
   ]
  },
  {
   "cell_type": "code",
   "execution_count": 33,
   "metadata": {},
   "outputs": [
    {
     "data": {
      "text/html": [
       "<div>\n",
       "<style scoped>\n",
       "    .dataframe tbody tr th:only-of-type {\n",
       "        vertical-align: middle;\n",
       "    }\n",
       "\n",
       "    .dataframe tbody tr th {\n",
       "        vertical-align: top;\n",
       "    }\n",
       "\n",
       "    .dataframe thead th {\n",
       "        text-align: right;\n",
       "    }\n",
       "</style>\n",
       "<table border=\"1\" class=\"dataframe\">\n",
       "  <thead>\n",
       "    <tr style=\"text-align: right;\">\n",
       "      <th></th>\n",
       "      <th>dropoff_location_name</th>\n",
       "      <th>average_trips</th>\n",
       "    </tr>\n",
       "  </thead>\n",
       "  <tbody>\n",
       "    <tr>\n",
       "      <th>0</th>\n",
       "      <td>Loop</td>\n",
       "      <td>10727</td>\n",
       "    </tr>\n",
       "    <tr>\n",
       "      <th>1</th>\n",
       "      <td>River North</td>\n",
       "      <td>9523</td>\n",
       "    </tr>\n",
       "    <tr>\n",
       "      <th>2</th>\n",
       "      <td>Streeterville</td>\n",
       "      <td>6664</td>\n",
       "    </tr>\n",
       "    <tr>\n",
       "      <th>3</th>\n",
       "      <td>West Loop</td>\n",
       "      <td>5163</td>\n",
       "    </tr>\n",
       "    <tr>\n",
       "      <th>4</th>\n",
       "      <td>O'Hare</td>\n",
       "      <td>2546</td>\n",
       "    </tr>\n",
       "    <tr>\n",
       "      <th>5</th>\n",
       "      <td>Lake View</td>\n",
       "      <td>2420</td>\n",
       "    </tr>\n",
       "    <tr>\n",
       "      <th>6</th>\n",
       "      <td>Grant Park</td>\n",
       "      <td>2068</td>\n",
       "    </tr>\n",
       "    <tr>\n",
       "      <th>7</th>\n",
       "      <td>Museum Campus</td>\n",
       "      <td>1510</td>\n",
       "    </tr>\n",
       "    <tr>\n",
       "      <th>8</th>\n",
       "      <td>Gold Coast</td>\n",
       "      <td>1364</td>\n",
       "    </tr>\n",
       "    <tr>\n",
       "      <th>9</th>\n",
       "      <td>Sheffield &amp; DePaul</td>\n",
       "      <td>1259</td>\n",
       "    </tr>\n",
       "  </tbody>\n",
       "</table>\n",
       "</div>"
      ],
      "text/plain": [
       "  dropoff_location_name  average_trips\n",
       "0                  Loop          10727\n",
       "1           River North           9523\n",
       "2         Streeterville           6664\n",
       "3             West Loop           5163\n",
       "4                O'Hare           2546\n",
       "5             Lake View           2420\n",
       "6            Grant Park           2068\n",
       "7         Museum Campus           1510\n",
       "8            Gold Coast           1364\n",
       "9    Sheffield & DePaul           1259"
      ]
     },
     "execution_count": 33,
     "metadata": {},
     "output_type": "execute_result"
    }
   ],
   "source": [
    "top_10_n = nhoods.sort_values(by=['average_trips'], ascending=False).head(10)\n",
    "top_10_n"
   ]
  },
  {
   "cell_type": "markdown",
   "metadata": {},
   "source": [
    "As we can see these are the 10 neighborhoods with the most average droop-offs of passengers."
   ]
  },
  {
   "cell_type": "markdown",
   "metadata": {},
   "source": [
    "<div class=\"alert alert-block alert-warning\">\n",
    "<b>Reviewer's comment</b> <a class=\"tocSkip\"></a>\n",
    "    \n",
    "It would be informative to plot a graph here. \n",
    "\n",
    "Yes, we can read table. But clients prefer to read a conclusions after graphs for better understanding. \n",
    "\n",
    "Our clients may be non analysts, because of it we need visualisation. :) \n",
    "</div>"
   ]
  },
  {
   "cell_type": "markdown",
   "metadata": {},
   "source": [
    "<div class=\"alert alert-block alert-info\">\n",
    "<b>Student answer.</b> <a class=\"tocSkip\"></a><br>\n",
    "    I completly agree and thank you for your input.<br>\n",
    "    I have the exact graph that you refer to just below the next graph.<br>\n",
    "    Maybe it will be beneficial to put it here also.\n",
    "</div>\n",
    "\n",
    "<div class=\"alert alert-block alert-success\">\n",
    "<b>Reviewer's comment.V.2.</b> <a class=\"tocSkip\"></a>\n",
    "    \n",
    "Yes, I saw your graph. But those are different questions. Also we plot a graph (mostly) for clients. They like graphs anywhere. :) \n",
    "</div>"
   ]
  },
  {
   "cell_type": "markdown",
   "metadata": {},
   "source": [
    "### Taxi compenies and Number of Rides\n",
    "<a class=\"anchor\" id=\"chapter10\"></a>\n",
    "[Go back to the Table of Contents](#table_of_contents)"
   ]
  },
  {
   "cell_type": "code",
   "execution_count": 34,
   "metadata": {},
   "outputs": [
    {
     "data": {
      "image/png": "[encoded data removed]",
      "text/plain": [
       "<Figure size 504x1008 with 1 Axes>"
      ]
     },
     "metadata": {},
     "output_type": "display_data"
    }
   ],
   "source": [
    "fig, ax = plt.subplots(figsize=(7,14))\n",
    "sns.set_style(\"whitegrid\")\n",
    "\n",
    "sns.barplot(x= taxi['trips_amount'], y=taxi['company_name']);\n",
    "ax.set_title( 'Amount of Trips Per Company' , size = 16 )\n",
    "ax.set_ylabel('Company Name', size=16);\n",
    "#plt.xticks(rotation=90)\n",
    "ax.set_xlabel('Amount of Trips', size=16);\n",
    "ax.tick_params(axis='both', which='major', labelsize=12)\n",
    "\n",
    "plt.show()"
   ]
  },
  {
   "cell_type": "markdown",
   "metadata": {},
   "source": [
    "#### Conclusion<br>\n",
    "\n",
    "- Compared to the other companies, \"Flash Cab\" has the most trips by a large margin.\n",
    "- We see a gradual decline from \"Taxi Affiliation Service Yellow\" to \"Star North Management LLC\" that gets steeper after the latter.\n",
    "- As we can see, some companies, such as \"Gold Coast Taxi\" and below, do not make as many trips as others."
   ]
  },
  {
   "cell_type": "markdown",
   "metadata": {},
   "source": [
    "<div class=\"alert alert-block alert-success\">\n",
    "<b>Reviewer's comment</b> <a class=\"tocSkip\"></a>\n",
    "    \n",
    "Very good graph! Thank you for sorted values for graph. It makes it more understandble.\n",
    "    \n",
    "Yes, flash cab is a best here. Perhaps, because of Flash or number of trips. :)\n",
    "\n",
    "\n",
    "</div>"
   ]
  },
  {
   "cell_type": "markdown",
   "metadata": {},
   "source": [
    "### Top 10 Neighborhoods and Number of Rides\n",
    "<a class=\"anchor\" id=\"chapter11\"></a>\n",
    "[Go back to the Table of Contents](#table_of_contents)"
   ]
  },
  {
   "cell_type": "code",
   "execution_count": 35,
   "metadata": {},
   "outputs": [
    {
     "data": {
      "image/png": "[encoded data removed]",
      "text/plain": [
       "<Figure size 1008x504 with 1 Axes>"
      ]
     },
     "metadata": {},
     "output_type": "display_data"
    }
   ],
   "source": [
    "fig, ax = plt.subplots(figsize=(14,7))\n",
    "sns.set_style(\"whitegrid\")\n",
    "\n",
    "sns.barplot(x= top_10_n['dropoff_location_name'], y=top_10_n['average_trips'],);\n",
    "ax.set_title( 'Amount of Trips Per Top Neighborhood' , size = 16 )\n",
    "ax.set_xlabel('Neighborhood', size=16);\n",
    "plt.xticks(rotation=45)\n",
    "ax.set_ylabel('Amount of Average Trips', size=16);\n",
    "ax.tick_params(axis='both', which='major', labelsize=14)\n",
    "\n",
    "plt.show()"
   ]
  },
  {
   "cell_type": "markdown",
   "metadata": {},
   "source": [
    "#### Conclusion<br>\n",
    "\n",
    "- Loop and River North have the most trips compared to the other neighborhoods.\n",
    "- From Loop to West Loop, we see a gradual decline that becomes steeper afterward.\n",
    "- O'Hare to Sheffield & DePaul are fairly small changes, and they have a much lower number of trips than the leading neighborhoods."
   ]
  },
  {
   "cell_type": "markdown",
   "metadata": {},
   "source": [
    "<div class=\"alert alert-block alert-success\">\n",
    "<b>Reviewer's comment</b> <a class=\"tocSkip\"></a>\n",
    "    \n",
    "Thank you for title and axis labels. Such details help to understand graphs clearly. \n",
    "    \n",
    "Great comments for neighborhoods. Perhaps, those neighborhoods are in city center or they have some popular places. :)\n",
    "\n",
    "</div>"
   ]
  },
  {
   "cell_type": "markdown",
   "metadata": {},
   "source": [
    "## Testing Hypotheses\n",
    "<a class=\"anchor\" id=\"chapter12\"></a>\n",
    "[Go back to the Table of Contents](#table_of_contents)"
   ]
  },
  {
   "cell_type": "markdown",
   "metadata": {},
   "source": [
    "### Average Duration of Rides to O'Hare Airport\n",
    "<a class=\"anchor\" id=\"chapter13\"></a>\n",
    "[Go back to the Table of Contents](#table_of_contents)"
   ]
  },
  {
   "cell_type": "markdown",
   "metadata": {},
   "source": [
    "**H0**: The average duration of rides from Loop to O'Hare International Airport do not change on rainy Saturdays.<br>\n",
    "**H1**: The average duration of rides from Loop to O'Hare International Airport changes on rainy Saturdays.<br>\n",
    "Our measure will be a null-test using a t-test for statistical insignificant difference, our level of sagnificance (alpha) be set to 0.05 as it is standard."
   ]
  },
  {
   "cell_type": "code",
   "execution_count": 36,
   "metadata": {},
   "outputs": [],
   "source": [
    "good_trip = airport_trips.query('weather_conditions == \"Good\"')\n",
    "bad_trip = airport_trips.query('weather_conditions == \"Bad\"')"
   ]
  },
  {
   "cell_type": "markdown",
   "metadata": {},
   "source": [
    "We'll run the t-test."
   ]
  },
  {
   "cell_type": "code",
   "execution_count": 37,
   "metadata": {},
   "outputs": [
    {
     "name": "stdout",
     "output_type": "stream",
     "text": [
      "p-value:  1.3318772977743245e-11\n",
      "\n",
      "We reject the null hypothesis\n"
     ]
    }
   ],
   "source": [
    "alpha = 0.05  # critical statistical significance level.\n",
    "\n",
    "good_trip_d = good_trip['duration_seconds'] # Data for good weather trips.\n",
    "bad_trip_d = bad_trip['duration_seconds'] # Data for bad weather trips.\n",
    "\n",
    "results = st.ttest_ind(good_trip_d, \n",
    "                       bad_trip_d) # Performing t-test on both data sets.\n",
    "\n",
    "print('p-value: ', results.pvalue)\n",
    "print()\n",
    "if results.pvalue < alpha: # if the p-value is less than alpha, we reject the hypothesis.\n",
    "    print(\"We reject the null hypothesis\")\n",
    "else:\n",
    "    print(\"We can't reject the null hypothesis\") "
   ]
  },
  {
   "cell_type": "markdown",
   "metadata": {},
   "source": [
    "#### **Conclusion** <br>\n",
    "\n",
    "\n",
    "Although our test does not prove our alternative hypothesis(H1),<br>\n",
    "It suggests that statistically speaking there might be a significant difference between our mean of trip duration for both weather conditions.<br>\n",
    "Thus, we can exclude that there is no difference in trip duration on rainy days.\n"
   ]
  },
  {
   "cell_type": "markdown",
   "metadata": {},
   "source": [
    "<div class=\"alert alert-block alert-success\">\n",
    "<b>Reviewer's comment</b> <a class=\"tocSkip\"></a>\n",
    "    \n",
    "Excellent step!\n",
    "  \n",
    "Very good formulation of hypotheses, right alpha and test.\n",
    "    \n",
    "Yes, you are right. The weather has not an effect on the demand for a taxi ride in general.\n",
    "    \n",
    "It was non-expected, but now we have confirmation from our test!\n",
    "\n",
    "</div>"
   ]
  },
  {
   "cell_type": "markdown",
   "metadata": {},
   "source": [
    "----"
   ]
  },
  {
   "cell_type": "markdown",
   "metadata": {},
   "source": [
    "## Overall Conclusion\n",
    "<a class=\"anchor\" id=\"chapter14\"></a>\n",
    "[Go back to the Table of Contents](#table_of_contents)"
   ]
  },
  {
   "cell_type": "markdown",
   "metadata": {},
   "source": [
    "Zuber is the next generation ride-sharing platform,<br>\n",
    "As a promising start-up, Zuber chose Chicago as its launch location.<br>\n",
    "\n",
    "In order for Zuber to have a successful lunch, we need to know the patterns and behaviours of passengers in Chicago's neighborhoods,<br>\n",
    "and if and how much the weather affects them.<br>\n",
    "\n",
    "\n",
    "With a variety of techniques and methods, we collected data for passengers trips in Chicago and extracted the valuable information we needed to help Zuber make their lunch a success.<br>\n",
    "\n",
    "According to our research, **Zuber's biggest competitors are probably Flash Cab, Taxi Affiliation Service Yellow, and Medallion Leasing to name just a few**. (In the graph above you can see the names of the leading companies.)<br>\n",
    "\n",
    "**In order to determine where Zuber can gain a competitive advantage over the other players, we must continue to look into their strengths and weaknesses.**<br>\n",
    "\n",
    "Moreover, we analyzed the number of passenger trips across Chicago's neighborhoods, which shows that **Loop and River North have the most trips compared to the other neighborhoods. <br>These are the areas where Zuber should initially pilot their services so that they can reach the most customers.**<br>\n",
    "\n",
    "We ran a statistical significance test to see if rainy days and bad weather affect the trip duration to Chicago airport and in general.<br>\n",
    "**We found a significant effect of weather on trip duration, although we cannot say for sure, as our data was limited. Zuber should take our findings with a grain of salt.**<br>\n",
    "\n",
    "Nonetheless, it will still be better if Zuber launches its pilot on a good weather day to raise the chances of adapting, while at the same time it should act as an excuse to delay the launch."
   ]
  },
  {
   "cell_type": "markdown",
   "metadata": {},
   "source": [
    "<div class=\"alert alert-block alert-success\">\n",
    "<b>Reviewer's comment</b> <a class=\"tocSkip\"></a>\n",
    "    \n",
    "Thank you for such big conclusion. We add information about the most popular taxi and neighborhoods and test results. Very good.\n",
    "    \n",
    "Great recommendation!\n",
    "\n",
    "</div>"
   ]
  },
  {
   "cell_type": "markdown",
   "metadata": {},
   "source": [
    "----"
   ]
  }
 ],
 "metadata": {
  "ExecuteTimeLog": [
   {
    "duration": 1397,
    "start_time": "2021-06-29T19:17:13.255Z"
   },
   {
    "duration": 273,
    "start_time": "2021-06-29T19:17:14.655Z"
   },
   {
    "duration": 28,
    "start_time": "2021-06-29T19:17:14.932Z"
   },
   {
    "duration": 49,
    "start_time": "2021-06-29T19:17:14.963Z"
   },
   {
    "duration": 53,
    "start_time": "2021-06-29T19:17:15.014Z"
   },
   {
    "duration": 107,
    "start_time": "2021-06-29T19:17:15.070Z"
   },
   {
    "duration": 25,
    "start_time": "2021-06-29T19:17:15.181Z"
   },
   {
    "duration": 24,
    "start_time": "2021-06-29T19:17:15.210Z"
   },
   {
    "duration": 64,
    "start_time": "2021-06-29T19:17:15.237Z"
   },
   {
    "duration": 1393,
    "start_time": "2021-06-29T19:17:15.304Z"
   },
   {
    "duration": 7,
    "start_time": "2021-06-29T19:17:16.701Z"
   },
   {
    "duration": 44,
    "start_time": "2021-06-29T19:17:16.711Z"
   },
   {
    "duration": 1394,
    "start_time": "2021-06-29T19:17:16.757Z"
   },
   {
    "duration": 6,
    "start_time": "2021-06-29T19:17:18.153Z"
   },
   {
    "duration": 1708,
    "start_time": "2021-06-29T19:17:18.162Z"
   },
   {
    "duration": 92,
    "start_time": "2021-06-29T19:17:19.873Z"
   },
   {
    "duration": 110,
    "start_time": "2021-06-29T19:17:19.967Z"
   },
   {
    "duration": 22,
    "start_time": "2021-06-29T19:17:20.080Z"
   },
   {
    "duration": 8,
    "start_time": "2021-06-29T19:17:20.104Z"
   },
   {
    "duration": 6,
    "start_time": "2021-06-29T19:17:20.115Z"
   },
   {
    "duration": 10,
    "start_time": "2021-06-29T19:17:20.123Z"
   },
   {
    "duration": 16,
    "start_time": "2021-06-29T19:17:20.136Z"
   },
   {
    "duration": 47,
    "start_time": "2021-06-29T19:17:20.158Z"
   },
   {
    "duration": 55,
    "start_time": "2021-06-29T19:17:20.209Z"
   },
   {
    "duration": 68,
    "start_time": "2021-06-29T19:17:20.266Z"
   },
   {
    "duration": 27,
    "start_time": "2021-06-29T19:17:20.337Z"
   },
   {
    "duration": 9,
    "start_time": "2021-06-29T19:17:20.367Z"
   },
   {
    "duration": 22,
    "start_time": "2021-06-29T19:17:20.379Z"
   },
   {
    "duration": 2102,
    "start_time": "2021-06-29T19:17:20.403Z"
   },
   {
    "duration": 33,
    "start_time": "2021-06-29T19:17:22.507Z"
   },
   {
    "duration": 385,
    "start_time": "2021-06-29T19:17:22.543Z"
   },
   {
    "duration": 423,
    "start_time": "2021-06-29T19:17:22.931Z"
   },
   {
    "duration": 353,
    "start_time": "2021-06-29T19:17:23.356Z"
   },
   {
    "duration": 348,
    "start_time": "2021-06-29T19:17:23.711Z"
   },
   {
    "duration": 18,
    "start_time": "2021-06-29T19:17:24.062Z"
   },
   {
    "duration": 317,
    "start_time": "2021-06-29T19:17:24.083Z"
   },
   {
    "duration": 348,
    "start_time": "2021-06-29T19:17:24.403Z"
   },
   {
    "duration": 319,
    "start_time": "2021-06-29T19:17:24.754Z"
   },
   {
    "duration": 434,
    "start_time": "2021-06-29T19:17:25.076Z"
   },
   {
    "duration": 301,
    "start_time": "2021-06-29T19:17:25.513Z"
   },
   {
    "duration": 293,
    "start_time": "2021-06-29T19:17:25.817Z"
   },
   {
    "duration": 287,
    "start_time": "2021-06-29T19:17:26.113Z"
   },
   {
    "duration": 14,
    "start_time": "2021-06-29T19:17:26.403Z"
   },
   {
    "duration": 238,
    "start_time": "2021-06-29T19:17:26.419Z"
   },
   {
    "duration": 10,
    "start_time": "2021-06-29T19:17:26.659Z"
   },
   {
    "duration": 248,
    "start_time": "2021-06-29T19:17:26.671Z"
   },
   {
    "duration": 11,
    "start_time": "2021-06-29T19:17:26.922Z"
   },
   {
    "duration": 223,
    "start_time": "2021-06-29T19:17:26.936Z"
   },
   {
    "duration": 231,
    "start_time": "2021-06-29T19:17:27.162Z"
   },
   {
    "duration": 16,
    "start_time": "2021-06-29T19:17:27.400Z"
   },
   {
    "duration": 306,
    "start_time": "2021-06-29T19:17:27.419Z"
   },
   {
    "duration": 304,
    "start_time": "2021-06-29T19:17:27.728Z"
   },
   {
    "duration": 17,
    "start_time": "2021-06-29T19:17:28.035Z"
   },
   {
    "duration": 291,
    "start_time": "2021-06-29T19:17:28.055Z"
   },
   {
    "duration": 362,
    "start_time": "2021-06-29T19:17:28.349Z"
   },
   {
    "duration": 16,
    "start_time": "2021-06-29T19:17:28.713Z"
   },
   {
    "duration": 327,
    "start_time": "2021-06-29T19:17:28.731Z"
   },
   {
    "duration": 309,
    "start_time": "2021-06-29T19:17:29.060Z"
   },
   {
    "duration": 360,
    "start_time": "2021-06-29T19:17:29.371Z"
   },
   {
    "duration": 8,
    "start_time": "2021-06-29T19:17:29.733Z"
   },
   {
    "duration": 218,
    "start_time": "2021-06-29T19:17:29.744Z"
   },
   {
    "duration": 11,
    "start_time": "2021-06-29T19:17:29.964Z"
   },
   {
    "duration": 378,
    "start_time": "2021-06-29T19:17:29.977Z"
   },
   {
    "duration": 49,
    "start_time": "2021-06-29T19:17:30.358Z"
   },
   {
    "duration": 361,
    "start_time": "2021-06-29T19:17:30.409Z"
   },
   {
    "duration": 10,
    "start_time": "2021-06-29T19:17:30.772Z"
   },
   {
    "duration": 51,
    "start_time": "2021-06-29T19:17:30.784Z"
   },
   {
    "duration": 11,
    "start_time": "2021-06-29T19:17:30.842Z"
   },
   {
    "duration": 54,
    "start_time": "2021-06-29T19:17:30.856Z"
   },
   {
    "duration": 16,
    "start_time": "2021-06-29T19:17:30.912Z"
   },
   {
    "duration": 502,
    "start_time": "2021-06-29T19:17:30.931Z"
   },
   {
    "duration": 1091,
    "start_time": "2021-06-29T19:17:31.435Z"
   },
   {
    "duration": 7,
    "start_time": "2021-06-29T19:53:57.847Z"
   },
   {
    "duration": 8,
    "start_time": "2021-06-29T19:54:02.965Z"
   },
   {
    "duration": 9,
    "start_time": "2021-06-29T20:00:57.353Z"
   },
   {
    "duration": 2277,
    "start_time": "2021-06-29T20:34:29.426Z"
   },
   {
    "duration": 2019,
    "start_time": "2021-06-29T20:35:04.500Z"
   },
   {
    "duration": 2754,
    "start_time": "2021-06-29T20:36:07.220Z"
   },
   {
    "duration": 2087,
    "start_time": "2021-06-29T20:36:34.335Z"
   },
   {
    "duration": 2132,
    "start_time": "2021-06-29T20:36:44.539Z"
   },
   {
    "duration": 1806,
    "start_time": "2021-06-29T20:36:54.594Z"
   },
   {
    "duration": 203,
    "start_time": "2021-06-29T20:39:52.181Z"
   },
   {
    "duration": 223,
    "start_time": "2021-06-29T20:40:03.173Z"
   },
   {
    "duration": 3921,
    "start_time": "2021-06-29T20:56:40.628Z"
   },
   {
    "duration": 4443,
    "start_time": "2021-06-29T20:58:05.408Z"
   },
   {
    "duration": 7,
    "start_time": "2021-06-29T20:59:19.834Z"
   },
   {
    "duration": 978,
    "start_time": "2021-06-29T21:00:18.224Z"
   },
   {
    "duration": 937,
    "start_time": "2021-06-29T21:00:43.970Z"
   },
   {
    "duration": 1079,
    "start_time": "2021-06-29T21:01:35.784Z"
   },
   {
    "duration": 92,
    "start_time": "2021-06-29T21:04:23.888Z"
   },
   {
    "duration": 1589,
    "start_time": "2021-06-30T14:01:20.147Z"
   },
   {
    "duration": 318,
    "start_time": "2021-06-30T14:01:21.739Z"
   },
   {
    "duration": 27,
    "start_time": "2021-06-30T14:01:22.060Z"
   },
   {
    "duration": 26,
    "start_time": "2021-06-30T14:01:22.090Z"
   },
   {
    "duration": 92,
    "start_time": "2021-06-30T14:01:22.118Z"
   },
   {
    "duration": 105,
    "start_time": "2021-06-30T14:01:22.213Z"
   },
   {
    "duration": 10,
    "start_time": "2021-06-30T14:01:22.320Z"
   },
   {
    "duration": 40,
    "start_time": "2021-06-30T14:01:22.333Z"
   },
   {
    "duration": 49,
    "start_time": "2021-06-30T14:01:22.377Z"
   },
   {
    "duration": 1509,
    "start_time": "2021-06-30T14:01:22.429Z"
   },
   {
    "duration": 8,
    "start_time": "2021-06-30T14:01:23.941Z"
   },
   {
    "duration": 71,
    "start_time": "2021-06-30T14:01:23.963Z"
   },
   {
    "duration": 2556,
    "start_time": "2021-06-30T14:01:24.037Z"
   },
   {
    "duration": 7,
    "start_time": "2021-06-30T14:01:26.596Z"
   },
   {
    "duration": 2071,
    "start_time": "2021-06-30T14:01:26.606Z"
   },
   {
    "duration": 90,
    "start_time": "2021-06-30T14:01:28.679Z"
   },
   {
    "duration": 123,
    "start_time": "2021-06-30T14:01:28.772Z"
   },
   {
    "duration": 13,
    "start_time": "2021-06-30T14:01:28.898Z"
   },
   {
    "duration": 15,
    "start_time": "2021-06-30T14:01:28.914Z"
   },
   {
    "duration": 30,
    "start_time": "2021-06-30T14:01:28.932Z"
   },
   {
    "duration": 9,
    "start_time": "2021-06-30T14:01:28.965Z"
   },
   {
    "duration": 12,
    "start_time": "2021-06-30T14:01:28.977Z"
   },
   {
    "duration": 14,
    "start_time": "2021-06-30T14:01:28.997Z"
   },
   {
    "duration": 98,
    "start_time": "2021-06-30T14:01:29.016Z"
   },
   {
    "duration": 73,
    "start_time": "2021-06-30T14:01:29.117Z"
   },
   {
    "duration": 31,
    "start_time": "2021-06-30T14:01:29.193Z"
   },
   {
    "duration": 10,
    "start_time": "2021-06-30T14:01:29.227Z"
   },
   {
    "duration": 3,
    "start_time": "2021-06-30T14:01:29.261Z"
   },
   {
    "duration": 2316,
    "start_time": "2021-06-30T14:01:29.267Z"
   },
   {
    "duration": 34,
    "start_time": "2021-06-30T14:01:31.586Z"
   },
   {
    "duration": 465,
    "start_time": "2021-06-30T14:01:31.623Z"
   },
   {
    "duration": 380,
    "start_time": "2021-06-30T14:01:32.091Z"
   },
   {
    "duration": 387,
    "start_time": "2021-06-30T14:01:32.474Z"
   },
   {
    "duration": 390,
    "start_time": "2021-06-30T14:01:32.864Z"
   },
   {
    "duration": 20,
    "start_time": "2021-06-30T14:01:33.257Z"
   },
   {
    "duration": 327,
    "start_time": "2021-06-30T14:01:33.279Z"
   },
   {
    "duration": 355,
    "start_time": "2021-06-30T14:01:33.609Z"
   },
   {
    "duration": 325,
    "start_time": "2021-06-30T14:01:33.967Z"
   },
   {
    "duration": 643,
    "start_time": "2021-06-30T14:01:34.294Z"
   },
   {
    "duration": 463,
    "start_time": "2021-06-30T14:01:34.940Z"
   },
   {
    "duration": 317,
    "start_time": "2021-06-30T14:01:35.406Z"
   },
   {
    "duration": 1842,
    "start_time": "2021-06-30T14:01:35.726Z"
   },
   {
    "duration": 245,
    "start_time": "2021-06-30T14:01:37.570Z"
   },
   {
    "duration": 11,
    "start_time": "2021-06-30T14:01:37.817Z"
   },
   {
    "duration": 243,
    "start_time": "2021-06-30T14:01:37.830Z"
   },
   {
    "duration": 13,
    "start_time": "2021-06-30T14:01:38.076Z"
   },
   {
    "duration": 263,
    "start_time": "2021-06-30T14:01:38.092Z"
   },
   {
    "duration": 13,
    "start_time": "2021-06-30T14:01:38.363Z"
   },
   {
    "duration": 229,
    "start_time": "2021-06-30T14:01:38.379Z"
   },
   {
    "duration": 312,
    "start_time": "2021-06-30T14:01:38.611Z"
   },
   {
    "duration": 17,
    "start_time": "2021-06-30T14:01:38.926Z"
   },
   {
    "duration": 326,
    "start_time": "2021-06-30T14:01:38.962Z"
   },
   {
    "duration": 325,
    "start_time": "2021-06-30T14:01:39.290Z"
   },
   {
    "duration": 18,
    "start_time": "2021-06-30T14:01:39.618Z"
   },
   {
    "duration": 299,
    "start_time": "2021-06-30T14:01:39.638Z"
   },
   {
    "duration": 328,
    "start_time": "2021-06-30T14:01:39.939Z"
   },
   {
    "duration": 18,
    "start_time": "2021-06-30T14:01:40.269Z"
   },
   {
    "duration": 347,
    "start_time": "2021-06-30T14:01:40.290Z"
   },
   {
    "duration": 334,
    "start_time": "2021-06-30T14:01:40.639Z"
   },
   {
    "duration": 1616,
    "start_time": "2021-06-30T14:01:40.976Z"
   },
   {
    "duration": 576,
    "start_time": "2021-06-30T14:01:42.595Z"
   },
   {
    "duration": 10,
    "start_time": "2021-06-30T14:01:43.174Z"
   },
   {
    "duration": 257,
    "start_time": "2021-06-30T14:01:43.188Z"
   },
   {
    "duration": 20,
    "start_time": "2021-06-30T14:01:43.447Z"
   },
   {
    "duration": 465,
    "start_time": "2021-06-30T14:01:43.470Z"
   },
   {
    "duration": 51,
    "start_time": "2021-06-30T14:01:43.937Z"
   },
   {
    "duration": 375,
    "start_time": "2021-06-30T14:01:43.990Z"
   },
   {
    "duration": 12,
    "start_time": "2021-06-30T14:01:44.372Z"
   },
   {
    "duration": 1366,
    "start_time": "2021-06-30T14:01:44.386Z"
   },
   {
    "duration": 11,
    "start_time": "2021-06-30T14:01:45.763Z"
   },
   {
    "duration": 1434,
    "start_time": "2021-06-30T14:01:45.776Z"
   },
   {
    "duration": 17,
    "start_time": "2021-06-30T14:01:47.212Z"
   },
   {
    "duration": 515,
    "start_time": "2021-06-30T14:01:47.232Z"
   },
   {
    "duration": 1136,
    "start_time": "2021-06-30T14:01:47.750Z"
   },
   {
    "duration": 371,
    "start_time": "2021-06-30T17:51:18.858Z"
   },
   {
    "duration": 1540,
    "start_time": "2021-06-30T17:51:46.959Z"
   },
   {
    "duration": 349,
    "start_time": "2021-06-30T17:51:48.502Z"
   },
   {
    "duration": 27,
    "start_time": "2021-06-30T17:51:48.854Z"
   },
   {
    "duration": 43,
    "start_time": "2021-06-30T17:51:48.883Z"
   },
   {
    "duration": 58,
    "start_time": "2021-06-30T17:51:48.929Z"
   },
   {
    "duration": 198,
    "start_time": "2021-06-30T17:51:48.990Z"
   },
   {
    "duration": 11,
    "start_time": "2021-06-30T17:51:49.191Z"
   },
   {
    "duration": 67,
    "start_time": "2021-06-30T17:51:49.208Z"
   },
   {
    "duration": 86,
    "start_time": "2021-06-30T17:51:49.279Z"
   },
   {
    "duration": 1496,
    "start_time": "2021-06-30T17:51:49.368Z"
   },
   {
    "duration": 7,
    "start_time": "2021-06-30T17:51:50.866Z"
   },
   {
    "duration": 8,
    "start_time": "2021-06-30T17:51:50.876Z"
   },
   {
    "duration": 76,
    "start_time": "2021-06-30T17:51:50.887Z"
   },
   {
    "duration": 1496,
    "start_time": "2021-06-30T17:51:50.966Z"
   },
   {
    "duration": 7,
    "start_time": "2021-06-30T17:51:52.464Z"
   },
   {
    "duration": 2116,
    "start_time": "2021-06-30T17:51:52.474Z"
   },
   {
    "duration": 95,
    "start_time": "2021-06-30T17:51:54.593Z"
   },
   {
    "duration": 128,
    "start_time": "2021-06-30T17:51:54.691Z"
   },
   {
    "duration": 17,
    "start_time": "2021-06-30T17:51:54.825Z"
   },
   {
    "duration": 22,
    "start_time": "2021-06-30T17:51:54.844Z"
   },
   {
    "duration": 18,
    "start_time": "2021-06-30T17:51:54.869Z"
   },
   {
    "duration": 17,
    "start_time": "2021-06-30T17:51:54.890Z"
   },
   {
    "duration": 10,
    "start_time": "2021-06-30T17:51:54.925Z"
   },
   {
    "duration": 40,
    "start_time": "2021-06-30T17:51:54.938Z"
   },
   {
    "duration": 111,
    "start_time": "2021-06-30T17:51:54.981Z"
   },
   {
    "duration": 103,
    "start_time": "2021-06-30T17:51:55.095Z"
   },
   {
    "duration": 54,
    "start_time": "2021-06-30T17:51:55.201Z"
   },
   {
    "duration": 14,
    "start_time": "2021-06-30T17:51:55.258Z"
   },
   {
    "duration": 12,
    "start_time": "2021-06-30T17:51:55.275Z"
   },
   {
    "duration": 2311,
    "start_time": "2021-06-30T17:51:55.289Z"
   },
   {
    "duration": 44,
    "start_time": "2021-06-30T17:51:57.602Z"
   },
   {
    "duration": 329,
    "start_time": "2021-06-30T17:51:57.648Z"
   },
   {
    "duration": 371,
    "start_time": "2021-06-30T17:51:57.980Z"
   },
   {
    "duration": 386,
    "start_time": "2021-06-30T17:51:58.354Z"
   },
   {
    "duration": 596,
    "start_time": "2021-06-30T17:51:58.742Z"
   },
   {
    "duration": 19,
    "start_time": "2021-06-30T17:51:59.341Z"
   },
   {
    "duration": 344,
    "start_time": "2021-06-30T17:51:59.362Z"
   },
   {
    "duration": 372,
    "start_time": "2021-06-30T17:51:59.709Z"
   },
   {
    "duration": 454,
    "start_time": "2021-06-30T17:52:00.084Z"
   },
   {
    "duration": 443,
    "start_time": "2021-06-30T17:52:00.540Z"
   },
   {
    "duration": 316,
    "start_time": "2021-06-30T17:52:00.985Z"
   },
   {
    "duration": 314,
    "start_time": "2021-06-30T17:52:01.304Z"
   },
   {
    "duration": 1745,
    "start_time": "2021-06-30T17:52:01.620Z"
   },
   {
    "duration": 250,
    "start_time": "2021-06-30T17:52:03.367Z"
   },
   {
    "duration": 15,
    "start_time": "2021-06-30T17:52:03.625Z"
   },
   {
    "duration": 386,
    "start_time": "2021-06-30T17:52:03.643Z"
   },
   {
    "duration": 16,
    "start_time": "2021-06-30T17:52:04.032Z"
   },
   {
    "duration": 263,
    "start_time": "2021-06-30T17:52:04.050Z"
   },
   {
    "duration": 16,
    "start_time": "2021-06-30T17:52:04.316Z"
   },
   {
    "duration": 232,
    "start_time": "2021-06-30T17:52:04.335Z"
   },
   {
    "duration": 309,
    "start_time": "2021-06-30T17:52:04.569Z"
   },
   {
    "duration": 17,
    "start_time": "2021-06-30T17:52:04.880Z"
   },
   {
    "duration": 342,
    "start_time": "2021-06-30T17:52:04.900Z"
   },
   {
    "duration": 330,
    "start_time": "2021-06-30T17:52:05.244Z"
   },
   {
    "duration": 23,
    "start_time": "2021-06-30T17:52:05.576Z"
   },
   {
    "duration": 488,
    "start_time": "2021-06-30T17:52:05.603Z"
   },
   {
    "duration": 321,
    "start_time": "2021-06-30T17:52:06.094Z"
   },
   {
    "duration": 21,
    "start_time": "2021-06-30T17:52:06.417Z"
   },
   {
    "duration": 348,
    "start_time": "2021-06-30T17:52:06.441Z"
   },
   {
    "duration": 338,
    "start_time": "2021-06-30T17:52:06.792Z"
   },
   {
    "duration": 1049,
    "start_time": "2021-06-30T17:52:07.133Z"
   },
   {
    "duration": 386,
    "start_time": "2021-06-30T17:52:08.185Z"
   },
   {
    "duration": 8,
    "start_time": "2021-06-30T17:52:08.573Z"
   },
   {
    "duration": 243,
    "start_time": "2021-06-30T17:52:08.583Z"
   },
   {
    "duration": 11,
    "start_time": "2021-06-30T17:52:08.829Z"
   },
   {
    "duration": 476,
    "start_time": "2021-06-30T17:52:08.843Z"
   },
   {
    "duration": 42,
    "start_time": "2021-06-30T17:52:09.325Z"
   },
   {
    "duration": 407,
    "start_time": "2021-06-30T17:52:09.377Z"
   },
   {
    "duration": 11,
    "start_time": "2021-06-30T17:52:09.787Z"
   },
   {
    "duration": 1317,
    "start_time": "2021-06-30T17:52:09.801Z"
   },
   {
    "duration": 13,
    "start_time": "2021-06-30T17:52:11.125Z"
   },
   {
    "duration": 1325,
    "start_time": "2021-06-30T17:52:11.140Z"
   },
   {
    "duration": 18,
    "start_time": "2021-06-30T17:52:12.467Z"
   },
   {
    "duration": 898,
    "start_time": "2021-06-30T17:52:12.488Z"
   },
   {
    "duration": 1931,
    "start_time": "2021-06-30T17:52:13.389Z"
   },
   {
    "duration": 90,
    "start_time": "2021-06-30T17:55:38.112Z"
   },
   {
    "duration": 4,
    "start_time": "2021-06-30T18:04:27.338Z"
   },
   {
    "duration": 317,
    "start_time": "2021-06-30T18:04:27.350Z"
   },
   {
    "duration": 28,
    "start_time": "2021-06-30T18:04:27.670Z"
   },
   {
    "duration": 35,
    "start_time": "2021-06-30T18:04:27.702Z"
   },
   {
    "duration": 64,
    "start_time": "2021-06-30T18:04:27.741Z"
   },
   {
    "duration": 116,
    "start_time": "2021-06-30T18:04:27.808Z"
   },
   {
    "duration": 8,
    "start_time": "2021-06-30T18:04:27.926Z"
   },
   {
    "duration": 24,
    "start_time": "2021-06-30T18:04:27.937Z"
   },
   {
    "duration": 122,
    "start_time": "2021-06-30T18:04:27.965Z"
   },
   {
    "duration": 2882,
    "start_time": "2021-06-30T18:04:28.093Z"
   },
   {
    "duration": 7,
    "start_time": "2021-06-30T18:04:30.979Z"
   },
   {
    "duration": 67,
    "start_time": "2021-06-30T18:04:30.988Z"
   },
   {
    "duration": 1480,
    "start_time": "2021-06-30T18:04:31.057Z"
   },
   {
    "duration": 7,
    "start_time": "2021-06-30T18:04:32.539Z"
   },
   {
    "duration": 2263,
    "start_time": "2021-06-30T18:04:32.548Z"
   },
   {
    "duration": 83,
    "start_time": "2021-06-30T18:04:34.814Z"
   },
   {
    "duration": 134,
    "start_time": "2021-06-30T18:04:34.900Z"
   },
   {
    "duration": 14,
    "start_time": "2021-06-30T18:04:35.036Z"
   },
   {
    "duration": 10,
    "start_time": "2021-06-30T18:04:35.053Z"
   },
   {
    "duration": 9,
    "start_time": "2021-06-30T18:04:35.065Z"
   },
   {
    "duration": 11,
    "start_time": "2021-06-30T18:04:35.076Z"
   },
   {
    "duration": 49,
    "start_time": "2021-06-30T18:04:35.090Z"
   },
   {
    "duration": 34,
    "start_time": "2021-06-30T18:04:35.142Z"
   },
   {
    "duration": 71,
    "start_time": "2021-06-30T18:04:35.179Z"
   },
   {
    "duration": 51,
    "start_time": "2021-06-30T18:04:35.253Z"
   },
   {
    "duration": 31,
    "start_time": "2021-06-30T18:04:35.324Z"
   },
   {
    "duration": 6,
    "start_time": "2021-06-30T18:04:35.357Z"
   },
   {
    "duration": 18,
    "start_time": "2021-06-30T18:04:35.367Z"
   },
   {
    "duration": 6,
    "start_time": "2021-06-30T18:04:38.718Z"
   },
   {
    "duration": 24,
    "start_time": "2021-06-30T18:05:07.907Z"
   },
   {
    "duration": 7,
    "start_time": "2021-06-30T18:06:20.614Z"
   },
   {
    "duration": 17,
    "start_time": "2021-06-30T18:06:29.534Z"
   },
   {
    "duration": 2270,
    "start_time": "2021-06-30T18:09:31.150Z"
   },
   {
    "duration": 6,
    "start_time": "2021-06-30T18:09:55.103Z"
   },
   {
    "duration": 6,
    "start_time": "2021-06-30T18:09:58.652Z"
   },
   {
    "duration": 7,
    "start_time": "2021-06-30T18:10:04.502Z"
   },
   {
    "duration": 6,
    "start_time": "2021-06-30T18:10:16.005Z"
   },
   {
    "duration": 6,
    "start_time": "2021-06-30T18:10:25.693Z"
   },
   {
    "duration": 7,
    "start_time": "2021-06-30T18:10:30.172Z"
   },
   {
    "duration": 6,
    "start_time": "2021-06-30T18:10:33.653Z"
   },
   {
    "duration": 2193,
    "start_time": "2021-06-30T18:10:43.068Z"
   },
   {
    "duration": 2495,
    "start_time": "2021-06-30T18:41:27.682Z"
   },
   {
    "duration": 6,
    "start_time": "2021-06-30T18:41:47.054Z"
   },
   {
    "duration": 322,
    "start_time": "2021-06-30T18:41:47.070Z"
   },
   {
    "duration": 38,
    "start_time": "2021-06-30T18:41:47.394Z"
   },
   {
    "duration": 26,
    "start_time": "2021-06-30T18:41:47.435Z"
   },
   {
    "duration": 94,
    "start_time": "2021-06-30T18:41:47.464Z"
   },
   {
    "duration": 101,
    "start_time": "2021-06-30T18:41:47.560Z"
   },
   {
    "duration": 6,
    "start_time": "2021-06-30T18:41:47.663Z"
   },
   {
    "duration": 25,
    "start_time": "2021-06-30T18:41:47.671Z"
   },
   {
    "duration": 72,
    "start_time": "2021-06-30T18:41:47.698Z"
   },
   {
    "duration": 1615,
    "start_time": "2021-06-30T18:41:47.774Z"
   },
   {
    "duration": 7,
    "start_time": "2021-06-30T18:41:49.392Z"
   },
   {
    "duration": 59,
    "start_time": "2021-06-30T18:41:49.401Z"
   },
   {
    "duration": 1482,
    "start_time": "2021-06-30T18:41:49.462Z"
   },
   {
    "duration": 6,
    "start_time": "2021-06-30T18:41:50.947Z"
   },
   {
    "duration": 2116,
    "start_time": "2021-06-30T18:41:50.956Z"
   },
   {
    "duration": 105,
    "start_time": "2021-06-30T18:41:53.074Z"
   },
   {
    "duration": 200,
    "start_time": "2021-06-30T18:41:53.181Z"
   },
   {
    "duration": 15,
    "start_time": "2021-06-30T18:41:53.384Z"
   },
   {
    "duration": 8,
    "start_time": "2021-06-30T18:41:53.424Z"
   },
   {
    "duration": 6,
    "start_time": "2021-06-30T18:41:53.435Z"
   },
   {
    "duration": 10,
    "start_time": "2021-06-30T18:41:53.444Z"
   },
   {
    "duration": 16,
    "start_time": "2021-06-30T18:41:53.457Z"
   },
   {
    "duration": 57,
    "start_time": "2021-06-30T18:41:53.475Z"
   },
   {
    "duration": 56,
    "start_time": "2021-06-30T18:41:53.534Z"
   },
   {
    "duration": 76,
    "start_time": "2021-06-30T18:41:53.592Z"
   },
   {
    "duration": 28,
    "start_time": "2021-06-30T18:41:53.670Z"
   },
   {
    "duration": 27,
    "start_time": "2021-06-30T18:41:53.700Z"
   },
   {
    "duration": 4,
    "start_time": "2021-06-30T18:41:53.732Z"
   },
   {
    "duration": 2134,
    "start_time": "2021-06-30T18:41:53.739Z"
   },
   {
    "duration": 3,
    "start_time": "2021-06-30T18:41:55.875Z"
   },
   {
    "duration": 48,
    "start_time": "2021-06-30T18:41:55.881Z"
   },
   {
    "duration": 325,
    "start_time": "2021-06-30T18:41:55.932Z"
   },
   {
    "duration": 379,
    "start_time": "2021-06-30T18:41:56.260Z"
   },
   {
    "duration": 385,
    "start_time": "2021-06-30T18:41:56.642Z"
   },
   {
    "duration": 388,
    "start_time": "2021-06-30T18:41:57.029Z"
   },
   {
    "duration": 20,
    "start_time": "2021-06-30T18:41:57.419Z"
   },
   {
    "duration": 413,
    "start_time": "2021-06-30T18:41:57.441Z"
   },
   {
    "duration": 361,
    "start_time": "2021-06-30T18:41:57.857Z"
   },
   {
    "duration": 548,
    "start_time": "2021-06-30T18:41:58.223Z"
   },
   {
    "duration": 606,
    "start_time": "2021-06-30T18:41:58.774Z"
   },
   {
    "duration": 311,
    "start_time": "2021-06-30T18:41:59.382Z"
   },
   {
    "duration": 306,
    "start_time": "2021-06-30T18:41:59.695Z"
   },
   {
    "duration": 1780,
    "start_time": "2021-06-30T18:42:00.004Z"
   },
   {
    "duration": 1472,
    "start_time": "2021-06-30T19:22:01.963Z"
   },
   {
    "duration": 347,
    "start_time": "2021-06-30T19:22:03.437Z"
   },
   {
    "duration": 27,
    "start_time": "2021-06-30T19:22:03.787Z"
   },
   {
    "duration": 28,
    "start_time": "2021-06-30T19:22:03.825Z"
   },
   {
    "duration": 74,
    "start_time": "2021-06-30T19:22:03.855Z"
   },
   {
    "duration": 108,
    "start_time": "2021-06-30T19:22:03.932Z"
   },
   {
    "duration": 11,
    "start_time": "2021-06-30T19:22:04.042Z"
   },
   {
    "duration": 27,
    "start_time": "2021-06-30T19:22:04.057Z"
   },
   {
    "duration": 70,
    "start_time": "2021-06-30T19:22:04.087Z"
   },
   {
    "duration": 1597,
    "start_time": "2021-06-30T19:22:04.159Z"
   },
   {
    "duration": 7,
    "start_time": "2021-06-30T19:22:05.758Z"
   },
   {
    "duration": 65,
    "start_time": "2021-06-30T19:22:05.767Z"
   },
   {
    "duration": 1484,
    "start_time": "2021-06-30T19:22:05.834Z"
   },
   {
    "duration": 6,
    "start_time": "2021-06-30T19:22:07.323Z"
   },
   {
    "duration": 2095,
    "start_time": "2021-06-30T19:22:07.332Z"
   },
   {
    "duration": 94,
    "start_time": "2021-06-30T19:22:09.430Z"
   },
   {
    "duration": 120,
    "start_time": "2021-06-30T19:22:09.527Z"
   },
   {
    "duration": 13,
    "start_time": "2021-06-30T19:22:09.649Z"
   },
   {
    "duration": 11,
    "start_time": "2021-06-30T19:22:09.666Z"
   },
   {
    "duration": 7,
    "start_time": "2021-06-30T19:22:09.680Z"
   },
   {
    "duration": 43,
    "start_time": "2021-06-30T19:22:09.690Z"
   },
   {
    "duration": 10,
    "start_time": "2021-06-30T19:22:09.736Z"
   },
   {
    "duration": 14,
    "start_time": "2021-06-30T19:22:09.752Z"
   },
   {
    "duration": 90,
    "start_time": "2021-06-30T19:22:09.770Z"
   },
   {
    "duration": 64,
    "start_time": "2021-06-30T19:22:09.862Z"
   },
   {
    "duration": 30,
    "start_time": "2021-06-30T19:22:09.928Z"
   },
   {
    "duration": 10,
    "start_time": "2021-06-30T19:22:09.960Z"
   },
   {
    "duration": 8,
    "start_time": "2021-06-30T19:22:09.972Z"
   },
   {
    "duration": 2199,
    "start_time": "2021-06-30T19:22:09.982Z"
   },
   {
    "duration": 3,
    "start_time": "2021-06-30T19:22:12.184Z"
   },
   {
    "duration": 55,
    "start_time": "2021-06-30T19:22:12.190Z"
   },
   {
    "duration": 320,
    "start_time": "2021-06-30T19:22:12.247Z"
   },
   {
    "duration": 367,
    "start_time": "2021-06-30T19:22:12.570Z"
   },
   {
    "duration": 384,
    "start_time": "2021-06-30T19:22:12.940Z"
   },
   {
    "duration": 383,
    "start_time": "2021-06-30T19:22:13.326Z"
   },
   {
    "duration": 26,
    "start_time": "2021-06-30T19:22:13.712Z"
   },
   {
    "duration": 320,
    "start_time": "2021-06-30T19:22:13.740Z"
   },
   {
    "duration": 357,
    "start_time": "2021-06-30T19:22:14.063Z"
   },
   {
    "duration": 341,
    "start_time": "2021-06-30T19:22:14.425Z"
   },
   {
    "duration": 449,
    "start_time": "2021-06-30T19:22:14.768Z"
   },
   {
    "duration": 333,
    "start_time": "2021-06-30T19:22:15.219Z"
   },
   {
    "duration": 309,
    "start_time": "2021-06-30T19:22:15.555Z"
   },
   {
    "duration": 1750,
    "start_time": "2021-06-30T19:22:15.866Z"
   },
   {
    "duration": 244,
    "start_time": "2021-06-30T19:22:17.619Z"
   },
   {
    "duration": 11,
    "start_time": "2021-06-30T19:22:17.865Z"
   },
   {
    "duration": 512,
    "start_time": "2021-06-30T19:22:17.880Z"
   },
   {
    "duration": 14,
    "start_time": "2021-06-30T19:22:18.395Z"
   },
   {
    "duration": 433,
    "start_time": "2021-06-30T19:22:18.424Z"
   },
   {
    "duration": 15,
    "start_time": "2021-06-30T19:22:18.860Z"
   },
   {
    "duration": 402,
    "start_time": "2021-06-30T19:22:18.878Z"
   },
   {
    "duration": 503,
    "start_time": "2021-06-30T19:22:19.289Z"
   },
   {
    "duration": 30,
    "start_time": "2021-06-30T19:22:19.796Z"
   },
   {
    "duration": 335,
    "start_time": "2021-06-30T19:22:19.829Z"
   },
   {
    "duration": 342,
    "start_time": "2021-06-30T19:22:20.166Z"
   },
   {
    "duration": 25,
    "start_time": "2021-06-30T19:22:20.510Z"
   },
   {
    "duration": 297,
    "start_time": "2021-06-30T19:22:20.538Z"
   },
   {
    "duration": 327,
    "start_time": "2021-06-30T19:22:20.837Z"
   },
   {
    "duration": 18,
    "start_time": "2021-06-30T19:22:21.166Z"
   },
   {
    "duration": 350,
    "start_time": "2021-06-30T19:22:21.187Z"
   },
   {
    "duration": 336,
    "start_time": "2021-06-30T19:22:21.540Z"
   },
   {
    "duration": 1149,
    "start_time": "2021-06-30T19:22:21.879Z"
   },
   {
    "duration": 375,
    "start_time": "2021-06-30T19:22:23.030Z"
   },
   {
    "duration": 23,
    "start_time": "2021-06-30T19:22:23.409Z"
   },
   {
    "duration": 232,
    "start_time": "2021-06-30T19:22:23.434Z"
   },
   {
    "duration": 12,
    "start_time": "2021-06-30T19:22:23.669Z"
   },
   {
    "duration": 483,
    "start_time": "2021-06-30T19:22:23.684Z"
   },
   {
    "duration": 57,
    "start_time": "2021-06-30T19:22:24.170Z"
   },
   {
    "duration": 391,
    "start_time": "2021-06-30T19:22:24.236Z"
   },
   {
    "duration": 17,
    "start_time": "2021-06-30T19:22:24.630Z"
   },
   {
    "duration": 2228,
    "start_time": "2021-06-30T19:22:24.650Z"
   },
   {
    "duration": 15,
    "start_time": "2021-06-30T19:22:26.881Z"
   },
   {
    "duration": 1444,
    "start_time": "2021-06-30T19:22:26.899Z"
   },
   {
    "duration": 18,
    "start_time": "2021-06-30T19:22:28.346Z"
   },
   {
    "duration": 523,
    "start_time": "2021-06-30T19:22:28.367Z"
   },
   {
    "duration": 1126,
    "start_time": "2021-06-30T19:22:28.893Z"
   },
   {
    "duration": 1440,
    "start_time": "2021-07-01T15:12:23.358Z"
   },
   {
    "duration": 538,
    "start_time": "2021-07-01T15:12:24.801Z"
   },
   {
    "duration": 27,
    "start_time": "2021-07-01T15:12:25.342Z"
   },
   {
    "duration": 47,
    "start_time": "2021-07-01T15:12:25.373Z"
   },
   {
    "duration": 62,
    "start_time": "2021-07-01T15:12:25.423Z"
   },
   {
    "duration": 120,
    "start_time": "2021-07-01T15:12:25.488Z"
   },
   {
    "duration": 11,
    "start_time": "2021-07-01T15:12:25.611Z"
   },
   {
    "duration": 25,
    "start_time": "2021-07-01T15:12:25.627Z"
   },
   {
    "duration": 78,
    "start_time": "2021-07-01T15:12:25.655Z"
   },
   {
    "duration": 1617,
    "start_time": "2021-07-01T15:12:25.736Z"
   },
   {
    "duration": 6,
    "start_time": "2021-07-01T15:12:27.355Z"
   },
   {
    "duration": 5,
    "start_time": "2021-07-01T15:12:29.505Z"
   },
   {
    "duration": 3869,
    "start_time": "2021-07-08T14:41:59.440Z"
   },
   {
    "duration": 3182,
    "start_time": "2021-07-08T14:42:03.312Z"
   },
   {
    "duration": 1313,
    "start_time": "2021-07-08T14:42:06.497Z"
   },
   {
    "duration": 3264,
    "start_time": "2021-07-08T14:42:07.813Z"
   },
   {
    "duration": 1538,
    "start_time": "2021-07-08T14:42:11.080Z"
   },
   {
    "duration": 657,
    "start_time": "2021-07-08T14:42:12.621Z"
   },
   {
    "duration": 25,
    "start_time": "2021-07-08T14:42:13.280Z"
   },
   {
    "duration": 24,
    "start_time": "2021-07-08T14:42:13.311Z"
   },
   {
    "duration": 66,
    "start_time": "2021-07-08T14:42:13.339Z"
   },
   {
    "duration": 20,
    "start_time": "2021-07-08T14:42:13.409Z"
   },
   {
    "duration": 47,
    "start_time": "2021-07-08T14:42:13.432Z"
   },
   {
    "duration": 42,
    "start_time": "2021-07-08T14:42:13.482Z"
   },
   {
    "duration": 43,
    "start_time": "2021-07-08T14:42:13.527Z"
   },
   {
    "duration": 14,
    "start_time": "2021-07-08T14:42:13.573Z"
   },
   {
    "duration": 126,
    "start_time": "2021-07-08T14:42:13.590Z"
   },
   {
    "duration": 10,
    "start_time": "2021-07-08T14:42:13.718Z"
   },
   {
    "duration": 36,
    "start_time": "2021-07-08T14:42:13.731Z"
   },
   {
    "duration": 9,
    "start_time": "2021-07-08T14:42:13.771Z"
   },
   {
    "duration": 18,
    "start_time": "2021-07-08T14:42:13.782Z"
   },
   {
    "duration": 28,
    "start_time": "2021-07-08T14:42:13.803Z"
   },
   {
    "duration": 70,
    "start_time": "2021-07-08T14:42:13.834Z"
   },
   {
    "duration": 20,
    "start_time": "2021-07-08T14:42:13.907Z"
   },
   {
    "duration": 47,
    "start_time": "2021-07-08T14:42:13.933Z"
   },
   {
    "duration": 11,
    "start_time": "2021-07-08T14:42:13.984Z"
   },
   {
    "duration": 17,
    "start_time": "2021-07-08T14:42:13.997Z"
   },
   {
    "duration": 8,
    "start_time": "2021-07-08T14:42:14.016Z"
   },
   {
    "duration": 52,
    "start_time": "2021-07-08T14:42:14.026Z"
   },
   {
    "duration": 24,
    "start_time": "2021-07-08T14:42:14.080Z"
   },
   {
    "duration": 16,
    "start_time": "2021-07-08T14:42:14.106Z"
   },
   {
    "duration": 9,
    "start_time": "2021-07-08T14:42:14.125Z"
   },
   {
    "duration": 10,
    "start_time": "2021-07-08T14:42:14.167Z"
   },
   {
    "duration": 13,
    "start_time": "2021-07-08T14:42:14.179Z"
   },
   {
    "duration": 11,
    "start_time": "2021-07-08T14:42:14.195Z"
   },
   {
    "duration": 6,
    "start_time": "2021-07-08T14:42:14.209Z"
   },
   {
    "duration": 105,
    "start_time": "2021-07-08T14:42:14.218Z"
   },
   {
    "duration": 57,
    "start_time": "2021-07-08T14:42:14.326Z"
   },
   {
    "duration": 27,
    "start_time": "2021-07-08T14:42:14.386Z"
   },
   {
    "duration": 11,
    "start_time": "2021-07-08T14:42:14.416Z"
   },
   {
    "duration": 44,
    "start_time": "2021-07-08T14:42:14.430Z"
   },
   {
    "duration": 11,
    "start_time": "2021-07-08T14:42:14.477Z"
   },
   {
    "duration": 35,
    "start_time": "2021-07-08T14:42:14.491Z"
   },
   {
    "duration": 67,
    "start_time": "2021-07-08T14:42:14.529Z"
   },
   {
    "duration": 30,
    "start_time": "2021-07-08T14:42:14.599Z"
   },
   {
    "duration": 44,
    "start_time": "2021-07-08T14:42:14.632Z"
   },
   {
    "duration": 21,
    "start_time": "2021-07-08T14:42:14.679Z"
   },
   {
    "duration": 87,
    "start_time": "2021-07-08T14:42:14.703Z"
   },
   {
    "duration": 16,
    "start_time": "2021-07-08T14:42:14.793Z"
   },
   {
    "duration": 12,
    "start_time": "2021-07-08T14:42:14.811Z"
   },
   {
    "duration": 47,
    "start_time": "2021-07-08T14:42:14.825Z"
   },
   {
    "duration": 22,
    "start_time": "2021-07-08T14:42:14.874Z"
   },
   {
    "duration": 7,
    "start_time": "2021-07-08T14:42:14.899Z"
   },
   {
    "duration": 17,
    "start_time": "2021-07-08T14:42:14.908Z"
   },
   {
    "duration": 60,
    "start_time": "2021-07-08T14:42:14.929Z"
   },
   {
    "duration": 5,
    "start_time": "2021-07-08T14:42:14.991Z"
   },
   {
    "duration": 22,
    "start_time": "2021-07-08T14:42:14.998Z"
   },
   {
    "duration": 14,
    "start_time": "2021-07-08T14:42:15.022Z"
   },
   {
    "duration": 10,
    "start_time": "2021-07-08T14:42:15.039Z"
   },
   {
    "duration": 6,
    "start_time": "2021-07-08T14:42:15.068Z"
   },
   {
    "duration": 8,
    "start_time": "2021-07-08T14:42:15.076Z"
   },
   {
    "duration": 18,
    "start_time": "2021-07-08T14:42:15.086Z"
   },
   {
    "duration": 8,
    "start_time": "2021-07-08T14:42:15.106Z"
   },
   {
    "duration": 61,
    "start_time": "2021-07-08T14:42:15.116Z"
   },
   {
    "duration": 10,
    "start_time": "2021-07-08T14:42:15.179Z"
   },
   {
    "duration": 18,
    "start_time": "2021-07-08T14:42:15.191Z"
   },
   {
    "duration": 11,
    "start_time": "2021-07-08T14:42:15.211Z"
   },
   {
    "duration": 15,
    "start_time": "2021-07-08T14:42:15.224Z"
   },
   {
    "duration": 20,
    "start_time": "2021-07-08T14:42:15.267Z"
   },
   {
    "duration": 5,
    "start_time": "2021-07-08T14:42:15.296Z"
   },
   {
    "duration": 11,
    "start_time": "2021-07-08T14:42:15.304Z"
   },
   {
    "duration": 13,
    "start_time": "2021-07-08T14:42:15.318Z"
   },
   {
    "duration": 37,
    "start_time": "2021-07-08T14:42:15.333Z"
   },
   {
    "duration": 17,
    "start_time": "2021-07-08T14:42:15.372Z"
   },
   {
    "duration": 19,
    "start_time": "2021-07-08T14:42:15.391Z"
   },
   {
    "duration": 13,
    "start_time": "2021-07-08T14:42:15.413Z"
   },
   {
    "duration": 522,
    "start_time": "2021-07-08T14:42:15.428Z"
   },
   {
    "duration": 27,
    "start_time": "2021-07-08T14:42:15.952Z"
   },
   {
    "duration": 130,
    "start_time": "2021-07-08T14:42:15.981Z"
   },
   {
    "duration": 7,
    "start_time": "2021-07-08T14:42:16.113Z"
   },
   {
    "duration": 16,
    "start_time": "2021-07-08T14:42:16.122Z"
   },
   {
    "duration": 38,
    "start_time": "2021-07-08T14:42:16.141Z"
   },
   {
    "duration": 541,
    "start_time": "2021-07-08T14:42:16.181Z"
   },
   {
    "duration": 1551,
    "start_time": "2021-07-08T14:42:16.725Z"
   },
   {
    "duration": -89,
    "start_time": "2021-07-08T14:42:18.368Z"
   },
   {
    "duration": -94,
    "start_time": "2021-07-08T14:42:18.376Z"
   },
   {
    "duration": -100,
    "start_time": "2021-07-08T14:42:18.384Z"
   },
   {
    "duration": -106,
    "start_time": "2021-07-08T14:42:18.392Z"
   },
   {
    "duration": -111,
    "start_time": "2021-07-08T14:42:18.400Z"
   },
   {
    "duration": -116,
    "start_time": "2021-07-08T14:42:18.407Z"
   },
   {
    "duration": -122,
    "start_time": "2021-07-08T14:42:18.415Z"
   },
   {
    "duration": -127,
    "start_time": "2021-07-08T14:42:18.422Z"
   },
   {
    "duration": -130,
    "start_time": "2021-07-08T14:42:18.428Z"
   },
   {
    "duration": -135,
    "start_time": "2021-07-08T14:42:18.435Z"
   },
   {
    "duration": -139,
    "start_time": "2021-07-08T14:42:18.441Z"
   },
   {
    "duration": -144,
    "start_time": "2021-07-08T14:42:18.448Z"
   },
   {
    "duration": -148,
    "start_time": "2021-07-08T14:42:18.454Z"
   },
   {
    "duration": -152,
    "start_time": "2021-07-08T14:42:18.461Z"
   },
   {
    "duration": -170,
    "start_time": "2021-07-08T14:42:18.481Z"
   },
   {
    "duration": -178,
    "start_time": "2021-07-08T14:42:18.490Z"
   },
   {
    "duration": -133,
    "start_time": "2021-07-08T14:42:18.499Z"
   },
   {
    "duration": -138,
    "start_time": "2021-07-08T14:42:18.507Z"
   },
   {
    "duration": -144,
    "start_time": "2021-07-08T14:42:18.515Z"
   },
   {
    "duration": -149,
    "start_time": "2021-07-08T14:42:18.522Z"
   },
   {
    "duration": -155,
    "start_time": "2021-07-08T14:42:18.530Z"
   },
   {
    "duration": -160,
    "start_time": "2021-07-08T14:42:18.538Z"
   },
   {
    "duration": 4615,
    "start_time": "2021-07-08T14:45:13.637Z"
   },
   {
    "duration": 3398,
    "start_time": "2021-07-08T14:45:35.775Z"
   },
   {
    "duration": 9348,
    "start_time": "2021-07-08T14:46:23.430Z"
   },
   {
    "duration": 14230,
    "start_time": "2021-07-08T14:46:32.780Z"
   },
   {
    "duration": 4143,
    "start_time": "2021-07-08T14:46:54.785Z"
   },
   {
    "duration": 6886,
    "start_time": "2021-07-08T14:47:04.991Z"
   },
   {
    "duration": 4250,
    "start_time": "2021-07-08T14:47:25.212Z"
   },
   {
    "duration": 3935,
    "start_time": "2021-07-08T14:47:29.465Z"
   },
   {
    "duration": 3938,
    "start_time": "2021-07-08T14:47:33.403Z"
   },
   {
    "duration": 3804,
    "start_time": "2021-07-08T14:47:37.344Z"
   },
   {
    "duration": 2017,
    "start_time": "2021-07-08T14:47:41.150Z"
   },
   {
    "duration": 487,
    "start_time": "2021-07-08T14:47:43.169Z"
   },
   {
    "duration": 264,
    "start_time": "2021-07-08T14:47:43.659Z"
   },
   {
    "duration": 69,
    "start_time": "2021-07-08T14:47:43.929Z"
   },
   {
    "duration": 37,
    "start_time": "2021-07-08T14:47:44.002Z"
   },
   {
    "duration": 41,
    "start_time": "2021-07-08T14:47:44.042Z"
   },
   {
    "duration": 17,
    "start_time": "2021-07-08T14:47:44.086Z"
   },
   {
    "duration": 63,
    "start_time": "2021-07-08T14:47:44.106Z"
   },
   {
    "duration": 21,
    "start_time": "2021-07-08T14:47:44.172Z"
   },
   {
    "duration": 23,
    "start_time": "2021-07-08T14:47:44.196Z"
   },
   {
    "duration": 102,
    "start_time": "2021-07-08T14:47:44.222Z"
   },
   {
    "duration": 15,
    "start_time": "2021-07-08T14:47:44.327Z"
   },
   {
    "duration": 39,
    "start_time": "2021-07-08T14:47:44.345Z"
   },
   {
    "duration": 20,
    "start_time": "2021-07-08T14:47:44.387Z"
   },
   {
    "duration": 22,
    "start_time": "2021-07-08T14:47:44.410Z"
   },
   {
    "duration": 54,
    "start_time": "2021-07-08T14:47:44.435Z"
   },
   {
    "duration": 27,
    "start_time": "2021-07-08T14:47:44.492Z"
   },
   {
    "duration": 16,
    "start_time": "2021-07-08T14:47:44.521Z"
   },
   {
    "duration": 39,
    "start_time": "2021-07-08T14:47:44.544Z"
   },
   {
    "duration": 10,
    "start_time": "2021-07-08T14:47:44.587Z"
   },
   {
    "duration": 19,
    "start_time": "2021-07-08T14:47:44.601Z"
   },
   {
    "duration": 44,
    "start_time": "2021-07-08T14:47:44.623Z"
   },
   {
    "duration": 17,
    "start_time": "2021-07-08T14:47:44.670Z"
   },
   {
    "duration": 18,
    "start_time": "2021-07-08T14:47:44.690Z"
   },
   {
    "duration": 56,
    "start_time": "2021-07-08T14:47:44.711Z"
   },
   {
    "duration": 10,
    "start_time": "2021-07-08T14:47:44.771Z"
   },
   {
    "duration": 33,
    "start_time": "2021-07-08T14:47:44.784Z"
   },
   {
    "duration": 20,
    "start_time": "2021-07-08T14:47:44.819Z"
   },
   {
    "duration": 24,
    "start_time": "2021-07-08T14:47:44.841Z"
   },
   {
    "duration": 18,
    "start_time": "2021-07-08T14:47:44.869Z"
   },
   {
    "duration": 66,
    "start_time": "2021-07-08T14:47:44.890Z"
   },
   {
    "duration": 50,
    "start_time": "2021-07-08T14:47:44.958Z"
   },
   {
    "duration": 32,
    "start_time": "2021-07-08T14:47:45.011Z"
   },
   {
    "duration": 27,
    "start_time": "2021-07-08T14:47:45.045Z"
   },
   {
    "duration": 22,
    "start_time": "2021-07-08T14:47:45.075Z"
   },
   {
    "duration": 17,
    "start_time": "2021-07-08T14:47:45.100Z"
   },
   {
    "duration": 56,
    "start_time": "2021-07-08T14:47:45.120Z"
   },
   {
    "duration": 36,
    "start_time": "2021-07-08T14:47:45.178Z"
   },
   {
    "duration": 52,
    "start_time": "2021-07-08T14:47:45.216Z"
   },
   {
    "duration": 19,
    "start_time": "2021-07-08T14:47:45.271Z"
   },
   {
    "duration": 26,
    "start_time": "2021-07-08T14:47:45.293Z"
   },
   {
    "duration": 69,
    "start_time": "2021-07-08T14:47:45.322Z"
   },
   {
    "duration": 17,
    "start_time": "2021-07-08T14:47:45.394Z"
   },
   {
    "duration": 45,
    "start_time": "2021-07-08T14:47:45.414Z"
   },
   {
    "duration": 20,
    "start_time": "2021-07-08T14:47:45.462Z"
   },
   {
    "duration": 21,
    "start_time": "2021-07-08T14:47:45.484Z"
   },
   {
    "duration": 6,
    "start_time": "2021-07-08T14:47:45.507Z"
   },
   {
    "duration": 31,
    "start_time": "2021-07-08T14:47:45.515Z"
   },
   {
    "duration": 31,
    "start_time": "2021-07-08T14:47:45.567Z"
   },
   {
    "duration": 4,
    "start_time": "2021-07-08T14:47:45.601Z"
   },
   {
    "duration": 15,
    "start_time": "2021-07-08T14:47:45.607Z"
   },
   {
    "duration": 13,
    "start_time": "2021-07-08T14:47:45.625Z"
   },
   {
    "duration": 9,
    "start_time": "2021-07-08T14:47:45.640Z"
   },
   {
    "duration": 6,
    "start_time": "2021-07-08T14:47:45.667Z"
   },
   {
    "duration": 13,
    "start_time": "2021-07-08T14:47:45.675Z"
   },
   {
    "duration": 24,
    "start_time": "2021-07-08T14:47:45.690Z"
   },
   {
    "duration": 13,
    "start_time": "2021-07-08T14:47:45.716Z"
   },
   {
    "duration": 44,
    "start_time": "2021-07-08T14:47:45.731Z"
   },
   {
    "duration": 18,
    "start_time": "2021-07-08T14:47:45.777Z"
   },
   {
    "duration": 18,
    "start_time": "2021-07-08T14:47:45.797Z"
   },
   {
    "duration": 12,
    "start_time": "2021-07-08T14:47:45.817Z"
   },
   {
    "duration": 11,
    "start_time": "2021-07-08T14:47:45.832Z"
   },
   {
    "duration": 20,
    "start_time": "2021-07-08T14:47:45.868Z"
   },
   {
    "duration": 5,
    "start_time": "2021-07-08T14:47:45.896Z"
   },
   {
    "duration": 13,
    "start_time": "2021-07-08T14:47:45.904Z"
   },
   {
    "duration": 11,
    "start_time": "2021-07-08T14:47:45.919Z"
   },
   {
    "duration": 42,
    "start_time": "2021-07-08T14:47:45.933Z"
   },
   {
    "duration": 18,
    "start_time": "2021-07-08T14:47:45.978Z"
   },
   {
    "duration": 27,
    "start_time": "2021-07-08T14:47:45.999Z"
   },
   {
    "duration": 16,
    "start_time": "2021-07-08T14:47:46.028Z"
   },
   {
    "duration": 422,
    "start_time": "2021-07-08T14:47:46.047Z"
   },
   {
    "duration": 21,
    "start_time": "2021-07-08T14:47:46.472Z"
   },
   {
    "duration": 773,
    "start_time": "2021-07-08T14:47:46.495Z"
   },
   {
    "duration": 7,
    "start_time": "2021-07-08T14:47:47.270Z"
   },
   {
    "duration": 14,
    "start_time": "2021-07-08T14:47:47.280Z"
   },
   {
    "duration": 23,
    "start_time": "2021-07-08T14:47:47.297Z"
   },
   {
    "duration": 369,
    "start_time": "2021-07-08T14:47:47.323Z"
   },
   {
    "duration": 754,
    "start_time": "2021-07-08T14:47:47.695Z"
   },
   {
    "duration": 21,
    "start_time": "2021-07-08T14:47:48.451Z"
   },
   {
    "duration": 22,
    "start_time": "2021-07-08T14:47:48.474Z"
   },
   {
    "duration": 13,
    "start_time": "2021-07-08T14:47:48.498Z"
   },
   {
    "duration": 25,
    "start_time": "2021-07-08T14:47:48.514Z"
   },
   {
    "duration": 18,
    "start_time": "2021-07-08T14:47:48.541Z"
   },
   {
    "duration": 368,
    "start_time": "2021-07-08T14:47:48.562Z"
   },
   {
    "duration": 751,
    "start_time": "2021-07-08T14:47:48.932Z"
   },
   {
    "duration": 10,
    "start_time": "2021-07-08T14:47:49.685Z"
   },
   {
    "duration": 13,
    "start_time": "2021-07-08T14:47:49.698Z"
   },
   {
    "duration": 15,
    "start_time": "2021-07-08T14:47:49.713Z"
   },
   {
    "duration": 38,
    "start_time": "2021-07-08T14:47:49.731Z"
   },
   {
    "duration": 9,
    "start_time": "2021-07-08T14:47:49.772Z"
   },
   {
    "duration": 231,
    "start_time": "2021-07-08T14:47:49.784Z"
   },
   {
    "duration": 400,
    "start_time": "2021-07-08T14:47:50.018Z"
   },
   {
    "duration": 10,
    "start_time": "2021-07-08T14:47:50.421Z"
   },
   {
    "duration": 37,
    "start_time": "2021-07-08T14:47:50.434Z"
   },
   {
    "duration": 9,
    "start_time": "2021-07-08T14:47:50.473Z"
   },
   {
    "duration": 15,
    "start_time": "2021-07-08T14:47:50.485Z"
   },
   {
    "duration": 20,
    "start_time": "2021-07-08T14:47:50.502Z"
   },
   {
    "duration": 151,
    "start_time": "2021-07-08T14:47:50.524Z"
   },
   {
    "duration": 9,
    "start_time": "2021-07-08T14:47:50.678Z"
   },
   {
    "duration": 13,
    "start_time": "2021-07-08T14:47:50.690Z"
   },
   {
    "duration": 5,
    "start_time": "2021-07-08T16:31:59.921Z"
   },
   {
    "duration": 7,
    "start_time": "2021-07-08T16:31:59.929Z"
   },
   {
    "duration": 6,
    "start_time": "2021-07-08T16:31:59.939Z"
   },
   {
    "duration": 10,
    "start_time": "2021-07-08T16:31:59.948Z"
   },
   {
    "duration": 1684,
    "start_time": "2021-07-08T16:31:59.960Z"
   },
   {
    "duration": 631,
    "start_time": "2021-07-08T16:32:01.648Z"
   },
   {
    "duration": 23,
    "start_time": "2021-07-08T16:32:02.283Z"
   },
   {
    "duration": 23,
    "start_time": "2021-07-08T16:32:02.309Z"
   },
   {
    "duration": 64,
    "start_time": "2021-07-08T16:32:02.335Z"
   },
   {
    "duration": 19,
    "start_time": "2021-07-08T16:32:02.402Z"
   },
   {
    "duration": 45,
    "start_time": "2021-07-08T16:32:02.424Z"
   },
   {
    "duration": 37,
    "start_time": "2021-07-08T16:32:02.472Z"
   },
   {
    "duration": 15,
    "start_time": "2021-07-08T16:32:02.512Z"
   },
   {
    "duration": 45,
    "start_time": "2021-07-08T16:32:02.529Z"
   },
   {
    "duration": 128,
    "start_time": "2021-07-08T16:32:02.577Z"
   },
   {
    "duration": 9,
    "start_time": "2021-07-08T16:32:02.708Z"
   },
   {
    "duration": 13,
    "start_time": "2021-07-08T16:32:02.725Z"
   },
   {
    "duration": 15,
    "start_time": "2021-07-08T16:32:02.771Z"
   },
   {
    "duration": 18,
    "start_time": "2021-07-08T16:32:02.789Z"
   },
   {
    "duration": 76,
    "start_time": "2021-07-08T16:32:02.810Z"
   },
   {
    "duration": 42,
    "start_time": "2021-07-08T16:32:02.889Z"
   },
   {
    "duration": 44,
    "start_time": "2021-07-08T16:32:02.934Z"
   },
   {
    "duration": 19,
    "start_time": "2021-07-08T16:32:02.982Z"
   },
   {
    "duration": 12,
    "start_time": "2021-07-08T16:32:03.003Z"
   },
   {
    "duration": 63,
    "start_time": "2021-07-08T16:32:03.017Z"
   },
   {
    "duration": 8,
    "start_time": "2021-07-08T16:32:03.084Z"
   },
   {
    "duration": 16,
    "start_time": "2021-07-08T16:32:03.095Z"
   },
   {
    "duration": 17,
    "start_time": "2021-07-08T16:32:03.114Z"
   },
   {
    "duration": 50,
    "start_time": "2021-07-08T16:32:03.134Z"
   },
   {
    "duration": 11,
    "start_time": "2021-07-08T16:32:03.186Z"
   },
   {
    "duration": 10,
    "start_time": "2021-07-08T16:32:03.200Z"
   },
   {
    "duration": 13,
    "start_time": "2021-07-08T16:32:03.212Z"
   },
   {
    "duration": 41,
    "start_time": "2021-07-08T16:32:03.227Z"
   },
   {
    "duration": 7,
    "start_time": "2021-07-08T16:32:03.272Z"
   },
   {
    "duration": 102,
    "start_time": "2021-07-08T16:32:03.282Z"
   },
   {
    "duration": 43,
    "start_time": "2021-07-08T16:32:03.387Z"
   },
   {
    "duration": 60,
    "start_time": "2021-07-08T16:32:03.433Z"
   },
   {
    "duration": 10,
    "start_time": "2021-07-08T16:32:03.497Z"
   },
   {
    "duration": 20,
    "start_time": "2021-07-08T16:32:03.509Z"
   },
   {
    "duration": 44,
    "start_time": "2021-07-08T16:32:03.532Z"
   },
   {
    "duration": 36,
    "start_time": "2021-07-08T16:32:03.579Z"
   },
   {
    "duration": 58,
    "start_time": "2021-07-08T16:32:03.618Z"
   },
   {
    "duration": 30,
    "start_time": "2021-07-08T16:32:03.679Z"
   },
   {
    "duration": 17,
    "start_time": "2021-07-08T16:32:03.712Z"
   },
   {
    "duration": 22,
    "start_time": "2021-07-08T16:32:03.769Z"
   },
   {
    "duration": 47,
    "start_time": "2021-07-08T16:32:03.794Z"
   },
   {
    "duration": 17,
    "start_time": "2021-07-08T16:32:03.874Z"
   },
   {
    "duration": 11,
    "start_time": "2021-07-08T16:32:03.895Z"
   },
   {
    "duration": 18,
    "start_time": "2021-07-08T16:32:03.908Z"
   },
   {
    "duration": 59,
    "start_time": "2021-07-08T16:32:03.928Z"
   },
   {
    "duration": 6,
    "start_time": "2021-07-08T16:32:03.989Z"
   },
   {
    "duration": 14,
    "start_time": "2021-07-08T16:32:03.997Z"
   },
   {
    "duration": 65,
    "start_time": "2021-07-08T16:32:04.013Z"
   },
   {
    "duration": 5,
    "start_time": "2021-07-08T16:32:04.082Z"
   },
   {
    "duration": 15,
    "start_time": "2021-07-08T16:32:04.089Z"
   },
   {
    "duration": 5,
    "start_time": "2021-07-08T16:32:04.106Z"
   },
   {
    "duration": 6,
    "start_time": "2021-07-08T16:32:04.114Z"
   },
   {
    "duration": 6,
    "start_time": "2021-07-08T16:32:04.122Z"
   },
   {
    "duration": 41,
    "start_time": "2021-07-08T16:32:04.131Z"
   },
   {
    "duration": 36,
    "start_time": "2021-07-08T16:32:04.177Z"
   },
   {
    "duration": 20,
    "start_time": "2021-07-08T16:32:04.215Z"
   },
   {
    "duration": 33,
    "start_time": "2021-07-08T16:32:04.238Z"
   },
   {
    "duration": 11,
    "start_time": "2021-07-08T16:32:04.274Z"
   },
   {
    "duration": 14,
    "start_time": "2021-07-08T16:32:04.288Z"
   },
   {
    "duration": 11,
    "start_time": "2021-07-08T16:32:04.305Z"
   },
   {
    "duration": 58,
    "start_time": "2021-07-08T16:32:04.319Z"
   },
   {
    "duration": 21,
    "start_time": "2021-07-08T16:32:04.381Z"
   },
   {
    "duration": 5,
    "start_time": "2021-07-08T16:32:04.404Z"
   },
   {
    "duration": 6,
    "start_time": "2021-07-08T16:32:04.411Z"
   },
   {
    "duration": 8,
    "start_time": "2021-07-08T16:32:04.420Z"
   },
   {
    "duration": 44,
    "start_time": "2021-07-08T16:32:04.431Z"
   },
   {
    "duration": 17,
    "start_time": "2021-07-08T16:32:04.481Z"
   },
   {
    "duration": 16,
    "start_time": "2021-07-08T16:32:04.500Z"
   },
   {
    "duration": 49,
    "start_time": "2021-07-08T16:32:04.518Z"
   },
   {
    "duration": 541,
    "start_time": "2021-07-08T16:32:04.570Z"
   },
   {
    "duration": 18,
    "start_time": "2021-07-08T16:32:05.113Z"
   },
   {
    "duration": 140,
    "start_time": "2021-07-08T16:32:05.133Z"
   },
   {
    "duration": 9,
    "start_time": "2021-07-08T16:32:05.276Z"
   },
   {
    "duration": 12,
    "start_time": "2021-07-08T16:32:05.288Z"
   },
   {
    "duration": 20,
    "start_time": "2021-07-08T16:32:05.303Z"
   },
   {
    "duration": 585,
    "start_time": "2021-07-08T16:32:05.326Z"
   },
   {
    "duration": 983,
    "start_time": "2021-07-08T16:32:05.914Z"
   },
   {
    "duration": -30,
    "start_time": "2021-07-08T16:32:06.929Z"
   },
   {
    "duration": -38,
    "start_time": "2021-07-08T16:32:06.939Z"
   },
   {
    "duration": -44,
    "start_time": "2021-07-08T16:32:06.946Z"
   },
   {
    "duration": -51,
    "start_time": "2021-07-08T16:32:06.955Z"
   },
   {
    "duration": -61,
    "start_time": "2021-07-08T16:32:06.966Z"
   },
   {
    "duration": -66,
    "start_time": "2021-07-08T16:32:06.973Z"
   },
   {
    "duration": -74,
    "start_time": "2021-07-08T16:32:06.983Z"
   },
   {
    "duration": -79,
    "start_time": "2021-07-08T16:32:06.989Z"
   },
   {
    "duration": -88,
    "start_time": "2021-07-08T16:32:06.999Z"
   },
   {
    "duration": -93,
    "start_time": "2021-07-08T16:32:07.006Z"
   },
   {
    "duration": -101,
    "start_time": "2021-07-08T16:32:07.015Z"
   },
   {
    "duration": -106,
    "start_time": "2021-07-08T16:32:07.022Z"
   },
   {
    "duration": -130,
    "start_time": "2021-07-08T16:32:07.047Z"
   },
   {
    "duration": -136,
    "start_time": "2021-07-08T16:32:07.054Z"
   },
   {
    "duration": -143,
    "start_time": "2021-07-08T16:32:07.063Z"
   },
   {
    "duration": -149,
    "start_time": "2021-07-08T16:32:07.070Z"
   },
   {
    "duration": -157,
    "start_time": "2021-07-08T16:32:07.079Z"
   },
   {
    "duration": -161,
    "start_time": "2021-07-08T16:32:07.085Z"
   },
   {
    "duration": -171,
    "start_time": "2021-07-08T16:32:07.096Z"
   },
   {
    "duration": -175,
    "start_time": "2021-07-08T16:32:07.101Z"
   },
   {
    "duration": -184,
    "start_time": "2021-07-08T16:32:07.111Z"
   },
   {
    "duration": -190,
    "start_time": "2021-07-08T16:32:07.118Z"
   },
   {
    "duration": 4,
    "start_time": "2021-07-08T16:33:09.993Z"
   },
   {
    "duration": 21,
    "start_time": "2021-07-08T16:33:09.999Z"
   },
   {
    "duration": 128871,
    "start_time": "2021-07-08T16:33:10.023Z"
   },
   {
    "duration": 1920,
    "start_time": "2021-07-08T16:35:18.902Z"
   },
   {
    "duration": 657,
    "start_time": "2021-07-08T16:35:20.824Z"
   },
   {
    "duration": 25,
    "start_time": "2021-07-08T16:35:21.483Z"
   },
   {
    "duration": 29,
    "start_time": "2021-07-08T16:35:21.514Z"
   },
   {
    "duration": 67,
    "start_time": "2021-07-08T16:35:21.547Z"
   },
   {
    "duration": 18,
    "start_time": "2021-07-08T16:35:21.616Z"
   },
   {
    "duration": 42,
    "start_time": "2021-07-08T16:35:21.636Z"
   },
   {
    "duration": 36,
    "start_time": "2021-07-08T16:35:21.684Z"
   },
   {
    "duration": 15,
    "start_time": "2021-07-08T16:35:21.722Z"
   },
   {
    "duration": 20,
    "start_time": "2021-07-08T16:35:21.769Z"
   },
   {
    "duration": 135,
    "start_time": "2021-07-08T16:35:21.792Z"
   },
   {
    "duration": 9,
    "start_time": "2021-07-08T16:35:21.929Z"
   },
   {
    "duration": 33,
    "start_time": "2021-07-08T16:35:21.940Z"
   },
   {
    "duration": 17,
    "start_time": "2021-07-08T16:35:21.978Z"
   },
   {
    "duration": 23,
    "start_time": "2021-07-08T16:35:21.998Z"
   },
   {
    "duration": 77,
    "start_time": "2021-07-08T16:35:22.024Z"
   },
   {
    "duration": 48,
    "start_time": "2021-07-08T16:35:22.104Z"
   },
   {
    "duration": 36,
    "start_time": "2021-07-08T16:35:22.155Z"
   },
   {
    "duration": 21,
    "start_time": "2021-07-08T16:35:22.201Z"
   },
   {
    "duration": 11,
    "start_time": "2021-07-08T16:35:22.226Z"
   },
   {
    "duration": 26,
    "start_time": "2021-07-08T16:35:22.270Z"
   },
   {
    "duration": 8,
    "start_time": "2021-07-08T16:35:22.298Z"
   },
   {
    "duration": 15,
    "start_time": "2021-07-08T16:35:22.309Z"
   },
   {
    "duration": 57,
    "start_time": "2021-07-08T16:35:22.327Z"
   },
   {
    "duration": 18,
    "start_time": "2021-07-08T16:35:22.386Z"
   },
   {
    "duration": 10,
    "start_time": "2021-07-08T16:35:22.407Z"
   },
   {
    "duration": 51,
    "start_time": "2021-07-08T16:35:22.419Z"
   },
   {
    "duration": 16,
    "start_time": "2021-07-08T16:35:22.473Z"
   },
   {
    "duration": 10,
    "start_time": "2021-07-08T16:35:22.492Z"
   },
   {
    "duration": 6,
    "start_time": "2021-07-08T16:35:22.505Z"
   },
   {
    "duration": 111,
    "start_time": "2021-07-08T16:35:22.514Z"
   },
   {
    "duration": 61,
    "start_time": "2021-07-08T16:35:22.627Z"
   },
   {
    "duration": 30,
    "start_time": "2021-07-08T16:35:22.691Z"
   },
   {
    "duration": 8,
    "start_time": "2021-07-08T16:35:22.723Z"
   },
   {
    "duration": 55,
    "start_time": "2021-07-08T16:35:22.733Z"
   },
   {
    "duration": 11,
    "start_time": "2021-07-08T16:35:22.790Z"
   },
   {
    "duration": 35,
    "start_time": "2021-07-08T16:35:22.804Z"
   },
   {
    "duration": 41,
    "start_time": "2021-07-08T16:35:22.867Z"
   },
   {
    "duration": 27,
    "start_time": "2021-07-08T16:35:22.911Z"
   },
   {
    "duration": 45,
    "start_time": "2021-07-08T16:35:22.941Z"
   },
   {
    "duration": 24,
    "start_time": "2021-07-08T16:35:22.988Z"
   },
   {
    "duration": 80,
    "start_time": "2021-07-08T16:35:23.014Z"
   },
   {
    "duration": 14,
    "start_time": "2021-07-08T16:35:23.097Z"
   },
   {
    "duration": 10,
    "start_time": "2021-07-08T16:35:23.113Z"
   },
   {
    "duration": 17,
    "start_time": "2021-07-08T16:35:23.126Z"
   },
   {
    "duration": 46,
    "start_time": "2021-07-08T16:35:23.145Z"
   },
   {
    "duration": 6,
    "start_time": "2021-07-08T16:35:23.194Z"
   },
   {
    "duration": 17,
    "start_time": "2021-07-08T16:35:23.202Z"
   },
   {
    "duration": 69,
    "start_time": "2021-07-08T16:35:23.221Z"
   },
   {
    "duration": 6,
    "start_time": "2021-07-08T16:35:23.293Z"
   },
   {
    "duration": 21,
    "start_time": "2021-07-08T16:35:23.302Z"
   },
   {
    "duration": 5,
    "start_time": "2021-07-08T16:35:23.326Z"
   },
   {
    "duration": 37,
    "start_time": "2021-07-08T16:35:23.334Z"
   },
   {
    "duration": 13,
    "start_time": "2021-07-08T16:35:23.374Z"
   },
   {
    "duration": 9,
    "start_time": "2021-07-08T16:35:23.390Z"
   },
   {
    "duration": 24,
    "start_time": "2021-07-08T16:35:23.402Z"
   },
   {
    "duration": 46,
    "start_time": "2021-07-08T16:35:23.429Z"
   },
   {
    "duration": 19,
    "start_time": "2021-07-08T16:35:23.479Z"
   },
   {
    "duration": 5,
    "start_time": "2021-07-08T16:35:23.501Z"
   },
   {
    "duration": 21,
    "start_time": "2021-07-08T16:35:23.509Z"
   },
   {
    "duration": 48,
    "start_time": "2021-07-08T16:35:23.532Z"
   },
   {
    "duration": 18,
    "start_time": "2021-07-08T16:35:23.584Z"
   },
   {
    "duration": 19,
    "start_time": "2021-07-08T16:35:23.604Z"
   },
   {
    "duration": 7,
    "start_time": "2021-07-08T16:35:23.671Z"
   },
   {
    "duration": 7,
    "start_time": "2021-07-08T16:35:23.682Z"
   },
   {
    "duration": 20,
    "start_time": "2021-07-08T16:35:23.691Z"
   },
   {
    "duration": 9,
    "start_time": "2021-07-08T16:35:23.713Z"
   },
   {
    "duration": 45,
    "start_time": "2021-07-08T16:35:23.725Z"
   },
   {
    "duration": 21,
    "start_time": "2021-07-08T16:35:23.773Z"
   },
   {
    "duration": 13,
    "start_time": "2021-07-08T16:35:23.797Z"
   },
   {
    "duration": 543,
    "start_time": "2021-07-08T16:35:23.813Z"
   },
   {
    "duration": 28,
    "start_time": "2021-07-08T16:35:24.359Z"
   },
   {
    "duration": 158,
    "start_time": "2021-07-08T16:35:24.389Z"
   },
   {
    "duration": 7,
    "start_time": "2021-07-08T16:35:24.549Z"
   },
   {
    "duration": 15,
    "start_time": "2021-07-08T16:35:24.566Z"
   },
   {
    "duration": 16,
    "start_time": "2021-07-08T16:35:24.584Z"
   },
   {
    "duration": 430,
    "start_time": "2021-07-08T16:35:24.603Z"
   },
   {
    "duration": 808,
    "start_time": "2021-07-08T16:35:25.035Z"
   },
   {
    "duration": 22,
    "start_time": "2021-07-08T16:35:25.845Z"
   },
   {
    "duration": 15,
    "start_time": "2021-07-08T16:35:25.871Z"
   },
   {
    "duration": 13,
    "start_time": "2021-07-08T16:35:25.889Z"
   },
   {
    "duration": 16,
    "start_time": "2021-07-08T16:35:25.904Z"
   },
   {
    "duration": 22,
    "start_time": "2021-07-08T16:35:25.923Z"
   },
   {
    "duration": 527,
    "start_time": "2021-07-08T16:35:25.968Z"
   },
   {
    "duration": 853,
    "start_time": "2021-07-08T16:35:26.499Z"
   },
   {
    "duration": 19,
    "start_time": "2021-07-08T16:35:27.355Z"
   },
   {
    "duration": 21,
    "start_time": "2021-07-08T16:35:27.377Z"
   },
   {
    "duration": 18,
    "start_time": "2021-07-08T16:35:27.400Z"
   },
   {
    "duration": 12,
    "start_time": "2021-07-08T16:35:27.420Z"
   },
   {
    "duration": 31,
    "start_time": "2021-07-08T16:35:27.435Z"
   },
   {
    "duration": 246,
    "start_time": "2021-07-08T16:35:27.469Z"
   },
   {
    "duration": 443,
    "start_time": "2021-07-08T16:35:27.717Z"
   },
   {
    "duration": 15,
    "start_time": "2021-07-08T16:35:28.162Z"
   },
   {
    "duration": 19,
    "start_time": "2021-07-08T16:35:28.181Z"
   },
   {
    "duration": 8,
    "start_time": "2021-07-08T16:35:28.203Z"
   },
   {
    "duration": 15,
    "start_time": "2021-07-08T16:35:28.213Z"
   },
   {
    "duration": 61,
    "start_time": "2021-07-08T16:35:28.230Z"
   },
   {
    "duration": 162,
    "start_time": "2021-07-08T16:35:28.294Z"
   },
   {
    "duration": 19,
    "start_time": "2021-07-08T16:35:28.458Z"
   },
   {
    "duration": 14,
    "start_time": "2021-07-08T16:35:28.480Z"
   },
   {
    "duration": 11,
    "start_time": "2021-07-08T18:58:11.812Z"
   },
   {
    "duration": 4,
    "start_time": "2021-07-08T18:58:18.673Z"
   },
   {
    "duration": 15,
    "start_time": "2021-07-08T18:58:18.682Z"
   },
   {
    "duration": 111134,
    "start_time": "2021-07-08T18:58:18.700Z"
   },
   {
    "duration": 5,
    "start_time": "2021-07-08T19:00:09.837Z"
   },
   {
    "duration": 627,
    "start_time": "2021-07-08T19:00:09.845Z"
   },
   {
    "duration": 23,
    "start_time": "2021-07-08T19:00:10.475Z"
   },
   {
    "duration": 17,
    "start_time": "2021-07-08T19:00:10.500Z"
   },
   {
    "duration": 63,
    "start_time": "2021-07-08T19:00:10.520Z"
   },
   {
    "duration": 18,
    "start_time": "2021-07-08T19:00:10.586Z"
   },
   {
    "duration": 16,
    "start_time": "2021-07-08T19:00:10.608Z"
   },
   {
    "duration": 62,
    "start_time": "2021-07-08T19:00:10.627Z"
   },
   {
    "duration": 22,
    "start_time": "2021-07-08T19:00:10.692Z"
   },
   {
    "duration": 50,
    "start_time": "2021-07-08T19:00:10.717Z"
   },
   {
    "duration": 175,
    "start_time": "2021-07-08T19:00:10.770Z"
   },
   {
    "duration": 21,
    "start_time": "2021-07-08T19:00:10.948Z"
   },
   {
    "duration": 23,
    "start_time": "2021-07-08T19:00:10.972Z"
   },
   {
    "duration": 22,
    "start_time": "2021-07-08T19:00:10.997Z"
   },
   {
    "duration": 21,
    "start_time": "2021-07-08T19:00:11.022Z"
   },
   {
    "duration": 45,
    "start_time": "2021-07-08T19:00:11.045Z"
   },
   {
    "duration": 76,
    "start_time": "2021-07-08T19:00:11.093Z"
   },
   {
    "duration": 15,
    "start_time": "2021-07-08T19:00:11.172Z"
   },
   {
    "duration": 26,
    "start_time": "2021-07-08T19:00:11.190Z"
   },
   {
    "duration": 13,
    "start_time": "2021-07-08T19:00:11.219Z"
   },
   {
    "duration": 21,
    "start_time": "2021-07-08T19:00:11.268Z"
   },
   {
    "duration": 10,
    "start_time": "2021-07-08T19:00:11.292Z"
   },
   {
    "duration": 28,
    "start_time": "2021-07-08T19:00:11.304Z"
   },
   {
    "duration": 50,
    "start_time": "2021-07-08T19:00:11.334Z"
   },
   {
    "duration": 23,
    "start_time": "2021-07-08T19:00:11.392Z"
   },
   {
    "duration": 12,
    "start_time": "2021-07-08T19:00:11.419Z"
   },
   {
    "duration": 42,
    "start_time": "2021-07-08T19:00:11.434Z"
   },
   {
    "duration": 17,
    "start_time": "2021-07-08T19:00:11.478Z"
   },
   {
    "duration": 12,
    "start_time": "2021-07-08T19:00:11.498Z"
   },
   {
    "duration": 26,
    "start_time": "2021-07-08T19:00:11.513Z"
   },
   {
    "duration": 107,
    "start_time": "2021-07-08T19:00:11.541Z"
   },
   {
    "duration": 72,
    "start_time": "2021-07-08T19:00:11.651Z"
   },
   {
    "duration": 55,
    "start_time": "2021-07-08T19:00:11.726Z"
   },
   {
    "duration": 10,
    "start_time": "2021-07-08T19:00:11.784Z"
   },
   {
    "duration": 18,
    "start_time": "2021-07-08T19:00:11.797Z"
   },
   {
    "duration": 13,
    "start_time": "2021-07-08T19:00:11.818Z"
   },
   {
    "duration": 56,
    "start_time": "2021-07-08T19:00:11.869Z"
   },
   {
    "duration": 51,
    "start_time": "2021-07-08T19:00:11.927Z"
   },
   {
    "duration": 26,
    "start_time": "2021-07-08T19:00:11.981Z"
   },
   {
    "duration": 15,
    "start_time": "2021-07-08T19:00:12.010Z"
   },
   {
    "duration": 46,
    "start_time": "2021-07-08T19:00:12.028Z"
   },
   {
    "duration": 42,
    "start_time": "2021-07-08T19:00:12.076Z"
   },
   {
    "duration": 15,
    "start_time": "2021-07-08T19:00:12.120Z"
   },
   {
    "duration": 39,
    "start_time": "2021-07-08T19:00:12.138Z"
   },
   {
    "duration": 17,
    "start_time": "2021-07-08T19:00:12.179Z"
   },
   {
    "duration": 20,
    "start_time": "2021-07-08T19:00:12.198Z"
   },
   {
    "duration": 7,
    "start_time": "2021-07-08T19:00:12.220Z"
   },
   {
    "duration": 49,
    "start_time": "2021-07-08T19:00:12.230Z"
   },
   {
    "duration": 33,
    "start_time": "2021-07-08T19:00:12.282Z"
   },
   {
    "duration": 6,
    "start_time": "2021-07-08T19:00:12.318Z"
   },
   {
    "duration": 51,
    "start_time": "2021-07-08T19:00:12.327Z"
   },
   {
    "duration": 10,
    "start_time": "2021-07-08T19:00:12.381Z"
   },
   {
    "duration": 10140,
    "start_time": "2021-07-17T19:59:08.494Z"
   },
   {
    "duration": 11987,
    "start_time": "2021-07-17T19:59:21.454Z"
   },
   {
    "duration": 8610,
    "start_time": "2021-07-17T19:59:33.444Z"
   },
   {
    "duration": 4844,
    "start_time": "2021-07-17T19:59:44.714Z"
   },
   {
    "duration": 4465,
    "start_time": "2021-07-17T19:59:50.119Z"
   },
   {
    "duration": 4822,
    "start_time": "2021-07-17T19:59:56.885Z"
   },
   {
    "duration": 4748,
    "start_time": "2021-07-17T20:00:10.562Z"
   },
   {
    "duration": 4052,
    "start_time": "2021-07-17T20:00:15.313Z"
   },
   {
    "duration": 4313,
    "start_time": "2021-07-17T20:00:19.369Z"
   },
   {
    "duration": 3658,
    "start_time": "2021-07-17T20:00:23.686Z"
   },
   {
    "duration": 3623,
    "start_time": "2021-07-17T20:00:27.347Z"
   },
   {
    "duration": 3284,
    "start_time": "2021-07-17T20:00:30.973Z"
   },
   {
    "duration": 2007,
    "start_time": "2021-07-17T20:00:34.260Z"
   },
   {
    "duration": 172,
    "start_time": "2021-07-17T20:00:36.269Z"
   },
   {
    "duration": 21,
    "start_time": "2021-07-17T20:00:36.445Z"
   },
   {
    "duration": 30,
    "start_time": "2021-07-17T20:00:36.469Z"
   },
   {
    "duration": 66,
    "start_time": "2021-07-17T20:00:36.501Z"
   },
   {
    "duration": 38,
    "start_time": "2021-07-17T20:00:36.570Z"
   },
   {
    "duration": 762,
    "start_time": "2021-07-17T20:00:36.611Z"
   },
   {
    "duration": 28,
    "start_time": "2021-07-17T20:00:37.375Z"
   },
   {
    "duration": 11,
    "start_time": "2021-07-17T20:00:37.406Z"
   },
   {
    "duration": 7,
    "start_time": "2021-07-17T20:00:37.420Z"
   },
   {
    "duration": 49,
    "start_time": "2021-07-17T20:00:37.429Z"
   },
   {
    "duration": 33,
    "start_time": "2021-07-17T20:00:37.481Z"
   },
   {
    "duration": 6,
    "start_time": "2021-07-17T20:00:37.516Z"
   },
   {
    "duration": 43,
    "start_time": "2021-07-17T20:00:37.525Z"
   },
   {
    "duration": 21,
    "start_time": "2021-07-17T20:00:37.571Z"
   },
   {
    "duration": 28,
    "start_time": "2021-07-17T20:00:37.594Z"
   },
   {
    "duration": 42,
    "start_time": "2021-07-17T20:00:37.624Z"
   },
   {
    "duration": 21,
    "start_time": "2021-07-17T20:00:37.669Z"
   },
   {
    "duration": 24,
    "start_time": "2021-07-17T20:00:37.692Z"
   },
   {
    "duration": 50,
    "start_time": "2021-07-17T20:00:37.719Z"
   },
   {
    "duration": 6,
    "start_time": "2021-07-17T20:00:37.776Z"
   },
   {
    "duration": 7,
    "start_time": "2021-07-17T20:00:37.787Z"
   },
   {
    "duration": 20,
    "start_time": "2021-07-17T20:00:37.797Z"
   },
   {
    "duration": 8,
    "start_time": "2021-07-17T20:00:37.820Z"
   },
   {
    "duration": 54,
    "start_time": "2021-07-17T20:00:37.831Z"
   },
   {
    "duration": 21,
    "start_time": "2021-07-17T20:00:37.888Z"
   },
   {
    "duration": 10,
    "start_time": "2021-07-17T20:00:37.912Z"
   },
   {
    "duration": 747,
    "start_time": "2021-07-17T20:00:37.925Z"
   },
   {
    "duration": 11,
    "start_time": "2021-07-17T20:00:38.675Z"
   },
   {
    "duration": 6,
    "start_time": "2021-07-17T20:00:38.689Z"
   },
   {
    "duration": 8,
    "start_time": "2021-07-17T20:00:38.698Z"
   },
   {
    "duration": 404,
    "start_time": "2021-07-17T20:00:38.709Z"
   },
   {
    "duration": 5,
    "start_time": "2021-07-17T20:00:39.115Z"
   },
   {
    "duration": 21,
    "start_time": "2021-07-17T20:00:39.123Z"
   },
   {
    "duration": 34,
    "start_time": "2021-07-17T20:00:39.147Z"
   },
   {
    "duration": 491,
    "start_time": "2021-07-17T20:00:39.184Z"
   },
   {
    "duration": 8,
    "start_time": "2021-07-17T20:00:39.677Z"
   },
   {
    "duration": 6,
    "start_time": "2021-07-17T20:00:39.687Z"
   },
   {
    "duration": 10,
    "start_time": "2021-07-17T20:00:39.696Z"
   },
   {
    "duration": 439,
    "start_time": "2021-07-17T20:00:39.709Z"
   },
   {
    "duration": 18,
    "start_time": "2021-07-17T20:00:40.151Z"
   },
   {
    "duration": 9,
    "start_time": "2021-07-17T20:00:40.172Z"
   },
   {
    "duration": 6,
    "start_time": "2021-07-17T20:00:40.183Z"
   },
   {
    "duration": 7,
    "start_time": "2021-07-17T20:00:40.192Z"
   },
   {
    "duration": 300,
    "start_time": "2021-07-17T20:00:40.201Z"
   },
   {
    "duration": 4,
    "start_time": "2021-07-17T20:00:40.504Z"
   },
   {
    "duration": 19,
    "start_time": "2021-07-17T20:00:40.510Z"
   },
   {
    "duration": 35,
    "start_time": "2021-07-17T20:00:40.532Z"
   },
   {
    "duration": 424,
    "start_time": "2021-07-17T20:00:40.569Z"
   },
   {
    "duration": 13,
    "start_time": "2021-07-17T20:00:40.996Z"
   },
   {
    "duration": 13,
    "start_time": "2021-07-17T20:00:41.011Z"
   },
   {
    "duration": 6,
    "start_time": "2021-07-17T20:00:41.026Z"
   },
   {
    "duration": 588,
    "start_time": "2021-07-17T20:00:41.035Z"
   },
   {
    "duration": 11,
    "start_time": "2021-07-17T20:00:41.626Z"
   },
   {
    "duration": 47,
    "start_time": "2021-07-17T20:00:41.639Z"
   },
   {
    "duration": 534,
    "start_time": "2021-07-17T20:00:41.689Z"
   },
   {
    "duration": 12,
    "start_time": "2021-07-17T20:00:42.225Z"
   },
   {
    "duration": 34,
    "start_time": "2021-07-17T20:00:42.239Z"
   },
   {
    "duration": 4,
    "start_time": "2021-07-17T20:00:42.276Z"
   },
   {
    "duration": 2146,
    "start_time": "2021-07-17T20:00:42.282Z"
   },
   {
    "duration": 36,
    "start_time": "2021-07-17T20:00:44.431Z"
   },
   {
    "duration": 423,
    "start_time": "2021-07-17T20:00:44.470Z"
   },
   {
    "duration": 10,
    "start_time": "2021-07-17T20:00:44.896Z"
   },
   {
    "duration": 6,
    "start_time": "2021-07-17T20:00:44.909Z"
   },
   {
    "duration": 12,
    "start_time": "2021-07-17T20:00:44.918Z"
   },
   {
    "duration": 4,
    "start_time": "2021-07-17T20:00:44.932Z"
   },
   {
    "duration": 37,
    "start_time": "2021-07-17T20:00:44.939Z"
   },
   {
    "duration": 4,
    "start_time": "2021-07-17T20:00:44.978Z"
   },
   {
    "duration": 342,
    "start_time": "2021-07-17T20:00:44.985Z"
   },
   {
    "duration": 9,
    "start_time": "2021-07-17T20:00:45.329Z"
   },
   {
    "duration": 35,
    "start_time": "2021-07-17T20:00:45.340Z"
   },
   {
    "duration": 10,
    "start_time": "2021-07-17T20:00:45.378Z"
   },
   {
    "duration": 454,
    "start_time": "2021-07-17T20:00:45.391Z"
   },
   {
    "duration": 24,
    "start_time": "2021-07-17T20:00:45.848Z"
   },
   {
    "duration": 12,
    "start_time": "2021-07-17T20:00:45.882Z"
   },
   {
    "duration": 12,
    "start_time": "2021-07-17T20:00:45.897Z"
   },
   {
    "duration": 335,
    "start_time": "2021-07-17T20:00:45.912Z"
   },
   {
    "duration": 24,
    "start_time": "2021-07-17T20:00:46.249Z"
   },
   {
    "duration": 12,
    "start_time": "2021-07-17T20:00:46.276Z"
   },
   {
    "duration": 7,
    "start_time": "2021-07-17T20:00:46.290Z"
   },
   {
    "duration": 8,
    "start_time": "2021-07-17T20:00:46.300Z"
   },
   {
    "duration": 56,
    "start_time": "2021-07-17T20:00:46.311Z"
   },
   {
    "duration": 13,
    "start_time": "2021-07-17T20:00:46.370Z"
   },
   {
    "duration": 7,
    "start_time": "2021-07-17T20:00:46.386Z"
   },
   {
    "duration": 10,
    "start_time": "2021-07-17T20:00:46.395Z"
   },
   {
    "duration": 7,
    "start_time": "2021-07-17T20:22:27.296Z"
   },
   {
    "duration": 7,
    "start_time": "2021-07-17T20:22:29.242Z"
   },
   {
    "duration": 13,
    "start_time": "2021-07-17T21:36:49.541Z"
   },
   {
    "duration": 12,
    "start_time": "2021-07-17T21:39:14.948Z"
   },
   {
    "duration": 123,
    "start_time": "2021-07-17T22:16:47.503Z"
   },
   {
    "duration": 5,
    "start_time": "2021-07-18T18:56:19.510Z"
   },
   {
    "duration": 9,
    "start_time": "2021-07-18T18:56:19.517Z"
   },
   {
    "duration": 7,
    "start_time": "2021-07-18T18:56:19.529Z"
   },
   {
    "duration": 6,
    "start_time": "2021-07-18T18:56:19.539Z"
   },
   {
    "duration": 5,
    "start_time": "2021-07-18T18:56:19.548Z"
   },
   {
    "duration": 5,
    "start_time": "2021-07-18T18:56:19.556Z"
   },
   {
    "duration": 2036,
    "start_time": "2021-07-18T18:56:19.564Z"
   },
   {
    "duration": -68,
    "start_time": "2021-07-18T18:56:21.675Z"
   },
   {
    "duration": -78,
    "start_time": "2021-07-18T18:56:21.686Z"
   },
   {
    "duration": -90,
    "start_time": "2021-07-18T18:56:21.699Z"
   },
   {
    "duration": -97,
    "start_time": "2021-07-18T18:56:21.708Z"
   },
   {
    "duration": -108,
    "start_time": "2021-07-18T18:56:21.720Z"
   },
   {
    "duration": -119,
    "start_time": "2021-07-18T18:56:21.732Z"
   },
   {
    "duration": -126,
    "start_time": "2021-07-18T18:56:21.741Z"
   },
   {
    "duration": -139,
    "start_time": "2021-07-18T18:56:21.755Z"
   },
   {
    "duration": -150,
    "start_time": "2021-07-18T18:56:21.767Z"
   },
   {
    "duration": -158,
    "start_time": "2021-07-18T18:56:21.777Z"
   },
   {
    "duration": -166,
    "start_time": "2021-07-18T18:56:21.786Z"
   },
   {
    "duration": -176,
    "start_time": "2021-07-18T18:56:21.797Z"
   },
   {
    "duration": -185,
    "start_time": "2021-07-18T18:56:21.807Z"
   },
   {
    "duration": -194,
    "start_time": "2021-07-18T18:56:21.818Z"
   },
   {
    "duration": -204,
    "start_time": "2021-07-18T18:56:21.829Z"
   },
   {
    "duration": -211,
    "start_time": "2021-07-18T18:56:21.838Z"
   },
   {
    "duration": -221,
    "start_time": "2021-07-18T18:56:21.849Z"
   },
   {
    "duration": -231,
    "start_time": "2021-07-18T18:56:21.860Z"
   },
   {
    "duration": -239,
    "start_time": "2021-07-18T18:56:21.870Z"
   },
   {
    "duration": -248,
    "start_time": "2021-07-18T18:56:21.880Z"
   },
   {
    "duration": -258,
    "start_time": "2021-07-18T18:56:21.892Z"
   },
   {
    "duration": -267,
    "start_time": "2021-07-18T18:56:21.902Z"
   },
   {
    "duration": -277,
    "start_time": "2021-07-18T18:56:21.913Z"
   },
   {
    "duration": -287,
    "start_time": "2021-07-18T18:56:21.925Z"
   },
   {
    "duration": -366,
    "start_time": "2021-07-18T18:56:22.005Z"
   },
   {
    "duration": -375,
    "start_time": "2021-07-18T18:56:22.015Z"
   },
   {
    "duration": -383,
    "start_time": "2021-07-18T18:56:22.025Z"
   },
   {
    "duration": -394,
    "start_time": "2021-07-18T18:56:22.037Z"
   },
   {
    "duration": -401,
    "start_time": "2021-07-18T18:56:22.045Z"
   },
   {
    "duration": -394,
    "start_time": "2021-07-18T18:56:22.056Z"
   },
   {
    "duration": -404,
    "start_time": "2021-07-18T18:56:22.067Z"
   },
   {
    "duration": -411,
    "start_time": "2021-07-18T18:56:22.076Z"
   },
   {
    "duration": -420,
    "start_time": "2021-07-18T18:56:22.086Z"
   },
   {
    "duration": -427,
    "start_time": "2021-07-18T18:56:22.094Z"
   },
   {
    "duration": -437,
    "start_time": "2021-07-18T18:56:22.106Z"
   },
   {
    "duration": -447,
    "start_time": "2021-07-18T18:56:22.117Z"
   },
   {
    "duration": -455,
    "start_time": "2021-07-18T18:56:22.126Z"
   },
   {
    "duration": -464,
    "start_time": "2021-07-18T18:56:22.137Z"
   },
   {
    "duration": -473,
    "start_time": "2021-07-18T18:56:22.147Z"
   },
   {
    "duration": -480,
    "start_time": "2021-07-18T18:56:22.156Z"
   },
   {
    "duration": -491,
    "start_time": "2021-07-18T18:56:22.168Z"
   },
   {
    "duration": -501,
    "start_time": "2021-07-18T18:56:22.180Z"
   },
   {
    "duration": -509,
    "start_time": "2021-07-18T18:56:22.189Z"
   },
   {
    "duration": -519,
    "start_time": "2021-07-18T18:56:22.200Z"
   },
   {
    "duration": -528,
    "start_time": "2021-07-18T18:56:22.211Z"
   },
   {
    "duration": -536,
    "start_time": "2021-07-18T18:56:22.220Z"
   },
   {
    "duration": -546,
    "start_time": "2021-07-18T18:56:22.231Z"
   },
   {
    "duration": -553,
    "start_time": "2021-07-18T18:56:22.240Z"
   },
   {
    "duration": -563,
    "start_time": "2021-07-18T18:56:22.251Z"
   },
   {
    "duration": -572,
    "start_time": "2021-07-18T18:56:22.262Z"
   },
   {
    "duration": -580,
    "start_time": "2021-07-18T18:56:22.271Z"
   },
   {
    "duration": -590,
    "start_time": "2021-07-18T18:56:22.283Z"
   },
   {
    "duration": -599,
    "start_time": "2021-07-18T18:56:22.293Z"
   },
   {
    "duration": -608,
    "start_time": "2021-07-18T18:56:22.303Z"
   },
   {
    "duration": -619,
    "start_time": "2021-07-18T18:56:22.316Z"
   },
   {
    "duration": -628,
    "start_time": "2021-07-18T18:56:22.326Z"
   },
   {
    "duration": -675,
    "start_time": "2021-07-18T18:56:22.374Z"
   },
   {
    "duration": -622,
    "start_time": "2021-07-18T18:56:22.384Z"
   },
   {
    "duration": -630,
    "start_time": "2021-07-18T18:56:22.394Z"
   },
   {
    "duration": -640,
    "start_time": "2021-07-18T18:56:22.406Z"
   },
   {
    "duration": -648,
    "start_time": "2021-07-18T18:56:22.415Z"
   },
   {
    "duration": -658,
    "start_time": "2021-07-18T18:56:22.426Z"
   },
   {
    "duration": -667,
    "start_time": "2021-07-18T18:56:22.437Z"
   },
   {
    "duration": -675,
    "start_time": "2021-07-18T18:56:22.446Z"
   },
   {
    "duration": -683,
    "start_time": "2021-07-18T18:56:22.456Z"
   },
   {
    "duration": -691,
    "start_time": "2021-07-18T18:56:22.465Z"
   },
   {
    "duration": -701,
    "start_time": "2021-07-18T18:56:22.476Z"
   },
   {
    "duration": -712,
    "start_time": "2021-07-18T18:56:22.488Z"
   },
   {
    "duration": -717,
    "start_time": "2021-07-18T18:56:22.495Z"
   },
   {
    "duration": -728,
    "start_time": "2021-07-18T18:56:22.507Z"
   },
   {
    "duration": -738,
    "start_time": "2021-07-18T18:56:22.518Z"
   },
   {
    "duration": -745,
    "start_time": "2021-07-18T18:56:22.527Z"
   },
   {
    "duration": -756,
    "start_time": "2021-07-18T18:56:22.539Z"
   },
   {
    "duration": -767,
    "start_time": "2021-07-18T18:56:22.551Z"
   },
   {
    "duration": -773,
    "start_time": "2021-07-18T18:56:22.559Z"
   },
   {
    "duration": -784,
    "start_time": "2021-07-18T18:56:22.572Z"
   },
   {
    "duration": -794,
    "start_time": "2021-07-18T18:56:22.584Z"
   },
   {
    "duration": -801,
    "start_time": "2021-07-18T18:56:22.592Z"
   },
   {
    "duration": -810,
    "start_time": "2021-07-18T18:56:22.602Z"
   },
   {
    "duration": -816,
    "start_time": "2021-07-18T18:56:22.610Z"
   },
   {
    "duration": -826,
    "start_time": "2021-07-18T18:56:22.621Z"
   },
   {
    "duration": -836,
    "start_time": "2021-07-18T18:56:22.633Z"
   },
   {
    "duration": -779,
    "start_time": "2021-07-18T18:56:22.641Z"
   },
   {
    "duration": -788,
    "start_time": "2021-07-18T18:56:22.651Z"
   },
   {
    "duration": 17585,
    "start_time": "2021-07-18T18:57:09.101Z"
   },
   {
    "duration": 5,
    "start_time": "2021-07-18T18:57:35.094Z"
   },
   {
    "duration": 5,
    "start_time": "2021-07-18T18:57:35.103Z"
   },
   {
    "duration": 4,
    "start_time": "2021-07-18T18:57:35.111Z"
   },
   {
    "duration": 16,
    "start_time": "2021-07-18T18:57:35.120Z"
   },
   {
    "duration": 7429,
    "start_time": "2021-07-18T18:57:35.140Z"
   },
   {
    "duration": 1665,
    "start_time": "2021-07-18T18:57:42.573Z"
   },
   {
    "duration": 167,
    "start_time": "2021-07-18T18:57:44.241Z"
   },
   {
    "duration": 18,
    "start_time": "2021-07-18T18:57:44.411Z"
   },
   {
    "duration": 51,
    "start_time": "2021-07-18T18:57:44.432Z"
   },
   {
    "duration": 47,
    "start_time": "2021-07-18T18:57:44.486Z"
   },
   {
    "duration": 59,
    "start_time": "2021-07-18T18:57:44.536Z"
   },
   {
    "duration": 780,
    "start_time": "2021-07-18T18:57:44.597Z"
   },
   {
    "duration": 27,
    "start_time": "2021-07-18T18:57:45.379Z"
   },
   {
    "duration": 11,
    "start_time": "2021-07-18T18:57:45.409Z"
   },
   {
    "duration": 4,
    "start_time": "2021-07-18T18:57:45.423Z"
   },
   {
    "duration": 51,
    "start_time": "2021-07-18T18:57:45.430Z"
   },
   {
    "duration": 37,
    "start_time": "2021-07-18T18:57:45.484Z"
   },
   {
    "duration": 6,
    "start_time": "2021-07-18T18:57:45.524Z"
   },
   {
    "duration": 11,
    "start_time": "2021-07-18T18:57:45.561Z"
   },
   {
    "duration": 22,
    "start_time": "2021-07-18T18:57:45.575Z"
   },
   {
    "duration": 24,
    "start_time": "2021-07-18T18:57:45.600Z"
   },
   {
    "duration": 21,
    "start_time": "2021-07-18T18:57:45.663Z"
   },
   {
    "duration": 33,
    "start_time": "2021-07-18T18:57:45.686Z"
   },
   {
    "duration": 23,
    "start_time": "2021-07-18T18:57:45.722Z"
   },
   {
    "duration": 19,
    "start_time": "2021-07-18T18:57:45.763Z"
   },
   {
    "duration": 8,
    "start_time": "2021-07-18T18:57:45.786Z"
   },
   {
    "duration": 6,
    "start_time": "2021-07-18T18:57:45.797Z"
   },
   {
    "duration": 4,
    "start_time": "2021-07-18T18:57:45.806Z"
   },
   {
    "duration": 58,
    "start_time": "2021-07-18T18:57:45.812Z"
   },
   {
    "duration": 7,
    "start_time": "2021-07-18T18:57:45.873Z"
   },
   {
    "duration": 22,
    "start_time": "2021-07-18T18:57:45.883Z"
   },
   {
    "duration": 55,
    "start_time": "2021-07-18T18:57:45.907Z"
   },
   {
    "duration": 10,
    "start_time": "2021-07-18T18:57:45.964Z"
   },
   {
    "duration": 1027,
    "start_time": "2021-07-18T18:57:45.976Z"
   },
   {
    "duration": 12,
    "start_time": "2021-07-18T18:57:47.005Z"
   },
   {
    "duration": 6,
    "start_time": "2021-07-18T18:57:47.020Z"
   },
   {
    "duration": 34,
    "start_time": "2021-07-18T18:57:47.028Z"
   },
   {
    "duration": 696,
    "start_time": "2021-07-18T18:57:47.065Z"
   },
   {
    "duration": 3,
    "start_time": "2021-07-18T18:57:47.764Z"
   },
   {
    "duration": 30,
    "start_time": "2021-07-18T18:57:47.769Z"
   },
   {
    "duration": 17,
    "start_time": "2021-07-18T18:57:47.801Z"
   },
   {
    "duration": 817,
    "start_time": "2021-07-18T18:57:47.820Z"
   },
   {
    "duration": 9,
    "start_time": "2021-07-18T18:57:48.640Z"
   },
   {
    "duration": 4,
    "start_time": "2021-07-18T18:57:48.663Z"
   },
   {
    "duration": 8,
    "start_time": "2021-07-18T18:57:48.669Z"
   },
   {
    "duration": 805,
    "start_time": "2021-07-18T18:57:48.679Z"
   },
   {
    "duration": 7,
    "start_time": "2021-07-18T18:57:49.487Z"
   },
   {
    "duration": 17,
    "start_time": "2021-07-18T18:57:49.497Z"
   },
   {
    "duration": 6,
    "start_time": "2021-07-18T18:57:49.516Z"
   },
   {
    "duration": 38,
    "start_time": "2021-07-18T18:57:49.525Z"
   },
   {
    "duration": 515,
    "start_time": "2021-07-18T18:57:49.566Z"
   },
   {
    "duration": 4,
    "start_time": "2021-07-18T18:57:50.085Z"
   },
   {
    "duration": 20,
    "start_time": "2021-07-18T18:57:50.092Z"
   },
   {
    "duration": 19,
    "start_time": "2021-07-18T18:57:50.114Z"
   },
   {
    "duration": 796,
    "start_time": "2021-07-18T18:57:50.135Z"
   },
   {
    "duration": 14,
    "start_time": "2021-07-18T18:57:50.934Z"
   },
   {
    "duration": 9,
    "start_time": "2021-07-18T18:57:50.963Z"
   },
   {
    "duration": 17,
    "start_time": "2021-07-18T18:57:50.974Z"
   },
   {
    "duration": 6,
    "start_time": "2021-07-18T18:57:50.994Z"
   },
   {
    "duration": 893,
    "start_time": "2021-07-18T18:57:51.002Z"
   },
   {
    "duration": 11,
    "start_time": "2021-07-18T18:57:51.897Z"
   },
   {
    "duration": 52,
    "start_time": "2021-07-18T18:57:51.910Z"
   },
   {
    "duration": 1130,
    "start_time": "2021-07-18T18:57:51.964Z"
   },
   {
    "duration": 12,
    "start_time": "2021-07-18T18:57:53.097Z"
   },
   {
    "duration": 20,
    "start_time": "2021-07-18T18:57:53.113Z"
   },
   {
    "duration": 29,
    "start_time": "2021-07-18T18:57:53.135Z"
   },
   {
    "duration": 4442,
    "start_time": "2021-07-18T18:57:53.167Z"
   },
   {
    "duration": 15,
    "start_time": "2021-07-18T18:57:57.611Z"
   },
   {
    "duration": 719,
    "start_time": "2021-07-18T18:57:57.629Z"
   },
   {
    "duration": 11,
    "start_time": "2021-07-18T18:57:58.364Z"
   },
   {
    "duration": 6,
    "start_time": "2021-07-18T18:57:58.378Z"
   },
   {
    "duration": 13,
    "start_time": "2021-07-18T18:57:58.386Z"
   },
   {
    "duration": 8,
    "start_time": "2021-07-18T18:57:58.401Z"
   },
   {
    "duration": 12,
    "start_time": "2021-07-18T18:57:58.412Z"
   },
   {
    "duration": 5,
    "start_time": "2021-07-18T18:57:58.426Z"
   },
   {
    "duration": 622,
    "start_time": "2021-07-18T18:57:58.434Z"
   },
   {
    "duration": 8,
    "start_time": "2021-07-18T18:57:59.062Z"
   },
   {
    "duration": 11,
    "start_time": "2021-07-18T18:57:59.074Z"
   },
   {
    "duration": 10,
    "start_time": "2021-07-18T18:57:59.088Z"
   },
   {
    "duration": 1076,
    "start_time": "2021-07-18T18:57:59.101Z"
   },
   {
    "duration": 16,
    "start_time": "2021-07-18T18:58:00.180Z"
   },
   {
    "duration": 32,
    "start_time": "2021-07-18T18:58:00.199Z"
   },
   {
    "duration": 28,
    "start_time": "2021-07-18T18:58:00.234Z"
   },
   {
    "duration": 758,
    "start_time": "2021-07-18T18:58:00.265Z"
   },
   {
    "duration": 13,
    "start_time": "2021-07-18T18:58:01.026Z"
   },
   {
    "duration": 28,
    "start_time": "2021-07-18T18:58:01.043Z"
   },
   {
    "duration": 19,
    "start_time": "2021-07-18T18:58:01.073Z"
   },
   {
    "duration": 36,
    "start_time": "2021-07-18T18:58:01.094Z"
   },
   {
    "duration": 18,
    "start_time": "2021-07-18T18:58:01.133Z"
   },
   {
    "duration": 22,
    "start_time": "2021-07-18T18:58:01.153Z"
   },
   {
    "duration": 16,
    "start_time": "2021-07-18T19:05:50.610Z"
   },
   {
    "duration": 542,
    "start_time": "2021-07-19T08:40:15.063Z"
   },
   {
    "duration": 3,
    "start_time": "2021-07-19T08:40:24.515Z"
   },
   {
    "duration": 7,
    "start_time": "2021-07-19T08:40:24.521Z"
   },
   {
    "duration": 10,
    "start_time": "2021-07-19T08:40:24.531Z"
   },
   {
    "duration": 15,
    "start_time": "2021-07-19T08:40:24.544Z"
   },
   {
    "duration": 19286,
    "start_time": "2021-07-19T08:40:24.561Z"
   },
   {
    "duration": 2173,
    "start_time": "2021-07-19T08:40:43.851Z"
   },
   {
    "duration": 169,
    "start_time": "2021-07-19T08:40:46.029Z"
   },
   {
    "duration": 28,
    "start_time": "2021-07-19T08:40:46.202Z"
   },
   {
    "duration": 60,
    "start_time": "2021-07-19T08:40:46.232Z"
   },
   {
    "duration": 68,
    "start_time": "2021-07-19T08:40:46.295Z"
   },
   {
    "duration": 39,
    "start_time": "2021-07-19T08:40:46.365Z"
   },
   {
    "duration": 636,
    "start_time": "2021-07-19T08:40:46.406Z"
   },
   {
    "duration": 28,
    "start_time": "2021-07-19T08:40:47.044Z"
   },
   {
    "duration": 11,
    "start_time": "2021-07-19T08:40:47.074Z"
   },
   {
    "duration": 13,
    "start_time": "2021-07-19T08:40:47.087Z"
   },
   {
    "duration": 25,
    "start_time": "2021-07-19T08:40:47.103Z"
   },
   {
    "duration": 62,
    "start_time": "2021-07-19T08:40:47.130Z"
   },
   {
    "duration": 6,
    "start_time": "2021-07-19T08:40:47.197Z"
   },
   {
    "duration": 12,
    "start_time": "2021-07-19T08:40:47.206Z"
   },
   {
    "duration": 62,
    "start_time": "2021-07-19T08:40:47.220Z"
   },
   {
    "duration": 25,
    "start_time": "2021-07-19T08:40:47.285Z"
   },
   {
    "duration": 54,
    "start_time": "2021-07-19T08:40:47.312Z"
   },
   {
    "duration": 22,
    "start_time": "2021-07-19T08:40:47.369Z"
   },
   {
    "duration": 23,
    "start_time": "2021-07-19T08:40:47.394Z"
   },
   {
    "duration": 46,
    "start_time": "2021-07-19T08:40:47.420Z"
   },
   {
    "duration": 8,
    "start_time": "2021-07-19T08:40:47.468Z"
   },
   {
    "duration": 9,
    "start_time": "2021-07-19T08:40:47.478Z"
   },
   {
    "duration": 11,
    "start_time": "2021-07-19T08:40:47.490Z"
   },
   {
    "duration": 21,
    "start_time": "2021-07-19T08:40:47.503Z"
   },
   {
    "duration": 8,
    "start_time": "2021-07-19T08:40:47.562Z"
   },
   {
    "duration": 20,
    "start_time": "2021-07-19T08:40:47.573Z"
   },
   {
    "duration": 21,
    "start_time": "2021-07-19T08:40:47.595Z"
   },
   {
    "duration": 48,
    "start_time": "2021-07-19T08:40:47.618Z"
   },
   {
    "duration": 1110,
    "start_time": "2021-07-19T08:40:47.669Z"
   },
   {
    "duration": 12,
    "start_time": "2021-07-19T08:40:48.781Z"
   },
   {
    "duration": 12,
    "start_time": "2021-07-19T08:40:48.796Z"
   },
   {
    "duration": 5,
    "start_time": "2021-07-19T08:40:48.862Z"
   },
   {
    "duration": 831,
    "start_time": "2021-07-19T08:40:48.870Z"
   },
   {
    "duration": 4,
    "start_time": "2021-07-19T08:40:49.704Z"
   },
   {
    "duration": 20,
    "start_time": "2021-07-19T08:40:49.710Z"
   },
   {
    "duration": 111,
    "start_time": "2021-07-19T08:40:49.732Z"
   },
   {
    "duration": 632,
    "start_time": "2021-07-19T08:40:49.846Z"
   },
   {
    "duration": 7,
    "start_time": "2021-07-19T08:40:50.480Z"
   },
   {
    "duration": 14,
    "start_time": "2021-07-19T08:40:50.489Z"
   },
   {
    "duration": 10,
    "start_time": "2021-07-19T08:40:50.506Z"
   },
   {
    "duration": 395,
    "start_time": "2021-07-19T08:40:55.128Z"
   },
   {
    "duration": 782,
    "start_time": "2021-07-19T08:41:01.341Z"
   },
   {
    "duration": 785,
    "start_time": "2021-07-19T08:41:48.572Z"
   },
   {
    "duration": 773,
    "start_time": "2021-07-19T08:41:58.650Z"
   },
   {
    "duration": 1151,
    "start_time": "2021-07-19T08:44:06.443Z"
   },
   {
    "duration": 4,
    "start_time": "2021-07-19T08:44:18.931Z"
   },
   {
    "duration": 26,
    "start_time": "2021-07-19T08:44:18.938Z"
   },
   {
    "duration": 26,
    "start_time": "2021-07-19T08:44:18.967Z"
   },
   {
    "duration": 25,
    "start_time": "2021-07-19T08:44:18.996Z"
   },
   {
    "duration": 8898,
    "start_time": "2021-07-19T08:44:19.023Z"
   },
   {
    "duration": 1602,
    "start_time": "2021-07-19T08:44:27.924Z"
   },
   {
    "duration": 174,
    "start_time": "2021-07-19T08:44:29.530Z"
   },
   {
    "duration": 18,
    "start_time": "2021-07-19T08:44:29.707Z"
   },
   {
    "duration": 37,
    "start_time": "2021-07-19T08:44:29.728Z"
   },
   {
    "duration": 41,
    "start_time": "2021-07-19T08:44:29.768Z"
   },
   {
    "duration": 58,
    "start_time": "2021-07-19T08:44:29.811Z"
   },
   {
    "duration": 725,
    "start_time": "2021-07-19T08:44:29.871Z"
   },
   {
    "duration": 24,
    "start_time": "2021-07-19T08:44:30.598Z"
   },
   {
    "duration": 25,
    "start_time": "2021-07-19T08:44:30.624Z"
   },
   {
    "duration": 14,
    "start_time": "2021-07-19T08:44:30.652Z"
   },
   {
    "duration": 34,
    "start_time": "2021-07-19T08:44:30.669Z"
   },
   {
    "duration": 34,
    "start_time": "2021-07-19T08:44:30.706Z"
   },
   {
    "duration": 7,
    "start_time": "2021-07-19T08:44:30.762Z"
   },
   {
    "duration": 26,
    "start_time": "2021-07-19T08:44:30.776Z"
   },
   {
    "duration": 64,
    "start_time": "2021-07-19T08:44:30.808Z"
   },
   {
    "duration": 35,
    "start_time": "2021-07-19T08:44:30.876Z"
   },
   {
    "duration": 28,
    "start_time": "2021-07-19T08:44:30.914Z"
   },
   {
    "duration": 41,
    "start_time": "2021-07-19T08:44:30.945Z"
   },
   {
    "duration": 34,
    "start_time": "2021-07-19T08:44:30.989Z"
   },
   {
    "duration": 26,
    "start_time": "2021-07-19T08:44:31.026Z"
   },
   {
    "duration": 29,
    "start_time": "2021-07-19T08:44:31.062Z"
   },
   {
    "duration": 19,
    "start_time": "2021-07-19T08:44:31.093Z"
   },
   {
    "duration": 18,
    "start_time": "2021-07-19T08:44:31.114Z"
   },
   {
    "duration": 25,
    "start_time": "2021-07-19T08:44:31.135Z"
   },
   {
    "duration": 10,
    "start_time": "2021-07-19T08:44:31.163Z"
   },
   {
    "duration": 50,
    "start_time": "2021-07-19T08:44:31.176Z"
   },
   {
    "duration": 21,
    "start_time": "2021-07-19T08:44:31.229Z"
   },
   {
    "duration": 24,
    "start_time": "2021-07-19T08:44:31.252Z"
   },
   {
    "duration": 986,
    "start_time": "2021-07-19T08:44:31.278Z"
   },
   {
    "duration": 11,
    "start_time": "2021-07-19T08:44:32.267Z"
   },
   {
    "duration": 63,
    "start_time": "2021-07-19T08:44:32.280Z"
   },
   {
    "duration": 11,
    "start_time": "2021-07-19T08:44:32.346Z"
   },
   {
    "duration": 645,
    "start_time": "2021-07-19T08:44:32.360Z"
   },
   {
    "duration": 4,
    "start_time": "2021-07-19T08:44:33.007Z"
   },
   {
    "duration": 19,
    "start_time": "2021-07-19T08:44:33.014Z"
   },
   {
    "duration": 38,
    "start_time": "2021-07-19T08:44:33.036Z"
   },
   {
    "duration": 630,
    "start_time": "2021-07-19T08:44:33.077Z"
   },
   {
    "duration": 6,
    "start_time": "2021-07-19T08:44:33.710Z"
   },
   {
    "duration": 12,
    "start_time": "2021-07-19T08:44:33.718Z"
   },
   {
    "duration": 14,
    "start_time": "2021-07-19T08:44:33.733Z"
   },
   {
    "duration": 781,
    "start_time": "2021-07-19T08:44:33.762Z"
   },
   {
    "duration": 16,
    "start_time": "2021-07-19T08:44:34.546Z"
   },
   {
    "duration": 15,
    "start_time": "2021-07-19T08:44:34.564Z"
   },
   {
    "duration": 17,
    "start_time": "2021-07-19T08:44:34.581Z"
   },
   {
    "duration": 16,
    "start_time": "2021-07-19T08:44:34.601Z"
   },
   {
    "duration": 512,
    "start_time": "2021-07-19T08:44:34.619Z"
   },
   {
    "duration": 5,
    "start_time": "2021-07-19T08:44:35.134Z"
   },
   {
    "duration": 35,
    "start_time": "2021-07-19T08:44:35.143Z"
   },
   {
    "duration": 30,
    "start_time": "2021-07-19T08:44:35.181Z"
   },
   {
    "duration": 657,
    "start_time": "2021-07-19T08:44:35.219Z"
   },
   {
    "duration": 12,
    "start_time": "2021-07-19T08:44:35.880Z"
   },
   {
    "duration": 10,
    "start_time": "2021-07-19T08:44:35.894Z"
   },
   {
    "duration": 14,
    "start_time": "2021-07-19T08:44:35.906Z"
   },
   {
    "duration": 8,
    "start_time": "2021-07-19T08:44:35.922Z"
   },
   {
    "duration": 850,
    "start_time": "2021-07-19T08:44:35.961Z"
   },
   {
    "duration": 10,
    "start_time": "2021-07-19T08:44:36.814Z"
   },
   {
    "duration": 54,
    "start_time": "2021-07-19T08:44:36.826Z"
   },
   {
    "duration": 1085,
    "start_time": "2021-07-19T08:44:36.882Z"
   },
   {
    "duration": 13,
    "start_time": "2021-07-19T08:44:37.969Z"
   },
   {
    "duration": 21,
    "start_time": "2021-07-19T08:44:37.985Z"
   },
   {
    "duration": 9,
    "start_time": "2021-07-19T08:44:38.008Z"
   },
   {
    "duration": 6000,
    "start_time": "2021-07-19T08:44:38.020Z"
   },
   {
    "duration": 21,
    "start_time": "2021-07-19T08:44:44.023Z"
   },
   {
    "duration": 702,
    "start_time": "2021-07-19T08:44:44.046Z"
   },
   {
    "duration": 20,
    "start_time": "2021-07-19T08:44:44.750Z"
   },
   {
    "duration": 8,
    "start_time": "2021-07-19T08:44:44.773Z"
   },
   {
    "duration": 15,
    "start_time": "2021-07-19T08:44:44.783Z"
   },
   {
    "duration": 6,
    "start_time": "2021-07-19T08:44:44.801Z"
   },
   {
    "duration": 14,
    "start_time": "2021-07-19T08:44:44.809Z"
   },
   {
    "duration": 40,
    "start_time": "2021-07-19T08:44:44.826Z"
   },
   {
    "duration": 578,
    "start_time": "2021-07-19T08:44:44.869Z"
   },
   {
    "duration": 16,
    "start_time": "2021-07-19T08:44:45.450Z"
   },
   {
    "duration": 11,
    "start_time": "2021-07-19T08:44:45.470Z"
   },
   {
    "duration": 11,
    "start_time": "2021-07-19T08:44:45.483Z"
   },
   {
    "duration": 730,
    "start_time": "2021-07-19T08:44:45.497Z"
   },
   {
    "duration": 13,
    "start_time": "2021-07-19T08:44:46.231Z"
   },
   {
    "duration": 14,
    "start_time": "2021-07-19T08:44:46.262Z"
   },
   {
    "duration": 14,
    "start_time": "2021-07-19T08:44:46.279Z"
   },
   {
    "duration": 669,
    "start_time": "2021-07-19T08:44:46.295Z"
   },
   {
    "duration": 11,
    "start_time": "2021-07-19T08:44:46.968Z"
   },
   {
    "duration": 12,
    "start_time": "2021-07-19T08:44:46.982Z"
   },
   {
    "duration": 13,
    "start_time": "2021-07-19T08:44:46.996Z"
   },
   {
    "duration": 50,
    "start_time": "2021-07-19T08:44:47.012Z"
   },
   {
    "duration": 14,
    "start_time": "2021-07-19T08:44:47.065Z"
   },
   {
    "duration": 11,
    "start_time": "2021-07-19T08:44:47.081Z"
   },
   {
    "duration": 822,
    "start_time": "2021-07-19T08:54:32.411Z"
   },
   {
    "duration": 832,
    "start_time": "2021-07-19T08:55:30.983Z"
   },
   {
    "duration": 844,
    "start_time": "2021-07-19T09:22:15.496Z"
   },
   {
    "duration": 875,
    "start_time": "2021-07-19T09:22:37.458Z"
   },
   {
    "duration": 830,
    "start_time": "2021-07-19T09:52:12.931Z"
   },
   {
    "duration": 969,
    "start_time": "2021-07-19T09:52:22.686Z"
   },
   {
    "duration": 859,
    "start_time": "2021-07-19T09:52:27.591Z"
   },
   {
    "duration": 821,
    "start_time": "2021-07-19T09:52:31.844Z"
   },
   {
    "duration": 831,
    "start_time": "2021-07-19T09:52:41.101Z"
   },
   {
    "duration": 829,
    "start_time": "2021-07-19T09:52:47.289Z"
   },
   {
    "duration": 3,
    "start_time": "2021-07-22T13:33:07.456Z"
   },
   {
    "duration": 6,
    "start_time": "2021-07-22T13:33:07.461Z"
   },
   {
    "duration": 6,
    "start_time": "2021-07-22T13:33:07.469Z"
   },
   {
    "duration": 4,
    "start_time": "2021-07-22T13:33:07.477Z"
   },
   {
    "duration": 4,
    "start_time": "2021-07-22T13:33:07.483Z"
   },
   {
    "duration": 7,
    "start_time": "2021-07-22T13:33:07.489Z"
   },
   {
    "duration": 1544,
    "start_time": "2021-07-22T13:33:07.498Z"
   },
   {
    "duration": -30,
    "start_time": "2021-07-22T13:33:09.075Z"
   },
   {
    "duration": -33,
    "start_time": "2021-07-22T13:33:09.078Z"
   },
   {
    "duration": -36,
    "start_time": "2021-07-22T13:33:09.082Z"
   },
   {
    "duration": -125,
    "start_time": "2021-07-22T13:33:09.172Z"
   },
   {
    "duration": -131,
    "start_time": "2021-07-22T13:33:09.179Z"
   },
   {
    "duration": -133,
    "start_time": "2021-07-22T13:33:09.182Z"
   },
   {
    "duration": -135,
    "start_time": "2021-07-22T13:33:09.185Z"
   },
   {
    "duration": -139,
    "start_time": "2021-07-22T13:33:09.190Z"
   },
   {
    "duration": -142,
    "start_time": "2021-07-22T13:33:09.194Z"
   },
   {
    "duration": -146,
    "start_time": "2021-07-22T13:33:09.198Z"
   },
   {
    "duration": -150,
    "start_time": "2021-07-22T13:33:09.203Z"
   },
   {
    "duration": -153,
    "start_time": "2021-07-22T13:33:09.207Z"
   },
   {
    "duration": -155,
    "start_time": "2021-07-22T13:33:09.210Z"
   },
   {
    "duration": -157,
    "start_time": "2021-07-22T13:33:09.213Z"
   },
   {
    "duration": -159,
    "start_time": "2021-07-22T13:33:09.216Z"
   },
   {
    "duration": -162,
    "start_time": "2021-07-22T13:33:09.220Z"
   },
   {
    "duration": -165,
    "start_time": "2021-07-22T13:33:09.224Z"
   },
   {
    "duration": -169,
    "start_time": "2021-07-22T13:33:09.229Z"
   },
   {
    "duration": -171,
    "start_time": "2021-07-22T13:33:09.232Z"
   },
   {
    "duration": -174,
    "start_time": "2021-07-22T13:33:09.236Z"
   },
   {
    "duration": -175,
    "start_time": "2021-07-22T13:33:09.238Z"
   },
   {
    "duration": -177,
    "start_time": "2021-07-22T13:33:09.241Z"
   },
   {
    "duration": -180,
    "start_time": "2021-07-22T13:33:09.245Z"
   },
   {
    "duration": -183,
    "start_time": "2021-07-22T13:33:09.248Z"
   },
   {
    "duration": -213,
    "start_time": "2021-07-22T13:33:09.279Z"
   },
   {
    "duration": -216,
    "start_time": "2021-07-22T13:33:09.283Z"
   },
   {
    "duration": -218,
    "start_time": "2021-07-22T13:33:09.286Z"
   },
   {
    "duration": -221,
    "start_time": "2021-07-22T13:33:09.289Z"
   },
   {
    "duration": -224,
    "start_time": "2021-07-22T13:33:09.293Z"
   },
   {
    "duration": -227,
    "start_time": "2021-07-22T13:33:09.297Z"
   },
   {
    "duration": -230,
    "start_time": "2021-07-22T13:33:09.301Z"
   },
   {
    "duration": -231,
    "start_time": "2021-07-22T13:33:09.303Z"
   },
   {
    "duration": 3,
    "start_time": "2021-07-22T13:33:56.277Z"
   },
   {
    "duration": 6,
    "start_time": "2021-07-22T13:33:56.282Z"
   },
   {
    "duration": 10,
    "start_time": "2021-07-22T13:33:56.289Z"
   },
   {
    "duration": 9,
    "start_time": "2021-07-22T13:33:56.301Z"
   },
   {
    "duration": 1168,
    "start_time": "2021-07-22T13:33:56.311Z"
   },
   {
    "duration": 392,
    "start_time": "2021-07-22T13:33:57.480Z"
   },
   {
    "duration": 6,
    "start_time": "2021-07-22T13:33:57.874Z"
   },
   {
    "duration": 13,
    "start_time": "2021-07-22T13:33:57.882Z"
   },
   {
    "duration": 18,
    "start_time": "2021-07-22T13:33:57.896Z"
   },
   {
    "duration": 978,
    "start_time": "2021-07-22T13:33:57.915Z"
   },
   {
    "duration": -111,
    "start_time": "2021-07-22T13:33:59.007Z"
   },
   {
    "duration": -114,
    "start_time": "2021-07-22T13:33:59.011Z"
   },
   {
    "duration": -119,
    "start_time": "2021-07-22T13:33:59.017Z"
   },
   {
    "duration": -122,
    "start_time": "2021-07-22T13:33:59.021Z"
   },
   {
    "duration": -183,
    "start_time": "2021-07-22T13:33:59.084Z"
   },
   {
    "duration": -185,
    "start_time": "2021-07-22T13:33:59.087Z"
   },
   {
    "duration": -187,
    "start_time": "2021-07-22T13:33:59.091Z"
   },
   {
    "duration": -190,
    "start_time": "2021-07-22T13:33:59.095Z"
   },
   {
    "duration": -191,
    "start_time": "2021-07-22T13:33:59.098Z"
   },
   {
    "duration": -194,
    "start_time": "2021-07-22T13:33:59.102Z"
   },
   {
    "duration": -195,
    "start_time": "2021-07-22T13:33:59.105Z"
   },
   {
    "duration": -197,
    "start_time": "2021-07-22T13:33:59.108Z"
   },
   {
    "duration": -172,
    "start_time": "2021-07-22T13:33:59.112Z"
   },
   {
    "duration": -174,
    "start_time": "2021-07-22T13:33:59.115Z"
   },
   {
    "duration": -175,
    "start_time": "2021-07-22T13:33:59.118Z"
   },
   {
    "duration": -176,
    "start_time": "2021-07-22T13:33:59.121Z"
   },
   {
    "duration": -177,
    "start_time": "2021-07-22T13:33:59.123Z"
   },
   {
    "duration": -179,
    "start_time": "2021-07-22T13:33:59.126Z"
   },
   {
    "duration": -180,
    "start_time": "2021-07-22T13:33:59.129Z"
   },
   {
    "duration": -181,
    "start_time": "2021-07-22T13:33:59.131Z"
   },
   {
    "duration": -183,
    "start_time": "2021-07-22T13:33:59.134Z"
   },
   {
    "duration": -185,
    "start_time": "2021-07-22T13:33:59.137Z"
   },
   {
    "duration": -186,
    "start_time": "2021-07-22T13:33:59.140Z"
   },
   {
    "duration": -187,
    "start_time": "2021-07-22T13:33:59.142Z"
   },
   {
    "duration": -189,
    "start_time": "2021-07-22T13:33:59.145Z"
   },
   {
    "duration": -189,
    "start_time": "2021-07-22T13:33:59.147Z"
   },
   {
    "duration": -191,
    "start_time": "2021-07-22T13:33:59.150Z"
   },
   {
    "duration": 7045,
    "start_time": "2021-07-22T13:34:26.193Z"
   },
   {
    "duration": 6858,
    "start_time": "2021-07-22T13:34:33.240Z"
   },
   {
    "duration": 4911,
    "start_time": "2021-07-22T13:34:40.100Z"
   },
   {
    "duration": 4746,
    "start_time": "2021-07-22T13:34:45.013Z"
   },
   {
    "duration": 1392,
    "start_time": "2021-07-22T13:34:49.761Z"
   },
   {
    "duration": 157,
    "start_time": "2021-07-22T13:34:51.155Z"
   },
   {
    "duration": 10,
    "start_time": "2021-07-22T13:34:51.314Z"
   },
   {
    "duration": 12,
    "start_time": "2021-07-22T13:34:51.328Z"
   },
   {
    "duration": 15,
    "start_time": "2021-07-22T13:34:51.343Z"
   },
   {
    "duration": 301,
    "start_time": "2021-07-22T13:34:51.360Z"
   },
   {
    "duration": 9,
    "start_time": "2021-07-22T13:34:51.663Z"
   },
   {
    "duration": 14,
    "start_time": "2021-07-22T13:34:51.674Z"
   },
   {
    "duration": 21,
    "start_time": "2021-07-22T13:34:51.690Z"
   },
   {
    "duration": 316,
    "start_time": "2021-07-22T13:34:51.712Z"
   },
   {
    "duration": 14,
    "start_time": "2021-07-22T13:34:52.030Z"
   },
   {
    "duration": 22,
    "start_time": "2021-07-22T13:34:52.046Z"
   },
   {
    "duration": 11,
    "start_time": "2021-07-22T13:34:52.069Z"
   },
   {
    "duration": 11,
    "start_time": "2021-07-22T13:34:52.082Z"
   },
   {
    "duration": 385,
    "start_time": "2021-07-22T13:34:52.094Z"
   },
   {
    "duration": 8,
    "start_time": "2021-07-22T13:34:52.481Z"
   },
   {
    "duration": 15,
    "start_time": "2021-07-22T13:34:52.490Z"
   },
   {
    "duration": 11,
    "start_time": "2021-07-22T13:34:52.506Z"
   },
   {
    "duration": 4,
    "start_time": "2021-07-22T13:34:52.521Z"
   },
   {
    "duration": 17,
    "start_time": "2021-07-22T13:34:52.527Z"
   },
   {
    "duration": 9,
    "start_time": "2021-07-22T13:34:52.546Z"
   },
   {
    "duration": 3,
    "start_time": "2021-07-22T13:34:52.557Z"
   },
   {
    "duration": 13,
    "start_time": "2021-07-22T13:34:52.561Z"
   },
   {
    "duration": 22,
    "start_time": "2021-07-22T13:34:52.576Z"
   },
   {
    "duration": 20,
    "start_time": "2021-07-22T13:34:52.600Z"
   },
   {
    "duration": 11,
    "start_time": "2021-07-22T13:34:52.622Z"
   },
   {
    "duration": 19,
    "start_time": "2021-07-22T13:34:52.635Z"
   },
   {
    "duration": 26,
    "start_time": "2021-07-22T13:34:52.656Z"
   },
   {
    "duration": 26,
    "start_time": "2021-07-22T13:34:52.684Z"
   },
   {
    "duration": 1074,
    "start_time": "2021-07-22T13:34:52.712Z"
   },
   {
    "duration": 202,
    "start_time": "2021-07-22T13:34:53.788Z"
   },
   {
    "duration": 8,
    "start_time": "2021-07-22T13:34:53.992Z"
   },
   {
    "duration": 18,
    "start_time": "2021-07-22T13:34:54.002Z"
   }
  ],
  "kernelspec": {
   "display_name": "Python 3",
   "language": "python",
   "name": "python3"
  },
  "language_info": {
   "codemirror_mode": {
    "name": "ipython",
    "version": 3
   },
   "file_extension": ".py",
   "mimetype": "text/x-python",
   "name": "python",
   "nbconvert_exporter": "python",
   "pygments_lexer": "ipython3",
   "version": "3.7.8"
  },
  "toc": {
   "base_numbering": 1,
   "nav_menu": {},
   "number_sections": true,
   "sideBar": true,
   "skip_h1_title": true,
   "title_cell": "Table of Contents",
   "title_sidebar": "Contents",
   "toc_cell": false,
   "toc_position": {},
   "toc_section_display": true,
   "toc_window_display": true
  },
  "toc-autonumbering": true,
  "toc-showtags": false
 },
 "nbformat": 4,
 "nbformat_minor": 4
}
