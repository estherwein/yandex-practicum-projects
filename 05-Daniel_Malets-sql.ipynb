{
 "cells": [
  {
   "cell_type": "markdown",
   "id": "caa7de65",
   "metadata": {},
   "source": [
    "Hi Daniel. I'm Svetlana and will review your project. I've added all my comments to new cells with different coloring. Please don't delete my comments.\n",
    "\n",
    "\n",
    "The first time I see a mistake, I'll just point it out and let you find it and fix it yourself. In a real job, your boss will do the same, and I'm trying to prepare you to work as an Data Analyst. But if you can't handle this task yet, I'll give you a more accurate hint at the next check.\n",
    "\n",
    "<div class=\"alert alert-success\" role=\"alert\">\n",
    "Reviewer's comment v. 1:\n",
    "    \n",
    "If you did something great I'm using green color for my comment\n",
    "</div>\n",
    "\n",
    "<div class=\"alert alert-warning\" role=\"alert\">\n",
    "Reviewer's comment v. 1:\n",
    "    \n",
    "If I want to give you advice or think that something can be improved, then I'll use yellow. This is an optional recommendation.\n",
    "</div>\n",
    "\n",
    "<div class=\"alert alert-danger\" role=\"alert\">\n",
    "Reviewer's comment v. 1:\n",
    "    \n",
    "If the topic requires some extra work so I can accept it then the color will be red\n",
    "</div>\n",
    "\n",
    "## Review v. 1<a class=\"tocSkip\">\n",
    "\n",
    "Thank you for sending your project. You've done a really good job on it! While there's room for improvement, on the whole, your project is looking good. I've found some tiny mistakes in your project. They'll be easy to fix. There are also some comments for improvement. They don’t mean that you’ve done anything wrong, but they’re things we wanted to point out that can help you further develop your skills. You're almost there!\n",
    "    \n",
    "## Review v. 2<a class=\"tocSkip\">\n",
    "    \n",
    "Unfortunately, you received an incomplete review due to technical problems on the server :(\n",
    "    \n",
    "Congratulations! Your project now is perfect. Your project has been accepted and you can go to the next sprint! Well done!"
   ]
  },
  {
   "cell_type": "markdown",
   "id": "ea6e9b00",
   "metadata": {},
   "source": [
    "<div class='alert alert-info'><b>Student comment v. 2:</b><br />\n",
    "Hey Svetlana! <br />\n",
    "I appreciate your work in reviewing this project, I've mistakenly uploaded the wrong version of it, <br />\n",
    "and would like to get your opinion on a couple of points. <br />\n",
    "I'm adding links for your convenience: <br /> \n",
    "&nbsp;&nbsp;1. <a href=\"#v2-dup_elim\">Duplicates elimination</a>  <br />\n",
    "&nbsp;&nbsp;2. <a href=\"#v2-an_conc\">Analysis conclusions</a>  <br />\n",
    "&nbsp;&nbsp;3. <a href=\"#v2-gen_conc\">General conclusions</a>  <br />\n",
    "    \n",
    "Thank you! :)\n",
    "</div>"
   ]
  },
  {
   "cell_type": "markdown",
   "id": "f94729c1",
   "metadata": {},
   "source": [
    "## Review v. 3<a class=\"tocSkip\">\n",
    "\n"
   ]
  },
  {
   "cell_type": "code",
   "execution_count": 1,
   "id": "74c68f53",
   "metadata": {},
   "outputs": [],
   "source": [
    "import os\n",
    "import pandas as pd\n",
    "import numpy as np\n",
    "import matplotlib.pyplot as plt\n",
    "import seaborn as sns\n",
    "from scipy import stats as st"
   ]
  },
  {
   "cell_type": "code",
   "execution_count": 2,
   "id": "7e2385b4",
   "metadata": {},
   "outputs": [],
   "source": [
    "plt.rcParams['figure.figsize'] = (13,9)"
   ]
  },
  {
   "cell_type": "code",
   "execution_count": 3,
   "id": "3e58d9db",
   "metadata": {},
   "outputs": [],
   "source": [
    "!pip install -q --user --upgrade pandas\n",
    "!pip install -q --user --upgrade matplotlib-venn\n",
    "!pip install -q --user --upgrade seaborn"
   ]
  },
  {
   "cell_type": "markdown",
   "id": "aa9ae2ae",
   "metadata": {},
   "source": [
    "## Chicago area taxis and weather\n",
    "***\n",
    "##### commissioned by: \"Zuber\" - ride sharing"
   ]
  },
  {
   "cell_type": "markdown",
   "id": "42867d5f",
   "metadata": {},
   "source": [
    "The purpose of this report is to find patterns of usage, and understand passenger preferences.  \n",
    "To do so, we will draw information from the internet regarding the weather,  \n",
    "and further cross-reference and extrapolate from the analysis of Chicago taxi companies' data of November 2017:\n",
    "* load, clean and filter data\n",
    "* conduct exploratory data analysis\n",
    "* test hypotheses\n",
    "* draw conclusions"
   ]
  },
  {
   "cell_type": "markdown",
   "id": "9e80cef3",
   "metadata": {},
   "source": [
    "<div class=\"alert alert-success\" role=\"alert\">\n",
    "Reviewer's comment v. 1:\n",
    "    \n",
    "Well done that you formulated a goal of the project.\n",
    "</div>"
   ]
  },
  {
   "cell_type": "markdown",
   "id": "223d0bec",
   "metadata": {},
   "source": [
    "<a class=\"anchor\" id=\"0_toc\"></a>\n",
    "# Table of Contents\n",
    "***\n",
    "\n",
    "1. [EDA](#1-eda)\n",
    "    1. [Taxi companies](#1-companies)\n",
    "    2. [Destination neighborhoods](#1-destinations)\n",
    "    <br />[Conclusions](#1-eda_conclusions)\n",
    "2. [Hypothesis](#2-hypothesis)\n",
    "    1. [Load and Preprocess data](#2-data)\n",
    "    2. [Analysis](#2-analysis)\n",
    "    3. [Hypothesis testing](#2-hypothesis_test)\n",
    "    <br />[Conclusions](#2-hypothesis_conclusions)\n",
    "3. [Conclusions](#3-conclusions)"
   ]
  },
  {
   "cell_type": "markdown",
   "id": "19427e41",
   "metadata": {},
   "source": [
    "<div class='alert alert-info'><b>Student comment:</b><br />\n",
    "Previous steps (parse weather data from web source, and SQL queries), were performed beforehand on the online platform.  <br />\n",
    "CSV files are the results of these queries.\n",
    "</div>"
   ]
  },
  {
   "cell_type": "markdown",
   "id": "b1706ffa",
   "metadata": {},
   "source": [
    "<div class=\"alert alert-success\" role=\"alert\">\n",
    "Reviewer's comment v. 1:\n",
    "    \n",
    "Ok :)\n",
    "</div>"
   ]
  },
  {
   "cell_type": "code",
   "execution_count": 4,
   "id": "2bedcc57",
   "metadata": {},
   "outputs": [],
   "source": [
    "def load_file(file):\n",
    "    \"\"\"Returns a parsed DataFrame\"\"\"\n",
    "    \n",
    "    print(f'Loading {file}..')\n",
    "\n",
    "    filepath = f'/datasets/{file}'\n",
    "    if not os.path.isfile(filepath):\n",
    "        filepath = file\n",
    "\n",
    "    return pd.read_csv(filepath)"
   ]
  },
  {
   "cell_type": "markdown",
   "id": "6c56cead",
   "metadata": {},
   "source": [
    "<div class=\"alert alert-success\" role=\"alert\">\n",
    "Reviewer's comment v. 1:\n",
    "    \n",
    "Well done for using docstrings. It's helpful :)\n",
    "</div>"
   ]
  },
  {
   "cell_type": "markdown",
   "id": "eab544f5",
   "metadata": {},
   "source": [
    "<a class=\"anchor\" id=\"1-eda\"></a>\n",
    "## Exploratory data analysis\n",
    "***\n",
    "[back to Table of Contents](#0_toc)\n",
    "1. [Taxi companies](#1-companies)\n",
    "2. [Destination neighborhoods](#1-destinations)\n",
    "<br />[Conclusions](#1-eda_conclusions)"
   ]
  },
  {
   "cell_type": "code",
   "execution_count": 5,
   "id": "30737743",
   "metadata": {},
   "outputs": [
    {
     "name": "stdout",
     "output_type": "stream",
     "text": [
      "Loading project_sql_result_01.csv..\n",
      "Loading project_sql_result_04.csv..\n"
     ]
    }
   ],
   "source": [
    "df1 = load_file('project_sql_result_01.csv')\n",
    "df2 = load_file('project_sql_result_04.csv')"
   ]
  },
  {
   "cell_type": "markdown",
   "id": "09425f24",
   "metadata": {},
   "source": [
    "<div class=\"alert alert-success\" role=\"alert\">\n",
    "Reviewer's comment v. 1:\n",
    "    \n",
    "Ok, data is downloaded.\n",
    "</div>"
   ]
  },
  {
   "cell_type": "code",
   "execution_count": 6,
   "id": "354513a7",
   "metadata": {},
   "outputs": [
    {
     "data": {
      "text/html": [
       "<div>\n",
       "<style scoped>\n",
       "    .dataframe tbody tr th:only-of-type {\n",
       "        vertical-align: middle;\n",
       "    }\n",
       "\n",
       "    .dataframe tbody tr th {\n",
       "        vertical-align: top;\n",
       "    }\n",
       "\n",
       "    .dataframe thead th {\n",
       "        text-align: right;\n",
       "    }\n",
       "</style>\n",
       "<table border=\"1\" class=\"dataframe\">\n",
       "  <thead>\n",
       "    <tr style=\"text-align: right;\">\n",
       "      <th></th>\n",
       "      <th>company_name</th>\n",
       "      <th>trips_amount</th>\n",
       "    </tr>\n",
       "  </thead>\n",
       "  <tbody>\n",
       "    <tr>\n",
       "      <th>43</th>\n",
       "      <td>2809 - 95474 C &amp; D Cab Co Inc.</td>\n",
       "      <td>29</td>\n",
       "    </tr>\n",
       "    <tr>\n",
       "      <th>7</th>\n",
       "      <td>Sun Taxi</td>\n",
       "      <td>7701</td>\n",
       "    </tr>\n",
       "  </tbody>\n",
       "</table>\n",
       "</div>"
      ],
      "text/plain": [
       "                      company_name  trips_amount\n",
       "43  2809 - 95474 C & D Cab Co Inc.            29\n",
       "7                         Sun Taxi          7701"
      ]
     },
     "metadata": {},
     "output_type": "display_data"
    },
    {
     "data": {
      "text/html": [
       "<div>\n",
       "<style scoped>\n",
       "    .dataframe tbody tr th:only-of-type {\n",
       "        vertical-align: middle;\n",
       "    }\n",
       "\n",
       "    .dataframe tbody tr th {\n",
       "        vertical-align: top;\n",
       "    }\n",
       "\n",
       "    .dataframe thead th {\n",
       "        text-align: right;\n",
       "    }\n",
       "</style>\n",
       "<table border=\"1\" class=\"dataframe\">\n",
       "  <thead>\n",
       "    <tr style=\"text-align: right;\">\n",
       "      <th></th>\n",
       "      <th>dropoff_location_name</th>\n",
       "      <th>average_trips</th>\n",
       "    </tr>\n",
       "  </thead>\n",
       "  <tbody>\n",
       "    <tr>\n",
       "      <th>48</th>\n",
       "      <td>Austin</td>\n",
       "      <td>44.433333</td>\n",
       "    </tr>\n",
       "    <tr>\n",
       "      <th>25</th>\n",
       "      <td>Irving Park</td>\n",
       "      <td>296.566667</td>\n",
       "    </tr>\n",
       "  </tbody>\n",
       "</table>\n",
       "</div>"
      ],
      "text/plain": [
       "   dropoff_location_name  average_trips\n",
       "48                Austin      44.433333\n",
       "25           Irving Park     296.566667"
      ]
     },
     "metadata": {},
     "output_type": "display_data"
    }
   ],
   "source": [
    "display(\n",
    "    df1.sample(2),\n",
    "    df2.sample(2))"
   ]
  },
  {
   "cell_type": "markdown",
   "id": "7cc8ebfc",
   "metadata": {},
   "source": [
    "<a class=\"anchor\" id=\"1-companies\"></a>\n",
    "### Chicago cab companies rides, November 15-16, 2017\n",
    "[up](#1-eda)"
   ]
  },
  {
   "cell_type": "code",
   "execution_count": 7,
   "id": "75e7701a",
   "metadata": {
    "scrolled": true
   },
   "outputs": [
    {
     "name": "stdout",
     "output_type": "stream",
     "text": [
      "<class 'pandas.core.frame.DataFrame'>\n",
      "RangeIndex: 64 entries, 0 to 63\n",
      "Data columns (total 2 columns):\n",
      " #   Column        Non-Null Count  Dtype \n",
      "---  ------        --------------  ----- \n",
      " 0   company_name  64 non-null     object\n",
      " 1   trips_amount  64 non-null     int64 \n",
      "dtypes: int64(1), object(1)\n",
      "memory usage: 1.1+ KB\n"
     ]
    }
   ],
   "source": [
    "df1.info()"
   ]
  },
  {
   "cell_type": "markdown",
   "id": "a8f96c5f",
   "metadata": {},
   "source": [
    "There are no missing values, and data types are in order."
   ]
  },
  {
   "cell_type": "markdown",
   "id": "c0f922d5",
   "metadata": {},
   "source": [
    "<div class=\"alert alert-success\" role=\"alert\">\n",
    "Reviewer's comment v. 1:\n",
    "    \n",
    "Yes, we don't have problem with a missing values.\n",
    "</div>"
   ]
  },
  {
   "cell_type": "markdown",
   "id": "a8382a59",
   "metadata": {},
   "source": [
    "<div class=\"alert alert-danger\" role=\"alert\">\n",
    "Reviewer's comment v. 1:\n",
    "    \n",
    "Could you please check data for duplicates?\n",
    "</div>"
   ]
  },
  {
   "cell_type": "code",
   "execution_count": 8,
   "id": "5217294c",
   "metadata": {},
   "outputs": [],
   "source": [
    "lower_case_company_names = df1['company_name'].str.casefold()"
   ]
  },
  {
   "cell_type": "code",
   "execution_count": 9,
   "id": "3d0ff9ee",
   "metadata": {
    "scrolled": false
   },
   "outputs": [
    {
     "data": {
      "text/plain": [
       "0"
      ]
     },
     "execution_count": 9,
     "metadata": {},
     "output_type": "execute_result"
    }
   ],
   "source": [
    "lower_case_company_names.duplicated().sum()"
   ]
  },
  {
   "cell_type": "markdown",
   "id": "d2cde699",
   "metadata": {},
   "source": [
    "<div class=\"alert alert-success\" role=\"alert\">\n",
    "Reviewer's comment v. 2:\n",
    "    \n",
    "You are right, there is no duplicates in our data.\n",
    "</div>"
   ]
  },
  {
   "cell_type": "markdown",
   "id": "32e69d97",
   "metadata": {},
   "source": [
    "<a class=\"anchor\" id=\"v2-dup_elim\"></a>\n",
    "<div class='alert alert-info'><b>Student comment v. 2:</b><br />\n",
    "In the next couple of code cells (10-12), I've attempted to manually detect duplicated company names, <br />\n",
    "beyond what is possible with a simple duplicated() check. <br />\n",
    "I've spotted possible candidates, looked up info on the internet and decided which companies should be combined into a single entry. <br />\n",
    "This process is error-prone, and I am not 100% confident that my conclusions are correct. <br /> \n",
    "Is this a valid approach in a real-world scenario, working as an analyst? <br />\n",
    "Is such an approach reasonable, and does it fit this specific case?\n",
    "</div>"
   ]
  },
  {
   "cell_type": "markdown",
   "id": "df48a2f1",
   "metadata": {},
   "source": [
    "<div class=\"alert alert-success\" role=\"alert\">\n",
    "Reviewer's comment v. 3:\n",
    "    \n",
    "Preprocessing string duplicates is usually consists os several steps:\n",
    "    \n",
    "1. Converting string to the lower case.\n",
    "    \n",
    "2. Deleting special characters.\n",
    "    \n",
    "3. Removing different spelling of the same names (synonyms).\n",
    "    \n",
    "In general there is no generic method. Please note that regular expressinons and NLP methods can be useful here.\n",
    "    \n",
    "Please see for details: https://docs.python.org/3/howto/regex.html, https://towardsdatascience.com/text-normalization-7ecc8e084e31, https://www.linguamatics.com/guide-choosing-right-natural-language-processing-solution, https://www.machinelearningplus.com/nlp/lemmatization-examples-python/\n",
    "</div>"
   ]
  },
  {
   "cell_type": "code",
   "execution_count": 10,
   "id": "b5e8f748",
   "metadata": {},
   "outputs": [
    {
     "data": {
      "text/plain": [
       "array(['0118 - 42111 godfrey s. awir', '1085 - 72312 n and w cab co',\n",
       "       '1469 - 64126 omar jada', '2092 - 61288 sbeih company',\n",
       "       '2192 - 73487 zeymane corp', '2241 - 44667 - felman corp',\n",
       "       '24 seven taxi', '2733 - 74600 benny jona',\n",
       "       '2809 - 95474 c & d cab co inc.', '2823 - 73307 lee express inc',\n",
       "       '3011 - 66308 jbl cab inc.', '303 taxi',\n",
       "       '3556 - 36214 rc andrews cab', '3591 - 63480 chuks cab',\n",
       "       '3620 - 52292 david k. cab corp.',\n",
       "       '3623 - 72222 arrington enterprises', '3721 - santamaria express',\n",
       "       '4053 - 40193 adwar h. nikola', '4615 - 83503 tyrone henderson',\n",
       "       '4623 - 27290 jay kim', '5 star taxi', '5006 - 39261 salifu bawa',\n",
       "       '5062 - 34841 sam mestas', '5074 - 54002 ahzmi inc',\n",
       "       '5874 - 73628 sergey cab corp.', '5997 - 65283 aw services inc.',\n",
       "       '6057 - 24657 richard addo', '6574 - babylon express inc.',\n",
       "       '6742 - 83735 tasha ride inc', '6743 - 78771 luhak corp',\n",
       "       'american united', 'american united taxi affiliation',\n",
       "       'blue diamond', 'blue ribbon taxi association inc.',\n",
       "       'checker taxi', 'checker taxi affiliation',\n",
       "       'chicago carriage cab corp', 'chicago independents',\n",
       "       'chicago medallion leasing inc', 'chicago medallion management',\n",
       "       'chicago star taxicab', 'chicago taxicab',\n",
       "       'choice taxi association', 'city service',\n",
       "       'dispatch taxi affiliation', 'flash cab', 'globe taxi',\n",
       "       'gold coast taxi', 'koam taxi association', 'leonard cab co',\n",
       "       'medallion leasing', 'metro group', 'metro jet taxi a',\n",
       "       'norshore cab', 'nova taxi affiliation llc',\n",
       "       'patriot taxi dba peace taxi association',\n",
       "       'service taxi association', 'setare inc',\n",
       "       'star north management llc', 'sun taxi',\n",
       "       'taxi affiliation service yellow', 'taxi affiliation services',\n",
       "       'top cab affiliation', 'yellow cab'], dtype=object)"
      ]
     },
     "metadata": {},
     "output_type": "display_data"
    },
    {
     "name": "stdout",
     "output_type": "stream",
     "text": [
      "Count: 64\n"
     ]
    }
   ],
   "source": [
    "display(lower_case_company_names.sort_values().unique())\n",
    "print('Count:', lower_case_company_names.nunique())"
   ]
  },
  {
   "cell_type": "markdown",
   "id": "c86f9afd",
   "metadata": {},
   "source": [
    "Potential duplicate values spotted for 'company_name':  \n",
    "- ‘Checker Taxi Affiliation’, ‘Checker Taxi’\n",
    "- ‘Medallion Leasing‘, ‘Chicago Medallion Management’,  ‘Chicago Medallion Leasing INC’\n",
    "- ‘Taxi Affiliation Services’, ‘Taxi Affiliation Service Yellow’"
   ]
  },
  {
   "cell_type": "markdown",
   "id": "e82fa898",
   "metadata": {},
   "source": [
    "To understand whether these names are really duplicates, or just very similar, we need to contact the party responsible for this data.  \n",
    "In the case this is not possible, we can try to conduct own research, utilizing various sources: \n",
    "- Google\n",
    "- https://opengovus.com/chicago-business\n",
    "- https://www.chicago.gov/content/dam/city/depts/bacp/publicvehicleinfo/affiliationlicbrokermanager/TaxicabLicenseManagerList632016.pdf\n",
    "- https://www.chicago.gov/content/dam/city/depts/bacp/publicvehicleinfo/medallionowners/chicagotaxiaffiliationcontactlist2021jan25.pdf\n",
    "- https://www.yellowpages.com/chicago-il/taxis\n",
    "- https://www.negup.com/taxi-directory/us/city/chicago/\n",
    "\n",
    "After searching for the potential values, these are the conclusions:\n",
    "- ‘Checker Taxi Affiliation’, ‘Checker Taxi’  \n",
    "\\- same company. renaming to ‘Checker Taxi Affiliation’.\n",
    "<br><br>\n",
    "- ‘Medallion Leasing‘, ‘Chicago Medallion Management’,  ‘Chicago Medallion Leasing INC’  \n",
    "\\- ‘Medallion Leasing‘, ‘Chicago Medallion Leasing INC’ - same company. renaming to ‘Chicago Medallion Leasing INC’.  \n",
    "\\- ‘Chicago Medallion Management’ - different company.\n",
    "<br><br>\n",
    "- ‘Taxi Affiliation Services’, ‘Taxi Affiliation Service Yellow’  \n",
    "\\- same company. renaming to ‘Taxi Affiliation Services’"
   ]
  },
  {
   "cell_type": "markdown",
   "id": "2185d253",
   "metadata": {},
   "source": [
    "<div class=\"alert alert-success\" role=\"alert\">\n",
    "Reviewer's comment v. 3:\n",
    "    \n",
    "It's a really great job that you clearly analysed possible duplicates in the companies names.\n",
    "</div>"
   ]
  },
  {
   "cell_type": "code",
   "execution_count": 11,
   "id": "3106e728",
   "metadata": {},
   "outputs": [],
   "source": [
    "def eliminate_duplicate_companies(row, lowercase_name):\n",
    "    \"\"\"Check for predefined similar names, and normalize. Returns the modified row.\"\"\"\n",
    "    \n",
    "    company_name = lowercase_name.iloc[row.name]\n",
    "    # print(row.name, row, company_name)\n",
    "    \n",
    "    if 'checker' in company_name:\n",
    "        row['company_name'] = 'Checker Taxi Affiliation'\n",
    "    elif 'medallion' in company_name:\n",
    "        if 'leasing' in company_name:\n",
    "            row['company_name'] = 'Chicago Medallion Leasing INC'\n",
    "        else:\n",
    "            row['company_name'] = 'Chicago Medallion Management'\n",
    "    elif 'affiliation' in company_name:\n",
    "        row['company_name'] = 'Checker Taxi Affiliation'\n",
    "    \n",
    "    return row"
   ]
  },
  {
   "cell_type": "code",
   "execution_count": 12,
   "id": "ddf19dea",
   "metadata": {},
   "outputs": [],
   "source": [
    "df1 = (df1\n",
    " .apply(lambda row:eliminate_duplicate_companies(row, lower_case_company_names), axis=1)\n",
    " .groupby('company_name')\n",
    " .sum()\n",
    " .sort_values('trips_amount', ascending=False)\n",
    " .reset_index())"
   ]
  },
  {
   "cell_type": "code",
   "execution_count": 13,
   "id": "444cd637",
   "metadata": {},
   "outputs": [
    {
     "data": {
      "text/plain": [
       "count                              56\n",
       "unique                             56\n",
       "top       6742 - 83735 Tasha Ride Inc\n",
       "freq                                1\n",
       "Name: company_name, dtype: object"
      ]
     },
     "execution_count": 13,
     "metadata": {},
     "output_type": "execute_result"
    }
   ],
   "source": [
    "df1['company_name'].describe()"
   ]
  },
  {
   "cell_type": "code",
   "execution_count": 14,
   "id": "6097e473",
   "metadata": {},
   "outputs": [
    {
     "data": {
      "text/plain": [
       "count       56.000000\n",
       "mean      2451.982143\n",
       "std       5548.975330\n",
       "min          2.000000\n",
       "25%         15.750000\n",
       "50%         38.000000\n",
       "75%       1820.000000\n",
       "max      32141.000000\n",
       "Name: trips_amount, dtype: float64"
      ]
     },
     "execution_count": 14,
     "metadata": {},
     "output_type": "execute_result"
    }
   ],
   "source": [
    "df1['trips_amount'].describe()"
   ]
  },
  {
   "cell_type": "code",
   "execution_count": 15,
   "id": "2f78454f",
   "metadata": {},
   "outputs": [
    {
     "data": {
      "image/png": "[encoded data removed]",
      "text/plain": [
       "<Figure size 936x648 with 1 Axes>"
      ]
     },
     "metadata": {
      "needs_background": "light"
     },
     "output_type": "display_data"
    }
   ],
   "source": [
    "df1['trips_amount'].plot.box();"
   ]
  },
  {
   "cell_type": "markdown",
   "id": "5101528c",
   "metadata": {},
   "source": [
    "There are some visible suspected outliers, checking:"
   ]
  },
  {
   "cell_type": "markdown",
   "id": "65c900bb",
   "metadata": {},
   "source": [
    "<div class=\"alert alert-success\" role=\"alert\">\n",
    "Reviewer's comment v. 1:\n",
    "    \n",
    "Yes, you correctly noted aproblem with an outliers. \n",
    "</div>"
   ]
  },
  {
   "cell_type": "markdown",
   "id": "23358c9c",
   "metadata": {},
   "source": [
    "<div class=\"alert alert-danger\" role=\"alert\">\n",
    "Reviewer's comment v. 1:\n",
    "    \n",
    "Could you please explain a possible reasons of an anomaly values? \n",
    "</div>"
   ]
  },
  {
   "cell_type": "markdown",
   "id": "70eaa6e9",
   "metadata": {},
   "source": [
    "The potential anomalies could be explained by:\n",
    "1. Popularity - people prefer a single brand (taxi company in this case) over others\n",
    "2. Broader area of service - there may be more drivers (and taxies) for this company, which means more customers and overall trips\n",
    "3. Technical issue - there may be a technical issue, and thus this value is an error.  \n",
    "There is no indication that this is the case, since the scale of the number is close to the other values  \n",
    "\\- this needs to be checked with the Data Base Admin responsible for this data."
   ]
  },
  {
   "cell_type": "markdown",
   "id": "38f6733d",
   "metadata": {},
   "source": [
    "<div class=\"alert alert-success\" role=\"alert\">\n",
    "Reviewer's comment v. 2:\n",
    "    \n",
    "Yes, it can be a technical errors. The situation when people prefer a single brand is common situation and can lead to an anomaly values :)\n",
    "</div>"
   ]
  },
  {
   "cell_type": "code",
   "execution_count": 16,
   "id": "1fe1867c",
   "metadata": {},
   "outputs": [
    {
     "data": {
      "text/html": [
       "<div>\n",
       "<style scoped>\n",
       "    .dataframe tbody tr th:only-of-type {\n",
       "        vertical-align: middle;\n",
       "    }\n",
       "\n",
       "    .dataframe tbody tr th {\n",
       "        vertical-align: top;\n",
       "    }\n",
       "\n",
       "    .dataframe thead th {\n",
       "        text-align: right;\n",
       "    }\n",
       "</style>\n",
       "<table border=\"1\" class=\"dataframe\">\n",
       "  <thead>\n",
       "    <tr style=\"text-align: right;\">\n",
       "      <th></th>\n",
       "      <th>company_name</th>\n",
       "      <th>trips_amount</th>\n",
       "    </tr>\n",
       "  </thead>\n",
       "  <tbody>\n",
       "    <tr>\n",
       "      <th>0</th>\n",
       "      <td>Checker Taxi Affiliation</td>\n",
       "      <td>32141</td>\n",
       "    </tr>\n",
       "    <tr>\n",
       "      <th>1</th>\n",
       "      <td>Flash Cab</td>\n",
       "      <td>19558</td>\n",
       "    </tr>\n",
       "    <tr>\n",
       "      <th>2</th>\n",
       "      <td>Chicago Medallion Leasing INC</td>\n",
       "      <td>11974</td>\n",
       "    </tr>\n",
       "    <tr>\n",
       "      <th>3</th>\n",
       "      <td>Yellow Cab</td>\n",
       "      <td>9888</td>\n",
       "    </tr>\n",
       "    <tr>\n",
       "      <th>4</th>\n",
       "      <td>Chicago Carriage Cab Corp</td>\n",
       "      <td>9181</td>\n",
       "    </tr>\n",
       "    <tr>\n",
       "      <th>5</th>\n",
       "      <td>City Service</td>\n",
       "      <td>8448</td>\n",
       "    </tr>\n",
       "    <tr>\n",
       "      <th>6</th>\n",
       "      <td>Sun Taxi</td>\n",
       "      <td>7701</td>\n",
       "    </tr>\n",
       "    <tr>\n",
       "      <th>7</th>\n",
       "      <td>Star North Management LLC</td>\n",
       "      <td>7455</td>\n",
       "    </tr>\n",
       "    <tr>\n",
       "      <th>8</th>\n",
       "      <td>Blue Ribbon Taxi Association Inc.</td>\n",
       "      <td>5953</td>\n",
       "    </tr>\n",
       "    <tr>\n",
       "      <th>9</th>\n",
       "      <td>Choice Taxi Association</td>\n",
       "      <td>5015</td>\n",
       "    </tr>\n",
       "  </tbody>\n",
       "</table>\n",
       "</div>"
      ],
      "text/plain": [
       "                        company_name  trips_amount\n",
       "0           Checker Taxi Affiliation         32141\n",
       "1                          Flash Cab         19558\n",
       "2      Chicago Medallion Leasing INC         11974\n",
       "3                         Yellow Cab          9888\n",
       "4          Chicago Carriage Cab Corp          9181\n",
       "5                       City Service          8448\n",
       "6                           Sun Taxi          7701\n",
       "7          Star North Management LLC          7455\n",
       "8  Blue Ribbon Taxi Association Inc.          5953\n",
       "9            Choice Taxi Association          5015"
      ]
     },
     "execution_count": 16,
     "metadata": {},
     "output_type": "execute_result"
    }
   ],
   "source": [
    "df1.nlargest(10, 'trips_amount')"
   ]
  },
  {
   "cell_type": "code",
   "execution_count": 17,
   "id": "d8eec8c4",
   "metadata": {
    "scrolled": true
   },
   "outputs": [
    {
     "data": {
      "text/html": [
       "<div>\n",
       "<style scoped>\n",
       "    .dataframe tbody tr th:only-of-type {\n",
       "        vertical-align: middle;\n",
       "    }\n",
       "\n",
       "    .dataframe tbody tr th {\n",
       "        vertical-align: top;\n",
       "    }\n",
       "\n",
       "    .dataframe thead th {\n",
       "        text-align: right;\n",
       "    }\n",
       "</style>\n",
       "<table border=\"1\" class=\"dataframe\">\n",
       "  <thead>\n",
       "    <tr style=\"text-align: right;\">\n",
       "      <th></th>\n",
       "      <th>company_name</th>\n",
       "      <th>trips_amount</th>\n",
       "    </tr>\n",
       "  </thead>\n",
       "  <tbody>\n",
       "    <tr>\n",
       "      <th>44</th>\n",
       "      <td>3721 - Santamaria Express</td>\n",
       "      <td>14</td>\n",
       "    </tr>\n",
       "    <tr>\n",
       "      <th>47</th>\n",
       "      <td>6057 - 24657 Richard Addo</td>\n",
       "      <td>13</td>\n",
       "    </tr>\n",
       "    <tr>\n",
       "      <th>48</th>\n",
       "      <td>5997 - 65283 AW Services Inc.</td>\n",
       "      <td>12</td>\n",
       "    </tr>\n",
       "    <tr>\n",
       "      <th>49</th>\n",
       "      <td>Metro Group</td>\n",
       "      <td>11</td>\n",
       "    </tr>\n",
       "    <tr>\n",
       "      <th>50</th>\n",
       "      <td>5062 - 34841 Sam Mestas</td>\n",
       "      <td>8</td>\n",
       "    </tr>\n",
       "    <tr>\n",
       "      <th>52</th>\n",
       "      <td>2733 - 74600 Benny Jona</td>\n",
       "      <td>7</td>\n",
       "    </tr>\n",
       "    <tr>\n",
       "      <th>51</th>\n",
       "      <td>4053 - 40193 Adwar H. Nikola</td>\n",
       "      <td>7</td>\n",
       "    </tr>\n",
       "    <tr>\n",
       "      <th>53</th>\n",
       "      <td>5874 - 73628 Sergey Cab Corp.</td>\n",
       "      <td>5</td>\n",
       "    </tr>\n",
       "    <tr>\n",
       "      <th>54</th>\n",
       "      <td>2241 - 44667 - Felman Corp</td>\n",
       "      <td>3</td>\n",
       "    </tr>\n",
       "    <tr>\n",
       "      <th>55</th>\n",
       "      <td>3556 - 36214 RC Andrews Cab</td>\n",
       "      <td>2</td>\n",
       "    </tr>\n",
       "  </tbody>\n",
       "</table>\n",
       "</div>"
      ],
      "text/plain": [
       "                     company_name  trips_amount\n",
       "44      3721 - Santamaria Express            14\n",
       "47      6057 - 24657 Richard Addo            13\n",
       "48  5997 - 65283 AW Services Inc.            12\n",
       "49                    Metro Group            11\n",
       "50        5062 - 34841 Sam Mestas             8\n",
       "52        2733 - 74600 Benny Jona             7\n",
       "51   4053 - 40193 Adwar H. Nikola             7\n",
       "53  5874 - 73628 Sergey Cab Corp.             5\n",
       "54     2241 - 44667 - Felman Corp             3\n",
       "55    3556 - 36214 RC Andrews Cab             2"
      ]
     },
     "execution_count": 17,
     "metadata": {},
     "output_type": "execute_result"
    }
   ],
   "source": [
    "df1.nsmallest(10, 'trips_amount')[::-1]"
   ]
  },
  {
   "cell_type": "markdown",
   "id": "f09529c3",
   "metadata": {},
   "source": [
    "Suspected outliers seem to be legitimate values (same scale), will not be removed."
   ]
  },
  {
   "cell_type": "code",
   "execution_count": 18,
   "id": "24a46a14",
   "metadata": {},
   "outputs": [
    {
     "data": {
      "image/png": "[encoded data removed]",
      "text/plain": [
       "<Figure size 936x648 with 1 Axes>"
      ]
     },
     "metadata": {
      "needs_background": "light"
     },
     "output_type": "display_data"
    }
   ],
   "source": [
    "sns.barplot(data=df1.nlargest(10, 'trips_amount'), x='company_name', y='trips_amount')\n",
    "plt.title('Number of rides per company')\n",
    "plt.xticks(rotation=45, ha='right')\n",
    "plt.xlabel('Company')\n",
    "plt.ylabel('Trips')\n",
    "plt.show();"
   ]
  },
  {
   "cell_type": "markdown",
   "id": "ef559edc",
   "metadata": {},
   "source": [
    "<div class=\"alert alert-success\" role=\"alert\">\n",
    "Reviewer's comment v. 1:\n",
    "    \n",
    "An excellent graph :) Great that you sorted values on the graph :) This makes it easier to analyze the data.\n",
    "</div>"
   ]
  },
  {
   "cell_type": "code",
   "execution_count": 19,
   "id": "232ab023",
   "metadata": {},
   "outputs": [
    {
     "data": {
      "image/png": "[encoded data removed]",
      "text/plain": [
       "<Figure size 936x648 with 1 Axes>"
      ]
     },
     "metadata": {},
     "output_type": "display_data"
    }
   ],
   "source": [
    "df1.nlargest(10, 'trips_amount').plot.pie(\n",
    "    y='trips_amount',\n",
    "    labels=df1['company_name'],\n",
    "    autopct='%.1f%%',\n",
    "    explode=[0.2, *np.zeros(9)],\n",
    "    shadow=True,\n",
    "    startangle=135,\n",
    "    legend=None)\n",
    "plt.ylabel(None)\n",
    "plt.title('Rides ratio per company\\n')\n",
    "plt.show();"
   ]
  },
  {
   "cell_type": "markdown",
   "id": "4a96e92a",
   "metadata": {},
   "source": [
    "'Checker Taxi Affiliation' have the largest share of rides for November 15-16, 2017, more than 1/4 of the data,  \n",
    "with 'Flash Cab' far behind it.  \n",
    "The ratio decreases gradually from the 3rd place on."
   ]
  },
  {
   "cell_type": "markdown",
   "id": "39515308",
   "metadata": {},
   "source": [
    "<div class=\"alert alert-success\" role=\"alert\">\n",
    "Reviewer's comment v. 1:\n",
    "    \n",
    "Yes, you are right, 'Flash Cab' have the largest share of rides among other companies.\n",
    "</div>"
   ]
  },
  {
   "cell_type": "markdown",
   "id": "b1371fb9",
   "metadata": {},
   "source": [
    "<div class='alert alert-info'><b>Student comment:</b><br />\n",
    "After merging detected duplicates, details have changed - and the above message is now irrelevant.\n",
    "</div>"
   ]
  },
  {
   "cell_type": "markdown",
   "id": "b44568ef",
   "metadata": {},
   "source": [
    "<div class=\"alert alert-success\" role=\"alert\">\n",
    "Reviewer's comment v. 2:\n",
    "    \n",
    "👍👍👍\n",
    "</div>"
   ]
  },
  {
   "cell_type": "markdown",
   "id": "251c95f6",
   "metadata": {},
   "source": [
    "<a class=\"anchor\" id=\"1-destinations\"></a>\n",
    "### Chicago neighborhood destinations, November 2017\n",
    "[up](#1-eda)"
   ]
  },
  {
   "cell_type": "code",
   "execution_count": 20,
   "id": "2dc450c3",
   "metadata": {},
   "outputs": [
    {
     "name": "stdout",
     "output_type": "stream",
     "text": [
      "<class 'pandas.core.frame.DataFrame'>\n",
      "RangeIndex: 94 entries, 0 to 93\n",
      "Data columns (total 2 columns):\n",
      " #   Column                 Non-Null Count  Dtype  \n",
      "---  ------                 --------------  -----  \n",
      " 0   dropoff_location_name  94 non-null     object \n",
      " 1   average_trips          94 non-null     float64\n",
      "dtypes: float64(1), object(1)\n",
      "memory usage: 1.6+ KB\n"
     ]
    }
   ],
   "source": [
    "df2.info()"
   ]
  },
  {
   "cell_type": "markdown",
   "id": "e1df4062",
   "metadata": {},
   "source": [
    "There are no missing values,  \n",
    "'average_trips' data type can be converted to int."
   ]
  },
  {
   "cell_type": "markdown",
   "id": "8c2abffc",
   "metadata": {},
   "source": [
    "<div class=\"alert alert-success\" role=\"alert\">\n",
    "Reviewer's comment v. 1:\n",
    "    \n",
    "Yes, it's necessary to change data type for 'average_trips' column.\n",
    "</div>"
   ]
  },
  {
   "cell_type": "code",
   "execution_count": 21,
   "id": "fe408999",
   "metadata": {},
   "outputs": [],
   "source": [
    "df2['average_trips'] = df2['average_trips'].astype('int')"
   ]
  },
  {
   "cell_type": "code",
   "execution_count": 22,
   "id": "49e73dfc",
   "metadata": {},
   "outputs": [
    {
     "data": {
      "text/plain": [
       "count              94\n",
       "unique             94\n",
       "top       Avalon Park\n",
       "freq                1\n",
       "Name: dropoff_location_name, dtype: object"
      ]
     },
     "execution_count": 22,
     "metadata": {},
     "output_type": "execute_result"
    }
   ],
   "source": [
    "df2['dropoff_location_name'].describe()"
   ]
  },
  {
   "cell_type": "code",
   "execution_count": 23,
   "id": "e1eec84b",
   "metadata": {},
   "outputs": [
    {
     "data": {
      "text/plain": [
       "0"
      ]
     },
     "execution_count": 23,
     "metadata": {},
     "output_type": "execute_result"
    }
   ],
   "source": [
    "df2['dropoff_location_name'].duplicated().sum()"
   ]
  },
  {
   "cell_type": "code",
   "execution_count": 24,
   "id": "df9302c7",
   "metadata": {},
   "outputs": [
    {
     "data": {
      "text/plain": [
       "array(['albany park', 'andersonville', 'archer heights', 'armour square',\n",
       "       'ashburn', 'auburn gresham', 'austin', 'avalon park', 'avondale',\n",
       "       'belmont cragin', 'beverly', 'boystown', 'bridgeport',\n",
       "       'brighton park', 'bucktown', 'burnside', 'calumet heights',\n",
       "       'chatham', 'chicago lawn', 'chinatown', 'clearing', 'douglas',\n",
       "       'dunning', 'east side', 'east village', 'edgewater', 'edison park',\n",
       "       'englewood', 'fuller park', 'gage park', 'garfield park',\n",
       "       'garfield ridge', 'gold coast', 'grand boulevard',\n",
       "       'grand crossing', 'grant park', 'hegewisch', 'hermosa',\n",
       "       'humboldt park', 'hyde park', 'irving park', 'jackson park',\n",
       "       'jefferson park', 'kenwood', 'lake view', 'lincoln park',\n",
       "       'lincoln square', 'little italy, uic', 'little village',\n",
       "       'logan square', 'loop', 'lower west side', 'mckinley park',\n",
       "       'montclare', 'morgan park', 'mount greenwood', 'museum campus',\n",
       "       'near south side', 'new city', 'north center', 'north lawndale',\n",
       "       'north park', 'norwood park', \"o'hare\", 'oakland', 'old town',\n",
       "       'portage park', 'pullman', 'river north', 'riverdale',\n",
       "       'rogers park', 'roseland', 'rush & division',\n",
       "       'sauganash,forest glen', 'sheffield & depaul', 'south chicago',\n",
       "       'south deering', 'south shore', 'streeterville',\n",
       "       'ukrainian village', 'undef', 'united center', 'uptown',\n",
       "       'washington heights', 'washington park', 'west elsdon',\n",
       "       'west lawn', 'west loop', 'west pullman', 'west ridge',\n",
       "       'west town', 'wicker park', 'woodlawn', 'wrigleyville'],\n",
       "      dtype=object)"
      ]
     },
     "execution_count": 24,
     "metadata": {},
     "output_type": "execute_result"
    }
   ],
   "source": [
    "df2['dropoff_location_name'].str.casefold().sort_values().unique()"
   ]
  },
  {
   "cell_type": "markdown",
   "id": "869315ee",
   "metadata": {},
   "source": [
    "There are no duplicated 'dropoff_location_name' values."
   ]
  },
  {
   "cell_type": "markdown",
   "id": "7dcf4df2",
   "metadata": {},
   "source": [
    "<div class=\"alert alert-success\" role=\"alert\">\n",
    "Reviewer's comment v. 1:\n",
    "    \n",
    "Well done that you checked data for duplicates.\n",
    "</div>"
   ]
  },
  {
   "cell_type": "code",
   "execution_count": 25,
   "id": "282cb740",
   "metadata": {},
   "outputs": [
    {
     "data": {
      "text/plain": [
       "count       94.000000\n",
       "mean       599.478723\n",
       "std       1714.555974\n",
       "min          1.000000\n",
       "25%         14.000000\n",
       "50%         51.500000\n",
       "75%        298.750000\n",
       "max      10727.000000\n",
       "Name: average_trips, dtype: float64"
      ]
     },
     "execution_count": 25,
     "metadata": {},
     "output_type": "execute_result"
    }
   ],
   "source": [
    "df2['average_trips'].describe()"
   ]
  },
  {
   "cell_type": "code",
   "execution_count": 26,
   "id": "20ae2542",
   "metadata": {},
   "outputs": [
    {
     "data": {
      "image/png": "[encoded data removed]",
      "text/plain": [
       "<Figure size 936x648 with 1 Axes>"
      ]
     },
     "metadata": {
      "needs_background": "light"
     },
     "output_type": "display_data"
    }
   ],
   "source": [
    "df2['average_trips'].plot.box();"
   ]
  },
  {
   "cell_type": "markdown",
   "id": "521a0a82",
   "metadata": {},
   "source": [
    "There are some visible suspected outliers, checking:"
   ]
  },
  {
   "cell_type": "code",
   "execution_count": 27,
   "id": "bf127902",
   "metadata": {},
   "outputs": [
    {
     "data": {
      "text/html": [
       "<div>\n",
       "<style scoped>\n",
       "    .dataframe tbody tr th:only-of-type {\n",
       "        vertical-align: middle;\n",
       "    }\n",
       "\n",
       "    .dataframe tbody tr th {\n",
       "        vertical-align: top;\n",
       "    }\n",
       "\n",
       "    .dataframe thead th {\n",
       "        text-align: right;\n",
       "    }\n",
       "</style>\n",
       "<table border=\"1\" class=\"dataframe\">\n",
       "  <thead>\n",
       "    <tr style=\"text-align: right;\">\n",
       "      <th></th>\n",
       "      <th>dropoff_location_name</th>\n",
       "      <th>average_trips</th>\n",
       "    </tr>\n",
       "  </thead>\n",
       "  <tbody>\n",
       "    <tr>\n",
       "      <th>0</th>\n",
       "      <td>Loop</td>\n",
       "      <td>10727</td>\n",
       "    </tr>\n",
       "    <tr>\n",
       "      <th>1</th>\n",
       "      <td>River North</td>\n",
       "      <td>9523</td>\n",
       "    </tr>\n",
       "    <tr>\n",
       "      <th>2</th>\n",
       "      <td>Streeterville</td>\n",
       "      <td>6664</td>\n",
       "    </tr>\n",
       "    <tr>\n",
       "      <th>3</th>\n",
       "      <td>West Loop</td>\n",
       "      <td>5163</td>\n",
       "    </tr>\n",
       "    <tr>\n",
       "      <th>4</th>\n",
       "      <td>O'Hare</td>\n",
       "      <td>2546</td>\n",
       "    </tr>\n",
       "    <tr>\n",
       "      <th>5</th>\n",
       "      <td>Lake View</td>\n",
       "      <td>2420</td>\n",
       "    </tr>\n",
       "    <tr>\n",
       "      <th>6</th>\n",
       "      <td>Grant Park</td>\n",
       "      <td>2068</td>\n",
       "    </tr>\n",
       "    <tr>\n",
       "      <th>7</th>\n",
       "      <td>Museum Campus</td>\n",
       "      <td>1510</td>\n",
       "    </tr>\n",
       "    <tr>\n",
       "      <th>8</th>\n",
       "      <td>Gold Coast</td>\n",
       "      <td>1364</td>\n",
       "    </tr>\n",
       "    <tr>\n",
       "      <th>9</th>\n",
       "      <td>Sheffield &amp; DePaul</td>\n",
       "      <td>1259</td>\n",
       "    </tr>\n",
       "  </tbody>\n",
       "</table>\n",
       "</div>"
      ],
      "text/plain": [
       "  dropoff_location_name  average_trips\n",
       "0                  Loop          10727\n",
       "1           River North           9523\n",
       "2         Streeterville           6664\n",
       "3             West Loop           5163\n",
       "4                O'Hare           2546\n",
       "5             Lake View           2420\n",
       "6            Grant Park           2068\n",
       "7         Museum Campus           1510\n",
       "8            Gold Coast           1364\n",
       "9    Sheffield & DePaul           1259"
      ]
     },
     "execution_count": 27,
     "metadata": {},
     "output_type": "execute_result"
    }
   ],
   "source": [
    "df2.nlargest(10, 'average_trips')"
   ]
  },
  {
   "cell_type": "code",
   "execution_count": 28,
   "id": "3fd16cfd",
   "metadata": {},
   "outputs": [
    {
     "data": {
      "text/html": [
       "<div>\n",
       "<style scoped>\n",
       "    .dataframe tbody tr th:only-of-type {\n",
       "        vertical-align: middle;\n",
       "    }\n",
       "\n",
       "    .dataframe tbody tr th {\n",
       "        vertical-align: top;\n",
       "    }\n",
       "\n",
       "    .dataframe thead th {\n",
       "        text-align: right;\n",
       "    }\n",
       "</style>\n",
       "<table border=\"1\" class=\"dataframe\">\n",
       "  <thead>\n",
       "    <tr style=\"text-align: right;\">\n",
       "      <th></th>\n",
       "      <th>dropoff_location_name</th>\n",
       "      <th>average_trips</th>\n",
       "    </tr>\n",
       "  </thead>\n",
       "  <tbody>\n",
       "    <tr>\n",
       "      <th>83</th>\n",
       "      <td>Avalon Park</td>\n",
       "      <td>6</td>\n",
       "    </tr>\n",
       "    <tr>\n",
       "      <th>86</th>\n",
       "      <td>West Elsdon</td>\n",
       "      <td>5</td>\n",
       "    </tr>\n",
       "    <tr>\n",
       "      <th>85</th>\n",
       "      <td>Montclare</td>\n",
       "      <td>5</td>\n",
       "    </tr>\n",
       "    <tr>\n",
       "      <th>90</th>\n",
       "      <td>Hegewisch</td>\n",
       "      <td>3</td>\n",
       "    </tr>\n",
       "    <tr>\n",
       "      <th>89</th>\n",
       "      <td>Mount Greenwood</td>\n",
       "      <td>3</td>\n",
       "    </tr>\n",
       "    <tr>\n",
       "      <th>88</th>\n",
       "      <td>Undef</td>\n",
       "      <td>3</td>\n",
       "    </tr>\n",
       "    <tr>\n",
       "      <th>87</th>\n",
       "      <td>Pullman</td>\n",
       "      <td>3</td>\n",
       "    </tr>\n",
       "    <tr>\n",
       "      <th>91</th>\n",
       "      <td>Burnside</td>\n",
       "      <td>2</td>\n",
       "    </tr>\n",
       "    <tr>\n",
       "      <th>93</th>\n",
       "      <td>Riverdale</td>\n",
       "      <td>1</td>\n",
       "    </tr>\n",
       "    <tr>\n",
       "      <th>92</th>\n",
       "      <td>East Side</td>\n",
       "      <td>1</td>\n",
       "    </tr>\n",
       "  </tbody>\n",
       "</table>\n",
       "</div>"
      ],
      "text/plain": [
       "   dropoff_location_name  average_trips\n",
       "83           Avalon Park              6\n",
       "86           West Elsdon              5\n",
       "85             Montclare              5\n",
       "90             Hegewisch              3\n",
       "89       Mount Greenwood              3\n",
       "88                 Undef              3\n",
       "87               Pullman              3\n",
       "91              Burnside              2\n",
       "93             Riverdale              1\n",
       "92             East Side              1"
      ]
     },
     "execution_count": 28,
     "metadata": {},
     "output_type": "execute_result"
    }
   ],
   "source": [
    "df2.nsmallest(10, 'average_trips')[::-1]"
   ]
  },
  {
   "cell_type": "markdown",
   "id": "8fda122f",
   "metadata": {},
   "source": [
    "Suspected outliers are legitimate values (same scale), will not be removed."
   ]
  },
  {
   "cell_type": "markdown",
   "id": "3260d889",
   "metadata": {},
   "source": [
    "<div class=\"alert alert-success\" role=\"alert\">\n",
    "Reviewer's comment v. 1:\n",
    "    \n",
    "Yes, a reasonable decision :)\n",
    "</div>"
   ]
  },
  {
   "cell_type": "code",
   "execution_count": 29,
   "id": "38eff9fb",
   "metadata": {},
   "outputs": [
    {
     "data": {
      "image/png": "[encoded data removed]",
      "text/plain": [
       "<Figure size 936x648 with 1 Axes>"
      ]
     },
     "metadata": {
      "needs_background": "light"
     },
     "output_type": "display_data"
    }
   ],
   "source": [
    "sns.barplot(data=df2.nlargest(10, 'average_trips'), x='dropoff_location_name', y='average_trips')\n",
    "plt.title('November 2017 destinations')\n",
    "plt.xticks(rotation=45, ha='right')\n",
    "plt.xlabel('Location')\n",
    "plt.ylabel('avg. Trips')\n",
    "plt.show();"
   ]
  },
  {
   "cell_type": "code",
   "execution_count": 30,
   "id": "6869d0e8",
   "metadata": {},
   "outputs": [
    {
     "data": {
      "image/png": "[encoded data removed]",
      "text/plain": [
       "<Figure size 936x648 with 1 Axes>"
      ]
     },
     "metadata": {},
     "output_type": "display_data"
    }
   ],
   "source": [
    "df2.nlargest(10, 'average_trips').plot.pie(\n",
    "    y='average_trips',\n",
    "    labels=df2['dropoff_location_name'],\n",
    "    autopct='%.1f%%',\n",
    "    shadow=True,\n",
    "    startangle=135,\n",
    "    legend=None)\n",
    "plt.ylabel(None)\n",
    "plt.title('November 2017 destinations (ratio)\\n')\n",
    "plt.show();"
   ]
  },
  {
   "cell_type": "markdown",
   "id": "dc222661",
   "metadata": {},
   "source": [
    "4 neighborhoods constitute almost 75% of November's drop-off locations:\n",
    "* Loop\n",
    "* River North\n",
    "* Streetville\n",
    "* West Loop  \n",
    "\n",
    "The rest's shares are gradually decreasing, starting from the 5th position."
   ]
  },
  {
   "cell_type": "markdown",
   "id": "14019d49",
   "metadata": {},
   "source": [
    "<div class=\"alert alert-success\" role=\"alert\">\n",
    "Reviewer's comment v. 1:\n",
    "    \n",
    "An excellent analysis :) I recommend compare the number of rides for these locations. Do you have any idea why these neighborhoods are so popular?\n",
    "</div>"
   ]
  },
  {
   "cell_type": "markdown",
   "id": "a1e8a04b",
   "metadata": {},
   "source": [
    "<a class=\"anchor\" id=\"v2-an_conc\"></a>\n",
    "<div class='alert alert-info'><b>Student comment v. 2:</b><br />\n",
    "I've uploaded an incorrect version of the notebook, <br />\n",
    "below are the updated conclusions (for neighborhoods, and in general for this section a cell below that).\n",
    "</div>"
   ]
  },
  {
   "cell_type": "markdown",
   "id": "b80e3c0e",
   "metadata": {},
   "source": [
    "<div class=\"alert alert-success\" role=\"alert\">\n",
    "Reviewer's comment v. 3:\n",
    "    \n",
    "Ok :)\n",
    "</div>"
   ]
  },
  {
   "cell_type": "markdown",
   "id": "66888a27",
   "metadata": {},
   "source": [
    "Possible explanations for these locations:\n",
    "- High profile locations (Loop - downtown: restaurants, clubs, etc..)\n",
    "- Wealthy neighborhood (River North)\n",
    "- Tourist Attractions (Streetville: museums, parks... - West Loop: Greektown, art galleries...)\n",
    "- Airport (O'Hare)\n",
    "\n",
    "\\- source: https://www.choosechicago.com/neighborhoods/loop/"
   ]
  },
  {
   "cell_type": "markdown",
   "id": "eccba867",
   "metadata": {},
   "source": [
    "<div class=\"alert alert-success\" role=\"alert\">\n",
    "Reviewer's comment v. 3:\n",
    "    \n",
    "Yes, the main reasons of popularity of these locations are correctly defined. Well done!\n",
    "    \n",
    "We also can conclude that clients mainly prefer crowded places with a large number of different establishments. It looks like people in the rich region prefer to use taxi.\n",
    "</div>"
   ]
  },
  {
   "cell_type": "markdown",
   "id": "b4b51fc5",
   "metadata": {},
   "source": [
    "<a class=\"anchor\" id=\"1-eda_conclusions\"></a>\n",
    "### Conclusions\n",
    "[up](#1-eda)"
   ]
  },
  {
   "cell_type": "markdown",
   "id": "e27bf4c7",
   "metadata": {},
   "source": [
    "<!-- Most of the companies have a similar share of the pie, with a slight exception - 'Flash Cab'.  \n",
    "To gain more insight, and explore correlation of companies to drop-off locations, additional data is required:\n",
    "* Outreach of companies (geospatial)\n",
    "* Number of drivers, cross-referenced with shift hours\n",
    "* Customer opinions and taxi apps' reviews -->\n",
    "\n",
    "There are 3 major competitors:\n",
    "- 'Checker Taxi Affiliation' - 27.4%\n",
    "- 'Flash Cab' - 16.7%\n",
    "- 'Chicago Medallion Leasing Inc.' - 10.2%  \n",
    "\n",
    "The rest of the companies have decreasing shares ('Yellow Cab' with 8.4% and below).  \n",
    "To gain more insight, and explore correlation of companies to drop-off locations, additional data is required:\n",
    "* Outreach of companies (geospatial)\n",
    "* Number of drivers, cross-referenced with shift hours\n",
    "* Customer opinions and taxi apps' reviews \n",
    "<br>\n",
    "<br>\n",
    "\n",
    "There are 5 main destinations:\n",
    "* Loop\n",
    "* River North\n",
    "* Streetville\n",
    "* West Loop  \n",
    "* O'Hare\n",
    "\n",
    "First 4 constitute 75% of the data."
   ]
  },
  {
   "cell_type": "markdown",
   "id": "f8ab1cba",
   "metadata": {},
   "source": [
    "<div class=\"alert alert-success\" role=\"alert\">\n",
    "Reviewer's comment v. 1:\n",
    "    \n",
    "👍👍👍\n",
    "</div>"
   ]
  },
  {
   "cell_type": "markdown",
   "id": "e2df31eb",
   "metadata": {},
   "source": [
    "<div class=\"alert alert-success\" role=\"alert\">\n",
    "Reviewer's comment v. 3:\n",
    "    \n",
    "Yes, you correctly chose the most popular companies and 5 top 5 locations.\n",
    "</div>"
   ]
  },
  {
   "cell_type": "markdown",
   "id": "af4f263e",
   "metadata": {},
   "source": [
    "<a class=\"anchor\" id=\"2-hypothesis\"></a>\n",
    "## Hypothesis\n",
    "***\n",
    "[back to Table of Contents](#0_toc)\n",
    "1. [Load and Preprocess data](#2-data)\n",
    "2. [Analysis](#2-analysis)\n",
    "3. [Hypothesis testing](#2-hypothesis_test)\n",
    "<br />[Conclusions](#2-hypothesis_conclusions)"
   ]
  },
  {
   "cell_type": "markdown",
   "id": "ce052aaa",
   "metadata": {},
   "source": [
    "<a class=\"anchor\" id=\"2-data\"></a>\n",
    "### Load file and preprocess\n",
    "[up](#2-hypothesis)"
   ]
  },
  {
   "cell_type": "code",
   "execution_count": 31,
   "id": "f7f07b0f",
   "metadata": {},
   "outputs": [
    {
     "name": "stdout",
     "output_type": "stream",
     "text": [
      "Loading project_sql_result_07.csv..\n"
     ]
    },
    {
     "data": {
      "text/html": [
       "<div>\n",
       "<style scoped>\n",
       "    .dataframe tbody tr th:only-of-type {\n",
       "        vertical-align: middle;\n",
       "    }\n",
       "\n",
       "    .dataframe tbody tr th {\n",
       "        vertical-align: top;\n",
       "    }\n",
       "\n",
       "    .dataframe thead th {\n",
       "        text-align: right;\n",
       "    }\n",
       "</style>\n",
       "<table border=\"1\" class=\"dataframe\">\n",
       "  <thead>\n",
       "    <tr style=\"text-align: right;\">\n",
       "      <th></th>\n",
       "      <th>start_ts</th>\n",
       "      <th>weather_conditions</th>\n",
       "      <th>duration_seconds</th>\n",
       "    </tr>\n",
       "  </thead>\n",
       "  <tbody>\n",
       "    <tr>\n",
       "      <th>625</th>\n",
       "      <td>2017-11-04 16:00:00</td>\n",
       "      <td>Bad</td>\n",
       "      <td>3540.0</td>\n",
       "    </tr>\n",
       "    <tr>\n",
       "      <th>903</th>\n",
       "      <td>2017-11-11 13:00:00</td>\n",
       "      <td>Good</td>\n",
       "      <td>2148.0</td>\n",
       "    </tr>\n",
       "  </tbody>\n",
       "</table>\n",
       "</div>"
      ],
      "text/plain": [
       "                start_ts weather_conditions  duration_seconds\n",
       "625  2017-11-04 16:00:00                Bad            3540.0\n",
       "903  2017-11-11 13:00:00               Good            2148.0"
      ]
     },
     "execution_count": 31,
     "metadata": {},
     "output_type": "execute_result"
    }
   ],
   "source": [
    "df = load_file('project_sql_result_07.csv')\n",
    "df.sample(2)"
   ]
  },
  {
   "cell_type": "code",
   "execution_count": 32,
   "id": "cd2d7b6f",
   "metadata": {},
   "outputs": [
    {
     "name": "stdout",
     "output_type": "stream",
     "text": [
      "<class 'pandas.core.frame.DataFrame'>\n",
      "RangeIndex: 1068 entries, 0 to 1067\n",
      "Data columns (total 3 columns):\n",
      " #   Column              Non-Null Count  Dtype  \n",
      "---  ------              --------------  -----  \n",
      " 0   start_ts            1068 non-null   object \n",
      " 1   weather_conditions  1068 non-null   object \n",
      " 2   duration_seconds    1068 non-null   float64\n",
      "dtypes: float64(1), object(2)\n",
      "memory usage: 25.2+ KB\n"
     ]
    }
   ],
   "source": [
    "df.info()"
   ]
  },
  {
   "cell_type": "code",
   "execution_count": 33,
   "id": "d5024cff",
   "metadata": {},
   "outputs": [
    {
     "data": {
      "text/plain": [
       "start_ts               81\n",
       "weather_conditions      2\n",
       "duration_seconds      495\n",
       "dtype: int64"
      ]
     },
     "execution_count": 33,
     "metadata": {},
     "output_type": "execute_result"
    }
   ],
   "source": [
    "df.nunique()"
   ]
  },
  {
   "cell_type": "code",
   "execution_count": 34,
   "id": "5fcd0cc6",
   "metadata": {},
   "outputs": [
    {
     "data": {
      "text/html": [
       "<div>\n",
       "<style scoped>\n",
       "    .dataframe tbody tr th:only-of-type {\n",
       "        vertical-align: middle;\n",
       "    }\n",
       "\n",
       "    .dataframe tbody tr th {\n",
       "        vertical-align: top;\n",
       "    }\n",
       "\n",
       "    .dataframe thead th {\n",
       "        text-align: right;\n",
       "    }\n",
       "</style>\n",
       "<table border=\"1\" class=\"dataframe\">\n",
       "  <thead>\n",
       "    <tr style=\"text-align: right;\">\n",
       "      <th></th>\n",
       "      <th>start_ts</th>\n",
       "      <th>weather_conditions</th>\n",
       "    </tr>\n",
       "  </thead>\n",
       "  <tbody>\n",
       "    <tr>\n",
       "      <th>count</th>\n",
       "      <td>1068</td>\n",
       "      <td>1068</td>\n",
       "    </tr>\n",
       "    <tr>\n",
       "      <th>unique</th>\n",
       "      <td>81</td>\n",
       "      <td>2</td>\n",
       "    </tr>\n",
       "    <tr>\n",
       "      <th>top</th>\n",
       "      <td>2017-11-11 10:00:00</td>\n",
       "      <td>Good</td>\n",
       "    </tr>\n",
       "    <tr>\n",
       "      <th>freq</th>\n",
       "      <td>48</td>\n",
       "      <td>888</td>\n",
       "    </tr>\n",
       "  </tbody>\n",
       "</table>\n",
       "</div>"
      ],
      "text/plain": [
       "                   start_ts weather_conditions\n",
       "count                  1068               1068\n",
       "unique                   81                  2\n",
       "top     2017-11-11 10:00:00               Good\n",
       "freq                     48                888"
      ]
     },
     "execution_count": 34,
     "metadata": {},
     "output_type": "execute_result"
    }
   ],
   "source": [
    "df.describe(include='object')"
   ]
  },
  {
   "cell_type": "code",
   "execution_count": 35,
   "id": "ac40a3c4",
   "metadata": {},
   "outputs": [
    {
     "data": {
      "text/html": [
       "<div>\n",
       "<style scoped>\n",
       "    .dataframe tbody tr th:only-of-type {\n",
       "        vertical-align: middle;\n",
       "    }\n",
       "\n",
       "    .dataframe tbody tr th {\n",
       "        vertical-align: top;\n",
       "    }\n",
       "\n",
       "    .dataframe thead th {\n",
       "        text-align: right;\n",
       "    }\n",
       "</style>\n",
       "<table border=\"1\" class=\"dataframe\">\n",
       "  <thead>\n",
       "    <tr style=\"text-align: right;\">\n",
       "      <th></th>\n",
       "      <th>duration_seconds</th>\n",
       "    </tr>\n",
       "  </thead>\n",
       "  <tbody>\n",
       "    <tr>\n",
       "      <th>count</th>\n",
       "      <td>1068.000000</td>\n",
       "    </tr>\n",
       "    <tr>\n",
       "      <th>mean</th>\n",
       "      <td>2071.731273</td>\n",
       "    </tr>\n",
       "    <tr>\n",
       "      <th>std</th>\n",
       "      <td>769.461125</td>\n",
       "    </tr>\n",
       "    <tr>\n",
       "      <th>min</th>\n",
       "      <td>0.000000</td>\n",
       "    </tr>\n",
       "    <tr>\n",
       "      <th>25%</th>\n",
       "      <td>1438.250000</td>\n",
       "    </tr>\n",
       "    <tr>\n",
       "      <th>50%</th>\n",
       "      <td>1980.000000</td>\n",
       "    </tr>\n",
       "    <tr>\n",
       "      <th>75%</th>\n",
       "      <td>2580.000000</td>\n",
       "    </tr>\n",
       "    <tr>\n",
       "      <th>max</th>\n",
       "      <td>7440.000000</td>\n",
       "    </tr>\n",
       "  </tbody>\n",
       "</table>\n",
       "</div>"
      ],
      "text/plain": [
       "       duration_seconds\n",
       "count       1068.000000\n",
       "mean        2071.731273\n",
       "std          769.461125\n",
       "min            0.000000\n",
       "25%         1438.250000\n",
       "50%         1980.000000\n",
       "75%         2580.000000\n",
       "max         7440.000000"
      ]
     },
     "execution_count": 35,
     "metadata": {},
     "output_type": "execute_result"
    }
   ],
   "source": [
    "df.describe()"
   ]
  },
  {
   "cell_type": "markdown",
   "id": "1c7cb22c",
   "metadata": {},
   "source": [
    "There are no missing values.  "
   ]
  },
  {
   "cell_type": "markdown",
   "id": "8453e13c",
   "metadata": {},
   "source": [
    "Converting data types:\n",
    "* start_ts -> datetime\n",
    "* weather_conditions -> boolean (+ rename to 'is_good_weather')\n",
    "* duration_seconds -> int"
   ]
  },
  {
   "cell_type": "code",
   "execution_count": 36,
   "id": "c9aa6332",
   "metadata": {},
   "outputs": [],
   "source": [
    "df['start_ts'] = pd.to_datetime(df['start_ts'])"
   ]
  },
  {
   "cell_type": "markdown",
   "id": "c7b0c027",
   "metadata": {},
   "source": [
    "<div class=\"alert alert-success\" role=\"alert\">\n",
    "Reviewer's comment v. 1:\n",
    "    \n",
    "It's great that you have changed 'start_ts' column to the correct data type.\n",
    "</div>"
   ]
  },
  {
   "cell_type": "code",
   "execution_count": 37,
   "id": "3c75a491",
   "metadata": {},
   "outputs": [],
   "source": [
    "df['is_good_weather'] = df['weather_conditions'].map({'Good': True, 'Bad': False})\n",
    "df.drop('weather_conditions', inplace=True, axis=1)"
   ]
  },
  {
   "cell_type": "code",
   "execution_count": 38,
   "id": "37c877b1",
   "metadata": {},
   "outputs": [],
   "source": [
    "df['duration_seconds'] = df['duration_seconds'].astype('int')"
   ]
  },
  {
   "cell_type": "code",
   "execution_count": 39,
   "id": "23b3f332",
   "metadata": {},
   "outputs": [
    {
     "data": {
      "text/html": [
       "<div>\n",
       "<style scoped>\n",
       "    .dataframe tbody tr th:only-of-type {\n",
       "        vertical-align: middle;\n",
       "    }\n",
       "\n",
       "    .dataframe tbody tr th {\n",
       "        vertical-align: top;\n",
       "    }\n",
       "\n",
       "    .dataframe thead th {\n",
       "        text-align: right;\n",
       "    }\n",
       "</style>\n",
       "<table border=\"1\" class=\"dataframe\">\n",
       "  <thead>\n",
       "    <tr style=\"text-align: right;\">\n",
       "      <th></th>\n",
       "      <th>start_ts</th>\n",
       "      <th>duration_seconds</th>\n",
       "      <th>is_good_weather</th>\n",
       "    </tr>\n",
       "  </thead>\n",
       "  <tbody>\n",
       "    <tr>\n",
       "      <th>820</th>\n",
       "      <td>2017-11-04 16:00:00</td>\n",
       "      <td>2903</td>\n",
       "      <td>False</td>\n",
       "    </tr>\n",
       "  </tbody>\n",
       "</table>\n",
       "</div>"
      ],
      "text/plain": [
       "               start_ts  duration_seconds  is_good_weather\n",
       "820 2017-11-04 16:00:00              2903            False"
      ]
     },
     "metadata": {},
     "output_type": "display_data"
    },
    {
     "name": "stdout",
     "output_type": "stream",
     "text": [
      "<class 'pandas.core.frame.DataFrame'>\n",
      "RangeIndex: 1068 entries, 0 to 1067\n",
      "Data columns (total 3 columns):\n",
      " #   Column            Non-Null Count  Dtype         \n",
      "---  ------            --------------  -----         \n",
      " 0   start_ts          1068 non-null   datetime64[ns]\n",
      " 1   duration_seconds  1068 non-null   int64         \n",
      " 2   is_good_weather   1068 non-null   bool          \n",
      "dtypes: bool(1), datetime64[ns](1), int64(1)\n",
      "memory usage: 17.9 KB\n"
     ]
    }
   ],
   "source": [
    "display(df.sample())\n",
    "df.info()"
   ]
  },
  {
   "cell_type": "markdown",
   "id": "5a8b8ea7",
   "metadata": {},
   "source": [
    "<div class=\"alert alert-danger\" role=\"alert\">\n",
    "Reviewer's comment v. 1:\n",
    "    \n",
    "Please check data for duplicates.\n",
    "</div>"
   ]
  },
  {
   "cell_type": "code",
   "execution_count": 40,
   "id": "5e49f98a",
   "metadata": {},
   "outputs": [
    {
     "data": {
      "text/plain": [
       "197"
      ]
     },
     "execution_count": 40,
     "metadata": {},
     "output_type": "execute_result"
    }
   ],
   "source": [
    "df.duplicated().sum()"
   ]
  },
  {
   "cell_type": "markdown",
   "id": "4dad1f39",
   "metadata": {},
   "source": [
    "It may seem that there are potentially duplicated values,  \n",
    "but when considering that table represents customer trips,  \n",
    "it is reasonable that different costumers had the same attributes - start time, weather and trip duration.  \n",
    "\n",
    "Since there is no 'customer id' identifier, we can't know for sure if these values are duplicates or not.  \n",
    "Assuming these are unique entries."
   ]
  },
  {
   "cell_type": "markdown",
   "id": "45b03d46",
   "metadata": {},
   "source": [
    "<div class=\"alert alert-success\" role=\"alert\">\n",
    "Reviewer's comment v. 3:\n",
    "    \n",
    "Yes, a reasonable dicision :)\n",
    "</div>"
   ]
  },
  {
   "cell_type": "markdown",
   "id": "01a7ab1d",
   "metadata": {},
   "source": [
    "<div class=\"alert alert-danger\" role=\"alert\">\n",
    "Reviewer's comment v. 1:\n",
    "    \n",
    "Are there any anomalies in data? \n",
    "</div>"
   ]
  },
  {
   "cell_type": "markdown",
   "id": "09a55494",
   "metadata": {},
   "source": [
    "<div class=\"alert alert-success\" role=\"alert\">\n",
    "Reviewer's comment v. 1:\n",
    "    \n",
    "AN excellent analysis and explanations :) \n",
    "</div>"
   ]
  },
  {
   "cell_type": "code",
   "execution_count": 41,
   "id": "e6a6d094",
   "metadata": {},
   "outputs": [
    {
     "data": {
      "text/plain": [
       "2017-11-11    426\n",
       "2017-11-04    367\n",
       "2017-11-18    180\n",
       "2017-11-25     95\n",
       "Name: start_ts, dtype: int64"
      ]
     },
     "execution_count": 41,
     "metadata": {},
     "output_type": "execute_result"
    }
   ],
   "source": [
    "df['start_ts'].dt.date.value_counts()"
   ]
  },
  {
   "cell_type": "markdown",
   "id": "a097728a",
   "metadata": {},
   "source": [
    "All dates are within a reasonable range. no outliers."
   ]
  },
  {
   "cell_type": "code",
   "execution_count": 42,
   "id": "17de6c11",
   "metadata": {},
   "outputs": [
    {
     "data": {
      "image/png": "[encoded data removed]",
      "text/plain": [
       "<Figure size 936x648 with 1 Axes>"
      ]
     },
     "metadata": {
      "needs_background": "light"
     },
     "output_type": "display_data"
    }
   ],
   "source": [
    "df['duration_seconds'].plot.box();"
   ]
  },
  {
   "cell_type": "code",
   "execution_count": 43,
   "id": "fe65e9b2",
   "metadata": {},
   "outputs": [
    {
     "data": {
      "text/plain": [
       "354    7440\n",
       "619    6420\n",
       "276    4980\n",
       "583    4980\n",
       "79     4800\n",
       "646    4380\n",
       "353    4140\n",
       "110    4044\n",
       "798    3982\n",
       "304    3900\n",
       "Name: duration_seconds, dtype: int64"
      ]
     },
     "execution_count": 43,
     "metadata": {},
     "output_type": "execute_result"
    }
   ],
   "source": [
    "df['duration_seconds'].sort_values(ascending=False).head(10)"
   ]
  },
  {
   "cell_type": "markdown",
   "id": "44220f5f",
   "metadata": {},
   "source": [
    "'duration_seconds' potential outliers are within reasonable range."
   ]
  },
  {
   "cell_type": "markdown",
   "id": "6e0eb6a2",
   "metadata": {},
   "source": [
    "<div class=\"alert alert-success\" role=\"alert\">\n",
    "Reviewer's comment v. 3:\n",
    "    \n",
    "Ok :)\n",
    "</div>"
   ]
  },
  {
   "cell_type": "markdown",
   "id": "391767ee",
   "metadata": {},
   "source": [
    "<a class=\"anchor\" id=\"2-analysis\"></a>\n",
    "### Analysis\n",
    "[up](#2-hypothesis)"
   ]
  },
  {
   "cell_type": "code",
   "execution_count": 44,
   "id": "abc65fa3",
   "metadata": {
    "scrolled": false
   },
   "outputs": [
    {
     "data": {
      "text/html": [
       "<div>\n",
       "<style scoped>\n",
       "    .dataframe tbody tr th:only-of-type {\n",
       "        vertical-align: middle;\n",
       "    }\n",
       "\n",
       "    .dataframe tbody tr th {\n",
       "        vertical-align: top;\n",
       "    }\n",
       "\n",
       "    .dataframe thead th {\n",
       "        text-align: right;\n",
       "    }\n",
       "</style>\n",
       "<table border=\"1\" class=\"dataframe\">\n",
       "  <thead>\n",
       "    <tr style=\"text-align: right;\">\n",
       "      <th></th>\n",
       "      <th></th>\n",
       "      <th>count</th>\n",
       "      <th>ratio</th>\n",
       "    </tr>\n",
       "    <tr>\n",
       "      <th>day</th>\n",
       "      <th>is_good_weather</th>\n",
       "      <th></th>\n",
       "      <th></th>\n",
       "    </tr>\n",
       "  </thead>\n",
       "  <tbody>\n",
       "    <tr>\n",
       "      <th rowspan=\"2\" valign=\"top\">4</th>\n",
       "      <th>False</th>\n",
       "      <td>80</td>\n",
       "      <td>0.07</td>\n",
       "    </tr>\n",
       "    <tr>\n",
       "      <th>True</th>\n",
       "      <td>287</td>\n",
       "      <td>0.27</td>\n",
       "    </tr>\n",
       "    <tr>\n",
       "      <th>11</th>\n",
       "      <th>True</th>\n",
       "      <td>426</td>\n",
       "      <td>0.40</td>\n",
       "    </tr>\n",
       "    <tr>\n",
       "      <th rowspan=\"2\" valign=\"top\">18</th>\n",
       "      <th>False</th>\n",
       "      <td>100</td>\n",
       "      <td>0.09</td>\n",
       "    </tr>\n",
       "    <tr>\n",
       "      <th>True</th>\n",
       "      <td>80</td>\n",
       "      <td>0.07</td>\n",
       "    </tr>\n",
       "    <tr>\n",
       "      <th>25</th>\n",
       "      <th>True</th>\n",
       "      <td>95</td>\n",
       "      <td>0.09</td>\n",
       "    </tr>\n",
       "    <tr>\n",
       "      <th>All</th>\n",
       "      <th></th>\n",
       "      <td>1068</td>\n",
       "      <td>1.00</td>\n",
       "    </tr>\n",
       "  </tbody>\n",
       "</table>\n",
       "</div>"
      ],
      "text/plain": [
       "                     count  ratio\n",
       "day is_good_weather              \n",
       "4   False               80   0.07\n",
       "    True               287   0.27\n",
       "11  True               426   0.40\n",
       "18  False              100   0.09\n",
       "    True                80   0.07\n",
       "25  True                95   0.09\n",
       "All                   1068   1.00"
      ]
     },
     "execution_count": 44,
     "metadata": {},
     "output_type": "execute_result"
    }
   ],
   "source": [
    "pivot = df.pivot_table(\n",
    "    index=[df['start_ts'].dt.day, 'is_good_weather'],\n",
    "    values='duration_seconds',\n",
    "    aggfunc='count',\n",
    "    margins=True)\n",
    "pivot['ratio'] = round(pivot['duration_seconds'] / pivot['duration_seconds']['All'].values[0], 2)\n",
    "pivot = pivot.reset_index()\n",
    "pivot.columns = ['day', 'is_good_weather', 'count', 'ratio']\n",
    "pivot = pivot.set_index(['day', 'is_good_weather'])\n",
    "pivot"
   ]
  },
  {
   "cell_type": "markdown",
   "id": "9bca5cec",
   "metadata": {},
   "source": [
    "Data contains less rainy days than non-rainy ones."
   ]
  },
  {
   "cell_type": "code",
   "execution_count": 45,
   "id": "7d2b8bf3",
   "metadata": {},
   "outputs": [
    {
     "data": {
      "text/html": [
       "<div>\n",
       "<style scoped>\n",
       "    .dataframe tbody tr th:only-of-type {\n",
       "        vertical-align: middle;\n",
       "    }\n",
       "\n",
       "    .dataframe tbody tr th {\n",
       "        vertical-align: top;\n",
       "    }\n",
       "\n",
       "    .dataframe thead th {\n",
       "        text-align: right;\n",
       "    }\n",
       "</style>\n",
       "<table border=\"1\" class=\"dataframe\">\n",
       "  <thead>\n",
       "    <tr style=\"text-align: right;\">\n",
       "      <th></th>\n",
       "      <th>duration_seconds</th>\n",
       "      <th>is_good_weather</th>\n",
       "    </tr>\n",
       "  </thead>\n",
       "  <tbody>\n",
       "    <tr>\n",
       "      <th>duration_seconds</th>\n",
       "      <td>1.000000</td>\n",
       "      <td>-0.208092</td>\n",
       "    </tr>\n",
       "    <tr>\n",
       "      <th>is_good_weather</th>\n",
       "      <td>-0.208092</td>\n",
       "      <td>1.000000</td>\n",
       "    </tr>\n",
       "  </tbody>\n",
       "</table>\n",
       "</div>"
      ],
      "text/plain": [
       "                  duration_seconds  is_good_weather\n",
       "duration_seconds          1.000000        -0.208092\n",
       "is_good_weather          -0.208092         1.000000"
      ]
     },
     "execution_count": 45,
     "metadata": {},
     "output_type": "execute_result"
    }
   ],
   "source": [
    "df.corr()"
   ]
  },
  {
   "cell_type": "markdown",
   "id": "1a875a38",
   "metadata": {},
   "source": [
    "There is no correlation between duration of ride and weather."
   ]
  },
  {
   "cell_type": "code",
   "execution_count": 46,
   "id": "d89980d1",
   "metadata": {},
   "outputs": [
    {
     "name": "stdout",
     "output_type": "stream",
     "text": [
      "[25  4 11 18] ['Saturday']\n"
     ]
    }
   ],
   "source": [
    "print(\n",
    "    df['start_ts'].dt.day.unique(),\n",
    "    df['start_ts'].dt.day_name().unique())"
   ]
  },
  {
   "cell_type": "markdown",
   "id": "0d67fab6",
   "metadata": {},
   "source": [
    "All days are saturdays, of November 2017."
   ]
  },
  {
   "cell_type": "code",
   "execution_count": 47,
   "id": "50c8e9af",
   "metadata": {},
   "outputs": [
    {
     "data": {
      "text/html": [
       "<div>\n",
       "<style scoped>\n",
       "    .dataframe tbody tr th:only-of-type {\n",
       "        vertical-align: middle;\n",
       "    }\n",
       "\n",
       "    .dataframe tbody tr th {\n",
       "        vertical-align: top;\n",
       "    }\n",
       "\n",
       "    .dataframe thead th {\n",
       "        text-align: right;\n",
       "    }\n",
       "</style>\n",
       "<table border=\"1\" class=\"dataframe\">\n",
       "  <thead>\n",
       "    <tr style=\"text-align: right;\">\n",
       "      <th></th>\n",
       "      <th>is_good_weather</th>\n",
       "    </tr>\n",
       "  </thead>\n",
       "  <tbody>\n",
       "    <tr>\n",
       "      <th>4</th>\n",
       "      <td>-0.095569</td>\n",
       "    </tr>\n",
       "    <tr>\n",
       "      <th>11</th>\n",
       "      <td>0.366747</td>\n",
       "    </tr>\n",
       "    <tr>\n",
       "      <th>18</th>\n",
       "      <td>-0.465465</td>\n",
       "    </tr>\n",
       "    <tr>\n",
       "      <th>25</th>\n",
       "      <td>0.140681</td>\n",
       "    </tr>\n",
       "  </tbody>\n",
       "</table>\n",
       "</div>"
      ],
      "text/plain": [
       "    is_good_weather\n",
       "4         -0.095569\n",
       "11         0.366747\n",
       "18        -0.465465\n",
       "25         0.140681"
      ]
     },
     "execution_count": 47,
     "metadata": {},
     "output_type": "execute_result"
    }
   ],
   "source": [
    "pd.concat([\n",
    "    df['is_good_weather'],\n",
    "    pd.get_dummies(df['start_ts'].dt.day)\n",
    "], axis=1).corr().iloc[0][1:].to_frame()"
   ]
  },
  {
   "cell_type": "markdown",
   "id": "9fac749f",
   "metadata": {},
   "source": [
    "Correlation of ride's day and weather:  \n",
    "There seems to be a weak negative correlation for the 18th, and no correlation for other days.  \n",
    "Exploring further visually."
   ]
  },
  {
   "cell_type": "markdown",
   "id": "ab2f3249",
   "metadata": {},
   "source": [
    "<div class=\"alert alert-success\" role=\"alert\">\n",
    "Reviewer's comment v. 1:\n",
    "    \n",
    "It's a good idea to use a correlation function.\n",
    "</div>"
   ]
  },
  {
   "cell_type": "code",
   "execution_count": 48,
   "id": "c2705bca",
   "metadata": {},
   "outputs": [],
   "source": [
    "# avg_ride_duration_by_weather = df.groupby('is_good_weather').mean().reset_index()"
   ]
  },
  {
   "cell_type": "code",
   "execution_count": 49,
   "id": "d4723eac",
   "metadata": {},
   "outputs": [
    {
     "data": {
      "image/png": "[encoded data removed]",
      "text/plain": [
       "<Figure size 936x648 with 1 Axes>"
      ]
     },
     "metadata": {
      "needs_background": "light"
     },
     "output_type": "display_data"
    }
   ],
   "source": [
    "ax = sns.barplot(data=df, x='is_good_weather', y='duration_seconds', ci=False)\n",
    "plt.title('Average Ride duration')\n",
    "plt.xticks([0,1], ['Bad weather', 'Good weather'])\n",
    "plt.xlabel('Weather')\n",
    "plt.ylabel('Duration (sec.)')\n",
    "\n",
    "# for index, row in weather_groups.iterrows():\n",
    "#     ax.text(index, row['duration_seconds'], round(row['duration_seconds'],2), color='black', ha=\"center\", size=14)\n",
    "    \n",
    "for i, bar in enumerate(ax.patches):\n",
    "    ax.annotate(int(bar.get_height()), \n",
    "           (bar.get_x() + bar.get_width() / 2, \n",
    "            bar.get_height()), ha='center', va='center',\n",
    "           size=16, xytext=(0, -16),\n",
    "           textcoords='offset points', color='white')\n",
    "\n",
    "plt.show();"
   ]
  },
  {
   "cell_type": "markdown",
   "id": "36d49b4b",
   "metadata": {},
   "source": [
    "Average duration differs, but not by much."
   ]
  },
  {
   "cell_type": "code",
   "execution_count": 50,
   "id": "309d580d",
   "metadata": {},
   "outputs": [
    {
     "data": {
      "image/png": "[encoded data removed]",
      "text/plain": [
       "<Figure size 936x648 with 1 Axes>"
      ]
     },
     "metadata": {
      "needs_background": "light"
     },
     "output_type": "display_data"
    }
   ],
   "source": [
    "sns.scatterplot(data=df, x='is_good_weather', y='duration_seconds');\n",
    "plt.title('Correlation of Weather and Ride duration');\n",
    "plt.xticks([0,1], ['Bad weather', 'Good weather'])\n",
    "plt.xlabel('Weather')\n",
    "plt.ylabel('Duration (sec.)')\n",
    "plt.show();"
   ]
  },
  {
   "cell_type": "markdown",
   "id": "0e2e8753",
   "metadata": {},
   "source": [
    "Dispersion looks similar.  \n",
    "Checking by Date:"
   ]
  },
  {
   "cell_type": "code",
   "execution_count": 51,
   "id": "2c970110",
   "metadata": {
    "scrolled": false
   },
   "outputs": [
    {
     "data": {
      "image/png": "[encoded data removed]",
      "text/plain": [
       "<Figure size 936x648 with 1 Axes>"
      ]
     },
     "metadata": {
      "needs_background": "light"
     },
     "output_type": "display_data"
    }
   ],
   "source": [
    "sns.scatterplot(data=df, x='start_ts', y='duration_seconds', hue='is_good_weather')\n",
    "plt.title('Correlation of Ride characteristics (date, duration) and weather');\n",
    "plt.xticks(df['start_ts'].dt.date.unique())\n",
    "plt.xlabel('Date')\n",
    "plt.ylabel('Duration (sec.)')\n",
    "plt.show();"
   ]
  },
  {
   "cell_type": "markdown",
   "id": "003e9d02",
   "metadata": {},
   "source": [
    "Zooming in:"
   ]
  },
  {
   "cell_type": "code",
   "execution_count": 52,
   "id": "166a9d34",
   "metadata": {
    "scrolled": false
   },
   "outputs": [
    {
     "data": {
      "image/png": "[encoded data removed]",
      "text/plain": [
       "<Figure size 936x648 with 1 Axes>"
      ]
     },
     "metadata": {
      "needs_background": "light"
     },
     "output_type": "display_data"
    }
   ],
   "source": [
    "sns.scatterplot(data=df, x='start_ts', y='duration_seconds', hue='is_good_weather')\n",
    "plt.ylim(1000,4000)\n",
    "plt.title('Correlation of Ride characteristics (date, duration) and weather\\n(Zoomed in)');\n",
    "plt.xticks(df['start_ts'].dt.date.unique())\n",
    "plt.xlabel('Date')\n",
    "plt.ylabel('Duration (sec.)')\n",
    "plt.show();"
   ]
  },
  {
   "cell_type": "markdown",
   "id": "18570433",
   "metadata": {},
   "source": [
    "Seems to be raining every other week,  \n",
    "Dispersion looks similar between rainy and non-rainy rides' durations."
   ]
  },
  {
   "cell_type": "markdown",
   "id": "c4519643",
   "metadata": {},
   "source": [
    "<div class=\"alert alert-warning\" role=\"alert\">\n",
    "Reviewer's comment v. 1:\n",
    "    \n",
    "Well done that you added visualization of bad and good weather (histograms to see distributions clearly).\n",
    "</div>"
   ]
  },
  {
   "cell_type": "markdown",
   "id": "21251859",
   "metadata": {},
   "source": [
    "<a class=\"anchor\" id=\"2-hypothesis_test\"></a>\n",
    "### Hypothesis testing\n",
    "[up](#2-hypothesis)"
   ]
  },
  {
   "cell_type": "code",
   "execution_count": 53,
   "id": "33ba9e5d",
   "metadata": {},
   "outputs": [],
   "source": [
    "def test_student_t(df, equal_var=True, alpha=.05):\n",
    "    \"\"\"Calculate the T-test for the means of *two independent* samples of scores.\"\"\"\n",
    "    \n",
    "    groups = [v for k,v in list(df)]\n",
    "    \n",
    "    results = st.ttest_ind(groups[0], groups[1], equal_var=equal_var)\n",
    "    print(f'p-value: {results.pvalue}\\nis p-value < alpha ?\\n\\t{results.pvalue < alpha}')\n",
    "\n",
    "    if results.pvalue < alpha:\n",
    "        print(\"We reject the null hypothesis\")\n",
    "    else:\n",
    "        print(\"We can't reject the null hypothesis\")"
   ]
  },
  {
   "cell_type": "code",
   "execution_count": 54,
   "id": "a08ded4a",
   "metadata": {},
   "outputs": [],
   "source": [
    "def test_levene(df, center, alpha=.05, **kwargs):\n",
    "    \"\"\"Perform Levene test for equal variances.\"\"\"\n",
    "    \n",
    "    groups = [v for k,v in list(df)]\n",
    "    \n",
    "    results = st.levene(groups[0], groups[1], center=center, **kwargs)\n",
    "    print(f'p-value: {results.pvalue}\\nis p-value < alpha ?\\n\\t{results.pvalue < alpha}')\n",
    "\n",
    "    if results.pvalue < alpha:\n",
    "        print(\"We reject the null hypothesis\")\n",
    "    else:\n",
    "        print(\"We can't reject the null hypothesis\")"
   ]
  },
  {
   "cell_type": "code",
   "execution_count": 55,
   "id": "73cc8a20",
   "metadata": {},
   "outputs": [
    {
     "data": {
      "text/html": [
       "<div>\n",
       "<style scoped>\n",
       "    .dataframe tbody tr th:only-of-type {\n",
       "        vertical-align: middle;\n",
       "    }\n",
       "\n",
       "    .dataframe tbody tr th {\n",
       "        vertical-align: top;\n",
       "    }\n",
       "\n",
       "    .dataframe thead th {\n",
       "        text-align: right;\n",
       "    }\n",
       "</style>\n",
       "<table border=\"1\" class=\"dataframe\">\n",
       "  <thead>\n",
       "    <tr style=\"text-align: right;\">\n",
       "      <th></th>\n",
       "      <th>duration_seconds</th>\n",
       "      <th>is_good_weather</th>\n",
       "    </tr>\n",
       "  </thead>\n",
       "  <tbody>\n",
       "    <tr>\n",
       "      <th>0</th>\n",
       "      <td>2410</td>\n",
       "      <td>True</td>\n",
       "    </tr>\n",
       "    <tr>\n",
       "      <th>1</th>\n",
       "      <td>1920</td>\n",
       "      <td>True</td>\n",
       "    </tr>\n",
       "  </tbody>\n",
       "</table>\n",
       "</div>"
      ],
      "text/plain": [
       "   duration_seconds  is_good_weather\n",
       "0              2410             True\n",
       "1              1920             True"
      ]
     },
     "execution_count": 55,
     "metadata": {},
     "output_type": "execute_result"
    }
   ],
   "source": [
    "df_duration_weather = df.iloc[:,1:].groupby('is_good_weather')\n",
    "df_duration_weather.obj.head(2)"
   ]
  },
  {
   "cell_type": "markdown",
   "id": "38204724",
   "metadata": {},
   "source": [
    "#### Variances"
   ]
  },
  {
   "cell_type": "code",
   "execution_count": 56,
   "id": "f935d936",
   "metadata": {},
   "outputs": [
    {
     "data": {
      "text/html": [
       "<div>\n",
       "<style scoped>\n",
       "    .dataframe tbody tr th:only-of-type {\n",
       "        vertical-align: middle;\n",
       "    }\n",
       "\n",
       "    .dataframe tbody tr th {\n",
       "        vertical-align: top;\n",
       "    }\n",
       "\n",
       "    .dataframe thead th {\n",
       "        text-align: right;\n",
       "    }\n",
       "</style>\n",
       "<table border=\"1\" class=\"dataframe\">\n",
       "  <thead>\n",
       "    <tr style=\"text-align: right;\">\n",
       "      <th></th>\n",
       "      <th>duration_seconds</th>\n",
       "    </tr>\n",
       "    <tr>\n",
       "      <th>is_good_weather</th>\n",
       "      <th></th>\n",
       "    </tr>\n",
       "  </thead>\n",
       "  <tbody>\n",
       "    <tr>\n",
       "      <th>False</th>\n",
       "      <td>520294.086002</td>\n",
       "    </tr>\n",
       "    <tr>\n",
       "      <th>True</th>\n",
       "      <td>576382.009690</td>\n",
       "    </tr>\n",
       "  </tbody>\n",
       "</table>\n",
       "</div>"
      ],
      "text/plain": [
       "                 duration_seconds\n",
       "is_good_weather                  \n",
       "False               520294.086002\n",
       "True                576382.009690"
      ]
     },
     "execution_count": 56,
     "metadata": {},
     "output_type": "execute_result"
    }
   ],
   "source": [
    "df_duration_weather.var()"
   ]
  },
  {
   "cell_type": "markdown",
   "id": "29d3ea15",
   "metadata": {},
   "source": [
    "Checking whether the difference of variance is statistically significant:"
   ]
  },
  {
   "cell_type": "code",
   "execution_count": 57,
   "id": "54a33e2a",
   "metadata": {},
   "outputs": [
    {
     "data": {
      "image/png": "[encoded data removed]",
      "text/plain": [
       "<Figure size 936x288 with 2 Axes>"
      ]
     },
     "metadata": {
      "needs_background": "light"
     },
     "output_type": "display_data"
    }
   ],
   "source": [
    "titles_map = {True: 'Good weather', False: 'Bad weather'}\n",
    "fig, axes = plt.subplots(1, 2, figsize=(13, 4))\n",
    "for i, (name, group) in enumerate(df_duration_weather):\n",
    "    ax = axes[i]\n",
    "    ax.set_title(titles_map[name])\n",
    "    sns.kdeplot(data=group, x='duration_seconds', ax=ax, fill=True)\n",
    "plt.suptitle('Distribution of populations under test')\n",
    "plt.show();"
   ]
  },
  {
   "cell_type": "markdown",
   "id": "0c14c315",
   "metadata": {},
   "source": [
    "The distributions look different.  \n",
    "Performing Levene test for variance equality, using center='median' as per documentation:  \n",
    "\"‘median’ : Recommended for skewed (non-normal) distributions\""
   ]
  },
  {
   "cell_type": "markdown",
   "id": "7fc5eff0",
   "metadata": {},
   "source": [
    "<div class=\"alert alert-success\" role=\"alert\">\n",
    "Reviewer's comment v. 2:\n",
    "    \n",
    "Well done that you added visualization of bad and good weather. We can see a differences in distributions, but it's necessary to check it by statistical test.\n",
    "</div>"
   ]
  },
  {
   "cell_type": "code",
   "execution_count": 58,
   "id": "be5b5adf",
   "metadata": {},
   "outputs": [
    {
     "name": "stdout",
     "output_type": "stream",
     "text": [
      "p-value: 0.5332038671974493\n",
      "is p-value < alpha ?\n",
      "\tFalse\n",
      "We can't reject the null hypothesis\n"
     ]
    }
   ],
   "source": [
    "test_levene(df_duration_weather['duration_seconds'], center='median')"
   ]
  },
  {
   "cell_type": "markdown",
   "id": "89408c33",
   "metadata": {},
   "source": [
    "Result suggests that the populations do have equal variances.  \n",
    "Setting equal_var=True."
   ]
  },
  {
   "cell_type": "markdown",
   "id": "70e7d315",
   "metadata": {},
   "source": [
    "#### Hypothesis formulation"
   ]
  },
  {
   "cell_type": "markdown",
   "id": "20c5706d",
   "metadata": {},
   "source": [
    "Testing for equality of the average duration of rides from November 2017, for rainy and non-rainy Saturdays.\n",
    "\n",
    "null hypothesis: The average duration of rides on Rainy and Non-rainy Saturdays is equal.  \n",
    "alternative hypothesis: The average duration of rides on Rainy and Non-rainy Saturdays differs.\n",
    "\n",
    "$$H_0: \\mu_{\\text{Rainy Sat.}} = \\mu_{Non-rainy Sat.}$$\n",
    "$$H_A: \\mu_{\\text{Rainy Sat.}} \\neq \\mu_{Non-rainy Sat.}$$\n",
    "$$\\text{Significance level } \\alpha = 0.05$$"
   ]
  },
  {
   "cell_type": "markdown",
   "id": "15598804",
   "metadata": {},
   "source": [
    "<div class=\"alert alert-success\" role=\"alert\">\n",
    "Reviewer's comment v. 2:\n",
    "    \n",
    "Great, hypotheses formulation is correct :)\n",
    "</div>"
   ]
  },
  {
   "cell_type": "code",
   "execution_count": 59,
   "id": "76c66a05",
   "metadata": {},
   "outputs": [
    {
     "name": "stdout",
     "output_type": "stream",
     "text": [
      "p-value: 6.517970327099473e-12\n",
      "is p-value < alpha ?\n",
      "\tTrue\n",
      "We reject the null hypothesis\n"
     ]
    }
   ],
   "source": [
    "test_student_t(df_duration_weather['duration_seconds'], equal_var=True, alpha=.5)"
   ]
  },
  {
   "cell_type": "markdown",
   "id": "8289fd3d",
   "metadata": {},
   "source": [
    "Resulting p-value is less than the .05 threshold  \n",
    "\\- which means result is statistically significant,  \n",
    "and therefore reject the null hypothesis."
   ]
  },
  {
   "cell_type": "markdown",
   "id": "fb5cbd88",
   "metadata": {},
   "source": [
    "<a class=\"anchor\" id=\"2-hypothesis_conclusions\"></a>\n",
    "### Conclusions\n",
    "[up](#2-hypothesis)"
   ]
  },
  {
   "cell_type": "markdown",
   "id": "eacbc1f4",
   "metadata": {},
   "source": [
    "Average rides' duration of rainy and non-rainy Saturdays are statistically unlikely to be equal.  \n",
    "There is a difference between rides' duration of rainy and non-rainy days."
   ]
  },
  {
   "cell_type": "markdown",
   "id": "8012df59",
   "metadata": {},
   "source": [
    "<div class=\"alert alert-success\" role=\"alert\">\n",
    "Reviewer's comment v. 2:\n",
    "    \n",
    "Yes, there is a statistically significant differences.\n",
    "</div>"
   ]
  },
  {
   "cell_type": "markdown",
   "id": "1d98b46d",
   "metadata": {},
   "source": [
    "<a class=\"anchor\" id=\"3-conclusions\"></a>\n",
    "## Overall Conclusions\n",
    "***\n",
    "[back to Table of Contents](#0_toc)"
   ]
  },
  {
   "cell_type": "markdown",
   "id": "3640f94f",
   "metadata": {},
   "source": [
    "<a class=\"anchor\" id=\"v2-gen_conc\"></a>\n",
    "<div class='alert alert-info'><b>Student comment v. 2:</b><br />\n",
    "I've uploaded an incorrect version of the notebook, <br />\n",
    "below are the updated general conclusions.\n",
    "</div>"
   ]
  },
  {
   "cell_type": "markdown",
   "id": "577b63bb",
   "metadata": {},
   "source": [
    "<!-- Customers use different taxi companies opportunistically, and don’t seem to prefer one over the other.  \n",
    "That is good - and means they are “up for grabs”.  \n",
    "\n",
    "4 Neighborhoods make up 75% of all destinations:\n",
    "* Loop\n",
    "* River North\n",
    "* Streetville\n",
    "* West Loop \n",
    "\n",
    "Regarding weather, visual inspected of the data seemed to show no major difference between length of the ride on rainy days vs. on days with nicer weather.  \n",
    "Upon concluding hypothesis testing, the opposite was revealed:  \n",
    "There is in fact a siignificant statistical difference between the average ride’s duration between rainy and non rainy days.  \n",
    "This could be due to various causes related to rain: slower speeds, traffic jams, damaged roads and floods.\n",
    "\n",
    "To be able to gain more insights, another study has to be done:  \n",
    "one with more data obtained and further research conducted. -->\n",
    "\n",
    "There are 3 major competitors (presented with market shares):\n",
    "- 'Checker Taxi Affiliation' - 27.4%\n",
    "- 'Flash Cab' - 16.7%\n",
    "- 'Chicago Medallion Leasing Inc.' - 10.2%\n",
    "\n",
    "The rest of the companies seem to be used opportunistically, with varying but similar market shares (below 10%). \n",
    "\n",
    "4 Neighborhoods make up 75% of all destinations:\n",
    "* Loop\n",
    "* River North\n",
    "* Streetville\n",
    "* West Loop  \n",
    "\n",
    "\\* O'Hare (5th) being another area of interest, since it contains an Airport.\n",
    "\n",
    "Regarding weather, visual inspected of the data seemed to show no major difference between length of the ride on rainy days vs. on days with nicer weather.  \n",
    "Upon concluding hypothesis testing, the opposite was revealed:  \n",
    "There is in fact a siignificant statistical difference between the average ride’s duration between rainy and non rainy days.  \n",
    "This could be due to various causes related to rain: slower speeds, traffic jams, damaged roads and floods.\n",
    "\n",
    "To be able to gain more insights, another study has to be done,  \n",
    "one with more data obtained and further research conducted, specifically:  \n",
    "We need to cross reference which companies serve which clientele, with details about pick-up and drop-off locations.  \n",
    "Then conduct extra research about the preferences and opinions of those clients."
   ]
  },
  {
   "cell_type": "markdown",
   "id": "287f9c56",
   "metadata": {},
   "source": [
    "<div class=\"alert alert-success\" role=\"alert\">\n",
    "Reviewer's comment v. 2:\n",
    "    \n",
    "Yes, it's a really good idea to conduct mode detailed analysis. 👍👍👍\n",
    "</div>"
   ]
  },
  {
   "cell_type": "markdown",
   "id": "85c48a14",
   "metadata": {},
   "source": [
    "<div class=\"alert alert-success\" role=\"alert\">\n",
    "Reviewer's comment v. 3:\n",
    "    \n",
    "Great, now your conclusion is perfect :)\n",
    "</div>"
   ]
  },
  {
   "cell_type": "code",
   "execution_count": null,
   "id": "2b23169d",
   "metadata": {},
   "outputs": [],
   "source": []
  }
 ],
 "metadata": {
  "ExecuteTimeLog": [
   {
    "duration": 1596,
    "start_time": "2021-07-13T15:15:13.328Z"
   },
   {
    "duration": 4,
    "start_time": "2021-07-13T15:15:14.926Z"
   },
   {
    "duration": 232095,
    "start_time": "2021-07-13T15:15:14.933Z"
   },
   {
    "duration": 5,
    "start_time": "2021-07-13T15:19:07.031Z"
   },
   {
    "duration": 44,
    "start_time": "2021-07-13T15:19:07.039Z"
   },
   {
    "duration": 23,
    "start_time": "2021-07-13T15:19:07.086Z"
   },
   {
    "duration": 22,
    "start_time": "2021-07-13T15:19:07.112Z"
   },
   {
    "duration": 32,
    "start_time": "2021-07-13T15:19:07.140Z"
   },
   {
    "duration": 21,
    "start_time": "2021-07-13T15:19:07.176Z"
   },
   {
    "duration": 79593,
    "start_time": "2021-07-13T15:19:07.200Z"
   },
   {
    "duration": 11,
    "start_time": "2021-07-13T15:20:26.796Z"
   },
   {
    "duration": 18,
    "start_time": "2021-07-13T15:20:26.809Z"
   },
   {
    "duration": 577,
    "start_time": "2021-07-13T15:20:26.829Z"
   },
   {
    "duration": 486,
    "start_time": "2021-07-13T15:20:27.409Z"
   },
   {
    "duration": 12,
    "start_time": "2021-07-13T15:20:27.897Z"
   },
   {
    "duration": 9,
    "start_time": "2021-07-13T15:20:27.911Z"
   },
   {
    "duration": 13,
    "start_time": "2021-07-13T15:20:27.922Z"
   },
   {
    "duration": 32,
    "start_time": "2021-07-13T15:20:27.937Z"
   },
   {
    "duration": 459,
    "start_time": "2021-07-13T15:20:27.971Z"
   },
   {
    "duration": 11,
    "start_time": "2021-07-13T15:20:28.432Z"
   },
   {
    "duration": 29,
    "start_time": "2021-07-13T15:20:28.446Z"
   },
   {
    "duration": 496,
    "start_time": "2021-07-13T15:20:28.477Z"
   },
   {
    "duration": 370,
    "start_time": "2021-07-13T15:20:28.978Z"
   },
   {
    "duration": 49,
    "start_time": "2021-07-13T15:20:29.352Z"
   },
   {
    "duration": 13,
    "start_time": "2021-07-13T15:20:29.403Z"
   },
   {
    "duration": 16,
    "start_time": "2021-07-13T15:20:29.419Z"
   },
   {
    "duration": 26,
    "start_time": "2021-07-13T15:20:29.438Z"
   },
   {
    "duration": 21,
    "start_time": "2021-07-13T15:20:29.466Z"
   },
   {
    "duration": 15,
    "start_time": "2021-07-13T15:20:29.490Z"
   },
   {
    "duration": 24,
    "start_time": "2021-07-13T15:20:29.507Z"
   },
   {
    "duration": 14,
    "start_time": "2021-07-13T15:20:29.534Z"
   },
   {
    "duration": 32,
    "start_time": "2021-07-13T15:20:29.551Z"
   },
   {
    "duration": 39,
    "start_time": "2021-07-13T15:20:29.585Z"
   },
   {
    "duration": 11,
    "start_time": "2021-07-13T15:20:29.626Z"
   },
   {
    "duration": 7,
    "start_time": "2021-07-13T15:20:29.662Z"
   },
   {
    "duration": 29,
    "start_time": "2021-07-13T15:20:29.671Z"
   },
   {
    "duration": 4,
    "start_time": "2021-07-13T15:20:29.703Z"
   },
   {
    "duration": 501,
    "start_time": "2021-07-13T15:20:29.709Z"
   },
   {
    "duration": 621,
    "start_time": "2021-07-13T15:20:30.212Z"
   },
   {
    "duration": 661,
    "start_time": "2021-07-13T15:20:30.836Z"
   },
   {
    "duration": 903,
    "start_time": "2021-07-13T15:20:31.500Z"
   },
   {
    "duration": 6,
    "start_time": "2021-07-13T15:20:32.406Z"
   },
   {
    "duration": 22,
    "start_time": "2021-07-13T15:20:32.415Z"
   },
   {
    "duration": 26,
    "start_time": "2021-07-13T15:20:32.439Z"
   },
   {
    "duration": 14,
    "start_time": "2021-07-13T15:20:32.467Z"
   },
   {
    "duration": 902,
    "start_time": "2021-07-13T15:20:32.483Z"
   },
   {
    "duration": -24,
    "start_time": "2021-07-13T15:20:33.411Z"
   },
   {
    "duration": -26,
    "start_time": "2021-07-13T15:20:33.414Z"
   },
   {
    "duration": 1625,
    "start_time": "2021-07-13T15:21:03.866Z"
   },
   {
    "duration": 4,
    "start_time": "2021-07-13T15:21:05.494Z"
   },
   {
    "duration": 208483,
    "start_time": "2021-07-13T15:21:05.500Z"
   },
   {
    "duration": 6,
    "start_time": "2021-07-13T15:24:33.987Z"
   },
   {
    "duration": 66,
    "start_time": "2021-07-13T15:24:33.996Z"
   },
   {
    "duration": 22,
    "start_time": "2021-07-13T15:24:34.064Z"
   },
   {
    "duration": 15,
    "start_time": "2021-07-13T15:24:34.089Z"
   },
   {
    "duration": 9,
    "start_time": "2021-07-13T15:24:34.108Z"
   },
   {
    "duration": 12,
    "start_time": "2021-07-13T15:24:34.120Z"
   },
   {
    "duration": 75012,
    "start_time": "2021-07-13T15:24:34.135Z"
   },
   {
    "duration": 20,
    "start_time": "2021-07-13T15:25:49.149Z"
   },
   {
    "duration": 20,
    "start_time": "2021-07-13T15:25:49.171Z"
   },
   {
    "duration": 581,
    "start_time": "2021-07-13T15:25:49.194Z"
   },
   {
    "duration": 395,
    "start_time": "2021-07-13T15:25:49.778Z"
   },
   {
    "duration": 15,
    "start_time": "2021-07-13T15:25:50.176Z"
   },
   {
    "duration": 12,
    "start_time": "2021-07-13T15:25:50.194Z"
   },
   {
    "duration": 17,
    "start_time": "2021-07-13T15:25:50.209Z"
   },
   {
    "duration": 38,
    "start_time": "2021-07-13T15:25:50.229Z"
   },
   {
    "duration": 388,
    "start_time": "2021-07-13T15:25:50.270Z"
   },
   {
    "duration": 11,
    "start_time": "2021-07-13T15:25:50.662Z"
   },
   {
    "duration": 14,
    "start_time": "2021-07-13T15:25:50.676Z"
   },
   {
    "duration": 623,
    "start_time": "2021-07-13T15:25:50.693Z"
   },
   {
    "duration": 375,
    "start_time": "2021-07-13T15:25:51.323Z"
   },
   {
    "duration": 33,
    "start_time": "2021-07-13T15:25:51.700Z"
   },
   {
    "duration": 14,
    "start_time": "2021-07-13T15:25:51.736Z"
   },
   {
    "duration": 13,
    "start_time": "2021-07-13T15:25:51.753Z"
   },
   {
    "duration": 16,
    "start_time": "2021-07-13T15:25:51.768Z"
   },
   {
    "duration": 24,
    "start_time": "2021-07-13T15:25:51.787Z"
   },
   {
    "duration": 8,
    "start_time": "2021-07-13T15:25:51.814Z"
   },
   {
    "duration": 7,
    "start_time": "2021-07-13T15:25:51.863Z"
   },
   {
    "duration": 9,
    "start_time": "2021-07-13T15:25:51.873Z"
   },
   {
    "duration": 23,
    "start_time": "2021-07-13T15:25:51.885Z"
   },
   {
    "duration": 91,
    "start_time": "2021-07-13T15:25:51.912Z"
   },
   {
    "duration": 14,
    "start_time": "2021-07-13T15:25:52.006Z"
   },
   {
    "duration": 19,
    "start_time": "2021-07-13T15:25:52.023Z"
   },
   {
    "duration": 19,
    "start_time": "2021-07-13T15:25:52.063Z"
   },
   {
    "duration": 5,
    "start_time": "2021-07-13T15:25:52.085Z"
   },
   {
    "duration": 683,
    "start_time": "2021-07-13T15:25:52.093Z"
   },
   {
    "duration": 763,
    "start_time": "2021-07-13T15:25:52.779Z"
   },
   {
    "duration": 669,
    "start_time": "2021-07-13T15:25:53.544Z"
   },
   {
    "duration": 680,
    "start_time": "2021-07-13T15:25:54.215Z"
   },
   {
    "duration": 6,
    "start_time": "2021-07-13T15:25:54.897Z"
   },
   {
    "duration": 10,
    "start_time": "2021-07-13T15:25:54.905Z"
   },
   {
    "duration": 16,
    "start_time": "2021-07-13T15:25:54.917Z"
   },
   {
    "duration": 34,
    "start_time": "2021-07-13T15:25:54.935Z"
   },
   {
    "duration": 579,
    "start_time": "2021-07-13T15:25:54.971Z"
   },
   {
    "duration": 14,
    "start_time": "2021-07-13T15:25:55.552Z"
   },
   {
    "duration": 8,
    "start_time": "2021-07-13T15:25:55.568Z"
   },
   {
    "duration": 1668,
    "start_time": "2021-07-14T11:13:32.209Z"
   },
   {
    "duration": 5,
    "start_time": "2021-07-14T11:13:33.880Z"
   },
   {
    "duration": 370333,
    "start_time": "2021-07-14T11:13:33.888Z"
   },
   {
    "duration": 7,
    "start_time": "2021-07-14T11:19:44.225Z"
   },
   {
    "duration": 38,
    "start_time": "2021-07-14T11:19:44.236Z"
   },
   {
    "duration": 23,
    "start_time": "2021-07-14T11:19:44.278Z"
   },
   {
    "duration": 16,
    "start_time": "2021-07-14T11:19:44.304Z"
   },
   {
    "duration": 12,
    "start_time": "2021-07-14T11:19:44.324Z"
   },
   {
    "duration": 48,
    "start_time": "2021-07-14T11:19:44.339Z"
   },
   {
    "duration": 153568,
    "start_time": "2021-07-14T11:19:44.390Z"
   },
   {
    "duration": 25,
    "start_time": "2021-07-14T11:22:17.962Z"
   },
   {
    "duration": 16,
    "start_time": "2021-07-14T11:22:17.990Z"
   },
   {
    "duration": 580,
    "start_time": "2021-07-14T11:22:18.009Z"
   },
   {
    "duration": 399,
    "start_time": "2021-07-14T11:22:18.591Z"
   },
   {
    "duration": 14,
    "start_time": "2021-07-14T11:22:18.993Z"
   },
   {
    "duration": 7,
    "start_time": "2021-07-14T11:22:19.010Z"
   },
   {
    "duration": 12,
    "start_time": "2021-07-14T11:22:19.020Z"
   },
   {
    "duration": 53,
    "start_time": "2021-07-14T11:22:19.035Z"
   },
   {
    "duration": 462,
    "start_time": "2021-07-14T11:22:19.090Z"
   },
   {
    "duration": 13,
    "start_time": "2021-07-14T11:22:19.554Z"
   },
   {
    "duration": 14,
    "start_time": "2021-07-14T11:22:19.587Z"
   },
   {
    "duration": 496,
    "start_time": "2021-07-14T11:22:19.604Z"
   },
   {
    "duration": 357,
    "start_time": "2021-07-14T11:22:20.105Z"
   },
   {
    "duration": 39,
    "start_time": "2021-07-14T11:22:20.465Z"
   },
   {
    "duration": 14,
    "start_time": "2021-07-14T11:22:20.507Z"
   },
   {
    "duration": 22,
    "start_time": "2021-07-14T11:22:20.524Z"
   },
   {
    "duration": 20,
    "start_time": "2021-07-14T11:22:20.549Z"
   },
   {
    "duration": 15,
    "start_time": "2021-07-14T11:22:20.586Z"
   },
   {
    "duration": 15,
    "start_time": "2021-07-14T11:22:20.604Z"
   },
   {
    "duration": 11,
    "start_time": "2021-07-14T11:22:20.621Z"
   },
   {
    "duration": 13,
    "start_time": "2021-07-14T11:22:20.634Z"
   },
   {
    "duration": 48,
    "start_time": "2021-07-14T11:22:20.649Z"
   },
   {
    "duration": 53,
    "start_time": "2021-07-14T11:22:20.699Z"
   },
   {
    "duration": 44,
    "start_time": "2021-07-14T11:22:20.755Z"
   },
   {
    "duration": 12,
    "start_time": "2021-07-14T11:22:20.802Z"
   },
   {
    "duration": 18,
    "start_time": "2021-07-14T11:22:20.817Z"
   },
   {
    "duration": 3,
    "start_time": "2021-07-14T11:22:20.839Z"
   },
   {
    "duration": 729,
    "start_time": "2021-07-14T11:22:20.845Z"
   },
   {
    "duration": 578,
    "start_time": "2021-07-14T11:22:21.576Z"
   },
   {
    "duration": 664,
    "start_time": "2021-07-14T11:22:22.157Z"
   },
   {
    "duration": 702,
    "start_time": "2021-07-14T11:22:22.824Z"
   },
   {
    "duration": 6,
    "start_time": "2021-07-14T11:22:23.529Z"
   },
   {
    "duration": 13,
    "start_time": "2021-07-14T11:22:23.538Z"
   },
   {
    "duration": 11,
    "start_time": "2021-07-14T11:22:23.586Z"
   },
   {
    "duration": 12,
    "start_time": "2021-07-14T11:22:23.599Z"
   },
   {
    "duration": 1322,
    "start_time": "2021-07-14T11:22:23.613Z"
   },
   {
    "duration": -3008,
    "start_time": "2021-07-14T11:22:27.945Z"
   },
   {
    "duration": -3010,
    "start_time": "2021-07-14T11:22:27.949Z"
   },
   {
    "duration": 1621,
    "start_time": "2021-07-14T11:42:40.020Z"
   },
   {
    "duration": 4,
    "start_time": "2021-07-14T11:42:41.644Z"
   },
   {
    "duration": 2791,
    "start_time": "2021-07-14T11:57:41.230Z"
   },
   {
    "duration": 4,
    "start_time": "2021-07-14T11:57:44.024Z"
   },
   {
    "duration": 611802,
    "start_time": "2021-07-14T11:57:44.031Z"
   },
   {
    "duration": 7,
    "start_time": "2021-07-14T12:07:55.838Z"
   },
   {
    "duration": 77,
    "start_time": "2021-07-14T12:07:55.847Z"
   },
   {
    "duration": 23,
    "start_time": "2021-07-14T12:07:55.926Z"
   },
   {
    "duration": 68,
    "start_time": "2021-07-14T12:07:55.951Z"
   },
   {
    "duration": 17,
    "start_time": "2021-07-14T12:07:56.021Z"
   },
   {
    "duration": 11,
    "start_time": "2021-07-14T12:07:56.042Z"
   },
   {
    "duration": 843,
    "start_time": "2021-07-14T12:07:56.113Z"
   },
   {
    "duration": 18,
    "start_time": "2021-07-14T12:07:57.010Z"
   },
   {
    "duration": 14,
    "start_time": "2021-07-14T12:07:57.030Z"
   },
   {
    "duration": 1104,
    "start_time": "2021-07-14T12:07:57.047Z"
   },
   {
    "duration": 742,
    "start_time": "2021-07-14T12:07:58.209Z"
   },
   {
    "duration": 59,
    "start_time": "2021-07-14T12:07:58.953Z"
   },
   {
    "duration": 19,
    "start_time": "2021-07-14T12:07:59.015Z"
   },
   {
    "duration": 19,
    "start_time": "2021-07-14T12:07:59.037Z"
   },
   {
    "duration": 11,
    "start_time": "2021-07-14T12:07:59.110Z"
   },
   {
    "duration": 502,
    "start_time": "2021-07-14T12:07:59.124Z"
   },
   {
    "duration": 12,
    "start_time": "2021-07-14T12:07:59.629Z"
   },
   {
    "duration": 15,
    "start_time": "2021-07-14T12:07:59.643Z"
   },
   {
    "duration": 603,
    "start_time": "2021-07-14T12:07:59.660Z"
   },
   {
    "duration": 403,
    "start_time": "2021-07-14T12:08:00.266Z"
   },
   {
    "duration": 48,
    "start_time": "2021-07-14T12:08:00.671Z"
   },
   {
    "duration": 8,
    "start_time": "2021-07-14T12:08:00.721Z"
   },
   {
    "duration": 20,
    "start_time": "2021-07-14T12:08:00.731Z"
   },
   {
    "duration": 33,
    "start_time": "2021-07-14T12:08:00.757Z"
   },
   {
    "duration": 53,
    "start_time": "2021-07-14T12:08:00.794Z"
   },
   {
    "duration": 23,
    "start_time": "2021-07-14T12:08:00.851Z"
   },
   {
    "duration": 16,
    "start_time": "2021-07-14T12:08:00.877Z"
   },
   {
    "duration": 14,
    "start_time": "2021-07-14T12:08:00.895Z"
   },
   {
    "duration": 20,
    "start_time": "2021-07-14T12:08:00.912Z"
   },
   {
    "duration": 61,
    "start_time": "2021-07-14T12:08:00.935Z"
   },
   {
    "duration": 11,
    "start_time": "2021-07-14T12:08:01.009Z"
   },
   {
    "duration": 10,
    "start_time": "2021-07-14T12:08:01.023Z"
   },
   {
    "duration": 27,
    "start_time": "2021-07-14T12:08:01.036Z"
   },
   {
    "duration": 9,
    "start_time": "2021-07-14T12:08:01.066Z"
   },
   {
    "duration": 587,
    "start_time": "2021-07-14T12:08:01.078Z"
   },
   {
    "duration": 756,
    "start_time": "2021-07-14T12:08:01.668Z"
   },
   {
    "duration": 669,
    "start_time": "2021-07-14T12:08:02.427Z"
   },
   {
    "duration": 683,
    "start_time": "2021-07-14T12:08:03.108Z"
   },
   {
    "duration": 15,
    "start_time": "2021-07-14T12:08:03.794Z"
   },
   {
    "duration": 11,
    "start_time": "2021-07-14T12:08:03.811Z"
   },
   {
    "duration": 13,
    "start_time": "2021-07-14T12:08:03.825Z"
   },
   {
    "duration": 14,
    "start_time": "2021-07-14T12:08:03.840Z"
   },
   {
    "duration": 28986,
    "start_time": "2021-07-14T12:08:03.856Z"
   },
   {
    "duration": -75,
    "start_time": "2021-07-14T12:08:32.920Z"
   },
   {
    "duration": -89,
    "start_time": "2021-07-14T12:08:32.935Z"
   },
   {
    "duration": 6,
    "start_time": "2021-07-14T12:29:45.731Z"
   },
   {
    "duration": 69,
    "start_time": "2021-07-14T12:29:45.739Z"
   }
  ],
  "kernelspec": {
   "display_name": "Python 3",
   "language": "python",
   "name": "python3"
  },
  "language_info": {
   "codemirror_mode": {
    "name": "ipython",
    "version": 3
   },
   "file_extension": ".py",
   "mimetype": "text/x-python",
   "name": "python",
   "nbconvert_exporter": "python",
   "pygments_lexer": "ipython3",
   "version": "3.8.10"
  },
  "toc": {
   "base_numbering": 1,
   "nav_menu": {},
   "number_sections": true,
   "sideBar": true,
   "skip_h1_title": true,
   "title_cell": "Table of Contents",
   "title_sidebar": "Contents",
   "toc_cell": false,
   "toc_position": {},
   "toc_section_display": true,
   "toc_window_display": false
  }
 },
 "nbformat": 4,
 "nbformat_minor": 5
}
